{
 "cells": [
  {
   "cell_type": "markdown",
   "metadata": {},
   "source": [
    "## Scalar differentiation"
   ]
  },
  {
   "cell_type": "code",
   "execution_count": 2,
   "metadata": {},
   "outputs": [
    {
     "name": "stdout",
     "output_type": "stream",
     "text": [
      "\n",
      "Expression : \n",
      "         5\n",
      "(a + 2⋅b) \n",
      "\n",
      "\n",
      "Differentiating w.r.t. a:\n",
      "           4\n",
      "5⋅(a + 2⋅b) \n",
      "\n",
      "\n",
      "Differentiating w.r.t. b:\n",
      "            4\n",
      "10⋅(a + 2⋅b) \n",
      "\n",
      "\n",
      "Second derivative of the above result w.r.t. a:\n",
      "             2\n",
      "120⋅(a + 2⋅b) \n",
      "\n",
      "\n",
      "Expanding the above result:\n",
      "    ⎛ 2              2⎞\n",
      "120⋅⎝a  + 4⋅a⋅b + 4⋅b ⎠\n"
     ]
    }
   ],
   "source": [
    "from sympy import *\n",
    "\n",
    "a = sympy.Symbol('a')\n",
    "b = sympy.Symbol('b')\n",
    "e = (a + 2*b)**5\n",
    "\n",
    "print(\"\\nExpression : \")\n",
    "pprint(e)\n",
    "print(\"\\n\\nDifferentiating w.r.t. a:\")\n",
    "pprint(e.diff(a))\n",
    "print(\"\\n\\nDifferentiating w.r.t. b:\")\n",
    "pprint(e.diff(b))\n",
    "print(\"\\n\\nSecond derivative of the above result w.r.t. a:\")\n",
    "pprint(e.diff(b).diff(a, 2))\n",
    "print(\"\\n\\nExpanding the above result:\")\n",
    "pprint(e.expand().diff(b).diff(a, 2))"
   ]
  },
  {
   "cell_type": "markdown",
   "metadata": {},
   "source": [
    "## Approximate differentiation"
   ]
  },
  {
   "cell_type": "code",
   "execution_count": 3,
   "metadata": {
    "collapsed": true
   },
   "outputs": [],
   "source": [
    "from sympy import *\n",
    "from sympy.printing.str import StrPrinter\n",
    "from sympy.printing.latex import LatexPrinter\n",
    "\n",
    " \n",
    " \n",
    "#####  M  E  T  H  O  D  S\n",
    " \n",
    " \n",
    " \n",
    "def matrices(names):\n",
    "    ''' Call with  A,B,C = matrix('A B C') '''\n",
    "    return symbols(names,commutative=False)\n",
    " \n",
    " \n",
    "# Transformations\n",
    " \n",
    "d = Function(\"d\",commutative=False)\n",
    "inv = Function(\"inv\",commutative=False)\n",
    " \n",
    "class t(Function):\n",
    "    ''' The transposition, with special rules\n",
    "        t(A+B) = t(A) + t(B) and t(AB) = t(B)t(A) '''\n",
    "    is_commutative = False\n",
    "    def __new__(cls,arg):\n",
    "        if arg.is_Add:\n",
    "            return Add(*[t(A) for A in arg.args])\n",
    "        elif arg.is_Mul:\n",
    "            L = len(arg.args)\n",
    "            return Mul(*[t(arg.args[L-i-1]) for i in range(L)])\n",
    "        else:\n",
    "            return Function.__new__(cls,arg)\n",
    " \n",
    " \n",
    "# Differentiation\n",
    " \n",
    "MATRIX_DIFF_RULES = { \n",
    "         \n",
    "        # e =expression, s = a list of symbols respsect to which\n",
    "        # we want to differentiate\n",
    "         \n",
    "        Symbol : lambda e,s : d(e) if s.has(e) else 0,\n",
    "        Add :  lambda e,s : Add(*[matDiff(arg,s) for arg in e.args]),\n",
    "        Mul :  lambda e,s : Mul(matDiff(e.args[0],s),Mul(*e.args[1:]))\n",
    "                      +  Mul(e.args[0],matDiff(Mul(*e.args[1:]),s)) ,\n",
    "        t :   lambda e,s : t( matDiff(e.args[0],s) ),\n",
    "        inv : lambda e,s : - e * matDiff(e.args[0],s) * e\n",
    "}\n",
    " \n",
    "def matDiff(expr,symbols):\n",
    "    if expr.__class__ in MATRIX_DIFF_RULES.keys():\n",
    "        return  MATRIX_DIFF_RULES[expr.__class__](expr,symbols)\n",
    "    else:\n",
    "        return 0\n",
    " \n",
    " \n",
    " \n",
    "#####  C  O  S  M  E  T  I  C  S\n",
    " \n",
    " \n",
    "# Console mode\n",
    " \n",
    "class matStrPrinter(StrPrinter):\n",
    "    ''' Nice printing for console mode : X¯¹, X', ∂X '''\n",
    "     \n",
    "    def _print_inv(self, expr):\n",
    "        if expr.args[0].is_Symbol:\n",
    "            return  self._print(expr.args[0]) +'¯¹'\n",
    "        else:\n",
    "            return '(' +  self._print(expr.args[0]) + ')¯¹'\n",
    "     \n",
    "    def _print_t(self, expr):\n",
    "        return  self._print(expr.args[0]) +\"'\"\n",
    "     \n",
    "    def _print_d(self, expr):\n",
    "        if expr.args[0].is_Symbol:\n",
    "            return '∂'+  self._print(expr.args[0])\n",
    "        else:\n",
    "            return '∂('+  self._print(expr.args[0]) +')'   \n",
    " \n",
    "def matPrint(m):\n",
    "    mem = Basic.__str__ \n",
    "    Basic.__str__ = lambda self: matStrPrinter().doprint(self)\n",
    "    print(str(m).replace('*',''))\n",
    "    Basic.__str__ = mem\n",
    " \n",
    " \n",
    "# Latex mode\n",
    " \n",
    "class matLatPrinter(LatexPrinter):\n",
    "    ''' Printing instructions for latex : X^{-1},  X^T, \\partial X '''\n",
    "     \n",
    "    def _print_inv(self, expr):\n",
    "        if expr.args[0].is_Symbol:\n",
    "            return self._print(expr.args[0]) +'^{-1}'\n",
    "        else:\n",
    "            return '(' + self._print(expr.args[0]) + ')^{-1}'\n",
    "    def _print_t(self, expr):\n",
    "        return  self._print(expr.args[0]) +'^T'\n",
    "     \n",
    "    def _print_d(self, expr):\n",
    "        if expr.args[0].is_Symbol:\n",
    "            return '\\partial '+ self._print(expr.args[0])\n",
    "        else:\n",
    "            return '\\partial ('+ self._print(expr.args[0]) +')'\n",
    " \n",
    "def matLatex(expr, profile=None, **kargs):\n",
    "    if profile is not None:\n",
    "        profile.update(kargs)\n",
    "    else:\n",
    "        profile = kargs\n",
    "    return matLatPrinter(profile).doprint(expr)"
   ]
  },
  {
   "cell_type": "markdown",
   "metadata": {},
   "source": [
    "$ H = X {(X^T S^{-1} X)}^{-1} X^T S^{-1} $\n",
    "\n",
    "How much is $\\displaystyle \\frac{\\partial H}{\\partial X}$?"
   ]
  },
  {
   "cell_type": "code",
   "execution_count": 4,
   "metadata": {
    "collapsed": true
   },
   "outputs": [],
   "source": [
    "X, S = matrices(\"X S\")\n",
    "H = X * inv(t(X) * inv(S) * X) * t(X) * inv(S)"
   ]
  },
  {
   "cell_type": "code",
   "execution_count": 5,
   "metadata": {},
   "outputs": [
    {
     "data": {
      "text/plain": [
       "-X*inv(t(X)*inv(S)*X)*t(X)*inv(S)*d(X)*inv(t(X)*inv(S)*X)*t(X)*inv(S) + X*inv(t(X)*inv(S)*X)*t(d(X))*inv(S) - X*inv(t(X)*inv(S)*X)*t(d(X))*inv(S)*X*inv(t(X)*inv(S)*X)*t(X)*inv(S) + d(X)*inv(t(X)*inv(S)*X)*t(X)*inv(S)"
      ]
     },
     "execution_count": 5,
     "metadata": {},
     "output_type": "execute_result"
    }
   ],
   "source": [
    "expr = expand(expand(matDiff(H,X)))\n",
    "expr"
   ]
  },
  {
   "cell_type": "code",
   "execution_count": 6,
   "metadata": {},
   "outputs": [
    {
     "name": "stdout",
     "output_type": "stream",
     "text": [
      "-X(X'S¯¹X)¯¹X'S¯¹∂X(X'S¯¹X)¯¹X'S¯¹ + X(X'S¯¹X)¯¹∂X'S¯¹ - X(X'S¯¹X)¯¹∂X'S¯¹X(X'S¯¹X)¯¹X'S¯¹ + ∂X(X'S¯¹X)¯¹X'S¯¹\n"
     ]
    }
   ],
   "source": [
    "matPrint(expr)"
   ]
  },
  {
   "cell_type": "code",
   "execution_count": 7,
   "metadata": {},
   "outputs": [
    {
     "data": {
      "text/plain": [
       "'X \\\\left(- (X^T S^{-1} X)^{-1} \\\\left(X^T S^{-1} \\\\partial X + \\\\partial X^T S^{-1} X\\\\right) (X^T S^{-1} X)^{-1} X^T S^{-1} + (X^T S^{-1} X)^{-1} \\\\partial X^T S^{-1}\\\\right) + \\\\partial X (X^T S^{-1} X)^{-1} X^T S^{-1}'"
      ]
     },
     "execution_count": 7,
     "metadata": {},
     "output_type": "execute_result"
    }
   ],
   "source": [
    "latex = matLatex(matDiff(H,X))\n",
    "latex"
   ]
  },
  {
   "cell_type": "code",
   "execution_count": 8,
   "metadata": {},
   "outputs": [
    {
     "data": {
      "text/latex": [
       "$$X \\left(- (X^T S^{-1} X)^{-1} \\left(X^T S^{-1} \\partial X + \\partial X^T S^{-1} X\\right) (X^T S^{-1} X)^{-1} X^T S^{-1} + (X^T S^{-1} X)^{-1} \\partial X^T S^{-1}\\right) + \\partial X (X^T S^{-1} X)^{-1} X^T S^{-1}$$"
      ],
      "text/plain": [
       "<IPython.core.display.Math object>"
      ]
     },
     "execution_count": 8,
     "metadata": {},
     "output_type": "execute_result"
    }
   ],
   "source": [
    "from IPython.display import Math\n",
    "\n",
    "Math(latex)"
   ]
  },
  {
   "cell_type": "markdown",
   "metadata": {},
   "source": [
    "## Matrix differentiation"
   ]
  },
  {
   "cell_type": "markdown",
   "metadata": {},
   "source": [
    "If $E = x^T A x$ then:\n",
    "\n",
    "$ \\displaystyle \\frac{\\partial E}{\\partial x} = x^T (A + A^T) $"
   ]
  },
  {
   "cell_type": "code",
   "execution_count": 95,
   "metadata": {},
   "outputs": [
    {
     "name": "stdout",
     "output_type": "stream",
     "text": [
      "x.T*A*x\n"
     ]
    }
   ],
   "source": [
    "x = MatrixSymbol('x', 3, 1)\n",
    "A = MatrixSymbol('A', 3, 3)\n",
    "\n",
    "alpha = x.T * A * x\n",
    "print(alpha)"
   ]
  },
  {
   "cell_type": "code",
   "execution_count": 96,
   "metadata": {},
   "outputs": [
    {
     "name": "stdout",
     "output_type": "stream",
     "text": [
      "Matrix([[(A[0, 0]*x[0, 0] + A[0, 1]*x[1, 0] + A[0, 2]*x[2, 0])*x[0, 0] + (A[1, 0]*x[0, 0] + A[1, 1]*x[1, 0] + A[1, 2]*x[2, 0])*x[1, 0] + (A[2, 0]*x[0, 0] + A[2, 1]*x[1, 0] + A[2, 2]*x[2, 0])*x[2, 0]]])\n"
     ]
    }
   ],
   "source": [
    "print(Matrix(alpha))"
   ]
  },
  {
   "cell_type": "code",
   "execution_count": 98,
   "metadata": {},
   "outputs": [
    {
     "name": "stdout",
     "output_type": "stream",
     "text": [
      "Matrix([[2*A[0, 0]*x[0, 0] + A[0, 1]*x[1, 0] + A[0, 2]*x[2, 0] + A[1, 0]*x[1, 0] + A[2, 0]*x[2, 0]]])\n"
     ]
    }
   ],
   "source": [
    "print(Matrix(alpha).diff(x[0, 0]))"
   ]
  },
  {
   "cell_type": "code",
   "execution_count": 99,
   "metadata": {},
   "outputs": [
    {
     "name": "stdout",
     "output_type": "stream",
     "text": [
      "2*A[0, 0]*x[0, 0] + A[0, 1]*x[1, 0] + A[0, 2]*x[2, 0] + A[1, 0]*x[1, 0] + A[2, 0]*x[2, 0]\n",
      "A[0, 1]*x[0, 0] + A[1, 0]*x[0, 0] + 2*A[1, 1]*x[1, 0] + A[1, 2]*x[2, 0] + A[2, 1]*x[2, 0]\n",
      "A[0, 2]*x[0, 0] + A[1, 2]*x[1, 0] + A[2, 0]*x[0, 0] + A[2, 1]*x[1, 0] + 2*A[2, 2]*x[2, 0]\n"
     ]
    }
   ],
   "source": [
    "for expr in derive_by_array(Matrix(alpha), Matrix(x)):\n",
    "    print(expr)"
   ]
  },
  {
   "cell_type": "code",
   "execution_count": 100,
   "metadata": {},
   "outputs": [
    {
     "data": {
      "text/plain": [
       "Matrix([[0, 0, 0]])"
      ]
     },
     "execution_count": 100,
     "metadata": {},
     "output_type": "execute_result"
    }
   ],
   "source": [
    "expr1 = Matrix(derive_by_array(Matrix(alpha), Matrix(x))).T\n",
    "expr2 = Matrix(x.T * (A + A.T))\n",
    "simplify(expr1 - expr2)"
   ]
  },
  {
   "cell_type": "code",
   "execution_count": null,
   "metadata": {
    "collapsed": true
   },
   "outputs": [],
   "source": []
  }
 ],
 "metadata": {
  "kernelspec": {
   "display_name": "Python 36",
   "language": "python",
   "name": "py36"
  },
  "language_info": {
   "codemirror_mode": {
    "name": "ipython",
    "version": 3
   },
   "file_extension": ".py",
   "mimetype": "text/x-python",
   "name": "python",
   "nbconvert_exporter": "python",
   "pygments_lexer": "ipython3",
   "version": "3.6.3"
  }
 },
 "nbformat": 4,
 "nbformat_minor": 2
}
