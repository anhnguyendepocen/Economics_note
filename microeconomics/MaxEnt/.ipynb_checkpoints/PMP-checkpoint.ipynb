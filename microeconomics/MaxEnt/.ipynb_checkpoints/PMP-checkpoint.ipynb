{
 "cells": [
  {
   "cell_type": "markdown",
   "metadata": {},
   "source": [
    "https://github.com/sympy/sympy/pull/13565\n",
    "\n",
    "https://zulko.wordpress.com/2012/04/15/symbolic-matrix-differentiation-with-sympy/\n",
    "\n",
    "https://stackoverflow.com/questions/37691989/symbolic-matrix-differentiation-with-sympy\n",
    "\n",
    "\n",
    "http://tryalgo.org/en/arithmetics/2017/07/13/sympy-vs-sagemath/\n",
    "\n",
    "https://github.com/jilljenn/tryalgo.org/blob/master/_notebooks/SymPy%20Demo.ipynb\n",
    "\n",
    "https://stackoverflow.com/questions/36370129/does-tensorflow-use-automatic-or-symbolic-gradients/36373220#36373220\n",
    "\n",
    "https://stackoverflow.com/questions/44342432/is-gradient-in-the-tensorflows-graph-calculated-incorrectly\n",
    "\n",
    "http://docs.sympy.org/latest/modules/tensor/array.html#derivatives-by-array\n",
    "\n",
    "http://docs.sympy.org/latest/modules/tensor/array.html\n",
    "\n",
    "https://en.wikipedia.org/wiki/Automatic_differentiation\n",
    "\n",
    "http://www.di.fc.ul.pt/~jpn/r/symbolic/"
   ]
  },
  {
   "cell_type": "code",
   "execution_count": null,
   "metadata": {
    "collapsed": true
   },
   "outputs": [],
   "source": [
    "import sympy"
   ]
  },
  {
   "cell_type": "code",
   "execution_count": null,
   "metadata": {},
   "outputs": [],
   "source": [
    "from sympy import Array"
   ]
  },
  {
   "cell_type": "code",
   "execution_count": null,
   "metadata": {},
   "outputs": [],
   "source": [
    "from sympy import derive_by_array"
   ]
  },
  {
   "cell_type": "code",
   "execution_count": null,
   "metadata": {},
   "outputs": [],
   "source": [
    "from sympy import symbols,Function,MatrixSymbol,Transpose,Matrix,ones,derive_by_array"
   ]
  },
  {
   "cell_type": "code",
   "execution_count": null,
   "metadata": {
    "collapsed": true
   },
   "outputs": [],
   "source": [
    "init_printing(use_latex=True)\n",
    "from IPython.display import display\n",
    "#display(yourobject)"
   ]
  },
  {
   "cell_type": "code",
   "execution_count": null,
   "metadata": {
    "collapsed": true
   },
   "outputs": [],
   "source": [
    "from sympy import pprint"
   ]
  },
  {
   "cell_type": "code",
   "execution_count": null,
   "metadata": {
    "collapsed": true
   },
   "outputs": [],
   "source": [
    "init_printing(use_latex='mathjax')"
   ]
  },
  {
   "cell_type": "code",
   "execution_count": null,
   "metadata": {
    "collapsed": true
   },
   "outputs": [],
   "source": []
  },
  {
   "cell_type": "code",
   "execution_count": null,
   "metadata": {
    "collapsed": true
   },
   "outputs": [],
   "source": [
    "def matrices(names):\n",
    "    ''' Call with  A,B,C = matrix('A B C') '''\n",
    "    return symbols(names,commutative=False)\n"
   ]
  },
  {
   "cell_type": "code",
   "execution_count": null,
   "metadata": {
    "collapsed": true
   },
   "outputs": [],
   "source": [
    "d = Function(\"d\",commutative=False)\n",
    "inv = Function(\"inv\",commutative=False)"
   ]
  },
  {
   "cell_type": "code",
   "execution_count": null,
   "metadata": {
    "collapsed": true
   },
   "outputs": [],
   "source": [
    "class t(Function):\n",
    "    ''' The transposition, with special rules\n",
    "        t(A+B) = t(A) + t(B) and t(AB) = t(B)t(A) '''\n",
    "    is_commutative = False\n",
    "    def __new__(cls,arg):\n",
    "        if arg.is_Add:\n",
    "            return Add(*[t(A) for A in arg.args])\n",
    "        elif arg.is_Mul:\n",
    "            L = len(arg.args)\n",
    "            return Mul(*[t(arg.args[L-i-1]) for i in range(L)])\n",
    "        else:\n",
    "            return Function.__new__(cls,arg)"
   ]
  },
  {
   "cell_type": "code",
   "execution_count": null,
   "metadata": {
    "collapsed": true
   },
   "outputs": [],
   "source": [
    "        # e =expression, s = a list of symbols respsect to which\n",
    "        # we want to differentiate\n",
    "\n",
    "MATRIX_DIFF_RULES = {Symbol:lambda e, s: d(e) if s.has(e) else 0,\n",
    "        Add:lambda e,s : Add(*[matDiff(arg,s) for arg in e.args]),\n",
    "        Mul:lambda e,s : Mul(matDiff(e.args[0],s),Mul(*e.args[1:]))\n",
    "                      +  Mul(e.args[0],matDiff(Mul(*e.args[1:]),s)) ,\n",
    "        t:lambda e,s : t( matDiff(e.args[0],s) ),\n",
    "        inv:lambda e,s : - e * matDiff(e.args[0],s) * e}"
   ]
  },
  {
   "cell_type": "code",
   "execution_count": null,
   "metadata": {
    "collapsed": true
   },
   "outputs": [],
   "source": [
    "def matDiff(expr,symbols):\n",
    "    if expr.__class__ in MATRIX_DIFF_RULES.keys():\n",
    "        return  MATRIX_DIFF_RULES[expr.__class__](expr,symbols)\n",
    "    else:\n",
    "        return 0"
   ]
  },
  {
   "cell_type": "code",
   "execution_count": null,
   "metadata": {
    "collapsed": true
   },
   "outputs": [],
   "source": []
  },
  {
   "cell_type": "code",
   "execution_count": null,
   "metadata": {},
   "outputs": [],
   "source": [
    "x,y,z = symbols('x y z') \n",
    "X = Matrix([[x], [y], [z]]) \n",
    "f = 5*X[0]**2 + 5*X[1]**2 + 5*X[2]**2 \n",
    "\n",
    "Matrix([f]).jacobian(X) \n"
   ]
  },
  {
   "cell_type": "code",
   "execution_count": null,
   "metadata": {},
   "outputs": [],
   "source": [
    "\n",
    "\n",
    "Matrix([f]).jacobian(X) * ones(3,1) # inner product with ones vector to sum "
   ]
  },
  {
   "cell_type": "code",
   "execution_count": null,
   "metadata": {
    "collapsed": true
   },
   "outputs": [],
   "source": [
    "n = 9"
   ]
  },
  {
   "cell_type": "code",
   "execution_count": null,
   "metadata": {},
   "outputs": [],
   "source": [
    "A = MatrixSymbol('A', n, n)\n",
    "B = MatrixSymbol('B', n, n)\n",
    "(A*B)**(-1)\n"
   ]
  },
  {
   "cell_type": "code",
   "execution_count": null,
   "metadata": {},
   "outputs": [],
   "source": [
    "Transpose(A*B)"
   ]
  },
  {
   "cell_type": "code",
   "execution_count": null,
   "metadata": {
    "collapsed": true
   },
   "outputs": [],
   "source": []
  },
  {
   "cell_type": "code",
   "execution_count": null,
   "metadata": {
    "collapsed": true
   },
   "outputs": [],
   "source": [
    "from sympy import cos, sin"
   ]
  },
  {
   "cell_type": "code",
   "execution_count": null,
   "metadata": {
    "collapsed": true
   },
   "outputs": [],
   "source": [
    "#The Matrix class has a method called diff\n",
    "phi, psi, theta = sympy.symbols(\"phi, psi, theta\")\n",
    "RMatrixPhi = sympy.Matrix([[cos(phi), sin(phi), 0],\n",
    "                           [-sin(phi), cos(phi), 0],\n",
    "                           [0,          0,       1]])\n",
    "RMatrixPsi = sympy.Matrix([[cos(psi),  0, sin(psi)],\n",
    "                           [0,         1,   0     ],\n",
    "                           [-sin(psi), 0, cos(psi)]])\n",
    "RMatrixTheta = sympy.Matrix([[1,    0,         0        ],\n",
    "                             [0,  cos(theta), sin(theta)],\n",
    "                             [0, -sin(theta), cos(theta)  ]])\n",
    "RMatrix = RMatrixPhi * RMatrixPsi * RMatrixTheta\n",
    "RMatrix.diff(phi)"
   ]
  },
  {
   "cell_type": "code",
   "execution_count": null,
   "metadata": {
    "collapsed": true
   },
   "outputs": [],
   "source": []
  },
  {
   "cell_type": "code",
   "execution_count": null,
   "metadata": {
    "collapsed": true
   },
   "outputs": [],
   "source": [
    "from pprint import pprint"
   ]
  },
  {
   "cell_type": "code",
   "execution_count": null,
   "metadata": {},
   "outputs": [],
   "source": [
    "a = sympy.Symbol('a')\n",
    "b = sympy.Symbol('b')\n",
    "e = (a + 2*b)**5\n",
    "\n",
    "print(\"\\nExpression : \")\n",
    "pprint(e)\n",
    "print(\"\\n\\nDifferentiating w.r.t. a:\")\n",
    "pprint(e.diff(a))\n",
    "print(\"\\n\\nDifferentiating w.r.t. b:\")\n",
    "pprint(e.diff(b))\n",
    "print(\"\\n\\nSecond derivative of the above result w.r.t. a:\")\n",
    "pprint(e.diff(b).diff(a, 2))\n",
    "print(\"\\n\\nExpanding the above result:\")\n",
    "pprint(e.expand().diff(b).diff(a, 2))"
   ]
  },
  {
   "cell_type": "code",
   "execution_count": null,
   "metadata": {
    "collapsed": true
   },
   "outputs": [],
   "source": []
  },
  {
   "cell_type": "code",
   "execution_count": null,
   "metadata": {
    "collapsed": true
   },
   "outputs": [],
   "source": [
    "from sympy import *\n",
    "from sympy.printing.str import StrPrinter\n",
    "from sympy.printing.latex import LatexPrinter\n",
    " \n",
    " \n",
    "######  M  E  T  H  O  D  S\n",
    " \n",
    " \n",
    " \n",
    "def matrices(names):\n",
    "    ''' Call with  A,B,C = matrix('A B C') '''\n",
    "    return symbols(names,commutative=False)\n",
    " \n",
    " \n",
    "# Transformations\n",
    " \n",
    "d = Function(\"d\",commutative=False)\n",
    "inv = Function(\"inv\",commutative=False)\n",
    " \n",
    "class t(Function):\n",
    "    ''' The transposition, with special rules\n",
    "        t(A+B) = t(A) + t(B) and t(AB) = t(B)t(A) '''\n",
    "    is_commutative = False\n",
    "    def __new__(cls,arg):\n",
    "        if arg.is_Add:\n",
    "            return Add(*[t(A) for A in arg.args])\n",
    "        elif arg.is_Mul:\n",
    "            L = len(arg.args)\n",
    "            return Mul(*[t(arg.args[L-i-1]) for i in range(L)])\n",
    "        else:\n",
    "            return Function.__new__(cls,arg)\n",
    " \n",
    " \n",
    "# Differentiation\n",
    " \n",
    "MATRIX_DIFF_RULES = { \n",
    "         \n",
    "        # e =expression, s = a list of symbols respsect to which\n",
    "        # we want to differentiate\n",
    "         \n",
    "        Symbol : lambda e,s : d(e) if s.has(e) else 0,\n",
    "        Add :  lambda e,s : Add(*[matDiff(arg,s) for arg in e.args]),\n",
    "        Mul :  lambda e,s : Mul(matDiff(e.args[0],s),Mul(*e.args[1:]))\n",
    "                      +  Mul(e.args[0],matDiff(Mul(*e.args[1:]),s)) ,\n",
    "        t :   lambda e,s : t( matDiff(e.args[0],s) ),\n",
    "        inv : lambda e,s : - e * matDiff(e.args[0],s) * e\n",
    "}\n",
    " \n",
    "def matDiff(expr,symbols):\n",
    "    if expr.__class__ in MATRIX_DIFF_RULES.keys():\n",
    "        return  MATRIX_DIFF_RULES[expr.__class__](expr,symbols)\n",
    "    else:\n",
    "        return 0\n",
    " \n",
    " \n",
    " \n",
    "#####  C  O  S  M  E  T  I  C  S\n",
    " \n",
    " \n",
    "# Console mode\n",
    " \n",
    "class matStrPrinter(StrPrinter):\n",
    "    ''' Nice printing for console mode : X¯¹, X', ∂X '''\n",
    "     \n",
    "    def _print_inv(self, expr):\n",
    "        if expr.args[0].is_Symbol:\n",
    "            return  self._print(expr.args[0]) +'¯¹'\n",
    "        else:\n",
    "            return '(' +  self._print(expr.args[0]) + ')¯¹'\n",
    "     \n",
    "    def _print_t(self, expr):\n",
    "        return  self._print(expr.args[0]) +\"'\"\n",
    "     \n",
    "    def _print_d(self, expr):\n",
    "        if expr.args[0].is_Symbol:\n",
    "            return '∂'+  self._print(expr.args[0])\n",
    "        else:\n",
    "            return '∂('+  self._print(expr.args[0]) +')'   \n",
    " \n",
    "def matPrint(m):\n",
    "    mem = Basic.__str__ \n",
    "    Basic.__str__ = lambda self: matStrPrinter().doprint(self)\n",
    "    print(str(m).replace('*',''))\n",
    "    Basic.__str__ = mem\n",
    " \n",
    " \n",
    "# Latex mode\n",
    " \n",
    "class matLatPrinter(LatexPrinter):\n",
    "    ''' Printing instructions for latex : X^{-1},  X^T, \\partial X '''\n",
    "     \n",
    "    def _print_inv(self, expr):\n",
    "        if expr.args[0].is_Symbol:\n",
    "            return self._print(expr.args[0]) +'^{-1}'\n",
    "        else:\n",
    "            return '(' + self._print(expr.args[0]) + ')^{-1}'\n",
    "    def _print_t(self, expr):\n",
    "        return  self._print(expr.args[0]) +'^T'\n",
    "     \n",
    "    def _print_d(self, expr):\n",
    "        if expr.args[0].is_Symbol:\n",
    "            return '\\partial '+ self._print(expr.args[0])\n",
    "        else:\n",
    "            return '\\partial ('+ self._print(expr.args[0]) +')'\n",
    " \n",
    "def matLatex(expr, profile=None, **kargs):\n",
    "    if profile is not None:\n",
    "        profile.update(kargs)\n",
    "    else:\n",
    "        profile = kargs\n",
    "    return matLatPrinter(profile).doprint(expr)"
   ]
  },
  {
   "cell_type": "markdown",
   "metadata": {},
   "source": [
    "$ H = X {(X^T S^{-1} X)}^{-1} X^T S^{-1} $\n",
    "\n",
    "How much is $\\displaystyle \\frac{\\partial H}{\\partial X}$?"
   ]
  },
  {
   "cell_type": "code",
   "execution_count": null,
   "metadata": {
    "collapsed": true
   },
   "outputs": [],
   "source": [
    "X, S = matrices(\"X S\")\n",
    "H = X * inv(t(X) * inv(S) * X) * t(X) * inv(S)"
   ]
  },
  {
   "cell_type": "code",
   "execution_count": null,
   "metadata": {},
   "outputs": [],
   "source": [
    "expr = expand(expand(matDiff(H,X)))\n",
    "expr"
   ]
  },
  {
   "cell_type": "code",
   "execution_count": null,
   "metadata": {},
   "outputs": [],
   "source": [
    "matPrint(expr)"
   ]
  },
  {
   "cell_type": "code",
   "execution_count": null,
   "metadata": {},
   "outputs": [],
   "source": [
    "latex = matLatex(matDiff(H,X))\n",
    "latex"
   ]
  },
  {
   "cell_type": "code",
   "execution_count": null,
   "metadata": {},
   "outputs": [],
   "source": [
    "display(latex)"
   ]
  },
  {
   "cell_type": "code",
   "execution_count": null,
   "metadata": {},
   "outputs": [],
   "source": [
    "%%latex\n",
    "X \\\\left(- (X^T S^{-1} X)^{-1} \\\\left(X^T S^{-1} \\\\partial X + \\\\partial X^T S^{-1} X\\\\right) (X^T S^{-1} X)^{-1} X^T S^{-1} + (X^T S^{-1} X)^{-1} \\\\partial X^T S^{-1}\\\\right) + \\\\partial X (X^T S^{-1} X)^{-1} X^T S^{-1}"
   ]
  },
  {
   "cell_type": "code",
   "execution_count": null,
   "metadata": {},
   "outputs": [],
   "source": [
    "from IPython.display import Math\n",
    "\n",
    "Math(latex)"
   ]
  },
  {
   "cell_type": "markdown",
   "metadata": {},
   "source": [
    "## Matrix differentiation\n",
    "If $E = x^T A x$ then:\n",
    "\n",
    "$ \\displaystyle \\frac{\\partial E}{\\partial x} = x^T (A + A^T) $"
   ]
  },
  {
   "cell_type": "code",
   "execution_count": null,
   "metadata": {},
   "outputs": [],
   "source": [
    "x = MatrixSymbol('x', 3, 1)\n",
    "A = MatrixSymbol('A', 3, 3)\n",
    "\n",
    "alpha = x.T * A * x\n",
    "print(alpha)"
   ]
  },
  {
   "cell_type": "code",
   "execution_count": null,
   "metadata": {},
   "outputs": [],
   "source": [
    "print(Matrix(alpha))"
   ]
  },
  {
   "cell_type": "code",
   "execution_count": null,
   "metadata": {},
   "outputs": [],
   "source": [
    "print(Matrix(alpha).diff(x[0, 0]))"
   ]
  },
  {
   "cell_type": "code",
   "execution_count": null,
   "metadata": {},
   "outputs": [],
   "source": [
    "\n",
    "for expr in derive_by_array(Matrix(alpha), Matrix(x)):\n",
    "    print(expr)"
   ]
  },
  {
   "cell_type": "code",
   "execution_count": null,
   "metadata": {
    "collapsed": true
   },
   "outputs": [],
   "source": []
  },
  {
   "cell_type": "code",
   "execution_count": null,
   "metadata": {
    "collapsed": true
   },
   "outputs": [],
   "source": []
  },
  {
   "cell_type": "code",
   "execution_count": null,
   "metadata": {
    "collapsed": true
   },
   "outputs": [],
   "source": []
  },
  {
   "cell_type": "markdown",
   "metadata": {},
   "source": [
    "https://math.stackexchange.com/questions/1377457/how-to-get-the-derivative-of-a-matrix-function\n",
    "\n",
    "https://groups.google.com/forum/#!topic/comp.soft-sys.math.maple/Klc44hIfABI\n"
   ]
  }
 ],
 "metadata": {
  "kernelspec": {
   "display_name": "Python 3",
   "language": "python",
   "name": "python3"
  },
  "language_info": {
   "codemirror_mode": {
    "name": "ipython",
    "version": 3
   },
   "file_extension": ".py",
   "mimetype": "text/x-python",
   "name": "python",
   "nbconvert_exporter": "python",
   "pygments_lexer": "ipython3",
   "version": "3.6.2"
  }
 },
 "nbformat": 4,
 "nbformat_minor": 2
}
