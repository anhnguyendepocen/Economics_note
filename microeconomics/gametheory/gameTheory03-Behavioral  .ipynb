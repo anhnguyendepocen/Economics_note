{
 "cells": [
  {
   "cell_type": "code",
   "execution_count": null,
   "metadata": {
    "collapsed": true
   },
   "outputs": [],
   "source": []
  },
  {
   "cell_type": "markdown",
   "metadata": {},
   "source": [
    "## Framing Bias\n",
    "\n",
    "The framing effect is an example of cognitive bias, in which people react to a particular choice in different ways depending on how it is presented; e.g. as a loss or as a gain.\n",
    "\n",
    "\n",
    "\n",
    "\n",
    "ref:\n",
    "https://en.wikipedia.org/wiki/Framing_effect_(psychology)\n",
    "\n",
    "The first step in making a decision is to frame the question, but it is also where you can first go wrong. The way a problem is framed can profoundly influence the subsequent choices we make. People tend to accept the frame they are given; they seldom stop to reframe it in their own words.\n",
    "\n",
    "ref:\n",
    "http://www.maxwideman.com/guests/portfolio/framing.htm"
   ]
  },
  {
   "cell_type": "markdown",
   "metadata": {},
   "source": [
    "## Ultimatum Game\n",
    "\n",
    "![](https://upload.wikimedia.org/wikipedia/commons/thumb/b/be/Ultimatum_Game_Extensive_Form.svg/500px-Ultimatum_Game_Extensive_Form.svg.png)\n",
    "\n",
    "Extensive form representation of a two proposal ultimatum game. Player 1 can offer a fair (F) or unfair (U) proposal; player 2 can accept (A) or reject (R).\n",
    "\n",
    "\n",
    "\n",
    "Offers less 3 dollar, are offen rejected.\n",
    "\n",
    "Players have preference for fairness.\n",
    "\n",
    "\n",
    "ref:\n",
    "https://en.wikipedia.org/wiki/Ultimatum_game"
   ]
  },
  {
   "cell_type": "code",
   "execution_count": null,
   "metadata": {
    "collapsed": true
   },
   "outputs": [],
   "source": []
  },
  {
   "cell_type": "code",
   "execution_count": null,
   "metadata": {
    "collapsed": true
   },
   "outputs": [],
   "source": []
  },
  {
   "cell_type": "markdown",
   "metadata": {
    "collapsed": true
   },
   "source": [
    "# Repeated Games"
   ]
  },
  {
   "cell_type": "markdown",
   "metadata": {},
   "source": [
    "## Finitely Repeated Games\n",
    "\n",
    "## Definition of a repeated game\n",
    "\n",
    "A repeated game is played over discrete time periods. Each time period is index by $0<t≤T$ where $T$ is the total number of periods.\n",
    "\n",
    "In each period $N$ players play a static game referred to as the **stage game** independently and simultaneously selecting actions.\n",
    "\n",
    "Players make decisions in **full knowledge of the history of the game** played so far (ie the actions chosen by each player in each previous time period).\n",
    "\n",
    "The payoff is defined as the **sum of the utilities** in each stage game for every time period.\n",
    "\n",
    "### Definition of a strategy in a repeated game\n",
    "\n",
    "A repeated game strategy must specify the **action** of a player in a given stage game given the **entire history** of the repeated game.\n",
    "\n",
    "for example: \"always play r1\"\n",
    "\n",
    "\"play r2 until opponent plays c1, then play r1\"\n",
    "\n",
    "\n",
    "\n",
    "### Subgame perfect Nash equilibrium in repeated games\n",
    "\n",
    "Theorem of a sequence of stage Nash profiles\n",
    "\n",
    "For any repeated game, any sequence of stage Nash profiles gives the outcome of a subgame perfect Nash equilibrium\n",
    "\n",
    "\n",
    "\n",
    "ref:\n",
    "http://vknight.org/Year_3_game_theory_course/Content/Chapter_09_Finitely_Repeated_Games/"
   ]
  },
  {
   "cell_type": "markdown",
   "metadata": {},
   "source": [
    "### Cooperation in the Infinitely Repeated Prisoner's Dilemma\n",
    "\n",
    "History dependent: players' moves are influenced by the history/ previous moves.\n",
    "\n",
    "Discount rate: r    $0<r<1$\n",
    "\n",
    "how much you value future  relatively to now.\n",
    "\n",
    "\n",
    "Grim Trigger strategy: Play r1 unless the other player played c2\n",
    "\n",
    "${C,D,G}$\n",
    "\n",
    "$$p_1(G) = high/(1+r) $$\n",
    "\n",
    "$$p_1(C) = superhigh + low*r/(1+r) $$\n",
    "\n",
    "If player value future,player willing to forgo short gain to earn long term gain. \n",
    "\n",
    "\n",
    " If one of the players is always confessing, regardless of what the other player is doing, then neither player has anything to gain by not confessing (i.e. there is no \"punishment\" for confessing). Therefore, \"Always Confess\" by both players is an equilibrium strategy.\n",
    "\n",
    "ref:\n",
    "https://www.youtube.com/watch?v=t2g0Jg-6LHw"
   ]
  },
  {
   "cell_type": "markdown",
   "metadata": {},
   "source": [
    "### Infinitely Repeated Games\n",
    "\n",
    "\n",
    "#### Discounting\n",
    "\n",
    "To illustrate infinitely repeated games $(T→∞)$ we will consider a Prisoners dilemma as our stage game.\n",
    "$$\n",
    "% <![CDATA[\n",
    "\\begin{pmatrix}\n",
    "(2,2)&(0,3)\\\\\n",
    "(3,0)&(1,1)\n",
    "\\end{pmatrix} %]]>\n",
    "$$\n",
    "\n",
    "- Let us denote $s_C$ as the strategy “cooperate at every stage”. \n",
    "\n",
    "- Let us denote $s_D$ as the strategy “defect at every stage”.\n",
    "\n",
    "If we assume that both players play sCsC their utility would be:\n",
    "\n",
    "$$U_1(s_{C},s_{C})=U_2(s_{C},s_{C})=\\sum_{t=1}^\\infty2>\\infty$$\n",
    "\n",
    "Similarly:\n",
    "\n",
    "$$U_1(s_{D},s_{D})=U_2(s_{D},s_{D})=\\sum_{t=1}^\\infty1>\\infty$$\n",
    "\n",
    "\n",
    "It is impossible to compare these two strategies. To be able to carry out analysis of strategies in infinitely repeated games we make use of a **discounting factor** $0<δ<1$.\n",
    "\n",
    "\n",
    "- The interpretation of $δ$ is that there is less importance given to future payoffs. \n",
    "\n",
    "- One way of thinking about this is that “the probability of recieveing the future payoffs decreases with time”.\n",
    "\n",
    "\n",
    "In this case we write the utility in an infinitely repeated game as:\n",
    "\n",
    "$$U_i(r,c)=\\sum_{t=1}^\\infty\\delta^{t-1}u_i(r(t),c(t))$$\n",
    "\n",
    "#### Conditions for cooperation in Prisoner’s Dilemmas\n",
    "\n",
    "Let us consider the **“Grudger”** strategy (which we denote $s_G$):\n",
    "\n",
    ">“Start by cooperating until your opponent defects at which point defect in all future stages.”\n",
    "\n",
    "If both players play $s_G$ we have $s_G=s_C$:\n",
    "\n",
    "$$U_1(s_{G},s_{G})=U_2(s_{G},s_{G})=2/(1-\\delta)$$\n",
    "\n",
    "\n",
    "If we assume that $S1=S2={sC,sD,sG}$ and player 2 deviates from $S_G$ at the first stage to $s_D$ we get:\n",
    "\n",
    "\n",
    "$$U_2(s_{G},s_{D})=3+\\sum_{t=2}^{\\infty}\\delta^{t-1} 1=3+\\delta/(1-\\delta)$$\n",
    "\n",
    "since \n",
    "$$\\sum_{t=1}^\\infty\\delta^{t-1}=1/(1-\\delta)$$\n",
    "\n",
    "Deviation from $s_G$ to $s_D$ is rational if and only if:\n",
    "\n",
    "$$% <![CDATA[\n",
    "2/(1-\\delta)<3+\\delta/(1-\\delta) %]]>$$\n",
    "\n",
    "$$% <![CDATA[\n",
    "\\delta< 1/2 %]]$$\n",
    "\n",
    "thus if $δ$ is large enough $(s_G,s_G)$ is a Nash equilibrium.\n",
    "\n",
    "\n",
    "\n",
    "ref:\n",
    "http://vknight.org/Year_3_game_theory_course/Content/Chapter_10_Infinetely_Repeated_Games/"
   ]
  },
  {
   "cell_type": "markdown",
   "metadata": {},
   "source": [
    "##  Folk Theorem:\n",
    "\n",
    "\n",
    "### Definition of individually rational payoffs\n",
    "\n",
    "Individually rational payoffs are average payoffs that exceed the stage game Nash equilibrium payoffs for both players.\n",
    "\n",
    "As an example consider the plot corresponding to a repeated Prisoner’s Dilemma.\n",
    "\n",
    "![](http://vknight.org/Year_3_game_theory_course/Content/images/L10-img01.png)\n",
    "\n",
    "\n",
    "### Folk Theorem for infinitely repeated games\n",
    "\n",
    "Let $(u^∗_1,u^∗_2)$ be a pair of Nash equilibrium payoffs for a stage game. For every individually rational pair $(v_1,v_2)$ there exists $\\bar δ$ such that for all $1>δ>\\bar δ>0$ there is a subgame perfect Nash equilibrium with payoffs $(v_1,v_2)$.\n",
    "\n",
    "#### Proof\n",
    "\n",
    "Let $(σ^∗_1,σ^∗_2)$ be the stage Nash profile that yields $(u^∗_1,u^∗_2)$. Now assume that playing $\\bar σ_1∈ΔS_1$ and $\\bar σ_2∈ΔS_2$ in every stage gives $(v_1,v_2)$ (an individual rational payoff pair).\n",
    "\n",
    "Consider the following strategy:\n",
    "\n",
    ">“Begin by using $\\bar σ_i$ and continue to use $\\bar σ_i$ as long as both players use the agreed strategies. If any player deviates: use $σ^*_i$ for all future stages.”\n",
    "\n",
    "\n",
    "Recalling that player 1 would receive $v1$ in every stage with no devitation, the biggest gain to be made from deviating is if player 1 deviates in the first stage (all future gains are more heavily discounted). Thus if we can find $\\bar δ$ such that $δ>\\barδ$ implies that $U_1^{(1)}\\leq \\frac{v_1}{1-\\delta}$ then player 1 has no incentive to deviate.\n",
    "\n",
    "$$% <![CDATA[\n",
    "\\begin{aligned}\n",
    "U_1^{(1)}=u_1(\\sigma_1',\\bar\\sigma_2)+u_1^*\\frac{\\delta}{1-\\delta}&\\leq\\frac{v_1}{1-\\delta}\\\\\n",
    "(1-\\delta)u_1(\\sigma_1',\\bar\\sigma_2)+u_1^*\\delta&\\leq v_1\\\\\n",
    "u_1(\\sigma_1',\\bar\\sigma_2)-v_1&\\leq \\delta(u_1(\\sigma_1',\\bar\\sigma_2)-u_1^*)\\\\\n",
    "\\end{aligned} %]]>$$\n",
    "\n",
    "\n",
    "\n",
    "as $u_1(\\sigma_1’,\\bar \\sigma_2)>v_1>u_1^*$, taking $\\bar\\delta=\\frac{u_1(\\sigma_1’,\\bar\\sigma_2)-v_1}{u_1(\\sigma_1’,\\bar\\sigma_2)-u_1^*}$ gives the required required result for player 1 and repeating the argument for player 2 completes the proof of the fact that the prescribed strategy is a Nash equilibrium.\n",
    "\n",
    "ref:\n",
    "https://www.youtube.com/watch?v=2pORjDDRU_8\n",
    "    "
   ]
  },
  {
   "cell_type": "code",
   "execution_count": null,
   "metadata": {
    "collapsed": true
   },
   "outputs": [],
   "source": [
    "#http://axelrod.readthedocs.io/en/latest/\n",
    "#Create matches between two players:\n",
    "#!pip install --user axelrod\n",
    "import axelrod as axl\n",
    "players = (axl.Alternator(), axl.TitForTat())\n",
    "match = axl.Match(players, 5)\n",
    "interactions = match.play()\n",
    "interactions"
   ]
  },
  {
   "cell_type": "code",
   "execution_count": null,
   "metadata": {
    "collapsed": true
   },
   "outputs": [],
   "source": [
    "#Build full tournaments between groups of players:\n",
    "import axelrod as axl\n",
    "players = (axl.Cooperator(), axl.Alternator(), axl.TitForTat(), axl.Grudger())\n",
    "tournament = axl.Tournament(players)\n",
    "results = tournament.play()\n",
    "results.ranked_names"
   ]
  },
  {
   "cell_type": "code",
   "execution_count": null,
   "metadata": {
    "collapsed": true
   },
   "outputs": [],
   "source": [
    "%matplotlib inline\n",
    "plot = axl.Plot(results)\n",
    "p = plot.boxplot()\n",
    "p.show()"
   ]
  },
  {
   "cell_type": "code",
   "execution_count": null,
   "metadata": {
    "collapsed": true
   },
   "outputs": [],
   "source": []
  },
  {
   "cell_type": "markdown",
   "metadata": {},
   "source": [
    "# Dynamic Games\n"
   ]
  },
  {
   "cell_type": "markdown",
   "metadata": {},
   "source": [
    "## Extensive form games and backwards induction\n",
    "\n",
    "\n",
    "### Definition of an Information set\n",
    "\n",
    "Two nodes of a game tree are said to be part of the same information set if the player at that node cannot differentiate between them.\n",
    "\n",
    "\n",
    "### Backwards induction\n",
    "\n",
    "To analyse such games we assume that players not only attempt to optimize their overall utility but optimize their utility conditional on any information set.\n",
    "\n",
    "#### Definition of sequential rationality\n",
    "\n",
    "Sequential rationality: An optimal strategy for a player should maximise that player’s expected payoff, conditional on every information set at which that player has a decision.\n",
    "\n",
    "With this notion in mind we can now define an analysis technique for extensive form games:\n",
    "\n",
    "### Definition of backward induction\n",
    "\n",
    "Backward induction: This is the process of analysing a game from back to front. At each information set we remove strategies that are dominated.\n",
    "\n",
    "\n",
    "### Theorem of existence of Nash equilibrium in games of perfect information.\n",
    "\n",
    "Every finite game with perfect information has a Nash equilibrium in pure strategies. Backward induction identifies an equilibrium.\n",
    "\n",
    "#### Proof\n",
    "\n",
    "Recalling the properties of sequential rationality we see that no player will have an incentive to deviate from the strategy profile found through backward induction. Secondly every finite game with perfect information can be solved using backward inductions which gives the result."
   ]
  },
  {
   "cell_type": "markdown",
   "metadata": {},
   "source": [
    "##  Sub-Game Perfect Equilibria \n",
    "\n",
    "\n",
    "\n",
    "### Definition of a subgame\n",
    "\n",
    "In an extensive form game, a node $x$ is said to initiate a subgame if and only if $x$ and all successors of $x$ are in information sets containing only successors of $x$.\n",
    "\n",
    "A game that **does not have perfect information nodes**\n",
    "\n",
    "- c, f and b initiate subgames \n",
    "\n",
    "- but all of b’s successors: d and e do not \n",
    "\n",
    "![](http://vknight.org/Year_3_game_theory_course/Content/images/L08-img02.png)\n"
   ]
  },
  {
   "cell_type": "markdown",
   "metadata": {},
   "source": [
    "### Definition of subgame perfect equilibrium\n",
    "\n",
    "A subgame perfect Nash equilibrium is a Nash equilibrium in which the strategy profiles specify Nash equilibria for every subgame of the game.\n",
    "\n",
    "Note that this includes subgames that might not be reached during play!\n",
    "\n",
    "- subgame perfect Nash equilibrium is a refinement of Nash equilibrium.\n",
    "- In games with perfect information, the Nash equilibrium obtained through backwards induction is subgame perfect.\n",
    "\n",
    "\n"
   ]
  },
  {
   "cell_type": "code",
   "execution_count": null,
   "metadata": {
    "collapsed": true
   },
   "outputs": [],
   "source": []
  },
  {
   "cell_type": "markdown",
   "metadata": {},
   "source": [
    "### One example\n",
    "\n",
    "![](https://www.complexityexplorer.org/ckeditor_assets/pictures/698/content_q2.png)\n",
    "\n",
    "\n",
    "- First, figure out what player 2 would play for each of player 1's possible actions. \n",
    "\n",
    "- Then, pick the strategy for player 1 that gives the highest payout conditional on player 2 best responding to whatever player 1 chooses.\n"
   ]
  },
  {
   "cell_type": "markdown",
   "metadata": {},
   "source": [
    "\n"
   ]
  },
  {
   "cell_type": "code",
   "execution_count": null,
   "metadata": {
    "collapsed": true
   },
   "outputs": [],
   "source": []
  },
  {
   "cell_type": "code",
   "execution_count": null,
   "metadata": {
    "collapsed": true
   },
   "outputs": [],
   "source": []
  },
  {
   "cell_type": "code",
   "execution_count": null,
   "metadata": {
    "collapsed": true
   },
   "outputs": [],
   "source": []
  },
  {
   "cell_type": "code",
   "execution_count": null,
   "metadata": {
    "collapsed": true
   },
   "outputs": [],
   "source": []
  },
  {
   "cell_type": "code",
   "execution_count": null,
   "metadata": {
    "collapsed": true
   },
   "outputs": [],
   "source": []
  },
  {
   "cell_type": "code",
   "execution_count": null,
   "metadata": {
    "collapsed": true
   },
   "outputs": [],
   "source": []
  },
  {
   "cell_type": "markdown",
   "metadata": {},
   "source": [
    "#### Stackelberg game\n",
    "\n",
    "Let us consider the Cournot duopoly game. Recall:\n",
    "\n",
    "> Suppose that two firms 1 and 2 produce an identical good (ie consumers do not care who makes the good). The firms decide at the same time to produce a certain quantity of goods: $q1,q2≥0$. All of the good is sold but the price depends on the number of goods:\n",
    "\n",
    "$$p=K−q1−q2$$\n",
    "\n",
    "We also assume that the firms both pay a production cost of $k$ per bricks.\n",
    "\n",
    "However we will modify this to assume that there is **a leader and a follower**, ie the **firms do not decide at the same time**. This game is called a **Stackelberg leader follower game**.\n",
    "\n",
    "\n",
    "\n",
    "\n",
    "Let us represent this as a normal form game.\n",
    "\n",
    "\n",
    "![](http://vknight.org/Year_3_game_theory_course/Content/images/L07-img13.png)\n",
    "\n",
    "We use backward induction to identify the Nash equilibria. The dominant strategy for the follower is:\n",
    "\n",
    "$$q_2^*(q_1)=\\frac{K-k-q_1}{2}$$\n",
    "\n",
    "The game thus reduces as shown.\n",
    "\n",
    "\n",
    "![](http://vknight.org/Year_3_game_theory_course/Content/images/L07-img14.png)\n",
    "\n",
    "The leader thus needs to maximise:\n",
    "\n",
    "\n",
    "$$u_1(q_1)=(K-q_1-\\frac{K-k-q_1}{2})q_1-kq_1=(\\frac{K-q_1+k}{2})q_1-kq_1$$\n",
    "\n",
    "\n",
    "Differentiating and equating to 0 gives:\n",
    "\n",
    "$q_1^*=\\frac{K-k}{2}$  which in turn gives: $q_2^*=\\frac{K-k}{4}$\n",
    "\n",
    "\n",
    "The total amount of goods produced is $\\frac{3(K-k)}{4}$ whereas in the Cournot game the total amount of good produced was $\\frac{2(K-k)}{3}$. Thus **more goods are produced in the Stackelberg game**.\n"
   ]
  },
  {
   "cell_type": "markdown",
   "metadata": {},
   "source": [
    "ref:\n",
    "    \n",
    "http://vknight.org/Year_3_game_theory_course/Content/Chapter_01-Introduction/\n",
    "\n",
    "Gambit http://www.gambit-project.org\n",
    "https://github.com/gambitproject/gambit\n",
    "\n",
    "\n",
    "A research tool for the Iterated Prisoner's Dilemma http://axelrod.readthedocs.org/\n",
    "\n",
    "https://github.com/Axelrod-Python/Axelrod\n",
    "\n",
    "http://axelrod.readthedocs.io/en/stable/tutorials/getting_started/installation.html"
   ]
  },
  {
   "cell_type": "code",
   "execution_count": null,
   "metadata": {
    "collapsed": true
   },
   "outputs": [],
   "source": [
    "#!pip install --user axelrod"
   ]
  },
  {
   "cell_type": "code",
   "execution_count": null,
   "metadata": {
    "collapsed": true
   },
   "outputs": [],
   "source": [
    "#!pip install --user gambit"
   ]
  },
  {
   "cell_type": "code",
   "execution_count": null,
   "metadata": {
    "collapsed": true
   },
   "outputs": [],
   "source": [
    "#import gambit"
   ]
  },
  {
   "cell_type": "markdown",
   "metadata": {},
   "source": [
    "http://gte.csc.liv.ac.uk/gte/builder/\n",
    "\n",
    "An extensive or strategic-form game can be created and nicely displayed with a graphical user interface in a web browser. State-of-the-art algorithms then compute one or all Nash equilibria of the game."
   ]
  },
  {
   "cell_type": "code",
   "execution_count": null,
   "metadata": {
    "collapsed": true
   },
   "outputs": [],
   "source": []
  },
  {
   "cell_type": "code",
   "execution_count": null,
   "metadata": {
    "collapsed": true
   },
   "outputs": [],
   "source": []
  },
  {
   "cell_type": "code",
   "execution_count": null,
   "metadata": {
    "collapsed": true
   },
   "outputs": [],
   "source": []
  },
  {
   "cell_type": "code",
   "execution_count": null,
   "metadata": {
    "collapsed": true
   },
   "outputs": [],
   "source": []
  },
  {
   "cell_type": "code",
   "execution_count": null,
   "metadata": {
    "collapsed": true
   },
   "outputs": [],
   "source": []
  },
  {
   "cell_type": "code",
   "execution_count": null,
   "metadata": {
    "collapsed": true
   },
   "outputs": [],
   "source": []
  },
  {
   "cell_type": "code",
   "execution_count": null,
   "metadata": {
    "collapsed": true
   },
   "outputs": [],
   "source": []
  },
  {
   "cell_type": "code",
   "execution_count": null,
   "metadata": {
    "collapsed": true
   },
   "outputs": [],
   "source": []
  },
  {
   "cell_type": "code",
   "execution_count": null,
   "metadata": {
    "collapsed": true
   },
   "outputs": [],
   "source": []
  },
  {
   "cell_type": "code",
   "execution_count": null,
   "metadata": {
    "collapsed": true
   },
   "outputs": [],
   "source": []
  }
 ],
 "metadata": {
  "kernelspec": {
   "display_name": "Python 3",
   "language": "python",
   "name": "python3"
  },
  "language_info": {
   "codemirror_mode": {
    "name": "ipython",
    "version": 3
   },
   "file_extension": ".py",
   "mimetype": "text/x-python",
   "name": "python",
   "nbconvert_exporter": "python",
   "pygments_lexer": "ipython3",
   "version": "3.6.2"
  }
 },
 "nbformat": 4,
 "nbformat_minor": 2
}
