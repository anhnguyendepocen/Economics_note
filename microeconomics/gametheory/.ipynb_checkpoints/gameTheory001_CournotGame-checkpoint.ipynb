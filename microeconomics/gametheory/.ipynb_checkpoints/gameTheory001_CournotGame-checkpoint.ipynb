{
 "cells": [
  {
   "cell_type": "markdown",
   "metadata": {},
   "source": [
    "## $N$-player **Cournot Game**."
   ]
  },
  {
   "cell_type": "markdown",
   "metadata": {},
   "source": [
    "https://github.com/QuantEcon/QuantEcon.notebooks/blob/master/game_theory_py.ipynb\n",
    "\n",
    "An $N$-player *normal form game* is a triplet $g = (I, (A_i)_{i \\in I}, (u_i)_{i \\in I})$ where\n",
    "\n",
    "* $I = \\{0, \\ldots, N-1\\}$ is the set of players,\n",
    "* $A_i = \\{0, \\ldots, n_i-1\\}$ is the set of actions of player $i \\in I$, and\n",
    "* $u_i \\colon A_i \\times A_{i+1} \\times \\cdots \\times A_{i+N-1} \\to \\mathbb{R}$\n",
    "  is the payoff function of player $i \\in I$,\n",
    "\n",
    "where $i+j$ is understood modulo $N$.\n",
    "\n",
    "Note that we adopt the convention that the $0$-th argument of the payoff function $u_i$ is\n",
    "player $i$'s own action\n",
    "and the $j$-th argument, $j = 1, \\ldots, N-1$, is player ($i+j$)'s action (modulo $N$)."
   ]
  },
  {
   "cell_type": "markdown",
   "metadata": {},
   "source": [
    "Theoretically, the set of actions, i.e., available quantities, may be\n",
    "the set of all nonnegative real numbers $\\mathbb{R}_+$\n",
    "(or a bounded interval $[0, \\bar{q}]$ with some upper bound $\\bar{q}$),\n",
    "but for computation on a computer we have to discretize the action space\n",
    "and only allow for finitely many grid points.\n",
    "\n",
    "The following script creates a `NormalFormGame` instance of the Cournot game as described above,\n",
    "assuming that the (common) grid of possible quantity values is stored in an array `q_grid`."
   ]
  },
  {
   "cell_type": "code",
   "execution_count": 8,
   "metadata": {},
   "outputs": [],
   "source": [
    "from quantecon import cartesian\n",
    "from IPython.display import display, Math, Latex\n",
    "import matplotlib.pyplot as plt\n",
    "%matplotlib notebook\n",
    "import numpy as np\n",
    "import quantecon.game_theory as gt\n",
    "def cournot(a, c, N, q_grid):\n",
    "    \"\"\"\n",
    "    Create a `NormalFormGame` instance for the symmetric N-player Cournot game\n",
    "    with linear inverse demand a - Q and constant marginal cost c.\n",
    "\n",
    "    Parameters\n",
    "    ----------\n",
    "    a : scalar\n",
    "        Intercept of the demand curve\n",
    "\n",
    "    c : scalar\n",
    "        Common constant marginal cost\n",
    "\n",
    "    N : scalar(int)\n",
    "        Number of firms\n",
    "\n",
    "    q_grid : array_like(scalar)\n",
    "        Array containing the set of possible quantities\n",
    "\n",
    "    Returns\n",
    "    -------\n",
    "    NormalFormGame\n",
    "        NormalFormGame instance representing the Cournot game\n",
    "\n",
    "    \"\"\"\n",
    "    q_grid = np.asarray(q_grid)\n",
    "    payoff_array = \\\n",
    "        cartesian([q_grid]*N).sum(axis=-1).reshape([len(q_grid)]*N) * (-1) + \\\n",
    "        (a - c)\n",
    "    payoff_array *= q_grid.reshape([len(q_grid)] + [1]*(N-1))\n",
    "    payoff_array += 0  # To get rid of the minus sign of -0\n",
    "\n",
    "    player = gt.Player(payoff_array)\n",
    "    return gt.NormalFormGame([player for i in range(N)])"
   ]
  },
  {
   "cell_type": "markdown",
   "metadata": {},
   "source": [
    "Here's a simple example with three firms,\n",
    "marginal cost $20$, and inverse demand function $80 - Q$,\n",
    "where the feasible quantity values are assumed to be $10$ and $15$."
   ]
  },
  {
   "cell_type": "code",
   "execution_count": 9,
   "metadata": {},
   "outputs": [],
   "source": [
    "a, c = 80, 20\n",
    "N = 3\n",
    "q_grid = [10, 15]  # [1/3 of Monopoly quantity, Nash equilibrium quantity]\n",
    "\n",
    "g_Cou = cournot(a, c, N, q_grid)"
   ]
  },
  {
   "cell_type": "code",
   "execution_count": 10,
   "metadata": {},
   "outputs": [
    {
     "name": "stdout",
     "output_type": "stream",
     "text": [
      "3-player NormalFormGame with payoff profile array:\n",
      "[[[[300, 300, 300],   [250, 250, 375]],\n",
      "  [[250, 375, 250],   [200, 300, 300]]],\n",
      "\n",
      " [[[375, 250, 250],   [300, 200, 300]],\n",
      "  [[300, 300, 200],   [225, 225, 225]]]]\n"
     ]
    }
   ],
   "source": [
    "print(g_Cou)"
   ]
  },
  {
   "cell_type": "code",
   "execution_count": 11,
   "metadata": {},
   "outputs": [
    {
     "name": "stdout",
     "output_type": "stream",
     "text": [
      "Player in a 3-player normal form game with payoff array:\n",
      "[[[300, 250],\n",
      "  [250, 200]],\n",
      "\n",
      " [[375, 300],\n",
      "  [300, 225]]]\n"
     ]
    }
   ],
   "source": [
    "print(g_Cou.players[0])"
   ]
  },
  {
   "cell_type": "code",
   "execution_count": 12,
   "metadata": {},
   "outputs": [
    {
     "data": {
      "text/plain": [
       "(2, 2, 2)"
      ]
     },
     "execution_count": 12,
     "metadata": {},
     "output_type": "execute_result"
    }
   ],
   "source": [
    "g_Cou.nums_actions"
   ]
  },
  {
   "cell_type": "code",
   "execution_count": 13,
   "metadata": {},
   "outputs": [
    {
     "data": {
      "text/plain": [
       "[(1, 1, 1)]"
      ]
     },
     "execution_count": 13,
     "metadata": {},
     "output_type": "execute_result"
    }
   ],
   "source": [
    "gt.pure_nash_brute(g_Cou)"
   ]
  },
  {
   "cell_type": "code",
   "execution_count": 17,
   "metadata": {},
   "outputs": [
    {
     "data": {
      "text/plain": [
       "1"
      ]
     },
     "execution_count": 17,
     "metadata": {},
     "output_type": "execute_result"
    }
   ],
   "source": [
    "g_Cou.players[0].best_response((1,1))"
   ]
  },
  {
   "cell_type": "code",
   "execution_count": 18,
   "metadata": {},
   "outputs": [
    {
     "data": {
      "text/plain": [
       "1"
      ]
     },
     "execution_count": 18,
     "metadata": {},
     "output_type": "execute_result"
    }
   ],
   "source": [
    "g_Cou.players[0].best_response((0,0))"
   ]
  },
  {
   "cell_type": "code",
   "execution_count": null,
   "metadata": {},
   "outputs": [],
   "source": []
  },
  {
   "cell_type": "markdown",
   "metadata": {},
   "source": [
    "### Nash Equilibrium with Continuous Strategy Spaces Duopoly and the N-player Oligopoly Extension\n",
    "\n",
    "https://www.economics.utoronto.ca/osborne/2x3/tutorial/COURNOT.HTM\n",
    "\n",
    "https://www.complexityexplorer.org/tutorials/69-game-theory-i-static-games/segments/5397\n",
    "\n",
    "- Games in which players have an infinite or very large strategy space cannot be represented in a matrix\n",
    "\n",
    "-  If strategies are defined over continuous variables (e.g. quantity produced, price), then the players payoffs are expressed by a function:\n",
    "\n",
    "$$S_i = R_+;  \\quad u_i(s_i, s_2...s_N): R_+^N \\rightarrow R  $$\n",
    "\n",
    "a vector of strategies for which each player is playing a best response to the vector of other player’s strategy"
   ]
  },
  {
   "cell_type": "markdown",
   "metadata": {},
   "source": [
    "https://www.economics.utoronto.ca/osborne/2x3/tutorial/COURNX.HTM\n",
    "\n",
    "http://policonomics.com/lp-game-theory2-cournot-duopoly-model/\n",
    "\n",
    "https://math.stackexchange.com/questions/327617/cournot-nash-equilibrium-in-duopoly"
   ]
  },
  {
   "cell_type": "markdown",
   "metadata": {},
   "source": [
    "#### Nash equilibrium\n",
    "\n",
    "To find a Nash equilibrium, we need to put together the two best response functions. Any pair (y1, y2) of outputs at which they intersect has the property that\n",
    "y1 = b1(y2) and y2 = b2(y1)\n",
    "and hence is a Nash equilibrium.\n",
    "The best response functions are superimposed in the following figure.\n",
    "\n",
    "![](https://www.economics.utoronto.ca/osborne/2x3/tutorial/COURNF5.GIF)"
   ]
  },
  {
   "cell_type": "markdown",
   "metadata": {},
   "source": [
    "Let (y1*, y2*) be a Nash equilibrium, and consider the pairs (y1, y2) of outputs that yield firm 1 the same profit as it obtains in the equilibrium. The set of such pairs is known as an isoprofit curve of firm 1.\n",
    "\n",
    "\n",
    "![](https://www.economics.utoronto.ca/osborne/2x3/tutorial/COURNF6.GIF)\n"
   ]
  },
  {
   "cell_type": "markdown",
   "metadata": {},
   "source": [
    "Now consider the analogous isoprofit curve for firm 2: the set of all pairs (y1, y2) of outputs that yield firm 2 the same profit as it obtains in the equilibrium. This curve is shown in the following figure.\n",
    "\n",
    "\n",
    "\n",
    "![](https://www.economics.utoronto.ca/osborne/2x3/tutorial/COURNF7.GIF)"
   ]
  },
  {
   "cell_type": "markdown",
   "metadata": {},
   "source": [
    "If we put the two curves in the same figure we obtain the following figure.\n",
    "\n",
    "\n",
    "![](https://www.economics.utoronto.ca/osborne/2x3/tutorial/COURNF8.GIF)\n",
    "\n",
    "The lens-shaped area shaded brown is the set of pairs (y1, y2) of outputs for which both firms' profits are higher than they are in equilibrium. So long as the isoprofit curves are smooth, this area always exists. That is:\n",
    "\n",
    "The pair of Nash equilibrium outputs for the firms in Cournot's model does not maximize the firms' total profit. In particular, the total output of the firms in a Nash equilibrium is different from the monopoly output."
   ]
  },
  {
   "cell_type": "code",
   "execution_count": null,
   "metadata": {
    "collapsed": true
   },
   "outputs": [],
   "source": []
  }
 ],
 "metadata": {
  "kernelspec": {
   "display_name": "fastai",
   "language": "python",
   "name": "fastai"
  },
  "language_info": {
   "codemirror_mode": {
    "name": "ipython",
    "version": 3
   },
   "file_extension": ".py",
   "mimetype": "text/x-python",
   "name": "python",
   "nbconvert_exporter": "python",
   "pygments_lexer": "ipython3",
   "version": "3.6.6"
  }
 },
 "nbformat": 4,
 "nbformat_minor": 2
}
