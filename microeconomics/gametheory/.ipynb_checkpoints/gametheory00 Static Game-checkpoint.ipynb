{
 "cells": [
  {
   "cell_type": "code",
   "execution_count": 1,
   "metadata": {
    "ExecuteTime": {
     "end_time": "2018-02-18T19:46:52.665197Z",
     "start_time": "2018-02-18T19:46:44.736246Z"
    },
    "collapsed": true
   },
   "outputs": [],
   "source": [
    "from IPython.display import display, Math, Latex\n",
    "import matplotlib.pyplot as plt\n",
    "%matplotlib notebook\n",
    "import numpy as np\n",
    "import quantecon.game_theory as gt"
   ]
  },
  {
   "cell_type": "code",
   "execution_count": 13,
   "metadata": {
    "collapsed": true
   },
   "outputs": [],
   "source": [
    "from  quantecon.game_theory import *"
   ]
  },
  {
   "cell_type": "markdown",
   "metadata": {},
   "source": [
    "An $N$-player *normal form game* is a triplet $g = (I, (A_i)_{i \\in I}, (u_i)_{i \\in I})$ where\n",
    "\n",
    "* $I = \\{0, \\ldots, N-1\\}$ is the set of players,\n",
    "* $A_i = \\{0, \\ldots, n_i-1\\}$ is the set of actions of player $i \\in I$, and\n",
    "* $u_i \\colon A_i \\times A_{i+1} \\times \\cdots \\times A_{i+N-1} \\to \\mathbb{R}$\n",
    "  is the payoff function of player $i \\in I$,\n",
    "\n",
    "where $i+j$ is understood modulo $N$.\n",
    "\n",
    "Note that we adopt the convention that the $0$-th argument of the payoff function $u_i$ is\n",
    "player $i$'s own action\n",
    "and the $j$-th argument, $j = 1, \\ldots, N-1$, is player ($i+j$)'s action (modulo $N$)."
   ]
  },
  {
   "cell_type": "markdown",
   "metadata": {},
   "source": [
    "For Normal Form Games, we will explore three approaches: \n",
    "\n",
    "- 1) Iterated Elimination of Strictly Dominated Strategies (this set of notes)\n",
    "- 2) Nash Equilibrium in Pure Strategies (Finite and infinite strategy space (next two sets of notes)\n",
    "- 3) Nash Equilibrium in Mixed Strategies "
   ]
  },
  {
   "cell_type": "markdown",
   "metadata": {},
   "source": [
    "A N player normal form game consists of:\n",
    "\n",
    "- A finite set of N players;\n",
    "- Strategy spaces for the players: $S_1,S_2,S_3,…S_N$;\n",
    "- Payoff functions for the players: $u_i:S_1×S_2⋯×S_N→R$"
   ]
  },
  {
   "cell_type": "markdown",
   "metadata": {},
   "source": [
    "## 01 Prisoners’ Dilemma \n",
    "\n",
    ">Assume two thieves have been caught by the police and separated for questioning. If both thieves cooperate and don’t divulge any information they will each get a short sentence. If one defects he/she is offered a deal while the other thief will get a long sentence. If they both defect they both get a medium length sentence.\n",
    "\n",
    "\n",
    "$$% <![CDATA[\n",
    "\\begin{pmatrix}\n",
    "(2,2)&(0,3)\\\\\n",
    "(3,0)&(1,1)\n",
    "\\end{pmatrix} %]]>$$\n",
    "\n",
    "http://policonomics.com/lp-game-theory2-prisoners-dilemma/\n",
    "\n",
    "https://quanteconpy.readthedocs.io/en/latest/game_theory/normal_form_game.html"
   ]
  },
  {
   "cell_type": "code",
   "execution_count": 10,
   "metadata": {
    "ExecuteTime": {
     "end_time": "2018-02-18T19:47:54.071237Z",
     "start_time": "2018-02-18T19:47:54.064767Z"
    },
    "collapsed": true
   },
   "outputs": [],
   "source": [
    "g_PD = gt.NormalFormGame((2, 2))  # There are 2 players, each of whom has 2 actions\n",
    "g_PD[0, 0] = 2, 2\n",
    "g_PD[0, 1] = 0, 3\n",
    "g_PD[1, 0] = 3, 0\n",
    "g_PD[1, 1] = 1, 1"
   ]
  },
  {
   "cell_type": "code",
   "execution_count": 11,
   "metadata": {
    "ExecuteTime": {
     "end_time": "2018-02-18T19:48:05.818438Z",
     "start_time": "2018-02-18T19:48:05.810486Z"
    }
   },
   "outputs": [
    {
     "name": "stdout",
     "output_type": "stream",
     "text": [
      "2-player NormalFormGame with payoff profile array:\n",
      "[[[2., 2.],  [0., 3.]],\n",
      " [[3., 0.],  [1., 1.]]]\n"
     ]
    }
   ],
   "source": [
    "print(g_PD)"
   ]
  },
  {
   "cell_type": "code",
   "execution_count": 12,
   "metadata": {},
   "outputs": [
    {
     "data": {
      "text/plain": [
       "[(1, 1)]"
      ]
     },
     "execution_count": 12,
     "metadata": {},
     "output_type": "execute_result"
    }
   ],
   "source": [
    "gt.pure_nash_brute(g_PD)        "
   ]
  },
  {
   "cell_type": "code",
   "execution_count": null,
   "metadata": {},
   "outputs": [],
   "source": []
  },
  {
   "cell_type": "code",
   "execution_count": null,
   "metadata": {},
   "outputs": [],
   "source": []
  },
  {
   "cell_type": "code",
   "execution_count": 4,
   "metadata": {
    "collapsed": true
   },
   "outputs": [
    {
     "data": {
      "text/plain": [
       "array([[2, 0],\n",
       "       [3, 1]])"
      ]
     },
     "execution_count": 4,
     "metadata": {},
     "output_type": "execute_result"
    }
   ],
   "source": [
    "player0 = gt.Player([[2, 0], [3, 1]])\n",
    "player0.payoff_array"
   ]
  },
  {
   "cell_type": "code",
   "execution_count": 5,
   "metadata": {},
   "outputs": [
    {
     "data": {
      "text/plain": [
       "array([[2, 3],\n",
       "       [0, 1]])"
      ]
     },
     "execution_count": 5,
     "metadata": {},
     "output_type": "execute_result"
    }
   ],
   "source": [
    "player1 = gt.Player([[2, 3], [0, 1]])\n",
    "player1.payoff_array"
   ]
  },
  {
   "cell_type": "code",
   "execution_count": 7,
   "metadata": {},
   "outputs": [
    {
     "name": "stdout",
     "output_type": "stream",
     "text": [
      "2-player NormalFormGame with payoff profile array:\n",
      "[[[2, 2],  [0, 0]],\n",
      " [[3, 3],  [1, 1]]]\n"
     ]
    }
   ],
   "source": [
    "g_PD1 = gt.NormalFormGame((player0, player1))\n",
    "print(g_PD1)"
   ]
  },
  {
   "cell_type": "code",
   "execution_count": null,
   "metadata": {},
   "outputs": [],
   "source": []
  },
  {
   "cell_type": "code",
   "execution_count": null,
   "metadata": {},
   "outputs": [],
   "source": []
  },
  {
   "cell_type": "markdown",
   "metadata": {},
   "source": [
    "## 02 The battle of the sexes\n",
    "\n",
    ">This is the game we’ve been looking at between Bob and Celine:\n",
    "\n",
    "$$% <![CDATA[\n",
    "\\begin{pmatrix}\n",
    "(3,2)&(0,0)\\\\\n",
    "(1,1)&(2,3)\n",
    "\\end{pmatrix} %]]>$$"
   ]
  },
  {
   "cell_type": "code",
   "execution_count": 24,
   "metadata": {
    "ExecuteTime": {
     "end_time": "2018-02-18T19:49:47.197883Z",
     "start_time": "2018-02-18T19:49:47.188450Z"
    }
   },
   "outputs": [
    {
     "name": "stdout",
     "output_type": "stream",
     "text": [
      "2-player NormalFormGame with payoff profile array:\n",
      "[[[3., 2.],  [0., 0.]],\n",
      " [[1., 1.],  [2., 3.]]]\n"
     ]
    }
   ],
   "source": [
    "g_BS = gt.NormalFormGame((2, 2))  # There are 2 players, each of whom has 2 actions\n",
    "\n",
    "g_BS[0, 0] = 3, 2\n",
    "g_BS[0, 1] = 0, 0\n",
    "g_BS[1, 0] = 1, 1\n",
    "g_BS[1, 1] = 2, 3\n",
    "print(g_BS)"
   ]
  },
  {
   "cell_type": "code",
   "execution_count": 25,
   "metadata": {},
   "outputs": [
    {
     "data": {
      "text/plain": [
       "[(0, 0), (1, 1)]"
      ]
     },
     "execution_count": 25,
     "metadata": {},
     "output_type": "execute_result"
    }
   ],
   "source": [
    "pure_nash_brute(g_BS)    "
   ]
  },
  {
   "cell_type": "markdown",
   "metadata": {},
   "source": [
    "Consider the following game (symmetric $2 \\times 2$ \"Coordination Game\"):"
   ]
  },
  {
   "cell_type": "code",
   "execution_count": 20,
   "metadata": {},
   "outputs": [],
   "source": [
    "coordination_game_matrix = [[4, 0],\n",
    "                            [3, 2]]  # square matrix\n",
    "g_Coo = gt.NormalFormGame(coordination_game_matrix)"
   ]
  },
  {
   "cell_type": "code",
   "execution_count": 21,
   "metadata": {},
   "outputs": [
    {
     "name": "stdout",
     "output_type": "stream",
     "text": [
      "2-player NormalFormGame with payoff profile array:\n",
      "[[[4, 4],  [0, 3]],\n",
      " [[3, 0],  [2, 2]]]\n"
     ]
    }
   ],
   "source": [
    "print(g_Coo)"
   ]
  },
  {
   "cell_type": "code",
   "execution_count": 26,
   "metadata": {},
   "outputs": [
    {
     "data": {
      "text/plain": [
       "[(0, 0), (1, 1)]"
      ]
     },
     "execution_count": 26,
     "metadata": {},
     "output_type": "execute_result"
    }
   ],
   "source": [
    "pure_nash_brute(g_Coo)    "
   ]
  },
  {
   "cell_type": "code",
   "execution_count": null,
   "metadata": {},
   "outputs": [],
   "source": []
  },
  {
   "cell_type": "code",
   "execution_count": null,
   "metadata": {},
   "outputs": [],
   "source": []
  },
  {
   "cell_type": "markdown",
   "metadata": {},
   "source": [
    "## 03 Hawk-Dove/Chicken\n",
    "\n",
    ">Suppose two birds of prey must share a limited resource. The birds can act like a hawk or a dove. Hawks always fight over the resource to the point of exterminating a fellow hawk and/or take a majority of the resource from a dove. Two doves can share the resource.\n",
    "\n",
    "$$% <![CDATA[\n",
    "\\begin{pmatrix}\n",
    "(0,0)&(3,1)\\\\\n",
    "(1,3)&(2,2)\n",
    "\\end{pmatrix} %]]>$$\n",
    "\n",
    "\n"
   ]
  },
  {
   "cell_type": "markdown",
   "metadata": {},
   "source": [
    "Pigs\n",
    "\n",
    ">Consider two pigs. One dominant pig and one subservient pig. These pigs share a pen. There is a lever in the pen that delivers food but if either pig pushes the lever it will take them a little while to get to the food. If the dominant pig pushes the lever, the subservient pig has some time to eat most of the food before being pushed out of the way. If the subservient pig push the lever, the dominant pig will eat all the food. Finally if both pigs go to push the lever the subservient pig will be able to eat a third of the food.\n",
    "\n",
    "\n",
    "$$% <![CDATA[\n",
    "\\begin{pmatrix}\n",
    "(4,2)&(2,3)\\\\\n",
    "(6,-1)&(0,0)\n",
    "\\end{pmatrix} %]]>$$"
   ]
  },
  {
   "cell_type": "markdown",
   "metadata": {},
   "source": [
    "## 04 Matching pennies\n",
    "\n",
    ">Consider two players who can choose to display a coin either Heads facing up or Tails facing up. If both players show the same face then player 1 wins, if not then player 2 wins.\n",
    "\n",
    "\n",
    "$$% <![CDATA[\n",
    "\\begin{pmatrix}\n",
    "(1,-1)&(-1,1)\\\\\n",
    "(-1,1)&(1,-1)\n",
    "\\end{pmatrix} %]]>$$"
   ]
  },
  {
   "cell_type": "code",
   "execution_count": 14,
   "metadata": {
    "ExecuteTime": {
     "end_time": "2018-02-18T19:50:21.743963Z",
     "start_time": "2018-02-18T19:50:21.736712Z"
    }
   },
   "outputs": [
    {
     "name": "stdout",
     "output_type": "stream",
     "text": [
      "2-player NormalFormGame with payoff profile array:\n",
      "[[[ 1, -1],  [-1,  1]],\n",
      " [[-1,  1],  [ 1, -1]]]\n"
     ]
    }
   ],
   "source": [
    "matching_pennies_bimatrix = [[(1, -1), (-1, 1)],\n",
    "                             [(-1, 1), (1, -1)]]\n",
    "g_MP = gt.NormalFormGame(matching_pennies_bimatrix)\n",
    "print(g_MP)"
   ]
  },
  {
   "cell_type": "code",
   "execution_count": 15,
   "metadata": {
    "ExecuteTime": {
     "end_time": "2018-02-18T19:51:20.637590Z",
     "start_time": "2018-02-18T19:51:20.632180Z"
    }
   },
   "outputs": [
    {
     "name": "stdout",
     "output_type": "stream",
     "text": [
      "Player in a 2-player normal form game with payoff array:\n",
      "[[-1,  1],\n",
      " [ 1, -1]]\n"
     ]
    }
   ],
   "source": [
    "print(g_MP.players[1])  # Player instance for player 1"
   ]
  },
  {
   "cell_type": "code",
   "execution_count": 16,
   "metadata": {
    "ExecuteTime": {
     "end_time": "2018-02-18T19:51:21.166190Z",
     "start_time": "2018-02-18T19:51:21.160802Z"
    }
   },
   "outputs": [
    {
     "data": {
      "text/plain": [
       "array([[ 1, -1],\n",
       "       [-1,  1]])"
      ]
     },
     "execution_count": 16,
     "metadata": {},
     "output_type": "execute_result"
    }
   ],
   "source": [
    "g_MP.players[0].payoff_array  # Player 0's payoff array"
   ]
  },
  {
   "cell_type": "code",
   "execution_count": 17,
   "metadata": {
    "ExecuteTime": {
     "end_time": "2018-02-18T19:51:31.863216Z",
     "start_time": "2018-02-18T19:51:31.857441Z"
    }
   },
   "outputs": [
    {
     "data": {
      "text/plain": [
       "array([[-1,  1],\n",
       "       [ 1, -1]])"
      ]
     },
     "execution_count": 17,
     "metadata": {},
     "output_type": "execute_result"
    }
   ],
   "source": [
    "g_MP.players[1].payoff_array  # Player 1's payoff array"
   ]
  },
  {
   "cell_type": "code",
   "execution_count": 18,
   "metadata": {
    "ExecuteTime": {
     "end_time": "2018-02-18T19:51:40.897355Z",
     "start_time": "2018-02-18T19:51:40.890130Z"
    }
   },
   "outputs": [
    {
     "data": {
      "text/plain": [
       "array([ 1, -1])"
      ]
     },
     "execution_count": 18,
     "metadata": {},
     "output_type": "execute_result"
    }
   ],
   "source": [
    "g_MP[0, 0]  # payoff profile for action profile (0, 0)"
   ]
  },
  {
   "cell_type": "markdown",
   "metadata": {},
   "source": [
    "If we consider the “Matching Pennies” game, which has no pure nash equilibirum:"
   ]
  },
  {
   "cell_type": "code",
   "execution_count": 19,
   "metadata": {},
   "outputs": [
    {
     "data": {
      "text/plain": [
       "[]"
      ]
     },
     "execution_count": 19,
     "metadata": {},
     "output_type": "execute_result"
    }
   ],
   "source": [
    "pure_nash_brute(g_MP)"
   ]
  },
  {
   "cell_type": "markdown",
   "metadata": {},
   "source": [
    "## 05 Another example (\"**Rock-Paper-Scissors**\"):\n",
    "\n",
    "$\n",
    "\\begin{bmatrix}\n",
    " 0,  0 & -1,  1 &  1, -1 \\\\\n",
    " 1, -1 &  0,  0 & -1,  1 \\\\\n",
    "-1,  1 &  1, -1 &  0,  0\n",
    "\\end{bmatrix}\n",
    "$"
   ]
  },
  {
   "cell_type": "code",
   "execution_count": 27,
   "metadata": {
    "ExecuteTime": {
     "end_time": "2018-02-18T19:52:15.497150Z",
     "start_time": "2018-02-18T19:52:15.490096Z"
    }
   },
   "outputs": [
    {
     "name": "stdout",
     "output_type": "stream",
     "text": [
      "2-player NormalFormGame with payoff profile array:\n",
      "[[[ 0,  0],  [-1,  1],  [ 1, -1]],\n",
      " [[ 1, -1],  [ 0,  0],  [-1,  1]],\n",
      " [[-1,  1],  [ 1, -1],  [ 0,  0]]]\n"
     ]
    }
   ],
   "source": [
    "RPS_matrix = [[ 0, -1,  1],\n",
    "              [ 1,  0, -1],\n",
    "              [-1,  1,  0]]\n",
    "g_RPS = gt.NormalFormGame(RPS_matrix)\n",
    "print(g_RPS)"
   ]
  },
  {
   "cell_type": "code",
   "execution_count": 28,
   "metadata": {},
   "outputs": [
    {
     "data": {
      "text/plain": [
       "[]"
      ]
     },
     "execution_count": 28,
     "metadata": {},
     "output_type": "execute_result"
    }
   ],
   "source": [
    "pure_nash_brute(g_RPS)    "
   ]
  },
  {
   "cell_type": "markdown",
   "metadata": {},
   "source": [
    "# 10 Nash Equilibrium\n",
    "\n",
    "\n",
    "A *Nash equilibrium* of a normal form game is a profile of actions\n",
    "where the action of each player is a best response to the others'.\n",
    "\n",
    "\n",
    "The `Player` object has a method `best_response`.\n",
    "\n",
    "As an example, consider the following game (\"**Matching Pennies**\"):\n",
    "\n",
    "$\n",
    "\\begin{bmatrix}\n",
    "1, -1 & -1, 1 \\\\\n",
    "-1, 1 & 1, -1\n",
    "\\end{bmatrix}\n",
    "$\n",
    "\n",
    "Consider the Matching Pennies game `g_MP` defined above.\n",
    "For example, player 0's best response to the opponent's action 1 is:\n",
    "\n"
   ]
  },
  {
   "cell_type": "code",
   "execution_count": 29,
   "metadata": {
    "ExecuteTime": {
     "end_time": "2018-02-18T19:53:45.012474Z",
     "start_time": "2018-02-18T19:53:45.005879Z"
    }
   },
   "outputs": [
    {
     "data": {
      "text/plain": [
       "1"
      ]
     },
     "execution_count": 29,
     "metadata": {},
     "output_type": "execute_result"
    }
   ],
   "source": [
    "g_MP.players[0].best_response(1)"
   ]
  },
  {
   "cell_type": "markdown",
   "metadata": {},
   "source": [
    "Player 0's best responses to the opponent's mixed action `[0.5, 0.5]`\n",
    "(we know they are 0 and 1):"
   ]
  },
  {
   "cell_type": "code",
   "execution_count": 24,
   "metadata": {
    "ExecuteTime": {
     "end_time": "2018-02-18T19:55:33.129606Z",
     "start_time": "2018-02-18T19:55:33.122937Z"
    }
   },
   "outputs": [
    {
     "data": {
      "text/plain": [
       "0"
      ]
     },
     "execution_count": 24,
     "metadata": {},
     "output_type": "execute_result"
    }
   ],
   "source": [
    "# By default, returns the best response action with the smallest index\n",
    "g_MP.players[0].best_response([0.5, 0.5])"
   ]
  },
  {
   "cell_type": "code",
   "execution_count": 26,
   "metadata": {
    "ExecuteTime": {
     "end_time": "2018-02-18T19:57:28.832516Z",
     "start_time": "2018-02-18T19:57:28.826044Z"
    }
   },
   "outputs": [
    {
     "data": {
      "text/plain": [
       "array([0, 1])"
      ]
     },
     "execution_count": 26,
     "metadata": {},
     "output_type": "execute_result"
    }
   ],
   "source": [
    "# With tie_breaking=False, returns an array of all the best responses\n",
    "g_MP.players[0].best_response([0.5, 0.5], tie_breaking=False)"
   ]
  },
  {
   "cell_type": "code",
   "execution_count": null,
   "metadata": {
    "collapsed": true
   },
   "outputs": [],
   "source": []
  },
  {
   "cell_type": "markdown",
   "metadata": {},
   "source": [
    "For this game, we know that `([0.5, 0.5], [0.5, 0.5])` is a (unique) Nash equilibrium."
   ]
  },
  {
   "cell_type": "code",
   "execution_count": 30,
   "metadata": {
    "ExecuteTime": {
     "end_time": "2018-02-18T19:57:08.955991Z",
     "start_time": "2018-02-18T19:57:08.926265Z"
    }
   },
   "outputs": [
    {
     "data": {
      "text/plain": [
       "True"
      ]
     },
     "execution_count": 30,
     "metadata": {},
     "output_type": "execute_result"
    }
   ],
   "source": [
    "g_MP.is_nash(([0.5, 0.5], [0.5, 0.5]))"
   ]
  },
  {
   "cell_type": "code",
   "execution_count": 31,
   "metadata": {
    "ExecuteTime": {
     "end_time": "2018-02-18T19:58:04.669328Z",
     "start_time": "2018-02-18T19:58:04.663406Z"
    }
   },
   "outputs": [
    {
     "data": {
      "text/plain": [
       "False"
      ]
     },
     "execution_count": 31,
     "metadata": {},
     "output_type": "execute_result"
    }
   ],
   "source": [
    "g_MP.is_nash((0, [0.5, 0.5]))"
   ]
  },
  {
   "cell_type": "markdown",
   "metadata": {},
   "source": [
    "#### Brute force\n",
    "\n",
    "For small games, we can find pure action Nash equilibria by brute force,\n",
    "by calling the routine [`pure_nash_brute`](http://quanteconpy.readthedocs.io/en/latest/game_theory/pure_nash.html#quantecon.game_theory.pure_nash.pure_nash_brute).\n",
    "It visits all the action profiles and check whether each is a Nash equilibrium\n",
    "by the `is_nash` method.gt.pure_nash_brute("
   ]
  },
  {
   "cell_type": "code",
   "execution_count": 32,
   "metadata": {
    "ExecuteTime": {
     "end_time": "2018-02-18T19:59:43.360899Z",
     "start_time": "2018-02-18T19:59:43.354323Z"
    }
   },
   "outputs": [
    {
     "data": {
      "text/plain": [
       "[]"
      ]
     },
     "execution_count": 32,
     "metadata": {},
     "output_type": "execute_result"
    }
   ],
   "source": [
    "gt.pure_nash_brute(g_MP)"
   ]
  },
  {
   "cell_type": "code",
   "execution_count": 33,
   "metadata": {
    "ExecuteTime": {
     "end_time": "2018-02-18T20:00:12.585028Z",
     "start_time": "2018-02-18T20:00:12.579016Z"
    }
   },
   "outputs": [
    {
     "data": {
      "text/plain": [
       "[(0, 0), (1, 1)]"
      ]
     },
     "execution_count": 33,
     "metadata": {},
     "output_type": "execute_result"
    }
   ],
   "source": [
    "gt.pure_nash_brute(g_BS)"
   ]
  },
  {
   "cell_type": "code",
   "execution_count": 34,
   "metadata": {
    "ExecuteTime": {
     "end_time": "2018-02-18T20:00:32.074415Z",
     "start_time": "2018-02-18T20:00:32.067074Z"
    }
   },
   "outputs": [
    {
     "data": {
      "text/plain": [
       "[(1, 1)]"
      ]
     },
     "execution_count": 34,
     "metadata": {},
     "output_type": "execute_result"
    }
   ],
   "source": [
    "gt.pure_nash_brute(g_PD)"
   ]
  },
  {
   "cell_type": "code",
   "execution_count": 35,
   "metadata": {
    "ExecuteTime": {
     "end_time": "2018-02-18T20:01:40.410679Z",
     "start_time": "2018-02-18T20:01:40.403215Z"
    }
   },
   "outputs": [
    {
     "data": {
      "text/plain": [
       "[]"
      ]
     },
     "execution_count": 35,
     "metadata": {},
     "output_type": "execute_result"
    }
   ],
   "source": [
    "gt.pure_nash_brute(g_RPS)"
   ]
  },
  {
   "cell_type": "code",
   "execution_count": null,
   "metadata": {
    "collapsed": true
   },
   "outputs": [],
   "source": []
  },
  {
   "cell_type": "code",
   "execution_count": null,
   "metadata": {
    "collapsed": true
   },
   "outputs": [],
   "source": []
  },
  {
   "cell_type": "markdown",
   "metadata": {},
   "source": [
    "A **pure strategy** is a non-random course of action. In a pure strategy, the moves made by players are specified with certainty\n",
    "certainty."
   ]
  },
  {
   "cell_type": "markdown",
   "metadata": {},
   "source": [
    "In contrast, a **mixed strategy** is one that specifies a probability distribution over each elements of the set of pure strategies available to a player."
   ]
  },
  {
   "cell_type": "markdown",
   "metadata": {},
   "source": [
    "We write that the solution of this game is the vector of strategies $(s_1, s_2) = (4, 4)$\n",
    "\n",
    "\n",
    "[ALWAYS DEFINE A SOLUTION BY STRATEGIES, NEVER BY THE CORRESPONDING PAYOFFS]"
   ]
  },
  {
   "cell_type": "markdown",
   "metadata": {},
   "source": [
    "### 11 Solving games by iterated elimination of dominated strategies\n",
    "\n",
    "-  If a strategy is strictly dominated, eliminate it \n",
    "\n",
    "-  The size and complexity of the game is reduced \n",
    "\n",
    "-  Eliminate any strictly dominated strategies from the reduced game\n",
    "\n",
    "-  Continue doing so successively until no elimination can be made"
   ]
  },
  {
   "cell_type": "markdown",
   "metadata": {},
   "source": [
    "**(Dominated Strategy)**. A strategy $s_1$ is **strictly dominated** by $s'$\n",
    " for Player 1 if and only if \n",
    "\n",
    "$$u_1(s_1, s_2) < u_1(s', s2) \\quad \\text{for all} \\quad    s_2 \\in S_2 $$\n",
    "\n",
    "\n",
    "A strategy is said to be (strictly/weakly) DOMINANT if playing it ALWAYS yields the (strictly/weakly) highest possible payoff, for any vector of strategies chosen by all other players.\n",
    "\n",
    "A strictly dominant strategy is always played by a rational player  A (strictly/weakly) dominant strategy always survives the IESDS\n",
    "\n",
    "Weakly Dominated Strategies CAN NOT Be Eliminated\n",
    "\n",
    "The problem is that the order in which one chooses to eliminate weakly dominated strategies can alter the prediction of play"
   ]
  },
  {
   "cell_type": "markdown",
   "metadata": {},
   "source": [
    "Rational players never play strictly dominated strategies because it is always possible to do better regardless of the strategies chosen by other players."
   ]
  },
  {
   "cell_type": "markdown",
   "metadata": {},
   "source": [
    "**(Dominant-Strategy Equilibrium)**. In a dominant-strategy equilibrium every player in the game chooses their dominant strategy. A game will only have a dominant-strategy equilibrium if all the players have a dominant strategy"
   ]
  },
  {
   "cell_type": "markdown",
   "metadata": {},
   "source": [
    "**(Weakly Dominant Strategy)**. In a two-player game the payoffs to a player from choosing a weakly dominant strategy are\n",
    "- (a) at least as high as those from choosing any other strategy in response to any strategy the other player chooses and\n",
    "- (b) higher than those from choosing any other strategy in response to at least one strategy of the other player."
   ]
  },
  {
   "cell_type": "markdown",
   "metadata": {},
   "source": [
    "**(Weakly Dominated Strategy)**. A strategy s1 is weakly dominated by s0\n",
    "1 for Player 1 if and only if \n",
    "\n",
    "$$\n",
    "\\begin{cases}\n",
    "  u_1(s_1, s_2) \\le u_1(s', s_2) \\quad \\text{for all} \\quad    s_2 \\in S_2 \\\\    \n",
    "  u_1(s_1, s_2) < u_1(s', s_2) \\quad \\text{for at least one} \\quad    s_2 \\in S_2    \n",
    "\\end{cases}\n",
    "$$\n",
    "\n",
    "A weakly dominated strategy si is never strictly better than s0 some environment which is strictly worse than s0"
   ]
  },
  {
   "cell_type": "markdown",
   "metadata": {},
   "source": [
    "*Remark*. Unlike a strictly dominated strategy, a strategy that is only weakly dominated cannot be ruled out based solely on principles of rationality."
   ]
  },
  {
   "cell_type": "markdown",
   "metadata": {},
   "source": [
    "## 12 Nash equilibrium \n",
    "\n",
    "-  A vector of strategies, one for each player, such that each player’s strategy is best for her, when all other players are playing their equilibrium strategies\n",
    "-  A vector of strategies where, given the chance, no player would choose to **UNILATERALLY** change her strategy after learning the strategies adopted by the other players\n",
    "-  A vector of **best responses** by all players\n",
    "\n",
    "\n",
    "$$u_i(s_i^*, s_{-i}^*) \\ge u_i(s_i, s_{-i}^*) \\quad \\text{for all} \\quad    s_i \\in S_i \\\\    $$"
   ]
  },
  {
   "cell_type": "markdown",
   "metadata": {},
   "source": [
    "- Finding Nash Equilibria by Identifying Best Responses\n",
    "\n",
    "- Nash equilibria survive iterated elimination of strictly dominated strategies\n",
    "\n",
    "- The strategies that survive iterated elimination of strictly dominated strategies are not necessarily Nash equilibrium strategies\n",
    "\n",
    "- There may be no Nash Equilibrium (in pure strategies)\n",
    "\n",
    "Rock Rock Player \n",
    "\n",
    "- There may be multiple Nash Equilibria (in pure strategies)\n",
    "\n",
    "BOS"
   ]
  },
  {
   "cell_type": "markdown",
   "metadata": {},
   "source": [
    "## 13 Mixed Strategy Nash Equilibrium\n",
    "\n",
    "\n",
    "https://www.complexityexplorer.org/tutorials/69-game-theory-i-static-games/segments/5392\n",
    "\n",
    "Mixed Strategy: mixed\n",
    "-  A mixed strategy of a player is a probability distribution over the player’s (pure) strategies.\n",
    "\n",
    "\n",
    "$$% <![CDATA[\n",
    "\\begin{pmatrix}\n",
    "(1,-1)&(-1,1)\\\\\n",
    "(-1,1)&(1,-1)\n",
    "\\end{pmatrix} %]]>$$"
   ]
  },
  {
   "cell_type": "markdown",
   "metadata": {},
   "source": [
    "Matching pennies – NO P.S.N.E.\n",
    "\n",
    "|       | Head          | Tail  |\n",
    "| ------------- |:-------------:| -----:|\n",
    "| **Head**     | -1     1 | 1 -1 |\n",
    "| **Tail **     | 1 -1 |   -1 -1 |\n"
   ]
  },
  {
   "cell_type": "markdown",
   "metadata": {},
   "source": [
    "\n",
    "\n",
    "|       | Head          | Tail  |\n",
    "| ------------- |:-------------:| -----:|\n",
    "| **Head**     | -1     $\\underline 1$ | 1 -1 |\n",
    "| **Tail **     | 1 -1 |   -1 -1 |\n",
    "\n",
    "NO Pure Strategy Nash Equilibrium"
   ]
  },
  {
   "cell_type": "markdown",
   "metadata": {},
   "source": [
    "leave each player uninterested in modifying his her strategy if she\n",
    "was given the unilateral possibility to do so once the other’s choice is known\n",
    "\n",
    "|       | Head  q        | Tail 1-q  |\n",
    "| ------------- |:-------------:| -----:|\n",
    "| **Head**  p   | -1     1 | 1 -1 |\n",
    "| **Tail **  1-p   | 1 -1 |   -1 -1 |\n",
    "\n",
    "\n",
    "- Randomize your strategies to surprise the rival\n",
    "\n",
    "- Mixed Strategy: \n",
    " -  Specifies that an actual move be chosen randomly from the set of pure strategies with some specific probabilities.\n"
   ]
  },
  {
   "cell_type": "markdown",
   "metadata": {},
   "source": [
    "the utility function which maps from the set of pure strategies to R using expected payoffs. For a two player game we have:\n",
    "\n",
    "$$u_{i}(\\sigma_1,\\sigma_2)=\\sum_{r\\in S_1,c\\in S_2}\\sigma_1(r)\\sigma_2(c)u_{i}(r,c)$$"
   ]
  },
  {
   "cell_type": "markdown",
   "metadata": {},
   "source": [
    "### Equality of payoffs theorem\n",
    "\n",
    "#### Definition of the support of a strategy\n",
    "\n",
    "\n",
    "In an N player normal form game the support of a strategy $\\sigma\\in\\Delta S_i$ is defined as: \n",
    "    \n",
    "    \n",
    "$$\\mathcal{S}(\\sigma)=\\{s\\in S_i\\;|\\;\\sigma(s)>0\\}$$\n",
    "\n",
    "\n",
    "\n",
    "In an NN player normal form game if the strategy profile $(σ_i,s_{−i})$ is a Nash equilibria then:\n",
    "\n",
    "\n",
    "$$u_{i}(\\sigma_i,s_{-i})=u_{i}(s,s_{-i})\\text{ for all }s\\in\\mathcal{S}(\\sigma_i)\\text{ for all }1\\leq i\\leq N$$"
   ]
  },
  {
   "cell_type": "markdown",
   "metadata": {},
   "source": [
    "#### Employee Monitoring\n",
    "\n",
    "|||Manager||\n",
    "|--| ------------- |:-------------:| -----:|\n",
    "||       | Monitor  q        | Not Monitor 1-q  |\n",
    "|**Employee**| Work  p   | 50,    90 | 50, 100 |\n",
    "|| Shirk   1-p   | 0,  -10 |   100, -100 |"
   ]
  },
  {
   "cell_type": "markdown",
   "metadata": {},
   "source": [
    "$$EU_1(Work,(q,1-q) )= EU_1(Shirk,(q,1-q)) \\\\\n",
    " EU_2(p)= EU_2(p)$$"
   ]
  },
  {
   "cell_type": "markdown",
   "metadata": {},
   "source": [
    "Employee’s best response B1(q): \n",
    "- Shirk (p=0) if q<0.5 \n",
    "- Work (p=1) if q>0.5\n",
    "- Any mixed strategy (0<p<1) if q=0.5"
   ]
  },
  {
   "cell_type": "markdown",
   "metadata": {},
   "source": [
    "Manager’s best response B2(p): \n",
    "\n",
    "- Monitor (q=1) if p<0.9 \n",
    "\n",
    "- Not Monitor (q=0) if p>0.9\n",
    "\n",
    "- Any mixed strategy (0<q<1) if p=0.9"
   ]
  },
  {
   "cell_type": "code",
   "execution_count": 36,
   "metadata": {
    "ExecuteTime": {
     "end_time": "2018-02-18T06:28:47.870430Z",
     "start_time": "2018-02-18T06:28:47.690422Z"
    }
   },
   "outputs": [
    {
     "data": {
      "text/plain": [
       "<matplotlib.legend.Legend at 0x26f676bd198>"
      ]
     },
     "execution_count": 36,
     "metadata": {},
     "output_type": "execute_result"
    },
    {
     "data": {
      "image/png": "[encoded data removed]",
      "text/plain": [
       "<Figure size 432x288 with 1 Axes>"
      ]
     },
     "metadata": {
      "needs_background": "light"
     },
     "output_type": "display_data"
    }
   ],
   "source": [
    "plt.figure()\n",
    "p = [0,0.5,1,1] \n",
    "q = [0, 0,1,1]\n",
    "\n",
    "\n",
    "plt.step(p, q,label = \"Employee’s best response\")\n",
    "\n",
    "p2 = [0,0,1,1] \n",
    "q2 = [1,0.9,0.9 ,0]\n",
    "\n",
    "plt.step(p2, q2,label = \"Manager’s best response\")\n",
    "plt.xlabel(\"q\")\n",
    "plt.ylabel(\"p\")\n",
    "plt.legend()"
   ]
  },
  {
   "cell_type": "markdown",
   "metadata": {},
   "source": [
    "## MSNE Theorem 1\n",
    "\n",
    "Theorem 1 says: “Playing an equilibrium mixture against the equilibrium mixture of other players yields an expected payoff at least as high as any pure strategy available”\n",
    "\n",
    "\n",
    "This follows logically from the observation that if there exists a pure strategy that provided a greater payoff, the player would be better off adopting it instead of the mixed strategy.\n",
    "\n",
    "Hence, MSNE only exist if is possible to do at least as well by randomizing as one can do with a pure strategy."
   ]
  },
  {
   "cell_type": "markdown",
   "metadata": {},
   "source": [
    "### Theorem 2 says: “an interior equilibrium mixture of one player leaves the other player indifferent between playing her pure strategies”\n",
    "\n",
    " If it were not true, once again, a pure strategy would be desirable to the mixed strategy."
   ]
  },
  {
   "cell_type": "markdown",
   "metadata": {},
   "source": [
    "Penalty Kicks\n",
    "\n",
    "|||Kicker||\n",
    "|--| ------------- |:-------------:| -----:|\n",
    "||       | Left  q        | Left 1-q  |\n",
    "|**Goalie**| Left  p   | 36.6,    63.2 | 10.5, 89.5 |\n",
    "|| Left   1-p   | 5.9,  94.1 |   56.0, 44.0 |"
   ]
  },
  {
   "cell_type": "code",
   "execution_count": 3,
   "metadata": {
    "ExecuteTime": {
     "end_time": "2018-02-18T06:29:20.018649Z",
     "start_time": "2018-02-18T06:29:19.911086Z"
    }
   },
   "outputs": [
    {
     "data": {
      "application/javascript": [
       "/* Put everything inside the global mpl namespace */\n",
       "window.mpl = {};\n",
       "\n",
       "\n",
       "mpl.get_websocket_type = function() {\n",
       "    if (typeof(WebSocket) !== 'undefined') {\n",
       "        return WebSocket;\n",
       "    } else if (typeof(MozWebSocket) !== 'undefined') {\n",
       "        return MozWebSocket;\n",
       "    } else {\n",
       "        alert('Your browser does not have WebSocket support.' +\n",
       "              'Please try Chrome, Safari or Firefox ≥ 6. ' +\n",
       "              'Firefox 4 and 5 are also supported but you ' +\n",
       "              'have to enable WebSockets in about:config.');\n",
       "    };\n",
       "}\n",
       "\n",
       "mpl.figure = function(figure_id, websocket, ondownload, parent_element) {\n",
       "    this.id = figure_id;\n",
       "\n",
       "    this.ws = websocket;\n",
       "\n",
       "    this.supports_binary = (this.ws.binaryType != undefined);\n",
       "\n",
       "    if (!this.supports_binary) {\n",
       "        var warnings = document.getElementById(\"mpl-warnings\");\n",
       "        if (warnings) {\n",
       "            warnings.style.display = 'block';\n",
       "            warnings.textContent = (\n",
       "                \"This browser does not support binary websocket messages. \" +\n",
       "                    \"Performance may be slow.\");\n",
       "        }\n",
       "    }\n",
       "\n",
       "    this.imageObj = new Image();\n",
       "\n",
       "    this.context = undefined;\n",
       "    this.message = undefined;\n",
       "    this.canvas = undefined;\n",
       "    this.rubberband_canvas = undefined;\n",
       "    this.rubberband_context = undefined;\n",
       "    this.format_dropdown = undefined;\n",
       "\n",
       "    this.image_mode = 'full';\n",
       "\n",
       "    this.root = $('<div/>');\n",
       "    this._root_extra_style(this.root)\n",
       "    this.root.attr('style', 'display: inline-block');\n",
       "\n",
       "    $(parent_element).append(this.root);\n",
       "\n",
       "    this._init_header(this);\n",
       "    this._init_canvas(this);\n",
       "    this._init_toolbar(this);\n",
       "\n",
       "    var fig = this;\n",
       "\n",
       "    this.waiting = false;\n",
       "\n",
       "    this.ws.onopen =  function () {\n",
       "            fig.send_message(\"supports_binary\", {value: fig.supports_binary});\n",
       "            fig.send_message(\"send_image_mode\", {});\n",
       "            if (mpl.ratio != 1) {\n",
       "                fig.send_message(\"set_dpi_ratio\", {'dpi_ratio': mpl.ratio});\n",
       "            }\n",
       "            fig.send_message(\"refresh\", {});\n",
       "        }\n",
       "\n",
       "    this.imageObj.onload = function() {\n",
       "            if (fig.image_mode == 'full') {\n",
       "                // Full images could contain transparency (where diff images\n",
       "                // almost always do), so we need to clear the canvas so that\n",
       "                // there is no ghosting.\n",
       "                fig.context.clearRect(0, 0, fig.canvas.width, fig.canvas.height);\n",
       "            }\n",
       "            fig.context.drawImage(fig.imageObj, 0, 0);\n",
       "        };\n",
       "\n",
       "    this.imageObj.onunload = function() {\n",
       "        this.ws.close();\n",
       "    }\n",
       "\n",
       "    this.ws.onmessage = this._make_on_message_function(this);\n",
       "\n",
       "    this.ondownload = ondownload;\n",
       "}\n",
       "\n",
       "mpl.figure.prototype._init_header = function() {\n",
       "    var titlebar = $(\n",
       "        '<div class=\"ui-dialog-titlebar ui-widget-header ui-corner-all ' +\n",
       "        'ui-helper-clearfix\"/>');\n",
       "    var titletext = $(\n",
       "        '<div class=\"ui-dialog-title\" style=\"width: 100%; ' +\n",
       "        'text-align: center; padding: 3px;\"/>');\n",
       "    titlebar.append(titletext)\n",
       "    this.root.append(titlebar);\n",
       "    this.header = titletext[0];\n",
       "}\n",
       "\n",
       "\n",
       "\n",
       "mpl.figure.prototype._canvas_extra_style = function(canvas_div) {\n",
       "\n",
       "}\n",
       "\n",
       "\n",
       "mpl.figure.prototype._root_extra_style = function(canvas_div) {\n",
       "\n",
       "}\n",
       "\n",
       "mpl.figure.prototype._init_canvas = function() {\n",
       "    var fig = this;\n",
       "\n",
       "    var canvas_div = $('<div/>');\n",
       "\n",
       "    canvas_div.attr('style', 'position: relative; clear: both; outline: 0');\n",
       "\n",
       "    function canvas_keyboard_event(event) {\n",
       "        return fig.key_event(event, event['data']);\n",
       "    }\n",
       "\n",
       "    canvas_div.keydown('key_press', canvas_keyboard_event);\n",
       "    canvas_div.keyup('key_release', canvas_keyboard_event);\n",
       "    this.canvas_div = canvas_div\n",
       "    this._canvas_extra_style(canvas_div)\n",
       "    this.root.append(canvas_div);\n",
       "\n",
       "    var canvas = $('<canvas/>');\n",
       "    canvas.addClass('mpl-canvas');\n",
       "    canvas.attr('style', \"left: 0; top: 0; z-index: 0; outline: 0\")\n",
       "\n",
       "    this.canvas = canvas[0];\n",
       "    this.context = canvas[0].getContext(\"2d\");\n",
       "\n",
       "    var backingStore = this.context.backingStorePixelRatio ||\n",
       "\tthis.context.webkitBackingStorePixelRatio ||\n",
       "\tthis.context.mozBackingStorePixelRatio ||\n",
       "\tthis.context.msBackingStorePixelRatio ||\n",
       "\tthis.context.oBackingStorePixelRatio ||\n",
       "\tthis.context.backingStorePixelRatio || 1;\n",
       "\n",
       "    mpl.ratio = (window.devicePixelRatio || 1) / backingStore;\n",
       "\n",
       "    var rubberband = $('<canvas/>');\n",
       "    rubberband.attr('style', \"position: absolute; left: 0; top: 0; z-index: 1;\")\n",
       "\n",
       "    var pass_mouse_events = true;\n",
       "\n",
       "    canvas_div.resizable({\n",
       "        start: function(event, ui) {\n",
       "            pass_mouse_events = false;\n",
       "        },\n",
       "        resize: function(event, ui) {\n",
       "            fig.request_resize(ui.size.width, ui.size.height);\n",
       "        },\n",
       "        stop: function(event, ui) {\n",
       "            pass_mouse_events = true;\n",
       "            fig.request_resize(ui.size.width, ui.size.height);\n",
       "        },\n",
       "    });\n",
       "\n",
       "    function mouse_event_fn(event) {\n",
       "        if (pass_mouse_events)\n",
       "            return fig.mouse_event(event, event['data']);\n",
       "    }\n",
       "\n",
       "    rubberband.mousedown('button_press', mouse_event_fn);\n",
       "    rubberband.mouseup('button_release', mouse_event_fn);\n",
       "    // Throttle sequential mouse events to 1 every 20ms.\n",
       "    rubberband.mousemove('motion_notify', mouse_event_fn);\n",
       "\n",
       "    rubberband.mouseenter('figure_enter', mouse_event_fn);\n",
       "    rubberband.mouseleave('figure_leave', mouse_event_fn);\n",
       "\n",
       "    canvas_div.on(\"wheel\", function (event) {\n",
       "        event = event.originalEvent;\n",
       "        event['data'] = 'scroll'\n",
       "        if (event.deltaY < 0) {\n",
       "            event.step = 1;\n",
       "        } else {\n",
       "            event.step = -1;\n",
       "        }\n",
       "        mouse_event_fn(event);\n",
       "    });\n",
       "\n",
       "    canvas_div.append(canvas);\n",
       "    canvas_div.append(rubberband);\n",
       "\n",
       "    this.rubberband = rubberband;\n",
       "    this.rubberband_canvas = rubberband[0];\n",
       "    this.rubberband_context = rubberband[0].getContext(\"2d\");\n",
       "    this.rubberband_context.strokeStyle = \"#000000\";\n",
       "\n",
       "    this._resize_canvas = function(width, height) {\n",
       "        // Keep the size of the canvas, canvas container, and rubber band\n",
       "        // canvas in synch.\n",
       "        canvas_div.css('width', width)\n",
       "        canvas_div.css('height', height)\n",
       "\n",
       "        canvas.attr('width', width * mpl.ratio);\n",
       "        canvas.attr('height', height * mpl.ratio);\n",
       "        canvas.attr('style', 'width: ' + width + 'px; height: ' + height + 'px;');\n",
       "\n",
       "        rubberband.attr('width', width);\n",
       "        rubberband.attr('height', height);\n",
       "    }\n",
       "\n",
       "    // Set the figure to an initial 600x600px, this will subsequently be updated\n",
       "    // upon first draw.\n",
       "    this._resize_canvas(600, 600);\n",
       "\n",
       "    // Disable right mouse context menu.\n",
       "    $(this.rubberband_canvas).bind(\"contextmenu\",function(e){\n",
       "        return false;\n",
       "    });\n",
       "\n",
       "    function set_focus () {\n",
       "        canvas.focus();\n",
       "        canvas_div.focus();\n",
       "    }\n",
       "\n",
       "    window.setTimeout(set_focus, 100);\n",
       "}\n",
       "\n",
       "mpl.figure.prototype._init_toolbar = function() {\n",
       "    var fig = this;\n",
       "\n",
       "    var nav_element = $('<div/>')\n",
       "    nav_element.attr('style', 'width: 100%');\n",
       "    this.root.append(nav_element);\n",
       "\n",
       "    // Define a callback function for later on.\n",
       "    function toolbar_event(event) {\n",
       "        return fig.toolbar_button_onclick(event['data']);\n",
       "    }\n",
       "    function toolbar_mouse_event(event) {\n",
       "        return fig.toolbar_button_onmouseover(event['data']);\n",
       "    }\n",
       "\n",
       "    for(var toolbar_ind in mpl.toolbar_items) {\n",
       "        var name = mpl.toolbar_items[toolbar_ind][0];\n",
       "        var tooltip = mpl.toolbar_items[toolbar_ind][1];\n",
       "        var image = mpl.toolbar_items[toolbar_ind][2];\n",
       "        var method_name = mpl.toolbar_items[toolbar_ind][3];\n",
       "\n",
       "        if (!name) {\n",
       "            // put a spacer in here.\n",
       "            continue;\n",
       "        }\n",
       "        var button = $('<button/>');\n",
       "        button.addClass('ui-button ui-widget ui-state-default ui-corner-all ' +\n",
       "                        'ui-button-icon-only');\n",
       "        button.attr('role', 'button');\n",
       "        button.attr('aria-disabled', 'false');\n",
       "        button.click(method_name, toolbar_event);\n",
       "        button.mouseover(tooltip, toolbar_mouse_event);\n",
       "\n",
       "        var icon_img = $('<span/>');\n",
       "        icon_img.addClass('ui-button-icon-primary ui-icon');\n",
       "        icon_img.addClass(image);\n",
       "        icon_img.addClass('ui-corner-all');\n",
       "\n",
       "        var tooltip_span = $('<span/>');\n",
       "        tooltip_span.addClass('ui-button-text');\n",
       "        tooltip_span.html(tooltip);\n",
       "\n",
       "        button.append(icon_img);\n",
       "        button.append(tooltip_span);\n",
       "\n",
       "        nav_element.append(button);\n",
       "    }\n",
       "\n",
       "    var fmt_picker_span = $('<span/>');\n",
       "\n",
       "    var fmt_picker = $('<select/>');\n",
       "    fmt_picker.addClass('mpl-toolbar-option ui-widget ui-widget-content');\n",
       "    fmt_picker_span.append(fmt_picker);\n",
       "    nav_element.append(fmt_picker_span);\n",
       "    this.format_dropdown = fmt_picker[0];\n",
       "\n",
       "    for (var ind in mpl.extensions) {\n",
       "        var fmt = mpl.extensions[ind];\n",
       "        var option = $(\n",
       "            '<option/>', {selected: fmt === mpl.default_extension}).html(fmt);\n",
       "        fmt_picker.append(option)\n",
       "    }\n",
       "\n",
       "    // Add hover states to the ui-buttons\n",
       "    $( \".ui-button\" ).hover(\n",
       "        function() { $(this).addClass(\"ui-state-hover\");},\n",
       "        function() { $(this).removeClass(\"ui-state-hover\");}\n",
       "    );\n",
       "\n",
       "    var status_bar = $('<span class=\"mpl-message\"/>');\n",
       "    nav_element.append(status_bar);\n",
       "    this.message = status_bar[0];\n",
       "}\n",
       "\n",
       "mpl.figure.prototype.request_resize = function(x_pixels, y_pixels) {\n",
       "    // Request matplotlib to resize the figure. Matplotlib will then trigger a resize in the client,\n",
       "    // which will in turn request a refresh of the image.\n",
       "    this.send_message('resize', {'width': x_pixels, 'height': y_pixels});\n",
       "}\n",
       "\n",
       "mpl.figure.prototype.send_message = function(type, properties) {\n",
       "    properties['type'] = type;\n",
       "    properties['figure_id'] = this.id;\n",
       "    this.ws.send(JSON.stringify(properties));\n",
       "}\n",
       "\n",
       "mpl.figure.prototype.send_draw_message = function() {\n",
       "    if (!this.waiting) {\n",
       "        this.waiting = true;\n",
       "        this.ws.send(JSON.stringify({type: \"draw\", figure_id: this.id}));\n",
       "    }\n",
       "}\n",
       "\n",
       "\n",
       "mpl.figure.prototype.handle_save = function(fig, msg) {\n",
       "    var format_dropdown = fig.format_dropdown;\n",
       "    var format = format_dropdown.options[format_dropdown.selectedIndex].value;\n",
       "    fig.ondownload(fig, format);\n",
       "}\n",
       "\n",
       "\n",
       "mpl.figure.prototype.handle_resize = function(fig, msg) {\n",
       "    var size = msg['size'];\n",
       "    if (size[0] != fig.canvas.width || size[1] != fig.canvas.height) {\n",
       "        fig._resize_canvas(size[0], size[1]);\n",
       "        fig.send_message(\"refresh\", {});\n",
       "    };\n",
       "}\n",
       "\n",
       "mpl.figure.prototype.handle_rubberband = function(fig, msg) {\n",
       "    var x0 = msg['x0'] / mpl.ratio;\n",
       "    var y0 = (fig.canvas.height - msg['y0']) / mpl.ratio;\n",
       "    var x1 = msg['x1'] / mpl.ratio;\n",
       "    var y1 = (fig.canvas.height - msg['y1']) / mpl.ratio;\n",
       "    x0 = Math.floor(x0) + 0.5;\n",
       "    y0 = Math.floor(y0) + 0.5;\n",
       "    x1 = Math.floor(x1) + 0.5;\n",
       "    y1 = Math.floor(y1) + 0.5;\n",
       "    var min_x = Math.min(x0, x1);\n",
       "    var min_y = Math.min(y0, y1);\n",
       "    var width = Math.abs(x1 - x0);\n",
       "    var height = Math.abs(y1 - y0);\n",
       "\n",
       "    fig.rubberband_context.clearRect(\n",
       "        0, 0, fig.canvas.width, fig.canvas.height);\n",
       "\n",
       "    fig.rubberband_context.strokeRect(min_x, min_y, width, height);\n",
       "}\n",
       "\n",
       "mpl.figure.prototype.handle_figure_label = function(fig, msg) {\n",
       "    // Updates the figure title.\n",
       "    fig.header.textContent = msg['label'];\n",
       "}\n",
       "\n",
       "mpl.figure.prototype.handle_cursor = function(fig, msg) {\n",
       "    var cursor = msg['cursor'];\n",
       "    switch(cursor)\n",
       "    {\n",
       "    case 0:\n",
       "        cursor = 'pointer';\n",
       "        break;\n",
       "    case 1:\n",
       "        cursor = 'default';\n",
       "        break;\n",
       "    case 2:\n",
       "        cursor = 'crosshair';\n",
       "        break;\n",
       "    case 3:\n",
       "        cursor = 'move';\n",
       "        break;\n",
       "    }\n",
       "    fig.rubberband_canvas.style.cursor = cursor;\n",
       "}\n",
       "\n",
       "mpl.figure.prototype.handle_message = function(fig, msg) {\n",
       "    fig.message.textContent = msg['message'];\n",
       "}\n",
       "\n",
       "mpl.figure.prototype.handle_draw = function(fig, msg) {\n",
       "    // Request the server to send over a new figure.\n",
       "    fig.send_draw_message();\n",
       "}\n",
       "\n",
       "mpl.figure.prototype.handle_image_mode = function(fig, msg) {\n",
       "    fig.image_mode = msg['mode'];\n",
       "}\n",
       "\n",
       "mpl.figure.prototype.updated_canvas_event = function() {\n",
       "    // Called whenever the canvas gets updated.\n",
       "    this.send_message(\"ack\", {});\n",
       "}\n",
       "\n",
       "// A function to construct a web socket function for onmessage handling.\n",
       "// Called in the figure constructor.\n",
       "mpl.figure.prototype._make_on_message_function = function(fig) {\n",
       "    return function socket_on_message(evt) {\n",
       "        if (evt.data instanceof Blob) {\n",
       "            /* FIXME: We get \"Resource interpreted as Image but\n",
       "             * transferred with MIME type text/plain:\" errors on\n",
       "             * Chrome.  But how to set the MIME type?  It doesn't seem\n",
       "             * to be part of the websocket stream */\n",
       "            evt.data.type = \"image/png\";\n",
       "\n",
       "            /* Free the memory for the previous frames */\n",
       "            if (fig.imageObj.src) {\n",
       "                (window.URL || window.webkitURL).revokeObjectURL(\n",
       "                    fig.imageObj.src);\n",
       "            }\n",
       "\n",
       "            fig.imageObj.src = (window.URL || window.webkitURL).createObjectURL(\n",
       "                evt.data);\n",
       "            fig.updated_canvas_event();\n",
       "            fig.waiting = false;\n",
       "            return;\n",
       "        }\n",
       "        else if (typeof evt.data === 'string' && evt.data.slice(0, 21) == \"data:image/png;base64\") {\n",
       "            fig.imageObj.src = evt.data;\n",
       "            fig.updated_canvas_event();\n",
       "            fig.waiting = false;\n",
       "            return;\n",
       "        }\n",
       "\n",
       "        var msg = JSON.parse(evt.data);\n",
       "        var msg_type = msg['type'];\n",
       "\n",
       "        // Call the  \"handle_{type}\" callback, which takes\n",
       "        // the figure and JSON message as its only arguments.\n",
       "        try {\n",
       "            var callback = fig[\"handle_\" + msg_type];\n",
       "        } catch (e) {\n",
       "            console.log(\"No handler for the '\" + msg_type + \"' message type: \", msg);\n",
       "            return;\n",
       "        }\n",
       "\n",
       "        if (callback) {\n",
       "            try {\n",
       "                // console.log(\"Handling '\" + msg_type + \"' message: \", msg);\n",
       "                callback(fig, msg);\n",
       "            } catch (e) {\n",
       "                console.log(\"Exception inside the 'handler_\" + msg_type + \"' callback:\", e, e.stack, msg);\n",
       "            }\n",
       "        }\n",
       "    };\n",
       "}\n",
       "\n",
       "// from http://stackoverflow.com/questions/1114465/getting-mouse-location-in-canvas\n",
       "mpl.findpos = function(e) {\n",
       "    //this section is from http://www.quirksmode.org/js/events_properties.html\n",
       "    var targ;\n",
       "    if (!e)\n",
       "        e = window.event;\n",
       "    if (e.target)\n",
       "        targ = e.target;\n",
       "    else if (e.srcElement)\n",
       "        targ = e.srcElement;\n",
       "    if (targ.nodeType == 3) // defeat Safari bug\n",
       "        targ = targ.parentNode;\n",
       "\n",
       "    // jQuery normalizes the pageX and pageY\n",
       "    // pageX,Y are the mouse positions relative to the document\n",
       "    // offset() returns the position of the element relative to the document\n",
       "    var x = e.pageX - $(targ).offset().left;\n",
       "    var y = e.pageY - $(targ).offset().top;\n",
       "\n",
       "    return {\"x\": x, \"y\": y};\n",
       "};\n",
       "\n",
       "/*\n",
       " * return a copy of an object with only non-object keys\n",
       " * we need this to avoid circular references\n",
       " * http://stackoverflow.com/a/24161582/3208463\n",
       " */\n",
       "function simpleKeys (original) {\n",
       "  return Object.keys(original).reduce(function (obj, key) {\n",
       "    if (typeof original[key] !== 'object')\n",
       "        obj[key] = original[key]\n",
       "    return obj;\n",
       "  }, {});\n",
       "}\n",
       "\n",
       "mpl.figure.prototype.mouse_event = function(event, name) {\n",
       "    var canvas_pos = mpl.findpos(event)\n",
       "\n",
       "    if (name === 'button_press')\n",
       "    {\n",
       "        this.canvas.focus();\n",
       "        this.canvas_div.focus();\n",
       "    }\n",
       "\n",
       "    var x = canvas_pos.x * mpl.ratio;\n",
       "    var y = canvas_pos.y * mpl.ratio;\n",
       "\n",
       "    this.send_message(name, {x: x, y: y, button: event.button,\n",
       "                             step: event.step,\n",
       "                             guiEvent: simpleKeys(event)});\n",
       "\n",
       "    /* This prevents the web browser from automatically changing to\n",
       "     * the text insertion cursor when the button is pressed.  We want\n",
       "     * to control all of the cursor setting manually through the\n",
       "     * 'cursor' event from matplotlib */\n",
       "    event.preventDefault();\n",
       "    return false;\n",
       "}\n",
       "\n",
       "mpl.figure.prototype._key_event_extra = function(event, name) {\n",
       "    // Handle any extra behaviour associated with a key event\n",
       "}\n",
       "\n",
       "mpl.figure.prototype.key_event = function(event, name) {\n",
       "\n",
       "    // Prevent repeat events\n",
       "    if (name == 'key_press')\n",
       "    {\n",
       "        if (event.which === this._key)\n",
       "            return;\n",
       "        else\n",
       "            this._key = event.which;\n",
       "    }\n",
       "    if (name == 'key_release')\n",
       "        this._key = null;\n",
       "\n",
       "    var value = '';\n",
       "    if (event.ctrlKey && event.which != 17)\n",
       "        value += \"ctrl+\";\n",
       "    if (event.altKey && event.which != 18)\n",
       "        value += \"alt+\";\n",
       "    if (event.shiftKey && event.which != 16)\n",
       "        value += \"shift+\";\n",
       "\n",
       "    value += 'k';\n",
       "    value += event.which.toString();\n",
       "\n",
       "    this._key_event_extra(event, name);\n",
       "\n",
       "    this.send_message(name, {key: value,\n",
       "                             guiEvent: simpleKeys(event)});\n",
       "    return false;\n",
       "}\n",
       "\n",
       "mpl.figure.prototype.toolbar_button_onclick = function(name) {\n",
       "    if (name == 'download') {\n",
       "        this.handle_save(this, null);\n",
       "    } else {\n",
       "        this.send_message(\"toolbar_button\", {name: name});\n",
       "    }\n",
       "};\n",
       "\n",
       "mpl.figure.prototype.toolbar_button_onmouseover = function(tooltip) {\n",
       "    this.message.textContent = tooltip;\n",
       "};\n",
       "mpl.toolbar_items = [[\"Home\", \"Reset original view\", \"fa fa-home icon-home\", \"home\"], [\"Back\", \"Back to  previous view\", \"fa fa-arrow-left icon-arrow-left\", \"back\"], [\"Forward\", \"Forward to next view\", \"fa fa-arrow-right icon-arrow-right\", \"forward\"], [\"\", \"\", \"\", \"\"], [\"Pan\", \"Pan axes with left mouse, zoom with right\", \"fa fa-arrows icon-move\", \"pan\"], [\"Zoom\", \"Zoom to rectangle\", \"fa fa-square-o icon-check-empty\", \"zoom\"], [\"\", \"\", \"\", \"\"], [\"Download\", \"Download plot\", \"fa fa-floppy-o icon-save\", \"download\"]];\n",
       "\n",
       "mpl.extensions = [\"eps\", \"jpeg\", \"pdf\", \"png\", \"ps\", \"raw\", \"svg\", \"tif\"];\n",
       "\n",
       "mpl.default_extension = \"png\";var comm_websocket_adapter = function(comm) {\n",
       "    // Create a \"websocket\"-like object which calls the given IPython comm\n",
       "    // object with the appropriate methods. Currently this is a non binary\n",
       "    // socket, so there is still some room for performance tuning.\n",
       "    var ws = {};\n",
       "\n",
       "    ws.close = function() {\n",
       "        comm.close()\n",
       "    };\n",
       "    ws.send = function(m) {\n",
       "        //console.log('sending', m);\n",
       "        comm.send(m);\n",
       "    };\n",
       "    // Register the callback with on_msg.\n",
       "    comm.on_msg(function(msg) {\n",
       "        //console.log('receiving', msg['content']['data'], msg);\n",
       "        // Pass the mpl event to the overriden (by mpl) onmessage function.\n",
       "        ws.onmessage(msg['content']['data'])\n",
       "    });\n",
       "    return ws;\n",
       "}\n",
       "\n",
       "mpl.mpl_figure_comm = function(comm, msg) {\n",
       "    // This is the function which gets called when the mpl process\n",
       "    // starts-up an IPython Comm through the \"matplotlib\" channel.\n",
       "\n",
       "    var id = msg.content.data.id;\n",
       "    // Get hold of the div created by the display call when the Comm\n",
       "    // socket was opened in Python.\n",
       "    var element = $(\"#\" + id);\n",
       "    var ws_proxy = comm_websocket_adapter(comm)\n",
       "\n",
       "    function ondownload(figure, format) {\n",
       "        window.open(figure.imageObj.src);\n",
       "    }\n",
       "\n",
       "    var fig = new mpl.figure(id, ws_proxy,\n",
       "                           ondownload,\n",
       "                           element.get(0));\n",
       "\n",
       "    // Call onopen now - mpl needs it, as it is assuming we've passed it a real\n",
       "    // web socket which is closed, not our websocket->open comm proxy.\n",
       "    ws_proxy.onopen();\n",
       "\n",
       "    fig.parent_element = element.get(0);\n",
       "    fig.cell_info = mpl.find_output_cell(\"<div id='\" + id + \"'></div>\");\n",
       "    if (!fig.cell_info) {\n",
       "        console.error(\"Failed to find cell for figure\", id, fig);\n",
       "        return;\n",
       "    }\n",
       "\n",
       "    var output_index = fig.cell_info[2]\n",
       "    var cell = fig.cell_info[0];\n",
       "\n",
       "};\n",
       "\n",
       "mpl.figure.prototype.handle_close = function(fig, msg) {\n",
       "    var width = fig.canvas.width/mpl.ratio\n",
       "    fig.root.unbind('remove')\n",
       "\n",
       "    // Update the output cell to use the data from the current canvas.\n",
       "    fig.push_to_output();\n",
       "    var dataURL = fig.canvas.toDataURL();\n",
       "    // Re-enable the keyboard manager in IPython - without this line, in FF,\n",
       "    // the notebook keyboard shortcuts fail.\n",
       "    IPython.keyboard_manager.enable()\n",
       "    $(fig.parent_element).html('<img src=\"' + dataURL + '\" width=\"' + width + '\">');\n",
       "    fig.close_ws(fig, msg);\n",
       "}\n",
       "\n",
       "mpl.figure.prototype.close_ws = function(fig, msg){\n",
       "    fig.send_message('closing', msg);\n",
       "    // fig.ws.close()\n",
       "}\n",
       "\n",
       "mpl.figure.prototype.push_to_output = function(remove_interactive) {\n",
       "    // Turn the data on the canvas into data in the output cell.\n",
       "    var width = this.canvas.width/mpl.ratio\n",
       "    var dataURL = this.canvas.toDataURL();\n",
       "    this.cell_info[1]['text/html'] = '<img src=\"' + dataURL + '\" width=\"' + width + '\">';\n",
       "}\n",
       "\n",
       "mpl.figure.prototype.updated_canvas_event = function() {\n",
       "    // Tell IPython that the notebook contents must change.\n",
       "    IPython.notebook.set_dirty(true);\n",
       "    this.send_message(\"ack\", {});\n",
       "    var fig = this;\n",
       "    // Wait a second, then push the new image to the DOM so\n",
       "    // that it is saved nicely (might be nice to debounce this).\n",
       "    setTimeout(function () { fig.push_to_output() }, 1000);\n",
       "}\n",
       "\n",
       "mpl.figure.prototype._init_toolbar = function() {\n",
       "    var fig = this;\n",
       "\n",
       "    var nav_element = $('<div/>')\n",
       "    nav_element.attr('style', 'width: 100%');\n",
       "    this.root.append(nav_element);\n",
       "\n",
       "    // Define a callback function for later on.\n",
       "    function toolbar_event(event) {\n",
       "        return fig.toolbar_button_onclick(event['data']);\n",
       "    }\n",
       "    function toolbar_mouse_event(event) {\n",
       "        return fig.toolbar_button_onmouseover(event['data']);\n",
       "    }\n",
       "\n",
       "    for(var toolbar_ind in mpl.toolbar_items){\n",
       "        var name = mpl.toolbar_items[toolbar_ind][0];\n",
       "        var tooltip = mpl.toolbar_items[toolbar_ind][1];\n",
       "        var image = mpl.toolbar_items[toolbar_ind][2];\n",
       "        var method_name = mpl.toolbar_items[toolbar_ind][3];\n",
       "\n",
       "        if (!name) { continue; };\n",
       "\n",
       "        var button = $('<button class=\"btn btn-default\" href=\"#\" title=\"' + name + '\"><i class=\"fa ' + image + ' fa-lg\"></i></button>');\n",
       "        button.click(method_name, toolbar_event);\n",
       "        button.mouseover(tooltip, toolbar_mouse_event);\n",
       "        nav_element.append(button);\n",
       "    }\n",
       "\n",
       "    // Add the status bar.\n",
       "    var status_bar = $('<span class=\"mpl-message\" style=\"text-align:right; float: right;\"/>');\n",
       "    nav_element.append(status_bar);\n",
       "    this.message = status_bar[0];\n",
       "\n",
       "    // Add the close button to the window.\n",
       "    var buttongrp = $('<div class=\"btn-group inline pull-right\"></div>');\n",
       "    var button = $('<button class=\"btn btn-mini btn-primary\" href=\"#\" title=\"Stop Interaction\"><i class=\"fa fa-power-off icon-remove icon-large\"></i></button>');\n",
       "    button.click(function (evt) { fig.handle_close(fig, {}); } );\n",
       "    button.mouseover('Stop Interaction', toolbar_mouse_event);\n",
       "    buttongrp.append(button);\n",
       "    var titlebar = this.root.find($('.ui-dialog-titlebar'));\n",
       "    titlebar.prepend(buttongrp);\n",
       "}\n",
       "\n",
       "mpl.figure.prototype._root_extra_style = function(el){\n",
       "    var fig = this\n",
       "    el.on(\"remove\", function(){\n",
       "\tfig.close_ws(fig, {});\n",
       "    });\n",
       "}\n",
       "\n",
       "mpl.figure.prototype._canvas_extra_style = function(el){\n",
       "    // this is important to make the div 'focusable\n",
       "    el.attr('tabindex', 0)\n",
       "    // reach out to IPython and tell the keyboard manager to turn it's self\n",
       "    // off when our div gets focus\n",
       "\n",
       "    // location in version 3\n",
       "    if (IPython.notebook.keyboard_manager) {\n",
       "        IPython.notebook.keyboard_manager.register_events(el);\n",
       "    }\n",
       "    else {\n",
       "        // location in version 2\n",
       "        IPython.keyboard_manager.register_events(el);\n",
       "    }\n",
       "\n",
       "}\n",
       "\n",
       "mpl.figure.prototype._key_event_extra = function(event, name) {\n",
       "    var manager = IPython.notebook.keyboard_manager;\n",
       "    if (!manager)\n",
       "        manager = IPython.keyboard_manager;\n",
       "\n",
       "    // Check for shift+enter\n",
       "    if (event.shiftKey && event.which == 13) {\n",
       "        this.canvas_div.blur();\n",
       "        // select the cell after this one\n",
       "        var index = IPython.notebook.find_cell_index(this.cell_info[0]);\n",
       "        IPython.notebook.select(index + 1);\n",
       "    }\n",
       "}\n",
       "\n",
       "mpl.figure.prototype.handle_save = function(fig, msg) {\n",
       "    fig.ondownload(fig, null);\n",
       "}\n",
       "\n",
       "\n",
       "mpl.find_output_cell = function(html_output) {\n",
       "    // Return the cell and output element which can be found *uniquely* in the notebook.\n",
       "    // Note - this is a bit hacky, but it is done because the \"notebook_saving.Notebook\"\n",
       "    // IPython event is triggered only after the cells have been serialised, which for\n",
       "    // our purposes (turning an active figure into a static one), is too late.\n",
       "    var cells = IPython.notebook.get_cells();\n",
       "    var ncells = cells.length;\n",
       "    for (var i=0; i<ncells; i++) {\n",
       "        var cell = cells[i];\n",
       "        if (cell.cell_type === 'code'){\n",
       "            for (var j=0; j<cell.output_area.outputs.length; j++) {\n",
       "                var data = cell.output_area.outputs[j];\n",
       "                if (data.data) {\n",
       "                    // IPython >= 3 moved mimebundle to data attribute of output\n",
       "                    data = data.data;\n",
       "                }\n",
       "                if (data['text/html'] == html_output) {\n",
       "                    return [cell, data, j];\n",
       "                }\n",
       "            }\n",
       "        }\n",
       "    }\n",
       "}\n",
       "\n",
       "// Register the function which deals with the matplotlib target/channel.\n",
       "// The kernel may be null if the page has been refreshed.\n",
       "if (IPython.notebook.kernel != null) {\n",
       "    IPython.notebook.kernel.comm_manager.register_target('matplotlib', mpl.mpl_figure_comm);\n",
       "}\n"
      ],
      "text/plain": [
       "<IPython.core.display.Javascript object>"
      ]
     },
     "metadata": {},
     "output_type": "display_data"
    },
    {
     "data": {
      "text/html": [
       "<img src=\"data:image/png;base64,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\" width=\"640\">"
      ],
      "text/plain": [
       "<IPython.core.display.HTML object>"
      ]
     },
     "metadata": {},
     "output_type": "display_data"
    },
    {
     "data": {
      "text/plain": [
       "<matplotlib.legend.Legend at 0x7ff6e32f9940>"
      ]
     },
     "execution_count": 3,
     "metadata": {},
     "output_type": "execute_result"
    }
   ],
   "source": [
    "plt.figure()\n",
    "p = [0,0.5971,1,1] \n",
    "q = [0, 0,1,1]\n",
    "\n",
    "\n",
    "plt.step(p, q,label = \"Goalie’s best response\")\n",
    "\n",
    "p2 = [0,0,1,1] \n",
    "q2 = [1,0.6557,0.6557 ,0]\n",
    "\n",
    "plt.step(p2, q2,label = \"Kicker’s best response\")\n",
    "plt.xlabel(\"q\")\n",
    "plt.ylabel(\"p\")\n",
    "plt.legend()"
   ]
  },
  {
   "cell_type": "markdown",
   "metadata": {},
   "source": [
    "## More than one PSNE\n",
    "\n",
    "Theorem 1 says\n",
    "- If a Normal Form Game has more than one pure strategy Nash Equilibrium then, it also has at least one Mixed Strategy Equilibrium involving strictly positive probabilities on all pure strategies that are part of the pure strategy equilibria (for at least one player but not necessarily all)."
   ]
  },
  {
   "cell_type": "markdown",
   "metadata": {},
   "source": [
    "Theorem 2 says: \n",
    "\n",
    "- “an interior equilibrium mixture of one player leaves the other player indifferent between playing her pure strategies”"
   ]
  },
  {
   "cell_type": "markdown",
   "metadata": {},
   "source": [
    "Theorem 3 says: \n",
    "\n",
    "- “a mixture by a player is a MSNE if and only if it yields her expected utility (against the equilibrium mixture of the other player) that is at least as large as the expected utility yielded by any of the available pure strategies”"
   ]
  },
  {
   "cell_type": "markdown",
   "metadata": {},
   "source": [
    " Theorem 4 says: \n",
    " \n",
    "- Given player 2’s p2*, player 1’s expected payoff of every pure strategy to which she assigns positive probability is the same\n",
    "- player 1’s expected payoff of any pure strategy to which she assigns positive probability is not less than the expected payoff of any pure strategy to which she assigns zero probability."
   ]
  },
  {
   "cell_type": "markdown",
   "metadata": {},
   "source": [
    "### Generalization of MSNE\n",
    "- Finding MSNE for games larger than 2x2 is, in general, substantially more complex than finding them in 2x2 games\n",
    "- The problems come from the possibility of corner solutions in which one or more pure strategies can be assigned a zero probability of play. Establishing the MSNE requires checking each such possibility individually"
   ]
  },
  {
   "cell_type": "markdown",
   "metadata": {},
   "source": [
    "For ANY normal form game ${S_1,S_2…S_N}; {u_1,u_2…u_N}$, there exists at least one Nash Equilibrium, either in pure or in mixed strategies.\n",
    "\n",
    "- This Existence Theorem implies that:\n",
    " A game without a pure strategy Nash Equilibrium necessarily has at least one MSNE"
   ]
  },
  {
   "cell_type": "code",
   "execution_count": null,
   "metadata": {
    "collapsed": true
   },
   "outputs": [],
   "source": []
  },
  {
   "cell_type": "markdown",
   "metadata": {},
   "source": [
    "#### Plotting Best Response Functions\n",
    "\n",
    "https://math.stackexchange.com/questions/623042/plotting-the-best-response\n",
    "\n",
    "\n",
    "![](https://i.stack.imgur.com/jDcOz.jpg)\n",
    "![](https://i.stack.imgur.com/IGWrD.jpg)\n",
    "![](https://i.stack.imgur.com/cABDu.jpg)\n",
    "\n",
    "\n",
    "Strategies R and B are strictly dominated (R is strictly dominated by any mixed strategy between LL and C that gives C probability strictly larger than 1212 and strictly smaller than 11). Once you eliminate R and B, it is a simple game whose way to solve it can be found in any undergraduate game theory textbook.\n",
    "\n",
    "In this case pp is the probability that Player 1 attaches to T (hence, 1−p to M) and qq is the probability that Player 2 attaches to L (hence, 1−q to C). When q is higher than 1/4 Player 11's best response is playing p=0. When q is smaller than 1/4 Player 1's best response is playing p=1. And when q=1/4 then Player 1 is indifferent between T and M and any value of p is a best response. Player 2's best response correspondence is plotted similarly."
   ]
  },
  {
   "cell_type": "code",
   "execution_count": null,
   "metadata": {
    "collapsed": true
   },
   "outputs": [],
   "source": []
  },
  {
   "cell_type": "code",
   "execution_count": 40,
   "metadata": {
    "ExecuteTime": {
     "end_time": "2018-02-18T06:30:04.555391Z",
     "start_time": "2018-02-18T06:30:04.451867Z"
    }
   },
   "outputs": [
    {
     "data": {
      "text/plain": [
       "<matplotlib.legend.Legend at 0x26f66cf7550>"
      ]
     },
     "execution_count": 40,
     "metadata": {},
     "output_type": "execute_result"
    },
    {
     "data": {
      "image/png": "[encoded data removed]",
      "text/plain": [
       "<Figure size 432x288 with 1 Axes>"
      ]
     },
     "metadata": {
      "needs_background": "light"
     },
     "output_type": "display_data"
    }
   ],
   "source": [
    "\n",
    "\n",
    "plt.figure()\n",
    "p = [0,0,1,1] \n",
    "q = [1, 1,1/4,0]\n",
    "\n",
    "\n",
    "plt.step(p, q,label = \"BR1\")\n",
    "\n",
    "p2 = [0,1/5,1] \n",
    "q2 = [1, 1,0]\n",
    "\n",
    "plt.step(p2, q2,label = \"BR2\")\n",
    "plt.legend()"
   ]
  },
  {
   "cell_type": "code",
   "execution_count": null,
   "metadata": {
    "collapsed": true
   },
   "outputs": [],
   "source": []
  },
  {
   "cell_type": "code",
   "execution_count": null,
   "metadata": {
    "collapsed": true
   },
   "outputs": [],
   "source": []
  },
  {
   "cell_type": "markdown",
   "metadata": {},
   "source": [
    "### 14 Nash Equilibrium with Continuous Strategy Spaces Duopoly and the N-player Oligopoly Extension\n",
    "\n",
    "https://www.economics.utoronto.ca/osborne/2x3/tutorial/COURNOT.HTM\n",
    "\n",
    "https://www.complexityexplorer.org/tutorials/69-game-theory-i-static-games/segments/5397\n",
    "\n",
    "- Games in which players have an infinite or very large strategy space cannot be represented in a matrix\n",
    "\n",
    "-  If strategies are defined over continuous variables (e.g. quantity produced, price), then the players payoffs are expressed by a function:\n",
    "\n",
    "$$S_i = R_+;  \\quad u_i(s_i, s_2...s_N): R_+^N \\rightarrow R  $$\n",
    "\n",
    "a vector of strategies for which each player is playing a best response to the vector of other player’s strategy"
   ]
  },
  {
   "cell_type": "markdown",
   "metadata": {},
   "source": [
    "https://www.economics.utoronto.ca/osborne/2x3/tutorial/COURNX.HTM\n",
    "\n",
    "http://policonomics.com/lp-game-theory2-cournot-duopoly-model/\n",
    "\n",
    "https://math.stackexchange.com/questions/327617/cournot-nash-equilibrium-in-duopoly"
   ]
  },
  {
   "cell_type": "markdown",
   "metadata": {},
   "source": [
    "#### Nash equilibrium\n",
    "\n",
    "To find a Nash equilibrium, we need to put together the two best response functions. Any pair (y1, y2) of outputs at which they intersect has the property that\n",
    "y1 = b1(y2) and y2 = b2(y1)\n",
    "and hence is a Nash equilibrium.\n",
    "The best response functions are superimposed in the following figure.\n",
    "\n",
    "![](https://www.economics.utoronto.ca/osborne/2x3/tutorial/COURNF5.GIF)"
   ]
  },
  {
   "cell_type": "markdown",
   "metadata": {},
   "source": [
    "Let (y1*, y2*) be a Nash equilibrium, and consider the pairs (y1, y2) of outputs that yield firm 1 the same profit as it obtains in the equilibrium. The set of such pairs is known as an isoprofit curve of firm 1.\n",
    "\n",
    "\n",
    "![](https://www.economics.utoronto.ca/osborne/2x3/tutorial/COURNF6.GIF)\n"
   ]
  },
  {
   "cell_type": "markdown",
   "metadata": {},
   "source": [
    "Now consider the analogous isoprofit curve for firm 2: the set of all pairs (y1, y2) of outputs that yield firm 2 the same profit as it obtains in the equilibrium. This curve is shown in the following figure.\n",
    "\n",
    "\n",
    "\n",
    "![](https://www.economics.utoronto.ca/osborne/2x3/tutorial/COURNF7.GIF)"
   ]
  },
  {
   "cell_type": "markdown",
   "metadata": {},
   "source": [
    "If we put the two curves in the same figure we obtain the following figure.\n",
    "\n",
    "\n",
    "![](https://www.economics.utoronto.ca/osborne/2x3/tutorial/COURNF8.GIF)\n",
    "\n",
    "The lens-shaped area shaded brown is the set of pairs (y1, y2) of outputs for which both firms' profits are higher than they are in equilibrium. So long as the isoprofit curves are smooth, this area always exists. That is:\n",
    "\n",
    "The pair of Nash equilibrium outputs for the firms in Cournot's model does not maximize the firms' total profit. In particular, the total output of the firms in a Nash equilibrium is different from the monopoly output."
   ]
  },
  {
   "cell_type": "code",
   "execution_count": null,
   "metadata": {
    "collapsed": true
   },
   "outputs": [],
   "source": []
  },
  {
   "cell_type": "code",
   "execution_count": null,
   "metadata": {
    "collapsed": true
   },
   "outputs": [],
   "source": []
  },
  {
   "cell_type": "code",
   "execution_count": null,
   "metadata": {
    "collapsed": true
   },
   "outputs": [],
   "source": []
  },
  {
   "cell_type": "code",
   "execution_count": null,
   "metadata": {
    "collapsed": true
   },
   "outputs": [],
   "source": []
  },
  {
   "cell_type": "code",
   "execution_count": null,
   "metadata": {
    "collapsed": true
   },
   "outputs": [],
   "source": []
  },
  {
   "cell_type": "code",
   "execution_count": null,
   "metadata": {
    "collapsed": true
   },
   "outputs": [],
   "source": []
  },
  {
   "cell_type": "code",
   "execution_count": 37,
   "metadata": {
    "ExecuteTime": {
     "end_time": "2018-02-18T06:30:54.308113Z",
     "start_time": "2018-02-18T06:30:54.214051Z"
    },
    "collapsed": true
   },
   "outputs": [],
   "source": [
    "from mpl_toolkits.mplot3d import Axes3D"
   ]
  },
  {
   "cell_type": "code",
   "execution_count": 38,
   "metadata": {
    "ExecuteTime": {
     "end_time": "2018-02-18T07:21:18.856132Z",
     "start_time": "2018-02-18T07:21:18.693850Z"
    }
   },
   "outputs": [
    {
     "data": {
      "text/plain": [
       "<mpl_toolkits.mplot3d.art3d.Poly3DCollection at 0x26f66e022e8>"
      ]
     },
     "execution_count": 38,
     "metadata": {},
     "output_type": "execute_result"
    },
    {
     "data": {
      "image/png": "[encoded data removed]",
      "text/plain": [
       "<Figure size 432x288 with 1 Axes>"
      ]
     },
     "metadata": {
      "needs_background": "light"
     },
     "output_type": "display_data"
    }
   ],
   "source": [
    "fig = plt.figure()\n",
    "ax = Axes3D(fig)\n",
    "\n",
    "# X, Y value\n",
    "X = np.arange(0, 4, 0.25)\n",
    "Y = np.arange(0, 4, 0.25)\n",
    "X, Y = np.meshgrid(X, Y)    # x-y meshgrid\n",
    "\n",
    "\n",
    "# height value q1(a-(q1+q2*)-c)\n",
    "a =13\n",
    "c=1\n",
    "\n",
    "Z = X*(a-(X+Y)-c)\n",
    "\n",
    "ax.plot_surface(X, Y, Z, rstride=1, cstride=1, cmap=plt.get_cmap('rainbow'))\n",
    "# rstride and cstride represent the scale of row and column of grid\n",
    "\n",
    "\n",
    "#ax.contourf(X, Y, Z, zdir='z', offset=-2, cmap=plt.get_cmap('rainbow'))"
   ]
  },
  {
   "cell_type": "code",
   "execution_count": 39,
   "metadata": {
    "ExecuteTime": {
     "end_time": "2018-02-18T06:31:17.190257Z",
     "start_time": "2018-02-18T06:31:16.941155Z"
    }
   },
   "outputs": [
    {
     "name": "stderr",
     "output_type": "stream",
     "text": [
      "d:\\Users\\oldyu\\Anaconda3\\envs\\fastai\\lib\\site-packages\\matplotlib\\contour.py:1004: UserWarning: The following kwargs were not used by contour: 'linewidth'\n",
      "  s)\n"
     ]
    },
    {
     "data": {
      "text/plain": [
       "<a list of 10 text.Text objects>"
      ]
     },
     "execution_count": 39,
     "metadata": {},
     "output_type": "execute_result"
    },
    {
     "data": {
      "image/png": "[encoded data removed]",
      "text/plain": [
       "<Figure size 432x288 with 1 Axes>"
      ]
     },
     "metadata": {
      "needs_background": "light"
     },
     "output_type": "display_data"
    }
   ],
   "source": [
    "# X, Y value\n",
    "X = np.arange(0, 12, 0.25)\n",
    "Y = np.arange(0, 12, 0.25)\n",
    "X, Y = np.meshgrid(X, Y)    # x-y meshgrid\n",
    "\n",
    "# player 1 maximize the u1(q1,q2)= q1(a-(q1+q2*)-c) since P(Q)=a-Q, Q =q1+q2, c is cost.\n",
    "# height value q1(a-(q1+q2*)-c)\n",
    "a =13\n",
    "c=1\n",
    "\n",
    "Z = X*(a-(X+Y)-c)\n",
    "\n",
    "Z2 = Y*(a-(X+Y)-c)\n",
    "\n",
    "plt.figure()\n",
    "# use plt.contourf to filling contours\n",
    "# X, Y and value for (X,Y) point\n",
    "# 16 is the density of contour\n",
    "\n",
    "plt.contourf(X, Y, Z, 16, alpha=.75, cmap=plt.cm.hot)\n",
    "plt.contourf(X, Y, Z2, 16, alpha=.75, cmap=plt.cm.hot)\n",
    "\n",
    "# use plt.contour to add contour lines, iso-profit curve at NE level\n",
    "# potential collude to achieve monopoly profit\n",
    "C = plt.contour(X, Y, Z, 16, colors='black', linewidth=.5)\n",
    "C2 = plt.contour(X, Y, Z2, 16, colors='black', linewidth=.5)\n",
    "# 16is the density of contour\n",
    "\n",
    "plt.clabel(C, inline=True, fontsize=10)\n",
    "plt.clabel(C2, inline=True, fontsize=10)\n",
    "\n",
    "#plt.xticks(())\n",
    "#plt.yticks(())"
   ]
  },
  {
   "cell_type": "code",
   "execution_count": null,
   "metadata": {
    "collapsed": true
   },
   "outputs": [],
   "source": []
  },
  {
   "cell_type": "code",
   "execution_count": null,
   "metadata": {
    "collapsed": true
   },
   "outputs": [],
   "source": []
  },
  {
   "cell_type": "code",
   "execution_count": null,
   "metadata": {
    "collapsed": true
   },
   "outputs": [],
   "source": []
  },
  {
   "cell_type": "code",
   "execution_count": null,
   "metadata": {
    "collapsed": true
   },
   "outputs": [],
   "source": []
  },
  {
   "cell_type": "markdown",
   "metadata": {},
   "source": [
    "http://vknight.org/Year_3_game_theory_course/Content/Chapter_06-Nash_Equilibria_in_mixed_strategies/\n",
    "\n"
   ]
  },
  {
   "cell_type": "code",
   "execution_count": null,
   "metadata": {
    "collapsed": true
   },
   "outputs": [],
   "source": []
  },
  {
   "cell_type": "code",
   "execution_count": null,
   "metadata": {
    "collapsed": true
   },
   "outputs": [],
   "source": []
  },
  {
   "cell_type": "code",
   "execution_count": null,
   "metadata": {
    "collapsed": true
   },
   "outputs": [],
   "source": []
  },
  {
   "cell_type": "code",
   "execution_count": null,
   "metadata": {
    "collapsed": true
   },
   "outputs": [],
   "source": []
  },
  {
   "cell_type": "markdown",
   "metadata": {},
   "source": [
    "**(Strict Equilibrium)**. A pair of players’ strategies that are the only best reply to each other."
   ]
  },
  {
   "cell_type": "markdown",
   "metadata": {},
   "source": [
    "*Remark*. In an admissible equilibrium, no player uses a weakly dominated strategy. A strictly dominated strategy can be deleted safely."
   ]
  },
  {
   "cell_type": "code",
   "execution_count": null,
   "metadata": {
    "collapsed": true
   },
   "outputs": [],
   "source": []
  },
  {
   "cell_type": "code",
   "execution_count": null,
   "metadata": {
    "collapsed": true
   },
   "outputs": [],
   "source": []
  },
  {
   "cell_type": "code",
   "execution_count": null,
   "metadata": {
    "collapsed": true
   },
   "outputs": [],
   "source": []
  },
  {
   "cell_type": "code",
   "execution_count": null,
   "metadata": {
    "collapsed": true
   },
   "outputs": [],
   "source": []
  },
  {
   "cell_type": "code",
   "execution_count": null,
   "metadata": {
    "collapsed": true
   },
   "outputs": [],
   "source": []
  },
  {
   "cell_type": "code",
   "execution_count": null,
   "metadata": {
    "collapsed": true
   },
   "outputs": [],
   "source": []
  },
  {
   "cell_type": "code",
   "execution_count": null,
   "metadata": {
    "collapsed": true
   },
   "outputs": [],
   "source": []
  },
  {
   "cell_type": "code",
   "execution_count": null,
   "metadata": {
    "collapsed": true
   },
   "outputs": [],
   "source": []
  },
  {
   "cell_type": "code",
   "execution_count": null,
   "metadata": {
    "collapsed": true
   },
   "outputs": [],
   "source": []
  },
  {
   "cell_type": "code",
   "execution_count": null,
   "metadata": {
    "collapsed": true
   },
   "outputs": [],
   "source": []
  },
  {
   "cell_type": "markdown",
   "metadata": {},
   "source": [
    "|       | L          | R  |\n",
    "| ------------- |:-------------:| -----:|\n",
    "| **T**     | 4      6 | 1 0 |\n",
    "| **M **     | 5 6     |   1 2 |\n",
    "| **B**       | 1 2      |  1  1 |"
   ]
  },
  {
   "cell_type": "markdown",
   "metadata": {},
   "source": [
    "$$\n",
    "\\begin{array}{ccc}\n",
    " & & \\textit{Player 2}\\\\\n",
    " & & \\begin{array}{ccc}  \\quad \\quad \\quad L[a] & \\quad   C[b] &\\quad R[1-a-b] \\end{array}\\\\\n",
    "\\textit{Player 1} & \\begin{array}{c} T[x]\\\\ M[y]\\\\ B[1-x-y]\\end{array} &\n",
    "  \\left(\\begin{array}{ccc}\n",
    "    1\\quad2 & 0\\quad0 & 1\\quad2\\\\\n",
    "    0\\quad0 & 1\\quad2 & 1\\quad2\\\\\n",
    "    1\\quad4 & 1\\quad4 & 1\\quad2\n",
    "  \\end{array}\\right)\n",
    "\\end{array}\n",
    "$$\n",
    "\n",
    "https://tex.stackexchange.com/questions/249480/creating-a-payoff-matrix-using-latex-tabular-environment\n",
    "https://tex.stackexchange.com/questions/339938/adding-labels-to-matrix-in-mathjax\n",
    "https://tex.stackexchange.com/questions/304011/3x3-normal-form-payoff-matrix-in-latex-tabular-environment\n",
    "https://tex.stackexchange.com/questions/23275/strategy-payoff-matrix\n",
    "https://www.latex4technics.com/?note=23vr\n",
    "https://cdn.rawgit.com/mathjax/MathJax/2.7.1/test/sample-dynamic.html"
   ]
  },
  {
   "cell_type": "code",
   "execution_count": null,
   "metadata": {
    "collapsed": true
   },
   "outputs": [],
   "source": [
    "%%latex\n",
    "\\begin{array}{rr} \\hline\n",
    "x &4 &5 &6 &7 \\\\ \\hline\n",
    "P(X=x) &0.2 &0.4 &0.3 &0.1 \\\\ \\hline\n",
    "\\end{array}"
   ]
  },
  {
   "cell_type": "code",
   "execution_count": 9,
   "metadata": {
    "ExecuteTime": {
     "end_time": "2018-02-18T06:32:31.030917Z",
     "start_time": "2018-02-18T06:32:26.227850Z"
    }
   },
   "outputs": [
    {
     "name": "stdout",
     "output_type": "stream",
     "text": [
      "Fetching package metadata .............\n",
      "\n",
      "PackageNotFoundError: Packages missing in current channels:\n",
      "            \n",
      "  - tablulate\n",
      "\n",
      "We have searched for the packages in the following channels:\n",
      "            \n",
      "  - http://conda.anaconda.org/gurobi/linux-64\n",
      "  - http://conda.anaconda.org/gurobi/noarch\n",
      "  - https://repo.continuum.io/pkgs/main/linux-64\n",
      "  - https://repo.continuum.io/pkgs/main/noarch\n",
      "  - https://repo.continuum.io/pkgs/free/linux-64\n",
      "  - https://repo.continuum.io/pkgs/free/noarch\n",
      "  - https://repo.continuum.io/pkgs/r/linux-64\n",
      "  - https://repo.continuum.io/pkgs/r/noarch\n",
      "  - https://repo.continuum.io/pkgs/pro/linux-64\n",
      "  - https://repo.continuum.io/pkgs/pro/noarch\n",
      "            \n",
      "\n"
     ]
    }
   ],
   "source": [
    "#!pip install tabulate --user \n",
    "import sys\n",
    "!conda install --yes --prefix {sys.prefix} tablulate"
   ]
  },
  {
   "cell_type": "code",
   "execution_count": 41,
   "metadata": {
    "ExecuteTime": {
     "end_time": "2018-02-18T06:31:31.303834Z",
     "start_time": "2018-02-18T06:31:31.179252Z"
    }
   },
   "outputs": [
    {
     "data": {
      "text/html": [
       "<table>\n",
       "<thead>\n",
       "<tr><th>your  </th><th style=\"text-align: right;\">  headers</th><th style=\"text-align: right;\">     here</th></tr>\n",
       "</thead>\n",
       "<tbody>\n",
       "<tr><td>Sun   </td><td style=\"text-align: right;\">   696000</td><td style=\"text-align: right;\">1.989e+09</td></tr>\n",
       "<tr><td>Earth </td><td style=\"text-align: right;\">     6371</td><td style=\"text-align: right;\">5.974e+03</td></tr>\n",
       "<tr><td>Moon  </td><td style=\"text-align: right;\">     1737</td><td style=\"text-align: right;\">7.350e+01</td></tr>\n",
       "<tr><td>Mars  </td><td style=\"text-align: right;\">     3390</td><td style=\"text-align: right;\">6.419e+02</td></tr>\n",
       "</tbody>\n",
       "</table>"
      ],
      "text/plain": [
       "<IPython.core.display.HTML object>"
      ]
     },
     "execution_count": 41,
     "metadata": {},
     "output_type": "execute_result"
    }
   ],
   "source": [
    "table = [[\"Sun\",696000,1989100000],[\"Earth\",6371,5973.6],\n",
    "          [\"Moon\",1737,73.5],[\"Mars\",3390,641.85]]\n",
    "from tabulate import tabulate\n",
    "from IPython.display import HTML\n",
    "HTML(tabulate(table, headers= ['your', 'headers', 'here'], floatfmt='.3e', tablefmt='html'))"
   ]
  },
  {
   "cell_type": "code",
   "execution_count": null,
   "metadata": {
    "collapsed": true
   },
   "outputs": [],
   "source": [
    "%load_ext rmagic"
   ]
  },
  {
   "cell_type": "code",
   "execution_count": null,
   "metadata": {
    "collapsed": true
   },
   "outputs": [],
   "source": []
  },
  {
   "cell_type": "markdown",
   "metadata": {},
   "source": [
    " #### strictly/weekly dominated\n",
    " \n",
    " \n",
    " A strategy $s_i$ is said to be non-rationalizable if it is NEVER a best response. (lecnotes5 p13)\n",
    " \n",
    " #### rationalized/ non-rationalized:  is never a best response\n",
    " http://www.econ.uiuc.edu/~hrtdmrt2/Teaching/GT_2016_19/L3.pdf"
   ]
  },
  {
   "cell_type": "markdown",
   "metadata": {},
   "source": [
    "all normal form games have at least one Nash equilibrium (pure or mixed) "
   ]
  },
  {
   "cell_type": "markdown",
   "metadata": {},
   "source": [
    "Multiplying all of the payoffs in a matrix game by a positive constant does not modify any of the Nash Equilibria"
   ]
  },
  {
   "cell_type": "markdown",
   "metadata": {},
   "source": [
    "If a player’s optimal strategy does not depend on the behavior of others, then that player must have a dominant strategy."
   ]
  },
  {
   "cell_type": "code",
   "execution_count": null,
   "metadata": {
    "collapsed": true
   },
   "outputs": [],
   "source": []
  },
  {
   "cell_type": "code",
   "execution_count": null,
   "metadata": {
    "collapsed": true
   },
   "outputs": [],
   "source": []
  },
  {
   "cell_type": "code",
   "execution_count": null,
   "metadata": {
    "collapsed": true
   },
   "outputs": [],
   "source": []
  },
  {
   "cell_type": "code",
   "execution_count": null,
   "metadata": {
    "collapsed": true
   },
   "outputs": [],
   "source": []
  }
 ],
 "metadata": {
  "kernelspec": {
   "display_name": "fastai",
   "language": "python",
   "name": "fastai"
  },
  "language_info": {
   "codemirror_mode": {
    "name": "ipython",
    "version": 3
   },
   "file_extension": ".py",
   "mimetype": "text/x-python",
   "name": "python",
   "nbconvert_exporter": "python",
   "pygments_lexer": "ipython3",
   "version": "3.6.6"
  }
 },
 "nbformat": 4,
 "nbformat_minor": 2
}
