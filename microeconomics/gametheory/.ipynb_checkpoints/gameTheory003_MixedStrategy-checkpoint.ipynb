{
 "cells": [
  {
   "cell_type": "markdown",
   "metadata": {},
   "source": [
    "## Mixed Strategy Nash Equilibrium\n",
    "\n",
    "\n",
    "https://www.complexityexplorer.org/tutorials/69-game-theory-i-static-games/segments/5392\n",
    "\n",
    "Mixed Strategy: mixed\n",
    "-  A mixed strategy of a player is a probability distribution over the player’s (pure) strategies.\n",
    "\n",
    "\n",
    "$$% <![CDATA[\n",
    "\\begin{pmatrix}\n",
    "(1,-1)&(-1,1)\\\\\n",
    "(-1,1)&(1,-1)\n",
    "\\end{pmatrix} %]]>$$"
   ]
  },
  {
   "cell_type": "markdown",
   "metadata": {},
   "source": [
    "Matching pennies – NO P.S.N.E.\n",
    "\n",
    "|       | Head          | Tail  |\n",
    "| ------------- |:-------------:| -----:|\n",
    "| **Head**     | -1     1 | 1 -1 |\n",
    "| **Tail **     | 1 -1 |   -1 -1 |\n"
   ]
  },
  {
   "cell_type": "markdown",
   "metadata": {},
   "source": [
    "\n",
    "|       | Head          | Tail  |\n",
    "| ------------- |:-------------:| -----:|\n",
    "| **Head**     | -1     $\\underline 1$ | 1 -1 |\n",
    "| **Tail **     | 1 -1 |   -1 -1 |\n",
    "\n",
    "NO Pure Strategy Nash Equilibrium"
   ]
  },
  {
   "cell_type": "markdown",
   "metadata": {},
   "source": [
    "leave each player uninterested in modifying his her strategy if she\n",
    "was given the unilateral possibility to do so once the other’s choice is known\n",
    "\n",
    "|       | Head  q        | Tail 1-q  |\n",
    "| ------------- |:-------------:| -----:|\n",
    "| **Head**  p   | -1     1 | 1 -1 |\n",
    "| **Tail **  1-p   | 1 -1 |   -1 -1 |\n",
    "\n",
    "\n",
    "- Randomize your strategies to surprise the rival\n",
    "\n",
    "- Mixed Strategy: \n",
    " -  Specifies that an actual move be chosen randomly from the set of pure strategies with some specific probabilities.\n",
    "\n",
    "\n",
    "$$EU_1(Head,(q,1-q) )= EU_1(Tail,(q,1-q)) \\\\\n",
    " EU_2(Head,(p,1-p))= EU_2(Tail,(p,1-p))$$"
   ]
  },
  {
   "cell_type": "markdown",
   "metadata": {},
   "source": [
    "the utility function which maps from the set of pure strategies to R using expected payoffs. For a two player game we have:\n",
    "\n",
    "$$u_{i}(\\sigma_1,\\sigma_2)=\\sum_{r\\in S_1,c\\in S_2}\\sigma_1(r)\\sigma_2(c)u_{i}(r,c)$$"
   ]
  },
  {
   "cell_type": "code",
   "execution_count": 1,
   "metadata": {},
   "outputs": [],
   "source": [
    "from IPython.display import display, Math, Latex\n",
    "import matplotlib.pyplot as plt\n",
    "%matplotlib notebook\n",
    "import numpy as np\n",
    "import quantecon.game_theory as gt"
   ]
  },
  {
   "cell_type": "markdown",
   "metadata": {},
   "source": [
    "### Equality of payoffs theorem\n",
    "\n",
    "#### Definition of the support of a strategy\n",
    "\n",
    "\n",
    "In an N player normal form game the support of a strategy $\\sigma\\in\\Delta S_i$ is defined as: \n",
    "    \n",
    "    \n",
    "$$\\mathcal{S}(\\sigma)=\\{s\\in S_i\\;|\\;\\sigma(s)>0\\}$$\n",
    "\n",
    "\n",
    "\n",
    "In an NN player normal form game if the strategy profile $(σ_i,s_{−i})$ is a Nash equilibria then:\n",
    "\n",
    "\n",
    "$$u_{i}(\\sigma_i,s_{-i})=u_{i}(s,s_{-i})\\text{ for all }s\\in\\mathcal{S}(\\sigma_i)\\text{ for all }1\\leq i\\leq N$$"
   ]
  },
  {
   "cell_type": "markdown",
   "metadata": {},
   "source": [
    "#### Employee Monitoring\n",
    "\n",
    "|||Manager||\n",
    "|--| ------------- |:-------------:| -----:|\n",
    "||       | Monitor  q        | Not Monitor 1-q  |\n",
    "|**Employee**| Work  p   | 50,    90 | 50, 100 |\n",
    "|| Shirk   1-p   | 0,  -10 |   100, -100 |"
   ]
  },
  {
   "cell_type": "markdown",
   "metadata": {},
   "source": [
    "$$EU_1(Work,(q,1-q) )= EU_1(Shirk,(q,1-q)) \\\\\n",
    " EU_2(p)= EU_2(p)$$"
   ]
  },
  {
   "cell_type": "markdown",
   "metadata": {},
   "source": [
    "Employee’s best response B1(q): \n",
    "- Shirk (p=0) if q<0.5 \n",
    "- Work (p=1) if q>0.5\n",
    "- Any mixed strategy (0<p<1) if q=0.5"
   ]
  },
  {
   "cell_type": "markdown",
   "metadata": {},
   "source": [
    "Manager’s best response B2(p): \n",
    "\n",
    "- Monitor (q=1) if p<0.9 \n",
    "\n",
    "- Not Monitor (q=0) if p>0.9\n",
    "\n",
    "- Any mixed strategy (0<q<1) if p=0.9"
   ]
  },
  {
   "cell_type": "code",
   "execution_count": 5,
   "metadata": {
    "ExecuteTime": {
     "end_time": "2018-02-18T06:28:47.870430Z",
     "start_time": "2018-02-18T06:28:47.690422Z"
    }
   },
   "outputs": [
    {
     "data": {
      "text/plain": [
       "<matplotlib.legend.Legend at 0x24a88e5d8d0>"
      ]
     },
     "execution_count": 5,
     "metadata": {},
     "output_type": "execute_result"
    },
    {
     "data": {
      "image/png": "[encoded data removed]",
      "text/plain": [
       "<Figure size 432x288 with 1 Axes>"
      ]
     },
     "metadata": {
      "needs_background": "light"
     },
     "output_type": "display_data"
    }
   ],
   "source": [
    "plt.figure()\n",
    "p = [0,0.5,1,1] \n",
    "q = [0, 0,1,1]\n",
    "\n",
    "\n",
    "plt.step(p, q,label = \"Employee’s best response\")\n",
    "\n",
    "p2 = [0,0,1,1] \n",
    "q2 = [1,0.9,0.9 ,0]\n",
    "\n",
    "plt.step(p2, q2,label = \"Manager’s best response\")\n",
    "plt.xlabel(\"Manager’s q\")\n",
    "plt.ylabel(\"Employee’s p\")\n",
    "plt.legend()"
   ]
  },
  {
   "cell_type": "markdown",
   "metadata": {},
   "source": [
    "## MSNE Theorem 1\n",
    "\n",
    "Theorem 1 says: “Playing an equilibrium mixture against the equilibrium mixture of other players yields an expected payoff at least as high as any pure strategy available”\n",
    "\n",
    "\n",
    "This follows logically from the observation that if there exists a pure strategy that provided a greater payoff, the player would be better off adopting it instead of the mixed strategy.\n",
    "\n",
    "Hence, MSNE only exist if is possible to do at least as well by randomizing as one can do with a pure strategy."
   ]
  },
  {
   "cell_type": "markdown",
   "metadata": {},
   "source": [
    "### Theorem 2 says: “an interior equilibrium mixture of one player leaves the other player indifferent between playing her pure strategies”\n",
    "\n",
    " If it were not true, once again, a pure strategy would be desirable to the mixed strategy."
   ]
  },
  {
   "cell_type": "markdown",
   "metadata": {},
   "source": [
    "Penalty Kicks\n",
    "\n",
    "|||Kicker||\n",
    "|--| ------------- |:-------------:| -----:|\n",
    "||       | Left  q        | Left 1-q  |\n",
    "|**Goalie**| Left  p   | 36.6,    63.2 | 10.5, 89.5 |\n",
    "|| Left   1-p   | 5.9,  94.1 |   56.0, 44.0 |"
   ]
  },
  {
   "cell_type": "code",
   "execution_count": 6,
   "metadata": {
    "ExecuteTime": {
     "end_time": "2018-02-18T06:29:20.018649Z",
     "start_time": "2018-02-18T06:29:19.911086Z"
    }
   },
   "outputs": [
    {
     "data": {
      "text/plain": [
       "<matplotlib.legend.Legend at 0x24a88d6a780>"
      ]
     },
     "execution_count": 6,
     "metadata": {},
     "output_type": "execute_result"
    },
    {
     "data": {
      "image/png": "[encoded data removed]",
      "text/plain": [
       "<Figure size 432x288 with 1 Axes>"
      ]
     },
     "metadata": {
      "needs_background": "light"
     },
     "output_type": "display_data"
    }
   ],
   "source": [
    "plt.figure()\n",
    "p = [0,0.5971,1,1] \n",
    "q = [0, 0,1,1]\n",
    "\n",
    "\n",
    "plt.step(p, q,label = \"Goalie’s best response\")\n",
    "\n",
    "p2 = [0,0,1,1] \n",
    "q2 = [1,0.6557,0.6557 ,0]\n",
    "\n",
    "plt.step(p2, q2,label = \"Kicker’s best response\")\n",
    "plt.xlabel(\"Kicker’s q\")\n",
    "plt.ylabel(\"Goalie’s p\")\n",
    "plt.legend()"
   ]
  },
  {
   "cell_type": "markdown",
   "metadata": {},
   "source": [
    "## More than one PSNE\n",
    "\n",
    "Theorem 1 says\n",
    "- If a Normal Form Game has more than one pure strategy Nash Equilibrium then, it also has at least one Mixed Strategy Equilibrium involving strictly positive probabilities on all pure strategies that are part of the pure strategy equilibria (for at least one player but not necessarily all).\n",
    "\n",
    "- Which provide the player an advantage to manipulate the result by blackmail opponents to cooporate with her to win higher payoff in a sequential game."
   ]
  },
  {
   "cell_type": "markdown",
   "metadata": {},
   "source": [
    "Theorem 2 says: \n",
    "\n",
    "- “an interior equilibrium mixture of one player leaves the other player indifferent between playing her pure strategies”"
   ]
  },
  {
   "cell_type": "markdown",
   "metadata": {},
   "source": [
    "Theorem 3 says: \n",
    "\n",
    "- “a mixture by a player is a MSNE if and only if it yields her expected utility (against the equilibrium mixture of the other player) that is at least as large as the expected utility yielded by any of the available pure strategies”"
   ]
  },
  {
   "cell_type": "markdown",
   "metadata": {},
   "source": [
    " Theorem 4 says: \n",
    " \n",
    "- Given player 2’s p2*, player 1’s expected payoff of every pure strategy to which she assigns positive probability is the same\n",
    "- player 1’s expected payoff of any pure strategy to which she assigns positive probability is not less than the expected payoff of any pure strategy to which she assigns zero probability."
   ]
  },
  {
   "cell_type": "markdown",
   "metadata": {},
   "source": [
    "### Generalization of MSNE\n",
    "- Finding MSNE for games larger than 2x2 is, in general, substantially more complex than finding them in 2x2 games\n",
    "- The problems come from the possibility of corner solutions in which one or more pure strategies can be assigned a zero probability of play. Establishing the MSNE requires checking each such possibility individually"
   ]
  },
  {
   "cell_type": "markdown",
   "metadata": {},
   "source": [
    "For ANY normal form game ${S_1,S_2…S_N}; {u_1,u_2…u_N}$, there exists at least one Nash Equilibrium, either in pure or in mixed strategies.\n",
    "\n",
    "- This Existence Theorem implies that:\n",
    " A game without a pure strategy Nash Equilibrium necessarily has at least one MSNE"
   ]
  },
  {
   "cell_type": "code",
   "execution_count": null,
   "metadata": {
    "collapsed": true
   },
   "outputs": [],
   "source": []
  },
  {
   "cell_type": "markdown",
   "metadata": {},
   "source": [
    "#### Best Response Functions with more than 2 strategies\n",
    "\n",
    "https://math.stackexchange.com/questions/623042/plotting-the-best-response\n",
    "\n",
    "\n",
    "![](https://i.stack.imgur.com/jDcOz.jpg)\n",
    "![](https://i.stack.imgur.com/IGWrD.jpg)\n",
    "![](https://i.stack.imgur.com/cABDu.jpg)\n",
    "\n",
    "\n",
    "Strategies R and B are strictly dominated (R is strictly dominated by any mixed strategy between LL and C that gives C probability strictly larger than 1212 and strictly smaller than 11). Once you eliminate R and B, it is a simple game whose way to solve it can be found in any undergraduate game theory textbook.\n",
    "\n",
    "In this case pp is the probability that Player 1 attaches to T (hence, 1−p to M) and qq is the probability that Player 2 attaches to L (hence, 1−q to C). When q is higher than 1/4 Player 11's best response is playing p=0. When q is smaller than 1/4 Player 1's best response is playing p=1. And when q=1/4 then Player 1 is indifferent between T and M and any value of p is a best response. Player 2's best response correspondence is plotted similarly."
   ]
  },
  {
   "cell_type": "code",
   "execution_count": null,
   "metadata": {
    "collapsed": true
   },
   "outputs": [],
   "source": []
  },
  {
   "cell_type": "code",
   "execution_count": 9,
   "metadata": {
    "ExecuteTime": {
     "end_time": "2018-02-18T06:30:04.555391Z",
     "start_time": "2018-02-18T06:30:04.451867Z"
    }
   },
   "outputs": [
    {
     "data": {
      "text/plain": [
       "<matplotlib.legend.Legend at 0x24a88ef5d30>"
      ]
     },
     "execution_count": 9,
     "metadata": {},
     "output_type": "execute_result"
    },
    {
     "data": {
      "image/png": "[encoded data removed]",
      "text/plain": [
       "<Figure size 432x288 with 1 Axes>"
      ]
     },
     "metadata": {
      "needs_background": "light"
     },
     "output_type": "display_data"
    }
   ],
   "source": [
    "\n",
    "\n",
    "plt.figure()\n",
    "p = [0,0,1,1] \n",
    "q = [1, 1,1/4,0]\n",
    "\n",
    "\n",
    "plt.step(p, q,label = \"BR1\")\n",
    "\n",
    "p2 = [0,1/5,1] \n",
    "q2 = [1, 1,0]\n",
    "\n",
    "plt.xlabel(\"Playe1r’s p\")\n",
    "plt.ylabel(\"Player2’s q\")\n",
    "\n",
    "plt.step(p2, q2,label = \"BR2\")\n",
    "plt.legend()"
   ]
  },
  {
   "cell_type": "code",
   "execution_count": null,
   "metadata": {},
   "outputs": [],
   "source": []
  }
 ],
 "metadata": {
  "kernelspec": {
   "display_name": "fastai",
   "language": "python",
   "name": "fastai"
  },
  "language_info": {
   "codemirror_mode": {
    "name": "ipython",
    "version": 3
   },
   "file_extension": ".py",
   "mimetype": "text/x-python",
   "name": "python",
   "nbconvert_exporter": "python",
   "pygments_lexer": "ipython3",
   "version": "3.6.6"
  }
 },
 "nbformat": 4,
 "nbformat_minor": 2
}
