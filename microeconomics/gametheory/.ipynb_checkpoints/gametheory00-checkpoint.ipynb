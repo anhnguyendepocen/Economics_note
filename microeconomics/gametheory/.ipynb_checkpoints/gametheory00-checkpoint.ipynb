{
 "cells": [
  {
   "cell_type": "code",
   "execution_count": null,
   "metadata": {
    "collapsed": true
   },
   "outputs": [],
   "source": [
    "from IPython.display import display, Math, Latex\n",
    "import matplotlib.pyplot as plt\n",
    "%matplotlib notebook\n",
    "import numpy as np"
   ]
  },
  {
   "cell_type": "code",
   "execution_count": null,
   "metadata": {
    "collapsed": true
   },
   "outputs": [],
   "source": []
  },
  {
   "cell_type": "markdown",
   "metadata": {},
   "source": [
    "For Normal Form Games, we will explore three approaches: \n",
    "\n",
    "- 1) Iterated Elimination of Strictly Dominated Strategies (this set of notes)\n",
    "- 2) Nash Equilibrium in Pure Strategies (Finite and infinite strategy space (next two sets of notes)\n",
    "- 3) Nash Equilibrium in Mixed Strategies "
   ]
  },
  {
   "cell_type": "markdown",
   "metadata": {},
   "source": [
    "A N player normal form game consists of:\n",
    "\n",
    "- A finite set of N players;\n",
    "- Strategy spaces for the players: $S_1,S_2,S_3,…S_N$;\n",
    "- Payoff functions for the players: $u_i:S_1×S_2⋯×S_N→R$"
   ]
  },
  {
   "cell_type": "markdown",
   "metadata": {},
   "source": [
    "The battle of the sexes\n",
    "\n",
    ">This is the game we’ve been looking at between Bob and Celine:\n",
    "\n",
    "$$% <![CDATA[\n",
    "\\begin{pmatrix}\n",
    "(3,2)&(0,0)\\\\\n",
    "(1,1)&(2,3)\n",
    "\\end{pmatrix} %]]>$$"
   ]
  },
  {
   "cell_type": "markdown",
   "metadata": {},
   "source": [
    "Prisoners’ Dilemma\n",
    "\n",
    ">Assume two thieves have been caught by the police and separated for questioning. If both thieves cooperate and don’t divulge any information they will each get a short sentence. If one defects he/she is offered a deal while the other thief will get a long sentence. If they both defect they both get a medium length sentence.\n",
    "\n",
    "\n",
    "$$% <![CDATA[\n",
    "\\begin{pmatrix}\n",
    "(2,2)&(0,3)\\\\\n",
    "(3,0)&(1,1)\n",
    "\\end{pmatrix} %]]>$$\n",
    "\n",
    "http://policonomics.com/lp-game-theory2-prisoners-dilemma/"
   ]
  },
  {
   "cell_type": "markdown",
   "metadata": {},
   "source": [
    "Hawk-Dove/Chicken\n",
    "\n",
    ">Suppose two birds of prey must share a limited resource. The birds can act like a hawk or a dove. Hawks always fight over the resource to the point of exterminating a fellow hawk and/or take a majority of the resource from a dove. Two doves can share the resource.\n",
    "\n",
    "$$% <![CDATA[\n",
    "\\begin{pmatrix}\n",
    "(0,0)&(3,1)\\\\\n",
    "(1,3)&(2,2)\n",
    "\\end{pmatrix} %]]>$$\n",
    "\n",
    "\n"
   ]
  },
  {
   "cell_type": "markdown",
   "metadata": {},
   "source": [
    "Pigs\n",
    "\n",
    ">Consider two pigs. One dominant pig and one subservient pig. These pigs share a pen. There is a lever in the pen that delivers food but if either pig pushes the lever it will take them a little while to get to the food. If the dominant pig pushes the lever, the subservient pig has some time to eat most of the food before being pushed out of the way. If the subservient pig push the lever, the dominant pig will eat all the food. Finally if both pigs go to push the lever the subservient pig will be able to eat a third of the food.\n",
    "\n",
    "\n",
    "$$% <![CDATA[\n",
    "\\begin{pmatrix}\n",
    "(4,2)&(2,3)\\\\\n",
    "(6,-1)&(0,0)\n",
    "\\end{pmatrix} %]]>$$"
   ]
  },
  {
   "cell_type": "markdown",
   "metadata": {},
   "source": [
    "Matching pennies\n",
    "\n",
    ">Consider two players who can choose to display a coin either Heads facing up or Tails facing up. If both players show the same face then player 1 wins, if not then player 2 wins.\n",
    "\n",
    "\n",
    "$$% <![CDATA[\n",
    "\\begin{pmatrix}\n",
    "(1,-1)&(-1,1)\\\\\n",
    "(-1,1)&(1,-1)\n",
    "\\end{pmatrix} %]]>$$"
   ]
  },
  {
   "cell_type": "code",
   "execution_count": null,
   "metadata": {
    "collapsed": true
   },
   "outputs": [],
   "source": []
  },
  {
   "cell_type": "code",
   "execution_count": null,
   "metadata": {
    "collapsed": true
   },
   "outputs": [],
   "source": []
  },
  {
   "cell_type": "markdown",
   "metadata": {},
   "source": [
    "A **pure strategy** is a non-random course of action. In a pure strategy, the moves made by players are specified with certainty\n",
    "certainty."
   ]
  },
  {
   "cell_type": "markdown",
   "metadata": {},
   "source": [
    "In contrast, a **mixed strategy** is one that specifies a probability distribution over each elements of the set of pure strategies available to a player."
   ]
  },
  {
   "cell_type": "markdown",
   "metadata": {},
   "source": [
    "We write that the solution of this game is the vector of strategies $(s_1, s_2) = (4, 4)$\n",
    "\n",
    "\n",
    "[ALWAYS DEFINE A SOLUTION BY STRATEGIES, NEVER BY THE CORRESPONDING PAYOFFS]"
   ]
  },
  {
   "cell_type": "markdown",
   "metadata": {},
   "source": [
    "### Solving games by iterated elimination of dominated strategies\n",
    "\n",
    "-  If a strategy is strictly dominated, eliminate it \n",
    "\n",
    "-  The size and complexity of the game is reduced \n",
    "\n",
    "-  Eliminate any strictly dominated strategies from the reduced game\n",
    "\n",
    "-  Continue doing so successively until no elimination can be made"
   ]
  },
  {
   "cell_type": "markdown",
   "metadata": {},
   "source": [
    "**(Dominated Strategy)**. A strategy $s_1$ is **strictly dominated** by $s'$\n",
    " for Player 1 if and only if \n",
    "\n",
    "$$u_1(s_1, s_2) < u_1(s', s2) \\quad \\text{for all} \\quad    s_2 \\in S_2 $$\n",
    "\n",
    "\n",
    "A strategy is said to be (strictly/weakly) DOMINANT if playing it ALWAYS yields the (strictly/weakly) highest possible payoff, for any vector of strategies chosen by all other players.\n",
    "\n",
    "A strictly dominant strategy is always played by a rational player  A (strictly/weakly) dominant strategy always survives the IESDS\n",
    "\n",
    "Weakly Dominated Strategies CAN NOT Be Eliminated\n",
    "\n",
    "The problem is that the order in which one chooses to eliminate weakly dominated strategies can alter the prediction of play"
   ]
  },
  {
   "cell_type": "markdown",
   "metadata": {},
   "source": [
    "Rational players never play strictly dominated strategies because it is always possible to do better regardless of the strategies chosen by other players."
   ]
  },
  {
   "cell_type": "markdown",
   "metadata": {},
   "source": [
    "**(Dominant-Strategy Equilibrium)**. In a dominant-strategy equilibrium every player in the game chooses their dominant strategy. A game will only have a dominant-strategy equilibrium if all the players have a dominant strategy"
   ]
  },
  {
   "cell_type": "markdown",
   "metadata": {},
   "source": [
    "**(Weakly Dominant Strategy)**. In a two-player game the payoffs to a player from choosing a weakly dominant strategy are\n",
    "- (a) at least as high as those from choosing any other strategy in response to any strategy the other player chooses and\n",
    "- (b) higher than those from choosing any other strategy in response to at least one strategy of the other player."
   ]
  },
  {
   "cell_type": "markdown",
   "metadata": {},
   "source": [
    "**(Weakly Dominated Strategy)**. A strategy s1 is weakly dominated by s0\n",
    "1 for Player 1 if and only if \n",
    "\n",
    "$$\n",
    "\\begin{cases}\n",
    "  u_1(s_1, s_2) \\le u_1(s', s_2) \\quad \\text{for all} \\quad    s_2 \\in S_2 \\\\    \n",
    "  u_1(s_1, s_2) < u_1(s', s_2) \\quad \\text{for at least one} \\quad    s_2 \\in S_2    \n",
    "\\end{cases}\n",
    "$$\n",
    "\n",
    "A weakly dominated strategy si is never strictly better than s0 some environment which is strictly worse than s0"
   ]
  },
  {
   "cell_type": "markdown",
   "metadata": {},
   "source": [
    "*Remark*. Unlike a strictly dominated strategy, a strategy that is only weakly dominated cannot be ruled out based solely on principles of rationality."
   ]
  },
  {
   "cell_type": "markdown",
   "metadata": {},
   "source": [
    "## Nash equilibrium \n",
    "\n",
    "-  A vector of strategies, one for each player, such that each player’s strategy is best for her, when all other players are playing their equilibrium strategies\n",
    "-  A vector of strategies where, given the chance, no player would choose to **UNILATERALLY** change her strategy after learning the strategies adopted by the other players\n",
    "-  A vector of **best responses** by all players\n",
    "\n",
    "\n",
    "$$u_i(s_i^*, s_{-i}^*) \\ge u_i(s_i, s_{-i}^*) \\quad \\text{for all} \\quad    s_i \\in S_i \\\\    $$"
   ]
  },
  {
   "cell_type": "markdown",
   "metadata": {},
   "source": [
    "- Finding Nash Equilibria by Identifying Best Responses\n",
    "\n",
    "- Nash equilibria survive iterated elimination of strictly dominated strategies\n",
    "\n",
    "- The strategies that survive iterated elimination of strictly dominated strategies are not necessarily Nash equilibrium strategies\n",
    "\n",
    "- There may be no Nash Equilibrium (in pure strategies)\n",
    "\n",
    "Rock Rock Player \n",
    "\n",
    "- There may be multiple Nash Equilibria (in pure strategies)\n",
    "\n",
    "BOS"
   ]
  },
  {
   "cell_type": "markdown",
   "metadata": {},
   "source": [
    "## Mixed Strategy Nash Equilibrium\n",
    "\n",
    "\n",
    "https://www.complexityexplorer.org/tutorials/69-game-theory-i-static-games/segments/5392\n",
    "\n",
    "Mixed Strategy: mixed\n",
    "-  A mixed strategy of a player is a probability distribution over the player’s (pure) strategies.\n",
    "\n",
    "\n",
    "$$% <![CDATA[\n",
    "\\begin{pmatrix}\n",
    "(1,-1)&(-1,1)\\\\\n",
    "(-1,1)&(1,-1)\n",
    "\\end{pmatrix} %]]>$$"
   ]
  },
  {
   "cell_type": "markdown",
   "metadata": {},
   "source": [
    "Matching pennies – NO P.S.N.E.\n",
    "\n",
    "|       | Head          | Tail  |\n",
    "| ------------- |:-------------:| -----:|\n",
    "| **Head**     | -1     1 | 1 -1 |\n",
    "| **Tail **     | 1 -1 |   -1 -1 |\n"
   ]
  },
  {
   "cell_type": "markdown",
   "metadata": {},
   "source": [
    "\n",
    "\n",
    "|       | Head          | Tail  |\n",
    "| ------------- |:-------------:| -----:|\n",
    "| **Head**     | -1     $\\underline 1$ | 1 -1 |\n",
    "| **Tail **     | 1 -1 |   -1 -1 |\n",
    "\n",
    "NO Pure Strategy Nash Equilibrium"
   ]
  },
  {
   "cell_type": "markdown",
   "metadata": {},
   "source": [
    "leave each player uninterested in modifying his her strategy if she\n",
    "was given the unilateral possibility to do so once the other’s choice is known\n",
    "\n",
    "|       | Head  q        | Tail 1-q  |\n",
    "| ------------- |:-------------:| -----:|\n",
    "| **Head**  p   | -1     1 | 1 -1 |\n",
    "| **Tail **  1-p   | 1 -1 |   -1 -1 |\n",
    "\n",
    "\n",
    "- Randomize your strategies to surprise the rival\n",
    "\n",
    "- Mixed Strategy: \n",
    " -  Specifies that an actual move be chosen randomly from the set of pure strategies with some specific probabilities.\n"
   ]
  },
  {
   "cell_type": "markdown",
   "metadata": {},
   "source": [
    "the utility function which maps from the set of pure strategies to R using expected payoffs. For a two player game we have:\n",
    "\n",
    "$$u_{i}(\\sigma_1,\\sigma_2)=\\sum_{r\\in S_1,c\\in S_2}\\sigma_1(r)\\sigma_2(c)u_{i}(r,c)$$"
   ]
  },
  {
   "cell_type": "markdown",
   "metadata": {},
   "source": [
    "### Equality of payoffs theorem\n",
    "\n",
    "#### Definition of the support of a strategy\n",
    "\n",
    "\n",
    "In an N player normal form game the support of a strategy $\\sigma\\in\\Delta S_i$ is defined as: \n",
    "    \n",
    "    \n",
    "$$\\mathcal{S}(\\sigma)=\\{s\\in S_i\\;|\\;\\sigma(s)>0\\}$$\n",
    "\n",
    "\n",
    "\n",
    "In an NN player normal form game if the strategy profile $(σ_i,s_{−i})$ is a Nash equilibria then:\n",
    "\n",
    "\n",
    "$$u_{i}(\\sigma_i,s_{-i})=u_{i}(s,s_{-i})\\text{ for all }s\\in\\mathcal{S}(\\sigma_i)\\text{ for all }1\\leq i\\leq N$$"
   ]
  },
  {
   "cell_type": "markdown",
   "metadata": {},
   "source": [
    "#### Employee Monitoring\n",
    "\n",
    "|||Manager||\n",
    "|--| ------------- |:-------------:| -----:|\n",
    "||       | Monitor  q        | Not Monitor 1-q  |\n",
    "|**Employee**| Work  p   | 50,    90 | 50, 100 |\n",
    "|| Shirk   1-p   | 0,  -10 |   100, -100 |"
   ]
  },
  {
   "cell_type": "markdown",
   "metadata": {},
   "source": [
    "$$EU_1(Work,(q,1-q) )= EU_1(Shirk,(q,1-q)) \\\\\n",
    " EU_2(p)= EU_2(p)$$"
   ]
  },
  {
   "cell_type": "markdown",
   "metadata": {},
   "source": [
    "Employee’s best response B1(q): \n",
    "- Shirk (p=0) if q<0.5 \n",
    "- Work (p=1) if q>0.5\n",
    "- Any mixed strategy (0<p<1) if q=0.5"
   ]
  },
  {
   "cell_type": "markdown",
   "metadata": {},
   "source": [
    "Manager’s best response B2(p): \n",
    "\n",
    "- Monitor (q=1) if p<0.9 \n",
    "\n",
    "- Not Monitor (q=0) if p>0.9\n",
    "\n",
    "- Any mixed strategy (0<q<1) if p=0.9"
   ]
  },
  {
   "cell_type": "code",
   "execution_count": null,
   "metadata": {},
   "outputs": [],
   "source": [
    "plt.figure()\n",
    "p = [0,0.5,1,1] \n",
    "q = [0, 0,1,1]\n",
    "\n",
    "\n",
    "plt.step(p, q,label = \"Employee’s best response\")\n",
    "\n",
    "p2 = [0,0,1,1] \n",
    "q2 = [1,0.9,0.9 ,0]\n",
    "\n",
    "plt.step(p2, q2,label = \"Manager’s best response\")\n",
    "plt.xlabel(\"q\")\n",
    "plt.ylabel(\"p\")\n",
    "plt.legend()"
   ]
  },
  {
   "cell_type": "markdown",
   "metadata": {},
   "source": [
    "## MSNE Theorem 1\n",
    "\n",
    "Theorem 1 says: “Playing an equilibrium mixture against the equilibrium mixture of other players yields an expected payoff at least as high as any pure strategy available”\n",
    "\n",
    "\n",
    "This follows logically from the observation that if there exists a pure strategy that provided a greater payoff, the player would be better off adopting it instead of the mixed strategy.\n",
    "\n",
    "Hence, MSNE only exist if is possible to do at least as well by randomizing as one can do with a pure strategy."
   ]
  },
  {
   "cell_type": "markdown",
   "metadata": {},
   "source": [
    "### Theorem 2 says: “an interior equilibrium mixture of one player leaves the other player indifferent between playing her pure strategies”\n",
    "\n",
    " If it were not true, once again, a pure strategy would be desirable to the mixed strategy."
   ]
  },
  {
   "cell_type": "markdown",
   "metadata": {},
   "source": [
    "Penalty Kicks\n",
    "\n",
    "|||Kicker||\n",
    "|--| ------------- |:-------------:| -----:|\n",
    "||       | Left  q        | Left 1-q  |\n",
    "|**Goalie**| Left  p   | 36.6,    63.2 | 10.5, 89.5 |\n",
    "|| Left   1-p   | 5.9,  94.1 |   56.0, 44.0 |"
   ]
  },
  {
   "cell_type": "code",
   "execution_count": null,
   "metadata": {},
   "outputs": [],
   "source": [
    "plt.figure()\n",
    "p = [0,0.5971,1,1] \n",
    "q = [0, 0,1,1]\n",
    "\n",
    "\n",
    "plt.step(p, q,label = \"Goalie’s best response\")\n",
    "\n",
    "p2 = [0,0,1,1] \n",
    "q2 = [1,0.6557,0.6557 ,0]\n",
    "\n",
    "plt.step(p2, q2,label = \"Kicker’s best response\")\n",
    "plt.xlabel(\"q\")\n",
    "plt.ylabel(\"p\")\n",
    "plt.legend()"
   ]
  },
  {
   "cell_type": "markdown",
   "metadata": {},
   "source": [
    "## More than one PSNE\n",
    "\n",
    "Theorem 1 says\n",
    "- If a Normal Form Game has more than one pure strategy Nash Equilibrium then, it also has at least one Mixed Strategy Equilibrium involving strictly positive probabilities on all pure strategies that are part of the pure strategy equilibria (for at least one player but not necessarily all)."
   ]
  },
  {
   "cell_type": "markdown",
   "metadata": {},
   "source": [
    "Theorem 2 says: \n",
    "\n",
    "- “an interior equilibrium mixture of one player leaves the other player indifferent between playing her pure strategies”"
   ]
  },
  {
   "cell_type": "markdown",
   "metadata": {},
   "source": [
    "Theorem 3 says: \n",
    "\n",
    "- “a mixture by a player is a MSNE if and only if it yields her expected utility (against the equilibrium mixture of the other player) that is at least as large as the expected utility yielded by any of the available pure strategies”"
   ]
  },
  {
   "cell_type": "markdown",
   "metadata": {},
   "source": [
    " Theorem 4 says: \n",
    " \n",
    "- Given player 2’s p2*, player 1’s expected payoff of every pure strategy to which she assigns positive probability is the same\n",
    "- player 1’s expected payoff of any pure strategy to which she assigns positive probability is not less than the expected payoff of any pure strategy to which she assigns zero probability."
   ]
  },
  {
   "cell_type": "markdown",
   "metadata": {},
   "source": [
    "### Generalization of MSNE\n",
    "- Finding MSNE for games larger than 2x2 is, in general, substantially more complex than finding them in 2x2 games\n",
    "- The problems come from the possibility of corner solutions in which one or more pure strategies can be assigned a zero probability of play. Establishing the MSNE requires checking each such possibility individually"
   ]
  },
  {
   "cell_type": "markdown",
   "metadata": {},
   "source": [
    "For ANY normal form game ${S_1,S_2…S_N}; {u_1,u_2…u_N}$, there exists at least one Nash Equilibrium, either in pure or in mixed strategies.\n",
    "\n",
    "- This Existence Theorem implies that:\n",
    " A game without a pure strategy Nash Equilibrium necessarily has at least one MSNE"
   ]
  },
  {
   "cell_type": "code",
   "execution_count": null,
   "metadata": {
    "collapsed": true
   },
   "outputs": [],
   "source": []
  },
  {
   "cell_type": "markdown",
   "metadata": {},
   "source": [
    "#### Plotting Best Response Functions\n",
    "\n",
    "https://math.stackexchange.com/questions/623042/plotting-the-best-response\n",
    "\n",
    "\n",
    "![](https://i.stack.imgur.com/jDcOz.jpg)\n",
    "![](https://i.stack.imgur.com/IGWrD.jpg)\n",
    "![](https://i.stack.imgur.com/cABDu.jpg)\n",
    "\n",
    "\n",
    "Strategies R and B are strictly dominated (R is strictly dominated by any mixed strategy between LL and C that gives C probability strictly larger than 1212 and strictly smaller than 11). Once you eliminate R and B, it is a simple game whose way to solve it can be found in any undergraduate game theory textbook.\n",
    "\n",
    "In this case pp is the probability that Player 1 attaches to T (hence, 1−p to M) and qq is the probability that Player 2 attaches to L (hence, 1−q to C). When q is higher than 1/4 Player 11's best response is playing p=0. When q is smaller than 1/4 Player 1's best response is playing p=1. And when q=1/4 then Player 1 is indifferent between T and M and any value of p is a best response. Player 2's best response correspondence is plotted similarly."
   ]
  },
  {
   "cell_type": "code",
   "execution_count": null,
   "metadata": {
    "collapsed": true
   },
   "outputs": [],
   "source": []
  },
  {
   "cell_type": "code",
   "execution_count": null,
   "metadata": {},
   "outputs": [],
   "source": [
    "\n",
    "\n",
    "plt.figure()\n",
    "p = [0,0,1,1] \n",
    "q = [1, 1,1/4,0]\n",
    "\n",
    "\n",
    "plt.step(p, q,label = \"BR1\")\n",
    "\n",
    "p2 = [0,1/5,1] \n",
    "q2 = [1, 1,0]\n",
    "\n",
    "plt.step(p2, q2,label = \"BR2\")\n",
    "plt.legend()"
   ]
  },
  {
   "cell_type": "code",
   "execution_count": null,
   "metadata": {
    "collapsed": true
   },
   "outputs": [],
   "source": []
  },
  {
   "cell_type": "code",
   "execution_count": null,
   "metadata": {
    "collapsed": true
   },
   "outputs": [],
   "source": []
  },
  {
   "cell_type": "markdown",
   "metadata": {},
   "source": [
    "### Nash Equilibrium with Continuous Strategy Spaces Duopoly and the N-player Oligopoly Extension\n",
    "\n",
    "https://www.economics.utoronto.ca/osborne/2x3/tutorial/COURNOT.HTM\n",
    "\n",
    "https://www.complexityexplorer.org/tutorials/69-game-theory-i-static-games/segments/5397\n",
    "\n",
    "- Games in which players have an infinite or very large strategy space cannot be represented in a matrix\n",
    "\n",
    "-  If strategies are defined over continuous variables (e.g. quantity produced, price), then the players payoffs are expressed by a function:\n",
    "\n",
    "$$S_i = R_+;  \\quad u_i(s_i, s_2...s_N): R_+^N \\rightarrow R  $$\n",
    "\n",
    "a vector of strategies for which each player is playing a best response to the vector of other player’s strategy"
   ]
  },
  {
   "cell_type": "markdown",
   "metadata": {},
   "source": [
    "https://www.economics.utoronto.ca/osborne/2x3/tutorial/COURNX.HTM\n",
    "\n",
    "http://policonomics.com/lp-game-theory2-cournot-duopoly-model/\n",
    "\n",
    "https://math.stackexchange.com/questions/327617/cournot-nash-equilibrium-in-duopoly"
   ]
  },
  {
   "cell_type": "markdown",
   "metadata": {},
   "source": [
    "#### Nash equilibrium\n",
    "\n",
    "To find a Nash equilibrium, we need to put together the two best response functions. Any pair (y1, y2) of outputs at which they intersect has the property that\n",
    "y1 = b1(y2) and y2 = b2(y1)\n",
    "and hence is a Nash equilibrium.\n",
    "The best response functions are superimposed in the following figure.\n",
    "\n",
    "![](https://www.economics.utoronto.ca/osborne/2x3/tutorial/COURNF5.GIF)"
   ]
  },
  {
   "cell_type": "markdown",
   "metadata": {},
   "source": [
    "Let (y1*, y2*) be a Nash equilibrium, and consider the pairs (y1, y2) of outputs that yield firm 1 the same profit as it obtains in the equilibrium. The set of such pairs is known as an isoprofit curve of firm 1.\n",
    "\n",
    "\n",
    "![](https://www.economics.utoronto.ca/osborne/2x3/tutorial/COURNF6.GIF)\n"
   ]
  },
  {
   "cell_type": "markdown",
   "metadata": {},
   "source": [
    "Now consider the analogous isoprofit curve for firm 2: the set of all pairs (y1, y2) of outputs that yield firm 2 the same profit as it obtains in the equilibrium. This curve is shown in the following figure.\n",
    "\n",
    "\n",
    "\n",
    "![](https://www.economics.utoronto.ca/osborne/2x3/tutorial/COURNF7.GIF)"
   ]
  },
  {
   "cell_type": "markdown",
   "metadata": {},
   "source": [
    "If we put the two curves in the same figure we obtain the following figure.\n",
    "\n",
    "\n",
    "![](https://www.economics.utoronto.ca/osborne/2x3/tutorial/COURNF8.GIF)\n",
    "\n",
    "The lens-shaped area shaded brown is the set of pairs (y1, y2) of outputs for which both firms' profits are higher than they are in equilibrium. So long as the isoprofit curves are smooth, this area always exists. That is:\n",
    "\n",
    "The pair of Nash equilibrium outputs for the firms in Cournot's model does not maximize the firms' total profit. In particular, the total output of the firms in a Nash equilibrium is different from the monopoly output."
   ]
  },
  {
   "cell_type": "code",
   "execution_count": null,
   "metadata": {
    "collapsed": true
   },
   "outputs": [],
   "source": []
  },
  {
   "cell_type": "code",
   "execution_count": null,
   "metadata": {
    "collapsed": true
   },
   "outputs": [],
   "source": []
  },
  {
   "cell_type": "code",
   "execution_count": null,
   "metadata": {
    "collapsed": true
   },
   "outputs": [],
   "source": []
  },
  {
   "cell_type": "code",
   "execution_count": null,
   "metadata": {
    "collapsed": true
   },
   "outputs": [],
   "source": [
    "from mpl_toolkits.mplot3d import Axes3D"
   ]
  },
  {
   "cell_type": "code",
   "execution_count": null,
   "metadata": {},
   "outputs": [],
   "source": [
    "fig = plt.figure()\n",
    "ax = Axes3D(fig)\n",
    "\n",
    "# X, Y value\n",
    "X = np.arange(0, 4, 0.25)\n",
    "Y = np.arange(0, 4, 0.25)\n",
    "X, Y = np.meshgrid(X, Y)    # x-y meshgrid\n",
    "\n",
    "\n",
    "# height value q1(a-(q1+q2*)-c)\n",
    "a =13\n",
    "c=1\n",
    "\n",
    "Z = X*(a-(X+Y)-c)\n",
    "\n",
    "ax.plot_surface(X, Y, Z, rstride=1, cstride=1, cmap=plt.get_cmap('rainbow'))\n",
    "# rstride and cstride represent the scale of row and column of grid\n",
    "\n",
    "\n",
    "#ax.contourf(X, Y, Z, zdir='z', offset=-2, cmap=plt.get_cmap('rainbow'))"
   ]
  },
  {
   "cell_type": "code",
   "execution_count": null,
   "metadata": {},
   "outputs": [],
   "source": [
    "# X, Y value\n",
    "X = np.arange(0, 12, 0.25)\n",
    "Y = np.arange(0, 12, 0.25)\n",
    "X, Y = np.meshgrid(X, Y)    # x-y meshgrid\n",
    "\n",
    "\n",
    "# height value q1(a-(q1+q2*)-c)\n",
    "a =13\n",
    "c=1\n",
    "\n",
    "Z = X*(a-(X+Y)-c)\n",
    "\n",
    "Z2 = Y*(a-(X+Y)-c)\n",
    "\n",
    "plt.figure()\n",
    "# use plt.contourf to filling contours\n",
    "# X, Y and value for (X,Y) point\n",
    "# 16 is the density of contour\n",
    "\n",
    "plt.contourf(X, Y, Z, 16, alpha=.75, cmap=plt.cm.hot)\n",
    "plt.contourf(X, Y, Z2, 16, alpha=.75, cmap=plt.cm.hot)\n",
    "\n",
    "# use plt.contour to add contour lines\n",
    "C = plt.contour(X, Y, Z, 16, colors='black', linewidth=.5)\n",
    "C2 = plt.contour(X, Y, Z2, 16, colors='black', linewidth=.5)\n",
    "# 16is the density of contour\n",
    "\n",
    "plt.clabel(C, inline=True, fontsize=10)\n",
    "plt.clabel(C2, inline=True, fontsize=10)\n",
    "\n",
    "#plt.xticks(())\n",
    "#plt.yticks(())"
   ]
  },
  {
   "cell_type": "code",
   "execution_count": null,
   "metadata": {
    "collapsed": true
   },
   "outputs": [],
   "source": []
  },
  {
   "cell_type": "code",
   "execution_count": null,
   "metadata": {
    "collapsed": true
   },
   "outputs": [],
   "source": []
  },
  {
   "cell_type": "code",
   "execution_count": null,
   "metadata": {
    "collapsed": true
   },
   "outputs": [],
   "source": []
  },
  {
   "cell_type": "code",
   "execution_count": null,
   "metadata": {
    "collapsed": true
   },
   "outputs": [],
   "source": []
  },
  {
   "cell_type": "markdown",
   "metadata": {},
   "source": [
    "http://vknight.org/Year_3_game_theory_course/Content/Chapter_06-Nash_Equilibria_in_mixed_strategies/\n",
    "\n"
   ]
  },
  {
   "cell_type": "code",
   "execution_count": null,
   "metadata": {
    "collapsed": true
   },
   "outputs": [],
   "source": []
  },
  {
   "cell_type": "code",
   "execution_count": null,
   "metadata": {
    "collapsed": true
   },
   "outputs": [],
   "source": []
  },
  {
   "cell_type": "code",
   "execution_count": null,
   "metadata": {
    "collapsed": true
   },
   "outputs": [],
   "source": []
  },
  {
   "cell_type": "code",
   "execution_count": null,
   "metadata": {
    "collapsed": true
   },
   "outputs": [],
   "source": []
  },
  {
   "cell_type": "markdown",
   "metadata": {},
   "source": [
    "**(Strict Equilibrium)**. A pair of players’ strategies that are the only best reply to each other."
   ]
  },
  {
   "cell_type": "markdown",
   "metadata": {},
   "source": [
    "*Remark*. In an admissible equilibrium, no player uses a weakly dominated strategy. A strictly dominated strategy can be deleted safely."
   ]
  },
  {
   "cell_type": "code",
   "execution_count": null,
   "metadata": {
    "collapsed": true
   },
   "outputs": [],
   "source": []
  },
  {
   "cell_type": "code",
   "execution_count": null,
   "metadata": {
    "collapsed": true
   },
   "outputs": [],
   "source": []
  },
  {
   "cell_type": "code",
   "execution_count": null,
   "metadata": {
    "collapsed": true
   },
   "outputs": [],
   "source": []
  },
  {
   "cell_type": "code",
   "execution_count": null,
   "metadata": {
    "collapsed": true
   },
   "outputs": [],
   "source": []
  },
  {
   "cell_type": "code",
   "execution_count": null,
   "metadata": {
    "collapsed": true
   },
   "outputs": [],
   "source": []
  },
  {
   "cell_type": "code",
   "execution_count": null,
   "metadata": {
    "collapsed": true
   },
   "outputs": [],
   "source": []
  },
  {
   "cell_type": "code",
   "execution_count": null,
   "metadata": {
    "collapsed": true
   },
   "outputs": [],
   "source": []
  },
  {
   "cell_type": "code",
   "execution_count": null,
   "metadata": {
    "collapsed": true
   },
   "outputs": [],
   "source": []
  },
  {
   "cell_type": "code",
   "execution_count": null,
   "metadata": {
    "collapsed": true
   },
   "outputs": [],
   "source": []
  },
  {
   "cell_type": "code",
   "execution_count": null,
   "metadata": {
    "collapsed": true
   },
   "outputs": [],
   "source": []
  },
  {
   "cell_type": "markdown",
   "metadata": {},
   "source": [
    "|       | L          | R  |\n",
    "| ------------- |:-------------:| -----:|\n",
    "| **T**     | 4      6 | 1 0 |\n",
    "| **M **     | 5 6     |   1 2 |\n",
    "| **B**       | 1 2      |  1  1 |"
   ]
  },
  {
   "cell_type": "markdown",
   "metadata": {},
   "source": [
    "$$\n",
    "\\begin{array}{ccc}\n",
    " & & \\textit{Player 2}\\\\\n",
    " & & \\begin{array}{ccc}  \\quad \\quad \\quad L[a] & \\quad   C[b] &\\quad R[1-a-b] \\end{array}\\\\\n",
    "\\textit{Player 1} & \\begin{array}{c} T[x]\\\\ M[y]\\\\ B[1-x-y]\\end{array} &\n",
    "  \\left(\\begin{array}{ccc}\n",
    "    1\\quad2 & 0\\quad0 & 1\\quad2\\\\\n",
    "    0\\quad0 & 1\\quad2 & 1\\quad2\\\\\n",
    "    1\\quad4 & 1\\quad4 & 1\\quad2\n",
    "  \\end{array}\\right)\n",
    "\\end{array}\n",
    "$$\n",
    "\n",
    "https://tex.stackexchange.com/questions/249480/creating-a-payoff-matrix-using-latex-tabular-environment\n",
    "https://tex.stackexchange.com/questions/339938/adding-labels-to-matrix-in-mathjax\n",
    "https://tex.stackexchange.com/questions/304011/3x3-normal-form-payoff-matrix-in-latex-tabular-environment\n",
    "https://tex.stackexchange.com/questions/23275/strategy-payoff-matrix\n",
    "https://www.latex4technics.com/?note=23vr\n",
    "https://cdn.rawgit.com/mathjax/MathJax/2.7.1/test/sample-dynamic.html"
   ]
  },
  {
   "cell_type": "code",
   "execution_count": null,
   "metadata": {},
   "outputs": [],
   "source": [
    "%%latex\n",
    "\\begin{array}{rr} \\hline\n",
    "x &4 &5 &6 &7 \\\\ \\hline\n",
    "P(X=x) &0.2 &0.4 &0.3 &0.1 \\\\ \\hline\n",
    "\\end{array}"
   ]
  },
  {
   "cell_type": "code",
   "execution_count": null,
   "metadata": {},
   "outputs": [],
   "source": [
    "#!pip install tabulate --user "
   ]
  },
  {
   "cell_type": "code",
   "execution_count": null,
   "metadata": {},
   "outputs": [],
   "source": [
    "table = [[\"Sun\",696000,1989100000],[\"Earth\",6371,5973.6],\n",
    "          [\"Moon\",1737,73.5],[\"Mars\",3390,641.85]]\n",
    "from tabulate import tabulate\n",
    "from IPython.display import HTML\n",
    "HTML(tabulate(table, headers= ['your', 'headers', 'here'], floatfmt='.3e', tablefmt='html'))"
   ]
  },
  {
   "cell_type": "code",
   "execution_count": null,
   "metadata": {},
   "outputs": [],
   "source": [
    "%load_ext rmagic"
   ]
  },
  {
   "cell_type": "code",
   "execution_count": null,
   "metadata": {
    "collapsed": true
   },
   "outputs": [],
   "source": []
  },
  {
   "cell_type": "markdown",
   "metadata": {},
   "source": [
    " #### strictly/weekly dominated\n",
    " \n",
    " \n",
    " A strategy $s_i$ is said to be non-rationalizable if it is NEVER a best response. (lecnotes5 p13)\n",
    " \n",
    " #### rationalized/ non-rationalized:  is never a best response\n",
    " http://www.econ.uiuc.edu/~hrtdmrt2/Teaching/GT_2016_19/L3.pdf"
   ]
  },
  {
   "cell_type": "markdown",
   "metadata": {},
   "source": [
    "all normal form games have at least one Nash equilibrium (pure or mixed) "
   ]
  },
  {
   "cell_type": "markdown",
   "metadata": {},
   "source": [
    "Multiplying all of the payoffs in a matrix game by a positive constant does not modify any of the Nash Equilibria"
   ]
  },
  {
   "cell_type": "markdown",
   "metadata": {},
   "source": [
    "If a player’s optimal strategy does not depend on the behavior of others, then that player must have a dominant strategy."
   ]
  },
  {
   "cell_type": "code",
   "execution_count": null,
   "metadata": {
    "collapsed": true
   },
   "outputs": [],
   "source": []
  },
  {
   "cell_type": "code",
   "execution_count": null,
   "metadata": {
    "collapsed": true
   },
   "outputs": [],
   "source": []
  },
  {
   "cell_type": "code",
   "execution_count": null,
   "metadata": {
    "collapsed": true
   },
   "outputs": [],
   "source": []
  },
  {
   "cell_type": "code",
   "execution_count": null,
   "metadata": {
    "collapsed": true
   },
   "outputs": [],
   "source": []
  }
 ],
 "metadata": {
  "kernelspec": {
   "display_name": "Python 3",
   "language": "python",
   "name": "python3"
  }
 },
 "nbformat": 4,
 "nbformat_minor": 2
}
