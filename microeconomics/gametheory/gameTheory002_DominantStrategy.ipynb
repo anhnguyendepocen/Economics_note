{
 "cells": [
  {
   "cell_type": "markdown",
   "metadata": {},
   "source": [
    "### Solving games by iterated elimination of dominated strategies\n",
    "\n",
    "-  If a strategy is strictly dominated, eliminate it \n",
    "\n",
    "-  The size and complexity of the game is reduced \n",
    "\n",
    "-  Eliminate any strictly dominated strategies from the reduced game\n",
    "\n",
    "-  Continue doing so successively until no elimination can be made\n",
    "\n",
    "\n"
   ]
  },
  {
   "cell_type": "markdown",
   "metadata": {},
   "source": [
    "**(Dominated Strategy)**. A strategy $s_1$ is **strictly dominated** by $s'$\n",
    " for Player 1 if and only if \n",
    "\n",
    "$$u_1(s_1, s_2) < u_1(s', s2) \\quad \\text{for all} \\quad    s_2 \\in S_2 $$\n",
    "\n",
    "\n",
    "A strategy is said to be (strictly/weakly) DOMINANT if playing it ALWAYS yields the (strictly/weakly) highest possible payoff, for any vector of strategies chosen by all other players.\n",
    "\n",
    "A strictly dominant strategy is always played by a rational player  A (strictly/weakly) dominant strategy always survives the IESDS\n",
    "\n",
    "Weakly Dominated Strategies CAN NOT Be Eliminated\n",
    "\n",
    "The problem is that the order in which one chooses to eliminate weakly dominated strategies can alter the prediction of play"
   ]
  },
  {
   "cell_type": "markdown",
   "metadata": {},
   "source": [
    "Rational players never play strictly dominated strategies because it is always possible to do better regardless of the strategies chosen by other players."
   ]
  },
  {
   "cell_type": "markdown",
   "metadata": {},
   "source": [
    "\n",
    "\n",
    "\n",
    "**(Dominant-Strategy Equilibrium)**. In a dominant-strategy equilibrium every player in the game chooses their dominant strategy. A game will only have a dominant-strategy equilibrium if all the players have a dominant strategy\n",
    "\n",
    "\n",
    "\n",
    "**(Weakly Dominant Strategy)**. In a two-player game the payoffs to a player from choosing a weakly dominant strategy are\n",
    "- (a) at least as high as those from choosing any other strategy in response to any strategy the other player chooses and\n",
    "- (b) higher than those from choosing any other strategy in response to at least one strategy of the other player.\n",
    "\n",
    "\n",
    "\n",
    "\n",
    "\n",
    "\n",
    "**(Weakly Dominated Strategy)**. A strategy s1 is weakly dominated by s0\n",
    "1 for Player 1 if and only if \n",
    "\n",
    "$$\n",
    "\\begin{cases}\n",
    "  u_1(s_1, s_2) \\le u_1(s', s_2) \\quad \\text{for all} \\quad    s_2 \\in S_2 \\\\    \n",
    "  u_1(s_1, s_2) < u_1(s', s_2) \\quad \\text{for at least one} \\quad    s_2 \\in S_2    \n",
    "\\end{cases}\n",
    "$$\n",
    "\n",
    "A weakly dominated strategy si is never strictly better than s0 some environment which is strictly worse than s0\n",
    "\n",
    "*Remark*. Unlike a strictly dominated strategy, a strategy that is only weakly dominated cannot be ruled out based solely on principles of rationality."
   ]
  },
  {
   "cell_type": "code",
   "execution_count": null,
   "metadata": {},
   "outputs": [],
   "source": []
  }
 ],
 "metadata": {
  "kernelspec": {
   "display_name": "fastai",
   "language": "python",
   "name": "fastai"
  },
  "language_info": {
   "codemirror_mode": {
    "name": "ipython",
    "version": 3
   },
   "file_extension": ".py",
   "mimetype": "text/x-python",
   "name": "python",
   "nbconvert_exporter": "python",
   "pygments_lexer": "ipython3",
   "version": "3.6.6"
  }
 },
 "nbformat": 4,
 "nbformat_minor": 2
}
