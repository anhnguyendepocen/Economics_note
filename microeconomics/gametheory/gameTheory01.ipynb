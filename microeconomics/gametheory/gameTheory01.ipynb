{
 "cells": [
  {
   "cell_type": "code",
   "execution_count": null,
   "metadata": {
    "collapsed": true
   },
   "outputs": [],
   "source": []
  },
  {
   "cell_type": "markdown",
   "metadata": {},
   "source": [
    "# Dynamic Games\n"
   ]
  },
  {
   "cell_type": "markdown",
   "metadata": {},
   "source": [
    "## Extensive form games and backwards induction\n",
    "\n",
    "\n",
    "### Definition of an Information set\n",
    "\n",
    "Two nodes of a game tree are said to be part of the same information set if the player at that node cannot differentiate between them.\n",
    "\n",
    "\n",
    "### Backwards induction\n",
    "\n",
    "To analyse such games we assume that players not only attempt to optimize their overall utility but optimize their utility conditional on any information set.\n",
    "\n",
    "#### Definition of sequential rationality\n",
    "\n",
    "Sequential rationality: An optimal strategy for a player should maximise that player’s expected payoff, conditional on every information set at which that player has a decision.\n",
    "\n",
    "With this notion in mind we can now define an analysis technique for extensive form games:\n",
    "\n",
    "### Definition of backward induction\n",
    "\n",
    "Backward induction: This is the process of analysing a game from back to front. At each information set we remove strategies that are dominated.\n",
    "\n",
    "\n",
    "### Theorem of existence of Nash equilibrium in games of perfect information.\n",
    "\n",
    "Every finite game with perfect information has a Nash equilibrium in pure strategies. Backward induction identifies an equilibrium.\n",
    "\n",
    "#### Proof\n",
    "\n",
    "Recalling the properties of sequential rationality we see that no player will have an incentive to deviate from the strategy profile found through backward induction. Secondly every finite game with perfect information can be solved using backward inductions which gives the result."
   ]
  },
  {
   "cell_type": "markdown",
   "metadata": {},
   "source": [
    "##  Sub-Game Perfect Equilibria \n",
    "\n",
    "\n",
    "\n",
    "### Definition of a subgame\n",
    "\n",
    "In an extensive form game, a node $x$ is said to initiate a subgame if and only if $x$ and all successors of $x$ are in information sets containing only successors of $x$.\n",
    "\n",
    "A game that **does not have perfect information nodes**\n",
    "\n",
    "- c, f and b initiate subgames \n",
    "\n",
    "- but all of b’s successors: d and e do not \n",
    "\n",
    "![](http://vknight.org/Year_3_game_theory_course/Content/images/L08-img02.png)\n"
   ]
  },
  {
   "cell_type": "markdown",
   "metadata": {},
   "source": [
    "### Definition of subgame perfect equilibrium\n",
    "\n",
    "A subgame perfect Nash equilibrium is a Nash equilibrium in which the strategy profiles specify Nash equilibria for every subgame of the game.\n",
    "\n",
    "Note that this includes subgames that might not be reached during play!\n",
    "\n",
    "- subgame perfect Nash equilibrium is a refinement of Nash equilibrium.\n",
    "- In games with perfect information, the Nash equilibrium obtained through backwards induction is subgame perfect.\n",
    "\n",
    "\n"
   ]
  },
  {
   "cell_type": "code",
   "execution_count": null,
   "metadata": {
    "collapsed": true
   },
   "outputs": [],
   "source": []
  },
  {
   "cell_type": "markdown",
   "metadata": {},
   "source": [
    "### One example\n",
    "\n",
    "![](https://www.complexityexplorer.org/ckeditor_assets/pictures/698/content_q2.png)\n",
    "\n",
    "\n",
    "- First, figure out what player 2 would play for each of player 1's possible actions. \n",
    "\n",
    "- Then, pick the strategy for player 1 that gives the highest payout conditional on player 2 best responding to whatever player 1 chooses.\n",
    "\n",
    "ref:\n",
    "\n"
   ]
  },
  {
   "cell_type": "markdown",
   "metadata": {},
   "source": [
    "\n"
   ]
  },
  {
   "cell_type": "markdown",
   "metadata": {},
   "source": [
    "### The Centipede Game\n",
    "\n",
    "![](https://upload.wikimedia.org/wikipedia/commons/thumb/6/68/Centipede_game.png/740px-Centipede_game.png)\n",
    "\n",
    "An Extensive Form representation of a four-stage centipede game, which ends after four rounds with the money being split. Passing the coins across the table is represented by a move of R (going across the row of the lattice, sometimes also represented by A for across) and pocketing the coins is a move D (down the lattice). The numbers 1 and 2 along the top of the diagram show the alternating decision-maker between two players denoted here as 1 and 2, and the numbers at the bottom of each branch show the payoff for players 1 and 2 respectively.\n",
    "\n",
    "The unique subgame perfect equilibrium (and every Nash equilibrium) of these games indicates that the first player take the pot on the very first round of the game; however, in empirical tests, relatively few players do so, and as a result, achieve a higher payoff than the payoff predicted by the equilibria analysis. These results are taken to show that subgame perfect equilibria and Nash equilibria fail to predict human play in some circumstances. The Centipede game is commonly used in introductory game theory courses and texts to highlight the concept of backward induction and the iterated elimination of dominated strategies, which show a standard way of providing a solution to the game.\n",
    "\n",
    "\n",
    "\n",
    "ref:\n",
    "https://en.wikipedia.org/wiki/Centipede_game\n",
    "https://www.youtube.com/watch?v=RSIIABqhh8I\n",
    "http://gametheory101.com/courses/game-theory-101/the-centipede-game/"
   ]
  },
  {
   "cell_type": "markdown",
   "metadata": {},
   "source": [
    "![](https://www.complexityexplorer.org/ckeditor_assets/pictures/702/content_q4.png)\n",
    "\n",
    "\n",
    "Unlike the centipede game in the video, player 2 would play \"Continue\" if they had the chance to act a second time. Knowing this, player 1  would not play stop in the first stage."
   ]
  },
  {
   "cell_type": "markdown",
   "metadata": {},
   "source": [
    "\n"
   ]
  },
  {
   "cell_type": "code",
   "execution_count": null,
   "metadata": {
    "collapsed": true
   },
   "outputs": [],
   "source": []
  },
  {
   "cell_type": "code",
   "execution_count": null,
   "metadata": {
    "collapsed": true
   },
   "outputs": [],
   "source": []
  },
  {
   "cell_type": "code",
   "execution_count": null,
   "metadata": {
    "collapsed": true
   },
   "outputs": [],
   "source": []
  },
  {
   "cell_type": "markdown",
   "metadata": {},
   "source": [
    "#### Stackelberg game\n",
    "\n",
    "Let us consider the Cournot duopoly game. Recall:\n",
    "\n",
    "> Suppose that two firms 1 and 2 produce an identical good (ie consumers do not care who makes the good). The firms decide at the same time to produce a certain quantity of goods: $q1,q2≥0$. All of the good is sold but the price depends on the number of goods:\n",
    "\n",
    "$$p=K−q1−q2$$\n",
    "\n",
    "We also assume that the firms both pay a production cost of $k$ per bricks.\n",
    "\n",
    "However we will modify this to assume that there is **a leader and a follower**, ie the **firms do not decide at the same time**. This game is called a **Stackelberg leader follower game**.\n",
    "\n",
    "\n",
    "\n",
    "\n",
    "Let us represent this as a normal form game.\n",
    "\n",
    "\n",
    "![](http://vknight.org/Year_3_game_theory_course/Content/images/L07-img13.png)\n",
    "\n",
    "We use backward induction to identify the Nash equilibria. The dominant strategy for the follower is:\n",
    "\n",
    "$$q_2^*(q_1)=\\frac{K-k-q_1}{2}$$\n",
    "\n",
    "The game thus reduces as shown.\n",
    "\n",
    "\n",
    "![](http://vknight.org/Year_3_game_theory_course/Content/images/L07-img14.png)\n",
    "\n",
    "The leader thus needs to maximise:\n",
    "\n",
    "\n",
    "$$u_1(q_1)=(K-q_1-\\frac{K-k-q_1}{2})q_1-kq_1=(\\frac{K-q_1+k}{2})q_1-kq_1$$\n",
    "\n",
    "\n",
    "Differentiating and equating to 0 gives:\n",
    "\n",
    "$q_1^*=\\frac{K-k}{2}$  which in turn gives: $q_2^*=\\frac{K-k}{4}$\n",
    "\n",
    "\n",
    "The total amount of goods produced is $\\frac{3(K-k)}{4}$ whereas in the Cournot game the total amount of good produced was $\\frac{2(K-k)}{3}$. Thus **more goods are produced in the Stackelberg game**.\n"
   ]
  },
  {
   "cell_type": "markdown",
   "metadata": {},
   "source": [
    "ref:\n",
    "    \n",
    "http://vknight.org/Year_3_game_theory_course/Content/Chapter_01-Introduction/\n",
    "\n",
    "Gambit http://www.gambit-project.org\n",
    "https://github.com/gambitproject/gambit\n",
    "\n",
    "\n",
    "A research tool for the Iterated Prisoner's Dilemma http://axelrod.readthedocs.org/\n",
    "\n",
    "https://github.com/Axelrod-Python/Axelrod\n",
    "\n",
    "http://axelrod.readthedocs.io/en/stable/tutorials/getting_started/installation.html"
   ]
  },
  {
   "cell_type": "code",
   "execution_count": null,
   "metadata": {
    "collapsed": true
   },
   "outputs": [],
   "source": [
    "#!pip install --user axelrod"
   ]
  },
  {
   "cell_type": "code",
   "execution_count": null,
   "metadata": {
    "collapsed": true
   },
   "outputs": [],
   "source": [
    "#!pip install --user gambit"
   ]
  },
  {
   "cell_type": "code",
   "execution_count": null,
   "metadata": {
    "collapsed": true
   },
   "outputs": [],
   "source": [
    "#import gambit"
   ]
  },
  {
   "cell_type": "markdown",
   "metadata": {},
   "source": [
    "http://gte.csc.liv.ac.uk/gte/builder/\n",
    "\n",
    "An extensive or strategic-form game can be created and nicely displayed with a graphical user interface in a web browser. State-of-the-art algorithms then compute one or all Nash equilibria of the game."
   ]
  },
  {
   "cell_type": "code",
   "execution_count": null,
   "metadata": {
    "collapsed": true
   },
   "outputs": [],
   "source": []
  },
  {
   "cell_type": "code",
   "execution_count": null,
   "metadata": {
    "collapsed": true
   },
   "outputs": [],
   "source": []
  },
  {
   "cell_type": "code",
   "execution_count": null,
   "metadata": {
    "collapsed": true
   },
   "outputs": [],
   "source": []
  },
  {
   "cell_type": "code",
   "execution_count": null,
   "metadata": {
    "collapsed": true
   },
   "outputs": [],
   "source": []
  },
  {
   "cell_type": "code",
   "execution_count": null,
   "metadata": {
    "collapsed": true
   },
   "outputs": [],
   "source": []
  },
  {
   "cell_type": "code",
   "execution_count": null,
   "metadata": {
    "collapsed": true
   },
   "outputs": [],
   "source": []
  },
  {
   "cell_type": "code",
   "execution_count": null,
   "metadata": {
    "collapsed": true
   },
   "outputs": [],
   "source": []
  },
  {
   "cell_type": "code",
   "execution_count": null,
   "metadata": {
    "collapsed": true
   },
   "outputs": [],
   "source": []
  },
  {
   "cell_type": "code",
   "execution_count": null,
   "metadata": {
    "collapsed": true
   },
   "outputs": [],
   "source": []
  },
  {
   "cell_type": "code",
   "execution_count": null,
   "metadata": {
    "collapsed": true
   },
   "outputs": [],
   "source": []
  }
 ],
 "metadata": {
  "kernelspec": {
   "display_name": "Python 3",
   "language": "python",
   "name": "python3"
  },
  "language_info": {
   "codemirror_mode": {
    "name": "ipython",
    "version": 3
   },
   "file_extension": ".py",
   "mimetype": "text/x-python",
   "name": "python",
   "nbconvert_exporter": "python",
   "pygments_lexer": "ipython3",
   "version": "3.6.2"
  }
 },
 "nbformat": 4,
 "nbformat_minor": 2
}
