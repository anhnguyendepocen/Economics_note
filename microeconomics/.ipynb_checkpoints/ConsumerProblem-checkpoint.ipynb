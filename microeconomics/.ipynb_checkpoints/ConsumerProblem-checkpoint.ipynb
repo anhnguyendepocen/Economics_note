{
 "cells": [
  {
   "cell_type": "code",
   "execution_count": null,
   "metadata": {},
   "outputs": [],
   "source": []
  },
  {
   "cell_type": "code",
   "execution_count": null,
   "metadata": {},
   "outputs": [],
   "source": []
  },
  {
   "cell_type": "code",
   "execution_count": 6,
   "metadata": {
    "ExecuteTime": {
     "end_time": "2018-01-27T07:00:43.858402Z",
     "start_time": "2018-01-27T07:00:43.845385Z"
    }
   },
   "outputs": [],
   "source": [
    "class Consumer:\n",
    "    \n",
    "    def __init__(self, w):\n",
    "        \"Initialize consumer with w dollars of wealth\"\n",
    "        self.wealth = w\n",
    "        \n",
    "    def __str__(self):\n",
    "        return \"A consumer has wealth {:.2f}\".format(self.wealth)\n",
    "   \n",
    "        \n",
    "    def earn(self, y):\n",
    "        \"The consumer earns y dollars\" \n",
    "        self.wealth += y\n",
    "        \n",
    "    def spend(self, x):\n",
    "        \"The consumer spends x dollars if feasible\"\n",
    "        new_wealth = self.wealth - x\n",
    "        if new_wealth < 0:\n",
    "            print(\"Insufficent funds\")\n",
    "        else:\n",
    "            self.wealth = new_wealth"
   ]
  },
  {
   "cell_type": "code",
   "execution_count": 7,
   "metadata": {
    "ExecuteTime": {
     "end_time": "2018-01-27T07:00:45.183216Z",
     "start_time": "2018-01-27T07:00:45.181211Z"
    }
   },
   "outputs": [
    {
     "name": "stdout",
     "output_type": "stream",
     "text": [
      "<class '__main__.Consumer'>\n"
     ]
    }
   ],
   "source": [
    "print(Consumer)"
   ]
  },
  {
   "cell_type": "code",
   "execution_count": 10,
   "metadata": {
    "ExecuteTime": {
     "end_time": "2018-01-27T07:08:02.655965Z",
     "start_time": "2018-01-27T07:08:02.652970Z"
    }
   },
   "outputs": [
    {
     "name": "stdout",
     "output_type": "stream",
     "text": [
      "{'__module__': '__main__', '__init__': <function Consumer.__init__ at 0x000002ACB88F2598>, '__str__': <function Consumer.__str__ at 0x000002ACB88F2510>, 'earn': <function Consumer.earn at 0x000002ACB5D42EA0>, 'spend': <function Consumer.spend at 0x000002ACB8922A60>, '__dict__': <attribute '__dict__' of 'Consumer' objects>, '__weakref__': <attribute '__weakref__' of 'Consumer' objects>, '__doc__': None}\n"
     ]
    }
   ],
   "source": [
    "print(Consumer.__dict__)  # Show __dict__ attribute of class object"
   ]
  },
  {
   "cell_type": "code",
   "execution_count": 8,
   "metadata": {
    "ExecuteTime": {
     "end_time": "2018-01-27T07:00:46.464695Z",
     "start_time": "2018-01-27T07:00:46.461687Z"
    }
   },
   "outputs": [
    {
     "data": {
      "text/plain": [
       "5"
      ]
     },
     "execution_count": 8,
     "metadata": {},
     "output_type": "execute_result"
    }
   ],
   "source": [
    "c1 = Consumer(10)  # Create instance with initial wealth 10\n",
    "c1.spend(5)\n",
    "c1.wealth"
   ]
  },
  {
   "cell_type": "code",
   "execution_count": 5,
   "metadata": {
    "ExecuteTime": {
     "end_time": "2018-01-27T06:55:22.953208Z",
     "start_time": "2018-01-27T06:55:22.950702Z"
    }
   },
   "outputs": [
    {
     "name": "stdout",
     "output_type": "stream",
     "text": [
      "Insufficent funds\n"
     ]
    }
   ],
   "source": [
    "c1.earn(15)\n",
    "c1.spend(100)"
   ]
  },
  {
   "cell_type": "code",
   "execution_count": 11,
   "metadata": {
    "ExecuteTime": {
     "end_time": "2018-01-27T07:09:14.998898Z",
     "start_time": "2018-01-27T07:09:14.995389Z"
    }
   },
   "outputs": [],
   "source": [
    "Consumer.earn(c1, 10)"
   ]
  },
  {
   "cell_type": "code",
   "execution_count": 9,
   "metadata": {
    "ExecuteTime": {
     "end_time": "2018-01-27T07:01:00.809905Z",
     "start_time": "2018-01-27T07:01:00.807897Z"
    }
   },
   "outputs": [
    {
     "name": "stdout",
     "output_type": "stream",
     "text": [
      "A consumer has wealth 5.00\n"
     ]
    }
   ],
   "source": [
    "print(c1)"
   ]
  }
 ],
 "metadata": {
  "kernelspec": {
   "display_name": "Python 3",
   "language": "python",
   "name": "python3"
  },
  "language_info": {
   "codemirror_mode": {
    "name": "ipython",
    "version": 3
   },
   "file_extension": ".py",
   "mimetype": "text/x-python",
   "name": "python",
   "nbconvert_exporter": "python",
   "pygments_lexer": "ipython3",
   "version": "3.6.3"
  }
 },
 "nbformat": 4,
 "nbformat_minor": 2
}
