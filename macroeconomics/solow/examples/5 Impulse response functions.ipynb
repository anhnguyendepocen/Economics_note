{
 "cells": [
  {
   "cell_type": "code",
   "execution_count": 15,
   "metadata": {
    "collapsed": false
   },
   "outputs": [
    {
     "data": {
      "text/html": [
       "<style>\n",
       "\n",
       "html {\n",
       "  font-size: 62.5% !important; }\n",
       "body {\n",
       "  font-size: 1.5em !important; /* currently ems cause chrome bug misinterpreting rems on body element */\n",
       "  line-height: 1.6 !important;\n",
       "  font-weight: 400 !important;\n",
       "  font-family: \"Raleway\", \"HelveticaNeue\", \"Helvetica Neue\", Helvetica, Arial, sans-serif !important;\n",
       "  color: #222 !important; }\n",
       "\n",
       "div{ border-radius: 0px !important;  }\n",
       "div.CodeMirror-sizer{ background: rgb(244, 244, 248) !important; }\n",
       "div.input_area{ background: rgb(244, 244, 248) !important; }\n",
       "\n",
       "div.out_prompt_overlay:hover{ background: rgb(244, 244, 248) !important; }\n",
       "div.input_prompt:hover{ background: rgb(244, 244, 248) !important; }\n",
       "\n",
       "h1, h2, h3, h4, h5, h6 {\n",
       "  color: #333 !important;\n",
       "  margin-top: 0 !important;\n",
       "  margin-bottom: 2rem !important;\n",
       "  font-weight: 300 !important; }\n",
       "h1 { font-size: 4.0rem !important; line-height: 1.2 !important;  letter-spacing: -.1rem !important;}\n",
       "h2 { font-size: 3.6rem !important; line-height: 1.25 !important; letter-spacing: -.1rem !important; }\n",
       "h3 { font-size: 3.0rem !important; line-height: 1.3 !important;  letter-spacing: -.1rem !important; }\n",
       "h4 { font-size: 2.4rem !important; line-height: 1.35 !important; letter-spacing: -.08rem !important; }\n",
       "h5 { font-size: 1.8rem !important; line-height: 1.5 !important;  letter-spacing: -.05rem !important; }\n",
       "h6 { font-size: 1.5rem !important; line-height: 1.6 !important;  letter-spacing: 0 !important; }\n",
       "\n",
       "@media (min-width: 550px) {\n",
       "  h1 { font-size: 5.0rem !important; }\n",
       "  h2 { font-size: 4.2rem !important; }\n",
       "  h3 { font-size: 3.6rem !important; }\n",
       "  h4 { font-size: 3.0rem !important; }\n",
       "  h5 { font-size: 2.4rem !important; }\n",
       "  h6 { font-size: 1.5rem !important; }\n",
       "}\n",
       "\n",
       "p {\n",
       "  margin-top: 0 !important; }\n",
       "  \n",
       "a {\n",
       "  color: #1EAEDB !important; }\n",
       "a:hover {\n",
       "  color: #0FA0CE !important; }\n",
       "  \n",
       "code {\n",
       "  padding: .2rem .5rem !important;\n",
       "  margin: 0 .2rem !important;\n",
       "  font-size: 90% !important;\n",
       "  white-space: nowrap !important;\n",
       "  background: #F1F1F1 !important;\n",
       "  border: 1px solid #E1E1E1 !important;\n",
       "  border-radius: 4px !important; }\n",
       "pre > code {\n",
       "  display: block !important;\n",
       "  padding: 1rem 1.5rem !important;\n",
       "  white-space: pre !important; }\n",
       "  \n",
       "button{ border-radius: 0px !important; }\n",
       ".navbar-inner{ background-image: none !important;  }\n",
       "select, textarea{ border-radius: 0px !important; }\n",
       "\n",
       "</style>"
      ],
      "text/plain": [
       "<IPython.core.display.HTML object>"
      ]
     },
     "execution_count": 15,
     "metadata": {},
     "output_type": "execute_result"
    }
   ],
   "source": [
    "# Setting up a custom stylesheet in IJulia\n",
    "from IPython.core.display import HTML\n",
    "from IPython import utils  \n",
    "import urllib2\n",
    "HTML(urllib2.urlopen('http://bit.ly/1Bf5Hft').read())\n",
    "#HTML(\"\"\"\n",
    "#<style>\n",
    "#open('style.css','r').read()\n",
    "#</style>\n",
    "#\"\"\")"
   ]
  },
  {
   "cell_type": "code",
   "execution_count": 10,
   "metadata": {
    "collapsed": false
   },
   "outputs": [],
   "source": [
    "%matplotlib inline"
   ]
  },
  {
   "cell_type": "code",
   "execution_count": 11,
   "metadata": {
    "collapsed": false
   },
   "outputs": [],
   "source": [
    "import matplotlib.pyplot as plt\n",
    "import numpy as np\n",
    "import pandas as pd\n",
    "import sympy as sym\n",
    "sym.init_printing() \n",
    "import solowpy"
   ]
  },
  {
   "cell_type": "code",
   "execution_count": 12,
   "metadata": {
    "collapsed": false
   },
   "outputs": [],
   "source": [
    "# define model parameters\n",
    "ces_params = {'A0': 1.0, 'L0': 1.0, 'g': 0.02, 'n': 0.03, 's': 0.15,\n",
    "              'delta': 0.05, 'alpha': 0.33, 'sigma': 1.01}\n",
    "\n",
    "# create an instance of the solow.Model class\n",
    "ces_model = solowpy.CESModel(params=ces_params)"
   ]
  },
  {
   "cell_type": "markdown",
   "metadata": {},
   "source": [
    "# 5. Impulse response functions\n",
    "\n",
    "Impulse response functions (IRFs) are a standard tool for analyzing the short run dynamics of dynamic macroeconomic models, such as the Solow growth model, in response to an exogenous shock. The `solow.impulse_response.ImpulseResponse` class has several attributes and methods for generating and analyzing impulse response functions. "
   ]
  },
  {
   "cell_type": "code",
   "execution_count": 17,
   "metadata": {
    "collapsed": false
   },
   "outputs": [
    {
     "ename": "SyntaxError",
     "evalue": "invalid syntax (<ipython-input-17-e1891f563aba>, line 2)",
     "output_type": "error",
     "traceback": [
      "\u001b[0;36m  File \u001b[0;32m\"<ipython-input-17-e1891f563aba>\"\u001b[0;36m, line \u001b[0;32m2\u001b[0m\n\u001b[0;31m    solowpy.impulse_response.ImpulseResponse.\u001b[0m\n\u001b[0m                                             ^\u001b[0m\n\u001b[0;31mSyntaxError\u001b[0m\u001b[0;31m:\u001b[0m invalid syntax\n"
     ]
    }
   ],
   "source": [
    "# use tab completion to see the available attributes and methods...\n",
    "solowpy.impulse_response.ImpulseResponse."
   ]
  },
  {
   "cell_type": "markdown",
   "metadata": {},
   "source": [
    "The `solow.Model` class provides access to all of the functionality of the `solow.impulse_response.ImpulseResponse` class through its `irf` attribute."
   ]
  },
  {
   "cell_type": "code",
   "execution_count": 18,
   "metadata": {
    "collapsed": false
   },
   "outputs": [
    {
     "ename": "SyntaxError",
     "evalue": "invalid syntax (<ipython-input-18-9386e48810e2>, line 2)",
     "output_type": "error",
     "traceback": [
      "\u001b[0;36m  File \u001b[0;32m\"<ipython-input-18-9386e48810e2>\"\u001b[0;36m, line \u001b[0;32m2\u001b[0m\n\u001b[0;31m    ces_model.irf.\u001b[0m\n\u001b[0m                  ^\u001b[0m\n\u001b[0;31mSyntaxError\u001b[0m\u001b[0;31m:\u001b[0m invalid syntax\n"
     ]
    }
   ],
   "source": [
    "# use tab completion to see the available attributes and methods...\n",
    "ces_model.irf."
   ]
  },
  {
   "cell_type": "markdown",
   "metadata": {},
   "source": [
    "### Example: Impact of a change in the savings rate\n",
    "One can analyze the impact of a doubling of the savings rate on model variables as follows."
   ]
  },
  {
   "cell_type": "code",
   "execution_count": 30,
   "metadata": {
    "collapsed": false
   },
   "outputs": [],
   "source": [
    "# 100% increase in the current savings rate...\n",
    "ces_model.irf.impulse = {'s': 2.0 * ces_model.params['s']}\n",
    "\n",
    "# in efficiency units...\n",
    "ces_model.irf.kind = 'efficiency_units'"
   ]
  },
  {
   "cell_type": "markdown",
   "metadata": {},
   "source": [
    "Take a look at the IRF for the savings rate shock. Note that while capital and output are unaffected at the `t=0`, both consumption and investment jump (in opposite directions!) in response to the change in the savings rate."
   ]
  },
  {
   "cell_type": "code",
   "execution_count": 31,
   "metadata": {
    "collapsed": false
   },
   "outputs": [
    {
     "name": "stdout",
     "output_type": "stream",
     "text": [
      "[[-10.           1.83266593   1.22177729   1.03851069   0.18326659]\n",
      " [ -9.           1.83266593   1.22177729   1.03851069   0.18326659]\n",
      " [ -8.           1.83266593   1.22177729   1.03851069   0.18326659]\n",
      " [ -7.           1.83266593   1.22177729   1.03851069   0.18326659]\n",
      " [ -6.           1.83266593   1.22177729   1.03851069   0.18326659]\n",
      " [ -5.           1.83266593   1.22177729   1.03851069   0.18326659]\n",
      " [ -4.           1.83266593   1.22177729   1.03851069   0.18326659]\n",
      " [ -3.           1.83266593   1.22177729   1.03851069   0.18326659]\n",
      " [ -2.           1.83266593   1.22177729   1.03851069   0.18326659]\n",
      " [ -1.           1.83266593   1.22177729   1.03851069   0.18326659]\n",
      " [  0.           1.83266593   1.22177729   0.8552441    0.36653319]\n",
      " [  1.           2.01275138   1.26032782   0.88222947   0.37809834]\n",
      " [  2.           2.18618199   1.29535125   0.90674587   0.38860537]\n",
      " [  3.           2.35264866   1.32727865   0.92909505   0.39818359]\n",
      " [  4.           2.51198357   1.35646703   0.94952692   0.40694011]\n",
      " [  5.           2.66412817   1.38321633   0.96825143   0.4149649 ]\n",
      " [  6.           2.80910835   1.40778168   0.98544717   0.4223345 ]\n",
      " [  7.           2.94701497   1.43038227   1.00126759   0.42911468]\n",
      " [  8.           3.07798847   1.45120817   1.01584572   0.43536245]\n",
      " [  9.           3.20220659   1.47042544   1.02929781   0.44112763]\n",
      " [ 10.           3.31987457   1.48818014   1.0417261    0.44645404]\n",
      " [ 11.           3.43121733   1.50460152   1.05322106   0.45138045]\n",
      " [ 12.           3.53647313   1.5198045    1.06386315   0.45594135]\n",
      " [ 13.           3.63588855   1.53389178   1.07372425   0.46016754]\n",
      " [ 14.           3.72971448   1.54695551   1.08286886   0.46408665]]\n"
     ]
    }
   ],
   "source": [
    "# ordering of variables is t, k, y, c, i!\n",
    "print(ces_model.irf.impulse_response[:25,])"
   ]
  },
  {
   "cell_type": "markdown",
   "metadata": {},
   "source": [
    "### Example: Plotting an impulse response function\n",
    "One can use a convenience method to to plot the impulse response functions for a particular variable."
   ]
  },
  {
   "cell_type": "code",
   "execution_count": 21,
   "metadata": {
    "collapsed": false
   },
   "outputs": [],
   "source": [
    "# check the docstring to see the call signature\n",
    "ces_model.irf.plot_impulse_response?"
   ]
  },
  {
   "cell_type": "code",
   "execution_count": 32,
   "metadata": {
    "collapsed": false
   },
   "outputs": [
    {
     "data": {
      "image/png": "[encoded data removed]",
      "text/plain": [
       "<matplotlib.figure.Figure at 0x11fbea58>"
      ]
     },
     "metadata": {},
     "output_type": "display_data"
    }
   ],
   "source": [
    "fig, ax = plt.subplots(1, 1, figsize=(8,6))\n",
    "ces_model.irf.plot_impulse_response(ax, variable='output')\n",
    "plt.show()"
   ]
  },
  {
   "cell_type": "markdown",
   "metadata": {},
   "source": [
    "### Example: More complicated impulse responses are possible\n",
    "Note that by defining impulses as dictionaries, one can analyze extremely general shocks. For example, suppose that an exogenous 5% increase in the growth rate of technology was accompanied by a simultaneous 10% fall in the savings rate."
   ]
  },
  {
   "cell_type": "code",
   "execution_count": 33,
   "metadata": {
    "collapsed": false
   },
   "outputs": [],
   "source": [
    "# more complicate shocks are possible\n",
    "ces_model.irf.impulse = {'s': 0.9 * ces_model.params['s'], 'g': 1.05 * ces_model.params['g']}\n",
    "\n",
    "# in efficiency units...\n",
    "ces_model.irf.kind = 'per_capita'"
   ]
  },
  {
   "cell_type": "code",
   "execution_count": 34,
   "metadata": {
    "collapsed": false
   },
   "outputs": [
    {
     "data": {
      "image/png": "[encoded data removed]",
      "text/plain": [
       "<matplotlib.figure.Figure at 0x11ae25f8>"
      ]
     },
     "metadata": {},
     "output_type": "display_data"
    }
   ],
   "source": [
    "fig, ax = plt.subplots(1, 1, figsize=(8,6))\n",
    "ces_model.irf.plot_impulse_response(ax, variable='output', log=True)\n",
    "plt.show()"
   ]
  },
  {
   "cell_type": "markdown",
   "metadata": {},
   "source": [
    "### Example: Interactive impulse reponse functions\n",
    "Using IPython widgets makes it extremely easy to analyze the various impulse response functions."
   ]
  },
  {
   "cell_type": "code",
   "execution_count": 35,
   "metadata": {
    "collapsed": false
   },
   "outputs": [],
   "source": [
    "#from IPython.html.widgets import fixed, interact, FloatSliderWidget\n",
    "from IPython.html.widgets import fixed, interact\n",
    "\n",
    "from ipywidgets import fixed,interact, FloatSlider, IntSlider"
   ]
  },
  {
   "cell_type": "code",
   "execution_count": 36,
   "metadata": {
    "collapsed": false
   },
   "outputs": [
    {
     "data": {
      "image/png": "[encoded data removed]",
      "text/plain": [
       "<matplotlib.figure.Figure at 0x116b5e10>"
      ]
     },
     "metadata": {},
     "output_type": "display_data"
    }
   ],
   "source": [
    "def interactive_impulse_response(model, shock, param, variable, kind, log_scale):\n",
    "    \"\"\"Interactive impulse response plotting tool.\"\"\"    \n",
    "    # specify the impulse response\n",
    "    model.irf.impulse = {param: shock * model.params[param]}\n",
    "    model.irf.kind = kind\n",
    "    \n",
    "    # create the plot\n",
    "    fig, ax = plt.subplots(1, 1, figsize=(8,6))\n",
    "    model.irf.plot_impulse_response(ax, variable=variable, log=log_scale)\n",
    "    \n",
    "\n",
    "irf_widget = interact(interactive_impulse_response, \n",
    "                      model=fixed(ces_model),\n",
    "                      shock = FloatSlider(min=0.1, max=5.0, step=0.1, value=0.5),\n",
    "                      param = ces_model.params.keys(),\n",
    "                      variable=['capital', 'output', 'consumption', 'investment'],\n",
    "                      kind=['efficiency_units', 'per_capita', 'levels'],\n",
    "                      log_scale=False,\n",
    "                      )"
   ]
  },
  {
   "cell_type": "code",
   "execution_count": null,
   "metadata": {
    "collapsed": false
   },
   "outputs": [],
   "source": []
  },
  {
   "cell_type": "code",
   "execution_count": null,
   "metadata": {
    "collapsed": true
   },
   "outputs": [],
   "source": []
  }
 ],
 "metadata": {
  "anaconda-cloud": {},
  "kernelspec": {
   "display_name": "Python 2",
   "language": "python",
   "name": "python2"
  },
  "language_info": {
   "codemirror_mode": {
    "name": "ipython",
    "version": 2
   },
   "file_extension": ".py",
   "mimetype": "text/x-python",
   "name": "python",
   "nbconvert_exporter": "python",
   "pygments_lexer": "ipython2",
   "version": "2.7.13"
  }
 },
 "nbformat": 4,
 "nbformat_minor": 0
}
