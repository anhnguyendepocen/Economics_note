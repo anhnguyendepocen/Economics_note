{
 "cells": [
  {
   "cell_type": "markdown",
   "metadata": {},
   "source": [
    "## Numerical integration of coupled first-order ODEs"
   ]
  },
  {
   "cell_type": "markdown",
   "metadata": {},
   "source": [
    "#### Damped harmonic oscillator\n",
    "The equation of motion for a damped harmonic oscillator is ta\n",
    "$$ \\frac{d^2x}{dt^2} = -\\omega_0^2 x - \\gamma \\frac{dx}{dt}. $$\n",
    "Working with dimensionless variables in which time is measured in \n",
    "units of $\\omega_0^{-1}$ this equation of motion can be rewritten as \n",
    "$$ \\frac{d^2x}{dt^2} = -x - b\\frac{dx}{dt},  $$\n",
    "where $b = \\gamma/\\omega_0$.\n",
    "\n",
    "This second order differential equation can be written as two coupled first-order equations:\n",
    "\n",
    "\\begin{eqnarray*}\n",
    "\\frac{dx}{dt} &=& v\\\\\n",
    "\\frac{dv}{dt} &=& -x - bv\n",
    "\\end{eqnarray*}\n",
    "\n",
    "The function below returns the RHS of these differential equations; the lines above the `return` relates the elements of the array `u[i]` with variables that have more physical meaning."
   ]
  },
  {
   "cell_type": "code",
   "execution_count": null,
   "metadata": {
    "ExecuteTime": {
     "end_time": "2018-01-19T06:15:50.591257Z",
     "start_time": "2018-01-19T06:15:50.313402Z"
    },
    "collapsed": true
   },
   "outputs": [],
   "source": [
    "import scipy as sp\n",
    "from scipy import integrate   # not included in basic scipy\n",
    "\n",
    "import matplotlib as mpl       # As of July 2017 Bucknell computers use v. 2.x \n",
    "import matplotlib.pyplot as plt\n",
    "\n",
    "# Following is an Ipython magic command that puts figures in the  notebook.\n",
    "# For figures in separate windows, comment out following line and uncomment\n",
    "# the next line\n",
    "# Must come before defaults are changed.\n",
    "%matplotlib notebook\n",
    "#%matplotlib\n",
    "\n",
    "# As of Aug. 2017 reverting to 1.x defaults.\n",
    "# In 2.x text.ustex requires dvipng, texlive-latex-extra, and texlive-fonts-recommended, \n",
    "# which don't seem to be universal\n",
    "# See https://stackoverflow.com/questions/38906356/error-running-matplotlib-in-latex-type1cm?\n",
    "mpl.style.use('classic')\n",
    "        \n",
    "# M.L. modifications of matplotlib defaults using syntax of v.2.0 \n",
    "# More info at http://matplotlib.org/2.0.0/users/deflt_style_changes.html\n",
    "# Changes can also be put in matplotlibrc file, or effected using mpl.rcParams[]\n",
    "plt.rc('figure', figsize = (6, 4.5))            # Reduces overall size of figures\n",
    "plt.rc('axes', labelsize=16, titlesize=14)\n",
    "plt.rc('figure', autolayout = True)             # Adjusts supblot parameters for new size"
   ]
  },
  {
   "cell_type": "code",
   "execution_count": null,
   "metadata": {
    "ExecuteTime": {
     "end_time": "2018-01-19T06:15:52.323881Z",
     "start_time": "2018-01-19T06:15:52.318867Z"
    },
    "collapsed": true
   },
   "outputs": [],
   "source": [
    "# Function returning derivatives of the dependent quantities u[0] \n",
    "# and  u[1], or more physically, x and v.\n",
    "def damped_osc(u,t,b):\n",
    "    x = u[0]\n",
    "    v = u[1]\n",
    "    return (v,-x-b*v)"
   ]
  },
  {
   "cell_type": "markdown",
   "metadata": {},
   "source": [
    "#### Initial conditions, and parameter(s)"
   ]
  },
  {
   "cell_type": "code",
   "execution_count": null,
   "metadata": {
    "ExecuteTime": {
     "end_time": "2018-01-19T06:15:55.802546Z",
     "start_time": "2018-01-19T06:15:55.799537Z"
    },
    "collapsed": true
   },
   "outputs": [],
   "source": [
    "x0 = 2\n",
    "v0 = 0\n",
    "b = 0.4  # Damping parameter\n",
    "u0 = sp.array([x0,v0])"
   ]
  },
  {
   "cell_type": "markdown",
   "metadata": {},
   "source": [
    "In following cell:\n",
    "- Choose points for output.<br>\n",
    "- Integrate.<br>\n",
    "<b>Note:</b> `odeint` returns an array:<br>\n",
    "  `[[x_0  v_0],`<br>\n",
    "  `[x_1  v_1],`<br>\n",
    "  `[x_2  v_2], ...]`<br>\n",
    "  To get single list for `x` and single list for `v` we need the transpose of the returned array.<br>\n",
    "  (Could also keep return as a single array if that's more useful down the road.)"
   ]
  },
  {
   "cell_type": "code",
   "execution_count": null,
   "metadata": {
    "ExecuteTime": {
     "end_time": "2018-01-19T06:16:24.736772Z",
     "start_time": "2018-01-19T06:16:24.730756Z"
    },
    "collapsed": true
   },
   "outputs": [],
   "source": [
    "t = sp.linspace(0,20,201)  # NOTE: The  points selected for plotting are \n",
    "                           # not the points used for the numerical \n",
    "                           # evalution.\n",
    "x, v = sp.integrate.odeint(damped_osc,u0,t,args=(b,)).T"
   ]
  },
  {
   "cell_type": "code",
   "execution_count": null,
   "metadata": {
    "ExecuteTime": {
     "end_time": "2018-01-19T06:16:30.476635Z",
     "start_time": "2018-01-19T06:16:30.174832Z"
    }
   },
   "outputs": [],
   "source": [
    "plt.figure(1)\n",
    "plt.plot(t,x);\n",
    "plt.plot(t,v);\n",
    "plt.axhline(0)\n",
    "plt.xlabel(\"$t$\")\n",
    "plt.ylabel(\"$x(t)$ and $v(t)$\")"
   ]
  },
  {
   "cell_type": "code",
   "execution_count": null,
   "metadata": {
    "ExecuteTime": {
     "end_time": "2018-01-19T06:27:22.458126Z",
     "start_time": "2018-01-19T06:27:22.352863Z"
    }
   },
   "outputs": [],
   "source": [
    "plt.figure(2)\n",
    "plt.xlabel(\"$x$\")\n",
    "plt.ylabel(\"$v$\")\n",
    "plt.title(\"phase space\",fontsize=14)\n",
    "plt.plot(x,v);"
   ]
  },
  {
   "cell_type": "markdown",
   "metadata": {},
   "source": [
    "### Version Information\n",
    "\n",
    "`version_information` is from J.R. Johansson (jrjohansson at gmail.com)<br>\n",
    "See Introduction to scientific computing with Python:<br>\n",
    "http://nbviewer.jupyter.org/github/jrjohansson/scientific-python-lectures/blob/master/Lecture-0-Scientific-Computing-with-Python.ipynb <br>\n",
    "for more information and instructions for package installation.<br>\n",
    "\n",
    "If `version_information` has been installed system wide (as it has been on linuxremotes), continue with next cell as written.  If not, comment out top line in next cell and uncomment the second line."
   ]
  },
  {
   "cell_type": "code",
   "execution_count": null,
   "metadata": {},
   "outputs": [],
   "source": [
    "%load_ext version_information\n",
    "\n",
    "#%install_ext http://raw.github.com/jrjohansson/version_information/master/version_information.py"
   ]
  },
  {
   "cell_type": "code",
   "execution_count": null,
   "metadata": {},
   "outputs": [],
   "source": [
    "version_information scipy, matplotlib"
   ]
  },
  {
   "cell_type": "code",
   "execution_count": null,
   "metadata": {
    "collapsed": true
   },
   "outputs": [],
   "source": []
  }
 ],
 "metadata": {
  "kernelspec": {
   "display_name": "Python 3",
   "language": "python",
   "name": "python3"
  },
  "language_info": {
   "codemirror_mode": {
    "name": "ipython",
    "version": 3
   },
   "file_extension": ".py",
   "mimetype": "text/x-python",
   "name": "python",
   "nbconvert_exporter": "python",
   "pygments_lexer": "ipython3",
   "version": "3.6.2"
  }
 },
 "nbformat": 4,
 "nbformat_minor": 1
}
