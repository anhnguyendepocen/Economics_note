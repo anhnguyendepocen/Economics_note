{
 "cells": [
  {
   "cell_type": "code",
   "execution_count": null,
   "metadata": {
    "collapsed": true
   },
   "outputs": [],
   "source": []
  },
  {
   "cell_type": "markdown",
   "metadata": {},
   "source": [
    "Difference equation from Dr. Rondeau's slide chap17,\n",
    "\n",
    "\n",
    "\n",
    "\n",
    "Differiential equation from  chap21"
   ]
  },
  {
   "cell_type": "code",
   "execution_count": null,
   "metadata": {
    "collapsed": true
   },
   "outputs": [],
   "source": []
  },
  {
   "cell_type": "code",
   "execution_count": null,
   "metadata": {
    "collapsed": true
   },
   "outputs": [],
   "source": []
  },
  {
   "cell_type": "code",
   "execution_count": null,
   "metadata": {
    "collapsed": true
   },
   "outputs": [],
   "source": []
  },
  {
   "cell_type": "code",
   "execution_count": null,
   "metadata": {
    "collapsed": true
   },
   "outputs": [],
   "source": []
  },
  {
   "cell_type": "code",
   "execution_count": null,
   "metadata": {
    "collapsed": true
   },
   "outputs": [],
   "source": []
  },
  {
   "cell_type": "code",
   "execution_count": null,
   "metadata": {
    "collapsed": true
   },
   "outputs": [],
   "source": []
  },
  {
   "cell_type": "code",
   "execution_count": null,
   "metadata": {
    "collapsed": true
   },
   "outputs": [],
   "source": []
  },
  {
   "cell_type": "markdown",
   "metadata": {},
   "source": [
    "General solution +  boundary condition/particular solution = complete solution/ descripton of the behavior of the stystem over time\n",
    "\n",
    "\n",
    "\n",
    "explicit solution/close form\n",
    "\n",
    "nonlinear system\n",
    "\n",
    "numerical solution \n",
    "\n",
    "\n",
    "\n",
    "\n",
    "\n",
    "## 1.3 Autonomous systems\n",
    "\n",
    "time does not enter as a saparate argument in f \n",
    "\n",
    "\n",
    "\n",
    "solution sequence by iterations.\n",
    "\n",
    "transition function : the flow of the system\n",
    "\n",
    "\n",
    "positive orbit\n",
    "\n",
    "\n",
    "negative orbit\n",
    "\n",
    "\n",
    "analytical and graphical techniques\n",
    "\n",
    "qualitative behavior of the system.\n",
    "\n",
    "\n",
    "bifurcation points\n",
    "\n",
    "\n",
    "phase diagram convenient device \n",
    "\n",
    "vector field $\\delta x = d(x,t)$\n",
    "\n",
    "\n",
    "\n",
    "\n",
    "asymptotic or long-run behavior\n",
    "\n",
    "\n",
    "\n",
    "## 1.4 steady states, periodic equilibria ,and  stablility\n",
    "\n",
    "\n",
    "\n",
    "\n",
    "\n",
    "stationary states or fixed points of nonlinear autonomous dynamical systems\n",
    "\n",
    "1. stable, Liapunov stable\n",
    "\n",
    "2. asmptotoically stable \n",
    "\n",
    "  a. basin of attraction or region of asymptotic stablility of $\\bar x$\n",
    "  \n",
    "  b. globally asymptotically stable\n",
    "\n",
    "\n",
    "\n",
    "\n",
    "\n",
    "\n",
    "\n",
    "\n",
    "\n",
    "\n",
    "\n",
    "# chapter 2 scalar linear equations\n",
    "\n",
    "\n",
    "A first-order linear difference equation\n",
    "\n",
    "$$x_{t+1} = a_t x_t + b_t$$\n",
    "\n",
    "\n",
    "The generel solution:\n",
    "    \n",
    "$$x_t^g = x_t^c + x_t^p$$\n",
    "\n",
    "\n",
    "1. complementatry function $x_t^c$ is general sulution to the corresponding homogeneous equation \n",
    "$$x_{t+1} = a_t x_t$$.\n",
    "\n",
    "2. $x_t^p$ is any particular solution to the full non-homogeneous equation. \n",
    "\n",
    "## 2.1 homogeneous equation \n",
    "\n",
    "### Phase diagram \n",
    "\n",
    "### An exact solution\n",
    "\n",
    "general solution for homogenous equation:\n",
    "    \n",
    "    \n",
    "$$x_t = c a^t$$\n",
    "\n",
    "\n",
    "Boundary conditions allow us to determine the appropriate value fo the arbitray constant c in the general solution.\n",
    "\n",
    "## 2.2 Autonomous equations. \n",
    "\n",
    "A natural candidate for the role of the particular solution is a constant solution $x_t = \\bar x$.\n",
    "\n",
    "steady state or staionary solution.\n",
    "\n",
    "$$x_t^p =  \\bar x = b/(1-a)$$\n",
    "\n",
    "The generel solution for non-homegenous equation:\n",
    "    \n",
    "$$x_t^g = x_t^c + x_t^p = \\bar x + c a^t$$\n",
    "\n",
    "\n",
    "\n",
    "With boundary condition: $x_0 = \\bar x + c$\n",
    "    \n",
    "$$c = x_0 - \\bar x$$\n",
    "\n",
    "and then \n",
    "\n",
    "$$x_t - \\bar x = (x_0 - \\bar x) a^t$$\n",
    "\n",
    "\n",
    "\n",
    "1. start at $x_0 = \\bar x $, stay at steady state.\n",
    "\n",
    "2. start at $x_0 \\ne \\bar x $, \n",
    "\n",
    "    a. $|a| < 1$,converg,\n",
    "    \n",
    "    b. $|a| > 1$,diverge.\n",
    "    \n",
    "    \n",
    "For $a = 1$,\n",
    "\n",
    "$$x_t = x_0 + bt $$"
   ]
  },
  {
   "cell_type": "code",
   "execution_count": null,
   "metadata": {
    "collapsed": true
   },
   "outputs": [],
   "source": []
  },
  {
   "cell_type": "code",
   "execution_count": null,
   "metadata": {
    "collapsed": true
   },
   "outputs": [],
   "source": []
  },
  {
   "cell_type": "code",
   "execution_count": null,
   "metadata": {
    "collapsed": true
   },
   "outputs": [],
   "source": []
  },
  {
   "cell_type": "code",
   "execution_count": null,
   "metadata": {
    "collapsed": true
   },
   "outputs": [],
   "source": []
  }
 ],
 "metadata": {
  "anaconda-cloud": {},
  "kernelspec": {
   "display_name": "Python [default]",
   "language": "python",
   "name": "python3"
  },
  "language_info": {
   "codemirror_mode": {
    "name": "ipython",
    "version": 3
   },
   "file_extension": ".py",
   "mimetype": "text/x-python",
   "name": "python",
   "nbconvert_exporter": "python",
   "pygments_lexer": "ipython3",
   "version": "3.5.2"
  },
  "name": "ECON501-LAB01-DifferenceEquation.ipynb"
 },
 "nbformat": 4,
 "nbformat_minor": 0
}
