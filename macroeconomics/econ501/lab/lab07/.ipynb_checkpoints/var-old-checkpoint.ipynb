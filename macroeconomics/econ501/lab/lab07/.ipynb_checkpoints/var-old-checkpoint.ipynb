{
 "cells": [
  {
   "cell_type": "code",
   "execution_count": null,
   "metadata": {
    "collapsed": true
   },
   "outputs": [],
   "source": []
  },
  {
   "cell_type": "markdown",
   "metadata": {},
   "source": [
    "Vector AutoRegression:\n",
    "\n",
    "Multiple equation model for joint determination of two or more variables\n",
    "\n",
    "• One of the most commonly used models for applied macroeconometric analysis and forecasting in central banks\n",
    "\n",
    "• In general: k variables \n",
    "\n",
    "• An equation for each variable\n",
    "\n",
    "\n",
    "• There is one error per equation. – The errors are (typically) correlated.\n",
    "\n",
    "\n",
    "\n",
    "## Motivation\n",
    "\n",
    "### Unrestricted VAR\n",
    "\n",
    "• An unrestricted VAR includes all variables in each equation\n",
    "\n",
    "• A restricted VAR might include some variables in one equation, other variables in another equation\n",
    "\n",
    "• Old‐fashioned macroeconomic models (so‐called simultaneous equations models of the 1950s, 1960s, 1970s) were essentially restricted VARs – The restrictions and specifications were derived from simplistic macro theory, e.g. Keynesian consumption functions, investment equations, etc.\n",
    "\n",
    "\n",
    "\n",
    "### Sims and VARs\n",
    "\n",
    "• Sims argued that the conventional models were restricted VARs, and the restrictions had no substantive justification   \n",
    "\n",
    "   – Based on incomplete and/or non‐rigorous theory, or intuition\n",
    "\n",
    "• Sims argued that economists should instead use unrestricted models, e.g. VARs\n",
    "\n",
    "• He proposed a set of tools for use and evaluation of VARs in practice.\n",
    "\n",
    "http://www.ssc.wisc.edu/~bhansen/390/\n"
   ]
  },
  {
   "cell_type": "markdown",
   "metadata": {},
   "source": [
    "### A VAR is said to be stationary if \n",
    "\n",
    "- (1) the expected value of the dependent variables do not depend on time and \n",
    "\n",
    "- (2) the covariance matrix of a dependent variable and its lags depends only on the time lapsed and not on the reference period. \n",
    "\n",
    "In other words, a VAR system is stationary if the mean and variance of its variables are measurable and do not depend on time.\n",
    "\n",
    "www.stata.com/manuals13/tsvarstable.pd"
   ]
  },
  {
   "cell_type": "code",
   "execution_count": null,
   "metadata": {
    "collapsed": true
   },
   "outputs": [],
   "source": []
  },
  {
   "cell_type": "markdown",
   "metadata": {},
   "source": [
    "A VAR is stationary if all the roots of the characteristic polynomial lie outside the unit circle. EViews tests for stationarity by inverting these roots and plotting them relative to the unit circle. If an inverse root lies outside of the circle, then either some or all variables in the VAR(p)-process are integrated of order one, i.e., I(1). It might be the case, that cointegration between the variables does exist. This instance can then be better analyzed in the context of a VECM."
   ]
  },
  {
   "cell_type": "code",
   "execution_count": null,
   "metadata": {
    "collapsed": true
   },
   "outputs": [],
   "source": []
  },
  {
   "cell_type": "markdown",
   "metadata": {},
   "source": [
    "### reduced-form VARs and structural VARs\n",
    "\n",
    "\n",
    "In the absence of exogenous variables, the disturbance variance-covariance matrix Σ contains all relevant information about contemporaneous correlation among the variables in yt. VARs may be **reduced-form VARs**, which do not account for this contemporaneous correlation."
   ]
  },
  {
   "cell_type": "markdown",
   "metadata": {},
   "source": [
    "they may be **structural VARs**, where theory is used to place restrictions on the contemporaneous correlations."
   ]
  },
  {
   "cell_type": "code",
   "execution_count": null,
   "metadata": {
    "collapsed": true
   },
   "outputs": [],
   "source": []
  },
  {
   "cell_type": "code",
   "execution_count": null,
   "metadata": {
    "collapsed": true
   },
   "outputs": [],
   "source": []
  },
  {
   "cell_type": "markdown",
   "metadata": {},
   "source": [
    "Stata has a complete suite of commands for fitting and forecasting vector autoregressive (VAR) models and structural vector autoregressive (SVAR) models. Its capabilities include estimating and interpreting impulse response functions (IRFs), dynamic multipliers, and forecast error vector decompositions (FEVDs).\n",
    "\n"
   ]
  },
  {
   "cell_type": "markdown",
   "metadata": {},
   "source": [
    "\n",
    "Subsidiary commands allow you to check the stability condition of VAR or SVAR estimates; \n",
    "\n",
    "- to compute lag-order selection statistics for VARs; \n",
    "\n",
    "- to perform pairwise Granger causality tests for VAR estimates; \n",
    "\n",
    "- and to test for residual autocorrelation and normality in the disturbances of VARs.\n",
    "\n",
    "- Dynamic forecasts may be computed and graphed after VAR or SVAR estimation."
   ]
  },
  {
   "cell_type": "markdown",
   "metadata": {},
   "source": [
    "- The `varsoc` command allows you to select the appropriate lag order for the VAR; \n",
    "\n",
    "\n",
    "- command `varwle` computes Wald tests to determine whether certain lags can be excluded; \n",
    "\n",
    "\n",
    "- `varlmar` checks for autocorrelation in the disturbances; \n",
    "\n",
    "\n",
    "- and `varstable` checks whether the stability conditions needed to compute IRFs and FEVDs are satisfied."
   ]
  },
  {
   "cell_type": "code",
   "execution_count": null,
   "metadata": {
    "collapsed": true
   },
   "outputs": [],
   "source": []
  },
  {
   "cell_type": "code",
   "execution_count": null,
   "metadata": {
    "collapsed": true
   },
   "outputs": [],
   "source": []
  },
  {
   "cell_type": "code",
   "execution_count": null,
   "metadata": {
    "collapsed": true
   },
   "outputs": [],
   "source": []
  },
  {
   "cell_type": "markdown",
   "metadata": {},
   "source": [
    "Declare and estimate an unrestricted small monetary VAR for Canada, \n",
    "\n",
    "- in output gap, (difference between real gdp and gdp trend using hp filter)\n",
    "\n",
    "- inflation, \n",
    "\n",
    "- monetary policy rate \n",
    "\n",
    "- and real exchange rate gap, \n",
    "\n",
    "over the sample 1994q1 - 2012q4, using 4 lags\n",
    "\n",
    "\n",
    "\n"
   ]
  },
  {
   "cell_type": "code",
   "execution_count": null,
   "metadata": {
    "collapsed": true
   },
   "outputs": [],
   "source": []
  },
  {
   "cell_type": "code",
   "execution_count": null,
   "metadata": {},
   "outputs": [],
   "source": [
    "\n",
    "%matplotlib inline\n",
    "import seaborn as sns\n",
    "import pandas as pd\n",
    "import ipystata"
   ]
  },
  {
   "cell_type": "code",
   "execution_count": null,
   "metadata": {},
   "outputs": [],
   "source": [
    "can = pd.read_csv(\"table01.csv\")"
   ]
  },
  {
   "cell_type": "code",
   "execution_count": null,
   "metadata": {},
   "outputs": [],
   "source": [
    "can.head()"
   ]
  },
  {
   "cell_type": "code",
   "execution_count": null,
   "metadata": {
    "collapsed": true
   },
   "outputs": [],
   "source": [
    "can.rename(columns = {'Unnamed: 0': 'yq'}, inplace = True)"
   ]
  },
  {
   "cell_type": "code",
   "execution_count": null,
   "metadata": {},
   "outputs": [],
   "source": [
    "can.columns"
   ]
  },
  {
   "cell_type": "code",
   "execution_count": null,
   "metadata": {
    "collapsed": true
   },
   "outputs": [],
   "source": [
    "can.set_index(['yq'], inplace=True)"
   ]
  },
  {
   "cell_type": "code",
   "execution_count": null,
   "metadata": {},
   "outputs": [],
   "source": [
    "%%stata -d can\n",
    "*close all\n",
    "\n",
    "summarize"
   ]
  },
  {
   "cell_type": "code",
   "execution_count": null,
   "metadata": {},
   "outputs": [],
   "source": [
    "%%stata -d can\n",
    "gen quarter= quarterly(yq,\"yq\")\n",
    "format quarter %tq\n",
    "tsset quarter\n"
   ]
  },
  {
   "cell_type": "code",
   "execution_count": null,
   "metadata": {
    "collapsed": true
   },
   "outputs": [],
   "source": []
  },
  {
   "cell_type": "code",
   "execution_count": null,
   "metadata": {},
   "outputs": [],
   "source": [
    "%%stata\n",
    "\n",
    "gen loggdp = log(GDP)"
   ]
  },
  {
   "cell_type": "code",
   "execution_count": null,
   "metadata": {},
   "outputs": [],
   "source": [
    "%%stata \n",
    "summarize"
   ]
  },
  {
   "cell_type": "markdown",
   "metadata": {},
   "source": [
    "\n",
    "\n",
    "http://www.stata.com/manuals13/tstsfilterhp.pdf"
   ]
  },
  {
   "cell_type": "code",
   "execution_count": null,
   "metadata": {},
   "outputs": [],
   "source": [
    "%%stata --graph\n",
    "    \n",
    "tsline LGDP"
   ]
  },
  {
   "cell_type": "code",
   "execution_count": null,
   "metadata": {
    "collapsed": true
   },
   "outputs": [],
   "source": []
  },
  {
   "cell_type": "code",
   "execution_count": null,
   "metadata": {
    "collapsed": true
   },
   "outputs": [],
   "source": []
  },
  {
   "cell_type": "code",
   "execution_count": null,
   "metadata": {
    "collapsed": true
   },
   "outputs": [],
   "source": []
  },
  {
   "cell_type": "code",
   "execution_count": null,
   "metadata": {},
   "outputs": [],
   "source": [
    "%%stata -d can\n",
    "gen quarter= quarterly(yq,\"yq\")\n",
    "format quarter %tq\n",
    "tsset quarter\n",
    "\n",
    "tsfilter hp realgdp_hp = LGDP , smooth(1600) trend(realgdp_tr)"
   ]
  },
  {
   "cell_type": "code",
   "execution_count": null,
   "metadata": {
    "collapsed": true
   },
   "outputs": [],
   "source": []
  },
  {
   "cell_type": "code",
   "execution_count": null,
   "metadata": {},
   "outputs": [],
   "source": [
    "%%stata -d can\n",
    "gen quarter= quarterly(yq,\"yq\")\n",
    "format quarter %tq\n",
    "tsset quarter\n",
    "tsfilter hp lgdp_hp = LGDP , smooth(1600) trend(lgdp_tr)"
   ]
  },
  {
   "cell_type": "code",
   "execution_count": null,
   "metadata": {
    "collapsed": true
   },
   "outputs": [],
   "source": []
  },
  {
   "cell_type": "code",
   "execution_count": null,
   "metadata": {},
   "outputs": [],
   "source": [
    "%%stata \n",
    "summarize"
   ]
  },
  {
   "cell_type": "code",
   "execution_count": null,
   "metadata": {
    "collapsed": true
   },
   "outputs": [],
   "source": []
  },
  {
   "cell_type": "code",
   "execution_count": null,
   "metadata": {},
   "outputs": [],
   "source": [
    "%%stata --graph\n",
    "    \n",
    "tsline lgdp_tr"
   ]
  },
  {
   "cell_type": "code",
   "execution_count": null,
   "metadata": {},
   "outputs": [],
   "source": [
    "%%stata --graph\n",
    "    \n",
    "tsline lgdp_hp"
   ]
  },
  {
   "cell_type": "code",
   "execution_count": null,
   "metadata": {
    "collapsed": true
   },
   "outputs": [],
   "source": []
  },
  {
   "cell_type": "markdown",
   "metadata": {},
   "source": [
    "let’s estimate  VAR for Canada , which should be similar to the original canada VAR  that it uses the RER gap.  Estimate a VAR from 1993q1 to 2012q4 using lgdp_gap, rer, infl and mpr as the endogenous variables. Include a constant in your specification and 4 lags.\n",
    "\n",
    "Hint: In EViews You can do this by opening the VAR Object, then: View / Lag Structure / AR Roots Graph."
   ]
  },
  {
   "cell_type": "code",
   "execution_count": null,
   "metadata": {},
   "outputs": [],
   "source": [
    "%%stata\n",
    "\n",
    "\n",
    "var LGDP_GAP  INFL  MPR  RER_GAP  if tin(,2012q4), lags(1/4)\n"
   ]
  },
  {
   "cell_type": "markdown",
   "metadata": {},
   "source": [
    "and `varstable` checks whether the stability conditions needed to compute IRFs and FEVDs are satisfied."
   ]
  },
  {
   "cell_type": "code",
   "execution_count": null,
   "metadata": {},
   "outputs": [],
   "source": [
    "%%stata --graph\n",
    "stable, graph"
   ]
  },
  {
   "cell_type": "code",
   "execution_count": null,
   "metadata": {
    "collapsed": true
   },
   "outputs": [],
   "source": []
  },
  {
   "cell_type": "markdown",
   "metadata": {},
   "source": [
    "As we did in a previous question, let’s estimate another VAR for Canada (let’s call it canada1), which should be similar to the original canada VAR except that it uses the RER in levels, rather than the RER gap. In all other respects the VARs are similar. Estimate a VAR from 1993q1 to 2012q4 using lgdp_gap, rer, infl and mpr as the endogenous variables. Include a constant in your specification and 4 lags.\n",
    "\n",
    "Hint: You can do this by opening the VAR Object, then: View / Lag Structure / AR Roots Graph."
   ]
  },
  {
   "cell_type": "code",
   "execution_count": null,
   "metadata": {
    "collapsed": true
   },
   "outputs": [],
   "source": []
  },
  {
   "cell_type": "code",
   "execution_count": null,
   "metadata": {},
   "outputs": [],
   "source": [
    "%%stata --graph\n",
    "\n",
    "var LGDP_GAP  INFL  MPR  RER  if quarter >=tq(1993q1) & quarter <=tq(2012q4), lags(1/4)\n",
    "\n"
   ]
  },
  {
   "cell_type": "code",
   "execution_count": null,
   "metadata": {},
   "outputs": [],
   "source": [
    "%%stata --graph\n",
    "varstable, graph"
   ]
  },
  {
   "cell_type": "markdown",
   "metadata": {},
   "source": [
    "The original canada VAR is stable because all of its inverse roots are inside of the unit circle, as shown in the EViews graph below:"
   ]
  },
  {
   "cell_type": "markdown",
   "metadata": {},
   "source": [
    "On the other hand, the second VAR canada1 is not stable because one of its roots is approximately (very close to) 1, as can be seen in the picture below:"
   ]
  },
  {
   "cell_type": "markdown",
   "metadata": {},
   "source": [
    "## Lag Specification Criteria"
   ]
  },
  {
   "cell_type": "markdown",
   "metadata": {},
   "source": [
    "VARs are very densely parameterized and exhibit the “curse” of dimensionality. \n",
    "\n",
    "Suppose that we are estimating a quarterly VAR with 3 endogenous variables, a constant and 4 lags.\n",
    "\n",
    "In  case n=3 and p=4. The total number of coefficients to be estimated is n*(1+n*p) thus 3*(1+3*4) = 39.\n",
    "\n",
    "The number of parameters grows at a quadratic rate as more variables/lags of variables are added, using up an increasing amount of degrees of freedom. So using too many lags worsens the “over-fitting” problem and generally leads to poor quality estimates and bad forecasts. \n",
    "\n",
    "\n",
    "On the other hand, including too few lags can lead to residuals not being white noises (for example display autocorrelation), which is an issue in a stationary VAR.\n",
    "\n",
    "When estimating a VAR, why is the selection of the appropriate lag length crucial? (Select all that apply.)\n",
    "\n",
    "If the number of lags is too long, the model will use up too many degrees of freedom, leading to poor estimates. \n",
    "\n",
    "If the number of lags is not sufficient, the residuals from the estimation may not constitute individual white noises. \n",
    "\n",
    "\n",
    "\n",
    "In a k‐variable system, the number of coefficients in each equation is 1+kp \n",
    "\n",
    "\n",
    "– The total number is k(1+2p)=k+2kp\n",
    "\n",
    "\n",
    "• How should p be selected? \n",
    "\n",
    "\n",
    "• Common approach: – Information criterion, primarily AIC\n",
    "\n",
    "\n",
    "#### AIC and BIC for VAR Models \n",
    "\n",
    "\n",
    "where L is log‐likelihood from model \n",
    "\n",
    "• Select model with smallest AIC (or BIC)\n",
    "\n",
    "\n",
    "We may also want to compute selection order criteria to gauge whether we have included sufficient lags in the VAR. Introducing too many lags wastes degrees of freedom, while too few lags leave the equations potentially misspecified and are likely to cause autocorrelation in the residuals. The `varsoc` command will produce selection order criteria, and highlight the optimal lag."
   ]
  },
  {
   "cell_type": "markdown",
   "metadata": {},
   "source": [
    "The `varsoc` command allows you to select the appropriate lag order for the VAR; \n",
    "\n"
   ]
  },
  {
   "cell_type": "code",
   "execution_count": null,
   "metadata": {},
   "outputs": [],
   "source": [
    "%%stata \n",
    "\n",
    "\n",
    "\n",
    "varsoc LGDP_GAP  INFL  MPR  RER_GAP, maxlag(8)"
   ]
  },
  {
   "cell_type": "markdown",
   "metadata": {},
   "source": [
    "According to the SC and HQ criteria, 2 lags are sufficient. The AIC would suggest 3 lags. This would suggest that 2 (at most 3 lags) should be sufficient. We shall proceed with 2 lags and re-estimate the model in later questions.\n",
    "\n",
    "\n",
    "command `varwle` computes Wald tests to determine whether certain lags can be excluded; \n",
    "\n",
    "## VAR Diagnostics: Residuals \n",
    "\n",
    "\n",
    "\n",
    "\n",
    "\n"
   ]
  },
  {
   "cell_type": "code",
   "execution_count": null,
   "metadata": {},
   "outputs": [],
   "source": [
    "%%stata \n",
    "varwle"
   ]
  },
  {
   "cell_type": "markdown",
   "metadata": {},
   "source": [
    "`varlmar` checks for autocorrelation in the disturbances; \n",
    "\n"
   ]
  },
  {
   "cell_type": "code",
   "execution_count": null,
   "metadata": {},
   "outputs": [],
   "source": [
    "%%stata \n",
    "varlmar"
   ]
  },
  {
   "cell_type": "code",
   "execution_count": null,
   "metadata": {
    "collapsed": true
   },
   "outputs": [],
   "source": []
  },
  {
   "cell_type": "markdown",
   "metadata": {},
   "source": [
    "## Interpretation\n",
    "\n",
    "\n",
    "• It is difficult to interpret the large number of coefficients in the VAR model\n",
    "\n",
    "\n",
    "• Main tools for interpretation – Impulse responses\n",
    "\n",
    "\n",
    "• The impulse responses are the time‐paths of to y and x in response to shocks\n",
    "\n",
    "\n",
    "• The errors may be correlated. \n",
    "\n",
    "\n",
    "• We “orthogonalize” them\n",
    "\n",
    "\n",
    "### Orthogonalized Model\n",
    "\n",
    "• The shocks u1 and u2 are uncorrelated \n",
    "\n",
    "• The ordering matters – The shock to y affects both y and x in period t \n",
    "\n",
    "  – The shock to x affects only x in period t\n",
    "\n",
    "\n",
    "• The impulse responses are the time‐paths of to y and x in response to the shocks u1 and u2\n",
    "\n",
    "\n",
    "• Imagine y=0 and x=0. Set u1=1. Trace the history of y and x\n",
    "\n",
    "#### Impulse Responses by Recursion\n",
    "\n",
    "\n",
    "• The impulse responses are these time‐paths of y and x due to the shocks u1 and u2\n",
    "\n",
    "\n",
    "• They are found by this recursion formula \n",
    "\n",
    "\n",
    "• They are functions of the estimated VAR coefficients\n",
    "\n",
    "• In a k‐variable system, there are k2 impulse response functions!\n",
    "\n",
    "\n",
    "##### Stata Calculation\n",
    "\n",
    "• Impulse response automatically calculated with varbasic command\n",
    "\n",
    "• A kxk matrix of impulse response is created\n",
    "\n"
   ]
  },
  {
   "cell_type": "code",
   "execution_count": null,
   "metadata": {},
   "outputs": [],
   "source": [
    "%%stata --graph\n",
    "\n",
    "varbasic LGDP MPR "
   ]
  },
  {
   "cell_type": "markdown",
   "metadata": {},
   "source": [
    "#### Interpretation\n",
    "\n",
    "\n",
    "• Labeled “Graphs by irfname, impulse variable, and response variable” – “Impulse variable” means the source of the shock – “Response variable” means the variable being affected\n",
    "\n",
    "\n",
    "• Upper left: “varbasic, gdp, gdp” – Impact of a gdp shock on the time‐path of gdp\n",
    "\n",
    "\n",
    "• Upper right: “varbasic, gdp, rate” – Impact of a gdp shock on the time‐path of interest rates\n",
    "\n",
    "\n",
    "• Lower left: “varbasic, rate, gdp,” – Impact of an interest rate shock on the time‐path of gdp\n",
    "\n",
    "\n",
    "• Lower fight: “varbasic, rate, rate” – Impact of an interest rate shock on the time‐path of interest rates\n",
    "\n",
    "\n",
    "• The impulse response is graphed as a function of forward time periods"
   ]
  },
  {
   "cell_type": "code",
   "execution_count": null,
   "metadata": {},
   "outputs": [],
   "source": [
    "%%stata --graph\n",
    "\n",
    "varbasic LGDP_GAP  INFL  MPR  RER_GAP"
   ]
  },
  {
   "cell_type": "markdown",
   "metadata": {},
   "source": [
    "## Scale\n",
    "\n",
    "• The graphs are all created on the same scale, so difficult to read\n",
    "\n",
    "• It may be better to create graphs separate for each impulse response\n",
    "\n",
    "• This creates the impulse response for the impact of a gdp shock on the time‐path of interest rates"
   ]
  },
  {
   "cell_type": "code",
   "execution_count": null,
   "metadata": {},
   "outputs": [],
   "source": [
    "%%stata --graph\n",
    "\n",
    "irf graph oirf, impulse(LGDP_GAP) response(RER_GAP)"
   ]
  },
  {
   "cell_type": "code",
   "execution_count": null,
   "metadata": {},
   "outputs": [],
   "source": [
    "%%stata --graph\n",
    "\n",
    "irf graph oirf, impulse(RER_GAP) response(LGDP_GAP)"
   ]
  },
  {
   "cell_type": "code",
   "execution_count": null,
   "metadata": {},
   "outputs": [],
   "source": [
    "%%stata --graph\n",
    "var LGDP_GAP  INFL  MPR  RER_GAP \n",
    "irf graph oirf, impulse(LGDP_GAP) response(INFL)"
   ]
  },
  {
   "cell_type": "code",
   "execution_count": null,
   "metadata": {},
   "outputs": [],
   "source": [
    "%%stata --graph\n",
    "\n",
    "irf graph oirf, impulse(LGDP_GAP) response(MPR)"
   ]
  },
  {
   "cell_type": "code",
   "execution_count": null,
   "metadata": {
    "collapsed": true
   },
   "outputs": [],
   "source": []
  },
  {
   "cell_type": "code",
   "execution_count": null,
   "metadata": {
    "collapsed": true
   },
   "outputs": [],
   "source": []
  },
  {
   "cell_type": "code",
   "execution_count": null,
   "metadata": {
    "collapsed": true
   },
   "outputs": [],
   "source": []
  },
  {
   "cell_type": "markdown",
   "metadata": {},
   "source": [
    "For IRFs to be computed, the VAR must be stable. The simple IRFs shown above have a drawback: they give the effect over time of a one-time unit increase to one of the shocks, holding all else constant. But to the extent the shocks are contemporaneously correlated, the other shocks cannot be held constant, and the VMA form of the VAR cannot have a causal interpretation.\n",
    "\n",
    "\n",
    "\n",
    "\n",
    "## FEVDs\n",
    "\n",
    "\n",
    "The forecast error variance decomposition (FEVD) measures the fraction of the forecast error variance of an endogenous variable that can be attributed to orthogonalized shocks to itself or to another endogenous variable.\n",
    "\n",
    "\n",
    "\n",
    "As any of the VAR estimation commands save the estimated IRFs, OIRFs and FEVDs in an .irf file, you may examine the FEVDs with a graph command. These items may also be tabulated with the `irf tabl` and `irf ctable` commands. \n",
    "\n",
    "\n",
    "The latter command allows you to juxtapose tabulated values, such as the OIRF and FEVD for a particular pair of variables, while the `irf cgraph` command allows you to do the same for graphs. . \n",
    "\n",
    "    irf graph fevd, lstep(1)\n"
   ]
  },
  {
   "cell_type": "code",
   "execution_count": null,
   "metadata": {},
   "outputs": [],
   "source": [
    "%%stata --graph\n",
    "\n",
    "\n",
    "irf graph fevd, lstep(1)"
   ]
  },
  {
   "cell_type": "markdown",
   "metadata": {},
   "source": [
    "After producing any graph in Stata, you may save it in Stata’s internal format using graph save filename. \n",
    "\n",
    "This will create a .gph file which may be accessed with graph use. The file contains all the information necessary to replicate the graph and modify its appearance. However, only Stata can read .gph files. \n",
    "\n",
    "If you want to reproduce the graph in a document, use the graph export filename.format command, where format is .eps or .pdf.\n",
    "\n",
    "A common diagnostic from a VAR are the set of block F tests, or Granger causality tests, that consider whether each variable plays a significant role in each of the equations. \n",
    "\n",
    "\n",
    "These tests may help to establish a sensible `causal ordering`. They can be performed by vargranger:"
   ]
  },
  {
   "cell_type": "code",
   "execution_count": null,
   "metadata": {},
   "outputs": [],
   "source": [
    "%%stata \n",
    "\n",
    "var LGDP_GAP  INFL  MPR  RER_GAP  if quarter >=tq(1993q1) & quarter <=tq(2012q4), lags(1/4)\n",
    "vargranger"
   ]
  },
  {
   "cell_type": "code",
   "execution_count": null,
   "metadata": {},
   "outputs": [],
   "source": [
    "%%stata \n",
    "\n",
    "var RER_GAP LGDP_GAP INFL  MPR    if quarter >=tq(1993q1) & quarter <=tq(2012q4), lags(1/4)"
   ]
  },
  {
   "cell_type": "code",
   "execution_count": null,
   "metadata": {},
   "outputs": [],
   "source": [
    "%%stata  --graph\n",
    "\n",
    "varbasic RER_GAP LGDP_GAP INFL  MPR    if quarter >=tq(1993q1) & quarter <=tq(2012q4)"
   ]
  },
  {
   "cell_type": "code",
   "execution_count": null,
   "metadata": {
    "collapsed": true
   },
   "outputs": [],
   "source": []
  },
  {
   "cell_type": "code",
   "execution_count": null,
   "metadata": {
    "collapsed": true
   },
   "outputs": [],
   "source": [
    "#https://courses.edx.org/courses/course-v1:IMFx+MFx+1T2017/courseware/c7a914d5671e453eace54746594f5d63/af626a308c1745b79e785578a8d2bb6c/\n",
    "\n",
    "\n",
    "\n",
    "\n"
   ]
  },
  {
   "cell_type": "code",
   "execution_count": null,
   "metadata": {
    "collapsed": true
   },
   "outputs": [],
   "source": []
  },
  {
   "cell_type": "markdown",
   "metadata": {},
   "source": [
    "A VAR is said to be stationary if (1) the expected value of the dependent variables do not depend on time and (2) the covariance matrix of a dependent variable and its lags depends only on the time lapsed and not on the reference period. In other words, a VAR system is stationary if the mean and variance of its variables are measurable and do not depend on time."
   ]
  },
  {
   "cell_type": "markdown",
   "metadata": {},
   "source": [
    "A VAR is stationary if all the roots of the characteristic polynomial lie outside the unit circle. EViews tests for stationarity by inverting these roots and plotting them relative to the unit circle. If an inverse root lies outside of the circle, then either some or all variables in the VAR(p)-process are integrated of order one, i.e., I(1). It might be the case, that cointegration between the variables does exist. This instance can then be better analyzed in the context of a VECM."
   ]
  },
  {
   "cell_type": "code",
   "execution_count": null,
   "metadata": {
    "collapsed": true
   },
   "outputs": [],
   "source": []
  },
  {
   "cell_type": "code",
   "execution_count": null,
   "metadata": {
    "collapsed": true
   },
   "outputs": [],
   "source": [
    "http://fmwww.bc.edu/EC-C/S2013/823/EC823.S2013.nn10.slides.pdf"
   ]
  },
  {
   "cell_type": "code",
   "execution_count": null,
   "metadata": {
    "collapsed": true
   },
   "outputs": [],
   "source": []
  },
  {
   "cell_type": "code",
   "execution_count": null,
   "metadata": {
    "collapsed": true
   },
   "outputs": [],
   "source": []
  },
  {
   "cell_type": "code",
   "execution_count": null,
   "metadata": {
    "collapsed": true
   },
   "outputs": [],
   "source": []
  },
  {
   "cell_type": "code",
   "execution_count": null,
   "metadata": {
    "collapsed": true
   },
   "outputs": [],
   "source": []
  }
 ],
 "metadata": {
  "kernelspec": {
   "display_name": "Python 2",
   "language": "python",
   "name": "python2"
  },
  "language_info": {
   "codemirror_mode": {
    "name": "ipython",
    "version": 2
   },
   "file_extension": ".py",
   "mimetype": "text/x-python",
   "name": "python",
   "nbconvert_exporter": "python",
   "pygments_lexer": "ipython2",
   "version": "2.7.13"
  }
 },
 "nbformat": 4,
 "nbformat_minor": 2
}
