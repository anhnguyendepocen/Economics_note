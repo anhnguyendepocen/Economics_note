{
 "cells": [
  {
   "cell_type": "code",
   "execution_count": null,
   "metadata": {},
   "outputs": [],
   "source": [
    "from IPython.core.display import HTML, Image\n",
    "css_file = '../../../../custom.css'\n",
    "HTML(open(css_file, 'r').read())"
   ]
  },
  {
   "cell_type": "markdown",
   "metadata": {},
   "source": [
    "## Differential Equations\n",
    "\n",
    "\n",
    "https://www.khanacademy.org/math/differential-equations\n",
    "\n",
    "\n",
    "[Differential Equation by patrickJMT](https://www.youtube.com/watch?v=oVhzzIgBKmo&list=PLD4B0062CA82D73FB)\n",
    "\n",
    "$$x(0) = x_0$$\n",
    "\n",
    "\n",
    "\n",
    "$$\\Delta x =  f(x) \\Delta t.\n",
    "$$\n",
    "\n",
    "$$  x(\\Delta t)  =   x(0) +   f(x(0)) \\Delta t $$\n",
    "\n",
    "Then we iterate this process: assuming we know the value of x(t ), we have that\n",
    "    \n",
    "$$x(t + \\Delta t ) = x(t )+ f (x(t ))\\Delta t .$$    \n",
    "\n",
    "\n",
    "\n",
    "\n",
    "ref:\n",
    "analytic solution from sympy dsolve()\n",
    "\n",
    "http://www.scipy-lectures.org/packages/sympy.html#differential-equations\n",
    "\n",
    "http://arachnoid.com/IPython/differential_equations.html\n",
    "\n",
    "linear equation\n",
    "\n",
    "https://www.youtube.com/playlist?list=PLsu0TcgLDUiJF5u8tbcnyxjAFhqiSyGnJ\n",
    "\n",
    "linear system\n",
    "\n",
    "https://www.youtube.com/playlist?list=PLsu0TcgLDUiLA6AnL7XL65pKhIEuyEDHd\n",
    "\n",
    "numerical solution from scipy odeint()\n"
   ]
  },
  {
   "cell_type": "code",
   "execution_count": null,
   "metadata": {
    "collapsed": true
   },
   "outputs": [],
   "source": [
    "import numpy as np\n",
    "import matplotlib.pyplot as plt\n",
    "from scipy.integrate import odeint\n",
    "%matplotlib inline\n",
    "plt.rcParams.update({'font.size': 14})  # Make the labels larger"
   ]
  },
  {
   "cell_type": "code",
   "execution_count": null,
   "metadata": {
    "collapsed": true
   },
   "outputs": [],
   "source": [
    "from __future__ import division\n",
    "from sympy import *\n",
    "from IPython.display import *\n",
    "from warnings import filterwarnings # Ignoring ugly pink warnings\n",
    "init_printing(use_latex = 'mathjax')\n",
    "filterwarnings('ignore')"
   ]
  },
  {
   "cell_type": "markdown",
   "metadata": {},
   "source": [
    "## Analytic solution"
   ]
  },
  {
   "cell_type": "code",
   "execution_count": null,
   "metadata": {},
   "outputs": [],
   "source": [
    "\n",
    "var('a b t k C1')\n",
    "y = Function(\"y\")(t)\n",
    "de = Eq(y.diff(t), k*y )\n",
    "# analytic solution\n",
    "display(de)"
   ]
  },
  {
   "cell_type": "code",
   "execution_count": null,
   "metadata": {},
   "outputs": [],
   "source": [
    "\n",
    "des = dsolve(de,y)\n",
    "display(des)\n"
   ]
  },
  {
   "cell_type": "code",
   "execution_count": null,
   "metadata": {},
   "outputs": [],
   "source": [
    "des = des.subs(C1,1)  # the initial condition\n",
    "display(des)"
   ]
  },
  {
   "cell_type": "code",
   "execution_count": null,
   "metadata": {},
   "outputs": [],
   "source": [
    "des.subs(k,-0.5)"
   ]
  },
  {
   "cell_type": "markdown",
   "metadata": {},
   "source": [
    "## Numerical solution"
   ]
  },
  {
   "cell_type": "code",
   "execution_count": null,
   "metadata": {
    "collapsed": true
   },
   "outputs": [],
   "source": [
    "def dxdt(x,t):\n",
    "    return -0.5*x"
   ]
  },
  {
   "cell_type": "code",
   "execution_count": null,
   "metadata": {
    "collapsed": true
   },
   "outputs": [],
   "source": [
    "h = 0.1;   # h is the spacing in time. \n",
    "tmax = 5.0; tmin = 0.0;\n",
    "n = int((tmax-tmin)/h)  # n+1 is the number of points\n",
    "ts = np.linspace(tmin, tmax, n+1)  # array of t values"
   ]
  },
  {
   "cell_type": "code",
   "execution_count": null,
   "metadata": {
    "collapsed": true
   },
   "outputs": [],
   "source": [
    "x0 = 1.0;    # the initial condition\n",
    "xexact = np.exp(-0.5*ts)  # This is the analytic solution of the ODE\n",
    "xs = odeint(dxdt, x0, ts)  # The numerical solution."
   ]
  },
  {
   "cell_type": "code",
   "execution_count": null,
   "metadata": {},
   "outputs": [],
   "source": [
    "plt.plot(ts, xs, 'b+', label = 'Numerical');\n",
    "plt.plot(ts, xexact, 'r-', label = 'Analytic');\n",
    "plt.xlabel(\"t\"); plt.ylabel(\"x(t)\");\n",
    "plt.legend()\n"
   ]
  },
  {
   "cell_type": "code",
   "execution_count": null,
   "metadata": {
    "collapsed": true
   },
   "outputs": [],
   "source": []
  },
  {
   "cell_type": "code",
   "execution_count": null,
   "metadata": {
    "collapsed": true
   },
   "outputs": [],
   "source": [
    "\n",
    "\n"
   ]
  },
  {
   "cell_type": "markdown",
   "metadata": {},
   "source": [
    "## Euler method for ODE\n",
    "\n",
    "\n",
    "Euler's method for an ODE $\\frac{dx}{dt} = f(x,t)$ yields a difference equation \n",
    "\n",
    "$x_{k+1} = x_{k} + h \\, f(x_k, t_k)$, \n",
    "\n",
    "where $h$ is the grid spacing.\n",
    "\n",
    "Therefore, for example $f(x,t) = 2 \\sqrt{x}$. \n",
    "\n",
    "\n",
    "Thus, by separation of variables, \n",
    "\n",
    "$\\int dt = \\frac{1}{2} \\int x^{-1/2} dx$ \n",
    "\n",
    "$\\Rightarrow$ \n",
    "\n",
    "$t + c = x^{1/2}$ \n",
    "\n",
    "$\\Rightarrow$ \n",
    "\n",
    "$x(t) = (t + x_0)^2$. "
   ]
  },
  {
   "cell_type": "code",
   "execution_count": null,
   "metadata": {
    "collapsed": true
   },
   "outputs": [],
   "source": [
    "# one example of ode\n",
    "\n",
    "alph = -0.5 \n",
    "# Righthand side of differential equation\n",
    "#def f(x):\n",
    "#    return -x + 1\n",
    "\n",
    "# if f(x) is negative funtion of x\n",
    "#def f(x):\n",
    "#    return -alph*x\n",
    "\n",
    "# if f(x) is positive funtion of x\n",
    "#def f(x):\n",
    "#    return alph*x\n",
    "\n",
    "def f(x):\n",
    "    return alph*x\n"
   ]
  },
  {
   "cell_type": "code",
   "execution_count": null,
   "metadata": {
    "collapsed": true
   },
   "outputs": [],
   "source": [
    "\n",
    "# Define initial condition\n",
    "#x0 = 0\n",
    "\n",
    "x0 = 4\n",
    "# Time step\n",
    "dt = 0.001\n",
    "# Solve the differential equation from time 0 to time T\n",
    "T = 5\n",
    "# Define discretized time ; assumes dt divides nicely into T\n",
    "t = np.linspace (0, T, int(T/dt )+1)\n",
    "# An array to store the solution\n",
    "x = np.zeros (len(t))\n",
    "# Integrate the differential equation using Euler ’s method\n",
    "x[0] = x0\n",
    "for i in np.arange(1, len(t)):\n",
    "    x[i] = x[i -1] + f(x[i -1])* dt\n",
    "\n"
   ]
  },
  {
   "cell_type": "code",
   "execution_count": null,
   "metadata": {},
   "outputs": [],
   "source": [
    "# Create a new figure\n",
    "plt.figure ()\n",
    "# Plot solution\n",
    "plt.plot(t, x, color ='blue')\n",
    "# Axis labels\n",
    "plt.xlabel ('t')\n",
    "plt.ylabel ('x(t)')\n",
    "# Save figure\n",
    "#plt.savefig ('plot.pdf')"
   ]
  },
  {
   "cell_type": "code",
   "execution_count": null,
   "metadata": {
    "collapsed": true
   },
   "outputs": [],
   "source": []
  },
  {
   "cell_type": "code",
   "execution_count": null,
   "metadata": {
    "collapsed": true
   },
   "outputs": [],
   "source": [
    "\n"
   ]
  },
  {
   "cell_type": "markdown",
   "metadata": {},
   "source": [
    "## let us change the initial points with k =- 0.5 fixed"
   ]
  },
  {
   "cell_type": "code",
   "execution_count": null,
   "metadata": {},
   "outputs": [],
   "source": [
    "# let us change the initial points\n",
    "k = -0.5\n",
    "h = 0.1;   # h is the spacing in time. \n",
    "tmax = 15.0; tmin = 0.0;\n",
    "n = int((tmax-tmin)/h)  # n+1 is the number of points\n",
    "ts = np.linspace(tmin, tmax, n+1)  # array of t values\n",
    "def dxdt(x,t):\n",
    "    return k*x\n",
    "x0s = np.linspace(0, 4, 10)\n",
    "for x0 in x0s:\n",
    "    xs = odeint(dxdt, x0, ts)\n",
    "    plt.plot(ts, xs)\n",
    "\n",
    "plt.xlabel('t'); plt.ylabel('x(t)');"
   ]
  },
  {
   "cell_type": "markdown",
   "metadata": {},
   "source": [
    "## let us change the k with x0 =100 fixed"
   ]
  },
  {
   "cell_type": "code",
   "execution_count": null,
   "metadata": {},
   "outputs": [],
   "source": [
    "# let us change the lamb\n",
    " \n",
    "x0 = 100\n",
    "lambs = np.linspace(-1.5, 1.5, 10) # array of lamb values\n",
    "for lamb0 in lambs:\n",
    "    def dxdt(x,t):        \n",
    "        return lamb0*x\n",
    "    xs = odeint(dxdt, x0, ts)\n",
    "    plt.plot(ts, xs)\n",
    "plt.xlim([0,3])\n",
    "plt.ylim([0,200])\n",
    "plt.xlabel('t'); plt.ylabel('x(t)');"
   ]
  },
  {
   "cell_type": "code",
   "execution_count": null,
   "metadata": {
    "collapsed": true
   },
   "outputs": [],
   "source": []
  },
  {
   "cell_type": "code",
   "execution_count": null,
   "metadata": {
    "collapsed": true
   },
   "outputs": [],
   "source": []
  },
  {
   "cell_type": "code",
   "execution_count": null,
   "metadata": {
    "collapsed": true
   },
   "outputs": [],
   "source": [
    "from sympy import *\n",
    "init_printing()"
   ]
  },
  {
   "cell_type": "markdown",
   "metadata": {},
   "source": [
    "### All the methods you need to solve ODE\n",
    "\n",
    "\n",
    "\n",
    "https://www.youtube.com/watch?v=hsTfC1Wmxqc&list=PLJ8OrXpbC-BO2zEW58TpHHakh5nodn3-i\n",
    "\n",
    "\n",
    "https://www.youtube.com/watch?v=Ng0so0MS2_4&list=PLROOIV7hGpZjxLFmhcCB-YL947bMOkFXh\n",
    "\n",
    "\n",
    "### Differential equation in sympy\n",
    "\n",
    "\n",
    "\n"
   ]
  },
  {
   "cell_type": "code",
   "execution_count": null,
   "metadata": {
    "collapsed": true
   },
   "outputs": [],
   "source": [
    "x,  z, t, C1 = symbols('x  z t C1')\n",
    "f, g, y = symbols('f g y', cls=Function)"
   ]
  },
  {
   "cell_type": "code",
   "execution_count": null,
   "metadata": {
    "collapsed": true
   },
   "outputs": [],
   "source": [
    "#var('a b t k C1')"
   ]
  },
  {
   "cell_type": "code",
   "execution_count": null,
   "metadata": {},
   "outputs": [],
   "source": [
    "exp(x).series(x )"
   ]
  },
  {
   "cell_type": "code",
   "execution_count": null,
   "metadata": {},
   "outputs": [],
   "source": [
    "y(t)"
   ]
  },
  {
   "cell_type": "code",
   "execution_count": null,
   "metadata": {},
   "outputs": [],
   "source": [
    " y(t).diff(t)"
   ]
  },
  {
   "cell_type": "code",
   "execution_count": null,
   "metadata": {},
   "outputs": [],
   "source": [
    "diffeq = Eq(y(t).diff(t), 0.5*y(t))\n",
    "diffeq"
   ]
  },
  {
   "cell_type": "code",
   "execution_count": null,
   "metadata": {},
   "outputs": [],
   "source": [
    "de=dsolve(diffeq, y(t))\n",
    "de"
   ]
  },
  {
   "cell_type": "code",
   "execution_count": null,
   "metadata": {},
   "outputs": [],
   "source": [
    "de.rhs.subs(t,0)-1"
   ]
  },
  {
   "cell_type": "code",
   "execution_count": null,
   "metadata": {},
   "outputs": [],
   "source": [
    "de.rhs.subs(C1,1)"
   ]
  },
  {
   "cell_type": "code",
   "execution_count": null,
   "metadata": {},
   "outputs": [],
   "source": [
    "# t0=0.; y0=1\n",
    "c1 = solve(de.rhs.subs(t,0)-1, C1)[0]\n"
   ]
  },
  {
   "cell_type": "code",
   "execution_count": null,
   "metadata": {},
   "outputs": [],
   "source": [
    "de.rhs.subs(C1,c1)"
   ]
  },
  {
   "cell_type": "code",
   "execution_count": null,
   "metadata": {
    "collapsed": true
   },
   "outputs": [],
   "source": []
  },
  {
   "cell_type": "code",
   "execution_count": null,
   "metadata": {
    "collapsed": true
   },
   "outputs": [],
   "source": []
  },
  {
   "cell_type": "code",
   "execution_count": null,
   "metadata": {
    "collapsed": true
   },
   "outputs": [],
   "source": []
  },
  {
   "cell_type": "markdown",
   "metadata": {},
   "source": [
    "### One example\n",
    "\n",
    "\n",
    "$$\\frac{d}{d t} y{\\left (t \\right )} = t - y{\\left (t \\right )}$$\n",
    "\n",
    "with initial value\n",
    "t0=-4.; y0=3.5"
   ]
  },
  {
   "cell_type": "code",
   "execution_count": null,
   "metadata": {},
   "outputs": [],
   "source": [
    "diffeq = Eq(y(t).diff(t), t-y(t))\n",
    "diffeq"
   ]
  },
  {
   "cell_type": "markdown",
   "metadata": {},
   "source": [
    "#### General solution"
   ]
  },
  {
   "cell_type": "code",
   "execution_count": null,
   "metadata": {},
   "outputs": [],
   "source": [
    "de = dsolve(diffeq, y(t))\n",
    "de"
   ]
  },
  {
   "cell_type": "code",
   "execution_count": null,
   "metadata": {},
   "outputs": [],
   "source": [
    "de.rhs"
   ]
  },
  {
   "cell_type": "code",
   "execution_count": null,
   "metadata": {},
   "outputs": [],
   "source": [
    "de.rhs.subs(t, -4)"
   ]
  },
  {
   "cell_type": "markdown",
   "metadata": {},
   "source": [
    "### Particular solution with initial value\n",
    "t0=-4.; y0=3.5"
   ]
  },
  {
   "cell_type": "code",
   "execution_count": null,
   "metadata": {},
   "outputs": [],
   "source": [
    "# t0=-4.; y0=3.5\n",
    "solve(de.rhs.subs(t, -4)-3.5, C1)\n"
   ]
  },
  {
   "cell_type": "code",
   "execution_count": null,
   "metadata": {
    "collapsed": true
   },
   "outputs": [],
   "source": [
    "de= de.subs(C1,0.155682930554241 )"
   ]
  },
  {
   "cell_type": "code",
   "execution_count": null,
   "metadata": {},
   "outputs": [],
   "source": [
    "de.subs(C1,0.155682930554241 ).rhs"
   ]
  },
  {
   "cell_type": "code",
   "execution_count": null,
   "metadata": {},
   "outputs": [],
   "source": [
    "exact = Lambda( (t), de.subs(C1,0.155682930554241).rhs ) \n",
    "exact"
   ]
  },
  {
   "cell_type": "code",
   "execution_count": null,
   "metadata": {},
   "outputs": [],
   "source": [
    "exact(0),exact(1), exact(2), exact(3)"
   ]
  },
  {
   "cell_type": "code",
   "execution_count": null,
   "metadata": {
    "collapsed": true
   },
   "outputs": [],
   "source": []
  },
  {
   "cell_type": "code",
   "execution_count": null,
   "metadata": {},
   "outputs": [],
   "source": [
    "from sympy.plotting import plot\n",
    "\n",
    " \n",
    "# \n",
    "plot(de.subs(C1,0.155682930554241 ).rhs, (t, -4., 4.))"
   ]
  },
  {
   "cell_type": "code",
   "execution_count": null,
   "metadata": {
    "collapsed": true
   },
   "outputs": [],
   "source": []
  },
  {
   "cell_type": "markdown",
   "metadata": {
    "collapsed": true
   },
   "source": [
    "“it may be used to qualitatively visualize solutions, or to numerically approximate them.”\n",
    "\n",
    "## Slope field\n",
    "\n",
    "\n",
    "https://www.youtube.com/watch?v=hsTfC1Wmxqc\n",
    "\n",
    "\n",
    "\n",
    "http://slopefield.nathangrigg.net/\n",
    "\n",
    "\n",
    "\n",
    "\n",
    "---------\n",
    "\n",
    "\n",
    "### Some visualization of slope field \n",
    "\n",
    "http://ww2.math.buffalo.edu/306/py/index.html\n",
    "\n",
    "\n",
    "https://www.r-bloggers.com/generate-slope-fields-in-r-and-python/\n",
    "\n",
    "\n",
    "http://stackoverflow.com/questions/18832763/drawing-directions-fields\n",
    "\n",
    "http://www.mathscoop.com/calculus/differential-equations/slope-field-generator.php\n",
    "\n",
    "\n",
    "https://www.youtube.com/watch?v=76WdBlGpxVw&list=PL64BDFBDA2AF24F7E"
   ]
  },
  {
   "cell_type": "markdown",
   "metadata": {},
   "source": [
    "## Slope field for the general solution\n",
    "\n",
    "$$y{\\left (t \\right )} = \\left(C_{1} + \\left(t - 1\\right) e^{t}\\right) e^{- t}$$\n",
    "\n",
    "\n",
    "\n",
    "http://ww2.math.buffalo.edu/306/py/306ch1_slope_field_soln_1.3.5.html"
   ]
  },
  {
   "cell_type": "code",
   "execution_count": null,
   "metadata": {
    "collapsed": true
   },
   "outputs": [],
   "source": [
    "\n"
   ]
  },
  {
   "cell_type": "code",
   "execution_count": null,
   "metadata": {
    "collapsed": true
   },
   "outputs": [],
   "source": [
    "def f(t,y):                # DE is y'=f(t,y) for \n",
    "    return t-y              # this function f\n",
    "\n",
    "\n",
    "\n",
    "\n",
    "\n",
    "def yexact(t,t0,y0):       # exact solution y(x) that satisfies y(x0)=y0\n",
    "    y =y0*np.exp(-t + t0) + (t*np.exp(t) - t0*np.exp(t0) - np.exp(t) + np.exp(t0))*np.exp(-t)\n",
    "    return y\n",
    "\n"
   ]
  },
  {
   "cell_type": "code",
   "execution_count": null,
   "metadata": {
    "collapsed": true
   },
   "outputs": [],
   "source": [
    "#ts1=np.linspace(-4.,4.,101)  # t[0]=-4., .., t[100]=4.\n",
    "#ts1\n"
   ]
  },
  {
   "cell_type": "code",
   "execution_count": null,
   "metadata": {
    "collapsed": true
   },
   "outputs": [],
   "source": [
    "#Ys1 = yexact(ts1,-4, 3.5)"
   ]
  },
  {
   "cell_type": "code",
   "execution_count": null,
   "metadata": {},
   "outputs": [],
   "source": [
    "fig=plt.figure(figsize=(5,5))          # fig is figure variable\n",
    "ax=fig.add_subplot(1,1,1) # in 1x1 array of subplots, ax is subplot 1\n",
    "\n",
    "#\t\t\t\t\t  I. Slope Field\n",
    "\n",
    "xmesh=np.linspace(-4.,4.,9); ymesh=np.linspace(-4.,4.,9) # x and y mesh values\n",
    "\n",
    "#                                       plot mini-tangent for\n",
    "#                                       y'=f(x,y) at each mesh point\n",
    "for xp in xmesh:\n",
    "   for yp in ymesh:\n",
    "      m=f(xp,yp)\n",
    "      h=0.25/np.sqrt(1.+m**2)\n",
    "      #ax = plt.axes()\n",
    "      ax.plot([xp-h,xp+h],[yp-m*h,yp+m*h],'b')\n",
    "      ax.arrow(xp-h,yp-m*h,2*h,2*m*h, head_width=0.1, head_length=0.1, fc='b', ec='b')    # slope field\n",
    "\n",
    "ax.set_xlabel('t'); ax.set_ylabel('y')\n",
    "ax.grid(True)           # add a grid to the plot\n",
    "ax.set_aspect(1.)       # require that (scaling factor for y)/(scaling factor for t), is 1.\n",
    "plt.title(\"Slope Field for y'=t-y \")\n",
    "#plt.savefig(\"306ch1_slope_field_soln_1.3.5.png\")\n",
    "plt.show() # to display immediately        \n",
    "                          "
   ]
  },
  {
   "cell_type": "markdown",
   "metadata": {},
   "source": [
    "## A initial value problem solution curve on the slope field  "
   ]
  },
  {
   "cell_type": "code",
   "execution_count": null,
   "metadata": {
    "collapsed": true
   },
   "outputs": [],
   "source": [
    "\n"
   ]
  },
  {
   "cell_type": "code",
   "execution_count": null,
   "metadata": {
    "collapsed": true
   },
   "outputs": [],
   "source": [
    "#exact"
   ]
  },
  {
   "cell_type": "code",
   "execution_count": null,
   "metadata": {
    "collapsed": true
   },
   "outputs": [],
   "source": [
    "#X=linspace(-4.,4.,101)  # t[0]=-4., .., t[100]=4.\n",
    "#Y=[exact(t) for t in X]\n",
    "#Y\n",
    "#[exact(t) for t in X]"
   ]
  },
  {
   "cell_type": "code",
   "execution_count": null,
   "metadata": {
    "collapsed": true
   },
   "outputs": [],
   "source": []
  },
  {
   "cell_type": "code",
   "execution_count": null,
   "metadata": {},
   "outputs": [],
   "source": [
    "fig=plt.figure(figsize=(5,5))          # fig is figure variable\n",
    "ax=fig.add_subplot(1,1,1) # in 1x1 array of subplots, ax is subplot 1\n",
    "\n",
    "#\t\t\t\t\t  I. Slope Field\n",
    "\n",
    "xmesh=np.linspace(-4.,4.,9); ymesh=np.linspace(-4.,4.,9) # x and y mesh values\n",
    "\n",
    "#                                       plot mini-tangent for\n",
    "#                                       y'=f(x,y) at each mesh point\n",
    "for xp in xmesh:\n",
    "   for yp in ymesh:\n",
    "      m=f(xp,yp)\n",
    "      h=0.25/np.sqrt(1.+m**2)\n",
    "      ax.plot([xp-h,xp+h],[yp-m*h,yp+m*h],'b')\n",
    "      ax.arrow(xp-h,yp-m*h,2*h,2*m*h, head_width=0.1, head_length=0.1, fc='b', ec='b') \n",
    "\n",
    "\n",
    "#\t\t\t\t\tII. Dot at given (x0,y0) and solution curve through (x0,y0)\n",
    "t0=-4.; y0=3.5\n",
    "ax.plot([t0],[y0],'mo') # 'm'agenta d'o't\n",
    "X=np.linspace(-4.,4.,101)  # t[0]=-4., .., t[100]=4.\n",
    "Y=[exact(t) for t in X]\n",
    "\n",
    "ax.plot(X,Y,'m',linewidth=2) # lines joining points (X[i],Y[i]), 'm'agenta\n",
    "\n",
    "ax.set_xlabel('t'); ax.set_ylabel('y')\n",
    "ax.grid(True)           # add a grid to the plot\n",
    "ax.set_aspect(1.)       # require that (scaling factor for y)/(scaling factor for x), is 1.\n",
    "plt.title(\"Slope Field for y'=t-y and\\nsolution curve through ({0:g},{1:g})\".format(t0,y0))\n",
    "#plt.savefig(\"306ch1_slope_field_soln_1.3.5.png\")\n",
    "plt.show() # to display immediately"
   ]
  },
  {
   "cell_type": "code",
   "execution_count": null,
   "metadata": {
    "collapsed": true
   },
   "outputs": [],
   "source": []
  },
  {
   "cell_type": "code",
   "execution_count": null,
   "metadata": {
    "collapsed": true
   },
   "outputs": [],
   "source": [
    "fig=plt.figure(figsize=(5,5))          # fig is figure variable\n",
    "ax=fig.add_subplot(1,1,1) # in 1x1 array of subplots, ax is subplot 1\n",
    "\n",
    "#\t\t\t\t\t  I. Slope Field\n",
    "\n",
    "xmesh=np.linspace(0.,4,9); ymesh=np.linspace(1.,1.3,9) # x and y mesh values\n",
    "\n",
    "#                                       plot mini-tangent for\n",
    "#                                       y'=f(x,y) at each mesh point\n",
    "for xp in xmesh:\n",
    "    for yp in ymesh:\n",
    "        m=f(xp,yp)\n",
    "        h=0.25/np.sqrt(1.+m**2)\n",
    "        ax.plot([xp-h,xp+h],[yp-m*h,yp+m*h],'b')\n",
    "        ax.arrow(xp-h,yp-m*h,2*h,2*m*h, head_width=0.01, head_length=0.1, fc='b', ec='b') \n",
    "\n",
    "\n",
    "#\t\t\t\t\tII. Dot at given (x0,y0) and solution curve through (x0,y0)\n",
    "t0=0; y0=1\n",
    "ax.plot([t0],[y0],'mo') # 'm'agenta d'o't\n",
    "X=np.linspace(0,4,101)  # t[0]=0., .., t[100]=4.\n",
    "Y=[yexact(t,t0,y0) for t in X]\n",
    "\n",
    "ax.plot(X,Y,'m',linewidth=2) # lines joining points (X[i],Y[i]), 'm'agenta\n",
    "\n",
    "ax.set_xlabel('t'); ax.set_ylabel('y')\n",
    "ax.grid(True)           # add a grid to the plot\n",
    "#ax.set_aspect(1.)       # require that (scaling factor for y)/(scaling factor for x), is 1.\n",
    "plt.title(\"Slope Field for y'=0.06y and\\nsolution curve through ({0:g},{1:g})\".format(t0,y0))\n",
    "\n",
    "plt.show() # to display immediately"
   ]
  },
  {
   "cell_type": "markdown",
   "metadata": {},
   "source": [
    "## Another initial value problem with \n",
    "\n",
    "$$y = x-1$$\n",
    "\n",
    "Initial value x0= 1, y = 0"
   ]
  },
  {
   "cell_type": "code",
   "execution_count": null,
   "metadata": {},
   "outputs": [],
   "source": [
    "fig=plt.figure(figsize=(5,5))          # fig is figure variable\n",
    "ax=fig.add_subplot(1,1,1) # in 1x1 array of subplots, ax is subplot 1\n",
    "\n",
    "#\t\t\t\t\t  I. Slope Field\n",
    "\n",
    "xmesh=np.linspace(-4.,4.,9); ymesh=np.linspace(-4.,4.,9) # x and y mesh values\n",
    "\n",
    "#                                       plot mini-tangent for\n",
    "#                                       y'=f(x,y) at each mesh point\n",
    "for xp in xmesh:\n",
    "   for yp in ymesh:\n",
    "      m=f(xp,yp)\n",
    "      h=0.25/np.sqrt(1.+m**2)\n",
    "      ax.plot([xp-h,xp+h],[yp-m*h,yp+m*h],'b')\n",
    "      ax.arrow(xp-h,yp-m*h,2*h,2*m*h, head_width=0.1, head_length=0.1, fc='b', ec='b') \n",
    "                          \n",
    "#\t\t\t\t\tII. Dot at given (x0,y0) and solution curve through (x0,y0)\n",
    "t0=1.; y0=0\n",
    "ax.plot([t0],[y0],'mo') # 'm'agenta d'o't\n",
    "X=np.linspace(-4.,4.,101)  # t[0]=-4., .., t[100]=4.\n",
    "Y=X-1\n",
    "ax.plot(X,Y,'m',linewidth=2) # lines joining points (X[i],Y[i]), 'm'agenta\n",
    "\n",
    "ax.set_xlabel('t'); ax.set_ylabel('y')\n",
    "ax.grid(True)           # add a grid to the plot\n",
    "ax.set_aspect(1.)       # require that (scaling factor for y)/(scaling factor for x), is 1.\n",
    "plt.title(\"Slope Field for y'=t-y and\\nsolution curve through ({0:g},{1:g})\".format(t0,y0))\n",
    "#plt.savefig(\"306ch1_slope_field_soln_1.3.5.png\")\n",
    "plt.show() # to display immediately"
   ]
  },
  {
   "cell_type": "code",
   "execution_count": null,
   "metadata": {
    "collapsed": true
   },
   "outputs": [],
   "source": []
  },
  {
   "cell_type": "code",
   "execution_count": null,
   "metadata": {
    "collapsed": true
   },
   "outputs": [],
   "source": []
  },
  {
   "cell_type": "code",
   "execution_count": null,
   "metadata": {
    "collapsed": true
   },
   "outputs": [],
   "source": []
  },
  {
   "cell_type": "code",
   "execution_count": null,
   "metadata": {
    "collapsed": true
   },
   "outputs": [],
   "source": []
  },
  {
   "cell_type": "code",
   "execution_count": null,
   "metadata": {
    "collapsed": true
   },
   "outputs": [],
   "source": []
  },
  {
   "cell_type": "code",
   "execution_count": null,
   "metadata": {
    "collapsed": true
   },
   "outputs": [],
   "source": []
  },
  {
   "cell_type": "code",
   "execution_count": null,
   "metadata": {
    "collapsed": true
   },
   "outputs": [],
   "source": []
  },
  {
   "cell_type": "code",
   "execution_count": null,
   "metadata": {
    "collapsed": true
   },
   "outputs": [],
   "source": []
  },
  {
   "cell_type": "code",
   "execution_count": null,
   "metadata": {
    "collapsed": true
   },
   "outputs": [],
   "source": []
  },
  {
   "cell_type": "code",
   "execution_count": null,
   "metadata": {
    "collapsed": true
   },
   "outputs": [],
   "source": []
  },
  {
   "cell_type": "code",
   "execution_count": null,
   "metadata": {
    "collapsed": true
   },
   "outputs": [],
   "source": []
  },
  {
   "cell_type": "code",
   "execution_count": null,
   "metadata": {
    "collapsed": true
   },
   "outputs": [],
   "source": []
  },
  {
   "cell_type": "code",
   "execution_count": null,
   "metadata": {
    "collapsed": true
   },
   "outputs": [],
   "source": []
  },
  {
   "cell_type": "code",
   "execution_count": null,
   "metadata": {
    "collapsed": true
   },
   "outputs": [],
   "source": []
  },
  {
   "cell_type": "code",
   "execution_count": null,
   "metadata": {
    "collapsed": true
   },
   "outputs": [],
   "source": []
  },
  {
   "cell_type": "code",
   "execution_count": null,
   "metadata": {
    "collapsed": true
   },
   "outputs": [],
   "source": []
  },
  {
   "cell_type": "code",
   "execution_count": null,
   "metadata": {
    "collapsed": true
   },
   "outputs": [],
   "source": []
  },
  {
   "cell_type": "code",
   "execution_count": null,
   "metadata": {
    "collapsed": true
   },
   "outputs": [],
   "source": []
  },
  {
   "cell_type": "code",
   "execution_count": null,
   "metadata": {
    "collapsed": true
   },
   "outputs": [],
   "source": []
  },
  {
   "cell_type": "code",
   "execution_count": null,
   "metadata": {
    "collapsed": true
   },
   "outputs": [],
   "source": []
  },
  {
   "cell_type": "code",
   "execution_count": null,
   "metadata": {
    "collapsed": true
   },
   "outputs": [],
   "source": []
  },
  {
   "cell_type": "code",
   "execution_count": null,
   "metadata": {
    "collapsed": true
   },
   "outputs": [],
   "source": []
  },
  {
   "cell_type": "code",
   "execution_count": null,
   "metadata": {
    "collapsed": true
   },
   "outputs": [],
   "source": []
  },
  {
   "cell_type": "code",
   "execution_count": null,
   "metadata": {
    "collapsed": true
   },
   "outputs": [],
   "source": []
  },
  {
   "cell_type": "code",
   "execution_count": null,
   "metadata": {
    "collapsed": true
   },
   "outputs": [],
   "source": []
  },
  {
   "cell_type": "code",
   "execution_count": null,
   "metadata": {
    "collapsed": true
   },
   "outputs": [],
   "source": []
  },
  {
   "cell_type": "code",
   "execution_count": null,
   "metadata": {
    "collapsed": true
   },
   "outputs": [],
   "source": []
  },
  {
   "cell_type": "code",
   "execution_count": null,
   "metadata": {
    "collapsed": true
   },
   "outputs": [],
   "source": []
  },
  {
   "cell_type": "code",
   "execution_count": null,
   "metadata": {
    "collapsed": true
   },
   "outputs": [],
   "source": []
  },
  {
   "cell_type": "code",
   "execution_count": null,
   "metadata": {
    "collapsed": true
   },
   "outputs": [],
   "source": []
  },
  {
   "cell_type": "code",
   "execution_count": null,
   "metadata": {
    "collapsed": true
   },
   "outputs": [],
   "source": []
  },
  {
   "cell_type": "code",
   "execution_count": null,
   "metadata": {
    "collapsed": true
   },
   "outputs": [],
   "source": []
  },
  {
   "cell_type": "code",
   "execution_count": null,
   "metadata": {
    "collapsed": true
   },
   "outputs": [],
   "source": []
  },
  {
   "cell_type": "code",
   "execution_count": null,
   "metadata": {
    "collapsed": true
   },
   "outputs": [],
   "source": []
  },
  {
   "cell_type": "code",
   "execution_count": null,
   "metadata": {
    "collapsed": true
   },
   "outputs": [],
   "source": []
  },
  {
   "cell_type": "code",
   "execution_count": null,
   "metadata": {
    "collapsed": true
   },
   "outputs": [],
   "source": []
  },
  {
   "cell_type": "code",
   "execution_count": null,
   "metadata": {},
   "outputs": [],
   "source": [
    "import matplotlib.pyplot as plt\n",
    "from scipy import *\n",
    "from scipy import integrate\n",
    "from scipy.integrate import ode\n",
    "import numpy as np\n",
    "\n",
    "fig = plt.figure(num=1)\n",
    "ax=fig.add_subplot(111)\n",
    "\n",
    "## Vector field function\n",
    "def vf(t,x):\n",
    "  dx=np.zeros(2)\n",
    "  dx[0]=1\n",
    "  dx[1]=x[0]**2-x[0]-2\n",
    "  return dx\n",
    "\n",
    "#Solution curves\n",
    "t0=0; tEnd=10; dt=0.01;\n",
    "r = ode(vf).set_integrator('vode', method='bdf',max_step=dt)\n",
    "ic=[[-3.5,-10], [-3,-10], [-2.5,-10]]\n",
    "color=['r','b','g']\n",
    "for k in range(len(ic)):\n",
    "    Y=[];T=[];S=[];\n",
    "    r.set_initial_value(ic[k], t0).set_f_params()\n",
    "    while r.successful() and r.t +dt < tEnd:\n",
    "        r.integrate(r.t+dt)\n",
    "        Y.append(r.y)\n",
    "\n",
    "    S=np.array(np.real(Y))\n",
    "    ax.plot(S[:,0],S[:,1], color = color[k], lw = 1.25)\n",
    "\n",
    "#Vector field\n",
    "X,Y = np.meshgrid( np.linspace(-5,5,20),np.linspace(-10,10,20) )\n",
    "U = 1\n",
    "V = X**2-X-2\n",
    "#Normalize arrows\n",
    "N = np.sqrt(U**2+V**2)  \n",
    "U2, V2 = U/N, V/N\n",
    "ax.quiver( X,Y,U2, V2)\n",
    "\n",
    "\n",
    "plt.xlim([-5,5])\n",
    "plt.ylim([-10,10])\n",
    "plt.xlabel(r\"$x$\")\n",
    "plt.ylabel(r\"$y$\")\n",
    "plt.show()"
   ]
  },
  {
   "cell_type": "code",
   "execution_count": null,
   "metadata": {
    "collapsed": true
   },
   "outputs": [],
   "source": []
  },
  {
   "cell_type": "code",
   "execution_count": null,
   "metadata": {
    "collapsed": true
   },
   "outputs": [],
   "source": []
  },
  {
   "cell_type": "code",
   "execution_count": null,
   "metadata": {
    "collapsed": true
   },
   "outputs": [],
   "source": []
  },
  {
   "cell_type": "code",
   "execution_count": null,
   "metadata": {
    "collapsed": true
   },
   "outputs": [],
   "source": []
  },
  {
   "cell_type": "code",
   "execution_count": null,
   "metadata": {
    "collapsed": true
   },
   "outputs": [],
   "source": []
  },
  {
   "cell_type": "code",
   "execution_count": null,
   "metadata": {
    "collapsed": true
   },
   "outputs": [],
   "source": []
  },
  {
   "cell_type": "markdown",
   "metadata": {},
   "source": [
    "### ODE in scipy odeint\n",
    "\n",
    "http://sam-dolan.staff.shef.ac.uk/mas212\n",
    "\n",
    "\n",
    "http://sam-dolan.staff.shef.ac.uk/mas212/docs/Solutions4.html\n",
    "\n",
    "\n",
    "#### First-order Ordinary Differential Equations (ODEs)."
   ]
  },
  {
   "cell_type": "code",
   "execution_count": null,
   "metadata": {
    "collapsed": true
   },
   "outputs": [],
   "source": [
    "\n",
    "import numpy as np\n",
    "import matplotlib.pyplot as plt\n",
    "from scipy.integrate import odeint\n",
    "%matplotlib inline\n",
    "plt.rcParams.update({'font.size': 14})  # Make the labels larger"
   ]
  },
  {
   "cell_type": "code",
   "execution_count": null,
   "metadata": {},
   "outputs": [],
   "source": [
    "\n",
    "\n",
    "# setup a differential eqution as a function: here the lamba = -0.5\n",
    "def dxdt(x,t):\n",
    "    return lamb*x\n",
    "\n",
    "h = 0.1;   # h is the spacing in time. \n",
    "tmax = 5.0; tmin = 0.0;\n",
    "n = int((tmax-tmin)/h)  # n+1 is the number of points\n",
    "ts = np.linspace(tmin, tmax, n+1)  # array of t values\n",
    "x0 = 1.0;    # the initial condition\n",
    "xexact = np.exp(lamb*ts)  # This is the analytic solution of the ODE\n",
    "xs = odeint(dxdt, x0, ts)  # The numerical solution.\n",
    "plt.plot(ts, xs, 'b+', label = 'Numerical');\n",
    "plt.plot(ts, xexact, 'r-', label = 'Analytic');\n",
    "plt.xlabel(\"t\"); plt.ylabel(\"x(t)\");\n",
    "plt.legend()"
   ]
  },
  {
   "cell_type": "code",
   "execution_count": null,
   "metadata": {},
   "outputs": [],
   "source": [
    "# Now plot the error: the difference between the numerical solution and the analytic solution\n",
    "# (Here it is necessary to convert 'xs' from a 2D array to a 1D array.)\n",
    "plt.plot(ts, xs.reshape(n+1) - xexact, 'r-', label = 'Difference');\n",
    "plt.legend()"
   ]
  },
  {
   "cell_type": "code",
   "execution_count": null,
   "metadata": {},
   "outputs": [],
   "source": [
    "\n",
    "# The error in the first plot is of order 10^(-8). \n",
    "# We can reduce the error by adjusting the optional parameters 'atol' and 'rtol' of odeint.\n",
    "# These parameters fix the absolute and relative errors that odeint will tolerate.\n",
    "tol = 1e-11;\n",
    "xs = odeint(dxdt, x0, ts, atol=tol, rtol=tol);\n",
    "# Note that the error is now approximately 1000 times smaller than before.\n",
    "plt.plot(ts, xs.reshape(n+1) - xexact, 'r-');"
   ]
  },
  {
   "cell_type": "code",
   "execution_count": null,
   "metadata": {
    "collapsed": true
   },
   "outputs": [],
   "source": []
  },
  {
   "cell_type": "markdown",
   "metadata": {},
   "source": [
    "#### Nonlinear differential equation\n",
    "\n",
    "$$dx/dt = x*(1-x)$$\n"
   ]
  },
  {
   "cell_type": "code",
   "execution_count": null,
   "metadata": {},
   "outputs": [],
   "source": [
    "# let us change the initial points\n",
    "h = 0.1;   # h is the spacing in time. \n",
    "tmax = 5.0; tmin = 0.0;\n",
    "n = int((tmax-tmin)/h)  # n+1 is the number of points\n",
    "ts = np.linspace(tmin, tmax, n+1)  # array of t values\n",
    "def dxdt(x,t):\n",
    "    return x*(1-x)\n",
    "x0s = np.linspace(0, 2, 10)\n",
    "for x0 in x0s:\n",
    "    xs = odeint(dxdt, x0, ts)\n",
    "    plt.plot(ts, xs)\n",
    "# x = 1 is a stable equilibrium and x = 0 is the unstable equilibrium\n",
    "plt.xlabel('t'); plt.ylabel('x(t)');"
   ]
  },
  {
   "cell_type": "code",
   "execution_count": null,
   "metadata": {
    "collapsed": true
   },
   "outputs": [],
   "source": []
  },
  {
   "cell_type": "code",
   "execution_count": null,
   "metadata": {
    "collapsed": true
   },
   "outputs": [],
   "source": []
  },
  {
   "cell_type": "code",
   "execution_count": null,
   "metadata": {
    "collapsed": true
   },
   "outputs": [],
   "source": []
  },
  {
   "cell_type": "code",
   "execution_count": null,
   "metadata": {
    "collapsed": true
   },
   "outputs": [],
   "source": []
  },
  {
   "cell_type": "code",
   "execution_count": null,
   "metadata": {
    "collapsed": true
   },
   "outputs": [],
   "source": []
  },
  {
   "cell_type": "code",
   "execution_count": null,
   "metadata": {
    "collapsed": true
   },
   "outputs": [],
   "source": []
  },
  {
   "cell_type": "code",
   "execution_count": null,
   "metadata": {},
   "outputs": [],
   "source": [
    "# lambdify to numpy function\n",
    "expr = sin(x)/x\n",
    "g = lambdify(x, expr)\n",
    "g(3.14)"
   ]
  },
  {
   "cell_type": "code",
   "execution_count": null,
   "metadata": {
    "collapsed": true
   },
   "outputs": [],
   "source": []
  },
  {
   "cell_type": "code",
   "execution_count": null,
   "metadata": {},
   "outputs": [],
   "source": [
    "# High order equation.\n",
    "diffeq = Eq(f(x).diff(x, x) - 2*f(x).diff(x) + f(x), sin(x))\n",
    "diffeq"
   ]
  },
  {
   "cell_type": "code",
   "execution_count": null,
   "metadata": {},
   "outputs": [],
   "source": [
    "dsolve(diffeq, f(x))"
   ]
  },
  {
   "cell_type": "code",
   "execution_count": null,
   "metadata": {
    "collapsed": true
   },
   "outputs": [],
   "source": []
  },
  {
   "cell_type": "code",
   "execution_count": null,
   "metadata": {
    "collapsed": true
   },
   "outputs": [],
   "source": []
  },
  {
   "cell_type": "markdown",
   "metadata": {
    "collapsed": true
   },
   "source": [
    "## IPython: Math Processor\n",
    "http://arachnoid.com/IPython/tips_tricks.html"
   ]
  },
  {
   "cell_type": "code",
   "execution_count": null,
   "metadata": {},
   "outputs": [],
   "source": [
    "from sympy import *\n",
    "var('x')\n",
    "textplot(E**-x**2,-3,3)"
   ]
  },
  {
   "cell_type": "code",
   "execution_count": null,
   "metadata": {},
   "outputs": [],
   "source": [
    "\n",
    "\n",
    "from sympy import *\n",
    "%matplotlib inline\n",
    "var('x y')\n",
    "plotting.plot3d((exp(-(x**2+y**2))),(x,-3,3),(y,-3,3))\n",
    "\n"
   ]
  },
  {
   "cell_type": "code",
   "execution_count": null,
   "metadata": {
    "collapsed": true
   },
   "outputs": [],
   "source": []
  },
  {
   "cell_type": "code",
   "execution_count": null,
   "metadata": {},
   "outputs": [],
   "source": [
    "## Confidence interval\n",
    "import numpy as np\n",
    "from sympy import *\n",
    "import matplotlib.pyplot as plt\n",
    "%matplotlib inline\n",
    "fig = plt.gcf()\n",
    "fig.set_size_inches(8,5)\n",
    "plt.grid(True)\n",
    "var('x')\n",
    "f = Lambda(x,E**-x**2)\n",
    "x = np.linspace(-3,3,100)\n",
    "y = np.array([f(v) for v in x],dtype='float')\n",
    "a = 40\n",
    "b = 60\n",
    "plt.fill_between(x[:a+1],y[:a+1],0,color='#ffff40',alpha=.3)\n",
    "plt.fill_between(x[a:b],y[a:b],0,color='#40ff40',alpha=.3)\n",
    "plt.fill_between(x[b-1:],y[b-1:],0,color='#ffff40',alpha=.3)\n",
    "plt.plot(x,y,color='black')\n",
    "plt.show()"
   ]
  },
  {
   "cell_type": "code",
   "execution_count": null,
   "metadata": {
    "collapsed": true
   },
   "outputs": [],
   "source": []
  },
  {
   "cell_type": "code",
   "execution_count": null,
   "metadata": {
    "collapsed": true
   },
   "outputs": [],
   "source": [
    "import numpy\n",
    "f = lambdify((x,y), tan(x*y), numpy)"
   ]
  },
  {
   "cell_type": "code",
   "execution_count": null,
   "metadata": {
    "collapsed": true
   },
   "outputs": [],
   "source": []
  },
  {
   "cell_type": "code",
   "execution_count": null,
   "metadata": {
    "collapsed": true
   },
   "outputs": [],
   "source": []
  },
  {
   "cell_type": "code",
   "execution_count": null,
   "metadata": {},
   "outputs": [],
   "source": [
    "f(1,2)"
   ]
  },
  {
   "cell_type": "code",
   "execution_count": null,
   "metadata": {},
   "outputs": [],
   "source": [
    "from sympy import *\n",
    "var('a:z C1 C2');\n",
    "y = Function('y')\n",
    "de = diff(y(t),t,t) + y(t)\n",
    "f = Lambda((t,C1,C2) , dsolve(de,y(t)).args[1])\n",
    "p = plot(f(t,1,0),f(t,0,1),(t,0,4*pi),ylim=(-1.5,1.5),\n",
    "   show=False,title='$'+latex(de)+'=0$')\n",
    "p[0].line_color = 'DarkGreen'\n",
    "p[1].line_color = 'DarkRed'\n",
    "p.show()"
   ]
  },
  {
   "cell_type": "code",
   "execution_count": null,
   "metadata": {
    "collapsed": true
   },
   "outputs": [],
   "source": []
  },
  {
   "cell_type": "code",
   "execution_count": null,
   "metadata": {},
   "outputs": [],
   "source": [
    "import matplotlib.pyplot as plt\n",
    "\n",
    "ax = plt.axes()\n",
    "ax.arrow(0, 0, 0.5, 0.5, head_width=0.05, head_length=0.1, fc='k', ec='k')\n",
    "plt.show()"
   ]
  },
  {
   "cell_type": "code",
   "execution_count": null,
   "metadata": {
    "collapsed": true
   },
   "outputs": [],
   "source": []
  },
  {
   "cell_type": "code",
   "execution_count": null,
   "metadata": {},
   "outputs": [],
   "source": [
    "str(latex(f(t,k,a,b)))"
   ]
  },
  {
   "cell_type": "code",
   "execution_count": null,
   "metadata": {
    "collapsed": true
   },
   "outputs": [],
   "source": []
  },
  {
   "cell_type": "code",
   "execution_count": null,
   "metadata": {
    "collapsed": true
   },
   "outputs": [],
   "source": []
  },
  {
   "cell_type": "code",
   "execution_count": null,
   "metadata": {
    "collapsed": true
   },
   "outputs": [],
   "source": []
  },
  {
   "cell_type": "code",
   "execution_count": null,
   "metadata": {},
   "outputs": [],
   "source": [
    "from __future__ import division\n",
    "from sympy import *\n",
    "x, y, z, t = symbols('x y z t')\n",
    "k, m, n = symbols('k m n', integer=True)\n",
    "f, g, h = symbols('f g h', cls=Function)\n",
    "p1 = plot_implicit(Eq(x**2 + y**2, 5))"
   ]
  },
  {
   "cell_type": "code",
   "execution_count": null,
   "metadata": {},
   "outputs": [],
   "source": [
    "p5 = plot_implicit(Eq(x**2 + y**2, 5),\n",
    "...         (x, -5, 5), (y, -2, 2),\n",
    "...         adaptive=False, points=400)"
   ]
  },
  {
   "cell_type": "code",
   "execution_count": null,
   "metadata": {
    "collapsed": true
   },
   "outputs": [],
   "source": []
  },
  {
   "cell_type": "code",
   "execution_count": null,
   "metadata": {},
   "outputs": [],
   "source": [
    "p8 = plot_implicit(y - 1, y_var=y)\n",
    "p9 = plot_implicit(x - 1, x_var=x)"
   ]
  },
  {
   "cell_type": "code",
   "execution_count": null,
   "metadata": {},
   "outputs": [],
   "source": [
    "p8 = plot_implicit(y - 1, y_var=x)"
   ]
  },
  {
   "cell_type": "code",
   "execution_count": null,
   "metadata": {
    "collapsed": true
   },
   "outputs": [],
   "source": [
    "\n",
    "from numpy import *\n",
    "import matplotlib.pyplot as plt\n",
    "%matplotlib inline"
   ]
  },
  {
   "cell_type": "code",
   "execution_count": null,
   "metadata": {
    "collapsed": true
   },
   "outputs": [],
   "source": [
    "def f(x,y):                # DE is y'=f(x,y) for \n",
    "   return x-y              # this function f\n",
    "\n",
    "def yexact(x,x0,y0):       # exact solution y(x) that satisfies y(x0)=y0\n",
    "   y=y0*exp(-x + x0) + (x*exp(x) - x0*exp(x0) - exp(x) + exp(x0))*exp(-x)\n",
    "   return y"
   ]
  },
  {
   "cell_type": "code",
   "execution_count": null,
   "metadata": {},
   "outputs": [],
   "source": [
    "fig=plt.figure(figsize=(5,5))          # fig is figure variable\n",
    "ax=fig.add_subplot(1,1,1) # in 1x1 array of subplots, ax is subplot 1\n",
    "\n",
    "#\t\t\t\t\t  I. Slope Field\n",
    "\n",
    "xmesh=linspace(-4.,4.,9); ymesh=linspace(-4.,4.,9) # x and y mesh values\n",
    "\n",
    "#                                       plot mini-tangent for\n",
    "#                                       y'=f(x,y) at each mesh point\n",
    "for xp in xmesh:\n",
    "   for yp in ymesh:\n",
    "      m=f(xp,yp)\n",
    "      h=0.25/sqrt(1.+m**2)\n",
    "      ax.plot([xp-h,xp+h],[yp-m*h,yp+m*h],'b')\n",
    "                          \n",
    "#\t\t\t\t\tII. Dot at given (x0,y0) and solution curve through (x0,y0)\n",
    "x0=-4.; y0=3.5\n",
    "ax.plot([x0],[y0],'mo') # 'm'agenta d'o't\n",
    "X=linspace(-4.,4.,101)  # X[0]=-4., .., X[100]=4.\n",
    "Y=yexact(X,x0,y0)\n",
    "ax.plot(X,Y,'m',linewidth=2) # lines joining points (X[i],Y[i]), 'm'agenta\n",
    "\n",
    "ax.set_xlabel('x'); ax.set_ylabel('y')\n",
    "ax.grid(True)           # add a grid to the plot\n",
    "ax.set_aspect(1.)       # require that (scaling factor for y)/(scaling factor for x), is 1.\n",
    "plt.title(\"Slope Field for y'=x-y and\\nsolution curve through ({0:g},{1:g})\".format(x0,y0))\n",
    "plt.savefig(\"306ch1_slope_field_soln_1.3.5.png\")\n",
    "plt.show() # to display immediately"
   ]
  },
  {
   "cell_type": "code",
   "execution_count": null,
   "metadata": {
    "collapsed": true
   },
   "outputs": [],
   "source": []
  }
 ],
 "metadata": {
  "kernelspec": {
   "display_name": "Python 3",
   "language": "python",
   "name": "python3"
  },
  "language_info": {
   "codemirror_mode": {
    "name": "ipython",
    "version": 3
   },
   "file_extension": ".py",
   "mimetype": "text/x-python",
   "name": "python",
   "nbconvert_exporter": "python",
   "pygments_lexer": "ipython3",
   "version": "3.6.2"
  }
 },
 "nbformat": 4,
 "nbformat_minor": 1
}
