{
 "cells": [
  {
   "cell_type": "markdown",
   "metadata": {},
   "source": [
    "\n",
    "\n",
    "### Solow \n",
    "https://github.com/snowdj/numerical-methods/blob/master/labs/lab-1/working.ipynb"
   ]
  },
  {
   "cell_type": "markdown",
   "metadata": {},
   "source": [
    "\n",
    "\n",
    "\n",
    "## Textbook\n",
    "\n",
    "http://philschatz.com/economics-book/contents/m48776.html\n",
    "\n",
    "## Open textbook\n",
    "\n",
    "###   Principles of Economics: Macroeconomics\n",
    "https://open.bccampus.ca/find-open-textbooks/?uuid=cda9ce14-3f28-4aae-8f27-b5c945475b4d&contributor=&keyword=&subject=Economics\n",
    "https://courses.candelalearning.com/macroecon2x4master/\n",
    "\n",
    "https://opentextbc.ca/principlesofeconomics/chapter/33-1-absolute-and-comparative-advantage/\n",
    "\n",
    "### Macroeconomics: Theory through Applications\n",
    "https://open.bccampus.ca/find-open-textbooks/?uuid=9c303a47-ce55-4d1f-a11c-44074a69344f\n",
    "\n",
    "\n",
    "### The_Global_Economy\n",
    "\n",
    "http://www.stern.nyu.edu/sites/default/files/assets/documents/The_Global_Economy_Amazon_0.pdf"
   ]
  },
  {
   "cell_type": "markdown",
   "metadata": {},
   "source": []
  },
  {
   "cell_type": "markdown",
   "metadata": {},
   "source": [
    "## The Big Picture of Macroeconomics\n",
    "![](http://econ201online.umwblogs.org/files/2012/07/ECON201OnlineVisualSyllabus-copy1.png)\n",
    "\n",
    "http://zeytoonnejad.com/macrobigpic.aspx"
   ]
  },
  {
   "cell_type": "code",
   "execution_count": null,
   "metadata": {
    "collapsed": true
   },
   "outputs": [],
   "source": []
  }
 ],
 "metadata": {
  "kernelspec": {
   "display_name": "Python 3",
   "language": "python",
   "name": "python3"
  },
  "language_info": {
   "codemirror_mode": {
    "name": "ipython",
    "version": 3
   },
   "file_extension": ".py",
   "mimetype": "text/x-python",
   "name": "python",
   "nbconvert_exporter": "python",
   "pygments_lexer": "ipython3",
   "version": "3.6.2"
  }
 },
 "nbformat": 4,
 "nbformat_minor": 2
}
