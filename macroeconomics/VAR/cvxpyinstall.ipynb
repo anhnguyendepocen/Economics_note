{
 "cells": [
  {
   "cell_type": "code",
   "execution_count": 1,
   "metadata": {
    "collapsed": false
   },
   "outputs": [
    {
     "name": "stdout",
     "output_type": "stream",
     "text": [
      "Requirement already satisfied: cvxopt==1.1.9 from file:///F:/OneDrive/One%20drive/501-2017/lab/lab7/cvxopt-1.1.9-cp27-cp27m-win_amd64.whl in d:\\anaconda2\\lib\\site-packages\n"
     ]
    }
   ],
   "source": [
    "#!pip install cvxopt-1.1.9-cp27-cp27m-win_amd64.whl\n",
    "#http://www.lfd.uci.edu/~gohlke/pythonlibs/#cvxopt\n",
    "#https://pip.pypa.io/en/latest/user_guide/#installing-from-wheels"
   ]
  },
  {
   "cell_type": "code",
   "execution_count": 2,
   "metadata": {
    "collapsed": false
   },
   "outputs": [
    {
     "name": "stdout",
     "output_type": "stream",
     "text": [
      "Processing f:\\onedrive\\one drive\\501-2017\\lab\\lab7\\cvxpy-0.4.8-py2-none-any.whl\n",
      "Requirement already satisfied: numpy>=1.9 in d:\\anaconda2\\lib\\site-packages (from cvxpy==0.4.8)\n",
      "Requirement already satisfied: fastcache in d:\\anaconda2\\lib\\site-packages (from cvxpy==0.4.8)\n",
      "Collecting CVXcanon>=0.0.22 (from cvxpy==0.4.8)\n",
      "  Using cached CVXcanon-0.1.1.tar.gz\n",
      "Requirement already satisfied: scipy>=0.15 in d:\\anaconda2\\lib\\site-packages (from cvxpy==0.4.8)\n",
      "Requirement already satisfied: six in d:\\anaconda2\\lib\\site-packages (from cvxpy==0.4.8)\n",
      "Requirement already satisfied: toolz in d:\\anaconda2\\lib\\site-packages (from cvxpy==0.4.8)\n",
      "Collecting multiprocess (from cvxpy==0.4.8)\n",
      "  Downloading multiprocess-0.70.5.zip (1.5MB)\n",
      "Collecting scs>=1.1.3 (from cvxpy==0.4.8)\n",
      "  Using cached scs-1.2.6.tar.gz\n",
      "Collecting ecos>=2 (from cvxpy==0.4.8)\n",
      "  Downloading ecos-2.0.4-cp27-none-win_amd64.whl (56kB)\n",
      "Collecting dill>=0.2.6 (from multiprocess->cvxpy==0.4.8)\n",
      "  Downloading dill-0.2.6.zip (83kB)\n",
      "Collecting pyreadline>=1.7.1 (from dill>=0.2.6->multiprocess->cvxpy==0.4.8)\n",
      "  Downloading pyreadline-2.1.zip (109kB)\n",
      "Building wheels for collected packages: CVXcanon, multiprocess, scs, dill, pyreadline\n",
      "  Running setup.py bdist_wheel for CVXcanon: started\n",
      "  Running setup.py bdist_wheel for CVXcanon: finished with status 'done'\n",
      "  Stored in directory: C:\\Users\\oldyu\\AppData\\Local\\pip\\Cache\\wheels\\1b\\f6\\dd\\14f66c64621bddd6b92a3cfc995fa2a21b134fcf4122402b30\n",
      "  Running setup.py bdist_wheel for multiprocess: started\n",
      "  Running setup.py bdist_wheel for multiprocess: finished with status 'done'\n",
      "  Stored in directory: C:\\Users\\oldyu\\AppData\\Local\\pip\\Cache\\wheels\\28\\ef\\9f\\5cc70b5d92fc4641b68dc23b3583f2b6ec1d153cb71985aeaf\n",
      "  Running setup.py bdist_wheel for scs: started\n",
      "  Running setup.py bdist_wheel for scs: finished with status 'done'\n",
      "  Stored in directory: C:\\Users\\oldyu\\AppData\\Local\\pip\\Cache\\wheels\\7f\\c7\\28\\11e2ac690bdb2919dd29523a811d5d8ec815f4d33689dbbe53\n",
      "  Running setup.py bdist_wheel for dill: started\n",
      "  Running setup.py bdist_wheel for dill: finished with status 'done'\n",
      "  Stored in directory: C:\\Users\\oldyu\\AppData\\Local\\pip\\Cache\\wheels\\8a\\97\\20\\c0b851f365d12d9fb3ccf92e47b8df5b1bea5e5d2b92b962dc\n",
      "  Running setup.py bdist_wheel for pyreadline: started\n",
      "  Running setup.py bdist_wheel for pyreadline: finished with status 'done'\n",
      "  Stored in directory: C:\\Users\\oldyu\\AppData\\Local\\pip\\Cache\\wheels\\9a\\c7\\45\\fd424eb3d7875d7a61221accd593e17c7953ed5ece5ee60be9\n",
      "Successfully built CVXcanon multiprocess scs dill pyreadline\n",
      "Installing collected packages: CVXcanon, pyreadline, dill, multiprocess, scs, ecos, cvxpy\n",
      "  Found existing installation: dill 0.2.5\n",
      "    Uninstalling dill-0.2.5:\n",
      "      Successfully uninstalled dill-0.2.5\n",
      "Successfully installed CVXcanon-0.1.1 cvxpy-0.4.8 dill-0.2.6 ecos-2.0.4 multiprocess-0.70.5 pyreadline-2.1 scs-1.2.6\n"
     ]
    },
    {
     "name": "stderr",
     "output_type": "stream",
     "text": [
      "    DEPRECATION: Uninstalling a distutils installed project (dill) has been deprecated and will be removed in a future version. This is due to the fact that uninstalling a distutils project will only partially uninstall the project.\n"
     ]
    }
   ],
   "source": [
    "!pip install cvxpy-0.4.8-py2-none-any.whl"
   ]
  },
  {
   "cell_type": "code",
   "execution_count": 3,
   "metadata": {
    "collapsed": false
   },
   "outputs": [
    {
     "name": "stderr",
     "output_type": "stream",
     "text": [
      "Traceback (most recent call last):\n",
      "  File \"d:\\Anaconda2\\Lib\\runpy.py\", line 174, in _run_module_as_main\n",
      "    \"__main__\", fname, loader, pkg_name)\n",
      "  File \"d:\\Anaconda2\\Lib\\runpy.py\", line 72, in _run_code\n",
      "    exec code in run_globals\n",
      "  File \"d:\\Anaconda2\\Lib\\unittest\\__main__.py\", line 12, in <module>\n",
      "    main(module=None)\n",
      "  File \"d:\\Anaconda2\\Lib\\unittest\\main.py\", line 94, in __init__\n",
      "    self.parseArgs(argv)\n",
      "  File \"d:\\Anaconda2\\Lib\\unittest\\main.py\", line 113, in parseArgs\n",
      "    self._do_discovery(argv[2:])\n",
      "  File \"d:\\Anaconda2\\Lib\\unittest\\main.py\", line 214, in _do_discovery\n",
      "    self.test = loader.discover(start_dir, pattern, top_level_dir)\n",
      "  File \"d:\\Anaconda2\\Lib\\unittest\\loader.py\", line 204, in discover\n",
      "    raise ImportError('Start directory is not importable: %r' % start_dir)\n",
      "ImportError: Start directory is not importable: 'tests'\n"
     ]
    }
   ],
   "source": [
    "!python -m unittest discover -s tests"
   ]
  },
  {
   "cell_type": "code",
   "execution_count": null,
   "metadata": {
    "collapsed": true
   },
   "outputs": [],
   "source": [
    "#http://pythonhosted.org/PuLP/main/optimisation_concepts.html"
   ]
  }
 ],
 "metadata": {
  "kernelspec": {
   "display_name": "Python 2",
   "language": "python",
   "name": "python2"
  },
  "language_info": {
   "codemirror_mode": {
    "name": "ipython",
    "version": 2
   },
   "file_extension": ".py",
   "mimetype": "text/x-python",
   "name": "python",
   "nbconvert_exporter": "python",
   "pygments_lexer": "ipython2",
   "version": "2.7.13"
  }
 },
 "nbformat": 4,
 "nbformat_minor": 2
}
