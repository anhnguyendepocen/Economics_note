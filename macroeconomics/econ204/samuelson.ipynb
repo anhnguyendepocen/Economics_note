{
 "cells": [
  {
   "cell_type": "markdown",
   "metadata": {},
   "source": [
    "Notebook created: 2018-02-15 22:32:58  \n",
    "Generated from: _build_py/py/samuelson.rst  "
   ]
  },
  {
   "cell_type": "code",
   "execution_count": null,
   "metadata": {
    "collapsed": true
   },
   "outputs": [],
   "source": [
    "import numpy as np\n",
    "import matplotlib.pyplot as plt\n",
    "\n",
    "def param_plot():\n",
    "\n",
    "    \"\"\"this function creates the graph on page 189 of Sargent Macroeconomic Theory, second edition, 1987\"\"\"\n",
    "\n",
    "    fig, ax = plt.subplots(figsize=(12, 8))\n",
    "    ax.set_aspect('equal')\n",
    "\n",
    "    # Set axis\n",
    "    xmin, ymin = -3, -2\n",
    "    xmax, ymax = -xmin, -ymin\n",
    "    plt.axis([xmin, xmax, ymin, ymax])\n",
    "\n",
    "    # Set axis labels\n",
    "    ax.set(xticks=[], yticks=[])\n",
    "    ax.set_xlabel(r'$\\rho_2$', fontsize=16)\n",
    "    ax.xaxis.set_label_position('top')\n",
    "    ax.set_ylabel(r'$\\rho_1$', rotation=0, fontsize=16)\n",
    "    ax.yaxis.set_label_position('right')\n",
    "\n",
    "    # Draw (t1, t2) points\n",
    "    rho1 = np.linspace(-2, 2, 100)\n",
    "    ax.plot(rho1, -abs(rho1) + 1, c='black')\n",
    "    ax.plot(rho1, np.ones_like(rho1) * -1, c='black')\n",
    "    ax.plot(rho1, -(rho1**2 / 4), c='black')\n",
    "\n",
    "    # Turn normal axes off\n",
    "    for spine in ['left', 'bottom', 'top', 'right']:\n",
    "        ax.spines[spine].set_visible(False)\n",
    "\n",
    "    # Add arrows to represent axes\n",
    "    axes_arrows = {'arrowstyle': '<|-|>', 'lw': 1.3}\n",
    "    ax.annotate('', xy=(xmin, 0), xytext=(xmax, 0), arrowprops=axes_arrows)\n",
    "    ax.annotate('', xy=(0, ymin), xytext=(0, ymax), arrowprops=axes_arrows)\n",
    "\n",
    "    # Annotate the plot with equations\n",
    "    plot_arrowsl = {'arrowstyle': '-|>', 'connectionstyle': \"arc3, rad=-0.2\"}\n",
    "    plot_arrowsr = {'arrowstyle': '-|>', 'connectionstyle': \"arc3, rad=0.2\"}\n",
    "    ax.annotate(r'$\\rho_1 + \\rho_2 < 1$', xy=(0.5, 0.3), xytext=(0.8, 0.6),\n",
    "                arrowprops=plot_arrowsr, fontsize='12')\n",
    "    ax.annotate(r'$\\rho_1 + \\rho_2 = 1$', xy=(0.38, 0.6), xytext=(0.6, 0.8),\n",
    "                arrowprops=plot_arrowsr, fontsize='12')\n",
    "    ax.annotate(r'$\\rho_2 < 1 + \\rho_1$', xy=(-0.5, 0.3), xytext=(-1.3, 0.6),\n",
    "                arrowprops=plot_arrowsl, fontsize='12')\n",
    "    ax.annotate(r'$\\rho_2 = 1 + \\rho_1$', xy=(-0.38, 0.6), xytext=(-1, 0.8),\n",
    "                arrowprops=plot_arrowsl, fontsize='12')\n",
    "    ax.annotate(r'$\\rho_2 = -1$', xy=(1.5, -1), xytext=(1.8, -1.3),\n",
    "                arrowprops=plot_arrowsl, fontsize='12')\n",
    "    ax.annotate(r'${\\rho_1}^2 + 4\\rho_2 = 0$', xy=(1.15, -0.35),\n",
    "                xytext=(1.5, -0.3), arrowprops=plot_arrowsr, fontsize='12')\n",
    "    ax.annotate(r'${\\rho_1}^2 + 4\\rho_2 < 0$', xy=(1.4, -0.7),\n",
    "                xytext=(1.8, -0.6), arrowprops=plot_arrowsr, fontsize='12')\n",
    "\n",
    "    # Label categories of solutions\n",
    "    ax.text(1.5, 1, 'Explosive\\n growth', ha='center', fontsize=16)\n",
    "    ax.text(-1.5, 1, 'Explosive\\n oscillations', ha='center', fontsize=16)\n",
    "    ax.text(0.05, -1.5, 'Explosive oscillations', ha='center', fontsize=16)\n",
    "    ax.text(0.09, -0.5, 'Damped oscillations', ha='center', fontsize=16)\n",
    "\n",
    "    # Add small marker to y-axis\n",
    "    ax.axhline(y=1.005, xmin=0.495, xmax=0.505, c='black')\n",
    "    ax.text(-0.12, -1.12, '-1', fontsize=10)\n",
    "    ax.text(-0.12, 0.98, '1', fontsize=10)\n",
    "\n",
    "    return fig\n",
    "\n",
    "param_plot()\n",
    "plt.show()"
   ]
  },
  {
   "cell_type": "code",
   "execution_count": null,
   "metadata": {
    "collapsed": true
   },
   "outputs": [],
   "source": [
    "def categorize_solution(rho1, rho2):\n",
    "    \"\"\"this function takes values of rho1 and rho2 and uses them to classify the type of solution\"\"\"\n",
    "\n",
    "    discriminant = rho1 ** 2 + 4 * rho2\n",
    "    if rho2 > 1 + rho1 or rho2 < -1:\n",
    "        print('Explosive oscillations')\n",
    "    elif rho1 + rho2 > 1:\n",
    "        print('Explosive growth')\n",
    "    elif discriminant < 0:\n",
    "        print('Roots are complex with modulus less than one; therefore damped oscillations')\n",
    "    else:\n",
    "        print('Roots are real and absolute values are less than zero; therefore get smooth convergence to a steady state')"
   ]
  },
  {
   "cell_type": "code",
   "execution_count": null,
   "metadata": {
    "collapsed": true
   },
   "outputs": [],
   "source": [
    "### Test the categorize_solution function\n",
    "\n",
    "categorize_solution(1.3, -.4)"
   ]
  },
  {
   "cell_type": "markdown",
   "metadata": {},
   "source": [
    "```none\n",
    "Roots are real and absolute values are less than zero; therefore get smooth convergence to a steady state\n",
    "```\n"
   ]
  },
  {
   "cell_type": "code",
   "execution_count": null,
   "metadata": {
    "collapsed": true
   },
   "outputs": [],
   "source": [
    "def plot_y(function=None):\n",
    "    \"\"\"function plots path of Y_t\"\"\"\n",
    "    plt.subplots(figsize=(12, 8))\n",
    "    plt.plot(function)\n",
    "    plt.xlabel('Time $t$')\n",
    "    plt.ylabel('$Y_t$', rotation=0)\n",
    "    plt.grid()\n",
    "    plt.show()"
   ]
  },
  {
   "cell_type": "code",
   "execution_count": null,
   "metadata": {
    "collapsed": true
   },
   "outputs": [],
   "source": [
    "from cmath import sqrt\n",
    "\n",
    "##=== This is a 'manual' method ===#\n",
    "\n",
    "def y_nonstochastic(y_0=100, y_1=80, alpha=.92, beta=.5, gamma=10, n=80):\n",
    "\n",
    "    \"\"\"Takes values of parameters and computes roots of characteristic polynomial.\n",
    "       It tells whether they are real or complex and whether they are less than unity in absolute value.\n",
    "       It also computes a simulation of length n starting from the two given initial conditions for national income\"\"\"\n",
    "\n",
    "    roots = []\n",
    "\n",
    "    rho1 = alpha + beta\n",
    "    rho2 = -beta\n",
    "\n",
    "    print('rho_1 is ', rho1)\n",
    "    print('rho_2 is ', rho2)\n",
    "\n",
    "    discriminant = rho1 ** 2 + 4 * rho2\n",
    "\n",
    "    if discriminant == 0:\n",
    "        roots.append(-rho1 / 2)\n",
    "        print('Single real root: ')\n",
    "        print(''.join(str(roots)))\n",
    "    elif discriminant > 0:\n",
    "        roots.append((-rho1 + sqrt(discriminant).real) / 2)\n",
    "        roots.append((-rho1 - sqrt(discriminant).real) / 2)\n",
    "        print('Two real roots: ')\n",
    "        print(''.join(str(roots)))\n",
    "    else:\n",
    "        roots.append((-rho1 + sqrt(discriminant)) / 2)\n",
    "        roots.append((-rho1 - sqrt(discriminant)) / 2)\n",
    "        print('Two complex roots: ')\n",
    "        print(''.join(str(roots)))\n",
    "\n",
    "    if all(abs(root) < 1 for root in roots):\n",
    "        print('Absolute values of roots are less than one')\n",
    "    else:\n",
    "        print('Absolute values of roots are not less than one')\n",
    "\n",
    "    def transition(x, t): return rho1 * x[t - 1] + rho2 * x[t - 2] + gamma\n",
    "\n",
    "    y_t = [y_0, y_1]\n",
    "\n",
    "    for t in range(2, n):\n",
    "        y_t.append(transition(y_t, t))\n",
    "\n",
    "    return y_t\n",
    "\n",
    "plot_y(y_nonstochastic())"
   ]
  },
  {
   "cell_type": "markdown",
   "metadata": {},
   "source": [
    "```none\n",
    "rho_1 is  1.42\n",
    "rho_2 is  -0.5\n",
    "Two real roots:\n",
    "[-0.6459687576256715, -0.7740312423743284]\n",
    "Absolute values of roots are less than one\n",
    "```\n"
   ]
  },
  {
   "cell_type": "code",
   "execution_count": null,
   "metadata": {
    "collapsed": true
   },
   "outputs": [],
   "source": [
    "### code to reverse engineer a  cycle\n",
    "### y_t = r^t (c_1 cos(phi t) + c2 sin(phi t))\n",
    "###\n",
    "\n",
    "import cmath\n",
    "import math\n",
    "\n",
    "def f(r, phi):\n",
    "    \"\"\"\n",
    "    Takes modulus r and angle phi of complex number r exp(j phi)\n",
    "    and creates rho1 and rho2 of characteristic polynomial for which\n",
    "    r exp(j phi) and r exp(- j phi) are complex roots.\n",
    "\n",
    "    Returns the multiplier coefficient a and the accelerator coefficient b\n",
    "    that verifies those roots.\n",
    "    \"\"\"\n",
    "    g1 = cmath.rect(r, phi)  # Generate two complex roots\n",
    "    g2 = cmath.rect(r, -phi)\n",
    "    rho1 = g1 + g2           # Implied rho1, rho2\n",
    "    rho2 = -g1 * g2\n",
    "    b = -rho2                # Reverse engineer a and b that validate these\n",
    "    a = rho1 - b\n",
    "    return rho1, rho2, a, b\n",
    "\n",
    "## Now let's use the function in an example\n",
    "## Here are the example paramters\n",
    "\n",
    "r = .95\n",
    "period = 10   # Length of cycle in units of time\n",
    "phi = 2 * math.pi/period\n",
    "\n",
    "## Apply the function\n",
    "\n",
    "rho1, rho2, a, b = f(r, phi)\n",
    "\n",
    "print(\"a, b = \", a, b)\n",
    "print(\"rho1, rho2 =\", rho1, rho2)"
   ]
  },
  {
   "cell_type": "markdown",
   "metadata": {},
   "source": [
    "```none\n",
    "a, b =  (0.6346322893124001+0j) (0.9024999999999999-0j)\n",
    "rho1, rho2 = (1.5371322893124+0j) (-0.9024999999999999+0j)\n",
    "```\n"
   ]
  },
  {
   "cell_type": "code",
   "execution_count": null,
   "metadata": {
    "collapsed": true
   },
   "outputs": [],
   "source": [
    "## Print the real components of rho1 and rho2\n",
    "\n",
    "rho1 = rho1.real\n",
    "rho2 = rho2.real\n",
    "\n",
    "rho1, rho2"
   ]
  },
  {
   "cell_type": "markdown",
   "metadata": {},
   "source": [
    "```none\n",
    "(1.5371322893124, -0.9024999999999999)\n",
    "```\n"
   ]
  },
  {
   "cell_type": "code",
   "execution_count": null,
   "metadata": {
    "collapsed": true
   },
   "outputs": [],
   "source": [
    "r1, r2 = np.roots([1, -rho1, -rho2])\n",
    "\n",
    "p1 = cmath.polar(r1)\n",
    "p2 = cmath.polar(r2)\n",
    "\n",
    "print(\"r, phi =\", r, phi)\n",
    "print(\"p1, p2 = \", p1, p2)\n",
    "# print(\"g1, g2 = \", g1, g2)\n",
    "\n",
    "print(\"a, b =\", a, b)\n",
    "print(\"rho1, rho2 =\", rho1, rho2)"
   ]
  },
  {
   "cell_type": "markdown",
   "metadata": {},
   "source": [
    "```none\n",
    "r, phi = 0.95 0.6283185307179586\n",
    "p1, p2 =  (0.95, 0.6283185307179586) (0.95, -0.6283185307179586)\n",
    "a, b = (0.6346322893124001+0j) (0.9024999999999999-0j)\n",
    "rho1, rho2 = 1.5371322893124 -0.9024999999999999\n",
    "```\n"
   ]
  },
  {
   "cell_type": "code",
   "execution_count": null,
   "metadata": {
    "collapsed": true
   },
   "outputs": [],
   "source": [
    "##=== This method uses numpy to calculate roots ===#\n",
    "\n",
    "\n",
    "def y_nonstochastic(y_0=100, y_1=80, alpha=.9, beta=.8, gamma=10, n=80):\n",
    "\n",
    "    \"\"\" Rather than computing the roots of the characteristic polynomial by hand as we did earlier, this function\n",
    "    enlists numpy to do the work for us \"\"\"\n",
    "\n",
    "    # Useful constants\n",
    "    rho1 = alpha + beta\n",
    "    rho2 = -beta\n",
    "\n",
    "    categorize_solution(rho1, rho2)\n",
    "\n",
    "    # Find roots of polynomial\n",
    "    roots = np.roots([1, -rho1, -rho2])\n",
    "    print('Roots are', roots)\n",
    "\n",
    "    # Check if real or complex\n",
    "    if all(isinstance(root, complex) for root in roots):\n",
    "        print('Roots are complex')\n",
    "    else:\n",
    "        print('Roots are real')\n",
    "\n",
    "    # Check if roots are less than one\n",
    "    if all(abs(root) < 1 for root in roots):\n",
    "        print('Roots are less than one')\n",
    "    else:\n",
    "        print('Roots are not less than one')\n",
    "\n",
    "    # Define transition equation\n",
    "    def transition(x, t): return rho1 * x[t - 1] + rho2 * x[t - 2] + gamma\n",
    "\n",
    "    # Set initial conditions\n",
    "    y_t = [y_0, y_1]\n",
    "\n",
    "    # Generate y_t series\n",
    "    for t in range(2, n):\n",
    "        y_t.append(transition(y_t, t))\n",
    "\n",
    "    return y_t\n",
    "\n",
    "plot_y(y_nonstochastic())"
   ]
  },
  {
   "cell_type": "markdown",
   "metadata": {},
   "source": [
    "```none\n",
    "Roots are complex with modulus less than one; therefore damped oscillations\n",
    "Roots are [ 0.85+0.27838822j  0.85-0.27838822j]\n",
    "Roots are complex\n",
    "Roots are less than one\n",
    "```\n"
   ]
  },
  {
   "cell_type": "code",
   "execution_count": null,
   "metadata": {
    "collapsed": true
   },
   "outputs": [],
   "source": [
    "r = 1   # generates undamped, nonexplosive cycles\n",
    "\n",
    "period = 10   #  length of cycle in units of time\n",
    "phi = 2 * math.pi/period\n",
    "\n",
    "## Apply the reverse engineering function f\n",
    "\n",
    "rho1, rho2, a, b = f(r, phi)\n",
    "\n",
    "a = a.real  # drop the imaginary part so that it is a valid input into y_nonstochastic\n",
    "b = b.real\n",
    "\n",
    "print(\"a, b =\", a, b)\n",
    "\n",
    "ytemp = y_nonstochastic(alpha=a, beta=b, y_0=20, y_1=30)\n",
    "plot_y(ytemp)"
   ]
  },
  {
   "cell_type": "markdown",
   "metadata": {},
   "source": [
    "```none\n",
    "a, b = 0.6180339887498949 1.0\n",
    "Roots are complex with modulus less than one; therefore damped oscillations\n",
    "Roots are [ 0.80901699+0.58778525j  0.80901699-0.58778525j]\n",
    "Roots are complex\n",
    "Roots are less than one\n",
    "```\n"
   ]
  },
  {
   "cell_type": "code",
   "execution_count": null,
   "metadata": {
    "collapsed": true
   },
   "outputs": [],
   "source": [
    "import sympy\n",
    "from sympy import Symbol, init_printing\n",
    "init_printing()\n",
    "\n",
    "r1 = Symbol(\"rho_1\")\n",
    "r2 = Symbol(\"rho_2\")\n",
    "z = Symbol(\"z\")\n",
    "\n",
    "sympy.solve(z**2 - r1*z - r2, z)"
   ]
  },
  {
   "cell_type": "code",
   "execution_count": null,
   "metadata": {
    "collapsed": true
   },
   "outputs": [],
   "source": [
    "a = Symbol(\"alpha\")\n",
    "b = Symbol(\"beta\")\n",
    "r1 = a + b\n",
    "r2 = -b\n",
    "\n",
    "sympy.solve(z**2 - r1*z - r2, z)"
   ]
  },
  {
   "cell_type": "code",
   "execution_count": null,
   "metadata": {
    "collapsed": true
   },
   "outputs": [],
   "source": [
    "def y_stochastic(y_0=0, y_1=0, alpha=0.8, beta=0.2, gamma=10, n=100, sigma=5):\n",
    "\n",
    "    \"\"\"This function takes parameters of a stochastic version of the model and proceeds to analyze\n",
    "    the roots of the characteristic polynomial and also generate a simulation\"\"\"\n",
    "\n",
    "    # Useful constants\n",
    "    rho1 = alpha + beta\n",
    "    rho2 = -beta\n",
    "\n",
    "    # Categorize solution\n",
    "    categorize_solution(rho1, rho2)\n",
    "\n",
    "    # Find roots of polynomial\n",
    "    roots = np.roots([1, -rho1, -rho2])\n",
    "    print(roots)\n",
    "\n",
    "    # Check if real or complex\n",
    "    if all(isinstance(root, complex) for root in roots):\n",
    "        print('Roots are complex')\n",
    "    else:\n",
    "        print('Roots are real')\n",
    "\n",
    "    # Check if roots are less than one\n",
    "    if all(abs(root) < 1 for root in roots):\n",
    "        print('Roots are less than one')\n",
    "    else:\n",
    "        print('Roots are not less than one')\n",
    "\n",
    "    # Generate shocks\n",
    "    epsilon = np.random.normal(0, 1, n)\n",
    "\n",
    "    # Define transition equation\n",
    "    def transition(x, t): return rho1 * \\\n",
    "        x[t - 1] + rho2 * x[t - 2] + gamma + sigma * epsilon[t]\n",
    "\n",
    "    # Set initial conditions\n",
    "    y_t = [y_0, y_1]\n",
    "\n",
    "    # Generate y_t series\n",
    "    for t in range(2, n):\n",
    "        y_t.append(transition(y_t, t))\n",
    "\n",
    "    return y_t\n",
    "\n",
    "plot_y(y_stochastic())"
   ]
  },
  {
   "cell_type": "markdown",
   "metadata": {},
   "source": [
    "```none\n",
    "Roots are real and absolute values are less than zero; therefore get smooth convergence to a steady state\n",
    "[ 0.7236068  0.2763932]\n",
    "Roots are real\n",
    "Roots are less than one\n",
    "```\n"
   ]
  },
  {
   "cell_type": "code",
   "execution_count": null,
   "metadata": {
    "collapsed": true
   },
   "outputs": [],
   "source": [
    "r = .97\n",
    "\n",
    "period = 10   #  length of cycle in units of time\n",
    "phi = 2 * math.pi/period\n",
    "\n",
    "### apply the  reverse engineering function f\n",
    "\n",
    "rho1, rho2, a, b = f(r, phi)\n",
    "\n",
    "a = a.real  # drop the imaginary part so that it is a valid input into y_nonstochastic\n",
    "b = b.real\n",
    "\n",
    "print(\"a, b = \", a, b)\n",
    "plot_y(y_stochastic(y_0=40, y_1 = 42, alpha=a, beta=b, sigma=2, n=100))"
   ]
  },
  {
   "cell_type": "markdown",
   "metadata": {},
   "source": [
    "```none\n",
    "a, b =  0.6285929690873979 0.9409000000000001\n",
    "Roots are complex with modulus less than one; therefore damped oscillations\n",
    "[ 0.78474648+0.57015169j  0.78474648-0.57015169j]\n",
    "Roots are complex\n",
    "Roots are less than one\n",
    "```\n"
   ]
  },
  {
   "cell_type": "code",
   "execution_count": null,
   "metadata": {
    "collapsed": true
   },
   "outputs": [],
   "source": [
    "def y_stochastic_g(y_0=20,\n",
    "                   y_1=20,\n",
    "                   alpha=0.8,\n",
    "                   beta=0.2,\n",
    "                   gamma=10,\n",
    "                   n=100,\n",
    "                   sigma=2,\n",
    "                   g=0,\n",
    "                   g_t=0,\n",
    "                   duration='permanent'):\n",
    "\n",
    "    \"\"\"This program computes a response to a permanent increase in government expenditures that occurs\n",
    "       at time 20\"\"\"\n",
    "\n",
    "    # Useful constants\n",
    "    rho1 = alpha + beta\n",
    "    rho2 = -beta\n",
    "\n",
    "    # Categorize solution\n",
    "    categorize_solution(rho1, rho2)\n",
    "\n",
    "    # Find roots of polynomial\n",
    "    roots = np.roots([1, -rho1, -rho2])\n",
    "    print(roots)\n",
    "\n",
    "    # Check if real or complex\n",
    "    if all(isinstance(root, complex) for root in roots):\n",
    "        print('Roots are complex')\n",
    "    else:\n",
    "        print('Roots are real')\n",
    "\n",
    "    # Check if roots are less than one\n",
    "    if all(abs(root) < 1 for root in roots):\n",
    "        print('Roots are less than one')\n",
    "    else:\n",
    "        print('Roots are not less than one')\n",
    "\n",
    "    # Generate shocks\n",
    "    epsilon = np.random.normal(0, 1, n)\n",
    "\n",
    "    def transition(x, t, g):\n",
    "\n",
    "        # Non-stochastic - separated to avoid generating random series when not needed\n",
    "        if sigma == 0:\n",
    "            return rho1 * x[t - 1] + rho2 * x[t - 2] + gamma + g\n",
    "\n",
    "        # Stochastic\n",
    "        else:\n",
    "            epsilon = np.random.normal(0, 1, n)\n",
    "            return rho1 * x[t - 1] + rho2 * x[t - 2] + gamma + g + sigma * epsilon[t]\n",
    "\n",
    "    # Create list and set initial conditions\n",
    "    y_t = [y_0, y_1]\n",
    "\n",
    "    # Generate y_t series\n",
    "    for t in range(2, n):\n",
    "\n",
    "        # No government spending\n",
    "        if g == 0:\n",
    "            y_t.append(transition(y_t, t))\n",
    "\n",
    "        # Government spending (no shock)\n",
    "        elif g != 0 and duration == None:\n",
    "            y_t.append(transition(y_t, t))\n",
    "\n",
    "        # Permanent government spending shock\n",
    "        elif duration == 'permanent':\n",
    "            if t < g_t:\n",
    "                y_t.append(transition(y_t, t, g=0))\n",
    "            else:\n",
    "                y_t.append(transition(y_t, t, g=g))\n",
    "\n",
    "        # One-off government spending shock\n",
    "        elif duration == 'one-off':\n",
    "            if t == g_t:\n",
    "                y_t.append(transition(y_t, t, g=g))\n",
    "            else:\n",
    "                y_t.append(transition(y_t, t, g=0))\n",
    "    return y_t"
   ]
  },
  {
   "cell_type": "code",
   "execution_count": null,
   "metadata": {
    "collapsed": true
   },
   "outputs": [],
   "source": [
    "plot_y(y_stochastic_g(g=10, g_t=20, duration='permanent'))"
   ]
  },
  {
   "cell_type": "markdown",
   "metadata": {},
   "source": [
    "```none\n",
    "Roots are real and absolute values are less than zero; therefore get smooth convergence to a steady state\n",
    "[ 0.7236068  0.2763932]\n",
    "Roots are real\n",
    "Roots are less than one\n",
    "```\n"
   ]
  },
  {
   "cell_type": "code",
   "execution_count": null,
   "metadata": {
    "collapsed": true
   },
   "outputs": [],
   "source": [
    "plot_y(y_stochastic_g(g=500, g_t=50, duration='one-off'))"
   ]
  },
  {
   "cell_type": "markdown",
   "metadata": {},
   "source": [
    "```none\n",
    "Roots are real and absolute values are less than zero; therefore get smooth convergence to a steady state\n",
    "[ 0.7236068  0.2763932]\n",
    "Roots are real\n",
    "Roots are less than one\n",
    "```\n"
   ]
  },
  {
   "cell_type": "code",
   "execution_count": null,
   "metadata": {
    "collapsed": true
   },
   "outputs": [],
   "source": [
    "class Samuelson():\n",
    "\n",
    "    r\"\"\"This class represents the Samuelson model, otherwise known as the\n",
    "    multiple-accelerator model. The model combines the Keynesian multipler\n",
    "    with the accelerator theory of investment.\n",
    "\n",
    "    The path of output is governed by a linear second-order difference equation\n",
    "\n",
    "    .. math::\n",
    "\n",
    "        Y_t =  + \\alpha (1 + \\beta) Y_{t-1} - \\alpha \\beta Y_{t-2}\n",
    "\n",
    "    Parameters\n",
    "    ----------\n",
    "    y_0 : scalar\n",
    "        Initial condition for Y_0\n",
    "    y_1 : scalar\n",
    "        Initial condition for Y_1\n",
    "    alpha : scalar\n",
    "        Marginal propensity to consume\n",
    "    beta : scalar\n",
    "        Accelerator coefficient\n",
    "    n : int\n",
    "        Number of iterations\n",
    "    sigma : scalar\n",
    "        Volatility parameter. Must be greater than or equal to 0. Set\n",
    "        equal to 0 for non-stochastic model.\n",
    "    g : scalar\n",
    "        Government spending shock\n",
    "    g_t : int\n",
    "        Time at which government spending shock occurs. Must be specified\n",
    "        when duration != None.\n",
    "    duration : {None, 'permanent', 'one-off'}\n",
    "        Specifies type of government spending shock. If none, government\n",
    "        spending equal to g for all t.\n",
    "\n",
    "    \"\"\"\n",
    "\n",
    "    def __init__(self,\n",
    "                 y_0=100,\n",
    "                 y_1=50,\n",
    "                 alpha=1.3,\n",
    "                 beta=0.2,\n",
    "                 gamma=10,\n",
    "                 n=100,\n",
    "                 sigma=0,\n",
    "                 g=0,\n",
    "                 g_t=0,\n",
    "                 duration=None):\n",
    "\n",
    "        self.y_0, self.y_1, self.alpha, self.beta = y_0, y_1, alpha, beta\n",
    "        self.n, self.g, self.g_t, self.duration = n, g, g_t, duration\n",
    "        self.gamma, self.sigma = gamma, sigma\n",
    "        self.rho1 = alpha + beta\n",
    "        self.rho2 = -beta\n",
    "        self.roots = np.roots([1, -self.rho1, -self.rho2])\n",
    "\n",
    "    def root_type(self):\n",
    "        if all(isinstance(root, complex) for root in self.roots):\n",
    "            return 'Complex conjugate'\n",
    "        elif len(self.roots) > 1:\n",
    "            return 'Double real'\n",
    "        else:\n",
    "            return 'Single real'\n",
    "\n",
    "    def root_less_than_one(self):\n",
    "        if all(abs(root) < 1 for root in self.roots):\n",
    "            return True\n",
    "\n",
    "    def solution_type(self):\n",
    "        rho1, rho2 = self.rho1, self.rho2\n",
    "        discriminant = rho1 ** 2 + 4 * rho2\n",
    "        if rho2 >= 1 + rho1 or rho2 <= -1:\n",
    "            return 'Explosive oscillations'\n",
    "        elif rho1 + rho2 >= 1:\n",
    "            return 'Explosive growth'\n",
    "        elif discriminant < 0:\n",
    "            return 'Damped oscillations'\n",
    "        else:\n",
    "            return 'Steady state'\n",
    "\n",
    "    def _transition(self, x, t, g):\n",
    "\n",
    "        # Non-stochastic - separated to avoid generating random series when not needed\n",
    "        if self.sigma == 0:\n",
    "            return self.rho1 * x[t - 1] + self.rho2 * x[t - 2] + self.gamma + g\n",
    "\n",
    "        # Stochastic\n",
    "        else:\n",
    "            epsilon = np.random.normal(0, 1, self.n)\n",
    "            return self.rho1 * x[t - 1] + self.rho2 * x[t - 2] + self.gamma + g + self.sigma * epsilon[t]\n",
    "\n",
    "    def generate_series(self):\n",
    "\n",
    "        # Create list and set initial conditions\n",
    "        y_t = [self.y_0, self.y_1]\n",
    "\n",
    "        # Generate y_t series\n",
    "        for t in range(2, self.n):\n",
    "\n",
    "            # No government spending\n",
    "            if self.g == 0:\n",
    "                y_t.append(self._transition(y_t, t))\n",
    "\n",
    "            # Government spending (no shock)\n",
    "            elif self.g != 0 and self.duration == None:\n",
    "                y_t.append(self._transition(y_t, t))\n",
    "\n",
    "            # Permanent government spending shock\n",
    "            elif self.duration == 'permanent':\n",
    "                if t < self.g_t:\n",
    "                    y_t.append(self._transition(y_t, t, g=0))\n",
    "                else:\n",
    "                    y_t.append(self._transition(y_t, t, g=self.g))\n",
    "\n",
    "            # One-off government spending shock\n",
    "            elif self.duration == 'one-off':\n",
    "                if t == self.g_t:\n",
    "                    y_t.append(self._transition(y_t, t, g=self.g))\n",
    "                else:\n",
    "                    y_t.append(self._transition(y_t, t, g=0))\n",
    "        return y_t\n",
    "\n",
    "    def summary(self):\n",
    "        print('Summary\\n' + '-' * 50)\n",
    "        print('Root type: ' + self.root_type())\n",
    "        print('Solution type: ' + self.solution_type())\n",
    "        print('Roots: ' + str(self.roots))\n",
    "\n",
    "        if self.root_less_than_one() == True:\n",
    "            print('Absolute value of roots is less than one')\n",
    "        else:\n",
    "            print('Absolute value of roots is not less than one')\n",
    "\n",
    "        if self.sigma > 0:\n",
    "            print('Stochastic series with sigma = ' + str(self.sigma))\n",
    "        else:\n",
    "            print('Non-stochastic series')\n",
    "\n",
    "        if self.g != 0:\n",
    "            print('Government spending equal to ' + str(self.g))\n",
    "\n",
    "        if self.duration != None:\n",
    "            print(self.duration.capitalize() +\n",
    "                  ' government spending shock at t = ' + str(self.g_t))\n",
    "\n",
    "    def plot(self):\n",
    "        fig, ax = plt.subplots(figsize=(12, 8))\n",
    "        ax.plot(self.generate_series())\n",
    "        ax.set(xlabel='Iteration', xlim=(0, self.n))\n",
    "        ax.set_ylabel('$Y_t$', rotation=0)\n",
    "        ax.grid()\n",
    "\n",
    "        # Add parameter values to plot\n",
    "        paramstr = '$\\\\alpha=%.2f$\\n$\\\\beta=%.2f$\\n$\\\\gamma=%.2f$\\n$\\\\sigma=%.2f$\\n$\\\\rho_1=%.2f$\\n$\\\\rho_2=%.2f$'%(\n",
    "                    self.alpha, self.beta, self.gamma, self.sigma, self.rho1, self.rho2)\n",
    "        props = dict(fc='white', pad=10, alpha=0.5)\n",
    "        ax.text(0.87, 0.05, paramstr, transform=ax.transAxes,\n",
    "                fontsize=12, bbox=props, va='bottom')\n",
    "\n",
    "        return fig\n",
    "\n",
    "    def param_plot(self):\n",
    "\n",
    "        # Uses the param_plot() function defined earlier (it is then able\n",
    "        # to be used standalone or as part of the model)\n",
    "\n",
    "        fig = param_plot()\n",
    "        ax = fig.gca()\n",
    "\n",
    "        # Add lambda values to legend\n",
    "        for i, root in enumerate(self.roots):\n",
    "            if isinstance(root, complex):\n",
    "                operator = ['+', ''] # Need to fill operator for positive as string is split apart\n",
    "                label = r'$\\lambda_{0} = {1.real:.2f} {2} {1.imag:.2f}i$'.format(i+1, sam.roots[i], operator[i])\n",
    "            else:\n",
    "                label = r'$\\lambda_{0} = {1.real:.2f}$'.format(i+1, sam.roots[i])\n",
    "            ax.scatter(0, 0, 0, label=label) # dummy to add to legend\n",
    "\n",
    "        # Add rho pair to plot\n",
    "        ax.scatter(self.rho1, self.rho2, 100, 'red', '+', label=r'$(\\ \\rho_1, \\ \\rho_2 \\ )$', zorder=5)\n",
    "\n",
    "        plt.legend(fontsize=12, loc=3)\n",
    "\n",
    "        return fig"
   ]
  },
  {
   "cell_type": "code",
   "execution_count": null,
   "metadata": {
    "collapsed": true
   },
   "outputs": [],
   "source": [
    "sam = Samuelson(alpha=0.8, beta=0.5, sigma=2, g=10, g_t=20, duration='permanent')\n",
    "sam.summary()"
   ]
  },
  {
   "cell_type": "markdown",
   "metadata": {},
   "source": [
    "```none\n",
    "Summary\n",
    "---------------------------------------------------------\n",
    "Root type: Complex conjugate\n",
    "Solution type: Damped oscillations\n",
    "Roots: [ 0.65+0.27838822j  0.65-0.27838822j]\n",
    "Absolute value of roots is less than one\n",
    "Stochastic series with sigma = 2\n",
    "Government spending equal to 10\n",
    "Permanent government spending shock at t = 20\n",
    "```\n"
   ]
  },
  {
   "cell_type": "code",
   "execution_count": null,
   "metadata": {
    "collapsed": true
   },
   "outputs": [],
   "source": [
    "sam.plot()\n",
    "plt.show()"
   ]
  },
  {
   "cell_type": "code",
   "execution_count": null,
   "metadata": {
    "collapsed": true
   },
   "outputs": [],
   "source": [
    "sam.param_plot()\n",
    "plt.show()"
   ]
  },
  {
   "cell_type": "code",
   "execution_count": null,
   "metadata": {
    "collapsed": true
   },
   "outputs": [],
   "source": [
    "from quantecon import LinearStateSpace\n",
    "\n",
    "\"\"\" This script maps the Samuelson model in the the LinearStateSpace class\"\"\"\n",
    "alpha = 0.8\n",
    "beta = 0.9\n",
    "rho1 = alpha + beta\n",
    "rho2 = -beta\n",
    "gamma = 10\n",
    "sigma = 1\n",
    "g = 10\n",
    "n = 100\n",
    "\n",
    "A = [[1,        0,        0],\n",
    "     [gamma + g, rho1, rho2],\n",
    "     [0,        1,        0]]\n",
    "\n",
    "G = [[gamma + g, rho1, rho2],         # this is Y_{t+1}\n",
    "     [gamma,    alpha,    0],         # this is C_{t+1}\n",
    "     [0,     beta,    -beta]]         # this is I_{t+1}\n",
    "\n",
    "mu_0 = [1, 100, 100]\n",
    "C = np.zeros((3,1))\n",
    "C[1] = sigma # stochastic\n",
    "\n",
    "sam_t = LinearStateSpace(A, C, G, mu_0=mu_0)\n",
    "\n",
    "x, y = sam_t.simulate(ts_length=n)\n",
    "\n",
    "fig, axes = plt.subplots(3, 1, sharex=True, figsize=(15, 8))\n",
    "titles = ['Output ($Y_t$)', 'Consumption ($C_t$)', 'Investment ($I_t$)']\n",
    "colors = ['darkblue', 'red', 'purple']\n",
    "for ax, series, title, color in zip(axes, y, titles, colors):\n",
    "    ax.plot(series, color=color)\n",
    "    ax.set(title=title, xlim=(0, n))\n",
    "    ax.grid()\n",
    "\n",
    "axes[-1].set_xlabel('Iteration')\n",
    "\n",
    "plt.show()"
   ]
  },
  {
   "cell_type": "code",
   "execution_count": null,
   "metadata": {
    "collapsed": true
   },
   "outputs": [],
   "source": [
    "imres = sam_t.impulse_response()\n",
    "imres = np.asarray(imres)\n",
    "y1 = imres[:, :, 0]\n",
    "y2 = imres[:, :, 1]\n",
    "y1.shape"
   ]
  },
  {
   "cell_type": "code",
   "execution_count": null,
   "metadata": {
    "collapsed": true
   },
   "outputs": [],
   "source": [
    "A = np.asarray(A)\n",
    "w, v = np.linalg.eig(A)\n",
    "print(w)"
   ]
  },
  {
   "cell_type": "markdown",
   "metadata": {},
   "source": [
    "```none\n",
    "[ 0.85+0.42130749j  0.85-0.42130749j  1.00+0.j        ]\n",
    "```\n"
   ]
  },
  {
   "cell_type": "code",
   "execution_count": null,
   "metadata": {
    "collapsed": true
   },
   "outputs": [],
   "source": [
    "class SamuelsonLSS(LinearStateSpace):\n",
    "\n",
    "    \"\"\"\n",
    "    this subclass creates a Samuelson multiplier-accelerator model\n",
    "    as a linear state space system\n",
    "    \"\"\"\n",
    "    def __init__(self,\n",
    "                 y_0=100,\n",
    "                 y_1=100,\n",
    "                 alpha=0.8,\n",
    "                 beta=0.9,\n",
    "                 gamma=10,\n",
    "                 sigma=1,\n",
    "                 g=10):\n",
    "\n",
    "        self.alpha, self.beta = alpha, beta\n",
    "        self.y_0, self.y_1, self.g = y_0, y_1, g\n",
    "        self.gamma, self.sigma = gamma, sigma\n",
    "\n",
    "        # Define intial conditions\n",
    "        self.mu_0 = [1, y_0, y_1]\n",
    "\n",
    "        self.rho1 = alpha + beta\n",
    "        self.rho2 = -beta\n",
    "\n",
    "        # Define transition matrix\n",
    "        self.A = [[1,                 0,         0],\n",
    "                  [gamma + g, self.rho1, self.rho2],\n",
    "                  [0,                 1,         0]]\n",
    "\n",
    "        # Define output matrix\n",
    "        self.G = [[gamma + g, self.rho1, self.rho2],         # this is Y_{t+1}\n",
    "                  [gamma,         alpha,         0],         # this is C_{t+1}\n",
    "                  [0,              beta,     -beta]]         # this is I_{t+1}\n",
    "\n",
    "        self.C = np.zeros((3, 1))\n",
    "        self.C[1] = sigma  # stochastic\n",
    "\n",
    "        # Initialize LSS with parameters from Samuleson model\n",
    "        LinearStateSpace.__init__(self, self.A, self.C, self.G, mu_0=self.mu_0)\n",
    "\n",
    "    def plot_simulation(self, ts_length=100, stationary=True):\n",
    "\n",
    "        # Temporarily store original parameters\n",
    "        temp_mu = self.mu_0\n",
    "        temp_Sigma = self.Sigma_0\n",
    "\n",
    "        # Set distribution parameters equal to their stationary values for simulation\n",
    "        if stationary == True:\n",
    "            try:\n",
    "                self.mu_x, self.mu_y, self.sigma_x, self.sigma_y = self.stationary_distributions()\n",
    "                self.mu_0 = self.mu_y\n",
    "                self.Sigma_0 = self.sigma_y\n",
    "            # Exception where no convergence achieved when calculating stationary distributions\n",
    "            except ValueError:\n",
    "                print('Stationary distribution does not exist')\n",
    "\n",
    "        x, y = self.simulate(ts_length)\n",
    "\n",
    "        fig, axes = plt.subplots(3, 1, sharex=True, figsize=(15, 8))\n",
    "        titles = ['Output ($Y_t$)', 'Consumption ($C_t$)', 'Investment ($I_t$)']\n",
    "        colors = ['darkblue', 'red', 'purple']\n",
    "        for ax, series, title, color in zip(axes, y, titles, colors):\n",
    "            ax.plot(series, color=color)\n",
    "            ax.set(title=title, xlim=(0, n))\n",
    "            ax.grid()\n",
    "\n",
    "        axes[-1].set_xlabel('Iteration')\n",
    "\n",
    "        # Reset distribution parameters to their initial values\n",
    "        self.mu_0 = temp_mu\n",
    "        self.Sigma_0 = temp_Sigma\n",
    "\n",
    "        return fig\n",
    "\n",
    "    def plot_irf(self, j=5):\n",
    "\n",
    "        x, y = self.impulse_response(j)\n",
    "\n",
    "        # Reshape into 3 x j matrix for plotting purposes\n",
    "        yimf = np.array(y).flatten().reshape(j+1, 3).T\n",
    "\n",
    "        fig, axes = plt.subplots(3, 1, sharex=True, figsize=(15, 8))\n",
    "        labels = ['$Y_t$', '$C_t$', '$I_t$']\n",
    "        colors = ['darkblue', 'red', 'purple']\n",
    "        for ax, series, label, color in zip(axes, yimf, labels, colors):\n",
    "            ax.plot(series, color=color)\n",
    "            ax.set(xlim=(0, j))\n",
    "            ax.set_ylabel(label, rotation=0, fontsize=14, labelpad=10)\n",
    "            ax.grid()\n",
    "\n",
    "        axes[0].set_title('Impulse Response Functions')\n",
    "        axes[-1].set_xlabel('Iteration')\n",
    "\n",
    "        return fig\n",
    "\n",
    "    def multipliers(self, j=5):\n",
    "        x, y = self.impulse_response(j)\n",
    "        return np.sum(np.array(y).flatten().reshape(j+1, 3), axis=0)"
   ]
  },
  {
   "cell_type": "code",
   "execution_count": null,
   "metadata": {
    "collapsed": true
   },
   "outputs": [],
   "source": [
    "samlss = SamuelsonLSS()"
   ]
  },
  {
   "cell_type": "code",
   "execution_count": null,
   "metadata": {
    "collapsed": true
   },
   "outputs": [],
   "source": [
    "samlss.plot_simulation(100, stationary=False)\n",
    "plt.show()"
   ]
  },
  {
   "cell_type": "code",
   "execution_count": null,
   "metadata": {
    "collapsed": true
   },
   "outputs": [],
   "source": [
    "samlss.plot_simulation(100, stationary=True)\n",
    "plt.show()"
   ]
  },
  {
   "cell_type": "code",
   "execution_count": null,
   "metadata": {
    "collapsed": true
   },
   "outputs": [],
   "source": [
    "samlss.plot_irf(100)\n",
    "plt.show()"
   ]
  },
  {
   "cell_type": "code",
   "execution_count": null,
   "metadata": {
    "collapsed": true
   },
   "outputs": [],
   "source": [
    "samlss.multipliers()"
   ]
  },
  {
   "cell_type": "markdown",
   "metadata": {},
   "source": [
    "```none\n",
    "array([ 7.414389,  6.835896,  0.578493])\n",
    "```\n"
   ]
  },
  {
   "cell_type": "code",
   "execution_count": null,
   "metadata": {
    "collapsed": true
   },
   "outputs": [],
   "source": [
    "pure_multiplier = SamuelsonLSS(alpha=0.95, beta=0)"
   ]
  },
  {
   "cell_type": "code",
   "execution_count": null,
   "metadata": {
    "collapsed": true
   },
   "outputs": [],
   "source": [
    "pure_multiplier.plot_simulation()"
   ]
  },
  {
   "cell_type": "markdown",
   "metadata": {},
   "source": [
    "```none\n",
    "Stationary distribution does not exist\n",
    "```\n"
   ]
  },
  {
   "cell_type": "code",
   "execution_count": null,
   "metadata": {
    "collapsed": true
   },
   "outputs": [],
   "source": [
    "pure_multiplier = SamuelsonLSS(alpha=0.8, beta=0)"
   ]
  },
  {
   "cell_type": "code",
   "execution_count": null,
   "metadata": {
    "collapsed": true
   },
   "outputs": [],
   "source": [
    "pure_multiplier.plot_simulation()"
   ]
  },
  {
   "cell_type": "code",
   "execution_count": null,
   "metadata": {
    "collapsed": true
   },
   "outputs": [],
   "source": [
    "pure_multiplier.plot_irf(100)"
   ]
  }
 ],
 "metadata": {
  "kernelspec": {
   "display_name": "Python 3",
   "language": "python",
   "name": "python3"
  },
  "language_info": {
   "codemirror_mode": {
    "name": "ipython",
    "version": 3
   },
   "file_extension": ".py",
   "mimetype": "text/x-python",
   "name": "python",
   "nbconvert_exporter": "python",
   "pygments_lexer": "ipython3",
   "version": "3.6.4"
  }
 },
 "nbformat": 4,
 "nbformat_minor": 2
}
