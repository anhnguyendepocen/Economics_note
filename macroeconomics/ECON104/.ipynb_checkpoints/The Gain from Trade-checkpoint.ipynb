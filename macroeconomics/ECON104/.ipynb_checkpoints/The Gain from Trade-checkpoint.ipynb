{
 "cells": [
  {
   "cell_type": "markdown",
   "metadata": {},
   "source": [
    "## introduction\n",
    "\n",
    "This unit focuses on the basis for trade and the benefits from trade. You will learn how to identify the producer who should specialize in the production of a product and you will learn how to calculate the benefits from trade and illustrate them on a model. You will also analyze the benefits of trade with the inclusion of the concepts of money and wages, production, and consumption possibilities frontiers."
   ]
  },
  {
   "cell_type": "code",
   "execution_count": null,
   "metadata": {
    "collapsed": true
   },
   "outputs": [],
   "source": []
  },
  {
   "cell_type": "markdown",
   "metadata": {},
   "source": [
    "\n",
    "\n",
    "![](http://slideplayer.com/6232443/20/images/46/The+Macroeconomic+Building+Blocks+A+Model+of+the+Economy+as+a+Whole.jpg)\n",
    "\n"
   ]
  },
  {
   "cell_type": "markdown",
   "metadata": {},
   "source": [
    "## Motivation\n",
    "\n",
    "https://www.youtube.com/watch?v=DbR9bpWV4io"
   ]
  },
  {
   "cell_type": "markdown",
   "metadata": {},
   "source": [
    "## Textbook\n",
    "\n",
    "https://cnx.org/contents/QGHIMgmO@10.235:sbA0IQv6@12/Absolute-and-Comparative-Advan\n",
    "\n",
    "### Online Video\n",
    "http://www.learner.org/workshops/economics/workshop5.html"
   ]
  }
 ],
 "metadata": {
  "kernelspec": {
   "display_name": "Python 3",
   "language": "python",
   "name": "python3"
  },
  "language_info": {
   "codemirror_mode": {
    "name": "ipython",
    "version": 3
   },
   "file_extension": ".py",
   "mimetype": "text/x-python",
   "name": "python",
   "nbconvert_exporter": "python",
   "pygments_lexer": "ipython3",
   "version": "3.6.2"
  }
 },
 "nbformat": 4,
 "nbformat_minor": 2
}
