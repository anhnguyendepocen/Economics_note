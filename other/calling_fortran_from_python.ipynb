{
 "cells": [
  {
   "cell_type": "markdown",
   "metadata": {},
   "source": [
    "# Example: Calling Fortran code from Python"
   ]
  },
  {
   "cell_type": "markdown",
   "metadata": {},
   "source": [
    "Prepared for the QuantEcon lecture at Keio, October 2016.\n",
    "\n",
    "I'm going to use the [fortran_magic](https://github.com/mgaitan/fortran_magic) extension to compile and call Fortran code from Python, within Jupyter.\n",
    "\n",
    "Please note that this is *just an example* and it might not work directly on your operating system.  I am using Linux.  For other operating systems you might need to Google for instructions.\n",
    "\n",
    "I have installed and am using the GNU Fortran compiler.\n",
    "\n",
    "This example comes from \n",
    "\n",
    "* https://people.duke.edu/~ccc14/sta-663/FromCompiledToPython.html\n",
    "\n",
    "At the same link you can find information about how to call other languages such as C and C++."
   ]
  },
  {
   "cell_type": "markdown",
   "metadata": {},
   "source": [
    "## Steps:"
   ]
  },
  {
   "cell_type": "markdown",
   "metadata": {},
   "source": [
    "First install the `fortran-magic` extension so that we can easily compile Fortran code within Jupyter:"
   ]
  },
  {
   "cell_type": "code",
   "execution_count": 16,
   "metadata": {
    "collapsed": false
   },
   "outputs": [
    {
     "name": "stdout",
     "output_type": "stream",
     "text": [
      "Requirement already satisfied (use --upgrade to upgrade): fortran-magic in /home/john/anaconda3/lib/python3.5/site-packages\r\n",
      "Requirement already satisfied (use --upgrade to upgrade): numpy in /home/john/anaconda3/lib/python3.5/site-packages (from fortran-magic)\r\n",
      "Requirement already satisfied (use --upgrade to upgrade): ipython in /home/john/anaconda3/lib/python3.5/site-packages (from fortran-magic)\r\n"
     ]
    }
   ],
   "source": [
    "!pip install fortran-magic"
   ]
  },
  {
   "cell_type": "markdown",
   "metadata": {},
   "source": [
    "Suppress some annoying warnings:"
   ]
  },
  {
   "cell_type": "code",
   "execution_count": 17,
   "metadata": {
    "collapsed": true
   },
   "outputs": [],
   "source": [
    "import warnings\n",
    "warnings.filterwarnings('ignore')"
   ]
  },
  {
   "cell_type": "markdown",
   "metadata": {},
   "source": [
    "Now load the `fortran-magic` extension into Jupyter:"
   ]
  },
  {
   "cell_type": "code",
   "execution_count": 18,
   "metadata": {
    "collapsed": false
   },
   "outputs": [
    {
     "name": "stdout",
     "output_type": "stream",
     "text": [
      "The fortranmagic extension is already loaded. To reload it, use:\n",
      "  %reload_ext fortranmagic\n"
     ]
    }
   ],
   "source": [
    "%load_ext fortranmagic"
   ]
  },
  {
   "cell_type": "markdown",
   "metadata": {},
   "source": [
    "Now let's write a subroutine in Fortran.  This subroutine computes the $n$-th Fibonacci number:"
   ]
  },
  {
   "cell_type": "code",
   "execution_count": 21,
   "metadata": {
    "collapsed": false
   },
   "outputs": [],
   "source": [
    "%%fortran\n",
    "\n",
    "subroutine fib3(n, a)\n",
    "    integer, intent(in) :: n\n",
    "    real, intent(out) :: a\n",
    "\n",
    "    integer :: i\n",
    "    real :: b, tmp\n",
    "\n",
    "    a = 0\n",
    "    b = 1\n",
    "    do i = 1, n\n",
    "        tmp = b\n",
    "        b = a\n",
    "        a = a + tmp\n",
    "    end do\n",
    "end subroutine"
   ]
  },
  {
   "cell_type": "markdown",
   "metadata": {},
   "source": [
    "Now we are ready to call it from Python:"
   ]
  },
  {
   "cell_type": "code",
   "execution_count": 22,
   "metadata": {
    "collapsed": false
   },
   "outputs": [
    {
     "data": {
      "text/plain": [
       "3.5422471771631544e+20"
      ]
     },
     "execution_count": 22,
     "metadata": {},
     "output_type": "execute_result"
    }
   ],
   "source": [
    "fib3(100)"
   ]
  },
  {
   "cell_type": "markdown",
   "metadata": {},
   "source": [
    "It works!"
   ]
  },
  {
   "cell_type": "code",
   "execution_count": null,
   "metadata": {
    "collapsed": true
   },
   "outputs": [],
   "source": []
  }
 ],
 "metadata": {
  "kernelspec": {
   "display_name": "Python 3",
   "language": "python",
   "name": "python3"
  },
  "language_info": {
   "codemirror_mode": {
    "name": "ipython",
    "version": 3
   },
   "file_extension": ".py",
   "mimetype": "text/x-python",
   "name": "python",
   "nbconvert_exporter": "python",
   "pygments_lexer": "ipython3",
   "version": "3.5.2"
  }
 },
 "nbformat": 4,
 "nbformat_minor": 0
}
