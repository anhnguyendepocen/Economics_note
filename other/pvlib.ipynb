{
 "cells": [
  {
   "cell_type": "code",
   "execution_count": null,
   "metadata": {},
   "outputs": [],
   "source": [
    "#!pip3 install --user pvlib"
   ]
  },
  {
   "cell_type": "code",
   "execution_count": null,
   "metadata": {},
   "outputs": [],
   "source": [
    "import pandas as pd\n",
    "import matplotlib.pyplot as plt\n",
    "%matplotlib notebook\n",
    "# seaborn makes the plots look nicer\n",
    "import seaborn as sns\n",
    "sns.set_color_codes()\n",
    "\n",
    "naive_times = pd.DatetimeIndex(start='2015', end='2016', freq='1h')\n",
    "\n",
    "# very approximate\n",
    "# latitude, longitude, name, altitude, timezone\n",
    "coordinates = [(30, -110, 'Tucson', 700, 'Etc/GMT+7'),\n",
    "               (35, -105, 'Albuquerque', 1500, 'Etc/GMT+7'),\n",
    "               (40, -120, 'San Francisco', 10, 'Etc/GMT+8'),\n",
    "               (50, 10, 'Berlin', 34, 'Etc/GMT-1')]\n",
    "\n",
    "import pvlib\n",
    "\n",
    "# get the module and inverter specifications from SAM\n",
    "sandia_modules = pvlib.pvsystem.retrieve_sam('SandiaMod')\n",
    "sapm_inverters = pvlib.pvsystem.retrieve_sam('cecinverter')\n",
    "module = sandia_modules['Canadian_Solar_CS5P_220M___2009_']\n",
    "inverter = sapm_inverters['ABB__MICRO_0_25_I_OUTD_US_208_208V__CEC_2014_']\n",
    "\n",
    "# specify constant ambient air temp and wind for simplicity\n",
    "temp_air = 20\n",
    "wind_speed = 0"
   ]
  },
  {
   "cell_type": "code",
   "execution_count": null,
   "metadata": {},
   "outputs": [],
   "source": [
    "system = {'module': module, 'inverter': inverter,\n",
    "          'surface_azimuth': 180}\n",
    "\n",
    "energies = {}\n",
    "\n",
    "for latitude, longitude, name, altitude, timezone in coordinates:\n",
    "    times = naive_times.tz_localize(timezone)\n",
    "    system['surface_tilt'] = latitude\n",
    "    solpos = pvlib.solarposition.get_solarposition(times, latitude, longitude)\n",
    "    dni_extra = pvlib.irradiance.extraradiation(times)\n",
    "    dni_extra = pd.Series(dni_extra, index=times)\n",
    "    airmass = pvlib.atmosphere.relativeairmass(solpos['apparent_zenith'])\n",
    "    pressure = pvlib.atmosphere.alt2pres(altitude)\n",
    "    am_abs = pvlib.atmosphere.absoluteairmass(airmass, pressure)\n",
    "    tl = pvlib.clearsky.lookup_linke_turbidity(times, latitude, longitude)\n",
    "    cs = pvlib.clearsky.ineichen(solpos['apparent_zenith'], am_abs, tl,\n",
    "                                 dni_extra=dni_extra, altitude=altitude)\n",
    "    aoi = pvlib.irradiance.aoi(system['surface_tilt'], system['surface_azimuth'],\n",
    "                               solpos['apparent_zenith'], solpos['azimuth'])\n",
    "    total_irrad = pvlib.irradiance.total_irrad(system['surface_tilt'],\n",
    "                                               system['surface_azimuth'],\n",
    "                                               solpos['apparent_zenith'],\n",
    "                                               solpos['azimuth'],\n",
    "                                               cs['dni'], cs['ghi'], cs['dhi'],\n",
    "                                               dni_extra=dni_extra,\n",
    "                                               model='haydavies')\n",
    "    temps = pvlib.pvsystem.sapm_celltemp(total_irrad['poa_global'],\n",
    "                                         wind_speed, temp_air)\n",
    "    effective_irradiance = pvlib.pvsystem.sapm_effective_irradiance(\n",
    "        total_irrad['poa_direct'], total_irrad['poa_diffuse'],\n",
    "        am_abs, aoi, module)\n",
    "    dc = pvlib.pvsystem.sapm(effective_irradiance, temps['temp_cell'], module)\n",
    "    ac = pvlib.pvsystem.snlinverter(dc['v_mp'], dc['p_mp'], inverter)\n",
    "    annual_energy = ac.sum()\n",
    "    energies[name] = annual_energy\n",
    "\n",
    "energies = pd.Series(energies)\n",
    "\n",
    "# based on the parameters specified above, these are in W*hrs\n",
    "print(energies.round(0))\n",
    "\n",
    "energies.plot(kind='bar', rot=0)\n",
    "#@savefig proc-energies.png width=6in\n",
    "plt.ylabel('Yearly energy yield (W hr)')"
   ]
  },
  {
   "cell_type": "code",
   "execution_count": null,
   "metadata": {
    "collapsed": true
   },
   "outputs": [],
   "source": []
  },
  {
   "cell_type": "code",
   "execution_count": null,
   "metadata": {
    "collapsed": true
   },
   "outputs": [],
   "source": []
  },
  {
   "cell_type": "code",
   "execution_count": null,
   "metadata": {
    "collapsed": true
   },
   "outputs": [],
   "source": []
  },
  {
   "cell_type": "code",
   "execution_count": null,
   "metadata": {
    "collapsed": true
   },
   "outputs": [],
   "source": []
  }
 ],
 "metadata": {
  "kernelspec": {
   "display_name": "Python 3",
   "language": "python",
   "name": "python3"
  },
  "language_info": {
   "codemirror_mode": {
    "name": "ipython",
    "version": 3
   },
   "file_extension": ".py",
   "mimetype": "text/x-python",
   "name": "python",
   "nbconvert_exporter": "python",
   "pygments_lexer": "ipython3",
   "version": "3.6.2"
  }
 },
 "nbformat": 4,
 "nbformat_minor": 2
}
