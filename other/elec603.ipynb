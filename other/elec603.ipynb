{
 "cells": [
  {
   "cell_type": "code",
   "execution_count": null,
   "metadata": {},
   "outputs": [],
   "source": [
    "#  Program: bt_lsearch.m\n",
    "#  Title: Inexact Line Search by Backtracking\n",
    "#  Description: Implements inexact line search described in \n",
    "#  Sec. 9.2 of Boyd-Vanderberghe's book.\n",
    "#  Theory: Sec. 9.2 of Boyd-Vanderberghe's book.\n",
    "#  Input:\n",
    "#    x:  initial point\n",
    "#    s:  search direction\n",
    "#    F:  objective function to be minimized along the direction of s  \n",
    "#    G:  gradient of the objective function.\n",
    "#   p1:  internal parameters that are required for the implementation of\n",
    "#        the line search regardless of the application at hand.\n",
    "#        It is a string (e.g. 'rho = 0.1') and can be a combination several\n",
    "#        internal parameters (e.g., 'rho = 0.2; gma = 0.25').\n",
    "#        Useful p1's include:                            default value\n",
    "#        'rho=   ' defines                                    0.1\n",
    "#        'gma=   ' defines                                    0.5\n",
    "#   p2:  user-defined parameter vector. Note that p2 must be a vector\n",
    "#        with all components numerically specified. The order in which\n",
    "#        the components of p2 appear must be the same as what they appear \n",
    "#        in function F. For example, if p2 = [a b], then F.m must be in the \n",
    "#        form of function z = F(x,p2).\n",
    "#  Output:\n",
    "#    a:  acceptable value of alpha\n",
    "#  Example 1: \n",
    "#  Perform inexact line search using the Himmelblau function\n",
    "#     f(x1,x2) = (x1^2 + x2 - 11)^2 + (x1 + x2^2 - 7)^2\n",
    "#  starting from point xk = [6 6]' along search direction s = [-1 -1]'\n",
    "#  using the default parameter values. \n",
    "#  Solution: \n",
    "#  Execute the command\n",
    "#     a1 = bt_lsearch([6 6]',[-1 -1]','f_himm','g_himm')\n",
    "#  Example 2: \n",
    "#  Perform inexact line search using the Himmelblau funtion\n",
    "#  starting from point xk = [6 6]' along search direction s = [-1 -1]'\n",
    "#  with rho = 0.5.\n",
    "#  Solution: \n",
    "#  Execute the command\n",
    "#     a2 = inex_lsearch([6 6]',[-1 -1]','f_himm','g_himm','rho = 0.4')\n",
    "#  Example 3: \n",
    "#  Perform inexact line search using the paramerized Himmelblau funtion\n",
    "#     f(x1,x2,a,b) = (x1^2 + x2 - a^2)^2 + (x1 + x2^2 - b^2)^2\n",
    "#  starting from point xk = [6 6]' along search direction s = [-1 -1]',\n",
    "#  with parameters a = 3.2 and b = 2.6.\n",
    "#  Solution: \n",
    "#  Execute the command\n",
    "#     a3 = inex_lsearch([6 6]',[-1 -1]','f_himm_p','g_himm_p',[3.2 2.6])\n",
    "#  Notes:\n",
    "#  1. Command \n",
    "#       a = inex_lsearch(xk,s,F,G,p1,p2)\n",
    "#     adds a new function inex_lsearch to MATLAB's vocabulary.\n",
    "#  2. Do not use a semicolon in commands \n",
    "#      a1 = inex_lsearch([6 6]',[-1 -1]','f_himm','g_himm')\n",
    "#      a2 = inex_lsearch([6 6]',[-1 -1]','f_himm','g_himm','sigma = 0.5')\n",
    "#      a3 = inex_lsearch([6 6]',[-1 -1]','f_himm_p','g_himm_p',[3.2 2.6])\n",
    "#    otherwise the acceptable value of alpha will not be displayed.\n",
    "# 3. f_himm and g_himm are user defined functions implemented in m-files  \n",
    "#    f_himm.m and g_himm.m, respectively, and are used to evaluate the \n",
    "#    Himmelblau function and its gradient. Similarly, f_himm_p and g_himm_p\n",
    "#    are user defined functions for the parameterized Himmelblau function.\n",
    "# for nargin\n",
    "# the multiple dispatch approach of Julia make this much more clean. \n",
    "# https://groups.google.com/forum/#!topic/julia-users/8oLFWikYrIc\n",
    "#==========================================================================\n",
    "=#\n",
    "\n",
    "function bt_lsearch(x,s,F,G,rho = 0.1,gma = 0.5)\n",
    "    #rho = 0.1;\n",
    "    #gma = 0.5;\n",
    "    x = x[:];\n",
    "    s = s[:];\n",
    "    a = 1;\n",
    "    \n",
    "    parameterstring = \"\"\n",
    "    \n",
    "    ## evaluate given parameters only with p1: rho and sigma\n",
    "\n",
    "    f0 =  F(x);\n",
    "    g0 = G(x);\n",
    "    f1 =  F(x+a*s);\n",
    "    f2 = f0 + rho*a*g0'*s;\n",
    "    er = f1 - f2;\n",
    "    while er > 0\n",
    "         a = gma*a;\n",
    "         f1 =  F(x+a*s );\n",
    "         f2 = f0 + rho*a*g0'*s;\n",
    "         er = f1 - f2;\n",
    "     end\n",
    "     if a < 1e-5\n",
    "        a = 1e-5;\n",
    "     end \n",
    "    return a\n",
    "end\n"
   ]
  },
  {
   "cell_type": "code",
   "execution_count": null,
   "metadata": {},
   "outputs": [],
   "source": [
    "function bt_lsearch(x,s,F,G ,p2 = [3.2 2.6],rho = 0.1,gma = 0.5 )\n",
    "    #rho = 0.1;\n",
    "    #gma = 0.5;\n",
    "    x = x[:];\n",
    "    s = s[:];\n",
    "    a = 1;\n",
    "    \n",
    "    parameterstring = \"\"\n",
    "    \n",
    "    ## evaluate given parameters with P2\n",
    "\n",
    "    f0 =  F(x, p2);\n",
    "    g0 = G(x,p2);\n",
    "    f1 =  F(x+a*s,p2);\n",
    "    f2 = f0 + rho*a*g0'*s;\n",
    "    er = f1 - f2;\n",
    "    while er > 0\n",
    "         a = gma*a;\n",
    "         f1 =  F(x+a*s,p2 );\n",
    "         f2 = f0 + rho*a*g0'*s;\n",
    "         er = f1 - f2;\n",
    "    end\n",
    "     if a < 1e-5\n",
    "        a = 1e-5;\n",
    "     end \n",
    "    return a\n",
    "end    \n",
    "    "
   ]
  },
  {
   "cell_type": "code",
   "execution_count": null,
   "metadata": {},
   "outputs": [],
   "source": [
    "function f_himm(x)\n",
    "    x1 = x[1];\n",
    "    x2 = x[2];\n",
    "    return z = (x1^2 + x2 - 11)^2 + (x1 + x2^2 - 7)^2;   \n",
    "end"
   ]
  },
  {
   "cell_type": "code",
   "execution_count": null,
   "metadata": {},
   "outputs": [],
   "source": [
    "function g_himm(x)\n",
    "    x1 = x[1];\n",
    "    x2 = x[2];\n",
    "    w1 = (x1^2 + x2 - 11);\n",
    "    w2 = (x1 + x2^2 - 7);\n",
    "    z1 = 4*w1*x1 + 2*w2;\n",
    "    z2 = 2*w1 + 4*w2*x2;\n",
    "    return z = [z1 z2]';\n",
    "end"
   ]
  },
  {
   "cell_type": "code",
   "execution_count": null,
   "metadata": {},
   "outputs": [],
   "source": [
    "x0=[6. 6.]"
   ]
  },
  {
   "cell_type": "code",
   "execution_count": null,
   "metadata": {},
   "outputs": [],
   "source": [
    "f_himm(x0)"
   ]
  },
  {
   "cell_type": "code",
   "execution_count": null,
   "metadata": {},
   "outputs": [],
   "source": [
    "s = [-1. -1.]"
   ]
  },
  {
   "cell_type": "code",
   "execution_count": null,
   "metadata": {
    "collapsed": true
   },
   "outputs": [],
   "source": []
  },
  {
   "cell_type": "code",
   "execution_count": null,
   "metadata": {},
   "outputs": [],
   "source": [
    "bt_lsearch(x0,s,f_himm,g_himm)"
   ]
  },
  {
   "cell_type": "code",
   "execution_count": null,
   "metadata": {},
   "outputs": [],
   "source": [
    "f(x1,x2) = (x1^2 + x2 - 11)^2 + (x1 + x2^2 - 7)^2"
   ]
  },
  {
   "cell_type": "code",
   "execution_count": null,
   "metadata": {
    "collapsed": true
   },
   "outputs": [],
   "source": [
    "g(x1,x2) = [ [],[]]"
   ]
  },
  {
   "cell_type": "code",
   "execution_count": null,
   "metadata": {},
   "outputs": [],
   "source": [
    "#Pkg.add(\"Polynomial\")\n",
    "using Polynomial"
   ]
  },
  {
   "cell_type": "code",
   "execution_count": null,
   "metadata": {},
   "outputs": [],
   "source": [
    "f(1,2)"
   ]
  },
  {
   "cell_type": "code",
   "execution_count": null,
   "metadata": {
    "collapsed": true
   },
   "outputs": [],
   "source": [
    "#% Written bt W.-S. Lu, University of Victoria.\n",
    "#% Last modified: Jan. 4, 2016.\n",
    "function newton573(fname,gname,hname,x0,dt,epsi)\n",
    "    k = 1;\n",
    "    n = length(x0);\n",
    "    In = eye(n,n);\n",
    "    xk = x0;\n",
    "    gk = gname(xk);\n",
    "    Hk = hname(xk);\n",
    "    V,D = eig(Hk);\n",
    "    di = diag(D);\n",
    "    dmin = min(di);\n",
    "    if dmin > 0,\n",
    "        Hki = V*diag(1./di)*V';\n",
    "    else\n",
    "        bt = dt - dmin;\n",
    "        Hki = V*diag((1+bt)./(di+bt))*V';\n",
    "    end\n",
    "    dk = -Hki*gk;\n",
    "    ak = bt_lsearch(xk,dk,fname,gname);\n",
    "    adk = ak*dk;\n",
    "    er = norm(adk);\n",
    "    while er >= epsi,\n",
    "        xk = xk + adk;\n",
    "        gk = gname(xk);\n",
    "        Hk = hname(xk);\n",
    "        V,D = eig(Hk);\n",
    "        di = diag(D);\n",
    "        dmin = min(di);\n",
    "        if dmin > 0,\n",
    "            Hki = V'*diagm(1./di)*V;\n",
    "        else\n",
    "            bt = dt - dmin;\n",
    "            Hki = V'*diagm((1+bt)./(di+bt))*V;\n",
    "        end\n",
    "        dk = -Hki*gk;\n",
    "        ak = bt_lsearch(xk,dk,fname,gname);\n",
    "        adk = ak*dk;\n",
    "        er = norm(adk);\n",
    "        k = k + 1;\n",
    "    end\n",
    "    #format long\n",
    "    println(\"'Solution point:'\")\n",
    "    xs = xk + adk\n",
    "    println(\"'Objective function at the solution point:'\",fs = feval(fname,xs) )\n",
    "\n",
    "    #format short\n",
    "    println(\"'Number of iterations performed:'\", k)\n",
    "    return xs,fs,k\n",
    "    end "
   ]
  },
  {
   "cell_type": "code",
   "execution_count": null,
   "metadata": {
    "collapsed": true
   },
   "outputs": [],
   "source": []
  },
  {
   "cell_type": "code",
   "execution_count": null,
   "metadata": {
    "collapsed": true
   },
   "outputs": [],
   "source": []
  },
  {
   "cell_type": "code",
   "execution_count": null,
   "metadata": {
    "collapsed": true
   },
   "outputs": [],
   "source": [
    "A = [1.0 2.0; 2.0 1.0];\n",
    "evals, evecs = eig(A);\n",
    "evals"
   ]
  },
  {
   "cell_type": "code",
   "execution_count": null,
   "metadata": {
    "collapsed": true
   },
   "outputs": [],
   "source": [
    "\n",
    "1./diag(evecs)"
   ]
  },
  {
   "cell_type": "code",
   "execution_count": null,
   "metadata": {
    "collapsed": true
   },
   "outputs": [],
   "source": [
    "dt =1\n",
    "V,D = eig(A);\n",
    "di = diag(D);\n",
    "dmin = minimum(di);"
   ]
  },
  {
   "cell_type": "code",
   "execution_count": null,
   "metadata": {
    "collapsed": true
   },
   "outputs": [],
   "source": [
    "dmin"
   ]
  },
  {
   "cell_type": "code",
   "execution_count": null,
   "metadata": {
    "collapsed": true
   },
   "outputs": [],
   "source": [
    "\n",
    "if dmin > 0\n",
    "Hki = V'*diagm(1./di)*V;\n",
    "else\n",
    "bt = dt - dmin;\n",
    "Hki = V'*diagm((1+bt)./(di+bt))*V;\n",
    "end"
   ]
  },
  {
   "cell_type": "code",
   "execution_count": null,
   "metadata": {
    "collapsed": true
   },
   "outputs": [],
   "source": [
    "\n",
    "dk = -Hki*gk;\n",
    "ak = bt_lsearch(xk,dk,fname,gname);\n",
    "adk = ak*dk;\n",
    "er = norm(adk);\n"
   ]
  },
  {
   "cell_type": "code",
   "execution_count": null,
   "metadata": {
    "collapsed": true
   },
   "outputs": [],
   "source": []
  }
 ],
 "metadata": {
  "kernelspec": {
   "display_name": "Julia 0.6.0",
   "language": "julia",
   "name": "julia-0.6"
  },
  "language_info": {
   "file_extension": ".jl",
   "mimetype": "application/julia",
   "name": "julia",
   "version": "0.6.0"
  }
 },
 "nbformat": 4,
 "nbformat_minor": 2
}
