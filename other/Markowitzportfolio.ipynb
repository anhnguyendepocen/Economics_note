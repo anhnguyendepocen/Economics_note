{
 "cells": [
  {
   "cell_type": "code",
   "execution_count": null,
   "metadata": {},
   "outputs": [],
   "source": [
    "using Distributions\n",
    "function generate_data(n, num_obs)\n",
    "    data = zeros(num_obs, n)\n",
    "\n",
    "    # Linking factors\n",
    "    beta = [(i-1.0)/n for i = 1:n] \n",
    "\n",
    "    for obs_ind = 1:num_obs\n",
    "        # Common market factor, mean 3%, sd 2%, truncate at +- 3 sd\n",
    "        z = rand(Normal(0.03, 0.02))\n",
    "        z = max(z, 0.03 - 3*0.02)\n",
    "        z = min(z, 0.03 + 3*0.02)\n",
    "\n",
    "        for asset_ind = 1:n\n",
    "            # Idiosyncratic contribution, mean 0%, sd 3%, truncated at +- 3 sd\n",
    "            asset = rand(Normal(0.00, 0.03))\n",
    "            asset = max(asset, 0.00 - 3*0.03)\n",
    "            asset = min(asset, 0.00 + 3*0.03)\n",
    "            data[obs_ind, asset_ind] = beta[asset_ind] * z + asset\n",
    "        end\n",
    "    end\n",
    "    return 100*data\n",
    "end\n",
    "data = generate_data(5,10000);"
   ]
  },
  {
   "cell_type": "code",
   "execution_count": null,
   "metadata": {},
   "outputs": [],
   "source": [
    "data"
   ]
  },
  {
   "cell_type": "code",
   "execution_count": null,
   "metadata": {},
   "outputs": [],
   "source": [
    "using JuMP, Ipopt\n",
    "\n",
    "n, μ, Σ = 5, vec(mean(data,1)), cov(data)"
   ]
  },
  {
   "cell_type": "code",
   "execution_count": null,
   "metadata": {},
   "outputs": [],
   "source": [
    "\n",
    "r_min = 1.0\n",
    "port =  Model(solver = IpoptSolver()) \n",
    "@variable(port, 0 ≤ x[1:n] ≤ 1)\n",
    "@constraint(port, sum(x) == 1)\n",
    "@constraint(port, dot(μ,x) ≥ r_min)\n",
    "@objective(port, Min, \n",
    "    sum(Σ[i,j]*x[i]*x[j] for i=1:n,j=1:n))\n",
    "solve(port)"
   ]
  },
  {
   "cell_type": "code",
   "execution_count": null,
   "metadata": {},
   "outputs": [],
   "source": [
    "r_range = 1.0:0.1:2.0\n",
    "rev = zeros(length(r_range ))\n",
    "\n",
    "for c in 1:length(r_range)\n",
    "    \n",
    "    r_min = r_range[c]\n",
    "    port =  Model(solver = IpoptSolver()) \n",
    "    @variable(port, 0 ≤ x[1:n] ≤ 1)\n",
    "    @constraint(port, sum(x) == 1)\n",
    "    @constraint(port, dot(μ,x) ≥ r_min)\n",
    "    @objective(port, Min, \n",
    "        sum(Σ[i,j]*x[i]*x[j] for i=1:n,j=1:n))\n",
    "    solve(port)\n",
    "    println(\"solution is $(getobjectivevalue(port))\")\n",
    "    rev[c]=getobjectivevalue(port)\n",
    "    end    \n",
    "    "
   ]
  },
  {
   "cell_type": "code",
   "execution_count": null,
   "metadata": {},
   "outputs": [],
   "source": [
    "#Pkg.add(\"PyPlot\")\n",
    "using PyPlot\n",
    "\n",
    "#x = linspace(0,2*pi,1000); y = sin.(3*x + 4*cos.(2*x))\n",
    "#plot(x, y, color=\"red\", linewidth=2.0, linestyle=\"--\")"
   ]
  },
  {
   "cell_type": "code",
   "execution_count": null,
   "metadata": {},
   "outputs": [],
   "source": [
    "#using Gadfly\n",
    "\n",
    "plot(r_range, rev, color=\"red\", linewidth=2.0, linestyle=\"--\")"
   ]
  },
  {
   "cell_type": "code",
   "execution_count": null,
   "metadata": {
    "collapsed": true
   },
   "outputs": [],
   "source": []
  },
  {
   "cell_type": "code",
   "execution_count": null,
   "metadata": {},
   "outputs": [],
   "source": [
    "using Gadfly\n",
    "for r_min in 1.0:0.1:2.0\n",
    "    port =  Model(solver = IpoptSolver()) \n",
    "    @variable(port, 0 ≤ x[1:n] ≤ 1)\n",
    "    @constraint(port, sum(x) == 1)\n",
    "    @constraint(port, dot(μ,x) ≥ r_min)\n",
    "    @objective(port, Min, \n",
    "        sum(Σ[i,j]*x[i]*x[j] for i=1:n,j=1:n))\n",
    "    solve(port)\n",
    "    plot(x=data*getvalue(x)[:], Geom.density,\n",
    "         Guide.xlabel(\"Return\"), Guide.ylabel(\"Density\"))\n",
    "end"
   ]
  },
  {
   "cell_type": "code",
   "execution_count": null,
   "metadata": {
    "collapsed": true
   },
   "outputs": [],
   "source": []
  },
  {
   "cell_type": "code",
   "execution_count": null,
   "metadata": {
    "collapsed": true
   },
   "outputs": [],
   "source": []
  },
  {
   "cell_type": "code",
   "execution_count": null,
   "metadata": {},
   "outputs": [],
   "source": [
    "\n",
    "\n",
    "\n",
    "\n",
    "\n",
    "@manipulate for r_min in 1.0:0.1:2.0\n",
    "    port =  Model(solver = IpoptSolver()) \n",
    "    @variable(port, 0 ≤ x[1:n] ≤ 1)\n",
    "    @constraint(port, sum(x) == 1)\n",
    "    @constraint(port, dot(μ,x) ≥ r_min)\n",
    "    @objective(port, Min, \n",
    "        sum(Σ[i,j]*x[i]*x[j] for i=1:n,j=1:n))\n",
    "    solve(port)\n",
    "    plot(x=data*getvalue(x)[:], Geom.density,\n",
    "         Guide.xlabel(\"Return\"), Guide.ylabel(\"Density\"))\n",
    "end\n",
    "\n"
   ]
  },
  {
   "cell_type": "code",
   "execution_count": null,
   "metadata": {},
   "outputs": [],
   "source": [
    "Pkg.update()"
   ]
  },
  {
   "cell_type": "code",
   "execution_count": null,
   "metadata": {},
   "outputs": [],
   "source": [
    "#Pkg.add(\"IJulia\")\n",
    "#Pkg.add(\"Interact\")"
   ]
  },
  {
   "cell_type": "code",
   "execution_count": null,
   "metadata": {
    "collapsed": true
   },
   "outputs": [],
   "source": []
  }
 ],
 "metadata": {
  "kernelspec": {
   "display_name": "Julia 0.6.0",
   "language": "julia",
   "name": "julia-0.6"
  },
  "language_info": {
   "file_extension": ".jl",
   "mimetype": "application/julia",
   "name": "julia",
   "version": "0.6.0"
  }
 },
 "nbformat": 4,
 "nbformat_minor": 2
}
