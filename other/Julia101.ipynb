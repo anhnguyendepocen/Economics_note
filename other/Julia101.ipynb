{
 "cells": [
  {
   "cell_type": "code",
   "execution_count": null,
   "metadata": {
    "ExecuteTime": {
     "end_time": "2017-12-30T17:17:32.040000-08:00",
     "start_time": "2017-12-31T01:12:45.232Z"
    }
   },
   "outputs": [],
   "source": [
    "Pkg.update()\n",
    "Pkg.clone(\"git://github.com/blegat/MultivariatePolynomials.jl\")\n",
    "Pkg.clone(\"git://github.com/JuliaOpt/PolyJuMP.jl\")\n",
    "Pkg.clone(\"git://github.com/JuliaOpt/SumOfSquares.jl\")\n",
    "Pkg.add(\"FactCheck\")\n",
    "Pkg.add(\"SCS\")\n",
    "Pkg.add(\"CSDP\")\n",
    "Pkg.update()"
   ]
  },
  {
   "cell_type": "code",
   "execution_count": null,
   "metadata": {},
   "outputs": [],
   "source": []
  }
 ],
 "metadata": {
  "kernelspec": {
   "display_name": "Julia 0.6.0",
   "language": "julia",
   "name": "julia-0.6"
  },
  "language_info": {
   "file_extension": ".jl",
   "mimetype": "application/julia",
   "name": "julia",
   "version": "0.6.0"
  }
 },
 "nbformat": 4,
 "nbformat_minor": 2
}
