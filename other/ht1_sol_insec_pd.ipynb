{
 "cells": [
  {
   "cell_type": "markdown",
   "metadata": {},
   "source": [
    "### Phase Diagram for In-Section Exercise in Handout 1\n",
    "Last update: 09/11/16\n",
    "\n",
    "#### Before you run:\n",
    "- Read comments some of which suggest you revise or delete lines of code.\n",
    "\n",
    "#### Tasks:\n",
    "- Run 0_setpath\n",
    "- Parameterization, solve steady state, and equation for saddle path.\n",
    "- Plot phaselines, arrows in regions, and saddle path."
   ]
  },
  {
   "cell_type": "code",
   "execution_count": 27,
   "metadata": {
    "collapsed": false
   },
   "outputs": [],
   "source": [
    "%run 0_setpath.ipynb # You need to delete this line as it runs another ipython notebook code."
   ]
  },
  {
   "cell_type": "code",
   "execution_count": 28,
   "metadata": {
    "collapsed": false
   },
   "outputs": [
    {
     "data": {
      "text/html": [
       "<style>.container { width:100% !important; }</style>"
      ],
      "text/plain": [
       "<IPython.core.display.HTML object>"
      ]
     },
     "metadata": {},
     "output_type": "display_data"
    }
   ],
   "source": [
    "from IPython.core.display import display, HTML\n",
    "display(HTML(\"<style>.container { width:100% !important; }</style>\")) # To adjust screen display"
   ]
  },
  {
   "cell_type": "code",
   "execution_count": 29,
   "metadata": {
    "collapsed": false
   },
   "outputs": [],
   "source": [
    "import matplotlib.pyplot as plt\n",
    "import numpy as np\n",
    "%matplotlib inline "
   ]
  },
  {
   "cell_type": "code",
   "execution_count": 30,
   "metadata": {
    "collapsed": false
   },
   "outputs": [],
   "source": [
    "delta = 0.2\n",
    "beta = 0.95\n",
    "gamma = 1\n",
    "theta = 1\n",
    "n = 1000\n",
    "omega_max = 6\n",
    "omega = np.linspace(-omega_max,omega_max,n)\n",
    "labor_1 = delta*omega # \\Delta \\Omega = 0\n",
    "labor_2 = -(gamma/(delta+beta))*omega + (theta/(delta+beta)) # \\Delta L^c_t = 0\n",
    "omega_ss = theta/(gamma+delta*(delta+beta))\n",
    "labor_ss = delta*omega_ss\n",
    "\n",
    "A11=(1-delta)\n",
    "A12= 1.0\n",
    "A21=gamma\n",
    "A22 = (1+delta+beta)\n",
    "\n",
    "A = np.matrix([[(1-delta), 1], [gamma,  (1+delta+beta)]]) #A = np.matrix([[A11, A12], [A21, A22]])\n",
    "eta, E = np.linalg.eig(A) \n",
    "# Results: eta = array([ 0.26850715,  2.68149285]), E = matrix([[-0.88302686, -0.46932246], [ 0.46932246, -0.88302686]])\n",
    "saddle_slope = E.item(1,0)/E.item(0,0)\n",
    "labor_saddle = saddle_slope*(omega-omega_ss) + labor_ss"
   ]
  },
  {
   "cell_type": "code",
   "execution_count": 24,
   "metadata": {
    "collapsed": false
   },
   "outputs": [
    {
     "data": {
      "image/png": "[encoded data removed]",
      "text/plain": [
       "<matplotlib.figure.Figure at 0x1c3dd0fdcf8>"
      ]
     },
     "metadata": {},
     "output_type": "display_data"
    }
   ],
   "source": [
    "fig, ax = plt.subplots()\n",
    "ax.plot(omega, labor_1,'b-',label='$\\Delta \\Omega = 0$', linewidth=2)\n",
    "ax.plot(omega, labor_2,'r-',label='$\\Delta L^c_t = 0$', linewidth=2)\n",
    "ax.plot(omega, labor_saddle,'k--',label='Saddle Path', linewidth=2)\n",
    "ax.plot(omega_ss,labor_ss, 'ko')\n",
    "ax.arrow(omega[50], labor_saddle[50], 0, -1, head_width=0.2, head_length=0.5, fc='k', ec='k')\n",
    "ax.arrow(omega[50], labor_saddle[50], 1, 0, head_width=0.2, head_length=0.5, fc='k', ec='k')\n",
    "ax.arrow(omega[n-50], labor_saddle[n-50], 0, 1, head_width=0.2, head_length=0.5, fc='k', ec='k')\n",
    "ax.arrow(omega[n-50], labor_saddle[n-50], -1, 0, head_width=0.2, head_length=0.5, fc='k', ec='k')\n",
    "ax.arrow(omega_ss, labor_ss-3, 0, -1, head_width=0.2, head_length=0.5, fc='k', ec='k')\n",
    "ax.arrow(omega_ss, labor_ss-3, -1, 0, head_width=0.2, head_length=0.5, fc='k', ec='k')\n",
    "ax.arrow(omega_ss, labor_ss+3, 0, 1, head_width=0.2, head_length=0.5, fc='k', ec='k')\n",
    "ax.arrow(omega_ss, labor_ss+3, 1, 0, head_width=0.2, head_length=0.5, fc='k', ec='k')\n",
    "ax.legend()\n",
    "ax.set_xlabel(\"$\\Omega_t$\")\n",
    "ax.set_ylabel(\"$L^c_t$\")\n",
    "plt.show()\n",
    "fig.tight_layout()\n",
    "fig.savefig(pathSolFig1+'ht1_sol_insec_pd.png',bbox_inches='tight',dpi = 100) # Delete \"pathSolFig1+\" as it is defined in 0_setpath.ipynb"
   ]
  },
  {
   "cell_type": "code",
   "execution_count": null,
   "metadata": {
    "collapsed": true
   },
   "outputs": [],
   "source": []
  }
 ],
 "metadata": {
  "kernelspec": {
   "display_name": "Python 3",
   "language": "python",
   "name": "python3"
  },
  "language_info": {
   "codemirror_mode": {
    "name": "ipython",
    "version": 3
   },
   "file_extension": ".py",
   "mimetype": "text/x-python",
   "name": "python",
   "nbconvert_exporter": "python",
   "pygments_lexer": "ipython3",
   "version": "3.5.2"
  }
 },
 "nbformat": 4,
 "nbformat_minor": 0
}
