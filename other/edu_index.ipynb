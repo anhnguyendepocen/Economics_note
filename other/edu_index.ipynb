{
 "cells": [
  {
   "cell_type": "code",
   "execution_count": null,
   "metadata": {
    "collapsed": true
   },
   "outputs": [],
   "source": []
  },
  {
   "cell_type": "code",
   "execution_count": null,
   "metadata": {},
   "outputs": [],
   "source": [
    "# Display the associated webpage in a new window\n",
    "import IPython\n",
    "url = 'https://infographics.economist.com/2018/university-returns-charts/line.html'\n",
    "iframe = '<iframe src=' + url + ' width=1000 height=500></iframe>'\n",
    "IPython.display.HTML(iframe)"
   ]
  },
  {
   "cell_type": "code",
   "execution_count": null,
   "metadata": {
    "collapsed": true
   },
   "outputs": [],
   "source": [
    "import IPython\n",
    "url = 'https://infographics.economist.com/2018/university-returns-charts/line.html'\n",
    "iframe = '<iframe src=' + url + ' width=1000 height=500></iframe>'\n",
    "IPython.display.HTML(iframe)\n",
    "\n",
    "\n",
    "#https://www.economist.com/blogs/graphicdetail/2018/02/daily-chart"
   ]
  },
  {
   "cell_type": "markdown",
   "metadata": {},
   "source": [
    "https://www.economist.com/news/international/21736151-financial-returns-are-falling-going-university-more-important-ever\n",
    "\n",
    "South Korea is an extreme case. But other countries, too, have seen a big rise in the share of young people with degrees. In the OECD club of 35 countries, 43% of 25- to 34-year-olds now have degrees. In America the figure is 48%.\n",
    "\n",
    "Between 1995 and 2014 government spending on higher education in the OECD rose from 0.9% of GDP to 1.1%, while private spending rose from 1.2% to 1.5%. As government subsidies for tuition fees flow through to institutions they have helped inflate costs. Since 1990 fees for American students who do not get scholarships or bursaries have risen twice as fast as overall inflation.\n",
    "\n",
    "But comparisons between countries provide little evidence of these links. Richer countries have more graduates, but that could be because there is more money to spare, and less urgency to start earning. Rich economies grow more slowly, but that is probably because they have fewer easy ways to raise productivity, not because education depresses their growth.\n",
    "\n",
    "\n",
    "A truth universities acknowledged\n",
    "\n",
    "The main piece of evidence cited by policymakers is the “graduate premium”—the difference between the average earnings of someone with a degree and someone with no more than a secondary-school education, after accounting for fees and the income forgone while studying. This gap is often expressed as the “return on investment” in higher education, or the annualised boost to lifetime earnings from gaining a degree. Research by the New York Federal Reserve shows that the return on investment in higher education soared between 1980 and 2000 in America, before levelling off at around 15% a year. In other words, an investment equal to the cost of tuition and earnings forgone while studying would have to earn 15% annual interest before it matched the average value over a working life of gaining a degree.\n",
    "\n",
    "\n",
    "\n",
    "The World Bank has produced estimates of this return for 139 economies. It varies from place to place, but is substantial everywhere. The Economist’s analysis of the data finds that returns are linked to the share of people with degrees, and the range of earnings. Returns in Britain and Germany are similar to those in America. In sub-Saharan Africa, where degrees are scarce and the least-educated workers earn little, they are around 21% a year. In Scandinavia, where wages are less unequal and two-fifths of adults have degrees, they are around 9%\n",
    "\n",
    "\n",
    "\n",
    "But as a guide to school-leavers considering going to university—and to policymakers considering expanding access to higher education—the graduate premium is flawed. Even within countries the average conceals wide differences. Most students know that a degree in mathematics or finance is likely to be more lucrative than one in music or social work. What fewer realise is that the graduate premium overstates the financial benefit of embarking on a degree if their school grades barely qualify them for entry, no matter what they study.\n",
    "\n",
    "In a comparison of the earnings of people with degrees and people without them, those who start university but do not finish are lumped in with those who never started, even though they, too, will have paid fees and missed out on earnings. Their numbers are considerable. In America 40% of college students fail to graduate with four-year degrees within six years of enrolling. Drop-out rates across the developed world average around 30%. It is the students admitted with the lowest grades who are least likely to graduate.\n",
    "\n",
    "\n",
    "\n",
    "\n"
   ]
  }
 ],
 "metadata": {
  "kernelspec": {
   "display_name": "Python 3",
   "language": "python",
   "name": "python3"
  },
  "language_info": {
   "codemirror_mode": {
    "name": "ipython",
    "version": 3
   },
   "file_extension": ".py",
   "mimetype": "text/x-python",
   "name": "python",
   "nbconvert_exporter": "python",
   "pygments_lexer": "ipython3",
   "version": "3.6.2"
  }
 },
 "nbformat": 4,
 "nbformat_minor": 2
}
