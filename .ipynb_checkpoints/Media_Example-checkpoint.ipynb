{
 "cells": [
  {
   "cell_type": "markdown",
   "metadata": {},
   "source": [
    "# Example: Media in IPython Notebooks"
   ]
  },
  {
   "cell_type": "code",
   "execution_count": null,
   "metadata": {
    "collapsed": true
   },
   "outputs": [],
   "source": [
    "# Import the required modules\n",
    "import numpy as np\n",
    "import matplotlib.pyplot as plt\n",
    "import urllib\n",
    "# This makes the plots appear inside the notebook\n",
    "%matplotlib inline "
   ]
  },
  {
   "cell_type": "markdown",
   "metadata": {},
   "source": [
    "$1$. Load and display a data file from a URL (i.e. across the web)."
   ]
  },
  {
   "cell_type": "code",
   "execution_count": null,
   "metadata": {},
   "outputs": [],
   "source": [
    "url = \"http://sam-dolan.staff.shef.ac.uk/mas212/data/quadratic_with_noise.dat\"\n",
    "data = np.loadtxt(urllib.request.urlopen(url))\n",
    "\n",
    "x, y = data[:,0], data[:,1]\n",
    "\n",
    "plt.plot(x, y, 's')\n",
    "plt.xlabel(\"x\")\n",
    "plt.ylabel(\"z\");"
   ]
  },
  {
   "cell_type": "markdown",
   "metadata": {},
   "source": [
    "$2$. Load and display an image:"
   ]
  },
  {
   "cell_type": "code",
   "execution_count": null,
   "metadata": {},
   "outputs": [],
   "source": [
    "from IPython.display import Image\n",
    "Image(url=\"http://sam-dolan.staff.shef.ac.uk/mas212/mandelbrot_frame_29.png\")"
   ]
  },
  {
   "cell_type": "markdown",
   "metadata": {},
   "source": [
    "$3$. Display a web page (e.g. the Wikipedia page on Python):"
   ]
  },
  {
   "cell_type": "code",
   "execution_count": null,
   "metadata": {},
   "outputs": [],
   "source": [
    "from IPython.display import HTML\n",
    "HTML('<iframe src=http://en.wikipedia.org/wiki/Python_(programming_language) width=800 height=350></iframe>')"
   ]
  },
  {
   "cell_type": "markdown",
   "metadata": {},
   "source": [
    "$4$. Import a YouTube video (e.g. from the MAS152 course)."
   ]
  },
  {
   "cell_type": "code",
   "execution_count": null,
   "metadata": {},
   "outputs": [],
   "source": [
    "from IPython.display import YouTubeVideo\n",
    "YouTubeVideo('elFqHzOAlzs')"
   ]
  },
  {
   "cell_type": "markdown",
   "metadata": {},
   "source": [
    "$5$. Draw a map of GB & Ireland and add Sheffield.\n",
    "(NB. First need to install the \"basemap\" package. Under anaconda, try \"conda install basemap\".)"
   ]
  },
  {
   "cell_type": "code",
   "execution_count": null,
   "metadata": {},
   "outputs": [],
   "source": [
    "from mpl_toolkits.basemap import Basemap\n",
    "\n",
    "## Theselines were added to suppress deprecation warnings ##\n",
    "import warnings, matplotlib\n",
    "warnings.filterwarnings(\"ignore\",category=matplotlib.mplDeprecation)\n",
    "\n",
    "map = Basemap(projection='merc', lat_0=51.5, lon_0=0.0, \n",
    "              resolution = 'l', area_thresh = 1000.0, \n",
    "              llcrnrlat=50, llcrnrlon=-11.0, \n",
    "              urcrnrlat=59, urcrnrlon=2.0)\n",
    "map.fillcontinents(color='lightgreen')\n",
    "x,y = map(-1.466944, 53.383611)\n",
    "map.plot(x, y, 'bo', markersize=4);"
   ]
  },
  {
   "cell_type": "code",
   "execution_count": null,
   "metadata": {
    "collapsed": true
   },
   "outputs": [],
   "source": []
  }
 ],
 "metadata": {
  "kernelspec": {
   "display_name": "Python 3",
   "language": "python",
   "name": "python3"
  },
  "language_info": {
   "codemirror_mode": {
    "name": "ipython",
    "version": 3
   },
   "file_extension": ".py",
   "mimetype": "text/x-python",
   "name": "python",
   "nbconvert_exporter": "python",
   "pygments_lexer": "ipython3",
   "version": "3.6.2"
  }
 },
 "nbformat": 4,
 "nbformat_minor": 1
}
