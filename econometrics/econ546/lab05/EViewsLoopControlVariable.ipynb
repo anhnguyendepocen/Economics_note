{
 "cells": [
  {
   "cell_type": "markdown",
   "metadata": {
    "slideshow": {
     "slide_type": "slide"
    }
   },
   "source": [
    "## ECON545 ASS5\n",
    "\n",
    "- Control variable\n",
    "- String variable\n",
    "- Replacement variable"
   ]
  },
  {
   "cell_type": "markdown",
   "metadata": {
    "slideshow": {
     "slide_type": "slide"
    }
   },
   "source": [
    "## Non-linear least squares\n",
    "\n",
    "\n",
    "ref: https://en.wikipedia.org/wiki/Non-linear_least_squares\n",
    "\n",
    "\n",
    "![](http://www.eviews.com/help/content/images/Regress2.029.5.01.jpg)\n",
    "\n",
    "where f is a general function of  the explanatory variables x and the parameters beta . Least squares estimation chooses the parameter values that minimize the sum of squared residuals:\n",
    "\n",
    "![](http://www.eviews.com/help/content/images/Regress2.029.5.05.jpg)\n",
    "\n",
    "\n",
    "We say that a model is linear in parameters if the derivatives of f with respect to the parameters do not depend upon beta; if the derivatives are functions of beta, we say that the model is nonlinear in parameters.\n",
    "\n",
    "\n",
    "We must use nonlinear least squares techniques to estimate the parameters of the model.\n",
    "\n",
    "Nonlinear least squares minimizes the sum-of-squared residuals with respect to the choice of parameters beta. While there is no closed form solution for the parameters, estimates my be obtained from iterative methods as described in “Optimization Algorithms”.\n",
    "\n",
    "\n"
   ]
  },
  {
   "cell_type": "markdown",
   "metadata": {
    "slideshow": {
     "slide_type": "slide"
    }
   },
   "source": [
    "### Estimating NLS Models In EViews\n",
    "\n",
    "It is easy to tell EViews that you wish to estimate the parameters of a model using nonlinear least squares. EViews automatically applies nonlinear least squares to any regression equation that is nonlinear in its coefficients. Simply select **Object/New Object.../Equation**, enter the equation in the equation specification dialog box, and click OK. EViews will do all of the work of estimating your model using an iterative algorithm.\n",
    "\n",
    "\n",
    "\n",
    "#### Specifying Nonlinear Least Squares\n",
    "\n",
    "For nonlinear regression models, you will have to enter your specification in equation form using EViews expressions that contain direct references to coefficients. You may use elements of the default coefficient vector C (e.g. C(1), C(2), C(34), C(87)), or you can define and use other coefficient vectors. For example:\n",
    "\n",
    "```\n",
    "\n",
    "y = c(1) + c(2)*(k^c(3)+l^c(4))\n",
    "```\n",
    "\n",
    "\n",
    "http://www.eviews.com/help/helpintro.html#page/content/Regress2-Nonlinear_Least_Squares.html"
   ]
  },
  {
   "cell_type": "markdown",
   "metadata": {
    "slideshow": {
     "slide_type": "slide"
    }
   },
   "source": [
    "## Optimization\n",
    "You may control the iterative process by specifying the optimization method, convergence criterion, and maximum number of iterations.\n",
    "\n",
    "The Optimization method dropdown menu lets you choose between the default Gauss-Newton and BFGS, Newton-Raphson, and EViews legacy methods.\n",
    "In general, the differences between the estimates should be small for well-behaved nonlinear specifications, but if you are experiencing trouble, you may wish to experiment with methods. Note that EViews legacy is a particular implementation of Gauss-Newton with Marquardt or line search steps, and is provided for backward estimation compatibility.\n",
    "\n",
    "The Step method allow you to choose the approach for choosing candidate iterative steps. The default method is Marquardt, but you may instead select Dogleg or Line Search."
   ]
  },
  {
   "cell_type": "markdown",
   "metadata": {
    "slideshow": {
     "slide_type": "slide"
    }
   },
   "source": [
    "## Starting Values\n",
    "Iterative estimation procedures require starting values for the coefficients of the model. The closer to the true values the better, so if you have reasonable guesses for parameter values, these can be useful. In some cases, you can obtain good starting values by estimating a restricted version of the model using least squares. In general, however, you may need to experiment in order to find starting values.\n",
    "\n",
    "There are no general rules for selecting starting values for parameters so there are no settings in this page for choosing values. EViews uses the values in the coefficient vector at the time you begin the estimation procedure as starting values for the iterative procedure. It is easy to examine and change these coefficient starting values. To see the current starting values, double click on the coefficient vector in the workfile directory. If the values appear to be reasonable, you can close the window and proceed with estimating your model.\n",
    "\n",
    "If you wish to change the starting values, first make certain that the spreadsheet view of your coefficients is in edit mode, then enter the coefficient values. When you are finished setting the initial values, close the coefficient vector window and estimate your model.\n",
    "\n",
    "You may also set starting coefficient values from the command window using the PARAM command. Simply enter the PARAM keyword, following by each coefficient and desired value. For example, if your default coefficient vector is C, the statement:\n",
    "\n",
    "```\n",
    "param c(1) 153 c(2) .68 c(3) .15\n",
    "```\n",
    "sets C(1)=153, C(2)=.68, and C(3)=.15."
   ]
  },
  {
   "cell_type": "markdown",
   "metadata": {},
   "source": [
    "## Output From NLS\n",
    "Once your model has been estimated, EViews displays an equation output screen showing the results of the nonlinear least squares procedure. Below is the output from a regression of LOG(CS) on C, and the Box-Cox transform of GDP using the data in the workfile “Chow_var.WF1”:\n",
    "\n",
    "![](http://www.eviews.com/help/content/images/Regress2.029.5.39.jpg)\n",
    "\n",
    "If the estimation procedure has converged, EViews will report this fact, along with the number of iterations that were required. If the iterative procedure did not converge, EViews will report “Convergence not achieved after” followed by the number of iterations attempted.\n",
    "\n",
    "Below the line describing convergence, and a description of the method employed in computing the coefficient covariances, EViews will repeat the nonlinear specification so that you can easily interpret the estimated coefficients of your model.\n",
    "\n",
    "EViews provides you with all of the usual summary statistics for regression models. Provided that your model has converged, the standard statistical results and tests are **asymptotically valid**.\n"
   ]
  },
  {
   "cell_type": "markdown",
   "metadata": {},
   "source": [
    "## Solving Estimation Problems\n",
    "\n",
    "\n",
    "### Model Identification\n",
    "If EViews goes through a number of iterations and then reports that it encounters a “Near Singular Matrix”, you should check to make certain that your model is identified. Models are said to be **non-identified** if there are multiple sets of coefficients which identically yield the minimized sum-of-squares value. If this condition holds, it is impossible to choose between the coefficients on the basis of the minimum sum-of-squares criterion.\n",
    "\n",
    "For example, the nonlinear specification:\n",
    "![](http://www.eviews.com/help/content/images/Regress2.029.5.48.jpg)\n",
    "\t\n",
    "(20.44)\n",
    "is not identified, since any coefficient pair  beta is indistinguishable from the pair -beta in terms of the sum-of-squared residuals.\n",
    "\n",
    "\n",
    "ref: http://www.eviews.com/help/helpintro.html#page/content%2Foptimize-Setting_Estimation_Options.html"
   ]
  },
  {
   "cell_type": "markdown",
   "metadata": {
    "slideshow": {
     "slide_type": "slide"
    }
   },
   "source": [
    "## [Control Variables](http://www.eviews.com/help/helpintro.html#page/content%2Fcprogram-Program_Variables.html%23ww332)\n",
    "\n",
    "You need not declare control variables, but you must assign them values before use. Control variable values are assigned in the usual way, with the control variable name on the left of an “=” sign and a numerical value or expression on the right. For example:\n",
    "```\n",
    "!x = 7\n",
    "!12345 = 0\n",
    "!counter = 12\n",
    "!pi = 3.14159\n",
    "```"
   ]
  },
  {
   "cell_type": "markdown",
   "metadata": {
    "slideshow": {
     "slide_type": "subslide"
    }
   },
   "source": [
    "Once assigned a value, a control variable may appear in an expression. For example:\n",
    "```\n",
    "!counter = !counter + 1\n",
    "genr dnorm = 1/sqr(2*!pi)*exp(-1/2*epsilon^2)\n",
    "scalar stdx = x/sqr(!varx)\n",
    "smpl 1950q1+!i 1960q4+!i\n",
    "```"
   ]
  },
  {
   "cell_type": "markdown",
   "metadata": {
    "slideshow": {
     "slide_type": "slide"
    }
   },
   "source": [
    "## [String Variables](http://www.eviews.com/help/helpintro.html#page/content%2Fcprogram-Program_Variables.html%23ww131590)\n",
    "\n",
    "String variables are assigned by putting the string variable name on the left of an “=” sign and a string expression on the right. For example, the following lines assign values to string variables:\n",
    "```\n",
    "%value = \"value in millions of u.s. dollars\"\n",
    "%armas = \"ar(1) ar(2) ma(1) ma(2)\"\n",
    "%mysample = \" 83m1 96m12\"\n",
    "%dep = \" hs\"\n",
    "%pi = \" 3.14159\"\n",
    "```"
   ]
  },
  {
   "cell_type": "markdown",
   "metadata": {
    "slideshow": {
     "slide_type": "subslide"
    }
   },
   "source": [
    "Here is a simple example where we use string operations to concatenate the contents of three string variables.\n",
    "```\n",
    "!repeat = 500\n",
    "%st1 = \" draws from the normal\"\n",
    "%st2 = \"Cauchy \"\n",
    "%st3 = @str(!repeat) + @left(%st1,16) + %st2 + \"distribution\"\n",
    "```\n",
    "In this example %ST3 is set to the value “500 draws from the Cauchy distribution”."
   ]
  },
  {
   "cell_type": "markdown",
   "metadata": {
    "slideshow": {
     "slide_type": "slide"
    }
   },
   "source": [
    "[Replacement Variables](http://www.eviews.com/help/helpintro.html#page/content%2Fcprogram-Program_Variables.html%23ww41251)\n",
    "\n",
    "When working with EViews commands, you may wish to use a string variable, not simply to refer to a string value, but as an indirect way of referring to something else, perhaps a command, or an object name, or portion of names for one or more items.\n",
    "```\n",
    "%x = \"gdp\"\n",
    "```"
   ]
  },
  {
   "cell_type": "markdown",
   "metadata": {
    "slideshow": {
     "slide_type": "subslide"
    }
   },
   "source": [
    "we would like to replace the string value with the name of an object. With the replacement variable **“{%X}”**, the command\n",
    "```\n",
    "equation eq1.ls {%x} c {%x}(-1)\n",
    "```\n",
    "would be interpreted by EViews as\n",
    "```\n",
    "equation eq1.ls gdp c gdp(-1)\n",
    "```"
   ]
  },
  {
   "cell_type": "markdown",
   "metadata": {
    "slideshow": {
     "slide_type": "slide"
    }
   },
   "source": [
    "To take another example, when trying to find the number of valid (non-missing) observations in a series named INCOME, you may use the @obs function along with the name of the series:\n",
    "```\n",
    "@obs(income)\n",
    "```\n",
    "If you wish to use a string variable %VAR to refer to the INCOME series, you must use the replacement variable in the @obs function, as in\n",
    "```\n",
    "%var = \"income\"\n",
    "@obs({%var})\n",
    "```\n",
    "since you wish to refer indirectly to the object named in %VAR. Note that the expression\n",
    "```\n",
    "@obs(%var)\n",
    "```\n",
    "will return an error since @obs requires a series or matrix object name as an argument."
   ]
  },
  {
   "cell_type": "markdown",
   "metadata": {
    "slideshow": {
     "slide_type": "slide"
    }
   },
   "source": [
    "## control variables to form replacement variables\n",
    "\n",
    "However, control variables may also be used to form replacement variables. For example, the commands\n",
    "```\n",
    "!i = 1\n",
    "series y{!i} = nrnd\n",
    "!j = 0\n",
    "series y{!j}{!i} = nrnd\n",
    "```\n",
    "are equivalent to\n",
    "```\n",
    "series y1 = nrnd\n",
    "series y01 = nrnd\n",
    "```\n",
    "and will create two series Y1 and Y01 that contain a set of (pseudo-)random draws from a standard normal distribution."
   ]
  },
  {
   "cell_type": "code",
   "execution_count": null,
   "metadata": {
    "collapsed": true,
    "slideshow": {
     "slide_type": "slide"
    }
   },
   "outputs": [],
   "source": []
  }
 ],
 "metadata": {
  "celltoolbar": "Slideshow",
  "kernelspec": {
   "display_name": "Python 3",
   "language": "python",
   "name": "python3"
  },
  "language_info": {
   "codemirror_mode": {
    "name": "ipython",
    "version": 3
   },
   "file_extension": ".py",
   "mimetype": "text/x-python",
   "name": "python",
   "nbconvert_exporter": "python",
   "pygments_lexer": "ipython3",
   "version": "3.5.2"
  }
 },
 "nbformat": 4,
 "nbformat_minor": 2
}
