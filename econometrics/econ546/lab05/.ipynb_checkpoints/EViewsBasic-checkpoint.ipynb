{
 "cells": [
  {
   "cell_type": "markdown",
   "metadata": {
    "slideshow": {
     "slide_type": "slide"
    }
   },
   "source": [
    "## Data\n",
    "\n",
    "```\n",
    "import \"\\\\home.uvic.ca\\jonduan\\My Documents\\545-2016-fall\\card1.xls\" range=card1 colhead=1 na=\"#N/A\" @freq U 1 @smpl @all\n",
    "\n",
    "'part1:  comment : generate a new series\n",
    "series logwage = log(wage)\n",
    "group group01 gdp cons inv g x\n",
    "```\n",
    "create the group GROUP01 containing the series GDP, CONS, INV, G, and X.\n"
   ]
  },
  {
   "cell_type": "markdown",
   "metadata": {
    "slideshow": {
     "slide_type": "slide"
    }
   },
   "source": [
    "## Plot\n",
    "\n",
    "```\n",
    "'part 06\n",
    "' scatter plot\n",
    "group group02 wage age\n",
    "group02.scat\n",
    "\n",
    "```\n",
    "\n",
    "\n"
   ]
  },
  {
   "cell_type": "markdown",
   "metadata": {
    "slideshow": {
     "slide_type": "slide"
    }
   },
   "source": [
    "## Statistics \n",
    "\n",
    "```\n",
    "'part 2: stats for series\n",
    "wage.hist\n",
    "wage.stats\n",
    "group01.stats\n",
    "\n",
    "```\n"
   ]
  },
  {
   "cell_type": "markdown",
   "metadata": {
    "slideshow": {
     "slide_type": "slide"
    }
   },
   "source": [
    "## Sample\n",
    "\n",
    "```\n",
    "'part 5\n",
    "\n",
    "smpl @first @first+10\n",
    "smpl @last - 100  @last\n",
    "smpl @all if wage>2000\n",
    "smpl @all\n",
    "```\n"
   ]
  },
  {
   "cell_type": "markdown",
   "metadata": {
    "slideshow": {
     "slide_type": "slide"
    }
   },
   "source": [
    "## Generate Dummy Variables\n",
    "\n",
    "An object may be declared multiple times so long as it is always declared to be of the same type. The first declaration will create the object, subsequent declarations will have no effect unless the subsequent declaration also specifies how the object is to be initialized. For example:\n",
    "```\n",
    "smpl @first 1979\n",
    "series dummy = 1\n",
    "smpl 1980 @last\n",
    "series dummy=0\n",
    "```\n",
    "creates a series named DUMMY that has the value 1 prior to 1980 and the value 0 thereafter."
   ]
  },
  {
   "cell_type": "markdown",
   "metadata": {
    "slideshow": {
     "slide_type": "slide"
    }
   },
   "source": [
    "## Regression\n",
    "\n",
    "[To declare an equation object, enter the keyword equation, followed by a name:](http://www.eviews.com/help/helpintro.html#page/content/equationcmd-Equation.html#wwconnect_header)\n",
    "\n",
    "\n",
    "```\n",
    "equation eq01.ls y=c(10)+b(5)*y(-1)+a(7)*inc\n",
    "```\n",
    "`y(-1)` is lag of  `y`\n",
    "\n",
    "\n"
   ]
  },
  {
   "cell_type": "markdown",
   "metadata": {
    "slideshow": {
     "slide_type": "slide"
    }
   },
   "source": [
    "## Post Estimation \n",
    "\n",
    "Functions that return a vector or matrix object should be assigned to the corresponding object type. For example, you should assign the results from @tstats to a vector:\n",
    "\n",
    "```\n",
    "vector tstats = eq1.@tstats\n",
    "```\n",
    "and the covariance matrix to a matrix:\n",
    "\n",
    "```\n",
    "matrix mycov = eq1.@cov\n",
    "```\n"
   ]
  },
  {
   "cell_type": "markdown",
   "metadata": {
    "slideshow": {
     "slide_type": "subslide"
    }
   },
   "source": [
    "You can also access individual elements of these statistics:\n",
    "\n",
    "```\n",
    "scalar pvalue = 1-@cnorm(@abs(eq1.@tstats(4)))\n",
    "scalar var1 = eq1.@covariance(1,1)\n",
    "```"
   ]
  },
  {
   "cell_type": "markdown",
   "metadata": {
    "slideshow": {
     "slide_type": "slide"
    }
   },
   "source": [
    "## Basic Command\n",
    "\n",
    "|Command|Meaning  |\n",
    "|-------------|-----------------------------------------------------|\n",
    "| @coefs(i)   | i-th coefficient value                              |\n",
    "| @stderrs(i) | standard error for coefficient i.                   |\n",
    "| @tstats(i)  | t-statistic or z-statistic value for coefficient i. |\n",
    "| @regobs     | number of observations                              |\n",
    "| @ncoef      | number of estimated coefficients.                   |\n",
    "| @pval(i)    | i-th coefficient p-value                            |\n",
    "| @ssr        | sum of squared residuals.                           |\n",
    "| @r2         | R-squared statistic                                 |\n",
    "| @rbar2      | adjusted R-squared statistic.                       |\n",
    "\n"
   ]
  },
  {
   "cell_type": "markdown",
   "metadata": {
    "slideshow": {
     "slide_type": "slide"
    }
   },
   "source": [
    "## F test"
   ]
  },
  {
   "cell_type": "code",
   "execution_count": null,
   "metadata": {
    "scrolled": true,
    "slideshow": {
     "slide_type": "subslide"
    }
   },
   "outputs": [],
   "source": [
    "from IPython.display import YouTubeVideo\n",
    "YouTubeVideo(\"ie-MYQp1Nic\")"
   ]
  },
  {
   "cell_type": "code",
   "execution_count": null,
   "metadata": {
    "slideshow": {
     "slide_type": "subslide"
    }
   },
   "outputs": [],
   "source": [
    "from IPython.display import YouTubeVideo\n",
    "YouTubeVideo(\"orGhAoQvSOM\")"
   ]
  },
  {
   "cell_type": "markdown",
   "metadata": {
    "slideshow": {
     "slide_type": "slide"
    }
   },
   "source": [
    "## The F test - R Squared form"
   ]
  },
  {
   "cell_type": "code",
   "execution_count": null,
   "metadata": {
    "slideshow": {
     "slide_type": "subslide"
    }
   },
   "outputs": [],
   "source": [
    "from IPython.display import YouTubeVideo\n",
    "YouTubeVideo(\"Bs1koG5U2QU\")"
   ]
  },
  {
   "cell_type": "markdown",
   "metadata": {
    "slideshow": {
     "slide_type": "slide"
    }
   },
   "source": [
    "## F test in Eviews\n"
   ]
  },
  {
   "cell_type": "code",
   "execution_count": null,
   "metadata": {
    "slideshow": {
     "slide_type": "subslide"
    }
   },
   "outputs": [],
   "source": [
    "from IPython.display import YouTubeVideo\n",
    "YouTubeVideo(\"c1ODWtMQRLw\")"
   ]
  },
  {
   "cell_type": "markdown",
   "metadata": {
    "slideshow": {
     "slide_type": "slide"
    }
   },
   "source": [
    "## Relationship Between R Square and F Statistics EVIEWS"
   ]
  },
  {
   "cell_type": "code",
   "execution_count": null,
   "metadata": {
    "slideshow": {
     "slide_type": "subslide"
    }
   },
   "outputs": [],
   "source": [
    "from IPython.display import YouTubeVideo\n",
    "YouTubeVideo(\"JD0jelD_rDQ\")"
   ]
  },
  {
   "cell_type": "markdown",
   "metadata": {
    "slideshow": {
     "slide_type": "slide"
    }
   },
   "source": [
    "To perform a Wald test:\n",
    "```\n",
    "eq01.wald a(7)=exp(b(5))\n",
    "```"
   ]
  },
  {
   "cell_type": "markdown",
   "metadata": {
    "slideshow": {
     "slide_type": "slide"
    }
   },
   "source": [
    "\n",
    "\n",
    "The fitted values from EQ01 may be saved using,\n",
    "```\n",
    "series fit = eq01.@coefs(1) + eq01.@coefs(2)*y(‑1) + eq01.@coefs(3)*inc\n",
    "```\n",
    "\n"
   ]
  }
 ],
 "metadata": {
  "celltoolbar": "Slideshow",
  "kernelspec": {
   "display_name": "Python 3",
   "language": "python",
   "name": "python3"
  },
  "language_info": {
   "codemirror_mode": {
    "name": "ipython",
    "version": 3
   },
   "file_extension": ".py",
   "mimetype": "text/x-python",
   "name": "python",
   "nbconvert_exporter": "python",
   "pygments_lexer": "ipython3",
   "version": "3.6.2"
  }
 },
 "nbformat": 4,
 "nbformat_minor": 2
}
