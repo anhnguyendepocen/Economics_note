{
 "cells": [
  {
   "cell_type": "code",
   "execution_count": 4,
   "metadata": {
    "collapsed": true
   },
   "outputs": [],
   "source": [
    "import sympy\n",
    "sympy.init_printing()"
   ]
  },
  {
   "cell_type": "markdown",
   "metadata": {},
   "source": [
    "1. Suppose $z \\sim \\chi^2(p)$ with characteristic function to show that"
   ]
  },
  {
   "cell_type": "code",
   "execution_count": null,
   "metadata": {
    "collapsed": true
   },
   "outputs": [],
   "source": []
  },
  {
   "cell_type": "code",
   "execution_count": null,
   "metadata": {
    "collapsed": true
   },
   "outputs": [],
   "source": []
  },
  {
   "cell_type": "code",
   "execution_count": 5,
   "metadata": {
    "collapsed": true
   },
   "outputs": [],
   "source": [
    "i, t, p = sympy.symbols(\"i, t, p\")"
   ]
  },
  {
   "cell_type": "code",
   "execution_count": 8,
   "metadata": {
    "collapsed": false
   },
   "outputs": [
    {
     "data": {
      "image/png": "[encoded data removed]",
      "text/latex": [
       "$$\\left(- 2 i t + 1\\right)^{- \\frac{p}{2}}$$"
      ],
      "text/plain": [
       "            -p \n",
       "            ───\n",
       "             2 \n",
       "(-2⋅i⋅t + 1)   "
      ]
     },
     "execution_count": 8,
     "metadata": {},
     "output_type": "execute_result"
    }
   ],
   "source": [
    "Phi = (1-2*i*t)**(-p/2)\n",
    "Phi"
   ]
  },
  {
   "cell_type": "code",
   "execution_count": 9,
   "metadata": {
    "collapsed": false
   },
   "outputs": [
    {
     "data": {
      "image/png": "[encoded data removed]",
      "text/latex": [
       "$$\\frac{i p \\left(- 2 i t + 1\\right)^{- \\frac{p}{2}}}{- 2 i t + 1}$$"
      ],
      "text/plain": [
       "                -p \n",
       "                ───\n",
       "                 2 \n",
       "i⋅p⋅(-2⋅i⋅t + 1)   \n",
       "───────────────────\n",
       "     -2⋅i⋅t + 1    "
      ]
     },
     "execution_count": 9,
     "metadata": {},
     "output_type": "execute_result"
    }
   ],
   "source": [
    "# mu_1'\n",
    "Phi.diff(t)"
   ]
  },
  {
   "cell_type": "code",
   "execution_count": 26,
   "metadata": {
    "collapsed": false
   },
   "outputs": [
    {
     "data": {
      "image/png": "[encoded data removed]",
      "text/latex": [
       "$$p$$"
      ],
      "text/plain": [
       "p"
      ]
     },
     "execution_count": 26,
     "metadata": {},
     "output_type": "execute_result"
    }
   ],
   "source": [
    "mu_1p = Phi.diff(t).subs({t:0})/i\n",
    "mu_1p"
   ]
  },
  {
   "cell_type": "code",
   "execution_count": 27,
   "metadata": {
    "collapsed": false
   },
   "outputs": [
    {
     "data": {
      "image/png": "[encoded data removed]",
      "text/latex": [
       "$$\\frac{i^{2} p \\left(- 2 i t + 1\\right)^{- \\frac{p}{2}}}{\\left(2 i t - 1\\right)^{2}} \\left(p + 2\\right)$$"
      ],
      "text/plain": [
       "                         -p \n",
       "                         ───\n",
       " 2                        2 \n",
       "i ⋅p⋅(p + 2)⋅(-2⋅i⋅t + 1)   \n",
       "────────────────────────────\n",
       "                   2        \n",
       "        (2⋅i⋅t - 1)         "
      ]
     },
     "execution_count": 27,
     "metadata": {},
     "output_type": "execute_result"
    }
   ],
   "source": [
    "#mu_2'\n",
    "Phi.diff(t,2)"
   ]
  },
  {
   "cell_type": "code",
   "execution_count": 28,
   "metadata": {
    "collapsed": false
   },
   "outputs": [
    {
     "data": {
      "image/png": "[encoded data removed]",
      "text/latex": [
       "$$p \\left(p + 2\\right)$$"
      ],
      "text/plain": [
       "p⋅(p + 2)"
      ]
     },
     "execution_count": 28,
     "metadata": {},
     "output_type": "execute_result"
    }
   ],
   "source": [
    "mu_2p =(Phi.diff(t,2)/i**2).subs({t:0,i:sympy.I})\n",
    "mu_2p"
   ]
  },
  {
   "cell_type": "code",
   "execution_count": 34,
   "metadata": {
    "collapsed": false
   },
   "outputs": [
    {
     "data": {
      "image/png": "[encoded data removed]",
      "text/latex": [
       "$$2 p$$"
      ],
      "text/plain": [
       "2⋅p"
      ]
     },
     "execution_count": 34,
     "metadata": {},
     "output_type": "execute_result"
    }
   ],
   "source": [
    "mu_2=sympy.simplify(mu_2p-mu_1p**2)\n",
    "mu_2"
   ]
  },
  {
   "cell_type": "code",
   "execution_count": null,
   "metadata": {
    "collapsed": true
   },
   "outputs": [],
   "source": []
  },
  {
   "cell_type": "code",
   "execution_count": 30,
   "metadata": {
    "collapsed": false
   },
   "outputs": [
    {
     "data": {
      "image/png": "[encoded data removed]",
      "text/latex": [
       "$$- \\frac{i^{3} p \\left(- 2 i t + 1\\right)^{- \\frac{p}{2}}}{\\left(2 i t - 1\\right)^{3}} \\left(p^{2} + 6 p + 8\\right)$$"
      ],
      "text/plain": [
       "                  -p                 \n",
       "                  ───                \n",
       "  3                2  ⎛ 2          ⎞ \n",
       "-i ⋅p⋅(-2⋅i⋅t + 1)   ⋅⎝p  + 6⋅p + 8⎠ \n",
       "─────────────────────────────────────\n",
       "                        3            \n",
       "             (2⋅i⋅t - 1)             "
      ]
     },
     "execution_count": 30,
     "metadata": {},
     "output_type": "execute_result"
    }
   ],
   "source": [
    "#mu_3'\n",
    "Phi.diff(t,3)"
   ]
  },
  {
   "cell_type": "code",
   "execution_count": 31,
   "metadata": {
    "collapsed": false
   },
   "outputs": [
    {
     "data": {
      "image/png": "[encoded data removed]",
      "text/latex": [
       "$$p^{3} + 6 p^{2} + 8 p$$"
      ],
      "text/plain": [
       " 3      2      \n",
       "p  + 6⋅p  + 8⋅p"
      ]
     },
     "execution_count": 31,
     "metadata": {},
     "output_type": "execute_result"
    }
   ],
   "source": [
    "mu_3p =(Phi.diff(t,3)/i**3).subs({t:0,i:sympy.I})\n",
    "mu_3p.expand()"
   ]
  },
  {
   "cell_type": "code",
   "execution_count": 36,
   "metadata": {
    "collapsed": false
   },
   "outputs": [
    {
     "data": {
      "image/png": "[encoded data removed]",
      "text/latex": [
       "$$8 p$$"
      ],
      "text/plain": [
       "8⋅p"
      ]
     },
     "execution_count": 36,
     "metadata": {},
     "output_type": "execute_result"
    }
   ],
   "source": [
    "mu_3 = mu_3p+2*(mu_1p)**3 - 3*mu_1p*mu_2p\n",
    "mu_3=mu_3.simplify()\n",
    "mu_3"
   ]
  },
  {
   "cell_type": "code",
   "execution_count": 37,
   "metadata": {
    "collapsed": false
   },
   "outputs": [
    {
     "data": {
      "image/png": "[encoded data removed]",
      "text/latex": [
       "$$\\frac{2.82842712474619}{p^{0.5}}$$"
      ],
      "text/plain": [
       "                  -0.5\n",
       "2.82842712474619⋅p    "
      ]
     },
     "execution_count": 37,
     "metadata": {},
     "output_type": "execute_result"
    }
   ],
   "source": [
    "skewness = mu_3/(mu_2**(3/2))\n",
    "skewness"
   ]
  },
  {
   "cell_type": "code",
   "execution_count": null,
   "metadata": {
    "collapsed": true
   },
   "outputs": [],
   "source": []
  },
  {
   "cell_type": "code",
   "execution_count": 38,
   "metadata": {
    "collapsed": false
   },
   "outputs": [
    {
     "data": {
      "image/png": "[encoded data removed]",
      "text/latex": [
       "$$\\frac{i^{4} p \\left(- 2 i t + 1\\right)^{- \\frac{p}{2}}}{\\left(2 i t - 1\\right)^{4}} \\left(p^{3} + 12 p^{2} + 44 p + 48\\right)$$"
      ],
      "text/plain": [
       "                 -p                          \n",
       "                 ───                         \n",
       " 4                2  ⎛ 3       2            ⎞\n",
       "i ⋅p⋅(-2⋅i⋅t + 1)   ⋅⎝p  + 12⋅p  + 44⋅p + 48⎠\n",
       "─────────────────────────────────────────────\n",
       "                            4                \n",
       "                 (2⋅i⋅t - 1)                 "
      ]
     },
     "execution_count": 38,
     "metadata": {},
     "output_type": "execute_result"
    }
   ],
   "source": [
    "#mu_4p\n",
    "Phi.diff(t,4)"
   ]
  },
  {
   "cell_type": "code",
   "execution_count": 40,
   "metadata": {
    "collapsed": false
   },
   "outputs": [
    {
     "data": {
      "image/png": "[encoded data removed]",
      "text/latex": [
       "$$p^{4} + 12 p^{3} + 44 p^{2} + 48 p$$"
      ],
      "text/plain": [
       " 4       3       2       \n",
       "p  + 12⋅p  + 44⋅p  + 48⋅p"
      ]
     },
     "execution_count": 40,
     "metadata": {},
     "output_type": "execute_result"
    }
   ],
   "source": [
    "mu_4p = (Phi.diff(t,4)/i**4).subs({t:0,i:sympy.I})\n",
    "mu_4p.expand()"
   ]
  },
  {
   "cell_type": "code",
   "execution_count": 42,
   "metadata": {
    "collapsed": false
   },
   "outputs": [
    {
     "data": {
      "image/png": "[encoded data removed]",
      "text/latex": [
       "$$12 p \\left(p + 4\\right)$$"
      ],
      "text/plain": [
       "12⋅p⋅(p + 4)"
      ]
     },
     "execution_count": 42,
     "metadata": {},
     "output_type": "execute_result"
    }
   ],
   "source": [
    "mu_4 = mu_4p - 3*mu_1p**4 -4*(mu_1p)*mu_3p + 6*mu_2p*mu_1p**2\n",
    "mu_4=mu_4.simplify()\n",
    "mu_4"
   ]
  },
  {
   "cell_type": "code",
   "execution_count": 43,
   "metadata": {
    "collapsed": false
   },
   "outputs": [
    {
     "data": {
      "image/png": "[encoded data removed]",
      "text/latex": [
       "$$\\frac{1}{p} \\left(3 p + 12\\right)$$"
      ],
      "text/plain": [
       "3⋅(p + 4)\n",
       "─────────\n",
       "    p    "
      ]
     },
     "execution_count": 43,
     "metadata": {},
     "output_type": "execute_result"
    }
   ],
   "source": [
    "kurtosis = mu_4/mu_2**2\n",
    "kurtosis\n",
    "  "
   ]
  },
  {
   "cell_type": "code",
   "execution_count": 45,
   "metadata": {
    "collapsed": false
   },
   "outputs": [
    {
     "data": {
      "image/png": "[encoded data removed]",
      "text/latex": [
       "$$\\frac{12}{p}$$"
      ],
      "text/plain": [
       "12\n",
       "──\n",
       "p "
      ]
     },
     "execution_count": 45,
     "metadata": {},
     "output_type": "execute_result"
    }
   ],
   "source": [
    "excesskurtosis =kurtosis-3\n",
    "excesskurtosis.simplify()"
   ]
  },
  {
   "cell_type": "code",
   "execution_count": null,
   "metadata": {
    "collapsed": true
   },
   "outputs": [],
   "source": []
  },
  {
   "cell_type": "markdown",
   "metadata": {},
   "source": [
    "2. Suppose we have a random (i.i.d.) sample of size ; drawn from a distribution whose density function is given by (\u0010 \f",
    " 1,2, … , ;\b:"
   ]
  },
  {
   "cell_type": "code",
   "execution_count": null,
   "metadata": {
    "collapsed": true
   },
   "outputs": [],
   "source": []
  },
  {
   "cell_type": "code",
   "execution_count": null,
   "metadata": {
    "collapsed": true
   },
   "outputs": [],
   "source": []
  },
  {
   "cell_type": "code",
   "execution_count": null,
   "metadata": {
    "collapsed": true
   },
   "outputs": [],
   "source": []
  }
 ],
 "metadata": {
  "kernelspec": {
   "display_name": "Python 3",
   "language": "python",
   "name": "python3"
  },
  "language_info": {
   "codemirror_mode": {
    "name": "ipython",
    "version": 3
   },
   "file_extension": ".py",
   "mimetype": "text/x-python",
   "name": "python",
   "nbconvert_exporter": "python",
   "pygments_lexer": "ipython3",
   "version": "3.5.2"
  }
 },
 "nbformat": 4,
 "nbformat_minor": 2
}
