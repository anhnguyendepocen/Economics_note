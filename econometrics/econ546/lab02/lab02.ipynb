{
 "cells": [
  {
   "cell_type": "code",
   "execution_count": 4,
   "metadata": {
    "collapsed": true
   },
   "outputs": [],
   "source": [
    "import sympy\n",
    "sympy.init_printing()"
   ]
  },
  {
   "cell_type": "markdown",
   "metadata": {},
   "source": [
    "1. Suppose $z \\sim \\chi^2(p)$ with characteristic function to show that"
   ]
  },
  {
   "cell_type": "code",
   "execution_count": null,
   "metadata": {
    "collapsed": true
   },
   "outputs": [],
   "source": []
  },
  {
   "cell_type": "code",
   "execution_count": null,
   "metadata": {
    "collapsed": true
   },
   "outputs": [],
   "source": []
  },
  {
   "cell_type": "code",
   "execution_count": 5,
   "metadata": {
    "collapsed": true
   },
   "outputs": [],
   "source": [
    "i, t, p = sympy.symbols(\"i, t, p\")"
   ]
  },
  {
   "cell_type": "code",
   "execution_count": 8,
   "metadata": {
    "collapsed": false
   },
   "outputs": [
    {
     "data": {
      "image/png": "[encoded data removed]",
      "text/latex": [
       "$$\\left(- 2 i t + 1\\right)^{- \\frac{p}{2}}$$"
      ],
      "text/plain": [
       "            -p \n",
       "            ───\n",
       "             2 \n",
       "(-2⋅i⋅t + 1)   "
      ]
     },
     "execution_count": 8,
     "metadata": {},
     "output_type": "execute_result"
    }
   ],
   "source": [
    "Phi = (1-2*i*t)**(-p/2)\n",
    "Phi"
   ]
  },
  {
   "cell_type": "code",
   "execution_count": 9,
   "metadata": {
    "collapsed": false
   },
   "outputs": [
    {
     "data": {
      "image/png": "[encoded data removed]",
      "text/latex": [
       "$$\\frac{i p \\left(- 2 i t + 1\\right)^{- \\frac{p}{2}}}{- 2 i t + 1}$$"
      ],
      "text/plain": [
       "                -p \n",
       "                ───\n",
       "                 2 \n",
       "i⋅p⋅(-2⋅i⋅t + 1)   \n",
       "───────────────────\n",
       "     -2⋅i⋅t + 1    "
      ]
     },
     "execution_count": 9,
     "metadata": {},
     "output_type": "execute_result"
    }
   ],
   "source": [
    "# mu_1'\n",
    "Phi.diff(t)"
   ]
  },
  {
   "cell_type": "code",
   "execution_count": 26,
   "metadata": {
    "collapsed": false
   },
   "outputs": [
    {
     "data": {
      "image/png": "[encoded data removed]",
      "text/latex": [
       "$$p$$"
      ],
      "text/plain": [
       "p"
      ]
     },
     "execution_count": 26,
     "metadata": {},
     "output_type": "execute_result"
    }
   ],
   "source": [
    "mu_1p = Phi.diff(t).subs({t:0})/i\n",
    "mu_1p"
   ]
  },
  {
   "cell_type": "code",
   "execution_count": 27,
   "metadata": {
    "collapsed": false
   },
   "outputs": [
    {
     "data": {
      "image/png": "[encoded data removed]",
      "text/latex": [
       "$$\\frac{i^{2} p \\left(- 2 i t + 1\\right)^{- \\frac{p}{2}}}{\\left(2 i t - 1\\right)^{2}} \\left(p + 2\\right)$$"
      ],
      "text/plain": [
       "                         -p \n",
       "                         ───\n",
       " 2                        2 \n",
       "i ⋅p⋅(p + 2)⋅(-2⋅i⋅t + 1)   \n",
       "────────────────────────────\n",
       "                   2        \n",
       "        (2⋅i⋅t - 1)         "
      ]
     },
     "execution_count": 27,
     "metadata": {},
     "output_type": "execute_result"
    }
   ],
   "source": [
    "#mu_2'\n",
    "Phi.diff(t,2)"
   ]
  },
  {
   "cell_type": "code",
   "execution_count": 28,
   "metadata": {
    "collapsed": false
   },
   "outputs": [
    {
     "data": {
      "image/png": "[encoded data removed]",
      "text/latex": [
       "$$p \\left(p + 2\\right)$$"
      ],
      "text/plain": [
       "p⋅(p + 2)"
      ]
     },
     "execution_count": 28,
     "metadata": {},
     "output_type": "execute_result"
    }
   ],
   "source": [
    "mu_2p =(Phi.diff(t,2)/i**2).subs({t:0,i:sympy.I})\n",
    "mu_2p"
   ]
  },
  {
   "cell_type": "code",
   "execution_count": 34,
   "metadata": {
    "collapsed": false
   },
   "outputs": [
    {
     "data": {
      "image/png": "[encoded data removed]",
      "text/latex": [
       "$$2 p$$"
      ],
      "text/plain": [
       "2⋅p"
      ]
     },
     "execution_count": 34,
     "metadata": {},
     "output_type": "execute_result"
    }
   ],
   "source": [
    "mu_2=sympy.simplify(mu_2p-mu_1p**2)\n",
    "mu_2"
   ]
  },
  {
   "cell_type": "code",
   "execution_count": null,
   "metadata": {
    "collapsed": true
   },
   "outputs": [],
   "source": []
  },
  {
   "cell_type": "code",
   "execution_count": 30,
   "metadata": {
    "collapsed": false
   },
   "outputs": [
    {
     "data": {
      "image/png": "[encoded data removed]",
      "text/latex": [
       "$$- \\frac{i^{3} p \\left(- 2 i t + 1\\right)^{- \\frac{p}{2}}}{\\left(2 i t - 1\\right)^{3}} \\left(p^{2} + 6 p + 8\\right)$$"
      ],
      "text/plain": [
       "                  -p                 \n",
       "                  ───                \n",
       "  3                2  ⎛ 2          ⎞ \n",
       "-i ⋅p⋅(-2⋅i⋅t + 1)   ⋅⎝p  + 6⋅p + 8⎠ \n",
       "─────────────────────────────────────\n",
       "                        3            \n",
       "             (2⋅i⋅t - 1)             "
      ]
     },
     "execution_count": 30,
     "metadata": {},
     "output_type": "execute_result"
    }
   ],
   "source": [
    "#mu_3'\n",
    "Phi.diff(t,3)"
   ]
  },
  {
   "cell_type": "code",
   "execution_count": 31,
   "metadata": {
    "collapsed": false
   },
   "outputs": [
    {
     "data": {
      "image/png": "[encoded data removed]",
      "text/latex": [
       "$$p^{3} + 6 p^{2} + 8 p$$"
      ],
      "text/plain": [
       " 3      2      \n",
       "p  + 6⋅p  + 8⋅p"
      ]
     },
     "execution_count": 31,
     "metadata": {},
     "output_type": "execute_result"
    }
   ],
   "source": [
    "mu_3p =(Phi.diff(t,3)/i**3).subs({t:0,i:sympy.I})\n",
    "mu_3p.expand()"
   ]
  },
  {
   "cell_type": "code",
   "execution_count": 36,
   "metadata": {
    "collapsed": false
   },
   "outputs": [
    {
     "data": {
      "image/png": "[encoded data removed]",
      "text/latex": [
       "$$8 p$$"
      ],
      "text/plain": [
       "8⋅p"
      ]
     },
     "execution_count": 36,
     "metadata": {},
     "output_type": "execute_result"
    }
   ],
   "source": [
    "mu_3 = mu_3p+2*(mu_1p)**3 - 3*mu_1p*mu_2p\n",
    "mu_3=mu_3.simplify()\n",
    "mu_3"
   ]
  },
  {
   "cell_type": "code",
   "execution_count": 37,
   "metadata": {
    "collapsed": false
   },
   "outputs": [
    {
     "data": {
      "image/png": "[encoded data removed]",
      "text/latex": [
       "$$\\frac{2.82842712474619}{p^{0.5}}$$"
      ],
      "text/plain": [
       "                  -0.5\n",
       "2.82842712474619⋅p    "
      ]
     },
     "execution_count": 37,
     "metadata": {},
     "output_type": "execute_result"
    }
   ],
   "source": [
    "skewness = mu_3/(mu_2**(3/2))\n",
    "skewness"
   ]
  },
  {
   "cell_type": "code",
   "execution_count": null,
   "metadata": {
    "collapsed": true
   },
   "outputs": [],
   "source": []
  },
  {
   "cell_type": "code",
   "execution_count": 38,
   "metadata": {
    "collapsed": false
   },
   "outputs": [
    {
     "data": {
      "image/png": "[encoded data removed]",
      "text/latex": [
       "$$\\frac{i^{4} p \\left(- 2 i t + 1\\right)^{- \\frac{p}{2}}}{\\left(2 i t - 1\\right)^{4}} \\left(p^{3} + 12 p^{2} + 44 p + 48\\right)$$"
      ],
      "text/plain": [
       "                 -p                          \n",
       "                 ───                         \n",
       " 4                2  ⎛ 3       2            ⎞\n",
       "i ⋅p⋅(-2⋅i⋅t + 1)   ⋅⎝p  + 12⋅p  + 44⋅p + 48⎠\n",
       "─────────────────────────────────────────────\n",
       "                            4                \n",
       "                 (2⋅i⋅t - 1)                 "
      ]
     },
     "execution_count": 38,
     "metadata": {},
     "output_type": "execute_result"
    }
   ],
   "source": [
    "#mu_4p\n",
    "Phi.diff(t,4)"
   ]
  },
  {
   "cell_type": "code",
   "execution_count": 40,
   "metadata": {
    "collapsed": false
   },
   "outputs": [
    {
     "data": {
      "image/png": "[encoded data removed]",
      "text/latex": [
       "$$p^{4} + 12 p^{3} + 44 p^{2} + 48 p$$"
      ],
      "text/plain": [
       " 4       3       2       \n",
       "p  + 12⋅p  + 44⋅p  + 48⋅p"
      ]
     },
     "execution_count": 40,
     "metadata": {},
     "output_type": "execute_result"
    }
   ],
   "source": [
    "mu_4p = (Phi.diff(t,4)/i**4).subs({t:0,i:sympy.I})\n",
    "mu_4p.expand()"
   ]
  },
  {
   "cell_type": "code",
   "execution_count": 42,
   "metadata": {
    "collapsed": false
   },
   "outputs": [
    {
     "data": {
      "image/png": "[encoded data removed]",
      "text/latex": [
       "$$12 p \\left(p + 4\\right)$$"
      ],
      "text/plain": [
       "12⋅p⋅(p + 4)"
      ]
     },
     "execution_count": 42,
     "metadata": {},
     "output_type": "execute_result"
    }
   ],
   "source": [
    "mu_4 = mu_4p - 3*mu_1p**4 -4*(mu_1p)*mu_3p + 6*mu_2p*mu_1p**2\n",
    "mu_4=mu_4.simplify()\n",
    "mu_4"
   ]
  },
  {
   "cell_type": "code",
   "execution_count": 43,
   "metadata": {
    "collapsed": false
   },
   "outputs": [
    {
     "data": {
      "image/png": "[encoded data removed]",
      "text/latex": [
       "$$\\frac{1}{p} \\left(3 p + 12\\right)$$"
      ],
      "text/plain": [
       "3⋅(p + 4)\n",
       "─────────\n",
       "    p    "
      ]
     },
     "execution_count": 43,
     "metadata": {},
     "output_type": "execute_result"
    }
   ],
   "source": [
    "kurtosis = mu_4/mu_2**2\n",
    "kurtosis\n",
    "  "
   ]
  },
  {
   "cell_type": "code",
   "execution_count": 45,
   "metadata": {
    "collapsed": false
   },
   "outputs": [
    {
     "data": {
      "image/png": "[encoded data removed]",
      "text/latex": [
       "$$\\frac{12}{p}$$"
      ],
      "text/plain": [
       "12\n",
       "──\n",
       "p "
      ]
     },
     "execution_count": 45,
     "metadata": {},
     "output_type": "execute_result"
    }
   ],
   "source": [
    "excesskurtosis =kurtosis-3\n",
    "excesskurtosis.simplify()"
   ]
  },
  {
   "cell_type": "code",
   "execution_count": null,
   "metadata": {
    "collapsed": true
   },
   "outputs": [],
   "source": []
  },
  {
   "cell_type": "markdown",
   "metadata": {},
   "source": [
    "2. Suppose we have a random (i.i.d.) sample of size ; drawn from a distribution whose density function is given by (i = 1,2, … , n) :\n",
    "\n",
    "$$f(y_i, \\theta) = 2 y_i/ \\theta^2$$"
   ]
  },
  {
   "cell_type": "code",
   "execution_count": 47,
   "metadata": {
    "collapsed": true
   },
   "outputs": [],
   "source": [
    "from sympy import *"
   ]
  },
  {
   "cell_type": "code",
   "execution_count": null,
   "metadata": {
    "collapsed": true
   },
   "outputs": [],
   "source": []
  },
  {
   "cell_type": "code",
   "execution_count": 58,
   "metadata": {
    "collapsed": false
   },
   "outputs": [
    {
     "data": {
      "image/png": "[encoded data removed]",
      "text/latex": [
       "$$\\frac{\\sum_{i=1}^{n} y_{i}}{n}$$"
      ],
      "text/plain": [
       "  n     \n",
       " ___    \n",
       " ╲      \n",
       "  ╲   yᵢ\n",
       "  ╱     \n",
       " ╱      \n",
       " ‾‾‾    \n",
       "i = 1   \n",
       "────────\n",
       "   n    "
      ]
     },
     "execution_count": 58,
     "metadata": {},
     "output_type": "execute_result"
    }
   ],
   "source": [
    "var('n i y_i theta')\n",
    "1/n*Sum(y_i, (i, 1, n))"
   ]
  },
  {
   "cell_type": "code",
   "execution_count": 65,
   "metadata": {
    "collapsed": false
   },
   "outputs": [
    {
     "data": {
      "image/png": "[encoded data removed]",
      "text/latex": [
       "$$\\int_{0}^{\\theta} \\frac{3 y_{i} \\sum_{i=1}^{n} y_{i}}{n \\theta^{2}}\\, dy_{i}$$"
      ],
      "text/plain": [
       "θ                    \n",
       "⌠                    \n",
       "⎮        n           \n",
       "⎮       ___          \n",
       "⎮       ╲            \n",
       "⎮        ╲   yᵢ      \n",
       "⎮ 3⋅yᵢ⋅  ╱           \n",
       "⎮       ╱            \n",
       "⎮       ‾‾‾          \n",
       "⎮      i = 1         \n",
       "⎮ ───────────── d(yᵢ)\n",
       "⎮         2          \n",
       "⎮      n⋅θ           \n",
       "⌡                    \n",
       "0                    "
      ]
     },
     "execution_count": 65,
     "metadata": {},
     "output_type": "execute_result"
    }
   ],
   "source": [
    "Integral((3/(2*n))* Sum(y_i, (i, 1, n))* 2* y_i/ theta**(2), (y_i, 0, theta))"
   ]
  },
  {
   "cell_type": "code",
   "execution_count": 66,
   "metadata": {
    "collapsed": false
   },
   "outputs": [
    {
     "data": {
      "image/png": "[encoded data removed]",
      "text/latex": [
       "$$\\int_{0}^{\\theta} \\frac{3 \\sum_{i=1}^{n} \\frac{2 y_{i}^{2}}{\\theta^{2}}}{2 n}\\, dy_{i}$$"
      ],
      "text/plain": [
       "θ                    \n",
       "⌠                    \n",
       "⎮     n              \n",
       "⎮   _____            \n",
       "⎮   ╲                \n",
       "⎮    ╲        2      \n",
       "⎮     ╲   2⋅yᵢ       \n",
       "⎮      ╲  ─────      \n",
       "⎮ 3⋅   ╱     2       \n",
       "⎮     ╱     θ        \n",
       "⎮    ╱               \n",
       "⎮   ╱                \n",
       "⎮   ‾‾‾‾‾            \n",
       "⎮   i = 1            \n",
       "⎮ ───────────── d(yᵢ)\n",
       "⎮      2⋅n           \n",
       "⌡                    \n",
       "0                    "
      ]
     },
     "execution_count": 66,
     "metadata": {},
     "output_type": "execute_result"
    }
   ],
   "source": [
    "Integral((3/(2*n))* Sum(y_i* 2* y_i/ theta**(2), (i, 1, n)), (y_i, 0, theta))"
   ]
  },
  {
   "cell_type": "code",
   "execution_count": null,
   "metadata": {
    "collapsed": true
   },
   "outputs": [],
   "source": []
  },
  {
   "cell_type": "code",
   "execution_count": 67,
   "metadata": {
    "collapsed": false
   },
   "outputs": [
    {
     "data": {
      "image/png": "[encoded data removed]",
      "text/latex": [
       "$$\\frac{3}{n \\theta^{2}} \\int_{0}^{\\theta} y_{i} \\sum_{i=1}^{n} y_{i}\\, dy_{i}$$"
      ],
      "text/plain": [
       "  θ                  \n",
       "  ⌠                  \n",
       "  ⎮      n           \n",
       "  ⎮     ___          \n",
       "  ⎮     ╲            \n",
       "  ⎮      ╲   yᵢ      \n",
       "3⋅⎮ yᵢ⋅  ╱      d(yᵢ)\n",
       "  ⎮     ╱            \n",
       "  ⎮     ‾‾‾          \n",
       "  ⎮    i = 1         \n",
       "  ⌡                  \n",
       "  0                  \n",
       "─────────────────────\n",
       "            2        \n",
       "         n⋅θ         "
      ]
     },
     "execution_count": 67,
     "metadata": {},
     "output_type": "execute_result"
    }
   ],
   "source": [
    "integrate((3/(2*n))* Sum(y_i, (i, 1, n))* 2* y_i/ theta**(2), (y_i, 0, theta))"
   ]
  },
  {
   "cell_type": "code",
   "execution_count": null,
   "metadata": {
    "collapsed": true
   },
   "outputs": [],
   "source": []
  },
  {
   "cell_type": "code",
   "execution_count": 68,
   "metadata": {
    "collapsed": false
   },
   "outputs": [
    {
     "data": {
      "image/png": "[encoded data removed]",
      "text/latex": [
       "$$\\frac{3}{n \\theta^{2}} \\left(\\int_{0}^{\\theta} y_{i}^{2}\\, dy_{i}\\right) \\sum_{i=1}^{n} 1$$"
      ],
      "text/plain": [
       "                  n    \n",
       "  ⎛θ          ⎞  ___   \n",
       "  ⎜⌠          ⎟  ╲     \n",
       "  ⎜⎮   2      ⎟   ╲   1\n",
       "3⋅⎜⎮ yᵢ  d(yᵢ)⎟⋅  ╱    \n",
       "  ⎜⌡          ⎟  ╱     \n",
       "  ⎝0          ⎠  ‾‾‾   \n",
       "                i = 1  \n",
       "───────────────────────\n",
       "             2         \n",
       "          n⋅θ          "
      ]
     },
     "execution_count": 68,
     "metadata": {},
     "output_type": "execute_result"
    }
   ],
   "source": [
    "integrate((3/(2*n))* Sum(y_i* 2* y_i/ theta**(2), (i, 1, n)), (y_i, 0, theta))"
   ]
  },
  {
   "cell_type": "code",
   "execution_count": null,
   "metadata": {
    "collapsed": false
   },
   "outputs": [],
   "source": []
  },
  {
   "cell_type": "code",
   "execution_count": 70,
   "metadata": {
    "collapsed": false
   },
   "outputs": [
    {
     "data": {
      "image/png": "[encoded data removed]",
      "text/latex": [
       "$$\\int_{0}^{\\theta} y_{i}^{2}\\, dy_{i}$$"
      ],
      "text/plain": [
       "θ          \n",
       "⌠          \n",
       "⎮   2      \n",
       "⎮ yᵢ  d(yᵢ)\n",
       "⌡          \n",
       "0          "
      ]
     },
     "execution_count": 70,
     "metadata": {},
     "output_type": "execute_result"
    }
   ],
   "source": [
    "Integral(y_i**(2), (y_i, 0, theta))"
   ]
  },
  {
   "cell_type": "code",
   "execution_count": null,
   "metadata": {
    "collapsed": true
   },
   "outputs": [],
   "source": []
  },
  {
   "cell_type": "code",
   "execution_count": 60,
   "metadata": {
    "collapsed": false
   },
   "outputs": [
    {
     "data": {
      "image/png": "[encoded data removed]",
      "text/latex": [
       "$$\\frac{\\theta^{3}}{3}$$"
      ],
      "text/plain": [
       " 3\n",
       "θ \n",
       "──\n",
       "3 "
      ]
     },
     "execution_count": 60,
     "metadata": {},
     "output_type": "execute_result"
    }
   ],
   "source": [
    "integrate(y_i**(2), (y_i, 0, theta))"
   ]
  },
  {
   "cell_type": "code",
   "execution_count": null,
   "metadata": {
    "collapsed": true
   },
   "outputs": [],
   "source": []
  },
  {
   "cell_type": "code",
   "execution_count": 74,
   "metadata": {
    "collapsed": false
   },
   "outputs": [
    {
     "data": {
      "image/png": "[encoded data removed]",
      "text/latex": [
       "$$\\theta$$"
      ],
      "text/plain": [
       "θ"
      ]
     },
     "execution_count": 74,
     "metadata": {},
     "output_type": "execute_result"
    }
   ],
   "source": [
    "integrate(y_i**(2), (y_i, 0, theta))* 3 / (theta**2)"
   ]
  },
  {
   "cell_type": "code",
   "execution_count": null,
   "metadata": {
    "collapsed": true
   },
   "outputs": [],
   "source": []
  },
  {
   "cell_type": "code",
   "execution_count": 75,
   "metadata": {
    "collapsed": false
   },
   "outputs": [
    {
     "data": {
      "image/png": "[encoded data removed]",
      "text/latex": [
       "$$\\int_{0}^{\\theta} \\frac{2 y_{i}^{2}}{\\theta^{2}}\\, dy_{i}$$"
      ],
      "text/plain": [
       "θ            \n",
       "⌠            \n",
       "⎮     2      \n",
       "⎮ 2⋅yᵢ       \n",
       "⎮ ───── d(yᵢ)\n",
       "⎮    2       \n",
       "⎮   θ        \n",
       "⌡            \n",
       "0            "
      ]
     },
     "execution_count": 75,
     "metadata": {},
     "output_type": "execute_result"
    }
   ],
   "source": [
    "Integral(2*y_i**(2)/(theta**2), (y_i, 0, theta))"
   ]
  },
  {
   "cell_type": "code",
   "execution_count": 76,
   "metadata": {
    "collapsed": false
   },
   "outputs": [
    {
     "data": {
      "image/png": "[encoded data removed]",
      "text/latex": [
       "$$\\frac{2 \\theta}{3}$$"
      ],
      "text/plain": [
       "2⋅θ\n",
       "───\n",
       " 3 "
      ]
     },
     "execution_count": 76,
     "metadata": {},
     "output_type": "execute_result"
    }
   ],
   "source": [
    "integrate(2*y_i**(2)/(theta**2), (y_i, 0, theta))"
   ]
  },
  {
   "cell_type": "code",
   "execution_count": 77,
   "metadata": {
    "collapsed": false
   },
   "outputs": [
    {
     "data": {
      "image/png": "[encoded data removed]",
      "text/latex": [
       "$$\\int_{0}^{\\theta} \\frac{2 y_{i}^{3}}{\\theta^{2}}\\, dy_{i}$$"
      ],
      "text/plain": [
       "θ            \n",
       "⌠            \n",
       "⎮     3      \n",
       "⎮ 2⋅yᵢ       \n",
       "⎮ ───── d(yᵢ)\n",
       "⎮    2       \n",
       "⎮   θ        \n",
       "⌡            \n",
       "0            "
      ]
     },
     "execution_count": 77,
     "metadata": {},
     "output_type": "execute_result"
    }
   ],
   "source": [
    "Integral(2*y_i**(3)/(theta**2), (y_i, 0, theta))"
   ]
  },
  {
   "cell_type": "code",
   "execution_count": 78,
   "metadata": {
    "collapsed": false
   },
   "outputs": [
    {
     "data": {
      "image/png": "[encoded data removed]",
      "text/latex": [
       "$$\\frac{\\theta^{2}}{2}$$"
      ],
      "text/plain": [
       " 2\n",
       "θ \n",
       "──\n",
       "2 "
      ]
     },
     "execution_count": 78,
     "metadata": {},
     "output_type": "execute_result"
    }
   ],
   "source": [
    "integrate(2*y_i**(3)/(theta**2), (y_i, 0, theta))"
   ]
  },
  {
   "cell_type": "code",
   "execution_count": null,
   "metadata": {
    "collapsed": true
   },
   "outputs": [],
   "source": []
  },
  {
   "cell_type": "code",
   "execution_count": 85,
   "metadata": {
    "collapsed": false
   },
   "outputs": [],
   "source": [
    "f10 = lambdify(theta,  theta**2/8*10, modules='numpy')"
   ]
  },
  {
   "cell_type": "code",
   "execution_count": null,
   "metadata": {
    "collapsed": true
   },
   "outputs": [],
   "source": []
  },
  {
   "cell_type": "code",
   "execution_count": 81,
   "metadata": {
    "collapsed": true
   },
   "outputs": [],
   "source": [
    "f100 = lambdify(theta,  theta**2/8*100)"
   ]
  },
  {
   "cell_type": "code",
   "execution_count": null,
   "metadata": {
    "collapsed": true
   },
   "outputs": [],
   "source": []
  },
  {
   "cell_type": "code",
   "execution_count": 88,
   "metadata": {
    "collapsed": true
   },
   "outputs": [],
   "source": [
    "from sympy.plotting import plot\n",
    "%matplotlib inline\n",
    "import numpy as np\n"
   ]
  },
  {
   "cell_type": "code",
   "execution_count": 91,
   "metadata": {
    "collapsed": true
   },
   "outputs": [],
   "source": [
    "import matplotlib as mpl\n",
    "# matplotlib for ploting\n",
    "from matplotlib import pyplot as plt\n",
    "from mpl_toolkits.mplot3d import Axes3D     # 3d\n",
    "# for inline interactive plotting\n",
    "%matplotlib notebook\n",
    "\n",
    "#mpl.rcParams['savefig.dpi'] = 80\n",
    "mpl.rcParams['figure.dpi'] = 80\n",
    "# from IPython.display import set_matplotlib_formats\n",
    "# set_matplotlib_formats('png', 'pdf')\n",
    "# for better picture quality\n",
    "%config InlineBackend.figure_format = 'retina'\n",
    "#https://www.dataquest.io/blog/jupyter-notebook-tips-tricks-shortcuts/\n",
    "\n",
    "import seaborn as sns\n",
    "sns.set()\n",
    "#sns.set_style(style= \"whitegrid\")\n",
    "#plt.style.available\n",
    "# bold graph style\n",
    "plt.style.use('fivethirtyeight')"
   ]
  },
  {
   "cell_type": "code",
   "execution_count": 89,
   "metadata": {
    "collapsed": true
   },
   "outputs": [],
   "source": [
    "theta_range = np.linspace(0,20, 200)"
   ]
  },
  {
   "cell_type": "code",
   "execution_count": null,
   "metadata": {
    "collapsed": false
   },
   "outputs": [],
   "source": []
  },
  {
   "cell_type": "code",
   "execution_count": 95,
   "metadata": {
    "collapsed": false
   },
   "outputs": [
    {
     "data": {
      "application/javascript": [
       "/* Put everything inside the global mpl namespace */\n",
       "window.mpl = {};\n",
       "\n",
       "mpl.get_websocket_type = function() {\n",
       "    if (typeof(WebSocket) !== 'undefined') {\n",
       "        return WebSocket;\n",
       "    } else if (typeof(MozWebSocket) !== 'undefined') {\n",
       "        return MozWebSocket;\n",
       "    } else {\n",
       "        alert('Your browser does not have WebSocket support.' +\n",
       "              'Please try Chrome, Safari or Firefox ≥ 6. ' +\n",
       "              'Firefox 4 and 5 are also supported but you ' +\n",
       "              'have to enable WebSockets in about:config.');\n",
       "    };\n",
       "}\n",
       "\n",
       "mpl.figure = function(figure_id, websocket, ondownload, parent_element) {\n",
       "    this.id = figure_id;\n",
       "\n",
       "    this.ws = websocket;\n",
       "\n",
       "    this.supports_binary = (this.ws.binaryType != undefined);\n",
       "\n",
       "    if (!this.supports_binary) {\n",
       "        var warnings = document.getElementById(\"mpl-warnings\");\n",
       "        if (warnings) {\n",
       "            warnings.style.display = 'block';\n",
       "            warnings.textContent = (\n",
       "                \"This browser does not support binary websocket messages. \" +\n",
       "                    \"Performance may be slow.\");\n",
       "        }\n",
       "    }\n",
       "\n",
       "    this.imageObj = new Image();\n",
       "\n",
       "    this.context = undefined;\n",
       "    this.message = undefined;\n",
       "    this.canvas = undefined;\n",
       "    this.rubberband_canvas = undefined;\n",
       "    this.rubberband_context = undefined;\n",
       "    this.format_dropdown = undefined;\n",
       "\n",
       "    this.image_mode = 'full';\n",
       "\n",
       "    this.root = $('<div/>');\n",
       "    this._root_extra_style(this.root)\n",
       "    this.root.attr('style', 'display: inline-block');\n",
       "\n",
       "    $(parent_element).append(this.root);\n",
       "\n",
       "    this._init_header(this);\n",
       "    this._init_canvas(this);\n",
       "    this._init_toolbar(this);\n",
       "\n",
       "    var fig = this;\n",
       "\n",
       "    this.waiting = false;\n",
       "\n",
       "    this.ws.onopen =  function () {\n",
       "            fig.send_message(\"supports_binary\", {value: fig.supports_binary});\n",
       "            fig.send_message(\"send_image_mode\", {});\n",
       "            fig.send_message(\"refresh\", {});\n",
       "        }\n",
       "\n",
       "    this.imageObj.onload = function() {\n",
       "            if (fig.image_mode == 'full') {\n",
       "                // Full images could contain transparency (where diff images\n",
       "                // almost always do), so we need to clear the canvas so that\n",
       "                // there is no ghosting.\n",
       "                fig.context.clearRect(0, 0, fig.canvas.width, fig.canvas.height);\n",
       "            }\n",
       "            fig.context.drawImage(fig.imageObj, 0, 0);\n",
       "        };\n",
       "\n",
       "    this.imageObj.onunload = function() {\n",
       "        this.ws.close();\n",
       "    }\n",
       "\n",
       "    this.ws.onmessage = this._make_on_message_function(this);\n",
       "\n",
       "    this.ondownload = ondownload;\n",
       "}\n",
       "\n",
       "mpl.figure.prototype._init_header = function() {\n",
       "    var titlebar = $(\n",
       "        '<div class=\"ui-dialog-titlebar ui-widget-header ui-corner-all ' +\n",
       "        'ui-helper-clearfix\"/>');\n",
       "    var titletext = $(\n",
       "        '<div class=\"ui-dialog-title\" style=\"width: 100%; ' +\n",
       "        'text-align: center; padding: 3px;\"/>');\n",
       "    titlebar.append(titletext)\n",
       "    this.root.append(titlebar);\n",
       "    this.header = titletext[0];\n",
       "}\n",
       "\n",
       "\n",
       "\n",
       "mpl.figure.prototype._canvas_extra_style = function(canvas_div) {\n",
       "\n",
       "}\n",
       "\n",
       "\n",
       "mpl.figure.prototype._root_extra_style = function(canvas_div) {\n",
       "\n",
       "}\n",
       "\n",
       "mpl.figure.prototype._init_canvas = function() {\n",
       "    var fig = this;\n",
       "\n",
       "    var canvas_div = $('<div/>');\n",
       "\n",
       "    canvas_div.attr('style', 'position: relative; clear: both; outline: 0');\n",
       "\n",
       "    function canvas_keyboard_event(event) {\n",
       "        return fig.key_event(event, event['data']);\n",
       "    }\n",
       "\n",
       "    canvas_div.keydown('key_press', canvas_keyboard_event);\n",
       "    canvas_div.keyup('key_release', canvas_keyboard_event);\n",
       "    this.canvas_div = canvas_div\n",
       "    this._canvas_extra_style(canvas_div)\n",
       "    this.root.append(canvas_div);\n",
       "\n",
       "    var canvas = $('<canvas/>');\n",
       "    canvas.addClass('mpl-canvas');\n",
       "    canvas.attr('style', \"left: 0; top: 0; z-index: 0; outline: 0\")\n",
       "\n",
       "    this.canvas = canvas[0];\n",
       "    this.context = canvas[0].getContext(\"2d\");\n",
       "\n",
       "    var rubberband = $('<canvas/>');\n",
       "    rubberband.attr('style', \"position: absolute; left: 0; top: 0; z-index: 1;\")\n",
       "\n",
       "    var pass_mouse_events = true;\n",
       "\n",
       "    canvas_div.resizable({\n",
       "        start: function(event, ui) {\n",
       "            pass_mouse_events = false;\n",
       "        },\n",
       "        resize: function(event, ui) {\n",
       "            fig.request_resize(ui.size.width, ui.size.height);\n",
       "        },\n",
       "        stop: function(event, ui) {\n",
       "            pass_mouse_events = true;\n",
       "            fig.request_resize(ui.size.width, ui.size.height);\n",
       "        },\n",
       "    });\n",
       "\n",
       "    function mouse_event_fn(event) {\n",
       "        if (pass_mouse_events)\n",
       "            return fig.mouse_event(event, event['data']);\n",
       "    }\n",
       "\n",
       "    rubberband.mousedown('button_press', mouse_event_fn);\n",
       "    rubberband.mouseup('button_release', mouse_event_fn);\n",
       "    // Throttle sequential mouse events to 1 every 20ms.\n",
       "    rubberband.mousemove('motion_notify', mouse_event_fn);\n",
       "\n",
       "    rubberband.mouseenter('figure_enter', mouse_event_fn);\n",
       "    rubberband.mouseleave('figure_leave', mouse_event_fn);\n",
       "\n",
       "    canvas_div.on(\"wheel\", function (event) {\n",
       "        event = event.originalEvent;\n",
       "        event['data'] = 'scroll'\n",
       "        if (event.deltaY < 0) {\n",
       "            event.step = 1;\n",
       "        } else {\n",
       "            event.step = -1;\n",
       "        }\n",
       "        mouse_event_fn(event);\n",
       "    });\n",
       "\n",
       "    canvas_div.append(canvas);\n",
       "    canvas_div.append(rubberband);\n",
       "\n",
       "    this.rubberband = rubberband;\n",
       "    this.rubberband_canvas = rubberband[0];\n",
       "    this.rubberband_context = rubberband[0].getContext(\"2d\");\n",
       "    this.rubberband_context.strokeStyle = \"#000000\";\n",
       "\n",
       "    this._resize_canvas = function(width, height) {\n",
       "        // Keep the size of the canvas, canvas container, and rubber band\n",
       "        // canvas in synch.\n",
       "        canvas_div.css('width', width)\n",
       "        canvas_div.css('height', height)\n",
       "\n",
       "        canvas.attr('width', width);\n",
       "        canvas.attr('height', height);\n",
       "\n",
       "        rubberband.attr('width', width);\n",
       "        rubberband.attr('height', height);\n",
       "    }\n",
       "\n",
       "    // Set the figure to an initial 600x600px, this will subsequently be updated\n",
       "    // upon first draw.\n",
       "    this._resize_canvas(600, 600);\n",
       "\n",
       "    // Disable right mouse context menu.\n",
       "    $(this.rubberband_canvas).bind(\"contextmenu\",function(e){\n",
       "        return false;\n",
       "    });\n",
       "\n",
       "    function set_focus () {\n",
       "        canvas.focus();\n",
       "        canvas_div.focus();\n",
       "    }\n",
       "\n",
       "    window.setTimeout(set_focus, 100);\n",
       "}\n",
       "\n",
       "mpl.figure.prototype._init_toolbar = function() {\n",
       "    var fig = this;\n",
       "\n",
       "    var nav_element = $('<div/>')\n",
       "    nav_element.attr('style', 'width: 100%');\n",
       "    this.root.append(nav_element);\n",
       "\n",
       "    // Define a callback function for later on.\n",
       "    function toolbar_event(event) {\n",
       "        return fig.toolbar_button_onclick(event['data']);\n",
       "    }\n",
       "    function toolbar_mouse_event(event) {\n",
       "        return fig.toolbar_button_onmouseover(event['data']);\n",
       "    }\n",
       "\n",
       "    for(var toolbar_ind in mpl.toolbar_items) {\n",
       "        var name = mpl.toolbar_items[toolbar_ind][0];\n",
       "        var tooltip = mpl.toolbar_items[toolbar_ind][1];\n",
       "        var image = mpl.toolbar_items[toolbar_ind][2];\n",
       "        var method_name = mpl.toolbar_items[toolbar_ind][3];\n",
       "\n",
       "        if (!name) {\n",
       "            // put a spacer in here.\n",
       "            continue;\n",
       "        }\n",
       "        var button = $('<button/>');\n",
       "        button.addClass('ui-button ui-widget ui-state-default ui-corner-all ' +\n",
       "                        'ui-button-icon-only');\n",
       "        button.attr('role', 'button');\n",
       "        button.attr('aria-disabled', 'false');\n",
       "        button.click(method_name, toolbar_event);\n",
       "        button.mouseover(tooltip, toolbar_mouse_event);\n",
       "\n",
       "        var icon_img = $('<span/>');\n",
       "        icon_img.addClass('ui-button-icon-primary ui-icon');\n",
       "        icon_img.addClass(image);\n",
       "        icon_img.addClass('ui-corner-all');\n",
       "\n",
       "        var tooltip_span = $('<span/>');\n",
       "        tooltip_span.addClass('ui-button-text');\n",
       "        tooltip_span.html(tooltip);\n",
       "\n",
       "        button.append(icon_img);\n",
       "        button.append(tooltip_span);\n",
       "\n",
       "        nav_element.append(button);\n",
       "    }\n",
       "\n",
       "    var fmt_picker_span = $('<span/>');\n",
       "\n",
       "    var fmt_picker = $('<select/>');\n",
       "    fmt_picker.addClass('mpl-toolbar-option ui-widget ui-widget-content');\n",
       "    fmt_picker_span.append(fmt_picker);\n",
       "    nav_element.append(fmt_picker_span);\n",
       "    this.format_dropdown = fmt_picker[0];\n",
       "\n",
       "    for (var ind in mpl.extensions) {\n",
       "        var fmt = mpl.extensions[ind];\n",
       "        var option = $(\n",
       "            '<option/>', {selected: fmt === mpl.default_extension}).html(fmt);\n",
       "        fmt_picker.append(option)\n",
       "    }\n",
       "\n",
       "    // Add hover states to the ui-buttons\n",
       "    $( \".ui-button\" ).hover(\n",
       "        function() { $(this).addClass(\"ui-state-hover\");},\n",
       "        function() { $(this).removeClass(\"ui-state-hover\");}\n",
       "    );\n",
       "\n",
       "    var status_bar = $('<span class=\"mpl-message\"/>');\n",
       "    nav_element.append(status_bar);\n",
       "    this.message = status_bar[0];\n",
       "}\n",
       "\n",
       "mpl.figure.prototype.request_resize = function(x_pixels, y_pixels) {\n",
       "    // Request matplotlib to resize the figure. Matplotlib will then trigger a resize in the client,\n",
       "    // which will in turn request a refresh of the image.\n",
       "    this.send_message('resize', {'width': x_pixels, 'height': y_pixels});\n",
       "}\n",
       "\n",
       "mpl.figure.prototype.send_message = function(type, properties) {\n",
       "    properties['type'] = type;\n",
       "    properties['figure_id'] = this.id;\n",
       "    this.ws.send(JSON.stringify(properties));\n",
       "}\n",
       "\n",
       "mpl.figure.prototype.send_draw_message = function() {\n",
       "    if (!this.waiting) {\n",
       "        this.waiting = true;\n",
       "        this.ws.send(JSON.stringify({type: \"draw\", figure_id: this.id}));\n",
       "    }\n",
       "}\n",
       "\n",
       "\n",
       "mpl.figure.prototype.handle_save = function(fig, msg) {\n",
       "    var format_dropdown = fig.format_dropdown;\n",
       "    var format = format_dropdown.options[format_dropdown.selectedIndex].value;\n",
       "    fig.ondownload(fig, format);\n",
       "}\n",
       "\n",
       "\n",
       "mpl.figure.prototype.handle_resize = function(fig, msg) {\n",
       "    var size = msg['size'];\n",
       "    if (size[0] != fig.canvas.width || size[1] != fig.canvas.height) {\n",
       "        fig._resize_canvas(size[0], size[1]);\n",
       "        fig.send_message(\"refresh\", {});\n",
       "    };\n",
       "}\n",
       "\n",
       "mpl.figure.prototype.handle_rubberband = function(fig, msg) {\n",
       "    var x0 = msg['x0'];\n",
       "    var y0 = fig.canvas.height - msg['y0'];\n",
       "    var x1 = msg['x1'];\n",
       "    var y1 = fig.canvas.height - msg['y1'];\n",
       "    x0 = Math.floor(x0) + 0.5;\n",
       "    y0 = Math.floor(y0) + 0.5;\n",
       "    x1 = Math.floor(x1) + 0.5;\n",
       "    y1 = Math.floor(y1) + 0.5;\n",
       "    var min_x = Math.min(x0, x1);\n",
       "    var min_y = Math.min(y0, y1);\n",
       "    var width = Math.abs(x1 - x0);\n",
       "    var height = Math.abs(y1 - y0);\n",
       "\n",
       "    fig.rubberband_context.clearRect(\n",
       "        0, 0, fig.canvas.width, fig.canvas.height);\n",
       "\n",
       "    fig.rubberband_context.strokeRect(min_x, min_y, width, height);\n",
       "}\n",
       "\n",
       "mpl.figure.prototype.handle_figure_label = function(fig, msg) {\n",
       "    // Updates the figure title.\n",
       "    fig.header.textContent = msg['label'];\n",
       "}\n",
       "\n",
       "mpl.figure.prototype.handle_cursor = function(fig, msg) {\n",
       "    var cursor = msg['cursor'];\n",
       "    switch(cursor)\n",
       "    {\n",
       "    case 0:\n",
       "        cursor = 'pointer';\n",
       "        break;\n",
       "    case 1:\n",
       "        cursor = 'default';\n",
       "        break;\n",
       "    case 2:\n",
       "        cursor = 'crosshair';\n",
       "        break;\n",
       "    case 3:\n",
       "        cursor = 'move';\n",
       "        break;\n",
       "    }\n",
       "    fig.rubberband_canvas.style.cursor = cursor;\n",
       "}\n",
       "\n",
       "mpl.figure.prototype.handle_message = function(fig, msg) {\n",
       "    fig.message.textContent = msg['message'];\n",
       "}\n",
       "\n",
       "mpl.figure.prototype.handle_draw = function(fig, msg) {\n",
       "    // Request the server to send over a new figure.\n",
       "    fig.send_draw_message();\n",
       "}\n",
       "\n",
       "mpl.figure.prototype.handle_image_mode = function(fig, msg) {\n",
       "    fig.image_mode = msg['mode'];\n",
       "}\n",
       "\n",
       "mpl.figure.prototype.updated_canvas_event = function() {\n",
       "    // Called whenever the canvas gets updated.\n",
       "    this.send_message(\"ack\", {});\n",
       "}\n",
       "\n",
       "// A function to construct a web socket function for onmessage handling.\n",
       "// Called in the figure constructor.\n",
       "mpl.figure.prototype._make_on_message_function = function(fig) {\n",
       "    return function socket_on_message(evt) {\n",
       "        if (evt.data instanceof Blob) {\n",
       "            /* FIXME: We get \"Resource interpreted as Image but\n",
       "             * transferred with MIME type text/plain:\" errors on\n",
       "             * Chrome.  But how to set the MIME type?  It doesn't seem\n",
       "             * to be part of the websocket stream */\n",
       "            evt.data.type = \"image/png\";\n",
       "\n",
       "            /* Free the memory for the previous frames */\n",
       "            if (fig.imageObj.src) {\n",
       "                (window.URL || window.webkitURL).revokeObjectURL(\n",
       "                    fig.imageObj.src);\n",
       "            }\n",
       "\n",
       "            fig.imageObj.src = (window.URL || window.webkitURL).createObjectURL(\n",
       "                evt.data);\n",
       "            fig.updated_canvas_event();\n",
       "            fig.waiting = false;\n",
       "            return;\n",
       "        }\n",
       "        else if (typeof evt.data === 'string' && evt.data.slice(0, 21) == \"data:image/png;base64\") {\n",
       "            fig.imageObj.src = evt.data;\n",
       "            fig.updated_canvas_event();\n",
       "            fig.waiting = false;\n",
       "            return;\n",
       "        }\n",
       "\n",
       "        var msg = JSON.parse(evt.data);\n",
       "        var msg_type = msg['type'];\n",
       "\n",
       "        // Call the  \"handle_{type}\" callback, which takes\n",
       "        // the figure and JSON message as its only arguments.\n",
       "        try {\n",
       "            var callback = fig[\"handle_\" + msg_type];\n",
       "        } catch (e) {\n",
       "            console.log(\"No handler for the '\" + msg_type + \"' message type: \", msg);\n",
       "            return;\n",
       "        }\n",
       "\n",
       "        if (callback) {\n",
       "            try {\n",
       "                // console.log(\"Handling '\" + msg_type + \"' message: \", msg);\n",
       "                callback(fig, msg);\n",
       "            } catch (e) {\n",
       "                console.log(\"Exception inside the 'handler_\" + msg_type + \"' callback:\", e, e.stack, msg);\n",
       "            }\n",
       "        }\n",
       "    };\n",
       "}\n",
       "\n",
       "// from http://stackoverflow.com/questions/1114465/getting-mouse-location-in-canvas\n",
       "mpl.findpos = function(e) {\n",
       "    //this section is from http://www.quirksmode.org/js/events_properties.html\n",
       "    var targ;\n",
       "    if (!e)\n",
       "        e = window.event;\n",
       "    if (e.target)\n",
       "        targ = e.target;\n",
       "    else if (e.srcElement)\n",
       "        targ = e.srcElement;\n",
       "    if (targ.nodeType == 3) // defeat Safari bug\n",
       "        targ = targ.parentNode;\n",
       "\n",
       "    // jQuery normalizes the pageX and pageY\n",
       "    // pageX,Y are the mouse positions relative to the document\n",
       "    // offset() returns the position of the element relative to the document\n",
       "    var x = e.pageX - $(targ).offset().left;\n",
       "    var y = e.pageY - $(targ).offset().top;\n",
       "\n",
       "    return {\"x\": x, \"y\": y};\n",
       "};\n",
       "\n",
       "/*\n",
       " * return a copy of an object with only non-object keys\n",
       " * we need this to avoid circular references\n",
       " * http://stackoverflow.com/a/24161582/3208463\n",
       " */\n",
       "function simpleKeys (original) {\n",
       "  return Object.keys(original).reduce(function (obj, key) {\n",
       "    if (typeof original[key] !== 'object')\n",
       "        obj[key] = original[key]\n",
       "    return obj;\n",
       "  }, {});\n",
       "}\n",
       "\n",
       "mpl.figure.prototype.mouse_event = function(event, name) {\n",
       "    var canvas_pos = mpl.findpos(event)\n",
       "\n",
       "    if (name === 'button_press')\n",
       "    {\n",
       "        this.canvas.focus();\n",
       "        this.canvas_div.focus();\n",
       "    }\n",
       "\n",
       "    var x = canvas_pos.x;\n",
       "    var y = canvas_pos.y;\n",
       "\n",
       "    this.send_message(name, {x: x, y: y, button: event.button,\n",
       "                             step: event.step,\n",
       "                             guiEvent: simpleKeys(event)});\n",
       "\n",
       "    /* This prevents the web browser from automatically changing to\n",
       "     * the text insertion cursor when the button is pressed.  We want\n",
       "     * to control all of the cursor setting manually through the\n",
       "     * 'cursor' event from matplotlib */\n",
       "    event.preventDefault();\n",
       "    return false;\n",
       "}\n",
       "\n",
       "mpl.figure.prototype._key_event_extra = function(event, name) {\n",
       "    // Handle any extra behaviour associated with a key event\n",
       "}\n",
       "\n",
       "mpl.figure.prototype.key_event = function(event, name) {\n",
       "\n",
       "    // Prevent repeat events\n",
       "    if (name == 'key_press')\n",
       "    {\n",
       "        if (event.which === this._key)\n",
       "            return;\n",
       "        else\n",
       "            this._key = event.which;\n",
       "    }\n",
       "    if (name == 'key_release')\n",
       "        this._key = null;\n",
       "\n",
       "    var value = '';\n",
       "    if (event.ctrlKey && event.which != 17)\n",
       "        value += \"ctrl+\";\n",
       "    if (event.altKey && event.which != 18)\n",
       "        value += \"alt+\";\n",
       "    if (event.shiftKey && event.which != 16)\n",
       "        value += \"shift+\";\n",
       "\n",
       "    value += 'k';\n",
       "    value += event.which.toString();\n",
       "\n",
       "    this._key_event_extra(event, name);\n",
       "\n",
       "    this.send_message(name, {key: value,\n",
       "                             guiEvent: simpleKeys(event)});\n",
       "    return false;\n",
       "}\n",
       "\n",
       "mpl.figure.prototype.toolbar_button_onclick = function(name) {\n",
       "    if (name == 'download') {\n",
       "        this.handle_save(this, null);\n",
       "    } else {\n",
       "        this.send_message(\"toolbar_button\", {name: name});\n",
       "    }\n",
       "};\n",
       "\n",
       "mpl.figure.prototype.toolbar_button_onmouseover = function(tooltip) {\n",
       "    this.message.textContent = tooltip;\n",
       "};\n",
       "mpl.toolbar_items = [[\"Home\", \"Reset original view\", \"fa fa-home icon-home\", \"home\"], [\"Back\", \"Back to  previous view\", \"fa fa-arrow-left icon-arrow-left\", \"back\"], [\"Forward\", \"Forward to next view\", \"fa fa-arrow-right icon-arrow-right\", \"forward\"], [\"\", \"\", \"\", \"\"], [\"Pan\", \"Pan axes with left mouse, zoom with right\", \"fa fa-arrows icon-move\", \"pan\"], [\"Zoom\", \"Zoom to rectangle\", \"fa fa-square-o icon-check-empty\", \"zoom\"], [\"\", \"\", \"\", \"\"], [\"Download\", \"Download plot\", \"fa fa-floppy-o icon-save\", \"download\"]];\n",
       "\n",
       "mpl.extensions = [\"eps\", \"jpeg\", \"pdf\", \"png\", \"ps\", \"raw\", \"svg\", \"tif\"];\n",
       "\n",
       "mpl.default_extension = \"png\";var comm_websocket_adapter = function(comm) {\n",
       "    // Create a \"websocket\"-like object which calls the given IPython comm\n",
       "    // object with the appropriate methods. Currently this is a non binary\n",
       "    // socket, so there is still some room for performance tuning.\n",
       "    var ws = {};\n",
       "\n",
       "    ws.close = function() {\n",
       "        comm.close()\n",
       "    };\n",
       "    ws.send = function(m) {\n",
       "        //console.log('sending', m);\n",
       "        comm.send(m);\n",
       "    };\n",
       "    // Register the callback with on_msg.\n",
       "    comm.on_msg(function(msg) {\n",
       "        //console.log('receiving', msg['content']['data'], msg);\n",
       "        // Pass the mpl event to the overriden (by mpl) onmessage function.\n",
       "        ws.onmessage(msg['content']['data'])\n",
       "    });\n",
       "    return ws;\n",
       "}\n",
       "\n",
       "mpl.mpl_figure_comm = function(comm, msg) {\n",
       "    // This is the function which gets called when the mpl process\n",
       "    // starts-up an IPython Comm through the \"matplotlib\" channel.\n",
       "\n",
       "    var id = msg.content.data.id;\n",
       "    // Get hold of the div created by the display call when the Comm\n",
       "    // socket was opened in Python.\n",
       "    var element = $(\"#\" + id);\n",
       "    var ws_proxy = comm_websocket_adapter(comm)\n",
       "\n",
       "    function ondownload(figure, format) {\n",
       "        window.open(figure.imageObj.src);\n",
       "    }\n",
       "\n",
       "    var fig = new mpl.figure(id, ws_proxy,\n",
       "                           ondownload,\n",
       "                           element.get(0));\n",
       "\n",
       "    // Call onopen now - mpl needs it, as it is assuming we've passed it a real\n",
       "    // web socket which is closed, not our websocket->open comm proxy.\n",
       "    ws_proxy.onopen();\n",
       "\n",
       "    fig.parent_element = element.get(0);\n",
       "    fig.cell_info = mpl.find_output_cell(\"<div id='\" + id + \"'></div>\");\n",
       "    if (!fig.cell_info) {\n",
       "        console.error(\"Failed to find cell for figure\", id, fig);\n",
       "        return;\n",
       "    }\n",
       "\n",
       "    var output_index = fig.cell_info[2]\n",
       "    var cell = fig.cell_info[0];\n",
       "\n",
       "};\n",
       "\n",
       "mpl.figure.prototype.handle_close = function(fig, msg) {\n",
       "    fig.root.unbind('remove')\n",
       "\n",
       "    // Update the output cell to use the data from the current canvas.\n",
       "    fig.push_to_output();\n",
       "    var dataURL = fig.canvas.toDataURL();\n",
       "    // Re-enable the keyboard manager in IPython - without this line, in FF,\n",
       "    // the notebook keyboard shortcuts fail.\n",
       "    IPython.keyboard_manager.enable()\n",
       "    $(fig.parent_element).html('<img src=\"' + dataURL + '\">');\n",
       "    fig.close_ws(fig, msg);\n",
       "}\n",
       "\n",
       "mpl.figure.prototype.close_ws = function(fig, msg){\n",
       "    fig.send_message('closing', msg);\n",
       "    // fig.ws.close()\n",
       "}\n",
       "\n",
       "mpl.figure.prototype.push_to_output = function(remove_interactive) {\n",
       "    // Turn the data on the canvas into data in the output cell.\n",
       "    var dataURL = this.canvas.toDataURL();\n",
       "    this.cell_info[1]['text/html'] = '<img src=\"' + dataURL + '\">';\n",
       "}\n",
       "\n",
       "mpl.figure.prototype.updated_canvas_event = function() {\n",
       "    // Tell IPython that the notebook contents must change.\n",
       "    IPython.notebook.set_dirty(true);\n",
       "    this.send_message(\"ack\", {});\n",
       "    var fig = this;\n",
       "    // Wait a second, then push the new image to the DOM so\n",
       "    // that it is saved nicely (might be nice to debounce this).\n",
       "    setTimeout(function () { fig.push_to_output() }, 1000);\n",
       "}\n",
       "\n",
       "mpl.figure.prototype._init_toolbar = function() {\n",
       "    var fig = this;\n",
       "\n",
       "    var nav_element = $('<div/>')\n",
       "    nav_element.attr('style', 'width: 100%');\n",
       "    this.root.append(nav_element);\n",
       "\n",
       "    // Define a callback function for later on.\n",
       "    function toolbar_event(event) {\n",
       "        return fig.toolbar_button_onclick(event['data']);\n",
       "    }\n",
       "    function toolbar_mouse_event(event) {\n",
       "        return fig.toolbar_button_onmouseover(event['data']);\n",
       "    }\n",
       "\n",
       "    for(var toolbar_ind in mpl.toolbar_items){\n",
       "        var name = mpl.toolbar_items[toolbar_ind][0];\n",
       "        var tooltip = mpl.toolbar_items[toolbar_ind][1];\n",
       "        var image = mpl.toolbar_items[toolbar_ind][2];\n",
       "        var method_name = mpl.toolbar_items[toolbar_ind][3];\n",
       "\n",
       "        if (!name) { continue; };\n",
       "\n",
       "        var button = $('<button class=\"btn btn-default\" href=\"#\" title=\"' + name + '\"><i class=\"fa ' + image + ' fa-lg\"></i></button>');\n",
       "        button.click(method_name, toolbar_event);\n",
       "        button.mouseover(tooltip, toolbar_mouse_event);\n",
       "        nav_element.append(button);\n",
       "    }\n",
       "\n",
       "    // Add the status bar.\n",
       "    var status_bar = $('<span class=\"mpl-message\" style=\"text-align:right; float: right;\"/>');\n",
       "    nav_element.append(status_bar);\n",
       "    this.message = status_bar[0];\n",
       "\n",
       "    // Add the close button to the window.\n",
       "    var buttongrp = $('<div class=\"btn-group inline pull-right\"></div>');\n",
       "    var button = $('<button class=\"btn btn-mini btn-primary\" href=\"#\" title=\"Stop Interaction\"><i class=\"fa fa-power-off icon-remove icon-large\"></i></button>');\n",
       "    button.click(function (evt) { fig.handle_close(fig, {}); } );\n",
       "    button.mouseover('Stop Interaction', toolbar_mouse_event);\n",
       "    buttongrp.append(button);\n",
       "    var titlebar = this.root.find($('.ui-dialog-titlebar'));\n",
       "    titlebar.prepend(buttongrp);\n",
       "}\n",
       "\n",
       "mpl.figure.prototype._root_extra_style = function(el){\n",
       "    var fig = this\n",
       "    el.on(\"remove\", function(){\n",
       "\tfig.close_ws(fig, {});\n",
       "    });\n",
       "}\n",
       "\n",
       "mpl.figure.prototype._canvas_extra_style = function(el){\n",
       "    // this is important to make the div 'focusable\n",
       "    el.attr('tabindex', 0)\n",
       "    // reach out to IPython and tell the keyboard manager to turn it's self\n",
       "    // off when our div gets focus\n",
       "\n",
       "    // location in version 3\n",
       "    if (IPython.notebook.keyboard_manager) {\n",
       "        IPython.notebook.keyboard_manager.register_events(el);\n",
       "    }\n",
       "    else {\n",
       "        // location in version 2\n",
       "        IPython.keyboard_manager.register_events(el);\n",
       "    }\n",
       "\n",
       "}\n",
       "\n",
       "mpl.figure.prototype._key_event_extra = function(event, name) {\n",
       "    var manager = IPython.notebook.keyboard_manager;\n",
       "    if (!manager)\n",
       "        manager = IPython.keyboard_manager;\n",
       "\n",
       "    // Check for shift+enter\n",
       "    if (event.shiftKey && event.which == 13) {\n",
       "        this.canvas_div.blur();\n",
       "        // select the cell after this one\n",
       "        var index = IPython.notebook.find_cell_index(this.cell_info[0]);\n",
       "        IPython.notebook.select(index + 1);\n",
       "    }\n",
       "}\n",
       "\n",
       "mpl.figure.prototype.handle_save = function(fig, msg) {\n",
       "    fig.ondownload(fig, null);\n",
       "}\n",
       "\n",
       "\n",
       "mpl.find_output_cell = function(html_output) {\n",
       "    // Return the cell and output element which can be found *uniquely* in the notebook.\n",
       "    // Note - this is a bit hacky, but it is done because the \"notebook_saving.Notebook\"\n",
       "    // IPython event is triggered only after the cells have been serialised, which for\n",
       "    // our purposes (turning an active figure into a static one), is too late.\n",
       "    var cells = IPython.notebook.get_cells();\n",
       "    var ncells = cells.length;\n",
       "    for (var i=0; i<ncells; i++) {\n",
       "        var cell = cells[i];\n",
       "        if (cell.cell_type === 'code'){\n",
       "            for (var j=0; j<cell.output_area.outputs.length; j++) {\n",
       "                var data = cell.output_area.outputs[j];\n",
       "                if (data.data) {\n",
       "                    // IPython >= 3 moved mimebundle to data attribute of output\n",
       "                    data = data.data;\n",
       "                }\n",
       "                if (data['text/html'] == html_output) {\n",
       "                    return [cell, data, j];\n",
       "                }\n",
       "            }\n",
       "        }\n",
       "    }\n",
       "}\n",
       "\n",
       "// Register the function which deals with the matplotlib target/channel.\n",
       "// The kernel may be null if the page has been refreshed.\n",
       "if (IPython.notebook.kernel != null) {\n",
       "    IPython.notebook.kernel.comm_manager.register_target('matplotlib', mpl.mpl_figure_comm);\n",
       "}\n"
      ],
      "text/plain": [
       "<IPython.core.display.Javascript object>"
      ]
     },
     "metadata": {},
     "output_type": "display_data"
    },
    {
     "data": {
      "text/html": [
       "<img src=\"data:image/png;base64,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\">"
      ],
      "text/plain": [
       "<IPython.core.display.HTML object>"
      ]
     },
     "metadata": {},
     "output_type": "display_data"
    },
    {
     "data": {
      "text/plain": [
       "[<matplotlib.lines.Line2D at 0x7ff3738df9e8>]"
      ]
     },
     "execution_count": 95,
     "metadata": {},
     "output_type": "execute_result"
    }
   ],
   "source": [
    "figure, ax = plt.subplots(figsize = (8,6))\n",
    "ax.plot(theta_range, f10(theta_range) )\n",
    "ax.plot(theta_range, f100(theta_range) )"
   ]
  },
  {
   "cell_type": "code",
   "execution_count": null,
   "metadata": {
    "collapsed": true
   },
   "outputs": [],
   "source": []
  }
 ],
 "metadata": {
  "kernelspec": {
   "display_name": "Python 3",
   "language": "python",
   "name": "python3"
  },
  "language_info": {
   "codemirror_mode": {
    "name": "ipython",
    "version": 3
   },
   "file_extension": ".py",
   "mimetype": "text/x-python",
   "name": "python",
   "nbconvert_exporter": "python",
   "pygments_lexer": "ipython3",
   "version": "3.5.2"
  }
 },
 "nbformat": 4,
 "nbformat_minor": 2
}
