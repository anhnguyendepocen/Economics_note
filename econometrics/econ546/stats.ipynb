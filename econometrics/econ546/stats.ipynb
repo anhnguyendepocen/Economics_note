{
 "cells": [
  {
   "cell_type": "markdown",
   "metadata": {},
   "source": [
    "Linux basics\n",
    "\n",
    "Git/GitHub\n",
    "\n",
    "RMarkdown\n",
    "\n",
    "R programming\n",
    "\n",
    "TidyVerse\n",
    "\n",
    "Shiny\n",
    "\n",
    "Cluster computing @ UCLA\n",
    "\n",
    "Cloud computing\n",
    "\n",
    "Docker\n",
    "\n",
    "Selected tools for data science: pandas, spark, scikit-learn, TensorFlow\n",
    "\n",
    "\n",
    "http://hua-zhou.github.io/teaching/biostatm280-2018winter/schedule.html"
   ]
  }
 ],
 "metadata": {
  "kernelspec": {
   "display_name": "R",
   "language": "R",
   "name": "ir"
  },
  "language_info": {
   "codemirror_mode": "r",
   "file_extension": ".r",
   "mimetype": "text/x-r-source",
   "name": "R",
   "pygments_lexer": "r",
   "version": "3.4.2"
  }
 },
 "nbformat": 4,
 "nbformat_minor": 2
}
