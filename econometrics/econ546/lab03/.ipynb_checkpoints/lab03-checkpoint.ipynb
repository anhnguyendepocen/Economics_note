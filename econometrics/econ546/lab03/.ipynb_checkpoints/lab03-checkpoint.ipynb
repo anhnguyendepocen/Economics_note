{
 "cells": [
  {
   "cell_type": "markdown",
   "metadata": {},
   "source": [
    "# ECON546 Lab03 2018 Spring"
   ]
  },
  {
   "cell_type": "markdown",
   "metadata": {},
   "source": [
    "## Tutorial\n",
    "\n",
    "https://www.youtube.com/watch?v=YMt5K68ZvjQ\n",
    "\n",
    "http://davidbraudt.com/stata-videos/\n",
    "\n",
    "https://www.youtube.com/watch?v=QaI_a_l2jqo\n",
    "\n",
    "http://davidbraudt.com/wp-content/uploads/2016/11/Command-List-for-Fall-2015-Workshop.pdf"
   ]
  },
  {
   "cell_type": "markdown",
   "metadata": {},
   "source": [
    "## Macro\n",
    "\n",
    "### 1 Macros\n",
    "A macro is simply a name associated with some text. Macros can be local or global in scope.\n",
    "\n",
    "Local macros have names of up to 31 characters and are known only in the **current context** (the console, a do file, or a program).\n",
    "\n",
    "**Warning**: Evaluating a macro that doesn't exist is not an error; it just returns an empty string. So be careful to spell macro names correctly. \n",
    "\n",
    "\n",
    "```stata\n",
    "local age \"age20to24 age25to29 age30to34 age35to39 age40to44 age45to49\"\n",
    "local controls \\`age' income education\n",
    "```\n",
    "\n",
    "\n",
    "ref:\n",
    "\n",
    "http://data.princeton.edu/stata/programming.html\n",
    "\n",
    "\n",
    "https://www.youtube.com/watch?v=Ovk0CiTxMRI\n",
    "\n",
    "https://www.youtube.com/watch?v=WsqvGdqzknY\n",
    "\n",
    "http://jearl.faculty.arizona.edu/sites/jearl.faculty.arizona.edu/files/Intro%20to%20loops%2C%20Year%202.pdf\n",
    "\n",
    "https://www.ucl.ac.uk/pcph/research-groups-themes/thin-pub/research_presentations/Collier_looping_STATA"
   ]
  },
  {
   "cell_type": "markdown",
   "metadata": {},
   "source": [
    "## For loop\n",
    "\n",
    "### Looping Over Sequences of Numbers\n",
    "The basic looping command takes the form\n",
    "\n",
    "```stata\n",
    "forvalues number = sequence {\n",
    "    ... body of loop using `number' ...\n",
    "}\n",
    "```\n",
    "\n",
    "Here forvalues is a keyword, number is the name of a local macro that will be set to each number in the sequence, and sequence is a range of values which can have the form\n",
    "\n",
    "- min/max to indicate a sequence of numbers from min to max in steps of one, for example 1/3 yields 1, 2 and 3, or\n",
    "- first(step)last which yields a sequence from first to last in steps of size step. For example 15(5)50 yields 15,20,25,30,35,40,45 and 50.\n",
    "\n",
    "The opening left brace must be the last thing on the first line (other than comments), and the loop must be closed by a matching right brace on a line all by itself. The loop is executed once for each value in the sequence with your local macro number (or whatever you called it) holding the value.\n",
    "\n",
    "### Looping Over Elements in a List\n",
    "\n",
    "```stata\n",
    "foreach item in a-list-of-things {\n",
    "    ... body of loop using `item' ...\n",
    "}\n",
    "```\n",
    "\n",
    "\n",
    "\n",
    "ref:\n",
    "\n",
    "http://data.princeton.edu/stata/programming.html\n",
    "\n",
    "https://www.youtube.com/watch?v=9S54_YLQ7WI"
   ]
  },
  {
   "cell_type": "code",
   "execution_count": 1,
   "metadata": {
    "ExecuteTime": {
     "end_time": "2018-01-19T04:34:39.236234Z",
     "start_time": "2018-01-19T04:34:36.871805Z"
    }
   },
   "outputs": [
    {
     "name": "stdout",
     "output_type": "stream",
     "text": [
      "IPyStata is loaded in batch mode.\n"
     ]
    },
    {
     "data": {
      "application/javascript": [
       "IPython.CodeCell.config_defaults.highlight_modes['magic_stata'] = {'reg':[/^%%stata/]};"
      ]
     },
     "metadata": {},
     "output_type": "display_data"
    }
   ],
   "source": [
    "%matplotlib inline\n",
    "import seaborn as sns\n",
    "import pandas as pd\n",
    "import statsmodels.formula.api as smf\n",
    "import ipystata"
   ]
  },
  {
   "cell_type": "code",
   "execution_count": 2,
   "metadata": {
    "ExecuteTime": {
     "end_time": "2018-01-19T04:35:07.763491Z",
     "start_time": "2018-01-19T04:35:06.060739Z"
    }
   },
   "outputs": [
    {
     "name": "stdout",
     "output_type": "stream",
     "text": [
      "\n",
      "(Life expectancy, 1998)\n",
      "\n",
      "    Variable |        Obs        Mean    Std. Dev.       Min        Max\n",
      "-------------+---------------------------------------------------------\n",
      "      region |         68         1.5    .7431277          1          3\n",
      "     country |          0\n",
      "   popgrowth |         68    .9720588    .9311918        -.5          3\n",
      "        lexp |         68    72.27941    4.715315         54         79\n",
      "       gnppc |         63    8674.857    10634.68        370      39980\n",
      "-------------+---------------------------------------------------------\n",
      "   safewater |         40        76.1    17.89112         28        100\n"
     ]
    }
   ],
   "source": [
    "%%stata -o life_df\n",
    "sysuse lifeexp.dta\n",
    "summarize"
   ]
  },
  {
   "cell_type": "code",
   "execution_count": 17,
   "metadata": {
    "ExecuteTime": {
     "end_time": "2018-01-19T04:44:08.096136Z",
     "start_time": "2018-01-19T04:44:06.685296Z"
    }
   },
   "outputs": [
    {
     "name": "stdout",
     "output_type": "stream",
     "text": [
      "\n",
      "\n"
     ]
    }
   ],
   "source": [
    "%%stata -o labor_df\n",
    "clear\n",
    "use \"D:\\onedrive\\One drive\\546-2018\\lab\\lab03\\546lab3.dta\"\n",
    "capture log close\n",
    "log using \"D:\\onedrive\\One drive\\546-2018\\lab\\lab03\\546mylab3.log\", replace\n",
    "set seed 1234567\n",
    "g age2=age^2 // creating the square of age"
   ]
  },
  {
   "cell_type": "code",
   "execution_count": 8,
   "metadata": {
    "ExecuteTime": {
     "end_time": "2018-01-19T04:39:47.513121Z",
     "start_time": "2018-01-19T04:39:45.195074Z"
    }
   },
   "outputs": [
    {
     "name": "stdout",
     "output_type": "stream",
     "text": [
      "\n",
      "(note: file D:\\onedrive\\One drive\\546-2018\\lab\\lab03\\graph1.gph not found)\n",
      "(file D:\\onedrive\\One drive\\546-2018\\lab\\lab03\\graph1.gph saved)\n"
     ]
    },
    {
     "data": {
      "text/html": [
       "\n",
       "        <iframe\n",
       "            width=\"700\"\n",
       "            height=\"400\"\n",
       "            src=\"./temp_graph.pdf\"\n",
       "            frameborder=\"0\"\n",
       "            allowfullscreen\n",
       "        ></iframe>\n",
       "        "
      ],
      "text/plain": [
       "<IPython.lib.display.IFrame at 0x1c730d0ef28>"
      ]
     },
     "execution_count": 8,
     "metadata": {},
     "output_type": "execute_result"
    }
   ],
   "source": [
    "%%stata -d labor_df --graph \n",
    "graph twoway (scatter logwr educ) (lfit logwr educ)\n",
    "graph save \"D:\\onedrive\\One drive\\546-2018\\lab\\lab03\\graph1.gph\", replace"
   ]
  },
  {
   "cell_type": "code",
   "execution_count": 10,
   "metadata": {
    "ExecuteTime": {
     "end_time": "2018-01-19T04:41:40.192034Z",
     "start_time": "2018-01-19T04:41:38.785541Z"
    }
   },
   "outputs": [
    {
     "name": "stdout",
     "output_type": "stream",
     "text": [
      "\n",
      "\n"
     ]
    }
   ],
   "source": [
    "%%stata -d labor_df\n",
    "\n",
    "label variable inlf \"Women’s participation =1 yes, =0 no\"\n",
    "\n",
    "label variable nclt18 \"Number of children between 4 and 18\"\n",
    "\n",
    "label variable age \"Age of woman\"\n",
    "\n",
    "notes logwr: this is the natural logarithm of the wage rate"
   ]
  },
  {
   "cell_type": "code",
   "execution_count": 11,
   "metadata": {
    "ExecuteTime": {
     "end_time": "2018-01-19T04:41:59.853037Z",
     "start_time": "2018-01-19T04:41:58.443644Z"
    }
   },
   "outputs": [
    {
     "name": "stdout",
     "output_type": "stream",
     "text": [
      "\n",
      "    Variable |        Obs        Mean    Std. Dev.       Min        Max\n",
      "-------------+---------------------------------------------------------\n",
      "        inlf |        908    .5605727    .4965909          0          1\n"
     ]
    }
   ],
   "source": [
    "%%stata -d labor_df\n",
    "sum inlf if age<=30 | age>=50"
   ]
  },
  {
   "cell_type": "code",
   "execution_count": 12,
   "metadata": {
    "ExecuteTime": {
     "end_time": "2018-01-19T04:42:18.333469Z",
     "start_time": "2018-01-19T04:42:16.919219Z"
    }
   },
   "outputs": [
    {
     "name": "stdout",
     "output_type": "stream",
     "text": [
      "\n",
      "(420 real changes made)\n",
      "\n",
      "    Variable |        Obs        Mean    Std. Dev.       Min        Max\n",
      "-------------+---------------------------------------------------------\n",
      "          n3 |      2,339    .1795639    .3839059          0          1\n"
     ]
    }
   ],
   "source": [
    "%%stata -d labor_df\n",
    "g n3=0\n",
    "replace n3=1 if nclt3 != 0\n",
    "sum n3"
   ]
  },
  {
   "cell_type": "code",
   "execution_count": 13,
   "metadata": {
    "ExecuteTime": {
     "end_time": "2018-01-19T04:42:38.624012Z",
     "start_time": "2018-01-19T04:42:37.233617Z"
    }
   },
   "outputs": [
    {
     "name": "stdout",
     "output_type": "stream",
     "text": [
      "\n",
      "    Variable |        Obs        Mean    Std. Dev.       Min        Max\n",
      "-------------+---------------------------------------------------------\n",
      "          n4 |      2,339    .1795639    .3839059          0          1\n"
     ]
    }
   ],
   "source": [
    "%%stata -d labor_df\n",
    "g n4 = nclt3 != 0\n",
    "sum n4"
   ]
  },
  {
   "cell_type": "code",
   "execution_count": 15,
   "metadata": {
    "ExecuteTime": {
     "end_time": "2018-01-19T04:43:17.143218Z",
     "start_time": "2018-01-19T04:43:15.723477Z"
    }
   },
   "outputs": [
    {
     "name": "stdout",
     "output_type": "stream",
     "text": [
      "\n",
      "    Variable |        Obs        Mean    Std. Dev.       Min        Max\n",
      "-------------+---------------------------------------------------------\n",
      "          x1 |      2,339   -.0116636    .9845323  -3.134875   2.885228\n",
      "          x2 |      2,339    49.94444    4.947548   31.70053   71.63751\n"
     ]
    }
   ],
   "source": [
    "%%stata -d labor_df\n",
    "g x1=rnormal()\n",
    "g x2=rnormal(50,5)\n",
    "sum x1 x2"
   ]
  },
  {
   "cell_type": "code",
   "execution_count": 18,
   "metadata": {
    "ExecuteTime": {
     "end_time": "2018-01-19T04:44:15.942022Z",
     "start_time": "2018-01-19T04:44:14.492779Z"
    }
   },
   "outputs": [
    {
     "name": "stdout",
     "output_type": "stream",
     "text": [
      "\n",
      "      Source |       SS           df       MS      Number of obs   =     2,339\n",
      "-------------+----------------------------------   F(6, 2332)      =  15633.50\n",
      "       Model |  548.401176         6  91.4001959   Prob > F        =    0.0000\n",
      "    Residual |  13.6338821     2,332  .005846433   R-squared       =    0.9757\n",
      "-------------+----------------------------------   Adj R-squared   =    0.9757\n",
      "       Total |  562.035058     2,338  .240391385   Root MSE        =    .07646\n",
      "\n",
      "------------------------------------------------------------------------------\n",
      "        inlf |      Coef.   Std. Err.      t    P>|t|     [95% Conf. Interval]\n",
      "-------------+----------------------------------------------------------------\n",
      "       nclt3 |  -.0120077   .0041652    -2.88   0.004    -.0201756   -.0038398\n",
      "      nclt18 |  -.0002429   .0016208    -0.15   0.881    -.0034213    .0029355\n",
      "         age |  -.0050703   .0014611    -3.47   0.001    -.0079354   -.0022052\n",
      "        age2 |    .000045   .0000182     2.47   0.014     9.28e-06    .0000808\n",
      "        educ |  -.0111725   .0004704   -23.75   0.000     -.012095     -.01025\n",
      "       logwr |    .171891   .0006113   281.20   0.000     .1706923    .1730897\n",
      "       _cons |   .2064355   .0271902     7.59   0.000      .153116    .2597549\n",
      "------------------------------------------------------------------------------\n"
     ]
    }
   ],
   "source": [
    "%%stata -d labor_df\n",
    "local variables nclt18 age age2 educ logwr\n",
    "regress inlf nclt3 `variables'"
   ]
  },
  {
   "cell_type": "code",
   "execution_count": 20,
   "metadata": {
    "ExecuteTime": {
     "end_time": "2018-01-19T04:45:58.809681Z",
     "start_time": "2018-01-19T04:45:58.734484Z"
    }
   },
   "outputs": [
    {
     "name": "stdout",
     "output_type": "stream",
     "text": [
      "                            OLS Regression Results                            \n",
      "==============================================================================\n",
      "Dep. Variable:                   inlf   R-squared:                       0.976\n",
      "Model:                            OLS   Adj. R-squared:                  0.976\n",
      "Method:                 Least Squares   F-statistic:                 1.563e+04\n",
      "Date:                Thu, 18 Jan 2018   Prob (F-statistic):               0.00\n",
      "Time:                        20:45:58   Log-Likelihood:                 2698.1\n",
      "No. Observations:                2339   AIC:                            -5382.\n",
      "Df Residuals:                    2332   BIC:                            -5342.\n",
      "Df Model:                           6                                         \n",
      "Covariance Type:            nonrobust                                         \n",
      "==============================================================================\n",
      "                 coef    std err          t      P>|t|      [0.025      0.975]\n",
      "------------------------------------------------------------------------------\n",
      "Intercept      0.2064      0.027      7.592      0.000       0.153       0.260\n",
      "nclt3         -0.0120      0.004     -2.883      0.004      -0.020      -0.004\n",
      "nclt18        -0.0002      0.002     -0.150      0.881      -0.003       0.003\n",
      "age           -0.0051      0.001     -3.470      0.001      -0.008      -0.002\n",
      "age2        4.504e-05   1.82e-05      2.470      0.014    9.28e-06    8.08e-05\n",
      "educ          -0.0112      0.000    -23.749      0.000      -0.012      -0.010\n",
      "logwr          0.1719      0.001    281.196      0.000       0.171       0.173\n",
      "==============================================================================\n",
      "Omnibus:                      507.997   Durbin-Watson:                   1.804\n",
      "Prob(Omnibus):                  0.000   Jarque-Bera (JB):             1971.553\n",
      "Skew:                           1.020   Prob(JB):                         0.00\n",
      "Kurtosis:                       7.009   Cond. No.                     2.99e+04\n",
      "==============================================================================\n",
      "\n",
      "Warnings:\n",
      "[1] Standard Errors assume that the covariance matrix of the errors is correctly specified.\n",
      "[2] The condition number is large, 2.99e+04. This might indicate that there are\n",
      "strong multicollinearity or other numerical problems.\n"
     ]
    }
   ],
   "source": [
    "model = smf.ols(formula = 'inlf ~ nclt3 + nclt18+ age+ age2 +educ +logwr',\n",
    "                data = labor_df)\n",
    "results = model.fit()\n",
    "print(results.summary())"
   ]
  },
  {
   "cell_type": "code",
   "execution_count": 22,
   "metadata": {
    "ExecuteTime": {
     "end_time": "2018-01-19T04:47:36.088704Z",
     "start_time": "2018-01-19T04:47:34.627328Z"
    }
   },
   "outputs": [
    {
     "name": "stdout",
     "output_type": "stream",
     "text": [
      "\n",
      ". forvalues loop=0/2 {\n",
      "      Source |       SS           df       MS      Number of obs   =     1,919\n",
      "-------------+----------------------------------   F(5, 1913)      =  15207.28\n",
      "       Model |  453.372139         5  90.6744278   Prob > F        =    0.0000\n",
      "    Residual |  11.4063914     1,913  .005962567   R-squared       =    0.9755\n",
      "-------------+----------------------------------   Adj R-squared   =    0.9754\n",
      "       Total |   464.77853     1,918  .242324573   Root MSE        =    .07722\n",
      "\n",
      "------------------------------------------------------------------------------\n",
      "        inlf |      Coef.   Std. Err.      t    P>|t|     [95% Conf. Interval]\n",
      "-------------+----------------------------------------------------------------\n",
      "      nclt18 |   .0000315   .0017932     0.02   0.986    -.0034854    .0035484\n",
      "         age |  -.0054028   .0016798    -3.22   0.001    -.0086971   -.0021084\n",
      "        age2 |   .0000492   .0000207     2.38   0.018     8.60e-06    .0000898\n",
      "        educ |   -.010529   .0005266   -19.99   0.000    -.0115618   -.0094961\n",
      "       logwr |   .1714747   .0006744   254.25   0.000      .170152    .1727974\n",
      "       _cons |   .2092112   .0318481     6.57   0.000     .1467506    .2716718\n",
      "------------------------------------------------------------------------------\n",
      "\n",
      "      Source |       SS           df       MS      Number of obs   =       380\n",
      "-------------+----------------------------------   F(5, 374)       =   3008.33\n",
      "       Model |  82.1777607         5  16.4355521   Prob > F        =    0.0000\n",
      "    Residual |  2.04329198       374  .005463348   R-squared       =    0.9757\n",
      "-------------+----------------------------------   Adj R-squared   =    0.9754\n",
      "       Total |  84.2210526       379  .222219136   Root MSE        =    .07391\n",
      "\n",
      "------------------------------------------------------------------------------\n",
      "        inlf |      Coef.   Std. Err.      t    P>|t|     [95% Conf. Interval]\n",
      "-------------+----------------------------------------------------------------\n",
      "      nclt18 |  -.0042745   .0045769    -0.93   0.351    -.0132742    .0047253\n",
      "         age |  -.0031617   .0062261    -0.51   0.612    -.0154043    .0090808\n",
      "        age2 |   .0000231   .0001015     0.23   0.820    -.0001765    .0002227\n",
      "        educ |  -.0143779   .0011104   -12.95   0.000    -.0165613   -.0121945\n",
      "       logwr |    .173951   .0015566   111.75   0.000     .1708901    .1770118\n",
      "       _cons |    .182533   .0935685     1.95   0.052    -.0014533    .3665192\n",
      "------------------------------------------------------------------------------\n",
      "\n",
      "      Source |       SS           df       MS      Number of obs   =        40\n",
      "-------------+----------------------------------   F(5, 34)        =    549.53\n",
      "       Model |  9.65552046         5  1.93110409   Prob > F        =    0.0000\n",
      "    Residual |  .119479545        34  .003514104   R-squared       =    0.9878\n",
      "-------------+----------------------------------   Adj R-squared   =    0.9860\n",
      "       Total |       9.775        39  .250641026   Root MSE        =    .05928\n",
      "\n",
      "------------------------------------------------------------------------------\n",
      "        inlf |      Coef.   Std. Err.      t    P>|t|     [95% Conf. Interval]\n",
      "-------------+----------------------------------------------------------------\n",
      "      nclt18 |   .0053583   .0074521     0.72   0.477    -.0097861    .0205028\n",
      "         age |  -.0265481    .017102    -1.55   0.130    -.0613035    .0082074\n",
      "        age2 |   .0003845   .0002663     1.44   0.158    -.0001567    .0009257\n",
      "        educ |  -.0101831   .0032524    -3.13   0.004    -.0167929   -.0035734\n",
      "       logwr |   .1735156   .0042694    40.64   0.000     .1648391    .1821921\n",
      "       _cons |   .4817992   .2577253     1.87   0.070    -.0419617     1.00556\n",
      "------------------------------------------------------------------------------\n"
     ]
    }
   ],
   "source": [
    "%%stata -d labor_df\n",
    "\n",
    "local variables nclt18 age age2 educ logwr\n",
    "\n",
    "// illustrating a forvalues loop\n",
    "\n",
    "forvalues loop=0/2 {\n",
    "regress inlf `variables' if nclt3==`loop'\n",
    "}\n",
    "\n"
   ]
  },
  {
   "cell_type": "markdown",
   "metadata": {},
   "source": [
    "### Creating Dummy Variables\n",
    "creating dummy variables to represent age groups. Stata 11 introduced factor variables and Stata 13 improved the labeling of tables of estimates, drastically reducing the need to \"roll your own\" dummies, but the code remains instructive.\n",
    "\n",
    "This will create dummy variables age20to24 to age45to49. The way the loop works is that the local macro bot will take values between 20 and 45 in steps of 5 (hence 20, 25, 30, 35, 40, and 45), the lower bounds of the age groups.\n",
    "\n",
    "Inside the loop we create a local macro top to represent the upper bounds of the age groups, which equals the lower bound plus 4. The first time through the loop bot is 20, so top is 24. We use an equal sign to store the result of adding 4 to bot."
   ]
  },
  {
   "cell_type": "code",
   "execution_count": 27,
   "metadata": {
    "ExecuteTime": {
     "end_time": "2018-01-19T05:10:54.932458Z",
     "start_time": "2018-01-19T05:10:53.515550Z"
    }
   },
   "outputs": [
    {
     "name": "stdout",
     "output_type": "stream",
     "text": [
      "\n",
      "    Variable |        Obs        Mean    Std. Dev.       Min        Max\n",
      "-------------+---------------------------------------------------------\n",
      "   age20to24 |      2,339    .0470286    .2117454          0          1\n",
      "   age25to29 |      2,339     .148354    .3555266          0          1\n",
      "   age30to34 |      2,339    .1748611    .3799294          0          1\n",
      "   age35to39 |      2,339    .1911073    .3932575          0          1\n",
      "   age40to44 |      2,339    .1564771    .3633848          0          1\n",
      "-------------+---------------------------------------------------------\n",
      "   age45to49 |      2,339    .1239846    .3296345          0          1\n"
     ]
    }
   ],
   "source": [
    "%%stata -d labor_df\n",
    "forvalues bot = 20(5)45 {\n",
    "    local top = `bot' + 4\n",
    "    gen age`bot'to`top' = age >= `bot' & age <= `top'\n",
    "}\n",
    "\n",
    "sum age20to24 age25to29 age30to34 age35to39 age40to44 age45to49\n"
   ]
  },
  {
   "cell_type": "code",
   "execution_count": null,
   "metadata": {},
   "outputs": [],
   "source": []
  },
  {
   "cell_type": "code",
   "execution_count": 26,
   "metadata": {
    "ExecuteTime": {
     "end_time": "2018-01-19T05:10:52.832391Z",
     "start_time": "2018-01-19T05:10:51.416009Z"
    }
   },
   "outputs": [
    {
     "name": "stdout",
     "output_type": "stream",
     "text": [
      "\n",
      ". foreach control of local controls {nclt18\n",
      "age\n",
      "age2\n",
      "educ\n",
      "logwr\n"
     ]
    }
   ],
   "source": [
    "%%stata -d labor_df\n",
    "local controls nclt18 age age2 educ logwr\n",
    "\n",
    "// illustrating a foreach loop\n",
    "\n",
    "foreach control of local controls {\n",
    "    display \"`control'\"\n",
    "}"
   ]
  },
  {
   "cell_type": "code",
   "execution_count": 28,
   "metadata": {
    "ExecuteTime": {
     "end_time": "2018-01-19T05:12:04.132268Z",
     "start_time": "2018-01-19T05:12:02.717505Z"
    }
   },
   "outputs": [
    {
     "name": "stdout",
     "output_type": "stream",
     "text": [
      "\n",
      ". foreach year of numlist 1980 1985 1995 {1980\n",
      "1985\n",
      "1995\n"
     ]
    }
   ],
   "source": [
    "%%stata \n",
    "\n",
    "// illustrating a foreach loop\n",
    "\n",
    "foreach year of numlist 1980 1985 1995 {\n",
    "    display \"`year'\"\n",
    "}"
   ]
  },
  {
   "cell_type": "code",
   "execution_count": 23,
   "metadata": {
    "ExecuteTime": {
     "end_time": "2018-01-19T04:48:17.851752Z",
     "start_time": "2018-01-19T04:48:16.388590Z"
    }
   },
   "outputs": [
    {
     "name": "stdout",
     "output_type": "stream",
     "text": [
      "\n",
      ". local k=1\n",
      "      Source |       SS           df       MS      Number of obs   =       380\n",
      "-------------+----------------------------------   F(5, 374)       =   3008.33\n",
      "       Model |  82.1777607         5  16.4355521   Prob > F        =    0.0000\n",
      "    Residual |  2.04329198       374  .005463348   R-squared       =    0.9757\n",
      "-------------+----------------------------------   Adj R-squared   =    0.9754\n",
      "       Total |  84.2210526       379  .222219136   Root MSE        =    .07391\n",
      "\n",
      "------------------------------------------------------------------------------\n",
      "        inlf |      Coef.   Std. Err.      t    P>|t|     [95% Conf. Interval]\n",
      "-------------+----------------------------------------------------------------\n",
      "      nclt18 |  -.0042745   .0045769    -0.93   0.351    -.0132742    .0047253\n",
      "         age |  -.0031617   .0062261    -0.51   0.612    -.0154043    .0090808\n",
      "        age2 |   .0000231   .0001015     0.23   0.820    -.0001765    .0002227\n",
      "        educ |  -.0143779   .0011104   -12.95   0.000    -.0165613   -.0121945\n",
      "       logwr |    .173951   .0015566   111.75   0.000     .1708901    .1770118\n",
      "       _cons |    .182533   .0935685     1.95   0.052    -.0014533    .3665192\n",
      "------------------------------------------------------------------------------\n",
      "\n",
      "      Source |       SS           df       MS      Number of obs   =        40\n",
      "-------------+----------------------------------   F(5, 34)        =    549.53\n",
      "       Model |  9.65552046         5  1.93110409   Prob > F        =    0.0000\n",
      "    Residual |  .119479545        34  .003514104   R-squared       =    0.9878\n",
      "-------------+----------------------------------   Adj R-squared   =    0.9860\n",
      "       Total |       9.775        39  .250641026   Root MSE        =    .05928\n",
      "\n",
      "------------------------------------------------------------------------------\n",
      "        inlf |      Coef.   Std. Err.      t    P>|t|     [95% Conf. Interval]\n",
      "-------------+----------------------------------------------------------------\n",
      "      nclt18 |   .0053583   .0074521     0.72   0.477    -.0097861    .0205028\n",
      "         age |  -.0265481    .017102    -1.55   0.130    -.0613035    .0082074\n",
      "        age2 |   .0003845   .0002663     1.44   0.158    -.0001567    .0009257\n",
      "        educ |  -.0101831   .0032524    -3.13   0.004    -.0167929   -.0035734\n",
      "       logwr |   .1735156   .0042694    40.64   0.000     .1648391    .1821921\n",
      "       _cons |   .4817992   .2577253     1.87   0.070    -.0419617     1.00556\n",
      "------------------------------------------------------------------------------\n"
     ]
    }
   ],
   "source": [
    "%%stata -d labor_df\n",
    "local variables nclt18 age age2 educ logwr\n",
    "\n",
    "// illustrating a while loop\n",
    "\n",
    "local k=1\n",
    "while `k'<=2 {\n",
    "regress inlf `variables' if nclt3==`k'\n",
    "local k=`k'+1\n",
    "}"
   ]
  },
  {
   "cell_type": "code",
   "execution_count": null,
   "metadata": {},
   "outputs": [],
   "source": []
  }
 ],
 "metadata": {
  "kernelspec": {
   "display_name": "Python 3",
   "language": "python",
   "name": "python3"
  },
  "language_info": {
   "codemirror_mode": {
    "name": "ipython",
    "version": 3
   },
   "file_extension": ".py",
   "mimetype": "text/x-python",
   "name": "python",
   "nbconvert_exporter": "python",
   "pygments_lexer": "ipython3",
   "version": "3.6.3"
  }
 },
 "nbformat": 4,
 "nbformat_minor": 2
}
