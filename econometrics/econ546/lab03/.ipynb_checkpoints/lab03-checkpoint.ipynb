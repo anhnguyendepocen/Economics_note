{
 "cells": [
  {
   "cell_type": "markdown",
   "metadata": {},
   "source": [
    "# ECON546 Lab03 2018 Spring"
   ]
  },
  {
   "cell_type": "markdown",
   "metadata": {},
   "source": [
    "\n",
    "https://www.youtube.com/watch?v=YMt5K68ZvjQ\n",
    "\n",
    "http://davidbraudt.com/stata-videos/\n",
    "\n",
    "https://www.youtube.com/watch?v=QaI_a_l2jqo\n",
    "\n",
    "http://davidbraudt.com/wp-content/uploads/2016/11/Command-List-for-Fall-2015-Workshop.pdf"
   ]
  },
  {
   "cell_type": "markdown",
   "metadata": {},
   "source": [
    "## Macro\n",
    "\n",
    "https://www.youtube.com/watch?v=Ovk0CiTxMRI\n",
    "\n",
    "https://www.youtube.com/watch?v=WsqvGdqzknY\n",
    "\n",
    "http://jearl.faculty.arizona.edu/sites/jearl.faculty.arizona.edu/files/Intro%20to%20loops%2C%20Year%202.pdf\n",
    "\n",
    "https://www.ucl.ac.uk/pcph/research-groups-themes/thin-pub/research_presentations/Collier_looping_STATA"
   ]
  },
  {
   "cell_type": "markdown",
   "metadata": {},
   "source": [
    "## For loop\n",
    "\n",
    "https://www.youtube.com/watch?v=9S54_YLQ7WI"
   ]
  },
  {
   "cell_type": "code",
   "execution_count": null,
   "metadata": {},
   "outputs": [],
   "source": []
  },
  {
   "cell_type": "code",
   "execution_count": null,
   "metadata": {},
   "outputs": [],
   "source": []
  }
 ],
 "metadata": {
  "kernelspec": {
   "display_name": "Python 3",
   "language": "python",
   "name": "python3"
  },
  "language_info": {
   "codemirror_mode": {
    "name": "ipython",
    "version": 3
   },
   "file_extension": ".py",
   "mimetype": "text/x-python",
   "name": "python",
   "nbconvert_exporter": "python",
   "pygments_lexer": "ipython3",
   "version": "3.5.4"
  }
 },
 "nbformat": 4,
 "nbformat_minor": 2
}
