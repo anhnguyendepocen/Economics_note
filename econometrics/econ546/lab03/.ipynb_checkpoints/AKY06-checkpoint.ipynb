{
 "cells": [
  {
   "cell_type": "markdown",
   "metadata": {},
   "source": [
    "## Replicating Ashraf, Karlan and Yin (2006) \n",
    "**\"Tying Odysseus to the Mast: Evidence from a Commitment Savings Product in the Philippines,\"** *Quarterly Journal of Economics.*"
   ]
  },
  {
   "cell_type": "markdown",
   "metadata": {},
   "source": [
    "What follows are notes on the replication files for this paper (available from [Harvard Dataverse](https://dataverse.harvard.edu/dataset.xhtml?persistentId=doi%3A10.7910/DVN/27854)).  This is written in a jupyter notebook using the ipystata python library which basically allows us to run stata code.\n",
    "\n",
    "\n",
    "In what follows I have reproduced only parts of the analysis from the following do files:\n",
    " - [SEED.QJEtable.impact.do](AKY06\\SEED.QJEtable.impact.do)  \n",
    " - [SEED.QJEtables.takeup.do](AKY06\\SEED.QJEtables.takeup.do)  "
   ]
  },
  {
   "cell_type": "markdown",
   "metadata": {},
   "source": [
    "**Opening the datasets**\n",
    "\n",
    "One disadvantage of proprietary software like Stata is that you often cannot open a dataset saved with a later version of the software unless you pay to upgrade the software.  The datasets seem to have been saved as Stata 13 but (separately) I've used the stata saveold command to save them as Stata 11 datasets to be more widely available.  Analysis that follows opens these version11 files."
   ]
  },
  {
   "cell_type": "code",
   "execution_count": 1,
   "metadata": {},
   "outputs": [
    {
     "data": {
      "application/javascript": [
       "IPython.CodeCell.config_defaults.highlight_modes['magic_stata'] = {'reg':[/^%%stata/]};"
      ]
     },
     "metadata": {},
     "output_type": "display_data"
    }
   ],
   "source": [
    "import ipystata"
   ]
  },
  {
   "cell_type": "markdown",
   "metadata": {},
   "source": [
    "## Observations about the datasets"
   ]
  },
  {
   "cell_type": "markdown",
   "metadata": {},
   "source": [
    "These are the original datasets. They have non-obvious names:\n",
    "\n",
    " - **seedanalysis_011204_1.dta**: -- Six month impacts\n",
    "\n",
    " - **seedanalysis_011204_080404_1.dta**:  -- Twelve month impacts\n",
    "\n",
    " - **seedanalysis_080404_1.dta**: -- not sure yet.."
   ]
  },
  {
   "cell_type": "markdown",
   "metadata": {},
   "source": [
    "The dataset has 3153 observations but the baseline survey appears to have been administered to only 1777 (if call==1)"
   ]
  },
  {
   "cell_type": "code",
   "execution_count": 4,
   "metadata": {},
   "outputs": [
    {
     "name": "stdout",
     "output_type": "stream",
     "text": [
      "\n",
      "G:\\GC\\Dev-II\\notebooks\n",
      "(204800k)\n",
      "\n",
      "      group |      Freq.     Percent        Cum.\n",
      "------------+-----------------------------------\n",
      "          C |        809       25.66       25.66\n",
      "          M |        776       24.61       50.27\n",
      "          T |      1,568       49.73      100.00\n",
      "------------+-----------------------------------\n",
      "      Total |      3,153      100.00\n",
      "\n",
      "      group |      Freq.     Percent        Cum.\n",
      "------------+-----------------------------------\n",
      "          C |        469       26.39       26.39\n",
      "          M |        466       26.22       52.62\n",
      "          T |        842       47.38      100.00\n",
      "------------+-----------------------------------\n",
      "      Total |      1,777      100.00\n"
     ]
    }
   ],
   "source": [
    "%%stata\n",
    "cd G:\\GC\\Dev-II\\notebooks\n",
    "set mem 200m\n",
    "use AKY06\\seedanalysis_011204_080404_1_v11.dta\n",
    "\n",
    "tab group\n",
    "tab group if treatment !=."
   ]
  },
  {
   "cell_type": "markdown",
   "metadata": {},
   "source": [
    "## Table 6: Impact "
   ]
  },
  {
   "cell_type": "markdown",
   "metadata": {},
   "source": [
    "### OLS 6 months\n",
    "Note that the 6 months data is in the file:\n",
    "AKY06\\seedanalysis_011204_1.dta"
   ]
  },
  {
   "cell_type": "code",
   "execution_count": 5,
   "metadata": {},
   "outputs": [
    {
     "name": "stdout",
     "output_type": "stream",
     "text": [
      "\n",
      "Linear regression                                      Number of obs =    1777\n",
      "                                                       F(  2,  1774) =    2.90\n",
      "                                                       Prob > F      =  0.0553\n",
      "                                                       R-squared     =  0.0018\n",
      "                                                       Root MSE      =  2293.2\n",
      "\n",
      "------------------------------------------------------------------------------\n",
      "             |               Robust\n",
      "   balchange |      Coef.   Std. Err.      t    P>|t|     [95% Conf. Interval]\n",
      "-------------+----------------------------------------------------------------\n",
      "   treatment |   234.6785   101.7479     2.31   0.021     35.12004     434.237\n",
      "   marketing |   184.8506   146.9815     1.26   0.209    -103.4246    473.1257\n",
      "       _cons |   40.62573   61.67617     0.66   0.510    -80.33988    161.5913\n",
      "------------------------------------------------------------------------------\n",
      "\n",
      "Linear regression                                      Number of obs =    1308\n",
      "                                                       F(  1,  1306) =    0.10\n",
      "                                                       Prob > F      =  0.7495\n",
      "                                                       R-squared     =  0.0001\n",
      "                                                       Root MSE      =  2550.2\n",
      "\n",
      "------------------------------------------------------------------------------\n",
      "             |               Robust\n",
      "   balchange |      Coef.   Std. Err.      t    P>|t|     [95% Conf. Interval]\n",
      "-------------+----------------------------------------------------------------\n",
      "   treatment |   49.82794    156.027     0.32   0.750    -256.2631    355.9189\n",
      "       _cons |   225.4763   133.4046     1.69   0.091     -36.2344     487.187\n"
     ]
    }
   ],
   "source": [
    "%%stata\n",
    "use AKY06\\seedanalysis_011204_1_v11.dta\n",
    "xi: reg balchange treatment marketing, robust\n",
    "xi: reg balchange treatment if (treatment == 1 | marketing == 1), robust"
   ]
  },
  {
   "cell_type": "markdown",
   "metadata": {},
   "source": [
    "### OLS 12 months\n",
    "Note that the 12 months data is in the file:\n",
    "AKY06\\seedanalysis_011204_080404_1.dta"
   ]
  },
  {
   "cell_type": "code",
   "execution_count": 4,
   "metadata": {},
   "outputs": [
    {
     "name": "stdout",
     "output_type": "stream",
     "text": [
      "\n",
      "Linear regression                               Number of obs     =      1,777\n",
      "                                                F(2, 1774)        =       1.43\n",
      "                                                Prob > F          =     0.2398\n",
      "                                                R-squared         =     0.0016\n",
      "                                                Root MSE          =       4528\n",
      "\n",
      "------------------------------------------------------------------------------\n",
      "             |               Robust\n",
      "   balchange |      Coef.   Std. Err.      t    P>|t|     [95% Conf. Interval]\n",
      "-------------+----------------------------------------------------------------\n",
      "   treatment |   411.4664   244.0205     1.69   0.092    -67.13149    890.0644\n",
      "   marketing |    123.891   153.4397     0.81   0.420    -177.0506    424.8327\n",
      "       _cons |     65.183   124.2152     0.52   0.600    -178.4406    308.8066\n",
      "------------------------------------------------------------------------------\n",
      "\n",
      "Linear regression                               Number of obs     =      1,308\n",
      "                                                F(1, 1306)        =       1.58\n",
      "                                                Prob > F          =     0.2085\n",
      "                                                R-squared         =     0.0008\n",
      "                                                Root MSE          =     5025.5\n",
      "\n",
      "------------------------------------------------------------------------------\n",
      "             |               Robust\n",
      "   balchange |      Coef.   Std. Err.      t    P>|t|     [95% Conf. Interval]\n",
      "-------------+----------------------------------------------------------------\n",
      "   treatment |   287.5754   228.5226     1.26   0.208    -160.7361    735.8869\n",
      "       _cons |    189.074   90.07236     2.10   0.036     12.37169    365.7764\n"
     ]
    }
   ],
   "source": [
    "%%stata\n",
    "use AKY06\\seedanalysis_011204_080404_1_v11.dta\n",
    "\n",
    "xi: reg balchange treatment marketing, robust\n",
    "\n",
    "xi: reg balchange treatment if (treatment == 1 | marketing == 1), robust"
   ]
  },
  {
   "cell_type": "markdown",
   "metadata": {},
   "source": [
    "In the analysis that follows e(sample)==1 restricts the calculations to the sample that was used in the lsat regression and \\_result(3) refers to the mean of hh_inc"
   ]
  },
  {
   "cell_type": "code",
   "execution_count": 5,
   "metadata": {},
   "outputs": [
    {
     "name": "stdout",
     "output_type": "stream",
     "text": [
      "\n",
      "Linear regression                               Number of obs     =      1,777\n",
      "                                                F(2, 1774)        =       1.43\n",
      "                                                Prob > F          =     0.2398\n",
      "                                                R-squared         =     0.0016\n",
      "                                                Root MSE          =       4528\n",
      "\n",
      "------------------------------------------------------------------------------\n",
      "             |               Robust\n",
      "   balchange |      Coef.   Std. Err.      t    P>|t|     [95% Conf. Interval]\n",
      "-------------+----------------------------------------------------------------\n",
      "   treatment |   411.4664   244.0205     1.69   0.092    -67.13149    890.0644\n",
      "   marketing |    123.891   153.4397     0.81   0.420    -177.0506    424.8327\n",
      "       _cons |     65.183   124.2152     0.52   0.600    -178.4406    308.8066\n",
      "------------------------------------------------------------------------------\n",
      ". **economic impact #1: % of hh_inc \n",
      "\n",
      "    Variable |        Obs        Mean    Std. Dev.       Min        Max\n",
      "-------------+---------------------------------------------------------\n",
      "      hh_inc |      1,777    1.506908    1.953011          0    34.2623\n",
      ".02730535\n",
      "\n",
      "    Variable |        Obs        Mean    Std. Dev.       Min        Max\n",
      "-------------+---------------------------------------------------------\n",
      "      totbal |      1,777    50912.48    50489.83          0     223836\n",
      ".80818389\n"
     ]
    }
   ],
   "source": [
    "%%stata\n",
    "\n",
    "xi: reg balchange treatment marketing, robust\n",
    "    \n",
    "**economic impact #1: % of hh_inc \n",
    "summ hh_inc if e(sample)==1\n",
    "disp _b[treatment] / (_result(3)*10000)\n",
    "\n",
    "**economic impact #2: % of prior balance\n",
    "summ totbal if e(sample)==1\n",
    "disp _b[treatment] / (_result(3)/100)"
   ]
  },
  {
   "cell_type": "markdown",
   "metadata": {},
   "source": [
    "### Probit regressions"
   ]
  },
  {
   "cell_type": "code",
   "execution_count": 6,
   "metadata": {},
   "outputs": [
    {
     "name": "stdout",
     "output_type": "stream",
     "text": [
      "\n",
      "Iteration 0:   log pseudolikelihood = -1072.4045\n",
      "Iteration 1:   log pseudolikelihood = -1064.6708\n",
      "Iteration 2:   log pseudolikelihood = -1064.6667\n",
      "\n",
      "Probit regression, reporting marginal effects           Number of obs =   1777\n",
      "                                                        Wald chi2(2)  =  15.34\n",
      "                                                        Prob > chi2   = 0.0005\n",
      "Log pseudolikelihood = -1064.6667                       Pseudo R2     = 0.0072\n",
      "\n",
      "------------------------------------------------------------------------------\n",
      "         |               Robust\n",
      "frac~_00 |      dF/dx   Std. Err.      z    P>|z|     x-bar  [    95% C.I.   ]\n",
      "---------+--------------------------------------------------------------------\n",
      "treatm~t*|   .1021901   .0266729     3.82   0.000   .473832   .049912  .154468\n",
      "market~g*|   .0482741   .0314653     1.56   0.119    .26224  -.013397  .109945\n",
      "---------+--------------------------------------------------------------------\n",
      "  obs. P |   .2915025\n",
      " pred. P |    .290007  (at x-bar)\n",
      "------------------------------------------------------------------------------\n",
      "(*) dF/dx is for discrete change of dummy variable from 0 to 1\n",
      "    z and P>|z| correspond to the test of the underlying coefficient being 0\n",
      "\n",
      "Iteration 0:   log pseudolikelihood = -812.57798\n",
      "Iteration 1:   log pseudolikelihood =  -810.3887\n",
      "Iteration 2:   log pseudolikelihood =  -810.3884\n",
      "\n",
      "Probit regression, reporting marginal effects           Number of obs =   1308\n",
      "                                                        Wald chi2(1)  =   4.35\n",
      "                                                        Prob > chi2   = 0.0369\n",
      "Log pseudolikelihood =  -810.3884                       Pseudo R2     = 0.0027\n",
      "\n",
      "------------------------------------------------------------------------------\n",
      "         |               Robust\n",
      "frac~_00 |      dF/dx   Std. Err.      z    P>|z|     x-bar  [    95% C.I.   ]\n",
      "---------+--------------------------------------------------------------------\n",
      "treatm~t*|   .0557175   .0263389     2.09   0.037   .643731   .004094  .107341\n",
      "---------+--------------------------------------------------------------------\n",
      "  obs. P |   .3126911\n",
      " pred. P |   .3121752  (at x-bar)\n",
      "------------------------------------------------------------------------------\n",
      "(*) dF/dx is for discrete change of dummy variable from 0 to 1\n",
      "    z and P>|z| correspond to the test of the underlying coefficient being 0\n",
      "\n",
      "Iteration 0:   log pseudolikelihood =  -784.0733\n",
      "Iteration 1:   log pseudolikelihood = -772.39775\n",
      "Iteration 2:   log pseudolikelihood = -772.35865\n",
      "Iteration 3:   log pseudolikelihood = -772.35865\n",
      "\n",
      "Probit regression, reporting marginal effects           Number of obs =   1777\n",
      "                                                        Wald chi2(2)  =  22.93\n",
      "                                                        Prob > chi2   = 0.0000\n",
      "Log pseudolikelihood = -772.35865                       Pseudo R2     = 0.0149\n",
      "\n",
      "------------------------------------------------------------------------------\n",
      "         |               Robust\n",
      "frac_~20 |      dF/dx   Std. Err.      z    P>|z|     x-bar  [    95% C.I.   ]\n",
      "---------+--------------------------------------------------------------------\n",
      "treatm~t*|   .1006771   .0223461     4.51   0.000   .473832   .056879  .144475\n",
      "market~g*|   .0405021   .0274247     1.53   0.126    .26224  -.013249  .094253\n",
      "---------+--------------------------------------------------------------------\n",
      "  obs. P |   .1609454\n",
      " pred. P |   .1572024  (at x-bar)\n",
      "------------------------------------------------------------------------------\n",
      "(*) dF/dx is for discrete change of dummy variable from 0 to 1\n",
      "    z and P>|z| correspond to the test of the underlying coefficient being 0\n",
      "\n",
      "Iteration 0:   log pseudolikelihood = -617.43102\n",
      "Iteration 1:   log pseudolikelihood =  -613.2009\n",
      "Iteration 2:   log pseudolikelihood = -613.19501\n",
      "\n",
      "Probit regression, reporting marginal effects           Number of obs =   1308\n",
      "                                                        Wald chi2(1)  =   8.31\n",
      "                                                        Prob > chi2   = 0.0039\n",
      "Log pseudolikelihood = -613.19501                       Pseudo R2     = 0.0069\n",
      "\n",
      "------------------------------------------------------------------------------\n",
      "         |               Robust\n",
      "frac_~20 |      dF/dx   Std. Err.      z    P>|z|     x-bar  [    95% C.I.   ]\n",
      "---------+--------------------------------------------------------------------\n",
      "treatm~t*|   .0636029   .0212161     2.88   0.004   .643731    .02202  .105186\n",
      "---------+--------------------------------------------------------------------\n",
      "  obs. P |   .1804281\n",
      " pred. P |   .1786767  (at x-bar)\n",
      "------------------------------------------------------------------------------\n",
      "(*) dF/dx is for discrete change of dummy variable from 0 to 1\n",
      "    z and P>|z| correspond to the test of the underlying coefficient being 0\n"
     ]
    }
   ],
   "source": [
    "%%stata\n",
    "xi: dprobit frac_change_00 treatment marketing, robust\n",
    "xi: dprobit frac_change_00 treatment if (treatment == 1 | marketing == 1), robust\n",
    "xi: dprobit frac_change_20 treatment marketing, robust\n",
    "xi: dprobit frac_change_20 treatment  if (treatment == 1 | marketing == 1), robust"
   ]
  },
  {
   "cell_type": "markdown",
   "metadata": {},
   "source": [
    "### Quantile Regressions"
   ]
  },
  {
   "cell_type": "markdown",
   "metadata": {},
   "source": [
    "#### 6 months"
   ]
  },
  {
   "cell_type": "code",
   "execution_count": 7,
   "metadata": {},
   "outputs": [
    {
     "name": "stdout",
     "output_type": "stream",
     "text": [
      "\n",
      "(fitting base model)\n",
      "\n",
      "Bootstrap replications (20)\n",
      "----+--- 1 ---+--- 2 ---+--- 3 ---+--- 4 ---+--- 5 \n",
      "....x.x....x..x.....x....\n",
      "\n",
      "Simultaneous quantile regression                    Number of obs =      1,777\n",
      "  bootstrap(20) SEs                                 .10 Pseudo R2 =     0.0089\n",
      "                                                    .20 Pseudo R2 =     0.0004\n",
      "                                                    .30 Pseudo R2 =     0.0029\n",
      "                                                    .40 Pseudo R2 =     0.0011\n",
      "                                                    .50 Pseudo R2 =     0.0012\n",
      "                                                    .60 Pseudo R2 =     0.0006\n",
      "                                                    .70 Pseudo R2 =     0.0002\n",
      "                                                    .80 Pseudo R2 =     0.0015\n",
      "                                                    .90 Pseudo R2 =     0.0051\n",
      "\n",
      "------------------------------------------------------------------------------\n",
      "             |              Bootstrap\n",
      "   balchange |      Coef.   Std. Err.      t    P>|t|     [95% Conf. Interval]\n",
      "-------------+----------------------------------------------------------------\n",
      "q10          |\n",
      "   treatment |     317.49   96.41809     3.29   0.001      128.385     506.595\n",
      "   marketing |     327.15   106.2085     3.08   0.002      118.843     535.457\n",
      "       _cons |    -828.09   89.08566    -9.30   0.000    -1002.814   -653.3661\n",
      "-------------+----------------------------------------------------------------\n",
      "q20          |\n",
      "   treatment |         20   24.16008     0.83   0.408    -27.38521    67.38521\n",
      "   marketing |         20   24.86448     0.80   0.421    -28.76677    68.76677\n",
      "       _cons |       -300   22.99448   -13.05   0.000    -345.0991   -254.9009\n",
      "-------------+----------------------------------------------------------------\n",
      "q30          |\n",
      "   treatment |     107.03   15.97238     6.70   0.000     75.70331    138.3567\n",
      "   marketing |      100.9    31.1462     3.24   0.001     39.81289    161.9871\n",
      "       _cons |    -276.99   12.32701   -22.47   0.000     -301.167    -252.813\n",
      "-------------+----------------------------------------------------------------\n",
      "q40          |\n",
      "   treatment |   42.50999   18.72339     2.27   0.023     5.787762    79.23223\n",
      "   marketing |   29.60999   17.30305     1.71   0.087    -4.326526    63.54651\n",
      "       _cons |    -148.98   16.03131    -9.29   0.000    -180.4222   -117.5378\n",
      "-------------+----------------------------------------------------------------\n",
      "q50          |\n",
      "   treatment |         62   12.94691     4.79   0.000      36.6072     87.3928\n",
      "   marketing |      21.58   19.00313     1.14   0.256    -15.69088    58.85089\n",
      "       _cons |     -98.22   9.810769   -10.01   0.000    -117.4619   -78.97812\n",
      "-------------+----------------------------------------------------------------\n",
      "q60          |\n",
      "   treatment |      37.62    10.6566     3.53   0.000     16.71919    58.52081\n",
      "   marketing |      22.59   23.21491     0.97   0.331    -22.94144    68.12144\n",
      "       _cons |     -37.62    10.6566    -3.53   0.000    -58.52081   -16.71919\n",
      "-------------+----------------------------------------------------------------\n",
      "q70          |\n",
      "   treatment |       6.55   2.694475     2.43   0.015     1.265321    11.83468\n",
      "   marketing |   2.92e-13   1.094166     0.00   1.000     -2.14599     2.14599\n",
      "       _cons |  -2.97e-13   1.16e-13    -2.57   0.010    -5.24e-13   -7.00e-14\n",
      "-------------+----------------------------------------------------------------\n",
      "q80          |\n",
      "   treatment |      65.79   15.76751     4.17   0.000     34.86515    96.71485\n",
      "   marketing |       4.02   6.252162     0.64   0.520    -8.242379    16.28238\n",
      "       _cons |       6.85   1.559019     4.39   0.000     3.792292    9.907708\n",
      "-------------+----------------------------------------------------------------\n",
      "q90          |\n",
      "   treatment |     437.23   148.7802     2.94   0.003      145.427     729.033\n",
      "   marketing |     265.06   176.7912     1.50   0.134    -81.68094    611.8009\n",
      "       _cons |      107.4   52.46879     2.05   0.041     4.492847    210.3072\n",
      "------------------------------------------------------------------------------\n",
      "(fitting base model)\n",
      "\n",
      "Bootstrap replications (20)\n",
      "----+--- 1 ---+--- 2 ---+--- 3 ---+--- 4 ---+--- 5 \n",
      "xxxxxx.xx...xxx..xxxxxxxxx.x.x.xxxxxxxxxx..xxxxxxx.xxxxxxxxxx.xxxxxxxxx.xxx.xxx..xxxx..x.\n",
      "\n",
      "Simultaneous quantile regression                    Number of obs =      1,308\n",
      "  bootstrap(20) SEs                                 .10 Pseudo R2 =     0.0001\n",
      "                                                    .20 Pseudo R2 =    -0.0000\n",
      "                                                    .30 Pseudo R2 =     0.0000\n",
      "                                                    .40 Pseudo R2 =     0.0003\n",
      "                                                    .50 Pseudo R2 =     0.0006\n",
      "                                                    .60 Pseudo R2 =     0.0001\n",
      "                                                    .70 Pseudo R2 =     0.0001\n",
      "                                                    .80 Pseudo R2 =     0.0012\n",
      "                                                    .90 Pseudo R2 =     0.0006\n",
      "\n",
      "------------------------------------------------------------------------------\n",
      "             |              Bootstrap\n",
      "   balchange |      Coef.   Std. Err.      t    P>|t|     [95% Conf. Interval]\n",
      "-------------+----------------------------------------------------------------\n",
      "q10          |\n",
      "   treatment |  -9.660004   105.8526    -0.09   0.927    -217.3198    197.9998\n",
      "       _cons |    -500.94   105.6118    -4.74   0.000    -708.1273   -293.7527\n",
      "-------------+----------------------------------------------------------------\n",
      "q20          |\n",
      "   treatment |          0   14.62935     0.00   1.000     -28.6996     28.6996\n",
      "       _cons |       -280   10.26516   -27.28   0.000     -300.138    -259.862\n",
      "-------------+----------------------------------------------------------------\n",
      "q30          |\n",
      "   treatment |    6.12999   32.19983     0.19   0.849    -57.03907    69.29905\n",
      "       _cons |    -176.09   21.26357    -8.28   0.000    -217.8045   -134.3755\n",
      "-------------+----------------------------------------------------------------\n",
      "q40          |\n",
      "   treatment |       12.9   14.01399     0.92   0.357    -14.59238    40.39239\n",
      "       _cons |    -119.37   9.211683   -12.96   0.000    -137.4413   -101.2987\n",
      "-------------+----------------------------------------------------------------\n",
      "q50          |\n",
      "   treatment |      40.42   16.54314     2.44   0.015     7.965957    72.87404\n",
      "       _cons |     -76.64   12.82142    -5.98   0.000    -101.7928   -51.48717\n",
      "-------------+----------------------------------------------------------------\n",
      "q60          |\n",
      "   treatment |      15.03     12.593     1.19   0.233    -9.674723    39.73472\n",
      "       _cons |     -15.03     12.593    -1.19   0.233    -39.73472    9.674723\n",
      "-------------+----------------------------------------------------------------\n",
      "q70          |\n",
      "   treatment |       6.55   3.169129     2.07   0.039     .3328592    12.76714\n",
      "       _cons |   1.04e-13   .3108714     0.00   1.000     -.609862     .609862\n",
      "-------------+----------------------------------------------------------------\n",
      "q80          |\n",
      "   treatment |      61.77   17.17601     3.60   0.000     28.07442    95.46558\n",
      "       _cons |      10.87   4.421678     2.46   0.014      2.19563    19.54437\n",
      "-------------+----------------------------------------------------------------\n",
      "q90          |\n",
      "   treatment |     172.17   192.5683     0.89   0.371    -205.6071    549.9471\n",
      "       _cons |     372.46   164.7767     2.26   0.024     49.20397     695.716\n"
     ]
    }
   ],
   "source": [
    "%%stata\n",
    "use AKY06\\seedanalysis_011204_080404_1_v11.dta\n",
    "sqreg balchange treatment marketing, q(.1 .2 .3 .4 .5 .6 .7 .8 .9)\n",
    "\n",
    "sqreg balchange treatment if (treatment == 1 | marketing == 1), q(.1 .2 .3 .4 .5 .6 .7 .8 .9)"
   ]
  },
  {
   "cell_type": "markdown",
   "metadata": {},
   "source": [
    "#### 12 months"
   ]
  },
  {
   "cell_type": "code",
   "execution_count": 8,
   "metadata": {
    "scrolled": false
   },
   "outputs": [
    {
     "name": "stdout",
     "output_type": "stream",
     "text": [
      "\n",
      "file AKY06\\seedanalysis_011204_080404_v11.dta not found\n",
      "r(601);\n",
      "(fitting base model)\n",
      "\n",
      "Bootstrap replications (20)\n",
      "----+--- 1 ---+--- 2 ---+--- 3 ---+--- 4 ---+--- 5 \n",
      "....x..x...x.....xx.....xx.\n",
      "\n",
      "Simultaneous quantile regression                    Number of obs =      1,777\n",
      "  bootstrap(20) SEs                                 .10 Pseudo R2 =     0.0089\n",
      "                                                    .20 Pseudo R2 =     0.0004\n",
      "                                                    .30 Pseudo R2 =     0.0029\n",
      "                                                    .40 Pseudo R2 =     0.0011\n",
      "                                                    .50 Pseudo R2 =     0.0012\n",
      "                                                    .60 Pseudo R2 =     0.0006\n",
      "                                                    .70 Pseudo R2 =     0.0002\n",
      "                                                    .80 Pseudo R2 =     0.0015\n",
      "                                                    .90 Pseudo R2 =     0.0051\n",
      "\n",
      "------------------------------------------------------------------------------\n",
      "             |              Bootstrap\n",
      "   balchange |      Coef.   Std. Err.      t    P>|t|     [95% Conf. Interval]\n",
      "-------------+----------------------------------------------------------------\n",
      "q10          |\n",
      "   treatment |     317.49   81.95606     3.87   0.000     156.7494    478.2306\n",
      "   marketing |     327.15   75.29605     4.34   0.000     179.4717    474.8283\n",
      "       _cons |    -828.09   79.19658   -10.46   0.000    -983.4184   -672.7616\n",
      "-------------+----------------------------------------------------------------\n",
      "q20          |\n",
      "   treatment |         20   35.28501     0.57   0.571    -49.20457    89.20457\n",
      "   marketing |         20   38.20277     0.52   0.601    -54.92716    94.92716\n",
      "       _cons |       -300   35.68941    -8.41   0.000    -369.9977   -230.0023\n",
      "-------------+----------------------------------------------------------------\n",
      "q30          |\n",
      "   treatment |     107.03   18.42875     5.81   0.000     70.88564    143.1743\n",
      "   marketing |      100.9   19.00898     5.31   0.000     63.61764    138.1823\n",
      "       _cons |    -276.99   15.21966   -18.20   0.000    -306.8403   -247.1396\n",
      "-------------+----------------------------------------------------------------\n",
      "q40          |\n",
      "   treatment |   42.50999   9.363725     4.54   0.000      24.1449    60.87509\n",
      "   marketing |   29.60999   11.60699     2.55   0.011     6.845176    52.37481\n",
      "       _cons |    -148.98   9.653964   -15.43   0.000    -167.9143   -130.0457\n",
      "-------------+----------------------------------------------------------------\n",
      "q50          |\n",
      "   treatment |         62   15.82094     3.92   0.000     30.97037    93.02963\n",
      "   marketing |      21.58    20.5556     1.05   0.294    -18.73574    61.89574\n",
      "       _cons |     -98.22    15.6571    -6.27   0.000    -128.9283   -67.51171\n",
      "-------------+----------------------------------------------------------------\n",
      "q60          |\n",
      "   treatment |      37.62   13.34395     2.82   0.005     11.44848    63.79152\n",
      "   marketing |      22.59   19.36071     1.17   0.243    -15.38219    60.56219\n",
      "       _cons |     -37.62   13.34395    -2.82   0.005    -63.79152   -11.44848\n",
      "-------------+----------------------------------------------------------------\n",
      "q70          |\n",
      "   treatment |       6.55    3.06789     2.14   0.033     .5329406    12.56706\n",
      "   marketing |   2.92e-13   1.276839     0.00   1.000    -2.504266    2.504266\n",
      "       _cons |  -2.97e-13   1.10e-13    -2.69   0.007    -5.14e-13   -8.06e-14\n",
      "-------------+----------------------------------------------------------------\n",
      "q80          |\n",
      "   treatment |      65.79   20.26571     3.25   0.001     26.04281    105.5372\n",
      "   marketing |       4.02   6.550422     0.61   0.539    -8.827356    16.86736\n",
      "       _cons |       6.85    3.14329     2.18   0.029     .6850583    13.01494\n",
      "-------------+----------------------------------------------------------------\n",
      "q90          |\n",
      "   treatment |     437.23    99.8697     4.38   0.000     241.3553    633.1047\n",
      "   marketing |     265.06   211.3404     1.25   0.210    -149.4423    679.5623\n",
      "       _cons |      107.4   56.54647     1.90   0.058    -3.504705    218.3047\n",
      "------------------------------------------------------------------------------\n",
      "(fitting base model)\n",
      "\n",
      "Bootstrap replications (20)\n",
      "----+--- 1 ---+--- 2 ---+--- 3 ---+--- 4 ---+--- 5 \n",
      "xxxxxxx.xx.xxxxxxxxx.xxxx.xxxxxxxxxxx.xxxxxx..xxxxxxxxxxxx.xxx.xxxxxxxxx.xxxxxxxx..xxxx.xxx.xxxxxxxxxxx.xx.xxx.xxxx.xxx.xxx.\n",
      "\n",
      "Simultaneous quantile regression                    Number of obs =      1,308\n",
      "  bootstrap(20) SEs                                 .10 Pseudo R2 =     0.0001\n",
      "                                                    .20 Pseudo R2 =    -0.0000\n",
      "                                                    .30 Pseudo R2 =     0.0000\n",
      "                                                    .40 Pseudo R2 =     0.0003\n",
      "                                                    .50 Pseudo R2 =     0.0006\n",
      "                                                    .60 Pseudo R2 =     0.0001\n",
      "                                                    .70 Pseudo R2 =     0.0001\n",
      "                                                    .80 Pseudo R2 =     0.0012\n",
      "                                                    .90 Pseudo R2 =     0.0006\n",
      "\n",
      "------------------------------------------------------------------------------\n",
      "             |              Bootstrap\n",
      "   balchange |      Coef.   Std. Err.      t    P>|t|     [95% Conf. Interval]\n",
      "-------------+----------------------------------------------------------------\n",
      "q10          |\n",
      "   treatment |  -9.660004   64.97214    -0.15   0.882    -137.1212    117.8012\n",
      "       _cons |    -500.94   54.30732    -9.22   0.000    -607.4791   -394.4009\n",
      "-------------+----------------------------------------------------------------\n",
      "q20          |\n",
      "   treatment |          0   22.41162     0.00   1.000    -43.96671    43.96671\n",
      "       _cons |       -280   4.786988   -58.49   0.000     -289.391    -270.609\n",
      "-------------+----------------------------------------------------------------\n",
      "q30          |\n",
      "   treatment |    6.12999   33.11795     0.19   0.853    -58.84021    71.10019\n",
      "       _cons |    -176.09   21.44269    -8.21   0.000    -218.1559   -134.0241\n",
      "-------------+----------------------------------------------------------------\n",
      "q40          |\n",
      "   treatment |       12.9   12.24727     1.05   0.292    -11.12647    36.92648\n",
      "       _cons |    -119.37   8.031628   -14.86   0.000    -135.1263   -103.6137\n",
      "-------------+----------------------------------------------------------------\n",
      "q50          |\n",
      "   treatment |      40.42   15.55394     2.60   0.009     9.906553    70.93344\n",
      "       _cons |     -76.64   10.85084    -7.06   0.000    -97.92698   -55.35301\n",
      "-------------+----------------------------------------------------------------\n",
      "q60          |\n",
      "   treatment |      15.03   12.87917     1.17   0.243    -10.23613    40.29613\n",
      "       _cons |     -15.03   12.87917    -1.17   0.243    -40.29613    10.23613\n",
      "-------------+----------------------------------------------------------------\n",
      "q70          |\n",
      "   treatment |       6.55   2.234516     2.93   0.003     2.166367    10.93363\n",
      "       _cons |   1.04e-13   .2258429     0.00   1.000    -.4430545    .4430545\n",
      "-------------+----------------------------------------------------------------\n",
      "q80          |\n",
      "   treatment |      61.77   22.97972     2.69   0.007     16.68879    106.8512\n",
      "       _cons |      10.87   8.091951     1.34   0.179    -5.004645    26.74464\n",
      "-------------+----------------------------------------------------------------\n",
      "q90          |\n",
      "   treatment |     172.17   245.2228     0.70   0.483    -308.9036    653.2436\n",
      "       _cons |     372.46   225.9348     1.65   0.099    -70.77494    815.6949\n"
     ]
    }
   ],
   "source": [
    "%%stata\n",
    "use AKY06\\seedanalysis_011204_080404_v11.dta, clear\n",
    "sqreg balchange treatment marketing, q(.1 .2 .3 .4 .5 .6 .7 .8 .9)\n",
    "sqreg balchange treatment if (treatment == 1 | marketing == 1), q(.1 .2 .3 .4 .5 .6 .7 .8 .9)"
   ]
  },
  {
   "cell_type": "markdown",
   "metadata": {},
   "source": [
    "## Table VIII: ITT effect of subgroups\n",
    "### 12 months"
   ]
  },
  {
   "cell_type": "code",
   "execution_count": 9,
   "metadata": {
    "scrolled": false
   },
   "outputs": [
    {
     "name": "stdout",
     "output_type": "stream",
     "text": [
      "\n",
      "Linear regression                               Number of obs     =      1,777\n",
      "                                                F(4, 1772)        =       1.98\n",
      "                                                Prob > F          =     0.0948\n",
      "                                                R-squared         =     0.0022\n",
      "                                                Root MSE          =     4529.2\n",
      "\n",
      "------------------------------------------------------------------------------\n",
      "             |               Robust\n",
      "   balchange |      Coef.   Std. Err.      t    P>|t|     [95% Conf. Interval]\n",
      "-------------+----------------------------------------------------------------\n",
      "   treatment |   680.2893     420.26     1.62   0.106     -143.968    1504.547\n",
      "   marketing |   137.2044   150.0914     0.91   0.361    -157.1704    431.5792\n",
      "      female |   192.9631   135.0963     1.43   0.153    -72.00175    457.9279\n",
      "female_treat |  -443.4216    483.559    -0.92   0.359    -1391.828    504.9845\n",
      "       _cons |  -53.72176   93.64086    -0.57   0.566    -237.3799    129.9364\n",
      "------------------------------------------------------------------------------\n",
      "\n",
      "Linear regression                               Number of obs     =      1,777\n",
      "                                                F(4, 1772)        =       8.72\n",
      "                                                Prob > F          =     0.0000\n",
      "                                                R-squared         =     0.0040\n",
      "                                                Root MSE          =     4524.9\n",
      "\n",
      "------------------------------------------------------------------------------\n",
      "             |               Robust\n",
      "   balchange |      Coef.   Std. Err.      t    P>|t|     [95% Conf. Interval]\n",
      "-------------+----------------------------------------------------------------\n",
      "   treatment |   676.3477   327.5403     2.06   0.039     33.94163    1318.754\n",
      "   marketing |   122.4113   152.3797     0.80   0.422    -176.4515    421.2741\n",
      "      active |   637.8621   204.6197     3.12   0.002     236.5407    1039.183\n",
      "active_treat |  -738.1954   393.8328    -1.87   0.061    -1510.621    34.23035\n",
      "       _cons |   -164.665   81.52621    -2.02   0.044    -324.5626   -4.767302\n",
      "------------------------------------------------------------------------------\n",
      "\n",
      "Linear regression                               Number of obs     =      1,777\n",
      "                                                F(4, 1772)        =       1.57\n",
      "                                                Prob > F          =     0.1785\n",
      "                                                R-squared         =     0.0018\n",
      "                                                Root MSE          =       4530\n",
      "\n",
      "------------------------------------------------------------------------------\n",
      "             |               Robust\n",
      "   balchange |      Coef.   Std. Err.      t    P>|t|     [95% Conf. Interval]\n",
      "-------------+----------------------------------------------------------------\n",
      "   treatment |   247.7803   362.0502     0.68   0.494    -462.3101    957.8708\n",
      "   marketing |   122.8684   154.1362     0.80   0.425    -179.4395    425.1764\n",
      "        edhi |  -145.0309   166.6162    -0.87   0.384    -471.8158     181.754\n",
      "  edhi_treat |   279.7698   448.2779     0.62   0.533    -599.4393    1158.979\n",
      "       _cons |   148.0578   200.4277     0.74   0.460    -245.0418    541.1574\n",
      "------------------------------------------------------------------------------\n",
      "\n",
      "Linear regression                               Number of obs     =      1,777\n",
      "                                                F(4, 1772)        =       2.05\n",
      "                                                Prob > F          =     0.0849\n",
      "                                                R-squared         =     0.0019\n",
      "                                                Root MSE          =     4529.9\n",
      "\n",
      "---------------------------------------------------------------------------------\n",
      "                |               Robust\n",
      "      balchange |      Coef.   Std. Err.      t    P>|t|     [95% Conf. Interval]\n",
      "----------------+----------------------------------------------------------------\n",
      "      treatment |   464.2607   271.0703     1.71   0.087    -67.39051     995.912\n",
      "      marketing |   131.9819   150.2833     0.88   0.380    -162.7692     426.733\n",
      "      hi_hh_inc |   193.5094    153.943     1.26   0.209    -108.4197    495.4384\n",
      "hi_hh_inc_treat |  -106.6214   444.0923    -0.24   0.810    -977.6211    764.3784\n",
      "          _cons |  -32.60318   84.76645    -0.38   0.701    -198.8559    133.6496\n",
      "---------------------------------------------------------------------------------\n",
      "\n",
      "Linear regression                               Number of obs     =      1,774\n",
      "                                                F(4, 1769)        =       0.89\n",
      "                                                Prob > F          =     0.4683\n",
      "                                                R-squared         =     0.0018\n",
      "                                                Root MSE          =     4533.8\n",
      "\n",
      "--------------------------------------------------------------------------------------\n",
      "                     |               Robust\n",
      "           balchange |      Coef.   Std. Err.      t    P>|t|     [95% Conf. Interval]\n",
      "---------------------+----------------------------------------------------------------\n",
      "           treatment |   344.6337     290.47     1.19   0.236    -225.0667    914.3342\n",
      "           marketing |    126.032   153.4896     0.82   0.412     -175.008     427.072\n",
      "      hyper_mon_new2 |  -28.40704   132.3356    -0.21   0.830    -287.9576    231.1436\n",
      "hyper_mon_new2_treat |   243.8663   470.7961     0.52   0.605    -679.5089    1167.242\n",
      "               _cons |   72.63304   142.1695     0.51   0.609    -206.2049     351.471\n",
      "--------------------------------------------------------------------------------------\n",
      "\n",
      "Linear regression                               Number of obs     =      1,774\n",
      "                                                F(4, 1769)        =       2.09\n",
      "                                                Prob > F          =     0.0800\n",
      "                                                R-squared         =     0.0023\n",
      "                                                Root MSE          =     4532.8\n",
      "\n",
      "--------------------------------------------------------------------------------------\n",
      "                     |               Robust\n",
      "           balchange |      Coef.   Std. Err.      t    P>|t|     [95% Conf. Interval]\n",
      "---------------------+----------------------------------------------------------------\n",
      "           treatment |   516.7935    261.952     1.97   0.049     3.025574    1030.561\n",
      "           marketing |    127.571   151.9509     0.84   0.401    -170.4513    425.5932\n",
      "      silly_mon_new2 |   284.8332   353.4208     0.81   0.420    -408.3331    977.9995\n",
      "silly_mon_new2_treat |  -633.5807   448.5194    -1.41   0.158    -1513.264     246.103\n",
      "               _cons |   15.99006   80.69286     0.20   0.843    -142.2733    174.2534\n"
     ]
    }
   ],
   "source": [
    "%%stata\n",
    "xi: reg balchange treatment marketing female female_treat, robust \n",
    "xi: reg balchange treatment marketing active active_treat, robust\n",
    "xi: reg balchange treatment marketing edhi edhi_treat, robust\n",
    "xi: reg balchange treatment marketing hi_hh_inc hi_hh_inc_treat, robust\n",
    "xi: reg balchange treatment marketing hyper_mon_new2 hyper_mon_new2_treat, robust\n",
    "xi: reg balchange treatment marketing silly_mon_new2 silly_mon_new2_treat, robust"
   ]
  },
  {
   "cell_type": "markdown",
   "metadata": {},
   "source": [
    "There is a lot more to the impact results in the original do file.... but for now the analysis here turns to the takeup questions:\n"
   ]
  },
  {
   "cell_type": "markdown",
   "metadata": {},
   "source": [
    "## TAKEUP"
   ]
  },
  {
   "cell_type": "code",
   "execution_count": 15,
   "metadata": {},
   "outputs": [
    {
     "name": "stdout",
     "output_type": "stream",
     "text": [
      "\n",
      "(2344 missing values generated)\n",
      "(2344 real changes made)\n",
      "(2839 real changes made)\n",
      "(2193 real changes made)\n",
      "(762 missing values generated)\n",
      "(762 real changes made)\n",
      "pop: characters , removed; replaced as int\n"
     ]
    }
   ],
   "source": [
    "%%stata\n",
    "\n",
    "use AKY06\\seedanalysis_011204_080404_1_v11.dta, clear\n",
    "gen control = 1 if group == \"C\"\n",
    "replace control = 0 if control ==.\n",
    "macro define GB \"GBloan GBloandefault\"\n",
    "macro define fullset \"married edhi numhh unemployed age $GB hh_inc hh_inc2\"\n",
    "macro define fullset_noGB \"married edhi numhh unemployed age hh_inc hh_inc2\"\n",
    "\n",
    "gen dormant_new = 1- active\n",
    "drop dormant\n",
    "rename dormant_new dormant\n",
    "replace totbal = totbal/100\n",
    "replace newtotbal = newtotbal/100\n",
    "gen dist_GB = dbutuan if butuan ==1\n",
    "replace dist_GB = dampayon if ampayon == 1\n",
    "destring pop, ignore(\",\") replace\n",
    "gen brgy_penetration = no_clients /pop\n",
    "bysort brgy: egen sd_totbal = sd(totbal)\n",
    "bysort brgy: egen mean_totbal = mean(totbal)"
   ]
  },
  {
   "cell_type": "code",
   "execution_count": 7,
   "metadata": {},
   "outputs": [
    {
     "name": "stdout",
     "output_type": "stream",
     "text": [
      "\n",
      "            |  Summary of Client savings balance\n",
      "     Active |             (hundreds)\n",
      "    account |        Mean   Std. Dev.       Freq.\n",
      "------------+------------------------------------\n",
      "          0 |   483.12239   498.52538        1145\n",
      "          1 |    556.2335    513.2936         632\n",
      "------------+------------------------------------\n",
      "      Total |   509.12477   504.89831        1777\n"
     ]
    }
   ],
   "source": [
    "%%stata\n",
    "tab active if call==1,summ(totbal)"
   ]
  },
  {
   "cell_type": "markdown",
   "metadata": {},
   "source": [
    "## Table 1: Savings Goals"
   ]
  },
  {
   "cell_type": "code",
   "execution_count": 8,
   "metadata": {},
   "outputs": [
    {
     "name": "stdout",
     "output_type": "stream",
     "text": [
      "\n",
      "                    Savings goal |      Freq.     Percent        Cum.\n",
      "---------------------------------+-----------------------------------\n",
      "Agricultural Financing/Investing |          4        2.04        2.04\n",
      "            Capital for Business |         20       10.20       12.24\n",
      "Christmas/Birthday/Celebration/G |         95       48.47       60.71\n",
      "                       Education |         41       20.92       81.63\n",
      "House/Lot construction and purch |         20       10.20       91.84\n",
      "                         Medical |          1        0.51       92.35\n",
      "  Personal Needs/Future Expenses |          3        1.53       93.88\n",
      "Purchase or Maintenance of Machi |          8        4.08       97.96\n",
      "                 Vacation/Travel |          4        2.04      100.00\n",
      "---------------------------------+-----------------------------------\n",
      "                           Total |        196      100.00\n",
      "\n",
      "    Type of |\n",
      "    savings |\n",
      "       goal |      Freq.     Percent        Cum.\n",
      "------------+-----------------------------------\n",
      "     amount |         62       30.69       30.69\n",
      "       date |        140       69.31      100.00\n",
      "------------+-----------------------------------\n",
      "      Total |        202      100.00\n",
      "\n",
      "     Bought |\n",
      "  ganansiya |\n",
      "        box |      Freq.     Percent        Cum.\n",
      "------------+-----------------------------------\n",
      "          0 |         35       17.33       17.33\n",
      "          1 |        167       82.67      100.00\n",
      "------------+-----------------------------------\n",
      "      Total |        202      100.00\n"
     ]
    }
   ],
   "source": [
    "%%stata\n",
    "tab goal_category if seedtakeup==1\n",
    "tab goal_type if seedtakeup==1\n",
    "tab box if seedtakeup==1"
   ]
  },
  {
   "cell_type": "markdown",
   "metadata": {},
   "source": [
    "## Table II: Summary Statistics"
   ]
  },
  {
   "cell_type": "code",
   "execution_count": 24,
   "metadata": {},
   "outputs": [
    {
     "name": "stdout",
     "output_type": "stream",
     "text": [
      "\n",
      "                 Result of call |      Freq.     Percent        Cum.\n",
      "--------------------------------+-----------------------------------\n",
      "                      completed |      1,777      100.00      100.00\n",
      "--------------------------------+-----------------------------------\n",
      "                          Total |      1,777      100.00\n"
     ]
    }
   ],
   "source": [
    "%%stata\n",
    "tab call"
   ]
  },
  {
   "cell_type": "markdown",
   "metadata": {},
   "source": [
    "### Panel A"
   ]
  },
  {
   "cell_type": "code",
   "execution_count": 22,
   "metadata": {
    "scrolled": false
   },
   "outputs": [
    {
     "name": "stdout",
     "output_type": "stream",
     "text": [
      "\n",
      "Summary statistics: mean, se(mean)\n",
      "  by categories of: group \n",
      "\n",
      " group |    totbal    active\n",
      "-------+--------------------\n",
      "     C |  530.7378  .3603412\n",
      "       |  23.38712  .0221926\n",
      "-------+--------------------\n",
      "     M |  499.0084  .3626609\n",
      "       |  23.50222  .0222951\n",
      "-------+--------------------\n",
      "     T |   502.685  .3491686\n",
      "       |  17.33115  .0164382\n",
      "-------+--------------------\n",
      " Total |  509.1248  .3556556\n",
      "       |  11.97734  .0113593\n",
      "----------------------------\n",
      "\n",
      "      Source |       SS           df       MS      Number of obs   =     1,777\n",
      "-------------+----------------------------------   F(2, 1774)      =      0.59\n",
      "       Model |  301690.551         2  150845.275   Prob > F        =    0.5536\n",
      "    Residual |   452440317     1,774  255039.638   R-squared       =    0.0007\n",
      "-------------+----------------------------------   Adj R-squared   =   -0.0005\n",
      "       Total |   452742008     1,776  254922.302   Root MSE        =    505.01\n",
      "\n",
      "------------------------------------------------------------------------------\n",
      "      totbal |      Coef.   Std. Err.      t    P>|t|     [95% Conf. Interval]\n",
      "-------------+----------------------------------------------------------------\n",
      "   treatment |   3.676564   29.15807     0.13   0.900    -53.51121    60.86434\n",
      "     control |   31.72941   33.03165     0.96   0.337    -33.05563    96.51446\n",
      "       _cons |   499.0084   23.39434    21.33   0.000      453.125    544.8918\n",
      "------------------------------------------------------------------------------\n",
      "\n",
      "      Source |       SS           df       MS      Number of obs   =     1,777\n",
      "-------------+----------------------------------   F(2, 1774)      =      0.15\n",
      "       Model |   .06859733         2  .034298665   Prob > F        =    0.8612\n",
      "    Residual |  407.157064     1,774  .229513565   R-squared       =    0.0002\n",
      "-------------+----------------------------------   Adj R-squared   =   -0.0010\n",
      "       Total |  407.225661     1,776  .229293728   Root MSE        =    .47908\n",
      "\n",
      "------------------------------------------------------------------------------\n",
      "      active |      Coef.   Std. Err.      t    P>|t|     [95% Conf. Interval]\n",
      "-------------+----------------------------------------------------------------\n",
      "   treatment |  -.0134923   .0276604    -0.49   0.626    -.0677428    .0407582\n",
      "     control |  -.0023198   .0313351    -0.07   0.941    -.0637773    .0591377\n",
      "       _cons |   .3626609   .0221928    16.34   0.000     .3191342    .4061876\n",
      "------------------------------------------------------------------------------\n",
      "\n",
      "Summary statistics: mean, se(mean)\n",
      "  by categories of: group \n",
      "\n",
      " group |   dist_GB  brgy_p~n  sd_tot~l  mean_t~l       pop\n",
      "-------+--------------------------------------------------\n",
      "     C |  21.86567  .0219365  487.1321  473.3466  5853.949\n",
      "       |  .8419475  .0004179  3.507831   3.74361  213.4831\n",
      "-------+--------------------------------------------------\n",
      "     M |  23.22961  .0216379  491.3003  476.9744  5708.208\n",
      "       |  .8874667  .0004076  3.449334  3.716019  203.4358\n",
      "-------+--------------------------------------------------\n",
      "     T |  22.70784  .0219269  488.0445  476.0261    5729.5\n",
      "       |  .6718419   .000292  2.442733  2.599624    152.98\n",
      "-------+--------------------------------------------------\n",
      " Total |   22.6224  .0218536  488.6575  475.5676  5756.762\n",
      "       |  .4525451  .0002066  1.735807  1.854791  106.1334\n",
      "----------------------------------------------------------\n",
      "\n",
      "      Source |       SS           df       MS      Number of obs   =     1,777\n",
      "-------------+----------------------------------   F(2, 1774)      =      0.61\n",
      "       Model |  446.531678         2  223.265839   Prob > F        =    0.5417\n",
      "    Residual |  645883.097     1,774  364.082918   R-squared       =    0.0007\n",
      "-------------+----------------------------------   Adj R-squared   =   -0.0004\n",
      "       Total |  646329.629     1,776   363.92434   Root MSE        =    19.081\n",
      "\n",
      "------------------------------------------------------------------------------\n",
      "     dist_GB |      Coef.   Std. Err.      t    P>|t|     [95% Conf. Interval]\n",
      "-------------+----------------------------------------------------------------\n",
      "   treatment |  -.5217753   1.101679    -0.47   0.636      -2.6825     1.63895\n",
      "     control |  -1.363942   1.248034    -1.09   0.275    -3.811715    1.083831\n",
      "       _cons |   23.22961   .8839083    26.28   0.000       21.496    24.96322\n",
      "------------------------------------------------------------------------------\n",
      "\n",
      "      Source |       SS           df       MS      Number of obs   =     1,777\n",
      "-------------+----------------------------------   F(2, 1774)      =      0.19\n",
      "       Model |   .00002944         2   .00001472   Prob > F        =    0.8238\n",
      "    Residual |  .134701232     1,774  .000075931   R-squared       =    0.0002\n",
      "-------------+----------------------------------   Adj R-squared   =   -0.0009\n",
      "       Total |  .134730672     1,776  .000075862   Root MSE        =    .00871\n",
      "\n",
      "------------------------------------------------------------------------------\n",
      "brgy_penet~n |      Coef.   Std. Err.      t    P>|t|     [95% Conf. Interval]\n",
      "-------------+----------------------------------------------------------------\n",
      "   treatment |    .000289   .0005031     0.57   0.566    -.0006977    .0012758\n",
      "     control |   .0002987   .0005699     0.52   0.600    -.0008192    .0014165\n",
      "       _cons |   .0216379   .0004037    53.60   0.000     .0208462    .0224296\n",
      "------------------------------------------------------------------------------\n",
      "\n",
      "      Source |       SS           df       MS      Number of obs   =     1,777\n",
      "-------------+----------------------------------   F(2, 1774)      =      0.44\n",
      "       Model |  4662.35264         2  2331.17632   Prob > F        =    0.6473\n",
      "    Residual |  9504305.63     1,774  5357.55672   R-squared       =    0.0005\n",
      "-------------+----------------------------------   Adj R-squared   =   -0.0006\n",
      "       Total |  9508967.98     1,776  5354.14864   Root MSE        =    73.195\n",
      "\n",
      "------------------------------------------------------------------------------\n",
      "   sd_totbal |      Coef.   Std. Err.      t    P>|t|     [95% Conf. Interval]\n",
      "-------------+----------------------------------------------------------------\n",
      "   treatment |  -3.255741   4.226085    -0.77   0.441    -11.54437    5.032889\n",
      "     control |  -4.168199   4.787511    -0.87   0.384    -13.55796    5.221557\n",
      "       _cons |   491.3003   3.390708   144.90   0.000     484.6501    497.9505\n",
      "------------------------------------------------------------------------------\n",
      "\n",
      "      Source |       SS           df       MS      Number of obs   =     1,777\n",
      "-------------+----------------------------------   F(2, 1774)      =      0.28\n",
      "       Model |  3412.62158         2  1706.31079   Prob > F        =    0.7567\n",
      "    Residual |  10853846.7     1,774  6118.29015   R-squared       =    0.0003\n",
      "-------------+----------------------------------   Adj R-squared   =   -0.0008\n",
      "       Total |  10857259.4     1,776  6113.32171   Root MSE        =    78.219\n",
      "\n",
      "------------------------------------------------------------------------------\n",
      " mean_totbal |      Coef.   Std. Err.      t    P>|t|     [95% Conf. Interval]\n",
      "-------------+----------------------------------------------------------------\n",
      "   treatment |  -.9482933   4.516166    -0.21   0.834    -9.805859    7.909273\n",
      "     control |  -3.627729   5.116129    -0.71   0.478      -13.662    6.406545\n",
      "       _cons |   476.9744   3.623448   131.64   0.000     469.8677     484.081\n",
      "------------------------------------------------------------------------------\n",
      "\n",
      "      Source |       SS           df       MS      Number of obs   =     1,777\n",
      "-------------+----------------------------------   F(2, 1774)      =      0.15\n",
      "       Model |  6154208.23         2  3077104.11   Prob > F        =    0.8576\n",
      "    Residual |  3.5543e+10     1,774  20035747.1   R-squared       =    0.0002\n",
      "-------------+----------------------------------   Adj R-squared   =   -0.0010\n",
      "       Total |  3.5550e+10     1,776  20016649.5   Root MSE        =    4476.1\n",
      "\n",
      "------------------------------------------------------------------------------\n",
      "         pop |      Coef.   Std. Err.      t    P>|t|     [95% Conf. Interval]\n",
      "-------------+----------------------------------------------------------------\n",
      "   treatment |   21.29185   258.4388     0.08   0.934    -485.5846    528.1683\n",
      "     control |   145.7407   292.7718     0.50   0.619    -428.4732    719.9546\n",
      "       _cons |   5708.208   207.3528    27.53   0.000     5301.527     6114.89\n"
     ]
    }
   ],
   "source": [
    "%%stata\n",
    "tabstat totbal active if call==1, by(group) stats(mean sem)\n",
    "reg totbal treatment control if call ==1\n",
    "reg active treatment control if call ==1\n",
    "sort brgy\n",
    "tabstat dist_GB brgy_penetration sd_totbal mean_totbal pop if call==1, by(group) stats(mean sem)\n",
    "reg dist_GB treatment control if call ==1\n",
    "reg brgy_penetration treatment control if call ==1\n",
    "reg sd_totbal treatment control if call ==1\n",
    "reg mean_totbal treatment control if call ==1\n",
    "reg pop treatment control if call ==1"
   ]
  },
  {
   "cell_type": "markdown",
   "metadata": {},
   "source": [
    "### Panel B"
   ]
  },
  {
   "cell_type": "code",
   "execution_count": 17,
   "metadata": {},
   "outputs": [
    {
     "name": "stdout",
     "output_type": "stream",
     "text": [
      "\n",
      "Summary statistics: mean, se(mean)\n",
      "  by categories of: group \n",
      "\n",
      " group |   yearsed    female       age  impa~n01  h~n_new2\n",
      "-------+--------------------------------------------------\n",
      "     C |  18.19403  .6162047  42.05117  .8081023  .2622601\n",
      "       |  .1373271  .0224796  .5943071  .0393999  .0203327\n",
      "-------+--------------------------------------------------\n",
      "     M |  17.91845  .5472103  42.87124  .8903226  .2758621\n",
      "       |   .144761  .0230834   .658222  .0409272  .0207714\n",
      "-------+--------------------------------------------------\n",
      "     T |  18.22209  .5985748  42.10808  .8690476  .2782402\n",
      "       |  .1052178   .016903  .4578191  .0296984   .015462\n",
      "-------+--------------------------------------------------\n",
      " Total |  18.13506   .589758  42.29319  .8585118  .2733935\n",
      "       |   .072415  .0116717   .318447  .0205285   .010585\n",
      "----------------------------------------------------------\n",
      "\n",
      "      Source |       SS       df       MS              Number of obs =    1777\n",
      "-------------+------------------------------           F(  2,  1774) =    1.60\n",
      "       Model |  29.8721265     2  14.9360633           Prob > F      =  0.2014\n",
      "    Residual |  16519.7137  1774  9.31212722           R-squared     =  0.0018\n",
      "-------------+------------------------------           Adj R-squared =  0.0007\n",
      "       Total |  16549.5858  1776  9.31846048           Root MSE      =  3.0516\n",
      "\n",
      "------------------------------------------------------------------------------\n",
      "     yearsed |      Coef.   Std. Err.      t    P>|t|     [95% Conf. Interval]\n",
      "-------------+----------------------------------------------------------------\n",
      "   treatment |   .3036353   .1761892     1.72   0.085     -.041925    .6491956\n",
      "     control |   .2755749   .1995956     1.38   0.168    -.1158923    .6670421\n",
      "       _cons |   17.91845   .1413616   126.76   0.000      17.6412    18.19571\n",
      "------------------------------------------------------------------------------\n",
      "\n",
      "      Source |       SS       df       MS              Number of obs =    1777\n",
      "-------------+------------------------------           F(  2,  1774) =    2.56\n",
      "       Model |  1.23708842     2  .618544211           Prob > F      =  0.0776\n",
      "    Residual |  428.696508  1774  .241655303           R-squared     =  0.0029\n",
      "-------------+------------------------------           Adj R-squared =  0.0018\n",
      "       Total |  429.933596  1776  .242079727           Root MSE      =  .49158\n",
      "\n",
      "------------------------------------------------------------------------------\n",
      "      female |      Coef.   Std. Err.      t    P>|t|     [95% Conf. Interval]\n",
      "-------------+----------------------------------------------------------------\n",
      "   treatment |   .0513645   .0283827     1.81   0.071    -.0043024    .1070315\n",
      "     control |   .0689944   .0321532     2.15   0.032     .0059322    .1320566\n",
      "       _cons |   .5472103   .0227722    24.03   0.000     .5025471    .5918735\n",
      "------------------------------------------------------------------------------\n",
      "\n",
      "      Source |       SS       df       MS              Number of obs =    1777\n",
      "-------------+------------------------------           F(  2,  1774) =    0.59\n",
      "       Model |  212.035992     2  106.017996           Prob > F      =  0.5555\n",
      "    Residual |  319828.212  1774  180.286478           R-squared     =  0.0007\n",
      "-------------+------------------------------           Adj R-squared = -0.0005\n",
      "       Total |  320040.248  1776  180.202842           Root MSE      =  13.427\n",
      "\n",
      "------------------------------------------------------------------------------\n",
      "         age |      Coef.   Std. Err.      t    P>|t|     [95% Conf. Interval]\n",
      "-------------+----------------------------------------------------------------\n",
      "   treatment |  -.7631686   .7752405    -0.98   0.325    -2.283649    .7573122\n",
      "     control |  -.8200719   .8782295    -0.93   0.351    -2.542545    .9024014\n",
      "       _cons |   42.87124   .6219975    68.93   0.000     41.65132    44.09117\n",
      "------------------------------------------------------------------------------\n",
      "\n",
      "      Source |       SS       df       MS              Number of obs =    1774\n",
      "-------------+------------------------------           F(  2,  1771) =    1.17\n",
      "       Model |  1.75557046     2  .877785228           Prob > F      =  0.3093\n",
      "    Residual |   1323.7309  1771  .747448278           R-squared     =  0.0013\n",
      "-------------+------------------------------           Adj R-squared =  0.0002\n",
      "       Total |  1325.48647  1773  .747595302           Root MSE      =  .86455\n",
      "\n",
      "------------------------------------------------------------------------------\n",
      "impatien~n01 |      Coef.   Std. Err.      t    P>|t|     [95% Conf. Interval]\n",
      "-------------+----------------------------------------------------------------\n",
      "   treatment |   -.021275   .0499723    -0.43   0.670    -.1192859     .076736\n",
      "     control |  -.0822202   .0565785    -1.45   0.146    -.1931878    .0287473\n",
      "       _cons |   .8903226   .0400926    22.21   0.000     .8116888    .9689564\n",
      "------------------------------------------------------------------------------\n",
      "\n",
      "      Source |       SS       df       MS              Number of obs =    1774\n",
      "-------------+------------------------------           F(  2,  1771) =    0.20\n",
      "       Model |  .080716446     2  .040358223           Prob > F      =  0.8164\n",
      "    Residual |  352.323455  1771  .198940404           R-squared     =  0.0002\n",
      "-------------+------------------------------           Adj R-squared = -0.0009\n",
      "       Total |  352.404171  1773  .198761518           Root MSE      =  .44603\n",
      "\n",
      "------------------------------------------------------------------------------\n",
      "hyper_mon~w2 |      Coef.   Std. Err.      t    P>|t|     [95% Conf. Interval]\n",
      "-------------+----------------------------------------------------------------\n",
      "   treatment |   .0023781   .0257935     0.09   0.927    -.0482107     .052967\n",
      "     control |  -.0136019    .029205    -0.47   0.641    -.0708818    .0436779\n",
      "       _cons |   .2758621   .0207063    13.32   0.000     .2352507    .3164734\n"
     ]
    }
   ],
   "source": [
    "%%stata\n",
    "tabstat yearsed female age impatient_mon01 hyper_mon_new2 if call==1, by(group) stats(mean sem) \n",
    "reg yearsed treatment control if call ==1\n",
    "reg female treatment control if call ==1\n",
    "reg age treatment control if call ==1\n",
    "reg impatient_mon01 treatment control if call ==1\n",
    "reg hyper_mon_new2 treatment control if call ==1"
   ]
  },
  {
   "cell_type": "markdown",
   "metadata": {},
   "source": [
    "### Table III: Time preference questions"
   ]
  },
  {
   "cell_type": "markdown",
   "metadata": {},
   "source": [
    "0 = patient, 1 = somewhat impatient, 2=most impatient"
   ]
  },
  {
   "cell_type": "code",
   "execution_count": 23,
   "metadata": {},
   "outputs": [
    {
     "name": "stdout",
     "output_type": "stream",
     "text": [
      "\n",
      " Impatient |\n",
      " Now w/r/t |   Impatient Later w/r/t money\n",
      "     money |         0          1          2 |     Total\n",
      "-----------+---------------------------------+----------\n",
      "         0 |       606        126         73 |       805 \n",
      "         1 |       206        146         59 |       411 \n",
      "         2 |       154         93        299 |       546 \n",
      "-----------+---------------------------------+----------\n",
      "     Total |       966        365        431 |     1,762 \n"
     ]
    }
   ],
   "source": [
    "%%stata\n",
    "tab impatient_mon01 impatient_mon67 if call==1"
   ]
  },
  {
   "cell_type": "markdown",
   "metadata": {},
   "source": [
    "### Table V: Determinants of Takeup"
   ]
  },
  {
   "cell_type": "code",
   "execution_count": 24,
   "metadata": {},
   "outputs": [
    {
     "name": "stdout",
     "output_type": "stream",
     "text": [
      "\n",
      "(1379 missing values generated)\n"
     ]
    }
   ],
   "source": [
    "%%stata\n",
    "gen female_hyper_mon_new2 = female * hyper_mon_new2"
   ]
  },
  {
   "cell_type": "code",
   "execution_count": 27,
   "metadata": {},
   "outputs": [
    {
     "name": "stdout",
     "output_type": "stream",
     "text": [
      "\n",
      "> _50 fem_frac_veryown_inc_50_75 fem_frac_veryown_inc_75_100 frac_veryown_inc_0_25 frac_veryown_inc_25_50 frac_veryown_inc_50_75 frac_veryown_inc_75_100 active if group==\"T\" & call==1 & reached==1, rob\n",
      "> ust\n",
      "\n",
      "Iteration 0:   log pseudolikelihood = -425.65043\n",
      "Iteration 1:   log pseudolikelihood = -408.47662\n",
      "Iteration 2:   log pseudolikelihood = -407.69152\n",
      "Iteration 3:   log pseudolikelihood =   -407.141\n",
      "Iteration 4:   log pseudolikelihood = -407.06088\n",
      "Iteration 5:   log pseudolikelihood = -407.05886\n",
      "Iteration 6:   log pseudolikelihood = -407.05886\n",
      "\n",
      "Probit regression, reporting marginal effects           Number of obs =    715\n",
      "                                                        Wald chi2(25) =  35.68\n",
      "                                                        Prob > chi2   = 0.0767\n",
      "Log pseudolikelihood = -407.05886                       Pseudo R2     = 0.0437\n",
      "\n",
      "------------------------------------------------------------------------------\n",
      "         |               Robust\n",
      "seedta~p |      dF/dx   Std. Err.      z    P>|z|     x-bar  [    95% C.I.   ]\n",
      "---------+--------------------------------------------------------------------\n",
      "h~n_new2*|   .1248659   .0667069     1.94   0.053   .278322  -.005877  .255609\n",
      "  female*|    .098883   .1372349     0.70   0.482        .6  -.170093  .367858\n",
      "im~50_01*|  -.0300081   .0496469    -0.59   0.552   .241958  -.127314  .067298\n",
      "i~200_01*|   .0764479   .0718961     1.07   0.285   .444755  -.064466  .217362\n",
      "im~50_67*|   .0968518   .0646814     1.56   0.119   .206993  -.029922  .223625\n",
      "i~200_67*|   .0150482    .063883     0.24   0.814   .545455   -.11016  .140257\n",
      "fem_ma~d*|  -.1132497   .0905445    -1.22   0.222   .423776  -.290714  .064214\n",
      " married*|   .0489946   .0770504     0.62   0.536   .765035  -.102021  .200011\n",
      "    edhi*|   .0834128   .0383418     2.14   0.032    .59021   .008264  .158561\n",
      "   numhh |   .0001891   .0076993     0.02   0.980   5.58462  -.014901   .01528\n",
      "unempl~d*|   .0404135   .1091283     0.38   0.703   .033566  -.173474  .254301\n",
      "     age |  -.0019155   .0013788    -1.39   0.165   42.6531  -.004618  .000787\n",
      "  GBloan*|  -.0141822   .0363595    -0.39   0.697   .502098  -.085445  .057081\n",
      "GBloan~t*|  -.0317615    .072292    -0.43   0.670   .055944  -.173451  .109928\n",
      "  hh_inc |   .0486918   .0307147     1.56   0.118   1.55682  -.011508  .108892\n",
      " hh_inc2 |   -.007847    .004361    -1.76   0.078   5.82637  -.016394    .0007\n",
      "fem_f~25*|   .0153704   .1822196     0.09   0.932   .051748  -.341773  .372514\n",
      "fem~5_50*|   .0480785     .16932     0.29   0.770    .14965  -.283783   .37994\n",
      "fem_f~75*|   .1349672   .1818598     0.79   0.431   .114685  -.221472  .491406\n",
      "fe~5_100*|   .0182208   .1546866     0.12   0.905   .174825  -.284959  .321401\n",
      "frac_~25*|  -.0106804   .1540169    -0.07   0.945   .095105  -.312548  .291187\n",
      "fra~5_50*|  -.0472313   .1407564    -0.33   0.745   .218182  -.323109  .228646\n",
      "frac_~75*|  -.0340687   .1388783    -0.24   0.810   .202797  -.306265  .238128\n",
      "fr~5_100*|   .0247978    .142089     0.18   0.861   .355245  -.253692  .303287\n",
      "  active*|  -.0360562   .0341531    -1.04   0.296   .353846  -.102995  .030883\n",
      "---------+--------------------------------------------------------------------\n",
      "  obs. P |   .2825175\n",
      " pred. P |   .2647361  (at x-bar)\n",
      "------------------------------------------------------------------------------\n",
      "(*) dF/dx is for discrete change of dummy variable from 0 to 1\n",
      "    z and P>|z| correspond to the test of the underlying coefficient being 0\n"
     ]
    }
   ],
   "source": [
    "%%stata\n",
    "xi: dprobit seedtakeup hyper_mon_new2 female impatient_200p250_01 impatient_250p200_01 impatient_200p250_67 impatient_250p200_67 fem_married $fullset fem_frac_veryown_inc_0_25 fem_frac_veryown_inc_25_50 fem_frac_veryown_inc_50_75 fem_frac_veryown_inc_75_100 frac_veryown_inc_0_25 frac_veryown_inc_25_50 frac_veryown_inc_50_75 frac_veryown_inc_75_100 active if group==\"T\" & call==1 & reached==1, robust "
   ]
  },
  {
   "cell_type": "markdown",
   "metadata": {
    "collapsed": true
   },
   "source": [
    "## More Exploratory"
   ]
  },
  {
   "cell_type": "code",
   "execution_count": 29,
   "metadata": {},
   "outputs": [
    {
     "name": "stdout",
     "output_type": "stream",
     "text": [
      "\n",
      "  SEED take |\n",
      "         up |      Freq.     Percent        Cum.\n",
      "------------+-----------------------------------\n",
      "          0 |      1,575       88.63       88.63\n",
      "          1 |        202       11.37      100.00\n",
      "------------+-----------------------------------\n",
      "      Total |      1,777      100.00\n"
     ]
    }
   ],
   "source": [
    "%%stata\n",
    "tab seedtakeup if call==1"
   ]
  },
  {
   "cell_type": "code",
   "execution_count": null,
   "metadata": {
    "collapsed": true
   },
   "outputs": [],
   "source": [
    "%%stata\n",
    "tab impatient_mon01\n",
    "tab active impatient_mon01,row col"
   ]
  },
  {
   "cell_type": "code",
   "execution_count": 11,
   "metadata": {},
   "outputs": [
    {
     "name": "stdout",
     "output_type": "stream",
     "text": [
      "\n",
      " zerototbal |      Freq.     Percent        Cum.\n",
      "------------+-----------------------------------\n",
      "          0 |      1,623       91.33       91.33\n",
      "          1 |        154        8.67      100.00\n",
      "------------+-----------------------------------\n",
      "      Total |      1,777      100.00\n",
      "\n",
      "    Variable |       Obs        Mean    Std. Dev.       Min        Max\n",
      "-------------+--------------------------------------------------------\n",
      " howlongopen |       212    340.9764    48.90105         84        404\n",
      "(bin=14, start=84, width=22.857143)\n"
     ]
    },
    {
     "data": {
      "image/png": "[encoded data removed]",
      "text/plain": [
       "<IPython.core.display.Image object>"
      ]
     },
     "execution_count": 11,
     "metadata": {
      "image/png": {
       "height": 400,
       "width": 500
      }
     },
     "output_type": "execute_result"
    }
   ],
   "source": [
    "%%stata --graph\n",
    "tab zerototbal if call==1\n",
    "summ howlongopen\n",
    "hist howlongopen"
   ]
  },
  {
   "cell_type": "code",
   "execution_count": 12,
   "metadata": {},
   "outputs": [
    {
     "name": "stdout",
     "output_type": "stream",
     "text": [
      "\n",
      "     Active |     Summary of nonseedbalchange\n",
      "    account |        Mean   Std. Dev.       Freq.\n",
      "------------+------------------------------------\n",
      "          0 |   105.73035   4714.6168        1145\n",
      "          1 |   370.66207   2928.8638         632\n",
      "------------+------------------------------------\n",
      "      Total |    199.9548   4169.1327        1777\n",
      "\n",
      "                      nonseedbalchange\n",
      "-------------------------------------------------------------\n",
      "      Percentiles      Smallest\n",
      " 1%     -1506.14       -4541.77\n",
      " 5%      -947.57       -2168.88\n",
      "10%      -500.94        -2138.5       Obs                3152\n",
      "25%     -255.515       -2114.25       Sum of Wgt.        3152\n",
      "\n",
      "50%       -81.16                      Mean           133.8924\n",
      "                        Largest       Std. Dev.      3287.174\n",
      "75%            0       30921.14\n",
      "90%       115.06       52460.47       Variance       1.08e+07\n",
      "95%       870.87       100067.1       Skewness       24.70557\n",
      "99%      5866.63         114001       Kurtosis       757.9191\n",
      "\n",
      "    Active |     active_treat\n",
      "   account |         0          1 |     Total\n",
      "-----------+----------------------+----------\n",
      "         0 |     1,145          0 |     1,145 \n",
      "         1 |       338        294 |       632 \n",
      "-----------+----------------------+----------\n",
      "     Total |     1,483        294 |     1,777 \n"
     ]
    }
   ],
   "source": [
    "%%stata\n",
    "tab active if call==1,summ( nonseedbalchange)\n",
    "summ nonseedbalchange,detail\n",
    "tab active active_treat if call==1"
   ]
  },
  {
   "cell_type": "code",
   "execution_count": 13,
   "metadata": {},
   "outputs": [
    {
     "name": "stdout",
     "output_type": "stream",
     "text": [
      "\n",
      "(bin=32, start=-2168.8799, width=145.59624)\n",
      "  201\n",
      "\n",
      "savedathome |      Freq.     Percent        Cum.\n",
      "------------+-----------------------------------\n",
      "          0 |      1,426       80.25       80.25\n",
      "          1 |        351       19.75      100.00\n",
      "------------+-----------------------------------\n",
      "      Total |      1,777      100.00\n"
     ]
    },
    {
     "data": {
      "image/png": "[encoded data removed]",
      "text/plain": [
       "<IPython.core.display.Image object>"
      ]
     },
     "execution_count": 13,
     "metadata": {
      "image/png": {
       "height": 400,
       "width": 500
      }
     },
     "output_type": "execute_result"
    }
   ],
   "source": [
    "%%stata --graph\n",
    "hist balchange_total if balchange <2500\n",
    "count if balchange_total==0\n",
    "tab savedathome"
   ]
  },
  {
   "cell_type": "code",
   "execution_count": 14,
   "metadata": {},
   "outputs": [
    {
     "name": "stdout",
     "output_type": "stream",
     "text": [
      "\n",
      "     Active |      Summary of time_acct_tot\n",
      "    account |        Mean   Std. Dev.       Freq.\n",
      "------------+------------------------------------\n",
      "          0 |   19.213974   650.15954        1145\n",
      "          1 |   15.822785   397.77864         632\n",
      "------------+------------------------------------\n",
      "      Total |   18.007878     573.153        1777\n",
      "\n",
      "            |   Summary of total household debt\n",
      "            |  (amount owed on dwelling, loans,\n",
      "     Active |     agricultural assets and re\n",
      "    account |        Mean   Std. Dev.       Freq.\n",
      "------------+------------------------------------\n",
      "          0 |   18896.648    75069.07        2125\n",
      "          1 |   12595.804   48363.039        1028\n",
      "------------+------------------------------------\n",
      "      Total |   16842.329    67588.91        3153\n"
     ]
    }
   ],
   "source": [
    "%%stata\n",
    "tab active if call==1, summ(time_acct_tot)\n",
    "tab active,summ (housedebt)"
   ]
  },
  {
   "cell_type": "code",
   "execution_count": 32,
   "metadata": {},
   "outputs": [
    {
     "name": "stdout",
     "output_type": "stream",
     "text": [
      "\n",
      "    Active |     SEED take up\n",
      "   account |         0          1 |     Total\n",
      "-----------+----------------------+----------\n",
      "         0 |     1,009        136 |     1,145 \n",
      "         1 |       566         66 |       632 \n",
      "-----------+----------------------+----------\n",
      "     Total |     1,575        202 |     1,777 \n",
      "\n",
      "\n",
      "                Means, Standard Deviations and Frequencies\n",
      "                  of Change in total savings held at bank\n",
      "\n",
      "    Active |    SEED take up\n",
      "   account |         0          1 |     Total\n",
      "-----------+----------------------+----------\n",
      "         0 | 94.116509  908.01279 | 190.78891\n",
      "           | 4834.5791  7223.3173 | 5178.9086\n",
      "           |      1009        136 |      1145\n",
      "-----------+----------------------+----------\n",
      "         1 | 379.61849  1313.6483 | 477.15959\n",
      "           | 2968.6202  3238.7227 | 3008.8488\n",
      "           |       566         66 |       632\n",
      "-----------+----------------------+----------\n",
      "     Total | 196.71595  1040.5472 | 292.63824\n",
      "           | 4260.3395  6202.5993 | 4529.0155\n",
      "           |      1575        202 |      1777\n"
     ]
    }
   ],
   "source": [
    "%%stata\n",
    "tab active seedtakeup if call==1\n",
    "tab active seedtakeup if call==1,summ(balchange)"
   ]
  },
  {
   "cell_type": "code",
   "execution_count": 33,
   "metadata": {},
   "outputs": [
    {
     "name": "stdout",
     "output_type": "stream",
     "text": [
      "\n",
      "                Means, Standard Deviations and Frequencies\n",
      "                  of Change in total savings held at bank\n",
      "\n",
      "           |   Active account\n",
      "     group |         0          1 |     Total\n",
      "-----------+----------------------+----------\n",
      "         C | -81.54299  301.87018 | 43.575771\n",
      "           | 1244.8123  3496.8758 | 2248.5158\n",
      "           |       545        264 |       809\n",
      "-----------+----------------------+----------\n",
      "         M |-18.270314  478.89511 | 150.86844\n",
      "           | 1339.7333  2709.9326 |  1931.619\n",
      "           |       512        264 |       776\n",
      "-----------+----------------------+----------\n",
      "         T | 225.59401  386.63116 | 276.94514\n",
      "           | 5360.6638  1981.0306 | 4563.1934\n",
      "           |      1068        500 |      1568\n",
      "-----------+----------------------+----------\n",
      "     Total | 88.065447  388.55799 | 186.03764\n",
      "           | 3909.5162  2631.1481 | 3546.1206\n",
      "           |      2125       1028 |      3153\n"
     ]
    }
   ],
   "source": [
    "%%stata\n",
    "tab group active,summ(balchange)"
   ]
  },
  {
   "cell_type": "markdown",
   "metadata": {},
   "source": [
    "### Decile plots"
   ]
  },
  {
   "cell_type": "markdown",
   "metadata": {},
   "source": [
    "This isn't quite the Decile plots on page 661 but close"
   ]
  },
  {
   "cell_type": "code",
   "execution_count": 34,
   "metadata": {},
   "outputs": [
    {
     "name": "stdout",
     "output_type": "stream",
     "text": [
      "\n",
      "                Means, Standard Deviations and Frequencies\n",
      "                  of Change in total savings held at bank\n",
      "\n",
      "        10 |\n",
      " quantiles |\n",
      "        of |             group\n",
      "balchange  |         C          M          T |     Total\n",
      "-----------+---------------------------------+----------\n",
      "         1 |-1120.4232 -994.66139 -986.56178 |-1035.6207\n",
      "           | 449.23924  353.19363  346.42548 | 390.14235\n",
      "           |        63         43         73 |       179\n",
      "-----------+---------------------------------+----------\n",
      "         2 | -336.8518 -340.81136  -369.2864 |-352.69417\n",
      "           | 83.117129  82.913023  90.475814 | 87.534972\n",
      "           |        72         59        111 |       242\n",
      "-----------+---------------------------------+----------\n",
      "         3 |-240.94806    -232.93 -225.79961 |-231.92044\n",
      "           | 29.195496  31.587574  28.978035 | 30.185034\n",
      "           |        31         32         51 |       114\n",
      "-----------+---------------------------------+----------\n",
      "         4 |-146.92694 -145.79947 -152.07352 |-148.62831\n",
      "           | 20.957726  21.480777  20.236842 | 20.920627\n",
      "           |        49         57         71 |       177\n",
      "-----------+---------------------------------+----------\n",
      "         5 |-95.722433 -94.705294 -94.852584 |-94.991977\n",
      "           | 15.786802  16.028026  16.594359 | 16.179985\n",
      "           |        37         51         89 |       177\n",
      "-----------+---------------------------------+----------\n",
      "         6 |-17.134444 -16.453053 -14.004251 |-15.546676\n",
      "           | 22.666709  21.527046  19.618369 | 21.028635\n",
      "           |       108         95        167 |       370\n",
      "-----------+---------------------------------+----------\n",
      "         8 | 10.502083  9.0546808  9.6755881 | 9.7399386\n",
      "           | 5.5756922  5.8252881  5.5605988 | 5.6349909\n",
      "           |        48         47         68 |       163\n",
      "-----------+---------------------------------+----------\n",
      "         9 |   127.853  93.227714   102.9846 | 105.25742\n",
      "           |  86.67977  69.590768    70.4752 | 73.637829\n",
      "           |        30         35        113 |       178\n",
      "-----------+---------------------------------+----------\n",
      "        10 | 4552.6512  3605.4385  5405.5254 | 4778.1628\n",
      "           | 9386.6839  4902.8496  17029.412 | 13541.666\n",
      "           |        31         47         99 |       177\n",
      "-----------+---------------------------------+----------\n",
      "     Total | 65.183004  189.07403  476.64944 | 292.63824\n",
      "           |  2690.654   1944.996  6093.2376 | 4529.0155\n",
      "           |       469        466        842 |      1777\n"
     ]
    }
   ],
   "source": [
    "%%stata\n",
    "xtile decile = balchange if call==1, n(10)\n",
    "tab decile group if call==1, summ(balchange)"
   ]
  },
  {
   "cell_type": "code",
   "execution_count": null,
   "metadata": {
    "collapsed": true
   },
   "outputs": [],
   "source": []
  }
 ],
 "metadata": {
  "kernelspec": {
   "display_name": "Python 3",
   "language": "python",
   "name": "python3"
  },
  "language_info": {
   "codemirror_mode": {
    "name": "ipython",
    "version": 3
   },
   "file_extension": ".py",
   "mimetype": "text/x-python",
   "name": "python",
   "nbconvert_exporter": "python",
   "pygments_lexer": "ipython3",
   "version": "3.6.3"
  }
 },
 "nbformat": 4,
 "nbformat_minor": 1
}
