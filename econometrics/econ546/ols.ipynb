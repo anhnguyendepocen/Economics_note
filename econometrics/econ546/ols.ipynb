{
 "cells": [
  {
   "cell_type": "markdown",
   "metadata": {},
   "source": [
    "Notebook created: 2018-02-15 22:32:57  \n",
    "Generated from: _build_py/py/ols.rst  "
   ]
  },
  {
   "cell_type": "code",
   "execution_count": null,
   "metadata": {},
   "outputs": [],
   "source": [
    "import pandas as pd\n",
    "\n",
    "df1 = pd.read_stata('https://github.com/QuantEcon/QuantEcon.lectures.code/raw/master/ols/maketable1.dta')\n",
    "df1.head()"
   ]
  },
  {
   "cell_type": "code",
   "execution_count": null,
   "metadata": {},
   "outputs": [],
   "source": [
    "import matplotlib.pyplot as plt\n",
    "plt.style.use('seaborn')\n",
    "\n",
    "df1.plot(x='avexpr', y='logpgp95', kind='scatter')\n",
    "plt.show()"
   ]
  },
  {
   "cell_type": "code",
   "execution_count": null,
   "metadata": {},
   "outputs": [],
   "source": [
    "import numpy as np\n",
    "\n",
    "# Dropping NA's is required to use numpy's polyfit\n",
    "df1_subset = df1.dropna(subset=['logpgp95', 'avexpr'])\n",
    "\n",
    "# Use only 'base sample' for plotting purposes\n",
    "df1_subset = df1_subset[df1_subset['baseco'] == 1]\n",
    "\n",
    "X = df1_subset['avexpr']\n",
    "y = df1_subset['logpgp95']\n",
    "labels = df1_subset['shortnam']\n",
    "\n",
    "# Replace markers with country labels\n",
    "plt.scatter(X, y, marker='')\n",
    "\n",
    "for i, label in enumerate(labels):\n",
    "    plt.annotate(label, (X.iloc[i], y.iloc[i]))\n",
    "\n",
    "# Fit a linear trend line\n",
    "plt.plot(np.unique(X),\n",
    "         np.poly1d(np.polyfit(X, y, 1))(np.unique(X)),\n",
    "         color='black')\n",
    "\n",
    "plt.xlim([3.3,10.5])\n",
    "plt.ylim([4,10.5])\n",
    "plt.xlabel('Average Expropriation Risk 1985-95')\n",
    "plt.ylabel('Log GDP per capita, PPP, 1995')\n",
    "plt.title('Figure 2: OLS relationship between expropriation risk and income')\n",
    "plt.show()"
   ]
  },
  {
   "cell_type": "code",
   "execution_count": null,
   "metadata": {},
   "outputs": [],
   "source": [
    "df1['const'] = 1"
   ]
  },
  {
   "cell_type": "code",
   "execution_count": null,
   "metadata": {},
   "outputs": [],
   "source": [
    "import statsmodels.api as sm\n",
    "\n",
    "reg1 = sm.OLS(endog=df1['logpgp95'], exog=df1[['const', 'avexpr']], missing='drop')\n",
    "type(reg1)"
   ]
  },
  {
   "cell_type": "markdown",
   "metadata": {},
   "source": [
    "```none\n",
    "statsmodels.regression.linear_model.OLS\n",
    "```\n"
   ]
  },
  {
   "cell_type": "code",
   "execution_count": null,
   "metadata": {},
   "outputs": [],
   "source": [
    "results = reg1.fit()\n",
    "type(results)"
   ]
  },
  {
   "cell_type": "markdown",
   "metadata": {},
   "source": [
    "```none\n",
    "statsmodels.regression.linear_model.RegressionResultsWrapper\n",
    "```\n"
   ]
  },
  {
   "cell_type": "code",
   "execution_count": null,
   "metadata": {},
   "outputs": [],
   "source": [
    "print(results.summary())"
   ]
  },
  {
   "cell_type": "markdown",
   "metadata": {},
   "source": [
    "```none\n",
    "                            OLS Regression Results\n",
    "==============================================================================\n",
    "Dep. Variable:               logpgp95   R-squared:                       0.611\n",
    "Model:                            OLS   Adj. R-squared:                  0.608\n",
    "Method:                 Least Squares   F-statistic:                     171.4\n",
    "Date:                Mon, 17 Jul 2017   Prob (F-statistic):           4.16e-24\n",
    "Time:                        18:41:28   Log-Likelihood:                -119.71\n",
    "No. Observations:                 111   AIC:                             243.4\n",
    "Df Residuals:                     109   BIC:                             248.8\n",
    "Df Model:                           1\n",
    "Covariance Type:            nonrobust\n",
    "==============================================================================\n",
    "                 coef    std err          t      P>|t|      [0.025      0.975]\n",
    "------------------------------------------------------------------------------\n",
    "const          4.6261      0.301     15.391      0.000       4.030       5.222\n",
    "avexpr         0.5319      0.041     13.093      0.000       0.451       0.612\n",
    "==============================================================================\n",
    "Omnibus:                        9.251   Durbin-Watson:                   1.689\n",
    "Prob(Omnibus):                  0.010   Jarque-Bera (JB):                9.170\n",
    "Skew:                          -0.680   Prob(JB):                       0.0102\n",
    "Kurtosis:                       3.362   Cond. No.                         33.2\n",
    "==============================================================================\n",
    "\n",
    "Warnings:\n",
    "[1] Standard Errors assume that the covariance matrix of the errors is correctly specified.\n",
    "```\n"
   ]
  },
  {
   "cell_type": "code",
   "execution_count": null,
   "metadata": {},
   "outputs": [],
   "source": [
    "mean_expr = np.mean(df1_subset['avexpr'])\n",
    "mean_expr"
   ]
  },
  {
   "cell_type": "markdown",
   "metadata": {},
   "source": [
    "```none\n",
    "6.515625\n",
    "```\n"
   ]
  },
  {
   "cell_type": "code",
   "execution_count": null,
   "metadata": {},
   "outputs": [],
   "source": [
    "predicted_logpdp95 = 4.63 + 0.53 * 7.07\n",
    "predicted_logpdp95"
   ]
  },
  {
   "cell_type": "markdown",
   "metadata": {},
   "source": [
    "```none\n",
    "8.3771\n",
    "```\n"
   ]
  },
  {
   "cell_type": "code",
   "execution_count": null,
   "metadata": {},
   "outputs": [],
   "source": [
    "results.predict(exog=[1, mean_expr])"
   ]
  },
  {
   "cell_type": "markdown",
   "metadata": {},
   "source": [
    "```none\n",
    "array([ 8.09156367])\n",
    "```\n"
   ]
  },
  {
   "cell_type": "code",
   "execution_count": null,
   "metadata": {},
   "outputs": [],
   "source": [
    "# Drop missing observations from whole sample\n",
    "\n",
    "df1_plot = df1.dropna(subset=['logpgp95', 'avexpr'])\n",
    "\n",
    "# Plot predicted values\n",
    "\n",
    "plt.scatter(df1_plot['avexpr'], results.predict(), alpha=0.5, label='predicted')\n",
    "\n",
    "# Plot observed values\n",
    "\n",
    "plt.scatter(df1_plot['avexpr'], df1_plot['logpgp95'], alpha=0.5, label='observed')\n",
    "\n",
    "plt.legend()\n",
    "plt.title('OLS predicted values')\n",
    "plt.xlabel('avexpr')\n",
    "plt.ylabel('logpgp95')\n",
    "plt.show()"
   ]
  },
  {
   "cell_type": "code",
   "execution_count": null,
   "metadata": {},
   "outputs": [],
   "source": [
    "df2 = pd.read_stata('https://github.com/QuantEcon/QuantEcon.lectures.code/raw/master/ols/maketable2.dta')\n",
    "\n",
    "# Add constant term to dataset\n",
    "df2['const'] = 1\n",
    "\n",
    "# Create lists of variables to be used in each regression\n",
    "X1 = ['const', 'avexpr']\n",
    "X2 = ['const', 'avexpr', 'lat_abst']\n",
    "X3 = ['const', 'avexpr', 'lat_abst', 'asia', 'africa', 'other']\n",
    "\n",
    "# Estimate an OLS regression for each set of variables\n",
    "reg1 = sm.OLS(df2['logpgp95'], df2[X1], missing='drop').fit()\n",
    "reg2 = sm.OLS(df2['logpgp95'], df2[X2], missing='drop').fit()\n",
    "reg3 = sm.OLS(df2['logpgp95'], df2[X3], missing='drop').fit()"
   ]
  },
  {
   "cell_type": "code",
   "execution_count": null,
   "metadata": {},
   "outputs": [],
   "source": [
    "from statsmodels.iolib.summary2 import summary_col\n",
    "\n",
    "info_dict={'R-squared' : lambda x: \"{:.2f}\".format(x.rsquared),\n",
    "           'No. observations' : lambda x: \"{0:d}\".format(int(x.nobs))}\n",
    "\n",
    "results_table = summary_col(results=[reg1,reg2,reg3],\n",
    "                            float_format='%0.2f',\n",
    "                            stars = True,\n",
    "                            model_names=['Model 1',\n",
    "                                         'Model 3',\n",
    "                                         'Model 4'],\n",
    "                            info_dict=info_dict,\n",
    "                            regressor_order=['const',\n",
    "                                             'avexpr',\n",
    "                                             'lat_abst',\n",
    "                                             'asia',\n",
    "                                             'africa'])\n",
    "\n",
    "results_table.add_title('Table 2 - OLS Regressions')\n",
    "\n",
    "print(results_table)"
   ]
  },
  {
   "cell_type": "markdown",
   "metadata": {},
   "source": [
    "```none\n",
    "        Table 2 - OLS Regressions\n",
    "=========================================\n",
    "                 Model 1 Model 3 Model 4\n",
    "-----------------------------------------\n",
    "const            4.63*** 4.87*** 5.85***\n",
    "                 (0.30)  (0.33)  (0.34)\n",
    "avexpr           0.53*** 0.46*** 0.39***\n",
    "                 (0.04)  (0.06)  (0.05)\n",
    "lat_abst                 0.87*   0.33\n",
    "                         (0.49)  (0.45)\n",
    "asia                             -0.15\n",
    "                                 (0.15)\n",
    "africa                           -0.92***\n",
    "                                 (0.17)\n",
    "other                            0.30\n",
    "                                 (0.37)\n",
    "R-squared        0.61    0.62    0.72\n",
    "No. observations 111     111     111\n",
    "=========================================\n",
    "Standard errors in parentheses.\n",
    "* p<.1, ** p<.05, ***p<.01\n",
    "```\n"
   ]
  },
  {
   "cell_type": "code",
   "execution_count": null,
   "metadata": {},
   "outputs": [],
   "source": [
    "# Dropping NA's is required to use numpy's polyfit\n",
    "df1_subset2 = df1.dropna(subset=['logem4', 'avexpr'])\n",
    "\n",
    "X = df1_subset2['logem4']\n",
    "y = df1_subset2['avexpr']\n",
    "labels = df1_subset2['shortnam']\n",
    "\n",
    "# Replace markers with country labels\n",
    "plt.scatter(X, y, marker='')\n",
    "\n",
    "for i, label in enumerate(labels):\n",
    "    plt.annotate(label, (X.iloc[i], y.iloc[i]))\n",
    "\n",
    "# Fit a linear trend line\n",
    "plt.plot(np.unique(X),\n",
    "         np.poly1d(np.polyfit(X, y, 1))(np.unique(X)),\n",
    "         color='black')\n",
    "\n",
    "plt.xlim([1.8,8.4])\n",
    "plt.ylim([3.3,10.4])\n",
    "plt.xlabel('Log of Settler Mortality')\n",
    "plt.ylabel('Average Expropriation Risk 1985-95')\n",
    "plt.title('Figure 3: First-stage relationship between settler mortality and expropriation risk')\n",
    "plt.show()"
   ]
  },
  {
   "cell_type": "code",
   "execution_count": null,
   "metadata": {},
   "outputs": [],
   "source": [
    "# Import and select the data\n",
    "df4 = pd.read_stata('https://github.com/QuantEcon/QuantEcon.lectures.code/raw/master/ols/maketable4.dta')\n",
    "df4 = df4[df4['baseco'] == 1]\n",
    "\n",
    "# Add a constant variable\n",
    "df4['const'] = 1\n",
    "\n",
    "# Fit the first stage regression and print summary\n",
    "results_fs = sm.OLS(df4['avexpr'],\n",
    "                    df4[['const', 'logem4']],\n",
    "                    missing='drop').fit()\n",
    "print(results_fs.summary())"
   ]
  },
  {
   "cell_type": "markdown",
   "metadata": {},
   "source": [
    "```none\n",
    "                            OLS Regression Results\n",
    "==============================================================================\n",
    "Dep. Variable:                 avexpr   R-squared:                       0.270\n",
    "Model:                            OLS   Adj. R-squared:                  0.258\n",
    "Method:                 Least Squares   F-statistic:                     22.95\n",
    "Date:                Mon, 17 Jul 2017   Prob (F-statistic):           1.08e-05\n",
    "Time:                        18:41:29   Log-Likelihood:                -104.83\n",
    "No. Observations:                  64   AIC:                             213.7\n",
    "Df Residuals:                      62   BIC:                             218.0\n",
    "Df Model:                           1\n",
    "Covariance Type:            nonrobust\n",
    "==============================================================================\n",
    "                 coef    std err          t      P>|t|      [0.025      0.975]\n",
    "------------------------------------------------------------------------------\n",
    "const          9.3414      0.611     15.296      0.000       8.121      10.562\n",
    "logem4        -0.6068      0.127     -4.790      0.000      -0.860      -0.354\n",
    "==============================================================================\n",
    "Omnibus:                        0.035   Durbin-Watson:                   2.003\n",
    "Prob(Omnibus):                  0.983   Jarque-Bera (JB):                0.172\n",
    "Skew:                           0.045   Prob(JB):                        0.918\n",
    "Kurtosis:                       2.763   Cond. No.                         19.4\n",
    "==============================================================================\n",
    "\n",
    "Warnings:\n",
    "[1] Standard Errors assume that the covariance matrix of the errors is correctly specified.\n",
    "```\n"
   ]
  },
  {
   "cell_type": "code",
   "execution_count": null,
   "metadata": {},
   "outputs": [],
   "source": [
    "df4['predicted_avexpr'] = results_fs.predict()\n",
    "\n",
    "results_ss = sm.OLS(df4['logpgp95'],\n",
    "                    df4[['const', 'predicted_avexpr']]).fit()\n",
    "print(results_ss.summary())"
   ]
  },
  {
   "cell_type": "markdown",
   "metadata": {},
   "source": [
    "```none\n",
    "                            OLS Regression Results\n",
    "==============================================================================\n",
    "Dep. Variable:               logpgp95   R-squared:                       0.477\n",
    "Model:                            OLS   Adj. R-squared:                  0.469\n",
    "Method:                 Least Squares   F-statistic:                     56.60\n",
    "Date:                Mon, 17 Jul 2017   Prob (F-statistic):           2.66e-10\n",
    "Time:                        18:41:29   Log-Likelihood:                -72.268\n",
    "No. Observations:                  64   AIC:                             148.5\n",
    "Df Residuals:                      62   BIC:                             152.9\n",
    "Df Model:                           1\n",
    "Covariance Type:            nonrobust\n",
    "====================================================================================\n",
    "                       coef    std err          t      P>|t|      [0.025      0.975]\n",
    "------------------------------------------------------------------------------------\n",
    "const                1.9097      0.823      2.320      0.024       0.264       3.555\n",
    "predicted_avexpr     0.9443      0.126      7.523      0.000       0.693       1.195\n",
    "==============================================================================\n",
    "Omnibus:                       10.547   Durbin-Watson:                   2.137\n",
    "Prob(Omnibus):                  0.005   Jarque-Bera (JB):               11.010\n",
    "Skew:                          -0.790   Prob(JB):                      0.00407\n",
    "Kurtosis:                       4.277   Cond. No.                         58.1\n",
    "==============================================================================\n",
    "\n",
    "Warnings:\n",
    "[1] Standard Errors assume that the covariance matrix of the errors is correctly specified.\n",
    "```\n"
   ]
  },
  {
   "cell_type": "code",
   "execution_count": null,
   "metadata": {},
   "outputs": [],
   "source": [
    "from linearmodels.iv import IV2SLS"
   ]
  },
  {
   "cell_type": "code",
   "execution_count": null,
   "metadata": {},
   "outputs": [],
   "source": [
    "iv = IV2SLS(dependent=df4['logpgp95'],\n",
    "            exog=df4['const'],\n",
    "            endog=df4['avexpr'],\n",
    "            instruments=df4['logem4']).fit(cov_type='unadjusted')\n",
    "\n",
    "print(iv.summary)"
   ]
  },
  {
   "cell_type": "markdown",
   "metadata": {},
   "source": [
    "```none\n",
    "                          IV-2SLS Estimation Summary\n",
    "==============================================================================\n",
    "Dep. Variable:               logpgp95   R-squared:                      0.1870\n",
    "Estimator:                    IV-2SLS   Adj. R-squared:                 0.1739\n",
    "No. Observations:                  64   F-statistic:                    37.568\n",
    "Date:                Mon, Jul 17 2017   P-value (F-stat)                0.0000\n",
    "Time:                        18:41:29   Distribution:                  chi2(1)\n",
    "Cov. Estimator:            unadjusted\n",
    "\n",
    "                             Parameter Estimates\n",
    "==============================================================================\n",
    "            Parameter  Std. Err.     T-stat    P-value    Lower CI    Upper CI\n",
    "------------------------------------------------------------------------------\n",
    "const          1.9097     1.0106     1.8897     0.0588     -0.0710      3.8903\n",
    "avexpr         0.9443     0.1541     6.1293     0.0000      0.6423      1.2462\n",
    "==============================================================================\n",
    "\n",
    "Endogenous: avexpr\n",
    "Instruments: logem4\n",
    "Unadjusted Covariance (Homoskedastic)\n",
    "Debiased: False\n",
    "```\n"
   ]
  },
  {
   "cell_type": "code",
   "execution_count": null,
   "metadata": {},
   "outputs": [],
   "source": [
    "# Load in data\n",
    "df4 = pd.read_stata('https://github.com/QuantEcon/QuantEcon.lectures.code/raw/master/ols/maketable4.dta')\n",
    "\n",
    "# Add a constant term\n",
    "df4['const'] = 1\n",
    "\n",
    "# Estimate the first stage regression\n",
    "reg1 = sm.OLS(endog=df4['avexpr'],\n",
    "              exog=df4[['const', 'logem4']],\n",
    "              missing='drop').fit()\n",
    "\n",
    "# Retrieve the residuals\n",
    "df4['resid'] = reg1.resid\n",
    "\n",
    "# Estimate the second stage residuals\n",
    "reg2 = sm.OLS(endog=df4['logpgp95'],\n",
    "              exog=df4[['const', 'avexpr', 'resid']],\n",
    "              missing='drop').fit()\n",
    "\n",
    "print(reg2.summary())"
   ]
  },
  {
   "cell_type": "markdown",
   "metadata": {},
   "source": [
    "```none\n",
    "                            OLS Regression Results\n",
    "==============================================================================\n",
    "Dep. Variable:               logpgp95   R-squared:                       0.689\n",
    "Model:                            OLS   Adj. R-squared:                  0.679\n",
    "Method:                 Least Squares   F-statistic:                     74.05\n",
    "Date:                Mon, 17 Jul 2017   Prob (F-statistic):           1.07e-17\n",
    "Time:                        18:41:29   Log-Likelihood:                -62.031\n",
    "No. Observations:                  70   AIC:                             130.1\n",
    "Df Residuals:                      67   BIC:                             136.8\n",
    "Df Model:                           2\n",
    "Covariance Type:            nonrobust\n",
    "==============================================================================\n",
    "                 coef    std err          t      P>|t|      [0.025      0.975]\n",
    "------------------------------------------------------------------------------\n",
    "const          2.4782      0.547      4.530      0.000       1.386       3.570\n",
    "avexpr         0.8564      0.082     10.406      0.000       0.692       1.021\n",
    "resid         -0.4951      0.099     -5.017      0.000      -0.692      -0.298\n",
    "==============================================================================\n",
    "Omnibus:                       17.597   Durbin-Watson:                   2.086\n",
    "Prob(Omnibus):                  0.000   Jarque-Bera (JB):               23.194\n",
    "Skew:                          -1.054   Prob(JB):                     9.19e-06\n",
    "Kurtosis:                       4.873   Cond. No.                         53.8\n",
    "==============================================================================\n",
    "\n",
    "Warnings:\n",
    "[1] Standard Errors assume that the covariance matrix of the errors is correctly specified.\n",
    "```\n"
   ]
  },
  {
   "cell_type": "code",
   "execution_count": null,
   "metadata": {},
   "outputs": [],
   "source": [
    "# Load in data\n",
    "df1 = pd.read_stata('https://github.com/QuantEcon/QuantEcon.lectures.code/raw/master/ols/maketable1.dta')\n",
    "df1 = df1.dropna(subset=['logpgp95', 'avexpr'])\n",
    "\n",
    "# Add a constant term\n",
    "df1['const'] = 1\n",
    "\n",
    "# Define the X and y variables\n",
    "y = np.asarray(df1['logpgp95'])\n",
    "X = np.asarray(df1[['const', 'avexpr']])\n",
    "\n",
    "# Compute beta hat\n",
    "beta_hat = np.linalg.solve(X.T @ X, X.T @ y)\n",
    "\n",
    "# Print out the results from the 2 x 1 vector beta_hat\n",
    "print('beta0: ', np.round(beta_hat, 2)[0])\n",
    "print('beta1: ', np.round(beta_hat, 2)[1])"
   ]
  },
  {
   "cell_type": "markdown",
   "metadata": {},
   "source": [
    "```none\n",
    "beta0:  4.63\n",
    "beta1:  0.53\n",
    "```\n"
   ]
  }
 ],
 "metadata": {
  "kernelspec": {
   "display_name": "Python",
   "language": "python3",
   "name": "python3"
  }
 },
 "nbformat": 4,
 "nbformat_minor": 2
}
