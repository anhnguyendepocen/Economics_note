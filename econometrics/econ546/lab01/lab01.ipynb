{
 "cells": [
  {
   "cell_type": "markdown",
   "metadata": {
    "ExecuteTime": {
     "start_time": "2018-01-05T23:56:11.720Z"
    }
   },
   "source": [
    "\n",
    "### A sample of do file\n",
    "\n",
    "```stata\n",
    "# delimit ;\n",
    "*************************************************;\n",
    "* Administrative Commands;\n",
    "*************************************************;\n",
    "set more off;\n",
    "clear;\n",
    "log using \\statafiles\\template.log,replace;\n",
    "*************************************************;\n",
    "* Read in the Dataset;\n",
    "*************************************************;\n",
    "use \\statafiles\\cps92_08.dta;\n",
    "describe;\n",
    "***part (a)***************************************;\n",
    "generate ahe1992 = ahe if (year==1992);\n",
    "generate ahe2008 = ahe if (year==2008);\n",
    "ttest ahe1992=0;\n",
    "ttest ahe2008=0; \n",
    "ttest ahe2008=ahe1992, unequal unpaired; \n",
    "***part (b)***************************************;\n",
    "***mimic the above***;\n",
    "***part (d)***************************************;\n",
    "***mimic the above***;\n",
    "***part (e)***************************************;\n",
    "***mimic the above***;\n",
    "**************************************************;\n",
    "log close;\n",
    "clear;\n",
    "exit;\n",
    "```\n"
   ]
  },
  {
   "cell_type": "markdown",
   "metadata": {
    "ExecuteTime": {
     "start_time": "2018-01-05T23:56:18.233Z"
    }
   },
   "source": [
    "### ECON547 LAB01 2018 SPRING\n",
    "\n",
    "```stata\n",
    "log using 546lab1jd\n",
    "\n",
    "pwd\n",
    "\n",
    "use 546lab1.dta\n",
    "\n",
    "describe\n",
    "\n",
    "\n",
    "list\n",
    "\n",
    "summarize\n",
    "\n",
    "su educ\n",
    "\n",
    "l logwr\n",
    "\n",
    "su if age <= 40 & nclt3 ==1\n",
    "\n",
    "su logwr in 1/1000 if age <= 40 & nclt3 ==1\n",
    "\n",
    "generate age2 = age^2\n",
    "\n",
    "replace age2 = age^2\n",
    "\n",
    "regress inlf age age2 educ logwr nclt3\n",
    "\n",
    "regress inlf age age2 educ logwr nclt3, vce(hc3)\n",
    "\n",
    "\n",
    "predict yfit, xb\n",
    "\n",
    "\n",
    "su yfit\n",
    "\n",
    "log close\n",
    "\n",
    "```"
   ]
  }
 ],
 "metadata": {
  "kernelspec": {
   "display_name": "Python 3",
   "language": "python",
   "name": "python3"
  },
  "language_info": {
   "codemirror_mode": {
    "name": "ipython",
    "version": 3
   },
   "file_extension": ".py",
   "mimetype": "text/x-python",
   "name": "python",
   "nbconvert_exporter": "python",
   "pygments_lexer": "ipython3",
   "version": "3.6.3"
  }
 },
 "nbformat": 4,
 "nbformat_minor": 2
}
