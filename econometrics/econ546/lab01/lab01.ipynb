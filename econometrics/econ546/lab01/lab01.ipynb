{
 "cells": [
  {
   "cell_type": "markdown",
   "metadata": {},
   "source": [
    "# LAB01 STATA\n",
    "\n",
    "\n",
    "1. [Stata Tutorial](http://data.princeton.edu/stata/)\n",
    "\n",
    "2. [Stata notes list](http://www.princeton.edu/~otorres/Stata/statnotes)\n",
    "\n",
    "3. [A Complete Tutorial ](http://www.princeton.edu/~otorres/Stata/)\n",
    "\n",
    "4. [Generalized Linear Models in Stata](http://data.princeton.edu/wws509/stata)"
   ]
  },
  {
   "cell_type": "markdown",
   "metadata": {
    "ExecuteTime": {
     "start_time": "2018-01-05T23:56:11.720Z"
    }
   },
   "source": [
    "\n",
    "### A sample of do file\n",
    "\n",
    "```stata\n",
    "// A Quick Tour of Stata\n",
    "// My Name - Sring 2018\n",
    "\n",
    "version 15\n",
    "clear\n",
    "capture log close\n",
    "log using QuickTour, text replace\n",
    "\n",
    "display 2+2\n",
    "display 2 * ttail(20,2.1)\n",
    "\n",
    "// load sample data and inspect\n",
    "sysuse lifeexp\n",
    "desc\n",
    "summarize lexp gnppc\n",
    "list country gnppc if missing(gnppc)\n",
    "\n",
    "graph twoway scatter lexp gnppc, ///\n",
    "  title(Life Expectancy and GNP ) xtitle(GNP per capita)\n",
    "// save the graph in PNG format\n",
    "graph export scatter.png, width(400) replace   \n",
    "gen loggnppc = log(gnppc)\n",
    "regress lexp loggnppc\n",
    "\n",
    "predict plexp\n",
    "\n",
    "graph twoway (scatter lexp loggnppc) (lfit lexp loggnppc) ///\n",
    "    ,  title(Life Expectancy and GNP) xtitle(log GNP per capita)\n",
    "graph export fit.png, width(400) replace\n",
    "\n",
    "list country lexp plexp if lexp < 55, clean\n",
    "list gnppc loggnppc lexp plexp if country == \"United States\", clean\n",
    "log close\n",
    "```\n"
   ]
  },
  {
   "cell_type": "markdown",
   "metadata": {
    "ExecuteTime": {
     "start_time": "2018-01-05T23:56:18.233Z"
    }
   },
   "source": [
    "### ECON547 LAB01 2018 SPRING\n",
    "\n",
    "```stata\n",
    "log using 546lab1jd\n",
    "\n",
    "pwd\n",
    "\n",
    "use 546lab1.dta\n",
    "\n",
    "describe\n",
    "\n",
    "\n",
    "list\n",
    "\n",
    "summarize\n",
    "\n",
    "su educ\n",
    "\n",
    "l logwr\n",
    "\n",
    "su if age <= 40 & nclt3 ==1\n",
    "\n",
    "su logwr in 1/1000 if age <= 40 & nclt3 ==1\n",
    "\n",
    "generate age2 = age^2\n",
    "\n",
    "replace age2 = age^2\n",
    "\n",
    "regress inlf age age2 educ logwr nclt3\n",
    "\n",
    "regress inlf age age2 educ logwr nclt3, vce(hc3)\n",
    "\n",
    "\n",
    "predict yfit, xb\n",
    "\n",
    "\n",
    "su yfit\n",
    "\n",
    "log close\n",
    "\n",
    "```"
   ]
  },
  {
   "cell_type": "code",
   "execution_count": null,
   "metadata": {},
   "outputs": [],
   "source": []
  }
 ],
 "metadata": {
  "kernelspec": {
   "display_name": "Python 3",
   "language": "python",
   "name": "python3"
  },
  "language_info": {
   "codemirror_mode": {
    "name": "ipython",
    "version": 3
   },
   "file_extension": ".py",
   "mimetype": "text/x-python",
   "name": "python",
   "nbconvert_exporter": "python",
   "pygments_lexer": "ipython3",
   "version": "3.6.3"
  }
 },
 "nbformat": 4,
 "nbformat_minor": 2
}
