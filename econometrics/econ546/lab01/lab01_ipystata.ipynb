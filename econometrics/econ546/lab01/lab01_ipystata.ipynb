{
 "cells": [
  {
   "cell_type": "code",
   "execution_count": 1,
   "metadata": {
    "ExecuteTime": {
     "end_time": "2018-01-05T23:48:38.390283Z",
     "start_time": "2018-01-05T23:48:38.386271Z"
    }
   },
   "outputs": [],
   "source": [
    "# # Install a pip package in the current Jupyter kernel\n",
    "# import sys\n",
    "# !{sys.executable} -m pip install ipystata pypiwin32 \n",
    "# http://nbviewer.jupyter.org/github/TiesdeKok/ipystata/blob/master/ipystata/Example.ipynb"
   ]
  },
  {
   "cell_type": "code",
   "execution_count": 4,
   "metadata": {
    "ExecuteTime": {
     "end_time": "2018-01-06T00:15:54.935204Z",
     "start_time": "2018-01-06T00:15:41.545372Z"
    }
   },
   "outputs": [
    {
     "name": "stdout",
     "output_type": "stream",
     "text": [
      "Fetching package metadata ...................\n",
      "Solving package specifications: .\n",
      "\n",
      "Package plan for installation in environment C:\\Users\\oldyu\\Miniconda3\\envs\\tensorflow-gpu:\n",
      "\n",
      "The following NEW packages will be INSTALLED:\n",
      "\n",
      "    entrypoints:   0.2.3-py36hfd66bb0_2              \n",
      "    jinja2:        2.10-py36h292fed1_0               \n",
      "    jsonschema:    2.6.0-py36h7636477_0              \n",
      "    markupsafe:    1.0-py36h0e26971_1                \n",
      "    mistune:       0.8.1-py36h007b88b_0              \n",
      "    nbconvert:     5.3.1-py36h8dc0fde_0              \n",
      "    nbformat:      4.4.0-py36h3a5bc1b_0              \n",
      "    notebook:      5.2.2-py36hc48260a_0              \n",
      "    pandoc:        1.19.2.1-hb2460c7_1               \n",
      "    pandocfilters: 1.4.2-py36h3ef6317_1              \n",
      "    rise:          5.1.0-py36_1         damianavila82\n",
      "    testpath:      0.3.1-py36h2698cfe_0              \n",
      "\n",
      "rise-5.1.0-py3   0% |                              | ETA:  --:--:--   0.00  B/s\n",
      "rise-5.1.0-py3   1% |                               | ETA:  0:00:09 212.41 kB/s\n",
      "rise-5.1.0-py3   3% |                               | ETA:  0:00:07 281.75 kB/s\n",
      "rise-5.1.0-py3   4% |#                              | ETA:  0:00:06 315.90 kB/s\n",
      "rise-5.1.0-py3   6% |#                              | ETA:  0:00:05 336.40 kB/s\n",
      "rise-5.1.0-py3   7% |##                             | ETA:  0:00:05 352.24 kB/s\n",
      "rise-5.1.0-py3   9% |##                             | ETA:  0:00:05 364.48 kB/s\n",
      "rise-5.1.0-py3  10% |###                            | ETA:  0:00:04 421.31 kB/s\n",
      "rise-5.1.0-py3  12% |###                            | ETA:  0:00:04 424.04 kB/s\n",
      "rise-5.1.0-py3  13% |####                           | ETA:  0:00:03 475.54 kB/s\n",
      "rise-5.1.0-py3  15% |####                           | ETA:  0:00:03 472.77 kB/s\n",
      "rise-5.1.0-py3  16% |#####                          | ETA:  0:00:03 516.31 kB/s\n",
      "rise-5.1.0-py3  18% |#####                          | ETA:  0:00:03 509.80 kB/s\n",
      "rise-5.1.0-py3  19% |######                         | ETA:  0:00:03 549.43 kB/s\n",
      "rise-5.1.0-py3  21% |######                         | ETA:  0:00:03 542.52 kB/s\n",
      "rise-5.1.0-py3  22% |#######                        | ETA:  0:00:02 577.90 kB/s\n",
      "rise-5.1.0-py3  24% |#######                        | ETA:  0:00:02 613.54 kB/s\n",
      "rise-5.1.0-py3  25% |########                       | ETA:  0:00:02 603.01 kB/s\n",
      "rise-5.1.0-py3  27% |########                       | ETA:  0:00:02 637.17 kB/s\n",
      "rise-5.1.0-py3  28% |########                       | ETA:  0:00:02 669.65 kB/s\n",
      "rise-5.1.0-py3  30% |#########                      | ETA:  0:00:02 656.73 kB/s\n",
      "rise-5.1.0-py3  32% |#########                      | ETA:  0:00:02 687.50 kB/s\n",
      "rise-5.1.0-py3  33% |##########                     | ETA:  0:00:01 717.30 kB/s\n",
      "rise-5.1.0-py3  35% |##########                     | ETA:  0:00:01 747.66 kB/s\n",
      "rise-5.1.0-py3  36% |###########                    | ETA:  0:00:01 731.23 kB/s\n",
      "rise-5.1.0-py3  38% |###########                    | ETA:  0:00:01 759.58 kB/s\n",
      "rise-5.1.0-py3  39% |############                   | ETA:  0:00:01 788.49 kB/s\n",
      "rise-5.1.0-py3  41% |############                   | ETA:  0:00:01 816.55 kB/s\n",
      "rise-5.1.0-py3  42% |#############                  | ETA:  0:00:01 799.61 kB/s\n",
      "rise-5.1.0-py3  44% |#############                  | ETA:  0:00:01 824.53 kB/s\n",
      "rise-5.1.0-py3  45% |##############                 | ETA:  0:00:01 850.77 kB/s\n",
      "rise-5.1.0-py3  47% |##############                 | ETA:  0:00:01 876.08 kB/s\n",
      "rise-5.1.0-py3  48% |###############                | ETA:  0:00:01 902.77 kB/s\n",
      "rise-5.1.0-py3  50% |###############                | ETA:  0:00:01 882.84 kB/s\n",
      "rise-5.1.0-py3  51% |################               | ETA:  0:00:01 905.90 kB/s\n",
      "rise-5.1.0-py3  53% |################               | ETA:  0:00:01 931.81 kB/s\n",
      "rise-5.1.0-py3  54% |#################              | ETA:  0:00:01 956.12 kB/s\n",
      "rise-5.1.0-py3  56% |#################              | ETA:  0:00:00 980.32 kB/s\n",
      "rise-5.1.0-py3  57% |#################              | ETA:  0:00:00   1.00 MB/s\n",
      "rise-5.1.0-py3  59% |##################             | ETA:  0:00:00 983.26 kB/s\n",
      "rise-5.1.0-py3  61% |##################             | ETA:  0:00:00   1.00 MB/s\n",
      "rise-5.1.0-py3  62% |###################            | ETA:  0:00:00   1.03 MB/s\n",
      "rise-5.1.0-py3  64% |###################            | ETA:  0:00:00   1.05 MB/s\n",
      "rise-5.1.0-py3  65% |####################           | ETA:  0:00:00   1.07 MB/s\n",
      "rise-5.1.0-py3  67% |####################           | ETA:  0:00:00   1.10 MB/s\n",
      "rise-5.1.0-py3  68% |#####################          | ETA:  0:00:00   1.12 MB/s\n",
      "rise-5.1.0-py3  70% |#####################          | ETA:  0:00:00   1.11 MB/s\n",
      "rise-5.1.0-py3  71% |######################         | ETA:  0:00:00   1.12 MB/s\n",
      "rise-5.1.0-py3  73% |######################         | ETA:  0:00:00   1.14 MB/s\n",
      "rise-5.1.0-py3  74% |#######################        | ETA:  0:00:00   1.16 MB/s\n",
      "rise-5.1.0-py3  76% |#######################        | ETA:  0:00:00   1.18 MB/s\n",
      "rise-5.1.0-py3  77% |########################       | ETA:  0:00:00   1.20 MB/s\n",
      "rise-5.1.0-py3  79% |########################       | ETA:  0:00:00   1.22 MB/s\n",
      "rise-5.1.0-py3  80% |#########################      | ETA:  0:00:00   1.24 MB/s\n",
      "rise-5.1.0-py3  82% |#########################      | ETA:  0:00:00   1.24 MB/s\n",
      "rise-5.1.0-py3  83% |##########################     | ETA:  0:00:00   1.24 MB/s\n",
      "rise-5.1.0-py3  85% |##########################     | ETA:  0:00:00   1.26 MB/s\n",
      "rise-5.1.0-py3  86% |##########################     | ETA:  0:00:00   1.28 MB/s\n",
      "rise-5.1.0-py3  88% |###########################    | ETA:  0:00:00   1.30 MB/s\n",
      "rise-5.1.0-py3  90% |###########################    | ETA:  0:00:00   1.32 MB/s\n",
      "rise-5.1.0-py3  91% |############################   | ETA:  0:00:00   1.34 MB/s\n",
      "rise-5.1.0-py3  93% |############################   | ETA:  0:00:00   1.36 MB/s\n",
      "rise-5.1.0-py3  94% |#############################  | ETA:  0:00:00   1.38 MB/s\n",
      "rise-5.1.0-py3  96% |#############################  | ETA:  0:00:00   1.37 MB/s\n",
      "rise-5.1.0-py3  97% |############################## | ETA:  0:00:00   1.37 MB/s\n",
      "rise-5.1.0-py3  99% |############################## | ETA:  0:00:00   1.39 MB/s\n",
      "rise-5.1.0-py3 100% |###############################| Time: 0:00:01   1.39 MB/s\n",
      "\n"
     ]
    },
    {
     "name": "stderr",
     "output_type": "stream",
     "text": [
      "DEBUG menuinst_win32:__init__(185): Menu: name: 'Anaconda${PY_VER} ${PLATFORM}', prefix: 'C:\\Users\\oldyu\\Miniconda3\\envs\\tensorflow-gpu', env_name: 'tensorflow-gpu', mode: 'None', used_mode: 'user'\n",
      "DEBUG menuinst_win32:create(299): Shortcut cmd is C:\\Users\\oldyu\\Miniconda3\\python.exe, args are ['C:\\\\Users\\\\oldyu\\\\Miniconda3\\\\cwp.py', 'C:\\\\Users\\\\oldyu\\\\Miniconda3\\\\envs\\\\tensorflow-gpu', 'C:\\\\Users\\\\oldyu\\\\Miniconda3\\\\envs\\\\tensorflow-gpu\\\\python.exe', 'C:\\\\Users\\\\oldyu\\\\Miniconda3\\\\envs\\\\tensorflow-gpu\\\\Scripts\\\\jupyter-notebook-script.py', '%USERPROFILE%']\n"
     ]
    }
   ],
   "source": [
    "# # Install a conda package in the current Jupyter kernel\n",
    "import sys\n",
    "# !conda install --yes --prefix {sys.prefix} pywin32 psutil \n",
    "!conda install --yes --prefix {sys.prefix} -c damianavila82 rise"
   ]
  },
  {
   "cell_type": "code",
   "execution_count": 3,
   "metadata": {
    "ExecuteTime": {
     "end_time": "2018-01-05T23:48:40.403816Z",
     "start_time": "2018-01-05T23:48:40.175209Z"
    }
   },
   "outputs": [
    {
     "name": "stdout",
     "output_type": "stream",
     "text": [
      "IPyStata is loaded in batch mode.\n"
     ]
    },
    {
     "data": {
      "application/javascript": [
       "IPython.CodeCell.config_defaults.highlight_modes['magic_stata'] = {'reg':[/^%%stata/]};"
      ]
     },
     "metadata": {},
     "output_type": "display_data"
    }
   ],
   "source": [
    "import ipystata  \n",
    "#from ipystata.config import config_stata  \n",
    "#config_stata('C:\\Program Files (x86)\\Stata14\\StataMP.exe', force_batch=True)\n",
    "#https://github.com/TiesdeKok/ipystata\n",
    "#http://dev-ii-seminar.readthedocs.io/en/latest/notebooks/Stata_in_jupyter.html"
   ]
  },
  {
   "cell_type": "code",
   "execution_count": 4,
   "metadata": {
    "ExecuteTime": {
     "end_time": "2018-01-05T23:48:46.188561Z",
     "start_time": "2018-01-05T23:48:44.824275Z"
    }
   },
   "outputs": [
    {
     "name": "stdout",
     "output_type": "stream",
     "text": [
      "\n",
      "Hello, I am printed in Stata.\n"
     ]
    }
   ],
   "source": [
    "%%stata  \n",
    "display \"Hello, I am printed in Stata.\"  "
   ]
  },
  {
   "cell_type": "code",
   "execution_count": 5,
   "metadata": {
    "ExecuteTime": {
     "end_time": "2018-01-05T23:48:52.437317Z",
     "start_time": "2018-01-05T23:48:51.188985Z"
    }
   },
   "outputs": [
    {
     "name": "stdout",
     "output_type": "stream",
     "text": [
      "\n",
      " paused on:   5 Jan 2018, 15:48:51\n"
     ]
    }
   ],
   "source": [
    "%%stata \n",
    "log off\n",
    "log using 546lab1jd"
   ]
  },
  {
   "cell_type": "code",
   "execution_count": 6,
   "metadata": {
    "ExecuteTime": {
     "end_time": "2018-01-05T23:48:59.506047Z",
     "start_time": "2018-01-05T23:48:58.253846Z"
    }
   },
   "outputs": [
    {
     "name": "stdout",
     "output_type": "stream",
     "text": [
      "\n",
      "\n"
     ]
    }
   ],
   "source": [
    "%%stata \n",
    "use \"546lab1.dta\""
   ]
  },
  {
   "cell_type": "code",
   "execution_count": null,
   "metadata": {},
   "outputs": [],
   "source": [
    "%%stata \n"
   ]
  },
  {
   "cell_type": "code",
   "execution_count": null,
   "metadata": {},
   "outputs": [],
   "source": []
  },
  {
   "cell_type": "code",
   "execution_count": null,
   "metadata": {},
   "outputs": [],
   "source": []
  },
  {
   "cell_type": "code",
   "execution_count": null,
   "metadata": {},
   "outputs": [],
   "source": []
  },
  {
   "cell_type": "code",
   "execution_count": null,
   "metadata": {},
   "outputs": [],
   "source": []
  },
  {
   "cell_type": "code",
   "execution_count": 17,
   "metadata": {
    "ExecuteTime": {
     "end_time": "2018-01-05T23:27:26.524482Z",
     "start_time": "2018-01-05T23:27:25.508091Z"
    }
   },
   "outputs": [
    {
     "name": "stdout",
     "output_type": "stream",
     "text": [
      "(1978 Automobile Data)\n",
      "\n"
     ]
    }
   ],
   "source": [
    "%%stata \n",
    "sysuse auto"
   ]
  },
  {
   "cell_type": "code",
   "execution_count": 8,
   "metadata": {
    "ExecuteTime": {
     "end_time": "2018-01-05T23:49:27.821714Z",
     "start_time": "2018-01-05T23:49:26.386448Z"
    }
   },
   "outputs": [
    {
     "name": "stdout",
     "output_type": "stream",
     "text": [
      "\n",
      "file http://www.ats.ucla.edu/stat/stata/notes/hsb2.dta not found\n",
      "server says file permanently redirected to http://stats.idre.ucla.edu/\n",
      "r(601);\n",
      "\n",
      "end of do-file\n",
      "r(601);\n"
     ]
    }
   ],
   "source": [
    "%%stata\n",
    "use http://www.ats.ucla.edu/stat/stata/notes/hsb2, clear\n",
    "graph twoway scatter read math, name(a, replace) title(\"Graph a\")\n",
    "\n",
    "graph twoway scatter math science, name(b, replace) title(\"Graph b\")"
   ]
  },
  {
   "cell_type": "code",
   "execution_count": 19,
   "metadata": {
    "ExecuteTime": {
     "end_time": "2018-01-05T23:27:39.392345Z",
     "start_time": "2018-01-05T23:27:38.373943Z"
    }
   },
   "outputs": [
    {
     "name": "stdout",
     "output_type": "stream",
     "text": [
      ". forv i=1(1)1e5 {\n",
      "  2.     if mod(`i', 1e5) == 0 {\n",
      "  3.         di %7.0f `i'\n",
      "  4.     }\n",
      "  5. }%%stata\n",
      "program error:  code follows on the same line as close brace\n",
      "r(198);\n",
      "\n"
     ]
    }
   ],
   "source": [
    "%%stata \n",
    "forv i=1(1)1e5 {\n",
    "    if mod(`i', 1e5) == 0 {\n",
    "        di %7.0f `i'\n",
    "    }\n",
    "}\n",
    "           "
   ]
  },
  {
   "cell_type": "code",
   "execution_count": 22,
   "metadata": {
    "ExecuteTime": {
     "end_time": "2018-01-05T23:28:33.073105Z",
     "start_time": "2018-01-05T23:28:32.050745Z"
    }
   },
   "outputs": [
    {
     "name": "stdout",
     "output_type": "stream",
     "text": [
      "\n",
      "    Variable |        Obs        Mean    Std. Dev.       Min        Max\n",
      "-------------+---------------------------------------------------------\n",
      "      weight |         74    3019.459    777.1936       1760       4840\n",
      "         mpg |         74     21.2973    5.785503         12         41\n",
      "\n"
     ]
    }
   ],
   "source": [
    "%%stata \n",
    "summ weight mpg "
   ]
  },
  {
   "cell_type": "code",
   "execution_count": 24,
   "metadata": {
    "ExecuteTime": {
     "end_time": "2018-01-05T23:28:43.710610Z",
     "start_time": "2018-01-05T23:28:42.691499Z"
    }
   },
   "outputs": [
    {
     "name": "stdout",
     "output_type": "stream",
     "text": [
      "\n",
      "    Variable |        Obs        Mean    Std. Dev.       Min        Max\n",
      "-------------+---------------------------------------------------------\n",
      "        make |          0\n",
      "       price |         74    6165.257    2949.496       3291      15906\n",
      "         mpg |         74     21.2973    5.785503         12         41\n",
      "       rep78 |         69    3.405797    .9899323          1          5\n",
      "    headroom |         74    2.993243    .8459948        1.5          5\n",
      "-------------+---------------------------------------------------------\n",
      "       trunk |         74    13.75676    4.277404          5         23\n",
      "      weight |         74    3019.459    777.1936       1760       4840\n",
      "      length |         74    187.9324    22.26634        142        233\n",
      "        turn |         74    39.64865    4.399354         31         51\n",
      "displacement |         74    197.2973    91.83722         79        425\n",
      "-------------+---------------------------------------------------------\n",
      "  gear_ratio |         74    3.014865    .4562871       2.19       3.89\n",
      "     foreign |         74    .2972973    .4601885          0          1\n",
      "\n"
     ]
    }
   ],
   "source": [
    "%%stata \n",
    "summ"
   ]
  },
  {
   "cell_type": "code",
   "execution_count": 26,
   "metadata": {
    "ExecuteTime": {
     "end_time": "2018-01-05T23:28:59.211743Z",
     "start_time": "2018-01-05T23:28:58.166110Z"
    }
   },
   "outputs": [
    {
     "name": "stdout",
     "output_type": "stream",
     "text": [
      "% is not a valid command name\n",
      "r(199);\n",
      "\n",
      "} is not a valid command name\n",
      "r(199);\n",
      "\n"
     ]
    }
   ],
   "source": [
    "%%stata \n",
    "%%mata\n",
    "\n",
    "for (i=1; i<10; i++) {\n",
    "    i\n",
    "}"
   ]
  },
  {
   "cell_type": "code",
   "execution_count": null,
   "metadata": {},
   "outputs": [],
   "source": []
  }
 ],
 "metadata": {
  "kernelspec": {
   "display_name": "Python 3",
   "language": "python",
   "name": "python3"
  },
  "language_info": {
   "codemirror_mode": {
    "name": "ipython",
    "version": 3
   },
   "file_extension": ".py",
   "mimetype": "text/x-python",
   "name": "python",
   "nbconvert_exporter": "python",
   "pygments_lexer": "ipython3",
   "version": "3.6.3"
  }
 },
 "nbformat": 4,
 "nbformat_minor": 2
}
