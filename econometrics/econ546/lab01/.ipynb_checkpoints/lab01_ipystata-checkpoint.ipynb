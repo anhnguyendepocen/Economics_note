{
 "cells": [
  {
   "cell_type": "code",
   "execution_count": 1,
   "metadata": {
    "ExecuteTime": {
     "end_time": "2018-01-05T23:46:29.487487Z",
     "start_time": "2018-01-05T23:46:29.483460Z"
    }
   },
   "outputs": [],
   "source": [
    "# # Install a pip package in the current Jupyter kernel\n",
    "# import sys\n",
    "# !{sys.executable} -m pip install ipystata pypiwin32 \n",
    "# http://nbviewer.jupyter.org/github/TiesdeKok/ipystata/blob/master/ipystata/Example.ipynb"
   ]
  },
  {
   "cell_type": "code",
   "execution_count": 2,
   "metadata": {
    "ExecuteTime": {
     "end_time": "2018-01-05T23:46:30.120841Z",
     "start_time": "2018-01-05T23:46:30.118820Z"
    }
   },
   "outputs": [],
   "source": [
    "# # Install a conda package in the current Jupyter kernel\n",
    "# import sys\n",
    "# !conda install --yes --prefix {sys.prefix} pywin32 psutil"
   ]
  },
  {
   "cell_type": "code",
   "execution_count": 15,
   "metadata": {
    "ExecuteTime": {
     "end_time": "2018-01-05T23:48:13.407382Z",
     "start_time": "2018-01-05T23:48:13.397372Z"
    }
   },
   "outputs": [],
   "source": [
    "import ipystata  \n",
    "from ipystata.config import config_stata  \n",
    "config_stata('C:\\Program Files (x86)\\Stata14\\StataMP.exe', force_batch=True)\n",
    "#https://github.com/TiesdeKok/ipystata\n",
    "#http://dev-ii-seminar.readthedocs.io/en/latest/notebooks/Stata_in_jupyter.html"
   ]
  },
  {
   "cell_type": "code",
   "execution_count": 13,
   "metadata": {
    "ExecuteTime": {
     "end_time": "2018-01-05T23:47:59.869155Z",
     "start_time": "2018-01-05T23:47:59.864169Z"
    }
   },
   "outputs": [
    {
     "data": {
      "text/plain": [
       "'Failed to open Stata'"
      ]
     },
     "execution_count": 13,
     "metadata": {},
     "output_type": "execute_result"
    }
   ],
   "source": [
    "%%stata  \n",
    "display \"Hello, I am printed in Stata.\"  "
   ]
  },
  {
   "cell_type": "code",
   "execution_count": 14,
   "metadata": {
    "ExecuteTime": {
     "end_time": "2018-01-05T23:48:00.769192Z",
     "start_time": "2018-01-05T23:48:00.761148Z"
    }
   },
   "outputs": [
    {
     "data": {
      "text/plain": [
       "'Failed to open Stata'"
      ]
     },
     "execution_count": 14,
     "metadata": {},
     "output_type": "execute_result"
    }
   ],
   "source": [
    "%%stata \n",
    "log off\n",
    "log using 546lab1jd"
   ]
  },
  {
   "cell_type": "code",
   "execution_count": 36,
   "metadata": {
    "ExecuteTime": {
     "end_time": "2018-01-05T23:42:49.593242Z",
     "start_time": "2018-01-05T23:42:48.580729Z"
    }
   },
   "outputs": [
    {
     "name": "stdout",
     "output_type": "stream",
     "text": [
      "file lab01\\546lab1.dta not found\n",
      "r(601);\n",
      "\n"
     ]
    }
   ],
   "source": [
    "%%stata \n",
    "use \"lab01\\546lab1.dta\""
   ]
  },
  {
   "cell_type": "code",
   "execution_count": null,
   "metadata": {},
   "outputs": [],
   "source": []
  },
  {
   "cell_type": "code",
   "execution_count": 17,
   "metadata": {
    "ExecuteTime": {
     "end_time": "2018-01-05T23:27:26.524482Z",
     "start_time": "2018-01-05T23:27:25.508091Z"
    }
   },
   "outputs": [
    {
     "name": "stdout",
     "output_type": "stream",
     "text": [
      "(1978 Automobile Data)\n",
      "\n"
     ]
    }
   ],
   "source": [
    "%%stata \n",
    "sysuse auto"
   ]
  },
  {
   "cell_type": "code",
   "execution_count": 19,
   "metadata": {
    "ExecuteTime": {
     "end_time": "2018-01-05T23:27:39.392345Z",
     "start_time": "2018-01-05T23:27:38.373943Z"
    }
   },
   "outputs": [
    {
     "name": "stdout",
     "output_type": "stream",
     "text": [
      ". forv i=1(1)1e5 {\n",
      "  2.     if mod(`i', 1e5) == 0 {\n",
      "  3.         di %7.0f `i'\n",
      "  4.     }\n",
      "  5. }%%stata\n",
      "program error:  code follows on the same line as close brace\n",
      "r(198);\n",
      "\n"
     ]
    }
   ],
   "source": [
    "%%stata \n",
    "forv i=1(1)1e5 {\n",
    "    if mod(`i', 1e5) == 0 {\n",
    "        di %7.0f `i'\n",
    "    }\n",
    "}\n",
    "           "
   ]
  },
  {
   "cell_type": "code",
   "execution_count": 22,
   "metadata": {
    "ExecuteTime": {
     "end_time": "2018-01-05T23:28:33.073105Z",
     "start_time": "2018-01-05T23:28:32.050745Z"
    }
   },
   "outputs": [
    {
     "name": "stdout",
     "output_type": "stream",
     "text": [
      "\n",
      "    Variable |        Obs        Mean    Std. Dev.       Min        Max\n",
      "-------------+---------------------------------------------------------\n",
      "      weight |         74    3019.459    777.1936       1760       4840\n",
      "         mpg |         74     21.2973    5.785503         12         41\n",
      "\n"
     ]
    }
   ],
   "source": [
    "%%stata \n",
    "summ weight mpg "
   ]
  },
  {
   "cell_type": "code",
   "execution_count": 24,
   "metadata": {
    "ExecuteTime": {
     "end_time": "2018-01-05T23:28:43.710610Z",
     "start_time": "2018-01-05T23:28:42.691499Z"
    }
   },
   "outputs": [
    {
     "name": "stdout",
     "output_type": "stream",
     "text": [
      "\n",
      "    Variable |        Obs        Mean    Std. Dev.       Min        Max\n",
      "-------------+---------------------------------------------------------\n",
      "        make |          0\n",
      "       price |         74    6165.257    2949.496       3291      15906\n",
      "         mpg |         74     21.2973    5.785503         12         41\n",
      "       rep78 |         69    3.405797    .9899323          1          5\n",
      "    headroom |         74    2.993243    .8459948        1.5          5\n",
      "-------------+---------------------------------------------------------\n",
      "       trunk |         74    13.75676    4.277404          5         23\n",
      "      weight |         74    3019.459    777.1936       1760       4840\n",
      "      length |         74    187.9324    22.26634        142        233\n",
      "        turn |         74    39.64865    4.399354         31         51\n",
      "displacement |         74    197.2973    91.83722         79        425\n",
      "-------------+---------------------------------------------------------\n",
      "  gear_ratio |         74    3.014865    .4562871       2.19       3.89\n",
      "     foreign |         74    .2972973    .4601885          0          1\n",
      "\n"
     ]
    }
   ],
   "source": [
    "%%stata \n",
    "summ"
   ]
  },
  {
   "cell_type": "code",
   "execution_count": 26,
   "metadata": {
    "ExecuteTime": {
     "end_time": "2018-01-05T23:28:59.211743Z",
     "start_time": "2018-01-05T23:28:58.166110Z"
    }
   },
   "outputs": [
    {
     "name": "stdout",
     "output_type": "stream",
     "text": [
      "% is not a valid command name\n",
      "r(199);\n",
      "\n",
      "} is not a valid command name\n",
      "r(199);\n",
      "\n"
     ]
    }
   ],
   "source": [
    "%%stata \n",
    "%%mata\n",
    "\n",
    "for (i=1; i<10; i++) {\n",
    "    i\n",
    "}"
   ]
  },
  {
   "cell_type": "code",
   "execution_count": null,
   "metadata": {},
   "outputs": [],
   "source": []
  }
 ],
 "metadata": {
  "kernelspec": {
   "display_name": "Python 3",
   "language": "python",
   "name": "python3"
  },
  "language_info": {
   "codemirror_mode": {
    "name": "ipython",
    "version": 3
   },
   "file_extension": ".py",
   "mimetype": "text/x-python",
   "name": "python",
   "nbconvert_exporter": "python",
   "pygments_lexer": "ipython3",
   "version": "3.6.3"
  }
 },
 "nbformat": 4,
 "nbformat_minor": 2
}
