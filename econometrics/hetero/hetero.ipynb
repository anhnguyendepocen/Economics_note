{
 "cells": [
  {
   "cell_type": "code",
   "execution_count": null,
   "metadata": {
    "collapsed": true
   },
   "outputs": [],
   "source": []
  },
  {
   "cell_type": "code",
   "execution_count": 1,
   "metadata": {
    "collapsed": false
   },
   "outputs": [
    {
     "name": "stderr",
     "output_type": "stream",
     "text": [
      "Loading required package: zoo\n",
      "\n",
      "Attaching package: 'zoo'\n",
      "\n",
      "The following objects are masked from 'package:base':\n",
      "\n",
      "    as.Date, as.Date.numeric\n",
      "\n"
     ]
    },
    {
     "data": {
      "text/plain": [
       "\n",
       "t test of coefficients:\n",
       "\n",
       "               Estimate  Std. Error t value  Pr(>|t|)    \n",
       "(Intercept)  1.47006477  0.22980308  6.3971 4.942e-10 ***\n",
       "sat          0.00114073  0.00017856  6.3885 5.197e-10 ***\n",
       "hsperc      -0.00856636  0.00124042 -6.9060 2.275e-11 ***\n",
       "tothrs       0.00250400  0.00073099  3.4255 0.0006847 ***\n",
       "female       0.30343329  0.05902033  5.1412 4.497e-07 ***\n",
       "black       -0.12828369  0.14737012 -0.8705 0.3846163    \n",
       "white       -0.05872173  0.14098956 -0.4165 0.6772953    \n",
       "---\n",
       "Signif. codes:  0 '***' 0.001 '**' 0.01 '*' 0.05 '.' 0.1 ' ' 1\n"
      ]
     },
     "execution_count": 1,
     "metadata": {},
     "output_type": "execute_result"
    },
    {
     "data": {
      "text/plain": [
       "\n",
       "t test of coefficients:\n",
       "\n",
       "               Estimate  Std. Error t value  Pr(>|t|)    \n",
       "(Intercept)  1.47006477  0.22938036  6.4089 4.611e-10 ***\n",
       "sat          0.00114073  0.00019532  5.8402 1.169e-08 ***\n",
       "hsperc      -0.00856636  0.00144359 -5.9341 6.963e-09 ***\n",
       "tothrs       0.00250400  0.00074930  3.3418   0.00092 ***\n",
       "female       0.30343329  0.06003964  5.0539 6.911e-07 ***\n",
       "black       -0.12828369  0.12818828 -1.0007   0.31762    \n",
       "white       -0.05872173  0.12043522 -0.4876   0.62615    \n",
       "---\n",
       "Signif. codes:  0 '***' 0.001 '**' 0.01 '*' 0.05 '.' 0.1 ' ' 1\n"
      ]
     },
     "execution_count": 1,
     "metadata": {},
     "output_type": "execute_result"
    }
   ],
   "source": [
    "library(foreign)\n",
    "gpa3 <- read.dta(\"http://fmwww.bc.edu/ec-p/data/wooldridge/gpa3.dta\")\n",
    "\n",
    "# load packages (which need to be installed!)\n",
    "library(lmtest); library(car)\n",
    "\n",
    "# Estimate model (only for spring data)\n",
    "reg <- lm(cumgpa~sat+hsperc+tothrs+female+black+white, \n",
    "                                     data=gpa3, subset=(spring==1))\n",
    "\n",
    "\n"
   ]
  },
  {
   "cell_type": "code",
   "execution_count": 2,
   "metadata": {
    "collapsed": false
   },
   "outputs": [
    {
     "data": {
      "text/plain": [
       "\n",
       "t test of coefficients:\n",
       "\n",
       "               Estimate  Std. Error t value  Pr(>|t|)    \n",
       "(Intercept)  1.47006477  0.22980308  6.3971 4.942e-10 ***\n",
       "sat          0.00114073  0.00017856  6.3885 5.197e-10 ***\n",
       "hsperc      -0.00856636  0.00124042 -6.9060 2.275e-11 ***\n",
       "tothrs       0.00250400  0.00073099  3.4255 0.0006847 ***\n",
       "female       0.30343329  0.05902033  5.1412 4.497e-07 ***\n",
       "black       -0.12828369  0.14737012 -0.8705 0.3846163    \n",
       "white       -0.05872173  0.14098956 -0.4165 0.6772953    \n",
       "---\n",
       "Signif. codes:  0 '***' 0.001 '**' 0.01 '*' 0.05 '.' 0.1 ' ' 1\n"
      ]
     },
     "execution_count": 2,
     "metadata": {},
     "output_type": "execute_result"
    }
   ],
   "source": [
    "# Usual SE:\n",
    "coeftest(reg)"
   ]
  },
  {
   "cell_type": "code",
   "execution_count": 3,
   "metadata": {
    "collapsed": false
   },
   "outputs": [
    {
     "data": {
      "text/plain": [
       "\n",
       "t test of coefficients:\n",
       "\n",
       "               Estimate  Std. Error t value  Pr(>|t|)    \n",
       "(Intercept)  1.47006477  0.22938036  6.4089 4.611e-10 ***\n",
       "sat          0.00114073  0.00019532  5.8402 1.169e-08 ***\n",
       "hsperc      -0.00856636  0.00144359 -5.9341 6.963e-09 ***\n",
       "tothrs       0.00250400  0.00074930  3.3418   0.00092 ***\n",
       "female       0.30343329  0.06003964  5.0539 6.911e-07 ***\n",
       "black       -0.12828369  0.12818828 -1.0007   0.31762    \n",
       "white       -0.05872173  0.12043522 -0.4876   0.62615    \n",
       "---\n",
       "Signif. codes:  0 '***' 0.001 '**' 0.01 '*' 0.05 '.' 0.1 ' ' 1\n"
      ]
     },
     "execution_count": 3,
     "metadata": {},
     "output_type": "execute_result"
    }
   ],
   "source": [
    "# Refined White heteroscedasticity-robust SE:\n",
    "coeftest(reg, vcov=hccm)"
   ]
  },
  {
   "cell_type": "markdown",
   "metadata": {},
   "source": [
    "### Robust test"
   ]
  },
  {
   "cell_type": "code",
   "execution_count": 4,
   "metadata": {
    "collapsed": false
   },
   "outputs": [
    {
     "data": {
      "text/html": [
       "<table>\n",
       "<thead><tr><th></th><th scope=col>Res.Df</th><th scope=col>RSS</th><th scope=col>Df</th><th scope=col>Sum of Sq</th><th scope=col>F</th><th scope=col>Pr(>F)</th></tr></thead>\n",
       "<tbody>\n",
       "\t<tr><th scope=row>1</th><td>361</td><td>79.36167</td><td>NA</td><td>NA</td><td>NA</td><td>NA</td></tr>\n",
       "\t<tr><th scope=row>2</th><td>359</td><td>79.06233</td><td>2</td><td>0.2993375</td><td>0.6796042</td><td>0.5074684</td></tr>\n",
       "</tbody>\n",
       "</table>\n"
      ],
      "text/latex": [
       "\\begin{tabular}{r|llllll}\n",
       "  & Res.Df & RSS & Df & Sum of Sq & F & Pr(>F)\\\\\n",
       "\\hline\n",
       "\t1 & 361 & 79.36167 & NA & NA & NA & NA\\\\\n",
       "\t2 & 359 & 79.06233 & 2 & 0.2993375 & 0.6796042 & 0.5074684\\\\\n",
       "\\end{tabular}\n"
      ],
      "text/plain": [
       "Linear hypothesis test\n",
       "\n",
       "Hypothesis:\n",
       "black = 0\n",
       "white = 0\n",
       "\n",
       "Model 1: restricted model\n",
       "Model 2: cumgpa ~ sat + hsperc + tothrs + female + black + white\n",
       "\n",
       "  Res.Df    RSS Df Sum of Sq      F Pr(>F)\n",
       "1    361 79.362                           \n",
       "2    359 79.062  2   0.29934 0.6796 0.5075"
      ]
     },
     "execution_count": 4,
     "metadata": {},
     "output_type": "execute_result"
    }
   ],
   "source": [
    "# F-Tests using different variance-covariance formulas:\n",
    "myH0 <- c(\"black\",\"white\")\n",
    "# Ususal VCOV\n",
    "linearHypothesis(reg, myH0)\n"
   ]
  },
  {
   "cell_type": "code",
   "execution_count": 5,
   "metadata": {
    "collapsed": false
   },
   "outputs": [
    {
     "data": {
      "text/html": [
       "<table>\n",
       "<thead><tr><th></th><th scope=col>Res.Df</th><th scope=col>Df</th><th scope=col>F</th><th scope=col>Pr(>F)</th></tr></thead>\n",
       "<tbody>\n",
       "\t<tr><th scope=row>1</th><td>361</td><td>NA</td><td>NA</td><td>NA</td></tr>\n",
       "\t<tr><th scope=row>2</th><td>359</td><td>2</td><td>0.6724693</td><td>0.5110884</td></tr>\n",
       "</tbody>\n",
       "</table>\n"
      ],
      "text/latex": [
       "\\begin{tabular}{r|llll}\n",
       "  & Res.Df & Df & F & Pr(>F)\\\\\n",
       "\\hline\n",
       "\t1 & 361 & NA & NA & NA\\\\\n",
       "\t2 & 359 & 2 & 0.6724693 & 0.5110884\\\\\n",
       "\\end{tabular}\n"
      ],
      "text/plain": [
       "Linear hypothesis test\n",
       "\n",
       "Hypothesis:\n",
       "black = 0\n",
       "white = 0\n",
       "\n",
       "Model 1: restricted model\n",
       "Model 2: cumgpa ~ sat + hsperc + tothrs + female + black + white\n",
       "\n",
       "Note: Coefficient covariance matrix supplied.\n",
       "\n",
       "  Res.Df Df      F Pr(>F)\n",
       "1    361                 \n",
       "2    359  2 0.6725 0.5111"
      ]
     },
     "execution_count": 5,
     "metadata": {},
     "output_type": "execute_result"
    }
   ],
   "source": [
    "# Refined White VCOV\n",
    "linearHypothesis(reg, myH0, vcov=hccm)\n",
    "\n"
   ]
  },
  {
   "cell_type": "code",
   "execution_count": 6,
   "metadata": {
    "collapsed": false
   },
   "outputs": [
    {
     "data": {
      "text/html": [
       "<table>\n",
       "<thead><tr><th></th><th scope=col>Res.Df</th><th scope=col>Df</th><th scope=col>F</th><th scope=col>Pr(>F)</th></tr></thead>\n",
       "<tbody>\n",
       "\t<tr><th scope=row>1</th><td>361</td><td>NA</td><td>NA</td><td>NA</td></tr>\n",
       "\t<tr><th scope=row>2</th><td>359</td><td>2</td><td>0.747797</td><td>0.4741443</td></tr>\n",
       "</tbody>\n",
       "</table>\n"
      ],
      "text/latex": [
       "\\begin{tabular}{r|llll}\n",
       "  & Res.Df & Df & F & Pr(>F)\\\\\n",
       "\\hline\n",
       "\t1 & 361 & NA & NA & NA\\\\\n",
       "\t2 & 359 & 2 & 0.747797 & 0.4741443\\\\\n",
       "\\end{tabular}\n"
      ],
      "text/plain": [
       "Linear hypothesis test\n",
       "\n",
       "Hypothesis:\n",
       "black = 0\n",
       "white = 0\n",
       "\n",
       "Model 1: restricted model\n",
       "Model 2: cumgpa ~ sat + hsperc + tothrs + female + black + white\n",
       "\n",
       "Note: Coefficient covariance matrix supplied.\n",
       "\n",
       "  Res.Df Df      F Pr(>F)\n",
       "1    361                 \n",
       "2    359  2 0.7478 0.4741"
      ]
     },
     "execution_count": 6,
     "metadata": {},
     "output_type": "execute_result"
    }
   ],
   "source": [
    "# Classical White VCOV\n",
    "linearHypothesis(reg, myH0, vcov=hccm(reg,type=\"hc0\"))"
   ]
  },
  {
   "cell_type": "code",
   "execution_count": 7,
   "metadata": {
    "collapsed": true
   },
   "outputs": [],
   "source": [
    "## "
   ]
  },
  {
   "cell_type": "code",
   "execution_count": 8,
   "metadata": {
    "collapsed": false
   },
   "outputs": [
    {
     "data": {
      "text/plain": [
       "\n",
       "Call:\n",
       "lm(formula = log(price) ~ log(lotsize) + log(sqrft) + bdrms, \n",
       "    data = hprice1)\n",
       "\n",
       "Coefficients:\n",
       " (Intercept)  log(lotsize)    log(sqrft)         bdrms  \n",
       "    -1.29704       0.16797       0.70023       0.03696  \n"
      ]
     },
     "execution_count": 8,
     "metadata": {},
     "output_type": "execute_result"
    }
   ],
   "source": [
    "library(foreign)\n",
    "hprice1<-read.dta(\"http://fmwww.bc.edu/ec-p/data/wooldridge/hprice1.dta\")\n",
    "\n",
    "# Estimate model\n",
    "reg <- lm(log(price)~log(lotsize)+log(sqrft)+bdrms, data=hprice1)\n",
    "reg\n"
   ]
  },
  {
   "cell_type": "code",
   "execution_count": 11,
   "metadata": {
    "collapsed": false
   },
   "outputs": [
    {
     "data": {
      "text/plain": [
       "\n",
       "Call:\n",
       "lm(formula = resid(reg)^2 ~ lotsize + sqrft + bdrms, data = hprice1)\n",
       "\n",
       "Residuals:\n",
       "     Min       1Q   Median       3Q      Max \n",
       "-0.05158 -0.03074 -0.02000  0.00465  0.41545 \n",
       "\n",
       "Coefficients:\n",
       "              Estimate Std. Error t value Pr(>|t|)  \n",
       "(Intercept)  3.073e-02  3.618e-02   0.849   0.3980  \n",
       "lotsize      3.469e-08  7.881e-07   0.044   0.9650  \n",
       "sqrft       -2.791e-05  1.625e-05  -1.718   0.0894 .\n",
       "bdrms        1.617e-02  1.106e-02   1.462   0.1474  \n",
       "---\n",
       "Signif. codes:  0 '***' 0.001 '**' 0.01 '*' 0.05 '.' 0.1 ' ' 1\n",
       "\n",
       "Residual standard error: 0.07343 on 84 degrees of freedom\n",
       "Multiple R-squared:  0.03895,\tAdjusted R-squared:  0.00463 \n",
       "F-statistic: 1.135 on 3 and 84 DF,  p-value: 0.3398\n"
      ]
     },
     "execution_count": 11,
     "metadata": {},
     "output_type": "execute_result"
    }
   ],
   "source": [
    "# Manual regression of squared residuals \n",
    "summary(lm( resid(reg)^2 ~ lotsize+sqrft+bdrms, data=hprice1))\n"
   ]
  },
  {
   "cell_type": "code",
   "execution_count": 9,
   "metadata": {
    "collapsed": false
   },
   "outputs": [
    {
     "data": {
      "text/plain": [
       "\n",
       "\tstudentized Breusch-Pagan test\n",
       "\n",
       "data:  reg\n",
       "BP = 4.2232, df = 3, p-value = 0.2383\n"
      ]
     },
     "execution_count": 9,
     "metadata": {},
     "output_type": "execute_result"
    }
   ],
   "source": [
    "# BP test\n",
    "library(lmtest)\n",
    "bptest(reg)\n",
    "\n",
    "\n"
   ]
  },
  {
   "cell_type": "code",
   "execution_count": 10,
   "metadata": {
    "collapsed": false
   },
   "outputs": [
    {
     "data": {
      "text/plain": [
       "\n",
       "\tstudentized Breusch-Pagan test\n",
       "\n",
       "data:  reg\n",
       "BP = 3.4473, df = 2, p-value = 0.1784\n"
      ]
     },
     "execution_count": 10,
     "metadata": {},
     "output_type": "execute_result"
    }
   ],
   "source": [
    "# White test\n",
    "bptest(reg, ~ fitted(reg) + I(fitted(reg)^2) )"
   ]
  },
  {
   "cell_type": "markdown",
   "metadata": {},
   "source": [
    "### WLS GLS"
   ]
  },
  {
   "cell_type": "code",
   "execution_count": 12,
   "metadata": {
    "collapsed": false
   },
   "outputs": [
    {
     "data": {
      "text/plain": [
       "\n",
       "Call:\n",
       "lm(formula = nettfa ~ inc + I((age - 25)^2) + male + e401k, data = d401k, \n",
       "    subset = (fsize == 1))\n",
       "\n",
       "Coefficients:\n",
       "    (Intercept)              inc  I((age - 25)^2)             male  \n",
       "      -20.98499          0.77058          0.02513          2.47793  \n",
       "          e401k  \n",
       "        6.88622  \n"
      ]
     },
     "execution_count": 12,
     "metadata": {},
     "output_type": "execute_result"
    }
   ],
   "source": [
    "library(foreign)\n",
    "d401k<-read.dta(\"http://fmwww.bc.edu/ec-p/data/wooldridge/401ksubs.dta\")\n",
    "\n",
    "# OLS (only for singles: fsize==1)\n",
    "lm(nettfa ~ inc + I((age-25)^2) + male + e401k, \n",
    "                                         data=d401k, subset=(fsize==1))\n",
    "\n",
    "\n"
   ]
  },
  {
   "cell_type": "code",
   "execution_count": 13,
   "metadata": {
    "collapsed": false
   },
   "outputs": [
    {
     "data": {
      "text/plain": [
       "\n",
       "Call:\n",
       "lm(formula = nettfa ~ inc + I((age - 25)^2) + male + e401k, data = d401k, \n",
       "    subset = (fsize == 1), weights = 1/inc)\n",
       "\n",
       "Coefficients:\n",
       "    (Intercept)              inc  I((age - 25)^2)             male  \n",
       "      -16.70252          0.74038          0.01754          1.84053  \n",
       "          e401k  \n",
       "        5.18828  \n"
      ]
     },
     "execution_count": 13,
     "metadata": {},
     "output_type": "execute_result"
    }
   ],
   "source": [
    "# WLS\n",
    "lm(nettfa ~ inc + I((age-25)^2) + male + e401k, weight=1/inc, \n",
    "                                         data=d401k, subset=(fsize==1))"
   ]
  },
  {
   "cell_type": "code",
   "execution_count": null,
   "metadata": {
    "collapsed": true
   },
   "outputs": [],
   "source": []
  },
  {
   "cell_type": "markdown",
   "metadata": {},
   "source": [
    "### FGLS: estimation of the variance function"
   ]
  },
  {
   "cell_type": "code",
   "execution_count": 14,
   "metadata": {
    "collapsed": false
   },
   "outputs": [
    {
     "data": {
      "text/plain": [
       "\n",
       "Call:\n",
       "lm(formula = cigs ~ log(income) + log(cigpric) + educ + age + \n",
       "    I(age^2) + restaurn, data = smoke)\n",
       "\n",
       "Coefficients:\n",
       " (Intercept)   log(income)  log(cigpric)          educ           age  \n",
       "   -3.639826      0.880268     -0.750862     -0.501498      0.770694  \n",
       "    I(age^2)      restaurn  \n",
       "   -0.009023     -2.825085  \n"
      ]
     },
     "execution_count": 14,
     "metadata": {},
     "output_type": "execute_result"
    }
   ],
   "source": [
    "library(foreign)\n",
    "smoke <- read.dta(\"http://fmwww.bc.edu/ec-p/data/wooldridge/smoke.dta\")\n",
    "\n",
    "# OLS\n",
    "olsreg<-lm(cigs~log(income)+log(cigpric)+educ+age+I(age^2)+restaurn, \n",
    "                                                            data=smoke)\n",
    "olsreg\n",
    "\n"
   ]
  },
  {
   "cell_type": "code",
   "execution_count": 15,
   "metadata": {
    "collapsed": false
   },
   "outputs": [
    {
     "data": {
      "text/plain": [
       "\n",
       "\tstudentized Breusch-Pagan test\n",
       "\n",
       "data:  olsreg\n",
       "BP = 32.258, df = 6, p-value = 1.456e-05\n"
      ]
     },
     "execution_count": 15,
     "metadata": {},
     "output_type": "execute_result"
    }
   ],
   "source": [
    "# BP test\n",
    "library(lmtest)\n",
    "bptest(olsreg)\n",
    "\n",
    "\n"
   ]
  },
  {
   "cell_type": "code",
   "execution_count": 17,
   "metadata": {
    "collapsed": false
   },
   "outputs": [
    {
     "data": {
      "text/plain": [
       "\n",
       "Call:\n",
       "lm(formula = logu2 ~ log(income) + log(cigpric) + educ + age + \n",
       "    I(age^2) + restaurn, data = smoke)\n",
       "\n",
       "Coefficients:\n",
       " (Intercept)   log(income)  log(cigpric)          educ           age  \n",
       "   -1.920693      0.291540      0.195419     -0.079704      0.204005  \n",
       "    I(age^2)      restaurn  \n",
       "   -0.002392     -0.627011  \n"
      ]
     },
     "execution_count": 17,
     "metadata": {},
     "output_type": "execute_result"
    }
   ],
   "source": [
    "\n",
    "\n",
    "# FGLS: estimation of the variance function\n",
    "logu2 <- log(resid(olsreg)^2)\n",
    "varreg<-lm(logu2~log(income)+log(cigpric)+educ+age+I(age^2)+restaurn, \n",
    "                                                            data=smoke)\n",
    "varreg\n",
    "\n"
   ]
  },
  {
   "cell_type": "code",
   "execution_count": 18,
   "metadata": {
    "collapsed": false
   },
   "outputs": [
    {
     "data": {
      "text/plain": [
       "\n",
       "Call:\n",
       "lm(formula = cigs ~ log(income) + log(cigpric) + educ + age + \n",
       "    I(age^2) + restaurn, data = smoke, weights = w)\n",
       "\n",
       "Coefficients:\n",
       " (Intercept)   log(income)  log(cigpric)          educ           age  \n",
       "    5.635463      1.295239     -2.940312     -0.463446      0.481948  \n",
       "    I(age^2)      restaurn  \n",
       "   -0.005627     -3.461064  \n"
      ]
     },
     "execution_count": 18,
     "metadata": {},
     "output_type": "execute_result"
    }
   ],
   "source": [
    "# FGLS: WLS\n",
    "w <- 1/exp(fitted(varreg))\n",
    "lm(cigs~log(income)+log(cigpric)+educ+age+I(age^2)+restaurn, \n",
    "                                                  weight=w ,data=smoke)"
   ]
  },
  {
   "cell_type": "code",
   "execution_count": null,
   "metadata": {
    "collapsed": true
   },
   "outputs": [],
   "source": []
  },
  {
   "cell_type": "code",
   "execution_count": 19,
   "metadata": {
    "collapsed": false
   },
   "outputs": [
    {
     "data": {
      "text/plain": [
       "\n",
       "Call:\n",
       "lm(formula = nettfa ~ inc + I((age - 25)^2) + male + e401k, data = d401k, \n",
       "    subset = (fsize == 1), weights = 1/inc)\n",
       "\n",
       "Coefficients:\n",
       "    (Intercept)              inc  I((age - 25)^2)             male  \n",
       "      -16.70252          0.74038          0.01754          1.84053  \n",
       "          e401k  \n",
       "        5.18828  \n"
      ]
     },
     "execution_count": 19,
     "metadata": {},
     "output_type": "execute_result"
    }
   ],
   "source": [
    "library(foreign)\n",
    "d401k<-read.dta(\"http://fmwww.bc.edu/ec-p/data/wooldridge/401ksubs.dta\")\n",
    "\n",
    "# WLS\n",
    "wlsreg <- lm(nettfa ~ inc + I((age-25)^2) + male + e401k, \n",
    "                             weight=1/inc, data=d401k, subset=(fsize==1))\n",
    "wlsreg\n",
    "\n"
   ]
  },
  {
   "cell_type": "code",
   "execution_count": 20,
   "metadata": {
    "collapsed": false
   },
   "outputs": [
    {
     "data": {
      "text/plain": [
       "\n",
       "t test of coefficients:\n",
       "\n",
       "                   Estimate  Std. Error t value  Pr(>|t|)    \n",
       "(Intercept)     -16.7025205   2.2482355 -7.4292 1.606e-13 ***\n",
       "inc               0.7403843   0.0752396  9.8403 < 2.2e-16 ***\n",
       "I((age - 25)^2)   0.0175373   0.0025924  6.7650 1.742e-11 ***\n",
       "male              1.8405293   1.3132477  1.4015 0.1612159    \n",
       "e401k             5.1882807   1.5743329  3.2955 0.0009994 ***\n",
       "---\n",
       "Signif. codes:  0 '***' 0.001 '**' 0.01 '*' 0.05 '.' 0.1 ' ' 1\n"
      ]
     },
     "execution_count": 20,
     "metadata": {},
     "output_type": "execute_result"
    }
   ],
   "source": []
  },
  {
   "cell_type": "code",
   "execution_count": 21,
   "metadata": {
    "collapsed": false
   },
   "outputs": [
    {
     "data": {
      "text/plain": [
       "\n",
       "t test of coefficients:\n",
       "\n",
       "                   Estimate  Std. Error t value  Pr(>|t|)    \n",
       "(Intercept)     -16.7025205   1.9579947 -8.5304 < 2.2e-16 ***\n",
       "inc               0.7403843   0.0643029 11.5140 < 2.2e-16 ***\n",
       "I((age - 25)^2)   0.0175373   0.0019315  9.0796 < 2.2e-16 ***\n",
       "male              1.8405293   1.5635872  1.1771  0.239287    \n",
       "e401k             5.1882807   1.7034258  3.0458  0.002351 ** \n",
       "---\n",
       "Signif. codes:  0 '***' 0.001 '**' 0.01 '*' 0.05 '.' 0.1 ' ' 1\n"
      ]
     },
     "execution_count": 21,
     "metadata": {},
     "output_type": "execute_result"
    }
   ],
   "source": [
    "# non-robust results\n",
    "library(lmtest); library(car)\n",
    "coeftest(wlsreg)\n",
    "\n",
    "# robust results (Refined White SE:)"
   ]
  },
  {
   "cell_type": "code",
   "execution_count": 22,
   "metadata": {
    "collapsed": false
   },
   "outputs": [
    {
     "data": {
      "text/plain": [
       "\n",
       "t test of coefficients:\n",
       "\n",
       "                   Estimate  Std. Error t value  Pr(>|t|)    \n",
       "(Intercept)     -16.7025205   2.2482355 -7.4292 1.606e-13 ***\n",
       "inc               0.7403843   0.0752396  9.8403 < 2.2e-16 ***\n",
       "I((age - 25)^2)   0.0175373   0.0025924  6.7650 1.742e-11 ***\n",
       "male              1.8405293   1.3132477  1.4015 0.1612159    \n",
       "e401k             5.1882807   1.5743329  3.2955 0.0009994 ***\n",
       "---\n",
       "Signif. codes:  0 '***' 0.001 '**' 0.01 '*' 0.05 '.' 0.1 ' ' 1\n"
      ]
     },
     "execution_count": 22,
     "metadata": {},
     "output_type": "execute_result"
    }
   ],
   "source": [
    "coeftest(wlsreg,hccm)"
   ]
  },
  {
   "cell_type": "markdown",
   "metadata": {},
   "source": []
  },
  {
   "cell_type": "code",
   "execution_count": null,
   "metadata": {
    "collapsed": true
   },
   "outputs": [],
   "source": [
    "\n"
   ]
  },
  {
   "cell_type": "code",
   "execution_count": null,
   "metadata": {
    "collapsed": true
   },
   "outputs": [],
   "source": [
    "\n"
   ]
  },
  {
   "cell_type": "code",
   "execution_count": null,
   "metadata": {
    "collapsed": true
   },
   "outputs": [],
   "source": []
  },
  {
   "cell_type": "code",
   "execution_count": null,
   "metadata": {
    "collapsed": true
   },
   "outputs": [],
   "source": []
  },
  {
   "cell_type": "code",
   "execution_count": null,
   "metadata": {
    "collapsed": true
   },
   "outputs": [],
   "source": []
  },
  {
   "cell_type": "code",
   "execution_count": null,
   "metadata": {
    "collapsed": true
   },
   "outputs": [],
   "source": []
  },
  {
   "cell_type": "code",
   "execution_count": null,
   "metadata": {
    "collapsed": true
   },
   "outputs": [],
   "source": []
  }
 ],
 "metadata": {
  "kernelspec": {
   "display_name": "R",
   "language": "R",
   "name": "ir"
  },
  "language_info": {
   "codemirror_mode": "r",
   "file_extension": ".r",
   "mimetype": "text/x-r-source",
   "name": "R",
   "pygments_lexer": "r",
   "version": "3.2.4"
  }
 },
 "nbformat": 4,
 "nbformat_minor": 0
}
