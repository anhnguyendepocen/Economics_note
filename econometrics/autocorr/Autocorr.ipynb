{
 "cells": [
  {
   "cell_type": "code",
   "execution_count": null,
   "metadata": {
    "collapsed": true
   },
   "outputs": [],
   "source": [
    "#http://www.urfie.net/read/files/basic-html/page182.html"
   ]
  },
  {
   "cell_type": "code",
   "execution_count": 7,
   "metadata": {
    "collapsed": false
   },
   "outputs": [
    {
     "name": "stdout",
     "output_type": "stream",
     "text": [
      "package 'dynlm' successfully unpacked and MD5 sums checked\n",
      "\n",
      "The downloaded binary packages are in\n",
      "\tC:\\Users\\oldyu_000\\AppData\\Local\\Temp\\RtmpmgFPt5\\downloaded_packages\n"
     ]
    }
   ],
   "source": [
    "install.packages(\"dynlm\",  repos =\"http://cran.rstudio.com\")"
   ]
  },
  {
   "cell_type": "code",
   "execution_count": 8,
   "metadata": {
    "collapsed": false
   },
   "outputs": [
    {
     "data": {
      "text/plain": [
       "\n",
       "Time series regression with \"ts\" data:\n",
       "Start = 1948, End = 1996\n",
       "\n",
       "Call:\n",
       "dynlm(formula = inf ~ unem, data = tsdata, end = 1996)\n",
       "\n",
       "Coefficients:\n",
       "(Intercept)         unem  \n",
       "     1.4236       0.4676  \n"
      ]
     },
     "execution_count": 8,
     "metadata": {},
     "output_type": "execute_result"
    }
   ],
   "source": [
    "library(foreign);library(dynlm);library(lmtest)\n",
    "phillips <- \n",
    "    read.dta(\"http://fmwww.bc.edu/ec-p/data/wooldridge/phillips.dta\")\n",
    "\n",
    "# Define Yearly time series beginning in 1948\n",
    "tsdata <- ts(phillips, start=1948)\n",
    "\n",
    "# Estimation of static Phillips curve:\n",
    "reg.s <- dynlm( inf ~ unem, data=tsdata, end=1996)\n",
    "\n",
    "reg.s"
   ]
  },
  {
   "cell_type": "code",
   "execution_count": 9,
   "metadata": {
    "collapsed": false
   },
   "outputs": [
    {
     "data": {
      "text/plain": [
       "\n",
       "t test of coefficients:\n",
       "\n",
       "              Estimate Std. Error t value  Pr(>|t|)    \n",
       "(Intercept)   -0.11340    0.35940 -0.3155    0.7538    \n",
       "L(residual.s)  0.57297    0.11613  4.9337 1.098e-05 ***\n",
       "---\n",
       "Signif. codes:  0 '***' 0.001 '**' 0.01 '*' 0.05 '.' 0.1 ' ' 1\n"
      ]
     },
     "execution_count": 9,
     "metadata": {},
     "output_type": "execute_result"
    }
   ],
   "source": [
    "# residuals and AR(1) test:\n",
    "residual.s <- resid(reg.s)\n",
    "coeftest( dynlm(residual.s ~ L(residual.s)) )\n",
    "\n"
   ]
  },
  {
   "cell_type": "code",
   "execution_count": 10,
   "metadata": {
    "collapsed": false
   },
   "outputs": [
    {
     "data": {
      "text/plain": [
       "\n",
       "t test of coefficients:\n",
       "\n",
       "                Estimate Std. Error t value Pr(>|t|)\n",
       "(Intercept)     0.194166   0.300384  0.6464   0.5213\n",
       "L(residual.ea) -0.035593   0.123891 -0.2873   0.7752\n"
      ]
     },
     "execution_count": 10,
     "metadata": {},
     "output_type": "execute_result"
    }
   ],
   "source": [
    "# Same with expectations-augmented Phillips curve:\n",
    "reg.ea <- dynlm( d(inf) ~ unem, data=tsdata, end=1996)\n",
    "residual.ea <- resid(reg.ea)\n",
    "coeftest( dynlm(residual.ea ~ L(residual.ea)) )"
   ]
  },
  {
   "cell_type": "code",
   "execution_count": null,
   "metadata": {
    "collapsed": true
   },
   "outputs": [],
   "source": []
  },
  {
   "cell_type": "code",
   "execution_count": 11,
   "metadata": {
    "collapsed": false
   },
   "outputs": [
    {
     "data": {
      "text/plain": [
       "\n",
       "Time series regression with \"ts\" data:\n",
       "Start = 1978(2), End = 1988(12)\n",
       "\n",
       "Call:\n",
       "dynlm(formula = log(chnimp) ~ log(chempi) + log(gas) + log(rtwex) + \n",
       "    befile6 + affile6 + afdec6, data = tsdata)\n",
       "\n",
       "Coefficients:\n",
       "(Intercept)  log(chempi)     log(gas)   log(rtwex)      befile6      affile6  \n",
       "  -17.80277      3.11719      0.19634      0.98302      0.05957     -0.03241  \n",
       "     afdec6  \n",
       "   -0.56524  \n"
      ]
     },
     "execution_count": 11,
     "metadata": {},
     "output_type": "execute_result"
    }
   ],
   "source": [
    "library(foreign);library(dynlm);library(car);library(lmtest)\n",
    "barium<-read.dta(\"http://fmwww.bc.edu/ec-p/data/wooldridge/barium.dta\")\n",
    "\n",
    "tsdata <- ts(barium, start=c(1978,2), frequency=12)\n",
    "\n",
    "reg <- dynlm(log(chnimp)~log(chempi)+log(gas)+log(rtwex)+\n",
    "                                  befile6+affile6+afdec6, data=tsdata )\n",
    "\n",
    "reg"
   ]
  },
  {
   "cell_type": "code",
   "execution_count": 12,
   "metadata": {
    "collapsed": false
   },
   "outputs": [
    {
     "data": {
      "text/html": [
       "<table>\n",
       "<thead><tr><th></th><th scope=col>Res.Df</th><th scope=col>RSS</th><th scope=col>Df</th><th scope=col>Sum of Sq</th><th scope=col>F</th><th scope=col>Pr(>F)</th></tr></thead>\n",
       "<tbody>\n",
       "\t<tr><th scope=row>1</th><td>121</td><td>43.39419</td><td>NA</td><td>NA</td><td>NA</td><td>NA</td></tr>\n",
       "\t<tr><th scope=row>2</th><td>118</td><td>38.39367</td><td>3</td><td>5.000522</td><td>5.122907</td><td>0.002289803</td></tr>\n",
       "</tbody>\n",
       "</table>\n"
      ],
      "text/latex": [
       "\\begin{tabular}{r|llllll}\n",
       "  & Res.Df & RSS & Df & Sum of Sq & F & Pr(>F)\\\\\n",
       "\\hline\n",
       "\t1 & 121 & 43.39419 & NA & NA & NA & NA\\\\\n",
       "\t2 & 118 & 38.39367 & 3 & 5.000522 & 5.122907 & 0.002289803\\\\\n",
       "\\end{tabular}\n"
      ],
      "text/plain": [
       "Linear hypothesis test\n",
       "\n",
       "Hypothesis:\n",
       "L(residual) = 0\n",
       "L(residual, 2) = 0\n",
       "L(residual, 3) = 0\n",
       "\n",
       "Model 1: restricted model\n",
       "Model 2: residual ~ L(residual) + L(residual, 2) + L(residual, 3) + log(chempi) + \n",
       "    log(gas) + log(rtwex) + befile6 + affile6 + afdec6\n",
       "\n",
       "  Res.Df    RSS Df Sum of Sq      F  Pr(>F)   \n",
       "1    121 43.394                               \n",
       "2    118 38.394  3    5.0005 5.1229 0.00229 **\n",
       "---\n",
       "Signif. codes:  0 '***' 0.001 '**' 0.01 '*' 0.05 '.' 0.1 ' ' 1"
      ]
     },
     "execution_count": 12,
     "metadata": {},
     "output_type": "execute_result"
    }
   ],
   "source": [
    "# Pedestrian test: \n",
    "residual <- resid(reg)\n",
    "resreg <- dynlm(residual ~ L(residual)+L(residual,2)+L(residual,3)+\n",
    "                           log(chempi)+log(gas)+log(rtwex)+befile6+\n",
    "                                          affile6+afdec6, data=tsdata )\n",
    "linearHypothesis(resreg, \n",
    "                 c(\"L(residual)\",\"L(residual, 2)\",\"L(residual, 3)\"))\n",
    "\n"
   ]
  },
  {
   "cell_type": "code",
   "execution_count": 13,
   "metadata": {
    "collapsed": false
   },
   "outputs": [
    {
     "data": {
      "text/plain": [
       "\n",
       "\tBreusch-Godfrey test for serial correlation of order up to 3\n",
       "\n",
       "data:  reg\n",
       "LM test = 5.1247, df1 = 3, df2 = 121, p-value = 0.002264\n"
      ]
     },
     "execution_count": 13,
     "metadata": {},
     "output_type": "execute_result"
    }
   ],
   "source": [
    "\n",
    "# Automatic test:\n",
    "bgtest(reg, order=3, type=\"F\")"
   ]
  },
  {
   "cell_type": "code",
   "execution_count": null,
   "metadata": {
    "collapsed": true
   },
   "outputs": [],
   "source": []
  },
  {
   "cell_type": "code",
   "execution_count": null,
   "metadata": {
    "collapsed": true
   },
   "outputs": [],
   "source": []
  },
  {
   "cell_type": "code",
   "execution_count": null,
   "metadata": {
    "collapsed": true
   },
   "outputs": [],
   "source": []
  },
  {
   "cell_type": "code",
   "execution_count": null,
   "metadata": {
    "collapsed": true
   },
   "outputs": [],
   "source": []
  },
  {
   "cell_type": "code",
   "execution_count": null,
   "metadata": {
    "collapsed": true
   },
   "outputs": [],
   "source": []
  },
  {
   "cell_type": "code",
   "execution_count": null,
   "metadata": {
    "collapsed": true
   },
   "outputs": [],
   "source": []
  },
  {
   "cell_type": "code",
   "execution_count": 1,
   "metadata": {
    "collapsed": false
   },
   "outputs": [
    {
     "data": {
      "text/plain": [
       "\n",
       "Call:\n",
       "lm(formula = price ~ lotsize + sqrft + bdrms, data = hprice1)\n",
       "\n",
       "Coefficients:\n",
       "(Intercept)      lotsize        sqrft        bdrms  \n",
       " -21.770308     0.002068     0.122778    13.852522  \n"
      ]
     },
     "execution_count": 1,
     "metadata": {},
     "output_type": "execute_result"
    }
   ],
   "source": [
    "library(foreign)\n",
    "hprice1<-read.dta(\"http://fmwww.bc.edu/ec-p/data/wooldridge/hprice1.dta\")\n",
    "\n",
    "# Estimate model\n",
    "reg <- lm(price~lotsize+sqrft+bdrms, data=hprice1)\n",
    "reg\n",
    "\n"
   ]
  },
  {
   "cell_type": "code",
   "execution_count": 2,
   "metadata": {
    "collapsed": false
   },
   "outputs": [
    {
     "name": "stderr",
     "output_type": "stream",
     "text": [
      "Loading required package: zoo\n",
      "\n",
      "Attaching package: 'zoo'\n",
      "\n",
      "The following objects are masked from 'package:base':\n",
      "\n",
      "    as.Date, as.Date.numeric\n",
      "\n"
     ]
    },
    {
     "data": {
      "text/plain": [
       "\n",
       "\tstudentized Breusch-Pagan test\n",
       "\n",
       "data:  reg\n",
       "BP = 14.092, df = 3, p-value = 0.002782\n"
      ]
     },
     "execution_count": 2,
     "metadata": {},
     "output_type": "execute_result"
    }
   ],
   "source": [
    "# Automatic BP test\n",
    "library(lmtest)\n",
    "bptest(reg)\n",
    "\n"
   ]
  },
  {
   "cell_type": "code",
   "execution_count": 3,
   "metadata": {
    "collapsed": false
   },
   "outputs": [
    {
     "data": {
      "text/plain": [
       "\n",
       "Call:\n",
       "lm(formula = resid(reg)^2 ~ lotsize + sqrft + bdrms, data = hprice1)\n",
       "\n",
       "Residuals:\n",
       "   Min     1Q Median     3Q    Max \n",
       " -9044  -2212  -1256    -97  42582 \n",
       "\n",
       "Coefficients:\n",
       "              Estimate Std. Error t value Pr(>|t|)   \n",
       "(Intercept) -5.523e+03  3.259e+03  -1.694  0.09390 . \n",
       "lotsize      2.015e-01  7.101e-02   2.838  0.00569 **\n",
       "sqrft        1.691e+00  1.464e+00   1.155  0.25128   \n",
       "bdrms        1.042e+03  9.964e+02   1.046  0.29877   \n",
       "---\n",
       "Signif. codes:  0 '***' 0.001 '**' 0.01 '*' 0.05 '.' 0.1 ' ' 1\n",
       "\n",
       "Residual standard error: 6617 on 84 degrees of freedom\n",
       "Multiple R-squared:  0.1601,\tAdjusted R-squared:  0.1301 \n",
       "F-statistic: 5.339 on 3 and 84 DF,  p-value: 0.002048\n"
      ]
     },
     "execution_count": 3,
     "metadata": {},
     "output_type": "execute_result"
    }
   ],
   "source": [
    "# Manual regression of squared residuals \n",
    "summary(lm( resid(reg)^2 ~ lotsize+sqrft+bdrms, data=hprice1))\n"
   ]
  },
  {
   "cell_type": "code",
   "execution_count": null,
   "metadata": {
    "collapsed": true
   },
   "outputs": [],
   "source": []
  },
  {
   "cell_type": "code",
   "execution_count": 15,
   "metadata": {
    "collapsed": false
   },
   "outputs": [
    {
     "name": "stdout",
     "output_type": "stream",
     "text": [
      "package 'orcutt' successfully unpacked and MD5 sums checked\n",
      "\n",
      "The downloaded binary packages are in\n",
      "\tC:\\Users\\oldyu_000\\AppData\\Local\\Temp\\RtmpmgFPt5\\downloaded_packages\n"
     ]
    }
   ],
   "source": [
    "install.packages(\"orcutt\",repos = \"http://cran.rstudio.com\")"
   ]
  },
  {
   "cell_type": "markdown",
   "metadata": {},
   "source": [
    "### Cochrane-Orcutt estimation"
   ]
  },
  {
   "cell_type": "code",
   "execution_count": 18,
   "metadata": {
    "collapsed": false
   },
   "outputs": [],
   "source": [
    "library(foreign);library(dynlm);library(car);library(orcutt)\n",
    "barium<-read.dta(\"http://fmwww.bc.edu/ec-p/data/wooldridge/barium.dta\")\n",
    "\n",
    "tsdata <- ts(barium, start=c(1978,2), frequency=12)\n",
    "\n",
    "# OLS estimation\n",
    "olsres <- dynlm(log(chnimp)~log(chempi)+log(gas)+log(rtwex)+\n",
    "      befile6+affile6+afdec6, data=tsdata)\n"
   ]
  },
  {
   "cell_type": "code",
   "execution_count": 19,
   "metadata": {
    "collapsed": false
   },
   "outputs": [
    {
     "ename": "ERROR",
     "evalue": "Error in vapply(seq_along(mapped), function(i) {: 值的长度必需为1，\n 但FUN(X[[1]])结果的长度却是0\n",
     "output_type": "error",
     "traceback": [
      "Error in vapply(seq_along(mapped), function(i) {: 值的长度必需为1，\n 但FUN(X[[1]])结果的长度却是0\n"
     ]
    },
    {
     "data": {
      "text/plain": [
       "$Cochrane.Orcutt\n",
       "\n",
       "Call:\n",
       "lm(formula = YB ~ XB - 1)\n",
       "\n",
       "Residuals:\n",
       "    Min      1Q  Median      3Q     Max \n",
       "-2.0103 -0.3955  0.0704  0.3584  1.3511 \n",
       "\n",
       "Coefficients:\n",
       "               Estimate Std. Error t value Pr(>|t|)    \n",
       "XB(Intercept) -37.32224   23.22141  -1.607   0.1106    \n",
       "XBlog(chempi)   2.94743    0.64556   4.566 1.19e-05 ***\n",
       "XBlog(gas)      1.05486    0.99090   1.065   0.2892    \n",
       "XBlog(rtwex)    1.13692    0.51351   2.214   0.0287 *  \n",
       "XBbefile6      -0.01637    0.32072  -0.051   0.9594    \n",
       "XBaffile6      -0.03308    0.32315  -0.102   0.9186    \n",
       "XBafdec6       -0.57716    0.34345  -1.680   0.0954 .  \n",
       "---\n",
       "Signif. codes:  0 '***' 0.001 '**' 0.01 '*' 0.05 '.' 0.1 ' ' 1\n",
       "\n",
       "Residual standard error: 0.5756 on 123 degrees of freedom\n",
       "Multiple R-squared:  0.9839,\tAdjusted R-squared:  0.983 \n",
       "F-statistic:  1075 on 7 and 123 DF,  p-value: < 2.2e-16\n",
       "\n",
       "\n",
       "$rho\n",
       "[1] 0.2933617\n",
       "\n",
       "$number.interaction\n",
       "[1] 8\n"
      ]
     },
     "execution_count": 19,
     "metadata": {},
     "output_type": "execute_result"
    }
   ],
   "source": [
    "# Cochrane-Orcutt estimation\n",
    "cochrane.orcutt(olsres)"
   ]
  },
  {
   "cell_type": "code",
   "execution_count": null,
   "metadata": {
    "collapsed": true
   },
   "outputs": [],
   "source": []
  },
  {
   "cell_type": "markdown",
   "metadata": {},
   "source": [
    "### results with HAC SE"
   ]
  },
  {
   "cell_type": "code",
   "execution_count": 20,
   "metadata": {
    "collapsed": true
   },
   "outputs": [],
   "source": [
    "library(foreign);library(dynlm);library(lmtest);library(sandwich)\n",
    "minwg<-read.dta(\"http://fmwww.bc.edu/ec-p/data/wooldridge/prminwge.dta\")\n",
    "\n",
    "tsdata <- ts(minwg, start=1950)\n",
    "\n",
    "# OLS regression\n",
    "reg<-dynlm(log(prepop)~log(mincov)+log(prgnp)+log(usgnp)+trend(tsdata), \n",
    "                                                          data=tsdata )\n",
    "\n"
   ]
  },
  {
   "cell_type": "code",
   "execution_count": 21,
   "metadata": {
    "collapsed": false
   },
   "outputs": [
    {
     "data": {
      "text/plain": [
       "\n",
       "t test of coefficients:\n",
       "\n",
       "                Estimate Std. Error t value  Pr(>|t|)    \n",
       "(Intercept)   -6.6634416  1.2578286 -5.2976 7.667e-06 ***\n",
       "log(mincov)   -0.2122612  0.0401523 -5.2864 7.924e-06 ***\n",
       "log(prgnp)     0.2852380  0.0804921  3.5437  0.001203 ** \n",
       "log(usgnp)     0.4860482  0.2219825  2.1896  0.035731 *  \n",
       "trend(tsdata) -0.0266633  0.0046267 -5.7629 1.940e-06 ***\n",
       "---\n",
       "Signif. codes:  0 '***' 0.001 '**' 0.01 '*' 0.05 '.' 0.1 ' ' 1\n"
      ]
     },
     "execution_count": 21,
     "metadata": {},
     "output_type": "execute_result"
    },
    {
     "data": {
      "text/plain": [
       "\n",
       "t test of coefficients:\n",
       "\n",
       "                Estimate Std. Error t value  Pr(>|t|)    \n",
       "(Intercept)   -6.6634416  1.6856887 -3.9529 0.0003845 ***\n",
       "log(mincov)   -0.2122612  0.0460683 -4.6075 5.835e-05 ***\n",
       "log(prgnp)     0.2852380  0.1034900  2.7562 0.0094497 ** \n",
       "log(usgnp)     0.4860482  0.3108939  1.5634 0.1275013    \n",
       "trend(tsdata) -0.0266633  0.0054301 -4.9103 2.402e-05 ***\n",
       "---\n",
       "Signif. codes:  0 '***' 0.001 '**' 0.01 '*' 0.05 '.' 0.1 ' ' 1\n"
      ]
     },
     "execution_count": 21,
     "metadata": {},
     "output_type": "execute_result"
    }
   ],
   "source": [
    "# results with usual SE\n",
    "coeftest(reg)\n",
    "# results with HAC SE\n",
    "coeftest(reg, vcovHAC)"
   ]
  },
  {
   "cell_type": "code",
   "execution_count": null,
   "metadata": {
    "collapsed": true
   },
   "outputs": [],
   "source": []
  },
  {
   "cell_type": "code",
   "execution_count": null,
   "metadata": {
    "collapsed": true
   },
   "outputs": [],
   "source": []
  },
  {
   "cell_type": "code",
   "execution_count": null,
   "metadata": {
    "collapsed": true
   },
   "outputs": [],
   "source": []
  },
  {
   "cell_type": "code",
   "execution_count": null,
   "metadata": {
    "collapsed": true
   },
   "outputs": [],
   "source": []
  },
  {
   "cell_type": "code",
   "execution_count": null,
   "metadata": {
    "collapsed": true
   },
   "outputs": [],
   "source": []
  }
 ],
 "metadata": {
  "kernelspec": {
   "display_name": "R",
   "language": "R",
   "name": "ir"
  },
  "language_info": {
   "codemirror_mode": "r",
   "file_extension": ".r",
   "mimetype": "text/x-r-source",
   "name": "R",
   "pygments_lexer": "r",
   "version": "3.2.4"
  }
 },
 "nbformat": 4,
 "nbformat_minor": 0
}
