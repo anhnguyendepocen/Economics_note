{
 "cells": [
  {
   "cell_type": "code",
   "execution_count": null,
   "metadata": {
    "collapsed": true
   },
   "outputs": [],
   "source": []
  },
  {
   "cell_type": "code",
   "execution_count": 2,
   "metadata": {
    "collapsed": true
   },
   "outputs": [],
   "source": [
    "%matplotlib inline\n",
    "import numpy as np\n",
    "import statsmodels.api as sm\n",
    "import matplotlib.pyplot as plt\n",
    "from statsmodels.sandbox.regression.predstd import wls_prediction_std\n",
    "from scipy import stats\n",
    "import pandas as pd\n",
    "from sklearn import svm\n",
    "from sklearn.linear_model import LogisticRegression\n",
    "from statsmodels.base.model import GenericLikelihoodModel"
   ]
  },
  {
   "cell_type": "code",
   "execution_count": null,
   "metadata": {
    "collapsed": true
   },
   "outputs": [],
   "source": []
  },
  {
   "cell_type": "code",
   "execution_count": 3,
   "metadata": {
    "collapsed": false
   },
   "outputs": [],
   "source": [
    "n = 20\n",
    "x = np.linspace(0, 5, n)\n",
    "\n",
    "sigma = 0.3\n",
    "beta = np.array([1, 0.5, -0.02,5])    # real coefficient\n",
    "e = np.random.normal(size=n)\n",
    "X = np.column_stack((x, np.sin(x), (x-3)**2, np.ones(n))) \n",
    "y_true = np.dot(X,beta)\n",
    "y = y_true + e"
   ]
  },
  {
   "cell_type": "code",
   "execution_count": 4,
   "metadata": {
    "collapsed": true
   },
   "outputs": [],
   "source": [
    "#do regression\n",
    "model = sm.OLS(y, X)   #Pick a class. GLS, WLS...\n",
    "results = model.fit()"
   ]
  },
  {
   "cell_type": "code",
   "execution_count": null,
   "metadata": {
    "collapsed": true
   },
   "outputs": [],
   "source": []
  },
  {
   "cell_type": "markdown",
   "metadata": {},
   "source": [
    "We can get the summary of the regression result just like R.\n",
    "\n",
    "* Summary\n",
    "```\n",
    "results.summary()\n",
    "```\n",
    "\n",
    "We can also extract the values that we are interested in.\n",
    "\n",
    "* Coefficients:        ```results.params```\n",
    "* R square: ```results.rsquared```\n",
    "* Fitted values: ```results.fittedvalues```\n",
    "* Predicted values:   ```results.predict()```\n",
    "* Standard errors of each coefficient:  ```results.bse```"
   ]
  },
  {
   "cell_type": "code",
   "execution_count": null,
   "metadata": {
    "collapsed": true
   },
   "outputs": [],
   "source": []
  },
  {
   "cell_type": "code",
   "execution_count": 5,
   "metadata": {
    "collapsed": false
   },
   "outputs": [
    {
     "name": "stdout",
     "output_type": "stream",
     "text": [
      "                            OLS Regression Results                            \n",
      "==============================================================================\n",
      "Dep. Variable:                      y   R-squared:                       0.768\n",
      "Model:                            OLS   Adj. R-squared:                  0.725\n",
      "Method:                 Least Squares   F-statistic:                     17.66\n",
      "Date:                Wed, 08 Jun 2016   Prob (F-statistic):           2.49e-05\n",
      "Time:                        11:07:58   Log-Likelihood:                -22.361\n",
      "No. Observations:                  20   AIC:                             52.72\n",
      "Df Residuals:                      16   BIC:                             56.71\n",
      "Df Model:                           3                                         \n",
      "Covariance Type:            nonrobust                                         \n",
      "==============================================================================\n",
      "                 coef    std err          t      P>|t|      [95.0% Conf. Int.]\n",
      "------------------------------------------------------------------------------\n",
      "x1             0.7865      0.427      1.842      0.084        -0.119     1.692\n",
      "x2             0.0377      0.730      0.052      0.959        -1.510     1.585\n",
      "x3            -0.1027      0.158     -0.649      0.525        -0.438     0.232\n",
      "const          6.3646      1.525      4.175      0.001         3.133     9.597\n",
      "==============================================================================\n",
      "Omnibus:                        0.920   Durbin-Watson:                   1.506\n",
      "Prob(Omnibus):                  0.631   Jarque-Bera (JB):                0.745\n",
      "Skew:                           0.102   Prob(JB):                        0.689\n",
      "Kurtosis:                       2.077   Cond. No.                         37.7\n",
      "==============================================================================\n",
      "\n",
      "Warnings:\n",
      "[1] Standard Errors assume that the covariance matrix of the errors is correctly specified.\n"
     ]
    }
   ],
   "source": [
    "print(results.summary())"
   ]
  },
  {
   "cell_type": "code",
   "execution_count": null,
   "metadata": {
    "collapsed": true
   },
   "outputs": [],
   "source": []
  }
 ],
 "metadata": {
  "kernelspec": {
   "display_name": "Python 3",
   "language": "python",
   "name": "python3"
  },
  "language_info": {
   "codemirror_mode": {
    "name": "ipython",
    "version": 3
   },
   "file_extension": ".py",
   "mimetype": "text/x-python",
   "name": "python",
   "nbconvert_exporter": "python",
   "pygments_lexer": "ipython3",
   "version": "3.5.1"
  }
 },
 "nbformat": 4,
 "nbformat_minor": 0
}
