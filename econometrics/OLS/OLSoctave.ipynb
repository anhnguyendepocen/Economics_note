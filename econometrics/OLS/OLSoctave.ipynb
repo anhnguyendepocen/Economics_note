{
 "cells": [
  {
   "cell_type": "code",
   "execution_count": 1,
   "metadata": {
    "collapsed": false
   },
   "outputs": [
    {
     "data": {
      "image/png": "[encoded data removed]",
      "text/plain": [
       "<IPython.core.display.Image object>"
      ]
     },
     "metadata": {},
     "output_type": "display_data"
    }
   ],
   "source": [
    "# this generates data according to classical model\n",
    "# and shows the OLS fit\n",
    "\n",
    "n = 20;\n",
    "x = 1:n;\n",
    "x = x';\n",
    "\n",
    "x = [ones(n,1) x];\n",
    "beta = [12; -1.5];\n",
    "true = x*beta;\n",
    "e = 4*randn(n,1);\n",
    "y = true + e;\n",
    "\n",
    "# the OLS coefficients\n",
    "b = inverse(x'*x)*x'*y;\n",
    "\n",
    "# Plot the fitted line\n",
    "yhat = x*b;\n",
    "x = x(:,2);\n",
    "#title(\"Example OLS fit\");\n",
    "xlabel(\"X\");\n",
    "plot(x, y, \"*;data points;\", x, yhat, \"-;fitted line;\", x, true, \"-;true line;\")\n",
    "%print(\"OlsFit.svg\", \"-dsvg\");\n"
   ]
  },
  {
   "cell_type": "code",
   "execution_count": null,
   "metadata": {
    "collapsed": true
   },
   "outputs": [],
   "source": []
  },
  {
   "cell_type": "code",
   "execution_count": null,
   "metadata": {
    "collapsed": true
   },
   "outputs": [],
   "source": []
  },
  {
   "cell_type": "code",
   "execution_count": null,
   "metadata": {
    "collapsed": false
   },
   "outputs": [
    {
     "name": "stdout",
     "output_type": "stream",
     "text": [
      "warning: function name 'nm' does not agree with function file name ''\n",
      "warning: function name 'nm2' does not agree with function file name ''\n",
      "error: load: unable to find file nerlove.data\n"
     ]
    }
   ],
   "source": [
    "# Estimates the basic Nerlove Cobb-Douglas model\n",
    "1;\n",
    "\n",
    "\n",
    "function m = nm(theta, data)\n",
    "\ty = data(:,1);\n",
    "\tx = data(:,2:columns(data));\n",
    "\te = y - x*theta;\n",
    "\tm = diag(e)*x;\n",
    "endfunction\n",
    "\n",
    "function m = nm2(theta, data)\n",
    "\ty = data(:,1);\n",
    "\tx = data(:,2:columns(data));\n",
    "\te = y - x*theta;\n",
    "\tx = [x st_norm(x(:,2:5).^2)];\n",
    "\tm = diag(e)*x;\n",
    "endfunction\n",
    "\n",
    "\n",
    "load nerlove.data;\n",
    "\n",
    "data = data(:,2:6);\n",
    "data = log(data);\n",
    "n = rows(data);\n",
    "y = data(:,1);\n",
    "x = data(:,2:5);\n",
    "x = [ones(n,1), x];\n",
    "%x = [ones(n,1), x, x(:,1).^2];\n",
    "\n",
    "names = char(\"constant\", \"output\",\"labor\", \"fuel\", \"capital\",\"output2\");\n",
    "%names = char(\"constant\", \"output\",\"labor\", \"fuel\", \"capital\",\"output2\");\n",
    "data = [ y x ];\n",
    "\n",
    "# estimate efficient weight matrix\n",
    "b = mc_ols(y,x, \"\", 1);\n",
    "e = y - x*b;\n",
    "m = x .*e;\n",
    "q = rows(x)^ 0.25;\n",
    "q = floor(q); % round down\n",
    "momentcov = NeweyWest(m, q);\n",
    "weight = inv(momentcov);\n",
    "\n",
    "# note that weights don't matter for results - exactly identified\n",
    "gmm_results(b, data, 1, \"nm\", \"\", names, \"Nerlove model estimated using GMM - Identity weight matrix\", \"\", \"\", 0, momentcov);\n",
    "gmm_results(b, data, weight, \"nm\", \"\", names, \"Nerlove model estimated using GMM - NW efficient weight matrix\", \"\", \"\", 0, momentcov);"
   ]
  },
  {
   "cell_type": "code",
   "execution_count": null,
   "metadata": {
    "collapsed": true
   },
   "outputs": [],
   "source": []
  }
 ],
 "metadata": {
  "kernelspec": {
   "display_name": "Octave",
   "language": "octave",
   "name": "octave"
  },
  "language_info": {
   "file_extension": ".m",
   "help_links": [
    {
     "text": "MetaKernel Magics",
     "url": "https://github.com/calysto/metakernel/blob/master/metakernel/magics/README.md"
    }
   ],
   "mimetype": "text/x-octave",
   "name": "octave",
   "version": "0.15.6"
  }
 },
 "nbformat": 4,
 "nbformat_minor": 0
}
