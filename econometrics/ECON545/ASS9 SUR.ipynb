{
 "cells": [
  {
   "cell_type": "markdown",
   "metadata": {},
   "source": [
    "# Econometrics - System Estimation Methods"
   ]
  },
  {
   "cell_type": "markdown",
   "metadata": {},
   "source": [
    "\n",
    "\n",
    "\n",
    "\n",
    "ref:\n",
    "https://sites.google.com/site/econometricsacademy/econometrics-models/seemingly-unrelated-regressions\n",
    "\n"
   ]
  },
  {
   "cell_type": "markdown",
   "metadata": {},
   "source": [
    "## System Estimation Methods\n",
    "\n",
    "\n",
    "EViews will estimate the parameters of a system of equations using:\n",
    "\n",
    "\n",
    "\n",
    "![](http://www.eviews.com/help/content/images/system.051.6.002.jpg)\n",
    "\n",
    "\n",
    "\n",
    "\n",
    "\n",
    "• Ordinary least squares.\n",
    "\n",
    "• Equation weighted regression.\n",
    "\n",
    "• Seemingly unrelated regression (SUR).\n",
    "\n",
    "• System two-state least squares.\n",
    "\n",
    "• Weighted two-stage least squares.\n",
    "\n",
    "• Three-stage least squares.\n",
    "\n",
    "\n",
    "ref:\n",
    "http://www.eviews.com/help/helpintro.html#page/content/system-System_Estimation_Methods.html\n",
    "\n",
    "\n",
    "\n",
    "http://www.eviews.com/help/helpintro.html#page/content%2Fsystem-Technical_Discussion.html%23wwconnect_header\n",
    "\n",
    "\n",
    "http://www.eviews.com/help/helpintro.html#page/content/systemcmd-sur.html\n",
    "\n"
   ]
  },
  {
   "cell_type": "code",
   "execution_count": 1,
   "metadata": {},
   "outputs": [
    {
     "name": "stderr",
     "output_type": "stream",
     "text": [
      "Downloading GitHub repo tidyverse/googledrive@master\n",
      "from URL https://api.github.com/repos/tidyverse/googledrive/zipball/master\n",
      "Installing googledrive\n",
      "Installing curl\n",
      "'/usr/lib/R/bin/R' --no-site-file --no-environ --no-save --no-restore --quiet  \\\n",
      "  CMD INSTALL '/tmp/RtmpWTwb3P/devtools568e69f1bfa7/curl'  \\\n",
      "  --library='/home/jon/R/x86_64-pc-linux-gnu-library/3.2' --install-tests \n",
      "\n",
      "Installing glue\n",
      "'/usr/lib/R/bin/R' --no-site-file --no-environ --no-save --no-restore --quiet  \\\n",
      "  CMD INSTALL '/tmp/RtmpWTwb3P/devtools568e7e0d7f66/glue'  \\\n",
      "  --library='/home/jon/R/x86_64-pc-linux-gnu-library/3.2' --install-tests \n",
      "\n",
      "Installing httr\n",
      "Installing jsonlite\n",
      "'/usr/lib/R/bin/R' --no-site-file --no-environ --no-save --no-restore --quiet  \\\n",
      "  CMD INSTALL '/tmp/RtmpWTwb3P/devtools568e6ae2e45d/jsonlite'  \\\n",
      "  --library='/home/jon/R/x86_64-pc-linux-gnu-library/3.2' --install-tests \n",
      "\n",
      "Installing openssl\n",
      "'/usr/lib/R/bin/R' --no-site-file --no-environ --no-save --no-restore --quiet  \\\n",
      "  CMD INSTALL '/tmp/RtmpWTwb3P/devtools568e74cea027/openssl'  \\\n",
      "  --library='/home/jon/R/x86_64-pc-linux-gnu-library/3.2' --install-tests \n",
      "\n",
      "Installing R6\n",
      "'/usr/lib/R/bin/R' --no-site-file --no-environ --no-save --no-restore --quiet  \\\n",
      "  CMD INSTALL '/tmp/RtmpWTwb3P/devtools568ee8b05cc/R6'  \\\n",
      "  --library='/home/jon/R/x86_64-pc-linux-gnu-library/3.2' --install-tests \n",
      "\n",
      "'/usr/lib/R/bin/R' --no-site-file --no-environ --no-save --no-restore --quiet  \\\n",
      "  CMD INSTALL '/tmp/RtmpWTwb3P/devtools568e30eae042/httr'  \\\n",
      "  --library='/home/jon/R/x86_64-pc-linux-gnu-library/3.2' --install-tests \n",
      "\n",
      "Skipping install of 'jsonlite' from a cran remote, the SHA1 (1.5) has not changed since last install.\n",
      "  Use `force = TRUE` to force installation\n",
      "Installing purrr\n",
      "Installing rlang\n",
      "'/usr/lib/R/bin/R' --no-site-file --no-environ --no-save --no-restore --quiet  \\\n",
      "  CMD INSTALL '/tmp/RtmpWTwb3P/devtools568e26207836/rlang'  \\\n",
      "  --library='/home/jon/R/x86_64-pc-linux-gnu-library/3.2' --install-tests \n",
      "\n",
      "Installing tibble\n",
      "Installing Rcpp\n",
      "'/usr/lib/R/bin/R' --no-site-file --no-environ --no-save --no-restore --quiet  \\\n",
      "  CMD INSTALL '/tmp/RtmpWTwb3P/devtools568e2991a356/Rcpp'  \\\n",
      "  --library='/home/jon/R/x86_64-pc-linux-gnu-library/3.2' --install-tests \n",
      "\n",
      "'/usr/lib/R/bin/R' --no-site-file --no-environ --no-save --no-restore --quiet  \\\n",
      "  CMD INSTALL '/tmp/RtmpWTwb3P/devtools568e3deb1173/tibble'  \\\n",
      "  --library='/home/jon/R/x86_64-pc-linux-gnu-library/3.2' --install-tests \n",
      "\n",
      "'/usr/lib/R/bin/R' --no-site-file --no-environ --no-save --no-restore --quiet  \\\n",
      "  CMD INSTALL '/tmp/RtmpWTwb3P/devtools568e755a8331/purrr'  \\\n",
      "  --library='/home/jon/R/x86_64-pc-linux-gnu-library/3.2' --install-tests \n",
      "\n",
      "Skipping install of 'rlang' from a cran remote, the SHA1 (0.1.4) has not changed since last install.\n",
      "  Use `force = TRUE` to force installation\n",
      "Skipping install of 'tibble' from a cran remote, the SHA1 (1.3.4) has not changed since last install.\n",
      "  Use `force = TRUE` to force installation\n",
      "'/usr/lib/R/bin/R' --no-site-file --no-environ --no-save --no-restore --quiet  \\\n",
      "  CMD INSTALL  \\\n",
      "  '/tmp/RtmpWTwb3P/devtools568e209c52e/tidyverse-googledrive-8b77ee7'  \\\n",
      "  --library='/home/jon/R/x86_64-pc-linux-gnu-library/3.2' --install-tests \n",
      "\n"
     ]
    }
   ],
   "source": [
    "# install.packages(\"devtools\")\n",
    "# devtools::install_github(\"tidyverse/googledrive\")"
   ]
  },
  {
   "cell_type": "code",
   "execution_count": 2,
   "metadata": {
    "collapsed": true
   },
   "outputs": [],
   "source": [
    "library(\"googledrive\")"
   ]
  },
  {
   "cell_type": "code",
   "execution_count": null,
   "metadata": {
    "collapsed": true
   },
   "outputs": [],
   "source": []
  },
  {
   "cell_type": "code",
   "execution_count": null,
   "metadata": {
    "collapsed": true
   },
   "outputs": [],
   "source": []
  }
 ],
 "metadata": {
  "kernelspec": {
   "display_name": "R",
   "language": "R",
   "name": "ir"
  },
  "language_info": {
   "codemirror_mode": "r",
   "file_extension": ".r",
   "mimetype": "text/x-r-source",
   "name": "R",
   "pygments_lexer": "r",
   "version": "3.2.3"
  }
 },
 "nbformat": 4,
 "nbformat_minor": 2
}
