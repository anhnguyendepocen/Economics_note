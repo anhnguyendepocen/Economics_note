{
 "cells": [
  {
   "cell_type": "markdown",
   "metadata": {},
   "source": [
    "# Econometrics - System Estimation Methods"
   ]
  },
  {
   "cell_type": "markdown",
   "metadata": {},
   "source": [
    "\n",
    "\n",
    "\n",
    "\n",
    "ref:\n",
    "https://sites.google.com/site/econometricsacademy/econometrics-models/seemingly-unrelated-regressions\n",
    "\n"
   ]
  },
  {
   "cell_type": "markdown",
   "metadata": {},
   "source": [
    "## System Estimation Methods\n",
    "\n",
    "\n",
    "EViews will estimate the parameters of a system of equations using:\n",
    "\n",
    "\n",
    "\n",
    "![](http://www.eviews.com/help/content/images/system.051.6.002.jpg)\n",
    "\n",
    "\n",
    "\n",
    "\n",
    "\n",
    "• Ordinary least squares.\n",
    "\n",
    "• Equation weighted regression.\n",
    "\n",
    "• Seemingly unrelated regression (SUR).\n",
    "\n",
    "• System two-state least squares.\n",
    "\n",
    "• Weighted two-stage least squares.\n",
    "\n",
    "• Three-stage least squares.\n",
    "\n",
    "\n",
    "ref:\n",
    "http://www.eviews.com/help/helpintro.html#page/content/system-System_Estimation_Methods.html\n",
    "\n",
    "\n",
    "\n",
    "http://www.eviews.com/help/helpintro.html#page/content%2Fsystem-Technical_Discussion.html%23wwconnect_header\n",
    "\n",
    "\n",
    "http://www.eviews.com/help/helpintro.html#page/content/systemcmd-sur.html\n",
    "\n"
   ]
  },
  {
   "cell_type": "code",
   "execution_count": null,
   "metadata": {
    "collapsed": true
   },
   "outputs": [],
   "source": []
  },
  {
   "cell_type": "code",
   "execution_count": null,
   "metadata": {
    "collapsed": true
   },
   "outputs": [],
   "source": []
  },
  {
   "cell_type": "code",
   "execution_count": null,
   "metadata": {
    "collapsed": true
   },
   "outputs": [],
   "source": []
  },
  {
   "cell_type": "code",
   "execution_count": null,
   "metadata": {
    "collapsed": true
   },
   "outputs": [],
   "source": []
  }
 ],
 "metadata": {
  "kernelspec": {
   "display_name": "R",
   "language": "R",
   "name": "ir"
  },
  "language_info": {
   "codemirror_mode": "r",
   "file_extension": ".r",
   "mimetype": "text/x-r-source",
   "name": "R",
   "pygments_lexer": "r",
   "version": "3.3.2"
  }
 },
 "nbformat": 4,
 "nbformat_minor": 2
}
