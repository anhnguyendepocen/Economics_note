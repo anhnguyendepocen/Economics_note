{
 "cells": [
  {
   "cell_type": "code",
   "execution_count": 9,
   "metadata": {
    "collapsed": true
   },
   "outputs": [],
   "source": [
    "import numpy as np\n",
    "import scipy.stats as spst\n",
    "from scipy.optimize import leastsq\n",
    "import pandas as pd\n",
    "from scipy import optimize"
   ]
  },
  {
   "cell_type": "code",
   "execution_count": 3,
   "metadata": {
    "collapsed": false
   },
   "outputs": [],
   "source": [
    "mizon57= pd.read_csv(\"Mizon57.csv\")"
   ]
  },
  {
   "cell_type": "code",
   "execution_count": 4,
   "metadata": {
    "collapsed": false
   },
   "outputs": [],
   "source": [
    "\n",
    "mizon57[\"L\"]= (mizon57[\"LF\"]-mizon57[\"U\"])*mizon57[\"H\"]/100\n",
    "mizon57[\"L100\"]= (mizon57[\"LF\"]-mizon57[\"U\"])*mizon57[\"H\"]"
   ]
  },
  {
   "cell_type": "code",
   "execution_count": 5,
   "metadata": {
    "collapsed": false
   },
   "outputs": [
    {
     "data": {
      "text/html": [
       "<div>\n",
       "<table border=\"1\" class=\"dataframe\">\n",
       "  <thead>\n",
       "    <tr style=\"text-align: right;\">\n",
       "      <th></th>\n",
       "      <th>Q</th>\n",
       "      <th>K</th>\n",
       "      <th>LF</th>\n",
       "      <th>U</th>\n",
       "      <th>H</th>\n",
       "      <th>L</th>\n",
       "      <th>L100</th>\n",
       "    </tr>\n",
       "  </thead>\n",
       "  <tbody>\n",
       "    <tr>\n",
       "      <th>0</th>\n",
       "      <td>405</td>\n",
       "      <td>335</td>\n",
       "      <td>605</td>\n",
       "      <td>9</td>\n",
       "      <td>47</td>\n",
       "      <td>280.12</td>\n",
       "      <td>28012</td>\n",
       "    </tr>\n",
       "    <tr>\n",
       "      <th>1</th>\n",
       "      <td>245</td>\n",
       "      <td>130</td>\n",
       "      <td>202</td>\n",
       "      <td>2</td>\n",
       "      <td>46</td>\n",
       "      <td>92.00</td>\n",
       "      <td>9200</td>\n",
       "    </tr>\n",
       "    <tr>\n",
       "      <th>2</th>\n",
       "      <td>31</td>\n",
       "      <td>100</td>\n",
       "      <td>19</td>\n",
       "      <td>0</td>\n",
       "      <td>48</td>\n",
       "      <td>9.12</td>\n",
       "      <td>912</td>\n",
       "    </tr>\n",
       "    <tr>\n",
       "      <th>3</th>\n",
       "      <td>37</td>\n",
       "      <td>191</td>\n",
       "      <td>37</td>\n",
       "      <td>0</td>\n",
       "      <td>48</td>\n",
       "      <td>17.76</td>\n",
       "      <td>1776</td>\n",
       "    </tr>\n",
       "    <tr>\n",
       "      <th>4</th>\n",
       "      <td>526</td>\n",
       "      <td>615</td>\n",
       "      <td>459</td>\n",
       "      <td>4</td>\n",
       "      <td>47</td>\n",
       "      <td>213.85</td>\n",
       "      <td>21385</td>\n",
       "    </tr>\n",
       "    <tr>\n",
       "      <th>5</th>\n",
       "      <td>430</td>\n",
       "      <td>504</td>\n",
       "      <td>404</td>\n",
       "      <td>4</td>\n",
       "      <td>48</td>\n",
       "      <td>192.00</td>\n",
       "      <td>19200</td>\n",
       "    </tr>\n",
       "    <tr>\n",
       "      <th>6</th>\n",
       "      <td>88</td>\n",
       "      <td>63</td>\n",
       "      <td>70</td>\n",
       "      <td>1</td>\n",
       "      <td>47</td>\n",
       "      <td>32.43</td>\n",
       "      <td>3243</td>\n",
       "    </tr>\n",
       "    <tr>\n",
       "      <th>7</th>\n",
       "      <td>130</td>\n",
       "      <td>98</td>\n",
       "      <td>133</td>\n",
       "      <td>1</td>\n",
       "      <td>47</td>\n",
       "      <td>62.04</td>\n",
       "      <td>6204</td>\n",
       "    </tr>\n",
       "    <tr>\n",
       "      <th>8</th>\n",
       "      <td>1558</td>\n",
       "      <td>758</td>\n",
       "      <td>1940</td>\n",
       "      <td>16</td>\n",
       "      <td>47</td>\n",
       "      <td>904.28</td>\n",
       "      <td>90428</td>\n",
       "    </tr>\n",
       "    <tr>\n",
       "      <th>9</th>\n",
       "      <td>221</td>\n",
       "      <td>58</td>\n",
       "      <td>318</td>\n",
       "      <td>6</td>\n",
       "      <td>48</td>\n",
       "      <td>149.76</td>\n",
       "      <td>14976</td>\n",
       "    </tr>\n",
       "    <tr>\n",
       "      <th>10</th>\n",
       "      <td>365</td>\n",
       "      <td>270</td>\n",
       "      <td>411</td>\n",
       "      <td>6</td>\n",
       "      <td>46</td>\n",
       "      <td>186.30</td>\n",
       "      <td>18630</td>\n",
       "    </tr>\n",
       "    <tr>\n",
       "      <th>11</th>\n",
       "      <td>273</td>\n",
       "      <td>140</td>\n",
       "      <td>303</td>\n",
       "      <td>1</td>\n",
       "      <td>47</td>\n",
       "      <td>141.94</td>\n",
       "      <td>14194</td>\n",
       "    </tr>\n",
       "    <tr>\n",
       "      <th>12</th>\n",
       "      <td>94</td>\n",
       "      <td>44</td>\n",
       "      <td>160</td>\n",
       "      <td>0</td>\n",
       "      <td>48</td>\n",
       "      <td>76.80</td>\n",
       "      <td>7680</td>\n",
       "    </tr>\n",
       "    <tr>\n",
       "      <th>13</th>\n",
       "      <td>404</td>\n",
       "      <td>197</td>\n",
       "      <td>517</td>\n",
       "      <td>6</td>\n",
       "      <td>45</td>\n",
       "      <td>229.95</td>\n",
       "      <td>22995</td>\n",
       "    </tr>\n",
       "    <tr>\n",
       "      <th>14</th>\n",
       "      <td>605</td>\n",
       "      <td>589</td>\n",
       "      <td>1015</td>\n",
       "      <td>15</td>\n",
       "      <td>44</td>\n",
       "      <td>440.00</td>\n",
       "      <td>44000</td>\n",
       "    </tr>\n",
       "    <tr>\n",
       "      <th>15</th>\n",
       "      <td>308</td>\n",
       "      <td>82</td>\n",
       "      <td>681</td>\n",
       "      <td>10</td>\n",
       "      <td>41</td>\n",
       "      <td>275.11</td>\n",
       "      <td>27511</td>\n",
       "    </tr>\n",
       "    <tr>\n",
       "      <th>16</th>\n",
       "      <td>184</td>\n",
       "      <td>105</td>\n",
       "      <td>195</td>\n",
       "      <td>2</td>\n",
       "      <td>50</td>\n",
       "      <td>96.50</td>\n",
       "      <td>9650</td>\n",
       "    </tr>\n",
       "    <tr>\n",
       "      <th>17</th>\n",
       "      <td>91</td>\n",
       "      <td>48</td>\n",
       "      <td>147</td>\n",
       "      <td>3</td>\n",
       "      <td>45</td>\n",
       "      <td>64.80</td>\n",
       "      <td>6480</td>\n",
       "    </tr>\n",
       "    <tr>\n",
       "      <th>18</th>\n",
       "      <td>184</td>\n",
       "      <td>54</td>\n",
       "      <td>289</td>\n",
       "      <td>5</td>\n",
       "      <td>45</td>\n",
       "      <td>127.80</td>\n",
       "      <td>12780</td>\n",
       "    </tr>\n",
       "    <tr>\n",
       "      <th>19</th>\n",
       "      <td>503</td>\n",
       "      <td>356</td>\n",
       "      <td>571</td>\n",
       "      <td>4</td>\n",
       "      <td>45</td>\n",
       "      <td>255.15</td>\n",
       "      <td>25515</td>\n",
       "    </tr>\n",
       "    <tr>\n",
       "      <th>20</th>\n",
       "      <td>189</td>\n",
       "      <td>133</td>\n",
       "      <td>282</td>\n",
       "      <td>4</td>\n",
       "      <td>46</td>\n",
       "      <td>127.88</td>\n",
       "      <td>12788</td>\n",
       "    </tr>\n",
       "    <tr>\n",
       "      <th>21</th>\n",
       "      <td>1124</td>\n",
       "      <td>252</td>\n",
       "      <td>1466</td>\n",
       "      <td>39</td>\n",
       "      <td>49</td>\n",
       "      <td>699.23</td>\n",
       "      <td>69923</td>\n",
       "    </tr>\n",
       "    <tr>\n",
       "      <th>22</th>\n",
       "      <td>127</td>\n",
       "      <td>309</td>\n",
       "      <td>142</td>\n",
       "      <td>1</td>\n",
       "      <td>47</td>\n",
       "      <td>66.27</td>\n",
       "      <td>6627</td>\n",
       "    </tr>\n",
       "    <tr>\n",
       "      <th>23</th>\n",
       "      <td>290</td>\n",
       "      <td>1810</td>\n",
       "      <td>211</td>\n",
       "      <td>1</td>\n",
       "      <td>48</td>\n",
       "      <td>100.80</td>\n",
       "      <td>10080</td>\n",
       "    </tr>\n",
       "  </tbody>\n",
       "</table>\n",
       "</div>"
      ],
      "text/plain": [
       "       Q     K    LF   U   H       L   L100\n",
       "0    405   335   605   9  47  280.12  28012\n",
       "1    245   130   202   2  46   92.00   9200\n",
       "2     31   100    19   0  48    9.12    912\n",
       "3     37   191    37   0  48   17.76   1776\n",
       "4    526   615   459   4  47  213.85  21385\n",
       "5    430   504   404   4  48  192.00  19200\n",
       "6     88    63    70   1  47   32.43   3243\n",
       "7    130    98   133   1  47   62.04   6204\n",
       "8   1558   758  1940  16  47  904.28  90428\n",
       "9    221    58   318   6  48  149.76  14976\n",
       "10   365   270   411   6  46  186.30  18630\n",
       "11   273   140   303   1  47  141.94  14194\n",
       "12    94    44   160   0  48   76.80   7680\n",
       "13   404   197   517   6  45  229.95  22995\n",
       "14   605   589  1015  15  44  440.00  44000\n",
       "15   308    82   681  10  41  275.11  27511\n",
       "16   184   105   195   2  50   96.50   9650\n",
       "17    91    48   147   3  45   64.80   6480\n",
       "18   184    54   289   5  45  127.80  12780\n",
       "19   503   356   571   4  45  255.15  25515\n",
       "20   189   133   282   4  46  127.88  12788\n",
       "21  1124   252  1466  39  49  699.23  69923\n",
       "22   127   309   142   1  47   66.27   6627\n",
       "23   290  1810   211   1  48  100.80  10080"
      ]
     },
     "execution_count": 5,
     "metadata": {},
     "output_type": "execute_result"
    }
   ],
   "source": [
    "mizon57"
   ]
  },
  {
   "cell_type": "code",
   "execution_count": 6,
   "metadata": {
    "collapsed": true
   },
   "outputs": [],
   "source": [
    "def error_ces(params, X_data,Y_data):\n",
    "    \"\"\"only error output for least squared\n",
    "    Q = \\gamma[\\delta K^{-\\rho} +(1-\\delta) L^{-\\rho}  ]^{-\\frac{\\nu}{\\rho}\n",
    "    error = Q_est - Q\n",
    "    \"\"\"\n",
    "    Q = Y_data[:,0]\n",
    "    K = X_data[:,0]\n",
    "    L = X_data[:,1]    \n",
    "    gamma = params[0]\n",
    "    delta = params[1]\n",
    "    rho = params[2]\n",
    "    nu = params[3]\n",
    "    Q_est =  gamma*(delta* K**(-rho) + (1-delta)* L**(-rho))**(-nu/rho)\n",
    "    return  np.array(Q - Q_est)\n",
    "    \n"
   ]
  },
  {
   "cell_type": "code",
   "execution_count": 7,
   "metadata": {
    "collapsed": false
   },
   "outputs": [
    {
     "name": "stderr",
     "output_type": "stream",
     "text": [
      "/opt/conda/lib/python3.5/site-packages/ipykernel/__main__.py:13: RuntimeWarning: invalid value encountered in power\n"
     ]
    },
    {
     "data": {
      "text/plain": [
       "(array([ 1.50492371,  0.13439677, -0.34407656,  1.02076253]),\n",
       " array([[  4.71058631e-05,  -1.18927290e-06,   4.34140599e-06,\n",
       "          -4.97009355e-06],\n",
       "        [ -1.18927290e-06,   5.30629250e-07,   2.43407641e-06,\n",
       "           1.47661886e-07],\n",
       "        [  4.34140599e-06,   2.43407641e-06,   3.11228840e-05,\n",
       "          -2.61498557e-07],\n",
       "        [ -4.97009355e-06,   1.47661886e-07,  -2.61498557e-07,\n",
       "           5.30247591e-07]]),\n",
       " {'fjac': array([[  1.49404618e+04,   4.89086118e-02,   4.11445501e-03,\n",
       "            1.00831158e-02,   1.57845878e-01,   1.35924300e-01,\n",
       "            1.38919993e-02,   3.05344878e-02,   6.95151933e-01,\n",
       "            7.32161384e-02,   1.16547797e-01,   7.83495901e-02,\n",
       "            3.37099561e-02,   1.37598855e-01,   3.21316991e-01,\n",
       "            1.48523117e-01,   4.95378622e-02,   2.82797688e-02,\n",
       "            6.09223864e-02,   1.69082220e-01,   6.95603503e-02,\n",
       "            4.60103342e-01,   4.23338525e-02,   1.07268948e-01],\n",
       "         [ -3.04415276e+02,   1.85695221e+03,   4.05351725e-02,\n",
       "            7.90216309e-02,   2.97270893e-01,   2.37634284e-01,\n",
       "            2.43480505e-02,   3.19117817e-02,  -7.76824272e-02,\n",
       "           -9.61002513e-02,   8.17852637e-02,   5.82818322e-03,\n",
       "           -3.03596229e-02,  -1.82676648e-02,   1.61491139e-01,\n",
       "           -2.16454430e-01,   1.23903777e-02,  -1.34900557e-02,\n",
       "           -7.54381931e-02,   1.02707824e-01,   1.13995779e-02,\n",
       "           -4.81835354e-01,   1.48969903e-01,   6.90715557e-01],\n",
       "         [ -7.03825055e+01,  -1.53745844e+02,  -1.80413831e+02,\n",
       "            5.26201915e-02,  -1.08662439e-01,  -1.03943628e-01,\n",
       "           -1.50427871e-02,  -2.80654740e-02,  -1.53750263e-01,\n",
       "            1.09842035e-01,  -8.95062616e-02,  -3.08848625e-02,\n",
       "            2.43685577e-02,  -2.81871277e-02,  -2.15543490e-01,\n",
       "            2.84683950e-01,  -2.62288758e-02,   4.40258666e-03,\n",
       "            8.13565809e-02,  -1.22506109e-01,  -3.23842766e-02,\n",
       "            5.45276937e-01,   6.05895112e-03,   6.91744833e-01],\n",
       "         [  1.57515464e+03,   6.10517647e+01,   1.66274352e+01,\n",
       "            1.45700995e+02,   4.86102868e-02,   9.26377874e-02,\n",
       "            9.96031332e-02,   1.45503180e-01,  -5.97812786e-01,\n",
       "            2.53524107e-01,   1.86690913e-01,   2.16805573e-01,\n",
       "            1.81075841e-01,   2.31631797e-01,  -2.57748129e-02,\n",
       "            2.98237483e-01,   1.88344037e-01,   1.62424916e-01,\n",
       "            2.36468074e-01,   1.58585872e-01,   2.08687000e-01,\n",
       "            1.62448375e-02,   9.32386485e-02,  -2.85109623e-01]]),\n",
       "  'fvec': array([ -80.98123372,   85.130112  ,    7.99167128,   -8.19631752,\n",
       "           99.66868535,   54.4431903 ,   29.98616047,   21.21411946,\n",
       "           27.06489487,   -2.32193184,   35.21516305,   36.68886923,\n",
       "          -23.88557639,   24.53091576, -178.43282905,  -96.84937077,\n",
       "           22.43813951,  -11.23543211,   -7.68126569,   51.00034704,\n",
       "          -24.99927344,   55.25957055,  -14.98789563,  -17.5053502 ]),\n",
       "  'ipvt': array([4, 2, 3, 1], dtype=int32),\n",
       "  'nfev': 85,\n",
       "  'qtf': array([-0.00041733, -0.00019692,  0.01757413,  0.00140004])},\n",
       " 'Both actual and predicted relative reductions in the sum of squares\\n  are at most 0.000000',\n",
       " 1)"
      ]
     },
     "execution_count": 7,
     "metadata": {},
     "output_type": "execute_result"
    }
   ],
   "source": [
    "## http://www.scipy-lectures.org/intro/summary-exercises/optimize-fit.html\n",
    "\n",
    "p0 = np.array([0.1, 0.1, -0.1, 1.0])\n",
    "\n",
    "estimates = leastsq(error_ces, p0, \n",
    "                    args = ( np.array(mizon57.ix[:,[\"K\",\"L\"]]), \n",
    "                            np.array(mizon57.ix[:,[\"Q\"]]) ), full_output=1)\n",
    "\n",
    "estimates\n"
   ]
  },
  {
   "cell_type": "code",
   "execution_count": 10,
   "metadata": {
    "collapsed": false
   },
   "outputs": [
    {
     "name": "stdout",
     "output_type": "stream",
     "text": [
      "[ 1.50492684  0.13439699 -0.34409695  1.02076228]\n",
      "190\n"
     ]
    }
   ],
   "source": [
    "p0 = np.array([0.1, 0.1, -0.1, 1.0])\n",
    "\n",
    "## alternative using minimization routine.\n",
    "def sse_ces(params, X_data,Y_data):\n",
    "    \"\"\"Sum of squared error\n",
    "    Q = \\gamma[\\delta K^{-\\rho} +(1-\\delta) L^{-\\rho}  ]^{-\\frac{\\nu}{\\rho}\n",
    "    error = Q_est - Q\n",
    "    sse = sum(error**2)\n",
    "    \"\"\"\n",
    "    return np.sum(error_ces(params, X_data,Y_data)**2)\n",
    "\n",
    "res = optimize.minimize(sse_ces, p0, method='L-BFGS-B', \n",
    "                        args=( np.array(mizon57.ix[:,[\"K\",\"L\"]]), \n",
    "                              np.array(mizon57.ix[:,[\"Q\"]]) ))\n",
    "print( res.x)\n",
    "print( res.nfev)"
   ]
  },
  {
   "cell_type": "code",
   "execution_count": 12,
   "metadata": {
    "collapsed": false
   },
   "outputs": [],
   "source": [
    "## curve fit NOT working\n",
    "# p0 = np.array([0.1, 0.1, -0.1, 1.0])\n",
    "\n",
    "# def ces(X_data, params):\n",
    "#     \"\"\"ces\n",
    "#     Q = \\gamma[\\delta K^{-\\rho} +(1-\\delta) L^{-\\rho}  ]^{-\\frac{\\nu}{\\rho}\n",
    "#     error = Q_est - Q\n",
    "#     \"\"\"    \n",
    "#     K = X_data[:,0]\n",
    "#     L = X_data[:,1]    \n",
    "#     gamma = params[0]\n",
    "#     delta = params[1]\n",
    "#     rho = params[2]\n",
    "#     nu = params[3]        \n",
    "#     return gamma*(delta* K**(-rho) + (1-delta)* L**(-rho))**(-nu/rho)\n",
    "\n",
    "# popt, pcov = optimize.curve_fit(ces,\n",
    "#                                 np.array(mizon57.ix[:,[\"K\",\"L\"]]),\n",
    "#                                 np.array(mizon57.ix[:,[\"Q\"]]),\n",
    "#                                 p0=p0\n",
    "#                                )\n",
    "# print(popt)"
   ]
  },
  {
   "cell_type": "code",
   "execution_count": 13,
   "metadata": {
    "collapsed": false
   },
   "outputs": [
    {
     "ename": "AttributeError",
     "evalue": "'numpy.ndarray' object has no attribute 'values'",
     "output_type": "error",
     "traceback": [
      "\u001b[0;31m---------------------------------------------------------------------------\u001b[0m",
      "\u001b[0;31mAttributeError\u001b[0m                            Traceback (most recent call last)",
      "\u001b[0;32m<ipython-input-13-b94c39fbb429>\u001b[0m in \u001b[0;36m<module>\u001b[0;34m()\u001b[0m\n\u001b[1;32m     10\u001b[0m \u001b[0mxdata\u001b[0m\u001b[0;34m=\u001b[0m \u001b[0mnp\u001b[0m\u001b[0;34m.\u001b[0m\u001b[0marray\u001b[0m\u001b[0;34m(\u001b[0m\u001b[0mmizon57\u001b[0m\u001b[0;34m.\u001b[0m\u001b[0mix\u001b[0m\u001b[0;34m[\u001b[0m\u001b[0;34m:\u001b[0m\u001b[0;34m,\u001b[0m\u001b[0;34m[\u001b[0m\u001b[0;34m\"K\"\u001b[0m\u001b[0;34m,\u001b[0m\u001b[0;34m\"L100\"\u001b[0m\u001b[0;34m]\u001b[0m\u001b[0;34m]\u001b[0m\u001b[0;34m)\u001b[0m\u001b[0;34m\u001b[0m\u001b[0m\n\u001b[1;32m     11\u001b[0m \u001b[0mydata\u001b[0m\u001b[0;34m=\u001b[0m \u001b[0mnp\u001b[0m\u001b[0;34m.\u001b[0m\u001b[0marray\u001b[0m\u001b[0;34m(\u001b[0m\u001b[0mmizon57\u001b[0m\u001b[0;34m.\u001b[0m\u001b[0mix\u001b[0m\u001b[0;34m[\u001b[0m\u001b[0;34m:\u001b[0m\u001b[0;34m,\u001b[0m\u001b[0;34m[\u001b[0m\u001b[0;34m\"Q\"\u001b[0m\u001b[0;34m]\u001b[0m\u001b[0;34m]\u001b[0m\u001b[0;34m)\u001b[0m\u001b[0;34m\u001b[0m\u001b[0m\n\u001b[0;32m---> 12\u001b[0;31m \u001b[0minits\u001b[0m \u001b[0;34m=\u001b[0m \u001b[0mlist\u001b[0m\u001b[0;34m(\u001b[0m\u001b[0mp0\u001b[0m\u001b[0;34m.\u001b[0m\u001b[0mvalues\u001b[0m\u001b[0;34m(\u001b[0m\u001b[0;34m)\u001b[0m\u001b[0;34m)\u001b[0m\u001b[0;34m\u001b[0m\u001b[0m\n\u001b[0m\u001b[1;32m     13\u001b[0m \u001b[0;34m\u001b[0m\u001b[0m\n\u001b[1;32m     14\u001b[0m \u001b[0;31m#https://stackoverflow.com/questions/9219094/order-of-values-when-extracting-python-dict-to-list\u001b[0m\u001b[0;34m\u001b[0m\u001b[0;34m\u001b[0m\u001b[0m\n",
      "\u001b[0;31mAttributeError\u001b[0m: 'numpy.ndarray' object has no attribute 'values'"
     ]
    }
   ],
   "source": [
    "\n",
    "func = sse_ces\n",
    "name = \"CES production function\" \n",
    "                 \n",
    "#p0= {\"gamma\": 0.04746368, \"delta\":0.43092672,\"rho\": -0.34408368, \"nu\": 1.020762290}\n",
    "#p0= {\"gamma\": 0.18, \"delta\":0.1,\"rho\": -0.1, \"nu\": 1.01}\n",
    "\n",
    "\n",
    "\n",
    "xdata= np.array(mizon57.ix[:,[\"K\",\"L100\"]])\n",
    "ydata= np.array(mizon57.ix[:,[\"Q\"]])\n",
    "inits = list(p0.values()) \n",
    "\n",
    "#https://stackoverflow.com/questions/9219094/order-of-values-when-extracting-python-dict-to-list"
   ]
  },
  {
   "cell_type": "code",
   "execution_count": null,
   "metadata": {
    "collapsed": true
   },
   "outputs": [],
   "source": [
    "params = [\"gamma\", \"delta\",\"rho\", \"nu\"]\n",
    "#p0 =np.array([0.04746368, 0.43092672,-0.34408368,  1.020762290])\n",
    "p0 =np.array([0.1, 0.1,-0.1,  1.1])"
   ]
  },
  {
   "cell_type": "code",
   "execution_count": null,
   "metadata": {
    "collapsed": false
   },
   "outputs": [],
   "source": [
    "# Run the model\n",
    "mod1 = leastsq(sse_ces, p0, args = (xdata, ydata), full_output=1)\n"
   ]
  },
  {
   "cell_type": "code",
   "execution_count": null,
   "metadata": {
    "collapsed": false
   },
   "outputs": [],
   "source": [
    "mod1"
   ]
  },
  {
   "cell_type": "markdown",
   "metadata": {},
   "source": [
    "## Generate output report like R  "
   ]
  },
  {
   "cell_type": "code",
   "execution_count": null,
   "metadata": {
    "collapsed": false
   },
   "outputs": [],
   "source": [
    "# Get the parameters\n",
    "parmEsts = np.round( mod1[0], 4 )\n",
    "\n",
    "# Get the Error variance and standard deviation\n",
    "RSS = np.sum( mod1[2]['fvec']**2 )\n",
    "df = nobs - nparm\n",
    "MSE = RSS / df\n",
    "RMSE = np.sqrt( MSE )\n",
    "\n",
    "# Get the covariance matrix\n",
    "cov = MSE * mod1[1]\n",
    "\n",
    "# Get parameter standard errors\n",
    "parmSE = np.diag( np.sqrt( cov ) )\n",
    "\n",
    "# Calculate the t-values\n",
    "tvals = parmEsts/parmSE\n",
    "\n",
    "# Get p-values\n",
    "pvals = (1 - spst.t.cdf( np.abs(tvals), df))*2\n",
    "\n",
    "# Get biased variance (MLE) and calculate log-likehood\n",
    "s2b = RSS / nobs\n",
    "logLik = -nobs/2 * np.log(2*np.pi) - nobs/2 * np.log(s2b) - 1/(2*s2b) * RSS\n",
    "\n",
    "#del(mod1)\n",
    "#del(s2b)\n",
    "#del(inits)\n",
    "\n",
    "# Get AIC. Add 1 to the df to account for estimation of standard error\n",
    "def AIC(self, k=2):\n",
    "    return -2*logLik + k*(nparm + 1)\n",
    "\n"
   ]
  },
  {
   "cell_type": "code",
   "execution_count": null,
   "metadata": {
    "collapsed": false
   },
   "outputs": [],
   "source": [
    "# Print the summary\n",
    "def summary():\n",
    "    print()\n",
    "    print( 'Non-linear least squares')\n",
    "    print( 'Model: ' + name)\n",
    "    print( 'Parameters:')\n",
    "    print( \" Estimate Std. Error t-value P(>|t|)\")\n",
    "    for i in range( len(parmNames) ):\n",
    "            print( \"% -5s % 5.4f % 5.4f % 5.4f % 5.4f\" % tuple( [parmNames[i], \n",
    "                                                                parmEsts[i], parmSE[i], tvals[i], pvals[i]] ))\n",
    "    print()\n",
    "    print( 'Residual Standard Error: % 5.4f' % RMSE)\n",
    "    print( 'Df: %i' % df)\n",
    "summary()"
   ]
  },
  {
   "cell_type": "markdown",
   "metadata": {},
   "source": [
    "## Very sensitive for initial value"
   ]
  },
  {
   "cell_type": "code",
   "execution_count": null,
   "metadata": {
    "collapsed": false
   },
   "outputs": [],
   "source": [
    "# modified to fit python3.5\n",
    "# # #  https://www.r-bloggers.com/r-vs-python-practical-data-analysis-nonlinear-regression/\n",
    "\n",
    "\n",
    "class NLS:\n",
    "    ''' This provides a wrapper for scipy.optimize.leastsq to get the relevant output for nonlinear least squares.\n",
    "    Although scipy provides curve_fit for that reason, curve_fit only returns parameter estimates and covariances. \n",
    "    This wrapper returns numerous statistics and diagnostics'''\n",
    " \n",
    "    import numpy as np\n",
    "    import scipy.stats as spst\n",
    "    from scipy.optimize import leastsq\n",
    " \n",
    "    def __init__(self,func,name, params ,p0, xdata, ydata):\n",
    "        \"\"\"\n",
    "        func: error function y^ - y\n",
    "        name: model name\n",
    "        params: names of parameters, list\n",
    "        p0: starting value for params(the same order), np.array\n",
    "        xdata: np.array \n",
    "        ydata: np.array\n",
    "        \n",
    "        \"\"\"\n",
    "        # Check the data     \n",
    "        \n",
    "        if len(xdata) != len(ydata):\n",
    "            msg = 'The number of observations does not match the number of rows for the predictors'\n",
    "            raise ValueError(msg)\n",
    " \n",
    "\n",
    "            \n",
    "        self.name = name \n",
    "        self.func = func\n",
    "\n",
    "        self.xdata = xdata\n",
    "        self.ydata = ydata\n",
    "        \n",
    "        self.nobs = len( ydata )\n",
    "\n",
    "        # Check parameter estimates\n",
    "#         if type(p0) != dict:\n",
    "#             msg = \"Initial parameter estimates (p0) must be a dictionry of form p0={'a':1, 'b':2, etc}\"\n",
    "#             raise ValueError(msg)\n",
    "        \n",
    "        self.inits = p0 \n",
    "        self.nparm= len( self.inits )\n",
    "        self.parmNames = params\n",
    "        \n",
    "        # clean parameters' names \n",
    "        for i in range( len(self.parmNames) ):\n",
    "            if len(self.parmNames[i]) > 5:\n",
    "                self.parmNames[i] = self.parmNames[i][0:4]\n",
    " \n",
    "        # Run the model\n",
    "        self.mod1 = leastsq(self.func, np.array(self.inits), args = (self.xdata, self.ydata), full_output=1)\n",
    " \n",
    "        # Get the parameters\n",
    "        self.parmEsts = np.round( self.mod1[0], 4 )\n",
    " \n",
    "        # Get the Error variance and standard deviation\n",
    "        self.RSS = np.sum( self.mod1[2]['fvec']**2 )\n",
    "        self.df = self.nobs - self.nparm\n",
    "        self.MSE = self.RSS / self.df\n",
    "        self.RMSE = np.sqrt( self.MSE )\n",
    " \n",
    "        # Get the covariance matrix\n",
    "        self.cov = self.MSE * self.mod1[1]\n",
    " \n",
    "        # Get parameter standard errors\n",
    "        self.parmSE = np.diag( np.sqrt( self.cov ) )\n",
    " \n",
    "        # Calculate the t-values\n",
    "        self.tvals = self.parmEsts/self.parmSE\n",
    " \n",
    "        # Get p-values\n",
    "        self.pvals = (1 - spst.t.cdf( np.abs(self.tvals), self.df))*2\n",
    " \n",
    "        # Get biased variance (MLE) and calculate log-likehood\n",
    "        self.s2b = self.RSS / self.nobs\n",
    "        self.logLik = -self.nobs/2 * np.log(2*np.pi) - self.nobs/2 * np.log(self.s2b) - 1/(2*self.s2b) * self.RSS\n",
    " \n",
    "        #del(self.mod1)\n",
    "        #del(self.s2b)\n",
    "        #del(self.inits)\n",
    " \n",
    "    # Get AIC. Add 1 to the df to account for estimation of standard error\n",
    "    def AIC(self, k=2):\n",
    "        return -2*self.logLik + k*(self.nparm + 1)\n",
    " \n",
    "    del(np)\n",
    "    del(leastsq)\n",
    " \n",
    "    # Print the summary\n",
    "    def summary(self):\n",
    "        print()\n",
    "        print( 'Non-linear least squares')\n",
    "        print( 'Model: ' + self.name)\n",
    "        print( 'Parameters:')\n",
    "        print( \" Estimate Std. Error t-value P(>|t|)\")\n",
    "        for i in range( len(self.parmNames) ):\n",
    "                print( \" % -5s % 5.4f % 5.4f % 5.4f % 5.4f\" % tuple( [self.parmNames[i], \n",
    "                                                                    self.parmEsts[i], self.parmSE[i], self.tvals[i], self.pvals[i]] ))\n",
    "        print()\n",
    "        print( 'Residual Standard Error: % 5.4f' % self.RMSE)\n",
    "        print( 'Df: %i' % self.df)\n"
   ]
  },
  {
   "cell_type": "code",
   "execution_count": null,
   "metadata": {
    "collapsed": false
   },
   "outputs": [],
   "source": [
    "params = [\"gamma\", \"delta\",\"rho\", \"nu\"]\n",
    "#p0 =np.array([0.04746368, 0.43092672,-0.34408368,  1.020762290])\n",
    "p0 =np.array([0.1, 0.1,-0.1,  1.1])\n",
    "\n",
    "nls_mizon57 = NLS(func = sse_ces,name = \"CES production function\", params = params,\n",
    "                  p0=p0, xdata= np.array(mizon57.ix[:,[\"K\",\"L100\"]]), ydata= np.array(mizon57.ix[:,[\"Q\"]]))"
   ]
  },
  {
   "cell_type": "code",
   "execution_count": null,
   "metadata": {
    "collapsed": false
   },
   "outputs": [],
   "source": [
    "nls_mizon57.summary()"
   ]
  },
  {
   "cell_type": "code",
   "execution_count": null,
   "metadata": {
    "collapsed": true
   },
   "outputs": [],
   "source": []
  },
  {
   "cell_type": "markdown",
   "metadata": {
    "collapsed": false
   },
   "source": [
    "It turns out there are many ways to do the NLS in Python since there are couples of way to do the minimization/optimization in scipy\n",
    "\n",
    "ref:\n",
    "### scipy.optimize.least_squares\n",
    "\n",
    "Solve a nonlinear least-squares problem with bounds on the variables.\n",
    "\n",
    "Given the residuals $f(x)$ (an m-dimensional real function of n real variables) and the loss function $rho(s)$ (a scalar function), least_squares finds a local minimum of the cost function $F(x)$:\n",
    "\n",
    "minimize $F(x) = 0.5 * sum(rho(f_i(x)**2), i = 0, ..., m - 1)$\n",
    "\n",
    "subject to $lb <= x <= ub$\n",
    "\n",
    "The purpose of the loss function $rho(s)$ is to reduce the influence of outliers on the solution.\n",
    "\n",
    "https://docs.scipy.org/doc/scipy-0.19.1/reference/generated/scipy.optimize.least_squares.html\n",
    "\n",
    "### Optimization (scipy.optimize)\n",
    "\n",
    "\n",
    "https://docs.scipy.org/doc/scipy/reference/tutorial/optimize.html\n",
    "\n",
    "http://blog.mmast.net/least-squares-fitting-numpy-scipy"
   ]
  },
  {
   "cell_type": "code",
   "execution_count": null,
   "metadata": {
    "collapsed": true
   },
   "outputs": [],
   "source": [
    "import numpy as np\n",
    "from scipy import optimize\n",
    "import matplotlib.pyplot as plt"
   ]
  },
  {
   "cell_type": "code",
   "execution_count": null,
   "metadata": {
    "collapsed": false
   },
   "outputs": [],
   "source": [
    "f = np.poly1d([-5, 1, 3])\n",
    "x = np.linspace(0, 2, 20)\n",
    "y = f(x) + 1.5*np.random.normal(size=len(x))\n",
    "xn = np.linspace(0, 2, 200)\n",
    "\n",
    "plt.plot(x, y, 'or')\n",
    "plt.show()"
   ]
  },
  {
   "cell_type": "code",
   "execution_count": null,
   "metadata": {
    "collapsed": false
   },
   "outputs": [],
   "source": [
    "def f(x, a, b, c):\n",
    "    return a*x**2 + b*x + c\n",
    "\n",
    "def residual(p, x, y):\n",
    "    return y - f(x, *p)\n",
    "\n",
    "p0 = [1., 1., 1.]\n",
    "\n",
    "popt, pcov, info, mesg, ler = optimize.leastsq(residual, p0, \n",
    "                                               args=(x, y), full_output=True)\n",
    "# popt, pcov = optimize.leastsq(residual, p0, args=(x, y))\n",
    "\n",
    "print(popt)"
   ]
  },
  {
   "cell_type": "markdown",
   "metadata": {},
   "source": [
    "We should use non-linear least squares if the dimensionality of the output vector is larger than the number of parameters to optimize. Here, we can see the number of function evaluations of our last estimation of the coeffients:"
   ]
  },
  {
   "cell_type": "code",
   "execution_count": null,
   "metadata": {
    "collapsed": false
   },
   "outputs": [],
   "source": [
    "print( info['nfev'])"
   ]
  },
  {
   "cell_type": "code",
   "execution_count": null,
   "metadata": {
    "collapsed": false
   },
   "outputs": [],
   "source": [
    "yn = f(xn, *popt)\n",
    "\n",
    "plt.plot(x, y, 'or')\n",
    "plt.plot(xn, yn)\n",
    "plt.show()"
   ]
  },
  {
   "cell_type": "markdown",
   "metadata": {},
   "source": [
    "Using as a example, a L-BFGS minimization we will achieve the minimization in more cost function evaluations:\n",
    "\n",
    "\n"
   ]
  },
  {
   "cell_type": "code",
   "execution_count": null,
   "metadata": {
    "collapsed": false
   },
   "outputs": [],
   "source": [
    "def min_residual(p, x, y):\n",
    "    return sum(residual(p, x, y)**2)\n",
    "\n",
    "res = optimize.minimize(min_residual, p0, method='L-BFGS-B', args=(x, y))\n",
    "print( res.x)\n",
    "print( res.nfev)"
   ]
  },
  {
   "cell_type": "code",
   "execution_count": null,
   "metadata": {
    "collapsed": false
   },
   "outputs": [],
   "source": [
    "popt, pcov = optimize.curve_fit(f, x, y, p0=p0)\n",
    "print( popt)\n",
    "\n",
    "plt.plot(x, y, 'or')\n",
    "plt.plot(xn, f(xn, *popt))\n",
    "plt.show()"
   ]
  },
  {
   "cell_type": "code",
   "execution_count": null,
   "metadata": {
    "collapsed": true
   },
   "outputs": [],
   "source": []
  },
  {
   "cell_type": "code",
   "execution_count": null,
   "metadata": {
    "collapsed": true
   },
   "outputs": [],
   "source": []
  },
  {
   "cell_type": "code",
   "execution_count": null,
   "metadata": {
    "collapsed": true
   },
   "outputs": [],
   "source": []
  },
  {
   "cell_type": "code",
   "execution_count": null,
   "metadata": {
    "collapsed": true
   },
   "outputs": [],
   "source": [
    "# stnd    = input(r'P ($\\%$) and $\\theta$ of pol. standard? (as tuple)')\n",
    "# p       = stnd[0]/100.\n",
    "# ang     = np.radians(stnd[1])  \n",
    "# x,y     = sympy.symbols('x y')  \n",
    "# stndqu  = sympy.solve([sympy.sqrt(x**2+y**2)-p,(0.5*sympy.atan(y/x))-ang],[x,y])[1] \n",
    "\n",
    "# stndqun = np.array([sympy.N(i) for i in stndqu],dtype=float) \n",
    "\n",
    "\n",
    "\n",
    "\n"
   ]
  },
  {
   "cell_type": "code",
   "execution_count": null,
   "metadata": {
    "collapsed": true
   },
   "outputs": [],
   "source": []
  },
  {
   "cell_type": "code",
   "execution_count": null,
   "metadata": {
    "collapsed": true
   },
   "outputs": [],
   "source": []
  }
 ],
 "metadata": {
  "kernelspec": {
   "display_name": "Python 3",
   "language": "python",
   "name": "python3"
  },
  "language_info": {
   "codemirror_mode": {
    "name": "ipython",
    "version": 3
   },
   "file_extension": ".py",
   "mimetype": "text/x-python",
   "name": "python",
   "nbconvert_exporter": "python",
   "pygments_lexer": "ipython3",
   "version": "3.5.2"
  }
 },
 "nbformat": 4,
 "nbformat_minor": 2
}
