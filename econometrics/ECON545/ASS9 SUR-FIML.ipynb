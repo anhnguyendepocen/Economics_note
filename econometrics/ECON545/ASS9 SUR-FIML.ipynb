{
 "cells": [
  {
   "cell_type": "markdown",
   "metadata": {},
   "source": [
    "# Econometrics - System Estimation Methods"
   ]
  },
  {
   "cell_type": "markdown",
   "metadata": {},
   "source": [
    "\n",
    "\n",
    "\n",
    "\n",
    "ref:\n",
    "https://sites.google.com/site/econometricsacademy/econometrics-models/seemingly-unrelated-regressions\n",
    "\n"
   ]
  },
  {
   "cell_type": "markdown",
   "metadata": {},
   "source": [
    "## System Estimation Methods\n",
    "\n",
    "\n",
    "EViews will estimate the parameters of a system of equations using:\n",
    "\n",
    "\n",
    "\n",
    "![](http://www.eviews.com/help/content/images/system.051.6.002.jpg)\n",
    "\n",
    "\n",
    "EViews provides you with a number of methods of estimating the parameters of the system. One approach is to estimate each equation in the system separately, using one of the single equation methods described earlier in this manual. \n",
    "\n",
    "A second approach is to estimate, simultaneously, the complete set of parameters of the equations in the system. The simultaneous approach allows you to **place constraints on coefficients across equations** and to employ techniques that **account for correlation** in the residuals across equations.\n",
    "\n",
    "\n",
    "• Ordinary least squares.\n",
    "\n",
    "• Equation weighted regression.\n",
    "\n",
    "• Seemingly unrelated regression (SUR).\n",
    "\n",
    "• System two-state least squares.\n",
    "\n",
    "• Weighted two-stage least squares.\n",
    "\n",
    "• Three-stage least squares.\n",
    "\n",
    "\n",
    "\n",
    "\n",
    "\n",
    "While there are important advantages to using a system to estimate your parameters, they do not come without cost. Most importantly, if you misspecify one of the equations in the system and estimate your parameters using single equation methods, only the misspecified equation will be poorly estimated. If you employ system estimation techniques, the poor estimates for the **misspecification equation may “contaminate”** estimates for other equations.\n",
    "\n",
    "\n",
    "\n",
    "ref:\n",
    "\n",
    "http://www.eviews.com/help/helpintro.html#page/content%2Fsystem-Background.html%23\n",
    "\n",
    "http://www.eviews.com/help/helpintro.html#page/content/system-System_Estimation_Methods.html\n",
    "\n",
    "http://www.eviews.com/help/helpintro.html#page/content%2Fsystem-Technical_Discussion.html%23wwconnect_header\n",
    "\n",
    "http://www.eviews.com/help/helpintro.html#page/content/systemcmd-sur.html\n",
    "\n"
   ]
  },
  {
   "cell_type": "markdown",
   "metadata": {},
   "source": [
    "## SEM in EViews\n",
    "\n",
    "![](http://www.eviews.com/help/content/images/system.051.4.01.jpg)\n",
    "\n",
    "\n",
    "\n",
    "![](http://www.eviews.com/help/content/images/system.051.4.02.jpg)\n",
    "\n",
    "\n",
    "Once you have created and specified your system, you may push the Estimate button on the toolbar to bring up the System Estimation dialog.\n",
    "\n",
    "![](http://www.eviews.com/help/content/images/system.051.4.04.jpg)\n",
    "\n",
    "ref: http://www.eviews.com/help/helpintro.html#page/content%2Fsystemcmd-sur.html%23ww174301\n",
    "\n",
    "`\n",
    "surgls.ls \n",
    "`\n",
    "\n",
    "### Seemingly Unrelated Regressions (SUR) \n",
    "\n",
    "The equations are called seemingly unrelated because they are only related through the error terms.\n"
   ]
  },
  {
   "cell_type": "markdown",
   "metadata": {},
   "source": [
    "### Options\n",
    "\n",
    "For weighted least squares, SUR, weighted TSLS, 3SLS, GMM, and nonlinear systems of equations, there are additional options controlling the procedure for computing the GLS weighting matrix and the coefficient vector and for ARCH system, the coefficient vector used in estimation, as well as backcasting and robust standard error options.\n",
    "\n",
    "\n",
    "\n",
    "![](http://www.eviews.com/help/content/images/system.051.4.12.jpg)\n",
    "\n",
    "\n",
    "\n",
    "#### Estimation Method: Seemingly Unrelated Regression\t\n",
    "\n",
    "Linear estimation after one-step weighting matrix\t\t\n",
    "\n",
    "\n",
    "`\n",
    "surgls.sur(c) \n",
    "`\n",
    "\n",
    "Null Hypothesis: C(12)=C(21), C(13)=C(14), C(14) =\t\t\t\n",
    "        C(41),C(23) = C(32) ,C(24) = C(42), C(34) =C(43)\t\t\t\n",
    "\n",
    "\n",
    "`\n",
    "surgls.wald c(12)=c(21), c(13)=c(14), c(14) = c(41),c(23) = c(32) ,c(24) = c(42), c(34) =c(43)\n",
    "`\n",
    "\n",
    "#### Estimation Method: Iterative Seemingly Unrelated Regression\t\t\t\n",
    "\n",
    "Total system (balanced) observations 100\t\t\t\t\n",
    "Simultaneous weighting matrix & coefficient iteration\t\t\t\t\n",
    "Convergence achieved after: 3 weight matrices, 4 total coef iterations\t\t\t\t\n",
    "\n",
    "\n",
    "`\n",
    "surgls.sur(i) \n",
    "`\n",
    "\n",
    "#### Estimation Method: Iterative Seemingly Unrelated Regression\t\t\t\n",
    "Total system (balanced) observations 100\t\t\t\t\n",
    "Sequential weighting matrix & coefficient iteration\t\t\t\t\n",
    "Convergence achieved after: 3 weight matrices, 4 total coef iterations\t\t\t\t\n",
    "\n",
    "\n",
    "`\n",
    "surgls.sur(s) \n",
    "`\n",
    "\n",
    "\n",
    "\n",
    "\n",
    "\n"
   ]
  },
  {
   "cell_type": "markdown",
   "metadata": {},
   "source": [
    "\n",
    "\n",
    "### From OLS to 2SLS\n",
    "\n",
    "\n",
    "If you plan to estimate your system using two-stage least squares, three-stage least squares, or GMM, you must specify the instrumental variables to be used in estimation. \n",
    "\n",
    "\n",
    "\"\"Of course, given the simultaneous nature of the model, and the fact that various current-period endogenous variables appear as regressors in other equations, we know that the OLS estimator is **inconsistent** in this context.\n",
    "\n",
    "So, to let's use a simple consistent estimator - **Two Stage Least Squares (2SLS)**. This is just an instrumental variables (I.V.) estimation with all of the **predetermined variables** in the whole model used as the **instruments**. It's a \"single equation\" estimator, in the sense that it is applied one equation at a time.\"\"\n",
    "\n",
    "\n",
    "\n",
    "\n",
    "\n",
    "\n",
    "`\n",
    "cons=c(1)+c(2)*p+c(3)*p(-1)+c(4)*(wp+wg)\n",
    "i=c(5)+c(6)*p+c(7)*p(-1)+c(8)*k1\n",
    "wp=c(9)+c(10)*x+c(11)*x(-1)+c(12)*a\n",
    "@inst c p(-1) wg k1 x(-1) a g t\n",
    "\n",
    "`\n",
    "\n",
    "\n",
    "\n",
    "![](http://2.bp.blogspot.com/-YoiggZRiWD4/T7bT96xvRwI/AAAAAAAAAZI/T-xSDy7ndyM/s1600/c2sls.gif)\n",
    "\n",
    "\n",
    "`\n",
    "sys_2sls.tsls \n",
    "`\n",
    "\n",
    "\n",
    "\n",
    "#### Comparision\n",
    "\n",
    "\"If you compare the OLS and 2SLS estimates of the parameters, you'll see that in some cases there are some sizeable numerical differences. Also, in almost all cases the OLS standard errors are less than their 2SLS counterparts. By using OLS, you come away with a false sense of the precision of the estimated structural coefficients.\""
   ]
  },
  {
   "cell_type": "markdown",
   "metadata": {},
   "source": [
    "\n",
    "### 3SLS\n",
    "\n",
    "\"**Three Stage Least Squares (3SLS) **– this is a “full information” or “system” estimator that has the same asymptotic efficiency as **Full Information Maximum Likelihood (FIML)**. The advantage of this estimator over 2SLS is that not only is it consistent, but in general it will be **more efficient (asymptotically)** than 2SLS, as it takes into account the presence of the other equations in the model. This is done by recognizing that there will be a **(contemporaneous) covariance** structure between the error terms in each of the structural equations. The 2SLS estimator ignores this extra information.\"\n",
    "\n",
    "\n",
    "\"there can be a **down-side** to using a \"system\" estimator such as 3SLS. If any one of the equations in the model is mis-specified, this will render the estimates of **all of the coefficients in all of the equations inconsistent**. So, we should be careful in our choice of estimator.\"\n",
    "\n",
    "\n",
    "\n",
    "\"To implement 3SLS, we first need to create the system we're going to use. In the EViews workfile, we select “Object”, “New Object”, “System”. \"\n",
    "\n",
    "`\n",
    "cons=c(1)+c(2)*p+c(3)*p(-1)+c(4)*(wp+wg)\n",
    "i=c(5)+c(6)*p+c(7)*p(-1)+c(8)*k1\n",
    "wp=c(9)+c(10)*x+c(11)*x(-1)+c(12)*a\n",
    "@inst c p(-1) wg k1 x(-1) a g t\n",
    "`\n",
    "\n",
    "\n",
    "Pressing “OK” gives us the 3SLS estimates:\n",
    "\n",
    "![](http://2.bp.blogspot.com/-CcshivKOArs/T7bWRdSBgTI/AAAAAAAAAZw/WbIMlIOfQsI/s1600/threestage3.gif)\n",
    "\n",
    "\n",
    "\n",
    "`\n",
    "threestage.3sls \n",
    "`\n"
   ]
  },
  {
   "cell_type": "markdown",
   "metadata": {},
   "source": [
    "\n",
    "\n",
    "\n",
    "\n",
    "### FIML\n",
    "\n",
    "\"In this case the identities have to be “solved out” (substituted out) from the model in order for EViews to proceed. If you don't do this, then the endogenous variables won't be distinguished properly from the predetermined variables in the likelihood function, and you'll get the wrong estimates.\"\n",
    "\n",
    "\n",
    "\n",
    "The Residual Covariance drop down allows you to choose between the default Unrestricted, and Diagonal, User-covariance, and User-factor settings.\n",
    "• The Unrestricted setting specifies standard FIML estimation in which all of the elements of the residual covariance matrix are estimated along with the coefficients of the mean equation. Note that the variance parameters for FIML are treated as nuisance parameters.\n",
    "• The Diagonal setting places zero restrictions on the off-diagonals of the residual covariance matrix. Only the diagonal elements of the residual covariance matrix corresponding to the variances are estimated.\n",
    "• User-covariance allows you to provide the name of a sym matrix object containing values for all of the residual covariances. All elements of the residual covariance  must be specified; no elements will be estimated.\n",
    "• User-factor offers an alternative method of specifying the residual covariance. Instead of providing a sym matrix containing values of , you will provide the name of a matrix  where . Again, no elements of the residual covariance matrix are estimated.\n",
    "\n",
    "Note that system objects estimated using a restricted FIML (diagonal, user-specified, or user-factor) estimator are not backward compatible with earlier versions of EViews, and will be dropped from the workfile if opened in a version prior to 9.5.\n",
    "\n",
    "\n",
    "`\n",
    "cons=c(1)+c(2)*(cons+i+g-t-wp)+c(3)*(cons(-1)+i(-1)+g(-1)-t(-1)-wp(-1))+c(4)*(wp+wg)\n",
    "i=c(5)+c(6)*(cons+i+g-t-wp)+c(7)*(cons(-1)+i(-1)+g(-1)-t(-1)-wp(-1))+c(8)*k1\n",
    "wp=c(9)+c(10)*(cons+i+g)+c(11)*(cons(-1)+i(-1)+g(-1))+c(12)*a\n",
    "\n",
    "`\n",
    "\n",
    "\n",
    "\n",
    "![](http://www.eviews.com/help/content/images/system.051.4.07.jpg)\n",
    "\n",
    "`\n",
    "surgls.fiml \n",
    "`\n",
    "\n",
    "\n",
    "\n"
   ]
  },
  {
   "cell_type": "markdown",
   "metadata": {},
   "source": [
    "ref:\n",
    "\n",
    "http://www.eviews.com/help/helpintro.html#page/content%2Fsystem-How_to_Create_and_Specify_a_System.html%23\n",
    "\n",
    "http://davegiles.blogspot.ca/2012/05/estimating-simulating-sem.html"
   ]
  },
  {
   "cell_type": "markdown",
   "metadata": {},
   "source": [
    "## Further Reading\n",
    "\n",
    "\n",
    "A model is a group of known equations describing endogenous variables. Models are used to solve for values of the endogenous variables, given information on other variables in the model.\n",
    "\n",
    "\n",
    "Systems and models often work together quite closely. You might estimate the parameters of a system of equations, and then create a model in order to forecast or simulate values of the endogenous variables in the system. We discuss this process in greater detail in “Models”.\n",
    "\n",
    "\n",
    "\n"
   ]
  },
  {
   "cell_type": "markdown",
   "metadata": {},
   "source": [
    "## Seemingly Unrelated Regressions (SUR)  in R"
   ]
  },
  {
   "cell_type": "code",
   "execution_count": null,
   "metadata": {
    "collapsed": true
   },
   "outputs": [],
   "source": [
    "#install.packages(\"systemfit\")"
   ]
  },
  {
   "cell_type": "code",
   "execution_count": null,
   "metadata": {
    "collapsed": true
   },
   "outputs": [],
   "source": [
    "# Seemingly Unrelated Regressions in R\n",
    "# Copyright 2013 by Ani Katchova\n",
    "\n",
    "# install.packages(\"systemfit\")\n",
    "library(systemfit)\n",
    "\n",
    "mydata <- read.csv(\"data/sur_scores.csv\")\n",
    "attach(mydata)\n",
    "\n",
    "# Defining variables\n",
    "Y1 <- math\n",
    "Y2 <- read\n",
    "X1 <- cbind(female, prog, science) \n",
    "X2 <- cbind(female, socst)\n",
    "eq1 <- Y1 ~ X1\n",
    "eq2 <- Y2 ~ X2\n",
    "system <- list (eq1 = eq1, eq2 = eq2)\n",
    "\n"
   ]
  },
  {
   "cell_type": "code",
   "execution_count": null,
   "metadata": {
    "collapsed": true
   },
   "outputs": [],
   "source": [
    "# Descriptive statistics\n",
    "summary(Y1)\n",
    "summary(Y2)\n",
    "summary(X1)\n",
    "summary(X2)\n",
    "\n"
   ]
  },
  {
   "cell_type": "code",
   "execution_count": null,
   "metadata": {
    "collapsed": true
   },
   "outputs": [],
   "source": [
    "# OLS regression\n",
    "olsreg1 <- lm(Y1 ~ X1)\n",
    "summary(olsreg1)"
   ]
  },
  {
   "cell_type": "code",
   "execution_count": null,
   "metadata": {
    "collapsed": true
   },
   "outputs": [],
   "source": [
    "olsreg2 <- lm(Y2 ~ X2)\n",
    "summary(olsreg2)"
   ]
  },
  {
   "cell_type": "code",
   "execution_count": null,
   "metadata": {
    "collapsed": true
   },
   "outputs": [],
   "source": [
    "# SUR\n",
    "sur <- systemfit(system, method = \"SUR\", data = mydata)\n",
    "summary(sur)"
   ]
  },
  {
   "cell_type": "markdown",
   "metadata": {},
   "source": []
  },
  {
   "cell_type": "code",
   "execution_count": null,
   "metadata": {
    "collapsed": true
   },
   "outputs": [],
   "source": [
    "install.packages(\"sem\")\n",
    "library(sem)\n",
    "#https://socialsciences.mcmaster.ca/jfox/Misc/sem/SEM-paper.pdf\n",
    "#https://socialsciences.mcmaster.ca/jfox/Books/Companion/appendix/Appendix-SEMs.pdf\n",
    "#Greene (1993, p. 581) wrote Klein’s model"
   ]
  },
  {
   "cell_type": "code",
   "execution_count": null,
   "metadata": {
    "collapsed": true
   },
   "outputs": [],
   "source": [
    "data(Klein)\n",
    "Klein"
   ]
  },
  {
   "cell_type": "code",
   "execution_count": null,
   "metadata": {
    "collapsed": true
   },
   "outputs": [],
   "source": [
    "Klein$P.lag <- with(Klein, c(NA, P[-length(P)]))\n",
    "Klein$X.lag <- with(Klein, c(NA, X[-length(X)]))\n",
    "Klein$A <- Klein$Year - 1931\n",
    "head(Klein)\n"
   ]
  },
  {
   "cell_type": "code",
   "execution_count": null,
   "metadata": {
    "collapsed": true
   },
   "outputs": [],
   "source": [
    "Klein.eqn1 <- tsls(C ~ P + P.lag + I(Wp + Wg),\n",
    "                    instruments=~G + T + Wg + A + K.lag + P.lag + X.lag,\n",
    "                    data=Klein)\n",
    "summary(Klein.eqn1)\n"
   ]
  },
  {
   "cell_type": "code",
   "execution_count": null,
   "metadata": {
    "collapsed": true
   },
   "outputs": [],
   "source": [
    "Klein.eqn2 <- tsls(I ~ P + P.lag + K.lag,\n",
    "                      instruments=~G + T + Wg + I(Year - 1931) + K.lag + P.lag + X.lag,\n",
    "                      data=Klein)\n",
    "\n",
    "summary(Klein.eqn2)"
   ]
  },
  {
   "cell_type": "code",
   "execution_count": null,
   "metadata": {
    "collapsed": true
   },
   "outputs": [],
   "source": [
    "Klein.eqn3 <- tsls(Wp ~ X + X.lag + I(Year - 1931),\n",
    "                      instruments=~G + T + Wg + I(Year - 1931) + K.lag + P.lag + X.lag,\n",
    "                      data=Klein)\n",
    "summary(Klein.eqn3)"
   ]
  },
  {
   "cell_type": "code",
   "execution_count": null,
   "metadata": {
    "collapsed": true
   },
   "outputs": [],
   "source": [
    "#https://cran.r-project.org/web/packages/sem/sem.pdf\n",
    "#https://socialsciences.mcmaster.ca/jfox/Books/Companion/appendix/Appendix-SEMs.pdf\n"
   ]
  },
  {
   "cell_type": "code",
   "execution_count": null,
   "metadata": {
    "collapsed": true
   },
   "outputs": [],
   "source": []
  },
  {
   "cell_type": "code",
   "execution_count": null,
   "metadata": {
    "collapsed": true
   },
   "outputs": [],
   "source": []
  },
  {
   "cell_type": "code",
   "execution_count": null,
   "metadata": {
    "collapsed": true
   },
   "outputs": [],
   "source": []
  },
  {
   "cell_type": "code",
   "execution_count": null,
   "metadata": {
    "collapsed": true
   },
   "outputs": [],
   "source": []
  }
 ],
 "metadata": {
  "kernelspec": {
   "display_name": "R",
   "language": "R",
   "name": "ir"
  },
  "language_info": {
   "codemirror_mode": "r",
   "file_extension": ".r",
   "mimetype": "text/x-r-source",
   "name": "R",
   "pygments_lexer": "r",
   "version": "3.2.3"
  }
 },
 "nbformat": 4,
 "nbformat_minor": 2
}
