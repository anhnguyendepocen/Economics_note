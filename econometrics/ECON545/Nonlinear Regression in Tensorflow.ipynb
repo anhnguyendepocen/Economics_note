{
 "cells": [
  {
   "cell_type": "markdown",
   "metadata": {},
   "source": [
    "\n",
    "1. Linear Regression in TensorFlow\n",
    "Let’s start with a simple linear regression example. \n",
    "\n",
    "TensorFlow separates definition of computations from their execution\n",
    "- Phase 1: assemble a graph\n",
    "- Phase 2: use a session to execute operations in the graph.\n",
    "\n",
    "\n",
    "ref:\n",
    "    \n",
    "http://web.stanford.edu/class/cs20si/lectures/notes_03.pdf\n",
    "\n",
    "http://web.stanford.edu/class/cs20si/lectures/slides_03.pdf\n",
    "\n",
    "http://patwie.com/2017/01/04/optimization_with_tf.html"
   ]
  },
  {
   "cell_type": "code",
   "execution_count": 1,
   "metadata": {
    "collapsed": false
   },
   "outputs": [],
   "source": [
    "import numpy as np\n",
    "import matplotlib.pyplot as plt\n",
    "import tensorflow as tf\n",
    "import xlrd"
   ]
  },
  {
   "cell_type": "code",
   "execution_count": 5,
   "metadata": {
    "collapsed": false
   },
   "outputs": [],
   "source": [
    "a = 2\n",
    "b = 3\n",
    "x = tf.add(a, b)\n",
    "y = tf.multiply(a, b)\n",
    "useless = tf.multiply(a, x)\n",
    "z = tf.pow(y, x)\n",
    "with tf.Session() as sess:\n",
    "    z = sess.run(z)"
   ]
  },
  {
   "cell_type": "code",
   "execution_count": 6,
   "metadata": {
    "collapsed": false
   },
   "outputs": [
    {
     "name": "stdout",
     "output_type": "stream",
     "text": [
      "7776\n"
     ]
    }
   ],
   "source": [
    "print(z)"
   ]
  },
  {
   "cell_type": "code",
   "execution_count": 7,
   "metadata": {
    "collapsed": true
   },
   "outputs": [],
   "source": [
    "DATA_FILE = \"data/fire_theft.xls\"\n",
    "# Step 1: read in data from the .xls file\n",
    "book = xlrd.open_workbook(DATA_FILE, encoding_override=\"utf-8\")\n",
    "sheet = book.sheet_by_index(0)\n",
    "data = np.asarray([sheet.row_values(i) for i in range(1, sheet.nrows)])\n",
    "n_samples = sheet.nrows - 1\n"
   ]
  },
  {
   "cell_type": "code",
   "execution_count": 11,
   "metadata": {
    "collapsed": false
   },
   "outputs": [
    {
     "data": {
      "text/plain": [
       "(42, 1)"
      ]
     },
     "execution_count": 11,
     "metadata": {},
     "output_type": "execute_result"
    }
   ],
   "source": [
    "data[:,0].reshape(-1,1).shape\n"
   ]
  },
  {
   "cell_type": "code",
   "execution_count": 12,
   "metadata": {
    "collapsed": false
   },
   "outputs": [
    {
     "data": {
      "text/plain": [
       "(1, 42)"
      ]
     },
     "execution_count": 12,
     "metadata": {},
     "output_type": "execute_result"
    }
   ],
   "source": [
    "data[:,0].reshape(1,-1).shape"
   ]
  },
  {
   "cell_type": "code",
   "execution_count": 13,
   "metadata": {
    "collapsed": false
   },
   "outputs": [
    {
     "data": {
      "text/plain": [
       "(84, 1)"
      ]
     },
     "execution_count": 13,
     "metadata": {},
     "output_type": "execute_result"
    }
   ],
   "source": [
    "data.reshape(-1,1).shape"
   ]
  },
  {
   "cell_type": "code",
   "execution_count": 9,
   "metadata": {
    "collapsed": false
   },
   "outputs": [],
   "source": [
    "# Step 2: create placeholders for input X (number of fire) and label Y (number of theft)\n",
    "X = tf.placeholder(tf.float32, name=\"X\")\n",
    "Y = tf.placeholder(tf.float32, name=\"Y\")"
   ]
  },
  {
   "cell_type": "code",
   "execution_count": 10,
   "metadata": {
    "collapsed": true
   },
   "outputs": [],
   "source": [
    "# Step 3: create weight and bias, initialized to 0\n",
    "w = tf.Variable(0.0, name=\"weights\")\n",
    "b = tf.Variable(0.0, name=\"bias\")"
   ]
  },
  {
   "cell_type": "code",
   "execution_count": 11,
   "metadata": {
    "collapsed": true
   },
   "outputs": [],
   "source": [
    "# Step 4: construct model to predict Y (number of theft) from the number of fire\n",
    "Y_predicted = X * w + b"
   ]
  },
  {
   "cell_type": "code",
   "execution_count": 16,
   "metadata": {
    "collapsed": true
   },
   "outputs": [],
   "source": [
    "# Step 5: use the square error as the loss function\n",
    "loss = tf.square(Y - Y_predicted, name=\"loss\")"
   ]
  },
  {
   "cell_type": "code",
   "execution_count": 17,
   "metadata": {
    "collapsed": true
   },
   "outputs": [],
   "source": [
    "# Step 6: using gradient descent with learning rate of 0.01 to minimize loss\n",
    "optimizer = tf.train.GradientDescentOptimizer(learning_rate=0.001).minimize(loss)"
   ]
  },
  {
   "cell_type": "code",
   "execution_count": 40,
   "metadata": {
    "collapsed": false
   },
   "outputs": [],
   "source": [
    "with tf.Session() as sess:\n",
    "    total_loss = 0\n",
    "    # Step 7: initialize the necessary variables, in this case, w and b\n",
    "    sess.run(tf.global_variables_initializer())\n",
    "    # Step 8: train the model\n",
    "    epochs = 300\n",
    "    for i in range(epochs): # run 100 epochs\n",
    "        epoch_loss = 0\n",
    "        for x, y in data:\n",
    "            # Session runs train_op to minimize loss\n",
    "             _, loss_value = sess.run([optimizer,loss], feed_dict={X: x, Y:y})\n",
    "             epoch_loss+=loss_value\n",
    "        total_loss += epoch_loss\n",
    "    # Step 9: output the values of w and b\n",
    "    w_value, b_value = sess.run([w, b])\n",
    "    average_loss = total_loss/epochs\n",
    "#https://stackoverflow.com/questions/33833818/printing-the-loss-during-tensorflow-training"
   ]
  },
  {
   "cell_type": "code",
   "execution_count": 41,
   "metadata": {
    "collapsed": false
   },
   "outputs": [
    {
     "data": {
      "text/plain": [
       "(1.6207061, 16.916241)"
      ]
     },
     "execution_count": 41,
     "metadata": {},
     "output_type": "execute_result"
    }
   ],
   "source": [
    "w_value, b_value"
   ]
  },
  {
   "cell_type": "code",
   "execution_count": 42,
   "metadata": {
    "collapsed": false
   },
   "outputs": [
    {
     "data": {
      "text/plain": [
       "61172.561988297006"
      ]
     },
     "execution_count": 42,
     "metadata": {},
     "output_type": "execute_result"
    }
   ],
   "source": [
    "average_loss"
   ]
  },
  {
   "cell_type": "code",
   "execution_count": 14,
   "metadata": {
    "collapsed": false,
    "scrolled": false
   },
   "outputs": [
    {
     "name": "stdout",
     "output_type": "stream",
     "text": [
      "Epoch 0: 2069.6319333978354\n",
      "Epoch 1: 2117.0123581953535\n",
      "Epoch 2: 2092.302723001866\n",
      "Epoch 3: 2068.5080461938464\n",
      "Epoch 4: 2045.591184088162\n",
      "Epoch 5: 2023.5146448101316\n",
      "Epoch 6: 2002.2447619835536\n",
      "Epoch 7: 1981.748338803649\n",
      "Epoch 8: 1961.9944411260742\n",
      "Epoch 9: 1942.9520116143283\n",
      "Epoch 10: 1924.5930823644712\n",
      "Epoch 11: 1906.8898800636332\n",
      "Epoch 12: 1889.8164505837929\n",
      "Epoch 13: 1873.347133841543\n",
      "Epoch 14: 1857.4588400604468\n",
      "Epoch 15: 1842.1278742424079\n",
      "Epoch 16: 1827.332495119955\n",
      "Epoch 17: 1813.0520579712022\n",
      "Epoch 18: 1799.2660847636982\n",
      "Epoch 19: 1785.9562132299961\n",
      "Epoch 20: 1773.1024853109072\n",
      "Epoch 21: 1760.689129482884\n",
      "Epoch 22: 1748.6984157081515\n",
      "Epoch 23: 1737.1138680398553\n",
      "Epoch 24: 1725.920873066732\n",
      "Epoch 25: 1715.1046249579008\n",
      "Epoch 26: 1704.6500954309377\n",
      "Epoch 27: 1694.5447134910141\n",
      "Epoch 28: 1684.7746311347667\n",
      "Epoch 29: 1675.328450968245\n",
      "Epoch 30: 1666.1935385839038\n",
      "Epoch 31: 1657.3584002084322\n",
      "Epoch 32: 1648.8122658529207\n",
      "Epoch 33: 1640.5440742547091\n",
      "Epoch 34: 1632.5446836102221\n",
      "Epoch 35: 1624.8043315147183\n",
      "Epoch 36: 1617.3126799958602\n",
      "Epoch 37: 1610.0622532456405\n",
      "Epoch 38: 1603.0433557207386\n",
      "Epoch 39: 1596.2479176106197\n",
      "Epoch 40: 1589.668056331575\n",
      "Epoch 41: 1583.2965242617897\n",
      "Epoch 42: 1577.126371285745\n",
      "Epoch 43: 1571.1501190634\n",
      "Epoch 44: 1565.360979151513\n",
      "Epoch 45: 1559.7523780798629\n",
      "Epoch 46: 1554.3184364555138\n",
      "Epoch 47: 1549.0529469620615\n",
      "Epoch 48: 1543.950059985476\n",
      "Epoch 49: 1539.0050282141283\n",
      "Epoch 50: 1534.211797797609\n",
      "Epoch 51: 1529.56534988646\n",
      "Epoch 52: 1525.0607591186251\n",
      "Epoch 53: 1520.6934648507852\n",
      "Epoch 54: 1516.4585935090713\n",
      "Epoch 55: 1512.3524023861364\n",
      "Epoch 56: 1508.3695780125756\n",
      "Epoch 57: 1504.5066588066873\n",
      "Epoch 58: 1500.7606269073274\n",
      "Epoch 59: 1497.126336559476\n",
      "Epoch 60: 1493.600210891061\n",
      "Epoch 61: 1490.1794991287668\n",
      "Epoch 62: 1486.8605145300749\n",
      "Epoch 63: 1483.639419928193\n",
      "Epoch 64: 1480.5144186365596\n",
      "Epoch 65: 1477.4811065652452\n",
      "Epoch 66: 1474.5376660533782\n",
      "Epoch 67: 1471.6799176652871\n",
      "Epoch 68: 1468.9063155567717\n",
      "Epoch 69: 1466.2136880280007\n",
      "Epoch 70: 1463.5996563179153\n",
      "Epoch 71: 1461.0614086978492\n",
      "Epoch 72: 1458.597208841216\n",
      "Epoch 73: 1456.2043069711044\n",
      "Epoch 74: 1453.8807724802089\n",
      "Epoch 75: 1451.6242183893032\n",
      "Epoch 76: 1449.432753210976\n",
      "Epoch 77: 1447.3042320180018\n",
      "Epoch 78: 1445.237068621615\n",
      "Epoch 79: 1443.228872676177\n",
      "Epoch 80: 1441.2782130186733\n",
      "Epoch 81: 1439.3831422174615\n",
      "Epoch 82: 1437.542224922173\n",
      "Epoch 83: 1435.7540219968096\n",
      "Epoch 84: 1434.0160684508405\n",
      "Epoch 85: 1432.3276573866606\n",
      "Epoch 86: 1430.687153330871\n",
      "Epoch 87: 1429.093016880254\n",
      "Epoch 88: 1427.543719962062\n",
      "Epoch 89: 1426.038033108981\n",
      "Epoch 90: 1424.5748210840281\n",
      "Epoch 91: 1423.1531702368743\n",
      "Epoch 92: 1421.771026852585\n",
      "Epoch 93: 1420.4274983895677\n",
      "Epoch 94: 1419.121967994741\n",
      "Epoch 95: 1417.85251878131\n",
      "Epoch 96: 1416.618930517208\n",
      "Epoch 97: 1415.4196022436731\n",
      "Epoch 98: 1414.2534379121803\n",
      "Epoch 99: 1413.1202843011845\n"
     ]
    },
    {
     "data": {
      "image/png": "[encoded data removed]",
      "text/plain": [
       "<matplotlib.figure.Figure at 0x7ff62cfc5780>"
      ]
     },
     "metadata": {},
     "output_type": "display_data"
    }
   ],
   "source": [
    "# Step 1: read in data from the .xls file\n",
    "DATA_FILE = \"data/fire_theft.xls\"\n",
    "book = xlrd.open_workbook(DATA_FILE, encoding_override=\"utf-8\")\n",
    "sheet = book.sheet_by_index(0)\n",
    "data = np.asarray([sheet.row_values(i) for i in range(1, sheet.nrows)])\n",
    "n_samples = sheet.nrows - 1\n",
    "\n",
    "# Step 2: create placeholders for input X (number of fire) and label Y (number of theft)\n",
    "X = tf.placeholder(tf.float32, name='X')\n",
    "Y = tf.placeholder(tf.float32, name='Y')\n",
    "\n",
    "# Step 3: create weight and bias, initialized to 0\n",
    "w = tf.Variable(0.0, name='weights')\n",
    "b = tf.Variable(0.0, name='bias')\n",
    "\n",
    "# Step 4: build model to predict Y\n",
    "Y_predicted = X * w + b \n",
    "\n",
    "# Step 5: use the square error as the loss function\n",
    "loss = tf.square(Y - Y_predicted, name='loss')\n",
    "# loss = utils.huber_loss(Y, Y_predicted)\n",
    "\n",
    "# Step 6: using gradient descent with learning rate of 0.01 to minimize loss\n",
    "optimizer = tf.train.GradientDescentOptimizer(learning_rate=0.001).minimize(loss)\n",
    "\n",
    "with tf.Session() as sess:\n",
    "\t# Step 7: initialize the necessary variables, in this case, w and b\n",
    "\tsess.run(tf.global_variables_initializer()) \n",
    "\t\n",
    "\twriter = tf.summary.FileWriter('./graphs/linear_reg', sess.graph)\n",
    "\t\n",
    "\t# Step 8: train the model\n",
    "\tfor i in range(100): # train the model 100 epochs\n",
    "\t\ttotal_loss = 0\n",
    "\t\tfor x, y in data:\n",
    "\t\t\t# Session runs train_op and fetch values of loss\n",
    "\t\t\t_, l = sess.run([optimizer, loss], feed_dict={X: x, Y:y}) \n",
    "\t\t\ttotal_loss += l\n",
    "\t\tprint('Epoch {0}: {1}'.format(i, total_loss/n_samples))\n",
    "\n",
    "\t# close the writer when you're done using it\n",
    "\twriter.close() \n",
    "\t\n",
    "\t# Step 9: output the values of w and b\n",
    "\tw, b = sess.run([w, b]) \n",
    "\n",
    "# plot the results\n",
    "X, Y = data.T[0], data.T[1]\n",
    "plt.plot(X, Y, 'bo', label='Real data')\n",
    "plt.plot(X, X * w + b, 'r', label='Predicted data')\n",
    "plt.legend()\n",
    "plt.show()"
   ]
  },
  {
   "cell_type": "code",
   "execution_count": 56,
   "metadata": {
    "collapsed": false
   },
   "outputs": [
    {
     "data": {
      "text/plain": [
       "(1.7183813, 15.789157)"
      ]
     },
     "execution_count": 56,
     "metadata": {},
     "output_type": "execute_result"
    }
   ],
   "source": [
    "w,b"
   ]
  },
  {
   "cell_type": "markdown",
   "metadata": {},
   "source": [
    "After training for 100 epochs, we got the average square loss to be average_loss with w =1.62071, b = 16.9162. The loss is quite large.\n",
    "\n",
    "\n",
    "It doesn’t quite fit. Can we do better with quadratic function Y = wXX + uX + b?\n",
    "Let’s try. We only have to add another variable b and change the formula for Y_predicted.\n"
   ]
  },
  {
   "cell_type": "code",
   "execution_count": 16,
   "metadata": {
    "collapsed": false
   },
   "outputs": [
    {
     "name": "stdout",
     "output_type": "stream",
     "text": [
      "Epoch 0: nan\n",
      "Epoch 1: nan\n",
      "Epoch 2: nan\n",
      "Epoch 3: nan\n",
      "Epoch 4: nan\n",
      "Epoch 5: nan\n",
      "Epoch 6: nan\n",
      "Epoch 7: nan\n",
      "Epoch 8: nan\n",
      "Epoch 9: nan\n",
      "Epoch 10: nan\n",
      "Epoch 11: nan\n",
      "Epoch 12: nan\n",
      "Epoch 13: nan\n",
      "Epoch 14: nan\n",
      "Epoch 15: nan\n",
      "Epoch 16: nan\n",
      "Epoch 17: nan\n",
      "Epoch 18: nan\n",
      "Epoch 19: nan\n",
      "Epoch 20: nan\n",
      "Epoch 21: nan\n",
      "Epoch 22: nan\n",
      "Epoch 23: nan\n",
      "Epoch 24: nan\n",
      "Epoch 25: nan\n",
      "Epoch 26: nan\n",
      "Epoch 27: nan\n",
      "Epoch 28: nan\n",
      "Epoch 29: nan\n",
      "Epoch 30: nan\n",
      "Epoch 31: nan\n",
      "Epoch 32: nan\n",
      "Epoch 33: nan\n",
      "Epoch 34: nan\n",
      "Epoch 35: nan\n",
      "Epoch 36: nan\n",
      "Epoch 37: nan\n",
      "Epoch 38: nan\n",
      "Epoch 39: nan\n",
      "Epoch 40: nan\n",
      "Epoch 41: nan\n",
      "Epoch 42: nan\n",
      "Epoch 43: nan\n",
      "Epoch 44: nan\n",
      "Epoch 45: nan\n",
      "Epoch 46: nan\n",
      "Epoch 47: nan\n",
      "Epoch 48: nan\n",
      "Epoch 49: nan\n",
      "Epoch 50: nan\n",
      "Epoch 51: nan\n",
      "Epoch 52: nan\n",
      "Epoch 53: nan\n",
      "Epoch 54: nan\n",
      "Epoch 55: nan\n",
      "Epoch 56: nan\n",
      "Epoch 57: nan\n",
      "Epoch 58: nan\n",
      "Epoch 59: nan\n",
      "Epoch 60: nan\n",
      "Epoch 61: nan\n",
      "Epoch 62: nan\n",
      "Epoch 63: nan\n",
      "Epoch 64: nan\n",
      "Epoch 65: nan\n",
      "Epoch 66: nan\n",
      "Epoch 67: nan\n",
      "Epoch 68: nan\n",
      "Epoch 69: nan\n",
      "Epoch 70: nan\n",
      "Epoch 71: nan\n",
      "Epoch 72: nan\n",
      "Epoch 73: nan\n",
      "Epoch 74: nan\n",
      "Epoch 75: nan\n",
      "Epoch 76: nan\n",
      "Epoch 77: nan\n",
      "Epoch 78: nan\n",
      "Epoch 79: nan\n",
      "Epoch 80: nan\n",
      "Epoch 81: nan\n",
      "Epoch 82: nan\n",
      "Epoch 83: nan\n",
      "Epoch 84: nan\n",
      "Epoch 85: nan\n",
      "Epoch 86: nan\n",
      "Epoch 87: nan\n",
      "Epoch 88: nan\n",
      "Epoch 89: nan\n",
      "Epoch 90: nan\n",
      "Epoch 91: nan\n",
      "Epoch 92: nan\n",
      "Epoch 93: nan\n",
      "Epoch 94: nan\n",
      "Epoch 95: nan\n",
      "Epoch 96: nan\n",
      "Epoch 97: nan\n",
      "Epoch 98: nan\n",
      "Epoch 99: nan\n"
     ]
    },
    {
     "data": {
      "image/png": "[encoded data removed]",
      "text/plain": [
       "<matplotlib.figure.Figure at 0x7ff62cfb4a58>"
      ]
     },
     "metadata": {},
     "output_type": "display_data"
    }
   ],
   "source": [
    "# Step 1: read in data from the .xls file\n",
    "DATA_FILE = \"data/fire_theft.xls\"\n",
    "book = xlrd.open_workbook(DATA_FILE, encoding_override=\"utf-8\")\n",
    "sheet = book.sheet_by_index(0)\n",
    "data = np.asarray([sheet.row_values(i) for i in range(1, sheet.nrows)])\n",
    "n_samples = sheet.nrows - 1\n",
    "\n",
    "# Step 2: create placeholders for input X (number of fire) and label Y (number of theft)\n",
    "X = tf.placeholder(tf.float32, name='X')\n",
    "Y = tf.placeholder(tf.float32, name='Y')\n",
    "\n",
    "# Step 3: create weight and bias, initialized to 0\n",
    "w1 = tf.Variable(0.0, name='weights1')\n",
    "w2 = tf.Variable(0.0, name='weights2')\n",
    "b = tf.Variable(0.0, name='bias')\n",
    "\n",
    "\n",
    "# Step 4: build model to predict Y\n",
    "Y_predicted = X * w1 + X*X*w2 + b \n",
    "\n",
    "# Step 5: use the square error as the loss function\n",
    "loss = tf.square(Y - Y_predicted, name='loss')\n",
    "# loss = utils.huber_loss(Y, Y_predicted)\n",
    "\n",
    "# Step 6: using gradient descent with learning rate of 0.01 to minimize loss\n",
    "optimizer = tf.train.GradientDescentOptimizer(learning_rate=0.001).minimize(loss)\n",
    "\n",
    "with tf.Session() as sess:\n",
    "\t# Step 7: initialize the necessary variables, in this case, w and b\n",
    "\tsess.run(tf.global_variables_initializer()) \n",
    "\t\n",
    "\twriter = tf.summary.FileWriter('./graphs/linear_reg', sess.graph)\n",
    "\t\n",
    "\t# Step 8: train the model\n",
    "\tfor i in range(100): # train the model 100 epochs\n",
    "\t\ttotal_loss = 0\n",
    "\t\tfor x, y in data:\n",
    "\t\t\t# Session runs train_op and fetch values of loss\n",
    "\t\t\t_, l = sess.run([optimizer, loss], feed_dict={X: x, Y:y}) \n",
    "\t\t\ttotal_loss += l\n",
    "\t\tprint('Epoch {0}: {1}'.format(i, total_loss/n_samples))\n",
    "\n",
    "\t# close the writer when you're done using it\n",
    "\twriter.close() \n",
    "\t\n",
    "\t# Step 9: output the values of w and b\n",
    "\tw1,w2 ,b = sess.run([w1,w2, b]) \n",
    "\n",
    "# plot the results\n",
    "X, Y = data.T[0], data.T[1]\n",
    "plt.plot(X, Y, 'bo', label='Real data')\n",
    "plt.plot(X, X * w1+X*X*w2 + b, 'r', label='Predicted data')\n",
    "plt.legend()\n",
    "plt.show()"
   ]
  },
  {
   "cell_type": "code",
   "execution_count": 17,
   "metadata": {
    "collapsed": false
   },
   "outputs": [
    {
     "ename": "TypeError",
     "evalue": "Failed to convert object of type <class 'tensorflow.python.framework.dtypes.DType'> to Tensor. Contents: <dtype: 'float32'>. Consider casting elements to a supported type.",
     "output_type": "error",
     "traceback": [
      "\u001b[0;31m---------------------------------------------------------------------------\u001b[0m",
      "\u001b[0;31mTypeError\u001b[0m                                 Traceback (most recent call last)",
      "\u001b[0;32m/home/jonduan/.local/lib/python3.5/site-packages/tensorflow/python/framework/tensor_util.py\u001b[0m in \u001b[0;36mmake_tensor_proto\u001b[0;34m(values, dtype, shape, verify_shape)\u001b[0m\n\u001b[1;32m    457\u001b[0m     \u001b[0;32mtry\u001b[0m\u001b[0;34m:\u001b[0m\u001b[0;34m\u001b[0m\u001b[0m\n\u001b[0;32m--> 458\u001b[0;31m       \u001b[0mstr_values\u001b[0m \u001b[0;34m=\u001b[0m \u001b[0;34m[\u001b[0m\u001b[0mcompat\u001b[0m\u001b[0;34m.\u001b[0m\u001b[0mas_bytes\u001b[0m\u001b[0;34m(\u001b[0m\u001b[0mx\u001b[0m\u001b[0;34m)\u001b[0m \u001b[0;32mfor\u001b[0m \u001b[0mx\u001b[0m \u001b[0;32min\u001b[0m \u001b[0mproto_values\u001b[0m\u001b[0;34m]\u001b[0m\u001b[0;34m\u001b[0m\u001b[0m\n\u001b[0m\u001b[1;32m    459\u001b[0m     \u001b[0;32mexcept\u001b[0m \u001b[0mTypeError\u001b[0m\u001b[0;34m:\u001b[0m\u001b[0;34m\u001b[0m\u001b[0m\n",
      "\u001b[0;32m/home/jonduan/.local/lib/python3.5/site-packages/tensorflow/python/framework/tensor_util.py\u001b[0m in \u001b[0;36m<listcomp>\u001b[0;34m(.0)\u001b[0m\n\u001b[1;32m    457\u001b[0m     \u001b[0;32mtry\u001b[0m\u001b[0;34m:\u001b[0m\u001b[0;34m\u001b[0m\u001b[0m\n\u001b[0;32m--> 458\u001b[0;31m       \u001b[0mstr_values\u001b[0m \u001b[0;34m=\u001b[0m \u001b[0;34m[\u001b[0m\u001b[0mcompat\u001b[0m\u001b[0;34m.\u001b[0m\u001b[0mas_bytes\u001b[0m\u001b[0;34m(\u001b[0m\u001b[0mx\u001b[0m\u001b[0;34m)\u001b[0m \u001b[0;32mfor\u001b[0m \u001b[0mx\u001b[0m \u001b[0;32min\u001b[0m \u001b[0mproto_values\u001b[0m\u001b[0;34m]\u001b[0m\u001b[0;34m\u001b[0m\u001b[0m\n\u001b[0m\u001b[1;32m    459\u001b[0m     \u001b[0;32mexcept\u001b[0m \u001b[0mTypeError\u001b[0m\u001b[0;34m:\u001b[0m\u001b[0;34m\u001b[0m\u001b[0m\n",
      "\u001b[0;32m/home/jonduan/.local/lib/python3.5/site-packages/tensorflow/python/util/compat.py\u001b[0m in \u001b[0;36mas_bytes\u001b[0;34m(bytes_or_text, encoding)\u001b[0m\n\u001b[1;32m     64\u001b[0m     raise TypeError('Expected binary or unicode string, got %r' %\n\u001b[0;32m---> 65\u001b[0;31m                     (bytes_or_text,))\n\u001b[0m\u001b[1;32m     66\u001b[0m \u001b[0;34m\u001b[0m\u001b[0m\n",
      "\u001b[0;31mTypeError\u001b[0m: Expected binary or unicode string, got tf.float32",
      "\nDuring handling of the above exception, another exception occurred:\n",
      "\u001b[0;31mTypeError\u001b[0m                                 Traceback (most recent call last)",
      "\u001b[0;32m<ipython-input-17-b0d9d3a031af>\u001b[0m in \u001b[0;36m<module>\u001b[0;34m()\u001b[0m\n\u001b[1;32m     10\u001b[0m \u001b[0mY\u001b[0m \u001b[0;34m=\u001b[0m \u001b[0mtf\u001b[0m\u001b[0;34m.\u001b[0m\u001b[0mplaceholder\u001b[0m\u001b[0;34m(\u001b[0m\u001b[0mtf\u001b[0m\u001b[0;34m.\u001b[0m\u001b[0mfloat32\u001b[0m\u001b[0;34m,\u001b[0m \u001b[0mname\u001b[0m\u001b[0;34m=\u001b[0m\u001b[0;34m'Y'\u001b[0m\u001b[0;34m)\u001b[0m\u001b[0;34m\u001b[0m\u001b[0m\n\u001b[1;32m     11\u001b[0m \u001b[0;31m# Step 3: create variables: weights_1, weights_2, bias. All are initialized to 0\u001b[0m\u001b[0;34m\u001b[0m\u001b[0;34m\u001b[0m\u001b[0m\n\u001b[0;32m---> 12\u001b[0;31m \u001b[0mw\u001b[0m \u001b[0;34m=\u001b[0m \u001b[0mtf\u001b[0m\u001b[0;34m.\u001b[0m\u001b[0mVariable\u001b[0m\u001b[0;34m(\u001b[0m\u001b[0mtf\u001b[0m\u001b[0;34m.\u001b[0m\u001b[0mfloat32\u001b[0m\u001b[0;34m,\u001b[0m \u001b[0mname\u001b[0m\u001b[0;34m=\u001b[0m\u001b[0;34m\"weights_1\"\u001b[0m\u001b[0;34m)\u001b[0m\u001b[0;34m\u001b[0m\u001b[0m\n\u001b[0m\u001b[1;32m     13\u001b[0m \u001b[0mu\u001b[0m \u001b[0;34m=\u001b[0m \u001b[0mtf\u001b[0m\u001b[0;34m.\u001b[0m\u001b[0mVariable\u001b[0m\u001b[0;34m(\u001b[0m\u001b[0mtf\u001b[0m\u001b[0;34m.\u001b[0m\u001b[0mfloat32\u001b[0m\u001b[0;34m,\u001b[0m \u001b[0mname\u001b[0m\u001b[0;34m=\u001b[0m\u001b[0;34m\"weights_2\"\u001b[0m\u001b[0;34m)\u001b[0m\u001b[0;34m\u001b[0m\u001b[0m\n\u001b[1;32m     14\u001b[0m \u001b[0mb\u001b[0m \u001b[0;34m=\u001b[0m \u001b[0mtf\u001b[0m\u001b[0;34m.\u001b[0m\u001b[0mVariable\u001b[0m\u001b[0;34m(\u001b[0m\u001b[0mtf\u001b[0m\u001b[0;34m.\u001b[0m\u001b[0mfloat32\u001b[0m\u001b[0;34m,\u001b[0m \u001b[0mname\u001b[0m\u001b[0;34m=\u001b[0m\u001b[0;34m\"bias\"\u001b[0m\u001b[0;34m)\u001b[0m\u001b[0;34m\u001b[0m\u001b[0m\n",
      "\u001b[0;32m/home/jonduan/.local/lib/python3.5/site-packages/tensorflow/python/ops/variables.py\u001b[0m in \u001b[0;36m__init__\u001b[0;34m(self, initial_value, trainable, collections, validate_shape, caching_device, name, variable_def, dtype, expected_shape, import_scope)\u001b[0m\n\u001b[1;32m    198\u001b[0m           \u001b[0mname\u001b[0m\u001b[0;34m=\u001b[0m\u001b[0mname\u001b[0m\u001b[0;34m,\u001b[0m\u001b[0;34m\u001b[0m\u001b[0m\n\u001b[1;32m    199\u001b[0m           \u001b[0mdtype\u001b[0m\u001b[0;34m=\u001b[0m\u001b[0mdtype\u001b[0m\u001b[0;34m,\u001b[0m\u001b[0;34m\u001b[0m\u001b[0m\n\u001b[0;32m--> 200\u001b[0;31m           expected_shape=expected_shape)\n\u001b[0m\u001b[1;32m    201\u001b[0m \u001b[0;34m\u001b[0m\u001b[0m\n\u001b[1;32m    202\u001b[0m   \u001b[0;32mdef\u001b[0m \u001b[0m__repr__\u001b[0m\u001b[0;34m(\u001b[0m\u001b[0mself\u001b[0m\u001b[0;34m)\u001b[0m\u001b[0;34m:\u001b[0m\u001b[0;34m\u001b[0m\u001b[0m\n",
      "\u001b[0;32m/home/jonduan/.local/lib/python3.5/site-packages/tensorflow/python/ops/variables.py\u001b[0m in \u001b[0;36m_init_from_args\u001b[0;34m(self, initial_value, trainable, collections, validate_shape, caching_device, name, dtype, expected_shape)\u001b[0m\n\u001b[1;32m    287\u001b[0m         \u001b[0;32melse\u001b[0m\u001b[0;34m:\u001b[0m\u001b[0;34m\u001b[0m\u001b[0m\n\u001b[1;32m    288\u001b[0m           self._initial_value = ops.convert_to_tensor(\n\u001b[0;32m--> 289\u001b[0;31m               initial_value, name=\"initial_value\", dtype=dtype)\n\u001b[0m\u001b[1;32m    290\u001b[0m           shape = (self._initial_value.get_shape()\n\u001b[1;32m    291\u001b[0m                    if validate_shape else tensor_shape.unknown_shape())\n",
      "\u001b[0;32m/home/jonduan/.local/lib/python3.5/site-packages/tensorflow/python/framework/ops.py\u001b[0m in \u001b[0;36mconvert_to_tensor\u001b[0;34m(value, dtype, name, preferred_dtype)\u001b[0m\n\u001b[1;32m    674\u001b[0m       \u001b[0mname\u001b[0m\u001b[0;34m=\u001b[0m\u001b[0mname\u001b[0m\u001b[0;34m,\u001b[0m\u001b[0;34m\u001b[0m\u001b[0m\n\u001b[1;32m    675\u001b[0m       \u001b[0mpreferred_dtype\u001b[0m\u001b[0;34m=\u001b[0m\u001b[0mpreferred_dtype\u001b[0m\u001b[0;34m,\u001b[0m\u001b[0;34m\u001b[0m\u001b[0m\n\u001b[0;32m--> 676\u001b[0;31m       as_ref=False)\n\u001b[0m\u001b[1;32m    677\u001b[0m \u001b[0;34m\u001b[0m\u001b[0m\n\u001b[1;32m    678\u001b[0m \u001b[0;34m\u001b[0m\u001b[0m\n",
      "\u001b[0;32m/home/jonduan/.local/lib/python3.5/site-packages/tensorflow/python/framework/ops.py\u001b[0m in \u001b[0;36minternal_convert_to_tensor\u001b[0;34m(value, dtype, name, as_ref, preferred_dtype)\u001b[0m\n\u001b[1;32m    739\u001b[0m \u001b[0;34m\u001b[0m\u001b[0m\n\u001b[1;32m    740\u001b[0m         \u001b[0;32mif\u001b[0m \u001b[0mret\u001b[0m \u001b[0;32mis\u001b[0m \u001b[0;32mNone\u001b[0m\u001b[0;34m:\u001b[0m\u001b[0;34m\u001b[0m\u001b[0m\n\u001b[0;32m--> 741\u001b[0;31m           \u001b[0mret\u001b[0m \u001b[0;34m=\u001b[0m \u001b[0mconversion_func\u001b[0m\u001b[0;34m(\u001b[0m\u001b[0mvalue\u001b[0m\u001b[0;34m,\u001b[0m \u001b[0mdtype\u001b[0m\u001b[0;34m=\u001b[0m\u001b[0mdtype\u001b[0m\u001b[0;34m,\u001b[0m \u001b[0mname\u001b[0m\u001b[0;34m=\u001b[0m\u001b[0mname\u001b[0m\u001b[0;34m,\u001b[0m \u001b[0mas_ref\u001b[0m\u001b[0;34m=\u001b[0m\u001b[0mas_ref\u001b[0m\u001b[0;34m)\u001b[0m\u001b[0;34m\u001b[0m\u001b[0m\n\u001b[0m\u001b[1;32m    742\u001b[0m \u001b[0;34m\u001b[0m\u001b[0m\n\u001b[1;32m    743\u001b[0m         \u001b[0;32mif\u001b[0m \u001b[0mret\u001b[0m \u001b[0;32mis\u001b[0m \u001b[0mNotImplemented\u001b[0m\u001b[0;34m:\u001b[0m\u001b[0;34m\u001b[0m\u001b[0m\n",
      "\u001b[0;32m/home/jonduan/.local/lib/python3.5/site-packages/tensorflow/python/framework/constant_op.py\u001b[0m in \u001b[0;36m_constant_tensor_conversion_function\u001b[0;34m(v, dtype, name, as_ref)\u001b[0m\n\u001b[1;32m    111\u001b[0m                                          as_ref=False):\n\u001b[1;32m    112\u001b[0m   \u001b[0m_\u001b[0m \u001b[0;34m=\u001b[0m \u001b[0mas_ref\u001b[0m\u001b[0;34m\u001b[0m\u001b[0m\n\u001b[0;32m--> 113\u001b[0;31m   \u001b[0;32mreturn\u001b[0m \u001b[0mconstant\u001b[0m\u001b[0;34m(\u001b[0m\u001b[0mv\u001b[0m\u001b[0;34m,\u001b[0m \u001b[0mdtype\u001b[0m\u001b[0;34m=\u001b[0m\u001b[0mdtype\u001b[0m\u001b[0;34m,\u001b[0m \u001b[0mname\u001b[0m\u001b[0;34m=\u001b[0m\u001b[0mname\u001b[0m\u001b[0;34m)\u001b[0m\u001b[0;34m\u001b[0m\u001b[0m\n\u001b[0m\u001b[1;32m    114\u001b[0m \u001b[0;34m\u001b[0m\u001b[0m\n\u001b[1;32m    115\u001b[0m \u001b[0;34m\u001b[0m\u001b[0m\n",
      "\u001b[0;32m/home/jonduan/.local/lib/python3.5/site-packages/tensorflow/python/framework/constant_op.py\u001b[0m in \u001b[0;36mconstant\u001b[0;34m(value, dtype, shape, name, verify_shape)\u001b[0m\n\u001b[1;32m    100\u001b[0m   \u001b[0mtensor_value\u001b[0m \u001b[0;34m=\u001b[0m \u001b[0mattr_value_pb2\u001b[0m\u001b[0;34m.\u001b[0m\u001b[0mAttrValue\u001b[0m\u001b[0;34m(\u001b[0m\u001b[0;34m)\u001b[0m\u001b[0;34m\u001b[0m\u001b[0m\n\u001b[1;32m    101\u001b[0m   tensor_value.tensor.CopyFrom(\n\u001b[0;32m--> 102\u001b[0;31m       tensor_util.make_tensor_proto(value, dtype=dtype, shape=shape, verify_shape=verify_shape))\n\u001b[0m\u001b[1;32m    103\u001b[0m   \u001b[0mdtype_value\u001b[0m \u001b[0;34m=\u001b[0m \u001b[0mattr_value_pb2\u001b[0m\u001b[0;34m.\u001b[0m\u001b[0mAttrValue\u001b[0m\u001b[0;34m(\u001b[0m\u001b[0mtype\u001b[0m\u001b[0;34m=\u001b[0m\u001b[0mtensor_value\u001b[0m\u001b[0;34m.\u001b[0m\u001b[0mtensor\u001b[0m\u001b[0;34m.\u001b[0m\u001b[0mdtype\u001b[0m\u001b[0;34m)\u001b[0m\u001b[0;34m\u001b[0m\u001b[0m\n\u001b[1;32m    104\u001b[0m   const_tensor = g.create_op(\n",
      "\u001b[0;32m/home/jonduan/.local/lib/python3.5/site-packages/tensorflow/python/framework/tensor_util.py\u001b[0m in \u001b[0;36mmake_tensor_proto\u001b[0;34m(values, dtype, shape, verify_shape)\u001b[0m\n\u001b[1;32m    460\u001b[0m       raise TypeError(\"Failed to convert object of type %s to Tensor. \"\n\u001b[1;32m    461\u001b[0m                       \u001b[0;34m\"Contents: %s. Consider casting elements to a \"\u001b[0m\u001b[0;34m\u001b[0m\u001b[0m\n\u001b[0;32m--> 462\u001b[0;31m                       \"supported type.\" % (type(values), values))\n\u001b[0m\u001b[1;32m    463\u001b[0m     \u001b[0mtensor_proto\u001b[0m\u001b[0;34m.\u001b[0m\u001b[0mstring_val\u001b[0m\u001b[0;34m.\u001b[0m\u001b[0mextend\u001b[0m\u001b[0;34m(\u001b[0m\u001b[0mstr_values\u001b[0m\u001b[0;34m)\u001b[0m\u001b[0;34m\u001b[0m\u001b[0m\n\u001b[1;32m    464\u001b[0m     \u001b[0;32mreturn\u001b[0m \u001b[0mtensor_proto\u001b[0m\u001b[0;34m\u001b[0m\u001b[0m\n",
      "\u001b[0;31mTypeError\u001b[0m: Failed to convert object of type <class 'tensorflow.python.framework.dtypes.DType'> to Tensor. Contents: <dtype: 'float32'>. Consider casting elements to a supported type."
     ]
    }
   ],
   "source": [
    "# Step 1: read in data from the .xls file\n",
    "DATA_FILE = \"data/fire_theft.xls\"\n",
    "book = xlrd.open_workbook(DATA_FILE, encoding_override=\"utf-8\")\n",
    "sheet = book.sheet_by_index(0)\n",
    "data = np.asarray([sheet.row_values(i) for i in range(1, sheet.nrows)])\n",
    "n_samples = sheet.nrows - 1\n",
    "\n",
    "# Step 2: create placeholders for input X (number of fire) and label Y (number of theft)\n",
    "X = tf.placeholder(tf.float32, name='X')\n",
    "Y = tf.placeholder(tf.float32, name='Y')\n",
    "# Step 3: create variables: weights_1, weights_2, bias. All are initialized to 0\n",
    "w = tf.Variable(0.0, name=\"weights_1\")\n",
    "u = tf.Variable(0.0, name=\"weights_2\")\n",
    "b = tf.Variable(0.0, name=\"bias\")\n",
    "# Step 4: predict Y (number of theft) from the number of fire\n",
    "Y_predicted = X * X * w + X * u + b\n",
    "\n",
    "# Step 5: use the square error as the loss function\n",
    "loss = tf.square(Y - Y_predicted, name=\"loss\")\n",
    "# Step 6: using gradient descent with learning rate of 0.01 to minimize loss\n",
    "optimizer = tf.train.GradientDescentOptimizer(learning_rate=0.001).minimize(loss)\n",
    "with tf.Session() as sess:\n",
    "\t# Step 7: initialize the necessary variables, in this case, w and b\n",
    "\tsess.run(tf.global_variables_initializer()) \n",
    "\t\n",
    "\twriter = tf.summary.FileWriter('./graphs/nonlinear_reg', sess.graph)\n",
    "\t\n",
    "\t# Step 8: train the model\n",
    "\tfor i in range(50): # train the model 100 epochs\n",
    "\t\ttotal_loss = 0\n",
    "\t\tfor x, y in data:\n",
    "\t\t\t# Session runs train_op and fetch values of loss\n",
    "\t\t\t_, l = sess.run([optimizer, loss], feed_dict={X: x, Y:y}) \n",
    "\t\t\ttotal_loss += l\n",
    "\t\tprint('Epoch {0}: {1}'.format(i, total_loss/n_samples))\n",
    "\n",
    "\t# close the writer when you're done using it\n",
    "\twriter.close() \n",
    "\t\n",
    "\t# Step 9: output the values of w and b\n",
    "\tw,u, b = sess.run([w,u, b]) \n",
    "\n",
    "# plot the results\n",
    "X, Y = data.T[0], data.T[1]\n",
    "plt.plot(X, Y, 'bo', label='Real data')\n",
    "plt.plot(X, X * X * w + X * u + b, 'r', label='Predicted data')\n",
    "plt.legend()\n",
    "plt.show()"
   ]
  },
  {
   "cell_type": "code",
   "execution_count": null,
   "metadata": {
    "collapsed": true
   },
   "outputs": [],
   "source": []
  },
  {
   "cell_type": "code",
   "execution_count": 51,
   "metadata": {
    "collapsed": true
   },
   "outputs": [],
   "source": [
    "with tf.Session() as sess:\n",
    "    total_loss = 0\n",
    "    # Step 7: initialize the necessary variables, in this case, w and b\n",
    "    sess.run(tf.global_variables_initializer())\n",
    "    # Step 8: train the model\n",
    "    epochs = 100\n",
    "    for i in range(epochs): # run 100 epochs\n",
    "        epoch_loss = 0\n",
    "        for x, y in data:\n",
    "            # Session runs train_op to minimize loss\n",
    "             _, loss_value = sess.run([optimizer,loss], feed_dict={X: x, Y:y})\n",
    "             epoch_loss+=loss_value\n",
    "        total_loss += epoch_loss\n",
    "    # Step 9: output the values of w and b\n",
    "    w_value,u_value, b_value = sess.run([w,u, b])\n",
    "    average_loss = total_loss/epochs"
   ]
  },
  {
   "cell_type": "code",
   "execution_count": 52,
   "metadata": {
    "collapsed": false
   },
   "outputs": [
    {
     "data": {
      "text/plain": [
       "(nan, nan, nan, nan)"
      ]
     },
     "execution_count": 52,
     "metadata": {},
     "output_type": "execute_result"
    }
   ],
   "source": [
    "w_value,u_value, b_value, average_loss"
   ]
  },
  {
   "cell_type": "code",
   "execution_count": null,
   "metadata": {
    "collapsed": true
   },
   "outputs": [],
   "source": []
  },
  {
   "cell_type": "markdown",
   "metadata": {},
   "source": [
    "\n",
    "I am trying a simple non-linear regression for function; x2sin(x) using TensorFlow. Please see the code and output below. \n",
    "\n",
    "ref:\n",
    "https://stackoverflow.com/questions/40983530/non-linear-regression-with-tensorflow-results-in-straight-line"
   ]
  },
  {
   "cell_type": "code",
   "execution_count": 4,
   "metadata": {
    "collapsed": false
   },
   "outputs": [
    {
     "name": "stdout",
     "output_type": "stream",
     "text": [
      "(10000, 1)\n",
      "Training data points: 6668\n",
      "Validation data points: 1666\n",
      "Testing data points: 1666\n",
      "Initialized\n",
      "Minibatch loss at step 0: 4.239772\n",
      "Minibatch RMSE: 2.907555\n",
      "Validation RMSE: 2.266445\n"
     ]
    },
    {
     "name": "stderr",
     "output_type": "stream",
     "text": [
      "/opt/conda/lib/python3.5/site-packages/ipykernel/__main__.py:166: RuntimeWarning: divide by zero encountered in double_scalars\n"
     ]
    },
    {
     "name": "stdout",
     "output_type": "stream",
     "text": [
      "Minibatch loss at step 1000: 0.083181\n",
      "Minibatch RMSE: 0.376387\n",
      "Validation RMSE: 0.372366\n",
      "Minibatch loss at step 2000: 0.054592\n",
      "Minibatch RMSE: 0.293623\n",
      "Validation RMSE: 0.312819\n",
      "Minibatch loss at step 3000: 0.053288\n",
      "Minibatch RMSE: 0.293819\n",
      "Validation RMSE: 0.299760\n",
      "Minibatch loss at step 4000: 0.052424\n",
      "Minibatch RMSE: 0.295106\n",
      "Validation RMSE: 0.303179\n",
      "Minibatch loss at step 5000: 0.049885\n",
      "Minibatch RMSE: 0.290264\n",
      "Validation RMSE: 0.300336\n",
      "Minibatch loss at step 6000: 0.055680\n",
      "Minibatch RMSE: 0.312714\n",
      "Validation RMSE: 0.299238\n",
      "Minibatch loss at step 7000: 0.059106\n",
      "Minibatch RMSE: 0.325923\n",
      "Validation RMSE: 0.307408\n",
      "Minibatch loss at step 8000: 0.055398\n",
      "Minibatch RMSE: 0.316535\n",
      "Validation RMSE: 0.312397\n",
      "Minibatch loss at step 9000: 0.057697\n",
      "Minibatch RMSE: 0.325493\n",
      "Validation RMSE: 0.305001\n",
      "Minibatch loss at step 10000: 0.052187\n",
      "Minibatch RMSE: 0.309784\n",
      "Validation RMSE: 0.306354\n",
      "Test RMSE: 0.301095\n",
      "Total RMSE: 0.301020\n",
      "Execution time: 22.416399\n"
     ]
    },
    {
     "data": {
      "text/plain": [
       "[<matplotlib.lines.Line2D at 0x7ff6345653c8>]"
      ]
     },
     "execution_count": 4,
     "metadata": {},
     "output_type": "execute_result"
    },
    {
     "data": {
      "image/png": "[encoded data removed]",
      "text/plain": [
       "<matplotlib.figure.Figure at 0x7ff6370d0ba8>"
      ]
     },
     "metadata": {},
     "output_type": "display_data"
    }
   ],
   "source": [
    "import numpy as np\n",
    "import tensorflow as tf\n",
    "from matplotlib import pyplot as plt\n",
    "import time\n",
    "\n",
    "\n",
    "#dgp\n",
    "n = 10000\n",
    "x = np.linspace(0,3.14,n)\n",
    "x = np.array(x).astype(np.float32)\n",
    "y = np.sin(x) * np.multiply(x, x)\n",
    "r = np.random.random(n)\n",
    "y = y + r\n",
    "xNorm = (x - np.mean(x)) / (np.amax(x) - np.amin(x))\n",
    "\n",
    "idxs = np.array(range(n)).astype(np.int32)\n",
    "tmp = np.zeros((1, n), dtype=np.float32)\n",
    "tmp[0] = xNorm\n",
    "xNorm = tmp.T\n",
    "print(xNorm.shape)\n",
    "\n",
    "# Shuffle the indexes\n",
    "np.random.shuffle(idxs)\n",
    "# Assign 1/6th for validation, and test and the rest for training\n",
    "nValidIdxs = int(n / 6)\n",
    "nTestIdxs = int(n / 6)\n",
    "validIdxs = idxs[0:nValidIdxs]\n",
    "testIdxs = idxs[nValidIdxs:nValidIdxs + nTestIdxs]\n",
    "nTrainIdxs = n - nValidIdxs - nTestIdxs\n",
    "trainIdxs = idxs[nValidIdxs + nTestIdxs:n]\n",
    "print('Training data points: %d' % nTrainIdxs)\n",
    "print('Validation data points: %d' % nValidIdxs)\n",
    "print('Testing data points: %d' % nTestIdxs)\n",
    "\n",
    "# Split input and output values into the\n",
    "# training, testing, and validation datasets.\n",
    "trainX = xNorm[trainIdxs]\n",
    "testX = xNorm[testIdxs]\n",
    "validX = xNorm[validIdxs]\n",
    "\n",
    "trainY = y[trainIdxs]\n",
    "testY = y[testIdxs]\n",
    "validY = y[validIdxs]\n",
    "\n",
    "# This part defines a Neural Network with regularization\n",
    "# applied to the loss term. SGD batch size is 128 samples.\n",
    "# In addition, dropout is applied to the hidden layers during\n",
    "# the training process.\n",
    "batchSize = 256\n",
    "nNodes = 128\n",
    "stdDev = 0.1\n",
    "regParam = 0.0001\n",
    "initRate = 0.001\n",
    "nLayers = 3\n",
    "\n",
    "graph = tf.Graph()\n",
    "tf.set_random_seed(1234)\n",
    "with graph.as_default():\n",
    "    # Input data. For the training data, we use a placeholder that will be fed\n",
    "    # at run time with a training minibatch.\n",
    "    tfTrainX = tf.placeholder(tf.float32, shape=(batchSize, 1))\n",
    "    tfTrainY = tf.placeholder(tf.float32, shape=(batchSize))\n",
    "    tfValidX = tf.constant(validX)\n",
    "    tfTestX = tf.constant(testX)\n",
    "    tfAllX = tf.constant(xNorm)\n",
    "\n",
    "    # This function defines a deep neural network\n",
    "    # with 3 hidden layers and one output layer.\n",
    "    def deepNeural(dataset):\n",
    "        w = []\n",
    "        b = []\n",
    "        for i in range(nLayers):\n",
    "            w.append(None)\n",
    "            b.append(None)\n",
    "\n",
    "        # Hidden layers\n",
    "        for i in range(nLayers):\n",
    "            if(i == 0):\n",
    "                w[i] = tf.Variable(\n",
    "                    tf.truncated_normal([1, nNodes], stddev=stdDev))\n",
    "                logits = tf.matmul(dataset, w[i])\n",
    "            else:\n",
    "                w[i] = tf.Variable(\n",
    "                    tf.truncated_normal([nNodes, nNodes], stddev=stdDev))\n",
    "                logits = tf.matmul(logits, w[i])\n",
    "            b[i] = tf.Variable(tf.zeros([nNodes]))\n",
    "            logits = tf.add(logits, b[i])\n",
    "            logits = tf.nn.tanh(logits)\n",
    "\n",
    "        # Output layer\n",
    "        wo = tf.ones([nNodes, 1], tf.float32)\n",
    "        logits = tf.matmul(logits, wo)\n",
    "        # Return the output layer\n",
    "        return [logits, w, b, wo]\n",
    "\n",
    "    # This function provides the logits from the output\n",
    "    # layer calculated based upon the passed weights and\n",
    "    # biases for the hidden and output layer calculated\n",
    "    # based upon the loss minimization.\n",
    "    def predict(dataset, w, b, wo):\n",
    "        # Computation for hidden layers\n",
    "        for i in range(nLayers):\n",
    "            if(i == 0):\n",
    "                logits = tf.matmul(dataset, w[i])\n",
    "            else:\n",
    "                logits = tf.matmul(logits, w[i])\n",
    "            logits = tf.add(logits, b[i])\n",
    "            logits = tf.nn.tanh(logits)\n",
    "        # Computation for the output layer\n",
    "        return tf.matmul(logits, wo)\n",
    "\n",
    "    logits, w, b, wo = deepNeural(tfTrainX)\n",
    "    loss = 0.5 * tf.reduce_mean(tf.square(tf.transpose(logits) - tfTrainY))\n",
    "    # Compute regularization term\n",
    "    regTerm = tf.Variable(0.0)\n",
    "    for i in range(nLayers):\n",
    "        regTerm = regTerm + tf.reduce_mean(tf.nn.l2_loss(w[i]))\n",
    "    regTerm = regTerm * regParam\n",
    "    # Add regularization term to loss\n",
    "    loss = loss + regTerm\n",
    "\n",
    "    # Optimizer.\n",
    "    # Exponential decay of learning rate.\n",
    "    globalStep = tf.Variable(0) # count the number of steps taken.\n",
    "    learningRate = tf.train.exponential_decay(initRate, globalStep, 1000, 0.96, staircase=True)\n",
    "    optimizer = tf.train.AdamOptimizer(learningRate).minimize(loss)\n",
    "\n",
    "    # Predictions for the training, validation, and test data.\n",
    "    trainPred = logits\n",
    "    validPred = predict(tfValidX, w, b, wo)\n",
    "    testPred = predict(tfTestX, w, b, wo)\n",
    "    allPred = predict(tfAllX, w, b, wo)\n",
    "\n",
    "def rmse(pred, actual):\n",
    "    #print(pred.shape)\n",
    "    pred = pred.reshape(1,-1)\n",
    "    actual = actual.reshape(1,-1)\n",
    "    return np.sqrt(((pred - actual)**2).mean())\n",
    "\n",
    "# Run SGD for Neural Network with regularization\n",
    "numSteps = 10001\n",
    "startTime = time.time()\n",
    "predY = np.array([])\n",
    "validRMSEOld = 0.0\n",
    "with tf.Session(graph=graph) as session:\n",
    "    tf.global_variables_initializer().run()\n",
    "    print(\"Initialized\")\n",
    "    for step in range(numSteps):\n",
    "        # Pick an offset within the training data, which has been randomized.\n",
    "        # Note: we could use better randomization across epochs.\n",
    "        offset = (step * batchSize) % (trainY.shape[0] - batchSize)\n",
    "        # Generate a minibatch.\n",
    "        batchX = trainX[offset:(offset + batchSize), :]\n",
    "        batchY = trainY[offset:(offset + batchSize)]\n",
    "        # Prepare a dictionary telling the session where to feed the minibatch.\n",
    "        # The key of the dictionary is the placeholder node of the graph to be fed,\n",
    "        # and the value is the numpy array to feed to it.\n",
    "        feedDict = {tfTrainX : batchX, tfTrainY : batchY}\n",
    "        _, l, pred = session.run(\n",
    "            [optimizer, loss, trainPred], feed_dict=feedDict)\n",
    "        if (step % 1000 == 0):\n",
    "            print(\"Minibatch loss at step %d: %f\" % (step, l))\n",
    "            print(\"Minibatch RMSE: %f\" % rmse(pred, batchY))\n",
    "            validRMSE = rmse(validPred.eval(), validY)\n",
    "            print(\"Validation RMSE: %f\" % validRMSE)\n",
    "            relChange = (validRMSEOld - validRMSE) / validRMSEOld\n",
    "            if (abs(relChange) < 0.0001 or np.isnan(validRMSE)):\n",
    "                break\n",
    "            else:\n",
    "                validRMSEOld = validRMSE\n",
    "    print(\"Test RMSE: %f\" % rmse(testPred.eval(), testY))\n",
    "    print(\"Total RMSE: %f\" % rmse(allPred.eval(), y))\n",
    "    predY = allPred.eval()\n",
    "print('Execution time: %f' % (time.time() - startTime))\n",
    "\n",
    "plt.plot(y, 'ro')\n",
    "plt.plot(predY, '-', lw=5)"
   ]
  },
  {
   "cell_type": "code",
   "execution_count": null,
   "metadata": {
    "collapsed": true
   },
   "outputs": [],
   "source": []
  }
 ],
 "metadata": {
  "kernelspec": {
   "display_name": "Python 3",
   "language": "python",
   "name": "python3"
  },
  "language_info": {
   "codemirror_mode": {
    "name": "ipython",
    "version": 3
   },
   "file_extension": ".py",
   "mimetype": "text/x-python",
   "name": "python",
   "nbconvert_exporter": "python",
   "pygments_lexer": "ipython3",
   "version": "3.5.2"
  }
 },
 "nbformat": 4,
 "nbformat_minor": 2
}
