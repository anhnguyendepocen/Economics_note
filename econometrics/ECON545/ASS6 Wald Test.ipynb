{
 "cells": [
  {
   "cell_type": "markdown",
   "metadata": {
    "slideshow": {
     "slide_type": "slide"
    }
   },
   "source": [
    "## ECON545 ASS6"
   ]
  },
  {
   "cell_type": "markdown",
   "metadata": {},
   "source": [
    "## Wald test\n",
    "\n",
    "### Wald Test (Coefficient Restrictions)\n",
    "\n",
    "The Wald test computes a test statistic based on the unrestricted regression.\n",
    "\n",
    "The Wald statistic measures how close the unrestricted estimates come to satisfying the restrictions under the null hypothesis. \n",
    "\n",
    "If the restrictions are in fact true, then the unrestricted estimates should come close to satisfying the restrictions.\n",
    "\n",
    "To carry out a Wald test, choose **View/Coefficient Diagnostics/Wald-Coefficient Restrictions…** from the equation toolbar. Enter the restrictions into the edit box, with multiple coefficient restrictions separated by commas. \n",
    "\n",
    "The restrictions should be expressed as equations involving the estimated coefficients and constants. \n",
    "\n",
    "The coefficients should be referred to as C(1), C(2), and so on, unless you have used a different coefficient vector in estimation.\n",
    "\n",
    "\n",
    "To test the hypothesis of constant returns to scale, type the following restriction in the dialog box:\n",
    "\n",
    "c(2) + c(3) = 1\n",
    "\n",
    "and click OK. EViews reports the following result of the Wald test:\n",
    "\n",
    "![](http://www.eviews.com/help/content/images/testing.033.3.048.jpg)\n",
    "\n",
    "EViews reports an F-statistic and a Chi-square statistic with associated p-values. In cases with a single restriction, EViews reports the t-statistic equivalent of the F-statistic. \n",
    "\n",
    "\n",
    "### the normalized (homogeneous) restriction and associated standard error\n",
    "\n",
    "In addition, EViews reports the value of the normalized (homogeneous) restriction and an associated standard error. \n",
    "\n",
    "In this example, we have a single linear restriction so the F-statistic and Chi-square statistic are identical, with the p-value indicating that we can decisively reject the null hypothesis of constant returns to scale.\n",
    "\n",
    "\n",
    "ref:\n",
    "http://www.eviews.com/help/helpintro.html#page/content%2Ftesting-Coefficient_Diagnostics.html%23ww182316\n"
   ]
  },
  {
   "cell_type": "markdown",
   "metadata": {},
   "source": [
    "## Wald Test Details\n",
    "\n",
    "For the textbook case of a linear regression model,\n",
    "\n",
    "![](http://www.eviews.com/help/content/images/testing.033.3.088.jpg)\n",
    "(24.14)\n",
    "\n",
    "and linear restrictions:\n",
    "\n",
    "![](http://www.eviews.com/help/content/images/testing.033.3.089.jpg)\n",
    "(24.15)\n",
    "\n",
    "where $R$ is a known $q\\times k$ matrix, and  is a -vector, respectively. The Wald statistic in Equation (24.12) reduces to:\n",
    "\n",
    "![](http://www.eviews.com/help/content/images/testing.033.3.094.jpg)\n",
    "\t\n",
    "(24.16)\n",
    "which is asymptotically distributed as  $\\chi^2(q)$ under $H_0$.\n",
    "\n",
    "\n",
    "\n",
    "Let $\\hat β$ be your regression estimates of β. Under the condition that $\\hat β∼N(β,Σ)$ conditional on data $X$ (eg. $\\hat β$ asymptotically normal with mean $β$ and covariance matrix $Σ$) then the linear restrictions $Rβ=r$ can be tested with a $χ2$ test. Observe that $R \\hat β−r$ would be normal with $Var(Rβ^−r∣X)=RΣR′$. Then we would have:\n",
    "\n",
    "\n",
    "$$(R\\hat{\\beta} - r)' \\left( R \\Sigma R' \\right)^{-1} (R \\hat{\\beta} - r) \\sim \\chi^2_{\\#r}$$\n",
    "\n",
    "\n",
    "ref:\n",
    "https://stats.stackexchange.com/questions/211584/testing-linear-restriction-in-r"
   ]
  },
  {
   "cell_type": "markdown",
   "metadata": {},
   "source": [
    "## F test\n",
    "\n",
    "If we further assume that the errors $\\epsilon$  are **independent and identically normally distributed**, we have an **exact, finite sample F-statistic**:\n",
    "\n",
    "![](http://www.eviews.com/help/content/images/testing.033.3.098.jpg)\n",
    "(24.17)\n",
    "where  is the vector of residuals from the restricted regression. In this case, the F-statistic compares the residual sum of squares computed with and without the restrictions imposed.\n",
    "\n",
    "\n",
    "$$\\underbrace{\\left[ \\begin{array}{cccc} \\ldots & 1& 0 & \\ldots \\\\ \\ldots & 0& 1 & \\ldots  \\end{array}\\right]}_R \\underbrace{\\left[ \\begin{array}{c}\\ldots \\\\ \\beta_j \\\\ \\beta_k \\\\ \\ldots \\end{array} \\right]}_\\beta = \\underbrace{\\left[ \\begin{array}{c}-.5 \\\\ .5 \\end{array} \\right]}_r$$\n",
    "\n",
    "\n",
    "F test is for the **NESTED MODELS**.\n",
    "\n",
    "\n",
    "$$(R\\hat{b} - r)' \\left(R \\Sigma R' \\right)^{-1} (R\\hat{b} - r) / (\\#r)\\sim F(\\#r, n- k)$$\n",
    "\n",
    "where $Σ$ is estimate of $Var(\\hat β|X)$ and $r$ is the number of restrictions (note rank of R should be #r#r.)\n",
    "\n",
    "the hypothesis specified by the restricted model is contained within the\n",
    "unrestricted model.\n",
    "\n",
    "an F-test between the unrestricted and the restricted model (since it is nested).\n",
    "\n",
    "\n",
    "ref:\n",
    "http://people.stern.nyu.edu/wgreene/MathStat/GreeneChapter5.pdf\n"
   ]
  },
  {
   "cell_type": "markdown",
   "metadata": {
    "collapsed": true
   },
   "source": [
    "### Validity of F-statistics\n",
    "\n",
    "We remind you that the expression for the finite sample F-statistic in (24.17) is for standard linear regression, and __is not valid for more general cases__ (nonlinear models, ARMA specifications, or equations where the variances are estimated using other methods such as **Newey-West or White**). \n",
    "\n",
    "In non-standard settings, the reported F-statistic (which EViews always computes as $W/q$), __does not possess the desired finite-sample properties__. \n",
    "\n",
    "\n",
    "In these cases, while **asymptotically valid**, F-statistic (and corresponding t-statistic) results should be viewed as illustrative and for comparison purposes only.\n",
    "\n",
    "\n",
    "\n",
    "ref:\n",
    "http://www.eviews.com/help/helpintro.html#page/content/testing-Coefficient_Diagnostics.html#ww182462"
   ]
  },
  {
   "cell_type": "markdown",
   "metadata": {},
   "source": [
    "## Wald test for Nonlinear Restriction and Nonlinear Regression\n",
    "\n",
    "\n",
    "Consider a general nonlinear regression model:\n",
    "\t![](http://www.eviews.com/help/content/images/testing.033.3.061.jpg)\n",
    "(24.10)\n",
    "where  and  are -vectors and  is a -vector of parameters to be estimated. Any restrictions on the parameters can be written as:\n",
    "\t\t![](http://www.eviews.com/help/content/images/testing.033.3.067.jpg)\n",
    "(24.11)\n",
    "where g is a smooth function, , imposing q restrictions on beta. The Wald statistic is then computed as:\n",
    "\t\t![](http://www.eviews.com/help/content/images/testing.033.3.072.jpg)\n",
    "(24.12)\n",
    "where  is the number of observations and  is the vector of unrestricted parameter estimates, and where  is an estimate of the covariance. In the standard regression case,  is given by:\n",
    "\t\t![](http://www.eviews.com/help/content/images/testing.033.3.078.jpg)\n",
    "(24.13)\n",
    "where  is the vector of unrestricted residuals, and  is the usual estimator of the unrestricted residual variance, , but the estimator of  may differ.\n",
    "![](http://www.eviews.com/help/content/images/testing.033.3.081.jpg)\n",
    "\n",
    "For example, V may be a robust variance matrix estimator V computing using White or Newey-West techniques.\n",
    "\n"
   ]
  },
  {
   "cell_type": "markdown",
   "metadata": {
    "collapsed": true
   },
   "source": [
    "## Wald Test Command Syntax\n",
    "```EViews\n",
    "equation_name.wald restrictions\n",
    "\n",
    "```\n",
    "\n",
    "Enter the equation name, followed by a period, and the keyword. You must provide a list of the coefficient restrictions, with joint (multiple) coefficient restrictions separated by commas.\n",
    "### Options\n",
    " \n",
    "```\n",
    "p\n",
    "```\n",
    "Print the test results.\n",
    "Examples\n",
    "```\n",
    "eq1.wald c(2)=0, c(3)=0\n",
    "\n",
    "```\n",
    "\n",
    "tests the null hypothesis that the second and third coefficients in equation EQ1 are jointly zero.\n",
    "```\n",
    "eq2.wald c(2)=c(3)*c(4)\n",
    "```\n",
    "\n",
    "tests the non-linear restriction that the second coefficient in equation EQ2 is equal to the product of the third and fourth coefficients.\n",
    "\n",
    "\n",
    "ref:\n",
    "http://www.eviews.com/help/helpintro.html#page/content/equationcmd-wald.html"
   ]
  },
  {
   "cell_type": "markdown",
   "metadata": {
    "collapsed": true
   },
   "source": [
    "### F test in R and Stata\n",
    "\n",
    "in R\n",
    "```r\n",
    "linearHypothesis(m1,c(\"x2 = 0.5\",\"x3 = -0.5\"),test=\"F\")\n",
    "```\n",
    "in Stata\n",
    "\n",
    "```Stata\n",
    "test x2 x3\n",
    "```\n",
    "\n",
    "\n",
    "ref:\n",
    "\n",
    "http://www.murraylax.org/econometrics/notes/regression_restrictions.pdf\n",
    "\n",
    "http://www.stat.cmu.edu/~cshalizi/mreg/15/lectures/10/lecture-10.pdf\n",
    "\n",
    "https://tien89.wordpress.com/2010/03/18/testing-multiple-linear-restrictions-the-f-test/"
   ]
  },
  {
   "cell_type": "code",
   "execution_count": 1,
   "metadata": {
    "collapsed": false
   },
   "outputs": [
    {
     "data": {
      "text/html": [
       "<table>\n",
       "<thead><tr><th></th><th scope=col>Res.Df</th><th scope=col>RSS</th><th scope=col>Df</th><th scope=col>Sum of Sq</th><th scope=col>F</th><th scope=col>Pr(&gt;F)</th></tr></thead>\n",
       "<tbody>\n",
       "\t<tr><th scope=row>1</th><td> 98.0000</td><td>107.2064</td><td>      NA</td><td>      NA</td><td>      NA</td><td>      NA</td></tr>\n",
       "\t<tr><th scope=row>2</th><td> 96.00000000</td><td>107.09885538</td><td>  2.00000000</td><td>  0.10751940</td><td>  0.04818848</td><td>  0.95297719</td></tr>\n",
       "</tbody>\n",
       "</table>\n"
      ],
      "text/latex": [
       "\\begin{tabular}{r|llllll}\n",
       "  & Res.Df & RSS & Df & Sum of Sq & F & Pr(>F)\\\\\n",
       "\\hline\n",
       "\t1 &  98.0000 & 107.2064 &       NA &       NA &       NA &       NA\\\\\n",
       "\t2 &  96.00000000 & 107.09885538 &   2.00000000 &   0.10751940 &   0.04818848 &   0.95297719\\\\\n",
       "\\end{tabular}\n"
      ],
      "text/plain": [
       "Linear hypothesis test\n",
       "\n",
       "Hypothesis:\n",
       "x2 = 0.5\n",
       "x3 = - 0.5\n",
       "\n",
       "Model 1: restricted model\n",
       "Model 2: y ~ x1 + x2 + x3\n",
       "\n",
       "  Res.Df    RSS Df Sum of Sq      F Pr(>F)\n",
       "1     98 107.21                           \n",
       "2     96 107.10  2   0.10752 0.0482  0.953"
      ]
     },
     "metadata": {},
     "output_type": "display_data"
    }
   ],
   "source": [
    "# F test in R\n",
    "library(car)\n",
    "set.seed(10)\n",
    "x1 <- rnorm(100)\n",
    "x2 <- rnorm(100)\n",
    "x3 <- rnorm(100)\n",
    "y <- 5*x1 + 0.5*x2 - 0.5*x3 + rnorm(100)\n",
    "m1 <- lm(y~x1+x2+x3)\n",
    "linearHypothesis(m1,c(\"x2 = 0.5\",\"x3 = -0.5\"),test=\"F\")"
   ]
  },
  {
   "cell_type": "code",
   "execution_count": 4,
   "metadata": {
    "collapsed": false
   },
   "outputs": [
    {
     "data": {
      "text/html": [
       "<table>\n",
       "<thead><tr><th></th><th scope=col>Res.Df</th><th scope=col>RSS</th><th scope=col>Df</th><th scope=col>Sum of Sq</th><th scope=col>F</th><th scope=col>Pr(&gt;F)</th></tr></thead>\n",
       "<tbody>\n",
       "\t<tr><th scope=row>1</th><td>      927</td><td>123432640</td><td>       NA</td><td>       NA</td><td>       NA</td><td>       NA</td></tr>\n",
       "\t<tr><th scope=row>2</th><td> 9.280000e+02</td><td> 1.235182e+08</td><td>-1.000000e+00</td><td>-8.552030e+04</td><td> 6.422720e-01</td><td> 4.230947e-01</td></tr>\n",
       "</tbody>\n",
       "</table>\n"
      ],
      "text/latex": [
       "\\begin{tabular}{r|llllll}\n",
       "  & Res.Df & RSS & Df & Sum of Sq & F & Pr(>F)\\\\\n",
       "\\hline\n",
       "\t1 &       927 & 123432640 &        NA &        NA &        NA &        NA\\\\\n",
       "\t2 &  9.280000e+02 &  1.235182e+08 & -1.000000e+00 & -8.552030e+04 &  6.422720e-01 &  4.230947e-01\\\\\n",
       "\\end{tabular}\n"
      ],
      "text/plain": [
       "Analysis of Variance Table\n",
       "\n",
       "Model 1: wages$MonthlyEarnings ~ wages$IQ + wages$Knowledge + wages$YearsEdu + \n",
       "    wages$YearsExperience + wages$Tenure + as.numeric(wages$MomEdu) + \n",
       "    as.numeric(wages$DadEdu)\n",
       "Model 2: wages$MonthlyEarnings ~ wages$IQ + wages$Knowledge + wages$YearsEdu + \n",
       "    wages$YearsExperience + wages$Tenure + I(as.numeric(wages$MomEdu) + \n",
       "    as.numeric(wages$DadEdu))\n",
       "  Res.Df       RSS Df Sum of Sq      F Pr(>F)\n",
       "1    927 123432640                           \n",
       "2    928 123518160 -1    -85520 0.6423 0.4231"
      ]
     },
     "metadata": {},
     "output_type": "display_data"
    }
   ],
   "source": [
    "wages <- read.csv(\"http://murraylax.org/datasets/wage2.csv\");\n",
    "lm_unres <- lm(wages$MonthlyEarnings\n",
    "~ wages$IQ + wages$Knowledge + wages$YearsEdu\n",
    "+ wages$YearsExperience + wages$Tenure\n",
    "+ as.numeric(wages$MomEdu) + as.numeric(wages$DadEdu))\n",
    "\n",
    "# H0 : βMomEdu = βDadEdu\n",
    "\n",
    "lm_res <- lm(wages$MonthlyEarnings\n",
    "~ wages$IQ + wages$Knowledge + wages$YearsEdu\n",
    "+ wages$YearsExperience + wages$Tenure\n",
    "+ I( as.numeric(wages$MomEdu) + as.numeric(wages$DadEdu) ) )\n",
    "\n",
    "anova(lm_unres, lm_res)"
   ]
  },
  {
   "cell_type": "code",
   "execution_count": 5,
   "metadata": {
    "collapsed": false
   },
   "outputs": [
    {
     "data": {
      "text/html": [
       "<table>\n",
       "<thead><tr><th></th><th scope=col>Res.Df</th><th scope=col>RSS</th><th scope=col>Df</th><th scope=col>Sum of Sq</th><th scope=col>F</th><th scope=col>Pr(&gt;F)</th></tr></thead>\n",
       "<tbody>\n",
       "\t<tr><th scope=row>1</th><td>      928</td><td>123518160</td><td>       NA</td><td>       NA</td><td>       NA</td><td>       NA</td></tr>\n",
       "\t<tr><th scope=row>2</th><td>9.270000e+02</td><td>1.234326e+08</td><td>1.000000e+00</td><td>8.552030e+04</td><td>6.422720e-01</td><td>4.230947e-01</td></tr>\n",
       "</tbody>\n",
       "</table>\n"
      ],
      "text/latex": [
       "\\begin{tabular}{r|llllll}\n",
       "  & Res.Df & RSS & Df & Sum of Sq & F & Pr(>F)\\\\\n",
       "\\hline\n",
       "\t1 &       928 & 123518160 &        NA &        NA &        NA &        NA\\\\\n",
       "\t2 & 9.270000e+02 & 1.234326e+08 & 1.000000e+00 & 8.552030e+04 & 6.422720e-01 & 4.230947e-01\\\\\n",
       "\\end{tabular}\n"
      ],
      "text/plain": [
       "Linear hypothesis test\n",
       "\n",
       "Hypothesis:\n",
       "as.numeric(wages$MomEdu) - as.numeric(wages$DadEdu) = 0\n",
       "\n",
       "Model 1: restricted model\n",
       "Model 2: wages$MonthlyEarnings ~ wages$IQ + wages$Knowledge + wages$YearsEdu + \n",
       "    wages$YearsExperience + wages$Tenure + as.numeric(wages$MomEdu) + \n",
       "    as.numeric(wages$DadEdu)\n",
       "\n",
       "  Res.Df       RSS Df Sum of Sq      F Pr(>F)\n",
       "1    928 123518160                           \n",
       "2    927 123432640  1     85520 0.6423 0.4231"
      ]
     },
     "metadata": {},
     "output_type": "display_data"
    }
   ],
   "source": [
    "linearHypothesis(lm_unres,c(\"as.numeric(wages$MomEdu) = as.numeric(wages$DadEdu)\"),test=\"F\")"
   ]
  },
  {
   "cell_type": "code",
   "execution_count": 3,
   "metadata": {
    "collapsed": false
   },
   "outputs": [
    {
     "name": "stderr",
     "output_type": "stream",
     "text": [
      "Installing package into ‘/home/jonduan/R/x86_64-pc-linux-gnu-library/3.1’\n",
      "(as ‘lib’ is unspecified)\n"
     ]
    },
    {
     "data": {
      "text/html": [
       "<table>\n",
       "<thead><tr><th></th><th scope=col>Df</th><th scope=col>Sum Sq</th><th scope=col>Mean Sq</th><th scope=col>F value</th><th scope=col>Pr(&gt;F)</th></tr></thead>\n",
       "<tbody>\n",
       "\t<tr><th scope=row>tmpd</th><td> 1.000000e+00</td><td> 1.624729e+05</td><td> 1.624729e+05</td><td> 8.030679e+02</td><td>3.234490e-164</td></tr>\n",
       "\t<tr><th scope=row>Residuals</th><td>   5112.0000</td><td>1034235.8865</td><td>    202.3153</td><td>          NA</td><td>          NA</td></tr>\n",
       "</tbody>\n",
       "</table>\n"
      ],
      "text/latex": [
       "\\begin{tabular}{r|lllll}\n",
       "  & Df & Sum Sq & Mean Sq & F value & Pr(>F)\\\\\n",
       "\\hline\n",
       "\ttmpd &  1.000000e+00 &  1.624729e+05 &  1.624729e+05 &  8.030679e+02 & 3.234490e-164\\\\\n",
       "\tResiduals &    5112.0000 & 1034235.8865 &     202.3153 &           NA &           NA\\\\\n",
       "\\end{tabular}\n"
      ],
      "text/plain": [
       "Analysis of Variance Table\n",
       "\n",
       "Response: death\n",
       "            Df  Sum Sq Mean Sq F value    Pr(>F)    \n",
       "tmpd         1  162473  162473  803.07 < 2.2e-16 ***\n",
       "Residuals 5112 1034236     202                      \n",
       "---\n",
       "Signif. codes:  0 ‘***’ 0.001 ‘**’ 0.01 ‘*’ 0.05 ‘.’ 0.1 ‘ ’ 1"
      ]
     },
     "metadata": {},
     "output_type": "display_data"
    }
   ],
   "source": [
    "#install.packages(\"gamair\")\n",
    "library(gamair); data(chicago)\n",
    "death.temp.lm <- lm(death ~ tmpd, data=chicago)\n",
    "anova(death.temp.lm)"
   ]
  },
  {
   "cell_type": "markdown",
   "metadata": {
    "slideshow": {
     "slide_type": "slide"
    }
   },
   "source": [
    "## [IF Statements](http://www.eviews.com/help/helpintro.html#page/content%2Fcprogram-Control_of_Execution.html%23ww698)\n",
    "\n",
    "If the expression is true, all of the commands until the matching endif are executed. If the expression is false, all of these commands are skipped. For example,\n",
    "```\n",
    "if !stand=1 or (!rescale=1 and !redo=1) then\n",
    "    series gnpstd = gnp/sqr(gvar)\n",
    "    series constd = cons/sqr(cvar)\n",
    "endif\n",
    "if !a>5 and !a<10 then\n",
    "    smpl 1950q1 1970q1+!a\n",
    "endif\n",
    "```\n",
    "only generates the series GNPSTD and CONSTD and sets the sample if the corresponding IF statements are true. Note that we have indented the lines between the if and the endif statements. The indentation is added for program clarity and has no effect on the execution of the program lines.\n",
    "\n",
    "\n"
   ]
  },
  {
   "cell_type": "markdown",
   "metadata": {
    "slideshow": {
     "slide_type": "subslide"
    }
   },
   "source": [
    "An IF statement may include a matching ELSE clause containing commands to be executed if the condition is FALSE. If the condition is true, all of the commands up to the keyword else will be executed. If the condition is FALSE, all of the commands between else and endif will be executed. For example:\n",
    "```\n",
    "if !scale>0 then\n",
    "series newage = age/!scale\n",
    "else\n",
    "series newage = age\n",
    "endif\n",
    "```\n",
    "(It is worth noting that this example performs a conditional recode in which the series NEWAGE is assigned using one expression if a condition is true, and a different expression otherwise. EViews provides a built-in @recode function for performing this type of evaluation; see @recode(s,x,y).)"
   ]
  },
  {
   "cell_type": "markdown",
   "metadata": {
    "slideshow": {
     "slide_type": "subslide"
    }
   },
   "source": [
    "IF statements may also be applied to string variables:\n",
    "```\n",
    "if %0=\"CA\" or %0=\"IN\" then\n",
    "    series stateid = 1\n",
    "else\n",
    "    if %0=\"MA\" then\n",
    "        series stateid=2\n",
    "    else\n",
    "        if %0=\"IN\" then\n",
    "            series stateid=3\n",
    "        endif\n",
    "    endif\n",
    "endif\n",
    "```\n",
    "Note that the nesting of our comparisons does not cause any difficulties."
   ]
  },
  {
   "cell_type": "markdown",
   "metadata": {
    "slideshow": {
     "slide_type": "slide"
    }
   },
   "source": [
    "[The FOR Loop](http://www.eviews.com/help/helpintro.html#page/content%2Fcprogram-Control_of_Execution.html%23ww830)\n",
    "\n",
    "The FOR loop allows you to repeat a set of commands for different values of numerical or string variables. The FOR loop begins with a for statement and ends with a next statement. Any number of commands may appear between these two statements.\n",
    "\n",
    "The syntax of the FOR statement differs depending upon whether it uses numerical variables or string variables.\n",
    "\n"
   ]
  },
  {
   "cell_type": "markdown",
   "metadata": {
    "slideshow": {
     "slide_type": "slide"
    }
   },
   "source": [
    "### FOR Loops With Numerical Control Variables Or Scalars\n",
    "To repeat statements for different values of a control variable, you should follow the for keyword by a control variable initialization, the word to, and then an ending value. After the ending value you may include the word step followed by a number indicating an amount to change the control variable each time the loop is executed. If you don’t include step, the step is assumed to be 1. Consider, for example the loop:\n",
    "```\n",
    "for !j=1 to 10\n",
    "    series decile{!j} = (income<level{!j})\n",
    "next\n",
    "```\n",
    "In this example, STEP=1 and the variable !J is twice used as a replacement variable, first for the ten series declarations DECILE1 through DECILE10 and for the ten variables LEVEL1 through LEVEL10."
   ]
  },
  {
   "cell_type": "markdown",
   "metadata": {
    "slideshow": {
     "slide_type": "subslide"
    }
   },
   "source": [
    "We may add the step keyword and value to the FOR loop to modify the step:\n",
    "```\n",
    "for !j=10 to 1 step -1\n",
    "    series rescale{!j}=original/!j\n",
    "next\n",
    "```\n",
    "In this example, the step is -1, and !J is used as a replacement variable in naming the ten constructed series RESCALE10 through RESCALE1 and as a control variable scalar divisor in the series ORIGINAL."
   ]
  },
  {
   "cell_type": "markdown",
   "metadata": {
    "slideshow": {
     "slide_type": "subslide"
    }
   },
   "source": [
    "One important use of FOR loops with control variables is to change the workfile sample using a smpl command. If you add a control variable to a date in a smpl command statement, you will get a new date as many observations forward as the current value of the control variable. Here is a FOR loop that gradually increases the size of the sample and estimates a recursive regression:\n",
    "```\n",
    "for !horizon=10 to 72\n",
    "    smpl 1970m1 1970m1+!horizon\n",
    "    equation eq{!horizon}.ls sales c orders\n",
    "next\n",
    "```"
   ]
  },
  {
   "cell_type": "markdown",
   "metadata": {
    "slideshow": {
     "slide_type": "subslide"
    }
   },
   "source": [
    "One other important case uses loops and control variables to access elements of a matrix object. For example,\n",
    "```\n",
    "!rows = @rows(vec1)\n",
    "vector cumsum1 = vec1\n",
    "for !i=2 to !rows\n",
    "    cumsum1(!i) = cumsum1(!i-1) + vec1(!i)\n",
    "next\n",
    "```\n",
    "computes the cumulative sum of the elements in the vector VEC1 and saves it in the vector CUMSUM1."
   ]
  },
  {
   "cell_type": "markdown",
   "metadata": {
    "slideshow": {
     "slide_type": "subslide"
    }
   },
   "source": [
    "You may nest FOR loops to contain loops within loops. The entire inner FOR loop is executed for each successive value of the outer FOR loop. For example:\n",
    "```\n",
    "matrix(25,10) xx\n",
    "for !i=1 to 25\n",
    "    for !j=1 to 10\n",
    "        xx(!i,!j)=(!i-1)*10+!j\n",
    "    next\n",
    "next\n",
    "```"
   ]
  },
  {
   "cell_type": "markdown",
   "metadata": {
    "slideshow": {
     "slide_type": "slide"
    }
   },
   "source": [
    "### FOR Loops With String Variables And String Objects\n",
    "To repeat statements for different values of a string variable, you may use the FOR loop to let a string variable range over a list of string values. You should list the FOR keyword, followed by the name of the string program variable, followed by the list of values. For example,\n",
    "```\n",
    "for %y gdp gnp ndp nnp\n",
    "equation {%y}trend.ls {%y} c {%y}(-1) time\n",
    "next\n",
    "```\n",
    "executes the commands\n",
    "```\n",
    "equation gdptrend.ls gdp c gdp(-1) time\n",
    "equation gnptrend.ls gnp c gnp(-1) time\n",
    "equation ndptrend.ls ndp c ndp(-1) time\n",
    "equation nnptrend.ls nnp c nnp(-1) time\n",
    "```"
   ]
  },
  {
   "cell_type": "markdown",
   "metadata": {
    "slideshow": {
     "slide_type": "subslide"
    }
   },
   "source": [
    "You may include multiple string variables in the same FOR statement—EViews will process the string values in sets. For example, we may define a loop with list three string variables:\n",
    "```\n",
    "for %1 %2 %3 1955q1 1960q4 early 1970q2 1980q3 mid 1975q4 1995q1 late\n",
    "smpl %1 %2\n",
    "equation {%3}eq.ls sales c orders\n",
    "next\n",
    "```\n",
    "In this case, the elements of the list are taken in groups of three. The loop is executed three times for the different sample pairs and equation names:\n",
    "```\n",
    "smpl 1955q1 1960q4\n",
    "equation earlyeq.ls sales c orders\n",
    "smpl 1970q2 1980q3\n",
    "equation mideq.ls sales c orders\n",
    "smpl 1975q4 1995q1\n",
    "equation lateeq.ls sales c orders\n",
    "```"
   ]
  },
  {
   "cell_type": "markdown",
   "metadata": {
    "slideshow": {
     "slide_type": "slide"
    }
   },
   "source": [
    "Both string objects and replacement variables may be used to specify a list for use in loops, by surrounding the object name or replacement variable with curly braces (“{ }”). For example,\n",
    "```\n",
    "string dates = \"1960m1 1960m12\"\n",
    "%label = \"year1\"\n",
    "for %1 %2 %3 {dates} {%label}\n",
    "smpl {%1} {%2}\n",
    "equation {%3}eq.ls sales c orders\n",
    "next\n",
    "```\n",
    "finds the three strings for the loop by taking two elements of the string list and one element of the string variable:\n",
    "```\n",
    "smpl 1960m1 1960m12\n",
    "equation year1eq.ls sales c orders\n",
    "```"
   ]
  },
  {
   "cell_type": "markdown",
   "metadata": {
    "slideshow": {
     "slide_type": "slide"
    }
   },
   "source": [
    "Note the difference between using a FOR loop with multiple string variables and using nested FOR loops. In the multiple string variable case, all string variables are advanced at the same time, while with nested loops, the inner variable is advanced over all choices, for each value of the outer variable. For example:\n",
    "```\n",
    "!eqno = 1\n",
    "for %1 1955q1 1960q4\n",
    "    for %2 1970q2 1980q3 1975q4\n",
    "        smpl %1 %2\n",
    "    'form equation name as eq1 through eq6\n",
    "        equation eq{!eqno}.ls sales c orders\n",
    "        !eqno=!eqno+1\n",
    "    next\n",
    "next\n",
    "```\n",
    "\n",
    "Here, the equations are estimated over the samples 1955Q1–1970Q2 for EQ1, 1955Q1–1980Q3 for EQ2, 1955Q1–1975Q4 for EQ3, 1960Q4–1970Q2 for EQ4, 1960Q4–1980Q3 for EQ5, and 1960Q4–1975Q4 for EQ6.\n"
   ]
  },
  {
   "cell_type": "code",
   "execution_count": null,
   "metadata": {
    "collapsed": true
   },
   "outputs": [],
   "source": []
  },
  {
   "cell_type": "code",
   "execution_count": null,
   "metadata": {
    "collapsed": true
   },
   "outputs": [],
   "source": []
  }
 ],
 "metadata": {
  "celltoolbar": "Slideshow",
  "kernelspec": {
   "display_name": "R",
   "language": "R",
   "name": "ir"
  },
  "language_info": {
   "codemirror_mode": "r",
   "file_extension": ".r",
   "mimetype": "text/x-r-source",
   "name": "R",
   "pygments_lexer": "r",
   "version": "3.3.1"
  }
 },
 "nbformat": 4,
 "nbformat_minor": 2
}
