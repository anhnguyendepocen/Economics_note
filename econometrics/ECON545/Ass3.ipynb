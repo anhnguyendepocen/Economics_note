{
 "cells": [
  {
   "cell_type": "markdown",
   "metadata": {
    "slideshow": {
     "slide_type": "slide"
    }
   },
   "source": [
    "# ECON545 ASS3\n",
    "\n",
    "\n",
    "UVic 2017 Fall \n",
    "\n",
    "lab1 \n",
    "\n"
   ]
  },
  {
   "cell_type": "markdown",
   "metadata": {
    "slideshow": {
     "slide_type": "slide"
    }
   },
   "source": [
    "## EViews tutorial\n",
    "\n",
    "Get used to programming-> save time.\n",
    "\n",
    "- [EViews tutorial](http://www.eviews.com/Learning/)\n",
    "\n",
    "- [Online etherpad for discussion](https://public.etherpad-mozilla.org/p/uvicecon)\n",
    "\n",
    "- [short introduction, 6 pages](http://www.ssc.upenn.edu/~fdiebold/Teaching221/EviewsIntroduction.pdf)\n",
    "\n",
    "- [video tutorial](https://www.youtube.com/watch?v=ME7tqEFyyhQ)"
   ]
  },
  {
   "cell_type": "markdown",
   "metadata": {
    "slideshow": {
     "slide_type": "slide"
    }
   },
   "source": [
    "## Econometrics\n",
    "\n",
    "- Data\n",
    "\n",
    "- Model: estimation\n",
    "\n",
    "- Model: diagnostic\n",
    "\n",
    "- Inference: hypothesis test and confindence interval\n",
    "\n",
    "- Forecast"
   ]
  },
  {
   "cell_type": "markdown",
   "metadata": {
    "slideshow": {
     "slide_type": "slide"
    }
   },
   "source": [
    "## EViews Programming Basic\n",
    "\n",
    "<div class=\"slideContent\">\n",
    "<ul>\n",
    "<li><p><a href=\"http://www.eviews.com/Learning/seriesgroups_b.html\">Generate new series</a></p></li>\n",
    "<li><p><a href=\"http://www.eviews.com/Learning/statistics_b.html\">Statistical Analysis</a></p></li>\n",
    "<li><p>Inference: 4 steps procedure</p></li>\n",
    "<li><p><a href=\"http://www.eviews.com/Learning/dummies.html\">Dummies</a>: shift inteceptor / shift slope</p></li>\n",
    "<li><p><a href=\"http://www.eviews.com/Learning/samples.html\">Sample</a>: condition, @first @last</p></li>\n",
    "<li><p><a href=\"http://www.eviews.com/Learning/graphs_a.html\">Plot</a></p></li>\n",
    "<li><p><a href=\"http://www.eviews.com/Learning/programming_a.html\">Programming</a></p></li>\n",
    "</ul>\n",
    "\n",
    "</div>"
   ]
  },
  {
   "cell_type": "markdown",
   "metadata": {
    "slideshow": {
     "slide_type": "slide"
    }
   },
   "source": [
    "## Econometrics Textbook\n",
    "\n",
    "\n",
    "http://www.ssc.upenn.edu/~fdiebold/Textbooks.html\n",
    "\n",
    "\n",
    "## Econometrics Online Course\n",
    "\n",
    "https://www.coursera.org/learn/erasmus-econometric"
   ]
  },
  {
   "cell_type": "code",
   "execution_count": null,
   "metadata": {
    "collapsed": true
   },
   "outputs": [],
   "source": []
  }
 ],
 "metadata": {
  "celltoolbar": "Slideshow",
  "kernelspec": {
   "display_name": "Python 3",
   "language": "python",
   "name": "python3"
  },
  "language_info": {
   "codemirror_mode": {
    "name": "ipython",
    "version": 3
   },
   "file_extension": ".py",
   "mimetype": "text/x-python",
   "name": "python",
   "nbconvert_exporter": "python",
   "pygments_lexer": "ipython3",
   "version": "3.5.2"
  }
 },
 "nbformat": 4,
 "nbformat_minor": 2
}
