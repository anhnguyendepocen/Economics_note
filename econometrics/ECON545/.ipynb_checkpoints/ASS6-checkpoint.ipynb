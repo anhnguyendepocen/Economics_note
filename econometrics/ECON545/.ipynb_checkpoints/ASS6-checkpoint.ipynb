{
 "cells": [
  {
   "cell_type": "markdown",
   "metadata": {
    "slideshow": {
     "slide_type": "slide"
    }
   },
   "source": [
    "## ECON545 ASS6"
   ]
  },
  {
   "cell_type": "markdown",
   "metadata": {},
   "source": [
    "## Wald test\n",
    "\n",
    "### Wald Test (Coefficient Restrictions)\n",
    "\n",
    "The Wald test computes a test statistic based on the unrestricted regression.\n",
    "\n",
    "The Wald statistic measures how close the unrestricted estimates come to satisfying the restrictions under the null hypothesis. \n",
    "\n",
    "If the restrictions are in fact true, then the unrestricted estimates should come close to satisfying the restrictions.\n",
    "\n",
    "To carry out a Wald test, choose **View/Coefficient Diagnostics/Wald-Coefficient Restrictions…** from the equation toolbar. Enter the restrictions into the edit box, with multiple coefficient restrictions separated by commas. \n",
    "\n",
    "The restrictions should be expressed as equations involving the estimated coefficients and constants. \n",
    "\n",
    "The coefficients should be referred to as C(1), C(2), and so on, unless you have used a different coefficient vector in estimation.\n",
    "\n",
    "\n",
    "To test the hypothesis of constant returns to scale, type the following restriction in the dialog box:\n",
    "\n",
    "c(2) + c(3) = 1\n",
    "\n",
    "and click OK. EViews reports the following result of the Wald test:\n",
    "\n",
    "![](http://www.eviews.com/help/content/images/testing.033.3.048.jpg)\n",
    "\n",
    "EViews reports an F-statistic and a Chi-square statistic with associated p-values. In cases with a single restriction, EViews reports the t-statistic equivalent of the F-statistic. \n",
    "\n",
    "\n",
    "### the normalized (homogeneous) restriction and associated standard error\n",
    "\n",
    "In addition, EViews reports the value of the normalized (homogeneous) restriction and an associated standard error. \n",
    "\n",
    "In this example, we have a single linear restriction so the F-statistic and Chi-square statistic are identical, with the p-value indicating that we can decisively reject the null hypothesis of constant returns to scale.\n",
    "\n",
    "\n",
    "ref:\n",
    "http://www.eviews.com/help/helpintro.html#page/content%2Ftesting-Coefficient_Diagnostics.html%23ww182316\n"
   ]
  },
  {
   "cell_type": "markdown",
   "metadata": {},
   "source": [
    "## Wald Test Details\n",
    "\n",
    "For the textbook case of a linear regression model,\n",
    "\n",
    "![](http://www.eviews.com/help/content/images/testing.033.3.088.jpg)\n",
    "(24.14)\n",
    "\n",
    "and linear restrictions:\n",
    "\n",
    "![](http://www.eviews.com/help/content/images/testing.033.3.089.jpg)\n",
    "(24.15)\n",
    "\n",
    "where $R$ is a known $q\\times k$ matrix, and  is a -vector, respectively. The Wald statistic in Equation (24.12) reduces to:\n",
    "\n",
    "![](http://www.eviews.com/help/content/images/testing.033.3.094.jpg)\n",
    "\t\n",
    "(24.16)\n",
    "which is asymptotically distributed as  $\\chi^2(q)$ under $H_0$.\n",
    "\n",
    "If we further assume that the errors $\\epsilon$  are **independent and identically normally distributed**, we have an **exact, finite sample F-statistic**:\n",
    "\n",
    "![](http://www.eviews.com/help/content/images/testing.033.3.098.jpg)\n",
    "(24.17)\n",
    "where  is the vector of residuals from the restricted regression. In this case, the F-statistic compares the residual sum of squares computed with and without the restrictions imposed.\n",
    "\n"
   ]
  },
  {
   "cell_type": "markdown",
   "metadata": {
    "collapsed": true
   },
   "source": [
    "### Validity of F-statistics\n",
    "\n",
    "We remind you that the expression for the finite sample F-statistic in (24.17) is for standard linear regression, and __is not valid for more general cases__ (nonlinear models, ARMA specifications, or equations where the variances are estimated using other methods such as **Newey-West or White**). \n",
    "\n",
    "In non-standard settings, the reported F-statistic (which EViews always computes as $W/q$), __does not possess the desired finite-sample properties__. \n",
    "\n",
    "\n",
    "In these cases, while **asymptotically valid**, F-statistic (and corresponding t-statistic) results should be viewed as illustrative and for comparison purposes only.\n",
    "\n",
    "\n",
    "\n",
    "ref:\n",
    "http://www.eviews.com/help/helpintro.html#page/content/testing-Coefficient_Diagnostics.html#ww182462"
   ]
  },
  {
   "cell_type": "markdown",
   "metadata": {
    "collapsed": true
   },
   "source": [
    "## Wald Test Command Syntax\n",
    "```EViews\n",
    "equation_name.wald restrictions\n",
    "\n",
    "```\n",
    "\n",
    "Enter the equation name, followed by a period, and the keyword. You must provide a list of the coefficient restrictions, with joint (multiple) coefficient restrictions separated by commas.\n",
    "### Options\n",
    " \n",
    "```\n",
    "p\n",
    "```\n",
    "Print the test results.\n",
    "Examples\n",
    "```\n",
    "eq1.wald c(2)=0, c(3)=0\n",
    "\n",
    "```\n",
    "\n",
    "tests the null hypothesis that the second and third coefficients in equation EQ1 are jointly zero.\n",
    "```\n",
    "eq2.wald c(2)=c(3)*c(4)\n",
    "```\n",
    "\n",
    "tests the non-linear restriction that the second coefficient in equation EQ2 is equal to the product of the third and fourth coefficients.\n",
    "\n",
    "\n",
    "ref:\n",
    "http://www.eviews.com/help/helpintro.html#page/content/equationcmd-wald.html"
   ]
  },
  {
   "cell_type": "code",
   "execution_count": null,
   "metadata": {
    "collapsed": true
   },
   "outputs": [],
   "source": []
  },
  {
   "cell_type": "code",
   "execution_count": null,
   "metadata": {
    "collapsed": true
   },
   "outputs": [],
   "source": []
  },
  {
   "cell_type": "code",
   "execution_count": null,
   "metadata": {
    "collapsed": true
   },
   "outputs": [],
   "source": []
  },
  {
   "cell_type": "markdown",
   "metadata": {
    "slideshow": {
     "slide_type": "slide"
    }
   },
   "source": [
    "## [IF Statements](http://www.eviews.com/help/helpintro.html#page/content%2Fcprogram-Control_of_Execution.html%23ww698)\n",
    "\n",
    "If the expression is true, all of the commands until the matching endif are executed. If the expression is false, all of these commands are skipped. For example,\n",
    "```\n",
    "if !stand=1 or (!rescale=1 and !redo=1) then\n",
    "    series gnpstd = gnp/sqr(gvar)\n",
    "    series constd = cons/sqr(cvar)\n",
    "endif\n",
    "if !a>5 and !a<10 then\n",
    "    smpl 1950q1 1970q1+!a\n",
    "endif\n",
    "```\n",
    "only generates the series GNPSTD and CONSTD and sets the sample if the corresponding IF statements are true. Note that we have indented the lines between the if and the endif statements. The indentation is added for program clarity and has no effect on the execution of the program lines.\n",
    "\n",
    "\n"
   ]
  },
  {
   "cell_type": "markdown",
   "metadata": {
    "slideshow": {
     "slide_type": "subslide"
    }
   },
   "source": [
    "An IF statement may include a matching ELSE clause containing commands to be executed if the condition is FALSE. If the condition is true, all of the commands up to the keyword else will be executed. If the condition is FALSE, all of the commands between else and endif will be executed. For example:\n",
    "```\n",
    "if !scale>0 then\n",
    "series newage = age/!scale\n",
    "else\n",
    "series newage = age\n",
    "endif\n",
    "```\n",
    "(It is worth noting that this example performs a conditional recode in which the series NEWAGE is assigned using one expression if a condition is true, and a different expression otherwise. EViews provides a built-in @recode function for performing this type of evaluation; see @recode(s,x,y).)"
   ]
  },
  {
   "cell_type": "markdown",
   "metadata": {
    "slideshow": {
     "slide_type": "subslide"
    }
   },
   "source": [
    "IF statements may also be applied to string variables:\n",
    "```\n",
    "if %0=\"CA\" or %0=\"IN\" then\n",
    "    series stateid = 1\n",
    "else\n",
    "    if %0=\"MA\" then\n",
    "        series stateid=2\n",
    "    else\n",
    "        if %0=\"IN\" then\n",
    "            series stateid=3\n",
    "        endif\n",
    "    endif\n",
    "endif\n",
    "```\n",
    "Note that the nesting of our comparisons does not cause any difficulties."
   ]
  },
  {
   "cell_type": "markdown",
   "metadata": {
    "slideshow": {
     "slide_type": "slide"
    }
   },
   "source": [
    "[The FOR Loop](http://www.eviews.com/help/helpintro.html#page/content%2Fcprogram-Control_of_Execution.html%23ww830)\n",
    "\n",
    "The FOR loop allows you to repeat a set of commands for different values of numerical or string variables. The FOR loop begins with a for statement and ends with a next statement. Any number of commands may appear between these two statements.\n",
    "\n",
    "The syntax of the FOR statement differs depending upon whether it uses numerical variables or string variables.\n",
    "\n"
   ]
  },
  {
   "cell_type": "markdown",
   "metadata": {
    "slideshow": {
     "slide_type": "slide"
    }
   },
   "source": [
    "### FOR Loops With Numerical Control Variables Or Scalars\n",
    "To repeat statements for different values of a control variable, you should follow the for keyword by a control variable initialization, the word to, and then an ending value. After the ending value you may include the word step followed by a number indicating an amount to change the control variable each time the loop is executed. If you don’t include step, the step is assumed to be 1. Consider, for example the loop:\n",
    "```\n",
    "for !j=1 to 10\n",
    "    series decile{!j} = (income<level{!j})\n",
    "next\n",
    "```\n",
    "In this example, STEP=1 and the variable !J is twice used as a replacement variable, first for the ten series declarations DECILE1 through DECILE10 and for the ten variables LEVEL1 through LEVEL10."
   ]
  },
  {
   "cell_type": "markdown",
   "metadata": {
    "slideshow": {
     "slide_type": "subslide"
    }
   },
   "source": [
    "We may add the step keyword and value to the FOR loop to modify the step:\n",
    "```\n",
    "for !j=10 to 1 step -1\n",
    "    series rescale{!j}=original/!j\n",
    "next\n",
    "```\n",
    "In this example, the step is -1, and !J is used as a replacement variable in naming the ten constructed series RESCALE10 through RESCALE1 and as a control variable scalar divisor in the series ORIGINAL."
   ]
  },
  {
   "cell_type": "markdown",
   "metadata": {
    "slideshow": {
     "slide_type": "subslide"
    }
   },
   "source": [
    "One important use of FOR loops with control variables is to change the workfile sample using a smpl command. If you add a control variable to a date in a smpl command statement, you will get a new date as many observations forward as the current value of the control variable. Here is a FOR loop that gradually increases the size of the sample and estimates a recursive regression:\n",
    "```\n",
    "for !horizon=10 to 72\n",
    "    smpl 1970m1 1970m1+!horizon\n",
    "    equation eq{!horizon}.ls sales c orders\n",
    "next\n",
    "```"
   ]
  },
  {
   "cell_type": "markdown",
   "metadata": {
    "slideshow": {
     "slide_type": "subslide"
    }
   },
   "source": [
    "One other important case uses loops and control variables to access elements of a matrix object. For example,\n",
    "```\n",
    "!rows = @rows(vec1)\n",
    "vector cumsum1 = vec1\n",
    "for !i=2 to !rows\n",
    "    cumsum1(!i) = cumsum1(!i-1) + vec1(!i)\n",
    "next\n",
    "```\n",
    "computes the cumulative sum of the elements in the vector VEC1 and saves it in the vector CUMSUM1."
   ]
  },
  {
   "cell_type": "markdown",
   "metadata": {
    "slideshow": {
     "slide_type": "subslide"
    }
   },
   "source": [
    "You may nest FOR loops to contain loops within loops. The entire inner FOR loop is executed for each successive value of the outer FOR loop. For example:\n",
    "```\n",
    "matrix(25,10) xx\n",
    "for !i=1 to 25\n",
    "    for !j=1 to 10\n",
    "        xx(!i,!j)=(!i-1)*10+!j\n",
    "    next\n",
    "next\n",
    "```"
   ]
  },
  {
   "cell_type": "markdown",
   "metadata": {
    "slideshow": {
     "slide_type": "slide"
    }
   },
   "source": [
    "### FOR Loops With String Variables And String Objects\n",
    "To repeat statements for different values of a string variable, you may use the FOR loop to let a string variable range over a list of string values. You should list the FOR keyword, followed by the name of the string program variable, followed by the list of values. For example,\n",
    "```\n",
    "for %y gdp gnp ndp nnp\n",
    "equation {%y}trend.ls {%y} c {%y}(-1) time\n",
    "next\n",
    "```\n",
    "executes the commands\n",
    "```\n",
    "equation gdptrend.ls gdp c gdp(-1) time\n",
    "equation gnptrend.ls gnp c gnp(-1) time\n",
    "equation ndptrend.ls ndp c ndp(-1) time\n",
    "equation nnptrend.ls nnp c nnp(-1) time\n",
    "```"
   ]
  },
  {
   "cell_type": "markdown",
   "metadata": {
    "slideshow": {
     "slide_type": "subslide"
    }
   },
   "source": [
    "You may include multiple string variables in the same FOR statement—EViews will process the string values in sets. For example, we may define a loop with list three string variables:\n",
    "```\n",
    "for %1 %2 %3 1955q1 1960q4 early 1970q2 1980q3 mid 1975q4 1995q1 late\n",
    "smpl %1 %2\n",
    "equation {%3}eq.ls sales c orders\n",
    "next\n",
    "```\n",
    "In this case, the elements of the list are taken in groups of three. The loop is executed three times for the different sample pairs and equation names:\n",
    "```\n",
    "smpl 1955q1 1960q4\n",
    "equation earlyeq.ls sales c orders\n",
    "smpl 1970q2 1980q3\n",
    "equation mideq.ls sales c orders\n",
    "smpl 1975q4 1995q1\n",
    "equation lateeq.ls sales c orders\n",
    "```"
   ]
  },
  {
   "cell_type": "markdown",
   "metadata": {
    "slideshow": {
     "slide_type": "slide"
    }
   },
   "source": [
    "Both string objects and replacement variables may be used to specify a list for use in loops, by surrounding the object name or replacement variable with curly braces (“{ }”). For example,\n",
    "```\n",
    "string dates = \"1960m1 1960m12\"\n",
    "%label = \"year1\"\n",
    "for %1 %2 %3 {dates} {%label}\n",
    "smpl {%1} {%2}\n",
    "equation {%3}eq.ls sales c orders\n",
    "next\n",
    "```\n",
    "finds the three strings for the loop by taking two elements of the string list and one element of the string variable:\n",
    "```\n",
    "smpl 1960m1 1960m12\n",
    "equation year1eq.ls sales c orders\n",
    "```"
   ]
  },
  {
   "cell_type": "markdown",
   "metadata": {
    "slideshow": {
     "slide_type": "slide"
    }
   },
   "source": [
    "Note the difference between using a FOR loop with multiple string variables and using nested FOR loops. In the multiple string variable case, all string variables are advanced at the same time, while with nested loops, the inner variable is advanced over all choices, for each value of the outer variable. For example:\n",
    "```\n",
    "!eqno = 1\n",
    "for %1 1955q1 1960q4\n",
    "    for %2 1970q2 1980q3 1975q4\n",
    "        smpl %1 %2\n",
    "    'form equation name as eq1 through eq6\n",
    "        equation eq{!eqno}.ls sales c orders\n",
    "        !eqno=!eqno+1\n",
    "    next\n",
    "next\n",
    "```\n",
    "\n",
    "Here, the equations are estimated over the samples 1955Q1–1970Q2 for EQ1, 1955Q1–1980Q3 for EQ2, 1955Q1–1975Q4 for EQ3, 1960Q4–1970Q2 for EQ4, 1960Q4–1980Q3 for EQ5, and 1960Q4–1975Q4 for EQ6.\n"
   ]
  },
  {
   "cell_type": "code",
   "execution_count": null,
   "metadata": {
    "collapsed": true
   },
   "outputs": [],
   "source": []
  },
  {
   "cell_type": "code",
   "execution_count": null,
   "metadata": {
    "collapsed": true
   },
   "outputs": [],
   "source": []
  }
 ],
 "metadata": {
  "celltoolbar": "Slideshow",
  "kernelspec": {
   "display_name": "Python 3",
   "language": "python",
   "name": "python3"
  },
  "language_info": {
   "codemirror_mode": {
    "name": "ipython",
    "version": 3
   },
   "file_extension": ".py",
   "mimetype": "text/x-python",
   "name": "python",
   "nbconvert_exporter": "python",
   "pygments_lexer": "ipython3",
   "version": "3.6.2"
  }
 },
 "nbformat": 4,
 "nbformat_minor": 2
}
