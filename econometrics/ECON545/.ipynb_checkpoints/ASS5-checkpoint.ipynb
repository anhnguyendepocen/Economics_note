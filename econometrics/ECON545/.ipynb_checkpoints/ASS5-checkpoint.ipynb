{
 "cells": [
  {
   "cell_type": "markdown",
   "metadata": {
    "slideshow": {
     "slide_type": "slide"
    }
   },
   "source": [
    "## ECON545 ASS5\n",
    "\n",
    "- Control variable\n",
    "- String variable\n",
    "- Replacement variable"
   ]
  },
  {
   "cell_type": "markdown",
   "metadata": {
    "slideshow": {
     "slide_type": "slide"
    }
   },
   "source": [
    "## [Control Variables](http://www.eviews.com/help/helpintro.html#page/content%2Fcprogram-Program_Variables.html%23ww332)\n",
    "\n",
    "You need not declare control variables, but you must assign them values before use. Control variable values are assigned in the usual way, with the control variable name on the left of an “=” sign and a numerical value or expression on the right. For example:\n",
    "```\n",
    "!x = 7\n",
    "!12345 = 0\n",
    "!counter = 12\n",
    "!pi = 3.14159\n",
    "```"
   ]
  },
  {
   "cell_type": "markdown",
   "metadata": {
    "slideshow": {
     "slide_type": "subslide"
    }
   },
   "source": [
    "Once assigned a value, a control variable may appear in an expression. For example:\n",
    "```\n",
    "!counter = !counter + 1\n",
    "genr dnorm = 1/sqr(2*!pi)*exp(-1/2*epsilon^2)\n",
    "scalar stdx = x/sqr(!varx)\n",
    "smpl 1950q1+!i 1960q4+!i\n",
    "```"
   ]
  },
  {
   "cell_type": "markdown",
   "metadata": {
    "slideshow": {
     "slide_type": "slide"
    }
   },
   "source": [
    "## [String Variables](http://www.eviews.com/help/helpintro.html#page/content%2Fcprogram-Program_Variables.html%23ww131590)\n",
    "\n",
    "String variables are assigned by putting the string variable name on the left of an “=” sign and a string expression on the right. For example, the following lines assign values to string variables:\n",
    "```\n",
    "%value = \"value in millions of u.s. dollars\"\n",
    "%armas = \"ar(1) ar(2) ma(1) ma(2)\"\n",
    "%mysample = \" 83m1 96m12\"\n",
    "%dep = \" hs\"\n",
    "%pi = \" 3.14159\"\n",
    "```"
   ]
  },
  {
   "cell_type": "markdown",
   "metadata": {
    "slideshow": {
     "slide_type": "subslide"
    }
   },
   "source": [
    "Here is a simple example where we use string operations to concatenate the contents of three string variables.\n",
    "```\n",
    "!repeat = 500\n",
    "%st1 = \" draws from the normal\"\n",
    "%st2 = \"Cauchy \"\n",
    "%st3 = @str(!repeat) + @left(%st1,16) + %st2 + \"distribution\"\n",
    "```\n",
    "In this example %ST3 is set to the value “500 draws from the Cauchy distribution”."
   ]
  },
  {
   "cell_type": "markdown",
   "metadata": {
    "slideshow": {
     "slide_type": "slide"
    }
   },
   "source": [
    "[Replacement Variables](http://www.eviews.com/help/helpintro.html#page/content%2Fcprogram-Program_Variables.html%23ww41251)\n",
    "\n",
    "When working with EViews commands, you may wish to use a string variable, not simply to refer to a string value, but as an indirect way of referring to something else, perhaps a command, or an object name, or portion of names for one or more items.\n",
    "```\n",
    "%x = \"gdp\"\n",
    "```"
   ]
  },
  {
   "cell_type": "markdown",
   "metadata": {
    "slideshow": {
     "slide_type": "subslide"
    }
   },
   "source": [
    "we would like to replace the string value with the name of an object. With the replacement variable **“{%X}”**, the command\n",
    "```\n",
    "equation eq1.ls {%x} c {%x}(-1)\n",
    "```\n",
    "would be interpreted by EViews as\n",
    "```\n",
    "equation eq1.ls gdp c gdp(-1)\n",
    "```"
   ]
  },
  {
   "cell_type": "markdown",
   "metadata": {
    "slideshow": {
     "slide_type": "slide"
    }
   },
   "source": [
    "To take another example, when trying to find the number of valid (non-missing) observations in a series named INCOME, you may use the @obs function along with the name of the series:\n",
    "```\n",
    "@obs(income)\n",
    "```\n",
    "If you wish to use a string variable %VAR to refer to the INCOME series, you must use the replacement variable in the @obs function, as in\n",
    "```\n",
    "%var = \"income\"\n",
    "@obs({%var})\n",
    "```\n",
    "since you wish to refer indirectly to the object named in %VAR. Note that the expression\n",
    "```\n",
    "@obs(%var)\n",
    "```\n",
    "will return an error since @obs requires a series or matrix object name as an argument."
   ]
  },
  {
   "cell_type": "markdown",
   "metadata": {
    "slideshow": {
     "slide_type": "slide"
    }
   },
   "source": [
    "## control variables to form replacement variables\n",
    "\n",
    "However, control variables may also be used to form replacement variables. For example, the commands\n",
    "```\n",
    "!i = 1\n",
    "series y{!i} = nrnd\n",
    "!j = 0\n",
    "series y{!j}{!i} = nrnd\n",
    "```\n",
    "are equivalent to\n",
    "```\n",
    "series y1 = nrnd\n",
    "series y01 = nrnd\n",
    "```\n",
    "and will create two series Y1 and Y01 that contain a set of (pseudo-)random draws from a standard normal distribution."
   ]
  },
  {
   "cell_type": "code",
   "execution_count": null,
   "metadata": {
    "collapsed": true,
    "slideshow": {
     "slide_type": "slide"
    }
   },
   "outputs": [],
   "source": []
  }
 ],
 "metadata": {
  "celltoolbar": "Slideshow",
  "kernelspec": {
   "display_name": "Python 3",
   "language": "python",
   "name": "python3"
  },
  "language_info": {
   "codemirror_mode": {
    "name": "ipython",
    "version": 3
   },
   "file_extension": ".py",
   "mimetype": "text/x-python",
   "name": "python",
   "nbconvert_exporter": "python",
   "pygments_lexer": "ipython3",
   "version": "3.6.2"
  }
 },
 "nbformat": 4,
 "nbformat_minor": 2
}
