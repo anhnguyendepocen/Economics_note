{
 "cells": [
  {
   "cell_type": "markdown",
   "metadata": {},
   "source": [
    "\n",
    "\n",
    "## Constant elasticity of substitution (CES), \n",
    "\n",
    "\n",
    "in economics, is a property of some production functions and utility functions.\n",
    "\n",
    "\n",
    "Specifically, it arises in a particular type of aggregator function which combines two or more types of consumption goods, or two or more types of production inputs into an aggregate quantity. This aggregator function exhibits constant elasticity of substitution.\n",
    "\n",
    "\n",
    "$$Q=\\gamma[\\delta K^{-\\rho} +(1-\\delta) L^{-\\rho}  ]^{-\\frac{\\nu}{\\rho}}$$\n",
    "\n",
    "where\n",
    "\n",
    "${\\displaystyle Q}=$  Quantity of output\n",
    "\n",
    "${\\displaystyle \\gamma}=$  Factor productivity\n",
    "\n",
    "${\\displaystyle \\delta}=$  Share parameter/he \"distribution\" parameter of the CES function.\n",
    "\n",
    "${\\displaystyle K}$, ${\\displaystyle L} =$  Quantities of primary production factors (Capital and Labor)\n",
    "\n",
    "${\\displaystyle \\rho}  = {\\displaystyle {\\frac {(\\sigma-1)}{\\sigma}}} =$ the substitution parameter \n",
    "\n",
    "$\\sigma = \\frac 1{1+\\rho},\\rho > -1 =$ Elasticity of substitution with $ 0< \\sigma <1$. \n",
    "\n",
    "$\\nu = $ the degree of homogeneity  $ν$ (which governs returns-to-scale)\n",
    "\n",
    "\n",
    "\n",
    "Hypothesis:  constant-returns-to-scale $(ν = 1)$\n",
    "\n",
    "Comparing the CES function (as the unrestricted model) with the Cobb-Douglas (as the restricted model)\n",
    "\n",
    "Special case: \n",
    "\n",
    "$$\\lim_{\\rho\\to 0}Q= \\gamma K^aL^{1-a}$$\n",
    "\n",
    "\n",
    "ref: https://en.wikipedia.org/wiki/Constant_elasticity_of_substitution\n",
    "\n",
    "https://economics.stackexchange.com/questions/361/how-can-i-obtain-leontief-and-cobb-douglas-production-function-from-ces-function"
   ]
  },
  {
   "cell_type": "code",
   "execution_count": null,
   "metadata": {
    "collapsed": true
   },
   "outputs": [],
   "source": []
  },
  {
   "cell_type": "markdown",
   "metadata": {},
   "source": [
    "## Cobb–Douglas production function\n",
    "\n",
    "\n",
    "In economics and econometrics, the Cobb–Douglas production function is a particular functional form of the production function, widely used to represent the technological relationship between the amounts of two or more inputs (particularly physical capital and labor) and the amount of output that can be produced by those inputs. The Cobb–Douglas form was developed and tested against statistical evidence by Charles Cobb and Paul Douglas during 1927–1947.[1]\n",
    "\n",
    "\n",
    "\n",
    "![](https://upload.wikimedia.org/wikipedia/commons/e/e5/Cobbdouglas.jpg)\n",
    "\n",
    "\n",
    "\n",
    "In its most standard form for production of a single good with two factors, the function is\n",
    "\n",
    "$${\\displaystyle Y=AL^{\\beta }K^{\\alpha }} $$\n",
    "where:\n",
    "\n",
    "$Y$ = total production (the real value of all goods produced in a year or 365.25 days)\n",
    "\n",
    "$L$ = labor input (the total number of person-hours worked in a year or 365.25 days)\n",
    "\n",
    "$K$ = capital input (the real value of all machinery, equipment, and buildings)\n",
    "\n",
    "$A$ = total factor productivity and your usual depreciation by utility in day after\n",
    "\n",
    "$α$ and $β$ are the output elasticities of capital and labor, respectively. These values are constants determined by available technology.\n",
    "\n",
    "\n",
    "Hypothesis: constant-returns-to-scale $(α + β = 1)$\n",
    "\n",
    "ref:https://en.wikipedia.org/wiki/Cobb%E2%80%93Douglas_production_function"
   ]
  },
  {
   "cell_type": "code",
   "execution_count": null,
   "metadata": {
    "collapsed": true
   },
   "outputs": [],
   "source": []
  }
 ],
 "metadata": {
  "kernelspec": {
   "display_name": "Python 3",
   "language": "python",
   "name": "python3"
  },
  "language_info": {
   "codemirror_mode": {
    "name": "ipython",
    "version": 3
   },
   "file_extension": ".py",
   "mimetype": "text/x-python",
   "name": "python",
   "nbconvert_exporter": "python",
   "pygments_lexer": "ipython3",
   "version": "3.5.2"
  }
 },
 "nbformat": 4,
 "nbformat_minor": 2
}
