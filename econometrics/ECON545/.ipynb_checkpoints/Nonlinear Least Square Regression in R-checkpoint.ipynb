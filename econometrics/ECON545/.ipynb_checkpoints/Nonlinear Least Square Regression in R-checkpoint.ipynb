{
 "cells": [
  {
   "cell_type": "code",
   "execution_count": 1,
   "metadata": {
    "collapsed": true
   },
   "outputs": [],
   "source": [
    "# Import the data\n",
    "mizon57 <- read.csv(\"Mizon57.csv\")\n"
   ]
  },
  {
   "cell_type": "code",
   "execution_count": 2,
   "metadata": {
    "collapsed": true
   },
   "outputs": [],
   "source": [
    "mizon57[\"L\"]= (mizon57[\"LF\"]-mizon57[\"U\"])*mizon57[\"H\"]/100\n",
    "mizon57[\"L100\"]= (mizon57[\"LF\"]-mizon57[\"U\"])*mizon57[\"H\"]"
   ]
  },
  {
   "cell_type": "code",
   "execution_count": 3,
   "metadata": {
    "collapsed": false
   },
   "outputs": [
    {
     "data": {
      "text/html": [
       "<table>\n",
       "<thead><tr><th></th><th scope=col>Q</th><th scope=col>K</th><th scope=col>LF</th><th scope=col>U</th><th scope=col>H</th><th scope=col>L</th><th scope=col>L100</th></tr></thead>\n",
       "<tbody>\n",
       "\t<tr><th scope=row>1</th><td>  405.00</td><td>  335.00</td><td>  605.00</td><td>    9.00</td><td>   47.00</td><td>  280.12</td><td>28012.00</td></tr>\n",
       "\t<tr><th scope=row>2</th><td> 245</td><td> 130</td><td> 202</td><td>   2</td><td>  46</td><td>  92</td><td>9200</td></tr>\n",
       "\t<tr><th scope=row>3</th><td> 31.00</td><td>100.00</td><td> 19.00</td><td>  0.00</td><td> 48.00</td><td>  9.12</td><td>912.00</td></tr>\n",
       "\t<tr><th scope=row>4</th><td>  37.00</td><td> 191.00</td><td>  37.00</td><td>   0.00</td><td>  48.00</td><td>  17.76</td><td>1776.00</td></tr>\n",
       "\t<tr><th scope=row>5</th><td>  526.00</td><td>  615.00</td><td>  459.00</td><td>    4.00</td><td>   47.00</td><td>  213.85</td><td>21385.00</td></tr>\n",
       "\t<tr><th scope=row>6</th><td>  430</td><td>  504</td><td>  404</td><td>    4</td><td>   48</td><td>  192</td><td>19200</td></tr>\n",
       "\t<tr><th scope=row>7</th><td>  88.00</td><td>  63.00</td><td>  70.00</td><td>   1.00</td><td>  47.00</td><td>  32.43</td><td>3243.00</td></tr>\n",
       "\t<tr><th scope=row>8</th><td> 130.00</td><td>  98.00</td><td> 133.00</td><td>   1.00</td><td>  47.00</td><td>  62.04</td><td>6204.00</td></tr>\n",
       "\t<tr><th scope=row>9</th><td> 1558.00</td><td>  758.00</td><td> 1940.00</td><td>   16.00</td><td>   47.00</td><td>  904.28</td><td>90428.00</td></tr>\n",
       "\t<tr><th scope=row>10</th><td>  221.00</td><td>   58.00</td><td>  318.00</td><td>    6.00</td><td>   48.00</td><td>  149.76</td><td>14976.00</td></tr>\n",
       "\t<tr><th scope=row>11</th><td>  365.0</td><td>  270.0</td><td>  411.0</td><td>    6.0</td><td>   46.0</td><td>  186.3</td><td>18630.0</td></tr>\n",
       "\t<tr><th scope=row>12</th><td>  273.00</td><td>  140.00</td><td>  303.00</td><td>    1.00</td><td>   47.00</td><td>  141.94</td><td>14194.00</td></tr>\n",
       "\t<tr><th scope=row>13</th><td>  94.0</td><td>  44.0</td><td> 160.0</td><td>   0.0</td><td>  48.0</td><td>  76.8</td><td>7680.0</td></tr>\n",
       "\t<tr><th scope=row>14</th><td>  404.00</td><td>  197.00</td><td>  517.00</td><td>    6.00</td><td>   45.00</td><td>  229.95</td><td>22995.00</td></tr>\n",
       "\t<tr><th scope=row>15</th><td>  605</td><td>  589</td><td> 1015</td><td>   15</td><td>   44</td><td>  440</td><td>44000</td></tr>\n",
       "\t<tr><th scope=row>16</th><td>  308.00</td><td>   82.00</td><td>  681.00</td><td>   10.00</td><td>   41.00</td><td>  275.11</td><td>27511.00</td></tr>\n",
       "\t<tr><th scope=row>17</th><td> 184.0</td><td> 105.0</td><td> 195.0</td><td>   2.0</td><td>  50.0</td><td>  96.5</td><td>9650.0</td></tr>\n",
       "\t<tr><th scope=row>18</th><td>  91.0</td><td>  48.0</td><td> 147.0</td><td>   3.0</td><td>  45.0</td><td>  64.8</td><td>6480.0</td></tr>\n",
       "\t<tr><th scope=row>19</th><td>  184.0</td><td>   54.0</td><td>  289.0</td><td>    5.0</td><td>   45.0</td><td>  127.8</td><td>12780.0</td></tr>\n",
       "\t<tr><th scope=row>20</th><td>  503.00</td><td>  356.00</td><td>  571.00</td><td>    4.00</td><td>   45.00</td><td>  255.15</td><td>25515.00</td></tr>\n",
       "\t<tr><th scope=row>21</th><td>  189.00</td><td>  133.00</td><td>  282.00</td><td>    4.00</td><td>   46.00</td><td>  127.88</td><td>12788.00</td></tr>\n",
       "\t<tr><th scope=row>22</th><td> 1124.00</td><td>  252.00</td><td> 1466.00</td><td>   39.00</td><td>   49.00</td><td>  699.23</td><td>69923.00</td></tr>\n",
       "\t<tr><th scope=row>23</th><td> 127.00</td><td> 309.00</td><td> 142.00</td><td>   1.00</td><td>  47.00</td><td>  66.27</td><td>6627.00</td></tr>\n",
       "\t<tr><th scope=row>24</th><td>  290.0</td><td> 1810.0</td><td>  211.0</td><td>    1.0</td><td>   48.0</td><td>  100.8</td><td>10080.0</td></tr>\n",
       "</tbody>\n",
       "</table>\n"
      ],
      "text/latex": [
       "\\begin{tabular}{r|lllllll}\n",
       "  & Q & K & LF & U & H & L & L100\\\\\n",
       "\\hline\n",
       "\t1 &   405.00 &   335.00 &   605.00 &     9.00 &    47.00 &   280.12 & 28012.00\\\\\n",
       "\t2 &  245 &  130 &  202 &    2 &   46 &   92 & 9200\\\\\n",
       "\t3 &  31.00 & 100.00 &  19.00 &   0.00 &  48.00 &   9.12 & 912.00\\\\\n",
       "\t4 &   37.00 &  191.00 &   37.00 &    0.00 &   48.00 &   17.76 & 1776.00\\\\\n",
       "\t5 &   526.00 &   615.00 &   459.00 &     4.00 &    47.00 &   213.85 & 21385.00\\\\\n",
       "\t6 &   430 &   504 &   404 &     4 &    48 &   192 & 19200\\\\\n",
       "\t7 &   88.00 &   63.00 &   70.00 &    1.00 &   47.00 &   32.43 & 3243.00\\\\\n",
       "\t8 &  130.00 &   98.00 &  133.00 &    1.00 &   47.00 &   62.04 & 6204.00\\\\\n",
       "\t9 &  1558.00 &   758.00 &  1940.00 &    16.00 &    47.00 &   904.28 & 90428.00\\\\\n",
       "\t10 &   221.00 &    58.00 &   318.00 &     6.00 &    48.00 &   149.76 & 14976.00\\\\\n",
       "\t11 &   365.0 &   270.0 &   411.0 &     6.0 &    46.0 &   186.3 & 18630.0\\\\\n",
       "\t12 &   273.00 &   140.00 &   303.00 &     1.00 &    47.00 &   141.94 & 14194.00\\\\\n",
       "\t13 &   94.0 &   44.0 &  160.0 &    0.0 &   48.0 &   76.8 & 7680.0\\\\\n",
       "\t14 &   404.00 &   197.00 &   517.00 &     6.00 &    45.00 &   229.95 & 22995.00\\\\\n",
       "\t15 &   605 &   589 &  1015 &    15 &    44 &   440 & 44000\\\\\n",
       "\t16 &   308.00 &    82.00 &   681.00 &    10.00 &    41.00 &   275.11 & 27511.00\\\\\n",
       "\t17 &  184.0 &  105.0 &  195.0 &    2.0 &   50.0 &   96.5 & 9650.0\\\\\n",
       "\t18 &   91.0 &   48.0 &  147.0 &    3.0 &   45.0 &   64.8 & 6480.0\\\\\n",
       "\t19 &   184.0 &    54.0 &   289.0 &     5.0 &    45.0 &   127.8 & 12780.0\\\\\n",
       "\t20 &   503.00 &   356.00 &   571.00 &     4.00 &    45.00 &   255.15 & 25515.00\\\\\n",
       "\t21 &   189.00 &   133.00 &   282.00 &     4.00 &    46.00 &   127.88 & 12788.00\\\\\n",
       "\t22 &  1124.00 &   252.00 &  1466.00 &    39.00 &    49.00 &   699.23 & 69923.00\\\\\n",
       "\t23 &  127.00 &  309.00 &  142.00 &    1.00 &   47.00 &   66.27 & 6627.00\\\\\n",
       "\t24 &   290.0 &  1810.0 &   211.0 &     1.0 &    48.0 &   100.8 & 10080.0\\\\\n",
       "\\end{tabular}\n"
      ],
      "text/plain": [
       "      Q    K   LF  U  H      L  L100\n",
       "1   405  335  605  9 47 280.12 28012\n",
       "2   245  130  202  2 46  92.00  9200\n",
       "3    31  100   19  0 48   9.12   912\n",
       "4    37  191   37  0 48  17.76  1776\n",
       "5   526  615  459  4 47 213.85 21385\n",
       "6   430  504  404  4 48 192.00 19200\n",
       "7    88   63   70  1 47  32.43  3243\n",
       "8   130   98  133  1 47  62.04  6204\n",
       "9  1558  758 1940 16 47 904.28 90428\n",
       "10  221   58  318  6 48 149.76 14976\n",
       "11  365  270  411  6 46 186.30 18630\n",
       "12  273  140  303  1 47 141.94 14194\n",
       "13   94   44  160  0 48  76.80  7680\n",
       "14  404  197  517  6 45 229.95 22995\n",
       "15  605  589 1015 15 44 440.00 44000\n",
       "16  308   82  681 10 41 275.11 27511\n",
       "17  184  105  195  2 50  96.50  9650\n",
       "18   91   48  147  3 45  64.80  6480\n",
       "19  184   54  289  5 45 127.80 12780\n",
       "20  503  356  571  4 45 255.15 25515\n",
       "21  189  133  282  4 46 127.88 12788\n",
       "22 1124  252 1466 39 49 699.23 69923\n",
       "23  127  309  142  1 47  66.27  6627\n",
       "24  290 1810  211  1 48 100.80 10080"
      ]
     },
     "metadata": {},
     "output_type": "display_data"
    }
   ],
   "source": [
    "mizon57"
   ]
  },
  {
   "cell_type": "code",
   "execution_count": null,
   "metadata": {
    "collapsed": true
   },
   "outputs": [],
   "source": [
    "#install.packages(\"minpack.lm\")\n",
    "library(minpack.lm)\n",
    "\n",
    "cesmod <- nlsLM(Q~ga*(d*K^(-r) + (1-d)* L^(-r))^(-nu/r), data = mizon57\n",
    "              start=list(ga=0.047464,d=0.430930, r = -0.344087, nu = 1.020762) )\n",
    "coef(cesmod)"
   ]
  },
  {
   "cell_type": "code",
   "execution_count": 4,
   "metadata": {
    "collapsed": false
   },
   "outputs": [],
   "source": [
    "Q=mizon57$Q\n",
    "K = mizon57$K\n",
    "L = mizon57$L\n"
   ]
  },
  {
   "cell_type": "code",
   "execution_count": null,
   "metadata": {
    "collapsed": true
   },
   "outputs": [],
   "source": []
  },
  {
   "cell_type": "markdown",
   "metadata": {},
   "source": [
    "0.047464\n",
    "0.430930\n",
    "-0.344087\n",
    "1.020762\n"
   ]
  },
  {
   "cell_type": "code",
   "execution_count": 5,
   "metadata": {
    "collapsed": false,
    "scrolled": true
   },
   "outputs": [
    {
     "ename": "ERROR",
     "evalue": "Error in numericDeriv(form[[3L]], names(ind), env): Missing value or an infinity produced when evaluating the model\n",
     "output_type": "error",
     "traceback": [
      "Error in numericDeriv(form[[3L]], names(ind), env): Missing value or an infinity produced when evaluating the model\nTraceback:\n",
      "1. nls(Q ~ ga * (d * K^(-r) + (1 - d) * L^(-r))^(-nu/r), start = list(ga = 0.047464, \n .     d = 0.43093, r = -0.344087, nu = 1.020762))",
      "2. (function (newPars) \n . {\n .     setPars(newPars)\n .     assign(\"resid\", .swts * (lhs - assign(\"rhs\", getRHS(), envir = thisEnv)), \n .         envir = thisEnv)\n .     assign(\"dev\", sum(resid^2), envir = thisEnv)\n .     assign(\"QR\", qr(.swts * attr(rhs, \"gradient\")), envir = thisEnv)\n .     return(QR$rank < min(dim(QR$qr)))\n . })(c(1.64855222798944, -8.91836142739527, -6.89739124003421, \n . 0.542403124136205))",
      "3. assign(\"resid\", .swts * (lhs - assign(\"rhs\", getRHS(), envir = thisEnv)), \n .     envir = thisEnv)",
      "4. assign(\"rhs\", getRHS(), envir = thisEnv)",
      "5. getRHS()",
      "6. numericDeriv(form[[3L]], names(ind), env)"
     ]
    }
   ],
   "source": [
    "#,  start=list(gamma=1,delta=2, rho = -1.0, nu = 1.02)\n",
    " \n",
    "cesmod <- nls(Q~ga*(d*K^(-r) + (1-d)* L^(-r))^(-nu/r),data = \n",
    "              start=list(ga=0.047464,d=0.430930, r = -0.344087, nu = 1.020762) )\n",
    " \n"
   ]
  },
  {
   "cell_type": "code",
   "execution_count": null,
   "metadata": {
    "collapsed": true
   },
   "outputs": [],
   "source": [
    "summary(cesmod)\n",
    "AIC(cesmod)\n",
    "logLik(cesmod)"
   ]
  },
  {
   "cell_type": "code",
   "execution_count": 8,
   "metadata": {
    "collapsed": false
   },
   "outputs": [
    {
     "data": {
      "text/html": [
       "0.98118313084947"
      ],
      "text/latex": [
       "0.98118313084947"
      ],
      "text/markdown": [
       "0.98118313084947"
      ],
      "text/plain": [
       "[1] 0.9811831"
      ]
     },
     "metadata": {},
     "output_type": "display_data"
    },
    {
     "data": {
      "image/png": "[encoded data removed]",
      "text/plain": [
       "plot without title"
      ]
     },
     "metadata": {},
     "output_type": "display_data"
    }
   ],
   "source": [
    "#simulate some data, this without a priori knowledge of the parameter value\n",
    "y<-runif(1,5,15)*exp(-runif(1,0.01,0.05)*x)+rnorm(51,0,0.5)\n",
    "#visually estimate some starting parameter values\n",
    "plot(x,y)\n",
    "#from this graph set approximate starting values\n",
    "a_start<-8 #param a is the y value when x=0\n",
    "b_start<-2*log(2)/a_start #b is the decay rate\n",
    "#model\n",
    "m<-nls(y~a*exp(-b*x),start=list(a=a_start,b=b_start))\n",
    "#get some estimation of goodness of fit\n",
    "cor(y,predict(m))\n",
    "#plot the fit\n",
    "lines(x,predict(m),col=\"red\",lty=2,lwd=3)"
   ]
  },
  {
   "cell_type": "code",
   "execution_count": null,
   "metadata": {
    "collapsed": true
   },
   "outputs": [],
   "source": []
  },
  {
   "cell_type": "code",
   "execution_count": 7,
   "metadata": {
    "collapsed": false
   },
   "outputs": [
    {
     "name": "stderr",
     "output_type": "stream",
     "text": [
      "Installing package into ‘/home/jonduan/R/x86_64-pc-linux-gnu-library/3.1’\n",
      "(as ‘lib’ is unspecified)\n"
     ]
    },
    {
     "data": {
      "text/html": [
       "<dl class=dl-horizontal>\n",
       "\t<dt>Am</dt>\n",
       "\t\t<dd>8.01131066253343</dd>\n",
       "\t<dt>Rd</dt>\n",
       "\t\t<dd>1.08748444427159</dd>\n",
       "\t<dt>LCP</dt>\n",
       "\t\t<dd>-20.7529574502384</dd>\n",
       "</dl>\n"
      ],
      "text/latex": [
       "\\begin{description*}\n",
       "\\item[Am] 8.01131066253343\n",
       "\\item[Rd] 1.08748444427159\n",
       "\\item[LCP] -20.7529574502384\n",
       "\\end{description*}\n"
      ],
      "text/markdown": [
       "Am\n",
       ":   8.01131066253343Rd\n",
       ":   1.08748444427159LCP\n",
       ":   -20.7529574502384\n",
       "\n"
      ],
      "text/plain": [
       "        Am         Rd        LCP \n",
       "  8.011311   1.087484 -20.752957 "
      ]
     },
     "metadata": {},
     "output_type": "display_data"
    },
    {
     "data": {
      "image/png": "[encoded data removed]",
      "text/plain": [
       "plot without title"
      ]
     },
     "metadata": {},
     "output_type": "display_data"
    }
   ],
   "source": [
    "#install.packages(\"minpack.lm\")\n",
    "library(minpack.lm)\n",
    "\n",
    "photolrc= c(3.089753, 6.336478, 7.737142, 8.004812, 8.031599)\n",
    "PARlrc= c(48.69624, 200.08539, 499.29840, 749.59222, 1250.09363)\n",
    "curvelrc<-data.frame(PARlrc,photolrc)\n",
    "\n",
    "\n",
    "curve.nlslrc = nlsLM(photolrc ~ Am*(1-((1-(Rd/Am))^(1-(PARlrc/LCP)))),\n",
    "                   start=list(Am=(max(photolrc)-min(photolrc)),\n",
    "                              Rd=-min(photolrc),\n",
    "                              LCP= (max(photolrc)-1)),\n",
    "                   data = curvelrc)\n",
    "coef(curve.nlslrc)\n",
    "  #      Am         Rd        LCP \n",
    "  #8.011311   1.087484 -20.752957\n",
    "\n",
    "plot(photolrc ~ PARlrc, data = curvelrc)\n",
    "lines(0:1300, \n",
    "      predict(curve.nlslrc, \n",
    "              newdata = data.frame(PARlrc = 0:1300)))"
   ]
  },
  {
   "cell_type": "code",
   "execution_count": 8,
   "metadata": {
    "collapsed": false
   },
   "outputs": [
    {
     "data": {
      "text/html": [
       "<dl class=dl-horizontal>\n",
       "\t<dt>ga</dt>\n",
       "\t\t<dd>1.50492463082929</dd>\n",
       "\t<dt>d</dt>\n",
       "\t\t<dd>0.134396410440657</dd>\n",
       "\t<dt>r</dt>\n",
       "\t\t<dd>-0.344080791933757</dd>\n",
       "\t<dt>nu</dt>\n",
       "\t\t<dd>1.02076240869495</dd>\n",
       "</dl>\n"
      ],
      "text/latex": [
       "\\begin{description*}\n",
       "\\item[ga] 1.50492463082929\n",
       "\\item[d] 0.134396410440657\n",
       "\\item[r] -0.344080791933757\n",
       "\\item[nu] 1.02076240869495\n",
       "\\end{description*}\n"
      ],
      "text/markdown": [
       "ga\n",
       ":   1.50492463082929d\n",
       ":   0.134396410440657r\n",
       ":   -0.344080791933757nu\n",
       ":   1.02076240869495\n",
       "\n"
      ],
      "text/plain": [
       "        ga          d          r         nu \n",
       " 1.5049246  0.1343964 -0.3440808  1.0207624 "
      ]
     },
     "metadata": {},
     "output_type": "display_data"
    }
   ],
   "source": [
    "# curve.nlslrc = nlsLM(photolrc ~ Am*(1-((1-(Rd/Am))^(1-(PARlrc/LCP)))),\n",
    "#                    start=list(Am=(max(photolrc)-min(photolrc)),\n",
    "#                               Rd=-min(photolrc),\n",
    "#                               LCP= (max(photolrc)-1)),\n",
    "#                    data = curvelrc)\n",
    "\n",
    "\n",
    "cesmod <- nlsLM(Q~ga*(d*K^(-r) + (1-d)* L^(-r))^(-nu/r),\n",
    "              start=list(ga=0.047464,d=0.430930, r = -0.344087, nu = 1.020762) )\n",
    "coef(cesmod)"
   ]
  },
  {
   "cell_type": "code",
   "execution_count": null,
   "metadata": {
    "collapsed": true
   },
   "outputs": [],
   "source": []
  }
 ],
 "metadata": {
  "kernelspec": {
   "display_name": "R",
   "language": "R",
   "name": "ir"
  },
  "language_info": {
   "codemirror_mode": "r",
   "file_extension": ".r",
   "mimetype": "text/x-r-source",
   "name": "R",
   "pygments_lexer": "r",
   "version": "3.3.1"
  }
 },
 "nbformat": 4,
 "nbformat_minor": 2
}
