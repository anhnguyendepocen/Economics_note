{
 "cells": [
  {
   "cell_type": "code",
   "execution_count": 2,
   "metadata": {
    "collapsed": false
   },
   "outputs": [
    {
     "name": "stderr",
     "output_type": "stream",
     "text": [
      "INFO: Cloning cache of BinDeps from git://github.com/JuliaLang/BinDeps.jl.git\n",
      "INFO: Cloning cache of Distributions from git://github.com/JuliaStats/Distributions.jl.git\n",
      "INFO: Cloning cache of LineSearches from git://github.com/JuliaNLSolvers/LineSearches.jl.git\n",
      "INFO: Cloning cache of LsqFit from git://github.com/JuliaNLSolvers/LsqFit.jl.git\n",
      "INFO: Cloning cache of Optim from git://github.com/JuliaNLSolvers/Optim.jl.git\n",
      "INFO: Cloning cache of PDMats from git://github.com/JuliaStats/PDMats.jl.git\n",
      "INFO: Cloning cache of PositiveFactorizations from git://github.com/timholy/PositiveFactorizations.jl.git\n",
      "INFO: Cloning cache of Rmath from git://github.com/JuliaStats/Rmath.jl.git\n",
      "INFO: Cloning cache of SHA from git://github.com/staticfloat/SHA.jl.git\n",
      "INFO: Cloning cache of StatsBase from git://github.com/JuliaStats/StatsBase.jl.git\n",
      "INFO: Cloning cache of StatsFuns from git://github.com/JuliaStats/StatsFuns.jl.git\n",
      "INFO: Cloning cache of URIParser from git://github.com/JuliaWeb/URIParser.jl.git\n",
      "INFO: Installing BinDeps v0.4.7\n",
      "INFO: Installing Distributions v0.11.1\n",
      "INFO: Installing LineSearches v0.1.5\n",
      "INFO: Installing LsqFit v0.1.0\n",
      "INFO: Installing Optim v0.6.1\n",
      "INFO: Installing PDMats v0.6.0\n",
      "INFO: Installing PositiveFactorizations v0.0.4\n",
      "INFO: Installing Rmath v0.1.6\n",
      "INFO: Installing SHA v0.3.3\n",
      "INFO: Installing StatsBase v0.12.0\n",
      "INFO: Installing StatsFuns v0.4.0\n",
      "INFO: Installing URIParser v0.1.8\n",
      "INFO: Building Rmath\n",
      "INFO: Package database updated\n",
      "INFO: METADATA is out-of-date — you may not have the latest version of LsqFit\n",
      "INFO: Use `Pkg.update()` to get the latest versions of your packages\n"
     ]
    }
   ],
   "source": [
    "#Pkg.add(\"LsqFit\")"
   ]
  },
  {
   "cell_type": "code",
   "execution_count": 1,
   "metadata": {
    "collapsed": false
   },
   "outputs": [],
   "source": [
    "using DataFrames;"
   ]
  },
  {
   "cell_type": "code",
   "execution_count": 2,
   "metadata": {
    "collapsed": false
   },
   "outputs": [
    {
     "data": {
      "text/html": [
       "<table class=\"data-frame\"><tr><th></th><th>_Q</th><th>K</th><th>LF</th><th>U</th><th>H</th></tr><tr><th>1</th><td>405</td><td>335</td><td>605</td><td>9</td><td>47</td></tr><tr><th>2</th><td>245</td><td>130</td><td>202</td><td>2</td><td>46</td></tr><tr><th>3</th><td>31</td><td>100</td><td>19</td><td>0</td><td>48</td></tr><tr><th>4</th><td>37</td><td>191</td><td>37</td><td>0</td><td>48</td></tr><tr><th>5</th><td>526</td><td>615</td><td>459</td><td>4</td><td>47</td></tr><tr><th>6</th><td>430</td><td>504</td><td>404</td><td>4</td><td>48</td></tr><tr><th>7</th><td>88</td><td>63</td><td>70</td><td>1</td><td>47</td></tr><tr><th>8</th><td>130</td><td>98</td><td>133</td><td>1</td><td>47</td></tr><tr><th>9</th><td>1558</td><td>758</td><td>1940</td><td>16</td><td>47</td></tr><tr><th>10</th><td>221</td><td>58</td><td>318</td><td>6</td><td>48</td></tr><tr><th>11</th><td>365</td><td>270</td><td>411</td><td>6</td><td>46</td></tr><tr><th>12</th><td>273</td><td>140</td><td>303</td><td>1</td><td>47</td></tr><tr><th>13</th><td>94</td><td>44</td><td>160</td><td>0</td><td>48</td></tr><tr><th>14</th><td>404</td><td>197</td><td>517</td><td>6</td><td>45</td></tr><tr><th>15</th><td>605</td><td>589</td><td>1015</td><td>15</td><td>44</td></tr><tr><th>16</th><td>308</td><td>82</td><td>681</td><td>10</td><td>41</td></tr><tr><th>17</th><td>184</td><td>105</td><td>195</td><td>2</td><td>50</td></tr><tr><th>18</th><td>91</td><td>48</td><td>147</td><td>3</td><td>45</td></tr><tr><th>19</th><td>184</td><td>54</td><td>289</td><td>5</td><td>45</td></tr><tr><th>20</th><td>503</td><td>356</td><td>571</td><td>4</td><td>45</td></tr><tr><th>21</th><td>189</td><td>133</td><td>282</td><td>4</td><td>46</td></tr><tr><th>22</th><td>1124</td><td>252</td><td>1466</td><td>39</td><td>49</td></tr><tr><th>23</th><td>127</td><td>309</td><td>142</td><td>1</td><td>47</td></tr><tr><th>24</th><td>290</td><td>1810</td><td>211</td><td>1</td><td>48</td></tr></table>"
      ],
      "text/plain": [
       "24×5 DataFrames.DataFrame\n",
       "│ Row │ _Q   │ K    │ LF   │ U  │ H  │\n",
       "├─────┼──────┼──────┼──────┼────┼────┤\n",
       "│ 1   │ 405  │ 335  │ 605  │ 9  │ 47 │\n",
       "│ 2   │ 245  │ 130  │ 202  │ 2  │ 46 │\n",
       "│ 3   │ 31   │ 100  │ 19   │ 0  │ 48 │\n",
       "│ 4   │ 37   │ 191  │ 37   │ 0  │ 48 │\n",
       "│ 5   │ 526  │ 615  │ 459  │ 4  │ 47 │\n",
       "│ 6   │ 430  │ 504  │ 404  │ 4  │ 48 │\n",
       "│ 7   │ 88   │ 63   │ 70   │ 1  │ 47 │\n",
       "│ 8   │ 130  │ 98   │ 133  │ 1  │ 47 │\n",
       "│ 9   │ 1558 │ 758  │ 1940 │ 16 │ 47 │\n",
       "│ 10  │ 221  │ 58   │ 318  │ 6  │ 48 │\n",
       "│ 11  │ 365  │ 270  │ 411  │ 6  │ 46 │\n",
       "│ 12  │ 273  │ 140  │ 303  │ 1  │ 47 │\n",
       "│ 13  │ 94   │ 44   │ 160  │ 0  │ 48 │\n",
       "│ 14  │ 404  │ 197  │ 517  │ 6  │ 45 │\n",
       "│ 15  │ 605  │ 589  │ 1015 │ 15 │ 44 │\n",
       "│ 16  │ 308  │ 82   │ 681  │ 10 │ 41 │\n",
       "│ 17  │ 184  │ 105  │ 195  │ 2  │ 50 │\n",
       "│ 18  │ 91   │ 48   │ 147  │ 3  │ 45 │\n",
       "│ 19  │ 184  │ 54   │ 289  │ 5  │ 45 │\n",
       "│ 20  │ 503  │ 356  │ 571  │ 4  │ 45 │\n",
       "│ 21  │ 189  │ 133  │ 282  │ 4  │ 46 │\n",
       "│ 22  │ 1124 │ 252  │ 1466 │ 39 │ 49 │\n",
       "│ 23  │ 127  │ 309  │ 142  │ 1  │ 47 │\n",
       "│ 24  │ 290  │ 1810 │ 211  │ 1  │ 48 │"
      ]
     },
     "execution_count": 2,
     "metadata": {},
     "output_type": "execute_result"
    }
   ],
   "source": [
    "\n",
    "mizon57 = readtable(\"Mizon57.csv\")"
   ]
  },
  {
   "cell_type": "code",
   "execution_count": 3,
   "metadata": {
    "collapsed": false
   },
   "outputs": [
    {
     "data": {
      "text/plain": [
       "24-element DataArrays.DataArray{Int64,1}:\n",
       " 28012\n",
       "  9200\n",
       "   912\n",
       "  1776\n",
       " 21385\n",
       " 19200\n",
       "  3243\n",
       "  6204\n",
       " 90428\n",
       " 14976\n",
       " 18630\n",
       " 14194\n",
       "  7680\n",
       " 22995\n",
       " 44000\n",
       " 27511\n",
       "  9650\n",
       "  6480\n",
       " 12780\n",
       " 25515\n",
       " 12788\n",
       " 69923\n",
       "  6627\n",
       " 10080"
      ]
     },
     "execution_count": 3,
     "metadata": {},
     "output_type": "execute_result"
    }
   ],
   "source": [
    "mizon57[:L]= (mizon57[:LF]-mizon57[:U]) .* mizon57[:H] ./ 100\n",
    "mizon57[:L100]= (mizon57[:LF]-mizon57[:U]).*mizon57[:H]"
   ]
  },
  {
   "cell_type": "code",
   "execution_count": 4,
   "metadata": {
    "collapsed": false
   },
   "outputs": [
    {
     "data": {
      "text/plain": [
       "24-element DataArrays.DataArray{Int64,1}:\n",
       "  405\n",
       "  245\n",
       "   31\n",
       "   37\n",
       "  526\n",
       "  430\n",
       "   88\n",
       "  130\n",
       " 1558\n",
       "  221\n",
       "  365\n",
       "  273\n",
       "   94\n",
       "  404\n",
       "  605\n",
       "  308\n",
       "  184\n",
       "   91\n",
       "  184\n",
       "  503\n",
       "  189\n",
       " 1124\n",
       "  127\n",
       "  290"
      ]
     },
     "execution_count": 4,
     "metadata": {},
     "output_type": "execute_result"
    }
   ],
   "source": [
    "mizon57[:_Q]"
   ]
  },
  {
   "cell_type": "code",
   "execution_count": 8,
   "metadata": {
    "collapsed": false
   },
   "outputs": [
    {
     "data": {
      "text/plain": [
       "24-element DataArrays.DataArray{Int64,1}:\n",
       "  335\n",
       "  130\n",
       "  100\n",
       "  191\n",
       "  615\n",
       "  504\n",
       "   63\n",
       "   98\n",
       "  758\n",
       "   58\n",
       "  270\n",
       "  140\n",
       "   44\n",
       "  197\n",
       "  589\n",
       "   82\n",
       "  105\n",
       "   48\n",
       "   54\n",
       "  356\n",
       "  133\n",
       "  252\n",
       "  309\n",
       " 1810"
      ]
     },
     "execution_count": 8,
     "metadata": {},
     "output_type": "execute_result"
    }
   ],
   "source": [
    "mizon57[[:K,:L]][:K]"
   ]
  },
  {
   "cell_type": "code",
   "execution_count": 11,
   "metadata": {
    "collapsed": false
   },
   "outputs": [
    {
     "ename": "LoadError",
     "evalue": "LoadError: MethodError: `finite_difference_jacobian!` has no method matching finite_difference_jacobian!(::Function, ::Array{Float64,1}, ::DataArrays.DataArray{Float64,1}, ::Array{Float64,2}, ::Symbol)\nClosest candidates are:\n  finite_difference_jacobian!{R<:Number,S<:Number,T<:Number}(::Function, ::Array{R<:Number,1}, !Matched::Array{S<:Number,1}, ::Array{T<:Number,N}, ::Symbol)\n  finite_difference_jacobian!{R<:Number,S<:Number,T<:Number}(::Function, ::Array{R<:Number,1}, !Matched::Array{S<:Number,1}, ::Array{T<:Number,N})\nwhile loading In[11], in expression starting on line 7",
     "output_type": "error",
     "traceback": [
      "LoadError: MethodError: `finite_difference_jacobian!` has no method matching finite_difference_jacobian!(::Function, ::Array{Float64,1}, ::DataArrays.DataArray{Float64,1}, ::Array{Float64,2}, ::Symbol)\nClosest candidates are:\n  finite_difference_jacobian!{R<:Number,S<:Number,T<:Number}(::Function, ::Array{R<:Number,1}, !Matched::Array{S<:Number,1}, ::Array{T<:Number,N}, ::Symbol)\n  finite_difference_jacobian!{R<:Number,S<:Number,T<:Number}(::Function, ::Array{R<:Number,1}, !Matched::Array{S<:Number,1}, ::Array{T<:Number,N})\nwhile loading In[11], in expression starting on line 7",
      "",
      " in g at /home/jonduan/.julia/v0.4/Calculus/src/derivative.jl:32"
     ]
    }
   ],
   "source": [
    "using LsqFit\n",
    "\n",
    "model(xdata,p) = p[1].*(p[2].* xdata[:K].^(-p[3]) + (1-p[2]).*xdata[:L].^(-p[3])).^(-p[4]./p[3])\n",
    "\n",
    "xdata = mizon57[:,[:K,:L]]\n",
    "ydata = mizon57[:_Q]\n",
    "fit = curve_fit(model, xdata, ydata, [0.047464, 0.430930,-0.344087,1.020762])\n",
    "\n",
    "beta = fit.param # best fit parameters\n",
    "r = fit.resid # vector of residuals\n",
    "J = fit.jacobian # estimated Jacobian at solution\n",
    "\n",
    "@printf(\"Best fit parameters are: %f and %f\",beta[1],beta[2])\n",
    "@printf(\"The sum of squares of residuals is %f\",sum(r.^2.0))\n",
    "\n",
    "\n"
   ]
  },
  {
   "cell_type": "markdown",
   "metadata": {},
   "source": [
    "0.047464\n",
    "0.430930\n",
    "-0.344087\n",
    "1.020762\n"
   ]
  },
  {
   "cell_type": "code",
   "execution_count": 12,
   "metadata": {
    "collapsed": false
   },
   "outputs": [
    {
     "name": "stdout",
     "output_type": "stream",
     "text": [
      "Best fit parameters are: 1.881851 and 0.700230The sum of squares of residuals is 0.053813"
     ]
    }
   ],
   "source": [
    "using LsqFit\n",
    "\n",
    "model(xdata,p) = p[1]*cos(p[2]*xdata)+p[2]*sin(p[1]*xdata)\n",
    "\n",
    "xdata = [-2,-1.64,-1.33,-0.7,0,0.45,1.2,1.64,2.32,2.9]\n",
    "ydata = [0.699369,0.700462,0.695354,1.03905,1.97389,2.41143,1.91091,0.919576,-0.730975,-1.42001]\n",
    "\n",
    "fit = curve_fit(model, xdata, ydata, [1.0, 0.2])\n",
    "\n",
    "beta = fit.param # best fit parameters\n",
    "r = fit.resid # vector of residuals\n",
    "J = fit.jacobian # estimated Jacobian at solution\n",
    "\n",
    "@printf(\"Best fit parameters are: %f and %f\",beta[1],beta[2])\n",
    "@printf(\"The sum of squares of residuals is %f\",sum(r.^2.0))"
   ]
  },
  {
   "cell_type": "code",
   "execution_count": null,
   "metadata": {
    "collapsed": true
   },
   "outputs": [],
   "source": []
  }
 ],
 "metadata": {
  "kernelspec": {
   "display_name": "Julia 0.4.7",
   "language": "julia",
   "name": "julia-0.4"
  },
  "language_info": {
   "file_extension": ".jl",
   "mimetype": "application/julia",
   "name": "julia",
   "version": "0.4.7"
  }
 },
 "nbformat": 4,
 "nbformat_minor": 2
}
