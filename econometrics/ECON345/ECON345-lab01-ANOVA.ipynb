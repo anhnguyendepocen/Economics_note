{
 "cells": [
  {
   "cell_type": "markdown",
   "metadata": {
    "slideshow": {
     "slide_type": "skip"
    }
   },
   "source": [
    "Date:\n",
    "\n",
    "\n",
    "Link: https://www.khanacademy.org/math/statistics-probability/analysis-of-variance-anova-library/modal/v/anova-1-calculating-sst-total-sum-of-squares\n",
    "\n",
    "\n",
    "Data: \n",
    "\n",
    "\n"
   ]
  },
  {
   "cell_type": "markdown",
   "metadata": {
    "slideshow": {
     "slide_type": "slide"
    }
   },
   "source": [
    "# ANALYSIS OF VARIANCE (ANOVA)\n",
    "### ECON345 lab01 \n",
    "#### Date: 2018-11-07\n",
    "#### Jun Duan"
   ]
  },
  {
   "cell_type": "markdown",
   "metadata": {
    "slideshow": {
     "slide_type": "skip"
    }
   },
   "source": [
    "Bridge: "
   ]
  },
  {
   "cell_type": "markdown",
   "metadata": {
    "slideshow": {
     "slide_type": "slide"
    }
   },
   "source": [
    "# Why ANOVA\n",
    "\n",
    "![](http://napitupulu-jon.appspot.com/galleries/coursera-statistics/4w40.jpg)"
   ]
  },
  {
   "cell_type": "code",
   "execution_count": 13,
   "metadata": {
    "slideshow": {
     "slide_type": "skip"
    }
   },
   "outputs": [],
   "source": [
    "library(tidyverse)\n",
    "library(readxl)\n",
    "# num_score = read"
   ]
  },
  {
   "cell_type": "code",
   "execution_count": 26,
   "metadata": {
    "slideshow": {
     "slide_type": "skip"
    }
   },
   "outputs": [],
   "source": [
    "num_score = read_excel(\"2018-11-06_FSA_17_numeracy_4.xlsx\", sheet = \"FSA_17_numeracy_4\",col_types = c(\"skip\", \"numeric\", \"guess\",\"text\", \"text\", \"numeric\"))"
   ]
  },
  {
   "cell_type": "code",
   "execution_count": 27,
   "metadata": {
    "slideshow": {
     "slide_type": "skip"
    }
   },
   "outputs": [
    {
     "data": {
      "text/html": [
       "<table>\n",
       "<thead><tr><th scope=col>FSA_GRADE</th><th scope=col>FSA_SKILL_NAME</th><th scope=col>MINCODE_ATTRIB</th><th scope=col>NEW_DISTRICT_NUMBER</th><th scope=col>SCORE_PCT</th></tr></thead>\n",
       "<tbody>\n",
       "\t<tr><td>4       </td><td>Numeracy</td><td>501007.0</td><td>5.0     </td><td>60      </td></tr>\n",
       "\t<tr><td>4       </td><td>Numeracy</td><td>501007.0</td><td>5.0     </td><td>74      </td></tr>\n",
       "\t<tr><td>4       </td><td>Numeracy</td><td>501007.0</td><td>5.0     </td><td>67      </td></tr>\n",
       "\t<tr><td>4       </td><td>Numeracy</td><td>501007.0</td><td>5.0     </td><td>45      </td></tr>\n",
       "\t<tr><td>4       </td><td>Numeracy</td><td>501007.0</td><td>5.0     </td><td>50      </td></tr>\n",
       "\t<tr><td>4       </td><td>Numeracy</td><td>501007.0</td><td>5.0     </td><td>52      </td></tr>\n",
       "</tbody>\n",
       "</table>\n"
      ],
      "text/latex": [
       "\\begin{tabular}{r|lllll}\n",
       " FSA\\_GRADE & FSA\\_SKILL\\_NAME & MINCODE\\_ATTRIB & NEW\\_DISTRICT\\_NUMBER & SCORE\\_PCT\\\\\n",
       "\\hline\n",
       "\t 4        & Numeracy & 501007.0 & 5.0      & 60      \\\\\n",
       "\t 4        & Numeracy & 501007.0 & 5.0      & 74      \\\\\n",
       "\t 4        & Numeracy & 501007.0 & 5.0      & 67      \\\\\n",
       "\t 4        & Numeracy & 501007.0 & 5.0      & 45      \\\\\n",
       "\t 4        & Numeracy & 501007.0 & 5.0      & 50      \\\\\n",
       "\t 4        & Numeracy & 501007.0 & 5.0      & 52      \\\\\n",
       "\\end{tabular}\n"
      ],
      "text/markdown": [
       "\n",
       "FSA_GRADE | FSA_SKILL_NAME | MINCODE_ATTRIB | NEW_DISTRICT_NUMBER | SCORE_PCT | \n",
       "|---|---|---|---|---|---|\n",
       "| 4        | Numeracy | 501007.0 | 5.0      | 60       | \n",
       "| 4        | Numeracy | 501007.0 | 5.0      | 74       | \n",
       "| 4        | Numeracy | 501007.0 | 5.0      | 67       | \n",
       "| 4        | Numeracy | 501007.0 | 5.0      | 45       | \n",
       "| 4        | Numeracy | 501007.0 | 5.0      | 50       | \n",
       "| 4        | Numeracy | 501007.0 | 5.0      | 52       | \n",
       "\n",
       "\n"
      ],
      "text/plain": [
       "  FSA_GRADE FSA_SKILL_NAME MINCODE_ATTRIB NEW_DISTRICT_NUMBER SCORE_PCT\n",
       "1 4         Numeracy       501007.0       5.0                 60       \n",
       "2 4         Numeracy       501007.0       5.0                 74       \n",
       "3 4         Numeracy       501007.0       5.0                 67       \n",
       "4 4         Numeracy       501007.0       5.0                 45       \n",
       "5 4         Numeracy       501007.0       5.0                 50       \n",
       "6 4         Numeracy       501007.0       5.0                 52       "
      ]
     },
     "metadata": {},
     "output_type": "display_data"
    }
   ],
   "source": [
    "head(num_score)"
   ]
  },
  {
   "cell_type": "code",
   "execution_count": 29,
   "metadata": {
    "slideshow": {
     "slide_type": "skip"
    }
   },
   "outputs": [],
   "source": [
    "library(stringr)"
   ]
  },
  {
   "cell_type": "code",
   "execution_count": 36,
   "metadata": {
    "slideshow": {
     "slide_type": "skip"
    }
   },
   "outputs": [
    {
     "name": "stdout",
     "output_type": "stream",
     "text": [
      "Classes ‘tbl_df’, ‘tbl’ and 'data.frame':\t43319 obs. of  5 variables:\n",
      " $ FSA_GRADE          : num  4 4 4 4 4 4 4 4 4 4 ...\n",
      " $ FSA_SKILL_NAME     : chr  \"Numeracy\" \"Numeracy\" \"Numeracy\" \"Numeracy\" ...\n",
      " $ MINCODE_ATTRIB     : chr  \"501007.0\" \"501007.0\" \"501007.0\" \"501007.0\" ...\n",
      " $ NEW_DISTRICT_NUMBER: chr  \"5.0\" \"5.0\" \"5.0\" \"5.0\" ...\n",
      " $ SCORE_PCT          : num  60 74 67 45 50 52 57 69 52 48 ...\n"
     ]
    }
   ],
   "source": [
    "str(num_score)"
   ]
  },
  {
   "cell_type": "code",
   "execution_count": 38,
   "metadata": {
    "slideshow": {
     "slide_type": "skip"
    }
   },
   "outputs": [],
   "source": [
    "num_score$MINCODE_ATTRIB = str_sub(num_score$MINCODE_ATTRIB, end=-2)\n",
    "num_score$NEW_DISTRICT_NUMBER = str_sub(num_score$NEW_DISTRICT_NUMBER, end=-2)"
   ]
  },
  {
   "cell_type": "code",
   "execution_count": null,
   "metadata": {
    "slideshow": {
     "slide_type": "skip"
    }
   },
   "outputs": [],
   "source": []
  },
  {
   "cell_type": "code",
   "execution_count": 39,
   "metadata": {
    "slideshow": {
     "slide_type": "skip"
    }
   },
   "outputs": [
    {
     "data": {
      "text/html": [
       "<ol class=list-inline>\n",
       "\t<li>'5.'</li>\n",
       "\t<li>'6.'</li>\n",
       "\t<li>'8.'</li>\n",
       "\t<li>'10.'</li>\n",
       "\t<li>'19.'</li>\n",
       "\t<li>'20.'</li>\n",
       "\t<li>'22.'</li>\n",
       "\t<li>'23.'</li>\n",
       "\t<li>'27.'</li>\n",
       "\t<li>'28.'</li>\n",
       "\t<li>'33.'</li>\n",
       "\t<li>'34.'</li>\n",
       "\t<li>'35.'</li>\n",
       "\t<li>'36.'</li>\n",
       "\t<li>'37.'</li>\n",
       "\t<li>'38.'</li>\n",
       "\t<li>'39.'</li>\n",
       "\t<li>'40.'</li>\n",
       "\t<li>'41.'</li>\n",
       "\t<li>'42.'</li>\n",
       "\t<li>'43.'</li>\n",
       "\t<li>'44.'</li>\n",
       "\t<li>'45.'</li>\n",
       "\t<li>'46.'</li>\n",
       "\t<li>'47.'</li>\n",
       "\t<li>'48.'</li>\n",
       "\t<li>'49.'</li>\n",
       "\t<li>'50.'</li>\n",
       "\t<li>'51.'</li>\n",
       "\t<li>'52.'</li>\n",
       "\t<li>'53.'</li>\n",
       "\t<li>'54.'</li>\n",
       "\t<li>'57.'</li>\n",
       "\t<li>'58.'</li>\n",
       "\t<li>'59.'</li>\n",
       "\t<li>'60.'</li>\n",
       "\t<li>'61.'</li>\n",
       "\t<li>'62.'</li>\n",
       "\t<li>'63.'</li>\n",
       "\t<li>'64.'</li>\n",
       "\t<li>'67.'</li>\n",
       "\t<li>'68.'</li>\n",
       "\t<li>'69.'</li>\n",
       "\t<li>'70.'</li>\n",
       "\t<li>'71.'</li>\n",
       "\t<li>'72.'</li>\n",
       "\t<li>'73.'</li>\n",
       "\t<li>'74.'</li>\n",
       "\t<li>'75.'</li>\n",
       "\t<li>'78.'</li>\n",
       "\t<li>'79.'</li>\n",
       "\t<li>'81.'</li>\n",
       "\t<li>'82.'</li>\n",
       "\t<li>'83.'</li>\n",
       "\t<li>'84.'</li>\n",
       "\t<li>'85.'</li>\n",
       "\t<li>'87.'</li>\n",
       "\t<li>'91.'</li>\n",
       "\t<li>'92.'</li>\n",
       "\t<li>'93.'</li>\n",
       "\t<li>'INDEPENDEN'</li>\n",
       "</ol>\n"
      ],
      "text/latex": [
       "\\begin{enumerate*}\n",
       "\\item '5.'\n",
       "\\item '6.'\n",
       "\\item '8.'\n",
       "\\item '10.'\n",
       "\\item '19.'\n",
       "\\item '20.'\n",
       "\\item '22.'\n",
       "\\item '23.'\n",
       "\\item '27.'\n",
       "\\item '28.'\n",
       "\\item '33.'\n",
       "\\item '34.'\n",
       "\\item '35.'\n",
       "\\item '36.'\n",
       "\\item '37.'\n",
       "\\item '38.'\n",
       "\\item '39.'\n",
       "\\item '40.'\n",
       "\\item '41.'\n",
       "\\item '42.'\n",
       "\\item '43.'\n",
       "\\item '44.'\n",
       "\\item '45.'\n",
       "\\item '46.'\n",
       "\\item '47.'\n",
       "\\item '48.'\n",
       "\\item '49.'\n",
       "\\item '50.'\n",
       "\\item '51.'\n",
       "\\item '52.'\n",
       "\\item '53.'\n",
       "\\item '54.'\n",
       "\\item '57.'\n",
       "\\item '58.'\n",
       "\\item '59.'\n",
       "\\item '60.'\n",
       "\\item '61.'\n",
       "\\item '62.'\n",
       "\\item '63.'\n",
       "\\item '64.'\n",
       "\\item '67.'\n",
       "\\item '68.'\n",
       "\\item '69.'\n",
       "\\item '70.'\n",
       "\\item '71.'\n",
       "\\item '72.'\n",
       "\\item '73.'\n",
       "\\item '74.'\n",
       "\\item '75.'\n",
       "\\item '78.'\n",
       "\\item '79.'\n",
       "\\item '81.'\n",
       "\\item '82.'\n",
       "\\item '83.'\n",
       "\\item '84.'\n",
       "\\item '85.'\n",
       "\\item '87.'\n",
       "\\item '91.'\n",
       "\\item '92.'\n",
       "\\item '93.'\n",
       "\\item 'INDEPENDEN'\n",
       "\\end{enumerate*}\n"
      ],
      "text/markdown": [
       "1. '5.'\n",
       "2. '6.'\n",
       "3. '8.'\n",
       "4. '10.'\n",
       "5. '19.'\n",
       "6. '20.'\n",
       "7. '22.'\n",
       "8. '23.'\n",
       "9. '27.'\n",
       "10. '28.'\n",
       "11. '33.'\n",
       "12. '34.'\n",
       "13. '35.'\n",
       "14. '36.'\n",
       "15. '37.'\n",
       "16. '38.'\n",
       "17. '39.'\n",
       "18. '40.'\n",
       "19. '41.'\n",
       "20. '42.'\n",
       "21. '43.'\n",
       "22. '44.'\n",
       "23. '45.'\n",
       "24. '46.'\n",
       "25. '47.'\n",
       "26. '48.'\n",
       "27. '49.'\n",
       "28. '50.'\n",
       "29. '51.'\n",
       "30. '52.'\n",
       "31. '53.'\n",
       "32. '54.'\n",
       "33. '57.'\n",
       "34. '58.'\n",
       "35. '59.'\n",
       "36. '60.'\n",
       "37. '61.'\n",
       "38. '62.'\n",
       "39. '63.'\n",
       "40. '64.'\n",
       "41. '67.'\n",
       "42. '68.'\n",
       "43. '69.'\n",
       "44. '70.'\n",
       "45. '71.'\n",
       "46. '72.'\n",
       "47. '73.'\n",
       "48. '74.'\n",
       "49. '75.'\n",
       "50. '78.'\n",
       "51. '79.'\n",
       "52. '81.'\n",
       "53. '82.'\n",
       "54. '83.'\n",
       "55. '84.'\n",
       "56. '85.'\n",
       "57. '87.'\n",
       "58. '91.'\n",
       "59. '92.'\n",
       "60. '93.'\n",
       "61. 'INDEPENDEN'\n",
       "\n",
       "\n"
      ],
      "text/plain": [
       " [1] \"5.\"         \"6.\"         \"8.\"         \"10.\"        \"19.\"       \n",
       " [6] \"20.\"        \"22.\"        \"23.\"        \"27.\"        \"28.\"       \n",
       "[11] \"33.\"        \"34.\"        \"35.\"        \"36.\"        \"37.\"       \n",
       "[16] \"38.\"        \"39.\"        \"40.\"        \"41.\"        \"42.\"       \n",
       "[21] \"43.\"        \"44.\"        \"45.\"        \"46.\"        \"47.\"       \n",
       "[26] \"48.\"        \"49.\"        \"50.\"        \"51.\"        \"52.\"       \n",
       "[31] \"53.\"        \"54.\"        \"57.\"        \"58.\"        \"59.\"       \n",
       "[36] \"60.\"        \"61.\"        \"62.\"        \"63.\"        \"64.\"       \n",
       "[41] \"67.\"        \"68.\"        \"69.\"        \"70.\"        \"71.\"       \n",
       "[46] \"72.\"        \"73.\"        \"74.\"        \"75.\"        \"78.\"       \n",
       "[51] \"79.\"        \"81.\"        \"82.\"        \"83.\"        \"84.\"       \n",
       "[56] \"85.\"        \"87.\"        \"91.\"        \"92.\"        \"93.\"       \n",
       "[61] \"INDEPENDEN\""
      ]
     },
     "metadata": {},
     "output_type": "display_data"
    }
   ],
   "source": [
    "unique(num_score$NEW_DISTRICT_NUMBER)"
   ]
  },
  {
   "cell_type": "code",
   "execution_count": 22,
   "metadata": {
    "slideshow": {
     "slide_type": "skip"
    }
   },
   "outputs": [],
   "source": [
    "# One Way Anova (Completely Randomized Design)\n",
    "fit <- aov(SCORE_PCT ~ MINCODE_ATTRIB, data=num_score%>%filter(NEW_DISTRICT_NUMBER == 63))"
   ]
  },
  {
   "cell_type": "code",
   "execution_count": 40,
   "metadata": {
    "slideshow": {
     "slide_type": "skip"
    }
   },
   "outputs": [],
   "source": [
    "sannich = num_score%>%filter(NEW_DISTRICT_NUMBER == 63)"
   ]
  },
  {
   "cell_type": "markdown",
   "metadata": {
    "slideshow": {
     "slide_type": "skip"
    }
   },
   "source": [
    "Objectives: "
   ]
  },
  {
   "cell_type": "markdown",
   "metadata": {
    "slideshow": {
     "slide_type": "slide"
    }
   },
   "source": [
    "# Intended Learning Outcome\n",
    "\n",
    "- conduct ANOVA analysis\n",
    "- interpret ANOVA results\n"
   ]
  },
  {
   "cell_type": "markdown",
   "metadata": {
    "slideshow": {
     "slide_type": "skip"
    }
   },
   "source": [
    "Pre-assessment:"
   ]
  },
  {
   "cell_type": "markdown",
   "metadata": {
    "slideshow": {
     "slide_type": "slide"
    }
   },
   "source": [
    "# Pre-assessment:\n",
    "\n",
    "## Student's Numeracy Score \n",
    "|group1|group2|group3|\n",
    "|--- |--- |--- |\n",
    "|3|5|5|\n",
    "|2|3|6|\n",
    "|1|4|7|\n",
    "\n",
    "- Do you know how to compute a mean for a group?\n",
    "\n"
   ]
  },
  {
   "cell_type": "markdown",
   "metadata": {
    "slideshow": {
     "slide_type": "slide"
    }
   },
   "source": [
    "# Pre-assessment:\n",
    "\n",
    "- Do you know how to compute a variance for a group of value?\n"
   ]
  },
  {
   "cell_type": "markdown",
   "metadata": {
    "slideshow": {
     "slide_type": "slide"
    }
   },
   "source": [
    "# Pre-assessment:\n",
    "\n",
    "- Do you know how to do a hypothesis test?"
   ]
  },
  {
   "cell_type": "code",
   "execution_count": null,
   "metadata": {
    "slideshow": {
     "slide_type": "skip"
    }
   },
   "outputs": [],
   "source": [
    "Participatory learning:"
   ]
  },
  {
   "cell_type": "markdown",
   "metadata": {
    "slideshow": {
     "slide_type": "slide"
    }
   },
   "source": [
    "# Participatory learning:\n",
    "\n",
    "|group1|group2|group3|\n",
    "|--- |--- |--- |\n",
    "|3|5|5|\n",
    "|2|3|6|\n",
    "|1|4|7|\n",
    "\n",
    "- Could you calculate the mean for each group? \n"
   ]
  },
  {
   "cell_type": "markdown",
   "metadata": {
    "slideshow": {
     "slide_type": "slide"
    }
   },
   "source": [
    "# Student's Numeracy Score \n",
    "- $x_{im}$ is the numeracy score for student m in school i\n",
    "\n",
    "- $N$ schools,  each school has $M$ students.\n",
    "\n",
    "- $i$ is for school, $m$ for student"
   ]
  },
  {
   "cell_type": "code",
   "execution_count": 58,
   "metadata": {
    "slideshow": {
     "slide_type": "skip"
    }
   },
   "outputs": [],
   "source": [
    "x = matrix( \n",
    "   c(3,2,1,5,3, 4, 5, 6, 7), \n",
    "   nrow=3, \n",
    "   ncol=3)\n",
    "x = data.frame(x)"
   ]
  },
  {
   "cell_type": "markdown",
   "metadata": {
    "slideshow": {
     "slide_type": "slide"
    }
   },
   "source": [
    "\n",
    "- School/Group mean:\n",
    "\n",
    "$${{\\bar{x}}_{i}}=\\frac{1}{M}\\sum\\nolimits_{m}{{{x}_{im}}}$$\n",
    "\n",
    "- Overall means:\n",
    "\n",
    "$$\\bar{x}=\\frac{1}{NM}\\sum\\nolimits_{i}{\\sum\\nolimits_{m}{{{x}_{im}}}}$$"
   ]
  },
  {
   "cell_type": "code",
   "execution_count": 55,
   "metadata": {
    "slideshow": {
     "slide_type": "slide"
    }
   },
   "outputs": [
    {
     "data": {
      "text/html": [
       "<table>\n",
       "<thead><tr><th scope=col>X1</th><th scope=col>X2</th><th scope=col>X3</th></tr></thead>\n",
       "<tbody>\n",
       "\t<tr><td>3</td><td>5</td><td>5</td></tr>\n",
       "\t<tr><td>2</td><td>3</td><td>6</td></tr>\n",
       "\t<tr><td>1</td><td>4</td><td>7</td></tr>\n",
       "</tbody>\n",
       "</table>\n"
      ],
      "text/latex": [
       "\\begin{tabular}{r|lll}\n",
       " X1 & X2 & X3\\\\\n",
       "\\hline\n",
       "\t 3 & 5 & 5\\\\\n",
       "\t 2 & 3 & 6\\\\\n",
       "\t 1 & 4 & 7\\\\\n",
       "\\end{tabular}\n"
      ],
      "text/markdown": [
       "\n",
       "X1 | X2 | X3 | \n",
       "|---|---|---|\n",
       "| 3 | 5 | 5 | \n",
       "| 2 | 3 | 6 | \n",
       "| 1 | 4 | 7 | \n",
       "\n",
       "\n"
      ],
      "text/plain": [
       "  X1 X2 X3\n",
       "1 3  5  5 \n",
       "2 2  3  6 \n",
       "3 1  4  7 "
      ]
     },
     "metadata": {},
     "output_type": "display_data"
    },
    {
     "data": {
      "text/html": [
       "<dl class=dl-horizontal>\n",
       "\t<dt>X1</dt>\n",
       "\t\t<dd>2</dd>\n",
       "\t<dt>X2</dt>\n",
       "\t\t<dd>4</dd>\n",
       "\t<dt>X3</dt>\n",
       "\t\t<dd>6</dd>\n",
       "</dl>\n"
      ],
      "text/latex": [
       "\\begin{description*}\n",
       "\\item[X1] 2\n",
       "\\item[X2] 4\n",
       "\\item[X3] 6\n",
       "\\end{description*}\n"
      ],
      "text/markdown": [
       "X1\n",
       ":   2X2\n",
       ":   4X3\n",
       ":   6\n",
       "\n"
      ],
      "text/plain": [
       "X1 X2 X3 \n",
       " 2  4  6 "
      ]
     },
     "metadata": {},
     "output_type": "display_data"
    }
   ],
   "source": [
    "# column means School/Group mean:\n",
    "x\n",
    "colMeans(x)"
   ]
  },
  {
   "cell_type": "markdown",
   "metadata": {
    "slideshow": {
     "slide_type": "fragment"
    }
   },
   "source": [
    "$$\\bar x_1 = 2$$\n",
    "$$\\bar x_2 = 4$$\n",
    "$$\\bar x_3 = 6$$"
   ]
  },
  {
   "cell_type": "code",
   "execution_count": 57,
   "metadata": {
    "slideshow": {
     "slide_type": "slide"
    }
   },
   "outputs": [
    {
     "data": {
      "text/html": [
       "4"
      ],
      "text/latex": [
       "4"
      ],
      "text/markdown": [
       "4"
      ],
      "text/plain": [
       "[1] 4"
      ]
     },
     "metadata": {},
     "output_type": "display_data"
    }
   ],
   "source": [
    "## Overall means:\n",
    "mean(as.matrix(x))"
   ]
  },
  {
   "cell_type": "markdown",
   "metadata": {
    "slideshow": {
     "slide_type": "fragment"
    }
   },
   "source": [
    "$$\\bar x = 4$$"
   ]
  },
  {
   "cell_type": "code",
   "execution_count": null,
   "metadata": {
    "slideshow": {
     "slide_type": "skip"
    }
   },
   "outputs": [],
   "source": []
  },
  {
   "cell_type": "markdown",
   "metadata": {
    "slideshow": {
     "slide_type": "slide"
    }
   },
   "source": [
    "\n",
    "\n",
    "\n",
    "- Sum of squares total (SST)/ Overall variation:\n",
    " - measure the total variability in the response variable\n",
    " - calculate very similarly to variance (except ot scaled by the sample size)\n",
    "\n",
    "$$ SST = {{\\sum\\nolimits_{i}{\\sum\\nolimits_{m}{\\left(\n",
    "{{x}_{im}}-\\bar{x} \\right)}}}^{2}}$$\n",
    "\n",
    "- Sum of squares groups (SSB)/Between variation: \n",
    " - measure the variation between groups\n",
    " - explained variability: squared deviation of group means from overall mean, wighted by sample size.\n",
    "\n",
    "$$SSB = {{\\sum\\nolimits_{i} M_i {\\left({\\bar{x}_{im}}-\\bar{x}\n",
    "\\right)}}^{2}}$$\n",
    "\n"
   ]
  },
  {
   "cell_type": "markdown",
   "metadata": {
    "slideshow": {
     "slide_type": "slide"
    }
   },
   "source": [
    "- sum of squares error (SSW)/Within variation:\n",
    " - measure the variability within groups\n",
    " - unexplained variability: unexplained by the group variable, due to other reasons\n",
    " \n",
    "\n",
    "$$SSW = {{\\sum\\nolimits_{i}{\\sum\\nolimits_{m}{\\left(\n",
    "{{x}_{im}}-{{{\\bar{x}}}_{i}}\n",
    "\\right)}}}^{2}}$$\n",
    "\n",
    "- The overall variation can be decomposed into between variation and within variation:\n",
    "\n",
    "$$SST\\approx SSB+SSW$$\n"
   ]
  },
  {
   "cell_type": "markdown",
   "metadata": {
    "slideshow": {
     "slide_type": "slide"
    }
   },
   "source": [
    "# Partitions of Variation\n",
    "A between-subjects ANOVA partitions total variability into between-groups variability (SSb) and within-groups variability (SSw), as shown below:\n",
    "\n",
    "![](https://statistics.laerd.com/statistical-guides/img/partition-ss-ind.png)"
   ]
  },
  {
   "cell_type": "markdown",
   "metadata": {
    "slideshow": {
     "slide_type": "slide"
    }
   },
   "source": [
    "#  Mean squares\n",
    "\n",
    "- from these measures of total variability to average variability\n",
    "- scaling by a measure that incorporates sample sizes and number of groups → \n"
   ]
  },
  {
   "cell_type": "markdown",
   "metadata": {
    "slideshow": {
     "slide_type": "fragment"
    }
   },
   "source": [
    "## degrees of freedom\n",
    "- Degrees of freedom associated with ANOVA:\n",
    " - total: $df_T = NM-1$\n",
    " - between group: $df_B = N-1$\n",
    " - within group/error: $df_W = df_T - df_B$ \n"
   ]
  },
  {
   "cell_type": "markdown",
   "metadata": {
    "slideshow": {
     "slide_type": "slide"
    }
   },
   "source": [
    "## Mean squares: \n",
    "Average variability between and within groups, calculated as the total variability (sum of squares) scaled by the associated degrees of freedom.\n",
    " - between group: $MSB = SSB/df_B$\n",
    " - within group/error: $MSW = SSW/df_W$\n",
    "\n",
    "\n"
   ]
  },
  {
   "cell_type": "markdown",
   "metadata": {
    "slideshow": {
     "slide_type": "slide"
    }
   },
   "source": [
    "# F test statistics\n",
    "In this design, within-group variability (SSw) is defined as the error variability (SSerror). Following division by the appropriate degrees of freedom, a mean sum of squares for between-groups (MSb) and within-groups (MSw) is determined and an F-statistic is calculated as the ratio of MSb to MSw (or MSerror), as shown below:\n",
    "\n",
    "\n",
    "\n",
    "\n",
    "![](https://statistics.laerd.com/statistical-guides/img/f-statistic-anova.gif)"
   ]
  },
  {
   "cell_type": "markdown",
   "metadata": {
    "slideshow": {
     "slide_type": "slide"
    }
   },
   "source": [
    "# F test statistics\n",
    "The general form of writing the result of a one-way ANOVA is as follows:\n",
    "\n",
    "![](https://statistics.laerd.com/statistical-guides/img/one-way-anova-3-small.png)\n",
    "\n",
    "where df = degrees of freedom."
   ]
  },
  {
   "cell_type": "code",
   "execution_count": null,
   "metadata": {
    "slideshow": {
     "slide_type": "skip"
    }
   },
   "outputs": [],
   "source": []
  },
  {
   "cell_type": "code",
   "execution_count": null,
   "metadata": {
    "slideshow": {
     "slide_type": "skip"
    }
   },
   "outputs": [],
   "source": [
    "Post-assessment:"
   ]
  },
  {
   "cell_type": "markdown",
   "metadata": {
    "slideshow": {
     "slide_type": "slide"
    }
   },
   "source": [
    "# Post-assessment:"
   ]
  },
  {
   "cell_type": "markdown",
   "metadata": {
    "slideshow": {
     "slide_type": "slide"
    }
   },
   "source": [
    "# How do I report the results of a one-way ANOVA?\n",
    "\n",
    "## Structure of results:\n",
    "|Source|SS|df|MS|F|Sig.|\n",
    "|--- |--- |--- |--- |--- |--- |\n",
    "|Between|SSb|k-1|MSb|MSb/MSw|p value|\n",
    "|Within|SSw|N-k|MSw|||\n",
    "|Total|SSb + SSw|N-1||||\n",
    "\n",
    "## An example:\n",
    "|Source|SS|df|MS|F|Sig.|\n",
    "|--- |--- |--- |--- |--- |--- |\n",
    "|Between|91.476|2|45.733|4.467|.021|\n",
    "|Within|276.400|27|10.237|||\n",
    "|Total|367.867|29||||\n"
   ]
  },
  {
   "cell_type": "code",
   "execution_count": 59,
   "metadata": {
    "slideshow": {
     "slide_type": "skip"
    }
   },
   "outputs": [],
   "source": [
    "library(xtable)"
   ]
  },
  {
   "cell_type": "code",
   "execution_count": 60,
   "metadata": {
    "slideshow": {
     "slide_type": "slide"
    }
   },
   "outputs": [
    {
     "data": {
      "text/html": [
       "<table>\n",
       "<thead><tr><th></th><th scope=col>Df</th><th scope=col>Sum Sq</th><th scope=col>Mean Sq</th><th scope=col>F value</th><th scope=col>Pr(&gt;F)</th></tr></thead>\n",
       "<tbody>\n",
       "\t<tr><th scope=row>MINCODE_ATTRIB</th><td>  1         </td><td> 13993.36   </td><td>13993.3645  </td><td>20.86893    </td><td>6.515469e-06</td></tr>\n",
       "\t<tr><th scope=row>Residuals     </th><td>410         </td><td>274919.71   </td><td>  670.5359  </td><td>      NA    </td><td>          NA</td></tr>\n",
       "</tbody>\n",
       "</table>\n"
      ],
      "text/latex": [
       "\\begin{tabular}{r|lllll}\n",
       "  & Df & Sum Sq & Mean Sq & F value & Pr(>F)\\\\\n",
       "\\hline\n",
       "\tMINCODE\\_ATTRIB &   1          &  13993.36    & 13993.3645   & 20.86893     & 6.515469e-06\\\\\n",
       "\tResiduals      & 410          & 274919.71    &   670.5359   &       NA     &           NA\\\\\n",
       "\\end{tabular}\n"
      ],
      "text/markdown": [
       "\n",
       "| <!--/--> | Df | Sum Sq | Mean Sq | F value | Pr(>F) | \n",
       "|---|---|\n",
       "| MINCODE_ATTRIB |   1          |  13993.36    | 13993.3645   | 20.86893     | 6.515469e-06 | \n",
       "| Residuals      | 410          | 274919.71    |   670.5359   |       NA     |           NA | \n",
       "\n",
       "\n"
      ],
      "text/plain": [
       "               Df  Sum Sq    Mean Sq    F value  Pr(>F)      \n",
       "MINCODE_ATTRIB   1  13993.36 13993.3645 20.86893 6.515469e-06\n",
       "Residuals      410 274919.71   670.5359       NA           NA"
      ]
     },
     "metadata": {},
     "output_type": "display_data"
    }
   ],
   "source": [
    "xtable(summary(fit)) # display Type I ANOVA table"
   ]
  },
  {
   "cell_type": "code",
   "execution_count": null,
   "metadata": {
    "slideshow": {
     "slide_type": "skip"
    }
   },
   "outputs": [],
   "source": [
    "Summary:"
   ]
  },
  {
   "cell_type": "markdown",
   "metadata": {
    "slideshow": {
     "slide_type": "slide"
    }
   },
   "source": [
    "# Summary:\n",
    "\n",
    "- conduct ANOVA analysis\n",
    "- interpret ANOVA results\n"
   ]
  },
  {
   "cell_type": "code",
   "execution_count": null,
   "metadata": {
    "slideshow": {
     "slide_type": "skip"
    }
   },
   "outputs": [],
   "source": []
  },
  {
   "cell_type": "code",
   "execution_count": null,
   "metadata": {
    "slideshow": {
     "slide_type": "skip"
    }
   },
   "outputs": [],
   "source": []
  },
  {
   "cell_type": "code",
   "execution_count": null,
   "metadata": {
    "slideshow": {
     "slide_type": "skip"
    }
   },
   "outputs": [],
   "source": [
    "ANOVA 1: Calculating SST (total sum of squares)"
   ]
  },
  {
   "cell_type": "code",
   "execution_count": null,
   "metadata": {
    "slideshow": {
     "slide_type": "skip"
    }
   },
   "outputs": [],
   "source": []
  },
  {
   "cell_type": "code",
   "execution_count": 6,
   "metadata": {
    "slideshow": {
     "slide_type": "skip"
    }
   },
   "outputs": [],
   "source": [
    "library(rvest)\n",
    "\n",
    "# To scrape a table from a website, the html_table() function can be a game-changer.\n",
    "# But it doesn't give us the right output right away. \n",
    "URL2 <- \"https://statistics.laerd.com/statistical-guides/one-way-anova-statistical-guide-3.php\"\n",
    "\n",
    "# TIP: When debugging or building your scraper, assign a variable to the raw HTML.\n",
    "# That way you only have to read it once\n",
    "anova_tables <- read_html(URL2) \n",
    "\n",
    "table <- anova_tables %>%\n",
    "  html_nodes(\"table\") %>%\n",
    "  html_table(header=T)\n",
    "\n",
    "# # You can clean up the table with the following code, or something like it. \n",
    "# # table[[1]]\n",
    "# dict <- table[[1]][,1:2]\n",
    "# accounts_df <- table[[1]][6:18,-1]\n",
    "\n",
    "# names <- c('id', 'weight.pct', 'jan.2013', 'dec.2013', 'jan.2014', 'mo.pctch', 'yr.pctch', 'mo.cont', 'yr.cont')\n",
    "# colnames(accounts_df) <- names\n",
    "\n",
    "# accounts_df #%>% str()"
   ]
  },
  {
   "cell_type": "code",
   "execution_count": 8,
   "metadata": {
    "slideshow": {
     "slide_type": "skip"
    }
   },
   "outputs": [
    {
     "data": {
      "text/html": [
       "<ol>\n",
       "\t<li><table>\n",
       "<thead><tr><th scope=col>Source</th><th scope=col>SS</th><th scope=col>df</th><th scope=col>MS</th><th scope=col>F</th><th scope=col>Sig.</th></tr></thead>\n",
       "<tbody>\n",
       "\t<tr><td>Between  </td><td>SSb      </td><td>k-1      </td><td>MSb      </td><td>MSb/MSw  </td><td>p value  </td></tr>\n",
       "\t<tr><td>Within   </td><td>SSw      </td><td>N-k      </td><td>MSw      </td><td>         </td><td>         </td></tr>\n",
       "\t<tr><td>Total    </td><td>SSb + SSw</td><td>N-1      </td><td>         </td><td>         </td><td>         </td></tr>\n",
       "</tbody>\n",
       "</table>\n",
       "</li>\n",
       "</ol>\n"
      ],
      "text/latex": [
       "\\begin{enumerate}\n",
       "\\item \\begin{tabular}{r|llllll}\n",
       " Source & SS & df & MS & F & Sig.\\\\\n",
       "\\hline\n",
       "\t Between   & SSb       & k-1       & MSb       & MSb/MSw   & p value  \\\\\n",
       "\t Within    & SSw       & N-k       & MSw       &           &          \\\\\n",
       "\t Total     & SSb + SSw & N-1       &           &           &          \\\\\n",
       "\\end{tabular}\n",
       "\n",
       "\\end{enumerate}\n"
      ],
      "text/markdown": [
       "1. \n",
       "Source | SS | df | MS | F | Sig. | \n",
       "|---|---|---|\n",
       "| Between   | SSb       | k-1       | MSb       | MSb/MSw   | p value   | \n",
       "| Within    | SSw       | N-k       | MSw       |           |           | \n",
       "| Total     | SSb + SSw | N-1       |           |           |           | \n",
       "\n",
       "\n",
       "\n",
       "\n",
       "\n"
      ],
      "text/plain": [
       "[[1]]\n",
       "   Source        SS  df  MS       F    Sig.\n",
       "1 Between       SSb k-1 MSb MSb/MSw p value\n",
       "2  Within       SSw N-k MSw                \n",
       "3   Total SSb + SSw N-1                    \n"
      ]
     },
     "metadata": {},
     "output_type": "display_data"
    }
   ],
   "source": [
    "table[1]"
   ]
  },
  {
   "cell_type": "code",
   "execution_count": 9,
   "metadata": {
    "slideshow": {
     "slide_type": "skip"
    }
   },
   "outputs": [
    {
     "data": {
      "text/html": [
       "<ol>\n",
       "\t<li><table>\n",
       "<thead><tr><th scope=col>Source</th><th scope=col>SS</th><th scope=col>df</th><th scope=col>MS</th><th scope=col>F</th><th scope=col>Sig.</th></tr></thead>\n",
       "<tbody>\n",
       "\t<tr><td>Between</td><td> 91.476</td><td> 2     </td><td>45.733 </td><td>4.467  </td><td>0.021  </td></tr>\n",
       "\t<tr><td>Within </td><td>276.400</td><td>27     </td><td>10.237 </td><td>   NA  </td><td>   NA  </td></tr>\n",
       "\t<tr><td>Total  </td><td>367.867</td><td>29     </td><td>    NA </td><td>   NA  </td><td>   NA  </td></tr>\n",
       "</tbody>\n",
       "</table>\n",
       "</li>\n",
       "</ol>\n"
      ],
      "text/latex": [
       "\\begin{enumerate}\n",
       "\\item \\begin{tabular}{r|llllll}\n",
       " Source & SS & df & MS & F & Sig.\\\\\n",
       "\\hline\n",
       "\t Between &  91.476 &  2      & 45.733  & 4.467   & 0.021  \\\\\n",
       "\t Within  & 276.400 & 27      & 10.237  &    NA   &    NA  \\\\\n",
       "\t Total   & 367.867 & 29      &     NA  &    NA   &    NA  \\\\\n",
       "\\end{tabular}\n",
       "\n",
       "\\end{enumerate}\n"
      ],
      "text/markdown": [
       "1. \n",
       "Source | SS | df | MS | F | Sig. | \n",
       "|---|---|---|\n",
       "| Between |  91.476 |  2      | 45.733  | 4.467   | 0.021   | \n",
       "| Within  | 276.400 | 27      | 10.237  |    NA   |    NA   | \n",
       "| Total   | 367.867 | 29      |     NA  |    NA   |    NA   | \n",
       "\n",
       "\n",
       "\n",
       "\n",
       "\n"
      ],
      "text/plain": [
       "[[1]]\n",
       "   Source      SS df     MS     F  Sig.\n",
       "1 Between  91.476  2 45.733 4.467 0.021\n",
       "2  Within 276.400 27 10.237    NA    NA\n",
       "3   Total 367.867 29     NA    NA    NA\n"
      ]
     },
     "metadata": {},
     "output_type": "display_data"
    }
   ],
   "source": [
    "table[2]"
   ]
  },
  {
   "cell_type": "markdown",
   "metadata": {
    "slideshow": {
     "slide_type": "skip"
    }
   },
   "source": [
    "\n"
   ]
  },
  {
   "cell_type": "markdown",
   "metadata": {
    "slideshow": {
     "slide_type": "slide"
    }
   },
   "source": [
    "# Thank you"
   ]
  },
  {
   "cell_type": "code",
   "execution_count": null,
   "metadata": {
    "slideshow": {
     "slide_type": "skip"
    }
   },
   "outputs": [],
   "source": []
  }
 ],
 "metadata": {
  "celltoolbar": "Slideshow",
  "kernelspec": {
   "display_name": "R",
   "language": "R",
   "name": "ir"
  },
  "language_info": {
   "codemirror_mode": "r",
   "file_extension": ".r",
   "mimetype": "text/x-r-source",
   "name": "R",
   "pygments_lexer": "r",
   "version": "3.4.2"
  }
 },
 "nbformat": 4,
 "nbformat_minor": 2
}
