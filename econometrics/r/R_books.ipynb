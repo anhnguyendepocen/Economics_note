{
 "cells": [
  {
   "cell_type": "markdown",
   "metadata": {},
   "source": [
    "\n",
    "Manuscript of the book \"Tidy Text Mining with R\" by Julia Silge and David Robinson\n",
    "\n",
    "http://tidytextmining.com \n",
    "\n",
    "https://github.com/radovankavicky/tidy-text-mining\n",
    "\n",
    "ModernDive: An Introduction to Statistical and Data Sciences via R at\n",
    "\n",
    "http://www.moderndive.com \n",
    "\n",
    "https://github.com/ismayc/moderndiver-book\n",
    "\n",
    "\n",
    "Tidyverse-Cookbook\n",
    "https://bookdown.org/Tazinho/Tidyverse-Cookbook/non-standard-evaluation.html"
   ]
  }
 ],
 "metadata": {
  "kernelspec": {
   "display_name": "R",
   "language": "R",
   "name": "ir"
  },
  "language_info": {
   "codemirror_mode": "r",
   "file_extension": ".r",
   "mimetype": "text/x-r-source",
   "name": "R",
   "pygments_lexer": "r",
   "version": "3.3.2"
  }
 },
 "nbformat": 4,
 "nbformat_minor": 2
}
