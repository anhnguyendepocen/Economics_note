{
 "cells": [
  {
   "cell_type": "markdown",
   "metadata": {},
   "source": [
    "ref:\n",
    "http://www.econ.uiuc.edu/~econ508/R/e-ta6_R.html\n",
    "\n",
    "\n"
   ]
  },
  {
   "cell_type": "markdown",
   "metadata": {},
   "source": [
    "## Tests for Autocorrelated Errors\n",
    "### Background:\n",
    "\n",
    "\n",
    "If you run a regression without lagged variables, and detect autocorrelation, your OLS estimators are unbiased, consistent, but inefficient and provide incorrect standard errors. \n",
    "\n",
    "In the case that you include lagged dependent variables among the covariates and still detect autocorrelation, then you are in bigger trouble: OLS estimators are inconsistent.\n",
    "\n",
    "To test for the presence of autocorrelation, you have a large menu of options. Here we suggest the use of the `Breusch-Godfrey` test, "
   ]
  },
  {
   "cell_type": "code",
   "execution_count": 2,
   "metadata": {
    "ExecuteTime": {
     "end_time": "2018-03-02T00:10:12.853872Z",
     "start_time": "2018-03-02T00:09:42.848Z"
    }
   },
   "outputs": [
    {
     "name": "stdout",
     "output_type": "stream",
     "text": [
      "package 'dyn' successfully unpacked and MD5 sums checked\n",
      "\n",
      "The downloaded binary packages are in\n",
      "\tC:\\Users\\oldyu\\AppData\\Local\\Temp\\RtmpmOIDJr\\downloaded_packages\n"
     ]
    },
    {
     "name": "stderr",
     "output_type": "stream",
     "text": [
      "Warning message:\n",
      "\"package 'dyn' was built under R version 3.4.3\""
     ]
    }
   ],
   "source": [
    "#require(zoo)\n",
    "#install.packages(\"dyn\", repos= \"https://cran.rstudio.com\" )\n",
    "library(dyn) # for time series, dealing with lag or NA problems "
   ]
  },
  {
   "cell_type": "code",
   "execution_count": 3,
   "metadata": {
    "ExecuteTime": {
     "end_time": "2018-03-02T00:10:38.873386Z",
     "start_time": "2018-03-02T00:10:38.375Z"
    }
   },
   "outputs": [
    {
     "data": {
      "text/html": [
       "<table>\n",
       "<thead><tr><th scope=col>quarter</th><th scope=col>gas</th><th scope=col>price</th><th scope=col>income</th><th scope=col>miles</th></tr></thead>\n",
       "<tbody>\n",
       "\t<tr><td>1959.1   </td><td>-8.015248</td><td>4.675750 </td><td>-4.505240</td><td>2.647592 </td></tr>\n",
       "\t<tr><td>1959.2   </td><td>-8.011060</td><td>4.691292 </td><td>-4.492739</td><td>2.647592 </td></tr>\n",
       "\t<tr><td>1959.3   </td><td>-8.019878</td><td>4.689134 </td><td>-4.498873</td><td>2.647592 </td></tr>\n",
       "\t<tr><td>1959.4   </td><td>-8.012581</td><td>4.722338 </td><td>-4.491904</td><td>2.647592 </td></tr>\n",
       "\t<tr><td>1960.1   </td><td>-8.016769</td><td>4.707470 </td><td>-4.490103</td><td>2.647415 </td></tr>\n",
       "\t<tr><td>1960.2   </td><td>-7.976376</td><td>4.699136 </td><td>-4.489107</td><td>2.647238 </td></tr>\n",
       "</tbody>\n",
       "</table>\n"
      ],
      "text/latex": [
       "\\begin{tabular}{r|lllll}\n",
       " quarter & gas & price & income & miles\\\\\n",
       "\\hline\n",
       "\t 1959.1    & -8.015248 & 4.675750  & -4.505240 & 2.647592 \\\\\n",
       "\t 1959.2    & -8.011060 & 4.691292  & -4.492739 & 2.647592 \\\\\n",
       "\t 1959.3    & -8.019878 & 4.689134  & -4.498873 & 2.647592 \\\\\n",
       "\t 1959.4    & -8.012581 & 4.722338  & -4.491904 & 2.647592 \\\\\n",
       "\t 1960.1    & -8.016769 & 4.707470  & -4.490103 & 2.647415 \\\\\n",
       "\t 1960.2    & -7.976376 & 4.699136  & -4.489107 & 2.647238 \\\\\n",
       "\\end{tabular}\n"
      ],
      "text/markdown": [
       "\n",
       "quarter | gas | price | income | miles | \n",
       "|---|---|---|---|---|---|\n",
       "| 1959.1    | -8.015248 | 4.675750  | -4.505240 | 2.647592  | \n",
       "| 1959.2    | -8.011060 | 4.691292  | -4.492739 | 2.647592  | \n",
       "| 1959.3    | -8.019878 | 4.689134  | -4.498873 | 2.647592  | \n",
       "| 1959.4    | -8.012581 | 4.722338  | -4.491904 | 2.647592  | \n",
       "| 1960.1    | -8.016769 | 4.707470  | -4.490103 | 2.647415  | \n",
       "| 1960.2    | -7.976376 | 4.699136  | -4.489107 | 2.647238  | \n",
       "\n",
       "\n"
      ],
      "text/plain": [
       "  quarter gas       price    income    miles   \n",
       "1 1959.1  -8.015248 4.675750 -4.505240 2.647592\n",
       "2 1959.2  -8.011060 4.691292 -4.492739 2.647592\n",
       "3 1959.3  -8.019878 4.689134 -4.498873 2.647592\n",
       "4 1959.4  -8.012581 4.722338 -4.491904 2.647592\n",
       "5 1960.1  -8.016769 4.707470 -4.490103 2.647415\n",
       "6 1960.2  -7.976376 4.699136 -4.489107 2.647238"
      ]
     },
     "metadata": {},
     "output_type": "display_data"
    }
   ],
   "source": [
    "auto<-read.table(\"http://www.econ.uiuc.edu/~econ508/data/AUTO2.txt\",header=T)\n",
    "head(auto)"
   ]
  },
  {
   "cell_type": "code",
   "execution_count": 10,
   "metadata": {
    "ExecuteTime": {
     "end_time": "2018-03-02T00:16:36.826152Z",
     "start_time": "2018-03-02T00:16:36.802Z"
    }
   },
   "outputs": [],
   "source": [
    "# generate square terms\n",
    "auto$price2<-auto$price^2\n",
    "auto$princ<-auto$price*auto$income"
   ]
  },
  {
   "cell_type": "code",
   "execution_count": 14,
   "metadata": {
    "ExecuteTime": {
     "end_time": "2018-03-02T00:20:40.490841Z",
     "start_time": "2018-03-02T00:20:40.464Z"
    }
   },
   "outputs": [],
   "source": [
    "gas<-ts(auto$gas,start=1959,frequency=4)\n",
    "price<-ts(auto$price,start=1959,frequency=4)\n",
    "income<-ts(auto$income,start=1959,frequency=4)\n",
    "miles<-ts(auto$miles,start=1959,frequency=4)\n",
    "price2<-price^2\n",
    "princ<-price*income"
   ]
  },
  {
   "cell_type": "markdown",
   "metadata": {
    "collapsed": true
   },
   "source": [
    "\n",
    "### Test: Breusch-Godfrey\n",
    "\n",
    "Run an OLS in your original equation:\n",
    "\n",
    "$$gas_{t} = \\beta_{0} + \\beta_{1} income_{t}+ \\beta_{2} price_{t} + \\beta_{3} (price_{t})^{2} + \\beta_{4} (price_{t}*income_{t}) + u_{t}$$\n",
    "\n",
    "Obtain the estimated residuals:\n",
    "\n",
    "Regress the estimated residuals (uhat) on the explanatory variables of the original model (income, price, price2, priceinc, constant) and lagged residuals (L.uhat). Call this the `auxiliary regression`.\n",
    "\n",
    "\n",
    "From the auxiliary regression above, obtain the R-squared and multiply it by the number of included observations:"
   ]
  },
  {
   "cell_type": "code",
   "execution_count": 11,
   "metadata": {
    "ExecuteTime": {
     "end_time": "2018-03-02T00:16:39.124043Z",
     "start_time": "2018-03-02T00:16:39.098Z"
    }
   },
   "outputs": [],
   "source": [
    "model<-lm(gas~income+price+price2+princ, auto) "
   ]
  },
  {
   "cell_type": "code",
   "execution_count": 12,
   "metadata": {
    "ExecuteTime": {
     "end_time": "2018-03-02T00:16:41.088025Z",
     "start_time": "2018-03-02T00:16:41.068Z"
    }
   },
   "outputs": [],
   "source": [
    "uhat<-model$resid"
   ]
  },
  {
   "cell_type": "code",
   "execution_count": 13,
   "metadata": {
    "ExecuteTime": {
     "end_time": "2018-03-02T00:16:41.428658Z",
     "start_time": "2018-03-02T00:16:41.410Z"
    }
   },
   "outputs": [],
   "source": [
    "uhat<- ts(uhat,start=1959,frequency=4)"
   ]
  },
  {
   "cell_type": "code",
   "execution_count": 15,
   "metadata": {
    "ExecuteTime": {
     "end_time": "2018-03-02T00:20:51.062346Z",
     "start_time": "2018-03-02T00:20:50.762Z"
    }
   },
   "outputs": [],
   "source": [
    "model.adj<-dyn$lm(uhat~lag(uhat,-1)+income+price+price2+princ) "
   ]
  },
  {
   "cell_type": "code",
   "execution_count": 16,
   "metadata": {
    "ExecuteTime": {
     "end_time": "2018-03-02T00:21:33.134232Z",
     "start_time": "2018-03-02T00:21:33.056Z"
    }
   },
   "outputs": [
    {
     "data": {
      "text/html": [
       "0.909110549181873"
      ],
      "text/latex": [
       "0.909110549181873"
      ],
      "text/markdown": [
       "0.909110549181873"
      ],
      "text/plain": [
       "[1] 0.9091105"
      ]
     },
     "metadata": {},
     "output_type": "display_data"
    }
   ],
   "source": [
    "R2<-summary(model.adj)$r.squared\n",
    "R2"
   ]
  },
  {
   "cell_type": "markdown",
   "metadata": {},
   "source": [
    "Under the null hypothesis of no autocorrelation, the test statistic NR2 converges asymptotically to a Chi-squared with s degrees of freedom, where s is the number of lags of the residuals included in the auxiliary regression. In the case above, s=1, and we have:"
   ]
  },
  {
   "cell_type": "code",
   "execution_count": 17,
   "metadata": {
    "ExecuteTime": {
     "end_time": "2018-03-02T00:22:35.182372Z",
     "start_time": "2018-03-02T00:22:35.155Z"
    }
   },
   "outputs": [
    {
     "data": {
      "text/html": [
       "115.457039746098"
      ],
      "text/latex": [
       "115.457039746098"
      ],
      "text/markdown": [
       "115.457039746098"
      ],
      "text/plain": [
       "[1] 115.457"
      ]
     },
     "metadata": {},
     "output_type": "display_data"
    }
   ],
   "source": [
    "N<-127 #Sample size\n",
    "\n",
    "# Or N<-(model$df)+length(model$coef) \n",
    "\n",
    "N*R2"
   ]
  },
  {
   "cell_type": "markdown",
   "metadata": {},
   "source": [
    "In the example above, NR2 = 115.46 > 3.84 = Chi2 (1, 5%). Hence, we reject the null hypothesis of no autocorrelation on the disturbances."
   ]
  },
  {
   "cell_type": "code",
   "execution_count": null,
   "metadata": {},
   "outputs": [],
   "source": []
  },
  {
   "cell_type": "code",
   "execution_count": null,
   "metadata": {
    "collapsed": true
   },
   "outputs": [],
   "source": []
  },
  {
   "cell_type": "markdown",
   "metadata": {
    "collapsed": true
   },
   "source": [
    "###  Test for ARCH Errors\n",
    "To test for ARCH errors, you can use an LM test as follows:\n",
    "\n",
    "Run an OLS in your original equation:\n",
    "\n",
    "```\n",
    "model2<-lm(gas~income+price+price2+princ)\n",
    "```\n",
    "\n",
    "Generate the residuals and the squared residuals.\n",
    "\n",
    "```\n",
    "uhat2<-(model$resid)^2\n",
    "uhat2<-ts(uhat2,start=1959,frequency=4)\n",
    "```\n",
    "\n",
    "Regress squared residuals on the explanatory variables of the original model (income, price, price2, priceinc, constant) and lagged squared residuals. Call this an auxiliary regression.\n",
    "\n",
    "```\n",
    "f<-dyn$lm(uhat2~lag(uhat2,-1)+lag(uhat2,-2)+ lag(uhat2,-3)+lag(uhat2,-4)+price+ income+price2+princ)\n",
    "```\n",
    "\n",
    "From the auxiliary regression, calculate NR2 and compare with a Chi-squared (q, 5%), where q is the number of included lags of the squared residuals:\n",
    "\n",
    "```\n",
    "R2<-summary(f)$r.squared\n",
    "n<-(model$df)+length(model$coef) \n",
    "n*R2\n",
    "```\n",
    "\n"
   ]
  },
  {
   "cell_type": "code",
   "execution_count": 18,
   "metadata": {
    "ExecuteTime": {
     "end_time": "2018-03-02T00:24:13.853088Z",
     "start_time": "2018-03-02T00:24:13.827Z"
    }
   },
   "outputs": [],
   "source": [
    "uhat2<-(model$resid)^2\n",
    "uhat2<-ts(uhat2,start=1959,frequency=4)"
   ]
  },
  {
   "cell_type": "code",
   "execution_count": 19,
   "metadata": {
    "ExecuteTime": {
     "end_time": "2018-03-02T00:24:22.693077Z",
     "start_time": "2018-03-02T00:24:22.650Z"
    }
   },
   "outputs": [],
   "source": [
    "f<-dyn$lm(uhat2~lag(uhat2,-1)+lag(uhat2,-2)+ lag(uhat2,-3)+lag(uhat2,-4)+price+ income+price2+princ)"
   ]
  },
  {
   "cell_type": "code",
   "execution_count": 20,
   "metadata": {
    "ExecuteTime": {
     "end_time": "2018-03-02T00:24:56.683172Z",
     "start_time": "2018-03-02T00:24:56.660Z"
    }
   },
   "outputs": [
    {
     "data": {
      "text/html": [
       "91.9339997492639"
      ],
      "text/latex": [
       "91.9339997492639"
      ],
      "text/markdown": [
       "91.9339997492639"
      ],
      "text/plain": [
       "[1] 91.934"
      ]
     },
     "metadata": {},
     "output_type": "display_data"
    }
   ],
   "source": [
    "R2<-summary(f)$r.squared\n",
    "n<-(model$df)+length(model$coef) \n",
    "n*R2"
   ]
  },
  {
   "cell_type": "code",
   "execution_count": 21,
   "metadata": {
    "ExecuteTime": {
     "end_time": "2018-03-02T02:15:24.555953Z",
     "start_time": "2018-03-02T02:15:24.514Z"
    }
   },
   "outputs": [
    {
     "data": {
      "text/html": [
       "9.48772903678115"
      ],
      "text/latex": [
       "9.48772903678115"
      ],
      "text/markdown": [
       "9.48772903678115"
      ],
      "text/plain": [
       "[1] 9.487729"
      ]
     },
     "metadata": {},
     "output_type": "display_data"
    }
   ],
   "source": [
    "qchisq(.95, df=4) "
   ]
  },
  {
   "cell_type": "markdown",
   "metadata": {},
   "source": [
    "Under the null hypothesis of no ARCH errors, the test statistic NR2 converges asymptotically to a Chi-squared with q degrees of freedom, where q is the number of lags of the squared residuals included in the auxiliary regression. In the case above, q=4, and NR2=91.93 > 9.49 = Chi-squared(4, 5%). Therefore, we reject the null hypothesis of no ARCH, and admit that our regression presents time-varying variance."
   ]
  },
  {
   "cell_type": "code",
   "execution_count": null,
   "metadata": {
    "collapsed": true
   },
   "outputs": [],
   "source": []
  },
  {
   "cell_type": "code",
   "execution_count": null,
   "metadata": {},
   "outputs": [],
   "source": [
    "d.d<-read.table(\"http://www.econ.uiuc.edu/~econ508/data/CPS.txt\",header=T)\n",
    "head(d.d)"
   ]
  },
  {
   "cell_type": "code",
   "execution_count": null,
   "metadata": {
    "collapsed": true
   },
   "outputs": [],
   "source": []
  }
 ],
 "metadata": {
  "kernelspec": {
   "display_name": "R",
   "language": "R",
   "name": "ir"
  },
  "language_info": {
   "codemirror_mode": "r",
   "file_extension": ".r",
   "mimetype": "text/x-r-source",
   "name": "R",
   "pygments_lexer": "r",
   "version": "3.4.2"
  }
 },
 "nbformat": 4,
 "nbformat_minor": 2
}
