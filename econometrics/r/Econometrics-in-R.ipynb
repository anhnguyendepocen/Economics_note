{
 "cells": [
  {
   "cell_type": "code",
   "execution_count": 2,
   "metadata": {
    "collapsed": false
   },
   "outputs": [
    {
     "data": {
      "text/plain": [
       "\n",
       "t test of coefficients:\n",
       "\n",
       "                           Estimate Std. Error t value  Pr(>|t|)    \n",
       "(Intercept)                3.021522   0.827476  3.6515 0.0004307 ***\n",
       "log(gdp60)                -0.288374   0.061582 -4.6828 9.622e-06 ***\n",
       "log(invest/100)            0.523737   0.086865  6.0293 3.297e-08 ***\n",
       "log(popgrowth/100 + 0.05) -0.505657   0.288608 -1.7521 0.0830613 .  \n",
       "log(school/100)            0.231117   0.059461  3.8868 0.0001903 ***\n",
       "---\n",
       "Signif. codes:  0 '***' 0.001 '**' 0.01 '*' 0.05 '.' 0.1 ' ' 1\n"
      ]
     },
     "metadata": {},
     "output_type": "display_data"
    }
   ],
   "source": [
    "library(\"AER\")\n",
    "#https://cran.r-project.org/web/packages/AER/AER.pdf\n",
    "#install.packages(\"AER\")\n",
    "\n",
    "#install.packages(\"AER\", repos = \"http://crans.rstudio.com\")\n",
    "\n",
    "## data for non-oil-producing countries\n",
    "data(\"GrowthDJ\")\n",
    "dj <- subset(GrowthDJ, oil == \"no\")\n",
    "## Different scalings have been used by different authors,\n",
    "## different types of standard errors, etc.,\n",
    "## see Koenker & Zeileis (2009) for an overview\n",
    "## Durlauf & Johnson (1995), Table II\n",
    "mrw_model <- I(log(gdp85) - log(gdp60)) ~ log(gdp60) +\n",
    "log(invest/100) + log(popgrowth/100 + 0.05) + log(school/100)\n",
    "\n",
    "\n",
    "dj_mrw <- lm(mrw_model, data = dj)\n",
    "coeftest(dj_mrw)\n",
    "\n"
   ]
  },
  {
   "cell_type": "code",
   "execution_count": 3,
   "metadata": {
    "collapsed": false
   },
   "outputs": [
    {
     "data": {
      "text/html": [
       "<table>\n",
       "<thead><tr><th scope=col>Res.Df</th><th scope=col>Df</th><th scope=col>F</th><th scope=col>Pr(&gt;F)</th></tr></thead>\n",
       "<tbody>\n",
       "\t<tr><td>94         </td><td>NA         </td><td>      NA   </td><td>         NA</td></tr>\n",
       "\t<tr><td>93         </td><td> 1         </td><td>11.38067   </td><td>0.001083367</td></tr>\n",
       "</tbody>\n",
       "</table>\n"
      ],
      "text/latex": [
       "\\begin{tabular}{r|llll}\n",
       " Res.Df & Df & F & Pr(>F)\\\\\n",
       "\\hline\n",
       "\t 94          & NA          &       NA    &          NA\\\\\n",
       "\t 93          &  1          & 11.38067    & 0.001083367\\\\\n",
       "\\end{tabular}\n"
      ],
      "text/markdown": [
       "\n",
       "Res.Df | Df | F | Pr(>F) | \n",
       "|---|---|\n",
       "| 94          | NA          |       NA    |          NA | \n",
       "| 93          |  1          | 11.38067    | 0.001083367 | \n",
       "\n",
       "\n"
      ],
      "text/plain": [
       "  Res.Df Df F        Pr(>F)     \n",
       "1 94     NA       NA          NA\n",
       "2 93      1 11.38067 0.001083367"
      ]
     },
     "metadata": {},
     "output_type": "display_data"
    }
   ],
   "source": [
    "linearHypothesis(dj_mrw, \"log(invest/100)+log(popgrowth/100 + 0.05)=1\", white.adjust=\"hc0\")\n",
    "\n"
   ]
  },
  {
   "cell_type": "code",
   "execution_count": 4,
   "metadata": {
    "collapsed": false
   },
   "outputs": [
    {
     "data": {
      "text/html": [
       "<table>\n",
       "<thead><tr><th></th><th scope=col>Df</th><th scope=col>Sum Sq</th><th scope=col>Mean Sq</th><th scope=col>F value</th><th scope=col>Pr(&gt;F)</th></tr></thead>\n",
       "<tbody>\n",
       "\t<tr><th scope=row>log(gdp60)</th><td> 1          </td><td>0.7010494   </td><td>0.7010494   </td><td> 6.555458   </td><td>1.206729e-02</td></tr>\n",
       "\t<tr><th scope=row>log(invest/100)</th><td> 1          </td><td>6.9452261   </td><td>6.9452261   </td><td>64.944266   </td><td>2.553987e-12</td></tr>\n",
       "\t<tr><th scope=row>log(popgrowth/100 + 0.05)</th><td> 1          </td><td>0.1213505   </td><td>0.1213505   </td><td> 1.134739   </td><td>2.895246e-01</td></tr>\n",
       "\t<tr><th scope=row>log(school/100)</th><td> 1          </td><td>1.6156269   </td><td>1.6156269   </td><td>15.107601   </td><td>1.902567e-04</td></tr>\n",
       "\t<tr><th scope=row>Residuals</th><td>93          </td><td>9.9455435   </td><td>0.1069413   </td><td>       NA   </td><td>          NA</td></tr>\n",
       "</tbody>\n",
       "</table>\n"
      ],
      "text/latex": [
       "\\begin{tabular}{r|lllll}\n",
       "  & Df & Sum Sq & Mean Sq & F value & Pr(>F)\\\\\n",
       "\\hline\n",
       "\tlog(gdp60) &  1           & 0.7010494    & 0.7010494    &  6.555458    & 1.206729e-02\\\\\n",
       "\tlog(invest/100) &  1           & 6.9452261    & 6.9452261    & 64.944266    & 2.553987e-12\\\\\n",
       "\tlog(popgrowth/100 + 0.05) &  1           & 0.1213505    & 0.1213505    &  1.134739    & 2.895246e-01\\\\\n",
       "\tlog(school/100) &  1           & 1.6156269    & 1.6156269    & 15.107601    & 1.902567e-04\\\\\n",
       "\tResiduals & 93           & 9.9455435    & 0.1069413    &        NA    &           NA\\\\\n",
       "\\end{tabular}\n"
      ],
      "text/markdown": [
       "\n",
       "| <!--/--> | Df | Sum Sq | Mean Sq | F value | Pr(>F) | \n",
       "|---|---|---|---|---|\n",
       "| log(gdp60) |  1           | 0.7010494    | 0.7010494    |  6.555458    | 1.206729e-02 | \n",
       "| log(invest/100) |  1           | 6.9452261    | 6.9452261    | 64.944266    | 2.553987e-12 | \n",
       "| log(popgrowth/100 + 0.05) |  1           | 0.1213505    | 0.1213505    |  1.134739    | 2.895246e-01 | \n",
       "| log(school/100) |  1           | 1.6156269    | 1.6156269    | 15.107601    | 1.902567e-04 | \n",
       "| Residuals | 93           | 9.9455435    | 0.1069413    |        NA    |           NA | \n",
       "\n",
       "\n"
      ],
      "text/plain": [
       "                          Df Sum Sq    Mean Sq   F value   Pr(>F)      \n",
       "log(gdp60)                 1 0.7010494 0.7010494  6.555458 1.206729e-02\n",
       "log(invest/100)            1 6.9452261 6.9452261 64.944266 2.553987e-12\n",
       "log(popgrowth/100 + 0.05)  1 0.1213505 0.1213505  1.134739 2.895246e-01\n",
       "log(school/100)            1 1.6156269 1.6156269 15.107601 1.902567e-04\n",
       "Residuals                 93 9.9455435 0.1069413        NA           NA"
      ]
     },
     "metadata": {},
     "output_type": "display_data"
    }
   ],
   "source": [
    "anova(dj_mrw)\n",
    "\n"
   ]
  },
  {
   "cell_type": "code",
   "execution_count": null,
   "metadata": {
    "collapsed": true
   },
   "outputs": [],
   "source": []
  },
  {
   "cell_type": "code",
   "execution_count": 5,
   "metadata": {
    "collapsed": false
   },
   "outputs": [
    {
     "data": {
      "text/html": [
       "<table>\n",
       "<thead><tr><th></th><th scope=col>Sum Sq</th><th scope=col>Df</th><th scope=col>F value</th><th scope=col>Pr(&gt;F)</th></tr></thead>\n",
       "<tbody>\n",
       "\t<tr><th scope=row>log(gdp60)</th><td>2.3450284   </td><td> 1          </td><td>21.928177   </td><td>9.621502e-06</td></tr>\n",
       "\t<tr><th scope=row>log(invest/100)</th><td>3.8875878   </td><td> 1          </td><td>36.352529   </td><td>3.296583e-08</td></tr>\n",
       "\t<tr><th scope=row>log(popgrowth/100 + 0.05)</th><td>0.3282759   </td><td> 1          </td><td> 3.069683   </td><td>8.306126e-02</td></tr>\n",
       "\t<tr><th scope=row>log(school/100)</th><td>1.6156269   </td><td> 1          </td><td>15.107601   </td><td>1.902567e-04</td></tr>\n",
       "\t<tr><th scope=row>Residuals</th><td>9.9455435   </td><td>93          </td><td>       NA   </td><td>          NA</td></tr>\n",
       "</tbody>\n",
       "</table>\n"
      ],
      "text/latex": [
       "\\begin{tabular}{r|llll}\n",
       "  & Sum Sq & Df & F value & Pr(>F)\\\\\n",
       "\\hline\n",
       "\tlog(gdp60) & 2.3450284    &  1           & 21.928177    & 9.621502e-06\\\\\n",
       "\tlog(invest/100) & 3.8875878    &  1           & 36.352529    & 3.296583e-08\\\\\n",
       "\tlog(popgrowth/100 + 0.05) & 0.3282759    &  1           &  3.069683    & 8.306126e-02\\\\\n",
       "\tlog(school/100) & 1.6156269    &  1           & 15.107601    & 1.902567e-04\\\\\n",
       "\tResiduals & 9.9455435    & 93           &        NA    &           NA\\\\\n",
       "\\end{tabular}\n"
      ],
      "text/markdown": [
       "\n",
       "| <!--/--> | Sum Sq | Df | F value | Pr(>F) | \n",
       "|---|---|---|---|---|\n",
       "| log(gdp60) | 2.3450284    |  1           | 21.928177    | 9.621502e-06 | \n",
       "| log(invest/100) | 3.8875878    |  1           | 36.352529    | 3.296583e-08 | \n",
       "| log(popgrowth/100 + 0.05) | 0.3282759    |  1           |  3.069683    | 8.306126e-02 | \n",
       "| log(school/100) | 1.6156269    |  1           | 15.107601    | 1.902567e-04 | \n",
       "| Residuals | 9.9455435    | 93           |        NA    |           NA | \n",
       "\n",
       "\n"
      ],
      "text/plain": [
       "                          Sum Sq    Df F value   Pr(>F)      \n",
       "log(gdp60)                2.3450284  1 21.928177 9.621502e-06\n",
       "log(invest/100)           3.8875878  1 36.352529 3.296583e-08\n",
       "log(popgrowth/100 + 0.05) 0.3282759  1  3.069683 8.306126e-02\n",
       "log(school/100)           1.6156269  1 15.107601 1.902567e-04\n",
       "Residuals                 9.9455435 93        NA           NA"
      ]
     },
     "metadata": {},
     "output_type": "display_data"
    }
   ],
   "source": [
    "Anova(dj_mrw)"
   ]
  },
  {
   "cell_type": "code",
   "execution_count": 6,
   "metadata": {
    "collapsed": false
   },
   "outputs": [
    {
     "data": {
      "text/html": [
       "<table>\n",
       "<thead><tr><th scope=col>c_index</th><th scope=col>c_name</th><th scope=col>c_code</th><th scope=col>cont</th><th scope=col>nonoil</th><th scope=col>inter</th><th scope=col>oecd</th><th scope=col>gdp60</th><th scope=col>gdp85</th><th scope=col>popgrowth</th><th scope=col>igdp</th><th scope=col>school</th></tr></thead>\n",
       "<tbody>\n",
       "\t<tr><td>1                      </td><td>Algeria                </td><td>DZA                    </td><td>Africa                 </td><td>Non-oil                </td><td>Intermediate Sample    </td><td>Non-OECD               </td><td>2485                   </td><td>4371                   </td><td>2.6                    </td><td>24.1                   </td><td>4.5                    </td></tr>\n",
       "\t<tr><td>2                      </td><td>Angola                 </td><td>AGO                    </td><td>Africa                 </td><td>Non-oil                </td><td>Not intermediate sample</td><td>Non-OECD               </td><td>1588                   </td><td>1171                   </td><td>2.1                    </td><td> 5.8                   </td><td>1.8                    </td></tr>\n",
       "\t<tr><td>3                      </td><td>Benin                  </td><td>BEN                    </td><td>Africa                 </td><td>Non-oil                </td><td>Not intermediate sample</td><td>Non-OECD               </td><td>1116                   </td><td>1071                   </td><td>2.4                    </td><td>10.8                   </td><td>1.8                    </td></tr>\n",
       "\t<tr><td>4                      </td><td>Botswana               </td><td>BWA                    </td><td>Africa                 </td><td>Non-oil                </td><td>Intermediate Sample    </td><td>Non-OECD               </td><td> 959                   </td><td>3671                   </td><td>3.2                    </td><td>28.3                   </td><td>2.9                    </td></tr>\n",
       "\t<tr><td>5                      </td><td>Burkina Faso           </td><td>BFA                    </td><td>Africa                 </td><td>Non-oil                </td><td>Not intermediate sample</td><td>Non-OECD               </td><td> 529                   </td><td> 857                   </td><td>0.9                    </td><td>12.7                   </td><td>0.4                    </td></tr>\n",
       "\t<tr><td>6                      </td><td>Burundi                </td><td>BDI                    </td><td>Africa                 </td><td>Non-oil                </td><td>Not intermediate sample</td><td>Non-OECD               </td><td> 755                   </td><td> 663                   </td><td>1.7                    </td><td> 5.1                   </td><td>0.4                    </td></tr>\n",
       "</tbody>\n",
       "</table>\n"
      ],
      "text/latex": [
       "\\begin{tabular}{r|llllllllllll}\n",
       " c\\_index & c\\_name & c\\_code & cont & nonoil & inter & oecd & gdp60 & gdp85 & popgrowth & igdp & school\\\\\n",
       "\\hline\n",
       "\t 1                       & Algeria                 & DZA                     & Africa                  & Non-oil                 & Intermediate Sample     & Non-OECD                & 2485                    & 4371                    & 2.6                     & 24.1                    & 4.5                    \\\\\n",
       "\t 2                       & Angola                  & AGO                     & Africa                  & Non-oil                 & Not intermediate sample & Non-OECD                & 1588                    & 1171                    & 2.1                     &  5.8                    & 1.8                    \\\\\n",
       "\t 3                       & Benin                   & BEN                     & Africa                  & Non-oil                 & Not intermediate sample & Non-OECD                & 1116                    & 1071                    & 2.4                     & 10.8                    & 1.8                    \\\\\n",
       "\t 4                       & Botswana                & BWA                     & Africa                  & Non-oil                 & Intermediate Sample     & Non-OECD                &  959                    & 3671                    & 3.2                     & 28.3                    & 2.9                    \\\\\n",
       "\t 5                       & Burkina Faso            & BFA                     & Africa                  & Non-oil                 & Not intermediate sample & Non-OECD                &  529                    &  857                    & 0.9                     & 12.7                    & 0.4                    \\\\\n",
       "\t 6                       & Burundi                 & BDI                     & Africa                  & Non-oil                 & Not intermediate sample & Non-OECD                &  755                    &  663                    & 1.7                     &  5.1                    & 0.4                    \\\\\n",
       "\\end{tabular}\n"
      ],
      "text/markdown": [
       "\n",
       "c_index | c_name | c_code | cont | nonoil | inter | oecd | gdp60 | gdp85 | popgrowth | igdp | school | \n",
       "|---|---|---|---|---|---|\n",
       "| 1                       | Algeria                 | DZA                     | Africa                  | Non-oil                 | Intermediate Sample     | Non-OECD                | 2485                    | 4371                    | 2.6                     | 24.1                    | 4.5                     | \n",
       "| 2                       | Angola                  | AGO                     | Africa                  | Non-oil                 | Not intermediate sample | Non-OECD                | 1588                    | 1171                    | 2.1                     |  5.8                    | 1.8                     | \n",
       "| 3                       | Benin                   | BEN                     | Africa                  | Non-oil                 | Not intermediate sample | Non-OECD                | 1116                    | 1071                    | 2.4                     | 10.8                    | 1.8                     | \n",
       "| 4                       | Botswana                | BWA                     | Africa                  | Non-oil                 | Intermediate Sample     | Non-OECD                |  959                    | 3671                    | 3.2                     | 28.3                    | 2.9                     | \n",
       "| 5                       | Burkina Faso            | BFA                     | Africa                  | Non-oil                 | Not intermediate sample | Non-OECD                |  529                    |  857                    | 0.9                     | 12.7                    | 0.4                     | \n",
       "| 6                       | Burundi                 | BDI                     | Africa                  | Non-oil                 | Not intermediate sample | Non-OECD                |  755                    |  663                    | 1.7                     |  5.1                    | 0.4                     | \n",
       "\n",
       "\n"
      ],
      "text/plain": [
       "  c_index c_name       c_code cont   nonoil  inter                   oecd    \n",
       "1 1       Algeria      DZA    Africa Non-oil Intermediate Sample     Non-OECD\n",
       "2 2       Angola       AGO    Africa Non-oil Not intermediate sample Non-OECD\n",
       "3 3       Benin        BEN    Africa Non-oil Not intermediate sample Non-OECD\n",
       "4 4       Botswana     BWA    Africa Non-oil Intermediate Sample     Non-OECD\n",
       "5 5       Burkina Faso BFA    Africa Non-oil Not intermediate sample Non-OECD\n",
       "6 6       Burundi      BDI    Africa Non-oil Not intermediate sample Non-OECD\n",
       "  gdp60 gdp85 popgrowth igdp school\n",
       "1 2485  4371  2.6       24.1 4.5   \n",
       "2 1588  1171  2.1        5.8 1.8   \n",
       "3 1116  1071  2.4       10.8 1.8   \n",
       "4  959  3671  3.2       28.3 2.9   \n",
       "5  529   857  0.9       12.7 0.4   \n",
       "6  755   663  1.7        5.1 0.4   "
      ]
     },
     "metadata": {},
     "output_type": "display_data"
    }
   ],
   "source": [
    "library(foreign)\n",
    "mrwdata <- read.dta(\"https://github.com/davidrpugh/econometrics-labs/raw/master/lab-6/mrw1992.dta\")\n",
    "head(mrwdata)\n"
   ]
  },
  {
   "cell_type": "code",
   "execution_count": 7,
   "metadata": {
    "collapsed": false
   },
   "outputs": [
    {
     "data": {
      "text/plain": [
       "\n",
       "t test of coefficients:\n",
       "\n",
       "                         Estimate Std. Error t value  Pr(>|t|)    \n",
       "(Intercept)              3.112868   0.850441  3.6603 0.0004063 ***\n",
       "log(gdp60)              -0.297321   0.049973 -5.9496 4.073e-08 ***\n",
       "log(invest/100)          0.552855   0.087700  6.3039 8.118e-09 ***\n",
       "log(workpop/100 + 0.05) -0.506675   0.252321 -2.0081 0.0473613 *  \n",
       "log(school/100)          0.216450   0.059284  3.6511 0.0004194 ***\n",
       "---\n",
       "Signif. codes:  0 '***' 0.001 '**' 0.01 '*' 0.05 '.' 0.1 ' ' 1\n"
      ]
     },
     "metadata": {},
     "output_type": "display_data"
    }
   ],
   "source": [
    "mrwdata$invest=mrwdata$igdp \n",
    "\n",
    "mrwdata$workpop=mrwdata$popgrowth\n",
    "\n",
    "mrw_model_1 <- I(log(gdp85) - log(gdp60)) ~ log(gdp60) +\n",
    "  log(invest/100) + log(workpop/100 + 0.05) + log(school/100)\n",
    "\n",
    "mrw_lm <- lm(mrw_model_1, data = mrwdata)\n",
    "coeftest(mrw_lm) # nedd library(AER)\n"
   ]
  },
  {
   "cell_type": "code",
   "execution_count": 8,
   "metadata": {
    "collapsed": false
   },
   "outputs": [
    {
     "data": {
      "text/html": [
       "<table>\n",
       "<thead><tr><th scope=col>Res.Df</th><th scope=col>RSS</th><th scope=col>Df</th><th scope=col>Sum of Sq</th><th scope=col>F</th><th scope=col>Pr(&gt;F)</th></tr></thead>\n",
       "<tbody>\n",
       "\t<tr><td>100        </td><td>12.63033   </td><td>NA         </td><td>      NA   </td><td>      NA   </td><td>         NA</td></tr>\n",
       "\t<tr><td> 99        </td><td>11.36411   </td><td> 1         </td><td>1.266219   </td><td>11.03084   </td><td>0.001255913</td></tr>\n",
       "</tbody>\n",
       "</table>\n"
      ],
      "text/latex": [
       "\\begin{tabular}{r|llllll}\n",
       " Res.Df & RSS & Df & Sum of Sq & F & Pr(>F)\\\\\n",
       "\\hline\n",
       "\t 100         & 12.63033    & NA          &       NA    &       NA    &          NA\\\\\n",
       "\t  99         & 11.36411    &  1          & 1.266219    & 11.03084    & 0.001255913\\\\\n",
       "\\end{tabular}\n"
      ],
      "text/markdown": [
       "\n",
       "Res.Df | RSS | Df | Sum of Sq | F | Pr(>F) | \n",
       "|---|---|\n",
       "| 100         | 12.63033    | NA          |       NA    |       NA    |          NA | \n",
       "|  99         | 11.36411    |  1          | 1.266219    | 11.03084    | 0.001255913 | \n",
       "\n",
       "\n"
      ],
      "text/plain": [
       "  Res.Df RSS      Df Sum of Sq F        Pr(>F)     \n",
       "1 100    12.63033 NA       NA        NA          NA\n",
       "2  99    11.36411  1 1.266219  11.03084 0.001255913"
      ]
     },
     "metadata": {},
     "output_type": "display_data"
    }
   ],
   "source": [
    "\n",
    "linearHypothesis(mrw_lm, \"log(invest/100)+log(workpop/100 + 0.05)=1\")\n",
    "\n"
   ]
  },
  {
   "cell_type": "code",
   "execution_count": 9,
   "metadata": {
    "collapsed": false
   },
   "outputs": [
    {
     "data": {
      "text/html": [
       "<table>\n",
       "<thead><tr><th></th><th scope=col>Df</th><th scope=col>Sum Sq</th><th scope=col>Mean Sq</th><th scope=col>F value</th><th scope=col>Pr(&gt;F)</th></tr></thead>\n",
       "<tbody>\n",
       "\t<tr><th scope=row>log(gdp60)</th><td> 1          </td><td>7.067357e-06</td><td>7.067357e-06</td><td>6.156825e-05</td><td>9.937552e-01</td></tr>\n",
       "\t<tr><th scope=row>log(invest/100)</th><td> 1          </td><td>1.022777e+01</td><td>1.022777e+01</td><td>8.910064e+01</td><td>1.829148e-15</td></tr>\n",
       "\t<tr><th scope=row>log(workpop/100 + 0.05)</th><td> 1          </td><td>3.552708e-01</td><td>3.552708e-01</td><td>3.094990e+00</td><td>8.162307e-02</td></tr>\n",
       "\t<tr><th scope=row>log(school/100)</th><td> 1          </td><td>1.530185e+00</td><td>1.530185e+00</td><td>1.333042e+01</td><td>4.193765e-04</td></tr>\n",
       "\t<tr><th scope=row>Residuals</th><td>99          </td><td>1.136411e+01</td><td>1.147890e-01</td><td>          NA</td><td>          NA</td></tr>\n",
       "</tbody>\n",
       "</table>\n"
      ],
      "text/latex": [
       "\\begin{tabular}{r|lllll}\n",
       "  & Df & Sum Sq & Mean Sq & F value & Pr(>F)\\\\\n",
       "\\hline\n",
       "\tlog(gdp60) &  1           & 7.067357e-06 & 7.067357e-06 & 6.156825e-05 & 9.937552e-01\\\\\n",
       "\tlog(invest/100) &  1           & 1.022777e+01 & 1.022777e+01 & 8.910064e+01 & 1.829148e-15\\\\\n",
       "\tlog(workpop/100 + 0.05) &  1           & 3.552708e-01 & 3.552708e-01 & 3.094990e+00 & 8.162307e-02\\\\\n",
       "\tlog(school/100) &  1           & 1.530185e+00 & 1.530185e+00 & 1.333042e+01 & 4.193765e-04\\\\\n",
       "\tResiduals & 99           & 1.136411e+01 & 1.147890e-01 &           NA &           NA\\\\\n",
       "\\end{tabular}\n"
      ],
      "text/markdown": [
       "\n",
       "| <!--/--> | Df | Sum Sq | Mean Sq | F value | Pr(>F) | \n",
       "|---|---|---|---|---|\n",
       "| log(gdp60) |  1           | 7.067357e-06 | 7.067357e-06 | 6.156825e-05 | 9.937552e-01 | \n",
       "| log(invest/100) |  1           | 1.022777e+01 | 1.022777e+01 | 8.910064e+01 | 1.829148e-15 | \n",
       "| log(workpop/100 + 0.05) |  1           | 3.552708e-01 | 3.552708e-01 | 3.094990e+00 | 8.162307e-02 | \n",
       "| log(school/100) |  1           | 1.530185e+00 | 1.530185e+00 | 1.333042e+01 | 4.193765e-04 | \n",
       "| Residuals | 99           | 1.136411e+01 | 1.147890e-01 |           NA |           NA | \n",
       "\n",
       "\n"
      ],
      "text/plain": [
       "                        Df Sum Sq       Mean Sq      F value      Pr(>F)      \n",
       "log(gdp60)               1 7.067357e-06 7.067357e-06 6.156825e-05 9.937552e-01\n",
       "log(invest/100)          1 1.022777e+01 1.022777e+01 8.910064e+01 1.829148e-15\n",
       "log(workpop/100 + 0.05)  1 3.552708e-01 3.552708e-01 3.094990e+00 8.162307e-02\n",
       "log(school/100)          1 1.530185e+00 1.530185e+00 1.333042e+01 4.193765e-04\n",
       "Residuals               99 1.136411e+01 1.147890e-01           NA           NA"
      ]
     },
     "metadata": {},
     "output_type": "display_data"
    }
   ],
   "source": [
    "anova(mrw_lm)\n",
    "\n"
   ]
  },
  {
   "cell_type": "code",
   "execution_count": 10,
   "metadata": {
    "collapsed": false
   },
   "outputs": [
    {
     "data": {
      "text/html": [
       "<table>\n",
       "<thead><tr><th></th><th scope=col>Sum Sq</th><th scope=col>Df</th><th scope=col>F value</th><th scope=col>Pr(&gt;F)</th></tr></thead>\n",
       "<tbody>\n",
       "\t<tr><th scope=row>log(gdp60)</th><td> 4.0632746  </td><td> 1          </td><td>35.397772   </td><td>4.073478e-08</td></tr>\n",
       "\t<tr><th scope=row>log(invest/100)</th><td> 4.5616507  </td><td> 1          </td><td>39.739444   </td><td>8.117600e-09</td></tr>\n",
       "\t<tr><th scope=row>log(workpop/100 + 0.05)</th><td> 0.4628644  </td><td> 1          </td><td> 4.032306   </td><td>4.736129e-02</td></tr>\n",
       "\t<tr><th scope=row>log(school/100)</th><td> 1.5301854  </td><td> 1          </td><td>13.330420   </td><td>4.193765e-04</td></tr>\n",
       "\t<tr><th scope=row>Residuals</th><td>11.3641102  </td><td>99          </td><td>       NA   </td><td>          NA</td></tr>\n",
       "</tbody>\n",
       "</table>\n"
      ],
      "text/latex": [
       "\\begin{tabular}{r|llll}\n",
       "  & Sum Sq & Df & F value & Pr(>F)\\\\\n",
       "\\hline\n",
       "\tlog(gdp60) &  4.0632746   &  1           & 35.397772    & 4.073478e-08\\\\\n",
       "\tlog(invest/100) &  4.5616507   &  1           & 39.739444    & 8.117600e-09\\\\\n",
       "\tlog(workpop/100 + 0.05) &  0.4628644   &  1           &  4.032306    & 4.736129e-02\\\\\n",
       "\tlog(school/100) &  1.5301854   &  1           & 13.330420    & 4.193765e-04\\\\\n",
       "\tResiduals & 11.3641102   & 99           &        NA    &           NA\\\\\n",
       "\\end{tabular}\n"
      ],
      "text/markdown": [
       "\n",
       "| <!--/--> | Sum Sq | Df | F value | Pr(>F) | \n",
       "|---|---|---|---|---|\n",
       "| log(gdp60) |  4.0632746   |  1           | 35.397772    | 4.073478e-08 | \n",
       "| log(invest/100) |  4.5616507   |  1           | 39.739444    | 8.117600e-09 | \n",
       "| log(workpop/100 + 0.05) |  0.4628644   |  1           |  4.032306    | 4.736129e-02 | \n",
       "| log(school/100) |  1.5301854   |  1           | 13.330420    | 4.193765e-04 | \n",
       "| Residuals | 11.3641102   | 99           |        NA    |           NA | \n",
       "\n",
       "\n"
      ],
      "text/plain": [
       "                        Sum Sq     Df F value   Pr(>F)      \n",
       "log(gdp60)               4.0632746  1 35.397772 4.073478e-08\n",
       "log(invest/100)          4.5616507  1 39.739444 8.117600e-09\n",
       "log(workpop/100 + 0.05)  0.4628644  1  4.032306 4.736129e-02\n",
       "log(school/100)          1.5301854  1 13.330420 4.193765e-04\n",
       "Residuals               11.3641102 99        NA           NA"
      ]
     },
     "metadata": {},
     "output_type": "display_data"
    }
   ],
   "source": [
    "Anova(mrw_lm)"
   ]
  },
  {
   "cell_type": "code",
   "execution_count": 12,
   "metadata": {
    "collapsed": false
   },
   "outputs": [
    {
     "data": {
      "text/plain": [
       "\n",
       "t test of coefficients:\n",
       "\n",
       "                           Estimate Std. Error t value Pr(>|t|)   \n",
       "(Intercept)                1.400107   1.846022  0.7584  0.45299   \n",
       "log(gdp60)                -0.443763   0.156607 -2.8336  0.00741 **\n",
       "log(invest)                0.309743   0.114112  2.7144  0.01003 * \n",
       "log(popgrowth/100 + 0.05) -0.379416   0.467647 -0.8113  0.42236   \n",
       "log(school)                0.208786   0.094095  2.2189  0.03271 * \n",
       "---\n",
       "Signif. codes:  0 '***' 0.001 '**' 0.01 '*' 0.05 '.' 0.1 ' ' 1\n"
      ]
     },
     "metadata": {},
     "output_type": "display_data"
    }
   ],
   "source": [
    "dj_model <- I(log(gdp85) - log(gdp60)) ~ log(gdp60) +\n",
    "log(invest) + log(popgrowth/100 + 0.05) + log(school)\n",
    "\n",
    "dj_sub1 <- lm(dj_model, data = dj, subset = gdp60 < 1800 & literacy60 < 50)\n",
    "\n",
    "coeftest(dj_sub1, vcov = sandwich)\n",
    "\n",
    "\n",
    "\n",
    "\n",
    "\n"
   ]
  },
  {
   "cell_type": "code",
   "execution_count": 13,
   "metadata": {
    "collapsed": false
   },
   "outputs": [
    {
     "data": {
      "text/plain": [
       "\n",
       "t test of coefficients:\n",
       "\n",
       "                           Estimate Std. Error t value  Pr(>|t|)    \n",
       "(Intercept)                0.449696   0.723126  0.6219  0.537835    \n",
       "log(gdp60)                -0.434975   0.084607 -5.1411 9.114e-06 ***\n",
       "log(invest)                0.688518   0.170416  4.0402  0.000259 ***\n",
       "log(popgrowth/100 + 0.05) -0.545354   0.283213 -1.9256  0.061867 .  \n",
       "log(school)                0.114271   0.163733  0.6979  0.489595    \n",
       "---\n",
       "Signif. codes:  0 '***' 0.001 '**' 0.01 '*' 0.05 '.' 0.1 ' ' 1\n"
      ]
     },
     "metadata": {},
     "output_type": "display_data"
    }
   ],
   "source": [
    "dj_sub2 <- lm(dj_model, data = dj, subset = gdp60 >= 1800 & literacy60 >= 50)\n",
    "coeftest(dj_sub2, vcov = sandwich)"
   ]
  },
  {
   "cell_type": "code",
   "execution_count": null,
   "metadata": {
    "collapsed": true
   },
   "outputs": [],
   "source": []
  },
  {
   "cell_type": "code",
   "execution_count": null,
   "metadata": {
    "collapsed": true
   },
   "outputs": [],
   "source": []
  },
  {
   "cell_type": "code",
   "execution_count": 14,
   "metadata": {
    "collapsed": true
   },
   "outputs": [],
   "source": [
    "# http://scholar.harvard.edu/files/msen/files/sen_gov2000_section9.txt?m=1360043942\n",
    "## section 9 - multiple testing (f-test)\n",
    "## gov 2k\n",
    "## nov 12, 2009\n",
    "## section notes prepared by msen\n",
    "\n",
    "\n",
    "#################################\n",
    "## 1) Working with lm() output ##\n",
    "#################################\n",
    "\n",
    "## There is a lot packed into output from the lm function.\n",
    "## It is often fruitful to write functions that use lm output\n",
    "## to do some task that we need.\n",
    "\n",
    "## Let's load the\n",
    "## Duncan data from the car library for a running example.\n",
    "## This dataset looks at the prestige of jobs based on their\n",
    "## income and education levels."
   ]
  },
  {
   "cell_type": "code",
   "execution_count": 15,
   "metadata": {
    "collapsed": false
   },
   "outputs": [
    {
     "data": {
      "text/html": [
       "<ol class=list-inline>\n",
       "\t<li>'coefficients'</li>\n",
       "\t<li>'residuals'</li>\n",
       "\t<li>'effects'</li>\n",
       "\t<li>'rank'</li>\n",
       "\t<li>'fitted.values'</li>\n",
       "\t<li>'assign'</li>\n",
       "\t<li>'qr'</li>\n",
       "\t<li>'df.residual'</li>\n",
       "\t<li>'xlevels'</li>\n",
       "\t<li>'call'</li>\n",
       "\t<li>'terms'</li>\n",
       "\t<li>'model'</li>\n",
       "</ol>\n"
      ],
      "text/latex": [
       "\\begin{enumerate*}\n",
       "\\item 'coefficients'\n",
       "\\item 'residuals'\n",
       "\\item 'effects'\n",
       "\\item 'rank'\n",
       "\\item 'fitted.values'\n",
       "\\item 'assign'\n",
       "\\item 'qr'\n",
       "\\item 'df.residual'\n",
       "\\item 'xlevels'\n",
       "\\item 'call'\n",
       "\\item 'terms'\n",
       "\\item 'model'\n",
       "\\end{enumerate*}\n"
      ],
      "text/markdown": [
       "1. 'coefficients'\n",
       "2. 'residuals'\n",
       "3. 'effects'\n",
       "4. 'rank'\n",
       "5. 'fitted.values'\n",
       "6. 'assign'\n",
       "7. 'qr'\n",
       "8. 'df.residual'\n",
       "9. 'xlevels'\n",
       "10. 'call'\n",
       "11. 'terms'\n",
       "12. 'model'\n",
       "\n",
       "\n"
      ],
      "text/plain": [
       " [1] \"coefficients\"  \"residuals\"     \"effects\"       \"rank\"         \n",
       " [5] \"fitted.values\" \"assign\"        \"qr\"            \"df.residual\"  \n",
       " [9] \"xlevels\"       \"call\"          \"terms\"         \"model\"        "
      ]
     },
     "metadata": {},
     "output_type": "display_data"
    },
    {
     "data": {
      "text/html": [
       "<ol class=list-inline>\n",
       "\t<li>'call'</li>\n",
       "\t<li>'terms'</li>\n",
       "\t<li>'residuals'</li>\n",
       "\t<li>'coefficients'</li>\n",
       "\t<li>'aliased'</li>\n",
       "\t<li>'sigma'</li>\n",
       "\t<li>'df'</li>\n",
       "\t<li>'r.squared'</li>\n",
       "\t<li>'adj.r.squared'</li>\n",
       "\t<li>'fstatistic'</li>\n",
       "\t<li>'cov.unscaled'</li>\n",
       "</ol>\n"
      ],
      "text/latex": [
       "\\begin{enumerate*}\n",
       "\\item 'call'\n",
       "\\item 'terms'\n",
       "\\item 'residuals'\n",
       "\\item 'coefficients'\n",
       "\\item 'aliased'\n",
       "\\item 'sigma'\n",
       "\\item 'df'\n",
       "\\item 'r.squared'\n",
       "\\item 'adj.r.squared'\n",
       "\\item 'fstatistic'\n",
       "\\item 'cov.unscaled'\n",
       "\\end{enumerate*}\n"
      ],
      "text/markdown": [
       "1. 'call'\n",
       "2. 'terms'\n",
       "3. 'residuals'\n",
       "4. 'coefficients'\n",
       "5. 'aliased'\n",
       "6. 'sigma'\n",
       "7. 'df'\n",
       "8. 'r.squared'\n",
       "9. 'adj.r.squared'\n",
       "10. 'fstatistic'\n",
       "11. 'cov.unscaled'\n",
       "\n",
       "\n"
      ],
      "text/plain": [
       " [1] \"call\"          \"terms\"         \"residuals\"     \"coefficients\" \n",
       " [5] \"aliased\"       \"sigma\"         \"df\"            \"r.squared\"    \n",
       " [9] \"adj.r.squared\" \"fstatistic\"    \"cov.unscaled\" "
      ]
     },
     "metadata": {},
     "output_type": "display_data"
    }
   ],
   "source": [
    "library(car)\n",
    "data(Duncan)\n",
    "\n",
    "my.mod <- lm(prestige ~ education + income, data=Duncan)\n",
    "names(my.mod)\n",
    "names(summary(my.mod))"
   ]
  },
  {
   "cell_type": "code",
   "execution_count": 16,
   "metadata": {
    "collapsed": false
   },
   "outputs": [
    {
     "data": {
      "text/html": [
       "<dl class=dl-horizontal>\n",
       "\t<dt>(Intercept)</dt>\n",
       "\t\t<dd>-6.06466292210332</dd>\n",
       "\t<dt>education</dt>\n",
       "\t\t<dd>0.54583390940088</dd>\n",
       "\t<dt>income</dt>\n",
       "\t\t<dd>0.598732821529495</dd>\n",
       "</dl>\n"
      ],
      "text/latex": [
       "\\begin{description*}\n",
       "\\item[(Intercept)] -6.06466292210332\n",
       "\\item[education] 0.54583390940088\n",
       "\\item[income] 0.598732821529495\n",
       "\\end{description*}\n"
      ],
      "text/markdown": [
       "(Intercept)\n",
       ":   -6.06466292210332education\n",
       ":   0.54583390940088income\n",
       ":   0.598732821529495\n",
       "\n"
      ],
      "text/plain": [
       "(Intercept)   education      income \n",
       " -6.0646629   0.5458339   0.5987328 "
      ]
     },
     "metadata": {},
     "output_type": "display_data"
    }
   ],
   "source": [
    "## there are a number of useful functions that extract what we\n",
    "## want from the lm output.\n",
    "\n",
    "## The beta hats:\n",
    "coef(my.mod) \n"
   ]
  },
  {
   "cell_type": "code",
   "execution_count": 17,
   "metadata": {
    "collapsed": false
   },
   "outputs": [
    {
     "data": {
      "text/html": [
       "<table>\n",
       "<thead><tr><th></th><th scope=col>(Intercept)</th><th scope=col>education</th><th scope=col>income</th></tr></thead>\n",
       "<tbody>\n",
       "\t<tr><th scope=row>(Intercept)</th><td>18.249481   </td><td>-0.150706025</td><td>-0.151845008</td></tr>\n",
       "\t<tr><th scope=row>education</th><td>-0.150706   </td><td> 0.009653582</td><td>-0.008518551</td></tr>\n",
       "\t<tr><th scope=row>income</th><td>-0.151845   </td><td>-0.008518551</td><td> 0.014320275</td></tr>\n",
       "</tbody>\n",
       "</table>\n"
      ],
      "text/latex": [
       "\\begin{tabular}{r|lll}\n",
       "  & (Intercept) & education & income\\\\\n",
       "\\hline\n",
       "\t(Intercept) & 18.249481    & -0.150706025 & -0.151845008\\\\\n",
       "\teducation & -0.150706    &  0.009653582 & -0.008518551\\\\\n",
       "\tincome & -0.151845    & -0.008518551 &  0.014320275\\\\\n",
       "\\end{tabular}\n"
      ],
      "text/markdown": [
       "\n",
       "| <!--/--> | (Intercept) | education | income | \n",
       "|---|---|---|\n",
       "| (Intercept) | 18.249481    | -0.150706025 | -0.151845008 | \n",
       "| education | -0.150706    |  0.009653582 | -0.008518551 | \n",
       "| income | -0.151845    | -0.008518551 |  0.014320275 | \n",
       "\n",
       "\n"
      ],
      "text/plain": [
       "            (Intercept) education    income      \n",
       "(Intercept) 18.249481   -0.150706025 -0.151845008\n",
       "education   -0.150706    0.009653582 -0.008518551\n",
       "income      -0.151845   -0.008518551  0.014320275"
      ]
     },
     "metadata": {},
     "output_type": "display_data"
    }
   ],
   "source": [
    "## The variance-covariance matrix of the beta-hats:\n",
    "vcov(my.mod)"
   ]
  },
  {
   "cell_type": "code",
   "execution_count": 18,
   "metadata": {
    "collapsed": false
   },
   "outputs": [
    {
     "data": {
      "text/html": [
       "<table>\n",
       "<thead><tr><th></th><th scope=col>(Intercept)</th><th scope=col>education</th><th scope=col>income</th></tr></thead>\n",
       "<tbody>\n",
       "\t<tr><th scope=row>accountant</th><td>1 </td><td>86</td><td>62</td></tr>\n",
       "\t<tr><th scope=row>pilot</th><td>1 </td><td>76</td><td>72</td></tr>\n",
       "\t<tr><th scope=row>architect</th><td>1 </td><td>92</td><td>75</td></tr>\n",
       "\t<tr><th scope=row>author</th><td>1 </td><td>90</td><td>55</td></tr>\n",
       "\t<tr><th scope=row>chemist</th><td>1 </td><td>86</td><td>64</td></tr>\n",
       "\t<tr><th scope=row>minister</th><td>1 </td><td>84</td><td>21</td></tr>\n",
       "</tbody>\n",
       "</table>\n"
      ],
      "text/latex": [
       "\\begin{tabular}{r|lll}\n",
       "  & (Intercept) & education & income\\\\\n",
       "\\hline\n",
       "\taccountant & 1  & 86 & 62\\\\\n",
       "\tpilot & 1  & 76 & 72\\\\\n",
       "\tarchitect & 1  & 92 & 75\\\\\n",
       "\tauthor & 1  & 90 & 55\\\\\n",
       "\tchemist & 1  & 86 & 64\\\\\n",
       "\tminister & 1  & 84 & 21\\\\\n",
       "\\end{tabular}\n"
      ],
      "text/markdown": [
       "\n",
       "| <!--/--> | (Intercept) | education | income | \n",
       "|---|---|---|---|---|---|\n",
       "| accountant | 1  | 86 | 62 | \n",
       "| pilot | 1  | 76 | 72 | \n",
       "| architect | 1  | 92 | 75 | \n",
       "| author | 1  | 90 | 55 | \n",
       "| chemist | 1  | 86 | 64 | \n",
       "| minister | 1  | 84 | 21 | \n",
       "\n",
       "\n"
      ],
      "text/plain": [
       "           (Intercept) education income\n",
       "accountant 1           86        62    \n",
       "pilot      1           76        72    \n",
       "architect  1           92        75    \n",
       "author     1           90        55    \n",
       "chemist    1           86        64    \n",
       "minister   1           84        21    "
      ]
     },
     "metadata": {},
     "output_type": "display_data"
    }
   ],
   "source": [
    "## The model matrix [1,X]:\n",
    "head(model.matrix(my.mod))"
   ]
  },
  {
   "cell_type": "code",
   "execution_count": 19,
   "metadata": {
    "collapsed": false
   },
   "outputs": [
    {
     "data": {
      "text/html": [
       "<table>\n",
       "<thead><tr><th></th><th scope=col>(Intercept)</th><th scope=col>education</th><th scope=col>income</th></tr></thead>\n",
       "<tbody>\n",
       "\t<tr><th scope=row>accountant</th><td>1  </td><td> 86</td><td>62 </td></tr>\n",
       "\t<tr><th scope=row>pilot</th><td>1  </td><td> 76</td><td>72 </td></tr>\n",
       "\t<tr><th scope=row>architect</th><td>1  </td><td> 92</td><td>75 </td></tr>\n",
       "\t<tr><th scope=row>author</th><td>1  </td><td> 90</td><td>55 </td></tr>\n",
       "\t<tr><th scope=row>chemist</th><td>1  </td><td> 86</td><td>64 </td></tr>\n",
       "\t<tr><th scope=row>minister</th><td>1  </td><td> 84</td><td>21 </td></tr>\n",
       "\t<tr><th scope=row>professor</th><td>1  </td><td> 93</td><td>64 </td></tr>\n",
       "\t<tr><th scope=row>dentist</th><td>1  </td><td>100</td><td>80 </td></tr>\n",
       "\t<tr><th scope=row>reporter</th><td>1  </td><td> 87</td><td>67 </td></tr>\n",
       "\t<tr><th scope=row>engineer</th><td>1  </td><td> 86</td><td>72 </td></tr>\n",
       "\t<tr><th scope=row>undertaker</th><td>1  </td><td> 74</td><td>42 </td></tr>\n",
       "\t<tr><th scope=row>lawyer</th><td>1  </td><td> 98</td><td>76 </td></tr>\n",
       "\t<tr><th scope=row>physician</th><td>1  </td><td> 97</td><td>76 </td></tr>\n",
       "\t<tr><th scope=row>welfare.worker</th><td>1  </td><td> 84</td><td>41 </td></tr>\n",
       "\t<tr><th scope=row>teacher</th><td>1  </td><td> 91</td><td>48 </td></tr>\n",
       "\t<tr><th scope=row>conductor</th><td>1  </td><td> 34</td><td>76 </td></tr>\n",
       "\t<tr><th scope=row>contractor</th><td>1  </td><td> 45</td><td>53 </td></tr>\n",
       "\t<tr><th scope=row>factory.owner</th><td>1  </td><td> 56</td><td>60 </td></tr>\n",
       "\t<tr><th scope=row>store.manager</th><td>1  </td><td> 44</td><td>42 </td></tr>\n",
       "\t<tr><th scope=row>banker</th><td>1  </td><td> 82</td><td>78 </td></tr>\n",
       "\t<tr><th scope=row>bookkeeper</th><td>1  </td><td> 72</td><td>29 </td></tr>\n",
       "\t<tr><th scope=row>mail.carrier</th><td>1  </td><td> 55</td><td>48 </td></tr>\n",
       "\t<tr><th scope=row>insurance.agent</th><td>1  </td><td> 71</td><td>55 </td></tr>\n",
       "\t<tr><th scope=row>store.clerk</th><td>1  </td><td> 50</td><td>29 </td></tr>\n",
       "\t<tr><th scope=row>carpenter</th><td>1  </td><td> 23</td><td>21 </td></tr>\n",
       "\t<tr><th scope=row>electrician</th><td>1  </td><td> 39</td><td>47 </td></tr>\n",
       "\t<tr><th scope=row>RR.engineer</th><td>1  </td><td> 28</td><td>81 </td></tr>\n",
       "\t<tr><th scope=row>machinist</th><td>1  </td><td> 32</td><td>36 </td></tr>\n",
       "\t<tr><th scope=row>auto.repairman</th><td>1  </td><td> 22</td><td>22 </td></tr>\n",
       "\t<tr><th scope=row>plumber</th><td>1  </td><td> 25</td><td>44 </td></tr>\n",
       "\t<tr><th scope=row>gas.stn.attendant</th><td>1  </td><td> 29</td><td>15 </td></tr>\n",
       "\t<tr><th scope=row>coal.miner</th><td>1  </td><td>  7</td><td> 7 </td></tr>\n",
       "\t<tr><th scope=row>streetcar.motorman</th><td>1  </td><td> 26</td><td>42 </td></tr>\n",
       "\t<tr><th scope=row>taxi.driver</th><td>1  </td><td> 19</td><td> 9 </td></tr>\n",
       "\t<tr><th scope=row>truck.driver</th><td>1  </td><td> 15</td><td>21 </td></tr>\n",
       "\t<tr><th scope=row>machine.operator</th><td>1  </td><td> 20</td><td>21 </td></tr>\n",
       "\t<tr><th scope=row>barber</th><td>1  </td><td> 26</td><td>16 </td></tr>\n",
       "\t<tr><th scope=row>bartender</th><td>1  </td><td> 28</td><td>16 </td></tr>\n",
       "\t<tr><th scope=row>shoe.shiner</th><td>1  </td><td> 17</td><td> 9 </td></tr>\n",
       "\t<tr><th scope=row>cook</th><td>1  </td><td> 22</td><td>14 </td></tr>\n",
       "\t<tr><th scope=row>soda.clerk</th><td>1  </td><td> 30</td><td>12 </td></tr>\n",
       "\t<tr><th scope=row>watchman</th><td>1  </td><td> 25</td><td>17 </td></tr>\n",
       "\t<tr><th scope=row>janitor</th><td>1  </td><td> 20</td><td> 7 </td></tr>\n",
       "\t<tr><th scope=row>policeman</th><td>1  </td><td> 47</td><td>34 </td></tr>\n",
       "\t<tr><th scope=row>waiter</th><td>1  </td><td> 32</td><td> 8 </td></tr>\n",
       "</tbody>\n",
       "</table>\n"
      ],
      "text/latex": [
       "\\begin{tabular}{r|lll}\n",
       "  & (Intercept) & education & income\\\\\n",
       "\\hline\n",
       "\taccountant & 1   &  86 & 62 \\\\\n",
       "\tpilot & 1   &  76 & 72 \\\\\n",
       "\tarchitect & 1   &  92 & 75 \\\\\n",
       "\tauthor & 1   &  90 & 55 \\\\\n",
       "\tchemist & 1   &  86 & 64 \\\\\n",
       "\tminister & 1   &  84 & 21 \\\\\n",
       "\tprofessor & 1   &  93 & 64 \\\\\n",
       "\tdentist & 1   & 100 & 80 \\\\\n",
       "\treporter & 1   &  87 & 67 \\\\\n",
       "\tengineer & 1   &  86 & 72 \\\\\n",
       "\tundertaker & 1   &  74 & 42 \\\\\n",
       "\tlawyer & 1   &  98 & 76 \\\\\n",
       "\tphysician & 1   &  97 & 76 \\\\\n",
       "\twelfare.worker & 1   &  84 & 41 \\\\\n",
       "\tteacher & 1   &  91 & 48 \\\\\n",
       "\tconductor & 1   &  34 & 76 \\\\\n",
       "\tcontractor & 1   &  45 & 53 \\\\\n",
       "\tfactory.owner & 1   &  56 & 60 \\\\\n",
       "\tstore.manager & 1   &  44 & 42 \\\\\n",
       "\tbanker & 1   &  82 & 78 \\\\\n",
       "\tbookkeeper & 1   &  72 & 29 \\\\\n",
       "\tmail.carrier & 1   &  55 & 48 \\\\\n",
       "\tinsurance.agent & 1   &  71 & 55 \\\\\n",
       "\tstore.clerk & 1   &  50 & 29 \\\\\n",
       "\tcarpenter & 1   &  23 & 21 \\\\\n",
       "\telectrician & 1   &  39 & 47 \\\\\n",
       "\tRR.engineer & 1   &  28 & 81 \\\\\n",
       "\tmachinist & 1   &  32 & 36 \\\\\n",
       "\tauto.repairman & 1   &  22 & 22 \\\\\n",
       "\tplumber & 1   &  25 & 44 \\\\\n",
       "\tgas.stn.attendant & 1   &  29 & 15 \\\\\n",
       "\tcoal.miner & 1   &   7 &  7 \\\\\n",
       "\tstreetcar.motorman & 1   &  26 & 42 \\\\\n",
       "\ttaxi.driver & 1   &  19 &  9 \\\\\n",
       "\ttruck.driver & 1   &  15 & 21 \\\\\n",
       "\tmachine.operator & 1   &  20 & 21 \\\\\n",
       "\tbarber & 1   &  26 & 16 \\\\\n",
       "\tbartender & 1   &  28 & 16 \\\\\n",
       "\tshoe.shiner & 1   &  17 &  9 \\\\\n",
       "\tcook & 1   &  22 & 14 \\\\\n",
       "\tsoda.clerk & 1   &  30 & 12 \\\\\n",
       "\twatchman & 1   &  25 & 17 \\\\\n",
       "\tjanitor & 1   &  20 &  7 \\\\\n",
       "\tpoliceman & 1   &  47 & 34 \\\\\n",
       "\twaiter & 1   &  32 &  8 \\\\\n",
       "\\end{tabular}\n"
      ],
      "text/markdown": [
       "\n",
       "| <!--/--> | (Intercept) | education | income | \n",
       "|---|---|---|---|---|---|---|---|---|---|---|---|---|---|---|---|---|---|---|---|---|---|---|---|---|---|---|---|---|---|---|---|---|---|---|---|---|---|---|---|---|---|---|---|---|\n",
       "| accountant | 1   |  86 | 62  | \n",
       "| pilot | 1   |  76 | 72  | \n",
       "| architect | 1   |  92 | 75  | \n",
       "| author | 1   |  90 | 55  | \n",
       "| chemist | 1   |  86 | 64  | \n",
       "| minister | 1   |  84 | 21  | \n",
       "| professor | 1   |  93 | 64  | \n",
       "| dentist | 1   | 100 | 80  | \n",
       "| reporter | 1   |  87 | 67  | \n",
       "| engineer | 1   |  86 | 72  | \n",
       "| undertaker | 1   |  74 | 42  | \n",
       "| lawyer | 1   |  98 | 76  | \n",
       "| physician | 1   |  97 | 76  | \n",
       "| welfare.worker | 1   |  84 | 41  | \n",
       "| teacher | 1   |  91 | 48  | \n",
       "| conductor | 1   |  34 | 76  | \n",
       "| contractor | 1   |  45 | 53  | \n",
       "| factory.owner | 1   |  56 | 60  | \n",
       "| store.manager | 1   |  44 | 42  | \n",
       "| banker | 1   |  82 | 78  | \n",
       "| bookkeeper | 1   |  72 | 29  | \n",
       "| mail.carrier | 1   |  55 | 48  | \n",
       "| insurance.agent | 1   |  71 | 55  | \n",
       "| store.clerk | 1   |  50 | 29  | \n",
       "| carpenter | 1   |  23 | 21  | \n",
       "| electrician | 1   |  39 | 47  | \n",
       "| RR.engineer | 1   |  28 | 81  | \n",
       "| machinist | 1   |  32 | 36  | \n",
       "| auto.repairman | 1   |  22 | 22  | \n",
       "| plumber | 1   |  25 | 44  | \n",
       "| gas.stn.attendant | 1   |  29 | 15  | \n",
       "| coal.miner | 1   |   7 |  7  | \n",
       "| streetcar.motorman | 1   |  26 | 42  | \n",
       "| taxi.driver | 1   |  19 |  9  | \n",
       "| truck.driver | 1   |  15 | 21  | \n",
       "| machine.operator | 1   |  20 | 21  | \n",
       "| barber | 1   |  26 | 16  | \n",
       "| bartender | 1   |  28 | 16  | \n",
       "| shoe.shiner | 1   |  17 |  9  | \n",
       "| cook | 1   |  22 | 14  | \n",
       "| soda.clerk | 1   |  30 | 12  | \n",
       "| watchman | 1   |  25 | 17  | \n",
       "| janitor | 1   |  20 |  7  | \n",
       "| policeman | 1   |  47 | 34  | \n",
       "| waiter | 1   |  32 |  8  | \n",
       "\n",
       "\n"
      ],
      "text/plain": [
       "                   (Intercept) education income\n",
       "accountant         1            86       62    \n",
       "pilot              1            76       72    \n",
       "architect          1            92       75    \n",
       "author             1            90       55    \n",
       "chemist            1            86       64    \n",
       "minister           1            84       21    \n",
       "professor          1            93       64    \n",
       "dentist            1           100       80    \n",
       "reporter           1            87       67    \n",
       "engineer           1            86       72    \n",
       "undertaker         1            74       42    \n",
       "lawyer             1            98       76    \n",
       "physician          1            97       76    \n",
       "welfare.worker     1            84       41    \n",
       "teacher            1            91       48    \n",
       "conductor          1            34       76    \n",
       "contractor         1            45       53    \n",
       "factory.owner      1            56       60    \n",
       "store.manager      1            44       42    \n",
       "banker             1            82       78    \n",
       "bookkeeper         1            72       29    \n",
       "mail.carrier       1            55       48    \n",
       "insurance.agent    1            71       55    \n",
       "store.clerk        1            50       29    \n",
       "carpenter          1            23       21    \n",
       "electrician        1            39       47    \n",
       "RR.engineer        1            28       81    \n",
       "machinist          1            32       36    \n",
       "auto.repairman     1            22       22    \n",
       "plumber            1            25       44    \n",
       "gas.stn.attendant  1            29       15    \n",
       "coal.miner         1             7        7    \n",
       "streetcar.motorman 1            26       42    \n",
       "taxi.driver        1            19        9    \n",
       "truck.driver       1            15       21    \n",
       "machine.operator   1            20       21    \n",
       "barber             1            26       16    \n",
       "bartender          1            28       16    \n",
       "shoe.shiner        1            17        9    \n",
       "cook               1            22       14    \n",
       "soda.clerk         1            30       12    \n",
       "watchman           1            25       17    \n",
       "janitor            1            20        7    \n",
       "policeman          1            47       34    \n",
       "waiter             1            32        8    "
      ]
     },
     "metadata": {},
     "output_type": "display_data"
    },
    {
     "data": {
      "text/html": [
       "<table>\n",
       "<thead><tr><th></th><th scope=col>type</th><th scope=col>income</th><th scope=col>education</th><th scope=col>prestige</th></tr></thead>\n",
       "<tbody>\n",
       "\t<tr><th scope=row>accountant</th><td>prof</td><td>62  </td><td> 86 </td><td>82  </td></tr>\n",
       "\t<tr><th scope=row>pilot</th><td>prof</td><td>72  </td><td> 76 </td><td>83  </td></tr>\n",
       "\t<tr><th scope=row>architect</th><td>prof</td><td>75  </td><td> 92 </td><td>90  </td></tr>\n",
       "\t<tr><th scope=row>author</th><td>prof</td><td>55  </td><td> 90 </td><td>76  </td></tr>\n",
       "\t<tr><th scope=row>chemist</th><td>prof</td><td>64  </td><td> 86 </td><td>90  </td></tr>\n",
       "\t<tr><th scope=row>minister</th><td>prof</td><td>21  </td><td> 84 </td><td>87  </td></tr>\n",
       "\t<tr><th scope=row>professor</th><td>prof</td><td>64  </td><td> 93 </td><td>93  </td></tr>\n",
       "\t<tr><th scope=row>dentist</th><td>prof</td><td>80  </td><td>100 </td><td>90  </td></tr>\n",
       "\t<tr><th scope=row>reporter</th><td>wc  </td><td>67  </td><td> 87 </td><td>52  </td></tr>\n",
       "\t<tr><th scope=row>engineer</th><td>prof</td><td>72  </td><td> 86 </td><td>88  </td></tr>\n",
       "\t<tr><th scope=row>undertaker</th><td>prof</td><td>42  </td><td> 74 </td><td>57  </td></tr>\n",
       "\t<tr><th scope=row>lawyer</th><td>prof</td><td>76  </td><td> 98 </td><td>89  </td></tr>\n",
       "\t<tr><th scope=row>physician</th><td>prof</td><td>76  </td><td> 97 </td><td>97  </td></tr>\n",
       "\t<tr><th scope=row>welfare.worker</th><td>prof</td><td>41  </td><td> 84 </td><td>59  </td></tr>\n",
       "\t<tr><th scope=row>teacher</th><td>prof</td><td>48  </td><td> 91 </td><td>73  </td></tr>\n",
       "\t<tr><th scope=row>conductor</th><td>wc  </td><td>76  </td><td> 34 </td><td>38  </td></tr>\n",
       "\t<tr><th scope=row>contractor</th><td>prof</td><td>53  </td><td> 45 </td><td>76  </td></tr>\n",
       "\t<tr><th scope=row>factory.owner</th><td>prof</td><td>60  </td><td> 56 </td><td>81  </td></tr>\n",
       "\t<tr><th scope=row>store.manager</th><td>prof</td><td>42  </td><td> 44 </td><td>45  </td></tr>\n",
       "\t<tr><th scope=row>banker</th><td>prof</td><td>78  </td><td> 82 </td><td>92  </td></tr>\n",
       "\t<tr><th scope=row>bookkeeper</th><td>wc  </td><td>29  </td><td> 72 </td><td>39  </td></tr>\n",
       "\t<tr><th scope=row>mail.carrier</th><td>wc  </td><td>48  </td><td> 55 </td><td>34  </td></tr>\n",
       "\t<tr><th scope=row>insurance.agent</th><td>wc  </td><td>55  </td><td> 71 </td><td>41  </td></tr>\n",
       "\t<tr><th scope=row>store.clerk</th><td>wc  </td><td>29  </td><td> 50 </td><td>16  </td></tr>\n",
       "\t<tr><th scope=row>carpenter</th><td>bc  </td><td>21  </td><td> 23 </td><td>33  </td></tr>\n",
       "\t<tr><th scope=row>electrician</th><td>bc  </td><td>47  </td><td> 39 </td><td>53  </td></tr>\n",
       "\t<tr><th scope=row>RR.engineer</th><td>bc  </td><td>81  </td><td> 28 </td><td>67  </td></tr>\n",
       "\t<tr><th scope=row>machinist</th><td>bc  </td><td>36  </td><td> 32 </td><td>57  </td></tr>\n",
       "\t<tr><th scope=row>auto.repairman</th><td>bc  </td><td>22  </td><td> 22 </td><td>26  </td></tr>\n",
       "\t<tr><th scope=row>plumber</th><td>bc  </td><td>44  </td><td> 25 </td><td>29  </td></tr>\n",
       "\t<tr><th scope=row>gas.stn.attendant</th><td>bc  </td><td>15  </td><td> 29 </td><td>10  </td></tr>\n",
       "\t<tr><th scope=row>coal.miner</th><td>bc  </td><td> 7  </td><td>  7 </td><td>15  </td></tr>\n",
       "\t<tr><th scope=row>streetcar.motorman</th><td>bc  </td><td>42  </td><td> 26 </td><td>19  </td></tr>\n",
       "\t<tr><th scope=row>taxi.driver</th><td>bc  </td><td> 9  </td><td> 19 </td><td>10  </td></tr>\n",
       "\t<tr><th scope=row>truck.driver</th><td>bc  </td><td>21  </td><td> 15 </td><td>13  </td></tr>\n",
       "\t<tr><th scope=row>machine.operator</th><td>bc  </td><td>21  </td><td> 20 </td><td>24  </td></tr>\n",
       "\t<tr><th scope=row>barber</th><td>bc  </td><td>16  </td><td> 26 </td><td>20  </td></tr>\n",
       "\t<tr><th scope=row>bartender</th><td>bc  </td><td>16  </td><td> 28 </td><td> 7  </td></tr>\n",
       "\t<tr><th scope=row>shoe.shiner</th><td>bc  </td><td> 9  </td><td> 17 </td><td> 3  </td></tr>\n",
       "\t<tr><th scope=row>cook</th><td>bc  </td><td>14  </td><td> 22 </td><td>16  </td></tr>\n",
       "\t<tr><th scope=row>soda.clerk</th><td>bc  </td><td>12  </td><td> 30 </td><td> 6  </td></tr>\n",
       "\t<tr><th scope=row>watchman</th><td>bc  </td><td>17  </td><td> 25 </td><td>11  </td></tr>\n",
       "\t<tr><th scope=row>janitor</th><td>bc  </td><td> 7  </td><td> 20 </td><td> 8  </td></tr>\n",
       "\t<tr><th scope=row>policeman</th><td>bc  </td><td>34  </td><td> 47 </td><td>41  </td></tr>\n",
       "\t<tr><th scope=row>waiter</th><td>bc  </td><td> 8  </td><td> 32 </td><td>10  </td></tr>\n",
       "</tbody>\n",
       "</table>\n"
      ],
      "text/latex": [
       "\\begin{tabular}{r|llll}\n",
       "  & type & income & education & prestige\\\\\n",
       "\\hline\n",
       "\taccountant & prof & 62   &  86  & 82  \\\\\n",
       "\tpilot & prof & 72   &  76  & 83  \\\\\n",
       "\tarchitect & prof & 75   &  92  & 90  \\\\\n",
       "\tauthor & prof & 55   &  90  & 76  \\\\\n",
       "\tchemist & prof & 64   &  86  & 90  \\\\\n",
       "\tminister & prof & 21   &  84  & 87  \\\\\n",
       "\tprofessor & prof & 64   &  93  & 93  \\\\\n",
       "\tdentist & prof & 80   & 100  & 90  \\\\\n",
       "\treporter & wc   & 67   &  87  & 52  \\\\\n",
       "\tengineer & prof & 72   &  86  & 88  \\\\\n",
       "\tundertaker & prof & 42   &  74  & 57  \\\\\n",
       "\tlawyer & prof & 76   &  98  & 89  \\\\\n",
       "\tphysician & prof & 76   &  97  & 97  \\\\\n",
       "\twelfare.worker & prof & 41   &  84  & 59  \\\\\n",
       "\tteacher & prof & 48   &  91  & 73  \\\\\n",
       "\tconductor & wc   & 76   &  34  & 38  \\\\\n",
       "\tcontractor & prof & 53   &  45  & 76  \\\\\n",
       "\tfactory.owner & prof & 60   &  56  & 81  \\\\\n",
       "\tstore.manager & prof & 42   &  44  & 45  \\\\\n",
       "\tbanker & prof & 78   &  82  & 92  \\\\\n",
       "\tbookkeeper & wc   & 29   &  72  & 39  \\\\\n",
       "\tmail.carrier & wc   & 48   &  55  & 34  \\\\\n",
       "\tinsurance.agent & wc   & 55   &  71  & 41  \\\\\n",
       "\tstore.clerk & wc   & 29   &  50  & 16  \\\\\n",
       "\tcarpenter & bc   & 21   &  23  & 33  \\\\\n",
       "\telectrician & bc   & 47   &  39  & 53  \\\\\n",
       "\tRR.engineer & bc   & 81   &  28  & 67  \\\\\n",
       "\tmachinist & bc   & 36   &  32  & 57  \\\\\n",
       "\tauto.repairman & bc   & 22   &  22  & 26  \\\\\n",
       "\tplumber & bc   & 44   &  25  & 29  \\\\\n",
       "\tgas.stn.attendant & bc   & 15   &  29  & 10  \\\\\n",
       "\tcoal.miner & bc   &  7   &   7  & 15  \\\\\n",
       "\tstreetcar.motorman & bc   & 42   &  26  & 19  \\\\\n",
       "\ttaxi.driver & bc   &  9   &  19  & 10  \\\\\n",
       "\ttruck.driver & bc   & 21   &  15  & 13  \\\\\n",
       "\tmachine.operator & bc   & 21   &  20  & 24  \\\\\n",
       "\tbarber & bc   & 16   &  26  & 20  \\\\\n",
       "\tbartender & bc   & 16   &  28  &  7  \\\\\n",
       "\tshoe.shiner & bc   &  9   &  17  &  3  \\\\\n",
       "\tcook & bc   & 14   &  22  & 16  \\\\\n",
       "\tsoda.clerk & bc   & 12   &  30  &  6  \\\\\n",
       "\twatchman & bc   & 17   &  25  & 11  \\\\\n",
       "\tjanitor & bc   &  7   &  20  &  8  \\\\\n",
       "\tpoliceman & bc   & 34   &  47  & 41  \\\\\n",
       "\twaiter & bc   &  8   &  32  & 10  \\\\\n",
       "\\end{tabular}\n"
      ],
      "text/markdown": [
       "\n",
       "| <!--/--> | type | income | education | prestige | \n",
       "|---|---|---|---|---|---|---|---|---|---|---|---|---|---|---|---|---|---|---|---|---|---|---|---|---|---|---|---|---|---|---|---|---|---|---|---|---|---|---|---|---|---|---|---|---|\n",
       "| accountant | prof | 62   |  86  | 82   | \n",
       "| pilot | prof | 72   |  76  | 83   | \n",
       "| architect | prof | 75   |  92  | 90   | \n",
       "| author | prof | 55   |  90  | 76   | \n",
       "| chemist | prof | 64   |  86  | 90   | \n",
       "| minister | prof | 21   |  84  | 87   | \n",
       "| professor | prof | 64   |  93  | 93   | \n",
       "| dentist | prof | 80   | 100  | 90   | \n",
       "| reporter | wc   | 67   |  87  | 52   | \n",
       "| engineer | prof | 72   |  86  | 88   | \n",
       "| undertaker | prof | 42   |  74  | 57   | \n",
       "| lawyer | prof | 76   |  98  | 89   | \n",
       "| physician | prof | 76   |  97  | 97   | \n",
       "| welfare.worker | prof | 41   |  84  | 59   | \n",
       "| teacher | prof | 48   |  91  | 73   | \n",
       "| conductor | wc   | 76   |  34  | 38   | \n",
       "| contractor | prof | 53   |  45  | 76   | \n",
       "| factory.owner | prof | 60   |  56  | 81   | \n",
       "| store.manager | prof | 42   |  44  | 45   | \n",
       "| banker | prof | 78   |  82  | 92   | \n",
       "| bookkeeper | wc   | 29   |  72  | 39   | \n",
       "| mail.carrier | wc   | 48   |  55  | 34   | \n",
       "| insurance.agent | wc   | 55   |  71  | 41   | \n",
       "| store.clerk | wc   | 29   |  50  | 16   | \n",
       "| carpenter | bc   | 21   |  23  | 33   | \n",
       "| electrician | bc   | 47   |  39  | 53   | \n",
       "| RR.engineer | bc   | 81   |  28  | 67   | \n",
       "| machinist | bc   | 36   |  32  | 57   | \n",
       "| auto.repairman | bc   | 22   |  22  | 26   | \n",
       "| plumber | bc   | 44   |  25  | 29   | \n",
       "| gas.stn.attendant | bc   | 15   |  29  | 10   | \n",
       "| coal.miner | bc   |  7   |   7  | 15   | \n",
       "| streetcar.motorman | bc   | 42   |  26  | 19   | \n",
       "| taxi.driver | bc   |  9   |  19  | 10   | \n",
       "| truck.driver | bc   | 21   |  15  | 13   | \n",
       "| machine.operator | bc   | 21   |  20  | 24   | \n",
       "| barber | bc   | 16   |  26  | 20   | \n",
       "| bartender | bc   | 16   |  28  |  7   | \n",
       "| shoe.shiner | bc   |  9   |  17  |  3   | \n",
       "| cook | bc   | 14   |  22  | 16   | \n",
       "| soda.clerk | bc   | 12   |  30  |  6   | \n",
       "| watchman | bc   | 17   |  25  | 11   | \n",
       "| janitor | bc   |  7   |  20  |  8   | \n",
       "| policeman | bc   | 34   |  47  | 41   | \n",
       "| waiter | bc   |  8   |  32  | 10   | \n",
       "\n",
       "\n"
      ],
      "text/plain": [
       "                   type income education prestige\n",
       "accountant         prof 62      86       82      \n",
       "pilot              prof 72      76       83      \n",
       "architect          prof 75      92       90      \n",
       "author             prof 55      90       76      \n",
       "chemist            prof 64      86       90      \n",
       "minister           prof 21      84       87      \n",
       "professor          prof 64      93       93      \n",
       "dentist            prof 80     100       90      \n",
       "reporter           wc   67      87       52      \n",
       "engineer           prof 72      86       88      \n",
       "undertaker         prof 42      74       57      \n",
       "lawyer             prof 76      98       89      \n",
       "physician          prof 76      97       97      \n",
       "welfare.worker     prof 41      84       59      \n",
       "teacher            prof 48      91       73      \n",
       "conductor          wc   76      34       38      \n",
       "contractor         prof 53      45       76      \n",
       "factory.owner      prof 60      56       81      \n",
       "store.manager      prof 42      44       45      \n",
       "banker             prof 78      82       92      \n",
       "bookkeeper         wc   29      72       39      \n",
       "mail.carrier       wc   48      55       34      \n",
       "insurance.agent    wc   55      71       41      \n",
       "store.clerk        wc   29      50       16      \n",
       "carpenter          bc   21      23       33      \n",
       "electrician        bc   47      39       53      \n",
       "RR.engineer        bc   81      28       67      \n",
       "machinist          bc   36      32       57      \n",
       "auto.repairman     bc   22      22       26      \n",
       "plumber            bc   44      25       29      \n",
       "gas.stn.attendant  bc   15      29       10      \n",
       "coal.miner         bc    7       7       15      \n",
       "streetcar.motorman bc   42      26       19      \n",
       "taxi.driver        bc    9      19       10      \n",
       "truck.driver       bc   21      15       13      \n",
       "machine.operator   bc   21      20       24      \n",
       "barber             bc   16      26       20      \n",
       "bartender          bc   16      28        7      \n",
       "shoe.shiner        bc    9      17        3      \n",
       "cook               bc   14      22       16      \n",
       "soda.clerk         bc   12      30        6      \n",
       "watchman           bc   17      25       11      \n",
       "janitor            bc    7      20        8      \n",
       "policeman          bc   34      47       41      \n",
       "waiter             bc    8      32       10      "
      ]
     },
     "metadata": {},
     "output_type": "display_data"
    }
   ],
   "source": [
    "## so you can see everything\n",
    "model.matrix(my.mod)\n",
    "Duncan"
   ]
  },
  {
   "cell_type": "code",
   "execution_count": null,
   "metadata": {
    "collapsed": true
   },
   "outputs": [],
   "source": []
  },
  {
   "cell_type": "code",
   "execution_count": 20,
   "metadata": {
    "collapsed": false
   },
   "outputs": [
    {
     "data": {
      "image/png": "[encoded data removed]",
      "text/plain": [
       "plot without title"
      ]
     },
     "metadata": {},
     "output_type": "display_data"
    }
   ],
   "source": [
    "#######################\n",
    "## 2) F distribution ##\n",
    "#######################\n",
    "\n",
    "## Let's start off with a quick demonstration of what the F\n",
    "## distribution looks like for some parameters:\n",
    "\n",
    "curve(df(x=x,df1=5,df2=200), from=0, to=15, col=\"chocolate\", lwd=2)\n",
    "\n"
   ]
  },
  {
   "cell_type": "code",
   "execution_count": 21,
   "metadata": {
    "collapsed": false
   },
   "outputs": [
    {
     "data": {
      "text/html": [
       "0.919823362845736"
      ],
      "text/latex": [
       "0.919823362845736"
      ],
      "text/markdown": [
       "0.919823362845736"
      ],
      "text/plain": [
       "[1] 0.9198234"
      ]
     },
     "metadata": {},
     "output_type": "display_data"
    },
    {
     "data": {
      "text/html": [
       "0.0801766371542645"
      ],
      "text/latex": [
       "0.0801766371542645"
      ],
      "text/markdown": [
       "0.0801766371542645"
      ],
      "text/plain": [
       "[1] 0.08017664"
      ]
     },
     "metadata": {},
     "output_type": "display_data"
    }
   ],
   "source": [
    "## We can use the same pXXXX functions from the normal and t\n",
    "## with the F:\n",
    "\n",
    "pf(q=2, df1=5, df2=200)\n",
    "pf(q=2, df1=5, df2=200, lower.tail=FALSE)"
   ]
  },
  {
   "cell_type": "code",
   "execution_count": 22,
   "metadata": {
    "collapsed": false
   },
   "outputs": [
    {
     "data": {
      "text/html": [
       "2.25923652966613"
      ],
      "text/latex": [
       "2.25923652966613"
      ],
      "text/markdown": [
       "2.25923652966613"
      ],
      "text/plain": [
       "[1] 2.259237"
      ]
     },
     "metadata": {},
     "output_type": "display_data"
    },
    {
     "data": {
      "text/html": [
       "2.25923652966613"
      ],
      "text/latex": [
       "2.25923652966613"
      ],
      "text/markdown": [
       "2.25923652966613"
      ],
      "text/plain": [
       "[1] 2.259237"
      ]
     },
     "metadata": {},
     "output_type": "display_data"
    }
   ],
   "source": [
    "\t## if lower.tail = T, probabilities are P[X <= x], otherwise, P[X > x]\n",
    "\n",
    "## We can also use the qXXXX functions to find the point where\n",
    "## x% of the distribution is higher or lower:\n",
    "\n",
    "qf(p=0.95, df1=5, df2=200)\n",
    "## or\n",
    "qf(p=0.05,  df1=5, df2=200, lower.tail=FALSE)"
   ]
  },
  {
   "cell_type": "code",
   "execution_count": 23,
   "metadata": {
    "collapsed": false
   },
   "outputs": [
    {
     "data": {
      "image/png": "[encoded data removed]",
      "text/plain": [
       "plot without title"
      ]
     },
     "metadata": {},
     "output_type": "display_data"
    }
   ],
   "source": [
    "curve(df(x=x,df1=5,df2=200), from=0, to=15, col=\"chocolate\", lwd=2)\n",
    "abline(v=qf(p=0.95, df1=5, df2=200), lwd=2)\n"
   ]
  },
  {
   "cell_type": "code",
   "execution_count": null,
   "metadata": {
    "collapsed": true
   },
   "outputs": [],
   "source": []
  },
  {
   "cell_type": "code",
   "execution_count": 24,
   "metadata": {
    "collapsed": false
   },
   "outputs": [
    {
     "data": {
      "text/plain": [
       "\n",
       "Call:\n",
       "lm(formula = prestige ~ education + income, data = Duncan)\n",
       "\n",
       "Residuals:\n",
       "    Min      1Q  Median      3Q     Max \n",
       "-29.538  -6.417   0.655   6.605  34.641 \n",
       "\n",
       "Coefficients:\n",
       "            Estimate Std. Error t value Pr(>|t|)    \n",
       "(Intercept) -6.06466    4.27194  -1.420    0.163    \n",
       "education    0.54583    0.09825   5.555 1.73e-06 ***\n",
       "income       0.59873    0.11967   5.003 1.05e-05 ***\n",
       "---\n",
       "Signif. codes:  0 '***' 0.001 '**' 0.01 '*' 0.05 '.' 0.1 ' ' 1\n",
       "\n",
       "Residual standard error: 13.37 on 42 degrees of freedom\n",
       "Multiple R-squared:  0.8282,\tAdjusted R-squared:   0.82 \n",
       "F-statistic: 101.2 on 2 and 42 DF,  p-value: < 2.2e-16\n"
      ]
     },
     "metadata": {},
     "output_type": "display_data"
    }
   ],
   "source": [
    "## We can do F-tests in R a few different ways.\n",
    "\n",
    "#######################\n",
    "## 2) F Omnibus test ##\n",
    "#######################\n",
    "\n",
    "## A special case of the F-test that is often used is the \"omnibus\" test\n",
    "## of all of the variables in the regression. R (and most other\n",
    "## software packages) gives you this in the regression output:\n",
    "\n",
    "lm.out <- lm(prestige ~ education + income, data=Duncan)\n",
    "summary(lm.out)"
   ]
  },
  {
   "cell_type": "code",
   "execution_count": 25,
   "metadata": {
    "collapsed": false
   },
   "outputs": [
    {
     "data": {
      "image/png": "[encoded data removed]",
      "text/plain": [
       "plot without title"
      ]
     },
     "metadata": {},
     "output_type": "display_data"
    }
   ],
   "source": [
    "## We can plot this test-statistic against its null distribution\n",
    "## and we can see that it is very unlikely.\n",
    "\n",
    "curve(df(x, 2, 42), from=0, to=110, col=\"chocolate\")\n",
    "abline(v=summary(lm.out)$fstatistic[1])"
   ]
  },
  {
   "cell_type": "code",
   "execution_count": 26,
   "metadata": {
    "collapsed": true
   },
   "outputs": [],
   "source": [
    "\t## extracting the omnibus f stat from the lm output\n",
    "\n",
    "## note that df1 = 2 (two restrictions)\n",
    "## and df2 = n-(k+1) -- > 45 - 2 - 1\n",
    "\n",
    "## We can also calculate the F-statistic \"manually.\"\n",
    "## We know from lecture that \n",
    "\n",
    "# F test stat = (RSSnull - RSSfull)/q _divided_ by RSSfull/n-(k+1)\n",
    "\n",
    "lm.null <- lm(prestige ~ 1, data = Duncan)\n",
    "\t## note that this is basically taking the mean of x\n",
    "lm.full <- lm(prestige ~ education + income, data = Duncan)\n",
    "\t## and this is the fullmodel"
   ]
  },
  {
   "cell_type": "code",
   "execution_count": 27,
   "metadata": {
    "collapsed": false
   },
   "outputs": [
    {
     "data": {
      "text/html": [
       "101.216246546028"
      ],
      "text/latex": [
       "101.216246546028"
      ],
      "text/markdown": [
       "101.216246546028"
      ],
      "text/plain": [
       "[1] 101.2162"
      ]
     },
     "metadata": {},
     "output_type": "display_data"
    },
    {
     "data": {
      "text/html": [
       "<strong>value:</strong> 101.216246546028"
      ],
      "text/latex": [
       "\\textbf{value:} 101.216246546028"
      ],
      "text/markdown": [
       "**value:** 101.216246546028"
      ],
      "text/plain": [
       "   value \n",
       "101.2162 "
      ]
     },
     "metadata": {},
     "output_type": "display_data"
    }
   ],
   "source": [
    "RSSnull <- sum(lm.null$residuals^2)\n",
    "RSSfull <- sum(lm.full$residuals^2)\n",
    "\n",
    "df1 <- length(lm.full$coef) - 1\n",
    "df2 <- nrow(model.matrix(lm.full)) - (length(lm.full$coef) -1 + 1)\n",
    "\n",
    "((RSSnull - RSSfull)/df1)/(RSSfull/df2)\n",
    "summary(lm.full)$fstatistic[1]\n",
    "\n",
    "## Ta da!"
   ]
  },
  {
   "cell_type": "code",
   "execution_count": 28,
   "metadata": {
    "collapsed": false
   },
   "outputs": [
    {
     "data": {
      "text/html": [
       "<table>\n",
       "<thead><tr><th scope=col>Res.Df</th><th scope=col>RSS</th><th scope=col>Df</th><th scope=col>Sum of Sq</th><th scope=col>F</th><th scope=col>Pr(&gt;F)</th></tr></thead>\n",
       "<tbody>\n",
       "\t<tr><td>44          </td><td>43687.644   </td><td>NA          </td><td>      NA    </td><td>      NA    </td><td>          NA</td></tr>\n",
       "\t<tr><td>42          </td><td> 7506.699   </td><td> 2          </td><td>36180.95    </td><td>101.2162    </td><td>8.647636e-17</td></tr>\n",
       "</tbody>\n",
       "</table>\n"
      ],
      "text/latex": [
       "\\begin{tabular}{r|llllll}\n",
       " Res.Df & RSS & Df & Sum of Sq & F & Pr(>F)\\\\\n",
       "\\hline\n",
       "\t 44           & 43687.644    & NA           &       NA     &       NA     &           NA\\\\\n",
       "\t 42           &  7506.699    &  2           & 36180.95     & 101.2162     & 8.647636e-17\\\\\n",
       "\\end{tabular}\n"
      ],
      "text/markdown": [
       "\n",
       "Res.Df | RSS | Df | Sum of Sq | F | Pr(>F) | \n",
       "|---|---|\n",
       "| 44           | 43687.644    | NA           |       NA     |       NA     |           NA | \n",
       "| 42           |  7506.699    |  2           | 36180.95     | 101.2162     | 8.647636e-17 | \n",
       "\n",
       "\n"
      ],
      "text/plain": [
       "  Res.Df RSS       Df Sum of Sq F        Pr(>F)      \n",
       "1 44     43687.644 NA       NA        NA           NA\n",
       "2 42      7506.699  2 36180.95  101.2162 8.647636e-17"
      ]
     },
     "metadata": {},
     "output_type": "display_data"
    },
    {
     "data": {
      "text/plain": [
       "\n",
       "Call:\n",
       "lm(formula = prestige ~ income + education, data = Duncan)\n",
       "\n",
       "Residuals:\n",
       "    Min      1Q  Median      3Q     Max \n",
       "-29.538  -6.417   0.655   6.605  34.641 \n",
       "\n",
       "Coefficients:\n",
       "            Estimate Std. Error t value Pr(>|t|)    \n",
       "(Intercept) -6.06466    4.27194  -1.420    0.163    \n",
       "income       0.59873    0.11967   5.003 1.05e-05 ***\n",
       "education    0.54583    0.09825   5.555 1.73e-06 ***\n",
       "---\n",
       "Signif. codes:  0 '***' 0.001 '**' 0.01 '*' 0.05 '.' 0.1 ' ' 1\n",
       "\n",
       "Residual standard error: 13.37 on 42 degrees of freedom\n",
       "Multiple R-squared:  0.8282,\tAdjusted R-squared:   0.82 \n",
       "F-statistic: 101.2 on 2 and 42 DF,  p-value: < 2.2e-16\n"
      ]
     },
     "metadata": {},
     "output_type": "display_data"
    }
   ],
   "source": [
    "#########################################\n",
    "## 2) F General Linear Hypothesis Test ##\n",
    "#########################################\n",
    "\n",
    "## general linear hypothesis tests are more complicated.\n",
    "## You'll be writing a function that does this in your pset.\n",
    "\n",
    "## let's take a break to discuss\n",
    "\n",
    "## One function that will help is \n",
    "## linear.hypothesis() in the car library\n",
    "\n",
    "## linear.hypothesis() permits a broad set of restrictions.  \n",
    "## hint: you can\n",
    "\n",
    "\n",
    "lm.out <- lm(prestige ~ income + education, data=Duncan)\n",
    "linearHypothesis(lm.out, matrix(c(0,1,0,0,0,1),2,3, byrow=T), rhs=c(0,0))\n",
    "summary(lm.out)\n",
    "\n",
    "## rhs=c(0,0) is our c vector.  \n",
    "## The matrix() input is a our hypothesis\n",
    "## matrix."
   ]
  },
  {
   "cell_type": "code",
   "execution_count": 29,
   "metadata": {
    "collapsed": false
   },
   "outputs": [
    {
     "data": {
      "image/png": "[encoded data removed]",
      "text/plain": [
       "Plot with title \"Confidence intervals based on z distribution\""
      ]
     },
     "metadata": {},
     "output_type": "display_data"
    },
    {
     "data": {
      "image/png": "[encoded data removed]",
      "text/plain": [
       "Plot with title \"Confidence intervals based on z distribution\""
      ]
     },
     "metadata": {},
     "output_type": "display_data"
    },
    {
     "data": {
      "image/png": "[encoded data removed]",
      "text/plain": [
       "Plot with title \"Confidence intervals based on z distribution\""
      ]
     },
     "metadata": {},
     "output_type": "display_data"
    }
   ],
   "source": [
    "library(TeachingDemos)\n",
    "\n",
    "ci.examp()\n",
    "conf.level = 0.95\n",
    "seed = 100\n",
    "ci.examp(mean.sim = 100, sd = 10, n = 25, reps = 50, conf.level = 0.95,\n",
    "         method = \"z\", lower.conf = (1 - conf.level)/2,\n",
    "         upper.conf = 1 - (1 - conf.level)/2)\n",
    "run.ci.examp(reps = 100, seed, method=\"z\", n=25)"
   ]
  },
  {
   "cell_type": "code",
   "execution_count": 30,
   "metadata": {
    "collapsed": false
   },
   "outputs": [
    {
     "name": "stderr",
     "output_type": "stream",
     "text": [
      "\n",
      "Attaching package: 'ellipse'\n",
      "\n",
      "The following object is masked from 'package:car':\n",
      "\n",
      "    ellipse\n",
      "\n"
     ]
    },
    {
     "data": {
      "image/png": "[encoded data removed]",
      "text/plain": [
       "plot without title"
      ]
     },
     "metadata": {},
     "output_type": "display_data"
    }
   ],
   "source": [
    "# Plot the estimate and joint 90% confidence region for the displacement and cylinder\n",
    "# count linear coefficients in the mtcars dataset\n",
    "library(ellipse)\n",
    "data(mtcars)\n",
    "fit <- lm(mpg ~ disp + cyl , mtcars)\n",
    "plot(ellipse(fit, which = c('disp', 'cyl'), level = 0.90), type = 'l')\n",
    "points(fit$coefficients['disp'], fit$coefficients['cyl'])\n"
   ]
  },
  {
   "cell_type": "code",
   "execution_count": null,
   "metadata": {
    "collapsed": true
   },
   "outputs": [],
   "source": []
  },
  {
   "cell_type": "code",
   "execution_count": 31,
   "metadata": {
    "collapsed": false
   },
   "outputs": [
    {
     "ename": "ERROR",
     "evalue": "Error in ellipse(coef, shape, radius, add = add.plot, xlab = xlab, ylab = ylab, : center must be a vector of length 2\n",
     "output_type": "error",
     "traceback": [
      "Error in ellipse(coef, shape, radius, add = add.plot, xlab = xlab, ylab = ylab, : center must be a vector of length 2\nTraceback:\n",
      "1. confidenceEllipse(lm.out, which.coef = c(\"education\"), col = \"red\")",
      "2. confidenceEllipse.lm(lm.out, which.coef = c(\"education\"), col = \"red\")",
      "3. ellipse(coef, shape, radius, add = add.plot, xlab = xlab, ylab = ylab, \n .     center.pch = center.pch, center.cex = center.cex, segments = segments, \n .     col = col, lwd = lwd, fill = fill, fill.alpha = fill.alpha, \n .     draw = draw, ...)",
      "4. stop(\"center must be a vector of length 2\")"
     ]
    },
    {
     "data": {
      "image/png": "[encoded data removed]",
      "text/plain": [
       "plot without title"
      ]
     },
     "metadata": {},
     "output_type": "display_data"
    }
   ],
   "source": [
    "############################\n",
    "## 3) Confidence Ellipses ##\n",
    "############################\n",
    "\n",
    "## confidence.ellipses are hard to compute on your own and are impossible\n",
    "## with more than two coefficients, but they can be useful. in the car\n",
    "## library there is a function called, unsurprisingly, confidence.ellipse():\n",
    "\n",
    "lm.out <- lm(prestige ~ income + education + type, data=Duncan)\n",
    "confidenceEllipse(lm.out, which.coef=c(\"income\",\"education\"), col=\"red\")\n",
    "confidenceEllipse(lm.out, which.coef=c(\"education\"), col=\"red\")\n"
   ]
  },
  {
   "cell_type": "code",
   "execution_count": 33,
   "metadata": {
    "collapsed": false
   },
   "outputs": [
    {
     "data": {
      "image/png": "[encoded data removed]",
      "text/plain": [
       "plot without title"
      ]
     },
     "metadata": {},
     "output_type": "display_data"
    }
   ],
   "source": [
    "## however, we often cannot see (0,0),\n",
    "## which is an important point:\n",
    "\n",
    "confidenceEllipse(lm.out, which.coef=c(\"income\",\"education\"), col=\"red\",\n",
    "                    xlim=c(-.1,1), ylim=c(-.1,1))\n",
    "\n",
    "## we can add an additional point on the graph using the points() function\n",
    "\n",
    "points(x=0, y=0, col=\"blue\", pch=19, cex=1.5)"
   ]
  },
  {
   "cell_type": "code",
   "execution_count": 34,
   "metadata": {
    "collapsed": true
   },
   "outputs": [],
   "source": [
    "## we also might want to add lines for the confidence intervals for each\n",
    "## of the two coefficients. when you do this, make sure you are plotting\n",
    "## them in the right direction. in this case the CI for income should be\n",
    "## vertical and the CI for education should be horizontal.\n",
    "\n"
   ]
  },
  {
   "cell_type": "code",
   "execution_count": null,
   "metadata": {
    "collapsed": true
   },
   "outputs": [],
   "source": [
    "# http://www.stat.berkeley.edu/~troxler/Testing.Notes.pdf\n",
    "\n",
    "\n"
   ]
  },
  {
   "cell_type": "code",
   "execution_count": null,
   "metadata": {
    "collapsed": true
   },
   "outputs": [],
   "source": []
  },
  {
   "cell_type": "code",
   "execution_count": 35,
   "metadata": {
    "collapsed": false
   },
   "outputs": [
    {
     "data": {
      "text/plain": [
       "      wage             educ           exper          pareduc         gender    \n",
       " Min.   :  1.58   Min.   : 9.00   Min.   : 0.00   Min.   : 6.00   FEMALE:2500  \n",
       " 1st Qu.:  7.92   1st Qu.:11.00   1st Qu.: 3.00   1st Qu.: 9.00   MALE  :4000  \n",
       " Median : 12.31   Median :13.00   Median : 7.00   Median :11.00                \n",
       " Mean   : 19.33   Mean   :12.54   Mean   :10.02   Mean   :10.53                \n",
       " 3rd Qu.: 20.69   3rd Qu.:14.00   3rd Qu.:14.00   3rd Qu.:12.00                \n",
       " Max.   :215.00   Max.   :16.00   Max.   :89.00   Max.   :16.00                "
      ]
     },
     "metadata": {},
     "output_type": "display_data"
    }
   ],
   "source": [
    "## ---------------------- ##\n",
    "## R Tutorial on Testing  ##\n",
    "## Linear Hypotheses      ##\n",
    "##                        ##\n",
    "## Author: Tony Cookson   ##\n",
    "## ---------------------- ##\n",
    "## --------------------------- ##\n",
    "## This tutorial will use      ##\n",
    "## the \"car\" library, which is ##\n",
    "## not preinstalled in R       ##\n",
    "##                             ##\n",
    "## This first set of code will ##\n",
    "## install \"car\" on your       ##\n",
    "## computer.                   ##\n",
    "## --------------------------- ##\n",
    "# install.packages(\"car\", dependencies = T)\n",
    "## -------------------------------------------- ##\n",
    "## Notes:                                       ##\n",
    "## 1. You will have to pick one of the servers  ##\n",
    "##    to download \"car.\" It doesn't matter      ##\n",
    "##    which one you pick.                       ##\n",
    "## 2. This command will install a bunch of      ##\n",
    "##    \"helper\" packages, so R will look like it ##\n",
    "##    is working for a while.  This is normal.  ##\n",
    "## -------------------------------------------- ##\n",
    "## ---------------------- ##\n",
    "## Start here if you have ##\n",
    "## \"car\" on your computer ##\n",
    "## already.               ##\n",
    "## ---------------------- ##\n",
    "library(car)      ## Loads the \"car\" library\n",
    "## ---------------------- ##\n",
    "## Read and Explore Data  ##\n",
    "## ---------------------- ##\n",
    " \n",
    "library(foreign)                           ## To read Stata Files\n",
    "\n",
    "edudat.df = read.dta(\"http://dl.dropbox.com/u/36165717/Teaching/Econ253/edudat2.dta\") ##Reads data\n",
    " ## Reads Data\n",
    "summary(edudat.df)"
   ]
  },
  {
   "cell_type": "code",
   "execution_count": null,
   "metadata": {
    "collapsed": true
   },
   "outputs": [],
   "source": []
  },
  {
   "cell_type": "code",
   "execution_count": 36,
   "metadata": {
    "collapsed": false
   },
   "outputs": [
    {
     "data": {
      "text/plain": [
       "\n",
       "Call:\n",
       "lm(formula = log(wage) ~ educ + exper + pareduc + gender, data = edudat.df)\n",
       "\n",
       "Residuals:\n",
       "     Min       1Q   Median       3Q      Max \n",
       "-2.00268 -0.35891  0.00052  0.35163  1.79939 \n",
       "\n",
       "Coefficients:\n",
       "             Estimate Std. Error t value Pr(>|t|)    \n",
       "(Intercept) 0.9320035  0.0415707  22.420  < 2e-16 ***\n",
       "educ        0.0635518  0.0084035   7.563 4.50e-14 ***\n",
       "exper       0.0532125  0.0006566  81.047  < 2e-16 ***\n",
       "pareduc     0.0263129  0.0096364   2.731  0.00634 ** \n",
       "genderMALE  0.0931139  0.0134007   6.948 4.05e-12 ***\n",
       "---\n",
       "Signif. codes:  0 '***' 0.001 '**' 0.01 '*' 0.05 '.' 0.1 ' ' 1\n",
       "\n",
       "Residual standard error: 0.5256 on 6495 degrees of freedom\n",
       "Multiple R-squared:  0.5332,\tAdjusted R-squared:  0.5329 \n",
       "F-statistic:  1855 on 4 and 6495 DF,  p-value: < 2.2e-16\n"
      ]
     },
     "metadata": {},
     "output_type": "display_data"
    }
   ],
   "source": [
    "## ------------------- ##\n",
    "## Estimate Regression ##\n",
    "## ------------------- ##\n",
    "wage.lm = lm(log(wage)~educ+exper+pareduc+gender,data=edudat.df)\n",
    "summary(wage.lm)"
   ]
  },
  {
   "cell_type": "code",
   "execution_count": 37,
   "metadata": {
    "collapsed": false
   },
   "outputs": [
    {
     "data": {
      "text/html": [
       "<table>\n",
       "<thead><tr><th scope=col>Res.Df</th><th scope=col>RSS</th><th scope=col>Df</th><th scope=col>Sum of Sq</th><th scope=col>F</th><th scope=col>Pr(&gt;F)</th></tr></thead>\n",
       "<tbody>\n",
       "\t<tr><td>6496      </td><td>1795.153  </td><td>NA        </td><td>      NA  </td><td>      NA  </td><td>        NA</td></tr>\n",
       "\t<tr><td>6495      </td><td>1794.060  </td><td> 1        </td><td>1.092572  </td><td>3.955417  </td><td>0.04676263</td></tr>\n",
       "</tbody>\n",
       "</table>\n"
      ],
      "text/latex": [
       "\\begin{tabular}{r|llllll}\n",
       " Res.Df & RSS & Df & Sum of Sq & F & Pr(>F)\\\\\n",
       "\\hline\n",
       "\t 6496       & 1795.153   & NA         &       NA   &       NA   &         NA\\\\\n",
       "\t 6495       & 1794.060   &  1         & 1.092572   & 3.955417   & 0.04676263\\\\\n",
       "\\end{tabular}\n"
      ],
      "text/markdown": [
       "\n",
       "Res.Df | RSS | Df | Sum of Sq | F | Pr(>F) | \n",
       "|---|---|\n",
       "| 6496       | 1795.153   | NA         |       NA   |       NA   |         NA | \n",
       "| 6495       | 1794.060   |  1         | 1.092572   | 3.955417   | 0.04676263 | \n",
       "\n",
       "\n"
      ],
      "text/plain": [
       "  Res.Df RSS      Df Sum of Sq F        Pr(>F)    \n",
       "1 6496   1795.153 NA       NA        NA         NA\n",
       "2 6495   1794.060  1 1.092572  3.955417 0.04676263"
      ]
     },
     "metadata": {},
     "output_type": "display_data"
    }
   ],
   "source": [
    "## ------------------------------------ ##\n",
    "## Test beta_educ + beta_exper = 0.10   ##\n",
    "## ------------------------------------ ##\n",
    "linearHypothesis(wage.lm, \"educ+exper=0.1\")"
   ]
  },
  {
   "cell_type": "code",
   "execution_count": 38,
   "metadata": {
    "collapsed": false
   },
   "outputs": [
    {
     "data": {
      "text/html": [
       "<table>\n",
       "<thead><tr><th scope=col>Res.Df</th><th scope=col>RSS</th><th scope=col>Df</th><th scope=col>Sum of Sq</th><th scope=col>F</th><th scope=col>Pr(&gt;F)</th></tr></thead>\n",
       "<tbody>\n",
       "\t<tr><td>6498         </td><td>1971.921     </td><td>NA           </td><td>      NA     </td><td>     NA      </td><td>           NA</td></tr>\n",
       "\t<tr><td>6495         </td><td>1794.060     </td><td> 3           </td><td>177.8614     </td><td>214.636      </td><td>9.292436e-133</td></tr>\n",
       "</tbody>\n",
       "</table>\n"
      ],
      "text/latex": [
       "\\begin{tabular}{r|llllll}\n",
       " Res.Df & RSS & Df & Sum of Sq & F & Pr(>F)\\\\\n",
       "\\hline\n",
       "\t 6498          & 1971.921      & NA            &       NA      &      NA       &            NA\\\\\n",
       "\t 6495          & 1794.060      &  3            & 177.8614      & 214.636       & 9.292436e-133\\\\\n",
       "\\end{tabular}\n"
      ],
      "text/markdown": [
       "\n",
       "Res.Df | RSS | Df | Sum of Sq | F | Pr(>F) | \n",
       "|---|---|\n",
       "| 6498          | 1971.921      | NA            |       NA      |      NA       |            NA | \n",
       "| 6495          | 1794.060      |  3            | 177.8614      | 214.636       | 9.292436e-133 | \n",
       "\n",
       "\n"
      ],
      "text/plain": [
       "  Res.Df RSS      Df Sum of Sq F       Pr(>F)       \n",
       "1 6498   1971.921 NA       NA       NA            NA\n",
       "2 6495   1794.060  3 177.8614  214.636 9.292436e-133"
      ]
     },
     "metadata": {},
     "output_type": "display_data"
    }
   ],
   "source": [
    "## ------------------------------------ ##\n",
    "## Test beta_educ + beta_exper = 0.10   ##\n",
    "## AND  beta_genderMALE = 0.05          ##\n",
    "## AND  beta_pareduc + beta_educ = 0    ##\n",
    "## ------------------------------------ ##\n",
    "linearHypothesis(wage.lm, c(\"educ+exper=0.1\",\"genderMALE=0.05\",\"pareduc+educ=0\"))\n"
   ]
  },
  {
   "cell_type": "code",
   "execution_count": null,
   "metadata": {
    "collapsed": true
   },
   "outputs": [],
   "source": []
  },
  {
   "cell_type": "code",
   "execution_count": 39,
   "metadata": {
    "collapsed": false
   },
   "outputs": [
    {
     "data": {
      "text/plain": [
       "      wage             educ           exper          pareduc         gender    \n",
       " Min.   :  1.58   Min.   : 9.00   Min.   : 0.00   Min.   : 6.00   FEMALE:2500  \n",
       " 1st Qu.:  7.92   1st Qu.:11.00   1st Qu.: 3.00   1st Qu.: 9.00   MALE  :4000  \n",
       " Median : 12.31   Median :13.00   Median : 7.00   Median :11.00                \n",
       " Mean   : 19.33   Mean   :12.54   Mean   :10.02   Mean   :10.53                \n",
       " 3rd Qu.: 20.69   3rd Qu.:14.00   3rd Qu.:14.00   3rd Qu.:12.00                \n",
       " Max.   :215.00   Max.   :16.00   Max.   :89.00   Max.   :16.00                "
      ]
     },
     "metadata": {},
     "output_type": "display_data"
    }
   ],
   "source": [
    "##https://sites.google.com/site/dataforhonorseconometrics/\n",
    "#install.packages(\"car\", dependencies=T)\n",
    "library(car) ## loads the \"car\" package\n",
    "\n",
    "#install.packages(\"foreign\", dependencies=T)\n",
    "library(foreign) #To read Stata files\n",
    "edudata.df = read.dta(\"http://dl.dropbox.com/u/36165717/Teaching/Econ253/edudat2.dta\") ##Reads data\n",
    "\n",
    "summary(edudata.df)"
   ]
  },
  {
   "cell_type": "code",
   "execution_count": 40,
   "metadata": {
    "collapsed": false
   },
   "outputs": [
    {
     "data": {
      "text/plain": [
       "\n",
       "Call:\n",
       "lm(formula = log(wage) ~ educ + exper + pareduc + gender, data = edudata.df)\n",
       "\n",
       "Residuals:\n",
       "     Min       1Q   Median       3Q      Max \n",
       "-2.00268 -0.35891  0.00052  0.35163  1.79939 \n",
       "\n",
       "Coefficients:\n",
       "             Estimate Std. Error t value Pr(>|t|)    \n",
       "(Intercept) 0.9320035  0.0415707  22.420  < 2e-16 ***\n",
       "educ        0.0635518  0.0084035   7.563 4.50e-14 ***\n",
       "exper       0.0532125  0.0006566  81.047  < 2e-16 ***\n",
       "pareduc     0.0263129  0.0096364   2.731  0.00634 ** \n",
       "genderMALE  0.0931139  0.0134007   6.948 4.05e-12 ***\n",
       "---\n",
       "Signif. codes:  0 '***' 0.001 '**' 0.01 '*' 0.05 '.' 0.1 ' ' 1\n",
       "\n",
       "Residual standard error: 0.5256 on 6495 degrees of freedom\n",
       "Multiple R-squared:  0.5332,\tAdjusted R-squared:  0.5329 \n",
       "F-statistic:  1855 on 4 and 6495 DF,  p-value: < 2.2e-16\n"
      ]
     },
     "metadata": {},
     "output_type": "display_data"
    },
    {
     "data": {
      "text/html": [
       "<table>\n",
       "<thead><tr><th scope=col>Res.Df</th><th scope=col>RSS</th><th scope=col>Df</th><th scope=col>Sum of Sq</th><th scope=col>Chisq</th><th scope=col>Pr(&gt;Chisq)</th></tr></thead>\n",
       "<tbody>\n",
       "\t<tr><td>6496      </td><td>1795.153  </td><td>NA        </td><td>      NA  </td><td>      NA  </td><td>        NA</td></tr>\n",
       "\t<tr><td>6495      </td><td>1794.060  </td><td> 1        </td><td>1.092572  </td><td>3.955417  </td><td>0.04672074</td></tr>\n",
       "</tbody>\n",
       "</table>\n"
      ],
      "text/latex": [
       "\\begin{tabular}{r|llllll}\n",
       " Res.Df & RSS & Df & Sum of Sq & Chisq & Pr(>Chisq)\\\\\n",
       "\\hline\n",
       "\t 6496       & 1795.153   & NA         &       NA   &       NA   &         NA\\\\\n",
       "\t 6495       & 1794.060   &  1         & 1.092572   & 3.955417   & 0.04672074\\\\\n",
       "\\end{tabular}\n"
      ],
      "text/markdown": [
       "\n",
       "Res.Df | RSS | Df | Sum of Sq | Chisq | Pr(>Chisq) | \n",
       "|---|---|\n",
       "| 6496       | 1795.153   | NA         |       NA   |       NA   |         NA | \n",
       "| 6495       | 1794.060   |  1         | 1.092572   | 3.955417   | 0.04672074 | \n",
       "\n",
       "\n"
      ],
      "text/plain": [
       "  Res.Df RSS      Df Sum of Sq Chisq    Pr(>Chisq)\n",
       "1 6496   1795.153 NA       NA        NA         NA\n",
       "2 6495   1794.060  1 1.092572  3.955417 0.04672074"
      ]
     },
     "metadata": {},
     "output_type": "display_data"
    }
   ],
   "source": [
    "\n",
    "\n",
    "wage.lm = lm( log(wage) ~ educ + exper + pareduc + gender, data=edudata.df)\n",
    "summary(wage.lm)\n",
    "\n",
    "linearHypothesis(wage.lm, \"educ+exper=0.1\", test=\"Chisq\")\n",
    "##character string, \"F\" or \"Chisq\", specifying whether to compute the \n",
    "##finite-sample F statistic (with approximate F distribution) or the \n",
    "##large-sample Chi-squared statistic (with asymptotic Chi-squared distribution)\n"
   ]
  },
  {
   "cell_type": "code",
   "execution_count": null,
   "metadata": {
    "collapsed": true
   },
   "outputs": [],
   "source": []
  },
  {
   "cell_type": "code",
   "execution_count": 41,
   "metadata": {
    "collapsed": false
   },
   "outputs": [
    {
     "data": {
      "text/html": [
       "<table>\n",
       "<thead><tr><th scope=col>Res.Df</th><th scope=col>RSS</th><th scope=col>Df</th><th scope=col>Sum of Sq</th><th scope=col>Chisq</th><th scope=col>Pr(&gt;Chisq)</th></tr></thead>\n",
       "<tbody>\n",
       "\t<tr><td>6498         </td><td>1971.921     </td><td>NA           </td><td>      NA     </td><td>     NA      </td><td>           NA</td></tr>\n",
       "\t<tr><td>6495         </td><td>1794.060     </td><td> 3           </td><td>177.8614     </td><td>643.908      </td><td>3.049124e-139</td></tr>\n",
       "</tbody>\n",
       "</table>\n"
      ],
      "text/latex": [
       "\\begin{tabular}{r|llllll}\n",
       " Res.Df & RSS & Df & Sum of Sq & Chisq & Pr(>Chisq)\\\\\n",
       "\\hline\n",
       "\t 6498          & 1971.921      & NA            &       NA      &      NA       &            NA\\\\\n",
       "\t 6495          & 1794.060      &  3            & 177.8614      & 643.908       & 3.049124e-139\\\\\n",
       "\\end{tabular}\n"
      ],
      "text/markdown": [
       "\n",
       "Res.Df | RSS | Df | Sum of Sq | Chisq | Pr(>Chisq) | \n",
       "|---|---|\n",
       "| 6498          | 1971.921      | NA            |       NA      |      NA       |            NA | \n",
       "| 6495          | 1794.060      |  3            | 177.8614      | 643.908       | 3.049124e-139 | \n",
       "\n",
       "\n"
      ],
      "text/plain": [
       "  Res.Df RSS      Df Sum of Sq Chisq   Pr(>Chisq)   \n",
       "1 6498   1971.921 NA       NA       NA            NA\n",
       "2 6495   1794.060  3 177.8614  643.908 3.049124e-139"
      ]
     },
     "metadata": {},
     "output_type": "display_data"
    }
   ],
   "source": [
    "##Proposed Test\n",
    "## beta_educ + beta_exper = 0.1\n",
    "## beta+genderMALE = 0.05\n",
    "## beta_pareduc + beta_educ = 0\n",
    "\n",
    "linearHypothesis(wage.lm, c(\"educ + exper=0.1\", \"genderMALE=0.05\", \"pareduc + educ =0\"), test=\"Chisq\")\n"
   ]
  },
  {
   "cell_type": "code",
   "execution_count": null,
   "metadata": {
    "collapsed": true
   },
   "outputs": [],
   "source": []
  },
  {
   "cell_type": "code",
   "execution_count": null,
   "metadata": {
    "collapsed": true
   },
   "outputs": [],
   "source": []
  },
  {
   "cell_type": "code",
   "execution_count": 42,
   "metadata": {
    "collapsed": false
   },
   "outputs": [
    {
     "data": {
      "text/html": [
       "<table>\n",
       "<thead><tr><th></th><th scope=col>invest</th><th scope=col>school</th><th scope=col>randd</th><th scope=col>popgrowth</th></tr></thead>\n",
       "<tbody>\n",
       "\t<tr><th scope=row>invest</th><td> 1.00000000</td><td>0.1932304  </td><td> 0.08393141</td><td>-0.1741348 </td></tr>\n",
       "\t<tr><th scope=row>school</th><td> 0.19323038</td><td>1.0000000  </td><td> 0.22537585</td><td> 0.1511896 </td></tr>\n",
       "\t<tr><th scope=row>randd</th><td> 0.08393141</td><td>0.2253759  </td><td> 1.00000000</td><td>-0.2159874 </td></tr>\n",
       "\t<tr><th scope=row>popgrowth</th><td>-0.17413475</td><td>0.1511896  </td><td>-0.21598736</td><td> 1.0000000 </td></tr>\n",
       "</tbody>\n",
       "</table>\n"
      ],
      "text/latex": [
       "\\begin{tabular}{r|llll}\n",
       "  & invest & school & randd & popgrowth\\\\\n",
       "\\hline\n",
       "\tinvest &  1.00000000 & 0.1932304   &  0.08393141 & -0.1741348 \\\\\n",
       "\tschool &  0.19323038 & 1.0000000   &  0.22537585 &  0.1511896 \\\\\n",
       "\trandd &  0.08393141 & 0.2253759   &  1.00000000 & -0.2159874 \\\\\n",
       "\tpopgrowth & -0.17413475 & 0.1511896   & -0.21598736 &  1.0000000 \\\\\n",
       "\\end{tabular}\n"
      ],
      "text/markdown": [
       "\n",
       "| <!--/--> | invest | school | randd | popgrowth | \n",
       "|---|---|---|---|\n",
       "| invest |  1.00000000 | 0.1932304   |  0.08393141 | -0.1741348  | \n",
       "| school |  0.19323038 | 1.0000000   |  0.22537585 |  0.1511896  | \n",
       "| randd |  0.08393141 | 0.2253759   |  1.00000000 | -0.2159874  | \n",
       "| popgrowth | -0.17413475 | 0.1511896   | -0.21598736 |  1.0000000  | \n",
       "\n",
       "\n"
      ],
      "text/plain": [
       "          invest      school    randd       popgrowth \n",
       "invest     1.00000000 0.1932304  0.08393141 -0.1741348\n",
       "school     0.19323038 1.0000000  0.22537585  0.1511896\n",
       "randd      0.08393141 0.2253759  1.00000000 -0.2159874\n",
       "popgrowth -0.17413475 0.1511896 -0.21598736  1.0000000"
      ]
     },
     "metadata": {},
     "output_type": "display_data"
    },
    {
     "data": {
      "text/html": [
       "<table>\n",
       "<thead><tr><th></th><th scope=col>invest</th><th scope=col>school</th><th scope=col>randd</th><th scope=col>popgrowth</th></tr></thead>\n",
       "<tbody>\n",
       "\t<tr><th scope=row>invest</th><td> 1.000000000</td><td>0.1693693   </td><td> 0.1656111  </td><td>-0.001127063</td></tr>\n",
       "\t<tr><th scope=row>school</th><td> 0.169369305</td><td>1.0000000   </td><td> 0.3726155  </td><td> 0.180426653</td></tr>\n",
       "\t<tr><th scope=row>randd</th><td> 0.165611060</td><td>0.3726155   </td><td> 1.0000000  </td><td>-0.224119587</td></tr>\n",
       "\t<tr><th scope=row>popgrowth</th><td>-0.001127063</td><td>0.1804267   </td><td>-0.2241196  </td><td> 1.000000000</td></tr>\n",
       "</tbody>\n",
       "</table>\n"
      ],
      "text/latex": [
       "\\begin{tabular}{r|llll}\n",
       "  & invest & school & randd & popgrowth\\\\\n",
       "\\hline\n",
       "\tinvest &  1.000000000 & 0.1693693    &  0.1656111   & -0.001127063\\\\\n",
       "\tschool &  0.169369305 & 1.0000000    &  0.3726155   &  0.180426653\\\\\n",
       "\trandd &  0.165611060 & 0.3726155    &  1.0000000   & -0.224119587\\\\\n",
       "\tpopgrowth & -0.001127063 & 0.1804267    & -0.2241196   &  1.000000000\\\\\n",
       "\\end{tabular}\n"
      ],
      "text/markdown": [
       "\n",
       "| <!--/--> | invest | school | randd | popgrowth | \n",
       "|---|---|---|---|\n",
       "| invest |  1.000000000 | 0.1693693    |  0.1656111   | -0.001127063 | \n",
       "| school |  0.169369305 | 1.0000000    |  0.3726155   |  0.180426653 | \n",
       "| randd |  0.165611060 | 0.3726155    |  1.0000000   | -0.224119587 | \n",
       "| popgrowth | -0.001127063 | 0.1804267    | -0.2241196   |  1.000000000 | \n",
       "\n",
       "\n"
      ],
      "text/plain": [
       "          invest       school    randd      popgrowth   \n",
       "invest     1.000000000 0.1693693  0.1656111 -0.001127063\n",
       "school     0.169369305 1.0000000  0.3726155  0.180426653\n",
       "randd      0.165611060 0.3726155  1.0000000 -0.224119587\n",
       "popgrowth -0.001127063 0.1804267 -0.2241196  1.000000000"
      ]
     },
     "metadata": {},
     "output_type": "display_data"
    },
    {
     "data": {
      "text/plain": [
       "\n",
       "Call:\n",
       "lm(formula = log(gdp85/gdp60) ~ log(gdp60) + log(invest) + log(popgrowth + \n",
       "    0.05), data = OECDGrowth)\n",
       "\n",
       "Residuals:\n",
       "     Min       1Q   Median       3Q      Max \n",
       "-0.18400 -0.03989 -0.00785  0.04506  0.31879 \n",
       "\n",
       "Coefficients:\n",
       "                      Estimate Std. Error t value Pr(>|t|)    \n",
       "(Intercept)            2.97590    1.02159   2.913  0.00928 ** \n",
       "log(gdp60)            -0.34286    0.05649  -6.070 9.77e-06 ***\n",
       "log(invest)            0.65011    0.20200   3.218  0.00477 ** \n",
       "log(popgrowth + 0.05) -0.57302    0.29040  -1.973  0.06403 .  \n",
       "---\n",
       "Signif. codes:  0 '***' 0.001 '**' 0.01 '*' 0.05 '.' 0.1 ' ' 1\n",
       "\n",
       "Residual standard error: 0.1329 on 18 degrees of freedom\n",
       "Multiple R-squared:  0.7464,\tAdjusted R-squared:  0.7041 \n",
       "F-statistic: 17.66 on 3 and 18 DF,  p-value: 1.342e-05\n"
      ]
     },
     "metadata": {},
     "output_type": "display_data"
    }
   ],
   "source": [
    "\n",
    "data(\"OECDGrowth\")\n",
    "## Nonneman and Vanhoudt (1996), Table II\n",
    "cor(OECDGrowth[, 3:6])\n",
    "cor(log(OECDGrowth[, 3:6]))\n",
    "## textbook Solow model\n",
    "## Nonneman and Vanhoudt (1996), Table IV, and\n",
    "## Zaman, Rousseeuw and Orhan (2001), Table 2\n",
    "so_ols <- lm(log(gdp85/gdp60) ~ log(gdp60) + log(invest) + log(popgrowth+.05),\n",
    "data = OECDGrowth)\n",
    "summary(so_ols)"
   ]
  },
  {
   "cell_type": "code",
   "execution_count": null,
   "metadata": {
    "collapsed": true
   },
   "outputs": [],
   "source": []
  },
  {
   "cell_type": "code",
   "execution_count": 43,
   "metadata": {
    "collapsed": true
   },
   "outputs": [],
   "source": [
    "\n",
    "## augmented and extended Solow growth model\n",
    "## Nonneman and Vanhoudt (1996), Table IV\n",
    "aso_ols <- lm(log(gdp85/gdp60) ~ log(gdp60) + log(invest) +\n",
    "log(school) + log(popgrowth+.05), data = OECDGrowth)\n",
    "eso_ols <- lm(log(gdp85/gdp60) ~ log(gdp60) + log(invest) +\n",
    "log(school) + log(randd) + log(popgrowth+.05), data = OECDGrowth)"
   ]
  },
  {
   "cell_type": "code",
   "execution_count": null,
   "metadata": {
    "collapsed": true
   },
   "outputs": [],
   "source": []
  },
  {
   "cell_type": "code",
   "execution_count": 44,
   "metadata": {
    "collapsed": false
   },
   "outputs": [
    {
     "data": {
      "text/html": [
       "<dl class=dl-horizontal>\n",
       "\t<dt>Canada</dt>\n",
       "\t\t<dd>9.07301608586932</dd>\n",
       "\t<dt>USA</dt>\n",
       "\t\t<dd>6.23613816915745</dd>\n",
       "\t<dt>Japan</dt>\n",
       "\t\t<dd>9.79481606385436</dd>\n",
       "\t<dt>Norway</dt>\n",
       "\t\t<dd>4.60012825535604</dd>\n",
       "\t<dt>Portugal</dt>\n",
       "\t\t<dd>-3.26226743773365</dd>\n",
       "\t<dt>Turkey</dt>\n",
       "\t\t<dd>-4.02691182863126</dd>\n",
       "\t<dt>Australia</dt>\n",
       "\t\t<dd>4.51833963492044</dd>\n",
       "</dl>\n"
      ],
      "text/latex": [
       "\\begin{description*}\n",
       "\\item[Canada] 9.07301608586932\n",
       "\\item[USA] 6.23613816915745\n",
       "\\item[Japan] 9.79481606385436\n",
       "\\item[Norway] 4.60012825535604\n",
       "\\item[Portugal] -3.26226743773365\n",
       "\\item[Turkey] -4.02691182863126\n",
       "\\item[Australia] 4.51833963492044\n",
       "\\end{description*}\n"
      ],
      "text/markdown": [
       "Canada\n",
       ":   9.07301608586932USA\n",
       ":   6.23613816915745Japan\n",
       ":   9.79481606385436Norway\n",
       ":   4.60012825535604Portugal\n",
       ":   -3.26226743773365Turkey\n",
       ":   -4.02691182863126Australia\n",
       ":   4.51833963492044\n",
       "\n"
      ],
      "text/plain": [
       "   Canada       USA     Japan    Norway  Portugal    Turkey Australia \n",
       " 9.073016  6.236138  9.794816  4.600128 -3.262267 -4.026912  4.518340 "
      ]
     },
     "metadata": {},
     "output_type": "display_data"
    }
   ],
   "source": [
    "## determine unusual observations using LTS\n",
    "library(\"MASS\")\n",
    "so_lts <- lqs(log(gdp85/gdp60) ~ log(gdp60) + log(invest) + log(popgrowth+.05),\n",
    "data = OECDGrowth, psamp = 13, nsamp = \"exact\")\n",
    "## large residuals\n",
    "nok1 <- abs(residuals(so_lts))/so_lts$scale[2] > 2.5\n",
    "residuals(so_lts)[nok1]/so_lts$scale[2]"
   ]
  },
  {
   "cell_type": "code",
   "execution_count": null,
   "metadata": {
    "collapsed": true
   },
   "outputs": [],
   "source": []
  },
  {
   "cell_type": "code",
   "execution_count": 45,
   "metadata": {
    "collapsed": false
   },
   "outputs": [
    {
     "data": {
      "text/html": [
       "<dl class=dl-horizontal>\n",
       "\t<dt>Canada</dt>\n",
       "\t\t<dd>5.14355082144512</dd>\n",
       "\t<dt>USA</dt>\n",
       "\t\t<dd>4.50265306022426</dd>\n",
       "\t<dt>Netherlands</dt>\n",
       "\t\t<dd>2.73699554352606</dd>\n",
       "\t<dt>Turkey</dt>\n",
       "\t\t<dd>7.20300859968675</dd>\n",
       "\t<dt>United Kingdom</dt>\n",
       "\t\t<dd>2.528942345207</dd>\n",
       "\t<dt>Australia</dt>\n",
       "\t\t<dd>4.50355089478292</dd>\n",
       "\t<dt>New Zealand</dt>\n",
       "\t\t<dd>4.21212102794635</dd>\n",
       "</dl>\n"
      ],
      "text/latex": [
       "\\begin{description*}\n",
       "\\item[Canada] 5.14355082144512\n",
       "\\item[USA] 4.50265306022426\n",
       "\\item[Netherlands] 2.73699554352606\n",
       "\\item[Turkey] 7.20300859968675\n",
       "\\item[United Kingdom] 2.528942345207\n",
       "\\item[Australia] 4.50355089478292\n",
       "\\item[New Zealand] 4.21212102794635\n",
       "\\end{description*}\n"
      ],
      "text/markdown": [
       "Canada\n",
       ":   5.14355082144512USA\n",
       ":   4.50265306022426Netherlands\n",
       ":   2.73699554352606Turkey\n",
       ":   7.20300859968675United Kingdom\n",
       ":   2.528942345207Australia\n",
       ":   4.50355089478292New Zealand\n",
       ":   4.21212102794635\n",
       "\n"
      ],
      "text/plain": [
       "        Canada            USA    Netherlands         Turkey United Kingdom \n",
       "      5.143551       4.502653       2.736996       7.203009       2.528942 \n",
       "     Australia    New Zealand \n",
       "      4.503551       4.212121 "
      ]
     },
     "metadata": {},
     "output_type": "display_data"
    }
   ],
   "source": [
    "## high leverage\n",
    "X <- model.matrix(so_ols)[,-1]\n",
    "cv <- cov.rob(X, nsamp = \"exact\")\n",
    "mh <- sqrt(mahalanobis(X, cv$center, cv$cov))\n",
    "nok2 <- mh > 2.5\n",
    "mh[nok2]"
   ]
  },
  {
   "cell_type": "code",
   "execution_count": null,
   "metadata": {
    "collapsed": true
   },
   "outputs": [],
   "source": []
  },
  {
   "cell_type": "code",
   "execution_count": 46,
   "metadata": {
    "collapsed": false
   },
   "outputs": [
    {
     "data": {
      "text/html": [
       "<dl class=dl-horizontal>\n",
       "\t<dt>Canada</dt>\n",
       "\t\t<dd>1</dd>\n",
       "\t<dt>USA</dt>\n",
       "\t\t<dd>2</dd>\n",
       "\t<dt>Turkey</dt>\n",
       "\t\t<dd>19</dd>\n",
       "\t<dt>Australia</dt>\n",
       "\t\t<dd>21</dd>\n",
       "</dl>\n"
      ],
      "text/latex": [
       "\\begin{description*}\n",
       "\\item[Canada] 1\n",
       "\\item[USA] 2\n",
       "\\item[Turkey] 19\n",
       "\\item[Australia] 21\n",
       "\\end{description*}\n"
      ],
      "text/markdown": [
       "Canada\n",
       ":   1USA\n",
       ":   2Turkey\n",
       ":   19Australia\n",
       ":   21\n",
       "\n"
      ],
      "text/plain": [
       "   Canada       USA    Turkey Australia \n",
       "        1         2        19        21 "
      ]
     },
     "metadata": {},
     "output_type": "display_data"
    }
   ],
   "source": [
    "## bad leverage\n",
    "nok <- which(nok1 & nok2)\n",
    "nok"
   ]
  },
  {
   "cell_type": "code",
   "execution_count": null,
   "metadata": {
    "collapsed": true
   },
   "outputs": [],
   "source": []
  },
  {
   "cell_type": "code",
   "execution_count": 47,
   "metadata": {
    "collapsed": false
   },
   "outputs": [
    {
     "data": {
      "text/plain": [
       "\n",
       "Call:\n",
       "lm(formula = log(gdp85/gdp60) ~ log(gdp60) + log(invest) + log(popgrowth + \n",
       "    0.05), data = OECDGrowth, subset = -nok)\n",
       "\n",
       "Residuals:\n",
       "      Min        1Q    Median        3Q       Max \n",
       "-0.154537 -0.055476 -0.006506  0.031592  0.267732 \n",
       "\n",
       "Coefficients:\n",
       "                      Estimate Std. Error t value Pr(>|t|)    \n",
       "(Intercept)            3.77645    1.28158   2.947  0.01061 *  \n",
       "log(gdp60)            -0.45072    0.05686  -7.927 1.52e-06 ***\n",
       "log(invest)            0.70329    0.19065   3.689  0.00243 ** \n",
       "log(popgrowth + 0.05) -0.65042    0.41902  -1.552  0.14291    \n",
       "---\n",
       "Signif. codes:  0 '***' 0.001 '**' 0.01 '*' 0.05 '.' 0.1 ' ' 1\n",
       "\n",
       "Residual standard error: 0.1069 on 14 degrees of freedom\n",
       "Multiple R-squared:  0.8532,\tAdjusted R-squared:  0.8218 \n",
       "F-statistic: 27.13 on 3 and 14 DF,  p-value: 4.301e-06\n"
      ]
     },
     "metadata": {},
     "output_type": "display_data"
    }
   ],
   "source": [
    "## robust results without bad leverage points\n",
    "so_rob <- update(so_ols, subset = -nok)\n",
    "summary(so_rob)\n",
    "## This is similar to Zaman, Rousseeuw and Orhan (2001), Table 2\n",
    "## but uses exact computations (and not sub-optimal results\n",
    "## for the robust functions lqs and cov.rob)"
   ]
  },
  {
   "cell_type": "code",
   "execution_count": null,
   "metadata": {
    "collapsed": true
   },
   "outputs": [],
   "source": []
  },
  {
   "cell_type": "code",
   "execution_count": null,
   "metadata": {
    "collapsed": true
   },
   "outputs": [],
   "source": []
  },
  {
   "cell_type": "code",
   "execution_count": null,
   "metadata": {
    "collapsed": true
   },
   "outputs": [],
   "source": []
  },
  {
   "cell_type": "code",
   "execution_count": 48,
   "metadata": {
    "collapsed": false
   },
   "outputs": [
    {
     "data": {
      "image/png": "[encoded data removed]",
      "text/plain": [
       "Plot with title \"\""
      ]
     },
     "metadata": {},
     "output_type": "display_data"
    }
   ],
   "source": [
    "# Example of Monte Carlo and Boostrap Simulation \n",
    "#------------------------------------------------\n",
    " \n",
    "n_obs = 500 \n",
    "n_rep = 5000\n",
    "x_bar<-rep(0,n_rep)\n",
    "x_bbar<-rep(0,n_rep)\n",
    "\n",
    "\n",
    "#Compare empirical CDF to true F=N(0,1)\n",
    "#--------------------------------------\n",
    "#Draw a random sample from F~N(0,1)\n",
    "obs<-rnorm(n_obs,0,1)\n",
    "\n",
    "Fn <- ecdf(obs)\n",
    "\n",
    "plot(Fn, main=\"\")\n",
    "\n",
    "#Compare to true F\n",
    "x<-seq(-3,3,by=0.01)\n",
    "lines(x,pnorm(x), col=\"red\")"
   ]
  },
  {
   "cell_type": "code",
   "execution_count": null,
   "metadata": {
    "collapsed": true
   },
   "outputs": [],
   "source": []
  },
  {
   "cell_type": "code",
   "execution_count": 49,
   "metadata": {
    "collapsed": false
   },
   "outputs": [
    {
     "data": {
      "image/png": "[encoded data removed]",
      "text/plain": [
       "Plot with title \"density.default(x = sqrt(n_obs) * x_bar)\""
      ]
     },
     "metadata": {},
     "output_type": "display_data"
    }
   ],
   "source": [
    "#Monte Carlo simulation for the sampling distribution of X_bar\n",
    "#-------------------------------------------------------------\n",
    "\n",
    "for(j in 1:n_rep){\n",
    "\n",
    "obs<-rnorm(n_obs,0,1)\n",
    "x_bar[j] = mean(obs)\n",
    "\n",
    "}\n",
    "\n",
    "plot(density(sqrt(n_obs)*x_bar))\n",
    "lines(x,dnorm(x), col=\"red\")\n"
   ]
  },
  {
   "cell_type": "code",
   "execution_count": null,
   "metadata": {
    "collapsed": true
   },
   "outputs": [],
   "source": []
  },
  {
   "cell_type": "code",
   "execution_count": 50,
   "metadata": {
    "collapsed": false
   },
   "outputs": [
    {
     "data": {
      "image/png": "[encoded data removed]",
      "text/plain": [
       "plot without title"
      ]
     },
     "metadata": {},
     "output_type": "display_data"
    }
   ],
   "source": [
    "#Approximating the sampling distribution of X_bar using bootstrap sampling\n",
    "#--------------------------------------------------------------------------\n",
    "\n",
    "#Obtain Fn\n",
    "#---------------------\n",
    "obs<-rnorm(n_obs,0,1)\n",
    "mu_hat<-mean(obs)\n",
    "\n",
    "#Resampling from Fn\n",
    "#-------------------\n",
    "for(j in 1:n_rep){\n",
    "\n",
    "boot_sample<-sample(obs,n_obs, replace=T)\n",
    " \n",
    "x_bbar[j] = sqrt(n_obs)*( mean(boot_sample) - mu_hat)\n",
    "\n",
    "}\n",
    "\n",
    "plot(x,dnorm(x), col=\"red\", type=\"l\")\n",
    "lines(density(x_bbar), col=\"blue\")\n"
   ]
  },
  {
   "cell_type": "code",
   "execution_count": null,
   "metadata": {
    "collapsed": true
   },
   "outputs": [],
   "source": []
  },
  {
   "cell_type": "code",
   "execution_count": null,
   "metadata": {
    "collapsed": true
   },
   "outputs": [],
   "source": []
  },
  {
   "cell_type": "code",
   "execution_count": null,
   "metadata": {
    "collapsed": true
   },
   "outputs": [],
   "source": []
  },
  {
   "cell_type": "code",
   "execution_count": null,
   "metadata": {
    "collapsed": true
   },
   "outputs": [],
   "source": []
  },
  {
   "cell_type": "code",
   "execution_count": null,
   "metadata": {
    "collapsed": true
   },
   "outputs": [],
   "source": []
  },
  {
   "cell_type": "code",
   "execution_count": null,
   "metadata": {
    "collapsed": true
   },
   "outputs": [],
   "source": []
  },
  {
   "cell_type": "code",
   "execution_count": null,
   "metadata": {
    "collapsed": true
   },
   "outputs": [],
   "source": []
  },
  {
   "cell_type": "code",
   "execution_count": null,
   "metadata": {
    "collapsed": true
   },
   "outputs": [],
   "source": []
  }
 ],
 "metadata": {
  "kernelspec": {
   "display_name": "R",
   "language": "R",
   "name": "ir"
  },
  "language_info": {
   "codemirror_mode": "r",
   "file_extension": ".r",
   "mimetype": "text/x-r-source",
   "name": "R",
   "pygments_lexer": "r",
   "version": "3.4.4"
  }
 },
 "nbformat": 4,
 "nbformat_minor": 2
}
