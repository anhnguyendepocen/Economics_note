{
 "cells": [
  {
   "cell_type": "code",
   "execution_count": null,
   "metadata": {
    "collapsed": true
   },
   "outputs": [],
   "source": []
  },
  {
   "cell_type": "markdown",
   "metadata": {},
   "source": [
    "## Model for squared residual:"
   ]
  },
  {
   "cell_type": "code",
   "execution_count": 1,
   "metadata": {},
   "outputs": [
    {
     "name": "stderr",
     "output_type": "stream",
     "text": [
      "Loading required package: zoo\n",
      "\n",
      "Attaching package: 'zoo'\n",
      "\n",
      "The following objects are masked from 'package:base':\n",
      "\n",
      "    as.Date, as.Date.numeric\n",
      "\n"
     ]
    }
   ],
   "source": [
    "library(foreign);library(dynlm);library(lmtest)\n",
    "nyse <- read.dta(\"http://fmwww.bc.edu/ec-p/data/wooldridge/nyse.dta\")\n",
    "\n",
    "tsdata <- ts(nyse)\n",
    "\n",
    "# Linear regression of model:\n",
    "reg <- dynlm(return ~ L(return), data=tsdata) \n",
    "\n",
    "\n"
   ]
  },
  {
   "cell_type": "code",
   "execution_count": 2,
   "metadata": {
    "collapsed": true
   },
   "outputs": [],
   "source": [
    "# squared residual\n",
    "residual.sq <- resid(reg)^2\n",
    "\n"
   ]
  },
  {
   "cell_type": "code",
   "execution_count": 3,
   "metadata": {},
   "outputs": [
    {
     "data": {
      "text/plain": [
       "\n",
       "t test of coefficients:\n",
       "\n",
       "               Estimate Std. Error t value  Pr(>|t|)    \n",
       "(Intercept)    2.947434   0.440234  6.6951 4.485e-11 ***\n",
       "L(residual.sq) 0.337062   0.035947  9.3767 < 2.2e-16 ***\n",
       "---\n",
       "Signif. codes:  0 '***' 0.001 '**' 0.01 '*' 0.05 '.' 0.1 ' ' 1\n"
      ]
     },
     "execution_count": 3,
     "metadata": {},
     "output_type": "execute_result"
    }
   ],
   "source": [
    "# Model for squared residual:\n",
    "ARCHreg <- dynlm(residual.sq ~ L(residual.sq)) \n",
    "coeftest(ARCHreg)"
   ]
  },
  {
   "cell_type": "code",
   "execution_count": 16,
   "metadata": {},
   "outputs": [
    {
     "data": {
      "text/plain": [
       "Package: quantmod\n",
       "Version: 0.4-5\n",
       "Author: Jeffrey A. Ryan [aut, cph], Joshua M. Ulrich [cre, ctb], Wouter\n",
       "        Thielen [ctb]\n",
       "Description: Specify, build, trade, and analyse quantitative financial\n",
       "        trading strategies.\n",
       "\n",
       "-- File: E:/R-3.2.4revised/library/quantmod/Meta/package.rds \n",
       "-- Fields read: Package, Version, Author, Description"
      ]
     },
     "execution_count": 16,
     "metadata": {},
     "output_type": "execute_result"
    }
   ],
   "source": [
    "packageDescription('quantmod', \n",
    "                   fields = c('Package', 'Version', 'Author', 'Description'))"
   ]
  },
  {
   "cell_type": "code",
   "execution_count": 17,
   "metadata": {},
   "outputs": [
    {
     "data": {
      "text/plain": [
       "Package: Quandl\n",
       "Version: 2.7.0\n",
       "Author: Raymond McTaggart [aut, cre], Gergely Daroczi [aut], Clement\n",
       "        Leung [aut], Quandl Inc. [cph]\n",
       "Description: Functions for interacting directly with the Quandl API to\n",
       "        offer data in a number of formats usable in R, downloading a\n",
       "        zip with all data from a Quandl database, and the ability to\n",
       "        search. This R package uses the Quandl API. For more\n",
       "        information go to https://www.quandl.com/docs/api. For more\n",
       "        help on the package itself go to https://www.quandl.com/help/r.\n",
       "\n",
       "-- File: E:/R-3.2.4revised/library/Quandl/Meta/package.rds \n",
       "-- Fields read: Package, Version, Author, Description"
      ]
     },
     "execution_count": 17,
     "metadata": {},
     "output_type": "execute_result"
    }
   ],
   "source": [
    "packageDescription('Quandl', \n",
    "                   fields = c('Package', 'Version', 'Author', 'Description'))"
   ]
  },
  {
   "cell_type": "code",
   "execution_count": 25,
   "metadata": {},
   "outputs": [
    {
     "name": "stderr",
     "output_type": "stream",
     "text": [
      "Warning message:\n",
      "In download.file(paste(yahoo.URL, \"s=\", Symbols.name, \"&a=\", from.m, : downloaded length 253207 != reported length 200"
     ]
    }
   ],
   "source": [
    "require('quantmod')\n",
    "dataset <- getSymbols('GE', auto.assign = FALSE, from = '2000-01-01')\n",
    "# number cannot used as object name, we set auto.assign as FALSE (default is TRUE), # or we can\n",
    "#setSymbolLookup(YINXING = list(name = '000862.sz'))\n",
    "#getSymbols('YINXING', from = '2010-10-10')\n",
    "\n",
    "\n",
    "#dataset <- zoo( pdfetch_YAHOO(\"GE\", fields=\"adjclose\", \n",
    " #                             from=\"2000-01-01\", to=\"2013-12-31\") )\n",
    "\n"
   ]
  },
  {
   "cell_type": "code",
   "execution_count": 28,
   "metadata": {},
   "outputs": [
    {
     "data": {
      "text/plain": [
       "            GE.Open  GE.High   GE.Low GE.Close GE.Volume GE.Adjusted\n",
       "2000-01-03 153.0000 153.6875 149.1875 150.0000  22069800    30.36625\n",
       "2000-01-04 147.2500 148.0000 144.0000 144.0000  22121400    29.15160\n",
       "2000-01-05 143.7500 147.0000 142.5625 143.7500  27292800    29.10100\n",
       "2000-01-06 143.1250 146.9375 142.6250 145.6719  19873200    29.49006\n",
       "2000-01-07 148.0000 151.8750 147.0000 151.3125  20141400    30.63196\n",
       "2000-01-10 152.6875 154.0625 151.1250 151.2500  15226500    30.61931"
      ]
     },
     "execution_count": 28,
     "metadata": {},
     "output_type": "execute_result"
    }
   ],
   "source": [
    "head(dataset)"
   ]
  },
  {
   "cell_type": "code",
   "execution_count": 15,
   "metadata": {},
   "outputs": [
    {
     "name": "stdout",
     "output_type": "stream",
     "text": [
      "package 'Quandl' successfully unpacked and MD5 sums checked\n",
      "\n",
      "The downloaded binary packages are in\n",
      "\tC:\\Users\\oldyu_000\\AppData\\Local\\Temp\\Rtmp0Ag7jo\\downloaded_packages\n"
     ]
    }
   ],
   "source": [
    "install.packages(\"Quandl\", repos = \"http://cran.rstudio.com\")"
   ]
  },
  {
   "cell_type": "code",
   "execution_count": 7,
   "metadata": {},
   "outputs": [
    {
     "name": "stderr",
     "output_type": "stream",
     "text": [
      "Installing package into ‘/home/econ457uvic/R/x86_64-pc-linux-gnu-library/3.4’\n",
      "(as ‘lib’ is unspecified)\n",
      "also installing the dependency ‘XML’\n",
      "\n"
     ]
    }
   ],
   "source": [
    "install.packages(\"pdfetch\")"
   ]
  },
  {
   "cell_type": "code",
   "execution_count": 8,
   "metadata": {},
   "outputs": [],
   "source": [
    "library(\"pdfetch\")"
   ]
  },
  {
   "cell_type": "code",
   "execution_count": 9,
   "metadata": {},
   "outputs": [
    {
     "data": {
      "text/plain": [
       "Package: pdfetch\n",
       "Version: 0.2.3\n",
       "Author: Abiel Reinhart <abielr@gmail.com>\n",
       "Description: Download economic and financial time series from public\n",
       "        sources, including the St Louis Fed's FRED system, Yahoo\n",
       "        Finance, the US Bureau of Labor Statistics, the US Energy\n",
       "        Information Administration, the World Bank, Eurostat, the\n",
       "        European Central Bank, the Bank of England, the UK's Office of\n",
       "        National Statistics, Deutsche Bundesbank, and INSEE.\n",
       "\n",
       "-- File: /home/econ457uvic/R/x86_64-pc-linux-gnu-library/3.4/pdfetch/Meta/package.rds \n",
       "-- Fields read: Package, Version, Author, Description"
      ]
     },
     "metadata": {},
     "output_type": "display_data"
    }
   ],
   "source": [
    "packageDescription('pdfetch', \n",
    "                   fields = c('Package', 'Version', 'Author', 'Description'))"
   ]
  },
  {
   "cell_type": "code",
   "execution_count": 10,
   "metadata": {},
   "outputs": [],
   "source": [
    "require('pdfetch')\n",
    "Yinxing.pdfetch <- pdfetch_YAHOO(identifiers = '000862.sz', fields = 'adjclose',\n",
    "                         from = '2010-10-10')"
   ]
  },
  {
   "cell_type": "code",
   "execution_count": 13,
   "metadata": {},
   "outputs": [
    {
     "data": {},
     "metadata": {},
     "output_type": "display_data"
    },
    {
     "data": {
      "image/png": "[encoded data removed]",
      "text/plain": [
       "plot without title"
      ]
     },
     "metadata": {},
     "output_type": "display_data"
    }
   ],
   "source": [
    "plot(Yinxing.pdfetch )"
   ]
  },
  {
   "cell_type": "code",
   "execution_count": null,
   "metadata": {},
   "outputs": [],
   "source": []
  },
  {
   "cell_type": "code",
   "execution_count": 22,
   "metadata": {
    "collapsed": true
   },
   "outputs": [],
   "source": [
    "library(httr)"
   ]
  },
  {
   "cell_type": "code",
   "execution_count": 12,
   "metadata": {},
   "outputs": [
    {
     "data": {
      "text/html": [
       "<time datetime=\"2018-06-02\">2018-06-02</time>"
      ],
      "text/latex": [
       "2018-06-02"
      ],
      "text/markdown": [
       "2018-06-02"
      ],
      "text/plain": [
       "[1] \"2018-06-02\""
      ]
     },
     "metadata": {},
     "output_type": "display_data"
    },
    {
     "data": {
      "text/html": [
       "4633"
      ],
      "text/latex": [
       "4633"
      ],
      "text/markdown": [
       "4633"
      ],
      "text/plain": [
       "[1] 4633"
      ]
     },
     "metadata": {},
     "output_type": "display_data"
    },
    {
     "data": {
      "text/plain": [
       "             ^gspc   ^ixic     AAPL\n",
       "2000-01-03 1455.22 4131.15 2.695920\n",
       "2000-01-04 1399.42 3901.69 2.468626\n",
       "2000-01-05 1402.11 3877.54 2.504751\n",
       "2000-01-06 1403.45 3727.13 2.287994\n",
       "2000-01-07 1441.47 3882.62 2.396373\n",
       "2000-01-10 1457.60 4049.67 2.354226"
      ]
     },
     "metadata": {},
     "output_type": "display_data"
    },
    {
     "data": {
      "text/plain": [
       "             ^gspc   ^ixic   AAPL\n",
       "2018-05-24 2727.76 7424.43 188.15\n",
       "2018-05-25 2721.33 7433.85 188.58\n",
       "2018-05-29 2689.86 7396.59 187.90\n",
       "2018-05-30 2724.01 7462.45 187.50\n",
       "2018-05-31 2705.27 7442.12 186.87\n",
       "2018-06-01 2734.62 7554.33 190.24"
      ]
     },
     "metadata": {},
     "output_type": "display_data"
    },
    {
     "data": {},
     "metadata": {},
     "output_type": "display_data"
    },
    {
     "data": {
      "image/png": "[encoded data removed]",
      "text/plain": [
       "plot without title"
      ]
     },
     "metadata": {},
     "output_type": "display_data"
    }
   ],
   "source": [
    "library(pdfetch)\n",
    "\n",
    "# Which Yahoo Finance symbols?\n",
    "# \"^gspc\"=S&P 500, \"^ixic\"=NASDAQ Composite, \"AAPL\"=Apple Inc.\n",
    "tickernames <- c(\"^gspc\",\"^ixic\", \"AAPL\")\n",
    "\n",
    "# Download data\n",
    "yahoo<-pdfetch_YAHOO(tickernames,fields=\"adjclose\",from=\"2000-01-01\")\n",
    "\n",
    "# The end date is left out, so we get the latest data. Today is...\n",
    "Sys.Date()\n",
    "\n",
    "# Number of obs., first and last rows of data\n",
    "nrow(yahoo)\n",
    "head(yahoo)\n",
    "tail(yahoo)\n",
    "\n",
    "# Time series plot of Apple stock\n",
    "plot(yahoo$AAPL, las=2)"
   ]
  },
  {
   "cell_type": "code",
   "execution_count": null,
   "metadata": {
    "collapsed": true
   },
   "outputs": [],
   "source": []
  },
  {
   "cell_type": "code",
   "execution_count": null,
   "metadata": {
    "collapsed": true
   },
   "outputs": [],
   "source": []
  },
  {
   "cell_type": "code",
   "execution_count": 31,
   "metadata": {},
   "outputs": [
    {
     "name": "stdout",
     "output_type": "stream",
     "text": [
      "An 'xts' object on 2000-01-03/2016-03-28 containing:\n",
      "  Data: num [1:4083, 1:6] 153 147 144 143 148 ...\n",
      " - attr(*, \"dimnames\")=List of 2\n",
      "  ..$ : NULL\n",
      "  ..$ : chr [1:6] \"GE.Open\" \"GE.High\" \"GE.Low\" \"GE.Close\" ...\n",
      "  Indexed by objects of class: [Date] TZ: UTC\n",
      "  xts Attributes:  \n",
      "List of 2\n",
      " $ src    : chr \"yahoo\"\n",
      " $ updated: POSIXct[1:1], format: \"2016-03-29 00:16:32\"\n"
     ]
    }
   ],
   "source": [
    "str(dataset)"
   ]
  },
  {
   "cell_type": "code",
   "execution_count": 34,
   "metadata": {},
   "outputs": [],
   "source": [
    "#dataset[,6]"
   ]
  },
  {
   "cell_type": "code",
   "execution_count": 15,
   "metadata": {},
   "outputs": [],
   "source": [
    "# Libraries\n",
    "library(zoo);library(pdfetch);\n",
    "#library(dynlm);library(lmtest)\n",
    "\n",
    "dataset=pdfetch_YAHOO(\"GE\", fields=\"adjclose\", \n",
    "                              from=\"2000-01-01\", to=\"2013-12-31\")"
   ]
  },
  {
   "cell_type": "code",
   "execution_count": 16,
   "metadata": {},
   "outputs": [
    {
     "ename": "ERROR",
     "evalue": "Error in `[.xts`(dataset, , 6): subscript out of bounds\n",
     "output_type": "error",
     "traceback": [
      "Error in `[.xts`(dataset, , 6): subscript out of bounds\nTraceback:\n",
      "1. diff(log(dataset[, 6]))",
      "2. dataset[, 6]",
      "3. `[.xts`(dataset, , 6)",
      "4. stop(\"subscript out of bounds\")"
     ]
    }
   ],
   "source": [
    "# Calculate return as the log difference\n",
    "GE.ret <- diff( log(dataset[,6]) )\n",
    "head(GE.ret$GE.Adjusted)"
   ]
  },
  {
   "cell_type": "code",
   "execution_count": 17,
   "metadata": {},
   "outputs": [
    {
     "ename": "ERROR",
     "evalue": "Error in dynlm(GE.ret ~ L(GE.ret)): could not find function \"dynlm\"\n",
     "output_type": "error",
     "traceback": [
      "Error in dynlm(GE.ret ~ L(GE.ret)): could not find function \"dynlm\"\nTraceback:\n"
     ]
    }
   ],
   "source": [
    "\n",
    "# Download GE stock prices from Yahoo Finance and store as \"zoo\" object\n",
    "#dataset <- zoo( pdfetch_YAHOO(\"GE\", fields=\"adjclose\", \n",
    "#                              from=\"2000-01-01\", to=\"2013-12-31\") )\n",
    "\n",
    "\n",
    "\n",
    "# AR(1) model for returns\n",
    "reg <- dynlm( GE.ret ~ L(GE.ret) ) \n",
    "\n",
    "reg"
   ]
  },
  {
   "cell_type": "code",
   "execution_count": null,
   "metadata": {
    "collapsed": true
   },
   "outputs": [],
   "source": [
    "# squared residual\n",
    "residual.sq <- resid(reg)^2\n",
    "\n",
    "# Model for squared residual:\n",
    "ARCHreg <- dynlm(residual.sq ~ L(residual.sq)) \n",
    "summary(ARCHreg)\n"
   ]
  },
  {
   "cell_type": "code",
   "execution_count": 24,
   "metadata": {},
   "outputs": [
    {
     "data": {
      "text/html": [
       "\"USDCNY\""
      ],
      "text/latex": [
       "\"USDCNY\""
      ],
      "text/markdown": [
       "\"USDCNY\""
      ],
      "text/plain": [
       "[1] \"USDCNY\""
      ]
     },
     "execution_count": 24,
     "metadata": {},
     "output_type": "execute_result"
    }
   ],
   "source": [
    "getSymbols('USD/CNY', src = 'oanda', from = '2013-10-10')"
   ]
  },
  {
   "cell_type": "code",
   "execution_count": null,
   "metadata": {
    "collapsed": true
   },
   "outputs": [],
   "source": []
  },
  {
   "cell_type": "code",
   "execution_count": null,
   "metadata": {
    "collapsed": true
   },
   "outputs": [],
   "source": []
  },
  {
   "cell_type": "code",
   "execution_count": null,
   "metadata": {
    "collapsed": true
   },
   "outputs": [],
   "source": []
  },
  {
   "cell_type": "code",
   "execution_count": null,
   "metadata": {
    "collapsed": true
   },
   "outputs": [],
   "source": []
  },
  {
   "cell_type": "code",
   "execution_count": null,
   "metadata": {
    "collapsed": true
   },
   "outputs": [],
   "source": []
  },
  {
   "cell_type": "code",
   "execution_count": null,
   "metadata": {
    "collapsed": true
   },
   "outputs": [],
   "source": []
  }
 ],
 "metadata": {
  "kernelspec": {
   "display_name": "R",
   "language": "R",
   "name": "ir"
  },
  "language_info": {
   "codemirror_mode": "r",
   "file_extension": ".r",
   "mimetype": "text/x-r-source",
   "name": "R",
   "pygments_lexer": "r",
   "version": "3.4.2"
  }
 },
 "nbformat": 4,
 "nbformat_minor": 1
}
