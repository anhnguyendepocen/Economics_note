{
 "cells": [
  {
   "cell_type": "code",
   "execution_count": 152,
   "metadata": {
    "collapsed": true,
    "slideshow": {
     "slide_type": "notes"
    }
   },
   "outputs": [],
   "source": [
    "#install.packages(\"openintro\")\n",
    "library(openintro)\n",
    "data(COL)# color"
   ]
  },
  {
   "cell_type": "markdown",
   "metadata": {
    "slideshow": {
     "slide_type": "notes"
    }
   },
   "source": [
    "# BUS 230: Elementary Statistics\n",
    "\n",
    "*Camuson College*\n",
    "\n",
    "2017.11.23\n",
    "\n",
    "Jon Duan"
   ]
  },
  {
   "cell_type": "markdown",
   "metadata": {
    "slideshow": {
     "slide_type": "slide"
    }
   },
   "source": [
    "# BUS 230: Introduction to Statistics\n",
    "## T Test of Population Mean\n",
    "\n",
    "*Camuson College*\n",
    "\n",
    "2017.11.23\n",
    "\n",
    "Jon Duan"
   ]
  },
  {
   "cell_type": "markdown",
   "metadata": {
    "slideshow": {
     "slide_type": "slide"
    }
   },
   "source": [
    "## A basic statistics course. \n",
    "\n",
    "The emphasis is on business applications of statistical methods. The contents of the course are: \n",
    "\n",
    "- how to describe data; \n",
    "\n",
    "- analysis of decisions made with uncertainty; \n",
    "\n",
    "- analysis of statistical data; \n",
    "\n",
    "- and making predictions based on statistical data.\n",
    "\n"
   ]
  },
  {
   "cell_type": "markdown",
   "metadata": {
    "slideshow": {
     "slide_type": "subslide"
    }
   },
   "source": [
    "![](https://archive.cnx.org/resources/16c937daf5012db1b115922dd2bbf82fdb422604/Diagram%202.png)"
   ]
  },
  {
   "cell_type": "markdown",
   "metadata": {
    "slideshow": {
     "slide_type": "subslide"
    }
   },
   "source": [
    "## Learning Objectives\n",
    "\n",
    "- Learn to use T test to examine a real problem\n",
    "\n",
    " - an accounting procedures problem: inventory evaluation\n",
    "  - LIFO (Last in First Out) \n",
    "  - FIFO (First in First Out). \n",
    "  \n",
    "  "
   ]
  },
  {
   "cell_type": "markdown",
   "metadata": {
    "slideshow": {
     "slide_type": "subslide"
    }
   },
   "source": [
    "# Case Study\n",
    "\n",
    "**Homework question**: Accounting procedures allow a business to evaluate their inventory at LIFO (Last in First Out) or FIFO (First in First Out). \n",
    "\n",
    "A manufacturer evaluated its finished goods inventory (in $ thousands) for five products both ways. \n",
    "\n",
    "Based on the following results, is LIFO more effective in keeping the value of inventory lower?\n",
    "\n",
    "| Product  | FIFO (F)  | LIFO (L) |\n",
    "|----------|-----------|----------|\n",
    "| 1        | 225       | 221      |\n",
    "| 2        | 119       | 100      |\n",
    "| 3        | 100       | 113      |\n",
    "| 4        | 212       | 200      |\n",
    "| 5        | 248       | 245      | \n",
    "\n",
    "\n",
    "Use a 5% significance level.\n",
    "\n",
    "**Question:** is this a paired means or independent means test?"
   ]
  },
  {
   "cell_type": "markdown",
   "metadata": {
    "slideshow": {
     "slide_type": "slide"
    }
   },
   "source": [
    "## Recap- **[Four steps of Hypothesis test](https://onlinecourses.science.psu.edu/stat100/node/64)**:\n",
    "\n",
    "\n",
    "- Step One: State the null and alternative hypotheses\n",
    "- Step Two: Collect and summarize the data so that a test statistic can be calculated. \n",
    "- A **test statistic** is a summary of the data that measures the difference between what is seen in the data and what would be expected if the null hypothesis were true. It is typically standardized so that a p-value can be obtained from a reference distribution like the normal curve.\n",
    "\n",
    "- Step Three: Use the test statistic to find the p-value. \n",
    "- Step Four: Make a decision using the p-value. State a conclusion in terms of the problem.\n",
    "\n",
    "  \n",
    "\n"
   ]
  },
  {
   "cell_type": "markdown",
   "metadata": {
    "slideshow": {
     "slide_type": "subslide"
    }
   },
   "source": [
    "## Recap - Types of Errors\n",
    "\n",
    "- **Typy I error**:  reject a null hypothesis that is really true (with tests of difference this means that you say there was a difference between the groups when there really was not a difference).  \n",
    "\n",
    "- **significant level $\\alpha$**: the probability of making a Type I error is the $\\alpha$ level you choose.\n",
    "\n",
    "- **Type II error $\\beta$** : fail to reject a null hypothesis that is false (with tests of differences this means that you say there was no difference between the groups when there really was one)\n",
    "\n",
    "- **power $(1- \\beta) $** is the probability of rejecting the null hypothesis when the specific alternative hypothesis is true. \n",
    "\n",
    "\n"
   ]
  },
  {
   "cell_type": "markdown",
   "metadata": {
    "slideshow": {
     "slide_type": "subslide"
    }
   },
   "source": [
    "![](http://slideplayer.com/slide/7211254/24/images/23/True+state+of+nature+Decision+The+null+hypothesis+is+true..jpg)"
   ]
  },
  {
   "cell_type": "markdown",
   "metadata": {
    "slideshow": {
     "slide_type": "subslide"
    }
   },
   "source": [
    "## Recap - P-value\n",
    "\n",
    "- The **p-value** represents the likelihood of getting our test statistic or any test statistic more extreme, if in fact the null hypothesis is true.\n",
    "  - For a one-sided \"greater than\" alternative hypothesis, the \"more extreme\" part of the interpretation refers to test statistic values larger than the test statistic given.\n",
    "  - For a one-sided \"less than\" alternative hypothesis, the \"more extreme\" part of the interpretation refers to test statistic values smaller than the test statistic given.\n",
    "  - For a two-sided \"not equal to\" alternative hypothesis, the \"more extreme\" part of the interpretation refers to test statistic values that are farther away from the null hypothesis than the test statistic given at either the upper end or lower end of the reference distribution (both \"tails\").\n",
    "\n"
   ]
  },
  {
   "cell_type": "markdown",
   "metadata": {
    "slideshow": {
     "slide_type": "notes"
    }
   },
   "source": [
    "### How do I decide which type of t test to use?\n",
    "\n",
    "![](https://researchbasics.education.uconn.edu/wp-content/uploads/sites/1215/2015/05/t-test-decisions1.gif)"
   ]
  },
  {
   "cell_type": "markdown",
   "metadata": {
    "slideshow": {
     "slide_type": "notes"
    }
   },
   "source": [
    "![](http://www.sthda.com/sthda/RDoc/images/t-test-diagram.png)"
   ]
  },
  {
   "cell_type": "markdown",
   "metadata": {
    "slideshow": {
     "slide_type": "subslide"
    }
   },
   "source": [
    "## Recap - Types of T Tests\n",
    "\n",
    "- One and two sample hypothesis testing\n",
    "\n",
    "- Three Types of t tests\n",
    "\n",
    "![](https://researchbasics.education.uconn.edu/wp-content/uploads/sites/1215/2015/05/t-test1.jpg)"
   ]
  },
  {
   "cell_type": "markdown",
   "metadata": {
    "slideshow": {
     "slide_type": "subslide"
    }
   },
   "source": [
    "## Pair-difference T test\n",
    "\n",
    "- t-test for dependent groups, correlated t test \n",
    "\n",
    "- df= n (number of pairs) -1\n",
    "\n",
    "- For example: \n",
    "  - compares the difference between the average scores of a single sample of individuals who are assessed at two different times (such as before treatment and after treatment). \n",
    "\n",
    "  - compares average scores of samples of individuals who are paired in some way (such as siblings, mothers, daughters, persons who are matched in terms of a particular characteristics).\n",
    "  \n",
    "- Taking two measurements on the same individual can serve to **reduce the variability**.  \n",
    " - Person-to-preson variability plays less of a role and it become it easier to isolate the effect of interest."
   ]
  },
  {
   "cell_type": "markdown",
   "metadata": {
    "slideshow": {
     "slide_type": "subslide"
    }
   },
   "source": [
    "## T test for Independent Samples (with two options)\n",
    "\n",
    "\n",
    "- compares the averages of two samples that were selected independently of each other. \n",
    "\n",
    "- Equal Variance (Pooled-variance t-test) \n",
    "\n",
    " - df=n (total of both groups) -2      \n",
    " - $s_p =\\sqrt{\\frac{(n_1-1)s_1^2+(n_2-1)s_2^2}{n_1+n_2-2}}$\n",
    " - $t^{*}=\\frac{{\\bar{x}}_1-{\\bar{x}}_2}{s_p \\sqrt{\\frac{1}{n_1}+\\frac{1}{n_2}}}$\n",
    "\n",
    "\n",
    "- Unequal Variance (Separate-variance t test) \n",
    " - df dependents on a formula, but a rough estimate is one less than the smallest group  \n",
    " - $s_1 \\ne s_2$ \n",
    " - $\\sqrt{\\frac{s_1^2}{n_1}+\\frac{s_2^2}{n_2}}$\n",
    " - $t^{*}=\\frac{{\\bar{x}}_1-{\\bar{x}}_2}{\\sqrt{\\frac{s_1^2}{n_1}+\\frac{s_2^2}{n_2}}}$"
   ]
  },
  {
   "cell_type": "markdown",
   "metadata": {
    "slideshow": {
     "slide_type": "slide"
    }
   },
   "source": [
    "# Case Study\n",
    "\n",
    "**Homework question**: Accounting procedures allow a business to evaluate their inventory at LIFO (Last in First Out) or FIFO (First in First Out). \n",
    "\n",
    "A manufacturer evaluated its finished goods inventory (in $ thousands) for five products both ways. \n",
    "\n",
    "Based on the following results, is LIFO more effective in keeping the value of inventory lower?\n",
    "\n",
    "| Product  | FIFO (F)  | LIFO (L) |\n",
    "|----------|-----------|----------|\n",
    "| 1        | 225       | 221      |\n",
    "| 2        | 119       | 100      |\n",
    "| 3        | 100       | 113      |\n",
    "| 4        | 212       | 200      |\n",
    "| 5        | 248       | 245      | \n",
    "\n",
    "\n",
    "Use a 5% significance level."
   ]
  },
  {
   "cell_type": "markdown",
   "metadata": {
    "slideshow": {
     "slide_type": "subslide"
    }
   },
   "source": [
    "## Is it a one sample T test or a two sample T test?\n",
    "\n",
    "## Is it a Paired or an Independent T - test?\n",
    "\n",
    "review previous class notes"
   ]
  },
  {
   "cell_type": "markdown",
   "metadata": {
    "slideshow": {
     "slide_type": "subslide"
    }
   },
   "source": [
    "## Let's first look at the data"
   ]
  },
  {
   "cell_type": "code",
   "execution_count": 153,
   "metadata": {
    "collapsed": true,
    "slideshow": {
     "slide_type": "notes"
    }
   },
   "outputs": [],
   "source": [
    "#inventory = read.csv(\"statsTeaching.csv\")\n",
    "Product <- c(1,2,3,4,5)\n",
    "FIFO <- c(225 ,119,100,212,248)\n",
    "LIFO <- c(221 ,100,113,200,245)\n",
    "inventory =  data.frame(Product, FIFO, LIFO)\n",
    "inventory$difference = inventory$FIFO-inventory$LIFO"
   ]
  },
  {
   "cell_type": "code",
   "execution_count": 154,
   "metadata": {
    "slideshow": {
     "slide_type": "subslide"
    }
   },
   "outputs": [
    {
     "data": {
      "text/html": [
       "<table>\n",
       "<thead><tr><th scope=col>Product</th><th scope=col>FIFO</th><th scope=col>LIFO</th><th scope=col>difference</th></tr></thead>\n",
       "<tbody>\n",
       "\t<tr><td>1  </td><td>225</td><td>221</td><td>  4</td></tr>\n",
       "\t<tr><td>2  </td><td>119</td><td>100</td><td> 19</td></tr>\n",
       "\t<tr><td>3  </td><td>100</td><td>113</td><td>-13</td></tr>\n",
       "\t<tr><td>4  </td><td>212</td><td>200</td><td> 12</td></tr>\n",
       "\t<tr><td>5  </td><td>248</td><td>245</td><td>  3</td></tr>\n",
       "</tbody>\n",
       "</table>\n"
      ],
      "text/latex": [
       "\\begin{tabular}{r|llll}\n",
       " Product & FIFO & LIFO & difference\\\\\n",
       "\\hline\n",
       "\t 1   & 225 & 221 &   4\\\\\n",
       "\t 2   & 119 & 100 &  19\\\\\n",
       "\t 3   & 100 & 113 & -13\\\\\n",
       "\t 4   & 212 & 200 &  12\\\\\n",
       "\t 5   & 248 & 245 &   3\\\\\n",
       "\\end{tabular}\n"
      ],
      "text/markdown": [
       "\n",
       "Product | FIFO | LIFO | difference | \n",
       "|---|---|---|---|---|\n",
       "| 1   | 225 | 221 |   4 | \n",
       "| 2   | 119 | 100 |  19 | \n",
       "| 3   | 100 | 113 | -13 | \n",
       "| 4   | 212 | 200 |  12 | \n",
       "| 5   | 248 | 245 |   3 | \n",
       "\n",
       "\n"
      ],
      "text/plain": [
       "  Product FIFO LIFO difference\n",
       "1 1       225  221    4       \n",
       "2 2       119  100   19       \n",
       "3 3       100  113  -13       \n",
       "4 4       212  200   12       \n",
       "5 5       248  245    3       "
      ]
     },
     "metadata": {},
     "output_type": "display_data"
    }
   ],
   "source": [
    "inventory"
   ]
  },
  {
   "cell_type": "code",
   "execution_count": 155,
   "metadata": {
    "slideshow": {
     "slide_type": "fragment"
    }
   },
   "outputs": [
    {
     "data": {
      "text/plain": [
       "      FIFO            LIFO         difference \n",
       " Min.   :100.0   Min.   :100.0   Min.   :-13  \n",
       " 1st Qu.:119.0   1st Qu.:113.0   1st Qu.:  3  \n",
       " Median :212.0   Median :200.0   Median :  4  \n",
       " Mean   :180.8   Mean   :175.8   Mean   :  5  \n",
       " 3rd Qu.:225.0   3rd Qu.:221.0   3rd Qu.: 12  \n",
       " Max.   :248.0   Max.   :245.0   Max.   : 19  "
      ]
     },
     "metadata": {},
     "output_type": "display_data"
    }
   ],
   "source": [
    "summary(inventory[-1])"
   ]
  },
  {
   "cell_type": "code",
   "execution_count": 156,
   "metadata": {
    "slideshow": {
     "slide_type": "subslide"
    }
   },
   "outputs": [
    {
     "data": {
      "image/png": "[encoded data removed]",
      "text/plain": [
       "plot without title"
      ]
     },
     "metadata": {},
     "output_type": "display_data"
    }
   ],
   "source": [
    "boxplot(inventory[-1])"
   ]
  },
  {
   "cell_type": "markdown",
   "metadata": {
    "slideshow": {
     "slide_type": "subslide"
    }
   },
   "source": [
    "## Before we implement T test, should we consider the assumptions/pretest?"
   ]
  },
  {
   "cell_type": "markdown",
   "metadata": {
    "slideshow": {
     "slide_type": "subslide"
    }
   },
   "source": [
    "## The Paired t-Procedure\n",
    "### Assumptions:\n",
    "\n",
    "1. Paired samples\n",
    "2. The differences of the pairs follow a normal distribution or the number of pairs is large \n",
    "  - if the number of pairs is < 30, we need to check whether the differences are normal, but we do not need to check for the normality of each population"
   ]
  },
  {
   "cell_type": "markdown",
   "metadata": {
    "slideshow": {
     "slide_type": "subslide"
    }
   },
   "source": [
    "### Assumptions:\n",
    "\n",
    "1. Is this a paired sample? - Yes.\n",
    "\n",
    "2. Is this a large sample? - No.\n",
    "\n",
    "3. Since the sample size is not large enough (less than 30), we need to check whether the differences follow a normal distribution."
   ]
  },
  {
   "cell_type": "markdown",
   "metadata": {
    "slideshow": {
     "slide_type": "notes"
    }
   },
   "source": [
    "ref:\n",
    "\n",
    "https://onlinecourses.science.psu.edu/stat500/node/51\n",
    "\n",
    "https://www2.stat.duke.edu/courses/Spring13/sta101.001/slides/unit4lec1H.pdf\n",
    "\n",
    "http://www.sthda.com/english/wiki/t-test-analysis-is-it-always-correct-to-compare-means"
   ]
  },
  {
   "cell_type": "code",
   "execution_count": 157,
   "metadata": {
    "slideshow": {
     "slide_type": "subslide"
    }
   },
   "outputs": [
    {
     "data": {
      "image/png": "[encoded data removed]",
      "text/plain": [
       "Plot with title “Normal Q-Q Plot”"
      ]
     },
     "metadata": {},
     "output_type": "display_data"
    }
   ],
   "source": [
    "qqnorm(inventory$difference);qqline(inventory$difference, col = 2) ## Plot using a qqplot(Quantile-quantile plot)"
   ]
  },
  {
   "cell_type": "code",
   "execution_count": 158,
   "metadata": {
    "slideshow": {
     "slide_type": "subslide"
    }
   },
   "outputs": [
    {
     "data": {
      "text/plain": [
       "\n",
       "\tShapiro-Wilk normality test\n",
       "\n",
       "data:  inventory$difference\n",
       "W = 0.95726, p-value = 0.7888\n"
      ]
     },
     "metadata": {},
     "output_type": "display_data"
    }
   ],
   "source": [
    "shapiro.test(inventory$difference) ## Perform the normality test"
   ]
  },
  {
   "cell_type": "markdown",
   "metadata": {
    "slideshow": {
     "slide_type": "fragment"
    }
   },
   "source": [
    "The normality test is sensitive to sample size. Small samples most often pass normality tests. Therefore, it’s important to combine visual inspection and significance test in order to take the right decision."
   ]
  },
  {
   "cell_type": "markdown",
   "metadata": {
    "slideshow": {
     "slide_type": "subslide"
    }
   },
   "source": [
    "## Now let's get it started \n",
    "\n",
    "review the 4 steps procedures"
   ]
  },
  {
   "cell_type": "markdown",
   "metadata": {
    "slideshow": {
     "slide_type": "subslide"
    }
   },
   "source": [
    "## 1. Hypothesis:\n",
    "\n",
    "$$H_0: \\mu_d = 0    \\quad \\quad H_a: \\mu_d > 0$$\n",
    "\n",
    "**counterfactual argument:**\n",
    "\n",
    "If we seek strong evidence in favor of a particular outcome, we define that outcome as the alternative hypothesis, $H_1$, and the other outcome as the null hypothesis ,$H_0$. \n",
    "\n",
    "- When reject $H_0$, there is strong evidence in favor of $H_1$, and we are confident that our decision is correct.\n",
    "\n",
    "- But failing to reject $H_0$ leads to great uncertainty. (We will discuss this issue in more detail later.)"
   ]
  },
  {
   "cell_type": "markdown",
   "metadata": {
    "slideshow": {
     "slide_type": "subslide"
    }
   },
   "source": [
    "## 2. t-statistic:\n",
    "\n",
    "Let $d =$ differences between the pairs of data,  then $\\bar d =$  mean of these differences.\n",
    "\n",
    "- The test statistics is: $t^{*}=\\frac{\\bar{d}-0}{{s_d}/\\sqrt{n}}$\n",
    "\n",
    "- degrees of freedom = $n - 1$\n",
    "\n",
    "where $n$ denotes the number of pairs or the number of differences. ${s_d }$  is the standard deviation of the sample differences"
   ]
  },
  {
   "cell_type": "code",
   "execution_count": 159,
   "metadata": {
    "slideshow": {
     "slide_type": "subslide"
    }
   },
   "outputs": [
    {
     "data": {
      "text/html": [
       "4"
      ],
      "text/latex": [
       "4"
      ],
      "text/markdown": [
       "4"
      ],
      "text/plain": [
       "[1] 4"
      ]
     },
     "metadata": {},
     "output_type": "display_data"
    }
   ],
   "source": [
    "n = 5 # number of observation\n",
    "(df = n-1) # degree of freedom"
   ]
  },
  {
   "cell_type": "code",
   "execution_count": 160,
   "metadata": {
    "slideshow": {
     "slide_type": "fragment"
    }
   },
   "outputs": [
    {
     "data": {
      "text/html": [
       "5"
      ],
      "text/latex": [
       "5"
      ],
      "text/markdown": [
       "5"
      ],
      "text/plain": [
       "[1] 5"
      ]
     },
     "metadata": {},
     "output_type": "display_data"
    }
   ],
   "source": [
    "(dbar= mean(inventory$difference))# mean of differences"
   ]
  },
  {
   "cell_type": "code",
   "execution_count": 161,
   "metadata": {
    "slideshow": {
     "slide_type": "fragment"
    }
   },
   "outputs": [
    {
     "data": {
      "text/html": [
       "11.9791485507109"
      ],
      "text/latex": [
       "11.9791485507109"
      ],
      "text/markdown": [
       "11.9791485507109"
      ],
      "text/plain": [
       "[1] 11.97915"
      ]
     },
     "metadata": {},
     "output_type": "display_data"
    }
   ],
   "source": [
    "(sd_d= sd(inventory$difference)) # standard deviation of differences"
   ]
  },
  {
   "cell_type": "code",
   "execution_count": 162,
   "metadata": {
    "slideshow": {
     "slide_type": "fragment"
    }
   },
   "outputs": [
    {
     "data": {
      "text/html": [
       "5.35723809439155"
      ],
      "text/latex": [
       "5.35723809439155"
      ],
      "text/markdown": [
       "5.35723809439155"
      ],
      "text/plain": [
       "[1] 5.357238"
      ]
     },
     "metadata": {},
     "output_type": "display_data"
    }
   ],
   "source": [
    "(SE =  sd_d/sqrt(n)) # standard error of the mean of difference"
   ]
  },
  {
   "cell_type": "code",
   "execution_count": 163,
   "metadata": {
    "slideshow": {
     "slide_type": "fragment"
    }
   },
   "outputs": [
    {
     "data": {
      "text/html": [
       "0.933316741183197"
      ],
      "text/latex": [
       "0.933316741183197"
      ],
      "text/markdown": [
       "0.933316741183197"
      ],
      "text/plain": [
       "[1] 0.9333167"
      ]
     },
     "metadata": {},
     "output_type": "display_data"
    }
   ],
   "source": [
    "(t_score =  (dbar-0)/(SE )) # t score / observed t value"
   ]
  },
  {
   "cell_type": "markdown",
   "metadata": {
    "slideshow": {
     "slide_type": "subslide"
    }
   },
   "source": [
    "## 3 Decision rule\n",
    "\n",
    "- choose 5% significant level, calculate t critical value: \n",
    "\n",
    " - if t score $t^* \\ge t_{\\alpha}$, we reject $H_0$\n",
    "\n",
    "or \n",
    "\n",
    "- compute p-value according to the t score:  \n",
    "\n",
    " - if p-value is less than 5%, we reject $H_0$"
   ]
  },
  {
   "cell_type": "code",
   "execution_count": 164,
   "metadata": {
    "slideshow": {
     "slide_type": "subslide"
    }
   },
   "outputs": [
    {
     "data": {
      "text/html": [
       "2.13184678632665"
      ],
      "text/latex": [
       "2.13184678632665"
      ],
      "text/markdown": [
       "2.13184678632665"
      ],
      "text/plain": [
       "[1] 2.131847"
      ]
     },
     "metadata": {},
     "output_type": "display_data"
    }
   ],
   "source": [
    "nullval = 0 # null value \n",
    "(t_crit = qt(0.95 ,df = df)) # critical value for decision rule\n",
    "tdens = dt(tcrit, df=df)"
   ]
  },
  {
   "cell_type": "code",
   "execution_count": 165,
   "metadata": {
    "slideshow": {
     "slide_type": "subslide"
    }
   },
   "outputs": [
    {
     "data": {
      "image/png": "[encoded data removed]",
      "text/plain": [
       "Plot with title “Under H_0, T distribution with df 4”"
      ]
     },
     "metadata": {},
     "output_type": "display_data"
    }
   ],
   "source": [
    "normTail(m=nullval,  U = tcrit, df = df, col = COL[1], main = \"Under H_0, T distribution with df 4\")\n",
    "lines(c(tcrit, tcrit), c(tdens, tdens*1.5), lty = 3, lwd = 2)\n",
    "text(tcrit, tdens*1.8, paste0(\"T critical value = \", round(tcrit,2)), pos = 3,cex = 0.8)\n",
    "lines(c(t_score, t_score),   c(0, dt(t_score, df=df)*1.5), lty = 3, lwd = 2)\n",
    "text(t_score, dt(t_score, df=df)*1.5, paste0(\"T score = \", round(t_score,2)),\n",
    "     pos = 3, cex = 0.8)"
   ]
  },
  {
   "cell_type": "markdown",
   "metadata": {
    "slideshow": {
     "slide_type": "subslide"
    }
   },
   "source": [
    "![](https://i.stack.imgur.com/PiSUh.png)"
   ]
  },
  {
   "cell_type": "code",
   "execution_count": 166,
   "metadata": {
    "slideshow": {
     "slide_type": "subslide"
    }
   },
   "outputs": [
    {
     "data": {
      "text/html": [
       "0.20174607877791"
      ],
      "text/latex": [
       "0.20174607877791"
      ],
      "text/markdown": [
       "0.20174607877791"
      ],
      "text/plain": [
       "[1] 0.2017461"
      ]
     },
     "metadata": {},
     "output_type": "display_data"
    }
   ],
   "source": [
    "(p_value = pt(t_score, df = df, lower.tail = FALSE) )# oneside t test, p-value\n",
    "tdens = dt(t_score, df=df)"
   ]
  },
  {
   "cell_type": "code",
   "execution_count": 167,
   "metadata": {
    "slideshow": {
     "slide_type": "subslide"
    }
   },
   "outputs": [
    {
     "data": {
      "image/png": "[encoded data removed]",
      "text/plain": [
       "Plot with title “Under H_0, T distribution with df 4”"
      ]
     },
     "metadata": {},
     "output_type": "display_data"
    }
   ],
   "source": [
    "normTail(m=nullval,  U = t_score, df = df, col = COL[1], main = \"Under H_0, T distribution with df 4\")\n",
    "lines(c(t_score, t_score), c(tdens, tdens*1.5), lty = 3, lwd = 2)\n",
    "text(t_score, tdens*1.5, paste0(\"T score = \", round(t_score,2), \"\\n P-value = \", round(p_value,3)*100, \"%\"), pos = 3,cex = 0.8)"
   ]
  },
  {
   "cell_type": "markdown",
   "metadata": {
    "slideshow": {
     "slide_type": "subslide"
    }
   },
   "source": [
    "![](https://i.stack.imgur.com/PiSUh.png)"
   ]
  },
  {
   "cell_type": "markdown",
   "metadata": {
    "slideshow": {
     "slide_type": "subslide"
    }
   },
   "source": [
    "## 4. Conclusion: We fail to reject $H_0$\n",
    "\n",
    "If we fail to reject, then either the null hypothesis is true or our procedure for detecting a false null hypothesis does not have sufficient power-- for example, the sample size is too small. "
   ]
  },
  {
   "cell_type": "markdown",
   "metadata": {
    "slideshow": {
     "slide_type": "subslide"
    }
   },
   "source": [
    "## Check our answer in R"
   ]
  },
  {
   "cell_type": "code",
   "execution_count": 168,
   "metadata": {
    "slideshow": {
     "slide_type": "subslide"
    }
   },
   "outputs": [
    {
     "data": {
      "text/plain": [
       "\n",
       "\tOne Sample t-test\n",
       "\n",
       "data:  inventory$difference\n",
       "t = 0.93332, df = 4, p-value = 0.2017\n",
       "alternative hypothesis: true mean is greater than 0\n",
       "95 percent confidence interval:\n",
       " -6.420811       Inf\n",
       "sample estimates:\n",
       "mean of x \n",
       "        5 \n"
      ]
     },
     "metadata": {},
     "output_type": "display_data"
    }
   ],
   "source": [
    "t.test(inventory$difference, alt=\"greater\")"
   ]
  },
  {
   "cell_type": "code",
   "execution_count": 169,
   "metadata": {
    "slideshow": {
     "slide_type": "subslide"
    }
   },
   "outputs": [
    {
     "data": {
      "text/plain": [
       "\n",
       "\tPaired t-test\n",
       "\n",
       "data:  inventory$FIFO and inventory$LIFO\n",
       "t = 0.93332, df = 4, p-value = 0.2017\n",
       "alternative hypothesis: true difference in means is greater than 0\n",
       "95 percent confidence interval:\n",
       " -6.420811       Inf\n",
       "sample estimates:\n",
       "mean of the differences \n",
       "                      5 \n"
      ]
     },
     "metadata": {},
     "output_type": "display_data"
    }
   ],
   "source": [
    "t.test(inventory$FIFO, inventory$LIFO, paired=TRUE, alt=\"greater\")"
   ]
  },
  {
   "cell_type": "code",
   "execution_count": 170,
   "metadata": {
    "slideshow": {
     "slide_type": "subslide"
    }
   },
   "outputs": [
    {
     "name": "stdout",
     "output_type": "stream",
     "text": [
      "Single mean \n",
      "Summary statistics: mean = 5 ;  sd = 11.9791 ;  n = 5 \n",
      "H0: mu = 0 \n",
      "HA: mu > 0 \n",
      "Standard error = 5.3572 \n",
      "Test statistic: T = 0.933 \n",
      "Degrees of freedom:  4 \n",
      "p-value =  0.2017 \n"
     ]
    },
    {
     "data": {
      "image/png": "[encoded data removed]",
      "text/plain": [
       "Plot with title “”"
      ]
     },
     "metadata": {},
     "output_type": "display_data"
    }
   ],
   "source": [
    "source(\"http://www.openintro.org/stat/slides/inference.R\")\n",
    "inference(inventory$difference, est=\"mean\", method=\"theoretical\", type=\"ht\", alternative=\"greater\", null=nullval)"
   ]
  },
  {
   "cell_type": "markdown",
   "metadata": {
    "slideshow": {
     "slide_type": "notes"
    }
   },
   "source": [
    "rquery.t.test : smart t.test function\n",
    "\n",
    "As mentioned above, this function is an improvement of the built-in t.test() R function. It can be used to perform one or two sample t-tests (paired and unpaired). Its advantage over the basic t.test() function is that : it checks automatically the distribution of the data and the equality of the two sample variances (in the case of independent t test).\n",
    "\n",
    "Before calculating t-test, the rquery.t.test function performs the following steps :\n",
    "\n",
    "First, The Shapiro-Wilk test is used to perform normality test. If the samples are not normally distributed, the rquery.t.test function will warn and suggest you to do a wilcoxon test.\n",
    "\n",
    "An F test comparing the variances of the two samples is used to check the assumption of homogeneity of variances (in the case of independent t test) :\n",
    "If the two variances are assumed equal : The classic Student’s t-test is performed\n",
    "If the two variances are significantly different: the Welch t-test is automatically applied."
   ]
  },
  {
   "cell_type": "code",
   "execution_count": 171,
   "metadata": {
    "slideshow": {
     "slide_type": "notes"
    }
   },
   "outputs": [
    {
     "data": {
      "text/plain": [
       "\n",
       "\tPaired t-test\n",
       "\n",
       "data:  x and y\n",
       "t = 0.93332, df = 4, p-value = 0.2017\n",
       "alternative hypothesis: true difference in means is greater than 0\n",
       "95 percent confidence interval:\n",
       " -6.420811       Inf\n",
       "sample estimates:\n",
       "mean of the differences \n",
       "                      5 \n"
      ]
     },
     "metadata": {},
     "output_type": "display_data"
    },
    {
     "data": {
      "image/png": "[encoded data removed]",
      "text/plain": [
       "Plot with title “D - Normal Q-Q Plot”"
      ]
     },
     "metadata": {},
     "output_type": "display_data"
    }
   ],
   "source": [
    "source('http://www.sthda.com/upload/rquery_t_test.r')\n",
    "rquery.t.test(inventory$FIFO, inventory$LIFO, paired=TRUE , alt=\"greater\")"
   ]
  },
  {
   "cell_type": "markdown",
   "metadata": {
    "slideshow": {
     "slide_type": "slide"
    }
   },
   "source": [
    "## Other considerations\n",
    "\n",
    "Small sample? \n",
    "\n",
    "- Simulation method\n",
    "- Check power of the test"
   ]
  },
  {
   "cell_type": "markdown",
   "metadata": {
    "slideshow": {
     "slide_type": "subslide"
    }
   },
   "source": [
    "## Simulation method\n",
    "\n",
    "Since the sample size is small, the simulation method is a way to go."
   ]
  },
  {
   "cell_type": "code",
   "execution_count": 172,
   "metadata": {
    "slideshow": {
     "slide_type": "subslide"
    }
   },
   "outputs": [
    {
     "name": "stdout",
     "output_type": "stream",
     "text": [
      "Single mean \n",
      "Summary statistics: mean = 5 ;  sd = 11.9791 ;  n = 5 \n",
      "H0: mu = 0 \n",
      "HA: mu > 0 \n",
      "p-value =  0.1416 \n"
     ]
    },
    {
     "data": {
      "image/png": "[encoded data removed]",
      "text/plain": [
       "Plot with title “”"
      ]
     },
     "metadata": {},
     "output_type": "display_data"
    }
   ],
   "source": [
    "inference(inventory$difference, est=\"mean\", method=\"simulation\", type=\"ht\", alternative=\"greater\", null=nullval)"
   ]
  },
  {
   "cell_type": "markdown",
   "metadata": {
    "slideshow": {
     "slide_type": "subslide"
    }
   },
   "source": [
    "## Power Analysis\n",
    "\n",
    "\n",
    "\n",
    "\n",
    "![](http://images.slideplayer.com/24/7575983/slides/slide_53.jpg)"
   ]
  },
  {
   "cell_type": "markdown",
   "metadata": {
    "slideshow": {
     "slide_type": "subslide"
    }
   },
   "source": [
    "## Power increases and SE decreases when the sample size increases.\n",
    "\n",
    "![](http://my.ilstu.edu/~wjschne/138/Power/PowerSampleSize.gif)"
   ]
  },
  {
   "cell_type": "markdown",
   "metadata": {
    "slideshow": {
     "slide_type": "subslide"
    }
   },
   "source": [
    "## Choose Effective Size 10\n",
    "A difference between the null value and the true value of the parameter often called the **effect size**"
   ]
  },
  {
   "cell_type": "code",
   "execution_count": 173,
   "metadata": {
    "collapsed": true,
    "slideshow": {
     "slide_type": "fragment"
    }
   },
   "outputs": [],
   "source": [
    "#if we care about if the difference will be 10 or larger, we can choose effect size as 10\n",
    "effect_size = 10"
   ]
  },
  {
   "cell_type": "code",
   "execution_count": 174,
   "metadata": {
    "collapsed": true,
    "slideshow": {
     "slide_type": "notes"
    }
   },
   "outputs": [],
   "source": [
    "# http://www.cyclismo.org/tutorial/R/power.html#calculating-the-power-using-a-normal-distribution"
   ]
  },
  {
   "cell_type": "code",
   "execution_count": 175,
   "metadata": {
    "slideshow": {
     "slide_type": "fragment"
    }
   },
   "outputs": [
    {
     "data": {
      "text/html": [
       "2.13184678632665"
      ],
      "text/latex": [
       "2.13184678632665"
      ],
      "text/markdown": [
       "2.13184678632665"
      ],
      "text/plain": [
       "[1] 2.131847"
      ]
     },
     "metadata": {},
     "output_type": "display_data"
    }
   ],
   "source": [
    "(t_crit_2 = qt( 0.95, df = df))# quantile on null hypothesis"
   ]
  },
  {
   "cell_type": "code",
   "execution_count": 176,
   "metadata": {
    "slideshow": {
     "slide_type": "fragment"
    }
   },
   "outputs": [
    {
     "data": {
      "text/html": [
       "11.4208108151153"
      ],
      "text/latex": [
       "11.4208108151153"
      ],
      "text/markdown": [
       "11.4208108151153"
      ],
      "text/plain": [
       "[1] 11.42081"
      ]
     },
     "metadata": {},
     "output_type": "display_data"
    }
   ],
   "source": [
    "(margin_error = t_crit*SE)"
   ]
  },
  {
   "cell_type": "code",
   "execution_count": 177,
   "metadata": {
    "slideshow": {
     "slide_type": "fragment"
    }
   },
   "outputs": [
    {
     "data": {
      "text/html": [
       "11.4208108151153"
      ],
      "text/latex": [
       "11.4208108151153"
      ],
      "text/markdown": [
       "11.4208108151153"
      ],
      "text/plain": [
       "[1] 11.42081"
      ]
     },
     "metadata": {},
     "output_type": "display_data"
    }
   ],
   "source": [
    "(left=nullval+margin_error) #  left of reject region under Null"
   ]
  },
  {
   "cell_type": "code",
   "execution_count": 178,
   "metadata": {
    "slideshow": {
     "slide_type": "fragment"
    }
   },
   "outputs": [
    {
     "data": {
      "text/html": [
       "10"
      ],
      "text/latex": [
       "10"
      ],
      "text/markdown": [
       "10"
      ],
      "text/plain": [
       "[1] 10"
      ]
     },
     "metadata": {},
     "output_type": "display_data"
    }
   ],
   "source": [
    "(assumed = nullval + effect_size) # Ha"
   ]
  },
  {
   "cell_type": "code",
   "execution_count": 179,
   "metadata": {
    "collapsed": true,
    "slideshow": {
     "slide_type": "fragment"
    }
   },
   "outputs": [],
   "source": [
    "tleft = (left - assumed)/SE #  left of reject region under Ha"
   ]
  },
  {
   "cell_type": "code",
   "execution_count": 180,
   "metadata": {
    "slideshow": {
     "slide_type": "fragment"
    }
   },
   "outputs": [
    {
     "data": {
      "text/html": [
       "0.598024009714307"
      ],
      "text/latex": [
       "0.598024009714307"
      ],
      "text/markdown": [
       "0.598024009714307"
      ],
      "text/plain": [
       "[1] 0.598024"
      ]
     },
     "metadata": {},
     "output_type": "display_data"
    }
   ],
   "source": [
    "(p_type2 = pt(tleft, df = df))"
   ]
  },
  {
   "cell_type": "code",
   "execution_count": 181,
   "metadata": {
    "slideshow": {
     "slide_type": "fragment"
    }
   },
   "outputs": [
    {
     "data": {
      "text/html": [
       "0.401975990285693"
      ],
      "text/latex": [
       "0.401975990285693"
      ],
      "text/markdown": [
       "0.401975990285693"
      ],
      "text/plain": [
       "[1] 0.401976"
      ]
     },
     "metadata": {},
     "output_type": "display_data"
    }
   ],
   "source": [
    "(power = 1- p_type2)"
   ]
  },
  {
   "cell_type": "code",
   "execution_count": 182,
   "metadata": {
    "slideshow": {
     "slide_type": "notes"
    }
   },
   "outputs": [
    {
     "data": {
      "text/html": [
       "0.265213303960255"
      ],
      "text/latex": [
       "0.265213303960255"
      ],
      "text/markdown": [
       "0.265213303960255"
      ],
      "text/plain": [
       "[1] 0.2652133"
      ]
     },
     "metadata": {},
     "output_type": "display_data"
    }
   ],
   "source": [
    "(t_score_power =  (t_crit_2*SE-effect_size)/SE) # quantile on alternative hypothesis"
   ]
  },
  {
   "cell_type": "code",
   "execution_count": 183,
   "metadata": {
    "slideshow": {
     "slide_type": "notes"
    }
   },
   "outputs": [
    {
     "data": {
      "text/html": [
       "0.401975990285693"
      ],
      "text/latex": [
       "0.401975990285693"
      ],
      "text/markdown": [
       "0.401975990285693"
      ],
      "text/plain": [
       "[1] 0.401976"
      ]
     },
     "metadata": {},
     "output_type": "display_data"
    }
   ],
   "source": [
    "(power_test =  pt(t_score_power, df=df, lower.tail = FALSE)) # power undet this effect size 10"
   ]
  },
  {
   "cell_type": "code",
   "execution_count": 184,
   "metadata": {
    "slideshow": {
     "slide_type": "subslide"
    }
   },
   "outputs": [
    {
     "data": {
      "image/png": "[encoded data removed]",
      "text/plain": [
       "Plot with title “H_a”"
      ]
     },
     "metadata": {},
     "output_type": "display_data"
    }
   ],
   "source": [
    "par(mfrow = c(2, 1), mar = c(3, 3, 1, 1))\n",
    "normTail(m=nullval, s=SE, df= df, U = t_crit_2*SE, xLab = 'symbol',xlim=c(-15,25), main = \"H_0\")\n",
    "normTail(m=effect_size, s=SE, df= df, U = t_crit_2*SE, xLab = 'symbol',xlim=c(-15,25),main = \"H_a\")"
   ]
  },
  {
   "cell_type": "markdown",
   "metadata": {
    "slideshow": {
     "slide_type": "subslide"
    }
   },
   "source": [
    "## Power is about 40.2% for an effective size 10"
   ]
  },
  {
   "cell_type": "markdown",
   "metadata": {
    "slideshow": {
     "slide_type": "subslide"
    }
   },
   "source": [
    "## How many number of subjects to obtain the desired power 80% of the test with an effect size 10"
   ]
  },
  {
   "cell_type": "code",
   "execution_count": 185,
   "metadata": {
    "slideshow": {
     "slide_type": "subslide"
    }
   },
   "outputs": [
    {
     "data": {
      "text/html": [
       "-0.940964577235181"
      ],
      "text/latex": [
       "-0.940964577235181"
      ],
      "text/markdown": [
       "-0.940964577235181"
      ],
      "text/plain": [
       "[1] -0.9409646"
      ]
     },
     "metadata": {},
     "output_type": "display_data"
    }
   ],
   "source": [
    "(quantile_power = qt(0.8, df = df, lower.tail = FALSE))# quantile on alternative hypothesis with power 80%\n"
   ]
  },
  {
   "cell_type": "code",
   "execution_count": 186,
   "metadata": {},
   "outputs": [
    {
     "data": {
      "text/html": [
       "2.13184678632665"
      ],
      "text/latex": [
       "2.13184678632665"
      ],
      "text/markdown": [
       "2.13184678632665"
      ],
      "text/plain": [
       "[1] 2.131847"
      ]
     },
     "metadata": {},
     "output_type": "display_data"
    }
   ],
   "source": [
    "(t_crit_2 = qt( 0.95, df = df))# quantile on null hypothesis, one side test with 5% significant level"
   ]
  },
  {
   "cell_type": "code",
   "execution_count": 187,
   "metadata": {},
   "outputs": [
    {
     "data": {
      "text/html": [
       "3.07281136356183"
      ],
      "text/latex": [
       "3.07281136356183"
      ],
      "text/markdown": [
       "3.07281136356183"
      ],
      "text/plain": [
       "[1] 3.072811"
      ]
     },
     "metadata": {},
     "output_type": "display_data"
    }
   ],
   "source": [
    "((abs(quantile_power) + t_crit_2)) # *SE = effect size, distance between H0 and Ha "
   ]
  },
  {
   "cell_type": "code",
   "execution_count": 188,
   "metadata": {},
   "outputs": [
    {
     "data": {
      "text/html": [
       "3.25434880858048"
      ],
      "text/latex": [
       "3.25434880858048"
      ],
      "text/markdown": [
       "3.25434880858048"
      ],
      "text/plain": [
       "[1] 3.254349"
      ]
     },
     "metadata": {},
     "output_type": "display_data"
    }
   ],
   "source": [
    "(SE_required = effect_size/(abs(quantile_power) + t_crit_2)) # The required SE for mean of difference"
   ]
  },
  {
   "cell_type": "code",
   "execution_count": 189,
   "metadata": {},
   "outputs": [
    {
     "data": {
      "text/html": [
       "13.5495134851098"
      ],
      "text/latex": [
       "13.5495134851098"
      ],
      "text/markdown": [
       "13.5495134851098"
      ],
      "text/plain": [
       "[1] 13.54951"
      ]
     },
     "metadata": {},
     "output_type": "display_data"
    }
   ],
   "source": [
    "(n_required =  sd_d^2 / (SE_required^2)) # the number of observations required to achieve the power 80%"
   ]
  },
  {
   "cell_type": "markdown",
   "metadata": {
    "slideshow": {
     "slide_type": "subslide"
    }
   },
   "source": [
    "**We need at least 14 observations for each group to achieve the 80% power.**"
   ]
  },
  {
   "cell_type": "code",
   "execution_count": 190,
   "metadata": {
    "collapsed": true,
    "slideshow": {
     "slide_type": "notes"
    }
   },
   "outputs": [],
   "source": [
    "#ref: https://statistics.berkeley.edu/computing/r-t-tests\n",
    "#ref: https://www.r-bloggers.com/paired-students-t-test/"
   ]
  },
  {
   "cell_type": "code",
   "execution_count": 191,
   "metadata": {
    "slideshow": {
     "slide_type": "notes"
    }
   },
   "outputs": [
    {
     "data": {
      "text/plain": [
       "\n",
       "     Paired t test power calculation \n",
       "\n",
       "              n = 5\n",
       "              d = 0.8347839\n",
       "      sig.level = 0.05\n",
       "          power = 0.4613328\n",
       "    alternative = greater\n",
       "\n",
       "NOTE: n is number of *pairs*\n"
      ]
     },
     "metadata": {},
     "output_type": "display_data"
    }
   ],
   "source": [
    "# power analysis\n",
    "#install.packages(\"pwr\")\n",
    "library(pwr)\n",
    "pwr.t.test(n = n, d = effect_size/sd_d, sig.level = 0.05, \n",
    "             alternative = \"greater\", type = \"paired\")"
   ]
  },
  {
   "cell_type": "code",
   "execution_count": 192,
   "metadata": {
    "slideshow": {
     "slide_type": "notes"
    }
   },
   "outputs": [
    {
     "data": {
      "text/plain": [
       "\n",
       "     Paired t test power calculation \n",
       "\n",
       "              n = 10.36626\n",
       "              d = 0.8347839\n",
       "      sig.level = 0.05\n",
       "          power = 0.8\n",
       "    alternative = greater\n",
       "\n",
       "NOTE: n is number of *pairs*\n"
      ]
     },
     "metadata": {},
     "output_type": "display_data"
    }
   ],
   "source": [
    "pwr.t.test(power = 0.80,d = effect_size/ sd_d, sig.level = 0.05, alternative = \"greater\",type = \"paired\")"
   ]
  },
  {
   "cell_type": "code",
   "execution_count": 193,
   "metadata": {
    "slideshow": {
     "slide_type": "notes"
    }
   },
   "outputs": [
    {
     "data": {
      "text/plain": [
       "\n",
       "     Paired t test power calculation \n",
       "\n",
       "              n = 5\n",
       "          delta = 10\n",
       "             sd = 11.97915\n",
       "      sig.level = 0.05\n",
       "          power = 0.4613328\n",
       "    alternative = one.sided\n",
       "\n",
       "NOTE: n is number of *pairs*, sd is std.dev. of *differences* within pairs\n"
      ]
     },
     "metadata": {},
     "output_type": "display_data"
    }
   ],
   "source": [
    "power.t.test(n = n , delta= 10,sd = sd_d , sig.level=0.05,type=\"paired\",alternative=\"one.sided\")"
   ]
  },
  {
   "cell_type": "code",
   "execution_count": 194,
   "metadata": {
    "slideshow": {
     "slide_type": "notes"
    }
   },
   "outputs": [
    {
     "data": {
      "text/plain": [
       "\n",
       "     Paired t test power calculation \n",
       "\n",
       "              n = 10.36624\n",
       "          delta = 10\n",
       "             sd = 11.97915\n",
       "      sig.level = 0.05\n",
       "          power = 0.8\n",
       "    alternative = one.sided\n",
       "\n",
       "NOTE: n is number of *pairs*, sd is std.dev. of *differences* within pairs\n"
      ]
     },
     "metadata": {},
     "output_type": "display_data"
    }
   ],
   "source": [
    "power.t.test(power = 0.80 , delta= 10,sd = sd_d , sig.level=0.05,type=\"paired\",alternative=\"one.sided\")"
   ]
  },
  {
   "cell_type": "code",
   "execution_count": 195,
   "metadata": {
    "slideshow": {
     "slide_type": "notes"
    }
   },
   "outputs": [
    {
     "data": {
      "text/plain": [
       "\n",
       "     Paired t test power calculation \n",
       "\n",
       "              n = 5\n",
       "              d = 0.4173919\n",
       "      sig.level = 0.05\n",
       "          power = 0.1942463\n",
       "    alternative = greater\n",
       "\n",
       "NOTE: n is number of *pairs*\n"
      ]
     },
     "metadata": {},
     "output_type": "display_data"
    }
   ],
   "source": [
    "pwr.t.test(n = n , d=(dbar)/sd_d,sig.level=0.05,type=\"paired\",alternative=\"greater\")\n"
   ]
  },
  {
   "cell_type": "code",
   "execution_count": 196,
   "metadata": {
    "collapsed": true,
    "slideshow": {
     "slide_type": "notes"
    }
   },
   "outputs": [],
   "source": [
    "#ref: https://stats.idre.ucla.edu/r/dae/power-analysis-for-paired-sample-t-test/\n",
    "#https://www.statmethods.net/stats/power.html\n",
    "# https://www2.stat.duke.edu/courses/Fall13/sta101/slides/unit3lec3H.pdf"
   ]
  },
  {
   "cell_type": "code",
   "execution_count": 197,
   "metadata": {
    "slideshow": {
     "slide_type": "notes"
    }
   },
   "outputs": [
    {
     "data": {
      "text/plain": [
       "\n",
       "     Paired t test power calculation \n",
       "\n",
       "              n = 10.36626\n",
       "              d = 0.8347839\n",
       "      sig.level = 0.05\n",
       "          power = 0.8\n",
       "    alternative = greater\n",
       "\n",
       "NOTE: n is number of *pairs*\n"
      ]
     },
     "metadata": {},
     "output_type": "display_data"
    }
   ],
   "source": [
    "pwr.t.test(d=(effect_size)/sd_d,power=0.8,sig.level=0.05,type=\"paired\",alternative=\"greater\")\n",
    "\n",
    "#ref: https://stats.idre.ucla.edu/r/dae/power-analysis-for-paired-sample-t-test/"
   ]
  },
  {
   "cell_type": "markdown",
   "metadata": {
    "slideshow": {
     "slide_type": "slide"
    }
   },
   "source": [
    "Reference:\n",
    "\n",
    "t Test\n",
    "\n",
    "https://researchbasics.education.uconn.edu/t-test/\n",
    "\n",
    "OpenIntro Statistics\n",
    "\n",
    "https://www.openintro.org/download.php?file=os3_tablet\n",
    "\n",
    "An Introduction to Paired-Difference Procedures\n",
    "\n",
    "https://www.youtube.com/watch?v=tZZt8f8URKg\n",
    "\n",
    "The Paired-Difference t Procedure\n",
    "\n",
    "https://www.youtube.com/watch?v=TMRBGFIj0RM\n",
    "\n",
    "An Example of a Paired-Difference t Test and Confidence Interval\n",
    "\n",
    "https://www.youtube.com/watch?v=upc4zN_-YFM\n",
    "\n",
    "Hypothesis Tests for One Population Variance\n",
    "\n",
    "https://www.youtube.com/watch?v=PweabcpqzYI\n",
    "\n",
    "Lesson 8 - Comparing Two Population Means, Two Proportions or Two Variances\n",
    "\n",
    "https://onlinecourses.science.psu.edu/stat500/node/48"
   ]
  },
  {
   "cell_type": "code",
   "execution_count": null,
   "metadata": {
    "collapsed": true
   },
   "outputs": [],
   "source": []
  }
 ],
 "metadata": {
  "celltoolbar": "Slideshow",
  "kernelspec": {
   "display_name": "R",
   "language": "R",
   "name": "ir"
  },
  "language_info": {
   "codemirror_mode": "r",
   "file_extension": ".r",
   "mimetype": "text/x-r-source",
   "name": "R",
   "pygments_lexer": "r",
   "version": "3.2.3"
  }
 },
 "nbformat": 4,
 "nbformat_minor": 2
}
