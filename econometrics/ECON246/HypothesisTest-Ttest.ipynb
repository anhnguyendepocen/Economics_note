{
 "cells": [
  {
   "cell_type": "code",
<<<<<<< HEAD
   "execution_count": 137,
=======
   "execution_count": null,
>>>>>>> bf58bdc6925646b18b8a848613d38cc8cf1ef9c0
   "metadata": {
    "collapsed": true,
    "slideshow": {
     "slide_type": "notes"
    }
   },
   "outputs": [],
   "source": [
    "#install.packages(\"openintro\")\n",
    "library(openintro)\n",
    "data(COL)# color"
   ]
  },
  {
   "cell_type": "markdown",
   "metadata": {
    "slideshow": {
     "slide_type": "notes"
    }
   },
   "source": [
    "# BUS 230: Elementary Statistics\n",
    "\n",
    "*Camuson College*\n",
    "\n",
    "2017.11.23\n",
    "\n",
    "Jon Duan"
   ]
  },
  {
   "cell_type": "markdown",
   "metadata": {
    "slideshow": {
     "slide_type": "slide"
    }
   },
   "source": [
    "# BUS 230: Introduction to Statistics\n",
    "## T Test of Population Mean\n",
    "\n",
    "*Camuson College*\n",
    "\n",
    "2017.11.23\n",
    "\n",
    "Jon Duan"
   ]
  },
  {
   "cell_type": "markdown",
   "metadata": {
    "slideshow": {
     "slide_type": "slide"
    }
   },
   "source": [
    "## A basic statistics course. \n",
    "\n",
    "The emphasis is on business applications of statistical methods. The contents of the course are: \n",
    "\n",
    "- how to describe data; \n",
    "\n",
    "- analysis of decisions made with uncertainty; \n",
    "\n",
    "- analysis of statistical data; \n",
    "\n",
    "- and making predictions based on statistical data.\n",
    "\n"
   ]
  },
  {
   "cell_type": "markdown",
   "metadata": {
    "slideshow": {
     "slide_type": "subslide"
    }
   },
   "source": [
    "![](https://archive.cnx.org/resources/16c937daf5012db1b115922dd2bbf82fdb422604/Diagram%202.png)"
   ]
  },
  {
   "cell_type": "markdown",
   "metadata": {
    "slideshow": {
     "slide_type": "subslide"
    }
   },
   "source": [
    "## Learning Objectives\n",
    "\n",
    "- Learn to use T test to examine a real problem\n",
    "\n",
    " - an accounting procedures problem: inventory evaluation\n",
    "  - LIFO (Last in First Out) \n",
    "  - FIFO (First in First Out). "
   ]
  },
  {
   "cell_type": "markdown",
   "metadata": {
    "slideshow": {
     "slide_type": "slide"
    }
   },
   "source": [
    "## Recap - **[Four steps of Hypothesis test](https://onlinecourses.science.psu.edu/stat100/node/64)**:\n",
    "\n",
    "\n",
    "- Step One: State the null and alternative hypotheses\n",
    "- Step Two: Collect and summarize the data so that a test statistic can be calculated. \n",
    "- A **test statistic** is a summary of the data that measures the difference between what is seen in the data and what would be expected if the null hypothesis were true. It is typically standardized so that a p-value can be obtained from a reference distribution like the normal curve.\n",
    "\n",
    "- Step Three: Use the test statistic to find the p-value. \n",
    "- Step Four: Make a decision using the p-value. State a conclusion in terms of the problem.\n",
    "\n",
    "  \n",
    "\n"
   ]
  },
  {
   "cell_type": "markdown",
   "metadata": {
    "slideshow": {
     "slide_type": "subslide"
    }
   },
   "source": [
    "## Recap - Types of Errors\n",
    "\n",
    "- **Typy I error**:  reject a null hypothesis that is really true (with tests of difference this means that you say there was a difference between the groups when there really was not a difference).  \n",
    "\n",
    "- **significant level $\\alpha$**: the probability of making a Type I error is the $\\alpha$ level you choose.\n",
    "\n",
    "- **Type II error $\\beta$** : fail to reject a null hypothesis that is false (with tests of differences this means that you say there was no difference between the groups when there really was one)\n",
    "\n",
    "- **power $(1- \\beta) $** is the probability of rejecting the null hypothesis when the specific alternative hypothesis is true. \n",
    "\n",
    "\n"
   ]
  },
  {
   "cell_type": "markdown",
   "metadata": {
    "slideshow": {
     "slide_type": "subslide"
    }
   },
   "source": [
    "\n",
    "![](http://slideplayer.com/slide/7211254/24/images/23/True+state+of+nature+Decision+The+null+hypothesis+is+true..jpg)"
   ]
  },
  {
   "cell_type": "markdown",
   "metadata": {
    "slideshow": {
     "slide_type": "subslide"
    }
   },
   "source": [
    "## Recap - P-value\n",
    "\n",
    "- The **p-value** represents the likelihood of getting our test statistic or any test statistic more extreme, if in fact the null hypothesis is true.\n",
    "  - For a one-sided \"greater than\" alternative hypothesis, the \"more extreme\" part of the interpretation refers to test statistic values larger than the test statistic given.\n",
    "  - For a one-sided \"less than\" alternative hypothesis, the \"more extreme\" part of the interpretation refers to test statistic values smaller than the test statistic given.\n",
    "  - For a two-sided \"not equal to\" alternative hypothesis, the \"more extreme\" part of the interpretation refers to test statistic values that are farther away from the null hypothesis than the test statistic given at either the upper end or lower end of the reference distribution (both \"tails\").\n",
    "\n"
   ]
  },
  {
   "cell_type": "markdown",
   "metadata": {
    "slideshow": {
     "slide_type": "subslide"
    }
   },
   "source": [
    "## Recap - Types of T Tests\n",
    "\n",
    "- One and two sample hypothesis testing\n",
    "\n",
    "- Three Types of t tests\n",
    "\n",
    "![](https://researchbasics.education.uconn.edu/wp-content/uploads/sites/1215/2015/05/t-test1.jpg)"
   ]
  },
  {
   "cell_type": "markdown",
   "metadata": {
    "slideshow": {
     "slide_type": "subslide"
    }
   },
   "source": [
    "\n",
    "## Pair-difference T test\n",
    "\n",
    "- t-test for dependent groups, correlated t test \n",
    "\n",
    "- df= n (number of pairs) -1\n",
    "\n",
    "- compares the difference between the average scores of a single sample of individuals who are assessed at two different times (such as before treatment and after treatment). \n",
    "\n",
    "- or compares average scores of samples of individuals who are paired in some way (such as siblings, mothers, daughters, persons who are matched in terms of a particular characteristics)."
   ]
  },
  {
   "cell_type": "markdown",
   "metadata": {
    "slideshow": {
     "slide_type": "subslide"
    }
   },
   "source": [
    "## T test for Independent Samples (with two options)\n",
    "\n",
    "\n",
    "- compares the averages of two samples that were selected independently of each other. \n",
    "\n",
    "- Equal Variance (Pooled-variance t-test) \n",
    "\n",
    " - df=n (total of both groups) -2      \n",
    " - $s_p =\\sqrt{\\frac{(n_1-1)s_1^2+(n_2-1)s_2^2}{n_1+n_2-2}}$\n",
    " - $t^{*}=\\frac{{\\bar{x}}_1-{\\bar{x}}_2}{s_p \\sqrt{\\frac{1}{n_1}+\\frac{1}{n_2}}}$\n",
    "\n",
    "\n",
    "- Unequal Variance (Separate-variance t test) \n",
    " - df dependents on a formula, but a rough estimate is one less than the smallest group  \n",
    " - $s_1 \\ne s_2$ \n",
    " - $\\sqrt{\\frac{s_1^2}{n_1}+\\frac{s_2^2}{n_2}}$\n",
    " - $t^{*}=\\frac{{\\bar{x}}_1-{\\bar{x}}_2}{\\sqrt{\\frac{s_1^2}{n_1}+\\frac{s_2^2}{n_2}}}$\n"
   ]
  },
  {
   "cell_type": "markdown",
   "metadata": {
    "slideshow": {
     "slide_type": "notes"
    }
   },
   "source": [
    "### How do I decide which type of t test to use?\n",
    "\n",
    "![](https://researchbasics.education.uconn.edu/wp-content/uploads/sites/1215/2015/05/t-test-decisions1.gif)\n"
   ]
  },
  {
   "cell_type": "markdown",
   "metadata": {
    "slideshow": {
     "slide_type": "slide"
    }
   },
   "source": [
    "# Case Study\n",
    "\n",
    "**Homework question**: Accounting procedures allow a business to evaluate their inventory at LIFO (Last in First Out) or FIFO (First in First Out). \n",
    "\n",
    "A manufacturer evaluated its finished goods inventory (in $ thousands) for five products both ways. \n",
    "\n",
    "Based on the following results, is LIFO more effective in keeping the value of inventory lower?\n",
    "\n",
    "| Product  | FIFO (F)  | LIFO (L) |\n",
    "|----------|-----------|----------|\n",
    "| 1        | 225       | 221      |\n",
    "| 2        | 119       | 100      |\n",
    "| 3        | 100       | 113      |\n",
    "| 4        | 212       | 200      |\n",
    "| 5        | 248       | 245      | \n",
    "\n",
    "\n",
    "Use a 5% significance level.\n",
    "\n",
    "**Question:** is this a paired means or independent means test?"
   ]
  },
  {
   "cell_type": "code",
<<<<<<< HEAD
   "execution_count": 138,
=======
   "execution_count": null,
>>>>>>> bf58bdc6925646b18b8a848613d38cc8cf1ef9c0
   "metadata": {
    "slideshow": {
     "slide_type": "subslide"
    }
   },
   "outputs": [],
   "source": [
    "#inventory = read.csv(\"statsTeaching.csv\")\n",
    "Product <- c(1,2,3,4,5)\n",
    "FIFO <- c(225 ,119,100,212,248)\n",
    "LIFO <- c(221 ,100,113,200,245)\n",
    "inventory =  data.frame(Product, FIFO, LIFO)\n",
    "inventory$difference = inventory$FIFO-inventory$LIFO\n",
    "inventory"
   ]
  },
  {
   "cell_type": "code",
<<<<<<< HEAD
   "execution_count": 139,
=======
   "execution_count": null,
>>>>>>> bf58bdc6925646b18b8a848613d38cc8cf1ef9c0
   "metadata": {
    "slideshow": {
     "slide_type": "subslide"
    }
   },
   "outputs": [],
   "source": [
    "summary(inventory[-1])"
   ]
  },
  {
   "cell_type": "code",
<<<<<<< HEAD
   "execution_count": 140,
=======
   "execution_count": null,
>>>>>>> bf58bdc6925646b18b8a848613d38cc8cf1ef9c0
   "metadata": {
    "slideshow": {
     "slide_type": "subslide"
    }
   },
   "outputs": [],
   "source": [
    "boxplot(inventory[-1])"
   ]
  },
  {
   "cell_type": "markdown",
   "metadata": {
    "slideshow": {
     "slide_type": "skip"
    }
   },
   "source": [
    "## The Paired t-Procedure\n",
    "### Assumptions:\n",
    "\n",
    "1. Paired samples\n",
    "2. The differences of the pairs follow a normal distribution or the number of pairs is large (note here that if the number of pairs is < 30, we need to check whether the differences are normal, but we do not need to check for the normality of each population)"
   ]
  },
  {
   "cell_type": "markdown",
   "metadata": {
    "slideshow": {
     "slide_type": "notes"
    }
   },
   "source": [
    "\n",
    "\n",
    "\n"
   ]
  },
  {
   "cell_type": "markdown",
   "metadata": {
    "slideshow": {
     "slide_type": "subslide"
    }
   },
   "source": [
    "\n",
    "### Assumptions:\n",
    "\n",
    "1. Is this a paired sample? - Yes.\n",
    "\n",
    "2. Is this a large sample? - No.\n",
    "\n",
    "3. Since the sample size is not large enough (less than 30), we need to check whether the differences follow a normal distribution.\n",
    "\n",
    "\n"
   ]
  },
  {
   "cell_type": "markdown",
   "metadata": {
    "slideshow": {
     "slide_type": "notes"
    }
   },
   "source": [
    "\n",
    "ref:\n",
    "\n",
    "https://onlinecourses.science.psu.edu/stat500/node/51\n",
    "\n",
    "https://www2.stat.duke.edu/courses/Spring13/sta101.001/slides/unit4lec1H.pdf\n"
   ]
  },
  {
   "cell_type": "code",
<<<<<<< HEAD
   "execution_count": 141,
=======
   "execution_count": null,
>>>>>>> bf58bdc6925646b18b8a848613d38cc8cf1ef9c0
   "metadata": {
    "slideshow": {
     "slide_type": "subslide"
    }
   },
   "outputs": [],
   "source": [
    "shapiro.test(inventory$difference) ## Perform the normality test"
   ]
  },
  {
   "cell_type": "code",
<<<<<<< HEAD
   "execution_count": 142,
=======
   "execution_count": null,
>>>>>>> bf58bdc6925646b18b8a848613d38cc8cf1ef9c0
   "metadata": {
    "slideshow": {
     "slide_type": "subslide"
    }
   },
   "outputs": [],
   "source": [
    "qqnorm(inventory$difference);qqline(inventory$difference, col = 2) ## Plot using a qqplot"
   ]
  },
  {
   "cell_type": "code",
<<<<<<< HEAD
   "execution_count": 143,
=======
   "execution_count": null,
>>>>>>> bf58bdc6925646b18b8a848613d38cc8cf1ef9c0
   "metadata": {
    "collapsed": true,
    "slideshow": {
     "slide_type": "notes"
    }
   },
   "outputs": [],
   "source": [
    "\n",
    "## Have a look at the densities\n",
    "#plot(density(inventory$difference))\n",
    "\n"
   ]
  },
  {
   "cell_type": "markdown",
   "metadata": {
    "slideshow": {
     "slide_type": "subslide"
    }
   },
   "source": [
    "## 1. Hypothesis:\n",
    "\n",
    "$$H_0: \\mu_d = 0    \\quad \\quad H_a: \\mu_d > 0$$\n",
    "\n",
    "**counterfactual argument:**\n",
    "\n",
    "If we seek strong evidence in favor of a particular outcome, we define that outcome as the alternative hypothesis, $H_1$, and the other outcome as the null hypothesis ,$H_0$.  \n",
    "\n",
    " \n",
    "\n",
    "- When reject $H_0$, there is strong evidence in favor of $H_1$, and we are confident that our decision is correct.\n",
    "\n",
    "- But failing to reject $H_0$ leads to great uncertainty. \n"
   ]
  },
  {
   "cell_type": "markdown",
   "metadata": {
    "slideshow": {
     "slide_type": "subslide"
    }
   },
   "source": [
    "\n",
    "## 2. t-statistic:\n",
    "\n",
    "Let $d =$ differences between the pairs of data,  then $\\bar d =$  mean of these differences.\n",
    "\n",
    "- The test statistics is: $t^{*}=\\frac{\\bar{d}-0}{{s_d}/\\sqrt{n}}$\n",
    "\n",
    "- degrees of freedom = $n - 1$\n",
    "\n",
    "where $n$ denotes the number of pairs or the number of differences. ${s_d }$  is the standard deviation of the sample differences\n",
    "\n"
   ]
  },
  {
   "cell_type": "markdown",
   "metadata": {
    "slideshow": {
     "slide_type": "subslide"
    }
   },
   "source": [
    "## 3 Decision rule\n",
    "\n",
    "- choose 5% significant level, calculate t critical value: \n",
    "\n",
    " - if t score $t^* \\ge t_{\\alpha/2}$, we reject $H_0$\n",
    "\n",
    "or \n",
    "\n",
    "- compute p-value according to the t score:  \n",
    "\n",
    " - if p-value is less than 5%, we reject $H_0$"
   ]
  },
  {
   "cell_type": "code",
<<<<<<< HEAD
   "execution_count": 144,
=======
   "execution_count": null,
>>>>>>> bf58bdc6925646b18b8a848613d38cc8cf1ef9c0
   "metadata": {
    "slideshow": {
     "slide_type": "subslide"
    }
   },
   "outputs": [],
   "source": [
    "n = 5 # number of observation\n",
    "df = n-1 # degree of freedom\n",
    "(dbar= mean(inventory$difference))# mean of differences"
   ]
  },
  {
   "cell_type": "code",
<<<<<<< HEAD
   "execution_count": 145,
=======
   "execution_count": null,
>>>>>>> bf58bdc6925646b18b8a848613d38cc8cf1ef9c0
   "metadata": {},
   "outputs": [],
   "source": [
    "(sd_d= sd(inventory$difference)) # standard deviation of differences"
   ]
  },
  {
   "cell_type": "code",
<<<<<<< HEAD
   "execution_count": 146,
=======
   "execution_count": null,
>>>>>>> bf58bdc6925646b18b8a848613d38cc8cf1ef9c0
   "metadata": {},
   "outputs": [],
   "source": [
    "(SE =  sd_d/sqrt(n)) # standard error of the mean of difference"
   ]
  },
  {
   "cell_type": "code",
<<<<<<< HEAD
   "execution_count": 147,
=======
   "execution_count": null,
>>>>>>> bf58bdc6925646b18b8a848613d38cc8cf1ef9c0
   "metadata": {},
   "outputs": [],
   "source": [
    "(t_score =  (dbar-0)/(SE )) # t score / observed t value"
   ]
  },
  {
   "cell_type": "code",
<<<<<<< HEAD
   "execution_count": 148,
=======
   "execution_count": null,
>>>>>>> bf58bdc6925646b18b8a848613d38cc8cf1ef9c0
   "metadata": {},
   "outputs": [],
   "source": [
    "(t_crit = qt(0.95 ,df = df)) # critical value for decision rule"
   ]
  },
  {
   "cell_type": "code",
<<<<<<< HEAD
   "execution_count": 149,
=======
   "execution_count": null,
>>>>>>> bf58bdc6925646b18b8a848613d38cc8cf1ef9c0
   "metadata": {
    "slideshow": {
     "slide_type": "-"
    }
   },
   "outputs": [],
   "source": [
    "nullval = 0 # null value \n",
    "(p_value = pt(t_score, df = df, lower.tail = FALSE) )# oneside t test, p-value"
   ]
  },
  {
   "cell_type": "code",
<<<<<<< HEAD
   "execution_count": 150,
=======
   "execution_count": null,
>>>>>>> bf58bdc6925646b18b8a848613d38cc8cf1ef9c0
   "metadata": {
    "slideshow": {
     "slide_type": "subslide"
    }
   },
   "outputs": [],
   "source": [
    "tcrit = qt(0.05, df = df, lower.tail = FALSE)\n",
    "tdens = dt(tcrit, df=df)\n",
    "normTail(m=nullval,  U = tcrit, df = df, col = COL[1], main = \"Under H_0, T distribution with df 4\")\n",
    "lines(c(tcrit, tcrit), c(tdens, tdens*1.5), lty = 3, lwd = 2)\n",
    "text(tcrit, tdens*1.8, paste0(\"T critical value = \", round(tcrit,2)), pos = 3,cex = 0.8)\n",
    "lines(c(t_score, t_score),   c(0, dt(t_score, df=df)*1.5), lty = 3, lwd = 2)\n",
    "text(t_score, dt(t_score, df=df)*1.5, paste0(\"T score = \", round(t_score,2), \"\\n P-value = \", round(p_value,3)*100, \"%\"),\n",
    "     pos = 3, cex = 0.8)"
   ]
  },
  {
   "cell_type": "code",
<<<<<<< HEAD
   "execution_count": 151,
=======
   "execution_count": null,
>>>>>>> bf58bdc6925646b18b8a848613d38cc8cf1ef9c0
   "metadata": {
    "slideshow": {
     "slide_type": "subslide"
    }
   },
   "outputs": [],
   "source": [
    "t.test(inventory$difference, alt=\"greater\")"
   ]
  },
  {
   "cell_type": "markdown",
   "metadata": {
    "slideshow": {
     "slide_type": "notes"
    }
   },
   "source": [
    "\n",
    "#ref: https://statistics.berkeley.edu/computing/r-t-tests\n",
    "#ref: https://www.r-bloggers.com/paired-students-t-test/"
   ]
  },
  {
   "cell_type": "code",
<<<<<<< HEAD
   "execution_count": 152,
=======
   "execution_count": null,
>>>>>>> bf58bdc6925646b18b8a848613d38cc8cf1ef9c0
   "metadata": {
    "slideshow": {
     "slide_type": "subslide"
    }
   },
   "outputs": [],
   "source": [
    "t.test(inventory$FIFO, inventory$LIFO, paired=TRUE, alt=\"greater\")"
   ]
  },
  {
   "cell_type": "code",
<<<<<<< HEAD
   "execution_count": 153,
=======
   "execution_count": null,
>>>>>>> bf58bdc6925646b18b8a848613d38cc8cf1ef9c0
   "metadata": {
    "slideshow": {
     "slide_type": "subslide"
    }
   },
   "outputs": [],
   "source": [
    "source(\"http://www.openintro.org/stat/slides/inference.R\")\n",
    "inference(inventory$difference, est=\"mean\", method=\"theoretical\", type=\"ht\", alternative=\"greater\", null=nullval)"
   ]
  },
  {
   "cell_type": "markdown",
   "metadata": {
    "slideshow": {
     "slide_type": "subslide"
    }
   },
   "source": [
    "## Simulation method\n",
    "\n",
    "Since the sample size is small, the simulation method is a way to go."
   ]
  },
  {
   "cell_type": "code",
<<<<<<< HEAD
   "execution_count": 154,
=======
   "execution_count": null,
>>>>>>> bf58bdc6925646b18b8a848613d38cc8cf1ef9c0
   "metadata": {
    "slideshow": {
     "slide_type": "subslide"
    }
   },
<<<<<<< HEAD
   "outputs": [
    {
     "name": "stdout",
     "output_type": "stream",
     "text": [
      "Single mean \n",
      "Summary statistics: mean = 5 ;  sd = 11.9791 ;  n = 5 \n",
      "H0: mu = 0 \n",
      "HA: mu > 0 \n",
      "p-value =  0.1265 \n"
     ]
    },
    {
     "data": {
      "image/png": "iVBORw0KGgoAAAANSUhEUgAAA0gAAANICAIAAAByhViMAAAACXBIWXMAABJ0AAASdAHeZh94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\ntUDesSMQCAQCgUDoI/wPzwTIsftGEoAAAAAASUVORK5CYII=",
      "text/plain": [
       "Plot with title “”"
      ]
     },
     "metadata": {},
     "output_type": "display_data"
    }
   ],
=======
   "outputs": [],
>>>>>>> bf58bdc6925646b18b8a848613d38cc8cf1ef9c0
   "source": [
    "inference(inventory$difference, est=\"mean\", method=\"simulation\", type=\"ht\", alternative=\"greater\", null=nullval)"
   ]
  },
  {
   "cell_type": "markdown",
   "metadata": {
    "slideshow": {
     "slide_type": "subslide"
    }
   },
   "source": [
    "## 4. Conclusion: We fail to reject $H_0$\n",
    "\n",
    "If we fail to reject, then either the null hypothesis is true or our procedure for detecting a false null hypothesis does not have sufficient power-- for example, the sample size is too small. "
   ]
  },
  {
   "cell_type": "markdown",
   "metadata": {
    "slideshow": {
     "slide_type": "slide"
    }
   },
   "source": [
    "## Power Analysis\n",
    "\n",
    "\n",
    "\n",
    "\n",
    "![](http://images.slideplayer.com/24/7575983/slides/slide_53.jpg)"
   ]
  },
  {
   "cell_type": "markdown",
   "metadata": {
    "slideshow": {
     "slide_type": "subslide"
    }
   },
   "source": [
    "## Power increases and SE decreases when the sample size increases.\n",
    "\n",
    "![](http://my.ilstu.edu/~wjschne/138/Power/PowerSampleSize.gif)"
   ]
  },
  {
   "cell_type": "code",
<<<<<<< HEAD
   "execution_count": 155,
=======
   "execution_count": null,
>>>>>>> bf58bdc6925646b18b8a848613d38cc8cf1ef9c0
   "metadata": {
    "slideshow": {
     "slide_type": "notes"
    }
   },
   "outputs": [],
   "source": [
    "sd_d"
   ]
  },
  {
   "cell_type": "code",
<<<<<<< HEAD
   "execution_count": 156,
=======
   "execution_count": null,
>>>>>>> bf58bdc6925646b18b8a848613d38cc8cf1ef9c0
   "metadata": {
    "slideshow": {
     "slide_type": "notes"
    }
   },
   "outputs": [],
   "source": [
    "SE"
   ]
  },
  {
   "cell_type": "markdown",
   "metadata": {
    "slideshow": {
     "slide_type": "subslide"
    }
   },
   "source": [
    "## Choose Effective Size 10\n",
    "A difference between the null value and the true value of the parameter often called the **effect size**\n",
    "\n"
   ]
  },
  {
   "cell_type": "code",
<<<<<<< HEAD
   "execution_count": 157,
=======
   "execution_count": null,
>>>>>>> bf58bdc6925646b18b8a848613d38cc8cf1ef9c0
   "metadata": {
    "collapsed": true,
    "slideshow": {
     "slide_type": "fragment"
    }
   },
   "outputs": [],
   "source": [
    "#if we care about if the difference will be 10 or larger, we can choose effect size as 10\n",
    "effect_size = 10"
   ]
  },
  {
   "cell_type": "code",
<<<<<<< HEAD
   "execution_count": 158,
=======
   "execution_count": null,
>>>>>>> bf58bdc6925646b18b8a848613d38cc8cf1ef9c0
   "metadata": {
    "slideshow": {
     "slide_type": "fragment"
    }
   },
   "outputs": [],
   "source": [
    "(t_crit_2 = qt( 0.95, df = df))# quantile on null hypothesis"
   ]
  },
  {
   "cell_type": "code",
<<<<<<< HEAD
   "execution_count": 159,
=======
   "execution_count": null,
>>>>>>> bf58bdc6925646b18b8a848613d38cc8cf1ef9c0
   "metadata": {
    "slideshow": {
     "slide_type": "fragment"
    }
   },
   "outputs": [],
   "source": [
    "(t_score_power =  (t_crit_2*SE-effect_size)/SE) # quantile on alternative hypothesis"
   ]
  },
  {
   "cell_type": "code",
<<<<<<< HEAD
   "execution_count": 160,
=======
   "execution_count": null,
>>>>>>> bf58bdc6925646b18b8a848613d38cc8cf1ef9c0
   "metadata": {
    "slideshow": {
     "slide_type": "fragment"
    }
   },
   "outputs": [],
   "source": [
    "(power_test =  pt(t_score_power, df=df, lower.tail = FALSE)) # power undet this effect size 10"
   ]
  },
  {
   "cell_type": "code",
<<<<<<< HEAD
   "execution_count": 161,
=======
   "execution_count": null,
>>>>>>> bf58bdc6925646b18b8a848613d38cc8cf1ef9c0
   "metadata": {
    "slideshow": {
     "slide_type": "subslide"
    }
   },
   "outputs": [],
   "source": [
    "par(mfrow = c(2, 1), mar = c(3, 3, 1, 1))\n",
    "normTail(m=nullval, s=SE, df= df, U = t_crit_2*SE, xLab = 'symbol',xlim=c(-15,25), main = \"H_0\")\n",
    "normTail(m=effect_size, s=SE, df= df, U = t_crit_2*SE, xLab = 'symbol',xlim=c(-15,25),main = \"H_a\")"
   ]
  },
  {
   "cell_type": "markdown",
   "metadata": {
    "slideshow": {
     "slide_type": "subslide"
    }
   },
   "source": [
    "## Power is about 40.2% for an effective size 10"
   ]
  },
  {
   "cell_type": "markdown",
   "metadata": {
    "slideshow": {
     "slide_type": "subslide"
    }
   },
   "source": [
    "## How many number of subjects to obtain the desired power 80% of the test with an effect size 10"
   ]
  },
  {
   "cell_type": "code",
<<<<<<< HEAD
   "execution_count": 162,
=======
   "execution_count": null,
>>>>>>> bf58bdc6925646b18b8a848613d38cc8cf1ef9c0
   "metadata": {
    "slideshow": {
     "slide_type": "subslide"
    }
   },
   "outputs": [],
   "source": [
    "(quantile_power = qt(0.8, df = df, lower.tail = FALSE))# quantile on alternative hypothesis with power 80%\n"
   ]
  },
  {
   "cell_type": "code",
<<<<<<< HEAD
   "execution_count": 163,
=======
   "execution_count": null,
>>>>>>> bf58bdc6925646b18b8a848613d38cc8cf1ef9c0
   "metadata": {
    "slideshow": {
     "slide_type": "fragment"
    }
   },
   "outputs": [],
   "source": [
    "(t_crit_2 = qt( 0.95, df = df))# quantile on null hypothesis, one side test with 5% significant level"
   ]
  },
  {
   "cell_type": "code",
<<<<<<< HEAD
   "execution_count": 164,
=======
   "execution_count": null,
>>>>>>> bf58bdc6925646b18b8a848613d38cc8cf1ef9c0
   "metadata": {
    "slideshow": {
     "slide_type": "fragment"
    }
   },
   "outputs": [],
   "source": [
    "((abs(quantile_power) + t_crit_2)) # *SE = effect size, distance between H0 and Ha "
   ]
  },
  {
   "cell_type": "code",
<<<<<<< HEAD
   "execution_count": 165,
=======
   "execution_count": null,
>>>>>>> bf58bdc6925646b18b8a848613d38cc8cf1ef9c0
   "metadata": {
    "slideshow": {
     "slide_type": "fragment"
    }
   },
   "outputs": [],
   "source": [
    "(SE_required = effect_size/(abs(quantile_power) + t_crit_2)) # The required SE for mean of difference"
   ]
  },
  {
   "cell_type": "code",
<<<<<<< HEAD
   "execution_count": 166,
=======
   "execution_count": null,
>>>>>>> bf58bdc6925646b18b8a848613d38cc8cf1ef9c0
   "metadata": {
    "slideshow": {
     "slide_type": "fragment"
    }
   },
   "outputs": [],
   "source": [
    "(n_required =  sd_d^2 / (SE_required^2)) # the number of observations required to achieve the power 80%"
   ]
  },
  {
   "cell_type": "markdown",
   "metadata": {
    "slideshow": {
     "slide_type": "fragment"
    }
   },
   "source": [
    "**We need at least 14 observations for each group to achieve the 80% power.**"
   ]
  },
  {
   "cell_type": "code",
<<<<<<< HEAD
   "execution_count": 167,
=======
   "execution_count": null,
>>>>>>> bf58bdc6925646b18b8a848613d38cc8cf1ef9c0
   "metadata": {
    "slideshow": {
     "slide_type": "notes"
    }
   },
   "outputs": [],
   "source": [
    "# power analysis\n",
    "#install.packages(\"pwr\")\n",
    "library(pwr)\n",
    "pwr.t.test(n = n, d = effect_size/sd_d, sig.level = 0.05, \n",
    "             alternative = \"greater\", type = \"paired\")"
   ]
  },
  {
   "cell_type": "code",
<<<<<<< HEAD
   "execution_count": 168,
=======
   "execution_count": null,
>>>>>>> bf58bdc6925646b18b8a848613d38cc8cf1ef9c0
   "metadata": {
    "slideshow": {
     "slide_type": "notes"
    }
   },
   "outputs": [],
   "source": [
    "pwr.t.test(power = 0.80,d = effect_size/ sd_d, sig.level = 0.05, alternative = \"greater\",type = \"paired\")"
   ]
  },
  {
   "cell_type": "code",
<<<<<<< HEAD
   "execution_count": 169,
=======
   "execution_count": null,
>>>>>>> bf58bdc6925646b18b8a848613d38cc8cf1ef9c0
   "metadata": {
    "slideshow": {
     "slide_type": "notes"
    }
   },
   "outputs": [],
   "source": [
    "power.t.test(n = n , delta= 10,sd = sd_d , sig.level=0.05,type=\"paired\",alternative=\"one.sided\")"
   ]
  },
  {
   "cell_type": "code",
<<<<<<< HEAD
   "execution_count": 170,
=======
   "execution_count": null,
>>>>>>> bf58bdc6925646b18b8a848613d38cc8cf1ef9c0
   "metadata": {
    "slideshow": {
     "slide_type": "notes"
    }
   },
   "outputs": [],
   "source": [
    "power.t.test(power = 0.80 , delta= 10,sd = sd_d , sig.level=0.05,type=\"paired\",alternative=\"one.sided\")"
   ]
  },
  {
   "cell_type": "code",
<<<<<<< HEAD
   "execution_count": 171,
=======
   "execution_count": null,
>>>>>>> bf58bdc6925646b18b8a848613d38cc8cf1ef9c0
   "metadata": {
    "slideshow": {
     "slide_type": "notes"
    }
   },
   "outputs": [],
   "source": [
    "\n",
    "pwr.t.test(n = n , d=(dbar)/sd_d,sig.level=0.05,type=\"paired\",alternative=\"greater\")\n"
   ]
  },
  {
   "cell_type": "code",
<<<<<<< HEAD
   "execution_count": 172,
=======
   "execution_count": null,
>>>>>>> bf58bdc6925646b18b8a848613d38cc8cf1ef9c0
   "metadata": {
    "collapsed": true,
    "slideshow": {
     "slide_type": "notes"
    }
   },
   "outputs": [],
   "source": [
    "#ref: https://stats.idre.ucla.edu/r/dae/power-analysis-for-paired-sample-t-test/\n",
    "#https://www.statmethods.net/stats/power.html\n",
    "# https://www2.stat.duke.edu/courses/Fall13/sta101/slides/unit3lec3H.pdf"
   ]
  },
  {
   "cell_type": "code",
<<<<<<< HEAD
   "execution_count": 173,
=======
   "execution_count": null,
>>>>>>> bf58bdc6925646b18b8a848613d38cc8cf1ef9c0
   "metadata": {
    "slideshow": {
     "slide_type": "notes"
    }
   },
   "outputs": [],
   "source": [
    "# goal to keep alpha and beta low\n",
    "# power analysis\n",
    "# install.packages(\"pwr\")\n",
    "library(pwr)\n",
    "pwr.t.test(d=(effect_size)/sd_d,power=0.8,sig.level=0.05,type=\"paired\",alternative=\"greater\")\n",
    "\n",
    "#ref: https://stats.idre.ucla.edu/r/dae/power-analysis-for-paired-sample-t-test/"
   ]
  },
  {
   "cell_type": "code",
<<<<<<< HEAD
   "execution_count": 174,
=======
   "execution_count": null,
>>>>>>> bf58bdc6925646b18b8a848613d38cc8cf1ef9c0
   "metadata": {
    "slideshow": {
     "slide_type": "notes"
    }
   },
   "outputs": [],
   "source": [
    "normTail(0, 1,\n",
    "         L = -1.15,\n",
    "         U = 1.15,\n",
    "         df = 26,\n",
    "         col = COL[1])\n",
    "lines(c(1.16, 1.16),\n",
    "      c(dt(1.16, 26), 0.25),\n",
    "      lty = 3,\n",
    "      cex = 2)\n",
    "text(1.55, 0.24, \"T = 1.15\",\n",
    "     pos = 3)"
   ]
  },
  {
   "cell_type": "code",
<<<<<<< HEAD
   "execution_count": 175,
=======
   "execution_count": null,
>>>>>>> bf58bdc6925646b18b8a848613d38cc8cf1ef9c0
   "metadata": {
    "slideshow": {
     "slide_type": "notes"
    }
   },
   "outputs": [],
   "source": [
    "set.seed(2)\n",
    "x <- round(rnorm(30, 120, 70))\n",
    "t.test(x - 100)\n",
    "mean(x)\n",
    "sd(x)\n",
    "histPlot(x,\n",
    "         xlab = '',\n",
    "         ylab = '',\n",
    "         main = '',\n",
    "         axes = FALSE,\n",
    "         col = COL[1])\n",
    "axis(1)\n",
    "axis(2, at = seq(0, 10, 5))"
   ]
  },
  {
   "cell_type": "markdown",
   "metadata": {
    "collapsed": true,
    "slideshow": {
     "slide_type": "slide"
    }
   },
   "source": [
    "Reference:\n",
    "\n",
    "t Test\n",
    "\n",
    "https://researchbasics.education.uconn.edu/t-test/\n",
    "\n",
    "OpenIntro Statistics\n",
    "\n",
    "https://www.openintro.org/download.php?file=os3_tablet\n",
    "\n",
    "An Introduction to Paired-Difference Procedures\n",
    "\n",
    "https://www.youtube.com/watch?v=tZZt8f8URKg\n",
    "\n",
    "The Paired-Difference t Procedure\n",
    "\n",
    "https://www.youtube.com/watch?v=TMRBGFIj0RM\n",
    "\n",
    "An Example of a Paired-Difference t Test and Confidence Interval\n",
    "\n",
    "https://www.youtube.com/watch?v=upc4zN_-YFM\n",
    "\n",
    "Hypothesis Tests for One Population Variance\n",
    "\n",
    "https://www.youtube.com/watch?v=PweabcpqzYI\n",
    "\n",
    "Lesson 8 - Comparing Two Population Means, Two Proportions or Two Variances\n",
    "\n",
    "https://onlinecourses.science.psu.edu/stat500/node/48"
   ]
  }
 ],
 "metadata": {
  "celltoolbar": "Slideshow",
  "kernelspec": {
   "display_name": "R",
   "language": "R",
   "name": "ir"
  },
  "language_info": {
   "codemirror_mode": "r",
   "file_extension": ".r",
   "mimetype": "text/x-r-source",
   "name": "R",
   "pygments_lexer": "r",
   "version": "3.3.2"
  }
 },
 "nbformat": 4,
 "nbformat_minor": 2
}
