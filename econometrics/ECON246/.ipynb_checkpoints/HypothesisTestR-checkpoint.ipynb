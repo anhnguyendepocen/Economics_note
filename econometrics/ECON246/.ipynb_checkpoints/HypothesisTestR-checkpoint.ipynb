{
 "cells": [
  {
   "cell_type": "code",
   "execution_count": null,
   "metadata": {},
   "outputs": [],
   "source": [
    "#install.packages(\"openintro\")\n",
    "library(openintro)\n",
    "data(COL)# color"
   ]
  },
  {
   "cell_type": "code",
   "execution_count": null,
   "metadata": {},
   "outputs": [],
   "source": [
    "#inventory = read.csv(\"statsTeaching.csv\")\n",
    "Product <- c(1,2,3,4,5)\n",
    "FIFO <- c(225 ,119,100,212,248)\n",
    "LIFO <- c(221 ,100,113,200,245)\n",
    "inventory =  data.frame(Product, FIFO, LIFO)\n"
   ]
  },
  {
   "cell_type": "markdown",
   "metadata": {},
   "source": [
    "| Product  | FIFO (F)  | LIFO (L) |\n",
    "|----------|-----------|----------|\n",
    "| 1        | 225       | 221      |\n",
    "| 2        | 119       | 100      |\n",
    "| 3        | 100       | 113      |\n",
    "| 4        | 212       | 200      |\n",
    "| 5        | 248       | 245      | \n"
   ]
  },
  {
   "cell_type": "code",
   "execution_count": null,
   "metadata": {},
   "outputs": [],
   "source": [
    "summary(inventory)"
   ]
  },
  {
   "cell_type": "code",
   "execution_count": null,
   "metadata": {
    "collapsed": true
   },
   "outputs": [],
   "source": [
    "t.test(x - 100)"
   ]
  },
  {
   "cell_type": "code",
   "execution_count": null,
   "metadata": {},
   "outputs": [],
   "source": [
    "n = 22\n",
    "df = n-1\n",
    "t_score = \n",
    "p_value = 2* pt(2.3, df = df, lower.tail = FALSE)\n",
    "p_value"
   ]
  },
  {
   "cell_type": "code",
   "execution_count": null,
   "metadata": {
    "collapsed": true
   },
   "outputs": [],
   "source": []
  },
  {
   "cell_type": "code",
   "execution_count": null,
   "metadata": {},
   "outputs": [],
   "source": [
    "normTail(0, 1,\n",
    "         U = 2.39,\n",
    "         df = 20,\n",
    "         col = COL[1])\n",
    "lines(c(2.4, 2.4),\n",
    "      c(dt(2.4, 20), 0.1),\n",
    "      lty = 3,\n",
    "      lwd = 2)\n",
    "text(2.73, 0.088, \"T score= 2.39\",\n",
    "     pos = 3,\n",
    "     cex = 0.8)"
   ]
  },
  {
   "cell_type": "code",
   "execution_count": null,
   "metadata": {
    "collapsed": true
   },
   "outputs": [],
   "source": []
  },
  {
   "cell_type": "code",
   "execution_count": null,
   "metadata": {
    "collapsed": true
   },
   "outputs": [],
   "source": []
  },
  {
   "cell_type": "code",
   "execution_count": null,
   "metadata": {
    "collapsed": true
   },
   "outputs": [],
   "source": []
  },
  {
   "cell_type": "code",
   "execution_count": null,
   "metadata": {
    "collapsed": true
   },
   "outputs": [],
   "source": []
  },
  {
   "cell_type": "code",
   "execution_count": null,
   "metadata": {},
   "outputs": [],
   "source": [
    "# ?histPlot"
   ]
  },
  {
   "cell_type": "code",
   "execution_count": null,
   "metadata": {},
   "outputs": [],
   "source": [
    "# histPlot(inventory$FIFO,\n",
    "#          xlab = '',\n",
    "#          ylab = '',\n",
    "#          main = '',\n",
    "#          axes = FALSE,\n",
    "#          col = COL[1],\n",
    "#          breaks = 100)"
   ]
  },
  {
   "cell_type": "code",
   "execution_count": null,
   "metadata": {},
   "outputs": [],
   "source": [
    "tcrit = qt(0.05/2, df = 5-1)\n",
    "tdens = dt(-tcrit, 5-1)\n",
    "normTail(0, 1,\n",
    "         L = tcrit,\n",
    "         U = -tcrit,\n",
    "         df = 5-1,\n",
    "         col = COL[1])\n",
    "lines(c(-tcrit, -tcrit),\n",
    "      c(tdens, tdens*2),\n",
    "      lty = 3,\n",
    "      lwd = 2)\n",
    "text(-tcrit, tdens*2.5, paste0(\"T = \", round(-tcrit,2)),\n",
    "     pos = 3,\n",
    "     cex = 0.8)"
   ]
  },
  {
   "cell_type": "code",
   "execution_count": null,
   "metadata": {
    "collapsed": true
   },
   "outputs": [],
   "source": []
  },
  {
   "cell_type": "code",
   "execution_count": null,
   "metadata": {},
   "outputs": [],
   "source": [
    "normTail(0, 1,\n",
    "         L = -1.15,\n",
    "         U = 1.15,\n",
    "         df = 26,\n",
    "         col = COL[1])\n",
    "lines(c(1.16, 1.16),\n",
    "      c(dt(1.16, 26), 0.25),\n",
    "      lty = 3,\n",
    "      cex = 2)\n",
    "text(1.55, 0.24, \"T = 1.15\",\n",
    "     pos = 3)"
   ]
  },
  {
   "cell_type": "code",
   "execution_count": null,
   "metadata": {
    "collapsed": true
   },
   "outputs": [],
   "source": [
    "#?normTail"
   ]
  },
  {
   "cell_type": "code",
   "execution_count": null,
   "metadata": {},
   "outputs": [],
   "source": [
    "set.seed(2)\n",
    "x <- round(rnorm(30, 120, 70))\n",
    "t.test(x - 100)\n",
    "mean(x)\n",
    "sd(x)\n",
    "histPlot(x,\n",
    "         xlab = '',\n",
    "         ylab = '',\n",
    "         main = '',\n",
    "         axes = FALSE,\n",
    "         col = COL[1])\n",
    "axis(1)\n",
    "axis(2, at = seq(0, 10, 5))"
   ]
  },
  {
   "cell_type": "code",
   "execution_count": null,
   "metadata": {
    "collapsed": true
   },
   "outputs": [],
   "source": []
  },
  {
   "cell_type": "code",
   "execution_count": null,
   "metadata": {
    "collapsed": true
   },
   "outputs": [],
   "source": []
  }
 ],
 "metadata": {
  "kernelspec": {
   "display_name": "R",
   "language": "R",
   "name": "ir"
  },
  "language_info": {
   "codemirror_mode": "r",
   "file_extension": ".r",
   "mimetype": "text/x-r-source",
   "name": "R",
   "pygments_lexer": "r",
   "version": "3.3.2"
  }
 },
 "nbformat": 4,
 "nbformat_minor": 2
}
