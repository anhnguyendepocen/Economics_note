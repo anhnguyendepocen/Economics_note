{
 "cells": [
  {
   "cell_type": "code",
   "execution_count": null,
   "metadata": {
    "collapsed": true
   },
   "outputs": [],
   "source": [
    "import matplotlib.pyplot as plt\n",
    "import matplotlib as mpl\n",
    "mpl.rcParams[\"figure.dpi\"] = 80\n",
    "%matplotlib notebook\n",
    "import numpy as np\n",
    "import scipy.stats as stats"
   ]
  },
  {
   "cell_type": "markdown",
   "metadata": {
    "collapsed": true
   },
   "source": [
    "**Homework question**: Accounting procedures allow a business to evaluate their inventory at LIFO (Last in First Out) or FIFO (First in First Out). \n",
    "\n",
    "A manufacturer evaluated its finished goods inventory (in $ thousands) for five products both ways. \n",
    "\n",
    "Based on the following results, is LIFO more effective in keeping the value of inventory lower?\n",
    "\n",
    "| Product  | FIFO (F)  | LIFO (L) |\n",
    "|----------|-----------|----------|\n",
    "| 1        | 225       | 221      |\n",
    "| 2        | 119       | 100      |\n",
    "| 3        | 100       | 113      |\n",
    "| 4        | 212       | 200      |\n",
    "| 5        | 248       | 245      | \n",
    "\n",
    "\n",
    "Use a 5% significance level."
   ]
  },
  {
   "cell_type": "code",
   "execution_count": null,
   "metadata": {
    "collapsed": true
   },
   "outputs": [],
   "source": [
    "Product <- c(1,2,3,4,5)\n",
    "FIFO <- c(225 ,119,100,212,248)\n",
    "LIFO <- c(221 ,100,113,200,245)\n",
    "inventory =  data.frame(Product, FIFO, LIFO)\n",
    "inventory"
   ]
  },
  {
   "cell_type": "code",
   "execution_count": null,
   "metadata": {
    "collapsed": true
   },
   "outputs": [],
   "source": [
    "summary(inventory)"
   ]
  },
  {
   "cell_type": "code",
   "execution_count": null,
   "metadata": {
    "collapsed": true
   },
   "outputs": [],
   "source": [
    "t = (np.mean(s) - 0.5) / (np.std(s, ddof=1) / np.sqrt(n))\n",
    "print( t, stats.ttest_1samp(s, 0.5))"
   ]
  },
  {
   "cell_type": "code",
   "execution_count": null,
   "metadata": {
    "collapsed": true
   },
   "outputs": [],
   "source": [
    "n = 30\n",
    "np.random.seed(42)\n",
    "s = stats.norm.rvs(loc=1, scale=0.8, size=n)\n",
    "x = np.linspace(-5, 5, 500)\n",
    "y = stats.t(n-1).pdf(x)\n",
    "plt.plot(x, y, lw=2)\n",
    "t, p = stats.ttest_1samp(s, 0.5)\n",
    "mask = x > np.abs(t)\n",
    "plt.fill_between(x[mask], y[mask], color=\"red\", alpha=0.5)\n",
    "mask = x < -np.abs(t)\n",
    "plt.fill_between(x[mask], y[mask], color=\"red\", alpha=0.5)\n",
    "plt.axhline(color=\"k\", lw=0.5)\n",
    "plt.xlim(-5, 5)"
   ]
  },
  {
   "cell_type": "code",
   "execution_count": null,
   "metadata": {
    "collapsed": true
   },
   "outputs": [],
   "source": [
    "print( stats.ttest_1samp(s, 1))"
   ]
  },
  {
   "cell_type": "code",
   "execution_count": null,
   "metadata": {
    "collapsed": true
   },
   "outputs": [],
   "source": [
    "print(  stats.ttest_1samp(s, 0.9))"
   ]
  },
  {
   "cell_type": "code",
   "execution_count": null,
   "metadata": {
    "collapsed": true
   },
   "outputs": [],
   "source": [
    "np.random.seed(42)\n",
    "\n",
    "s1 = stats.norm.rvs(loc=1, scale=1.0, size=20)\n",
    "s2 = stats.norm.rvs(loc=1.5, scale=0.5, size=20)\n",
    "s3 = stats.norm.rvs(loc=1.5, scale=0.5, size=25)\n",
    "\n"
   ]
  },
  {
   "cell_type": "code",
   "execution_count": null,
   "metadata": {
    "collapsed": true
   },
   "outputs": [],
   "source": [
    "print( stats.ttest_ind(s1, s2, equal_var=False) )\n"
   ]
  },
  {
   "cell_type": "code",
   "execution_count": null,
   "metadata": {
    "collapsed": true
   },
   "outputs": [],
   "source": [
    "print(stats.ttest_ind(s2, s3, equal_var=True))"
   ]
  },
  {
   "cell_type": "code",
   "execution_count": null,
   "metadata": {
    "collapsed": true
   },
   "outputs": [],
   "source": []
  },
  {
   "cell_type": "code",
   "execution_count": null,
   "metadata": {
    "collapsed": true
   },
   "outputs": [],
   "source": []
  },
  {
   "cell_type": "code",
   "execution_count": null,
   "metadata": {
    "collapsed": true
   },
   "outputs": [],
   "source": []
  },
  {
   "cell_type": "code",
   "execution_count": null,
   "metadata": {
    "collapsed": true
   },
   "outputs": [],
   "source": []
  }
 ],
 "metadata": {
  "kernelspec": {
   "display_name": "Python 3",
   "language": "python",
   "name": "python3"
  },
  "language_info": {
   "codemirror_mode": {
    "name": "ipython",
    "version": 3
   },
   "file_extension": ".py",
   "mimetype": "text/x-python",
   "name": "python",
   "nbconvert_exporter": "python",
   "pygments_lexer": "ipython3",
   "version": "3.6.2"
  }
 },
 "nbformat": 4,
 "nbformat_minor": 2
}
