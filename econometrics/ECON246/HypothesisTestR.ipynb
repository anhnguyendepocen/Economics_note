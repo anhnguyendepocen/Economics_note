{
 "cells": [
  {
   "cell_type": "code",
   "execution_count": null,
   "metadata": {
    "collapsed": true,
    "slideshow": {
     "slide_type": "skip"
    }
   },
   "outputs": [],
   "source": [
    "#install.packages(\"openintro\")\n",
    "library(openintro)\n",
    "data(COL)# color"
   ]
  },
  {
   "cell_type": "markdown",
   "metadata": {
    "slideshow": {
     "slide_type": "slide"
    }
   },
   "source": [
    "# BUS 230: Elementary Statistics\n",
    "\n",
    "*Camuson College*\n",
    "\n",
    "2017.11.23\n",
    "\n",
    "Jon Duan"
   ]
  },
  {
   "cell_type": "markdown",
   "metadata": {
    "slideshow": {
     "slide_type": "slide"
    }
   },
   "source": [
    "## A basic statistics course. \n",
    "\n",
    "The emphasis is on business applications of statistical methods. The contents of the course are: \n",
    "\n",
    "- how to describe data; \n",
    "\n",
    "- analysis of decisions made with uncertainty; \n",
    "\n",
    "- analysis of statistical data; \n",
    "\n",
    "- and making predictions based on statistical data.\n",
    "\n"
   ]
  },
  {
   "cell_type": "markdown",
   "metadata": {
    "slideshow": {
     "slide_type": "slide"
    }
   },
   "source": [
    "![](https://archive.cnx.org/resources/16c937daf5012db1b115922dd2bbf82fdb422604/Diagram%202.png)"
   ]
  },
  {
   "cell_type": "markdown",
   "metadata": {
    "slideshow": {
     "slide_type": "slide"
    }
   },
   "source": [
    "## Recap\n",
    "\n",
    "\n",
    "- **Hypothesis** is a statement about some population parameter and sample data are used to test the validity of our hypothesis.\n",
    "- [Four steps of HT](https://onlinecourses.science.psu.edu/stat100/node/64):\n",
    "  - Step One: State the null and alternative hypotheses\n",
    "  - Step Two: Collect and summarize the data so that a test statistic can be calculated. \n",
    "  - Step Three: Use the test statistic to find the p-value. \n",
    "  - Step Four: Make a decision using the p-value.State a conclusion in terms of the problem.\n",
    "  \n",
    "  \n",
    "\n"
   ]
  },
  {
   "cell_type": "markdown",
   "metadata": {
    "slideshow": {
     "slide_type": "slide"
    }
   },
   "source": [
    "## Recap\n",
    "\n",
    "- **Typy I error**, significant level $\\alpha$; \n",
    "- **Type II error**, power ($1- \\beta$). \n",
    "\n",
    "- A **test statistic** is a summary of the data that measures the difference between what is seen in the data and what would be expected if the null hypothesis were true. It is typically standardized so that a p-value can be obtained from a reference distribution like the normal curve.\n"
   ]
  },
  {
   "cell_type": "markdown",
   "metadata": {
    "slideshow": {
     "slide_type": "slide"
    }
   },
   "source": [
    "## Recap\n",
    "\n",
    "- The **p-value** represents the likelihood of getting our test statistic or any test statistic more extreme, if in fact the null hypothesis is true.\n",
    "  - For a one-sided \"greater than\" alternative hypothesis, the \"more extreme\" part of the interpretation refers to test statistic values larger than the test statistic given.\n",
    "  - For a one-sided \"less than\" alternative hypothesis, the \"more extreme\" part of the interpretation refers to test statistic values smaller than the test statistic given.\n",
    "  - For a two-sided \"not equal to\" alternative hypothesis, the \"more extreme\" part of the interpretation refers to test statistic values that are farther away from the null hypothesis than the test statistic given at either the upper end or lower end of the reference distribution (both \"tails\").\n",
    "\n"
   ]
  },
  {
   "cell_type": "markdown",
   "metadata": {
    "slideshow": {
     "slide_type": "slide"
    }
   },
   "source": [
    "## Recap\n",
    "\n",
    "- One and two sample hypothesis testing"
   ]
  },
  {
   "cell_type": "markdown",
   "metadata": {
    "slideshow": {
     "slide_type": "slide"
    }
   },
   "source": [
    "**Homework question**: Accounting procedures allow a business to evaluate their inventory at LIFO (Last in First Out) or FIFO (First in First Out). \n",
    "\n",
    "A manufacturer evaluated its finished goods inventory (in $ thousands) for five products both ways. \n",
    "\n",
    "Based on the following results, is LIFO more effective in keeping the value of inventory lower?\n",
    "\n",
    "| Product  | FIFO (F)  | LIFO (L) |\n",
    "|----------|-----------|----------|\n",
    "| 1        | 225       | 221      |\n",
    "| 2        | 119       | 100      |\n",
    "| 3        | 100       | 113      |\n",
    "| 4        | 212       | 200      |\n",
    "| 5        | 248       | 245      | \n",
    "\n",
    "\n",
    "Use a 5% significance level.\n",
    "\n"
   ]
  },
  {
   "cell_type": "code",
   "execution_count": null,
   "metadata": {
    "collapsed": true,
    "slideshow": {
     "slide_type": "skip"
    }
   },
   "outputs": [],
   "source": [
    "#inventory = read.csv(\"statsTeaching.csv\")\n",
    "Product <- c(1,2,3,4,5)\n",
    "FIFO <- c(225 ,119,100,212,248)\n",
    "LIFO <- c(221 ,100,113,200,245)\n",
    "inventory =  data.frame(Product, FIFO, LIFO)\n"
   ]
  },
  {
   "cell_type": "code",
   "execution_count": null,
   "metadata": {
    "slideshow": {
     "slide_type": "subslide"
    }
   },
   "outputs": [],
   "source": [
    "summary(inventory)"
   ]
  },
  {
   "cell_type": "code",
   "execution_count": null,
   "metadata": {
    "slideshow": {
     "slide_type": "subslide"
    }
   },
   "outputs": [],
   "source": [
    "boxplot(inventory[-1])"
   ]
  },
  {
   "cell_type": "code",
   "execution_count": null,
   "metadata": {
    "slideshow": {
     "slide_type": "skip"
    }
   },
   "outputs": [],
   "source": [
    "t.test(x - 100)"
   ]
  },
  {
   "cell_type": "markdown",
   "metadata": {
    "slideshow": {
     "slide_type": "slide"
    }
   },
   "source": [
    "\n",
    "If we fail to reject, then eigher the null hypothesis is true or our procedure for detecting a false null hypothesis does not have sufficient power-- for example, the sample size is too small. \n",
    "\n",
    "\n",
    "If we seek strong evidence in favor of a particular outcome, we define that outcome as the alternative hypothesis, $H_1$, and the other outcome as the null hypothesis ,$H_0$.  This is called a **counterfactual argument**. When reject $H_0$, there is strong evidence in favor of $H_1$, and we are confident that our decision is correct.But failing to reject $H_0$ leads to great uncertainty. "
   ]
  },
  {
   "cell_type": "markdown",
   "metadata": {
    "slideshow": {
     "slide_type": "subslide"
    }
   },
   "source": []
  },
  {
   "cell_type": "code",
   "execution_count": null,
   "metadata": {
    "collapsed": true,
    "slideshow": {
     "slide_type": "subslide"
    }
   },
   "outputs": [],
   "source": [
    "n = 22\n",
    "df = n-1\n",
    "t_score = \n",
    "p_value = 2* pt(2.3, df = df, lower.tail = FALSE)\n",
    "p_value"
   ]
  },
  {
   "cell_type": "code",
   "execution_count": null,
   "metadata": {
    "collapsed": true,
    "slideshow": {
     "slide_type": "-"
    }
   },
   "outputs": [],
   "source": []
  },
  {
   "cell_type": "code",
   "execution_count": null,
   "metadata": {
    "collapsed": true,
    "slideshow": {
     "slide_type": "skip"
    }
   },
   "outputs": [],
   "source": [
    "normTail(0, 1,\n",
    "         U = 2.39,\n",
    "         df = 20,\n",
    "         col = COL[1])\n",
    "lines(c(2.4, 2.4),\n",
    "      c(dt(2.4, 20), 0.1),\n",
    "      lty = 3,\n",
    "      lwd = 2)\n",
    "text(2.73, 0.088, \"T score= 2.39\",\n",
    "     pos = 3,\n",
    "     cex = 0.8)"
   ]
  },
  {
   "cell_type": "code",
   "execution_count": null,
   "metadata": {
    "collapsed": true
   },
   "outputs": [],
   "source": []
  },
  {
   "cell_type": "code",
   "execution_count": null,
   "metadata": {
    "collapsed": true
   },
   "outputs": [],
   "source": []
  },
  {
   "cell_type": "code",
   "execution_count": null,
   "metadata": {
    "collapsed": true
   },
   "outputs": [],
   "source": []
  },
  {
   "cell_type": "code",
   "execution_count": null,
   "metadata": {
    "collapsed": true
   },
   "outputs": [],
   "source": []
  },
  {
   "cell_type": "code",
   "execution_count": null,
   "metadata": {
    "collapsed": true
   },
   "outputs": [],
   "source": [
    "# ?histPlot"
   ]
  },
  {
   "cell_type": "code",
   "execution_count": null,
   "metadata": {
    "collapsed": true
   },
   "outputs": [],
   "source": [
    "# histPlot(inventory$FIFO,\n",
    "#          xlab = '',\n",
    "#          ylab = '',\n",
    "#          main = '',\n",
    "#          axes = FALSE,\n",
    "#          col = COL[1],\n",
    "#          breaks = 100)"
   ]
  },
  {
   "cell_type": "code",
   "execution_count": null,
   "metadata": {
    "collapsed": true
   },
   "outputs": [],
   "source": [
    "tcrit = qt(0.05/2, df = 5-1)\n",
    "tdens = dt(-tcrit, 5-1)\n",
    "normTail(0, 1,\n",
    "         L = tcrit,\n",
    "         U = -tcrit,\n",
    "         df = 5-1,\n",
    "         col = COL[1])\n",
    "lines(c(-tcrit, -tcrit),\n",
    "      c(tdens, tdens*2),\n",
    "      lty = 3,\n",
    "      lwd = 2)\n",
    "text(-tcrit, tdens*2.5, paste0(\"T = \", round(-tcrit,2)),\n",
    "     pos = 3,\n",
    "     cex = 0.8)"
   ]
  },
  {
   "cell_type": "code",
   "execution_count": null,
   "metadata": {
    "collapsed": true
   },
   "outputs": [],
   "source": []
  },
  {
   "cell_type": "code",
   "execution_count": null,
   "metadata": {
    "collapsed": true
   },
   "outputs": [],
   "source": [
    "normTail(0, 1,\n",
    "         L = -1.15,\n",
    "         U = 1.15,\n",
    "         df = 26,\n",
    "         col = COL[1])\n",
    "lines(c(1.16, 1.16),\n",
    "      c(dt(1.16, 26), 0.25),\n",
    "      lty = 3,\n",
    "      cex = 2)\n",
    "text(1.55, 0.24, \"T = 1.15\",\n",
    "     pos = 3)"
   ]
  },
  {
   "cell_type": "code",
   "execution_count": null,
   "metadata": {
    "collapsed": true
   },
   "outputs": [],
   "source": [
    "#?normTail"
   ]
  },
  {
   "cell_type": "code",
   "execution_count": null,
   "metadata": {
    "collapsed": true
   },
   "outputs": [],
   "source": [
    "set.seed(2)\n",
    "x <- round(rnorm(30, 120, 70))\n",
    "t.test(x - 100)\n",
    "mean(x)\n",
    "sd(x)\n",
    "histPlot(x,\n",
    "         xlab = '',\n",
    "         ylab = '',\n",
    "         main = '',\n",
    "         axes = FALSE,\n",
    "         col = COL[1])\n",
    "axis(1)\n",
    "axis(2, at = seq(0, 10, 5))"
   ]
  },
  {
   "cell_type": "code",
   "execution_count": null,
   "metadata": {
    "collapsed": true
   },
   "outputs": [],
   "source": []
  },
  {
   "cell_type": "code",
   "execution_count": null,
   "metadata": {
    "collapsed": true
   },
   "outputs": [],
   "source": []
  }
 ],
 "metadata": {
  "celltoolbar": "Slideshow",
  "kernelspec": {
   "display_name": "R",
   "language": "R",
   "name": "ir"
  },
  "language_info": {
   "codemirror_mode": "r",
   "file_extension": ".r",
   "mimetype": "text/x-r-source",
   "name": "R",
   "pygments_lexer": "r",
   "version": "3.3.2"
  }
 },
 "nbformat": 4,
 "nbformat_minor": 2
}
