{
 "cells": [
  {
   "cell_type": "code",
   "execution_count": null,
   "metadata": {
    "collapsed": true,
    "slideshow": {
     "slide_type": "notes"
    }
   },
   "outputs": [],
   "source": [
    "#install.packages(\"openintro\")\n",
    "library(openintro)\n",
    "data(COL)# color"
   ]
  },
  {
   "cell_type": "markdown",
   "metadata": {
    "slideshow": {
     "slide_type": "notes"
    }
   },
   "source": [
    "# BUS 230: Elementary Statistics\n",
    "\n",
    "*Camuson College*\n",
    "\n",
    "2017.11.23\n",
    "\n",
    "Jon Duan"
   ]
  },
  {
   "cell_type": "markdown",
   "metadata": {
    "slideshow": {
     "slide_type": "slide"
    }
   },
   "source": [
    "# BUS 230: Introduction to Statistics\n",
    "\n",
    "*Camuson College*\n",
    "\n",
    "2017.11.23\n",
    "\n",
    "Jon Duan"
   ]
  },
  {
   "cell_type": "markdown",
   "metadata": {
    "slideshow": {
     "slide_type": "slide"
    }
   },
   "source": [
    "## A basic statistics course. \n",
    "\n",
    "The emphasis is on business applications of statistical methods. The contents of the course are: \n",
    "\n",
    "- how to describe data; \n",
    "\n",
    "- analysis of decisions made with uncertainty; \n",
    "\n",
    "- analysis of statistical data; \n",
    "\n",
    "- and making predictions based on statistical data.\n",
    "\n"
   ]
  },
  {
   "cell_type": "markdown",
   "metadata": {
    "slideshow": {
     "slide_type": "slide"
    }
   },
   "source": [
    "![](https://archive.cnx.org/resources/16c937daf5012db1b115922dd2bbf82fdb422604/Diagram%202.png)"
   ]
  },
  {
   "cell_type": "markdown",
   "metadata": {
    "slideshow": {
     "slide_type": "slide"
    }
   },
   "source": [
    "## Recap\n",
    "\n",
    "- **[Four steps of Hypothesis test](https://onlinecourses.science.psu.edu/stat100/node/64)**:\n",
    "  - Step One: State the null and alternative hypotheses\n",
    "  - Step Two: Collect and summarize the data so that a test statistic can be calculated. \n",
    "   - A **test statistic** is a summary of the data that measures the difference between what is seen in the data and what would be expected if the null hypothesis were true. It is typically standardized so that a p-value can be obtained from a reference distribution like the normal curve.\n",
    "\n",
    "  - Step Three: Use the test statistic to find the p-value. \n",
    "  - Step Four: Make a decision using the p-value. State a conclusion in terms of the problem.\n",
    "  \n",
    "  \n",
    "\n"
   ]
  },
  {
   "cell_type": "markdown",
   "metadata": {
    "slideshow": {
     "slide_type": "subslide"
    }
   },
   "source": [
    "## Recap\n",
    "\n",
    "- **Typy I error**:  reject a null hypothesis that is really true (with tests of difference this means that you say there was a difference between the groups when there really was not a difference).  \n",
    "\n",
    "- **significant level $\\alpha$**: the probability of making a Type I error is the $\\alpha$ level you choose.\n",
    "\n",
    "- **Type II error $\\beta$** : fail to reject a null hypothesis that is false (with tests of differences this means that you say there was no difference between the groups when there really was one)\n",
    "\n",
    "- **power $(1- \\beta) $** is the probability of rejecting the null hypothesis when the specific alternative hypothesis is true. \n",
    "\n",
    "\n"
   ]
  },
  {
   "cell_type": "markdown",
   "metadata": {
    "slideshow": {
     "slide_type": "subslide"
    }
   },
   "source": [
    "\n",
    "![](http://slideplayer.com/slide/7211254/24/images/23/True+state+of+nature+Decision+The+null+hypothesis+is+true..jpg)"
   ]
  },
  {
   "cell_type": "markdown",
   "metadata": {
    "slideshow": {
     "slide_type": "subslide"
    }
   },
   "source": [
    "## Recap\n",
    "\n",
    "- The **p-value** represents the likelihood of getting our test statistic or any test statistic more extreme, if in fact the null hypothesis is true.\n",
    "  - For a one-sided \"greater than\" alternative hypothesis, the \"more extreme\" part of the interpretation refers to test statistic values larger than the test statistic given.\n",
    "  - For a one-sided \"less than\" alternative hypothesis, the \"more extreme\" part of the interpretation refers to test statistic values smaller than the test statistic given.\n",
    "  - For a two-sided \"not equal to\" alternative hypothesis, the \"more extreme\" part of the interpretation refers to test statistic values that are farther away from the null hypothesis than the test statistic given at either the upper end or lower end of the reference distribution (both \"tails\").\n",
    "\n"
   ]
  },
  {
   "cell_type": "markdown",
   "metadata": {
    "slideshow": {
     "slide_type": "subslide"
    }
   },
   "source": [
    "## Recap\n",
    "\n",
    "- One and two sample hypothesis testing\n",
    "\n",
    "- Three Types of t tests\n",
    "\n",
    "![](https://researchbasics.education.uconn.edu/wp-content/uploads/sites/1215/2015/05/t-test1.jpg)"
   ]
  },
  {
   "cell_type": "markdown",
   "metadata": {
    "slideshow": {
     "slide_type": "subslide"
    }
   },
   "source": [
    "\n",
    "## Pair-difference T test\n",
    "\n",
    "- a.k.a. t-test for dependent groups, correlated t test \n",
    "\n",
    "- df= n (number of pairs) -1\n",
    "\n",
    "- This is concerned with the difference between the average scores of a single sample of individuals who are assessed at two different times (such as before treatment and after treatment). \n",
    "\n",
    "- It can also compare average scores of samples of individuals who are paired in some way (such as siblings, mothers, daughters, persons who are matched in terms of a particular characteristics).\n",
    "\n",
    "- It helps to reduce the cross individual variations.\n",
    "\n"
   ]
  },
  {
   "cell_type": "markdown",
   "metadata": {
    "slideshow": {
     "slide_type": "subslide"
    }
   },
   "source": [
    "## T test for Independent Samples (with two options)\n",
    "\n",
    "This is concerned with the difference between the averages of two populations. \n",
    "\n",
    "Basically, the procedure compares the averages of two samples that were selected independently of each other, and asks whether those sample averages differ enough to believe that the populations from which they were selected also have different averages.\n",
    "\n",
    "An example would be comparing math achievement scores of an experimental group with a control group.\n",
    "\n",
    "- Equal Variance (Pooled-variance t-test) \n",
    "\n",
    " - df=n (total of both groups) -2      \n",
    " - $s_p =\\sqrt{\\frac{(n_1-1)s_1^2+(n_2-1)s_2^2}{n_1+n_2-2}}$\n",
    " - $t^{*}=\\frac{{\\bar{x}}_1-{\\bar{x}}_2}{s_p \\sqrt{\\frac{1}{n_1}+\\frac{1}{n_2}}}$\n",
    "\n",
    "\n",
    "- Unequal Variance (Separate-variance t test) \n",
    " - df dependents on a formula, but a rough estimate is one less than the smallest group  \n",
    " - $s_1 \\ne s_2$ \n",
    " - $\\sqrt{\\frac{s_1^2}{n_1}+\\frac{s_2^2}{n_2}}$\n",
    " - $t^{*}=\\frac{{\\bar{x}}_1-{\\bar{x}}_2}{\\sqrt{\\frac{s_1^2}{n_1}+\\frac{s_2^2}{n_2}}}$\n"
   ]
  },
  {
   "cell_type": "markdown",
   "metadata": {
    "slideshow": {
     "slide_type": "notes"
    }
   },
   "source": [
    "### How do I decide which type of t test to use?\n",
    "\n",
    "![](https://researchbasics.education.uconn.edu/wp-content/uploads/sites/1215/2015/05/t-test-decisions1.gif)\n"
   ]
  },
  {
   "cell_type": "markdown",
   "metadata": {
    "slideshow": {
     "slide_type": "slide"
    }
   },
   "source": [
    "# Case Study\n",
    "**Homework question**: Accounting procedures allow a business to evaluate their inventory at LIFO (Last in First Out) or FIFO (First in First Out). \n",
    "\n",
    "A manufacturer evaluated its finished goods inventory (in $ thousands) for five products both ways. \n",
    "\n",
    "Based on the following results, is LIFO more effective in keeping the value of inventory lower?\n",
    "\n",
    "| Product  | FIFO (F)  | LIFO (L) |\n",
    "|----------|-----------|----------|\n",
    "| 1        | 225       | 221      |\n",
    "| 2        | 119       | 100      |\n",
    "| 3        | 100       | 113      |\n",
    "| 4        | 212       | 200      |\n",
    "| 5        | 248       | 245      | \n",
    "\n",
    "\n",
    "Use a 5% significance level.\n",
    "\n",
    "**Question:** is this a paired means or independent means test?"
   ]
  },
  {
   "cell_type": "code",
   "execution_count": null,
   "metadata": {
    "slideshow": {
     "slide_type": "subslide"
    }
   },
   "outputs": [],
   "source": [
    "#inventory = read.csv(\"statsTeaching.csv\")\n",
    "Product <- c(1,2,3,4,5)\n",
    "FIFO <- c(225 ,119,100,212,248)\n",
    "LIFO <- c(221 ,100,113,200,245)\n",
    "inventory =  data.frame(Product, FIFO, LIFO)\n",
    "inventory$difference = inventory$FIFO-inventory$LIFO\n",
    "inventory"
   ]
  },
  {
   "cell_type": "code",
   "execution_count": null,
   "metadata": {
    "slideshow": {
     "slide_type": "subslide"
    }
   },
   "outputs": [],
   "source": [
    "summary(inventory[-1])"
   ]
  },
  {
   "cell_type": "code",
   "execution_count": null,
   "metadata": {
    "slideshow": {
     "slide_type": "subslide"
    }
   },
   "outputs": [],
   "source": [
    "boxplot(inventory[-1])"
   ]
  },
  {
   "cell_type": "markdown",
   "metadata": {
    "slideshow": {
     "slide_type": "skip"
    }
   },
   "source": [
    "## The Paired t-Procedure\n",
    "### Assumptions:\n",
    "\n",
    "1. Paired samples\n",
    "2. The differences of the pairs follow a normal distribution or the number of pairs is large (note here that if the number of pairs is < 30, we need to check whether the differences are normal, but we do not need to check for the normality of each population)"
   ]
  },
  {
   "cell_type": "markdown",
   "metadata": {
    "slideshow": {
     "slide_type": "notes"
    }
   },
   "source": [
    "\n",
    "\n",
    "\n"
   ]
  },
  {
   "cell_type": "markdown",
   "metadata": {
    "slideshow": {
     "slide_type": "subslide"
    }
   },
   "source": [
    "## 1. Hypothesis:\n",
    "\n",
    "$$H_0: \\mu_d = 0    \\quad \\quad H_a: \\mu_d > 0$$\n",
    "\n",
    "**counterfactual argument:**\n",
    "If we seek strong evidence in favor of a particular outcome, we define that outcome as the alternative hypothesis, $H_1$, and the other outcome as the null hypothesis ,$H_0$.  \n",
    "\n",
    " \n",
    "\n",
    "- When reject $H_0$, there is strong evidence in favor of $H_1$, and we are confident that our decision is correct.\n",
    "\n",
    "- But failing to reject $H_0$ leads to great uncertainty. \n"
   ]
  },
  {
   "cell_type": "markdown",
   "metadata": {
    "slideshow": {
     "slide_type": "subslide"
    }
   },
   "source": [
    "\n",
    "## 2. t-statistic:\n",
    "\n",
    "Let $d$ = differences between the pairs of data,  then $\\bar d$ = mean of these differences.\n",
    "\n",
    "- The test statistics is: $t^{*}=\\frac{\\bar{d}-0}{{s_d}/\\sqrt{n}}$\n",
    "\n",
    "- degrees of freedom = $n - 1$\n",
    "\n",
    "where $n$ denotes the number of pairs or the number of differences. ${s_d }$  is the standard deviation of the sample differences\n",
    "\n"
   ]
  },
  {
   "cell_type": "markdown",
   "metadata": {
    "slideshow": {
     "slide_type": "subslide"
    }
   },
   "source": [
    "\n",
    "### Assumptions:\n",
    "\n",
    "1. Is this a paired sample? - Yes.\n",
    "\n",
    "2. Is this a large sample? - No.\n",
    "\n",
    "3. Since the sample size is not large enough (less than 30), we need to check whether the differences follow a normal distribution.\n",
    "\n",
    "\n",
    "ref:\n",
    "\n",
    "https://onlinecourses.science.psu.edu/stat500/node/51\n",
    "\n",
    "https://www2.stat.duke.edu/courses/Spring13/sta101.001/slides/unit4lec1H.pdf\n",
    "\n"
   ]
  },
  {
   "cell_type": "code",
   "execution_count": null,
   "metadata": {
    "collapsed": true,
    "slideshow": {
     "slide_type": "notes"
    }
   },
   "outputs": [],
   "source": [
    "\n",
    "## Have a look at the densities\n",
    "#plot(density(inventory$difference))\n",
    "\n"
   ]
  },
  {
   "cell_type": "code",
   "execution_count": null,
   "metadata": {
    "slideshow": {
     "slide_type": "subslide"
    }
   },
   "outputs": [],
   "source": [
    "shapiro.test(inventory$difference) ## Perform the test"
   ]
  },
  {
   "cell_type": "code",
   "execution_count": null,
   "metadata": {
    "slideshow": {
     "slide_type": "subslide"
    }
   },
   "outputs": [],
   "source": [
    "qqnorm(inventory$difference);qqline(inventory$difference, col = 2) ## Plot using a qqplot"
   ]
  },
  {
   "cell_type": "markdown",
   "metadata": {
    "slideshow": {
     "slide_type": "subslide"
    }
   },
   "source": [
    "## 3 Decision rule\n",
    "\n",
    "- choose 5% significant level, calculate t critical value: \n",
    "- if t score $t^* \\ge t_{\\alpha/2}$, we reject $H_0$\n",
    "\n",
    "or \n",
    "\n",
    "- compute p-value:  \n",
    "- if p-value is less than 5%, we reject $H_0$"
   ]
  },
  {
   "cell_type": "code",
   "execution_count": null,
   "metadata": {
    "slideshow": {
     "slide_type": "subslide"
    }
   },
   "outputs": [],
   "source": [
    "n = 5 # number of observation\n",
    "df = n-1 # degree of freedom\n",
    "dbar= mean(inventory$difference)# mean of differences\n",
    "sd_d= sd(inventory$difference) # standard deviation of differences\n",
    "SE =  sd_d/sqrt(n)\n",
    "(t_score =  (dbar-0)/(SE )) # t score / observed t value"
   ]
  },
  {
   "cell_type": "code",
   "execution_count": null,
   "metadata": {},
   "outputs": [],
   "source": [
    "(t_crit = qt(c(.025, .975) ,df = df)) # critical value for decision rule"
   ]
  },
  {
   "cell_type": "code",
   "execution_count": null,
   "metadata": {
    "slideshow": {
     "slide_type": "-"
    }
   },
   "outputs": [],
   "source": [
    "nullval = 0 # null value \n",
    "(p_value = pt(t_score, df = df, lower.tail = FALSE) )# oneside t test, p-value"
   ]
  },
  {
   "cell_type": "code",
   "execution_count": null,
   "metadata": {
    "slideshow": {
     "slide_type": "subslide"
    }
   },
   "outputs": [],
   "source": [
    "t.test(inventory$difference, alt=\"great\")\n",
    "\n",
    "#ref: https://statistics.berkeley.edu/computing/r-t-tests\n",
    "#ref: https://www.r-bloggers.com/paired-students-t-test/"
   ]
  },
  {
   "cell_type": "code",
   "execution_count": null,
   "metadata": {
    "slideshow": {
     "slide_type": "subslide"
    }
   },
   "outputs": [],
   "source": [
    "t.test(inventory$FIFO, inventory$LIFO, paired=TRUE, alt=\"great\")"
   ]
  },
  {
   "cell_type": "code",
   "execution_count": null,
   "metadata": {
    "slideshow": {
     "slide_type": "subslide"
    }
   },
   "outputs": [],
   "source": [
    "tcrit = qt(0.05/2, df = df, lower.tail = FALSE)\n",
    "tdens = dt(tcrit, df)\n",
    "normTail(nullval,  U = tcrit, df = df, col = COL[1])\n",
    "lines(c(tcrit, tcrit), c(tdens, tdens*2), lty = 3, lwd = 2)\n",
    "text(tcrit, tdens*1.8, paste0(\"T critical value = \", round(tcrit,2)), pos = 3,cex = 0.8)\n",
    "lines(c(t_score, t_score),   c(0, dt(t_score, df)*1.5), lty = 3, lwd = 2)\n",
    "text(t_score, dt(t_score, df)*1.5, paste0(\"T score = \", round(t_score,2)),  pos = 3, cex = 0.8)"
   ]
  },
  {
   "cell_type": "code",
   "execution_count": null,
   "metadata": {
    "slideshow": {
     "slide_type": "notes"
    }
   },
   "outputs": [],
   "source": [
    "#par(mfrow = c(2, 3), mar = c(3, 3, 1, 1))\n",
    "#normTail(3, 2, 5, df = 10)\n",
    "#normTail(3, 2, 1, df = 100, xLab = 'symbol')\n",
    "normTail(3, 2, M = 1:2, xLab = 'symbol', cex.axis = 0.8)\n",
    "# normTail(3, 2, U = 5, axes = FALSE)\n",
    "# normTail(L = -1, U = 2, M = c(0, 1), axes = 3, xAxisIncr = 2)\n",
    "# normTail(L = -1, U = 2, M = c(0, 1),\n",
    "#          xLab = 'symbol', cex.axis = 0.8, xAxisIncr = 2)"
   ]
  },
  {
   "cell_type": "code",
   "execution_count": null,
   "metadata": {
    "slideshow": {
     "slide_type": "subslide"
    }
   },
   "outputs": [],
   "source": [
    "source(\"http://www.openintro.org/stat/slides/inference.R\")\n",
    "inference(inventory$difference, est=\"mean\", method=\"theoretical\", type=\"ht\", alternative=\"greater\", null=nullval)"
   ]
  },
  {
   "cell_type": "markdown",
   "metadata": {
    "slideshow": {
     "slide_type": "subslide"
    }
   },
   "source": [
    "## Conclusion: We fail to reject $H_0$"
   ]
  },
  {
   "cell_type": "markdown",
   "metadata": {
    "slideshow": {
     "slide_type": "slide"
    }
   },
   "source": [
    "## Power Analysis\n",
    "\n",
    "If we fail to reject, then eigher the null hypothesis is true or our procedure for detecting a false null hypothesis does not have sufficient power-- for example, the sample size is too small. \n",
    "\n",
    "\n",
    "![](http://images.slideplayer.com/24/7575983/slides/slide_53.jpg)"
   ]
  },
  {
   "cell_type": "markdown",
   "metadata": {
    "slideshow": {
     "slide_type": "subslide"
    }
   },
   "source": [
    "## Power increases when the sample size increases.\n",
    "\n",
    "![](http://my.ilstu.edu/~wjschne/138/Power/PowerSampleSize.gif)"
   ]
  },
  {
   "cell_type": "code",
   "execution_count": null,
   "metadata": {
    "slideshow": {
     "slide_type": "notes"
    }
   },
   "outputs": [],
   "source": [
    "t_crit[2]*SE"
   ]
  },
  {
   "cell_type": "code",
   "execution_count": null,
   "metadata": {
    "slideshow": {
     "slide_type": "notes"
    }
   },
   "outputs": [],
   "source": [
    "sd_d"
   ]
  },
  {
   "cell_type": "code",
   "execution_count": null,
   "metadata": {
    "slideshow": {
     "slide_type": "notes"
    }
   },
   "outputs": [],
   "source": [
    "SE"
   ]
  },
  {
   "cell_type": "code",
   "execution_count": null,
   "metadata": {
    "slideshow": {
     "slide_type": "subslide"
    }
   },
   "outputs": [],
   "source": [
    "#if we care about if the difference will be 5 or larger, we can computer the power\n",
    "# effect size if 5\n",
    "effect_size = 10\n",
    "(t_crit_2 = qt( 0.975, df = df))# quantile on null hypothesis\n",
    "(t_score_power =  (t_crit_2*SE-effect_size)/SE)\n"
   ]
  },
  {
   "cell_type": "code",
   "execution_count": null,
   "metadata": {
    "slideshow": {
     "slide_type": "subslide"
    }
   },
   "outputs": [],
   "source": [
    "(power_test =  pt(t_score_power, df=df, lower.tail = FALSE))"
   ]
  },
  {
   "cell_type": "markdown",
   "metadata": {
    "slideshow": {
     "slide_type": "subslide"
    }
   },
   "source": [
    "## Power is about 6.9% for an effective size 10"
   ]
  },
  {
   "cell_type": "markdown",
   "metadata": {
    "slideshow": {
     "slide_type": "subslide"
    }
   },
   "source": [
    "## How many number of subjects to obtain the desired power 80% of the test with an effective size 10"
   ]
  },
  {
   "cell_type": "code",
   "execution_count": null,
   "metadata": {
    "slideshow": {
     "slide_type": "subslide"
    }
   },
   "outputs": [],
   "source": [
    "(quantile_power = qt(0.8, df = df, lower.tail = FALSE))# quantile on alternative hypothesis\n",
    "#(t_crit[2])\n",
    "(t_crit_2 = qt( 0.975, df = df))# quantile on null hypothesis\n",
    "((abs(quantile_power) + t_crit_2)) # *SE = effective size"
   ]
  },
  {
   "cell_type": "code",
   "execution_count": null,
   "metadata": {},
   "outputs": [],
   "source": [
    "(SE_required = effect_size/(abs(quantile_power) + t_crit[2]))"
   ]
  },
  {
   "cell_type": "code",
   "execution_count": null,
   "metadata": {},
   "outputs": [],
   "source": [
    "(n_required =  sd_d^2 / (SE_required^2))"
   ]
  },
  {
   "cell_type": "code",
   "execution_count": null,
   "metadata": {
    "slideshow": {
     "slide_type": "notes"
    }
   },
   "outputs": [],
   "source": [
    "pwr.t.test(n = n, d = effect_size/ sd_d, sig.level = 0.05, \n",
    "             alternative = \"greater\", type = \"paired\")"
   ]
  },
  {
   "cell_type": "code",
   "execution_count": null,
   "metadata": {
    "slideshow": {
     "slide_type": "notes"
    }
   },
   "outputs": [],
   "source": [
    "pwr.t.test(power = 0.80,d = effect_size/ sd_d, sig.level = 0.05, alternative = \"greater\",type = \"paired\")"
   ]
  },
  {
   "cell_type": "code",
   "execution_count": null,
   "metadata": {
    "slideshow": {
     "slide_type": "notes"
    }
   },
   "outputs": [],
   "source": [
    "power.t.test(n = n , delta= 10,sd = sd_d , sig.level=0.05,type=\"paired\",alternative=\"one.sided\")"
   ]
  },
  {
   "cell_type": "code",
   "execution_count": null,
   "metadata": {
    "slideshow": {
     "slide_type": "notes"
    }
   },
   "outputs": [],
   "source": [
    "power.t.test(power = 0.80 , delta= 10,sd = sd_d , sig.level=0.05,type=\"paired\",alternative=\"one.sided\")"
   ]
  },
  {
   "cell_type": "code",
   "execution_count": null,
   "metadata": {
    "slideshow": {
     "slide_type": "notes"
    }
   },
   "outputs": [],
   "source": [
    "# power analysis\n",
    "# install.packages(\"pwr\")\n",
    "library(pwr)\n",
    "pwr.t.test(n = n , d=(dbar)/sd_d,sig.level=0.05,type=\"paired\",alternative=\"greater\")\n",
    "\n",
    "#ref: https://stats.idre.ucla.edu/r/dae/power-analysis-for-paired-sample-t-test/\n",
    "#https://www.statmethods.net/stats/power.html\n",
    "# https://www2.stat.duke.edu/courses/Fall13/sta101/slides/unit3lec3H.pdf"
   ]
  },
  {
   "cell_type": "code",
   "execution_count": null,
   "metadata": {
    "slideshow": {
     "slide_type": "notes"
    }
   },
   "outputs": [],
   "source": [
    "# goal to keep alpha and beta low\n",
    "# power analysis\n",
    "# install.packages(\"pwr\")\n",
    "library(pwr)\n",
    "pwr.t.test(d=(dbar)/sd_d,power=0.8,sig.level=0.05,type=\"paired\",alternative=\"greater\")\n",
    "\n",
    "#ref: https://stats.idre.ucla.edu/r/dae/power-analysis-for-paired-sample-t-test/"
   ]
  },
  {
   "cell_type": "code",
   "execution_count": null,
   "metadata": {
    "slideshow": {
     "slide_type": "notes"
    }
   },
   "outputs": [],
   "source": [
    "normTail(0, 1,\n",
    "         L = -1.15,\n",
    "         U = 1.15,\n",
    "         df = 26,\n",
    "         col = COL[1])\n",
    "lines(c(1.16, 1.16),\n",
    "      c(dt(1.16, 26), 0.25),\n",
    "      lty = 3,\n",
    "      cex = 2)\n",
    "text(1.55, 0.24, \"T = 1.15\",\n",
    "     pos = 3)"
   ]
  },
  {
   "cell_type": "code",
   "execution_count": null,
   "metadata": {
    "slideshow": {
     "slide_type": "notes"
    }
   },
   "outputs": [],
   "source": [
    "set.seed(2)\n",
    "x <- round(rnorm(30, 120, 70))\n",
    "t.test(x - 100)\n",
    "mean(x)\n",
    "sd(x)\n",
    "histPlot(x,\n",
    "         xlab = '',\n",
    "         ylab = '',\n",
    "         main = '',\n",
    "         axes = FALSE,\n",
    "         col = COL[1])\n",
    "axis(1)\n",
    "axis(2, at = seq(0, 10, 5))"
   ]
  },
  {
   "cell_type": "markdown",
   "metadata": {
    "collapsed": true,
    "slideshow": {
     "slide_type": "slide"
    }
   },
   "source": [
    "Reference:\n",
    "\n",
    "t Test\n",
    "\n",
    "https://researchbasics.education.uconn.edu/t-test/\n",
    "\n",
    "OpenIntro Statistics\n",
    "\n",
    "https://www.openintro.org/download.php?file=os3_tablet\n",
    "\n",
    "An Introduction to Paired-Difference Procedures\n",
    "\n",
    "https://www.youtube.com/watch?v=tZZt8f8URKg\n",
    "\n",
    "The Paired-Difference t Procedure\n",
    "\n",
    "https://www.youtube.com/watch?v=TMRBGFIj0RM\n",
    "\n",
    "An Example of a Paired-Difference t Test and Confidence Interval\n",
    "\n",
    "https://www.youtube.com/watch?v=upc4zN_-YFM\n",
    "\n",
    "Hypothesis Tests for One Population Variance\n",
    "\n",
    "https://www.youtube.com/watch?v=PweabcpqzYI\n",
    "\n",
    "Lesson 8 - Comparing Two Population Means, Two Proportions or Two Variances\n",
    "\n",
    "https://onlinecourses.science.psu.edu/stat500/node/48"
   ]
  }
 ],
 "metadata": {
  "celltoolbar": "Slideshow",
  "kernelspec": {
   "display_name": "R",
   "language": "R",
   "name": "ir"
  },
  "language_info": {
   "codemirror_mode": "r",
   "file_extension": ".r",
   "mimetype": "text/x-r-source",
   "name": "R",
   "pygments_lexer": "r",
   "version": "3.3.2"
  }
 },
 "nbformat": 4,
 "nbformat_minor": 2
}
