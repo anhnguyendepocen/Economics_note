{
 "cells": [
  {
   "cell_type": "markdown",
   "metadata": {},
   "source": [
    "# ECON546 Lab03 2018 Spring"
   ]
  },
  {
   "cell_type": "markdown",
   "metadata": {},
   "source": [
    "## Tutorial\n",
    "\n",
    "https://www.youtube.com/watch?v=YMt5K68ZvjQ\n",
    "\n",
    "http://davidbraudt.com/stata-videos/\n",
    "\n",
    "https://www.youtube.com/watch?v=QaI_a_l2jqo\n",
    "\n",
    "http://davidbraudt.com/wp-content/uploads/2016/11/Command-List-for-Fall-2015-Workshop.pdf"
   ]
  },
  {
   "cell_type": "markdown",
   "metadata": {},
   "source": [
    "## Macro\n",
    "\n",
    "### 1 Macros\n",
    "A macro is simply a name associated with some text. Macros can be local or global in scope.\n",
    "\n",
    "Local macros have names of up to 31 characters and are known only in the **current context** (the console, a do file, or a program).\n",
    "\n",
    "**Warning**: Evaluating a macro that doesn't exist is not an error; it just returns an empty string. So be careful to spell macro names correctly. \n",
    "\n",
    "\n",
    "```stata\n",
    "local age \"age20to24 age25to29 age30to34 age35to39 age40to44 age45to49\"\n",
    "local controls \\`age' income education\n",
    "```\n",
    "\n",
    "\n",
    "ref:\n",
    "\n",
    "http://data.princeton.edu/stata/programming.html\n",
    "\n",
    "\n",
    "https://www.youtube.com/watch?v=Ovk0CiTxMRI\n",
    "\n",
    "https://www.youtube.com/watch?v=WsqvGdqzknY\n",
    "\n",
    "http://jearl.faculty.arizona.edu/sites/jearl.faculty.arizona.edu/files/Intro%20to%20loops%2C%20Year%202.pdf\n",
    "\n",
    "https://www.ucl.ac.uk/pcph/research-groups-themes/thin-pub/research_presentations/Collier_looping_STATA"
   ]
  },
  {
   "cell_type": "markdown",
   "metadata": {},
   "source": [
    "## For loop\n",
    "\n",
    "### Looping Over Sequences of Numbers\n",
    "The basic looping command takes the form\n",
    "\n",
    "```stata\n",
    "forvalues number = sequence {\n",
    "    ... body of loop using `number' ...\n",
    "}\n",
    "```\n",
    "\n",
    "Here forvalues is a keyword, number is the name of a local macro that will be set to each number in the sequence, and sequence is a range of values which can have the form\n",
    "\n",
    "- min/max to indicate a sequence of numbers from min to max in steps of one, for example 1/3 yields 1, 2 and 3, or\n",
    "- first(step)last which yields a sequence from first to last in steps of size step. For example 15(5)50 yields 15,20,25,30,35,40,45 and 50.\n",
    "\n",
    "The opening left brace must be the last thing on the first line (other than comments), and the loop must be closed by a matching right brace on a line all by itself. The loop is executed once for each value in the sequence with your local macro number (or whatever you called it) holding the value.\n",
    "\n",
    "### Looping Over Elements in a List\n",
    "\n",
    "```stata\n",
    "foreach item in a-list-of-things {\n",
    "    ... body of loop using `item' ...\n",
    "}\n",
    "```\n",
    "\n",
    "\n",
    "\n",
    "ref:\n",
    "\n",
    "http://data.princeton.edu/stata/programming.html\n",
    "\n",
    "https://www.youtube.com/watch?v=9S54_YLQ7WI"
   ]
  },
  {
   "cell_type": "code",
   "execution_count": null,
   "metadata": {
    "ExecuteTime": {
     "end_time": "2018-01-19T04:34:39.236234Z",
     "start_time": "2018-01-19T04:34:36.871805Z"
    }
   },
   "outputs": [],
   "source": [
    "%matplotlib inline\n",
    "import seaborn as sns\n",
    "import pandas as pd\n",
    "import statsmodels.formula.api as smf\n",
    "import ipystata"
   ]
  },
  {
   "cell_type": "code",
   "execution_count": null,
   "metadata": {
    "ExecuteTime": {
     "end_time": "2018-01-19T04:35:07.763491Z",
     "start_time": "2018-01-19T04:35:06.060739Z"
    }
   },
   "outputs": [],
   "source": [
    "%%stata -o life_df\n",
    "sysuse lifeexp.dta\n",
    "summarize"
   ]
  },
  {
   "cell_type": "code",
   "execution_count": null,
   "metadata": {
    "ExecuteTime": {
     "end_time": "2018-01-19T04:44:08.096136Z",
     "start_time": "2018-01-19T04:44:06.685296Z"
    }
   },
   "outputs": [],
   "source": [
    "%%stata -o labor_df\n",
    "clear\n",
    "use \"D:\\onedrive\\One drive\\546-2018\\lab\\lab03\\546lab3.dta\"\n",
    "capture log close\n",
    "log using \"D:\\onedrive\\One drive\\546-2018\\lab\\lab03\\546mylab3.log\", replace\n",
    "set seed 1234567\n",
    "g age2=age^2 // creating the square of age"
   ]
  },
  {
   "cell_type": "code",
   "execution_count": null,
   "metadata": {
    "ExecuteTime": {
     "end_time": "2018-01-19T04:39:47.513121Z",
     "start_time": "2018-01-19T04:39:45.195074Z"
    }
   },
   "outputs": [],
   "source": [
    "%%stata -d labor_df --graph \n",
    "graph twoway (scatter logwr educ) (lfit logwr educ)\n",
    "graph save \"D:\\onedrive\\One drive\\546-2018\\lab\\lab03\\graph1.gph\", replace"
   ]
  },
  {
   "cell_type": "code",
   "execution_count": null,
   "metadata": {
    "ExecuteTime": {
     "end_time": "2018-01-19T04:41:40.192034Z",
     "start_time": "2018-01-19T04:41:38.785541Z"
    }
   },
   "outputs": [],
   "source": [
    "%%stata -d labor_df\n",
    "\n",
    "label variable inlf \"Women’s participation =1 yes, =0 no\"\n",
    "\n",
    "label variable nclt18 \"Number of children between 4 and 18\"\n",
    "\n",
    "label variable age \"Age of woman\"\n",
    "\n",
    "notes logwr: this is the natural logarithm of the wage rate"
   ]
  },
  {
   "cell_type": "code",
   "execution_count": null,
   "metadata": {
    "ExecuteTime": {
     "end_time": "2018-01-19T04:41:59.853037Z",
     "start_time": "2018-01-19T04:41:58.443644Z"
    }
   },
   "outputs": [],
   "source": [
    "%%stata -d labor_df\n",
    "sum inlf if age<=30 | age>=50"
   ]
  },
  {
   "cell_type": "code",
   "execution_count": null,
   "metadata": {
    "ExecuteTime": {
     "end_time": "2018-01-19T04:42:18.333469Z",
     "start_time": "2018-01-19T04:42:16.919219Z"
    }
   },
   "outputs": [],
   "source": [
    "%%stata -d labor_df\n",
    "g n3=0\n",
    "replace n3=1 if nclt3 != 0\n",
    "sum n3"
   ]
  },
  {
   "cell_type": "code",
   "execution_count": null,
   "metadata": {
    "ExecuteTime": {
     "end_time": "2018-01-19T04:42:38.624012Z",
     "start_time": "2018-01-19T04:42:37.233617Z"
    }
   },
   "outputs": [],
   "source": [
    "%%stata -d labor_df\n",
    "g n4 = nclt3 != 0\n",
    "sum n4"
   ]
  },
  {
   "cell_type": "markdown",
   "metadata": {},
   "source": [
    "## Generate random variables\n",
    "\n",
    "#### Exponetial distribution\n",
    "\n",
    "The general approach is to take the cumulative distribution function\n",
    "F(x) and solve for x in terms of F.  Then replace F with uniform() and\n",
    "you are done:\n",
    "```\n",
    "F=1-exp(-lambda*x)\n",
    "1-F=exp(-lambda*x)\n",
    "-lambda*x=ln(1-F)\n",
    "x=-(1/lambda)*ln(1-F)\n",
    "```\n",
    "so for lambda=1, you can\n",
    "```\n",
    "g e1=-ln(1-uniform())\n",
    "```\n",
    "\n",
    "ref:\n",
    "\n",
    "https://www.stata.com/statalist/archive/2008-02/msg00857.html"
   ]
  },
  {
   "cell_type": "code",
   "execution_count": null,
   "metadata": {
    "ExecuteTime": {
     "end_time": "2018-01-19T04:43:17.143218Z",
     "start_time": "2018-01-19T04:43:15.723477Z"
    }
   },
   "outputs": [],
   "source": [
    "%%stata -d labor_df\n",
    "g x1=rnormal()\n",
    "g x2=rnormal(50,5)\n",
    "sum x1 x2"
   ]
  },
  {
   "cell_type": "code",
   "execution_count": null,
   "metadata": {
    "ExecuteTime": {
     "end_time": "2018-01-19T04:44:15.942022Z",
     "start_time": "2018-01-19T04:44:14.492779Z"
    }
   },
   "outputs": [],
   "source": [
    "%%stata -d labor_df\n",
    "local variables nclt18 age age2 educ logwr\n",
    "regress inlf nclt3 `variables'"
   ]
  },
  {
   "cell_type": "code",
   "execution_count": null,
   "metadata": {
    "ExecuteTime": {
     "end_time": "2018-01-19T04:45:58.809681Z",
     "start_time": "2018-01-19T04:45:58.734484Z"
    }
   },
   "outputs": [],
   "source": [
    "model = smf.ols(formula = 'inlf ~ nclt3 + nclt18+ age+ age2 +educ +logwr',\n",
    "                data = labor_df)\n",
    "results = model.fit()\n",
    "print(results.summary())"
   ]
  },
  {
   "cell_type": "code",
   "execution_count": null,
   "metadata": {
    "ExecuteTime": {
     "end_time": "2018-01-19T04:47:36.088704Z",
     "start_time": "2018-01-19T04:47:34.627328Z"
    }
   },
   "outputs": [],
   "source": [
    "%%stata -d labor_df\n",
    "\n",
    "local variables nclt18 age age2 educ logwr\n",
    "\n",
    "// illustrating a forvalues loop\n",
    "\n",
    "forvalues loop=0/2 {\n",
    "regress inlf `variables' if nclt3==`loop'\n",
    "}\n",
    "\n"
   ]
  },
  {
   "cell_type": "markdown",
   "metadata": {},
   "source": [
    "### Creating Dummy Variables\n",
    "creating dummy variables to represent age groups. Stata 11 introduced factor variables and Stata 13 improved the labeling of tables of estimates, drastically reducing the need to \"roll your own\" dummies, but the code remains instructive.\n",
    "\n",
    "This will create dummy variables age20to24 to age45to49. The way the loop works is that the local macro bot will take values between 20 and 45 in steps of 5 (hence 20, 25, 30, 35, 40, and 45), the lower bounds of the age groups.\n",
    "\n",
    "Inside the loop we create a local macro top to represent the upper bounds of the age groups, which equals the lower bound plus 4. The first time through the loop bot is 20, so top is 24. We use an equal sign to store the result of adding 4 to bot."
   ]
  },
  {
   "cell_type": "code",
   "execution_count": null,
   "metadata": {
    "ExecuteTime": {
     "end_time": "2018-01-19T05:10:54.932458Z",
     "start_time": "2018-01-19T05:10:53.515550Z"
    }
   },
   "outputs": [],
   "source": [
    "%%stata -d labor_df\n",
    "forvalues bot = 20(5)45 {\n",
    "    local top = `bot' + 4\n",
    "    gen age`bot'to`top' = age >= `bot' & age <= `top'\n",
    "}\n",
    "\n",
    "sum age20to24 age25to29 age30to34 age35to39 age40to44 age45to49\n"
   ]
  },
  {
   "cell_type": "code",
   "execution_count": null,
   "metadata": {
    "collapsed": true
   },
   "outputs": [],
   "source": []
  },
  {
   "cell_type": "code",
   "execution_count": null,
   "metadata": {
    "ExecuteTime": {
     "end_time": "2018-01-19T05:10:52.832391Z",
     "start_time": "2018-01-19T05:10:51.416009Z"
    }
   },
   "outputs": [],
   "source": [
    "%%stata -d labor_df\n",
    "local controls nclt18 age age2 educ logwr\n",
    "\n",
    "// illustrating a foreach loop\n",
    "\n",
    "foreach control of local controls {\n",
    "    display \"`control'\"\n",
    "}"
   ]
  },
  {
   "cell_type": "code",
   "execution_count": null,
   "metadata": {
    "ExecuteTime": {
     "end_time": "2018-01-19T05:12:04.132268Z",
     "start_time": "2018-01-19T05:12:02.717505Z"
    }
   },
   "outputs": [],
   "source": [
    "%%stata \n",
    "\n",
    "// illustrating a foreach loop\n",
    "\n",
    "foreach year of numlist 1980 1985 1995 {\n",
    "    display \"`year'\"\n",
    "}"
   ]
  },
  {
   "cell_type": "code",
   "execution_count": null,
   "metadata": {
    "ExecuteTime": {
     "end_time": "2018-01-19T04:48:17.851752Z",
     "start_time": "2018-01-19T04:48:16.388590Z"
    }
   },
   "outputs": [],
   "source": [
    "%%stata -d labor_df\n",
    "local variables nclt18 age age2 educ logwr\n",
    "\n",
    "// illustrating a while loop\n",
    "\n",
    "local k=1\n",
    "while `k'<=2 {\n",
    "regress inlf `variables' if nclt3==`k'\n",
    "local k=`k'+1\n",
    "}"
   ]
  },
  {
   "cell_type": "code",
   "execution_count": null,
   "metadata": {
    "collapsed": true
   },
   "outputs": [],
   "source": []
  }
 ],
 "metadata": {
  "kernelspec": {
   "display_name": "Python 3",
   "language": "python",
   "name": "python3"
  },
  "language_info": {
   "codemirror_mode": {
    "name": "ipython",
    "version": 3
   },
   "file_extension": ".py",
   "mimetype": "text/x-python",
   "name": "python",
   "nbconvert_exporter": "python",
   "pygments_lexer": "ipython3",
   "version": "3.6.2"
  }
 },
 "nbformat": 4,
 "nbformat_minor": 2
}
