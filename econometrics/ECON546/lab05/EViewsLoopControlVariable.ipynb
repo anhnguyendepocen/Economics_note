{
 "cells": [
  {
   "cell_type": "markdown",
   "metadata": {
    "slideshow": {
     "slide_type": "slide"
    }
   },
   "source": [
    "## [Control Variables](http://www.eviews.com/help/helpintro.html#page/content%2Fcprogram-Program_Variables.html%23ww332)\n",
    "\n",
    "You need not declare control variables, but you must assign them values before use. Control variable values are assigned in the usual way, with the control variable name on the left of an “=” sign and a numerical value or expression on the right. For example:\n",
    "```\n",
    "!x = 7\n",
    "!12345 = 0\n",
    "!counter = 12\n",
    "!pi = 3.14159\n",
    "```"
   ]
  },
  {
   "cell_type": "markdown",
   "metadata": {
    "slideshow": {
     "slide_type": "subslide"
    }
   },
   "source": [
    "Once assigned a value, a control variable may appear in an expression. For example:\n",
    "```\n",
    "!counter = !counter + 1\n",
    "genr dnorm = 1/sqr(2*!pi)*exp(-1/2*epsilon^2)\n",
    "scalar stdx = x/sqr(!varx)\n",
    "smpl 1950q1+!i 1960q4+!i\n",
    "```"
   ]
  },
  {
   "cell_type": "markdown",
   "metadata": {
    "slideshow": {
     "slide_type": "slide"
    }
   },
   "source": [
    "## [IF Statements](http://www.eviews.com/help/helpintro.html#page/content%2Fcprogram-Control_of_Execution.html%23ww698)\n",
    "\n",
    "\n",
    "```EViews\n",
    "if !stand=1 or (!rescale=1 and !redo=1) then\n",
    "series gnpstd = gnp/sqr(gvar)\n",
    "series constd = cons/sqr(cvar)\n",
    "endif\n",
    "\n",
    "if !a>5 and !a<10 then\n",
    "smpl 1950q1 1970q1+!a\n",
    "endif\n",
    "```"
   ]
  },
  {
   "cell_type": "markdown",
   "metadata": {
    "slideshow": {
     "slide_type": "slide"
    }
   },
   "source": [
    "## Control variables to form replacement variables\n",
    "\n",
    "However, control variables may also be used to form replacement variables. For example, the commands\n",
    "```\n",
    "!i = 1\n",
    "series y{!i} = nrnd\n",
    "!j = 0\n",
    "series y{!j}{!i} = nrnd\n",
    "```\n",
    "are equivalent to\n",
    "```\n",
    "series y1 = nrnd\n",
    "series y01 = nrnd\n",
    "```\n",
    "and will create two series Y1 and Y01 that contain a set of (pseudo-)random draws from a standard normal distribution."
   ]
  },
  {
   "cell_type": "markdown",
   "metadata": {
    "slideshow": {
     "slide_type": "slide"
    }
   },
   "source": [
    "## [The FOR Loop](http://www.eviews.com/help/helpintro.html#page/content%2Fcprogram-Control_of_Execution.html%23ww830)\n",
    "\n",
    "\n",
    "```EViews\n",
    "for !j=10 to 1 step -1\n",
    "series rescale{!j}=original/!j\n",
    "next\n",
    "\n",
    "for !horizon=10 to 72\n",
    "smpl 1970m1 1970m1+!horizon\n",
    "equation eq{!horizon}.ls sales c orders\n",
    "next\n",
    "```"
   ]
  },
  {
   "cell_type": "markdown",
   "metadata": {},
   "source": [
    "## [The WHILE Loop](http://www.eviews.com/help/helpintro.html#page/content%2Fcprogram-Control_of_Execution.html%23ww189041)\n",
    "\n",
    "\n",
    "The WHILE loop begins with a while statement and ends with a wend statement. Any number of commands may appear between the two statements. WHILE loops can be nested.\n",
    "\n",
    "The WHILE statement consists of the while keyword followed by an expression involving a control variable or scalar object. The expression should have a logical (true/false) value or a numerical value. In the latter case, zero is considered false and any non-zero value is considered true.\n",
    "\n",
    "If the expression is true, the subsequent statements, up to the matching wend, will be executed, and then the procedure is repeated. If the condition is false, EViews will skip the following commands and continue on with the rest of the program following the wend statement. For example:\n",
    "\n",
    "```EViews\n",
    "\n",
    "!val = 1\n",
    "!a = 1\n",
    "while !val<10000 and !a<10\n",
    "smpl 1950q1 1970q1+!a\n",
    "series inc{!val} = income/!val\n",
    "!val = !val*10\n",
    "!a = !a+1\n",
    "wend\n",
    "```"
   ]
  },
  {
   "cell_type": "markdown",
   "metadata": {
    "slideshow": {
     "slide_type": "slide"
    }
   },
   "source": [
    "## [String Variables](http://www.eviews.com/help/helpintro.html#page/content%2Fcprogram-Program_Variables.html%23ww131590)\n",
    "\n",
    "String variables are assigned by putting the string variable name on the left of an “=” sign and a string expression on the right. For example, the following lines assign values to string variables:\n",
    "```\n",
    "%value = \"value in millions of u.s. dollars\"\n",
    "%armas = \"ar(1) ar(2) ma(1) ma(2)\"\n",
    "%mysample = \" 83m1 96m12\"\n",
    "%dep = \" hs\"\n",
    "%pi = \" 3.14159\"\n",
    "```"
   ]
  },
  {
   "cell_type": "markdown",
   "metadata": {
    "slideshow": {
     "slide_type": "subslide"
    }
   },
   "source": [
    "Here is a simple example where we use string operations to concatenate the contents of three string variables.\n",
    "```\n",
    "!repeat = 500\n",
    "%st1 = \" draws from the normal\"\n",
    "%st2 = \"Cauchy \"\n",
    "%st3 = @str(!repeat) + @left(%st1,16) + %st2 + \"distribution\"\n",
    "```\n",
    "In this example %ST3 is set to the value “500 draws from the Cauchy distribution”."
   ]
  },
  {
   "cell_type": "markdown",
   "metadata": {
    "slideshow": {
     "slide_type": "slide"
    }
   },
   "source": [
    "## FOR Loops with String Variables and String Objects\n",
    "\n",
    "\n",
    "To repeat statements for different values of a string variable, you may use the FOR loop to let a string variable range over a list of string values. You should list the FOR keyword, followed by the name of the string program variable, followed by the list of values. For example,\n",
    "```\n",
    "for %y gdp gnp ndp nnp\n",
    "equation {%y}trend.ls {%y} c {%y}(-1) time\n",
    "next\n",
    "```\n",
    "executes the commands\n",
    "```\n",
    "equation gdptrend.ls gdp c gdp(-1) time\n",
    "equation gnptrend.ls gnp c gnp(-1) time\n",
    "equation ndptrend.ls ndp c ndp(-1) time\n",
    "equation nnptrend.ls nnp c nnp(-1) time\n",
    "```"
   ]
  },
  {
   "cell_type": "markdown",
   "metadata": {
    "slideshow": {
     "slide_type": "slide"
    }
   },
   "source": [
    "## [Replacement Variables](http://www.eviews.com/help/helpintro.html#page/content%2Fcprogram-Program_Variables.html%23ww41251)\n",
    "\n",
    "When working with EViews commands, you may wish to use a string variable, not simply to refer to a string value, but as an indirect way of referring to something else, perhaps a command, or an object name, or portion of names for one or more items.\n",
    "```\n",
    "%x = \"gdp\"\n",
    "```"
   ]
  },
  {
   "cell_type": "markdown",
   "metadata": {
    "slideshow": {
     "slide_type": "subslide"
    }
   },
   "source": [
    "we would like to replace the string value with the name of an object. With the replacement variable **“{%X}”**, the command\n",
    "```\n",
    "equation eq1.ls {%x} c {%x}(-1)\n",
    "```\n",
    "would be interpreted by EViews as\n",
    "```\n",
    "equation eq1.ls gdp c gdp(-1)\n",
    "```"
   ]
  },
  {
   "cell_type": "markdown",
   "metadata": {
    "slideshow": {
     "slide_type": "slide"
    }
   },
   "source": [
    "To take another example, when trying to find the number of valid (non-missing) observations in a series named INCOME, you may use the @obs function along with the name of the series:\n",
    "```\n",
    "@obs(income)\n",
    "```\n",
    "If you wish to use a string variable %VAR to refer to the INCOME series, you must use the replacement variable in the @obs function, as in\n",
    "```\n",
    "%var = \"income\"\n",
    "@obs({%var})\n",
    "```\n",
    "since you wish to refer indirectly to the object named in %VAR. Note that the expression\n",
    "```\n",
    "@obs(%var)\n",
    "```\n",
    "will return an error since @obs requires a series or matrix object name as an argument."
   ]
  },
  {
   "cell_type": "code",
   "execution_count": null,
   "metadata": {
    "collapsed": true,
    "slideshow": {
     "slide_type": "slide"
    }
   },
   "outputs": [],
   "source": []
  }
 ],
 "metadata": {
  "celltoolbar": "Slideshow",
  "kernelspec": {
   "display_name": "Python 3",
   "language": "python",
   "name": "python3"
  },
  "language_info": {
   "codemirror_mode": {
    "name": "ipython",
    "version": 3
   },
   "file_extension": ".py",
   "mimetype": "text/x-python",
   "name": "python",
   "nbconvert_exporter": "python",
   "pygments_lexer": "ipython3",
   "version": "3.6.2"
  }
 },
 "nbformat": 4,
 "nbformat_minor": 2
}
