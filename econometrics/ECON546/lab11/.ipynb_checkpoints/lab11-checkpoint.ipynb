{
 "cells": [
  {
   "cell_type": "markdown",
   "metadata": {},
   "source": [
    "# Wald + Score and Likelihood Ratio test statistics"
   ]
  },
  {
   "cell_type": "markdown",
   "metadata": {},
   "source": [
    "\n",
    "## Likelihood ratio test - introduction\n",
    "\n",
    "https://www.youtube.com/watch?v=Tn5y2i_MqQ8\n",
    "    \n",
    "\n",
    "## Wald Test - introduction\n",
    "\n",
    "https://www.youtube.com/watch?v=TFKbyXAfr1M\n",
    "\n",
    "## Score test (Lagrange Multiplier test) - introduction\n",
    "\n",
    "https://www.youtube.com/watch?v=Ck7EChMRQ9o"
   ]
  },
  {
   "cell_type": "markdown",
   "metadata": {},
   "source": [
    "## Poisson distributions \n",
    "\n",
    "a discrete probability distribution that expresses the probability of a given number of events occurring in a fixed interval of time or space if these events occur with a known constant rate and independently of the time since the last event\n",
    "\n",
    "\n",
    "- For instance, an individual keeping track of the amount of mail they receive each day may notice that they receive an average number of 4 letters per day. \n",
    "\n",
    "- If receiving any particular piece of mail does not affect the arrival times of future pieces of mail, i.e., if pieces of mail from a wide range of sources arrive independently of one another, then a reasonable assumption is that the number of pieces of mail received in a day obeys a Poisson distribution\n",
    "\n",
    "\n",
    "- Other examples that may follow a Poisson include the number of phone calls received by a call center per hour and the number of decay events per second from a radioactive source.\n"
   ]
  },
  {
   "cell_type": "code",
   "execution_count": null,
   "metadata": {
    "collapsed": true
   },
   "outputs": [],
   "source": []
  },
  {
   "cell_type": "code",
   "execution_count": null,
   "metadata": {
    "collapsed": true
   },
   "outputs": [],
   "source": []
  },
  {
   "cell_type": "markdown",
   "metadata": {},
   "source": [
    "## Spool Objects\n",
    "\n",
    "\n",
    "EViews offers a spool object that is capable of holding multiple tables, graphs, text, and spools, allowing you to form collections of output objects. You may find spools to be useful for organizing results, for example, for creating a log of the results for a project or an EViews session, or perhaps for gathering output for a presentation.\n",
    "\n",
    "\n",
    "In addition to being an output object container, spool objects provide easy-to-use tools for working with the objects in the spool. Among other things, you may manage (add, delete, extract, rearrange, hide) or customize (resize, space and indent, title and comment, and edit) the spool and the individual objects in a spool.\n",
    "\n",
    "\n",
    "\n",
    "### Creating A Spool\n",
    "To create a spool object in a workfile, you may select `Object\\New Object\\Spool` from the workfile menu, optionally enter a name in the Name for object edit field, and click on OK. Alternately, you may simply enter the declaration command spool followed by an optional name in the command window, then press ENTER.\n",
    "\n",
    "![](http://www.eviews.com/help/content/images/spools.024.2.1.jpg)\n",
    "\n",
    "\n",
    "\n",
    "\n",
    "\n",
    "http://www.eviews.com/help/helpintro.html#page/content%2Fspools-Managing_the_Spool.html\n",
    "\n",
    "\n",
    "### Adding Objects\n",
    "You may add an output object to a spool using any of the three primary methods: \n",
    "\n",
    "- printing to the spool, \n",
    "\n",
    "- copy-and-pasting objects, \n",
    "\n",
    "- using the spool append procedure.\n",
    "\n",
    "\n",
    "### Spool Declaration\n",
    "\n",
    "\n",
    "\n",
    "`spool`\n",
    "\n",
    "create spool object.\n",
    "\n",
    "To declare a spool object, use the keyword spool, followed by the object name:\n",
    "\n",
    "`spool myspool`\n",
    "\n",
    "In addition, you may create a new spool by redirecting print jobs to the spool\n",
    "\n",
    "\n",
    "`output(s) mynewspool\n",
    "tab1.print`\n",
    "\n",
    "\n",
    "http://www.eviews.com/help/helpintro.html#page/content%2Fspools-Creating_a_Spool.html"
   ]
  },
  {
   "cell_type": "code",
   "execution_count": null,
   "metadata": {
    "collapsed": true
   },
   "outputs": [],
   "source": []
  },
  {
   "cell_type": "markdown",
   "metadata": {},
   "source": [
    "## The Log Likelihood (LogL) Object\n",
    "\n",
    "EViews provides you with tools to estimate a wide variety of specifications through the log likelihood (logl) object. The logl object provides you with a general, open-ended tool for estimating a broad class of specifications by maximizing a likelihood function with respect to parameters.\n",
    "\n",
    "\n",
    "To create a likelihood object, choose `Object/New Object…/LogL` or type the keyword logl in the command window. The likelihood window will open with a blank specification view. The specification view is a text window into which you enter a list of statements which describe your statistical model, and in which you set options which control various aspects of the estimation procedure.\n",
    "\n",
    "\n",
    "\n",
    "\n",
    "\n",
    "http://www.eviews.com/help/helpintro.html#page/content/loglike-The_Log_Likelihood_(LogL)_Object.html"
   ]
  },
  {
   "cell_type": "code",
   "execution_count": null,
   "metadata": {
    "collapsed": true
   },
   "outputs": [],
   "source": []
  },
  {
   "cell_type": "code",
   "execution_count": null,
   "metadata": {
    "collapsed": true
   },
   "outputs": [],
   "source": []
  }
 ],
 "metadata": {
  "kernelspec": {
   "display_name": "Python 3",
   "language": "python",
   "name": "python3"
  },
  "language_info": {
   "codemirror_mode": {
    "name": "ipython",
    "version": 3
   },
   "file_extension": ".py",
   "mimetype": "text/x-python",
   "name": "python",
   "nbconvert_exporter": "python",
   "pygments_lexer": "ipython3",
   "version": "3.6.2"
  }
 },
 "nbformat": 4,
 "nbformat_minor": 2
}
