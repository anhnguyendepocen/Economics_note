{
 "cells": [
  {
   "cell_type": "markdown",
   "metadata": {},
   "source": [
    "#  Stata\n",
    "\n",
    "You probably already know about a general way to refer to the previous observation in Stata, using the subscript `_n − 1`. \n",
    "\n",
    "`_n` stands in general for the current observation number, and so `_n − 1` for the one before, and the number of observations is `_N` . We will want to replace the values of record in observations 2 onward, so we can pencil that in. One way is\n",
    "\n",
    "        . replace record = ... in 2/l \n",
    "        \n",
    "where `2/l` signals observations from 2 until the last (l for last). If we had indeed previously written\n",
    "\n",
    "        . generate record = y[1] in 1 \n",
    "\n",
    "\n",
    "\n",
    "\n",
    "ref :https://www.stata.com/support/faqs/data-management/maximum-and-minimum-of-sequence/"
   ]
  },
  {
   "cell_type": "code",
   "execution_count": null,
   "metadata": {
    "collapsed": true
   },
   "outputs": [],
   "source": []
  }
 ],
 "metadata": {
  "kernelspec": {
   "display_name": "Python 3",
   "language": "python",
   "name": "python3"
  },
  "language_info": {
   "codemirror_mode": {
    "name": "ipython",
    "version": 3
   },
   "file_extension": ".py",
   "mimetype": "text/x-python",
   "name": "python",
   "nbconvert_exporter": "python",
   "pygments_lexer": "ipython3",
   "version": "3.6.2"
  }
 },
 "nbformat": 4,
 "nbformat_minor": 2
}
