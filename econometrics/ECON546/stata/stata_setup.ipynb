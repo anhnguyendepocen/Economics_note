{
 "cells": [
  {
   "cell_type": "code",
   "execution_count": 1,
   "metadata": {
    "ExecuteTime": {
     "end_time": "2018-01-05T23:20:58.784156Z",
     "start_time": "2018-01-05T23:20:55.859882Z"
    }
   },
   "outputs": [
    {
     "name": "stdout",
     "output_type": "stream",
     "text": [
      "Collecting git+https://github.com/jrfiedler/stata-kernel\n",
      "  Cloning https://github.com/jrfiedler/stata-kernel to c:\\users\\oldyu\\appdata\\local\\temp\\pip-psl7aexq-build\n",
      "Installing collected packages: Stata-kernel\n",
      "  Running setup.py install for Stata-kernel: started\n",
      "    Running setup.py install for Stata-kernel: finished with status 'done'\n",
      "Successfully installed Stata-kernel-0.1\n",
      "Installing IPython kernel spec\n"
     ]
    },
    {
     "name": "stderr",
     "output_type": "stream",
     "text": [
      "C:\\Users\\oldyu\\Miniconda3\\envs\\tensorflow-gpu\\lib\\site-packages\\IPython\\kernel\\__init__.py:13: ShimWarning: The `IPython.kernel` package has been deprecated since IPython 4.0.You should import from ipykernel or jupyter_client instead.\n",
      "  \"You should import from ipykernel or jupyter_client instead.\", ShimWarning)\n"
     ]
    }
   ],
   "source": [
    "# Install a pip package in the current Jupyter kernel\n",
    "# import sys\n",
    "# !{sys.executable} -m pip install git+https://github.com/jrfiedler/stata-kernel\n",
    "# !{sys.executable} -m stata_kernel.install\n",
    "# https://github.com/jrfiedler/stata-kernel/blob/master/example.ipynb"
   ]
  },
  {
   "cell_type": "code",
   "execution_count": null,
   "metadata": {},
   "outputs": [],
   "source": [
    "# import sys\n",
    "# #!conda install --yes --prefix {sys.prefix} pywin32 psutil \n",
    "# !conda install --yes --prefix {sys.prefix} -c damianavila82 rise"
   ]
  },
  {
   "cell_type": "code",
   "execution_count": 2,
   "metadata": {
    "ExecuteTime": {
     "end_time": "2018-01-26T06:10:51.375010Z",
     "start_time": "2018-01-26T06:10:51.267701Z"
    }
   },
   "outputs": [
    {
     "name": "stdout",
     "output_type": "stream",
     "text": [
      ". clear\n",
      "\n",
      ". set obs 1000\n",
      "number of observations (_N) was 0, now 1,000\n",
      "\n",
      ". gen n = _n\n",
      "\n"
     ]
    }
   ],
   "source": [
    "clear\n",
    "set obs 1000\n",
    "gen n = _n"
   ]
  },
  {
   "cell_type": "code",
   "execution_count": 3,
   "metadata": {
    "ExecuteTime": {
     "end_time": "2018-01-26T06:15:48.216688Z",
     "start_time": "2018-01-26T06:15:48.157531Z"
    }
   },
   "outputs": [
    {
     "name": "stdout",
     "output_type": "stream",
     "text": [
      ". /// pdf\n",
      "/ is not a valid command name\n",
      "r(199);\n",
      "\n",
      ". gen x = uniform()*(5-0)\n",
      "\n",
      ". scalar lamb = 0.5\n",
      "\n",
      ". gen pdf1 = lamb* exp(-lamb*x)\n",
      "\n",
      ". gen pdf11 = lamb * exp(-lamb*n)\n",
      "\n"
     ]
    }
   ],
   "source": [
    "*/// pdf\n",
    "gen x = uniform()*(5-0)\n",
    "scalar lamb = 0.5\n",
    "gen pdf1 = lamb* exp(-lamb*x)\n",
    "gen pdf11 = lamb * exp(-lamb*n)\n",
    "gen diff = pdf1-pdf11\n"
   ]
  },
  {
   "cell_type": "code",
   "execution_count": 4,
   "metadata": {
    "ExecuteTime": {
     "end_time": "2018-01-26T06:19:01.451457Z",
     "start_time": "2018-01-26T06:18:58.656750Z"
    }
   },
   "outputs": [
    {
     "name": "stdout",
     "output_type": "stream",
     "text": [
      ". scatter pdf11 n\n",
      "\n"
     ]
    }
   ],
   "source": [
    "scatter pdf11 n"
   ]
  },
  {
   "cell_type": "code",
   "execution_count": 1,
   "metadata": {
    "ExecuteTime": {
     "end_time": "2018-01-26T06:10:12.698201Z",
     "start_time": "2018-01-26T06:10:12.629017Z"
    }
   },
   "outputs": [
    {
     "name": "stdout",
     "output_type": "stream",
     "text": [
      ". sysuse auto\n",
      "(1978 Automobile Data)\n",
      "\n"
     ]
    }
   ],
   "source": [
    "sysuse auto"
   ]
  },
  {
   "cell_type": "code",
   "execution_count": null,
   "metadata": {},
   "outputs": [],
   "source": []
  },
  {
   "cell_type": "code",
   "execution_count": 4,
   "metadata": {
    "ExecuteTime": {
     "end_time": "2018-01-05T23:25:07.295043Z",
     "start_time": "2018-01-05T23:25:06.987058Z"
    }
   },
   "outputs": [
    {
     "name": "stdout",
     "output_type": "stream",
     "text": [
      ". forv i=1(1)1e5 {\n",
      "  2.     if mod(`i', 1e5) == 0 {\n",
      "  3.         di %7.0f `i'\n",
      "  4.     }\n",
      "  5. }\n",
      " 100000\n",
      "\n"
     ]
    }
   ],
   "source": [
    "forv i=1(1)1e5 {\n",
    "    if mod(`i', 1e5) == 0 {\n",
    "        di %7.0f `i'\n",
    "    }\n",
    "}"
   ]
  },
  {
   "cell_type": "code",
   "execution_count": 5,
   "metadata": {
    "ExecuteTime": {
     "end_time": "2018-01-05T23:25:09.095986Z",
     "start_time": "2018-01-05T23:25:09.042844Z"
    }
   },
   "outputs": [
    {
     "name": "stdout",
     "output_type": "stream",
     "text": [
      ". summ  weight mpg\n",
      "\n",
      "    Variable |        Obs        Mean    Std. Dev.       Min        Max\n",
      "-------------+---------------------------------------------------------\n",
      "      weight |         74    3019.459    777.1936       1760       4840\n",
      "         mpg |         74     21.2973    5.785503         12         41\n",
      "\n"
     ]
    }
   ],
   "source": [
    "summ \\\\\\\n",
    " weight mpg "
   ]
  },
  {
   "cell_type": "code",
   "execution_count": 6,
   "metadata": {
    "ExecuteTime": {
     "end_time": "2018-01-05T23:25:45.819052Z",
     "start_time": "2018-01-05T23:25:45.764908Z"
    }
   },
   "outputs": [
    {
     "name": "stdout",
     "output_type": "stream",
     "text": [
      ". summ\n",
      "\n",
      "    Variable |        Obs        Mean    Std. Dev.       Min        Max\n",
      "-------------+---------------------------------------------------------\n",
      "        make |          0\n",
      "       price |         74    6165.257    2949.496       3291      15906\n",
      "         mpg |         74     21.2973    5.785503         12         41\n",
      "       rep78 |         69    3.405797    .9899323          1          5\n",
      "    headroom |         74    2.993243    .8459948        1.5          5\n",
      "-------------+---------------------------------------------------------\n",
      "       trunk |         74    13.75676    4.277404          5         23\n",
      "      weight |         74    3019.459    777.1936       1760       4840\n",
      "      length |         74    187.9324    22.26634        142        233\n",
      "        turn |         74    39.64865    4.399354         31         51\n",
      "displacement |         74    197.2973    91.83722         79        425\n",
      "-------------+---------------------------------------------------------\n",
      "  gear_ratio |         74    3.014865    .4562871       2.19       3.89\n",
      "     foreign |         74    .2972973    .4601885          0          1\n",
      "\n"
     ]
    }
   ],
   "source": [
    "\n",
    "summ"
   ]
  },
  {
   "cell_type": "code",
   "execution_count": 7,
   "metadata": {
    "ExecuteTime": {
     "end_time": "2018-01-05T23:25:53.111339Z",
     "start_time": "2018-01-05T23:25:53.056194Z"
    }
   },
   "outputs": [
    {
     "name": "stdout",
     "output_type": "stream",
     "text": [
      ". mata\n",
      "------------------------------------------------- mata (type end to exit) ------\n",
      ": for (i=1; i<10; i++) {\n",
      ">     i\n",
      "> }\n",
      "  1\n",
      "  2\n",
      "  3\n",
      "  4\n",
      "  5\n",
      "  6\n",
      "  7\n",
      "  8\n",
      "  9\n",
      "\n",
      ": end\n",
      "--------------------------------------------------------------------------------\n",
      "\n"
     ]
    }
   ],
   "source": [
    "%%mata\n",
    "\n",
    "for (i=1; i<10; i++) {\n",
    "    i\n",
    "}"
   ]
  },
  {
   "cell_type": "code",
   "execution_count": null,
   "metadata": {},
   "outputs": [],
   "source": []
  }
 ],
 "metadata": {
  "kernelspec": {
   "display_name": "Stata",
   "language": "stata",
   "name": "stata"
  },
  "language_info": {
   "file_extension": "do",
   "mimetype": "text/x-stata",
   "name": "stata"
  }
 },
 "nbformat": 4,
 "nbformat_minor": 2
}
