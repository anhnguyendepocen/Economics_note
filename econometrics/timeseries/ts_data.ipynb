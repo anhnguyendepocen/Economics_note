{
 "cells": [
  {
   "cell_type": "code",
   "execution_count": 1,
   "metadata": {
    "collapsed": false
   },
   "outputs": [
    {
     "name": "stderr",
     "output_type": "stream",
     "text": [
      "Loading required package: pdfetch\n",
      "No encoding supplied: defaulting to UTF-8.\n"
     ]
    },
    {
     "ename": "ERROR",
     "evalue": "Error: `col_names` must be TRUE, FALSE or a character vector\n",
     "output_type": "error",
     "traceback": [
      "Error: `col_names` must be TRUE, FALSE or a character vector\n"
     ]
    },
    {
     "ename": "ERROR",
     "evalue": "Error in diff(log(sp)): 找不到对象'sp'\n",
     "output_type": "error",
     "traceback": [
      "Error in diff(log(sp)): 找不到对象'sp'\n"
     ]
    },
    {
     "ename": "ERROR",
     "evalue": "Error in eval(expr, envir, enclos): 找不到对象'sp'\n",
     "output_type": "error",
     "traceback": [
      "Error in eval(expr, envir, enclos): 找不到对象'sp'\n"
     ]
    }
   ],
   "source": [
    "## ----s-and-p-stock-example-----------------------------------------------\n",
    "require(pdfetch)\n",
    "sp <- pdfetch_YAHOO(\"SPY\", fields=\"adjclose\",\n",
    "  from=as.Date(\"1993-02-09\"), to=as.Date(\"2015-02-09\"))\n",
    "sp <- diff(log(sp))\n",
    "# need to drop the initial NA which makes difficulties later\n",
    "sp <- sp[-1]\n",
    "\n"
   ]
  },
  {
   "cell_type": "code",
   "execution_count": null,
   "metadata": {
    "collapsed": true
   },
   "outputs": [],
   "source": [
    "#http://rstudio-pubs-static.s3.amazonaws.com/24858_1f006c3965614b0099c963913100e9f0.html"
   ]
  },
  {
   "cell_type": "markdown",
   "metadata": {},
   "source": [
    "FRED provides both metadata and time series data for all of its economic data. We can get the metadata in this way.\n",
    "\n"
   ]
  },
  {
   "cell_type": "code",
   "execution_count": null,
   "metadata": {
    "collapsed": true
   },
   "outputs": [],
   "source": []
  },
  {
   "cell_type": "code",
   "execution_count": null,
   "metadata": {
    "collapsed": true
   },
   "outputs": [],
   "source": [
    "install.packages()"
   ]
  },
  {
   "cell_type": "code",
   "execution_count": 2,
   "metadata": {
    "collapsed": false
   },
   "outputs": [
    {
     "name": "stderr",
     "output_type": "stream",
     "text": [
      "Warning message:\n",
      "In download.file(url = URL, destfile = tmp): downloaded length 14336 != reported length 200Loading required package: gdata\n",
      "Warning message:\n",
      "In library(package, lib.loc = lib.loc, character.only = TRUE, logical.return = TRUE, : there is no package called 'gdata'"
     ]
    },
    {
     "ename": "ERROR",
     "evalue": "Error in eval(expr, envir, enclos): 没有\"read.xls\"这个函数\n",
     "output_type": "error",
     "traceback": [
      "Error in eval(expr, envir, enclos): 没有\"read.xls\"这个函数\n"
     ]
    },
    {
     "name": "stderr",
     "output_type": "stream",
     "text": [
      "Loading required package: xtable\n",
      "Warning message:\n",
      "In library(package, lib.loc = lib.loc, character.only = TRUE, logical.return = TRUE, : there is no package called 'xtable'"
     ]
    },
    {
     "ename": "ERROR",
     "evalue": "Error in print(xtable(gdpmetadata, caption = \"Table 3: FRED metadata for GDPC96\", : 没有\"xtable\"这个函数\n",
     "output_type": "error",
     "traceback": [
      "Error in print(xtable(gdpmetadata, caption = \"Table 3: FRED metadata for GDPC96\", : 没有\"xtable\"这个函数\n"
     ]
    }
   ],
   "source": [
    "base <- 'http://research.stlouisfed.org/fred2/series/'\n",
    "seriesID <- 'GDPC96'\n",
    "URL <- paste0(base, seriesID, '/downloaddata/', seriesID, '.xls')\n",
    "tmp <- tempfile()\n",
    "download.file(url = URL, destfile = tmp)\n",
    "require('gdata')\n",
    "gdpmetadata <- read.xls(tmp, nrows = 11, header = FALSE)\n",
    "unlink(tmp)\n",
    "require('xtable')\n",
    "print(xtable(gdpmetadata, caption = 'Table 3: FRED metadata for GDPC96', \n",
    "             align = rep('l', 3)), \n",
    "      type = 'html', caption.placement = 'top', include.rownames = FALSE,\n",
    "      include.colnames = FALSE)"
   ]
  },
  {
   "cell_type": "code",
   "execution_count": null,
   "metadata": {
    "collapsed": true
   },
   "outputs": [],
   "source": []
  },
  {
   "cell_type": "code",
   "execution_count": null,
   "metadata": {
    "collapsed": true
   },
   "outputs": [],
   "source": [
    "## ----our-first-spline, warning=FALSE-------------------------------------\n",
    "sp.today <- head(sp,-1)\n",
    "sp.tomorrow <- tail(sp,-1)\n",
    "coefficients(lm(sp.tomorrow ~ sp.today))\n",
    "sp.spline <- smooth.spline(x=sp.today,y=sp.tomorrow,cv=TRUE)\n",
    "sp.spline\n",
    "sp.spline$lambda\n",
    "\n",
    "## ----some-spline-fits, echo=FALSE, warning=FALSE-------------------------\n",
    "plot(as.vector(sp.today),as.vector(sp.tomorrow),xlab=\"Today's log-return\",\n",
    "     ylab=\"Tomorrow's log-return\",pch=16,cex=0.5,col=\"grey\")\n",
    "abline(lm(sp.tomorrow ~ sp.today),col=\"darkgrey\")\n",
    "sp.spline <- smooth.spline(x=sp.today,y=sp.tomorrow,cv=TRUE)\n",
    "lines(sp.spline)\n",
    "lines(smooth.spline(sp.today,sp.tomorrow,spar=1.5),col=\"blue\")\n",
    "lines(smooth.spline(sp.today,sp.tomorrow,spar=2),col=\"blue\",lty=2)\n",
    "lines(smooth.spline(sp.today,sp.tomorrow,spar=1.1),col=\"red\")\n",
    "lines(smooth.spline(sp.today,sp.tomorrow,spar=0.5),col=\"red\",lty=2)\n",
    "\n",
    "## ----first-example-of-predict.smooth.spline------------------------------\n",
    "predict(sp.spline,x=0.01)\n",
    "\n",
    "## ----resampling-the-data-frame-------------------------------------------\n",
    "# Bundle the two variables into a data frame\n",
    "sp.frame <- data.frame(today=sp.today,tomorrow=sp.tomorrow)\n",
    "\n",
    "# Resample rows from the S&P data frame\n",
    "# Inputs: none\n",
    "# Output: new data frame of same size as real data\n",
    "# Presumes: sp.frame exists (and is a data frame)\n",
    "# Exercise: Re-write the bootstrap demo which follows using the functions\n",
    "  # from the bootstrap chapter\n",
    "sp.resampler <- function() {\n",
    "  n <- nrow(sp.frame)\n",
    "  resample.rows <- sample(1:n,size=n,replace=TRUE)\n",
    "  return(sp.frame[resample.rows,])\n",
    "}\n",
    "\n",
    "## ----sp.spline.estimator-------------------------------------------------\n",
    "# Set up a grid of evenly-spaced points on which to evaluate the spline\n",
    "grid.300 <- seq(from=min(sp.today),to=max(sp.today),length.out=300)\n",
    "\n",
    "# Estimate a spline from data and return its predictions on a fixed grid\n",
    "# Inputs: data frame (data)\n",
    "  # one-dimensional vector of points at which to evaluate spline (eval.grid)\n",
    "# Output: vector of predictions\n",
    "# Presumes: first two columns of data contain predictor and response variables\n",
    "sp.spline.estimator <- function(data, eval.grid=grid.300) {\n",
    "  # Fit spline to data, with cross-validation to pick lambda\n",
    "  fit <- smooth.spline(x=data[,1],y=data[,2],cv=TRUE)\n",
    "  # Do the prediction on the grid and return the predicted values\n",
    "  return(predict(fit,x=eval.grid)$y)  # We only want the predicted values\n",
    "}\n",
    "\n",
    "## ----sp.spline.cis-------------------------------------------------------\n",
    "# Find confidence bands for a spline by row resampling\n",
    "# Inputs: number of bootstrap replicates (B)\n",
    "  # error probability / 1-confidence level (alpha)\n",
    "  # grid of points on which to evaluate spline (eval.grid)\n",
    "# Output: list containing a vector giving values of the spline curve\n",
    "  # fit to all data along the grid (main.curve), vector of lower\n",
    "  # limits (lower.ci), vector of upper limits (upper.ci), the actual grid of\n",
    "  # points used for evaluation (x)\n",
    "# Presumes: sp.frame exists and has the right values\n",
    "sp.spline.cis <- function(B, alpha, eval.grid=grid.300) {\n",
    "  spline.main <- sp.spline.estimator(sp.frame, eval.grid=eval.grid)\n",
    "  # Draw B boottrap samples, fit the spline to each\n",
    "    # Result has length(eval.grid) rows and B columns\n",
    "  spline.boots <- replicate(B,\n",
    "    sp.spline.estimator(sp.resampler(), eval.grid=eval.grid))\n",
    "  # See the bootstrap chapter for the following centering trick, which\n",
    "    # improves the accuracy of bootstrap confidence limits\n",
    "  cis.lower <- 2*spline.main - apply(spline.boots, 1, quantile, probs=1-alpha/2)\n",
    "  cis.upper <- 2*spline.main - apply(spline.boots, 1, quantile, probs=alpha/2)\n",
    "  # Bundle everything up and return\n",
    "  return(list(main.curve=spline.main,lower.ci=cis.lower,upper.ci=cis.upper,\n",
    "    x=eval.grid))\n",
    "}\n",
    "\n",
    "## ----spline-cis, echo=FALSE, warning=FALSE-------------------------------\n",
    "sp.cis <- sp.spline.cis(B=1000,alpha=0.05)\n",
    "plot(as.vector(sp.today),as.vector(sp.tomorrow),xlab=\"Today's log-return\",\n",
    "  ylab=\"Tomorrow's log-return\",pch=16,cex=0.5,col=\"grey\")\n",
    "abline(lm(sp.tomorrow ~ sp.today),col=\"darkgrey\")\n",
    "lines(x=sp.cis$x,y=sp.cis$main.curve,lwd=2)\n",
    "lines(x=sp.cis$x,y=sp.cis$lower.ci)\n",
    "lines(x=sp.cis$x,y=sp.cis$upper.ci)"
   ]
  },
  {
   "cell_type": "code",
   "execution_count": null,
   "metadata": {
    "collapsed": true
   },
   "outputs": [],
   "source": []
  },
  {
   "cell_type": "code",
   "execution_count": null,
   "metadata": {
    "collapsed": true
   },
   "outputs": [],
   "source": []
  },
  {
   "cell_type": "code",
   "execution_count": null,
   "metadata": {
    "collapsed": true
   },
   "outputs": [],
   "source": []
  }
 ],
 "metadata": {
  "kernelspec": {
   "display_name": "R",
   "language": "R",
   "name": "ir"
  },
  "language_info": {
   "codemirror_mode": "r",
   "file_extension": ".r",
   "mimetype": "text/x-r-source",
   "name": "R",
   "pygments_lexer": "r",
   "version": "3.2.4"
  }
 },
 "nbformat": 4,
 "nbformat_minor": 0
}
