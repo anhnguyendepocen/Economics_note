{
 "cells": [
  {
   "cell_type": "code",
   "execution_count": null,
   "metadata": {
    "collapsed": true
   },
   "outputs": [],
   "source": []
  },
  {
   "cell_type": "code",
   "execution_count": null,
   "metadata": {
    "collapsed": true
   },
   "outputs": [],
   "source": []
  },
  {
   "cell_type": "code",
   "execution_count": null,
   "metadata": {
    "collapsed": true
   },
   "outputs": [],
   "source": []
  },
  {
   "cell_type": "code",
   "execution_count": null,
   "metadata": {
    "collapsed": true
   },
   "outputs": [],
   "source": []
  },
  {
   "cell_type": "code",
   "execution_count": null,
   "metadata": {
    "collapsed": true
   },
   "outputs": [],
   "source": []
  },
  {
   "cell_type": "code",
   "execution_count": null,
   "metadata": {
    "collapsed": true
   },
   "outputs": [],
   "source": []
  },
  {
   "cell_type": "code",
   "execution_count": null,
   "metadata": {
    "collapsed": true
   },
   "outputs": [],
   "source": []
  },
  {
   "cell_type": "code",
   "execution_count": null,
   "metadata": {
    "collapsed": true
   },
   "outputs": [],
   "source": [
    "R commands used in Lecture 1:\n",
    "\"<==\" denotes explanation of the command.\n",
    "\n",
    "## Install R (or RStudio) on your computer as demonstrated in class ##\n",
    "## doble click on R-icon to start R ##\n",
    "\n",
    "library(quantmod) or require(quantmod)  <=== load the package \"quantmod\"\n",
    "getSymbols(\"AAPL\") <=== get daily Apple stock data from Yahoo Finance\n",
    "dim(AAPL)          <=== find the size of the data downloaded\n",
    "head(AAPL)         <=== show the first 6 rows of data\n",
    "tail(AAPL)         <=== show the last 6 rows of data\n",
    "chartSeries(AAPL)  <=== plot Apple daily closing stock prices with trading volume\n",
    "       <== Daily closing prices do not adjusted for stock split. You can use adjusted closing price.\n",
    "chartSeries(AAPL[,6]) <== Column 6 of the object \"AAPL\" in R.\n",
    "chartSeries(AAPL[,6],theme=\"white\")  <== Same as the previous command, but use \"white\" background for the plot.\n",
    "\n",
    "getSymbols(\"AAPL\",from=\"2005-01-03\",to=\"2013-12-31\")  <== specify the data span\n",
    "getSymbols(\"UNRATE\",src=\"FRED\") <== Load U.S. monthly unemplyment rate from Federal Reserve Bank of St Louis.\n",
    "                     <== src stands for \"source\", FRED stands for Federal Reserve Economic Data.\n",
    "chartSeries(UNRATE) <== plot the U.S. monthly unemployment rate\n",
    "getSymbols(\"DEXUSEU\",src=\"FRED\") <== Load Dollar verus Euro daily exchange rates from FRED.\n",
    "chartSeries(DEXUSEU) <== plot the daily dollar-euro exchange rates.\n",
    "getSymbols(\"^VIX\") <== load daily VIX index\n",
    "getSymbols(\"^TNX\") <== load interest rate\n",
    "\n",
    "setwd(\"C:/Users/rst/teaching/bs41202/sp2016\")  <== set my working directory.\n",
    "### You should use your working directory ###\n",
    "library(fBasics)  <== Load the package \"fBasics\"\n",
    "da=read.table(\"m-ibm6708.txt\",header=T)  <== Load data with header into R\n",
    "    <== header=T means the data file contains \"names\" for each column.\n",
    "    <== use header=F, if the data file contains no column names.\n",
    "dim(da)  <== Check dimension of the data (row = sample size, col = variables)\n",
    "head(da)   <== Print out the first 6 rows of the data object \"da\".\n",
    "tail(da) <== Print out the last 6 rows of the data object \"da\".\n",
    "ibm=da[,2]  or ibm=da$ibm <== Select the simple returns of IBM stock stored in Column 2.\n",
    "\n",
    "plot(ibm,type='l')  <== Plot the simple returns. Note that type is \"ell\" not 1.\n",
    "basicStats(ibm)     <== Compute the descriptive statistics of simple returns.\n",
    "libm=log(ibm+1)  <== Compute the IBM log returns\n",
    "basicStats(libm)  <== Compute descriptive statistics of log returns.\n",
    "\n",
    "t.test(ibm)   <== Perform t-test for mean being zero.\n",
    "t.test(ibm,alternative=c(\"greater\"))  <== Perform one-sided test (Not shown in class)\n",
    "\n",
    "hist(ibm,nclass=40) <== Obtain histogram of IBM simple returns.\n",
    "d1=density(libm)  <== Compute density function of ibm log returns\n",
    "names(d1)   <== Find out the output variables of the command \"density\".\n",
    "plot(d1$x,d1$y,type='l')   <== Plot the sample density of log returns\n",
    "mu=mean(libm); s1 = sd(libm) <== compute the sample mean and standard deviation of IBM log returns.\n",
    "x=seq(-0.4,0.4,0.01) <=== create a sequence of real numbers from -0.4 to 0.4 with increment 0.01.\n",
    "y=dnorm(x,mean=mu,sd=s1) <=== obtain normal density with mean mu and standard deviation s1.\n",
    "lines(x,y,lty=2) <== impose a dashed line on the density plot for comparison with normal density.\n",
    "  <== you can also use different colors in the plot. For example,\n",
    "  lines(x,y,col=\"red\") will plot a red curve.\n",
    "\n",
    "tt <- skewness(libm)/sqrt(6/length(libm))  ## Test H_0: m3 =0 versus H_a: m3 not equal = 0.\n",
    "tt\n",
    "pv <- 2*(1-pnorm(tt))  ### Compute p-value (assuming tt is positive)\n",
    "pv\n",
    "\n",
    "tt <- kurtosis(libm)/sqrt(24/length(libm)) ## Testing excess kurtosis being zero\n",
    "tt\n",
    "\n",
    "normalTest(libm,method=\"jb\")   <== Perform normality test.\n",
    "\n",
    "\n",
    "### Correlation, Kendall's tau and Spearman's rho\n",
    "\n",
    "x = rnorm(1000)  <== Generate 1000 N(0,1) random numbers\n",
    "cor(x,x)\n",
    "\n",
    "cor(x,exp(x))\n",
    "cor(x,exp(x),method=\"kendall\")\n",
    "cor(x,exp(x),method=\"spearman\")\n",
    "\n",
    "cor(x,exp(20*x))\n",
    "cor(x,exp(20*x),method=\"kendall\")\n",
    "cor(x,exp(20*x),method=\"spearman\")\n",
    " \n",
    "\n",
    "\n",
    "\n"
   ]
  },
  {
   "cell_type": "code",
   "execution_count": null,
   "metadata": {
    "collapsed": true
   },
   "outputs": [],
   "source": []
  },
  {
   "cell_type": "code",
   "execution_count": null,
   "metadata": {
    "collapsed": true
   },
   "outputs": [],
   "source": []
  },
  {
   "cell_type": "code",
   "execution_count": null,
   "metadata": {
    "collapsed": true
   },
   "outputs": [],
   "source": []
  },
  {
   "cell_type": "code",
   "execution_count": null,
   "metadata": {
    "collapsed": true
   },
   "outputs": [],
   "source": []
  },
  {
   "cell_type": "code",
   "execution_count": null,
   "metadata": {
    "collapsed": true
   },
   "outputs": [],
   "source": []
  },
  {
   "cell_type": "code",
   "execution_count": null,
   "metadata": {
    "collapsed": true
   },
   "outputs": [],
   "source": []
  },
  {
   "cell_type": "code",
   "execution_count": null,
   "metadata": {
    "collapsed": true
   },
   "outputs": [],
   "source": []
  },
  {
   "cell_type": "code",
   "execution_count": null,
   "metadata": {
    "collapsed": true
   },
   "outputs": [],
   "source": []
  },
  {
   "cell_type": "code",
   "execution_count": null,
   "metadata": {
    "collapsed": true
   },
   "outputs": [],
   "source": []
  },
  {
   "cell_type": "code",
   "execution_count": null,
   "metadata": {
    "collapsed": true
   },
   "outputs": [],
   "source": []
  },
  {
   "cell_type": "code",
   "execution_count": null,
   "metadata": {
    "collapsed": true
   },
   "outputs": [],
   "source": []
  },
  {
   "cell_type": "code",
   "execution_count": null,
   "metadata": {
    "collapsed": true
   },
   "outputs": [],
   "source": []
  },
  {
   "cell_type": "code",
   "execution_count": null,
   "metadata": {
    "collapsed": true
   },
   "outputs": [],
   "source": []
  }
 ],
 "metadata": {
  "kernelspec": {
   "display_name": "R",
   "language": "R",
   "name": "ir"
  },
  "language_info": {
   "codemirror_mode": "r",
   "file_extension": ".r",
   "mimetype": "text/x-r-source",
   "name": "R",
   "pygments_lexer": "r",
   "version": "3.5.0"
  }
 },
 "nbformat": 4,
 "nbformat_minor": 1
}
