{
 "cells": [
  {
   "cell_type": "markdown",
   "metadata": {},
   "source": [
    "# Distributionsm"
   ]
  },
  {
   "cell_type": "markdown",
   "metadata": {},
   "source": [
    "## Data Types\n",
    "\n",
    "### Categorical\n",
    "#### Ordinal\n",
    "### numerical\n",
    "#### continuous\n",
    "#### discrete"
   ]
  },
  {
   "cell_type": "code",
   "execution_count": 3,
   "metadata": {},
   "outputs": [
    {
     "name": "stderr",
     "output_type": "stream",
     "text": [
      "Installing package into ‘/home/econ457uvic/R/x86_64-pc-linux-gnu-library/3.4’\n",
      "(as ‘lib’ is unspecified)\n"
     ]
    }
   ],
   "source": [
    "install.packages(\"dslabs\")"
   ]
  },
  {
   "cell_type": "code",
   "execution_count": 4,
   "metadata": {},
   "outputs": [],
   "source": [
    "library(dslabs)\n",
    "data(heights)"
   ]
  },
  {
   "cell_type": "code",
   "execution_count": 5,
   "metadata": {},
   "outputs": [
    {
     "data": {
      "text/html": [
       "<ol class=list-inline>\n",
       "\t<li>'sex'</li>\n",
       "\t<li>'height'</li>\n",
       "</ol>\n"
      ],
      "text/latex": [
       "\\begin{enumerate*}\n",
       "\\item 'sex'\n",
       "\\item 'height'\n",
       "\\end{enumerate*}\n"
      ],
      "text/markdown": [
       "1. 'sex'\n",
       "2. 'height'\n",
       "\n",
       "\n"
      ],
      "text/plain": [
       "[1] \"sex\"    \"height\""
      ]
     },
     "metadata": {},
     "output_type": "display_data"
    }
   ],
   "source": [
    "names(heights)"
   ]
  },
  {
   "cell_type": "code",
   "execution_count": 7,
   "metadata": {},
   "outputs": [
    {
     "data": {
      "text/html": [
       "<table>\n",
       "<thead><tr><th scope=col>sex</th><th scope=col>height</th></tr></thead>\n",
       "<tbody>\n",
       "\t<tr><td>Male  </td><td>75    </td></tr>\n",
       "\t<tr><td>Male  </td><td>70    </td></tr>\n",
       "\t<tr><td>Male  </td><td>68    </td></tr>\n",
       "\t<tr><td>Male  </td><td>74    </td></tr>\n",
       "\t<tr><td>Male  </td><td>61    </td></tr>\n",
       "\t<tr><td>Female</td><td>65    </td></tr>\n",
       "</tbody>\n",
       "</table>\n"
      ],
      "text/latex": [
       "\\begin{tabular}{r|ll}\n",
       " sex & height\\\\\n",
       "\\hline\n",
       "\t Male   & 75    \\\\\n",
       "\t Male   & 70    \\\\\n",
       "\t Male   & 68    \\\\\n",
       "\t Male   & 74    \\\\\n",
       "\t Male   & 61    \\\\\n",
       "\t Female & 65    \\\\\n",
       "\\end{tabular}\n"
      ],
      "text/markdown": [
       "\n",
       "sex | height | \n",
       "|---|---|---|---|---|---|\n",
       "| Male   | 75     | \n",
       "| Male   | 70     | \n",
       "| Male   | 68     | \n",
       "| Male   | 74     | \n",
       "| Male   | 61     | \n",
       "| Female | 65     | \n",
       "\n",
       "\n"
      ],
      "text/plain": [
       "  sex    height\n",
       "1 Male   75    \n",
       "2 Male   70    \n",
       "3 Male   68    \n",
       "4 Male   74    \n",
       "5 Male   61    \n",
       "6 Female 65    "
      ]
     },
     "metadata": {},
     "output_type": "display_data"
    }
   ],
   "source": [
    "head(heights)"
   ]
  },
  {
   "cell_type": "markdown",
   "metadata": {},
   "source": [
    "sex is categorical\n",
    "height numerical"
   ]
  },
  {
   "cell_type": "code",
   "execution_count": 8,
   "metadata": {},
   "outputs": [
    {
     "data": {
      "text/html": [
       "139"
      ],
      "text/latex": [
       "139"
      ],
      "text/markdown": [
       "139"
      ],
      "text/plain": [
       "[1] 139"
      ]
     },
     "metadata": {},
     "output_type": "display_data"
    }
   ],
   "source": [
    "x <- heights$height\n",
    "\n",
    "length(unique(x))"
   ]
  },
  {
   "cell_type": "markdown",
   "metadata": {},
   "source": [
    "Use the table function to compute the frequencies of each unique height value."
   ]
  },
  {
   "cell_type": "code",
   "execution_count": 9,
   "metadata": {},
   "outputs": [
    {
     "data": {
      "text/plain": [
       "x\n",
       "              50               51               52               53 \n",
       "               2                1                2                1 \n",
       "           53.77               54               55               58 \n",
       "               1                1                1                1 \n",
       "              59          59.0551 59.0551181102362 59.8425196850394 \n",
       "               6                1                2                1 \n",
       "              60               61            61.32 61.8110236220472 \n",
       "              17               12                1                2 \n",
       "              62 62.2047244094488             62.4             62.5 \n",
       "              19                3                1                2 \n",
       "62.5984251968504             62.6  62.992125984252               63 \n",
       "               1                1                3               31 \n",
       "63.3858267716535 63.7795275590551               64           64.173 \n",
       "               1                3               39                1 \n",
       "         64.1732 64.1732283464567             64.2             64.5 \n",
       "               1                1                2                2 \n",
       "64.5669291338583            64.57             64.9            64.96 \n",
       "               2                1                1                2 \n",
       "64.9606299212598           64.961               65  65.748031496063 \n",
       "               4                1               54                3 \n",
       "              66            66.14          66.1416          66.1417 \n",
       "              65                1                1                1 \n",
       "66.1417322834646             66.4             66.5 66.5354330708661 \n",
       "               4                1                3                4 \n",
       "            66.7            66.75             66.9            66.92 \n",
       "               1                1                1                2 \n",
       "         66.9291 66.9291338582677            66.93               67 \n",
       "               2               12                1               77 \n",
       "            67.2             67.3             67.5             67.7 \n",
       "               1                1                4                3 \n",
       "           67.71          67.7165 67.7165354330709            67.72 \n",
       "               2                2                7                3 \n",
       "           67.78               68            68.11          68.1102 \n",
       "               1               76                5                1 \n",
       "68.1102362204724         68.11024             68.4             68.5 \n",
       "               3                1                2                9 \n",
       " 68.503937007874             68.8            68.89          68.8976 \n",
       "               4                1                4                3 \n",
       "68.8976377952756       68.8976378             68.9               69 \n",
       "               5                1                3               83 \n",
       "           69.29 69.2913385826772             69.3             69.6 \n",
       "               2                2                2                2 \n",
       "69.6850393700787               70 70.0787401574803            70.08 \n",
       "               1               92                5                1 \n",
       "            70.1 70.4724409448819             70.5             70.8 \n",
       "               2                1                2                1 \n",
       "           70.85            70.86           70.866          70.8661 \n",
       "               1                1                1                1 \n",
       "70.8661417322835            70.87               71             71.5 \n",
       "               9                1               59                4 \n",
       "           71.65 71.6535433070866             71.7               72 \n",
       "               1                1                1               88 \n",
       "72.0472440944882            72.05             72.4            72.44 \n",
       "               3                2                1                4 \n",
       "72.4409448818898            72.45             72.5            72.83 \n",
       "               3                1                1                2 \n",
       "         72.8346 72.8346456692913               73             73.2 \n",
       "               2                2               23                2 \n",
       "           73.22 73.2283464566929            73.62               74 \n",
       "               2                1                1               30 \n",
       "            74.5             74.8 74.8031496062992               75 \n",
       "               1                1                2               22 \n",
       "            75.4 75.5905511811024             75.6            75.98 \n",
       "               1                1                1                1 \n",
       "              76               77          77.1654               78 \n",
       "               7                5                1                4 \n",
       "           78.74  78.740157480315               79            79.05 \n",
       "               1                1                2                1 \n",
       "              80               81 82.6771653543307 \n",
       "               2                1                1 "
      ]
     },
     "metadata": {},
     "output_type": "display_data"
    }
   ],
   "source": [
    "tab <-table(x)\n",
    "tab"
   ]
  },
  {
   "cell_type": "code",
   "execution_count": 10,
   "metadata": {},
   "outputs": [
    {
     "data": {
      "text/html": [
       "63"
      ],
      "text/latex": [
       "63"
      ],
      "text/markdown": [
       "63"
      ],
      "text/plain": [
       "[1] 63"
      ]
     },
     "metadata": {},
     "output_type": "display_data"
    }
   ],
   "source": [
    "tab <- table(heights$height)\n",
    "sum(tab == 1)"
   ]
  },
  {
   "cell_type": "code",
   "execution_count": null,
   "metadata": {},
   "outputs": [],
   "source": []
  },
  {
   "cell_type": "code",
   "execution_count": null,
   "metadata": {},
   "outputs": [],
   "source": []
  },
  {
   "cell_type": "code",
   "execution_count": null,
   "metadata": {},
   "outputs": [],
   "source": []
  }
 ],
 "metadata": {
  "kernelspec": {
   "display_name": "R",
   "language": "R",
   "name": "ir"
  },
  "language_info": {
   "codemirror_mode": "r",
   "file_extension": ".r",
   "mimetype": "text/x-r-source",
   "name": "R",
   "pygments_lexer": "r",
   "version": "3.4.2"
  }
 },
 "nbformat": 4,
 "nbformat_minor": 2
}
