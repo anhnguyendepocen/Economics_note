{
 "cells": [
  {
   "cell_type": "code",
   "execution_count": null,
   "metadata": {},
   "outputs": [],
   "source": [
    "#install.packages(\"readr\")\n",
    "#install.packages(\"gapminder\")\n",
    "#"
   ]
  },
  {
   "cell_type": "code",
   "execution_count": null,
   "metadata": {},
   "outputs": [],
   "source": [
    "library(dplyr)\n",
    "library(ggplot2)\n",
    "#library(readr)"
   ]
  },
  {
   "cell_type": "code",
   "execution_count": null,
   "metadata": {},
   "outputs": [],
   "source": [
    "#gapminder = read.csv(\"https://stat.duke.edu/~mc301/data/gapminder.csv\")\n",
    "#gapminder = read_csv(\"https://stat.duke.edu/~mc301/data/gapminder.csv\")\n",
    "library(gapminder)"
   ]
  },
  {
   "cell_type": "code",
   "execution_count": null,
   "metadata": {},
   "outputs": [],
   "source": [
    "gapminder"
   ]
  },
  {
   "cell_type": "markdown",
   "metadata": {},
   "source": [
    "## The filter verb"
   ]
  },
  {
   "cell_type": "code",
   "execution_count": null,
   "metadata": {
    "collapsed": true
   },
   "outputs": [],
   "source": [
    "gap07 <- gapminder %>%\n",
    "  filter(year == 2007)"
   ]
  },
  {
   "cell_type": "markdown",
   "metadata": {},
   "source": [
    "## The arrange verb"
   ]
  },
  {
   "cell_type": "code",
   "execution_count": null,
   "metadata": {},
   "outputs": [],
   "source": [
    "gapminder%>% \n",
    "    filter(year == 2007)%>%\n",
    "    arrange(desc(gdpPercap))"
   ]
  },
  {
   "cell_type": "code",
   "execution_count": null,
   "metadata": {},
   "outputs": [],
   "source": [
    "# Sort in ascending order of lifeExp\n",
    "gapminder%>% \n",
    "    arrange((lifeExp))\n",
    "# Sort in descending order of lifeExp\n",
    "\n",
    "\n",
    "gapminder%>% \n",
    "    arrange(desc(lifeExp))"
   ]
  },
  {
   "cell_type": "code",
   "execution_count": null,
   "metadata": {},
   "outputs": [],
   "source": [
    "# Filter for the year 1957, then arrange in descending order of population\n",
    "gapminder%>% \n",
    "    filter(year == 1957)%>%\n",
    "    arrange(desc(pop))"
   ]
  },
  {
   "cell_type": "markdown",
   "metadata": {},
   "source": [
    "## The mutate verb"
   ]
  },
  {
   "cell_type": "code",
   "execution_count": null,
   "metadata": {},
   "outputs": [],
   "source": [
    "gapminder %>%\n",
    "  mutate(gdp = gdpPercap * pop)"
   ]
  },
  {
   "cell_type": "code",
   "execution_count": null,
   "metadata": {},
   "outputs": [],
   "source": [
    "gapminder %>%\n",
    "  mutate(gdp = gdpPercap * pop)%>%\n",
    "  filter(year ==2007) %>%\n",
    "  arrange(desc(gdp))"
   ]
  },
  {
   "cell_type": "code",
   "execution_count": null,
   "metadata": {
    "collapsed": true
   },
   "outputs": [],
   "source": [
    "# Use mutate to change lifeExp to be in months\n",
    "\n",
    "gapminder %>%\n",
    "  mutate(lifeExp = 12* lifeExp)\n",
    "# Use mutate to create a new column called lifeExpMonths\n",
    "gapminder %>%\n",
    "  mutate(lifeExpMonths = 12*lifeExp)\n"
   ]
  },
  {
   "cell_type": "code",
   "execution_count": null,
   "metadata": {},
   "outputs": [],
   "source": [
    "# Filter, mutate, and arrange the gapminder dataset\n",
    "\n",
    "gapminder %>%\n",
    "  filter(year == 2007)%>%\n",
    "  mutate(lifeExpMonths = 12*lifeExp) %>%\n",
    "  arrange(desc(lifeExpMonths))\n",
    "\n",
    "\n"
   ]
  },
  {
   "cell_type": "code",
   "execution_count": null,
   "metadata": {
    "collapsed": true
   },
   "outputs": [],
   "source": [
    "gap07 <- gapminder %>%\n",
    "  filter(year == 2007)"
   ]
  },
  {
   "cell_type": "code",
   "execution_count": null,
   "metadata": {
    "collapsed": true
   },
   "outputs": [],
   "source": [
    "ggplot(data = gap07, aes(x = gdpPercap, y = lifeExp)) + \n",
    "  geom_point()"
   ]
  },
  {
   "cell_type": "code",
   "execution_count": null,
   "metadata": {
    "collapsed": true
   },
   "outputs": [],
   "source": [
    "ggplot(data = gap07, aes(x = gdpPercap, y = lifeExp, color = continent)) +\n",
    "  geom_point()"
   ]
  },
  {
   "cell_type": "code",
   "execution_count": null,
   "metadata": {
    "collapsed": true
   },
   "outputs": [],
   "source": [
    "gap52 <- gapminder %>%\n",
    "  filter(year == 1952)"
   ]
  },
  {
   "cell_type": "code",
   "execution_count": null,
   "metadata": {
    "collapsed": true
   },
   "outputs": [],
   "source": [
    "ggplot(data = gap52, aes(x = pop, y = lifeExp, color = continent,size = gpdPercap)) +\n",
    "  geom_point()"
   ]
  },
  {
   "cell_type": "code",
   "execution_count": null,
   "metadata": {
    "collapsed": true
   },
   "outputs": [],
   "source": []
  }
 ],
 "metadata": {
  "kernelspec": {
   "display_name": "R",
   "language": "R",
   "name": "ir"
  },
  "language_info": {
   "codemirror_mode": "r",
   "file_extension": ".r",
   "mimetype": "text/x-r-source",
   "name": "R",
   "pygments_lexer": "r",
   "version": "3.3.2"
  }
 },
 "nbformat": 4,
 "nbformat_minor": 2
}
