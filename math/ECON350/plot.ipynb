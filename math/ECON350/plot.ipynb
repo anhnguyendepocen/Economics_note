{
 "cells": [
  {
   "cell_type": "code",
   "execution_count": null,
   "metadata": {
    "collapsed": false
   },
   "outputs": [
    {
     "name": "stderr",
     "output_type": "stream",
     "text": [
      "INFO: Cloning cache of ColorTypes from git://github.com/JuliaGraphics/ColorTypes.jl.git\n",
      "INFO: Cloning cache of Colors from git://github.com/JuliaGraphics/Colors.jl.git\n",
      "INFO: Cloning cache of FixedPointNumbers from git://github.com/JuliaMath/FixedPointNumbers.jl.git\n",
      "INFO: Cloning cache of FixedSizeArrays from git://github.com/SimonDanisch/FixedSizeArrays.jl.git\n",
      "INFO: Cloning cache of Iterators from git://github.com/JuliaCollections/Iterators.jl.git\n",
      "INFO: Cloning cache of JSON from git://github.com/JuliaIO/JSON.jl.git\n",
      "INFO: Cloning cache of Measures from git://github.com/JuliaGraphics/Measures.jl.git\n",
      "INFO: Cloning cache of PlotUtils from git://github.com/JuliaPlots/PlotUtils.jl.git\n",
      "INFO: Cloning cache of Plots from git://github.com/JuliaPlots/Plots.jl.git\n",
      "INFO: Cloning cache of RecipesBase from git://github.com/JuliaPlots/RecipesBase.jl.git\n",
      "INFO: Cloning cache of Reexport from git://github.com/simonster/Reexport.jl.git\n",
      "INFO: Cloning cache of Showoff from git://github.com/JuliaGraphics/Showoff.jl.git\n",
      "INFO: Installing ColorTypes v0.2.12\n",
      "INFO: Installing Colors v0.6.9\n",
      "INFO: Installing FixedPointNumbers v0.2.1\n",
      "INFO: Installing FixedSizeArrays v0.2.5\n",
      "INFO: Installing Iterators v0.3.1\n",
      "INFO: Installing JSON v0.8.3\n",
      "INFO: Installing Measures v0.0.3\n",
      "INFO: Installing PlotUtils v0.0.4\n",
      "INFO: Installing Plots v0.8.2\n",
      "INFO: Installing RecipesBase v0.0.6\n",
      "INFO: Installing Reexport v0.0.3\n",
      "INFO: Installing Showoff v0.0.7\n"
     ]
    }
   ],
   "source": [
    "Pkg.add(\"Plots\")\n",
    "using Plots\n",
    "plotly() # Choose the Plotly.jl backend for web interactivity\n",
    "plot(rand(5,5),linewidth=2,title=\"My Plot\")\n"
   ]
  },
  {
   "cell_type": "code",
   "execution_count": null,
   "metadata": {
    "collapsed": true
   },
   "outputs": [],
   "source": []
  },
  {
   "cell_type": "code",
   "execution_count": null,
   "metadata": {
    "collapsed": true
   },
   "outputs": [],
   "source": []
  },
  {
   "cell_type": "code",
   "execution_count": null,
   "metadata": {
    "collapsed": true
   },
   "outputs": [],
   "source": [
    "Pkg.add(\"PyPlot\") # Install a different backend\n",
    "pyplot() # Switch to using the PyPlot.jl backend\n",
    "plot(rand(5,5),linewidth=2,title=\"My Plot\") # The same plotting command works"
   ]
  },
  {
   "cell_type": "code",
   "execution_count": null,
   "metadata": {
    "collapsed": true
   },
   "outputs": [],
   "source": []
  }
 ],
 "metadata": {
  "anaconda-cloud": {},
  "kernelspec": {
   "display_name": "Julia 0.4.7",
   "language": "julia",
   "name": "julia-0.4"
  },
  "language_info": {
   "file_extension": ".jl",
   "mimetype": "application/julia",
   "name": "julia",
   "version": "0.4.7"
  }
 },
 "nbformat": 4,
 "nbformat_minor": 1
}
