{
 "cells": [
  {
   "cell_type": "markdown",
   "metadata": {},
   "source": [
    "## S.O.C\n",
    "\n",
    "Lagrange's Theorem and the Kuhn-Tucker Theorem give us first order necessary conditions for constrained maximization problems. The conditions are not in general sufficient to determine the optimum.\n",
    "\n",
    "\n",
    "The maxima and minima can be distinguished by examining the **curvatures** of the objective and constraint functions.\n",
    "\n",
    "### The problem:\n",
    "\n",
    "choosing the vector x to maximize the $F(x)$ subject to a scalar constaint $G(x) <= c$. Let $x$ denote the optimum choice, and now write $\\bar v$ for the maximum value."
   ]
  },
  {
   "cell_type": "markdown",
   "metadata": {},
   "source": [
    "### Convex Set\n",
    "\n",
    "A set $ V \\subset \\mathbb{R}^n $ is called convex if the line segment between any two points in \\( V \\) is contained in the set itself, i.e. if $ \\alpha x + (1-\\alpha)y \\in V \\text{ for all }\\alpha \\in [0,1], x,y \\in V $\n",
    "\n",
    "\n",
    "ref:\n",
    "https://lagunita.stanford.edu/courses/Engineering/CVX101/Winter2014/courseware/cf069c5b8fed4f1b89b3e10064b707e1/f7f852967e6c484badaaf59bed671374/\n",
    "---"
   ]
  },
  {
   "cell_type": "code",
   "execution_count": null,
   "metadata": {},
   "outputs": [],
   "source": []
  },
  {
   "cell_type": "markdown",
   "metadata": {},
   "source": [
    "\n",
    "\n",
    "\n",
    "# separation\n",
    "\n",
    "\n",
    "The common tangent separates the $x$-plane into two halves, each containing one of the sets.\n",
    "\n",
    "This separation is the crucial property that allows us to distinguish maximum from minima, and obtain sufficient conditions for the maximization problem.\n",
    "\n",
    "\n",
    "\n",
    "\n",
    "\n",
    "![](https://upload.wikimedia.org/wikipedia/commons/thumb/9/9b/Separating_axis_theorem2008.png/440px-Separating_axis_theorem2008.png)\n",
    "\n",
    "\n",
    "#### Hyperplane separation theorem[1] \n",
    "\n",
    "— Let A and B be two disjoint nonempty convex subsets of Rn. Then there exist a nonzero vector $p$ and a real number $b$ such that\n",
    "\n",
    "$${\\displaystyle \\langle x,p\\rangle \\geq b\\,{\\text{ and }}\\langle y,p\\rangle \\leq b} $$\n",
    "for all $x$ in$ A$ and $y$ in $B$; i.e., the hyperplane ${\\displaystyle \\langle \\cdot ,p\\rangle =b} $, $p$ the normal vector, separates $A$ and $B$."
   ]
  },
  {
   "cell_type": "markdown",
   "metadata": {},
   "source": [
    "## Convext Sets\n",
    "\n",
    "### Definition\n",
    "\n",
    "A set S of n-vectors is convex if\n",
    "\n",
    "(1−λ)x + λx' ∈ S whenever x ∈ S, x' ∈ S, and λ ∈ [0,1].\n",
    "\n",
    "(1 − λ)x + λx' a convex combination of x and x'.\n",
    "\n",
    "\n",
    "### Proposition\n",
    "\n",
    "The intersection of convex sets is convex.\n",
    "\n",
    "## Concave and convex functions\n",
    "\n",
    "Let f be a function of many variables, defined on a convex set S. We say that f is concave if the line segment joining any two points on the graph of f is never above the graph; f is convex if the line segment joining any two points on the graph is never below the graph. (That is, the definitions are the same as the definitions for functions of a single variable.)\n",
    "\n",
    "\n",
    "### Definition\n",
    "\n",
    "Let f be a function of many variables defined on the convex set S. Then f is\n",
    "\n",
    "concave on the set S if for all x ∈ S, all x' ∈ S, and all λ ∈ (0,1) we have\n",
    "\n",
    "$$f((1−λ)x + λx')\t ≥ \t(1−λ)f(x) + λf(x')$$\n",
    "\n",
    "convex on the set S if for all x ∈ S, all x' ∈ S, and all λ ∈ (0,1) we have\n",
    "\n",
    "$$f((1−λ)x + λx')\t ≤ \t(1−λ)f(x) + λf(x').$$\n",
    "\n",
    "\n",
    "ref:\n",
    "\n",
    "https://mjo.osborne.economics.utoronto.ca/index.php/tutorial/index/1/cvn/t"
   ]
  },
  {
   "cell_type": "code",
   "execution_count": 8,
   "metadata": {},
   "outputs": [],
   "source": [
    "\n",
    "import numpy as np\n",
    "import matplotlib.cm as cm\n",
    "import matplotlib.mlab as mlab\n",
    "import matplotlib.pyplot as plt\n",
    "%matplotlib notebook\n",
    "import matplotlib as mpl\n",
    "mpl.rcParams['figure.dpi']= 120\n",
    "import sympy as sym\n",
    "sym.init_printing()\n",
    "x1,x2,alpha,lam = sym.symbols('x_1 x_2 alpha lambda ', positive = True)\n"
   ]
  },
  {
   "cell_type": "code",
   "execution_count": 3,
   "metadata": {},
   "outputs": [
    {
     "data": {
      "text/latex": [
       "$$f{\\left (\\bar{x} \\right )} + \\left(x - \\bar{x}\\right) \\left. \\frac{d}{d \\xi_{1}} f{\\left (\\xi_{1} \\right )} \\right|_{\\substack{ \\xi_{1}=\\bar{x} }} + \\frac{1}{2} \\left(x - \\bar{x}\\right)^{2} \\left. \\frac{d^{2}}{d \\xi_{1}^{2}}  f{\\left (\\xi_{1} \\right )} \\right|_{\\substack{ \\xi_{1}=\\bar{x} }} + \\mathcal{O}\\left(\\left(x - \\bar{x}\\right)^{3}; x\\rightarrow\\bar{x}\\right)$$"
      ],
      "text/plain": [
       "                                                ⎛  2        ⎞│                \n",
       "                                              2 ⎜ d         ⎟│                \n",
       "                                      (x - x̅) ⋅⎜────(f(ξ₁))⎟│                \n",
       "                                                ⎜   2       ⎟│                \n",
       "                 ⎛ d        ⎞│                  ⎝dξ₁        ⎠│ξ₁=x̅    ⎛      \n",
       "f(x̅) + (x - x̅)⋅⎜───(f(ξ₁))⎟│      + ───────────────────────────── + O⎝(x - x\n",
       "                 ⎝dξ₁       ⎠│ξ₁=x̅                 2                         \n",
       "\n",
       "            \n",
       "            \n",
       "            \n",
       "            \n",
       "  3        ⎞\n",
       "̅) ; x → x̅⎠\n",
       "            "
      ]
     },
     "execution_count": 3,
     "metadata": {},
     "output_type": "execute_result"
    }
   ],
   "source": [
    "from sympy import series\n",
    "x, xbar = sym.symbols(\"x,xbar\")\n",
    "f = sym.Function(\"f\")\n",
    "g = sym.Function(\"g\")\n",
    "sym.series(f(x), x, x0=xbar, n=3)"
   ]
  },
  {
   "cell_type": "code",
   "execution_count": 4,
   "metadata": {},
   "outputs": [
    {
     "data": {
      "image/png": "[encoded data removed]",
      "text/latex": [
       "$$x_{1} x_{2}$$"
      ],
      "text/plain": [
       "x₁⋅x₂"
      ]
     },
     "execution_count": 4,
     "metadata": {},
     "output_type": "execute_result"
    }
   ],
   "source": [
    "f = x1*x2\n",
    "f"
   ]
  },
  {
   "cell_type": "code",
   "execution_count": 6,
   "metadata": {},
   "outputs": [
    {
     "data": {
      "image/png": "[encoded data removed]",
      "text/latex": [
       "$$x_{1}^{2} + 2 x_{2}^{2}$$"
      ],
      "text/plain": [
       "  2       2\n",
       "x₁  + 2⋅x₂ "
      ]
     },
     "execution_count": 6,
     "metadata": {},
     "output_type": "execute_result"
    }
   ],
   "source": [
    "g = x1**2 + 2*x2**2\n",
    "g"
   ]
  },
  {
   "cell_type": "code",
   "execution_count": 9,
   "metadata": {},
   "outputs": [],
   "source": [
    "L = 2*f + lam*(9-g)"
   ]
  },
  {
   "cell_type": "code",
   "execution_count": 10,
   "metadata": {},
   "outputs": [
    {
     "data": {
      "image/png": "[encoded data removed]",
      "text/latex": [
       "$$- 2 \\lambda x_{1} + 2 x_{2}$$"
      ],
      "text/plain": [
       "-2⋅λ⋅x₁ + 2⋅x₂"
      ]
     },
     "execution_count": 10,
     "metadata": {},
     "output_type": "execute_result"
    }
   ],
   "source": [
    "L1 =sym.diff(L, x1)\n",
    "L1"
   ]
  },
  {
   "cell_type": "code",
   "execution_count": 11,
   "metadata": {},
   "outputs": [
    {
     "data": {
      "image/png": "[encoded data removed]",
      "text/latex": [
       "$$- 4 \\lambda x_{2} + 2 x_{1}$$"
      ],
      "text/plain": [
       "-4⋅λ⋅x₂ + 2⋅x₁"
      ]
     },
     "execution_count": 11,
     "metadata": {},
     "output_type": "execute_result"
    }
   ],
   "source": [
    "L2=sym.diff(L, x2)\n",
    "L2"
   ]
  },
  {
   "cell_type": "code",
   "execution_count": 12,
   "metadata": {},
   "outputs": [
    {
     "data": {
      "image/png": "[encoded data removed]",
      "text/latex": [
       "$$- x_{1}^{2} - 2 x_{2}^{2} + 9$$"
      ],
      "text/plain": [
       "    2       2    \n",
       "- x₁  - 2⋅x₂  + 9"
      ]
     },
     "execution_count": 12,
     "metadata": {},
     "output_type": "execute_result"
    }
   ],
   "source": [
    "Llam =sym.diff(L, lam)\n",
    "Llam"
   ]
  },
  {
   "cell_type": "code",
   "execution_count": 17,
   "metadata": {},
   "outputs": [
    {
     "data": {
      "image/png": "[encoded data removed]",
      "text/latex": [
       "$$\\left [ \\left \\{ \\lambda : \\frac{\\sqrt{2}}{2}, \\quad x_{1} : \\frac{3 \\sqrt{2}}{2}, \\quad x_{2} : \\frac{3}{2}\\right \\}\\right ]$$"
      ],
      "text/plain": [
       "⎡⎧   √2      3⋅√2         ⎫⎤\n",
       "⎢⎨λ: ──, x₁: ────, x₂: 3/2⎬⎥\n",
       "⎣⎩   2        2           ⎭⎦"
      ]
     },
     "execution_count": 17,
     "metadata": {},
     "output_type": "execute_result"
    }
   ],
   "source": [
    "sol1=sym.solve([L1,L2,Llam], x1,x2, lam,dict=True)\n",
    "sol1"
   ]
  },
  {
   "cell_type": "code",
   "execution_count": 14,
   "metadata": {},
   "outputs": [
    {
     "data": {
      "text/latex": [
       "$$\\left[\\begin{matrix}x_{1}\\\\x_{2}\\end{matrix}\\right]$$"
      ],
      "text/plain": [
       "⎡x₁⎤\n",
       "⎢  ⎥\n",
       "⎣x₂⎦"
      ]
     },
     "execution_count": 14,
     "metadata": {},
     "output_type": "execute_result"
    }
   ],
   "source": [
    "x = sym.Matrix([x1,x2])\n",
    "x"
   ]
  },
  {
   "cell_type": "code",
   "execution_count": 15,
   "metadata": {},
   "outputs": [
    {
     "data": {
      "text/latex": [
       "$$\\left[\\begin{matrix}x_{2}\\\\x_{1}\\end{matrix}\\right]$$"
      ],
      "text/plain": [
       "⎡x₂⎤\n",
       "⎢  ⎥\n",
       "⎣x₁⎦"
      ]
     },
     "execution_count": 15,
     "metadata": {},
     "output_type": "execute_result"
    }
   ],
   "source": [
    "pf =sym.Matrix([f]).jacobian(x).T\n",
    "pf"
   ]
  },
  {
   "cell_type": "code",
   "execution_count": 25,
   "metadata": {},
   "outputs": [
    {
     "data": {
      "text/latex": [
       "$$\\left[\\begin{matrix}\\frac{3}{2}\\\\\\frac{3 \\sqrt{2}}{2}\\end{matrix}\\right]$$"
      ],
      "text/plain": [
       "⎡3/2 ⎤\n",
       "⎢    ⎥\n",
       "⎢3⋅√2⎥\n",
       "⎢────⎥\n",
       "⎣ 2  ⎦"
      ]
     },
     "execution_count": 25,
     "metadata": {},
     "output_type": "execute_result"
    }
   ],
   "source": [
    "pf = pf.subs(sol1[0])\n",
    "pf"
   ]
  },
  {
   "cell_type": "code",
   "execution_count": 26,
   "metadata": {},
   "outputs": [
    {
     "data": {
      "text/latex": [
       "$$\\left[\\begin{matrix}\\frac{3 \\sqrt{2}}{2}\\\\\\frac{3}{2}\\end{matrix}\\right]$$"
      ],
      "text/plain": [
       "⎡3⋅√2⎤\n",
       "⎢────⎥\n",
       "⎢ 2  ⎥\n",
       "⎢    ⎥\n",
       "⎣3/2 ⎦"
      ]
     },
     "execution_count": 26,
     "metadata": {},
     "output_type": "execute_result"
    }
   ],
   "source": [
    "xbar = x.subs(sol1[0])\n",
    "xbar"
   ]
  },
  {
   "cell_type": "code",
   "execution_count": 31,
   "metadata": {},
   "outputs": [
    {
     "data": {
      "text/latex": [
       "$$\\left[\\begin{matrix}\\frac{9 \\sqrt{2}}{2}\\end{matrix}\\right]$$"
      ],
      "text/plain": [
       "⎡9⋅√2⎤\n",
       "⎢────⎥\n",
       "⎣ 2  ⎦"
      ]
     },
     "execution_count": 31,
     "metadata": {},
     "output_type": "execute_result"
    }
   ],
   "source": [
    "bf = pf.T*xbar\n",
    "bf"
   ]
  },
  {
   "cell_type": "code",
   "execution_count": 32,
   "metadata": {},
   "outputs": [
    {
     "data": {
      "text/latex": [
       "$$\\left[\\begin{matrix}6.36396103067893\\end{matrix}\\right]$$"
      ],
      "text/plain": [
       "[6.36396103067893]"
      ]
     },
     "execution_count": 32,
     "metadata": {},
     "output_type": "execute_result"
    }
   ],
   "source": [
    "bf.evalf()"
   ]
  },
  {
   "cell_type": "code",
   "execution_count": 34,
   "metadata": {},
   "outputs": [
    {
     "data": {
      "image/png": "[encoded data removed]",
      "text/latex": [
       "$$\\frac{9 \\sqrt{2}}{4}$$"
      ],
      "text/plain": [
       "9⋅√2\n",
       "────\n",
       " 4  "
      ]
     },
     "execution_count": 34,
     "metadata": {},
     "output_type": "execute_result"
    }
   ],
   "source": [
    "vbar = f.subs(sol1[0])\n",
    "vbar"
   ]
  },
  {
   "cell_type": "code",
   "execution_count": 40,
   "metadata": {},
   "outputs": [
    {
     "data": {
      "text/latex": [
       "$$\\frac{9 \\sqrt{2}}{4} \\left[\\begin{matrix}\\frac{\\sqrt{2}}{9}\\end{matrix}\\right]$$"
      ],
      "text/plain": [
       "             -1\n",
       "     ⎛⎡9⋅√2⎤⎞  \n",
       "9⋅√2⋅⎜⎢────⎥⎟  \n",
       "     ⎝⎣ 2  ⎦⎠  \n",
       "───────────────\n",
       "       4       "
      ]
     },
     "execution_count": 40,
     "metadata": {},
     "output_type": "execute_result"
    }
   ],
   "source": [
    "vbar/bf"
   ]
  },
  {
   "cell_type": "code",
   "execution_count": 45,
   "metadata": {},
   "outputs": [
    {
     "data": {
      "text/latex": [
       "$$3.18198051533946 \\left(\\left[\\begin{matrix}6.36396103067893\\end{matrix}\\right]\\right)^{-1}$$"
      ],
      "text/plain": [
       "                                     -1\n",
       "3.18198051533946⋅([6.36396103067893])  "
      ]
     },
     "execution_count": 45,
     "metadata": {},
     "output_type": "execute_result"
    }
   ],
   "source": [
    "(vbar.evalf()/bf.evalf())"
   ]
  },
  {
   "cell_type": "code",
   "execution_count": 42,
   "metadata": {},
   "outputs": [
    {
     "data": {
      "text/latex": [
       "$$\\left[\\begin{matrix}0.75 & 0.75 \\sqrt{2}\\end{matrix}\\right]$$"
      ],
      "text/plain": [
       "[0.75  0.75⋅√2]"
      ]
     },
     "execution_count": 42,
     "metadata": {},
     "output_type": "execute_result"
    }
   ],
   "source": [
    "p = 1/2*pf.T\n",
    "p"
   ]
  },
  {
   "cell_type": "code",
   "execution_count": null,
   "metadata": {},
   "outputs": [],
   "source": []
  },
  {
   "cell_type": "code",
   "execution_count": null,
   "metadata": {},
   "outputs": [],
   "source": []
  },
  {
   "cell_type": "code",
   "execution_count": null,
   "metadata": {},
   "outputs": [],
   "source": []
  },
  {
   "cell_type": "markdown",
   "metadata": {},
   "source": [
    "### Convex sets > Affine and convex sets \n",
    "\n",
    "### convex cone\n",
    "\n",
    "Stephen Boyd's textbook on convex optimization. It says \"A set $C$ is called a cone or nonnegative homogeneous, if for every $x ∈ C$, we have $θx∈C$. A set $C$ is a convex cone if it is convex and a cone.\"\n",
    "\n",
    "#### a cone but not convex.\n",
    "\n",
    "-  the graph of $y=|x|$ is a cone that is not convex; however, the locus of points $(x,y)$ with $y≥|x|$ is a convex cone.\n",
    "\n",
    "- The union of the 1st and the 3rd quadrants is a cone but not convex; the 1st quadrant itself is a convex cone.\n",
    "\n",
    "\n",
    "#### Convex sets \n",
    "\n",
    "Any subspace is affine, and a convex cone(hence convex).\n",
    "\n",
    "- a linear subspace contains all multiples of its elements as well as all linear combinations (in particular convex ones). Hence it is a convex cone.\n",
    "\n",
    "- A cone is closed under positive scalar multiplication; a linear sunspace is closed under all real scalar multiplication, positive, negative, or zero.\n",
    "\n",
    "\n",
    "#### Properties\n",
    "\n",
    "$$S = \\{  x \\in \\mathbf{R}^2 \\mid  x \\in [0,1]^2\\}$$\n",
    "\n",
    "\n",
    "$$D = \\{  x \\in \\mathbf{R}^2 \\mid  \\| x\\| _2 \\leq 1\\}$$\n",
    "\n",
    "both are convex set\n",
    "\n",
    "then\n",
    "\n",
    "$$S \\cap D$$\n",
    "\n",
    "\n",
    "$$S \\cup D$$\n",
    "\n",
    "are convex as well\n",
    "\n",
    "\n",
    "\n",
    "ref:\n",
    "\n",
    "http://systemsbiology.ucsd.edu/sites/default/files/Attachments/Images/classes/convex_presentations/convexity.pdf\n",
    "\n",
    "\n"
   ]
  },
  {
   "cell_type": "code",
   "execution_count": null,
   "metadata": {},
   "outputs": [],
   "source": []
  },
  {
   "cell_type": "code",
   "execution_count": null,
   "metadata": {},
   "outputs": [],
   "source": []
  },
  {
   "cell_type": "markdown",
   "metadata": {},
   "source": [
    "### what does scaling the normal vector of a plane (/hyperplane) mean?\n",
    "\n",
    "\n",
    " scaling (multiplying or dividing by a constant) the normal vector of a plane, does not affect the plane itself.\n",
    " \n",
    " minimizing the normal vectors, allows you to compare planes just by their normal vectors. If they are the same, so are the two planes. This would not be as trivial if the two normal vectors are scaled differently. There are probably other useful features of having consistent rules for expressing normal vectors which I am not aware of.\n",
    "\n",
    "Also note that, in terms of the plane, nothing is changing by scaling the normal vector since only the angle (or relative lengths of the components) matters to define a plane. Scaling is simply stretching the normal vector along it's axis.\n",
    "\n",
    "![](https://i.stack.imgur.com/vMOEp.gif)\n",
    " "
   ]
  },
  {
   "cell_type": "code",
   "execution_count": null,
   "metadata": {},
   "outputs": [],
   "source": []
  },
  {
   "cell_type": "markdown",
   "metadata": {},
   "source": [
    "ref:\n",
    "https://mjo.osborne.economics.utoronto.ca/index.php/tutorial/index/1/qcc/t\n",
    "\n",
    "https://stats.stackexchange.com/questions/267267/what-does-scaling-the-normal-vector-of-a-plane-hyperplane-mean\n",
    "\n",
    "http://web.hku.hk/~pingyu/6066/LN/LN3_Convex%20Sets%20and%20Concave%20Functions_ver2.pdf"
   ]
  },
  {
   "cell_type": "code",
   "execution_count": null,
   "metadata": {
    "ExecuteTime": {
     "end_time": "2017-11-11T00:52:23.297177Z",
     "start_time": "2017-11-11T00:52:21.474925Z"
    },
    "scrolled": true
   },
   "outputs": [],
   "source": [
    "\n"
   ]
  },
  {
   "cell_type": "code",
   "execution_count": null,
   "metadata": {},
   "outputs": [],
   "source": []
  },
  {
   "cell_type": "code",
   "execution_count": 8,
   "metadata": {
    "ExecuteTime": {
     "end_time": "2018-01-23T04:54:39.864184Z",
     "start_time": "2018-01-23T04:54:39.859171Z"
    }
   },
   "outputs": [],
   "source": [
    "# X, Y value\n",
    "X = np.arange(0, 4, 0.25)\n",
    "Y = np.arange(0, 4, 0.25)\n",
    "X, Y = np.meshgrid(X, Y)    # x-y meshgrid\n",
    "R =X **0.33* Y ** 0.67\n",
    "# height value\n",
    "Z = R"
   ]
  },
  {
   "cell_type": "code",
   "execution_count": 9,
   "metadata": {
    "ExecuteTime": {
     "end_time": "2018-01-23T04:54:40.078755Z",
     "start_time": "2018-01-23T04:54:39.866189Z"
    }
   },
   "outputs": [
    {
     "data": {
      "text/plain": [
       "<matplotlib.contour.QuadContourSet at 0x175b4f27fd0>"
      ]
     },
     "execution_count": 9,
     "metadata": {},
     "output_type": "execute_result"
    },
    {
     "data": {
      "image/png": "[encoded data removed]",
      "text/plain": [
       "<matplotlib.figure.Figure at 0x175b5f72f60>"
      ]
     },
     "metadata": {},
     "output_type": "display_data"
    }
   ],
   "source": [
    "fig = plt.figure()\n",
    "ax = Axes3D(fig)\n",
    "ax.plot_surface(X, Y, Z, rstride=1, cstride=1, cmap=plt.get_cmap('rainbow'))\n",
    "# rstride and cstride represent the scale of row and column of grid\n",
    "ax.contourf(X, Y, Z, zdir='z', offset=0, cmap=plt.get_cmap('rainbow'))\n"
   ]
  },
  {
   "cell_type": "code",
   "execution_count": 10,
   "metadata": {
    "ExecuteTime": {
     "end_time": "2018-01-23T04:54:40.083767Z",
     "start_time": "2018-01-23T04:54:40.079757Z"
    }
   },
   "outputs": [],
   "source": [
    "# X, Y value\n",
    "X = np.arange(0, 4, 0.25)\n",
    "Y = np.arange(0, 4, 0.25)\n",
    "X, Y = np.meshgrid(X, Y)    # x-y meshgrid\n",
    "\n",
    "# height value\n",
    "Z = X **2+ Y ** 2"
   ]
  },
  {
   "cell_type": "code",
   "execution_count": 11,
   "metadata": {
    "ExecuteTime": {
     "end_time": "2018-01-23T04:54:40.257731Z",
     "start_time": "2018-01-23T04:54:40.084770Z"
    }
   },
   "outputs": [
    {
     "data": {
      "text/plain": [
       "<matplotlib.contour.QuadContourSet at 0x175b6109550>"
      ]
     },
     "execution_count": 11,
     "metadata": {},
     "output_type": "execute_result"
    },
    {
     "data": {
      "image/png": "[encoded data removed]",
      "text/plain": [
       "<matplotlib.figure.Figure at 0x175b5ff7630>"
      ]
     },
     "metadata": {},
     "output_type": "display_data"
    }
   ],
   "source": [
    "fig = plt.figure()\n",
    "ax = Axes3D(fig)\n",
    "ax.plot_surface(X, Y, Z, rstride=1, cstride=1, cmap=plt.get_cmap('rainbow'))\n",
    "# rstride and cstride represent the scale of row and column of grid\n",
    "\n",
    "ax.contourf(X, Y, Z, zdir='z', offset=0, cmap=plt.get_cmap('rainbow'))\n",
    "\n",
    "# level curve\n",
    "\n"
   ]
  },
  {
   "cell_type": "code",
   "execution_count": null,
   "metadata": {},
   "outputs": [],
   "source": []
  },
  {
   "cell_type": "code",
   "execution_count": null,
   "metadata": {},
   "outputs": [],
   "source": []
  },
  {
   "cell_type": "code",
   "execution_count": null,
   "metadata": {
    "ExecuteTime": {
     "end_time": "2017-11-11T00:54:45.378458Z",
     "start_time": "2017-11-11T00:54:45.372927Z"
    }
   },
   "outputs": [],
   "source": []
  },
  {
   "cell_type": "code",
   "execution_count": null,
   "metadata": {
    "ExecuteTime": {
     "end_time": "2017-11-11T00:55:18.006064Z",
     "start_time": "2017-11-11T00:55:17.933385Z"
    }
   },
   "outputs": [],
   "source": []
  },
  {
   "cell_type": "code",
   "execution_count": null,
   "metadata": {
    "ExecuteTime": {
     "end_time": "2017-11-11T00:55:22.456332Z",
     "start_time": "2017-11-11T00:55:22.450238Z"
    }
   },
   "outputs": [],
   "source": []
  },
  {
   "cell_type": "code",
   "execution_count": null,
   "metadata": {
    "ExecuteTime": {
     "end_time": "2017-11-11T00:55:32.872363Z",
     "start_time": "2017-11-11T00:55:32.798106Z"
    },
    "scrolled": true
   },
   "outputs": [],
   "source": []
  },
  {
   "cell_type": "code",
   "execution_count": null,
   "metadata": {
    "ExecuteTime": {
     "end_time": "2017-11-11T00:56:23.232206Z",
     "start_time": "2017-11-11T00:56:23.186569Z"
    }
   },
   "outputs": [],
   "source": []
  },
  {
   "cell_type": "code",
   "execution_count": null,
   "metadata": {},
   "outputs": [],
   "source": []
  },
  {
   "cell_type": "code",
   "execution_count": 29,
   "metadata": {
    "ExecuteTime": {
     "end_time": "2018-01-23T04:55:20.152939Z",
     "start_time": "2018-01-23T04:55:20.150445Z"
    }
   },
   "outputs": [],
   "source": [
    "import sympy as sym\n",
    "\n",
    "sym.init_printing()"
   ]
  },
  {
   "cell_type": "code",
   "execution_count": 33,
   "metadata": {
    "ExecuteTime": {
     "end_time": "2018-01-23T04:55:26.610473Z",
     "start_time": "2018-01-23T04:55:26.606980Z"
    }
   },
   "outputs": [],
   "source": [
    "x,y,z = sym.symbols('x y z')\n",
    "a,b,c = sym.symbols('a b c')\n",
    "F, G, H = sym.symbols('f g h', cls=sym.Function)\n",
    "x1,x2,lam = sym.symbols('x1 x2 lambda', postive = True )"
   ]
  },
  {
   "cell_type": "code",
   "execution_count": 34,
   "metadata": {
    "ExecuteTime": {
     "end_time": "2018-01-23T04:55:27.717914Z",
     "start_time": "2018-01-23T04:55:27.327068Z"
    }
   },
   "outputs": [
    {
     "data": {
      "image/png": "[encoded data removed]",
      "text/latex": [
       "$$x_{1} x_{2}$$"
      ],
      "text/plain": [
       "x₁⋅x₂"
      ]
     },
     "execution_count": 34,
     "metadata": {},
     "output_type": "execute_result"
    }
   ],
   "source": [
    "F = x1*x2\n",
    "F"
   ]
  },
  {
   "cell_type": "code",
   "execution_count": 35,
   "metadata": {
    "ExecuteTime": {
     "end_time": "2018-01-23T04:55:28.222667Z",
     "start_time": "2018-01-23T04:55:27.718917Z"
    }
   },
   "outputs": [
    {
     "data": {
      "image/png": "[encoded data removed]",
      "text/latex": [
       "$$x_{1}^{2} + x_{2}^{2}$$"
      ],
      "text/plain": [
       "  2     2\n",
       "x₁  + x₂ "
      ]
     },
     "execution_count": 35,
     "metadata": {},
     "output_type": "execute_result"
    }
   ],
   "source": [
    "G = x1**2 + x2**2\n",
    "#G = x1**2 + 2*x2**2\n",
    "G"
   ]
  },
  {
   "cell_type": "code",
   "execution_count": 36,
   "metadata": {
    "ExecuteTime": {
     "end_time": "2018-01-23T04:55:28.681807Z",
     "start_time": "2018-01-23T04:55:28.223765Z"
    }
   },
   "outputs": [
    {
     "data": {
      "image/png": "[encoded data removed]",
      "text/latex": [
       "$$\\left [ \\left ( \\frac{\\sqrt{2}}{4} \\left(-4 - 2 \\sqrt{2}\\right) \\left(- 2 \\sqrt{2} + 4\\right), \\quad - 2 \\sqrt{2}\\right ), \\quad \\left ( - \\frac{\\sqrt{2}}{4} \\left(-4 + 2 \\sqrt{2}\\right) \\left(2 \\sqrt{2} + 4\\right), \\quad 2 \\sqrt{2}\\right )\\right ]$$"
      ],
      "text/plain": [
       "⎡⎛√2⋅(-4 - 2⋅√2)⋅(-2⋅√2 + 4)       ⎞  ⎛-√2⋅(-4 + 2⋅√2)⋅(2⋅√2 + 4)       ⎞⎤\n",
       "⎢⎜──────────────────────────, -2⋅√2⎟, ⎜───────────────────────────, 2⋅√2⎟⎥\n",
       "⎣⎝            4                    ⎠  ⎝             4                   ⎠⎦"
      ]
     },
     "execution_count": 36,
     "metadata": {},
     "output_type": "execute_result"
    }
   ],
   "source": [
    "sym.solve([F-8, 16-G], x1,x2)"
   ]
  },
  {
   "cell_type": "code",
   "execution_count": 37,
   "metadata": {
    "ExecuteTime": {
     "end_time": "2018-01-23T04:55:29.136651Z",
     "start_time": "2018-01-23T04:55:28.683311Z"
    }
   },
   "outputs": [
    {
     "data": {
      "image/png": "[encoded data removed]",
      "text/latex": [
       "$$\\left ( 2 \\sqrt{2}, \\quad 2 \\sqrt{2}\\right )$$"
      ],
      "text/plain": [
       "(2⋅√2, 2⋅√2)"
      ]
     },
     "execution_count": 37,
     "metadata": {},
     "output_type": "execute_result"
    }
   ],
   "source": [
    "sym.simplify(sym.solve([F-8, 16-G], x1,x2)[1])"
   ]
  },
  {
   "cell_type": "code",
   "execution_count": 38,
   "metadata": {
    "ExecuteTime": {
     "end_time": "2018-01-23T04:55:29.139659Z",
     "start_time": "2018-01-23T04:55:29.137655Z"
    }
   },
   "outputs": [],
   "source": [
    "c = 16"
   ]
  },
  {
   "cell_type": "code",
   "execution_count": 39,
   "metadata": {
    "ExecuteTime": {
     "end_time": "2018-01-23T04:55:30.850098Z",
     "start_time": "2018-01-23T04:55:30.449789Z"
    }
   },
   "outputs": [
    {
     "data": {
      "image/png": "[encoded data removed]",
      "text/latex": [
       "$$\\lambda \\left(- x_{1}^{2} - x_{2}^{2} + 16\\right) + x_{1} x_{2}$$"
      ],
      "text/plain": [
       "  ⎛    2     2     ⎞        \n",
       "λ⋅⎝- x₁  - x₂  + 16⎠ + x₁⋅x₂"
      ]
     },
     "execution_count": 39,
     "metadata": {},
     "output_type": "execute_result"
    }
   ],
   "source": [
    "L = F + lam*(c-G)\n",
    "L"
   ]
  },
  {
   "cell_type": "code",
   "execution_count": 40,
   "metadata": {
    "ExecuteTime": {
     "end_time": "2018-01-23T04:55:32.654888Z",
     "start_time": "2018-01-23T04:55:32.162347Z"
    }
   },
   "outputs": [
    {
     "data": {
      "image/png": "[encoded data removed]",
      "text/latex": [
       "$$- 2 \\lambda x_{1} + x_{2}$$"
      ],
      "text/plain": [
       "-2⋅λ⋅x₁ + x₂"
      ]
     },
     "execution_count": 40,
     "metadata": {},
     "output_type": "execute_result"
    }
   ],
   "source": [
    "L1 =sym.diff(L, x1)\n",
    "L1"
   ]
  },
  {
   "cell_type": "code",
   "execution_count": 41,
   "metadata": {
    "ExecuteTime": {
     "end_time": "2018-01-23T04:55:33.703420Z",
     "start_time": "2018-01-23T04:55:33.304226Z"
    }
   },
   "outputs": [
    {
     "data": {
      "image/png": "[encoded data removed]",
      "text/latex": [
       "$$- 2 \\lambda x_{2} + x_{1}$$"
      ],
      "text/plain": [
       "-2⋅λ⋅x₂ + x₁"
      ]
     },
     "execution_count": 41,
     "metadata": {},
     "output_type": "execute_result"
    }
   ],
   "source": [
    "L2=sym.diff(L, x2)\n",
    "L2"
   ]
  },
  {
   "cell_type": "code",
   "execution_count": 42,
   "metadata": {
    "ExecuteTime": {
     "end_time": "2018-01-23T04:55:36.315748Z",
     "start_time": "2018-01-23T04:55:35.921245Z"
    }
   },
   "outputs": [
    {
     "data": {
      "image/png": "[encoded data removed]",
      "text/latex": [
       "$$- x_{1}^{2} - x_{2}^{2} + 16$$"
      ],
      "text/plain": [
       "    2     2     \n",
       "- x₁  - x₂  + 16"
      ]
     },
     "execution_count": 42,
     "metadata": {},
     "output_type": "execute_result"
    }
   ],
   "source": [
    "Llam =sym.diff(L, lam)\n",
    "Llam"
   ]
  },
  {
   "cell_type": "code",
   "execution_count": 43,
   "metadata": {
    "ExecuteTime": {
     "end_time": "2018-01-23T04:55:36.956037Z",
     "start_time": "2018-01-23T04:55:36.517697Z"
    }
   },
   "outputs": [
    {
     "data": {
      "image/png": "[encoded data removed]",
      "text/latex": [
       "$$\\left [ \\left \\{ \\lambda : - \\frac{1}{2}, \\quad x_{1} : - 2 \\sqrt{2}, \\quad x_{2} : 2 \\sqrt{2}\\right \\}, \\quad \\left \\{ \\lambda : - \\frac{1}{2}, \\quad x_{1} : 2 \\sqrt{2}, \\quad x_{2} : - 2 \\sqrt{2}\\right \\}, \\quad \\left \\{ \\lambda : \\frac{1}{2}, \\quad x_{1} : - 2 \\sqrt{2}, \\quad x_{2} : - 2 \\sqrt{2}\\right \\}, \\quad \\left \\{ \\lambda : \\frac{1}{2}, \\quad x_{1} : 2 \\sqrt{2}, \\quad x_{2} : 2 \\sqrt{2}\\right \\}\\right ]$$"
      ],
      "text/plain": [
       "[{λ: -1/2, x₁: -2⋅√2, x₂: 2⋅√2}, {λ: -1/2, x₁: 2⋅√2, x₂: -2⋅√2}, {λ: 1/2, x₁: \n",
       "-2⋅√2, x₂: -2⋅√2}, {λ: 1/2, x₁: 2⋅√2, x₂: 2⋅√2}]"
      ]
     },
     "execution_count": 43,
     "metadata": {},
     "output_type": "execute_result"
    }
   ],
   "source": [
    "sol1=sym.solve([L1,L2,Llam], [x1,x2, lam], dict=True)\n",
    "sol1"
   ]
  },
  {
   "cell_type": "code",
   "execution_count": 44,
   "metadata": {
    "ExecuteTime": {
     "end_time": "2018-01-23T04:55:39.230860Z",
     "start_time": "2018-01-23T04:55:38.745351Z"
    }
   },
   "outputs": [
    {
     "data": {
      "image/png": "[encoded data removed]",
      "text/latex": [
       "$$\\left ( 2 \\sqrt{2}, \\quad 2 \\sqrt{2}, \\quad \\frac{1}{2}\\right )$$"
      ],
      "text/plain": [
       "(2⋅√2, 2⋅√2, 1/2)"
      ]
     },
     "execution_count": 44,
     "metadata": {},
     "output_type": "execute_result"
    }
   ],
   "source": [
    "sol1[3][x1],sol1[3][x2],sol1[3][lam]"
   ]
  },
  {
   "cell_type": "code",
   "execution_count": 45,
   "metadata": {
    "ExecuteTime": {
     "end_time": "2018-01-23T04:55:39.786272Z",
     "start_time": "2018-01-23T04:55:39.784252Z"
    }
   },
   "outputs": [],
   "source": [
    "#La.subs({x1:sol1[1][1]})"
   ]
  },
  {
   "cell_type": "code",
   "execution_count": 46,
   "metadata": {
    "ExecuteTime": {
     "end_time": "2018-01-23T04:55:40.825089Z",
     "start_time": "2018-01-23T04:55:40.433062Z"
    }
   },
   "outputs": [
    {
     "data": {
      "image/png": "[encoded data removed]",
      "text/latex": [
       "$$2 \\sqrt{2}$$"
      ],
      "text/plain": [
       "2⋅√2"
      ]
     },
     "execution_count": 46,
     "metadata": {},
     "output_type": "execute_result"
    }
   ],
   "source": [
    "F.diff(x1).subs(sol1[3])"
   ]
  },
  {
   "cell_type": "code",
   "execution_count": 47,
   "metadata": {
    "ExecuteTime": {
     "end_time": "2018-01-23T04:55:41.455561Z",
     "start_time": "2018-01-23T04:55:40.970045Z"
    }
   },
   "outputs": [
    {
     "data": {
      "image/png": "[encoded data removed]",
      "text/latex": [
       "$$2 \\sqrt{2}$$"
      ],
      "text/plain": [
       "2⋅√2"
      ]
     },
     "execution_count": 47,
     "metadata": {},
     "output_type": "execute_result"
    }
   ],
   "source": [
    "F.diff(x2).subs(sol1[3])"
   ]
  },
  {
   "cell_type": "code",
   "execution_count": 48,
   "metadata": {
    "ExecuteTime": {
     "end_time": "2018-01-23T04:55:41.902796Z",
     "start_time": "2018-01-23T04:55:41.498191Z"
    }
   },
   "outputs": [
    {
     "data": {
      "image/png": "[encoded data removed]",
      "text/latex": [
       "$$8$$"
      ],
      "text/plain": [
       "8"
      ]
     },
     "execution_count": 48,
     "metadata": {},
     "output_type": "execute_result"
    }
   ],
   "source": [
    "F.subs(sol1[3])"
   ]
  },
  {
   "cell_type": "code",
   "execution_count": null,
   "metadata": {},
   "outputs": [],
   "source": []
  },
  {
   "cell_type": "markdown",
   "metadata": {
    "collapsed": true
   },
   "source": [
    "ref:\n",
    "    \n",
    "https://www.math.uri.edu/~dobrush/mth243/matlab/ch15.html    "
   ]
  }
 ],
 "metadata": {
  "kernelspec": {
   "display_name": "Python 3",
   "language": "python",
   "name": "python3"
  },
  "language_info": {
   "codemirror_mode": {
    "name": "ipython",
    "version": 3
   },
   "file_extension": ".py",
   "mimetype": "text/x-python",
   "name": "python",
   "nbconvert_exporter": "python",
   "pygments_lexer": "ipython3",
   "version": "3.6.5"
  }
 },
 "nbformat": 4,
 "nbformat_minor": 2
}
