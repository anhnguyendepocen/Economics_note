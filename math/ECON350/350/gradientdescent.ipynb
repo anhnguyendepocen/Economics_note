{
 "cells": [
  {
   "cell_type": "markdown",
   "metadata": {},
   "source": [
    "\n",
    "\n",
    "```Matlab\n",
    "% To implement the gradient descent algorithm.\n",
    "% Example: [xs,fs,k] = grad_desc('f_rosen','g_rosen',[0; 2],1e-9);\n",
    "function [xs,fs,k] = grad_desc(fname,gname,x0,epsi)\n",
    "format compact\n",
    "format long\n",
    "k = 1;\n",
    "xk = x0;\n",
    "gk = feval(gname,xk);\n",
    "dk = -gk;\n",
    "ak = bt_lsearch(xk,dk,fname,gname);\n",
    "adk = ak*dk;\n",
    "er = norm(adk);\n",
    "while er >= epsi,\n",
    "  xk = xk + adk;\n",
    "  gk = feval(gname,xk);\n",
    "  dk = -gk;\n",
    "  ak = bt_lsearch(xk,dk,fname,gname);\n",
    "  adk = ak*dk;\n",
    "  er = norm(adk);\n",
    "  k = k + 1;\n",
    "end\n",
    "disp('solution:')\n",
    "xs = xk + adk\n",
    "disp('objective function at solution point:')\n",
    "fs = feval(fname,xs)\n",
    "format short\n",
    "disp('number of iterations performed:')\n",
    "k\n",
    "```"
   ]
  },
  {
   "cell_type": "code",
   "execution_count": null,
   "metadata": {},
   "outputs": [],
   "source": [
    "function grad_desc(fname, gname, x0,epsi = 1e-9)\n",
    "end"
   ]
  },
  {
   "cell_type": "code",
   "execution_count": null,
   "metadata": {},
   "outputs": [],
   "source": []
  },
  {
   "cell_type": "code",
   "execution_count": null,
   "metadata": {},
   "outputs": [],
   "source": []
  },
  {
   "cell_type": "code",
   "execution_count": null,
   "metadata": {},
   "outputs": [],
   "source": []
  }
 ],
 "metadata": {
  "kernelspec": {
   "display_name": "Julia 0.6.2",
   "language": "julia",
   "name": "julia-0.6"
  },
  "language_info": {
   "file_extension": ".jl",
   "mimetype": "application/julia",
   "name": "julia",
   "version": "0.6.2"
  }
 },
 "nbformat": 4,
 "nbformat_minor": 2
}
