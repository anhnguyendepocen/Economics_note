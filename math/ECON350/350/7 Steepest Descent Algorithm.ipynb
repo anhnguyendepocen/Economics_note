{
 "cells": [
  {
   "cell_type": "code",
   "execution_count": null,
   "metadata": {
    "collapsed": true
   },
   "outputs": [],
   "source": []
  },
  {
   "cell_type": "markdown",
   "metadata": {
    "collapsed": true
   },
   "source": [
    "## Dot Products, Norms, and Angles Between Vectors\n",
    "\n",
    "Suppose we have two nn-dimensional vectors xx and yy as shown below:\n",
    "\n",
    "$$x=\\left( \\begin{array}{c} x_1 \\\\ x_2 \\\\ x_3 \\\\ \\vdots \\\\x_n \\end{array} \\right) \\textrm{ and } y=\\left( \\begin{array}{c} y_1 \\\\ y_2 \\\\ y_3 \\\\ \\vdots \\\\ y_n \\end{array} \\right)$$\n",
    "\n",
    "### Dot Products\n",
    "\n",
    "We define the dot product of these two vectors, denoted $x⋅y$ in the following way\n",
    "\n",
    "$$x \\cdot y = x_1 y_1 + x_2 y_2 + x_3 y_3 + \\cdots + x_n y_n$$\n",
    "\n",
    "\n",
    "### norm of a vector\n",
    "\n",
    "We also define the norm of a vector $x$, denoted by $|x|$, by\n",
    "\n",
    "$$||x|| = \\sqrt{x_1^2 + x_2^2 + \\cdots + x_n^2}$$\n",
    "\n",
    "\n",
    "This is meant to be geometrically interpreted as the length of the vector, or equivalently, the distance between the points $(0,0,...,0)$ and $(x_1,x_2,...,x_n$.\n",
    "\n",
    "Interestingly, we note that this can be written in a much shorter way by invoking the dot product:\n",
    "\n",
    "$$||x|| = \\sqrt{x \\cdot x}$$\n",
    "\n",
    "\n",
    "\n",
    "\n",
    "### the triangle that can be formed from the vectors $x$, $y$, and $x−y$.\n",
    "\n",
    "Recall that the Law of Cosines, a generalization on the Pythagorean Theorem, gives us the relationship between the side lengths of an arbitrary triangle. Specifically, if a triangle has side lengths aa, bb, and cc, then\n",
    "$$a^2 + b^2 - 2ab\\cos \\theta = c^2$$\n",
    "\n",
    "where $θ$ is the angle between the sides of length $a$ and $b$.\n",
    "\n",
    "![](http://www.oxfordmathcenter.com/images/notes/168-00.png)\n",
    "\n",
    "Applying the Law of Cosines to this triangle, we have\n",
    "\n",
    "\n",
    "$$||x||^2 +||y||^2 - 2||x|| \\, ||y||\\cos \\theta = ||x-y||^2$$\n",
    "\n",
    "\n",
    "But this implies, using our observations about the dot product made above, that\n",
    "\n",
    "\n",
    "$$\\begin{array}{rcl} \n",
    "(x \\cdot x) + (y \\cdot y) - 2||x|| \\, ||y||\\cos \\theta & = & (x-y) \\cdot (x-y)\\\\ \n",
    "& = & x \\cdot (x-y) - y \\cdot (x-y)\\\\ \n",
    "& = & (x \\cdot x) - (x \\cdot y) - (y \\cdot x) + (y \\cdot y)\\\\ \n",
    "& = & (x \\cdot x) - (x \\cdot y) - (x \\cdot y) + (y \\cdot y)\\\\ \n",
    "& = & (x \\cdot x) - 2(x \\cdot y) + (y \\cdot y)\\\\ \n",
    "\\end{array}$$\n",
    "\n",
    "\n",
    "Subtracting the common $(x⋅x)$ and $(y⋅y)$ from both sides, we find\n",
    "\n",
    "\n",
    "$$- 2||x|| \\, ||y||\\cos \\theta = - 2(x \\cdot y)$$\n",
    "\n",
    "\n",
    "Which, solving for $cosθ$ tells us\n",
    "\n",
    "$$\\cos \\theta = \\frac{x \\cdot y}{||x|| \\, ||y||}$$\n",
    "\n",
    "\n",
    "\n",
    "ref: \n",
    "http://www.oxfordmathcenter.com/drupal7/node/168\n",
    "\n",
    "test01 2017 summer"
   ]
  },
  {
   "cell_type": "code",
   "execution_count": null,
   "metadata": {
    "collapsed": true
   },
   "outputs": [],
   "source": []
  },
  {
   "cell_type": "code",
   "execution_count": null,
   "metadata": {
    "collapsed": true
   },
   "outputs": [],
   "source": []
  },
  {
   "cell_type": "markdown",
   "metadata": {
    "collapsed": true
   },
   "source": [
    "## Visualization\n",
    "\n",
    "https://www.coursera.org/learn/machine-learning/lecture/8SpIM/gradient-descent\n",
    "\n",
    "\n",
    "https://www.khanacademy.org/math/multivariable-calculus/multivariable-derivatives/gradient-and-directional-derivatives/v/why-the-gradient-is-the-direction-of-steepest-ascent\n",
    "\n",
    "https://www.youtube.com/watch?v=IHZwWFHWa-w&t=2s"
   ]
  },
  {
   "cell_type": "markdown",
   "metadata": {},
   "source": [
    "https://gist.github.com/jiahao/1561144\n",
    "\n",
    "\n",
    "MatrixCalculus provides matrix calculus for everyone. It is an online tool that computes vector and matrix derivatives (matrix calculus).\n",
    "http://www.matrixcalculus.org/\n",
    "\n"
   ]
  },
  {
   "cell_type": "code",
   "execution_count": 1,
   "metadata": {},
   "outputs": [],
   "source": [
    "\n",
    "import numpy as np\n",
    "import matplotlib.cm as cm\n",
    "import matplotlib.mlab as mlab\n",
    "import matplotlib.pyplot as plt\n",
    "%matplotlib notebook\n",
    "import matplotlib as mpl\n",
    "mpl.rcParams['figure.dpi']= 120\n",
    "import sympy as sym\n",
    "sym.init_printing()\n",
    "x1,x2,alpha = sym.symbols('x_1 x_2 alpha ', positive = True)"
   ]
  },
  {
   "cell_type": "code",
   "execution_count": 2,
   "metadata": {},
   "outputs": [
    {
     "data": {
      "text/latex": [
       "$$f{\\left (\\bar{x} \\right )} + \\left(x - \\bar{x}\\right) \\left. \\frac{d}{d \\xi_{1}} f{\\left (\\xi_{1} \\right )} \\right|_{\\substack{ \\xi_{1}=\\bar{x} }} + \\frac{1}{2} \\left(x - \\bar{x}\\right)^{2} \\left. \\frac{d^{2}}{d \\xi_{1}^{2}}  f{\\left (\\xi_{1} \\right )} \\right|_{\\substack{ \\xi_{1}=\\bar{x} }} + \\mathcal{O}\\left(\\left(x - \\bar{x}\\right)^{3}; x\\rightarrow\\bar{x}\\right)$$"
      ],
      "text/plain": [
       "                                                ⎛  2        ⎞│                \n",
       "                                              2 ⎜ d         ⎟│                \n",
       "                                      (x - x̅) ⋅⎜────(f(ξ₁))⎟│                \n",
       "                                                ⎜   2       ⎟│                \n",
       "                 ⎛ d        ⎞│                  ⎝dξ₁        ⎠│ξ₁=x̅    ⎛      \n",
       "f(x̅) + (x - x̅)⋅⎜───(f(ξ₁))⎟│      + ───────────────────────────── + O⎝(x - x\n",
       "                 ⎝dξ₁       ⎠│ξ₁=x̅                 2                         \n",
       "\n",
       "            \n",
       "            \n",
       "            \n",
       "            \n",
       "  3        ⎞\n",
       "̅) ; x → x̅⎠\n",
       "            "
      ]
     },
     "execution_count": 2,
     "metadata": {},
     "output_type": "execute_result"
    }
   ],
   "source": [
    "from sympy import series\n",
    "x, xbar = sym.symbols(\"x,xbar\")\n",
    "f = sym.Function(\"f\")\n",
    "\n",
    "sym.series(f(x), x, x0=xbar, n=3)"
   ]
  },
  {
   "cell_type": "markdown",
   "metadata": {},
   "source": [
    "### Gradient descent method(梯度下降法)\n",
    "\n",
    "The algorithm of gradient descent method reads:\n",
    "\n",
    "1. Initialization: find a initial value of x0 in the feasible set\n",
    "\n",
    "2. Convergence Test: calculate the gradient of current value $g=\\Delta f(x)$, and know if it satisfy the convergent criteria.\n",
    "\n",
    "$$||\\delta x|| = ||\\alpha d|| <= \\epsilon$$\n",
    "\n",
    "$$x_{k+1} = x_k - \\alpha  d$$\n",
    "\n",
    "$$d = -g(x)$$\n",
    "\n",
    "$$g(x) = \\frac{\\partial f}{\\partial x}$$\n",
    "\n",
    "\n",
    "\n",
    "\n",
    "3. Update: if not converge, update $x_{i+1}=x_i - \\alpha g$, where $\\alpha$ is a small number to control the step size.\n",
    "\n",
    "\n",
    "$$\\Delta x = - \\alpha  g$$\n",
    "\n",
    "at direction $d$, we find the best $\\alpha$ by line search\n",
    "$$f(x)  = f{\\left (\\bar{x} \\right )} + \\left(x - \\bar{x}\\right) g(\\bar{x}) + \\frac{1}{2} \\left(x - \\bar{x}\\right)^T H \\left(x - \\bar{x}\\right)) $$\n",
    "\n",
    "\n",
    "$$f(x)= f(\\bar x + \\Delta x) = f{\\left (\\bar{x} \\right )} + \\Delta x g(\\bar{x}) + \\frac{1}{2} \\Delta x^T H \\Delta x $$\n",
    "\n",
    "\n",
    "$$f(x)  = f{\\left (\\bar{x} \\right )}  - \\alpha  g \\cdot g(\\bar{x}) + \\frac{1}{2} (\\alpha  g(\\bar{x}))^T H \\alpha g(\\bar{x}) $$\n",
    "\n",
    "$$f(x)  = f{\\left (\\bar{x} \\right )}  - \\alpha  g \\cdot g(\\bar{x}) + \\frac{1}{2} \\alpha^2  g(\\bar{x})^T H g(\\bar{x}) $$\n",
    "\n",
    "F.O.C results in\n",
    "\n",
    "$$\\alpha = \\frac{g^T g}{g^T H g}$$\n",
    "\n",
    "ref:\n",
    "https://en.wikipedia.org/wiki/Gradient_descent\n",
    "\n",
    "\n",
    "http://www.scipy-lectures.org/advanced/mathematical_optimization/index.html#gradient-based-methods\n",
    "\n",
    "\n",
    "https://www.safaribooksonline.com/library/view/hands-on-machine-learning/9781491962282/ch04.html\n",
    "\n",
    "\n",
    "\n",
    "\n",
    "\n"
   ]
  },
  {
   "cell_type": "markdown",
   "metadata": {},
   "source": [
    "![](http://zh.gluon.ai/_images/gd.png)"
   ]
  },
  {
   "cell_type": "markdown",
   "metadata": {},
   "source": [
    "#### overshoot\n",
    "\n",
    "If the step size or learning rate is too large, it will overshoot. \n",
    "\n",
    "![](http://zh.gluon.ai/_images/overshoot.png)\n",
    "\n",
    "https://awwapp.com/#\n",
    "\n",
    "online collaborate drawing board"
   ]
  },
  {
   "cell_type": "code",
   "execution_count": null,
   "metadata": {},
   "outputs": [],
   "source": []
  },
  {
   "cell_type": "markdown",
   "metadata": {
    "collapsed": true
   },
   "source": [
    "### Chinese lecture from Dr. Lu at UVic\n",
    "\n",
    "https://www.bilibili.com/video/av5400941/index_4.html?t=1764\n",
    "\n",
    "#### Gradient descent\n",
    "start at 40min: FOTS\n",
    "\n",
    "44min:  $d = -g$\n",
    "\n",
    "46min: decide $\\alpha$\n",
    "\n",
    "\n",
    "\n"
   ]
  },
  {
   "cell_type": "code",
   "execution_count": 3,
   "metadata": {},
   "outputs": [
    {
     "data": {
      "text/latex": [
       "$$\\left[\\begin{matrix}x_{1}\\\\x_{2}\\end{matrix}\\right]$$"
      ],
      "text/plain": [
       "⎡x₁⎤\n",
       "⎢  ⎥\n",
       "⎣x₂⎦"
      ]
     },
     "execution_count": 3,
     "metadata": {},
     "output_type": "execute_result"
    }
   ],
   "source": [
    "x = sym.Matrix([x1,x2])\n",
    "x"
   ]
  },
  {
   "cell_type": "code",
   "execution_count": null,
   "metadata": {},
   "outputs": [],
   "source": []
  },
  {
   "cell_type": "code",
   "execution_count": 4,
   "metadata": {},
   "outputs": [
    {
     "data": {
      "image/png": "[encoded data removed]",
      "text/latex": [
       "$$2 x_{1}^{2} - 2 x_{1} x_{2} + 2 x_{1} + x_{2}^{2} - 2 x_{2}$$"
      ],
      "text/plain": [
       "    2                      2       \n",
       "2⋅x₁  - 2⋅x₁⋅x₂ + 2⋅x₁ + x₂  - 2⋅x₂"
      ]
     },
     "execution_count": 4,
     "metadata": {},
     "output_type": "execute_result"
    }
   ],
   "source": [
    "f = 2*x1**2- 2*x1*x2 +x2**2 +2*x1-2*x2\n",
    "f"
   ]
  },
  {
   "cell_type": "code",
   "execution_count": 5,
   "metadata": {},
   "outputs": [],
   "source": [
    "from sympy.plotting import plot_parametric\n",
    "from sympy.plotting import plot3d"
   ]
  },
  {
   "cell_type": "code",
   "execution_count": 6,
   "metadata": {},
   "outputs": [
    {
     "data": {
      "image/png": "[encoded data removed]",
      "text/plain": [
       "<matplotlib.figure.Figure at 0x7f0bcff54630>"
      ]
     },
     "metadata": {},
     "output_type": "display_data"
    },
    {
     "data": {
      "text/plain": [
       "<sympy.plotting.plot.Plot at 0x7f0bcff54160>"
      ]
     },
     "execution_count": 6,
     "metadata": {},
     "output_type": "execute_result"
    }
   ],
   "source": [
    "plot3d(f, (x1, -3, 3), (x2, -3, 3))"
   ]
  },
  {
   "cell_type": "code",
   "execution_count": 7,
   "metadata": {},
   "outputs": [
    {
     "data": {
      "text/latex": [
       "$$\\left[\\begin{matrix}4 x_{1} - 2 x_{2} + 2\\\\- 2 x_{1} + 2 x_{2} - 2\\end{matrix}\\right]$$"
      ],
      "text/plain": [
       "⎡4⋅x₁ - 2⋅x₂ + 2 ⎤\n",
       "⎢                ⎥\n",
       "⎣-2⋅x₁ + 2⋅x₂ - 2⎦"
      ]
     },
     "execution_count": 7,
     "metadata": {},
     "output_type": "execute_result"
    }
   ],
   "source": [
    "g =sym.Matrix([f]).jacobian(x).T\n",
    "g"
   ]
  },
  {
   "cell_type": "code",
   "execution_count": 8,
   "metadata": {},
   "outputs": [
    {
     "data": {
      "text/latex": [
       "$$\\left[\\begin{matrix}4 & -2\\\\-2 & 2\\end{matrix}\\right]$$"
      ],
      "text/plain": [
       "⎡4   -2⎤\n",
       "⎢      ⎥\n",
       "⎣-2  2 ⎦"
      ]
     },
     "execution_count": 8,
     "metadata": {},
     "output_type": "execute_result"
    }
   ],
   "source": [
    "H = sym.hessian(f,x)\n",
    "H"
   ]
  },
  {
   "cell_type": "code",
   "execution_count": 9,
   "metadata": {},
   "outputs": [
    {
     "data": {
      "image/png": "[encoded data removed]",
      "text/latex": [
       "$$2 x_{1}^{2} - 2 x_{1} x_{2} + 2 x_{1} + x_{2}^{2} - 2 x_{2}$$"
      ],
      "text/plain": [
       "    2                      2       \n",
       "2⋅x₁  - 2⋅x₁⋅x₂ + 2⋅x₁ + x₂  - 2⋅x₂"
      ]
     },
     "execution_count": 9,
     "metadata": {},
     "output_type": "execute_result"
    }
   ],
   "source": [
    "sym.series(f, x, x0=xbar, n=3)"
   ]
  },
  {
   "cell_type": "code",
   "execution_count": 12,
   "metadata": {},
   "outputs": [
    {
     "data": {
      "image/png": "[encoded data removed]",
      "text/latex": [
       "$$2 x_{1}^{2} - 2 x_{1} x_{2} + 2 x_{1} + x_{2}^{2} - 2 x_{2}$$"
      ],
      "text/plain": [
       "    2                      2       \n",
       "2⋅x₁  - 2⋅x₁⋅x₂ + 2⋅x₁ + x₂  - 2⋅x₂"
      ]
     },
     "execution_count": 12,
     "metadata": {},
     "output_type": "execute_result"
    }
   ],
   "source": [
    "sym.series(f, x, x0=xbar, n=2)"
   ]
  },
  {
   "cell_type": "code",
   "execution_count": 13,
   "metadata": {},
   "outputs": [
    {
     "data": {
      "image/png": "[encoded data removed]",
      "text/latex": [
       "$$2 x_{1}^{2} - 2 x_{1} x_{2} + 2 x_{1} + x_{2}^{2} - 2 x_{2}$$"
      ],
      "text/plain": [
       "    2                      2       \n",
       "2⋅x₁  - 2⋅x₁⋅x₂ + 2⋅x₁ + x₂  - 2⋅x₂"
      ]
     },
     "execution_count": 13,
     "metadata": {},
     "output_type": "execute_result"
    }
   ],
   "source": [
    "sym.series(f, x, x0=xbar, n=4)"
   ]
  },
  {
   "cell_type": "code",
   "execution_count": 10,
   "metadata": {},
   "outputs": [
    {
     "data": {
      "text/latex": [
       "$$\\left[\\begin{matrix}\\frac{\\left(- 2 x_{1} + 2 x_{2} - 2\\right)^{2} + \\left(4 x_{1} - 2 x_{2} + 2\\right)^{2}}{104 x_{1}^{2} - 128 x_{1} x_{2} + 128 x_{1} + 40 x_{2}^{2} - 80 x_{2} + 40}\\end{matrix}\\right]$$"
      ],
      "text/plain": [
       "⎡                       2                    2     ⎤\n",
       "⎢     (-2⋅x₁ + 2⋅x₂ - 2)  + (4⋅x₁ - 2⋅x₂ + 2)      ⎥\n",
       "⎢──────────────────────────────────────────────────⎥\n",
       "⎢      2                             2             ⎥\n",
       "⎣104⋅x₁  - 128⋅x₁⋅x₂ + 128⋅x₁ + 40⋅x₂  - 80⋅x₂ + 40⎦"
      ]
     },
     "execution_count": 10,
     "metadata": {},
     "output_type": "execute_result"
    }
   ],
   "source": [
    "alpha = (g.T*g)/(g.T*H*g)\n",
    "alpha"
   ]
  },
  {
   "cell_type": "code",
   "execution_count": 11,
   "metadata": {},
   "outputs": [
    {
     "data": {
      "text/latex": [
       "$$\\left[\\begin{matrix}- \\frac{\\left(\\left(- 2 x_{1} + 2 x_{2} - 2\\right)^{2} + \\left(4 x_{1} - 2 x_{2} + 2\\right)^{2}\\right) \\left(4 x_{1} - 2 x_{2} + 2\\right)}{104 x_{1}^{2} - 128 x_{1} x_{2} + 128 x_{1} + 40 x_{2}^{2} - 80 x_{2} + 40} & - \\frac{\\left(\\left(- 2 x_{1} + 2 x_{2} - 2\\right)^{2} + \\left(4 x_{1} - 2 x_{2} + 2\\right)^{2}\\right) \\left(- 2 x_{1} + 2 x_{2} - 2\\right)}{104 x_{1}^{2} - 128 x_{1} x_{2} + 128 x_{1} + 40 x_{2}^{2} - 80 x_{2} + 40}\\end{matrix}\\right]$$"
      ],
      "text/plain": [
       "⎡ ⎛                  2                    2⎞                      ⎛           \n",
       "⎢-⎝(-2⋅x₁ + 2⋅x₂ - 2)  + (4⋅x₁ - 2⋅x₂ + 2) ⎠⋅(4⋅x₁ - 2⋅x₂ + 2)   -⎝(-2⋅x₁ + 2⋅\n",
       "⎢──────────────────────────────────────────────────────────────  ─────────────\n",
       "⎢            2                             2                                  \n",
       "⎣      104⋅x₁  - 128⋅x₁⋅x₂ + 128⋅x₁ + 40⋅x₂  - 80⋅x₂ + 40               104⋅x₁\n",
       "\n",
       "       2                    2⎞                    ⎤\n",
       "x₂ - 2)  + (4⋅x₁ - 2⋅x₂ + 2) ⎠⋅(-2⋅x₁ + 2⋅x₂ - 2) ⎥\n",
       "──────────────────────────────────────────────────⎥\n",
       "2                             2                   ⎥\n",
       "  - 128⋅x₁⋅x₂ + 128⋅x₁ + 40⋅x₂  - 80⋅x₂ + 40      ⎦"
      ]
     },
     "execution_count": 11,
     "metadata": {},
     "output_type": "execute_result"
    }
   ],
   "source": [
    "dx = -alpha*g.T\n",
    "dx"
   ]
  },
  {
   "cell_type": "markdown",
   "metadata": {},
   "source": [
    "## Starting point at (3,3)"
   ]
  },
  {
   "cell_type": "code",
   "execution_count": 14,
   "metadata": {},
   "outputs": [
    {
     "data": {
      "text/latex": [
       "$$\\left[\\begin{matrix}0.207317073170732\\end{matrix}\\right]$$"
      ],
      "text/plain": [
       "[0.207317073170732]"
      ]
     },
     "execution_count": 14,
     "metadata": {},
     "output_type": "execute_result"
    }
   ],
   "source": [
    "alpha.subs({x1:3,x2:3}).evalf()"
   ]
  },
  {
   "cell_type": "code",
   "execution_count": 15,
   "metadata": {},
   "outputs": [
    {
     "data": {
      "text/latex": [
       "$$\\left[\\begin{matrix}-1.65853658536585 & 0.414634146341463\\end{matrix}\\right]$$"
      ],
      "text/plain": [
       "[-1.65853658536585  0.414634146341463]"
      ]
     },
     "execution_count": 15,
     "metadata": {},
     "output_type": "execute_result"
    }
   ],
   "source": [
    "dx.subs({x1:3,x2:3}).evalf()"
   ]
  },
  {
   "cell_type": "markdown",
   "metadata": {},
   "source": [
    "### Convert sympy symbolic function to numpy function"
   ]
  },
  {
   "cell_type": "code",
   "execution_count": 16,
   "metadata": {},
   "outputs": [],
   "source": [
    "x0 = np.array([3, 3])"
   ]
  },
  {
   "cell_type": "code",
   "execution_count": 17,
   "metadata": {},
   "outputs": [],
   "source": [
    "f_numpy = sym.lambdify(x,f,'numpy')\n",
    "\n",
    "# *x0 devide x0 to 2 items \n",
    "# generally in Python you can use the * operator to unpack array values.\n",
    "#  adding brackets around the variable in lambdify also works, such as: gradFunc = sym.lambdify([x], g, modules=\"numpy\")"
   ]
  },
  {
   "cell_type": "code",
   "execution_count": 18,
   "metadata": {},
   "outputs": [
    {
     "data": {
      "text/plain": [
       "9"
      ]
     },
     "execution_count": 18,
     "metadata": {},
     "output_type": "execute_result"
    }
   ],
   "source": [
    "f_numpy( x0[0],x0[1] )"
   ]
  },
  {
   "cell_type": "code",
   "execution_count": 19,
   "metadata": {},
   "outputs": [
    {
     "data": {
      "text/plain": [
       "array([[ 8],\n",
       "       [-2]])"
      ]
     },
     "execution_count": 19,
     "metadata": {},
     "output_type": "execute_result"
    }
   ],
   "source": [
    "g_numpy = sym.lambdify(x,g,'numpy')\n",
    "g_numpy(x0[0],x0[1] )\n",
    "#https://stackoverflow.com/questions/34664359/how-to-make-a-sympy-lambdifyed-function-accept-array-input"
   ]
  },
  {
   "cell_type": "code",
   "execution_count": 20,
   "metadata": {},
   "outputs": [
    {
     "data": {
      "text/plain": [
       "array([[ 0.20731707]])"
      ]
     },
     "execution_count": 20,
     "metadata": {},
     "output_type": "execute_result"
    }
   ],
   "source": [
    "alpha_numpy = sym.lambdify(x,alpha,'numpy')\n",
    "alpha_numpy(x0[0],x0[1] )"
   ]
  },
  {
   "cell_type": "code",
   "execution_count": 21,
   "metadata": {},
   "outputs": [
    {
     "data": {
      "text/plain": [
       "array([-1.65853659,  0.41463415])"
      ]
     },
     "execution_count": 21,
     "metadata": {},
     "output_type": "execute_result"
    }
   ],
   "source": [
    "solution = [0,1]\n",
    "#x_solution\n",
    "\n",
    "# just for visualization\n",
    "xx, yy = np.meshgrid(np.linspace(-1,3.5, 50), np.linspace(0,3.5, 50))\n",
    "#zz = 2*xx**2 - 2*xx*yy +yy**2 +2*xx-2*yy\n",
    "zz = f_numpy(xx,yy)\n",
    "x0 = np.array([3, 3])\n",
    "dx = - alpha_numpy(x0[0],x0[1])*g_numpy(x0[0],x0[1]).T\n",
    "dx[0]"
   ]
  },
  {
   "cell_type": "code",
   "execution_count": 22,
   "metadata": {},
   "outputs": [],
   "source": [
    "x =x0\n",
    "x=x0 + dx[0]"
   ]
  },
  {
   "cell_type": "code",
   "execution_count": null,
   "metadata": {},
   "outputs": [],
   "source": []
  },
  {
   "cell_type": "code",
   "execution_count": 23,
   "metadata": {},
   "outputs": [
    {
     "name": "stdout",
     "output_type": "stream",
     "text": [
      "x: [ 1.34146341  3.41463415] f(x): 1.9512195122 at iteration: 1\n",
      "x: [ 0.88536585  1.5902439 ] f(x): -0.129030339084 at iteration: 2\n",
      "x: [ 0.3958953   1.71261154] f(x): -0.742957734217 at iteration: 3\n",
      "x: [ 0.2612909   1.17419393] f(x): -0.924141184976 at iteration: 4\n",
      "x: [ 0.11683739  1.21030731] f(x): -0.977612398493 at iteration: 5\n",
      "x: [ 0.07711268  1.05140845] f(x): -0.99339292736 at iteration: 6\n",
      "x: [ 0.03448128  1.0620663 ] f(x): -0.998050107831 at iteration: 7\n",
      "x: [ 0.02275764  1.01517176] f(x): -0.999424544018 at iteration: 8\n",
      "x: [ 0.01017618  1.01831713] f(x): -0.999830170308 at iteration: 9\n",
      "x: [ 0.00671628  1.00447752] f(x): -0.99994987953 at iteration: 10\n",
      "x: [ 0.00300321  1.00540579] f(x): -0.999985208349 at iteration: 11\n",
      "x: [ 0.00198212  1.00132141] f(x): -0.999995634659 at iteration: 12\n",
      "x: [  8.86314623e-04   1.00159537e+00] f(x): -0.999998711692 at iteration: 13\n",
      "x: [  5.84967651e-04   1.00038998e+00] f(x): -0.999999619792 at iteration: 14\n",
      "x: [  2.61570901e-04   1.00047083e+00] f(x): -0.999999887792 at iteration: 15\n",
      "x: [  1.72636795e-04   1.00011509e+00] f(x): -0.999999966885 at iteration: 16\n",
      "x: [  7.71953160e-05   1.00013895e+00] f(x): -0.999999990227 at iteration: 17\n",
      "x: [  5.09489014e-05   1.00003397e+00] f(x): -0.999999997116 at iteration: 18\n",
      "x: [  2.27820268e-05   1.00004101e+00] f(x): -0.999999999149 at iteration: 19\n",
      "x: [  1.50361353e-05   1.00001002e+00] f(x): -0.999999999749 at iteration: 20\n",
      "x: [  6.72348398e-06   1.00001210e+00] f(x): -0.999999999926 at iteration: 21\n"
     ]
    }
   ],
   "source": [
    "steps = [x0]\n",
    "x = x0\n",
    "eps = 10e-6\n",
    "i =0\n",
    "while np.linalg.norm(dx[0])> eps:\n",
    "    dx = - alpha_numpy(*x)*g_numpy(*x).T\n",
    "    x = x + dx[0]\n",
    "    steps.append(x)\n",
    "    i+=1\n",
    "    print(\"x:\",x,\"f(x):\" ,f_numpy(x[0],x[1]),\"at iteration:\", i)\n",
    "\n",
    "# for i in range(50):\n",
    "#     dx = - alpha_numpy(*x)*g_numpy(*x).T\n",
    "#     x = x + dx[0]\n",
    "#     steps.append(x)\n",
    "#     print(\"x:\",x,\"f(x):\" ,f_numpy(x[0],x[1]),\"at iteration:\", i)\n",
    "steps = np.array(steps)"
   ]
  },
  {
   "cell_type": "code",
   "execution_count": 24,
   "metadata": {},
   "outputs": [
    {
     "data": {
      "image/png": "[encoded data removed]",
      "text/latex": [
       "$$8.56848166324e-06$$"
      ],
      "text/plain": [
       "8.5684816632436222e-06"
      ]
     },
     "execution_count": 24,
     "metadata": {},
     "output_type": "execute_result"
    }
   ],
   "source": [
    "np.linalg.norm(dx[0])"
   ]
  },
  {
   "cell_type": "code",
   "execution_count": 25,
   "metadata": {
    "scrolled": false
   },
   "outputs": [
    {
     "data": {
      "image/png": "[encoded data removed]",
      "text/plain": [
       "<matplotlib.figure.Figure at 0x7f0bcf19d588>"
      ]
     },
     "metadata": {},
     "output_type": "display_data"
    }
   ],
   "source": [
    "fig, ax = plt.subplots()\n",
    "#ax.contourf(xx, yy, zz, np.logspace(-5, 3, 60), cmap=\"YlGn_r\");\n",
    "csf = ax.contourf(xx, yy, zz,16, alpha=.75);\n",
    "# Create a simple contour plot with labels using default colors.  The\n",
    "# inline argument to clabel will control whether the labels are draw\n",
    "# over the line segments of the contour, removing the lines beneath\n",
    "# the label\n",
    "cs = ax.contour(xx, yy, zz,16)\n",
    "plt.clabel(cs, inline=1, fontsize=10)\n",
    "ax.set_xlim(-1,3.5)\n",
    "ax.set_ylim(0,3.5)\n",
    "ax.plot(steps[:,0], steps[:,1], label = \"path\")\n",
    "ax.plot((x0[0]), (x0[1]), 'o', color='y', label = \"starting point\")\n",
    "ax.plot(solution[0], solution[1], 'o', color='r', label = \"solution\");\n",
    "plt.title('Steepest Descent Algorithm')\n",
    "plt.xlabel('x1')\n",
    "plt.ylabel('x2')\n",
    "# Make a colorbar for the ContourSet returned by the contourf call.\n",
    "fig.colorbar(csf,ax = ax)\n",
    "# Add the contour line levels to the colorbar\n",
    "#cbar.add_lines(cs)\n",
    "ax.legend( );\n",
    "plt.show()"
   ]
  },
  {
   "cell_type": "code",
   "execution_count": 26,
   "metadata": {},
   "outputs": [
    {
     "data": {
      "image/png": "[encoded data removed]",
      "text/plain": [
       "<matplotlib.figure.Figure at 0x7f0bcf19d128>"
      ]
     },
     "metadata": {},
     "output_type": "display_data"
    }
   ],
   "source": [
    "import numpy as np\n",
    "import matplotlib.pyplot as plt\n",
    "\n",
    "def f(x):\n",
    "    return x * np.cos(np.pi * x)\n",
    "\n",
    "x = np.arange(-1.0, 2.0, 0.1)\n",
    "fig = plt.figure()\n",
    "subplt = fig.add_subplot(111)\n",
    "subplt.annotate('local minimum', xy=(-0.3, -0.2), xytext=(-0.8, -1.0),\n",
    "            arrowprops=dict(facecolor='black', shrink=0.05))\n",
    "subplt.annotate('global minimum', xy=(1.1, -0.9), xytext=(0.7, 0.1),\n",
    "            arrowprops=dict(facecolor='black', shrink=0.05))\n",
    "plt.plot(x, f(x))\n",
    "plt.xlabel('x')\n",
    "plt.ylabel('f(x)')\n",
    "plt.show()"
   ]
  },
  {
   "cell_type": "markdown",
   "metadata": {
    "collapsed": true
   },
   "source": [
    "## Dichotomous Search\n",
    "\n",
    "1-d optimization\n",
    "\n",
    "https://www.bilibili.com/video/av5400941/?from=search&seid=201449505216783598#page=2\n",
    "start at 40min\n",
    "\n",
    "similar to Golden section search\n",
    "\n",
    "```\n",
    "%  Program: DichotomousSearch.m\n",
    "%  Title: Dichotomous Search\n",
    "%  Authors:  A. Antoniou, W.-S. Lu, A. Mehlenbacher, University of Victoria\n",
    "%  Description: Implements the dichotomous search.\n",
    "%  Input:\n",
    "%       fname: objective function defined in an m-file\n",
    "%       xL,xU: initial interval of uncertainty \n",
    "%         eps: epsilon for interval around current point\n",
    "%        conv: final range of uncertainty (convergence criterion)\n",
    "%  Output:\n",
    "%    xbar: minimum point\n",
    "%    fbar: objective function evaluated at xbar\n",
    "%       k: number of iterations at convergence\n",
    "%  Examples:\n",
    "%  [xbar,fbar,k] = DichotomousSearch('myquartic',-2,1,0.005,1e-6)\n",
    "%  [xbar,fbar,k] = DichotomousSearch('mysin',0.5*pi,2*pi,0.005,1e-6)\n",
    "%=============================================================\n",
    "function [xbar,fbar,k] = DichotomousSearch(fname,xL,xU,eps,conv)\n",
    "disp(' ')\n",
    "disp('Program DichotomousSearch.m')\n",
    "k = 0;\n",
    "rou = xU - xL;\n",
    "format short\n",
    "%Search while the interval is greater than the convergence criterion\n",
    "while rou > conv\n",
    "   k = k + 1;\n",
    "   kcol(k)=k;  \n",
    "   x1 = 0.5*(xL + xU);\n",
    "   epsi = eps*rou;\n",
    "   xa = x1 - epsi;\n",
    "   xb = x1 + epsi;\n",
    "   %%%%%%%%%%%%%%%%%%%%%%%%%%%%%%%%%%%%%%%%%%%%%%%%%%%%%%%%\n",
    "   %1: Evaluate the function at xa and xb\n",
    "   %%%%%%%%%%%%%%%%%%%%%%%%%%%%%%%%%%%%%%%%%%%%%%%%%%%%%%%%\n",
    "   fxa = feval(fname,xa);\n",
    "   fxb = feval(fname,xb);\n",
    "   %%%%%%%%%%%%%%%%%%%%%%%%%%%%%%%%%%%%%%%%%%%%%%%%%%%%%%%%\n",
    "   %2: Create x value arrays for display\n",
    "   %%%%%%%%%%%%%%%%%%%%%%%%%%%%%%%%%%%%%%%%%%%%%%%%%%%%%%%%\n",
    "   xLcol(k) = xL;\n",
    "   xUcol(k) = xU;\n",
    "   xacol(k) = xa;\n",
    "   x1col(k) = x1;\n",
    "   xbcol(k) = xb;\n",
    "   %%%%%%%%%%%%%%%%%%%%%%%%%%%%%%%%%%%%%%%%%%%%%%%%%%%%%%%%\n",
    "   %3: Create function arrays for display\n",
    "   %%%%%%%%%%%%%%%%%%%%%%%%%%%%%%%%%%%%%%%%%%%%%%%%%%%%%%%%\n",
    "   fxacol(k) = fxa;\n",
    "   fxbcol(k) = fxb;\n",
    "   %%%%%%%%%%%%%%%%%%%%%%%%%%%%%%%%%%%%%%%%%%%%%%%%%%%%%%%%\n",
    "   %4: Revise the range of uncertainty for next iteration\n",
    "   %%%%%%%%%%%%%%%%%%%%%%%%%%%%%%%%%%%%%%%%%%%%%%%%%%%%%%%%\n",
    "   if fxa < fxb\n",
    "      xU = xb;\n",
    "   elseif fxa > fxb\n",
    "      xL = xa;\n",
    "   else\n",
    "      xL = xa;\n",
    "      xU = xb;\n",
    "   end\n",
    "   rou = xU - xL; \n",
    "end\n",
    "xbar = 0.5*(xL + xU);\n",
    "fbar = feval(fname,xbar);\n",
    "%Display final results\n",
    "results = [kcol;xLcol;xUcol;xacol;x1col;xbcol;fxacol;fxbcol];\n",
    "results'\n",
    "end\n",
    "```"
   ]
  },
  {
   "cell_type": "code",
   "execution_count": null,
   "metadata": {},
   "outputs": [],
   "source": []
  },
  {
   "cell_type": "markdown",
   "metadata": {
    "collapsed": true
   },
   "source": [
    "```Matlab\n",
    "function DichotomousSearchPlot(fname,xL,xU,yvalue)\n",
    "% Author:  A. Mehlenbacher, University of Victoria\n",
    "%Example:  DichotomousSearchPlot('myquartic',-2,1,-4)\n",
    "%Example:  DichotomousSearchPlot('mysin',1.57,6.28,-1)\n",
    "%Create x values for plot\n",
    "x = linspace(xL, xU, 50);  \n",
    "%Evaluate the function at these x values\n",
    "y = feval(fname,x);\n",
    "%Plot the x and y values\n",
    "plot(x,y)\n",
    "%Hold the plot for adding points\n",
    "hold on\n",
    "%Plot points and iteration numbers on the x axis (at yvalue level)\n",
    "%k=1:  Initial XL and XU\n",
    "xvalue = xL;\n",
    "plot(xvalue, yvalue, 'r+')\n",
    "text(xvalue, yvalue, '1')\n",
    "xvalue = xU;\n",
    "plot(xvalue, yvalue, 'r+')\n",
    "text(xvalue, yvalue, '1')\n",
    "%For the following, replace xL with the new value for xL or xU\n",
    "%k=2: \n",
    "xvalue = newvalue;\n",
    "plot(xvalue, yvalue, 'r+')\n",
    "text(xvalue, yvalue, '2')\n",
    "%k=3: \n",
    "xvalue = newvalue;\n",
    "plot(xvalue, yvalue, 'r+')\n",
    "text(xvalue, yvalue, '3')\n",
    "%k=4: \n",
    "xvalue = newvalue;\n",
    "plot(xvalue, yvalue, 'r+')\n",
    "text(xvalue, yvalue, '4')\n",
    "%k=5: \n",
    "xvalue = newvalue;\n",
    "plot(xvalue, yvalue, 'r+')\n",
    "text(xvalue, yvalue, '5')\n",
    "%k=6: \n",
    "xvalue = newvalue;\n",
    "plot(xvalue, yvalue, 'r+')\n",
    "text(xvalue, yvalue, '6')\n",
    "%\n",
    "hold off;\n",
    "end\n",
    "```"
   ]
  },
  {
   "cell_type": "code",
   "execution_count": null,
   "metadata": {},
   "outputs": [],
   "source": []
  },
  {
   "cell_type": "markdown",
   "metadata": {},
   "source": [
    "## Line search\n",
    "\n",
    "https://en.wikipedia.org/wiki/Line_search\n",
    "\n",
    "https://www.bilibili.com/video/av5400941/?from=search&seid=201449505216783598#page=2\n",
    "start at 30min\n",
    "\n",
    "\n",
    "In optimization, the line search strategy is one of two basic iterative approaches to find a local minimum ${\\displaystyle \\mathbf {x} ^{*}} $ of an objective function ${\\displaystyle f:\\mathbb {R} ^{n}\\to \\mathbb {R} } $ . \n",
    "\n",
    "\n",
    "Here is an example gradient method that uses a line search in step 4.\n",
    "\n",
    "Set iteration counter ${\\displaystyle \\displaystyle k=0} $, and make an initial guess ${\\displaystyle \\mathbf {x} _{0}} $ for the minimum\n",
    "\n",
    "Repeat:\n",
    "\n",
    "- Compute a descent direction ${\\displaystyle \\mathbf {p} _{k}} $\n",
    "\n",
    "- Choose ${\\displaystyle \\alpha _{k}} $ to 'loosely' minimize ${\\displaystyle h(\\alpha )=f(\\mathbf {x} _{k}+\\alpha \\mathbf {p} _{k})} $ over ${\\displaystyle \\alpha \\in \\mathbb {R} _{+}} $\n",
    "\n",
    "- Update ${\\displaystyle \\mathbf {x} _{k+1}=\\mathbf {x} _{k}+\\alpha _{k}\\mathbf {p} _{k}} $, and ${\\displaystyle k=k+1} $\n",
    "\n",
    "- Until ${\\displaystyle \\|\\nabla f(\\mathbf {x} _{k})\\|} < tolerance$\n",
    "\n",
    "\n",
    "\n",
    "Line search in this course refer to at the step3 to decide which $\\alpha$ is the best choice.\n",
    "\n",
    "\n",
    "The `inex_lsearch` gives us back the best $\\alpha$"
   ]
  },
  {
   "cell_type": "markdown",
   "metadata": {
    "collapsed": true
   },
   "source": [
    "```Matlab\n",
    "% Program: inex_lsearch_econ350.m\n",
    "% Title: Inexact Line Search\n",
    "% Description: Implements Fletcher's inexact line search \n",
    "% Authors:  A. Antoniou, W.-S. Lu, A. Mehlenbacher, University of Victoria\n",
    "% Input:\n",
    "% x: initial point\n",
    "% s: search direction\n",
    "% fname: objective function to be minimized along the direction of s\n",
    "% gname: gradient of objective function fname\n",
    "% Returns alpha\n",
    "%========================================================================\n",
    "function alpha = inex_lsearch_econ350(xk,s,fname,gname)\n",
    "k = 0;\n",
    "m = 0;\n",
    "tau = 0.1;\n",
    "chi = 0.75;\n",
    "rho = 0.1;  %For most accurate estimate\n",
    "sigma = 0.1; \n",
    "mhat = 400;\n",
    "epsilon = 1e-10;\n",
    "xk = xk(:);\n",
    "s = s(:);\n",
    "%%%%%%%%%%%%%%%%%%%%%%%%%%%%%%%%%%%%%%%%%%%%%%%%%%%%%%%%%\n",
    "%0: Initialize\n",
    "%%%%%%%%%%%%%%%%%%%%%%%%%%%%%%%%%%%%%%%%%%%%%%%%%%%%%%%%%\n",
    "f0 = feval(fname,xk);\n",
    "gk = feval(gname,xk);\n",
    "m = m+2;\n",
    "deltaf0 = f0;\n",
    "dk = s;\n",
    "aL = 0;\n",
    "aU = 1e99;\n",
    "fL = f0;\n",
    "dfL = gk'*dk;\n",
    "if abs(dfL) > epsilon\n",
    "   a0 = -2*deltaf0/dfL;\n",
    "else\n",
    "   a0 = 1;\n",
    "end\n",
    "if ((a0 <= 1e-9)||(a0 > 1))\n",
    "  a0 = 1;\n",
    "end\n",
    "%Loop until break \n",
    "while 1\n",
    "    deltak = a0*dk;\n",
    "    f0 = feval(fname,xk+deltak);\n",
    "    m = m + 1;\n",
    "    %%%%%%%%%%%%%%%%%%%%%%%%%%%%%%%%%%%%%%%%%%%%%%%%%%%%%%%%%\n",
    "    %1: a0 to the right of aU\n",
    "    %%%%%%%%%%%%%%%%%%%%%%%%%%%%%%%%%%%%%%%%%%%%%%%%%%%%%%%%%\n",
    "    if ((f0 > (fL + rho*(a0 - aL)*dfL)) & (abs(fL - f0) > epsilon) & (m < mhat))\n",
    "        if (a0 < aU)\n",
    "          aU = a0;\n",
    "        end\n",
    "        %%%%%%%%%%%%%%%%%%%%%%%%%%%%%%%%%%%%%%%%%%%%%%%%%%%%%%%%%\n",
    "        %2:  Compute new a0\n",
    "        %%%%%%%%%%%%%%%%%%%%%%%%%%%%%%%%%%%%%%%%%%%%%%%%%%%%%%%%%\n",
    "        a0hat = aL + ((a0 - aL)^2*dfL)/(2*(fL - f0 + (a0 - aL)*dfL));\n",
    "        a0Lhat = aL + tau*(aU - aL);\n",
    "        if (a0hat < a0Lhat)\n",
    "           a0hat = a0Lhat;\n",
    "        end\n",
    "        a0Uhat = aU - tau*(aU - aL);\n",
    "        if (a0hat > a0Uhat)\n",
    "           a0hat = a0Uhat;\n",
    "        end\n",
    "        a0 = a0hat;\n",
    "    else\n",
    "    %%%%%%%%%%%%%%%%%%%%%%%%%%%%%%%%%%%%%%%%%%%%%%%%%%%%%%%%%\n",
    "    %3: a0 to the left of aL\n",
    "    %%%%%%%%%%%%%%%%%%%%%%%%%%%%%%%%%%%%%%%%%%%%%%%%%%%%%%%%%\n",
    "        gtemp = feval(gname,xk+a0*dk);\n",
    "        df0 = gtemp'*dk;\n",
    "        m = m + 1;\n",
    "        if (((df0 < sigma*dfL) & (abs(fL - f0) > epsilon) & (m < mhat) & (dfL ~= df0)))\n",
    "            deltaa0 = (a0 - aL)*df0/(dfL - df0);\n",
    "        %%%%%%%%%%%%%%%%%%%%%%%%%%%%%%%%%%%%%%%%%%%%%%%%%%%%%%%%%\n",
    "        %4:  Compute new a0\n",
    "        %%%%%%%%%%%%%%%%%%%%%%%%%%%%%%%%%%%%%%%%%%%%%%%%%%%%%%%%%\n",
    "            if (deltaa0 <= 0)\n",
    "                a0hat = 2*a0;\n",
    "            else\n",
    "                a0hat = a0 + deltaa0;\n",
    "            end\n",
    "            a0Uhat = a0 + chi*(aU - a0);\n",
    "            if (a0hat > a0Uhat)\n",
    "                a0hat = a0Uhat;\n",
    "            end\n",
    "            aL = a0;\n",
    "            a0 = a0hat;\n",
    "            fL = f0;\n",
    "            dfL = df0;\n",
    "        else\n",
    "        %%%%%%%%%%%%%%%%%%%%%%%%%%%%%%%%%%%%%%%%%%%%%%%%%%%%%%%%%\n",
    "        %5:  a0 between aL and aU so stop\n",
    "        %%%%%%%%%%%%%%%%%%%%%%%%%%%%%%%%%%%%%%%%%%%%%%%%%%%%%%%%%\n",
    "            break;\n",
    "        end\n",
    "    end\n",
    "end % while 1\n",
    "if a0 < 1e-5,\n",
    "    alpha = 1e-5;\n",
    "else\n",
    "    alpha = a0;\n",
    "end\n",
    "```\n"
   ]
  },
  {
   "cell_type": "markdown",
   "metadata": {
    "collapsed": true
   },
   "source": [
    "# python version\n",
    "\n",
    "\n",
    "\n",
    "#% Program: inex_lsearch_econ350.m\n",
    "#% Title: Inexact Line Search\n",
    "#% Description: Implements Fletcher's inexact line search \n",
    "#% Authors:  A. Antoniou, W.-S. Lu, A. Mehlenbacher, University of Victoria\n",
    "#% Input:\n",
    "#% x: initial point\n",
    "#% s: search direction\n",
    "#% fname: objective function to be minimized along the direction of s\n",
    "#% gname: gradient of objective function fname\n",
    "#% Returns alpha\n",
    "#%========================================================================\n",
    "def linesearch_alpha(xk,s,fname,gname):\n",
    "    k = 0;\n",
    "    m = 0;\n",
    "    tau = 0.1;\n",
    "    chi = 0.75;\n",
    "    rho = 0.1;  #For most accurate estimate\n",
    "    sigma = 0.1; \n",
    "    mhat = 400;\n",
    "    epsilon = 1e-10;\n",
    "    xk = xk[:];\n",
    "    s = s[:];\n",
    "    #%%%%%%%%%%%%%%%%%%%%%%%%%%%%%%%%%%%%%%%%%%%%%%%%%%%%%%%%%\n",
    "    #%0: Initialize\n",
    "    #%%%%%%%%%%%%%%%%%%%%%%%%%%%%%%%%%%%%%%%%%%%%%%%%%%%%%%%%%\n",
    "    def feval(funcName, *args):\n",
    "        return eval(funcName)(*args)\n",
    "    from math import *\n",
    "    f0 = feval(fname,xk);\n",
    "    gk = feval(gname,xk);\n",
    "    m = m+2;\n",
    "    deltaf0 = f0;\n",
    "    dk = s;\n",
    "    aL = 0;\n",
    "    aU = 1e99;\n",
    "    fL = f0;\n",
    "    dfL = gk.T*dk;\n",
    "    if abs(dfL) > epsilon:\n",
    "           a0 = -2*deltaf0/dfL;\n",
    "    else:\n",
    "           a0 = 1;\n",
    "    #end\n",
    "    if ((a0 <= 1e-9) or (a0 > 1)):\n",
    "          a0 = 1;\n",
    "    #end\n",
    "    #%Loop until break \n",
    "    while 1:\n",
    "        deltak = a0*dk;\n",
    "        f0 = feval(fname,xk+deltak);\n",
    "        m = m + 1;\n",
    "        #%%%%%%%%%%%%%%%%%%%%%%%%%%%%%%%%%%%%%%%%%%%%%%%%%%%%%%%%%\n",
    "        #%1: a0 to the right of aU\n",
    "        #%%%%%%%%%%%%%%%%%%%%%%%%%%%%%%%%%%%%%%%%%%%%%%%%%%%%%%%%%\n",
    "        if ((f0 > (fL + rho*(a0 - aL)*dfL)) & (abs(fL - f0) > epsilon) & (m < mhat)):\n",
    "            if (a0 < aU):\n",
    "              aU = a0;\n",
    "            #end\n",
    "            #%%%%%%%%%%%%%%%%%%%%%%%%%%%%%%%%%%%%%%%%%%%%%%%%%%%%%%%%%\n",
    "            #%2:  Compute new a0\n",
    "            #%%%%%%%%%%%%%%%%%%%%%%%%%%%%%%%%%%%%%%%%%%%%%%%%%%%%%%%%%\n",
    "            a0hat = aL + ((a0 - aL)^2*dfL)/(2*(fL - f0 + (a0 - aL)*dfL));\n",
    "            a0Lhat = aL + tau*(aU - aL);\n",
    "            if (a0hat < a0Lhat):\n",
    "                   a0hat = a0Lhat;\n",
    "            #end\n",
    "            a0Uhat = aU - tau*(aU - aL);\n",
    "            if (a0hat > a0Uhat):\n",
    "                   a0hat = a0Uhat;\n",
    "            end\n",
    "            a0 = a0hat;\n",
    "        else:\n",
    "        #%%%%%%%%%%%%%%%%%%%%%%%%%%%%%%%%%%%%%%%%%%%%%%%%%%%%%%%%%\n",
    "        #%3: a0 to the left of aL\n",
    "        #%%%%%%%%%%%%%%%%%%%%%%%%%%%%%%%%%%%%%%%%%%%%%%%%%%%%%%%%%\n",
    "            gtemp = feval(gname,xk+a0*dk);\n",
    "            df0 = gtemp'*dk;\n",
    "            m = m + 1;\n",
    "            if (((df0 < sigma*dfL) & (abs(fL - f0) > epsilon) & (m < mhat) & (dfL ~= df0)))\n",
    "                deltaa0 = (a0 - aL)*df0/(dfL - df0);\n",
    "            #%%%%%%%%%%%%%%%%%%%%%%%%%%%%%%%%%%%%%%%%%%%%%%%%%%%%%%%%%\n",
    "            #%4:  Compute new a0\n",
    "            #%%%%%%%%%%%%%%%%%%%%%%%%%%%%%%%%%%%%%%%%%%%%%%%%%%%%%%%%%\n",
    "                if (deltaa0 <= 0):\n",
    "                    a0hat = 2*a0;\n",
    "                else:\n",
    "                    a0hat = a0 + deltaa0;\n",
    "                end\n",
    "                a0Uhat = a0 + chi*(aU - a0);\n",
    "                if (a0hat > a0Uhat)\n",
    "                    a0hat = a0Uhat;\n",
    "                end\n",
    "                aL = a0;\n",
    "                a0 = a0hat;\n",
    "                fL = f0;\n",
    "                dfL = df0;\n",
    "            else:\n",
    "            #%%%%%%%%%%%%%%%%%%%%%%%%%%%%%%%%%%%%%%%%%%%%%%%%%%%%%%%%%\n",
    "            #%5:  a0 between aL and aU so stop\n",
    "            #%%%%%%%%%%%%%%%%%%%%%%%%%%%%%%%%%%%%%%%%%%%%%%%%%%%%%%%%%\n",
    "                break;\n",
    "            end\n",
    "        end\n",
    "    end #% while 1\n",
    "    if a0 < 1e-5,\n",
    "        alpha = 1e-5;\n",
    "    else\n",
    "        alpha = a0;\n",
    "    end\n"
   ]
  },
  {
   "cell_type": "code",
   "execution_count": null,
   "metadata": {
    "ExecuteTime": {
     "end_time": "2017-11-05T05:20:23.874631Z",
     "start_time": "2017-11-05T05:20:23.857101Z"
    },
    "collapsed": true
   },
   "outputs": [],
   "source": [
    "1e99"
   ]
  },
  {
   "cell_type": "markdown",
   "metadata": {},
   "source": [
    "\n",
    "### Optimization - Line Search Method\n",
    "\n",
    "https://nlperic.github.io/line-search/\n",
    "\n",
    "A simple unconstrained problem: how to find the minimum of $100(x_1^2-x_2)^2+(x_2-1)^2$?"
   ]
  },
  {
   "cell_type": "code",
   "execution_count": 29,
   "metadata": {},
   "outputs": [
    {
     "name": "stdout",
     "output_type": "stream",
     "text": [
      "Populating the interactive namespace from numpy and matplotlib\n"
     ]
    },
    {
     "name": "stderr",
     "output_type": "stream",
     "text": [
      "/opt/conda/lib/python3.6/site-packages/IPython/core/magics/pylab.py:160: UserWarning: pylab import has clobbered these variables: ['f']\n",
      "`%matplotlib` prevents importing * from pylab and numpy\n",
      "  \"\\n`%matplotlib` prevents importing * from pylab and numpy\"\n"
     ]
    },
    {
     "data": {
      "application/javascript": [
       "/* Put everything inside the global mpl namespace */\n",
       "window.mpl = {};\n",
       "\n",
       "\n",
       "mpl.get_websocket_type = function() {\n",
       "    if (typeof(WebSocket) !== 'undefined') {\n",
       "        return WebSocket;\n",
       "    } else if (typeof(MozWebSocket) !== 'undefined') {\n",
       "        return MozWebSocket;\n",
       "    } else {\n",
       "        alert('Your browser does not have WebSocket support.' +\n",
       "              'Please try Chrome, Safari or Firefox ≥ 6. ' +\n",
       "              'Firefox 4 and 5 are also supported but you ' +\n",
       "              'have to enable WebSockets in about:config.');\n",
       "    };\n",
       "}\n",
       "\n",
       "mpl.figure = function(figure_id, websocket, ondownload, parent_element) {\n",
       "    this.id = figure_id;\n",
       "\n",
       "    this.ws = websocket;\n",
       "\n",
       "    this.supports_binary = (this.ws.binaryType != undefined);\n",
       "\n",
       "    if (!this.supports_binary) {\n",
       "        var warnings = document.getElementById(\"mpl-warnings\");\n",
       "        if (warnings) {\n",
       "            warnings.style.display = 'block';\n",
       "            warnings.textContent = (\n",
       "                \"This browser does not support binary websocket messages. \" +\n",
       "                    \"Performance may be slow.\");\n",
       "        }\n",
       "    }\n",
       "\n",
       "    this.imageObj = new Image();\n",
       "\n",
       "    this.context = undefined;\n",
       "    this.message = undefined;\n",
       "    this.canvas = undefined;\n",
       "    this.rubberband_canvas = undefined;\n",
       "    this.rubberband_context = undefined;\n",
       "    this.format_dropdown = undefined;\n",
       "\n",
       "    this.image_mode = 'full';\n",
       "\n",
       "    this.root = $('<div/>');\n",
       "    this._root_extra_style(this.root)\n",
       "    this.root.attr('style', 'display: inline-block');\n",
       "\n",
       "    $(parent_element).append(this.root);\n",
       "\n",
       "    this._init_header(this);\n",
       "    this._init_canvas(this);\n",
       "    this._init_toolbar(this);\n",
       "\n",
       "    var fig = this;\n",
       "\n",
       "    this.waiting = false;\n",
       "\n",
       "    this.ws.onopen =  function () {\n",
       "            fig.send_message(\"supports_binary\", {value: fig.supports_binary});\n",
       "            fig.send_message(\"send_image_mode\", {});\n",
       "            if (mpl.ratio != 1) {\n",
       "                fig.send_message(\"set_dpi_ratio\", {'dpi_ratio': mpl.ratio});\n",
       "            }\n",
       "            fig.send_message(\"refresh\", {});\n",
       "        }\n",
       "\n",
       "    this.imageObj.onload = function() {\n",
       "            if (fig.image_mode == 'full') {\n",
       "                // Full images could contain transparency (where diff images\n",
       "                // almost always do), so we need to clear the canvas so that\n",
       "                // there is no ghosting.\n",
       "                fig.context.clearRect(0, 0, fig.canvas.width, fig.canvas.height);\n",
       "            }\n",
       "            fig.context.drawImage(fig.imageObj, 0, 0);\n",
       "        };\n",
       "\n",
       "    this.imageObj.onunload = function() {\n",
       "        fig.ws.close();\n",
       "    }\n",
       "\n",
       "    this.ws.onmessage = this._make_on_message_function(this);\n",
       "\n",
       "    this.ondownload = ondownload;\n",
       "}\n",
       "\n",
       "mpl.figure.prototype._init_header = function() {\n",
       "    var titlebar = $(\n",
       "        '<div class=\"ui-dialog-titlebar ui-widget-header ui-corner-all ' +\n",
       "        'ui-helper-clearfix\"/>');\n",
       "    var titletext = $(\n",
       "        '<div class=\"ui-dialog-title\" style=\"width: 100%; ' +\n",
       "        'text-align: center; padding: 3px;\"/>');\n",
       "    titlebar.append(titletext)\n",
       "    this.root.append(titlebar);\n",
       "    this.header = titletext[0];\n",
       "}\n",
       "\n",
       "\n",
       "\n",
       "mpl.figure.prototype._canvas_extra_style = function(canvas_div) {\n",
       "\n",
       "}\n",
       "\n",
       "\n",
       "mpl.figure.prototype._root_extra_style = function(canvas_div) {\n",
       "\n",
       "}\n",
       "\n",
       "mpl.figure.prototype._init_canvas = function() {\n",
       "    var fig = this;\n",
       "\n",
       "    var canvas_div = $('<div/>');\n",
       "\n",
       "    canvas_div.attr('style', 'position: relative; clear: both; outline: 0');\n",
       "\n",
       "    function canvas_keyboard_event(event) {\n",
       "        return fig.key_event(event, event['data']);\n",
       "    }\n",
       "\n",
       "    canvas_div.keydown('key_press', canvas_keyboard_event);\n",
       "    canvas_div.keyup('key_release', canvas_keyboard_event);\n",
       "    this.canvas_div = canvas_div\n",
       "    this._canvas_extra_style(canvas_div)\n",
       "    this.root.append(canvas_div);\n",
       "\n",
       "    var canvas = $('<canvas/>');\n",
       "    canvas.addClass('mpl-canvas');\n",
       "    canvas.attr('style', \"left: 0; top: 0; z-index: 0; outline: 0\")\n",
       "\n",
       "    this.canvas = canvas[0];\n",
       "    this.context = canvas[0].getContext(\"2d\");\n",
       "\n",
       "    var backingStore = this.context.backingStorePixelRatio ||\n",
       "\tthis.context.webkitBackingStorePixelRatio ||\n",
       "\tthis.context.mozBackingStorePixelRatio ||\n",
       "\tthis.context.msBackingStorePixelRatio ||\n",
       "\tthis.context.oBackingStorePixelRatio ||\n",
       "\tthis.context.backingStorePixelRatio || 1;\n",
       "\n",
       "    mpl.ratio = (window.devicePixelRatio || 1) / backingStore;\n",
       "\n",
       "    var rubberband = $('<canvas/>');\n",
       "    rubberband.attr('style', \"position: absolute; left: 0; top: 0; z-index: 1;\")\n",
       "\n",
       "    var pass_mouse_events = true;\n",
       "\n",
       "    canvas_div.resizable({\n",
       "        start: function(event, ui) {\n",
       "            pass_mouse_events = false;\n",
       "        },\n",
       "        resize: function(event, ui) {\n",
       "            fig.request_resize(ui.size.width, ui.size.height);\n",
       "        },\n",
       "        stop: function(event, ui) {\n",
       "            pass_mouse_events = true;\n",
       "            fig.request_resize(ui.size.width, ui.size.height);\n",
       "        },\n",
       "    });\n",
       "\n",
       "    function mouse_event_fn(event) {\n",
       "        if (pass_mouse_events)\n",
       "            return fig.mouse_event(event, event['data']);\n",
       "    }\n",
       "\n",
       "    rubberband.mousedown('button_press', mouse_event_fn);\n",
       "    rubberband.mouseup('button_release', mouse_event_fn);\n",
       "    // Throttle sequential mouse events to 1 every 20ms.\n",
       "    rubberband.mousemove('motion_notify', mouse_event_fn);\n",
       "\n",
       "    rubberband.mouseenter('figure_enter', mouse_event_fn);\n",
       "    rubberband.mouseleave('figure_leave', mouse_event_fn);\n",
       "\n",
       "    canvas_div.on(\"wheel\", function (event) {\n",
       "        event = event.originalEvent;\n",
       "        event['data'] = 'scroll'\n",
       "        if (event.deltaY < 0) {\n",
       "            event.step = 1;\n",
       "        } else {\n",
       "            event.step = -1;\n",
       "        }\n",
       "        mouse_event_fn(event);\n",
       "    });\n",
       "\n",
       "    canvas_div.append(canvas);\n",
       "    canvas_div.append(rubberband);\n",
       "\n",
       "    this.rubberband = rubberband;\n",
       "    this.rubberband_canvas = rubberband[0];\n",
       "    this.rubberband_context = rubberband[0].getContext(\"2d\");\n",
       "    this.rubberband_context.strokeStyle = \"#000000\";\n",
       "\n",
       "    this._resize_canvas = function(width, height) {\n",
       "        // Keep the size of the canvas, canvas container, and rubber band\n",
       "        // canvas in synch.\n",
       "        canvas_div.css('width', width)\n",
       "        canvas_div.css('height', height)\n",
       "\n",
       "        canvas.attr('width', width * mpl.ratio);\n",
       "        canvas.attr('height', height * mpl.ratio);\n",
       "        canvas.attr('style', 'width: ' + width + 'px; height: ' + height + 'px;');\n",
       "\n",
       "        rubberband.attr('width', width);\n",
       "        rubberband.attr('height', height);\n",
       "    }\n",
       "\n",
       "    // Set the figure to an initial 600x600px, this will subsequently be updated\n",
       "    // upon first draw.\n",
       "    this._resize_canvas(600, 600);\n",
       "\n",
       "    // Disable right mouse context menu.\n",
       "    $(this.rubberband_canvas).bind(\"contextmenu\",function(e){\n",
       "        return false;\n",
       "    });\n",
       "\n",
       "    function set_focus () {\n",
       "        canvas.focus();\n",
       "        canvas_div.focus();\n",
       "    }\n",
       "\n",
       "    window.setTimeout(set_focus, 100);\n",
       "}\n",
       "\n",
       "mpl.figure.prototype._init_toolbar = function() {\n",
       "    var fig = this;\n",
       "\n",
       "    var nav_element = $('<div/>')\n",
       "    nav_element.attr('style', 'width: 100%');\n",
       "    this.root.append(nav_element);\n",
       "\n",
       "    // Define a callback function for later on.\n",
       "    function toolbar_event(event) {\n",
       "        return fig.toolbar_button_onclick(event['data']);\n",
       "    }\n",
       "    function toolbar_mouse_event(event) {\n",
       "        return fig.toolbar_button_onmouseover(event['data']);\n",
       "    }\n",
       "\n",
       "    for(var toolbar_ind in mpl.toolbar_items) {\n",
       "        var name = mpl.toolbar_items[toolbar_ind][0];\n",
       "        var tooltip = mpl.toolbar_items[toolbar_ind][1];\n",
       "        var image = mpl.toolbar_items[toolbar_ind][2];\n",
       "        var method_name = mpl.toolbar_items[toolbar_ind][3];\n",
       "\n",
       "        if (!name) {\n",
       "            // put a spacer in here.\n",
       "            continue;\n",
       "        }\n",
       "        var button = $('<button/>');\n",
       "        button.addClass('ui-button ui-widget ui-state-default ui-corner-all ' +\n",
       "                        'ui-button-icon-only');\n",
       "        button.attr('role', 'button');\n",
       "        button.attr('aria-disabled', 'false');\n",
       "        button.click(method_name, toolbar_event);\n",
       "        button.mouseover(tooltip, toolbar_mouse_event);\n",
       "\n",
       "        var icon_img = $('<span/>');\n",
       "        icon_img.addClass('ui-button-icon-primary ui-icon');\n",
       "        icon_img.addClass(image);\n",
       "        icon_img.addClass('ui-corner-all');\n",
       "\n",
       "        var tooltip_span = $('<span/>');\n",
       "        tooltip_span.addClass('ui-button-text');\n",
       "        tooltip_span.html(tooltip);\n",
       "\n",
       "        button.append(icon_img);\n",
       "        button.append(tooltip_span);\n",
       "\n",
       "        nav_element.append(button);\n",
       "    }\n",
       "\n",
       "    var fmt_picker_span = $('<span/>');\n",
       "\n",
       "    var fmt_picker = $('<select/>');\n",
       "    fmt_picker.addClass('mpl-toolbar-option ui-widget ui-widget-content');\n",
       "    fmt_picker_span.append(fmt_picker);\n",
       "    nav_element.append(fmt_picker_span);\n",
       "    this.format_dropdown = fmt_picker[0];\n",
       "\n",
       "    for (var ind in mpl.extensions) {\n",
       "        var fmt = mpl.extensions[ind];\n",
       "        var option = $(\n",
       "            '<option/>', {selected: fmt === mpl.default_extension}).html(fmt);\n",
       "        fmt_picker.append(option)\n",
       "    }\n",
       "\n",
       "    // Add hover states to the ui-buttons\n",
       "    $( \".ui-button\" ).hover(\n",
       "        function() { $(this).addClass(\"ui-state-hover\");},\n",
       "        function() { $(this).removeClass(\"ui-state-hover\");}\n",
       "    );\n",
       "\n",
       "    var status_bar = $('<span class=\"mpl-message\"/>');\n",
       "    nav_element.append(status_bar);\n",
       "    this.message = status_bar[0];\n",
       "}\n",
       "\n",
       "mpl.figure.prototype.request_resize = function(x_pixels, y_pixels) {\n",
       "    // Request matplotlib to resize the figure. Matplotlib will then trigger a resize in the client,\n",
       "    // which will in turn request a refresh of the image.\n",
       "    this.send_message('resize', {'width': x_pixels, 'height': y_pixels});\n",
       "}\n",
       "\n",
       "mpl.figure.prototype.send_message = function(type, properties) {\n",
       "    properties['type'] = type;\n",
       "    properties['figure_id'] = this.id;\n",
       "    this.ws.send(JSON.stringify(properties));\n",
       "}\n",
       "\n",
       "mpl.figure.prototype.send_draw_message = function() {\n",
       "    if (!this.waiting) {\n",
       "        this.waiting = true;\n",
       "        this.ws.send(JSON.stringify({type: \"draw\", figure_id: this.id}));\n",
       "    }\n",
       "}\n",
       "\n",
       "\n",
       "mpl.figure.prototype.handle_save = function(fig, msg) {\n",
       "    var format_dropdown = fig.format_dropdown;\n",
       "    var format = format_dropdown.options[format_dropdown.selectedIndex].value;\n",
       "    fig.ondownload(fig, format);\n",
       "}\n",
       "\n",
       "\n",
       "mpl.figure.prototype.handle_resize = function(fig, msg) {\n",
       "    var size = msg['size'];\n",
       "    if (size[0] != fig.canvas.width || size[1] != fig.canvas.height) {\n",
       "        fig._resize_canvas(size[0], size[1]);\n",
       "        fig.send_message(\"refresh\", {});\n",
       "    };\n",
       "}\n",
       "\n",
       "mpl.figure.prototype.handle_rubberband = function(fig, msg) {\n",
       "    var x0 = msg['x0'] / mpl.ratio;\n",
       "    var y0 = (fig.canvas.height - msg['y0']) / mpl.ratio;\n",
       "    var x1 = msg['x1'] / mpl.ratio;\n",
       "    var y1 = (fig.canvas.height - msg['y1']) / mpl.ratio;\n",
       "    x0 = Math.floor(x0) + 0.5;\n",
       "    y0 = Math.floor(y0) + 0.5;\n",
       "    x1 = Math.floor(x1) + 0.5;\n",
       "    y1 = Math.floor(y1) + 0.5;\n",
       "    var min_x = Math.min(x0, x1);\n",
       "    var min_y = Math.min(y0, y1);\n",
       "    var width = Math.abs(x1 - x0);\n",
       "    var height = Math.abs(y1 - y0);\n",
       "\n",
       "    fig.rubberband_context.clearRect(\n",
       "        0, 0, fig.canvas.width, fig.canvas.height);\n",
       "\n",
       "    fig.rubberband_context.strokeRect(min_x, min_y, width, height);\n",
       "}\n",
       "\n",
       "mpl.figure.prototype.handle_figure_label = function(fig, msg) {\n",
       "    // Updates the figure title.\n",
       "    fig.header.textContent = msg['label'];\n",
       "}\n",
       "\n",
       "mpl.figure.prototype.handle_cursor = function(fig, msg) {\n",
       "    var cursor = msg['cursor'];\n",
       "    switch(cursor)\n",
       "    {\n",
       "    case 0:\n",
       "        cursor = 'pointer';\n",
       "        break;\n",
       "    case 1:\n",
       "        cursor = 'default';\n",
       "        break;\n",
       "    case 2:\n",
       "        cursor = 'crosshair';\n",
       "        break;\n",
       "    case 3:\n",
       "        cursor = 'move';\n",
       "        break;\n",
       "    }\n",
       "    fig.rubberband_canvas.style.cursor = cursor;\n",
       "}\n",
       "\n",
       "mpl.figure.prototype.handle_message = function(fig, msg) {\n",
       "    fig.message.textContent = msg['message'];\n",
       "}\n",
       "\n",
       "mpl.figure.prototype.handle_draw = function(fig, msg) {\n",
       "    // Request the server to send over a new figure.\n",
       "    fig.send_draw_message();\n",
       "}\n",
       "\n",
       "mpl.figure.prototype.handle_image_mode = function(fig, msg) {\n",
       "    fig.image_mode = msg['mode'];\n",
       "}\n",
       "\n",
       "mpl.figure.prototype.updated_canvas_event = function() {\n",
       "    // Called whenever the canvas gets updated.\n",
       "    this.send_message(\"ack\", {});\n",
       "}\n",
       "\n",
       "// A function to construct a web socket function for onmessage handling.\n",
       "// Called in the figure constructor.\n",
       "mpl.figure.prototype._make_on_message_function = function(fig) {\n",
       "    return function socket_on_message(evt) {\n",
       "        if (evt.data instanceof Blob) {\n",
       "            /* FIXME: We get \"Resource interpreted as Image but\n",
       "             * transferred with MIME type text/plain:\" errors on\n",
       "             * Chrome.  But how to set the MIME type?  It doesn't seem\n",
       "             * to be part of the websocket stream */\n",
       "            evt.data.type = \"image/png\";\n",
       "\n",
       "            /* Free the memory for the previous frames */\n",
       "            if (fig.imageObj.src) {\n",
       "                (window.URL || window.webkitURL).revokeObjectURL(\n",
       "                    fig.imageObj.src);\n",
       "            }\n",
       "\n",
       "            fig.imageObj.src = (window.URL || window.webkitURL).createObjectURL(\n",
       "                evt.data);\n",
       "            fig.updated_canvas_event();\n",
       "            fig.waiting = false;\n",
       "            return;\n",
       "        }\n",
       "        else if (typeof evt.data === 'string' && evt.data.slice(0, 21) == \"data:image/png;base64\") {\n",
       "            fig.imageObj.src = evt.data;\n",
       "            fig.updated_canvas_event();\n",
       "            fig.waiting = false;\n",
       "            return;\n",
       "        }\n",
       "\n",
       "        var msg = JSON.parse(evt.data);\n",
       "        var msg_type = msg['type'];\n",
       "\n",
       "        // Call the  \"handle_{type}\" callback, which takes\n",
       "        // the figure and JSON message as its only arguments.\n",
       "        try {\n",
       "            var callback = fig[\"handle_\" + msg_type];\n",
       "        } catch (e) {\n",
       "            console.log(\"No handler for the '\" + msg_type + \"' message type: \", msg);\n",
       "            return;\n",
       "        }\n",
       "\n",
       "        if (callback) {\n",
       "            try {\n",
       "                // console.log(\"Handling '\" + msg_type + \"' message: \", msg);\n",
       "                callback(fig, msg);\n",
       "            } catch (e) {\n",
       "                console.log(\"Exception inside the 'handler_\" + msg_type + \"' callback:\", e, e.stack, msg);\n",
       "            }\n",
       "        }\n",
       "    };\n",
       "}\n",
       "\n",
       "// from http://stackoverflow.com/questions/1114465/getting-mouse-location-in-canvas\n",
       "mpl.findpos = function(e) {\n",
       "    //this section is from http://www.quirksmode.org/js/events_properties.html\n",
       "    var targ;\n",
       "    if (!e)\n",
       "        e = window.event;\n",
       "    if (e.target)\n",
       "        targ = e.target;\n",
       "    else if (e.srcElement)\n",
       "        targ = e.srcElement;\n",
       "    if (targ.nodeType == 3) // defeat Safari bug\n",
       "        targ = targ.parentNode;\n",
       "\n",
       "    // jQuery normalizes the pageX and pageY\n",
       "    // pageX,Y are the mouse positions relative to the document\n",
       "    // offset() returns the position of the element relative to the document\n",
       "    var x = e.pageX - $(targ).offset().left;\n",
       "    var y = e.pageY - $(targ).offset().top;\n",
       "\n",
       "    return {\"x\": x, \"y\": y};\n",
       "};\n",
       "\n",
       "/*\n",
       " * return a copy of an object with only non-object keys\n",
       " * we need this to avoid circular references\n",
       " * http://stackoverflow.com/a/24161582/3208463\n",
       " */\n",
       "function simpleKeys (original) {\n",
       "  return Object.keys(original).reduce(function (obj, key) {\n",
       "    if (typeof original[key] !== 'object')\n",
       "        obj[key] = original[key]\n",
       "    return obj;\n",
       "  }, {});\n",
       "}\n",
       "\n",
       "mpl.figure.prototype.mouse_event = function(event, name) {\n",
       "    var canvas_pos = mpl.findpos(event)\n",
       "\n",
       "    if (name === 'button_press')\n",
       "    {\n",
       "        this.canvas.focus();\n",
       "        this.canvas_div.focus();\n",
       "    }\n",
       "\n",
       "    var x = canvas_pos.x * mpl.ratio;\n",
       "    var y = canvas_pos.y * mpl.ratio;\n",
       "\n",
       "    this.send_message(name, {x: x, y: y, button: event.button,\n",
       "                             step: event.step,\n",
       "                             guiEvent: simpleKeys(event)});\n",
       "\n",
       "    /* This prevents the web browser from automatically changing to\n",
       "     * the text insertion cursor when the button is pressed.  We want\n",
       "     * to control all of the cursor setting manually through the\n",
       "     * 'cursor' event from matplotlib */\n",
       "    event.preventDefault();\n",
       "    return false;\n",
       "}\n",
       "\n",
       "mpl.figure.prototype._key_event_extra = function(event, name) {\n",
       "    // Handle any extra behaviour associated with a key event\n",
       "}\n",
       "\n",
       "mpl.figure.prototype.key_event = function(event, name) {\n",
       "\n",
       "    // Prevent repeat events\n",
       "    if (name == 'key_press')\n",
       "    {\n",
       "        if (event.which === this._key)\n",
       "            return;\n",
       "        else\n",
       "            this._key = event.which;\n",
       "    }\n",
       "    if (name == 'key_release')\n",
       "        this._key = null;\n",
       "\n",
       "    var value = '';\n",
       "    if (event.ctrlKey && event.which != 17)\n",
       "        value += \"ctrl+\";\n",
       "    if (event.altKey && event.which != 18)\n",
       "        value += \"alt+\";\n",
       "    if (event.shiftKey && event.which != 16)\n",
       "        value += \"shift+\";\n",
       "\n",
       "    value += 'k';\n",
       "    value += event.which.toString();\n",
       "\n",
       "    this._key_event_extra(event, name);\n",
       "\n",
       "    this.send_message(name, {key: value,\n",
       "                             guiEvent: simpleKeys(event)});\n",
       "    return false;\n",
       "}\n",
       "\n",
       "mpl.figure.prototype.toolbar_button_onclick = function(name) {\n",
       "    if (name == 'download') {\n",
       "        this.handle_save(this, null);\n",
       "    } else {\n",
       "        this.send_message(\"toolbar_button\", {name: name});\n",
       "    }\n",
       "};\n",
       "\n",
       "mpl.figure.prototype.toolbar_button_onmouseover = function(tooltip) {\n",
       "    this.message.textContent = tooltip;\n",
       "};\n",
       "mpl.toolbar_items = [[\"Home\", \"Reset original view\", \"fa fa-home icon-home\", \"home\"], [\"Back\", \"Back to  previous view\", \"fa fa-arrow-left icon-arrow-left\", \"back\"], [\"Forward\", \"Forward to next view\", \"fa fa-arrow-right icon-arrow-right\", \"forward\"], [\"\", \"\", \"\", \"\"], [\"Pan\", \"Pan axes with left mouse, zoom with right\", \"fa fa-arrows icon-move\", \"pan\"], [\"Zoom\", \"Zoom to rectangle\", \"fa fa-square-o icon-check-empty\", \"zoom\"], [\"\", \"\", \"\", \"\"], [\"Download\", \"Download plot\", \"fa fa-floppy-o icon-save\", \"download\"]];\n",
       "\n",
       "mpl.extensions = [\"eps\", \"jpeg\", \"pdf\", \"png\", \"ps\", \"raw\", \"svg\", \"tif\"];\n",
       "\n",
       "mpl.default_extension = \"png\";var comm_websocket_adapter = function(comm) {\n",
       "    // Create a \"websocket\"-like object which calls the given IPython comm\n",
       "    // object with the appropriate methods. Currently this is a non binary\n",
       "    // socket, so there is still some room for performance tuning.\n",
       "    var ws = {};\n",
       "\n",
       "    ws.close = function() {\n",
       "        comm.close()\n",
       "    };\n",
       "    ws.send = function(m) {\n",
       "        //console.log('sending', m);\n",
       "        comm.send(m);\n",
       "    };\n",
       "    // Register the callback with on_msg.\n",
       "    comm.on_msg(function(msg) {\n",
       "        //console.log('receiving', msg['content']['data'], msg);\n",
       "        // Pass the mpl event to the overriden (by mpl) onmessage function.\n",
       "        ws.onmessage(msg['content']['data'])\n",
       "    });\n",
       "    return ws;\n",
       "}\n",
       "\n",
       "mpl.mpl_figure_comm = function(comm, msg) {\n",
       "    // This is the function which gets called when the mpl process\n",
       "    // starts-up an IPython Comm through the \"matplotlib\" channel.\n",
       "\n",
       "    var id = msg.content.data.id;\n",
       "    // Get hold of the div created by the display call when the Comm\n",
       "    // socket was opened in Python.\n",
       "    var element = $(\"#\" + id);\n",
       "    var ws_proxy = comm_websocket_adapter(comm)\n",
       "\n",
       "    function ondownload(figure, format) {\n",
       "        window.open(figure.imageObj.src);\n",
       "    }\n",
       "\n",
       "    var fig = new mpl.figure(id, ws_proxy,\n",
       "                           ondownload,\n",
       "                           element.get(0));\n",
       "\n",
       "    // Call onopen now - mpl needs it, as it is assuming we've passed it a real\n",
       "    // web socket which is closed, not our websocket->open comm proxy.\n",
       "    ws_proxy.onopen();\n",
       "\n",
       "    fig.parent_element = element.get(0);\n",
       "    fig.cell_info = mpl.find_output_cell(\"<div id='\" + id + \"'></div>\");\n",
       "    if (!fig.cell_info) {\n",
       "        console.error(\"Failed to find cell for figure\", id, fig);\n",
       "        return;\n",
       "    }\n",
       "\n",
       "    var output_index = fig.cell_info[2]\n",
       "    var cell = fig.cell_info[0];\n",
       "\n",
       "};\n",
       "\n",
       "mpl.figure.prototype.handle_close = function(fig, msg) {\n",
       "    var width = fig.canvas.width/mpl.ratio\n",
       "    fig.root.unbind('remove')\n",
       "\n",
       "    // Update the output cell to use the data from the current canvas.\n",
       "    fig.push_to_output();\n",
       "    var dataURL = fig.canvas.toDataURL();\n",
       "    // Re-enable the keyboard manager in IPython - without this line, in FF,\n",
       "    // the notebook keyboard shortcuts fail.\n",
       "    IPython.keyboard_manager.enable()\n",
       "    $(fig.parent_element).html('<img src=\"' + dataURL + '\" width=\"' + width + '\">');\n",
       "    fig.close_ws(fig, msg);\n",
       "}\n",
       "\n",
       "mpl.figure.prototype.close_ws = function(fig, msg){\n",
       "    fig.send_message('closing', msg);\n",
       "    // fig.ws.close()\n",
       "}\n",
       "\n",
       "mpl.figure.prototype.push_to_output = function(remove_interactive) {\n",
       "    // Turn the data on the canvas into data in the output cell.\n",
       "    var width = this.canvas.width/mpl.ratio\n",
       "    var dataURL = this.canvas.toDataURL();\n",
       "    this.cell_info[1]['text/html'] = '<img src=\"' + dataURL + '\" width=\"' + width + '\">';\n",
       "}\n",
       "\n",
       "mpl.figure.prototype.updated_canvas_event = function() {\n",
       "    // Tell IPython that the notebook contents must change.\n",
       "    IPython.notebook.set_dirty(true);\n",
       "    this.send_message(\"ack\", {});\n",
       "    var fig = this;\n",
       "    // Wait a second, then push the new image to the DOM so\n",
       "    // that it is saved nicely (might be nice to debounce this).\n",
       "    setTimeout(function () { fig.push_to_output() }, 1000);\n",
       "}\n",
       "\n",
       "mpl.figure.prototype._init_toolbar = function() {\n",
       "    var fig = this;\n",
       "\n",
       "    var nav_element = $('<div/>')\n",
       "    nav_element.attr('style', 'width: 100%');\n",
       "    this.root.append(nav_element);\n",
       "\n",
       "    // Define a callback function for later on.\n",
       "    function toolbar_event(event) {\n",
       "        return fig.toolbar_button_onclick(event['data']);\n",
       "    }\n",
       "    function toolbar_mouse_event(event) {\n",
       "        return fig.toolbar_button_onmouseover(event['data']);\n",
       "    }\n",
       "\n",
       "    for(var toolbar_ind in mpl.toolbar_items){\n",
       "        var name = mpl.toolbar_items[toolbar_ind][0];\n",
       "        var tooltip = mpl.toolbar_items[toolbar_ind][1];\n",
       "        var image = mpl.toolbar_items[toolbar_ind][2];\n",
       "        var method_name = mpl.toolbar_items[toolbar_ind][3];\n",
       "\n",
       "        if (!name) { continue; };\n",
       "\n",
       "        var button = $('<button class=\"btn btn-default\" href=\"#\" title=\"' + name + '\"><i class=\"fa ' + image + ' fa-lg\"></i></button>');\n",
       "        button.click(method_name, toolbar_event);\n",
       "        button.mouseover(tooltip, toolbar_mouse_event);\n",
       "        nav_element.append(button);\n",
       "    }\n",
       "\n",
       "    // Add the status bar.\n",
       "    var status_bar = $('<span class=\"mpl-message\" style=\"text-align:right; float: right;\"/>');\n",
       "    nav_element.append(status_bar);\n",
       "    this.message = status_bar[0];\n",
       "\n",
       "    // Add the close button to the window.\n",
       "    var buttongrp = $('<div class=\"btn-group inline pull-right\"></div>');\n",
       "    var button = $('<button class=\"btn btn-mini btn-primary\" href=\"#\" title=\"Stop Interaction\"><i class=\"fa fa-power-off icon-remove icon-large\"></i></button>');\n",
       "    button.click(function (evt) { fig.handle_close(fig, {}); } );\n",
       "    button.mouseover('Stop Interaction', toolbar_mouse_event);\n",
       "    buttongrp.append(button);\n",
       "    var titlebar = this.root.find($('.ui-dialog-titlebar'));\n",
       "    titlebar.prepend(buttongrp);\n",
       "}\n",
       "\n",
       "mpl.figure.prototype._root_extra_style = function(el){\n",
       "    var fig = this\n",
       "    el.on(\"remove\", function(){\n",
       "\tfig.close_ws(fig, {});\n",
       "    });\n",
       "}\n",
       "\n",
       "mpl.figure.prototype._canvas_extra_style = function(el){\n",
       "    // this is important to make the div 'focusable\n",
       "    el.attr('tabindex', 0)\n",
       "    // reach out to IPython and tell the keyboard manager to turn it's self\n",
       "    // off when our div gets focus\n",
       "\n",
       "    // location in version 3\n",
       "    if (IPython.notebook.keyboard_manager) {\n",
       "        IPython.notebook.keyboard_manager.register_events(el);\n",
       "    }\n",
       "    else {\n",
       "        // location in version 2\n",
       "        IPython.keyboard_manager.register_events(el);\n",
       "    }\n",
       "\n",
       "}\n",
       "\n",
       "mpl.figure.prototype._key_event_extra = function(event, name) {\n",
       "    var manager = IPython.notebook.keyboard_manager;\n",
       "    if (!manager)\n",
       "        manager = IPython.keyboard_manager;\n",
       "\n",
       "    // Check for shift+enter\n",
       "    if (event.shiftKey && event.which == 13) {\n",
       "        this.canvas_div.blur();\n",
       "        event.shiftKey = false;\n",
       "        // Send a \"J\" for go to next cell\n",
       "        event.which = 74;\n",
       "        event.keyCode = 74;\n",
       "        manager.command_mode();\n",
       "        manager.handle_keydown(event);\n",
       "    }\n",
       "}\n",
       "\n",
       "mpl.figure.prototype.handle_save = function(fig, msg) {\n",
       "    fig.ondownload(fig, null);\n",
       "}\n",
       "\n",
       "\n",
       "mpl.find_output_cell = function(html_output) {\n",
       "    // Return the cell and output element which can be found *uniquely* in the notebook.\n",
       "    // Note - this is a bit hacky, but it is done because the \"notebook_saving.Notebook\"\n",
       "    // IPython event is triggered only after the cells have been serialised, which for\n",
       "    // our purposes (turning an active figure into a static one), is too late.\n",
       "    var cells = IPython.notebook.get_cells();\n",
       "    var ncells = cells.length;\n",
       "    for (var i=0; i<ncells; i++) {\n",
       "        var cell = cells[i];\n",
       "        if (cell.cell_type === 'code'){\n",
       "            for (var j=0; j<cell.output_area.outputs.length; j++) {\n",
       "                var data = cell.output_area.outputs[j];\n",
       "                if (data.data) {\n",
       "                    // IPython >= 3 moved mimebundle to data attribute of output\n",
       "                    data = data.data;\n",
       "                }\n",
       "                if (data['text/html'] == html_output) {\n",
       "                    return [cell, data, j];\n",
       "                }\n",
       "            }\n",
       "        }\n",
       "    }\n",
       "}\n",
       "\n",
       "// Register the function which deals with the matplotlib target/channel.\n",
       "// The kernel may be null if the page has been refreshed.\n",
       "if (IPython.notebook.kernel != null) {\n",
       "    IPython.notebook.kernel.comm_manager.register_target('matplotlib', mpl.mpl_figure_comm);\n",
       "}\n"
      ],
      "text/plain": [
       "<IPython.core.display.Javascript object>"
      ]
     },
     "metadata": {},
     "output_type": "display_data"
    },
    {
     "data": {
      "text/html": [
       "<img src=\"data:image/png;base64,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\" width=\"768\">"
      ],
      "text/plain": [
       "<IPython.core.display.HTML object>"
      ]
     },
     "metadata": {},
     "output_type": "display_data"
    },
    {
     "data": {
      "text/plain": [
       "<matplotlib.colorbar.Colorbar at 0x7f0bcf210518>"
      ]
     },
     "execution_count": 29,
     "metadata": {},
     "output_type": "execute_result"
    }
   ],
   "source": [
    "%pylab notebook\n",
    "import numpy as np\n",
    "import matplotlib.pyplot as plt\n",
    "from matplotlib import cm  #color map\n",
    "from mpl_toolkits.mplot3d import Axes3D\n",
    "\n",
    "x = np.linspace(-2, 2, 100)\n",
    "y = np.linspace(-2, 2, 100)\n",
    "x, y = np.meshgrid(x, y)\n",
    "z = 100*np.square(np.square(x)-y)+np.square(x-1)\n",
    "fig = plt.figure()\n",
    "ax = fig.gca(projection='3d') #gca get current ax\n",
    "surf = ax.plot_surface(x, y, z, rstride=1, cstride=1, cmap=cm.coolwarm, linewidth=\\\n",
    "       0, antialiased=False)\n",
    "fig.colorbar(surf, shrink=0.5, aspect=5)\n",
    "#plt.savefig('./res/surface.jpg')"
   ]
  },
  {
   "cell_type": "markdown",
   "metadata": {},
   "source": [
    "There are two basic iterative methods for optimization problems: the line search method and the trust region method. The line search approach first finds a descent direction along which the objective function ff will be reduced and then computes the step size that determines how far $x$ should move along that direction.\n",
    "\n",
    "The updating rule of line search method is $x_{k+1}=x_k+\\alpha_k*d(x_k)$, we need to compute the direction $d(x_k)$ and step size $\\alpha_k$ seperately.\n",
    "\n",
    "- direction: gradient descent, Newton’s method, etc.\n",
    "\n",
    "- step size: Golden-section method, Armijo rule, Wolfe rule, etc.\n"
   ]
  },
  {
   "cell_type": "markdown",
   "metadata": {},
   "source": [
    "### Gradient descent method(梯度下降法)\n",
    "\n",
    "The algorithm of gradient descent method reads:\n",
    "\n",
    "1. Initialization: find a initial value of x0 in the feasible set\n",
    "\n",
    "1. Convergence Test: calculate the gradient of current value $\\Delta f(x)$, and know if it satisfy the convergent criteria.\n",
    "\n",
    "1. Update: if not converge, update $xi+1=xi− \\alpha \\Delta f(x)$, where $\\alpha$ is a small number to control the step size."
   ]
  },
  {
   "cell_type": "code",
   "execution_count": null,
   "metadata": {
    "collapsed": true
   },
   "outputs": [],
   "source": []
  },
  {
   "cell_type": "code",
   "execution_count": null,
   "metadata": {
    "collapsed": true
   },
   "outputs": [],
   "source": []
  },
  {
   "cell_type": "code",
   "execution_count": null,
   "metadata": {
    "collapsed": true
   },
   "outputs": [],
   "source": []
  },
  {
   "cell_type": "code",
   "execution_count": null,
   "metadata": {
    "collapsed": true
   },
   "outputs": [],
   "source": [
    "import numpy as np\n",
    "import matplotlib.pyplot as plt\n",
    "from mpl_toolkits.mplot3d import Axes3D\n",
    "\n",
    "def func(x):\n",
    "    return 100*np.square(np.square(x[0])-x[1])+np.square(x[0]-1)\n",
    "    \n",
    "# first order derivatives of the function\n",
    "def dfunc(x):\n",
    "    df1 = 400*x[0]*(np.square(x[0])-x[1])+2*(x[0]-1)\n",
    "    df2 = -200*(np.square(x[0])-x[1])\n",
    "    return np.array([df1, df2])\n",
    "    \n",
    "def grad(x, max_int):\n",
    "    miter = 1\n",
    "    step = .0001/miter\n",
    "    vals = []\n",
    "    objectfs = []\n",
    "    # you can customize your own condition of convergence, here we limit the number of iterations\n",
    "    while miter <= max_int:\n",
    "        vals.append(x)\n",
    "        objectfs.append(func(x))\n",
    "        temp = x-step*dfunc(x)\n",
    "        if np.abs(func(temp)-func(x))>0.01:\n",
    "            x = temp\n",
    "        else:\n",
    "            break\n",
    "        print(x, func(x), miter)\n",
    "        miter += 1\n",
    "    return vals, objectfs, miter\n",
    "\n",
    "start = [5, 5]\n",
    "val, objectf, iters = grad(start, 50)\n",
    "\n",
    "x = np.array([i[0] for i in val])\n",
    "y = np.array([i[1] for i in val])\n",
    "z = np.array(objectf)\n",
    "\n",
    "fig = plt.figure()\n",
    "ax = fig.add_subplot(111, projection='3d')\n",
    "# surf = ax.plot_surface(x, y, z, rstride=1, cstride=1, cmap=cm.coolwarm, linewidth=\\\n",
    "#        0, antialiased=False)\n",
    "\n",
    "#ax = fig.gca(projection='3d')\n",
    "\n",
    "ax.scatter(x, y, z, label='gradient descent method')\n",
    "\n",
    "fig.colorbar(surf, shrink=0.5, aspect=5)\n",
    "\n",
    "ax.legend()\n",
    "#plt.savefig('./res/g-d.jpg')"
   ]
  },
  {
   "cell_type": "code",
   "execution_count": null,
   "metadata": {
    "collapsed": true
   },
   "outputs": [],
   "source": []
  },
  {
   "cell_type": "code",
   "execution_count": null,
   "metadata": {
    "collapsed": true
   },
   "outputs": [],
   "source": [
    "import scipy as sp\n",
    "import scipy.optimize\n",
    "def test_func(x):\n",
    "    return (x[0])**2+(x[1])**2\n",
    "\n",
    "def test_grad(x):\n",
    "    return [2*x[0],2*x[1]]\n",
    "\n",
    "import numpy as np\n",
    "sp.optimize.line_search(test_func,test_grad,np.array([1.8,1.7]),np.array([-1.,-1.]))"
   ]
  },
  {
   "cell_type": "markdown",
   "metadata": {
    "collapsed": true
   },
   "source": [
    "```\n",
    "%  Program: inex_lsearch.m \n",
    "%  Title: Inexact Line Search \n",
    "%  Description: Implements Fletcher's inexact line search described in  \n",
    "%  Algorithm 4.6. \n",
    "%  Theory: See Practical Optimization Sec. 4.8 \n",
    "%  Input: \n",
    "%    x:  initial point \n",
    "%    s:  search direction \n",
    "%    F:  objective function to be minimized along the direction of s   \n",
    "%    G:  gradient of objective function F  \n",
    "%   p1:  internal parameters that are required for the implementation of \n",
    "%        the line search regardless of the application at hand. \n",
    "%        It is a string (e.g. 'rho = 0.1') and can be a combination several \n",
    "%        internal parameters (e.g., 'rho = 0.25; sigma=0.5'). \n",
    "%        Useful p1's include:                            default value \n",
    "%        'rho=   ' defines right bracket                      0.1 \n",
    "%        'sigma= ' defines left bracket  (sigma >= rho)       0.1 \n",
    "%        'tau= '   defines minimum step for sectioning        0.1 \n",
    "%        'chi='                                               0.75 \n",
    "%   p2:  user-defined parameter vector. Note that p2 must be a vector \n",
    "%        with all components numerically specified. The order in which \n",
    "%        the components of p2 appear must be the same as what they appear  \n",
    "%        in function F and gradient G. For example, if p2 = [a b], then  \n",
    "%        F.m and G.m must be in the form of function z = F(x,p2)and \n",
    "%        function z = G(x,p2) \n",
    "%  Output: \n",
    "%     z: acceptable value of alpha \n",
    "%  Example 1:  \n",
    "%  Perform inexact line search using the Himmelblau function \n",
    "%     f(x1,x2) = (x1^2 + x2 - 11)^2 + (x1 + x2^2 - 7)^2 \n",
    "%  starting from point xk = [6 6]' along search direction s = [-1 -1]' \n",
    "%  using the default parameter values.  \n",
    "%  Solution:  \n",
    "%  Execute the command \n",
    "%     a1 = inex_lsearch([6 6]',[-1 -1]','f_himm','g_himm') \n",
    "%  Example 2:  \n",
    "%  Perform inexact line search using the Himmelblau funtion \n",
    "%  starting from point xk = [6 6]' along search direction s = [-1 -1]' \n",
    "%  with sigma = 0.5. \n",
    "%  Solution:  \n",
    "%  Execute the command \n",
    "%     a2 = inex_lsearch([6 6]',[-1 -1]','f_himm','g_himm','sigma = 0.5') \n",
    "%  Example 3:  \n",
    "%  Perform inexact line search using the paramerized Himmelblau funtion \n",
    "%     f(x1,x2,a,b) = (x1^2 + x2 - a^2)^2 + (x1 + x2^2 - b^2)^2 \n",
    "%  starting from point xk = [6 6]' along search direction s = [-1 -1]', \n",
    "%  with parameters a = 3.2 and b = 2.6. \n",
    "%  Solution:  \n",
    "%  Execute the command \n",
    "%     a3 = inex_lsearch([6 6]',[-1 -1]','f_himm_p','g_himm_p',[3.2 2.6]) \n",
    "%  Notes: \n",
    "%  1. Command  \n",
    "%       z = inex_lsearch(xk,s,F,G,p1,p2) \n",
    "%     adds a new function inex_lsearch to MATLAB's vocabulary. \n",
    "%  2. Do not use a semicolon in commands  \n",
    "%      a1 = inex_lsearch([6 6]',[-1 -1]','f_himm','g_himm') \n",
    "%      a2 = inex_lsearch([6 6]',[-1 -1]','f_himm','g_himm','sigma = 0.5') \n",
    "%      a3 = inex_lsearch([6 6]',[-1 -1]','f_himm_p','g_himm_p',[3.2 2.6]) \n",
    "%    otherwise the acceptable value of alpha will not be displayed. \n",
    "% 3. f_himm and g_himm are user defined functions implemented in m-files   \n",
    "%    f_himm.m and g_himm.m, respectively, and are used to evaluate the  \n",
    "%    Himmelblau function and its derivative. Similarly, f_himm_p and  \n",
    "%    g_himm_p are user defined functions for the parameterized Himmelblau \n",
    "%    function and its gradient. \n",
    "% 4. If you plan to use this line search as part of an optimization  \n",
    "%    algorithm delete lines 73, 74, and 171. \n",
    "%========================================================================== \n",
    "function z = inex_lsearch(xk,s,F,G,p1,p2) \n",
    "k = 0; \n",
    "m = 0; \n",
    "tau = 0.1; \n",
    "chi = 0.75; \n",
    "rho = 0.1; \n",
    "sigma = 0.1; \n",
    "mhat = 400; \n",
    "epsilon = 1e-10; \n",
    "xk = xk(:); \n",
    "s = s(:); \n",
    "parameterstring =''; \n",
    "% evaluate given parameters: \n",
    "  if nargin > 4, \n",
    "    if isstr(p1), \n",
    "      eval([p1 ';']); \n",
    "    else \n",
    "      parameterstring = ',p1'; \n",
    "    end \n",
    "  end \n",
    "  if nargin > 5, \n",
    "    if isstr(p2), \n",
    "      eval([p2 ';']); \n",
    "    else \n",
    "      parameterstring = ',p2'; \n",
    "    end \n",
    "  end \n",
    "% compute f0 and g0 \n",
    "  eval(['f0 = ' F '(xk' parameterstring ');']); \n",
    "  eval(['gk = ' G '(xk' parameterstring ');']); \n",
    "  m = m+2; \n",
    "  deltaf0 = f0; \n",
    "% step 2 Initialize line search \n",
    "  dk = s; \n",
    "  aL = 0; \n",
    "  aU = 1e99; \n",
    "  fL = f0; \n",
    "  dfL = gk'*dk; \n",
    "  if abs(dfL) > epsilon, \n",
    "    a0 = -2*deltaf0/dfL; \n",
    "  else \n",
    "    a0 = 1; \n",
    " end \n",
    " if ((a0 <= 1e-9)|(a0 > 1)), \n",
    "    a0 = 1; \n",
    " end \n",
    "%step 3 \n",
    " while 1, \n",
    "    deltak = a0*dk; \n",
    "    eval(['f0 = ' F '(xk+deltak' parameterstring ');']); \n",
    "    m = m + 1; \n",
    "%step 4 \n",
    "    if ((f0 > (fL + rho*(a0 - aL)*dfL)) & (abs(fL - f0) > epsilon) & (m < mhat)) \n",
    "      if (a0 < aU) \n",
    "        aU = a0; \n",
    "      end \n",
    "      % compute a0hat using equation 7.65 \n",
    "      a0hat = aL + ((a0 - aL)^2*dfL)/(2*(fL - f0 + (a0 - aL)*dfL)); \n",
    "      a0Lhat = aL + tau*(aU - aL); \n",
    "      if (a0hat < a0Lhat) \n",
    "        a0hat = a0Lhat; \n",
    "      end \n",
    "      a0Uhat = aU - tau*(aU - aL); \n",
    "      if (a0hat > a0Uhat) \n",
    "        a0hat = a0Uhat; \n",
    "      end \n",
    "      a0 = a0hat; \n",
    "    else \n",
    "      eval(['gtemp =' G '(xk+a0*dk' parameterstring ');']); \n",
    "      df0 = gtemp'*dk; \n",
    "      m = m + 1; \n",
    "      % step 6 \n",
    "      if (((df0 < sigma*dfL) & (abs(fL - f0) > epsilon) & (m < mhat) & (dfL ~= df0))) \n",
    "        deltaa0 = (a0 - aL)*df0/(dfL - df0); \n",
    "        if (deltaa0 <= 0) \n",
    "          a0hat = 2*a0; \n",
    "        else \n",
    "          a0hat = a0 + deltaa0; \n",
    "        end \n",
    "        a0Uhat = a0 + chi*(aU - a0); \n",
    "        if (a0hat > a0Uhat) \n",
    "          a0hat = a0Uhat; \n",
    "        end \n",
    "        aL = a0; \n",
    "        a0 = a0hat; \n",
    "        fL = f0; \n",
    "        dfL = df0; \n",
    "      else \n",
    "        break; \n",
    "      end \n",
    "    end \n",
    " end % while 1 \n",
    " if a0 < 1e-5, \n",
    "    z = 1e-5; \n",
    " else \n",
    "    z = a0; \n",
    " end \n",
    " ```"
   ]
  },
  {
   "cell_type": "code",
   "execution_count": null,
   "metadata": {
    "collapsed": true
   },
   "outputs": [],
   "source": []
  },
  {
   "cell_type": "code",
   "execution_count": null,
   "metadata": {
    "collapsed": true
   },
   "outputs": [],
   "source": []
  },
  {
   "cell_type": "code",
   "execution_count": null,
   "metadata": {
    "collapsed": true
   },
   "outputs": [],
   "source": []
  },
  {
   "cell_type": "code",
   "execution_count": null,
   "metadata": {
    "collapsed": true
   },
   "outputs": [],
   "source": []
  },
  {
   "cell_type": "code",
   "execution_count": null,
   "metadata": {
    "collapsed": true
   },
   "outputs": [],
   "source": []
  },
  {
   "cell_type": "code",
   "execution_count": null,
   "metadata": {
    "collapsed": true
   },
   "outputs": [],
   "source": []
  },
  {
   "cell_type": "markdown",
   "metadata": {
    "collapsed": true
   },
   "source": [
    "Note that the value of the step size ${\\displaystyle \\gamma } $  is allowed to change at every iteration. With certain assumptions on the function ${\\displaystyle F} $ (for example, ${\\displaystyle F} $ convex and ${\\displaystyle \\nabla F} $ Lipschitz) and particular choices of ${\\displaystyle \\gamma } $  (e.g., chosen either via a line search that satisfies the Wolfe conditions or the Barzilai-Borwein method shown as following),\n",
    "\n",
    "\n",
    "$${\\displaystyle \\gamma _{n}={\\frac {(\\mathbf {x} _{n}-\\mathbf {x} _{n-1})^{T}[\\nabla F(\\mathbf {x} _{n})-\\nabla F(\\mathbf {x} _{n-1})]}{||\\nabla F(\\mathbf {x} _{n})-\\nabla F(\\mathbf {x} _{n-1})||^{2}}}}$$\n",
    "\n",
    "convergence to a local minimum can be guaranteed. When the function ${\\displaystyle F}$ is convex, all local minima are also global minima, so in this case gradient descent can converge to the global solution.\n"
   ]
  }
 ],
 "metadata": {
  "kernelspec": {
   "display_name": "Python 3",
   "language": "python",
   "name": "python3"
  },
  "language_info": {
   "codemirror_mode": {
    "name": "ipython",
    "version": 3
   },
   "file_extension": ".py",
   "mimetype": "text/x-python",
   "name": "python",
   "nbconvert_exporter": "python",
   "pygments_lexer": "ipython3",
   "version": "3.6.5"
  }
 },
 "nbformat": 4,
 "nbformat_minor": 2
}
