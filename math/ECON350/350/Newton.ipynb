{
 "cells": [
  {
   "cell_type": "markdown",
   "metadata": {},
   "source": [
    "```matlab\n",
    "% To implement Newton's algorithm.\n",
    "% [xs,fs,k] = newton('f_rosen','g_rosen','h_rosen',[0; 2],0.1,1e-6);\n",
    "function [xs,fs,k] = newton(fname,gname,hname,x0,dt,epsi)\n",
    "format compact\n",
    "format long\n",
    "k = 1;\n",
    "xk = x0;\n",
    "gk = feval(gname,xk);\n",
    "Hk = feval(hname,xk);\n",
    "[V,D] = eig(Hk);\n",
    "di = diag(D);\n",
    "dmin = min(di);\n",
    "if dmin > 0,\n",
    "   Hki = V*diag(1./di)*V';\n",
    "else\n",
    "   bt = dt - dmin;\n",
    "   Hki = V*diag((1+bt)./(di+bt))*V';\n",
    "end\n",
    "dk = -Hki*gk;\n",
    "ak = bt_lsearch(xk,dk,fname,gname);\n",
    "adk = ak*dk;\n",
    "er = norm(adk);\n",
    "while er >= epsi,\n",
    "  xk = xk + adk;\n",
    "  gk = feval(gname,xk);\n",
    "  Hk = feval(hname,xk);\n",
    "  [V,D] = eig(Hk);\n",
    "  di = diag(D);\n",
    "  dmin = min(di);\n",
    "  if dmin > 0,\n",
    "     Hki = V*diag(1./di)*V';\n",
    "  else\n",
    "     bt = dt - dmin;\n",
    "     Hki = V*diag((1+bt)./(di+bt))*V';\n",
    "  end\n",
    "  dk = -Hki*gk;\n",
    "  ak = bt_lsearch(xk,dk,fname,gname);\n",
    "  adk = ak*dk;\n",
    "  er = norm(adk);\n",
    "  k = k + 1;\n",
    "end\n",
    "disp('solution:')\n",
    "xs = xk + adk;\n",
    "disp('objective function at solution point:')\n",
    "fs = feval(fname,xs)\n",
    "format short\n",
    "disp('number of iterations performed:')\n",
    "k\n",
    "```"
   ]
  },
  {
   "cell_type": "code",
   "execution_count": null,
   "metadata": {},
   "outputs": [],
   "source": [
    "function Newton(fname, gname, hname, x0, dt = 0.1,exp=e-6)\n",
    "    \n",
    "    \n",
    "end"
   ]
  },
  {
   "cell_type": "code",
   "execution_count": null,
   "metadata": {},
   "outputs": [],
   "source": []
  },
  {
   "cell_type": "code",
   "execution_count": null,
   "metadata": {},
   "outputs": [],
   "source": []
  }
 ],
 "metadata": {
  "kernelspec": {
   "display_name": "Julia 0.6.2",
   "language": "julia",
   "name": "julia-0.6"
  },
  "language_info": {
   "file_extension": ".jl",
   "mimetype": "application/julia",
   "name": "julia",
   "version": "0.6.2"
  }
 },
 "nbformat": 4,
 "nbformat_minor": 2
}
