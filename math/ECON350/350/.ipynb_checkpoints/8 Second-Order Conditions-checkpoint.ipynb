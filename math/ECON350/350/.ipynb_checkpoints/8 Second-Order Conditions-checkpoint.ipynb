{
 "cells": [
  {
   "cell_type": "markdown",
   "metadata": {},
   "source": [
    "\n",
    "## Local and Global Maxima\n",
    "\n",
    "\n",
    "\n",
    "\n"
   ]
  },
  {
   "cell_type": "markdown",
   "metadata": {},
   "source": [
    "\n",
    "\n",
    "the curvature of the objective and constraint functions in a small neighborhood of the proposed optimum. \n",
    "\n",
    "\n",
    "The conditions are expressed in terms of the second-order derivatives of the functions at this point.\n",
    "\n",
    "\n",
    "Conditions on such derivatives are sufficient for local optima.\n",
    "\n",
    "\n",
    "\n",
    "\n"
   ]
  },
  {
   "cell_type": "markdown",
   "metadata": {},
   "source": [
    "In chapter 4 the term comparative statics for the genral method of comarisons of solutios in response to small changes in parameters. \n",
    "\n",
    "we have been concerned only with the compararive statics of the maimum value v and not of the optimum chice variables x. \n",
    "\n",
    "\n",
    "It turns out that the second-order conditions paly an instrumental role in determing the comparative static responses of the optimum chioce variables x.\n",
    "\n",
    "\n",
    "\n",
    "\n",
    "\n"
   ]
  },
  {
   "cell_type": "markdown",
   "metadata": {},
   "source": [
    "## Unconstrained Maximization\n",
    "\n",
    "\n",
    "a second-order necessary condition for $\\bar x$ to yield a maximum, local or global, \n",
    "\n",
    "$$F''(\\bar x) <=0 $$\n",
    "\n"
   ]
  },
  {
   "cell_type": "markdown",
   "metadata": {},
   "source": [
    "\n",
    "second-order sufficient condition\n",
    "\n",
    "$$F''(\\bar x) <0 $$"
   ]
  },
  {
   "cell_type": "markdown",
   "metadata": {},
   "source": [
    "regular maximum\n",
    "\n",
    "irregular $$F''(\\bar x) =0 $$.\n",
    "\n",
    "\n",
    "\n"
   ]
  },
  {
   "cell_type": "markdown",
   "metadata": {},
   "source": [
    "From first-order condition\n",
    "\n",
    "$$F'(\\bar x) =0$$\n",
    "\n",
    "Total differetiation,\n",
    "\n",
    "$$ d\\bar x /d \\theta = - F_{x\\theta}(x,\\theta)/F_{xx}(x,\\theta) $$\n",
    "\n",
    "\n",
    "we know $F_{xx}(x,\\theta)$ is negative,\n",
    "\n",
    "then the sign of $d\\bar x /d \\theta$ is the same as that of the cross partial derivative $F_{x\\theta}(x,\\theta)$。\n",
    "\n",
    "\n",
    "It fits the economic intuition.\n",
    "\n",
    "\n"
   ]
  },
  {
   "cell_type": "markdown",
   "metadata": {},
   "source": [
    "$F_{xx}$ is the symmetric square matrix of the second -order partial derivatives. \n",
    "\n",
    "a new characterization of concavity,\n",
    "\n",
    "the quadratic form\n",
    "\n",
    "$$(x-\\bar x )^T F_{xx} (x-\\bar x ) <= 0$$\n",
    "\n",
    "negative definite.\n",
    "\n",
    "The determinants of such a principal minor should have the sign of $(-1)^k$\n",
    "\n",
    "F is concave at point $\\bar x$, if $F_{xx} (\\bar x )$ negative semi-definite quadratic form.\n",
    "\n",
    "$$ d\\bar x  = - F_{xx}(x,\\theta)^{-1}    F_{x\\theta}(x,\\theta)  d \\theta $$\n"
   ]
  },
  {
   "cell_type": "code",
   "execution_count": null,
   "metadata": {
    "collapsed": true
   },
   "outputs": [],
   "source": []
  },
  {
   "cell_type": "markdown",
   "metadata": {},
   "source": [
    "## Constrained Optimization\n",
    "\n",
    "\n",
    "\n",
    "\n",
    "the tangency argument\n",
    "\n",
    "$$ dx_2/dx_1  = - F_{1}(x_1,x_2)/F_{2}(x_1,x_2)  $$\n",
    "\n",
    "differentiate this again, and x_2 on the right-hand side is a function of x_1,\n",
    "\n",
    "with First-order condition,\n",
    "\n",
    "$$F_j (x) - \\lambda G_j (x) \\quad for \\quad j = 1,2$$\n",
    "\n",
    "\n",
    "The result can be more neatly expressed in matrix notation: evaluated at $\\bar x$\n",
    "\n",
    "\n",
    "\n"
   ]
  },
  {
   "cell_type": "code",
   "execution_count": null,
   "metadata": {
    "collapsed": true
   },
   "outputs": [],
   "source": []
  },
  {
   "cell_type": "code",
   "execution_count": null,
   "metadata": {
    "collapsed": true
   },
   "outputs": [],
   "source": []
  },
  {
   "cell_type": "code",
   "execution_count": null,
   "metadata": {
    "collapsed": true
   },
   "outputs": [],
   "source": []
  },
  {
   "cell_type": "code",
   "execution_count": null,
   "metadata": {
    "collapsed": true
   },
   "outputs": [],
   "source": []
  },
  {
   "cell_type": "code",
   "execution_count": null,
   "metadata": {
    "collapsed": true
   },
   "outputs": [],
   "source": []
  },
  {
   "cell_type": "code",
   "execution_count": null,
   "metadata": {
    "collapsed": true
   },
   "outputs": [],
   "source": []
  },
  {
   "cell_type": "code",
   "execution_count": null,
   "metadata": {
    "collapsed": true
   },
   "outputs": [],
   "source": []
  },
  {
   "cell_type": "code",
   "execution_count": null,
   "metadata": {
    "collapsed": true
   },
   "outputs": [],
   "source": []
  },
  {
   "cell_type": "code",
   "execution_count": null,
   "metadata": {
    "collapsed": true
   },
   "outputs": [],
   "source": []
  },
  {
   "cell_type": "code",
   "execution_count": null,
   "metadata": {
    "collapsed": true
   },
   "outputs": [],
   "source": []
  }
 ],
 "metadata": {
  "kernelspec": {
   "display_name": "Python3",
   "language": "python",
   "name": "py3"
  },
  "language_info": {
   "codemirror_mode": {
    "name": "ipython",
    "version": 2
   },
   "file_extension": ".py",
   "mimetype": "text/x-python",
   "name": "python",
   "nbconvert_exporter": "python",
   "pygments_lexer": "ipython2",
   "version": "2.7.13"
  }
 },
 "nbformat": 4,
 "nbformat_minor": 2
}
