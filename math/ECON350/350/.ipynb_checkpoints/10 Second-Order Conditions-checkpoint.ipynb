{
 "cells": [
  {
   "cell_type": "markdown",
   "metadata": {},
   "source": [
    "\n",
    "## Local and Global Maxima\n",
    "\n",
    "\n",
    "\n",
    "\n"
   ]
  },
  {
   "cell_type": "markdown",
   "metadata": {},
   "source": [
    "\n",
    "\n",
    "the curvature of the objective and constraint functions in a small neighborhood of the proposed optimum. \n",
    "\n",
    "\n",
    "The conditions are expressed in terms of the second-order derivatives of the functions at this point.\n",
    "\n",
    "\n",
    "Conditions on such derivatives are sufficient for local optima.\n",
    "\n",
    "\n",
    "\n",
    "\n"
   ]
  },
  {
   "cell_type": "markdown",
   "metadata": {},
   "source": [
    "In chapter 4 the term comparative statics for the genral method of comarisons of solutios in response to small changes in parameters. \n",
    "\n",
    "we have been concerned only with the compararive statics of the maimum value v and not of the optimum chice variables x. \n",
    "\n",
    "\n",
    "It turns out that the second-order conditions paly an instrumental role in determing the comparative static responses of the optimum chioce variables x.\n",
    "\n",
    "\n",
    "\n",
    "\n",
    "\n"
   ]
  },
  {
   "cell_type": "markdown",
   "metadata": {},
   "source": [
    "## Unconstrained Maximization\n",
    "\n",
    "\n",
    "a second-order necessary condition for $\\bar x$ to yield a maximum, local or global, \n",
    "\n",
    "$$F''(\\bar x) <=0 $$\n",
    "\n"
   ]
  },
  {
   "cell_type": "markdown",
   "metadata": {},
   "source": [
    "\n",
    "second-order sufficient condition\n",
    "\n",
    "$$F''(\\bar x) <0 $$"
   ]
  },
  {
   "cell_type": "markdown",
   "metadata": {},
   "source": [
    "regular maximum\n",
    "\n",
    "irregular $$F''(\\bar x) =0 $$.\n",
    "\n",
    "\n",
    "\n"
   ]
  },
  {
   "cell_type": "markdown",
   "metadata": {},
   "source": [
    "From first-order condition\n",
    "\n",
    "$$F'(\\bar x) =0$$\n",
    "\n",
    "Total differetiation,\n",
    "\n",
    "$$ d\\bar x /d \\theta = - F_{x\\theta}(x,\\theta)/F_{xx}(x,\\theta) $$\n",
    "\n",
    "\n",
    "we know $F_{xx}(x,\\theta)$ is negative,\n",
    "\n",
    "then the sign of $d\\bar x /d \\theta$ is the same as that of the cross partial derivative $F_{x\\theta}(x,\\theta)$。\n",
    "\n",
    "\n",
    "It fits the economic intuition.\n",
    "\n",
    "\n"
   ]
  },
  {
   "cell_type": "markdown",
   "metadata": {},
   "source": [
    "$F_{xx}$ is the symmetric square matrix of the second -order partial derivatives. \n",
    "\n",
    "a new characterization of concavity,\n",
    "\n",
    "the quadratic form\n",
    "\n",
    "$$(x-\\bar x )^T F_{xx} (x-\\bar x ) <= 0$$\n",
    "\n",
    "negative definite.\n",
    "\n",
    "The determinants of such a principal minor should have the sign of $(-1)^k$\n",
    "\n",
    "F is concave at point $\\bar x$, if $F_{xx} (\\bar x )$ negative semi-definite quadratic form.\n",
    "\n",
    "$$ d\\bar x  = - F_{xx}(x,\\theta)^{-1}    F_{x\\theta}(x,\\theta)  d \\theta $$\n"
   ]
  },
  {
   "cell_type": "markdown",
   "metadata": {},
   "source": [
    "https://en.wikipedia.org/wiki/Hessian_matrix\n",
    "\n",
    "\n",
    "The Hessian matrix\n",
    "\n",
    "\n",
    "\n",
    "$${\\mathbf  H}={\\begin{bmatrix}{\\dfrac  {\\partial ^{2}f}{\\partial x_{1}^{2}}}&{\\dfrac  {\\partial ^{2}f}{\\partial x_{1}\\,\\partial x_{2}}}&\\cdots &{\\dfrac  {\\partial ^{2}f}{\\partial x_{1}\\,\\partial x_{n}}}\\\\[2.2ex]{\\dfrac  {\\partial ^{2}f}{\\partial x_{2}\\,\\partial x_{1}}}&{\\dfrac  {\\partial ^{2}f}{\\partial x_{2}^{2}}}&\\cdots &{\\dfrac  {\\partial ^{2}f}{\\partial x_{2}\\,\\partial x_{n}}}\\\\[2.2ex]\\vdots &\\vdots &\\ddots &\\vdots \\\\[2.2ex]{\\dfrac  {\\partial ^{2}f}{\\partial x_{n}\\,\\partial x_{1}}}&{\\dfrac  {\\partial ^{2}f}{\\partial x_{n}\\,\\partial x_{2}}}&\\cdots &{\\dfrac  {\\partial ^{2}f}{\\partial x_{n}^{2}}}\\end{bmatrix}}.$$\n",
    "\n",
    "\n",
    "with each in Einstein notation:\n",
    "\n",
    "$${\\mathbf  H}_{{i,j}}={\\frac  {\\partial ^{2}f}{\\partial x_{i}\\partial x_{j}}}.$$\n",
    "\n",
    "\n"
   ]
  },
  {
   "cell_type": "markdown",
   "metadata": {
    "collapsed": true
   },
   "source": [
    "![](http://slideplayer.com/slide/8375738/26/images/14/Principal+minors+Best+illustrated+with+an+example:.jpg)"
   ]
  },
  {
   "cell_type": "code",
   "execution_count": null,
   "metadata": {
    "collapsed": true
   },
   "outputs": [],
   "source": []
  },
  {
   "cell_type": "code",
   "execution_count": null,
   "metadata": {
    "collapsed": true
   },
   "outputs": [],
   "source": []
  },
  {
   "cell_type": "code",
   "execution_count": null,
   "metadata": {
    "collapsed": true
   },
   "outputs": [],
   "source": []
  },
  {
   "cell_type": "code",
   "execution_count": null,
   "metadata": {
    "collapsed": true
   },
   "outputs": [],
   "source": []
  },
  {
   "cell_type": "markdown",
   "metadata": {},
   "source": [
    "## Constrained Optimization\n",
    "\n",
    "\n",
    "\n",
    "\n",
    "the tangency argument\n",
    "\n",
    "$$ dx_2/dx_1  = - F_{1}(x_1,x_2)/F_{2}(x_1,x_2)  $$\n",
    "\n",
    "differentiate this again, and x_2 on the right-hand side is a function of x_1,\n",
    "\n",
    "with First-order condition,\n",
    "\n",
    "$$F_j (x) - \\lambda G_j (x) \\quad for \\quad j = 1,2$$\n",
    "\n",
    "\n",
    "\n",
    "\n",
    "\n",
    "\n",
    "\n"
   ]
  },
  {
   "cell_type": "markdown",
   "metadata": {},
   "source": [
    "\n",
    "\n",
    "The result can be more neatly expressed in matrix notation: evaluated at $\\bar x$\n",
    "\n",
    "the bordered Hessian is the Hessian of the Lagrange function \n",
    "\n",
    "$${\\displaystyle \\Lambda (\\mathbf {x} ,\\lambda )=f(\\mathbf {x} )-\\lambda [g(\\mathbf {x} )-c]}:$$\n",
    "\n",
    "\n",
    "\n",
    "\n",
    "\n",
    "$${\\displaystyle {\\mathbf {H}}(\\Lambda )={\\begin{bmatrix}{\\dfrac {\\partial ^{2}\\Lambda }{\\partial \\lambda ^{2}}}&{\\dfrac {\\partial ^{2}\\Lambda }{\\partial \\lambda \\partial {\\mathbf {x}}}}\\\\\\left({\\dfrac {\\partial ^{2}\\Lambda }{\\partial \\lambda \\partial {\\mathbf {x}}}}\\right)^{\\mathsf {T}}&{\\dfrac {\\partial ^{2}\\Lambda }{\\partial {\\mathbf {x}}^{2}}}\\end{bmatrix}}={\\begin{bmatrix}0&{\\dfrac {\\partial g}{\\partial x_{1}}}&{\\dfrac {\\partial g}{\\partial x_{2}}}&\\cdots &{\\dfrac {\\partial g}{\\partial x_{n}}}\\\\[2.2ex]{\\dfrac {\\partial g}{\\partial x_{1}}}&{\\dfrac {\\partial ^{2}\\Lambda }{\\partial x_{1}^{2}}}&{\\dfrac {\\partial ^{2}\\Lambda }{\\partial x_{1}\\,\\partial x_{2}}}&\\cdots &{\\dfrac {\\partial ^{2}\\Lambda }{\\partial x_{1}\\,\\partial x_{n}}}\\\\[2.2ex]{\\dfrac {\\partial g}{\\partial x_{2}}}&{\\dfrac {\\partial ^{2}\\Lambda }{\\partial x_{2}\\,\\partial x_{1}}}&{\\dfrac {\\partial ^{2}\\Lambda }{\\partial x_{2}^{2}}}&\\cdots &{\\dfrac {\\partial ^{2}\\Lambda }{\\partial x_{2}\\,\\partial x_{n}}}\\\\[2.2ex]\\vdots &\\vdots &\\vdots &\\ddots &\\vdots \\\\[2.2ex]{\\dfrac {\\partial g}{\\partial x_{n}}}&{\\dfrac {\\partial ^{2}\\Lambda }{\\partial x_{n}\\,\\partial x_{1}}}&{\\dfrac {\\partial ^{2}\\Lambda }{\\partial x_{n}\\,\\partial x_{2}}}&\\cdots &{\\dfrac {\\partial ^{2}\\Lambda }{\\partial x_{n}^{2}}}\\end{bmatrix}}={\\begin{bmatrix}0&{\\dfrac {\\partial g}{\\partial {\\mathbf {x}}}}\\\\\\left({\\dfrac {\\partial g}{\\partial {\\mathbf {x}}}}\\right)^{\\mathsf {T}}&{\\dfrac {\\partial ^{2}\\Lambda }{\\partial {\\mathbf {x}}^{2}}}\\end{bmatrix}}}\n",
    "$$\n",
    "\n"
   ]
  },
  {
   "cell_type": "markdown",
   "metadata": {},
   "source": [
    "\n",
    "The second -order sufficient conditions for a local maximum then impose restrictions on the signs of their determinants.\n",
    "\n",
    "\n",
    "The signs are required to alternate, the first one (that formed by the last 2m rows and the corresponding columns) having the sign of $(-1)^m$. \n",
    "\n",
    "\n"
   ]
  },
  {
   "cell_type": "markdown",
   "metadata": {},
   "source": [
    "\n",
    "$$\\begin{bmatrix}F_{11}& F_{12}\\\\F_{21} &F_{22} \\\\ \\end{bmatrix}   \\begin{bmatrix} \\frac{ d \\bar x_1}{ d \\alpha_1  } \\\\ \\frac{ d \\bar x_2}{ d \\alpha_1  }\\\\ \\end{bmatrix}   = - \\begin{bmatrix} F_{1 \\alpha_1} \\\\ F_{2 \\alpha_1} \\\\ \\end{bmatrix} $$\n",
    "\n"
   ]
  },
  {
   "cell_type": "markdown",
   "metadata": {},
   "source": [
    "\n",
    "<script src=\"https://cdnjs.cloudflare.com/ajax/libs/mermaid/0.3.0/mermaid.full.min.js\"></script>\n",
    "\n",
    "```mermaid\n",
    "graph TD;\n",
    "    A-->B;\n",
    "    A-->C;\n",
    "    B-->D;\n",
    "    C-->D;\n",
    "```\n",
    "\n",
    "<div class=\"mermaid\">\n",
    "graph TD;\n",
    "    A-->B;\n",
    "    A-->C;\n",
    "    B-->D;\n",
    "    C-->D;\n",
    "</div>\n"
   ]
  },
  {
   "cell_type": "code",
   "execution_count": null,
   "metadata": {
    "collapsed": true
   },
   "outputs": [],
   "source": []
  },
  {
   "cell_type": "markdown",
   "metadata": {
    "collapsed": true
   },
   "source": [
    "\n",
    "ref:\n",
    "\n",
    "https://mjo.osborne.economics.utoronto.ca/index.php/tutorial/index/1/qcc/t\n",
    "\n",
    "http://cupid.economics.uq.edu.au/mclennan/Classes/Ec6003/ec6003_lec_07.pdf\n",
    "\n",
    "https://are.berkeley.edu/courses/ARE211/fall2012/lecture_notes/mathCharFunct-12-draft.pdf"
   ]
  },
  {
   "cell_type": "code",
   "execution_count": null,
   "metadata": {
    "collapsed": true
   },
   "outputs": [],
   "source": []
  },
  {
   "cell_type": "code",
   "execution_count": null,
   "metadata": {
    "collapsed": true
   },
   "outputs": [],
   "source": []
  },
  {
   "cell_type": "code",
   "execution_count": null,
   "metadata": {
    "collapsed": true
   },
   "outputs": [],
   "source": []
  },
  {
   "cell_type": "code",
   "execution_count": null,
   "metadata": {
    "collapsed": true
   },
   "outputs": [],
   "source": []
  },
  {
   "cell_type": "code",
   "execution_count": null,
   "metadata": {
    "collapsed": true
   },
   "outputs": [],
   "source": []
  },
  {
   "cell_type": "code",
   "execution_count": null,
   "metadata": {
    "collapsed": true
   },
   "outputs": [],
   "source": []
  },
  {
   "cell_type": "code",
   "execution_count": null,
   "metadata": {
    "collapsed": true
   },
   "outputs": [],
   "source": []
  },
  {
   "cell_type": "code",
   "execution_count": null,
   "metadata": {
    "collapsed": true
   },
   "outputs": [],
   "source": []
  },
  {
   "cell_type": "code",
   "execution_count": null,
   "metadata": {
    "collapsed": true
   },
   "outputs": [],
   "source": []
  },
  {
   "cell_type": "code",
   "execution_count": null,
   "metadata": {
    "collapsed": true
   },
   "outputs": [],
   "source": []
  },
  {
   "cell_type": "code",
   "execution_count": null,
   "metadata": {
    "collapsed": true
   },
   "outputs": [],
   "source": []
  },
  {
   "cell_type": "code",
   "execution_count": null,
   "metadata": {
    "collapsed": true
   },
   "outputs": [],
   "source": []
  },
  {
   "cell_type": "code",
   "execution_count": null,
   "metadata": {
    "collapsed": true
   },
   "outputs": [],
   "source": []
  },
  {
   "cell_type": "code",
   "execution_count": null,
   "metadata": {
    "collapsed": true
   },
   "outputs": [],
   "source": []
  }
 ],
 "metadata": {
  "kernelspec": {
   "display_name": "Python 3",
   "language": "python",
   "name": "python3"
  },
  "language_info": {
   "codemirror_mode": {
    "name": "ipython",
    "version": 3
   },
   "file_extension": ".py",
   "mimetype": "text/x-python",
   "name": "python",
   "nbconvert_exporter": "python",
   "pygments_lexer": "ipython3",
   "version": "3.6.2"
  }
 },
 "nbformat": 4,
 "nbformat_minor": 2
}
