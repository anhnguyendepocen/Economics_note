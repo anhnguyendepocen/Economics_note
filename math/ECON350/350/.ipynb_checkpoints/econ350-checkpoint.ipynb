{
 "cells": [
  {
   "cell_type": "markdown",
   "metadata": {},
   "source": [
    "\n",
    "http://people.duke.edu/~ccc14/sta-663-2017/13A_LinearAlgebra1.html#linear-algebra-and-linear-systems\n",
    "\n",
    "http://people.duke.edu/~ccc14/sta-663-2017/14B_Multivariate_Optimization.html"
   ]
  }
 ],
 "metadata": {
  "kernelspec": {
   "display_name": "Python 3",
   "language": "python",
   "name": "python3"
  },
  "language_info": {
   "codemirror_mode": {
    "name": "ipython",
    "version": 3
   },
   "file_extension": ".py",
   "mimetype": "text/x-python",
   "name": "python",
   "nbconvert_exporter": "python",
   "pygments_lexer": "ipython3",
   "version": "3.6.2"
  }
 },
 "nbformat": 4,
 "nbformat_minor": 2
}
