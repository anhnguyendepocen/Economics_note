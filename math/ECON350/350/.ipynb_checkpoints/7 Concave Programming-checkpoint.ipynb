{
 "cells": [
  {
   "cell_type": "markdown",
   "metadata": {},
   "source": [
    "The Lagrange or Kuhn-Tucker conditions, in conjunction with convexity properties of the objective and constraint functions, are sufficient for optimality.\n",
    "\n",
    "\n",
    "## Concave function and Their Derivatives\n",
    "\n",
    "express the convexity of functions in terms of their derivatives.\n",
    "\n",
    "## Concave Programming\n",
    "\n",
    "choosing the vector x to maximize the F(x) subject to  constaint G(x) <= c. Let x denote the optimum choice, and now write $\\bar v$ for the maximum value.\n",
    "\n",
    "where F is differentiable and concave, and each component constraint function G^i is differentiable and convex\n",
    "\n",
    "\n",
    "**The priciple in general and important** : constrained coice can be converted into unconstrained choice if the proper scarcity costs or shadaow values of the constraints are netted out of the criterion function. \n",
    "\n",
    "To the economist, this is the most important feature of the Lagranges's Method in concave programming. \n",
    "\n",
    "the $\\lambda$ should equal $V_c(c^*)$, the vector of partial derivative of V at $c^*$. That would make $\\lambda$ the vector of the marginal revenue products of inputs at the optimum, or the vector of shadow prices for the constraints. \n",
    "\n",
    "the concept of diminishing returns holds.\n",
    "\n",
    "generalized marignal products.\n",
    "\n",
    "Complementary slackness\n",
    "\n",
    "\n",
    "the shadow price of any slack constraint is zero, and any constraint with a positive shadow price must be binding. \n",
    "\n",
    "$$F(x) - \\lambda G(x) <= F(\\bar x) - \\lambda G(\\bar x)$$\n",
    "\n",
    "shadow prices allow us to convet the origianl constrained revenue-maximization problem into an unconstrained profit-maximization problem\n",
    "\n",
    "\n"
   ]
  },
  {
   "cell_type": "markdown",
   "metadata": {},
   "source": [
    "P 95 \n",
    "\n",
    "Necessary conditions of Concave Programming:\n",
    "\n",
    "If $\\bar x$ maiximizes F(x) subject to G(x)<= c, then there is a row vector $\\lambda$ such that\n",
    "\n",
    "i. $\\bar x$ maximizes $F(x) - \\lambda G(x)$ without any constraints, and\n",
    "\n",
    "\n",
    "ii. $\\lambda >= 0, G(\\bar x) <= c$ with complementary slackness.\n",
    "\n",
    "This is just the condition of Lagrange's Theorem with Inequality Constraints.\n",
    "\n",
    "With non-negative x, we get teh corresponding condition of the Kuhn-Tucker Theorem.\n",
    "\n",
    "must be confined to the case of concave programming to achive maximum. \n",
    "\n",
    "\n",
    "\n",
    "$$F(x) - \\lambda G(x) <= F(\\bar x) - \\lambda G(\\bar x)$$\n",
    "\n",
    "or using complementary slackness，\n",
    "\n",
    "\n",
    "$$F(x) - \\lambda G(x) <= F(\\bar x) - \\lambda c$$\n",
    "\n",
    "if x is feasible, $G(x) <= c$, and then\n",
    "\n",
    "$$F(x) <= F(x) + \\lambda [c-G(x)] <= F(\\bar x) $$\n",
    "\n",
    "\n",
    "And \n",
    "\n",
    "$$F(x) - \\lambda G(x)$$\n",
    "\n",
    "is concave.\n",
    "\n"
   ]
  },
  {
   "cell_type": "markdown",
   "metadata": {},
   "source": [
    "\n",
    "Sufficient Condition for Concave Programming:\n",
    "\n",
    "If $\\bar x$ and $\\lambda$ are such that\n",
    "\n",
    "i. $\\bar x$ maximizes $F(x) - \\lambda G(x)$ without any constraints, and\n",
    "\n",
    "\n",
    "ii. $\\lambda >= 0, G(\\bar x) <= c$ with complementary slackness.\n",
    "\n",
    "\n",
    "Then  $\\bar x$ maiximizes F(x) subject to G(x)<= c\n"
   ]
  }
 ],
 "metadata": {
  "kernelspec": {
   "display_name": "Python3",
   "language": "python",
   "name": "py3"
  },
  "language_info": {
   "codemirror_mode": {
    "name": "ipython",
    "version": 2
   },
   "file_extension": ".py",
   "mimetype": "text/x-python",
   "name": "python",
   "nbconvert_exporter": "python",
   "pygments_lexer": "ipython2",
   "version": "2.7.13"
  }
 },
 "nbformat": 4,
 "nbformat_minor": 2
}
