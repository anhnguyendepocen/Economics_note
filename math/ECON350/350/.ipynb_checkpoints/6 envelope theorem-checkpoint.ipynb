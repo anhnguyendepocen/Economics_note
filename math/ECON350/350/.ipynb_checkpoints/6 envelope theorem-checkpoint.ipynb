{
 "cells": [
  {
   "cell_type": "code",
   "execution_count": 1,
   "metadata": {},
   "outputs": [],
   "source": [
    "import matplotlib\n",
    "import numpy as np\n",
    "import matplotlib.cm as cm\n",
    "import matplotlib.mlab as mlab\n",
    "import matplotlib.pyplot as plt\n",
    "%matplotlib notebook"
   ]
  },
  {
   "cell_type": "markdown",
   "metadata": {},
   "source": [
    "## Motivation for the Envelope theorem\n",
    "\n",
    "https://mjo.osborne.economics.utoronto.ca/index.php/tutorial/index/1/mee/t\n",
    "\n",
    "\n",
    "In economic theory we are often interested in how the maximal value of a function depends on some parameters.\n",
    "Consider, for example, a firm that can produce output with a single input using the production function f. The standard theory is that the firm chooses the amount x of the input to maximize its profit $pf(x) − wx$, where p is the price of output and w is the price of the input. Denote by $x*(w, p)$ the optimal amount of the input when the prices are $w$ and $p$. An economically interesting question is: how does the firm's maximal profit $pf(x^*(w, p)) − wx^*(w, p)$ depend upon p?\n",
    "\n",
    "We have already answered this question in an earlier example. To do so, we used the chain rule to differentiate pf(x*(w, p)) − wx*(w, p) with respect to p, yielding\n",
    "\n",
    "$$f(x^*(w, p)) + x^{*'}_p(w, p)[pf'(x^*(w, p)) − w],$$\n",
    "\n",
    "\n",
    "and then used the fact that $x^*(w, p)$ satisfies the first-order condition $pf'(x^*(w, p)) − w = 0$ to conclude that the derivative is simply $f(x^*(w, p))$.\n",
    "That is, the fact that **the value of the variable satisfies the first-order condition** allows us to **dramatically simplify** the expression for the derivative of the firm's maximal profit. On this page I describe results that generalize this observation to an arbitrary maximization problem.\n"
   ]
  },
  {
   "cell_type": "markdown",
   "metadata": {},
   "source": [
    "## Why is the result called the envelope theorem? \n",
    "\n",
    "\n",
    "The American Heritage Dictionary (3ed) gives one meaning of “envelope” to be “A curve or surface that is tangent to every one of a family of curves or surfaces”. \n",
    "\n",
    "In the following figure, each black curve is the graph of f as a function of r for a fixed value of x. (Only a few values of x are considered; one can construct as many as one wishes.) \n",
    "\n",
    "Each of these graphs shows how f changes as r changes, for a given value of x. \n",
    "\n",
    "To find the solution of the maximization problem for any given value of r, we find the highest function for that value of r. \n",
    "\n",
    "For example, for $r = r'$, the highest function is the one colored blue. \n",
    "\n",
    "The graph of the value function $f^*$ is the locus of these highest points; it is the envelope of the graphs for **each given value of $x$**. \n",
    "\n",
    "\n",
    "From the figure, the envelope theorem is apparent: **the slope of the envelope at any given value of $r$ is the slope of the graph of $f(x^*(r), r)$. (For example, the slope of the envelope at $r'$ is the slope of the blue curve at $r'$.)**"
   ]
  },
  {
   "cell_type": "markdown",
   "metadata": {},
   "source": [
    "![](https://www.economics.utoronto.ca/osborne/MathTutorial/meeg1.gif)\n",
    "\n",
    "ref: http://www.g-feed.com/2014/06/adaptation-with-envelope.html\n",
    "\n",
    "http://mathforum.org/mathimages/index.php/Envelope\n",
    "\n",
    "\n",
    "![](http://lh5.ggpht.com/_1wtadqGaaPs/THLK_YYxO7I/AAAAAAAAUeo/071hNe930gM/tmp4151_thumb.jpg?imgmax=800)\n",
    "\n",
    "ref: \n",
    "\n",
    "https://www.slideshare.net/FarzadJavidanrad/specific-topics-in-optimisation\n",
    "\n",
    "\n",
    "\n",
    "• Objective Function: A function which is going to be optimized. \n",
    "\n",
    "• Decision Variables: The independent (or explanatory) variables in a model. \n",
    "\n",
    "• Optimal Values: Maximum or minimum values of variables in a model.. \n",
    "\n",
    "• The envelope theorem focus on the relation between the optimal value of the dependent variable in a particular function and the parameter(s) of that function. \n",
    "\n",
    "How the optimal value does change when a parameter (or one of parameters of the model) changes?\n",
    "\n",
    "\n",
    "\n",
    "ref: https://www.slideshare.net/YosukeYasuda1/advanced-microeconomics-lecture-slides\n",
    "\n"
   ]
  },
  {
   "cell_type": "code",
   "execution_count": null,
   "metadata": {},
   "outputs": [],
   "source": []
  },
  {
   "cell_type": "code",
   "execution_count": 2,
   "metadata": {},
   "outputs": [],
   "source": [
    "matplotlib.rcParams['xtick.direction'] = 'out'\n",
    "matplotlib.rcParams['ytick.direction'] = 'out'"
   ]
  },
  {
   "cell_type": "markdown",
   "metadata": {},
   "source": [
    "\n",
    "\n",
    "$$ \\frac{\\partial V}{\\partial a} = \\frac{\\partial L}{\\partial a} $$\n",
    "\n",
    "\n",
    "Value function is optimal objective value, objective function evaluated at $\\bar x$\n",
    "\n",
    "$$v = F(\\bar x(\\theta), \\theta)$$\n",
    "\n",
    "since $\\bar x$ is a function of $\\theta$, the total derivative of $F$ with respect of $\\theta$ by chain rule will be \n",
    "\n",
    "$$d F(\\bar x(\\theta), \\theta) = \\underbrace{F_{\\bar x}(\\bar x(\\theta), \\theta)  d \\bar x(\\theta)}_{\\text{Indirect effcet}}  + \\underbrace{F_{\\theta}(\\bar x(\\theta), \\theta) d \\theta}_{\\text{Direct effect}}  \\tag 1 $$\n",
    "\n",
    "\n"
   ]
  },
  {
   "cell_type": "markdown",
   "metadata": {},
   "source": [
    "### For an optimization problem without constraint, the F.O.C is\n",
    "\n",
    "$$ F_{\\bar x}(\\bar x(\\theta),\\theta) = 0  \\tag 2  $$\n",
    "\n",
    "then plug $(2)$ into $(1)$\n",
    "\n",
    "$$d F(\\bar x(\\theta), \\theta) =   + \\underbrace{F_{\\theta}(\\bar x(\\theta), \\theta) d \\theta}_{\\text{Direct effect}}    $$ \n",
    "\n",
    "the **indirect effect** is $0$, and only **direct effect**.\n",
    "\n"
   ]
  },
  {
   "cell_type": "markdown",
   "metadata": {},
   "source": [
    "### For an optimization problem with constraint, the F.O.C is\n",
    "\n",
    "$$ F_{\\bar x}(\\bar x(\\theta), \\theta) - \\lambda G_{\\bar x}(\\bar x(\\theta), \\theta) = 0 \\tag 3 $$\n",
    "\n",
    "here $\\lambda$ can be a vector,\n",
    "\n",
    "and for a F.O.T.S of $G( \\bar x(\\theta) + d \\bar x(\\theta), \\theta + d \\theta )$\n",
    "\n",
    "$$G( \\bar x(\\theta) + d \\bar x(\\theta), \\theta + d \\theta ) = G( \\bar x(\\theta) , \\theta ) + G_{ \\bar x(\\theta)} d\\bar x(\\theta)+ G_{\\theta} d \\theta  $$\n",
    "\n",
    "since the constraints are still binding before perturbation and after perturbation, \n",
    "\n",
    "$$G( \\bar x(\\theta) + d \\bar x(\\theta), \\theta + d \\theta ) = G( \\bar x(\\theta) , \\theta )$$\n",
    "\n",
    "then\n",
    "\n",
    "$$G_{ \\bar x(\\theta)} d\\bar x(\\theta) = - G_{\\theta} d \\theta  \\tag 4 $$\n",
    "\n",
    "\n",
    "Plug $(3)$ and $({4})$ into $({1})$, we have\n",
    "\n",
    "$$ d F(\\bar x(\\theta), \\theta) = \\underbrace{- \\lambda G_{\\theta} d \\theta}_{\\text{Indirect effcet}}  + \\underbrace{F_{\\theta}(\\bar x(\\theta), \\theta) d \\theta}_{\\text{Direct effect}} $$\n",
    "\n",
    "factor out the $d \\theta$, \n",
    "\n",
    "$$d F(\\bar x(\\theta), \\theta) = (\\underbrace{- \\lambda G_{\\theta} }_{\\text{Indirect effcet}}  + \\underbrace{F_{\\theta}}_{\\text{Direct effect}}) d \\theta $$\n",
    "\n",
    "The indirect effect of $\\theta$ on $F$ equals to the direct effect of $\\theta$ on $G$ times $\\lambda$,\n",
    "\n",
    "since F.O.C of Lagrangean is \n",
    "\n",
    "$$ L_{\\theta} = F_{\\theta} - \\lambda G_{\\theta} $$\n",
    "\n",
    "so\n",
    "\n",
    "$$ \\frac{dv}{d \\theta}  = \\frac{dF(\\bar x(\\theta), \\theta)}{d\\theta} =  \\frac{dL}{d\\theta} $$"
   ]
  },
  {
   "cell_type": "markdown",
   "metadata": {},
   "source": [
    "\n",
    "\n",
    "If I want to see how utility at its optimal level changes when wealth changes, I can simply differentiate this equation with respect to wealth explicitly:\n",
    "\n",
    "$V_3=λ$ - so the marginal utility of wealth is simply the Lagrange multiplier.\n",
    "\n",
    "\n",
    "The relationship between indirect utility and expenditure is from the 'duality' between the two. The reason why $V(p,e(p,u))=w$ stems from the fact that the optimal arguments for both will be equivalent when the value of utility achieved in the utility max problem is the same utility level that we set as $U= \\bar u$ in the expenditure minimization problem."
   ]
  },
  {
   "cell_type": "code",
   "execution_count": null,
   "metadata": {},
   "outputs": [],
   "source": []
  },
  {
   "cell_type": "markdown",
   "metadata": {},
   "source": [
    "## Comparative Static Analysis\n",
    "\n",
    "###  envelope theorem\n",
    "\n",
    "\n",
    "\n",
    "https://mjo.osborne.economics.utoronto.ca/index.php/tutorial/index/1/mee/t\n",
    "\n",
    "\n",
    "#### Proposition (Envelope theorem for an unconstrained maximization problem)  \n",
    "\n",
    "*proof*\n",
    "\n",
    "Let f be a function of $n + k$ variables, let r be a $k$-vector, and let the n-vector $x^*$ be a maximizer of $f(x, r)$. Assume that the partial derivative $f'_{n+h}(x^*, r)$ (i.e. the partial derivative of $f$ with respect to $r_h$ at $(x^*, r))$ exists. Define the function $f^*$ of $k$ variables by \n",
    "\n",
    "$$f^*(r) = \\max_{x} f(x, r) \\ \\forall r.$$\n",
    "\n",
    "If the partial derivative f*h'(r) exists then \n",
    "\n",
    "$$f^{*'}_h(r)  = f'_{n+h}(x^*, r).$$\n",
    "\n",
    "This result says that the change in the maximal value of the function as a parameter changes is the change caused by the direct impact of the parameter on the function, holding the value of x fixed at its optimal value; the indirect effect, resulting from the change in the optimal value of x caused by a change in the parameter, is zero."
   ]
  },
  {
   "cell_type": "markdown",
   "metadata": {},
   "source": [
    "The next two examples illustrate how **the result simplifies** the calculation of the derivatives of the value function."
   ]
  },
  {
   "cell_type": "markdown",
   "metadata": {},
   "source": [
    "### Example\n",
    "\n",
    "Consider the problem studied at the start of this section, in which a firm can produce output, with price p, using a single input, with price w, according to the production function f. The firm's profit when it uses the amount x of the input is $π(x, (w, p)) = pf(x) − wx$, and its maximal profit is \n",
    "\n",
    "$$f^*(w, p) = p f(x^*(w, p)) − wx^*(w, p),$$\n",
    "\n",
    "where $x^*(w, p)$ is the optimal amount of the input at the prices (w, p). \n",
    "\n",
    "This function $f^*$ is known as the firm's **profit function**. **By the envelope theorem, the derivative of this function with respect to p is the partial derivative of π with respect to p evaluated at $x = x^*(w, p)$**, namely \n",
    "$$f(x^*(w, p))$$.\n",
    "\n",
    "In particular, **the derivative is positive: if the price of output increases, then the firm's maximal profit increases.** \n",
    "\n",
    "\n",
    "\n",
    "Also by the **envelope theorem the derivative of the firm's maximal profit with respect to w is $−x^*(p, w)$**.\n",
    "\n",
    "(This result is known as **Hotelling's Lemma**, after Harold Hotelling, 1895–1973.) \n",
    "\n",
    "In particular, **this derivative is negative: if the price of the input increases, then the firm's maximal profit decreases.** \n",
    "\n",
    "A consequence of Hotelling's Lemma is that we can easily find the firm's input demand function $x*$ if we know the firm's profit function, even if we do not know the firm's production function: we have $$x^*(p, w) = −π^* w'(p, w) \\quad\\ \\forall (p, w)$$, so we may **obtain the input demand function by simply differentiating the profit function.**"
   ]
  },
  {
   "cell_type": "code",
   "execution_count": null,
   "metadata": {},
   "outputs": [],
   "source": []
  },
  {
   "cell_type": "markdown",
   "metadata": {},
   "source": [
    "### Proposition (Envelope theorem for constrained maximization problems)\n",
    "\n",
    "\n",
    "Let $f$ and $g_1, ..., g_m$ be continuously differentiable functions of $n + k$ variables, with m ≤ n. Suppose that for all values of the k-vector r the problem \n",
    "\n",
    "\n",
    "$$\\max_x f(x, r) \\quad \\text{subject to} \\quad g_j(x, r) = 0 \\quad \\text{for} \\quad j = 1, ..., m$$,\n",
    "\n",
    "where x is an n-vector, has a unique solution, which is differentiable in r. Denote this solution $x^*(r)$ and define the function $f^*$ of $k$ variables by \n",
    "\n",
    "$$f^*(r)  = \\max_x f(x, r) \\quad  \\text{subject to} \\quad g_j(x, r) = 0 \\quad \\text{for} \\quad j = 1, ..., m.$$\n",
    "\n",
    "Suppose that the rank of the $m × n$ matrix in which the $(i, j)$th component is $(∂g_j/∂x_i)(x^*(r), r)$ is m. Define the function L by \n",
    "\n",
    "$$L(x, λ, r)  = f(x, r) − ∑^m_{j=1}λ_{j}g_{j}(x, r) \\quad \\text{for every} \\quad (x, λ, r),$$\n",
    "\n",
    "\n",
    "where $x$ is an n-vector, $λ$ is an m-vector, and $r$ is a k-vector. Then \n",
    "\n",
    "$$f^*h'(r) = L'_{n+m+h}(x^*(r), λ(r), r) \\quad \\text{for}  \\quad h = 1, ..., k,$$\n",
    "\n",
    "where $λ(r) = (λ_1(r), ..., λ_m(r))$ and $λ_j(r)$ is the value of Lagrange multiplier associated with the jth constraint at the solution of the problem. \n"
   ]
  },
  {
   "cell_type": "code",
   "execution_count": null,
   "metadata": {},
   "outputs": [],
   "source": []
  },
  {
   "cell_type": "code",
   "execution_count": null,
   "metadata": {},
   "outputs": [],
   "source": []
  },
  {
   "cell_type": "markdown",
   "metadata": {},
   "source": [
    "\n",
    "\n",
    "\n",
    "\n",
    "\n",
    "\n",
    "\n",
    "\n",
    "\n",
    "\n",
    "### Example\n",
    "\n",
    "Consider a utility maximization problem: \n",
    "\n",
    "$$\\max_x u(x) \\quad \\text{subject to} \\quad p·x = w.$$\n",
    "\n",
    "where x is a vector (a bundle of goods), p is the price vector, and w is the consumer's wealth (a number). Denote the solution of the problem by x*(p, w), and denote the value function by v, so that \n",
    "\n",
    "$$v(p, w) = u(x*(p, w)) \\quad \\text{for every} \\quad (p, w).$$\n",
    "The function v is known as the indirect utility function. \n",
    "By the envelope theorem for constrained maximization problems we have \n",
    "$$(∂v/∂pi)(p, w) = −λ^*(p, w)x_i^*(p, w)$$\n",
    "\n",
    "(since u does not depend independently on p or w) and \n",
    "$$(∂v/∂w)(p, w) = λ*(p, w).$$\n",
    "Thus \n",
    "$$(∂v/∂pi)(p, w) \\over (∂v/∂w)(p, w)  = −x_i^*(p, w).$$\n",
    "\n",
    "That is, if you know the indirect utility function then you can recover the demand functions. This result is known as **Roy's identity** (after René Roy, 1894–1977).\n",
    "\n",
    "https://economics.stackexchange.com/questions/13267/understanding-the-envelope-theorem\n",
    "\n",
    "\n",
    "$$V(p_x,p_y,w)=U(x(p_x,p_y,w), y(p_x,p_y,w))+\\lambda(p_x,p_y,w)[w-p_x-p_y]$$"
   ]
  },
  {
   "cell_type": "code",
   "execution_count": 1,
   "metadata": {},
   "outputs": [],
   "source": [
    "import sympy as sym\n",
    "sym.init_printing()\n",
    "\n",
    "x,y,z = sym.symbols('x y z')\n",
    "a,b,c = sym.symbols('a b c', positive = True)\n",
    "f, g, h = sym.symbols('f g h', cls=sym.Function)\n",
    "\n",
    "f = sym.Function('f')\n",
    "g = sym.Function('g')(x)\n",
    "\n",
    "x1,x2,lam = sym.symbols('x_1 x_2 lambda', positive = True)"
   ]
  },
  {
   "cell_type": "markdown",
   "metadata": {},
   "source": [
    "## 3b"
   ]
  },
  {
   "cell_type": "code",
   "execution_count": 2,
   "metadata": {},
   "outputs": [
    {
     "data": {
      "image/png": "[encoded data removed]",
      "text/latex": [
       "$$a x_{1} + 4 x_{2}$$"
      ],
      "text/plain": [
       "a⋅x₁ + 4⋅x₂"
      ]
     },
     "execution_count": 2,
     "metadata": {},
     "output_type": "execute_result"
    }
   ],
   "source": [
    "F = a*x1+4*x2\n",
    "F"
   ]
  },
  {
   "cell_type": "code",
   "execution_count": 3,
   "metadata": {},
   "outputs": [
    {
     "data": {
      "image/png": "[encoded data removed]",
      "text/latex": [
       "$$x_{1}^{0.25} x_{2}^{0.75}$$"
      ],
      "text/plain": [
       "  0.25   0.75\n",
       "x₁    ⋅x₂    "
      ]
     },
     "execution_count": 3,
     "metadata": {},
     "output_type": "execute_result"
    }
   ],
   "source": [
    "G = x1**0.25*x2**0.75\n",
    "c = 10\n",
    "G"
   ]
  },
  {
   "cell_type": "code",
   "execution_count": 4,
   "metadata": {},
   "outputs": [
    {
     "data": {
      "image/png": "[encoded data removed]",
      "text/latex": [
       "$$a x_{1} + \\lambda \\left(- x_{1}^{0.25} x_{2}^{0.75} + 10\\right) + 4 x_{2}$$"
      ],
      "text/plain": [
       "         ⎛    0.25   0.75     ⎞       \n",
       "a⋅x₁ + λ⋅⎝- x₁    ⋅x₂     + 10⎠ + 4⋅x₂"
      ]
     },
     "execution_count": 4,
     "metadata": {},
     "output_type": "execute_result"
    }
   ],
   "source": [
    "L = F + lam*(c-G)\n",
    "L"
   ]
  },
  {
   "cell_type": "code",
   "execution_count": 5,
   "metadata": {},
   "outputs": [
    {
     "data": {
      "image/png": "[encoded data removed]",
      "text/latex": [
       "$$a - \\frac{0.25 \\lambda}{x_{1}^{0.75}} x_{2}^{0.75}$$"
      ],
      "text/plain": [
       "             -0.75   0.75\n",
       "a - 0.25⋅λ⋅x₁     ⋅x₂    "
      ]
     },
     "execution_count": 5,
     "metadata": {},
     "output_type": "execute_result"
    }
   ],
   "source": [
    "L1 =sym.diff(L, x1)\n",
    "L1"
   ]
  },
  {
   "cell_type": "code",
   "execution_count": 6,
   "metadata": {},
   "outputs": [
    {
     "data": {
      "image/png": "[encoded data removed]",
      "text/latex": [
       "$$- \\frac{0.75 \\lambda}{x_{2}^{0.25}} x_{1}^{0.25} + 4$$"
      ],
      "text/plain": [
       "           0.25   -0.25    \n",
       "- 0.75⋅λ⋅x₁    ⋅x₂      + 4"
      ]
     },
     "execution_count": 6,
     "metadata": {},
     "output_type": "execute_result"
    }
   ],
   "source": [
    "L2=sym.diff(L, x2)\n",
    "L2"
   ]
  },
  {
   "cell_type": "code",
   "execution_count": 7,
   "metadata": {},
   "outputs": [
    {
     "data": {
      "image/png": "[encoded data removed]",
      "text/latex": [
       "$$- x_{1}^{0.25} x_{2}^{0.75} + 10$$"
      ],
      "text/plain": [
       "    0.25   0.75     \n",
       "- x₁    ⋅x₂     + 10"
      ]
     },
     "execution_count": 7,
     "metadata": {},
     "output_type": "execute_result"
    }
   ],
   "source": [
    "Llam =sym.diff(L, lam)\n",
    "Llam"
   ]
  },
  {
   "cell_type": "code",
   "execution_count": 8,
   "metadata": {},
   "outputs": [
    {
     "data": {
      "image/png": "[encoded data removed]",
      "text/latex": [
       "$$\\left [ \\left \\{ \\lambda : 4.9632259152112 \\sqrt[4]{a}, \\quad x_{1} : \\frac{12.408064788028}{a^{\\frac{3}{4}}}, \\quad x_{2} : 9.306048591021 \\sqrt[4]{a}\\right \\}\\right ]$$"
      ],
      "text/plain": [
       "⎡⎧                   4 ___      12.408064788028                     4 ___⎫⎤\n",
       "⎢⎪λ: 4.9632259152112⋅╲╱ a , x₁: ───────────────, x₂: 9.306048591021⋅╲╱ a ⎪⎥\n",
       "⎢⎨                                     3/4                               ⎬⎥\n",
       "⎢⎪                                    a                                  ⎪⎥\n",
       "⎣⎩                                                                       ⎭⎦"
      ]
     },
     "execution_count": 8,
     "metadata": {},
     "output_type": "execute_result"
    }
   ],
   "source": [
    "sol1=sym.solve([L1,L2,Llam], x1,x2, lam,dict=True)\n",
    "sol1"
   ]
  },
  {
   "cell_type": "code",
   "execution_count": 9,
   "metadata": {},
   "outputs": [
    {
     "data": {
      "image/png": "[encoded data removed]",
      "text/latex": [
       "$$x_{1}$$"
      ],
      "text/plain": [
       "x₁"
      ]
     },
     "execution_count": 9,
     "metadata": {},
     "output_type": "execute_result"
    }
   ],
   "source": [
    "La = sym.diff(L,a)\n",
    "La"
   ]
  },
  {
   "cell_type": "code",
   "execution_count": 10,
   "metadata": {},
   "outputs": [
    {
     "data": {
      "image/png": "[encoded data removed]",
      "text/latex": [
       "$$\\frac{12.408064788028}{a^{\\frac{3}{4}}}$$"
      ],
      "text/plain": [
       "12.408064788028\n",
       "───────────────\n",
       "       3/4     \n",
       "      a        "
      ]
     },
     "execution_count": 10,
     "metadata": {},
     "output_type": "execute_result"
    }
   ],
   "source": [
    "La.subs({x1:sol1[0][x1]})"
   ]
  },
  {
   "cell_type": "markdown",
   "metadata": {},
   "source": [
    "## 3e"
   ]
  },
  {
   "cell_type": "code",
   "execution_count": 11,
   "metadata": {},
   "outputs": [
    {
     "data": {
      "image/png": "[encoded data removed]",
      "text/latex": [
       "$$2 x_{1} + 3 x_{2}$$"
      ],
      "text/plain": [
       "2⋅x₁ + 3⋅x₂"
      ]
     },
     "execution_count": 11,
     "metadata": {},
     "output_type": "execute_result"
    }
   ],
   "source": [
    "F = 2*x1+3*x2\n",
    "F"
   ]
  },
  {
   "cell_type": "code",
   "execution_count": 12,
   "metadata": {},
   "outputs": [
    {
     "data": {
      "image/png": "[encoded data removed]",
      "text/latex": [
       "$$a x_{2}^{2} + 2 x_{1}^{2}$$"
      ],
      "text/plain": [
       "    2       2\n",
       "a⋅x₂  + 2⋅x₁ "
      ]
     },
     "execution_count": 12,
     "metadata": {},
     "output_type": "execute_result"
    }
   ],
   "source": [
    "G = 2*x1**2+a*x2**2\n",
    "c = 10\n",
    "G"
   ]
  },
  {
   "cell_type": "code",
   "execution_count": 13,
   "metadata": {},
   "outputs": [
    {
     "data": {
      "image/png": "[encoded data removed]",
      "text/latex": [
       "$$\\lambda \\left(- a x_{2}^{2} - 2 x_{1}^{2} + 10\\right) + 2 x_{1} + 3 x_{2}$$"
      ],
      "text/plain": [
       "  ⎛      2       2     ⎞              \n",
       "λ⋅⎝- a⋅x₂  - 2⋅x₁  + 10⎠ + 2⋅x₁ + 3⋅x₂"
      ]
     },
     "execution_count": 13,
     "metadata": {},
     "output_type": "execute_result"
    }
   ],
   "source": [
    "L = F + lam*(c-G)\n",
    "L"
   ]
  },
  {
   "cell_type": "code",
   "execution_count": 14,
   "metadata": {},
   "outputs": [
    {
     "data": {
      "image/png": "[encoded data removed]",
      "text/latex": [
       "$$- 4 \\lambda x_{1} + 2$$"
      ],
      "text/plain": [
       "-4⋅λ⋅x₁ + 2"
      ]
     },
     "execution_count": 14,
     "metadata": {},
     "output_type": "execute_result"
    }
   ],
   "source": [
    "L1 =sym.diff(L, x1)\n",
    "L1"
   ]
  },
  {
   "cell_type": "code",
   "execution_count": 15,
   "metadata": {},
   "outputs": [
    {
     "data": {
      "image/png": "[encoded data removed]",
      "text/latex": [
       "$$- 2 a \\lambda x_{2} + 3$$"
      ],
      "text/plain": [
       "-2⋅a⋅λ⋅x₂ + 3"
      ]
     },
     "execution_count": 15,
     "metadata": {},
     "output_type": "execute_result"
    }
   ],
   "source": [
    "L2=sym.diff(L, x2)\n",
    "L2"
   ]
  },
  {
   "cell_type": "code",
   "execution_count": 16,
   "metadata": {},
   "outputs": [
    {
     "data": {
      "image/png": "[encoded data removed]",
      "text/latex": [
       "$$- a x_{2}^{2} - 2 x_{1}^{2} + 10$$"
      ],
      "text/plain": [
       "      2       2     \n",
       "- a⋅x₂  - 2⋅x₁  + 10"
      ]
     },
     "execution_count": 16,
     "metadata": {},
     "output_type": "execute_result"
    }
   ],
   "source": [
    "Llam =sym.diff(L, lam)\n",
    "Llam"
   ]
  },
  {
   "cell_type": "code",
   "execution_count": 22,
   "metadata": {},
   "outputs": [
    {
     "data": {
      "image/png": "[encoded data removed]",
      "text/latex": [
       "$$\\left [ \\left \\{ \\lambda : \\frac{\\sqrt{20 a + 90}}{20 \\sqrt{a}}, \\quad x_{1} : \\frac{\\sqrt{10} \\sqrt{a}}{\\sqrt{2 a + 9}}, \\quad x_{2} : \\frac{3 \\sqrt{10}}{\\sqrt{a} \\sqrt{2 a + 9}}\\right \\}\\right ]$$"
      ],
      "text/plain": [
       "⎡⎧     ___________                                     ⎫⎤\n",
       "⎢⎪   ╲╱ 20⋅a + 90          √10⋅√a            3⋅√10     ⎪⎥\n",
       "⎢⎨λ: ─────────────, x₁: ───────────, x₂: ──────────────⎬⎥\n",
       "⎢⎪       20⋅√a            _________           _________⎪⎥\n",
       "⎣⎩                      ╲╱ 2⋅a + 9       √a⋅╲╱ 2⋅a + 9 ⎭⎦"
      ]
     },
     "execution_count": 22,
     "metadata": {},
     "output_type": "execute_result"
    }
   ],
   "source": [
    "sol1=sym.solve([L1,L2,Llam], x1,x2, lam,dict=True)\n",
    "sol1"
   ]
  },
  {
   "cell_type": "code",
   "execution_count": null,
   "metadata": {},
   "outputs": [],
   "source": []
  },
  {
   "cell_type": "code",
   "execution_count": 23,
   "metadata": {},
   "outputs": [
    {
     "data": {
      "image/png": "[encoded data removed]",
      "text/latex": [
       "$$- \\lambda x_{2}^{2}$$"
      ],
      "text/plain": [
       "     2\n",
       "-λ⋅x₂ "
      ]
     },
     "execution_count": 23,
     "metadata": {},
     "output_type": "execute_result"
    }
   ],
   "source": [
    "La = sym.diff(L,a)\n",
    "La"
   ]
  },
  {
   "cell_type": "code",
   "execution_count": null,
   "metadata": {},
   "outputs": [],
   "source": []
  },
  {
   "cell_type": "code",
   "execution_count": 25,
   "metadata": {},
   "outputs": [
    {
     "data": {
      "image/png": "[encoded data removed]",
      "text/latex": [
       "$$- \\frac{9 \\sqrt{20 a + 90}}{2 a^{\\frac{3}{2}} \\left(2 a + 9\\right)}$$"
      ],
      "text/plain": [
       "     ___________ \n",
       "-9⋅╲╱ 20⋅a + 90  \n",
       "─────────────────\n",
       "    3/2          \n",
       " 2⋅a   ⋅(2⋅a + 9)"
      ]
     },
     "execution_count": 25,
     "metadata": {},
     "output_type": "execute_result"
    }
   ],
   "source": [
    "La.subs({lam:sol1[0][lam],x2:sol1[0][x2]})"
   ]
  },
  {
   "cell_type": "code",
   "execution_count": null,
   "metadata": {},
   "outputs": [],
   "source": []
  },
  {
   "cell_type": "code",
   "execution_count": null,
   "metadata": {},
   "outputs": [],
   "source": [
    "## 3f"
   ]
  },
  {
   "cell_type": "code",
   "execution_count": 26,
   "metadata": {},
   "outputs": [
    {
     "data": {
      "image/png": "[encoded data removed]",
      "text/latex": [
       "$$\\lambda \\left(- a x_{1}^{2} - 5 x_{2}^{2} + 10\\right) + 2 x_{1} + 3 x_{2}$$"
      ],
      "text/plain": [
       "  ⎛      2       2     ⎞              \n",
       "λ⋅⎝- a⋅x₁  - 5⋅x₂  + 10⎠ + 2⋅x₁ + 3⋅x₂"
      ]
     },
     "execution_count": 26,
     "metadata": {},
     "output_type": "execute_result"
    }
   ],
   "source": [
    "L = 2*x1+ 3*x2 + lam*(10-a*x1**2 -5*x2**2)\n",
    "L"
   ]
  },
  {
   "cell_type": "code",
   "execution_count": 27,
   "metadata": {},
   "outputs": [
    {
     "data": {
      "image/png": "[encoded data removed]",
      "text/latex": [
       "$$- 2 a \\lambda x_{1} + 2$$"
      ],
      "text/plain": [
       "-2⋅a⋅λ⋅x₁ + 2"
      ]
     },
     "execution_count": 27,
     "metadata": {},
     "output_type": "execute_result"
    }
   ],
   "source": [
    "L1 =sym.diff(L, x1)\n",
    "L1"
   ]
  },
  {
   "cell_type": "code",
   "execution_count": 28,
   "metadata": {},
   "outputs": [
    {
     "data": {
      "image/png": "[encoded data removed]",
      "text/latex": [
       "$$- 10 \\lambda x_{2} + 3$$"
      ],
      "text/plain": [
       "-10⋅λ⋅x₂ + 3"
      ]
     },
     "execution_count": 28,
     "metadata": {},
     "output_type": "execute_result"
    }
   ],
   "source": [
    "L2=sym.diff(L, x2)\n",
    "L2"
   ]
  },
  {
   "cell_type": "code",
   "execution_count": 29,
   "metadata": {},
   "outputs": [
    {
     "data": {
      "image/png": "[encoded data removed]",
      "text/latex": [
       "$$- a x_{1}^{2} - 5 x_{2}^{2} + 10$$"
      ],
      "text/plain": [
       "      2       2     \n",
       "- a⋅x₁  - 5⋅x₂  + 10"
      ]
     },
     "execution_count": 29,
     "metadata": {},
     "output_type": "execute_result"
    }
   ],
   "source": [
    "Llam=sym.diff(L, lam)\n",
    "Llam"
   ]
  },
  {
   "cell_type": "code",
   "execution_count": 31,
   "metadata": {},
   "outputs": [
    {
     "data": {
      "image/png": "[encoded data removed]",
      "text/latex": [
       "$$\\left \\{ \\lambda : \\frac{\\sqrt{18 a + 40}}{20 \\sqrt{a}}, \\quad x_{1} : \\frac{10 \\sqrt{2}}{\\sqrt{a} \\sqrt{9 a + 20}}, \\quad x_{2} : \\frac{3 \\sqrt{2} \\sqrt{a}}{\\sqrt{9 a + 20}}\\right \\}$$"
      ],
      "text/plain": [
       "⎧     ___________                                       ⎫\n",
       "⎪   ╲╱ 18⋅a + 40            10⋅√2             3⋅√2⋅√a   ⎪\n",
       "⎨λ: ─────────────, x₁: ───────────────, x₂: ────────────⎬\n",
       "⎪       20⋅√a               __________        __________⎪\n",
       "⎩                      √a⋅╲╱ 9⋅a + 20       ╲╱ 9⋅a + 20 ⎭"
      ]
     },
     "execution_count": 31,
     "metadata": {},
     "output_type": "execute_result"
    }
   ],
   "source": [
    "sol2 =sym.solve([L1,L2,Llam], x1,x2, lam,dict=True)\n",
    "sol2[0]"
   ]
  },
  {
   "cell_type": "code",
   "execution_count": 32,
   "metadata": {},
   "outputs": [
    {
     "data": {
      "image/png": "[encoded data removed]",
      "text/latex": [
       "$$- \\lambda x_{1}^{2}$$"
      ],
      "text/plain": [
       "     2\n",
       "-λ⋅x₁ "
      ]
     },
     "execution_count": 32,
     "metadata": {},
     "output_type": "execute_result"
    }
   ],
   "source": [
    "La=sym.diff(L, a)\n",
    "La"
   ]
  },
  {
   "cell_type": "code",
   "execution_count": null,
   "metadata": {},
   "outputs": [],
   "source": []
  },
  {
   "cell_type": "code",
   "execution_count": 34,
   "metadata": {},
   "outputs": [
    {
     "data": {
      "image/png": "[encoded data removed]",
      "text/latex": [
       "$$- \\frac{10 \\sqrt{18 a + 40}}{a^{\\frac{3}{2}} \\left(9 a + 20\\right)}$$"
      ],
      "text/plain": [
       "      ___________ \n",
       "-10⋅╲╱ 18⋅a + 40  \n",
       "──────────────────\n",
       "  3/2             \n",
       " a   ⋅(9⋅a + 20)  "
      ]
     },
     "execution_count": 34,
     "metadata": {},
     "output_type": "execute_result"
    }
   ],
   "source": [
    "La.subs({lam:sol2[0][lam],x1:sol2[0][x1]})\n"
   ]
  },
  {
   "cell_type": "code",
   "execution_count": 36,
   "metadata": {},
   "outputs": [
    {
     "data": {
      "image/png": "[encoded data removed]",
      "text/latex": [
       "$$- \\frac{10 \\sqrt{2}}{a^{\\frac{3}{2}} \\sqrt{9 a + 20}}$$"
      ],
      "text/plain": [
       "     -10⋅√2      \n",
       "─────────────────\n",
       " 3/2   __________\n",
       "a   ⋅╲╱ 9⋅a + 20 "
      ]
     },
     "execution_count": 36,
     "metadata": {},
     "output_type": "execute_result"
    }
   ],
   "source": [
    "sym.simplify(La.subs({lam:sol2[0][lam],x1:sol2[0][x1]}))"
   ]
  },
  {
   "cell_type": "code",
   "execution_count": 37,
   "metadata": {},
   "outputs": [
    {
     "data": {
      "image/png": "[encoded data removed]",
      "text/latex": [
       "$$\\frac{\\sqrt{10} \\sqrt{a}}{\\sqrt{2 a + 9}}$$"
      ],
      "text/plain": [
       "   √10⋅√a  \n",
       "───────────\n",
       "  _________\n",
       "╲╱ 2⋅a + 9 "
      ]
     },
     "execution_count": 37,
     "metadata": {},
     "output_type": "execute_result"
    }
   ],
   "source": [
    "sol1[0][x1]"
   ]
  },
  {
   "cell_type": "code",
   "execution_count": 38,
   "metadata": {},
   "outputs": [
    {
     "data": {
      "image/png": "[encoded data removed]",
      "text/latex": [
       "$$\\frac{\\sqrt{10} \\sqrt{a}}{\\sqrt{2 a + 9}}$$"
      ],
      "text/plain": [
       "   √10⋅√a  \n",
       "───────────\n",
       "  _________\n",
       "╲╱ 2⋅a + 9 "
      ]
     },
     "execution_count": 38,
     "metadata": {},
     "output_type": "execute_result"
    }
   ],
   "source": [
    "sym.simplify(sol1[0][x1])"
   ]
  },
  {
   "cell_type": "code",
   "execution_count": 39,
   "metadata": {},
   "outputs": [
    {
     "data": {
      "image/png": "[encoded data removed]",
      "text/latex": [
       "$$\\frac{\\sqrt{20 a + 90}}{20 \\sqrt{a}}$$"
      ],
      "text/plain": [
       "  ___________\n",
       "╲╱ 20⋅a + 90 \n",
       "─────────────\n",
       "    20⋅√a    "
      ]
     },
     "execution_count": 39,
     "metadata": {},
     "output_type": "execute_result"
    }
   ],
   "source": [
    "sol1[0][lam]"
   ]
  },
  {
   "cell_type": "code",
   "execution_count": null,
   "metadata": {
    "collapsed": true
   },
   "outputs": [],
   "source": []
  },
  {
   "cell_type": "code",
   "execution_count": null,
   "metadata": {
    "collapsed": true
   },
   "outputs": [],
   "source": []
  },
  {
   "cell_type": "code",
   "execution_count": null,
   "metadata": {
    "collapsed": true
   },
   "outputs": [],
   "source": []
  },
  {
   "cell_type": "code",
   "execution_count": null,
   "metadata": {
    "collapsed": true
   },
   "outputs": [],
   "source": []
  },
  {
   "cell_type": "code",
   "execution_count": null,
   "metadata": {
    "collapsed": true
   },
   "outputs": [],
   "source": []
  },
  {
   "cell_type": "code",
   "execution_count": null,
   "metadata": {
    "collapsed": true
   },
   "outputs": [],
   "source": []
  },
  {
   "cell_type": "code",
   "execution_count": null,
   "metadata": {
    "collapsed": true
   },
   "outputs": [],
   "source": []
  },
  {
   "cell_type": "code",
   "execution_count": 21,
   "metadata": {},
   "outputs": [
    {
     "name": "stderr",
     "output_type": "stream",
     "text": [
      "/opt/conda/lib/python3.6/site-packages/ipykernel_launcher.py:8: RuntimeWarning: invalid value encountered in sqrt\n",
      "  \n"
     ]
    },
    {
     "data": {
      "image/png": "[encoded data removed]",
      "text/latex": [
       "$$\\left ( 0, \\quad 3\\right )$$"
      ],
      "text/plain": [
       "(0, 3)"
      ]
     },
     "execution_count": 21,
     "metadata": {},
     "output_type": "execute_result"
    },
    {
     "data": {
      "image/png": "[encoded data removed]",
      "text/plain": [
       "<matplotlib.figure.Figure at 0x7ff41948cd30>"
      ]
     },
     "metadata": {},
     "output_type": "display_data"
    }
   ],
   "source": [
    "delta = 0.025\n",
    "x = np.arange(-3.0, 3.0, delta)\n",
    "y = np.arange(-2.0, 3.0, delta)\n",
    "X, Y = np.meshgrid(x, y)\n",
    "\n",
    "bc = 2-x\n",
    "\n",
    "Z = X**0.5*Y**0.5\n",
    "\n",
    "\n",
    "# Create a simple contour plot with labels using default colors.  The\n",
    "# inline argument to clabel will control whether the labels are draw\n",
    "# over the line segments of the contour, removing the lines beneath\n",
    "# the label\n",
    "plt.figure()\n",
    "BL = plt.plot(x, bc, '-r')\n",
    "CS = plt.contour(X, Y, Z)\n",
    "plt.clabel(CS, inline=1, fontsize=10)\n",
    "plt.title('Contour curve/IC and Budget line')\n",
    "plt.xlim(0,3)\n",
    "plt.ylim(0,3)"
   ]
  },
  {
   "cell_type": "code",
   "execution_count": null,
   "metadata": {
    "collapsed": true
   },
   "outputs": [],
   "source": []
  },
  {
   "cell_type": "code",
   "execution_count": null,
   "metadata": {
    "collapsed": true
   },
   "outputs": [],
   "source": []
  },
  {
   "cell_type": "code",
   "execution_count": null,
   "metadata": {
    "collapsed": true
   },
   "outputs": [],
   "source": []
  },
  {
   "cell_type": "code",
   "execution_count": null,
   "metadata": {
    "collapsed": true
   },
   "outputs": [],
   "source": []
  }
 ],
 "metadata": {
  "kernelspec": {
   "display_name": "fastai",
   "language": "python",
   "name": "fastai"
  },
  "language_info": {
   "codemirror_mode": {
    "name": "ipython",
    "version": 3
   },
   "file_extension": ".py",
   "mimetype": "text/x-python",
   "name": "python",
   "nbconvert_exporter": "python",
   "pygments_lexer": "ipython3",
   "version": "3.6.6"
  }
 },
 "nbformat": 4,
 "nbformat_minor": 2
}
