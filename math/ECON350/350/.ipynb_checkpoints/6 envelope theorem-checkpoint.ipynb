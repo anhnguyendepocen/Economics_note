{
 "cells": [
  {
   "cell_type": "code",
   "execution_count": null,
   "metadata": {
    "collapsed": true
   },
   "outputs": [],
   "source": [
    "import matplotlib\n",
    "import numpy as np\n",
    "import matplotlib.cm as cm\n",
    "import matplotlib.mlab as mlab\n",
    "import matplotlib.pyplot as plt\n",
    "%matplotlib notebook"
   ]
  },
  {
   "cell_type": "code",
   "execution_count": null,
   "metadata": {
    "collapsed": true
   },
   "outputs": [],
   "source": [
    "matplotlib.rcParams['xtick.direction'] = 'out'\n",
    "matplotlib.rcParams['ytick.direction'] = 'out'"
   ]
  },
  {
   "cell_type": "markdown",
   "metadata": {},
   "source": [
    "\n",
    "\n",
    "$$ \\frac{\\partial V}{\\partial a} = \\frac{\\partial L}{\\partial a} $$\n",
    "\n",
    "\n",
    "Value function is optimal objective value, objective function evaluated at $\\bar x$\n",
    "\n",
    "$$v = F(\\bar x)$$\n",
    "\n",
    "\n",
    "If I want to see how utility at its optimal level changes when wealth changes, I can simply differentiate this equation with respect to wealth explicitly:\n",
    "\n",
    "$V_3=λ$ - so the marginal utility of wealth is simply the Lagrange multiplier.\n",
    "\n",
    "\n",
    "The relationship between indirect utility and expenditure is from the 'duality' between the two. The reason why $V(p,e(p,u))=w$ stems from the fact that the optimal arguments for both will be equivalent when the value of utility achieved in the utility max problem is the same utility level that we set as $U=u¯$ in the expenditure minimization problem.\n",
    "\n",
    "\n",
    "\n",
    "Comparative Static Analysis\n",
    "\n",
    "envelope theorem\n",
    "\n",
    "\n",
    "\n",
    "https://mjo.osborne.economics.utoronto.ca/index.php/tutorial/index/1/mee/t\n",
    "\n",
    "\n",
    "Proposition (Envelope theorem for an unconstrained maximization problem)  proof\n",
    "Let f be a function of n + k variables, let r be a k-vector, and let the n-vector x* be a maximizer of f(x, r). Assume that the partial derivative f'n+h(x*, r) (i.e. the partial derivative of f with respect to rh at (x*, r)) exists. Define the function f* of k variables by \n",
    "f*(r) = maxx f(x, r) for all r.\n",
    "If the partial derivative f*h'(r) exists then \n",
    "f*h'(r) \n",
    " = \n",
    "f'n+h(x*, r).\n",
    "This result says that the change in the maximal value of the function as a parameter changes is the change caused by the direct impact of the parameter on the function, holding the value of x fixed at its optimal value; the indirect effect, resulting from the change in the optimal value of x caused by a change in the parameter, is zero.\n",
    "\n",
    "\n",
    "Example\n",
    "Consider the problem studied at the start of this section, in which a firm can produce output, with price p, using a single input, with price w, according to the production function f. The firm's profit when it uses the amount x of the input is π(x, (w, p)) = pf(x) − wx, and its maximal profit is \n",
    "f*(w, p)\n",
    " = \n",
    "pf(x*(w, p)) − wx*(w, p),\n",
    "where x*(w, p) is the optimal amount of the input at the prices (w, p). This function f* is known as the firm's profit function. By the envelope theorem, the derivative of this function with respect to p is the partial derivative of π with respect to p evaluated at x = x*(w, p), namely \n",
    "f(x*(w, p)).\n",
    "In particular, the derivative is positive: if the price of output increases, then the firm's maximal profit increases. \n",
    "Also by the envelope theorem the derivative of the firm's maximal profit with respect to w is \n",
    "−x*(p, w).\n",
    "(This result is known as Hotelling's Lemma, after Harold Hotelling, 1895–1973.) In particular, this derivative is negative: if the price of the input increases, then the firm's maximal profit decreases. \n",
    "A consequence of Hotelling's Lemma is that we can easily find the firm's input demand function x* if we know the firm's profit function, even if we do not know the firm's production function: we have x*(p, w) = −π*w'(p, w) for all (p, w), so we may obtain the input demand function by simply differentiating the profit function.\n",
    "\n",
    "\n",
    "Proposition (Envelope theorem for constrained maximization problems)\n",
    "Let f and g1, ..., gm be continuously differentiable functions of n + k variables, with m ≤ n. Suppose that for all values of the k-vector r the problem \n",
    "maxx f(x, r) subject to gj(x, r) = 0 for j = 1, ..., m,\n",
    "where x is an n-vector, has a unique solution, which is differentiable in r. Denote this solution x*(r) and define the function f* of k variables by \n",
    "f*(r) \n",
    " = \n",
    "maxx f(x, r) subject to gj(x, r) = 0 for j = 1, ..., m.\n",
    "Suppose that the rank of the m × n matrix in which the (i, j)th component is (∂gj/∂xi)(x*(r), r) is m. Define the function L by \n",
    "L(x, λ, r) \n",
    " = \n",
    "f(x, r) − ∑m\n",
    "j=1λjgj(x, r) for every (x, λ, r),\n",
    "where x is an n-vector, λ is an m-vector, and r is a k-vector. Then \n",
    "f*h'(r)\n",
    " = \n",
    "L'n+m+h(x*(r), λ(r), r) for h = 1, ..., k,\n",
    "where λ(r) = (λ1(r), ..., λm(r)) and λj(r) is the value of Lagrange multiplier associated with the jth constraint at the solution of the problem. \n",
    "Example\n",
    "Consider a utility maximization problem: \n",
    "maxx u(x) subject to p·x = w.\n",
    "where x is a vector (a bundle of goods), p is the price vector, and w is the consumer's wealth (a number). Denote the solution of the problem by x*(p, w), and denote the value function by v, so that \n",
    "v(p, w) = u(x*(p, w)) for every (p, w).\n",
    "The function v is known as the indirect utility function. \n",
    "By the envelope theorem for constrained maximization problems we have \n",
    "(∂v/∂pi)(p, w) = −λ*(p, w)xi*(p, w)\n",
    "(since u does not depend independently on p or w) and \n",
    "(∂v/∂w)(p, w) = λ*(p, w).\n",
    "Thus \n",
    "(∂v/∂pi)(p, w) \n",
    "\n",
    "(∂v/∂w)(p, w)\n",
    " = −xi*(p, w).\n",
    "That is, if you know the indirect utility function then you can recover the demand functions. This result is known as Roy's identity (after René Roy, 1894–1977).\n",
    "\n",
    "https://economics.stackexchange.com/questions/13267/understanding-the-envelope-theorem\n",
    "\n",
    "\n",
    "$$V(p_x,p_y,w)=U(x(p_x,p_y,w), y(p_x,p_y,w))+\\lambda(p_x,p_y,w)[w-p_x-p_y]$$"
   ]
  },
  {
   "cell_type": "code",
   "execution_count": null,
   "metadata": {
    "collapsed": true
   },
   "outputs": [],
   "source": [
    "import sympy as sym\n",
    "sym.init_printing()"
   ]
  },
  {
   "cell_type": "code",
   "execution_count": null,
   "metadata": {
    "collapsed": true
   },
   "outputs": [],
   "source": [
    "x,y,z = sym.symbols('x y z')\n",
    "a,b,c = sym.symbols('a b c', positive = True)\n",
    "f, g, h = sym.symbols('f g h', cls=sym.Function)"
   ]
  },
  {
   "cell_type": "code",
   "execution_count": null,
   "metadata": {
    "collapsed": true
   },
   "outputs": [],
   "source": [
    "f = sym.Function('f')\n",
    "g = sym.Function('g')(x)"
   ]
  },
  {
   "cell_type": "code",
   "execution_count": null,
   "metadata": {
    "collapsed": true
   },
   "outputs": [],
   "source": [
    "x1,x2,lam = sym.symbols('x_1 x_2 lambda', positive = True)"
   ]
  },
  {
   "cell_type": "markdown",
   "metadata": {},
   "source": [
    "## 3b"
   ]
  },
  {
   "cell_type": "code",
   "execution_count": null,
   "metadata": {},
   "outputs": [],
   "source": [
    "F = a*x1+4*x2\n",
    "F"
   ]
  },
  {
   "cell_type": "code",
   "execution_count": null,
   "metadata": {},
   "outputs": [],
   "source": [
    "G = x1**0.25*x2**0.75\n",
    "c = 10\n",
    "G"
   ]
  },
  {
   "cell_type": "code",
   "execution_count": null,
   "metadata": {},
   "outputs": [],
   "source": [
    "L = F + lam*(c-G)\n",
    "L"
   ]
  },
  {
   "cell_type": "code",
   "execution_count": null,
   "metadata": {},
   "outputs": [],
   "source": [
    "L1 =sym.diff(L, x1)\n",
    "L1"
   ]
  },
  {
   "cell_type": "code",
   "execution_count": null,
   "metadata": {},
   "outputs": [],
   "source": [
    "L2=sym.diff(L, x2)\n",
    "L2"
   ]
  },
  {
   "cell_type": "code",
   "execution_count": null,
   "metadata": {},
   "outputs": [],
   "source": [
    "Llam =sym.diff(L, lam)\n",
    "Llam"
   ]
  },
  {
   "cell_type": "code",
   "execution_count": null,
   "metadata": {},
   "outputs": [],
   "source": [
    "sol1=sym.solve([L1,L2,Llam], x1,x2, lam,dict=True)\n",
    "sol1"
   ]
  },
  {
   "cell_type": "code",
   "execution_count": null,
   "metadata": {},
   "outputs": [],
   "source": [
    "La = sym.diff(L,a)\n",
    "La"
   ]
  },
  {
   "cell_type": "code",
   "execution_count": null,
   "metadata": {},
   "outputs": [],
   "source": [
    "La.subs({x1:sol1[0][x1]})"
   ]
  },
  {
   "cell_type": "markdown",
   "metadata": {},
   "source": [
    "## 3e"
   ]
  },
  {
   "cell_type": "code",
   "execution_count": null,
   "metadata": {},
   "outputs": [],
   "source": [
    "F = 2*x1+3*x2\n",
    "F"
   ]
  },
  {
   "cell_type": "code",
   "execution_count": null,
   "metadata": {},
   "outputs": [],
   "source": [
    "G = 2*x1**2+a*x2**2\n",
    "c = 10\n",
    "G"
   ]
  },
  {
   "cell_type": "code",
   "execution_count": null,
   "metadata": {},
   "outputs": [],
   "source": [
    "L = F + lam*(c-G)\n",
    "L"
   ]
  },
  {
   "cell_type": "code",
   "execution_count": null,
   "metadata": {},
   "outputs": [],
   "source": [
    "L1 =sym.diff(L, x1)\n",
    "L1"
   ]
  },
  {
   "cell_type": "code",
   "execution_count": null,
   "metadata": {},
   "outputs": [],
   "source": [
    "L2=sym.diff(L, x2)\n",
    "L2"
   ]
  },
  {
   "cell_type": "code",
   "execution_count": null,
   "metadata": {},
   "outputs": [],
   "source": [
    "Llam =sym.diff(L, lam)\n",
    "Llam"
   ]
  },
  {
   "cell_type": "code",
   "execution_count": null,
   "metadata": {},
   "outputs": [],
   "source": [
    "sol1=sym.solve([L1,L2,Llam], x1,x2, lam,dict=True)\n",
    "sol1[1]"
   ]
  },
  {
   "cell_type": "code",
   "execution_count": null,
   "metadata": {
    "collapsed": true
   },
   "outputs": [],
   "source": []
  },
  {
   "cell_type": "code",
   "execution_count": null,
   "metadata": {},
   "outputs": [],
   "source": [
    "La = sym.diff(L,a)\n",
    "La"
   ]
  },
  {
   "cell_type": "code",
   "execution_count": null,
   "metadata": {
    "collapsed": true
   },
   "outputs": [],
   "source": []
  },
  {
   "cell_type": "code",
   "execution_count": null,
   "metadata": {},
   "outputs": [],
   "source": [
    "La.subs({lam:sol1[1][lam],x2:sol1[1][x2]})"
   ]
  },
  {
   "cell_type": "code",
   "execution_count": null,
   "metadata": {
    "collapsed": true
   },
   "outputs": [],
   "source": []
  },
  {
   "cell_type": "code",
   "execution_count": null,
   "metadata": {
    "collapsed": true
   },
   "outputs": [],
   "source": [
    "## 3f"
   ]
  },
  {
   "cell_type": "code",
   "execution_count": null,
   "metadata": {},
   "outputs": [],
   "source": [
    "L = 2*x1+ 3*x2 + lam*(10-a*x1**2 -5*x2**2)\n",
    "L"
   ]
  },
  {
   "cell_type": "code",
   "execution_count": null,
   "metadata": {},
   "outputs": [],
   "source": [
    "L1 =sym.diff(L, x1)\n",
    "L1"
   ]
  },
  {
   "cell_type": "code",
   "execution_count": null,
   "metadata": {},
   "outputs": [],
   "source": [
    "L2=sym.diff(L, x2)\n",
    "L2"
   ]
  },
  {
   "cell_type": "code",
   "execution_count": null,
   "metadata": {},
   "outputs": [],
   "source": [
    "Llam=sym.diff(L, lam)\n",
    "Llam"
   ]
  },
  {
   "cell_type": "code",
   "execution_count": null,
   "metadata": {},
   "outputs": [],
   "source": [
    "sol2 =sym.solve([L1,L2,Llam], x1,x2, lam,dict=True)\n",
    "sol2[1]"
   ]
  },
  {
   "cell_type": "code",
   "execution_count": null,
   "metadata": {},
   "outputs": [],
   "source": [
    "La=sym.diff(L, a)\n",
    "La"
   ]
  },
  {
   "cell_type": "code",
   "execution_count": null,
   "metadata": {
    "collapsed": true
   },
   "outputs": [],
   "source": []
  },
  {
   "cell_type": "code",
   "execution_count": null,
   "metadata": {},
   "outputs": [],
   "source": [
    "La.subs({lam:sol2[1][lam],x1:sol2[1][x1]})\n"
   ]
  },
  {
   "cell_type": "code",
   "execution_count": null,
   "metadata": {},
   "outputs": [],
   "source": [
    "sym.simplify(La.subs({lam:sol2[1][lam],x1:sol2[1][x1]}))"
   ]
  },
  {
   "cell_type": "code",
   "execution_count": null,
   "metadata": {},
   "outputs": [],
   "source": [
    "sol1[1][x1]"
   ]
  },
  {
   "cell_type": "code",
   "execution_count": null,
   "metadata": {},
   "outputs": [],
   "source": [
    "sym.simplify(sol1[1][x1])"
   ]
  },
  {
   "cell_type": "code",
   "execution_count": null,
   "metadata": {},
   "outputs": [],
   "source": [
    "sol1[1][lam]"
   ]
  },
  {
   "cell_type": "code",
   "execution_count": null,
   "metadata": {
    "collapsed": true
   },
   "outputs": [],
   "source": []
  },
  {
   "cell_type": "code",
   "execution_count": null,
   "metadata": {
    "collapsed": true
   },
   "outputs": [],
   "source": []
  },
  {
   "cell_type": "code",
   "execution_count": null,
   "metadata": {
    "collapsed": true
   },
   "outputs": [],
   "source": []
  },
  {
   "cell_type": "code",
   "execution_count": null,
   "metadata": {
    "collapsed": true
   },
   "outputs": [],
   "source": []
  },
  {
   "cell_type": "code",
   "execution_count": null,
   "metadata": {
    "collapsed": true
   },
   "outputs": [],
   "source": []
  },
  {
   "cell_type": "code",
   "execution_count": null,
   "metadata": {
    "collapsed": true
   },
   "outputs": [],
   "source": []
  },
  {
   "cell_type": "code",
   "execution_count": null,
   "metadata": {
    "collapsed": true
   },
   "outputs": [],
   "source": []
  },
  {
   "cell_type": "code",
   "execution_count": null,
   "metadata": {
    "collapsed": true
   },
   "outputs": [],
   "source": [
    "delta = 0.025\n",
    "x = np.arange(-3.0, 3.0, delta)\n",
    "y = np.arange(-2.0, 3.0, delta)\n",
    "X, Y = np.meshgrid(x, y)\n",
    "\n",
    "bc = 2-x\n",
    "\n",
    "Z = X**0.5*Y**0.5\n",
    "\n",
    "\n",
    "# Create a simple contour plot with labels using default colors.  The\n",
    "# inline argument to clabel will control whether the labels are draw\n",
    "# over the line segments of the contour, removing the lines beneath\n",
    "# the label\n",
    "plt.figure()\n",
    "BL = plt.plot(x, bc, '-r')\n",
    "CS = plt.contour(X, Y, Z)\n",
    "plt.clabel(CS, inline=1, fontsize=10)\n",
    "plt.title('Contour curve/IC and Budget line')\n",
    "plt.xlim(0,3)\n",
    "plt.ylim(0,3)"
   ]
  },
  {
   "cell_type": "code",
   "execution_count": null,
   "metadata": {
    "collapsed": true
   },
   "outputs": [],
   "source": []
  },
  {
   "cell_type": "code",
   "execution_count": null,
   "metadata": {
    "collapsed": true
   },
   "outputs": [],
   "source": []
  },
  {
   "cell_type": "code",
   "execution_count": null,
   "metadata": {
    "collapsed": true
   },
   "outputs": [],
   "source": []
  },
  {
   "cell_type": "code",
   "execution_count": null,
   "metadata": {
    "collapsed": true
   },
   "outputs": [],
   "source": []
  }
 ],
 "metadata": {
  "kernelspec": {
   "display_name": "Python 3",
   "language": "python",
   "name": "python3"
  },
  "language_info": {
   "codemirror_mode": {
    "name": "ipython",
    "version": 3
   },
   "file_extension": ".py",
   "mimetype": "text/x-python",
   "name": "python",
   "nbconvert_exporter": "python",
   "pygments_lexer": "ipython3",
   "version": "3.6.2"
  }
 },
 "nbformat": 4,
 "nbformat_minor": 2
}
