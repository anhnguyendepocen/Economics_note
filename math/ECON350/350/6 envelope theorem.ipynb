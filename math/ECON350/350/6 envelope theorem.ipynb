{
 "cells": [
  {
   "cell_type": "code",
   "execution_count": null,
   "metadata": {
    "collapsed": true
   },
   "outputs": [],
   "source": [
    "import matplotlib\n",
    "import numpy as np\n",
    "import matplotlib.cm as cm\n",
    "import matplotlib.mlab as mlab\n",
    "import matplotlib.pyplot as plt\n",
    "%matplotlib notebook"
   ]
  },
  {
   "cell_type": "code",
   "execution_count": null,
   "metadata": {
    "collapsed": true
   },
   "outputs": [],
   "source": [
    "matplotlib.rcParams['xtick.direction'] = 'out'\n",
    "matplotlib.rcParams['ytick.direction'] = 'out'"
   ]
  },
  {
   "cell_type": "markdown",
   "metadata": {},
   "source": [
    "\n",
    "\n",
    "$$ \\frac{\\partial V}{\\partial a} = \\frac{\\partial L}{\\partial a} $$\n",
    "\n",
    "\n",
    "Value function is optimal objective value, objective function evaluated at $\\bar x$\n",
    "\n",
    "$$v = F(\\bar x(\\theta), \\theta)$$\n",
    "\n",
    "since $\\bar x$ is a function of $\\theta$, the total derivative of $F$ with respect of $\\theta$ by chain rule will be \n",
    "\n",
    "$$d F(\\bar x(\\theta), \\theta) = \\underbrace{F_{\\bar x}(\\bar x(\\theta), \\theta)  d \\bar x(\\theta)}_{\\text{Indirect effcet}}  + \\underbrace{F_{\\theta}(\\bar x(\\theta), \\theta) d \\theta}_{\\text{Direct effect}}  \\tag 1 $$\n",
    "\n",
    "\n"
   ]
  },
  {
   "cell_type": "markdown",
   "metadata": {},
   "source": [
    "![](https://www.economics.utoronto.ca/osborne/MathTutorial/meeg1.gif)\n",
    "\n",
    "ref: http://www.g-feed.com/2014/06/adaptation-with-envelope.html\n",
    "\n",
    "http://mathforum.org/mathimages/index.php/Envelope\n",
    "\n",
    "\n",
    "![](http://lh5.ggpht.com/_1wtadqGaaPs/THLK_YYxO7I/AAAAAAAAUeo/071hNe930gM/tmp4151_thumb.jpg?imgmax=800)\n",
    "\n",
    "ref: \n",
    "\n",
    "https://www.slideshare.net/FarzadJavidanrad/specific-topics-in-optimisation\n",
    "\n",
    "\n",
    "\n",
    "• Objective Function: A function which is going to be optimized. \n",
    "\n",
    "• Decision Variables: The independent (or explanatory) variables in a model. \n",
    "\n",
    "• Optimal Values: Maximum or minimum values of variables in a model.. \n",
    "\n",
    "• The envelope theorem focus on the relation between the optimal value of the dependent variable in a particular function and the parameter(s) of that function. \n",
    "\n",
    "How the optimal value does change when a parameter (or one of parameters of the model) changes?\n",
    "\n",
    "\n",
    "\n",
    "ref: https://www.slideshare.net/YosukeYasuda1/advanced-microeconomics-lecture-slides\n",
    "\n"
   ]
  },
  {
   "cell_type": "markdown",
   "metadata": {},
   "source": [
    "### For an optimization problem without constraint, the F.O.C is\n",
    "\n",
    "$$ F_{\\bar x}(\\bar x(\\theta),\\theta) = 0  \\tag 2  $$\n",
    "\n",
    "then plug $(\\ref{2})$ into $(\\ref{1})$\n",
    "\n",
    "$$d F(\\bar x(\\theta), \\theta) =   + \\underbrace{F_{\\theta}(\\bar x(\\theta), \\theta) d \\theta}_{\\text{Direct effect}}    $$ \n",
    "\n",
    "the **indirect effect** is $0$, and only **direct effect**.\n",
    "\n"
   ]
  },
  {
   "cell_type": "markdown",
   "metadata": {},
   "source": [
    "### For an optimization problem without constraint, the F.O.C is\n",
    "\n",
    "$$ F_{\\bar x}(\\bar x(\\theta), \\theta) - \\lambda G_{\\bar x}(\\bar x(\\theta), \\theta) = 0 \\tag 3 $$\n",
    "\n",
    "here $\\lambda$ can be a vector,\n",
    "\n",
    "and for a F.O.T.S of $G( \\bar x(\\theta) + d \\bar x(\\theta), \\theta + d \\theta )$\n",
    "\n",
    "$$G( \\bar x(\\theta) + d \\bar x(\\theta), \\theta + d \\theta ) = G( \\bar x(\\theta) , \\theta ) + G_{ \\bar x(\\theta)} d\\bar x(\\theta)+ G_{\\theta} d \\theta  $$\n",
    "\n",
    "since the constraints are still binding before perturbation and after perturbation, \n",
    "\n",
    "$$G( \\bar x(\\theta) + d \\bar x(\\theta), \\theta + d \\theta ) = G( \\bar x(\\theta) , \\theta )$$\n",
    "\n",
    "then\n",
    "\n",
    "$$G_{ \\bar x(\\theta)} d\\bar x(\\theta) = - G_{\\theta} d \\theta  \\tag 4 $$\n",
    "\n",
    "\n",
    "Plug $(\\ref{3})$ and $(\\ref{4})$ into $(\\ref{1})$, we have\n",
    "\n",
    "$$ d F(\\bar x(\\theta), \\theta) = \\underbrace{- \\lambda G_{\\theta} d \\theta}_{\\text{Indirect effcet}}  + \\underbrace{F_{\\theta}(\\bar x(\\theta), \\theta) d \\theta}_{\\text{Direct effect}} $$\n",
    "\n",
    "factor out the $d \\theta$, \n",
    "\n",
    "$$d F(\\bar x(\\theta), \\theta) = (\\underbrace{- \\lambda G_{\\theta} }_{\\text{Indirect effcet}}  + \\underbrace{F_{\\theta}}_{\\text{Direct effect}}) d \\theta $$\n",
    "\n",
    "The indirect effect of $\\theta$ on $F$ equals to the direct effect of $\\theta$ on $G$ times $\\lambda$,\n",
    "\n",
    "since F.O.C of Lagrangean is \n",
    "\n",
    "$$ L_{\\theta} = F_{\\theta} - \\lambda G_{\\theta} $$\n",
    "\n",
    "so\n",
    "\n",
    "$$ \\frac{dv}{d \\theta}  = \\frac{dF(\\bar x(\\theta), \\theta)}{d\\theta} =  \\frac{dL}{d\\theta} $$"
   ]
  },
  {
   "cell_type": "markdown",
   "metadata": {},
   "source": [
    "\n",
    "\n",
    "If I want to see how utility at its optimal level changes when wealth changes, I can simply differentiate this equation with respect to wealth explicitly:\n",
    "\n",
    "$V_3=λ$ - so the marginal utility of wealth is simply the Lagrange multiplier.\n",
    "\n",
    "\n",
    "The relationship between indirect utility and expenditure is from the 'duality' between the two. The reason why $V(p,e(p,u))=w$ stems from the fact that the optimal arguments for both will be equivalent when the value of utility achieved in the utility max problem is the same utility level that we set as $U= \\bar u$ in the expenditure minimization problem.\n",
    "\n",
    "\n",
    "\n",
    "Comparative Static Analysis\n",
    "\n",
    "envelope theorem\n",
    "\n",
    "\n",
    "\n",
    "https://mjo.osborne.economics.utoronto.ca/index.php/tutorial/index/1/mee/t\n",
    "\n",
    "\n",
    "Proposition (Envelope theorem for an unconstrained maximization problem)  proof\n",
    "Let f be a function of $n + k$ variables, let r be a $k$-vector, and let the n-vector $x^*$ be a maximizer of $f(x, r)$. Assume that the partial derivative $f'n+h(x*, r)$ (i.e. the partial derivative of $f$ with respect to $rh$ at $(x*, r))$ exists. Define the function $f*$ of $k$ variables by \n",
    "\n",
    "$$f*(r) = maxx f(x, r) for all r.$$\n",
    "\n",
    "If the partial derivative f*h'(r) exists then \n",
    "\n",
    "$$f*h'(r)  = f'n+h(x*, r).$$\n",
    "\n",
    "This result says that the change in the maximal value of the function as a parameter changes is the change caused by the direct impact of the parameter on the function, holding the value of x fixed at its optimal value; the indirect effect, resulting from the change in the optimal value of x caused by a change in the parameter, is zero.\n",
    "\n",
    "\n",
    "Example\n",
    "Consider the problem studied at the start of this section, in which a firm can produce output, with price p, using a single input, with price w, according to the production function f. The firm's profit when it uses the amount x of the input is $π(x, (w, p)) = pf(x) − wx$, and its maximal profit is \n",
    "\n",
    "$$f^*(w, p) = p f(x^*(w, p)) − wx^*(w, p),$$\n",
    "\n",
    "where $x*(w, p)$ is the optimal amount of the input at the prices (w, p). This function $f^*$ is known as the firm's profit function. By the envelope theorem, the derivative of this function with respect to p is the partial derivative of π with respect to p evaluated at $x = x^*(w, p)$, namely \n",
    "$f(x^*(w, p))$.\n",
    "\n",
    "In particular, the derivative is positive: if the price of output increases, then the firm's maximal profit increases. \n",
    "Also by the envelope theorem the derivative of the firm's maximal profit with respect to w is $−x^*(p, w)$.\n",
    "\n",
    "(This result is known as Hotelling's Lemma, after Harold Hotelling, 1895–1973.) In particular, this derivative is negative: if the price of the input increases, then the firm's maximal profit decreases. \n",
    "\n",
    "A consequence of Hotelling's Lemma is that we can easily find the firm's input demand function $x*$ if we know the firm's profit function, even if we do not know the firm's production function: we have $x^*(p, w) = −π^* w'(p, w) for all (p, w)$, so we may obtain the input demand function by simply differentiating the profit function.\n",
    "\n",
    "\n",
    "Proposition (Envelope theorem for constrained maximization problems)\n",
    "Let $f$ and $g1, ..., gm$ be continuously differentiable functions of $n + k$ variables, with m ≤ n. Suppose that for all values of the k-vector r the problem \n",
    "$max_x f(x, r)$ subject to $g_j(x, r) = 0 for j = 1, ..., m$,\n",
    "where x is an n-vector, has a unique solution, which is differentiable in r. Denote this solution $x^*(r)$ and define the function $f^*$ of $k$ variables by \n",
    "\n",
    "$$f*(r)  = maxx f(x, r) subject to gj(x, r) = 0 for j = 1, ..., m.$$\n",
    "\n",
    "Suppose that the rank of the $m × n$ matrix in which the $(i, j)$th component is $(∂gj/∂xi)(x^*(r), r)$ is m. Define the function L by \n",
    "\n",
    "$$L(x, λ, r)  = f(x, r) − ∑^m_{j=1}λ_{j}g_{j}(x, r) for every (x, λ, r),$$\n",
    "\n",
    "\n",
    "where $x$ is an n-vector, $λ$ is an m-vector, and $r$ is a k-vector. Then \n",
    "\n",
    "$$f*h'(r) = L'_{n+m+h}(x*(r), λ(r), r) for h = 1, ..., k,$$\n",
    "\n",
    "where $λ(r) = (λ_1(r), ..., λ_m(r))$ and $λ_j(r)$ is the value of Lagrange multiplier associated with the jth constraint at the solution of the problem. \n",
    "\n",
    "Example\n",
    "\n",
    "Consider a utility maximization problem: \n",
    "\n",
    "$$max_x u(x) subject to p·x = w.$$\n",
    "\n",
    "where x is a vector (a bundle of goods), p is the price vector, and w is the consumer's wealth (a number). Denote the solution of the problem by x*(p, w), and denote the value function by v, so that \n",
    "$$v(p, w) = u(x*(p, w)) for every (p, w).$$\n",
    "The function v is known as the indirect utility function. \n",
    "By the envelope theorem for constrained maximization problems we have \n",
    "$$(∂v/∂pi)(p, w) = −λ^*(p, w)x_i^*(p, w)$$\n",
    "(since u does not depend independently on p or w) and \n",
    "$$(∂v/∂w)(p, w) = λ*(p, w).$$\n",
    "Thus \n",
    "$$(∂v/∂pi)(p, w) \\over (∂v/∂w)(p, w)  = −x_i^*(p, w).$$\n",
    "\n",
    "That is, if you know the indirect utility function then you can recover the demand functions. This result is known as Roy's identity (after René Roy, 1894–1977).\n",
    "\n",
    "https://economics.stackexchange.com/questions/13267/understanding-the-envelope-theorem\n",
    "\n",
    "\n",
    "$$V(p_x,p_y,w)=U(x(p_x,p_y,w), y(p_x,p_y,w))+\\lambda(p_x,p_y,w)[w-p_x-p_y]$$"
   ]
  },
  {
   "cell_type": "code",
   "execution_count": null,
   "metadata": {
    "collapsed": true
   },
   "outputs": [],
   "source": [
    "import sympy as sym\n",
    "sym.init_printing()\n",
    "\n",
    "x,y,z = sym.symbols('x y z')\n",
    "a,b,c = sym.symbols('a b c', positive = True)\n",
    "f, g, h = sym.symbols('f g h', cls=sym.Function)\n",
    "\n",
    "f = sym.Function('f')\n",
    "g = sym.Function('g')(x)\n",
    "\n",
    "x1,x2,lam = sym.symbols('x_1 x_2 lambda', positive = True)"
   ]
  },
  {
   "cell_type": "markdown",
   "metadata": {},
   "source": [
    "## 3b"
   ]
  },
  {
   "cell_type": "code",
   "execution_count": null,
   "metadata": {
    "collapsed": true
   },
   "outputs": [],
   "source": [
    "F = a*x1+4*x2\n",
    "F"
   ]
  },
  {
   "cell_type": "code",
   "execution_count": null,
   "metadata": {
    "collapsed": true
   },
   "outputs": [],
   "source": [
    "G = x1**0.25*x2**0.75\n",
    "c = 10\n",
    "G"
   ]
  },
  {
   "cell_type": "code",
   "execution_count": null,
   "metadata": {
    "collapsed": true
   },
   "outputs": [],
   "source": [
    "L = F + lam*(c-G)\n",
    "L"
   ]
  },
  {
   "cell_type": "code",
   "execution_count": null,
   "metadata": {
    "collapsed": true
   },
   "outputs": [],
   "source": [
    "L1 =sym.diff(L, x1)\n",
    "L1"
   ]
  },
  {
   "cell_type": "code",
   "execution_count": null,
   "metadata": {
    "collapsed": true
   },
   "outputs": [],
   "source": [
    "L2=sym.diff(L, x2)\n",
    "L2"
   ]
  },
  {
   "cell_type": "code",
   "execution_count": null,
   "metadata": {
    "collapsed": true
   },
   "outputs": [],
   "source": [
    "Llam =sym.diff(L, lam)\n",
    "Llam"
   ]
  },
  {
   "cell_type": "code",
   "execution_count": null,
   "metadata": {
    "collapsed": true
   },
   "outputs": [],
   "source": [
    "sol1=sym.solve([L1,L2,Llam], x1,x2, lam,dict=True)\n",
    "sol1"
   ]
  },
  {
   "cell_type": "code",
   "execution_count": null,
   "metadata": {
    "collapsed": true
   },
   "outputs": [],
   "source": [
    "La = sym.diff(L,a)\n",
    "La"
   ]
  },
  {
   "cell_type": "code",
   "execution_count": null,
   "metadata": {
    "collapsed": true
   },
   "outputs": [],
   "source": [
    "La.subs({x1:sol1[0][x1]})"
   ]
  },
  {
   "cell_type": "markdown",
   "metadata": {},
   "source": [
    "## 3e"
   ]
  },
  {
   "cell_type": "code",
   "execution_count": null,
   "metadata": {
    "collapsed": true
   },
   "outputs": [],
   "source": [
    "F = 2*x1+3*x2\n",
    "F"
   ]
  },
  {
   "cell_type": "code",
   "execution_count": null,
   "metadata": {
    "collapsed": true
   },
   "outputs": [],
   "source": [
    "G = 2*x1**2+a*x2**2\n",
    "c = 10\n",
    "G"
   ]
  },
  {
   "cell_type": "code",
   "execution_count": null,
   "metadata": {
    "collapsed": true
   },
   "outputs": [],
   "source": [
    "L = F + lam*(c-G)\n",
    "L"
   ]
  },
  {
   "cell_type": "code",
   "execution_count": null,
   "metadata": {
    "collapsed": true
   },
   "outputs": [],
   "source": [
    "L1 =sym.diff(L, x1)\n",
    "L1"
   ]
  },
  {
   "cell_type": "code",
   "execution_count": null,
   "metadata": {
    "collapsed": true
   },
   "outputs": [],
   "source": [
    "L2=sym.diff(L, x2)\n",
    "L2"
   ]
  },
  {
   "cell_type": "code",
   "execution_count": null,
   "metadata": {
    "collapsed": true
   },
   "outputs": [],
   "source": [
    "Llam =sym.diff(L, lam)\n",
    "Llam"
   ]
  },
  {
   "cell_type": "code",
   "execution_count": null,
   "metadata": {
    "collapsed": true
   },
   "outputs": [],
   "source": [
    "sol1=sym.solve([L1,L2,Llam], x1,x2, lam,dict=True)\n",
    "sol1[1]"
   ]
  },
  {
   "cell_type": "code",
   "execution_count": null,
   "metadata": {
    "collapsed": true
   },
   "outputs": [],
   "source": []
  },
  {
   "cell_type": "code",
   "execution_count": null,
   "metadata": {
    "collapsed": true
   },
   "outputs": [],
   "source": [
    "La = sym.diff(L,a)\n",
    "La"
   ]
  },
  {
   "cell_type": "code",
   "execution_count": null,
   "metadata": {
    "collapsed": true
   },
   "outputs": [],
   "source": []
  },
  {
   "cell_type": "code",
   "execution_count": null,
   "metadata": {
    "collapsed": true
   },
   "outputs": [],
   "source": [
    "La.subs({lam:sol1[1][lam],x2:sol1[1][x2]})"
   ]
  },
  {
   "cell_type": "code",
   "execution_count": null,
   "metadata": {
    "collapsed": true
   },
   "outputs": [],
   "source": []
  },
  {
   "cell_type": "code",
   "execution_count": null,
   "metadata": {
    "collapsed": true
   },
   "outputs": [],
   "source": [
    "## 3f"
   ]
  },
  {
   "cell_type": "code",
   "execution_count": null,
   "metadata": {
    "collapsed": true
   },
   "outputs": [],
   "source": [
    "L = 2*x1+ 3*x2 + lam*(10-a*x1**2 -5*x2**2)\n",
    "L"
   ]
  },
  {
   "cell_type": "code",
   "execution_count": null,
   "metadata": {
    "collapsed": true
   },
   "outputs": [],
   "source": [
    "L1 =sym.diff(L, x1)\n",
    "L1"
   ]
  },
  {
   "cell_type": "code",
   "execution_count": null,
   "metadata": {
    "collapsed": true
   },
   "outputs": [],
   "source": [
    "L2=sym.diff(L, x2)\n",
    "L2"
   ]
  },
  {
   "cell_type": "code",
   "execution_count": null,
   "metadata": {
    "collapsed": true
   },
   "outputs": [],
   "source": [
    "Llam=sym.diff(L, lam)\n",
    "Llam"
   ]
  },
  {
   "cell_type": "code",
   "execution_count": null,
   "metadata": {
    "collapsed": true
   },
   "outputs": [],
   "source": [
    "sol2 =sym.solve([L1,L2,Llam], x1,x2, lam,dict=True)\n",
    "sol2[1]"
   ]
  },
  {
   "cell_type": "code",
   "execution_count": null,
   "metadata": {
    "collapsed": true
   },
   "outputs": [],
   "source": [
    "La=sym.diff(L, a)\n",
    "La"
   ]
  },
  {
   "cell_type": "code",
   "execution_count": null,
   "metadata": {
    "collapsed": true
   },
   "outputs": [],
   "source": []
  },
  {
   "cell_type": "code",
   "execution_count": null,
   "metadata": {
    "collapsed": true
   },
   "outputs": [],
   "source": [
    "La.subs({lam:sol2[1][lam],x1:sol2[1][x1]})\n"
   ]
  },
  {
   "cell_type": "code",
   "execution_count": null,
   "metadata": {
    "collapsed": true
   },
   "outputs": [],
   "source": [
    "sym.simplify(La.subs({lam:sol2[1][lam],x1:sol2[1][x1]}))"
   ]
  },
  {
   "cell_type": "code",
   "execution_count": null,
   "metadata": {
    "collapsed": true
   },
   "outputs": [],
   "source": [
    "sol1[1][x1]"
   ]
  },
  {
   "cell_type": "code",
   "execution_count": null,
   "metadata": {
    "collapsed": true
   },
   "outputs": [],
   "source": [
    "sym.simplify(sol1[1][x1])"
   ]
  },
  {
   "cell_type": "code",
   "execution_count": null,
   "metadata": {
    "collapsed": true
   },
   "outputs": [],
   "source": [
    "sol1[1][lam]"
   ]
  },
  {
   "cell_type": "code",
   "execution_count": null,
   "metadata": {
    "collapsed": true
   },
   "outputs": [],
   "source": []
  },
  {
   "cell_type": "code",
   "execution_count": null,
   "metadata": {
    "collapsed": true
   },
   "outputs": [],
   "source": []
  },
  {
   "cell_type": "code",
   "execution_count": null,
   "metadata": {
    "collapsed": true
   },
   "outputs": [],
   "source": []
  },
  {
   "cell_type": "code",
   "execution_count": null,
   "metadata": {
    "collapsed": true
   },
   "outputs": [],
   "source": []
  },
  {
   "cell_type": "code",
   "execution_count": null,
   "metadata": {
    "collapsed": true
   },
   "outputs": [],
   "source": []
  },
  {
   "cell_type": "code",
   "execution_count": null,
   "metadata": {
    "collapsed": true
   },
   "outputs": [],
   "source": []
  },
  {
   "cell_type": "code",
   "execution_count": null,
   "metadata": {
    "collapsed": true
   },
   "outputs": [],
   "source": []
  },
  {
   "cell_type": "code",
   "execution_count": null,
   "metadata": {
    "collapsed": true
   },
   "outputs": [],
   "source": [
    "delta = 0.025\n",
    "x = np.arange(-3.0, 3.0, delta)\n",
    "y = np.arange(-2.0, 3.0, delta)\n",
    "X, Y = np.meshgrid(x, y)\n",
    "\n",
    "bc = 2-x\n",
    "\n",
    "Z = X**0.5*Y**0.5\n",
    "\n",
    "\n",
    "# Create a simple contour plot with labels using default colors.  The\n",
    "# inline argument to clabel will control whether the labels are draw\n",
    "# over the line segments of the contour, removing the lines beneath\n",
    "# the label\n",
    "plt.figure()\n",
    "BL = plt.plot(x, bc, '-r')\n",
    "CS = plt.contour(X, Y, Z)\n",
    "plt.clabel(CS, inline=1, fontsize=10)\n",
    "plt.title('Contour curve/IC and Budget line')\n",
    "plt.xlim(0,3)\n",
    "plt.ylim(0,3)"
   ]
  },
  {
   "cell_type": "code",
   "execution_count": null,
   "metadata": {
    "collapsed": true
   },
   "outputs": [],
   "source": []
  },
  {
   "cell_type": "code",
   "execution_count": null,
   "metadata": {
    "collapsed": true
   },
   "outputs": [],
   "source": []
  },
  {
   "cell_type": "code",
   "execution_count": null,
   "metadata": {
    "collapsed": true
   },
   "outputs": [],
   "source": []
  },
  {
   "cell_type": "code",
   "execution_count": null,
   "metadata": {
    "collapsed": true
   },
   "outputs": [],
   "source": []
  }
 ],
 "metadata": {
  "kernelspec": {
   "display_name": "Python 3",
   "language": "python",
   "name": "python3"
  },
  "language_info": {
   "codemirror_mode": {
    "name": "ipython",
    "version": 3
   },
   "file_extension": ".py",
   "mimetype": "text/x-python",
   "name": "python",
   "nbconvert_exporter": "python",
   "pygments_lexer": "ipython3",
   "version": "3.5.2"
  }
 },
 "nbformat": 4,
 "nbformat_minor": 2
}
