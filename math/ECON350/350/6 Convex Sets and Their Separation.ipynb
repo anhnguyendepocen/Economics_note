{
 "cells": [
  {
   "cell_type": "markdown",
   "metadata": {},
   "source": [
    "Lagrange's Theorem and the Kuhn-Tucker Theorem give us first order necessary conditions for constrained maximization problems. The conditions are not in general sufficient to determine the optimum.\n",
    "\n",
    "\n",
    "The maxima and minima can be distinguished by examining the curvatures of the objective and constraint functions.\n",
    "\n",
    "The problem:\n",
    "\n",
    "choosing the vector x to maximize the F(x) subject to a scalar constaint G(x) <= c. Let x denote the optimum choice, and now write $\\bar v$ for the maximum value.\n",
    "\n",
    "\n",
    "the lower contour set of G for the value c.\n",
    "\n",
    "the upper contour set of F for the value $\\bar v$.\n",
    "\n",
    "The curvatures of the two sets are chosen to ensure a maximum.\n",
    "\n",
    "The common tangent separates the x-plane into two halves, each containing one of the sets.\n",
    "\n",
    "This separation is the crucial property that allows us to distinguish maximum from minima, and obtain sufficient conditions for the maximization problem.\n",
    "\n",
    "\n",
    "\n",
    "convex set and quasi-concave and concave functions.\n",
    "\n",
    "a geometric approach to constrained optimization based on the separation of two convex sets.\n",
    "\n",
    "\n"
   ]
  },
  {
   "cell_type": "code",
   "execution_count": null,
   "metadata": {
    "collapsed": true
   },
   "outputs": [],
   "source": [
    "import sympy as sym\n",
    "sym.init_printing()"
   ]
  },
  {
   "cell_type": "code",
   "execution_count": null,
   "metadata": {
    "collapsed": true
   },
   "outputs": [],
   "source": [
    "x,y,z = sym.symbols('x y z')\n",
    "a,b,c = sym.symbols('a b c')\n",
    "f, g, h = sym.symbols('f g h', cls=sym.Function)\n",
    "x1,x2,lam = sym.symbols('x_1 x_2 lambda')"
   ]
  },
  {
   "cell_type": "code",
   "execution_count": null,
   "metadata": {
    "collapsed": true
   },
   "outputs": [],
   "source": [
    "L = a*x1+b*x2 + lam*(16-x1**2 -x2**2)"
   ]
  },
  {
   "cell_type": "code",
   "execution_count": null,
   "metadata": {},
   "outputs": [],
   "source": [
    "L1 =sym.diff(L, x1)\n",
    "L1"
   ]
  },
  {
   "cell_type": "code",
   "execution_count": null,
   "metadata": {},
   "outputs": [],
   "source": [
    "L2=sym.diff(L, x2)\n",
    "L2"
   ]
  },
  {
   "cell_type": "code",
   "execution_count": null,
   "metadata": {},
   "outputs": [],
   "source": [
    "Llam =sym.diff(L, lam)\n",
    "Llam"
   ]
  },
  {
   "cell_type": "code",
   "execution_count": null,
   "metadata": {},
   "outputs": [],
   "source": [
    "sol1=sym.solve([L1,L2,Llam], x1,x2, lam)\n",
    "sol1"
   ]
  },
  {
   "cell_type": "code",
   "execution_count": null,
   "metadata": {},
   "outputs": [],
   "source": [
    "La =sym.diff(L, a)\n",
    "La"
   ]
  },
  {
   "cell_type": "code",
   "execution_count": null,
   "metadata": {},
   "outputs": [],
   "source": [
    "sol1[1][1]"
   ]
  },
  {
   "cell_type": "code",
   "execution_count": null,
   "metadata": {},
   "outputs": [],
   "source": [
    "La.subs({x1:sol1[1][1]})"
   ]
  },
  {
   "cell_type": "code",
   "execution_count": null,
   "metadata": {
    "collapsed": true
   },
   "outputs": [],
   "source": []
  },
  {
   "cell_type": "code",
   "execution_count": null,
   "metadata": {
    "collapsed": true
   },
   "outputs": [],
   "source": []
  },
  {
   "cell_type": "code",
   "execution_count": null,
   "metadata": {
    "collapsed": true
   },
   "outputs": [],
   "source": []
  },
  {
   "cell_type": "code",
   "execution_count": null,
   "metadata": {
    "collapsed": true
   },
   "outputs": [],
   "source": []
  }
 ],
 "metadata": {
  "kernelspec": {
   "display_name": "Python 3",
   "language": "python",
   "name": "python3"
  },
  "language_info": {
   "codemirror_mode": {
    "name": "ipython",
    "version": 3
   },
   "file_extension": ".py",
   "mimetype": "text/x-python",
   "name": "python",
   "nbconvert_exporter": "python",
   "pygments_lexer": "ipython3",
   "version": "3.6.2"
  }
 },
 "nbformat": 4,
 "nbformat_minor": 2
}
