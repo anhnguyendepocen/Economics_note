{
 "cells": [
  {
   "cell_type": "code",
   "execution_count": 1,
   "metadata": {
    "ExecuteTime": {
     "end_time": "2018-01-23T04:52:45.065295Z",
     "start_time": "2018-01-23T04:52:44.586009Z"
    }
   },
   "outputs": [],
   "source": [
    "\n",
    "import sympy\n",
    "sympy.init_printing()"
   ]
  },
  {
   "cell_type": "code",
   "execution_count": 2,
   "metadata": {
    "ExecuteTime": {
     "end_time": "2018-01-23T04:52:45.746832Z",
     "start_time": "2018-01-23T04:52:45.743825Z"
    }
   },
   "outputs": [],
   "source": [
    "x1 = sympy.Symbol('x1', positive=True)\n",
    "x2 = sympy.Symbol('x2', positive=True)\n",
    "lambda1, lambda2, lambda3 = sympy.symbols('lambda1, lambda2, lambda3', positive=True)\n"
   ]
  },
  {
   "cell_type": "code",
   "execution_count": 3,
   "metadata": {
    "ExecuteTime": {
     "end_time": "2018-01-23T04:52:47.556093Z",
     "start_time": "2018-01-23T04:52:47.552099Z"
    }
   },
   "outputs": [],
   "source": [
    "F = x1**(0.25)*x2**(0.75)\n",
    "G1= 2*x1**2+5*x2**2\n",
    "c1 = 10"
   ]
  },
  {
   "cell_type": "code",
   "execution_count": 4,
   "metadata": {
    "ExecuteTime": {
     "end_time": "2018-01-23T04:52:49.247300Z",
     "start_time": "2018-01-23T04:52:49.245279Z"
    }
   },
   "outputs": [],
   "source": [
    "L = F+ lambda1*(c1- G1)"
   ]
  },
  {
   "cell_type": "code",
   "execution_count": 5,
   "metadata": {
    "ExecuteTime": {
     "end_time": "2018-01-23T04:52:50.783159Z",
     "start_time": "2018-01-23T04:52:50.373962Z"
    }
   },
   "outputs": [
    {
     "data": {
      "image/png": "[encoded data removed]",
      "text/latex": [
       "$$\\lambda_{1} \\left(- 2 x_{1}^{2} - 5 x_{2}^{2} + 10\\right) + x_{1}^{0.25} x_{2}^{0.75}$$"
      ],
      "text/plain": [
       "   ⎛      2       2     ⎞     0.25   0.75\n",
       "λ₁⋅⎝- 2⋅x₁  - 5⋅x₂  + 10⎠ + x₁    ⋅x₂    "
      ]
     },
     "execution_count": 5,
     "metadata": {},
     "output_type": "execute_result"
    }
   ],
   "source": [
    "L"
   ]
  },
  {
   "cell_type": "code",
   "execution_count": 6,
   "metadata": {
    "ExecuteTime": {
     "end_time": "2018-01-23T04:52:53.863546Z",
     "start_time": "2018-01-23T04:52:53.854020Z"
    }
   },
   "outputs": [],
   "source": [
    "Lx1 = L.diff(x1)\n",
    "Lx2 = L.diff(x2)\n",
    "Llambda1 = L.diff(lambda1)\n"
   ]
  },
  {
   "cell_type": "code",
   "execution_count": 7,
   "metadata": {
    "ExecuteTime": {
     "end_time": "2018-01-23T04:52:56.231834Z",
     "start_time": "2018-01-23T04:52:55.825963Z"
    }
   },
   "outputs": [
    {
     "data": {
      "image/png": "[encoded data removed]",
      "text/latex": [
       "$$\\left ( - 4 \\lambda_{1} x_{1} + \\frac{0.25 x_{2}^{0.75}}{x_{1}^{0.75}}, \\quad - 10 \\lambda_{1} x_{2} + \\frac{0.75 x_{1}^{0.25}}{x_{2}^{0.25}}, \\quad - 2 x_{1}^{2} - 5 x_{2}^{2} + 10\\right )$$"
      ],
      "text/plain": [
       "⎛                  -0.75   0.75                     0.25   -0.25        2     \n",
       "⎝-4⋅λ₁⋅x₁ + 0.25⋅x₁     ⋅x₂    , -10⋅λ₁⋅x₂ + 0.75⋅x₁    ⋅x₂     , - 2⋅x₁  - 5⋅\n",
       "\n",
       "  2     ⎞\n",
       "x₂  + 10⎠"
      ]
     },
     "execution_count": 7,
     "metadata": {},
     "output_type": "execute_result"
    }
   ],
   "source": [
    "Lx1,Lx2,Llambda1"
   ]
  },
  {
   "cell_type": "code",
   "execution_count": 8,
   "metadata": {
    "ExecuteTime": {
     "end_time": "2018-01-23T04:52:58.459758Z",
     "start_time": "2018-01-23T04:52:57.925751Z"
    }
   },
   "outputs": [
    {
     "data": {
      "image/png": "[encoded data removed]",
      "text/latex": [
       "$$\\left[\\begin{matrix}1.11803398874989\\\\1.22474487139159\\\\0.059857417842456\\end{matrix}\\right]$$"
      ],
      "text/plain": [
       "⎡1.11803398874989 ⎤\n",
       "⎢                 ⎥\n",
       "⎢1.22474487139159 ⎥\n",
       "⎢                 ⎥\n",
       "⎣0.059857417842456⎦"
      ]
     },
     "execution_count": 8,
     "metadata": {},
     "output_type": "execute_result"
    }
   ],
   "source": [
    "sympy.nsolve((Lx1,Lx2,Llambda1), (x1,x2, lambda1),(1,1,1))"
   ]
  },
  {
   "cell_type": "code",
   "execution_count": 81,
   "metadata": {
    "collapsed": true
   },
   "outputs": [],
   "source": [
    "#?sympy.nsolve\n",
    "#http://docs.sympy.org/dev/modules/solvers/solvers.html#sympy.solvers.solvers.nsolve"
   ]
  },
  {
   "cell_type": "code",
   "execution_count": 72,
   "metadata": {
    "collapsed": true
   },
   "outputs": [],
   "source": [
    "from scipy.optimize import fsolve\n",
    "import math"
   ]
  },
  {
   "cell_type": "code",
   "execution_count": 80,
   "metadata": {},
   "outputs": [],
   "source": [
    "#x,y, labmda11 =  fsolve((Lx1,Lx2,Llambda1), (1,1,1))"
   ]
  },
  {
   "cell_type": "code",
   "execution_count": 79,
   "metadata": {},
   "outputs": [
    {
     "data": {
      "image/png": "[encoded data removed]",
      "text/latex": [
       "$$\\left [ \\right ]$$"
      ],
      "text/plain": [
       "[]"
      ]
     },
     "execution_count": 79,
     "metadata": {},
     "output_type": "execute_result"
    }
   ],
   "source": [
    "sympy.solve((Lx1,Lx2,Llambda1), (x1,x2, lambda1))\n",
    "# not for linear solver"
   ]
  },
  {
   "cell_type": "markdown",
   "metadata": {},
   "source": [
    "For more information, see help(solve) and help(solve_linear_system)."
   ]
  },
  {
   "cell_type": "code",
   "execution_count": 63,
   "metadata": {},
   "outputs": [
    {
     "data": {
      "image/png": "[encoded data removed]",
      "text/latex": [
       "$$\\left [ 1\\right ]$$"
      ],
      "text/plain": [
       "[1]"
      ]
     },
     "execution_count": 63,
     "metadata": {},
     "output_type": "execute_result"
    }
   ],
   "source": [
    "\n",
    "eq = x1 - x1 ** 3                           # define the equation\n",
    "sympy.solve(eq, x1)                        # solve eq = 0"
   ]
  },
  {
   "cell_type": "code",
   "execution_count": 64,
   "metadata": {},
   "outputs": [
    {
     "data": {
      "text/latex": [
       "$$\\left[\\begin{matrix}3 & 7 & 12 z\\\\4 & -2 & 5 z\\end{matrix}\\right]$$"
      ],
      "text/plain": [
       "⎡3  7   12⋅z⎤\n",
       "⎢           ⎥\n",
       "⎣4  -2  5⋅z ⎦"
      ]
     },
     "execution_count": 64,
     "metadata": {},
     "output_type": "execute_result"
    }
   ],
   "source": [
    "x, y, z = sympy.symbols('x,y,z')\n",
    "system = sympy.Matrix(([3, 7, 12*z],[4, -2, 5*z]))\n",
    "system"
   ]
  },
  {
   "cell_type": "code",
   "execution_count": 65,
   "metadata": {},
   "outputs": [
    {
     "data": {
      "image/png": "[encoded data removed]",
      "text/latex": [
       "$$\\left \\{ x : \\frac{59 z}{34}, \\quad y : \\frac{33 z}{34}\\right \\}$$"
      ],
      "text/plain": [
       "⎧   59⋅z     33⋅z⎫\n",
       "⎨x: ────, y: ────⎬\n",
       "⎩    34       34 ⎭"
      ]
     },
     "execution_count": 65,
     "metadata": {},
     "output_type": "execute_result"
    }
   ],
   "source": [
    "sol = sympy.solve_linear_system(system,x,y)\n",
    "sol"
   ]
  },
  {
   "cell_type": "code",
   "execution_count": 66,
   "metadata": {},
   "outputs": [
    {
     "data": {
      "image/png": "[encoded data removed]",
      "text/latex": [
       "$$f{\\left (x \\right )} = C_{1} e^{- i a^{2} x} + C_{2} e^{i a^{2} x}$$"
      ],
      "text/plain": [
       "               2            2  \n",
       "           -ⅈ⋅a ⋅x       ⅈ⋅a ⋅x\n",
       "f(x) = C₁⋅ℯ        + C₂⋅ℯ      "
      ]
     },
     "execution_count": 66,
     "metadata": {},
     "output_type": "execute_result"
    }
   ],
   "source": [
    "a, x = sympy.symbols('a,x')\n",
    "f = sympy.Function('f')\n",
    "sympy.dsolve(sympy.Derivative(f(x), x, 2) + a**4*f(x), f(x))"
   ]
  },
  {
   "cell_type": "code",
   "execution_count": 67,
   "metadata": {
    "collapsed": true
   },
   "outputs": [],
   "source": [
    "#?sympy.Symbol"
   ]
  },
  {
   "cell_type": "code",
   "execution_count": null,
   "metadata": {
    "collapsed": true
   },
   "outputs": [],
   "source": []
  }
 ],
 "metadata": {
  "kernelspec": {
   "display_name": "Python 3",
   "language": "python",
   "name": "python3"
  },
  "language_info": {
   "codemirror_mode": {
    "name": "ipython",
    "version": 3
   },
   "file_extension": ".py",
   "mimetype": "text/x-python",
   "name": "python",
   "nbconvert_exporter": "python",
   "pygments_lexer": "ipython3",
   "version": "3.6.3"
  }
 },
 "nbformat": 4,
 "nbformat_minor": 2
}
