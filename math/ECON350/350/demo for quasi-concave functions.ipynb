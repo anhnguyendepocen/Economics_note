{
 "cells": [
  {
   "cell_type": "code",
   "execution_count": 1,
   "metadata": {
    "ExecuteTime": {
     "end_time": "2017-11-06T05:40:36.517026Z",
     "start_time": "2017-11-06T05:40:34.840Z"
    }
   },
   "outputs": [
    {
     "name": "stderr",
     "output_type": "stream",
     "text": [
      "Loading required package: rgl\n"
     ]
    }
   ],
   "source": [
    "# R script accompanying quasi-concave, concave etc note\n",
    "\n",
    "if(!require(rgl)) install.packages('rgl')\n",
    "require(rgl)"
   ]
  },
  {
   "cell_type": "code",
   "execution_count": 2,
   "metadata": {
    "ExecuteTime": {
     "end_time": "2017-11-06T05:40:44.569828Z",
     "start_time": "2017-11-06T05:40:44.544Z"
    },
    "collapsed": true
   },
   "outputs": [],
   "source": [
    "# setup data\n",
    "nx <- 50\t# points into x direction\n",
    "ny <- 50\t# points into y\n",
    "\n",
    "x <- seq(0,1,length=50)\n",
    "y <- seq(0,1,length=50)\n",
    "\n",
    "df <- expand.grid(x=x,y=y)"
   ]
  },
  {
   "cell_type": "code",
   "execution_count": 3,
   "metadata": {
    "ExecuteTime": {
     "end_time": "2017-11-06T05:40:54.629413Z",
     "start_time": "2017-11-06T05:40:54.611Z"
    },
    "collapsed": true
   },
   "outputs": [],
   "source": [
    "# DGPs\n",
    "cobb.douglas <- function(x,a,b) return( x[1]^a * x[2]^b )"
   ]
  },
  {
   "cell_type": "code",
   "execution_count": 4,
   "metadata": {
    "ExecuteTime": {
     "end_time": "2017-11-06T05:41:02.592226Z",
     "start_time": "2017-11-06T05:41:02.547Z"
    },
    "collapsed": true
   },
   "outputs": [],
   "source": [
    "# plotting data\n",
    "cd1 <- apply(df,1,cobb.douglas,a=0.25,b=0.25)\n",
    "cd2 <- apply(df,1,cobb.douglas,a=2,b=2)"
   ]
  },
  {
   "cell_type": "code",
   "execution_count": 5,
   "metadata": {
    "ExecuteTime": {
     "end_time": "2017-11-06T05:41:20.130989Z",
     "start_time": "2017-11-06T05:41:20.111Z"
    },
    "collapsed": true
   },
   "outputs": [],
   "source": [
    "# put in a matrix\n",
    "cd.heights1 <- matrix(cd1,nrow=nx,ncol=ny)\n",
    "cd.heights2 <- matrix(cd2,nrow=nx,ncol=ny)"
   ]
  },
  {
   "cell_type": "code",
   "execution_count": 11,
   "metadata": {
    "ExecuteTime": {
     "end_time": "2017-11-06T06:08:46.796736Z",
     "start_time": "2017-11-06T06:08:46.594Z"
    }
   },
   "outputs": [
    {
     "data": {
      "text/html": [
       "<strong>wgl:</strong> 5"
      ],
      "text/latex": [
       "\\textbf{wgl:} 5"
      ],
      "text/markdown": [
       "**wgl:** 5"
      ],
      "text/plain": [
       "wgl \n",
       "  5 "
      ]
     },
     "metadata": {},
     "output_type": "display_data"
    },
    {
     "data": {},
     "metadata": {},
     "output_type": "display_data"
    },
    {
     "data": {},
     "metadata": {},
     "output_type": "display_data"
    },
    {
     "data": {},
     "metadata": {},
     "output_type": "display_data"
    }
   ],
   "source": [
    "# concave cobb douglas\n",
    "open3d()\n",
    "surface3d(x,y,cd.heights1,color=\"red\",alpha=0.8)\n",
    "axes3d(labels=FALSE,tick=FALSE)\n",
    "title3d(\"concave cobb douglas\")"
   ]
  },
  {
   "cell_type": "code",
   "execution_count": 9,
   "metadata": {
    "ExecuteTime": {
     "end_time": "2017-11-06T05:42:06.794592Z",
     "start_time": "2017-11-06T05:42:06.567Z"
    }
   },
   "outputs": [
    {
     "data": {
      "text/html": [
       "<strong>wgl:</strong> 3"
      ],
      "text/latex": [
       "\\textbf{wgl:} 3"
      ],
      "text/markdown": [
       "**wgl:** 3"
      ],
      "text/plain": [
       "wgl \n",
       "  3 "
      ]
     },
     "metadata": {},
     "output_type": "display_data"
    },
    {
     "data": {},
     "metadata": {},
     "output_type": "display_data"
    },
    {
     "data": {},
     "metadata": {},
     "output_type": "display_data"
    },
    {
     "data": {},
     "metadata": {},
     "output_type": "display_data"
    },
    {
     "data": {},
     "metadata": {},
     "output_type": "display_data"
    }
   ],
   "source": [
    "# concave cobb douglas with planes\n",
    "open3d()\n",
    "surface3d(x,y,cd.heights1,color=\"red\",alpha=0.8)\n",
    "axes3d(labels=FALSE,tick=FALSE)\n",
    "level <- seq(0.25,1.75,by=0.25)\n",
    "planes3d(a=0,b=0,c=-1,d=level,color=\"blue\",alpha=0.8)\n",
    "title3d(\"concave cobb douglas with planes\")\n",
    "\n"
   ]
  },
  {
   "cell_type": "code",
   "execution_count": 8,
   "metadata": {
    "ExecuteTime": {
     "end_time": "2017-11-06T05:42:03.525791Z",
     "start_time": "2017-11-06T05:42:03.454Z"
    }
   },
   "outputs": [
    {
     "data": {
      "image/png": "[encoded data removed]",
      "text/plain": [
       "Plot with title \"contours of concave cobb-douglas\""
      ]
     },
     "metadata": {},
     "output_type": "display_data"
    }
   ],
   "source": [
    "contour(x=x,y=y,z=cd.heights1,levels=level,main=\"contours of concave cobb-douglas\")"
   ]
  },
  {
   "cell_type": "code",
   "execution_count": 10,
   "metadata": {
    "ExecuteTime": {
     "end_time": "2017-11-06T05:45:00.078260Z",
     "start_time": "2017-11-06T05:44:59.829Z"
    }
   },
   "outputs": [
    {
     "data": {
      "text/html": [
       "<strong>wgl:</strong> 4"
      ],
      "text/latex": [
       "\\textbf{wgl:} 4"
      ],
      "text/markdown": [
       "**wgl:** 4"
      ],
      "text/plain": [
       "wgl \n",
       "  4 "
      ]
     },
     "metadata": {},
     "output_type": "display_data"
    },
    {
     "data": {},
     "metadata": {},
     "output_type": "display_data"
    },
    {
     "data": {},
     "metadata": {},
     "output_type": "display_data"
    },
    {
     "data": {},
     "metadata": {},
     "output_type": "display_data"
    },
    {
     "data": {},
     "metadata": {},
     "output_type": "display_data"
    },
    {
     "data": {},
     "metadata": {},
     "output_type": "display_data"
    }
   ],
   "source": [
    "# quasi-concave cobb douglas\n",
    "open3d()\n",
    "surface3d(x,y,cd.heights2,color=\"red\")\n",
    "axes3d(labels=FALSE,tick=FALSE)\n",
    "points3d(x=c(1,1),y=c(0,0.8),z=c(cobb.douglas(x=c(1,0),a=2,b=2),cobb.douglas(x=c(1,0.8),a=2,b=2)),size=4)\n",
    "segments3d(x=c(1,1),y=c(0,0.8),z=c(cobb.douglas(x=c(1,0),a=2,b=2),cobb.douglas(x=c(1,0.8),a=2,b=2)),lwd=2)\n",
    "title3d(\"quasi-concave cobb douglas\")\n"
   ]
  },
  {
   "cell_type": "code",
   "execution_count": null,
   "metadata": {
    "collapsed": true
   },
   "outputs": [],
   "source": [
    "open3d()\n",
    "surface3d(x,y,cd.heights2,color=\"red\")\n",
    "axes3d(labels=FALSE,tick=FALSE)\n",
    "level <- seq(0.05,1.95,by=0.25)\n",
    "planes3d(a=0,b=0,c=-1,d=level,color=\"blue\",alpha=0.8)\n",
    "title3d(\"quasi-concave cobb douglas with planes\")"
   ]
  },
  {
   "cell_type": "code",
   "execution_count": null,
   "metadata": {
    "collapsed": true
   },
   "outputs": [],
   "source": [
    "dev.new()\n",
    "contour(x=x,y=y,z=cd.heights2,levels=level,main=\"contours of quasi-concave cobb-douglas\")\n",
    "\n",
    "print(\"end of demo\")"
   ]
  },
  {
   "cell_type": "code",
   "execution_count": null,
   "metadata": {
    "collapsed": true
   },
   "outputs": [],
   "source": []
  },
  {
   "cell_type": "code",
   "execution_count": null,
   "metadata": {},
   "outputs": [],
   "source": [
    "\n",
    "\n",
    "\n",
    "\n",
    "\n",
    "\n",
    "\n",
    "\n",
    "\n",
    "\n",
    "\n",
    "\n",
    "\n",
    "\n",
    "\n",
    "\n",
    "\n",
    "\n"
   ]
  },
  {
   "cell_type": "code",
   "execution_count": null,
   "metadata": {
    "collapsed": true
   },
   "outputs": [],
   "source": []
  },
  {
   "cell_type": "markdown",
   "metadata": {},
   "source": [
    "ref:\n",
    "\n",
    "https://gist.github.com/floswald/3826511"
   ]
  }
 ],
 "metadata": {
  "kernelspec": {
   "display_name": "R",
   "language": "R",
   "name": "ir"
  },
  "language_info": {
   "codemirror_mode": "r",
   "file_extension": ".r",
   "mimetype": "text/x-r-source",
   "name": "R",
   "pygments_lexer": "r",
   "version": "3.4.2"
  }
 },
 "nbformat": 4,
 "nbformat_minor": 2
}
