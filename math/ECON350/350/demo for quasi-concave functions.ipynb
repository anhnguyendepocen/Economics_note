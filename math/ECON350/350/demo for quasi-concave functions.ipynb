{
 "cells": [
  {
   "cell_type": "code",
   "execution_count": 1,
   "metadata": {
    "collapsed": false
   },
   "outputs": [
    {
     "name": "stderr",
     "output_type": "stream",
     "text": [
      "Loading required package: rgl\n",
      "Warning message in library(package, lib.loc = lib.loc, character.only = TRUE, logical.return = TRUE, :\n",
      "“there is no package called ‘rgl’”Installing package into ‘/home/jonduan/R/x86_64-pc-linux-gnu-library/3.1’\n",
      "(as ‘lib’ is unspecified)\n",
      "also installing the dependency ‘htmlwidgets’\n",
      "\n",
      "Warning message in install.packages(\"rgl\"):\n",
      "“installation of package ‘rgl’ had non-zero exit status”Loading required package: rgl\n",
      "Warning message in library(package, lib.loc = lib.loc, character.only = TRUE, logical.return = TRUE, :\n",
      "“there is no package called ‘rgl’”"
     ]
    },
    {
     "ename": "ERROR",
     "evalue": "Error in eval(expr, envir, enclos): could not find function \"open3d\"\n",
     "output_type": "error",
     "traceback": [
      "Error in eval(expr, envir, enclos): could not find function \"open3d\"\nTraceback:\n"
     ]
    }
   ],
   "source": [
    "# R script accompanying quasi-concave, concave etc note\n",
    "\n",
    "if(!require(rgl)) install.packages('rgl')\n",
    "require(rgl)\n",
    "\n",
    "\n",
    "# setup data\n",
    "nx <- 50\t# points into x direction\n",
    "ny <- 50\t# points into y\n",
    "\n",
    "x <- seq(0,1,length=50)\n",
    "y <- seq(0,1,length=50)\n",
    "\n",
    "df <- expand.grid(x=x,y=y)\n",
    "\n",
    "# DGPs\n",
    "cobb.douglas <- function(x,a,b) return( x[1]^a * x[2]^b )\n",
    "\n",
    "# plotting data\n",
    "cd1 <- apply(df,1,cobb.douglas,a=0.25,b=0.25)\n",
    "cd2 <- apply(df,1,cobb.douglas,a=2,b=2)\n",
    "\n",
    "# put in a matrix\n",
    "cd.heights1 <- matrix(cd1,nrow=nx,ncol=ny)\n",
    "cd.heights2 <- matrix(cd2,nrow=nx,ncol=ny)\n",
    "\n",
    "# concave cobb douglas\n",
    "open3d()\n",
    "surface3d(x,y,cd.heights1,color=\"red\",alpha=0.8)\n",
    "axes3d(labels=FALSE,tick=FALSE)\n",
    "title3d(\"concave cobb douglas\")\n",
    "\n",
    "# concave cobb douglas with planes\n",
    "open3d()\n",
    "surface3d(x,y,cd.heights1,color=\"red\",alpha=0.8)\n",
    "axes3d(labels=FALSE,tick=FALSE)\n",
    "level <- seq(0.25,1.75,by=0.25)\n",
    "planes3d(a=0,b=0,c=-1,d=level,color=\"blue\",alpha=0.8)\n",
    "title3d(\"concave cobb douglas with planes\")\n",
    "\n",
    "contour(x=x,y=y,z=cd.heights1,levels=level,main=\"contours of concave cobb-douglas\")\n",
    "\n",
    "# quasi-concave cobb douglas\n",
    "open3d()\n",
    "surface3d(x,y,cd.heights2,color=\"red\")\n",
    "axes3d(labels=FALSE,tick=FALSE)\n",
    "points3d(x=c(1,1),y=c(0,0.8),z=c(cobb.douglas(x=c(1,0),a=2,b=2),cobb.douglas(x=c(1,0.8),a=2,b=2)),size=4)\n",
    "segments3d(x=c(1,1),y=c(0,0.8),z=c(cobb.douglas(x=c(1,0),a=2,b=2),cobb.douglas(x=c(1,0.8),a=2,b=2)),lwd=2)\n",
    "title3d(\"quasi-concave cobb douglas\")\n",
    "\n",
    "open3d()\n",
    "surface3d(x,y,cd.heights2,color=\"red\")\n",
    "axes3d(labels=FALSE,tick=FALSE)\n",
    "level <- seq(0.05,1.95,by=0.25)\n",
    "planes3d(a=0,b=0,c=-1,d=level,color=\"blue\",alpha=0.8)\n",
    "title3d(\"quasi-concave cobb douglas with planes\")\n",
    "\n",
    "dev.new()\n",
    "contour(x=x,y=y,z=cd.heights2,levels=level,main=\"contours of quasi-concave cobb-douglas\")\n",
    "\n",
    "print(\"end of demo\")"
   ]
  },
  {
   "cell_type": "code",
   "execution_count": null,
   "metadata": {
    "collapsed": true
   },
   "outputs": [],
   "source": []
  },
  {
   "cell_type": "markdown",
   "metadata": {},
   "source": [
    "ref:\n",
    "\n",
    "https://gist.github.com/floswald/3826511"
   ]
  }
 ],
 "metadata": {
  "kernelspec": {
   "display_name": "R",
   "language": "R",
   "name": "ir"
  },
  "language_info": {
   "codemirror_mode": "r",
   "file_extension": ".r",
   "mimetype": "text/x-r-source",
   "name": "R",
   "pygments_lexer": "r",
   "version": "3.3.1"
  }
 },
 "nbformat": 4,
 "nbformat_minor": 2
}
