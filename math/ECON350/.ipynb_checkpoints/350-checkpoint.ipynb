{
 "cells": [
  {
   "cell_type": "code",
   "execution_count": null,
   "metadata": {
    "collapsed": true
   },
   "outputs": [],
   "source": []
  },
  {
   "cell_type": "code",
   "execution_count": null,
   "metadata": {
    "collapsed": true
   },
   "outputs": [],
   "source": []
  },
  {
   "cell_type": "code",
   "execution_count": null,
   "metadata": {
    "collapsed": true
   },
   "outputs": [],
   "source": []
  },
  {
   "cell_type": "code",
   "execution_count": null,
   "metadata": {
    "collapsed": true
   },
   "outputs": [],
   "source": []
  },
  {
   "cell_type": "code",
   "execution_count": null,
   "metadata": {
    "collapsed": true
   },
   "outputs": [],
   "source": []
  },
  {
   "cell_type": "code",
   "execution_count": null,
   "metadata": {
    "collapsed": true
   },
   "outputs": [],
   "source": []
  },
  {
   "cell_type": "markdown",
   "metadata": {},
   "source": [
    "## Chapter 6 "
   ]
  },
  {
   "cell_type": "markdown",
   "metadata": {},
   "source": [
    "To find out the sufficient condition for maximum\n",
    "\n",
    "geometric approach to constrainted optimization based on the separation of two convex sets.\n",
    "\n",
    "\n",
    "Convex quasiconvex by definition and graph\n",
    "\n",
    "\n",
    "Optimizationi by separation\n",
    "\n",
    "both necessary and sufficent for optimality\n",
    "\n",
    "one optimization problem into two linear optimization problem. \n",
    "\n",
    "using prices decentralizing optimal resource allocations \n",
    "\n",
    "$$px = b$$\n",
    "\n",
    "\n",
    "p to be positive\n",
    "\n",
    "\n",
    "relative curvature of the contours of F and G in chapter 8"
   ]
  },
  {
   "cell_type": "code",
   "execution_count": null,
   "metadata": {
    "collapsed": true
   },
   "outputs": [],
   "source": []
  },
  {
   "cell_type": "code",
   "execution_count": null,
   "metadata": {
    "collapsed": true
   },
   "outputs": [],
   "source": []
  },
  {
   "cell_type": "code",
   "execution_count": null,
   "metadata": {
    "collapsed": true
   },
   "outputs": [],
   "source": []
  },
  {
   "cell_type": "markdown",
   "metadata": {},
   "source": [
    "## Chapter 7"
   ]
  },
  {
   "cell_type": "markdown",
   "metadata": {},
   "source": [
    "Find more useful sufficient condition for optimality\n",
    "\n",
    "\n",
    "The properties of convacity and quasi-convacity can be experessed in terms of first- and second order derivatives.\n",
    "\n",
    "\n",
    "\n",
    "Lagrange or Kuhn-Tucker conditions in conjunction with convexity properties of objective and constraint functions are sufficient for optimality.\n",
    "\n",
    "\n",
    "Concave programming\n",
    "\n",
    "Max F is differentiable and concave, Constraint function G is differentiable and covex\n",
    "\n",
    "Maximum value function  V(c)\n",
    "\n",
    "increasing, concave \n",
    "\n",
    "\n",
    "Convexity of G rule out economies of scale or specilization in production\n",
    "\n",
    "\n",
    "The concavity of F ensures that \n",
    "\n",
    "\n",
    "\n",
    "\n"
   ]
  },
  {
   "cell_type": "code",
   "execution_count": null,
   "metadata": {
    "collapsed": true
   },
   "outputs": [],
   "source": []
  },
  {
   "cell_type": "code",
   "execution_count": null,
   "metadata": {
    "collapsed": true
   },
   "outputs": [],
   "source": []
  },
  {
   "cell_type": "code",
   "execution_count": null,
   "metadata": {
    "collapsed": true
   },
   "outputs": [],
   "source": []
  },
  {
   "cell_type": "code",
   "execution_count": null,
   "metadata": {
    "collapsed": true
   },
   "outputs": [],
   "source": []
  }
 ],
 "metadata": {
  "kernelspec": {
   "display_name": "bayesian",
   "language": "python",
   "name": "python3"
  },
  "language_info": {
   "codemirror_mode": {
    "name": "ipython",
    "version": 3
   },
   "file_extension": ".py",
   "mimetype": "text/x-python",
   "name": "python",
   "nbconvert_exporter": "python",
   "pygments_lexer": "ipython3",
   "version": "3.5.2"
  }
 },
 "nbformat": 4,
 "nbformat_minor": 1
}
