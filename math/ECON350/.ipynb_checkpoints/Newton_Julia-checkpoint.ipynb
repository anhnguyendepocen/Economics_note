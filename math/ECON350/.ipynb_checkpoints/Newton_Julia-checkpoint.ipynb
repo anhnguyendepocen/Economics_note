{
 "cells": [
  {
   "cell_type": "code",
   "execution_count": 1,
   "metadata": {},
   "outputs": [],
   "source": [
    "# from MATH346, I just added more detailed comments"
   ]
  },
  {
   "cell_type": "code",
   "execution_count": 2,
   "metadata": {},
   "outputs": [
    {
     "data": {
      "text/plain": [
       "dampedNewton (generic function with 1 method)"
      ]
     },
     "execution_count": 2,
     "metadata": {},
     "output_type": "execute_result"
    }
   ],
   "source": [
    "function newton(f::Function,df::Function,H::Function,x0::Vector;maxIter=20,atol=1e-8,doPrint=false)\n",
    "\n",
    "\tx = copy(x0)\n",
    "    his = zeros(maxIter,2)\n",
    "    n = length(x)\n",
    "    X = zeros(n,maxIter)\n",
    "   \n",
    "    i   = 1\n",
    "    d   = df(x) # gradient\n",
    "    d2f = H(x) # Hessian\n",
    "\n",
    "    while i<=maxIter\n",
    "        fc = f(x)\n",
    "        his[i,:] = [norm(fc) norm(d)] # norms of function value, gradient\n",
    " \t\tX[:,i] = x\n",
    "       # get search direction\n",
    "        pk    =  - (d2f\\d)  #  - (d2f\\d)  since it uses \\ not /, or should be df(x)/d2f(x)\n",
    "        if doPrint\n",
    "            @printf \"iter=%04d\\t|f|=%1.2e\\t|df|=%1.2e\\n\" i his[i,1] his[i,2]\n",
    "        end\n",
    "        # update x ,d and H\n",
    "        x    += pk\n",
    "        d  = df(x) \n",
    "        if(norm(d)<atol) # stop rule\n",
    "            his = his[1:i,:]\n",
    " \t\t\tX   = X[:,1:i]\n",
    "           break\n",
    "        end\n",
    "\t\td2f = H(x)\n",
    "        i+=1   \n",
    "    end\n",
    "    return x,his,X\n",
    "end\n",
    "\n",
    "\n"
   ]
  },
  {
   "cell_type": "code",
   "execution_count": 3,
   "metadata": {},
   "outputs": [],
   "source": [
    "## Add damped term with linesearch"
   ]
  },
  {
   "cell_type": "code",
   "execution_count": 9,
   "metadata": {},
   "outputs": [
    {
     "data": {
      "text/plain": [
       "dampedNewton (generic function with 1 method)"
      ]
     },
     "execution_count": 9,
     "metadata": {},
     "output_type": "execute_result"
    }
   ],
   "source": [
    "function dampedNewton(f::Function,J::Function,H::Function,x::Vector;linesearch=armijo,maxIter=20,atol=1e-8,doPrint=false)\n",
    "\t\n",
    "    his = zeros(maxIter,2)\n",
    "    n = length(x)\n",
    "    X = zeros(n,maxIter)\n",
    "    \n",
    "    i = 1\n",
    "    xOld = x\n",
    "    df   = J(x) # Jacobian\n",
    "\tdf = df[:]\n",
    "    d2f = H(x)\n",
    "\n",
    "    while i<=maxIter\n",
    "        fc = f(x)\n",
    "        his[i,:] = [norm(fc) norm(df)]\n",
    " \t\tX[:,i] = x\n",
    "       # get search direction\n",
    "      \tpk    = - (d2f\\df) # use \\ operator instead of solve inverse Hessian\n",
    "       # check the search direction is opposite to gradient to descent\n",
    "\t\tif dot(pk,df)> 0\n",
    "\t\t\tpk *= -1\n",
    "\t\tend\n",
    "        # line search f is function, fc is function value, \n",
    "        # df is gradient, pk is search direction\n",
    "        ak,LS = linesearch(f,fc,df,x,pk) # LS is a signal to control \n",
    "        # ak is a best alpha for linesearch\n",
    "        # why if linesearch fail then break\n",
    "        # why not use the a small step size instead.\n",
    "\t\tif LS==-1\n",
    "\t\t\t@printf \"Linesearch failed!\"\n",
    "            his = his[1:i,:]\n",
    " \t\t\tX   = X[:,1:i]\n",
    "\t\t\tbreak;\n",
    "\t\tend\n",
    "        if doPrint\n",
    "            @printf \"iter=%04d\\t|f|=%1.2e\\t|df|=%1.2e\\tLS=%d\\n\" i his[i,1] his[i,2] LS\n",
    "        end\n",
    "        # update x, df and H\n",
    "        x    += ak*pk\n",
    "        df  = J(x) \n",
    "\t\tdf = df[:] # unpack\n",
    "        if(norm(df)<atol)\n",
    "            his = his[1:i,:]\n",
    "  \t\t\tX   = X[:,1:i]\n",
    "           break\n",
    "        end\n",
    "\t\td2f = H(x)\n",
    "        i+=1   \n",
    "    end\n",
    "    return x,his\n",
    "end\n"
   ]
  },
  {
   "cell_type": "code",
   "execution_count": 10,
   "metadata": {},
   "outputs": [],
   "source": [
    "## The basic gradient descent"
   ]
  },
  {
   "cell_type": "code",
   "execution_count": 11,
   "metadata": {},
   "outputs": [
    {
     "data": {
      "text/plain": [
       "gd (generic function with 1 method)"
      ]
     },
     "execution_count": 11,
     "metadata": {},
     "output_type": "execute_result"
    }
   ],
   "source": [
    "function gd(f::Function,df::Function,x::Vector;maxIter=20,atol=1e-8,\n",
    "        doPrint=false,linesearch::Function=armijo)\n",
    "\n",
    "    his = zeros(maxIter,2)\n",
    "    n = length(x)\n",
    "    I = eye(n)\n",
    "\tX = zeros(n,maxIter)\n",
    "    \n",
    "    i = 1\n",
    "    xOld = x\n",
    "    d   = df(x)\n",
    "    \n",
    "    while i<=maxIter\n",
    "        fc = f(x)\n",
    "        his[i,:] = [fc norm(d)] # objective value and gradients\n",
    "\t\tX[:,i] = x\n",
    "        # get search direction\n",
    "        pk    = - d/norm(d) \n",
    "        # line search , f is function, \n",
    "        ak,LS = linesearch(f,fc,d,x,pk) \n",
    "        if doPrint && i >= 2\n",
    "            @printf \"iter=%04d\\t|f|=%1.2e\\t|f-fold|=%1.e2\\t|df|=%1.2e\\tLS=%d\\n\" i his[i,1] his[i,1]-his[i-1,1] his[i,2] LS\n",
    "        end\n",
    "\t\tif LS==-1\n",
    "\t\t\t@printf \"Linesearch failed!\"\n",
    "            his = his[1:i,:]\n",
    "\t\t\tX   = X[:,1:i]\n",
    "\t\t\tbreak;\n",
    "\t\tend\n",
    "\n",
    "        # update x and H\n",
    "        x    += ak*pk\n",
    "        d  = df(x)\n",
    "        if(norm(d)<atol)\n",
    "            his = his[1:i,:]\n",
    "\t\t\tX = X[:,1:i]\n",
    "            break\n",
    "        end\n",
    "        i+=1   \n",
    "    end\n",
    "    return x,his,X\n",
    "end\n"
   ]
  },
  {
   "cell_type": "code",
   "execution_count": 12,
   "metadata": {},
   "outputs": [],
   "source": [
    "## Linesearch method: linesearch"
   ]
  },
  {
   "cell_type": "code",
   "execution_count": 13,
   "metadata": {},
   "outputs": [
    {
     "data": {
      "text/plain": [
       "armijo (generic function with 1 method)"
      ]
     },
     "execution_count": 13,
     "metadata": {},
     "output_type": "execute_result"
    }
   ],
   "source": [
    "function armijo(f::Function,fc,df,xc,pc;maxIter=100, alpha=1e-4,b=0.9)\n",
    "    \"\"\"\n",
    "    f: objective function\n",
    "    fc: objective value\n",
    "    df: gradient value vector\n",
    "    xc: current value of x\n",
    "    pc: curent search direction    \n",
    "    \"\"\"\n",
    "LS = 1\n",
    "t  = 1\n",
    "while LS<=maxIter\n",
    "    if f(xc+t*pc) <= fc + t*alpha*dot(df,pc) # why dot product of df and pc\n",
    "        break\n",
    "    end\n",
    "    t *= b\n",
    "    LS += 1\n",
    "end\n",
    "if LS>maxIter \n",
    "    @printf \"Linesearch failed with max iteration!\"    \n",
    "\tLS= -1\n",
    "\tt = 0.0\n",
    "end\n",
    "return t,LS\n",
    "end"
   ]
  },
  {
   "cell_type": "code",
   "execution_count": null,
   "metadata": {},
   "outputs": [],
   "source": []
  }
 ],
 "metadata": {
  "kernelspec": {
   "display_name": "Julia 6.2 0.6.2",
   "language": "julia",
   "name": "julia-6.2-0.6"
  },
  "language_info": {
   "file_extension": ".jl",
   "mimetype": "application/julia",
   "name": "julia",
   "version": "0.6.2"
  }
 },
 "nbformat": 4,
 "nbformat_minor": 2
}
