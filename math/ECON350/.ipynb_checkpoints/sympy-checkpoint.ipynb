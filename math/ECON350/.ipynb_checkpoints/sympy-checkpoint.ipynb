{
 "cells": [
  {
   "cell_type": "code",
   "execution_count": 5,
   "metadata": {},
   "outputs": [],
   "source": [
    "from sympy import Function, Symbol,init_printing\n",
    "init_printing()"
   ]
  },
  {
   "cell_type": "code",
   "execution_count": 6,
   "metadata": {},
   "outputs": [],
   "source": [
    "import sympy as sym"
   ]
  },
  {
   "cell_type": "code",
   "execution_count": 7,
   "metadata": {},
   "outputs": [
    {
     "data": {
      "image/png": "[encoded data removed]",
      "text/latex": [
       "$$\\frac{d}{d x} g{\\left (x \\right )}$$"
      ],
      "text/plain": [
       "d       \n",
       "──(g(x))\n",
       "dx      "
      ]
     },
     "execution_count": 7,
     "metadata": {},
     "output_type": "execute_result"
    }
   ],
   "source": [
    "\n",
    "x = Symbol('x')\n",
    "f = Function('f')\n",
    "g = Function('g')(x)\n",
    "f\n",
    "f\n",
    "f(x)\n",
    "\n",
    "g\n",
    "\n",
    "f(x).diff(x)\n",
    "g.diff(x)"
   ]
  },
  {
   "cell_type": "code",
   "execution_count": 44,
   "metadata": {},
   "outputs": [],
   "source": [
    "lam = sym.symbols('lambda')"
   ]
  },
  {
   "cell_type": "code",
   "execution_count": 45,
   "metadata": {},
   "outputs": [
    {
     "data": {
      "image/png": "[encoded data removed]",
      "text/latex": [
       "$$\\lambda$$"
      ],
      "text/plain": [
       "λ"
      ]
     },
     "execution_count": 45,
     "metadata": {},
     "output_type": "execute_result"
    }
   ],
   "source": [
    "lam"
   ]
  },
  {
   "cell_type": "code",
   "execution_count": null,
   "metadata": {},
   "outputs": [],
   "source": []
  },
  {
   "cell_type": "code",
   "execution_count": 9,
   "metadata": {},
   "outputs": [],
   "source": [
    "f, g, h = sym.symbols('f g h', cls=Function)"
   ]
  },
  {
   "cell_type": "code",
   "execution_count": 10,
   "metadata": {},
   "outputs": [
    {
     "data": {
      "image/png": "[encoded data removed]",
      "text/latex": [
       "$$f{\\left (x \\right )}$$"
      ],
      "text/plain": [
       "f(x)"
      ]
     },
     "execution_count": 10,
     "metadata": {},
     "output_type": "execute_result"
    }
   ],
   "source": [
    "f(x)"
   ]
  },
  {
   "cell_type": "code",
   "execution_count": 12,
   "metadata": {},
   "outputs": [
    {
     "data": {
      "image/png": "[encoded data removed]",
      "text/latex": [
       "$$\\frac{d}{d x} f{\\left (x \\right )}$$"
      ],
      "text/plain": [
       "d       \n",
       "──(f(x))\n",
       "dx      "
      ]
     },
     "execution_count": 12,
     "metadata": {},
     "output_type": "execute_result"
    }
   ],
   "source": [
    "sym.diff(f(x),x)"
   ]
  },
  {
   "cell_type": "code",
   "execution_count": 13,
   "metadata": {},
   "outputs": [],
   "source": [
    "x1, x2 = sym.symbols(\"x1 x2\")"
   ]
  },
  {
   "cell_type": "code",
   "execution_count": 14,
   "metadata": {},
   "outputs": [],
   "source": [
    "x = x1, x2"
   ]
  },
  {
   "cell_type": "markdown",
   "metadata": {},
   "source": [
    "## Mifunction"
   ]
  },
  {
   "cell_type": "code",
   "execution_count": 15,
   "metadata": {},
   "outputs": [],
   "source": [
    "f = (x1**2 +x2-11)**2 + (x1 +x2**2 -7)**2"
   ]
  },
  {
   "cell_type": "code",
   "execution_count": 16,
   "metadata": {},
   "outputs": [
    {
     "data": {
      "image/png": "[encoded data removed]",
      "text/latex": [
       "$$\\left [ 4 x_{1} \\left(x_{1}^{2} + x_{2} - 11\\right) + 2 x_{1} + 2 x_{2}^{2} - 14, \\quad 2 x_{1}^{2} + 4 x_{2} \\left(x_{1} + x_{2}^{2} - 7\\right) + 2 x_{2} - 22\\right ]$$"
      ],
      "text/plain": [
       "⎡     ⎛  2          ⎞              2           2        ⎛       2    ⎞        \n",
       "⎣4⋅x₁⋅⎝x₁  + x₂ - 11⎠ + 2⋅x₁ + 2⋅x₂  - 14, 2⋅x₁  + 4⋅x₂⋅⎝x₁ + x₂  - 7⎠ + 2⋅x₂ \n",
       "\n",
       "    ⎤\n",
       "- 22⎦"
      ]
     },
     "execution_count": 16,
     "metadata": {},
     "output_type": "execute_result"
    }
   ],
   "source": [
    "grad_f = [sym.diff(f, x_) for x_ in x] # List of FOCs\n",
    "grad_f"
   ]
  },
  {
   "cell_type": "markdown",
   "metadata": {},
   "source": [
    "## First order necessary condition\n",
    "\n",
    "x is a stationary point, gradient is zero.\n"
   ]
  },
  {
   "cell_type": "code",
   "execution_count": null,
   "metadata": {},
   "outputs": [],
   "source": []
  },
  {
   "cell_type": "code",
   "execution_count": 17,
   "metadata": {},
   "outputs": [
    {
     "data": {
      "image/png": "[encoded data removed]",
      "text/latex": [
       "$$\\left [ \\left \\{ x_{1} : 3, \\quad x_{2} : 2\\right \\}, \\quad \\left \\{ x_{1} : -1 - \\frac{\\sqrt[3]{2} i}{3468} \\sqrt{6303} \\left(317 + 3 \\sqrt{6303} i\\right)^{\\frac{2}{3}} - \\frac{29 \\sqrt[3]{2}}{1156} \\left(317 + 3 \\sqrt{6303} i\\right)^{\\frac{2}{3}} - \\frac{5}{136} 2^{\\frac{2}{3}} \\sqrt[3]{317 + 3 \\sqrt{6303} i} + \\frac{2^{\\frac{2}{3}} i}{408} \\sqrt{6303} \\sqrt[3]{317 + 3 \\sqrt{6303} i}, \\quad x_{2} : - \\frac{2}{3} + \\frac{34}{9 \\sqrt[3]{\\frac{317}{54} + \\frac{\\sqrt{6303} i}{18}}} + \\sqrt[3]{\\frac{317}{54} + \\frac{\\sqrt{6303} i}{18}}\\right \\}, \\quad \\left \\{ x_{1} : -1 - \\frac{29 i}{2312} \\sqrt[3]{2} \\sqrt{3} \\left(317 + 3 \\sqrt{6303} i\\right)^{\\frac{2}{3}} - \\frac{2^{\\frac{2}{3}} i}{816} \\sqrt{6303} \\sqrt[3]{317 + 3 \\sqrt{6303} i} + \\frac{5}{272} 2^{\\frac{2}{3}} \\sqrt[3]{317 + 3 \\sqrt{6303} i} + \\frac{29 \\sqrt[3]{2}}{2312} \\left(317 + 3 \\sqrt{6303} i\\right)^{\\frac{2}{3}} + \\frac{5 i}{272} 2^{\\frac{2}{3}} \\sqrt{3} \\sqrt[3]{317 + 3 \\sqrt{6303} i} + \\frac{2^{\\frac{2}{3}} \\sqrt{2101}}{272} \\sqrt[3]{317 + 3 \\sqrt{6303} i} + \\frac{\\sqrt[3]{2} \\sqrt{2101}}{2312} \\left(317 + 3 \\sqrt{6303} i\\right)^{\\frac{2}{3}} + \\frac{\\sqrt[3]{2} i}{6936} \\sqrt{6303} \\left(317 + 3 \\sqrt{6303} i\\right)^{\\frac{2}{3}}, \\quad x_{2} : - \\frac{2}{3} + \\left(- \\frac{1}{2} - \\frac{\\sqrt{3} i}{2}\\right) \\sqrt[3]{\\frac{317}{54} + \\frac{\\sqrt{6303} i}{18}} + \\frac{34}{9 \\left(- \\frac{1}{2} - \\frac{\\sqrt{3} i}{2}\\right) \\sqrt[3]{\\frac{317}{54} + \\frac{\\sqrt{6303} i}{18}}}\\right \\}, \\quad \\left \\{ x_{1} : -1 - \\frac{2^{\\frac{2}{3}} i}{816} \\sqrt{6303} \\sqrt[3]{317 + 3 \\sqrt{6303} i} - \\frac{\\sqrt[3]{2} \\sqrt{2101}}{2312} \\left(317 + 3 \\sqrt{6303} i\\right)^{\\frac{2}{3}} - \\frac{2^{\\frac{2}{3}} \\sqrt{2101}}{272} \\sqrt[3]{317 + 3 \\sqrt{6303} i} - \\frac{5 i}{272} 2^{\\frac{2}{3}} \\sqrt{3} \\sqrt[3]{317 + 3 \\sqrt{6303} i} + \\frac{5}{272} 2^{\\frac{2}{3}} \\sqrt[3]{317 + 3 \\sqrt{6303} i} + \\frac{29 \\sqrt[3]{2}}{2312} \\left(317 + 3 \\sqrt{6303} i\\right)^{\\frac{2}{3}} + \\frac{\\sqrt[3]{2} i}{6936} \\sqrt{6303} \\left(317 + 3 \\sqrt{6303} i\\right)^{\\frac{2}{3}} + \\frac{29 i}{2312} \\sqrt[3]{2} \\sqrt{3} \\left(317 + 3 \\sqrt{6303} i\\right)^{\\frac{2}{3}}, \\quad x_{2} : - \\frac{2}{3} + \\frac{34}{9 \\left(- \\frac{1}{2} + \\frac{\\sqrt{3} i}{2}\\right) \\sqrt[3]{\\frac{317}{54} + \\frac{\\sqrt{6303} i}{18}}} + \\left(- \\frac{1}{2} + \\frac{\\sqrt{3} i}{2}\\right) \\sqrt[3]{\\frac{317}{54} + \\frac{\\sqrt{6303} i}{18}}\\right \\}\\right ]$$"
      ],
      "text/plain": [
       "⎡                ⎧         3 ___                          2/3      3 ___      \n",
       "⎢                ⎪         ╲╱ 2 ⋅√6303⋅ⅈ⋅(317 + 3⋅√6303⋅ⅈ)      29⋅╲╱ 2 ⋅(317 \n",
       "⎢{x₁: 3, x₂: 2}, ⎪x₁: -1 - ────────────────────────────────── - ──────────────\n",
       "⎢                ⎨                        3468                               1\n",
       "⎢                ⎪                                                            \n",
       "⎢                ⎪                                                            \n",
       "⎣                ⎩                                                            \n",
       "\n",
       "            2/3      2/3 3 _________________    2/3         3 ________________\n",
       "+ 3⋅√6303⋅ⅈ)      5⋅2   ⋅╲╱ 317 + 3⋅√6303⋅ⅈ    2   ⋅√6303⋅ⅈ⋅╲╱ 317 + 3⋅√6303⋅ⅈ\n",
       "─────────────── - ────────────────────────── + ───────────────────────────────\n",
       "156                          136                             408              \n",
       "                                                                              \n",
       "                                                                              \n",
       "                                                                              \n",
       "\n",
       "_                                        _______________⎫  ⎧            3 ___ \n",
       "         2             34               ╱ 317   √6303⋅ⅈ ⎪  ⎪         29⋅╲╱ 2 ⋅\n",
       "─, x₂: - ─ + ───────────────────── + 3 ╱  ─── + ─────── ⎪, ⎪x₁: -1 - ─────────\n",
       "         3         _______________   ╲╱    54      18   ⎬  ⎨                  \n",
       "                  ╱ 317   √6303⋅ⅈ                       ⎪  ⎪                  \n",
       "             9⋅3 ╱  ─── + ───────                       ⎪  ⎪                  \n",
       "               ╲╱    54      18                         ⎭  ⎩                  \n",
       "\n",
       "                      2/3    2/3         3 _________________      2/3 3 ______\n",
       "√3⋅ⅈ⋅(317 + 3⋅√6303⋅ⅈ)      2   ⋅√6303⋅ⅈ⋅╲╱ 317 + 3⋅√6303⋅ⅈ    5⋅2   ⋅╲╱ 317 +\n",
       "───────────────────────── - ──────────────────────────────── + ───────────────\n",
       "      2312                                816                             272 \n",
       "                                                                              \n",
       "                                                                              \n",
       "                                                                              \n",
       "\n",
       "___________      3 ___                  2/3      2/3      3 _________________ \n",
       " 3⋅√6303⋅ⅈ    29⋅╲╱ 2 ⋅(317 + 3⋅√6303⋅ⅈ)      5⋅2   ⋅√3⋅ⅈ⋅╲╱ 317 + 3⋅√6303⋅ⅈ  \n",
       "─────────── + ───────────────────────────── + ─────────────────────────────── \n",
       "                           2312                             272               \n",
       "                                                                              \n",
       "                                                                              \n",
       "                                                                              \n",
       "\n",
       "   2/3       3 _________________   3 ___                        2/3   3 ___   \n",
       "  2   ⋅√2101⋅╲╱ 317 + 3⋅√6303⋅ⅈ    ╲╱ 2 ⋅√2101⋅(317 + 3⋅√6303⋅ⅈ)      ╲╱ 2 ⋅√6\n",
       "+ ────────────────────────────── + ──────────────────────────────── + ────────\n",
       "               272                               2312                         \n",
       "                                                                              \n",
       "                                                                              \n",
       "                                                                              \n",
       "\n",
       "                       2/3                             _______________        \n",
       "303⋅ⅈ⋅(317 + 3⋅√6303⋅ⅈ)           2   ⎛  1   √3⋅ⅈ⎞    ╱ 317   √6303⋅ⅈ         \n",
       "──────────────────────────, x₂: - ─ + ⎜- ─ - ────⎟⋅3 ╱  ─── + ───────  + ─────\n",
       "       6936                       3   ⎝  2    2  ⎠ ╲╱    54      18           \n",
       "                                                                           ⎛  \n",
       "                                                                         9⋅⎜- \n",
       "                                                                           ⎝  \n",
       "\n",
       "                             ⎫  ⎧          2/3         3 _________________   3\n",
       "           34                ⎪  ⎪         2   ⋅√6303⋅ⅈ⋅╲╱ 317 + 3⋅√6303⋅ⅈ    ╲\n",
       "─────────────────────────────⎪, ⎪x₁: -1 - ──────────────────────────────── - ─\n",
       "              _______________⎬  ⎨                       816                   \n",
       "1   √3⋅ⅈ⎞    ╱ 317   √6303⋅ⅈ ⎪  ⎪                                             \n",
       "─ - ────⎟⋅3 ╱  ─── + ─────── ⎪  ⎪                                             \n",
       "2    2  ⎠ ╲╱    54      18   ⎭  ⎩                                             \n",
       "\n",
       " ___                        2/3    2/3       3 _________________      2/3     \n",
       "╱ 2 ⋅√2101⋅(317 + 3⋅√6303⋅ⅈ)      2   ⋅√2101⋅╲╱ 317 + 3⋅√6303⋅ⅈ    5⋅2   ⋅√3⋅ⅈ\n",
       "─────────────────────────────── - ────────────────────────────── - ───────────\n",
       "             2312                              272                            \n",
       "                                                                              \n",
       "                                                                              \n",
       "                                                                              \n",
       "\n",
       " 3 _________________      2/3 3 _________________      3 ___                  \n",
       "⋅╲╱ 317 + 3⋅√6303⋅ⅈ    5⋅2   ⋅╲╱ 317 + 3⋅√6303⋅ⅈ    29⋅╲╱ 2 ⋅(317 + 3⋅√6303⋅ⅈ)\n",
       "──────────────────── + ────────────────────────── + ──────────────────────────\n",
       "   272                            272                            2312         \n",
       "                                                                              \n",
       "                                                                              \n",
       "                                                                              \n",
       "\n",
       "2/3   3 ___                          2/3      3 ___                       2/3 \n",
       "      ╲╱ 2 ⋅√6303⋅ⅈ⋅(317 + 3⋅√6303⋅ⅈ)      29⋅╲╱ 2 ⋅√3⋅ⅈ⋅(317 + 3⋅√6303⋅ⅈ)    \n",
       "─── + ────────────────────────────────── + ──────────────────────────────────,\n",
       "                     6936                                 2312                \n",
       "                                                                              \n",
       "                                                                              \n",
       "                                                                              \n",
       "\n",
       "                                                                 _____________\n",
       "       2                   34                   ⎛  1   √3⋅ⅈ⎞    ╱ 317   √6303⋅\n",
       " x₂: - ─ + ────────────────────────────────── + ⎜- ─ + ────⎟⋅3 ╱  ─── + ──────\n",
       "       3                      _______________   ⎝  2    2  ⎠ ╲╱    54      18 \n",
       "             ⎛  1   √3⋅ⅈ⎞    ╱ 317   √6303⋅ⅈ                                  \n",
       "           9⋅⎜- ─ + ────⎟⋅3 ╱  ─── + ───────                                  \n",
       "             ⎝  2    2  ⎠ ╲╱    54      18                                    \n",
       "\n",
       "__⎫⎤\n",
       "ⅈ ⎪⎥\n",
       "─ ⎪⎥\n",
       "  ⎬⎥\n",
       "  ⎪⎥\n",
       "  ⎪⎥\n",
       "  ⎭⎦"
      ]
     },
     "execution_count": 17,
     "metadata": {},
     "output_type": "execute_result"
    }
   ],
   "source": [
    "sols = sym.solve(grad_f)\n",
    "sols"
   ]
  },
  {
   "cell_type": "code",
   "execution_count": 18,
   "metadata": {},
   "outputs": [
    {
     "data": {
      "image/png": "[encoded data removed]",
      "text/latex": [
       "$$\\left \\{ x_{1} : 3, \\quad x_{2} : 2\\right \\}$$"
      ],
      "text/plain": [
       "{x₁: 3, x₂: 2}"
      ]
     },
     "execution_count": 18,
     "metadata": {},
     "output_type": "execute_result"
    }
   ],
   "source": [
    "sols[0]"
   ]
  },
  {
   "cell_type": "code",
   "execution_count": null,
   "metadata": {},
   "outputs": [],
   "source": []
  },
  {
   "cell_type": "markdown",
   "metadata": {},
   "source": [
    "## Second-order necessary conditions\n",
    "\n",
    "Hessian is P.S.D\n",
    "\n",
    "\n",
    "## Second-order sufficient conditions\n",
    "Hessian must be P.D. \n",
    "\n",
    "x* is a local minimizer.\n"
   ]
  },
  {
   "cell_type": "code",
   "execution_count": 19,
   "metadata": {},
   "outputs": [
    {
     "data": {
      "text/latex": [
       "$$\\left[\\begin{matrix}12 x_{1}^{2} + 4 x_{2} - 42 & 4 x_{1} + 4 x_{2}\\\\4 x_{1} + 4 x_{2} & 4 x_{1} + 12 x_{2}^{2} - 26\\end{matrix}\\right]$$"
      ],
      "text/plain": [
       "⎡     2                                ⎤\n",
       "⎢12⋅x₁  + 4⋅x₂ - 42     4⋅x₁ + 4⋅x₂    ⎥\n",
       "⎢                                      ⎥\n",
       "⎢                                2     ⎥\n",
       "⎣   4⋅x₁ + 4⋅x₂      4⋅x₁ + 12⋅x₂  - 26⎦"
      ]
     },
     "execution_count": 19,
     "metadata": {},
     "output_type": "execute_result"
    }
   ],
   "source": [
    "hess_f =sym.Matrix([[f.diff(x1_).diff(x2_) \n",
    "                     for x1_ in x] \n",
    "                    for x2_ in x])\n",
    "hess_f"
   ]
  },
  {
   "cell_type": "code",
   "execution_count": 27,
   "metadata": {},
   "outputs": [
    {
     "data": {
      "text/latex": [
       "$$\\left[\\begin{matrix}74 & 20\\\\20 & 34\\end{matrix}\\right]$$"
      ],
      "text/plain": [
       "⎡74  20⎤\n",
       "⎢      ⎥\n",
       "⎣20  34⎦"
      ]
     },
     "execution_count": 27,
     "metadata": {},
     "output_type": "execute_result"
    }
   ],
   "source": [
    "h = hess_f.subs(sols[0])\n",
    "h"
   ]
  },
  {
   "cell_type": "code",
   "execution_count": 23,
   "metadata": {},
   "outputs": [
    {
     "data": {
      "image/png": "[encoded data removed]",
      "text/latex": [
       "$$\\left \\{ - 20 \\sqrt{2} + 54 : 1, \\quad 20 \\sqrt{2} + 54 : 1\\right \\}$$"
      ],
      "text/plain": [
       "{-20⋅√2 + 54: 1, 20⋅√2 + 54: 1}"
      ]
     },
     "execution_count": 23,
     "metadata": {},
     "output_type": "execute_result"
    }
   ],
   "source": [
    "hess_f.subs(sols[0]).eigenvals()"
   ]
  },
  {
   "cell_type": "code",
   "execution_count": 25,
   "metadata": {},
   "outputs": [],
   "source": [
    "import scipy.linalg as la\n",
    "import numpy as np"
   ]
  },
  {
   "cell_type": "code",
   "execution_count": 34,
   "metadata": {},
   "outputs": [
    {
     "data": {
      "text/plain": [
       "array([[ 74.,  20.],\n",
       "       [ 20.,  34.]])"
      ]
     },
     "execution_count": 34,
     "metadata": {},
     "output_type": "execute_result"
    }
   ],
   "source": [
    "hnp = np.array(h).astype(np.float64)\n",
    "hnp"
   ]
  },
  {
   "cell_type": "code",
   "execution_count": 31,
   "metadata": {},
   "outputs": [
    {
     "data": {
      "text/plain": [
       "array([ 0.+1.j,  0.-1.j])"
      ]
     },
     "execution_count": 31,
     "metadata": {},
     "output_type": "execute_result"
    }
   ],
   "source": [
    "a = np.array([[0., -1.], [1., 0.]])\n",
    "la.eigvals(a)"
   ]
  },
  {
   "cell_type": "code",
   "execution_count": 33,
   "metadata": {},
   "outputs": [
    {
     "data": {
      "text/latex": [
       "$$\\left[\\begin{matrix}74 & 20\\\\20 & 34\\end{matrix}\\right]$$"
      ],
      "text/plain": [
       "⎡74  20⎤\n",
       "⎢      ⎥\n",
       "⎣20  34⎦"
      ]
     },
     "execution_count": 33,
     "metadata": {},
     "output_type": "execute_result"
    }
   ],
   "source": [
    "h"
   ]
  },
  {
   "cell_type": "code",
   "execution_count": 35,
   "metadata": {},
   "outputs": [
    {
     "data": {
      "text/plain": [
       "array([ 82.28427125+0.j,  25.71572875+0.j])"
      ]
     },
     "execution_count": 35,
     "metadata": {},
     "output_type": "execute_result"
    }
   ],
   "source": [
    "la.eigvals(hnp)"
   ]
  },
  {
   "cell_type": "code",
   "execution_count": null,
   "metadata": {},
   "outputs": [],
   "source": []
  },
  {
   "cell_type": "code",
   "execution_count": null,
   "metadata": {},
   "outputs": [],
   "source": []
  },
  {
   "cell_type": "code",
   "execution_count": null,
   "metadata": {},
   "outputs": [],
   "source": []
  },
  {
   "cell_type": "markdown",
   "metadata": {},
   "source": [
    "## Rosenbrock function"
   ]
  },
  {
   "cell_type": "code",
   "execution_count": 36,
   "metadata": {},
   "outputs": [],
   "source": [
    "f = (x1-1)**2 + 100*(x1**2 - x2)**2"
   ]
  },
  {
   "cell_type": "code",
   "execution_count": 37,
   "metadata": {},
   "outputs": [
    {
     "data": {
      "image/png": "[encoded data removed]",
      "text/latex": [
       "$$\\left [ 400 x_{1} \\left(x_{1}^{2} - x_{2}\\right) + 2 x_{1} - 2, \\quad - 200 x_{1}^{2} + 200 x_{2}\\right ]$$"
      ],
      "text/plain": [
       "⎡       ⎛  2     ⎞                     2         ⎤\n",
       "⎣400⋅x₁⋅⎝x₁  - x₂⎠ + 2⋅x₁ - 2, - 200⋅x₁  + 200⋅x₂⎦"
      ]
     },
     "execution_count": 37,
     "metadata": {},
     "output_type": "execute_result"
    }
   ],
   "source": [
    "grad_f = [sym.diff(f, x_) for x_ in x] # List of FOCs\n",
    "grad_f"
   ]
  },
  {
   "cell_type": "code",
   "execution_count": null,
   "metadata": {},
   "outputs": [],
   "source": []
  },
  {
   "cell_type": "code",
   "execution_count": 38,
   "metadata": {},
   "outputs": [
    {
     "data": {
      "image/png": "[encoded data removed]",
      "text/latex": [
       "$$\\left [ \\left \\{ x_{1} : 1, \\quad x_{2} : 1\\right \\}\\right ]$$"
      ],
      "text/plain": [
       "[{x₁: 1, x₂: 1}]"
      ]
     },
     "execution_count": 38,
     "metadata": {},
     "output_type": "execute_result"
    }
   ],
   "source": [
    "sols = sym.solve(grad_f)\n",
    "sols"
   ]
  },
  {
   "cell_type": "code",
   "execution_count": 39,
   "metadata": {},
   "outputs": [
    {
     "data": {
      "text/latex": [
       "$$\\left[\\begin{matrix}1200 x_{1}^{2} - 400 x_{2} + 2 & - 400 x_{1}\\\\- 400 x_{1} & 200\\end{matrix}\\right]$$"
      ],
      "text/plain": [
       "⎡       2                      ⎤\n",
       "⎢1200⋅x₁  - 400⋅x₂ + 2  -400⋅x₁⎥\n",
       "⎢                              ⎥\n",
       "⎣       -400⋅x₁           200  ⎦"
      ]
     },
     "execution_count": 39,
     "metadata": {},
     "output_type": "execute_result"
    }
   ],
   "source": [
    "hess_f =sym.Matrix([[f.diff(x1_).diff(x2_) \n",
    "                     for x1_ in x] \n",
    "                    for x2_ in x])\n",
    "hess_f"
   ]
  },
  {
   "cell_type": "code",
   "execution_count": 40,
   "metadata": {},
   "outputs": [
    {
     "data": {
      "text/latex": [
       "$$\\left[\\begin{matrix}802 & -400\\\\-400 & 200\\end{matrix}\\right]$$"
      ],
      "text/plain": [
       "⎡802   -400⎤\n",
       "⎢          ⎥\n",
       "⎣-400  200 ⎦"
      ]
     },
     "execution_count": 40,
     "metadata": {},
     "output_type": "execute_result"
    }
   ],
   "source": [
    "h = hess_f.subs(sols[0])\n",
    "h"
   ]
  },
  {
   "cell_type": "code",
   "execution_count": 46,
   "metadata": {},
   "outputs": [
    {
     "data": {
      "text/latex": [
       "$$\\left[\\begin{matrix}\\lambda & 0\\\\0 & \\lambda\\end{matrix}\\right]$$"
      ],
      "text/plain": [
       "⎡λ  0⎤\n",
       "⎢    ⎥\n",
       "⎣0  λ⎦"
      ]
     },
     "execution_count": 46,
     "metadata": {},
     "output_type": "execute_result"
    }
   ],
   "source": [
    "lamI = sym.eye(2 )* lam\n",
    "lamI"
   ]
  },
  {
   "cell_type": "code",
   "execution_count": 47,
   "metadata": {},
   "outputs": [
    {
     "data": {
      "text/latex": [
       "$$\\left[\\begin{matrix}\\lambda - 802 & 400\\\\400 & \\lambda - 200\\end{matrix}\\right]$$"
      ],
      "text/plain": [
       "⎡λ - 802    400  ⎤\n",
       "⎢                ⎥\n",
       "⎣  400    λ - 200⎦"
      ]
     },
     "execution_count": 47,
     "metadata": {},
     "output_type": "execute_result"
    }
   ],
   "source": [
    "lamI- h"
   ]
  },
  {
   "cell_type": "code",
   "execution_count": 48,
   "metadata": {},
   "outputs": [
    {
     "data": {
      "image/png": "[encoded data removed]",
      "text/latex": [
       "$$\\lambda^{2} - 1002 \\lambda + 400$$"
      ],
      "text/plain": [
       " 2               \n",
       "λ  - 1002⋅λ + 400"
      ]
     },
     "execution_count": 48,
     "metadata": {},
     "output_type": "execute_result"
    }
   ],
   "source": [
    "(lamI- h).det()"
   ]
  },
  {
   "cell_type": "code",
   "execution_count": 49,
   "metadata": {},
   "outputs": [
    {
     "data": {
      "image/png": "[encoded data removed]",
      "text/latex": [
       "$$\\left [ - \\sqrt{250601} + 501, \\quad \\sqrt{250601} + 501\\right ]$$"
      ],
      "text/plain": [
       "[-√250601 + 501, √250601 + 501]"
      ]
     },
     "execution_count": 49,
     "metadata": {},
     "output_type": "execute_result"
    }
   ],
   "source": [
    "sym.solve((lamI- h).det())"
   ]
  },
  {
   "cell_type": "code",
   "execution_count": 59,
   "metadata": {},
   "outputs": [
    {
     "name": "stdout",
     "output_type": "stream",
     "text": [
      "0.399360767487633\n",
      "1001.60063923251\n"
     ]
    }
   ],
   "source": [
    "for i in sym.solve((lamI- h).det()):\n",
    "    print(i.evalf())"
   ]
  },
  {
   "cell_type": "code",
   "execution_count": null,
   "metadata": {},
   "outputs": [],
   "source": []
  },
  {
   "cell_type": "code",
   "execution_count": 41,
   "metadata": {},
   "outputs": [
    {
     "data": {
      "image/png": "[encoded data removed]",
      "text/latex": [
       "$$\\left \\{ - \\sqrt{250601} + 501 : 1, \\quad \\sqrt{250601} + 501 : 1\\right \\}$$"
      ],
      "text/plain": [
       "{-√250601 + 501: 1, √250601 + 501: 1}"
      ]
     },
     "execution_count": 41,
     "metadata": {},
     "output_type": "execute_result"
    }
   ],
   "source": [
    "h.eigenvals()"
   ]
  },
  {
   "cell_type": "code",
   "execution_count": 42,
   "metadata": {},
   "outputs": [
    {
     "data": {
      "text/plain": [
       "array([[ 802., -400.],\n",
       "       [-400.,  200.]])"
      ]
     },
     "execution_count": 42,
     "metadata": {},
     "output_type": "execute_result"
    }
   ],
   "source": [
    "hnp = np.array(h).astype(np.float64)\n",
    "hnp"
   ]
  },
  {
   "cell_type": "code",
   "execution_count": 43,
   "metadata": {},
   "outputs": [
    {
     "data": {
      "text/plain": [
       "array([  1.00160064e+03+0.j,   3.99360767e-01+0.j])"
      ]
     },
     "execution_count": 43,
     "metadata": {},
     "output_type": "execute_result"
    }
   ],
   "source": [
    "la.eigvals(hnp)"
   ]
  },
  {
   "cell_type": "code",
   "execution_count": null,
   "metadata": {},
   "outputs": [],
   "source": []
  },
  {
   "cell_type": "code",
   "execution_count": null,
   "metadata": {},
   "outputs": [],
   "source": []
  }
 ],
 "metadata": {
  "kernelspec": {
   "display_name": "Python 3",
   "language": "python",
   "name": "python3"
  },
  "language_info": {
   "codemirror_mode": {
    "name": "ipython",
    "version": 3
   },
   "file_extension": ".py",
   "mimetype": "text/x-python",
   "name": "python",
   "nbconvert_exporter": "python",
   "pygments_lexer": "ipython3",
   "version": "3.6.5"
  }
 },
 "nbformat": 4,
 "nbformat_minor": 2
}
