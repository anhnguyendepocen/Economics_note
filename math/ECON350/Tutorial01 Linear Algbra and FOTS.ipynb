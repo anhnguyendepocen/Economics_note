{
 "cells": [
  {
   "cell_type": "markdown",
   "metadata": {},
   "source": [
    "\n",
    "# 350 Tutorial 01\n",
    "\n",
    "\n",
    "## Review notes\n",
    "\n",
    "## Exercise 01\n",
    "\n",
    "## Test01\n",
    "\n",
    "## lab01\n",
    "\n",
    "## lab02\n",
    "\n",
    "##\n",
    "\n",
    "\n",
    "http://quant-econ.net/jl/linear_algebra.html\n",
    "\n",
    "http://calculuswithjulia.github.io/derivatives/derivatives.html\n",
    "\n",
    "https://github.com/JuliaPy/PyCall.jl"
   ]
  },
  {
   "cell_type": "code",
   "execution_count": 10,
   "metadata": {
    "ExecuteTime": {
     "end_time": "2018-01-23T19:29:49.977000-08:00",
     "start_time": "2018-01-24T03:29:46.553Z"
    }
   },
   "outputs": [
    {
     "name": "stderr",
     "output_type": "stream",
     "text": [
      "\u001b[1m\u001b[36mINFO: \u001b[39m\u001b[22m\u001b[36mBuilding Conda\n",
      "\u001b[39m\u001b[1m\u001b[36mINFO: \u001b[39m\u001b[22m\u001b[36mBuilding PyCall\n",
      "\u001b[39m\u001b[1m\u001b[36mINFO: \u001b[39m\u001b[22m\u001b[36mPyCall is using python (Python 3.6.3) at C:\\Users\\oldyu\\Miniconda3\\envs\\gluon\\python.exe, libpython = C:\\Users\\oldyu\\Miniconda3\\envs\\gluon\\python36\n",
      "\u001b[39m\u001b[1m\u001b[36mINFO: \u001b[39m\u001b[22m\u001b[36mC:\\Users\\oldyu\\AppData\\Local\\JuliaPro-0.6.0.1\\pkgs-0.6.0.1\\v0.6\\PyCall\\deps\\deps.jl has been updated\n",
      "\u001b[39m\u001b[1m\u001b[36mINFO: \u001b[39m\u001b[22m\u001b[36mC:\\Users\\oldyu\\AppData\\Local\\JuliaPro-0.6.0.1\\pkgs-0.6.0.1\\v0.6\\PyCall\\deps\\PYTHON has been updated\n",
      "\u001b[39m"
     ]
    }
   ],
   "source": [
    "#ENV[\"PYTHON\"]=\"python\"\n",
    "#Pkg.build(\"PyCall\")"
   ]
  },
  {
   "cell_type": "code",
   "execution_count": 3,
   "metadata": {
    "ExecuteTime": {
     "end_time": "2018-01-23T19:38:55.072000-08:00",
     "start_time": "2018-01-24T03:38:51.017Z"
    }
   },
   "outputs": [
    {
     "name": "stderr",
     "output_type": "stream",
     "text": [
      "\u001b[1m\u001b[36mINFO: \u001b[39m\u001b[22m\u001b[36mBuilding Conda\n",
      "\u001b[39m\u001b[1m\u001b[36mINFO: \u001b[39m\u001b[22m\u001b[36mBuilding PyCall\n",
      "\u001b[39m\u001b[1m\u001b[36mINFO: \u001b[39m\u001b[22m\u001b[36mUsing the Python distribution in the Conda package by default.\n",
      "To use a different Python version, set ENV[\"PYTHON\"]=\"pythoncommand\" and re-run Pkg.build(\"PyCall\").\n",
      "\u001b[39mWARNING: Compat.UTF8String is deprecated, use String instead.\n",
      "  likely near C:\\Users\\oldyu\\AppData\\Local\\JuliaPro-0.6.0.1\\pkgs-0.6.0.1\\v0.6\\PyCall\\deps\\build.jl:184\n",
      "\u001b[1m\u001b[33m\u001b[39m\u001b[22m\u001b[33m===============================[ ERROR: PyCall ]================================\u001b[39m\n",
      "\n",
      "\u001b[1m\u001b[33m\u001b[39m\u001b[22m\u001b[33mLoadError: \u001b[91mfailed process: Process(setenv(`'C:\\Users\\oldyu\\AppData\\Local\\JuliaPro-0.6.0.1\\pkgs-0.6.0.1\\v0.6\\Conda\\deps\\usr\\Scripts\\conda.exe' install -y numpy`,String[\"PATH=C:\\\\Users\\\\oldyu\\\\AppData\\\\Local\\\\JuliaPro-0.6.0.1\\\\Julia-0.6.0\\\\bin;C:\\\\Users\\\\oldyu\\\\AppData\\\\Local\\\\JuliaPro-0.6.0.1\\\\Julia-0.6.0\\\\bin;C:\\\\Users\\\\oldyu\\\\Miniconda3\\\\envs\\\\gluon;C:\\\\Users\\\\oldyu\\\\Miniconda3\\\\envs\\\\gluon\\\\Library\\\\mingw-w64\\\\bin;C:\\\\Users\\\\oldyu\\\\Miniconda3\\\\envs\\\\gluon\\\\Library\\\\usr\\\\bin;C:\\\\Users\\\\oldyu\\\\Miniconda3\\\\envs\\\\gluon\\\\Library\\\\bin;C:\\\\Users\\\\oldyu\\\\Miniconda3\\\\envs\\\\gluon\\\\Scripts;E:\\\\gurobi752\\\\win64\\\\bin;C:\\\\Program Files\\\\NVIDIA GPU Computing Toolkit\\\\CUDA\\\\v8.0\\\\bin;C:\\\\Program Files\\\\NVIDIA GPU Computing Toolkit\\\\CUDA\\\\v8.0\\\\libnvvp;D:\\\\Rtools\\\\bin;D:\\\\Rtools\\\\mingw_32\\\\bin;E:\\\\gurobi702\\\\win64\\\\bin;d:\\\\Program Files\\\\IBM\\\\ILOG\\\\CPLEX_Studio1271\\\\opl\\\\bin\\\\x64_win64;d:\\\\Program Files\\\\IBM\\\\ILOG\\\\CPLEX_Studio1271\\\\opl\\\\oplide\\\\;d:\\\\Program Files\\\\IBM\\\\ILOG\\\\CPLEX_Studio1271\\\\cplex\\\\bin\\\\x64_win64;d:\\\\Program Files\\\\IBM\\\\ILOG\\\\CPLEX_Studio1271\\\\cpoptimizer\\\\bin\\\\x64_win64;C:\\\\Program Files\\\\Microsoft MPI\\\\Bin\\\\;d:\\\\Rtools\\\\bin;d:\\\\Rtools\\\\gcc-4.6.3\\\\bin;C:\\\\ProgramData\\\\Oracle\\\\Java\\\\javapath;C:\\\\Program Files (x86)\\\\Intel\\\\iCLS Client\\\\;C:\\\\Program Files\\\\Intel\\\\iCLS Client\\\\;C:\\\\Windows\\\\system32;C:\\\\Windows;C:\\\\Windows\\\\System32\\\\Wbem;C:\\\\Windows\\\\System32\\\\WindowsPowerShell\\\\v1.0\\\\;C:\\\\Program Files (x86)\\\\Intel\\\\Intel(R) Management Engine Components\\\\DAL;C:\\\\Program Files\\\\Intel\\\\Intel(R) Management Engine Components\\\\DAL;C:\\\\Program Files (x86)\\\\Intel\\\\Intel(R) Management Engine Components\\\\IPT;C:\\\\Program Files\\\\Intel\\\\Intel(R) Management Engine Components\\\\IPT;C:\\\\Program Files\\\\Intel\\\\WiFi\\\\bin\\\\;C:\\\\Program Files\\\\Common Files\\\\Intel\\\\WirelessCommon\\\\;C:\\\\Program Files (x86)\\\\NVIDIA Corporation\\\\PhysX\\\\Common;C:\\\\Program Files (x86)\\\\Skype\\\\Phone\\\\;D:\\\\Program Files\\\\MATLAB\\\\R2017b\\\\runtime\\\\win64;D:\\\\Program Files\\\\MATLAB\\\\R2017b\\\\bin;d:\\\\Program Files\\\\MATLAB\\\\R2015b\\\\runtime\\\\win64;d:\\\\Program Files\\\\MATLAB\\\\R2015b\\\\bin;d:\\\\Program Files\\\\MATLAB\\\\R2015b\\\\polyspace\\\\bin;C:\\\\WINDOWS\\\\system32;C:\\\\WINDOWS;C:\\\\WINDOWS\\\\System32\\\\Wbem;C:\\\\WINDOWS\\\\System32\\\\WindowsPowerShell\\\\v1.0\\\\;C:\\\\Program Files\\\\R\\\\R-3.3.2\\\\bin\\\\x64;D:\\\\Octave\\\\Octave-4.2.1\\\\bin;C:\\\\Julia-0.5.0\\\\bin;D:\\\\Program Files (x86)\\\\金字塔\\\\]System32;C:;ProgramData\\\\chocolatey\\\\bin;D:\\\\Program Files\\\\nodejs\\\\;C:\\\\Program Files\\\\TortoiseSVN\\\\bin;C:\\\\Program Files\\\\MiKTeX 2.9\\\\miktex\\\\bin\\\\x64\\\\;C:\\\\dynare\\\\4.4.3\\\\dynare++;C:\\\\dynare\\\\4.4.3\\\\matlab;C:\\\\Program Files\\\\PuTTY\\\\;C:\\\\Program Files (x86)\\\\Gow\\\\bin;C:\\\\Users\\\\oldyu\\\\Anaconda3\\\\;C:\\\\Users\\\\oldyu\\\\Anaconda3\\\\Scripts;C:\\\\Program Files\\\\dotnet\\\\;C:\\\\Program Files\\\\Git\\\\cmd;C:\\\\WINDOWS\\\\system32;C:\\\\WINDOWS;C:\\\\WINDOWS\\\\System32\\\\Wbem;C:\\\\WINDOWS\\\\System32\\\\WindowsPowerShell\\\\v1.0\\\\;C:\\\\Program Files\\\\Calibre2\\\\;DYNARE++HOME;C:\\\\Program Files\\\\ConEmuPack.151210;C:\\\\Program Files\\\\ConEmuPack.151210\\\\ConEmu;E:\\\\gurobi702\\\\win64\\\\bin;C:\\\\Program Files\\\\Microsoft MPI\\\\Bin\\\\;D:\\\\Rtools\\\\bin;D:\\\\Rtools\\\\mingw_32\\\\bin;E:\\\\gurobi650\\\\win64\\\\bin;d:\\\\Rtools\\\\bin;d:\\\\Rtools\\\\gcc-4.6.3\\\\bin;C:\\\\ProgramData\\\\Oracle\\\\Java\\\\javapath;C:\\\\Program Files (x86)\\\\Intel\\\\iCLS Client\\\\;C:\\\\Program Files\\\\Intel\\\\iCLS Client\\\\;C:\\\\Windows\\\\system32;C:\\\\Windows;C:\\\\Windows\\\\System32\\\\Wbem;C:\\\\Windows\\\\System32\\\\WindowsPowerShell\\\\v1.0\\\\;C:\\\\Program Files (x86)\\\\Intel\\\\Intel(R) Management Engine Components\\\\DAL;C:\\\\Program Files\\\\Intel\\\\Intel(R) Management Engine Components\\\\DAL;C:\\\\Program Files (x86)\\\\Intel\\\\Intel(R) Management Engine Components\\\\IPT;C:\\\\Program Files\\\\Intel\\\\Intel(R) Management Engine Components\\\\IPT;C:\\\\Program Files\\\\Intel\\\\WiFi\\\\bin\\\\;C:\\\\Program Files\\\\Common Files\\\\Intel\\\\WirelessCommon\\\\;C:\\\\Program Files (x86)\\\\NVIDIA Corporation\\\\PhysX\\\\Common;C:\\\\Program Files (x86)\\\\Skype\\\\Phone\\\\;d:\\\\Program Files\\\\MATLAB\\\\R2015b\\\\runtime\\\\win64;d:\\\\Program Files\\\\MATLAB\\\\R2015b\\\\bin;d:\\\\Program Files\\\\MATLAB\\\\R2015b\\\\poly\", \"USERDOMAIN_ROAMINGPROFILE=DESKTOP-5A8MM7P\", \"JUPYTER=C:\\\\Users\\\\oldyu\\\\AppData\\\\Local\\\\JuliaPro-0.6.0.1\\\\Python\\\\Scripts\\\\jupyter.exe\", \"HOMEPATH=\\\\Users\\\\oldyu\", \"PATHEXT=.COM;.EXE;.BAT;.CMD;.VBS;.VBE;.JS;.JSE;.WSF;.WSH;.MSC\", \"SESSIONNAME=Console\", \"SYSTEMROOT=C:\\\\WINDOWS\", \"APPDATA=C:\\\\Users\\\\oldyu\\\\AppData\\\\Roaming\", \"PSMODULEPATH=C:\\\\WINDOWS\\\\system32\\\\WindowsPowerShell\\\\v1.0\\\\Modules\\\\\", \"COMMONPROGRAMW6432=C:\\\\Program Files\\\\Common Files\", \"PROGRAMDATA=C:\\\\ProgramData\", \"PUBLIC=C:\\\\Users\\\\Public\", \"USERDOMAIN=DESKTOP-5A8MM7P\", \"OS=Windows_NT\", \"CUDA_HOME=C:\\\\Program Files\\\\NVIDIA GPU Computing Toolkit\\\\CUDA\\\\v8.0\", \"PROCESSOR_REVISION=5e03\", \"TMP=C:\\\\Users\\\\oldyu\\\\AppData\\\\Local\\\\Temp\", \"COMSPEC=C:\\\\WINDOWS\\\\system32\\\\cmd.exe\", \"NVCUDASAMPLES8_0_ROOT=C:\\\\ProgramData\\\\NVIDIA Corporation\\\\CUDA Samples\\\\v8.0\", \"NVTOOLSEXT_PATH=C:\\\\Program Files\\\\NVIDIA Corporation\\\\NvToolsExt\\\\\", \"OCTAVEHOME=D:\\\\Octave\\\\Octave-4.2.0\\\\bin\", \"ALLUSERSPROFILE=C:\\\\ProgramData\", \"COMPUTERNAME=DESKTOP-5A8MM7P\", \"MSMPI_BIN=C:\\\\Program Files\\\\Microsoft MPI\\\\Bin\\\\\", \"USERNAME=oldyu\", \"COLUMNS=80\", \"IPY_INTERRUPT_EVENT=2136\", \"CUDA_PATH=C:\\\\Program Files\\\\NVIDIA GPU Computing Toolkit\\\\CUDA\\\\v8.0\", \"USERPROFILE=C:\\\\Users\\\\oldyu\", \"CONDARC=C:\\\\Users\\\\oldyu\\\\AppData\\\\Local\\\\JuliaPro-0.6.0.1\\\\pkgs-0.6.0.1\\\\v0.6\\\\Conda\\\\deps\\\\usr\\\\condarc-julia.yml\", \"BONJOUR_SDK_HOME=C:\\\\Program Files\\\\Bonjour SDK\\\\\", \"PROCESSOR_LEVEL=6\", \"GADFLY_THEME=dark\", \"LINES=30\", \"=C:=C:\\\\Users\\\\oldyu\\\\AppData\\\\Local\\\\JuliaPro-0.6.0.1\\\\pkgs-0.6.0.1\\\\v0.6\\\\PyCall\\\\deps\", \"PROGRAMW6432=C:\\\\Program Files\", \"TEMP=C:\\\\Users\\\\oldyu\\\\AppData\\\\Local\\\\Temp\", \"HOMEDRIVE=C:\", \"WINDIR=C:\\\\WINDOWS\", \"JPY_INTERRUPT_EVENT=2136\", \"LOCALAPPDATA=C:\\\\Users\\\\oldyu\\\\AppData\\\\Local\", \"PROCESSOR_IDENTIFIER=Intel64 Family 6 Model 94 Stepping 3, GenuineIntel\", \"NUMBER_OF_PROCESSORS=8\", \"DYNARE++HOME=C:\\\\dynare\\\\4.4.3\\\\dynare++\", \"PROMPT=(gluon) \\$P\\$G\", \"VS140COMNTOOLS=D:\\\\Program Files (x86)\\\\Microsoft Visual Studio 14.0\\\\Common7\\\\Tools\\\\\", \"GUROBI_HOME=E:\\\\gurobi752\\\\win64\", \"COMMONPROGRAMFILES(X86)=C:\\\\Program Files (x86)\\\\Common Files\", \"CONDA_DEFAULT_ENV=C:\\\\Users\\\\oldyu\\\\AppData\\\\Local\\\\JuliaPro-0.6.0.1\\\\pkgs-0.6.0.1\\\\v0.6\\\\Conda\\\\deps\\\\usr\", \"VBOX_MSI_INSTALL_PATH=C:\\\\Program Files\\\\Oracle\\\\VirtualBox\\\\\", \"MINGWHOME=C:\\\\MinGW\\\\bin\", \"GRB_LICENSE_FILE=e:\\\\gurobi\\\\gurobi.lic\", \"COMMONPROGRAMFILES=C:\\\\Program Files\\\\Common Files\", \"FSHARPINSTALLDIR=C:\\\\Program Files (x86)\\\\Microsoft SDKs\\\\F#\\\\4.1\\\\Framework\\\\v4.0\\\\\", \"ONEDRIVE=D:\\\\onedrive\", \"CHOCOLATEYINSTALL=C:\\\\ProgramData\\\\chocolatey\", \"JULIA_PKGDIR=C:\\\\Users\\\\oldyu\\\\AppData\\\\Local\\\\JuliaPro-0.6.0.1\\\\pkgs-0.6.0.1\", \"PROGRAMFILES(X86)=C:\\\\Program Files (x86)\", \"PROGRAMFILES=C:\\\\Program Files\", \"JPY_PARENT_PID=3692\", \"LOGONSERVER=\\\\\\\\DESKTOP-5A8MM7P\", \"CONDA_PREFIX=C:\\\\Users\\\\oldyu\\\\AppData\\\\Local\\\\JuliaPro-0.6.0.1\\\\pkgs-0.6.0.1\\\\v0.6\\\\Conda\\\\deps\\\\usr\", \"CUDA_PATH_V8_0=C:\\\\Program Files\\\\NVIDIA GPU Computing Toolkit\\\\CUDA\\\\v8.0\", \"FPS_BROWSER_USER_PROFILE_STRING=Default\", \"SYSTEMDRIVE=C:\", \"FPS_BROWSER_APP_PROFILE_STRING=Internet Explorer\", \"NVCUDASAMPLES_ROOT=C:\\\\ProgramData\\\\NVIDIA Corporation\\\\CUDA Samples\\\\v8.0\", \"PROCESSOR_ARCHITECTURE=AMD64\", \"OPENBLAS_MAIN_FREE=1\"]), ProcessExited(1)) [1]\u001b[39m\n",
      "while loading C:\\Users\\oldyu\\AppData\\Local\\JuliaPro-0.6.0.1\\pkgs-0.6.0.1\\v0.6\\PyCall\\deps\\build.jl, in expression starting on line 258\u001b[39m\n",
      "\n",
      "\u001b[1m\u001b[33m\u001b[39m\u001b[22m\u001b[33m================================================================================\u001b[39m\n",
      "\n",
      "\u001b[1m\u001b[33m\u001b[39m\u001b[22m\u001b[33m================================[ BUILD ERRORS ]================================\u001b[39m\n",
      "\n",
      "\u001b[1m\u001b[33m\u001b[39m\u001b[22m\u001b[33mWARNING: PyCall had build errors.\n",
      "\n",
      " - packages with build errors remain installed in C:\\Users\\oldyu\\AppData\\Local\\JuliaPro-0.6.0.1\\pkgs-0.6.0.1\\v0.6\n",
      " - build the package(s) and all dependencies with `Pkg.build(\"PyCall\")`\n",
      " - build a single package by running its `deps/build.jl` script\u001b[39m\n",
      "\n",
      "\u001b[1m\u001b[33m\u001b[39m\u001b[22m\u001b[33m================================================================================\u001b[39m\n"
     ]
    }
   ],
   "source": [
    "ENV[\"PYTHON\"]=\"\"\n",
    "Pkg.build(\"PyCall\")"
   ]
  },
  {
   "cell_type": "code",
   "execution_count": 4,
   "metadata": {
    "ExecuteTime": {
     "end_time": "2018-01-23T19:40:39.281000-08:00",
     "start_time": "2018-01-24T03:40:37.234Z"
    }
   },
   "outputs": [
    {
     "name": "stderr",
     "output_type": "stream",
     "text": [
      "\u001b[1m\u001b[36mINFO: \u001b[39m\u001b[22m\u001b[36mBuilding Conda\n",
      "\u001b[39m\u001b[1m\u001b[36mINFO: \u001b[39m\u001b[22m\u001b[36mBuilding PyCall\n",
      "\u001b[39m\u001b[1m\u001b[36mINFO: \u001b[39m\u001b[22m\u001b[36mUsing the Python distribution in the Conda package by default.\n",
      "To use a different Python version, set ENV[\"PYTHON\"]=\"pythoncommand\" and re-run Pkg.build(\"PyCall\").\n",
      "\u001b[39mWARNING: Compat.UTF8String is deprecated, use String instead.\n",
      "  likely near C:\\Users\\oldyu\\AppData\\Local\\JuliaPro-0.6.0.1\\pkgs-0.6.0.1\\v0.6\\PyCall\\deps\\build.jl:184\n",
      "\u001b[1m\u001b[33m\u001b[39m\u001b[22m\u001b[33m===============================[ ERROR: PyCall ]================================\u001b[39m\n",
      "\n",
      "\u001b[1m\u001b[33m\u001b[39m\u001b[22m\u001b[33mLoadError: \u001b[91mfailed process: Process(setenv(`'C:\\Users\\oldyu\\AppData\\Local\\JuliaPro-0.6.0.1\\pkgs-0.6.0.1\\v0.6\\Conda\\deps\\usr\\Scripts\\conda.exe' install -y numpy`,String[\"PATH=C:\\\\Users\\\\oldyu\\\\AppData\\\\Local\\\\JuliaPro-0.6.0.1\\\\Julia-0.6.0\\\\bin;C:\\\\Users\\\\oldyu\\\\AppData\\\\Local\\\\JuliaPro-0.6.0.1\\\\Julia-0.6.0\\\\bin;C:\\\\Users\\\\oldyu\\\\Miniconda3\\\\envs\\\\gluon;C:\\\\Users\\\\oldyu\\\\Miniconda3\\\\envs\\\\gluon\\\\Library\\\\mingw-w64\\\\bin;C:\\\\Users\\\\oldyu\\\\Miniconda3\\\\envs\\\\gluon\\\\Library\\\\usr\\\\bin;C:\\\\Users\\\\oldyu\\\\Miniconda3\\\\envs\\\\gluon\\\\Library\\\\bin;C:\\\\Users\\\\oldyu\\\\Miniconda3\\\\envs\\\\gluon\\\\Scripts;E:\\\\gurobi752\\\\win64\\\\bin;C:\\\\Program Files\\\\NVIDIA GPU Computing Toolkit\\\\CUDA\\\\v8.0\\\\bin;C:\\\\Program Files\\\\NVIDIA GPU Computing Toolkit\\\\CUDA\\\\v8.0\\\\libnvvp;D:\\\\Rtools\\\\bin;D:\\\\Rtools\\\\mingw_32\\\\bin;E:\\\\gurobi702\\\\win64\\\\bin;d:\\\\Program Files\\\\IBM\\\\ILOG\\\\CPLEX_Studio1271\\\\opl\\\\bin\\\\x64_win64;d:\\\\Program Files\\\\IBM\\\\ILOG\\\\CPLEX_Studio1271\\\\opl\\\\oplide\\\\;d:\\\\Program Files\\\\IBM\\\\ILOG\\\\CPLEX_Studio1271\\\\cplex\\\\bin\\\\x64_win64;d:\\\\Program Files\\\\IBM\\\\ILOG\\\\CPLEX_Studio1271\\\\cpoptimizer\\\\bin\\\\x64_win64;C:\\\\Program Files\\\\Microsoft MPI\\\\Bin\\\\;d:\\\\Rtools\\\\bin;d:\\\\Rtools\\\\gcc-4.6.3\\\\bin;C:\\\\ProgramData\\\\Oracle\\\\Java\\\\javapath;C:\\\\Program Files (x86)\\\\Intel\\\\iCLS Client\\\\;C:\\\\Program Files\\\\Intel\\\\iCLS Client\\\\;C:\\\\Windows\\\\system32;C:\\\\Windows;C:\\\\Windows\\\\System32\\\\Wbem;C:\\\\Windows\\\\System32\\\\WindowsPowerShell\\\\v1.0\\\\;C:\\\\Program Files (x86)\\\\Intel\\\\Intel(R) Management Engine Components\\\\DAL;C:\\\\Program Files\\\\Intel\\\\Intel(R) Management Engine Components\\\\DAL;C:\\\\Program Files (x86)\\\\Intel\\\\Intel(R) Management Engine Components\\\\IPT;C:\\\\Program Files\\\\Intel\\\\Intel(R) Management Engine Components\\\\IPT;C:\\\\Program Files\\\\Intel\\\\WiFi\\\\bin\\\\;C:\\\\Program Files\\\\Common Files\\\\Intel\\\\WirelessCommon\\\\;C:\\\\Program Files (x86)\\\\NVIDIA Corporation\\\\PhysX\\\\Common;C:\\\\Program Files (x86)\\\\Skype\\\\Phone\\\\;D:\\\\Program Files\\\\MATLAB\\\\R2017b\\\\runtime\\\\win64;D:\\\\Program Files\\\\MATLAB\\\\R2017b\\\\bin;d:\\\\Program Files\\\\MATLAB\\\\R2015b\\\\runtime\\\\win64;d:\\\\Program Files\\\\MATLAB\\\\R2015b\\\\bin;d:\\\\Program Files\\\\MATLAB\\\\R2015b\\\\polyspace\\\\bin;C:\\\\WINDOWS\\\\system32;C:\\\\WINDOWS;C:\\\\WINDOWS\\\\System32\\\\Wbem;C:\\\\WINDOWS\\\\System32\\\\WindowsPowerShell\\\\v1.0\\\\;C:\\\\Program Files\\\\R\\\\R-3.3.2\\\\bin\\\\x64;D:\\\\Octave\\\\Octave-4.2.1\\\\bin;C:\\\\Julia-0.5.0\\\\bin;D:\\\\Program Files (x86)\\\\金字塔\\\\]System32;C:;ProgramData\\\\chocolatey\\\\bin;D:\\\\Program Files\\\\nodejs\\\\;C:\\\\Program Files\\\\TortoiseSVN\\\\bin;C:\\\\Program Files\\\\MiKTeX 2.9\\\\miktex\\\\bin\\\\x64\\\\;C:\\\\dynare\\\\4.4.3\\\\dynare++;C:\\\\dynare\\\\4.4.3\\\\matlab;C:\\\\Program Files\\\\PuTTY\\\\;C:\\\\Program Files (x86)\\\\Gow\\\\bin;C:\\\\Users\\\\oldyu\\\\Anaconda3\\\\;C:\\\\Users\\\\oldyu\\\\Anaconda3\\\\Scripts;C:\\\\Program Files\\\\dotnet\\\\;C:\\\\Program Files\\\\Git\\\\cmd;C:\\\\WINDOWS\\\\system32;C:\\\\WINDOWS;C:\\\\WINDOWS\\\\System32\\\\Wbem;C:\\\\WINDOWS\\\\System32\\\\WindowsPowerShell\\\\v1.0\\\\;C:\\\\Program Files\\\\Calibre2\\\\;DYNARE++HOME;C:\\\\Program Files\\\\ConEmuPack.151210;C:\\\\Program Files\\\\ConEmuPack.151210\\\\ConEmu;E:\\\\gurobi702\\\\win64\\\\bin;C:\\\\Program Files\\\\Microsoft MPI\\\\Bin\\\\;D:\\\\Rtools\\\\bin;D:\\\\Rtools\\\\mingw_32\\\\bin;E:\\\\gurobi650\\\\win64\\\\bin;d:\\\\Rtools\\\\bin;d:\\\\Rtools\\\\gcc-4.6.3\\\\bin;C:\\\\ProgramData\\\\Oracle\\\\Java\\\\javapath;C:\\\\Program Files (x86)\\\\Intel\\\\iCLS Client\\\\;C:\\\\Program Files\\\\Intel\\\\iCLS Client\\\\;C:\\\\Windows\\\\system32;C:\\\\Windows;C:\\\\Windows\\\\System32\\\\Wbem;C:\\\\Windows\\\\System32\\\\WindowsPowerShell\\\\v1.0\\\\;C:\\\\Program Files (x86)\\\\Intel\\\\Intel(R) Management Engine Components\\\\DAL;C:\\\\Program Files\\\\Intel\\\\Intel(R) Management Engine Components\\\\DAL;C:\\\\Program Files (x86)\\\\Intel\\\\Intel(R) Management Engine Components\\\\IPT;C:\\\\Program Files\\\\Intel\\\\Intel(R) Management Engine Components\\\\IPT;C:\\\\Program Files\\\\Intel\\\\WiFi\\\\bin\\\\;C:\\\\Program Files\\\\Common Files\\\\Intel\\\\WirelessCommon\\\\;C:\\\\Program Files (x86)\\\\NVIDIA Corporation\\\\PhysX\\\\Common;C:\\\\Program Files (x86)\\\\Skype\\\\Phone\\\\;d:\\\\Program Files\\\\MATLAB\\\\R2015b\\\\runtime\\\\win64;d:\\\\Program Files\\\\MATLAB\\\\R2015b\\\\bin;d:\\\\Program Files\\\\MATLAB\\\\R2015b\\\\poly\", \"USERDOMAIN_ROAMINGPROFILE=DESKTOP-5A8MM7P\", \"JUPYTER=C:\\\\Users\\\\oldyu\\\\AppData\\\\Local\\\\JuliaPro-0.6.0.1\\\\Python\\\\Scripts\\\\jupyter.exe\", \"HOMEPATH=\\\\Users\\\\oldyu\", \"PATHEXT=.COM;.EXE;.BAT;.CMD;.VBS;.VBE;.JS;.JSE;.WSF;.WSH;.MSC\", \"SESSIONNAME=Console\", \"SYSTEMROOT=C:\\\\WINDOWS\", \"APPDATA=C:\\\\Users\\\\oldyu\\\\AppData\\\\Roaming\", \"PSMODULEPATH=C:\\\\WINDOWS\\\\system32\\\\WindowsPowerShell\\\\v1.0\\\\Modules\\\\\", \"COMMONPROGRAMW6432=C:\\\\Program Files\\\\Common Files\", \"PROGRAMDATA=C:\\\\ProgramData\", \"PUBLIC=C:\\\\Users\\\\Public\", \"USERDOMAIN=DESKTOP-5A8MM7P\", \"OS=Windows_NT\", \"CUDA_HOME=C:\\\\Program Files\\\\NVIDIA GPU Computing Toolkit\\\\CUDA\\\\v8.0\", \"PROCESSOR_REVISION=5e03\", \"TMP=C:\\\\Users\\\\oldyu\\\\AppData\\\\Local\\\\Temp\", \"COMSPEC=C:\\\\WINDOWS\\\\system32\\\\cmd.exe\", \"NVCUDASAMPLES8_0_ROOT=C:\\\\ProgramData\\\\NVIDIA Corporation\\\\CUDA Samples\\\\v8.0\", \"NVTOOLSEXT_PATH=C:\\\\Program Files\\\\NVIDIA Corporation\\\\NvToolsExt\\\\\", \"OCTAVEHOME=D:\\\\Octave\\\\Octave-4.2.0\\\\bin\", \"ALLUSERSPROFILE=C:\\\\ProgramData\", \"COMPUTERNAME=DESKTOP-5A8MM7P\", \"MSMPI_BIN=C:\\\\Program Files\\\\Microsoft MPI\\\\Bin\\\\\", \"USERNAME=oldyu\", \"COLUMNS=80\", \"IPY_INTERRUPT_EVENT=2136\", \"=G:=G:\\\\project\\\\project2\\\\Economics_note\\\\math\\\\ECON350\", \"CUDA_PATH=C:\\\\Program Files\\\\NVIDIA GPU Computing Toolkit\\\\CUDA\\\\v8.0\", \"USERPROFILE=C:\\\\Users\\\\oldyu\", \"CONDARC=C:\\\\Users\\\\oldyu\\\\AppData\\\\Local\\\\JuliaPro-0.6.0.1\\\\pkgs-0.6.0.1\\\\v0.6\\\\Conda\\\\deps\\\\usr\\\\condarc-julia.yml\", \"BONJOUR_SDK_HOME=C:\\\\Program Files\\\\Bonjour SDK\\\\\", \"PROCESSOR_LEVEL=6\", \"GADFLY_THEME=dark\", \"LINES=30\", \"=C:=C:\\\\Users\\\\oldyu\\\\AppData\\\\Local\\\\JuliaPro-0.6.0.1\\\\pkgs-0.6.0.1\\\\v0.6\\\\PyCall\\\\deps\", \"PROGRAMW6432=C:\\\\Program Files\", \"TEMP=C:\\\\Users\\\\oldyu\\\\AppData\\\\Local\\\\Temp\", \"HOMEDRIVE=C:\", \"WINDIR=C:\\\\WINDOWS\", \"JPY_INTERRUPT_EVENT=2136\", \"LOCALAPPDATA=C:\\\\Users\\\\oldyu\\\\AppData\\\\Local\", \"PROCESSOR_IDENTIFIER=Intel64 Family 6 Model 94 Stepping 3, GenuineIntel\", \"NUMBER_OF_PROCESSORS=8\", \"DYNARE++HOME=C:\\\\dynare\\\\4.4.3\\\\dynare++\", \"PROMPT=(gluon) \\$P\\$G\", \"VS140COMNTOOLS=D:\\\\Program Files (x86)\\\\Microsoft Visual Studio 14.0\\\\Common7\\\\Tools\\\\\", \"GUROBI_HOME=E:\\\\gurobi752\\\\win64\", \"COMMONPROGRAMFILES(X86)=C:\\\\Program Files (x86)\\\\Common Files\", \"CONDA_DEFAULT_ENV=C:\\\\Users\\\\oldyu\\\\AppData\\\\Local\\\\JuliaPro-0.6.0.1\\\\pkgs-0.6.0.1\\\\v0.6\\\\Conda\\\\deps\\\\usr\", \"VBOX_MSI_INSTALL_PATH=C:\\\\Program Files\\\\Oracle\\\\VirtualBox\\\\\", \"MINGWHOME=C:\\\\MinGW\\\\bin\", \"GRB_LICENSE_FILE=e:\\\\gurobi\\\\gurobi.lic\", \"COMMONPROGRAMFILES=C:\\\\Program Files\\\\Common Files\", \"FSHARPINSTALLDIR=C:\\\\Program Files (x86)\\\\Microsoft SDKs\\\\F#\\\\4.1\\\\Framework\\\\v4.0\\\\\", \"ONEDRIVE=D:\\\\onedrive\", \"CHOCOLATEYINSTALL=C:\\\\ProgramData\\\\chocolatey\", \"JULIA_PKGDIR=C:\\\\Users\\\\oldyu\\\\AppData\\\\Local\\\\JuliaPro-0.6.0.1\\\\pkgs-0.6.0.1\", \"PROGRAMFILES(X86)=C:\\\\Program Files (x86)\", \"PROGRAMFILES=C:\\\\Program Files\", \"JPY_PARENT_PID=3692\", \"LOGONSERVER=\\\\\\\\DESKTOP-5A8MM7P\", \"CONDA_PREFIX=C:\\\\Users\\\\oldyu\\\\AppData\\\\Local\\\\JuliaPro-0.6.0.1\\\\pkgs-0.6.0.1\\\\v0.6\\\\Conda\\\\deps\\\\usr\", \"CUDA_PATH_V8_0=C:\\\\Program Files\\\\NVIDIA GPU Computing Toolkit\\\\CUDA\\\\v8.0\", \"FPS_BROWSER_USER_PROFILE_STRING=Default\", \"SYSTEMDRIVE=C:\", \"FPS_BROWSER_APP_PROFILE_STRING=Internet Explorer\", \"NVCUDASAMPLES_ROOT=C:\\\\ProgramData\\\\NVIDIA Corporation\\\\CUDA Samples\\\\v8.0\", \"PROCESSOR_ARCHITECTURE=AMD64\", \"OPENBLAS_MAIN_FREE=1\"]), ProcessExited(1)) [1]\u001b[39m\n",
      "while loading C:\\Users\\oldyu\\AppData\\Local\\JuliaPro-0.6.0.1\\pkgs-0.6.0.1\\v0.6\\PyCall\\deps\\build.jl, in expression starting on line 258\u001b[39m\n",
      "\n",
      "\u001b[1m\u001b[33m\u001b[39m\u001b[22m\u001b[33m================================================================================\u001b[39m\n",
      "\n",
      "\u001b[1m\u001b[33m\u001b[39m\u001b[22m\u001b[33m================================[ BUILD ERRORS ]================================\u001b[39m\n",
      "\n",
      "\u001b[1m\u001b[33m\u001b[39m\u001b[22m\u001b[33mWARNING: PyCall had build errors.\n",
      "\n",
      " - packages with build errors remain installed in C:\\Users\\oldyu\\AppData\\Local\\JuliaPro-0.6.0.1\\pkgs-0.6.0.1\\v0.6\n",
      " - build the package(s) and all dependencies with `Pkg.build(\"PyCall\")`\n",
      " - build a single package by running its `deps/build.jl` script\u001b[39m\n",
      "\n",
      "\u001b[1m\u001b[33m\u001b[39m\u001b[22m\u001b[33m================================================================================\u001b[39m\n"
     ]
    }
   ],
   "source": [
    "rm(Pkg.dir(\"PyCall\",\"deps\",\"PYTHON\")); Pkg.build(\"PyCall\")"
   ]
  },
  {
   "cell_type": "code",
   "execution_count": 25,
   "metadata": {
    "ExecuteTime": {
     "end_time": "2018-01-23T19:33:07.317000-08:00",
     "start_time": "2018-01-24T03:33:07.315Z"
    }
   },
   "outputs": [],
   "source": [
    "#Pkg.add(\"Plots\")\n",
    "\n",
    "#homedir()\n",
    "#.juliarc.jl\n",
    "\n",
    "#Pkg.add(\"WinRPM\")\n",
    "#using WinRPM\n",
    "#WinRPM.install(\"gtk2\")\n",
    "#WinRPM.install(\"win_iconv\",\"mingw32\")\n",
    "#Pkg.add(\"SymPy\")"
   ]
  },
  {
   "cell_type": "code",
   "execution_count": 11,
   "metadata": {
    "ExecuteTime": {
     "end_time": "2018-01-23T19:30:36.223000-08:00",
     "start_time": "2018-01-24T03:30:19.341Z"
    }
   },
   "outputs": [
    {
     "name": "stderr",
     "output_type": "stream",
     "text": [
      "\u001b[1m\u001b[36mINFO: \u001b[39m\u001b[22m\u001b[36mUpdating METADATA...\n",
      "\u001b[39m\u001b[1m\u001b[36mINFO: \u001b[39m\u001b[22m\u001b[36mUpdating SumOfSquares master...\n",
      "\u001b[39m\u001b[1m\u001b[36mINFO: \u001b[39m\u001b[22m\u001b[36mUpdating MultivariatePolynomials master...\n",
      "\u001b[39m\u001b[1m\u001b[36mINFO: \u001b[39m\u001b[22m\u001b[36mUpdating PolyJuMP master...\n",
      "\u001b[39m\u001b[1m\u001b[36mINFO: \u001b[39m\u001b[22m\u001b[36mUpdating Games master...\n",
      "\u001b[39m\u001b[1m\u001b[36mINFO: \u001b[39m\u001b[22m\u001b[36mComputing changes...\n",
      "\u001b[39m\u001b[1m\u001b[36mINFO: \u001b[39m\u001b[22m\u001b[36mNo packages to install, update or remove\n",
      "\u001b[39m"
     ]
    }
   ],
   "source": [
    "Pkg.update()"
   ]
  },
  {
   "cell_type": "code",
   "execution_count": 2,
   "metadata": {
    "ExecuteTime": {
     "end_time": "2018-01-23T19:37:36.799000-08:00",
     "start_time": "2018-01-24T03:37:36.441Z"
    }
   },
   "outputs": [],
   "source": [
    "import Conda"
   ]
  },
  {
   "cell_type": "code",
   "execution_count": 1,
   "metadata": {
    "ExecuteTime": {
     "end_time": "2018-01-24T03:42:27.976242Z",
     "start_time": "2018-01-24T03:42:24.219Z"
    }
   },
   "outputs": [
    {
     "name": "stderr",
     "output_type": "stream",
     "text": [
      "\u001b[1m\u001b[34mINFO: Recompiling stale cache file C:\\Users\\oldyu\\.julia\\lib\\v0.5\\SymPy.ji for module SymPy.\n",
      "\u001b[0m\n",
      "Please submit a bug report with steps to reproduce this fault, and any error messages that follow (in their entirety). Thanks.\n",
      "Exception: EXCEPTION_ACCESS_VIOLATION at 0x508a5ffa -- PyObject_Call at D:\\Program Files\\juliaPro\\Python\\python35.DLL (unknown line)\n",
      "while loading no file, in expression starting on line 0\n",
      "PyObject_Call at D:\\Program Files\\juliaPro\\Python\\python35.DLL (unknown line)\n",
      "macro expansion at D:\\Program Files\\juliaPro\\pkgs-0.5.2.1\\v0.5\\PyCall\\src\\exception.jl:78 [inlined]\n",
      "#_pycall#66 at D:\\Program Files\\juliaPro\\pkgs-0.5.2.1\\v0.5\\PyCall\\src\\PyCall.jl:549\n",
      "jl_call_method_internal at /home/Administrator/buildbot/slave/package_win6_2-x64/build/src/home/Administrator/buildbot/slave/package_win6_2-x64/build/src\\julia_internal.h:211 [inlined]\n",
      "jl_apply_generic at /home/Administrator/buildbot/slave/package_win6_2-x64/build/src/home/Administrator/buildbot/slave/package_win6_2-x64/build/src\\gf.c:1950\n",
      "jl_apply at /home/Administrator/buildbot/slave/package_win6_2-x64/build/src/home/Administrator/buildbot/slave/package_win6_2-x64/build/src\\julia.h:1388 [inlined]\n",
      "jl_f__apply at /home/Administrator/buildbot/slave/package_win6_2-x64/build/src/home/Administrator/buildbot/slave/package_win6_2-x64/build/src\\builtins.c:547\n",
      "_pycall at D:\\Program Files\\juliaPro\\pkgs-0.5.2.1\\v0.5\\PyCall\\src\\PyCall.jl:537\n",
      "jl_call_method_internal at /home/Administrator/buildbot/slave/package_win6_2-x64/build/src/home/Administrator/buildbot/slave/package_win6_2-x64/build/src\\julia_internal.h:211 [inlined]\n",
      "jl_apply_generic at /home/Administrator/buildbot/slave/package_win6_2-x64/build/src/home/Administrator/buildbot/slave/package_win6_2-x64/build/src\\gf.c:1950\n",
      "jl_apply at /home/Administrator/buildbot/slave/package_win6_2-x64/build/src/home/Administrator/buildbot/slave/package_win6_2-x64/build/src\\julia.h:1388 [inlined]\n",
      "jl_f__apply at /home/Administrator/buildbot/slave/package_win6_2-x64/build/src/home/Administrator/buildbot/slave/package_win6_2-x64/build/src\\builtins.c:547\n",
      "#pycall#69 at D:\\Program Files\\juliaPro\\pkgs-0.5.2.1\\v0.5\\PyCall\\src\\PyCall.jl:568\n",
      "show at D:\\Program Files\\juliaPro\\pkgs-0.5.2.1\\v0.5\\PyCall\\src\\exception.jl:39\n",
      "#showerror#921 at .\\replutil.jl:210\n",
      "unknown function (ip: 000000001F4E3249)\n",
      "jl_call_method_internal at /home/Administrator/buildbot/slave/package_win6_2-x64/build/src/home/Administrator/buildbot/slave/package_win6_2-x64/build/src\\julia_internal.h:211 [inlined]\n",
      "jl_apply_generic at /home/Administrator/buildbot/slave/package_win6_2-x64/build/src/home/Administrator/buildbot/slave/package_win6_2-x64/build/src\\gf.c:1950\n",
      "#showerror at .\\<missing>:0\n",
      "unknown function (ip: 000000001F4E2C36)\n",
      "jl_call_method_internal at /home/Administrator/buildbot/slave/package_win6_2-x64/build/src/home/Administrator/buildbot/slave/package_win6_2-x64/build/src\\julia_internal.h:211 [inlined]\n",
      "jl_apply_generic at /home/Administrator/buildbot/slave/package_win6_2-x64/build/src/home/Administrator/buildbot/slave/package_win6_2-x64/build/src\\gf.c:1950\n",
      "#showerror#923 at .\\replutil.jl:225\n",
      "unknown function (ip: 000000001F4E20C9)\n",
      "jl_call_method_internal at /home/Administrator/buildbot/slave/package_win6_2-x64/build/src/home/Administrator/buildbot/slave/package_win6_2-x64/build/src\\julia_internal.h:211 [inlined]\n",
      "jl_apply_generic at /home/Administrator/buildbot/slave/package_win6_2-x64/build/src/home/Administrator/buildbot/slave/package_win6_2-x64/build/src\\gf.c:1950\n",
      "#showerror at .\\<missing>:0\n",
      "unknown function (ip: 000000001F4E1CA6)\n",
      "jl_call_method_internal at /home/Administrator/buildbot/slave/package_win6_2-x64/build/src/home/Administrator/buildbot/slave/package_win6_2-x64/build/src\\julia_internal.h:211 [inlined]\n",
      "jl_apply_generic at /home/Administrator/buildbot/slave/package_win6_2-x64/build/src/home/Administrator/buildbot/slave/package_win6_2-x64/build/src\\gf.c:1950\n",
      "#showerror#922 at .\\replutil.jl:218\n",
      "unknown function (ip: 000000001F4E1209)\n",
      "#941 at .\\client.jl:100\n",
      "unknown function (ip: 000000001F4DE32A)\n",
      "jl_call_method_internal at /home/Administrator/buildbot/slave/package_win6_2-x64/build/src/home/Administrator/buildbot/slave/package_win6_2-x64/build/src\\julia_internal.h:211 [inlined]\n",
      "jl_apply_generic at /home/Administrator/buildbot/slave/package_win6_2-x64/build/src/home/Administrator/buildbot/slave/package_win6_2-x64/build/src\\gf.c:1950\n",
      "with_output_color at .\\util.jl:303\n",
      "jl_call_method_internal at /home/Administrator/buildbot/slave/package_win6_2-x64/build/src/home/Administrator/buildbot/slave/package_win6_2-x64/build/src\\julia_internal.h:211 [inlined]\n",
      "jl_apply_generic at /home/Administrator/buildbot/slave/package_win6_2-x64/build/src/home/Administrator/buildbot/slave/package_win6_2-x64/build/src\\gf.c:1950\n",
      "_start at .\\client.jl:367\n",
      "unknown function (ip: 0000000061C8A17E)\n",
      "jl_call_method_internal at /home/Administrator/buildbot/slave/package_win6_2-x64/build/src/home/Administrator/buildbot/slave/package_win6_2-x64/build/src\\julia_internal.h:211 [inlined]\n",
      "jl_apply_generic at /home/Administrator/buildbot/slave/package_win6_2-x64/build/src/home/Administrator/buildbot/slave/package_win6_2-x64/build/src\\gf.c:1950\n",
      "jl_apply at /home/Administrator/buildbot/slave/package_win6_2-x64/build/ui/../src\\julia.h:1388 [inlined]\n",
      "true_main at /home/Administrator/buildbot/slave/package_win6_2-x64/build/ui\\repl.c:123\n",
      "wmain at /home/Administrator/buildbot/slave/package_win6_2-x64/build/ui\\repl.c:243\n",
      "__tmainCRTStartup at /usr/src/debug/mingw64-x86_64-runtime-4.0.6-1/crt\\crtexe.c:329\n",
      "mainCRTStartup at /usr/src/debug/mingw64-x86_64-runtime-4.0.6-1/crt\\crtexe.c:212\n",
      "BaseThreadInitThunk at C:\\WINDOWS\\System32\\KERNEL32.DLL (unknown line)\n",
      "RtlUserThreadStart at C:\\WINDOWS\\SYSTEM32\\ntdll.dll (unknown line)\n",
      "Allocations: 2381467 (Pool: 2380462; Big: 1005); GC: 1\n"
     ]
    },
    {
     "ename": "LoadError",
     "evalue": "Failed to precompile SymPy to C:\\Users\\oldyu\\.julia\\lib\\v0.5\\SymPy.ji.",
     "output_type": "error",
     "traceback": [
      "Failed to precompile SymPy to C:\\Users\\oldyu\\.julia\\lib\\v0.5\\SymPy.ji.",
      "",
      " in compilecache(::String) at .\\loading.jl:593",
      " in require(::Symbol) at .\\loading.jl:393"
     ]
    }
   ],
   "source": [
    "using SymPy"
   ]
  },
  {
   "cell_type": "code",
   "execution_count": null,
   "metadata": {
    "ExecuteTime": {
     "start_time": "2018-01-24T03:42:35.005Z"
    }
   },
   "outputs": [],
   "source": [
    "using PyPlot"
   ]
  },
  {
   "cell_type": "code",
   "execution_count": null,
   "metadata": {
    "ExecuteTime": {
     "start_time": "2018-01-24T02:32:44.994Z"
    }
   },
   "outputs": [],
   "source": [
    "using Plots\n",
    "plotly() # Choose the Plotly.jl backend for web interactivity"
   ]
  },
  {
   "cell_type": "code",
   "execution_count": null,
   "metadata": {},
   "outputs": [],
   "source": []
  },
  {
   "cell_type": "code",
   "execution_count": 31,
   "metadata": {
    "ExecuteTime": {
     "end_time": "2018-01-23T19:35:22.101000-08:00",
     "start_time": "2018-01-24T03:35:22.096Z"
    }
   },
   "outputs": [
    {
     "ename": "LoadError",
     "evalue": "\u001b[91mArgumentError: ref of NULL PyObject\u001b[39m",
     "output_type": "error",
     "traceback": [
      "\u001b[91mArgumentError: ref of NULL PyObject\u001b[39m",
      "",
      "Stacktrace:",
      " [1] \u001b[1mgetindex\u001b[22m\u001b[22m\u001b[1m(\u001b[22m\u001b[22m::PyCall.PyObject, ::String\u001b[1m)\u001b[22m\u001b[22m at \u001b[1mC:\\Users\\oldyu\\AppData\\Local\\JuliaPro-0.6.0.1\\pkgs-0.6.0.1\\v0.6\\PyCall\\src\\PyCall.jl:239\u001b[22m\u001b[22m",
      " [2] \u001b[1m#sympy_meth#542\u001b[22m\u001b[22m\u001b[1m(\u001b[22m\u001b[22m::Array{Any,1}, ::Function, ::Symbol, ::String, ::Vararg{String,N} where N\u001b[1m)\u001b[22m\u001b[22m at \u001b[1mC:\\Users\\oldyu\\AppData\\Local\\JuliaPro-0.6.0.1\\pkgs-0.6.0.1\\v0.6\\SymPy\\src\\SymPy.jl:257\u001b[22m\u001b[22m",
      " [3] \u001b[1mSymPy.Sym\u001b[22m\u001b[22m\u001b[1m(\u001b[22m\u001b[22m::String\u001b[1m)\u001b[22m\u001b[22m at \u001b[1mC:\\Users\\oldyu\\AppData\\Local\\JuliaPro-0.6.0.1\\pkgs-0.6.0.1\\v0.6\\SymPy\\src\\utils.jl:7\u001b[22m\u001b[22m"
     ]
    }
   ],
   "source": [
    "x = Sym(\"x\")"
   ]
  },
  {
   "cell_type": "code",
   "execution_count": null,
   "metadata": {},
   "outputs": [],
   "source": []
  },
  {
   "cell_type": "code",
   "execution_count": null,
   "metadata": {
    "ExecuteTime": {
     "start_time": "2018-01-24T02:32:45.019Z"
    }
   },
   "outputs": [],
   "source": [
    "#Sym[diff(ex,v1, v2) for v1 in [x,y], v2 in [x,y]]"
   ]
  },
  {
   "cell_type": "code",
   "execution_count": 18,
   "metadata": {
    "ExecuteTime": {
     "end_time": "2018-01-23T19:32:10.132000-08:00",
     "start_time": "2018-01-24T03:32:09.658Z"
    }
   },
   "outputs": [
    {
     "data": {
      "text/plain": [
       "2-element Array{Int64,1}:\n",
       " 2\n",
       " 3"
      ]
     },
     "execution_count": 18,
     "metadata": {},
     "output_type": "execute_result"
    }
   ],
   "source": [
    "u = [2, 3]"
   ]
  },
  {
   "cell_type": "code",
   "execution_count": 19,
   "metadata": {
    "ExecuteTime": {
     "end_time": "2018-01-23T19:32:48.079000-08:00",
     "start_time": "2018-01-24T03:32:48.076Z"
    }
   },
   "outputs": [
    {
     "data": {
      "text/plain": [
       "2-element Array{Int64,1}:\n",
       " 4\n",
       " 1"
      ]
     },
     "execution_count": 19,
     "metadata": {},
     "output_type": "execute_result"
    }
   ],
   "source": [
    "v = [4, 1]"
   ]
  },
  {
   "cell_type": "markdown",
   "metadata": {},
   "source": [
    "Inner Product and Norm\n",
    "\n",
    "\n",
    "\n",
    "$$x' y := \\sum_{i=1}^n x_i y_i$$\n",
    "\n",
    "\n",
    "$$\\| x \\| := \\sqrt{x' x} := \\left( \\sum_{i=1}^n x_i^2 \\right)^{1/2}$$\n",
    "\n"
   ]
  },
  {
   "cell_type": "code",
   "execution_count": 20,
   "metadata": {
    "ExecuteTime": {
     "end_time": "2018-01-23T19:32:51.171000-08:00",
     "start_time": "2018-01-24T03:32:51.092Z"
    }
   },
   "outputs": [
    {
     "data": {
      "text/plain": [
       "11"
      ]
     },
     "execution_count": 20,
     "metadata": {},
     "output_type": "execute_result"
    }
   ],
   "source": [
    "dot(u, v)               # Inner product of x and y"
   ]
  },
  {
   "cell_type": "code",
   "execution_count": 21,
   "metadata": {
    "ExecuteTime": {
     "end_time": "2018-01-23T19:32:52.362000-08:00",
     "start_time": "2018-01-24T03:32:52.310Z"
    }
   },
   "outputs": [
    {
     "data": {
      "text/plain": [
       "11"
      ]
     },
     "execution_count": 21,
     "metadata": {},
     "output_type": "execute_result"
    }
   ],
   "source": [
    "sum(u .* v)             # Gives the same result"
   ]
  },
  {
   "cell_type": "code",
   "execution_count": 22,
   "metadata": {
    "ExecuteTime": {
     "end_time": "2018-01-23T19:32:58.151000-08:00",
     "start_time": "2018-01-24T03:32:57.981Z"
    }
   },
   "outputs": [
    {
     "data": {
      "text/plain": [
       "3.605551275463989"
      ]
     },
     "execution_count": 22,
     "metadata": {},
     "output_type": "execute_result"
    }
   ],
   "source": [
    "norm(u)               # Norm of x"
   ]
  },
  {
   "cell_type": "code",
   "execution_count": 23,
   "metadata": {
    "ExecuteTime": {
     "end_time": "2018-01-23T19:33:00.877000-08:00",
     "start_time": "2018-01-24T03:32:59.268Z"
    }
   },
   "outputs": [
    {
     "data": {
      "text/plain": [
       "3.605551275463989"
      ]
     },
     "execution_count": 23,
     "metadata": {},
     "output_type": "execute_result"
    }
   ],
   "source": [
    "sqrt(sum(u.^2))         # Gives the same result "
   ]
  },
  {
   "cell_type": "code",
   "execution_count": 24,
   "metadata": {
    "ExecuteTime": {
     "end_time": "2018-01-23T19:33:03.088000-08:00",
     "start_time": "2018-01-24T03:33:03.084Z"
    }
   },
   "outputs": [
    {
     "data": {
      "text/plain": [
       "4.123105625617661"
      ]
     },
     "execution_count": 24,
     "metadata": {},
     "output_type": "execute_result"
    }
   ],
   "source": [
    "norm(v)"
   ]
  },
  {
   "cell_type": "markdown",
   "metadata": {
    "collapsed": true
   },
   "source": [
    "## Derivative"
   ]
  },
  {
   "cell_type": "code",
   "execution_count": 28,
   "metadata": {
    "ExecuteTime": {
     "end_time": "2018-01-23T19:34:12.323000-08:00",
     "start_time": "2018-01-24T03:34:12.318Z"
    }
   },
   "outputs": [
    {
     "ename": "LoadError",
     "evalue": "\u001b[91mArgumentError: ref of NULL PyObject\u001b[39m",
     "output_type": "error",
     "traceback": [
      "\u001b[91mArgumentError: ref of NULL PyObject\u001b[39m",
      "",
      "Stacktrace:",
      " [1] \u001b[1mgetindex\u001b[22m\u001b[22m\u001b[1m(\u001b[22m\u001b[22m::PyCall.PyObject, ::String\u001b[1m)\u001b[22m\u001b[22m at \u001b[1mC:\\Users\\oldyu\\AppData\\Local\\JuliaPro-0.6.0.1\\pkgs-0.6.0.1\\v0.6\\PyCall\\src\\PyCall.jl:239\u001b[22m\u001b[22m",
      " [2] \u001b[1m#sympy_meth#542\u001b[22m\u001b[22m\u001b[1m(\u001b[22m\u001b[22m::Array{Any,1}, ::Function, ::Symbol, ::String, ::Vararg{String,N} where N\u001b[1m)\u001b[22m\u001b[22m at \u001b[1mC:\\Users\\oldyu\\AppData\\Local\\JuliaPro-0.6.0.1\\pkgs-0.6.0.1\\v0.6\\SymPy\\src\\SymPy.jl:257\u001b[22m\u001b[22m",
      " [3] \u001b[1mSymPy.Sym\u001b[22m\u001b[22m\u001b[1m(\u001b[22m\u001b[22m::String\u001b[1m)\u001b[22m\u001b[22m at \u001b[1mC:\\Users\\oldyu\\AppData\\Local\\JuliaPro-0.6.0.1\\pkgs-0.6.0.1\\v0.6\\SymPy\\src\\utils.jl:7\u001b[22m\u001b[22m"
     ]
    }
   ],
   "source": [
    "x,y = Sym(\"x y\")"
   ]
  },
  {
   "cell_type": "code",
   "execution_count": 30,
   "metadata": {
    "ExecuteTime": {
     "end_time": "2018-01-23T19:34:37.140000-08:00",
     "start_time": "2018-01-24T03:34:37.135Z"
    }
   },
   "outputs": [
    {
     "ename": "LoadError",
     "evalue": "\u001b[91mArgumentError: ref of NULL PyObject\u001b[39m",
     "output_type": "error",
     "traceback": [
      "\u001b[91mArgumentError: ref of NULL PyObject\u001b[39m",
      "",
      "Stacktrace:",
      " [1] \u001b[1mgetindex\u001b[22m\u001b[22m\u001b[1m(\u001b[22m\u001b[22m::PyCall.PyObject, ::String\u001b[1m)\u001b[22m\u001b[22m at \u001b[1mC:\\Users\\oldyu\\AppData\\Local\\JuliaPro-0.6.0.1\\pkgs-0.6.0.1\\v0.6\\PyCall\\src\\PyCall.jl:239\u001b[22m\u001b[22m",
      " [2] \u001b[1m#sympy_meth#542\u001b[22m\u001b[22m\u001b[1m(\u001b[22m\u001b[22m::Array{Any,1}, ::Function, ::Symbol, ::String, ::Vararg{String,N} where N\u001b[1m)\u001b[22m\u001b[22m at \u001b[1mC:\\Users\\oldyu\\AppData\\Local\\JuliaPro-0.6.0.1\\pkgs-0.6.0.1\\v0.6\\SymPy\\src\\SymPy.jl:257\u001b[22m\u001b[22m",
      " [3] \u001b[1mSymPy.Sym\u001b[22m\u001b[22m\u001b[1m(\u001b[22m\u001b[22m::String\u001b[1m)\u001b[22m\u001b[22m at \u001b[1mC:\\Users\\oldyu\\AppData\\Local\\JuliaPro-0.6.0.1\\pkgs-0.6.0.1\\v0.6\\SymPy\\src\\utils.jl:7\u001b[22m\u001b[22m"
     ]
    }
   ],
   "source": [
    "SymPy.Sym(\"x\")"
   ]
  },
  {
   "cell_type": "code",
   "execution_count": 29,
   "metadata": {
    "ExecuteTime": {
     "end_time": "2018-01-23T19:34:14.675000-08:00",
     "start_time": "2018-01-24T03:34:14.670Z"
    }
   },
   "outputs": [
    {
     "ename": "LoadError",
     "evalue": "\u001b[91mArgumentError: ref of NULL PyObject\u001b[39m",
     "output_type": "error",
     "traceback": [
      "\u001b[91mArgumentError: ref of NULL PyObject\u001b[39m",
      "",
      "Stacktrace:",
      " [1] \u001b[1mgetindex\u001b[22m\u001b[22m\u001b[1m(\u001b[22m\u001b[22m::PyCall.PyObject, ::String\u001b[1m)\u001b[22m\u001b[22m at \u001b[1mC:\\Users\\oldyu\\AppData\\Local\\JuliaPro-0.6.0.1\\pkgs-0.6.0.1\\v0.6\\PyCall\\src\\PyCall.jl:239\u001b[22m\u001b[22m",
      " [2] \u001b[1m#sympy_meth#542\u001b[22m\u001b[22m\u001b[1m(\u001b[22m\u001b[22m::Array{Any,1}, ::Function, ::Symbol, ::String, ::Vararg{String,N} where N\u001b[1m)\u001b[22m\u001b[22m at \u001b[1mC:\\Users\\oldyu\\AppData\\Local\\JuliaPro-0.6.0.1\\pkgs-0.6.0.1\\v0.6\\SymPy\\src\\SymPy.jl:257\u001b[22m\u001b[22m",
      " [3] \u001b[1mSymPy.Sym\u001b[22m\u001b[22m\u001b[1m(\u001b[22m\u001b[22m::String\u001b[1m)\u001b[22m\u001b[22m at \u001b[1mC:\\Users\\oldyu\\AppData\\Local\\JuliaPro-0.6.0.1\\pkgs-0.6.0.1\\v0.6\\SymPy\\src\\utils.jl:7\u001b[22m\u001b[22m"
     ]
    }
   ],
   "source": [
    "L = Sym(\"L\")\n",
    "A = x*y\n",
    "\t"
   ]
  },
  {
   "cell_type": "code",
   "execution_count": null,
   "metadata": {
    "ExecuteTime": {
     "start_time": "2018-01-24T02:32:45.099Z"
    }
   },
   "outputs": [],
   "source": [
    "A = A(y => L - 2x)\n"
   ]
  },
  {
   "cell_type": "code",
   "execution_count": null,
   "metadata": {
    "ExecuteTime": {
     "start_time": "2018-01-24T02:32:45.105Z"
    }
   },
   "outputs": [],
   "source": [
    "out = solve(diff(A, x), x)[1]\t## solve returns an array, we need its first component\n"
   ]
  },
  {
   "cell_type": "code",
   "execution_count": null,
   "metadata": {
    "ExecuteTime": {
     "start_time": "2018-01-24T02:32:45.111Z"
    }
   },
   "outputs": [],
   "source": [
    "subs(L - 2x, x, out)\t"
   ]
  },
  {
   "cell_type": "code",
   "execution_count": null,
   "metadata": {
    "ExecuteTime": {
     "start_time": "2018-01-24T02:32:45.119Z"
    }
   },
   "outputs": [],
   "source": [
    "xs = Sym[\"x$i\" for i in 1:2]"
   ]
  },
  {
   "cell_type": "code",
   "execution_count": null,
   "metadata": {
    "ExecuteTime": {
     "start_time": "2018-01-24T02:32:45.125Z"
    }
   },
   "outputs": [],
   "source": [
    "Ps = Sym[\"P$i\" for i in 1:2]"
   ]
  },
  {
   "cell_type": "code",
   "execution_count": null,
   "metadata": {
    "ExecuteTime": {
     "start_time": "2018-01-24T02:32:45.132Z"
    }
   },
   "outputs": [],
   "source": [
    "u, I = SymFunction(\"u\")(xs[1],xs[2]), SymFunction(\"I\")"
   ]
  },
  {
   "cell_type": "code",
   "execution_count": null,
   "metadata": {
    "ExecuteTime": {
     "start_time": "2018-01-24T02:32:45.141Z"
    }
   },
   "outputs": [],
   "source": [
    "#u(xs[1],xs[2])"
   ]
  },
  {
   "cell_type": "code",
   "execution_count": null,
   "metadata": {
    "ExecuteTime": {
     "start_time": "2018-01-24T02:32:45.148Z"
    }
   },
   "outputs": [],
   "source": [
    "I = Ps[1]*xs[1]+Ps[2]*xs[2]"
   ]
  },
  {
   "cell_type": "code",
   "execution_count": null,
   "metadata": {
    "ExecuteTime": {
     "start_time": "2018-01-24T02:32:45.154Z"
    }
   },
   "outputs": [],
   "source": [
    "diff(u(xs[1],xs[2]), xs[1])"
   ]
  },
  {
   "cell_type": "code",
   "execution_count": null,
   "metadata": {
    "ExecuteTime": {
     "start_time": "2018-01-24T02:32:45.160Z"
    }
   },
   "outputs": [],
   "source": [
    "diff(u(xs[1],xs[2]),  xs[2])"
   ]
  },
  {
   "cell_type": "code",
   "execution_count": null,
   "metadata": {
    "ExecuteTime": {
     "start_time": "2018-01-24T02:32:45.167Z"
    }
   },
   "outputs": [],
   "source": [
    "diff(I,  xs[1])"
   ]
  },
  {
   "cell_type": "code",
   "execution_count": null,
   "metadata": {
    "ExecuteTime": {
     "start_time": "2018-01-24T02:32:45.173Z"
    }
   },
   "outputs": [],
   "source": [
    "diff(I,  xs[2])"
   ]
  },
  {
   "cell_type": "code",
   "execution_count": null,
   "metadata": {
    "ExecuteTime": {
     "start_time": "2018-01-24T02:32:45.183Z"
    }
   },
   "outputs": [],
   "source": [
    "F, G = SymFunction(\"F\"), SymFunction(\"G\")"
   ]
  },
  {
   "cell_type": "code",
   "execution_count": null,
   "metadata": {},
   "outputs": [],
   "source": []
  },
  {
   "cell_type": "code",
   "execution_count": null,
   "metadata": {},
   "outputs": [],
   "source": []
  },
  {
   "cell_type": "code",
   "execution_count": null,
   "metadata": {},
   "outputs": [],
   "source": []
  },
  {
   "cell_type": "code",
   "execution_count": null,
   "metadata": {},
   "outputs": [],
   "source": []
  },
  {
   "cell_type": "code",
   "execution_count": null,
   "metadata": {
    "ExecuteTime": {
     "start_time": "2018-01-24T02:32:45.208Z"
    }
   },
   "outputs": [],
   "source": [
    "L = Sym(\"L\")\n"
   ]
  },
  {
   "cell_type": "code",
   "execution_count": null,
   "metadata": {
    "ExecuteTime": {
     "start_time": "2018-01-24T02:32:45.214Z"
    }
   },
   "outputs": [],
   "source": [
    "L = "
   ]
  },
  {
   "cell_type": "code",
   "execution_count": null,
   "metadata": {
    "ExecuteTime": {
     "start_time": "2018-01-24T02:32:45.222Z"
    }
   },
   "outputs": [],
   "source": [
    "Alpha= Sym(\"Alpha\")"
   ]
  },
  {
   "cell_type": "code",
   "execution_count": null,
   "metadata": {
    "ExecuteTime": {
     "start_time": "2018-01-24T02:32:45.227Z"
    }
   },
   "outputs": [],
   "source": [
    "Beta = Sym(\"Beta\")"
   ]
  },
  {
   "cell_type": "code",
   "execution_count": null,
   "metadata": {
    "ExecuteTime": {
     "start_time": "2018-01-24T02:32:45.232Z"
    }
   },
   "outputs": [],
   "source": [
    "Beta"
   ]
  },
  {
   "cell_type": "code",
   "execution_count": null,
   "metadata": {
    "ExecuteTime": {
     "start_time": "2018-01-24T02:32:45.237Z"
    }
   },
   "outputs": [],
   "source": [
    "x,y = symbols(\"x,y\")\n",
    "ex = x^2*cos(y)\n",
    "[diff(ex,v1, v2) for v1 in [x,y], v2 in [x,y]]"
   ]
  },
  {
   "cell_type": "code",
   "execution_count": null,
   "metadata": {
    "ExecuteTime": {
     "start_time": "2018-01-24T02:32:45.243Z"
    }
   },
   "outputs": [],
   "source": [
    "F(x)"
   ]
  },
  {
   "cell_type": "code",
   "execution_count": null,
   "metadata": {
    "ExecuteTime": {
     "start_time": "2018-01-24T02:32:45.251Z"
    }
   },
   "outputs": [],
   "source": [
    "diff(F(x),x)"
   ]
  },
  {
   "cell_type": "code",
   "execution_count": null,
   "metadata": {},
   "outputs": [],
   "source": []
  },
  {
   "cell_type": "code",
   "execution_count": null,
   "metadata": {},
   "outputs": [],
   "source": []
  },
  {
   "cell_type": "code",
   "execution_count": null,
   "metadata": {},
   "outputs": [],
   "source": []
  },
  {
   "cell_type": "code",
   "execution_count": null,
   "metadata": {},
   "outputs": [],
   "source": []
  },
  {
   "cell_type": "code",
   "execution_count": null,
   "metadata": {},
   "outputs": [],
   "source": []
  },
  {
   "cell_type": "code",
   "execution_count": null,
   "metadata": {},
   "outputs": [],
   "source": []
  },
  {
   "cell_type": "code",
   "execution_count": null,
   "metadata": {},
   "outputs": [],
   "source": []
  },
  {
   "cell_type": "code",
   "execution_count": null,
   "metadata": {},
   "outputs": [],
   "source": []
  },
  {
   "cell_type": "code",
   "execution_count": null,
   "metadata": {},
   "outputs": [],
   "source": []
  },
  {
   "cell_type": "code",
   "execution_count": null,
   "metadata": {},
   "outputs": [],
   "source": []
  },
  {
   "cell_type": "code",
   "execution_count": null,
   "metadata": {
    "ExecuteTime": {
     "start_time": "2018-01-24T02:32:45.295Z"
    }
   },
   "outputs": [],
   "source": [
    "f = SymFunction(\"f\")\n",
    "#SymFunction(\"F\")\n"
   ]
  },
  {
   "cell_type": "code",
   "execution_count": null,
   "metadata": {
    "ExecuteTime": {
     "start_time": "2018-01-24T02:32:45.300Z"
    }
   },
   "outputs": [],
   "source": [
    "g = SymFunction(\"g\")(x)\n",
    "g"
   ]
  },
  {
   "cell_type": "code",
   "execution_count": null,
   "metadata": {},
   "outputs": [],
   "source": []
  },
  {
   "cell_type": "code",
   "execution_count": null,
   "metadata": {},
   "outputs": [],
   "source": []
  },
  {
   "cell_type": "code",
   "execution_count": null,
   "metadata": {},
   "outputs": [],
   "source": []
  },
  {
   "cell_type": "code",
   "execution_count": null,
   "metadata": {
    "ExecuteTime": {
     "start_time": "2018-01-24T02:32:45.318Z"
    }
   },
   "outputs": [],
   "source": [
    "using Distributions\n",
    "plot(Normal(3,5), fill=(0, .5,:orange))"
   ]
  },
  {
   "cell_type": "code",
   "execution_count": null,
   "metadata": {
    "ExecuteTime": {
     "start_time": "2018-01-24T02:32:45.323Z"
    },
    "scrolled": true
   },
   "outputs": [],
   "source": [
    "plot(Normal(4,8))"
   ]
  },
  {
   "cell_type": "code",
   "execution_count": null,
   "metadata": {
    "ExecuteTime": {
     "start_time": "2018-01-24T02:32:45.329Z"
    },
    "scrolled": true
   },
   "outputs": [],
   "source": [
    "dist = Gamma(2)\n",
    "scatter(dist, leg=false)\n",
    "bar!(dist, func=cdf, alpha=0.3)"
   ]
  },
  {
   "cell_type": "code",
   "execution_count": null,
   "metadata": {
    "ExecuteTime": {
     "start_time": "2018-01-24T02:32:45.334Z"
    }
   },
   "outputs": [],
   "source": [
    "M = randn(1000,4)\n",
    "M[:,2] += 0.8sqrt(abs(M[:,1])) - 0.5M[:,3] + 5\n",
    "M[:,3] -= 0.7M[:,1].^2 + 2\n",
    "corrplot(M, label = [\"x$i\" for i=1:4])"
   ]
  },
  {
   "cell_type": "code",
   "execution_count": null,
   "metadata": {
    "ExecuteTime": {
     "start_time": "2018-01-24T02:32:45.342Z"
    }
   },
   "outputs": [],
   "source": [
    "M"
   ]
  },
  {
   "cell_type": "code",
   "execution_count": null,
   "metadata": {
    "ExecuteTime": {
     "start_time": "2018-01-24T02:32:45.348Z"
    }
   },
   "outputs": [],
   "source": [
    "anscombe"
   ]
  },
  {
   "cell_type": "code",
   "execution_count": null,
   "metadata": {
    "ExecuteTime": {
     "start_time": "2018-01-24T02:32:45.360Z"
    }
   },
   "outputs": [],
   "source": [
    "corrplot(anscombe)"
   ]
  },
  {
   "cell_type": "code",
   "execution_count": null,
   "metadata": {},
   "outputs": [],
   "source": []
  },
  {
   "cell_type": "code",
   "execution_count": null,
   "metadata": {
    "ExecuteTime": {
     "start_time": "2018-01-24T02:32:45.369Z"
    }
   },
   "outputs": [],
   "source": [
    "\n",
    "position(t) = 60 * t\n",
    "plot(position, 0, 3)"
   ]
  },
  {
   "cell_type": "code",
   "execution_count": null,
   "metadata": {
    "ExecuteTime": {
     "start_time": "2018-01-24T02:32:45.374Z"
    }
   },
   "outputs": [],
   "source": [
    "using Plots\n",
    "plotly() # Choose the Plotly.jl backend for web interactivity\n",
    "plot(rand(5,5),linewidth=2,title=\"My Plot\")"
   ]
  },
  {
   "cell_type": "code",
   "execution_count": null,
   "metadata": {},
   "outputs": [],
   "source": []
  },
  {
   "cell_type": "code",
   "execution_count": null,
   "metadata": {},
   "outputs": [],
   "source": []
  },
  {
   "cell_type": "code",
   "execution_count": null,
   "metadata": {},
   "outputs": [],
   "source": []
  },
  {
   "cell_type": "code",
   "execution_count": null,
   "metadata": {},
   "outputs": [],
   "source": []
  },
  {
   "cell_type": "code",
   "execution_count": null,
   "metadata": {},
   "outputs": [],
   "source": []
  },
  {
   "cell_type": "code",
   "execution_count": null,
   "metadata": {},
   "outputs": [],
   "source": []
  },
  {
   "cell_type": "code",
   "execution_count": null,
   "metadata": {},
   "outputs": [],
   "source": []
  },
  {
   "cell_type": "code",
   "execution_count": null,
   "metadata": {},
   "outputs": [],
   "source": []
  },
  {
   "cell_type": "code",
   "execution_count": null,
   "metadata": {},
   "outputs": [],
   "source": []
  },
  {
   "cell_type": "code",
   "execution_count": null,
   "metadata": {
    "ExecuteTime": {
     "start_time": "2018-01-24T02:32:45.418Z"
    }
   },
   "outputs": [],
   "source": [
    "xs = Sym[\"x$i\" for i in 0:(n-1)]"
   ]
  },
  {
   "cell_type": "code",
   "execution_count": null,
   "metadata": {
    "ExecuteTime": {
     "start_time": "2018-01-24T02:32:45.424Z"
    }
   },
   "outputs": [],
   "source": [
    "plot(sin(2x), cos(3x), 0, 4pi)"
   ]
  },
  {
   "cell_type": "code",
   "execution_count": null,
   "metadata": {},
   "outputs": [],
   "source": []
  },
  {
   "cell_type": "code",
   "execution_count": null,
   "metadata": {},
   "outputs": [],
   "source": []
  },
  {
   "cell_type": "code",
   "execution_count": null,
   "metadata": {},
   "outputs": [],
   "source": []
  },
  {
   "cell_type": "code",
   "execution_count": null,
   "metadata": {
    "ExecuteTime": {
     "start_time": "2018-01-24T02:32:45.444Z"
    }
   },
   "outputs": [],
   "source": [
    "n = 3\n",
    "x, c = symbols(\"x,c\")\n",
    "as = Sym[\"a$i\" for i in 0:(n-1)]\n",
    "bs = Sym[\"b$i\" for i in 0:(n-1)]\n"
   ]
  },
  {
   "cell_type": "code",
   "execution_count": null,
   "metadata": {},
   "outputs": [],
   "source": []
  },
  {
   "cell_type": "code",
   "execution_count": null,
   "metadata": {
    "ExecuteTime": {
     "start_time": "2018-01-24T02:32:45.456Z"
    }
   },
   "outputs": [],
   "source": [
    "p = sum([as[i+1]*x^i for i in 0:(n-1)])\n",
    "q = sum([bs[i+1]*(x-c)^i for i in 0:(n-1)])\n"
   ]
  },
  {
   "cell_type": "code",
   "execution_count": null,
   "metadata": {},
   "outputs": [],
   "source": []
  },
  {
   "cell_type": "code",
   "execution_count": null,
   "metadata": {
    "ExecuteTime": {
     "start_time": "2018-01-24T02:32:45.467Z"
    }
   },
   "outputs": [],
   "source": [
    "solve(p-q, bs)"
   ]
  },
  {
   "cell_type": "code",
   "execution_count": null,
   "metadata": {
    "ExecuteTime": {
     "start_time": "2018-01-24T02:32:45.472Z"
    }
   },
   "outputs": [],
   "source": [
    "[\"a$i\" for i in 0:(n-1)]"
   ]
  },
  {
   "cell_type": "code",
   "execution_count": null,
   "metadata": {},
   "outputs": [],
   "source": []
  },
  {
   "cell_type": "markdown",
   "metadata": {},
   "source": [
    "https://github.com/JuliaPlots/StatPlots.jl\n",
    "\n",
    "\n"
   ]
  },
  {
   "cell_type": "code",
   "execution_count": null,
   "metadata": {
    "ExecuteTime": {
     "start_time": "2018-01-24T02:32:45.483Z"
    }
   },
   "outputs": [],
   "source": [
    "ts = [0,1,2,3,4, 5]\n",
    "xs = [0,1,4,9,16,25]\n",
    "plot(ts, xs)"
   ]
  },
  {
   "cell_type": "code",
   "execution_count": null,
   "metadata": {
    "ExecuteTime": {
     "start_time": "2018-01-24T02:32:45.489Z"
    },
    "scrolled": true
   },
   "outputs": [],
   "source": [
    "#Pkg.add(\"SymPy\")"
   ]
  },
  {
   "cell_type": "code",
   "execution_count": null,
   "metadata": {
    "ExecuteTime": {
     "start_time": "2018-01-24T02:32:45.498Z"
    }
   },
   "outputs": [],
   "source": [
    "\n",
    "x, h = symbols(\"x, h\", real=true)\n",
    "n = 5\n",
    "ex = expand((x+h)^n - x^n)"
   ]
  },
  {
   "cell_type": "code",
   "execution_count": null,
   "metadata": {
    "ExecuteTime": {
     "start_time": "2018-01-24T02:32:45.504Z"
    }
   },
   "outputs": [],
   "source": [
    "x |> typeof"
   ]
  },
  {
   "cell_type": "code",
   "execution_count": null,
   "metadata": {
    "ExecuteTime": {
     "start_time": "2018-01-24T02:32:45.509Z"
    }
   },
   "outputs": [],
   "source": [
    "a,b,c = Sym(\"a,b,c\")"
   ]
  },
  {
   "cell_type": "code",
   "execution_count": null,
   "metadata": {
    "ExecuteTime": {
     "start_time": "2018-01-24T02:32:45.516Z"
    }
   },
   "outputs": [],
   "source": [
    "u = symbols(\"u\")\n",
    "x = symbols(\"x\", real=true)\n",
    "y1, y2 = symbols(\"y1, y2\", positive=true)\n",
    "alpha = symbols(\"alpha\", integer=true, positive=true)"
   ]
  },
  {
   "cell_type": "code",
   "execution_count": null,
   "metadata": {
    "ExecuteTime": {
     "start_time": "2018-01-24T02:32:45.521Z"
    }
   },
   "outputs": [],
   "source": [
    "y1+y2"
   ]
  },
  {
   "cell_type": "code",
   "execution_count": null,
   "metadata": {
    "ExecuteTime": {
     "start_time": "2018-01-24T02:32:45.527Z"
    }
   },
   "outputs": [],
   "source": [
    "solve(x^2 + 1)   # ±i are not real\n"
   ]
  },
  {
   "cell_type": "code",
   "execution_count": null,
   "metadata": {},
   "outputs": [],
   "source": []
  },
  {
   "cell_type": "code",
   "execution_count": null,
   "metadata": {
    "ExecuteTime": {
     "start_time": "2018-01-24T02:32:45.537Z"
    }
   },
   "outputs": [],
   "source": [
    "solve(y1 + 1)    # -1 is not positive"
   ]
  },
  {
   "cell_type": "code",
   "execution_count": null,
   "metadata": {
    "ExecuteTime": {
     "start_time": "2018-01-24T02:32:45.544Z"
    }
   },
   "outputs": [],
   "source": [
    "PI, E, oo"
   ]
  },
  {
   "cell_type": "code",
   "execution_count": null,
   "metadata": {
    "ExecuteTime": {
     "start_time": "2018-01-24T02:32:45.550Z"
    }
   },
   "outputs": [],
   "source": [
    "x,y,z = symbols(\"x,y,z\")\n",
    "ex = x + y + z\n",
    "subs(ex, (x,1), (y,pi))   "
   ]
  },
  {
   "cell_type": "code",
   "execution_count": null,
   "metadata": {
    "ExecuteTime": {
     "start_time": "2018-01-24T02:32:45.555Z"
    }
   },
   "outputs": [],
   "source": [
    "subs(ex, x=>1, y=>pi)"
   ]
  },
  {
   "cell_type": "code",
   "execution_count": null,
   "metadata": {
    "ExecuteTime": {
     "start_time": "2018-01-24T02:32:45.561Z"
    }
   },
   "outputs": [],
   "source": [
    "ex(x=>1, y=>pi)"
   ]
  },
  {
   "cell_type": "code",
   "execution_count": null,
   "metadata": {
    "ExecuteTime": {
     "start_time": "2018-01-24T02:32:45.567Z"
    }
   },
   "outputs": [],
   "source": [
    "N(PI)  # floating-point value"
   ]
  },
  {
   "cell_type": "code",
   "execution_count": null,
   "metadata": {
    "ExecuteTime": {
     "start_time": "2018-01-24T02:32:45.572Z"
    }
   },
   "outputs": [],
   "source": [
    "evalf(PI)"
   ]
  },
  {
   "cell_type": "code",
   "execution_count": null,
   "metadata": {
    "ExecuteTime": {
     "start_time": "2018-01-24T02:32:45.578Z"
    }
   },
   "outputs": [],
   "source": [
    "p = x^2 + 3x + 2\n",
    "factor(p)"
   ]
  },
  {
   "cell_type": "code",
   "execution_count": null,
   "metadata": {
    "ExecuteTime": {
     "start_time": "2018-01-24T02:32:45.584Z"
    }
   },
   "outputs": [],
   "source": [
    "p = (x-3)^2*(x-2)*(x-1)*x*(x+1)*(x^2 + x + 1)"
   ]
  },
  {
   "cell_type": "code",
   "execution_count": null,
   "metadata": {
    "ExecuteTime": {
     "start_time": "2018-01-24T02:32:45.589Z"
    }
   },
   "outputs": [],
   "source": [
    "solve(p)"
   ]
  },
  {
   "cell_type": "code",
   "execution_count": null,
   "metadata": {
    "ExecuteTime": {
     "start_time": "2018-01-24T02:32:45.598Z"
    }
   },
   "outputs": [],
   "source": [
    "rts = solve(p)"
   ]
  },
  {
   "cell_type": "code",
   "execution_count": null,
   "metadata": {
    "ExecuteTime": {
     "start_time": "2018-01-24T02:32:45.603Z"
    }
   },
   "outputs": [],
   "source": [
    "[N(r) for r in rts]     # or map(N, rts)"
   ]
  },
  {
   "cell_type": "code",
   "execution_count": null,
   "metadata": {
    "ExecuteTime": {
     "start_time": "2018-01-24T02:32:45.609Z"
    }
   },
   "outputs": [],
   "source": [
    "u = solveset(cos(x) - sin(x))"
   ]
  },
  {
   "cell_type": "code",
   "execution_count": null,
   "metadata": {
    "ExecuteTime": {
     "start_time": "2018-01-24T02:32:45.617Z"
    }
   },
   "outputs": [],
   "source": [
    "a,b,c  = symbols(\"a,b,c\", real=true)\n",
    "p = a*x^2 + b*x + c\n",
    "solve(p, x)"
   ]
  },
  {
   "cell_type": "code",
   "execution_count": null,
   "metadata": {
    "ExecuteTime": {
     "start_time": "2018-01-24T02:32:45.623Z"
    }
   },
   "outputs": [],
   "source": [
    "solveset(p, x)"
   ]
  },
  {
   "cell_type": "code",
   "execution_count": null,
   "metadata": {
    "ExecuteTime": {
     "start_time": "2018-01-24T02:32:45.629Z"
    }
   },
   "outputs": [],
   "source": [
    "x, y = symbols(\"x,y\", real=true)\n",
    "exs = [2x+3y-6, 3x-4y-12]\n",
    "d = solve(exs)"
   ]
  },
  {
   "cell_type": "code",
   "execution_count": null,
   "metadata": {},
   "outputs": [],
   "source": []
  },
  {
   "cell_type": "code",
   "execution_count": null,
   "metadata": {},
   "outputs": [],
   "source": []
  },
  {
   "cell_type": "code",
   "execution_count": null,
   "metadata": {},
   "outputs": [],
   "source": []
  },
  {
   "cell_type": "code",
   "execution_count": null,
   "metadata": {},
   "outputs": [],
   "source": []
  },
  {
   "cell_type": "code",
   "execution_count": null,
   "metadata": {},
   "outputs": [],
   "source": []
  },
  {
   "cell_type": "markdown",
   "metadata": {},
   "source": [
    "### Product rule"
   ]
  },
  {
   "cell_type": "markdown",
   "metadata": {},
   "source": [
    "http://mth229.github.io/symbolic.html"
   ]
  },
  {
   "cell_type": "code",
   "execution_count": null,
   "metadata": {
    "ExecuteTime": {
     "start_time": "2018-01-24T02:32:45.656Z"
    }
   },
   "outputs": [],
   "source": [
    "u,v = symbols(\"u,v\") # make symbolic functions\n",
    "f(x) = u(x) * v(x)\n",
    "limit((f(x+h) - f(x))/h, h, 0)"
   ]
  },
  {
   "cell_type": "code",
   "execution_count": null,
   "metadata": {
    "ExecuteTime": {
     "start_time": "2018-01-24T02:32:45.662Z"
    }
   },
   "outputs": [],
   "source": [
    "diff(x^5 * sin(x))"
   ]
  },
  {
   "cell_type": "code",
   "execution_count": null,
   "metadata": {
    "ExecuteTime": {
     "start_time": "2018-01-24T02:32:45.667Z"
    }
   },
   "outputs": [],
   "source": [
    "#Pkg.build(\"WinRPM\", \"HttpParser\", \"Nettle\", \"ZMQ\")"
   ]
  },
  {
   "cell_type": "code",
   "execution_count": null,
   "metadata": {
    "ExecuteTime": {
     "start_time": "2018-01-24T02:32:45.673Z"
    }
   },
   "outputs": [],
   "source": [
    "#Pkg.add(\"DataFrames\")"
   ]
  },
  {
   "cell_type": "markdown",
   "metadata": {},
   "source": [
    "#### Rules of derivatives and some samples"
   ]
  },
  {
   "cell_type": "code",
   "execution_count": null,
   "metadata": {
    "ExecuteTime": {
     "start_time": "2018-01-24T02:32:45.679Z"
    }
   },
   "outputs": [],
   "source": [
    "Pkg.update()"
   ]
  },
  {
   "cell_type": "code",
   "execution_count": null,
   "metadata": {
    "ExecuteTime": {
     "start_time": "2018-01-24T02:32:45.686Z"
    }
   },
   "outputs": [],
   "source": [
    "Pkg.add(\"LaTeXStrings\")\n",
    "using LaTeXStrings\n",
    "using Compat\n",
    "using Base.Test"
   ]
  },
  {
   "cell_type": "code",
   "execution_count": null,
   "metadata": {
    "ExecuteTime": {
     "start_time": "2018-01-24T02:32:45.693Z"
    }
   },
   "outputs": [],
   "source": [
    "using DataFrames\n",
    "nm = [\"Power rule\", \"constant\", \"sum/difference\", \"product\", \"quotient\", \"chain\"]\n"
   ]
  },
  {
   "cell_type": "code",
   "execution_count": null,
   "metadata": {
    "ExecuteTime": {
     "start_time": "2018-01-24T02:32:45.702Z"
    }
   },
   "outputs": [],
   "source": [
    "rule = [L\"[x^n]' = n\\cdot x^{n-1}\",\n",
    "        L\"[cf(x)]' = c \\cdot f'(x)\",\n",
    "        L\"[f(x) \\pm g(x)]' = f'(x) \\pm g'(x)\",\n",
    "         L\"[f(x) \\cdot g(x)]' = f'(x)\\cdot g(x) + f(x) \\cdot g'(x)\",\n",
    "         L\"[f(x)/g(x)]' = (f'(x) \\cdot g(x) - f(x) \\cdot g'(x)) / g(x)^2\",\n",
    "         L\"[f(g(x))]' = f'(g(x)) \\cdot g'(x)\"]"
   ]
  },
  {
   "cell_type": "code",
   "execution_count": null,
   "metadata": {},
   "outputs": [],
   "source": []
  },
  {
   "cell_type": "code",
   "execution_count": null,
   "metadata": {
    "ExecuteTime": {
     "start_time": "2018-01-24T02:32:45.714Z"
    }
   },
   "outputs": [],
   "source": [
    "\n",
    "d = DataFrame(Name=nm, Rule=rule)\n",
    "#https://github.com/JuliaStats/DataFrames.jl/issues/1058\n",
    "#https://en.wikibooks.org/wiki/Introducing_Julia/DataFrames"
   ]
  },
  {
   "cell_type": "code",
   "execution_count": null,
   "metadata": {
    "ExecuteTime": {
     "start_time": "2018-01-24T02:32:45.721Z"
    }
   },
   "outputs": [],
   "source": [
    "#table(d)"
   ]
  },
  {
   "cell_type": "code",
   "execution_count": null,
   "metadata": {
    "ExecuteTime": {
     "start_time": "2018-01-24T02:32:45.726Z"
    }
   },
   "outputs": [],
   "source": [
    "fn = [L\"x^n \\text{ all } n\",\n",
    "        L\"e^x\",\n",
    "        L\"\\log(x)\",\n",
    "        L\"\\sin(x)\",\n",
    "        L\"\\cos(x)\"]\n",
    "a = [L\"nx^{n-1}\",\n",
    "        L\"e^x\",\n",
    "        L\"1/x\",\n",
    "        L\"\\cos(x)\",\n",
    "        L\"-\\sin(x)\"]\n",
    "d = DataFrame(Function=fn, Derivative=a)\n"
   ]
  },
  {
   "cell_type": "code",
   "execution_count": null,
   "metadata": {
    "ExecuteTime": {
     "start_time": "2018-01-24T02:32:45.733Z"
    }
   },
   "outputs": [],
   "source": [
    "#table(d)"
   ]
  },
  {
   "cell_type": "code",
   "execution_count": null,
   "metadata": {},
   "outputs": [],
   "source": []
  },
  {
   "cell_type": "code",
   "execution_count": null,
   "metadata": {
    "ExecuteTime": {
     "start_time": "2018-01-24T02:32:45.742Z"
    }
   },
   "outputs": [],
   "source": [
    "DataFrame(x=[1,2], y=[3,4])"
   ]
  },
  {
   "cell_type": "code",
   "execution_count": null,
   "metadata": {
    "ExecuteTime": {
     "start_time": "2018-01-24T02:32:45.747Z"
    }
   },
   "outputs": [],
   "source": [
    "Pkg.add(\"RDatasets\")\n",
    "using RDatasets\n",
    "anscombe = dataset(\"datasets\",\"anscombe\")"
   ]
  },
  {
   "cell_type": "code",
   "execution_count": null,
   "metadata": {
    "ExecuteTime": {
     "start_time": "2018-01-24T02:32:45.754Z"
    }
   },
   "outputs": [],
   "source": [
    "#Pkg.add(\"StatPlots\")"
   ]
  },
  {
   "cell_type": "code",
   "execution_count": null,
   "metadata": {
    "ExecuteTime": {
     "start_time": "2018-01-24T02:32:45.760Z"
    }
   },
   "outputs": [],
   "source": [
    "#using StatPlots\n",
    "#gr(size=(400,300))"
   ]
  },
  {
   "cell_type": "code",
   "execution_count": null,
   "metadata": {
    "ExecuteTime": {
     "start_time": "2018-01-24T02:32:45.765Z"
    }
   },
   "outputs": [],
   "source": [
    "#corrplot(anscombe, label = [\"x$i\" for i=1:4])"
   ]
  },
  {
   "cell_type": "code",
   "execution_count": null,
   "metadata": {
    "ExecuteTime": {
     "start_time": "2018-01-24T02:32:45.770Z"
    }
   },
   "outputs": [],
   "source": [
    "plotlyjs() "
   ]
  },
  {
   "cell_type": "code",
   "execution_count": null,
   "metadata": {
    "ExecuteTime": {
     "start_time": "2018-01-24T02:32:45.775Z"
    }
   },
   "outputs": [],
   "source": [
    "#plot(anscombe)"
   ]
  },
  {
   "cell_type": "code",
   "execution_count": null,
   "metadata": {
    "ExecuteTime": {
     "start_time": "2018-01-24T02:32:45.782Z"
    }
   },
   "outputs": [],
   "source": [
    "p = plot(0:2,0:2, xlab = L\"x^2\", xticks = ([0,1,2],[L\"0\", L\"1\", L\"2\"]))"
   ]
  },
  {
   "cell_type": "code",
   "execution_count": null,
   "metadata": {
    "ExecuteTime": {
     "start_time": "2018-01-24T02:32:45.790Z"
    }
   },
   "outputs": [],
   "source": [
    "DataFrame([Real,Real,Real],[:a,:b,:c], 10000)"
   ]
  },
  {
   "cell_type": "code",
   "execution_count": null,
   "metadata": {},
   "outputs": [],
   "source": []
  }
 ],
 "metadata": {
  "kernelspec": {
   "display_name": "Julia 0.5.2",
   "language": "julia",
   "name": "julia-0.5"
  },
  "language_info": {
   "file_extension": ".jl",
   "mimetype": "application/julia",
   "name": "julia",
   "version": "0.5.2"
  }
 },
 "nbformat": 4,
 "nbformat_minor": 1
}
