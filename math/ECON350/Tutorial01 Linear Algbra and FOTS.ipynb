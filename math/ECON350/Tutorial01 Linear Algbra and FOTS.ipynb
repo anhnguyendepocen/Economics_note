{
 "cells": [
  {
   "cell_type": "markdown",
   "metadata": {},
   "source": [
    "\n",
    "# 350 Tutorial 01\n",
    "\n",
    "\n",
    "## Review notes\n",
    "\n",
    "## Exercise 01\n",
    "\n",
    "## Test01\n",
    "\n",
    "## lab01\n",
    "\n",
    "## lab02\n",
    "\n",
    "##\n",
    "\n",
    "\n",
    "http://quant-econ.net/jl/linear_algebra.html\n",
    "\n",
    "http://calculuswithjulia.github.io/derivatives/derivatives.html"
   ]
  },
  {
   "cell_type": "code",
   "execution_count": 6,
   "metadata": {
    "ExecuteTime": {
     "end_time": "2017-11-04T16:30:15.109000-07:00",
     "start_time": "2017-11-04T23:28:36.018Z"
    }
   },
   "outputs": [
    {
     "name": "stderr",
     "output_type": "stream",
     "text": [
      "\u001b[1m\u001b[36mINFO: \u001b[39m\u001b[22m\u001b[36mBuilding Conda\n",
      "\u001b[39m\u001b[1m\u001b[36mINFO: \u001b[39m\u001b[22m\u001b[36mBuilding PyCall\n",
      "\u001b[39m\u001b[1m\u001b[36mINFO: \u001b[39m\u001b[22m\u001b[36mUsing the Python distribution in the Conda package by default.\n",
      "To use a different Python version, set ENV[\"PYTHON\"]=\"pythoncommand\" and re-run Pkg.build(\"PyCall\").\n",
      "\u001b[39mWARNING: Compat.UTF8String is deprecated, use String instead.\n",
      "  likely near C:\\Users\\oldyu\\AppData\\Local\\JuliaPro-0.6.0.1\\pkgs-0.6.0.1\\v0.6\\PyCall\\deps\\build.jl:184\n",
      "\u001b[1m\u001b[36mINFO: \u001b[39m\u001b[22m\u001b[36mDownloading miniconda installer ...\n",
      "\u001b[39m\u001b[1m\u001b[36mINFO: \u001b[39m\u001b[22m\u001b[36mInstalling miniconda ...\n",
      "\u001b[39m\u001b[1m\u001b[33m\u001b[39m\u001b[22m\u001b[33m===============================[ ERROR: PyCall ]================================\u001b[39m\n",
      "\n",
      "\u001b[1m\u001b[33m\u001b[39m\u001b[22m\u001b[33mLoadError: \u001b[91mfailed process: Process(setenv(`'C:\\Users\\oldyu\\AppData\\Local\\JuliaPro-0.6.0.1\\pkgs-0.6.0.1\\v0.6\\Conda\\deps\\usr\\Scripts\\conda.exe' config --add channels defaults --force`,String[\"PATH=C:\\\\Users\\\\oldyu\\\\AppData\\\\Local\\\\JuliaPro-0.6.0.1\\\\Julia-0.6.0\\\\bin;C:\\\\Users\\\\oldyu\\\\AppData\\\\Local\\\\JuliaPro-0.6.0.1\\\\Julia-0.6.0\\\\bin;C:\\\\Users\\\\oldyu\\\\Miniconda3\\\\envs\\\\gluon;C:\\\\Users\\\\oldyu\\\\Miniconda3\\\\envs\\\\gluon\\\\Library\\\\mingw-w64\\\\bin;C:\\\\Users\\\\oldyu\\\\Miniconda3\\\\envs\\\\gluon\\\\Library\\\\usr\\\\bin;C:\\\\Users\\\\oldyu\\\\Miniconda3\\\\envs\\\\gluon\\\\Library\\\\bin;C:\\\\Users\\\\oldyu\\\\Miniconda3\\\\envs\\\\gluon\\\\Scripts;C:\\\\Program Files\\\\NVIDIA GPU Computing Toolkit\\\\CUDA\\\\v8.0\\\\bin;C:\\\\Program Files\\\\NVIDIA GPU Computing Toolkit\\\\CUDA\\\\v8.0\\\\libnvvp;D:\\\\Rtools\\\\bin;D:\\\\Rtools\\\\mingw_32\\\\bin;E:\\\\gurobi702\\\\win64\\\\bin;d:\\\\Program Files\\\\IBM\\\\ILOG\\\\CPLEX_Studio1271\\\\opl\\\\bin\\\\x64_win64;d:\\\\Program Files\\\\IBM\\\\ILOG\\\\CPLEX_Studio1271\\\\opl\\\\oplide\\\\;d:\\\\Program Files\\\\IBM\\\\ILOG\\\\CPLEX_Studio1271\\\\cplex\\\\bin\\\\x64_win64;d:\\\\Program Files\\\\IBM\\\\ILOG\\\\CPLEX_Studio1271\\\\cpoptimizer\\\\bin\\\\x64_win64;C:\\\\Program Files\\\\Microsoft MPI\\\\Bin\\\\;D:\\\\Rtools\\\\bin;D:\\\\Rtools\\\\mingw_32\\\\bin;d:\\\\Rtools\\\\bin;d:\\\\Rtools\\\\gcc-4.6.3\\\\bin;C:\\\\ProgramData\\\\Oracle\\\\Java\\\\javapath;C:\\\\Program Files (x86)\\\\Intel\\\\iCLS Client\\\\;C:\\\\Program Files\\\\Intel\\\\iCLS Client\\\\;C:\\\\Windows\\\\system32;C:\\\\Windows;C:\\\\Windows\\\\System32\\\\Wbem;C:\\\\Windows\\\\System32\\\\WindowsPowerShell\\\\v1.0\\\\;C:\\\\Program Files (x86)\\\\Intel\\\\Intel(R) Management Engine Components\\\\DAL;C:\\\\Program Files\\\\Intel\\\\Intel(R) Management Engine Components\\\\DAL;C:\\\\Program Files (x86)\\\\Intel\\\\Intel(R) Management Engine Components\\\\IPT;C:\\\\Program Files\\\\Intel\\\\Intel(R) Management Engine Components\\\\IPT;C:\\\\Program Files\\\\Intel\\\\WiFi\\\\bin\\\\;C:\\\\Program Files\\\\Common Files\\\\Intel\\\\WirelessCommon\\\\;C:\\\\Program Files (x86)\\\\NVIDIA Corporation\\\\PhysX\\\\Common;C:\\\\Program Files (x86)\\\\Skype\\\\Phone\\\\;D:\\\\Program Files\\\\MATLAB\\\\R2017b\\\\runtime\\\\win64;D:\\\\Program Files\\\\MATLAB\\\\R2017b\\\\bin;d:\\\\Program Files\\\\MATLAB\\\\R2015b\\\\runtime\\\\win64;d:\\\\Program Files\\\\MATLAB\\\\R2015b\\\\bin;d:\\\\Program Files\\\\MATLAB\\\\R2015b\\\\polyspace\\\\bin;C:\\\\WINDOWS\\\\system32;C:\\\\WINDOWS;C:\\\\WINDOWS\\\\System32\\\\Wbem;C:\\\\WINDOWS\\\\System32\\\\WindowsPowerShell\\\\v1.0\\\\;C:\\\\Program Files\\\\R\\\\R-3.3.2\\\\bin\\\\x64;D:\\\\Octave\\\\Octave-4.2.1\\\\bin;C:\\\\Julia-0.5.0\\\\bin;D:\\\\Program Files (x86)\\\\金字塔\\\\]System32;C:;ProgramData\\\\chocolatey\\\\bin;C:\\\\Program Files (x86)\\\\Calibre2\\\\;G:\\\\HashiCorp\\\\Vagrant\\\\bin;D:\\\\Program Files\\\\nodejs\\\\;C:\\\\Program Files\\\\TortoiseSVN\\\\bin;C:\\\\Program Files\\\\MiKTeX 2.9\\\\miktex\\\\bin\\\\x64\\\\;C:\\\\dynare\\\\4.4.3\\\\dynare++;C:\\\\dynare\\\\4.4.3\\\\matlab;C:\\\\Program Files\\\\PuTTY\\\\;C:\\\\Program Files (x86)\\\\Gow\\\\bin;C:\\\\Users\\\\oldyu\\\\Anaconda3\\\\;C:\\\\Users\\\\oldyu\\\\Anaconda3\\\\Scripts;C:\\\\Program Files\\\\dotnet\\\\;C:\\\\Program Files\\\\Git\\\\cmd;DYNARE++HOME;C:\\\\Program Files\\\\ConEmuPack.151210;C:\\\\Program Files\\\\ConEmuPack.151210\\\\ConEmu;E:\\\\gurobi702\\\\win64\\\\bin;C:\\\\Program Files\\\\Microsoft MPI\\\\Bin\\\\;D:\\\\Rtools\\\\bin;D:\\\\Rtools\\\\mingw_32\\\\bin;E:\\\\gurobi650\\\\win64\\\\bin;d:\\\\Rtools\\\\bin;d:\\\\Rtools\\\\gcc-4.6.3\\\\bin;C:\\\\ProgramData\\\\Oracle\\\\Java\\\\javapath;C:\\\\Program Files (x86)\\\\Intel\\\\iCLS Client\\\\;C:\\\\Program Files\\\\Intel\\\\iCLS Client\\\\;C:\\\\Windows\\\\system32;C:\\\\Windows;C:\\\\Windows\\\\System32\\\\Wbem;C:\\\\Windows\\\\System32\\\\WindowsPowerShell\\\\v1.0\\\\;C:\\\\Program Files (x86)\\\\Intel\\\\Intel(R) Management Engine Components\\\\DAL;C:\\\\Program Files\\\\Intel\\\\Intel(R) Management Engine Components\\\\DAL;C:\\\\Program Files (x86)\\\\Intel\\\\Intel(R) Management Engine Components\\\\IPT;C:\\\\Program Files\\\\Intel\\\\Intel(R) Management Engine Components\\\\IPT;C:\\\\Program Files\\\\Intel\\\\WiFi\\\\bin\\\\;C:\\\\Program Files\\\\Common Files\\\\Intel\\\\WirelessCommon\\\\;C:\\\\Program Files (x86)\\\\NVIDIA Corporation\\\\PhysX\\\\Common;C:\\\\Program Files (x86)\\\\Skype\\\\Phone\\\\;d:\\\\Program Files\\\\MATLAB\\\\R2015b\\\\runtime\\\\win64;d:\\\\Program Files\\\\MATLAB\\\\R2015b\\\\bin;d:\\\\Program Files\\\\MATLAB\\\\R2015b\\\\poly\", \"USERDOMAIN_ROAMINGPROFILE=DESKTOP-5A8MM7P\", \"JUPYTER=C:\\\\Users\\\\oldyu\\\\AppData\\\\Local\\\\JuliaPro-0.6.0.1\\\\Python\\\\Scripts\\\\jupyter.exe\", \"HOMEPATH=\\\\Users\\\\oldyu\", \"PATHEXT=.COM;.EXE;.BAT;.CMD;.VBS;.VBE;.JS;.JSE;.WSF;.WSH;.MSC;.RB;.RBW\", \"SESSIONNAME=Console\", \"SYSTEMROOT=C:\\\\WINDOWS\", \"APPDATA=C:\\\\Users\\\\oldyu\\\\AppData\\\\Roaming\", \"PSMODULEPATH=C:\\\\WINDOWS\\\\system32\\\\WindowsPowerShell\\\\v1.0\\\\Modules\\\\\", \"COMMONPROGRAMW6432=C:\\\\Program Files\\\\Common Files\", \"PROGRAMDATA=C:\\\\ProgramData\", \"PUBLIC=C:\\\\Users\\\\Public\", \"USERDOMAIN=DESKTOP-5A8MM7P\", \"OS=Windows_NT\", \"CUDA_HOME=C:\\\\Program Files\\\\NVIDIA GPU Computing Toolkit\\\\CUDA\\\\v8.0\", \"PROCESSOR_REVISION=5e03\", \"TMP=C:\\\\Users\\\\oldyu\\\\AppData\\\\Local\\\\Temp\", \"COMSPEC=C:\\\\WINDOWS\\\\system32\\\\cmd.exe\", \"CPLEX_STUDIO_BINARIES1271=d:\\\\Program Files\\\\IBM\\\\ILOG\\\\CPLEX_Studio1271\\\\opl\\\\bin\\\\x64_win64;d:\\\\Program Files\\\\IBM\\\\ILOG\\\\CPLEX_Studio1271\\\\opl\\\\oplide\\\\;d:\\\\Program Files\\\\IBM\\\\ILOG\\\\CPLEX_Studio1271\\\\cplex\\\\bin\\\\x64_win64;d:\\\\Program Files\\\\IBM\\\\ILOG\\\\CPLEX_Studio1271\\\\cpoptimizer\\\\bin\\\\x64_win64\", \"NVCUDASAMPLES8_0_ROOT=C:\\\\ProgramData\\\\NVIDIA Corporation\\\\CUDA Samples\\\\v8.0\", \"NVTOOLSEXT_PATH=C:\\\\Program Files\\\\NVIDIA Corporation\\\\NvToolsExt\\\\\", \"OCTAVEHOME=D:\\\\Octave\\\\Octave-4.2.0\\\\bin\", \"ALLUSERSPROFILE=C:\\\\ProgramData\", \"COMPUTERNAME=DESKTOP-5A8MM7P\", \"MSMPI_BIN=C:\\\\Program Files\\\\Microsoft MPI\\\\Bin\\\\\", \"USERNAME=oldyu\", \"COLUMNS=80\", \"CPLEX_STUDIO_DIR1271=d:\\\\Program Files\\\\IBM\\\\ILOG\\\\CPLEX_Studio1271\", \"IPY_INTERRUPT_EVENT=1064\", \"=G:=G:\\\\project\\\\project2\\\\Economics_note\\\\math\\\\ECON350\", \"CUDA_PATH=C:\\\\Program Files\\\\NVIDIA GPU Computing Toolkit\\\\CUDA\\\\v8.0\", \"USERPROFILE=C:\\\\Users\\\\oldyu\", \"CONDARC=C:\\\\Users\\\\oldyu\\\\AppData\\\\Local\\\\JuliaPro-0.6.0.1\\\\pkgs-0.6.0.1\\\\v0.6\\\\Conda\\\\deps\\\\usr\\\\condarc-julia.yml\", \"BONJOUR_SDK_HOME=C:\\\\Program Files\\\\Bonjour SDK\\\\\", \"PROCESSOR_LEVEL=6\", \"GADFLY_THEME=dark\", \"LINES=30\", \"=C:=C:\\\\Users\\\\oldyu\\\\AppData\\\\Local\\\\JuliaPro-0.6.0.1\\\\pkgs-0.6.0.1\\\\v0.6\\\\PyCall\\\\deps\", \"PROGRAMW6432=C:\\\\Program Files\", \"TEMP=C:\\\\Users\\\\oldyu\\\\AppData\\\\Local\\\\Temp\", \"HOMEDRIVE=C:\", \"WINDIR=C:\\\\WINDOWS\", \"JPY_INTERRUPT_EVENT=1064\", \"LOCALAPPDATA=C:\\\\Users\\\\oldyu\\\\AppData\\\\Local\", \"PROCESSOR_IDENTIFIER=Intel64 Family 6 Model 94 Stepping 3, GenuineIntel\", \"NUMBER_OF_PROCESSORS=8\", \"DYNARE++HOME=C:\\\\dynare\\\\4.4.3\\\\dynare++\", \"PROMPT=(gluon) \\$P\\$G\", \"VS140COMNTOOLS=D:\\\\Program Files (x86)\\\\Microsoft Visual Studio 14.0\\\\Common7\\\\Tools\\\\\", \"GUROBI_HOME=E:\\\\gurobi702\\\\win64\", \"COMMONPROGRAMFILES(X86)=C:\\\\Program Files (x86)\\\\Common Files\", \"CONDA_DEFAULT_ENV=C:\\\\Users\\\\oldyu\\\\AppData\\\\Local\\\\JuliaPro-0.6.0.1\\\\pkgs-0.6.0.1\\\\v0.6\\\\Conda\\\\deps\\\\usr\", \"VBOX_MSI_INSTALL_PATH=C:\\\\Program Files\\\\Oracle\\\\VirtualBox\\\\\", \"MINGWHOME=C:\\\\MinGW\\\\bin\", \"GRB_LICENSE_FILE=e:\\\\gurobi\\\\gurobi.lic\", \"COMMONPROGRAMFILES=C:\\\\Program Files\\\\Common Files\", \"FSHARPINSTALLDIR=C:\\\\Program Files (x86)\\\\Microsoft SDKs\\\\F#\\\\4.1\\\\Framework\\\\v4.0\\\\\", \"ONEDRIVE=F:\\\\OneDrive\", \"CHOCOLATEYINSTALL=C:\\\\ProgramData\\\\chocolatey\", \"JULIA_PKGDIR=C:\\\\Users\\\\oldyu\\\\AppData\\\\Local\\\\JuliaPro-0.6.0.1\\\\pkgs-0.6.0.1\", \"PROGRAMFILES(X86)=C:\\\\Program Files (x86)\", \"PROGRAMFILES=C:\\\\Program Files\", \"JPY_PARENT_PID=1900\", \"LOGONSERVER=\\\\\\\\DESKTOP-5A8MM7P\", \"CONDA_PREFIX=C:\\\\Users\\\\oldyu\\\\AppData\\\\Local\\\\JuliaPro-0.6.0.1\\\\pkgs-0.6.0.1\\\\v0.6\\\\Conda\\\\deps\\\\usr\", \"CUDA_PATH_V8_0=C:\\\\Program Files\\\\NVIDIA GPU Computing Toolkit\\\\CUDA\\\\v8.0\", \"FPS_BROWSER_USER_PROFILE_STRING=Default\", \"SYSTEMDRIVE=C:\", \"FPS_BROWSER_APP_PROFILE_STRING=Internet Explorer\", \"NVCUDASAMPLES_ROOT=C:\\\\ProgramData\\\\NVIDIA Corporation\\\\CUDA Samples\\\\v8.0\", \"PROCESSOR_ARCHITECTURE=AMD64\", \"OPENBLAS_MAIN_FREE=1\"]), ProcessExited(1)) [1]\u001b[39m\n",
      "while loading C:\\Users\\oldyu\\AppData\\Local\\JuliaPro-0.6.0.1\\pkgs-0.6.0.1\\v0.6\\PyCall\\deps\\build.jl, in expression starting on line 258\u001b[39m\n",
      "\n",
      "\u001b[1m\u001b[33m\u001b[39m\u001b[22m\u001b[33m================================================================================\u001b[39m\n"
     ]
    },
    {
     "name": "stderr",
     "output_type": "stream",
     "text": [
      "\n",
      "\u001b[1m\u001b[33m\u001b[39m\u001b[22m\u001b[33m================================[ BUILD ERRORS ]================================\u001b[39m\n",
      "\n",
      "\u001b[1m\u001b[33m\u001b[39m\u001b[22m\u001b[33mWARNING: PyCall had build errors.\n",
      "\n",
      " - packages with build errors remain installed in C:\\Users\\oldyu\\AppData\\Local\\JuliaPro-0.6.0.1\\pkgs-0.6.0.1\\v0.6\n",
      " - build the package(s) and all dependencies with `Pkg.build(\"PyCall\")`\n",
      " - build a single package by running its `deps/build.jl` script\u001b[39m\n",
      "\n",
      "\u001b[1m\u001b[33m\u001b[39m\u001b[22m\u001b[33m================================================================================\u001b[39m\n"
     ]
    }
   ],
   "source": [
    "ENV[\"PYTHON\"]=\"\"\n",
    "Pkg.build(\"PyCall\")"
   ]
  },
  {
   "cell_type": "code",
   "execution_count": 5,
   "metadata": {
    "ExecuteTime": {
     "end_time": "2017-11-04T16:22:39.242000-07:00",
     "start_time": "2017-11-04T23:22:30.282Z"
    }
   },
   "outputs": [],
   "source": [
    "#Pkg.add(\"SymPy\")\n",
    "#Pkg.update()"
   ]
  },
  {
   "cell_type": "code",
   "execution_count": 4,
   "metadata": {
    "ExecuteTime": {
     "end_time": "2017-11-04T16:22:38.581000-07:00",
     "start_time": "2017-11-04T23:22:21.872Z"
    }
   },
   "outputs": [
    {
     "name": "stderr",
     "output_type": "stream",
     "text": [
      "\u001b[1m\u001b[36mINFO: \u001b[39m\u001b[22m\u001b[36mPrecompiling module SymPy.\n",
      "\u001b[39m"
     ]
    },
    {
     "ename": "LoadError",
     "evalue": "InitError: \u001b[91mFailed to import required Python module sympy.\n\nFor automated sympy installation, try configuring PyCall to use the Conda.jl package's Python \"Miniconda\" distribution within Julia. Relaunch Julia and run:\n    ENV[\"PYTHON\"]=\"\"\n    Pkg.build(\"PyCall\")\nbefore trying again.\n\nThe pyimport exception was: PyError (ccall(@pysym(:PyImport_ImportModule), PyPtr, (Cstring,), name)) <class 'ImportError'>\nImportError(\"No module named 'sympy'\",)\n\n\u001b[39m\nduring initialization of module SymPy",
     "output_type": "error",
     "traceback": [
      "InitError: \u001b[91mFailed to import required Python module sympy.\n\nFor automated sympy installation, try configuring PyCall to use the Conda.jl package's Python \"Miniconda\" distribution within Julia. Relaunch Julia and run:\n    ENV[\"PYTHON\"]=\"\"\n    Pkg.build(\"PyCall\")\nbefore trying again.\n\nThe pyimport exception was: PyError (ccall(@pysym(:PyImport_ImportModule), PyPtr, (Cstring,), name)) <class 'ImportError'>\nImportError(\"No module named 'sympy'\",)\n\n\u001b[39m\nduring initialization of module SymPy",
      "",
      "Stacktrace:",
      " [1] \u001b[1mpyimport_conda\u001b[22m\u001b[22m\u001b[1m(\u001b[22m\u001b[22m::String, ::String, ::String\u001b[1m)\u001b[22m\u001b[22m at \u001b[1mC:\\Users\\oldyu\\AppData\\Local\\JuliaPro-0.6.0.1\\pkgs-0.6.0.1\\v0.6\\PyCall\\src\\PyCall.jl:552\u001b[22m\u001b[22m",
      " [2] \u001b[1m__init__\u001b[22m\u001b[22m\u001b[1m(\u001b[22m\u001b[22m\u001b[1m)\u001b[22m\u001b[22m at \u001b[1mC:\\Users\\oldyu\\AppData\\Local\\JuliaPro-0.6.0.1\\pkgs-0.6.0.1\\v0.6\\SymPy\\src\\SymPy.jl:279\u001b[22m\u001b[22m",
      " [3] \u001b[1m_include_from_serialized\u001b[22m\u001b[22m\u001b[1m(\u001b[22m\u001b[22m::String\u001b[1m)\u001b[22m\u001b[22m at \u001b[1m.\\loading.jl:157\u001b[22m\u001b[22m",
      " [4] \u001b[1m_require_from_serialized\u001b[22m\u001b[22m\u001b[1m(\u001b[22m\u001b[22m::Int64, ::Symbol, ::String, ::Bool\u001b[1m)\u001b[22m\u001b[22m at \u001b[1m.\\loading.jl:200\u001b[22m\u001b[22m",
      " [5] \u001b[1m_require\u001b[22m\u001b[22m\u001b[1m(\u001b[22m\u001b[22m::Symbol\u001b[1m)\u001b[22m\u001b[22m at \u001b[1m.\\loading.jl:491\u001b[22m\u001b[22m",
      " [6] \u001b[1mrequire\u001b[22m\u001b[22m\u001b[1m(\u001b[22m\u001b[22m::Symbol\u001b[1m)\u001b[22m\u001b[22m at \u001b[1m.\\loading.jl:398\u001b[22m\u001b[22m"
     ]
    }
   ],
   "source": [
    "using SymPy"
   ]
  },
  {
   "cell_type": "code",
   "execution_count": null,
   "metadata": {
    "collapsed": true
   },
   "outputs": [],
   "source": [
    "using Plots\n",
    "plotly() # Choose the Plotly.jl backend for web interactivity"
   ]
  },
  {
   "cell_type": "code",
   "execution_count": null,
   "metadata": {
    "collapsed": true
   },
   "outputs": [],
   "source": []
  },
  {
   "cell_type": "code",
   "execution_count": null,
   "metadata": {
    "collapsed": true
   },
   "outputs": [],
   "source": []
  },
  {
   "cell_type": "code",
   "execution_count": null,
   "metadata": {
    "collapsed": true
   },
   "outputs": [],
   "source": []
  },
  {
   "cell_type": "code",
   "execution_count": null,
   "metadata": {
    "collapsed": true
   },
   "outputs": [],
   "source": []
  },
  {
   "cell_type": "code",
   "execution_count": null,
   "metadata": {
    "collapsed": true
   },
   "outputs": [],
   "source": [
    "#Sym[diff(ex,v1, v2) for v1 in [x,y], v2 in [x,y]]"
   ]
  },
  {
   "cell_type": "code",
   "execution_count": null,
   "metadata": {
    "collapsed": true
   },
   "outputs": [],
   "source": [
    "u = [2, 3]"
   ]
  },
  {
   "cell_type": "code",
   "execution_count": null,
   "metadata": {
    "collapsed": true
   },
   "outputs": [],
   "source": [
    "v = [4, 1]"
   ]
  },
  {
   "cell_type": "markdown",
   "metadata": {},
   "source": [
    "Inner Product and Norm\n",
    "\n",
    "\n",
    "\n",
    "$$x' y := \\sum_{i=1}^n x_i y_i$$\n",
    "\n",
    "\n",
    "$$\\| x \\| := \\sqrt{x' x} := \\left( \\sum_{i=1}^n x_i^2 \\right)^{1/2}$$\n",
    "\n"
   ]
  },
  {
   "cell_type": "code",
   "execution_count": null,
   "metadata": {
    "collapsed": true
   },
   "outputs": [],
   "source": [
    "dot(u, v)               # Inner product of x and y"
   ]
  },
  {
   "cell_type": "code",
   "execution_count": null,
   "metadata": {
    "collapsed": true
   },
   "outputs": [],
   "source": [
    "sum(u .* v)             # Gives the same result"
   ]
  },
  {
   "cell_type": "code",
   "execution_count": null,
   "metadata": {
    "collapsed": true
   },
   "outputs": [],
   "source": [
    "norm(u)               # Norm of x"
   ]
  },
  {
   "cell_type": "code",
   "execution_count": null,
   "metadata": {
    "collapsed": true
   },
   "outputs": [],
   "source": [
    "sqrt(sum(u.^2))         # Gives the same result "
   ]
  },
  {
   "cell_type": "code",
   "execution_count": null,
   "metadata": {
    "collapsed": true
   },
   "outputs": [],
   "source": [
    "norm(v)"
   ]
  },
  {
   "cell_type": "markdown",
   "metadata": {
    "collapsed": true
   },
   "source": [
    "## Derivative"
   ]
  },
  {
   "cell_type": "code",
   "execution_count": null,
   "metadata": {
    "collapsed": true
   },
   "outputs": [],
   "source": [
    "#Pkg.add(\"Plots\")"
   ]
  },
  {
   "cell_type": "code",
   "execution_count": null,
   "metadata": {
    "collapsed": true
   },
   "outputs": [],
   "source": [
    "L = Sym(\"L\")\n",
    "A = x*y\n",
    "\t"
   ]
  },
  {
   "cell_type": "code",
   "execution_count": null,
   "metadata": {
    "collapsed": true
   },
   "outputs": [],
   "source": [
    "A = A(y => L - 2x)\n"
   ]
  },
  {
   "cell_type": "code",
   "execution_count": null,
   "metadata": {
    "collapsed": true
   },
   "outputs": [],
   "source": [
    "out = solve(diff(A, x), x)[1]\t## solve returns an array, we need its first component\n"
   ]
  },
  {
   "cell_type": "code",
   "execution_count": null,
   "metadata": {
    "collapsed": true
   },
   "outputs": [],
   "source": [
    "subs(L - 2x, x, out)\t"
   ]
  },
  {
   "cell_type": "code",
   "execution_count": null,
   "metadata": {
    "collapsed": true
   },
   "outputs": [],
   "source": [
    "xs = Sym[\"x$i\" for i in 1:2]"
   ]
  },
  {
   "cell_type": "code",
   "execution_count": null,
   "metadata": {
    "collapsed": true
   },
   "outputs": [],
   "source": [
    "Ps = Sym[\"P$i\" for i in 1:2]"
   ]
  },
  {
   "cell_type": "code",
   "execution_count": null,
   "metadata": {
    "collapsed": true
   },
   "outputs": [],
   "source": [
    "u, I = SymFunction(\"u\")(xs[1],xs[2]), SymFunction(\"I\")"
   ]
  },
  {
   "cell_type": "code",
   "execution_count": null,
   "metadata": {
    "collapsed": true
   },
   "outputs": [],
   "source": [
    "#u(xs[1],xs[2])"
   ]
  },
  {
   "cell_type": "code",
   "execution_count": null,
   "metadata": {
    "collapsed": true
   },
   "outputs": [],
   "source": [
    "I = Ps[1]*xs[1]+Ps[2]*xs[2]"
   ]
  },
  {
   "cell_type": "code",
   "execution_count": null,
   "metadata": {
    "collapsed": true
   },
   "outputs": [],
   "source": [
    "diff(u(xs[1],xs[2]), xs[1])"
   ]
  },
  {
   "cell_type": "code",
   "execution_count": null,
   "metadata": {
    "collapsed": true
   },
   "outputs": [],
   "source": [
    "diff(u(xs[1],xs[2]),  xs[2])"
   ]
  },
  {
   "cell_type": "code",
   "execution_count": null,
   "metadata": {
    "collapsed": true
   },
   "outputs": [],
   "source": [
    "diff(I,  xs[1])"
   ]
  },
  {
   "cell_type": "code",
   "execution_count": null,
   "metadata": {
    "collapsed": true
   },
   "outputs": [],
   "source": [
    "diff(I,  xs[2])"
   ]
  },
  {
   "cell_type": "code",
   "execution_count": null,
   "metadata": {
    "collapsed": true
   },
   "outputs": [],
   "source": [
    "F, G = SymFunction(\"F\"), SymFunction(\"G\")"
   ]
  },
  {
   "cell_type": "code",
   "execution_count": null,
   "metadata": {
    "collapsed": true
   },
   "outputs": [],
   "source": []
  },
  {
   "cell_type": "code",
   "execution_count": null,
   "metadata": {
    "collapsed": true
   },
   "outputs": [],
   "source": []
  },
  {
   "cell_type": "code",
   "execution_count": null,
   "metadata": {
    "collapsed": true
   },
   "outputs": [],
   "source": []
  },
  {
   "cell_type": "code",
   "execution_count": null,
   "metadata": {
    "collapsed": true
   },
   "outputs": [],
   "source": []
  },
  {
   "cell_type": "code",
   "execution_count": null,
   "metadata": {
    "collapsed": true
   },
   "outputs": [],
   "source": [
    "L = Sym(\"L\")\n"
   ]
  },
  {
   "cell_type": "code",
   "execution_count": null,
   "metadata": {
    "collapsed": true
   },
   "outputs": [],
   "source": [
    "L = "
   ]
  },
  {
   "cell_type": "code",
   "execution_count": null,
   "metadata": {
    "collapsed": true
   },
   "outputs": [],
   "source": [
    "Alpha= Sym(\"Alpha\")"
   ]
  },
  {
   "cell_type": "code",
   "execution_count": null,
   "metadata": {
    "collapsed": true
   },
   "outputs": [],
   "source": [
    "Beta = Sym(\"Beta\")"
   ]
  },
  {
   "cell_type": "code",
   "execution_count": null,
   "metadata": {
    "collapsed": true
   },
   "outputs": [],
   "source": [
    "Beta"
   ]
  },
  {
   "cell_type": "code",
   "execution_count": null,
   "metadata": {
    "collapsed": true
   },
   "outputs": [],
   "source": [
    "x,y = symbols(\"x,y\")\n",
    "ex = x^2*cos(y)\n",
    "[diff(ex,v1, v2) for v1 in [x,y], v2 in [x,y]]"
   ]
  },
  {
   "cell_type": "code",
   "execution_count": null,
   "metadata": {
    "collapsed": true
   },
   "outputs": [],
   "source": [
    "F(x)"
   ]
  },
  {
   "cell_type": "code",
   "execution_count": null,
   "metadata": {
    "collapsed": true
   },
   "outputs": [],
   "source": [
    "diff(F(x),x)"
   ]
  },
  {
   "cell_type": "code",
   "execution_count": null,
   "metadata": {
    "collapsed": true
   },
   "outputs": [],
   "source": []
  },
  {
   "cell_type": "code",
   "execution_count": null,
   "metadata": {
    "collapsed": true
   },
   "outputs": [],
   "source": []
  },
  {
   "cell_type": "code",
   "execution_count": null,
   "metadata": {
    "collapsed": true
   },
   "outputs": [],
   "source": []
  },
  {
   "cell_type": "code",
   "execution_count": null,
   "metadata": {
    "collapsed": true
   },
   "outputs": [],
   "source": []
  },
  {
   "cell_type": "code",
   "execution_count": null,
   "metadata": {
    "collapsed": true
   },
   "outputs": [],
   "source": []
  },
  {
   "cell_type": "code",
   "execution_count": null,
   "metadata": {
    "collapsed": true
   },
   "outputs": [],
   "source": []
  },
  {
   "cell_type": "code",
   "execution_count": null,
   "metadata": {
    "collapsed": true
   },
   "outputs": [],
   "source": []
  },
  {
   "cell_type": "code",
   "execution_count": null,
   "metadata": {
    "collapsed": true
   },
   "outputs": [],
   "source": []
  },
  {
   "cell_type": "code",
   "execution_count": null,
   "metadata": {
    "collapsed": true
   },
   "outputs": [],
   "source": []
  },
  {
   "cell_type": "code",
   "execution_count": null,
   "metadata": {
    "collapsed": true
   },
   "outputs": [],
   "source": []
  },
  {
   "cell_type": "code",
   "execution_count": null,
   "metadata": {
    "collapsed": true
   },
   "outputs": [],
   "source": [
    "f = SymFunction(\"f\")\n",
    "#SymFunction(\"F\")\n"
   ]
  },
  {
   "cell_type": "code",
   "execution_count": null,
   "metadata": {
    "collapsed": true
   },
   "outputs": [],
   "source": [
    "g = SymFunction(\"g\")(x)\n",
    "g"
   ]
  },
  {
   "cell_type": "code",
   "execution_count": null,
   "metadata": {
    "collapsed": true
   },
   "outputs": [],
   "source": []
  },
  {
   "cell_type": "code",
   "execution_count": null,
   "metadata": {
    "collapsed": true
   },
   "outputs": [],
   "source": []
  },
  {
   "cell_type": "code",
   "execution_count": null,
   "metadata": {
    "collapsed": true
   },
   "outputs": [],
   "source": []
  },
  {
   "cell_type": "code",
   "execution_count": null,
   "metadata": {
    "collapsed": true
   },
   "outputs": [],
   "source": [
    "using Distributions\n",
    "plot(Normal(3,5), fill=(0, .5,:orange))"
   ]
  },
  {
   "cell_type": "code",
   "execution_count": null,
   "metadata": {
    "collapsed": true,
    "scrolled": true
   },
   "outputs": [],
   "source": [
    "plot(Normal(4,8))"
   ]
  },
  {
   "cell_type": "code",
   "execution_count": null,
   "metadata": {
    "collapsed": true,
    "scrolled": true
   },
   "outputs": [],
   "source": [
    "dist = Gamma(2)\n",
    "scatter(dist, leg=false)\n",
    "bar!(dist, func=cdf, alpha=0.3)"
   ]
  },
  {
   "cell_type": "code",
   "execution_count": null,
   "metadata": {
    "collapsed": true
   },
   "outputs": [],
   "source": [
    "M = randn(1000,4)\n",
    "M[:,2] += 0.8sqrt(abs(M[:,1])) - 0.5M[:,3] + 5\n",
    "M[:,3] -= 0.7M[:,1].^2 + 2\n",
    "corrplot(M, label = [\"x$i\" for i=1:4])"
   ]
  },
  {
   "cell_type": "code",
   "execution_count": null,
   "metadata": {
    "collapsed": true
   },
   "outputs": [],
   "source": [
    "M"
   ]
  },
  {
   "cell_type": "code",
   "execution_count": null,
   "metadata": {
    "collapsed": true
   },
   "outputs": [],
   "source": [
    "anscombe"
   ]
  },
  {
   "cell_type": "code",
   "execution_count": null,
   "metadata": {
    "collapsed": true
   },
   "outputs": [],
   "source": [
    "corrplot(anscombe)"
   ]
  },
  {
   "cell_type": "code",
   "execution_count": null,
   "metadata": {
    "collapsed": true
   },
   "outputs": [],
   "source": []
  },
  {
   "cell_type": "code",
   "execution_count": null,
   "metadata": {
    "collapsed": true
   },
   "outputs": [],
   "source": [
    "\n",
    "position(t) = 60 * t\n",
    "plot(position, 0, 3)"
   ]
  },
  {
   "cell_type": "code",
   "execution_count": null,
   "metadata": {
    "collapsed": true
   },
   "outputs": [],
   "source": [
    "using Plots\n",
    "plotly() # Choose the Plotly.jl backend for web interactivity\n",
    "plot(rand(5,5),linewidth=2,title=\"My Plot\")"
   ]
  },
  {
   "cell_type": "code",
   "execution_count": null,
   "metadata": {
    "collapsed": true
   },
   "outputs": [],
   "source": []
  },
  {
   "cell_type": "code",
   "execution_count": null,
   "metadata": {
    "collapsed": true
   },
   "outputs": [],
   "source": []
  },
  {
   "cell_type": "code",
   "execution_count": null,
   "metadata": {
    "collapsed": true
   },
   "outputs": [],
   "source": []
  },
  {
   "cell_type": "code",
   "execution_count": null,
   "metadata": {
    "collapsed": true
   },
   "outputs": [],
   "source": []
  },
  {
   "cell_type": "code",
   "execution_count": null,
   "metadata": {
    "collapsed": true
   },
   "outputs": [],
   "source": []
  },
  {
   "cell_type": "code",
   "execution_count": null,
   "metadata": {
    "collapsed": true
   },
   "outputs": [],
   "source": []
  },
  {
   "cell_type": "code",
   "execution_count": null,
   "metadata": {
    "collapsed": true
   },
   "outputs": [],
   "source": []
  },
  {
   "cell_type": "code",
   "execution_count": null,
   "metadata": {
    "collapsed": true
   },
   "outputs": [],
   "source": []
  },
  {
   "cell_type": "code",
   "execution_count": null,
   "metadata": {
    "collapsed": true
   },
   "outputs": [],
   "source": []
  },
  {
   "cell_type": "code",
   "execution_count": null,
   "metadata": {
    "collapsed": true
   },
   "outputs": [],
   "source": [
    "xs = Sym[\"x$i\" for i in 0:(n-1)]"
   ]
  },
  {
   "cell_type": "code",
   "execution_count": null,
   "metadata": {
    "collapsed": true
   },
   "outputs": [],
   "source": [
    "plot(sin(2x), cos(3x), 0, 4pi)"
   ]
  },
  {
   "cell_type": "code",
   "execution_count": null,
   "metadata": {
    "collapsed": true
   },
   "outputs": [],
   "source": []
  },
  {
   "cell_type": "code",
   "execution_count": null,
   "metadata": {
    "collapsed": true
   },
   "outputs": [],
   "source": []
  },
  {
   "cell_type": "code",
   "execution_count": null,
   "metadata": {
    "collapsed": true
   },
   "outputs": [],
   "source": []
  },
  {
   "cell_type": "code",
   "execution_count": null,
   "metadata": {
    "collapsed": true
   },
   "outputs": [],
   "source": [
    "n = 3\n",
    "x, c = symbols(\"x,c\")\n",
    "as = Sym[\"a$i\" for i in 0:(n-1)]\n",
    "bs = Sym[\"b$i\" for i in 0:(n-1)]\n"
   ]
  },
  {
   "cell_type": "code",
   "execution_count": null,
   "metadata": {
    "collapsed": true
   },
   "outputs": [],
   "source": []
  },
  {
   "cell_type": "code",
   "execution_count": null,
   "metadata": {
    "collapsed": true
   },
   "outputs": [],
   "source": [
    "p = sum([as[i+1]*x^i for i in 0:(n-1)])\n",
    "q = sum([bs[i+1]*(x-c)^i for i in 0:(n-1)])\n"
   ]
  },
  {
   "cell_type": "code",
   "execution_count": null,
   "metadata": {
    "collapsed": true
   },
   "outputs": [],
   "source": []
  },
  {
   "cell_type": "code",
   "execution_count": null,
   "metadata": {
    "collapsed": true
   },
   "outputs": [],
   "source": [
    "solve(p-q, bs)"
   ]
  },
  {
   "cell_type": "code",
   "execution_count": null,
   "metadata": {
    "collapsed": true
   },
   "outputs": [],
   "source": [
    "[\"a$i\" for i in 0:(n-1)]"
   ]
  },
  {
   "cell_type": "code",
   "execution_count": null,
   "metadata": {
    "collapsed": true
   },
   "outputs": [],
   "source": []
  },
  {
   "cell_type": "markdown",
   "metadata": {},
   "source": [
    "https://github.com/JuliaPlots/StatPlots.jl\n",
    "\n",
    "\n"
   ]
  },
  {
   "cell_type": "code",
   "execution_count": null,
   "metadata": {
    "collapsed": true
   },
   "outputs": [],
   "source": [
    "ts = [0,1,2,3,4, 5]\n",
    "xs = [0,1,4,9,16,25]\n",
    "plot(ts, xs)"
   ]
  },
  {
   "cell_type": "code",
   "execution_count": null,
   "metadata": {
    "collapsed": true,
    "scrolled": true
   },
   "outputs": [],
   "source": [
    "#Pkg.add(\"SymPy\")"
   ]
  },
  {
   "cell_type": "code",
   "execution_count": null,
   "metadata": {
    "collapsed": true
   },
   "outputs": [],
   "source": [
    "\n",
    "x, h = symbols(\"x, h\", real=true)\n",
    "n = 5\n",
    "ex = expand((x+h)^n - x^n)"
   ]
  },
  {
   "cell_type": "code",
   "execution_count": null,
   "metadata": {
    "collapsed": true
   },
   "outputs": [],
   "source": [
    "x |> typeof"
   ]
  },
  {
   "cell_type": "code",
   "execution_count": null,
   "metadata": {
    "collapsed": true
   },
   "outputs": [],
   "source": [
    "a,b,c = Sym(\"a,b,c\")"
   ]
  },
  {
   "cell_type": "code",
   "execution_count": null,
   "metadata": {
    "collapsed": true
   },
   "outputs": [],
   "source": [
    "u = symbols(\"u\")\n",
    "x = symbols(\"x\", real=true)\n",
    "y1, y2 = symbols(\"y1, y2\", positive=true)\n",
    "alpha = symbols(\"alpha\", integer=true, positive=true)"
   ]
  },
  {
   "cell_type": "code",
   "execution_count": null,
   "metadata": {
    "collapsed": true
   },
   "outputs": [],
   "source": [
    "y1+y2"
   ]
  },
  {
   "cell_type": "code",
   "execution_count": null,
   "metadata": {
    "collapsed": true
   },
   "outputs": [],
   "source": [
    "solve(x^2 + 1)   # ±i are not real\n"
   ]
  },
  {
   "cell_type": "code",
   "execution_count": null,
   "metadata": {
    "collapsed": true
   },
   "outputs": [],
   "source": []
  },
  {
   "cell_type": "code",
   "execution_count": null,
   "metadata": {
    "collapsed": true
   },
   "outputs": [],
   "source": [
    "solve(y1 + 1)    # -1 is not positive"
   ]
  },
  {
   "cell_type": "code",
   "execution_count": null,
   "metadata": {
    "collapsed": true
   },
   "outputs": [],
   "source": [
    "PI, E, oo"
   ]
  },
  {
   "cell_type": "code",
   "execution_count": null,
   "metadata": {
    "collapsed": true
   },
   "outputs": [],
   "source": [
    "x,y,z = symbols(\"x,y,z\")\n",
    "ex = x + y + z\n",
    "subs(ex, (x,1), (y,pi))   "
   ]
  },
  {
   "cell_type": "code",
   "execution_count": null,
   "metadata": {
    "collapsed": true
   },
   "outputs": [],
   "source": [
    "subs(ex, x=>1, y=>pi)"
   ]
  },
  {
   "cell_type": "code",
   "execution_count": null,
   "metadata": {
    "collapsed": true
   },
   "outputs": [],
   "source": [
    "ex(x=>1, y=>pi)"
   ]
  },
  {
   "cell_type": "code",
   "execution_count": null,
   "metadata": {
    "collapsed": true
   },
   "outputs": [],
   "source": [
    "N(PI)  # floating-point value"
   ]
  },
  {
   "cell_type": "code",
   "execution_count": null,
   "metadata": {
    "collapsed": true
   },
   "outputs": [],
   "source": [
    "evalf(PI)"
   ]
  },
  {
   "cell_type": "code",
   "execution_count": null,
   "metadata": {
    "collapsed": true
   },
   "outputs": [],
   "source": [
    "p = x^2 + 3x + 2\n",
    "factor(p)"
   ]
  },
  {
   "cell_type": "code",
   "execution_count": null,
   "metadata": {
    "collapsed": true
   },
   "outputs": [],
   "source": [
    "p = (x-3)^2*(x-2)*(x-1)*x*(x+1)*(x^2 + x + 1)"
   ]
  },
  {
   "cell_type": "code",
   "execution_count": null,
   "metadata": {
    "collapsed": true
   },
   "outputs": [],
   "source": [
    "solve(p)"
   ]
  },
  {
   "cell_type": "code",
   "execution_count": null,
   "metadata": {
    "collapsed": true
   },
   "outputs": [],
   "source": [
    "rts = solve(p)"
   ]
  },
  {
   "cell_type": "code",
   "execution_count": null,
   "metadata": {
    "collapsed": true
   },
   "outputs": [],
   "source": [
    "[N(r) for r in rts]     # or map(N, rts)"
   ]
  },
  {
   "cell_type": "code",
   "execution_count": null,
   "metadata": {
    "collapsed": true
   },
   "outputs": [],
   "source": [
    "u = solveset(cos(x) - sin(x))"
   ]
  },
  {
   "cell_type": "code",
   "execution_count": null,
   "metadata": {
    "collapsed": true
   },
   "outputs": [],
   "source": [
    "a,b,c  = symbols(\"a,b,c\", real=true)\n",
    "p = a*x^2 + b*x + c\n",
    "solve(p, x)"
   ]
  },
  {
   "cell_type": "code",
   "execution_count": null,
   "metadata": {
    "collapsed": true
   },
   "outputs": [],
   "source": [
    "solveset(p, x)"
   ]
  },
  {
   "cell_type": "code",
   "execution_count": null,
   "metadata": {
    "collapsed": true
   },
   "outputs": [],
   "source": [
    "x, y = symbols(\"x,y\", real=true)\n",
    "exs = [2x+3y-6, 3x-4y-12]\n",
    "d = solve(exs)"
   ]
  },
  {
   "cell_type": "code",
   "execution_count": null,
   "metadata": {
    "collapsed": true
   },
   "outputs": [],
   "source": []
  },
  {
   "cell_type": "code",
   "execution_count": null,
   "metadata": {
    "collapsed": true
   },
   "outputs": [],
   "source": []
  },
  {
   "cell_type": "code",
   "execution_count": null,
   "metadata": {
    "collapsed": true
   },
   "outputs": [],
   "source": []
  },
  {
   "cell_type": "code",
   "execution_count": null,
   "metadata": {
    "collapsed": true
   },
   "outputs": [],
   "source": []
  },
  {
   "cell_type": "code",
   "execution_count": null,
   "metadata": {
    "collapsed": true
   },
   "outputs": [],
   "source": []
  },
  {
   "cell_type": "markdown",
   "metadata": {},
   "source": [
    "### Product rule"
   ]
  },
  {
   "cell_type": "markdown",
   "metadata": {},
   "source": [
    "http://mth229.github.io/symbolic.html"
   ]
  },
  {
   "cell_type": "code",
   "execution_count": null,
   "metadata": {
    "collapsed": true
   },
   "outputs": [],
   "source": [
    "u,v = symbols(\"u,v\") # make symbolic functions\n",
    "f(x) = u(x) * v(x)\n",
    "limit((f(x+h) - f(x))/h, h, 0)"
   ]
  },
  {
   "cell_type": "code",
   "execution_count": null,
   "metadata": {
    "collapsed": true
   },
   "outputs": [],
   "source": [
    "diff(x^5 * sin(x))"
   ]
  },
  {
   "cell_type": "code",
   "execution_count": null,
   "metadata": {
    "collapsed": true
   },
   "outputs": [],
   "source": [
    "#Pkg.build(\"WinRPM\", \"HttpParser\", \"Nettle\", \"ZMQ\")"
   ]
  },
  {
   "cell_type": "code",
   "execution_count": null,
   "metadata": {
    "collapsed": true
   },
   "outputs": [],
   "source": [
    "#Pkg.add(\"DataFrames\")"
   ]
  },
  {
   "cell_type": "markdown",
   "metadata": {},
   "source": [
    "#### Rules of derivatives and some samples"
   ]
  },
  {
   "cell_type": "code",
   "execution_count": null,
   "metadata": {
    "collapsed": true
   },
   "outputs": [],
   "source": [
    "Pkg.update()"
   ]
  },
  {
   "cell_type": "code",
   "execution_count": null,
   "metadata": {
    "collapsed": true
   },
   "outputs": [],
   "source": [
    "Pkg.add(\"LaTeXStrings\")\n",
    "using LaTeXStrings\n",
    "using Compat\n",
    "using Base.Test"
   ]
  },
  {
   "cell_type": "code",
   "execution_count": null,
   "metadata": {
    "collapsed": true
   },
   "outputs": [],
   "source": [
    "using DataFrames\n",
    "nm = [\"Power rule\", \"constant\", \"sum/difference\", \"product\", \"quotient\", \"chain\"]\n"
   ]
  },
  {
   "cell_type": "code",
   "execution_count": null,
   "metadata": {
    "collapsed": true
   },
   "outputs": [],
   "source": [
    "rule = [L\"[x^n]' = n\\cdot x^{n-1}\",\n",
    "        L\"[cf(x)]' = c \\cdot f'(x)\",\n",
    "        L\"[f(x) \\pm g(x)]' = f'(x) \\pm g'(x)\",\n",
    "         L\"[f(x) \\cdot g(x)]' = f'(x)\\cdot g(x) + f(x) \\cdot g'(x)\",\n",
    "         L\"[f(x)/g(x)]' = (f'(x) \\cdot g(x) - f(x) \\cdot g'(x)) / g(x)^2\",\n",
    "         L\"[f(g(x))]' = f'(g(x)) \\cdot g'(x)\"]"
   ]
  },
  {
   "cell_type": "code",
   "execution_count": null,
   "metadata": {
    "collapsed": true
   },
   "outputs": [],
   "source": []
  },
  {
   "cell_type": "code",
   "execution_count": null,
   "metadata": {
    "collapsed": true
   },
   "outputs": [],
   "source": [
    "\n",
    "d = DataFrame(Name=nm, Rule=rule)\n",
    "#https://github.com/JuliaStats/DataFrames.jl/issues/1058\n",
    "#https://en.wikibooks.org/wiki/Introducing_Julia/DataFrames"
   ]
  },
  {
   "cell_type": "code",
   "execution_count": null,
   "metadata": {
    "collapsed": true
   },
   "outputs": [],
   "source": [
    "#table(d)"
   ]
  },
  {
   "cell_type": "code",
   "execution_count": null,
   "metadata": {
    "collapsed": true
   },
   "outputs": [],
   "source": [
    "fn = [L\"x^n \\text{ all } n\",\n",
    "        L\"e^x\",\n",
    "        L\"\\log(x)\",\n",
    "        L\"\\sin(x)\",\n",
    "        L\"\\cos(x)\"]\n",
    "a = [L\"nx^{n-1}\",\n",
    "        L\"e^x\",\n",
    "        L\"1/x\",\n",
    "        L\"\\cos(x)\",\n",
    "        L\"-\\sin(x)\"]\n",
    "d = DataFrame(Function=fn, Derivative=a)\n"
   ]
  },
  {
   "cell_type": "code",
   "execution_count": null,
   "metadata": {
    "collapsed": true
   },
   "outputs": [],
   "source": [
    "#table(d)"
   ]
  },
  {
   "cell_type": "code",
   "execution_count": null,
   "metadata": {
    "collapsed": true
   },
   "outputs": [],
   "source": []
  },
  {
   "cell_type": "code",
   "execution_count": null,
   "metadata": {
    "collapsed": true
   },
   "outputs": [],
   "source": [
    "DataFrame(x=[1,2], y=[3,4])"
   ]
  },
  {
   "cell_type": "code",
   "execution_count": null,
   "metadata": {
    "collapsed": true
   },
   "outputs": [],
   "source": [
    "Pkg.add(\"RDatasets\")\n",
    "using RDatasets\n",
    "anscombe = dataset(\"datasets\",\"anscombe\")"
   ]
  },
  {
   "cell_type": "code",
   "execution_count": null,
   "metadata": {
    "collapsed": true
   },
   "outputs": [],
   "source": [
    "#Pkg.add(\"StatPlots\")"
   ]
  },
  {
   "cell_type": "code",
   "execution_count": null,
   "metadata": {
    "collapsed": true
   },
   "outputs": [],
   "source": [
    "#using StatPlots\n",
    "#gr(size=(400,300))"
   ]
  },
  {
   "cell_type": "code",
   "execution_count": null,
   "metadata": {
    "collapsed": true
   },
   "outputs": [],
   "source": [
    "#corrplot(anscombe, label = [\"x$i\" for i=1:4])"
   ]
  },
  {
   "cell_type": "code",
   "execution_count": null,
   "metadata": {
    "collapsed": true
   },
   "outputs": [],
   "source": [
    "plotlyjs() "
   ]
  },
  {
   "cell_type": "code",
   "execution_count": null,
   "metadata": {
    "collapsed": true
   },
   "outputs": [],
   "source": [
    "#plot(anscombe)"
   ]
  },
  {
   "cell_type": "code",
   "execution_count": null,
   "metadata": {
    "collapsed": true
   },
   "outputs": [],
   "source": [
    "p = plot(0:2,0:2, xlab = L\"x^2\", xticks = ([0,1,2],[L\"0\", L\"1\", L\"2\"]))"
   ]
  },
  {
   "cell_type": "code",
   "execution_count": null,
   "metadata": {
    "collapsed": true
   },
   "outputs": [],
   "source": [
    "DataFrame([Real,Real,Real],[:a,:b,:c], 10000)"
   ]
  },
  {
   "cell_type": "code",
   "execution_count": null,
   "metadata": {
    "collapsed": true
   },
   "outputs": [],
   "source": []
  }
 ],
 "metadata": {
  "kernelspec": {
   "display_name": "Julia 0.6.0",
   "language": "julia",
   "name": "julia-0.6"
  },
  "language_info": {
   "file_extension": ".jl",
   "mimetype": "application/julia",
   "name": "julia",
   "version": "0.6.0"
  }
 },
 "nbformat": 4,
 "nbformat_minor": 1
}
