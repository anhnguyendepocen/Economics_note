{
 "cells": [
  {
   "cell_type": "markdown",
   "metadata": {},
   "source": [
    "## Symbolic solution of ODEs with sympy\n",
    "Intro to sympy variables in previous notebook."
   ]
  },
  {
   "cell_type": "code",
   "execution_count": 1,
   "metadata": {
    "ExecuteTime": {
     "end_time": "2018-02-17T03:44:55.816029Z",
     "start_time": "2018-02-17T03:44:55.041489Z"
    }
   },
   "outputs": [],
   "source": [
    "import sympy as sym\n",
    "import sympy\n",
    "sym.init_printing() # for LaTeX formatted output\n",
    "\n",
    "import matplotlib.pyplot as plt\n",
    "import numpy as np\n",
    "import warnings\n",
    "warnings.filterwarnings('ignore')\n",
    "#plt.style.use(\"fivethirtyeight\")\n",
    "\n",
    "import scipy as sp\n",
    "import matplotlib as mpl       # As of July 2017 Bucknell computers use v. 2.x \n",
    "\n",
    "# Following is an Ipython magic command that puts figures in the  notebook.\n",
    "# For figures in separate windows, comment out following line and uncomment\n",
    "# the next line\n",
    "# Must come before defaults are changed.\n",
    "%matplotlib inline \n",
    "#notebook\n",
    "#%matplotlib\n",
    "%config InlineBackend.figure_format='retina'\n",
    "\n",
    "# As of Aug. 2017 reverting to 1.x defaults.\n",
    "# In 2.x text.ustex requires dvipng, texlive-latex-extra, and texlive-fonts-recommended, \n",
    "# which don't seem to be universal\n",
    "# See https://stackoverflow.com/questions/38906356/error-running-matplotlib-in-latex-type1cm?\n",
    "mpl.style.use('classic')\n",
    "        \n",
    "# M.L. modifications of matplotlib defaults using syntax of v.2.0 \n",
    "# More info at http://matplotlib.org/2.0.0/users/deflt_style_changes.html\n",
    "# Changes can also be put in matplotlibrc file, or effected using mpl.rcParams[]\n",
    "plt.rc('figure', figsize = (6, 4.5))            # Reduces overall size of figures\n",
    "plt.rc('axes', labelsize=16, titlesize=14)\n",
    "plt.rc('figure', autolayout = True)             # Adjusts supblot parameters for new size\n",
    "\n",
    "from helpFunction import *"
   ]
  },
  {
   "cell_type": "code",
   "execution_count": null,
   "metadata": {},
   "outputs": [],
   "source": []
  },
  {
   "cell_type": "markdown",
   "metadata": {},
   "source": [
    "# Difference Equation\n",
    "\n",
    "## Motivation"
   ]
  },
  {
   "cell_type": "markdown",
   "metadata": {},
   "source": [
    "### Saving\n",
    "\n",
    "Solve  $${ y }_{ 0 },\\quad { y }_{ 1 }=b y_0,\\quad { y }_{ n }=b{ y }_{ n-1 }$$ "
   ]
  },
  {
   "cell_type": "code",
   "execution_count": 20,
   "metadata": {
    "ExecuteTime": {
     "end_time": "2018-02-17T03:46:27.605404Z",
     "start_time": "2018-02-17T03:46:27.602395Z"
    }
   },
   "outputs": [],
   "source": [
    "x,t,b,c,d, n, r,C0,C1, y0, ybar, N = sym.symbols(\"x t b c d n r C0 C1 y0 ybar N\")\n",
    "y = sym.Function(\"y\")"
   ]
  },
  {
   "cell_type": "markdown",
   "metadata": {},
   "source": [
    "### A first order homogeneous difference equation"
   ]
  },
  {
   "cell_type": "code",
   "execution_count": 3,
   "metadata": {
    "ExecuteTime": {
     "end_time": "2018-02-17T03:44:56.435662Z",
     "start_time": "2018-02-17T03:44:55.821545Z"
    }
   },
   "outputs": [
    {
     "data": {
      "image/png": "[encoded data removed]",
      "text/latex": [
       "$$y{\\left (n \\right )} = b y{\\left (n - 1 \\right )}$$"
      ],
      "text/plain": [
       "y(n) = b⋅y(n - 1)"
      ]
     },
     "execution_count": 3,
     "metadata": {},
     "output_type": "execute_result"
    }
   ],
   "source": [
    "ode=sym.Eq(y(n), b*y(n-1))\n",
    "ode"
   ]
  },
  {
   "cell_type": "code",
   "execution_count": 4,
   "metadata": {
    "ExecuteTime": {
     "end_time": "2018-02-17T03:44:57.059483Z",
     "start_time": "2018-02-17T03:44:56.436650Z"
    }
   },
   "outputs": [
    {
     "data": {
      "image/png": "[encoded data removed]",
      "text/latex": [
       "$$C_{0} b^{n}$$"
      ],
      "text/plain": [
       "    n\n",
       "C₀⋅b "
      ]
     },
     "execution_count": 4,
     "metadata": {},
     "output_type": "execute_result"
    }
   ],
   "source": [
    "sym.rsolve(ode,y(n))"
   ]
  },
  {
   "cell_type": "markdown",
   "metadata": {},
   "source": [
    "This function is usually referred to as the **complementary function/solution** of the general first-order difference equation, when we consider the modified first-order difference equation in which we simply ignore the right-hand-side term d.\n"
   ]
  },
  {
   "cell_type": "markdown",
   "metadata": {},
   "source": [
    "### general first-order difference equation"
   ]
  },
  {
   "cell_type": "code",
   "execution_count": 5,
   "metadata": {
    "ExecuteTime": {
     "end_time": "2018-02-17T03:44:57.522080Z",
     "start_time": "2018-02-17T03:44:57.060485Z"
    }
   },
   "outputs": [
    {
     "data": {
      "image/png": "[encoded data removed]",
      "text/latex": [
       "$$c y{\\left (n \\right )} + y{\\left (n + 1 \\right )} = d$$"
      ],
      "text/plain": [
       "c⋅y(n) + y(n + 1) = d"
      ]
     },
     "execution_count": 5,
     "metadata": {},
     "output_type": "execute_result"
    }
   ],
   "source": [
    "ode=sym.Eq(y(n+1) + c*y(n), d)\n",
    "ode"
   ]
  },
  {
   "cell_type": "code",
   "execution_count": 6,
   "metadata": {
    "ExecuteTime": {
     "end_time": "2018-02-17T03:44:58.083670Z",
     "start_time": "2018-02-17T03:44:57.523083Z"
    }
   },
   "outputs": [
    {
     "data": {
      "image/png": "[encoded data removed]",
      "text/latex": [
       "$$C_{0} \\left(- c\\right)^{n} + \\frac{d}{c + 1}$$"
      ],
      "text/plain": [
       "       n     d  \n",
       "C₀⋅(-c)  + ─────\n",
       "           c + 1"
      ]
     },
     "execution_count": 6,
     "metadata": {},
     "output_type": "execute_result"
    }
   ],
   "source": [
    "ode_sol=sym.rsolve(ode,y(n))\n",
    "ode_sol"
   ]
  },
  {
   "cell_type": "markdown",
   "metadata": {},
   "source": [
    "It is called **general solution** as it is independent of a starting/initial value"
   ]
  },
  {
   "cell_type": "code",
   "execution_count": 7,
   "metadata": {
    "ExecuteTime": {
     "end_time": "2018-02-17T03:44:58.537879Z",
     "start_time": "2018-02-17T03:44:58.085174Z"
    }
   },
   "outputs": [
    {
     "data": {
      "image/png": "[encoded data removed]",
      "text/latex": [
       "$$\\left \\{ y{\\left (0 \\right )} : y_{0}\\right \\}$$"
      ],
      "text/plain": [
       "{y(0): y₀}"
      ]
     },
     "execution_count": 7,
     "metadata": {},
     "output_type": "execute_result"
    }
   ],
   "source": [
    "ics = {y(0): y0}\n",
    "ics #initial condition"
   ]
  },
  {
   "cell_type": "code",
   "execution_count": 8,
   "metadata": {
    "ExecuteTime": {
     "end_time": "2018-02-17T03:44:59.081459Z",
     "start_time": "2018-02-17T03:44:58.538882Z"
    }
   },
   "outputs": [
    {
     "data": {
      "image/png": "[encoded data removed]",
      "text/latex": [
       "$$y_{0} = C_{0} + \\frac{d}{c + 1}$$"
      ],
      "text/plain": [
       "            d  \n",
       "y₀ = C₀ + ─────\n",
       "          c + 1"
      ]
     },
     "execution_count": 8,
     "metadata": {},
     "output_type": "execute_result"
    }
   ],
   "source": [
    "C_eq = sym.Eq(y(n).subs(n, 0).subs(ics), ode_sol.subs(n, 0))\n",
    "C_eq"
   ]
  },
  {
   "cell_type": "code",
   "execution_count": 9,
   "metadata": {
    "ExecuteTime": {
     "end_time": "2018-02-17T03:44:59.691596Z",
     "start_time": "2018-02-17T03:44:59.082962Z"
    }
   },
   "outputs": [
    {
     "data": {
      "image/png": "[encoded data removed]",
      "text/latex": [
       "$$\\left [ \\left \\{ C_{0} : \\frac{c y_{0} - d + y_{0}}{c + 1}\\right \\}\\right ]$$"
      ],
      "text/plain": [
       "⎡⎧    c⋅y₀ - d + y₀⎫⎤\n",
       "⎢⎨C₀: ─────────────⎬⎥\n",
       "⎣⎩        c + 1    ⎭⎦"
      ]
     },
     "execution_count": 9,
     "metadata": {},
     "output_type": "execute_result"
    }
   ],
   "source": [
    "C_sol = sym.solve(C_eq)\n",
    "C_sol"
   ]
  },
  {
   "cell_type": "code",
   "execution_count": 10,
   "metadata": {
    "ExecuteTime": {
     "end_time": "2018-02-17T03:45:00.234023Z",
     "start_time": "2018-02-17T03:44:59.692584Z"
    }
   },
   "outputs": [
    {
     "data": {
      "image/png": "[encoded data removed]",
      "text/latex": [
       "$$\\frac{d}{c + 1} + \\frac{\\left(- c\\right)^{n}}{c + 1} \\left(c y_{0} - d + y_{0}\\right)$$"
      ],
      "text/plain": [
       "            n                \n",
       "  d     (-c) ⋅(c⋅y₀ - d + y₀)\n",
       "───── + ─────────────────────\n",
       "c + 1           c + 1        "
      ]
     },
     "execution_count": 10,
     "metadata": {},
     "output_type": "execute_result"
    }
   ],
   "source": [
    "ode_sol.subs(C_sol[0])"
   ]
  },
  {
   "cell_type": "markdown",
   "metadata": {},
   "source": [
    "This expression is called the **definite solution** to the general first-order difference equation"
   ]
  },
  {
   "cell_type": "markdown",
   "metadata": {},
   "source": [
    "### Second Order Linear Difference Equation 2017m2q4"
   ]
  },
  {
   "cell_type": "code",
   "execution_count": 43,
   "metadata": {
    "ExecuteTime": {
     "end_time": "2018-02-17T03:55:29.350868Z",
     "start_time": "2018-02-17T03:55:28.804916Z"
    }
   },
   "outputs": [
    {
     "data": {
      "image/png": "[encoded data removed]",
      "text/latex": [
       "$$- 0.1 y{\\left (n \\right )} - 0.4 y{\\left (n + 1 \\right )} + y{\\left (n + 2 \\right )} = N$$"
      ],
      "text/plain": [
       "-0.1⋅y(n) - 0.4⋅y(n + 1) + y(n + 2) = N"
      ]
     },
     "execution_count": 43,
     "metadata": {},
     "output_type": "execute_result"
    }
   ],
   "source": [
    "ode=sym.Eq(y(n+2)- 0.4*y(n+1) -0.1* y(n),N)\n",
    "ode"
   ]
  },
  {
   "cell_type": "code",
   "execution_count": 44,
   "metadata": {
    "ExecuteTime": {
     "end_time": "2018-02-17T03:55:30.830616Z",
     "start_time": "2018-02-17T03:55:30.389377Z"
    }
   },
   "outputs": [
    {
     "data": {
      "image/png": "[encoded data removed]",
      "text/latex": [
       "$$0.574165738677394^{n} C_{0} + 2.0 N$$"
      ],
      "text/plain": [
       "                 n           \n",
       "0.574165738677394 ⋅C₀ + 2.0⋅N"
      ]
     },
     "execution_count": 44,
     "metadata": {},
     "output_type": "execute_result"
    }
   ],
   "source": [
    "ode_sol=sym.rsolve(ode,y(n))\n",
    "ode_sol"
   ]
  },
  {
   "cell_type": "code",
   "execution_count": 45,
   "metadata": {
    "ExecuteTime": {
     "end_time": "2018-02-17T03:55:32.498292Z",
     "start_time": "2018-02-17T03:55:32.055531Z"
    }
   },
   "outputs": [
    {
     "data": {
      "image/png": "[encoded data removed]",
      "text/latex": [
       "$$\\left [ -0.174165738677394, \\quad 0.574165738677394\\right ]$$"
      ],
      "text/plain": [
       "[-0.174165738677394, 0.574165738677394]"
      ]
     },
     "execution_count": 45,
     "metadata": {},
     "output_type": "execute_result"
    }
   ],
   "source": [
    "sym.solve(r**2-0.4*r-0.1, r)"
   ]
  },
  {
   "cell_type": "code",
   "execution_count": null,
   "metadata": {},
   "outputs": [],
   "source": []
  },
  {
   "cell_type": "markdown",
   "metadata": {},
   "source": [
    "### Steady States"
   ]
  },
  {
   "cell_type": "code",
   "execution_count": 22,
   "metadata": {
    "ExecuteTime": {
     "end_time": "2018-02-17T03:47:13.997069Z",
     "start_time": "2018-02-17T03:47:13.439103Z"
    }
   },
   "outputs": [
    {
     "data": {
      "image/png": "[encoded data removed]",
      "text/latex": [
       "$$0.5 \\bar{y} = N$$"
      ],
      "text/plain": [
       "0.5⋅y̅ = N"
      ]
     },
     "execution_count": 22,
     "metadata": {},
     "output_type": "execute_result"
    }
   ],
   "source": [
    "ss=sym.Eq(ybar- 0.4*ybar -0.1* ybar,N)\n",
    "ss"
   ]
  },
  {
   "cell_type": "code",
   "execution_count": 24,
   "metadata": {
    "ExecuteTime": {
     "end_time": "2018-02-17T03:47:34.518399Z",
     "start_time": "2018-02-17T03:47:34.059184Z"
    }
   },
   "outputs": [
    {
     "data": {
      "image/png": "[encoded data removed]",
      "text/latex": [
       "$$\\left [ 2.0 N\\right ]$$"
      ],
      "text/plain": [
       "[2.0⋅N]"
      ]
     },
     "execution_count": 24,
     "metadata": {},
     "output_type": "execute_result"
    }
   ],
   "source": [
    "sym.solve(ss, ybar)"
   ]
  },
  {
   "cell_type": "markdown",
   "metadata": {
    "ExecuteTime": {
     "end_time": "2018-01-28T19:33:01.340833Z",
     "start_time": "2018-01-28T19:33:00.948777Z"
    }
   },
   "source": [
    "#### Characteristic Equation for Homogeneous Solutions"
   ]
  },
  {
   "cell_type": "code",
   "execution_count": 28,
   "metadata": {
    "ExecuteTime": {
     "end_time": "2018-02-17T03:50:04.599356Z",
     "start_time": "2018-02-17T03:50:04.177234Z"
    }
   },
   "outputs": [
    {
     "data": {
      "image/png": "[encoded data removed]",
      "text/latex": [
       "$$r^{2} - 0.4 r - 0.1 = 0$$"
      ],
      "text/plain": [
       " 2                  \n",
       "r  - 0.4⋅r - 0.1 = 0"
      ]
     },
     "execution_count": 28,
     "metadata": {},
     "output_type": "execute_result"
    }
   ],
   "source": [
    "ce=sym.Eq(r**2-0.4*r -0.1 ,0)\n",
    "ce"
   ]
  },
  {
   "cell_type": "code",
   "execution_count": 29,
   "metadata": {
    "ExecuteTime": {
     "end_time": "2018-02-17T03:50:08.042165Z",
     "start_time": "2018-02-17T03:50:07.590464Z"
    }
   },
   "outputs": [
    {
     "data": {
      "image/png": "[encoded data removed]",
      "text/latex": [
       "$$\\left [ -0.174165738677394, \\quad 0.574165738677394\\right ]$$"
      ],
      "text/plain": [
       "[-0.174165738677394, 0.574165738677394]"
      ]
     },
     "execution_count": 29,
     "metadata": {},
     "output_type": "execute_result"
    }
   ],
   "source": [
    "rsol=sym.solve(ce)\n",
    "rsol"
   ]
  },
  {
   "cell_type": "markdown",
   "metadata": {},
   "source": [
    "#### Dynamics and Steady State"
   ]
  },
  {
   "cell_type": "code",
   "execution_count": 46,
   "metadata": {
    "ExecuteTime": {
     "end_time": "2018-02-17T03:55:47.859439Z",
     "start_time": "2018-02-17T03:55:47.327913Z"
    }
   },
   "outputs": [
    {
     "data": {
      "image/png": "[encoded data removed]",
      "text/latex": [
       "$$0.574165738677394^{n} C_{0} + 2.0 N$$"
      ],
      "text/plain": [
       "                 n           \n",
       "0.574165738677394 ⋅C₀ + 2.0⋅N"
      ]
     },
     "execution_count": 46,
     "metadata": {},
     "output_type": "execute_result"
    }
   ],
   "source": [
    "ode_sol"
   ]
  },
  {
   "cell_type": "code",
   "execution_count": 47,
   "metadata": {
    "ExecuteTime": {
     "end_time": "2018-02-17T03:55:49.143446Z",
     "start_time": "2018-02-17T03:55:48.672166Z"
    }
   },
   "outputs": [
    {
     "data": {
      "image/png": "[encoded data removed]",
      "text/latex": [
       "$$C_{0} + 2.0 N$$"
      ],
      "text/plain": [
       "C₀ + 2.0⋅N"
      ]
     },
     "execution_count": 47,
     "metadata": {},
     "output_type": "execute_result"
    }
   ],
   "source": [
    "ode_sol.subs(n,0)"
   ]
  },
  {
   "cell_type": "code",
   "execution_count": 48,
   "metadata": {
    "ExecuteTime": {
     "end_time": "2018-02-17T03:55:50.353846Z",
     "start_time": "2018-02-17T03:55:49.896600Z"
    }
   },
   "outputs": [
    {
     "data": {
      "image/png": "[encoded data removed]",
      "text/latex": [
       "$$0.574165738677394 C_{0} + 2.0 N$$"
      ],
      "text/plain": [
       "0.574165738677394⋅C₀ + 2.0⋅N"
      ]
     },
     "execution_count": 48,
     "metadata": {},
     "output_type": "execute_result"
    }
   ],
   "source": [
    "ode_sol.subs(n,1)"
   ]
  },
  {
   "cell_type": "code",
   "execution_count": 49,
   "metadata": {
    "ExecuteTime": {
     "end_time": "2018-02-17T03:55:51.722627Z",
     "start_time": "2018-02-17T03:55:51.312504Z"
    }
   },
   "outputs": [
    {
     "data": {
      "image/png": "[encoded data removed]",
      "text/latex": [
       "$$\\left \\{ C_{0} : - 2.0 N + 20000.0\\right \\}$$"
      ],
      "text/plain": [
       "{C₀: -2.0⋅N + 20000.0}"
      ]
     },
     "execution_count": 49,
     "metadata": {},
     "output_type": "execute_result"
    }
   ],
   "source": [
    "constsol = sym.solve([ode_sol.subs(n,0)-20000])\n",
    "constsol"
   ]
  },
  {
   "cell_type": "code",
   "execution_count": 54,
   "metadata": {
    "ExecuteTime": {
     "end_time": "2018-02-17T03:56:42.969136Z",
     "start_time": "2018-02-17T03:56:42.447749Z"
    }
   },
   "outputs": [
    {
     "data": {
      "image/png": "[encoded data removed]",
      "text/latex": [
       "$$0.574165738677394^{n} \\left(- 2.0 N + 20000.0\\right) + 2.0 N$$"
      ],
      "text/plain": [
       "                 n                           \n",
       "0.574165738677394 ⋅(-2.0⋅N + 20000.0) + 2.0⋅N"
      ]
     },
     "execution_count": 54,
     "metadata": {},
     "output_type": "execute_result"
    }
   ],
   "source": [
    "ode_sol.subs(constsol)"
   ]
  },
  {
   "cell_type": "code",
   "execution_count": 55,
   "metadata": {
    "ExecuteTime": {
     "end_time": "2018-02-17T03:56:43.506832Z",
     "start_time": "2018-02-17T03:56:42.970139Z"
    }
   },
   "outputs": [
    {
     "data": {
      "image/png": "[encoded data removed]",
      "text/latex": [
       "$$20000.0$$"
      ],
      "text/plain": [
       "20000.0000000000"
      ]
     },
     "execution_count": 55,
     "metadata": {},
     "output_type": "execute_result"
    }
   ],
   "source": [
    "ode_sol.subs(constsol).subs(N,10000)"
   ]
  },
  {
   "cell_type": "code",
   "execution_count": 51,
   "metadata": {
    "ExecuteTime": {
     "end_time": "2018-02-17T03:56:00.176371Z",
     "start_time": "2018-02-17T03:56:00.169352Z"
    }
   },
   "outputs": [
    {
     "data": {
      "text/plain": [
       "<function numpy.<lambda>>"
      ]
     },
     "execution_count": 51,
     "metadata": {},
     "output_type": "execute_result"
    }
   ],
   "source": [
    "y_n = sympy.lambdify((n), ode_sol.subs(constsol), 'numpy')\n",
    "y_n"
   ]
  },
  {
   "cell_type": "code",
   "execution_count": 52,
   "metadata": {
    "ExecuteTime": {
     "end_time": "2018-02-17T03:56:02.896614Z",
     "start_time": "2018-02-17T03:56:02.784817Z"
    }
   },
   "outputs": [
    {
     "data": {
      "text/plain": [
       "array([20000.0000000000, 0.0443365104960158*N + 19556.6348950398,\n",
       "       0.08769015791055*N + 19123.0984208945,\n",
       "       0.130082730603267*N + 18699.1726939673,\n",
       "       0.171535533923911*N + 18284.6446607609,\n",
       "       0.212069400919799*N + 17879.305990802,\n",
       "       0.251704702805932*N + 17482.9529719407,\n",
       "       0.290461359203022*N + 17095.3864079698,\n",
       "       0.328358848148542*N + 16716.4115185146,\n",
       "       0.365416215885859*N + 16345.8378411414,\n",
       "       0.401652086436356*N + 15983.4791356364,\n",
       "       0.437084670959356*N + 15629.1532904064,\n",
       "       0.471731776904553*N + 15282.6822309545,\n",
       "       0.505610816961553*N + 14943.8918303845,\n",
       "       0.538738817811011*N + 14612.6118218899,\n",
       "       0.571132428681782*N + 14288.6757131822,\n",
       "       0.602807929718365*N + 13971.9207028163,\n",
       "       0.633781240162862*N + 13662.1875983714,\n",
       "       0.664067926355548*N + 13359.3207364445,\n",
       "       0.693683209558099*N + 13063.167904419,\n",
       "       0.722641973603373*N + 12773.5802639663,\n",
       "       0.750958772375625*N + 12490.4122762437,\n",
       "       0.778647837124887*N + 12213.5216287511,\n",
       "       0.80572308361921*N + 11942.7691638079,\n",
       "       0.832198119138343*N + 11678.0188086166,\n",
       "       0.858086249312388*N + 11419.1375068761,\n",
       "       0.883400484808841*N + 11165.9951519116,\n",
       "       0.9081535478714*N + 10918.464521286,\n",
       "       0.932357878713819*N + 10676.4212128618,\n",
       "       0.956025641772015*N + 10439.7435822798,\n",
       "       0.979168731817589*N + 10208.3126818241,\n",
       "       1.0017987799358*N + 9982.01220064196,\n",
       "       1.02392715937106*N + 9760.7284062894,\n",
       "       1.04556499124277*N + 9544.35008757229,\n",
       "       1.06672315013454*N + 9332.76849865464,\n",
       "       1.08741226955941*N + 9125.8773044059,\n",
       "       1.10764274730402*N + 8923.57252695983,\n",
       "       1.12742475065419*N + 8725.75249345807,\n",
       "       1.14676822150478*N + 8532.31778495215,\n",
       "       1.16568288135618*N + 8343.17118643822,\n",
       "       1.18417823620006*N + 8158.21763799943,\n",
       "       1.20226358129685*N + 7977.36418703146,\n",
       "       1.2199480058473*N + 7800.51994152703,\n",
       "       1.23724039756039*N + 7627.59602439608,\n",
       "       1.25414944712014*N + 7458.50552879858,\n",
       "       1.27068365255325*N + 7293.16347446749,\n",
       "       1.2868513235*N + 7131.48676500005,\n",
       "       1.30266058539043*N + 6973.39414609574,\n",
       "       1.31811938352799*N + 6818.80616472012,\n",
       "       1.33323548708261*N + 6667.64512917392,\n",
       "       1.34801649299527*N + 6519.83507004725,\n",
       "       1.36246982979605*N + 6375.30170203953,\n",
       "       1.37660276133743*N + 6233.97238662566,\n",
       "       1.39042239044501*N + 6095.77609554991,\n",
       "       1.40393566248709*N + 5960.64337512905,\n",
       "       1.41714936886532*N + 5828.50631134684,\n",
       "       1.43007015042777*N + 5699.29849572228,\n",
       "       1.44270450080655*N + 5572.95499193452,\n",
       "       1.45505876968123*N + 5449.41230318766,\n",
       "       1.4671391659701*N + 5328.60834029896,\n",
       "       1.47895176095055*N + 5210.48239049455,\n",
       "       1.49050249131032*N + 5094.97508689682,\n",
       "       1.50179716213118*N + 4982.02837868825,\n",
       "       1.51284144980633*N + 4871.58550193667,\n",
       "       1.52364090489328*N + 4763.59095106724,\n",
       "       1.53420095490331*N + 4657.99045096688,\n",
       "       1.54452690702929*N + 4554.73092970706,\n",
       "       1.55462395081287*N + 4453.76049187132,\n",
       "       1.5644971607526*N + 4355.02839247402,\n",
       "       1.57415149885427*N + 4258.48501145734,\n",
       "       1.58359181712465*N + 4164.08182875353,\n",
       "       1.59282286000999*N + 4071.77139990014,\n",
       "       1.60184926678044*N + 3981.50733219561,\n",
       "       1.61067557386163*N + 3893.24426138368,\n",
       "       1.61930621711455*N + 3806.93782885449,\n",
       "       1.62774553406489*N + 3722.54465935114,\n",
       "       1.63599776608295*N + 3640.02233917054,\n",
       "       1.64406706051526*N + 3559.32939484736,\n",
       "       1.65195747276894*N + 3480.42527231064,\n",
       "       1.65967296834976*N + 3403.27031650244,\n",
       "       1.66721742485518*N + 3327.82575144825,\n",
       "       1.67459463392308*N + 3254.05366076925,\n",
       "       1.68180830313734*N + 3181.9169686266,\n",
       "       1.68886205789119*N + 3111.37942108812,\n",
       "       1.6957594432092*N + 3042.40556790804,\n",
       "       1.70250392552893*N + 2974.96074471069,\n",
       "       1.70909889444309*N + 2909.01105556914,\n",
       "       1.715547664403*N + 2844.52335597001,\n",
       "       1.72185347638441*N + 2781.46523615595,\n",
       "       1.72801949951626*N + 2719.80500483738,\n",
       "       1.73404883267347*N + 2659.51167326534,\n",
       "       1.73994450603427*N + 2600.55493965733,\n",
       "       1.74570948260315*N + 2542.90517396854,\n",
       "       1.75134665969995*N + 2486.53340300053,\n",
       "       1.75685887041599*N + 2431.41129584011,\n",
       "       1.7622488850379*N + 2377.51114962104,\n",
       "       1.76751941243987*N + 2324.80587560126,\n",
       "       1.77267310144511*N + 2273.26898554886,\n",
       "       1.77771254215702*N + 2222.87457842983,\n",
       "       1.78264026726091*N + 2173.59732739089], dtype=object)"
      ]
     },
     "execution_count": 52,
     "metadata": {},
     "output_type": "execute_result"
    }
   ],
   "source": [
    "t = np.linspace(0, 4, 100)\n",
    "y_n(t)"
   ]
  },
  {
   "cell_type": "code",
   "execution_count": 42,
   "metadata": {
    "ExecuteTime": {
     "end_time": "2018-02-17T03:54:30.827565Z",
     "start_time": "2018-02-17T03:54:30.571384Z"
    }
   },
   "outputs": [
    {
     "data": {
      "image/png": "[encoded data removed]",
      "text/plain": [
       "<matplotlib.figure.Figure at 0x1d087d592e8>"
      ]
     },
     "metadata": {
      "image/png": {
       "height": 280,
       "width": 568
      }
     },
     "output_type": "display_data"
    }
   ],
   "source": [
    "fig, ax = plt.subplots(figsize=(8, 4))\n",
    "\n",
    "t = np.linspace(0, 10, 100)\n",
    "\n",
    "for a in [0.02, 0.04, 0.06]:\n",
    "    ax.scatter(t, y_n(t), label=r\"difference equation\")\n",
    "\n",
    "ax.set_title(r\"$%s$\" % sympy.latex(ode_sol), fontsize=18)\n",
    "ax.set_xlabel(r\"$n$\", fontsize=18)\n",
    "ax.set_ylabel(r\"$y$\", fontsize=18)\n",
    "#ax.legend()\n",
    "\n",
    "fig.tight_layout()"
   ]
  },
  {
   "cell_type": "code",
   "execution_count": null,
   "metadata": {},
   "outputs": [],
   "source": []
  },
  {
   "cell_type": "code",
   "execution_count": 95,
   "metadata": {
    "ExecuteTime": {
     "end_time": "2018-02-17T03:27:24.775241Z",
     "start_time": "2018-02-17T03:27:24.277918Z"
    }
   },
   "outputs": [
    {
     "data": {
      "image/png": "[encoded data removed]",
      "text/latex": [
       "$$1$$"
      ],
      "text/plain": [
       "1"
      ]
     },
     "execution_count": 95,
     "metadata": {},
     "output_type": "execute_result"
    }
   ],
   "source": [
    "n, r,C0,C1, y0, ybar = sym.symbols(\"n, r,C0,C1, y0, ybar\")\n",
    "y = sym.Function(\"y\")\n",
    "yn = R**n (C0*sym.cos(Rad*n)+ C1*sym.sin(Rad*n)   )\n",
    "yn"
   ]
  },
  {
   "cell_type": "code",
   "execution_count": null,
   "metadata": {},
   "outputs": [],
   "source": []
  },
  {
   "cell_type": "markdown",
   "metadata": {},
   "source": [
    "### A first order homogeneous differential equation"
   ]
  },
  {
   "cell_type": "code",
   "execution_count": null,
   "metadata": {
    "ExecuteTime": {
     "end_time": "2018-02-17T03:26:43.172897Z",
     "start_time": "2018-02-17T03:26:32.707Z"
    }
   },
   "outputs": [],
   "source": [
    "#https://www.youtube.com/watch?v=4X0SGGrXDiI\n",
    "\n",
    "a, t, y0 = sym.symbols(\"a t y0\")\n",
    "y = sym.Function(\"y\")"
   ]
  },
  {
   "cell_type": "code",
   "execution_count": null,
   "metadata": {
    "ExecuteTime": {
     "end_time": "2018-02-17T03:26:43.173398Z",
     "start_time": "2018-02-17T03:26:32.709Z"
    }
   },
   "outputs": [],
   "source": [
    "ode=sym.Eq(y(t).diff(t), a*y(t))\n",
    "ode"
   ]
  },
  {
   "cell_type": "markdown",
   "metadata": {},
   "source": [
    "- y: money in bank\n",
    "- a: interest rate, for example 6%\n",
    "- t: time year\n"
   ]
  },
  {
   "cell_type": "code",
   "execution_count": null,
   "metadata": {
    "ExecuteTime": {
     "end_time": "2018-02-17T03:26:43.173900Z",
     "start_time": "2018-02-17T03:26:32.711Z"
    }
   },
   "outputs": [],
   "source": [
    "sym.classify_ode(ode)"
   ]
  },
  {
   "cell_type": "code",
   "execution_count": null,
   "metadata": {
    "ExecuteTime": {
     "end_time": "2018-02-17T03:26:43.174903Z",
     "start_time": "2018-02-17T03:26:32.712Z"
    }
   },
   "outputs": [],
   "source": [
    "ode_sol=sym.dsolve(ode, y(t), hint=\"separable\")\n",
    "ode_sol"
   ]
  },
  {
   "cell_type": "code",
   "execution_count": null,
   "metadata": {
    "ExecuteTime": {
     "end_time": "2018-02-17T03:26:43.175403Z",
     "start_time": "2018-02-17T03:26:32.713Z"
    }
   },
   "outputs": [],
   "source": [
    "ode_sol.free_symbols"
   ]
  },
  {
   "cell_type": "code",
   "execution_count": null,
   "metadata": {
    "ExecuteTime": {
     "end_time": "2018-02-17T03:26:43.176407Z",
     "start_time": "2018-02-17T03:26:32.716Z"
    }
   },
   "outputs": [],
   "source": [
    "ics = {y(0): y0}"
   ]
  },
  {
   "cell_type": "code",
   "execution_count": null,
   "metadata": {
    "ExecuteTime": {
     "end_time": "2018-02-17T03:26:43.177408Z",
     "start_time": "2018-02-17T03:26:32.718Z"
    }
   },
   "outputs": [],
   "source": [
    "def apply_ics(sol, ics, x, known_params):\n",
    "    \"\"\"\n",
    "    Apply the initial conditions (ics), given as a dictionary on\n",
    "    the form ics = {y(0): y0: y(x).diff(x).subs(x, 0): yp0, ...}\n",
    "    to the solution of the ODE with indepdendent variable x.\n",
    "    The undetermined integration constants C1, C2, ... are extracted\n",
    "    from the free symbols of the ODE solution, excluding symbols in\n",
    "    the known_params list.\n",
    "    \"\"\"\n",
    "    free_params = sol.free_symbols - set(known_params)\n",
    "    eqs = [(sol.lhs.diff(x, n) - sol.rhs.diff(x, n)).subs(x, 0).subs(ics)\n",
    "           for n in range(len(ics))]\n",
    "    sol_params = sym.solve(eqs, free_params)\n",
    "    return sol.subs(sol_params)"
   ]
  },
  {
   "cell_type": "code",
   "execution_count": null,
   "metadata": {
    "ExecuteTime": {
     "end_time": "2018-02-17T03:26:43.178411Z",
     "start_time": "2018-02-17T03:26:32.720Z"
    }
   },
   "outputs": [],
   "source": [
    "apply_ics(ode_sol, ics, t, [a])"
   ]
  },
  {
   "cell_type": "code",
   "execution_count": null,
   "metadata": {},
   "outputs": [],
   "source": []
  },
  {
   "cell_type": "markdown",
   "metadata": {},
   "source": [
    "### Second Order Differential Equation"
   ]
  },
  {
   "cell_type": "markdown",
   "metadata": {},
   "source": [
    "#### Define the differential equation as a sym.Eq()"
   ]
  },
  {
   "cell_type": "code",
   "execution_count": null,
   "metadata": {
    "ExecuteTime": {
     "end_time": "2018-02-17T03:26:43.178913Z",
     "start_time": "2018-02-17T03:26:32.722Z"
    }
   },
   "outputs": [],
   "source": [
    "x,t, b,c,d, n, C0, y0 = sym.symbols(\"x t  b c d n C0 y0\")\n",
    "f = sym.Function(\"f\")"
   ]
  },
  {
   "cell_type": "code",
   "execution_count": null,
   "metadata": {
    "ExecuteTime": {
     "end_time": "2018-02-17T03:26:43.179414Z",
     "start_time": "2018-02-17T03:26:32.724Z"
    }
   },
   "outputs": [],
   "source": [
    "diffeq = sym.Eq(f(t).diff(t, t) - 2*f(t).diff(t) + f(t), sym.sin(t))\n",
    "diffeq"
   ]
  },
  {
   "cell_type": "markdown",
   "metadata": {},
   "source": [
    "#### Solve differential equation"
   ]
  },
  {
   "cell_type": "code",
   "execution_count": null,
   "metadata": {
    "ExecuteTime": {
     "end_time": "2018-02-17T03:26:43.180416Z",
     "start_time": "2018-02-17T03:26:32.726Z"
    }
   },
   "outputs": [],
   "source": [
    "soln = sym.dsolve(diffeq,f(t))\n",
    "soln"
   ]
  },
  {
   "cell_type": "markdown",
   "metadata": {},
   "source": [
    "#### Boundary conditions\n",
    "This isn't implemented yet in `dsolve` -- it's on the \"to do\" list<br>\n",
    "For now, solve for contants on your own. For example, if\n",
    "$$ f(0) = 1\\quad\\mbox{and}\\quad\\left.\\frac{df}{dx}\\right|_0 = 0,  $$\n",
    "solve the following equations:"
   ]
  },
  {
   "cell_type": "code",
   "execution_count": null,
   "metadata": {
    "ExecuteTime": {
     "end_time": "2018-02-17T03:26:43.180918Z",
     "start_time": "2018-02-17T03:26:32.728Z"
    }
   },
   "outputs": [],
   "source": [
    "constants = sym.solve([soln.rhs.subs(t,0) - 1, soln.rhs.diff(t,1).subs(t,0)- 0])\n",
    "constants"
   ]
  },
  {
   "cell_type": "code",
   "execution_count": null,
   "metadata": {
    "ExecuteTime": {
     "end_time": "2018-02-17T03:26:43.181920Z",
     "start_time": "2018-02-17T03:26:32.729Z"
    }
   },
   "outputs": [],
   "source": [
    "C1, C2 = sym.symbols('C1,C2')\n",
    "soln = soln.subs(constants)\n",
    "soln"
   ]
  },
  {
   "cell_type": "markdown",
   "metadata": {},
   "source": [
    "#### Convert soln to python function for numerical evaluation/plotting\n",
    "I'm not sure why I had to specify the modulue for conversion of sympy functions.<br>\n",
    "See http://docs.sympy.org/latest/modules/utilities/lambdify.html<br>\n",
    "In previous examples, sympy figured out a good module \"on its own.\" "
   ]
  },
  {
   "cell_type": "code",
   "execution_count": null,
   "metadata": {
    "ExecuteTime": {
     "end_time": "2018-02-17T03:26:43.182924Z",
     "start_time": "2018-02-17T03:26:32.731Z"
    }
   },
   "outputs": [],
   "source": [
    "func = sym.lambdify(t,soln.rhs,'numpy')"
   ]
  },
  {
   "cell_type": "code",
   "execution_count": null,
   "metadata": {
    "ExecuteTime": {
     "end_time": "2018-02-17T03:26:43.184928Z",
     "start_time": "2018-02-17T03:26:32.733Z"
    }
   },
   "outputs": [],
   "source": [
    "xx = sp.arange(-1,1,.01)  # name = xx so it won't collide with symbol x\n",
    "y = func(xx)\n",
    "plt.figure(1)\n",
    "plt.plot(xx,y);"
   ]
  },
  {
   "cell_type": "code",
   "execution_count": null,
   "metadata": {
    "ExecuteTime": {
     "end_time": "2018-02-17T03:26:43.185931Z",
     "start_time": "2018-02-17T03:26:32.734Z"
    }
   },
   "outputs": [],
   "source": [
    "from IPython.core.display import HTML, Image\n",
    "css_file = '../../custom.css'\n",
    "HTML(open(css_file, 'r').read())"
   ]
  },
  {
   "cell_type": "code",
   "execution_count": null,
   "metadata": {
    "ExecuteTime": {
     "end_time": "2018-02-17T03:26:43.187435Z",
     "start_time": "2018-02-17T03:26:32.736Z"
    }
   },
   "outputs": [],
   "source": [
    "#%load_ext watermark\n",
    "%watermark -v -m -p sympy,matplotlib -g"
   ]
  },
  {
   "cell_type": "code",
   "execution_count": null,
   "metadata": {},
   "outputs": [],
   "source": []
  }
 ],
 "metadata": {
  "anaconda-cloud": {},
  "kernelspec": {
   "display_name": "Python 3",
   "language": "python",
   "name": "python3"
  },
  "language_info": {
   "codemirror_mode": {
    "name": "ipython",
    "version": 3
   },
   "file_extension": ".py",
   "mimetype": "text/x-python",
   "name": "python",
   "nbconvert_exporter": "python",
   "pygments_lexer": "ipython3",
   "version": "3.6.4"
  }
 },
 "nbformat": 4,
 "nbformat_minor": 1
}
