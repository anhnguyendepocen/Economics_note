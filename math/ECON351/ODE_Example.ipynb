{
 "cells": [
  {
   "cell_type": "markdown",
   "metadata": {},
   "source": [
    "# Example: Solving Ordinary Differential Equations"
   ]
  },
  {
   "cell_type": "markdown",
   "metadata": {},
   "source": [
    "In this notebook we will use Python to solve differential equations numerically."
   ]
  },
  {
   "cell_type": "code",
   "execution_count": null,
   "metadata": {
    "collapsed": true
   },
   "outputs": [],
   "source": [
    "# Import the required modules\n",
    "import numpy as np\n",
    "import matplotlib.pyplot as plt\n",
    "# This makes the plots appear inside the notebook\n",
    "%matplotlib inline"
   ]
  },
  {
   "cell_type": "markdown",
   "metadata": {},
   "source": [
    "### First-order equations"
   ]
  },
  {
   "cell_type": "markdown",
   "metadata": {},
   "source": [
    "Let's try a first-order ordinary differential equation (ODE), say:\n",
    "$$\\quad \n",
    "\\frac{dy}{dx} + y = x, \\quad \\quad y(0) = 1.\n",
    "$$\n",
    "This has a closed-form solution\n",
    "$$\\quad\n",
    "y = x - 1 + 2e^{-x}\n",
    "$$\n",
    "(Exercise: Show this, by first finding the integrating factor.)\n",
    "\n",
    "We are going to solve this numerically.\n",
    "\n",
    "First, let's import the \"scipy\" module and look at the help file for the relevant function, \"integrate.odeint\","
   ]
  },
  {
   "cell_type": "code",
   "execution_count": null,
   "metadata": {
    "collapsed": true
   },
   "outputs": [],
   "source": [
    "from scipy.integrate import odeint\n",
    "\n",
    "# Define a function which calculates the derivative\n",
    "def dy_dx(y, x):\n",
    "    return x - y\n",
    "\n",
    "xs = np.linspace(0,5,100)\n",
    "y0 = 1.0  # the initial condition\n",
    "ys = odeint(dy_dx, y0, xs)\n",
    "ys = np.array(ys).flatten()"
   ]
  },
  {
   "cell_type": "code",
   "execution_count": null,
   "metadata": {},
   "outputs": [],
   "source": [
    "# Plot the numerical solution\n",
    "plt.rcParams.update({'font.size': 14})  # increase the font size\n",
    "plt.xlabel(\"x\")\n",
    "plt.ylabel(\"y\")\n",
    "plt.plot(xs, ys);"
   ]
  },
  {
   "cell_type": "markdown",
   "metadata": {},
   "source": [
    "Compare the numerical solution with the analytical solution by showing both on the same plot"
   ]
  },
  {
   "cell_type": "code",
   "execution_count": null,
   "metadata": {},
   "outputs": [],
   "source": [
    "y_exact = xs - 1 + 2*np.exp(-xs)\n",
    "y_difference = ys - y_exact\n",
    "plt.plot(xs, ys, xs, y_exact, \"+\");"
   ]
  },
  {
   "cell_type": "markdown",
   "metadata": {},
   "source": [
    "Now take a look at the difference between the two series:"
   ]
  },
  {
   "cell_type": "code",
   "execution_count": null,
   "metadata": {},
   "outputs": [],
   "source": [
    "y_diff = np.abs(y_exact - ys)\n",
    "plt.semilogy(xs, y_diff)\n",
    "plt.ylabel(\"Error\")\n",
    "plt.xlabel(\"x\")\n",
    "plt.title(\"Error in numerical integration\");\n",
    "# Note the logarithmic scale on the y-axis. "
   ]
  },
  {
   "cell_type": "markdown",
   "metadata": {},
   "source": [
    "Exercise: Experiment with the options of \"odeint\" to improve the accuracy of the integration."
   ]
  },
  {
   "cell_type": "markdown",
   "metadata": {},
   "source": [
    "## Second-order ordinary differential equations"
   ]
  },
  {
   "cell_type": "markdown",
   "metadata": {},
   "source": [
    "Suppose we have a second-order ODE such as a damped simple harmonic motion equation,\n",
    "$$\n",
    "\\quad y'' + 2 y' + 2 y = \\cos(2x), \\quad \\quad y(0) = 0, \\; y'(0) = 0\n",
    "$$\n",
    "We can turn this into two first-order equations by defining a new depedent variable. For example,\n",
    "$$\n",
    "\\quad z \\equiv y' \\quad \\Rightarrow \\quad z' + 2 z + 2y = \\cos(2x), \\quad z(0)=y(0) = 0.\n",
    "$$\n",
    "We can solve this system of ODEs using \"odeint\" with lists, as follows:"
   ]
  },
  {
   "cell_type": "code",
   "execution_count": null,
   "metadata": {
    "collapsed": true
   },
   "outputs": [],
   "source": [
    "def dU_dx(U, x):\n",
    "    # Here U is a vector such that y=U[0] and z=U[1]. This function should return [y', z']\n",
    "    return [U[1], -2*U[1] - 2*U[0] + np.cos(2*x)]\n",
    "U0 = [0, 0]\n",
    "xs = np.linspace(0, 10, 200)\n",
    "Us = odeint(dU_dx, U0, xs)\n",
    "ys = Us[:,0]"
   ]
  },
  {
   "cell_type": "code",
   "execution_count": null,
   "metadata": {},
   "outputs": [],
   "source": [
    "plt.xlabel(\"x\")\n",
    "plt.ylabel(\"y\")\n",
    "plt.title(\"Damped harmonic oscillator\")\n",
    "plt.plot(xs,ys);"
   ]
  },
  {
   "cell_type": "markdown",
   "metadata": {},
   "source": [
    "## Predator-Prey Equations"
   ]
  },
  {
   "cell_type": "markdown",
   "metadata": {},
   "source": [
    "Also known as <a href=\"http://en.wikipedia.org/wiki/Lotka-Volterra_equation\">Lotka-Volterra equations</a>, the predator-prey equations are a pair of first-order non-linear ordinary differential equations. They represent a simplified model of the change in populations of two species which interact via predation. For example, foxes (predators) and rabbits (prey). Let $x$ and $y$ represent rabbit and fox populations, respectively. Then\n",
    "\\begin{align}\n",
    " \\frac{dx}{dt} &= x (a - b y) \\\\\n",
    " \\frac{dy}{dt} &= -y (c - d x) \n",
    "\\end{align}\n",
    "Here $a$, $b$, $c$ and $d$ are parameters, which are assumed to be positive. "
   ]
  },
  {
   "cell_type": "code",
   "execution_count": null,
   "metadata": {
    "collapsed": true
   },
   "outputs": [],
   "source": [
    "a,b,c,d = 1,1,1,1\n",
    "\n",
    "def dP_dt(P, t):\n",
    "    return [P[0]*(a - b*P[1]), -P[1]*(c - d*P[0])]\n",
    "\n",
    "ts = np.linspace(0, 12, 100)\n",
    "P0 = [1.5, 1.0]\n",
    "Ps = odeint(dP_dt, P0, ts)\n",
    "prey = Ps[:,0]\n",
    "predators = Ps[:,1]"
   ]
  },
  {
   "cell_type": "code",
   "execution_count": null,
   "metadata": {},
   "outputs": [],
   "source": [
    "plt.plot(ts, prey, \"+\", label=\"Rabbits\")\n",
    "plt.plot(ts, predators, \"x\", label=\"Foxes\")\n",
    "plt.xlabel(\"Time\")\n",
    "plt.ylabel(\"Population\")\n",
    "plt.legend();"
   ]
  },
  {
   "cell_type": "code",
   "execution_count": null,
   "metadata": {},
   "outputs": [],
   "source": [
    "plt.plot(prey, predators, \"-\")\n",
    "plt.xlabel(\"Rabbits\")\n",
    "plt.ylabel(\"Foxes\")\n",
    "plt.title(\"Rabbits vs Foxes\");"
   ]
  },
  {
   "cell_type": "markdown",
   "metadata": {},
   "source": [
    "The plot above illustrates that the system is periodic. Let's plot a few more curves in the phase space."
   ]
  },
  {
   "cell_type": "code",
   "execution_count": null,
   "metadata": {},
   "outputs": [],
   "source": [
    "ic = np.linspace(1.0, 3.0, 21)\n",
    "for r in ic:\n",
    "    P0 = [r, 1.0]\n",
    "    Ps = odeint(dP_dt, P0, ts)\n",
    "    plt.plot(Ps[:,0], Ps[:,1], \"-\")\n",
    "plt.xlabel(\"Rabbits\")\n",
    "plt.ylabel(\"Foxes\")\n",
    "plt.title(\"Rabbits vs Foxes\");"
   ]
  }
 ],
 "metadata": {
  "kernelspec": {
   "display_name": "Python 3",
   "language": "python",
   "name": "python3"
  },
  "language_info": {
   "codemirror_mode": {
    "name": "ipython",
    "version": 3
   },
   "file_extension": ".py",
   "mimetype": "text/x-python",
   "name": "python",
   "nbconvert_exporter": "python",
   "pygments_lexer": "ipython3",
   "version": "3.6.2"
  }
 },
 "nbformat": 4,
 "nbformat_minor": 1
}
