{
 "cells": [
  {
   "cell_type": "code",
   "execution_count": null,
   "metadata": {
    "ExecuteTime": {
     "end_time": "2018-01-27T06:05:00.774016Z",
     "start_time": "2018-01-27T06:05:00.575501Z"
    },
    "collapsed": true
   },
   "outputs": [],
   "source": [
    "import matplotlib.pyplot as plt\n",
    "import numpy as np\n",
    "import warnings\n",
    "warnings.filterwarnings('ignore')\n",
    "plt.style.use(\"fivethirtyeight\")\n",
    "%config InlineBackend.figure_format='retina'\n",
    "#ref: "
   ]
  },
  {
   "cell_type": "markdown",
   "metadata": {},
   "source": [
    "General solution +  boundary condition/particular solution = complete solution/ descripton of the behavior of the stystem over time\n",
    "\n",
    "\n",
    "\n",
    "explicit solution/close form\n",
    "\n",
    "nonlinear system\n",
    "\n",
    "numerical solution \n",
    "\n",
    "\n",
    "\n",
    "\n",
    "\n",
    "## 1.3 Autonomous systems\n",
    "\n",
    "time does not enter as a saparate argument in f \n",
    "\n",
    "\n",
    "\n",
    "solution sequence by iterations.\n",
    "\n",
    "transition function : the flow of the system\n",
    "\n",
    "\n",
    "positive orbit\n",
    "\n",
    "\n",
    "negative orbit\n",
    "\n",
    "\n",
    "analytical and graphical techniques\n",
    "\n",
    "qualitative behavior of the system.\n",
    "\n",
    "\n",
    "bifurcation points\n",
    "\n",
    "\n",
    "phase diagram convenient device \n",
    "\n",
    "vector field $\\delta x = d(x,t)$\n",
    "\n",
    "\n",
    "\n",
    "\n",
    "asymptotic or long-run behavior\n",
    "\n",
    "\n",
    "\n",
    "## 1.4 steady states, periodic equilibria ,and  stablility\n",
    "\n",
    "\n",
    "\n",
    "\n",
    "\n",
    "stationary states or fixed points of nonlinear autonomous dynamical systems\n",
    "\n",
    "1. stable, Liapunov stable\n",
    "\n",
    "2. asmptotoically stable \n",
    "\n",
    "  a. basin of attraction or region of asymptotic stablility of $\\bar x$\n",
    "  \n",
    "  b. globally asymptotically stable\n",
    "\n",
    "\n",
    "\n",
    "\n",
    "\n",
    "\n",
    "\n",
    "\n",
    "\n",
    "\n",
    "\n",
    "# chapter 2 scalar linear equations\n",
    "\n",
    "\n",
    "A first-order linear difference equation\n",
    "\n",
    "$$x_{t+1} = a_t x_t + b_t$$\n",
    "\n",
    "\n",
    "The generel solution:\n",
    "    \n",
    "$$x_t^g = x_t^c + x_t^p$$\n",
    "\n",
    "\n",
    "1. complementatry function $x_t^c$ is general sulution to the corresponding homogeneous equation \n",
    "$$x_{t+1} = a_t x_t$$.\n",
    "\n",
    "2. $x_t^p$ is any particular solution to the full non-homogeneous equation. \n",
    "\n",
    "## 2.1 homogeneous equation \n",
    "\n",
    "### Phase diagram \n",
    "\n",
    "### An exact solution\n",
    "\n",
    "general solution for homogenous equation:\n",
    "    \n",
    "    \n",
    "$$x_t = c a^t$$\n",
    "\n",
    "\n",
    "Boundary conditions allow us to determine the appropriate value fo the arbitray constant c in the general solution.\n",
    "\n",
    "## 2.2 Autonomous equations. \n",
    "\n",
    "A natural candidate for the role of the particular solution is a constant solution $x_t = \\bar x$.\n",
    "\n",
    "steady state or staionary solution.\n",
    "\n",
    "$$x_t^p =  \\bar x = b/(1-a)$$\n",
    "\n",
    "The generel solution for non-homegenous equation:\n",
    "    \n",
    "$$x_t^g = x_t^c + x_t^p = \\bar x + c a^t$$\n",
    "\n",
    "\n",
    "\n",
    "With boundary condition: $x_0 = \\bar x + c$\n",
    "    \n",
    "$$c = x_0 - \\bar x$$\n",
    "\n",
    "and then \n",
    "\n",
    "$$x_t - \\bar x = (x_0 - \\bar x) a^t$$\n",
    "\n",
    "\n",
    "\n",
    "1. start at $x_0 = \\bar x $, stay at steady state.\n",
    "\n",
    "2. start at $x_0 \\ne \\bar x $, \n",
    "\n",
    "    a. $|a| < 1$,converg,\n",
    "    \n",
    "    b. $|a| > 1$,diverge.\n",
    "    \n",
    "    \n",
    "For $a = 1$,\n",
    "\n",
    "$$x_t = x_0 + bt $$"
   ]
  },
  {
   "cell_type": "code",
   "execution_count": null,
   "metadata": {
    "ExecuteTime": {
     "end_time": "2018-01-27T06:07:04.760398Z",
     "start_time": "2018-01-27T06:07:04.753881Z"
    },
    "collapsed": true
   },
   "outputs": [],
   "source": [
    "def subplots(fs):\n",
    "    \"Custom subplots with axes throught the origin\"\n",
    "    fig, ax = plt.subplots(figsize=fs)\n",
    "\n",
    "    # Set the axes through the origin\n",
    "    for spine in ['left', 'bottom']:\n",
    "        ax.spines[spine].set_position('zero')\n",
    "        ax.spines[spine].set_color('green')\n",
    "    for spine in ['right', 'top']:\n",
    "        ax.spines[spine].set_color('none')\n",
    "\n",
    "    return fig, ax"
   ]
  },
  {
   "cell_type": "code",
   "execution_count": null,
   "metadata": {
    "ExecuteTime": {
     "end_time": "2018-01-27T06:07:10.594629Z",
     "start_time": "2018-01-27T06:07:10.522425Z"
    },
    "collapsed": true
   },
   "outputs": [],
   "source": [
    "def plot45(g, xmin, xmax, x0, num_arrows, var='x', show_num=3):\n",
    "\n",
    "    xgrid = np.linspace(xmin, xmax, 200)\n",
    "\n",
    "    fig, ax = subplots((6.5, 6))\n",
    "    ax.set_xlim(xmin, xmax)\n",
    "    ax.set_ylim(xmin, xmax)\n",
    "\n",
    "    hw = (xmax - xmin) * 0.01\n",
    "    hl = 2 * hw\n",
    "    arrow_args = dict(fc=\"k\", ec=\"k\", head_width=hw, \n",
    "            length_includes_head=True, lw=1,\n",
    "            alpha=0.6, head_length=hl)\n",
    "\n",
    "    ax.plot(xgrid, g(xgrid), 'b-', lw=2, alpha=0.6, label='g')\n",
    "    ax.plot(xgrid, xgrid, 'k-', lw=1, alpha=0.7, label='45')\n",
    "\n",
    "    x = x0\n",
    "    xticks = [xmin]\n",
    "    xtick_labels = [xmin]\n",
    "    for i in range(num_arrows):\n",
    "        if i == 0:\n",
    "            ax.arrow(x, 0.0, 0.0, g(x), **arrow_args) # x, y, dx, dy\n",
    "        else:\n",
    "            ax.arrow(x, x, 0.0, g(x) - x, **arrow_args) \n",
    "            if i < show_num:\n",
    "                ax.plot((x, x), (0, x), 'k', ls='dotted')\n",
    "        ax.arrow(x, g(x), g(x) - x, 0, **arrow_args)\n",
    "        if i < show_num:\n",
    "            xticks.append(x)\n",
    "            xtick_labels.append(r'${}_{}$'.format(var, str(i)))\n",
    "        x = g(x)\n",
    "    if i < show_num:\n",
    "        xticks.append(x)\n",
    "        xtick_labels.append(r'${}_{}$'.format(var, str(i+1)))\n",
    "        ax.plot((x, x), (0, x), 'k-', ls='dotted')\n",
    "\n",
    "    xticks.append(xmax)\n",
    "    xtick_labels.append(xmax)\n",
    "    ax.set_xticks(xticks)\n",
    "    ax.set_yticks(xticks)\n",
    "    ax.set_xticklabels(xtick_labels)\n",
    "    ax.set_yticklabels(xtick_labels)\n",
    "\n",
    "    bbox = (0., 1.04, 1., .104)\n",
    "    legend_args = {'bbox_to_anchor': bbox, 'loc': 'upper right'}\n",
    "\n",
    "    ax.legend(ncol=2, frameon=False, **legend_args)\n",
    "    plt.show()"
   ]
  },
  {
   "cell_type": "code",
   "execution_count": null,
   "metadata": {
    "ExecuteTime": {
     "end_time": "2018-01-27T06:07:19.603093Z",
     "start_time": "2018-01-27T06:07:19.588036Z"
    },
    "collapsed": true
   },
   "outputs": [],
   "source": [
    "def ts_plot(g, xmin, xmax, x0, ts_length, var='x'):\n",
    "    fig, ax = subplots((7, 5.5))\n",
    "    ax.set_ylim(xmin, xmax)\n",
    "    ax.set_xlabel(r'$t$', fontsize=14)\n",
    "    ax.set_ylabel(r'${}_t$'.format(var), fontsize=14)\n",
    "    x = np.empty(ts_length)\n",
    "    x[0] = x0\n",
    "    for t in range(ts_length-1):\n",
    "        x[t+1] = g(x[t])\n",
    "    ax.plot(range(ts_length), \n",
    "            x, \n",
    "            'bo-', \n",
    "            alpha=0.6, \n",
    "            lw=2, \n",
    "            label=r'${}_t$'.format(var))\n",
    "    ax.legend(loc='best')\n",
    "    ax.set_xticks(range(ts_length))\n",
    "    ax.grid()\n",
    "    plt.show()"
   ]
  },
  {
   "cell_type": "markdown",
   "metadata": {},
   "source": [
    "## Difference Equation: converge \n",
    "\n",
    "x= 2 - 0.5 * x"
   ]
  },
  {
   "cell_type": "code",
   "execution_count": null,
   "metadata": {
    "ExecuteTime": {
     "end_time": "2018-01-27T06:07:26.760837Z",
     "start_time": "2018-01-27T06:07:26.333187Z"
    },
    "collapsed": true
   },
   "outputs": [],
   "source": [
    "\n",
    "x0 = 0.4\n",
    "num_arrows = 3\n",
    "ts_length=12\n",
    "xmin, xmax = -1, 6\n",
    "g = lambda x: 2 - 0.5 * x\n",
    "plot45(g, xmin, xmax, x0, num_arrows)\n",
    "ts_plot(g, xmin, xmax, x0, ts_length)"
   ]
  },
  {
   "cell_type": "markdown",
   "metadata": {},
   "source": [
    "### Diverge\n",
    "x = 1 - 1.2 * x"
   ]
  },
  {
   "cell_type": "code",
   "execution_count": null,
   "metadata": {
    "ExecuteTime": {
     "end_time": "2018-01-27T06:08:53.803484Z",
     "start_time": "2018-01-27T06:08:53.610973Z"
    },
    "collapsed": true
   },
   "outputs": [],
   "source": [
    "x0 = 0.4\n",
    "num_arrows = 4\n",
    "ts_length=12\n",
    "xmin, xmax = -.5, .8\n",
    "g = lambda x: 1 -1.2 * x\n",
    "plot45(g, xmin, xmax, x0, num_arrows)\n",
    "ts_plot(g, xmin, xmax, x0, ts_length)"
   ]
  },
  {
   "cell_type": "markdown",
   "metadata": {},
   "source": [
    "### Nonlinear Difference Equation\n",
    "\n",
    "x = 2.125 / (1 + x**(-4))"
   ]
  },
  {
   "cell_type": "code",
   "execution_count": null,
   "metadata": {
    "ExecuteTime": {
     "end_time": "2018-01-27T06:11:35.581510Z",
     "start_time": "2018-01-27T06:11:35.377465Z"
    }
   },
   "outputs": [],
   "source": [
    "\n",
    "x0 = 0.85\n",
    "num_arrows = 3\n",
    "xmin, xmax = 0, 2\n",
    "ts_length = 12\n",
    "h = lambda x: 1 / (1 + x**(-4)) \n",
    "c = xmax / h(xmax)\n",
    "g = lambda x: c / (1 + x**(-4))\n",
    "plot45(g, xmin, xmax, x0, num_arrows)\n",
    "ts_plot(g, xmin, xmax, x0, ts_length)"
   ]
  },
  {
   "cell_type": "markdown",
   "metadata": {
    "ExecuteTime": {
     "end_time": "2018-01-27T06:11:53.846562Z",
     "start_time": "2018-01-27T06:11:53.844055Z"
    }
   },
   "source": [
    "#### Ininitial Value Matter"
   ]
  },
  {
   "cell_type": "code",
   "execution_count": null,
   "metadata": {
    "ExecuteTime": {
     "end_time": "2018-01-27T06:13:39.967173Z",
     "start_time": "2018-01-27T06:13:39.733007Z"
    },
    "collapsed": true
   },
   "outputs": [],
   "source": [
    "x0 = 1.1\n",
    "num_arrows = 3\n",
    "xmin, xmax = 0, 2\n",
    "ts_length = 12\n",
    "h = lambda x: 1 / (1 + x**(-4))\n",
    "c = xmax / h(xmax)\n",
    "g = lambda x: c / (1 + x**(-4))\n",
    "plot45(g, xmin, xmax, x0, num_arrows)\n",
    "ts_plot(g, xmin, xmax, x0, ts_length)"
   ]
  },
  {
   "cell_type": "markdown",
   "metadata": {},
   "source": [
    "### Converge\n",
    "\n",
    "\n",
    "\n",
    "A, s, alpha, delta = 2, 0.3, 0.3, 0.4\n",
    "\n",
    "\n",
    "k = A * s * k**alpha + (1 - delta) * k"
   ]
  },
  {
   "cell_type": "code",
   "execution_count": null,
   "metadata": {
    "ExecuteTime": {
     "end_time": "2018-01-27T06:14:20.859622Z",
     "start_time": "2018-01-27T06:14:20.638534Z"
    },
    "collapsed": true
   },
   "outputs": [],
   "source": [
    "A, s, alpha, delta = 2, 0.3, 0.3, 0.4\n",
    "x0 = 0.25\n",
    "num_arrows = 8\n",
    "ts_length = 12\n",
    "xmin, xmax = 0, 3\n",
    "g = lambda k: A * s * k**alpha + (1 - delta) * k\n",
    "plot45(g, xmin, xmax, x0, num_arrows, var='k', show_num=6)\n",
    "ts_plot(g, xmin, xmax, x0, ts_length, var='k')"
   ]
  },
  {
   "cell_type": "code",
   "execution_count": null,
   "metadata": {
    "ExecuteTime": {
     "end_time": "2018-01-27T06:25:16.797541Z",
     "start_time": "2018-01-27T06:25:16.591507Z"
    },
    "collapsed": true
   },
   "outputs": [],
   "source": [
    "A, s, alpha, delta = 2, 0.3, 0.3, 0.4\n",
    "x0 = 2.9\n",
    "num_arrows = 5\n",
    "ts_length = 12\n",
    "xmin, xmax = 0, 3\n",
    "g = lambda k: A * s * k**alpha + (1 - delta) * k\n",
    "plot45(g, xmin, xmax, x0, num_arrows, var='k', show_num=4)\n",
    "ts_plot(g, xmin, xmax, x0, ts_length, var='k')"
   ]
  },
  {
   "cell_type": "markdown",
   "metadata": {},
   "source": [
    "### Logistics Growth of Resource (Nonlinear)\n",
    "x =4  x  (1 - x)"
   ]
  },
  {
   "cell_type": "code",
   "execution_count": null,
   "metadata": {
    "ExecuteTime": {
     "end_time": "2018-01-27T06:25:45.703203Z",
     "start_time": "2018-01-27T06:25:45.483603Z"
    },
    "collapsed": true
   },
   "outputs": [],
   "source": [
    "x0 = 0.3\n",
    "num_arrows = 8\n",
    "xmin, xmax = 0, 1\n",
    "ts_length = 20\n",
    "g = lambda x: 4 * x * (1 - x)\n",
    "plot45(g, xmin, xmax, x0, num_arrows)\n",
    "ts_plot(g, xmin, xmax, x0, ts_length)"
   ]
  },
  {
   "cell_type": "markdown",
   "metadata": {},
   "source": [
    "### Oscillation\n",
    "\n",
    "Slope matters"
   ]
  },
  {
   "cell_type": "code",
   "execution_count": null,
   "metadata": {
    "ExecuteTime": {
     "end_time": "2018-01-27T06:27:27.423733Z",
     "start_time": "2018-01-27T06:27:27.004101Z"
    },
    "collapsed": true
   },
   "outputs": [],
   "source": [
    "num_arrows = 3\n",
    "xmin, xmax = 0, 1\n",
    "ts_length = 100\n",
    "r = 3.2\n",
    "xstar1 = 0.8 \n",
    "xstar2 = 0.5\n",
    "x0 = 0.4\n",
    "g = lambda x: r * x * (1 - x)\n",
    "plot45(g, xmin, xmax, x0, num_arrows)\n",
    "ts_plot(g, xmin, xmax, x0, ts_length)"
   ]
  },
  {
   "cell_type": "code",
   "execution_count": null,
   "metadata": {
    "collapsed": true
   },
   "outputs": [],
   "source": []
  },
  {
   "cell_type": "code",
   "execution_count": null,
   "metadata": {
    "collapsed": true
   },
   "outputs": [],
   "source": []
  },
  {
   "cell_type": "code",
   "execution_count": null,
   "metadata": {
    "collapsed": true
   },
   "outputs": [],
   "source": []
  },
  {
   "cell_type": "code",
   "execution_count": null,
   "metadata": {
    "collapsed": true
   },
   "outputs": [],
   "source": []
  },
  {
   "cell_type": "code",
   "execution_count": null,
   "metadata": {
    "ExecuteTime": {
     "end_time": "2018-01-27T06:06:54.022948Z",
     "start_time": "2018-01-27T06:06:54.000409Z"
    },
    "collapsed": true
   },
   "outputs": [],
   "source": [
    "from IPython.core.display import HTML, Image\n",
    "css_file = '../../custom.css'\n",
    "HTML(open(css_file, 'r').read())"
   ]
  },
  {
   "cell_type": "markdown",
   "metadata": {},
   "source": [
    "http://vknight.org/Computing_for_mathematics/LabSheets/Week_09/"
   ]
  }
 ],
 "metadata": {
  "kernelspec": {
   "display_name": "Python 3",
   "language": "python",
   "name": "python3"
  },
  "language_info": {
   "codemirror_mode": {
    "name": "ipython",
    "version": 3
   },
   "file_extension": ".py",
   "mimetype": "text/x-python",
   "name": "python",
   "nbconvert_exporter": "python",
   "pygments_lexer": "ipython3",
   "version": "3.6.2"
  }
 },
 "nbformat": 4,
 "nbformat_minor": 2
}
