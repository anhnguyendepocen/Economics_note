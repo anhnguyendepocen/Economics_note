{
 "cells": [
  {
   "cell_type": "markdown",
   "metadata": {},
   "source": [
    "## Symbolic solution of ODEs with sympy\n"
   ]
  },
  {
   "cell_type": "code",
   "execution_count": 1,
   "metadata": {
    "ExecuteTime": {
     "end_time": "2018-01-28T19:31:57.122958Z",
     "start_time": "2018-01-28T19:31:57.091876Z"
    }
   },
   "outputs": [],
   "source": [
    "import sympy as sym\n",
    "import sympy\n",
    "sym.init_printing() # for LaTeX formatted output\n",
    "\n",
    "import matplotlib.pyplot as plt\n",
    "import numpy as np\n",
    "import warnings\n",
    "warnings.filterwarnings('ignore')\n",
    "#plt.style.use(\"fivethirtyeight\")\n",
    "\n",
    "import scipy as sp\n",
    "import matplotlib as mpl       # As of July 2017 Bucknell computers use v. 2.x \n",
    "\n",
    "\n",
    "%matplotlib notebook\n",
    "#%matplotlib\n",
    "%config InlineBackend.figure_format='retina'\n",
    "\n",
    "\n",
    "mpl.style.use('classic')\n",
    "\n",
    "plt.rc('figure', figsize = (6, 4.5))            # Reduces overall size of figures\n",
    "plt.rc('axes', labelsize=16, titlesize=14)\n",
    "plt.rc('figure', autolayout = True)             # Adjusts supblot parameters for new size\n",
    "\n",
    "from helpFunction import *"
   ]
  },
  {
   "cell_type": "code",
   "execution_count": null,
   "metadata": {},
   "outputs": [],
   "source": []
  },
  {
   "cell_type": "markdown",
   "metadata": {},
   "source": [
    "# Difference Equation\n",
    "\n",
    "## Motivation"
   ]
  },
  {
   "cell_type": "markdown",
   "metadata": {},
   "source": [
    "### Saving\n",
    "\n",
    "Solve  $${ y }_{ 0 },\\quad { y }_{ 1 }=b y_0,\\quad { y }_{ n }=b{ y }_{ n-1 }$$ "
   ]
  },
  {
   "cell_type": "code",
   "execution_count": 5,
   "metadata": {
    "ExecuteTime": {
     "end_time": "2018-01-28T19:32:25.543655Z",
     "start_time": "2018-01-28T19:32:25.540633Z"
    }
   },
   "outputs": [],
   "source": [
    "x,t,a,b,c,d, n, C0, y0, ybar = sym.symbols(\"x t a b c d n C0 y0 ybar\")\n",
    "y = sym.Function(\"y\")"
   ]
  },
  {
   "cell_type": "markdown",
   "metadata": {},
   "source": [
    "### A first order homogeneous difference equation"
   ]
  },
  {
   "cell_type": "code",
   "execution_count": 6,
   "metadata": {
    "ExecuteTime": {
     "end_time": "2018-01-29T02:56:06.205461Z",
     "start_time": "2018-01-29T02:56:05.823444Z"
    }
   },
   "outputs": [
    {
     "data": {
      "image/png": "[encoded data removed]",
      "text/latex": [
       "$$y{\\left (n \\right )} = a y{\\left (n - 1 \\right )}$$"
      ],
      "text/plain": [
       "y(n) = a⋅y(n - 1)"
      ]
     },
     "execution_count": 6,
     "metadata": {},
     "output_type": "execute_result"
    }
   ],
   "source": [
    "ode=sym.Eq(y(n), a*y(n-1))\n",
    "ode"
   ]
  },
  {
   "cell_type": "code",
   "execution_count": 7,
   "metadata": {
    "ExecuteTime": {
     "end_time": "2018-01-29T02:56:07.166111Z",
     "start_time": "2018-01-29T02:56:06.774054Z"
    }
   },
   "outputs": [
    {
     "data": {
      "image/png": "[encoded data removed]",
      "text/latex": [
       "$$C_{0} a^{n}$$"
      ],
      "text/plain": [
       "    n\n",
       "C₀⋅a "
      ]
     },
     "execution_count": 7,
     "metadata": {},
     "output_type": "execute_result"
    }
   ],
   "source": [
    "sym.rsolve(ode,y(n))"
   ]
  },
  {
   "cell_type": "markdown",
   "metadata": {},
   "source": [
    "This function is usually referred to as the **complementary function/solution** of the general first-order difference equation, when we consider the modified first-order difference equation in which we simply ignore the right-hand-side term d.\n"
   ]
  },
  {
   "cell_type": "markdown",
   "metadata": {},
   "source": [
    "### general first-order difference equation"
   ]
  },
  {
   "cell_type": "code",
   "execution_count": 8,
   "metadata": {
    "ExecuteTime": {
     "end_time": "2018-01-29T02:40:23.756809Z",
     "start_time": "2018-01-29T02:40:23.377375Z"
    }
   },
   "outputs": [
    {
     "data": {
      "image/png": "[encoded data removed]",
      "text/latex": [
       "$$y{\\left (n + 1 \\right )} = a y{\\left (n \\right )} + b$$"
      ],
      "text/plain": [
       "y(n + 1) = a⋅y(n) + b"
      ]
     },
     "execution_count": 8,
     "metadata": {},
     "output_type": "execute_result"
    }
   ],
   "source": [
    "ode=sym.Eq(y(n+1),a*y(n)+b)\n",
    "ode"
   ]
  },
  {
   "cell_type": "code",
   "execution_count": 9,
   "metadata": {
    "ExecuteTime": {
     "end_time": "2018-01-29T02:40:25.578344Z",
     "start_time": "2018-01-29T02:40:25.185282Z"
    }
   },
   "outputs": [
    {
     "data": {
      "image/png": "[encoded data removed]",
      "text/latex": [
       "$$C_{0} a^{n} - \\frac{b}{a - 1}$$"
      ],
      "text/plain": [
       "    n     b  \n",
       "C₀⋅a  - ─────\n",
       "        a - 1"
      ]
     },
     "execution_count": 9,
     "metadata": {},
     "output_type": "execute_result"
    }
   ],
   "source": [
    "ode_sol=sym.rsolve(ode,y(n))\n",
    "ode_sol"
   ]
  },
  {
   "cell_type": "markdown",
   "metadata": {},
   "source": [
    "It is called **general solution** as it is independent of a starting/initial value"
   ]
  },
  {
   "cell_type": "code",
   "execution_count": 10,
   "metadata": {
    "ExecuteTime": {
     "end_time": "2018-01-29T02:40:28.569504Z",
     "start_time": "2018-01-29T02:40:28.176458Z"
    }
   },
   "outputs": [
    {
     "data": {
      "image/png": "[encoded data removed]",
      "text/latex": [
       "$$\\left \\{ y{\\left (0 \\right )} : y_{0}\\right \\}$$"
      ],
      "text/plain": [
       "{y(0): y₀}"
      ]
     },
     "execution_count": 10,
     "metadata": {},
     "output_type": "execute_result"
    }
   ],
   "source": [
    "ics = {y(0): y0}\n",
    "ics #initial condition"
   ]
  },
  {
   "cell_type": "code",
   "execution_count": 11,
   "metadata": {
    "ExecuteTime": {
     "end_time": "2018-01-29T02:40:33.019949Z",
     "start_time": "2018-01-29T02:40:32.510586Z"
    }
   },
   "outputs": [
    {
     "data": {
      "image/png": "[encoded data removed]",
      "text/latex": [
       "$$y_{0} = C_{0} - \\frac{b}{a - 1}$$"
      ],
      "text/plain": [
       "            b  \n",
       "y₀ = C₀ - ─────\n",
       "          a - 1"
      ]
     },
     "execution_count": 11,
     "metadata": {},
     "output_type": "execute_result"
    }
   ],
   "source": [
    "C_eq = sym.Eq(y(n).subs(n, 0).subs(ics), ode_sol.subs(n, 0))\n",
    "C_eq"
   ]
  },
  {
   "cell_type": "code",
   "execution_count": 12,
   "metadata": {
    "ExecuteTime": {
     "end_time": "2018-01-29T02:40:58.834833Z",
     "start_time": "2018-01-29T02:40:58.264250Z"
    }
   },
   "outputs": [
    {
     "data": {
      "image/png": "[encoded data removed]",
      "text/latex": [
       "$$\\left [ \\left \\{ C_{0} : \\frac{a y_{0} + b - y_{0}}{a - 1}\\right \\}\\right ]$$"
      ],
      "text/plain": [
       "⎡⎧    a⋅y₀ + b - y₀⎫⎤\n",
       "⎢⎨C₀: ─────────────⎬⎥\n",
       "⎣⎩        a - 1    ⎭⎦"
      ]
     },
     "execution_count": 12,
     "metadata": {},
     "output_type": "execute_result"
    }
   ],
   "source": [
    "C_sol = sym.solve(C_eq)\n",
    "C_sol"
   ]
  },
  {
   "cell_type": "code",
   "execution_count": 13,
   "metadata": {
    "ExecuteTime": {
     "end_time": "2018-01-29T02:41:04.684231Z",
     "start_time": "2018-01-29T02:41:04.299193Z"
    }
   },
   "outputs": [
    {
     "data": {
      "image/png": "[encoded data removed]",
      "text/latex": [
       "$$\\frac{a^{n}}{a - 1} \\left(a y_{0} + b - y_{0}\\right) - \\frac{b}{a - 1}$$"
      ],
      "text/plain": [
       " n                        \n",
       "a ⋅(a⋅y₀ + b - y₀)     b  \n",
       "────────────────── - ─────\n",
       "      a - 1          a - 1"
      ]
     },
     "execution_count": 13,
     "metadata": {},
     "output_type": "execute_result"
    }
   ],
   "source": [
    "ode_sol.subs(C_sol[0])"
   ]
  },
  {
   "cell_type": "markdown",
   "metadata": {},
   "source": [
    "This expression is called the **definite solution** to the general first-order difference equation"
   ]
  },
  {
   "cell_type": "markdown",
   "metadata": {},
   "source": [
    "### First Order Nonlinear Difference Equation"
   ]
  },
  {
   "cell_type": "code",
   "execution_count": 14,
   "metadata": {
    "ExecuteTime": {
     "end_time": "2018-01-28T19:32:29.751188Z",
     "start_time": "2018-01-28T19:32:29.246371Z"
    }
   },
   "outputs": [
    {
     "data": {
      "image/png": "[encoded data removed]",
      "text/latex": [
       "$$y{\\left (n \\right )} = \\frac{2.125}{1 + \\frac{1}{y^{4}{\\left (n - 1 \\right )}}}$$"
      ],
      "text/plain": [
       "           2.125    \n",
       "y(n) = ─────────────\n",
       "               1    \n",
       "       1 + ─────────\n",
       "            4       \n",
       "           y (n - 1)"
      ]
     },
     "execution_count": 14,
     "metadata": {},
     "output_type": "execute_result"
    }
   ],
   "source": [
    "ode=sym.Eq(y(n), 2.125/(1+y(n-1)**(-4)))\n",
    "ode"
   ]
  },
  {
   "cell_type": "markdown",
   "metadata": {},
   "source": [
    "### Steady States"
   ]
  },
  {
   "cell_type": "code",
   "execution_count": 15,
   "metadata": {
    "ExecuteTime": {
     "end_time": "2018-01-28T19:32:52.293844Z",
     "start_time": "2018-01-28T19:32:51.900565Z"
    }
   },
   "outputs": [
    {
     "data": {
      "image/png": "[encoded data removed]",
      "text/latex": [
       "$$\\bar{y} = \\frac{2.125}{1 + \\frac{1}{\\bar{y}^{4}}}$$"
      ],
      "text/plain": [
       "      2.125 \n",
       "y̅ = ───────\n",
       "          1 \n",
       "     1 + ───\n",
       "           4\n",
       "         y̅ "
      ]
     },
     "execution_count": 15,
     "metadata": {},
     "output_type": "execute_result"
    }
   ],
   "source": [
    "ss=sym.Eq(ybar, 2.125/(1+ybar**(-4)))\n",
    "ss"
   ]
  },
  {
   "cell_type": "code",
   "execution_count": 16,
   "metadata": {
    "ExecuteTime": {
     "end_time": "2018-01-28T19:32:54.914918Z",
     "start_time": "2018-01-28T19:32:54.467712Z"
    }
   },
   "outputs": [
    {
     "data": {
      "image/png": "[encoded data removed]",
      "text/latex": [
       "$$\\left [ 0.946806187560818, \\quad 2.0, \\quad -0.410903093780409 - 0.599374533059286 i, \\quad -0.410903093780409 + 0.599374533059286 i\\right ]$$"
      ],
      "text/plain": [
       "[0.946806187560818, 2.0, -0.410903093780409 - 0.599374533059286⋅ⅈ, -0.41090309\n",
       "3780409 + 0.599374533059286⋅ⅈ]"
      ]
     },
     "execution_count": 16,
     "metadata": {},
     "output_type": "execute_result"
    }
   ],
   "source": [
    "sym.solve(ss)"
   ]
  },
  {
   "cell_type": "code",
   "execution_count": 17,
   "metadata": {
    "ExecuteTime": {
     "end_time": "2018-01-28T19:33:01.340833Z",
     "start_time": "2018-01-28T19:33:00.948777Z"
    }
   },
   "outputs": [
    {
     "data": {
      "image/png": "[encoded data removed]",
      "text/latex": [
       "$$\\frac{8.5}{\\left(1 + \\frac{1}{y^{4}{\\left (n - 1 \\right )}}\\right)^{2} y^{5}{\\left (n - 1 \\right )}}$$"
      ],
      "text/plain": [
       "           8.5            \n",
       "──────────────────────────\n",
       "               2          \n",
       "⎛        1    ⎞   5       \n",
       "⎜1 + ─────────⎟ ⋅y (n - 1)\n",
       "⎜     4       ⎟           \n",
       "⎝    y (n - 1)⎠           "
      ]
     },
     "execution_count": 17,
     "metadata": {},
     "output_type": "execute_result"
    }
   ],
   "source": [
    "ode.rhs.diff(y(n-1))"
   ]
  },
  {
   "cell_type": "code",
   "execution_count": 18,
   "metadata": {
    "ExecuteTime": {
     "end_time": "2018-01-28T19:34:07.284555Z",
     "start_time": "2018-01-28T19:34:06.912551Z"
    }
   },
   "outputs": [
    {
     "data": {
      "image/png": "[encoded data removed]",
      "text/latex": [
       "$$2.21778476865316$$"
      ],
      "text/plain": [
       "2.21778476865316"
      ]
     },
     "execution_count": 18,
     "metadata": {},
     "output_type": "execute_result"
    }
   ],
   "source": [
    "ode.rhs.diff(y(n-1)).subs(y(n-1),0.9468)"
   ]
  },
  {
   "cell_type": "markdown",
   "metadata": {},
   "source": [
    "#### Dynamics and Steady State"
   ]
  },
  {
   "cell_type": "code",
   "execution_count": 19,
   "metadata": {
    "ExecuteTime": {
     "end_time": "2018-01-28T19:33:43.908392Z",
     "start_time": "2018-01-28T19:33:43.824185Z"
    }
   },
   "outputs": [
    {
     "data": {
      "image/png": "[encoded data removed]",
      "text/plain": [
       "<matplotlib.figure.Figure at 0x7fdb30085860>"
      ]
     },
     "metadata": {
      "image/png": {
       "height": 470,
       "width": 460
      }
     },
     "output_type": "display_data"
    },
    {
     "data": {
      "image/png": "[encoded data removed]",
      "text/plain": [
       "<matplotlib.figure.Figure at 0x7fdb24849da0>"
      ]
     },
     "metadata": {
      "image/png": {
       "height": 388,
       "width": 496
      }
     },
     "output_type": "display_data"
    }
   ],
   "source": [
    "\n",
    "x0 = 0.85\n",
    "num_arrows = 3\n",
    "xmin, xmax = 0, 2\n",
    "ts_length = 12\n",
    "h = lambda x: 1 / (1 + x**(-4)) \n",
    "c = xmax / h(xmax)\n",
    "g = lambda x: c / (1 + x**(-4))\n",
    "plot45(g, xmin, xmax, x0, num_arrows)\n",
    "ts_plot(g, xmin, xmax, x0, ts_length)"
   ]
  },
  {
   "cell_type": "markdown",
   "metadata": {},
   "source": [
    "#### Second SS "
   ]
  },
  {
   "cell_type": "code",
   "execution_count": 20,
   "metadata": {
    "ExecuteTime": {
     "end_time": "2018-01-28T19:34:51.589177Z",
     "start_time": "2018-01-28T19:34:51.117811Z"
    }
   },
   "outputs": [
    {
     "data": {
      "image/png": "[encoded data removed]",
      "text/latex": [
       "$$0.235294117647059$$"
      ],
      "text/plain": [
       "0.235294117647059"
      ]
     },
     "execution_count": 20,
     "metadata": {},
     "output_type": "execute_result"
    }
   ],
   "source": [
    "ode.rhs.diff(y(n-1)).subs(y(n-1),2.0)"
   ]
  },
  {
   "cell_type": "code",
   "execution_count": 21,
   "metadata": {
    "ExecuteTime": {
     "end_time": "2018-01-28T19:34:52.186943Z",
     "start_time": "2018-01-28T19:34:52.103722Z"
    }
   },
   "outputs": [
    {
     "data": {
      "image/png": "[encoded data removed]",
      "text/plain": [
       "<matplotlib.figure.Figure at 0x7fdb22855978>"
      ]
     },
     "metadata": {
      "image/png": {
       "height": 470,
       "width": 460
      }
     },
     "output_type": "display_data"
    },
    {
     "data": {
      "image/png": "[encoded data removed]",
      "text/plain": [
       "<matplotlib.figure.Figure at 0x7fdb22515358>"
      ]
     },
     "metadata": {
      "image/png": {
       "height": 388,
       "width": 496
      }
     },
     "output_type": "display_data"
    }
   ],
   "source": [
    "x0 = 1.1\n",
    "num_arrows = 3\n",
    "xmin, xmax = 0, 2\n",
    "ts_length = 12\n",
    "h = lambda x: 1 / (1 + x**(-4))\n",
    "c = xmax / h(xmax)\n",
    "g = lambda x: c / (1 + x**(-4))\n",
    "plot45(g, xmin, xmax, x0, num_arrows)\n",
    "ts_plot(g, xmin, xmax, x0, ts_length)"
   ]
  },
  {
   "cell_type": "markdown",
   "metadata": {
    "collapsed": true
   },
   "source": [
    "## The non-autonomous, first order, linear difference Eq. Form"
   ]
  },
  {
   "cell_type": "code",
   "execution_count": 25,
   "metadata": {},
   "outputs": [
    {
     "data": {
      "image/png": "[encoded data removed]",
      "text/latex": [
       "$$y{\\left (n + 1 \\right )} = 2 \\left(n + 1\\right)^{0.5} y{\\left (n \\right )} - 6$$"
      ],
      "text/plain": [
       "                    0.5         \n",
       "y(n + 1) = 2⋅(n + 1)   ⋅y(n) - 6"
      ]
     },
     "execution_count": 25,
     "metadata": {},
     "output_type": "execute_result"
    }
   ],
   "source": [
    "ode=sym.Eq(y(n+1), 2*(n+1)**0.5*y(n)-6)\n",
    "ode"
   ]
  },
  {
   "cell_type": "code",
   "execution_count": 26,
   "metadata": {},
   "outputs": [
    {
     "ename": "ValueError",
     "evalue": "Polynomial or rational function expected, got '-2*(n + 1)**0.5'",
     "output_type": "error",
     "traceback": [
      "\u001b[0;31m---------------------------------------------------------------------------\u001b[0m",
      "\u001b[0;31mValueError\u001b[0m                                Traceback (most recent call last)",
      "\u001b[0;32m<ipython-input-26-fe49e31fcc89>\u001b[0m in \u001b[0;36m<module>\u001b[0;34m()\u001b[0m\n\u001b[0;32m----> 1\u001b[0;31m \u001b[0msym\u001b[0m\u001b[0;34m.\u001b[0m\u001b[0mrsolve\u001b[0m\u001b[0;34m(\u001b[0m\u001b[0mode\u001b[0m\u001b[0;34m,\u001b[0m\u001b[0my\u001b[0m\u001b[0;34m(\u001b[0m\u001b[0mn\u001b[0m\u001b[0;34m)\u001b[0m\u001b[0;34m)\u001b[0m\u001b[0;34m\u001b[0m\u001b[0m\n\u001b[0m",
      "\u001b[0;32m~/anaconda3/lib/python3.6/site-packages/sympy/solvers/recurr.py\u001b[0m in \u001b[0;36mrsolve\u001b[0;34m(f, y, init)\u001b[0m\n\u001b[1;32m    759\u001b[0m         \u001b[0;32melse\u001b[0m\u001b[0;34m:\u001b[0m\u001b[0;34m\u001b[0m\u001b[0m\n\u001b[1;32m    760\u001b[0m             raise ValueError(\n\u001b[0;32m--> 761\u001b[0;31m                 \"Polynomial or rational function expected, got '%s'\" % coeff)\n\u001b[0m\u001b[1;32m    762\u001b[0m \u001b[0;34m\u001b[0m\u001b[0m\n\u001b[1;32m    763\u001b[0m     \u001b[0mi_numer\u001b[0m\u001b[0;34m,\u001b[0m \u001b[0mi_denom\u001b[0m \u001b[0;34m=\u001b[0m \u001b[0mi_part\u001b[0m\u001b[0;34m.\u001b[0m\u001b[0mas_numer_denom\u001b[0m\u001b[0;34m(\u001b[0m\u001b[0;34m)\u001b[0m\u001b[0;34m\u001b[0m\u001b[0m\n",
      "\u001b[0;31mValueError\u001b[0m: Polynomial or rational function expected, got '-2*(n + 1)**0.5'"
     ]
    }
   ],
   "source": [
    "sym.rsolve(ode,y(n))"
   ]
  },
  {
   "cell_type": "code",
   "execution_count": null,
   "metadata": {},
   "outputs": [],
   "source": []
  },
  {
   "cell_type": "markdown",
   "metadata": {},
   "source": [
    "### Steady States"
   ]
  },
  {
   "cell_type": "code",
   "execution_count": 23,
   "metadata": {},
   "outputs": [
    {
     "data": {
      "image/png": "[encoded data removed]",
      "text/latex": [
       "$$\\bar{y} = 2 \\bar{y} \\left(n + 1\\right)^{0.5} - 6$$"
      ],
      "text/plain": [
       "                 0.5    \n",
       "y̅ = 2⋅y̅⋅(n + 1)    - 6"
      ]
     },
     "execution_count": 23,
     "metadata": {},
     "output_type": "execute_result"
    }
   ],
   "source": [
    "ss=sym.Eq(ybar, 2*(n+1)**0.5*ybar-6)\n",
    "ss"
   ]
  },
  {
   "cell_type": "code",
   "execution_count": 24,
   "metadata": {},
   "outputs": [
    {
     "data": {
      "image/png": "[encoded data removed]",
      "text/latex": [
       "$$\\left [ \\left \\{ \\bar{y} : \\frac{6.0}{2.0 \\left(n + 1.0\\right)^{0.5} - 1.0}\\right \\}\\right ]$$"
      ],
      "text/plain": [
       "⎡⎧             6.0          ⎫⎤\n",
       "⎢⎪y̅: ──────────────────────⎪⎥\n",
       "⎢⎨                 0.5      ⎬⎥\n",
       "⎢⎪    2.0⋅(n + 1.0)    - 1.0⎪⎥\n",
       "⎣⎩                          ⎭⎦"
      ]
     },
     "execution_count": 24,
     "metadata": {},
     "output_type": "execute_result"
    }
   ],
   "source": [
    "sym.solve(ss)"
   ]
  },
  {
   "cell_type": "code",
   "execution_count": null,
   "metadata": {},
   "outputs": [],
   "source": []
  },
  {
   "cell_type": "code",
   "execution_count": null,
   "metadata": {},
   "outputs": [],
   "source": [
    "x0 = 1.1\n",
    "num_arrows = 3\n",
    "xmin, xmax = 0, 2\n",
    "ts_length = 12\n",
    "h = lambda x: 1 / (1 + x**(-4))\n",
    "c = xmax / h(xmax)\n",
    "g = lambda x: c / (1 + x**(-4))\n",
    "plot45(g, xmin, xmax, x0, num_arrows)\n",
    "ts_plot(g, xmin, xmax, x0, ts_length)"
   ]
  },
  {
   "cell_type": "code",
   "execution_count": null,
   "metadata": {},
   "outputs": [],
   "source": []
  },
  {
   "cell_type": "code",
   "execution_count": null,
   "metadata": {},
   "outputs": [],
   "source": []
  },
  {
   "cell_type": "markdown",
   "metadata": {},
   "source": [
    "### Second Order Difference Equation: Logistics Growth Model (Fish)"
   ]
  },
  {
   "cell_type": "code",
   "execution_count": null,
   "metadata": {
    "ExecuteTime": {
     "end_time": "2018-01-28T19:26:34.751354Z",
     "start_time": "2018-01-28T19:26:34.747344Z"
    },
    "collapsed": true
   },
   "outputs": [],
   "source": [
    "x,t,b,c,d, n, C0, y0, ybar = sym.symbols(\"x t b c d n C0 y0 ybar\")\n",
    "y = sym.Function(\"y\")"
   ]
  },
  {
   "cell_type": "code",
   "execution_count": null,
   "metadata": {
    "ExecuteTime": {
     "end_time": "2018-01-28T19:35:58.737850Z",
     "start_time": "2018-01-28T19:35:58.244353Z"
    }
   },
   "outputs": [],
   "source": [
    "ode=sym.Eq(y(n+1), 3*y(n)-3*y(n)**2 - 7/48)\n",
    "ode"
   ]
  },
  {
   "cell_type": "markdown",
   "metadata": {},
   "source": [
    "### Steady States"
   ]
  },
  {
   "cell_type": "code",
   "execution_count": null,
   "metadata": {
    "ExecuteTime": {
     "end_time": "2018-01-28T19:36:55.956972Z",
     "start_time": "2018-01-28T19:36:55.526708Z"
    }
   },
   "outputs": [],
   "source": [
    "ss=sym.Eq(ybar, 3*ybar-3*ybar**2 - 7/48)\n",
    "ss"
   ]
  },
  {
   "cell_type": "code",
   "execution_count": null,
   "metadata": {
    "ExecuteTime": {
     "end_time": "2018-01-28T19:37:20.788109Z",
     "start_time": "2018-01-28T19:37:20.313831Z"
    }
   },
   "outputs": [],
   "source": [
    "sym.solve(ss)"
   ]
  },
  {
   "cell_type": "markdown",
   "metadata": {},
   "source": [
    "#### Slope at SS"
   ]
  },
  {
   "cell_type": "code",
   "execution_count": null,
   "metadata": {
    "ExecuteTime": {
     "end_time": "2018-01-28T19:40:58.916486Z",
     "start_time": "2018-01-28T19:40:58.533449Z"
    }
   },
   "outputs": [],
   "source": [
    "ode.rhs.diff(y(n))"
   ]
  },
  {
   "cell_type": "code",
   "execution_count": null,
   "metadata": {
    "ExecuteTime": {
     "end_time": "2018-01-28T19:45:17.575654Z",
     "start_time": "2018-01-28T19:45:17.193649Z"
    }
   },
   "outputs": [],
   "source": [
    "ode.rhs.diff(y(n)).subs(y(n),0.083)"
   ]
  },
  {
   "cell_type": "code",
   "execution_count": null,
   "metadata": {
    "ExecuteTime": {
     "end_time": "2018-01-28T19:45:22.733947Z",
     "start_time": "2018-01-28T19:45:22.258684Z"
    }
   },
   "outputs": [],
   "source": [
    "ode.rhs.diff(y(n)).subs(y(n),0.583)"
   ]
  },
  {
   "cell_type": "markdown",
   "metadata": {},
   "source": [
    "#### Maximum of The Function"
   ]
  },
  {
   "cell_type": "code",
   "execution_count": null,
   "metadata": {
    "ExecuteTime": {
     "end_time": "2018-01-28T19:42:12.058829Z",
     "start_time": "2018-01-28T19:42:11.669810Z"
    }
   },
   "outputs": [],
   "source": [
    "sym.solve(ode.rhs.diff(y(n)), y(n) ) # y(n)"
   ]
  },
  {
   "cell_type": "code",
   "execution_count": null,
   "metadata": {
    "ExecuteTime": {
     "end_time": "2018-01-28T19:42:54.059299Z",
     "start_time": "2018-01-28T19:42:53.582993Z"
    }
   },
   "outputs": [],
   "source": [
    "ode.rhs.subs(y(n), .5)  # y(n+1)"
   ]
  },
  {
   "cell_type": "code",
   "execution_count": null,
   "metadata": {
    "collapsed": true
   },
   "outputs": [],
   "source": []
  },
  {
   "cell_type": "markdown",
   "metadata": {},
   "source": [
    "#### Dynamics and Steady State"
   ]
  },
  {
   "cell_type": "code",
   "execution_count": null,
   "metadata": {
    "ExecuteTime": {
     "end_time": "2018-01-28T19:49:58.067860Z",
     "start_time": "2018-01-28T19:49:57.671614Z"
    }
   },
   "outputs": [],
   "source": [
    "ode.rhs.diff(y(n)).subs(y(n),0.583)"
   ]
  },
  {
   "cell_type": "code",
   "execution_count": null,
   "metadata": {
    "ExecuteTime": {
     "end_time": "2018-01-28T19:49:29.520397Z",
     "start_time": "2018-01-28T19:49:29.446200Z"
    }
   },
   "outputs": [],
   "source": [
    "num_arrows = 5\n",
    "xmin, xmax = 0, 1\n",
    "ts_length = 10\n",
    "r = 3.2\n",
    "xstar1 = 0.8 \n",
    "xstar2 = 0.5\n",
    "x0 = 0.2\n",
    "g = lambda x: 3*x-3*x**2 -7/48\n",
    "plot45(g, xmin, xmax, x0, num_arrows)\n",
    "ts_plot(g, xmin, xmax, x0, ts_length)"
   ]
  },
  {
   "cell_type": "code",
   "execution_count": null,
   "metadata": {
    "ExecuteTime": {
     "end_time": "2018-01-28T19:50:08.622298Z",
     "start_time": "2018-01-28T19:50:08.144835Z"
    }
   },
   "outputs": [],
   "source": [
    "ode.rhs.diff(y(n)).subs(y(n),0.083)"
   ]
  },
  {
   "cell_type": "code",
   "execution_count": null,
   "metadata": {
    "ExecuteTime": {
     "end_time": "2018-01-28T19:50:37.320504Z",
     "start_time": "2018-01-28T19:50:37.246306Z"
    }
   },
   "outputs": [],
   "source": [
    "num_arrows = 5\n",
    "xmin, xmax = 0, 1\n",
    "ts_length = 10\n",
    "r = 3.2\n",
    "xstar1 = 0.8 \n",
    "xstar2 = 0.5\n",
    "x0 = 0.075\n",
    "g = lambda x: 3*x-3*x**2 -7/48\n",
    "plot45(g, xmin, xmax, x0, num_arrows)\n",
    "ts_plot(g, xmin, xmax, x0, ts_length)"
   ]
  },
  {
   "cell_type": "code",
   "execution_count": null,
   "metadata": {
    "collapsed": true
   },
   "outputs": [],
   "source": []
  },
  {
   "cell_type": "code",
   "execution_count": null,
   "metadata": {
    "collapsed": true
   },
   "outputs": [],
   "source": []
  },
  {
   "cell_type": "code",
   "execution_count": null,
   "metadata": {
    "collapsed": true
   },
   "outputs": [],
   "source": []
  },
  {
   "cell_type": "markdown",
   "metadata": {},
   "source": [
    "### A first order homogeneous differential equation"
   ]
  },
  {
   "cell_type": "code",
   "execution_count": null,
   "metadata": {
    "ExecuteTime": {
     "end_time": "2018-01-29T02:48:06.757400Z",
     "start_time": "2018-01-29T02:48:06.754393Z"
    },
    "collapsed": true
   },
   "outputs": [],
   "source": [
    "#https://www.youtube.com/watch?v=4X0SGGrXDiI\n",
    "\n",
    "a, t, y0 = sym.symbols(\"a t y0\")\n",
    "y = sym.Function(\"y\")"
   ]
  },
  {
   "cell_type": "code",
   "execution_count": null,
   "metadata": {
    "ExecuteTime": {
     "end_time": "2018-01-29T02:48:16.436716Z",
     "start_time": "2018-01-29T02:48:16.043657Z"
    }
   },
   "outputs": [],
   "source": [
    "ode=sym.Eq(y(t).diff(t), a*y(t))\n",
    "ode"
   ]
  },
  {
   "cell_type": "markdown",
   "metadata": {},
   "source": [
    "- y: money in bank\n",
    "- a: interest rate, for example 6%\n",
    "- t: time year\n"
   ]
  },
  {
   "cell_type": "code",
   "execution_count": null,
   "metadata": {
    "ExecuteTime": {
     "end_time": "2018-01-29T02:48:29.942642Z",
     "start_time": "2018-01-29T02:48:29.818312Z"
    }
   },
   "outputs": [],
   "source": [
    "sym.classify_ode(ode)"
   ]
  },
  {
   "cell_type": "code",
   "execution_count": null,
   "metadata": {
    "ExecuteTime": {
     "end_time": "2018-01-29T02:48:37.567875Z",
     "start_time": "2018-01-29T02:48:36.924504Z"
    }
   },
   "outputs": [],
   "source": [
    "ode_sol=sym.dsolve(ode, y(t), hint=\"separable\")\n",
    "ode_sol"
   ]
  },
  {
   "cell_type": "code",
   "execution_count": null,
   "metadata": {
    "ExecuteTime": {
     "end_time": "2018-01-29T02:48:42.774300Z",
     "start_time": "2018-01-29T02:48:42.388273Z"
    }
   },
   "outputs": [],
   "source": [
    "ode_sol.free_symbols"
   ]
  },
  {
   "cell_type": "code",
   "execution_count": null,
   "metadata": {
    "ExecuteTime": {
     "end_time": "2018-01-29T02:48:47.662714Z",
     "start_time": "2018-01-29T02:48:47.660708Z"
    },
    "collapsed": true
   },
   "outputs": [],
   "source": [
    "ics = {y(0): y0}"
   ]
  },
  {
   "cell_type": "code",
   "execution_count": null,
   "metadata": {
    "ExecuteTime": {
     "end_time": "2018-01-29T02:49:15.566038Z",
     "start_time": "2018-01-29T02:49:15.561024Z"
    },
    "collapsed": true
   },
   "outputs": [],
   "source": [
    "def apply_ics(sol, ics, x, known_params):\n",
    "    \"\"\"\n",
    "    Apply the initial conditions (ics), given as a dictionary on\n",
    "    the form ics = {y(0): y0: y(x).diff(x).subs(x, 0): yp0, ...}\n",
    "    to the solution of the ODE with indepdendent variable x.\n",
    "    The undetermined integration constants C1, C2, ... are extracted\n",
    "    from the free symbols of the ODE solution, excluding symbols in\n",
    "    the known_params list.\n",
    "    \"\"\"\n",
    "    free_params = sol.free_symbols - set(known_params)\n",
    "    eqs = [(sol.lhs.diff(x, n) - sol.rhs.diff(x, n)).subs(x, 0).subs(ics)\n",
    "           for n in range(len(ics))]\n",
    "    sol_params = sym.solve(eqs, free_params)\n",
    "    return sol.subs(sol_params)"
   ]
  },
  {
   "cell_type": "code",
   "execution_count": null,
   "metadata": {
    "ExecuteTime": {
     "end_time": "2018-01-29T02:49:16.151611Z",
     "start_time": "2018-01-29T02:49:15.760555Z"
    }
   },
   "outputs": [],
   "source": [
    "apply_ics(ode_sol, ics, t, [a])"
   ]
  },
  {
   "cell_type": "code",
   "execution_count": null,
   "metadata": {
    "collapsed": true
   },
   "outputs": [],
   "source": []
  },
  {
   "cell_type": "markdown",
   "metadata": {},
   "source": [
    "### Second Order Differential Equation"
   ]
  },
  {
   "cell_type": "markdown",
   "metadata": {},
   "source": [
    "#### Define the differential equation as a sym.Eq()"
   ]
  },
  {
   "cell_type": "code",
   "execution_count": null,
   "metadata": {
    "ExecuteTime": {
     "end_time": "2018-01-29T02:43:16.542022Z",
     "start_time": "2018-01-29T02:43:16.539013Z"
    },
    "collapsed": true
   },
   "outputs": [],
   "source": [
    "x,t, b,c,d, n, C0, y0 = sym.symbols(\"x t  b c d n C0 y0\")\n",
    "f = sym.Function(\"f\")"
   ]
  },
  {
   "cell_type": "code",
   "execution_count": null,
   "metadata": {
    "ExecuteTime": {
     "end_time": "2018-01-29T02:43:28.580439Z",
     "start_time": "2018-01-29T02:43:28.091140Z"
    }
   },
   "outputs": [],
   "source": [
    "diffeq = sym.Eq(f(t).diff(t, t) - 2*f(t).diff(t) + f(t), sym.sin(t))\n",
    "diffeq"
   ]
  },
  {
   "cell_type": "markdown",
   "metadata": {},
   "source": [
    "#### Solve differential equation"
   ]
  },
  {
   "cell_type": "code",
   "execution_count": null,
   "metadata": {
    "ExecuteTime": {
     "end_time": "2018-01-29T02:43:48.687597Z",
     "start_time": "2018-01-29T02:43:48.217211Z"
    }
   },
   "outputs": [],
   "source": [
    "soln = sym.dsolve(diffeq,f(t))\n",
    "soln"
   ]
  },
  {
   "cell_type": "markdown",
   "metadata": {},
   "source": [
    "#### Boundary conditions\n",
    "This isn't implemented yet in `dsolve` -- it's on the \"to do\" list<br>\n",
    "For now, solve for contants on your own. For example, if\n",
    "$$ f(0) = 1\\quad\\mbox{and}\\quad\\left.\\frac{df}{dx}\\right|_0 = 0,  $$\n",
    "solve the following equations:"
   ]
  },
  {
   "cell_type": "code",
   "execution_count": null,
   "metadata": {
    "ExecuteTime": {
     "end_time": "2018-01-29T02:43:50.396231Z",
     "start_time": "2018-01-29T02:43:49.785108Z"
    }
   },
   "outputs": [],
   "source": [
    "constants = sym.solve([soln.rhs.subs(t,0) - 1, soln.rhs.diff(t,1).subs(t,0)- 0])\n",
    "constants"
   ]
  },
  {
   "cell_type": "code",
   "execution_count": null,
   "metadata": {
    "ExecuteTime": {
     "end_time": "2018-01-29T02:43:51.617758Z",
     "start_time": "2018-01-29T02:43:51.082336Z"
    }
   },
   "outputs": [],
   "source": [
    "C1, C2 = sym.symbols('C1,C2')\n",
    "soln = soln.subs(constants)\n",
    "soln"
   ]
  },
  {
   "cell_type": "markdown",
   "metadata": {},
   "source": [
    "#### Convert soln to python function for numerical evaluation/plotting\n",
    "I'm not sure why I had to specify the modulue for conversion of sympy functions.<br>\n",
    "See http://docs.sympy.org/latest/modules/utilities/lambdify.html<br>\n",
    "In previous examples, sympy figured out a good module \"on its own.\" "
   ]
  },
  {
   "cell_type": "code",
   "execution_count": null,
   "metadata": {
    "ExecuteTime": {
     "end_time": "2018-01-29T02:44:10.170353Z",
     "start_time": "2018-01-29T02:44:10.165341Z"
    },
    "collapsed": true
   },
   "outputs": [],
   "source": [
    "func = sym.lambdify(t,soln.rhs,'numpy')"
   ]
  },
  {
   "cell_type": "code",
   "execution_count": null,
   "metadata": {
    "ExecuteTime": {
     "end_time": "2018-01-29T02:44:11.946848Z",
     "start_time": "2018-01-29T02:44:11.645047Z"
    },
    "collapsed": true
   },
   "outputs": [],
   "source": [
    "xx = sp.arange(-1,1,.01)  # name = xx so it won't collide with symbol x\n",
    "y = func(xx)\n",
    "plt.figure()\n",
    "plt.plot(xx,y);"
   ]
  },
  {
   "cell_type": "code",
   "execution_count": null,
   "metadata": {
    "ExecuteTime": {
     "end_time": "2018-01-28T19:38:15.201298Z",
     "start_time": "2018-01-28T19:38:15.197288Z"
    }
   },
   "outputs": [],
   "source": [
    "from IPython.core.display import HTML, Image\n",
    "css_file = '../../custom.css'\n",
    "HTML(open(css_file, 'r').read())"
   ]
  },
  {
   "cell_type": "code",
   "execution_count": null,
   "metadata": {
    "ExecuteTime": {
     "end_time": "2018-01-28T19:38:43.451693Z",
     "start_time": "2018-01-28T19:38:43.384522Z"
    }
   },
   "outputs": [],
   "source": [
    "#%load_ext watermark\n",
    "%watermark -v -m -p sympy,matplotlib -g"
   ]
  },
  {
   "cell_type": "code",
   "execution_count": null,
   "metadata": {
    "collapsed": true
   },
   "outputs": [],
   "source": []
  }
 ],
 "metadata": {
  "anaconda-cloud": {},
  "kernelspec": {
   "display_name": "Python [default]",
   "language": "python",
   "name": "python3"
  },
  "language_info": {
   "codemirror_mode": {
    "name": "ipython",
    "version": 3
   },
   "file_extension": ".py",
   "mimetype": "text/x-python",
   "name": "python",
   "nbconvert_exporter": "python",
   "pygments_lexer": "ipython3",
   "version": "3.6.4"
  }
 },
 "nbformat": 4,
 "nbformat_minor": 1
}
