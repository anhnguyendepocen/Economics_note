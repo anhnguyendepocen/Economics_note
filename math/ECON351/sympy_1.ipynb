{
 "cells": [
  {
   "cell_type": "markdown",
   "metadata": {},
   "source": [
    "## Intro to sympy: \n",
    "+ #### variables\n",
    "+ #### differentiation \n",
    "+ #### integration\n",
    "+ #### evaluation of symbolic expressions"
   ]
  },
  {
   "cell_type": "code",
   "execution_count": 1,
   "metadata": {},
   "outputs": [],
   "source": [
    "import sympy as sym\n",
    "sym.init_printing() # for LaTeX formatted output\n",
    "\n",
    "import scipy as sp\n",
    "\n",
    "import matplotlib as mpl       # As of July 2017 Bucknell computers use v. 2.x \n",
    "import matplotlib.pyplot as plt\n",
    "\n",
    "# Following is an Ipython magic command that puts figures in the  notebook.\n",
    "# For figures in separate windows, comment out following line and uncomment\n",
    "# the next line\n",
    "# Must come before defaults are changed.\n",
    "%matplotlib notebook\n",
    "#%matplotlib\n",
    "\n",
    "# As of Aug. 2017 reverting to 1.x defaults.\n",
    "# In 2.x text.ustex requires dvipng, texlive-latex-extra, and texlive-fonts-recommended, \n",
    "# which don't seem to be universal\n",
    "# See https://stackoverflow.com/questions/38906356/error-running-matplotlib-in-latex-type1cm?\n",
    "mpl.style.use('classic')\n",
    "        \n",
    "# M.L. modifications of matplotlib defaults using syntax of v.2.0 \n",
    "# More info at http://matplotlib.org/2.0.0/users/deflt_style_changes.html\n",
    "# Changes can also be put in matplotlibrc file, or effected using mpl.rcParams[]\n",
    "plt.rc('figure', figsize = (6, 4.5))            # Reduces overall size of figures\n",
    "plt.rc('axes', labelsize=16, titlesize=14)\n",
    "plt.rc('figure', autolayout = True)             # Adjusts supblot parameters for new size"
   ]
  },
  {
   "cell_type": "markdown",
   "metadata": {},
   "source": [
    "NOTES\n",
    "- Sympy functions, and variables, and even floats aren't the same as numpy/scipy/python analogues.  For example\n",
    "    + sym.exp != sp.exp\n",
    "\n",
    "- Sympy has some math functions included, but not full numpy/scipy, as demonstrated in the following cells.\n",
    "\n",
    "- Symbols that are going to used as symbolic variable must be declared as such.  This is different than in <em>Mathematica</em>. \n",
    "\n",
    "- One consequence is that sympy symbolic expressions must be turned into scipy/numpy/python expressions if they are to be evaluated for plotting or numerical results.  This is done with the `lambdify` command.\n",
    "\n",
    "- In fall 2016 we're using sympy 1.0. Documentation and tutorial can be found at http://docs.sympy.org/latest/\n",
    "\n",
    "- ML's conclusion as of 9/17/16: Don't mix `sympy` and `scipy/numpy`.  Do symbolic work with `sympy`, and then switch by \"lambdifying\" symbolic exressions, turning them into python functions. \n",
    "\n",
    "- sympy does have it's own plotting capabilities for symbolic expressions (matplotlib is a back-end).  ML hasn't explored this very deeply; so far just using matplotlib on \"lambdified\" expressions.  "
   ]
  },
  {
   "cell_type": "markdown",
   "metadata": {},
   "source": [
    "### Symbolic variables"
   ]
  },
  {
   "cell_type": "markdown",
   "metadata": {
    "collapsed": true
   },
   "source": [
    "Given the way I imported things, the following cell doesn't work."
   ]
  },
  {
   "cell_type": "code",
   "execution_count": 2,
   "metadata": {},
   "outputs": [
    {
     "ename": "NameError",
     "evalue": "name 'exp' is not defined",
     "output_type": "error",
     "traceback": [
      "\u001b[0;31m---------------------------------------------------------------------------\u001b[0m",
      "\u001b[0;31mNameError\u001b[0m                                 Traceback (most recent call last)",
      "\u001b[0;32m<ipython-input-2-d2e14ecff293>\u001b[0m in \u001b[0;36m<module>\u001b[0;34m()\u001b[0m\n\u001b[0;32m----> 1\u001b[0;31m \u001b[0mexp\u001b[0m\u001b[0;34m(\u001b[0m\u001b[0;36m3.\u001b[0m\u001b[0;34m)\u001b[0m\u001b[0;34m\u001b[0m\u001b[0m\n\u001b[0m",
      "\u001b[0;31mNameError\u001b[0m: name 'exp' is not defined"
     ]
    }
   ],
   "source": [
    "exp(3.)"
   ]
  },
  {
   "cell_type": "markdown",
   "metadata": {
    "collapsed": true
   },
   "source": [
    "This does work."
   ]
  },
  {
   "cell_type": "code",
   "execution_count": 3,
   "metadata": {},
   "outputs": [
    {
     "data": {
      "image/png": "[encoded data removed]",
      "text/latex": [
       "$$20.0855369231877$$"
      ],
      "text/plain": [
       "20.0855369231877"
      ]
     },
     "execution_count": 3,
     "metadata": {},
     "output_type": "execute_result"
    }
   ],
   "source": [
    "sym.exp(3.)"
   ]
  },
  {
   "cell_type": "markdown",
   "metadata": {
    "collapsed": true
   },
   "source": [
    "And, as in <em>Mathematica</em>, the output of  the following cell will be symbolic."
   ]
  },
  {
   "cell_type": "code",
   "execution_count": 4,
   "metadata": {},
   "outputs": [
    {
     "data": {
      "image/png": "[encoded data removed]",
      "text/latex": [
       "$$e^{3}$$"
      ],
      "text/plain": [
       " 3\n",
       "ℯ "
      ]
     },
     "execution_count": 4,
     "metadata": {},
     "output_type": "execute_result"
    }
   ],
   "source": [
    "sym.exp(3)"
   ]
  },
  {
   "cell_type": "markdown",
   "metadata": {},
   "source": [
    "The analogue of <em>Mathematica</em>'s `Exp[3]//N`, or `N[Exp[3]]`, is"
   ]
  },
  {
   "cell_type": "code",
   "execution_count": 5,
   "metadata": {},
   "outputs": [
    {
     "data": {
      "image/png": "[encoded data removed]",
      "text/latex": [
       "$$20.0855369231877$$"
      ],
      "text/plain": [
       "20.0855369231877"
      ]
     },
     "execution_count": 5,
     "metadata": {},
     "output_type": "execute_result"
    }
   ],
   "source": [
    "sym.exp(3).evalf()  "
   ]
  },
  {
   "cell_type": "markdown",
   "metadata": {},
   "source": [
    "The analogue of <em>Mathematica</em>'s \"slash-dot using\" syntax `Exp[x]/.x->3` is"
   ]
  },
  {
   "cell_type": "code",
   "execution_count": 6,
   "metadata": {},
   "outputs": [
    {
     "ename": "NameError",
     "evalue": "name 'x' is not defined",
     "output_type": "error",
     "traceback": [
      "\u001b[0;31m---------------------------------------------------------------------------\u001b[0m",
      "\u001b[0;31mNameError\u001b[0m                                 Traceback (most recent call last)",
      "\u001b[0;32m<ipython-input-6-abbbceec8362>\u001b[0m in \u001b[0;36m<module>\u001b[0;34m()\u001b[0m\n\u001b[0;32m----> 1\u001b[0;31m \u001b[0msym\u001b[0m\u001b[0;34m.\u001b[0m\u001b[0mexp\u001b[0m\u001b[0;34m(\u001b[0m\u001b[0mx\u001b[0m\u001b[0;34m)\u001b[0m\u001b[0;34m.\u001b[0m\u001b[0msubs\u001b[0m\u001b[0;34m(\u001b[0m\u001b[0;34m{\u001b[0m\u001b[0mx\u001b[0m\u001b[0;34m:\u001b[0m\u001b[0;36m3\u001b[0m\u001b[0;34m}\u001b[0m\u001b[0;34m)\u001b[0m\u001b[0;34m\u001b[0m\u001b[0m\n\u001b[0m",
      "\u001b[0;31mNameError\u001b[0m: name 'x' is not defined"
     ]
    }
   ],
   "source": [
    "sym.exp(x).subs({x:3})"
   ]
  },
  {
   "cell_type": "markdown",
   "metadata": {},
   "source": [
    "Oops! This is an example of not having declared `x` to be a symbolic variable.  Let's try again.\n",
    "\n",
    "In sympy, variables that are going to be used as algebraic symbols must be declared as such.  Here's an example of a simple declaration:"
   ]
  },
  {
   "cell_type": "code",
   "execution_count": 7,
   "metadata": {},
   "outputs": [
    {
     "data": {
      "image/png": "[encoded data removed]",
      "text/latex": [
       "$$20.0855369231877$$"
      ],
      "text/plain": [
       "20.0855369231877"
      ]
     },
     "execution_count": 7,
     "metadata": {},
     "output_type": "execute_result"
    }
   ],
   "source": [
    "x = sym.symbols('x')\n",
    "sym.exp(x).subs({x:3.})"
   ]
  },
  {
   "cell_type": "code",
   "execution_count": 8,
   "metadata": {},
   "outputs": [
    {
     "data": {
      "text/plain": [
       "sympy.core.symbol.Symbol"
      ]
     },
     "execution_count": 8,
     "metadata": {},
     "output_type": "execute_result"
    }
   ],
   "source": [
    "type(x)"
   ]
  },
  {
   "cell_type": "markdown",
   "metadata": {},
   "source": [
    "You can control, to some degree, assumptions about the symbolic variables.  (As of sympy 1.0, this is still a work in progress for sophisticated assumptions.)"
   ]
  },
  {
   "cell_type": "code",
   "execution_count": 9,
   "metadata": {},
   "outputs": [
    {
     "data": {
      "text/plain": [
       "True"
      ]
     },
     "execution_count": 9,
     "metadata": {},
     "output_type": "execute_result"
    }
   ],
   "source": [
    "y = sym.symbols('y',negative=True)\n",
    "(4 - y).is_positive"
   ]
  },
  {
   "cell_type": "markdown",
   "metadata": {},
   "source": [
    "The variable name used in python code, and the output representation do not have be the same.  Here's\n",
    "a built-in example:"
   ]
  },
  {
   "cell_type": "code",
   "execution_count": 10,
   "metadata": {},
   "outputs": [
    {
     "data": {
      "image/png": "[encoded data removed]",
      "text/latex": [
       "$$\\left ( \\pi, \\quad e\\right )$$"
      ],
      "text/plain": [
       "(π, ℯ)"
      ]
     },
     "execution_count": 10,
     "metadata": {},
     "output_type": "execute_result"
    }
   ],
   "source": [
    "sym.pi, sym.E"
   ]
  },
  {
   "cell_type": "code",
   "execution_count": 11,
   "metadata": {},
   "outputs": [
    {
     "data": {
      "image/png": "[encoded data removed]",
      "text/latex": [
       "$$\\left ( 3.14159265358979, \\quad 2.71828182845905\\right )$$"
      ],
      "text/plain": [
       "(3.14159265358979, 2.71828182845905)"
      ]
     },
     "execution_count": 11,
     "metadata": {},
     "output_type": "execute_result"
    }
   ],
   "source": [
    "sym.pi.evalf(), sym.E.evalf()"
   ]
  },
  {
   "cell_type": "markdown",
   "metadata": {},
   "source": [
    "Sympy knows how to convert some standard variables to LaTeX output:"
   ]
  },
  {
   "cell_type": "code",
   "execution_count": 12,
   "metadata": {},
   "outputs": [
    {
     "data": {
      "image/png": "[encoded data removed]",
      "text/latex": [
       "$$\\Sigma$$"
      ],
      "text/plain": [
       "Σ"
      ]
     },
     "execution_count": 12,
     "metadata": {},
     "output_type": "execute_result"
    }
   ],
   "source": [
    "Sigma = sym.symbols('Sigma')\n",
    "Sigma"
   ]
  },
  {
   "cell_type": "markdown",
   "metadata": {},
   "source": [
    "But you can be more creative:"
   ]
  },
  {
   "cell_type": "code",
   "execution_count": 13,
   "metadata": {},
   "outputs": [
    {
     "data": {
      "image/png": "[encoded data removed]",
      "text/latex": [
       "$$\\left ( \\Sigma, \\quad \\Sigma^{\\prime}\\right )$$"
      ],
      "text/plain": [
       "(Σ, \\Sigma__{\\prime})"
      ]
     },
     "execution_count": 13,
     "metadata": {},
     "output_type": "execute_result"
    }
   ],
   "source": [
    "sigma, sigma_p = sym.symbols('Sigma, \\Sigma^{\\prime}')\n",
    "sigma, sigma_p"
   ]
  },
  {
   "cell_type": "markdown",
   "metadata": {},
   "source": [
    "There are other shorter ways to declare symbolic variables, but you lose some of the flexibility demonstrated above. You can import directly from a set of common symbols in the \n",
    "following way:\n",
    "- `from sympy.abc import w`"
   ]
  },
  {
   "cell_type": "markdown",
   "metadata": {},
   "source": [
    "### Integration"
   ]
  },
  {
   "cell_type": "markdown",
   "metadata": {},
   "source": [
    "Now let's evaluate the following integral:\n",
    "\n",
    "$$ \\int\\left[\\sin(x y) + \\cos(y z)\\right]\\, dx  $$"
   ]
  },
  {
   "cell_type": "code",
   "execution_count": 14,
   "metadata": {
    "collapsed": true
   },
   "outputs": [],
   "source": [
    "x,y,z = sym.symbols('x,y,z')"
   ]
  },
  {
   "cell_type": "code",
   "execution_count": 15,
   "metadata": {},
   "outputs": [],
   "source": [
    "f = sym.sin(x*y) + sym.cos(y*z)  # scipy trig functions won't work!"
   ]
  },
  {
   "cell_type": "code",
   "execution_count": 16,
   "metadata": {},
   "outputs": [
    {
     "data": {
      "image/png": "[encoded data removed]",
      "text/latex": [
       "$$x \\cos{\\left (y z \\right )} + \\begin{cases} 0 & \\text{for}\\: y = 0 \\\\- \\frac{1}{y} \\cos{\\left (x y \\right )} & \\text{otherwise} \\end{cases}$$"
      ],
      "text/plain": [
       "             ⎛⎧    0       for y = 0⎞\n",
       "             ⎜⎪                     ⎟\n",
       "x⋅cos(y⋅z) + ⎜⎨-cos(x⋅y)            ⎟\n",
       "             ⎜⎪──────────  otherwise⎟\n",
       "             ⎝⎩    y                ⎠"
      ]
     },
     "execution_count": 16,
     "metadata": {},
     "output_type": "execute_result"
    }
   ],
   "source": [
    "sym.integrate(f,x)"
   ]
  },
  {
   "cell_type": "markdown",
   "metadata": {},
   "source": [
    "Now let's make it a definite integral:\n",
    "\n",
    "$$ \\int_{-1}^1\\left[\\sin(x y) + \\cos(y z)\\right]\\, dx  $$"
   ]
  },
  {
   "cell_type": "code",
   "execution_count": 17,
   "metadata": {},
   "outputs": [
    {
     "data": {
      "image/png": "[encoded data removed]",
      "text/latex": [
       "$$2 \\cos{\\left (y z \\right )}$$"
      ],
      "text/plain": [
       "2⋅cos(y⋅z)"
      ]
     },
     "execution_count": 17,
     "metadata": {},
     "output_type": "execute_result"
    }
   ],
   "source": [
    "sym.integrate(f,(x,-1,1))"
   ]
  },
  {
   "cell_type": "markdown",
   "metadata": {},
   "source": [
    "And now a 2-d integral with infinity as a limit:\n",
    "\n",
    "$$ \\int_{-\\infty}^\\infty\\int_{-\\infty}^\\infty e^{-x^2-y^2}\\, dxdy $$"
   ]
  },
  {
   "cell_type": "code",
   "execution_count": 18,
   "metadata": {},
   "outputs": [
    {
     "data": {
      "image/png": "[encoded data removed]",
      "text/latex": [
       "$$\\pi$$"
      ],
      "text/plain": [
       "π"
      ]
     },
     "execution_count": 18,
     "metadata": {},
     "output_type": "execute_result"
    }
   ],
   "source": [
    "sym.integrate(sym.exp(-x**2 - y**2), \\\n",
    "              (x, -sym.oo, sym.oo), (y, -sym.oo, sym.oo))"
   ]
  },
  {
   "cell_type": "markdown",
   "metadata": {},
   "source": [
    "### Differentiation"
   ]
  },
  {
   "cell_type": "code",
   "execution_count": 19,
   "metadata": {
    "collapsed": true
   },
   "outputs": [],
   "source": [
    "x,y,z = sym.symbols('x,y,z')"
   ]
  },
  {
   "cell_type": "code",
   "execution_count": 20,
   "metadata": {
    "collapsed": true
   },
   "outputs": [],
   "source": [
    "g = sym.cos(x)**2"
   ]
  },
  {
   "cell_type": "code",
   "execution_count": 21,
   "metadata": {},
   "outputs": [
    {
     "data": {
      "image/png": "[encoded data removed]",
      "text/latex": [
       "$$- 2 \\sin{\\left (x \\right )} \\cos{\\left (x \\right )}$$"
      ],
      "text/plain": [
       "-2⋅sin(x)⋅cos(x)"
      ]
     },
     "execution_count": 21,
     "metadata": {},
     "output_type": "execute_result"
    }
   ],
   "source": [
    "sym.diff(g,x)     # First derivative (or sym.diff(g,x,1))"
   ]
  },
  {
   "cell_type": "code",
   "execution_count": 22,
   "metadata": {},
   "outputs": [
    {
     "data": {
      "image/png": "[encoded data removed]",
      "text/latex": [
       "$$2 \\left(\\sin^{2}{\\left (x \\right )} - \\cos^{2}{\\left (x \\right )}\\right)$$"
      ],
      "text/plain": [
       "  ⎛   2         2   ⎞\n",
       "2⋅⎝sin (x) - cos (x)⎠"
      ]
     },
     "execution_count": 22,
     "metadata": {},
     "output_type": "execute_result"
    }
   ],
   "source": [
    "sym.diff(g,x,2)   # Higher order derivative (or sym.diff(g,x,x))"
   ]
  },
  {
   "cell_type": "markdown",
   "metadata": {},
   "source": [
    "Evaluate \n",
    "$$\\frac{\\partial^3}{\\partial^2x\\partial y} e^{xyz}$$"
   ]
  },
  {
   "cell_type": "code",
   "execution_count": 23,
   "metadata": {},
   "outputs": [
    {
     "data": {
      "image/png": "[encoded data removed]",
      "text/latex": [
       "$$y z^{2} \\left(x y z + 2\\right) e^{x y z}$$"
      ],
      "text/plain": [
       "   2              x⋅y⋅z\n",
       "y⋅z ⋅(x⋅y⋅z + 2)⋅ℯ     "
      ]
     },
     "execution_count": 23,
     "metadata": {},
     "output_type": "execute_result"
    }
   ],
   "source": [
    "h = sym.exp(x*y*z)\n",
    "sym.diff(h,x,x,y)"
   ]
  },
  {
   "cell_type": "code",
   "execution_count": 24,
   "metadata": {
    "collapsed": true
   },
   "outputs": [],
   "source": [
    "def m(x):\n",
    "    return 3*x**4"
   ]
  },
  {
   "cell_type": "code",
   "execution_count": 25,
   "metadata": {},
   "outputs": [
    {
     "data": {
      "image/png": "[encoded data removed]",
      "text/latex": [
       "$$12 x^{3}$$"
      ],
      "text/plain": [
       "    3\n",
       "12⋅x "
      ]
     },
     "execution_count": 25,
     "metadata": {},
     "output_type": "execute_result"
    }
   ],
   "source": [
    "sym.diff(m(x),x)"
   ]
  },
  {
   "cell_type": "markdown",
   "metadata": {},
   "source": [
    "### Evaluating sympy expressions numerically"
   ]
  },
  {
   "cell_type": "code",
   "execution_count": 26,
   "metadata": {
    "collapsed": true
   },
   "outputs": [],
   "source": [
    "x,y,z = sym.symbols('x,y,z')"
   ]
  },
  {
   "cell_type": "markdown",
   "metadata": {},
   "source": [
    "#### Evaluation at a single point"
   ]
  },
  {
   "cell_type": "code",
   "execution_count": 27,
   "metadata": {},
   "outputs": [],
   "source": [
    "a = 12*x**3"
   ]
  },
  {
   "cell_type": "code",
   "execution_count": 28,
   "metadata": {},
   "outputs": [
    {
     "data": {
      "image/png": "[encoded data removed]",
      "text/latex": [
       "$$96$$"
      ],
      "text/plain": [
       "96"
      ]
     },
     "execution_count": 28,
     "metadata": {},
     "output_type": "execute_result"
    }
   ],
   "source": [
    "a.subs(x,2)  # or a.sub({x:2}). In general, the argument is a dictionary"
   ]
  },
  {
   "cell_type": "code",
   "execution_count": 29,
   "metadata": {},
   "outputs": [
    {
     "data": {
      "image/png": "[encoded data removed]",
      "text/latex": [
       "$$12 x^{3} e^{y}$$"
      ],
      "text/plain": [
       "    3  y\n",
       "12⋅x ⋅ℯ "
      ]
     },
     "execution_count": 29,
     "metadata": {},
     "output_type": "execute_result"
    }
   ],
   "source": [
    "b = a*sym.exp(y)\n",
    "b"
   ]
  },
  {
   "cell_type": "code",
   "execution_count": 30,
   "metadata": {},
   "outputs": [
    {
     "data": {
      "image/png": "[encoded data removed]",
      "text/latex": [
       "$$96 e^{y}$$"
      ],
      "text/plain": [
       "    y\n",
       "96⋅ℯ "
      ]
     },
     "execution_count": 30,
     "metadata": {},
     "output_type": "execute_result"
    }
   ],
   "source": [
    "b.subs(x,2)"
   ]
  },
  {
   "cell_type": "code",
   "execution_count": 31,
   "metadata": {},
   "outputs": [
    {
     "data": {
      "image/png": "[encoded data removed]",
      "text/latex": [
       "$$48.0$$"
      ],
      "text/plain": [
       "48.0000000000000"
      ]
     },
     "execution_count": 31,
     "metadata": {},
     "output_type": "execute_result"
    }
   ],
   "source": [
    "b.subs({x:2,y:sym.log(1/2)})"
   ]
  },
  {
   "cell_type": "markdown",
   "metadata": {},
   "source": [
    "### Turn sympy expression into a python function for subsequent use"
   ]
  },
  {
   "cell_type": "code",
   "execution_count": 32,
   "metadata": {},
   "outputs": [],
   "source": [
    "f = sym.lambdify(x,a)         # Creates a python function f(x)\n",
    "g = sym.lambdify((x,y),b)     # Creates a python function g(x,y)"
   ]
  },
  {
   "cell_type": "code",
   "execution_count": 33,
   "metadata": {},
   "outputs": [
    {
     "data": {
      "application/javascript": [
       "/* Put everything inside the global mpl namespace */\n",
       "window.mpl = {};\n",
       "\n",
       "\n",
       "mpl.get_websocket_type = function() {\n",
       "    if (typeof(WebSocket) !== 'undefined') {\n",
       "        return WebSocket;\n",
       "    } else if (typeof(MozWebSocket) !== 'undefined') {\n",
       "        return MozWebSocket;\n",
       "    } else {\n",
       "        alert('Your browser does not have WebSocket support.' +\n",
       "              'Please try Chrome, Safari or Firefox ≥ 6. ' +\n",
       "              'Firefox 4 and 5 are also supported but you ' +\n",
       "              'have to enable WebSockets in about:config.');\n",
       "    };\n",
       "}\n",
       "\n",
       "mpl.figure = function(figure_id, websocket, ondownload, parent_element) {\n",
       "    this.id = figure_id;\n",
       "\n",
       "    this.ws = websocket;\n",
       "\n",
       "    this.supports_binary = (this.ws.binaryType != undefined);\n",
       "\n",
       "    if (!this.supports_binary) {\n",
       "        var warnings = document.getElementById(\"mpl-warnings\");\n",
       "        if (warnings) {\n",
       "            warnings.style.display = 'block';\n",
       "            warnings.textContent = (\n",
       "                \"This browser does not support binary websocket messages. \" +\n",
       "                    \"Performance may be slow.\");\n",
       "        }\n",
       "    }\n",
       "\n",
       "    this.imageObj = new Image();\n",
       "\n",
       "    this.context = undefined;\n",
       "    this.message = undefined;\n",
       "    this.canvas = undefined;\n",
       "    this.rubberband_canvas = undefined;\n",
       "    this.rubberband_context = undefined;\n",
       "    this.format_dropdown = undefined;\n",
       "\n",
       "    this.image_mode = 'full';\n",
       "\n",
       "    this.root = $('<div/>');\n",
       "    this._root_extra_style(this.root)\n",
       "    this.root.attr('style', 'display: inline-block');\n",
       "\n",
       "    $(parent_element).append(this.root);\n",
       "\n",
       "    this._init_header(this);\n",
       "    this._init_canvas(this);\n",
       "    this._init_toolbar(this);\n",
       "\n",
       "    var fig = this;\n",
       "\n",
       "    this.waiting = false;\n",
       "\n",
       "    this.ws.onopen =  function () {\n",
       "            fig.send_message(\"supports_binary\", {value: fig.supports_binary});\n",
       "            fig.send_message(\"send_image_mode\", {});\n",
       "            if (mpl.ratio != 1) {\n",
       "                fig.send_message(\"set_dpi_ratio\", {'dpi_ratio': mpl.ratio});\n",
       "            }\n",
       "            fig.send_message(\"refresh\", {});\n",
       "        }\n",
       "\n",
       "    this.imageObj.onload = function() {\n",
       "            if (fig.image_mode == 'full') {\n",
       "                // Full images could contain transparency (where diff images\n",
       "                // almost always do), so we need to clear the canvas so that\n",
       "                // there is no ghosting.\n",
       "                fig.context.clearRect(0, 0, fig.canvas.width, fig.canvas.height);\n",
       "            }\n",
       "            fig.context.drawImage(fig.imageObj, 0, 0);\n",
       "        };\n",
       "\n",
       "    this.imageObj.onunload = function() {\n",
       "        this.ws.close();\n",
       "    }\n",
       "\n",
       "    this.ws.onmessage = this._make_on_message_function(this);\n",
       "\n",
       "    this.ondownload = ondownload;\n",
       "}\n",
       "\n",
       "mpl.figure.prototype._init_header = function() {\n",
       "    var titlebar = $(\n",
       "        '<div class=\"ui-dialog-titlebar ui-widget-header ui-corner-all ' +\n",
       "        'ui-helper-clearfix\"/>');\n",
       "    var titletext = $(\n",
       "        '<div class=\"ui-dialog-title\" style=\"width: 100%; ' +\n",
       "        'text-align: center; padding: 3px;\"/>');\n",
       "    titlebar.append(titletext)\n",
       "    this.root.append(titlebar);\n",
       "    this.header = titletext[0];\n",
       "}\n",
       "\n",
       "\n",
       "\n",
       "mpl.figure.prototype._canvas_extra_style = function(canvas_div) {\n",
       "\n",
       "}\n",
       "\n",
       "\n",
       "mpl.figure.prototype._root_extra_style = function(canvas_div) {\n",
       "\n",
       "}\n",
       "\n",
       "mpl.figure.prototype._init_canvas = function() {\n",
       "    var fig = this;\n",
       "\n",
       "    var canvas_div = $('<div/>');\n",
       "\n",
       "    canvas_div.attr('style', 'position: relative; clear: both; outline: 0');\n",
       "\n",
       "    function canvas_keyboard_event(event) {\n",
       "        return fig.key_event(event, event['data']);\n",
       "    }\n",
       "\n",
       "    canvas_div.keydown('key_press', canvas_keyboard_event);\n",
       "    canvas_div.keyup('key_release', canvas_keyboard_event);\n",
       "    this.canvas_div = canvas_div\n",
       "    this._canvas_extra_style(canvas_div)\n",
       "    this.root.append(canvas_div);\n",
       "\n",
       "    var canvas = $('<canvas/>');\n",
       "    canvas.addClass('mpl-canvas');\n",
       "    canvas.attr('style', \"left: 0; top: 0; z-index: 0; outline: 0\")\n",
       "\n",
       "    this.canvas = canvas[0];\n",
       "    this.context = canvas[0].getContext(\"2d\");\n",
       "\n",
       "    var backingStore = this.context.backingStorePixelRatio ||\n",
       "\tthis.context.webkitBackingStorePixelRatio ||\n",
       "\tthis.context.mozBackingStorePixelRatio ||\n",
       "\tthis.context.msBackingStorePixelRatio ||\n",
       "\tthis.context.oBackingStorePixelRatio ||\n",
       "\tthis.context.backingStorePixelRatio || 1;\n",
       "\n",
       "    mpl.ratio = (window.devicePixelRatio || 1) / backingStore;\n",
       "\n",
       "    var rubberband = $('<canvas/>');\n",
       "    rubberband.attr('style', \"position: absolute; left: 0; top: 0; z-index: 1;\")\n",
       "\n",
       "    var pass_mouse_events = true;\n",
       "\n",
       "    canvas_div.resizable({\n",
       "        start: function(event, ui) {\n",
       "            pass_mouse_events = false;\n",
       "        },\n",
       "        resize: function(event, ui) {\n",
       "            fig.request_resize(ui.size.width, ui.size.height);\n",
       "        },\n",
       "        stop: function(event, ui) {\n",
       "            pass_mouse_events = true;\n",
       "            fig.request_resize(ui.size.width, ui.size.height);\n",
       "        },\n",
       "    });\n",
       "\n",
       "    function mouse_event_fn(event) {\n",
       "        if (pass_mouse_events)\n",
       "            return fig.mouse_event(event, event['data']);\n",
       "    }\n",
       "\n",
       "    rubberband.mousedown('button_press', mouse_event_fn);\n",
       "    rubberband.mouseup('button_release', mouse_event_fn);\n",
       "    // Throttle sequential mouse events to 1 every 20ms.\n",
       "    rubberband.mousemove('motion_notify', mouse_event_fn);\n",
       "\n",
       "    rubberband.mouseenter('figure_enter', mouse_event_fn);\n",
       "    rubberband.mouseleave('figure_leave', mouse_event_fn);\n",
       "\n",
       "    canvas_div.on(\"wheel\", function (event) {\n",
       "        event = event.originalEvent;\n",
       "        event['data'] = 'scroll'\n",
       "        if (event.deltaY < 0) {\n",
       "            event.step = 1;\n",
       "        } else {\n",
       "            event.step = -1;\n",
       "        }\n",
       "        mouse_event_fn(event);\n",
       "    });\n",
       "\n",
       "    canvas_div.append(canvas);\n",
       "    canvas_div.append(rubberband);\n",
       "\n",
       "    this.rubberband = rubberband;\n",
       "    this.rubberband_canvas = rubberband[0];\n",
       "    this.rubberband_context = rubberband[0].getContext(\"2d\");\n",
       "    this.rubberband_context.strokeStyle = \"#000000\";\n",
       "\n",
       "    this._resize_canvas = function(width, height) {\n",
       "        // Keep the size of the canvas, canvas container, and rubber band\n",
       "        // canvas in synch.\n",
       "        canvas_div.css('width', width)\n",
       "        canvas_div.css('height', height)\n",
       "\n",
       "        canvas.attr('width', width * mpl.ratio);\n",
       "        canvas.attr('height', height * mpl.ratio);\n",
       "        canvas.attr('style', 'width: ' + width + 'px; height: ' + height + 'px;');\n",
       "\n",
       "        rubberband.attr('width', width);\n",
       "        rubberband.attr('height', height);\n",
       "    }\n",
       "\n",
       "    // Set the figure to an initial 600x600px, this will subsequently be updated\n",
       "    // upon first draw.\n",
       "    this._resize_canvas(600, 600);\n",
       "\n",
       "    // Disable right mouse context menu.\n",
       "    $(this.rubberband_canvas).bind(\"contextmenu\",function(e){\n",
       "        return false;\n",
       "    });\n",
       "\n",
       "    function set_focus () {\n",
       "        canvas.focus();\n",
       "        canvas_div.focus();\n",
       "    }\n",
       "\n",
       "    window.setTimeout(set_focus, 100);\n",
       "}\n",
       "\n",
       "mpl.figure.prototype._init_toolbar = function() {\n",
       "    var fig = this;\n",
       "\n",
       "    var nav_element = $('<div/>')\n",
       "    nav_element.attr('style', 'width: 100%');\n",
       "    this.root.append(nav_element);\n",
       "\n",
       "    // Define a callback function for later on.\n",
       "    function toolbar_event(event) {\n",
       "        return fig.toolbar_button_onclick(event['data']);\n",
       "    }\n",
       "    function toolbar_mouse_event(event) {\n",
       "        return fig.toolbar_button_onmouseover(event['data']);\n",
       "    }\n",
       "\n",
       "    for(var toolbar_ind in mpl.toolbar_items) {\n",
       "        var name = mpl.toolbar_items[toolbar_ind][0];\n",
       "        var tooltip = mpl.toolbar_items[toolbar_ind][1];\n",
       "        var image = mpl.toolbar_items[toolbar_ind][2];\n",
       "        var method_name = mpl.toolbar_items[toolbar_ind][3];\n",
       "\n",
       "        if (!name) {\n",
       "            // put a spacer in here.\n",
       "            continue;\n",
       "        }\n",
       "        var button = $('<button/>');\n",
       "        button.addClass('ui-button ui-widget ui-state-default ui-corner-all ' +\n",
       "                        'ui-button-icon-only');\n",
       "        button.attr('role', 'button');\n",
       "        button.attr('aria-disabled', 'false');\n",
       "        button.click(method_name, toolbar_event);\n",
       "        button.mouseover(tooltip, toolbar_mouse_event);\n",
       "\n",
       "        var icon_img = $('<span/>');\n",
       "        icon_img.addClass('ui-button-icon-primary ui-icon');\n",
       "        icon_img.addClass(image);\n",
       "        icon_img.addClass('ui-corner-all');\n",
       "\n",
       "        var tooltip_span = $('<span/>');\n",
       "        tooltip_span.addClass('ui-button-text');\n",
       "        tooltip_span.html(tooltip);\n",
       "\n",
       "        button.append(icon_img);\n",
       "        button.append(tooltip_span);\n",
       "\n",
       "        nav_element.append(button);\n",
       "    }\n",
       "\n",
       "    var fmt_picker_span = $('<span/>');\n",
       "\n",
       "    var fmt_picker = $('<select/>');\n",
       "    fmt_picker.addClass('mpl-toolbar-option ui-widget ui-widget-content');\n",
       "    fmt_picker_span.append(fmt_picker);\n",
       "    nav_element.append(fmt_picker_span);\n",
       "    this.format_dropdown = fmt_picker[0];\n",
       "\n",
       "    for (var ind in mpl.extensions) {\n",
       "        var fmt = mpl.extensions[ind];\n",
       "        var option = $(\n",
       "            '<option/>', {selected: fmt === mpl.default_extension}).html(fmt);\n",
       "        fmt_picker.append(option)\n",
       "    }\n",
       "\n",
       "    // Add hover states to the ui-buttons\n",
       "    $( \".ui-button\" ).hover(\n",
       "        function() { $(this).addClass(\"ui-state-hover\");},\n",
       "        function() { $(this).removeClass(\"ui-state-hover\");}\n",
       "    );\n",
       "\n",
       "    var status_bar = $('<span class=\"mpl-message\"/>');\n",
       "    nav_element.append(status_bar);\n",
       "    this.message = status_bar[0];\n",
       "}\n",
       "\n",
       "mpl.figure.prototype.request_resize = function(x_pixels, y_pixels) {\n",
       "    // Request matplotlib to resize the figure. Matplotlib will then trigger a resize in the client,\n",
       "    // which will in turn request a refresh of the image.\n",
       "    this.send_message('resize', {'width': x_pixels, 'height': y_pixels});\n",
       "}\n",
       "\n",
       "mpl.figure.prototype.send_message = function(type, properties) {\n",
       "    properties['type'] = type;\n",
       "    properties['figure_id'] = this.id;\n",
       "    this.ws.send(JSON.stringify(properties));\n",
       "}\n",
       "\n",
       "mpl.figure.prototype.send_draw_message = function() {\n",
       "    if (!this.waiting) {\n",
       "        this.waiting = true;\n",
       "        this.ws.send(JSON.stringify({type: \"draw\", figure_id: this.id}));\n",
       "    }\n",
       "}\n",
       "\n",
       "\n",
       "mpl.figure.prototype.handle_save = function(fig, msg) {\n",
       "    var format_dropdown = fig.format_dropdown;\n",
       "    var format = format_dropdown.options[format_dropdown.selectedIndex].value;\n",
       "    fig.ondownload(fig, format);\n",
       "}\n",
       "\n",
       "\n",
       "mpl.figure.prototype.handle_resize = function(fig, msg) {\n",
       "    var size = msg['size'];\n",
       "    if (size[0] != fig.canvas.width || size[1] != fig.canvas.height) {\n",
       "        fig._resize_canvas(size[0], size[1]);\n",
       "        fig.send_message(\"refresh\", {});\n",
       "    };\n",
       "}\n",
       "\n",
       "mpl.figure.prototype.handle_rubberband = function(fig, msg) {\n",
       "    var x0 = msg['x0'] / mpl.ratio;\n",
       "    var y0 = (fig.canvas.height - msg['y0']) / mpl.ratio;\n",
       "    var x1 = msg['x1'] / mpl.ratio;\n",
       "    var y1 = (fig.canvas.height - msg['y1']) / mpl.ratio;\n",
       "    x0 = Math.floor(x0) + 0.5;\n",
       "    y0 = Math.floor(y0) + 0.5;\n",
       "    x1 = Math.floor(x1) + 0.5;\n",
       "    y1 = Math.floor(y1) + 0.5;\n",
       "    var min_x = Math.min(x0, x1);\n",
       "    var min_y = Math.min(y0, y1);\n",
       "    var width = Math.abs(x1 - x0);\n",
       "    var height = Math.abs(y1 - y0);\n",
       "\n",
       "    fig.rubberband_context.clearRect(\n",
       "        0, 0, fig.canvas.width, fig.canvas.height);\n",
       "\n",
       "    fig.rubberband_context.strokeRect(min_x, min_y, width, height);\n",
       "}\n",
       "\n",
       "mpl.figure.prototype.handle_figure_label = function(fig, msg) {\n",
       "    // Updates the figure title.\n",
       "    fig.header.textContent = msg['label'];\n",
       "}\n",
       "\n",
       "mpl.figure.prototype.handle_cursor = function(fig, msg) {\n",
       "    var cursor = msg['cursor'];\n",
       "    switch(cursor)\n",
       "    {\n",
       "    case 0:\n",
       "        cursor = 'pointer';\n",
       "        break;\n",
       "    case 1:\n",
       "        cursor = 'default';\n",
       "        break;\n",
       "    case 2:\n",
       "        cursor = 'crosshair';\n",
       "        break;\n",
       "    case 3:\n",
       "        cursor = 'move';\n",
       "        break;\n",
       "    }\n",
       "    fig.rubberband_canvas.style.cursor = cursor;\n",
       "}\n",
       "\n",
       "mpl.figure.prototype.handle_message = function(fig, msg) {\n",
       "    fig.message.textContent = msg['message'];\n",
       "}\n",
       "\n",
       "mpl.figure.prototype.handle_draw = function(fig, msg) {\n",
       "    // Request the server to send over a new figure.\n",
       "    fig.send_draw_message();\n",
       "}\n",
       "\n",
       "mpl.figure.prototype.handle_image_mode = function(fig, msg) {\n",
       "    fig.image_mode = msg['mode'];\n",
       "}\n",
       "\n",
       "mpl.figure.prototype.updated_canvas_event = function() {\n",
       "    // Called whenever the canvas gets updated.\n",
       "    this.send_message(\"ack\", {});\n",
       "}\n",
       "\n",
       "// A function to construct a web socket function for onmessage handling.\n",
       "// Called in the figure constructor.\n",
       "mpl.figure.prototype._make_on_message_function = function(fig) {\n",
       "    return function socket_on_message(evt) {\n",
       "        if (evt.data instanceof Blob) {\n",
       "            /* FIXME: We get \"Resource interpreted as Image but\n",
       "             * transferred with MIME type text/plain:\" errors on\n",
       "             * Chrome.  But how to set the MIME type?  It doesn't seem\n",
       "             * to be part of the websocket stream */\n",
       "            evt.data.type = \"image/png\";\n",
       "\n",
       "            /* Free the memory for the previous frames */\n",
       "            if (fig.imageObj.src) {\n",
       "                (window.URL || window.webkitURL).revokeObjectURL(\n",
       "                    fig.imageObj.src);\n",
       "            }\n",
       "\n",
       "            fig.imageObj.src = (window.URL || window.webkitURL).createObjectURL(\n",
       "                evt.data);\n",
       "            fig.updated_canvas_event();\n",
       "            fig.waiting = false;\n",
       "            return;\n",
       "        }\n",
       "        else if (typeof evt.data === 'string' && evt.data.slice(0, 21) == \"data:image/png;base64\") {\n",
       "            fig.imageObj.src = evt.data;\n",
       "            fig.updated_canvas_event();\n",
       "            fig.waiting = false;\n",
       "            return;\n",
       "        }\n",
       "\n",
       "        var msg = JSON.parse(evt.data);\n",
       "        var msg_type = msg['type'];\n",
       "\n",
       "        // Call the  \"handle_{type}\" callback, which takes\n",
       "        // the figure and JSON message as its only arguments.\n",
       "        try {\n",
       "            var callback = fig[\"handle_\" + msg_type];\n",
       "        } catch (e) {\n",
       "            console.log(\"No handler for the '\" + msg_type + \"' message type: \", msg);\n",
       "            return;\n",
       "        }\n",
       "\n",
       "        if (callback) {\n",
       "            try {\n",
       "                // console.log(\"Handling '\" + msg_type + \"' message: \", msg);\n",
       "                callback(fig, msg);\n",
       "            } catch (e) {\n",
       "                console.log(\"Exception inside the 'handler_\" + msg_type + \"' callback:\", e, e.stack, msg);\n",
       "            }\n",
       "        }\n",
       "    };\n",
       "}\n",
       "\n",
       "// from http://stackoverflow.com/questions/1114465/getting-mouse-location-in-canvas\n",
       "mpl.findpos = function(e) {\n",
       "    //this section is from http://www.quirksmode.org/js/events_properties.html\n",
       "    var targ;\n",
       "    if (!e)\n",
       "        e = window.event;\n",
       "    if (e.target)\n",
       "        targ = e.target;\n",
       "    else if (e.srcElement)\n",
       "        targ = e.srcElement;\n",
       "    if (targ.nodeType == 3) // defeat Safari bug\n",
       "        targ = targ.parentNode;\n",
       "\n",
       "    // jQuery normalizes the pageX and pageY\n",
       "    // pageX,Y are the mouse positions relative to the document\n",
       "    // offset() returns the position of the element relative to the document\n",
       "    var x = e.pageX - $(targ).offset().left;\n",
       "    var y = e.pageY - $(targ).offset().top;\n",
       "\n",
       "    return {\"x\": x, \"y\": y};\n",
       "};\n",
       "\n",
       "/*\n",
       " * return a copy of an object with only non-object keys\n",
       " * we need this to avoid circular references\n",
       " * http://stackoverflow.com/a/24161582/3208463\n",
       " */\n",
       "function simpleKeys (original) {\n",
       "  return Object.keys(original).reduce(function (obj, key) {\n",
       "    if (typeof original[key] !== 'object')\n",
       "        obj[key] = original[key]\n",
       "    return obj;\n",
       "  }, {});\n",
       "}\n",
       "\n",
       "mpl.figure.prototype.mouse_event = function(event, name) {\n",
       "    var canvas_pos = mpl.findpos(event)\n",
       "\n",
       "    if (name === 'button_press')\n",
       "    {\n",
       "        this.canvas.focus();\n",
       "        this.canvas_div.focus();\n",
       "    }\n",
       "\n",
       "    var x = canvas_pos.x * mpl.ratio;\n",
       "    var y = canvas_pos.y * mpl.ratio;\n",
       "\n",
       "    this.send_message(name, {x: x, y: y, button: event.button,\n",
       "                             step: event.step,\n",
       "                             guiEvent: simpleKeys(event)});\n",
       "\n",
       "    /* This prevents the web browser from automatically changing to\n",
       "     * the text insertion cursor when the button is pressed.  We want\n",
       "     * to control all of the cursor setting manually through the\n",
       "     * 'cursor' event from matplotlib */\n",
       "    event.preventDefault();\n",
       "    return false;\n",
       "}\n",
       "\n",
       "mpl.figure.prototype._key_event_extra = function(event, name) {\n",
       "    // Handle any extra behaviour associated with a key event\n",
       "}\n",
       "\n",
       "mpl.figure.prototype.key_event = function(event, name) {\n",
       "\n",
       "    // Prevent repeat events\n",
       "    if (name == 'key_press')\n",
       "    {\n",
       "        if (event.which === this._key)\n",
       "            return;\n",
       "        else\n",
       "            this._key = event.which;\n",
       "    }\n",
       "    if (name == 'key_release')\n",
       "        this._key = null;\n",
       "\n",
       "    var value = '';\n",
       "    if (event.ctrlKey && event.which != 17)\n",
       "        value += \"ctrl+\";\n",
       "    if (event.altKey && event.which != 18)\n",
       "        value += \"alt+\";\n",
       "    if (event.shiftKey && event.which != 16)\n",
       "        value += \"shift+\";\n",
       "\n",
       "    value += 'k';\n",
       "    value += event.which.toString();\n",
       "\n",
       "    this._key_event_extra(event, name);\n",
       "\n",
       "    this.send_message(name, {key: value,\n",
       "                             guiEvent: simpleKeys(event)});\n",
       "    return false;\n",
       "}\n",
       "\n",
       "mpl.figure.prototype.toolbar_button_onclick = function(name) {\n",
       "    if (name == 'download') {\n",
       "        this.handle_save(this, null);\n",
       "    } else {\n",
       "        this.send_message(\"toolbar_button\", {name: name});\n",
       "    }\n",
       "};\n",
       "\n",
       "mpl.figure.prototype.toolbar_button_onmouseover = function(tooltip) {\n",
       "    this.message.textContent = tooltip;\n",
       "};\n",
       "mpl.toolbar_items = [[\"Home\", \"Reset original view\", \"fa fa-home icon-home\", \"home\"], [\"Back\", \"Back to  previous view\", \"fa fa-arrow-left icon-arrow-left\", \"back\"], [\"Forward\", \"Forward to next view\", \"fa fa-arrow-right icon-arrow-right\", \"forward\"], [\"\", \"\", \"\", \"\"], [\"Pan\", \"Pan axes with left mouse, zoom with right\", \"fa fa-arrows icon-move\", \"pan\"], [\"Zoom\", \"Zoom to rectangle\", \"fa fa-square-o icon-check-empty\", \"zoom\"], [\"\", \"\", \"\", \"\"], [\"Download\", \"Download plot\", \"fa fa-floppy-o icon-save\", \"download\"]];\n",
       "\n",
       "mpl.extensions = [\"eps\", \"jpeg\", \"pdf\", \"png\", \"ps\", \"raw\", \"svg\", \"tif\"];\n",
       "\n",
       "mpl.default_extension = \"png\";var comm_websocket_adapter = function(comm) {\n",
       "    // Create a \"websocket\"-like object which calls the given IPython comm\n",
       "    // object with the appropriate methods. Currently this is a non binary\n",
       "    // socket, so there is still some room for performance tuning.\n",
       "    var ws = {};\n",
       "\n",
       "    ws.close = function() {\n",
       "        comm.close()\n",
       "    };\n",
       "    ws.send = function(m) {\n",
       "        //console.log('sending', m);\n",
       "        comm.send(m);\n",
       "    };\n",
       "    // Register the callback with on_msg.\n",
       "    comm.on_msg(function(msg) {\n",
       "        //console.log('receiving', msg['content']['data'], msg);\n",
       "        // Pass the mpl event to the overriden (by mpl) onmessage function.\n",
       "        ws.onmessage(msg['content']['data'])\n",
       "    });\n",
       "    return ws;\n",
       "}\n",
       "\n",
       "mpl.mpl_figure_comm = function(comm, msg) {\n",
       "    // This is the function which gets called when the mpl process\n",
       "    // starts-up an IPython Comm through the \"matplotlib\" channel.\n",
       "\n",
       "    var id = msg.content.data.id;\n",
       "    // Get hold of the div created by the display call when the Comm\n",
       "    // socket was opened in Python.\n",
       "    var element = $(\"#\" + id);\n",
       "    var ws_proxy = comm_websocket_adapter(comm)\n",
       "\n",
       "    function ondownload(figure, format) {\n",
       "        window.open(figure.imageObj.src);\n",
       "    }\n",
       "\n",
       "    var fig = new mpl.figure(id, ws_proxy,\n",
       "                           ondownload,\n",
       "                           element.get(0));\n",
       "\n",
       "    // Call onopen now - mpl needs it, as it is assuming we've passed it a real\n",
       "    // web socket which is closed, not our websocket->open comm proxy.\n",
       "    ws_proxy.onopen();\n",
       "\n",
       "    fig.parent_element = element.get(0);\n",
       "    fig.cell_info = mpl.find_output_cell(\"<div id='\" + id + \"'></div>\");\n",
       "    if (!fig.cell_info) {\n",
       "        console.error(\"Failed to find cell for figure\", id, fig);\n",
       "        return;\n",
       "    }\n",
       "\n",
       "    var output_index = fig.cell_info[2]\n",
       "    var cell = fig.cell_info[0];\n",
       "\n",
       "};\n",
       "\n",
       "mpl.figure.prototype.handle_close = function(fig, msg) {\n",
       "    var width = fig.canvas.width/mpl.ratio\n",
       "    fig.root.unbind('remove')\n",
       "\n",
       "    // Update the output cell to use the data from the current canvas.\n",
       "    fig.push_to_output();\n",
       "    var dataURL = fig.canvas.toDataURL();\n",
       "    // Re-enable the keyboard manager in IPython - without this line, in FF,\n",
       "    // the notebook keyboard shortcuts fail.\n",
       "    IPython.keyboard_manager.enable()\n",
       "    $(fig.parent_element).html('<img src=\"' + dataURL + '\" width=\"' + width + '\">');\n",
       "    fig.close_ws(fig, msg);\n",
       "}\n",
       "\n",
       "mpl.figure.prototype.close_ws = function(fig, msg){\n",
       "    fig.send_message('closing', msg);\n",
       "    // fig.ws.close()\n",
       "}\n",
       "\n",
       "mpl.figure.prototype.push_to_output = function(remove_interactive) {\n",
       "    // Turn the data on the canvas into data in the output cell.\n",
       "    var width = this.canvas.width/mpl.ratio\n",
       "    var dataURL = this.canvas.toDataURL();\n",
       "    this.cell_info[1]['text/html'] = '<img src=\"' + dataURL + '\" width=\"' + width + '\">';\n",
       "}\n",
       "\n",
       "mpl.figure.prototype.updated_canvas_event = function() {\n",
       "    // Tell IPython that the notebook contents must change.\n",
       "    IPython.notebook.set_dirty(true);\n",
       "    this.send_message(\"ack\", {});\n",
       "    var fig = this;\n",
       "    // Wait a second, then push the new image to the DOM so\n",
       "    // that it is saved nicely (might be nice to debounce this).\n",
       "    setTimeout(function () { fig.push_to_output() }, 1000);\n",
       "}\n",
       "\n",
       "mpl.figure.prototype._init_toolbar = function() {\n",
       "    var fig = this;\n",
       "\n",
       "    var nav_element = $('<div/>')\n",
       "    nav_element.attr('style', 'width: 100%');\n",
       "    this.root.append(nav_element);\n",
       "\n",
       "    // Define a callback function for later on.\n",
       "    function toolbar_event(event) {\n",
       "        return fig.toolbar_button_onclick(event['data']);\n",
       "    }\n",
       "    function toolbar_mouse_event(event) {\n",
       "        return fig.toolbar_button_onmouseover(event['data']);\n",
       "    }\n",
       "\n",
       "    for(var toolbar_ind in mpl.toolbar_items){\n",
       "        var name = mpl.toolbar_items[toolbar_ind][0];\n",
       "        var tooltip = mpl.toolbar_items[toolbar_ind][1];\n",
       "        var image = mpl.toolbar_items[toolbar_ind][2];\n",
       "        var method_name = mpl.toolbar_items[toolbar_ind][3];\n",
       "\n",
       "        if (!name) { continue; };\n",
       "\n",
       "        var button = $('<button class=\"btn btn-default\" href=\"#\" title=\"' + name + '\"><i class=\"fa ' + image + ' fa-lg\"></i></button>');\n",
       "        button.click(method_name, toolbar_event);\n",
       "        button.mouseover(tooltip, toolbar_mouse_event);\n",
       "        nav_element.append(button);\n",
       "    }\n",
       "\n",
       "    // Add the status bar.\n",
       "    var status_bar = $('<span class=\"mpl-message\" style=\"text-align:right; float: right;\"/>');\n",
       "    nav_element.append(status_bar);\n",
       "    this.message = status_bar[0];\n",
       "\n",
       "    // Add the close button to the window.\n",
       "    var buttongrp = $('<div class=\"btn-group inline pull-right\"></div>');\n",
       "    var button = $('<button class=\"btn btn-mini btn-primary\" href=\"#\" title=\"Stop Interaction\"><i class=\"fa fa-power-off icon-remove icon-large\"></i></button>');\n",
       "    button.click(function (evt) { fig.handle_close(fig, {}); } );\n",
       "    button.mouseover('Stop Interaction', toolbar_mouse_event);\n",
       "    buttongrp.append(button);\n",
       "    var titlebar = this.root.find($('.ui-dialog-titlebar'));\n",
       "    titlebar.prepend(buttongrp);\n",
       "}\n",
       "\n",
       "mpl.figure.prototype._root_extra_style = function(el){\n",
       "    var fig = this\n",
       "    el.on(\"remove\", function(){\n",
       "\tfig.close_ws(fig, {});\n",
       "    });\n",
       "}\n",
       "\n",
       "mpl.figure.prototype._canvas_extra_style = function(el){\n",
       "    // this is important to make the div 'focusable\n",
       "    el.attr('tabindex', 0)\n",
       "    // reach out to IPython and tell the keyboard manager to turn it's self\n",
       "    // off when our div gets focus\n",
       "\n",
       "    // location in version 3\n",
       "    if (IPython.notebook.keyboard_manager) {\n",
       "        IPython.notebook.keyboard_manager.register_events(el);\n",
       "    }\n",
       "    else {\n",
       "        // location in version 2\n",
       "        IPython.keyboard_manager.register_events(el);\n",
       "    }\n",
       "\n",
       "}\n",
       "\n",
       "mpl.figure.prototype._key_event_extra = function(event, name) {\n",
       "    var manager = IPython.notebook.keyboard_manager;\n",
       "    if (!manager)\n",
       "        manager = IPython.keyboard_manager;\n",
       "\n",
       "    // Check for shift+enter\n",
       "    if (event.shiftKey && event.which == 13) {\n",
       "        this.canvas_div.blur();\n",
       "        // select the cell after this one\n",
       "        var index = IPython.notebook.find_cell_index(this.cell_info[0]);\n",
       "        IPython.notebook.select(index + 1);\n",
       "    }\n",
       "}\n",
       "\n",
       "mpl.figure.prototype.handle_save = function(fig, msg) {\n",
       "    fig.ondownload(fig, null);\n",
       "}\n",
       "\n",
       "\n",
       "mpl.find_output_cell = function(html_output) {\n",
       "    // Return the cell and output element which can be found *uniquely* in the notebook.\n",
       "    // Note - this is a bit hacky, but it is done because the \"notebook_saving.Notebook\"\n",
       "    // IPython event is triggered only after the cells have been serialised, which for\n",
       "    // our purposes (turning an active figure into a static one), is too late.\n",
       "    var cells = IPython.notebook.get_cells();\n",
       "    var ncells = cells.length;\n",
       "    for (var i=0; i<ncells; i++) {\n",
       "        var cell = cells[i];\n",
       "        if (cell.cell_type === 'code'){\n",
       "            for (var j=0; j<cell.output_area.outputs.length; j++) {\n",
       "                var data = cell.output_area.outputs[j];\n",
       "                if (data.data) {\n",
       "                    // IPython >= 3 moved mimebundle to data attribute of output\n",
       "                    data = data.data;\n",
       "                }\n",
       "                if (data['text/html'] == html_output) {\n",
       "                    return [cell, data, j];\n",
       "                }\n",
       "            }\n",
       "        }\n",
       "    }\n",
       "}\n",
       "\n",
       "// Register the function which deals with the matplotlib target/channel.\n",
       "// The kernel may be null if the page has been refreshed.\n",
       "if (IPython.notebook.kernel != null) {\n",
       "    IPython.notebook.kernel.comm_manager.register_target('matplotlib', mpl.mpl_figure_comm);\n",
       "}\n"
      ],
      "text/plain": [
       "<IPython.core.display.Javascript object>"
      ]
     },
     "metadata": {},
     "output_type": "display_data"
    },
    {
     "data": {
      "text/html": [
       "<img src=\"data:image/png;base64,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\" width=\"480\">"
      ],
      "text/plain": [
       "<IPython.core.display.HTML object>"
      ]
     },
     "metadata": {},
     "output_type": "display_data"
    }
   ],
   "source": [
    "xx = sp.arange(-4,4,0.05) # xx so that it doesn't collide with symbolic x\n",
    "y = f(xx)\n",
    "z = g(xx,sp.log(1/2))\n",
    "plt.figure(1)\n",
    "plt.plot(xx,y)\n",
    "plt.plot(xx,z);"
   ]
  },
  {
   "cell_type": "markdown",
   "metadata": {
    "collapsed": true
   },
   "source": [
    "### Version Information\n",
    "\n",
    "`version_information` is from J.R. Johansson (jrjohansson at gmail.com)<br>\n",
    "See Introduction to scientific computing with Python:<br>\n",
    "http://nbviewer.jupyter.org/github/jrjohansson/scientific-python-lectures/blob/master/Lecture-0-Scientific-Computing-with-Python.ipynb <br>\n",
    "for more information and instructions for package installation.<br>\n",
    "\n",
    "If `version_information` has been installed system wide (as it has been on linuxremotes), continue with next cell as written.  If not, comment out top line in next cell and uncomment the second line."
   ]
  },
  {
   "cell_type": "code",
   "execution_count": 34,
   "metadata": {},
   "outputs": [
    {
     "name": "stdout",
     "output_type": "stream",
     "text": [
      "Loading extensions from ~/.ipython/extensions is deprecated. We recommend managing extensions like any other Python packages, in site-packages.\n"
     ]
    }
   ],
   "source": [
    "%load_ext version_information\n",
    "\n",
    "#%install_ext http://raw.github.com/jrjohansson/version_information/master/version_information.py"
   ]
  },
  {
   "cell_type": "code",
   "execution_count": 35,
   "metadata": {},
   "outputs": [
    {
     "data": {
      "application/json": {
       "Software versions": [
        {
         "module": "Python",
         "version": "3.6.1 64bit [GCC 4.4.7 20120313 (Red Hat 4.4.7-1)]"
        },
        {
         "module": "IPython",
         "version": "6.1.0"
        },
        {
         "module": "OS",
         "version": "Linux 3.10.0 327.36.3.el7.x86_64 x86_64 with redhat 7.2 Maipo"
        },
        {
         "module": "scipy",
         "version": "0.19.1"
        },
        {
         "module": "sympy",
         "version": "1.1"
        },
        {
         "module": "matplotlib",
         "version": "2.0.2"
        }
       ]
      },
      "text/html": [
       "<table><tr><th>Software</th><th>Version</th></tr><tr><td>Python</td><td>3.6.1 64bit [GCC 4.4.7 20120313 (Red Hat 4.4.7-1)]</td></tr><tr><td>IPython</td><td>6.1.0</td></tr><tr><td>OS</td><td>Linux 3.10.0 327.36.3.el7.x86_64 x86_64 with redhat 7.2 Maipo</td></tr><tr><td>scipy</td><td>0.19.1</td></tr><tr><td>sympy</td><td>1.1</td></tr><tr><td>matplotlib</td><td>2.0.2</td></tr><tr><td colspan='2'>Tue Aug 01 14:21:23 2017 EDT</td></tr></table>"
      ],
      "text/latex": [
       "\\begin{tabular}{|l|l|}\\hline\n",
       "{\\bf Software} & {\\bf Version} \\\\ \\hline\\hline\n",
       "Python & 3.6.1 64bit [GCC 4.4.7 20120313 (Red Hat 4.4.7-1)] \\\\ \\hline\n",
       "IPython & 6.1.0 \\\\ \\hline\n",
       "OS & Linux 3.10.0 327.36.3.el7.x86\\_64 x86\\_64 with redhat 7.2 Maipo \\\\ \\hline\n",
       "scipy & 0.19.1 \\\\ \\hline\n",
       "sympy & 1.1 \\\\ \\hline\n",
       "matplotlib & 2.0.2 \\\\ \\hline\n",
       "\\hline \\multicolumn{2}{|l|}{Tue Aug 01 14:21:23 2017 EDT} \\\\ \\hline\n",
       "\\end{tabular}\n"
      ],
      "text/plain": [
       "Software versions\n",
       "Python 3.6.1 64bit [GCC 4.4.7 20120313 (Red Hat 4.4.7-1)]\n",
       "IPython 6.1.0\n",
       "OS Linux 3.10.0 327.36.3.el7.x86_64 x86_64 with redhat 7.2 Maipo\n",
       "scipy 0.19.1\n",
       "sympy 1.1\n",
       "matplotlib 2.0.2\n",
       "Tue Aug 01 14:21:23 2017 EDT"
      ]
     },
     "execution_count": 35,
     "metadata": {},
     "output_type": "execute_result"
    }
   ],
   "source": [
    "version_information scipy, sympy, matplotlib"
   ]
  },
  {
   "cell_type": "code",
   "execution_count": null,
   "metadata": {
    "collapsed": true
   },
   "outputs": [],
   "source": []
  }
 ],
 "metadata": {
  "anaconda-cloud": {},
  "kernelspec": {
   "display_name": "Python 3",
   "language": "python",
   "name": "python3"
  },
  "language_info": {
   "codemirror_mode": {
    "name": "ipython",
    "version": 3
   },
   "file_extension": ".py",
   "mimetype": "text/x-python",
   "name": "python",
   "nbconvert_exporter": "python",
   "pygments_lexer": "ipython3",
   "version": "3.6.1"
  }
 },
 "nbformat": 4,
 "nbformat_minor": 1
}
