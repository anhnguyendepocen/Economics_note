{
 "cells": [
  {
   "cell_type": "markdown",
   "metadata": {},
   "source": [
    "## Symbolic solution of ODEs with sympy\n",
    "Intro to sympy variables in previous notebook."
   ]
  },
  {
   "cell_type": "code",
   "execution_count": null,
   "metadata": {
    "ExecuteTime": {
     "end_time": "2018-02-17T03:26:32.711466Z",
     "start_time": "2018-02-17T03:26:32.645304Z"
    },
    "collapsed": true
   },
   "outputs": [],
   "source": [
    "import sympy as sym\n",
    "import sympy\n",
    "sym.init_printing() # for LaTeX formatted output\n",
    "\n",
    "import matplotlib.pyplot as plt\n",
    "import numpy as np\n",
    "import warnings\n",
    "warnings.filterwarnings('ignore')\n",
    "#plt.style.use(\"fivethirtyeight\")\n",
    "\n",
    "import scipy as sp\n",
    "import matplotlib as mpl       # As of July 2017 Bucknell computers use v. 2.x \n",
    "\n",
    "# Following is an Ipython magic command that puts figures in the  notebook.\n",
    "# For figures in separate windows, comment out following line and uncomment\n",
    "# the next line\n",
    "# Must come before defaults are changed.\n",
    "%matplotlib inline \n",
    "#notebook\n",
    "#%matplotlib\n",
    "%config InlineBackend.figure_format='retina'\n",
    "\n",
    "# As of Aug. 2017 reverting to 1.x defaults.\n",
    "# In 2.x text.ustex requires dvipng, texlive-latex-extra, and texlive-fonts-recommended, \n",
    "# which don't seem to be universal\n",
    "# See https://stackoverflow.com/questions/38906356/error-running-matplotlib-in-latex-type1cm?\n",
    "mpl.style.use('classic')\n",
    "        \n",
    "# M.L. modifications of matplotlib defaults using syntax of v.2.0 \n",
    "# More info at http://matplotlib.org/2.0.0/users/deflt_style_changes.html\n",
    "# Changes can also be put in matplotlibrc file, or effected using mpl.rcParams[]\n",
    "plt.rc('figure', figsize = (6, 4.5))            # Reduces overall size of figures\n",
    "plt.rc('axes', labelsize=16, titlesize=14)\n",
    "plt.rc('figure', autolayout = True)             # Adjusts supblot parameters for new size\n",
    "\n",
    "from helpFunction import *"
   ]
  },
  {
   "cell_type": "code",
   "execution_count": null,
   "metadata": {
    "collapsed": true
   },
   "outputs": [],
   "source": []
  },
  {
   "cell_type": "markdown",
   "metadata": {},
   "source": [
    "# Difference Equation\n",
    "\n",
    "## Motivation"
   ]
  },
  {
   "cell_type": "markdown",
   "metadata": {},
   "source": [
    "### Saving\n",
    "\n",
    "Solve  $${ y }_{ 0 },\\quad { y }_{ 1 }=b y_0,\\quad { y }_{ n }=b{ y }_{ n-1 }$$ "
   ]
  },
  {
   "cell_type": "code",
   "execution_count": null,
   "metadata": {
    "ExecuteTime": {
     "end_time": "2018-02-17T03:26:32.716982Z",
     "start_time": "2018-02-17T03:26:32.712971Z"
    },
    "collapsed": true
   },
   "outputs": [],
   "source": [
    "x,t,b,c,d, n, r,C0,C1, y0, ybar = sym.symbols(\"x t b c d n r C0 C1 y0 ybar\")\n",
    "y = sym.Function(\"y\")"
   ]
  },
  {
   "cell_type": "markdown",
   "metadata": {},
   "source": [
    "### A first order homogeneous difference equation"
   ]
  },
  {
   "cell_type": "code",
   "execution_count": null,
   "metadata": {
    "ExecuteTime": {
     "end_time": "2018-02-17T03:26:33.171413Z",
     "start_time": "2018-02-17T03:26:32.718486Z"
    }
   },
   "outputs": [],
   "source": [
    "ode=sym.Eq(y(n), b*y(n-1))\n",
    "ode"
   ]
  },
  {
   "cell_type": "code",
   "execution_count": null,
   "metadata": {
    "ExecuteTime": {
     "end_time": "2018-02-17T03:26:33.584578Z",
     "start_time": "2018-02-17T03:26:33.172400Z"
    }
   },
   "outputs": [],
   "source": [
    "sym.rsolve(ode,y(n))"
   ]
  },
  {
   "cell_type": "markdown",
   "metadata": {},
   "source": [
    "This function is usually referred to as the **complementary function/solution** of the general first-order difference equation, when we consider the modified first-order difference equation in which we simply ignore the right-hand-side term d.\n"
   ]
  },
  {
   "cell_type": "markdown",
   "metadata": {},
   "source": [
    "### general first-order difference equation"
   ]
  },
  {
   "cell_type": "code",
   "execution_count": null,
   "metadata": {
    "ExecuteTime": {
     "end_time": "2018-02-17T03:26:33.981656Z",
     "start_time": "2018-02-17T03:26:33.586065Z"
    }
   },
   "outputs": [],
   "source": [
    "ode=sym.Eq(y(n+1) + c*y(n), d)\n",
    "ode"
   ]
  },
  {
   "cell_type": "code",
   "execution_count": null,
   "metadata": {
    "ExecuteTime": {
     "end_time": "2018-02-17T03:26:34.422849Z",
     "start_time": "2018-02-17T03:26:33.982644Z"
    }
   },
   "outputs": [],
   "source": [
    "ode_sol=sym.rsolve(ode,y(n))\n",
    "ode_sol"
   ]
  },
  {
   "cell_type": "markdown",
   "metadata": {},
   "source": [
    "It is called **general solution** as it is independent of a starting/initial value"
   ]
  },
  {
   "cell_type": "code",
   "execution_count": null,
   "metadata": {
    "ExecuteTime": {
     "end_time": "2018-02-17T03:26:34.850145Z",
     "start_time": "2018-02-17T03:26:34.424368Z"
    }
   },
   "outputs": [],
   "source": [
    "ics = {y(0): y0}\n",
    "ics #initial condition"
   ]
  },
  {
   "cell_type": "code",
   "execution_count": null,
   "metadata": {
    "ExecuteTime": {
     "end_time": "2018-02-17T03:26:35.397636Z",
     "start_time": "2018-02-17T03:26:34.851633Z"
    }
   },
   "outputs": [],
   "source": [
    "C_eq = sym.Eq(y(n).subs(n, 0).subs(ics), ode_sol.subs(n, 0))\n",
    "C_eq"
   ]
  },
  {
   "cell_type": "code",
   "execution_count": null,
   "metadata": {
    "ExecuteTime": {
     "end_time": "2018-02-17T03:26:35.941051Z",
     "start_time": "2018-02-17T03:26:35.399140Z"
    }
   },
   "outputs": [],
   "source": [
    "C_sol = sym.solve(C_eq)\n",
    "C_sol"
   ]
  },
  {
   "cell_type": "code",
   "execution_count": null,
   "metadata": {
    "ExecuteTime": {
     "end_time": "2018-02-17T03:26:36.456856Z",
     "start_time": "2018-02-17T03:26:35.942055Z"
    }
   },
   "outputs": [],
   "source": [
    "ode_sol.subs(C_sol[0])"
   ]
  },
  {
   "cell_type": "markdown",
   "metadata": {},
   "source": [
    "This expression is called the **definite solution** to the general first-order difference equation"
   ]
  },
  {
   "cell_type": "markdown",
   "metadata": {},
   "source": [
    "### Second Order Linear Difference Equation 2016m2q4"
   ]
  },
  {
   "cell_type": "code",
   "execution_count": null,
   "metadata": {
    "ExecuteTime": {
     "end_time": "2018-02-17T03:26:36.888582Z",
     "start_time": "2018-02-17T03:26:36.457859Z"
    }
   },
   "outputs": [],
   "source": [
    "ode=sym.Eq(y(n+2)- y(n+1) + y(n),0)\n",
    "ode"
   ]
  },
  {
   "cell_type": "code",
   "execution_count": null,
   "metadata": {
    "ExecuteTime": {
     "end_time": "2018-02-17T03:26:37.478650Z",
     "start_time": "2018-02-17T03:26:36.889585Z"
    }
   },
   "outputs": [],
   "source": [
    "ode_sol=sym.rsolve(ode,y(n))\n",
    "ode_sol"
   ]
  },
  {
   "cell_type": "markdown",
   "metadata": {},
   "source": [
    "### Steady States"
   ]
  },
  {
   "cell_type": "code",
   "execution_count": null,
   "metadata": {
    "ExecuteTime": {
     "end_time": "2018-02-17T03:26:37.891776Z",
     "start_time": "2018-02-17T03:26:37.479653Z"
    }
   },
   "outputs": [],
   "source": [
    "ss=sym.Eq(ybar-ybar + ybar,0)\n",
    "ss"
   ]
  },
  {
   "cell_type": "code",
   "execution_count": null,
   "metadata": {
    "ExecuteTime": {
     "end_time": "2018-02-17T03:26:38.467307Z",
     "start_time": "2018-02-17T03:26:37.892780Z"
    }
   },
   "outputs": [],
   "source": [
    "sym.solve(ss)"
   ]
  },
  {
   "cell_type": "markdown",
   "metadata": {
    "ExecuteTime": {
     "end_time": "2018-01-28T19:33:01.340833Z",
     "start_time": "2018-01-28T19:33:00.948777Z"
    }
   },
   "source": [
    "#### Characteristic Equation for Homogeneous Solutions"
   ]
  },
  {
   "cell_type": "code",
   "execution_count": null,
   "metadata": {
    "ExecuteTime": {
     "end_time": "2018-02-17T03:26:38.966389Z",
     "start_time": "2018-02-17T03:26:38.468812Z"
    }
   },
   "outputs": [],
   "source": [
    "ce=sym.Eq(r**2-r + 1,0)\n",
    "ce"
   ]
  },
  {
   "cell_type": "code",
   "execution_count": null,
   "metadata": {
    "ExecuteTime": {
     "end_time": "2018-02-17T03:26:39.512855Z",
     "start_time": "2018-02-17T03:26:38.967393Z"
    }
   },
   "outputs": [],
   "source": [
    "rsol=sym.solve(ce)\n",
    "rsol"
   ]
  },
  {
   "cell_type": "code",
   "execution_count": null,
   "metadata": {
    "ExecuteTime": {
     "end_time": "2018-02-17T03:26:40.104334Z",
     "start_time": "2018-02-17T03:26:39.513858Z"
    }
   },
   "outputs": [],
   "source": [
    "sym.re(rsol[1]), sym.im(rsol[1]) #http://docs.sympy.org/latest/_modules/sympy/functions/elementary/complexes.html"
   ]
  },
  {
   "cell_type": "code",
   "execution_count": null,
   "metadata": {
    "ExecuteTime": {
     "end_time": "2018-02-17T03:26:40.595891Z",
     "start_time": "2018-02-17T03:26:40.105840Z"
    }
   },
   "outputs": [],
   "source": [
    "sym.Abs(rsol[1]),sym.arg(rsol[1])"
   ]
  },
  {
   "cell_type": "code",
   "execution_count": null,
   "metadata": {
    "ExecuteTime": {
     "end_time": "2018-02-17T03:26:40.599400Z",
     "start_time": "2018-02-17T03:26:40.596894Z"
    },
    "collapsed": true
   },
   "outputs": [],
   "source": [
    "R = sym.Abs(rsol[1])\n",
    "Rad = sym.arg(rsol[1])"
   ]
  },
  {
   "cell_type": "code",
   "execution_count": null,
   "metadata": {
    "collapsed": true
   },
   "outputs": [],
   "source": []
  },
  {
   "cell_type": "code",
   "execution_count": null,
   "metadata": {
    "ExecuteTime": {
     "end_time": "2018-02-17T03:26:40.905214Z",
     "start_time": "2018-02-17T03:26:40.600403Z"
    }
   },
   "outputs": [],
   "source": [
    "fig,ax = plt.subplots()\n",
    "\n",
    "plt.polar([0,sym.arg(rsol[1])],[0,sym.Abs(rsol[1])],marker='o')\n",
    "    \n",
    "#https://stackoverflow.com/questions/17445720/how-to-plot-complex-numbers-argand-diagram-using-matplotlib"
   ]
  },
  {
   "cell_type": "markdown",
   "metadata": {},
   "source": [
    "#### Dynamics and Steady State"
   ]
  },
  {
   "cell_type": "code",
   "execution_count": null,
   "metadata": {
    "ExecuteTime": {
     "end_time": "2018-02-17T03:26:41.413353Z",
     "start_time": "2018-02-17T03:26:40.906217Z"
    }
   },
   "outputs": [],
   "source": [
    "ode_sol.subs(n,0)"
   ]
  },
  {
   "cell_type": "code",
   "execution_count": null,
   "metadata": {
    "ExecuteTime": {
     "end_time": "2018-02-17T03:26:41.817913Z",
     "start_time": "2018-02-17T03:26:41.414340Z"
    }
   },
   "outputs": [],
   "source": [
    "ode_sol.subs(n,1)"
   ]
  },
  {
   "cell_type": "code",
   "execution_count": null,
   "metadata": {
    "ExecuteTime": {
     "end_time": "2018-02-17T03:26:42.367731Z",
     "start_time": "2018-02-17T03:26:41.818916Z"
    }
   },
   "outputs": [],
   "source": [
    "constsol = sym.solve([ode_sol.subs(n,0)-2, ode_sol.subs(n,1)-1])\n",
    "constsol"
   ]
  },
  {
   "cell_type": "code",
   "execution_count": null,
   "metadata": {
    "ExecuteTime": {
     "end_time": "2018-02-17T03:26:42.778348Z",
     "start_time": "2018-02-17T03:26:42.368734Z"
    }
   },
   "outputs": [],
   "source": [
    "ode_sol.subs(constsol)"
   ]
  },
  {
   "cell_type": "code",
   "execution_count": null,
   "metadata": {
    "ExecuteTime": {
     "end_time": "2018-02-17T03:26:42.785868Z",
     "start_time": "2018-02-17T03:26:42.779350Z"
    }
   },
   "outputs": [],
   "source": [
    "y_n = sympy.lambdify((n), ode_sol.subs(constsol), 'numpy')\n",
    "y_n"
   ]
  },
  {
   "cell_type": "code",
   "execution_count": null,
   "metadata": {
    "ExecuteTime": {
     "end_time": "2018-02-17T03:26:42.816449Z",
     "start_time": "2018-02-17T03:26:42.786871Z"
    }
   },
   "outputs": [],
   "source": [
    "t = np.linspace(0, 4, 100)\n",
    "y_n(t)"
   ]
  },
  {
   "cell_type": "code",
   "execution_count": null,
   "metadata": {
    "ExecuteTime": {
     "end_time": "2018-02-17T03:26:43.151840Z",
     "start_time": "2018-02-17T03:26:42.817452Z"
    }
   },
   "outputs": [],
   "source": [
    "fig, ax = plt.subplots(figsize=(8, 4))\n",
    "\n",
    "t = np.linspace(0, 10, 100)\n",
    "\n",
    "for a in [0.02, 0.04, 0.06]:\n",
    "    ax.scatter(t, y_n(t), label=r\"difference equation\")\n",
    "\n",
    "ax.set_title(r\"$%s$\" % sympy.latex(ode_sol), fontsize=18)\n",
    "ax.set_xlabel(r\"$n$\", fontsize=18)\n",
    "ax.set_ylabel(r\"$y$\", fontsize=18)\n",
    "#ax.legend()\n",
    "\n",
    "fig.tight_layout()"
   ]
  },
  {
   "cell_type": "code",
   "execution_count": null,
   "metadata": {
    "collapsed": true
   },
   "outputs": [],
   "source": []
  },
  {
   "cell_type": "code",
   "execution_count": null,
   "metadata": {
    "ExecuteTime": {
     "end_time": "2018-02-17T03:27:24.775241Z",
     "start_time": "2018-02-17T03:27:24.277918Z"
    }
   },
   "outputs": [],
   "source": [
    "n, r,C0,C1, y0, ybar = sym.symbols(\"n, r,C0,C1, y0, ybar\")\n",
    "y = sym.Function(\"y\")\n",
    "yn = R**n (C0*sym.cos(Rad*n)+ C1*sym.sin(Rad*n)   )\n",
    "yn"
   ]
  },
  {
   "cell_type": "code",
   "execution_count": null,
   "metadata": {
    "collapsed": true
   },
   "outputs": [],
   "source": []
  },
  {
   "cell_type": "markdown",
   "metadata": {},
   "source": [
    "### A first order homogeneous differential equation"
   ]
  },
  {
   "cell_type": "code",
   "execution_count": null,
   "metadata": {
    "ExecuteTime": {
     "end_time": "2018-02-17T03:26:43.172897Z",
     "start_time": "2018-02-17T03:26:32.707Z"
    },
    "collapsed": true
   },
   "outputs": [],
   "source": [
    "#https://www.youtube.com/watch?v=4X0SGGrXDiI\n",
    "\n",
    "a, t, y0 = sym.symbols(\"a t y0\")\n",
    "y = sym.Function(\"y\")"
   ]
  },
  {
   "cell_type": "code",
   "execution_count": null,
   "metadata": {
    "ExecuteTime": {
     "end_time": "2018-02-17T03:26:43.173398Z",
     "start_time": "2018-02-17T03:26:32.709Z"
    },
    "collapsed": true
   },
   "outputs": [],
   "source": [
    "ode=sym.Eq(y(t).diff(t), a*y(t))\n",
    "ode"
   ]
  },
  {
   "cell_type": "markdown",
   "metadata": {},
   "source": [
    "- y: money in bank\n",
    "- a: interest rate, for example 6%\n",
    "- t: time year\n"
   ]
  },
  {
   "cell_type": "code",
   "execution_count": null,
   "metadata": {
    "ExecuteTime": {
     "end_time": "2018-02-17T03:26:43.173900Z",
     "start_time": "2018-02-17T03:26:32.711Z"
    },
    "collapsed": true
   },
   "outputs": [],
   "source": [
    "sym.classify_ode(ode)"
   ]
  },
  {
   "cell_type": "code",
   "execution_count": null,
   "metadata": {
    "ExecuteTime": {
     "end_time": "2018-02-17T03:26:43.174903Z",
     "start_time": "2018-02-17T03:26:32.712Z"
    },
    "collapsed": true
   },
   "outputs": [],
   "source": [
    "ode_sol=sym.dsolve(ode, y(t), hint=\"separable\")\n",
    "ode_sol"
   ]
  },
  {
   "cell_type": "code",
   "execution_count": null,
   "metadata": {
    "ExecuteTime": {
     "end_time": "2018-02-17T03:26:43.175403Z",
     "start_time": "2018-02-17T03:26:32.713Z"
    },
    "collapsed": true
   },
   "outputs": [],
   "source": [
    "ode_sol.free_symbols"
   ]
  },
  {
   "cell_type": "code",
   "execution_count": null,
   "metadata": {
    "ExecuteTime": {
     "end_time": "2018-02-17T03:26:43.176407Z",
     "start_time": "2018-02-17T03:26:32.716Z"
    },
    "collapsed": true
   },
   "outputs": [],
   "source": [
    "ics = {y(0): y0}"
   ]
  },
  {
   "cell_type": "code",
   "execution_count": null,
   "metadata": {
    "ExecuteTime": {
     "end_time": "2018-02-17T03:26:43.177408Z",
     "start_time": "2018-02-17T03:26:32.718Z"
    },
    "collapsed": true
   },
   "outputs": [],
   "source": [
    "def apply_ics(sol, ics, x, known_params):\n",
    "    \"\"\"\n",
    "    Apply the initial conditions (ics), given as a dictionary on\n",
    "    the form ics = {y(0): y0: y(x).diff(x).subs(x, 0): yp0, ...}\n",
    "    to the solution of the ODE with indepdendent variable x.\n",
    "    The undetermined integration constants C1, C2, ... are extracted\n",
    "    from the free symbols of the ODE solution, excluding symbols in\n",
    "    the known_params list.\n",
    "    \"\"\"\n",
    "    free_params = sol.free_symbols - set(known_params)\n",
    "    eqs = [(sol.lhs.diff(x, n) - sol.rhs.diff(x, n)).subs(x, 0).subs(ics)\n",
    "           for n in range(len(ics))]\n",
    "    sol_params = sym.solve(eqs, free_params)\n",
    "    return sol.subs(sol_params)"
   ]
  },
  {
   "cell_type": "code",
   "execution_count": null,
   "metadata": {
    "ExecuteTime": {
     "end_time": "2018-02-17T03:26:43.178411Z",
     "start_time": "2018-02-17T03:26:32.720Z"
    },
    "collapsed": true
   },
   "outputs": [],
   "source": [
    "apply_ics(ode_sol, ics, t, [a])"
   ]
  },
  {
   "cell_type": "code",
   "execution_count": null,
   "metadata": {
    "collapsed": true
   },
   "outputs": [],
   "source": []
  },
  {
   "cell_type": "markdown",
   "metadata": {},
   "source": [
    "### Second Order Differential Equation"
   ]
  },
  {
   "cell_type": "markdown",
   "metadata": {},
   "source": [
    "#### Define the differential equation as a sym.Eq()"
   ]
  },
  {
   "cell_type": "code",
   "execution_count": null,
   "metadata": {
    "ExecuteTime": {
     "end_time": "2018-02-17T03:26:43.178913Z",
     "start_time": "2018-02-17T03:26:32.722Z"
    },
    "collapsed": true
   },
   "outputs": [],
   "source": [
    "x,t, b,c,d, n, C0, y0 = sym.symbols(\"x t  b c d n C0 y0\")\n",
    "f = sym.Function(\"f\")"
   ]
  },
  {
   "cell_type": "code",
   "execution_count": null,
   "metadata": {
    "ExecuteTime": {
     "end_time": "2018-02-17T03:26:43.179414Z",
     "start_time": "2018-02-17T03:26:32.724Z"
    },
    "collapsed": true
   },
   "outputs": [],
   "source": [
    "diffeq = sym.Eq(f(t).diff(t, t) - 2*f(t).diff(t) + f(t), sym.sin(t))\n",
    "diffeq"
   ]
  },
  {
   "cell_type": "markdown",
   "metadata": {},
   "source": [
    "#### Solve differential equation"
   ]
  },
  {
   "cell_type": "code",
   "execution_count": null,
   "metadata": {
    "ExecuteTime": {
     "end_time": "2018-02-17T03:26:43.180416Z",
     "start_time": "2018-02-17T03:26:32.726Z"
    },
    "collapsed": true
   },
   "outputs": [],
   "source": [
    "soln = sym.dsolve(diffeq,f(t))\n",
    "soln"
   ]
  },
  {
   "cell_type": "markdown",
   "metadata": {},
   "source": [
    "#### Boundary conditions\n",
    "This isn't implemented yet in `dsolve` -- it's on the \"to do\" list<br>\n",
    "For now, solve for contants on your own. For example, if\n",
    "$$ f(0) = 1\\quad\\mbox{and}\\quad\\left.\\frac{df}{dx}\\right|_0 = 0,  $$\n",
    "solve the following equations:"
   ]
  },
  {
   "cell_type": "code",
   "execution_count": null,
   "metadata": {
    "ExecuteTime": {
     "end_time": "2018-02-17T03:26:43.180918Z",
     "start_time": "2018-02-17T03:26:32.728Z"
    },
    "collapsed": true
   },
   "outputs": [],
   "source": [
    "constants = sym.solve([soln.rhs.subs(t,0) - 1, soln.rhs.diff(t,1).subs(t,0)- 0])\n",
    "constants"
   ]
  },
  {
   "cell_type": "code",
   "execution_count": null,
   "metadata": {
    "ExecuteTime": {
     "end_time": "2018-02-17T03:26:43.181920Z",
     "start_time": "2018-02-17T03:26:32.729Z"
    },
    "collapsed": true
   },
   "outputs": [],
   "source": [
    "C1, C2 = sym.symbols('C1,C2')\n",
    "soln = soln.subs(constants)\n",
    "soln"
   ]
  },
  {
   "cell_type": "markdown",
   "metadata": {},
   "source": [
    "#### Convert soln to python function for numerical evaluation/plotting\n",
    "I'm not sure why I had to specify the modulue for conversion of sympy functions.<br>\n",
    "See http://docs.sympy.org/latest/modules/utilities/lambdify.html<br>\n",
    "In previous examples, sympy figured out a good module \"on its own.\" "
   ]
  },
  {
   "cell_type": "code",
   "execution_count": null,
   "metadata": {
    "ExecuteTime": {
     "end_time": "2018-02-17T03:26:43.182924Z",
     "start_time": "2018-02-17T03:26:32.731Z"
    },
    "collapsed": true
   },
   "outputs": [],
   "source": [
    "func = sym.lambdify(t,soln.rhs,'numpy')"
   ]
  },
  {
   "cell_type": "code",
   "execution_count": null,
   "metadata": {
    "ExecuteTime": {
     "end_time": "2018-02-17T03:26:43.184928Z",
     "start_time": "2018-02-17T03:26:32.733Z"
    },
    "collapsed": true
   },
   "outputs": [],
   "source": [
    "xx = sp.arange(-1,1,.01)  # name = xx so it won't collide with symbol x\n",
    "y = func(xx)\n",
    "plt.figure(1)\n",
    "plt.plot(xx,y);"
   ]
  },
  {
   "cell_type": "code",
   "execution_count": null,
   "metadata": {
    "ExecuteTime": {
     "end_time": "2018-02-17T03:26:43.185931Z",
     "start_time": "2018-02-17T03:26:32.734Z"
    },
    "collapsed": true
   },
   "outputs": [],
   "source": [
    "from IPython.core.display import HTML, Image\n",
    "css_file = '../../custom.css'\n",
    "HTML(open(css_file, 'r').read())"
   ]
  },
  {
   "cell_type": "code",
   "execution_count": null,
   "metadata": {
    "ExecuteTime": {
     "end_time": "2018-02-17T03:26:43.187435Z",
     "start_time": "2018-02-17T03:26:32.736Z"
    },
    "collapsed": true
   },
   "outputs": [],
   "source": [
    "#%load_ext watermark\n",
    "%watermark -v -m -p sympy,matplotlib -g"
   ]
  },
  {
   "cell_type": "code",
   "execution_count": null,
   "metadata": {
    "collapsed": true
   },
   "outputs": [],
   "source": []
  }
 ],
 "metadata": {
  "anaconda-cloud": {},
  "kernelspec": {
   "display_name": "Python 3",
   "language": "python",
   "name": "python3"
  },
  "language_info": {
   "codemirror_mode": {
    "name": "ipython",
    "version": 3
   },
   "file_extension": ".py",
   "mimetype": "text/x-python",
   "name": "python",
   "nbconvert_exporter": "python",
   "pygments_lexer": "ipython3",
   "version": "3.6.2"
  }
 },
 "nbformat": 4,
 "nbformat_minor": 1
}
