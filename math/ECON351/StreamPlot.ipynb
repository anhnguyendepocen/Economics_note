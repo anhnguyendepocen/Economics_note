{
 "cells": [
  {
   "cell_type": "code",
   "execution_count": null,
   "metadata": {
    "ExecuteTime": {
     "start_time": "2018-02-17T02:22:08.874Z"
    }
   },
   "outputs": [
    {
     "name": "stderr",
     "output_type": "stream",
     "text": [
      "WARNING: Method definition midpoints(Base.Range{T} where T) in module Base at deprecated.jl:56 overwritten in module StatsBase at C:\\Users\\oldyu\\.julia\\v0.6\\StatsBase\\src\\hist.jl:535.\n",
      "WARNING: Method definition midpoints(AbstractArray{T, 1} where T) in module Base at deprecated.jl:56 overwritten in module StatsBase at C:\\Users\\oldyu\\.julia\\v0.6\\StatsBase\\src\\hist.jl:533.\n",
      "\u001b[1m\u001b[36mINFO: \u001b[39m\u001b[22m\u001b[36mRecompiling stale cache file C:\\Users\\oldyu\\.julia\\lib\\v0.6\\PyPlot.ji for module PyPlot.\n",
      "\u001b[39m"
     ]
    }
   ],
   "source": [
    "#\n",
    "# Based on the EDx course Math 226.2 by Paul Blanchard\n",
    "# Julia version derived by Rob J Goedman\n",
    "# April 2016\n",
    "#\n",
    "\n",
    "using Plots\n",
    "pyplot(reuse=true)\n",
    "plot()\n",
    "\n",
    "#\n",
    "# y'[t] = -x[t]\n",
    "# x'[t]= -3 x[t] + y[t]\n",
    "#\n",
    "# or\n",
    "#\n",
    "# y''[t] = -3 y'[t] + y[t]\n",
    "#\n",
    "# In matrix form:\n",
    "#\n",
    "m = [-3 1; -1 0]\n",
    "\n",
    "e = eigfact(m)\n",
    "e |> display\n",
    "println()\n",
    "\n",
    "#\n",
    "# 2 negative eigenvalues: slow eigen line will act as a sink\n",
    "#\n",
    "\n",
    "function xf(k::Vector{Float64}, t::Float64)\n",
    "  k[1] * e[:vectors][1, 1] * exp(e[:values][1] * t) +\n",
    "    k[2] * e[:vectors][1, 2] * exp(e[:values][2] * t)\n",
    "end\n",
    "\n",
    "function yf(k::Vector{Float64}, t::Float64)\n",
    "  k[1] * e[:vectors][2, 1] * exp(e[:values][1] * t) +\n",
    "    k[2] * e[:vectors][2, 2] * exp(e[:values][2] * t)\n",
    "end\n",
    "\n",
    "t1 = -5.0:0.01:5.0\n",
    "k = e[:vectors]\\e[:vectors][:,1]\n",
    "# Extend eigen lines to cover full range\n",
    "xfast = [xf(-k, t) for t in t1]\n",
    "yfast = [yf(-k, t) for t in t1]\n",
    "xfast = [xfast; [xf(k, t) for t in t1]]\n",
    "yfast = [yfast; [yf(k, t) for t in t1]]\n",
    "\n",
    "t2 = -5.0:0.01:5.0\n",
    "k = e[:vectors]\\e[:vectors][:,2]\n",
    "xslow = [xf(-k, t) for t in t2]\n",
    "yslow = [yf(-k, t) for t in t2]\n",
    "xslow = [xslow; [xf(k, t) for t in t2]]\n",
    "yslow = [yslow; [yf(k, t) for t in t2]]\n",
    "\n",
    "t3 = -0.15:0.01:5.0\n",
    "k = e[:vectors]\\[-3, 2]\n",
    "xvals = [xf(k, t) for t in t3]\n",
    "yvals = [yf(k, t) for t in t3]\n",
    "\n",
    "N = 40\n",
    "vals = collect(linspace(-6, 6, N))\n",
    "x = vals'\n",
    "y = vals\n",
    "for i in 1:N-1\n",
    "  x = vcat(x, vals')\n",
    "  y = hcat(y, vals)\n",
    "end\n",
    "\n",
    "u = zeros(N, N)\n",
    "u = m[1, 1]*x + m[1, 2]*y\n",
    "v = zeros(N, N)\n",
    "v = m[2, 1]*x + m[2, 2]*y\n",
    "\n",
    "PyPlot.streamplot(x, y, u, v, color=u, density=0.7)\n",
    "plot!(title = \"Streamplot\", xaxis=(\"x(t)\", (-4,4)), yaxis=(\"y(t)\", (-4,4)))\n",
    "plot!(xvals, yvals, color=:black, linewidth=2, linestyle=:dot, lab=\"Y[0]=[-3,2] soln\")\n",
    "plot!(xfast, yfast, color=:red, linewidth=2, lab=\"Fast eigen line\")\n",
    "plot!(xslow, yslow, color=:green, linewidth=2, lab=\"Slow eigen line\")\n",
    "\n",
    "png(\"/Users/rob/Desktop/streamplot.png\")"
   ]
  },
  {
   "cell_type": "code",
   "execution_count": null,
   "metadata": {},
   "outputs": [],
   "source": []
  }
 ],
 "metadata": {
  "kernelspec": {
   "display_name": "Julia 0.6.2",
   "language": "julia",
   "name": "julia-0.6"
  },
  "language_info": {
   "file_extension": ".jl",
   "mimetype": "application/julia",
   "name": "julia",
   "version": "0.6.2"
  }
 },
 "nbformat": 4,
 "nbformat_minor": 2
}
