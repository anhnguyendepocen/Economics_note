{
 "cells": [
  {
   "cell_type": "code",
   "execution_count": null,
   "metadata": {
    "ExecuteTime": {
     "end_time": "2018-02-22T20:42:14.969405Z",
     "start_time": "2018-02-22T20:42:14.635017Z"
    }
   },
   "outputs": [],
   "source": [
    "import numpy as np\n",
    "%pylab inline\n",
    "import matplotlib.pyplot as plt\n",
    "# JSAnimation import available at https://github.com/jakevdp/JSAnimation\n",
    "from JSAnimation import IPython_display\n",
    "from matplotlib import animation\n",
    "from scipy import integrate\n",
    "from scipy import optimize"
   ]
  },
  {
   "cell_type": "code",
   "execution_count": null,
   "metadata": {
    "ExecuteTime": {
     "end_time": "2018-02-22T20:43:26.698352Z",
     "start_time": "2018-02-22T20:43:26.607611Z"
    },
    "collapsed": true
   },
   "outputs": [],
   "source": [
    "#Defining Fixed-point iteration function\n",
    "def FixedPoint_Animation( f, pini, Nmax, xmin, xmax ):\n",
    "    g = lambda x: x-f(x)\n",
    "    #Initial condition\n",
    "    pi = [pini,]\n",
    "    px = [pini,pini,]\n",
    "    py = [0,]\n",
    "    #Iterations\n",
    "    for n in arange(Nmax+3):\n",
    "        pi.append( g(pi[n]) )\n",
    "        px.append( g(pi[n]) )\n",
    "        px.append( g(pi[n]) )\n",
    "        py.append( g(pi[n]) )\n",
    "        py.append( g(pi[n]) )\n",
    "    \n",
    "    py.append( g(pi[n+1]) )\n",
    "    pi = np.array( pi )\n",
    "    px = np.array( px )\n",
    "    py = np.array( py )\n",
    "    \n",
    "    print( \"Result:\", pi[-1])\n",
    "    \n",
    "    #Array X-axis\n",
    "    X = np.linspace(xmin,xmax,100)\n",
    "    \n",
    "    #Initializing Figure\n",
    "    fig = plt.figure( figsize=(7,7) )\n",
    "    ax = fig.add_subplot(111)\n",
    "    #Graphic iterations\n",
    "    fixedpoint, = ax.plot( [], [], color=\"red\", linewidth = 3 )\n",
    "    #Function g\n",
    "    ax.plot( X, g(X), color=\"green\", linewidth = 2 )\n",
    "    #Identity funcion\n",
    "    ax.plot( X, X, color=\"blue\", linewidth = 2 )\n",
    "    ax.grid(True)\n",
    "    ax.set_xlim( (xmin, xmax) )\n",
    "    ax.set_ylim( (xmin, xmax) )\n",
    "    ax.set_xlabel( \"X axis\" )\n",
    "    ax.set_ylabel( \"Y axis\" )\n",
    "    ax.set_title( \"Fixed-Point iteration\" )\n",
    "        \n",
    "    def init():\n",
    "        fixedpoint.set_data([], [])\n",
    "        return fixedpoint,\n",
    "    \n",
    "    def animate(i):\n",
    "        #Setting new data\n",
    "        fixedpoint.set_data( px[:2*i], py[:2*i] )\n",
    "        ax.set_title( \"Fixed-Point. Iteration %d\"%i )\n",
    "        return fixedpoint,\n",
    "    \n",
    "    return animation.FuncAnimation(fig, animate, init_func=init,frames=Nmax, interval=500, blit=True)"
   ]
  },
  {
   "cell_type": "code",
   "execution_count": null,
   "metadata": {
    "ExecuteTime": {
     "end_time": "2018-02-22T20:43:28.603584Z",
     "start_time": "2018-02-22T20:43:27.790909Z"
    }
   },
   "outputs": [],
   "source": [
    "def f1(x):\n",
    "    return (x**2-1)/3.0\n",
    "FixedPoint_Animation( f1, pini = 0.1, Nmax = 15, xmin = 0, xmax = 1.2 )"
   ]
  },
  {
   "cell_type": "code",
   "execution_count": null,
   "metadata": {
    "ExecuteTime": {
     "end_time": "2018-02-22T20:43:42.037681Z",
     "start_time": "2018-02-22T20:43:41.208478Z"
    }
   },
   "outputs": [],
   "source": [
    "def f2(x):\n",
    "    return x-np.cos(x)\n",
    "FixedPoint_Animation( f2, pini = 0.2, Nmax = 15, xmin = 0, xmax = 1.5 )"
   ]
  },
  {
   "cell_type": "code",
   "execution_count": null,
   "metadata": {
    "collapsed": true
   },
   "outputs": [],
   "source": []
  },
  {
   "cell_type": "code",
   "execution_count": null,
   "metadata": {
    "collapsed": true
   },
   "outputs": [],
   "source": []
  },
  {
   "cell_type": "code",
   "execution_count": null,
   "metadata": {
    "collapsed": true
   },
   "outputs": [],
   "source": []
  },
  {
   "cell_type": "code",
   "execution_count": null,
   "metadata": {
    "collapsed": true
   },
   "outputs": [],
   "source": []
  }
 ],
 "metadata": {
  "kernelspec": {
   "display_name": "Python 3",
   "language": "python",
   "name": "python3"
  },
  "language_info": {
   "codemirror_mode": {
    "name": "ipython",
    "version": 3
   },
   "file_extension": ".py",
   "mimetype": "text/x-python",
   "name": "python",
   "nbconvert_exporter": "python",
   "pygments_lexer": "ipython3",
   "version": "3.6.2"
  }
 },
 "nbformat": 4,
 "nbformat_minor": 2
}
