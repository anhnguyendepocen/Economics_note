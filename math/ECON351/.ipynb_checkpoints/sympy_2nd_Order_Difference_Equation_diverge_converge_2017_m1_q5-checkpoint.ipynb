{
 "cells": [
  {
   "cell_type": "markdown",
   "metadata": {},
   "source": [
    "## Symbolic solution of ODEs with sympy\n",
    "Intro to sympy variables in previous notebook."
   ]
  },
  {
   "cell_type": "code",
   "execution_count": null,
   "metadata": {
    "ExecuteTime": {
     "end_time": "2018-02-17T02:16:33.983654Z",
     "start_time": "2018-02-17T02:16:32.436162Z"
    },
    "collapsed": true
   },
   "outputs": [],
   "source": [
    "import sympy as sym\n",
    "import sympy\n",
    "sym.init_printing() # for LaTeX formatted output\n",
    "\n",
    "import matplotlib.pyplot as plt\n",
    "import numpy as np\n",
    "import warnings\n",
    "warnings.filterwarnings('ignore')\n",
    "#plt.style.use(\"fivethirtyeight\")\n",
    "\n",
    "import scipy as sp\n",
    "import matplotlib as mpl       # As of July 2017 Bucknell computers use v. 2.x \n",
    "\n",
    "# Following is an Ipython magic command that puts figures in the  notebook.\n",
    "# For figures in separate windows, comment out following line and uncomment\n",
    "# the next line\n",
    "# Must come before defaults are changed.\n",
    "%matplotlib notebook\n",
    "#%matplotlib\n",
    "%config InlineBackend.figure_format='retina'\n",
    "\n",
    "# As of Aug. 2017 reverting to 1.x defaults.\n",
    "# In 2.x text.ustex requires dvipng, texlive-latex-extra, and texlive-fonts-recommended, \n",
    "# which don't seem to be universal\n",
    "# See https://stackoverflow.com/questions/38906356/error-running-matplotlib-in-latex-type1cm?\n",
    "mpl.style.use('classic')\n",
    "        \n",
    "# M.L. modifications of matplotlib defaults using syntax of v.2.0 \n",
    "# More info at http://matplotlib.org/2.0.0/users/deflt_style_changes.html\n",
    "# Changes can also be put in matplotlibrc file, or effected using mpl.rcParams[]\n",
    "plt.rc('figure', figsize = (6, 4.5))            # Reduces overall size of figures\n",
    "plt.rc('axes', labelsize=16, titlesize=14)\n",
    "plt.rc('figure', autolayout = True)             # Adjusts supblot parameters for new size\n",
    "\n",
    "from helpFunction import *"
   ]
  },
  {
   "cell_type": "code",
   "execution_count": null,
   "metadata": {
    "collapsed": true
   },
   "outputs": [],
   "source": []
  },
  {
   "cell_type": "markdown",
   "metadata": {},
   "source": [
    "### First Order Nonlinear Difference Equation"
   ]
  },
  {
   "cell_type": "code",
   "execution_count": null,
   "metadata": {
    "ExecuteTime": {
     "end_time": "2018-02-17T02:16:42.197253Z",
     "start_time": "2018-02-17T02:16:41.673844Z"
    }
   },
   "outputs": [],
   "source": [
    "ode=sym.Eq(y(n), 2.125/(1+y(n-1)**(-4)))\n",
    "ode"
   ]
  },
  {
   "cell_type": "markdown",
   "metadata": {},
   "source": [
    "### Steady States"
   ]
  },
  {
   "cell_type": "code",
   "execution_count": null,
   "metadata": {
    "ExecuteTime": {
     "end_time": "2018-02-17T02:16:43.989826Z",
     "start_time": "2018-02-17T02:16:43.357751Z"
    }
   },
   "outputs": [],
   "source": [
    "ss=sym.Eq(ybar, 2.125/(1+ybar**(-4)))\n",
    "ss"
   ]
  },
  {
   "cell_type": "code",
   "execution_count": null,
   "metadata": {
    "ExecuteTime": {
     "end_time": "2018-02-17T02:16:44.481928Z",
     "start_time": "2018-02-17T02:16:43.990815Z"
    }
   },
   "outputs": [],
   "source": [
    "sym.solve(ss)"
   ]
  },
  {
   "cell_type": "code",
   "execution_count": null,
   "metadata": {
    "ExecuteTime": {
     "end_time": "2018-02-17T02:16:44.888529Z",
     "start_time": "2018-02-17T02:16:44.482930Z"
    }
   },
   "outputs": [],
   "source": [
    "ode.rhs.diff(y(n-1))"
   ]
  },
  {
   "cell_type": "code",
   "execution_count": null,
   "metadata": {
    "ExecuteTime": {
     "end_time": "2018-02-17T02:16:45.372400Z",
     "start_time": "2018-02-17T02:16:44.889532Z"
    }
   },
   "outputs": [],
   "source": [
    "ode.rhs.diff(y(n-1)).subs(y(n-1),0.9468)"
   ]
  },
  {
   "cell_type": "markdown",
   "metadata": {},
   "source": [
    "#### Dynamics and Steady State"
   ]
  },
  {
   "cell_type": "code",
   "execution_count": null,
   "metadata": {
    "ExecuteTime": {
     "end_time": "2018-02-17T02:16:51.310292Z",
     "start_time": "2018-02-17T02:16:50.519086Z"
    }
   },
   "outputs": [],
   "source": [
    "\n",
    "x0 = 0.85\n",
    "num_arrows = 3\n",
    "xmin, xmax = 0, 2\n",
    "ts_length = 12\n",
    "h = lambda x: 1 / (1 + x**(-4)) \n",
    "c = xmax / h(xmax)\n",
    "g = lambda x: c / (1 + x**(-4))\n",
    "plot45(g, xmin, xmax, x0, num_arrows)\n",
    "ts_plot(g, xmin, xmax, x0, ts_length)"
   ]
  },
  {
   "cell_type": "markdown",
   "metadata": {},
   "source": [
    "#### Second SS "
   ]
  },
  {
   "cell_type": "code",
   "execution_count": null,
   "metadata": {
    "ExecuteTime": {
     "end_time": "2018-02-17T02:16:51.685056Z",
     "start_time": "2018-02-17T02:16:51.311296Z"
    }
   },
   "outputs": [],
   "source": [
    "ode.rhs.diff(y(n-1)).subs(y(n-1),2.0)"
   ]
  },
  {
   "cell_type": "code",
   "execution_count": null,
   "metadata": {
    "ExecuteTime": {
     "end_time": "2018-02-17T03:34:05.552276Z",
     "start_time": "2018-02-17T03:34:05.177779Z"
    }
   },
   "outputs": [],
   "source": [
    "x0 = 1.1\n",
    "num_arrows = 3\n",
    "xmin, xmax = 0, 2\n",
    "ts_length = 12\n",
    "h = lambda x: 1 / (1 + x**(-4))\n",
    "c = xmax / h(xmax)\n",
    "g = lambda x: c / (1 + x**(-4))\n",
    "plot45(g, xmin, xmax, x0, num_arrows)\n",
    "ts_plot(g, xmin, xmax, x0, ts_length)"
   ]
  },
  {
   "cell_type": "markdown",
   "metadata": {},
   "source": [
    "### Second Order Difference Equation:\n",
    "2017 m1 q5"
   ]
  },
  {
   "cell_type": "code",
   "execution_count": null,
   "metadata": {
    "ExecuteTime": {
     "end_time": "2018-02-17T03:34:44.429225Z",
     "start_time": "2018-02-17T03:34:44.068768Z"
    }
   },
   "outputs": [],
   "source": [
    "x0 = 4\n",
    "num_arrows = 3\n",
    "xmin, xmax = 0, 12\n",
    "ts_length = 12\n",
    "# h = lambda x: 1 / (1 + x**(-4))\n",
    "# c = xmax / h(xmax)\n",
    "g = lambda x: -1 + 6/25*x**(2)\n",
    "plot45(g, xmin, xmax, x0, num_arrows)\n",
    "ts_plot(g, xmin, xmax, x0, ts_length)"
   ]
  },
  {
   "cell_type": "code",
   "execution_count": null,
   "metadata": {
    "ExecuteTime": {
     "end_time": "2018-02-17T03:35:27.332610Z",
     "start_time": "2018-02-17T03:35:26.968641Z"
    }
   },
   "outputs": [],
   "source": [
    "x0 = 4\n",
    "num_arrows = 3\n",
    "xmin, xmax = 0, 12\n",
    "ts_length = 12\n",
    "# h = lambda x: 1 / (1 + x**(-4))\n",
    "# c = xmax / h(xmax)\n",
    "g = lambda x: 10 - 1/5*x**(2)\n",
    "plot45(g, xmin, xmax, x0, num_arrows)\n",
    "ts_plot(g, xmin, xmax, x0, ts_length)"
   ]
  },
  {
   "cell_type": "code",
   "execution_count": null,
   "metadata": {
    "collapsed": true
   },
   "outputs": [],
   "source": []
  },
  {
   "cell_type": "code",
   "execution_count": null,
   "metadata": {
    "collapsed": true
   },
   "outputs": [],
   "source": []
  },
  {
   "cell_type": "code",
   "execution_count": null,
   "metadata": {
    "collapsed": true
   },
   "outputs": [],
   "source": []
  },
  {
   "cell_type": "markdown",
   "metadata": {},
   "source": [
    "### Second Order Difference Equation: Logistic Growth Model (Fish)"
   ]
  },
  {
   "cell_type": "code",
   "execution_count": null,
   "metadata": {
    "ExecuteTime": {
     "end_time": "2018-02-17T02:17:10.908808Z",
     "start_time": "2018-02-17T02:17:10.905314Z"
    },
    "collapsed": true
   },
   "outputs": [],
   "source": [
    "x,t,b,c,d, n, C0, y0, ybar = sym.symbols(\"x t b c d n C0 y0 ybar\")\n",
    "y = sym.Function(\"y\")"
   ]
  },
  {
   "cell_type": "code",
   "execution_count": null,
   "metadata": {
    "ExecuteTime": {
     "end_time": "2018-02-17T02:17:11.519911Z",
     "start_time": "2018-02-17T02:17:11.097744Z"
    }
   },
   "outputs": [],
   "source": [
    "ode=sym.Eq(y(n+1), 3*y(n)-3*y(n)**2 - 1/3)\n",
    "ode"
   ]
  },
  {
   "cell_type": "markdown",
   "metadata": {},
   "source": [
    "### Steady States"
   ]
  },
  {
   "cell_type": "code",
   "execution_count": null,
   "metadata": {
    "ExecuteTime": {
     "end_time": "2018-02-17T02:17:11.936526Z",
     "start_time": "2018-02-17T02:17:11.520913Z"
    }
   },
   "outputs": [],
   "source": [
    "ss=sym.Eq(ybar, 3*ybar-3*ybar**2 - 1/3)\n",
    "ss"
   ]
  },
  {
   "cell_type": "code",
   "execution_count": null,
   "metadata": {
    "ExecuteTime": {
     "end_time": "2018-02-17T02:17:12.457357Z",
     "start_time": "2018-02-17T02:17:11.938045Z"
    }
   },
   "outputs": [],
   "source": [
    "sym.solve(ss)"
   ]
  },
  {
   "cell_type": "markdown",
   "metadata": {},
   "source": [
    "#### Slope at SS"
   ]
  },
  {
   "cell_type": "code",
   "execution_count": null,
   "metadata": {
    "ExecuteTime": {
     "end_time": "2018-02-17T02:17:12.948629Z",
     "start_time": "2018-02-17T02:17:12.458359Z"
    }
   },
   "outputs": [],
   "source": [
    "ode.rhs.diff(y(n))"
   ]
  },
  {
   "cell_type": "code",
   "execution_count": null,
   "metadata": {
    "ExecuteTime": {
     "end_time": "2018-02-17T02:17:13.482857Z",
     "start_time": "2018-02-17T02:17:12.949632Z"
    }
   },
   "outputs": [],
   "source": [
    "ode.rhs.diff(y(n)).subs(y(n),1/3)"
   ]
  },
  {
   "cell_type": "markdown",
   "metadata": {},
   "source": [
    "#### Maximum of The Function"
   ]
  },
  {
   "cell_type": "code",
   "execution_count": null,
   "metadata": {
    "ExecuteTime": {
     "end_time": "2018-02-17T02:17:13.978615Z",
     "start_time": "2018-02-17T02:17:13.483860Z"
    }
   },
   "outputs": [],
   "source": [
    "sym.solve(ode.rhs.diff(y(n)), y(n) ) # y(n)"
   ]
  },
  {
   "cell_type": "code",
   "execution_count": null,
   "metadata": {
    "ExecuteTime": {
     "end_time": "2018-02-17T02:17:14.463061Z",
     "start_time": "2018-02-17T02:17:13.979618Z"
    }
   },
   "outputs": [],
   "source": [
    "ode.rhs.subs(y(n), .5)  # y(n+1)"
   ]
  },
  {
   "cell_type": "code",
   "execution_count": null,
   "metadata": {
    "collapsed": true
   },
   "outputs": [],
   "source": []
  },
  {
   "cell_type": "markdown",
   "metadata": {},
   "source": [
    "#### Dynamics and Steady State"
   ]
  },
  {
   "cell_type": "code",
   "execution_count": null,
   "metadata": {
    "ExecuteTime": {
     "end_time": "2018-02-17T02:17:14.939828Z",
     "start_time": "2018-02-17T02:17:14.464565Z"
    }
   },
   "outputs": [],
   "source": [
    "ode.rhs.diff(y(n)).subs(y(n),1/3)"
   ]
  },
  {
   "cell_type": "code",
   "execution_count": null,
   "metadata": {
    "ExecuteTime": {
     "end_time": "2018-02-17T02:17:15.306804Z",
     "start_time": "2018-02-17T02:17:14.941333Z"
    }
   },
   "outputs": [],
   "source": [
    "num_arrows = 5\n",
    "xmin, xmax = 0, 1\n",
    "ts_length = 10\n",
    "r = 3.2\n",
    "xstar1 = 0.8 \n",
    "xstar2 = 0.5\n",
    "x0 = 0.2\n",
    "g = lambda x: 3*x-3*x**2 -1/3\n",
    "plot45(g, xmin, xmax, x0, num_arrows)\n",
    "ts_plot(g, xmin, xmax, x0, ts_length)"
   ]
  },
  {
   "cell_type": "code",
   "execution_count": null,
   "metadata": {
    "ExecuteTime": {
     "end_time": "2018-01-28T19:50:08.622298Z",
     "start_time": "2018-01-28T19:50:08.144835Z"
    },
    "collapsed": true
   },
   "outputs": [],
   "source": []
  },
  {
   "cell_type": "code",
   "execution_count": null,
   "metadata": {
    "ExecuteTime": {
     "end_time": "2018-02-17T02:17:15.604617Z",
     "start_time": "2018-02-17T02:17:15.308308Z"
    }
   },
   "outputs": [],
   "source": [
    "num_arrows = 5\n",
    "xmin, xmax = 0, 1\n",
    "ts_length = 10\n",
    "r = 3.2\n",
    "xstar1 = 0.8 \n",
    "xstar2 = 0.5\n",
    "x0 = 0.5\n",
    "g = lambda x: 3*x-3*x**2 -1/3\n",
    "plot45(g, xmin, xmax, x0, num_arrows)\n",
    "ts_plot(g, xmin, xmax, x0, ts_length)"
   ]
  },
  {
   "cell_type": "code",
   "execution_count": null,
   "metadata": {
    "collapsed": true
   },
   "outputs": [],
   "source": []
  },
  {
   "cell_type": "code",
   "execution_count": null,
   "metadata": {
    "ExecuteTime": {
     "end_time": "2018-02-17T02:17:15.906920Z",
     "start_time": "2018-02-17T02:17:15.606121Z"
    }
   },
   "outputs": [],
   "source": [
    "num_arrows = 1\n",
    "xmin, xmax = 0, 1\n",
    "ts_length = 10\n",
    "r = 3.2\n",
    "xstar1 = 0.8 \n",
    "xstar2 = 0.5\n",
    "x0 = 2/3\n",
    "g = lambda x: 3*x-3*x**2 -1/3\n",
    "plot45(g, xmin, xmax, x0, num_arrows)\n",
    "ts_plot(g, xmin, xmax, x0, ts_length)"
   ]
  },
  {
   "cell_type": "code",
   "execution_count": null,
   "metadata": {
    "collapsed": true
   },
   "outputs": [],
   "source": []
  },
  {
   "cell_type": "markdown",
   "metadata": {},
   "source": [
    "### A first order homogeneous differential equation"
   ]
  },
  {
   "cell_type": "code",
   "execution_count": null,
   "metadata": {
    "ExecuteTime": {
     "end_time": "2018-02-17T02:17:16.012201Z",
     "start_time": "2018-02-17T02:17:16.009193Z"
    },
    "collapsed": true
   },
   "outputs": [],
   "source": [
    "#https://www.youtube.com/watch?v=4X0SGGrXDiI\n",
    "\n",
    "a, t, y0 = sym.symbols(\"a t y0\")\n",
    "y = sym.Function(\"y\")"
   ]
  },
  {
   "cell_type": "code",
   "execution_count": null,
   "metadata": {
    "ExecuteTime": {
     "end_time": "2018-02-17T02:17:16.829625Z",
     "start_time": "2018-02-17T02:17:16.218914Z"
    }
   },
   "outputs": [],
   "source": [
    "ode=sym.Eq(y(t).diff(t), a*y(t))\n",
    "ode"
   ]
  },
  {
   "cell_type": "markdown",
   "metadata": {},
   "source": [
    "- y: money in bank\n",
    "- a: interest rate, for example 6%\n",
    "- t: time year\n"
   ]
  },
  {
   "cell_type": "code",
   "execution_count": null,
   "metadata": {
    "ExecuteTime": {
     "end_time": "2018-02-17T02:17:17.240609Z",
     "start_time": "2018-02-17T02:17:17.140342Z"
    }
   },
   "outputs": [],
   "source": [
    "sym.classify_ode(ode)"
   ]
  },
  {
   "cell_type": "code",
   "execution_count": null,
   "metadata": {
    "ExecuteTime": {
     "end_time": "2018-02-17T02:17:18.118659Z",
     "start_time": "2018-02-17T02:17:17.594481Z"
    }
   },
   "outputs": [],
   "source": [
    "ode_sol=sym.dsolve(ode, y(t), hint=\"separable\")\n",
    "ode_sol"
   ]
  },
  {
   "cell_type": "code",
   "execution_count": null,
   "metadata": {
    "ExecuteTime": {
     "end_time": "2018-02-17T02:17:18.567501Z",
     "start_time": "2018-02-17T02:17:18.155257Z"
    }
   },
   "outputs": [],
   "source": [
    "ode_sol.free_symbols"
   ]
  },
  {
   "cell_type": "code",
   "execution_count": null,
   "metadata": {
    "ExecuteTime": {
     "end_time": "2018-02-17T02:17:18.599084Z",
     "start_time": "2018-02-17T02:17:18.596578Z"
    },
    "collapsed": true
   },
   "outputs": [],
   "source": [
    "ics = {y(0): y0}"
   ]
  },
  {
   "cell_type": "code",
   "execution_count": null,
   "metadata": {
    "ExecuteTime": {
     "end_time": "2018-02-17T02:17:18.837302Z",
     "start_time": "2018-02-17T02:17:18.831786Z"
    },
    "collapsed": true
   },
   "outputs": [],
   "source": [
    "def apply_ics(sol, ics, x, known_params):\n",
    "    \"\"\"\n",
    "    Apply the initial conditions (ics), given as a dictionary on\n",
    "    the form ics = {y(0): y0: y(x).diff(x).subs(x, 0): yp0, ...}\n",
    "    to the solution of the ODE with indepdendent variable x.\n",
    "    The undetermined integration constants C1, C2, ... are extracted\n",
    "    from the free symbols of the ODE solution, excluding symbols in\n",
    "    the known_params list.\n",
    "    \"\"\"\n",
    "    free_params = sol.free_symbols - set(known_params)\n",
    "    eqs = [(sol.lhs.diff(x, n) - sol.rhs.diff(x, n)).subs(x, 0).subs(ics)\n",
    "           for n in range(len(ics))]\n",
    "    sol_params = sym.solve(eqs, free_params)\n",
    "    return sol.subs(sol_params)"
   ]
  },
  {
   "cell_type": "code",
   "execution_count": null,
   "metadata": {
    "ExecuteTime": {
     "end_time": "2018-02-17T02:17:19.482626Z",
     "start_time": "2018-02-17T02:17:19.083564Z"
    }
   },
   "outputs": [],
   "source": [
    "apply_ics(ode_sol, ics, t, [a])"
   ]
  },
  {
   "cell_type": "code",
   "execution_count": null,
   "metadata": {
    "collapsed": true
   },
   "outputs": [],
   "source": []
  },
  {
   "cell_type": "markdown",
   "metadata": {},
   "source": [
    "### Second Order Differential Equation"
   ]
  },
  {
   "cell_type": "markdown",
   "metadata": {},
   "source": [
    "#### Define the differential equation as a sym.Eq()"
   ]
  },
  {
   "cell_type": "code",
   "execution_count": null,
   "metadata": {
    "ExecuteTime": {
     "end_time": "2018-02-17T02:17:20.573176Z",
     "start_time": "2018-02-17T02:17:20.570168Z"
    },
    "collapsed": true
   },
   "outputs": [],
   "source": [
    "x,t, b,c,d, n, C0, y0 = sym.symbols(\"x t  b c d n C0 y0\")\n",
    "f = sym.Function(\"f\")"
   ]
  },
  {
   "cell_type": "code",
   "execution_count": null,
   "metadata": {
    "ExecuteTime": {
     "end_time": "2018-02-17T02:17:21.159782Z",
     "start_time": "2018-02-17T02:17:20.755673Z"
    }
   },
   "outputs": [],
   "source": [
    "diffeq = sym.Eq(f(t).diff(t, t) - 2*f(t).diff(t) + f(t), sym.sin(t))\n",
    "diffeq"
   ]
  },
  {
   "cell_type": "markdown",
   "metadata": {},
   "source": [
    "#### Solve differential equation"
   ]
  },
  {
   "cell_type": "code",
   "execution_count": null,
   "metadata": {
    "ExecuteTime": {
     "end_time": "2018-02-17T02:17:21.678318Z",
     "start_time": "2018-02-17T02:17:21.161287Z"
    }
   },
   "outputs": [],
   "source": [
    "soln = sym.dsolve(diffeq,f(t))\n",
    "soln"
   ]
  },
  {
   "cell_type": "markdown",
   "metadata": {},
   "source": [
    "#### Boundary conditions\n",
    "This isn't implemented yet in `dsolve` -- it's on the \"to do\" list<br>\n",
    "For now, solve for contants on your own. For example, if\n",
    "$$ f(0) = 1\\quad\\mbox{and}\\quad\\left.\\frac{df}{dx}\\right|_0 = 0,  $$\n",
    "solve the following equations:"
   ]
  },
  {
   "cell_type": "code",
   "execution_count": null,
   "metadata": {
    "ExecuteTime": {
     "end_time": "2018-02-17T02:17:22.314008Z",
     "start_time": "2018-02-17T02:17:21.679822Z"
    }
   },
   "outputs": [],
   "source": [
    "constants = sym.solve([soln.rhs.subs(t,0) - 1, soln.rhs.diff(t,1).subs(t,0)- 0])\n",
    "constants"
   ]
  },
  {
   "cell_type": "code",
   "execution_count": null,
   "metadata": {
    "ExecuteTime": {
     "end_time": "2018-02-17T02:17:22.714615Z",
     "start_time": "2018-02-17T02:17:22.315012Z"
    }
   },
   "outputs": [],
   "source": [
    "C1, C2 = sym.symbols('C1,C2')\n",
    "soln = soln.subs(constants)\n",
    "soln"
   ]
  },
  {
   "cell_type": "markdown",
   "metadata": {},
   "source": [
    "#### Convert soln to python function for numerical evaluation/plotting\n",
    "I'm not sure why I had to specify the modulue for conversion of sympy functions.<br>\n",
    "See http://docs.sympy.org/latest/modules/utilities/lambdify.html<br>\n",
    "In previous examples, sympy figured out a good module \"on its own.\" "
   ]
  },
  {
   "cell_type": "code",
   "execution_count": null,
   "metadata": {
    "ExecuteTime": {
     "end_time": "2018-02-17T02:17:22.721132Z",
     "start_time": "2018-02-17T02:17:22.716117Z"
    },
    "collapsed": true
   },
   "outputs": [],
   "source": [
    "func = sym.lambdify(t,soln.rhs,'numpy')"
   ]
  },
  {
   "cell_type": "code",
   "execution_count": null,
   "metadata": {
    "ExecuteTime": {
     "end_time": "2018-02-17T02:17:23.381512Z",
     "start_time": "2018-02-17T02:17:23.253673Z"
    }
   },
   "outputs": [],
   "source": [
    "xx = sp.arange(-1,1,.01)  # name = xx so it won't collide with symbol x\n",
    "y = func(xx)\n",
    "plt.figure(1)\n",
    "plt.plot(xx,y);"
   ]
  },
  {
   "cell_type": "code",
   "execution_count": null,
   "metadata": {
    "ExecuteTime": {
     "end_time": "2018-01-28T19:38:15.201298Z",
     "start_time": "2018-01-28T19:38:15.197288Z"
    }
   },
   "outputs": [],
   "source": [
    "from IPython.core.display import HTML, Image\n",
    "css_file = '../../custom.css'\n",
    "HTML(open(css_file, 'r').read())"
   ]
  },
  {
   "cell_type": "code",
   "execution_count": null,
   "metadata": {
    "ExecuteTime": {
     "end_time": "2018-01-28T19:38:43.451693Z",
     "start_time": "2018-01-28T19:38:43.384522Z"
    }
   },
   "outputs": [],
   "source": [
    "#%load_ext watermark\n",
    "%watermark -v -m -p sympy,matplotlib -g"
   ]
  },
  {
   "cell_type": "code",
   "execution_count": null,
   "metadata": {
    "ExecuteTime": {
     "end_time": "2018-02-17T02:19:12.928253Z",
     "start_time": "2018-02-17T02:19:12.924230Z"
    }
   },
   "outputs": [],
   "source": [
    "%reload_ext mermaid"
   ]
  },
  {
   "cell_type": "code",
   "execution_count": null,
   "metadata": {
    "ExecuteTime": {
     "end_time": "2018-02-17T02:19:19.433252Z",
     "start_time": "2018-02-17T02:19:19.429758Z"
    }
   },
   "outputs": [],
   "source": [
    "%%javascript\n",
    "IPython.load_ipython_extensions([\"nb-mermaid/nb-mermaid\"]);"
   ]
  },
  {
   "cell_type": "code",
   "execution_count": null,
   "metadata": {
    "collapsed": true
   },
   "outputs": [],
   "source": []
  }
 ],
 "metadata": {
  "anaconda-cloud": {},
  "kernelspec": {
   "display_name": "Python 3",
   "language": "python",
   "name": "python3"
  },
  "language_info": {
   "codemirror_mode": {
    "name": "ipython",
    "version": 3
   },
   "file_extension": ".py",
   "mimetype": "text/x-python",
   "name": "python",
   "nbconvert_exporter": "python",
   "pygments_lexer": "ipython3",
   "version": "3.6.2"
  }
 },
 "nbformat": 4,
 "nbformat_minor": 1
}
