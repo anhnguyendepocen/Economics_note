{
 "cells": [
  {
   "cell_type": "code",
   "execution_count": null,
   "metadata": {
    "collapsed": true
   },
   "outputs": [],
   "source": [
    "from sympy import *\n",
    "init_printing() \n",
    "%matplotlib inline"
   ]
  },
  {
   "cell_type": "markdown",
   "metadata": {},
   "source": [
    "Some notes of solving ode\n",
    "\n",
    "http://blue.math.buffalo.edu/306/boards_part1_lite.html\n",
    "\n",
    "http://blue.math.buffalo.edu/306/python_utilities_and_demos.html\n",
    "\n",
    "http://blue.math.buffalo.edu/438/all438.html\n",
    "\n",
    "http://blue.math.buffalo.edu/438/sauer2/\n",
    "\n",
    "Dynamic characteristics\n",
    "http://www.sosmath.com/diffeq/system/linear/eigenvalue/real/real.html"
   ]
  },
  {
   "cell_type": "code",
   "execution_count": null,
   "metadata": {},
   "outputs": [],
   "source": [
    "from IPython.display import YouTubeVideo\n",
    "# a talk about Differential Equations and Linear Algebra, Two First Order Equations: Stability \n",
    "# Video credit: Gilbert Strang, Massachusetts Institute of Technology (MIT)\n",
    "YouTubeVideo('fd7ioT_wwPE') # watch from 7:00"
   ]
  },
  {
   "cell_type": "code",
   "execution_count": null,
   "metadata": {},
   "outputs": [],
   "source": [
    "# a talk about Differential Equations and Linear Algebra, Linearization at Critical Points \n",
    "# Video credit: Gilbert Strang, Massachusetts Institute of Technology (MIT)\n",
    "YouTubeVideo('0hx59wYpFyY')"
   ]
  },
  {
   "cell_type": "code",
   "execution_count": null,
   "metadata": {},
   "outputs": [],
   "source": [
    "# a talk about Differential Equations and Linear Algebra, Eigenvalues and Stability: 2 by 2 Matrix, A \n",
    "# Video credit: Gilbert Strang, Massachusetts Institute of Technology (MIT)\n",
    "YouTubeVideo('N6pc8Axv3Gs')"
   ]
  },
  {
   "cell_type": "code",
   "execution_count": null,
   "metadata": {},
   "outputs": [],
   "source": [
    "# a talk about Differential Equations and Linear Algebra, Eigenvalues and Stability: 2 by 2 Matrix, A \n",
    "# Video credit: Gilbert Strang, Massachusetts Institute of Technology (MIT)\n",
    "YouTubeVideo('GAOjfd5QJZE')"
   ]
  },
  {
   "cell_type": "code",
   "execution_count": null,
   "metadata": {},
   "outputs": [],
   "source": [
    "x, y, z = symbols('x y z')"
   ]
  },
  {
   "cell_type": "code",
   "execution_count": null,
   "metadata": {
    "collapsed": true
   },
   "outputs": [],
   "source": [
    "a, b = symbols('a b')"
   ]
  },
  {
   "cell_type": "code",
   "execution_count": null,
   "metadata": {},
   "outputs": [],
   "source": [
    "exp(x)"
   ]
  },
  {
   "cell_type": "code",
   "execution_count": null,
   "metadata": {
    "scrolled": true
   },
   "outputs": [],
   "source": [
    "exp(x).series(x)"
   ]
  },
  {
   "cell_type": "markdown",
   "metadata": {},
   "source": [
    "### ODE\n",
    "\n",
    "http://docs.sympy.org/dev/modules/solvers/ode.html\n",
    "    \n",
    "    \n",
    "    \n"
   ]
  },
  {
   "cell_type": "code",
   "execution_count": null,
   "metadata": {
    "collapsed": true
   },
   "outputs": [],
   "source": [
    "f, g = symbols('f g', cls=Function)"
   ]
  },
  {
   "cell_type": "code",
   "execution_count": null,
   "metadata": {},
   "outputs": [],
   "source": [
    "f(x)"
   ]
  },
  {
   "cell_type": "code",
   "execution_count": null,
   "metadata": {},
   "outputs": [],
   "source": [
    " f(x).diff(x)"
   ]
  },
  {
   "cell_type": "code",
   "execution_count": null,
   "metadata": {},
   "outputs": [],
   "source": [
    "diffeq = Eq(f(x).diff(x, x) - 2*f(x).diff(x) + f(x), sin(x))\n",
    "diffeq\n"
   ]
  },
  {
   "cell_type": "code",
   "execution_count": null,
   "metadata": {},
   "outputs": [],
   "source": [
    "dsolve(diffeq, f(x))"
   ]
  },
  {
   "cell_type": "code",
   "execution_count": null,
   "metadata": {
    "collapsed": true
   },
   "outputs": [],
   "source": [
    "x=symbols('x')\n",
    "f=symbols('f', cls=Function)\n"
   ]
  },
  {
   "cell_type": "code",
   "execution_count": null,
   "metadata": {},
   "outputs": [],
   "source": [
    "Eq(f(x).diff(x,x), 900*(f(x)-1+2*x))"
   ]
  },
  {
   "cell_type": "code",
   "execution_count": null,
   "metadata": {},
   "outputs": [],
   "source": [
    "dsolve(Eq(f(x).diff(x,x), 900*(f(x)-1+2*x)), f(x), ics={f(0):5, f(2):10})"
   ]
  },
  {
   "cell_type": "code",
   "execution_count": null,
   "metadata": {
    "collapsed": true
   },
   "outputs": [],
   "source": []
  },
  {
   "cell_type": "code",
   "execution_count": null,
   "metadata": {
    "collapsed": true
   },
   "outputs": [],
   "source": []
  },
  {
   "cell_type": "code",
   "execution_count": null,
   "metadata": {
    "collapsed": true
   },
   "outputs": [],
   "source": []
  },
  {
   "cell_type": "code",
   "execution_count": null,
   "metadata": {},
   "outputs": [],
   "source": [
    "eq = Derivative(f(x), x, x) + 9*f(x)\n",
    "eq"
   ]
  },
  {
   "cell_type": "code",
   "execution_count": null,
   "metadata": {},
   "outputs": [],
   "source": [
    "f = Function('f')\n",
    "dsolve(Derivative(f(x), x, x) + 9*f(x), f(x))\n"
   ]
  },
  {
   "cell_type": "code",
   "execution_count": null,
   "metadata": {},
   "outputs": [],
   "source": [
    "eq = sin(x)*cos(f(x)) + cos(x)*sin(f(x))*f(x).diff(x)\n",
    "\n",
    "eq"
   ]
  },
  {
   "cell_type": "code",
   "execution_count": null,
   "metadata": {},
   "outputs": [],
   "source": [
    "dsolve(eq, hint='1st_exact')"
   ]
  },
  {
   "cell_type": "code",
   "execution_count": null,
   "metadata": {},
   "outputs": [],
   "source": [
    "dsolve(eq, hint='almost_linear')"
   ]
  },
  {
   "cell_type": "code",
   "execution_count": null,
   "metadata": {
    "collapsed": true
   },
   "outputs": [],
   "source": []
  },
  {
   "cell_type": "code",
   "execution_count": null,
   "metadata": {},
   "outputs": [],
   "source": [
    "\n",
    "\n",
    "t = symbols('t')\n",
    "x, y = symbols('x, y', function=True)\n",
    "eq = (Eq(Derivative(x(t),t), 12*t*x(t) + 8*y(t)), Eq(Derivative(y(t),t), 21*x(t) + 7*t*y(t)))\n",
    "\n",
    "\n",
    "eq"
   ]
  },
  {
   "cell_type": "code",
   "execution_count": null,
   "metadata": {},
   "outputs": [],
   "source": [
    "dsolve(eq)"
   ]
  },
  {
   "cell_type": "code",
   "execution_count": null,
   "metadata": {
    "collapsed": true
   },
   "outputs": [],
   "source": []
  },
  {
   "cell_type": "code",
   "execution_count": null,
   "metadata": {
    "collapsed": true
   },
   "outputs": [],
   "source": []
  },
  {
   "cell_type": "code",
   "execution_count": null,
   "metadata": {},
   "outputs": [],
   "source": [
    "eq = (Eq(Derivative(x(t),t),x(t)*y(t)*sin(t)), Eq(Derivative(y(t),t),y(t)**2*sin(t)))\n",
    "eq"
   ]
  },
  {
   "cell_type": "code",
   "execution_count": null,
   "metadata": {
    "collapsed": true
   },
   "outputs": [],
   "source": []
  },
  {
   "cell_type": "code",
   "execution_count": null,
   "metadata": {},
   "outputs": [],
   "source": [
    "dsolve(eq)"
   ]
  },
  {
   "cell_type": "markdown",
   "metadata": {
    "collapsed": true
   },
   "source": [
    "### System of rabbit and fox\n",
    "\n",
    "\n",
    "http://sam-dolan.staff.shef.ac.uk/mas212/docs/Solutions4.html\n",
    "\n",
    "\n",
    "x : rabbits\n",
    "\n",
    "y: foxes\n",
    "\n",
    "\n",
    "\n",
    "$$% <![CDATA[\n",
    "\\begin{align*}\n",
    "\\frac{dx}{dt} &= a*x - b*x*y \\\\\n",
    "\\frac{dy}{dt} &= -c*y + d*x*y\n",
    "\\end{align*} %]]>$$\n",
    "\n"
   ]
  },
  {
   "cell_type": "code",
   "execution_count": null,
   "metadata": {
    "collapsed": true
   },
   "outputs": [],
   "source": [
    "import numpy as np\n",
    "import matplotlib.pyplot as plt\n",
    "from scipy.integrate import odeint\n",
    "%matplotlib inline\n",
    "plt.rcParams.update({'font.size': 14})  # Make the labels larger"
   ]
  },
  {
   "cell_type": "code",
   "execution_count": null,
   "metadata": {},
   "outputs": [],
   "source": [
    "a,b,c,d = 1,1,1,1\n",
    "\n",
    "def predprey(X, t):\n",
    "    # X is an array with two elements. The function should return an array of the derivatives of these elements.\n",
    "    x = X[0]; # rabbits\n",
    "    y = X[1]; # foxes\n",
    "    dxdt =  a*x - b*x*y\n",
    "    dydt = -c*y + d*x*y\n",
    "    return np.array([dxdt, dydt])\n",
    "\n",
    "h = 0.1; tmax = 20.0; tmin = 0.0;\n",
    "n = int((tmax-tmin)/h); ts = np.linspace(tmin, tmax, n+1);\n",
    "\n",
    "ic = (1.0, 1.5)  # initial conditions: (rabbits, foxes).\n",
    "Xs = odeint(predprey, ic, ts)\n",
    "# Note that odeint returns a 2D array with 2 columns. \n",
    "# Rabbits in the first column, foxes in the second. \n",
    "plt.plot(ts, Xs[:,0], 'r-', label=\"Rabbits\");\n",
    "plt.plot(ts, Xs[:,1], 'b-', label=\"Foxes\");\n",
    "plt.xlabel(\"time\"); plt.ylabel(\"Population\"); plt.legend();"
   ]
  },
  {
   "cell_type": "markdown",
   "metadata": {},
   "source": [
    "## Change Initial number of foxes"
   ]
  },
  {
   "cell_type": "code",
   "execution_count": null,
   "metadata": {},
   "outputs": [],
   "source": [
    "\n",
    "\n",
    "#  a phase portrait\n",
    "r0 = 1.0;  # Initial number of rabbits\n",
    "nseries = 6;  # number of curves on the phase plot\n",
    "fs = np.linspace(0.2, 1, nseries)  # Initial number of foxes\n",
    "for k in range(nseries):\n",
    "    Xs = odeint(predprey, (r0, fs[k]), ts)\n",
    "    plt.plot(Xs[:,0], Xs[:,1]);\n",
    "plt.xlabel(\"Rabbits\"); plt.ylabel(\"Foxes\");\n"
   ]
  },
  {
   "cell_type": "markdown",
   "metadata": {},
   "source": [
    "## varying parameter 'b', the appetite of the foxes"
   ]
  },
  {
   "cell_type": "code",
   "execution_count": null,
   "metadata": {},
   "outputs": [],
   "source": [
    "#  Try varying parameter 'b', the appetite of the foxes\n",
    "def predprey2(X, t, b=1.0):  # Make b an optional parameter\n",
    "    x = X[0]; y = X[1]; \n",
    "    dxdt =  a*x - b*x*y\n",
    "    dydt = -c*y + d*x*y\n",
    "    return np.array([dxdt, dydt])\n",
    "\n",
    "bs = np.linspace(0.5, 2.0, 4)\n",
    "ic = (0.5, 1.0)  # Try starting with this initial condition\n",
    "for bval in bs:\n",
    "    # Pass the value of the 'b' parameter through to predprey2 using the optional argument 'args'\n",
    "    Xs = odeint(predprey2, ic, ts, args=(bval,))\n",
    "    plt.plot(Xs[:,0], Xs[:,1]);\n",
    "# Changing 'b' changes the position of the stable equilibrium."
   ]
  },
  {
   "cell_type": "code",
   "execution_count": null,
   "metadata": {
    "collapsed": true
   },
   "outputs": [],
   "source": []
  },
  {
   "cell_type": "code",
   "execution_count": null,
   "metadata": {
    "collapsed": true
   },
   "outputs": [],
   "source": []
  },
  {
   "cell_type": "code",
   "execution_count": null,
   "metadata": {
    "collapsed": true
   },
   "outputs": [],
   "source": []
  },
  {
   "cell_type": "code",
   "execution_count": null,
   "metadata": {
    "collapsed": true
   },
   "outputs": [],
   "source": []
  },
  {
   "cell_type": "code",
   "execution_count": null,
   "metadata": {
    "collapsed": true
   },
   "outputs": [],
   "source": []
  },
  {
   "cell_type": "markdown",
   "metadata": {},
   "source": [
    "### System of fish and boats/effort\n",
    "\n",
    "\n",
    "ODE in scipy\n",
    "\n",
    "http://www.danham.me/r/2015/10/29/differential-eq.html\n",
    "\n",
    "\n",
    "$$% <![CDATA[\n",
    "\\begin{align*}\n",
    "\\frac{dx}{dt} &= x(2 - y - x) \\\\\n",
    "\\frac{dy}{dt} &= -y(1 - 1.5x)\n",
    "\\end{align*} %]]>$$\n",
    "\n",
    "\n",
    "built-in SciPy function odeint to solve the system of ordinary differential equations, which relies on lsoda from the FORTRAN library odepack. First, we define a callable function to compute the time derivatives for a given state, indexed by the time period. We also load libraries that we’ll use later to animate the results.\n",
    "\n",
    "\n",
    "$$% <![CDATA[\n",
    "\\begin{align*}\n",
    "\\frac{dx}{dt} = 0 &\\implies y = 2 - x \\\\\n",
    "\\frac{dy}{dt} = 0 &\\implies x = 2/3\n",
    "\\end{align*} %]]>$$\n",
    "\n",
    "\n"
   ]
  },
  {
   "cell_type": "code",
   "execution_count": null,
   "metadata": {
    "collapsed": true
   },
   "outputs": [],
   "source": [
    "import matplotlib.animation as animation\n",
    "from scipy.integrate import odeint\n",
    "from numpy import arange\n",
    "from pylab import *\n",
    "\n",
    "def BoatFishSystem(state, t):\n",
    "    fish, boat = state\n",
    "    d_fish = fish * (2 - boat - fish)\n",
    "    d_boat = -boat * (1 - 1.5 * fish)\n",
    "    return [d_fish, d_boat]"
   ]
  },
  {
   "cell_type": "code",
   "execution_count": null,
   "metadata": {
    "collapsed": true
   },
   "outputs": [],
   "source": []
  },
  {
   "cell_type": "code",
   "execution_count": null,
   "metadata": {},
   "outputs": [],
   "source": [
    "t = arange(0, 20, 0.1)\n",
    "init_state = [1, 1]\n",
    "state = odeint(BoatFishSystem, init_state, t)\n",
    "\n",
    "fig = figure()\n",
    "xlabel('number of fish')\n",
    "ylabel('number of boats')\n",
    "plot(state[:, 0], state[:, 1], 'b-', alpha=0.2)\n",
    "plot(state[:, 0], 2-state[:, 0], 'r--', alpha=0.2)\n",
    "plot(np.ones(len(state[:,0]))*2/3, state[:, 1], 'r--', alpha=0.2)\n",
    "#axvline(x=2/3, color='r', alpha=0.2)\n",
    "show()"
   ]
  },
  {
   "cell_type": "code",
   "execution_count": null,
   "metadata": {},
   "outputs": [],
   "source": [
    "# Note that odeint returns a 2D array with 2 columns. \n",
    "# Fish in the first column, boats in the second. \n",
    "plt.plot(t, state[:,0], 'r-', label=\"Fish\");\n",
    "plt.plot(t, state[:,1], 'b-', label=\"boat\");\n",
    "plt.xlabel(\"time\"); plt.ylabel(\"Population\"); plt.legend();"
   ]
  },
  {
   "cell_type": "markdown",
   "metadata": {},
   "source": [
    "\n",
    "\n",
    "The red, dashed lines indicate the nullclines, derived from the first-order conditions of the equation system. These lines delineate the phase space of the top graph; and the lines intersect at the equilibrium levels of fish and boats.\n",
    "\n",
    "\n",
    "\n",
    "$$% <![CDATA[\n",
    "\\begin{align*}\n",
    "\\frac{dx}{dt} = 0 &\\implies y = 2 - x \\\\\n",
    "\\frac{dy}{dt} = 0 &\\implies x = 2/3\n",
    "\\end{align*} %]]>$$\n",
    "\n",
    "\n",
    "\n",
    "\n",
    "![](http://www.danham.me/images/differential-animated-dual.gif)\n",
    "\n",
    "\n",
    "\n",
    "\n",
    "\n",
    "\n",
    "\n",
    "\n",
    "\n",
    "\n",
    "### Linear approximated system near the equilibrium () \n",
    "\n",
    "\n",
    "Suppose we wanted to figure out the behavior of this system near the equilibrium before going through the numerical estimation. First, we linearize the system near the equilibrium, yielding the Jacobian. Let $f(x,y)=dx/dt$ and $g(x,y)=dy/dt$, then the nonlinear system can be approximated by the following linear system near the equilibrim (x¯,y¯):\n",
    "\n",
    "\n",
    "$$% <![CDATA[\n",
    "\\begin{align*}\n",
    "f(x, y) &\\approx f(\\bar{x}, \\bar{y}) + \\frac{\\partial f(\\bar{x}, \\bar{y})}{\\partial x}\\left(x - \\bar{x}\\right) + \\frac{\\partial f(\\bar{x}, \\bar{y})}{\\partial y}\\left(y - \\bar{y}\\right)\\\\\n",
    "g(x, y) &\\approx g(\\bar{x}, \\bar{y}) + \\frac{\\partial g(\\bar{x}, \\bar{y})}{\\partial x}\\left(x - \\bar{x}\\right) + \\frac{\\partial g(\\bar{x}, \\bar{y})}{\\partial y}\\left(y - \\bar{y}\\right)\n",
    "\\end{align*} %]]>$$\n",
    "\n",
    "\n",
    "\n",
    "Noting that f(x¯,y¯)=g(x¯,y¯)=0 by definition of the equilibrium, the nonlinear system is approximated by the linear system defined by the Jacobian, evaluated at the equilibrium:\n",
    "\n",
    "\n",
    "\n",
    "$$% <![CDATA[\n",
    "\\left( \n",
    "\\begin{array}{cc} \n",
    "\\frac{\\partial f}{\\partial x} & \\frac{\\partial f}{\\partial y} \\\\\n",
    "\\frac{\\partial g}{\\partial x} & \\frac{\\partial g}{\\partial y}\n",
    "\\end{array}\n",
    "\\right)\n",
    "= \n",
    "\\left( \n",
    "\\begin{array}{cc} \n",
    "2 - y - 2x & -x \\\\\n",
    "1.5y & 1 - 1.5x\n",
    "\\end{array}\n",
    "\\right)\n",
    "= \n",
    "\\left( \n",
    "\\begin{array}{cc} \n",
    "-\\frac{2}{3} & -\\frac{2}{3} \\\\\n",
    "2 & 0\n",
    "\\end{array}\n",
    "\\right) %]]>$$\n",
    "\n",
    "Then the eigenvalues λ are given by:\n",
    "\n",
    "\n",
    "$$% <![CDATA[\n",
    "\\left|\n",
    "\\begin{array}{cc} \n",
    "-\\frac{2}{3} - \\lambda & -\\frac{2}{3} \\\\\n",
    "2 & -\\lambda\n",
    "\\end{array}\n",
    "\\right| \n",
    "= 0 \n",
    "\\implies \n",
    "\\lambda^{2} + \\frac{2}{3}\\lambda + \\frac{4}{3} \n",
    "= 0\n",
    "\\implies\n",
    "\\lambda = -\\frac{2}{3} \\pm i\\sqrt{\\frac{44}{9}} %]]>$$\n",
    "\n",
    "\n",
    "\n",
    "The real part is negative and there is an imaginary component, such that the system will oscillate around the equilibrium tending inward. This behavior is reflected in the animation. \n",
    "\n",
    "\n",
    "\n",
    "## Schaefer model\n",
    "\n",
    "Bjorndal and Conrad (1987) modelled open-access exploitation of North Sea herring between 1963 - 1977. Their model is similar to the one above, except slightly more complicated. Let fish stock (x\n",
    ") and fishing effort (y) be modelled by the following system:\n",
    "\n",
    "\n",
    "$$% <![CDATA[\n",
    "\\begin{align*}\n",
    "\\frac{dx}{dt} &= gx\\left(1 - \\frac{x}{K}\\right) - kxy \\\\\n",
    "\\frac{dy}{dt} &= kpx - c,\n",
    "\\end{align*} %]]>$$\n",
    "\n",
    "where k is a catchability constant, g is the intrinsic growth rate of the fish stock, K is the carrying capacity, p is the fish price, and c is the marginal cost of one unit of effort. Then, through the same process as above, we find that the equilibrium point (at the intersection of the nullclines) is:\n",
    "\n",
    "$$\\left( \\frac{c}{pk}, \\frac{g}{k}\\left( 1 - \\frac{c}{pkK}\\right) \\right)$$\n",
    "\n",
    "\n",
    "Using the constants in Bjorndal and Conrad (1987) we model the system similarly:\n",
    "\n",
    "\n",
    "\n",
    "\n",
    "\n",
    "\n",
    "\n",
    "\n",
    "\n",
    "\n",
    "\n",
    "\n",
    "\n",
    "\n",
    "\n",
    "\n",
    "\n",
    "\n",
    "\n"
   ]
  },
  {
   "cell_type": "code",
   "execution_count": null,
   "metadata": {
    "collapsed": true
   },
   "outputs": [],
   "source": [
    "price = 735\n",
    "effort_scale = 2e-6\n",
    "marginal_cost = 556380\n",
    "carrying_capacity = 3.2e6\n",
    "intrinsic_growth = 0.08\n",
    "catchability = marginal_cost / (price * 0.25e6)\n",
    "\n",
    "def BoatFishSystem(state, t, time_scale=1):\n",
    "    stock, effort = state\n",
    "    net_growth = intrinsic_growth * stock * (1 - (stock/carrying_capacity))\n",
    "    harvest = catchability * stock * effort\n",
    "    d_stock = net_growth - harvest\n",
    "    d_effort = effort_scale * (price * catchability * stock - marginal_cost)\n",
    "    return [d_stock * time_scale, d_effort * time_scale]"
   ]
  },
  {
   "cell_type": "markdown",
   "metadata": {},
   "source": [
    "\n",
    "![](http://www.danham.me/images/differential-animated-schaefer.gif)"
   ]
  },
  {
   "cell_type": "code",
   "execution_count": null,
   "metadata": {},
   "outputs": [],
   "source": [
    "t = arange(0, 1000, 1)\n",
    "init_state = [750000, 15]\n",
    "state = odeint(BoatFishSystem, init_state, t)\n",
    "\n",
    "fig = figure()\n",
    "xlabel('number of fish')\n",
    "ylabel('number of boats')\n",
    "plot(state[:, 0], state[:, 1], 'b-', alpha=0.2)\n",
    "\n",
    "\n",
    "show()"
   ]
  },
  {
   "cell_type": "code",
   "execution_count": null,
   "metadata": {},
   "outputs": [],
   "source": [
    "# Note that odeint returns a 2D array with 2 columns. \n",
    "# Fish in the first column, boats in the second. \n",
    "plt.plot(t, state[:,0]/100000, 'r-', label=\"Fish /million\");\n",
    "plt.plot(t, state[:,1], 'b-', label=\"boat\");\n",
    "plt.xlabel(\"time\"); plt.ylabel(\"Population\"); plt.legend();"
   ]
  },
  {
   "cell_type": "markdown",
   "metadata": {},
   "source": [
    "The Jacobian for this system evaluated at the equilibrium is:\n",
    "\n",
    "$$% <![CDATA[\n",
    "\\left( \n",
    "\\begin{array}{cc} \n",
    "-\\frac{gc}{pkK} & -kx \\\\\n",
    "pk & 0\n",
    "\\end{array}\n",
    "\\right) %]]>$$\n",
    "\n",
    "The eigenvalues are λ=−0.0031±41.0182i\n",
    "\n",
    ". Once again, the behavior seen in the numerical approximation is confirmed by math. The system oscillates and tends inward.\n",
    "\n",
    " The numerical approximations, while very good in Python, can misrepresent the system of equations, given certain parameters. **Specifically, the system is solved through an iterative process of calculating the linear change at each interval, approximating the continuous system.** Choosing certain step sizes and tolerances will send Python or Matlab into a tailspin. Although, the checks and balances within odeint are really quite good, such that it’s way easier to break the numerical approximation if you try to write it explicitly in a for-loop."
   ]
  },
  {
   "cell_type": "markdown",
   "metadata": {
    "collapsed": true
   },
   "source": [
    "The origin is a sink\n",
    "\n",
    "http://ww2.math.buffalo.edu/306/py/306ch5.2_sinks.html\n",
    "\n",
    "![](http://ww2.math.buffalo.edu/306/py/306ch5.2A2.png)\n",
    "\n",
    "The origin is a source    \n",
    "http://ww2.math.buffalo.edu/306/py/306ch5.2_sources.html    \n",
    "\n",
    "![](http://ww2.math.buffalo.edu/306/py/306ch5.2B2.png)\n",
    "\n",
    "The origin is a saddle\n",
    "\n",
    "http://ww2.math.buffalo.edu/306/py/306ch5.2_saddles.html\n",
    "\n",
    "![](http://ww2.math.buffalo.edu/306/py/306ch5.2C2.png)\n",
    "\n",
    "\n",
    "The origin is a center\n",
    "\n",
    "\n",
    "http://ww2.math.buffalo.edu/306/py/306ch5.2_centers.html\n",
    "\n",
    "![](http://ww2.math.buffalo.edu/306/py/306ch5.2N2.png)\n"
   ]
  },
  {
   "cell_type": "code",
   "execution_count": null,
   "metadata": {
    "collapsed": true
   },
   "outputs": [],
   "source": [
    "import matplotlib.pyplot as plt\n",
    "from numpy import *\n",
    "from time import sleep,time\n",
    "from fieldplot2 import fieldplot\n",
    "%matplotlib inline "
   ]
  },
  {
   "cell_type": "code",
   "execution_count": null,
   "metadata": {},
   "outputs": [],
   "source": [
    "# 2016 final q2 The Dornbusch model of exchange rate overshooting\n",
    "\n",
    "def f(x,y): return  3/4*y -6/4\n",
    "def g(x,y): return  x-y+6/10\n",
    "\n",
    "def F(x):\t# predator prey\n",
    "\treturn array([f(x[0],x[1]),g(x[0],x[1])])\n",
    "\n",
    "h = 0.05 #0.1\n",
    "'''\n",
    "xmin = -1.5\n",
    "xmax =  1.5\n",
    "ymin = -1.5\n",
    "ymax =  1.5\n",
    "'''\n",
    "xmin =  0.0\n",
    "xmax =  4. # 15.0\n",
    "ymin =  0.0\n",
    "ymax =  4. # 15.0\n",
    "\n",
    "plt.figure(figsize=(16,12),facecolor='w')\n",
    "\n",
    "plt.subplot(2,2,1)\n",
    "fieldplot(f,g,xmin,xmax,ymin,ymax,arrowscale=2.5,arrowheadscale=2.)\n",
    "\n",
    "xx = np.linspace(xmin, xmax)\n",
    "pp = 6/10+xx\n",
    "plt.plot(xx,pp, linewidth=2, linestyle = '-',color = 'b', label = \"$\\dot p = 0$\")\n",
    "plt.axhline(y=2, linewidth=2, linestyle = '--',color = 'r', label = \"$\\dot x = 0$\")\n",
    "\n",
    "plt.xlabel('x')\n",
    "plt.ylabel('p')\n",
    "plt.legend()"
   ]
  },
  {
   "cell_type": "code",
   "execution_count": null,
   "metadata": {},
   "outputs": [],
   "source": [
    "# 2010 final q10 Ramsey model: In a model of economic growth, capital K(t) and consumption C(t) satisfy the pair of differential equations\n",
    "a,b,w=1,1,2\n",
    "\n",
    "\n",
    "def f(x,y): return  a*x-b*x**2-y\n",
    "def g(x,y): return  w*y*(a-2*b*x)\n",
    "\n",
    "def F(x):\t# predator prey\n",
    "\treturn array([f(x[0],x[1]),g(x[0],x[1])])\n",
    "\n",
    "h = 0.05 #0.1\n",
    "'''\n",
    "xmin = -1.5\n",
    "xmax =  1.5\n",
    "ymin = -1.5\n",
    "ymax =  1.5\n",
    "'''\n",
    "xmin =  0.0\n",
    "xmax =  1. # 15.0\n",
    "ymin =  0.0\n",
    "ymax =  0.5 # 15.0\n",
    "\n",
    "plt.figure(figsize=(16,12),facecolor='w')\n",
    "\n",
    "plt.subplot(2,2,1)\n",
    "fieldplot(f,g,xmin,xmax,ymin,ymax,arrowscale=0.5,arrowheadscale=0.5)\n",
    "\n",
    "kk = np.linspace(xmin, xmax)\n",
    "cc = a*kk-b*kk**2\n",
    "plt.plot(kk,cc, linewidth=2, linestyle = '-',color = 'b', label = \"$\\dot k = 0$\")\n",
    "plt.axvline(x=a/(2*b), linewidth=2, linestyle = '--',color = 'r', label = \"$\\dot c = 0$\")\n",
    "\n",
    "plt.xlabel('x')\n",
    "plt.ylabel('p')\n",
    "plt.legend()"
   ]
  },
  {
   "cell_type": "code",
   "execution_count": null,
   "metadata": {},
   "outputs": [],
   "source": [
    "\n",
    "\n",
    "def f(x,y): return  y\n",
    "def g(x,y): return -x\n",
    "\n",
    "fieldplot(f,g,-1,2,-1,1)\n",
    "\n",
    "#fieldplot(f,g,xmin,xmax,ymin,ymax,arrowscale=2.5,arrowheadscale=2.)"
   ]
  },
  {
   "cell_type": "code",
   "execution_count": null,
   "metadata": {},
   "outputs": [],
   "source": [
    "\n",
    "#def F(x):\n",
    "#\treturn array([-x[1],x[0]])\n",
    "#a = 1.0; b = 0.2\n",
    "#c = 0.3; d = 0.1\n",
    "\n",
    "def f(x,y): return  2.0*x*(1.0-0.0*x) -1.2*x*y\n",
    "def g(x,y): return  (-1.0+0.9*x)*y\n",
    "\n",
    "def F(x):\t# predator prey\n",
    "\treturn array([f(x[0],x[1]),g(x[0],x[1])])\n",
    "\n",
    "h = 0.05 #0.1\n",
    "'''\n",
    "xmin = -1.5\n",
    "xmax =  1.5\n",
    "ymin = -1.5\n",
    "ymax =  1.5\n",
    "'''\n",
    "xmin =  0.0\n",
    "xmax =  4. # 15.0\n",
    "ymin =  0.0\n",
    "ymax =  4. # 15.0\n",
    "\n",
    "plt.figure(figsize=(12,12),facecolor='w')\n",
    "\n",
    "plt.subplot(2,2,1)\n",
    "fieldplot(f,g,xmin,xmax,ymin,ymax,arrowscale=2.5,arrowheadscale=2.)\n",
    "plt.xlabel('rabbits')\n",
    "plt.ylabel('foxes')"
   ]
  },
  {
   "cell_type": "code",
   "execution_count": null,
   "metadata": {},
   "outputs": [],
   "source": [
    "def f(x,y): return  y\n",
    "def g(x,y): return -x\n",
    "xmin,xmax,ymin,ymax =-1,2,-1,1\n",
    "fieldplot(f,g,xmin,xmax,ymin,ymax)"
   ]
  },
  {
   "cell_type": "code",
   "execution_count": null,
   "metadata": {
    "collapsed": true
   },
   "outputs": [],
   "source": []
  },
  {
   "cell_type": "code",
   "execution_count": null,
   "metadata": {},
   "outputs": [],
   "source": [
    "from IPython.display import YouTubeVideo\n",
    "# a talk about Differential Equations and Linear Algebra, 3.2: Phase Plane Pictures: Source, Sink Saddle\n",
    "# Video credit: Gilbert Strang, Massachusetts Institute of Technology (MIT)\n",
    "YouTubeVideo('VqXKa11IA6A')"
   ]
  },
  {
   "cell_type": "code",
   "execution_count": null,
   "metadata": {},
   "outputs": [],
   "source": [
    "# a talk about Differential Equations and Linear Algebra, 3.2: Phase Plane Pictures: Spirals and Centers \n",
    "# Video credit: Gilbert Strang, Massachusetts Institute of Technology (MIT)\n",
    "YouTubeVideo('n9H-6TQIEJc')"
   ]
  },
  {
   "cell_type": "code",
   "execution_count": null,
   "metadata": {
    "collapsed": true
   },
   "outputs": [],
   "source": []
  },
  {
   "cell_type": "code",
   "execution_count": null,
   "metadata": {
    "collapsed": true
   },
   "outputs": [],
   "source": [
    "from numpy import linalg\n",
    "values, vectors = linalg.eig(J_equil)\n",
    "print values"
   ]
  },
  {
   "cell_type": "code",
   "execution_count": null,
   "metadata": {},
   "outputs": [],
   "source": [
    "from IPython.core.display import HTML, Image\n",
    "css_file = '../../../../custom.css'\n",
    "HTML(open(css_file, 'r').read())"
   ]
  },
  {
   "cell_type": "markdown",
   "metadata": {
    "collapsed": true
   },
   "source": []
  },
  {
   "cell_type": "code",
   "execution_count": null,
   "metadata": {
    "collapsed": true
   },
   "outputs": [],
   "source": []
  }
 ],
 "metadata": {
  "anaconda-cloud": {},
  "kernelspec": {
   "display_name": "Python 3",
   "language": "python",
   "name": "python3"
  },
  "language_info": {
   "codemirror_mode": {
    "name": "ipython",
    "version": 3
   },
   "file_extension": ".py",
   "mimetype": "text/x-python",
   "name": "python",
   "nbconvert_exporter": "python",
   "pygments_lexer": "ipython3",
   "version": "3.6.2"
  }
 },
 "nbformat": 4,
 "nbformat_minor": 1
}
