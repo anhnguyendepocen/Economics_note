{
 "cells": [
  {
   "cell_type": "markdown",
   "metadata": {},
   "source": [
    "## Symbolic solution of ODEs with sympy\n"
   ]
  },
  {
   "cell_type": "code",
   "execution_count": 27,
   "metadata": {
    "ExecuteTime": {
     "end_time": "2018-02-17T02:19:45.708343Z",
     "start_time": "2018-02-17T02:19:44.795916Z"
    }
   },
   "outputs": [
    {
     "name": "stdout",
     "output_type": "stream",
     "text": [
      "Using matplotlib backend: nbAgg\n"
     ]
    }
   ],
   "source": [
    "import sympy as sym\n",
    "import sympy\n",
    "sym.init_printing() # for LaTeX formatted output\n",
    "\n",
    "import matplotlib.pyplot as plt\n",
    "import numpy as np\n",
    "import warnings\n",
    "warnings.filterwarnings('ignore')\n",
    "plt.style.use(\"fivethirtyeight\")\n",
    "%config InlineBackend.figure_format='retina'\n",
    "\n",
    "import scipy as sp\n",
    "import matplotlib as mpl       \n",
    "\n",
    "# %matplotlib notebook\n",
    "%matplotlib\n",
    "\n",
    "\n",
    "mpl.style.use('classic')\n",
    "        \n",
    "\n",
    "plt.rc('figure', figsize = (6, 4.5))            # Reduces overall size of figures\n",
    "plt.rc('axes', labelsize=16, titlesize=14)\n",
    "plt.rc('figure', autolayout = True)             # Adjusts supblot parameters for new size\n",
    "\n",
    "from helpFunction import *"
   ]
  },
  {
   "cell_type": "code",
   "execution_count": null,
   "metadata": {},
   "outputs": [],
   "source": []
  },
  {
   "cell_type": "markdown",
   "metadata": {},
   "source": [
    "# Difference Equation\n",
    "\n",
    "## Motivation"
   ]
  },
  {
   "cell_type": "markdown",
   "metadata": {},
   "source": [
    "### Saving\n",
    "\n",
    "Solve  $${ y }_{ 0 },\\quad { y }_{ 1 }=b y_0,\\quad { y }_{ n }=b{ y }_{ n-1 }$$ "
   ]
  },
  {
   "cell_type": "code",
   "execution_count": 8,
   "metadata": {
    "ExecuteTime": {
     "end_time": "2018-02-17T02:19:45.713858Z",
     "start_time": "2018-02-17T02:19:45.709847Z"
    }
   },
   "outputs": [],
   "source": [
    "x,t,a, b,c,d, n, C0, y0, ybar = sym.symbols(\"x t a b c d n C0 y0 ybar\")\n",
    "y = sym.Function(\"y\")"
   ]
  },
  {
   "cell_type": "markdown",
   "metadata": {},
   "source": [
    "### A first order homogeneous difference equation"
   ]
  },
  {
   "cell_type": "code",
   "execution_count": 9,
   "metadata": {
    "ExecuteTime": {
     "end_time": "2018-02-17T02:19:46.372109Z",
     "start_time": "2018-02-17T02:19:45.715362Z"
    }
   },
   "outputs": [
    {
     "data": {
      "image/png": "[encoded data removed]",
      "text/latex": [
       "$$y{\\left (n \\right )} = a y{\\left (n - 1 \\right )}$$"
      ],
      "text/plain": [
       "y(n) = a⋅y(n - 1)"
      ]
     },
     "execution_count": 9,
     "metadata": {},
     "output_type": "execute_result"
    }
   ],
   "source": [
    "ode=sym.Eq(y(n), a*y(n-1))\n",
    "ode"
   ]
  },
  {
   "cell_type": "code",
   "execution_count": 10,
   "metadata": {
    "ExecuteTime": {
     "end_time": "2018-02-17T02:19:46.883469Z",
     "start_time": "2018-02-17T02:19:46.373612Z"
    }
   },
   "outputs": [
    {
     "data": {
      "image/png": "[encoded data removed]",
      "text/latex": [
       "$$C_{0} a^{n}$$"
      ],
      "text/plain": [
       "    n\n",
       "C₀⋅a "
      ]
     },
     "execution_count": 10,
     "metadata": {},
     "output_type": "execute_result"
    }
   ],
   "source": [
    "sym.rsolve(ode,y(n))"
   ]
  },
  {
   "cell_type": "markdown",
   "metadata": {},
   "source": [
    "This function is usually referred to as the **complementary function/solution** of the general first-order difference equation, when we consider the modified first-order difference equation in which we simply ignore the right-hand-side term d.\n"
   ]
  },
  {
   "cell_type": "markdown",
   "metadata": {},
   "source": [
    "### general first-order difference equation"
   ]
  },
  {
   "cell_type": "code",
   "execution_count": 11,
   "metadata": {
    "ExecuteTime": {
     "end_time": "2018-02-17T02:19:47.456994Z",
     "start_time": "2018-02-17T02:19:46.884973Z"
    }
   },
   "outputs": [
    {
     "data": {
      "image/png": "[encoded data removed]",
      "text/latex": [
       "$$c y{\\left (n \\right )} + y{\\left (n + 1 \\right )} = d$$"
      ],
      "text/plain": [
       "c⋅y(n) + y(n + 1) = d"
      ]
     },
     "execution_count": 11,
     "metadata": {},
     "output_type": "execute_result"
    }
   ],
   "source": [
    "ode=sym.Eq(y(n+1) + c*y(n), d)\n",
    "ode"
   ]
  },
  {
   "cell_type": "code",
   "execution_count": 12,
   "metadata": {
    "ExecuteTime": {
     "end_time": "2018-02-17T02:19:47.962338Z",
     "start_time": "2018-02-17T02:19:47.458498Z"
    }
   },
   "outputs": [
    {
     "data": {
      "image/png": "[encoded data removed]",
      "text/latex": [
       "$$C_{0} \\left(- c\\right)^{n} + \\frac{d}{c + 1}$$"
      ],
      "text/plain": [
       "       n     d  \n",
       "C₀⋅(-c)  + ─────\n",
       "           c + 1"
      ]
     },
     "execution_count": 12,
     "metadata": {},
     "output_type": "execute_result"
    }
   ],
   "source": [
    "ode_sol=sym.rsolve(ode,y(n))\n",
    "ode_sol"
   ]
  },
  {
   "cell_type": "markdown",
   "metadata": {},
   "source": [
    "It is called **general solution** as it is independent of a starting/initial value"
   ]
  },
  {
   "cell_type": "code",
   "execution_count": 13,
   "metadata": {
    "ExecuteTime": {
     "end_time": "2018-02-17T02:19:48.467708Z",
     "start_time": "2018-02-17T02:19:47.963842Z"
    }
   },
   "outputs": [
    {
     "data": {
      "image/png": "[encoded data removed]",
      "text/latex": [
       "$$\\left \\{ y{\\left (0 \\right )} : y_{0}\\right \\}$$"
      ],
      "text/plain": [
       "{y(0): y₀}"
      ]
     },
     "execution_count": 13,
     "metadata": {},
     "output_type": "execute_result"
    }
   ],
   "source": [
    "ics = {y(0): y0}\n",
    "ics #initial condition"
   ]
  },
  {
   "cell_type": "code",
   "execution_count": 14,
   "metadata": {
    "ExecuteTime": {
     "end_time": "2018-02-17T02:19:48.896848Z",
     "start_time": "2018-02-17T02:19:48.468710Z"
    }
   },
   "outputs": [
    {
     "data": {
      "image/png": "[encoded data removed]",
      "text/latex": [
       "$$y_{0} = C_{0} + \\frac{d}{c + 1}$$"
      ],
      "text/plain": [
       "            d  \n",
       "y₀ = C₀ + ─────\n",
       "          c + 1"
      ]
     },
     "execution_count": 14,
     "metadata": {},
     "output_type": "execute_result"
    }
   ],
   "source": [
    "C_eq = sym.Eq(y(n).subs(n, 0).subs(ics), ode_sol.subs(n, 0))\n",
    "C_eq"
   ]
  },
  {
   "cell_type": "code",
   "execution_count": 15,
   "metadata": {
    "ExecuteTime": {
     "end_time": "2018-02-17T02:19:49.385147Z",
     "start_time": "2018-02-17T02:19:48.898352Z"
    }
   },
   "outputs": [
    {
     "data": {
      "image/png": "[encoded data removed]",
      "text/latex": [
       "$$\\left [ \\left \\{ C_{0} : \\frac{c y_{0} - d + y_{0}}{c + 1}\\right \\}\\right ]$$"
      ],
      "text/plain": [
       "⎡⎧    c⋅y₀ - d + y₀⎫⎤\n",
       "⎢⎨C₀: ─────────────⎬⎥\n",
       "⎣⎩        c + 1    ⎭⎦"
      ]
     },
     "execution_count": 15,
     "metadata": {},
     "output_type": "execute_result"
    }
   ],
   "source": [
    "C_sol = sym.solve(C_eq)\n",
    "C_sol"
   ]
  },
  {
   "cell_type": "code",
   "execution_count": 16,
   "metadata": {
    "ExecuteTime": {
     "end_time": "2018-02-17T02:19:49.830331Z",
     "start_time": "2018-02-17T02:19:49.386150Z"
    }
   },
   "outputs": [
    {
     "data": {
      "image/png": "[encoded data removed]",
      "text/latex": [
       "$$\\frac{d}{c + 1} + \\frac{\\left(- c\\right)^{n}}{c + 1} \\left(c y_{0} - d + y_{0}\\right)$$"
      ],
      "text/plain": [
       "            n                \n",
       "  d     (-c) ⋅(c⋅y₀ - d + y₀)\n",
       "───── + ─────────────────────\n",
       "c + 1           c + 1        "
      ]
     },
     "execution_count": 16,
     "metadata": {},
     "output_type": "execute_result"
    }
   ],
   "source": [
    "ode_sol.subs(C_sol[0])"
   ]
  },
  {
   "cell_type": "markdown",
   "metadata": {},
   "source": [
    "This expression is called the **definite solution** to the general first-order difference equation"
   ]
  },
  {
   "cell_type": "markdown",
   "metadata": {},
   "source": [
    "### First Order Nonlinear Difference Equation"
   ]
  },
  {
   "cell_type": "code",
   "execution_count": 17,
   "metadata": {
    "ExecuteTime": {
     "end_time": "2018-02-17T02:19:50.256213Z",
     "start_time": "2018-02-17T02:19:49.831836Z"
    }
   },
   "outputs": [
    {
     "data": {
      "image/png": "[encoded data removed]",
      "text/latex": [
       "$$y{\\left (n \\right )} = 1 + \\frac{0.75}{y{\\left (n - 1 \\right )}}$$"
      ],
      "text/plain": [
       "             0.75  \n",
       "y(n) = 1 + ────────\n",
       "           y(n - 1)"
      ]
     },
     "execution_count": 17,
     "metadata": {},
     "output_type": "execute_result"
    }
   ],
   "source": [
    "ode=sym.Eq(y(n), 1+3/4*y(n-1)**(-1))\n",
    "ode"
   ]
  },
  {
   "cell_type": "markdown",
   "metadata": {},
   "source": [
    "### Steady States"
   ]
  },
  {
   "cell_type": "code",
   "execution_count": 18,
   "metadata": {
    "ExecuteTime": {
     "end_time": "2018-02-17T02:19:50.779662Z",
     "start_time": "2018-02-17T02:19:50.257729Z"
    }
   },
   "outputs": [
    {
     "data": {
      "image/png": "[encoded data removed]",
      "text/latex": [
       "$$\\bar{y} = 1 + \\frac{0.75}{\\bar{y}}$$"
      ],
      "text/plain": [
       "         0.75\n",
       "y̅ = 1 + ────\n",
       "          y̅ "
      ]
     },
     "execution_count": 18,
     "metadata": {},
     "output_type": "execute_result"
    }
   ],
   "source": [
    "ss=sym.Eq(ybar, 1+3/4*ybar**(-1))\n",
    "ss"
   ]
  },
  {
   "cell_type": "code",
   "execution_count": 19,
   "metadata": {
    "ExecuteTime": {
     "end_time": "2018-02-17T02:19:51.215822Z",
     "start_time": "2018-02-17T02:19:50.780664Z"
    }
   },
   "outputs": [
    {
     "data": {
      "image/png": "[encoded data removed]",
      "text/latex": [
       "$$\\left [ -0.5, \\quad 1.5\\right ]$$"
      ],
      "text/plain": [
       "[-0.5, 1.5]"
      ]
     },
     "execution_count": 19,
     "metadata": {},
     "output_type": "execute_result"
    }
   ],
   "source": [
    "sym.solve(ss)"
   ]
  },
  {
   "cell_type": "code",
   "execution_count": 20,
   "metadata": {
    "ExecuteTime": {
     "end_time": "2018-02-17T02:19:51.597396Z",
     "start_time": "2018-02-17T02:19:51.216825Z"
    }
   },
   "outputs": [
    {
     "data": {
      "image/png": "[encoded data removed]",
      "text/latex": [
       "$$- \\frac{0.75}{y^{2}{\\left (n - 1 \\right )}}$$"
      ],
      "text/plain": [
       "  -0.75  \n",
       "─────────\n",
       " 2       \n",
       "y (n - 1)"
      ]
     },
     "execution_count": 20,
     "metadata": {},
     "output_type": "execute_result"
    }
   ],
   "source": [
    "ode.rhs.diff(y(n-1))"
   ]
  },
  {
   "cell_type": "code",
   "execution_count": 21,
   "metadata": {
    "ExecuteTime": {
     "end_time": "2018-02-17T02:19:52.085228Z",
     "start_time": "2018-02-17T02:19:51.598901Z"
    }
   },
   "outputs": [
    {
     "data": {
      "image/png": "[encoded data removed]",
      "text/latex": [
       "$$-0.333333333333333$$"
      ],
      "text/plain": [
       "-0.333333333333333"
      ]
     },
     "execution_count": 21,
     "metadata": {},
     "output_type": "execute_result"
    }
   ],
   "source": [
    "ode.rhs.diff(y(n-1)).subs(y(n-1),1.5)"
   ]
  },
  {
   "cell_type": "markdown",
   "metadata": {},
   "source": [
    "#### Dynamics and Steady State"
   ]
  },
  {
   "cell_type": "code",
   "execution_count": 28,
   "metadata": {
    "ExecuteTime": {
     "end_time": "2018-02-17T02:19:52.689836Z",
     "start_time": "2018-02-17T02:19:52.086230Z"
    }
   },
   "outputs": [
    {
     "data": {
      "application/javascript": [
       "/* Put everything inside the global mpl namespace */\n",
       "window.mpl = {};\n",
       "\n",
       "\n",
       "mpl.get_websocket_type = function() {\n",
       "    if (typeof(WebSocket) !== 'undefined') {\n",
       "        return WebSocket;\n",
       "    } else if (typeof(MozWebSocket) !== 'undefined') {\n",
       "        return MozWebSocket;\n",
       "    } else {\n",
       "        alert('Your browser does not have WebSocket support.' +\n",
       "              'Please try Chrome, Safari or Firefox ≥ 6. ' +\n",
       "              'Firefox 4 and 5 are also supported but you ' +\n",
       "              'have to enable WebSockets in about:config.');\n",
       "    };\n",
       "}\n",
       "\n",
       "mpl.figure = function(figure_id, websocket, ondownload, parent_element) {\n",
       "    this.id = figure_id;\n",
       "\n",
       "    this.ws = websocket;\n",
       "\n",
       "    this.supports_binary = (this.ws.binaryType != undefined);\n",
       "\n",
       "    if (!this.supports_binary) {\n",
       "        var warnings = document.getElementById(\"mpl-warnings\");\n",
       "        if (warnings) {\n",
       "            warnings.style.display = 'block';\n",
       "            warnings.textContent = (\n",
       "                \"This browser does not support binary websocket messages. \" +\n",
       "                    \"Performance may be slow.\");\n",
       "        }\n",
       "    }\n",
       "\n",
       "    this.imageObj = new Image();\n",
       "\n",
       "    this.context = undefined;\n",
       "    this.message = undefined;\n",
       "    this.canvas = undefined;\n",
       "    this.rubberband_canvas = undefined;\n",
       "    this.rubberband_context = undefined;\n",
       "    this.format_dropdown = undefined;\n",
       "\n",
       "    this.image_mode = 'full';\n",
       "\n",
       "    this.root = $('<div/>');\n",
       "    this._root_extra_style(this.root)\n",
       "    this.root.attr('style', 'display: inline-block');\n",
       "\n",
       "    $(parent_element).append(this.root);\n",
       "\n",
       "    this._init_header(this);\n",
       "    this._init_canvas(this);\n",
       "    this._init_toolbar(this);\n",
       "\n",
       "    var fig = this;\n",
       "\n",
       "    this.waiting = false;\n",
       "\n",
       "    this.ws.onopen =  function () {\n",
       "            fig.send_message(\"supports_binary\", {value: fig.supports_binary});\n",
       "            fig.send_message(\"send_image_mode\", {});\n",
       "            if (mpl.ratio != 1) {\n",
       "                fig.send_message(\"set_dpi_ratio\", {'dpi_ratio': mpl.ratio});\n",
       "            }\n",
       "            fig.send_message(\"refresh\", {});\n",
       "        }\n",
       "\n",
       "    this.imageObj.onload = function() {\n",
       "            if (fig.image_mode == 'full') {\n",
       "                // Full images could contain transparency (where diff images\n",
       "                // almost always do), so we need to clear the canvas so that\n",
       "                // there is no ghosting.\n",
       "                fig.context.clearRect(0, 0, fig.canvas.width, fig.canvas.height);\n",
       "            }\n",
       "            fig.context.drawImage(fig.imageObj, 0, 0);\n",
       "        };\n",
       "\n",
       "    this.imageObj.onunload = function() {\n",
       "        fig.ws.close();\n",
       "    }\n",
       "\n",
       "    this.ws.onmessage = this._make_on_message_function(this);\n",
       "\n",
       "    this.ondownload = ondownload;\n",
       "}\n",
       "\n",
       "mpl.figure.prototype._init_header = function() {\n",
       "    var titlebar = $(\n",
       "        '<div class=\"ui-dialog-titlebar ui-widget-header ui-corner-all ' +\n",
       "        'ui-helper-clearfix\"/>');\n",
       "    var titletext = $(\n",
       "        '<div class=\"ui-dialog-title\" style=\"width: 100%; ' +\n",
       "        'text-align: center; padding: 3px;\"/>');\n",
       "    titlebar.append(titletext)\n",
       "    this.root.append(titlebar);\n",
       "    this.header = titletext[0];\n",
       "}\n",
       "\n",
       "\n",
       "\n",
       "mpl.figure.prototype._canvas_extra_style = function(canvas_div) {\n",
       "\n",
       "}\n",
       "\n",
       "\n",
       "mpl.figure.prototype._root_extra_style = function(canvas_div) {\n",
       "\n",
       "}\n",
       "\n",
       "mpl.figure.prototype._init_canvas = function() {\n",
       "    var fig = this;\n",
       "\n",
       "    var canvas_div = $('<div/>');\n",
       "\n",
       "    canvas_div.attr('style', 'position: relative; clear: both; outline: 0');\n",
       "\n",
       "    function canvas_keyboard_event(event) {\n",
       "        return fig.key_event(event, event['data']);\n",
       "    }\n",
       "\n",
       "    canvas_div.keydown('key_press', canvas_keyboard_event);\n",
       "    canvas_div.keyup('key_release', canvas_keyboard_event);\n",
       "    this.canvas_div = canvas_div\n",
       "    this._canvas_extra_style(canvas_div)\n",
       "    this.root.append(canvas_div);\n",
       "\n",
       "    var canvas = $('<canvas/>');\n",
       "    canvas.addClass('mpl-canvas');\n",
       "    canvas.attr('style', \"left: 0; top: 0; z-index: 0; outline: 0\")\n",
       "\n",
       "    this.canvas = canvas[0];\n",
       "    this.context = canvas[0].getContext(\"2d\");\n",
       "\n",
       "    var backingStore = this.context.backingStorePixelRatio ||\n",
       "\tthis.context.webkitBackingStorePixelRatio ||\n",
       "\tthis.context.mozBackingStorePixelRatio ||\n",
       "\tthis.context.msBackingStorePixelRatio ||\n",
       "\tthis.context.oBackingStorePixelRatio ||\n",
       "\tthis.context.backingStorePixelRatio || 1;\n",
       "\n",
       "    mpl.ratio = (window.devicePixelRatio || 1) / backingStore;\n",
       "\n",
       "    var rubberband = $('<canvas/>');\n",
       "    rubberband.attr('style', \"position: absolute; left: 0; top: 0; z-index: 1;\")\n",
       "\n",
       "    var pass_mouse_events = true;\n",
       "\n",
       "    canvas_div.resizable({\n",
       "        start: function(event, ui) {\n",
       "            pass_mouse_events = false;\n",
       "        },\n",
       "        resize: function(event, ui) {\n",
       "            fig.request_resize(ui.size.width, ui.size.height);\n",
       "        },\n",
       "        stop: function(event, ui) {\n",
       "            pass_mouse_events = true;\n",
       "            fig.request_resize(ui.size.width, ui.size.height);\n",
       "        },\n",
       "    });\n",
       "\n",
       "    function mouse_event_fn(event) {\n",
       "        if (pass_mouse_events)\n",
       "            return fig.mouse_event(event, event['data']);\n",
       "    }\n",
       "\n",
       "    rubberband.mousedown('button_press', mouse_event_fn);\n",
       "    rubberband.mouseup('button_release', mouse_event_fn);\n",
       "    // Throttle sequential mouse events to 1 every 20ms.\n",
       "    rubberband.mousemove('motion_notify', mouse_event_fn);\n",
       "\n",
       "    rubberband.mouseenter('figure_enter', mouse_event_fn);\n",
       "    rubberband.mouseleave('figure_leave', mouse_event_fn);\n",
       "\n",
       "    canvas_div.on(\"wheel\", function (event) {\n",
       "        event = event.originalEvent;\n",
       "        event['data'] = 'scroll'\n",
       "        if (event.deltaY < 0) {\n",
       "            event.step = 1;\n",
       "        } else {\n",
       "            event.step = -1;\n",
       "        }\n",
       "        mouse_event_fn(event);\n",
       "    });\n",
       "\n",
       "    canvas_div.append(canvas);\n",
       "    canvas_div.append(rubberband);\n",
       "\n",
       "    this.rubberband = rubberband;\n",
       "    this.rubberband_canvas = rubberband[0];\n",
       "    this.rubberband_context = rubberband[0].getContext(\"2d\");\n",
       "    this.rubberband_context.strokeStyle = \"#000000\";\n",
       "\n",
       "    this._resize_canvas = function(width, height) {\n",
       "        // Keep the size of the canvas, canvas container, and rubber band\n",
       "        // canvas in synch.\n",
       "        canvas_div.css('width', width)\n",
       "        canvas_div.css('height', height)\n",
       "\n",
       "        canvas.attr('width', width * mpl.ratio);\n",
       "        canvas.attr('height', height * mpl.ratio);\n",
       "        canvas.attr('style', 'width: ' + width + 'px; height: ' + height + 'px;');\n",
       "\n",
       "        rubberband.attr('width', width);\n",
       "        rubberband.attr('height', height);\n",
       "    }\n",
       "\n",
       "    // Set the figure to an initial 600x600px, this will subsequently be updated\n",
       "    // upon first draw.\n",
       "    this._resize_canvas(600, 600);\n",
       "\n",
       "    // Disable right mouse context menu.\n",
       "    $(this.rubberband_canvas).bind(\"contextmenu\",function(e){\n",
       "        return false;\n",
       "    });\n",
       "\n",
       "    function set_focus () {\n",
       "        canvas.focus();\n",
       "        canvas_div.focus();\n",
       "    }\n",
       "\n",
       "    window.setTimeout(set_focus, 100);\n",
       "}\n",
       "\n",
       "mpl.figure.prototype._init_toolbar = function() {\n",
       "    var fig = this;\n",
       "\n",
       "    var nav_element = $('<div/>')\n",
       "    nav_element.attr('style', 'width: 100%');\n",
       "    this.root.append(nav_element);\n",
       "\n",
       "    // Define a callback function for later on.\n",
       "    function toolbar_event(event) {\n",
       "        return fig.toolbar_button_onclick(event['data']);\n",
       "    }\n",
       "    function toolbar_mouse_event(event) {\n",
       "        return fig.toolbar_button_onmouseover(event['data']);\n",
       "    }\n",
       "\n",
       "    for(var toolbar_ind in mpl.toolbar_items) {\n",
       "        var name = mpl.toolbar_items[toolbar_ind][0];\n",
       "        var tooltip = mpl.toolbar_items[toolbar_ind][1];\n",
       "        var image = mpl.toolbar_items[toolbar_ind][2];\n",
       "        var method_name = mpl.toolbar_items[toolbar_ind][3];\n",
       "\n",
       "        if (!name) {\n",
       "            // put a spacer in here.\n",
       "            continue;\n",
       "        }\n",
       "        var button = $('<button/>');\n",
       "        button.addClass('ui-button ui-widget ui-state-default ui-corner-all ' +\n",
       "                        'ui-button-icon-only');\n",
       "        button.attr('role', 'button');\n",
       "        button.attr('aria-disabled', 'false');\n",
       "        button.click(method_name, toolbar_event);\n",
       "        button.mouseover(tooltip, toolbar_mouse_event);\n",
       "\n",
       "        var icon_img = $('<span/>');\n",
       "        icon_img.addClass('ui-button-icon-primary ui-icon');\n",
       "        icon_img.addClass(image);\n",
       "        icon_img.addClass('ui-corner-all');\n",
       "\n",
       "        var tooltip_span = $('<span/>');\n",
       "        tooltip_span.addClass('ui-button-text');\n",
       "        tooltip_span.html(tooltip);\n",
       "\n",
       "        button.append(icon_img);\n",
       "        button.append(tooltip_span);\n",
       "\n",
       "        nav_element.append(button);\n",
       "    }\n",
       "\n",
       "    var fmt_picker_span = $('<span/>');\n",
       "\n",
       "    var fmt_picker = $('<select/>');\n",
       "    fmt_picker.addClass('mpl-toolbar-option ui-widget ui-widget-content');\n",
       "    fmt_picker_span.append(fmt_picker);\n",
       "    nav_element.append(fmt_picker_span);\n",
       "    this.format_dropdown = fmt_picker[0];\n",
       "\n",
       "    for (var ind in mpl.extensions) {\n",
       "        var fmt = mpl.extensions[ind];\n",
       "        var option = $(\n",
       "            '<option/>', {selected: fmt === mpl.default_extension}).html(fmt);\n",
       "        fmt_picker.append(option)\n",
       "    }\n",
       "\n",
       "    // Add hover states to the ui-buttons\n",
       "    $( \".ui-button\" ).hover(\n",
       "        function() { $(this).addClass(\"ui-state-hover\");},\n",
       "        function() { $(this).removeClass(\"ui-state-hover\");}\n",
       "    );\n",
       "\n",
       "    var status_bar = $('<span class=\"mpl-message\"/>');\n",
       "    nav_element.append(status_bar);\n",
       "    this.message = status_bar[0];\n",
       "}\n",
       "\n",
       "mpl.figure.prototype.request_resize = function(x_pixels, y_pixels) {\n",
       "    // Request matplotlib to resize the figure. Matplotlib will then trigger a resize in the client,\n",
       "    // which will in turn request a refresh of the image.\n",
       "    this.send_message('resize', {'width': x_pixels, 'height': y_pixels});\n",
       "}\n",
       "\n",
       "mpl.figure.prototype.send_message = function(type, properties) {\n",
       "    properties['type'] = type;\n",
       "    properties['figure_id'] = this.id;\n",
       "    this.ws.send(JSON.stringify(properties));\n",
       "}\n",
       "\n",
       "mpl.figure.prototype.send_draw_message = function() {\n",
       "    if (!this.waiting) {\n",
       "        this.waiting = true;\n",
       "        this.ws.send(JSON.stringify({type: \"draw\", figure_id: this.id}));\n",
       "    }\n",
       "}\n",
       "\n",
       "\n",
       "mpl.figure.prototype.handle_save = function(fig, msg) {\n",
       "    var format_dropdown = fig.format_dropdown;\n",
       "    var format = format_dropdown.options[format_dropdown.selectedIndex].value;\n",
       "    fig.ondownload(fig, format);\n",
       "}\n",
       "\n",
       "\n",
       "mpl.figure.prototype.handle_resize = function(fig, msg) {\n",
       "    var size = msg['size'];\n",
       "    if (size[0] != fig.canvas.width || size[1] != fig.canvas.height) {\n",
       "        fig._resize_canvas(size[0], size[1]);\n",
       "        fig.send_message(\"refresh\", {});\n",
       "    };\n",
       "}\n",
       "\n",
       "mpl.figure.prototype.handle_rubberband = function(fig, msg) {\n",
       "    var x0 = msg['x0'] / mpl.ratio;\n",
       "    var y0 = (fig.canvas.height - msg['y0']) / mpl.ratio;\n",
       "    var x1 = msg['x1'] / mpl.ratio;\n",
       "    var y1 = (fig.canvas.height - msg['y1']) / mpl.ratio;\n",
       "    x0 = Math.floor(x0) + 0.5;\n",
       "    y0 = Math.floor(y0) + 0.5;\n",
       "    x1 = Math.floor(x1) + 0.5;\n",
       "    y1 = Math.floor(y1) + 0.5;\n",
       "    var min_x = Math.min(x0, x1);\n",
       "    var min_y = Math.min(y0, y1);\n",
       "    var width = Math.abs(x1 - x0);\n",
       "    var height = Math.abs(y1 - y0);\n",
       "\n",
       "    fig.rubberband_context.clearRect(\n",
       "        0, 0, fig.canvas.width, fig.canvas.height);\n",
       "\n",
       "    fig.rubberband_context.strokeRect(min_x, min_y, width, height);\n",
       "}\n",
       "\n",
       "mpl.figure.prototype.handle_figure_label = function(fig, msg) {\n",
       "    // Updates the figure title.\n",
       "    fig.header.textContent = msg['label'];\n",
       "}\n",
       "\n",
       "mpl.figure.prototype.handle_cursor = function(fig, msg) {\n",
       "    var cursor = msg['cursor'];\n",
       "    switch(cursor)\n",
       "    {\n",
       "    case 0:\n",
       "        cursor = 'pointer';\n",
       "        break;\n",
       "    case 1:\n",
       "        cursor = 'default';\n",
       "        break;\n",
       "    case 2:\n",
       "        cursor = 'crosshair';\n",
       "        break;\n",
       "    case 3:\n",
       "        cursor = 'move';\n",
       "        break;\n",
       "    }\n",
       "    fig.rubberband_canvas.style.cursor = cursor;\n",
       "}\n",
       "\n",
       "mpl.figure.prototype.handle_message = function(fig, msg) {\n",
       "    fig.message.textContent = msg['message'];\n",
       "}\n",
       "\n",
       "mpl.figure.prototype.handle_draw = function(fig, msg) {\n",
       "    // Request the server to send over a new figure.\n",
       "    fig.send_draw_message();\n",
       "}\n",
       "\n",
       "mpl.figure.prototype.handle_image_mode = function(fig, msg) {\n",
       "    fig.image_mode = msg['mode'];\n",
       "}\n",
       "\n",
       "mpl.figure.prototype.updated_canvas_event = function() {\n",
       "    // Called whenever the canvas gets updated.\n",
       "    this.send_message(\"ack\", {});\n",
       "}\n",
       "\n",
       "// A function to construct a web socket function for onmessage handling.\n",
       "// Called in the figure constructor.\n",
       "mpl.figure.prototype._make_on_message_function = function(fig) {\n",
       "    return function socket_on_message(evt) {\n",
       "        if (evt.data instanceof Blob) {\n",
       "            /* FIXME: We get \"Resource interpreted as Image but\n",
       "             * transferred with MIME type text/plain:\" errors on\n",
       "             * Chrome.  But how to set the MIME type?  It doesn't seem\n",
       "             * to be part of the websocket stream */\n",
       "            evt.data.type = \"image/png\";\n",
       "\n",
       "            /* Free the memory for the previous frames */\n",
       "            if (fig.imageObj.src) {\n",
       "                (window.URL || window.webkitURL).revokeObjectURL(\n",
       "                    fig.imageObj.src);\n",
       "            }\n",
       "\n",
       "            fig.imageObj.src = (window.URL || window.webkitURL).createObjectURL(\n",
       "                evt.data);\n",
       "            fig.updated_canvas_event();\n",
       "            fig.waiting = false;\n",
       "            return;\n",
       "        }\n",
       "        else if (typeof evt.data === 'string' && evt.data.slice(0, 21) == \"data:image/png;base64\") {\n",
       "            fig.imageObj.src = evt.data;\n",
       "            fig.updated_canvas_event();\n",
       "            fig.waiting = false;\n",
       "            return;\n",
       "        }\n",
       "\n",
       "        var msg = JSON.parse(evt.data);\n",
       "        var msg_type = msg['type'];\n",
       "\n",
       "        // Call the  \"handle_{type}\" callback, which takes\n",
       "        // the figure and JSON message as its only arguments.\n",
       "        try {\n",
       "            var callback = fig[\"handle_\" + msg_type];\n",
       "        } catch (e) {\n",
       "            console.log(\"No handler for the '\" + msg_type + \"' message type: \", msg);\n",
       "            return;\n",
       "        }\n",
       "\n",
       "        if (callback) {\n",
       "            try {\n",
       "                // console.log(\"Handling '\" + msg_type + \"' message: \", msg);\n",
       "                callback(fig, msg);\n",
       "            } catch (e) {\n",
       "                console.log(\"Exception inside the 'handler_\" + msg_type + \"' callback:\", e, e.stack, msg);\n",
       "            }\n",
       "        }\n",
       "    };\n",
       "}\n",
       "\n",
       "// from http://stackoverflow.com/questions/1114465/getting-mouse-location-in-canvas\n",
       "mpl.findpos = function(e) {\n",
       "    //this section is from http://www.quirksmode.org/js/events_properties.html\n",
       "    var targ;\n",
       "    if (!e)\n",
       "        e = window.event;\n",
       "    if (e.target)\n",
       "        targ = e.target;\n",
       "    else if (e.srcElement)\n",
       "        targ = e.srcElement;\n",
       "    if (targ.nodeType == 3) // defeat Safari bug\n",
       "        targ = targ.parentNode;\n",
       "\n",
       "    // jQuery normalizes the pageX and pageY\n",
       "    // pageX,Y are the mouse positions relative to the document\n",
       "    // offset() returns the position of the element relative to the document\n",
       "    var x = e.pageX - $(targ).offset().left;\n",
       "    var y = e.pageY - $(targ).offset().top;\n",
       "\n",
       "    return {\"x\": x, \"y\": y};\n",
       "};\n",
       "\n",
       "/*\n",
       " * return a copy of an object with only non-object keys\n",
       " * we need this to avoid circular references\n",
       " * http://stackoverflow.com/a/24161582/3208463\n",
       " */\n",
       "function simpleKeys (original) {\n",
       "  return Object.keys(original).reduce(function (obj, key) {\n",
       "    if (typeof original[key] !== 'object')\n",
       "        obj[key] = original[key]\n",
       "    return obj;\n",
       "  }, {});\n",
       "}\n",
       "\n",
       "mpl.figure.prototype.mouse_event = function(event, name) {\n",
       "    var canvas_pos = mpl.findpos(event)\n",
       "\n",
       "    if (name === 'button_press')\n",
       "    {\n",
       "        this.canvas.focus();\n",
       "        this.canvas_div.focus();\n",
       "    }\n",
       "\n",
       "    var x = canvas_pos.x * mpl.ratio;\n",
       "    var y = canvas_pos.y * mpl.ratio;\n",
       "\n",
       "    this.send_message(name, {x: x, y: y, button: event.button,\n",
       "                             step: event.step,\n",
       "                             guiEvent: simpleKeys(event)});\n",
       "\n",
       "    /* This prevents the web browser from automatically changing to\n",
       "     * the text insertion cursor when the button is pressed.  We want\n",
       "     * to control all of the cursor setting manually through the\n",
       "     * 'cursor' event from matplotlib */\n",
       "    event.preventDefault();\n",
       "    return false;\n",
       "}\n",
       "\n",
       "mpl.figure.prototype._key_event_extra = function(event, name) {\n",
       "    // Handle any extra behaviour associated with a key event\n",
       "}\n",
       "\n",
       "mpl.figure.prototype.key_event = function(event, name) {\n",
       "\n",
       "    // Prevent repeat events\n",
       "    if (name == 'key_press')\n",
       "    {\n",
       "        if (event.which === this._key)\n",
       "            return;\n",
       "        else\n",
       "            this._key = event.which;\n",
       "    }\n",
       "    if (name == 'key_release')\n",
       "        this._key = null;\n",
       "\n",
       "    var value = '';\n",
       "    if (event.ctrlKey && event.which != 17)\n",
       "        value += \"ctrl+\";\n",
       "    if (event.altKey && event.which != 18)\n",
       "        value += \"alt+\";\n",
       "    if (event.shiftKey && event.which != 16)\n",
       "        value += \"shift+\";\n",
       "\n",
       "    value += 'k';\n",
       "    value += event.which.toString();\n",
       "\n",
       "    this._key_event_extra(event, name);\n",
       "\n",
       "    this.send_message(name, {key: value,\n",
       "                             guiEvent: simpleKeys(event)});\n",
       "    return false;\n",
       "}\n",
       "\n",
       "mpl.figure.prototype.toolbar_button_onclick = function(name) {\n",
       "    if (name == 'download') {\n",
       "        this.handle_save(this, null);\n",
       "    } else {\n",
       "        this.send_message(\"toolbar_button\", {name: name});\n",
       "    }\n",
       "};\n",
       "\n",
       "mpl.figure.prototype.toolbar_button_onmouseover = function(tooltip) {\n",
       "    this.message.textContent = tooltip;\n",
       "};\n",
       "mpl.toolbar_items = [[\"Home\", \"Reset original view\", \"fa fa-home icon-home\", \"home\"], [\"Back\", \"Back to  previous view\", \"fa fa-arrow-left icon-arrow-left\", \"back\"], [\"Forward\", \"Forward to next view\", \"fa fa-arrow-right icon-arrow-right\", \"forward\"], [\"\", \"\", \"\", \"\"], [\"Pan\", \"Pan axes with left mouse, zoom with right\", \"fa fa-arrows icon-move\", \"pan\"], [\"Zoom\", \"Zoom to rectangle\", \"fa fa-square-o icon-check-empty\", \"zoom\"], [\"\", \"\", \"\", \"\"], [\"Download\", \"Download plot\", \"fa fa-floppy-o icon-save\", \"download\"]];\n",
       "\n",
       "mpl.extensions = [\"eps\", \"jpeg\", \"pdf\", \"png\", \"ps\", \"raw\", \"svg\", \"tif\"];\n",
       "\n",
       "mpl.default_extension = \"png\";var comm_websocket_adapter = function(comm) {\n",
       "    // Create a \"websocket\"-like object which calls the given IPython comm\n",
       "    // object with the appropriate methods. Currently this is a non binary\n",
       "    // socket, so there is still some room for performance tuning.\n",
       "    var ws = {};\n",
       "\n",
       "    ws.close = function() {\n",
       "        comm.close()\n",
       "    };\n",
       "    ws.send = function(m) {\n",
       "        //console.log('sending', m);\n",
       "        comm.send(m);\n",
       "    };\n",
       "    // Register the callback with on_msg.\n",
       "    comm.on_msg(function(msg) {\n",
       "        //console.log('receiving', msg['content']['data'], msg);\n",
       "        // Pass the mpl event to the overriden (by mpl) onmessage function.\n",
       "        ws.onmessage(msg['content']['data'])\n",
       "    });\n",
       "    return ws;\n",
       "}\n",
       "\n",
       "mpl.mpl_figure_comm = function(comm, msg) {\n",
       "    // This is the function which gets called when the mpl process\n",
       "    // starts-up an IPython Comm through the \"matplotlib\" channel.\n",
       "\n",
       "    var id = msg.content.data.id;\n",
       "    // Get hold of the div created by the display call when the Comm\n",
       "    // socket was opened in Python.\n",
       "    var element = $(\"#\" + id);\n",
       "    var ws_proxy = comm_websocket_adapter(comm)\n",
       "\n",
       "    function ondownload(figure, format) {\n",
       "        window.open(figure.imageObj.src);\n",
       "    }\n",
       "\n",
       "    var fig = new mpl.figure(id, ws_proxy,\n",
       "                           ondownload,\n",
       "                           element.get(0));\n",
       "\n",
       "    // Call onopen now - mpl needs it, as it is assuming we've passed it a real\n",
       "    // web socket which is closed, not our websocket->open comm proxy.\n",
       "    ws_proxy.onopen();\n",
       "\n",
       "    fig.parent_element = element.get(0);\n",
       "    fig.cell_info = mpl.find_output_cell(\"<div id='\" + id + \"'></div>\");\n",
       "    if (!fig.cell_info) {\n",
       "        console.error(\"Failed to find cell for figure\", id, fig);\n",
       "        return;\n",
       "    }\n",
       "\n",
       "    var output_index = fig.cell_info[2]\n",
       "    var cell = fig.cell_info[0];\n",
       "\n",
       "};\n",
       "\n",
       "mpl.figure.prototype.handle_close = function(fig, msg) {\n",
       "    var width = fig.canvas.width/mpl.ratio\n",
       "    fig.root.unbind('remove')\n",
       "\n",
       "    // Update the output cell to use the data from the current canvas.\n",
       "    fig.push_to_output();\n",
       "    var dataURL = fig.canvas.toDataURL();\n",
       "    // Re-enable the keyboard manager in IPython - without this line, in FF,\n",
       "    // the notebook keyboard shortcuts fail.\n",
       "    IPython.keyboard_manager.enable()\n",
       "    $(fig.parent_element).html('<img src=\"' + dataURL + '\" width=\"' + width + '\">');\n",
       "    fig.close_ws(fig, msg);\n",
       "}\n",
       "\n",
       "mpl.figure.prototype.close_ws = function(fig, msg){\n",
       "    fig.send_message('closing', msg);\n",
       "    // fig.ws.close()\n",
       "}\n",
       "\n",
       "mpl.figure.prototype.push_to_output = function(remove_interactive) {\n",
       "    // Turn the data on the canvas into data in the output cell.\n",
       "    var width = this.canvas.width/mpl.ratio\n",
       "    var dataURL = this.canvas.toDataURL();\n",
       "    this.cell_info[1]['text/html'] = '<img src=\"' + dataURL + '\" width=\"' + width + '\">';\n",
       "}\n",
       "\n",
       "mpl.figure.prototype.updated_canvas_event = function() {\n",
       "    // Tell IPython that the notebook contents must change.\n",
       "    IPython.notebook.set_dirty(true);\n",
       "    this.send_message(\"ack\", {});\n",
       "    var fig = this;\n",
       "    // Wait a second, then push the new image to the DOM so\n",
       "    // that it is saved nicely (might be nice to debounce this).\n",
       "    setTimeout(function () { fig.push_to_output() }, 1000);\n",
       "}\n",
       "\n",
       "mpl.figure.prototype._init_toolbar = function() {\n",
       "    var fig = this;\n",
       "\n",
       "    var nav_element = $('<div/>')\n",
       "    nav_element.attr('style', 'width: 100%');\n",
       "    this.root.append(nav_element);\n",
       "\n",
       "    // Define a callback function for later on.\n",
       "    function toolbar_event(event) {\n",
       "        return fig.toolbar_button_onclick(event['data']);\n",
       "    }\n",
       "    function toolbar_mouse_event(event) {\n",
       "        return fig.toolbar_button_onmouseover(event['data']);\n",
       "    }\n",
       "\n",
       "    for(var toolbar_ind in mpl.toolbar_items){\n",
       "        var name = mpl.toolbar_items[toolbar_ind][0];\n",
       "        var tooltip = mpl.toolbar_items[toolbar_ind][1];\n",
       "        var image = mpl.toolbar_items[toolbar_ind][2];\n",
       "        var method_name = mpl.toolbar_items[toolbar_ind][3];\n",
       "\n",
       "        if (!name) { continue; };\n",
       "\n",
       "        var button = $('<button class=\"btn btn-default\" href=\"#\" title=\"' + name + '\"><i class=\"fa ' + image + ' fa-lg\"></i></button>');\n",
       "        button.click(method_name, toolbar_event);\n",
       "        button.mouseover(tooltip, toolbar_mouse_event);\n",
       "        nav_element.append(button);\n",
       "    }\n",
       "\n",
       "    // Add the status bar.\n",
       "    var status_bar = $('<span class=\"mpl-message\" style=\"text-align:right; float: right;\"/>');\n",
       "    nav_element.append(status_bar);\n",
       "    this.message = status_bar[0];\n",
       "\n",
       "    // Add the close button to the window.\n",
       "    var buttongrp = $('<div class=\"btn-group inline pull-right\"></div>');\n",
       "    var button = $('<button class=\"btn btn-mini btn-primary\" href=\"#\" title=\"Stop Interaction\"><i class=\"fa fa-power-off icon-remove icon-large\"></i></button>');\n",
       "    button.click(function (evt) { fig.handle_close(fig, {}); } );\n",
       "    button.mouseover('Stop Interaction', toolbar_mouse_event);\n",
       "    buttongrp.append(button);\n",
       "    var titlebar = this.root.find($('.ui-dialog-titlebar'));\n",
       "    titlebar.prepend(buttongrp);\n",
       "}\n",
       "\n",
       "mpl.figure.prototype._root_extra_style = function(el){\n",
       "    var fig = this\n",
       "    el.on(\"remove\", function(){\n",
       "\tfig.close_ws(fig, {});\n",
       "    });\n",
       "}\n",
       "\n",
       "mpl.figure.prototype._canvas_extra_style = function(el){\n",
       "    // this is important to make the div 'focusable\n",
       "    el.attr('tabindex', 0)\n",
       "    // reach out to IPython and tell the keyboard manager to turn it's self\n",
       "    // off when our div gets focus\n",
       "\n",
       "    // location in version 3\n",
       "    if (IPython.notebook.keyboard_manager) {\n",
       "        IPython.notebook.keyboard_manager.register_events(el);\n",
       "    }\n",
       "    else {\n",
       "        // location in version 2\n",
       "        IPython.keyboard_manager.register_events(el);\n",
       "    }\n",
       "\n",
       "}\n",
       "\n",
       "mpl.figure.prototype._key_event_extra = function(event, name) {\n",
       "    var manager = IPython.notebook.keyboard_manager;\n",
       "    if (!manager)\n",
       "        manager = IPython.keyboard_manager;\n",
       "\n",
       "    // Check for shift+enter\n",
       "    if (event.shiftKey && event.which == 13) {\n",
       "        this.canvas_div.blur();\n",
       "        event.shiftKey = false;\n",
       "        // Send a \"J\" for go to next cell\n",
       "        event.which = 74;\n",
       "        event.keyCode = 74;\n",
       "        manager.command_mode();\n",
       "        manager.handle_keydown(event);\n",
       "    }\n",
       "}\n",
       "\n",
       "mpl.figure.prototype.handle_save = function(fig, msg) {\n",
       "    fig.ondownload(fig, null);\n",
       "}\n",
       "\n",
       "\n",
       "mpl.find_output_cell = function(html_output) {\n",
       "    // Return the cell and output element which can be found *uniquely* in the notebook.\n",
       "    // Note - this is a bit hacky, but it is done because the \"notebook_saving.Notebook\"\n",
       "    // IPython event is triggered only after the cells have been serialised, which for\n",
       "    // our purposes (turning an active figure into a static one), is too late.\n",
       "    var cells = IPython.notebook.get_cells();\n",
       "    var ncells = cells.length;\n",
       "    for (var i=0; i<ncells; i++) {\n",
       "        var cell = cells[i];\n",
       "        if (cell.cell_type === 'code'){\n",
       "            for (var j=0; j<cell.output_area.outputs.length; j++) {\n",
       "                var data = cell.output_area.outputs[j];\n",
       "                if (data.data) {\n",
       "                    // IPython >= 3 moved mimebundle to data attribute of output\n",
       "                    data = data.data;\n",
       "                }\n",
       "                if (data['text/html'] == html_output) {\n",
       "                    return [cell, data, j];\n",
       "                }\n",
       "            }\n",
       "        }\n",
       "    }\n",
       "}\n",
       "\n",
       "// Register the function which deals with the matplotlib target/channel.\n",
       "// The kernel may be null if the page has been refreshed.\n",
       "if (IPython.notebook.kernel != null) {\n",
       "    IPython.notebook.kernel.comm_manager.register_target('matplotlib', mpl.mpl_figure_comm);\n",
       "}\n"
      ],
      "text/plain": [
       "<IPython.core.display.Javascript object>"
      ]
     },
     "metadata": {},
     "output_type": "display_data"
    },
    {
     "data": {
      "text/html": [
       "<img src=\"data:image/png;base64,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\" width=\"520\">"
      ],
      "text/plain": [
       "<IPython.core.display.HTML object>"
      ]
     },
     "metadata": {},
     "output_type": "display_data"
    },
    {
     "data": {
      "application/javascript": [
       "/* Put everything inside the global mpl namespace */\n",
       "window.mpl = {};\n",
       "\n",
       "\n",
       "mpl.get_websocket_type = function() {\n",
       "    if (typeof(WebSocket) !== 'undefined') {\n",
       "        return WebSocket;\n",
       "    } else if (typeof(MozWebSocket) !== 'undefined') {\n",
       "        return MozWebSocket;\n",
       "    } else {\n",
       "        alert('Your browser does not have WebSocket support.' +\n",
       "              'Please try Chrome, Safari or Firefox ≥ 6. ' +\n",
       "              'Firefox 4 and 5 are also supported but you ' +\n",
       "              'have to enable WebSockets in about:config.');\n",
       "    };\n",
       "}\n",
       "\n",
       "mpl.figure = function(figure_id, websocket, ondownload, parent_element) {\n",
       "    this.id = figure_id;\n",
       "\n",
       "    this.ws = websocket;\n",
       "\n",
       "    this.supports_binary = (this.ws.binaryType != undefined);\n",
       "\n",
       "    if (!this.supports_binary) {\n",
       "        var warnings = document.getElementById(\"mpl-warnings\");\n",
       "        if (warnings) {\n",
       "            warnings.style.display = 'block';\n",
       "            warnings.textContent = (\n",
       "                \"This browser does not support binary websocket messages. \" +\n",
       "                    \"Performance may be slow.\");\n",
       "        }\n",
       "    }\n",
       "\n",
       "    this.imageObj = new Image();\n",
       "\n",
       "    this.context = undefined;\n",
       "    this.message = undefined;\n",
       "    this.canvas = undefined;\n",
       "    this.rubberband_canvas = undefined;\n",
       "    this.rubberband_context = undefined;\n",
       "    this.format_dropdown = undefined;\n",
       "\n",
       "    this.image_mode = 'full';\n",
       "\n",
       "    this.root = $('<div/>');\n",
       "    this._root_extra_style(this.root)\n",
       "    this.root.attr('style', 'display: inline-block');\n",
       "\n",
       "    $(parent_element).append(this.root);\n",
       "\n",
       "    this._init_header(this);\n",
       "    this._init_canvas(this);\n",
       "    this._init_toolbar(this);\n",
       "\n",
       "    var fig = this;\n",
       "\n",
       "    this.waiting = false;\n",
       "\n",
       "    this.ws.onopen =  function () {\n",
       "            fig.send_message(\"supports_binary\", {value: fig.supports_binary});\n",
       "            fig.send_message(\"send_image_mode\", {});\n",
       "            if (mpl.ratio != 1) {\n",
       "                fig.send_message(\"set_dpi_ratio\", {'dpi_ratio': mpl.ratio});\n",
       "            }\n",
       "            fig.send_message(\"refresh\", {});\n",
       "        }\n",
       "\n",
       "    this.imageObj.onload = function() {\n",
       "            if (fig.image_mode == 'full') {\n",
       "                // Full images could contain transparency (where diff images\n",
       "                // almost always do), so we need to clear the canvas so that\n",
       "                // there is no ghosting.\n",
       "                fig.context.clearRect(0, 0, fig.canvas.width, fig.canvas.height);\n",
       "            }\n",
       "            fig.context.drawImage(fig.imageObj, 0, 0);\n",
       "        };\n",
       "\n",
       "    this.imageObj.onunload = function() {\n",
       "        fig.ws.close();\n",
       "    }\n",
       "\n",
       "    this.ws.onmessage = this._make_on_message_function(this);\n",
       "\n",
       "    this.ondownload = ondownload;\n",
       "}\n",
       "\n",
       "mpl.figure.prototype._init_header = function() {\n",
       "    var titlebar = $(\n",
       "        '<div class=\"ui-dialog-titlebar ui-widget-header ui-corner-all ' +\n",
       "        'ui-helper-clearfix\"/>');\n",
       "    var titletext = $(\n",
       "        '<div class=\"ui-dialog-title\" style=\"width: 100%; ' +\n",
       "        'text-align: center; padding: 3px;\"/>');\n",
       "    titlebar.append(titletext)\n",
       "    this.root.append(titlebar);\n",
       "    this.header = titletext[0];\n",
       "}\n",
       "\n",
       "\n",
       "\n",
       "mpl.figure.prototype._canvas_extra_style = function(canvas_div) {\n",
       "\n",
       "}\n",
       "\n",
       "\n",
       "mpl.figure.prototype._root_extra_style = function(canvas_div) {\n",
       "\n",
       "}\n",
       "\n",
       "mpl.figure.prototype._init_canvas = function() {\n",
       "    var fig = this;\n",
       "\n",
       "    var canvas_div = $('<div/>');\n",
       "\n",
       "    canvas_div.attr('style', 'position: relative; clear: both; outline: 0');\n",
       "\n",
       "    function canvas_keyboard_event(event) {\n",
       "        return fig.key_event(event, event['data']);\n",
       "    }\n",
       "\n",
       "    canvas_div.keydown('key_press', canvas_keyboard_event);\n",
       "    canvas_div.keyup('key_release', canvas_keyboard_event);\n",
       "    this.canvas_div = canvas_div\n",
       "    this._canvas_extra_style(canvas_div)\n",
       "    this.root.append(canvas_div);\n",
       "\n",
       "    var canvas = $('<canvas/>');\n",
       "    canvas.addClass('mpl-canvas');\n",
       "    canvas.attr('style', \"left: 0; top: 0; z-index: 0; outline: 0\")\n",
       "\n",
       "    this.canvas = canvas[0];\n",
       "    this.context = canvas[0].getContext(\"2d\");\n",
       "\n",
       "    var backingStore = this.context.backingStorePixelRatio ||\n",
       "\tthis.context.webkitBackingStorePixelRatio ||\n",
       "\tthis.context.mozBackingStorePixelRatio ||\n",
       "\tthis.context.msBackingStorePixelRatio ||\n",
       "\tthis.context.oBackingStorePixelRatio ||\n",
       "\tthis.context.backingStorePixelRatio || 1;\n",
       "\n",
       "    mpl.ratio = (window.devicePixelRatio || 1) / backingStore;\n",
       "\n",
       "    var rubberband = $('<canvas/>');\n",
       "    rubberband.attr('style', \"position: absolute; left: 0; top: 0; z-index: 1;\")\n",
       "\n",
       "    var pass_mouse_events = true;\n",
       "\n",
       "    canvas_div.resizable({\n",
       "        start: function(event, ui) {\n",
       "            pass_mouse_events = false;\n",
       "        },\n",
       "        resize: function(event, ui) {\n",
       "            fig.request_resize(ui.size.width, ui.size.height);\n",
       "        },\n",
       "        stop: function(event, ui) {\n",
       "            pass_mouse_events = true;\n",
       "            fig.request_resize(ui.size.width, ui.size.height);\n",
       "        },\n",
       "    });\n",
       "\n",
       "    function mouse_event_fn(event) {\n",
       "        if (pass_mouse_events)\n",
       "            return fig.mouse_event(event, event['data']);\n",
       "    }\n",
       "\n",
       "    rubberband.mousedown('button_press', mouse_event_fn);\n",
       "    rubberband.mouseup('button_release', mouse_event_fn);\n",
       "    // Throttle sequential mouse events to 1 every 20ms.\n",
       "    rubberband.mousemove('motion_notify', mouse_event_fn);\n",
       "\n",
       "    rubberband.mouseenter('figure_enter', mouse_event_fn);\n",
       "    rubberband.mouseleave('figure_leave', mouse_event_fn);\n",
       "\n",
       "    canvas_div.on(\"wheel\", function (event) {\n",
       "        event = event.originalEvent;\n",
       "        event['data'] = 'scroll'\n",
       "        if (event.deltaY < 0) {\n",
       "            event.step = 1;\n",
       "        } else {\n",
       "            event.step = -1;\n",
       "        }\n",
       "        mouse_event_fn(event);\n",
       "    });\n",
       "\n",
       "    canvas_div.append(canvas);\n",
       "    canvas_div.append(rubberband);\n",
       "\n",
       "    this.rubberband = rubberband;\n",
       "    this.rubberband_canvas = rubberband[0];\n",
       "    this.rubberband_context = rubberband[0].getContext(\"2d\");\n",
       "    this.rubberband_context.strokeStyle = \"#000000\";\n",
       "\n",
       "    this._resize_canvas = function(width, height) {\n",
       "        // Keep the size of the canvas, canvas container, and rubber band\n",
       "        // canvas in synch.\n",
       "        canvas_div.css('width', width)\n",
       "        canvas_div.css('height', height)\n",
       "\n",
       "        canvas.attr('width', width * mpl.ratio);\n",
       "        canvas.attr('height', height * mpl.ratio);\n",
       "        canvas.attr('style', 'width: ' + width + 'px; height: ' + height + 'px;');\n",
       "\n",
       "        rubberband.attr('width', width);\n",
       "        rubberband.attr('height', height);\n",
       "    }\n",
       "\n",
       "    // Set the figure to an initial 600x600px, this will subsequently be updated\n",
       "    // upon first draw.\n",
       "    this._resize_canvas(600, 600);\n",
       "\n",
       "    // Disable right mouse context menu.\n",
       "    $(this.rubberband_canvas).bind(\"contextmenu\",function(e){\n",
       "        return false;\n",
       "    });\n",
       "\n",
       "    function set_focus () {\n",
       "        canvas.focus();\n",
       "        canvas_div.focus();\n",
       "    }\n",
       "\n",
       "    window.setTimeout(set_focus, 100);\n",
       "}\n",
       "\n",
       "mpl.figure.prototype._init_toolbar = function() {\n",
       "    var fig = this;\n",
       "\n",
       "    var nav_element = $('<div/>')\n",
       "    nav_element.attr('style', 'width: 100%');\n",
       "    this.root.append(nav_element);\n",
       "\n",
       "    // Define a callback function for later on.\n",
       "    function toolbar_event(event) {\n",
       "        return fig.toolbar_button_onclick(event['data']);\n",
       "    }\n",
       "    function toolbar_mouse_event(event) {\n",
       "        return fig.toolbar_button_onmouseover(event['data']);\n",
       "    }\n",
       "\n",
       "    for(var toolbar_ind in mpl.toolbar_items) {\n",
       "        var name = mpl.toolbar_items[toolbar_ind][0];\n",
       "        var tooltip = mpl.toolbar_items[toolbar_ind][1];\n",
       "        var image = mpl.toolbar_items[toolbar_ind][2];\n",
       "        var method_name = mpl.toolbar_items[toolbar_ind][3];\n",
       "\n",
       "        if (!name) {\n",
       "            // put a spacer in here.\n",
       "            continue;\n",
       "        }\n",
       "        var button = $('<button/>');\n",
       "        button.addClass('ui-button ui-widget ui-state-default ui-corner-all ' +\n",
       "                        'ui-button-icon-only');\n",
       "        button.attr('role', 'button');\n",
       "        button.attr('aria-disabled', 'false');\n",
       "        button.click(method_name, toolbar_event);\n",
       "        button.mouseover(tooltip, toolbar_mouse_event);\n",
       "\n",
       "        var icon_img = $('<span/>');\n",
       "        icon_img.addClass('ui-button-icon-primary ui-icon');\n",
       "        icon_img.addClass(image);\n",
       "        icon_img.addClass('ui-corner-all');\n",
       "\n",
       "        var tooltip_span = $('<span/>');\n",
       "        tooltip_span.addClass('ui-button-text');\n",
       "        tooltip_span.html(tooltip);\n",
       "\n",
       "        button.append(icon_img);\n",
       "        button.append(tooltip_span);\n",
       "\n",
       "        nav_element.append(button);\n",
       "    }\n",
       "\n",
       "    var fmt_picker_span = $('<span/>');\n",
       "\n",
       "    var fmt_picker = $('<select/>');\n",
       "    fmt_picker.addClass('mpl-toolbar-option ui-widget ui-widget-content');\n",
       "    fmt_picker_span.append(fmt_picker);\n",
       "    nav_element.append(fmt_picker_span);\n",
       "    this.format_dropdown = fmt_picker[0];\n",
       "\n",
       "    for (var ind in mpl.extensions) {\n",
       "        var fmt = mpl.extensions[ind];\n",
       "        var option = $(\n",
       "            '<option/>', {selected: fmt === mpl.default_extension}).html(fmt);\n",
       "        fmt_picker.append(option)\n",
       "    }\n",
       "\n",
       "    // Add hover states to the ui-buttons\n",
       "    $( \".ui-button\" ).hover(\n",
       "        function() { $(this).addClass(\"ui-state-hover\");},\n",
       "        function() { $(this).removeClass(\"ui-state-hover\");}\n",
       "    );\n",
       "\n",
       "    var status_bar = $('<span class=\"mpl-message\"/>');\n",
       "    nav_element.append(status_bar);\n",
       "    this.message = status_bar[0];\n",
       "}\n",
       "\n",
       "mpl.figure.prototype.request_resize = function(x_pixels, y_pixels) {\n",
       "    // Request matplotlib to resize the figure. Matplotlib will then trigger a resize in the client,\n",
       "    // which will in turn request a refresh of the image.\n",
       "    this.send_message('resize', {'width': x_pixels, 'height': y_pixels});\n",
       "}\n",
       "\n",
       "mpl.figure.prototype.send_message = function(type, properties) {\n",
       "    properties['type'] = type;\n",
       "    properties['figure_id'] = this.id;\n",
       "    this.ws.send(JSON.stringify(properties));\n",
       "}\n",
       "\n",
       "mpl.figure.prototype.send_draw_message = function() {\n",
       "    if (!this.waiting) {\n",
       "        this.waiting = true;\n",
       "        this.ws.send(JSON.stringify({type: \"draw\", figure_id: this.id}));\n",
       "    }\n",
       "}\n",
       "\n",
       "\n",
       "mpl.figure.prototype.handle_save = function(fig, msg) {\n",
       "    var format_dropdown = fig.format_dropdown;\n",
       "    var format = format_dropdown.options[format_dropdown.selectedIndex].value;\n",
       "    fig.ondownload(fig, format);\n",
       "}\n",
       "\n",
       "\n",
       "mpl.figure.prototype.handle_resize = function(fig, msg) {\n",
       "    var size = msg['size'];\n",
       "    if (size[0] != fig.canvas.width || size[1] != fig.canvas.height) {\n",
       "        fig._resize_canvas(size[0], size[1]);\n",
       "        fig.send_message(\"refresh\", {});\n",
       "    };\n",
       "}\n",
       "\n",
       "mpl.figure.prototype.handle_rubberband = function(fig, msg) {\n",
       "    var x0 = msg['x0'] / mpl.ratio;\n",
       "    var y0 = (fig.canvas.height - msg['y0']) / mpl.ratio;\n",
       "    var x1 = msg['x1'] / mpl.ratio;\n",
       "    var y1 = (fig.canvas.height - msg['y1']) / mpl.ratio;\n",
       "    x0 = Math.floor(x0) + 0.5;\n",
       "    y0 = Math.floor(y0) + 0.5;\n",
       "    x1 = Math.floor(x1) + 0.5;\n",
       "    y1 = Math.floor(y1) + 0.5;\n",
       "    var min_x = Math.min(x0, x1);\n",
       "    var min_y = Math.min(y0, y1);\n",
       "    var width = Math.abs(x1 - x0);\n",
       "    var height = Math.abs(y1 - y0);\n",
       "\n",
       "    fig.rubberband_context.clearRect(\n",
       "        0, 0, fig.canvas.width, fig.canvas.height);\n",
       "\n",
       "    fig.rubberband_context.strokeRect(min_x, min_y, width, height);\n",
       "}\n",
       "\n",
       "mpl.figure.prototype.handle_figure_label = function(fig, msg) {\n",
       "    // Updates the figure title.\n",
       "    fig.header.textContent = msg['label'];\n",
       "}\n",
       "\n",
       "mpl.figure.prototype.handle_cursor = function(fig, msg) {\n",
       "    var cursor = msg['cursor'];\n",
       "    switch(cursor)\n",
       "    {\n",
       "    case 0:\n",
       "        cursor = 'pointer';\n",
       "        break;\n",
       "    case 1:\n",
       "        cursor = 'default';\n",
       "        break;\n",
       "    case 2:\n",
       "        cursor = 'crosshair';\n",
       "        break;\n",
       "    case 3:\n",
       "        cursor = 'move';\n",
       "        break;\n",
       "    }\n",
       "    fig.rubberband_canvas.style.cursor = cursor;\n",
       "}\n",
       "\n",
       "mpl.figure.prototype.handle_message = function(fig, msg) {\n",
       "    fig.message.textContent = msg['message'];\n",
       "}\n",
       "\n",
       "mpl.figure.prototype.handle_draw = function(fig, msg) {\n",
       "    // Request the server to send over a new figure.\n",
       "    fig.send_draw_message();\n",
       "}\n",
       "\n",
       "mpl.figure.prototype.handle_image_mode = function(fig, msg) {\n",
       "    fig.image_mode = msg['mode'];\n",
       "}\n",
       "\n",
       "mpl.figure.prototype.updated_canvas_event = function() {\n",
       "    // Called whenever the canvas gets updated.\n",
       "    this.send_message(\"ack\", {});\n",
       "}\n",
       "\n",
       "// A function to construct a web socket function for onmessage handling.\n",
       "// Called in the figure constructor.\n",
       "mpl.figure.prototype._make_on_message_function = function(fig) {\n",
       "    return function socket_on_message(evt) {\n",
       "        if (evt.data instanceof Blob) {\n",
       "            /* FIXME: We get \"Resource interpreted as Image but\n",
       "             * transferred with MIME type text/plain:\" errors on\n",
       "             * Chrome.  But how to set the MIME type?  It doesn't seem\n",
       "             * to be part of the websocket stream */\n",
       "            evt.data.type = \"image/png\";\n",
       "\n",
       "            /* Free the memory for the previous frames */\n",
       "            if (fig.imageObj.src) {\n",
       "                (window.URL || window.webkitURL).revokeObjectURL(\n",
       "                    fig.imageObj.src);\n",
       "            }\n",
       "\n",
       "            fig.imageObj.src = (window.URL || window.webkitURL).createObjectURL(\n",
       "                evt.data);\n",
       "            fig.updated_canvas_event();\n",
       "            fig.waiting = false;\n",
       "            return;\n",
       "        }\n",
       "        else if (typeof evt.data === 'string' && evt.data.slice(0, 21) == \"data:image/png;base64\") {\n",
       "            fig.imageObj.src = evt.data;\n",
       "            fig.updated_canvas_event();\n",
       "            fig.waiting = false;\n",
       "            return;\n",
       "        }\n",
       "\n",
       "        var msg = JSON.parse(evt.data);\n",
       "        var msg_type = msg['type'];\n",
       "\n",
       "        // Call the  \"handle_{type}\" callback, which takes\n",
       "        // the figure and JSON message as its only arguments.\n",
       "        try {\n",
       "            var callback = fig[\"handle_\" + msg_type];\n",
       "        } catch (e) {\n",
       "            console.log(\"No handler for the '\" + msg_type + \"' message type: \", msg);\n",
       "            return;\n",
       "        }\n",
       "\n",
       "        if (callback) {\n",
       "            try {\n",
       "                // console.log(\"Handling '\" + msg_type + \"' message: \", msg);\n",
       "                callback(fig, msg);\n",
       "            } catch (e) {\n",
       "                console.log(\"Exception inside the 'handler_\" + msg_type + \"' callback:\", e, e.stack, msg);\n",
       "            }\n",
       "        }\n",
       "    };\n",
       "}\n",
       "\n",
       "// from http://stackoverflow.com/questions/1114465/getting-mouse-location-in-canvas\n",
       "mpl.findpos = function(e) {\n",
       "    //this section is from http://www.quirksmode.org/js/events_properties.html\n",
       "    var targ;\n",
       "    if (!e)\n",
       "        e = window.event;\n",
       "    if (e.target)\n",
       "        targ = e.target;\n",
       "    else if (e.srcElement)\n",
       "        targ = e.srcElement;\n",
       "    if (targ.nodeType == 3) // defeat Safari bug\n",
       "        targ = targ.parentNode;\n",
       "\n",
       "    // jQuery normalizes the pageX and pageY\n",
       "    // pageX,Y are the mouse positions relative to the document\n",
       "    // offset() returns the position of the element relative to the document\n",
       "    var x = e.pageX - $(targ).offset().left;\n",
       "    var y = e.pageY - $(targ).offset().top;\n",
       "\n",
       "    return {\"x\": x, \"y\": y};\n",
       "};\n",
       "\n",
       "/*\n",
       " * return a copy of an object with only non-object keys\n",
       " * we need this to avoid circular references\n",
       " * http://stackoverflow.com/a/24161582/3208463\n",
       " */\n",
       "function simpleKeys (original) {\n",
       "  return Object.keys(original).reduce(function (obj, key) {\n",
       "    if (typeof original[key] !== 'object')\n",
       "        obj[key] = original[key]\n",
       "    return obj;\n",
       "  }, {});\n",
       "}\n",
       "\n",
       "mpl.figure.prototype.mouse_event = function(event, name) {\n",
       "    var canvas_pos = mpl.findpos(event)\n",
       "\n",
       "    if (name === 'button_press')\n",
       "    {\n",
       "        this.canvas.focus();\n",
       "        this.canvas_div.focus();\n",
       "    }\n",
       "\n",
       "    var x = canvas_pos.x * mpl.ratio;\n",
       "    var y = canvas_pos.y * mpl.ratio;\n",
       "\n",
       "    this.send_message(name, {x: x, y: y, button: event.button,\n",
       "                             step: event.step,\n",
       "                             guiEvent: simpleKeys(event)});\n",
       "\n",
       "    /* This prevents the web browser from automatically changing to\n",
       "     * the text insertion cursor when the button is pressed.  We want\n",
       "     * to control all of the cursor setting manually through the\n",
       "     * 'cursor' event from matplotlib */\n",
       "    event.preventDefault();\n",
       "    return false;\n",
       "}\n",
       "\n",
       "mpl.figure.prototype._key_event_extra = function(event, name) {\n",
       "    // Handle any extra behaviour associated with a key event\n",
       "}\n",
       "\n",
       "mpl.figure.prototype.key_event = function(event, name) {\n",
       "\n",
       "    // Prevent repeat events\n",
       "    if (name == 'key_press')\n",
       "    {\n",
       "        if (event.which === this._key)\n",
       "            return;\n",
       "        else\n",
       "            this._key = event.which;\n",
       "    }\n",
       "    if (name == 'key_release')\n",
       "        this._key = null;\n",
       "\n",
       "    var value = '';\n",
       "    if (event.ctrlKey && event.which != 17)\n",
       "        value += \"ctrl+\";\n",
       "    if (event.altKey && event.which != 18)\n",
       "        value += \"alt+\";\n",
       "    if (event.shiftKey && event.which != 16)\n",
       "        value += \"shift+\";\n",
       "\n",
       "    value += 'k';\n",
       "    value += event.which.toString();\n",
       "\n",
       "    this._key_event_extra(event, name);\n",
       "\n",
       "    this.send_message(name, {key: value,\n",
       "                             guiEvent: simpleKeys(event)});\n",
       "    return false;\n",
       "}\n",
       "\n",
       "mpl.figure.prototype.toolbar_button_onclick = function(name) {\n",
       "    if (name == 'download') {\n",
       "        this.handle_save(this, null);\n",
       "    } else {\n",
       "        this.send_message(\"toolbar_button\", {name: name});\n",
       "    }\n",
       "};\n",
       "\n",
       "mpl.figure.prototype.toolbar_button_onmouseover = function(tooltip) {\n",
       "    this.message.textContent = tooltip;\n",
       "};\n",
       "mpl.toolbar_items = [[\"Home\", \"Reset original view\", \"fa fa-home icon-home\", \"home\"], [\"Back\", \"Back to  previous view\", \"fa fa-arrow-left icon-arrow-left\", \"back\"], [\"Forward\", \"Forward to next view\", \"fa fa-arrow-right icon-arrow-right\", \"forward\"], [\"\", \"\", \"\", \"\"], [\"Pan\", \"Pan axes with left mouse, zoom with right\", \"fa fa-arrows icon-move\", \"pan\"], [\"Zoom\", \"Zoom to rectangle\", \"fa fa-square-o icon-check-empty\", \"zoom\"], [\"\", \"\", \"\", \"\"], [\"Download\", \"Download plot\", \"fa fa-floppy-o icon-save\", \"download\"]];\n",
       "\n",
       "mpl.extensions = [\"eps\", \"jpeg\", \"pdf\", \"png\", \"ps\", \"raw\", \"svg\", \"tif\"];\n",
       "\n",
       "mpl.default_extension = \"png\";var comm_websocket_adapter = function(comm) {\n",
       "    // Create a \"websocket\"-like object which calls the given IPython comm\n",
       "    // object with the appropriate methods. Currently this is a non binary\n",
       "    // socket, so there is still some room for performance tuning.\n",
       "    var ws = {};\n",
       "\n",
       "    ws.close = function() {\n",
       "        comm.close()\n",
       "    };\n",
       "    ws.send = function(m) {\n",
       "        //console.log('sending', m);\n",
       "        comm.send(m);\n",
       "    };\n",
       "    // Register the callback with on_msg.\n",
       "    comm.on_msg(function(msg) {\n",
       "        //console.log('receiving', msg['content']['data'], msg);\n",
       "        // Pass the mpl event to the overriden (by mpl) onmessage function.\n",
       "        ws.onmessage(msg['content']['data'])\n",
       "    });\n",
       "    return ws;\n",
       "}\n",
       "\n",
       "mpl.mpl_figure_comm = function(comm, msg) {\n",
       "    // This is the function which gets called when the mpl process\n",
       "    // starts-up an IPython Comm through the \"matplotlib\" channel.\n",
       "\n",
       "    var id = msg.content.data.id;\n",
       "    // Get hold of the div created by the display call when the Comm\n",
       "    // socket was opened in Python.\n",
       "    var element = $(\"#\" + id);\n",
       "    var ws_proxy = comm_websocket_adapter(comm)\n",
       "\n",
       "    function ondownload(figure, format) {\n",
       "        window.open(figure.imageObj.src);\n",
       "    }\n",
       "\n",
       "    var fig = new mpl.figure(id, ws_proxy,\n",
       "                           ondownload,\n",
       "                           element.get(0));\n",
       "\n",
       "    // Call onopen now - mpl needs it, as it is assuming we've passed it a real\n",
       "    // web socket which is closed, not our websocket->open comm proxy.\n",
       "    ws_proxy.onopen();\n",
       "\n",
       "    fig.parent_element = element.get(0);\n",
       "    fig.cell_info = mpl.find_output_cell(\"<div id='\" + id + \"'></div>\");\n",
       "    if (!fig.cell_info) {\n",
       "        console.error(\"Failed to find cell for figure\", id, fig);\n",
       "        return;\n",
       "    }\n",
       "\n",
       "    var output_index = fig.cell_info[2]\n",
       "    var cell = fig.cell_info[0];\n",
       "\n",
       "};\n",
       "\n",
       "mpl.figure.prototype.handle_close = function(fig, msg) {\n",
       "    var width = fig.canvas.width/mpl.ratio\n",
       "    fig.root.unbind('remove')\n",
       "\n",
       "    // Update the output cell to use the data from the current canvas.\n",
       "    fig.push_to_output();\n",
       "    var dataURL = fig.canvas.toDataURL();\n",
       "    // Re-enable the keyboard manager in IPython - without this line, in FF,\n",
       "    // the notebook keyboard shortcuts fail.\n",
       "    IPython.keyboard_manager.enable()\n",
       "    $(fig.parent_element).html('<img src=\"' + dataURL + '\" width=\"' + width + '\">');\n",
       "    fig.close_ws(fig, msg);\n",
       "}\n",
       "\n",
       "mpl.figure.prototype.close_ws = function(fig, msg){\n",
       "    fig.send_message('closing', msg);\n",
       "    // fig.ws.close()\n",
       "}\n",
       "\n",
       "mpl.figure.prototype.push_to_output = function(remove_interactive) {\n",
       "    // Turn the data on the canvas into data in the output cell.\n",
       "    var width = this.canvas.width/mpl.ratio\n",
       "    var dataURL = this.canvas.toDataURL();\n",
       "    this.cell_info[1]['text/html'] = '<img src=\"' + dataURL + '\" width=\"' + width + '\">';\n",
       "}\n",
       "\n",
       "mpl.figure.prototype.updated_canvas_event = function() {\n",
       "    // Tell IPython that the notebook contents must change.\n",
       "    IPython.notebook.set_dirty(true);\n",
       "    this.send_message(\"ack\", {});\n",
       "    var fig = this;\n",
       "    // Wait a second, then push the new image to the DOM so\n",
       "    // that it is saved nicely (might be nice to debounce this).\n",
       "    setTimeout(function () { fig.push_to_output() }, 1000);\n",
       "}\n",
       "\n",
       "mpl.figure.prototype._init_toolbar = function() {\n",
       "    var fig = this;\n",
       "\n",
       "    var nav_element = $('<div/>')\n",
       "    nav_element.attr('style', 'width: 100%');\n",
       "    this.root.append(nav_element);\n",
       "\n",
       "    // Define a callback function for later on.\n",
       "    function toolbar_event(event) {\n",
       "        return fig.toolbar_button_onclick(event['data']);\n",
       "    }\n",
       "    function toolbar_mouse_event(event) {\n",
       "        return fig.toolbar_button_onmouseover(event['data']);\n",
       "    }\n",
       "\n",
       "    for(var toolbar_ind in mpl.toolbar_items){\n",
       "        var name = mpl.toolbar_items[toolbar_ind][0];\n",
       "        var tooltip = mpl.toolbar_items[toolbar_ind][1];\n",
       "        var image = mpl.toolbar_items[toolbar_ind][2];\n",
       "        var method_name = mpl.toolbar_items[toolbar_ind][3];\n",
       "\n",
       "        if (!name) { continue; };\n",
       "\n",
       "        var button = $('<button class=\"btn btn-default\" href=\"#\" title=\"' + name + '\"><i class=\"fa ' + image + ' fa-lg\"></i></button>');\n",
       "        button.click(method_name, toolbar_event);\n",
       "        button.mouseover(tooltip, toolbar_mouse_event);\n",
       "        nav_element.append(button);\n",
       "    }\n",
       "\n",
       "    // Add the status bar.\n",
       "    var status_bar = $('<span class=\"mpl-message\" style=\"text-align:right; float: right;\"/>');\n",
       "    nav_element.append(status_bar);\n",
       "    this.message = status_bar[0];\n",
       "\n",
       "    // Add the close button to the window.\n",
       "    var buttongrp = $('<div class=\"btn-group inline pull-right\"></div>');\n",
       "    var button = $('<button class=\"btn btn-mini btn-primary\" href=\"#\" title=\"Stop Interaction\"><i class=\"fa fa-power-off icon-remove icon-large\"></i></button>');\n",
       "    button.click(function (evt) { fig.handle_close(fig, {}); } );\n",
       "    button.mouseover('Stop Interaction', toolbar_mouse_event);\n",
       "    buttongrp.append(button);\n",
       "    var titlebar = this.root.find($('.ui-dialog-titlebar'));\n",
       "    titlebar.prepend(buttongrp);\n",
       "}\n",
       "\n",
       "mpl.figure.prototype._root_extra_style = function(el){\n",
       "    var fig = this\n",
       "    el.on(\"remove\", function(){\n",
       "\tfig.close_ws(fig, {});\n",
       "    });\n",
       "}\n",
       "\n",
       "mpl.figure.prototype._canvas_extra_style = function(el){\n",
       "    // this is important to make the div 'focusable\n",
       "    el.attr('tabindex', 0)\n",
       "    // reach out to IPython and tell the keyboard manager to turn it's self\n",
       "    // off when our div gets focus\n",
       "\n",
       "    // location in version 3\n",
       "    if (IPython.notebook.keyboard_manager) {\n",
       "        IPython.notebook.keyboard_manager.register_events(el);\n",
       "    }\n",
       "    else {\n",
       "        // location in version 2\n",
       "        IPython.keyboard_manager.register_events(el);\n",
       "    }\n",
       "\n",
       "}\n",
       "\n",
       "mpl.figure.prototype._key_event_extra = function(event, name) {\n",
       "    var manager = IPython.notebook.keyboard_manager;\n",
       "    if (!manager)\n",
       "        manager = IPython.keyboard_manager;\n",
       "\n",
       "    // Check for shift+enter\n",
       "    if (event.shiftKey && event.which == 13) {\n",
       "        this.canvas_div.blur();\n",
       "        event.shiftKey = false;\n",
       "        // Send a \"J\" for go to next cell\n",
       "        event.which = 74;\n",
       "        event.keyCode = 74;\n",
       "        manager.command_mode();\n",
       "        manager.handle_keydown(event);\n",
       "    }\n",
       "}\n",
       "\n",
       "mpl.figure.prototype.handle_save = function(fig, msg) {\n",
       "    fig.ondownload(fig, null);\n",
       "}\n",
       "\n",
       "\n",
       "mpl.find_output_cell = function(html_output) {\n",
       "    // Return the cell and output element which can be found *uniquely* in the notebook.\n",
       "    // Note - this is a bit hacky, but it is done because the \"notebook_saving.Notebook\"\n",
       "    // IPython event is triggered only after the cells have been serialised, which for\n",
       "    // our purposes (turning an active figure into a static one), is too late.\n",
       "    var cells = IPython.notebook.get_cells();\n",
       "    var ncells = cells.length;\n",
       "    for (var i=0; i<ncells; i++) {\n",
       "        var cell = cells[i];\n",
       "        if (cell.cell_type === 'code'){\n",
       "            for (var j=0; j<cell.output_area.outputs.length; j++) {\n",
       "                var data = cell.output_area.outputs[j];\n",
       "                if (data.data) {\n",
       "                    // IPython >= 3 moved mimebundle to data attribute of output\n",
       "                    data = data.data;\n",
       "                }\n",
       "                if (data['text/html'] == html_output) {\n",
       "                    return [cell, data, j];\n",
       "                }\n",
       "            }\n",
       "        }\n",
       "    }\n",
       "}\n",
       "\n",
       "// Register the function which deals with the matplotlib target/channel.\n",
       "// The kernel may be null if the page has been refreshed.\n",
       "if (IPython.notebook.kernel != null) {\n",
       "    IPython.notebook.kernel.comm_manager.register_target('matplotlib', mpl.mpl_figure_comm);\n",
       "}\n"
      ],
      "text/plain": [
       "<IPython.core.display.Javascript object>"
      ]
     },
     "metadata": {},
     "output_type": "display_data"
    },
    {
     "data": {
      "text/html": [
       "<img src=\"data:image/png;base64,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\" width=\"560\">"
      ],
      "text/plain": [
       "<IPython.core.display.HTML object>"
      ]
     },
     "metadata": {},
     "output_type": "display_data"
    }
   ],
   "source": [
    "num_arrows = 5\n",
    "xmin, xmax = 0, 3\n",
    "ts_length = 10\n",
    "r = 3.2\n",
    "xstar1 = 0.8 \n",
    "xstar2 = 0.5\n",
    "x0 = 0.4\n",
    "g = lambda x: 1+0.75/x\n",
    "plot45(g, xmin, xmax, x0, num_arrows)\n",
    "ts_plot(g, xmin, xmax, x0, ts_length)"
   ]
  },
  {
   "cell_type": "code",
   "execution_count": null,
   "metadata": {},
   "outputs": [],
   "source": []
  },
  {
   "cell_type": "code",
   "execution_count": null,
   "metadata": {},
   "outputs": [],
   "source": []
  },
  {
   "cell_type": "code",
   "execution_count": null,
   "metadata": {},
   "outputs": [],
   "source": []
  },
  {
   "cell_type": "markdown",
   "metadata": {},
   "source": [
    "### Second Order Difference Equation"
   ]
  },
  {
   "cell_type": "code",
   "execution_count": 29,
   "metadata": {
    "ExecuteTime": {
     "end_time": "2018-02-17T02:19:52.694348Z",
     "start_time": "2018-02-17T02:19:52.690838Z"
    }
   },
   "outputs": [],
   "source": [
    "x,t,a,b,c,d, n, C0, y0, ybar = sym.symbols(\"x t a b c d n C0 y0 ybar\")\n",
    "y = sym.Function(\"y\")"
   ]
  },
  {
   "cell_type": "code",
   "execution_count": 30,
   "metadata": {
    "ExecuteTime": {
     "end_time": "2018-02-17T02:19:52.793611Z",
     "start_time": "2018-02-17T02:19:52.695349Z"
    }
   },
   "outputs": [
    {
     "data": {
      "image/png": "[encoded data removed]",
      "text/latex": [
       "$$y{\\left (n + 1 \\right )} = d + 3 y{\\left (n \\right )}$$"
      ],
      "text/plain": [
       "y(n + 1) = d + 3⋅y(n)"
      ]
     },
     "execution_count": 30,
     "metadata": {},
     "output_type": "execute_result"
    }
   ],
   "source": [
    "ode=sym.Eq(y(n+1), 3*y(n) + d)\n",
    "ode"
   ]
  },
  {
   "cell_type": "code",
   "execution_count": null,
   "metadata": {},
   "outputs": [],
   "source": []
  },
  {
   "cell_type": "code",
   "execution_count": 31,
   "metadata": {
    "ExecuteTime": {
     "end_time": "2018-02-17T02:19:52.794113Z",
     "start_time": "2018-02-17T02:19:44.860Z"
    }
   },
   "outputs": [
    {
     "data": {
      "image/png": "[encoded data removed]",
      "text/latex": [
       "$$3^{n} C_{0} - \\frac{d}{2}$$"
      ],
      "text/plain": [
       " n      d\n",
       "3 ⋅C₀ - ─\n",
       "        2"
      ]
     },
     "execution_count": 31,
     "metadata": {},
     "output_type": "execute_result"
    }
   ],
   "source": [
    "ode_sol=sym.rsolve(ode,y(n))\n",
    "ode_sol"
   ]
  },
  {
   "cell_type": "code",
   "execution_count": null,
   "metadata": {},
   "outputs": [],
   "source": []
  },
  {
   "cell_type": "code",
   "execution_count": null,
   "metadata": {},
   "outputs": [],
   "source": []
  },
  {
   "cell_type": "markdown",
   "metadata": {},
   "source": [
    "### A first order homogeneous differential equation"
   ]
  },
  {
   "cell_type": "code",
   "execution_count": 32,
   "metadata": {
    "ExecuteTime": {
     "end_time": "2018-02-17T02:19:52.795115Z",
     "start_time": "2018-02-17T02:19:44.865Z"
    }
   },
   "outputs": [],
   "source": [
    "#https://www.youtube.com/watch?v=4X0SGGrXDiI\n",
    "\n",
    "a, t, y0 = sym.symbols(\"a t y0\")\n",
    "y = sym.Function(\"y\")"
   ]
  },
  {
   "cell_type": "code",
   "execution_count": 33,
   "metadata": {
    "ExecuteTime": {
     "end_time": "2018-02-17T02:19:52.796118Z",
     "start_time": "2018-02-17T02:19:44.868Z"
    }
   },
   "outputs": [
    {
     "data": {
      "image/png": "[encoded data removed]",
      "text/latex": [
       "$$\\frac{d}{d t} y{\\left (t \\right )} = a y{\\left (t \\right )}$$"
      ],
      "text/plain": [
       "d                \n",
       "──(y(t)) = a⋅y(t)\n",
       "dt               "
      ]
     },
     "execution_count": 33,
     "metadata": {},
     "output_type": "execute_result"
    }
   ],
   "source": [
    "ode=sym.Eq(y(t).diff(t), a*y(t))\n",
    "ode"
   ]
  },
  {
   "cell_type": "markdown",
   "metadata": {},
   "source": [
    "- y: money in bank\n",
    "- a: interest rate, for example 6%\n",
    "- t: time year\n"
   ]
  },
  {
   "cell_type": "code",
   "execution_count": null,
   "metadata": {
    "ExecuteTime": {
     "end_time": "2018-02-17T02:19:52.797622Z",
     "start_time": "2018-02-17T02:19:44.870Z"
    }
   },
   "outputs": [],
   "source": [
    "sym.classify_ode(ode)"
   ]
  },
  {
   "cell_type": "code",
   "execution_count": null,
   "metadata": {
    "ExecuteTime": {
     "end_time": "2018-02-17T02:19:52.799125Z",
     "start_time": "2018-02-17T02:19:44.872Z"
    }
   },
   "outputs": [],
   "source": [
    "ode_sol=sym.dsolve(ode, y(t), hint=\"separable\")\n",
    "ode_sol"
   ]
  },
  {
   "cell_type": "code",
   "execution_count": null,
   "metadata": {
    "ExecuteTime": {
     "end_time": "2018-02-17T02:19:52.800129Z",
     "start_time": "2018-02-17T02:19:44.874Z"
    }
   },
   "outputs": [],
   "source": [
    "ode_sol.free_symbols"
   ]
  },
  {
   "cell_type": "code",
   "execution_count": null,
   "metadata": {
    "ExecuteTime": {
     "end_time": "2018-02-17T02:19:52.801131Z",
     "start_time": "2018-02-17T02:19:44.876Z"
    }
   },
   "outputs": [],
   "source": [
    "ics = {y(0): y0}"
   ]
  },
  {
   "cell_type": "code",
   "execution_count": null,
   "metadata": {
    "ExecuteTime": {
     "end_time": "2018-02-17T02:19:52.802134Z",
     "start_time": "2018-02-17T02:19:44.878Z"
    }
   },
   "outputs": [],
   "source": [
    "def apply_ics(sol, ics, x, known_params):\n",
    "    \"\"\"\n",
    "    Apply the initial conditions (ics), given as a dictionary on\n",
    "    the form ics = {y(0): y0: y(x).diff(x).subs(x, 0): yp0, ...}\n",
    "    to the solution of the ODE with indepdendent variable x.\n",
    "    The undetermined integration constants C1, C2, ... are extracted\n",
    "    from the free symbols of the ODE solution, excluding symbols in\n",
    "    the known_params list.\n",
    "    \"\"\"\n",
    "    free_params = sol.free_symbols - set(known_params)\n",
    "    eqs = [(sol.lhs.diff(x, n) - sol.rhs.diff(x, n)).subs(x, 0).subs(ics)\n",
    "           for n in range(len(ics))]\n",
    "    sol_params = sym.solve(eqs, free_params)\n",
    "    return sol.subs(sol_params)"
   ]
  },
  {
   "cell_type": "code",
   "execution_count": null,
   "metadata": {
    "ExecuteTime": {
     "end_time": "2018-02-17T02:19:52.803136Z",
     "start_time": "2018-02-17T02:19:44.880Z"
    }
   },
   "outputs": [],
   "source": [
    "apply_ics(ode_sol, ics, t, [a])"
   ]
  },
  {
   "cell_type": "code",
   "execution_count": null,
   "metadata": {},
   "outputs": [],
   "source": []
  },
  {
   "cell_type": "markdown",
   "metadata": {},
   "source": [
    "### Second Order Differential Equation"
   ]
  },
  {
   "cell_type": "markdown",
   "metadata": {},
   "source": [
    "#### Define the differential equation as a sym.Eq()"
   ]
  },
  {
   "cell_type": "code",
   "execution_count": null,
   "metadata": {
    "ExecuteTime": {
     "end_time": "2018-02-17T02:19:52.803637Z",
     "start_time": "2018-02-17T02:19:44.883Z"
    }
   },
   "outputs": [],
   "source": [
    "x,t, b,c,d, n, C0, y0 = sym.symbols(\"x t  b c d n C0 y0\")\n",
    "f = sym.Function(\"f\")"
   ]
  },
  {
   "cell_type": "code",
   "execution_count": null,
   "metadata": {
    "ExecuteTime": {
     "end_time": "2018-02-17T02:19:52.805143Z",
     "start_time": "2018-02-17T02:19:44.888Z"
    }
   },
   "outputs": [],
   "source": [
    "diffeq = sym.Eq(f(t).diff(t, t) - 2*f(t).diff(t) + f(t), sym.sin(t))\n",
    "diffeq"
   ]
  },
  {
   "cell_type": "markdown",
   "metadata": {},
   "source": [
    "#### Solve differential equation"
   ]
  },
  {
   "cell_type": "code",
   "execution_count": null,
   "metadata": {
    "ExecuteTime": {
     "end_time": "2018-02-17T02:19:52.806144Z",
     "start_time": "2018-02-17T02:19:44.891Z"
    }
   },
   "outputs": [],
   "source": [
    "soln = sym.dsolve(diffeq,f(t))\n",
    "soln"
   ]
  },
  {
   "cell_type": "markdown",
   "metadata": {},
   "source": [
    "#### Boundary conditions\n",
    "This isn't implemented yet in `dsolve` -- it's on the \"to do\" list<br>\n",
    "For now, solve for contants on your own. For example, if\n",
    "$$ f(0) = 1\\quad\\mbox{and}\\quad\\left.\\frac{df}{dx}\\right|_0 = 0,  $$\n",
    "solve the following equations:"
   ]
  },
  {
   "cell_type": "code",
   "execution_count": null,
   "metadata": {
    "ExecuteTime": {
     "end_time": "2018-02-17T02:19:52.807147Z",
     "start_time": "2018-02-17T02:19:44.893Z"
    }
   },
   "outputs": [],
   "source": [
    "constants = sym.solve([soln.rhs.subs(t,0) - 1, soln.rhs.diff(t,1).subs(t,0)- 0])\n",
    "constants"
   ]
  },
  {
   "cell_type": "code",
   "execution_count": null,
   "metadata": {
    "ExecuteTime": {
     "end_time": "2018-02-17T02:19:52.808149Z",
     "start_time": "2018-02-17T02:19:44.897Z"
    }
   },
   "outputs": [],
   "source": [
    "C1, C2 = sym.symbols('C1,C2')\n",
    "soln = soln.subs(constants)\n",
    "soln"
   ]
  },
  {
   "cell_type": "markdown",
   "metadata": {},
   "source": [
    "#### Convert soln to python function for numerical evaluation/plotting\n",
    "I'm not sure why I had to specify the modulue for conversion of sympy functions.<br>\n",
    "See http://docs.sympy.org/latest/modules/utilities/lambdify.html<br>\n",
    "In previous examples, sympy figured out a good module \"on its own.\" "
   ]
  },
  {
   "cell_type": "code",
   "execution_count": null,
   "metadata": {
    "ExecuteTime": {
     "end_time": "2018-02-17T02:19:52.809153Z",
     "start_time": "2018-02-17T02:19:44.900Z"
    }
   },
   "outputs": [],
   "source": [
    "func = sym.lambdify(t,soln.rhs,'numpy')"
   ]
  },
  {
   "cell_type": "code",
   "execution_count": null,
   "metadata": {
    "ExecuteTime": {
     "end_time": "2018-02-17T02:19:52.810155Z",
     "start_time": "2018-02-17T02:19:44.902Z"
    }
   },
   "outputs": [],
   "source": [
    "xx = sp.arange(-1,1,.01)  # name = xx so it won't collide with symbol x\n",
    "y = func(xx)\n",
    "plt.figure(1)\n",
    "plt.plot(xx,y);"
   ]
  },
  {
   "cell_type": "code",
   "execution_count": null,
   "metadata": {
    "ExecuteTime": {
     "end_time": "2018-02-17T02:19:52.811158Z",
     "start_time": "2018-02-17T02:19:44.904Z"
    }
   },
   "outputs": [],
   "source": [
    "from IPython.core.display import HTML, Image\n",
    "css_file = '../../custom.css'\n",
    "HTML(open(css_file, 'r').read())"
   ]
  },
  {
   "cell_type": "code",
   "execution_count": null,
   "metadata": {
    "ExecuteTime": {
     "end_time": "2018-02-17T02:19:52.812160Z",
     "start_time": "2018-02-17T02:19:44.906Z"
    }
   },
   "outputs": [],
   "source": [
    "#%load_ext watermark\n",
    "%watermark -v -m -p sympy,matplotlib -g"
   ]
  }
 ],
 "metadata": {
  "anaconda-cloud": {},
  "kernelspec": {
   "display_name": "Python [default]",
   "language": "python",
   "name": "python3"
  },
  "language_info": {
   "codemirror_mode": {
    "name": "ipython",
    "version": 3
   },
   "file_extension": ".py",
   "mimetype": "text/x-python",
   "name": "python",
   "nbconvert_exporter": "python",
   "pygments_lexer": "ipython3",
   "version": "3.6.4"
  }
 },
 "nbformat": 4,
 "nbformat_minor": 1
}
