{
 "cells": [
  {
   "cell_type": "code",
   "execution_count": null,
   "metadata": {
    "ExecuteTime": {
     "end_time": "2018-01-20T19:19:05.747763Z",
     "start_time": "2018-01-20T19:19:05.622165Z"
    },
    "collapsed": true
   },
   "outputs": [],
   "source": [
    "import sympy\n",
    "from sympy import init_printing # Latex printing to screen\n",
    "init_printing(use_latex = 'mathjax')\n",
    "\n",
    "%config InlineBackend.figure_format='retina'\n",
    "import matplotlib.pyplot as plt\n",
    "import matplotlib as mpl\n",
    "#mpl.rcParams['text.usetex'] = True\n",
    "%matplotlib inline\n",
    "\n",
    "import numpy as np\n",
    "\n",
    "from warnings import filterwarnings # Ignoring ugly pink warnings\n",
    "filterwarnings('ignore')\n"
   ]
  },
  {
   "cell_type": "markdown",
   "metadata": {},
   "source": [
    "# Differential Equation\n",
    "\n",
    "## Motivation"
   ]
  },
  {
   "cell_type": "markdown",
   "metadata": {},
   "source": [
    "### Saving\n",
    "\n",
    "Solve  $${ y }_{ 0 },\\quad { y }_{ 1 }=b y_0,\\quad { y }_{ n }=b{ y }_{ n-1 }$$ "
   ]
  },
  {
   "cell_type": "code",
   "execution_count": null,
   "metadata": {
    "ExecuteTime": {
     "end_time": "2018-01-20T19:19:13.793865Z",
     "start_time": "2018-01-20T19:19:13.790884Z"
    },
    "collapsed": true
   },
   "outputs": [],
   "source": [
    "b,c,d, n, y0 = sympy.symbols(\"b c d n y0\")\n",
    "y = sympy.Function(\"y\")"
   ]
  },
  {
   "cell_type": "markdown",
   "metadata": {},
   "source": [
    "### A first order homogeneous difference equation"
   ]
  },
  {
   "cell_type": "code",
   "execution_count": null,
   "metadata": {
    "ExecuteTime": {
     "end_time": "2018-01-20T19:19:14.772762Z",
     "start_time": "2018-01-20T19:19:14.710095Z"
    }
   },
   "outputs": [],
   "source": [
    "ode=sympy.Eq(y(n), b*y(n-1))\n",
    "ode"
   ]
  },
  {
   "cell_type": "code",
   "execution_count": null,
   "metadata": {
    "ExecuteTime": {
     "end_time": "2018-01-20T19:19:15.834147Z",
     "start_time": "2018-01-20T19:19:15.734730Z"
    }
   },
   "outputs": [],
   "source": [
    "sympy.rsolve(ode,y(n))"
   ]
  },
  {
   "cell_type": "markdown",
   "metadata": {},
   "source": [
    "This function is usually referred to as the **complementary function/solution** of the general first-order difference equation, when we consider the modified first-order difference equation in which we simply ignore the right-hand-side term d.\n"
   ]
  },
  {
   "cell_type": "markdown",
   "metadata": {},
   "source": [
    "### general first-order difference equation"
   ]
  },
  {
   "cell_type": "code",
   "execution_count": null,
   "metadata": {
    "ExecuteTime": {
     "end_time": "2018-01-20T19:19:25.946859Z",
     "start_time": "2018-01-20T19:19:25.936331Z"
    }
   },
   "outputs": [],
   "source": [
    "ode=sympy.Eq(y(n+1) + c*y(n), d)\n",
    "ode"
   ]
  },
  {
   "cell_type": "code",
   "execution_count": null,
   "metadata": {
    "ExecuteTime": {
     "end_time": "2018-01-20T19:19:33.170544Z",
     "start_time": "2018-01-20T19:19:33.130923Z"
    }
   },
   "outputs": [],
   "source": [
    "ode_sol=sympy.rsolve(ode,y(n))\n",
    "ode_sol"
   ]
  },
  {
   "cell_type": "markdown",
   "metadata": {},
   "source": [
    "It is called **general solution** as it is independent of a starting/initial value"
   ]
  },
  {
   "cell_type": "code",
   "execution_count": null,
   "metadata": {
    "ExecuteTime": {
     "end_time": "2018-01-17T06:34:39.064942Z",
     "start_time": "2018-01-17T06:34:39.054948Z"
    }
   },
   "outputs": [],
   "source": [
    "ics = {y(0): y0}\n",
    "ics #initial condition"
   ]
  },
  {
   "cell_type": "code",
   "execution_count": null,
   "metadata": {
    "ExecuteTime": {
     "end_time": "2018-01-17T06:34:39.091526Z",
     "start_time": "2018-01-17T06:34:39.065929Z"
    }
   },
   "outputs": [],
   "source": [
    "C_eq = sympy.Eq(y(n).subs(n, 0).subs(ics), ode_sol.subs(n, 0))\n",
    "C_eq"
   ]
  },
  {
   "cell_type": "code",
   "execution_count": null,
   "metadata": {
    "ExecuteTime": {
     "end_time": "2018-01-17T06:34:39.210528Z",
     "start_time": "2018-01-17T06:34:39.092501Z"
    }
   },
   "outputs": [],
   "source": [
    "C_sol = sympy.solve(C_eq)\n",
    "C_sol"
   ]
  },
  {
   "cell_type": "code",
   "execution_count": null,
   "metadata": {
    "ExecuteTime": {
     "end_time": "2018-01-17T06:34:39.223485Z",
     "start_time": "2018-01-17T06:34:39.212819Z"
    }
   },
   "outputs": [],
   "source": [
    "ode_sol.subs(C_sol[0])"
   ]
  },
  {
   "cell_type": "markdown",
   "metadata": {},
   "source": [
    "This expression is called the **definite solution** to the general first-order difference equation"
   ]
  },
  {
   "cell_type": "markdown",
   "metadata": {},
   "source": [
    "### A first order homogeneous differential equation"
   ]
  },
  {
   "cell_type": "code",
   "execution_count": null,
   "metadata": {
    "ExecuteTime": {
     "end_time": "2018-01-20T19:21:33.499840Z",
     "start_time": "2018-01-20T19:21:33.496330Z"
    },
    "collapsed": true
   },
   "outputs": [],
   "source": [
    "#https://www.youtube.com/watch?v=4X0SGGrXDiI\n",
    "\n",
    "a, t, y0 = sympy.symbols(\"a t y0\")\n",
    "y = sympy.Function(\"y\")"
   ]
  },
  {
   "cell_type": "code",
   "execution_count": null,
   "metadata": {
    "ExecuteTime": {
     "end_time": "2018-01-20T19:21:34.073158Z",
     "start_time": "2018-01-20T19:21:34.064635Z"
    }
   },
   "outputs": [],
   "source": [
    "ode=sympy.Eq(y(t).diff(t), a*y(t))\n",
    "ode"
   ]
  },
  {
   "cell_type": "markdown",
   "metadata": {},
   "source": [
    "- y: money in bank\n",
    "- a: interest rate, for example 6%\n",
    "- t: time year\n"
   ]
  },
  {
   "cell_type": "code",
   "execution_count": null,
   "metadata": {
    "ExecuteTime": {
     "end_time": "2018-01-20T19:21:35.482060Z",
     "start_time": "2018-01-20T19:21:35.305093Z"
    }
   },
   "outputs": [],
   "source": [
    "sympy.classify_ode(ode)"
   ]
  },
  {
   "cell_type": "code",
   "execution_count": null,
   "metadata": {
    "ExecuteTime": {
     "end_time": "2018-01-20T19:21:36.288150Z",
     "start_time": "2018-01-20T19:21:36.083766Z"
    }
   },
   "outputs": [],
   "source": [
    "ode_sol=sympy.dsolve(ode, y(t), hint=\"separable\")\n",
    "ode_sol"
   ]
  },
  {
   "cell_type": "code",
   "execution_count": null,
   "metadata": {
    "ExecuteTime": {
     "end_time": "2018-01-20T19:23:07.610133Z",
     "start_time": "2018-01-20T19:23:07.605623Z"
    }
   },
   "outputs": [],
   "source": [
    "ode_sol.free_symbols"
   ]
  },
  {
   "cell_type": "code",
   "execution_count": null,
   "metadata": {
    "ExecuteTime": {
     "end_time": "2018-01-20T19:23:08.391188Z",
     "start_time": "2018-01-20T19:23:08.388658Z"
    },
    "collapsed": true
   },
   "outputs": [],
   "source": [
    "ics = {y(0): y0}"
   ]
  },
  {
   "cell_type": "code",
   "execution_count": null,
   "metadata": {
    "ExecuteTime": {
     "end_time": "2018-01-20T19:23:09.369019Z",
     "start_time": "2018-01-20T19:23:09.362500Z"
    },
    "collapsed": true
   },
   "outputs": [],
   "source": [
    "def apply_ics(sol, ics, x, known_params):\n",
    "    \"\"\"\n",
    "    Apply the initial conditions (ics), given as a dictionary on\n",
    "    the form ics = {y(0): y0: y(x).diff(x).subs(x, 0): yp0, ...}\n",
    "    to the solution of the ODE with indepdendent variable x.\n",
    "    The undetermined integration constants C1, C2, ... are extracted\n",
    "    from the free symbols of the ODE solution, excluding symbols in\n",
    "    the known_params list.\n",
    "    \"\"\"\n",
    "    free_params = sol.free_symbols - set(known_params)\n",
    "    eqs = [(sol.lhs.diff(x, n) - sol.rhs.diff(x, n)).subs(x, 0).subs(ics)\n",
    "           for n in range(len(ics))]\n",
    "    sol_params = sympy.solve(eqs, free_params)\n",
    "    return sol.subs(sol_params)"
   ]
  },
  {
   "cell_type": "code",
   "execution_count": null,
   "metadata": {
    "ExecuteTime": {
     "end_time": "2018-01-20T19:23:10.481703Z",
     "start_time": "2018-01-20T19:23:10.468167Z"
    }
   },
   "outputs": [],
   "source": [
    "apply_ics(ode_sol, ics, t, [a])"
   ]
  },
  {
   "cell_type": "markdown",
   "metadata": {},
   "source": [
    "### Step by step process"
   ]
  },
  {
   "cell_type": "code",
   "execution_count": null,
   "metadata": {
    "ExecuteTime": {
     "end_time": "2018-01-17T06:34:39.497772Z",
     "start_time": "2018-01-17T06:34:39.493761Z"
    }
   },
   "outputs": [],
   "source": [
    "ode_sol.lhs"
   ]
  },
  {
   "cell_type": "code",
   "execution_count": null,
   "metadata": {
    "ExecuteTime": {
     "end_time": "2018-01-17T06:34:39.519329Z",
     "start_time": "2018-01-17T06:34:39.498775Z"
    }
   },
   "outputs": [],
   "source": [
    "ode_sol.lhs.subs(t, 0)"
   ]
  },
  {
   "cell_type": "code",
   "execution_count": null,
   "metadata": {
    "ExecuteTime": {
     "end_time": "2018-01-17T06:34:39.544897Z",
     "start_time": "2018-01-17T06:34:39.520332Z"
    }
   },
   "outputs": [],
   "source": [
    "ode_sol.rhs"
   ]
  },
  {
   "cell_type": "code",
   "execution_count": null,
   "metadata": {
    "ExecuteTime": {
     "end_time": "2018-01-17T06:34:39.566956Z",
     "start_time": "2018-01-17T06:34:39.545899Z"
    }
   },
   "outputs": [],
   "source": [
    "ics = {y(0): y0}\n",
    "ics #initial condition"
   ]
  },
  {
   "cell_type": "code",
   "execution_count": null,
   "metadata": {
    "ExecuteTime": {
     "end_time": "2018-01-17T06:34:39.590017Z",
     "start_time": "2018-01-17T06:34:39.567958Z"
    }
   },
   "outputs": [],
   "source": [
    "C_eq = sympy.Eq(ode_sol.lhs.subs(t, 0).subs(ics), ode_sol.rhs.subs(t, 0))\n",
    "C_eq"
   ]
  },
  {
   "cell_type": "code",
   "execution_count": null,
   "metadata": {
    "ExecuteTime": {
     "end_time": "2018-01-17T06:34:39.615586Z",
     "start_time": "2018-01-17T06:34:39.591019Z"
    }
   },
   "outputs": [],
   "source": [
    "C_sol = sympy.solve(C_eq)\n",
    "C_sol"
   ]
  },
  {
   "cell_type": "code",
   "execution_count": null,
   "metadata": {
    "ExecuteTime": {
     "end_time": "2018-01-17T06:34:39.637141Z",
     "start_time": "2018-01-17T06:34:39.617089Z"
    }
   },
   "outputs": [],
   "source": [
    "ode_sol=ode_sol.subs(C_sol[0])\n",
    "ode_sol"
   ]
  },
  {
   "cell_type": "code",
   "execution_count": null,
   "metadata": {
    "ExecuteTime": {
     "end_time": "2018-01-17T06:34:39.658197Z",
     "start_time": "2018-01-17T06:34:39.638144Z"
    }
   },
   "outputs": [],
   "source": [
    "ode_sol.rhs"
   ]
  },
  {
   "cell_type": "code",
   "execution_count": null,
   "metadata": {
    "ExecuteTime": {
     "end_time": "2018-01-17T06:34:39.680257Z",
     "start_time": "2018-01-17T06:34:39.659200Z"
    }
   },
   "outputs": [],
   "source": [
    "ode_sol.rhs.subs({y0: 100})"
   ]
  },
  {
   "cell_type": "code",
   "execution_count": null,
   "metadata": {
    "ExecuteTime": {
     "end_time": "2018-01-17T06:42:13.810659Z",
     "start_time": "2018-01-17T06:42:13.806164Z"
    },
    "collapsed": true
   },
   "outputs": [],
   "source": [
    "y_t = sympy.lambdify((t,a), ode_sol.rhs.subs({y0: 1}), 'numpy')\n",
    "#def y_t(t,a):\n",
    "#    return 100*np.exp(t*a)"
   ]
  },
  {
   "cell_type": "code",
   "execution_count": null,
   "metadata": {
    "ExecuteTime": {
     "end_time": "2018-01-17T06:42:16.613788Z",
     "start_time": "2018-01-17T06:42:16.374152Z"
    }
   },
   "outputs": [],
   "source": [
    "\n",
    "fig, ax = plt.subplots(figsize=(8, 4))\n",
    "\n",
    "t = np.linspace(0, 4, 100)\n",
    "\n",
    "for a in [0.02, 0.04, 0.06]:\n",
    "    ax.plot(t, y_t(t, a), label=r\"$a=%.2f$\" % a)\n",
    "\n",
    "ax.set_title(r\"$%s$\" % sympy.latex(ode_sol), fontsize=18)\n",
    "ax.set_xlabel(r\"$x$\", fontsize=18)\n",
    "ax.set_ylabel(r\"$y$\", fontsize=18)\n",
    "ax.legend()\n",
    "\n",
    "fig.tight_layout()"
   ]
  },
  {
   "cell_type": "code",
   "execution_count": null,
   "metadata": {
    "ExecuteTime": {
     "end_time": "2018-01-17T06:45:58.379303Z",
     "start_time": "2018-01-17T06:45:58.120058Z"
    }
   },
   "outputs": [],
   "source": [
    "fig, ax = plt.subplots(figsize=(8, 4))\n",
    "\n",
    "t = np.linspace(0, 4, 100)\n",
    "\n",
    "for i in [1, 1.5, 2]:\n",
    "    y_tt = lambda t,a: i*np.exp(a*t)\n",
    "    ax.plot(t, y_tt(t, 0.06), label=r\"$initial=%.2f$\" % i)\n",
    "\n",
    "ax.set_title(r\"$%s$\" % sympy.latex(ode_sol), fontsize=18)\n",
    "ax.set_xlabel(r\"$x$\", fontsize=18)\n",
    "ax.set_ylabel(r\"$y$\", fontsize=18)\n",
    "ax.legend()\n",
    "\n",
    "fig.tight_layout()"
   ]
  },
  {
   "cell_type": "markdown",
   "metadata": {},
   "source": [
    "### Direction fields"
   ]
  },
  {
   "cell_type": "code",
   "execution_count": null,
   "metadata": {
    "ExecuteTime": {
     "end_time": "2018-01-17T07:23:16.027748Z",
     "start_time": "2018-01-17T07:23:15.999673Z"
    },
    "collapsed": true
   },
   "outputs": [],
   "source": [
    "def plot_direction_field(x, y_x, f_xy, x_lim=(-5, 5), y_lim=(-5, 5),head_width=0.01,ax=None):\n",
    "    \n",
    "    f_np = sympy.lambdify((x, y_x), f_xy, 'numpy')\n",
    "    \n",
    "    x_vec = np.linspace(x_lim[0], x_lim[1], 20)\n",
    "    y_vec = np.linspace(y_lim[0], y_lim[1], 20)\n",
    "    \n",
    "    if ax is None:\n",
    "        _, ax = plt.subplots(figsize=(4, 4))\n",
    "\n",
    "    #dx = x_vec[1] - x_vec[0]\n",
    "    #dy = y_vec[1] - y_vec[0]\n",
    "\n",
    "    for m, xx in enumerate(x_vec):\n",
    "        for n, yy in enumerate(y_vec):\n",
    "            #Dy = f_np(xx, yy) * dx\n",
    "            #Dx = 0.8 * dx**2 / np.sqrt(dx**2 + Dy**2)\n",
    "            #Dy = 0.8 * Dy*dy / np.sqrt(dx**2 + Dy**2)            \n",
    "            #ax.plot([xx - Dx/2, xx + Dx/2],\n",
    "            #        [yy - Dy/2, yy + Dy/2], 'b', lw=0.5)\n",
    "            m=f(xx,yy)\n",
    "            h=0.25/np.sqrt(1.+m**2)\n",
    "            ax.plot([xx-h,xx+h],[yy-m*h,yy+m*h],'b')\n",
    "            ax.arrow(xx-h,yy-m*h,2*h,2*m*h, head_width=0.01, head_length=0.1, fc='b', ec='b')             \n",
    "    ax.axis('tight')\n",
    "\n",
    "    ax.set_title(r\"$%s$\" %\n",
    "                 (sympy.latex(sympy.Eq(y(x).diff(x), f_xy))),\n",
    "                 fontsize=18)\n",
    "    \n",
    "    return ax"
   ]
  },
  {
   "cell_type": "code",
   "execution_count": null,
   "metadata": {
    "ExecuteTime": {
     "end_time": "2018-01-17T07:23:18.017692Z",
     "start_time": "2018-01-17T07:23:18.014685Z"
    },
    "collapsed": true
   },
   "outputs": [],
   "source": [
    "f = lambda x,y: 0.06*y\n",
    "\n",
    "def yexact(t,t0,y0):       # exact solution y(x) that satisfies y(x0)=y0\n",
    "    y =y0*np.exp(0.06*t)\n",
    "    return y"
   ]
  },
  {
   "cell_type": "code",
   "execution_count": null,
   "metadata": {
    "ExecuteTime": {
     "end_time": "2018-01-17T07:23:20.652027Z",
     "start_time": "2018-01-17T07:23:19.399189Z"
    }
   },
   "outputs": [],
   "source": [
    "x = sympy.symbols(\"x\")\n",
    "y = sympy.Function(\"y\")\n",
    "\n",
    "fig, ax = plt.subplots( figsize=(16, 8))\n",
    "\n",
    "plot_direction_field(x, y(x), 0.06*y(x), x_lim=(0, 4), y_lim=(1, 2.6), ax = ax)\n",
    "\n",
    "#\t\t\t\t\tII. Dot at given (x0,y0) and solution curve through (x0,y0)\n",
    "t0=0; y0=1\n",
    "ax.plot([t0],[y0],'mo',markersize = 16) # 'm'agenta d'o't\n",
    "X=np.linspace(0,4,101)  # t[0]=0., .., t[100]=4.\n",
    "Y=[yexact(t,t0,y0) for t in X]\n",
    "ax.plot(X,Y,'m',linewidth=4) # lines joining points (X[i],Y[i]), 'm'agenta\n",
    "\n",
    "#\t\t\t\t\tII. Dot at given (x0,y0) and solution curve through (x0,y0)\n",
    "t0=0; y0=1.5\n",
    "ax.plot([t0],[y0],'mo',markersize = 16) # 'm'agenta d'o't\n",
    "X=np.linspace(0,4,101)  # t[0]=0., .., t[100]=4.\n",
    "Y=[yexact(t,t0,y0) for t in X]\n",
    "ax.plot(X,Y,'m',linewidth=4) # lines joining points (X[i],Y[i]), 'm'agenta\n",
    "\n",
    "#\t\t\t\t\tII. Dot at given (x0,y0) and solution curve through (x0,y0)\n",
    "t0=0; y0=2\n",
    "ax.plot([t0],[y0],'mo',markersize = 16) # 'm'agenta d'o't\n",
    "X=np.linspace(0,4,101)  # t[0]=0., .., t[100]=4.\n",
    "Y=[yexact(t,t0,y0) for t in X]\n",
    "ax.plot(X,Y,'m',linewidth=4) # lines joining points (X[i],Y[i]), 'm'agenta\n",
    "\n",
    "\n",
    "\n",
    "\n",
    "fig.tight_layout()\n"
   ]
  },
  {
   "cell_type": "markdown",
   "metadata": {},
   "source": [
    "## A linear first order ordinary differential equation\n",
    "\n",
    "$$ {a}_{1} \\left( t \\right) \\frac{dy}{dt} + {a}_{0} \\left( t \\right) y = g \\left( t \\right) $$\n",
    "\n",
    "A linear equation can either be **homogeneous**, which is when $ g \\left( t \\right) = 0 $ or **nonhomogeneous** when $ g \\left( t \\right) \\ne 0 $.\n",
    "\n",
    "## The standard form\n",
    "\n",
    "In order to develop an analytical method for solving these equation, we write a linear ODE in **standard from**.  In this form the coefficient of $ y' \\left( t \\right) = 1 $.  To do this we divide throughout by $ {a}_{1} \\left( t \\right) $:\n",
    "$$ \\frac{dy}{dt} + \\frac{{a}_{0} \\left( t \\right)}{{a}_{1} \\left( t \\right)} y = \\frac{g \\left( t \\right)}{{a}_{1} \\left( t \\right)} \\\\ \\frac{dy}{dt} + P \\left( t \\right) y = f \\left( t \\right) $$\n",
    "\n",
    "\n",
    "when we say we are solving a differential equation, we mean that we attempt to an explicit expression for f as a function of x.\n",
    "\n",
    "The analystical method for solving a linear ODE provides our family of solutions with two parts:\n",
    "$$ y \\left( t \\right) = {y}_{c} \\left( t \\right) + {y}_{p} \\left( t \\right) $$\n",
    "\n",
    "\n",
    "\n",
    "Here $ {y}_{c} \\left( t \\right)  $ is associated with the homogeneous function, i.e. $ f \\left( t \\right) = 0 $ \n",
    "\n",
    "\n",
    "and $ {y}_{p} $ is the **particular solution**, when we restrict our focus momentarily by asking what the solution would be if we imposed the restriction that it be a constant over time.\n",
    "\n",
    "we may simply compute the particular and complementary solution, add them up to obtain the general solution, and finally determine the arbitrary constant C by using the initial condition."
   ]
  },
  {
   "cell_type": "markdown",
   "metadata": {},
   "source": [
    "## Separable variables\n",
    "\n",
    "Now that we have seen the easiest example, we are ready for the definition of a separable variabe ODE.  It is simple to see from the following form:\n",
    "$$ \\frac{dy}{dt} = f \\left( y \\right) g \\left( t \\right) $$\n",
    "\n",
    "\n",
    "\n",
    "Through *algebraic* manipulation we can get variables separated by the equal sign.  We are then left with an equation that is solvable by taking the derivative of both sides:\n",
    "$$ \\frac{1}{f \\left( y \\right)} dy = g \\left( t \\right) d \\left( t \\right) $$"
   ]
  },
  {
   "cell_type": "markdown",
   "metadata": {},
   "source": [
    "\n",
    "\n",
    "\n",
    "Let's do this example:\n",
    "$$ y' \\left( t \\right) = \\frac{-t}{y} $$\n",
    "\n",
    "\n",
    "Leibniz notation is best for these kind of probelms.\n",
    "$$ \\frac { dy }{ dt } =\\frac { -t }{ y } \\\\ ydy=-tdt\\\\ \\int { y } dy=-\\int { t } dt\\\\ \\frac { 1 }{ 2 } { y }^{ 2 }=-\\left( \\frac { 1 }{ 2 } { t }^{ 2 }+c \\right) \\\\ \\frac { 1 }{ 2 } { y }^{ 2 }=-\\frac { 1 }{ 2 } { t }^{ 2 }-c\\\\ { y }^{ 2 }=c-{ t }^{ 2 }\\\\ y=\\pm \\sqrt { c-{ t }^{ 2 } }  $$\n",
    "\n",
    "\n",
    "So, we have seen another form of classification, namely *separable* as in a *separable ODE*.  We can add this to the *ordinary* and *linear* classifications that we saw before."
   ]
  },
  {
   "cell_type": "markdown",
   "metadata": {},
   "source": [
    "## Bernouilli Methods\n",
    "\n",
    "http://mathworld.wolfram.com/BernoulliDifferentialEquation.html\n",
    "\n",
    "\n",
    "\n"
   ]
  },
  {
   "cell_type": "code",
   "execution_count": null,
   "metadata": {
    "collapsed": true
   },
   "outputs": [],
   "source": []
  },
  {
   "cell_type": "code",
   "execution_count": null,
   "metadata": {
    "collapsed": true
   },
   "outputs": [],
   "source": []
  },
  {
   "cell_type": "markdown",
   "metadata": {},
   "source": [
    "## The integrating factor\n",
    "\n",
    "\n",
    "We start of with the homogeneous form of our linear ODE and use a technique calle **variation of parameters**.  In the homogeneous form we can use a technique that we know well and that is the separation of variables:\n",
    "$$ \\frac { dy }{ dt } +P\\left( t \\right) y=0\\\\ \\frac { dy }{ dt } =-P\\left( t \\right) y\\\\ \\frac { 1 }{ y } dy=-P\\left( t \\right) dt\\\\ \\ln { \\left| y \\right|  } =-\\int { P\\left( t \\right)  } dt\\\\ y\\left( t \\right) ={ e }^{ -\\int { P\\left( t \\right)  } dt } $$\n",
    "\n",
    "\n",
    "This $ { e }^{ \\int { P\\left( t \\right)  } dt }$ is called the **integrating factor** and when we multiply our linear ODE throughout by this integrating function we have something very interesting.\n",
    "\n",
    "\n"
   ]
  },
  {
   "cell_type": "markdown",
   "metadata": {},
   "source": [
    "An example makes this clear:\n",
    "$$ \\frac{dy}{dx} -4y = 0 $$\n",
    "\n",
    "This is a separable ODE, so let's solve it using the technique that we know:\n",
    "$$ \\frac { dy }{ dt } -4y=0\\\\ \\frac { dy }{ dt } =4y\\\\ \\frac { 1 }{ y } dy=4dt\\\\ \\int { \\frac { 1 }{ y }  } dy=4\\int { dt } \\\\ \\ln { \\left| y \\right|  } =4t+c\\\\ y\\left( t \\right) ={ e }^{ 4t+c }\\\\ y\\left( t \\right) ={ e }^{ c }{ e }^{ 4t }\\\\ y\\left( t \\right) =c{ e }^{ 4t } $$"
   ]
  },
  {
   "cell_type": "markdown",
   "metadata": {},
   "source": [
    "## the technique of variation of parameters.  \n",
    "\n",
    "We note that the coefficient of $ y' \\left( t \\right) $ is already one.  That makes $ P \\left( t \\right) = -4 $.  Furthermore the ODE is homogeneous.\n",
    "\n",
    "The integrating factor is:\n",
    "$$ {e}^{\\int{P \\left( t \\right) } dt } \\\\ = {e}^{ \\int{-4} dt } \\\\ = {e}^{ -4t } $$\n",
    "\n",
    "Now, let's multiply thoughout by the integrating factor:\n",
    "$$ { e }^{ -4t }\\frac { dy }{ dt } -4y{ e }^{ -4t }=0 $$\n",
    "\n",
    "Remember how to differrentiate the product of two function?\n",
    "$$ \\frac { d }{ dt } \\left( uv \\right) =u'v+uv' $$\n",
    "\n",
    "\n",
    "If $ u = y $ and $ v = {e}^{-4t} $ then we actually have the following:\n",
    "$$ uv'+u'v\\quad =\\quad { e }^{ -4t }\\frac { dy }{ dt } -4y{ e }^{ -4t } $$\n",
    "\n",
    "\n",
    "We can rewrite this as:\n",
    "$$ \\frac { d }{ dt } \\left[ y\\left( t \\right) { e }^{ -4t } \\right] =0\\\\ \\int { \\frac { d }{ dt } \\left[ y\\left( t \\right) { e }^{ -4t } \\right]  } dt=\\int { 0 } dt\\\\ y\\left( t \\right) { e }^{ -4t }=c $$\n",
    "\n",
    "\n",
    "we integrated both sides with respect to $ t $.  On the left-hand side the integral and derivative *cancel out* and on the right-hand side that we end up with a constant.  We can see this because, going in reverse, the derivative of a constant is $ 0 $."
   ]
  },
  {
   "cell_type": "markdown",
   "metadata": {},
   "source": [
    "### Example 1"
   ]
  },
  {
   "cell_type": "code",
   "execution_count": null,
   "metadata": {
    "ExecuteTime": {
     "end_time": "2018-01-17T06:35:40.223402Z",
     "start_time": "2018-01-17T06:35:40.216883Z"
    }
   },
   "outputs": [],
   "source": [
    "a, t, y0 = sympy.symbols(\"a t y_0\")\n",
    "y = sympy.Function(\"y\")\n",
    "ex1 = y(t).diff(t) + 4 * t * y(t)\n",
    "ex1"
   ]
  },
  {
   "cell_type": "code",
   "execution_count": null,
   "metadata": {
    "ExecuteTime": {
     "end_time": "2018-01-17T06:35:42.045642Z",
     "start_time": "2018-01-17T06:35:41.872155Z"
    }
   },
   "outputs": [],
   "source": [
    "sympy.dsolve(ex1)"
   ]
  },
  {
   "cell_type": "markdown",
   "metadata": {},
   "source": [
    "Here is the long way:\n",
    "$$ \\frac { dy }{ dt } +4ty=0\\\\ P\\left( t \\right) =4t\\\\ { e }^{ \\int { P\\left( t \\right)  } dt }={ e }^{ 4\\int { t } dt }={ e }^{ 2{ t }^{ 2 } }\\\\ { e }^{ 2{ t }^{ 2 } }\\frac { dy }{ dt } +4t{ e }^{ 2{ t }^{ 2 } }y=0\\\\ u=y,v={ e }^{ 2{ t }^{ 2 } }\\\\ \\frac { d }{ dt } \\left[ { ye }^{ 2{ t }^{ 2 } } \\right] =0\\\\ \\int { \\frac { d }{ dt } \\left( y{ e }^{ 2{ t }^{ 2 } } \\right)  } dt=\\int { 0 } dt\\\\ y{ e }^{ 2{ t }^{ 2 } }=c\\\\ y\\left( t \\right) =c{ e }^{ -2{ t }^{ 2 } } $$"
   ]
  },
  {
   "cell_type": "markdown",
   "metadata": {},
   "source": [
    "### Example 2\n",
    "Now for a nonhomogeneous linear ODE:\n",
    "$$ t \\frac{dy}{dt} - 4 y = {t}^{6} {e}^{t} $$"
   ]
  },
  {
   "cell_type": "code",
   "execution_count": null,
   "metadata": {
    "ExecuteTime": {
     "end_time": "2018-01-17T06:35:43.519852Z",
     "start_time": "2018-01-17T06:35:43.511815Z"
    }
   },
   "outputs": [],
   "source": [
    "ex2 = t * y(t).diff(t) - 4 * y(t) - (t**6 * sympy.exp(t))\n",
    "ex2"
   ]
  },
  {
   "cell_type": "code",
   "execution_count": null,
   "metadata": {
    "ExecuteTime": {
     "end_time": "2018-01-17T06:35:43.991041Z",
     "start_time": "2018-01-17T06:35:43.727842Z"
    }
   },
   "outputs": [],
   "source": [
    "sympy.dsolve(ex3)"
   ]
  },
  {
   "cell_type": "markdown",
   "metadata": {},
   "source": [
    "By hand this will be:\n",
    "$$ t\\frac { dy }{ dt } -4y={ t }^{ 6 }{ e }^{ t }\\\\ \\frac { dy }{ dt } -\\frac { 4 }{ t } y={ t }^{ 5 }{ e }^{ t }\\\\ P\\left( t \\right) =\\frac { -4 }{ t } \\\\ { e }^{ \\int { P\\left( t \\right)  } dt }={ e }^{ -4\\int { \\frac { 1 }{ t }  } dt }={ e }^{ -4\\ln { \\left| t \\right|  }  }={ e }^{ \\ln { \\left( { t }^{ -4 } \\right)  }  }={ t }^{ -4 }\\quad \\dots [1]\\\\ \\therefore { t }^{ -4 }\\frac { dy }{ dt } -{ t }^{ -4 }\\frac { 4 }{ t } y={ t }^{ -4 }{ t }^{ 5 }{ e }^{ t }\\\\ { t }^{ -4 }\\frac { dy }{ dt } -\\frac { 4 }{ { t }^{ 5 } } y=t{ e }^{ t }\\\\ u=y,v={ t }^{ -4 }\\\\ \\frac { d }{ dt } \\left( y{ t }^{ -4 } \\right) =t{ e }^{ t }\\\\ \\int { \\frac { d }{ dt } \\left( y{ t }^{ -4 } \\right)  } dt=\\int { t{ e }^{ t } } dt\\\\ u=t,v'={ e }^{ t }\\quad \\dots [2]\\\\ u'=1,v={ e }^{ t }\\\\ \\int { uv' } =uv-\\int { u'v } \\\\ \\therefore \\int { t{ e }^{ t } } dt={ te }^{ t }-\\int { { e }^{ t } } dt={ te }^{ t }-{ e }^{ t }+c\\\\ \\frac { y\\left( t \\right)  }{ { t }^{ 4 } } ={ te }^{ t }-{ e }^{ t }+c\\\\ y\\left( t \\right) ={ t }^{ 4 }\\left( { te }^{ t }-{ e }^{ t }+c \\right) ={ t }^{ 5 }-{ t }^{ 4 }{ e }^{ t }+c{ t }^{ 4 }  $$"
   ]
  },
  {
   "cell_type": "code",
   "execution_count": null,
   "metadata": {
    "ExecuteTime": {
     "end_time": "2018-01-19T03:16:19.806444Z",
     "start_time": "2018-01-19T03:16:19.800926Z"
    },
    "collapsed": true
   },
   "outputs": [],
   "source": [
    "from IPython.core.display import HTML, Image\n",
    "css_file = '../../../../custom.css'\n",
    "HTML(open(css_file, 'r').read())"
   ]
  },
  {
   "cell_type": "code",
   "execution_count": null,
   "metadata": {
    "collapsed": true
   },
   "outputs": [],
   "source": []
  },
  {
   "cell_type": "code",
   "execution_count": null,
   "metadata": {
    "collapsed": true
   },
   "outputs": [],
   "source": []
  }
 ],
 "metadata": {
  "kernelspec": {
   "display_name": "Python 3",
   "language": "python",
   "name": "python3"
  },
  "language_info": {
   "codemirror_mode": {
    "name": "ipython",
    "version": 3
   },
   "file_extension": ".py",
   "mimetype": "text/x-python",
   "name": "python",
   "nbconvert_exporter": "python",
   "pygments_lexer": "ipython3",
   "version": "3.6.2"
  }
 },
 "nbformat": 4,
 "nbformat_minor": 2
}
