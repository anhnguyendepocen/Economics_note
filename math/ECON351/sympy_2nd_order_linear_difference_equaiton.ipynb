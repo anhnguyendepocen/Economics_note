{
 "cells": [
  {
   "cell_type": "markdown",
   "metadata": {},
   "source": [
    "## Symbolic solution of ODEs with sympy\n",
    "Intro to sympy variables in previous notebook."
   ]
  },
  {
   "cell_type": "code",
   "execution_count": 67,
   "metadata": {
    "ExecuteTime": {
     "end_time": "2018-02-17T03:26:32.711466Z",
     "start_time": "2018-02-17T03:26:32.645304Z"
    },
    "collapsed": true
   },
   "outputs": [],
   "source": [
    "import sympy as sym\n",
    "import sympy\n",
    "sym.init_printing() # for LaTeX formatted output\n",
    "\n",
    "import matplotlib.pyplot as plt\n",
    "import numpy as np\n",
    "import warnings\n",
    "warnings.filterwarnings('ignore')\n",
    "#plt.style.use(\"fivethirtyeight\")\n",
    "\n",
    "import scipy as sp\n",
    "import matplotlib as mpl       # As of July 2017 Bucknell computers use v. 2.x \n",
    "\n",
    "# Following is an Ipython magic command that puts figures in the  notebook.\n",
    "# For figures in separate windows, comment out following line and uncomment\n",
    "# the next line\n",
    "# Must come before defaults are changed.\n",
    "%matplotlib inline \n",
    "#notebook\n",
    "#%matplotlib\n",
    "%config InlineBackend.figure_format='retina'\n",
    "\n",
    "# As of Aug. 2017 reverting to 1.x defaults.\n",
    "# In 2.x text.ustex requires dvipng, texlive-latex-extra, and texlive-fonts-recommended, \n",
    "# which don't seem to be universal\n",
    "# See https://stackoverflow.com/questions/38906356/error-running-matplotlib-in-latex-type1cm?\n",
    "mpl.style.use('classic')\n",
    "        \n",
    "# M.L. modifications of matplotlib defaults using syntax of v.2.0 \n",
    "# More info at http://matplotlib.org/2.0.0/users/deflt_style_changes.html\n",
    "# Changes can also be put in matplotlibrc file, or effected using mpl.rcParams[]\n",
    "plt.rc('figure', figsize = (6, 4.5))            # Reduces overall size of figures\n",
    "plt.rc('axes', labelsize=16, titlesize=14)\n",
    "plt.rc('figure', autolayout = True)             # Adjusts supblot parameters for new size\n",
    "\n",
    "from helpFunction import *"
   ]
  },
  {
   "cell_type": "code",
   "execution_count": null,
   "metadata": {
    "collapsed": true
   },
   "outputs": [],
   "source": []
  },
  {
   "cell_type": "markdown",
   "metadata": {},
   "source": [
    "# Difference Equation\n",
    "\n",
    "## Motivation"
   ]
  },
  {
   "cell_type": "markdown",
   "metadata": {},
   "source": [
    "### Saving\n",
    "\n",
    "Solve  $${ y }_{ 0 },\\quad { y }_{ 1 }=b y_0,\\quad { y }_{ n }=b{ y }_{ n-1 }$$ "
   ]
  },
  {
   "cell_type": "code",
   "execution_count": 68,
   "metadata": {
    "ExecuteTime": {
     "end_time": "2018-02-17T03:26:32.716982Z",
     "start_time": "2018-02-17T03:26:32.712971Z"
    },
    "collapsed": true
   },
   "outputs": [],
   "source": [
    "x,t,b,c,d, n, r,C0,C1, y0, ybar = sym.symbols(\"x t b c d n r C0 C1 y0 ybar\")\n",
    "y = sym.Function(\"y\")"
   ]
  },
  {
   "cell_type": "markdown",
   "metadata": {},
   "source": [
    "### A first order homogeneous difference equation"
   ]
  },
  {
   "cell_type": "code",
   "execution_count": 69,
   "metadata": {
    "ExecuteTime": {
     "end_time": "2018-02-17T03:26:33.171413Z",
     "start_time": "2018-02-17T03:26:32.718486Z"
    }
   },
   "outputs": [
    {
     "data": {
      "image/png": "[encoded data removed]",
      "text/latex": [
       "$$y{\\left (n \\right )} = b y{\\left (n - 1 \\right )}$$"
      ],
      "text/plain": [
       "y(n) = b⋅y(n - 1)"
      ]
     },
     "execution_count": 69,
     "metadata": {},
     "output_type": "execute_result"
    }
   ],
   "source": [
    "ode=sym.Eq(y(n), b*y(n-1))\n",
    "ode"
   ]
  },
  {
   "cell_type": "code",
   "execution_count": 70,
   "metadata": {
    "ExecuteTime": {
     "end_time": "2018-02-17T03:26:33.584578Z",
     "start_time": "2018-02-17T03:26:33.172400Z"
    }
   },
   "outputs": [
    {
     "data": {
      "image/png": "[encoded data removed]",
      "text/latex": [
       "$$C_{0} b^{n}$$"
      ],
      "text/plain": [
       "    n\n",
       "C₀⋅b "
      ]
     },
     "execution_count": 70,
     "metadata": {},
     "output_type": "execute_result"
    }
   ],
   "source": [
    "sym.rsolve(ode,y(n))"
   ]
  },
  {
   "cell_type": "markdown",
   "metadata": {},
   "source": [
    "This function is usually referred to as the **complementary function/solution** of the general first-order difference equation, when we consider the modified first-order difference equation in which we simply ignore the right-hand-side term d.\n"
   ]
  },
  {
   "cell_type": "markdown",
   "metadata": {},
   "source": [
    "### general first-order difference equation"
   ]
  },
  {
   "cell_type": "code",
   "execution_count": 71,
   "metadata": {
    "ExecuteTime": {
     "end_time": "2018-02-17T03:26:33.981656Z",
     "start_time": "2018-02-17T03:26:33.586065Z"
    }
   },
   "outputs": [
    {
     "data": {
      "image/png": "[encoded data removed]",
      "text/latex": [
       "$$c y{\\left (n \\right )} + y{\\left (n + 1 \\right )} = d$$"
      ],
      "text/plain": [
       "c⋅y(n) + y(n + 1) = d"
      ]
     },
     "execution_count": 71,
     "metadata": {},
     "output_type": "execute_result"
    }
   ],
   "source": [
    "ode=sym.Eq(y(n+1) + c*y(n), d)\n",
    "ode"
   ]
  },
  {
   "cell_type": "code",
   "execution_count": 72,
   "metadata": {
    "ExecuteTime": {
     "end_time": "2018-02-17T03:26:34.422849Z",
     "start_time": "2018-02-17T03:26:33.982644Z"
    }
   },
   "outputs": [
    {
     "data": {
      "image/png": "[encoded data removed]",
      "text/latex": [
       "$$C_{0} \\left(- c\\right)^{n} + \\frac{d}{c + 1}$$"
      ],
      "text/plain": [
       "       n     d  \n",
       "C₀⋅(-c)  + ─────\n",
       "           c + 1"
      ]
     },
     "execution_count": 72,
     "metadata": {},
     "output_type": "execute_result"
    }
   ],
   "source": [
    "ode_sol=sym.rsolve(ode,y(n))\n",
    "ode_sol"
   ]
  },
  {
   "cell_type": "markdown",
   "metadata": {},
   "source": [
    "It is called **general solution** as it is independent of a starting/initial value"
   ]
  },
  {
   "cell_type": "code",
   "execution_count": 73,
   "metadata": {
    "ExecuteTime": {
     "end_time": "2018-02-17T03:26:34.850145Z",
     "start_time": "2018-02-17T03:26:34.424368Z"
    }
   },
   "outputs": [
    {
     "data": {
      "image/png": "[encoded data removed]",
      "text/latex": [
       "$$\\left \\{ y{\\left (0 \\right )} : y_{0}\\right \\}$$"
      ],
      "text/plain": [
       "{y(0): y₀}"
      ]
     },
     "execution_count": 73,
     "metadata": {},
     "output_type": "execute_result"
    }
   ],
   "source": [
    "ics = {y(0): y0}\n",
    "ics #initial condition"
   ]
  },
  {
   "cell_type": "code",
   "execution_count": 74,
   "metadata": {
    "ExecuteTime": {
     "end_time": "2018-02-17T03:26:35.397636Z",
     "start_time": "2018-02-17T03:26:34.851633Z"
    }
   },
   "outputs": [
    {
     "data": {
      "image/png": "[encoded data removed]",
      "text/latex": [
       "$$y_{0} = C_{0} + \\frac{d}{c + 1}$$"
      ],
      "text/plain": [
       "            d  \n",
       "y₀ = C₀ + ─────\n",
       "          c + 1"
      ]
     },
     "execution_count": 74,
     "metadata": {},
     "output_type": "execute_result"
    }
   ],
   "source": [
    "C_eq = sym.Eq(y(n).subs(n, 0).subs(ics), ode_sol.subs(n, 0))\n",
    "C_eq"
   ]
  },
  {
   "cell_type": "code",
   "execution_count": 75,
   "metadata": {
    "ExecuteTime": {
     "end_time": "2018-02-17T03:26:35.941051Z",
     "start_time": "2018-02-17T03:26:35.399140Z"
    }
   },
   "outputs": [
    {
     "data": {
      "image/png": "[encoded data removed]",
      "text/latex": [
       "$$\\left [ \\left \\{ C_{0} : \\frac{c y_{0} - d + y_{0}}{c + 1}\\right \\}\\right ]$$"
      ],
      "text/plain": [
       "⎡⎧    c⋅y₀ - d + y₀⎫⎤\n",
       "⎢⎨C₀: ─────────────⎬⎥\n",
       "⎣⎩        c + 1    ⎭⎦"
      ]
     },
     "execution_count": 75,
     "metadata": {},
     "output_type": "execute_result"
    }
   ],
   "source": [
    "C_sol = sym.solve(C_eq)\n",
    "C_sol"
   ]
  },
  {
   "cell_type": "code",
   "execution_count": 76,
   "metadata": {
    "ExecuteTime": {
     "end_time": "2018-02-17T03:26:36.456856Z",
     "start_time": "2018-02-17T03:26:35.942055Z"
    }
   },
   "outputs": [
    {
     "data": {
      "image/png": "[encoded data removed]",
      "text/latex": [
       "$$\\frac{d}{c + 1} + \\frac{\\left(- c\\right)^{n}}{c + 1} \\left(c y_{0} - d + y_{0}\\right)$$"
      ],
      "text/plain": [
       "            n                \n",
       "  d     (-c) ⋅(c⋅y₀ - d + y₀)\n",
       "───── + ─────────────────────\n",
       "c + 1           c + 1        "
      ]
     },
     "execution_count": 76,
     "metadata": {},
     "output_type": "execute_result"
    }
   ],
   "source": [
    "ode_sol.subs(C_sol[0])"
   ]
  },
  {
   "cell_type": "markdown",
   "metadata": {},
   "source": [
    "This expression is called the **definite solution** to the general first-order difference equation"
   ]
  },
  {
   "cell_type": "markdown",
   "metadata": {},
   "source": [
    "### Second Order Linear Difference Equation 2016m2q4"
   ]
  },
  {
   "cell_type": "code",
   "execution_count": 77,
   "metadata": {
    "ExecuteTime": {
     "end_time": "2018-02-17T03:26:36.888582Z",
     "start_time": "2018-02-17T03:26:36.457859Z"
    }
   },
   "outputs": [
    {
     "data": {
      "image/png": "[encoded data removed]",
      "text/latex": [
       "$$y{\\left (n \\right )} - y{\\left (n + 1 \\right )} + y{\\left (n + 2 \\right )} = 0$$"
      ],
      "text/plain": [
       "y(n) - y(n + 1) + y(n + 2) = 0"
      ]
     },
     "execution_count": 77,
     "metadata": {},
     "output_type": "execute_result"
    }
   ],
   "source": [
    "ode=sym.Eq(y(n+2)- y(n+1) + y(n),0)\n",
    "ode"
   ]
  },
  {
   "cell_type": "code",
   "execution_count": 78,
   "metadata": {
    "ExecuteTime": {
     "end_time": "2018-02-17T03:26:37.478650Z",
     "start_time": "2018-02-17T03:26:36.889585Z"
    }
   },
   "outputs": [
    {
     "data": {
      "image/png": "[encoded data removed]",
      "text/latex": [
       "$$C_{0} \\left(\\frac{1}{2} - \\frac{\\sqrt{3} i}{2}\\right)^{n} + C_{1} \\left(\\frac{1}{2} + \\frac{\\sqrt{3} i}{2}\\right)^{n}$$"
      ],
      "text/plain": [
       "             n                n\n",
       "   ⎛1   √3⋅ⅈ⎞       ⎛1   √3⋅ⅈ⎞ \n",
       "C₀⋅⎜─ - ────⎟  + C₁⋅⎜─ + ────⎟ \n",
       "   ⎝2    2  ⎠       ⎝2    2  ⎠ "
      ]
     },
     "execution_count": 78,
     "metadata": {},
     "output_type": "execute_result"
    }
   ],
   "source": [
    "ode_sol=sym.rsolve(ode,y(n))\n",
    "ode_sol"
   ]
  },
  {
   "cell_type": "markdown",
   "metadata": {},
   "source": [
    "### Steady States"
   ]
  },
  {
   "cell_type": "code",
   "execution_count": 79,
   "metadata": {
    "ExecuteTime": {
     "end_time": "2018-02-17T03:26:37.891776Z",
     "start_time": "2018-02-17T03:26:37.479653Z"
    }
   },
   "outputs": [
    {
     "data": {
      "image/png": "[encoded data removed]",
      "text/latex": [
       "$$\\bar{y} = 0$$"
      ],
      "text/plain": [
       "y̅ = 0"
      ]
     },
     "execution_count": 79,
     "metadata": {},
     "output_type": "execute_result"
    }
   ],
   "source": [
    "ss=sym.Eq(ybar-ybar + ybar,0)\n",
    "ss"
   ]
  },
  {
   "cell_type": "code",
   "execution_count": 80,
   "metadata": {
    "ExecuteTime": {
     "end_time": "2018-02-17T03:26:38.467307Z",
     "start_time": "2018-02-17T03:26:37.892780Z"
    }
   },
   "outputs": [
    {
     "data": {
      "image/png": "[encoded data removed]",
      "text/latex": [
       "$$\\left [ 0\\right ]$$"
      ],
      "text/plain": [
       "[0]"
      ]
     },
     "execution_count": 80,
     "metadata": {},
     "output_type": "execute_result"
    }
   ],
   "source": [
    "sym.solve(ss)"
   ]
  },
  {
   "cell_type": "markdown",
   "metadata": {
    "ExecuteTime": {
     "end_time": "2018-01-28T19:33:01.340833Z",
     "start_time": "2018-01-28T19:33:00.948777Z"
    }
   },
   "source": [
    "#### Characteristic Equation for Homogeneous Solutions"
   ]
  },
  {
   "cell_type": "code",
   "execution_count": 81,
   "metadata": {
    "ExecuteTime": {
     "end_time": "2018-02-17T03:26:38.966389Z",
     "start_time": "2018-02-17T03:26:38.468812Z"
    }
   },
   "outputs": [
    {
     "data": {
      "image/png": "[encoded data removed]",
      "text/latex": [
       "$$r^{2} - r + 1 = 0$$"
      ],
      "text/plain": [
       " 2            \n",
       "r  - r + 1 = 0"
      ]
     },
     "execution_count": 81,
     "metadata": {},
     "output_type": "execute_result"
    }
   ],
   "source": [
    "ce=sym.Eq(r**2-r + 1,0)\n",
    "ce"
   ]
  },
  {
   "cell_type": "code",
   "execution_count": 82,
   "metadata": {
    "ExecuteTime": {
     "end_time": "2018-02-17T03:26:39.512855Z",
     "start_time": "2018-02-17T03:26:38.967393Z"
    }
   },
   "outputs": [
    {
     "data": {
      "image/png": "[encoded data removed]",
      "text/latex": [
       "$$\\left [ \\frac{1}{2} - \\frac{\\sqrt{3} i}{2}, \\quad \\frac{1}{2} + \\frac{\\sqrt{3} i}{2}\\right ]$$"
      ],
      "text/plain": [
       "⎡1   √3⋅ⅈ  1   √3⋅ⅈ⎤\n",
       "⎢─ - ────, ─ + ────⎥\n",
       "⎣2    2    2    2  ⎦"
      ]
     },
     "execution_count": 82,
     "metadata": {},
     "output_type": "execute_result"
    }
   ],
   "source": [
    "rsol=sym.solve(ce)\n",
    "rsol"
   ]
  },
  {
   "cell_type": "code",
   "execution_count": 83,
   "metadata": {
    "ExecuteTime": {
     "end_time": "2018-02-17T03:26:40.104334Z",
     "start_time": "2018-02-17T03:26:39.513858Z"
    }
   },
   "outputs": [
    {
     "data": {
      "image/png": "[encoded data removed]",
      "text/latex": [
       "$$\\left ( \\frac{1}{2}, \\quad \\frac{\\sqrt{3}}{2}\\right )$$"
      ],
      "text/plain": [
       "⎛     √3⎞\n",
       "⎜1/2, ──⎟\n",
       "⎝     2 ⎠"
      ]
     },
     "execution_count": 83,
     "metadata": {},
     "output_type": "execute_result"
    }
   ],
   "source": [
    "sym.re(rsol[1]), sym.im(rsol[1]) #http://docs.sympy.org/latest/_modules/sympy/functions/elementary/complexes.html"
   ]
  },
  {
   "cell_type": "code",
   "execution_count": 84,
   "metadata": {
    "ExecuteTime": {
     "end_time": "2018-02-17T03:26:40.595891Z",
     "start_time": "2018-02-17T03:26:40.105840Z"
    }
   },
   "outputs": [
    {
     "data": {
      "image/png": "[encoded data removed]",
      "text/latex": [
       "$$\\left ( 1, \\quad \\frac{\\pi}{3}\\right )$$"
      ],
      "text/plain": [
       "⎛   π⎞\n",
       "⎜1, ─⎟\n",
       "⎝   3⎠"
      ]
     },
     "execution_count": 84,
     "metadata": {},
     "output_type": "execute_result"
    }
   ],
   "source": [
    "sym.Abs(rsol[1]),sym.arg(rsol[1])"
   ]
  },
  {
   "cell_type": "code",
   "execution_count": 85,
   "metadata": {
    "ExecuteTime": {
     "end_time": "2018-02-17T03:26:40.599400Z",
     "start_time": "2018-02-17T03:26:40.596894Z"
    },
    "collapsed": true
   },
   "outputs": [],
   "source": [
    "R = sym.Abs(rsol[1])\n",
    "Rad = sym.arg(rsol[1])"
   ]
  },
  {
   "cell_type": "code",
   "execution_count": null,
   "metadata": {
    "collapsed": true
   },
   "outputs": [],
   "source": []
  },
  {
   "cell_type": "code",
   "execution_count": 86,
   "metadata": {
    "ExecuteTime": {
     "end_time": "2018-02-17T03:26:40.905214Z",
     "start_time": "2018-02-17T03:26:40.600403Z"
    }
   },
   "outputs": [
    {
     "data": {
      "text/plain": [
       "[<matplotlib.lines.Line2D at 0x2d06a04f7b8>]"
      ]
     },
     "execution_count": 86,
     "metadata": {},
     "output_type": "execute_result"
    },
    {
     "data": {
      "image/png": "[encoded data removed]",
      "text/plain": [
       "<matplotlib.figure.Figure at 0x2d06a48d940>"
      ]
     },
     "metadata": {
      "image/png": {
       "height": 323,
       "width": 503
      }
     },
     "output_type": "display_data"
    }
   ],
   "source": [
    "fig,ax = plt.subplots()\n",
    "\n",
    "plt.polar([0,sym.arg(rsol[1])],[0,sym.Abs(rsol[1])],marker='o')\n",
    "    \n",
    "#https://stackoverflow.com/questions/17445720/how-to-plot-complex-numbers-argand-diagram-using-matplotlib"
   ]
  },
  {
   "cell_type": "markdown",
   "metadata": {},
   "source": [
    "#### Dynamics and Steady State"
   ]
  },
  {
   "cell_type": "code",
   "execution_count": 87,
   "metadata": {
    "ExecuteTime": {
     "end_time": "2018-02-17T03:26:41.413353Z",
     "start_time": "2018-02-17T03:26:40.906217Z"
    }
   },
   "outputs": [
    {
     "data": {
      "image/png": "[encoded data removed]",
      "text/latex": [
       "$$C_{0} + C_{1}$$"
      ],
      "text/plain": [
       "C₀ + C₁"
      ]
     },
     "execution_count": 87,
     "metadata": {},
     "output_type": "execute_result"
    }
   ],
   "source": [
    "ode_sol.subs(n,0)"
   ]
  },
  {
   "cell_type": "code",
   "execution_count": 88,
   "metadata": {
    "ExecuteTime": {
     "end_time": "2018-02-17T03:26:41.817913Z",
     "start_time": "2018-02-17T03:26:41.414340Z"
    }
   },
   "outputs": [
    {
     "data": {
      "image/png": "[encoded data removed]",
      "text/latex": [
       "$$C_{0} \\left(\\frac{1}{2} - \\frac{\\sqrt{3} i}{2}\\right) + C_{1} \\left(\\frac{1}{2} + \\frac{\\sqrt{3} i}{2}\\right)$$"
      ],
      "text/plain": [
       "   ⎛1   √3⋅ⅈ⎞      ⎛1   √3⋅ⅈ⎞\n",
       "C₀⋅⎜─ - ────⎟ + C₁⋅⎜─ + ────⎟\n",
       "   ⎝2    2  ⎠      ⎝2    2  ⎠"
      ]
     },
     "execution_count": 88,
     "metadata": {},
     "output_type": "execute_result"
    }
   ],
   "source": [
    "ode_sol.subs(n,1)"
   ]
  },
  {
   "cell_type": "code",
   "execution_count": 89,
   "metadata": {
    "ExecuteTime": {
     "end_time": "2018-02-17T03:26:42.367731Z",
     "start_time": "2018-02-17T03:26:41.818916Z"
    }
   },
   "outputs": [
    {
     "data": {
      "image/png": "[encoded data removed]",
      "text/latex": [
       "$$\\left \\{ C_{0} : 1, \\quad C_{1} : 1\\right \\}$$"
      ],
      "text/plain": [
       "{C₀: 1, C₁: 1}"
      ]
     },
     "execution_count": 89,
     "metadata": {},
     "output_type": "execute_result"
    }
   ],
   "source": [
    "constsol = sym.solve([ode_sol.subs(n,0)-2, ode_sol.subs(n,1)-1])\n",
    "constsol"
   ]
  },
  {
   "cell_type": "code",
   "execution_count": 90,
   "metadata": {
    "ExecuteTime": {
     "end_time": "2018-02-17T03:26:42.778348Z",
     "start_time": "2018-02-17T03:26:42.368734Z"
    }
   },
   "outputs": [
    {
     "data": {
      "image/png": "[encoded data removed]",
      "text/latex": [
       "$$\\left(\\frac{1}{2} - \\frac{\\sqrt{3} i}{2}\\right)^{n} + \\left(\\frac{1}{2} + \\frac{\\sqrt{3} i}{2}\\right)^{n}$$"
      ],
      "text/plain": [
       "          n             n\n",
       "⎛1   √3⋅ⅈ⎞    ⎛1   √3⋅ⅈ⎞ \n",
       "⎜─ - ────⎟  + ⎜─ + ────⎟ \n",
       "⎝2    2  ⎠    ⎝2    2  ⎠ "
      ]
     },
     "execution_count": 90,
     "metadata": {},
     "output_type": "execute_result"
    }
   ],
   "source": [
    "ode_sol.subs(constsol)"
   ]
  },
  {
   "cell_type": "code",
   "execution_count": 91,
   "metadata": {
    "ExecuteTime": {
     "end_time": "2018-02-17T03:26:42.785868Z",
     "start_time": "2018-02-17T03:26:42.779350Z"
    }
   },
   "outputs": [
    {
     "data": {
      "text/plain": [
       "<function numpy.<lambda>>"
      ]
     },
     "execution_count": 91,
     "metadata": {},
     "output_type": "execute_result"
    }
   ],
   "source": [
    "y_n = sympy.lambdify((n), ode_sol.subs(constsol), 'numpy')\n",
    "y_n"
   ]
  },
  {
   "cell_type": "code",
   "execution_count": 92,
   "metadata": {
    "ExecuteTime": {
     "end_time": "2018-02-17T03:26:42.816449Z",
     "start_time": "2018-02-17T03:26:42.786871Z"
    }
   },
   "outputs": [
    {
     "data": {
      "text/plain": [
       "array([ 2.        +0.j,  1.99821005+0.j,  1.99284339+0.j,  1.98390963+0.j,\n",
       "        1.97142476+0.j,  1.95541113+0.j,  1.9358974 +0.j,  1.91291851+0.j,\n",
       "        1.88651558+0.j,  1.85673587+0.j,  1.82363268+0.j,  1.78726528+0.j,\n",
       "        1.74769875+0.j,  1.70500393+0.j,  1.65925722+0.j,  1.61054052+0.j,\n",
       "        1.55894102+0.j,  1.50455109+0.j,  1.44746808+0.j,  1.38779416+0.j,\n",
       "        1.32563616+0.j,  1.26110533+0.j,  1.19431718+0.j,  1.12539126+0.j,\n",
       "        1.05445094+0.j,  0.98162319+0.j,  0.90703839+0.j,  0.83083003+0.j,\n",
       "        0.75313452+0.j,  0.67409093+0.j,  0.59384075+0.j,  0.51252762+0.j,\n",
       "        0.4302971 +0.j,  0.34729636+0.j,  0.26367397+0.j,  0.17957962+0.j,\n",
       "        0.09516383+0.j,  0.0105777 +0.j, -0.07402736+0.j, -0.15849991+0.j,\n",
       "       -0.24268876+0.j, -0.32644321+0.j, -0.40961334+0.j, -0.49205027+0.j,\n",
       "       -0.57360647+0.j, -0.65413593+0.j, -0.73349451+0.j, -0.81154018+0.j,\n",
       "       -0.88813323+0.j, -0.96313655+0.j, -1.03641591+0.j, -1.10784013+0.j,\n",
       "       -1.17728136+0.j, -1.24461532+0.j, -1.30972147+0.j, -1.37248328+0.j,\n",
       "       -1.4327884 +0.j, -1.4905289 +0.j, -1.54560142+0.j, -1.59790738+0.j,\n",
       "       -1.64735316+0.j, -1.69385026+0.j, -1.73731543+0.j, -1.7776709 +0.j,\n",
       "       -1.81484441+0.j, -1.84876943+0.j, -1.87938524+0.j, -1.90663704+0.j,\n",
       "       -1.93047604+0.j, -1.95085957+0.j, -1.96775116+0.j, -1.98112056+0.j,\n",
       "       -1.99094385+0.j, -1.99720343+0.j, -1.99988811+0.j, -1.99899308+0.j,\n",
       "       -1.99451995+0.j, -1.98647672+0.j, -1.97487778+0.j, -1.9597439 +0.j,\n",
       "       -1.94110216+0.j, -1.91898595+0.j, -1.89343483+0.j, -1.86449455+0.j,\n",
       "       -1.83221691+0.j, -1.79665969+0.j, -1.75788653+0.j, -1.71596683+0.j,\n",
       "       -1.67097562+0.j, -1.62299345+0.j, -1.57210619+0.j, -1.51840493+0.j,\n",
       "       -1.4619858 +0.j, -1.40294978+0.j, -1.34140254+0.j, -1.27745425+0.j,\n",
       "       -1.21121937+0.j, -1.14281647+0.j, -1.07236798+0.j, -1.        +0.j])"
      ]
     },
     "execution_count": 92,
     "metadata": {},
     "output_type": "execute_result"
    }
   ],
   "source": [
    "t = np.linspace(0, 4, 100)\n",
    "y_n(t)"
   ]
  },
  {
   "cell_type": "code",
   "execution_count": 93,
   "metadata": {
    "ExecuteTime": {
     "end_time": "2018-02-17T03:26:43.151840Z",
     "start_time": "2018-02-17T03:26:42.817452Z"
    }
   },
   "outputs": [
    {
     "data": {
      "image/png": "[encoded data removed]",
      "text/plain": [
       "<matplotlib.figure.Figure at 0x2d06bdff780>"
      ]
     },
     "metadata": {
      "image/png": {
       "height": 307,
       "width": 627
      }
     },
     "output_type": "display_data"
    }
   ],
   "source": [
    "fig, ax = plt.subplots(figsize=(8, 4))\n",
    "\n",
    "t = np.linspace(0, 10, 100)\n",
    "\n",
    "for a in [0.02, 0.04, 0.06]:\n",
    "    ax.scatter(t, y_n(t), label=r\"difference equation\")\n",
    "\n",
    "ax.set_title(r\"$%s$\" % sympy.latex(ode_sol), fontsize=18)\n",
    "ax.set_xlabel(r\"$n$\", fontsize=18)\n",
    "ax.set_ylabel(r\"$y$\", fontsize=18)\n",
    "#ax.legend()\n",
    "\n",
    "fig.tight_layout()"
   ]
  },
  {
   "cell_type": "code",
   "execution_count": null,
   "metadata": {
    "collapsed": true
   },
   "outputs": [],
   "source": []
  },
  {
   "cell_type": "code",
   "execution_count": 95,
   "metadata": {
    "ExecuteTime": {
     "end_time": "2018-02-17T03:27:24.775241Z",
     "start_time": "2018-02-17T03:27:24.277918Z"
    }
   },
   "outputs": [
    {
     "data": {
      "image/png": "[encoded data removed]",
      "text/latex": [
       "$$1$$"
      ],
      "text/plain": [
       "1"
      ]
     },
     "execution_count": 95,
     "metadata": {},
     "output_type": "execute_result"
    }
   ],
   "source": [
    "n, r,C0,C1, y0, ybar = sym.symbols(\"n, r,C0,C1, y0, ybar\")\n",
    "y = sym.Function(\"y\")\n",
    "yn = R**n (C0*sym.cos(Rad*n)+ C1*sym.sin(Rad*n)   )\n",
    "yn"
   ]
  },
  {
   "cell_type": "code",
   "execution_count": null,
   "metadata": {
    "collapsed": true
   },
   "outputs": [],
   "source": []
  },
  {
   "cell_type": "markdown",
   "metadata": {},
   "source": [
    "### A first order homogeneous differential equation"
   ]
  },
  {
   "cell_type": "code",
   "execution_count": null,
   "metadata": {
    "ExecuteTime": {
     "end_time": "2018-02-17T03:26:43.172897Z",
     "start_time": "2018-02-17T03:26:32.707Z"
    },
    "collapsed": true
   },
   "outputs": [],
   "source": [
    "#https://www.youtube.com/watch?v=4X0SGGrXDiI\n",
    "\n",
    "a, t, y0 = sym.symbols(\"a t y0\")\n",
    "y = sym.Function(\"y\")"
   ]
  },
  {
   "cell_type": "code",
   "execution_count": null,
   "metadata": {
    "ExecuteTime": {
     "end_time": "2018-02-17T03:26:43.173398Z",
     "start_time": "2018-02-17T03:26:32.709Z"
    },
    "collapsed": true
   },
   "outputs": [],
   "source": [
    "ode=sym.Eq(y(t).diff(t), a*y(t))\n",
    "ode"
   ]
  },
  {
   "cell_type": "markdown",
   "metadata": {},
   "source": [
    "- y: money in bank\n",
    "- a: interest rate, for example 6%\n",
    "- t: time year\n"
   ]
  },
  {
   "cell_type": "code",
   "execution_count": null,
   "metadata": {
    "ExecuteTime": {
     "end_time": "2018-02-17T03:26:43.173900Z",
     "start_time": "2018-02-17T03:26:32.711Z"
    },
    "collapsed": true
   },
   "outputs": [],
   "source": [
    "sym.classify_ode(ode)"
   ]
  },
  {
   "cell_type": "code",
   "execution_count": null,
   "metadata": {
    "ExecuteTime": {
     "end_time": "2018-02-17T03:26:43.174903Z",
     "start_time": "2018-02-17T03:26:32.712Z"
    },
    "collapsed": true
   },
   "outputs": [],
   "source": [
    "ode_sol=sym.dsolve(ode, y(t), hint=\"separable\")\n",
    "ode_sol"
   ]
  },
  {
   "cell_type": "code",
   "execution_count": null,
   "metadata": {
    "ExecuteTime": {
     "end_time": "2018-02-17T03:26:43.175403Z",
     "start_time": "2018-02-17T03:26:32.713Z"
    },
    "collapsed": true
   },
   "outputs": [],
   "source": [
    "ode_sol.free_symbols"
   ]
  },
  {
   "cell_type": "code",
   "execution_count": null,
   "metadata": {
    "ExecuteTime": {
     "end_time": "2018-02-17T03:26:43.176407Z",
     "start_time": "2018-02-17T03:26:32.716Z"
    },
    "collapsed": true
   },
   "outputs": [],
   "source": [
    "ics = {y(0): y0}"
   ]
  },
  {
   "cell_type": "code",
   "execution_count": null,
   "metadata": {
    "ExecuteTime": {
     "end_time": "2018-02-17T03:26:43.177408Z",
     "start_time": "2018-02-17T03:26:32.718Z"
    },
    "collapsed": true
   },
   "outputs": [],
   "source": [
    "def apply_ics(sol, ics, x, known_params):\n",
    "    \"\"\"\n",
    "    Apply the initial conditions (ics), given as a dictionary on\n",
    "    the form ics = {y(0): y0: y(x).diff(x).subs(x, 0): yp0, ...}\n",
    "    to the solution of the ODE with indepdendent variable x.\n",
    "    The undetermined integration constants C1, C2, ... are extracted\n",
    "    from the free symbols of the ODE solution, excluding symbols in\n",
    "    the known_params list.\n",
    "    \"\"\"\n",
    "    free_params = sol.free_symbols - set(known_params)\n",
    "    eqs = [(sol.lhs.diff(x, n) - sol.rhs.diff(x, n)).subs(x, 0).subs(ics)\n",
    "           for n in range(len(ics))]\n",
    "    sol_params = sym.solve(eqs, free_params)\n",
    "    return sol.subs(sol_params)"
   ]
  },
  {
   "cell_type": "code",
   "execution_count": null,
   "metadata": {
    "ExecuteTime": {
     "end_time": "2018-02-17T03:26:43.178411Z",
     "start_time": "2018-02-17T03:26:32.720Z"
    },
    "collapsed": true
   },
   "outputs": [],
   "source": [
    "apply_ics(ode_sol, ics, t, [a])"
   ]
  },
  {
   "cell_type": "code",
   "execution_count": null,
   "metadata": {
    "collapsed": true
   },
   "outputs": [],
   "source": []
  },
  {
   "cell_type": "markdown",
   "metadata": {},
   "source": [
    "### Second Order Differential Equation"
   ]
  },
  {
   "cell_type": "markdown",
   "metadata": {},
   "source": [
    "#### Define the differential equation as a sym.Eq()"
   ]
  },
  {
   "cell_type": "code",
   "execution_count": null,
   "metadata": {
    "ExecuteTime": {
     "end_time": "2018-02-17T03:26:43.178913Z",
     "start_time": "2018-02-17T03:26:32.722Z"
    },
    "collapsed": true
   },
   "outputs": [],
   "source": [
    "x,t, b,c,d, n, C0, y0 = sym.symbols(\"x t  b c d n C0 y0\")\n",
    "f = sym.Function(\"f\")"
   ]
  },
  {
   "cell_type": "code",
   "execution_count": null,
   "metadata": {
    "ExecuteTime": {
     "end_time": "2018-02-17T03:26:43.179414Z",
     "start_time": "2018-02-17T03:26:32.724Z"
    },
    "collapsed": true
   },
   "outputs": [],
   "source": [
    "diffeq = sym.Eq(f(t).diff(t, t) - 2*f(t).diff(t) + f(t), sym.sin(t))\n",
    "diffeq"
   ]
  },
  {
   "cell_type": "markdown",
   "metadata": {},
   "source": [
    "#### Solve differential equation"
   ]
  },
  {
   "cell_type": "code",
   "execution_count": null,
   "metadata": {
    "ExecuteTime": {
     "end_time": "2018-02-17T03:26:43.180416Z",
     "start_time": "2018-02-17T03:26:32.726Z"
    },
    "collapsed": true
   },
   "outputs": [],
   "source": [
    "soln = sym.dsolve(diffeq,f(t))\n",
    "soln"
   ]
  },
  {
   "cell_type": "markdown",
   "metadata": {},
   "source": [
    "#### Boundary conditions\n",
    "This isn't implemented yet in `dsolve` -- it's on the \"to do\" list<br>\n",
    "For now, solve for contants on your own. For example, if\n",
    "$$ f(0) = 1\\quad\\mbox{and}\\quad\\left.\\frac{df}{dx}\\right|_0 = 0,  $$\n",
    "solve the following equations:"
   ]
  },
  {
   "cell_type": "code",
   "execution_count": null,
   "metadata": {
    "ExecuteTime": {
     "end_time": "2018-02-17T03:26:43.180918Z",
     "start_time": "2018-02-17T03:26:32.728Z"
    },
    "collapsed": true
   },
   "outputs": [],
   "source": [
    "constants = sym.solve([soln.rhs.subs(t,0) - 1, soln.rhs.diff(t,1).subs(t,0)- 0])\n",
    "constants"
   ]
  },
  {
   "cell_type": "code",
   "execution_count": null,
   "metadata": {
    "ExecuteTime": {
     "end_time": "2018-02-17T03:26:43.181920Z",
     "start_time": "2018-02-17T03:26:32.729Z"
    },
    "collapsed": true
   },
   "outputs": [],
   "source": [
    "C1, C2 = sym.symbols('C1,C2')\n",
    "soln = soln.subs(constants)\n",
    "soln"
   ]
  },
  {
   "cell_type": "markdown",
   "metadata": {},
   "source": [
    "#### Convert soln to python function for numerical evaluation/plotting\n",
    "I'm not sure why I had to specify the modulue for conversion of sympy functions.<br>\n",
    "See http://docs.sympy.org/latest/modules/utilities/lambdify.html<br>\n",
    "In previous examples, sympy figured out a good module \"on its own.\" "
   ]
  },
  {
   "cell_type": "code",
   "execution_count": null,
   "metadata": {
    "ExecuteTime": {
     "end_time": "2018-02-17T03:26:43.182924Z",
     "start_time": "2018-02-17T03:26:32.731Z"
    },
    "collapsed": true
   },
   "outputs": [],
   "source": [
    "func = sym.lambdify(t,soln.rhs,'numpy')"
   ]
  },
  {
   "cell_type": "code",
   "execution_count": null,
   "metadata": {
    "ExecuteTime": {
     "end_time": "2018-02-17T03:26:43.184928Z",
     "start_time": "2018-02-17T03:26:32.733Z"
    },
    "collapsed": true
   },
   "outputs": [],
   "source": [
    "xx = sp.arange(-1,1,.01)  # name = xx so it won't collide with symbol x\n",
    "y = func(xx)\n",
    "plt.figure(1)\n",
    "plt.plot(xx,y);"
   ]
  },
  {
   "cell_type": "code",
   "execution_count": null,
   "metadata": {
    "ExecuteTime": {
     "end_time": "2018-02-17T03:26:43.185931Z",
     "start_time": "2018-02-17T03:26:32.734Z"
    },
    "collapsed": true
   },
   "outputs": [],
   "source": [
    "from IPython.core.display import HTML, Image\n",
    "css_file = '../../custom.css'\n",
    "HTML(open(css_file, 'r').read())"
   ]
  },
  {
   "cell_type": "code",
   "execution_count": null,
   "metadata": {
    "ExecuteTime": {
     "end_time": "2018-02-17T03:26:43.187435Z",
     "start_time": "2018-02-17T03:26:32.736Z"
    },
    "collapsed": true
   },
   "outputs": [],
   "source": [
    "#%load_ext watermark\n",
    "%watermark -v -m -p sympy,matplotlib -g"
   ]
  },
  {
   "cell_type": "code",
   "execution_count": null,
   "metadata": {
    "collapsed": true
   },
   "outputs": [],
   "source": []
  }
 ],
 "metadata": {
  "anaconda-cloud": {},
  "kernelspec": {
   "display_name": "Python 3",
   "language": "python",
   "name": "python3"
  },
  "language_info": {
   "codemirror_mode": {
    "name": "ipython",
    "version": 3
   },
   "file_extension": ".py",
   "mimetype": "text/x-python",
   "name": "python",
   "nbconvert_exporter": "python",
   "pygments_lexer": "ipython3",
   "version": "3.6.1"
  }
 },
 "nbformat": 4,
 "nbformat_minor": 1
}
