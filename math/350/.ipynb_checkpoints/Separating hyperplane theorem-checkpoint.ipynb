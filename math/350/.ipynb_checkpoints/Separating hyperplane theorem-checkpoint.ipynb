{
 "cells": [
  {
   "cell_type": "markdown",
   "metadata": {},
   "source": [
    "\n",
    "\n",
    "https://en.wikipedia.org/wiki/Hyperplane_separation_theorem\n",
    "\n",
    "\n",
    "https://en.wikipedia.org/wiki/Supporting_hyperplane\n",
    "\n",
    "\n",
    "https://en.wikipedia.org/wiki/Farkas%27_lemma\n",
    "\n",
    "\n",
    "\n",
    "https://en.wikipedia.org/wiki/Dual_cone_and_polar_cone\n",
    "\n",
    "\n",
    "https://web.stanford.edu/class/ee364a/lectures/sets.pdf\n",
    "\n",
    "https://ocw.mit.edu/courses/electrical-engineering-and-computer-science/6-253-convex-analysis-and-optimization-spring-2012/lecture-notes/MIT6_253S12_lec07.pdf\n",
    "\n",
    "https://ocw.mit.edu/courses/electrical-engineering-and-computer-science/6-253-convex-analysis-and-optimization-spring-2012/lecture-notes/MIT6_253S12_lec06.pdf\n",
    "\n",
    "http://www.princeton.edu/~amirali/Public/Teaching/ORF523/S16/ORF523_S16_Lec5_gh.pdf\n",
    "\n",
    "\n",
    "\n"
   ]
  }
 ],
 "metadata": {
  "kernelspec": {
   "display_name": "Python 2",
   "language": "python",
   "name": "python2"
  },
  "language_info": {
   "codemirror_mode": {
    "name": "ipython",
    "version": 2
   },
   "file_extension": ".py",
   "mimetype": "text/x-python",
   "name": "python",
   "nbconvert_exporter": "python",
   "pygments_lexer": "ipython2",
   "version": "2.7.13"
  }
 },
 "nbformat": 4,
 "nbformat_minor": 2
}
