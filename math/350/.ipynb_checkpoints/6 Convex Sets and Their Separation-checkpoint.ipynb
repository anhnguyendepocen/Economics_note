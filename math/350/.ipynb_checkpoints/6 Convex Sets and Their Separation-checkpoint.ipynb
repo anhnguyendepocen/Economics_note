{
 "cells": [
  {
   "cell_type": "markdown",
   "metadata": {},
   "source": [
    "Lagrange's Theorem and the Kuhn-Tucker Theorem give us first order necessary conditions for constrained maximization problems. The conditions are not in general sufficient to determine the optimum.\n",
    "\n",
    "\n",
    "The maxima and minima can be distinguished by examining the curvatures of the objective and constraint functions.\n",
    "\n",
    "The problem:\n",
    "\n",
    "choosing the vector x to maximize the F(x) subject to a scalar constaint G(x) <= c. Let x denote the optimum choice, and now write $\\bar v$ for the maximum value.\n",
    "\n",
    "\n",
    "the lower contour set of G for the value c.\n",
    "\n",
    "the upper contour set of F for the value $\\bar v$.\n",
    "\n",
    "The curvatures of the two sets are chosen to ensure a maximum.\n",
    "\n",
    "The common tangent separates the x-plane into two halves, each containing one of the sets.\n",
    "\n",
    "This separation is the crucial property that allows us to distinguish maximum from minima, and obtain sufficient conditions for the maximization problem.\n",
    "\n",
    "\n",
    "\n",
    "convex set and quasi-concave and concave functions.\n",
    "\n",
    "a geometric approach to constrained optimization based on the separation of two convex sets.\n",
    "\n",
    "\n"
   ]
  }
 ],
 "metadata": {
  "kernelspec": {
   "display_name": "Python3",
   "language": "python",
   "name": "py3"
  },
  "language_info": {
   "codemirror_mode": {
    "name": "ipython",
    "version": 2
   },
   "file_extension": ".py",
   "mimetype": "text/x-python",
   "name": "python",
   "nbconvert_exporter": "python",
   "pygments_lexer": "ipython2",
   "version": "2.7.13"
  }
 },
 "nbformat": 4,
 "nbformat_minor": 2
}
