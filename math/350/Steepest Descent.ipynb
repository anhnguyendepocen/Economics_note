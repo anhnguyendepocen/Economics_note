{
 "cells": [
  {
   "cell_type": "markdown",
   "metadata": {},
   "source": [
    "\n",
    "\n",
    "\n",
    "https://en.wikipedia.org/wiki/Gradient_descent\n",
    "\n",
    "\n",
    "\n",
    "Note that the value of the step size ${\\displaystyle \\gamma } \\gamma$  is allowed to change at every iteration. With certain assumptions on the function ${\\displaystyle F} F$ (for example, ${\\displaystyle F} F$ convex and ${\\displaystyle \\nabla F} \\nabla F$ Lipschitz) and particular choices of ${\\displaystyle \\gamma } \\gamma$  (e.g., chosen either via a line search that satisfies the Wolfe conditions or the Barzilai-Borwein method shown as following),\n",
    "\n",
    "\n",
    "$${\\displaystyle \\gamma _{n}={\\frac {(\\mathbf {x} _{n}-\\mathbf {x} _{n-1})^{T}[\\nabla F(\\mathbf {x} _{n})-\\nabla F(\\mathbf {x} _{n-1})]}{||\\nabla F(\\mathbf {x} _{n})-\\nabla F(\\mathbf {x} _{n-1})||^{2}}}}$$\n",
    "\n",
    "convergence to a local minimum can be guaranteed. When the function {\\displaystyle F} F is convex, all local minima are also global minima, so in this case gradient descent can converge to the global solution.\n"
   ]
  },
  {
   "cell_type": "code",
   "execution_count": null,
   "metadata": {
    "collapsed": true
   },
   "outputs": [],
   "source": []
  }
 ],
 "metadata": {
  "kernelspec": {
   "display_name": "Python3",
   "language": "python",
   "name": "py3"
  },
  "language_info": {
   "codemirror_mode": {
    "name": "ipython",
    "version": 2
   },
   "file_extension": ".py",
   "mimetype": "text/x-python",
   "name": "python",
   "nbconvert_exporter": "python",
   "pygments_lexer": "ipython2",
   "version": "2.7.13"
  }
 },
 "nbformat": 4,
 "nbformat_minor": 2
}
