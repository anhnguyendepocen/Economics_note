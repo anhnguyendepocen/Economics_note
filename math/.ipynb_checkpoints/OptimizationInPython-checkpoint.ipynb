{
 "cells": [
  {
   "cell_type": "markdown",
   "metadata": {},
   "source": [
    "http://www.pyomo.org/impact\n",
    "\n",
    "https://www.youtube.com/watch?v=UR0yrf1MChs"
   ]
  },
  {
   "cell_type": "code",
   "execution_count": null,
   "metadata": {
    "collapsed": true
   },
   "outputs": [],
   "source": []
  },
  {
   "cell_type": "markdown",
   "metadata": {},
   "source": [
    "SciPy Beginner's Guide for Optimization\n",
    "\n",
    "\n",
    "https://www.youtube.com/watch?v=cXHvC_FGx24\n",
    "\n",
    "Modern Optimization Methods in Python | SciPy 2015 Tutorial | Mike McKerns\n",
    "https://www.youtube.com/watch?v=avRx2cdNZmk\n",
    "\n",
    "Python Nonlinear Equations with Scipy fsolve\n",
    "http://apmonitor.com/pdc/index.php/Main/NonlinearProgramming\n",
    "https://www.youtube.com/watch?v=v4R6K4RxADE"
   ]
  },
  {
   "cell_type": "markdown",
   "metadata": {},
   "source": [
    "This is a tutorial how to use LP modeling framework in Python (using Pulp and Scipy) by giving relevant example of optimizing everyday life. \n",
    "\n",
    "https://www.youtube.com/watch?v=7yZ5xxdkTb8\n",
    "\n",
    "\n",
    "Solving Optimisation Problem Using PuLP/Python - Prof. Jayendran Venkateswaran\n",
    "https://www.youtube.com/watch?v=-hfnglaFLrk"
   ]
  },
  {
   "cell_type": "code",
   "execution_count": null,
   "metadata": {
    "collapsed": true
   },
   "outputs": [],
   "source": []
  },
  {
   "cell_type": "markdown",
   "metadata": {},
   "source": [
    "http://cvxopt.org/examples/tutorial/qp.html\n",
    "\n",
    "http://cvxopt.org/userguide/blas.html\n",
    "\n",
    "https://courses.csail.mit.edu/6.867/wiki/images/a/a7/Qp-cvxopt.pdf"
   ]
  },
  {
   "cell_type": "code",
   "execution_count": null,
   "metadata": {},
   "outputs": [],
   "source": [
    "#!pip install --user cvxopt"
   ]
  },
  {
   "cell_type": "code",
   "execution_count": null,
   "metadata": {
    "collapsed": true
   },
   "outputs": [],
   "source": []
  }
 ],
 "metadata": {
  "kernelspec": {
   "display_name": "Python 3",
   "language": "python",
   "name": "python3"
  },
  "language_info": {
   "codemirror_mode": {
    "name": "ipython",
    "version": 3
   },
   "file_extension": ".py",
   "mimetype": "text/x-python",
   "name": "python",
   "nbconvert_exporter": "python",
   "pygments_lexer": "ipython3",
   "version": "3.6.2"
  }
 },
 "nbformat": 4,
 "nbformat_minor": 2
}
