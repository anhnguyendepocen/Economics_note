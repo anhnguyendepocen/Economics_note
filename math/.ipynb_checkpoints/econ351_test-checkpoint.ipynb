{
 "cells": [
  {
   "cell_type": "code",
   "execution_count": null,
   "metadata": {
    "ExecuteTime": {
     "end_time": "2018-01-24T07:10:38.082979Z",
     "start_time": "2018-01-24T07:10:33.491709Z"
    },
    "collapsed": true
   },
   "outputs": [],
   "source": [
    "from sympy import *\n",
    "\n",
    "import sympy\n",
    "from sympy import init_printing # Latex printing to screen\n",
    "init_printing(use_latex = 'mathjax')\n",
    "\n",
    "%config InlineBackend.figure_format='retina'\n",
    "import matplotlib.pyplot as plt\n",
    "import matplotlib as mpl\n",
    "#mpl.rcParams['text.usetex'] = True\n",
    "%matplotlib inline\n",
    "\n",
    "# If you like this one\n",
    "plt.style.use('fivethirtyeight')\n",
    "\n",
    "import numpy as np\n",
    "\n",
    "from warnings import filterwarnings # Ignoring ugly pink warnings\n",
    "filterwarnings('ignore')\n",
    "\n"
   ]
  },
  {
   "cell_type": "markdown",
   "metadata": {},
   "source": [
    "# Differential Equation\n",
    "\n",
    "## Motivation"
   ]
  },
  {
   "cell_type": "code",
   "execution_count": null,
   "metadata": {
    "ExecuteTime": {
     "end_time": "2018-01-24T07:10:38.113072Z",
     "start_time": "2018-01-24T07:10:38.083966Z"
    },
    "collapsed": true
   },
   "outputs": [],
   "source": [
    "def plot_direction_field(x, y_x, f_xy, x_lim=(-5, 5), y_lim=(-5, 5),head_width=0.01,ax=None):\n",
    "    \n",
    "    f_np = sympy.lambdify((x, y_x), f_xy, 'numpy')\n",
    "    \n",
    "    x_vec = np.linspace(x_lim[0], x_lim[1], 10)\n",
    "    y_vec = np.linspace(y_lim[0], y_lim[1], 10)\n",
    "    \n",
    "    if ax is None:\n",
    "        _, ax = plt.subplots(figsize=(4, 4))\n",
    "\n",
    "    #dx = x_vec[1] - x_vec[0]\n",
    "    #dy = y_vec[1] - y_vec[0]\n",
    "\n",
    "    for m, xx in enumerate(x_vec):\n",
    "        for n, yy in enumerate(y_vec):\n",
    "            #Dy = f_np(xx, yy) * dx\n",
    "            #Dx = 0.8 * dx**2 / np.sqrt(dx**2 + Dy**2)\n",
    "            #Dy = 0.8 * Dy*dy / np.sqrt(dx**2 + Dy**2)            \n",
    "            #ax.plot([xx - Dx/2, xx + Dx/2],\n",
    "            #        [yy - Dy/2, yy + Dy/2], 'b', lw=0.5)\n",
    "            m=f_np(xx,yy)\n",
    "            h=0.25/np.sqrt(1.+m**2)\n",
    "            ax.plot([xx-h,xx+h],[yy-m*h,yy+m*h],'b')\n",
    "            ax.arrow(xx-h,yy-m*h,2*h,2*m*h, head_width=head_width, \n",
    "                     head_length=0.2, fc='b', ec='b')             \n",
    "    ax.axis('tight')\n",
    "\n",
    "    ax.set_title(r\"$%s$\" %\n",
    "                 (sympy.latex(sympy.Eq(y(x).diff(x), f_xy))),\n",
    "                 fontsize=18)\n",
    "    \n",
    "    return ax"
   ]
  },
  {
   "cell_type": "code",
   "execution_count": null,
   "metadata": {
    "ExecuteTime": {
     "end_time": "2018-01-24T07:10:38.141220Z",
     "start_time": "2018-01-24T07:10:38.114046Z"
    },
    "collapsed": true
   },
   "outputs": [],
   "source": [
    "x, t, C1,y0= sympy.symbols(\"x, t,C1, y0\") # C1 is C1 NOT C_1, no need _\n",
    "y = sympy.Function(\"y\")\n"
   ]
  },
  {
   "cell_type": "markdown",
   "metadata": {},
   "source": [
    "## Example 1: 1st Order DE\n",
    "\n",
    "https://www.youtube.com/watch?v=cDfWtSqGiBY&list=PLUl4u3cNGP63oTpyxCMLKt_JmB0WtSZfG&index=27\n",
    "\n",
    "\n",
    "https://www.youtube.com/watch?v=elMskF8Uzmg"
   ]
  },
  {
   "cell_type": "code",
   "execution_count": null,
   "metadata": {
    "ExecuteTime": {
     "end_time": "2018-01-24T07:10:38.175209Z",
     "start_time": "2018-01-24T07:10:38.142121Z"
    }
   },
   "outputs": [],
   "source": [
    "ode = sympy.Eq(y(t).diff(t), 2-y(t))\n",
    "ode"
   ]
  },
  {
   "cell_type": "code",
   "execution_count": null,
   "metadata": {
    "ExecuteTime": {
     "end_time": "2018-01-24T07:10:38.422867Z",
     "start_time": "2018-01-24T07:10:38.176212Z"
    }
   },
   "outputs": [],
   "source": [
    "sol=sympy.dsolve(ode, y(t))\n",
    "sol"
   ]
  },
  {
   "cell_type": "code",
   "execution_count": null,
   "metadata": {
    "ExecuteTime": {
     "end_time": "2018-01-24T07:10:38.435904Z",
     "start_time": "2018-01-24T07:10:38.423871Z"
    }
   },
   "outputs": [],
   "source": [
    "# solve C1 under initial condition with known y0 \n",
    "C1_ic = solve(sol.rhs.subs({t:0})-y0,C1)[0]\n",
    "C1_ic"
   ]
  },
  {
   "cell_type": "code",
   "execution_count": null,
   "metadata": {
    "ExecuteTime": {
     "end_time": "2018-01-24T07:10:39.281177Z",
     "start_time": "2018-01-24T07:10:39.265108Z"
    }
   },
   "outputs": [],
   "source": [
    "sol = sol.subs({C1:C1_ic})\n",
    "sol"
   ]
  },
  {
   "cell_type": "code",
   "execution_count": null,
   "metadata": {
    "ExecuteTime": {
     "end_time": "2018-01-24T07:10:39.856680Z",
     "start_time": "2018-01-24T07:10:39.849660Z"
    }
   },
   "outputs": [],
   "source": [
    "f_exact = sympy.lambdify((t, y0), sol.rhs, 'numpy') # numpy funciton of t and y0\n",
    "f_exact"
   ]
  },
  {
   "cell_type": "code",
   "execution_count": null,
   "metadata": {
    "ExecuteTime": {
     "end_time": "2018-01-24T07:10:41.506065Z",
     "start_time": "2018-01-24T07:10:40.491367Z"
    },
    "scrolled": true
   },
   "outputs": [],
   "source": [
    "fig, ax = plt.subplots( figsize=(12, 6))\n",
    "\n",
    "tl=0;tu=3;yl =0;yu=4;tstep = (tu-tl)/101\n",
    "\n",
    "#\t\t\t\t\tI. direction field\n",
    "plot_direction_field(t, y(t), ode.rhs, x_lim=(tl, tu), y_lim=(yl, yu),\n",
    "                     head_width=0.05, ax = ax)\n",
    "\n",
    "#\t\t\t\t\tII. Dot at given (x0,y0) and solution curve through (x0,y0)\n",
    "t0=0; y00=1\n",
    "ax.plot([t0],[y00],'mo',markersize = 16) # 'm'agenta d'o't\n",
    "#X=np.linspace(t0,4,101)  # t[0]=t0, .., t[100]=4.\n",
    "X=np.arange(t0,tu,tstep) \n",
    "#Y=[f_exact(t,y0) for t in X]\n",
    "Y=f_exact(X,y00)\n",
    "\n",
    "ax.plot(X,Y,'m',linewidth=4) # lines joining points (X[i],Y[i]), 'm'agenta\n",
    "\n",
    "#\t\t\t\t\tII. Dot at given (x0,y0) and solution curve through (x0,y0)\n",
    "t0=0; y00=3\n",
    "ax.plot([t0],[y00],'mo',markersize = 16) # 'm'agenta d'o't\n",
    "#X=np.linspace(t0,4,101)  # t[0]=t0, .., t[100]=4.\n",
    "X=np.arange(t0,tu,tstep) \n",
    "#Y=[f_exact(t,y0) for t in X]\n",
    "Y=f_exact(X,y00)\n",
    "\n",
    "ax.plot(X,Y,'m',linewidth=4) # lines joining points (X[i],Y[i]), 'm'agenta\n",
    "\n",
    "#\t\t\t\t\tIII. HORIZONTAL STEADY STATE\n",
    "\n",
    "plt.axhline(y=2, xmin=0, xmax=3, linewidth=4, color = 'g')\n",
    "\n",
    "ax.set_xlabel(\"t\")\n",
    "ax.set_ylabel(\"y\")\n",
    "\n",
    "fig.tight_layout()"
   ]
  },
  {
   "cell_type": "code",
   "execution_count": null,
   "metadata": {
    "ExecuteTime": {
     "end_time": "2018-01-19T02:02:53.631190Z",
     "start_time": "2018-01-19T02:02:53.428636Z"
    },
    "collapsed": true
   },
   "outputs": [],
   "source": []
  },
  {
   "cell_type": "markdown",
   "metadata": {},
   "source": [
    "## Example 2: 2nd Order DE Logistic Equation\n",
    "\n",
    "ref:\n",
    "\n",
    "https://www.youtube.com/watch?v=swt-let4pCI"
   ]
  },
  {
   "cell_type": "code",
   "execution_count": null,
   "metadata": {
    "ExecuteTime": {
     "end_time": "2018-01-24T07:10:43.146580Z",
     "start_time": "2018-01-24T07:10:43.009231Z"
    }
   },
   "outputs": [],
   "source": [
    "fig,ax = plt.subplots(figsize = (8,4))\n",
    "x = np.linspace(0, 1.2, 100)\n",
    "ax.plot(x, x-x**2)\n",
    "ax.axhline(y=0, xmin=0, xmax=3, linewidth=4, color = 'g')\n",
    "ax.set_title(\"logistic equation\")"
   ]
  },
  {
   "cell_type": "code",
   "execution_count": null,
   "metadata": {
    "ExecuteTime": {
     "end_time": "2018-01-24T07:10:44.032937Z",
     "start_time": "2018-01-24T07:10:43.541632Z"
    }
   },
   "outputs": [],
   "source": [
    "# reinitiate the symbols\n",
    "x, t, C1,y0= sympy.symbols(\"x, t,C1, y0\") # C1 is C1 NOT C_1, no need _\n",
    "y = sympy.Function(\"y\")\n",
    "\n",
    "print(\"Differential equation:\")\n",
    "ode = sympy.Eq(y(t).diff(t), y(t)-y(t)**2)\n",
    "display(ode)\n",
    "#\n",
    "print(\"General solution:\")\n",
    "sol = sympy.dsolve(ode, y(t))\n",
    "display(sol)\n",
    "# solve C1 under initial condition with known y0 \n",
    "print(\"Solve C1 for y0:\")\n",
    "C1_ic = solve(sol.rhs.subs({t:0})-y0,C1)[0]\n",
    "display(C1_ic)\n",
    "# substitute C1 by y0\n",
    "print(\"Solution with y0:\")\n",
    "sol = sol.subs({C1:C1_ic})\n",
    "display(sol)\n",
    "print(\"numpy function of t and y0\")\n",
    "f_exact = sympy.lambdify((t, y0), sol.rhs, 'numpy') # numpy funciton of t and y0\n",
    "f_exact"
   ]
  },
  {
   "cell_type": "markdown",
   "metadata": {},
   "source": [
    "at 0, slope is positive, and it is unstable; at 1, slope is negative, and it is stable. "
   ]
  },
  {
   "cell_type": "code",
   "execution_count": null,
   "metadata": {
    "ExecuteTime": {
     "end_time": "2018-01-24T07:10:45.643218Z",
     "start_time": "2018-01-24T07:10:45.117823Z"
    }
   },
   "outputs": [],
   "source": [
    "fig, ax = plt.subplots( figsize=(12, 6))\n",
    "\n",
    "tl=0;tu=3;yl =-2;yu=2;tstep = (tu-tl)/101\n",
    "\n",
    "#\t\t\t\t\tI. direction field\n",
    "plot_direction_field(t, y(t), ode.rhs, x_lim=(tl, tu), y_lim=(yl, yu),\n",
    "                     head_width=0.05, ax = ax)\n",
    "\n",
    "#\t\t\t\t\tII. Dot at given (x0,y0) and solution curve through (x0,y0)\n",
    "t0=0; y00=0.2\n",
    "ax.plot([t0],[y00],'mo',markersize = 16) # 'm'agenta d'o't\n",
    "#X=np.linspace(t0,4,101)  # t[0]=t0, .., t[100]=4.\n",
    "X=np.arange(t0,tu,tstep) \n",
    "#Y=[f_exact(t,y0) for t in X]\n",
    "Y=f_exact(X,y00)\n",
    "\n",
    "ax.plot(X,Y,'m',linewidth=4) # lines joining points (X[i],Y[i]), 'm'agenta\n",
    "\n",
    "#\t\t\t\t\tII. Dot at given (x0,y0) and solution curve through (x0,y0)\n",
    "t0=0; y00=3\n",
    "ax.plot([t0],[y00],'mo',markersize = 16) # 'm'agenta d'o't\n",
    "#X=np.linspace(t0,4,101)  # t[0]=t0, .., t[100]=4.\n",
    "X=np.arange(t0,tu,tstep) \n",
    "#Y=[f_exact(t,y0) for t in X]\n",
    "Y=f_exact(X,y00)\n",
    "\n",
    "ax.plot(X,Y,'m',linewidth=4) # lines joining points (X[i],Y[i]), 'm'agenta\n",
    "\n",
    "#\t\t\t\t\tIII. HORIZONTAL STEADY STATE\n",
    "\n",
    "plt.axhline(y=1, xmin=0, xmax=3, linewidth=4, color = 'g')\n",
    "plt.axhline(y=0, xmin=0, xmax=3, linewidth=4, color = 'g')\n",
    "\n",
    "ax.set_xlabel(\"t\")\n",
    "ax.set_ylabel(\"y\")\n",
    "\n",
    "fig.tight_layout()"
   ]
  },
  {
   "cell_type": "markdown",
   "metadata": {},
   "source": [
    "## Example 3: Nonautonomous DE \n",
    "###  Isoclines f(t,y) = constant, \n",
    "### same arrows along isoclines"
   ]
  },
  {
   "cell_type": "code",
   "execution_count": null,
   "metadata": {
    "ExecuteTime": {
     "end_time": "2018-01-24T07:10:47.380853Z",
     "start_time": "2018-01-24T07:10:46.631847Z"
    }
   },
   "outputs": [],
   "source": [
    "# reinitiate the symbols\n",
    "x, t, C1,y0= sympy.symbols(\"x, t,C1, y0\") # C1 is C1 NOT C_1, no need _\n",
    "y = sympy.Function(\"y\")\n",
    "\n",
    "print(\"Differential equation:\")\n",
    "ode = sympy.Eq(y(t).diff(t), 1 +t-y(t))\n",
    "display(ode)\n",
    "#\n",
    "print(\"General solution:\")\n",
    "sol = sympy.dsolve(ode, y(t))\n",
    "display(sol)\n",
    "# solve C1 under initial condition with known y0 \n",
    "print(\"Solve C1 for y0:\")\n",
    "C1_ic = solve(sol.rhs.subs({t:0})-y0,C1)[0]\n",
    "display(C1_ic)\n",
    "# substitute C1 by y0\n",
    "print(\"Solution with y0:\")\n",
    "sol = sol.subs({C1:C1_ic})\n",
    "display(sol)\n",
    "print(\"numpy function of t and y0\")\n",
    "f_exact = sympy.lambdify((t, y0), sol.rhs, 'numpy') # numpy funciton of t and y0\n",
    "f_exact\n",
    "\n",
    "fig, ax = plt.subplots( figsize=(12, 6))\n",
    "\n",
    "tl=0;tu=3;yl =-1;yu=4;tstep = (tu-tl)/101\n",
    "\n",
    "#\t\t\t\t\tI. direction field\n",
    "plot_direction_field(t, y(t), ode.rhs, x_lim=(tl, tu), y_lim=(yl, yu),\n",
    "                     head_width=0.05, ax = ax)\n",
    "\n",
    "#\t\t\t\t\tII. Dot at given (x0,y0) and solution curve through (x0,y0)\n",
    "t0=0; y00=-1\n",
    "ax.plot([t0],[y00],'mo',markersize = 16) # 'm'agenta d'o't\n",
    "#X=np.linspace(t0,4,101)  # t[0]=t0, .., t[100]=4.\n",
    "X=np.arange(t0,tu,tstep) \n",
    "#Y=[f_exact(t,y0) for t in X]\n",
    "Y=f_exact(X,y00)\n",
    "\n",
    "ax.plot(X,Y,'m',linewidth=4) # lines joining points (X[i],Y[i]), 'm'agenta\n",
    "\n",
    "#\t\t\t\t\tII. Dot at given (x0,y0) and solution curve through (x0,y0)\n",
    "t0=0; y00=3\n",
    "ax.plot([t0],[y00],'mo',markersize = 16) # 'm'agenta d'o't\n",
    "#X=np.linspace(t0,4,101)  # t[0]=t0, .., t[100]=4.\n",
    "X=np.arange(t0,tu,tstep) \n",
    "#Y=[f_exact(t,y0) for t in X]\n",
    "Y=f_exact(X,y00)\n",
    "\n",
    "ax.plot(X,Y,'m',linewidth=4) # lines joining points (X[i],Y[i]), 'm'agenta\n",
    "\n",
    "#\t\t\t\t\tIII. Isoclines\n",
    "\n",
    "ax.plot(X, X,  linewidth=4, color = 'r', label = \"Isocline1\")\n",
    "ax.plot(X, X+1,  linewidth=4, color = 'g',label = \"Isocline2\")\n",
    "\n",
    "ax.set_xlabel(\"t\")\n",
    "ax.set_ylabel(\"y\")\n",
    "\n",
    "ax.legend()\n",
    "\n",
    "fig.tight_layout()\n"
   ]
  },
  {
   "cell_type": "markdown",
   "metadata": {},
   "source": [
    "## Example 4: Linear System of DE and  Stability\n",
    "### Source, Sink and Saddle\n",
    "### Second order ODE = Two First Order Equations = System of Equations\n",
    "\n",
    "$$y'' + B y' + Cy=0$$\n",
    "\n",
    "$$ \\frac{d}{dt}\\begin{bmatrix}y\\\\y'\\end{bmatrix} = \\begin{bmatrix}0 & 1\\\\-C & -B\\end{bmatrix} \\begin{bmatrix}y\\\\y'\\end{bmatrix}$$\n",
    "\n",
    "assume $y = e^{st}$\n",
    "\n",
    "$$s^2 + B s + C=0$$\n",
    "\n",
    "Characteristic equation for a Eigenvalue problem.\n",
    "\n",
    "\n",
    "Exponents $s_1$ ,$s_2$ are Eigenvalues $\\lambda_i$ of companion matrix.\n",
    "\n",
    "$$A = \\begin{bmatrix}0 & 1\\\\-C & -B\\end{bmatrix}$$\n",
    "\n",
    "Stability = B >0 , C> 0 ; Then Real(s1)<0, Real(s2)<0.\n",
    "\n",
    "\n",
    "\n",
    "### General Form for Two First Order Equations\n",
    "\n",
    "$$ \\frac{d}{dt}\\begin{bmatrix} y_1\\\\ y_2  \\end{bmatrix} = \\begin{bmatrix}a_{11} & a_{12}\\\\a_{21} & a_{22}\\end{bmatrix} \\begin{bmatrix}y_1\\\\y_2\\end{bmatrix}$$\n",
    "\n",
    "matrix form\n",
    "\n",
    "$$\\mathbf y' = \\mathbf A \\mathbf y$$\n",
    "\n",
    "We can guess one solution like:\n",
    "\n",
    "$\\mathbf y_1 = e^{\\lambda_1 t} \\mathbf v_1$\n",
    "\n",
    "\n",
    "where $$A \\mathbf v_1 = \\lambda_1 \\mathbf v_1$$\n",
    "\n",
    "\n",
    "since \n",
    "\n",
    "$$ \\frac{d}{dt} \\mathbf y_1 = \\lambda_1 e^{\\lambda_1 t} \\mathbf v_1 = \\mathbf A e^{\\lambda_1 t} \\mathbf v_1$$\n",
    "\n",
    "so $ \\mathbf y_1$ satisfies:\n",
    "\n",
    "$$\\mathbf y' = \\mathbf A \\mathbf y$$\n",
    "\n",
    "And then the general solution\n",
    "\n",
    "$$\\mathbf y =C_1 e^{\\lambda_1 t} \\mathbf v_1 + C_2 e^{\\lambda_2 t} \\mathbf v_2$$\n",
    "\n",
    "which depends how many eigenvalues and whether they are real or complex numbers.\n",
    "\n",
    "ref:\n",
    "\n",
    "https://www.youtube.com/watch?v=fd7ioT_wwPE&index=30&list=PLYmwFR_XLSpYpYNlNI8gRn7QImUZvkqK0"
   ]
  },
  {
   "cell_type": "markdown",
   "metadata": {},
   "source": [
    "### sketching phase portraits\n",
    "\n",
    "https://www.youtube.com/watch?v=dpbRUQ-5YWc\n",
    "\n",
    "![](https://i.ytimg.com/vi/dpbRUQ-5YWc/maxresdefault.jpg)\n",
    "\n",
    "\n",
    "### Linear Systems of Differential Equations\n",
    "\n",
    "Many solutions to D.E’s can be modeled by one of the following trajectories (images borrowed from Dr. Paul Dawkins)\n",
    "\n",
    "\n",
    "![](https://jmckennonmth212s09.files.wordpress.com/2009/02/graphs.jpg)\n",
    "\n",
    "\n",
    "ref:\n",
    "\n",
    "https://jmckennonmth212s09.wordpress.com/2009/02/07/linear-systems-of-differential-equations/\n",
    "\n",
    "\n"
   ]
  },
  {
   "cell_type": "code",
   "execution_count": null,
   "metadata": {
    "collapsed": true
   },
   "outputs": [],
   "source": []
  },
  {
   "cell_type": "markdown",
   "metadata": {},
   "source": [
    "### Source\n",
    "\n",
    "$s_1$ and $s_2$ $>0$ is source. and $s_1$ and $s_2$ $<0$ is sink.\n",
    "\n",
    "http://m.wolframalpha.com/input/?i=solve+y%27%27-3y%27%2B2y%3D0\n",
    "\n",
    "\n",
    "![](https://i.ytimg.com/vi/VqXKa11IA6A/maxresdefault.jpg)"
   ]
  },
  {
   "cell_type": "code",
   "execution_count": null,
   "metadata": {
    "ExecuteTime": {
     "end_time": "2018-01-24T07:11:13.555714Z",
     "start_time": "2018-01-24T07:11:13.505580Z"
    }
   },
   "outputs": [],
   "source": [
    "# reinitiate the symbols\n",
    "x, t, C1,C2,y0= sympy.symbols(\"x, t,C1,C2, y0\") # C1 is C1 NOT C_1, no need _\n",
    "y = sympy.Function(\"y\")\n",
    "\n",
    "print(\"Differential equation:\")\n",
    "ode = sympy.Eq(y(t).diff(t,2)-3*y(t).diff(t)+2*y(t)) # damping term is -3, so diverse\n",
    "display(ode)\n",
    "#\n",
    "print(\"General solution:\")\n",
    "sol = sympy.dsolve(ode, y(t))\n",
    "display(sol)"
   ]
  },
  {
   "cell_type": "markdown",
   "metadata": {},
   "source": [
    "#### Assume C1, C2 = 1"
   ]
  },
  {
   "cell_type": "code",
   "execution_count": null,
   "metadata": {
    "ExecuteTime": {
     "end_time": "2018-01-24T07:11:15.208107Z",
     "start_time": "2018-01-24T07:11:15.199099Z"
    },
    "collapsed": true
   },
   "outputs": [],
   "source": [
    "y_t = sympy.lambdify(t, sol.rhs.subs({C1:1,C2:1}), 'numpy')\n",
    "yp_t = sympy.lambdify(t, sol.rhs.diff(t).subs({C1:1,C2:1}), 'numpy')"
   ]
  },
  {
   "cell_type": "code",
   "execution_count": null,
   "metadata": {
    "ExecuteTime": {
     "end_time": "2018-01-24T07:11:18.574071Z",
     "start_time": "2018-01-24T07:11:18.267241Z"
    }
   },
   "outputs": [],
   "source": [
    "fig, ax = plt.subplots(1,2,figsize=(12, 4))\n",
    "\n",
    "tt = np.linspace(0, 10, 500)\n",
    "ax[0].plot(tt, y_t(tt).real)\n",
    "ax[0].set_xlabel(r\"$t$\", fontsize=18)\n",
    "ax[0].set_ylabel(r\"$y(t)$\", fontsize=18)\n",
    "\n",
    "ax[1].plot( y_t(tt).real, yp_t(tt).real)\n",
    "ax[1].set_xlabel(r\"$y(t)$\", fontsize=18)\n",
    "ax[1].set_ylabel(r\"$y'(t)$\", fontsize=18)\n",
    "\n",
    "fig.tight_layout()"
   ]
  },
  {
   "cell_type": "markdown",
   "metadata": {},
   "source": [
    "### Saddle\n",
    "\n",
    "$s_1>0$ and $s_2<0$ \n",
    "\n",
    "http://m.wolframalpha.com/input/?i=solve+y%27%27-4y%3D0\n",
    "\n",
    "\n",
    "\n",
    "![](http://demonstrations.wolfram.com/PhasePortraitsEigenvectorsAndEigenvalues/HTMLImages/index.en/popup_2.jpg)"
   ]
  },
  {
   "cell_type": "code",
   "execution_count": null,
   "metadata": {
    "ExecuteTime": {
     "end_time": "2018-01-24T07:11:39.937101Z",
     "start_time": "2018-01-24T07:11:39.869922Z"
    }
   },
   "outputs": [],
   "source": [
    "# reinitiate the symbols\n",
    "x, t, C1,C2,y0= sympy.symbols(\"x, t,C1,C2, y0\") # C1 is C1 NOT C_1, no need _\n",
    "y = sympy.Function(\"y\")\n",
    "\n",
    "print(\"Differential equation:\")\n",
    "ode = sympy.Eq(y(t).diff(t,2)-4*y(t)) # damping term is -3, so diverse\n",
    "display(ode)\n",
    "#\n",
    "print(\"General solution:\")\n",
    "sol = sympy.dsolve(ode, y(t))\n",
    "display(sol)\n",
    "\n",
    "print(r\"First order differential $y'$:\")\n",
    "display(sol.rhs.diff(t))"
   ]
  },
  {
   "cell_type": "markdown",
   "metadata": {},
   "source": [
    "#### Assume C1, C2 = -1"
   ]
  },
  {
   "cell_type": "code",
   "execution_count": null,
   "metadata": {
    "ExecuteTime": {
     "end_time": "2018-01-24T07:11:41.371002Z",
     "start_time": "2018-01-24T07:11:41.361979Z"
    },
    "collapsed": true
   },
   "outputs": [],
   "source": [
    "y_t = sympy.lambdify(t, sol.rhs.subs({C1:-1,C2:-1}), 'numpy')\n",
    "yp_t = sympy.lambdify(t, sol.rhs.diff(t).subs({C1:-1,C2:-1}), 'numpy')"
   ]
  },
  {
   "cell_type": "code",
   "execution_count": null,
   "metadata": {
    "ExecuteTime": {
     "end_time": "2018-01-24T07:11:42.411808Z",
     "start_time": "2018-01-24T07:11:42.154108Z"
    }
   },
   "outputs": [],
   "source": [
    "fig, ax = plt.subplots(1,2,figsize=(12, 4))\n",
    "\n",
    "tt = np.linspace(0, 10, 500)\n",
    "ax[0].plot(tt, y_t(tt).real)\n",
    "ax[0].set_xlabel(r\"$t$\", fontsize=18)\n",
    "ax[0].set_ylabel(r\"$y(t)$\", fontsize=18)\n",
    "\n",
    "ax[1].plot( y_t(tt).real, yp_t(tt).real)\n",
    "ax[1].set_xlabel(r\"$y(t)$\", fontsize=18)\n",
    "ax[1].set_ylabel(r\"$y'(t)$\", fontsize=18)\n",
    "\n",
    "fig.tight_layout()"
   ]
  },
  {
   "cell_type": "markdown",
   "metadata": {},
   "source": [
    "### Spiral\n",
    "\n",
    "\n",
    "$s = a +  i \\omega $ for $B^2 < 4AC$.\n",
    "\n",
    "\n",
    "$$y = e^{(a+i\\omega)t}$$\n",
    "\n",
    "Spiral source: $a>0, B<0$;\n",
    "\n",
    "Center: $a=0 $, No damping;\n",
    "\n",
    "Spiarl sink: $a<0$,   Underdamping\n",
    "\n",
    "\n",
    "![](http://demonstrations.wolfram.com/PhasePortraitsEigenvectorsAndEigenvalues/HTMLImages/index.en/popup_3.jpg)"
   ]
  },
  {
   "cell_type": "markdown",
   "metadata": {
    "ExecuteTime": {
     "end_time": "2018-01-19T03:20:08.405437Z",
     "start_time": "2018-01-19T03:20:08.402430Z"
    }
   },
   "source": [
    "### Center\n",
    "http://www.wolframalpha.com/input/?i=solve+y%27%27+%2Bw%5E2*y+%3D+0\n",
    "\n",
    "\n",
    "\n",
    "![](https://www.mathworks.com/content/dam/mathworks/videos/d/4724760451001/jcr:content/renditions/Thumbnail.11.640.360.jpg)"
   ]
  },
  {
   "cell_type": "code",
   "execution_count": null,
   "metadata": {
    "ExecuteTime": {
     "end_time": "2018-01-24T07:12:07.875584Z",
     "start_time": "2018-01-24T07:12:07.808405Z"
    }
   },
   "outputs": [],
   "source": [
    "# reinitiate the symbols\n",
    "x, t, C1,C2,omeg= sympy.symbols(\"x, t,C1, C2, omega\") # C1 is C1 NOT C_1, no need _\n",
    "y = sympy.Function(\"y\")\n",
    "\n",
    "print(\"Differential equation:\")\n",
    "ode = sympy.Eq(y(t).diff(t,2)+ omeg**2*y(t)) # damping term is -3, so diverse\n",
    "display(ode)\n",
    "#\n",
    "print(\"General solution:\")\n",
    "sol = sympy.dsolve(ode, y(t))\n",
    "display(sol)\n",
    "\n",
    "print(r\"First order differential $y'$:\")\n",
    "display(sol.rhs.diff(t))"
   ]
  },
  {
   "cell_type": "markdown",
   "metadata": {},
   "source": [
    "### Spiral sink\n",
    "\n",
    "![](http://www4d.wolframalpha.com/Calculate/MSP/MSP2079116hf4d8i20fai54000016ic6ggiga8f6558?MSPStoreType=image/gif&s=33&w=162.&h=18.)\n",
    "http://m.wolframalpha.com/input/?i=solve+y%27%27%2B2y%27%2B2y%3D0\n",
    "\n",
    "\n",
    "\n",
    "![](http://demonstrations.wolfram.com/PhasePortraitsEigenvectorsAndEigenvalues/HTMLImages/index.en/popup_1.jpg)"
   ]
  },
  {
   "cell_type": "code",
   "execution_count": null,
   "metadata": {
    "ExecuteTime": {
     "end_time": "2018-01-24T07:12:11.103193Z",
     "start_time": "2018-01-24T07:12:11.010948Z"
    }
   },
   "outputs": [],
   "source": [
    "# reinitiate the symbols\n",
    "x, t, C1,C2,omeg= sympy.symbols(\"x, t,C1, C2,omega\") # C1 is C1 NOT C_1, no need _\n",
    "y = sympy.Function(\"y\")\n",
    "\n",
    "print(\"Differential equation:\")\n",
    "ode = sympy.Eq(y(t).diff(t,2)+ 2*y(t).diff(t) +2*y(t)) # damping term is -3, so diverse\n",
    "display(ode)\n",
    "#\n",
    "print(\"General solution:\")\n",
    "sol = sympy.dsolve(ode, y(t))\n",
    "display(sol)\n",
    "\n",
    "print(r\"First order differential $y'$:\")\n",
    "display(sol.rhs.diff(t))"
   ]
  },
  {
   "cell_type": "markdown",
   "metadata": {},
   "source": [
    "#### Assume C1, C2 = -1"
   ]
  },
  {
   "cell_type": "code",
   "execution_count": null,
   "metadata": {
    "ExecuteTime": {
     "end_time": "2018-01-24T07:12:12.656349Z",
     "start_time": "2018-01-24T07:12:12.639319Z"
    },
    "collapsed": true
   },
   "outputs": [],
   "source": [
    "\n",
    "y_t = sympy.lambdify(t, sol.rhs.subs({C1:-1,C2:-1}), 'numpy')\n",
    "yp_t = sympy.lambdify(t, sol.rhs.diff(t).subs({C1:-1,C2:-1}), 'numpy')"
   ]
  },
  {
   "cell_type": "code",
   "execution_count": null,
   "metadata": {
    "ExecuteTime": {
     "end_time": "2018-01-24T07:13:04.860365Z",
     "start_time": "2018-01-24T07:13:04.584634Z"
    }
   },
   "outputs": [],
   "source": [
    "fig, ax = plt.subplots(1,2,figsize=(12, 4))\n",
    "\n",
    "tt = np.linspace(0, 10, 500)\n",
    "ax[0].plot(tt, y_t(tt).real, label = r\"y(t)\")\n",
    "ax[0].set_xlabel(r\"$t$\", fontsize=18)\n",
    "ax[0].set_ylabel(r\"$y(t)$\", fontsize=18)\n",
    "ax[0].legend()\n",
    "ax[1].plot( y_t(tt).real, yp_t(tt).real)\n",
    "ax[1].set_xlabel(r\"$y(t)$\", fontsize=18)\n",
    "ax[1].set_ylabel(r\"$y'(t)$\", fontsize=18)\n",
    "#ax[1].legend()\n",
    "fig.tight_layout()"
   ]
  },
  {
   "cell_type": "code",
   "execution_count": null,
   "metadata": {
    "collapsed": true
   },
   "outputs": [],
   "source": []
  },
  {
   "cell_type": "markdown",
   "metadata": {},
   "source": [
    "### Spiral source\n",
    "\n",
    "![](http://www4f.wolframalpha.com/Calculate/MSP/MSP14341b8e5a33cb21fhff0000269eeadfa97ab142?MSPStoreType=image/gif&s=55&w=162.&h=18.)\n",
    "http://m.wolframalpha.com/input/?i=solve+y%27%27-2y%27%2B2y%3D0"
   ]
  },
  {
   "cell_type": "code",
   "execution_count": null,
   "metadata": {
    "ExecuteTime": {
     "end_time": "2018-01-24T07:14:44.759309Z",
     "start_time": "2018-01-24T07:14:44.686114Z"
    }
   },
   "outputs": [],
   "source": [
    "# reinitiate the symbols\n",
    "x, t, C1,C2,omeg= sympy.symbols(\"x, t,C1, C2,omega\") # C1 is C1 NOT C_1, no need _\n",
    "y = sympy.Function(\"y\")\n",
    "\n",
    "print(\"Differential equation:\")\n",
    "ode = sympy.Eq(y(t).diff(t,2)- 2*y(t).diff(t) +2*y(t)) # damping term is -3, so diverse\n",
    "display(ode)\n",
    "#\n",
    "print(\"General solution:\")\n",
    "sol = sympy.dsolve(ode, y(t))\n",
    "display(sol)\n",
    "\n",
    "print(r\"First order differential $y'$:\")\n",
    "display(sol.rhs.diff(t))"
   ]
  },
  {
   "cell_type": "markdown",
   "metadata": {},
   "source": [
    "#### Assume C1, C2 = 1"
   ]
  },
  {
   "cell_type": "code",
   "execution_count": null,
   "metadata": {
    "ExecuteTime": {
     "end_time": "2018-01-24T07:14:45.410037Z",
     "start_time": "2018-01-24T07:14:45.397005Z"
    },
    "collapsed": true
   },
   "outputs": [],
   "source": [
    "\n",
    "y_t = sympy.lambdify(t, sol.rhs.subs({C1:1,C2:1}), 'numpy')\n",
    "yp_t = sympy.lambdify(t, sol.rhs.diff(t).subs({C1:1,C2:1}), 'numpy')"
   ]
  },
  {
   "cell_type": "code",
   "execution_count": null,
   "metadata": {
    "ExecuteTime": {
     "end_time": "2018-01-24T07:14:45.973537Z",
     "start_time": "2018-01-24T07:14:45.693793Z"
    }
   },
   "outputs": [],
   "source": [
    "fig, ax = plt.subplots(1,2,figsize=(12, 4))\n",
    "\n",
    "tt = np.linspace(0, 10, 500)\n",
    "ax[0].plot(tt, y_t(tt).real)\n",
    "ax[0].set_xlabel(r\"$t$\", fontsize=18)\n",
    "ax[0].set_ylabel(r\"$y(t)$\", fontsize=18)\n",
    "\n",
    "ax[1].plot( y_t(tt).real, yp_t(tt).real)\n",
    "ax[1].set_xlabel(r\"$y(t)$\", fontsize=18)\n",
    "ax[1].set_ylabel(r\"$y'(t)$\", fontsize=18)\n",
    "\n",
    "fig.tight_layout()"
   ]
  },
  {
   "cell_type": "code",
   "execution_count": null,
   "metadata": {
    "collapsed": true
   },
   "outputs": [],
   "source": []
  },
  {
   "cell_type": "code",
   "execution_count": null,
   "metadata": {
    "collapsed": true
   },
   "outputs": [],
   "source": []
  },
  {
   "cell_type": "markdown",
   "metadata": {},
   "source": [
    "## Numerical integration of ODEs using SciPy\n",
    "Integrating differential equations\n",
    "scipy.integrate also features routines for integrating Ordinary Differential Equations (ODE). In particular, scipy.integrate.odeint() solves ODE of the form:\n",
    "\n",
    "$$dy/dt = rhs(y1, y2, .., t0,...)$$\n",
    "\n",
    "http://www.scipy-lectures.org/intro/scipy.html#integrating-differential-equations"
   ]
  },
  {
   "cell_type": "code",
   "execution_count": null,
   "metadata": {
    "ExecuteTime": {
     "end_time": "2018-01-24T07:14:47.855567Z",
     "start_time": "2018-01-24T07:14:46.744586Z"
    },
    "collapsed": true
   },
   "outputs": [],
   "source": [
    "import scipy as sp\n",
    "from scipy import integrate "
   ]
  },
  {
   "cell_type": "code",
   "execution_count": null,
   "metadata": {
    "ExecuteTime": {
     "end_time": "2018-01-24T07:14:47.904755Z",
     "start_time": "2018-01-24T07:14:47.856544Z"
    }
   },
   "outputs": [],
   "source": [
    "# reinitiate the symbols\n",
    "x, t, C1,C2,omeg= sympy.symbols(\"x, t,C1, C2,omega\") # C1 is C1 NOT C_1, no need _\n",
    "y = sympy.Function(\"y\")\n",
    "print(\"Differential equation:\")\n",
    "ode = sympy.Eq(y(t).diff(t,2)- 2*y(t).diff(t) +2*y(t)) # damping term is -3, so diverse\n",
    "display(ode)\n",
    "#\n",
    "print(\"General solution:\")\n",
    "sol = sympy.dsolve(ode, y(t))\n",
    "display(sol)"
   ]
  },
  {
   "cell_type": "markdown",
   "metadata": {},
   "source": [
    "#### A 2nd order ode can be solved as a two 1st order linear ode system\n",
    "\n",
    "$$y'' + B y' + Cy=0$$\n",
    "\n",
    "$$ \\frac{d}{dt}\\begin{bmatrix}y\\\\y'\\end{bmatrix} = \\begin{bmatrix}0 & 1\\\\-C & -B\\end{bmatrix} \\begin{bmatrix}y\\\\y'\\end{bmatrix}$$\n"
   ]
  },
  {
   "cell_type": "code",
   "execution_count": null,
   "metadata": {
    "ExecuteTime": {
     "end_time": "2018-01-24T07:14:47.908681Z",
     "start_time": "2018-01-24T07:14:47.905673Z"
    },
    "collapsed": true
   },
   "outputs": [],
   "source": [
    "def odesystem(u,t):\n",
    "    y = u[0]\n",
    "    yp = u[1]\n",
    "    return (yp,-2*y+2*yp)"
   ]
  },
  {
   "cell_type": "markdown",
   "metadata": {},
   "source": [
    "#### Initial conditions, or parameter(s)"
   ]
  },
  {
   "cell_type": "code",
   "execution_count": null,
   "metadata": {
    "ExecuteTime": {
     "end_time": "2018-01-24T07:14:47.932745Z",
     "start_time": "2018-01-24T07:14:47.909684Z"
    },
    "collapsed": true
   },
   "outputs": [],
   "source": [
    "y0 = 2\n",
    "yp0 = 0\n",
    "u0 = sp.array([y0,yp0])"
   ]
  },
  {
   "cell_type": "markdown",
   "metadata": {},
   "source": [
    "In following cell:\n",
    "- Choose points for output.<br>\n",
    "- Integrate.<br>\n",
    "<b>Note:</b> `odeint` returns an array:<br>\n",
    "  `[[y_0  yp_0],`<br>\n",
    "  `[y_1  yp_1],`<br>\n",
    "  `[y_2  yp_2], ...]`<br>\n",
    "  To get single list for `y` and single list for `yp` we need the transpose of the returned array.<br>\n",
    "  (Could also keep return as a single array if that's more useful down the road.)"
   ]
  },
  {
   "cell_type": "code",
   "execution_count": null,
   "metadata": {
    "ExecuteTime": {
     "end_time": "2018-01-24T07:14:48.320778Z",
     "start_time": "2018-01-24T07:14:48.316766Z"
    },
    "collapsed": true
   },
   "outputs": [],
   "source": [
    "t = sp.linspace(0,5,201)  # NOTE: The  points selected for plotting are \n",
    "                           # not the points used for the numerical \n",
    "                           # evalution.\n",
    "y, yp = sp.integrate.odeint(odesystem,u0,t).T"
   ]
  },
  {
   "cell_type": "code",
   "execution_count": null,
   "metadata": {
    "ExecuteTime": {
     "end_time": "2018-01-24T07:14:48.860224Z",
     "start_time": "2018-01-24T07:14:48.535348Z"
    }
   },
   "outputs": [],
   "source": [
    "fig, ax = plt.subplots(1,2,figsize=(12, 4))\n",
    "\n",
    "tt = np.linspace(0, 10, 500)\n",
    "ax[0].plot(t, y,label = \"$y(t)$\")\n",
    "ax[0].plot(t, yp,label = \"$y'(t)$\")\n",
    "ax[0].set_xlabel(r\"$t$\", fontsize=18)\n",
    "ax[0].set_ylabel(r\"$y(t)$ and $y'(t)$\", fontsize=18)\n",
    "ax[0].legend()\n",
    "\n",
    "ax[1].plot( y, yp)\n",
    "ax[1].set_xlabel(r\"$y(t)$\", fontsize=18)\n",
    "ax[1].set_ylabel(r\"$y'(t)$\", fontsize=18)\n",
    "\n",
    "fig.tight_layout()"
   ]
  },
  {
   "cell_type": "code",
   "execution_count": null,
   "metadata": {
    "collapsed": true
   },
   "outputs": [],
   "source": []
  },
  {
   "cell_type": "markdown",
   "metadata": {},
   "source": [
    "# System of ODE\n",
    "## Lotka-Volterra equations for predator(fox)/pray(rabbit) populations\n",
    "\n",
    "$$\n",
    "x'(t) = a x - b x y\n",
    "$$\n",
    "\n",
    "$$\n",
    "y'(t) = c x y - d y\n",
    "$$"
   ]
  },
  {
   "cell_type": "code",
   "execution_count": null,
   "metadata": {
    "ExecuteTime": {
     "end_time": "2018-01-24T07:14:49.544029Z",
     "start_time": "2018-01-24T07:14:49.260291Z"
    }
   },
   "outputs": [],
   "source": [
    "a, b, c, d = 0.4, 0.002, 0.001, 0.7\n",
    "def f(xy, t):\n",
    "    x, y = xy\n",
    "    return [a * x - b * x * y,\n",
    "            c * x * y - d * y]\n",
    "\n",
    "xy0 = [600, 400]\n",
    "\n",
    "t = np.linspace(0, 50, 250)\n",
    "\n",
    "xy_t = integrate.odeint(f, xy0, t)\n",
    "\n",
    "fig, axes = plt.subplots(1, 2, figsize=(12, 4))\n",
    "\n",
    "axes[0].plot(t, xy_t[:,0], 'r', label=\"Fox\")\n",
    "axes[0].plot(t, xy_t[:,1], 'b', label=\"Rabbit\")\n",
    "axes[0].set_xlabel(\"Time\")\n",
    "axes[0].set_ylabel(\"Number of animals\")\n",
    "axes[0].legend()\n",
    "\n",
    "axes[1].plot(xy_t[:,0], xy_t[:,1], 'k')\n",
    "axes[1].set_xlabel(\"Number of fox\")\n",
    "axes[1].set_ylabel(\"Number of rabbit\")\n",
    "fig.tight_layout()"
   ]
  },
  {
   "cell_type": "code",
   "execution_count": null,
   "metadata": {
    "collapsed": true
   },
   "outputs": [],
   "source": []
  },
  {
   "cell_type": "markdown",
   "metadata": {},
   "source": [
    "# Nonlinear DE\n",
    "## Linearization at Critical Points/Steady States\n",
    "\n",
    "\n",
    "$$\\frac{dy}{dt}  = f(Y) = 0 $$\n",
    "\n",
    "$y(t) = Y$ is steady state: **STABLE** ? **converge**?\n",
    "\n",
    "**Linearize** around the station/critical points. \n",
    "\n",
    "**zoom in**\n",
    "\n",
    "$$f(y) = f(Y) + (y-Y)\\frac{df}{dy} = (y-Y)\\frac{df}{dy}  $$\n",
    " \n",
    " \n",
    "Then \n",
    "\n",
    "$$\\frac{dy}{dt}= (y-Y)\\frac{df}{dy}$$\n",
    "\n",
    "and\n",
    "\n",
    "$$\\frac{d}{dt}(y-Y)= a (y-Y), \\ \\, \\quad where \\quad a = \\frac{df}{dy}$$\n",
    "\n",
    "$$y-Y = C e^{at}$$\n",
    "\n",
    "ref:\n",
    "\n",
    "https://www.youtube.com/watch?v=0hx59wYpFyY&list=PLYmwFR_XLSpYpYNlNI8gRn7QImUZvkqK0&index=31"
   ]
  },
  {
   "cell_type": "code",
   "execution_count": null,
   "metadata": {
    "collapsed": true
   },
   "outputs": [],
   "source": []
  },
  {
   "cell_type": "code",
   "execution_count": null,
   "metadata": {
    "collapsed": true
   },
   "outputs": [],
   "source": []
  },
  {
   "cell_type": "code",
   "execution_count": null,
   "metadata": {
    "collapsed": true
   },
   "outputs": [],
   "source": []
  },
  {
   "cell_type": "code",
   "execution_count": null,
   "metadata": {
    "ExecuteTime": {
     "end_time": "2018-01-24T07:14:52.242203Z",
     "start_time": "2018-01-24T07:14:52.213125Z"
    }
   },
   "outputs": [],
   "source": [
    "from IPython.core.display import HTML, Image\n",
    "css_file = '../../../../custom.css'\n",
    "HTML(open(css_file, 'r').read())"
   ]
  },
  {
   "cell_type": "code",
   "execution_count": null,
   "metadata": {
    "collapsed": true
   },
   "outputs": [],
   "source": []
  },
  {
   "cell_type": "code",
   "execution_count": null,
   "metadata": {
    "collapsed": true
   },
   "outputs": [],
   "source": []
  },
  {
   "cell_type": "code",
   "execution_count": null,
   "metadata": {
    "collapsed": true
   },
   "outputs": [],
   "source": []
  },
  {
   "cell_type": "code",
   "execution_count": null,
   "metadata": {
    "collapsed": true
   },
   "outputs": [],
   "source": []
  },
  {
   "cell_type": "code",
   "execution_count": null,
   "metadata": {
    "collapsed": true
   },
   "outputs": [],
   "source": []
  },
  {
   "cell_type": "code",
   "execution_count": null,
   "metadata": {
    "collapsed": true
   },
   "outputs": [],
   "source": []
  },
  {
   "cell_type": "code",
   "execution_count": null,
   "metadata": {
    "collapsed": true
   },
   "outputs": [],
   "source": []
  }
 ],
 "metadata": {
  "kernelspec": {
   "display_name": "Python 3",
   "language": "python",
   "name": "python3"
  },
  "language_info": {
   "codemirror_mode": {
    "name": "ipython",
    "version": 3
   },
   "file_extension": ".py",
   "mimetype": "text/x-python",
   "name": "python",
   "nbconvert_exporter": "python",
   "pygments_lexer": "ipython3",
   "version": "3.6.2"
  }
 },
 "nbformat": 4,
 "nbformat_minor": 2
}
