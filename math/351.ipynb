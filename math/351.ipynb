{
 "cells": [
  {
   "cell_type": "code",
   "execution_count": null,
   "metadata": {},
   "outputs": [],
   "source": [
    "from sympy import *\n",
    "init_printing()\n",
    "import numpy as np\n",
    "import matplotlib.pyplot as plt\n",
    "from scipy.integrate import odeint\n",
    "%matplotlib inline\n",
    "plt.rcParams.update({'font.size': 14})  # Make the labels larger"
   ]
  },
  {
   "cell_type": "code",
   "execution_count": null,
   "metadata": {
    "collapsed": true
   },
   "outputs": [],
   "source": []
  },
  {
   "cell_type": "code",
   "execution_count": null,
   "metadata": {
    "collapsed": true
   },
   "outputs": [],
   "source": []
  },
  {
   "cell_type": "code",
   "execution_count": null,
   "metadata": {
    "collapsed": true
   },
   "outputs": [],
   "source": []
  },
  {
   "cell_type": "code",
   "execution_count": null,
   "metadata": {
    "collapsed": true
   },
   "outputs": [],
   "source": []
  },
  {
   "cell_type": "code",
   "execution_count": null,
   "metadata": {
    "collapsed": true
   },
   "outputs": [],
   "source": []
  },
  {
   "cell_type": "code",
   "execution_count": null,
   "metadata": {
    "collapsed": true
   },
   "outputs": [],
   "source": [
    "x,  z, t, C1 = symbols('x  z t C1')\n",
    "f, g, y = symbols('f g y', cls=Function)"
   ]
  },
  {
   "cell_type": "code",
   "execution_count": null,
   "metadata": {
    "collapsed": true
   },
   "outputs": [],
   "source": []
  },
  {
   "cell_type": "code",
   "execution_count": null,
   "metadata": {},
   "outputs": [],
   "source": [
    "y(t)"
   ]
  },
  {
   "cell_type": "code",
   "execution_count": null,
   "metadata": {},
   "outputs": [],
   "source": [
    " y(t).diff(t)"
   ]
  },
  {
   "cell_type": "code",
   "execution_count": null,
   "metadata": {},
   "outputs": [],
   "source": [
    "diffeq = Eq(y(t).diff(t), -0.1*y(t)+60)\n",
    "diffeq"
   ]
  },
  {
   "cell_type": "code",
   "execution_count": null,
   "metadata": {},
   "outputs": [],
   "source": [
    "de=dsolve(diffeq, y(t))\n",
    "de"
   ]
  },
  {
   "cell_type": "markdown",
   "metadata": {},
   "source": [
    "### Particular solution with initial value\n",
    "t0=0.; y0=200"
   ]
  },
  {
   "cell_type": "code",
   "execution_count": null,
   "metadata": {},
   "outputs": [],
   "source": [
    "solve(de.rhs.subs(t, 0)-200, C1)"
   ]
  },
  {
   "cell_type": "code",
   "execution_count": null,
   "metadata": {},
   "outputs": [],
   "source": [
    "de.subs(C1,-400.0)"
   ]
  },
  {
   "cell_type": "code",
   "execution_count": null,
   "metadata": {},
   "outputs": [],
   "source": [
    "de.subs(C1,-400.0).rhs.subs(t, 8)"
   ]
  },
  {
   "cell_type": "markdown",
   "metadata": {},
   "source": [
    "## Dynamic of y(t)"
   ]
  },
  {
   "cell_type": "code",
   "execution_count": null,
   "metadata": {},
   "outputs": [],
   "source": [
    "plot(de.subs(C1,-400.0).rhs, (t, 0, 400.))"
   ]
  },
  {
   "cell_type": "code",
   "execution_count": null,
   "metadata": {},
   "outputs": [],
   "source": [
    "diffeq"
   ]
  },
  {
   "cell_type": "markdown",
   "metadata": {},
   "source": [
    "## Dynamics of y'(t), phase diagram "
   ]
  },
  {
   "cell_type": "code",
   "execution_count": null,
   "metadata": {},
   "outputs": [],
   "source": [
    "plot(-0.1*x+60, (x, 0, 800.))\n",
    "\n"
   ]
  },
  {
   "cell_type": "code",
   "execution_count": null,
   "metadata": {
    "collapsed": true
   },
   "outputs": [],
   "source": []
  },
  {
   "cell_type": "code",
   "execution_count": null,
   "metadata": {
    "collapsed": true
   },
   "outputs": [],
   "source": []
  },
  {
   "cell_type": "code",
   "execution_count": null,
   "metadata": {
    "collapsed": true
   },
   "outputs": [],
   "source": []
  },
  {
   "cell_type": "code",
   "execution_count": null,
   "metadata": {
    "collapsed": true
   },
   "outputs": [],
   "source": []
  },
  {
   "cell_type": "code",
   "execution_count": null,
   "metadata": {
    "collapsed": true
   },
   "outputs": [],
   "source": []
  },
  {
   "cell_type": "code",
   "execution_count": null,
   "metadata": {
    "collapsed": true
   },
   "outputs": [],
   "source": []
  },
  {
   "cell_type": "code",
   "execution_count": null,
   "metadata": {
    "collapsed": true
   },
   "outputs": [],
   "source": []
  },
  {
   "cell_type": "code",
   "execution_count": null,
   "metadata": {
    "collapsed": true
   },
   "outputs": [],
   "source": []
  },
  {
   "cell_type": "code",
   "execution_count": null,
   "metadata": {
    "collapsed": true
   },
   "outputs": [],
   "source": []
  },
  {
   "cell_type": "code",
   "execution_count": null,
   "metadata": {
    "collapsed": true
   },
   "outputs": [],
   "source": []
  },
  {
   "cell_type": "code",
   "execution_count": null,
   "metadata": {
    "collapsed": true
   },
   "outputs": [],
   "source": []
  },
  {
   "cell_type": "code",
   "execution_count": null,
   "metadata": {
    "collapsed": true
   },
   "outputs": [],
   "source": []
  },
  {
   "cell_type": "code",
   "execution_count": null,
   "metadata": {
    "collapsed": true
   },
   "outputs": [],
   "source": []
  },
  {
   "cell_type": "code",
   "execution_count": null,
   "metadata": {},
   "outputs": [],
   "source": [
    "import sympy\n",
    "#define symbolic vars, function\n",
    "x,y=sympy.symbols('x y')\n",
    "fun= 600.0-400.0*exp(-0.1*x) \n",
    "\n",
    "#take the gradient symbolically\n",
    "gradfun=[sympy.diff(fun,var) for var in (x,y)]\n",
    "\n",
    "#gradfun= -.1*y + 60\n",
    "\n",
    "#turn into a bivariate lambda for numpy\n",
    "numgradfun=sympy.lambdify([x,y],gradfun)\n",
    "\n",
    "X,Y=np.meshgrid(np.arange(0,30),np.arange(550,650))\n",
    "graddat=numgradfun(X,Y)\n",
    "\n",
    "plt.figure()\n",
    "plt.quiver(X,Y,graddat[0],graddat[1])\n",
    "plt.show()"
   ]
  },
  {
   "cell_type": "code",
   "execution_count": null,
   "metadata": {},
   "outputs": [],
   "source": [
    "gradfun"
   ]
  },
  {
   "cell_type": "code",
   "execution_count": null,
   "metadata": {},
   "outputs": [],
   "source": [
    "numgradfun(5,100)"
   ]
  },
  {
   "cell_type": "code",
   "execution_count": null,
   "metadata": {},
   "outputs": [],
   "source": [
    "graddat[1]"
   ]
  },
  {
   "cell_type": "code",
   "execution_count": null,
   "metadata": {
    "collapsed": true
   },
   "outputs": [],
   "source": []
  },
  {
   "cell_type": "code",
   "execution_count": null,
   "metadata": {},
   "outputs": [],
   "source": [
    "import sympy\n",
    "#define symbolic vars, function\n",
    "x,y=sympy.symbols('x y')\n",
    "fun=3*x**2-5*y**2\n",
    "\n",
    "#take the gradient symbolically\n",
    "gradfun=[sympy.diff(fun,var) for var in (x,y)]\n",
    "\n",
    "#turn into a bivariate lambda for numpy\n",
    "numgradfun=sympy.lambdify([x,y],gradfun)"
   ]
  },
  {
   "cell_type": "code",
   "execution_count": null,
   "metadata": {},
   "outputs": [],
   "source": [
    "gradfun"
   ]
  },
  {
   "cell_type": "code",
   "execution_count": null,
   "metadata": {},
   "outputs": [],
   "source": [
    "numgradfun"
   ]
  },
  {
   "cell_type": "markdown",
   "metadata": {},
   "source": [
    "now you can use numgradfun(1,3) to compute the gradient at (x,y)==(1,3). This function can then be used for plotting.\n",
    "\n",
    "For plotting, you can use, for instance, matplotlib's quiver, like so:\n"
   ]
  },
  {
   "cell_type": "code",
   "execution_count": null,
   "metadata": {
    "collapsed": true
   },
   "outputs": [],
   "source": [
    "\n",
    "\n",
    "\n",
    "X,Y=np.meshgrid(np.arange(-10,11),np.arange(-10,11))\n",
    "graddat=numgradfun(X,Y)\n",
    "\n"
   ]
  },
  {
   "cell_type": "code",
   "execution_count": null,
   "metadata": {},
   "outputs": [],
   "source": [
    "graddat[0],graddat[1]"
   ]
  },
  {
   "cell_type": "code",
   "execution_count": null,
   "metadata": {
    "collapsed": true
   },
   "outputs": [],
   "source": []
  },
  {
   "cell_type": "code",
   "execution_count": null,
   "metadata": {},
   "outputs": [],
   "source": [
    "plt.figure()\n",
    "plt.quiver(X,Y,graddat[0],graddat[1])\n",
    "\n",
    "plt.show()"
   ]
  },
  {
   "cell_type": "code",
   "execution_count": null,
   "metadata": {
    "collapsed": true
   },
   "outputs": [],
   "source": []
  },
  {
   "cell_type": "code",
   "execution_count": null,
   "metadata": {
    "collapsed": true
   },
   "outputs": [],
   "source": []
  },
  {
   "cell_type": "code",
   "execution_count": null,
   "metadata": {
    "collapsed": true
   },
   "outputs": [],
   "source": []
  },
  {
   "cell_type": "code",
   "execution_count": null,
   "metadata": {
    "collapsed": true
   },
   "outputs": [],
   "source": []
  },
  {
   "cell_type": "code",
   "execution_count": null,
   "metadata": {
    "collapsed": true
   },
   "outputs": [],
   "source": []
  },
  {
   "cell_type": "code",
   "execution_count": null,
   "metadata": {},
   "outputs": [],
   "source": [
    " \n",
    "\n",
    "\n",
    "def CD(k,l):\n",
    "    #return sp.sin(2*sp.pi*k/2)/((4*sp.pi**2)*(k**2+l**2))*1e-6\n",
    "    return sympy.sin(2*sympy.pi*k/4)/((4*sympy.pi**2)*(k**2+l**2))*1e-6\n",
    "\n",
    "def Vkl(x,y,k,l):\n",
    "    return CD(k,l)*sympy.sin(2*sympy.pi*k*x)*sympy.cos(2*sympy.pi*l*y)\n",
    "\n",
    "def V(x,y,kmax,lmax):\n",
    "    k,l=sympy.symbols('k l',integers=True)\n",
    "    return sympy.summation(Vkl(x,y,k,l),(k,1,kmax),(l,1,lmax))\n",
    "\n",
    "\n",
    "#define symbolic vars, function\n",
    "kmax=10\n",
    "lmax=10\n",
    "x,y=sympy.symbols('x y')\n",
    "fun=V(x,y,kmax,lmax)\n",
    "\n",
    "#take the gradient symbolically\n",
    "gradfun=[sympy.diff(fun,var) for var in (x,y)]\n",
    "\n",
    "#turn into bivariate lambda for numpy\n",
    "numgradfun=sympy.lambdify([x,y],gradfun,'numpy')\n",
    "numfun=sympy.lambdify([x,y],fun,'numpy')\n",
    "\n",
    "#plot\n",
    "X,Y=np.meshgrid(np.linspace(-10,10,51),np.linspace(-10,10,51))\n",
    "graddat=numgradfun(X,Y)\n",
    "fundat=numfun(X,Y)\n",
    "\n",
    "hf=plt.figure()\n",
    "hc=plt.contourf(X,Y,fundat,np.linspace(fundat.min(),fundat.max(),25))\n",
    "plt.quiver(X,Y,graddat[0],graddat[1])\n",
    "plt.colorbar(hc)\n",
    "plt.show()"
   ]
  },
  {
   "cell_type": "code",
   "execution_count": null,
   "metadata": {
    "collapsed": true
   },
   "outputs": [],
   "source": []
  },
  {
   "cell_type": "code",
   "execution_count": null,
   "metadata": {
    "collapsed": true
   },
   "outputs": [],
   "source": []
  },
  {
   "cell_type": "code",
   "execution_count": null,
   "metadata": {
    "collapsed": true
   },
   "outputs": [],
   "source": []
  },
  {
   "cell_type": "code",
   "execution_count": null,
   "metadata": {
    "collapsed": true
   },
   "outputs": [],
   "source": []
  },
  {
   "cell_type": "code",
   "execution_count": null,
   "metadata": {},
   "outputs": [],
   "source": [
    "import numpy as np\n",
    "import matplotlib.pyplot as plt\n",
    "\n",
    "# Set limits and number of points in grid\n",
    "y, x = np.mgrid[10:-10:100j, 10:-10:100j]\n",
    "\n",
    "x_obstacle, y_obstacle = 0.0, 0.0\n",
    "alpha_obstacle, a_obstacle, b_obstacle = 1.0, 1e3, 2e3\n",
    "\n",
    "p = -alpha_obstacle * \n",
    "    np.exp(-((x - x_obstacle)**2 / a_obstacle +\n",
    "    (y - y_obstacle)**2 / b_obstacle))\n"
   ]
  },
  {
   "cell_type": "code",
   "execution_count": null,
   "metadata": {
    "collapsed": true
   },
   "outputs": [],
   "source": [
    "# For the absolute values of \"dx\" and \"dy\" to mean anything, we'll need to\n",
    "# specify the \"cellsize\" of our grid.  For purely visual purposes, though,\n",
    "# we could get away with just \"dy, dx = np.gradient(p)\".\n",
    "dy, dx = np.gradient(p, np.diff(y[:2, 0]), np.diff(x[0, :2]))"
   ]
  },
  {
   "cell_type": "code",
   "execution_count": null,
   "metadata": {},
   "outputs": [],
   "source": [
    "np.diff(y[:2, 0])"
   ]
  },
  {
   "cell_type": "code",
   "execution_count": null,
   "metadata": {},
   "outputs": [],
   "source": [
    "np.diff(x[0, :2])"
   ]
  },
  {
   "cell_type": "code",
   "execution_count": null,
   "metadata": {},
   "outputs": [],
   "source": [
    "dy, dx"
   ]
  },
  {
   "cell_type": "code",
   "execution_count": null,
   "metadata": {},
   "outputs": [],
   "source": [
    "fig, ax = plt.subplots()\n",
    "ax.quiver(x, y, dx, dy, p)\n",
    "ax.set(aspect=1, title='Quiver Plot')\n",
    "plt.show()"
   ]
  },
  {
   "cell_type": "code",
   "execution_count": null,
   "metadata": {},
   "outputs": [],
   "source": [
    "# Every 3rd point in each direction.\n",
    "skip = (slice(None, None, 3), slice(None, None, 3))\n",
    "\n",
    "fig, ax = plt.subplots()\n",
    "ax.quiver(x[skip], y[skip], dx[skip], dy[skip], p[skip])\n",
    "ax.set(aspect=1, title='Quiver Plot')\n",
    "plt.show()"
   ]
  },
  {
   "cell_type": "code",
   "execution_count": null,
   "metadata": {},
   "outputs": [],
   "source": [
    "slice(None, None, 3)"
   ]
  },
  {
   "cell_type": "code",
   "execution_count": null,
   "metadata": {},
   "outputs": [],
   "source": [
    "#!pip install quiver\n",
    "\n"
   ]
  },
  {
   "cell_type": "code",
   "execution_count": null,
   "metadata": {},
   "outputs": [],
   "source": [
    "x[skip]"
   ]
  },
  {
   "cell_type": "code",
   "execution_count": null,
   "metadata": {
    "collapsed": true
   },
   "outputs": [],
   "source": []
  }
 ],
 "metadata": {
  "kernelspec": {
   "display_name": "Python 3",
   "language": "python",
   "name": "python3"
  },
  "language_info": {
   "codemirror_mode": {
    "name": "ipython",
    "version": 3
   },
   "file_extension": ".py",
   "mimetype": "text/x-python",
   "name": "python",
   "nbconvert_exporter": "python",
   "pygments_lexer": "ipython3",
   "version": "3.6.2"
  }
 },
 "nbformat": 4,
 "nbformat_minor": 2
}
