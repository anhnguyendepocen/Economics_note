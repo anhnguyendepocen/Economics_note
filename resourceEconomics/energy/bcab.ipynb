{
 "cells": [
  {
   "cell_type": "code",
   "execution_count": null,
   "metadata": {
    "collapsed": true
   },
   "outputs": [],
   "source": []
  },
  {
   "cell_type": "code",
   "execution_count": null,
   "metadata": {
    "collapsed": true
   },
   "outputs": [],
   "source": []
  },
  {
   "cell_type": "code",
   "execution_count": null,
   "metadata": {
    "collapsed": true
   },
   "outputs": [],
   "source": []
  },
  {
   "cell_type": "code",
   "execution_count": null,
   "metadata": {
    "collapsed": true
   },
   "outputs": [],
   "source": []
  },
  {
   "cell_type": "markdown",
   "metadata": {},
   "source": [
    "## Variable"
   ]
  },
  {
   "cell_type": "markdown",
   "metadata": {},
   "source": [
    "SCALARS\n",
    "     tfactor factor for converting seconds to specified timestep\n",
    "     kW2GW   factor for converting kW to GW     /1e-6/\n",
    "     MW2GW   factor for converting MW to GW     /1e-3/\n",
    "     kW2MW   factor for converting kW to MW     /1e-3/\n",
    "     eff     efficiency of generators (specifically Francis turbines) / 0.83/\n",
    "     priceBC average revenue from domestic BC sales $ per MWh 2008)  /55.23/\n",
    ";"
   ]
  },
  {
   "cell_type": "markdown",
   "metadata": {},
   "source": [
    "* ---------------------------------------------------------------------------\n",
    "*                                   BC MODEL\n",
    "* ---------------------------------------------------------------------------\n",
    "\n",
    "SCALARS\n",
    "taxBC           Carbon tax $ per tCO2 /0/\n",
    "rateBC          discount rate        /0.1/\n",
    "droughtBC       For drought < 1 flood>1 /1/\n",
    "DgrowB          Growth in BC load since 2008 data (arbitrary) /1/\n",
    "*revDomestic     average revenue from domestic sales ($ per MWh 2008) /55.23/\n",
    "VarOMhydroBC    Variable cost of hydro generation ($ per MWh 2008) /6.1/\n",
    "VarOMRoRBC      Variable cost of RoR hydro generation (guess) /5/\n",
    "VarOMthermBC    Variable cost of thermal generation ($ per MWh 2008) /104.67/\n",
    "startvolratioBC initial condition: start to max reservoir vol (arbitrary) /0.8/\n",
    "endvolratioBC   endpoint condition: final to start reservoir vol /0/\n",
    ";"
   ]
  },
  {
   "cell_type": "markdown",
   "metadata": {},
   "source": [
    "SETS\n",
    "regions regions    /AB, BC, US /\n",
    "ties    interties  /AB, US/\n",
    "B       generation /mica, revel, shrum, peace,\n",
    "              bridge, sevenmile, kootenay, campbell, cheakamus, stave,\n",
    "              wahleach, clowhom, ash, buntzen, otherhydro, thermal\n",
    "$if %siteC_flag%==1               siteC\n",
    "                 /\n",
    "h(B)     hydro   /mica, revel, shrum, peace, bridge, sevenmile, kootenay,\n",
    "                 campbell, cheakamus, stave, wahleach, clowhom, ash,\n",
    "                 buntzen, otherhydro\n",
    "$if %siteC_flag%==1               siteC\n",
    "            /\n",
    "\n",
    "r(B)     hydro with reservoir    /mica, revel, shrum, peace\n",
    "$if %siteC_flag%==1               siteC\n",
    "                                 /\n",
    "\n",
    "up(r)    upstream reservoirs     /mica, shrum /\n",
    "rr(B)    run-of-river   /kootenay, bridge, sevenmile, campbell, cheakamus,\n",
    "                 stave, wahleach, clowhom, ash, buntzen, otherhydro /\n",
    ";\n",
    "ALIAS (r,rup);\n",
    "\n",
    "SET h_system(r,rup) Hydro system topography /revel.mica, peace.shrum\n",
    "$if %siteC_flag%==1     siteC.shrum\n",
    "                 /\n",
    "* In the above SET definition, the downstream unit receives water from the\n",
    "* upstream unit (eg, revel receives water from mica)\n",
    ";"
   ]
  },
  {
   "cell_type": "code",
   "execution_count": null,
   "metadata": {
    "collapsed": true
   },
   "outputs": [],
   "source": []
  },
  {
   "cell_type": "code",
   "execution_count": null,
   "metadata": {
    "collapsed": true
   },
   "outputs": [],
   "source": []
  },
  {
   "cell_type": "code",
   "execution_count": null,
   "metadata": {
    "collapsed": true
   },
   "outputs": [],
   "source": []
  },
  {
   "cell_type": "code",
   "execution_count": null,
   "metadata": {
    "collapsed": true
   },
   "outputs": [],
   "source": []
  },
  {
   "cell_type": "code",
   "execution_count": null,
   "metadata": {
    "collapsed": true
   },
   "outputs": [],
   "source": []
  },
  {
   "cell_type": "code",
   "execution_count": null,
   "metadata": {
    "collapsed": true
   },
   "outputs": [],
   "source": []
  },
  {
   "cell_type": "code",
   "execution_count": null,
   "metadata": {
    "collapsed": true
   },
   "outputs": [],
   "source": []
  },
  {
   "cell_type": "code",
   "execution_count": null,
   "metadata": {
    "collapsed": true
   },
   "outputs": [],
   "source": []
  },
  {
   "cell_type": "code",
   "execution_count": null,
   "metadata": {
    "collapsed": true
   },
   "outputs": [],
   "source": []
  },
  {
   "cell_type": "code",
   "execution_count": null,
   "metadata": {
    "collapsed": true
   },
   "outputs": [],
   "source": []
  },
  {
   "cell_type": "code",
   "execution_count": null,
   "metadata": {
    "collapsed": true
   },
   "outputs": [],
   "source": []
  },
  {
   "cell_type": "code",
   "execution_count": null,
   "metadata": {
    "collapsed": true
   },
   "outputs": [],
   "source": []
  },
  {
   "cell_type": "code",
   "execution_count": null,
   "metadata": {
    "collapsed": true
   },
   "outputs": [],
   "source": []
  },
  {
   "cell_type": "code",
   "execution_count": null,
   "metadata": {
    "collapsed": true
   },
   "outputs": [],
   "source": []
  },
  {
   "cell_type": "markdown",
   "metadata": {},
   "source": [
    "## Model"
   ]
  },
  {
   "cell_type": "markdown",
   "metadata": {},
   "source": [
    "\n",
    "------------ MODEL EQUATIONS ---------------------------------------------\n",
    "\n",
    "EQUATIONS\n",
    "*minCost                Objective function to be minimized\n",
    "\n",
    "maxRev                 Objective function to be maximized\n",
    "\n",
    "\n",
    "demandBC(t)            Demand must be met in every hour for BC\n",
    "\n",
    "VolResBC(r,t)          Reservoir Balance for BC Reservoirs\n",
    "\n",
    "EndVolBC(r,t)          Terminal reservoir volumes for BC\n",
    "\n",
    "HeadChgBC(UP,t)        Change in head height of BC reservoir\n",
    "\n",
    "SpillBC(t,r)\n",
    "\n",
    "HydroPowerUP(r,t)      Power output from upstream dams\n",
    "\n",
    "HydroPowerDN(r,UP,t)   Power output from downstream dams\n",
    "\n",
    "PowerOutputBC(B,t)     Power generation in BC cannot exceed capacity\n",
    "\n",
    "QturbDN(r,UP,t)        Flow through downstream generators must equal upstream flow + spill (hydraulic balance)\n",
    "\n",
    "LineAB(t)              Imports and exports must be less than transmission capacity\n",
    "\n",
    "LineUS(t)              Imports and exports must be less than transmission capacity\n"
   ]
  },
  {
   "cell_type": "code",
   "execution_count": null,
   "metadata": {
    "collapsed": true
   },
   "outputs": [],
   "source": []
  },
  {
   "cell_type": "code",
   "execution_count": null,
   "metadata": {
    "collapsed": true
   },
   "outputs": [],
   "source": []
  },
  {
   "cell_type": "code",
   "execution_count": null,
   "metadata": {
    "collapsed": true
   },
   "outputs": [],
   "source": []
  },
  {
   "cell_type": "code",
   "execution_count": null,
   "metadata": {
    "collapsed": true
   },
   "outputs": [],
   "source": []
  },
  {
   "cell_type": "code",
   "execution_count": null,
   "metadata": {
    "collapsed": true
   },
   "outputs": [],
   "source": []
  },
  {
   "cell_type": "code",
   "execution_count": null,
   "metadata": {
    "collapsed": true
   },
   "outputs": [],
   "source": []
  }
 ],
 "metadata": {
  "kernelspec": {
   "display_name": "Python 3",
   "language": "python",
   "name": "python3"
  },
  "language_info": {
   "codemirror_mode": {
    "name": "ipython",
    "version": 3
   },
   "file_extension": ".py",
   "mimetype": "text/x-python",
   "name": "python",
   "nbconvert_exporter": "python",
   "pygments_lexer": "ipython3",
   "version": "3.6.2"
  }
 },
 "nbformat": 4,
 "nbformat_minor": 2
}
