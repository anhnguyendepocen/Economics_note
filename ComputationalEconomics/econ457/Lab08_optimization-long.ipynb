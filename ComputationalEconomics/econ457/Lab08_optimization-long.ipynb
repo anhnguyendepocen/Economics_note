{
 "cells": [
  {
   "cell_type": "code",
   "execution_count": null,
   "metadata": {},
   "outputs": [],
   "source": [
    "# Install a pip package in the current Jupyter kernel\n",
    "import sys\n",
    "!{sys.executable} -m pip install --user pandas_datareader"
   ]
  },
  {
   "cell_type": "code",
   "execution_count": null,
   "metadata": {
    "ExecuteTime": {
     "end_time": "2018-03-08T18:52:39.745154Z",
     "start_time": "2018-03-08T18:52:30.454689Z"
    }
   },
   "outputs": [],
   "source": [
    "import pandas as pd  \n",
    "import numpy as np\n",
    "import matplotlib.pyplot as plt\n",
    "import seaborn as sns\n",
    "\n",
    "import scipy.optimize as opt\n",
    "plt.style.use('fivethirtyeight')\n",
    "np.random.seed(777)\n",
    "%matplotlib inline\n",
    "%config InlineBackend.figure_format = 'retina'\n",
    "\n",
    "import pandas_datareader.data as web\n",
    "\n",
    "import datetime\n",
    "\n",
    "start = datetime.datetime(2016, 1, 1)\n",
    "\n",
    "end = datetime.datetime(2017, 12, 31)"
   ]
  },
  {
   "cell_type": "code",
   "execution_count": null,
   "metadata": {
    "collapsed": true
   },
   "outputs": [],
   "source": []
  },
  {
   "cell_type": "code",
   "execution_count": null,
   "metadata": {
    "collapsed": true
   },
   "outputs": [],
   "source": [
    "from mpl_toolkits.mplot3d import Axes3D # for 3-dimestional plotting\n",
    "import matplotlib # for color map"
   ]
  },
  {
   "cell_type": "markdown",
   "metadata": {},
   "source": [
    "## Review lab02 plotting"
   ]
  },
  {
   "cell_type": "code",
   "execution_count": null,
   "metadata": {
    "collapsed": true
   },
   "outputs": [],
   "source": [
    "x = np.linspace(0, 2, 100) # grid for x\n",
    "y = np.linspace(0, 2, 100) \n",
    "\n",
    "\n",
    "X,Y = np.meshgrid(x, y) # https://docs.scipy.org/doc/numpy/reference/generated/numpy.meshgrid.html\n",
    "# Return coordinate matrices from coordinate vectors.\n",
    "\n",
    "Z = (X**.5 *  Y**.5) # a Cobb Douglas production function\n",
    "\n"
   ]
  },
  {
   "cell_type": "markdown",
   "metadata": {},
   "source": [
    "## A Contour Curve "
   ]
  },
  {
   "cell_type": "code",
   "execution_count": null,
   "metadata": {},
   "outputs": [],
   "source": [
    "fig, ax = plt.subplots()\n",
    "\n",
    "cnt = ax.contour(Z, \n",
    "                 #cmap=matplotlib.cm.RdBu, \n",
    "                 cmap='YlGnBu',# color map\n",
    "                 vmin=abs(Z).min(), # min for Z\n",
    "                 vmax=abs(Z).max(), \n",
    "                 extent=[0, 1, 0, 1])\n",
    "\n",
    "plt.clabel(cnt, inline=True, fontsize=8)"
   ]
  },
  {
   "cell_type": "markdown",
   "metadata": {},
   "source": [
    "\n",
    "### Three-dimensional Contour Plots\n",
    "\n",
    "Analogous to the contour plots we explored in Density and Contour Plots, mplot3d contains tools to create three-dimensional relief plots using the same inputs. Like two-dimensional ax.contour plots, ax.contour3D requires all the input data to be in the form of two-dimensional regular grids, with the Z data evaluated at each point. Here we'll show a three-dimensional contour diagram of a three-dimensional sinusoidal function:\n"
   ]
  },
  {
   "cell_type": "code",
   "execution_count": null,
   "metadata": {},
   "outputs": [],
   "source": [
    "fig = plt.figure()\n",
    "ax = plt.axes(projection='3d')\n",
    "ax.contour3D(X, Y, Z, 50, cmap='binary')\n",
    "ax.set_xlabel('x')\n",
    "ax.set_ylabel('y')\n",
    "ax.set_zlabel('z');"
   ]
  },
  {
   "cell_type": "markdown",
   "metadata": {},
   "source": [
    "## Surface plotting\n",
    "\n",
    "With this three-dimensional axes enabled, we can now plot a variety of three-dimensional plot types. Three-dimensional plotting is one of the functionalities that benefits immensely from viewing figures interactively rather than statically in the notebook; recall that to use interactive figures, you can use %matplotlib notebook rather than %matplotlib inline when running this code.\n",
    "\n",
    "https://jakevdp.github.io/PythonDataScienceHandbook/04.12-three-dimensional-plotting.html\n",
    "\n",
    "http://scipy-cookbook.readthedocs.io/items/Matplotlib_mplot3D.html"
   ]
  },
  {
   "cell_type": "code",
   "execution_count": null,
   "metadata": {
    "collapsed": true
   },
   "outputs": [],
   "source": [
    "%matplotlib inline"
   ]
  },
  {
   "cell_type": "code",
   "execution_count": null,
   "metadata": {},
   "outputs": [],
   "source": [
    "\n",
    "\n",
    "ax = plt.axes(projection='3d')\n",
    "ax.plot_surface(X, Y, Z, rstride=1, cstride=1,\n",
    "                cmap='viridis', edgecolor='none')\n",
    "ax.set_title('surface');\n",
    "\n"
   ]
  },
  {
   "cell_type": "code",
   "execution_count": null,
   "metadata": {},
   "outputs": [],
   "source": [
    "fig = plt.figure(figsize=(14,6))\n",
    "\n",
    "# `ax` is a 3D-aware axis instance because of the projection='3d' keyword argument to add_subplot\n",
    "ax = fig.add_subplot(1, 2, 1, projection='3d')\n",
    "\n",
    "p = ax.plot_surface(X, Y, Z, \n",
    "                    rstride=4, # row stride\n",
    "                    cstride=4, # column stride\n",
    "                    linewidth=0)\n",
    "#ax.view_init(0, 0)\n",
    "#Sometimes the default viewing angle is not optimal, in which case we can use the view_init method to set the elevation and azimuthal angles. In the following example, we'll use an elevation of 60 degrees (that is, 60 degrees above the x-y plane) and an azimuth of 35 degrees (that is, rotated 35 degrees counter-clockwise about the z-axis):\n",
    "\n",
    "ax.view_init(30, -125)\n",
    "\n",
    "#ax.view_init(70, 30)\n",
    "\n",
    "\n",
    "# surface_plot with color grading and color bar\n",
    "ax = fig.add_subplot(1, 2, 2, projection='3d')\n",
    "p = ax.plot_surface(X, Y, Z, \n",
    "                    rstride=1, \n",
    "                    cstride=1, \n",
    "                    cmap=\"coolwarm\", \n",
    "                    linewidth=0, \n",
    "                    antialiased=False)\n",
    "cb = fig.colorbar(p, shrink=0.5) # color bar\n",
    "\n",
    "\n",
    "\n"
   ]
  },
  {
   "cell_type": "markdown",
   "metadata": {},
   "source": [
    "## Review lab05 for 2-dimensional plotting for consumer problem"
   ]
  },
  {
   "cell_type": "markdown",
   "metadata": {},
   "source": [
    "## Quandl\n",
    "Daily financial data (prices of stocks, ETFs etc.) from Quandl. The symbol names consist of two parts: DB name and symbol name. DB names can be all the free ones listed on the Quandl website. Symbol names vary with DB name; for WIKI (US stocks), they are the common ticker symbols, in some other cases (such as FSE) they can be a bit strange. Some sources are also mapped to suitable ISO country codes in the dot suffix style shown above, currently available for BE, CN, DE, FR, IN, JP, NL, PT, UK, US.\n",
    "\n",
    "ref: \n",
    "http://pandas-datareader.readthedocs.io/en/latest/remote_data.html"
   ]
  },
  {
   "cell_type": "code",
   "execution_count": null,
   "metadata": {
    "ExecuteTime": {
     "end_time": "2018-03-08T18:52:41.329509Z",
     "start_time": "2018-03-08T18:52:39.747834Z"
    },
    "scrolled": false
   },
   "outputs": [],
   "source": [
    "\n",
    "\n",
    "# f = web.DataReader('AAPL', 'google', start, end)\n",
    "\n",
    "# A = web.DataReader('AAPL', 'morningstar', start, end)\n",
    "\n",
    "# f = web.DataReader('AAPL', 'iex', start, end)\n",
    "\n",
    "\n",
    "symbol = 'WIKI/AAPL'  # or 'AAPL.US'\n",
    "\n",
    "df = web.DataReader(symbol, 'quandl', '2016-01-01', '2017-12-31')\n",
    "\n",
    "df.head()"
   ]
  },
  {
   "cell_type": "markdown",
   "metadata": {},
   "source": [
    "We are focus on the adjusted close price."
   ]
  },
  {
   "cell_type": "code",
   "execution_count": null,
   "metadata": {
    "ExecuteTime": {
     "end_time": "2018-03-08T18:52:42.528143Z",
     "start_time": "2018-03-08T18:52:41.332220Z"
    }
   },
   "outputs": [],
   "source": [
    "stock = df.loc[:,['AdjClose']]\n",
    "stock.columns = ['AAPL']\n",
    "stock.plot()"
   ]
  },
  {
   "cell_type": "code",
   "execution_count": null,
   "metadata": {
    "ExecuteTime": {
     "end_time": "2018-03-08T18:52:42.534403Z",
     "start_time": "2018-03-08T18:52:42.530551Z"
    }
   },
   "outputs": [],
   "source": [
    "stock=stock.sort_index()"
   ]
  },
  {
   "cell_type": "code",
   "execution_count": null,
   "metadata": {
    "ExecuteTime": {
     "end_time": "2018-03-08T18:52:42.657750Z",
     "start_time": "2018-03-08T18:52:42.536648Z"
    }
   },
   "outputs": [],
   "source": [
    "stock.head()\n"
   ]
  },
  {
   "cell_type": "code",
   "execution_count": null,
   "metadata": {
    "collapsed": true
   },
   "outputs": [],
   "source": []
  },
  {
   "cell_type": "code",
   "execution_count": null,
   "metadata": {
    "ExecuteTime": {
     "end_time": "2018-03-08T18:52:42.734236Z",
     "start_time": "2018-03-08T18:52:42.661229Z"
    },
    "collapsed": true
   },
   "outputs": [],
   "source": [
    "def get_stock(tick, start='2016-01-01', end='2017-12-31' ):\n",
    "    #You have submitted an incorrect Quandl code. Please check your Quandl codes and try again.\\n'\n",
    "    symbol = 'WIKI/' + tick # or tick+'.US'\n",
    "    df = web.DataReader(symbol, 'quandl', start, end)\n",
    "    stock = df.loc[:,['AdjClose']]\n",
    "    stock.columns = [tick]\n",
    "    stock=stock.sort_index()\n",
    "    return stock"
   ]
  },
  {
   "cell_type": "code",
   "execution_count": null,
   "metadata": {
    "ExecuteTime": {
     "end_time": "2018-03-08T18:52:43.712272Z",
     "start_time": "2018-03-08T18:52:42.736492Z"
    }
   },
   "outputs": [],
   "source": [
    "get_stock('AMZN').head()"
   ]
  },
  {
   "cell_type": "code",
   "execution_count": null,
   "metadata": {
    "ExecuteTime": {
     "end_time": "2018-03-08T18:52:44.687447Z",
     "start_time": "2018-03-08T18:52:43.714996Z"
    }
   },
   "outputs": [],
   "source": [
    "stock.join(get_stock('AMZN')).head()"
   ]
  },
  {
   "cell_type": "code",
   "execution_count": null,
   "metadata": {
    "collapsed": true
   },
   "outputs": [],
   "source": []
  },
  {
   "cell_type": "code",
   "execution_count": null,
   "metadata": {
    "ExecuteTime": {
     "end_time": "2018-03-08T18:52:44.694376Z",
     "start_time": "2018-03-08T18:52:44.690115Z"
    },
    "collapsed": true
   },
   "outputs": [],
   "source": [
    "#ticks = ['AAPL','AMZN','GOOGL','FB']\n",
    "ticks = ['AAPL','AMZN','GOOGL','FB','SBUX','NKE','WMT','GE','TSLA']\n",
    "# for i in ticks[1:]:\n",
    "#     stock = stock.join(get_stock(i))"
   ]
  },
  {
   "cell_type": "code",
   "execution_count": null,
   "metadata": {
    "collapsed": true
   },
   "outputs": [],
   "source": []
  },
  {
   "cell_type": "code",
   "execution_count": null,
   "metadata": {
    "ExecuteTime": {
     "end_time": "2018-03-08T18:52:45.845968Z",
     "start_time": "2018-03-08T18:52:44.696835Z"
    },
    "scrolled": true
   },
   "outputs": [],
   "source": [
    "\n",
    "stock.plot(figsize=(14, 7))\n",
    "plt.ylabel('price in $')"
   ]
  },
  {
   "cell_type": "code",
   "execution_count": null,
   "metadata": {
    "ExecuteTime": {
     "end_time": "2018-03-08T18:52:45.853883Z",
     "start_time": "2018-03-08T18:52:45.848491Z"
    },
    "collapsed": true
   },
   "outputs": [],
   "source": [
    "def get_stocks(ticks, start='2016-01-01', end='2017-12-31'):\n",
    "\n",
    "    stock= get_stock(ticks[0], start, end )\n",
    "    for i in ticks[1:]:\n",
    "        stock = stock.join(get_stock(i, start, end ))\n",
    "    return stock"
   ]
  },
  {
   "cell_type": "code",
   "execution_count": null,
   "metadata": {
    "ExecuteTime": {
     "end_time": "2018-03-08T18:52:53.911539Z",
     "start_time": "2018-03-08T18:52:45.856176Z"
    },
    "collapsed": true
   },
   "outputs": [],
   "source": [
    "# \n",
    "stocks = get_stocks(ticks)"
   ]
  },
  {
   "cell_type": "code",
   "execution_count": null,
   "metadata": {
    "ExecuteTime": {
     "end_time": "2018-03-08T18:52:55.167778Z",
     "start_time": "2018-03-08T18:52:53.914396Z"
    }
   },
   "outputs": [],
   "source": [
    "stocks.plot(figsize=(14, 7))\n",
    "plt.ylabel('price in $')"
   ]
  },
  {
   "cell_type": "code",
   "execution_count": null,
   "metadata": {
    "collapsed": true
   },
   "outputs": [],
   "source": []
  },
  {
   "cell_type": "code",
   "execution_count": null,
   "metadata": {
    "ExecuteTime": {
     "end_time": "2018-03-08T18:52:56.490127Z",
     "start_time": "2018-03-08T18:52:55.170421Z"
    },
    "scrolled": false
   },
   "outputs": [],
   "source": [
    "\n",
    "returns = stocks.pct_change() # stock returns \n",
    "\n",
    "\n",
    "returns.plot(figsize=(14, 7))\n",
    "plt.ylabel('daily returns')"
   ]
  },
  {
   "cell_type": "code",
   "execution_count": null,
   "metadata": {},
   "outputs": [],
   "source": [
    "returns.head(5)"
   ]
  },
  {
   "cell_type": "code",
   "execution_count": null,
   "metadata": {
    "ExecuteTime": {
     "end_time": "2018-03-08T18:52:56.496741Z",
     "start_time": "2018-03-08T18:52:56.492419Z"
    },
    "collapsed": true
   },
   "outputs": [],
   "source": [
    "\n",
    "mean_returns = returns.mean()\n",
    "\n",
    "cov_matrix = returns.cov()"
   ]
  },
  {
   "cell_type": "code",
   "execution_count": null,
   "metadata": {
    "collapsed": true
   },
   "outputs": [],
   "source": []
  },
  {
   "cell_type": "code",
   "execution_count": null,
   "metadata": {
    "ExecuteTime": {
     "end_time": "2018-03-08T20:06:34.733728Z",
     "start_time": "2018-03-08T20:06:34.722152Z"
    },
    "collapsed": true
   },
   "outputs": [],
   "source": [
    "def portfolio_annualised_performance(weights, \n",
    "                                     returns, \n",
    "                                     risk_free_rate =0.02):\n",
    "    \"\"\"\n",
    "    Compute the annualized return \n",
    "    and standard diveation\n",
    "    and sharpe ratio\n",
    "    \"\"\"\n",
    "    mean_returns = returns.mean()\n",
    "    cov_matrix = returns.cov()\n",
    "    returns = np.sum(mean_returns*weights )*252\n",
    "    std = np.sqrt(weights.T@cov_matrix@weights) * np.sqrt(252)\n",
    "    sharpe = (returns - risk_free_rate) / std\n",
    "    return std, returns, sharpe"
   ]
  },
  {
   "cell_type": "markdown",
   "metadata": {},
   "source": [
    "## Modern Portfolio Theory (MPT) \n",
    "\n",
    "Modern Portfolio Theory (MPT) is an investment theory developed by Harry Markowitz and published under the title “Portfolio Selection” in the Journal of Finance in 1952.\n",
    "\n",
    "![](https://cdn-images-1.medium.com/max/2000/1*z3qQHXi4CyTtb_oSKInvYA.png)\n",
    "\n",
    "formula can be expressed in matrix calculation\n",
    "\n",
    "![](https://cdn-images-1.medium.com/max/1600/1*Fe8_FBagP5p3RHBhzW2Ijg.gif)\n",
    "\n",
    "## Risk free rate:\n",
    "\n",
    "1-Year Treasury Bill: Secondary Market Rate (DTB1YR)\n",
    "\n",
    "ref:\n",
    "\n",
    "https://fred.stlouisfed.org/series/DTB1YR\n"
   ]
  },
  {
   "cell_type": "code",
   "execution_count": null,
   "metadata": {
    "ExecuteTime": {
     "end_time": "2018-03-08T19:34:58.449762Z",
     "start_time": "2018-03-08T19:34:54.179812Z"
    },
    "collapsed": true
   },
   "outputs": [],
   "source": [
    "Rf = web.DataReader(['DTB1YR'], 'fred', start, '2018-03-07')"
   ]
  },
  {
   "cell_type": "code",
   "execution_count": null,
   "metadata": {
    "ExecuteTime": {
     "end_time": "2018-03-08T19:34:58.503577Z",
     "start_time": "2018-03-08T19:34:58.452625Z"
    }
   },
   "outputs": [],
   "source": [
    "Rf.tail()"
   ]
  },
  {
   "cell_type": "code",
   "execution_count": null,
   "metadata": {
    "ExecuteTime": {
     "end_time": "2018-03-08T19:35:00.182299Z",
     "start_time": "2018-03-08T19:34:58.506802Z"
    }
   },
   "outputs": [],
   "source": [
    "Rf.plot(figsize=(14, 7))\n",
    "plt.ylabel('Risk free rate')"
   ]
  },
  {
   "cell_type": "markdown",
   "metadata": {},
   "source": [
    "\n",
    "\n",
    "### Sharpe ratio\n",
    "The Sharpe ratio was derived in 1966 by William Sharpe, another winner of a Nobel Memorial Prize in Economic Sciences.\n",
    "![](https://cdn-images-1.medium.com/max/1600/1*aXiygSH2vLBUwAFTZKW47g.jpeg)\n",
    "Risk-adjusted return refines an investment’s return by measuring how much risk is involved in producing that return, which is generally expressed as a number or rating. \n",
    "\n",
    "\n",
    "![](https://cdn-images-1.medium.com/max/1500/1*fo_KcYDFTQ-C9iriE67r2w.png)"
   ]
  },
  {
   "cell_type": "code",
   "execution_count": null,
   "metadata": {
    "ExecuteTime": {
     "end_time": "2018-03-08T19:35:00.201287Z",
     "start_time": "2018-03-08T19:35:00.184898Z"
    },
    "collapsed": true
   },
   "outputs": [],
   "source": [
    "def sharpe_ratio(weights, returns, \n",
    "                 risk_free_rate):\n",
    "    \n",
    "    return portfolio_annualised_performance(weights, \n",
    "                                            returns, \n",
    "                                            risk_free_rate)[2]\n",
    "\n",
    "def neg_sharpe_ratio(weights, returns, \n",
    "                     risk_free_rate):\n",
    "    return - sharpe_ratio(weights, returns, \n",
    "                          risk_free_rate)\n",
    "#In Scipy’s optimize function, there’s no ‘maximize’, so as an objective function you need to pass something that should be minimized. That is why the first “neg_sharpe_ratio” is computing the negative Sharpe ratio.\n",
    "\n",
    "def max_sharpe_ratio(returns,risk_free_rate):\n",
    "    \"\"\"\n",
    "    Solve the max sharpe ratio portifolio\"\"\"\n",
    "    mean_returns = returns.mean()\n",
    "    cov_matrix = returns.cov()\n",
    "    num_assets = len(mean_returns)\n",
    "    args = (returns, risk_free_rate)\n",
    "    constraints = ({'type': 'eq', 'fun': lambda x: np.sum(x) - 1}) #np.sum(x) == 1 has become np.sum(x)-1\n",
    "    bound = (0.0,1.0)\n",
    "    # Multiply a tuple with a tuple as its item. Don't forget a trailing ,.\n",
    "    bounds = (bound,)*num_assets  # tuple(bound for asset in range(num_assets))\n",
    "    x0=[1./num_assets,]*num_assets # Multiply a list with a number as its item. Don't forget a trailing ,.\n",
    "    solution = opt.minimize(neg_sharpe_ratio, x0=x0, \n",
    "                           args=args,  # other arguments for function neg_sharpe_ratio\n",
    "                           method='SLSQP', \n",
    "                           bounds=bounds, \n",
    "                           constraints=constraints)\n",
    "    return solution"
   ]
  },
  {
   "cell_type": "markdown",
   "metadata": {},
   "source": [
    "We can also define the optimizing function for calculating minimum volatility portfolio. This time we really do minimize the objective function. What do we want to minimize? We want to minimize volatility by trying different weights. \"constraints\" and \"bounds\" are same as the above."
   ]
  },
  {
   "cell_type": "code",
   "execution_count": null,
   "metadata": {
    "ExecuteTime": {
     "end_time": "2018-03-08T19:35:00.341669Z",
     "start_time": "2018-03-08T19:35:00.203516Z"
    },
    "collapsed": true
   },
   "outputs": [],
   "source": [
    "def portfolio_volatility(weights, returns):\n",
    "    return portfolio_annualised_performance(weights, \n",
    "                                            returns)[0]\n",
    "\n",
    "def min_variance(returns):\n",
    "    mean_returns = returns.mean()\n",
    "    cov_matrix = returns.cov()    \n",
    "    num_assets = len(mean_returns)\n",
    "    args = (returns)\n",
    "    constraints = ({'type': 'eq', 'fun': lambda x: np.sum(x) - 1})\n",
    "    bound = (0.0,1.0)\n",
    "    bounds = (bound,)*num_assets\n",
    "    x0=[1./num_assets,]*num_assets # Multiply a list with a number as its item. Don't forget a trailing ,.\n",
    "\n",
    "    solution = opt.minimize(portfolio_volatility, \n",
    "                          x0=x0, args=args,\n",
    "                          method='SLSQP', \n",
    "                          bounds=bounds, \n",
    "                          constraints=constraints)\n",
    "\n",
    "    return solution\n",
    "\n"
   ]
  },
  {
   "cell_type": "code",
   "execution_count": null,
   "metadata": {
    "collapsed": true
   },
   "outputs": [],
   "source": []
  },
  {
   "cell_type": "code",
   "execution_count": null,
   "metadata": {
    "ExecuteTime": {
     "end_time": "2018-03-08T19:35:00.475920Z",
     "start_time": "2018-03-08T19:35:00.344247Z"
    },
    "collapsed": true
   },
   "outputs": [],
   "source": [
    "def random_portfolios(num_portfolios,returns, risk_free_rate):\n",
    "    \"\"\"\n",
    "    Monte Carlo ramdon portfolio return, std, and sharpe\n",
    "    \"\"\"\n",
    "    mean_returns = returns.mean()\n",
    "    cov_matrix = returns.cov()\n",
    "    results = np.zeros((3,num_portfolios))\n",
    "    weights_record = np.zeros((len(mean_returns),num_portfolios))\n",
    "    for i in np.arange(num_portfolios):\n",
    "        weights = np.random.random(len(mean_returns)) # generate random portofolio\n",
    "        weights /= np.sum(weights)\n",
    "        weights_record[:,i] =weights\n",
    "        portfolio_std_dev, portfolio_return, sharpe = portfolio_annualised_performance(weights, returns,risk_free_rate)\n",
    "        results[0,i] = portfolio_std_dev\n",
    "        results[1,i] = portfolio_return\n",
    "        results[2,i] = sharpe\n",
    "    return results, weights_record"
   ]
  },
  {
   "cell_type": "code",
   "execution_count": null,
   "metadata": {
    "collapsed": true
   },
   "outputs": [],
   "source": []
  },
  {
   "cell_type": "code",
   "execution_count": null,
   "metadata": {
    "collapsed": true
   },
   "outputs": [],
   "source": []
  },
  {
   "cell_type": "code",
   "execution_count": null,
   "metadata": {
    "ExecuteTime": {
     "end_time": "2018-03-08T19:35:00.563340Z",
     "start_time": "2018-03-08T19:35:00.479368Z"
    }
   },
   "outputs": [],
   "source": [
    "num_portfolios = 25000\n",
    "risk_free_rate = Rf.iloc[-1]['DTB1YR']/100"
   ]
  },
  {
   "cell_type": "code",
   "execution_count": null,
   "metadata": {
    "ExecuteTime": {
     "end_time": "2018-03-08T19:35:00.636614Z",
     "start_time": "2018-03-08T19:35:00.566909Z"
    }
   },
   "outputs": [],
   "source": [
    "risk_free_rate"
   ]
  },
  {
   "cell_type": "code",
   "execution_count": null,
   "metadata": {
    "ExecuteTime": {
     "end_time": "2018-03-08T19:35:00.703059Z",
     "start_time": "2018-03-08T19:35:00.639433Z"
    }
   },
   "outputs": [],
   "source": [
    "mean_returns.index"
   ]
  },
  {
   "cell_type": "code",
   "execution_count": null,
   "metadata": {
    "collapsed": true
   },
   "outputs": [],
   "source": []
  },
  {
   "cell_type": "code",
   "execution_count": null,
   "metadata": {
    "collapsed": true
   },
   "outputs": [],
   "source": []
  },
  {
   "cell_type": "code",
   "execution_count": null,
   "metadata": {
    "ExecuteTime": {
     "end_time": "2018-03-08T19:35:00.791237Z",
     "start_time": "2018-03-08T19:35:00.705489Z"
    },
    "collapsed": true
   },
   "outputs": [],
   "source": [
    "def display_simulated_ef_with_random(returns, \n",
    "                                     num_portfolios, \n",
    "                                     risk_free_rate):\n",
    "    \n",
    "    \"\"\"\n",
    "    display efficient frontie with random portfolio\n",
    "    choose the max sharpe and min volatility portfolio from random samples\n",
    "    \"\"\"\n",
    "    mean_returns = returns.mean()\n",
    "    cov_matrix = returns.cov()\n",
    "    results, weights = random_portfolios(num_portfolios,returns,risk_free_rate)\n",
    "    \n",
    "    # find the max sharpe\n",
    "    max_sharpe_idx = np.argmax(results[2])\n",
    "    max_sharpe = np.max(results[2])\n",
    "    sdp, rp = results[0,max_sharpe_idx], results[1,max_sharpe_idx]\n",
    "    \n",
    "    # for pretty printing\n",
    "    max_sharpe_allocation = pd.DataFrame(weights[:,max_sharpe_idx],\n",
    "                                         index=mean_returns.index,columns=['allocation'])\n",
    "    max_sharpe_allocation.allocation = [round(i*100,2)for i in max_sharpe_allocation.allocation]\n",
    "    max_sharpe_allocation = max_sharpe_allocation.T\n",
    "    \n",
    "    # find the min volatility\n",
    "    min_vol_idx = np.argmin(results[0])\n",
    "    min_vol = np.min(results[0])\n",
    "    \n",
    "    sdp_min, rp_min = results[0,min_vol_idx], results[1,min_vol_idx]\n",
    "    min_vol_allocation = pd.DataFrame(weights[:,min_vol_idx],index=mean_returns.index,columns=['allocation'])\n",
    "    \n",
    "    # for pretty printing\n",
    "    min_vol_allocation.allocation = [round(i*100,2)for i in min_vol_allocation.allocation]\n",
    "    min_vol_allocation = min_vol_allocation.T\n",
    "    \n",
    "    print( \"-\"*80)\n",
    "    print( \"Maximum Sharpe Ratio Portfolio Allocation:{:.2f}\\n\".format(max_sharpe))\n",
    "    print( \"Annualised Return:\", round(rp,2))\n",
    "    print( \"Annualised Volatility:\", round(sdp,2))\n",
    "    print( \"\\n\")\n",
    "    print( max_sharpe_allocation)\n",
    "    print( \"-\"*80)\n",
    "    print( \"Minimum Volatility Portfolio Allocation:{:.2f}\\n\".format(min_vol))\n",
    "    print( \"Annualised Return:\", round(rp_min,2))\n",
    "    print( \"Annualised Volatility:\", round(sdp_min,2))\n",
    "    print( \"\\n\")\n",
    "    print( min_vol_allocation)\n",
    "    \n",
    "    #######################################################################\n",
    "    # anualized volatility and return\n",
    "    an_vol = np.std(returns) * np.sqrt(252)\n",
    "    an_rt = mean_returns * 252\n",
    "    \n",
    "    fig, ax = plt.subplots(figsize=(10, 7))\n",
    "    ax.scatter(an_vol,an_rt,marker='o',s=200)\n",
    "    # plot each volatility and return for each asset\n",
    "    for i, txt in enumerate(mean_returns.index):\n",
    "        ax.annotate(txt, (an_vol[i],an_rt[i]), xytext=(10,0), textcoords='offset points')\n",
    "    \n",
    "    #######################################################################\n",
    "    # Monte Carlo samples\n",
    "    plt.scatter(results[0,:],results[1,:],c=results[2,:],cmap='YlGnBu', marker='o', s=10, alpha=0.3)\n",
    "    plt.colorbar()\n",
    "    \n",
    "    ####################################################################\n",
    "    # Maximum Sharp ratio portfolio\n",
    "    plt.scatter(sdp,rp,marker='*',color='r',s=500, label='Maximum Sharpe ratio')\n",
    "    # Minimum Volatility portfolio\n",
    "    plt.scatter(sdp_min,rp_min,marker='*',color='g',s=500, label='Minimum volatility')\n",
    "    \n",
    "    ########################################################################\n",
    "    plt.title('Simulated Portfolio Optimization Colord by Sharpe Ratio')\n",
    "    plt.xlabel('annualised volatility')\n",
    "    plt.ylabel('annualised returns')\n",
    "    plt.legend(labelspacing=0.8)"
   ]
  },
  {
   "cell_type": "code",
   "execution_count": null,
   "metadata": {
    "ExecuteTime": {
     "end_time": "2018-03-08T19:35:13.485901Z",
     "start_time": "2018-03-08T19:35:00.794442Z"
    },
    "scrolled": false
   },
   "outputs": [],
   "source": [
    "display_simulated_ef_with_random(returns, num_portfolios, risk_free_rate)\n"
   ]
  },
  {
   "cell_type": "code",
   "execution_count": null,
   "metadata": {
    "collapsed": true
   },
   "outputs": [],
   "source": []
  },
  {
   "cell_type": "code",
   "execution_count": null,
   "metadata": {
    "collapsed": true
   },
   "outputs": [],
   "source": []
  },
  {
   "cell_type": "code",
   "execution_count": null,
   "metadata": {
    "ExecuteTime": {
     "end_time": "2018-03-08T19:55:20.266950Z",
     "start_time": "2018-03-08T19:55:20.249345Z"
    },
    "collapsed": true
   },
   "outputs": [],
   "source": [
    "def efficient_return(returns, target):\n",
    "    mean_returns = returns.mean()\n",
    "    cov_matrix = returns.cov()\n",
    "    num_assets = len(mean_returns)\n",
    "    args = (returns)\n",
    "    # for constraint of targe return\n",
    "    def portfolio_return(weights):\n",
    "        return portfolio_annualised_performance(weights, \n",
    "                                                returns)[1]\n",
    "\n",
    "    constraints = ({'type': 'eq', 'fun': lambda x: portfolio_return(x) - target},\n",
    "                   {'type': 'eq', 'fun': lambda x: np.sum(x) - 1})\n",
    "    bounds = ((0,1),)*num_assets\n",
    "    x0 = num_assets*[1./num_assets,]\n",
    "    solution = opt.minimize(portfolio_volatility, \n",
    "                            x0=x0, \n",
    "                            args=args, method='SLSQP', \n",
    "                            bounds=bounds, constraints=constraints)\n",
    "    return solution # include 'fun' objetive funtion value: return, 'x' weights\n",
    "\n",
    "\n",
    "def efficient_frontier(returns, returns_range):    \n",
    "    efficientsolutions = [] # list is flexible to store the solutions from Scipy minimization routine\n",
    "    for ret in returns_range:\n",
    "        efficientsolutions.append(efficient_return(returns, ret))\n",
    "    return efficientsolutions"
   ]
  },
  {
   "cell_type": "code",
   "execution_count": null,
   "metadata": {
    "collapsed": true
   },
   "outputs": [],
   "source": []
  },
  {
   "cell_type": "code",
   "execution_count": null,
   "metadata": {
    "ExecuteTime": {
     "end_time": "2018-03-08T20:02:32.237753Z",
     "start_time": "2018-03-08T20:02:32.133398Z"
    },
    "collapsed": true
   },
   "outputs": [],
   "source": [
    "def display_calculated_ef_with_random(returns, \n",
    "                                      num_portfolios, \n",
    "                                      risk_free_rate):\n",
    "    \"\"\"\n",
    "    display efficient frontie with random portfolio\n",
    "    choose max sharpe and min volatitlity portfolio \n",
    "    by optimization using scipy.optimization.minimization\n",
    "    \"\"\"\n",
    "        \n",
    "    mean_returns = returns.mean()\n",
    "    cov_matrix = returns.cov()\n",
    "    # only need the std and return from random experiments\n",
    "\n",
    "    results, _ = random_portfolios(num_portfolios,\n",
    "                                   returns,  \n",
    "                                   risk_free_rate)\n",
    "    \n",
    "    # find the max sharpe by optimization\n",
    "    max_sharpe_solution = max_sharpe_ratio(returns,  \n",
    "                                           risk_free_rate)\n",
    "    \n",
    "    sdp, rp,max_sharpe = portfolio_annualised_performance(\n",
    "        max_sharpe_solution['x'], \n",
    "        returns,\n",
    "        risk_free_rate)\n",
    "    # for pretty printing\n",
    "    max_sharpe_allocation = pd.DataFrame(max_sharpe_solution['x'],\n",
    "                                         index=mean_returns.index,\n",
    "                                         columns=['allocation'])\n",
    "    max_sharpe_allocation.allocation = [round(i*100,2)for i in max_sharpe_allocation.allocation]\n",
    "    max_sharpe_allocation = max_sharpe_allocation.T\n",
    "    \n",
    "    # find min volatility by optimization\n",
    "    min_vol_solution = min_variance(returns)\n",
    "    sdp_min, rp_min, vol_sharpe = portfolio_annualised_performance(\n",
    "        min_vol_solution['x'], \n",
    "        returns, \n",
    "        risk_free_rate)\n",
    "    min_vol_allocation = pd.DataFrame(min_vol_solution['x'],\n",
    "                                      index=mean_returns.index,\n",
    "                                      columns=['allocation'])\n",
    "    # for pretty printing\n",
    "    min_vol_allocation.allocation = [round(i*100,2)for i in min_vol_allocation.allocation]\n",
    "    min_vol_allocation = min_vol_allocation.T\n",
    "    \n",
    "    print( \"-\"*80)\n",
    "    print( \"Maximum Sharpe Ratio Portfolio Allocation:{:.2f}\\n\".format(max_sharpe))\n",
    "    print( \"Annualised Return:\", round(rp,2))\n",
    "    print( \"Annualised Volatility:\", round(sdp,2))\n",
    "    print( \"\\n\")\n",
    "    print( max_sharpe_allocation)\n",
    "    print( \"-\"*80)\n",
    "    print( \"Minimum Volatility Portfolio Allocation with Sharpe:{:.2f}\\n\".format(vol_sharpe))\n",
    "    print( \"Annualised Return:\", round(rp_min,2))\n",
    "    print( \"Annualised Volatility:\", round(sdp_min,2))\n",
    "    print( \"\\n\")\n",
    "    print( min_vol_allocation)\n",
    "    \n",
    "    # anualized volatility and return for each asset\n",
    "    an_vol = np.std(returns) * np.sqrt(252)\n",
    "    an_rt = mean_returns * 252\n",
    "    \n",
    "    fig, ax = plt.subplots(figsize=(10, 7))\n",
    "    \n",
    "    # plot each volatility and return for each asset\n",
    "    ax.scatter(an_vol,an_rt,marker='o',s=200)\n",
    "    \n",
    "    for i, txt in enumerate(mean_returns.index):\n",
    "        ax.annotate(txt, (an_vol[i],an_rt[i]), xytext=(10,0), textcoords='offset points')\n",
    "    \n",
    "    \n",
    "    # Monte Carlo samples with color map 'YlGnBu' and color is the value of sharpe ratio\n",
    "    plt.scatter(results[0,:],results[1,:],c=results[2,:],cmap='YlGnBu', marker='o', s=10, alpha=0.3)\n",
    "    plt.colorbar()\n",
    "    # Maximum Sharp ratio portfolio\n",
    "    plt.scatter(sdp,rp,marker='*',color='r',s=500, label='Maximum Sharpe ratio')\n",
    "    # Minimum Volatility portfolio\n",
    "    plt.scatter(sdp_min,rp_min,marker='*',color='g',s=500, label='Minimum volatility')\n",
    "    \n",
    "    \n",
    "    ###############################################################\n",
    "    # compute and plot efficient frontie\n",
    "    target = np.linspace(rp_min, 0.32, 50)\n",
    "    efficient_portfolios = efficient_frontier(returns, target)\n",
    "    # a list of solutions of efficient portifolio\n",
    "    # p['fun] is the objective function value: return\n",
    "    plt.plot([p['fun'] for p in efficient_portfolios], target, linestyle='-.', \n",
    "             color='black', label='efficient frontier')\n",
    "    \n",
    "    \n",
    "    ################################################################\n",
    "    plt.title('Calculated Portfolio Optimization based on Efficient Frontier Colord by Sharpe Ratio')\n",
    "    plt.xlabel('annualised volatility')\n",
    "    plt.ylabel('annualised returns')\n",
    "    plt.legend(labelspacing=0.8)\n",
    "    \n",
    "    "
   ]
  },
  {
   "cell_type": "code",
   "execution_count": null,
   "metadata": {
    "ExecuteTime": {
     "end_time": "2018-03-08T20:02:49.444076Z",
     "start_time": "2018-03-08T20:02:32.822013Z"
    }
   },
   "outputs": [],
   "source": [
    "display_calculated_ef_with_random(returns,                                  \n",
    "                                  num_portfolios, \n",
    "                                  risk_free_rate)"
   ]
  },
  {
   "cell_type": "markdown",
   "metadata": {},
   "source": []
  }
 ],
 "metadata": {
  "kernelspec": {
   "display_name": "Python 3",
   "language": "python",
   "name": "python3"
  },
  "language_info": {
   "codemirror_mode": {
    "name": "ipython",
    "version": 3
   },
   "file_extension": ".py",
   "mimetype": "text/x-python",
   "name": "python",
   "nbconvert_exporter": "python",
   "pygments_lexer": "ipython3",
   "version": "3.6.2"
  }
 },
 "nbformat": 4,
 "nbformat_minor": 2
}
