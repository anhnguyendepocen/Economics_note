{
 "cells": [
  {
   "cell_type": "code",
   "execution_count": null,
   "metadata": {
    "ExecuteTime": {
     "end_time": "2018-02-22T19:48:17.678185Z",
     "start_time": "2018-02-22T19:48:17.645098Z"
    },
    "collapsed": true
   },
   "outputs": [],
   "source": [
    "import numpy as np\n",
    "import scipy as sp\n",
    "\n",
    "from numpy import append, array, diagonal, tril, triu\n",
    "from numpy.linalg import inv\n",
    "from scipy.linalg import lu\n",
    "#from scipy.linalg import solve\n",
    "from pprint import pprint\n",
    "from numpy import array, zeros, diag, diagflat, dot\n",
    "\n",
    "from sympy import *\n",
    "import sympy as sym\n",
    "init_printing()\n",
    "\n",
    "import matplotlib as mpl\n",
    "# matplotlib for ploting\n",
    "from matplotlib import pyplot as plt\n",
    "from mpl_toolkits.mplot3d import Axes3D     # 3d\n",
    "# for inline interactive plotting\n",
    "%matplotlib inline\n",
    "\n",
    "#mpl.rcParams['savefig.dpi'] = 80\n",
    "mpl.rcParams['figure.dpi'] = 80\n",
    "# from IPython.display import set_matplotlib_formats\n",
    "# set_matplotlib_formats('png', 'pdf')\n",
    "# for better picture quality\n",
    "%config InlineBackend.figure_format = 'retina'\n",
    "#https://www.dataquest.io/blog/jupyter-notebook-tips-tricks-shortcuts/\n",
    "\n",
    "import seaborn as sns\n",
    "sns.set()\n",
    "#sns.set_style(style= \"whitegrid\")\n",
    "#plt.style.available\n",
    "# bold graph style\n",
    "plt.style.use('fivethirtyeight')"
   ]
  },
  {
   "cell_type": "code",
   "execution_count": null,
   "metadata": {
    "collapsed": true
   },
   "outputs": [],
   "source": []
  },
  {
   "cell_type": "code",
   "execution_count": null,
   "metadata": {
    "collapsed": true
   },
   "outputs": [],
   "source": []
  },
  {
   "cell_type": "markdown",
   "metadata": {},
   "source": [
    "# Linear Equations"
   ]
  },
  {
   "cell_type": "markdown",
   "metadata": {},
   "source": [
    "## Iterative Methods\n",
    "\n",
    "\n",
    "Algorithms based on Gaussian elimination are called **exact** or, more properly, **direct**\n",
    "methods because they would generate exact solutions for the linear equation $Ax = b$\n",
    "after a finite number of operations, if not for rounding error. Such methods are ideal\n",
    "for moderately-sized linear equations, but may be impractical for large ones. \n",
    "\n",
    "\n",
    "Other methods, called **iterative methods** can often be used to solve large linear equations\n",
    "more efficiently if the A matrix is sparse, that is, if $A$ is composed mostly of zero\n",
    "entries. Iterative methods are designed to generate a sequence of increasingly accurate\n",
    "approximations to the solution of a linear equation, but generally do not yield an exact\n",
    "solution after a prescribed number of steps, even in theory.\n"
   ]
  },
  {
   "cell_type": "code",
   "execution_count": null,
   "metadata": {
    "collapsed": true
   },
   "outputs": [],
   "source": []
  },
  {
   "cell_type": "markdown",
   "metadata": {},
   "source": [
    "The most widely-used iterative methods for solving a linear equation $Ax = b$ are\n",
    "developed by choosing an **easily invertible matrix $Q$** and writing the linear equation\n",
    "in the equivalent form\n",
    "\n",
    "$$Q x = b + (Q - A)x$$\n",
    "\n",
    "or\n",
    "\n",
    "$$x = Q^{-1}b + (I - Q^{-1}A)x.$$\n",
    "\n",
    "This form of the linear equation suggests the iteration rule\n",
    "\n",
    "\n",
    "\n",
    "$$x^{(k+1)} \\leftarrow   Q^{-1}b + (I - Q^{-1}A)x^{(k)}$$"
   ]
  },
  {
   "cell_type": "markdown",
   "metadata": {},
   "source": [
    "Ideally, the so-called **splitting matrix Q** will satisfy two criteria. First, $Q^{-1}b$ and\n",
    "$Q^{-1}A$ should be relatively easy to compute. This is true if Q is either diagonal or\n",
    "triangular. Second, the iterates should **converge quickly** to the true solution of the\n",
    "linear equation. If\n",
    "\n",
    "$$||I - Q^{-1}A|| < 1$$\n",
    "\n",
    "in any matrix norm, then the iteration rule is a contraction mapping and is **guaranteed**\n",
    "to converge to the solution of the linear equation from any initial value."
   ]
  },
  {
   "cell_type": "markdown",
   "metadata": {},
   "source": [
    "The two most popular iterative methods are the **Gauss-Jacobi** and **Gauss-Seidel**\n",
    "methods. \n",
    "\n",
    " - The Gauss-Jacobi method sets $Q$ equal to the diagonal matrix formed from the diagonal entries of A. \n",
    "\n",
    "\n",
    " - The Gauss-Seidel method sets $Q$ equal to the upper triangular matrix formed from the upper triagonal elements of A.\n"
   ]
  },
  {
   "cell_type": "code",
   "execution_count": null,
   "metadata": {
    "ExecuteTime": {
     "end_time": "2018-02-22T20:00:07.369615Z",
     "start_time": "2018-02-22T20:00:07.344048Z"
    }
   },
   "outputs": [],
   "source": [
    "# example problem\n",
    "\n",
    "A = np.array([[54, 14, -11, 2],\n",
    "               [14, 50, -4, 29],\n",
    "               [-11, -4, 55, 22],\n",
    "               [2, 29, 22, 95]])\n",
    "print(\"Left hand side of linear system, matrix A:\\n\", A)\n",
    "b = np.array([1, 1, 1, 1])\n",
    "x0 = [1, 1, 1,1]\n",
    "\n",
    "n = 25\n",
    "\n",
    "\n",
    "print( \"A:\")\n",
    "pprint(A)\n",
    "\n",
    "\n",
    "#rint( \"diag(A):\")\n",
    "#print((diag(A)))\n",
    "\n",
    "\n",
    "#rint(\"pprint(diagflat(diag(A)))\")\n",
    "#print(diagflat(diag(A)))\n",
    "\n",
    "print( \"b:\")\n",
    "pprint(b)\n",
    "\n",
    "print( \"x0:\")\n",
    "pprint(x0)\n",
    "\n",
    "print( \"n:\")\n",
    "pprint(n)\n"
   ]
  },
  {
   "cell_type": "markdown",
   "metadata": {},
   "source": [
    "the user specifies the data A and b and an initial guess $x$ for the solution of\n",
    "the linear equation, typically the zero vector or $b$. \n",
    "\n",
    "Iteration continues until the norm\n",
    "of the change dx in the iterate falls below the specified convergence tolerance tol or\n",
    "until a specified maximum number of allowable iterations maxit are performed."
   ]
  },
  {
   "cell_type": "code",
   "execution_count": null,
   "metadata": {
    "ExecuteTime": {
     "end_time": "2018-02-22T19:40:57.606917Z",
     "start_time": "2018-02-22T19:40:57.591877Z"
    }
   },
   "outputs": [],
   "source": [
    "#p17\n",
    "\n",
    "maxit = 1000\n",
    "tol = 1/10000 \n",
    "x0 = np.array([1,1,1,1])\n",
    "x0= b\n",
    "\n",
    "\n",
    "\n",
    "# spliting matrix\n",
    "Q = np.diag(np.diag(A))\n",
    "\n",
    "\n",
    "x = x0\n",
    "for it in np.arange(maxit):\n",
    "    dx =  inv(d).dot(b - A.dot(x))\n",
    "    x = x + dx\n",
    "    if np.linalg.norm(dx)<tol:\n",
    "        break\n",
    "\n",
    "print(\"x:\\n\", x)        "
   ]
  },
  {
   "cell_type": "code",
   "execution_count": null,
   "metadata": {
    "collapsed": true
   },
   "outputs": [],
   "source": [
    "A,b, x0, tol"
   ]
  },
  {
   "cell_type": "code",
   "execution_count": null,
   "metadata": {
    "collapsed": true
   },
   "outputs": [],
   "source": []
  },
  {
   "cell_type": "markdown",
   "metadata": {},
   "source": [
    "###  <span style=\"color:red\">It is your turn to turn it into a function</span>"
   ]
  },
  {
   "cell_type": "code",
   "execution_count": null,
   "metadata": {
    "collapsed": true
   },
   "outputs": [],
   "source": []
  },
  {
   "cell_type": "code",
   "execution_count": null,
   "metadata": {
    "collapsed": true
   },
   "outputs": [],
   "source": []
  },
  {
   "cell_type": "code",
   "execution_count": null,
   "metadata": {
    "collapsed": true
   },
   "outputs": [],
   "source": []
  },
  {
   "cell_type": "code",
   "execution_count": null,
   "metadata": {
    "collapsed": true
   },
   "outputs": [],
   "source": []
  },
  {
   "cell_type": "markdown",
   "metadata": {},
   "source": [
    "### gauss_jacobi"
   ]
  },
  {
   "cell_type": "code",
   "execution_count": null,
   "metadata": {
    "ExecuteTime": {
     "end_time": "2018-02-22T19:46:54.423643Z",
     "start_time": "2018-02-22T19:46:54.411594Z"
    },
    "collapsed": true
   },
   "outputs": [],
   "source": [
    "def my_gauss_jacobi(A, b, maxit=1000,tol = 1/1000, x0=None):\n",
    "    \"\"\"\n",
    "    Solve a linear equation by the gauss jacobi iteration outlined in the book.\n",
    "    Follows the eq:\n",
    "        x = inv(Q)(b - Ax)\n",
    "    Where Q is the diagonal matrix of A\n",
    "    \"\"\"\n",
    "    # If we have not provided an initial array for x make a new one\n",
    "    if x0==None:\n",
    "        x = np.array([1 for _ in np.arange(A.shape[1])])\n",
    "    else:\n",
    "        x = x0\n",
    "        \n",
    "        \n",
    "    Q = np.diag(np.diag(A))\n",
    "    \n",
    "    for it in np.arange(maxit):\n",
    "        dx =  inv(Q).dot(b - A.dot(x))\n",
    "        x = x + dx\n",
    "        if np.linalg.norm(dx)<tol:\n",
    "            break\n",
    "\n",
    "    print(\"x:\\n\", x)  "
   ]
  },
  {
   "cell_type": "code",
   "execution_count": null,
   "metadata": {
    "ExecuteTime": {
     "end_time": "2018-02-22T19:46:54.839242Z",
     "start_time": "2018-02-22T19:46:54.835232Z"
    }
   },
   "outputs": [],
   "source": [
    "my_gauss_jacobi(A, b, maxit,tol, x0=None)"
   ]
  },
  {
   "cell_type": "markdown",
   "metadata": {},
   "source": [
    "### Check it in Numpy or Scipy"
   ]
  },
  {
   "cell_type": "code",
   "execution_count": null,
   "metadata": {
    "ExecuteTime": {
     "end_time": "2018-02-22T19:47:05.024878Z",
     "start_time": "2018-02-22T19:47:05.020868Z"
    }
   },
   "outputs": [],
   "source": [
    "np.linalg.solve(A,b)"
   ]
  },
  {
   "cell_type": "code",
   "execution_count": null,
   "metadata": {
    "ExecuteTime": {
     "end_time": "2018-02-22T19:48:27.768213Z",
     "start_time": "2018-02-22T19:48:27.741141Z"
    }
   },
   "outputs": [],
   "source": [
    "sp.linalg.solve(A,b)"
   ]
  },
  {
   "cell_type": "code",
   "execution_count": null,
   "metadata": {
    "collapsed": true
   },
   "outputs": [],
   "source": []
  },
  {
   "cell_type": "markdown",
   "metadata": {},
   "source": [
    "### Gauss Seidel method"
   ]
  },
  {
   "cell_type": "code",
   "execution_count": null,
   "metadata": {
    "ExecuteTime": {
     "end_time": "2018-02-22T19:52:33.300357Z",
     "start_time": "2018-02-22T19:52:33.296347Z"
    }
   },
   "outputs": [],
   "source": [
    "Q = np.tril(A)\n",
    "Q"
   ]
  },
  {
   "cell_type": "code",
   "execution_count": null,
   "metadata": {
    "ExecuteTime": {
     "end_time": "2018-02-22T19:54:36.915152Z",
     "start_time": "2018-02-22T19:54:36.911142Z"
    }
   },
   "outputs": [],
   "source": [
    "Q = np.triu(A)\n",
    "Q"
   ]
  },
  {
   "cell_type": "markdown",
   "metadata": {},
   "source": [
    "Here, we have incorporated a so-called over-relaxation parameter, lambda. Instead of using $x + dx$, we use $x + lamb*x$ to compute the next iterate.\n",
    "\n",
    "\n",
    "a value of lambda between 1 and 2 will accelerate convergence of the Gauss-Seidel algorithm.\n"
   ]
  },
  {
   "cell_type": "code",
   "execution_count": null,
   "metadata": {
    "collapsed": true
   },
   "outputs": [],
   "source": [
    "x=b\n",
    "\n",
    "lamb = 1.5"
   ]
  },
  {
   "cell_type": "code",
   "execution_count": null,
   "metadata": {
    "ExecuteTime": {
     "end_time": "2018-02-22T19:54:44.101184Z",
     "start_time": "2018-02-22T19:54:44.092662Z"
    }
   },
   "outputs": [],
   "source": [
    "\n",
    "for it in np.arange(maxit):\n",
    "    dx = np.linalg.inv(Q).dot(b -A.dot(x))\n",
    "    x = x + lamb*dx\n",
    "    if np.linalg.norm(dx)<tol:\n",
    "        break\n",
    "print(\"x:\\n\", x) \n",
    "\n"
   ]
  },
  {
   "cell_type": "code",
   "execution_count": null,
   "metadata": {
    "collapsed": true
   },
   "outputs": [],
   "source": [
    "A,b,x0, maxit, tol, lamb "
   ]
  },
  {
   "cell_type": "code",
   "execution_count": null,
   "metadata": {
    "collapsed": true
   },
   "outputs": [],
   "source": []
  },
  {
   "cell_type": "code",
   "execution_count": null,
   "metadata": {
    "collapsed": true
   },
   "outputs": [],
   "source": []
  },
  {
   "cell_type": "code",
   "execution_count": null,
   "metadata": {
    "collapsed": true
   },
   "outputs": [],
   "source": []
  },
  {
   "cell_type": "code",
   "execution_count": null,
   "metadata": {
    "collapsed": true
   },
   "outputs": [],
   "source": []
  },
  {
   "cell_type": "code",
   "execution_count": null,
   "metadata": {
    "collapsed": true
   },
   "outputs": [],
   "source": []
  },
  {
   "cell_type": "code",
   "execution_count": null,
   "metadata": {
    "collapsed": true
   },
   "outputs": [],
   "source": []
  },
  {
   "cell_type": "markdown",
   "metadata": {},
   "source": [
    "###  <span style=\"color:red\">It is your turn to turn it into a function</span>"
   ]
  },
  {
   "cell_type": "code",
   "execution_count": null,
   "metadata": {
    "collapsed": true
   },
   "outputs": [],
   "source": []
  },
  {
   "cell_type": "code",
   "execution_count": null,
   "metadata": {
    "collapsed": true
   },
   "outputs": [],
   "source": []
  },
  {
   "cell_type": "code",
   "execution_count": null,
   "metadata": {
    "collapsed": true
   },
   "outputs": [],
   "source": []
  },
  {
   "cell_type": "code",
   "execution_count": null,
   "metadata": {
    "collapsed": true
   },
   "outputs": [],
   "source": []
  },
  {
   "cell_type": "code",
   "execution_count": null,
   "metadata": {
    "collapsed": true
   },
   "outputs": [],
   "source": []
  },
  {
   "cell_type": "code",
   "execution_count": null,
   "metadata": {
    "collapsed": true
   },
   "outputs": [],
   "source": []
  },
  {
   "cell_type": "code",
   "execution_count": null,
   "metadata": {
    "collapsed": true
   },
   "outputs": [],
   "source": []
  },
  {
   "cell_type": "code",
   "execution_count": null,
   "metadata": {
    "collapsed": true
   },
   "outputs": [],
   "source": []
  },
  {
   "cell_type": "code",
   "execution_count": null,
   "metadata": {
    "collapsed": true
   },
   "outputs": [],
   "source": []
  },
  {
   "cell_type": "code",
   "execution_count": null,
   "metadata": {
    "ExecuteTime": {
     "end_time": "2018-02-22T20:00:18.404570Z",
     "start_time": "2018-02-22T20:00:18.384516Z"
    }
   },
   "outputs": [],
   "source": [
    "def my_gauss_seidel(A, b, maxit=1000, tol=1/1000, lamb =1, x0=None):\n",
    "    \"\"\"\n",
    "    Solve a linear equation by the gauss seidel iteration outlined in the book\n",
    "    Follows the eq:        \n",
    "    \"\"\"\n",
    "    Q = np.triu(A)\n",
    "    # If we have not provided an initial array for x make a new one\n",
    "    if x0 == None:\n",
    "        x = np.array([1 for _ in np.arange(A.shape[1])])\n",
    "    else:\n",
    "        x = x0\n",
    "    for it in np.arange(maxit):\n",
    "        dx = np.linalg.inv(Q).dot(b -A.dot(x))\n",
    "        x = x + lamb*dx\n",
    "        if np.linalg.norm(dx)<tol:\n",
    "            break\n",
    "    print(\"x:\\n\", x) \n",
    "    return x\n",
    "\n",
    "my_gauss_seidel(A,b)"
   ]
  },
  {
   "cell_type": "markdown",
   "metadata": {},
   "source": [
    "### **fail to converge**"
   ]
  },
  {
   "cell_type": "code",
   "execution_count": null,
   "metadata": {
    "ExecuteTime": {
     "end_time": "2018-02-22T20:00:20.057636Z",
     "start_time": "2018-02-22T20:00:20.034573Z"
    }
   },
   "outputs": [],
   "source": [
    "A = np.array([[3, 2],\n",
    "               [4, 1]])\n",
    "b = np.array([7 , 9])\n",
    "\n",
    "\n",
    "\n",
    "x = my_gauss_seidel(A,b,maxit)\n",
    "print(\"x:\\n\",x)"
   ]
  },
  {
   "cell_type": "markdown",
   "metadata": {},
   "source": [
    "A general rule of thumb is that if A is **large and sparse**, then the linear equation is\n",
    "a good candidate for iterative methods, provided that sparse matrix storage functions\n",
    "are used to reduce storage requirements and computational effort.\n",
    "\n",
    "\n",
    "Iterative methods,\n",
    "however, have some **drawbacks**. \n",
    "\n",
    "\n",
    "First, iterative methods, in contrast to direct\n",
    "methods, can **fail to converge**. Furthermore, it is often difficult or computationally\n",
    "costly to check whether a specific problem falls into a class of problems known to\n",
    "be convergent. \n",
    "\n",
    "\n",
    "It is therefore always a good idea to monitor whether the iterations\n",
    "seem to be diverging and try something else if they are. \n",
    "\n",
    "\n",
    "Second, satisfaction of the\n",
    "termination criteria do not necessarily guarantee a similar level of accuracy in the\n",
    "solution, as measured as the deviation of the approximate solution from the true (but\n",
    "unknown) solution."
   ]
  },
  {
   "cell_type": "code",
   "execution_count": null,
   "metadata": {
    "collapsed": true
   },
   "outputs": [],
   "source": []
  },
  {
   "cell_type": "code",
   "execution_count": null,
   "metadata": {
    "collapsed": true
   },
   "outputs": [],
   "source": []
  },
  {
   "cell_type": "markdown",
   "metadata": {},
   "source": [
    "# Nonlinear Equations"
   ]
  },
  {
   "cell_type": "markdown",
   "metadata": {},
   "source": [
    "One of the most basic numerical operations encountered in computational economics\n",
    "is to find the solution of a system of nonlinear equations. Nonlinear equations generally\n",
    "arise in one of two forms. In the nonlinear *rootfinding problem*, a function f\n",
    "mapping $R^n$ to $R^n$ is given and one must compute an n-vector $x$, called a *root* of $f$,\n",
    "that satisfies\n",
    "\n",
    "$$f(x) = 0$$\n",
    "\n",
    "\n",
    "In the nonlinear fixed-point problem, a function $g$ from $R^n$ to $R^n$ is given and one\n",
    "must compute an n-vector x called a fixed-point of $g$, that satisfies\n",
    "\n",
    "$$x = g(x)$$\n",
    "\n",
    "\n",
    "http://nbviewer.jupyter.org/github/sbustamante/ComputationalMethods/blob/master/material/one-variable-equations.ipynb"
   ]
  },
  {
   "cell_type": "code",
   "execution_count": null,
   "metadata": {
    "ExecuteTime": {
     "end_time": "2018-02-22T21:59:49.703330Z",
     "start_time": "2018-02-22T21:59:49.592534Z"
    }
   },
   "outputs": [],
   "source": [
    "# rootfinding\n",
    "plt.figure()\n",
    "x = np.linspace(0,3,100)\n",
    "plt.plot(x,x**3-2);\n",
    "plt.plot(x, x-x);"
   ]
  },
  {
   "cell_type": "code",
   "execution_count": null,
   "metadata": {
    "ExecuteTime": {
     "end_time": "2018-02-22T22:01:15.331771Z",
     "start_time": "2018-02-22T22:01:15.328763Z"
    },
    "collapsed": true
   },
   "outputs": [],
   "source": [
    "f = lambda x: x**3-2\n",
    "\n"
   ]
  },
  {
   "cell_type": "code",
   "execution_count": null,
   "metadata": {
    "collapsed": true
   },
   "outputs": [],
   "source": [
    "f(a)*f(b)<0"
   ]
  },
  {
   "cell_type": "code",
   "execution_count": null,
   "metadata": {
    "ExecuteTime": {
     "end_time": "2018-02-22T22:01:49.174710Z",
     "start_time": "2018-02-22T22:01:48.614723Z"
    }
   },
   "outputs": [],
   "source": [
    "a, b = 0, 2\n",
    "\n",
    "tol=10e-10\n",
    "\n",
    "lower, upper = a, b\n",
    "\n",
    "while upper - lower > tol:\n",
    "    middle = 0.5 * (upper + lower)\n",
    "    # === if root is between lower and middle === #\n",
    "    if f(middle) > 0:  \n",
    "        lower, upper = lower, middle\n",
    "    # === if root is between middle and upper  === #\n",
    "    else:              \n",
    "        lower, upper = middle, upper\n",
    "        \n",
    "middle        "
   ]
  },
  {
   "cell_type": "markdown",
   "metadata": {},
   "source": [
    "###  <span style=\"color:red\">It is your turn to turn it into a function</span>"
   ]
  },
  {
   "cell_type": "markdown",
   "metadata": {},
   "source": [
    "### Check with Scipy"
   ]
  },
  {
   "cell_type": "code",
   "execution_count": null,
   "metadata": {
    "ExecuteTime": {
     "end_time": "2018-02-22T22:02:31.257397Z",
     "start_time": "2018-02-22T22:02:30.645743Z"
    }
   },
   "outputs": [],
   "source": [
    "from scipy.optimize import bisect\n",
    "## example \n",
    "f =lambda x: x**3-2\n",
    "#f = lambda x: np.sin(4 * (x - 0.25)) + x + x**20 - 1\n",
    "bisect(f, 0, 2)"
   ]
  },
  {
   "cell_type": "code",
   "execution_count": null,
   "metadata": {},
   "outputs": [],
   "source": [
    "bisect(lambda x: x**3-2, 0, 2)"
   ]
  },
  {
   "cell_type": "markdown",
   "metadata": {},
   "source": [
    "The `bisect()` method takes three compulsory arguments: \n",
    "\n",
    "- (i) the function `f(x)`, \n",
    "\n",
    "- (ii) a lower limit `a` (for which we have chosen 1.5 in our example) and \n",
    "\n",
    "- (ii) an upper limit `b` (for which we have chosen 3). The optional parameter xtol determines the maximum error of the method.\n",
    "\n",
    "One of the requirements of the bisection method is that the interval `[a, b]` has to be chosen such that the function is either positive at`a` and negative at `b`, or that the function is negative at `a` and postive at `b`. In other words: `a` and `b` have to enclose a root."
   ]
  },
  {
   "cell_type": "markdown",
   "metadata": {},
   "source": [
    "### lambda operator or lambda function \n",
    "\n",
    "The lambda operator or lambda function is a way to create small anonymous functions, i.e. functions without a name. These functions are throw-away functions, i.e. they are just needed where they have been created. Lambda functions are mainly used in combination with the functions filter(), map() and reduce(). The lambda feature was added to Python due to the demand from Lisp programmers. \n",
    "\n",
    "https://www.python-course.eu/lambda.php\n",
    "\n",
    "http://www.secnetix.de/olli/Python/lambda_functions.hawk"
   ]
  },
  {
   "cell_type": "code",
   "execution_count": null,
   "metadata": {
    "ExecuteTime": {
     "end_time": "2018-02-22T22:07:40.624001Z",
     "start_time": "2018-02-22T22:07:39.796803Z"
    }
   },
   "outputs": [],
   "source": [
    "def f (x): return x**2\n",
    "\n",
    "f(8)"
   ]
  },
  {
   "cell_type": "code",
   "execution_count": null,
   "metadata": {
    "ExecuteTime": {
     "end_time": "2018-02-22T22:07:41.143402Z",
     "start_time": "2018-02-22T22:07:40.625505Z"
    }
   },
   "outputs": [],
   "source": [
    "g = lambda x: x**2\n",
    "\n",
    "g(8)"
   ]
  },
  {
   "cell_type": "code",
   "execution_count": null,
   "metadata": {
    "collapsed": true
   },
   "outputs": [],
   "source": []
  },
  {
   "cell_type": "code",
   "execution_count": null,
   "metadata": {
    "collapsed": true
   },
   "outputs": [],
   "source": []
  },
  {
   "cell_type": "code",
   "execution_count": null,
   "metadata": {
    "collapsed": true
   },
   "outputs": [],
   "source": []
  },
  {
   "cell_type": "code",
   "execution_count": null,
   "metadata": {
    "collapsed": true
   },
   "outputs": [],
   "source": []
  },
  {
   "cell_type": "code",
   "execution_count": null,
   "metadata": {
    "collapsed": true
   },
   "outputs": [],
   "source": []
  },
  {
   "cell_type": "code",
   "execution_count": null,
   "metadata": {
    "ExecuteTime": {
     "end_time": "2018-02-22T22:02:53.257616Z",
     "start_time": "2018-02-22T22:02:53.248592Z"
    },
    "collapsed": true
   },
   "outputs": [],
   "source": [
    "def mybisect(f, a, b, tol=10e-10):\n",
    "    \"\"\"\n",
    "    Implements the bisection root finding algorithm, assuming that f is a\n",
    "    real-valued function on [a, b] satisfying f(a) < 0 < f(b).\n",
    "    \"\"\"\n",
    "    lower, upper = a, b\n",
    "\n",
    "    while upper - lower > tol:\n",
    "        middle = 0.5 * (upper + lower)\n",
    "        # === if root is between lower and middle === #\n",
    "        if f(middle) > 0:  \n",
    "            lower, upper = lower, middle\n",
    "        # === if root is between middle and upper  === #\n",
    "        else:              \n",
    "            lower, upper = middle, upper\n",
    "\n",
    "    return 0.5 * (upper + lower)"
   ]
  },
  {
   "cell_type": "code",
   "execution_count": null,
   "metadata": {
    "ExecuteTime": {
     "end_time": "2018-02-22T22:03:00.988084Z",
     "start_time": "2018-02-22T22:03:00.305270Z"
    }
   },
   "outputs": [],
   "source": [
    "mybisect(f, 0, 2)"
   ]
  },
  {
   "cell_type": "code",
   "execution_count": null,
   "metadata": {
    "collapsed": true
   },
   "outputs": [],
   "source": []
  },
  {
   "cell_type": "markdown",
   "metadata": {},
   "source": [
    "### Function Iteration"
   ]
  },
  {
   "cell_type": "code",
   "execution_count": null,
   "metadata": {
    "collapsed": true
   },
   "outputs": [],
   "source": [
    "x = x0\n",
    "for it in range(maxit):\n",
    "    xold = x\n",
    "    x = f(x) # update x\n",
    "    diff = np.linalg.norm(x - xold)\n",
    "\n",
    "    if diff < tol:\n",
    "\n",
    "        return x\n",
    "    \n",
    "        break"
   ]
  },
  {
   "cell_type": "markdown",
   "metadata": {},
   "source": [
    "###  <span style=\"color:red\">It is your turn to turn it into a function</span>"
   ]
  },
  {
   "cell_type": "markdown",
   "metadata": {},
   "source": [
    "### Check with Scipy"
   ]
  },
  {
   "cell_type": "code",
   "execution_count": null,
   "metadata": {
    "ExecuteTime": {
     "end_time": "2018-02-22T22:05:05.771003Z",
     "start_time": "2018-02-22T22:05:05.764485Z"
    }
   },
   "outputs": [],
   "source": [
    "from scipy.optimize import fixed_point\n",
    "\n",
    "fixed_point(lambda x: x**0.5, 0.4)  # 0.4 is an initial guess"
   ]
  },
  {
   "cell_type": "code",
   "execution_count": null,
   "metadata": {
    "collapsed": true
   },
   "outputs": [],
   "source": []
  },
  {
   "cell_type": "code",
   "execution_count": null,
   "metadata": {
    "collapsed": true
   },
   "outputs": [],
   "source": []
  },
  {
   "cell_type": "code",
   "execution_count": null,
   "metadata": {
    "collapsed": true
   },
   "outputs": [],
   "source": []
  },
  {
   "cell_type": "code",
   "execution_count": null,
   "metadata": {
    "collapsed": true
   },
   "outputs": [],
   "source": []
  },
  {
   "cell_type": "code",
   "execution_count": null,
   "metadata": {
    "ExecuteTime": {
     "end_time": "2018-02-22T22:08:06.063227Z",
     "start_time": "2018-02-22T22:08:06.054202Z"
    },
    "collapsed": true
   },
   "outputs": [],
   "source": [
    "def myfixpoint(f, x0, maxit = 1000,tol=10e-10):\n",
    "    # \n",
    "    x = x0\n",
    "    for it in range(maxit):\n",
    "        xold = x\n",
    "        x = f(x) \n",
    "        diff = np.linalg.norm(x - xold)\n",
    "\n",
    "        if diff < tol:\n",
    "            \n",
    "            return x\n"
   ]
  },
  {
   "cell_type": "code",
   "execution_count": null,
   "metadata": {
    "ExecuteTime": {
     "end_time": "2018-02-22T22:08:46.449971Z",
     "start_time": "2018-02-22T22:08:45.896474Z"
    }
   },
   "outputs": [],
   "source": [
    "myfixpoint(lambda x: x**0.5, x0=0.4)"
   ]
  },
  {
   "cell_type": "code",
   "execution_count": null,
   "metadata": {
    "collapsed": true
   },
   "outputs": [],
   "source": []
  },
  {
   "cell_type": "code",
   "execution_count": 1,
   "metadata": {
    "ExecuteTime": {
     "end_time": "2018-02-22T22:03:50.063042Z",
     "start_time": "2018-02-22T22:03:50.058028Z"
    }
   },
   "outputs": [
    {
     "data": {
      "text/html": [
       "<style>\n",
       "    @font-face {\n",
       "        font-family: \"Computer Modern\";\n",
       "        src: url('http://mirrors.ctan.org/fonts/cm-unicode/fonts/otf/cmunss.otf');\n",
       "    }\n",
       "    div.cell{\n",
       "        width: 90%;\n",
       "/*        margin-left:auto;*/\n",
       "/*        margin-right:auto;*/\n",
       "    }\n",
       "    ul {\n",
       "        line-height: 145%;\n",
       "        font-size: 90%;\n",
       "    }\n",
       "    li {\n",
       "        margin-bottom: 1em;\n",
       "    }\n",
       "    h1 {\n",
       "        font-family: Helvetica, serif;\n",
       "        color: rgb(0, 80, 120);\n",
       "    }\n",
       "    h2 {\n",
       "        color: rgb(0,100,110);\n",
       "    }\n",
       "    h3 {\n",
       "        color: rgb(94,127,192);\n",
       "    }\n",
       "    div.text_cell_render{\n",
       "        font-family: Computer Modern, \"Helvetica Neue\", Arial, Helvetica, Geneva, sans-serif;\n",
       "        line-height: 145%;\n",
       "        font-size: 130%;\n",
       "        width: 90%;\n",
       "        margin-left:auto;\n",
       "        margin-right:auto;\n",
       "    }\n",
       "    .CodeMirror{\n",
       "            font-family: \"Source Code Pro\", source-code-pro,Consolas, monospace;\n",
       "    }\n",
       "/*    .prompt{\n",
       "        display: None;\n",
       "    }*/\n",
       "    .text_cell_render h5 {\n",
       "        font-weight: 300;\n",
       "        font-size: 16pt;\n",
       "        color: #4057A1;\n",
       "        font-style: italic;\n",
       "        margin-bottom: 0.5em;\n",
       "        margin-top: 0.5em;\n",
       "        display: block;\n",
       "    }\n",
       "\n",
       "    .warning{\n",
       "        color: rgb( 240, 20, 20 )\n",
       "        }\n",
       "</style>"
      ],
      "text/plain": [
       "<IPython.core.display.HTML object>"
      ]
     },
     "execution_count": 1,
     "metadata": {},
     "output_type": "execute_result"
    }
   ],
   "source": [
    "from IPython.core.display import HTML, Image\n",
    "css_file = '../../custom.css'\n",
    "HTML(open(css_file, 'r').read())"
   ]
  },
  {
   "cell_type": "code",
   "execution_count": null,
   "metadata": {},
   "outputs": [],
   "source": []
  }
 ],
 "metadata": {
  "kernelspec": {
   "display_name": "bayesian",
   "language": "python",
   "name": "python3"
  },
  "language_info": {
   "codemirror_mode": {
    "name": "ipython",
    "version": 3
   },
   "file_extension": ".py",
   "mimetype": "text/x-python",
   "name": "python",
   "nbconvert_exporter": "python",
   "pygments_lexer": "ipython3",
   "version": "3.6.1"
  }
 },
 "nbformat": 4,
 "nbformat_minor": 2
}
