{
 "cells": [
  {
   "cell_type": "markdown",
   "metadata": {},
   "source": [
    "## 2.1 Computer Arithmetic\n",
    "\n",
    "Some knowledge of how computers perform numerical computations and how programming\n",
    "languages work is useful in applied numerical work, especially if one is to\n",
    "write efficient programs and avoid errors. It often comes as an unpleasant surprise to\n",
    "many people to learn that exact arithmetic and computer arithmetic do not always\n",
    "give the same answers, even in programs without programming errors.\n",
    "\n",
    "Typically, computer languages such as Fortran and C allow several ways of representing\n",
    "a number.\n",
    "\n",
    "The exact details of the representation depends on the hardware but it will\n",
    "suffice for our purposes to suppose that floating point numbers are stored in the form\n",
    "$m2^n$, where m and e are integers with $-2^b \\leq m <2^b$ and $-2^d \\leq n < 2^d$.\n",
    "\n",
    "The obvious way of computing this term will result in loss of precision.\n",
    "\n",
    "These arise not only from overflow but from division by 0.\n",
    "\n",
    "In addition,floating point numbers may get set to $nan$, which stands for not-a-number.\n",
    "\n",
    "Roundoff error is only one of the pitfalls in evaluating mathematical expressions.\n",
    "In numerical computations, error is also introduced by the computer's inherent inability\n",
    "to evaluate certain mathematical expressions exactly. For all its power, a computer\n",
    "can only perform a limited set of operations in evaluating expressions. Essentially this\n",
    "list includes the four arithmetic operations of addition, subtraction, multiplication\n",
    "and division, as well as logical operations of comparison.\n",
    "\n",
    "Other common functions,such as exponential, logarithmic, and trigonometric functions cannot be evaluated directly using computer arithmetic. They can only be evaluated approximately using algorithms based on the four basic arithmetic operations.\n",
    "\n",
    "For the common functions very efficient algorithms typically exist and these are\n",
    "sometimes \"hardwired\" into the computer's processor or coprocessor. An important\n",
    "area of numerical analysis involves determining efficient approximations that can be\n",
    "computed using basic arithmetic operations.\n",
    "\n",
    "\n",
    "\n",
    "$$exp(x) = \\sum^{\\infty}_{i=0} x^{n}/n!$$\n",
    "\n",
    "Obviously one cannot compute the infinite sum, but one could compute a finite number\n",
    "of these terms, with the hope that one will obtain sufficient accuracy for the\n",
    "purpose at hand. The result, however, will always be inexact."
   ]
  },
  {
   "cell_type": "code",
   "execution_count": 30,
   "metadata": {
    "collapsed": false
   },
   "outputs": [
    {
     "name": "stdout",
     "output_type": "stream",
     "text": [
      "Case a) x is equal to 0.0000100000 \n",
      "Case b) x is equal to 0.0000100000 \n",
      "_____________________________\n",
      "Case a) x is equal to 0.00001000000000006551 \n",
      "Case b) x is equal to 0.00001000000000000000 \n",
      "_____________________________\n",
      "Case a) x is equal to 0.00000000000000999201 \n",
      "Case b) x is equal to 0.00000000000001000000 \n"
     ]
    }
   ],
   "source": [
    "#Let's check Finite Precision Arithmetic\n",
    "x=(1e-5 + 1) - 1\n",
    "print('Case a) x is equal to {:0.10f} '.format(x))\n",
    "x=1e-5 + (1 - 1)\n",
    "print('Case b) x is equal to {:0.10f} '.format(x))\n",
    "print('_____________________________')\n",
    "x=(1e-5 + 1) - 1\n",
    "print('Case a) x is equal to {:0.20f} '.format(x))\n",
    "x=1e-5 + (1 - 1)\n",
    "print('Case b) x is equal to {:0.20f} '.format(x))\n",
    "print('_____________________________')\n",
    "x=(1e-14 + 1) - 1\n",
    "print('Case a) x is equal to {:0.20f} '.format(x))\n",
    "x=1e-14 + (1 - 1)\n",
    "print('Case b) x is equal to {:0.20f} '.format(x))\n"
   ]
  },
  {
   "cell_type": "code",
   "execution_count": 31,
   "metadata": {
    "collapsed": false
   },
   "outputs": [
    {
     "name": "stdout",
     "output_type": "stream",
     "text": [
      "x is equal to 0.09999999997671693563 \n"
     ]
    }
   ],
   "source": [
    "#Let's subtract two big numbers\n",
    "x=1000000.2-1000000.1\n",
    "print('x is equal to {:0.20f} '.format(x))"
   ]
  },
  {
   "cell_type": "code",
   "execution_count": 32,
   "metadata": {
    "collapsed": false
   },
   "outputs": [
    {
     "data": {
      "text/plain": [
       "1e+308"
      ]
     },
     "execution_count": 32,
     "metadata": {},
     "output_type": "execute_result"
    }
   ],
   "source": [
    "#This is still a number\n",
    "1e308"
   ]
  },
  {
   "cell_type": "code",
   "execution_count": 33,
   "metadata": {
    "collapsed": false
   },
   "outputs": [
    {
     "data": {
      "text/plain": [
       "inf"
      ]
     },
     "execution_count": 33,
     "metadata": {},
     "output_type": "execute_result"
    }
   ],
   "source": [
    "#This causes overflow\n",
    "1e309"
   ]
  },
  {
   "cell_type": "code",
   "execution_count": 34,
   "metadata": {
    "collapsed": false
   },
   "outputs": [
    {
     "data": {
      "text/plain": [
       "nan"
      ]
     },
     "execution_count": 34,
     "metadata": {},
     "output_type": "execute_result"
    }
   ],
   "source": [
    "#This is computational garbage\n",
    "1e309/1e309"
   ]
  },
  {
   "cell_type": "code",
   "execution_count": 35,
   "metadata": {
    "collapsed": false
   },
   "outputs": [
    {
     "data": {
      "text/plain": [
       "1.7976931348623157e+308"
      ]
     },
     "execution_count": 35,
     "metadata": {},
     "output_type": "execute_result"
    }
   ],
   "source": [
    "#Get the largest number\n",
    "#https://stackoverflow.com/questions/1835787/what-is-the-range-of-values-a-float-can-have-in-python\n",
    "sys.float_info.max"
   ]
  },
  {
   "cell_type": "code",
   "execution_count": 36,
   "metadata": {
    "collapsed": false
   },
   "outputs": [
    {
     "data": {
      "text/plain": [
       "2.2250738585072014e-308"
      ]
     },
     "execution_count": 36,
     "metadata": {},
     "output_type": "execute_result"
    }
   ],
   "source": [
    "#Get the smallest positive -normalized- number\n",
    "sys.float_info.min"
   ]
  },
  {
   "cell_type": "code",
   "execution_count": 37,
   "metadata": {
    "collapsed": false
   },
   "outputs": [
    {
     "data": {
      "text/plain": [
       "5e-324"
      ]
     },
     "execution_count": 37,
     "metadata": {},
     "output_type": "execute_result"
    }
   ],
   "source": [
    "#Get denormalized minimum\n",
    "sys.float_info.min*sys.float_info.epsilon"
   ]
  },
  {
   "cell_type": "code",
   "execution_count": 38,
   "metadata": {
    "collapsed": false
   },
   "outputs": [
    {
     "data": {
      "text/plain": [
       "2.220446049250313e-16"
      ]
     },
     "execution_count": 38,
     "metadata": {},
     "output_type": "execute_result"
    }
   ],
   "source": [
    "#Get the machine precision\n",
    "sys.float_info.epsilon"
   ]
  }
 ],
 "metadata": {
  "kernelspec": {
   "display_name": "Python 3",
   "language": "python",
   "name": "python3"
  },
  "language_info": {
   "codemirror_mode": {
    "name": "ipython",
    "version": 3
   },
   "file_extension": ".py",
   "mimetype": "text/x-python",
   "name": "python",
   "nbconvert_exporter": "python",
   "pygments_lexer": "ipython3",
   "version": "3.5.2"
  }
 },
 "nbformat": 4,
 "nbformat_minor": 2
}
