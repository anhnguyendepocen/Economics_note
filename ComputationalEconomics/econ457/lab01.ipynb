{
 "cells": [
  {
   "cell_type": "markdown",
   "metadata": {
    "slideshow": {
     "slide_type": "slide"
    }
   },
   "source": [
    "# ECON457 LAB01 2018 SPRING\n",
    "\n",
    "https://goo.gl/kUeQgW"
   ]
  },
  {
   "cell_type": "markdown",
   "metadata": {
    "ExecuteTime": {
     "end_time": "2018-01-06T06:14:03.639347Z",
     "start_time": "2018-01-06T06:14:03.636340Z"
    },
    "slideshow": {
     "slide_type": "slide"
    }
   },
   "source": [
    "- Have you already learned programming?\n",
    "- Have you learned Python？"
   ]
  },
  {
   "cell_type": "markdown",
   "metadata": {
    "slideshow": {
     "slide_type": "slide"
    }
   },
   "source": [
    "##  Jupyter notebooks for Python\n",
    "\n",
    "\n",
    "1. [Introduction to Syzygy](http://intro.syzygy.ca/)\n",
    "\n",
    "2. [About Python](https://lectures.quantecon.org/py/about_py.html)\n",
    "\n"
   ]
  },
  {
   "cell_type": "markdown",
   "metadata": {
    "slideshow": {
     "slide_type": "slide"
    }
   },
   "source": [
    "## Jupyter notebook\n",
    "\n",
    "1. [UVic Syzygy](http://uvic.syzygy.ca/)\n",
    "\n",
    "2. https://cybera.syzygy.ca Cybera (via Google Authentication)\n",
    "\n",
    "3. https://pims.syzygy.ca PIMS (via Google Authentication)\n",
    "\n",
    "4. [Jupyter Notebook cheat](https://www.datacamp.com/community/blog/jupyter-notebook-cheat-sheet)"
   ]
  },
  {
   "cell_type": "markdown",
   "metadata": {
    "slideshow": {
     "slide_type": "slide"
    }
   },
   "source": [
    "## Python Essentials\n",
    "\n",
    "1. Data type\n",
    "\n",
    "2. Import librarys\n",
    "\n",
    "3. Iterations\n",
    "\n",
    "4. Functions\n",
    "\n",
    "5. [Introduction to Python programming](http://nbviewer.jupyter.org/github/jrjohansson/scientific-python-lectures/blob/master/Lecture-1-Introduction-to-Python-Programming.ipynb)\n",
    "\n",
    "\n"
   ]
  },
  {
   "cell_type": "markdown",
   "metadata": {
    "slideshow": {
     "slide_type": "slide"
    }
   },
   "source": [
    "## Scientific Computing in Python\n",
    "\n",
    "1. [Numpy](http://nbviewer.jupyter.org/github/jrjohansson/scientific-python-lectures/blob/master/Lecture-2-Numpy.ipynb)\n",
    "\n",
    "2. [Scipy](http://nbviewer.jupyter.org/github/jrjohansson/scientific-python-lectures/blob/master/Lecture-3-Scipy.ipynb)\n",
    "\n",
    "3. [matplotlib](http://nbviewer.jupyter.org/github/jrjohansson/scientific-python-lectures/blob/master/Lecture-4-Matplotlib.ipynb)\n",
    "\n",
    "4. [Sympy](http://nbviewer.jupyter.org/github/jrjohansson/scientific-python-lectures/blob/master/Lecture-5-Sympy.ipynb)\n",
    "\n",
    "5. [Scientific Python Quickstart](http://nbviewer.jupyter.org/github/QuantEcon/QuantEcon.notebooks/blob/master/sci_python_quickstart.ipynb)\n",
    "\n",
    "6. [Print format](https://pyformat.info/)"
   ]
  },
  {
   "cell_type": "markdown",
   "metadata": {
    "slideshow": {
     "slide_type": "slide"
    }
   },
   "source": [
    "## Short Introduciton to Python\n",
    "\n",
    "1. [A Crash Course in Python for Scientists](http://nbviewer.jupyter.org/gist/rpmuller/5920182#ii.-numpy-and-scipy)\n",
    "\n",
    "2. [python_by_example](https://lectures.quantecon.org/py/python_by_example.html)\n",
    "\n",
    "3. [Lectures in Quantitative Economics: Introduction to Python](https://lectures.quantecon.org/py/learning_python.html)\n"
   ]
  },
  {
   "cell_type": "markdown",
   "metadata": {
    "slideshow": {
     "slide_type": "slide"
    }
   },
   "source": [
    "## Introduction to Python\n",
    "\n",
    "\n",
    "\n",
    "\n",
    "- [Programming in Python](https://swcarpentry.github.io/python-novice-gapminder/)\n",
    "\n",
    "- [Video: Python Course](https://www.youtube.com/watch?v=pB3BFP001co)\n",
    " - 00:41:44 Data structure: tuple, list, dictionary"
   ]
  },
  {
   "cell_type": "markdown",
   "metadata": {
    "slideshow": {
     "slide_type": "slide"
    }
   },
   "source": [
    "## Scientific Computing in Python\n",
    "\n",
    "\n",
    "- [Scipy Lecture Notes](http://www.scipy-lectures.org/)\n",
    "\n",
    "\n",
    "- [Video: Scientific Python Course](https://www.youtube.com/watch?v=x-5WNfopFTc)\n",
    "\n",
    " - 00:00:00 Numpy\n",
    " - 00:55:20 Pandas\n",
    " - 02:35:00 Tools for Scientific Python"
   ]
  },
  {
   "cell_type": "markdown",
   "metadata": {
    "slideshow": {
     "slide_type": "slide"
    }
   },
   "source": [
    "## Data Science in Python\n",
    "[PythonDataScienceHandbook](https://jakevdp.github.io/PythonDataScienceHandbook/)"
   ]
  },
  {
   "cell_type": "markdown",
   "metadata": {
    "slideshow": {
     "slide_type": "slide"
    }
   },
   "source": [
    "## Python Tutorial\n",
    "\n",
    "\n",
    "1. [Python For Data Science - A Cheat Sheet For Beginners](https://www.datacamp.com/community/tutorials/python-data-science-cheat-sheet-basics)\n",
    "\n",
    "2. [Matplotlib](https://www.datacamp.com/community/tutorials/matplotlib-tutorial-python) \n",
    "\n",
    "3. [SciPy Cheat Sheet: Linear Algebra in Python](https://www.datacamp.com/community/blog/python-scipy-cheat-sheet)\n",
    "\n",
    "4. [NumPy Cheat Sheet: Data Analysis in Python](https://www.datacamp.com/community/blog/python-numpy-cheat-sheet)\n",
    "\n",
    "5. [Pandas Cheat Sheet for Data Science in Python](https://www.datacamp.com/community/blog/python-pandas-cheat-sheet)\n",
    "\n",
    "\n",
    "\n"
   ]
  }
 ],
 "metadata": {
  "celltoolbar": "Slideshow",
  "kernelspec": {
   "display_name": "Python 3",
   "language": "python",
   "name": "python3"
  },
  "language_info": {
   "codemirror_mode": {
    "name": "ipython",
    "version": 3
   },
   "file_extension": ".py",
   "mimetype": "text/x-python",
   "name": "python",
   "nbconvert_exporter": "python",
   "pygments_lexer": "ipython3",
   "version": "3.5.2"
  }
 },
 "nbformat": 4,
 "nbformat_minor": 2
}
