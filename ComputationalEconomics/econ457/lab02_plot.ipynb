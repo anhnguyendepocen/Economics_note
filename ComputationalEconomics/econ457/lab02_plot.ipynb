{
 "cells": [
  {
   "cell_type": "code",
   "execution_count": null,
   "metadata": {
    "ExecuteTime": {
     "end_time": "2018-01-18T18:34:27.065161Z",
     "start_time": "2018-01-18T18:34:27.054131Z"
    }
   },
   "outputs": [],
   "source": [
    "from IPython.core.display import HTML, Image\n",
    "css_file = '../../custom.css'\n",
    "HTML(open(css_file, 'r').read())"
   ]
  },
  {
   "cell_type": "code",
   "execution_count": null,
   "metadata": {
    "ExecuteTime": {
     "end_time": "2018-01-19T01:05:33.952924Z",
     "start_time": "2018-01-19T01:05:33.927857Z"
    },
    "collapsed": true
   },
   "outputs": [],
   "source": [
    "# import module\n",
    "import matplotlib as mpl\n",
    "import matplotlib.pyplot as plt\n",
    "%matplotlib inline\n",
    "%config InlineBackend.figure_format='retina'\n",
    "\n",
    "#Import rcParams to set font styles\n",
    "from matplotlib import rcParams\n",
    "\n",
    "#Set font style and size \n",
    "rcParams['font.family'] = 'serif'\n",
    "rcParams['font.size'] = 16\n",
    "\n",
    "\n",
    "import numpy as np"
   ]
  },
  {
   "cell_type": "markdown",
   "metadata": {},
   "source": [
    "Plotting interactively within an IPython notebook can be done with the ``%matplotlib`` command, and works in a similar way to the IPython shell.\n",
    "In the IPython notebook, you also have the option of embedding graphics directly in the notebook, with two possible options:\n",
    "\n",
    "- ``%matplotlib notebook`` will lead to *interactive* plots embedded within the notebook\n",
    "- ``%matplotlib inline`` will lead to *static* images of your plot embedded in the notebook\n",
    "\n",
    "we will generally opt for ``%matplotlib inline``:"
   ]
  },
  {
   "cell_type": "markdown",
   "metadata": {},
   "source": [
    "### Setting Styles\n",
    "\n",
    "We will use the ``plt.style`` directive to choose appropriate aesthetic styles for our figures.\n",
    "Here we will set the ``fivethirtyeight`` style,"
   ]
  },
  {
   "cell_type": "code",
   "execution_count": null,
   "metadata": {
    "ExecuteTime": {
     "end_time": "2018-01-19T01:05:38.396010Z",
     "start_time": "2018-01-19T01:05:38.393001Z"
    }
   },
   "outputs": [],
   "source": [
    "# choose a style that you like\n",
    "plt.style.available"
   ]
  },
  {
   "cell_type": "code",
   "execution_count": null,
   "metadata": {
    "ExecuteTime": {
     "end_time": "2018-01-19T01:05:38.924997Z",
     "start_time": "2018-01-19T01:05:38.921989Z"
    },
    "collapsed": true
   },
   "outputs": [],
   "source": [
    "# If you like this one\n",
    "plt.style.use('fivethirtyeight')"
   ]
  },
  {
   "cell_type": "markdown",
   "metadata": {},
   "source": [
    "After running this command (it needs to be done only once per kernel/session), any cell within the notebook that creates a plot will embed a PNG image of the resulting graphic:"
   ]
  },
  {
   "cell_type": "code",
   "execution_count": null,
   "metadata": {
    "ExecuteTime": {
     "end_time": "2018-01-19T01:05:40.021120Z",
     "start_time": "2018-01-19T01:05:40.017092Z"
    },
    "collapsed": true
   },
   "outputs": [],
   "source": [
    "import numpy as np\n",
    "x = np.linspace(0, 10, 100) # Create even grid from 0 to 10 with 100 points\n",
    "# what is linspace\n",
    "#https://github.com/engineersCode/EngComp/blob/master/modules/1_offtheground/4_NumPy_Arrays_and_Plotting.ipynb\n",
    "#  numpy.linspace(start, stop, num)\n",
    "#  numpy.arange(start, stop, step)\n",
    "# x = np.arange(0, 10, 10/100)\n",
    "\n",
    "# a short course\n",
    "#https://www.youtube.com/watch?v=DLWBfR2hxoo&list=PLVc-QdfGfSl0vQ0wUlDbqmp0m9hEoIUmF"
   ]
  },
  {
   "cell_type": "code",
   "execution_count": null,
   "metadata": {
    "ExecuteTime": {
     "end_time": "2018-01-19T01:05:57.531675Z",
     "start_time": "2018-01-19T01:05:57.304044Z"
    }
   },
   "outputs": [],
   "source": [
    "\n",
    "fig = plt.figure(figsize=(8,4)) # set size for figure\n",
    "\n",
    "# two plots\n",
    "plt.plot(x, np.sin(x), color='g', linestyle='-',  linewidth=4, alpha=0.5, label='sin(x)')\n",
    "plt.plot(x, np.cos(x), color='b', linestyle='--',  linewidth=4, alpha=0.5, label='cos(x)')\n",
    "\n",
    "#Plot the legends in the best location\n",
    "plt.legend(loc='best') \n",
    "\n",
    "# adjustments\n",
    "plt.title('My first plot')\n",
    "plt.xlabel('x')\n",
    "plt.ylabel('y')\n",
    "plt.xlim(1,10)\n",
    "plt.ylim(-1.2,1.5)\n",
    "plt.xticks([1,2,3,4,5,6,7,8,9,10])\n",
    "plt.yticks(np.arange(-1.2,1.2,0.3));"
   ]
  },
  {
   "cell_type": "code",
   "execution_count": null,
   "metadata": {
    "collapsed": true
   },
   "outputs": [],
   "source": []
  },
  {
   "cell_type": "code",
   "execution_count": null,
   "metadata": {
    "ExecuteTime": {
     "end_time": "2018-01-19T01:06:19.126672Z",
     "start_time": "2018-01-19T01:06:19.123664Z"
    },
    "collapsed": true
   },
   "outputs": [],
   "source": [
    "# Install a pip package in the current Jupyter kernel\n",
    "#import sys\n",
    "#!{sys.executable} -m pip install --user pandas_datareader"
   ]
  },
  {
   "cell_type": "code",
   "execution_count": null,
   "metadata": {
    "ExecuteTime": {
     "end_time": "2018-01-19T01:06:22.891946Z",
     "start_time": "2018-01-19T01:06:22.887936Z"
    },
    "collapsed": true
   },
   "outputs": [],
   "source": [
    "import pandas as pd\n",
    "import pandas_datareader as pdr\n",
    "import datetime\n"
   ]
  },
  {
   "cell_type": "code",
   "execution_count": null,
   "metadata": {
    "ExecuteTime": {
     "end_time": "2018-01-19T01:06:24.312317Z",
     "start_time": "2018-01-19T01:06:24.308305Z"
    },
    "collapsed": true
   },
   "outputs": [],
   "source": [
    "#setup up some date objects\n",
    "start = datetime.datetime(2005, 1, 1)\n",
    "end = datetime.datetime(2017, 7, 1)"
   ]
  },
  {
   "cell_type": "markdown",
   "metadata": {},
   "source": [
    "## Series Values for \"Fred\"\n",
    "\n",
    "| code | description |\n",
    "|------|-------------|\n",
    "|NAEXKP01CAQ189S |https://fred.stlouisfed.org/series/NAEXKP01CAQ189S|"
   ]
  },
  {
   "cell_type": "markdown",
   "metadata": {},
   "source": [
    "## GDP (NAEXKP01CAQ189S)\n",
    "\n",
    "| Data Type         | Description                           |\n",
    "|-------------------|--------------------------------------|\n",
    "|Title:              |Gross Domestic Product by Expenditure in Constant Prices: Total Gross Domestic Product for Canada |\n",
    "|Series ID:          |NAEXKP01CAQ189S                                |\n",
    "|Source:             |Organization for Economic Co-operation and Development         |\n",
    "|Release:            |Main Economic Indicators                  |\n",
    "|Seasonal Adjustment:|Seasonally Adjusted Annual Rate       |\n",
    "|Frequency:          |Quarterly                             |\n",
    "\n"
   ]
  },
  {
   "cell_type": "code",
   "execution_count": null,
   "metadata": {
    "ExecuteTime": {
     "end_time": "2018-01-19T01:06:35.995089Z",
     "start_time": "2018-01-19T01:06:35.269684Z"
    },
    "collapsed": true
   },
   "outputs": [],
   "source": [
    "#Use Pandas Web Reader to Fetch data from Fred#\n",
    "gdp = pdr.data.DataReader(\"NAEXKP01CAQ189S\", \"fred\", start, end)"
   ]
  },
  {
   "cell_type": "code",
   "execution_count": null,
   "metadata": {
    "ExecuteTime": {
     "end_time": "2018-01-19T01:06:36.005045Z",
     "start_time": "2018-01-19T01:06:35.996022Z"
    }
   },
   "outputs": [],
   "source": [
    "#Preview the Data#\n",
    "gdp.tail()"
   ]
  },
  {
   "cell_type": "code",
   "execution_count": null,
   "metadata": {
    "ExecuteTime": {
     "end_time": "2018-01-19T01:06:36.761193Z",
     "start_time": "2018-01-19T01:06:36.758186Z"
    },
    "collapsed": true
   },
   "outputs": [],
   "source": [
    "x=gdp.index\n",
    "y=gdp"
   ]
  },
  {
   "cell_type": "markdown",
   "metadata": {},
   "source": [
    "## Method 1"
   ]
  },
  {
   "cell_type": "code",
   "execution_count": null,
   "metadata": {
    "ExecuteTime": {
     "end_time": "2018-01-19T01:06:45.394809Z",
     "start_time": "2018-01-19T01:06:45.275476Z"
    }
   },
   "outputs": [],
   "source": [
    "fig = plt.figure() # generate a canvas \n",
    "plt.plot(x,y, color = 'b', linestyle = '-', linewidth=2) ;"
   ]
  },
  {
   "cell_type": "markdown",
   "metadata": {},
   "source": [
    "### Saving Figures to File\n",
    "\n",
    "One nice feature of Matplotlib is the ability to save figures in a wide variety of formats.\n",
    "Saving a figure can be done using the ``savefig()`` command.\n",
    "For example, to save the previous figure as a PNG file, you can run this:"
   ]
  },
  {
   "cell_type": "code",
   "execution_count": null,
   "metadata": {
    "ExecuteTime": {
     "end_time": "2018-01-19T01:06:46.682167Z",
     "start_time": "2018-01-19T01:06:46.655096Z"
    },
    "collapsed": true
   },
   "outputs": [],
   "source": [
    "fig.savefig('ca_gdp.png')"
   ]
  },
  {
   "cell_type": "code",
   "execution_count": null,
   "metadata": {
    "ExecuteTime": {
     "end_time": "2018-01-19T01:06:47.514660Z",
     "start_time": "2018-01-19T01:06:47.511668Z"
    }
   },
   "outputs": [],
   "source": [
    "fig.canvas.get_supported_filetypes()"
   ]
  },
  {
   "cell_type": "markdown",
   "metadata": {},
   "source": [
    "## Adjusting the Plot: Axes Limits\n",
    "\n",
    "Matplotlib does a decent job of choosing default axes limits for your plot, but sometimes it's nice to have finer control.\n",
    "The most basic way to adjust axis limits is to use the ``plt.xlim()`` and ``plt.ylim()`` methods:"
   ]
  },
  {
   "cell_type": "code",
   "execution_count": null,
   "metadata": {
    "ExecuteTime": {
     "end_time": "2018-01-19T01:06:49.467070Z",
     "start_time": "2018-01-19T01:06:49.464062Z"
    }
   },
   "outputs": [],
   "source": [
    "x"
   ]
  },
  {
   "cell_type": "code",
   "execution_count": null,
   "metadata": {
    "ExecuteTime": {
     "end_time": "2018-01-19T01:06:49.945777Z",
     "start_time": "2018-01-19T01:06:49.943771Z"
    },
    "collapsed": true
   },
   "outputs": [],
   "source": [
    "start = datetime.datetime(2005, 1, 1)\n",
    "end = datetime.datetime(2017, 7, 1)"
   ]
  },
  {
   "cell_type": "code",
   "execution_count": null,
   "metadata": {
    "ExecuteTime": {
     "end_time": "2018-01-19T01:06:50.798239Z",
     "start_time": "2018-01-19T01:06:50.792206Z"
    }
   },
   "outputs": [],
   "source": [
    "y.tail()"
   ]
  },
  {
   "cell_type": "code",
   "execution_count": null,
   "metadata": {
    "ExecuteTime": {
     "end_time": "2018-01-19T01:06:52.797838Z",
     "start_time": "2018-01-19T01:06:52.600329Z"
    }
   },
   "outputs": [],
   "source": [
    "fig = plt.figure(figsize=(12,6)) # generate a canvas, set the size \n",
    "plt.plot(x,y, color = 'r', linestyle = '--', linewidth=4) \n",
    "plt.xlim(start, end)\n",
    "plt.ylim(3.5e11, 5e11);"
   ]
  },
  {
   "cell_type": "markdown",
   "metadata": {},
   "source": [
    "## Adjusting the Plot: Line Colors and Styles\n",
    "The first adjustment you might wish to make to a plot is to control the line colors and styles.\n",
    "The ``plt.plot()`` function takes additional arguments that can be used to specify these.\n",
    "To adjust the color, you can use the ``color`` keyword, which accepts a string argument representing virtually any imaginable color.\n",
    "The color can be specified in a variety of ways:\n",
    "\n",
    "```ipython\n",
    "\n",
    "plt.plot(x, y, color='blue')        # specify color by name\n",
    "plt.plot(x, y, color='g')           # short color code (rgbcmyk)\n",
    "plt.plot(x, y, color='0.75')        # Grayscale between 0 and 1\n",
    "plt.plot(x, y, color='#FFDD44')     # Hex code (RRGGBB from 00 to FF)\n",
    "\n",
    "plt.plot(x, y, linestyle='solid')\n",
    "plt.plot(x, y, linestyle='dashed')\n",
    "plt.plot(x, y, linestyle='dashdot')\n",
    "plt.plot(x, y, linestyle='dotted');\n",
    "# For short, you can use the following codes:\n",
    "plt.plot(x, y, linestyle='-')  # solid\n",
    "plt.plot(x, y, linestyle='--') # dashed\n",
    "plt.plot(x, y, linestyle='-.') # dashdot\n",
    "plt.plot(x, y, linestyle=':');  # dotted\n",
    "```"
   ]
  },
  {
   "cell_type": "markdown",
   "metadata": {},
   "source": [
    "## Labeling Plots, Axes Limits\n",
    "\n",
    "As the last piece of this section, we'll briefly look at the labeling of plots: titles, axis labels, and simple legends.\n",
    "\n",
    "Titles and axis labels are the simplest such labels—there are methods that can be used to quickly set them: `label = \"CA GDP\"`\n",
    "\n",
    "Matplotlib does a decent job of choosing default axes limits for your plot, but sometimes it's nice to have finer control.\n",
    "The most basic way to adjust axis limits is to use the ``plt.xlim()`` and ``plt.ylim()`` methods:"
   ]
  },
  {
   "cell_type": "code",
   "execution_count": null,
   "metadata": {
    "ExecuteTime": {
     "end_time": "2018-01-19T01:07:15.836999Z",
     "start_time": "2018-01-19T01:07:14.859763Z"
    },
    "collapsed": true
   },
   "outputs": [],
   "source": [
    "\n",
    "#Use Pandas Web Reader to Fetch data from Fred#\n",
    "gdp_index = pdr.data.DataReader(\"NAEXKP01CAQ661S\", \"fred\", start, end)\n",
    "# https://fred.stlouisfed.org/series/NAEXKP01CAQ661S\n",
    "\n",
    "#Use Pandas Web Reader to Fetch data from Fred#\n",
    "cpi = pdr.data.DataReader(\"CPALCY01CAQ661N\", \"fred\", start, end)\n",
    "#https://fred.stlouisfed.org/series/CPALCY01CAQ661N"
   ]
  },
  {
   "cell_type": "code",
   "execution_count": null,
   "metadata": {
    "ExecuteTime": {
     "end_time": "2018-01-19T01:07:16.659538Z",
     "start_time": "2018-01-19T01:07:16.652521Z"
    }
   },
   "outputs": [],
   "source": [
    "gdp_index.tail()"
   ]
  },
  {
   "cell_type": "code",
   "execution_count": null,
   "metadata": {
    "ExecuteTime": {
     "end_time": "2018-01-19T01:07:17.709460Z",
     "start_time": "2018-01-19T01:07:17.475838Z"
    }
   },
   "outputs": [],
   "source": [
    "fig = plt.figure(figsize=(12,6)) # generate a canvas, set the size \n",
    "plt.plot(gdp_index.index,gdp_index, color = 'r', linestyle = '--', linewidth=4, \n",
    "         marker='o',markersize=10,label = \"CA GDP\") \n",
    "plt.plot(cpi.index,cpi, color = 'b', linestyle = ':', linewidth=4,\n",
    "         marker='*',markersize=15,label = \"CPI\") \n",
    "\n",
    "plt.xlim(start, end)\n",
    "plt.ylim(0.9, 1.2);\n",
    "plt.yticks([0.9,1.0,1.1,1.2])\n",
    "\n",
    "plt.title(\"Total Gross Domestic Product and CPI for Canada\")\n",
    "plt.xlabel(\"Time\")\n",
    "plt.ylabel(\"GDP and CPI\");\n",
    "\n",
    "plt.legend(loc = 0);"
   ]
  },
  {
   "cell_type": "markdown",
   "metadata": {},
   "source": [
    "#### Legend location\n",
    "\n",
    "Plot legends give meaning to a visualization, assigning meaning to the various plot elements.\n",
    "We previously saw how to create a simple legend; here we'll take a look at customizing the placement and aesthetics of the legend in Matplotlib.\n",
    "\n",
    "The simplest legend can be created with the ``plt.legend()`` command, which automatically creates a legend for any labeled plot elements:\n",
    "\n",
    "```ipython\n",
    "legend(loc=0) # let matplotlib decide the optimal location\n",
    "legend(loc=1) # upper right corner\n",
    "legend(loc=2) # upper left corner\n",
    "legend(loc=3) # lower left corner\n",
    "legend(loc=4) # lower right corner\n",
    "```"
   ]
  },
  {
   "cell_type": "markdown",
   "metadata": {},
   "source": [
    "### Marker \n",
    "\n",
    "The third argument in the function call is a character that represents the type of symbol used for the plotting. Just as you can specify options such as ``'-'``, ``'--'`` to control the line style, the marker style has its own set of short string codes. The full list of available symbols can be seen in the documentation of ``plt.plot``, or in Matplotlib's online documentation. Most of the possibilities are fairly intuitive, and we'll show a number of the more common ones here:"
   ]
  },
  {
   "cell_type": "code",
   "execution_count": null,
   "metadata": {
    "ExecuteTime": {
     "end_time": "2018-01-19T01:07:19.426784Z",
     "start_time": "2018-01-19T01:07:19.228257Z"
    }
   },
   "outputs": [],
   "source": [
    "rng = np.random.RandomState(0)\n",
    "for marker in ['o', '.', ',', 'x', '+', 'v', '^', '<', '>', 's', 'd']:\n",
    "    plt.plot(rng.rand(5), rng.rand(5), marker,\n",
    "             label=\"marker='{0}'\".format(marker))\n",
    "plt.legend(numpoints=1) #The number of marker points in the legend when creating a legend entry for a line\n",
    "plt.xlim(0, 1.8);"
   ]
  },
  {
   "cell_type": "markdown",
   "metadata": {},
   "source": [
    "## Method 2"
   ]
  },
  {
   "cell_type": "markdown",
   "metadata": {},
   "source": [
    "### Object-oriented interface\n",
    "\n",
    "The object-oriented interface is available for these more complicated situations, and for when you want more control over your figure.\n",
    "Rather than depending on some notion of an \"active\" figure or axes, in the object-oriented interface the plotting functions are *methods* of explicit ``Figure`` and ``Axes`` objects.\n",
    "To re-create the previous plot using this style of plotting, you might do the following:"
   ]
  },
  {
   "cell_type": "code",
   "execution_count": null,
   "metadata": {
    "ExecuteTime": {
     "end_time": "2018-01-19T01:07:22.068252Z",
     "start_time": "2018-01-19T01:07:21.876766Z"
    }
   },
   "outputs": [],
   "source": [
    "# First create a grid of plots\n",
    "fig, ax = plt.subplots(figsize = (12,6)) # you can set the size for fig\n",
    "\n",
    "# Call plot() method on the appropriate object\n",
    "ax.plot(x,y, color = \"r\", linestyle='dashdot', linewidth=6) "
   ]
  },
  {
   "cell_type": "markdown",
   "metadata": {},
   "source": [
    "In Matplotlib, the *figure* (an instance of the class ``plt.Figure``) can be thought of as a single container that contains all the objects representing axes, graphics, text, and labels.\n",
    "The *axes* (an instance of the class ``plt.Axes``) is what we see above: a bounding box with ticks and labels, which will eventually contain the plot elements that make up our visualization.\n",
    "Commonly use the variable name ``fig`` to refer to a figure instance, and ``ax`` to refer to an axes instance or group of axes instances."
   ]
  },
  {
   "cell_type": "code",
   "execution_count": null,
   "metadata": {
    "ExecuteTime": {
     "end_time": "2018-01-19T00:00:42.049161Z",
     "start_time": "2018-01-19T00:00:41.932852Z"
    }
   },
   "outputs": [],
   "source": [
    "fig, (ax1, ax2)  = plt.subplots(1,2) # you can set the for fig"
   ]
  },
  {
   "cell_type": "markdown",
   "metadata": {},
   "source": [
    "While most ``plt`` functions translate directly to ``ax`` methods (such as ``plt.plot()`` → ``ax.plot()``, ``plt.legend()`` → ``ax.legend()``, etc.), this is not the case for all commands.\n",
    "In particular, functions to set limits, labels, and titles are slightly modified.\n",
    "For transitioning between MATLAB-style functions and object-oriented methods, make the following changes:\n",
    "\n",
    "- ``plt.xlabel()``  → ``ax.set_xlabel()``\n",
    "- ``plt.ylabel()`` → ``ax.set_ylabel()``\n",
    "- ``plt.xlim()``  → ``ax.set_xlim()``\n",
    "- ``plt.ylim()`` → ``ax.set_ylim()``\n",
    "- ``plt.title()`` → ``ax.set_title()``\n",
    "- ``plt.xticks()`` →   `` ax.set_xticks([-4, 0, 4])``\n",
    "- ``plt.yticks()`` →   ``ax.set_yticks([])``"
   ]
  },
  {
   "cell_type": "markdown",
   "metadata": {},
   "source": [
    "### Placement of ticks and custom tick labels\n",
    "\n",
    "We can explicitly determine where we want the axis ticks with `set_xticks` and `set_yticks`, which both take a list of values for where on the axis the ticks are to be placed. We can also use the `set_xticklabels` and `set_yticklabels` methods to provide a list of custom text labels for each tick location:"
   ]
  },
  {
   "cell_type": "code",
   "execution_count": null,
   "metadata": {
    "ExecuteTime": {
     "end_time": "2018-01-18T18:35:49.840101Z",
     "start_time": "2018-01-18T18:35:49.837093Z"
    },
    "collapsed": true
   },
   "outputs": [],
   "source": [
    "x = np.linspace(0, 5, 10)\n",
    "y = x ** 2"
   ]
  },
  {
   "cell_type": "code",
   "execution_count": null,
   "metadata": {
    "ExecuteTime": {
     "end_time": "2018-01-18T18:35:50.547330Z",
     "start_time": "2018-01-18T18:35:50.469122Z"
    }
   },
   "outputs": [],
   "source": [
    "fig, ax = plt.subplots(figsize=(10, 4))\n",
    "\n",
    "ax.plot(x, x**2, x, x**3, lw=2)\n",
    "\n",
    "\n",
    "xticks = [1, 2, 3, 4, 5]\n",
    "ax.set_xticks(xticks)\n",
    "\n",
    "yticks = [0, 50, 100, 150]\n",
    "ax.set_yticks(yticks);\n"
   ]
  },
  {
   "cell_type": "markdown",
   "metadata": {},
   "source": [
    "# Density and Contour Plots\n",
    "\n",
    "Sometimes it is useful to display three-dimensional data in two dimensions using contours or color-coded regions.\n",
    "There are three Matplotlib functions that can be helpful for this task: ``plt.contour`` for contour plots, ``plt.contourf`` for filled contour plots, and ``plt.imshow`` for showing images.\n",
    "\n",
    "We'll start by demonstrating a contour plot using a Cofunction $ f(x,y) = x^{0.25} y^{0.25},x,y \\geq 0 $. You might recognize this as the canonical “Cobb Douglas” functional form"
   ]
  },
  {
   "cell_type": "code",
   "execution_count": null,
   "metadata": {
    "ExecuteTime": {
     "end_time": "2018-01-18T18:35:52.220377Z",
     "start_time": "2018-01-18T18:35:52.217368Z"
    },
    "collapsed": true
   },
   "outputs": [],
   "source": [
    "def f(x, y):\n",
    "    return x ** 0.25 +  y **0.25"
   ]
  },
  {
   "cell_type": "code",
   "execution_count": null,
   "metadata": {
    "ExecuteTime": {
     "end_time": "2018-01-18T18:35:52.621904Z",
     "start_time": "2018-01-18T18:35:52.617895Z"
    },
    "collapsed": true
   },
   "outputs": [],
   "source": [
    "x = np.linspace(0, 5, 50)\n",
    "y = np.linspace(0, 5, 50)\n",
    "\n",
    "X, Y = np.meshgrid(x, y)\n",
    "Z = f(X, Y)"
   ]
  },
  {
   "cell_type": "markdown",
   "metadata": {},
   "source": [
    "Now let's look at this with a standard line-only contour plot:"
   ]
  },
  {
   "cell_type": "code",
   "execution_count": null,
   "metadata": {
    "ExecuteTime": {
     "end_time": "2018-01-18T18:35:54.552219Z",
     "start_time": "2018-01-18T18:35:54.474011Z"
    }
   },
   "outputs": [],
   "source": [
    "plt.contour(X, Y, Z, colors='black');"
   ]
  },
  {
   "cell_type": "markdown",
   "metadata": {},
   "source": [
    "Here we chose the ``RdGy`` (short for *Red-Gray*) colormap, which is a good choice for centered data.\n",
    "Matplotlib has a wide range of colormaps available, which you can easily browse in IPython by doing a tab completion on the ``plt.cm`` module:\n",
    "```\n",
    "plt.cm.<TAB>\n",
    "```\n",
    "\n",
    "Our plot is looking nicer, but the spaces between the lines may be a bit distracting.\n",
    "We can change this by switching to a filled contour plot using the ``plt.contourf()`` function (notice the ``f`` at the end), which uses largely the same syntax as ``plt.contour()``.\n",
    "\n",
    "Additionally, we'll add a ``plt.colorbar()`` command, which automatically creates an additional axis with labeled color information for the plot:"
   ]
  },
  {
   "cell_type": "code",
   "execution_count": null,
   "metadata": {
    "ExecuteTime": {
     "end_time": "2018-01-18T18:35:57.230315Z",
     "start_time": "2018-01-18T18:35:57.106987Z"
    }
   },
   "outputs": [],
   "source": [
    "plt.contourf(X, Y, Z, 20, cmap='RdGy')\n",
    "plt.colorbar();"
   ]
  },
  {
   "cell_type": "markdown",
   "metadata": {},
   "source": [
    "The colorbar makes it clear that the black regions are \"peaks,\" while the red regions are \"valleys.\"\n",
    "\n",
    "Finally, it can sometimes be useful to combine contour plots and image plots.\n",
    "For example, here we'll use a partially transparent background image (with transparency set via the ``alpha`` parameter) and overplot contours with labels on the contours themselves (using the ``plt.clabel()`` function):"
   ]
  },
  {
   "cell_type": "code",
   "execution_count": null,
   "metadata": {
    "ExecuteTime": {
     "end_time": "2018-01-18T18:35:59.148959Z",
     "start_time": "2018-01-18T18:35:59.034640Z"
    }
   },
   "outputs": [],
   "source": [
    "contours = plt.contour(X, Y, Z, 12)\n",
    "plt.clabel(contours, inline=True, fontsize=8)"
   ]
  },
  {
   "cell_type": "markdown",
   "metadata": {},
   "source": [
    "## Surface Plot\n",
    "\n",
    "we'll create some 3D axes objects and call 3D plotting routines. \n",
    "\n",
    "\n",
    "The 3D scatter plot takes all the same keyword parameters as the 2D scatter plot, so its use should be familiar. To create a 3D axes, we need to pass the argument projection='3d'.\n"
   ]
  },
  {
   "cell_type": "code",
   "execution_count": null,
   "metadata": {
    "ExecuteTime": {
     "end_time": "2018-01-18T18:38:27.847074Z",
     "start_time": "2018-01-18T18:38:27.405919Z"
    }
   },
   "outputs": [],
   "source": [
    "\n",
    "# This is the 3D plotting toolkit\n",
    "from mpl_toolkits.mplot3d import Axes3D\n",
    "fig = plt.figure()\n",
    "#ax = Axes3D(fig)\n",
    "ax = plt.axes(projection='3d')\n",
    "\n",
    "ax.plot_surface(X, Y, Z, rstride=1, cstride=1,  cmap='RdGy')\n",
    "ax.contourf(X, Y, Z, zdir='z', offset=1, cmap='RdGy')\n",
    "ax.set_zlim(1,3)\n"
   ]
  },
  {
   "cell_type": "markdown",
   "metadata": {},
   "source": [
    "\n",
    "Surface plots are connected plots of x, y, and z coordinates. \n",
    "\n",
    "The `rstride` and `cstride` kwargs set the stride used to sample the input data to generate the graph. If 1k by 1k arrays are passed in, the default values for the strides will result in a 100x100 grid being plotted. Defaults to 10. \n",
    "\n"
   ]
  },
  {
   "cell_type": "code",
   "execution_count": null,
   "metadata": {
    "ExecuteTime": {
     "end_time": "2018-01-18T18:38:15.968245Z",
     "start_time": "2018-01-18T18:38:15.877006Z"
    },
    "collapsed": true
   },
   "outputs": [],
   "source": [
    "\n"
   ]
  },
  {
   "cell_type": "markdown",
   "metadata": {},
   "source": [
    "## Data Source: yahoo, world bank etc."
   ]
  },
  {
   "cell_type": "code",
   "execution_count": null,
   "metadata": {
    "ExecuteTime": {
     "end_time": "2018-01-18T18:38:42.206566Z",
     "start_time": "2018-01-18T18:38:40.976537Z"
    },
    "collapsed": true
   },
   "outputs": [],
   "source": [
    "# stock market price from Yahoo finance\n",
    "apple = pdr.data.DataReader('AAPL', 'yahoo', start, end)"
   ]
  },
  {
   "cell_type": "code",
   "execution_count": null,
   "metadata": {
    "ExecuteTime": {
     "end_time": "2018-01-18T18:38:42.210583Z",
     "start_time": "2018-01-18T18:38:42.207553Z"
    },
    "collapsed": true
   },
   "outputs": [],
   "source": [
    "ax = apple.index\n",
    "ay = apple[\"Adj Close\"]"
   ]
  },
  {
   "cell_type": "code",
   "execution_count": null,
   "metadata": {
    "ExecuteTime": {
     "end_time": "2018-01-18T18:46:48.196775Z",
     "start_time": "2018-01-18T18:46:48.101521Z"
    }
   },
   "outputs": [],
   "source": [
    "# \n",
    "plt.plot(ax,ay)\n",
    "# add label"
   ]
  },
  {
   "cell_type": "code",
   "execution_count": null,
   "metadata": {
    "ExecuteTime": {
     "end_time": "2018-01-18T18:40:47.231089Z",
     "start_time": "2018-01-18T18:40:39.502988Z"
    }
   },
   "outputs": [],
   "source": [
    "# search the Gross Domestic Products per capita in constant dollars \n",
    "# in worldbank database\n",
    "from pandas_datareader import wb\n",
    "wb.search('gdp.*capita.*const').iloc[:,:2]"
   ]
  },
  {
   "cell_type": "code",
   "execution_count": null,
   "metadata": {
    "ExecuteTime": {
     "end_time": "2018-01-18T18:53:51.226555Z",
     "start_time": "2018-01-18T18:53:51.027496Z"
    },
    "collapsed": true
   },
   "outputs": [],
   "source": [
    "wb_data = wb.download(indicator='NY.GDP.PCAP.KD', country=['US','CA'], start=start, end=end)\n"
   ]
  },
  {
   "cell_type": "code",
   "execution_count": null,
   "metadata": {
    "ExecuteTime": {
     "end_time": "2018-01-18T18:57:59.507235Z",
     "start_time": "2018-01-18T18:57:59.499213Z"
    }
   },
   "outputs": [],
   "source": [
    "wb_data.head(30)"
   ]
  },
  {
   "cell_type": "code",
   "execution_count": null,
   "metadata": {
    "ExecuteTime": {
     "end_time": "2018-01-18T18:56:35.498985Z",
     "start_time": "2018-01-18T18:56:35.495976Z"
    }
   },
   "outputs": [],
   "source": [
    "wb_data.index\n",
    "#http://pandas.pydata.org/pandas-docs/version/0.20/advanced.html"
   ]
  },
  {
   "cell_type": "code",
   "execution_count": null,
   "metadata": {
    "ExecuteTime": {
     "end_time": "2018-01-18T19:03:48.852782Z",
     "start_time": "2018-01-18T19:03:48.850776Z"
    },
    "collapsed": true
   },
   "outputs": [],
   "source": [
    "wb_data.columns = [\"GDP\"]"
   ]
  },
  {
   "cell_type": "code",
   "execution_count": null,
   "metadata": {
    "ExecuteTime": {
     "end_time": "2018-01-18T19:08:47.034838Z",
     "start_time": "2018-01-18T19:08:47.031845Z"
    },
    "collapsed": true
   },
   "outputs": [],
   "source": [
    "canada_GDP = wb_data.xs(\"Canada\", level = \"country\")\n",
    "# http://pandas.pydata.org/pandas-docs/version/0.20/advanced.html#advanced-xs\n",
    "# Cross-section\n",
    "# The xs method of DataFrame additionally takes a level argument to make selecting data at a particular level of a MultiIndex easier.\n",
    "# https://lectures.quantecon.org/py/pandas_panel.html"
   ]
  },
  {
   "cell_type": "code",
   "execution_count": null,
   "metadata": {
    "ExecuteTime": {
     "end_time": "2018-01-18T19:09:41.934130Z",
     "start_time": "2018-01-18T19:09:41.928101Z"
    }
   },
   "outputs": [],
   "source": [
    "canada_GDP"
   ]
  },
  {
   "cell_type": "code",
   "execution_count": null,
   "metadata": {
    "ExecuteTime": {
     "end_time": "2018-01-18T19:09:22.031204Z",
     "start_time": "2018-01-18T19:09:21.940964Z"
    }
   },
   "outputs": [],
   "source": [
    "plt.plot(canada_GDP.index, canada_GDP)\n",
    "# add label"
   ]
  },
  {
   "cell_type": "code",
   "execution_count": null,
   "metadata": {
    "ExecuteTime": {
     "end_time": "2018-01-18T19:16:05.849705Z",
     "start_time": "2018-01-18T19:16:05.836658Z"
    }
   },
   "outputs": [],
   "source": [
    "flat_gdp = wb_data.reset_index()\n",
    "flat_gdp"
   ]
  },
  {
   "cell_type": "code",
   "execution_count": null,
   "metadata": {
    "ExecuteTime": {
     "end_time": "2018-01-18T19:18:27.888635Z",
     "start_time": "2018-01-18T19:18:27.879612Z"
    }
   },
   "outputs": [],
   "source": [
    "flat_gdp.set_index(['country', 'year'])"
   ]
  },
  {
   "cell_type": "code",
   "execution_count": null,
   "metadata": {
    "ExecuteTime": {
     "end_time": "2018-01-18T19:11:57.195015Z",
     "start_time": "2018-01-18T19:11:57.180979Z"
    }
   },
   "outputs": [],
   "source": [
    "unstack_gdp = wb_data.unstack()\n",
    "unstack_gdp"
   ]
  },
  {
   "cell_type": "code",
   "execution_count": null,
   "metadata": {
    "ExecuteTime": {
     "end_time": "2018-01-18T19:11:57.939748Z",
     "start_time": "2018-01-18T19:11:57.929714Z"
    }
   },
   "outputs": [],
   "source": [
    "stack_gdp = flat_gdp.stack()\n",
    "stack_gdp"
   ]
  },
  {
   "cell_type": "code",
   "execution_count": null,
   "metadata": {
    "ExecuteTime": {
     "end_time": "2018-01-18T19:13:51.932323Z",
     "start_time": "2018-01-18T19:13:51.904248Z"
    },
    "collapsed": true
   },
   "outputs": [],
   "source": []
  },
  {
   "cell_type": "code",
   "execution_count": null,
   "metadata": {
    "collapsed": true
   },
   "outputs": [],
   "source": []
  }
 ],
 "metadata": {
  "kernelspec": {
   "display_name": "Python 3",
   "language": "python",
   "name": "python3"
  },
  "language_info": {
   "codemirror_mode": {
    "name": "ipython",
    "version": 3
   },
   "file_extension": ".py",
   "mimetype": "text/x-python",
   "name": "python",
   "nbconvert_exporter": "python",
   "pygments_lexer": "ipython3",
   "version": "3.6.2"
  }
 },
 "nbformat": 4,
 "nbformat_minor": 2
}
