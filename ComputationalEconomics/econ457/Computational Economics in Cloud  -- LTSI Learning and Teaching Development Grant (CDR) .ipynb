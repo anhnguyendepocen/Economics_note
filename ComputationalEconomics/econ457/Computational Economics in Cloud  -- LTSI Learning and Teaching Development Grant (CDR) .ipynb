{
 "cells": [
  {
   "cell_type": "markdown",
   "metadata": {
    "slideshow": {
     "slide_type": "notes"
    }
   },
   "source": [
    "This a presentation for Computational Economics in Cloud  -- LTSI Learning and Teaching Development Grant (CDR) "
   ]
  },
  {
   "cell_type": "markdown",
   "metadata": {
    "slideshow": {
     "slide_type": "slide"
    }
   },
   "source": [
    "# Computational Economics in Cloud  \n",
    "### -- LTSI Learning and Teaching Development Grant (CDR) "
   ]
  },
  {
   "cell_type": "markdown",
   "metadata": {
    "slideshow": {
     "slide_type": "notes"
    }
   },
   "source": [
    "introduce "
   ]
  },
  {
   "cell_type": "markdown",
   "metadata": {
    "slideshow": {
     "slide_type": "slide"
    }
   },
   "source": [
    "## Course Design\n",
    "The project’s **goal** is to re-design ECON 457 (Computational Economics). \n",
    "\n",
    "- The updated students’ curriculum will exposing the students to both the **Python** programming language and more modern computational techniques -- **cloud computing platform**. \n",
    "- We translated a series of Matlab codes, included in a **textbook**, into Python. \n",
    "- We made them self-contained by adding extensive comments and a detailed description of the **theory**.\n",
    "- We also prepared a number of practical **applications** and weekly labs."
   ]
  },
  {
   "cell_type": "markdown",
   "metadata": {
    "slideshow": {
     "slide_type": "notes"
    }
   },
   "source": [
    "example"
   ]
  },
  {
   "cell_type": "markdown",
   "metadata": {
    "slideshow": {
     "slide_type": "slide"
    }
   },
   "source": [
    "##  Python and Jupyter Notebook for Economist\n",
    "\n",
    "- combine writing, math, and computation\n",
    "- easy setup, aero-install, open source\n",
    "- student tackle hard questions with computing skills\n",
    "- students engage lecture interactively with demonstration\n",
    "- [examples](https://cybera.syzygy.ca/jupyter/user/econ457uvic/notebooks/Economics_note/ComputationalEconomics/econ457/lab05%2BIS-LM%2Bmodel%2Bin%2BSympy_new.ipynb)"
   ]
  },
  {
   "cell_type": "code",
   "execution_count": null,
   "metadata": {
    "slideshow": {
     "slide_type": "notes"
    }
   },
   "outputs": [],
   "source": []
  },
  {
   "cell_type": "markdown",
   "metadata": {
    "slideshow": {
     "slide_type": "slide"
    }
   },
   "source": [
    "## Class Setting\n",
    "\n",
    "- Because of the number of seats in the lab room, the course was capped at 30 students. \n",
    "- 27 students completed the course, while a number of them dropped out, mostly because they enrolled in their third year and find it rather challenging. \n",
    "- We should not be facing this issue again in the future as one more prerequisite has now been included and approved.\"\n",
    "\n",
    "\n",
    "![](http://www.student-times.co.za/wp-content/uploads/2017/06/Computer-Lab2.jpg)\n"
   ]
  },
  {
   "cell_type": "code",
   "execution_count": null,
   "metadata": {
    "slideshow": {
     "slide_type": "notes"
    }
   },
   "outputs": [],
   "source": []
  },
  {
   "cell_type": "markdown",
   "metadata": {
    "slideshow": {
     "slide_type": "slide"
    }
   },
   "source": [
    "## Student Assessment\n",
    "\n",
    "- The students were assessed with 5 challenging assignments, and a final take home exam. \n",
    "\n",
    "- A series of mechanisms were put in place in order to prevent cheating. In particular, every student had to explain their answers in a one-to-one 5 minutes meeting with the instructor.\"\n",
    "  - One sub-question was quite hard (on purpose), and only three students managed to answer it fairly well. This is further evidence that cheating didn't occur or was minimal.\""
   ]
  },
  {
   "cell_type": "code",
   "execution_count": null,
   "metadata": {
    "slideshow": {
     "slide_type": "notes"
    }
   },
   "outputs": [],
   "source": []
  },
  {
   "cell_type": "markdown",
   "metadata": {
    "slideshow": {
     "slide_type": "slide"
    }
   },
   "source": [
    "## Result\n",
    "\n",
    "- Overall the students did well and their performances did fulfill the learning outcomes.\n",
    " - All students passed the course, and the average was 81.8, which is remarkable given how demanding both the assignments and the exam were.\n",
    "\n",
    "- The students found the course helpful, and 16 of them completed the CES.\"\n",
    " - The scores for the category 'The course provided relevant skills and information' were:  \n",
    "   - 4.5 the mean and 5.0 the median.\n",
    " - The scores for the category 'Overall, the course offered an effective learning experience: \n",
    "   - 4.6 the mean and 5.0 the median.\n"
   ]
  },
  {
   "cell_type": "markdown",
   "metadata": {
    "slideshow": {
     "slide_type": "slide"
    }
   },
   "source": [
    "## Caveate \n",
    "\n",
    "- slow down\n",
    " - leave blanks\n",
    "## Further \n",
    "- Notebook for exercise\n",
    "- [Jupyter Notebook for education conference](http://jupyterday.blogs.brynmawr.edu/schedule/)"
   ]
  },
  {
   "cell_type": "code",
   "execution_count": null,
   "metadata": {
    "slideshow": {
     "slide_type": "notes"
    }
   },
   "outputs": [],
   "source": []
  },
  {
   "cell_type": "markdown",
   "metadata": {
    "slideshow": {
     "slide_type": "slide"
    }
   },
   "source": [
    "# THANK YOU"
   ]
  },
  {
   "cell_type": "code",
   "execution_count": 5,
   "metadata": {
    "slideshow": {
     "slide_type": "slide"
    }
   },
   "outputs": [
    {
     "data": {
      "text/html": [
       "\n",
       "        <iframe\n",
       "            width=\"100%\"\n",
       "            height=\"400\"\n",
       "            src=\"https://www.uvic.ca/learningandteaching/\"\n",
       "            frameborder=\"0\"\n",
       "            allowfullscreen\n",
       "        ></iframe>\n",
       "        "
      ],
      "text/plain": [
       "<IPython.lib.display.IFrame at 0x7fba29438c88>"
      ]
     },
     "execution_count": 5,
     "metadata": {},
     "output_type": "execute_result"
    }
   ],
   "source": [
    "from IPython.display import IFrame, display_html\n",
    "IFrame(\"https://www.uvic.ca/learningandteaching/\", '100%', 400)"
   ]
  },
  {
   "cell_type": "code",
   "execution_count": null,
   "metadata": {},
   "outputs": [],
   "source": []
  },
  {
   "cell_type": "code",
   "execution_count": null,
   "metadata": {},
   "outputs": [],
   "source": []
  }
 ],
 "metadata": {
  "celltoolbar": "Slideshow",
  "kernelspec": {
   "display_name": "Python 3",
   "language": "python",
   "name": "python3"
  },
  "language_info": {
   "codemirror_mode": {
    "name": "ipython",
    "version": 3
   },
   "file_extension": ".py",
   "mimetype": "text/x-python",
   "name": "python",
   "nbconvert_exporter": "python",
   "pygments_lexer": "ipython3",
   "version": "3.6.5"
  }
 },
 "nbformat": 4,
 "nbformat_minor": 2
}
