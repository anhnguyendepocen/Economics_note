{
 "cells": [
  {
   "cell_type": "markdown",
   "metadata": {},
   "source": [
    "# Lab09 Debug\n",
    "\n",
    "# Table of Contents\n",
    "1. [IPython Magic](#IPythonMagic)\n",
    "2. [Error and Debug](#debug)\n",
    "3. [Optimization in Scipy](#optimization)"
   ]
  },
  {
   "cell_type": "markdown",
   "metadata": {
    "collapsed": true
   },
   "source": [
    "## 1. IPython Magic<a name=\"IPythonMagic\"></a>\n",
    "\n",
    "\"IPython lets you use and explore Python efficiently and interactively. These are known in IPython as magic commands, and are prefixed by the % character. These magic commands are designed to succinctly solve various common problems in standard data analysis. \n",
    "\n",
    "\n",
    "Magic commands come in two flavors: line magics, which are denoted by a single `%` prefix and operate on a single line of input, and cell magics, which are denoted by a double `%%` prefix and operate on multiple lines of input. \"\n",
    "\n",
    "\n",
    "ref:\n",
    "\n",
    "https://jakevdp.github.io/PythonDataScienceHandbook/01.03-magic-commands.html\n"
   ]
  },
  {
   "cell_type": "code",
   "execution_count": null,
   "metadata": {},
   "outputs": [],
   "source": [
    "%lsmagic"
   ]
  },
  {
   "cell_type": "code",
   "execution_count": null,
   "metadata": {},
   "outputs": [],
   "source": [
    "%history"
   ]
  },
  {
   "cell_type": "code",
   "execution_count": null,
   "metadata": {
    "collapsed": true
   },
   "outputs": [],
   "source": [
    "a =10"
   ]
  },
  {
   "cell_type": "markdown",
   "metadata": {},
   "source": [
    "## Python Namespace\n",
    "- Space / place where a name is created / defined\n",
    "- Consider as a blank piece of paper\n",
    "- Each notebook has its own piece of paper (global namespace)\n",
    "- Every name defined (when executing a cell) $\\to$ puts the name on the piece of paper\n",
    "- View all names and their objects $\\to$ `%whos`"
   ]
  },
  {
   "cell_type": "code",
   "execution_count": null,
   "metadata": {},
   "outputs": [],
   "source": [
    "%whos"
   ]
  },
  {
   "cell_type": "markdown",
   "metadata": {},
   "source": [
    "- Clear the Python namespace\n",
    " - Restart the kernel, or\n",
    " - Execute `%reset -f` in a code cell"
   ]
  },
  {
   "cell_type": "code",
   "execution_count": null,
   "metadata": {},
   "outputs": [],
   "source": [
    "%reset -f\n",
    "%whos"
   ]
  },
  {
   "cell_type": "code",
   "execution_count": null,
   "metadata": {},
   "outputs": [],
   "source": [
    "%timeit L = [n ** 2 for n in range(1000)]"
   ]
  },
  {
   "cell_type": "markdown",
   "metadata": {},
   "source": [
    "### Shell Commands in IPython\n",
    "Any command that works at the command-line can be used in IPython by prefixing it with the ! character. For example, the ls, pwd, and echo commands can be run as follows:\n",
    "\n",
    "### Shell-Related Magic Commands\n",
    "\n",
    "Besides %cd, other available shell-like magic functions are %cat, %cp, %env, %ls, %man, %mkdir, %more, %mv, %pwd, %rm, and %rmdir"
   ]
  },
  {
   "cell_type": "code",
   "execution_count": null,
   "metadata": {},
   "outputs": [],
   "source": [
    "!ls"
   ]
  },
  {
   "cell_type": "code",
   "execution_count": null,
   "metadata": {},
   "outputs": [],
   "source": [
    "!pwd"
   ]
  },
  {
   "cell_type": "code",
   "execution_count": null,
   "metadata": {},
   "outputs": [],
   "source": [
    "%pwd"
   ]
  },
  {
   "cell_type": "code",
   "execution_count": null,
   "metadata": {
    "collapsed": true
   },
   "outputs": [],
   "source": []
  },
  {
   "cell_type": "markdown",
   "metadata": {},
   "source": [
    "## 2. Errors and Debugging<a name =\"debug\"/>"
   ]
  },
  {
   "cell_type": "markdown",
   "metadata": {},
   "source": [
    "\n",
    "\n",
    "https://jakevdp.github.io/PythonDataScienceHandbook/01.06-errors-and-debugging.html\n",
    "\n"
   ]
  },
  {
   "cell_type": "code",
   "execution_count": null,
   "metadata": {
    "collapsed": true
   },
   "outputs": [],
   "source": [
    "def func1(a, b):\n",
    "    return a / b\n",
    "\n",
    "def func2(x):\n",
    "    a = x\n",
    "    b = x - 1\n",
    "    return func1(a, b)"
   ]
  },
  {
   "cell_type": "code",
   "execution_count": null,
   "metadata": {},
   "outputs": [],
   "source": [
    "func2(1)\n"
   ]
  },
  {
   "cell_type": "markdown",
   "metadata": {
    "collapsed": true
   },
   "source": [
    "Calling func2 results in an error, and reading the printed trace lets us see exactly what happened. By default, this trace includes several lines showing the context of each step that led to the error. Using the %xmode magic function (short for Exception mode), we can change what information is printed.\n",
    "\n",
    "%xmode takes a single argument, the mode, and there are three possibilities: Plain, Context, and Verbose. The default is Context, and gives output like that just shown before. Plain is more compact and gives less information:"
   ]
  },
  {
   "cell_type": "code",
   "execution_count": null,
   "metadata": {},
   "outputs": [],
   "source": [
    "%xmode Plain"
   ]
  },
  {
   "cell_type": "code",
   "execution_count": null,
   "metadata": {},
   "outputs": [],
   "source": [
    "func2(1)"
   ]
  },
  {
   "cell_type": "markdown",
   "metadata": {
    "collapsed": true
   },
   "source": [
    "The Verbose mode adds some extra information, including the arguments to any functions that are called:"
   ]
  },
  {
   "cell_type": "code",
   "execution_count": null,
   "metadata": {},
   "outputs": [],
   "source": [
    "%xmode Verbose"
   ]
  },
  {
   "cell_type": "code",
   "execution_count": null,
   "metadata": {},
   "outputs": [],
   "source": [
    "func2(1)"
   ]
  },
  {
   "cell_type": "markdown",
   "metadata": {},
   "source": [
    "## 2.1 Debugging: When Reading Tracebacks Is Not Enough\n",
    "\n",
    "In IPython, perhaps the most convenient interface to debugging is the %debug magic command. If you call it after hitting an exception, it will automatically open an interactive debugging prompt at the point of the exception. The ipdb prompt lets you explore the current state of the stack, explore the available variables, and even run Python commands!\n",
    "\n",
    "Let's look at the most recent exception, then do some basic tasks–print the values of a and b, and type quit to quit the debugging session:"
   ]
  },
  {
   "cell_type": "code",
   "execution_count": null,
   "metadata": {},
   "outputs": [],
   "source": [
    "%debug"
   ]
  },
  {
   "cell_type": "markdown",
   "metadata": {},
   "source": [
    "Partial list of debugging commands\n",
    "There are many more available commands for interactive debugging than we've listed here; the following table contains a description of some of the more common and useful ones:\n",
    "\n",
    "\n",
    "Command\tDescription\n",
    "\n",
    "    `up`  step up through the stack and explore the values of variables there\n",
    "\n",
    "    `down` step down through the stack and explore the values of variables there\n",
    "\n",
    "    `list`\tShow the current location in the file\n",
    "\n",
    "    `h(elp)`\tShow a list of commands, or find help on a specific command\n",
    "\n",
    "    `q(uit)`\tQuit the debugger and the program\n",
    "\n",
    "    `c(ontinue)`\tQuit the debugger, continue in the program\n",
    "\n",
    "    `n(ext)`\tGo to the next step of the program\n",
    "\n",
    "    `<enter>`\tRepeat the previous command\n",
    "\n",
    "    `p(rint)`\tPrint variables\n",
    "\n",
    "    `s(tep)`\tStep into a subroutine\n",
    "\n",
    "    `r(eturn)`\tReturn out of a subroutine\n",
    "\n",
    "For more information, use the help command in the debugger, or take a look at ipdb's online documentation."
   ]
  },
  {
   "cell_type": "code",
   "execution_count": null,
   "metadata": {},
   "outputs": [],
   "source": [
    "%debug\n",
    "\n"
   ]
  },
  {
   "cell_type": "code",
   "execution_count": null,
   "metadata": {},
   "outputs": [],
   "source": [
    "%xmode Plain\n",
    "%pdb on\n",
    "func2(1)"
   ]
  },
  {
   "cell_type": "markdown",
   "metadata": {},
   "source": [
    "## 2.2 Python Code Stepper / Debugger\n",
    "\n",
    "http://pythontutor.com/\n",
    "\n",
    "\n",
    "[Our Problem](http://pythontutor.com/live.html#code=def%20func1%28a,%20b%29%3A%0A%20%20%20%20return%20a%20/%20b%0A%0Adef%20func2%28x%29%3A%0A%20%20%20%20a%20%3D%20x%0A%20%20%20%20b%20%3D%20x%20-%201%0A%20%20%20%20return%20func1%28a,%20b%29%0A%20%20%20%20%0Afunc2%281%29%20%20%20%20&cumulative=false&curInstr=9&heapPrimitives=false&mode=display&origin=opt-live.js&py=3&rawInputLstJSON=%5B%5D&textReferences=false)\n",
    "\n"
   ]
  },
  {
   "cell_type": "code",
   "execution_count": null,
   "metadata": {},
   "outputs": [],
   "source": [
    "from IPython.display import YouTubeVideo\n",
    "# python tutor demo\n",
    "YouTubeVideo('McYTtgl8ogI')"
   ]
  },
  {
   "cell_type": "code",
   "execution_count": null,
   "metadata": {
    "collapsed": true
   },
   "outputs": [],
   "source": []
  },
  {
   "cell_type": "markdown",
   "metadata": {},
   "source": [
    "## 3. Optimization and root finding (scipy.optimize)<a name = \"optimization\"/>\n",
    "\n",
    "\n",
    "\n",
    "\n",
    "[MultivariateOptimizationAlgortihms](https://people.duke.edu/~ccc14/sta-663/MultivariateOptimizationAlgortihms.html)\n",
    "\n",
    "\n",
    "### Two Newton's methods\n",
    "\n",
    "$$\\begin{split}\\begin{array}{|c|c|c|c|}\n",
    "\\hline\n",
    "\\text{Finding roots of } f  & \\text{Geometric Interpretation} & \\text{Finding Extrema of } f & \\text{Geometric Interpretation} \\\\\n",
    "\\hline\n",
    "x_{n+1} = x_n -\\frac{f(x_n)}{f'(x_n)} &\\text{Invert linear approximation to }f & x_{n+1} = x_n -\\frac{f'(x_n)}{f''(x_n)}& \\text{Use quadratic approximation of } f \\\\\n",
    "\\hline\n",
    "\\end{array}\\end{split}$$\n",
    "\n",
    "\n",
    "These are two ways of looking at exactly the same problem. For instance, the linear approximation in the root finding problem is simply the derivative function of the quadratic approximation in the optimization problem.\n",
    "\n",
    "![](https://upload.wikimedia.org/wikipedia/commons/thumb/d/da/Newton_optimization_vs_grad_descent.svg/440px-Newton_optimization_vs_grad_descent.svg.png)\n",
    "\n",
    "Ref: \n",
    "\n",
    "https://en.wikipedia.org/wiki/Newton%27s_method_in_optimization\n",
    "\n",
    "\n",
    "\n",
    "![](https://upload.wikimedia.org/wikipedia/commons/thumb/e/e0/NewtonIteration_Ani.gif/600px-NewtonIteration_Ani.gif)\n",
    "\n",
    "\n",
    "ref:\n",
    "\n",
    "https://en.wikipedia.org/wiki/Newton%27s_method"
   ]
  },
  {
   "cell_type": "markdown",
   "metadata": {},
   "source": [
    "\n",
    "[scipy.optimize](https://docs.scipy.org/doc/scipy-1.0.0/reference/optimize.html)\n",
    "\n",
    "### A newer, more consistent interface for Optimization: `minimize()`\n",
    "`minimize(fun, x0[, args, method, jac, hess, ...])`\tMinimization of scalar function of one or more variables.\n",
    "\n",
    "\n",
    "The minimize function supports the following methods:\n",
    "\n",
    "    minimize(method=’Nelder-Mead’)\n",
    "    minimize(method=’Powell’)\n",
    "    minimize(method=’CG’)\n",
    "    minimize(method=’BFGS’)\n",
    "    minimize(method=’Newton-CG’)\n",
    "    minimize(method=’L-BFGS-B’)\n",
    "    minimize(method=’TNC’)\n",
    "    minimize(method=’COBYLA’)\n",
    "    minimize(method=’SLSQP’)\n",
    "    minimize(method=’dogleg’)\n",
    "    minimize(method=’trust-ncg’)\n",
    "    minimize(method=’trust-krylov’)\n",
    "    minimize(method=’trust-exact’)\n",
    "    \n",
    "#### scipy.optimize.minimize\n",
    "[scipy.optimize.minimize](https://docs.scipy.org/doc/scipy-1.0.0/reference/generated/scipy.optimize.minimize.html#scipy.optimize.minimize)\n",
    "\n",
    "\n",
    "##### Parameters:\t\n",
    "##### fun : callable\n",
    "\n",
    "The objective function to be minimized. Must be in the form f(x, *args). \n",
    "\n",
    "The optimizing argument, x, is a 1-D array of points, and args is a tuple of any additional fixed parameters needed to completely specify the function.\n",
    "\n",
    "##### x0 : ndarray\n",
    "\n",
    "Initial guess. len(x0) is the dimensionality of the minimization problem.\n",
    "\n",
    "    args : tuple, optional\n",
    "\n",
    "Extra arguments passed to the objective function and its derivatives (Jacobian, Hessian).\n",
    "\n",
    "\n",
    "##### bounds : sequence, optional\n",
    "\n",
    "Bounds for variables (only for L-BFGS-B, TNC and SLSQP). \n",
    "\n",
    "    (min, max) pairs for each element in x, defining the bounds on that parameter. Use None for one of min or max when there is no bound in that direction.\n",
    "\n",
    "\n",
    "##### constraints : dict or sequence of dict, optional\n",
    "\n",
    "Constraints definition (only for COBYLA and SLSQP). Each constraint is defined in a dictionary with fields:\n",
    "\n",
    "    type : str\n",
    "    Constraint type: ‘eq’ for equality, ‘ineq’ for inequality.\n",
    "\n",
    "    fun : callable\n",
    "    The function defining the constraint.\n",
    "\n",
    "    jac : callable, optional\n",
    "    The Jacobian of fun (only for SLSQP).\n",
    "\n",
    "    args : sequence, optional\n",
    "    Extra arguments to be passed to the function and Jacobian.\n",
    "    \n",
    "    \n"
   ]
  },
  {
   "cell_type": "markdown",
   "metadata": {},
   "source": [
    "#### minimize(method=’SLSQP’)\n",
    "\n",
    "[`minimize(method=’SLSQP’)`](https://docs.scipy.org/doc/scipy-1.0.0/reference/optimize.minimize-slsqp.html#optimize-minimize-slsqp)\n",
    "\n",
    "\n",
    "`scipy.optimize.minimize(fun, x0, args=(), method='SLSQP', jac=None, bounds=None, constraints=(), tol=None, callback=None, options={'disp': False, 'iprint': 1, 'eps': 1.4901161193847656e-08, 'func': None, 'maxiter': 100, 'ftol': 1e-06})`\n",
    "\n",
    "Minimize a scalar function of one or more variables using Sequential Least SQuares Programming (SLSQP)."
   ]
  },
  {
   "cell_type": "markdown",
   "metadata": {},
   "source": [
    "###  A newer, more consistent interface for Root finding: `root()`\n",
    "\n",
    "\n",
    "`root(fun, x0[, args, method, jac, tol, ...])`\tFind a root of a vector function.\n",
    "\n",
    "The root function supports the following methods:\n",
    "\n",
    "    root(method=’hybr’)\n",
    "    root(method=’lm’)\n",
    "    root(method=’broyden1’)\n",
    "    root(method=’broyden2’)\n",
    "    root(method=’anderson’)\n",
    "    root(method=’linearmixing’)\n",
    "    root(method=’diagbroyden’)\n",
    "    root(method=’excitingmixing’)\n",
    "    root(method=’krylov’)\n",
    "    root(method=’df-sane’)\n",
    "\n",
    "\n",
    "\n",
    "https://www.scipy-lectures.org/advanced/mathematical_optimization/index.html"
   ]
  },
  {
   "cell_type": "code",
   "execution_count": null,
   "metadata": {
    "collapsed": true
   },
   "outputs": [],
   "source": []
  }
 ],
 "metadata": {
  "celltoolbar": "Visualize",
  "kernelspec": {
   "display_name": "Python 3",
   "language": "python",
   "name": "python3"
  },
  "language_info": {
   "codemirror_mode": {
    "name": "ipython",
    "version": 3
   },
   "file_extension": ".py",
   "mimetype": "text/x-python",
   "name": "python",
   "nbconvert_exporter": "python",
   "pygments_lexer": "ipython3",
   "version": "3.6.2"
  }
 },
 "nbformat": 4,
 "nbformat_minor": 2
}
