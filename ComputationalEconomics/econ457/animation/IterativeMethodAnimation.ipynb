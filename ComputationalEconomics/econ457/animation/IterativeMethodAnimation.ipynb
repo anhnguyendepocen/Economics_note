{
 "cells": [
  {
   "cell_type": "code",
   "execution_count": null,
   "metadata": {
    "ExecuteTime": {
     "end_time": "2018-02-22T20:47:44.993345Z",
     "start_time": "2018-02-22T20:47:44.614338Z"
    }
   },
   "outputs": [],
   "source": [
    "import numpy as np\n",
    "%pylab inline\n",
    "import matplotlib.pyplot as plt\n",
    "# JSAnimation import available at https://github.com/jakevdp/JSAnimation\n",
    "from JSAnimation import IPython_display\n",
    "from matplotlib import animation\n",
    "from scipy import integrate\n",
    "from scipy import optimize"
   ]
  },
  {
   "cell_type": "code",
   "execution_count": null,
   "metadata": {
    "ExecuteTime": {
     "end_time": "2018-02-22T20:47:45.070550Z",
     "start_time": "2018-02-22T20:47:45.000865Z"
    },
    "collapsed": true
   },
   "outputs": [],
   "source": [
    "#Defining Fixed-point iteration function\n",
    "def FixedPoint_Animation( f, pini, Nmax, xmin, xmax ):\n",
    "    g = lambda x: x-f(x)\n",
    "    #Initial condition\n",
    "    pi = [pini,]\n",
    "    px = [pini,pini,]\n",
    "    py = [0,]\n",
    "    #Iterations\n",
    "    for n in np.arange(Nmax+3):\n",
    "        pi.append( g(pi[n]) )\n",
    "        px.append( g(pi[n]) )\n",
    "        px.append( g(pi[n]) )\n",
    "        py.append( g(pi[n]) )\n",
    "        py.append( g(pi[n]) )\n",
    "    \n",
    "    py.append( g(pi[n+1]) )\n",
    "    pi = np.array( pi )\n",
    "    px = np.array( px )\n",
    "    py = np.array( py )\n",
    "    \n",
    "    print( \"Result:\", pi[-1])\n",
    "    \n",
    "    #Array X-axis\n",
    "    X = np.linspace(xmin,xmax,100)\n",
    "    \n",
    "    #Initializing Figure\n",
    "    fig = plt.figure( figsize=(7,7) )\n",
    "    ax = fig.add_subplot(111)\n",
    "    #Graphic iterations\n",
    "    fixedpoint, = ax.plot( [], [], color=\"red\", linewidth = 3 )\n",
    "    #Function g\n",
    "    ax.plot( X, g(X), color=\"green\", linewidth = 2 )\n",
    "    #Identity funcion\n",
    "    ax.plot( X, X, color=\"blue\", linewidth = 2 )\n",
    "    ax.grid(True)\n",
    "    ax.set_xlim( (xmin, xmax) )\n",
    "    ax.set_ylim( (xmin, xmax) )\n",
    "    ax.set_xlabel( \"X axis\" )\n",
    "    ax.set_ylabel( \"Y axis\" )\n",
    "    ax.set_title( \"Fixed-Point iteration\" )\n",
    "        \n",
    "    def init():\n",
    "        fixedpoint.set_data([], [])\n",
    "        return fixedpoint,\n",
    "    \n",
    "    def animate(i):\n",
    "        #Setting new data\n",
    "        fixedpoint.set_data( px[:2*i], py[:2*i] )\n",
    "        ax.set_title( \"Fixed-Point. Iteration %d\"%i )\n",
    "        return fixedpoint,\n",
    "    \n",
    "    return animation.FuncAnimation(fig, animate, init_func=init,frames=Nmax, interval=500, blit=True)"
   ]
  },
  {
   "cell_type": "code",
   "execution_count": null,
   "metadata": {
    "ExecuteTime": {
     "end_time": "2018-02-22T20:47:46.647279Z",
     "start_time": "2018-02-22T20:47:45.759374Z"
    }
   },
   "outputs": [],
   "source": [
    "def f1(x):\n",
    "    return (x**2-1)/3.0\n",
    "FixedPoint_Animation( f1, pini = 0.1, Nmax = 15, xmin = 0, xmax = 1.2 )"
   ]
  },
  {
   "cell_type": "code",
   "execution_count": null,
   "metadata": {
    "ExecuteTime": {
     "end_time": "2018-02-22T20:47:47.547194Z",
     "start_time": "2018-02-22T20:47:46.693402Z"
    }
   },
   "outputs": [],
   "source": [
    "def f2(x):\n",
    "    return x-np.cos(x)\n",
    "FixedPoint_Animation( f2, pini = 0.2, Nmax = 15, xmin = 0, xmax = 1.5 )"
   ]
  },
  {
   "cell_type": "code",
   "execution_count": null,
   "metadata": {
    "collapsed": true
   },
   "outputs": [],
   "source": []
  },
  {
   "cell_type": "code",
   "execution_count": null,
   "metadata": {
    "collapsed": true
   },
   "outputs": [],
   "source": []
  },
  {
   "cell_type": "code",
   "execution_count": null,
   "metadata": {
    "ExecuteTime": {
     "end_time": "2018-02-22T20:48:08.163981Z",
     "start_time": "2018-02-22T20:48:07.987512Z"
    },
    "collapsed": true
   },
   "outputs": [],
   "source": [
    "#Defining Newton Method\n",
    "def NewtonRaphson_Animation( f, fp, pini, Nmax, xmin, xmax ):\n",
    "    #Initial condition\n",
    "    p = [pini,]\n",
    "    p_dash = []\n",
    "    p_der = []\n",
    "    #Iterations\n",
    "    for n in np.arange(Nmax):\n",
    "        p.append( p[n] - f(p[n])/fp(p[n]) )\n",
    "        p_dash.append( p[n] )\n",
    "        p_dash.append( p[n] )\n",
    "        p_der.append( 0 )\n",
    "        p_der.append( f(p[n]) )\n",
    "    \n",
    "    p = np.array( p )\n",
    "    p_dash = np.array( p_dash )\n",
    "    p_der = np.array( p_der )\n",
    "    \n",
    "    print( \"Result:\", p[-1])\n",
    "    \n",
    "    #Array X-axis\n",
    "    X = np.linspace(xmin,xmax,100)\n",
    "    \n",
    "    #Initializing Figure\n",
    "    fig = plt.figure( figsize=(7,7) )\n",
    "    ax = fig.add_subplot(111)\n",
    "    #Graphic iterations\n",
    "    dash, = ax.plot( [], [], \"--\", color=\"gray\", linewidth = 2 )\n",
    "    derivative, = ax.plot( [], [], color=\"red\", linewidth = 3 )\n",
    "    #Function f\n",
    "    ax.plot( X, f(X), color=\"green\", linewidth = 2 )\n",
    "    #Horizontal line\n",
    "    ax.hlines( 0, xmin,xmax, color=\"black\", lw = 2 )\n",
    "    ax.grid(True)\n",
    "    ax.set_xlim( (xmin, xmax) )\n",
    "    ax.set_xlabel( \"X axis\" )\n",
    "    ax.set_ylabel( \"Y axis\" )\n",
    "    ax.set_title( \"Fixed-Point iteration\" )\n",
    "        \n",
    "    def init():\n",
    "        dash.set_data([], [])\n",
    "        derivative.set_data([], [])\n",
    "        return dash, derivative\n",
    "    \n",
    "    def animate(i):\n",
    "        #Setting new data\n",
    "        dash.set_data( p_dash[:2*i+2], p_der[:2*i+2] )\n",
    "        derivative.set_data( p_dash[2*i+1:2*i+3], p_der[2*i+1:2*i+3] )\n",
    "        ax.set_title( \"Newthon-Raphson Method. Iteration %d\"%i )\n",
    "        return dash, derivative\n",
    "    \n",
    "    return animation.FuncAnimation(fig, animate, init_func=init,frames=Nmax, interval=500, blit=True)"
   ]
  },
  {
   "cell_type": "code",
   "execution_count": null,
   "metadata": {
    "ExecuteTime": {
     "end_time": "2018-02-22T20:48:08.955128Z",
     "start_time": "2018-02-22T20:48:08.410682Z"
    }
   },
   "outputs": [],
   "source": [
    "#Defining the function\n",
    "def f(x): \n",
    "    return x**2-x\n",
    "#Defining the derivative\n",
    "def df(x): \n",
    "    return 2*x-1\n",
    "#Calculating root\n",
    "NewtonRaphson_Animation( f, df, pini = 0.55, Nmax = 10, xmin = 0, xmax = 3.5 )"
   ]
  },
  {
   "cell_type": "code",
   "execution_count": null,
   "metadata": {
    "ExecuteTime": {
     "end_time": "2018-02-22T20:53:21.093925Z",
     "start_time": "2018-02-22T20:53:20.302321Z"
    }
   },
   "outputs": [],
   "source": [
    "def f(x):\n",
    "    return np.log(x)\n",
    "\n",
    "#Defining the derivative\n",
    "def df(x): \n",
    "    return 1/x\n",
    "\n",
    "#Calculating root\n",
    "NewtonRaphson_Animation( f, df, pini = 2, Nmax = 10, xmin = 0.5, xmax = 2.5 )\n"
   ]
  },
  {
   "cell_type": "code",
   "execution_count": null,
   "metadata": {
    "collapsed": true
   },
   "outputs": [],
   "source": []
  },
  {
   "cell_type": "code",
   "execution_count": null,
   "metadata": {
    "ExecuteTime": {
     "end_time": "2018-02-22T20:54:12.778357Z",
     "start_time": "2018-02-22T20:54:12.748276Z"
    },
    "collapsed": true
   },
   "outputs": [],
   "source": [
    "from scipy.misc import derivative\n",
    "import matplotlib.pyplot as plt\n",
    "from ipywidgets import widgets"
   ]
  },
  {
   "cell_type": "code",
   "execution_count": null,
   "metadata": {
    "ExecuteTime": {
     "end_time": "2018-02-22T20:54:28.887739Z",
     "start_time": "2018-02-22T20:54:28.877211Z"
    }
   },
   "outputs": [],
   "source": [
    "x_n = 2\n",
    "x = np.linspace(0.2, 2.2, 500)\n",
    "\n",
    "def f(x):\n",
    "    return np.log(x)\n",
    "\n",
    "def x_next(f, x, x_n):\n",
    "    slope = derivative(f, x_n, dx=0.1)\n",
    "    return x_n - f(x_n) / slope\n",
    "\n",
    "for n in range(6):\n",
    "    print('x_{} = {:.6f}'.format(n + 1, x_n))\n",
    "    x_n = x_next(f, x, x_n)"
   ]
  },
  {
   "cell_type": "code",
   "execution_count": null,
   "metadata": {
    "ExecuteTime": {
     "end_time": "2018-02-22T20:54:57.391931Z",
     "start_time": "2018-02-22T20:54:57.345307Z"
    },
    "collapsed": true
   },
   "outputs": [],
   "source": [
    "x = np.linspace(0.2, 2.2, 500)\n",
    "\n",
    "def f(x):\n",
    "    return np.log(x)\n",
    "\n",
    "def f_line(f, x, x_n):\n",
    "    slope = derivative(f, x_n, dx=0.1)\n",
    "    x_nn = x_n - f(x_n) / slope \n",
    "    return slope * (x - x_n) + f(x_n), x_nn\n",
    "\n",
    "def update_plot(order):\n",
    "    x_n = 2\n",
    "    ax.clear()\n",
    "    ax.plot(x, f(x), label=r'$\\ln(x)$')\n",
    "    ax.axhline(0, color='gray', lw=0.5)\n",
    "\n",
    "    for i in range(0, order):\n",
    "\n",
    "        if i >= 1:\n",
    "            ax.plot(x, f_l, '--', lw=1)\n",
    "        \n",
    "        ax.plot(x_n, f(x_n), 'kd', label=r'$f(x_{}={:.2f})={:.3f}$'.format(i + 1, x_n, f(x_n)))\n",
    "        ax.vlines(x_n, 0, f(x_n), color='black', linestyle=':', lw=1)\n",
    "        f_l, x_n = f_line(f, x, x_n)\n",
    "\n",
    "        \n",
    "    plt.setp(ax, xticks=[0, 1, 2], xticklabels=['0', '1', '2'],\n",
    "             yticks=[-1, 0, 1], yticklabels=['-1', '0', '-1'])\n",
    "    ax.set_ylim(-1, 1)\n",
    "    ax.set_xlim(0, 2.2)\n",
    "    ax.legend(loc=4)\n",
    "    plt.show()"
   ]
  },
  {
   "cell_type": "code",
   "execution_count": null,
   "metadata": {
    "ExecuteTime": {
     "end_time": "2018-02-22T20:55:24.134265Z",
     "start_time": "2018-02-22T20:55:24.129752Z"
    },
    "collapsed": true
   },
   "outputs": [],
   "source": [
    "import numpy as np\n",
    "from scipy.misc import derivative\n",
    "import matplotlib.pyplot as plt\n",
    "from ipywidgets import widgets\n",
    "%matplotlib nbagg"
   ]
  },
  {
   "cell_type": "code",
   "execution_count": null,
   "metadata": {
    "ExecuteTime": {
     "end_time": "2018-02-22T20:55:24.640161Z",
     "start_time": "2018-02-22T20:55:24.551426Z"
    }
   },
   "outputs": [],
   "source": [
    "fig, ax = plt.subplots(1, figsize=(13, 6.5))\n",
    "order = widgets.IntSlider(min=1, max=6, value=1, description='order')\n",
    "widgets.interactive(update_plot, order=order)"
   ]
  },
  {
   "cell_type": "code",
   "execution_count": null,
   "metadata": {
    "collapsed": true
   },
   "outputs": [],
   "source": []
  },
  {
   "cell_type": "code",
   "execution_count": null,
   "metadata": {
    "collapsed": true
   },
   "outputs": [],
   "source": []
  },
  {
   "cell_type": "code",
   "execution_count": null,
   "metadata": {
    "collapsed": true
   },
   "outputs": [],
   "source": []
  },
  {
   "cell_type": "code",
   "execution_count": null,
   "metadata": {
    "collapsed": true
   },
   "outputs": [],
   "source": []
  },
  {
   "cell_type": "code",
   "execution_count": null,
   "metadata": {
    "collapsed": true
   },
   "outputs": [],
   "source": []
  },
  {
   "cell_type": "code",
   "execution_count": null,
   "metadata": {
    "collapsed": true
   },
   "outputs": [],
   "source": []
  }
 ],
 "metadata": {
  "kernelspec": {
   "display_name": "Python 3",
   "language": "python",
   "name": "python3"
  },
  "language_info": {
   "codemirror_mode": {
    "name": "ipython",
    "version": 3
   },
   "file_extension": ".py",
   "mimetype": "text/x-python",
   "name": "python",
   "nbconvert_exporter": "python",
   "pygments_lexer": "ipython3",
   "version": "3.6.2"
  }
 },
 "nbformat": 4,
 "nbformat_minor": 2
}
