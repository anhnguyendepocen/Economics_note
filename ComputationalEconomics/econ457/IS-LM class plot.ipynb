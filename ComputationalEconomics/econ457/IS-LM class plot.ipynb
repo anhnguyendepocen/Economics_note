{
 "cells": [
  {
   "cell_type": "code",
   "execution_count": null,
   "metadata": {
    "collapsed": true
   },
   "outputs": [],
   "source": [
    "import numpy as np\n",
    "import pprint\n",
    "import scipy\n",
    "import scipy.linalg   # SciPy Linear Algebra Library\n",
    "\n",
    "from sympy import *\n",
    "%matplotlib inline\n",
    "\n",
    "\n",
    "init_printing()"
   ]
  },
  {
   "cell_type": "markdown",
   "metadata": {},
   "source": [
    "## A Macro-economic Model:\n",
    "\n",
    "- product equals aggregate demand, $Y = C + I +G$; \n",
    "\n",
    "- consumption function, $C = \\bar C + c(Y−T)$; \n",
    "\n",
    "- investment function, $I = \\bar I − br$; \n",
    "\n",
    "\n",
    "- public spending function, $G = \\bar G$; \n",
    "\n",
    "- income taxes function, $T = \\bar T$; \n",
    "\n",
    "- monetary equilibrium, $M/P = kY − hr$; \n",
    "\n",
    "- money supply function, $M = \\bar M$."
   ]
  },
  {
   "cell_type": "markdown",
   "metadata": {},
   "source": [
    "## Endogenous variables: \n",
    "\n",
    "- product, $Y$;\n",
    "\n",
    "- consumption, $C$; \n",
    "\n",
    "- investment, $I$; \n",
    "\n",
    "- interest rate, $r$."
   ]
  },
  {
   "cell_type": "code",
   "execution_count": null,
   "metadata": {},
   "outputs": [],
   "source": [
    "Y, C, I, r = symbols('Y C I r')"
   ]
  },
  {
   "cell_type": "markdown",
   "metadata": {},
   "source": [
    "## Exogenous variables: \n",
    "\n",
    "- government/public spending, $\\bar G$; \n",
    "\n",
    "- independent/autonomous consumption, $\\bar C$; \n",
    "\n",
    "- independent/autonomous investment, $\\bar I$; \n",
    "\n",
    "- income taxes, $\\bar T$;\n",
    "\n",
    "- money supply, $\\bar M$; \n",
    "\n",
    "- price level (fixed), $\\bar P$."
   ]
  },
  {
   "cell_type": "code",
   "execution_count": null,
   "metadata": {
    "collapsed": true
   },
   "outputs": [],
   "source": [
    "Gbar, Cbar, Ibar, Tbar, Mbar, Pbar = symbols( 'Gbar Cbar Ibar Tbar Mbar Pbar')"
   ]
  },
  {
   "cell_type": "markdown",
   "metadata": {},
   "source": [
    "## Parameters:\n",
    "- $c$ is the propensity to consume, $0 < c < 1$; \n",
    "\n",
    "- $b > 0$ is the interest sensitivity of investment; \n",
    "\n",
    "- $k > 0$ is the output sensitivity of the demand for money; \n",
    "\n",
    "- $h > 0$ is the interest sensitivity of the demand for money."
   ]
  },
  {
   "cell_type": "code",
   "execution_count": null,
   "metadata": {
    "collapsed": true
   },
   "outputs": [],
   "source": [
    "c, b, k, h = symbols('c b k h', positive = True)"
   ]
  },
  {
   "cell_type": "code",
   "execution_count": null,
   "metadata": {
    "collapsed": true
   },
   "outputs": [],
   "source": []
  },
  {
   "cell_type": "code",
   "execution_count": null,
   "metadata": {
    "collapsed": true
   },
   "outputs": [],
   "source": []
  },
  {
   "cell_type": "code",
   "execution_count": null,
   "metadata": {},
   "outputs": [],
   "source": [
    "# d, vector of the exogeneous variables \n",
    "\n",
    "# d = np.array([ G_bar , C_bar - c*T_bar , I_bar , M_bar/P_bar ] )\n",
    "\n",
    "\n",
    "# matrix representation of the model : Ax=d \n",
    "#% A, coefficient matrix for [Y, C, I, r]\n",
    "A = np.matrix([ [1, -1, -1, 0], # Y=C+I+G \n",
    "     [-c, 1, 0, 0], # C=C_bar+c(Y−T) \n",
    "     [0, 0, 1, b], # I=I_bar−br \n",
    "     [k, 0, 0, -h] ]) # M/P=kY−hr"
   ]
  },
  {
   "cell_type": "code",
   "execution_count": null,
   "metadata": {
    "collapsed": true
   },
   "outputs": [],
   "source": []
  },
  {
   "cell_type": "code",
   "execution_count": null,
   "metadata": {},
   "outputs": [],
   "source": [
    "def ISLM(Yguess=534, new_G_bar = 200, new_T_bar = 110, new_M_bar = 180.00,newTitle =r'Expansion of money supply ($\\bar M$ increases by 20%)'):\n",
    "    \"\"\" A function plotting changes in the IS-LM Model\n",
    "    # parameters \n",
    "    c = 0.63  # marginal propensity to consume \n",
    "\n",
    "    b = 1500 #sensitivity of the investment to the interest rate \n",
    "\n",
    "    k = 0.6  #sensitivity of the money demand to income \n",
    "\n",
    "    h = 2700 #sensitivity of the money demand to the interest rate\n",
    "\n",
    "    \"\"\"\n",
    "    import pprint\n",
    "    import scipy\n",
    "    import scipy.linalg   # SciPy Linear Algebra Library\n",
    "    import matplotlib.pyplot as plt\n",
    "\n",
    "    %matplotlib notebook\n",
    "    \n",
    "    \n",
    "    # parameters \n",
    "    c = 0.63 #marginal propensity to consume \n",
    "\n",
    "    b = 1500 #sensitivity of the investment to the interest rate \n",
    "\n",
    "    k = 0.6  #sensitivity of the money demand to income \n",
    "\n",
    "    h = 2700 #sensitivity of the money demand to the interest rate\n",
    "    \n",
    "    \n",
    "    # policy exogenous variables \n",
    "    C_bar = 55 # autonomous consumption \n",
    "\n",
    "    I_bar = 75 # autonomous investment \n",
    "\n",
    "    G_bar = 200 #government spending \n",
    "\n",
    "    T_bar = 110 # tax on income \n",
    "\n",
    "    M_bar = 200 # money supply \n",
    "\n",
    "    P_bar = 1 #price level ( fixed in the short−run )\n",
    "    \n",
    "    A = np.matrix([ [1, -1, -1, 0], # Y=C+I+G \n",
    "     [-c, 1, 0, 0], # C=C_bar+c(Y−T) \n",
    "     [0, 0, 1, b], # I=I_bar−br \n",
    "     [k, 0, 0, -h] ]) # M/P=kY−hr\n",
    "    \n",
    "    d = np.array([ G_bar , C_bar - c*T_bar , I_bar , M_bar/P_bar ] )\n",
    "    \n",
    "        # compute the endogenous variables \n",
    "    P, L ,U = scipy.linalg.lu(A) # LU factorization \n",
    "\n",
    "    x = scipy.linalg.inv(U)@(scipy.linalg.inv(P@L)@ d) # solution of the linear system\n",
    "\n",
    "    print(\" IS-LM model: closed economy \\\n",
    "           \\nexogenous variables: \\nG = {}; T = {}; M = {}; P = {} \".format(G_bar,T_bar, M_bar, P_bar),\n",
    "          \"\\n-----------------------------------------------------------\\\n",
    "          \\nproduct, Y = {0:.2f}，\\\n",
    "          \\nconsumption, C = {1:.2f}, \\\n",
    "          \\ninvestment, I = {2:.2f}，\\\n",
    "          \\ninterest rate (%), r = {3:.2f}\".format(x[0],x[1],x[2],x[3]*100  ))\n",
    "    \n",
    "    # plot the solution : IS−LM diagram\n",
    "\n",
    "    # generate a grid on Y; \n",
    "    # in this case, since this is a line, only 2 points would have been enough\n",
    "\n",
    "    Y = np.linspace(0.95*x[0],1.05*x[0], num=100) \n",
    "\n",
    "    # IS : I=Y−C−G and I=I_bar−br expressed in terms of r\n",
    "\n",
    "    C = C_bar+c*(Y-T_bar ) \n",
    "\n",
    "    I =Y-C-G_bar \n",
    "\n",
    "    IS=( I_bar-I ) / b  \n",
    "\n",
    "    # LM: M_bar/P_bar=kY−hR expressed in terms of r\n",
    "\n",
    "    LM = 1/h*( k*Y-M_bar / P_bar ) \n",
    "    \n",
    "    # policy shock\n",
    "    G_bar = new_G_bar #government spending \n",
    "    T_bar = new_T_bar # tax on income \n",
    "    M_bar = new_M_bar # money supply \n",
    "\n",
    "    # x = [Y,C,I,r] , vector of the endogeneous variables \n",
    "    # d, vector of the exogeneous variables \n",
    "\n",
    "    d = np.array([ G_bar , C_bar - c*T_bar , I_bar , M_bar/P_bar ] )\n",
    "    \n",
    "    \n",
    "    # compute the endogenous variables \n",
    "    P, L ,U = scipy.linalg.lu(A) # LU factorization \n",
    "\n",
    "    new_x = scipy.linalg.inv(U)@(scipy.linalg.inv(P@L)@ d) # solution of the linear system\n",
    "\n",
    "    print(\"\\n New IS-LM model: closed economy \\\n",
    "          \\nshock: \\nexogenous variables: \\nG = {}; T = {}; M = {}; P = {} \".format(G_bar,T_bar, M_bar, P_bar),\n",
    "          \n",
    "          \"\\n-----------------------------------------------------------\\\n",
    "          \\nproduct, Y = {0:.2f}，\\\n",
    "          \\nconsumption, C = {1:.2f}, \\\n",
    "          \\ninvestment, I = {2:.2f}，\\\n",
    "          \\ninterest rate (%), r = {3:.2f}\".format(new_x[0],new_x[1],new_x[2],new_x[3]*100  ))\n",
    "    \n",
    "    # plot the solution : IS−LM diagram\n",
    "\n",
    "    # generate a grid on Y; in this case, since this is a line, only 2 points would have been enough\n",
    "\n",
    "    new_Y = np.linspace(0.95*new_x[0],1.05*new_x[0], num=100) \n",
    "\n",
    "    # IS : I=Y−C−G and I=I_bar−br expressed in terms of r\n",
    "\n",
    "    new_C = C_bar+c*(new_Y-T_bar ) \n",
    "\n",
    "    new_I =new_Y-new_C-G_bar \n",
    "\n",
    "    new_IS=( I_bar-new_I ) / b  \n",
    "\n",
    "    # LM: M_bar/P_bar=kY−hr expressed in terms of r\n",
    "\n",
    "    new_LM = 1/h*( k*new_Y-M_bar / P_bar ) \n",
    "\n",
    "    fig, ax = plt.subplots(figsize=(8,8));\n",
    "    ax.spines['right'].set_visible(False);\n",
    "    ax.spines['top'].set_visible(False);\n",
    "    ax.grid();\n",
    "    ax.plot(Y, IS , '--b', label='IS line');\n",
    "    ax.plot(Y, LM,  color='red', linewidth=2.0, linestyle='-', label='LM line');\n",
    "    ax.plot(new_Y, new_IS , '--b', linewidth=4.0, label='new IS line');\n",
    "    ax.plot(new_Y, new_LM,  color='red', linewidth=4.0, linestyle='-', label='new LM line');\n",
    "    ax.set_xlabel(r'$y$', fontsize=16);\n",
    "    ax.set_ylabel(r'$r$', fontsize=16);\n",
    "    #plt.xlim((500, 560))\n",
    "    #plt.ylim((0.036, 0.054))\n",
    "    plt.title(newTitle);\n",
    "    plt.legend();\n",
    "    \n",
    "    \n",
    "    \n",
    "    "
   ]
  },
  {
   "cell_type": "code",
   "execution_count": null,
   "metadata": {},
   "outputs": [],
   "source": [
    "ISLM(new_G_bar = 200, new_T_bar = 110, new_M_bar = 220.00, \n",
    "     newTitle= r'Expansion of money supply ($\\bar M$ increases by 20%)')"
   ]
  },
  {
   "cell_type": "code",
   "execution_count": null,
   "metadata": {
    "collapsed": true
   },
   "outputs": [],
   "source": [
    "from ipywidgets import interact, fixed"
   ]
  },
  {
   "cell_type": "code",
   "execution_count": null,
   "metadata": {
    "collapsed": true
   },
   "outputs": [],
   "source": [
    "new_G_bar = 200\n",
    "new_T_bar = 110\n",
    "new_M_bar = 200\n",
    "\n",
    "\n",
    "Gmin, Gmax = 180, 220\n",
    "Tmin, Tmax = 100, 120\n",
    "Mmin, Mmax = 180,220"
   ]
  },
  {
   "cell_type": "code",
   "execution_count": null,
   "metadata": {
    "collapsed": true
   },
   "outputs": [],
   "source": [
    "def ISLM_interact_plot(new_G_bar = new_G_bar, new_T_bar = new_T_bar, new_M_bar = new_M_bar):\n",
    "    ISLM(new_G_bar = new_G_bar, new_T_bar = new_T_bar, new_M_bar = new_M_bar, \n",
    "     newTitle= r'The Impact of Policy Shock on IS-LM Model')"
   ]
  },
  {
   "cell_type": "code",
   "execution_count": null,
   "metadata": {
    "collapsed": true
   },
   "outputs": [],
   "source": []
  },
  {
   "cell_type": "code",
   "execution_count": null,
   "metadata": {},
   "outputs": [],
   "source": [
    "interact(ISLM_interact_plot,\n",
    "         new_G_bar=(Gmin,Gmax,1),\n",
    "         new_T_bar=(Tmin,Tmax,1), \n",
    "         new_M_bar=(Mmin,Mmax,1)\n",
    "        );"
   ]
  },
  {
   "cell_type": "code",
   "execution_count": null,
   "metadata": {
    "collapsed": true
   },
   "outputs": [],
   "source": []
  }
 ],
 "metadata": {
  "kernelspec": {
   "display_name": "Python 3",
   "language": "python",
   "name": "python3"
  },
  "language_info": {
   "codemirror_mode": {
    "name": "ipython",
    "version": 3
   },
   "file_extension": ".py",
   "mimetype": "text/x-python",
   "name": "python",
   "nbconvert_exporter": "python",
   "pygments_lexer": "ipython3",
   "version": "3.6.2"
  }
 },
 "nbformat": 4,
 "nbformat_minor": 2
}
