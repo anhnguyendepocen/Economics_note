{
 "cells": [
  {
   "cell_type": "code",
   "execution_count": null,
   "metadata": {
    "collapsed": true
   },
   "outputs": [],
   "source": [
    "import numpy as np\n",
    "import scipy.linalg as la\n",
    "import sympy as sym\n",
    "sym.init_printing(use_unicode=False, wrap_line=False, no_global=True)\n",
    "\n",
    "\n",
    "%matplotlib inline\n",
    "import matplotlib.pyplot as plt\n",
    "import matplotlib as mpl\n",
    "#mpl.rcParams['savefig.dpi'] = 80\n",
    "mpl.rcParams['figure.dpi'] = 80\n",
    "# from IPython.display import set_matplotlib_formats\n",
    "# set_matplotlib_formats('png', 'pdf')\n",
    "%config InlineBackend.figure_format = 'retina'\n",
    "#https://www.dataquest.io/blog/jupyter-notebook-tips-tricks-shortcuts/\n",
    "\n",
    "\n",
    "\n",
    "import seaborn as sns\n",
    "sns.set()\n",
    "#sns.set_style(style= \"whitegrid\")\n",
    "#plt.style.available\n",
    "plt.style.use('fivethirtyeight')\n",
    "\n"
   ]
  },
  {
   "cell_type": "markdown",
   "metadata": {},
   "source": [
    "# 0. Monte Carlo integration in Python\n",
    "\n",
    "ref: \n",
    "\n",
    "http://barnesanalytics.com/monte-carlo-integration-in-python\n",
    "\n",
    "http://people.duke.edu/~ccc14/sta-663-2016/15C_MonteCarloIntegration.html\n",
    "\n",
    "https://people.duke.edu/~ccc14/sta-663/MonteCarlo.html\n",
    "\n",
    "## 0.1 Monte Carlo integration\n",
    "\n",
    "Suppose we want to find the value of\n",
    "\n",
    "$$\\int_a^b f(x) dx$$\n",
    "\n",
    "in some region with volumne $V$. \n",
    "\n",
    "**Monte Carlo integration estimates this integral by estimaing the fraction of random points that fall below $f(x)$ multiplied by $V$.**\n",
    "\n",
    "## 0.2 Monte Carlo integration to estimate the expectation\n",
    "\n",
    "In a statistical context, we use Monte Carlo integration to estimate the expectation\n",
    "\n",
    "$$E[h(X)] = \\int_X h(x) f(x) dx$$\n",
    "\n",
    "with\n",
    "\n",
    "\n",
    "$$\\bar{h_n} = \\frac{1}{n} \\sum_{i=1}^n h(x_i)$$\n",
    "\n",
    "where $x_i \\sim f$ is a draw from the density $f$.\n",
    "\n",
    "We can estimate the Monte Carlo variance of the approximation as\n",
    "\n",
    "$$v_n = \\frac{1}{n} \\sum_{o=1}^n (h(x_i) - \\bar{h_n})^2)$$\n",
    "\n",
    "Also, from the Central Limit Theorem,\n",
    "\n",
    "$$\\frac{\\bar{h_n} - E[h(X)]}{\\sqrt{v_n}} \\sim \\mathcal{N}(0, 1)$$\n",
    "\n",
    "\n",
    "The convergence of Monte Carlo integration is $\\mathcal{0}(n^{1/2})$ and independent of the dimensionality. Hence Monte Carlo integration gnereally beats numerical intergration for moderate- and high-dimensional integration since numerical integration (quadrature) converges as $\\mathcal{0}(n^{d})$. \n",
    "\n",
    "Even for low dimensional problems, Monte Carlo integration may have an advantage when the volume to be integrated is concentrated in a very small region and we can use information from the distribution to draw samples more often in the region of importance.\n",
    "\n",
    "##### Example\n",
    "We want to estiamte the following integral $\\int_0^1 e^x dx$. The minimum value of the function is 1 at $x=0$ and $e$ at $x=1$."
   ]
  },
  {
   "cell_type": "code",
   "execution_count": null,
   "metadata": {},
   "outputs": [],
   "source": [
    "a,b = 0,1\n",
    "\n",
    "x = np.linspace(0, 1, 100)\n",
    "fig = plt.figure( figsize = (8,8) )\n",
    "ax = fig.add_subplot(111)\n",
    "ax.plot(x, np.exp(x));\n",
    "pts = np.random.uniform(a,b,(500, 2))\n",
    "pts[:, 1] *= np.e\n",
    "ax.scatter(pts[:, 0], pts[:, 1])\n",
    "ax.set_xlim([0,1])\n",
    "ax.set_ylim([0, np.e]);"
   ]
  },
  {
   "cell_type": "code",
   "execution_count": null,
   "metadata": {},
   "outputs": [],
   "source": [
    "# sympy\n",
    "import sympy\n",
    "x = sympy.symbols('x')\n",
    "sympy.integrate(sympy.exp(x), (x,0,1)).evalf()"
   ]
  },
  {
   "cell_type": "code",
   "execution_count": null,
   "metadata": {},
   "outputs": [],
   "source": [
    "#scipy\n",
    "from scipy import integrate\n",
    "integrate.quad(np.exp, 0, 1)"
   ]
  },
  {
   "cell_type": "markdown",
   "metadata": {},
   "source": [
    "We can transform it to $\\int_0^1 e^x 1 dx$, pdf $f$ is $1$ as uniform distribution.\n",
    "\n",
    "$$E[h(X)] = \\int_0^1 e^x 1 dx$$\n",
    "\n",
    "with\n",
    "\n",
    "\n",
    "$$\\bar{h_n} = \\frac{1}{n} \\sum_{i=1}^n e^x$$"
   ]
  },
  {
   "cell_type": "code",
   "execution_count": null,
   "metadata": {},
   "outputs": [],
   "source": [
    "# Monte Carlo approximation\n",
    "# since we can transform it to \n",
    "for n in 10**np.array([1,2,3,4,5,6,7,8]):\n",
    "    x = np.random.uniform(0, 1, n)\n",
    "    sol = np.mean(np.exp(x))\n",
    "    print('%10d %.6f' % (n, sol))"
   ]
  },
  {
   "cell_type": "code",
   "execution_count": null,
   "metadata": {
    "collapsed": true
   },
   "outputs": [],
   "source": [
    "# basic idea\n",
    "def my_integrate(a,b,func=np.exp,n=100000):\n",
    "    X=np.linspace(a,b,1000)\n",
    "    y1=0\n",
    "    y2=max((func(X)))+1\n",
    "    print('a:%10d b:%10d y1:%.6f y2:%.6f' % (a,b,y1,y2))\n",
    "    area=(b-a)*(y2-y1)\n",
    "    check=[]\n",
    "    xs=[]\n",
    "    ys=[]\n",
    "    for i in range(n):\n",
    "        x=np.random.uniform(a,b,1)\n",
    "        xs.append(x)\n",
    "        y=np.random.uniform(y1,y2,1)\n",
    "        ys.append(y)\n",
    "        #Monte Carlo integration estimates this integral by estimaing the fraction of random points that fall below $f(x)$ multiplied by $V$.\n",
    "\n",
    "        if abs(y)>abs(func(x)) or y<0:\n",
    "            check.append(0)\n",
    "        else:\n",
    "            check.append(1)\n",
    "    print(np.mean(check))\n",
    "    return(np.mean(check)*area,xs,ys,check)\n",
    "# TOO SLOW\n",
    "# vectorization by using numpy\n",
    "def my_integrate(a,b,func=np.exp,n=100):\n",
    "    X=np.linspace(a,b,1000)\n",
    "    y1=0\n",
    "    y2=max((func(X)))  #+1\n",
    "    print('a:%d b:%d y1:%.6f y2:%.6f' % (a,b,y1,y2))\n",
    "    area=(b-a)*(y2-y1)\n",
    "    check=np.zeros(n)\n",
    "    xs=np.random.uniform(a,b,n)\n",
    "    ys=np.random.uniform(y1,y2,n)\n",
    "    check = np.logical_not(np.bitwise_or(abs(ys)>abs(func(xs)), ys<0) )\n",
    "    #Monte Carlo integration estimates this integral by estimaing the fraction of random points that fall below $f(x)$ multiplied by $V$.\n",
    "    print(np.mean(check))\n",
    "    return(np.mean(check)*area,xs,ys,check)"
   ]
  },
  {
   "cell_type": "code",
   "execution_count": null,
   "metadata": {},
   "outputs": [],
   "source": [
    "for n in 10**np.array([2,4,6,7]):\n",
    "    sol = my_integrate(a,b,np.exp,n)[0]\n",
    "    print('n:%10d solution:%.6f' % (n, sol))"
   ]
  },
  {
   "cell_type": "code",
   "execution_count": null,
   "metadata": {},
   "outputs": [],
   "source": [
    "import pandas as pd\n",
    "_,x,y,c=my_integrate(a,b,n=1000)\n",
    "df=pd.DataFrame()\n",
    "df['x']=x\n",
    "df['y']=y\n",
    "df['c']=c\n",
    "\n",
    "fig = plt.figure( figsize = (8,8) )\n",
    "ax = fig.add_subplot(111)\n",
    "\n",
    "X=np.linspace(a,b,1000)\n",
    "ax.plot(X,np.exp(X))\n",
    "\n",
    "ax.scatter(df[df['c']== False]['x'],df[df['c'] == False]['y'],color='red')\n",
    "ax.scatter(df[df['c']]['x'],df[df['c']]['y'],color='blue')\n",
    "plt.show()"
   ]
  },
  {
   "cell_type": "code",
   "execution_count": null,
   "metadata": {
    "collapsed": true
   },
   "outputs": [],
   "source": []
  },
  {
   "cell_type": "markdown",
   "metadata": {},
   "source": [
    "##  1. basics of HTML \n",
    "\n",
    "https://blog.hartleybrody.com/web-scraping-cheat-sheet/\n",
    "\n",
    "https://data-lessons.github.io/library-webscraping/\n",
    "\n",
    "https://medium.freecodecamp.org/how-to-scrape-websites-with-python-and-beautifulsoup-5946935d93fe\n",
    "\n",
    "https://www.dataquest.io/blog/web-scraping-beautifulsoup/\n",
    "\n",
    "https://realpython.com/python-web-scraping-practical-introduction/\n",
    "\n",
    "http://docs.python-guide.org/en/latest/scenarios/scrape/"
   ]
  },
  {
   "cell_type": "markdown",
   "metadata": {},
   "source": [
    "### 1.0.1 One example"
   ]
  },
  {
   "cell_type": "code",
   "execution_count": null,
   "metadata": {},
   "outputs": [],
   "source": [
    "%%html\n",
    "<!DOCTYPE html>  \n",
    "<html>  \n",
    "    <head>\n",
    "    </head>\n",
    "    <body>\n",
    "        <h1> First Scraping </h1>\n",
    "        <p> Hello World </p>\n",
    "    <body>\n",
    "</html>"
   ]
  },
  {
   "cell_type": "markdown",
   "metadata": {},
   "source": [
    " ## 1.1 The basic syntax of an HTML webpage\n",
    " \n",
    "    1. <!DOCTYPE html>: HTML documents must start with a type declaration.\n",
    "\n",
    "    2. The HTML document is contained between <html> and </html>.\n",
    "\n",
    "    3. The meta and script declaration of the HTML document is between <head> and </head>.\n",
    "\n",
    "    4. The visible part of the HTML document is between <body> and </body> tags.\n",
    "\n",
    "    5. Title headings are defined with the <h1> through <h6> tags.\n",
    "\n",
    "    6. Paragraphs are defined with the <p> tag.\n",
    "\n",
    "    7. Other useful tags include <a> for hyperlinks, <table> for tables, <tr> for table rows, and <td> for table columns.\n",
    "\n",
    "    8. Also, HTML tags sometimes come with `id` or `class` attributes. The id attribute specifies a unique id for an HTML tag and the value must be unique within the HTML document. \n",
    "    \n",
    "    9. The class attribute is used to define equal styles for HTML tags with the same class. We can make use of these ids and classes to help us locate the data we want.\n",
    "    \n",
    "    \n",
    "more on [html](https://www.w3schools.com/html/html_intro.asp)    "
   ]
  },
  {
   "cell_type": "markdown",
   "metadata": {},
   "source": [
    "### 1.0.2 One example"
   ]
  },
  {
   "cell_type": "code",
   "execution_count": null,
   "metadata": {},
   "outputs": [],
   "source": [
    "%%html\n",
    "<!DOCTYPE html>  \n",
    "<html>  \n",
    "    <head>\n",
    "    <!-- You can also include some CSS inline in your markup. -->\n",
    "    <style>\n",
    "       a {color: purple;}\n",
    "       \n",
    "       h1 {\n",
    "          font-size: 2em;\n",
    "          color: white;\n",
    "          background-color: black;\n",
    "        } \n",
    "       \n",
    "       .item {\n",
    "           color: red;\n",
    "        }\n",
    "        \n",
    "    </style>\n",
    "    </head>\n",
    "<body>\n",
    "<h1>My Watch</h1>\n",
    "<div id=\"listings_prices\">\n",
    " <div class=\"item\">\n",
    "  <li class=\"item_name\">Watch</li>\n",
    "  <div class=\"main_price\">Price: $66.68</div>\n",
    "       <div class=\"discounted_price\">Discounted price: $46.68</div>\n",
    "   </div>\n",
    "   <div class=\"item\">\n",
    "  <li class=\"item_name\">Watch2</li>\n",
    "  <div class=\"main_price\">Price: $56.68</div>\n",
    "   </div>\n",
    "</div>\n",
    "</body>\n",
    "</html>"
   ]
  },
  {
   "cell_type": "markdown",
   "metadata": {},
   "source": [
    "## 1.1 Python script using 'class' attributs\n",
    "\n",
    "    from bs4 import BeautifulSoup\n",
    "    import requests\n",
    "    page_link ='test.html'\n",
    "    # fetch the content from url\n",
    "    page_response = requests.get(page_link, timeout=5)\n",
    "    # parse html\n",
    "    page_content = BeautifulSoup(page_response.content, \"html.parser\")\n",
    "\n",
    "    # extract all html elements where price is stored\n",
    "    prices = page_content.find_all(class_='main_price')\n",
    "    # prices has a form:\n",
    "    #[<div class=\"main_price\">Price: $66.68</div>,\n",
    "    # <div class=\"main_price\">Price: $56.68</div>]\n",
    "\n",
    "    # you can also access the main_price class by specifying the tag of the class\n",
    "    prices = page_content.find_all('div', attrs={'class':'main_price'})"
   ]
  },
  {
   "cell_type": "code",
   "execution_count": null,
   "metadata": {
    "collapsed": true
   },
   "outputs": [],
   "source": []
  },
  {
   "cell_type": "code",
   "execution_count": null,
   "metadata": {
    "collapsed": true
   },
   "outputs": [],
   "source": []
  },
  {
   "cell_type": "code",
   "execution_count": null,
   "metadata": {
    "collapsed": true
   },
   "outputs": [],
   "source": []
  },
  {
   "cell_type": "markdown",
   "metadata": {},
   "source": [
    "## 1.2 One real exampl\n",
    "\n",
    "\n",
    "https://www.bloomberg.com/quote/SPX:IND\n",
    "\n",
    "From the result, we can see that the price is inside a few levels of HTML tags, which is `<div class=\"basic-quote\">` → `<div class=\"price-container up\">` → `<div class=\"price\">`.\n",
    "\n",
    "\n",
    "\n",
    "Similarly, if you hover and click the name “S&P 500 Index”, it is inside `<div class=\"basic-quote\">` and `<h1 class=\"name\">`."
   ]
  },
  {
   "cell_type": "code",
   "execution_count": null,
   "metadata": {
    "collapsed": true
   },
   "outputs": [],
   "source": [
    "from bs4 import BeautifulSoup\n",
    "import requests\n",
    "page_link ='https://www.bloomberg.com/quote/SPX:IND'\n",
    "# fetch the content from url\n",
    "page_response = requests.get(page_link, timeout=5)\n",
    "# parse html\n",
    "page_content = BeautifulSoup(page_response.content, \"html.parser\")\n",
    "\n",
    "\n"
   ]
  },
  {
   "cell_type": "markdown",
   "metadata": {},
   "source": [
    "### Price info"
   ]
  },
  {
   "cell_type": "code",
   "execution_count": null,
   "metadata": {},
   "outputs": [],
   "source": [
    "# extract all html elements where price is stored\n",
    "prices = page_content.find_all(class_='price')\n",
    "\n",
    "prices"
   ]
  },
  {
   "cell_type": "code",
   "execution_count": null,
   "metadata": {},
   "outputs": [],
   "source": [
    "# you can also access the main_price class by specifying the tag of the class\n",
    "prices1 = page_content.find_all('div', attrs={'class':'price'})\n",
    "prices1"
   ]
  },
  {
   "cell_type": "markdown",
   "metadata": {},
   "source": [
    "BS will work with special bs4 data structures, which inherit the built-in Python structures. \n",
    "\n",
    "So a list of posts will yield a `bs4.element.ResultSet` and each individual entry will be a `bs4.element.Tag`."
   ]
  },
  {
   "cell_type": "code",
   "execution_count": null,
   "metadata": {},
   "outputs": [],
   "source": [
    "type(prices1)"
   ]
  },
  {
   "cell_type": "code",
   "execution_count": null,
   "metadata": {},
   "outputs": [],
   "source": [
    "type(prices1[0])"
   ]
  },
  {
   "cell_type": "code",
   "execution_count": null,
   "metadata": {},
   "outputs": [],
   "source": [
    "prices1[0].text"
   ]
  },
  {
   "cell_type": "code",
   "execution_count": null,
   "metadata": {
    "collapsed": true
   },
   "outputs": [],
   "source": []
  },
  {
   "cell_type": "markdown",
   "metadata": {},
   "source": [
    "### Ticker info"
   ]
  },
  {
   "cell_type": "code",
   "execution_count": null,
   "metadata": {},
   "outputs": [],
   "source": [
    "# extract all html elements where price is stored\n",
    "ticker = page_content.find_all(class_='ticker')\n",
    "ticker"
   ]
  },
  {
   "cell_type": "code",
   "execution_count": null,
   "metadata": {},
   "outputs": [],
   "source": [
    "# you can also access the main_price class by specifying the tag of the class\n",
    "ticker1 = page_content.find_all('div', attrs={'class':'ticker'})\n",
    "ticker1"
   ]
  },
  {
   "cell_type": "code",
   "execution_count": null,
   "metadata": {},
   "outputs": [],
   "source": [
    "ticker1[0].text.strip() # strip() is used to remove starting "
   ]
  },
  {
   "cell_type": "code",
   "execution_count": null,
   "metadata": {
    "collapsed": true
   },
   "outputs": [],
   "source": []
  },
  {
   "cell_type": "markdown",
   "metadata": {},
   "source": [
    "## 2 The Watch brand, price, and information\n",
    "\n",
    "https://www.thebay.com/webapp/wcs/stores/servlet/en/thebay/brand/komono?sre=MHP_WL_WHATSNEW3_L3\n",
    "\n",
    "Extract the brand, price and information for the watch on the webpage."
   ]
  },
  {
   "cell_type": "code",
   "execution_count": null,
   "metadata": {
    "collapsed": true
   },
   "outputs": [],
   "source": []
  },
  {
   "cell_type": "code",
   "execution_count": null,
   "metadata": {
    "collapsed": true
   },
   "outputs": [],
   "source": []
  },
  {
   "cell_type": "code",
   "execution_count": null,
   "metadata": {
    "collapsed": true
   },
   "outputs": [],
   "source": [
    "page_link ='https://www.thebay.com/webapp/wcs/stores/servlet/en/thebay/brand/komono?sre=MHP_WL_WHATSNEW3_L3'\n",
    "# fetch the content from url\n",
    "page_response = requests.get(page_link, timeout=5)\n",
    "# parse html\n",
    "page_content = BeautifulSoup(page_response.content, \"html.parser\")\n",
    "\n"
   ]
  },
  {
   "cell_type": "code",
   "execution_count": null,
   "metadata": {},
   "outputs": [],
   "source": [
    "print(page_content)"
   ]
  },
  {
   "cell_type": "code",
   "execution_count": null,
   "metadata": {
    "collapsed": true
   },
   "outputs": [],
   "source": [
    "# extract all html elements where price is stored\n",
    "prices = page_content.find_all(class_='pro_price_black')\n",
    "\n",
    "# you can also access the main_price class by specifying the tag of the class\n",
    "prices = page_content.find_all('div', attrs={'class':'pro_price_black'})"
   ]
  },
  {
   "cell_type": "code",
   "execution_count": null,
   "metadata": {},
   "outputs": [],
   "source": [
    "%%html\n",
    "<div class=\"pro_price_black\" id=\"WC_CatalogEntryDBThumbnailDisplayJSPF_6555148_div_10\">\t\n",
    "\t$295.00\n",
    "\t</div>"
   ]
  },
  {
   "cell_type": "code",
   "execution_count": null,
   "metadata": {},
   "outputs": [],
   "source": [
    "prices"
   ]
  },
  {
   "cell_type": "code",
   "execution_count": null,
   "metadata": {},
   "outputs": [],
   "source": [
    "[i.text.strip() for i in prices ]"
   ]
  },
  {
   "cell_type": "code",
   "execution_count": null,
   "metadata": {},
   "outputs": [],
   "source": [
    "%%html\n",
    "<a class=\"tit\" onmouseover=\"javascript:this.href = catEntryDisplayUrl_6555148\" href=\"http://www.thebay.com/webapp/wcs/stores/servlet/en/thebay/walther-retrograde-chronograph-rose-goldtone-metal-mesh-bracelet-watch-0600089731631--24\" escapexml=\"false\">KOMONO</a>"
   ]
  },
  {
   "cell_type": "code",
   "execution_count": null,
   "metadata": {},
   "outputs": [],
   "source": [
    "# extract all html elements where brand name is stored\n",
    "brands = page_content.find_all(class_='tit')\n",
    "\n",
    "brands"
   ]
  },
  {
   "cell_type": "code",
   "execution_count": null,
   "metadata": {},
   "outputs": [],
   "source": [
    "[i.text.strip() for i in brands ]"
   ]
  },
  {
   "cell_type": "code",
   "execution_count": null,
   "metadata": {},
   "outputs": [],
   "source": [
    "%%html\n",
    "<div class=\"info\" id=\"WC_CatalogEntryDBThumbnailDisplayJSPF_6555148_div_9b\">\n",
    "\t\t<a id=\"WC_CatalogEntryDBThumbnailDisplayJSPF_6555148_link_9b\" onmouseover=\"javascript:this.href = catEntryDisplayUrl_6555148\" href=\"http://www.thebay.com/webapp/wcs/stores/servlet/en/thebay/walther-retrograde-chronograph-rose-goldtone-metal-mesh-bracelet-watch-0600089731631--24\" escapexml=\"false\">\n",
    "\t\t\t\tWalther Retrograde Chronograph Rose Goldtone Metal Mesh Bracelet Watch\n",
    "\t\t</a>\n",
    "\t</div>\n"
   ]
  },
  {
   "cell_type": "code",
   "execution_count": null,
   "metadata": {},
   "outputs": [],
   "source": [
    "# extract all html elements where brand name is stored\n",
    "infos = page_content.find_all(class_='info')\n",
    "\n",
    "infos"
   ]
  },
  {
   "cell_type": "code",
   "execution_count": null,
   "metadata": {},
   "outputs": [],
   "source": [
    "infos[0].text.strip() # strip() is used to remove starting "
   ]
  },
  {
   "cell_type": "code",
   "execution_count": null,
   "metadata": {},
   "outputs": [],
   "source": [
    "[i.text.strip() for i in infos ]"
   ]
  },
  {
   "cell_type": "code",
   "execution_count": null,
   "metadata": {},
   "outputs": [],
   "source": [
    "type([i.text.strip() for i in infos ])"
   ]
  },
  {
   "cell_type": "code",
   "execution_count": null,
   "metadata": {
    "collapsed": true
   },
   "outputs": [],
   "source": [
    "import pandas as pd\n",
    "mydataframe = pd.DataFrame.from_items([\n",
    "    ('price', [i.text.strip() for i in prices]),\n",
    "    ('brand', [i.text.strip() for i in brands]),\n",
    "   ( 'info',[i.text.strip() for i in infos])\n",
    "]  )\n",
    "#http://pbpython.com/pandas-list-dict.html"
   ]
  },
  {
   "cell_type": "code",
   "execution_count": null,
   "metadata": {},
   "outputs": [],
   "source": [
    "mydataframe "
   ]
  },
  {
   "cell_type": "markdown",
   "metadata": {
    "collapsed": true
   },
   "source": [
    "## 3 A set of procedure \n",
    "\n",
    "Putting several of these concepts together, here’s a common idiom: iterating over a bunch of container tags and pull out content from each of them\n",
    "\n",
    "    for product in page_content.find_all(\"div\", \"products\"):\n",
    "        product_title = product.find(\"h3\").text\n",
    "        product_price = product.find(\"span\", \"price\").text\n",
    "        product_url = product.find(\"a\")[\"href\"]\n",
    "        print \"{} is selling for {} at {}\".format(product_title, product_price, product_url)"
   ]
  },
  {
   "cell_type": "code",
   "execution_count": null,
   "metadata": {
    "collapsed": true
   },
   "outputs": [],
   "source": [
    "from bs4 import BeautifulSoup\n",
    "import requests\n",
    "page_link ='https://www.bestbuy.ca/en-CA/Search/SearchResults.aspx?&filter=category%3aComputers+%26+Tablets%3bcategory%3aTablets+%26+iPads%3bcategory%3aApple+iPads%3bcustom0ipadmodelseries%3aiPad+Pro&lang=en-ca'\n",
    "# fetch the content from url\n",
    "page_response = requests.get(page_link, timeout=5)\n",
    "# parse html\n",
    "page_content = BeautifulSoup(page_response.content, \"html.parser\")\n"
   ]
  },
  {
   "cell_type": "code",
   "execution_count": null,
   "metadata": {},
   "outputs": [],
   "source": [
    "#page_content"
   ]
  },
  {
   "cell_type": "code",
   "execution_count": null,
   "metadata": {},
   "outputs": [],
   "source": [
    "\n",
    "# you can also access the class by specifying the tag of the class\n",
    "stats = page_content.find_all(class_='prod-info')\n",
    "stats"
   ]
  },
  {
   "cell_type": "code",
   "execution_count": null,
   "metadata": {},
   "outputs": [],
   "source": [
    "stats[0].find(\"h4\").text"
   ]
  },
  {
   "cell_type": "code",
   "execution_count": null,
   "metadata": {},
   "outputs": [],
   "source": [
    "stats[0].find(class_='prodprice').text.strip()"
   ]
  },
  {
   "cell_type": "code",
   "execution_count": null,
   "metadata": {},
   "outputs": [],
   "source": [
    "stats[0].find(\"a\")[\"href\"]"
   ]
  },
  {
   "cell_type": "code",
   "execution_count": null,
   "metadata": {},
   "outputs": [],
   "source": [
    "for product in page_content.find_all(class_='prod-info'):\n",
    "    product_title = product.find(\"h4\").text\n",
    "    product_price = product.find(class_='prodprice').text.strip()\n",
    "    product_url = product.find(\"a\")[\"href\"]\n",
    "    print( \"{} is selling for {} at {}\".format(product_title, product_price, product_url))"
   ]
  },
  {
   "cell_type": "code",
   "execution_count": null,
   "metadata": {
    "collapsed": true
   },
   "outputs": [],
   "source": []
  },
  {
   "cell_type": "markdown",
   "metadata": {},
   "source": [
    "## Pandas for tables"
   ]
  },
  {
   "cell_type": "code",
   "execution_count": null,
   "metadata": {
    "collapsed": true
   },
   "outputs": [],
   "source": [
    "import pandas as pd\n",
    "import matplotlib.pyplot as plt\n",
    "import matplotlib\n",
    "matplotlib.style.use('ggplot')\n",
    "\n",
    "url = 'https://en.wikipedia.org/wiki/List_of_countries_by_GDP_(nominal)'\n",
    "\n",
    "tables = pd.read_html(url,thousands=' ', header=0, index_col=0)\n"
   ]
  },
  {
   "cell_type": "code",
   "execution_count": null,
   "metadata": {},
   "outputs": [],
   "source": [
    "tables[2]"
   ]
  }
 ],
 "metadata": {
  "kernelspec": {
   "display_name": "Python 3",
   "language": "python",
   "name": "python3"
  },
  "language_info": {
   "codemirror_mode": {
    "name": "ipython",
    "version": 3
   },
   "file_extension": ".py",
   "mimetype": "text/x-python",
   "name": "python",
   "nbconvert_exporter": "python",
   "pygments_lexer": "ipython3",
   "version": "3.6.2"
  }
 },
 "nbformat": 4,
 "nbformat_minor": 2
}
