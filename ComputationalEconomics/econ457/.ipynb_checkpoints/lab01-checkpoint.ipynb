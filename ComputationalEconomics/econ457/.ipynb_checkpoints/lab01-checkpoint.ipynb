{
 "cells": [
  {
   "cell_type": "markdown",
   "metadata": {
    "slideshow": {
     "slide_type": "slide"
    }
   },
   "source": [
    "# ECON457 LAB01 2018 SPRING"
   ]
  },
  {
   "cell_type": "markdown",
   "metadata": {
    "ExecuteTime": {
     "end_time": "2018-01-06T06:14:03.639347Z",
     "start_time": "2018-01-06T06:14:03.636340Z"
    },
    "slideshow": {
     "slide_type": "slide"
    }
   },
   "source": [
    "- How many of you already learned programming?\n",
    "- How many of you learned Python？"
   ]
  },
  {
   "cell_type": "markdown",
   "metadata": {
    "slideshow": {
     "slide_type": "slide"
    }
   },
   "source": [
    "##  Jupyter notebooks for Python\n",
    "\n",
    "\n",
    "[Introduction to Syzygy](http://intro.syzygy.ca/)"
   ]
  },
  {
   "cell_type": "markdown",
   "metadata": {
    "slideshow": {
     "slide_type": "slide"
    }
   },
   "source": [
    "## Introduction to Python\n",
    "\n",
    "\n",
    "\n",
    "- [Scipy Lecture Notes](http://www.scipy-lectures.org/)\n",
    "\n",
    "- [Scientific Python Quickstart](http://nbviewer.jupyter.org/github/QuantEcon/QuantEcon.notebooks/blob/master/sci_python_quickstart.ipynb)\n",
    "\n",
    "\n",
    "- [Programming in Python](https://swcarpentry.github.io/python-novice-gapminder/)\n",
    "\n",
    "\n",
    "- [Video: Python Course](https://www.youtube.com/watch?v=pB3BFP001co)\n",
    " - 00:41:44 Data structure: tuple, list, dictionary"
   ]
  },
  {
   "cell_type": "markdown",
   "metadata": {
    "slideshow": {
     "slide_type": "slide"
    }
   },
   "source": [
    "## Scientific Computing in Python\n",
    "\n",
    "\n",
    "\n",
    "- [Lectures in Quantitative Economics: Introduction to Python](https://lectures.quantecon.org/py/learning_python.html)\n",
    "\n",
    "\n",
    "\n",
    "- [Video: Scientific Python Course](https://www.youtube.com/watch?v=x-5WNfopFTc)\n",
    "\n",
    " - 00:00:00 Numpy\n",
    " - 00:55:20 Pandas\n",
    " - 02:35:00 Tools for Scientific Python"
   ]
  },
  {
   "cell_type": "markdown",
   "metadata": {
    "slideshow": {
     "slide_type": "slide"
    }
   },
   "source": [
    "## Data Science in Python\n",
    "[PythonDataScienceHandbook](https://jakevdp.github.io/PythonDataScienceHandbook/)"
   ]
  },
  {
   "cell_type": "code",
   "execution_count": null,
   "metadata": {},
   "outputs": [],
   "source": []
  }
 ],
 "metadata": {
  "celltoolbar": "Slideshow",
  "kernelspec": {
   "display_name": "Python 3",
   "language": "python",
   "name": "python3"
  },
  "language_info": {
   "codemirror_mode": {
    "name": "ipython",
    "version": 3
   },
   "file_extension": ".py",
   "mimetype": "text/x-python",
   "name": "python",
   "nbconvert_exporter": "python",
   "pygments_lexer": "ipython3",
   "version": "3.6.3"
  }
 },
 "nbformat": 4,
 "nbformat_minor": 2
}
