{
 "cells": [
  {
   "cell_type": "markdown",
   "metadata": {},
   "source": [
    "# Introduction\n",
    "\n",
    "\n",
    "## 1.1 Some Apparently Simple Questions\n",
    "\n",
    "## 1.2 An Alternative Analytic Framework\n",
    "\n",
    "Solved to a high degree of accuracy using numerical method"
   ]
  },
  {
   "cell_type": "markdown",
   "metadata": {},
   "source": [
    "\n",
    "Suppose now that the economist is presented with a  demand function\n",
    "\n",
    "$$q = 0.5* p^{-0.2} + 0.5*p^{-0.5}$$\n",
    "\n",
    "one that is the sum a domestic demand term and an export demand term.\n",
    "\n",
    "suppose that the economist is asked to find the price that clears the\n",
    "market of, say, a quantity of 2 units.\n",
    "\n",
    "\n"
   ]
  },
  {
   "cell_type": "code",
   "execution_count": null,
   "metadata": {
    "collapsed": true
   },
   "outputs": [],
   "source": [
    "# example 1.2\n",
    "\n",
    "p = 0.2\n",
    "for i in range(100):\n",
    "    deltap = (.5 * p **-.2 + .5 * p ** -.5 - 2)/(.1 * p **-1.2 + .25 * p **-1.5)\n",
    "    p = p + deltap\n",
    "    if abs(deltap) < 1.e-8: #  accuracy\n",
    "        break\n",
    "#https://stackoverflow.com/questions/20457038/python-how-to-round-down-to-2-decimals\n",
    "print('The market clearing price is {:0.2f} '.format(p))\n",
    "print('The number of iterations is',i)\n",
    "print('The last update is {:0.10f} '.format(deltap))"
   ]
  },
  {
   "cell_type": "code",
   "execution_count": null,
   "metadata": {
    "collapsed": true
   },
   "outputs": [],
   "source": [
    "# example 1.2\n",
    "\n",
    "#pnew = 0.2\n",
    "pnew = 0.35\n",
    "#Not always things work (it crashes because the price becomes negative)\n",
    "#pnew = 1.0\n",
    "\n",
    "for i in range(100):\n",
    "    \n",
    "    p=pnew\n",
    "    f=.5 * p **-.2 + .5 * p ** -.5 - 2\n",
    "    d=-.1 * p **-1.2 -.25 * p **-1.5\n",
    "    deltap = -f/d\n",
    "    pnew = p + deltap\n",
    "    \n",
    "    #Print itermediate steps\n",
    "    print('The current iteration is',i)\n",
    "    print('The current guess for the price is {:0.10f} '.format(p))\n",
    "    print('The current value for f is {:0.10f} '.format(f))\n",
    "    print('The current value for d is {:0.10f} '.format(d))\n",
    "    print('The current value for the update is {:0.10f} '.format(deltap))\n",
    "    print('_____________________________')\n",
    "    \n",
    "    if abs(deltap) < 1.e-8: #  accuracy\n",
    "        break\n",
    "#https://stackoverflow.com/questions/20457038/python-how-to-round-down-to-2-decimals\n",
    "print('The market clearing price is {:0.2f} '.format(p))\n",
    "print('The number of iterations is',i)\n",
    "print('The last update is {:0.10f} '.format(deltap))"
   ]
  }
 ],
 "metadata": {
  "kernelspec": {
   "display_name": "Python 3",
   "language": "python",
   "name": "python3"
  },
  "language_info": {
   "codemirror_mode": {
    "name": "ipython",
    "version": 3
   },
   "file_extension": ".py",
   "mimetype": "text/x-python",
   "name": "python",
   "nbconvert_exporter": "python",
   "pygments_lexer": "ipython3",
   "version": "3.5.2"
  }
 },
 "nbformat": 4,
 "nbformat_minor": 2
}
