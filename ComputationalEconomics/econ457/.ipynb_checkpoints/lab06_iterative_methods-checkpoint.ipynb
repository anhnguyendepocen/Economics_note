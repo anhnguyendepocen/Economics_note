{
 "cells": [
  {
   "cell_type": "code",
   "execution_count": 14,
   "metadata": {
    "ExecuteTime": {
     "end_time": "2018-02-22T19:48:17.678185Z",
     "start_time": "2018-02-22T19:48:17.645098Z"
    }
   },
   "outputs": [],
   "source": [
    "import numpy as np\n",
    "import scipy as sp\n",
    "\n",
    "from numpy import append, array, diagonal, tril, triu\n",
    "from numpy.linalg import inv\n",
    "from scipy.linalg import lu\n",
    "#from scipy.linalg import solve\n",
    "from pprint import pprint\n",
    "from numpy import array, zeros, diag, diagflat, dot\n",
    "\n",
    "from sympy import *\n",
    "import sympy as sym\n",
    "init_printing()\n",
    "\n",
    "import matplotlib as mpl\n",
    "# matplotlib for ploting\n",
    "from matplotlib import pyplot as plt\n",
    "from mpl_toolkits.mplot3d import Axes3D     # 3d\n",
    "# for inline interactive plotting\n",
    "%matplotlib notebook\n",
    "\n",
    "#mpl.rcParams['savefig.dpi'] = 80\n",
    "mpl.rcParams['figure.dpi'] = 80\n",
    "# from IPython.display import set_matplotlib_formats\n",
    "# set_matplotlib_formats('png', 'pdf')\n",
    "# for better picture quality\n",
    "%config InlineBackend.figure_format = 'retina'\n",
    "#https://www.dataquest.io/blog/jupyter-notebook-tips-tricks-shortcuts/\n",
    "\n",
    "import seaborn as sns\n",
    "sns.set()\n",
    "#sns.set_style(style= \"whitegrid\")\n",
    "#plt.style.available\n",
    "# bold graph style\n",
    "plt.style.use('fivethirtyeight')"
   ]
  },
  {
   "cell_type": "code",
   "execution_count": null,
   "metadata": {},
   "outputs": [],
   "source": []
  },
  {
   "cell_type": "code",
   "execution_count": null,
   "metadata": {},
   "outputs": [],
   "source": []
  },
  {
   "cell_type": "markdown",
   "metadata": {},
   "source": [
    "# Linear Equations"
   ]
  },
  {
   "cell_type": "markdown",
   "metadata": {},
   "source": [
    "## Iterative Methods\n",
    "\n",
    "\n",
    "Algorithms based on Gaussian elimination are called **exact** or, more properly, **direct**\n",
    "methods because they would generate exact solutions for the linear equation $Ax = b$\n",
    "after a finite number of operations, if not for rounding error. Such methods are ideal\n",
    "for moderately-sized linear equations, but may be impractical for large ones. \n",
    "\n",
    "\n",
    "Other methods, called **iterative methods** can often be used to solve large linear equations\n",
    "more efficiently if the A matrix is sparse, that is, if $A$ is composed mostly of zero\n",
    "entries. Iterative methods are designed to generate a sequence of increasingly accurate\n",
    "approximations to the solution of a linear equation, but generally do not yield an exact\n",
    "solution after a prescribed number of steps, even in theory.\n"
   ]
  },
  {
   "cell_type": "code",
   "execution_count": null,
   "metadata": {},
   "outputs": [],
   "source": []
  },
  {
   "cell_type": "markdown",
   "metadata": {},
   "source": [
    "The most widely-used iterative methods for solving a linear equation $Ax = b$ are\n",
    "developed by choosing an **easily invertible matrix $Q$** and writing the linear equation\n",
    "in the equivalent form\n",
    "\n",
    "$$Q x = b + (Q - A)x$$\n",
    "\n",
    "or\n",
    "\n",
    "$$x = Q^{-1}b + (I - Q^{-1}A)x.$$\n",
    "\n",
    "This form of the linear equation suggests the iteration rule\n",
    "\n",
    "\n",
    "\n",
    "$$x^{(k+1)} \\leftarrow   Q^{-1}b + (I - Q^{-1}A)x^{(k)}$$"
   ]
  },
  {
   "cell_type": "markdown",
   "metadata": {},
   "source": [
    "Ideally, the so-called **splitting matrix Q** will satisfy two criteria. First, $Q^{-1}b$ and\n",
    "$Q^{-1}A$ should be relatively easy to compute. This is true if Q is either diagonal or\n",
    "triangular. Second, the iterates should **converge quickly** to the true solution of the\n",
    "linear equation. If\n",
    "\n",
    "$$||I - Q^{-1}A|| < 1$$\n",
    "\n",
    "in any matrix norm, then the iteration rule is a contraction mapping and is **guaranteed**\n",
    "to converge to the solution of the linear equation from any initial value."
   ]
  },
  {
   "cell_type": "markdown",
   "metadata": {},
   "source": [
    "The two most popular iterative methods are the **Gauss-Jacobi** and **Gauss-Seidel**\n",
    "methods. \n",
    "\n",
    " - The Gauss-Jacobi method sets $Q$ equal to the diagonal matrix formed from the diagonal entries of A. \n",
    "\n",
    "\n",
    " - The Gauss-Seidel method sets $Q$ equal to the upper triangular matrix formed from the upper triagonal elements of A.\n"
   ]
  },
  {
   "cell_type": "code",
   "execution_count": 21,
   "metadata": {
    "ExecuteTime": {
     "end_time": "2018-02-22T20:00:07.369615Z",
     "start_time": "2018-02-22T20:00:07.344048Z"
    }
   },
   "outputs": [
    {
     "name": "stdout",
     "output_type": "stream",
     "text": [
      "Left hand side of linear system, matrix A:\n",
      " [[ 54  14 -11   2]\n",
      " [ 14  50  -4  29]\n",
      " [-11  -4  55  22]\n",
      " [  2  29  22  95]]\n",
      "A:\n",
      " [[ 54  14 -11   2]\n",
      "  [ 14  50  -4  29]\n",
      "  [-11  -4  55  22]\n",
      " [  2  29  22  95]]\n",
      "b:\n",
      "[1 1 1 1]\n",
      "x0:\n",
      "[1, 1, 1, 1]\n",
      "n:\n",
      "25\n"
     ]
    }
   ],
   "source": [
    "# example problem\n",
    "\n",
    "A = np.array([[54, 14, -11, 2],\n",
    "               [14, 50, -4, 29],\n",
    "               [-11, -4, 55, 22],\n",
    "               [2, 29, 22, 95]])\n",
    "print(\"Left hand side of linear system, matrix A:\\n\", A)\n",
    "b = np.array([1, 1, 1, 1])\n",
    "x0 = [1, 1, 1,1]\n",
    "\n",
    "n = 25\n",
    "\n",
    "\n",
    "print( \"A:\")\n",
    "pprint(A)\n",
    "\n",
    "\n",
    "#rint( \"diag(A):\")\n",
    "#print((diag(A)))\n",
    "\n",
    "\n",
    "#rint(\"pprint(diagflat(diag(A)))\")\n",
    "#print(diagflat(diag(A)))\n",
    "\n",
    "print( \"b:\")\n",
    "pprint(b)\n",
    "\n",
    "print( \"x0:\")\n",
    "pprint(x0)\n",
    "\n",
    "print( \"n:\")\n",
    "pprint(n)\n"
   ]
  },
  {
   "cell_type": "markdown",
   "metadata": {},
   "source": [
    "the user specifies the data A and b and an initial guess $x$ for the solution of\n",
    "the linear equation, typically the zero vector or $b$. \n",
    "\n",
    "Iteration continues until the norm\n",
    "of the change dx in the iterate falls below the specified convergence tolerance tol or\n",
    "until a specified maximum number of allowable iterations maxit are performed."
   ]
  },
  {
   "cell_type": "code",
   "execution_count": 10,
   "metadata": {
    "ExecuteTime": {
     "end_time": "2018-02-22T19:40:57.606917Z",
     "start_time": "2018-02-22T19:40:57.591877Z"
    }
   },
   "outputs": [
    {
     "name": "stdout",
     "output_type": "stream",
     "text": [
      "x:\n",
      " [ 0.01892514  0.01678369  0.02335003 -0.00042463]\n"
     ]
    }
   ],
   "source": [
    "#p17\n",
    "\n",
    "maxit = 1000\n",
    "tol = 1/10000 \n",
    "x0 = np.array([1,1,1,1])\n",
    "x0= b\n",
    "\n",
    "d = np.diag(np.diag(A))\n",
    "x = x0\n",
    "for it in np.arange(maxit):\n",
    "    dx =  inv(d).dot(b - A.dot(x))\n",
    "    x = x + dx\n",
    "    if np.linalg.norm(dx)<tol:\n",
    "        break\n",
    "\n",
    "print(\"x:\\n\", x)        "
   ]
  },
  {
   "cell_type": "markdown",
   "metadata": {},
   "source": [
    "###  <span style=\"color:red\">It is your turn to turn it into a function</span>"
   ]
  },
  {
   "cell_type": "code",
   "execution_count": null,
   "metadata": {},
   "outputs": [],
   "source": []
  },
  {
   "cell_type": "code",
   "execution_count": null,
   "metadata": {},
   "outputs": [],
   "source": []
  },
  {
   "cell_type": "code",
   "execution_count": null,
   "metadata": {},
   "outputs": [],
   "source": []
  },
  {
   "cell_type": "code",
   "execution_count": null,
   "metadata": {},
   "outputs": [],
   "source": []
  },
  {
   "cell_type": "markdown",
   "metadata": {},
   "source": [
    "### gauss_jacobi"
   ]
  },
  {
   "cell_type": "code",
   "execution_count": 11,
   "metadata": {
    "ExecuteTime": {
     "end_time": "2018-02-22T19:46:54.423643Z",
     "start_time": "2018-02-22T19:46:54.411594Z"
    }
   },
   "outputs": [],
   "source": [
    "def my_gauss_jacobi(A, b, maxit=1000,tol = 1/1000, x0=None):\n",
    "    \"\"\"\n",
    "    Solve a linear equation by the gauss jacobi iteration outlined in the book.\n",
    "    Follows the eq:\n",
    "        x = inv(Q)(b - Ax)\n",
    "    Where Q is the diagonal matrix of A\n",
    "    \"\"\"\n",
    "    # If we have not provided an initial array for x make a new one\n",
    "    if x0==None:\n",
    "        x = np.array([1 for _ in np.arange(A.shape[1])])\n",
    "    else:\n",
    "        x = x0\n",
    "    d = np.diag(np.diag(A))\n",
    "    \n",
    "    for it in np.arange(maxit):\n",
    "        dx =  inv(d).dot(b - A.dot(x))\n",
    "        x = x + dx\n",
    "        if np.linalg.norm(dx)<tol:\n",
    "            break\n",
    "\n",
    "    print(\"x:\\n\", x)  "
   ]
  },
  {
   "cell_type": "code",
   "execution_count": 12,
   "metadata": {
    "ExecuteTime": {
     "end_time": "2018-02-22T19:46:54.839242Z",
     "start_time": "2018-02-22T19:46:54.835232Z"
    }
   },
   "outputs": [
    {
     "name": "stdout",
     "output_type": "stream",
     "text": [
      "x:\n",
      " [ 0.01892514  0.01678369  0.02335003 -0.00042463]\n"
     ]
    }
   ],
   "source": [
    "my_gauss_jacobi(A, b, maxit,tol, x0=None)"
   ]
  },
  {
   "cell_type": "markdown",
   "metadata": {},
   "source": [
    "### Check it in Numpy or Scipy"
   ]
  },
  {
   "cell_type": "code",
   "execution_count": 13,
   "metadata": {
    "ExecuteTime": {
     "end_time": "2018-02-22T19:47:05.024878Z",
     "start_time": "2018-02-22T19:47:05.020868Z"
    }
   },
   "outputs": [
    {
     "data": {
      "text/plain": [
       "array([ 0.01893441,  0.01680508,  0.02335523, -0.00041085])"
      ]
     },
     "execution_count": 13,
     "metadata": {},
     "output_type": "execute_result"
    }
   ],
   "source": [
    "np.linalg.solve(A,b)"
   ]
  },
  {
   "cell_type": "code",
   "execution_count": 15,
   "metadata": {
    "ExecuteTime": {
     "end_time": "2018-02-22T19:48:27.768213Z",
     "start_time": "2018-02-22T19:48:27.741141Z"
    }
   },
   "outputs": [
    {
     "data": {
      "text/plain": [
       "array([ 0.01893441,  0.01680508,  0.02335523, -0.00041085])"
      ]
     },
     "execution_count": 15,
     "metadata": {},
     "output_type": "execute_result"
    }
   ],
   "source": [
    "sp.linalg.solve(A,b)"
   ]
  },
  {
   "cell_type": "code",
   "execution_count": null,
   "metadata": {},
   "outputs": [],
   "source": []
  },
  {
   "cell_type": "markdown",
   "metadata": {},
   "source": [
    "### Gauss Seidel method"
   ]
  },
  {
   "cell_type": "code",
   "execution_count": 16,
   "metadata": {
    "ExecuteTime": {
     "end_time": "2018-02-22T19:52:33.300357Z",
     "start_time": "2018-02-22T19:52:33.296347Z"
    }
   },
   "outputs": [
    {
     "data": {
      "text/plain": [
       "array([[ 54,   0,   0,   0],\n",
       "       [ 14,  50,   0,   0],\n",
       "       [-11,  -4,  55,   0],\n",
       "       [  2,  29,  22,  95]])"
      ]
     },
     "execution_count": 16,
     "metadata": {},
     "output_type": "execute_result"
    }
   ],
   "source": [
    "Q = np.tril(A)\n",
    "Q"
   ]
  },
  {
   "cell_type": "code",
   "execution_count": 17,
   "metadata": {
    "ExecuteTime": {
     "end_time": "2018-02-22T19:54:36.915152Z",
     "start_time": "2018-02-22T19:54:36.911142Z"
    }
   },
   "outputs": [
    {
     "data": {
      "text/plain": [
       "array([[ 54,  14, -11,   2],\n",
       "       [  0,  50,  -4,  29],\n",
       "       [  0,   0,  55,  22],\n",
       "       [  0,   0,   0,  95]])"
      ]
     },
     "execution_count": 17,
     "metadata": {},
     "output_type": "execute_result"
    }
   ],
   "source": [
    "Q = np.triu(A)\n",
    "Q"
   ]
  },
  {
   "cell_type": "code",
   "execution_count": 18,
   "metadata": {
    "ExecuteTime": {
     "end_time": "2018-02-22T19:54:44.101184Z",
     "start_time": "2018-02-22T19:54:44.092662Z"
    }
   },
   "outputs": [
    {
     "name": "stdout",
     "output_type": "stream",
     "text": [
      "x:\n",
      " [ 0.01893715  0.01678546  0.02338774 -0.00039007]\n"
     ]
    }
   ],
   "source": [
    "\n",
    "\n",
    "x=b\n",
    "lamb = 1.5\n",
    "Here, we have incorporated a so-called over-relaxation parameter, lambda. Instead of using $x + dx$, we use $x + lamb*x$ to compute the next iterate.\n",
    "\n",
    "\n",
    "a value of lambda between 1 and 2 will accelerate convergence of the Gauss-Seidel algorithm.\n",
    "for it in np.arange(maxit):\n",
    "    dx = np.linalg.inv(Q).dot(b -A.dot(x))\n",
    "    x = x + lamb*dx\n",
    "    if np.linalg.norm(dx)<tol:\n",
    "        break\n",
    "print(\"x:\\n\", x) "
   ]
  },
  {
   "cell_type": "markdown",
   "metadata": {},
   "source": [
    "Here, we have incorporated a so-called over-relaxation parameter, `lambda`. Instead of using $x + dx$, we use $x + lamb*x$ to compute the next iterate.\n",
    "\n",
    "\n",
    "a value of lambda between 1 and 2 will accelerate convergence of the Gauss-Seidel algorithm."
   ]
  },
  {
   "cell_type": "code",
   "execution_count": null,
   "metadata": {},
   "outputs": [],
   "source": []
  },
  {
   "cell_type": "code",
   "execution_count": null,
   "metadata": {},
   "outputs": [],
   "source": []
  },
  {
   "cell_type": "code",
   "execution_count": null,
   "metadata": {},
   "outputs": [],
   "source": []
  },
  {
   "cell_type": "code",
   "execution_count": null,
   "metadata": {},
   "outputs": [],
   "source": []
  },
  {
   "cell_type": "code",
   "execution_count": null,
   "metadata": {},
   "outputs": [],
   "source": []
  },
  {
   "cell_type": "code",
   "execution_count": null,
   "metadata": {},
   "outputs": [],
   "source": []
  },
  {
   "cell_type": "code",
   "execution_count": null,
   "metadata": {},
   "outputs": [],
   "source": []
  },
  {
   "cell_type": "markdown",
   "metadata": {},
   "source": [
    "###  <span style=\"color:red\">It is your turn to turn it into a function</span>"
   ]
  },
  {
   "cell_type": "code",
   "execution_count": null,
   "metadata": {},
   "outputs": [],
   "source": []
  },
  {
   "cell_type": "code",
   "execution_count": null,
   "metadata": {},
   "outputs": [],
   "source": []
  },
  {
   "cell_type": "code",
   "execution_count": null,
   "metadata": {},
   "outputs": [],
   "source": []
  },
  {
   "cell_type": "code",
   "execution_count": null,
   "metadata": {},
   "outputs": [],
   "source": []
  },
  {
   "cell_type": "code",
   "execution_count": null,
   "metadata": {},
   "outputs": [],
   "source": []
  },
  {
   "cell_type": "code",
   "execution_count": null,
   "metadata": {},
   "outputs": [],
   "source": []
  },
  {
   "cell_type": "code",
   "execution_count": null,
   "metadata": {},
   "outputs": [],
   "source": []
  },
  {
   "cell_type": "code",
   "execution_count": null,
   "metadata": {},
   "outputs": [],
   "source": []
  },
  {
   "cell_type": "code",
   "execution_count": null,
   "metadata": {},
   "outputs": [],
   "source": []
  },
  {
   "cell_type": "code",
   "execution_count": 22,
   "metadata": {
    "ExecuteTime": {
     "end_time": "2018-02-22T20:00:18.404570Z",
     "start_time": "2018-02-22T20:00:18.384516Z"
    }
   },
   "outputs": [
    {
     "name": "stdout",
     "output_type": "stream",
     "text": [
      "x:\n",
      " [ 0.01893207  0.01687859  0.02341645 -0.00052562]\n"
     ]
    },
    {
     "data": {
      "text/plain": [
       "array([ 0.01893207,  0.01687859,  0.02341645, -0.00052562])"
      ]
     },
     "execution_count": 22,
     "metadata": {},
     "output_type": "execute_result"
    }
   ],
   "source": [
    "def my_gauss_seidel(A, b, maxit=1000, tol=1/1000,lamb =1, x0=None):\n",
    "    \"\"\"\n",
    "    Solve a linear equation by the gauss seidel iteration outlined in the book\n",
    "    Follows the eq:\n",
    "        \n",
    "    \"\"\"\n",
    "    Q = np.triu(A)\n",
    "    # If we have not provided an initial array for x make a new one\n",
    "    if x0 == None:\n",
    "        x = np.array([1 for _ in np.arange(A.shape[1])])\n",
    "    else:\n",
    "        x = x0\n",
    "    for it in np.arange(maxit):\n",
    "        dx = np.linalg.inv(Q).dot(b -A.dot(x))\n",
    "        x = x + lamb*dx\n",
    "        if np.linalg.norm(dx)<tol:\n",
    "            break\n",
    "    print(\"x:\\n\", x) \n",
    "    return x\n",
    "\n",
    "my_gauss_seidel(A,b)"
   ]
  },
  {
   "cell_type": "markdown",
   "metadata": {},
   "source": [
    "### **fail to converge**"
   ]
  },
  {
   "cell_type": "code",
   "execution_count": 23,
   "metadata": {
    "ExecuteTime": {
     "end_time": "2018-02-22T20:00:20.057636Z",
     "start_time": "2018-02-22T20:00:20.034573Z"
    }
   },
   "outputs": [
    {
     "name": "stdout",
     "output_type": "stream",
     "text": [
      "x:\n",
      " [nan nan]\n",
      "x:\n",
      " [nan nan]\n"
     ]
    }
   ],
   "source": [
    "A = np.array([[3, 2],\n",
    "               [4, 1]])\n",
    "b = np.array([7 , 9])\n",
    "x = my_gauss_seidel(A,b,maxit)\n",
    "print(\"x:\\n\",x)"
   ]
  },
  {
   "cell_type": "markdown",
   "metadata": {},
   "source": [
    "A general rule of thumb is that if A is **large and sparse**, then the linear equation is\n",
    "a good candidate for iterative methods, provided that sparse matrix storage functions\n",
    "are used to reduce storage requirements and computational effort.\n",
    "\n",
    "\n",
    "Iterative methods,\n",
    "however, have some **drawbacks**. \n",
    "\n",
    "\n",
    "First, iterative methods, in contrast to direct\n",
    "methods, can **fail to converge**. Furthermore, it is often difficult or computationally\n",
    "costly to check whether a specific problem falls into a class of problems known to\n",
    "be convergent. \n",
    "\n",
    "\n",
    "It is therefore always a good idea to monitor whether the iterations\n",
    "seem to be diverging and try something else if they are. \n",
    "\n",
    "\n",
    "Second, satisfaction of the\n",
    "termination criteria do not necessarily guarantee a similar level of accuracy in the\n",
    "solution, as measured as the deviation of the approximate solution from the true (but\n",
    "unknown) solution."
   ]
  },
  {
   "cell_type": "code",
   "execution_count": null,
   "metadata": {},
   "outputs": [],
   "source": []
  },
  {
   "cell_type": "code",
   "execution_count": null,
   "metadata": {},
   "outputs": [],
   "source": []
  },
  {
   "cell_type": "markdown",
   "metadata": {},
   "source": [
    "# Nonlinear Equations"
   ]
  },
  {
   "cell_type": "markdown",
   "metadata": {},
   "source": [
    "One of the most basic numerical operations encountered in computational economics\n",
    "is to find the solution of a system of nonlinear equations. Nonlinear equations generally\n",
    "arise in one of two forms. In the nonlinear *rootfinding problem*, a function f\n",
    "mapping $R^n$ to $R^n$ is given and one must compute an n-vector $x$, called a *root* of $f$,\n",
    "that satisfies\n",
    "\n",
    "$$f(x) = 0$$\n",
    "\n",
    "\n",
    "In the nonlinear fixed-point problem, a function $g$ from $R^n$ to $R^n$ is given and one\n",
    "must compute an n-vector x called a fixed-point of $g$, that satisfies\n",
    "\n",
    "$$x = g(x)$$\n",
    "\n",
    "\n",
    "http://nbviewer.jupyter.org/github/sbustamante/ComputationalMethods/blob/master/material/one-variable-equations.ipynb"
   ]
  },
  {
   "cell_type": "code",
   "execution_count": 24,
   "metadata": {
    "ExecuteTime": {
     "end_time": "2018-02-22T21:59:49.703330Z",
     "start_time": "2018-02-22T21:59:49.592534Z"
    }
   },
   "outputs": [
    {
     "data": {
      "application/javascript": [
       "/* Put everything inside the global mpl namespace */\n",
       "window.mpl = {};\n",
       "\n",
       "\n",
       "mpl.get_websocket_type = function() {\n",
       "    if (typeof(WebSocket) !== 'undefined') {\n",
       "        return WebSocket;\n",
       "    } else if (typeof(MozWebSocket) !== 'undefined') {\n",
       "        return MozWebSocket;\n",
       "    } else {\n",
       "        alert('Your browser does not have WebSocket support.' +\n",
       "              'Please try Chrome, Safari or Firefox ≥ 6. ' +\n",
       "              'Firefox 4 and 5 are also supported but you ' +\n",
       "              'have to enable WebSockets in about:config.');\n",
       "    };\n",
       "}\n",
       "\n",
       "mpl.figure = function(figure_id, websocket, ondownload, parent_element) {\n",
       "    this.id = figure_id;\n",
       "\n",
       "    this.ws = websocket;\n",
       "\n",
       "    this.supports_binary = (this.ws.binaryType != undefined);\n",
       "\n",
       "    if (!this.supports_binary) {\n",
       "        var warnings = document.getElementById(\"mpl-warnings\");\n",
       "        if (warnings) {\n",
       "            warnings.style.display = 'block';\n",
       "            warnings.textContent = (\n",
       "                \"This browser does not support binary websocket messages. \" +\n",
       "                    \"Performance may be slow.\");\n",
       "        }\n",
       "    }\n",
       "\n",
       "    this.imageObj = new Image();\n",
       "\n",
       "    this.context = undefined;\n",
       "    this.message = undefined;\n",
       "    this.canvas = undefined;\n",
       "    this.rubberband_canvas = undefined;\n",
       "    this.rubberband_context = undefined;\n",
       "    this.format_dropdown = undefined;\n",
       "\n",
       "    this.image_mode = 'full';\n",
       "\n",
       "    this.root = $('<div/>');\n",
       "    this._root_extra_style(this.root)\n",
       "    this.root.attr('style', 'display: inline-block');\n",
       "\n",
       "    $(parent_element).append(this.root);\n",
       "\n",
       "    this._init_header(this);\n",
       "    this._init_canvas(this);\n",
       "    this._init_toolbar(this);\n",
       "\n",
       "    var fig = this;\n",
       "\n",
       "    this.waiting = false;\n",
       "\n",
       "    this.ws.onopen =  function () {\n",
       "            fig.send_message(\"supports_binary\", {value: fig.supports_binary});\n",
       "            fig.send_message(\"send_image_mode\", {});\n",
       "            if (mpl.ratio != 1) {\n",
       "                fig.send_message(\"set_dpi_ratio\", {'dpi_ratio': mpl.ratio});\n",
       "            }\n",
       "            fig.send_message(\"refresh\", {});\n",
       "        }\n",
       "\n",
       "    this.imageObj.onload = function() {\n",
       "            if (fig.image_mode == 'full') {\n",
       "                // Full images could contain transparency (where diff images\n",
       "                // almost always do), so we need to clear the canvas so that\n",
       "                // there is no ghosting.\n",
       "                fig.context.clearRect(0, 0, fig.canvas.width, fig.canvas.height);\n",
       "            }\n",
       "            fig.context.drawImage(fig.imageObj, 0, 0);\n",
       "        };\n",
       "\n",
       "    this.imageObj.onunload = function() {\n",
       "        fig.ws.close();\n",
       "    }\n",
       "\n",
       "    this.ws.onmessage = this._make_on_message_function(this);\n",
       "\n",
       "    this.ondownload = ondownload;\n",
       "}\n",
       "\n",
       "mpl.figure.prototype._init_header = function() {\n",
       "    var titlebar = $(\n",
       "        '<div class=\"ui-dialog-titlebar ui-widget-header ui-corner-all ' +\n",
       "        'ui-helper-clearfix\"/>');\n",
       "    var titletext = $(\n",
       "        '<div class=\"ui-dialog-title\" style=\"width: 100%; ' +\n",
       "        'text-align: center; padding: 3px;\"/>');\n",
       "    titlebar.append(titletext)\n",
       "    this.root.append(titlebar);\n",
       "    this.header = titletext[0];\n",
       "}\n",
       "\n",
       "\n",
       "\n",
       "mpl.figure.prototype._canvas_extra_style = function(canvas_div) {\n",
       "\n",
       "}\n",
       "\n",
       "\n",
       "mpl.figure.prototype._root_extra_style = function(canvas_div) {\n",
       "\n",
       "}\n",
       "\n",
       "mpl.figure.prototype._init_canvas = function() {\n",
       "    var fig = this;\n",
       "\n",
       "    var canvas_div = $('<div/>');\n",
       "\n",
       "    canvas_div.attr('style', 'position: relative; clear: both; outline: 0');\n",
       "\n",
       "    function canvas_keyboard_event(event) {\n",
       "        return fig.key_event(event, event['data']);\n",
       "    }\n",
       "\n",
       "    canvas_div.keydown('key_press', canvas_keyboard_event);\n",
       "    canvas_div.keyup('key_release', canvas_keyboard_event);\n",
       "    this.canvas_div = canvas_div\n",
       "    this._canvas_extra_style(canvas_div)\n",
       "    this.root.append(canvas_div);\n",
       "\n",
       "    var canvas = $('<canvas/>');\n",
       "    canvas.addClass('mpl-canvas');\n",
       "    canvas.attr('style', \"left: 0; top: 0; z-index: 0; outline: 0\")\n",
       "\n",
       "    this.canvas = canvas[0];\n",
       "    this.context = canvas[0].getContext(\"2d\");\n",
       "\n",
       "    var backingStore = this.context.backingStorePixelRatio ||\n",
       "\tthis.context.webkitBackingStorePixelRatio ||\n",
       "\tthis.context.mozBackingStorePixelRatio ||\n",
       "\tthis.context.msBackingStorePixelRatio ||\n",
       "\tthis.context.oBackingStorePixelRatio ||\n",
       "\tthis.context.backingStorePixelRatio || 1;\n",
       "\n",
       "    mpl.ratio = (window.devicePixelRatio || 1) / backingStore;\n",
       "\n",
       "    var rubberband = $('<canvas/>');\n",
       "    rubberband.attr('style', \"position: absolute; left: 0; top: 0; z-index: 1;\")\n",
       "\n",
       "    var pass_mouse_events = true;\n",
       "\n",
       "    canvas_div.resizable({\n",
       "        start: function(event, ui) {\n",
       "            pass_mouse_events = false;\n",
       "        },\n",
       "        resize: function(event, ui) {\n",
       "            fig.request_resize(ui.size.width, ui.size.height);\n",
       "        },\n",
       "        stop: function(event, ui) {\n",
       "            pass_mouse_events = true;\n",
       "            fig.request_resize(ui.size.width, ui.size.height);\n",
       "        },\n",
       "    });\n",
       "\n",
       "    function mouse_event_fn(event) {\n",
       "        if (pass_mouse_events)\n",
       "            return fig.mouse_event(event, event['data']);\n",
       "    }\n",
       "\n",
       "    rubberband.mousedown('button_press', mouse_event_fn);\n",
       "    rubberband.mouseup('button_release', mouse_event_fn);\n",
       "    // Throttle sequential mouse events to 1 every 20ms.\n",
       "    rubberband.mousemove('motion_notify', mouse_event_fn);\n",
       "\n",
       "    rubberband.mouseenter('figure_enter', mouse_event_fn);\n",
       "    rubberband.mouseleave('figure_leave', mouse_event_fn);\n",
       "\n",
       "    canvas_div.on(\"wheel\", function (event) {\n",
       "        event = event.originalEvent;\n",
       "        event['data'] = 'scroll'\n",
       "        if (event.deltaY < 0) {\n",
       "            event.step = 1;\n",
       "        } else {\n",
       "            event.step = -1;\n",
       "        }\n",
       "        mouse_event_fn(event);\n",
       "    });\n",
       "\n",
       "    canvas_div.append(canvas);\n",
       "    canvas_div.append(rubberband);\n",
       "\n",
       "    this.rubberband = rubberband;\n",
       "    this.rubberband_canvas = rubberband[0];\n",
       "    this.rubberband_context = rubberband[0].getContext(\"2d\");\n",
       "    this.rubberband_context.strokeStyle = \"#000000\";\n",
       "\n",
       "    this._resize_canvas = function(width, height) {\n",
       "        // Keep the size of the canvas, canvas container, and rubber band\n",
       "        // canvas in synch.\n",
       "        canvas_div.css('width', width)\n",
       "        canvas_div.css('height', height)\n",
       "\n",
       "        canvas.attr('width', width * mpl.ratio);\n",
       "        canvas.attr('height', height * mpl.ratio);\n",
       "        canvas.attr('style', 'width: ' + width + 'px; height: ' + height + 'px;');\n",
       "\n",
       "        rubberband.attr('width', width);\n",
       "        rubberband.attr('height', height);\n",
       "    }\n",
       "\n",
       "    // Set the figure to an initial 600x600px, this will subsequently be updated\n",
       "    // upon first draw.\n",
       "    this._resize_canvas(600, 600);\n",
       "\n",
       "    // Disable right mouse context menu.\n",
       "    $(this.rubberband_canvas).bind(\"contextmenu\",function(e){\n",
       "        return false;\n",
       "    });\n",
       "\n",
       "    function set_focus () {\n",
       "        canvas.focus();\n",
       "        canvas_div.focus();\n",
       "    }\n",
       "\n",
       "    window.setTimeout(set_focus, 100);\n",
       "}\n",
       "\n",
       "mpl.figure.prototype._init_toolbar = function() {\n",
       "    var fig = this;\n",
       "\n",
       "    var nav_element = $('<div/>')\n",
       "    nav_element.attr('style', 'width: 100%');\n",
       "    this.root.append(nav_element);\n",
       "\n",
       "    // Define a callback function for later on.\n",
       "    function toolbar_event(event) {\n",
       "        return fig.toolbar_button_onclick(event['data']);\n",
       "    }\n",
       "    function toolbar_mouse_event(event) {\n",
       "        return fig.toolbar_button_onmouseover(event['data']);\n",
       "    }\n",
       "\n",
       "    for(var toolbar_ind in mpl.toolbar_items) {\n",
       "        var name = mpl.toolbar_items[toolbar_ind][0];\n",
       "        var tooltip = mpl.toolbar_items[toolbar_ind][1];\n",
       "        var image = mpl.toolbar_items[toolbar_ind][2];\n",
       "        var method_name = mpl.toolbar_items[toolbar_ind][3];\n",
       "\n",
       "        if (!name) {\n",
       "            // put a spacer in here.\n",
       "            continue;\n",
       "        }\n",
       "        var button = $('<button/>');\n",
       "        button.addClass('ui-button ui-widget ui-state-default ui-corner-all ' +\n",
       "                        'ui-button-icon-only');\n",
       "        button.attr('role', 'button');\n",
       "        button.attr('aria-disabled', 'false');\n",
       "        button.click(method_name, toolbar_event);\n",
       "        button.mouseover(tooltip, toolbar_mouse_event);\n",
       "\n",
       "        var icon_img = $('<span/>');\n",
       "        icon_img.addClass('ui-button-icon-primary ui-icon');\n",
       "        icon_img.addClass(image);\n",
       "        icon_img.addClass('ui-corner-all');\n",
       "\n",
       "        var tooltip_span = $('<span/>');\n",
       "        tooltip_span.addClass('ui-button-text');\n",
       "        tooltip_span.html(tooltip);\n",
       "\n",
       "        button.append(icon_img);\n",
       "        button.append(tooltip_span);\n",
       "\n",
       "        nav_element.append(button);\n",
       "    }\n",
       "\n",
       "    var fmt_picker_span = $('<span/>');\n",
       "\n",
       "    var fmt_picker = $('<select/>');\n",
       "    fmt_picker.addClass('mpl-toolbar-option ui-widget ui-widget-content');\n",
       "    fmt_picker_span.append(fmt_picker);\n",
       "    nav_element.append(fmt_picker_span);\n",
       "    this.format_dropdown = fmt_picker[0];\n",
       "\n",
       "    for (var ind in mpl.extensions) {\n",
       "        var fmt = mpl.extensions[ind];\n",
       "        var option = $(\n",
       "            '<option/>', {selected: fmt === mpl.default_extension}).html(fmt);\n",
       "        fmt_picker.append(option)\n",
       "    }\n",
       "\n",
       "    // Add hover states to the ui-buttons\n",
       "    $( \".ui-button\" ).hover(\n",
       "        function() { $(this).addClass(\"ui-state-hover\");},\n",
       "        function() { $(this).removeClass(\"ui-state-hover\");}\n",
       "    );\n",
       "\n",
       "    var status_bar = $('<span class=\"mpl-message\"/>');\n",
       "    nav_element.append(status_bar);\n",
       "    this.message = status_bar[0];\n",
       "}\n",
       "\n",
       "mpl.figure.prototype.request_resize = function(x_pixels, y_pixels) {\n",
       "    // Request matplotlib to resize the figure. Matplotlib will then trigger a resize in the client,\n",
       "    // which will in turn request a refresh of the image.\n",
       "    this.send_message('resize', {'width': x_pixels, 'height': y_pixels});\n",
       "}\n",
       "\n",
       "mpl.figure.prototype.send_message = function(type, properties) {\n",
       "    properties['type'] = type;\n",
       "    properties['figure_id'] = this.id;\n",
       "    this.ws.send(JSON.stringify(properties));\n",
       "}\n",
       "\n",
       "mpl.figure.prototype.send_draw_message = function() {\n",
       "    if (!this.waiting) {\n",
       "        this.waiting = true;\n",
       "        this.ws.send(JSON.stringify({type: \"draw\", figure_id: this.id}));\n",
       "    }\n",
       "}\n",
       "\n",
       "\n",
       "mpl.figure.prototype.handle_save = function(fig, msg) {\n",
       "    var format_dropdown = fig.format_dropdown;\n",
       "    var format = format_dropdown.options[format_dropdown.selectedIndex].value;\n",
       "    fig.ondownload(fig, format);\n",
       "}\n",
       "\n",
       "\n",
       "mpl.figure.prototype.handle_resize = function(fig, msg) {\n",
       "    var size = msg['size'];\n",
       "    if (size[0] != fig.canvas.width || size[1] != fig.canvas.height) {\n",
       "        fig._resize_canvas(size[0], size[1]);\n",
       "        fig.send_message(\"refresh\", {});\n",
       "    };\n",
       "}\n",
       "\n",
       "mpl.figure.prototype.handle_rubberband = function(fig, msg) {\n",
       "    var x0 = msg['x0'] / mpl.ratio;\n",
       "    var y0 = (fig.canvas.height - msg['y0']) / mpl.ratio;\n",
       "    var x1 = msg['x1'] / mpl.ratio;\n",
       "    var y1 = (fig.canvas.height - msg['y1']) / mpl.ratio;\n",
       "    x0 = Math.floor(x0) + 0.5;\n",
       "    y0 = Math.floor(y0) + 0.5;\n",
       "    x1 = Math.floor(x1) + 0.5;\n",
       "    y1 = Math.floor(y1) + 0.5;\n",
       "    var min_x = Math.min(x0, x1);\n",
       "    var min_y = Math.min(y0, y1);\n",
       "    var width = Math.abs(x1 - x0);\n",
       "    var height = Math.abs(y1 - y0);\n",
       "\n",
       "    fig.rubberband_context.clearRect(\n",
       "        0, 0, fig.canvas.width, fig.canvas.height);\n",
       "\n",
       "    fig.rubberband_context.strokeRect(min_x, min_y, width, height);\n",
       "}\n",
       "\n",
       "mpl.figure.prototype.handle_figure_label = function(fig, msg) {\n",
       "    // Updates the figure title.\n",
       "    fig.header.textContent = msg['label'];\n",
       "}\n",
       "\n",
       "mpl.figure.prototype.handle_cursor = function(fig, msg) {\n",
       "    var cursor = msg['cursor'];\n",
       "    switch(cursor)\n",
       "    {\n",
       "    case 0:\n",
       "        cursor = 'pointer';\n",
       "        break;\n",
       "    case 1:\n",
       "        cursor = 'default';\n",
       "        break;\n",
       "    case 2:\n",
       "        cursor = 'crosshair';\n",
       "        break;\n",
       "    case 3:\n",
       "        cursor = 'move';\n",
       "        break;\n",
       "    }\n",
       "    fig.rubberband_canvas.style.cursor = cursor;\n",
       "}\n",
       "\n",
       "mpl.figure.prototype.handle_message = function(fig, msg) {\n",
       "    fig.message.textContent = msg['message'];\n",
       "}\n",
       "\n",
       "mpl.figure.prototype.handle_draw = function(fig, msg) {\n",
       "    // Request the server to send over a new figure.\n",
       "    fig.send_draw_message();\n",
       "}\n",
       "\n",
       "mpl.figure.prototype.handle_image_mode = function(fig, msg) {\n",
       "    fig.image_mode = msg['mode'];\n",
       "}\n",
       "\n",
       "mpl.figure.prototype.updated_canvas_event = function() {\n",
       "    // Called whenever the canvas gets updated.\n",
       "    this.send_message(\"ack\", {});\n",
       "}\n",
       "\n",
       "// A function to construct a web socket function for onmessage handling.\n",
       "// Called in the figure constructor.\n",
       "mpl.figure.prototype._make_on_message_function = function(fig) {\n",
       "    return function socket_on_message(evt) {\n",
       "        if (evt.data instanceof Blob) {\n",
       "            /* FIXME: We get \"Resource interpreted as Image but\n",
       "             * transferred with MIME type text/plain:\" errors on\n",
       "             * Chrome.  But how to set the MIME type?  It doesn't seem\n",
       "             * to be part of the websocket stream */\n",
       "            evt.data.type = \"image/png\";\n",
       "\n",
       "            /* Free the memory for the previous frames */\n",
       "            if (fig.imageObj.src) {\n",
       "                (window.URL || window.webkitURL).revokeObjectURL(\n",
       "                    fig.imageObj.src);\n",
       "            }\n",
       "\n",
       "            fig.imageObj.src = (window.URL || window.webkitURL).createObjectURL(\n",
       "                evt.data);\n",
       "            fig.updated_canvas_event();\n",
       "            fig.waiting = false;\n",
       "            return;\n",
       "        }\n",
       "        else if (typeof evt.data === 'string' && evt.data.slice(0, 21) == \"data:image/png;base64\") {\n",
       "            fig.imageObj.src = evt.data;\n",
       "            fig.updated_canvas_event();\n",
       "            fig.waiting = false;\n",
       "            return;\n",
       "        }\n",
       "\n",
       "        var msg = JSON.parse(evt.data);\n",
       "        var msg_type = msg['type'];\n",
       "\n",
       "        // Call the  \"handle_{type}\" callback, which takes\n",
       "        // the figure and JSON message as its only arguments.\n",
       "        try {\n",
       "            var callback = fig[\"handle_\" + msg_type];\n",
       "        } catch (e) {\n",
       "            console.log(\"No handler for the '\" + msg_type + \"' message type: \", msg);\n",
       "            return;\n",
       "        }\n",
       "\n",
       "        if (callback) {\n",
       "            try {\n",
       "                // console.log(\"Handling '\" + msg_type + \"' message: \", msg);\n",
       "                callback(fig, msg);\n",
       "            } catch (e) {\n",
       "                console.log(\"Exception inside the 'handler_\" + msg_type + \"' callback:\", e, e.stack, msg);\n",
       "            }\n",
       "        }\n",
       "    };\n",
       "}\n",
       "\n",
       "// from http://stackoverflow.com/questions/1114465/getting-mouse-location-in-canvas\n",
       "mpl.findpos = function(e) {\n",
       "    //this section is from http://www.quirksmode.org/js/events_properties.html\n",
       "    var targ;\n",
       "    if (!e)\n",
       "        e = window.event;\n",
       "    if (e.target)\n",
       "        targ = e.target;\n",
       "    else if (e.srcElement)\n",
       "        targ = e.srcElement;\n",
       "    if (targ.nodeType == 3) // defeat Safari bug\n",
       "        targ = targ.parentNode;\n",
       "\n",
       "    // jQuery normalizes the pageX and pageY\n",
       "    // pageX,Y are the mouse positions relative to the document\n",
       "    // offset() returns the position of the element relative to the document\n",
       "    var x = e.pageX - $(targ).offset().left;\n",
       "    var y = e.pageY - $(targ).offset().top;\n",
       "\n",
       "    return {\"x\": x, \"y\": y};\n",
       "};\n",
       "\n",
       "/*\n",
       " * return a copy of an object with only non-object keys\n",
       " * we need this to avoid circular references\n",
       " * http://stackoverflow.com/a/24161582/3208463\n",
       " */\n",
       "function simpleKeys (original) {\n",
       "  return Object.keys(original).reduce(function (obj, key) {\n",
       "    if (typeof original[key] !== 'object')\n",
       "        obj[key] = original[key]\n",
       "    return obj;\n",
       "  }, {});\n",
       "}\n",
       "\n",
       "mpl.figure.prototype.mouse_event = function(event, name) {\n",
       "    var canvas_pos = mpl.findpos(event)\n",
       "\n",
       "    if (name === 'button_press')\n",
       "    {\n",
       "        this.canvas.focus();\n",
       "        this.canvas_div.focus();\n",
       "    }\n",
       "\n",
       "    var x = canvas_pos.x * mpl.ratio;\n",
       "    var y = canvas_pos.y * mpl.ratio;\n",
       "\n",
       "    this.send_message(name, {x: x, y: y, button: event.button,\n",
       "                             step: event.step,\n",
       "                             guiEvent: simpleKeys(event)});\n",
       "\n",
       "    /* This prevents the web browser from automatically changing to\n",
       "     * the text insertion cursor when the button is pressed.  We want\n",
       "     * to control all of the cursor setting manually through the\n",
       "     * 'cursor' event from matplotlib */\n",
       "    event.preventDefault();\n",
       "    return false;\n",
       "}\n",
       "\n",
       "mpl.figure.prototype._key_event_extra = function(event, name) {\n",
       "    // Handle any extra behaviour associated with a key event\n",
       "}\n",
       "\n",
       "mpl.figure.prototype.key_event = function(event, name) {\n",
       "\n",
       "    // Prevent repeat events\n",
       "    if (name == 'key_press')\n",
       "    {\n",
       "        if (event.which === this._key)\n",
       "            return;\n",
       "        else\n",
       "            this._key = event.which;\n",
       "    }\n",
       "    if (name == 'key_release')\n",
       "        this._key = null;\n",
       "\n",
       "    var value = '';\n",
       "    if (event.ctrlKey && event.which != 17)\n",
       "        value += \"ctrl+\";\n",
       "    if (event.altKey && event.which != 18)\n",
       "        value += \"alt+\";\n",
       "    if (event.shiftKey && event.which != 16)\n",
       "        value += \"shift+\";\n",
       "\n",
       "    value += 'k';\n",
       "    value += event.which.toString();\n",
       "\n",
       "    this._key_event_extra(event, name);\n",
       "\n",
       "    this.send_message(name, {key: value,\n",
       "                             guiEvent: simpleKeys(event)});\n",
       "    return false;\n",
       "}\n",
       "\n",
       "mpl.figure.prototype.toolbar_button_onclick = function(name) {\n",
       "    if (name == 'download') {\n",
       "        this.handle_save(this, null);\n",
       "    } else {\n",
       "        this.send_message(\"toolbar_button\", {name: name});\n",
       "    }\n",
       "};\n",
       "\n",
       "mpl.figure.prototype.toolbar_button_onmouseover = function(tooltip) {\n",
       "    this.message.textContent = tooltip;\n",
       "};\n",
       "mpl.toolbar_items = [[\"Home\", \"Reset original view\", \"fa fa-home icon-home\", \"home\"], [\"Back\", \"Back to  previous view\", \"fa fa-arrow-left icon-arrow-left\", \"back\"], [\"Forward\", \"Forward to next view\", \"fa fa-arrow-right icon-arrow-right\", \"forward\"], [\"\", \"\", \"\", \"\"], [\"Pan\", \"Pan axes with left mouse, zoom with right\", \"fa fa-arrows icon-move\", \"pan\"], [\"Zoom\", \"Zoom to rectangle\", \"fa fa-square-o icon-check-empty\", \"zoom\"], [\"\", \"\", \"\", \"\"], [\"Download\", \"Download plot\", \"fa fa-floppy-o icon-save\", \"download\"]];\n",
       "\n",
       "mpl.extensions = [\"eps\", \"pdf\", \"png\", \"ps\", \"raw\", \"svg\"];\n",
       "\n",
       "mpl.default_extension = \"png\";var comm_websocket_adapter = function(comm) {\n",
       "    // Create a \"websocket\"-like object which calls the given IPython comm\n",
       "    // object with the appropriate methods. Currently this is a non binary\n",
       "    // socket, so there is still some room for performance tuning.\n",
       "    var ws = {};\n",
       "\n",
       "    ws.close = function() {\n",
       "        comm.close()\n",
       "    };\n",
       "    ws.send = function(m) {\n",
       "        //console.log('sending', m);\n",
       "        comm.send(m);\n",
       "    };\n",
       "    // Register the callback with on_msg.\n",
       "    comm.on_msg(function(msg) {\n",
       "        //console.log('receiving', msg['content']['data'], msg);\n",
       "        // Pass the mpl event to the overriden (by mpl) onmessage function.\n",
       "        ws.onmessage(msg['content']['data'])\n",
       "    });\n",
       "    return ws;\n",
       "}\n",
       "\n",
       "mpl.mpl_figure_comm = function(comm, msg) {\n",
       "    // This is the function which gets called when the mpl process\n",
       "    // starts-up an IPython Comm through the \"matplotlib\" channel.\n",
       "\n",
       "    var id = msg.content.data.id;\n",
       "    // Get hold of the div created by the display call when the Comm\n",
       "    // socket was opened in Python.\n",
       "    var element = $(\"#\" + id);\n",
       "    var ws_proxy = comm_websocket_adapter(comm)\n",
       "\n",
       "    function ondownload(figure, format) {\n",
       "        window.open(figure.imageObj.src);\n",
       "    }\n",
       "\n",
       "    var fig = new mpl.figure(id, ws_proxy,\n",
       "                           ondownload,\n",
       "                           element.get(0));\n",
       "\n",
       "    // Call onopen now - mpl needs it, as it is assuming we've passed it a real\n",
       "    // web socket which is closed, not our websocket->open comm proxy.\n",
       "    ws_proxy.onopen();\n",
       "\n",
       "    fig.parent_element = element.get(0);\n",
       "    fig.cell_info = mpl.find_output_cell(\"<div id='\" + id + \"'></div>\");\n",
       "    if (!fig.cell_info) {\n",
       "        console.error(\"Failed to find cell for figure\", id, fig);\n",
       "        return;\n",
       "    }\n",
       "\n",
       "    var output_index = fig.cell_info[2]\n",
       "    var cell = fig.cell_info[0];\n",
       "\n",
       "};\n",
       "\n",
       "mpl.figure.prototype.handle_close = function(fig, msg) {\n",
       "    var width = fig.canvas.width/mpl.ratio\n",
       "    fig.root.unbind('remove')\n",
       "\n",
       "    // Update the output cell to use the data from the current canvas.\n",
       "    fig.push_to_output();\n",
       "    var dataURL = fig.canvas.toDataURL();\n",
       "    // Re-enable the keyboard manager in IPython - without this line, in FF,\n",
       "    // the notebook keyboard shortcuts fail.\n",
       "    IPython.keyboard_manager.enable()\n",
       "    $(fig.parent_element).html('<img src=\"' + dataURL + '\" width=\"' + width + '\">');\n",
       "    fig.close_ws(fig, msg);\n",
       "}\n",
       "\n",
       "mpl.figure.prototype.close_ws = function(fig, msg){\n",
       "    fig.send_message('closing', msg);\n",
       "    // fig.ws.close()\n",
       "}\n",
       "\n",
       "mpl.figure.prototype.push_to_output = function(remove_interactive) {\n",
       "    // Turn the data on the canvas into data in the output cell.\n",
       "    var width = this.canvas.width/mpl.ratio\n",
       "    var dataURL = this.canvas.toDataURL();\n",
       "    this.cell_info[1]['text/html'] = '<img src=\"' + dataURL + '\" width=\"' + width + '\">';\n",
       "}\n",
       "\n",
       "mpl.figure.prototype.updated_canvas_event = function() {\n",
       "    // Tell IPython that the notebook contents must change.\n",
       "    IPython.notebook.set_dirty(true);\n",
       "    this.send_message(\"ack\", {});\n",
       "    var fig = this;\n",
       "    // Wait a second, then push the new image to the DOM so\n",
       "    // that it is saved nicely (might be nice to debounce this).\n",
       "    setTimeout(function () { fig.push_to_output() }, 1000);\n",
       "}\n",
       "\n",
       "mpl.figure.prototype._init_toolbar = function() {\n",
       "    var fig = this;\n",
       "\n",
       "    var nav_element = $('<div/>')\n",
       "    nav_element.attr('style', 'width: 100%');\n",
       "    this.root.append(nav_element);\n",
       "\n",
       "    // Define a callback function for later on.\n",
       "    function toolbar_event(event) {\n",
       "        return fig.toolbar_button_onclick(event['data']);\n",
       "    }\n",
       "    function toolbar_mouse_event(event) {\n",
       "        return fig.toolbar_button_onmouseover(event['data']);\n",
       "    }\n",
       "\n",
       "    for(var toolbar_ind in mpl.toolbar_items){\n",
       "        var name = mpl.toolbar_items[toolbar_ind][0];\n",
       "        var tooltip = mpl.toolbar_items[toolbar_ind][1];\n",
       "        var image = mpl.toolbar_items[toolbar_ind][2];\n",
       "        var method_name = mpl.toolbar_items[toolbar_ind][3];\n",
       "\n",
       "        if (!name) { continue; };\n",
       "\n",
       "        var button = $('<button class=\"btn btn-default\" href=\"#\" title=\"' + name + '\"><i class=\"fa ' + image + ' fa-lg\"></i></button>');\n",
       "        button.click(method_name, toolbar_event);\n",
       "        button.mouseover(tooltip, toolbar_mouse_event);\n",
       "        nav_element.append(button);\n",
       "    }\n",
       "\n",
       "    // Add the status bar.\n",
       "    var status_bar = $('<span class=\"mpl-message\" style=\"text-align:right; float: right;\"/>');\n",
       "    nav_element.append(status_bar);\n",
       "    this.message = status_bar[0];\n",
       "\n",
       "    // Add the close button to the window.\n",
       "    var buttongrp = $('<div class=\"btn-group inline pull-right\"></div>');\n",
       "    var button = $('<button class=\"btn btn-mini btn-primary\" href=\"#\" title=\"Stop Interaction\"><i class=\"fa fa-power-off icon-remove icon-large\"></i></button>');\n",
       "    button.click(function (evt) { fig.handle_close(fig, {}); } );\n",
       "    button.mouseover('Stop Interaction', toolbar_mouse_event);\n",
       "    buttongrp.append(button);\n",
       "    var titlebar = this.root.find($('.ui-dialog-titlebar'));\n",
       "    titlebar.prepend(buttongrp);\n",
       "}\n",
       "\n",
       "mpl.figure.prototype._root_extra_style = function(el){\n",
       "    var fig = this\n",
       "    el.on(\"remove\", function(){\n",
       "\tfig.close_ws(fig, {});\n",
       "    });\n",
       "}\n",
       "\n",
       "mpl.figure.prototype._canvas_extra_style = function(el){\n",
       "    // this is important to make the div 'focusable\n",
       "    el.attr('tabindex', 0)\n",
       "    // reach out to IPython and tell the keyboard manager to turn it's self\n",
       "    // off when our div gets focus\n",
       "\n",
       "    // location in version 3\n",
       "    if (IPython.notebook.keyboard_manager) {\n",
       "        IPython.notebook.keyboard_manager.register_events(el);\n",
       "    }\n",
       "    else {\n",
       "        // location in version 2\n",
       "        IPython.keyboard_manager.register_events(el);\n",
       "    }\n",
       "\n",
       "}\n",
       "\n",
       "mpl.figure.prototype._key_event_extra = function(event, name) {\n",
       "    var manager = IPython.notebook.keyboard_manager;\n",
       "    if (!manager)\n",
       "        manager = IPython.keyboard_manager;\n",
       "\n",
       "    // Check for shift+enter\n",
       "    if (event.shiftKey && event.which == 13) {\n",
       "        this.canvas_div.blur();\n",
       "        event.shiftKey = false;\n",
       "        // Send a \"J\" for go to next cell\n",
       "        event.which = 74;\n",
       "        event.keyCode = 74;\n",
       "        manager.command_mode();\n",
       "        manager.handle_keydown(event);\n",
       "    }\n",
       "}\n",
       "\n",
       "mpl.figure.prototype.handle_save = function(fig, msg) {\n",
       "    fig.ondownload(fig, null);\n",
       "}\n",
       "\n",
       "\n",
       "mpl.find_output_cell = function(html_output) {\n",
       "    // Return the cell and output element which can be found *uniquely* in the notebook.\n",
       "    // Note - this is a bit hacky, but it is done because the \"notebook_saving.Notebook\"\n",
       "    // IPython event is triggered only after the cells have been serialised, which for\n",
       "    // our purposes (turning an active figure into a static one), is too late.\n",
       "    var cells = IPython.notebook.get_cells();\n",
       "    var ncells = cells.length;\n",
       "    for (var i=0; i<ncells; i++) {\n",
       "        var cell = cells[i];\n",
       "        if (cell.cell_type === 'code'){\n",
       "            for (var j=0; j<cell.output_area.outputs.length; j++) {\n",
       "                var data = cell.output_area.outputs[j];\n",
       "                if (data.data) {\n",
       "                    // IPython >= 3 moved mimebundle to data attribute of output\n",
       "                    data = data.data;\n",
       "                }\n",
       "                if (data['text/html'] == html_output) {\n",
       "                    return [cell, data, j];\n",
       "                }\n",
       "            }\n",
       "        }\n",
       "    }\n",
       "}\n",
       "\n",
       "// Register the function which deals with the matplotlib target/channel.\n",
       "// The kernel may be null if the page has been refreshed.\n",
       "if (IPython.notebook.kernel != null) {\n",
       "    IPython.notebook.kernel.comm_manager.register_target('matplotlib', mpl.mpl_figure_comm);\n",
       "}\n"
      ],
      "text/plain": [
       "<IPython.core.display.Javascript object>"
      ]
     },
     "metadata": {},
     "output_type": "display_data"
    },
    {
     "data": {
      "text/html": [
       "<img src=\"data:image/png;base64,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\" width=\"511.8181707248217\">"
      ],
      "text/plain": [
       "<IPython.core.display.HTML object>"
      ]
     },
     "metadata": {},
     "output_type": "display_data"
    }
   ],
   "source": [
    "# rootfinding\n",
    "plt.figure()\n",
    "x = np.linspace(0,3,100)\n",
    "plt.plot(x,x**3-2);\n",
    "plt.plot(x, x-x);"
   ]
  },
  {
   "cell_type": "code",
   "execution_count": 25,
   "metadata": {
    "ExecuteTime": {
     "end_time": "2018-02-22T22:01:15.331771Z",
     "start_time": "2018-02-22T22:01:15.328763Z"
    }
   },
   "outputs": [],
   "source": [
    "f =lambda x: x**3-2"
   ]
  },
  {
   "cell_type": "code",
   "execution_count": null,
   "metadata": {},
   "outputs": [],
   "source": []
  },
  {
   "cell_type": "code",
   "execution_count": 27,
   "metadata": {
    "ExecuteTime": {
     "end_time": "2018-02-22T22:01:49.174710Z",
     "start_time": "2018-02-22T22:01:48.614723Z"
    }
   },
   "outputs": [
    {
     "data": {
      "image/png": "[encoded data removed]",
      "text/latex": [
       "$$1.2599210506305099$$"
      ],
      "text/plain": [
       "1.2599210506305099"
      ]
     },
     "execution_count": 27,
     "metadata": {},
     "output_type": "execute_result"
    }
   ],
   "source": [
    "a, b = 0, 2\n",
    "\n",
    "tol=10e-10\n",
    "\n",
    "lower, upper = a, b\n",
    "\n",
    "while upper - lower > tol:\n",
    "    middle = 0.5 * (upper + lower)\n",
    "    # === if root is between lower and middle === #\n",
    "    if f(middle) > 0:  \n",
    "        lower, upper = lower, middle\n",
    "    # === if root is between middle and upper  === #\n",
    "    else:              \n",
    "        lower, upper = middle, upper\n",
    "        \n",
    "middle        "
   ]
  },
  {
   "cell_type": "markdown",
   "metadata": {},
   "source": [
    "###  <span style=\"color:red\">It is your turn to turn it into a function</span>"
   ]
  },
  {
   "cell_type": "markdown",
   "metadata": {},
   "source": [
    "### Check with Scipy"
   ]
  },
  {
   "cell_type": "code",
   "execution_count": 29,
   "metadata": {
    "ExecuteTime": {
     "end_time": "2018-02-22T22:02:31.257397Z",
     "start_time": "2018-02-22T22:02:30.645743Z"
    }
   },
   "outputs": [
    {
     "data": {
      "image/png": "[encoded data removed]",
      "text/latex": [
       "$$1.2599210498938191$$"
      ],
      "text/plain": [
       "1.2599210498938191"
      ]
     },
     "execution_count": 29,
     "metadata": {},
     "output_type": "execute_result"
    }
   ],
   "source": [
    "from scipy.optimize import bisect\n",
    "## example \n",
    "f =lambda x: x**3-2\n",
    "#f = lambda x: np.sin(4 * (x - 0.25)) + x + x**20 - 1\n",
    "bisect(f, 0, 2)"
   ]
  },
  {
   "cell_type": "markdown",
   "metadata": {},
   "source": [
    "The `bisect()` method takes three compulsory arguments: \n",
    "\n",
    "- (i) the function `f(x)`, \n",
    "\n",
    "- (ii) a lower limit `a` (for which we have chosen 1.5 in our example) and \n",
    "\n",
    "- (ii) an upper limit `b` (for which we have chosen 3). The optional parameter xtol determines the maximum error of the method.\n",
    "\n",
    "One of the requirements of the bisection method is that the interval `[a, b]` has to be chosen such that the function is either positive at`a` and negative at `b`, or that the function is negative at `a` and postive at `b`. In other words: `a` and `b` have to enclose a root."
   ]
  },
  {
   "cell_type": "markdown",
   "metadata": {},
   "source": [
    "### lambda operator or lambda function \n",
    "\n",
    "The lambda operator or lambda function is a way to create small anonymous functions, i.e. functions without a name. These functions are throw-away functions, i.e. they are just needed where they have been created. Lambda functions are mainly used in combination with the functions filter(), map() and reduce(). The lambda feature was added to Python due to the demand from Lisp programmers. \n",
    "\n",
    "https://www.python-course.eu/lambda.php\n",
    "\n",
    "http://www.secnetix.de/olli/Python/lambda_functions.hawk"
   ]
  },
  {
   "cell_type": "code",
   "execution_count": 34,
   "metadata": {
    "ExecuteTime": {
     "end_time": "2018-02-22T22:07:40.624001Z",
     "start_time": "2018-02-22T22:07:39.796803Z"
    }
   },
   "outputs": [
    {
     "data": {
      "image/png": "[encoded data removed]",
      "text/latex": [
       "$$64$$"
      ],
      "text/plain": [
       "64"
      ]
     },
     "execution_count": 34,
     "metadata": {},
     "output_type": "execute_result"
    }
   ],
   "source": [
    "def f (x): return x**2\n",
    "\n",
    "f(8)"
   ]
  },
  {
   "cell_type": "code",
   "execution_count": 35,
   "metadata": {
    "ExecuteTime": {
     "end_time": "2018-02-22T22:07:41.143402Z",
     "start_time": "2018-02-22T22:07:40.625505Z"
    }
   },
   "outputs": [
    {
     "data": {
      "image/png": "[encoded data removed]",
      "text/latex": [
       "$$64$$"
      ],
      "text/plain": [
       "64"
      ]
     },
     "execution_count": 35,
     "metadata": {},
     "output_type": "execute_result"
    }
   ],
   "source": [
    "g = lambda x: x**2\n",
    "\n",
    "g(8)"
   ]
  },
  {
   "cell_type": "code",
   "execution_count": null,
   "metadata": {},
   "outputs": [],
   "source": []
  },
  {
   "cell_type": "code",
   "execution_count": null,
   "metadata": {},
   "outputs": [],
   "source": []
  },
  {
   "cell_type": "code",
   "execution_count": null,
   "metadata": {},
   "outputs": [],
   "source": []
  },
  {
   "cell_type": "code",
   "execution_count": null,
   "metadata": {},
   "outputs": [],
   "source": []
  },
  {
   "cell_type": "code",
   "execution_count": null,
   "metadata": {},
   "outputs": [],
   "source": []
  },
  {
   "cell_type": "code",
   "execution_count": 30,
   "metadata": {
    "ExecuteTime": {
     "end_time": "2018-02-22T22:02:53.257616Z",
     "start_time": "2018-02-22T22:02:53.248592Z"
    }
   },
   "outputs": [],
   "source": [
    "def mybisect(f, a, b, tol=10e-10):\n",
    "    \"\"\"\n",
    "    Implements the bisection root finding algorithm, assuming that f is a\n",
    "    real-valued function on [a, b] satisfying f(a) < 0 < f(b).\n",
    "    \"\"\"\n",
    "    lower, upper = a, b\n",
    "\n",
    "    while upper - lower > tol:\n",
    "        middle = 0.5 * (upper + lower)\n",
    "        # === if root is between lower and middle === #\n",
    "        if f(middle) > 0:  \n",
    "            lower, upper = lower, middle\n",
    "        # === if root is between middle and upper  === #\n",
    "        else:              \n",
    "            lower, upper = middle, upper\n",
    "\n",
    "    return 0.5 * (upper + lower)"
   ]
  },
  {
   "cell_type": "code",
   "execution_count": 31,
   "metadata": {
    "ExecuteTime": {
     "end_time": "2018-02-22T22:03:00.988084Z",
     "start_time": "2018-02-22T22:03:00.305270Z"
    }
   },
   "outputs": [
    {
     "data": {
      "image/png": "[encoded data removed]",
      "text/latex": [
       "$$1.2599210501648486$$"
      ],
      "text/plain": [
       "1.2599210501648486"
      ]
     },
     "execution_count": 31,
     "metadata": {},
     "output_type": "execute_result"
    }
   ],
   "source": [
    "mybisect(f, 0, 2)"
   ]
  },
  {
   "cell_type": "code",
   "execution_count": null,
   "metadata": {},
   "outputs": [],
   "source": []
  },
  {
   "cell_type": "markdown",
   "metadata": {},
   "source": [
    "### Function Iteration"
   ]
  },
  {
   "cell_type": "code",
   "execution_count": null,
   "metadata": {},
   "outputs": [],
   "source": [
    "x = x0\n",
    "for it in range(maxit):\n",
    "    xold = x\n",
    "    x = f(x) # update x\n",
    "    diff = np.linalg.norm(x - xold)\n",
    "\n",
    "    if diff < tol:\n",
    "\n",
    "        return x"
   ]
  },
  {
   "cell_type": "markdown",
   "metadata": {},
   "source": [
    "###  <span style=\"color:red\">It is your turn to turn it into a function</span>"
   ]
  },
  {
   "cell_type": "markdown",
   "metadata": {},
   "source": [
    "### Check with Scipy"
   ]
  },
  {
   "cell_type": "code",
   "execution_count": 33,
   "metadata": {
    "ExecuteTime": {
     "end_time": "2018-02-22T22:05:05.771003Z",
     "start_time": "2018-02-22T22:05:05.764485Z"
    }
   },
   "outputs": [
    {
     "data": {
      "text/plain": [
       "array(1.)"
      ]
     },
     "execution_count": 33,
     "metadata": {},
     "output_type": "execute_result"
    }
   ],
   "source": [
    "from scipy.optimize import fixed_point\n",
    "\n",
    "fixed_point(lambda x: x**0.5, 0.4)  # 0.4 is an initial guess"
   ]
  },
  {
   "cell_type": "code",
   "execution_count": null,
   "metadata": {},
   "outputs": [],
   "source": []
  },
  {
   "cell_type": "code",
   "execution_count": null,
   "metadata": {},
   "outputs": [],
   "source": []
  },
  {
   "cell_type": "code",
   "execution_count": null,
   "metadata": {},
   "outputs": [],
   "source": []
  },
  {
   "cell_type": "code",
   "execution_count": null,
   "metadata": {},
   "outputs": [],
   "source": []
  },
  {
   "cell_type": "code",
   "execution_count": 36,
   "metadata": {
    "ExecuteTime": {
     "end_time": "2018-02-22T22:08:06.063227Z",
     "start_time": "2018-02-22T22:08:06.054202Z"
    }
   },
   "outputs": [],
   "source": [
    "def myfixpoint(f, x0, maxit = 1000,tol=10e-10):\n",
    "    # \n",
    "    x = x0\n",
    "    for it in range(maxit):\n",
    "        xold = x\n",
    "        x = f(x) \n",
    "        diff = np.linalg.norm(x - xold)\n",
    "\n",
    "        if diff < tol:\n",
    "            \n",
    "            return x\n"
   ]
  },
  {
   "cell_type": "code",
   "execution_count": 39,
   "metadata": {
    "ExecuteTime": {
     "end_time": "2018-02-22T22:08:46.449971Z",
     "start_time": "2018-02-22T22:08:45.896474Z"
    }
   },
   "outputs": [
    {
     "data": {
      "image/png": "[encoded data removed]",
      "text/latex": [
       "$$0.9999999991466377$$"
      ],
      "text/plain": [
       "0.9999999991466377"
      ]
     },
     "execution_count": 39,
     "metadata": {},
     "output_type": "execute_result"
    }
   ],
   "source": [
    "myfixpoint(lambda x: x**0.5, x0=0.4)"
   ]
  },
  {
   "cell_type": "code",
   "execution_count": null,
   "metadata": {},
   "outputs": [],
   "source": []
  },
  {
   "cell_type": "code",
   "execution_count": 32,
   "metadata": {
    "ExecuteTime": {
     "end_time": "2018-02-22T22:03:50.063042Z",
     "start_time": "2018-02-22T22:03:50.058028Z"
    }
   },
   "outputs": [
    {
     "data": {
      "text/html": [
       "<style>\n",
       "    @font-face {\n",
       "        font-family: \"Computer Modern\";\n",
       "        src: url('http://mirrors.ctan.org/fonts/cm-unicode/fonts/otf/cmunss.otf');\n",
       "    }\n",
       "    div.cell{\n",
       "        width: 90%;\n",
       "/*        margin-left:auto;*/\n",
       "/*        margin-right:auto;*/\n",
       "    }\n",
       "    ul {\n",
       "        line-height: 145%;\n",
       "        font-size: 90%;\n",
       "    }\n",
       "    li {\n",
       "        margin-bottom: 1em;\n",
       "    }\n",
       "    h1 {\n",
       "        font-family: Helvetica, serif;\n",
       "        color: rgb(0, 80, 120);\n",
       "    }\n",
       "    h2 {\n",
       "        color: rgb(0,100,110);\n",
       "    }\n",
       "    h3 {\n",
       "        color: rgb(94,127,192);\n",
       "    }\n",
       "    div.text_cell_render{\n",
       "        font-family: Computer Modern, \"Helvetica Neue\", Arial, Helvetica, Geneva, sans-serif;\n",
       "        line-height: 145%;\n",
       "        font-size: 130%;\n",
       "        width: 90%;\n",
       "        margin-left:auto;\n",
       "        margin-right:auto;\n",
       "    }\n",
       "    .CodeMirror{\n",
       "            font-family: \"Source Code Pro\", source-code-pro,Consolas, monospace;\n",
       "    }\n",
       "/*    .prompt{\n",
       "        display: None;\n",
       "    }*/\n",
       "    .text_cell_render h5 {\n",
       "        font-weight: 300;\n",
       "        font-size: 16pt;\n",
       "        color: #4057A1;\n",
       "        font-style: italic;\n",
       "        margin-bottom: 0.5em;\n",
       "        margin-top: 0.5em;\n",
       "        display: block;\n",
       "    }\n",
       "\n",
       "    .warning{\n",
       "        color: rgb( 240, 20, 20 )\n",
       "        }\n",
       "</style>"
      ],
      "text/plain": [
       "<IPython.core.display.HTML object>"
      ]
     },
     "execution_count": 32,
     "metadata": {},
     "output_type": "execute_result"
    }
   ],
   "source": [
    "from IPython.core.display import HTML, Image\n",
    "css_file = '../../custom.css'\n",
    "HTML(open(css_file, 'r').read())"
   ]
  }
 ],
 "metadata": {
  "kernelspec": {
   "display_name": "Python 3",
   "language": "python",
   "name": "python3"
  },
  "language_info": {
   "codemirror_mode": {
    "name": "ipython",
    "version": 3
   },
   "file_extension": ".py",
   "mimetype": "text/x-python",
   "name": "python",
   "nbconvert_exporter": "python",
   "pygments_lexer": "ipython3",
   "version": "3.6.4"
  }
 },
 "nbformat": 4,
 "nbformat_minor": 2
}
