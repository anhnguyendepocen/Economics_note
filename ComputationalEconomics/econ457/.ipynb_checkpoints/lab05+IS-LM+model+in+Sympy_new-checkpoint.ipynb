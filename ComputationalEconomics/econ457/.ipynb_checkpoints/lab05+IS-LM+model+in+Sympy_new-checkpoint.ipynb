{
 "cells": [
  {
   "cell_type": "code",
   "execution_count": 1,
   "metadata": {
    "ExecuteTime": {
     "end_time": "2018-02-22T19:25:07.851977Z",
     "start_time": "2018-02-22T19:25:03.935719Z"
    }
   },
   "outputs": [],
   "source": [
    "from sympy import *\n",
    "%matplotlib inline\n",
    "\n",
    "\n",
    "init_printing(use_latex=True)\n",
    "\n",
    "\n",
    "import matplotlib as mpl\n",
    "# matplotlib for ploting\n",
    "from matplotlib import pyplot as plt\n",
    "from mpl_toolkits.mplot3d import Axes3D     # 3d\n",
    "# for inline interactive plotting\n",
    "%matplotlib inline\n",
    "\n",
    "#mpl.rcParams['savefig.dpi'] = 80\n",
    "mpl.rcParams['figure.dpi'] = 80\n",
    "# from IPython.display import set_matplotlib_formats\n",
    "# set_matplotlib_formats('png', 'pdf')\n",
    "# for better picture quality\n",
    "%config InlineBackend.figure_format = 'retina'\n",
    "\n",
    "\n",
    "import seaborn as sns\n",
    "sns.set()\n",
    "#sns.set_style(style= \"whitegrid\")\n",
    "#plt.style.available\n",
    "# bold graph style\n",
    "plt.style.use('fivethirtyeight')"
   ]
  },
  {
   "cell_type": "code",
   "execution_count": null,
   "metadata": {},
   "outputs": [],
   "source": []
  },
  {
   "cell_type": "markdown",
   "metadata": {},
   "source": [
    "# Markdown Tutorial"
   ]
  },
  {
   "cell_type": "markdown",
   "metadata": {},
   "source": [
    "## Markdown Cells\n",
    "\n",
    "Cells which contain text are called \"markdown\" cells. In markdown cells acutally use a text formatting language called markdown. To make a cell into a markdown cell, choose the option \"Markdown\" from the drop down menu on the tool bar above. \n",
    "\n",
    "Markdown cells are run in the same way as code cells: by pressing ```shift + enter```. Once a markdown cell has been run, it appears as plain text. To edit a markdown cell, double click on it.\n",
    "\n",
    "### Headings\n",
    "Markdown cells can contain headings and subheadings to keep writing organized. To create a heading, type from one to six ```#```s at the beginning of a line followed by a space and the name of your heading. Jupyter will automatically change the font size of the heading and turn it blue for visability. \n",
    "\n",
    "Markdown has 6 different levels of headings. Below are some examples of different headings. The cell below contains the largest of these headings. Double click on this cell see how these different were created.\n"
   ]
  },
  {
   "cell_type": "markdown",
   "metadata": {},
   "source": [
    "```\n",
    "# Heading 1\n",
    "## Heading 2\n",
    "##### Heading 5\n",
    "```"
   ]
  },
  {
   "cell_type": "markdown",
   "metadata": {},
   "source": [
    "# Heading 1\n",
    "## Heading 2\n",
    "##### Heading 5"
   ]
  },
  {
   "cell_type": "markdown",
   "metadata": {},
   "source": [
    "## Emphasis: \n",
    "\n",
    "\n",
    "- Bold:\n",
    "```\n",
    "    __string__ or **string** \n",
    "```\n",
    "\n",
    " gives\n",
    " \n",
    " __string__ or **string** \n",
    " \n",
    " \n",
    "- Italic: \n",
    "\n",
    "```\n",
    "    _string_ or *string*\n",
    "```\n",
    "\n",
    "gives\n",
    "\n",
    "_string_ or *string*"
   ]
  },
  {
   "cell_type": "markdown",
   "metadata": {},
   "source": [
    "### LaTeX\n",
    "To embed LaTeX formatting in a markdown cell, surround the command with either ```$``` or ```$$```. The single dollar sign puts it inline witht the text, the the double dollar sign centers it below the text. Here is an example of a centered LaTeX command:\n",
    "\n",
    "$$F(x) = \\int_{0}^{\\infty} e^{-x} dx$$\n",
    "\n",
    "\n",
    "See more at http://nbviewer.jupyter.org/github/ipython/ipython/blob/1.x/examples/notebooks/Typesetting%20Math%20Using%20MathJax.ipynb"
   ]
  },
  {
   "cell_type": "markdown",
   "metadata": {},
   "source": [
    "## GitHub flavored markdown\n",
    "The Notebook webapp supports Github flavored markdown meaning that you can use triple backticks for code blocks:\n",
    "\n",
    "\n",
    "    ```python\n",
    "    print \"Hello World\"\n",
    "    ```\n",
    "\n",
    "gives\n",
    "\n",
    "```python\n",
    "print \"Hello World\"\n",
    "```\n",
    "\n",
    "and \n",
    "\n",
    "    ```javascript\n",
    "    console.log(\"Hello World\")\n",
    "    ```\n",
    "gives\n",
    "\n",
    "```javascript\n",
    "console.log(\"Hello World\")\n",
    "```"
   ]
  },
  {
   "cell_type": "code",
   "execution_count": null,
   "metadata": {},
   "outputs": [],
   "source": []
  },
  {
   "cell_type": "markdown",
   "metadata": {},
   "source": [
    "## Model:\n",
    "\n",
    "- product equals aggregate demand, $Y = C + I +G$; \n",
    "\n",
    "- consumption function, $C = \\bar C + c(Y−T)$; \n",
    "\n",
    "- investment function, $I = \\bar I − bR$; \n",
    "\n",
    "\n",
    "- public spending function, $G = \\bar G$; \n",
    "\n",
    "- income taxes function, $T = \\bar T$; \n",
    "\n",
    "- monetary equilibrium, $M/P = kY − hR$; \n",
    "\n",
    "- money supply function, $M = \\bar M$."
   ]
  },
  {
   "cell_type": "markdown",
   "metadata": {},
   "source": [
    "## Endogenous variables: \n",
    "\n",
    "- product, $Y$;\n",
    "\n",
    "- consumption, $C$; \n",
    "\n",
    "- investment, $I$; \n",
    "\n",
    "- interest rate, $R$."
   ]
  },
  {
   "cell_type": "code",
   "execution_count": 22,
   "metadata": {
    "ExecuteTime": {
     "end_time": "2018-02-22T19:25:07.855987Z",
     "start_time": "2018-02-22T19:25:07.853482Z"
    }
   },
   "outputs": [],
   "source": [
    "Y, C, I, R, P, M = symbols('Y C I R P M')"
   ]
  },
  {
   "cell_type": "markdown",
   "metadata": {},
   "source": [
    "## Exogenous variables: \n",
    "\n",
    "- government/public spending, $\\bar G$; \n",
    "\n",
    "- independent/autonomous consumption, $\\bar C$; \n",
    "\n",
    "- independent/autonomous investment, $\\bar I$; \n",
    "\n",
    "- income taxes, $\\bar T$;\n",
    "\n",
    "- money supply, $\\bar M$; \n",
    "\n",
    "- price level (fixed), $\\bar P$."
   ]
  },
  {
   "cell_type": "code",
   "execution_count": 23,
   "metadata": {
    "ExecuteTime": {
     "end_time": "2018-02-22T19:25:07.886067Z",
     "start_time": "2018-02-22T19:25:07.857491Z"
    }
   },
   "outputs": [],
   "source": [
    "Gbar, Cbar, Ibar, Tbar, Mbar, Pbar = symbols( 'Gbar Cbar Ibar Tbar Mbar Pbar')"
   ]
  },
  {
   "cell_type": "markdown",
   "metadata": {},
   "source": [
    "## Parameters:\n",
    "- $c$ is the propensity to consume, $0 < c < 1$; \n",
    "\n",
    "- $b > 0$ is the interest sensitivity of investment; \n",
    "\n",
    "- $k > 0$ is the output sensitivity of the demand for money; \n",
    "\n",
    "- $h > 0$ is the interest sensitivity of the demand for money.\n",
    "\n"
   ]
  },
  {
   "cell_type": "code",
   "execution_count": 24,
   "metadata": {
    "ExecuteTime": {
     "end_time": "2018-02-22T19:25:07.909662Z",
     "start_time": "2018-02-22T19:25:07.887071Z"
    }
   },
   "outputs": [],
   "source": [
    "c, b, k, h = symbols('c b k h', positive = True)"
   ]
  },
  {
   "cell_type": "markdown",
   "metadata": {},
   "source": [
    "## IS curve\n",
    "\n",
    "The IS curve shows the continuum of combinations of the interest and production level at which there is equilibrium in the goods and services market:"
   ]
  },
  {
   "cell_type": "code",
   "execution_count": 25,
   "metadata": {
    "ExecuteTime": {
     "end_time": "2018-02-22T19:25:08.692713Z",
     "start_time": "2018-02-22T19:25:08.690207Z"
    }
   },
   "outputs": [],
   "source": [
    "#solve( Y - (Cbar + c*(Y-Tbar) + Ibar - b*R + Gbar),Y)"
   ]
  },
  {
   "cell_type": "code",
   "execution_count": 26,
   "metadata": {
    "ExecuteTime": {
     "end_time": "2018-02-22T19:25:09.709781Z",
     "start_time": "2018-02-22T19:25:08.976806Z"
    }
   },
   "outputs": [
    {
     "data": {
      "image/png": "[encoded data removed]",
      "text/latex": [
       "$$Y = C + \\bar{G} + I$$"
      ],
      "text/plain": [
       "Y = C + G̅ + I"
      ]
     },
     "execution_count": 26,
     "metadata": {},
     "output_type": "execute_result"
    }
   ],
   "source": [
    "aggregate_demand = Eq(Y, C+I+Gbar)\n",
    "aggregate_demand"
   ]
  },
  {
   "cell_type": "code",
   "execution_count": 27,
   "metadata": {
    "ExecuteTime": {
     "end_time": "2018-02-22T19:25:10.423271Z",
     "start_time": "2018-02-22T19:25:09.710783Z"
    }
   },
   "outputs": [
    {
     "data": {
      "image/png": "[encoded data removed]",
      "text/latex": [
       "$$C = \\bar{C} + c \\left(- \\bar{T} + Y\\right)$$"
      ],
      "text/plain": [
       "C = C̅ + c⋅(-T̅ + Y)"
      ]
     },
     "execution_count": 27,
     "metadata": {},
     "output_type": "execute_result"
    }
   ],
   "source": [
    "consumption_function=Eq(C,Cbar+c*(Y-Tbar))\n",
    "consumption_function"
   ]
  },
  {
   "cell_type": "code",
   "execution_count": 28,
   "metadata": {
    "ExecuteTime": {
     "end_time": "2018-02-22T19:25:10.922597Z",
     "start_time": "2018-02-22T19:25:10.424275Z"
    }
   },
   "outputs": [
    {
     "data": {
      "image/png": "[encoded data removed]",
      "text/latex": [
       "$$I = \\bar{I} - R b$$"
      ],
      "text/plain": [
       "I = I̅ - R⋅b"
      ]
     },
     "execution_count": 28,
     "metadata": {},
     "output_type": "execute_result"
    }
   ],
   "source": [
    "investment_function=Eq(  I,Ibar-b*R)\n",
    "investment_function"
   ]
  },
  {
   "cell_type": "code",
   "execution_count": 29,
   "metadata": {
    "ExecuteTime": {
     "end_time": "2018-02-22T19:25:11.547760Z",
     "start_time": "2018-02-22T19:25:10.923601Z"
    }
   },
   "outputs": [
    {
     "data": {
      "image/png": "[encoded data removed]",
      "text/latex": [
       "$$\\left \\{ C : \\frac{1}{c - 1} \\left(- \\bar{C} - \\bar{G} c + \\bar{T} c - c \\left(\\bar{I} - R b\\right)\\right), \\quad I : \\bar{I} - R b, \\quad Y : \\frac{1}{c - 1} \\left(- \\bar{C} - \\bar{G} - \\bar{I} + R b + \\bar{T} c\\right)\\right \\}$$"
      ],
      "text/plain": [
       "⎧   -C̅ - G̅⋅c + T̅⋅c - c⋅(I̅ - R⋅b)                  -C̅ - G̅ - I̅ + R⋅b + T̅\n",
       "⎨C: ────────────────────────────────, I: I̅ - R⋅b, Y: ────────────────────────\n",
       "⎩                c - 1                                          c - 1         \n",
       "\n",
       "⋅c⎫\n",
       "──⎬\n",
       "  ⎭"
      ]
     },
     "execution_count": 29,
     "metadata": {},
     "output_type": "execute_result"
    }
   ],
   "source": [
    "ISsol=solve( [aggregate_demand,consumption_function,investment_function],[Y,C,I])\n",
    "ISsol"
   ]
  },
  {
   "cell_type": "code",
   "execution_count": 30,
   "metadata": {
    "ExecuteTime": {
     "end_time": "2018-02-22T19:25:12.030041Z",
     "start_time": "2018-02-22T19:25:11.549264Z"
    }
   },
   "outputs": [
    {
     "data": {
      "image/png": "[encoded data removed]",
      "text/latex": [
       "$$\\frac{1}{c - 1} \\left(- \\bar{C} - \\bar{G} c + \\bar{T} c - c \\left(\\bar{I} - R b\\right)\\right)$$"
      ],
      "text/plain": [
       "-C̅ - G̅⋅c + T̅⋅c - c⋅(I̅ - R⋅b)\n",
       "────────────────────────────────\n",
       "             c - 1              "
      ]
     },
     "execution_count": 30,
     "metadata": {},
     "output_type": "execute_result"
    }
   ],
   "source": [
    "ISsol[C]"
   ]
  },
  {
   "cell_type": "code",
   "execution_count": 31,
   "metadata": {
    "ExecuteTime": {
     "end_time": "2018-02-22T19:25:12.442640Z",
     "start_time": "2018-02-22T19:25:12.031545Z"
    }
   },
   "outputs": [
    {
     "data": {
      "image/png": "[encoded data removed]",
      "text/latex": [
       "$$\\frac{1}{c - 1} \\left(- \\bar{C} - \\bar{G} - \\bar{I} + R b + \\bar{T} c\\right)$$"
      ],
      "text/plain": [
       "-C̅ - G̅ - I̅ + R⋅b + T̅⋅c\n",
       "──────────────────────────\n",
       "          c - 1           "
      ]
     },
     "execution_count": 31,
     "metadata": {},
     "output_type": "execute_result"
    }
   ],
   "source": [
    "ISsol[Y]"
   ]
  },
  {
   "cell_type": "code",
   "execution_count": 32,
   "metadata": {
    "ExecuteTime": {
     "end_time": "2018-02-22T19:25:37.656021Z",
     "start_time": "2018-02-22T19:25:37.168223Z"
    }
   },
   "outputs": [
    {
     "data": {
      "image/png": "[encoded data removed]",
      "text/latex": [
       "$$\\bar{I} - R b$$"
      ],
      "text/plain": [
       "I̅ - R⋅b"
      ]
     },
     "execution_count": 32,
     "metadata": {},
     "output_type": "execute_result"
    }
   ],
   "source": [
    "ISsol[I]"
   ]
  },
  {
   "cell_type": "code",
   "execution_count": null,
   "metadata": {},
   "outputs": [],
   "source": []
  },
  {
   "cell_type": "markdown",
   "metadata": {},
   "source": [
    "## IS−LM model \n",
    "\n",
    "- monetary equilibrium, $M/P = kY − hR$; \n",
    "\n",
    "- money supply function, $M = \\bar M$."
   ]
  },
  {
   "cell_type": "code",
   "execution_count": null,
   "metadata": {},
   "outputs": [],
   "source": []
  },
  {
   "cell_type": "markdown",
   "metadata": {},
   "source": [
    "###  <span style=\"color:red\">It is your turn to solve it</span>"
   ]
  },
  {
   "cell_type": "code",
   "execution_count": null,
   "metadata": {},
   "outputs": [],
   "source": []
  },
  {
   "cell_type": "code",
   "execution_count": null,
   "metadata": {},
   "outputs": [],
   "source": []
  },
  {
   "cell_type": "code",
   "execution_count": null,
   "metadata": {},
   "outputs": [],
   "source": []
  },
  {
   "cell_type": "code",
   "execution_count": null,
   "metadata": {},
   "outputs": [],
   "source": []
  },
  {
   "cell_type": "code",
   "execution_count": null,
   "metadata": {},
   "outputs": [],
   "source": []
  },
  {
   "cell_type": "code",
   "execution_count": null,
   "metadata": {},
   "outputs": [],
   "source": []
  },
  {
   "cell_type": "code",
   "execution_count": null,
   "metadata": {},
   "outputs": [],
   "source": []
  },
  {
   "cell_type": "code",
   "execution_count": null,
   "metadata": {},
   "outputs": [],
   "source": []
  },
  {
   "cell_type": "markdown",
   "metadata": {
    "collapsed": true
   },
   "source": [
    "## IS−LM model "
   ]
  },
  {
   "cell_type": "code",
   "execution_count": 13,
   "metadata": {
    "ExecuteTime": {
     "end_time": "2018-02-22T19:25:43.626085Z",
     "start_time": "2018-02-22T19:25:43.185914Z"
    }
   },
   "outputs": [
    {
     "data": {
      "image/png": "[encoded data removed]",
      "text/latex": [
       "$$\\frac{M}{\\bar{P}} = - R h + Y k$$"
      ],
      "text/plain": [
       "M              \n",
       "── = -R⋅h + Y⋅k\n",
       "P̅             "
      ]
     },
     "execution_count": 13,
     "metadata": {},
     "output_type": "execute_result"
    }
   ],
   "source": [
    "monetary_equilibrium= Eq( M/Pbar,k*Y-h*R) ;\n",
    "monetary_equilibrium"
   ]
  },
  {
   "cell_type": "code",
   "execution_count": 14,
   "metadata": {
    "ExecuteTime": {
     "end_time": "2018-02-22T19:25:44.290507Z",
     "start_time": "2018-02-22T19:25:43.776124Z"
    }
   },
   "outputs": [
    {
     "data": {
      "image/png": "[encoded data removed]",
      "text/latex": [
       "$$M = \\bar{M}$$"
      ],
      "text/plain": [
       "M = M̅"
      ]
     },
     "execution_count": 14,
     "metadata": {},
     "output_type": "execute_result"
    }
   ],
   "source": [
    "money_supply_function=Eq(M,Mbar)  \n",
    "money_supply_function"
   ]
  },
  {
   "cell_type": "code",
   "execution_count": 15,
   "metadata": {
    "ExecuteTime": {
     "end_time": "2018-02-22T19:25:45.170480Z",
     "start_time": "2018-02-22T19:25:44.562326Z"
    }
   },
   "outputs": [
    {
     "data": {
      "image/png": "[encoded data removed]",
      "text/latex": [
       "$$\\left \\{ M : \\bar{M}, \\quad R : \\frac{1}{\\bar{P} h} \\left(- \\bar{M} + \\bar{P} Y k\\right)\\right \\}$$"
      ],
      "text/plain": [
       "⎧          -M̅ + P̅⋅Y⋅k⎫\n",
       "⎨M: M̅, R: ────────────⎬\n",
       "⎩              P̅⋅h    ⎭"
      ]
     },
     "execution_count": 15,
     "metadata": {},
     "output_type": "execute_result"
    }
   ],
   "source": [
    "LMsol=solve([monetary_equilibrium,money_supply_function],[R,M])\n",
    "LMsol"
   ]
  },
  {
   "cell_type": "code",
   "execution_count": null,
   "metadata": {},
   "outputs": [],
   "source": []
  },
  {
   "cell_type": "code",
   "execution_count": null,
   "metadata": {},
   "outputs": [],
   "source": []
  },
  {
   "cell_type": "markdown",
   "metadata": {},
   "source": [
    "## Solve equilibrium for IS-LM"
   ]
  },
  {
   "cell_type": "code",
   "execution_count": 16,
   "metadata": {
    "ExecuteTime": {
     "end_time": "2018-02-22T19:25:51.599866Z",
     "start_time": "2018-02-22T19:25:51.195793Z"
    }
   },
   "outputs": [
    {
     "data": {
      "image/png": "[encoded data removed]",
      "text/latex": [
       "$$\\frac{1}{c - 1} \\left(- \\bar{C} - \\bar{G} - \\bar{I} + R b + \\bar{T} c\\right)$$"
      ],
      "text/plain": [
       "-C̅ - G̅ - I̅ + R⋅b + T̅⋅c\n",
       "──────────────────────────\n",
       "          c - 1           "
      ]
     },
     "execution_count": 16,
     "metadata": {},
     "output_type": "execute_result"
    }
   ],
   "source": [
    "ISsol[Y]"
   ]
  },
  {
   "cell_type": "code",
   "execution_count": null,
   "metadata": {},
   "outputs": [],
   "source": []
  },
  {
   "cell_type": "code",
   "execution_count": 17,
   "metadata": {
    "ExecuteTime": {
     "end_time": "2018-02-22T19:25:52.726953Z",
     "start_time": "2018-02-22T19:25:52.329899Z"
    }
   },
   "outputs": [
    {
     "data": {
      "image/png": "[encoded data removed]",
      "text/latex": [
       "$$\\frac{1}{\\bar{P} h} \\left(- \\bar{M} + \\bar{P} Y k\\right)$$"
      ],
      "text/plain": [
       "-M̅ + P̅⋅Y⋅k\n",
       "────────────\n",
       "    P̅⋅h    "
      ]
     },
     "execution_count": 17,
     "metadata": {},
     "output_type": "execute_result"
    }
   ],
   "source": [
    "LMsol[R]"
   ]
  },
  {
   "cell_type": "code",
   "execution_count": null,
   "metadata": {},
   "outputs": [],
   "source": []
  },
  {
   "cell_type": "code",
   "execution_count": 18,
   "metadata": {
    "ExecuteTime": {
     "end_time": "2018-02-22T19:25:59.224018Z",
     "start_time": "2018-02-22T19:25:59.002431Z"
    }
   },
   "outputs": [],
   "source": [
    "ISLMsol=solve([Eq(Y,ISsol[Y]),Eq(R,LMsol[R])],[Y,R])"
   ]
  },
  {
   "cell_type": "code",
   "execution_count": 19,
   "metadata": {
    "ExecuteTime": {
     "end_time": "2018-02-22T19:25:59.934471Z",
     "start_time": "2018-02-22T19:25:59.461149Z"
    }
   },
   "outputs": [
    {
     "data": {
      "image/png": "[encoded data removed]",
      "text/latex": [
       "$$\\left \\{ R : \\frac{\\bar{M} \\left(c - 1\\right) + \\bar{P} k \\left(\\bar{C} + \\bar{G} + \\bar{I} - \\bar{T} c\\right)}{\\bar{P} \\left(b k - h \\left(c - 1\\right)\\right)}, \\quad Y : \\frac{\\bar{M} b + \\bar{P} h \\left(\\bar{C} + \\bar{G} + \\bar{I} - \\bar{T} c\\right)}{\\bar{P} \\left(b k - h \\left(c - 1\\right)\\right)}\\right \\}$$"
      ],
      "text/plain": [
       "⎧   M̅⋅(c - 1) + P̅⋅k⋅(C̅ + G̅ + I̅ - T̅⋅c)     M̅⋅b + P̅⋅h⋅(C̅ + G̅ + I̅ - T̅\n",
       "⎨R: ───────────────────────────────────────, Y: ──────────────────────────────\n",
       "⎩             P̅⋅(b⋅k - h⋅(c - 1))                     P̅⋅(b⋅k - h⋅(c - 1))   \n",
       "\n",
       "⋅c)⎫\n",
       "───⎬\n",
       "   ⎭"
      ]
     },
     "execution_count": 19,
     "metadata": {},
     "output_type": "execute_result"
    }
   ],
   "source": [
    "ISLMsol"
   ]
  },
  {
   "cell_type": "code",
   "execution_count": null,
   "metadata": {},
   "outputs": [],
   "source": []
  },
  {
   "cell_type": "code",
   "execution_count": null,
   "metadata": {},
   "outputs": [],
   "source": []
  },
  {
   "cell_type": "markdown",
   "metadata": {
    "collapsed": true
   },
   "source": [
    "## Consumption optimum with two goods"
   ]
  },
  {
   "cell_type": "markdown",
   "metadata": {
    "collapsed": true
   },
   "source": [
    "A consumer maximizes Cobb-Douglas utility \n",
    "\n",
    "$$U(c_1,c_2) = c_1^\\alpha c_2^{(1-\\alpha)}$$\n",
    "\n",
    "\n",
    "\n",
    "subject to the budget constraint\n",
    "\n",
    "$$p_1 c_1 + p_2 c_2 \\leq I $$"
   ]
  },
  {
   "cell_type": "code",
   "execution_count": 20,
   "metadata": {
    "ExecuteTime": {
     "end_time": "2018-02-22T19:26:14.034950Z",
     "start_time": "2018-02-22T19:26:14.032944Z"
    }
   },
   "outputs": [],
   "source": [
    "c1, c2, α, p1, p2, λ, I = symbols( 'c1, c2, alpha, p1, p2, lambda,I')"
   ]
  },
  {
   "cell_type": "code",
   "execution_count": 21,
   "metadata": {
    "ExecuteTime": {
     "end_time": "2018-02-22T19:26:15.059833Z",
     "start_time": "2018-02-22T19:26:15.057821Z"
    }
   },
   "outputs": [],
   "source": [
    "#U = Function(\"U\")"
   ]
  },
  {
   "cell_type": "code",
   "execution_count": 22,
   "metadata": {
    "ExecuteTime": {
     "end_time": "2018-02-22T19:26:16.750312Z",
     "start_time": "2018-02-22T19:26:16.266451Z"
    }
   },
   "outputs": [
    {
     "data": {
      "image/png": "[encoded data removed]",
      "text/latex": [
       "$$c_{1}^{\\alpha} c_{2}^{- \\alpha + 1}$$"
      ],
      "text/plain": [
       "  α   -α + 1\n",
       "c₁ ⋅c₂      "
      ]
     },
     "execution_count": 22,
     "metadata": {},
     "output_type": "execute_result"
    }
   ],
   "source": [
    "U = c1**α*c2**(1-α)\n",
    "U"
   ]
  },
  {
   "cell_type": "code",
   "execution_count": 23,
   "metadata": {
    "ExecuteTime": {
     "end_time": "2018-02-22T19:26:17.222612Z",
     "start_time": "2018-02-22T19:26:16.812021Z"
    }
   },
   "outputs": [
    {
     "data": {
      "image/png": "[encoded data removed]",
      "text/latex": [
       "$$c_{1} p_{1} + c_{2} p_{2}$$"
      ],
      "text/plain": [
       "c₁⋅p₁ + c₂⋅p₂"
      ]
     },
     "execution_count": 23,
     "metadata": {},
     "output_type": "execute_result"
    }
   ],
   "source": [
    "g = p1*c1+p2*c2\n",
    "g"
   ]
  },
  {
   "cell_type": "code",
   "execution_count": null,
   "metadata": {},
   "outputs": [],
   "source": []
  },
  {
   "cell_type": "markdown",
   "metadata": {
    "collapsed": true
   },
   "source": [
    "## The consumer's optimum\n",
    "\n",
    "$$L(c_1,c_2) = U(c_1,c_2) + \\lambda (I - p_1 c_1  - p_2 c_2) $$\n",
    "\n",
    "\n",
    "\n",
    "\n",
    "Differentiate with respect to $c_1$ and $c_2$ and $\\lambda$ to get:\n",
    "\n",
    "$$ U_1 = \\lambda{p_1}$$\n",
    "\n",
    "$$ U_2 = \\lambda{p_2}$$\n",
    "\n",
    "$$ I = p_1 c_1  + p_2 c_2$$"
   ]
  },
  {
   "cell_type": "code",
   "execution_count": 24,
   "metadata": {
    "ExecuteTime": {
     "end_time": "2018-02-22T19:26:19.500061Z",
     "start_time": "2018-02-22T19:26:19.088222Z"
    }
   },
   "outputs": [
    {
     "data": {
      "image/png": "[encoded data removed]",
      "text/latex": [
       "$$c_{1}^{\\alpha} c_{2}^{- \\alpha + 1} + \\lambda \\left(I - c_{1} p_{1} - c_{2} p_{2}\\right)$$"
      ],
      "text/plain": [
       "  α   -α + 1                        \n",
       "c₁ ⋅c₂       + λ⋅(I - c₁⋅p₁ - c₂⋅p₂)"
      ]
     },
     "execution_count": 24,
     "metadata": {},
     "output_type": "execute_result"
    }
   ],
   "source": [
    "Lag = U+ λ*(I-g)\n",
    "Lag"
   ]
  },
  {
   "cell_type": "markdown",
   "metadata": {
    "collapsed": true
   },
   "source": [
    "Dividing the first equation by the second we get the familiar necessary tangency condition for an interior optimum:\n",
    "\n",
    "$$MRS = \\frac{U_1}{U_2} =\\frac{p_1}{p_2}$$\n",
    "\n",
    "Using our earlier expression for the MRS of a Cobb-Douglas indifference curve, substituting this into the budget constraint and rearranging then allows us to solve for the Marshallian demands:\n",
    "\n",
    "$$c_1(p_1,p_2,I)=\\alpha \\frac{I}{p_1}$$\n",
    "\n",
    "$$c_1(p_1,p_2,I)=(1-\\alpha) \\frac{I}{p_2}$$"
   ]
  },
  {
   "cell_type": "code",
   "execution_count": 25,
   "metadata": {
    "ExecuteTime": {
     "end_time": "2018-02-22T19:26:20.696327Z",
     "start_time": "2018-02-22T19:26:20.151880Z"
    }
   },
   "outputs": [
    {
     "data": {
      "image/png": "[encoded data removed]",
      "text/latex": [
       "$$\\left [ \\frac{\\alpha c_{1}^{\\alpha}}{c_{1}} c_{2}^{- \\alpha + 1} - \\lambda p_{1}, \\quad \\frac{c_{1}^{\\alpha}}{c_{2}} c_{2}^{- \\alpha + 1} \\left(- \\alpha + 1\\right) - \\lambda p_{2}, \\quad I - c_{1} p_{1} - c_{2} p_{2}\\right ]$$"
      ],
      "text/plain": [
       "⎡    α   -α + 1           α   -α + 1                                   ⎤\n",
       "⎢α⋅c₁ ⋅c₂               c₁ ⋅c₂      ⋅(-α + 1)                          ⎥\n",
       "⎢────────────── - λ⋅p₁, ───────────────────── - λ⋅p₂, I - c₁⋅p₁ - c₂⋅p₂⎥\n",
       "⎣      c₁                         c₂                                   ⎦"
      ]
     },
     "execution_count": 25,
     "metadata": {},
     "output_type": "execute_result"
    }
   ],
   "source": [
    "grad_L = [diff(Lag, x_) for x_ in [c1,c2,λ]] # List of FOCs\n",
    "grad_L"
   ]
  },
  {
   "cell_type": "code",
   "execution_count": 26,
   "metadata": {
    "ExecuteTime": {
     "end_time": "2018-02-22T19:26:21.232806Z",
     "start_time": "2018-02-22T19:26:20.746460Z"
    }
   },
   "outputs": [
    {
     "data": {
      "image/png": "[encoded data removed]",
      "text/latex": [
       "$$\\frac{\\alpha c_{1}^{\\alpha}}{c_{1}} c_{2}^{- \\alpha + 1} - \\lambda p_{1}$$"
      ],
      "text/plain": [
       "    α   -α + 1       \n",
       "α⋅c₁ ⋅c₂             \n",
       "────────────── - λ⋅p₁\n",
       "      c₁             "
      ]
     },
     "execution_count": 26,
     "metadata": {},
     "output_type": "execute_result"
    }
   ],
   "source": [
    "grad_L[0]"
   ]
  },
  {
   "cell_type": "code",
   "execution_count": null,
   "metadata": {},
   "outputs": [],
   "source": []
  },
  {
   "cell_type": "code",
   "execution_count": 27,
   "metadata": {
    "ExecuteTime": {
     "end_time": "2018-02-22T19:26:50.755502Z",
     "start_time": "2018-02-22T19:26:49.661179Z"
    }
   },
   "outputs": [
    {
     "data": {
      "image/png": "[encoded data removed]",
      "text/latex": [
       "$$\\left [ \\left ( \\frac{I \\alpha}{p_{1}}, \\quad - \\frac{I}{p_{2}} \\left(\\alpha - 1\\right), \\quad \\frac{\\left(\\frac{I \\alpha}{p_{1}}\\right)^{\\alpha}}{I} \\left(- \\frac{I}{p_{2}} \\left(\\alpha - 1\\right)\\right)^{- \\alpha + 1}\\right )\\right ]$$"
      ],
      "text/plain": [
       "⎡⎛                       α              -α + 1⎞⎤\n",
       "⎢⎜                  ⎛I⋅α⎞  ⎛-I⋅(α - 1) ⎞      ⎟⎥\n",
       "⎢⎜                  ⎜───⎟ ⋅⎜───────────⎟      ⎟⎥\n",
       "⎢⎜I⋅α  -I⋅(α - 1)   ⎝ p₁⎠  ⎝     p₂    ⎠      ⎟⎥\n",
       "⎢⎜───, ───────────, ──────────────────────────⎟⎥\n",
       "⎣⎝ p₁       p₂                  I             ⎠⎦"
      ]
     },
     "execution_count": 27,
     "metadata": {},
     "output_type": "execute_result"
    }
   ],
   "source": [
    "sols = solve(grad_L, [c1,c2,λ])\n",
    "sols"
   ]
  },
  {
   "cell_type": "code",
   "execution_count": null,
   "metadata": {},
   "outputs": [],
   "source": []
  },
  {
   "cell_type": "code",
   "execution_count": null,
   "metadata": {},
   "outputs": [],
   "source": []
  },
  {
   "cell_type": "markdown",
   "metadata": {},
   "source": [
    "## Firm production optimum with two inputs"
   ]
  },
  {
   "cell_type": "markdown",
   "metadata": {},
   "source": [
    "A firm maximizes Cobb-Douglas production \n",
    "\n",
    "$$F(K,L) = K^\\alpha L^{(1-\\alpha)}$$\n",
    "\n",
    "\n",
    "\n",
    "subject to the budget constraint\n",
    "\n",
    "$$r L + w L \\leq c $$"
   ]
  },
  {
   "cell_type": "markdown",
   "metadata": {},
   "source": [
    "## The firm's optimum\n",
    "\n",
    "$$L(K,L) = F(K,L) + \\lambda (c - r L - w L ) $$\n",
    "\n",
    "\n",
    "\n",
    "\n",
    "Differentiate with respect to $c_1$ and $c_2$ and $\\lambda$ to get:\n",
    "\n",
    "$$ F_K = \\lambda{r}$$\n",
    "\n",
    "$$ F_L = \\lambda{w}$$\n",
    "\n",
    "$$ c = r L + w L$$"
   ]
  },
  {
   "cell_type": "markdown",
   "metadata": {},
   "source": [
    "Dividing the first equation by the second we get the familiar necessary tangency condition for an interior optimum:\n",
    "\n",
    "$$\\frac{F_K}{F_L} =\\frac{r}{w}$$\n",
    "\n",
    "substituting this into the budget constraint and rearranging then allows us to solve factor demands:\n",
    "\n",
    "$$K(r,w,c)=\\alpha \\frac{c}{r}$$\n",
    "\n",
    "$$L(r,w,c)=(1-\\alpha) \\frac{c}{w}$$"
   ]
  },
  {
   "cell_type": "markdown",
   "metadata": {},
   "source": [
    "###  <span style=\"color:red\">It is your turn to solve it</span>"
   ]
  },
  {
   "cell_type": "code",
   "execution_count": null,
   "metadata": {},
   "outputs": [],
   "source": []
  },
  {
   "cell_type": "code",
   "execution_count": null,
   "metadata": {},
   "outputs": [],
   "source": []
  },
  {
   "cell_type": "code",
   "execution_count": null,
   "metadata": {},
   "outputs": [],
   "source": []
  },
  {
   "cell_type": "code",
   "execution_count": null,
   "metadata": {},
   "outputs": [],
   "source": []
  },
  {
   "cell_type": "code",
   "execution_count": null,
   "metadata": {},
   "outputs": [],
   "source": []
  },
  {
   "cell_type": "code",
   "execution_count": null,
   "metadata": {},
   "outputs": [],
   "source": []
  },
  {
   "cell_type": "code",
   "execution_count": null,
   "metadata": {},
   "outputs": [],
   "source": []
  },
  {
   "cell_type": "code",
   "execution_count": null,
   "metadata": {},
   "outputs": [],
   "source": []
  },
  {
   "cell_type": "code",
   "execution_count": null,
   "metadata": {},
   "outputs": [],
   "source": []
  },
  {
   "cell_type": "code",
   "execution_count": null,
   "metadata": {},
   "outputs": [],
   "source": []
  },
  {
   "cell_type": "code",
   "execution_count": 28,
   "metadata": {
    "ExecuteTime": {
     "end_time": "2018-02-22T19:27:18.865138Z",
     "start_time": "2018-02-22T19:27:18.862645Z"
    }
   },
   "outputs": [],
   "source": [
    "K, L, α, r, w, λ, c = symbols( 'K, L, alpha, r, w, lambda, c ')"
   ]
  },
  {
   "cell_type": "code",
   "execution_count": 29,
   "metadata": {
    "ExecuteTime": {
     "end_time": "2018-02-22T19:27:19.796243Z",
     "start_time": "2018-02-22T19:27:19.213166Z"
    }
   },
   "outputs": [
    {
     "data": {
      "image/png": "[encoded data removed]",
      "text/latex": [
       "$$K^{\\alpha} L^{- \\alpha + 1}$$"
      ],
      "text/plain": [
       " α  -α + 1\n",
       "K ⋅L      "
      ]
     },
     "execution_count": 29,
     "metadata": {},
     "output_type": "execute_result"
    }
   ],
   "source": [
    "F = K**α*L**(1-α)\n",
    "F"
   ]
  },
  {
   "cell_type": "code",
   "execution_count": 30,
   "metadata": {
    "ExecuteTime": {
     "end_time": "2018-02-22T19:27:20.264961Z",
     "start_time": "2018-02-22T19:27:19.797219Z"
    }
   },
   "outputs": [
    {
     "data": {
      "image/png": "[encoded data removed]",
      "text/latex": [
       "$$K r + L w$$"
      ],
      "text/plain": [
       "K⋅r + L⋅w"
      ]
     },
     "execution_count": 30,
     "metadata": {},
     "output_type": "execute_result"
    }
   ],
   "source": [
    "g = K*r+L*w\n",
    "g"
   ]
  },
  {
   "cell_type": "code",
   "execution_count": 31,
   "metadata": {
    "ExecuteTime": {
     "end_time": "2018-02-22T19:27:20.678561Z",
     "start_time": "2018-02-22T19:27:20.266466Z"
    }
   },
   "outputs": [
    {
     "data": {
      "image/png": "[encoded data removed]",
      "text/latex": [
       "$$K^{\\alpha} L^{- \\alpha + 1} + \\lambda \\left(- K r - L w + c\\right)$$"
      ],
      "text/plain": [
       " α  -α + 1                     \n",
       "K ⋅L       + λ⋅(-K⋅r - L⋅w + c)"
      ]
     },
     "execution_count": 31,
     "metadata": {},
     "output_type": "execute_result"
    }
   ],
   "source": [
    "Lag = F+ λ*(c-g)\n",
    "Lag"
   ]
  },
  {
   "cell_type": "code",
   "execution_count": 32,
   "metadata": {
    "ExecuteTime": {
     "end_time": "2018-02-22T19:27:21.266149Z",
     "start_time": "2018-02-22T19:27:20.680065Z"
    }
   },
   "outputs": [
    {
     "data": {
      "image/png": "[encoded data removed]",
      "text/latex": [
       "$$\\left [ - \\lambda r + \\frac{K^{\\alpha} \\alpha}{K} L^{- \\alpha + 1}, \\quad \\frac{K^{\\alpha}}{L} L^{- \\alpha + 1} \\left(- \\alpha + 1\\right) - \\lambda w, \\quad - K r - L w + c\\right ]$$"
      ],
      "text/plain": [
       "⎡        α  -α + 1     α  -α + 1                               ⎤\n",
       "⎢       K ⋅L      ⋅α  K ⋅L      ⋅(-α + 1)                      ⎥\n",
       "⎢-λ⋅r + ────────────, ─────────────────── - λ⋅w, -K⋅r - L⋅w + c⎥\n",
       "⎣            K                 L                               ⎦"
      ]
     },
     "execution_count": 32,
     "metadata": {},
     "output_type": "execute_result"
    }
   ],
   "source": [
    "grad_L = [diff(Lag, x_) for x_ in [K,L,λ]] # List of FOCs\n",
    "grad_L"
   ]
  },
  {
   "cell_type": "code",
   "execution_count": 33,
   "metadata": {
    "ExecuteTime": {
     "end_time": "2018-02-22T19:27:22.315952Z",
     "start_time": "2018-02-22T19:27:21.267151Z"
    }
   },
   "outputs": [
    {
     "data": {
      "image/png": "[encoded data removed]",
      "text/latex": [
       "$$\\left [ \\left ( \\frac{\\alpha c}{r}, \\quad - \\frac{c}{w} \\left(\\alpha - 1\\right), \\quad \\frac{\\left(\\frac{\\alpha c}{r}\\right)^{\\alpha}}{c} \\left(- \\frac{c}{w} \\left(\\alpha - 1\\right)\\right)^{- \\alpha + 1}\\right )\\right ]$$"
      ],
      "text/plain": [
       "⎡⎛                       α              -α + 1⎞⎤\n",
       "⎢⎜                  ⎛α⋅c⎞  ⎛-c⋅(α - 1) ⎞      ⎟⎥\n",
       "⎢⎜                  ⎜───⎟ ⋅⎜───────────⎟      ⎟⎥\n",
       "⎢⎜α⋅c  -c⋅(α - 1)   ⎝ r ⎠  ⎝     w     ⎠      ⎟⎥\n",
       "⎢⎜───, ───────────, ──────────────────────────⎟⎥\n",
       "⎣⎝ r        w                   c             ⎠⎦"
      ]
     },
     "execution_count": 33,
     "metadata": {},
     "output_type": "execute_result"
    }
   ],
   "source": [
    "sols = solve(grad_L, [K,L,λ])\n",
    "sols"
   ]
  },
  {
   "cell_type": "code",
   "execution_count": null,
   "metadata": {},
   "outputs": [],
   "source": []
  },
  {
   "cell_type": "code",
   "execution_count": 3,
   "metadata": {
    "ExecuteTime": {
     "end_time": "2018-02-22T19:27:47.988774Z",
     "start_time": "2018-02-22T19:27:47.981756Z"
    }
   },
   "outputs": [],
   "source": [
    "%matplotlib inline\n",
    "import numpy as np\n",
    "import matplotlib.pyplot as plt\n",
    "from ipywidgets import interact, fixed"
   ]
  },
  {
   "cell_type": "markdown",
   "metadata": {},
   "source": [
    "To plot the budget constraint we rearrange to solve for:\n",
    "\n",
    "$$c_2 = \\frac{I}{p_2} - \\frac{p_1}{p_2} c_1$$\n",
    "\n",
    "To draw the indifference curve associated with a given utility level $\\bar u$ we solve for:\n",
    "\n",
    "$$c_2 = \\left( \\frac{\\bar u}{c_1^\\alpha}\\right)^\\frac{1}{1 - \\alpha}$$"
   ]
  },
  {
   "cell_type": "code",
   "execution_count": 4,
   "metadata": {
    "ExecuteTime": {
     "end_time": "2018-02-22T19:27:49.225154Z",
     "start_time": "2018-02-22T19:27:49.220140Z"
    }
   },
   "outputs": [],
   "source": [
    "def U(c1, c2, alpha):\n",
    "    return (c1**alpha)*(c2**(1-alpha))\n",
    "\n",
    "def budgetc(c1, p1, p2, I):\n",
    "    return (I/p2)-(p1/p2)*c1\n",
    "\n",
    "def indif(c1, ubar, alpha):\n",
    "    return (ubar/(c1**alpha))**(1/(1-alpha))"
   ]
  },
  {
   "cell_type": "code",
   "execution_count": 5,
   "metadata": {
    "ExecuteTime": {
     "end_time": "2018-02-22T19:27:49.731499Z",
     "start_time": "2018-02-22T19:27:49.726485Z"
    }
   },
   "outputs": [],
   "source": [
    "def find_opt(p1,p2,I,alpha):\n",
    "    c1 = alpha * I/p1\n",
    "    c2 = (1-alpha)*I/p2\n",
    "    u = U(c1,c2,alpha)\n",
    "    return c1, c2, u"
   ]
  },
  {
   "cell_type": "markdown",
   "metadata": {},
   "source": [
    "## Interactive indifference curve diagram"
   ]
  },
  {
   "cell_type": "code",
   "execution_count": 6,
   "metadata": {
    "ExecuteTime": {
     "end_time": "2018-02-22T19:27:51.725993Z",
     "start_time": "2018-02-22T19:27:51.721482Z"
    }
   },
   "outputs": [],
   "source": [
    "alpha = 0.5\n",
    "p1, p2 = 1, 1\n",
    "I = 100\n",
    "\n",
    "pmin, pmax = 1, 4\n",
    "Imin, Imax = 10, 200\n",
    "cmax = (3/4)*Imax/pmin"
   ]
  },
  {
   "cell_type": "code",
   "execution_count": 7,
   "metadata": {
    "ExecuteTime": {
     "end_time": "2018-02-22T19:27:52.758972Z",
     "start_time": "2018-02-22T19:27:52.731384Z"
    }
   },
   "outputs": [],
   "source": [
    "def consume_plot(p1=p1, p2=p2, I=I, alpha=alpha):\n",
    "    \n",
    "    c1 = np.linspace(0.1,cmax,num=100)\n",
    "    c1e, c2e, uebar = find_opt(p1, p2 ,I, alpha)\n",
    "    idfc = indif(c1, uebar, alpha)\n",
    "    budg = budgetc(c1, p1, p2, I)\n",
    "    \n",
    "    fig, ax = plt.subplots(figsize=(8,8))\n",
    "    ax.plot(c1, budg, lw=2.5)\n",
    "    ax.plot(c1, idfc, lw=2.5)\n",
    "    ax.vlines(c1e,0,c2e, linestyles=\"dashed\")\n",
    "    ax.hlines(c2e,0,c1e, linestyles=\"dashed\")\n",
    "    ax.plot(c1e,c2e,'ob')\n",
    "    ax.set_xlim(0, cmax)\n",
    "    ax.set_ylim(0, cmax)\n",
    "    ax.set_xlabel(r'$c_1$', fontsize=16)\n",
    "    ax.set_ylabel('$c_2$', fontsize=16)\n",
    "    ax.spines['right'].set_visible(False)\n",
    "    ax.spines['top'].set_visible(False)\n",
    "    ax.grid()\n",
    "    plt.show()"
   ]
  },
  {
   "cell_type": "code",
   "execution_count": 8,
   "metadata": {
    "ExecuteTime": {
     "end_time": "2018-02-22T19:27:54.227639Z",
     "start_time": "2018-02-22T19:27:53.662137Z"
    }
   },
   "outputs": [
    {
     "data": {
      "application/vnd.jupyter.widget-view+json": {
       "model_id": "546ca8f71bc247daa94a19565a9f3f22",
       "version_major": 2,
       "version_minor": 0
      },
      "text/html": [
       "<p>Failed to display Jupyter Widget of type <code>interactive</code>.</p>\n",
       "<p>\n",
       "  If you're reading this message in the Jupyter Notebook or JupyterLab Notebook, it may mean\n",
       "  that the widgets JavaScript is still loading. If this message persists, it\n",
       "  likely means that the widgets JavaScript library is either not installed or\n",
       "  not enabled. See the <a href=\"https://ipywidgets.readthedocs.io/en/stable/user_install.html\">Jupyter\n",
       "  Widgets Documentation</a> for setup instructions.\n",
       "</p>\n",
       "<p>\n",
       "  If you're reading this message in another frontend (for example, a static\n",
       "  rendering on GitHub or <a href=\"https://nbviewer.jupyter.org/\">NBViewer</a>),\n",
       "  it may mean that your frontend doesn't currently support widgets.\n",
       "</p>\n"
      ],
      "text/plain": [
       "interactive(children=(FloatSlider(value=1.0, description='p1', max=4.0, min=1.0), FloatSlider(value=1.0, description='p2', max=4.0, min=1.0), IntSlider(value=100, description='I', max=200, min=10, step=10), FloatSlider(value=0.5, description='alpha', max=0.95, min=0.05, step=0.05), Output()), _dom_classes=('widget-interact',))"
      ]
     },
     "metadata": {},
     "output_type": "display_data"
    },
    {
     "data": {
      "text/plain": [
       "<function __main__.consume_plot(p1=1, p2=1, I=100, alpha=0.5)>"
      ]
     },
     "execution_count": 8,
     "metadata": {},
     "output_type": "execute_result"
    }
   ],
   "source": [
    "interact(consume_plot,p1=(pmin,pmax,0.1),p2=(pmin,pmax,0.1), I=(Imin,Imax,10),alpha=(0.05,0.95,0.05))"
   ]
  },
  {
   "cell_type": "markdown",
   "metadata": {},
   "source": [
    "###  <span style=\"color:red\">It is your turn to plot firm's optimum</span>"
   ]
  },
  {
   "cell_type": "code",
   "execution_count": null,
   "metadata": {},
   "outputs": [],
   "source": []
  },
  {
   "cell_type": "code",
   "execution_count": 9,
   "metadata": {
    "ExecuteTime": {
     "end_time": "2018-02-22T19:27:59.626677Z",
     "start_time": "2018-02-22T19:27:59.202512Z"
    }
   },
   "outputs": [],
   "source": [
    "import numpy as np\n",
    "import pprint\n",
    "import scipy\n",
    "import scipy.linalg   # SciPy Linear Algebra Library"
   ]
  },
  {
   "cell_type": "code",
   "execution_count": 33,
   "metadata": {
    "ExecuteTime": {
     "end_time": "2018-02-22T19:28:00.104348Z",
     "start_time": "2018-02-22T19:28:00.100839Z"
    }
   },
   "outputs": [],
   "source": [
    "# d, vector of the exogeneous variables \n",
    "\n",
    "# d = np.array([ G_bar , C_bar - c*T_bar , I_bar , M_bar/P_bar ] )\n",
    "\n",
    "\n",
    "# matrix representation of the model : Ax=d \n",
    "#% A, coefficient matrix for [Y, C, I, r]\n",
    "A = np.matrix([ [1, -1, -1, 0], # Y=C+I+G \n",
    "     [-c, 1, 0, 0], # C=C_bar+c(Y−T) \n",
    "     [0, 0, 1, b], # I=I_bar−br \n",
    "     [k, 0, 0, -h] ]) # M/P=kY−hr"
   ]
  },
  {
   "cell_type": "code",
   "execution_count": 34,
   "metadata": {
    "ExecuteTime": {
     "end_time": "2018-02-22T19:28:00.811165Z",
     "start_time": "2018-02-22T19:28:00.677777Z"
    }
   },
   "outputs": [],
   "source": [
    "def ISLM(Yguess=534, new_G_bar = 200, new_T_bar = 110, new_M_bar = 180.00,newTitle =r'Expansion of money supply ($\\bar M$ increases by 20%)'):\n",
    "    \"\"\" A function plotting changes in the IS-LM Model\n",
    "    # parameters \n",
    "    c = 0.63  # marginal propensity to consume \n",
    "\n",
    "    b = 1500 #sensitivity of the investment to the interest rate \n",
    "\n",
    "    k = 0.6  #sensitivity of the money demand to income \n",
    "\n",
    "    h = 2700 #sensitivity of the money demand to the interest rate\n",
    "\n",
    "    \"\"\"\n",
    "    import pprint\n",
    "    import scipy\n",
    "    import scipy.linalg   # SciPy Linear Algebra Library\n",
    "    import matplotlib.pyplot as plt\n",
    "\n",
    "    %matplotlib inline\n",
    "    \n",
    "    \n",
    "    # parameters \n",
    "    c = 0.63 #marginal propensity to consume \n",
    "\n",
    "    b = 1500 #sensitivity of the investment to the interest rate \n",
    "\n",
    "    k = 0.6  #sensitivity of the money demand to income \n",
    "\n",
    "    h = 2700 #sensitivity of the money demand to the interest rate\n",
    "    \n",
    "    \n",
    "    # policy exogenous variables \n",
    "    C_bar = 55 # autonomous consumption \n",
    "\n",
    "    I_bar = 75 # autonomous investment \n",
    "\n",
    "    G_bar = 200 #government spending \n",
    "\n",
    "    T_bar = 110 # tax on income \n",
    "\n",
    "    M_bar = 200 # money supply \n",
    "\n",
    "    P_bar = 1 #price level ( fixed in the short−run )\n",
    "    \n",
    "    A = np.matrix([ [1, -1, -1, 0], # Y=C+I+G \n",
    "     [-c, 1, 0, 0], # C=C_bar+c(Y−T) \n",
    "     [0, 0, 1, b], # I=I_bar−br \n",
    "     [k, 0, 0, -h] ]) # M/P=kY−hr\n",
    "    \n",
    "    d = np.array([ G_bar , C_bar - c*T_bar , I_bar , M_bar/P_bar ] )\n",
    "    \n",
    "        # compute the endogenous variables \n",
    "    P, L ,U = scipy.linalg.lu(A) # LU factorization \n",
    "\n",
    "    x = scipy.linalg.inv(U)@(scipy.linalg.inv(P@L)@ d) # solution of the linear system\n",
    "\n",
    "    print(\" IS-LM model: closed economy \\\n",
    "           \\nexogenous variables: \\nG = {}; T = {}; M = {}; P = {} \".format(G_bar,T_bar, M_bar, P_bar),\n",
    "          \"\\n-----------------------------------------------------------\\\n",
    "          \\nproduct, Y = {0:.2f}，\\\n",
    "          \\nconsumption, C = {1:.2f}, \\\n",
    "          \\ninvestment, I = {2:.2f}，\\\n",
    "          \\ninterest rate (%), r = {3:.2f}\".format(x[0],x[1],x[2],x[3]*100  ))\n",
    "    \n",
    "    # plot the solution : IS−LM diagram\n",
    "\n",
    "    # generate a grid on Y; \n",
    "    # in this case, since this is a line, only 2 points would have been enough\n",
    "\n",
    "    Y = np.linspace(0.95*x[0],1.05*x[0], num=100) \n",
    "\n",
    "    # IS : I=Y−C−G and I=I_bar−br expressed in terms of r\n",
    "\n",
    "    C = C_bar+c*(Y-T_bar ) \n",
    "\n",
    "    I =Y-C-G_bar \n",
    "\n",
    "    IS=( I_bar-I ) / b  \n",
    "\n",
    "    # LM: M_bar/P_bar=kY−hR expressed in terms of r\n",
    "\n",
    "    LM = 1/h*( k*Y-M_bar / P_bar ) \n",
    "    \n",
    "    # policy shock\n",
    "    G_bar = new_G_bar #government spending \n",
    "    T_bar = new_T_bar # tax on income \n",
    "    M_bar = new_M_bar # money supply \n",
    "\n",
    "    # x = [Y,C,I,r] , vector of the endogeneous variables \n",
    "    # d, vector of the exogeneous variables \n",
    "\n",
    "    d = np.array([ G_bar , C_bar - c*T_bar , I_bar , M_bar/P_bar ] )\n",
    "    \n",
    "    \n",
    "    # compute the endogenous variables \n",
    "    P, L ,U = scipy.linalg.lu(A) # LU factorization \n",
    "\n",
    "    new_x = scipy.linalg.inv(U)@(scipy.linalg.inv(P@L)@ d) # solution of the linear system\n",
    "\n",
    "    print(\"\\n New IS-LM model: closed economy \\\n",
    "          \\nshock: \\nexogenous variables: \\nG = {}; T = {}; M = {}; P = {} \".format(G_bar,T_bar, M_bar, P_bar),\n",
    "          \n",
    "          \"\\n-----------------------------------------------------------\\\n",
    "          \\nproduct, Y = {0:.2f}，\\\n",
    "          \\nconsumption, C = {1:.2f}, \\\n",
    "          \\ninvestment, I = {2:.2f}，\\\n",
    "          \\ninterest rate (%), r = {3:.2f}\".format(new_x[0],new_x[1],new_x[2],new_x[3]*100  ))\n",
    "    \n",
    "    # plot the solution : IS−LM diagram\n",
    "\n",
    "    # generate a grid on Y; in this case, since this is a line, only 2 points would have been enough\n",
    "\n",
    "    new_Y = np.linspace(0.95*new_x[0],1.05*new_x[0], num=100) \n",
    "\n",
    "    # IS : I=Y−C−G and I=I_bar−br expressed in terms of r\n",
    "\n",
    "    new_C = C_bar+c*(new_Y-T_bar ) \n",
    "\n",
    "    new_I =new_Y-new_C-G_bar \n",
    "\n",
    "    new_IS=( I_bar-new_I ) / b  \n",
    "\n",
    "    # LM: M_bar/P_bar=kY−hr expressed in terms of r\n",
    "\n",
    "    new_LM = 1/h*( k*new_Y-M_bar / P_bar ) \n",
    "\n",
    "    fig, ax = plt.subplots(figsize=(8,8));\n",
    "    ax.spines['right'].set_visible(False);\n",
    "    ax.spines['top'].set_visible(False);\n",
    "    ax.grid();\n",
    "    ax.plot(Y, IS , '-b', label='IS line');\n",
    "    ax.plot(Y, LM,  color='red', linewidth=2.0, linestyle='-', label='LM line');\n",
    "    ax.plot(new_Y, new_IS , '--b', linewidth=4.0, label='new IS line');\n",
    "    ax.plot(new_Y, new_LM,  color='red', linewidth=4.0, linestyle='-', label='new LM line');\n",
    "    ax.set_xlabel(r'$y$', fontsize=16);\n",
    "    ax.set_ylabel(r'$r$', fontsize=16);\n",
    "    #plt.xlim((500, 560)) too much, let python to choose the limits\n",
    "    #plt.ylim((0.036, 0.054))\n",
    "    plt.title(newTitle);\n",
    "    plt.legend();\n",
    "    \n",
    "    \n",
    "    \n",
    "    "
   ]
  },
  {
   "cell_type": "code",
   "execution_count": 35,
   "metadata": {},
   "outputs": [],
   "source": [
    "from ipywidgets import interact, interactive, fixed, interact_manual\n",
    "import ipywidgets as widgets"
   ]
  },
  {
   "cell_type": "code",
   "execution_count": 36,
   "metadata": {
    "ExecuteTime": {
     "end_time": "2018-02-22T19:28:01.773088Z",
     "start_time": "2018-02-22T19:28:01.713448Z"
    }
   },
   "outputs": [
    {
     "name": "stdout",
     "output_type": "stream",
     "text": [
      " IS-LM model: closed economy            \n",
      "exogenous variables: \n",
      "G = 200; T = 110; M = 200; P = 1  \n",
      "-----------------------------------------------------------          \n",
      "product, Y = 528.64，          \n",
      "consumption, C = 318.74,           \n",
      "investment, I = 9.90，          \n",
      "interest rate (%), r = 4.34\n",
      "\n",
      " New IS-LM model: closed economy           \n",
      "shock: \n",
      "exogenous variables: \n",
      "G = 200; T = 110; M = 220.0; P = 1  \n",
      "-----------------------------------------------------------          \n",
      "product, Y = 544.44，          \n",
      "consumption, C = 328.70,           \n",
      "investment, I = 15.74，          \n",
      "interest rate (%), r = 3.95\n"
     ]
    },
    {
     "data": {
      "image/png": "[encoded data removed]",
      "text/plain": [
       "<matplotlib.figure.Figure at 0x7f93cf25c9b0>"
      ]
     },
     "metadata": {
      "image/png": {
       "height": 505,
       "width": 572
      }
     },
     "output_type": "display_data"
    }
   ],
   "source": [
    "ISLM(new_G_bar = 200, new_T_bar = 110, new_M_bar = 220.00, \n",
    "     newTitle= r'Expansion of money supply ($\\bar M$ increases by 20%)')"
   ]
  },
  {
   "cell_type": "code",
   "execution_count": 37,
   "metadata": {},
   "outputs": [],
   "source": [
    "new_G_bar = 200\n",
    "new_T_bar = 110\n",
    "new_M_bar = 200\n",
    "\n",
    "\n",
    "Gmin, Gmax = 180, 220\n",
    "Tmin, Tmax = 100, 120\n",
    "Mmin, Mmax = 180,220"
   ]
  },
  {
   "cell_type": "code",
   "execution_count": 38,
   "metadata": {},
   "outputs": [],
   "source": [
    "def ISLM_interact_plot(new_G_bar = new_G_bar, new_T_bar = new_T_bar, new_M_bar = new_M_bar):\n",
    "    ISLM(new_G_bar = new_G_bar, new_T_bar = new_T_bar, new_M_bar = new_M_bar, \n",
    "     newTitle= r'The Impact of Policy Shock on IS-LM Model')"
   ]
  },
  {
   "cell_type": "code",
   "execution_count": 39,
   "metadata": {},
   "outputs": [
    {
     "data": {
      "application/vnd.jupyter.widget-view+json": {
       "model_id": "17a749b9a454421698fc186ede47b69d",
       "version_major": 2,
       "version_minor": 0
      },
      "text/html": [
       "<p>Failed to display Jupyter Widget of type <code>interactive</code>.</p>\n",
       "<p>\n",
       "  If you're reading this message in the Jupyter Notebook or JupyterLab Notebook, it may mean\n",
       "  that the widgets JavaScript is still loading. If this message persists, it\n",
       "  likely means that the widgets JavaScript library is either not installed or\n",
       "  not enabled. See the <a href=\"https://ipywidgets.readthedocs.io/en/stable/user_install.html\">Jupyter\n",
       "  Widgets Documentation</a> for setup instructions.\n",
       "</p>\n",
       "<p>\n",
       "  If you're reading this message in another frontend (for example, a static\n",
       "  rendering on GitHub or <a href=\"https://nbviewer.jupyter.org/\">NBViewer</a>),\n",
       "  it may mean that your frontend doesn't currently support widgets.\n",
       "</p>\n"
      ],
      "text/plain": [
       "interactive(children=(IntSlider(value=200, description='new_G_bar', max=220, min=180), IntSlider(value=110, description='new_T_bar', max=120, min=100), IntSlider(value=200, description='new_M_bar', max=220, min=180), Output()), _dom_classes=('widget-interact',))"
      ]
     },
     "metadata": {},
     "output_type": "display_data"
    }
   ],
   "source": [
    "interact(ISLM_interact_plot,\n",
    "         new_G_bar=(Gmin,Gmax,1),\n",
    "         new_T_bar=(Tmin,Tmax,1), \n",
    "         new_M_bar=(Mmin,Mmax,1)\n",
    "        );"
   ]
  },
  {
   "cell_type": "code",
   "execution_count": null,
   "metadata": {},
   "outputs": [],
   "source": []
  },
  {
   "cell_type": "code",
   "execution_count": null,
   "metadata": {},
   "outputs": [],
   "source": []
  },
  {
   "cell_type": "code",
   "execution_count": 2,
   "metadata": {
    "ExecuteTime": {
     "end_time": "2018-02-22T19:36:31.845831Z",
     "start_time": "2018-02-22T19:36:31.841822Z"
    }
   },
   "outputs": [
    {
     "data": {
      "text/html": [
       "<style>\n",
       "    @font-face {\n",
       "        font-family: \"Computer Modern\";\n",
       "        src: url('http://mirrors.ctan.org/fonts/cm-unicode/fonts/otf/cmunss.otf');\n",
       "    }\n",
       "    div.cell{\n",
       "        width: 90%;\n",
       "/*        margin-left:auto;*/\n",
       "/*        margin-right:auto;*/\n",
       "    }\n",
       "    ul {\n",
       "        line-height: 145%;\n",
       "        font-size: 90%;\n",
       "    }\n",
       "    li {\n",
       "        margin-bottom: 1em;\n",
       "    }\n",
       "    h1 {\n",
       "        font-family: Helvetica, serif;\n",
       "        color: rgb(0, 80, 120);\n",
       "    }\n",
       "    h2 {\n",
       "        color: rgb(0,100,110);\n",
       "    }\n",
       "    h3 {\n",
       "        color: rgb(94,127,192);\n",
       "    }\n",
       "    div.text_cell_render{\n",
       "        font-family: Computer Modern, \"Helvetica Neue\", Arial, Helvetica, Geneva, sans-serif;\n",
       "        line-height: 145%;\n",
       "        font-size: 130%;\n",
       "        width: 90%;\n",
       "        margin-left:auto;\n",
       "        margin-right:auto;\n",
       "    }\n",
       "    .CodeMirror{\n",
       "            font-family: \"Source Code Pro\", source-code-pro,Consolas, monospace;\n",
       "    }\n",
       "/*    .prompt{\n",
       "        display: None;\n",
       "    }*/\n",
       "    .text_cell_render h5 {\n",
       "        font-weight: 300;\n",
       "        font-size: 16pt;\n",
       "        color: #4057A1;\n",
       "        font-style: italic;\n",
       "        margin-bottom: 0.5em;\n",
       "        margin-top: 0.5em;\n",
       "        display: block;\n",
       "    }\n",
       "\n",
       "    .warning{\n",
       "        color: rgb( 240, 20, 20 )\n",
       "        }\n",
       "</style>"
      ],
      "text/plain": [
       "<IPython.core.display.HTML object>"
      ]
     },
     "execution_count": 2,
     "metadata": {},
     "output_type": "execute_result"
    }
   ],
   "source": [
    "from IPython.core.display import HTML, Image\n",
    "css_file = '../../custom.css'\n",
    "HTML(open(css_file, 'r').read())"
   ]
  },
  {
   "cell_type": "code",
   "execution_count": null,
   "metadata": {},
   "outputs": [],
   "source": []
  }
 ],
 "metadata": {
  "kernelspec": {
   "display_name": "Python 3",
   "language": "python",
   "name": "python3"
  },
  "language_info": {
   "codemirror_mode": {
    "name": "ipython",
    "version": 3
   },
   "file_extension": ".py",
   "mimetype": "text/x-python",
   "name": "python",
   "nbconvert_exporter": "python",
   "pygments_lexer": "ipython3",
   "version": "3.6.5"
  }
 },
 "nbformat": 4,
 "nbformat_minor": 2
}
