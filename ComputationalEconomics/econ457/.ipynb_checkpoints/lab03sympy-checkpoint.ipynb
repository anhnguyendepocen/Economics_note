{
 "cells": [
  {
   "cell_type": "markdown",
   "metadata": {},
   "source": [
    "# Sympy: symbolic computing "
   ]
  },
  {
   "cell_type": "code",
   "execution_count": 222,
   "metadata": {
    "ExecuteTime": {
     "end_time": "2018-01-23T04:42:37.166588Z",
     "start_time": "2018-01-23T04:42:37.161591Z"
    }
   },
   "outputs": [],
   "source": [
    "# convention\n",
    "import numpy as np\n",
    "import scipy as sp\n",
    "import scipy.linalg as la \n",
    "# The top-level components of scipy (such as linalg, optimize, etc.) are so-called subpackages and not modules (i.e., they're directories, not source code). \n",
    "# Scipy is set up such that subpackages must be imported separately.sp.linalg won't work\n",
    "import sympy as sym\n",
    "sym.init_printing() # for printing latex/mathjax format output"
   ]
  },
  {
   "cell_type": "code",
   "execution_count": 223,
   "metadata": {
    "ExecuteTime": {
     "end_time": "2018-01-23T04:42:37.358179Z",
     "start_time": "2018-01-23T04:42:37.344156Z"
    }
   },
   "outputs": [],
   "source": [
    "# plotting\n",
    "import matplotlib as mpl\n",
    "# matplotlib for ploting\n",
    "from matplotlib import pyplot as plt\n",
    "plt.style.use('fivethirtyeight')\n",
    "from mpl_toolkits.mplot3d import Axes3D     # 3d\n",
    "# for inline interactive plotting\n",
    "%matplotlib notebook\n",
    "%config InlineBackend.figure_format = 'retina'"
   ]
  },
  {
   "cell_type": "markdown",
   "metadata": {},
   "source": [
    "## Numerical Computation\n",
    "Exact arithmetic and computer arithmetic do not always give the same answers (even in programs without programming errors)."
   ]
  },
  {
   "cell_type": "code",
   "execution_count": 149,
   "metadata": {
    "ExecuteTime": {
     "end_time": "2018-01-23T04:17:57.936237Z",
     "start_time": "2018-01-23T04:17:57.920696Z"
    }
   },
   "outputs": [
    {
     "data": {
      "text/plain": [
       "False"
      ]
     },
     "execution_count": 149,
     "metadata": {},
     "output_type": "execute_result"
    }
   ],
   "source": [
    "1/3+1/2 == 5/6"
   ]
  },
  {
   "cell_type": "code",
   "execution_count": 150,
   "metadata": {
    "ExecuteTime": {
     "end_time": "2018-01-23T04:17:58.482065Z",
     "start_time": "2018-01-23T04:17:57.937741Z"
    }
   },
   "outputs": [
    {
     "data": {
      "image/png": "[encoded data removed]",
      "text/latex": [
       "$$0.8333333333333333$$"
      ],
      "text/plain": [
       "0.8333333333333333"
      ]
     },
     "execution_count": 150,
     "metadata": {},
     "output_type": "execute_result"
    }
   ],
   "source": [
    "1/3+1/2"
   ]
  },
  {
   "cell_type": "code",
   "execution_count": 151,
   "metadata": {
    "ExecuteTime": {
     "end_time": "2018-01-23T04:17:58.881144Z",
     "start_time": "2018-01-23T04:17:58.484055Z"
    }
   },
   "outputs": [
    {
     "data": {
      "image/png": "[encoded data removed]",
      "text/latex": [
       "$$0.8333333333333334$$"
      ],
      "text/plain": [
       "0.8333333333333334"
      ]
     },
     "execution_count": 151,
     "metadata": {},
     "output_type": "execute_result"
    }
   ],
   "source": [
    "5/6"
   ]
  },
  {
   "cell_type": "markdown",
   "metadata": {},
   "source": [
    "## Symbolic Computation\n",
    "Sympy provides symbolic computation like Maple."
   ]
  },
  {
   "cell_type": "code",
   "execution_count": 152,
   "metadata": {
    "ExecuteTime": {
     "end_time": "2018-01-23T04:17:59.279044Z",
     "start_time": "2018-01-23T04:17:58.882146Z"
    }
   },
   "outputs": [
    {
     "data": {
      "image/png": "[encoded data removed]",
      "text/latex": [
       "$$\\frac{5}{6}$$"
      ],
      "text/plain": [
       "5/6"
      ]
     },
     "execution_count": 152,
     "metadata": {},
     "output_type": "execute_result"
    }
   ],
   "source": [
    "sym.Rational(1,3) + sym.Rational(1,2)"
   ]
  },
  {
   "cell_type": "code",
   "execution_count": 153,
   "metadata": {
    "ExecuteTime": {
     "end_time": "2018-01-23T04:17:59.283556Z",
     "start_time": "2018-01-23T04:17:59.280048Z"
    }
   },
   "outputs": [
    {
     "data": {
      "text/plain": [
       "True"
      ]
     },
     "execution_count": 153,
     "metadata": {},
     "output_type": "execute_result"
    }
   ],
   "source": [
    "sym.Rational(1,3) + sym.Rational(1,2) == sym.Rational(5,6) "
   ]
  },
  {
   "cell_type": "markdown",
   "metadata": {},
   "source": [
    " ## the IS-LM Model"
   ]
  },
  {
   "cell_type": "code",
   "execution_count": 154,
   "metadata": {
    "ExecuteTime": {
     "end_time": "2018-01-23T04:17:59.309123Z",
     "start_time": "2018-01-23T04:17:59.285060Z"
    }
   },
   "outputs": [
    {
     "data": {
      "text/plain": [
       "matrix([[  1.00000000e+00,   5.00000000e-04],\n",
       "        [  1.00000000e+00,  -2.50000000e-04]])"
      ]
     },
     "execution_count": 154,
     "metadata": {},
     "output_type": "execute_result"
    }
   ],
   "source": [
    "A = np.matrix([[1, 0.0005], [1, -0.00025]])\n",
    "A"
   ]
  },
  {
   "cell_type": "markdown",
   "metadata": {},
   "source": [
    "```python\n",
    "np.matrix()\n",
    "```\n",
    "returns a matrix from an array-like object, or from a string of data. A [matrix](https://docs.scipy.org/doc/numpy-1.13.0/reference/generated/numpy.matrix.html) is a specialized 2-D array that retains its 2-D nature through operations. It has certain special operators, such as * (matrix multiplication) and ** (matrix power).\n",
    "\n",
    "Numpy [array](https://docs.scipy.org/doc/numpy-1.13.0/user/basics.creation.html) is more versatile and can be high dimension.\n"
   ]
  },
  {
   "cell_type": "markdown",
   "metadata": {},
   "source": [
    "Like a Numpy array, matrix has some fields/attributes: `shape, ndim, size`."
   ]
  },
  {
   "cell_type": "code",
   "execution_count": 155,
   "metadata": {
    "ExecuteTime": {
     "end_time": "2018-01-23T04:17:59.723761Z",
     "start_time": "2018-01-23T04:17:59.310128Z"
    }
   },
   "outputs": [
    {
     "data": {
      "image/png": "[encoded data removed]",
      "text/latex": [
       "$$\\left ( 2, \\quad 2\\right )$$"
      ],
      "text/plain": [
       "(2, 2)"
      ]
     },
     "execution_count": 155,
     "metadata": {},
     "output_type": "execute_result"
    }
   ],
   "source": [
    "A.shape"
   ]
  },
  {
   "cell_type": "code",
   "execution_count": 156,
   "metadata": {
    "ExecuteTime": {
     "end_time": "2018-01-23T04:18:00.136039Z",
     "start_time": "2018-01-23T04:17:59.725265Z"
    }
   },
   "outputs": [
    {
     "data": {
      "image/png": "[encoded data removed]",
      "text/latex": [
       "$$2$$"
      ],
      "text/plain": [
       "2"
      ]
     },
     "execution_count": 156,
     "metadata": {},
     "output_type": "execute_result"
    }
   ],
   "source": [
    "A.ndim"
   ]
  },
  {
   "cell_type": "code",
   "execution_count": 157,
   "metadata": {
    "ExecuteTime": {
     "end_time": "2018-01-23T04:18:00.140552Z",
     "start_time": "2018-01-23T04:18:00.137043Z"
    }
   },
   "outputs": [
    {
     "data": {
      "text/plain": [
       "dtype('float64')"
      ]
     },
     "execution_count": 157,
     "metadata": {},
     "output_type": "execute_result"
    }
   ],
   "source": [
    "A.dtype"
   ]
  },
  {
   "cell_type": "code",
   "execution_count": 158,
   "metadata": {
    "ExecuteTime": {
     "end_time": "2018-01-23T04:18:00.555290Z",
     "start_time": "2018-01-23T04:18:00.142056Z"
    }
   },
   "outputs": [
    {
     "data": {
      "image/png": "[encoded data removed]",
      "text/latex": [
       "$$4$$"
      ],
      "text/plain": [
       "4"
      ]
     },
     "execution_count": 158,
     "metadata": {},
     "output_type": "execute_result"
    }
   ],
   "source": [
    "A.size"
   ]
  },
  {
   "cell_type": "code",
   "execution_count": 159,
   "metadata": {
    "ExecuteTime": {
     "end_time": "2018-01-23T04:18:00.559334Z",
     "start_time": "2018-01-23T04:18:00.556293Z"
    }
   },
   "outputs": [
    {
     "data": {
      "text/plain": [
       "array([ 0.55, -0.2 ])"
      ]
     },
     "execution_count": 159,
     "metadata": {},
     "output_type": "execute_result"
    }
   ],
   "source": [
    "b = np.array([0.55, -0.2])\n",
    "b"
   ]
  },
  {
   "cell_type": "code",
   "execution_count": 160,
   "metadata": {
    "ExecuteTime": {
     "end_time": "2018-01-23T04:18:01.089112Z",
     "start_time": "2018-01-23T04:18:00.560304Z"
    }
   },
   "outputs": [
    {
     "data": {
      "image/png": "[encoded data removed]",
      "text/latex": [
       "$$\\left ( 2\\right )$$"
      ],
      "text/plain": [
       "(2,)"
      ]
     },
     "execution_count": 160,
     "metadata": {},
     "output_type": "execute_result"
    }
   ],
   "source": [
    "b.shape"
   ]
  },
  {
   "cell_type": "code",
   "execution_count": 161,
   "metadata": {
    "ExecuteTime": {
     "end_time": "2018-01-23T04:18:01.615512Z",
     "start_time": "2018-01-23T04:18:01.090616Z"
    }
   },
   "outputs": [
    {
     "data": {
      "image/png": "[encoded data removed]",
      "text/latex": [
       "$$1$$"
      ],
      "text/plain": [
       "1"
      ]
     },
     "execution_count": 161,
     "metadata": {},
     "output_type": "execute_result"
    }
   ],
   "source": [
    "b.ndim"
   ]
  },
  {
   "cell_type": "code",
   "execution_count": 162,
   "metadata": {
    "ExecuteTime": {
     "end_time": "2018-01-23T04:18:01.621528Z",
     "start_time": "2018-01-23T04:18:01.617014Z"
    }
   },
   "outputs": [
    {
     "data": {
      "text/plain": [
       "matrix([[ 0.55, -0.2 ]])"
      ]
     },
     "execution_count": 162,
     "metadata": {},
     "output_type": "execute_result"
    }
   ],
   "source": [
    "b = np.matrix([0.55, -0.2])\n",
    "b"
   ]
  },
  {
   "cell_type": "code",
   "execution_count": 163,
   "metadata": {
    "ExecuteTime": {
     "end_time": "2018-01-23T04:18:02.037293Z",
     "start_time": "2018-01-23T04:18:01.623531Z"
    }
   },
   "outputs": [
    {
     "data": {
      "image/png": "[encoded data removed]",
      "text/latex": [
       "$$\\left ( 1, \\quad 2\\right )$$"
      ],
      "text/plain": [
       "(1, 2)"
      ]
     },
     "execution_count": 163,
     "metadata": {},
     "output_type": "execute_result"
    }
   ],
   "source": [
    "b.shape"
   ]
  },
  {
   "cell_type": "code",
   "execution_count": 164,
   "metadata": {
    "ExecuteTime": {
     "end_time": "2018-01-23T04:18:02.042306Z",
     "start_time": "2018-01-23T04:18:02.038296Z"
    }
   },
   "outputs": [
    {
     "data": {
      "text/plain": [
       "matrix([[ 0.55],\n",
       "        [-0.2 ]])"
      ]
     },
     "execution_count": 164,
     "metadata": {},
     "output_type": "execute_result"
    }
   ],
   "source": [
    "b = np.matrix([[0.55], [-0.2]])\n",
    "b"
   ]
  },
  {
   "cell_type": "code",
   "execution_count": 165,
   "metadata": {
    "ExecuteTime": {
     "end_time": "2018-01-23T04:18:02.486988Z",
     "start_time": "2018-01-23T04:18:02.043309Z"
    }
   },
   "outputs": [
    {
     "data": {
      "image/png": "[encoded data removed]",
      "text/latex": [
       "$$\\left ( 2, \\quad 1\\right )$$"
      ],
      "text/plain": [
       "(2, 1)"
      ]
     },
     "execution_count": 165,
     "metadata": {},
     "output_type": "execute_result"
    }
   ],
   "source": [
    "b.shape"
   ]
  },
  {
   "cell_type": "code",
   "execution_count": 166,
   "metadata": {
    "ExecuteTime": {
     "end_time": "2018-01-23T04:18:02.904125Z",
     "start_time": "2018-01-23T04:18:02.488493Z"
    }
   },
   "outputs": [
    {
     "data": {
      "image/png": "[encoded data removed]",
      "text/latex": [
       "$$2$$"
      ],
      "text/plain": [
       "2"
      ]
     },
     "execution_count": 166,
     "metadata": {},
     "output_type": "execute_result"
    }
   ],
   "source": [
    "b.ndim"
   ]
  },
  {
   "cell_type": "markdown",
   "metadata": {
    "ExecuteTime": {
     "end_time": "2018-01-23T00:15:40.590206Z",
     "start_time": "2018-01-23T00:15:40.587210Z"
    }
   },
   "source": [
    "## Sovle equations by using Scipy\n",
    "\n",
    "Scipy has a set of tools to solve system of equations in its `linalg` subpackages. \n",
    "\n"
   ]
  },
  {
   "cell_type": "markdown",
   "metadata": {
    "ExecuteTime": {
     "end_time": "2018-01-23T00:16:10.150869Z",
     "start_time": "2018-01-23T00:16:10.147360Z"
    }
   },
   "source": [
    "### Mothed 1\n",
    "\n"
   ]
  },
  {
   "cell_type": "code",
   "execution_count": 167,
   "metadata": {
    "ExecuteTime": {
     "end_time": "2018-01-23T04:18:02.909123Z",
     "start_time": "2018-01-23T04:18:02.905613Z"
    }
   },
   "outputs": [
    {
     "data": {
      "text/plain": [
       "array([[  3.33333333e-01,   6.66666667e-01],\n",
       "       [  1.33333333e+03,  -1.33333333e+03]])"
      ]
     },
     "execution_count": 167,
     "metadata": {},
     "output_type": "execute_result"
    }
   ],
   "source": [
    "#Compute and display the inverse \n",
    "A_inv = la.inv(A) \n",
    "A_inv"
   ]
  },
  {
   "cell_type": "code",
   "execution_count": 168,
   "metadata": {
    "ExecuteTime": {
     "end_time": "2018-01-23T04:18:02.939203Z",
     "start_time": "2018-01-23T04:18:02.910127Z"
    }
   },
   "outputs": [
    {
     "data": {
      "text/plain": [
       "matrix([[  5.00000000e-02],\n",
       "        [  1.00000000e+03]])"
      ]
     },
     "execution_count": 168,
     "metadata": {},
     "output_type": "execute_result"
    }
   ],
   "source": [
    "x = np.dot(A_inv, b)\n",
    "x"
   ]
  },
  {
   "cell_type": "markdown",
   "metadata": {},
   "source": [
    "### Mothed 2\n",
    "\n",
    "LU decomposition:\n",
    "\n",
    "```python\n",
    "\"\"\"\n",
    "Solve a linear equation by LU-decomposition\n",
    "Comes from LU decomposition of a matrix A s.t. A = LU\n",
    "Then\n",
    "LUx = b => Ux = y => Ly = b\n",
    "\"\"\"\n",
    "p, l, u = la.lu(A)\n",
    "```"
   ]
  },
  {
   "cell_type": "code",
   "execution_count": 169,
   "metadata": {
    "ExecuteTime": {
     "end_time": "2018-01-23T04:18:02.961763Z",
     "start_time": "2018-01-23T04:18:02.940205Z"
    }
   },
   "outputs": [
    {
     "data": {
      "text/plain": [
       "matrix([[-3,  2,  3],\n",
       "        [-3,  2,  1],\n",
       "        [ 3,  0,  0]])"
      ]
     },
     "execution_count": 169,
     "metadata": {},
     "output_type": "execute_result"
    }
   ],
   "source": [
    "A = np.matrix([[-3, 2, 3], \n",
    "               [-3 ,2 ,1], \n",
    "               [3, 0 ,0]])\n",
    "A"
   ]
  },
  {
   "cell_type": "code",
   "execution_count": 170,
   "metadata": {
    "ExecuteTime": {
     "end_time": "2018-01-23T04:18:02.984824Z",
     "start_time": "2018-01-23T04:18:02.962765Z"
    }
   },
   "outputs": [
    {
     "data": {
      "text/plain": [
       "matrix([[10],\n",
       "        [ 8],\n",
       "        [-3]])"
      ]
     },
     "execution_count": 170,
     "metadata": {},
     "output_type": "execute_result"
    }
   ],
   "source": [
    "b = np.matrix([[10], [8], [-3]])\n",
    "b"
   ]
  },
  {
   "cell_type": "code",
   "execution_count": 171,
   "metadata": {
    "ExecuteTime": {
     "end_time": "2018-01-23T04:18:03.010408Z",
     "start_time": "2018-01-23T04:18:02.985826Z"
    }
   },
   "outputs": [],
   "source": [
    "p, l, u = la.lu(A)"
   ]
  },
  {
   "cell_type": "code",
   "execution_count": 172,
   "metadata": {
    "ExecuteTime": {
     "end_time": "2018-01-23T04:18:03.036461Z",
     "start_time": "2018-01-23T04:18:03.011395Z"
    }
   },
   "outputs": [
    {
     "data": {
      "text/plain": [
       "array([[ 1.,  0.,  0.],\n",
       "       [ 0.,  0.,  1.],\n",
       "       [ 0.,  1.,  0.]])"
      ]
     },
     "execution_count": 172,
     "metadata": {},
     "output_type": "execute_result"
    }
   ],
   "source": [
    "p"
   ]
  },
  {
   "cell_type": "code",
   "execution_count": 173,
   "metadata": {
    "ExecuteTime": {
     "end_time": "2018-01-23T04:18:03.059037Z",
     "start_time": "2018-01-23T04:18:03.037965Z"
    }
   },
   "outputs": [
    {
     "data": {
      "text/plain": [
       "array([[ 1.,  0.,  0.],\n",
       "       [-1.,  1.,  0.],\n",
       "       [ 1.,  0.,  1.]])"
      ]
     },
     "execution_count": 173,
     "metadata": {},
     "output_type": "execute_result"
    }
   ],
   "source": [
    "l"
   ]
  },
  {
   "cell_type": "code",
   "execution_count": 174,
   "metadata": {
    "ExecuteTime": {
     "end_time": "2018-01-23T04:18:03.087619Z",
     "start_time": "2018-01-23T04:18:03.060539Z"
    }
   },
   "outputs": [
    {
     "data": {
      "text/plain": [
       "array([[-3.,  2.,  3.],\n",
       "       [ 0.,  2.,  3.],\n",
       "       [ 0.,  0., -2.]])"
      ]
     },
     "execution_count": 174,
     "metadata": {},
     "output_type": "execute_result"
    }
   ],
   "source": [
    "u"
   ]
  },
  {
   "cell_type": "markdown",
   "metadata": {},
   "source": [
    "check"
   ]
  },
  {
   "cell_type": "code",
   "execution_count": 175,
   "metadata": {
    "ExecuteTime": {
     "end_time": "2018-01-23T04:18:03.109655Z",
     "start_time": "2018-01-23T04:18:03.089101Z"
    }
   },
   "outputs": [
    {
     "data": {
      "text/plain": [
       "array([[-3.,  2.,  3.],\n",
       "       [-3.,  2.,  1.],\n",
       "       [ 3.,  0.,  0.]])"
      ]
     },
     "execution_count": 175,
     "metadata": {},
     "output_type": "execute_result"
    }
   ],
   "source": [
    "p@l@u"
   ]
  },
  {
   "cell_type": "markdown",
   "metadata": {},
   "source": [
    "Forward solving using lower triangle matrix\n",
    "\n",
    "$$ply = b$$"
   ]
  },
  {
   "cell_type": "code",
   "execution_count": 176,
   "metadata": {
    "ExecuteTime": {
     "end_time": "2018-01-23T04:18:03.136239Z",
     "start_time": "2018-01-23T04:18:03.111160Z"
    }
   },
   "outputs": [
    {
     "data": {
      "text/plain": [
       "array([[ 10.],\n",
       "       [  7.],\n",
       "       [ -2.]])"
      ]
     },
     "execution_count": 176,
     "metadata": {},
     "output_type": "execute_result"
    }
   ],
   "source": [
    "y = la.solve(p@l, b)\n",
    "y   "
   ]
  },
  {
   "cell_type": "markdown",
   "metadata": {},
   "source": [
    "Backward solving using upper triangle matrix\n",
    "$$ux= y$$"
   ]
  },
  {
   "cell_type": "code",
   "execution_count": 177,
   "metadata": {
    "ExecuteTime": {
     "end_time": "2018-01-23T04:18:03.163311Z",
     "start_time": "2018-01-23T04:18:03.137229Z"
    }
   },
   "outputs": [
    {
     "data": {
      "text/plain": [
       "array([[-1.],\n",
       "       [ 2.],\n",
       "       [ 1.]])"
      ]
     },
     "execution_count": 177,
     "metadata": {},
     "output_type": "execute_result"
    }
   ],
   "source": [
    "x = la.solve(u, y)\n",
    "x   "
   ]
  },
  {
   "cell_type": "markdown",
   "metadata": {},
   "source": [
    "## Symbolic Compuation in Sympy"
   ]
  },
  {
   "cell_type": "code",
   "execution_count": 178,
   "metadata": {
    "ExecuteTime": {
     "end_time": "2018-01-23T04:18:03.718298Z",
     "start_time": "2018-01-23T04:18:03.164301Z"
    }
   },
   "outputs": [
    {
     "data": {
      "image/png": "[encoded data removed]",
      "text/latex": [
       "$$\\left[\\begin{matrix}-3 & 2 & 3\\\\-3 & 2 & 1\\\\3 & 0 & 0\\end{matrix}\\right]$$"
      ],
      "text/plain": [
       "⎡-3  2  3⎤\n",
       "⎢        ⎥\n",
       "⎢-3  2  1⎥\n",
       "⎢        ⎥\n",
       "⎣3   0  0⎦"
      ]
     },
     "execution_count": 178,
     "metadata": {},
     "output_type": "execute_result"
    }
   ],
   "source": [
    "# rename A and b\n",
    "M = sym.Matrix(A)\n",
    "v = sym.Matrix(b)\n",
    "M"
   ]
  },
  {
   "cell_type": "code",
   "execution_count": 179,
   "metadata": {
    "ExecuteTime": {
     "end_time": "2018-01-23T04:18:04.220527Z",
     "start_time": "2018-01-23T04:18:03.719801Z"
    }
   },
   "outputs": [
    {
     "data": {
      "image/png": "[encoded data removed]",
      "text/latex": [
       "$$\\left[\\begin{matrix}10\\\\8\\\\-3\\end{matrix}\\right]$$"
      ],
      "text/plain": [
       "⎡10⎤\n",
       "⎢  ⎥\n",
       "⎢8 ⎥\n",
       "⎢  ⎥\n",
       "⎣-3⎦"
      ]
     },
     "execution_count": 179,
     "metadata": {},
     "output_type": "execute_result"
    }
   ],
   "source": [
    "v"
   ]
  },
  {
   "cell_type": "markdown",
   "metadata": {},
   "source": [
    "## Method 1"
   ]
  },
  {
   "cell_type": "code",
   "execution_count": 180,
   "metadata": {
    "ExecuteTime": {
     "end_time": "2018-01-23T04:18:04.835925Z",
     "start_time": "2018-01-23T04:18:04.221530Z"
    }
   },
   "outputs": [
    {
     "data": {
      "image/png": "[encoded data removed]",
      "text/latex": [
       "$$\\left[\\begin{matrix}0 & 0 & \\frac{1}{3}\\\\- \\frac{1}{4} & \\frac{3}{4} & \\frac{1}{2}\\\\\\frac{1}{2} & - \\frac{1}{2} & 0\\end{matrix}\\right]$$"
      ],
      "text/plain": [
       "⎡ 0     0    1/3⎤\n",
       "⎢               ⎥\n",
       "⎢-1/4  3/4   1/2⎥\n",
       "⎢               ⎥\n",
       "⎣1/2   -1/2   0 ⎦"
      ]
     },
     "execution_count": 180,
     "metadata": {},
     "output_type": "execute_result"
    }
   ],
   "source": [
    "M.inv(\"LU\") # using LU Method to solve inverse, more efficient"
   ]
  },
  {
   "cell_type": "code",
   "execution_count": 181,
   "metadata": {
    "ExecuteTime": {
     "end_time": "2018-01-23T04:18:05.226464Z",
     "start_time": "2018-01-23T04:18:04.837430Z"
    }
   },
   "outputs": [
    {
     "data": {
      "image/png": "[encoded data removed]",
      "text/latex": [
       "$$\\left[\\begin{matrix}0 & 0 & \\frac{1}{3}\\\\- \\frac{1}{4} & \\frac{3}{4} & \\frac{1}{2}\\\\\\frac{1}{2} & - \\frac{1}{2} & 0\\end{matrix}\\right]$$"
      ],
      "text/plain": [
       "⎡ 0     0    1/3⎤\n",
       "⎢               ⎥\n",
       "⎢-1/4  3/4   1/2⎥\n",
       "⎢               ⎥\n",
       "⎣1/2   -1/2   0 ⎦"
      ]
     },
     "execution_count": 181,
     "metadata": {},
     "output_type": "execute_result"
    }
   ],
   "source": [
    "M.inv() # the same. \n",
    "# In SymPy the inverse is computed by Gaussian elimination by default"
   ]
  },
  {
   "cell_type": "code",
   "execution_count": 182,
   "metadata": {
    "ExecuteTime": {
     "end_time": "2018-01-23T04:18:05.725243Z",
     "start_time": "2018-01-23T04:18:05.227467Z"
    }
   },
   "outputs": [
    {
     "data": {
      "image/png": "[encoded data removed]",
      "text/latex": [
       "$$\\left[\\begin{matrix}-1\\\\2\\\\1\\end{matrix}\\right]$$"
      ],
      "text/plain": [
       "⎡-1⎤\n",
       "⎢  ⎥\n",
       "⎢2 ⎥\n",
       "⎢  ⎥\n",
       "⎣1 ⎦"
      ]
     },
     "execution_count": 182,
     "metadata": {},
     "output_type": "execute_result"
    }
   ],
   "source": [
    "M.inv(\"LU\")*v"
   ]
  },
  {
   "cell_type": "markdown",
   "metadata": {},
   "source": [
    "## Method 2"
   ]
  },
  {
   "cell_type": "code",
   "execution_count": 183,
   "metadata": {
    "ExecuteTime": {
     "end_time": "2018-01-23T04:18:06.221977Z",
     "start_time": "2018-01-23T04:18:05.726230Z"
    }
   },
   "outputs": [
    {
     "data": {
      "image/png": "[encoded data removed]",
      "text/latex": [
       "$$\\left ( \\left[\\begin{matrix}1 & 0 & 0\\\\0 & 1 & 0\\\\0 & 0 & 1\\end{matrix}\\right], \\quad \\left ( 0, \\quad 1, \\quad 2\\right )\\right )$$"
      ],
      "text/plain": [
       "⎛⎡1  0  0⎤           ⎞\n",
       "⎜⎢       ⎥           ⎟\n",
       "⎜⎢0  1  0⎥, (0, 1, 2)⎟\n",
       "⎜⎢       ⎥           ⎟\n",
       "⎝⎣0  0  1⎦           ⎠"
      ]
     },
     "execution_count": 183,
     "metadata": {},
     "output_type": "execute_result"
    }
   ],
   "source": [
    "M.rref()"
   ]
  },
  {
   "cell_type": "markdown",
   "metadata": {},
   "source": [
    "#### RREF\n",
    "To put a matrix into reduced row echelon form, use `rref`. `rref` returns a tuple of two elements. The first is the reduced row echelon form, and the second is a tuple of indices of the pivot columns.\n",
    "\n",
    "pivot columns is corresponding to the perm matrix."
   ]
  },
  {
   "cell_type": "code",
   "execution_count": 184,
   "metadata": {
    "ExecuteTime": {
     "end_time": "2018-01-23T04:18:06.615536Z",
     "start_time": "2018-01-23T04:18:06.223465Z"
    }
   },
   "outputs": [
    {
     "data": {
      "image/png": "[encoded data removed]",
      "text/latex": [
       "$$\\left ( \\left[\\begin{matrix}1 & 0 & 0\\\\-1 & 1 & 0\\\\1 & 0 & 1\\end{matrix}\\right], \\quad \\left[\\begin{matrix}-3 & 2 & 3\\\\0 & 2 & 3\\\\0 & 0 & -2\\end{matrix}\\right], \\quad \\left [ \\left [ 1, \\quad 2\\right ]\\right ]\\right )$$"
      ],
      "text/plain": [
       "⎛⎡1   0  0⎤  ⎡-3  2  3 ⎤          ⎞\n",
       "⎜⎢        ⎥  ⎢         ⎥          ⎟\n",
       "⎜⎢-1  1  0⎥, ⎢0   2  3 ⎥, [[1, 2]]⎟\n",
       "⎜⎢        ⎥  ⎢         ⎥          ⎟\n",
       "⎝⎣1   0  1⎦  ⎣0   0  -2⎦          ⎠"
      ]
     },
     "execution_count": 184,
     "metadata": {},
     "output_type": "execute_result"
    }
   ],
   "source": [
    "M.LUdecomposition()"
   ]
  },
  {
   "cell_type": "markdown",
   "metadata": {},
   "source": [
    "\n",
    "Returns (L, U, perm) where L is a lower triangular matrix with unit diagonal, U is an upper triangular matrix, and perm is a list of row swap index pairs. If A is the original matrix, then A = (L*U).permuteBkwd(perm), and the row permutation matrix P such that P*A = L*U can be computed by P=eye(A.row).permuteFwd(perm).\n",
    "\n",
    "$$P*A = L*U$$\n",
    "\n",
    "See documentation for LUCombined for details about the keyword argument rankcheck, iszerofunc, and simpfunc.\n",
    "\n",
    "http://docs.sympy.org/latest/modules/matrices/matrices.html"
   ]
  },
  {
   "cell_type": "code",
   "execution_count": 185,
   "metadata": {
    "ExecuteTime": {
     "end_time": "2018-01-23T04:18:07.023132Z",
     "start_time": "2018-01-23T04:18:06.617042Z"
    }
   },
   "outputs": [
    {
     "data": {
      "image/png": "[encoded data removed]",
      "text/latex": [
       "$$\\left[\\begin{matrix}1 & 0 & 0\\\\-1 & 1 & 0\\\\1 & 0 & 1\\end{matrix}\\right]$$"
      ],
      "text/plain": [
       "⎡1   0  0⎤\n",
       "⎢        ⎥\n",
       "⎢-1  1  0⎥\n",
       "⎢        ⎥\n",
       "⎣1   0  1⎦"
      ]
     },
     "execution_count": 185,
     "metadata": {},
     "output_type": "execute_result"
    }
   ],
   "source": [
    "L,U,perm = M.LUdecomposition()\n",
    "L"
   ]
  },
  {
   "cell_type": "code",
   "execution_count": 186,
   "metadata": {
    "ExecuteTime": {
     "end_time": "2018-01-23T04:18:07.513851Z",
     "start_time": "2018-01-23T04:18:07.024135Z"
    }
   },
   "outputs": [
    {
     "data": {
      "image/png": "[encoded data removed]",
      "text/latex": [
       "$$\\left[\\begin{matrix}-3 & 2 & 3\\\\0 & 2 & 3\\\\0 & 0 & -2\\end{matrix}\\right]$$"
      ],
      "text/plain": [
       "⎡-3  2  3 ⎤\n",
       "⎢         ⎥\n",
       "⎢0   2  3 ⎥\n",
       "⎢         ⎥\n",
       "⎣0   0  -2⎦"
      ]
     },
     "execution_count": 186,
     "metadata": {},
     "output_type": "execute_result"
    }
   ],
   "source": [
    "U"
   ]
  },
  {
   "cell_type": "code",
   "execution_count": 187,
   "metadata": {
    "ExecuteTime": {
     "end_time": "2018-01-23T04:18:08.012166Z",
     "start_time": "2018-01-23T04:18:07.514854Z"
    }
   },
   "outputs": [
    {
     "data": {
      "image/png": "[encoded data removed]",
      "text/latex": [
       "$$\\left[\\begin{matrix}10\\\\-3\\\\8\\end{matrix}\\right]$$"
      ],
      "text/plain": [
       "⎡10⎤\n",
       "⎢  ⎥\n",
       "⎢-3⎥\n",
       "⎢  ⎥\n",
       "⎣8 ⎦"
      ]
     },
     "execution_count": 187,
     "metadata": {},
     "output_type": "execute_result"
    }
   ],
   "source": [
    "# If LHS A is multiplied by perm, RHS v should be done once.\n",
    "v = v.permuteBkwd(perm)\n",
    "v"
   ]
  },
  {
   "cell_type": "markdown",
   "metadata": {},
   "source": [
    "the elements of x can be computed recursively using forward-substitution"
   ]
  },
  {
   "cell_type": "code",
   "execution_count": 188,
   "metadata": {
    "ExecuteTime": {
     "end_time": "2018-01-23T04:18:08.611202Z",
     "start_time": "2018-01-23T04:18:08.013156Z"
    }
   },
   "outputs": [
    {
     "data": {
      "image/png": "[encoded data removed]",
      "text/latex": [
       "$$\\left[\\begin{matrix}10\\\\7\\\\-2\\end{matrix}\\right]$$"
      ],
      "text/plain": [
       "⎡10⎤\n",
       "⎢  ⎥\n",
       "⎢7 ⎥\n",
       "⎢  ⎥\n",
       "⎣-2⎦"
      ]
     },
     "execution_count": 188,
     "metadata": {},
     "output_type": "execute_result"
    }
   ],
   "source": [
    "L.LUsolve(v)"
   ]
  },
  {
   "cell_type": "markdown",
   "metadata": {},
   "source": [
    "Continue with a backward substitution. U is an upper triangular matrix, then the elements of x can be computed recursively using backward-substitution."
   ]
  },
  {
   "cell_type": "code",
   "execution_count": 189,
   "metadata": {
    "ExecuteTime": {
     "end_time": "2018-01-23T04:18:09.103006Z",
     "start_time": "2018-01-23T04:18:08.612690Z"
    }
   },
   "outputs": [
    {
     "data": {
      "image/png": "[encoded data removed]",
      "text/latex": [
       "$$\\left[\\begin{matrix}-1\\\\2\\\\1\\end{matrix}\\right]$$"
      ],
      "text/plain": [
       "⎡-1⎤\n",
       "⎢  ⎥\n",
       "⎢2 ⎥\n",
       "⎢  ⎥\n",
       "⎣1 ⎦"
      ]
     },
     "execution_count": 189,
     "metadata": {},
     "output_type": "execute_result"
    }
   ],
   "source": [
    "U.LUsolve(L.LUsolve(v))"
   ]
  },
  {
   "cell_type": "markdown",
   "metadata": {},
   "source": [
    "## More Sympy\n",
    "\n",
    "ref:\n",
    "\n",
    "http://nbviewer.jupyter.org/github/jrjohansson/scientific-python-lectures/blob/master/Lecture-5-Sympy.ipynb"
   ]
  },
  {
   "cell_type": "code",
   "execution_count": 190,
   "metadata": {
    "ExecuteTime": {
     "end_time": "2018-01-23T04:18:09.106516Z",
     "start_time": "2018-01-23T04:18:09.104010Z"
    }
   },
   "outputs": [],
   "source": [
    "x = sym.Symbol('x', real=True)"
   ]
  },
  {
   "cell_type": "code",
   "execution_count": 191,
   "metadata": {
    "ExecuteTime": {
     "end_time": "2018-01-23T04:18:09.131608Z",
     "start_time": "2018-01-23T04:18:09.108018Z"
    }
   },
   "outputs": [],
   "source": [
    "x = sym.Symbol('x', positive=True)"
   ]
  },
  {
   "cell_type": "markdown",
   "metadata": {},
   "source": [
    "## Numerical evaluation\n",
    "SymPy uses a library for artitrary precision as numerical backend, and has predefined SymPy expressions for a number of mathematical constants, such as: `pi`, `e`, `oo` for infinity.\n",
    "\n",
    "To evaluate an expression numerically we can use the `evalf` function (or `N`). It takes an argument `n` which specifies the number of significant digits."
   ]
  },
  {
   "cell_type": "code",
   "execution_count": 192,
   "metadata": {
    "ExecuteTime": {
     "end_time": "2018-01-23T04:18:09.541170Z",
     "start_time": "2018-01-23T04:18:09.132585Z"
    }
   },
   "outputs": [
    {
     "data": {
      "image/png": "[encoded data removed]",
      "text/latex": [
       "$$3.1415926535897932384626433832795028841971693993751$$"
      ],
      "text/plain": [
       "3.1415926535897932384626433832795028841971693993751"
      ]
     },
     "execution_count": 192,
     "metadata": {},
     "output_type": "execute_result"
    }
   ],
   "source": [
    "sym.pi.evalf(n=50)"
   ]
  },
  {
   "cell_type": "code",
   "execution_count": 193,
   "metadata": {
    "ExecuteTime": {
     "end_time": "2018-01-23T04:18:10.067016Z",
     "start_time": "2018-01-23T04:18:09.542690Z"
    }
   },
   "outputs": [
    {
     "data": {
      "image/png": "[encoded data removed]",
      "text/latex": [
       "$$\\left(x + 3.1416\\right)^{2}$$"
      ],
      "text/plain": [
       "            2\n",
       "(x + 3.1416) "
      ]
     },
     "execution_count": 193,
     "metadata": {},
     "output_type": "execute_result"
    }
   ],
   "source": [
    "y = (x + sym.pi)**2\n",
    "sym.N(y, 5) # same as evalf"
   ]
  },
  {
   "cell_type": "code",
   "execution_count": 194,
   "metadata": {
    "ExecuteTime": {
     "end_time": "2018-01-23T04:18:10.071012Z",
     "start_time": "2018-01-23T04:18:10.068004Z"
    }
   },
   "outputs": [
    {
     "data": {
      "text/plain": [
       "sympy.core.power.Pow"
      ]
     },
     "execution_count": 194,
     "metadata": {},
     "output_type": "execute_result"
    }
   ],
   "source": [
    "type(y)"
   ]
  },
  {
   "cell_type": "markdown",
   "metadata": {},
   "source": [
    "When we numerically evaluate algebraic expressions we often want to substitute a symbol with a numerical value. In SymPy we do that using the `subs` function:"
   ]
  },
  {
   "cell_type": "code",
   "execution_count": 195,
   "metadata": {
    "ExecuteTime": {
     "end_time": "2018-01-23T04:18:10.478616Z",
     "start_time": "2018-01-23T04:18:10.072515Z"
    }
   },
   "outputs": [
    {
     "data": {
      "image/png": "[encoded data removed]",
      "text/latex": [
       "$$\\left(1.5 + \\pi\\right)^{2}$$"
      ],
      "text/plain": [
       "         2\n",
       "(1.5 + π) "
      ]
     },
     "execution_count": 195,
     "metadata": {},
     "output_type": "execute_result"
    }
   ],
   "source": [
    "y.subs(x, 1.5)"
   ]
  },
  {
   "cell_type": "markdown",
   "metadata": {},
   "source": [
    "a much more efficient way to do it: Use the function `lambdify` to \"compile\" a Sympy expression into a function that is much more efficient to evaluate numerically:"
   ]
  },
  {
   "cell_type": "code",
   "execution_count": 196,
   "metadata": {
    "ExecuteTime": {
     "end_time": "2018-01-23T04:18:10.483629Z",
     "start_time": "2018-01-23T04:18:10.479620Z"
    }
   },
   "outputs": [],
   "source": [
    "f_np = sym.lambdify([x], (x + sym.pi)**2, 'numpy')  # the first argument is a list of variables that\n",
    "                                         # f will be a function of: in this case only x -> f(x)"
   ]
  },
  {
   "cell_type": "code",
   "execution_count": 197,
   "metadata": {
    "ExecuteTime": {
     "end_time": "2018-01-23T04:18:10.508195Z",
     "start_time": "2018-01-23T04:18:10.485634Z"
    }
   },
   "outputs": [
    {
     "data": {
      "text/plain": [
       "<function numpy.<lambda>>"
      ]
     },
     "execution_count": 197,
     "metadata": {},
     "output_type": "execute_result"
    }
   ],
   "source": [
    "f_np"
   ]
  },
  {
   "cell_type": "markdown",
   "metadata": {},
   "source": [
    "## More Sympy\n"
   ]
  },
  {
   "cell_type": "code",
   "execution_count": 198,
   "metadata": {
    "ExecuteTime": {
     "end_time": "2018-01-23T04:18:10.529768Z",
     "start_time": "2018-01-23T04:18:10.509698Z"
    }
   },
   "outputs": [],
   "source": [
    "# alternative way of defining symbols\n",
    "x,n,t,r, Y, C1, C2 = sym.symbols(\"x,n,t, r, Y, C1, C2\")"
   ]
  },
  {
   "cell_type": "code",
   "execution_count": 199,
   "metadata": {
    "ExecuteTime": {
     "end_time": "2018-01-23T04:18:10.552311Z",
     "start_time": "2018-01-23T04:18:10.530754Z"
    }
   },
   "outputs": [],
   "source": [
    "f = sym.Function(\"f\")"
   ]
  },
  {
   "cell_type": "code",
   "execution_count": 200,
   "metadata": {
    "ExecuteTime": {
     "end_time": "2018-01-23T04:18:10.959444Z",
     "start_time": "2018-01-23T04:18:10.553815Z"
    }
   },
   "outputs": [
    {
     "data": {
      "image/png": "[encoded data removed]",
      "text/latex": [
       "$$f{\\left (x \\right )}$$"
      ],
      "text/plain": [
       "f(x)"
      ]
     },
     "execution_count": 200,
     "metadata": {},
     "output_type": "execute_result"
    }
   ],
   "source": [
    "f(x)"
   ]
  },
  {
   "cell_type": "markdown",
   "metadata": {},
   "source": [
    "### IS-LM problem"
   ]
  },
  {
   "cell_type": "code",
   "execution_count": 201,
   "metadata": {
    "ExecuteTime": {
     "end_time": "2018-01-23T04:18:11.769833Z",
     "start_time": "2018-01-23T04:18:10.960430Z"
    }
   },
   "outputs": [
    {
     "data": {
      "image/png": "[encoded data removed]",
      "text/latex": [
       "$$0.0005 Y + r = 0.55$$"
      ],
      "text/plain": [
       "0.0005⋅Y + r = 0.55"
      ]
     },
     "metadata": {},
     "output_type": "display_data"
    },
    {
     "data": {
      "image/png": "[encoded data removed]",
      "text/latex": [
       "$$- 0.00025 Y + r = -0.2$$"
      ],
      "text/plain": [
       "-0.00025⋅Y + r = -0.2"
      ]
     },
     "metadata": {},
     "output_type": "display_data"
    }
   ],
   "source": [
    "eq1 = sym.Eq(1*r+ 0.0005*Y, 0.55 )\n",
    "display(eq1)\n",
    "eq2 = sym.Eq(1*r- 0.00025*Y, -0.2 )\n",
    "display(eq2)"
   ]
  },
  {
   "cell_type": "code",
   "execution_count": 202,
   "metadata": {
    "ExecuteTime": {
     "end_time": "2018-01-23T04:18:12.395201Z",
     "start_time": "2018-01-23T04:18:11.770823Z"
    }
   },
   "outputs": [
    {
     "data": {
      "image/png": "[encoded data removed]",
      "text/latex": [
       "$$\\left \\{ Y : 1000.0, \\quad r : 0.05\\right \\}$$"
      ],
      "text/plain": [
       "{Y: 1000.0, r: 0.05}"
      ]
     },
     "execution_count": 202,
     "metadata": {},
     "output_type": "execute_result"
    }
   ],
   "source": [
    "sym.solve([eq1, eq2], [r,Y])"
   ]
  },
  {
   "cell_type": "code",
   "execution_count": null,
   "metadata": {},
   "outputs": [],
   "source": []
  },
  {
   "cell_type": "markdown",
   "metadata": {},
   "source": [
    "## Constrained Optimization with Lagrange multiplier"
   ]
  },
  {
   "cell_type": "code",
   "execution_count": 224,
   "metadata": {
    "ExecuteTime": {
     "end_time": "2018-01-23T04:42:48.223267Z",
     "start_time": "2018-01-23T04:42:48.220254Z"
    }
   },
   "outputs": [],
   "source": [
    "x = x1, x2, x3, l = sym.symbols(\"x1, x2, x3, lambda\")"
   ]
  },
  {
   "cell_type": "markdown",
   "metadata": {},
   "source": [
    "### Nonlinear Objective function"
   ]
  },
  {
   "cell_type": "code",
   "execution_count": 227,
   "metadata": {
    "ExecuteTime": {
     "end_time": "2018-01-23T04:43:55.050338Z",
     "start_time": "2018-01-23T04:43:54.607916Z"
    }
   },
   "outputs": [
    {
     "data": {
      "image/png": "[encoded data removed]",
      "text/latex": [
       "$$x_{1} x_{2} x_{3}$$"
      ],
      "text/plain": [
       "x₁⋅x₂⋅x₃"
      ]
     },
     "execution_count": 227,
     "metadata": {},
     "output_type": "execute_result"
    }
   ],
   "source": [
    "f = x1 * x2 * x3\n",
    "f"
   ]
  },
  {
   "cell_type": "markdown",
   "metadata": {},
   "source": [
    "### Nonlinear Constraints"
   ]
  },
  {
   "cell_type": "code",
   "execution_count": 226,
   "metadata": {
    "ExecuteTime": {
     "end_time": "2018-01-23T04:43:37.829875Z",
     "start_time": "2018-01-23T04:43:37.328541Z"
    }
   },
   "outputs": [
    {
     "data": {
      "image/png": "[encoded data removed]",
      "text/latex": [
       "$$2 x_{1} x_{2} + 2 x_{1} x_{3} + 2 x_{2} x_{3} - 1$$"
      ],
      "text/plain": [
       "2⋅x₁⋅x₂ + 2⋅x₁⋅x₃ + 2⋅x₂⋅x₃ - 1"
      ]
     },
     "execution_count": 226,
     "metadata": {},
     "output_type": "execute_result"
    }
   ],
   "source": [
    "g = 2 * (x1 * x2 + x2 * x3 + x3 * x1) - 1\n",
    "g"
   ]
  },
  {
   "cell_type": "markdown",
   "metadata": {},
   "source": [
    "### Lagrange"
   ]
  },
  {
   "cell_type": "code",
   "execution_count": 229,
   "metadata": {
    "ExecuteTime": {
     "end_time": "2018-01-23T04:44:16.670397Z",
     "start_time": "2018-01-23T04:44:16.266230Z"
    }
   },
   "outputs": [
    {
     "data": {
      "image/png": "[encoded data removed]",
      "text/latex": [
       "$$\\lambda \\left(2 x_{1} x_{2} + 2 x_{1} x_{3} + 2 x_{2} x_{3} - 1\\right) + x_{1} x_{2} x_{3}$$"
      ],
      "text/plain": [
       "λ⋅(2⋅x₁⋅x₂ + 2⋅x₁⋅x₃ + 2⋅x₂⋅x₃ - 1) + x₁⋅x₂⋅x₃"
      ]
     },
     "execution_count": 229,
     "metadata": {},
     "output_type": "execute_result"
    }
   ],
   "source": [
    "L = f + l * g\n",
    "L"
   ]
  },
  {
   "cell_type": "markdown",
   "metadata": {},
   "source": [
    "### FOC"
   ]
  },
  {
   "cell_type": "code",
   "execution_count": 231,
   "metadata": {
    "ExecuteTime": {
     "end_time": "2018-01-23T04:45:04.039487Z",
     "start_time": "2018-01-23T04:45:03.514467Z"
    }
   },
   "outputs": [
    {
     "data": {
      "image/png": "[encoded data removed]",
      "text/latex": [
       "$$\\left [ \\lambda \\left(2 x_{2} + 2 x_{3}\\right) + x_{2} x_{3}, \\quad \\lambda \\left(2 x_{1} + 2 x_{3}\\right) + x_{1} x_{3}, \\quad \\lambda \\left(2 x_{1} + 2 x_{2}\\right) + x_{1} x_{2}, \\quad 2 x_{1} x_{2} + 2 x_{1} x_{3} + 2 x_{2} x_{3} - 1\\right ]$$"
      ],
      "text/plain": [
       "[λ⋅(2⋅x₂ + 2⋅x₃) + x₂⋅x₃, λ⋅(2⋅x₁ + 2⋅x₃) + x₁⋅x₃, λ⋅(2⋅x₁ + 2⋅x₂) + x₁⋅x₂, 2⋅\n",
       "x₁⋅x₂ + 2⋅x₁⋅x₃ + 2⋅x₂⋅x₃ - 1]"
      ]
     },
     "execution_count": 231,
     "metadata": {},
     "output_type": "execute_result"
    }
   ],
   "source": [
    "grad_L = [sym.diff(L, x_) for x_ in x] # List of FOCs\n",
    "grad_L"
   ]
  },
  {
   "cell_type": "markdown",
   "metadata": {},
   "source": [
    "### Solve system of FOCs"
   ]
  },
  {
   "cell_type": "code",
   "execution_count": 233,
   "metadata": {
    "ExecuteTime": {
     "end_time": "2018-01-23T04:46:02.959094Z",
     "start_time": "2018-01-23T04:46:02.454502Z"
    }
   },
   "outputs": [
    {
     "data": {
      "image/png": "[encoded data removed]",
      "text/latex": [
       "$$\\left [ \\left \\{ \\lambda : - \\frac{\\sqrt{6}}{24}, \\quad x_{1} : \\frac{\\sqrt{6}}{6}, \\quad x_{2} : \\frac{\\sqrt{6}}{6}, \\quad x_{3} : \\frac{\\sqrt{6}}{6}\\right \\}, \\quad \\left \\{ \\lambda : \\frac{\\sqrt{6}}{24}, \\quad x_{1} : - \\frac{\\sqrt{6}}{6}, \\quad x_{2} : - \\frac{\\sqrt{6}}{6}, \\quad x_{3} : - \\frac{\\sqrt{6}}{6}\\right \\}\\right ]$$"
      ],
      "text/plain": [
       "⎡⎧   -√6       √6      √6      √6⎫  ⎧   √6      -√6       -√6       -√6 ⎫⎤\n",
       "⎢⎨λ: ────, x₁: ──, x₂: ──, x₃: ──⎬, ⎨λ: ──, x₁: ────, x₂: ────, x₃: ────⎬⎥\n",
       "⎣⎩    24       6       6       6 ⎭  ⎩   24       6         6         6  ⎭⎦"
      ]
     },
     "execution_count": 233,
     "metadata": {},
     "output_type": "execute_result"
    }
   ],
   "source": [
    "sols = sym.solve(grad_L)\n",
    "sols"
   ]
  },
  {
   "cell_type": "markdown",
   "metadata": {},
   "source": [
    "### Check constraints"
   ]
  },
  {
   "cell_type": "code",
   "execution_count": 234,
   "metadata": {
    "ExecuteTime": {
     "end_time": "2018-01-23T04:46:54.198294Z",
     "start_time": "2018-01-23T04:46:53.706329Z"
    }
   },
   "outputs": [
    {
     "data": {
      "image/png": "[encoded data removed]",
      "text/latex": [
       "$$0$$"
      ],
      "text/plain": [
       "0"
      ]
     },
     "execution_count": 234,
     "metadata": {},
     "output_type": "execute_result"
    }
   ],
   "source": [
    "g.subs(sols[0])"
   ]
  },
  {
   "cell_type": "markdown",
   "metadata": {},
   "source": [
    "### Check objective function value"
   ]
  },
  {
   "cell_type": "code",
   "execution_count": 235,
   "metadata": {
    "ExecuteTime": {
     "end_time": "2018-01-23T04:47:18.131957Z",
     "start_time": "2018-01-23T04:47:17.725893Z"
    }
   },
   "outputs": [
    {
     "data": {
      "image/png": "[encoded data removed]",
      "text/latex": [
       "$$\\frac{\\sqrt{6}}{36}$$"
      ],
      "text/plain": [
       "√6\n",
       "──\n",
       "36"
      ]
     },
     "execution_count": 235,
     "metadata": {},
     "output_type": "execute_result"
    }
   ],
   "source": [
    "f.subs(sols[0])"
   ]
  },
  {
   "cell_type": "code",
   "execution_count": 236,
   "metadata": {
    "ExecuteTime": {
     "end_time": "2018-01-23T04:48:02.743290Z",
     "start_time": "2018-01-23T04:48:02.326213Z"
    }
   },
   "outputs": [
    {
     "data": {
      "image/png": "[encoded data removed]",
      "text/latex": [
       "$$- \\frac{\\sqrt{6}}{36}$$"
      ],
      "text/plain": [
       "-√6 \n",
       "────\n",
       " 36 "
      ]
     },
     "execution_count": 236,
     "metadata": {},
     "output_type": "execute_result"
    }
   ],
   "source": [
    "f.subs(sols[1])"
   ]
  },
  {
   "cell_type": "code",
   "execution_count": 238,
   "metadata": {
    "ExecuteTime": {
     "end_time": "2018-01-23T04:49:10.316408Z",
     "start_time": "2018-01-23T04:49:09.913425Z"
    }
   },
   "outputs": [
    {
     "data": {
      "image/png": "[encoded data removed]",
      "text/latex": [
       "$$\\left ( x_{1}, \\quad x_{2}, \\quad x_{3}\\right )$$"
      ],
      "text/plain": [
       "(x₁, x₂, x₃)"
      ]
     },
     "execution_count": 238,
     "metadata": {},
     "output_type": "execute_result"
    }
   ],
   "source": [
    "x[:3]"
   ]
  },
  {
   "cell_type": "markdown",
   "metadata": {},
   "source": [
    "### Check SOC"
   ]
  },
  {
   "cell_type": "code",
   "execution_count": 244,
   "metadata": {
    "ExecuteTime": {
     "end_time": "2018-01-23T04:56:41.342217Z",
     "start_time": "2018-01-23T04:56:41.339193Z"
    }
   },
   "outputs": [],
   "source": [
    "from sympy.tensor.array import derive_by_array"
   ]
  },
  {
   "cell_type": "code",
   "execution_count": 263,
   "metadata": {
    "ExecuteTime": {
     "end_time": "2018-01-23T05:14:05.152820Z",
     "start_time": "2018-01-23T05:14:04.650433Z"
    }
   },
   "outputs": [
    {
     "data": {
      "image/png": "[encoded data removed]",
      "text/latex": [
       "$$\\left[\\begin{matrix}0 & x_{3} & x_{2}\\\\x_{3} & 0 & x_{1}\\\\x_{2} & x_{1} & 0\\end{matrix}\\right]$$"
      ],
      "text/plain": [
       "⎡0   x₃  x₂⎤\n",
       "⎢          ⎥\n",
       "⎢x₃  0   x₁⎥\n",
       "⎢          ⎥\n",
       "⎣x₂  x₁  0 ⎦"
      ]
     },
     "execution_count": 263,
     "metadata": {},
     "output_type": "execute_result"
    }
   ],
   "source": [
    "hess_f =derive_by_array(derive_by_array(f, x[:3]),x[:3])\n",
    "hess_f"
   ]
  },
  {
   "cell_type": "code",
   "execution_count": 265,
   "metadata": {
    "ExecuteTime": {
     "end_time": "2018-01-23T05:17:52.678483Z",
     "start_time": "2018-01-23T05:17:52.675990Z"
    }
   },
   "outputs": [],
   "source": [
    "# hess_f =sym.Matrix([[f.diff(x1_).diff(x2_) for x1_ in x[:3]] for x2_ in x[:3]])\n",
    "# hess_f"
   ]
  },
  {
   "cell_type": "code",
   "execution_count": 262,
   "metadata": {
    "ExecuteTime": {
     "end_time": "2018-01-23T05:13:05.150625Z",
     "start_time": "2018-01-23T05:13:04.742040Z"
    }
   },
   "outputs": [
    {
     "data": {
      "image/png": "[encoded data removed]",
      "text/latex": [
       "$$\\left[\\begin{matrix}0 & \\frac{\\sqrt{6}}{6} & \\frac{\\sqrt{6}}{6}\\\\\\frac{\\sqrt{6}}{6} & 0 & \\frac{\\sqrt{6}}{6}\\\\\\frac{\\sqrt{6}}{6} & \\frac{\\sqrt{6}}{6} & 0\\end{matrix}\\right]$$"
      ],
      "text/plain": [
       "⎡    √6  √6⎤\n",
       "⎢0   ──  ──⎥\n",
       "⎢    6   6 ⎥\n",
       "⎢          ⎥\n",
       "⎢√6      √6⎥\n",
       "⎢──  0   ──⎥\n",
       "⎢6       6 ⎥\n",
       "⎢          ⎥\n",
       "⎢√6  √6    ⎥\n",
       "⎢──  ──  0 ⎥\n",
       "⎣6   6     ⎦"
      ]
     },
     "execution_count": 262,
     "metadata": {},
     "output_type": "execute_result"
    }
   ],
   "source": [
    "hess_f.subs(sols[0])"
   ]
  },
  {
   "cell_type": "markdown",
   "metadata": {},
   "source": [
    "### Check Eigenvalues"
   ]
  },
  {
   "cell_type": "code",
   "execution_count": 269,
   "metadata": {
    "ExecuteTime": {
     "end_time": "2018-01-23T05:23:13.382566Z",
     "start_time": "2018-01-23T05:23:12.963445Z"
    }
   },
   "outputs": [
    {
     "data": {
      "image/png": "[encoded data removed]",
      "text/latex": [
       "$$\\left \\{ - \\frac{\\sqrt{6}}{6} : 2, \\quad \\frac{\\sqrt{6}}{3} : 1\\right \\}$$"
      ],
      "text/plain": [
       "⎧-√6      √6   ⎫\n",
       "⎨────: 2, ──: 1⎬\n",
       "⎩ 6       3    ⎭"
      ]
     },
     "execution_count": 269,
     "metadata": {},
     "output_type": "execute_result"
    }
   ],
   "source": [
    "hess_f.subs(sols[0]).eigenvals() #returns eigenvalues and their algebraic multiplicity https://en.wikipedia.org/wiki/Eigenvalues_and_eigenvectors#Algebraic_multiplicity"
   ]
  },
  {
   "cell_type": "code",
   "execution_count": 267,
   "metadata": {
    "ExecuteTime": {
     "end_time": "2018-01-23T05:21:43.260002Z",
     "start_time": "2018-01-23T05:21:42.826793Z"
    }
   },
   "outputs": [
    {
     "data": {
      "image/png": "[encoded data removed]",
      "text/latex": [
       "$$\\left [ \\left ( - \\frac{\\sqrt{6}}{6}, \\quad 2, \\quad \\left [ \\left[\\begin{matrix}-1\\\\1\\\\0\\end{matrix}\\right], \\quad \\left[\\begin{matrix}-1\\\\0\\\\1\\end{matrix}\\right]\\right ]\\right ), \\quad \\left ( \\frac{\\sqrt{6}}{3}, \\quad 1, \\quad \\left [ \\left[\\begin{matrix}1\\\\1\\\\1\\end{matrix}\\right]\\right ]\\right )\\right ]$$"
      ],
      "text/plain": [
       "⎡⎛         ⎡⎡-1⎤  ⎡-1⎤⎤⎞  ⎛       ⎡⎡1⎤⎤⎞⎤\n",
       "⎢⎜-√6      ⎢⎢  ⎥  ⎢  ⎥⎥⎟  ⎜√6     ⎢⎢ ⎥⎥⎟⎥\n",
       "⎢⎜────, 2, ⎢⎢1 ⎥, ⎢0 ⎥⎥⎟, ⎜──, 1, ⎢⎢1⎥⎥⎟⎥\n",
       "⎢⎜ 6       ⎢⎢  ⎥  ⎢  ⎥⎥⎟  ⎜3      ⎢⎢ ⎥⎥⎟⎥\n",
       "⎣⎝         ⎣⎣0 ⎦  ⎣1 ⎦⎦⎠  ⎝       ⎣⎣1⎦⎦⎠⎦"
      ]
     },
     "execution_count": 267,
     "metadata": {},
     "output_type": "execute_result"
    }
   ],
   "source": [
    "hess_f.subs(sols[0]).eigenvects()  #returns eigenvalues,algebraic multiplicity,and eigenvects"
   ]
  },
  {
   "cell_type": "code",
   "execution_count": 266,
   "metadata": {
    "ExecuteTime": {
     "end_time": "2018-01-23T05:19:08.374828Z",
     "start_time": "2018-01-23T05:19:07.821979Z"
    }
   },
   "outputs": [
    {
     "data": {
      "image/png": "[encoded data removed]",
      "text/latex": [
       "$$\\left \\{ - \\frac{\\sqrt{6}}{3} : 1, \\quad \\frac{\\sqrt{6}}{6} : 2\\right \\}$$"
      ],
      "text/plain": [
       "⎧-√6      √6   ⎫\n",
       "⎨────: 1, ──: 2⎬\n",
       "⎩ 3       6    ⎭"
      ]
     },
     "execution_count": 266,
     "metadata": {},
     "output_type": "execute_result"
    }
   ],
   "source": [
    "hess_f.subs(sols[1]).eigenvals()"
   ]
  },
  {
   "cell_type": "code",
   "execution_count": null,
   "metadata": {
    "ExecuteTime": {
     "end_time": "2018-01-23T04:51:21.538233Z",
     "start_time": "2018-01-23T04:51:21.507150Z"
    }
   },
   "outputs": [],
   "source": []
  },
  {
   "cell_type": "markdown",
   "metadata": {
    "ExecuteTime": {
     "end_time": "2018-01-23T03:52:25.542635Z",
     "start_time": "2018-01-23T03:52:25.030471Z"
    }
   },
   "source": [
    "## Difference equations"
   ]
  },
  {
   "cell_type": "code",
   "execution_count": 203,
   "metadata": {
    "ExecuteTime": {
     "end_time": "2018-01-23T04:18:12.399711Z",
     "start_time": "2018-01-23T04:18:12.396189Z"
    }
   },
   "outputs": [],
   "source": [
    "b,c,d, n, y0 = sym.symbols(\"b c d n y0\")\n",
    "y = sym.Function(\"y\")"
   ]
  },
  {
   "cell_type": "code",
   "execution_count": 204,
   "metadata": {
    "ExecuteTime": {
     "end_time": "2018-01-23T04:18:13.028323Z",
     "start_time": "2018-01-23T04:18:12.401202Z"
    }
   },
   "outputs": [
    {
     "data": {
      "image/png": "[encoded data removed]",
      "text/latex": [
       "$$c y{\\left (n \\right )} + y{\\left (n + 1 \\right )} = d$$"
      ],
      "text/plain": [
       "c⋅y(n) + y(n + 1) = d"
      ]
     },
     "execution_count": 204,
     "metadata": {},
     "output_type": "execute_result"
    }
   ],
   "source": [
    "ode=sym.Eq(y(n+1) + c*y(n), d)\n",
    "ode"
   ]
  },
  {
   "cell_type": "code",
   "execution_count": 205,
   "metadata": {
    "ExecuteTime": {
     "end_time": "2018-01-23T04:18:13.476184Z",
     "start_time": "2018-01-23T04:18:13.029825Z"
    }
   },
   "outputs": [
    {
     "data": {
      "image/png": "[encoded data removed]",
      "text/latex": [
       "$$C_{0} \\left(- c\\right)^{n} + \\frac{d}{c + 1}$$"
      ],
      "text/plain": [
       "       n     d  \n",
       "C₀⋅(-c)  + ─────\n",
       "           c + 1"
      ]
     },
     "execution_count": 205,
     "metadata": {},
     "output_type": "execute_result"
    }
   ],
   "source": [
    "ode_sol=sym.rsolve(ode,y(n))\n",
    "ode_sol"
   ]
  },
  {
   "cell_type": "code",
   "execution_count": 206,
   "metadata": {
    "ExecuteTime": {
     "end_time": "2018-01-23T04:18:13.880420Z",
     "start_time": "2018-01-23T04:18:13.477690Z"
    }
   },
   "outputs": [
    {
     "data": {
      "image/png": "[encoded data removed]",
      "text/latex": [
       "$$\\left \\{ y{\\left (0 \\right )} : y_{0}\\right \\}$$"
      ],
      "text/plain": [
       "{y(0): y₀}"
      ]
     },
     "execution_count": 206,
     "metadata": {},
     "output_type": "execute_result"
    }
   ],
   "source": [
    "ics = {y(0): y0}\n",
    "ics #initial condition "
   ]
  },
  {
   "cell_type": "code",
   "execution_count": 207,
   "metadata": {
    "ExecuteTime": {
     "end_time": "2018-01-23T04:18:14.287043Z",
     "start_time": "2018-01-23T04:18:13.881422Z"
    }
   },
   "outputs": [
    {
     "data": {
      "image/png": "[encoded data removed]",
      "text/latex": [
       "$$y_{0} = C_{0} + \\frac{d}{c + 1}$$"
      ],
      "text/plain": [
       "            d  \n",
       "y₀ = C₀ + ─────\n",
       "          c + 1"
      ]
     },
     "execution_count": 207,
     "metadata": {},
     "output_type": "execute_result"
    }
   ],
   "source": [
    "C_eq = sym.Eq(y(n).subs(n, 0).subs(ics), ode_sol.subs(n, 0))\n",
    "C_eq"
   ]
  },
  {
   "cell_type": "code",
   "execution_count": 208,
   "metadata": {
    "ExecuteTime": {
     "end_time": "2018-01-23T04:18:14.879103Z",
     "start_time": "2018-01-23T04:18:14.288547Z"
    }
   },
   "outputs": [
    {
     "data": {
      "image/png": "[encoded data removed]",
      "text/latex": [
       "$$\\left [ \\left \\{ C_{0} : \\frac{c y_{0} - d + y_{0}}{c + 1}\\right \\}\\right ]$$"
      ],
      "text/plain": [
       "⎡⎧    c⋅y₀ - d + y₀⎫⎤\n",
       "⎢⎨C₀: ─────────────⎬⎥\n",
       "⎣⎩        c + 1    ⎭⎦"
      ]
     },
     "execution_count": 208,
     "metadata": {},
     "output_type": "execute_result"
    }
   ],
   "source": [
    "C_sol = sym.solve(C_eq)\n",
    "C_sol"
   ]
  },
  {
   "cell_type": "code",
   "execution_count": 209,
   "metadata": {
    "ExecuteTime": {
     "end_time": "2018-01-23T04:18:15.304687Z",
     "start_time": "2018-01-23T04:18:14.880091Z"
    }
   },
   "outputs": [
    {
     "data": {
      "image/png": "[encoded data removed]",
      "text/latex": [
       "$$\\frac{d}{c + 1} + \\frac{\\left(- c\\right)^{n}}{c + 1} \\left(c y_{0} - d + y_{0}\\right)$$"
      ],
      "text/plain": [
       "            n                \n",
       "  d     (-c) ⋅(c⋅y₀ - d + y₀)\n",
       "───── + ─────────────────────\n",
       "c + 1           c + 1        "
      ]
     },
     "execution_count": 209,
     "metadata": {},
     "output_type": "execute_result"
    }
   ],
   "source": [
    "ode_sol.subs(C_sol[0])"
   ]
  },
  {
   "cell_type": "code",
   "execution_count": null,
   "metadata": {},
   "outputs": [],
   "source": []
  },
  {
   "cell_type": "markdown",
   "metadata": {},
   "source": [
    "## Differential equations"
   ]
  },
  {
   "cell_type": "code",
   "execution_count": 210,
   "metadata": {
    "ExecuteTime": {
     "end_time": "2018-01-23T04:18:15.308197Z",
     "start_time": "2018-01-23T04:18:15.305675Z"
    }
   },
   "outputs": [],
   "source": [
    "a, t, y0 = sym.symbols(\"a t y0\")\n",
    "y = sym.Function(\"y\")"
   ]
  },
  {
   "cell_type": "code",
   "execution_count": 211,
   "metadata": {
    "ExecuteTime": {
     "end_time": "2018-01-23T04:18:15.827044Z",
     "start_time": "2018-01-23T04:18:15.309183Z"
    }
   },
   "outputs": [
    {
     "data": {
      "image/png": "[encoded data removed]",
      "text/latex": [
       "$$\\frac{d}{d t} y{\\left (t \\right )} = a y{\\left (t \\right )}$$"
      ],
      "text/plain": [
       "d                \n",
       "──(y(t)) = a⋅y(t)\n",
       "dt               "
      ]
     },
     "execution_count": 211,
     "metadata": {},
     "output_type": "execute_result"
    }
   ],
   "source": [
    "ode=sym.Eq(y(t).diff(t), a*y(t))\n",
    "ode"
   ]
  },
  {
   "cell_type": "markdown",
   "metadata": {},
   "source": [
    "- y: money in bank\n",
    "- a: interest rate, for example 6%\n",
    "- t: time year"
   ]
  },
  {
   "cell_type": "code",
   "execution_count": 212,
   "metadata": {
    "ExecuteTime": {
     "end_time": "2018-01-23T04:18:16.450396Z",
     "start_time": "2018-01-23T04:18:15.828549Z"
    }
   },
   "outputs": [
    {
     "data": {
      "image/png": "[encoded data removed]",
      "text/latex": [
       "$$y{\\left (t \\right )} = C_{1} e^{a t}$$"
      ],
      "text/plain": [
       "           a⋅t\n",
       "y(t) = C₁⋅ℯ   "
      ]
     },
     "execution_count": 212,
     "metadata": {},
     "output_type": "execute_result"
    }
   ],
   "source": [
    "ode_sol=sym.dsolve(ode, y(t), hint=\"separable\")\n",
    "ode_sol"
   ]
  },
  {
   "cell_type": "code",
   "execution_count": 213,
   "metadata": {
    "ExecuteTime": {
     "end_time": "2018-01-23T04:18:16.453906Z",
     "start_time": "2018-01-23T04:18:16.451400Z"
    }
   },
   "outputs": [],
   "source": [
    "ics = {y(0): y0}"
   ]
  },
  {
   "cell_type": "code",
   "execution_count": 214,
   "metadata": {
    "ExecuteTime": {
     "end_time": "2018-01-23T04:18:16.477496Z",
     "start_time": "2018-01-23T04:18:16.455410Z"
    }
   },
   "outputs": [],
   "source": [
    "def apply_ics(sol, ics, x, known_params):\n",
    "    \"\"\"\n",
    "    Apply the initial conditions (ics), given as a dictionary on\n",
    "    the form ics = {y(0): y0: y(x).diff(x).subs(x, 0): yp0, ...}\n",
    "    to the solution of the ODE with indepdendent variable x.\n",
    "    The undetermined integration constants C1, C2, ... are extracted\n",
    "    from the free symbols of the ODE solution, excluding symbols in\n",
    "    the known_params list.\n",
    "    \"\"\"\n",
    "    free_params = sol.free_symbols - set(known_params)\n",
    "    eqs = [(sol.lhs.diff(x, n) - sol.rhs.diff(x, n)).subs(x, 0).subs(ics)\n",
    "           for n in range(len(ics))]\n",
    "    sol_params = sym.solve(eqs, free_params)\n",
    "    return sol.subs(sol_params)"
   ]
  },
  {
   "cell_type": "code",
   "execution_count": 215,
   "metadata": {
    "ExecuteTime": {
     "end_time": "2018-01-23T04:18:16.989413Z",
     "start_time": "2018-01-23T04:18:16.478472Z"
    }
   },
   "outputs": [
    {
     "data": {
      "image/png": "[encoded data removed]",
      "text/latex": [
       "$$y{\\left (t \\right )} = y_{0} e^{a t}$$"
      ],
      "text/plain": [
       "           a⋅t\n",
       "y(t) = y₀⋅ℯ   "
      ]
     },
     "execution_count": 215,
     "metadata": {},
     "output_type": "execute_result"
    }
   ],
   "source": [
    "apply_ics(ode_sol, ics, t, [a])"
   ]
  },
  {
   "cell_type": "markdown",
   "metadata": {},
   "source": [
    "## Integration"
   ]
  },
  {
   "cell_type": "code",
   "execution_count": 216,
   "metadata": {
    "ExecuteTime": {
     "end_time": "2018-01-23T04:18:17.511081Z",
     "start_time": "2018-01-23T04:18:16.990418Z"
    }
   },
   "outputs": [
    {
     "data": {
      "image/png": "[encoded data removed]",
      "text/latex": [
       "$$\\sqrt{\\pi}$$"
      ],
      "text/plain": [
       "√π"
      ]
     },
     "execution_count": 216,
     "metadata": {},
     "output_type": "execute_result"
    }
   ],
   "source": [
    "from sympy import oo\n",
    "sym.integrate(sym.exp(-x**2), (x, -oo, oo))"
   ]
  },
  {
   "cell_type": "markdown",
   "metadata": {},
   "source": [
    "`oo` is the SymPy notation for inifinity."
   ]
  },
  {
   "cell_type": "code",
   "execution_count": 217,
   "metadata": {
    "ExecuteTime": {
     "end_time": "2018-01-23T04:18:17.515091Z",
     "start_time": "2018-01-23T04:18:17.512084Z"
    }
   },
   "outputs": [],
   "source": [
    "x, y, z = sym.symbols(\"x,y,z\")\n",
    "f = sym.sin(x*y) + sym.cos(y*x)"
   ]
  },
  {
   "cell_type": "code",
   "execution_count": 218,
   "metadata": {
    "ExecuteTime": {
     "end_time": "2018-01-23T04:18:17.984878Z",
     "start_time": "2018-01-23T04:18:17.516596Z"
    }
   },
   "outputs": [
    {
     "data": {
      "image/png": "[encoded data removed]",
      "text/latex": [
       "$$- \\begin{cases} -1 & \\text{for}\\: y = 0 \\\\- \\frac{1}{y} \\sin{\\left (y \\right )} & \\text{otherwise} \\end{cases} + \\begin{cases} 1 & \\text{for}\\: y = 0 \\\\\\frac{1}{y} \\sin{\\left (y \\right )} & \\text{otherwise} \\end{cases}$$"
      ],
      "text/plain": [
       "  ⎛⎧   -1     for y = 0⎞   ⎛⎧  1     for y = 0⎞\n",
       "  ⎜⎪                   ⎟   ⎜⎪                 ⎟\n",
       "- ⎜⎨-sin(y)            ⎟ + ⎜⎨sin(y)           ⎟\n",
       "  ⎜⎪────────  otherwise⎟   ⎜⎪──────  otherwise⎟\n",
       "  ⎝⎩   y               ⎠   ⎝⎩  y              ⎠"
      ]
     },
     "execution_count": 218,
     "metadata": {},
     "output_type": "execute_result"
    }
   ],
   "source": [
    "sym.integrate(f, (x, -1, 1))"
   ]
  },
  {
   "cell_type": "markdown",
   "metadata": {},
   "source": [
    "### Sums and products\n",
    "We can evaluate sums and products using the functions: 'Sum'"
   ]
  },
  {
   "cell_type": "code",
   "execution_count": 219,
   "metadata": {
    "ExecuteTime": {
     "end_time": "2018-01-23T04:18:18.489268Z",
     "start_time": "2018-01-23T04:18:17.985881Z"
    }
   },
   "outputs": [
    {
     "data": {
      "image/png": "[encoded data removed]",
      "text/latex": [
       "$$\\sum_{n=1}^{10} \\frac{1}{n^{2}}$$"
      ],
      "text/plain": [
       "  10    \n",
       " ____   \n",
       " ╲      \n",
       "  ╲   1 \n",
       "   ╲  ──\n",
       "   ╱   2\n",
       "  ╱   n \n",
       " ╱      \n",
       " ‾‾‾‾   \n",
       "n = 1   "
      ]
     },
     "execution_count": 219,
     "metadata": {},
     "output_type": "execute_result"
    }
   ],
   "source": [
    "sym.Sum(1/n**2, (n, 1, 10))"
   ]
  },
  {
   "cell_type": "code",
   "execution_count": 220,
   "metadata": {
    "ExecuteTime": {
     "end_time": "2018-01-23T04:18:18.901364Z",
     "start_time": "2018-01-23T04:18:18.490270Z"
    }
   },
   "outputs": [
    {
     "data": {
      "image/png": "[encoded data removed]",
      "text/latex": [
       "$$\\prod_{n=1}^{10} n$$"
      ],
      "text/plain": [
       "  10   \n",
       "┬───┬  \n",
       "│   │ n\n",
       "│   │  \n",
       "n = 1  "
      ]
     },
     "execution_count": 220,
     "metadata": {},
     "output_type": "execute_result"
    }
   ],
   "source": [
    "sym.Product(n, (n, 1, 10)) # 10!"
   ]
  },
  {
   "cell_type": "code",
   "execution_count": null,
   "metadata": {},
   "outputs": [],
   "source": []
  }
 ],
 "metadata": {
  "kernelspec": {
   "display_name": "Python 3",
   "language": "python",
   "name": "python3"
  },
  "language_info": {
   "codemirror_mode": {
    "name": "ipython",
    "version": 3
   },
   "file_extension": ".py",
   "mimetype": "text/x-python",
   "name": "python",
   "nbconvert_exporter": "python",
   "pygments_lexer": "ipython3",
   "version": "3.6.3"
  }
 },
 "nbformat": 4,
 "nbformat_minor": 2
}
