{
 "cells": [
  {
   "cell_type": "code",
   "execution_count": null,
   "metadata": {
    "ExecuteTime": {
     "end_time": "2018-02-08T17:51:47.756040Z",
     "start_time": "2018-02-08T17:51:43.939746Z"
    },
    "collapsed": true
   },
   "outputs": [],
   "source": [
    "from sympy import *\n",
    "%matplotlib inline\n",
    "\n",
    "\n",
    "init_printing(use_latex=True)"
   ]
  },
  {
   "cell_type": "code",
   "execution_count": null,
   "metadata": {
    "collapsed": true
   },
   "outputs": [],
   "source": []
  },
  {
   "cell_type": "markdown",
   "metadata": {},
   "source": [
    "# Markdown Tutorial"
   ]
  },
  {
   "cell_type": "markdown",
   "metadata": {},
   "source": [
    "## Markdown Cells\n",
    "\n",
    "Cells which contain text are called \"markdown\" cells. In markdown cells acutally use a text formatting language called markdown. To make a cell into a markdown cell, choose the option \"Markdown\" from the drop down menu on the tool bar above. \n",
    "\n",
    "Markdown cells are run in the same way as code cells: by pressing ```shift + enter```. Once a markdown cell has been run, it appears as plain text. To edit a markdown cell, double click on it.\n",
    "\n",
    "### Headings\n",
    "Markdown cells can contain headings and subheadings to keep writing organized. To create a heading, type from one to six ```#```s at the beginning of a line followed by a space and the name of your heading. Jupyter will automatically change the font size of the heading and turn it blue for visability. \n",
    "\n",
    "Markdown has 6 different levels of headings. Below are some examples of different headings. The cell below contains the largest of these headings. Double click on this cell see how these different were created.\n"
   ]
  },
  {
   "cell_type": "markdown",
   "metadata": {},
   "source": [
    "```\n",
    "# Heading 1\n",
    "## Heading 2\n",
    "##### Heading 5\n",
    "```"
   ]
  },
  {
   "cell_type": "markdown",
   "metadata": {},
   "source": [
    "# Heading 1\n",
    "## Heading 2\n",
    "##### Heading 5"
   ]
  },
  {
   "cell_type": "markdown",
   "metadata": {},
   "source": [
    "## Emphasis: \n",
    "\n",
    "\n",
    "- Bold:\n",
    "```\n",
    "    __string__ or **string** \n",
    "```\n",
    "\n",
    " gives\n",
    " \n",
    " __string__ or **string** \n",
    " \n",
    " \n",
    "- Italic: \n",
    "\n",
    "```\n",
    "    _string_ or *string*\n",
    "```\n",
    "\n",
    "gives\n",
    "\n",
    "_string_ or *string*"
   ]
  },
  {
   "cell_type": "markdown",
   "metadata": {},
   "source": [
    "### LaTeX\n",
    "To embed LaTeX formatting in a markdown cell, surround the command with either ```$``` or ```$$```. The single dollar sign puts it inline witht the text, the the double dollar sign centers it below the text. Here is an example of a centered LaTeX command:\n",
    "\n",
    "$$F(x) = \\int_{0}^{\\infty} e^{-x} dx$$\n",
    "\n",
    "\n",
    "See more at http://nbviewer.jupyter.org/github/ipython/ipython/blob/1.x/examples/notebooks/Typesetting%20Math%20Using%20MathJax.ipynb"
   ]
  },
  {
   "cell_type": "markdown",
   "metadata": {},
   "source": [
    "## GitHub flavored markdown\n",
    "The Notebook webapp supports Github flavored markdown meaning that you can use triple backticks for code blocks:\n",
    "\n",
    "\n",
    "    ```python\n",
    "    print \"Hello World\"\n",
    "    ```\n",
    "\n",
    "gives\n",
    "\n",
    "```python\n",
    "print \"Hello World\"\n",
    "```\n",
    "\n",
    "and \n",
    "\n",
    "    ```javascript\n",
    "    console.log(\"Hello World\")\n",
    "    ```\n",
    "gives\n",
    "\n",
    "```javascript\n",
    "console.log(\"Hello World\")\n",
    "```"
   ]
  },
  {
   "cell_type": "code",
   "execution_count": null,
   "metadata": {
    "collapsed": true
   },
   "outputs": [],
   "source": []
  },
  {
   "cell_type": "markdown",
   "metadata": {},
   "source": [
    "## Model:\n",
    "\n",
    "- product equals aggregate demand, $Y = C + I +G$; \n",
    "\n",
    "- consumption function, $C = \\bar C + c(Y−T)$; \n",
    "\n",
    "- investment function, $I = \\bar I − bR$; \n",
    "\n",
    "\n",
    "- public spending function, $G = \\bar G$; \n",
    "\n",
    "- income taxes function, $T = \\bar T$; \n",
    "\n",
    "- monetary equilibrium, $M/P = kY − hR$; \n",
    "\n",
    "- money supply function, $M = \\bar M$."
   ]
  },
  {
   "cell_type": "markdown",
   "metadata": {},
   "source": [
    "## Endogenous variables: \n",
    "\n",
    "- product, $Y$;\n",
    "\n",
    "- consumption, $C$; \n",
    "\n",
    "- investment, $I$; \n",
    "\n",
    "- interest rate, $R$."
   ]
  },
  {
   "cell_type": "code",
   "execution_count": null,
   "metadata": {
    "ExecuteTime": {
     "end_time": "2018-02-08T18:10:53.306939Z",
     "start_time": "2018-02-08T18:10:53.303427Z"
    },
    "collapsed": true
   },
   "outputs": [],
   "source": [
    "Y, C, I, R, P = symbols('Y C I R P')"
   ]
  },
  {
   "cell_type": "markdown",
   "metadata": {},
   "source": [
    "## Exogenous variables: \n",
    "\n",
    "- government/public spending, $\\bar G$; \n",
    "\n",
    "- independent/autonomous consumption, $\\bar C$; \n",
    "\n",
    "- independent/autonomous investment, $\\bar I$; \n",
    "\n",
    "- income taxes, $\\bar T$;\n",
    "\n",
    "- money supply, $\\bar M$; \n",
    "\n",
    "- price level (fixed), $\\bar P$."
   ]
  },
  {
   "cell_type": "code",
   "execution_count": null,
   "metadata": {
    "ExecuteTime": {
     "end_time": "2018-02-08T18:10:54.319886Z",
     "start_time": "2018-02-08T18:10:54.317881Z"
    },
    "collapsed": true
   },
   "outputs": [],
   "source": [
    "Gbar, Cbar, Ibar, Tbar, Mbar, Pbar = symbols( 'Gbar Cbar Ibar Tbar Mbar Pbar')"
   ]
  },
  {
   "cell_type": "markdown",
   "metadata": {},
   "source": [
    "## Parameters:\n",
    "- $c$ is the propensity to consume, $0 < c < 1$; \n",
    "\n",
    "- $b > 0$ is the interest sensitivity of investment; \n",
    "\n",
    "- $k > 0$ is the output sensitivity of the demand for money; \n",
    "\n",
    "- $h > 0$ is the interest sensitivity of the demand for money.\n",
    "\n"
   ]
  },
  {
   "cell_type": "code",
   "execution_count": null,
   "metadata": {
    "ExecuteTime": {
     "end_time": "2018-02-08T18:10:54.985942Z",
     "start_time": "2018-02-08T18:10:54.982935Z"
    },
    "collapsed": true
   },
   "outputs": [],
   "source": [
    "c, b, k, h = symbols('c b k h', positive = True)"
   ]
  },
  {
   "cell_type": "markdown",
   "metadata": {},
   "source": [
    "## IS curve\n",
    "\n",
    "The IS curve shows the continuum of combinations of the interest and production level at which there is equilibrium in the goods and services market:"
   ]
  },
  {
   "cell_type": "code",
   "execution_count": null,
   "metadata": {
    "ExecuteTime": {
     "end_time": "2018-02-08T18:10:56.826396Z",
     "start_time": "2018-02-08T18:10:55.916181Z"
    },
    "collapsed": true
   },
   "outputs": [],
   "source": [
    "#solve( Y - (Cbar + c*(Y-Tbar) + Ibar - b*R + Gbar),Y)"
   ]
  },
  {
   "cell_type": "code",
   "execution_count": null,
   "metadata": {
    "ExecuteTime": {
     "end_time": "2018-02-08T18:10:57.343396Z",
     "start_time": "2018-02-08T18:10:56.827399Z"
    },
    "collapsed": true
   },
   "outputs": [],
   "source": [
    "aggregate_demand = Eq(Y, C+I+Gbar)\n",
    "aggregate_demand"
   ]
  },
  {
   "cell_type": "code",
   "execution_count": null,
   "metadata": {
    "ExecuteTime": {
     "end_time": "2018-02-08T18:19:10.797661Z",
     "start_time": "2018-02-08T18:19:10.183531Z"
    },
    "collapsed": true
   },
   "outputs": [],
   "source": [
    "consumption_function=Eq(C,Cbar+c*(Y-Tbar))\n",
    "consumption_function"
   ]
  },
  {
   "cell_type": "code",
   "execution_count": null,
   "metadata": {
    "ExecuteTime": {
     "end_time": "2018-02-08T18:19:11.613732Z",
     "start_time": "2018-02-08T18:19:11.038862Z"
    },
    "collapsed": true
   },
   "outputs": [],
   "source": [
    "investment_function=Eq(  I,Ibar-b*R)\n",
    "investment_function"
   ]
  },
  {
   "cell_type": "code",
   "execution_count": null,
   "metadata": {
    "ExecuteTime": {
     "end_time": "2018-02-08T18:19:12.179873Z",
     "start_time": "2018-02-08T18:19:11.613732Z"
    },
    "collapsed": true
   },
   "outputs": [],
   "source": [
    "solve( [aggregate_demand,consumption_function,investment_function],[Y,C,I])"
   ]
  },
  {
   "cell_type": "code",
   "execution_count": null,
   "metadata": {
    "collapsed": true
   },
   "outputs": [],
   "source": []
  },
  {
   "cell_type": "markdown",
   "metadata": {},
   "source": [
    "## IS−LM model \n",
    "\n",
    "- monetary equilibrium, $M/P = kY − hR$; \n",
    "\n",
    "- money supply function, $M = \\bar M$."
   ]
  },
  {
   "cell_type": "markdown",
   "metadata": {},
   "source": [
    "###  <span style=\"color:red\">It is your turn to solve it</span>"
   ]
  },
  {
   "cell_type": "code",
   "execution_count": null,
   "metadata": {
    "collapsed": true
   },
   "outputs": [],
   "source": []
  },
  {
   "cell_type": "code",
   "execution_count": null,
   "metadata": {
    "collapsed": true
   },
   "outputs": [],
   "source": []
  },
  {
   "cell_type": "code",
   "execution_count": null,
   "metadata": {
    "collapsed": true
   },
   "outputs": [],
   "source": []
  },
  {
   "cell_type": "code",
   "execution_count": null,
   "metadata": {
    "collapsed": true
   },
   "outputs": [],
   "source": []
  },
  {
   "cell_type": "code",
   "execution_count": null,
   "metadata": {
    "collapsed": true
   },
   "outputs": [],
   "source": []
  },
  {
   "cell_type": "code",
   "execution_count": null,
   "metadata": {
    "collapsed": true
   },
   "outputs": [],
   "source": []
  },
  {
   "cell_type": "code",
   "execution_count": null,
   "metadata": {
    "collapsed": true
   },
   "outputs": [],
   "source": []
  },
  {
   "cell_type": "code",
   "execution_count": null,
   "metadata": {
    "collapsed": true
   },
   "outputs": [],
   "source": []
  },
  {
   "cell_type": "markdown",
   "metadata": {
    "collapsed": true
   },
   "source": [
    "## IS−LM model "
   ]
  },
  {
   "cell_type": "code",
   "execution_count": null,
   "metadata": {
    "ExecuteTime": {
     "end_time": "2018-02-08T18:19:12.751416Z",
     "start_time": "2018-02-08T18:19:12.281146Z"
    },
    "collapsed": true
   },
   "outputs": [],
   "source": [
    "monetary_equilibrium= Eq( Mbar/Pbar,k*Y-h*R) ;\n",
    "monetary_equilibrium"
   ]
  },
  {
   "cell_type": "code",
   "execution_count": null,
   "metadata": {
    "ExecuteTime": {
     "end_time": "2018-02-08T18:19:13.288665Z",
     "start_time": "2018-02-08T18:19:12.799549Z"
    },
    "collapsed": true
   },
   "outputs": [],
   "source": [
    "solve([monetary_equilibrium],[R])"
   ]
  },
  {
   "cell_type": "code",
   "execution_count": null,
   "metadata": {
    "collapsed": true
   },
   "outputs": [],
   "source": []
  },
  {
   "cell_type": "markdown",
   "metadata": {
    "collapsed": true
   },
   "source": [
    "## Consumption optimum with two goods"
   ]
  },
  {
   "cell_type": "markdown",
   "metadata": {
    "collapsed": true
   },
   "source": [
    "A consumer maximizes Cobb-Douglas utility \n",
    "\n",
    "$$U(c_1,c_2) = c_1^\\alpha c_2^{(1-\\alpha)}$$\n",
    "\n",
    "\n",
    "\n",
    "subject to the budget constraint\n",
    "\n",
    "$$p_1 c_1 + p_2 c_2 \\leq I $$"
   ]
  },
  {
   "cell_type": "code",
   "execution_count": null,
   "metadata": {
    "ExecuteTime": {
     "end_time": "2018-02-08T18:47:22.297691Z",
     "start_time": "2018-02-08T18:47:22.294683Z"
    },
    "collapsed": true
   },
   "outputs": [],
   "source": [
    "c1, c2, α, p1, p2, λ, I = symbols( 'c1, c2, alpha, p1, p2, lambda,I')"
   ]
  },
  {
   "cell_type": "code",
   "execution_count": null,
   "metadata": {
    "ExecuteTime": {
     "end_time": "2018-02-08T18:47:22.696361Z",
     "start_time": "2018-02-08T18:47:22.694356Z"
    },
    "collapsed": true
   },
   "outputs": [],
   "source": [
    "#U = Function(\"U\")"
   ]
  },
  {
   "cell_type": "code",
   "execution_count": null,
   "metadata": {
    "ExecuteTime": {
     "end_time": "2018-02-08T18:47:23.433882Z",
     "start_time": "2018-02-08T18:47:22.911454Z"
    },
    "collapsed": true
   },
   "outputs": [],
   "source": [
    "U = c1**α*c2**(1-α)\n",
    "U"
   ]
  },
  {
   "cell_type": "code",
   "execution_count": null,
   "metadata": {
    "ExecuteTime": {
     "end_time": "2018-02-08T18:47:23.974856Z",
     "start_time": "2018-02-08T18:47:23.434884Z"
    },
    "collapsed": true
   },
   "outputs": [],
   "source": [
    "g = p1*c1+p2*c2\n",
    "g"
   ]
  },
  {
   "cell_type": "code",
   "execution_count": null,
   "metadata": {
    "collapsed": true
   },
   "outputs": [],
   "source": []
  },
  {
   "cell_type": "markdown",
   "metadata": {
    "collapsed": true
   },
   "source": [
    "## The consumer's optimum\n",
    "\n",
    "$$L(c_1,c_2) = U(c_1,c_2) + \\lambda (I - p_1 c_1  - p_2 c_2) $$\n",
    "\n",
    "\n",
    "\n",
    "\n",
    "Differentiate with respect to $c_1$ and $c_2$ and $\\lambda$ to get:\n",
    "\n",
    "$$ U_1 = \\lambda{p_1}$$\n",
    "\n",
    "$$ U_2 = \\lambda{p_2}$$\n",
    "\n",
    "$$ I = p_1 c_1  + p_2 c_2$$"
   ]
  },
  {
   "cell_type": "code",
   "execution_count": null,
   "metadata": {
    "ExecuteTime": {
     "end_time": "2018-02-08T18:47:24.961039Z",
     "start_time": "2018-02-08T18:47:24.406046Z"
    },
    "collapsed": true
   },
   "outputs": [],
   "source": [
    "Lag = U+ λ*(I-g)\n",
    "Lag"
   ]
  },
  {
   "cell_type": "markdown",
   "metadata": {
    "collapsed": true
   },
   "source": [
    "Dividing the first equation by the second we get the familiar necessary tangency condition for an interior optimum:\n",
    "\n",
    "$$MRS = \\frac{U_1}{U_2} =\\frac{p_1}{p_2}$$\n",
    "\n",
    "Using our earlier expression for the MRS of a Cobb-Douglas indifference curve, substituting this into the budget constraint and rearranging then allows us to solve for the Marshallian demands:\n",
    "\n",
    "$$c_1(p_1,p_2,I)=\\alpha \\frac{I}{p_1}$$\n",
    "\n",
    "$$c_1(p_1,p_2,I)=(1-\\alpha) \\frac{I}{p_2}$$"
   ]
  },
  {
   "cell_type": "code",
   "execution_count": null,
   "metadata": {
    "ExecuteTime": {
     "end_time": "2018-02-08T18:48:30.702755Z",
     "start_time": "2018-02-08T18:48:30.232768Z"
    },
    "collapsed": true
   },
   "outputs": [],
   "source": [
    "grad_L = [diff(Lag, x_) for x_ in [c1,c2,λ]] # List of FOCs\n",
    "grad_L"
   ]
  },
  {
   "cell_type": "code",
   "execution_count": null,
   "metadata": {
    "collapsed": true
   },
   "outputs": [],
   "source": [
    "solve[grad_L]"
   ]
  },
  {
   "cell_type": "code",
   "execution_count": null,
   "metadata": {
    "collapsed": true
   },
   "outputs": [],
   "source": []
  },
  {
   "cell_type": "code",
   "execution_count": null,
   "metadata": {
    "ExecuteTime": {
     "end_time": "2018-02-08T18:49:21.677817Z",
     "start_time": "2018-02-08T18:49:20.675370Z"
    },
    "collapsed": true
   },
   "outputs": [],
   "source": [
    "sols = solve(grad_L, [c1,c2,λ])\n",
    "sols"
   ]
  },
  {
   "cell_type": "code",
   "execution_count": null,
   "metadata": {
    "collapsed": true
   },
   "outputs": [],
   "source": []
  },
  {
   "cell_type": "code",
   "execution_count": null,
   "metadata": {
    "collapsed": true
   },
   "outputs": [],
   "source": []
  },
  {
   "cell_type": "markdown",
   "metadata": {},
   "source": [
    "## Firm production optimum with two inputs"
   ]
  },
  {
   "cell_type": "markdown",
   "metadata": {},
   "source": [
    "A firm maximizes Cobb-Douglas production \n",
    "\n",
    "$$F(K,L) = K^\\alpha L^{(1-\\alpha)}$$\n",
    "\n",
    "\n",
    "\n",
    "subject to the budget constraint\n",
    "\n",
    "$$r L + w L \\leq c $$"
   ]
  },
  {
   "cell_type": "markdown",
   "metadata": {},
   "source": [
    "## The firm's optimum\n",
    "\n",
    "$$L(K,L) = F(K,L) + \\lambda (c - r L - w L ) $$\n",
    "\n",
    "\n",
    "\n",
    "\n",
    "Differentiate with respect to $c_1$ and $c_2$ and $\\lambda$ to get:\n",
    "\n",
    "$$ F_K = \\lambda{r}$$\n",
    "\n",
    "$$ F_L = \\lambda{w}$$\n",
    "\n",
    "$$ c = r L + w L$$"
   ]
  },
  {
   "cell_type": "markdown",
   "metadata": {},
   "source": [
    "Dividing the first equation by the second we get the familiar necessary tangency condition for an interior optimum:\n",
    "\n",
    "$$\\frac{F_K}{F_L} =\\frac{r}{w}$$\n",
    "\n",
    "substituting this into the budget constraint and rearranging then allows us to solve factor demands:\n",
    "\n",
    "$$K(r,w,c)=\\alpha \\frac{c}{r}$$\n",
    "\n",
    "$$L(r,w,c)=(1-\\alpha) \\frac{c}{w}$$"
   ]
  },
  {
   "cell_type": "markdown",
   "metadata": {},
   "source": [
    "###  <span style=\"color:red\">It is your turn to solve it</span>"
   ]
  },
  {
   "cell_type": "code",
   "execution_count": null,
   "metadata": {
    "collapsed": true
   },
   "outputs": [],
   "source": []
  },
  {
   "cell_type": "code",
   "execution_count": null,
   "metadata": {
    "collapsed": true
   },
   "outputs": [],
   "source": []
  },
  {
   "cell_type": "code",
   "execution_count": null,
   "metadata": {
    "collapsed": true
   },
   "outputs": [],
   "source": []
  },
  {
   "cell_type": "code",
   "execution_count": null,
   "metadata": {
    "collapsed": true
   },
   "outputs": [],
   "source": []
  },
  {
   "cell_type": "code",
   "execution_count": null,
   "metadata": {
    "collapsed": true
   },
   "outputs": [],
   "source": []
  },
  {
   "cell_type": "code",
   "execution_count": null,
   "metadata": {
    "collapsed": true
   },
   "outputs": [],
   "source": []
  },
  {
   "cell_type": "code",
   "execution_count": null,
   "metadata": {
    "collapsed": true
   },
   "outputs": [],
   "source": []
  },
  {
   "cell_type": "code",
   "execution_count": null,
   "metadata": {
    "collapsed": true
   },
   "outputs": [],
   "source": []
  },
  {
   "cell_type": "code",
   "execution_count": null,
   "metadata": {
    "collapsed": true
   },
   "outputs": [],
   "source": []
  },
  {
   "cell_type": "code",
   "execution_count": null,
   "metadata": {
    "collapsed": true
   },
   "outputs": [],
   "source": []
  },
  {
   "cell_type": "code",
   "execution_count": null,
   "metadata": {
    "ExecuteTime": {
     "end_time": "2018-02-08T19:10:47.573264Z",
     "start_time": "2018-02-08T19:10:47.571258Z"
    },
    "collapsed": true
   },
   "outputs": [],
   "source": [
    "K, L, α, r, w, λ, c = symbols( 'K, L, alpha, r, w, lambda, c ')"
   ]
  },
  {
   "cell_type": "code",
   "execution_count": null,
   "metadata": {
    "ExecuteTime": {
     "end_time": "2018-02-08T19:10:48.430168Z",
     "start_time": "2018-02-08T19:10:47.987930Z"
    },
    "collapsed": true
   },
   "outputs": [],
   "source": [
    "F = K**α*L**(1-α)\n",
    "F"
   ]
  },
  {
   "cell_type": "code",
   "execution_count": null,
   "metadata": {
    "ExecuteTime": {
     "end_time": "2018-02-08T19:10:49.048798Z",
     "start_time": "2018-02-08T19:10:48.507378Z"
    },
    "collapsed": true
   },
   "outputs": [],
   "source": [
    "g = K*r+L*w\n",
    "g"
   ]
  },
  {
   "cell_type": "code",
   "execution_count": null,
   "metadata": {
    "ExecuteTime": {
     "end_time": "2018-02-08T19:10:49.679737Z",
     "start_time": "2018-02-08T19:10:49.049801Z"
    },
    "collapsed": true
   },
   "outputs": [],
   "source": [
    "Lag = F+ λ*(c-g)\n",
    "Lag"
   ]
  },
  {
   "cell_type": "code",
   "execution_count": null,
   "metadata": {
    "ExecuteTime": {
     "end_time": "2018-02-08T19:10:50.142183Z",
     "start_time": "2018-02-08T19:10:49.681241Z"
    },
    "collapsed": true
   },
   "outputs": [],
   "source": [
    "grad_L = [diff(Lag, x_) for x_ in [K,L,λ]] # List of FOCs\n",
    "grad_L"
   ]
  },
  {
   "cell_type": "code",
   "execution_count": null,
   "metadata": {
    "ExecuteTime": {
     "end_time": "2018-02-08T19:11:07.773069Z",
     "start_time": "2018-02-08T19:11:06.698130Z"
    },
    "collapsed": true
   },
   "outputs": [],
   "source": [
    "sols = solve(grad_L, [K,L,λ])\n",
    "sols"
   ]
  },
  {
   "cell_type": "code",
   "execution_count": null,
   "metadata": {
    "collapsed": true
   },
   "outputs": [],
   "source": []
  },
  {
   "cell_type": "code",
   "execution_count": null,
   "metadata": {
    "ExecuteTime": {
     "end_time": "2018-02-08T19:11:49.126693Z",
     "start_time": "2018-02-08T19:11:49.119644Z"
    },
    "collapsed": true
   },
   "outputs": [],
   "source": [
    "%matplotlib inline\n",
    "import numpy as np\n",
    "import matplotlib.pyplot as plt\n",
    "from ipywidgets import interact, fixed"
   ]
  },
  {
   "cell_type": "markdown",
   "metadata": {},
   "source": [
    "To plot the budget constraint we rearrange to solve for:\n",
    "\n",
    "$$c_2 = \\frac{I}{p_2} - \\frac{p_1}{p_2} c_1$$\n",
    "\n",
    "To draw the indifference curve associated with a given utility level $\\bar u$ we solve for:\n",
    "\n",
    "$$c_2 = \\left( \\frac{\\bar u}{c_1^\\alpha}\\right)^\\frac{1}{1 - \\alpha}$$"
   ]
  },
  {
   "cell_type": "code",
   "execution_count": null,
   "metadata": {
    "ExecuteTime": {
     "end_time": "2018-02-08T19:13:06.782037Z",
     "start_time": "2018-02-08T19:13:06.775520Z"
    },
    "collapsed": true
   },
   "outputs": [],
   "source": [
    "def U(c1, c2, alpha):\n",
    "    return (c1**alpha)*(c2**(1-alpha))\n",
    "\n",
    "def budgetc(c1, p1, p2, I):\n",
    "    return (I/p2)-(p1/p2)*c1\n",
    "\n",
    "def indif(c1, ubar, alpha):\n",
    "    return (ubar/(c1**alpha))**(1/(1-alpha))"
   ]
  },
  {
   "cell_type": "code",
   "execution_count": null,
   "metadata": {
    "ExecuteTime": {
     "end_time": "2018-02-08T19:13:07.212052Z",
     "start_time": "2018-02-08T19:13:07.207040Z"
    },
    "collapsed": true
   },
   "outputs": [],
   "source": [
    "def find_opt(p1,p2,I,alpha):\n",
    "    c1 = alpha * I/p1\n",
    "    c2 = (1-alpha)*I/p2\n",
    "    u = U(c1,c2,alpha)\n",
    "    return c1, c2, u"
   ]
  },
  {
   "cell_type": "markdown",
   "metadata": {},
   "source": [
    "## Interactive indifference curve diagram"
   ]
  },
  {
   "cell_type": "code",
   "execution_count": null,
   "metadata": {
    "ExecuteTime": {
     "end_time": "2018-02-08T19:13:08.053627Z",
     "start_time": "2018-02-08T19:13:08.048613Z"
    },
    "collapsed": true
   },
   "outputs": [],
   "source": [
    "alpha = 0.5\n",
    "p1, p2 = 1, 1\n",
    "I = 100\n",
    "\n",
    "pmin, pmax = 1, 4\n",
    "Imin, Imax = 10, 200\n",
    "cmax = (3/4)*Imax/pmin"
   ]
  },
  {
   "cell_type": "code",
   "execution_count": null,
   "metadata": {
    "ExecuteTime": {
     "end_time": "2018-02-08T19:13:08.582578Z",
     "start_time": "2018-02-08T19:13:08.561502Z"
    },
    "collapsed": true
   },
   "outputs": [],
   "source": [
    "def consume_plot(p1=p1, p2=p2, I=I, alpha=alpha):\n",
    "    \n",
    "    c1 = np.linspace(0.1,cmax,num=100)\n",
    "    c1e, c2e, uebar = find_opt(p1, p2 ,I, alpha)\n",
    "    idfc = indif(c1, uebar, alpha)\n",
    "    budg = budgetc(c1, p1, p2, I)\n",
    "    \n",
    "    fig, ax = plt.subplots(figsize=(8,8))\n",
    "    ax.plot(c1, budg, lw=2.5)\n",
    "    ax.plot(c1, idfc, lw=2.5)\n",
    "    ax.vlines(c1e,0,c2e, linestyles=\"dashed\")\n",
    "    ax.hlines(c2e,0,c1e, linestyles=\"dashed\")\n",
    "    ax.plot(c1e,c2e,'ob')\n",
    "    ax.set_xlim(0, cmax)\n",
    "    ax.set_ylim(0, cmax)\n",
    "    ax.set_xlabel(r'$c_1$', fontsize=16)\n",
    "    ax.set_ylabel('$c_2$', fontsize=16)\n",
    "    ax.spines['right'].set_visible(False)\n",
    "    ax.spines['top'].set_visible(False)\n",
    "    ax.grid()\n",
    "    plt.show()"
   ]
  },
  {
   "cell_type": "code",
   "execution_count": null,
   "metadata": {
    "ExecuteTime": {
     "end_time": "2018-02-08T19:13:09.312346Z",
     "start_time": "2018-02-08T19:13:09.138881Z"
    }
   },
   "outputs": [],
   "source": [
    "interact(consume_plot,p1=(pmin,pmax,0.1),p2=(pmin,pmax,0.1), I=(Imin,Imax,10),alpha=(0.05,0.95,0.05))"
   ]
  },
  {
   "cell_type": "markdown",
   "metadata": {},
   "source": [
    "###  <span style=\"color:red\">It is your turn to plot firm's optimum</span>"
   ]
  },
  {
   "cell_type": "code",
   "execution_count": null,
   "metadata": {
    "collapsed": true
   },
   "outputs": [],
   "source": []
  }
 ],
 "metadata": {
  "kernelspec": {
   "display_name": "Python 3",
   "language": "python",
   "name": "python3"
  },
  "language_info": {
   "codemirror_mode": {
    "name": "ipython",
    "version": 3
   },
   "file_extension": ".py",
   "mimetype": "text/x-python",
   "name": "python",
   "nbconvert_exporter": "python",
   "pygments_lexer": "ipython3",
   "version": "3.6.2"
  }
 },
 "nbformat": 4,
 "nbformat_minor": 2
}
