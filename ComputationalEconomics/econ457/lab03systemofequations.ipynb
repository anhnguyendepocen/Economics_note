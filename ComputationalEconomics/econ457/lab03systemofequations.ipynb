{
 "cells": [
  {
   "cell_type": "markdown",
   "metadata": {},
   "source": [
    "# System of Equation in Scipy and Sympy"
   ]
  },
  {
   "cell_type": "code",
   "execution_count": 110,
   "metadata": {
    "ExecuteTime": {
     "end_time": "2018-01-23T04:42:37.166588Z",
     "start_time": "2018-01-23T04:42:37.161591Z"
    },
    "collapsed": true
   },
   "outputs": [],
   "source": [
    "# convention\n",
    "import numpy as np\n",
    "import scipy as sp\n",
    "import scipy.linalg as la \n",
    "# The top-level components of scipy (such as linalg, optimize, etc.) are so-called subpackages and not modules (i.e., they're directories, not source code). \n",
    "# Scipy is set up such that subpackages must be imported separately.sp.linalg won't work\n",
    "import sympy as sym\n",
    "sym.init_printing() # for printing latex/mathjax format output"
   ]
  },
  {
   "cell_type": "code",
   "execution_count": 111,
   "metadata": {
    "ExecuteTime": {
     "end_time": "2018-01-23T04:42:37.358179Z",
     "start_time": "2018-01-23T04:42:37.344156Z"
    },
    "collapsed": true
   },
   "outputs": [],
   "source": [
    "# plotting\n",
    "import matplotlib as mpl\n",
    "# matplotlib for ploting\n",
    "from matplotlib import pyplot as plt\n",
    "plt.style.use('fivethirtyeight')\n",
    "from mpl_toolkits.mplot3d import Axes3D     # 3d\n",
    "# for inline interactive plotting\n",
    "%matplotlib notebook\n",
    "%config InlineBackend.figure_format = 'retina'"
   ]
  },
  {
   "cell_type": "markdown",
   "metadata": {},
   "source": [
    "## Review Ass1\n",
    "### Question 1 (d)\n",
    "Plot two panels."
   ]
  },
  {
   "cell_type": "code",
   "execution_count": 112,
   "metadata": {},
   "outputs": [
    {
     "data": {
      "application/javascript": [
       "/* Put everything inside the global mpl namespace */\n",
       "window.mpl = {};\n",
       "\n",
       "mpl.get_websocket_type = function() {\n",
       "    if (typeof(WebSocket) !== 'undefined') {\n",
       "        return WebSocket;\n",
       "    } else if (typeof(MozWebSocket) !== 'undefined') {\n",
       "        return MozWebSocket;\n",
       "    } else {\n",
       "        alert('Your browser does not have WebSocket support.' +\n",
       "              'Please try Chrome, Safari or Firefox ≥ 6. ' +\n",
       "              'Firefox 4 and 5 are also supported but you ' +\n",
       "              'have to enable WebSockets in about:config.');\n",
       "    };\n",
       "}\n",
       "\n",
       "mpl.figure = function(figure_id, websocket, ondownload, parent_element) {\n",
       "    this.id = figure_id;\n",
       "\n",
       "    this.ws = websocket;\n",
       "\n",
       "    this.supports_binary = (this.ws.binaryType != undefined);\n",
       "\n",
       "    if (!this.supports_binary) {\n",
       "        var warnings = document.getElementById(\"mpl-warnings\");\n",
       "        if (warnings) {\n",
       "            warnings.style.display = 'block';\n",
       "            warnings.textContent = (\n",
       "                \"This browser does not support binary websocket messages. \" +\n",
       "                    \"Performance may be slow.\");\n",
       "        }\n",
       "    }\n",
       "\n",
       "    this.imageObj = new Image();\n",
       "\n",
       "    this.context = undefined;\n",
       "    this.message = undefined;\n",
       "    this.canvas = undefined;\n",
       "    this.rubberband_canvas = undefined;\n",
       "    this.rubberband_context = undefined;\n",
       "    this.format_dropdown = undefined;\n",
       "\n",
       "    this.image_mode = 'full';\n",
       "\n",
       "    this.root = $('<div/>');\n",
       "    this._root_extra_style(this.root)\n",
       "    this.root.attr('style', 'display: inline-block');\n",
       "\n",
       "    $(parent_element).append(this.root);\n",
       "\n",
       "    this._init_header(this);\n",
       "    this._init_canvas(this);\n",
       "    this._init_toolbar(this);\n",
       "\n",
       "    var fig = this;\n",
       "\n",
       "    this.waiting = false;\n",
       "\n",
       "    this.ws.onopen =  function () {\n",
       "            fig.send_message(\"supports_binary\", {value: fig.supports_binary});\n",
       "            fig.send_message(\"send_image_mode\", {});\n",
       "            fig.send_message(\"refresh\", {});\n",
       "        }\n",
       "\n",
       "    this.imageObj.onload = function() {\n",
       "            if (fig.image_mode == 'full') {\n",
       "                // Full images could contain transparency (where diff images\n",
       "                // almost always do), so we need to clear the canvas so that\n",
       "                // there is no ghosting.\n",
       "                fig.context.clearRect(0, 0, fig.canvas.width, fig.canvas.height);\n",
       "            }\n",
       "            fig.context.drawImage(fig.imageObj, 0, 0);\n",
       "        };\n",
       "\n",
       "    this.imageObj.onunload = function() {\n",
       "        this.ws.close();\n",
       "    }\n",
       "\n",
       "    this.ws.onmessage = this._make_on_message_function(this);\n",
       "\n",
       "    this.ondownload = ondownload;\n",
       "}\n",
       "\n",
       "mpl.figure.prototype._init_header = function() {\n",
       "    var titlebar = $(\n",
       "        '<div class=\"ui-dialog-titlebar ui-widget-header ui-corner-all ' +\n",
       "        'ui-helper-clearfix\"/>');\n",
       "    var titletext = $(\n",
       "        '<div class=\"ui-dialog-title\" style=\"width: 100%; ' +\n",
       "        'text-align: center; padding: 3px;\"/>');\n",
       "    titlebar.append(titletext)\n",
       "    this.root.append(titlebar);\n",
       "    this.header = titletext[0];\n",
       "}\n",
       "\n",
       "\n",
       "\n",
       "mpl.figure.prototype._canvas_extra_style = function(canvas_div) {\n",
       "\n",
       "}\n",
       "\n",
       "\n",
       "mpl.figure.prototype._root_extra_style = function(canvas_div) {\n",
       "\n",
       "}\n",
       "\n",
       "mpl.figure.prototype._init_canvas = function() {\n",
       "    var fig = this;\n",
       "\n",
       "    var canvas_div = $('<div/>');\n",
       "\n",
       "    canvas_div.attr('style', 'position: relative; clear: both; outline: 0');\n",
       "\n",
       "    function canvas_keyboard_event(event) {\n",
       "        return fig.key_event(event, event['data']);\n",
       "    }\n",
       "\n",
       "    canvas_div.keydown('key_press', canvas_keyboard_event);\n",
       "    canvas_div.keyup('key_release', canvas_keyboard_event);\n",
       "    this.canvas_div = canvas_div\n",
       "    this._canvas_extra_style(canvas_div)\n",
       "    this.root.append(canvas_div);\n",
       "\n",
       "    var canvas = $('<canvas/>');\n",
       "    canvas.addClass('mpl-canvas');\n",
       "    canvas.attr('style', \"left: 0; top: 0; z-index: 0; outline: 0\")\n",
       "\n",
       "    this.canvas = canvas[0];\n",
       "    this.context = canvas[0].getContext(\"2d\");\n",
       "\n",
       "    var rubberband = $('<canvas/>');\n",
       "    rubberband.attr('style', \"position: absolute; left: 0; top: 0; z-index: 1;\")\n",
       "\n",
       "    var pass_mouse_events = true;\n",
       "\n",
       "    canvas_div.resizable({\n",
       "        start: function(event, ui) {\n",
       "            pass_mouse_events = false;\n",
       "        },\n",
       "        resize: function(event, ui) {\n",
       "            fig.request_resize(ui.size.width, ui.size.height);\n",
       "        },\n",
       "        stop: function(event, ui) {\n",
       "            pass_mouse_events = true;\n",
       "            fig.request_resize(ui.size.width, ui.size.height);\n",
       "        },\n",
       "    });\n",
       "\n",
       "    function mouse_event_fn(event) {\n",
       "        if (pass_mouse_events)\n",
       "            return fig.mouse_event(event, event['data']);\n",
       "    }\n",
       "\n",
       "    rubberband.mousedown('button_press', mouse_event_fn);\n",
       "    rubberband.mouseup('button_release', mouse_event_fn);\n",
       "    // Throttle sequential mouse events to 1 every 20ms.\n",
       "    rubberband.mousemove('motion_notify', mouse_event_fn);\n",
       "\n",
       "    rubberband.mouseenter('figure_enter', mouse_event_fn);\n",
       "    rubberband.mouseleave('figure_leave', mouse_event_fn);\n",
       "\n",
       "    canvas_div.on(\"wheel\", function (event) {\n",
       "        event = event.originalEvent;\n",
       "        event['data'] = 'scroll'\n",
       "        if (event.deltaY < 0) {\n",
       "            event.step = 1;\n",
       "        } else {\n",
       "            event.step = -1;\n",
       "        }\n",
       "        mouse_event_fn(event);\n",
       "    });\n",
       "\n",
       "    canvas_div.append(canvas);\n",
       "    canvas_div.append(rubberband);\n",
       "\n",
       "    this.rubberband = rubberband;\n",
       "    this.rubberband_canvas = rubberband[0];\n",
       "    this.rubberband_context = rubberband[0].getContext(\"2d\");\n",
       "    this.rubberband_context.strokeStyle = \"#000000\";\n",
       "\n",
       "    this._resize_canvas = function(width, height) {\n",
       "        // Keep the size of the canvas, canvas container, and rubber band\n",
       "        // canvas in synch.\n",
       "        canvas_div.css('width', width)\n",
       "        canvas_div.css('height', height)\n",
       "\n",
       "        canvas.attr('width', width);\n",
       "        canvas.attr('height', height);\n",
       "\n",
       "        rubberband.attr('width', width);\n",
       "        rubberband.attr('height', height);\n",
       "    }\n",
       "\n",
       "    // Set the figure to an initial 600x600px, this will subsequently be updated\n",
       "    // upon first draw.\n",
       "    this._resize_canvas(600, 600);\n",
       "\n",
       "    // Disable right mouse context menu.\n",
       "    $(this.rubberband_canvas).bind(\"contextmenu\",function(e){\n",
       "        return false;\n",
       "    });\n",
       "\n",
       "    function set_focus () {\n",
       "        canvas.focus();\n",
       "        canvas_div.focus();\n",
       "    }\n",
       "\n",
       "    window.setTimeout(set_focus, 100);\n",
       "}\n",
       "\n",
       "mpl.figure.prototype._init_toolbar = function() {\n",
       "    var fig = this;\n",
       "\n",
       "    var nav_element = $('<div/>')\n",
       "    nav_element.attr('style', 'width: 100%');\n",
       "    this.root.append(nav_element);\n",
       "\n",
       "    // Define a callback function for later on.\n",
       "    function toolbar_event(event) {\n",
       "        return fig.toolbar_button_onclick(event['data']);\n",
       "    }\n",
       "    function toolbar_mouse_event(event) {\n",
       "        return fig.toolbar_button_onmouseover(event['data']);\n",
       "    }\n",
       "\n",
       "    for(var toolbar_ind in mpl.toolbar_items) {\n",
       "        var name = mpl.toolbar_items[toolbar_ind][0];\n",
       "        var tooltip = mpl.toolbar_items[toolbar_ind][1];\n",
       "        var image = mpl.toolbar_items[toolbar_ind][2];\n",
       "        var method_name = mpl.toolbar_items[toolbar_ind][3];\n",
       "\n",
       "        if (!name) {\n",
       "            // put a spacer in here.\n",
       "            continue;\n",
       "        }\n",
       "        var button = $('<button/>');\n",
       "        button.addClass('ui-button ui-widget ui-state-default ui-corner-all ' +\n",
       "                        'ui-button-icon-only');\n",
       "        button.attr('role', 'button');\n",
       "        button.attr('aria-disabled', 'false');\n",
       "        button.click(method_name, toolbar_event);\n",
       "        button.mouseover(tooltip, toolbar_mouse_event);\n",
       "\n",
       "        var icon_img = $('<span/>');\n",
       "        icon_img.addClass('ui-button-icon-primary ui-icon');\n",
       "        icon_img.addClass(image);\n",
       "        icon_img.addClass('ui-corner-all');\n",
       "\n",
       "        var tooltip_span = $('<span/>');\n",
       "        tooltip_span.addClass('ui-button-text');\n",
       "        tooltip_span.html(tooltip);\n",
       "\n",
       "        button.append(icon_img);\n",
       "        button.append(tooltip_span);\n",
       "\n",
       "        nav_element.append(button);\n",
       "    }\n",
       "\n",
       "    var fmt_picker_span = $('<span/>');\n",
       "\n",
       "    var fmt_picker = $('<select/>');\n",
       "    fmt_picker.addClass('mpl-toolbar-option ui-widget ui-widget-content');\n",
       "    fmt_picker_span.append(fmt_picker);\n",
       "    nav_element.append(fmt_picker_span);\n",
       "    this.format_dropdown = fmt_picker[0];\n",
       "\n",
       "    for (var ind in mpl.extensions) {\n",
       "        var fmt = mpl.extensions[ind];\n",
       "        var option = $(\n",
       "            '<option/>', {selected: fmt === mpl.default_extension}).html(fmt);\n",
       "        fmt_picker.append(option)\n",
       "    }\n",
       "\n",
       "    // Add hover states to the ui-buttons\n",
       "    $( \".ui-button\" ).hover(\n",
       "        function() { $(this).addClass(\"ui-state-hover\");},\n",
       "        function() { $(this).removeClass(\"ui-state-hover\");}\n",
       "    );\n",
       "\n",
       "    var status_bar = $('<span class=\"mpl-message\"/>');\n",
       "    nav_element.append(status_bar);\n",
       "    this.message = status_bar[0];\n",
       "}\n",
       "\n",
       "mpl.figure.prototype.request_resize = function(x_pixels, y_pixels) {\n",
       "    // Request matplotlib to resize the figure. Matplotlib will then trigger a resize in the client,\n",
       "    // which will in turn request a refresh of the image.\n",
       "    this.send_message('resize', {'width': x_pixels, 'height': y_pixels});\n",
       "}\n",
       "\n",
       "mpl.figure.prototype.send_message = function(type, properties) {\n",
       "    properties['type'] = type;\n",
       "    properties['figure_id'] = this.id;\n",
       "    this.ws.send(JSON.stringify(properties));\n",
       "}\n",
       "\n",
       "mpl.figure.prototype.send_draw_message = function() {\n",
       "    if (!this.waiting) {\n",
       "        this.waiting = true;\n",
       "        this.ws.send(JSON.stringify({type: \"draw\", figure_id: this.id}));\n",
       "    }\n",
       "}\n",
       "\n",
       "\n",
       "mpl.figure.prototype.handle_save = function(fig, msg) {\n",
       "    var format_dropdown = fig.format_dropdown;\n",
       "    var format = format_dropdown.options[format_dropdown.selectedIndex].value;\n",
       "    fig.ondownload(fig, format);\n",
       "}\n",
       "\n",
       "\n",
       "mpl.figure.prototype.handle_resize = function(fig, msg) {\n",
       "    var size = msg['size'];\n",
       "    if (size[0] != fig.canvas.width || size[1] != fig.canvas.height) {\n",
       "        fig._resize_canvas(size[0], size[1]);\n",
       "        fig.send_message(\"refresh\", {});\n",
       "    };\n",
       "}\n",
       "\n",
       "mpl.figure.prototype.handle_rubberband = function(fig, msg) {\n",
       "    var x0 = msg['x0'];\n",
       "    var y0 = fig.canvas.height - msg['y0'];\n",
       "    var x1 = msg['x1'];\n",
       "    var y1 = fig.canvas.height - msg['y1'];\n",
       "    x0 = Math.floor(x0) + 0.5;\n",
       "    y0 = Math.floor(y0) + 0.5;\n",
       "    x1 = Math.floor(x1) + 0.5;\n",
       "    y1 = Math.floor(y1) + 0.5;\n",
       "    var min_x = Math.min(x0, x1);\n",
       "    var min_y = Math.min(y0, y1);\n",
       "    var width = Math.abs(x1 - x0);\n",
       "    var height = Math.abs(y1 - y0);\n",
       "\n",
       "    fig.rubberband_context.clearRect(\n",
       "        0, 0, fig.canvas.width, fig.canvas.height);\n",
       "\n",
       "    fig.rubberband_context.strokeRect(min_x, min_y, width, height);\n",
       "}\n",
       "\n",
       "mpl.figure.prototype.handle_figure_label = function(fig, msg) {\n",
       "    // Updates the figure title.\n",
       "    fig.header.textContent = msg['label'];\n",
       "}\n",
       "\n",
       "mpl.figure.prototype.handle_cursor = function(fig, msg) {\n",
       "    var cursor = msg['cursor'];\n",
       "    switch(cursor)\n",
       "    {\n",
       "    case 0:\n",
       "        cursor = 'pointer';\n",
       "        break;\n",
       "    case 1:\n",
       "        cursor = 'default';\n",
       "        break;\n",
       "    case 2:\n",
       "        cursor = 'crosshair';\n",
       "        break;\n",
       "    case 3:\n",
       "        cursor = 'move';\n",
       "        break;\n",
       "    }\n",
       "    fig.rubberband_canvas.style.cursor = cursor;\n",
       "}\n",
       "\n",
       "mpl.figure.prototype.handle_message = function(fig, msg) {\n",
       "    fig.message.textContent = msg['message'];\n",
       "}\n",
       "\n",
       "mpl.figure.prototype.handle_draw = function(fig, msg) {\n",
       "    // Request the server to send over a new figure.\n",
       "    fig.send_draw_message();\n",
       "}\n",
       "\n",
       "mpl.figure.prototype.handle_image_mode = function(fig, msg) {\n",
       "    fig.image_mode = msg['mode'];\n",
       "}\n",
       "\n",
       "mpl.figure.prototype.updated_canvas_event = function() {\n",
       "    // Called whenever the canvas gets updated.\n",
       "    this.send_message(\"ack\", {});\n",
       "}\n",
       "\n",
       "// A function to construct a web socket function for onmessage handling.\n",
       "// Called in the figure constructor.\n",
       "mpl.figure.prototype._make_on_message_function = function(fig) {\n",
       "    return function socket_on_message(evt) {\n",
       "        if (evt.data instanceof Blob) {\n",
       "            /* FIXME: We get \"Resource interpreted as Image but\n",
       "             * transferred with MIME type text/plain:\" errors on\n",
       "             * Chrome.  But how to set the MIME type?  It doesn't seem\n",
       "             * to be part of the websocket stream */\n",
       "            evt.data.type = \"image/png\";\n",
       "\n",
       "            /* Free the memory for the previous frames */\n",
       "            if (fig.imageObj.src) {\n",
       "                (window.URL || window.webkitURL).revokeObjectURL(\n",
       "                    fig.imageObj.src);\n",
       "            }\n",
       "\n",
       "            fig.imageObj.src = (window.URL || window.webkitURL).createObjectURL(\n",
       "                evt.data);\n",
       "            fig.updated_canvas_event();\n",
       "            fig.waiting = false;\n",
       "            return;\n",
       "        }\n",
       "        else if (typeof evt.data === 'string' && evt.data.slice(0, 21) == \"data:image/png;base64\") {\n",
       "            fig.imageObj.src = evt.data;\n",
       "            fig.updated_canvas_event();\n",
       "            fig.waiting = false;\n",
       "            return;\n",
       "        }\n",
       "\n",
       "        var msg = JSON.parse(evt.data);\n",
       "        var msg_type = msg['type'];\n",
       "\n",
       "        // Call the  \"handle_{type}\" callback, which takes\n",
       "        // the figure and JSON message as its only arguments.\n",
       "        try {\n",
       "            var callback = fig[\"handle_\" + msg_type];\n",
       "        } catch (e) {\n",
       "            console.log(\"No handler for the '\" + msg_type + \"' message type: \", msg);\n",
       "            return;\n",
       "        }\n",
       "\n",
       "        if (callback) {\n",
       "            try {\n",
       "                // console.log(\"Handling '\" + msg_type + \"' message: \", msg);\n",
       "                callback(fig, msg);\n",
       "            } catch (e) {\n",
       "                console.log(\"Exception inside the 'handler_\" + msg_type + \"' callback:\", e, e.stack, msg);\n",
       "            }\n",
       "        }\n",
       "    };\n",
       "}\n",
       "\n",
       "// from http://stackoverflow.com/questions/1114465/getting-mouse-location-in-canvas\n",
       "mpl.findpos = function(e) {\n",
       "    //this section is from http://www.quirksmode.org/js/events_properties.html\n",
       "    var targ;\n",
       "    if (!e)\n",
       "        e = window.event;\n",
       "    if (e.target)\n",
       "        targ = e.target;\n",
       "    else if (e.srcElement)\n",
       "        targ = e.srcElement;\n",
       "    if (targ.nodeType == 3) // defeat Safari bug\n",
       "        targ = targ.parentNode;\n",
       "\n",
       "    // jQuery normalizes the pageX and pageY\n",
       "    // pageX,Y are the mouse positions relative to the document\n",
       "    // offset() returns the position of the element relative to the document\n",
       "    var x = e.pageX - $(targ).offset().left;\n",
       "    var y = e.pageY - $(targ).offset().top;\n",
       "\n",
       "    return {\"x\": x, \"y\": y};\n",
       "};\n",
       "\n",
       "/*\n",
       " * return a copy of an object with only non-object keys\n",
       " * we need this to avoid circular references\n",
       " * http://stackoverflow.com/a/24161582/3208463\n",
       " */\n",
       "function simpleKeys (original) {\n",
       "  return Object.keys(original).reduce(function (obj, key) {\n",
       "    if (typeof original[key] !== 'object')\n",
       "        obj[key] = original[key]\n",
       "    return obj;\n",
       "  }, {});\n",
       "}\n",
       "\n",
       "mpl.figure.prototype.mouse_event = function(event, name) {\n",
       "    var canvas_pos = mpl.findpos(event)\n",
       "\n",
       "    if (name === 'button_press')\n",
       "    {\n",
       "        this.canvas.focus();\n",
       "        this.canvas_div.focus();\n",
       "    }\n",
       "\n",
       "    var x = canvas_pos.x;\n",
       "    var y = canvas_pos.y;\n",
       "\n",
       "    this.send_message(name, {x: x, y: y, button: event.button,\n",
       "                             step: event.step,\n",
       "                             guiEvent: simpleKeys(event)});\n",
       "\n",
       "    /* This prevents the web browser from automatically changing to\n",
       "     * the text insertion cursor when the button is pressed.  We want\n",
       "     * to control all of the cursor setting manually through the\n",
       "     * 'cursor' event from matplotlib */\n",
       "    event.preventDefault();\n",
       "    return false;\n",
       "}\n",
       "\n",
       "mpl.figure.prototype._key_event_extra = function(event, name) {\n",
       "    // Handle any extra behaviour associated with a key event\n",
       "}\n",
       "\n",
       "mpl.figure.prototype.key_event = function(event, name) {\n",
       "\n",
       "    // Prevent repeat events\n",
       "    if (name == 'key_press')\n",
       "    {\n",
       "        if (event.which === this._key)\n",
       "            return;\n",
       "        else\n",
       "            this._key = event.which;\n",
       "    }\n",
       "    if (name == 'key_release')\n",
       "        this._key = null;\n",
       "\n",
       "    var value = '';\n",
       "    if (event.ctrlKey && event.which != 17)\n",
       "        value += \"ctrl+\";\n",
       "    if (event.altKey && event.which != 18)\n",
       "        value += \"alt+\";\n",
       "    if (event.shiftKey && event.which != 16)\n",
       "        value += \"shift+\";\n",
       "\n",
       "    value += 'k';\n",
       "    value += event.which.toString();\n",
       "\n",
       "    this._key_event_extra(event, name);\n",
       "\n",
       "    this.send_message(name, {key: value,\n",
       "                             guiEvent: simpleKeys(event)});\n",
       "    return false;\n",
       "}\n",
       "\n",
       "mpl.figure.prototype.toolbar_button_onclick = function(name) {\n",
       "    if (name == 'download') {\n",
       "        this.handle_save(this, null);\n",
       "    } else {\n",
       "        this.send_message(\"toolbar_button\", {name: name});\n",
       "    }\n",
       "};\n",
       "\n",
       "mpl.figure.prototype.toolbar_button_onmouseover = function(tooltip) {\n",
       "    this.message.textContent = tooltip;\n",
       "};\n",
       "mpl.toolbar_items = [[\"Home\", \"Reset original view\", \"fa fa-home icon-home\", \"home\"], [\"Back\", \"Back to  previous view\", \"fa fa-arrow-left icon-arrow-left\", \"back\"], [\"Forward\", \"Forward to next view\", \"fa fa-arrow-right icon-arrow-right\", \"forward\"], [\"\", \"\", \"\", \"\"], [\"Pan\", \"Pan axes with left mouse, zoom with right\", \"fa fa-arrows icon-move\", \"pan\"], [\"Zoom\", \"Zoom to rectangle\", \"fa fa-square-o icon-check-empty\", \"zoom\"], [\"\", \"\", \"\", \"\"], [\"Download\", \"Download plot\", \"fa fa-floppy-o icon-save\", \"download\"]];\n",
       "\n",
       "mpl.extensions = [\"eps\", \"jpeg\", \"pdf\", \"png\", \"ps\", \"raw\", \"svg\", \"tif\"];\n",
       "\n",
       "mpl.default_extension = \"png\";var comm_websocket_adapter = function(comm) {\n",
       "    // Create a \"websocket\"-like object which calls the given IPython comm\n",
       "    // object with the appropriate methods. Currently this is a non binary\n",
       "    // socket, so there is still some room for performance tuning.\n",
       "    var ws = {};\n",
       "\n",
       "    ws.close = function() {\n",
       "        comm.close()\n",
       "    };\n",
       "    ws.send = function(m) {\n",
       "        //console.log('sending', m);\n",
       "        comm.send(m);\n",
       "    };\n",
       "    // Register the callback with on_msg.\n",
       "    comm.on_msg(function(msg) {\n",
       "        //console.log('receiving', msg['content']['data'], msg);\n",
       "        // Pass the mpl event to the overriden (by mpl) onmessage function.\n",
       "        ws.onmessage(msg['content']['data'])\n",
       "    });\n",
       "    return ws;\n",
       "}\n",
       "\n",
       "mpl.mpl_figure_comm = function(comm, msg) {\n",
       "    // This is the function which gets called when the mpl process\n",
       "    // starts-up an IPython Comm through the \"matplotlib\" channel.\n",
       "\n",
       "    var id = msg.content.data.id;\n",
       "    // Get hold of the div created by the display call when the Comm\n",
       "    // socket was opened in Python.\n",
       "    var element = $(\"#\" + id);\n",
       "    var ws_proxy = comm_websocket_adapter(comm)\n",
       "\n",
       "    function ondownload(figure, format) {\n",
       "        window.open(figure.imageObj.src);\n",
       "    }\n",
       "\n",
       "    var fig = new mpl.figure(id, ws_proxy,\n",
       "                           ondownload,\n",
       "                           element.get(0));\n",
       "\n",
       "    // Call onopen now - mpl needs it, as it is assuming we've passed it a real\n",
       "    // web socket which is closed, not our websocket->open comm proxy.\n",
       "    ws_proxy.onopen();\n",
       "\n",
       "    fig.parent_element = element.get(0);\n",
       "    fig.cell_info = mpl.find_output_cell(\"<div id='\" + id + \"'></div>\");\n",
       "    if (!fig.cell_info) {\n",
       "        console.error(\"Failed to find cell for figure\", id, fig);\n",
       "        return;\n",
       "    }\n",
       "\n",
       "    var output_index = fig.cell_info[2]\n",
       "    var cell = fig.cell_info[0];\n",
       "\n",
       "};\n",
       "\n",
       "mpl.figure.prototype.handle_close = function(fig, msg) {\n",
       "    fig.root.unbind('remove')\n",
       "\n",
       "    // Update the output cell to use the data from the current canvas.\n",
       "    fig.push_to_output();\n",
       "    var dataURL = fig.canvas.toDataURL();\n",
       "    // Re-enable the keyboard manager in IPython - without this line, in FF,\n",
       "    // the notebook keyboard shortcuts fail.\n",
       "    IPython.keyboard_manager.enable()\n",
       "    $(fig.parent_element).html('<img src=\"' + dataURL + '\">');\n",
       "    fig.close_ws(fig, msg);\n",
       "}\n",
       "\n",
       "mpl.figure.prototype.close_ws = function(fig, msg){\n",
       "    fig.send_message('closing', msg);\n",
       "    // fig.ws.close()\n",
       "}\n",
       "\n",
       "mpl.figure.prototype.push_to_output = function(remove_interactive) {\n",
       "    // Turn the data on the canvas into data in the output cell.\n",
       "    var dataURL = this.canvas.toDataURL();\n",
       "    this.cell_info[1]['text/html'] = '<img src=\"' + dataURL + '\">';\n",
       "}\n",
       "\n",
       "mpl.figure.prototype.updated_canvas_event = function() {\n",
       "    // Tell IPython that the notebook contents must change.\n",
       "    IPython.notebook.set_dirty(true);\n",
       "    this.send_message(\"ack\", {});\n",
       "    var fig = this;\n",
       "    // Wait a second, then push the new image to the DOM so\n",
       "    // that it is saved nicely (might be nice to debounce this).\n",
       "    setTimeout(function () { fig.push_to_output() }, 1000);\n",
       "}\n",
       "\n",
       "mpl.figure.prototype._init_toolbar = function() {\n",
       "    var fig = this;\n",
       "\n",
       "    var nav_element = $('<div/>')\n",
       "    nav_element.attr('style', 'width: 100%');\n",
       "    this.root.append(nav_element);\n",
       "\n",
       "    // Define a callback function for later on.\n",
       "    function toolbar_event(event) {\n",
       "        return fig.toolbar_button_onclick(event['data']);\n",
       "    }\n",
       "    function toolbar_mouse_event(event) {\n",
       "        return fig.toolbar_button_onmouseover(event['data']);\n",
       "    }\n",
       "\n",
       "    for(var toolbar_ind in mpl.toolbar_items){\n",
       "        var name = mpl.toolbar_items[toolbar_ind][0];\n",
       "        var tooltip = mpl.toolbar_items[toolbar_ind][1];\n",
       "        var image = mpl.toolbar_items[toolbar_ind][2];\n",
       "        var method_name = mpl.toolbar_items[toolbar_ind][3];\n",
       "\n",
       "        if (!name) { continue; };\n",
       "\n",
       "        var button = $('<button class=\"btn btn-default\" href=\"#\" title=\"' + name + '\"><i class=\"fa ' + image + ' fa-lg\"></i></button>');\n",
       "        button.click(method_name, toolbar_event);\n",
       "        button.mouseover(tooltip, toolbar_mouse_event);\n",
       "        nav_element.append(button);\n",
       "    }\n",
       "\n",
       "    // Add the status bar.\n",
       "    var status_bar = $('<span class=\"mpl-message\" style=\"text-align:right; float: right;\"/>');\n",
       "    nav_element.append(status_bar);\n",
       "    this.message = status_bar[0];\n",
       "\n",
       "    // Add the close button to the window.\n",
       "    var buttongrp = $('<div class=\"btn-group inline pull-right\"></div>');\n",
       "    var button = $('<button class=\"btn btn-mini btn-primary\" href=\"#\" title=\"Stop Interaction\"><i class=\"fa fa-power-off icon-remove icon-large\"></i></button>');\n",
       "    button.click(function (evt) { fig.handle_close(fig, {}); } );\n",
       "    button.mouseover('Stop Interaction', toolbar_mouse_event);\n",
       "    buttongrp.append(button);\n",
       "    var titlebar = this.root.find($('.ui-dialog-titlebar'));\n",
       "    titlebar.prepend(buttongrp);\n",
       "}\n",
       "\n",
       "mpl.figure.prototype._root_extra_style = function(el){\n",
       "    var fig = this\n",
       "    el.on(\"remove\", function(){\n",
       "\tfig.close_ws(fig, {});\n",
       "    });\n",
       "}\n",
       "\n",
       "mpl.figure.prototype._canvas_extra_style = function(el){\n",
       "    // this is important to make the div 'focusable\n",
       "    el.attr('tabindex', 0)\n",
       "    // reach out to IPython and tell the keyboard manager to turn it's self\n",
       "    // off when our div gets focus\n",
       "\n",
       "    // location in version 3\n",
       "    if (IPython.notebook.keyboard_manager) {\n",
       "        IPython.notebook.keyboard_manager.register_events(el);\n",
       "    }\n",
       "    else {\n",
       "        // location in version 2\n",
       "        IPython.keyboard_manager.register_events(el);\n",
       "    }\n",
       "\n",
       "}\n",
       "\n",
       "mpl.figure.prototype._key_event_extra = function(event, name) {\n",
       "    var manager = IPython.notebook.keyboard_manager;\n",
       "    if (!manager)\n",
       "        manager = IPython.keyboard_manager;\n",
       "\n",
       "    // Check for shift+enter\n",
       "    if (event.shiftKey && event.which == 13) {\n",
       "        this.canvas_div.blur();\n",
       "        // select the cell after this one\n",
       "        var index = IPython.notebook.find_cell_index(this.cell_info[0]);\n",
       "        IPython.notebook.select(index + 1);\n",
       "    }\n",
       "}\n",
       "\n",
       "mpl.figure.prototype.handle_save = function(fig, msg) {\n",
       "    fig.ondownload(fig, null);\n",
       "}\n",
       "\n",
       "\n",
       "mpl.find_output_cell = function(html_output) {\n",
       "    // Return the cell and output element which can be found *uniquely* in the notebook.\n",
       "    // Note - this is a bit hacky, but it is done because the \"notebook_saving.Notebook\"\n",
       "    // IPython event is triggered only after the cells have been serialised, which for\n",
       "    // our purposes (turning an active figure into a static one), is too late.\n",
       "    var cells = IPython.notebook.get_cells();\n",
       "    var ncells = cells.length;\n",
       "    for (var i=0; i<ncells; i++) {\n",
       "        var cell = cells[i];\n",
       "        if (cell.cell_type === 'code'){\n",
       "            for (var j=0; j<cell.output_area.outputs.length; j++) {\n",
       "                var data = cell.output_area.outputs[j];\n",
       "                if (data.data) {\n",
       "                    // IPython >= 3 moved mimebundle to data attribute of output\n",
       "                    data = data.data;\n",
       "                }\n",
       "                if (data['text/html'] == html_output) {\n",
       "                    return [cell, data, j];\n",
       "                }\n",
       "            }\n",
       "        }\n",
       "    }\n",
       "}\n",
       "\n",
       "// Register the function which deals with the matplotlib target/channel.\n",
       "// The kernel may be null if the page has been refreshed.\n",
       "if (IPython.notebook.kernel != null) {\n",
       "    IPython.notebook.kernel.comm_manager.register_target('matplotlib', mpl.mpl_figure_comm);\n",
       "}\n"
      ],
      "text/plain": [
       "<IPython.core.display.Javascript object>"
      ]
     },
     "metadata": {},
     "output_type": "display_data"
    },
    {
     "data": {
      "text/html": [
       "<img src=\"data:image/png;base64,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\">"
      ],
      "text/plain": [
       "<IPython.core.display.HTML object>"
      ]
     },
     "metadata": {},
     "output_type": "display_data"
    }
   ],
   "source": [
    "fig, (ax1, ax2)  = plt.subplots(1,2, sharey= True,figsize = (10,5)) # you can set the for fig\n",
    "#ax1.plot\n",
    "#ax2.plot"
   ]
  },
  {
   "cell_type": "code",
   "execution_count": 113,
   "metadata": {},
   "outputs": [
    {
     "data": {
      "application/javascript": [
       "/* Put everything inside the global mpl namespace */\n",
       "window.mpl = {};\n",
       "\n",
       "mpl.get_websocket_type = function() {\n",
       "    if (typeof(WebSocket) !== 'undefined') {\n",
       "        return WebSocket;\n",
       "    } else if (typeof(MozWebSocket) !== 'undefined') {\n",
       "        return MozWebSocket;\n",
       "    } else {\n",
       "        alert('Your browser does not have WebSocket support.' +\n",
       "              'Please try Chrome, Safari or Firefox ≥ 6. ' +\n",
       "              'Firefox 4 and 5 are also supported but you ' +\n",
       "              'have to enable WebSockets in about:config.');\n",
       "    };\n",
       "}\n",
       "\n",
       "mpl.figure = function(figure_id, websocket, ondownload, parent_element) {\n",
       "    this.id = figure_id;\n",
       "\n",
       "    this.ws = websocket;\n",
       "\n",
       "    this.supports_binary = (this.ws.binaryType != undefined);\n",
       "\n",
       "    if (!this.supports_binary) {\n",
       "        var warnings = document.getElementById(\"mpl-warnings\");\n",
       "        if (warnings) {\n",
       "            warnings.style.display = 'block';\n",
       "            warnings.textContent = (\n",
       "                \"This browser does not support binary websocket messages. \" +\n",
       "                    \"Performance may be slow.\");\n",
       "        }\n",
       "    }\n",
       "\n",
       "    this.imageObj = new Image();\n",
       "\n",
       "    this.context = undefined;\n",
       "    this.message = undefined;\n",
       "    this.canvas = undefined;\n",
       "    this.rubberband_canvas = undefined;\n",
       "    this.rubberband_context = undefined;\n",
       "    this.format_dropdown = undefined;\n",
       "\n",
       "    this.image_mode = 'full';\n",
       "\n",
       "    this.root = $('<div/>');\n",
       "    this._root_extra_style(this.root)\n",
       "    this.root.attr('style', 'display: inline-block');\n",
       "\n",
       "    $(parent_element).append(this.root);\n",
       "\n",
       "    this._init_header(this);\n",
       "    this._init_canvas(this);\n",
       "    this._init_toolbar(this);\n",
       "\n",
       "    var fig = this;\n",
       "\n",
       "    this.waiting = false;\n",
       "\n",
       "    this.ws.onopen =  function () {\n",
       "            fig.send_message(\"supports_binary\", {value: fig.supports_binary});\n",
       "            fig.send_message(\"send_image_mode\", {});\n",
       "            fig.send_message(\"refresh\", {});\n",
       "        }\n",
       "\n",
       "    this.imageObj.onload = function() {\n",
       "            if (fig.image_mode == 'full') {\n",
       "                // Full images could contain transparency (where diff images\n",
       "                // almost always do), so we need to clear the canvas so that\n",
       "                // there is no ghosting.\n",
       "                fig.context.clearRect(0, 0, fig.canvas.width, fig.canvas.height);\n",
       "            }\n",
       "            fig.context.drawImage(fig.imageObj, 0, 0);\n",
       "        };\n",
       "\n",
       "    this.imageObj.onunload = function() {\n",
       "        this.ws.close();\n",
       "    }\n",
       "\n",
       "    this.ws.onmessage = this._make_on_message_function(this);\n",
       "\n",
       "    this.ondownload = ondownload;\n",
       "}\n",
       "\n",
       "mpl.figure.prototype._init_header = function() {\n",
       "    var titlebar = $(\n",
       "        '<div class=\"ui-dialog-titlebar ui-widget-header ui-corner-all ' +\n",
       "        'ui-helper-clearfix\"/>');\n",
       "    var titletext = $(\n",
       "        '<div class=\"ui-dialog-title\" style=\"width: 100%; ' +\n",
       "        'text-align: center; padding: 3px;\"/>');\n",
       "    titlebar.append(titletext)\n",
       "    this.root.append(titlebar);\n",
       "    this.header = titletext[0];\n",
       "}\n",
       "\n",
       "\n",
       "\n",
       "mpl.figure.prototype._canvas_extra_style = function(canvas_div) {\n",
       "\n",
       "}\n",
       "\n",
       "\n",
       "mpl.figure.prototype._root_extra_style = function(canvas_div) {\n",
       "\n",
       "}\n",
       "\n",
       "mpl.figure.prototype._init_canvas = function() {\n",
       "    var fig = this;\n",
       "\n",
       "    var canvas_div = $('<div/>');\n",
       "\n",
       "    canvas_div.attr('style', 'position: relative; clear: both; outline: 0');\n",
       "\n",
       "    function canvas_keyboard_event(event) {\n",
       "        return fig.key_event(event, event['data']);\n",
       "    }\n",
       "\n",
       "    canvas_div.keydown('key_press', canvas_keyboard_event);\n",
       "    canvas_div.keyup('key_release', canvas_keyboard_event);\n",
       "    this.canvas_div = canvas_div\n",
       "    this._canvas_extra_style(canvas_div)\n",
       "    this.root.append(canvas_div);\n",
       "\n",
       "    var canvas = $('<canvas/>');\n",
       "    canvas.addClass('mpl-canvas');\n",
       "    canvas.attr('style', \"left: 0; top: 0; z-index: 0; outline: 0\")\n",
       "\n",
       "    this.canvas = canvas[0];\n",
       "    this.context = canvas[0].getContext(\"2d\");\n",
       "\n",
       "    var rubberband = $('<canvas/>');\n",
       "    rubberband.attr('style', \"position: absolute; left: 0; top: 0; z-index: 1;\")\n",
       "\n",
       "    var pass_mouse_events = true;\n",
       "\n",
       "    canvas_div.resizable({\n",
       "        start: function(event, ui) {\n",
       "            pass_mouse_events = false;\n",
       "        },\n",
       "        resize: function(event, ui) {\n",
       "            fig.request_resize(ui.size.width, ui.size.height);\n",
       "        },\n",
       "        stop: function(event, ui) {\n",
       "            pass_mouse_events = true;\n",
       "            fig.request_resize(ui.size.width, ui.size.height);\n",
       "        },\n",
       "    });\n",
       "\n",
       "    function mouse_event_fn(event) {\n",
       "        if (pass_mouse_events)\n",
       "            return fig.mouse_event(event, event['data']);\n",
       "    }\n",
       "\n",
       "    rubberband.mousedown('button_press', mouse_event_fn);\n",
       "    rubberband.mouseup('button_release', mouse_event_fn);\n",
       "    // Throttle sequential mouse events to 1 every 20ms.\n",
       "    rubberband.mousemove('motion_notify', mouse_event_fn);\n",
       "\n",
       "    rubberband.mouseenter('figure_enter', mouse_event_fn);\n",
       "    rubberband.mouseleave('figure_leave', mouse_event_fn);\n",
       "\n",
       "    canvas_div.on(\"wheel\", function (event) {\n",
       "        event = event.originalEvent;\n",
       "        event['data'] = 'scroll'\n",
       "        if (event.deltaY < 0) {\n",
       "            event.step = 1;\n",
       "        } else {\n",
       "            event.step = -1;\n",
       "        }\n",
       "        mouse_event_fn(event);\n",
       "    });\n",
       "\n",
       "    canvas_div.append(canvas);\n",
       "    canvas_div.append(rubberband);\n",
       "\n",
       "    this.rubberband = rubberband;\n",
       "    this.rubberband_canvas = rubberband[0];\n",
       "    this.rubberband_context = rubberband[0].getContext(\"2d\");\n",
       "    this.rubberband_context.strokeStyle = \"#000000\";\n",
       "\n",
       "    this._resize_canvas = function(width, height) {\n",
       "        // Keep the size of the canvas, canvas container, and rubber band\n",
       "        // canvas in synch.\n",
       "        canvas_div.css('width', width)\n",
       "        canvas_div.css('height', height)\n",
       "\n",
       "        canvas.attr('width', width);\n",
       "        canvas.attr('height', height);\n",
       "\n",
       "        rubberband.attr('width', width);\n",
       "        rubberband.attr('height', height);\n",
       "    }\n",
       "\n",
       "    // Set the figure to an initial 600x600px, this will subsequently be updated\n",
       "    // upon first draw.\n",
       "    this._resize_canvas(600, 600);\n",
       "\n",
       "    // Disable right mouse context menu.\n",
       "    $(this.rubberband_canvas).bind(\"contextmenu\",function(e){\n",
       "        return false;\n",
       "    });\n",
       "\n",
       "    function set_focus () {\n",
       "        canvas.focus();\n",
       "        canvas_div.focus();\n",
       "    }\n",
       "\n",
       "    window.setTimeout(set_focus, 100);\n",
       "}\n",
       "\n",
       "mpl.figure.prototype._init_toolbar = function() {\n",
       "    var fig = this;\n",
       "\n",
       "    var nav_element = $('<div/>')\n",
       "    nav_element.attr('style', 'width: 100%');\n",
       "    this.root.append(nav_element);\n",
       "\n",
       "    // Define a callback function for later on.\n",
       "    function toolbar_event(event) {\n",
       "        return fig.toolbar_button_onclick(event['data']);\n",
       "    }\n",
       "    function toolbar_mouse_event(event) {\n",
       "        return fig.toolbar_button_onmouseover(event['data']);\n",
       "    }\n",
       "\n",
       "    for(var toolbar_ind in mpl.toolbar_items) {\n",
       "        var name = mpl.toolbar_items[toolbar_ind][0];\n",
       "        var tooltip = mpl.toolbar_items[toolbar_ind][1];\n",
       "        var image = mpl.toolbar_items[toolbar_ind][2];\n",
       "        var method_name = mpl.toolbar_items[toolbar_ind][3];\n",
       "\n",
       "        if (!name) {\n",
       "            // put a spacer in here.\n",
       "            continue;\n",
       "        }\n",
       "        var button = $('<button/>');\n",
       "        button.addClass('ui-button ui-widget ui-state-default ui-corner-all ' +\n",
       "                        'ui-button-icon-only');\n",
       "        button.attr('role', 'button');\n",
       "        button.attr('aria-disabled', 'false');\n",
       "        button.click(method_name, toolbar_event);\n",
       "        button.mouseover(tooltip, toolbar_mouse_event);\n",
       "\n",
       "        var icon_img = $('<span/>');\n",
       "        icon_img.addClass('ui-button-icon-primary ui-icon');\n",
       "        icon_img.addClass(image);\n",
       "        icon_img.addClass('ui-corner-all');\n",
       "\n",
       "        var tooltip_span = $('<span/>');\n",
       "        tooltip_span.addClass('ui-button-text');\n",
       "        tooltip_span.html(tooltip);\n",
       "\n",
       "        button.append(icon_img);\n",
       "        button.append(tooltip_span);\n",
       "\n",
       "        nav_element.append(button);\n",
       "    }\n",
       "\n",
       "    var fmt_picker_span = $('<span/>');\n",
       "\n",
       "    var fmt_picker = $('<select/>');\n",
       "    fmt_picker.addClass('mpl-toolbar-option ui-widget ui-widget-content');\n",
       "    fmt_picker_span.append(fmt_picker);\n",
       "    nav_element.append(fmt_picker_span);\n",
       "    this.format_dropdown = fmt_picker[0];\n",
       "\n",
       "    for (var ind in mpl.extensions) {\n",
       "        var fmt = mpl.extensions[ind];\n",
       "        var option = $(\n",
       "            '<option/>', {selected: fmt === mpl.default_extension}).html(fmt);\n",
       "        fmt_picker.append(option)\n",
       "    }\n",
       "\n",
       "    // Add hover states to the ui-buttons\n",
       "    $( \".ui-button\" ).hover(\n",
       "        function() { $(this).addClass(\"ui-state-hover\");},\n",
       "        function() { $(this).removeClass(\"ui-state-hover\");}\n",
       "    );\n",
       "\n",
       "    var status_bar = $('<span class=\"mpl-message\"/>');\n",
       "    nav_element.append(status_bar);\n",
       "    this.message = status_bar[0];\n",
       "}\n",
       "\n",
       "mpl.figure.prototype.request_resize = function(x_pixels, y_pixels) {\n",
       "    // Request matplotlib to resize the figure. Matplotlib will then trigger a resize in the client,\n",
       "    // which will in turn request a refresh of the image.\n",
       "    this.send_message('resize', {'width': x_pixels, 'height': y_pixels});\n",
       "}\n",
       "\n",
       "mpl.figure.prototype.send_message = function(type, properties) {\n",
       "    properties['type'] = type;\n",
       "    properties['figure_id'] = this.id;\n",
       "    this.ws.send(JSON.stringify(properties));\n",
       "}\n",
       "\n",
       "mpl.figure.prototype.send_draw_message = function() {\n",
       "    if (!this.waiting) {\n",
       "        this.waiting = true;\n",
       "        this.ws.send(JSON.stringify({type: \"draw\", figure_id: this.id}));\n",
       "    }\n",
       "}\n",
       "\n",
       "\n",
       "mpl.figure.prototype.handle_save = function(fig, msg) {\n",
       "    var format_dropdown = fig.format_dropdown;\n",
       "    var format = format_dropdown.options[format_dropdown.selectedIndex].value;\n",
       "    fig.ondownload(fig, format);\n",
       "}\n",
       "\n",
       "\n",
       "mpl.figure.prototype.handle_resize = function(fig, msg) {\n",
       "    var size = msg['size'];\n",
       "    if (size[0] != fig.canvas.width || size[1] != fig.canvas.height) {\n",
       "        fig._resize_canvas(size[0], size[1]);\n",
       "        fig.send_message(\"refresh\", {});\n",
       "    };\n",
       "}\n",
       "\n",
       "mpl.figure.prototype.handle_rubberband = function(fig, msg) {\n",
       "    var x0 = msg['x0'];\n",
       "    var y0 = fig.canvas.height - msg['y0'];\n",
       "    var x1 = msg['x1'];\n",
       "    var y1 = fig.canvas.height - msg['y1'];\n",
       "    x0 = Math.floor(x0) + 0.5;\n",
       "    y0 = Math.floor(y0) + 0.5;\n",
       "    x1 = Math.floor(x1) + 0.5;\n",
       "    y1 = Math.floor(y1) + 0.5;\n",
       "    var min_x = Math.min(x0, x1);\n",
       "    var min_y = Math.min(y0, y1);\n",
       "    var width = Math.abs(x1 - x0);\n",
       "    var height = Math.abs(y1 - y0);\n",
       "\n",
       "    fig.rubberband_context.clearRect(\n",
       "        0, 0, fig.canvas.width, fig.canvas.height);\n",
       "\n",
       "    fig.rubberband_context.strokeRect(min_x, min_y, width, height);\n",
       "}\n",
       "\n",
       "mpl.figure.prototype.handle_figure_label = function(fig, msg) {\n",
       "    // Updates the figure title.\n",
       "    fig.header.textContent = msg['label'];\n",
       "}\n",
       "\n",
       "mpl.figure.prototype.handle_cursor = function(fig, msg) {\n",
       "    var cursor = msg['cursor'];\n",
       "    switch(cursor)\n",
       "    {\n",
       "    case 0:\n",
       "        cursor = 'pointer';\n",
       "        break;\n",
       "    case 1:\n",
       "        cursor = 'default';\n",
       "        break;\n",
       "    case 2:\n",
       "        cursor = 'crosshair';\n",
       "        break;\n",
       "    case 3:\n",
       "        cursor = 'move';\n",
       "        break;\n",
       "    }\n",
       "    fig.rubberband_canvas.style.cursor = cursor;\n",
       "}\n",
       "\n",
       "mpl.figure.prototype.handle_message = function(fig, msg) {\n",
       "    fig.message.textContent = msg['message'];\n",
       "}\n",
       "\n",
       "mpl.figure.prototype.handle_draw = function(fig, msg) {\n",
       "    // Request the server to send over a new figure.\n",
       "    fig.send_draw_message();\n",
       "}\n",
       "\n",
       "mpl.figure.prototype.handle_image_mode = function(fig, msg) {\n",
       "    fig.image_mode = msg['mode'];\n",
       "}\n",
       "\n",
       "mpl.figure.prototype.updated_canvas_event = function() {\n",
       "    // Called whenever the canvas gets updated.\n",
       "    this.send_message(\"ack\", {});\n",
       "}\n",
       "\n",
       "// A function to construct a web socket function for onmessage handling.\n",
       "// Called in the figure constructor.\n",
       "mpl.figure.prototype._make_on_message_function = function(fig) {\n",
       "    return function socket_on_message(evt) {\n",
       "        if (evt.data instanceof Blob) {\n",
       "            /* FIXME: We get \"Resource interpreted as Image but\n",
       "             * transferred with MIME type text/plain:\" errors on\n",
       "             * Chrome.  But how to set the MIME type?  It doesn't seem\n",
       "             * to be part of the websocket stream */\n",
       "            evt.data.type = \"image/png\";\n",
       "\n",
       "            /* Free the memory for the previous frames */\n",
       "            if (fig.imageObj.src) {\n",
       "                (window.URL || window.webkitURL).revokeObjectURL(\n",
       "                    fig.imageObj.src);\n",
       "            }\n",
       "\n",
       "            fig.imageObj.src = (window.URL || window.webkitURL).createObjectURL(\n",
       "                evt.data);\n",
       "            fig.updated_canvas_event();\n",
       "            fig.waiting = false;\n",
       "            return;\n",
       "        }\n",
       "        else if (typeof evt.data === 'string' && evt.data.slice(0, 21) == \"data:image/png;base64\") {\n",
       "            fig.imageObj.src = evt.data;\n",
       "            fig.updated_canvas_event();\n",
       "            fig.waiting = false;\n",
       "            return;\n",
       "        }\n",
       "\n",
       "        var msg = JSON.parse(evt.data);\n",
       "        var msg_type = msg['type'];\n",
       "\n",
       "        // Call the  \"handle_{type}\" callback, which takes\n",
       "        // the figure and JSON message as its only arguments.\n",
       "        try {\n",
       "            var callback = fig[\"handle_\" + msg_type];\n",
       "        } catch (e) {\n",
       "            console.log(\"No handler for the '\" + msg_type + \"' message type: \", msg);\n",
       "            return;\n",
       "        }\n",
       "\n",
       "        if (callback) {\n",
       "            try {\n",
       "                // console.log(\"Handling '\" + msg_type + \"' message: \", msg);\n",
       "                callback(fig, msg);\n",
       "            } catch (e) {\n",
       "                console.log(\"Exception inside the 'handler_\" + msg_type + \"' callback:\", e, e.stack, msg);\n",
       "            }\n",
       "        }\n",
       "    };\n",
       "}\n",
       "\n",
       "// from http://stackoverflow.com/questions/1114465/getting-mouse-location-in-canvas\n",
       "mpl.findpos = function(e) {\n",
       "    //this section is from http://www.quirksmode.org/js/events_properties.html\n",
       "    var targ;\n",
       "    if (!e)\n",
       "        e = window.event;\n",
       "    if (e.target)\n",
       "        targ = e.target;\n",
       "    else if (e.srcElement)\n",
       "        targ = e.srcElement;\n",
       "    if (targ.nodeType == 3) // defeat Safari bug\n",
       "        targ = targ.parentNode;\n",
       "\n",
       "    // jQuery normalizes the pageX and pageY\n",
       "    // pageX,Y are the mouse positions relative to the document\n",
       "    // offset() returns the position of the element relative to the document\n",
       "    var x = e.pageX - $(targ).offset().left;\n",
       "    var y = e.pageY - $(targ).offset().top;\n",
       "\n",
       "    return {\"x\": x, \"y\": y};\n",
       "};\n",
       "\n",
       "/*\n",
       " * return a copy of an object with only non-object keys\n",
       " * we need this to avoid circular references\n",
       " * http://stackoverflow.com/a/24161582/3208463\n",
       " */\n",
       "function simpleKeys (original) {\n",
       "  return Object.keys(original).reduce(function (obj, key) {\n",
       "    if (typeof original[key] !== 'object')\n",
       "        obj[key] = original[key]\n",
       "    return obj;\n",
       "  }, {});\n",
       "}\n",
       "\n",
       "mpl.figure.prototype.mouse_event = function(event, name) {\n",
       "    var canvas_pos = mpl.findpos(event)\n",
       "\n",
       "    if (name === 'button_press')\n",
       "    {\n",
       "        this.canvas.focus();\n",
       "        this.canvas_div.focus();\n",
       "    }\n",
       "\n",
       "    var x = canvas_pos.x;\n",
       "    var y = canvas_pos.y;\n",
       "\n",
       "    this.send_message(name, {x: x, y: y, button: event.button,\n",
       "                             step: event.step,\n",
       "                             guiEvent: simpleKeys(event)});\n",
       "\n",
       "    /* This prevents the web browser from automatically changing to\n",
       "     * the text insertion cursor when the button is pressed.  We want\n",
       "     * to control all of the cursor setting manually through the\n",
       "     * 'cursor' event from matplotlib */\n",
       "    event.preventDefault();\n",
       "    return false;\n",
       "}\n",
       "\n",
       "mpl.figure.prototype._key_event_extra = function(event, name) {\n",
       "    // Handle any extra behaviour associated with a key event\n",
       "}\n",
       "\n",
       "mpl.figure.prototype.key_event = function(event, name) {\n",
       "\n",
       "    // Prevent repeat events\n",
       "    if (name == 'key_press')\n",
       "    {\n",
       "        if (event.which === this._key)\n",
       "            return;\n",
       "        else\n",
       "            this._key = event.which;\n",
       "    }\n",
       "    if (name == 'key_release')\n",
       "        this._key = null;\n",
       "\n",
       "    var value = '';\n",
       "    if (event.ctrlKey && event.which != 17)\n",
       "        value += \"ctrl+\";\n",
       "    if (event.altKey && event.which != 18)\n",
       "        value += \"alt+\";\n",
       "    if (event.shiftKey && event.which != 16)\n",
       "        value += \"shift+\";\n",
       "\n",
       "    value += 'k';\n",
       "    value += event.which.toString();\n",
       "\n",
       "    this._key_event_extra(event, name);\n",
       "\n",
       "    this.send_message(name, {key: value,\n",
       "                             guiEvent: simpleKeys(event)});\n",
       "    return false;\n",
       "}\n",
       "\n",
       "mpl.figure.prototype.toolbar_button_onclick = function(name) {\n",
       "    if (name == 'download') {\n",
       "        this.handle_save(this, null);\n",
       "    } else {\n",
       "        this.send_message(\"toolbar_button\", {name: name});\n",
       "    }\n",
       "};\n",
       "\n",
       "mpl.figure.prototype.toolbar_button_onmouseover = function(tooltip) {\n",
       "    this.message.textContent = tooltip;\n",
       "};\n",
       "mpl.toolbar_items = [[\"Home\", \"Reset original view\", \"fa fa-home icon-home\", \"home\"], [\"Back\", \"Back to  previous view\", \"fa fa-arrow-left icon-arrow-left\", \"back\"], [\"Forward\", \"Forward to next view\", \"fa fa-arrow-right icon-arrow-right\", \"forward\"], [\"\", \"\", \"\", \"\"], [\"Pan\", \"Pan axes with left mouse, zoom with right\", \"fa fa-arrows icon-move\", \"pan\"], [\"Zoom\", \"Zoom to rectangle\", \"fa fa-square-o icon-check-empty\", \"zoom\"], [\"\", \"\", \"\", \"\"], [\"Download\", \"Download plot\", \"fa fa-floppy-o icon-save\", \"download\"]];\n",
       "\n",
       "mpl.extensions = [\"eps\", \"jpeg\", \"pdf\", \"png\", \"ps\", \"raw\", \"svg\", \"tif\"];\n",
       "\n",
       "mpl.default_extension = \"png\";var comm_websocket_adapter = function(comm) {\n",
       "    // Create a \"websocket\"-like object which calls the given IPython comm\n",
       "    // object with the appropriate methods. Currently this is a non binary\n",
       "    // socket, so there is still some room for performance tuning.\n",
       "    var ws = {};\n",
       "\n",
       "    ws.close = function() {\n",
       "        comm.close()\n",
       "    };\n",
       "    ws.send = function(m) {\n",
       "        //console.log('sending', m);\n",
       "        comm.send(m);\n",
       "    };\n",
       "    // Register the callback with on_msg.\n",
       "    comm.on_msg(function(msg) {\n",
       "        //console.log('receiving', msg['content']['data'], msg);\n",
       "        // Pass the mpl event to the overriden (by mpl) onmessage function.\n",
       "        ws.onmessage(msg['content']['data'])\n",
       "    });\n",
       "    return ws;\n",
       "}\n",
       "\n",
       "mpl.mpl_figure_comm = function(comm, msg) {\n",
       "    // This is the function which gets called when the mpl process\n",
       "    // starts-up an IPython Comm through the \"matplotlib\" channel.\n",
       "\n",
       "    var id = msg.content.data.id;\n",
       "    // Get hold of the div created by the display call when the Comm\n",
       "    // socket was opened in Python.\n",
       "    var element = $(\"#\" + id);\n",
       "    var ws_proxy = comm_websocket_adapter(comm)\n",
       "\n",
       "    function ondownload(figure, format) {\n",
       "        window.open(figure.imageObj.src);\n",
       "    }\n",
       "\n",
       "    var fig = new mpl.figure(id, ws_proxy,\n",
       "                           ondownload,\n",
       "                           element.get(0));\n",
       "\n",
       "    // Call onopen now - mpl needs it, as it is assuming we've passed it a real\n",
       "    // web socket which is closed, not our websocket->open comm proxy.\n",
       "    ws_proxy.onopen();\n",
       "\n",
       "    fig.parent_element = element.get(0);\n",
       "    fig.cell_info = mpl.find_output_cell(\"<div id='\" + id + \"'></div>\");\n",
       "    if (!fig.cell_info) {\n",
       "        console.error(\"Failed to find cell for figure\", id, fig);\n",
       "        return;\n",
       "    }\n",
       "\n",
       "    var output_index = fig.cell_info[2]\n",
       "    var cell = fig.cell_info[0];\n",
       "\n",
       "};\n",
       "\n",
       "mpl.figure.prototype.handle_close = function(fig, msg) {\n",
       "    fig.root.unbind('remove')\n",
       "\n",
       "    // Update the output cell to use the data from the current canvas.\n",
       "    fig.push_to_output();\n",
       "    var dataURL = fig.canvas.toDataURL();\n",
       "    // Re-enable the keyboard manager in IPython - without this line, in FF,\n",
       "    // the notebook keyboard shortcuts fail.\n",
       "    IPython.keyboard_manager.enable()\n",
       "    $(fig.parent_element).html('<img src=\"' + dataURL + '\">');\n",
       "    fig.close_ws(fig, msg);\n",
       "}\n",
       "\n",
       "mpl.figure.prototype.close_ws = function(fig, msg){\n",
       "    fig.send_message('closing', msg);\n",
       "    // fig.ws.close()\n",
       "}\n",
       "\n",
       "mpl.figure.prototype.push_to_output = function(remove_interactive) {\n",
       "    // Turn the data on the canvas into data in the output cell.\n",
       "    var dataURL = this.canvas.toDataURL();\n",
       "    this.cell_info[1]['text/html'] = '<img src=\"' + dataURL + '\">';\n",
       "}\n",
       "\n",
       "mpl.figure.prototype.updated_canvas_event = function() {\n",
       "    // Tell IPython that the notebook contents must change.\n",
       "    IPython.notebook.set_dirty(true);\n",
       "    this.send_message(\"ack\", {});\n",
       "    var fig = this;\n",
       "    // Wait a second, then push the new image to the DOM so\n",
       "    // that it is saved nicely (might be nice to debounce this).\n",
       "    setTimeout(function () { fig.push_to_output() }, 1000);\n",
       "}\n",
       "\n",
       "mpl.figure.prototype._init_toolbar = function() {\n",
       "    var fig = this;\n",
       "\n",
       "    var nav_element = $('<div/>')\n",
       "    nav_element.attr('style', 'width: 100%');\n",
       "    this.root.append(nav_element);\n",
       "\n",
       "    // Define a callback function for later on.\n",
       "    function toolbar_event(event) {\n",
       "        return fig.toolbar_button_onclick(event['data']);\n",
       "    }\n",
       "    function toolbar_mouse_event(event) {\n",
       "        return fig.toolbar_button_onmouseover(event['data']);\n",
       "    }\n",
       "\n",
       "    for(var toolbar_ind in mpl.toolbar_items){\n",
       "        var name = mpl.toolbar_items[toolbar_ind][0];\n",
       "        var tooltip = mpl.toolbar_items[toolbar_ind][1];\n",
       "        var image = mpl.toolbar_items[toolbar_ind][2];\n",
       "        var method_name = mpl.toolbar_items[toolbar_ind][3];\n",
       "\n",
       "        if (!name) { continue; };\n",
       "\n",
       "        var button = $('<button class=\"btn btn-default\" href=\"#\" title=\"' + name + '\"><i class=\"fa ' + image + ' fa-lg\"></i></button>');\n",
       "        button.click(method_name, toolbar_event);\n",
       "        button.mouseover(tooltip, toolbar_mouse_event);\n",
       "        nav_element.append(button);\n",
       "    }\n",
       "\n",
       "    // Add the status bar.\n",
       "    var status_bar = $('<span class=\"mpl-message\" style=\"text-align:right; float: right;\"/>');\n",
       "    nav_element.append(status_bar);\n",
       "    this.message = status_bar[0];\n",
       "\n",
       "    // Add the close button to the window.\n",
       "    var buttongrp = $('<div class=\"btn-group inline pull-right\"></div>');\n",
       "    var button = $('<button class=\"btn btn-mini btn-primary\" href=\"#\" title=\"Stop Interaction\"><i class=\"fa fa-power-off icon-remove icon-large\"></i></button>');\n",
       "    button.click(function (evt) { fig.handle_close(fig, {}); } );\n",
       "    button.mouseover('Stop Interaction', toolbar_mouse_event);\n",
       "    buttongrp.append(button);\n",
       "    var titlebar = this.root.find($('.ui-dialog-titlebar'));\n",
       "    titlebar.prepend(buttongrp);\n",
       "}\n",
       "\n",
       "mpl.figure.prototype._root_extra_style = function(el){\n",
       "    var fig = this\n",
       "    el.on(\"remove\", function(){\n",
       "\tfig.close_ws(fig, {});\n",
       "    });\n",
       "}\n",
       "\n",
       "mpl.figure.prototype._canvas_extra_style = function(el){\n",
       "    // this is important to make the div 'focusable\n",
       "    el.attr('tabindex', 0)\n",
       "    // reach out to IPython and tell the keyboard manager to turn it's self\n",
       "    // off when our div gets focus\n",
       "\n",
       "    // location in version 3\n",
       "    if (IPython.notebook.keyboard_manager) {\n",
       "        IPython.notebook.keyboard_manager.register_events(el);\n",
       "    }\n",
       "    else {\n",
       "        // location in version 2\n",
       "        IPython.keyboard_manager.register_events(el);\n",
       "    }\n",
       "\n",
       "}\n",
       "\n",
       "mpl.figure.prototype._key_event_extra = function(event, name) {\n",
       "    var manager = IPython.notebook.keyboard_manager;\n",
       "    if (!manager)\n",
       "        manager = IPython.keyboard_manager;\n",
       "\n",
       "    // Check for shift+enter\n",
       "    if (event.shiftKey && event.which == 13) {\n",
       "        this.canvas_div.blur();\n",
       "        // select the cell after this one\n",
       "        var index = IPython.notebook.find_cell_index(this.cell_info[0]);\n",
       "        IPython.notebook.select(index + 1);\n",
       "    }\n",
       "}\n",
       "\n",
       "mpl.figure.prototype.handle_save = function(fig, msg) {\n",
       "    fig.ondownload(fig, null);\n",
       "}\n",
       "\n",
       "\n",
       "mpl.find_output_cell = function(html_output) {\n",
       "    // Return the cell and output element which can be found *uniquely* in the notebook.\n",
       "    // Note - this is a bit hacky, but it is done because the \"notebook_saving.Notebook\"\n",
       "    // IPython event is triggered only after the cells have been serialised, which for\n",
       "    // our purposes (turning an active figure into a static one), is too late.\n",
       "    var cells = IPython.notebook.get_cells();\n",
       "    var ncells = cells.length;\n",
       "    for (var i=0; i<ncells; i++) {\n",
       "        var cell = cells[i];\n",
       "        if (cell.cell_type === 'code'){\n",
       "            for (var j=0; j<cell.output_area.outputs.length; j++) {\n",
       "                var data = cell.output_area.outputs[j];\n",
       "                if (data.data) {\n",
       "                    // IPython >= 3 moved mimebundle to data attribute of output\n",
       "                    data = data.data;\n",
       "                }\n",
       "                if (data['text/html'] == html_output) {\n",
       "                    return [cell, data, j];\n",
       "                }\n",
       "            }\n",
       "        }\n",
       "    }\n",
       "}\n",
       "\n",
       "// Register the function which deals with the matplotlib target/channel.\n",
       "// The kernel may be null if the page has been refreshed.\n",
       "if (IPython.notebook.kernel != null) {\n",
       "    IPython.notebook.kernel.comm_manager.register_target('matplotlib', mpl.mpl_figure_comm);\n",
       "}\n"
      ],
      "text/plain": [
       "<IPython.core.display.Javascript object>"
      ]
     },
     "metadata": {},
     "output_type": "display_data"
    },
    {
     "data": {
      "text/html": [
       "<img src=\"data:image/png;base64,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\">"
      ],
      "text/plain": [
       "<IPython.core.display.HTML object>"
      ]
     },
     "metadata": {},
     "output_type": "display_data"
    }
   ],
   "source": [
    "fig, ax  = plt.subplots(2,1, sharex= True,figsize = (10,20)) # you can set the for fig\n",
    "#ax[0].plot\n",
    "#ax[1].plot"
   ]
  },
  {
   "cell_type": "markdown",
   "metadata": {},
   "source": [
    "### Question 2 \n",
    "#### (a)\n",
    "\n",
    "Plot the two **indirect functions** (note:  the **price has to be on the y-axis**)."
   ]
  },
  {
   "cell_type": "code",
   "execution_count": 114,
   "metadata": {
    "collapsed": true
   },
   "outputs": [],
   "source": [
    "def demand(p, a, e):\n",
    "    return a*p**e\n",
    "def indirectDemand(q,a,e):\n",
    "    return (q/a)**(1/e)    "
   ]
  },
  {
   "cell_type": "code",
   "execution_count": 115,
   "metadata": {},
   "outputs": [
    {
     "data": {
      "application/javascript": [
       "/* Put everything inside the global mpl namespace */\n",
       "window.mpl = {};\n",
       "\n",
       "mpl.get_websocket_type = function() {\n",
       "    if (typeof(WebSocket) !== 'undefined') {\n",
       "        return WebSocket;\n",
       "    } else if (typeof(MozWebSocket) !== 'undefined') {\n",
       "        return MozWebSocket;\n",
       "    } else {\n",
       "        alert('Your browser does not have WebSocket support.' +\n",
       "              'Please try Chrome, Safari or Firefox ≥ 6. ' +\n",
       "              'Firefox 4 and 5 are also supported but you ' +\n",
       "              'have to enable WebSockets in about:config.');\n",
       "    };\n",
       "}\n",
       "\n",
       "mpl.figure = function(figure_id, websocket, ondownload, parent_element) {\n",
       "    this.id = figure_id;\n",
       "\n",
       "    this.ws = websocket;\n",
       "\n",
       "    this.supports_binary = (this.ws.binaryType != undefined);\n",
       "\n",
       "    if (!this.supports_binary) {\n",
       "        var warnings = document.getElementById(\"mpl-warnings\");\n",
       "        if (warnings) {\n",
       "            warnings.style.display = 'block';\n",
       "            warnings.textContent = (\n",
       "                \"This browser does not support binary websocket messages. \" +\n",
       "                    \"Performance may be slow.\");\n",
       "        }\n",
       "    }\n",
       "\n",
       "    this.imageObj = new Image();\n",
       "\n",
       "    this.context = undefined;\n",
       "    this.message = undefined;\n",
       "    this.canvas = undefined;\n",
       "    this.rubberband_canvas = undefined;\n",
       "    this.rubberband_context = undefined;\n",
       "    this.format_dropdown = undefined;\n",
       "\n",
       "    this.image_mode = 'full';\n",
       "\n",
       "    this.root = $('<div/>');\n",
       "    this._root_extra_style(this.root)\n",
       "    this.root.attr('style', 'display: inline-block');\n",
       "\n",
       "    $(parent_element).append(this.root);\n",
       "\n",
       "    this._init_header(this);\n",
       "    this._init_canvas(this);\n",
       "    this._init_toolbar(this);\n",
       "\n",
       "    var fig = this;\n",
       "\n",
       "    this.waiting = false;\n",
       "\n",
       "    this.ws.onopen =  function () {\n",
       "            fig.send_message(\"supports_binary\", {value: fig.supports_binary});\n",
       "            fig.send_message(\"send_image_mode\", {});\n",
       "            fig.send_message(\"refresh\", {});\n",
       "        }\n",
       "\n",
       "    this.imageObj.onload = function() {\n",
       "            if (fig.image_mode == 'full') {\n",
       "                // Full images could contain transparency (where diff images\n",
       "                // almost always do), so we need to clear the canvas so that\n",
       "                // there is no ghosting.\n",
       "                fig.context.clearRect(0, 0, fig.canvas.width, fig.canvas.height);\n",
       "            }\n",
       "            fig.context.drawImage(fig.imageObj, 0, 0);\n",
       "        };\n",
       "\n",
       "    this.imageObj.onunload = function() {\n",
       "        this.ws.close();\n",
       "    }\n",
       "\n",
       "    this.ws.onmessage = this._make_on_message_function(this);\n",
       "\n",
       "    this.ondownload = ondownload;\n",
       "}\n",
       "\n",
       "mpl.figure.prototype._init_header = function() {\n",
       "    var titlebar = $(\n",
       "        '<div class=\"ui-dialog-titlebar ui-widget-header ui-corner-all ' +\n",
       "        'ui-helper-clearfix\"/>');\n",
       "    var titletext = $(\n",
       "        '<div class=\"ui-dialog-title\" style=\"width: 100%; ' +\n",
       "        'text-align: center; padding: 3px;\"/>');\n",
       "    titlebar.append(titletext)\n",
       "    this.root.append(titlebar);\n",
       "    this.header = titletext[0];\n",
       "}\n",
       "\n",
       "\n",
       "\n",
       "mpl.figure.prototype._canvas_extra_style = function(canvas_div) {\n",
       "\n",
       "}\n",
       "\n",
       "\n",
       "mpl.figure.prototype._root_extra_style = function(canvas_div) {\n",
       "\n",
       "}\n",
       "\n",
       "mpl.figure.prototype._init_canvas = function() {\n",
       "    var fig = this;\n",
       "\n",
       "    var canvas_div = $('<div/>');\n",
       "\n",
       "    canvas_div.attr('style', 'position: relative; clear: both; outline: 0');\n",
       "\n",
       "    function canvas_keyboard_event(event) {\n",
       "        return fig.key_event(event, event['data']);\n",
       "    }\n",
       "\n",
       "    canvas_div.keydown('key_press', canvas_keyboard_event);\n",
       "    canvas_div.keyup('key_release', canvas_keyboard_event);\n",
       "    this.canvas_div = canvas_div\n",
       "    this._canvas_extra_style(canvas_div)\n",
       "    this.root.append(canvas_div);\n",
       "\n",
       "    var canvas = $('<canvas/>');\n",
       "    canvas.addClass('mpl-canvas');\n",
       "    canvas.attr('style', \"left: 0; top: 0; z-index: 0; outline: 0\")\n",
       "\n",
       "    this.canvas = canvas[0];\n",
       "    this.context = canvas[0].getContext(\"2d\");\n",
       "\n",
       "    var rubberband = $('<canvas/>');\n",
       "    rubberband.attr('style', \"position: absolute; left: 0; top: 0; z-index: 1;\")\n",
       "\n",
       "    var pass_mouse_events = true;\n",
       "\n",
       "    canvas_div.resizable({\n",
       "        start: function(event, ui) {\n",
       "            pass_mouse_events = false;\n",
       "        },\n",
       "        resize: function(event, ui) {\n",
       "            fig.request_resize(ui.size.width, ui.size.height);\n",
       "        },\n",
       "        stop: function(event, ui) {\n",
       "            pass_mouse_events = true;\n",
       "            fig.request_resize(ui.size.width, ui.size.height);\n",
       "        },\n",
       "    });\n",
       "\n",
       "    function mouse_event_fn(event) {\n",
       "        if (pass_mouse_events)\n",
       "            return fig.mouse_event(event, event['data']);\n",
       "    }\n",
       "\n",
       "    rubberband.mousedown('button_press', mouse_event_fn);\n",
       "    rubberband.mouseup('button_release', mouse_event_fn);\n",
       "    // Throttle sequential mouse events to 1 every 20ms.\n",
       "    rubberband.mousemove('motion_notify', mouse_event_fn);\n",
       "\n",
       "    rubberband.mouseenter('figure_enter', mouse_event_fn);\n",
       "    rubberband.mouseleave('figure_leave', mouse_event_fn);\n",
       "\n",
       "    canvas_div.on(\"wheel\", function (event) {\n",
       "        event = event.originalEvent;\n",
       "        event['data'] = 'scroll'\n",
       "        if (event.deltaY < 0) {\n",
       "            event.step = 1;\n",
       "        } else {\n",
       "            event.step = -1;\n",
       "        }\n",
       "        mouse_event_fn(event);\n",
       "    });\n",
       "\n",
       "    canvas_div.append(canvas);\n",
       "    canvas_div.append(rubberband);\n",
       "\n",
       "    this.rubberband = rubberband;\n",
       "    this.rubberband_canvas = rubberband[0];\n",
       "    this.rubberband_context = rubberband[0].getContext(\"2d\");\n",
       "    this.rubberband_context.strokeStyle = \"#000000\";\n",
       "\n",
       "    this._resize_canvas = function(width, height) {\n",
       "        // Keep the size of the canvas, canvas container, and rubber band\n",
       "        // canvas in synch.\n",
       "        canvas_div.css('width', width)\n",
       "        canvas_div.css('height', height)\n",
       "\n",
       "        canvas.attr('width', width);\n",
       "        canvas.attr('height', height);\n",
       "\n",
       "        rubberband.attr('width', width);\n",
       "        rubberband.attr('height', height);\n",
       "    }\n",
       "\n",
       "    // Set the figure to an initial 600x600px, this will subsequently be updated\n",
       "    // upon first draw.\n",
       "    this._resize_canvas(600, 600);\n",
       "\n",
       "    // Disable right mouse context menu.\n",
       "    $(this.rubberband_canvas).bind(\"contextmenu\",function(e){\n",
       "        return false;\n",
       "    });\n",
       "\n",
       "    function set_focus () {\n",
       "        canvas.focus();\n",
       "        canvas_div.focus();\n",
       "    }\n",
       "\n",
       "    window.setTimeout(set_focus, 100);\n",
       "}\n",
       "\n",
       "mpl.figure.prototype._init_toolbar = function() {\n",
       "    var fig = this;\n",
       "\n",
       "    var nav_element = $('<div/>')\n",
       "    nav_element.attr('style', 'width: 100%');\n",
       "    this.root.append(nav_element);\n",
       "\n",
       "    // Define a callback function for later on.\n",
       "    function toolbar_event(event) {\n",
       "        return fig.toolbar_button_onclick(event['data']);\n",
       "    }\n",
       "    function toolbar_mouse_event(event) {\n",
       "        return fig.toolbar_button_onmouseover(event['data']);\n",
       "    }\n",
       "\n",
       "    for(var toolbar_ind in mpl.toolbar_items) {\n",
       "        var name = mpl.toolbar_items[toolbar_ind][0];\n",
       "        var tooltip = mpl.toolbar_items[toolbar_ind][1];\n",
       "        var image = mpl.toolbar_items[toolbar_ind][2];\n",
       "        var method_name = mpl.toolbar_items[toolbar_ind][3];\n",
       "\n",
       "        if (!name) {\n",
       "            // put a spacer in here.\n",
       "            continue;\n",
       "        }\n",
       "        var button = $('<button/>');\n",
       "        button.addClass('ui-button ui-widget ui-state-default ui-corner-all ' +\n",
       "                        'ui-button-icon-only');\n",
       "        button.attr('role', 'button');\n",
       "        button.attr('aria-disabled', 'false');\n",
       "        button.click(method_name, toolbar_event);\n",
       "        button.mouseover(tooltip, toolbar_mouse_event);\n",
       "\n",
       "        var icon_img = $('<span/>');\n",
       "        icon_img.addClass('ui-button-icon-primary ui-icon');\n",
       "        icon_img.addClass(image);\n",
       "        icon_img.addClass('ui-corner-all');\n",
       "\n",
       "        var tooltip_span = $('<span/>');\n",
       "        tooltip_span.addClass('ui-button-text');\n",
       "        tooltip_span.html(tooltip);\n",
       "\n",
       "        button.append(icon_img);\n",
       "        button.append(tooltip_span);\n",
       "\n",
       "        nav_element.append(button);\n",
       "    }\n",
       "\n",
       "    var fmt_picker_span = $('<span/>');\n",
       "\n",
       "    var fmt_picker = $('<select/>');\n",
       "    fmt_picker.addClass('mpl-toolbar-option ui-widget ui-widget-content');\n",
       "    fmt_picker_span.append(fmt_picker);\n",
       "    nav_element.append(fmt_picker_span);\n",
       "    this.format_dropdown = fmt_picker[0];\n",
       "\n",
       "    for (var ind in mpl.extensions) {\n",
       "        var fmt = mpl.extensions[ind];\n",
       "        var option = $(\n",
       "            '<option/>', {selected: fmt === mpl.default_extension}).html(fmt);\n",
       "        fmt_picker.append(option)\n",
       "    }\n",
       "\n",
       "    // Add hover states to the ui-buttons\n",
       "    $( \".ui-button\" ).hover(\n",
       "        function() { $(this).addClass(\"ui-state-hover\");},\n",
       "        function() { $(this).removeClass(\"ui-state-hover\");}\n",
       "    );\n",
       "\n",
       "    var status_bar = $('<span class=\"mpl-message\"/>');\n",
       "    nav_element.append(status_bar);\n",
       "    this.message = status_bar[0];\n",
       "}\n",
       "\n",
       "mpl.figure.prototype.request_resize = function(x_pixels, y_pixels) {\n",
       "    // Request matplotlib to resize the figure. Matplotlib will then trigger a resize in the client,\n",
       "    // which will in turn request a refresh of the image.\n",
       "    this.send_message('resize', {'width': x_pixels, 'height': y_pixels});\n",
       "}\n",
       "\n",
       "mpl.figure.prototype.send_message = function(type, properties) {\n",
       "    properties['type'] = type;\n",
       "    properties['figure_id'] = this.id;\n",
       "    this.ws.send(JSON.stringify(properties));\n",
       "}\n",
       "\n",
       "mpl.figure.prototype.send_draw_message = function() {\n",
       "    if (!this.waiting) {\n",
       "        this.waiting = true;\n",
       "        this.ws.send(JSON.stringify({type: \"draw\", figure_id: this.id}));\n",
       "    }\n",
       "}\n",
       "\n",
       "\n",
       "mpl.figure.prototype.handle_save = function(fig, msg) {\n",
       "    var format_dropdown = fig.format_dropdown;\n",
       "    var format = format_dropdown.options[format_dropdown.selectedIndex].value;\n",
       "    fig.ondownload(fig, format);\n",
       "}\n",
       "\n",
       "\n",
       "mpl.figure.prototype.handle_resize = function(fig, msg) {\n",
       "    var size = msg['size'];\n",
       "    if (size[0] != fig.canvas.width || size[1] != fig.canvas.height) {\n",
       "        fig._resize_canvas(size[0], size[1]);\n",
       "        fig.send_message(\"refresh\", {});\n",
       "    };\n",
       "}\n",
       "\n",
       "mpl.figure.prototype.handle_rubberband = function(fig, msg) {\n",
       "    var x0 = msg['x0'];\n",
       "    var y0 = fig.canvas.height - msg['y0'];\n",
       "    var x1 = msg['x1'];\n",
       "    var y1 = fig.canvas.height - msg['y1'];\n",
       "    x0 = Math.floor(x0) + 0.5;\n",
       "    y0 = Math.floor(y0) + 0.5;\n",
       "    x1 = Math.floor(x1) + 0.5;\n",
       "    y1 = Math.floor(y1) + 0.5;\n",
       "    var min_x = Math.min(x0, x1);\n",
       "    var min_y = Math.min(y0, y1);\n",
       "    var width = Math.abs(x1 - x0);\n",
       "    var height = Math.abs(y1 - y0);\n",
       "\n",
       "    fig.rubberband_context.clearRect(\n",
       "        0, 0, fig.canvas.width, fig.canvas.height);\n",
       "\n",
       "    fig.rubberband_context.strokeRect(min_x, min_y, width, height);\n",
       "}\n",
       "\n",
       "mpl.figure.prototype.handle_figure_label = function(fig, msg) {\n",
       "    // Updates the figure title.\n",
       "    fig.header.textContent = msg['label'];\n",
       "}\n",
       "\n",
       "mpl.figure.prototype.handle_cursor = function(fig, msg) {\n",
       "    var cursor = msg['cursor'];\n",
       "    switch(cursor)\n",
       "    {\n",
       "    case 0:\n",
       "        cursor = 'pointer';\n",
       "        break;\n",
       "    case 1:\n",
       "        cursor = 'default';\n",
       "        break;\n",
       "    case 2:\n",
       "        cursor = 'crosshair';\n",
       "        break;\n",
       "    case 3:\n",
       "        cursor = 'move';\n",
       "        break;\n",
       "    }\n",
       "    fig.rubberband_canvas.style.cursor = cursor;\n",
       "}\n",
       "\n",
       "mpl.figure.prototype.handle_message = function(fig, msg) {\n",
       "    fig.message.textContent = msg['message'];\n",
       "}\n",
       "\n",
       "mpl.figure.prototype.handle_draw = function(fig, msg) {\n",
       "    // Request the server to send over a new figure.\n",
       "    fig.send_draw_message();\n",
       "}\n",
       "\n",
       "mpl.figure.prototype.handle_image_mode = function(fig, msg) {\n",
       "    fig.image_mode = msg['mode'];\n",
       "}\n",
       "\n",
       "mpl.figure.prototype.updated_canvas_event = function() {\n",
       "    // Called whenever the canvas gets updated.\n",
       "    this.send_message(\"ack\", {});\n",
       "}\n",
       "\n",
       "// A function to construct a web socket function for onmessage handling.\n",
       "// Called in the figure constructor.\n",
       "mpl.figure.prototype._make_on_message_function = function(fig) {\n",
       "    return function socket_on_message(evt) {\n",
       "        if (evt.data instanceof Blob) {\n",
       "            /* FIXME: We get \"Resource interpreted as Image but\n",
       "             * transferred with MIME type text/plain:\" errors on\n",
       "             * Chrome.  But how to set the MIME type?  It doesn't seem\n",
       "             * to be part of the websocket stream */\n",
       "            evt.data.type = \"image/png\";\n",
       "\n",
       "            /* Free the memory for the previous frames */\n",
       "            if (fig.imageObj.src) {\n",
       "                (window.URL || window.webkitURL).revokeObjectURL(\n",
       "                    fig.imageObj.src);\n",
       "            }\n",
       "\n",
       "            fig.imageObj.src = (window.URL || window.webkitURL).createObjectURL(\n",
       "                evt.data);\n",
       "            fig.updated_canvas_event();\n",
       "            fig.waiting = false;\n",
       "            return;\n",
       "        }\n",
       "        else if (typeof evt.data === 'string' && evt.data.slice(0, 21) == \"data:image/png;base64\") {\n",
       "            fig.imageObj.src = evt.data;\n",
       "            fig.updated_canvas_event();\n",
       "            fig.waiting = false;\n",
       "            return;\n",
       "        }\n",
       "\n",
       "        var msg = JSON.parse(evt.data);\n",
       "        var msg_type = msg['type'];\n",
       "\n",
       "        // Call the  \"handle_{type}\" callback, which takes\n",
       "        // the figure and JSON message as its only arguments.\n",
       "        try {\n",
       "            var callback = fig[\"handle_\" + msg_type];\n",
       "        } catch (e) {\n",
       "            console.log(\"No handler for the '\" + msg_type + \"' message type: \", msg);\n",
       "            return;\n",
       "        }\n",
       "\n",
       "        if (callback) {\n",
       "            try {\n",
       "                // console.log(\"Handling '\" + msg_type + \"' message: \", msg);\n",
       "                callback(fig, msg);\n",
       "            } catch (e) {\n",
       "                console.log(\"Exception inside the 'handler_\" + msg_type + \"' callback:\", e, e.stack, msg);\n",
       "            }\n",
       "        }\n",
       "    };\n",
       "}\n",
       "\n",
       "// from http://stackoverflow.com/questions/1114465/getting-mouse-location-in-canvas\n",
       "mpl.findpos = function(e) {\n",
       "    //this section is from http://www.quirksmode.org/js/events_properties.html\n",
       "    var targ;\n",
       "    if (!e)\n",
       "        e = window.event;\n",
       "    if (e.target)\n",
       "        targ = e.target;\n",
       "    else if (e.srcElement)\n",
       "        targ = e.srcElement;\n",
       "    if (targ.nodeType == 3) // defeat Safari bug\n",
       "        targ = targ.parentNode;\n",
       "\n",
       "    // jQuery normalizes the pageX and pageY\n",
       "    // pageX,Y are the mouse positions relative to the document\n",
       "    // offset() returns the position of the element relative to the document\n",
       "    var x = e.pageX - $(targ).offset().left;\n",
       "    var y = e.pageY - $(targ).offset().top;\n",
       "\n",
       "    return {\"x\": x, \"y\": y};\n",
       "};\n",
       "\n",
       "/*\n",
       " * return a copy of an object with only non-object keys\n",
       " * we need this to avoid circular references\n",
       " * http://stackoverflow.com/a/24161582/3208463\n",
       " */\n",
       "function simpleKeys (original) {\n",
       "  return Object.keys(original).reduce(function (obj, key) {\n",
       "    if (typeof original[key] !== 'object')\n",
       "        obj[key] = original[key]\n",
       "    return obj;\n",
       "  }, {});\n",
       "}\n",
       "\n",
       "mpl.figure.prototype.mouse_event = function(event, name) {\n",
       "    var canvas_pos = mpl.findpos(event)\n",
       "\n",
       "    if (name === 'button_press')\n",
       "    {\n",
       "        this.canvas.focus();\n",
       "        this.canvas_div.focus();\n",
       "    }\n",
       "\n",
       "    var x = canvas_pos.x;\n",
       "    var y = canvas_pos.y;\n",
       "\n",
       "    this.send_message(name, {x: x, y: y, button: event.button,\n",
       "                             step: event.step,\n",
       "                             guiEvent: simpleKeys(event)});\n",
       "\n",
       "    /* This prevents the web browser from automatically changing to\n",
       "     * the text insertion cursor when the button is pressed.  We want\n",
       "     * to control all of the cursor setting manually through the\n",
       "     * 'cursor' event from matplotlib */\n",
       "    event.preventDefault();\n",
       "    return false;\n",
       "}\n",
       "\n",
       "mpl.figure.prototype._key_event_extra = function(event, name) {\n",
       "    // Handle any extra behaviour associated with a key event\n",
       "}\n",
       "\n",
       "mpl.figure.prototype.key_event = function(event, name) {\n",
       "\n",
       "    // Prevent repeat events\n",
       "    if (name == 'key_press')\n",
       "    {\n",
       "        if (event.which === this._key)\n",
       "            return;\n",
       "        else\n",
       "            this._key = event.which;\n",
       "    }\n",
       "    if (name == 'key_release')\n",
       "        this._key = null;\n",
       "\n",
       "    var value = '';\n",
       "    if (event.ctrlKey && event.which != 17)\n",
       "        value += \"ctrl+\";\n",
       "    if (event.altKey && event.which != 18)\n",
       "        value += \"alt+\";\n",
       "    if (event.shiftKey && event.which != 16)\n",
       "        value += \"shift+\";\n",
       "\n",
       "    value += 'k';\n",
       "    value += event.which.toString();\n",
       "\n",
       "    this._key_event_extra(event, name);\n",
       "\n",
       "    this.send_message(name, {key: value,\n",
       "                             guiEvent: simpleKeys(event)});\n",
       "    return false;\n",
       "}\n",
       "\n",
       "mpl.figure.prototype.toolbar_button_onclick = function(name) {\n",
       "    if (name == 'download') {\n",
       "        this.handle_save(this, null);\n",
       "    } else {\n",
       "        this.send_message(\"toolbar_button\", {name: name});\n",
       "    }\n",
       "};\n",
       "\n",
       "mpl.figure.prototype.toolbar_button_onmouseover = function(tooltip) {\n",
       "    this.message.textContent = tooltip;\n",
       "};\n",
       "mpl.toolbar_items = [[\"Home\", \"Reset original view\", \"fa fa-home icon-home\", \"home\"], [\"Back\", \"Back to  previous view\", \"fa fa-arrow-left icon-arrow-left\", \"back\"], [\"Forward\", \"Forward to next view\", \"fa fa-arrow-right icon-arrow-right\", \"forward\"], [\"\", \"\", \"\", \"\"], [\"Pan\", \"Pan axes with left mouse, zoom with right\", \"fa fa-arrows icon-move\", \"pan\"], [\"Zoom\", \"Zoom to rectangle\", \"fa fa-square-o icon-check-empty\", \"zoom\"], [\"\", \"\", \"\", \"\"], [\"Download\", \"Download plot\", \"fa fa-floppy-o icon-save\", \"download\"]];\n",
       "\n",
       "mpl.extensions = [\"eps\", \"jpeg\", \"pdf\", \"png\", \"ps\", \"raw\", \"svg\", \"tif\"];\n",
       "\n",
       "mpl.default_extension = \"png\";var comm_websocket_adapter = function(comm) {\n",
       "    // Create a \"websocket\"-like object which calls the given IPython comm\n",
       "    // object with the appropriate methods. Currently this is a non binary\n",
       "    // socket, so there is still some room for performance tuning.\n",
       "    var ws = {};\n",
       "\n",
       "    ws.close = function() {\n",
       "        comm.close()\n",
       "    };\n",
       "    ws.send = function(m) {\n",
       "        //console.log('sending', m);\n",
       "        comm.send(m);\n",
       "    };\n",
       "    // Register the callback with on_msg.\n",
       "    comm.on_msg(function(msg) {\n",
       "        //console.log('receiving', msg['content']['data'], msg);\n",
       "        // Pass the mpl event to the overriden (by mpl) onmessage function.\n",
       "        ws.onmessage(msg['content']['data'])\n",
       "    });\n",
       "    return ws;\n",
       "}\n",
       "\n",
       "mpl.mpl_figure_comm = function(comm, msg) {\n",
       "    // This is the function which gets called when the mpl process\n",
       "    // starts-up an IPython Comm through the \"matplotlib\" channel.\n",
       "\n",
       "    var id = msg.content.data.id;\n",
       "    // Get hold of the div created by the display call when the Comm\n",
       "    // socket was opened in Python.\n",
       "    var element = $(\"#\" + id);\n",
       "    var ws_proxy = comm_websocket_adapter(comm)\n",
       "\n",
       "    function ondownload(figure, format) {\n",
       "        window.open(figure.imageObj.src);\n",
       "    }\n",
       "\n",
       "    var fig = new mpl.figure(id, ws_proxy,\n",
       "                           ondownload,\n",
       "                           element.get(0));\n",
       "\n",
       "    // Call onopen now - mpl needs it, as it is assuming we've passed it a real\n",
       "    // web socket which is closed, not our websocket->open comm proxy.\n",
       "    ws_proxy.onopen();\n",
       "\n",
       "    fig.parent_element = element.get(0);\n",
       "    fig.cell_info = mpl.find_output_cell(\"<div id='\" + id + \"'></div>\");\n",
       "    if (!fig.cell_info) {\n",
       "        console.error(\"Failed to find cell for figure\", id, fig);\n",
       "        return;\n",
       "    }\n",
       "\n",
       "    var output_index = fig.cell_info[2]\n",
       "    var cell = fig.cell_info[0];\n",
       "\n",
       "};\n",
       "\n",
       "mpl.figure.prototype.handle_close = function(fig, msg) {\n",
       "    fig.root.unbind('remove')\n",
       "\n",
       "    // Update the output cell to use the data from the current canvas.\n",
       "    fig.push_to_output();\n",
       "    var dataURL = fig.canvas.toDataURL();\n",
       "    // Re-enable the keyboard manager in IPython - without this line, in FF,\n",
       "    // the notebook keyboard shortcuts fail.\n",
       "    IPython.keyboard_manager.enable()\n",
       "    $(fig.parent_element).html('<img src=\"' + dataURL + '\">');\n",
       "    fig.close_ws(fig, msg);\n",
       "}\n",
       "\n",
       "mpl.figure.prototype.close_ws = function(fig, msg){\n",
       "    fig.send_message('closing', msg);\n",
       "    // fig.ws.close()\n",
       "}\n",
       "\n",
       "mpl.figure.prototype.push_to_output = function(remove_interactive) {\n",
       "    // Turn the data on the canvas into data in the output cell.\n",
       "    var dataURL = this.canvas.toDataURL();\n",
       "    this.cell_info[1]['text/html'] = '<img src=\"' + dataURL + '\">';\n",
       "}\n",
       "\n",
       "mpl.figure.prototype.updated_canvas_event = function() {\n",
       "    // Tell IPython that the notebook contents must change.\n",
       "    IPython.notebook.set_dirty(true);\n",
       "    this.send_message(\"ack\", {});\n",
       "    var fig = this;\n",
       "    // Wait a second, then push the new image to the DOM so\n",
       "    // that it is saved nicely (might be nice to debounce this).\n",
       "    setTimeout(function () { fig.push_to_output() }, 1000);\n",
       "}\n",
       "\n",
       "mpl.figure.prototype._init_toolbar = function() {\n",
       "    var fig = this;\n",
       "\n",
       "    var nav_element = $('<div/>')\n",
       "    nav_element.attr('style', 'width: 100%');\n",
       "    this.root.append(nav_element);\n",
       "\n",
       "    // Define a callback function for later on.\n",
       "    function toolbar_event(event) {\n",
       "        return fig.toolbar_button_onclick(event['data']);\n",
       "    }\n",
       "    function toolbar_mouse_event(event) {\n",
       "        return fig.toolbar_button_onmouseover(event['data']);\n",
       "    }\n",
       "\n",
       "    for(var toolbar_ind in mpl.toolbar_items){\n",
       "        var name = mpl.toolbar_items[toolbar_ind][0];\n",
       "        var tooltip = mpl.toolbar_items[toolbar_ind][1];\n",
       "        var image = mpl.toolbar_items[toolbar_ind][2];\n",
       "        var method_name = mpl.toolbar_items[toolbar_ind][3];\n",
       "\n",
       "        if (!name) { continue; };\n",
       "\n",
       "        var button = $('<button class=\"btn btn-default\" href=\"#\" title=\"' + name + '\"><i class=\"fa ' + image + ' fa-lg\"></i></button>');\n",
       "        button.click(method_name, toolbar_event);\n",
       "        button.mouseover(tooltip, toolbar_mouse_event);\n",
       "        nav_element.append(button);\n",
       "    }\n",
       "\n",
       "    // Add the status bar.\n",
       "    var status_bar = $('<span class=\"mpl-message\" style=\"text-align:right; float: right;\"/>');\n",
       "    nav_element.append(status_bar);\n",
       "    this.message = status_bar[0];\n",
       "\n",
       "    // Add the close button to the window.\n",
       "    var buttongrp = $('<div class=\"btn-group inline pull-right\"></div>');\n",
       "    var button = $('<button class=\"btn btn-mini btn-primary\" href=\"#\" title=\"Stop Interaction\"><i class=\"fa fa-power-off icon-remove icon-large\"></i></button>');\n",
       "    button.click(function (evt) { fig.handle_close(fig, {}); } );\n",
       "    button.mouseover('Stop Interaction', toolbar_mouse_event);\n",
       "    buttongrp.append(button);\n",
       "    var titlebar = this.root.find($('.ui-dialog-titlebar'));\n",
       "    titlebar.prepend(buttongrp);\n",
       "}\n",
       "\n",
       "mpl.figure.prototype._root_extra_style = function(el){\n",
       "    var fig = this\n",
       "    el.on(\"remove\", function(){\n",
       "\tfig.close_ws(fig, {});\n",
       "    });\n",
       "}\n",
       "\n",
       "mpl.figure.prototype._canvas_extra_style = function(el){\n",
       "    // this is important to make the div 'focusable\n",
       "    el.attr('tabindex', 0)\n",
       "    // reach out to IPython and tell the keyboard manager to turn it's self\n",
       "    // off when our div gets focus\n",
       "\n",
       "    // location in version 3\n",
       "    if (IPython.notebook.keyboard_manager) {\n",
       "        IPython.notebook.keyboard_manager.register_events(el);\n",
       "    }\n",
       "    else {\n",
       "        // location in version 2\n",
       "        IPython.keyboard_manager.register_events(el);\n",
       "    }\n",
       "\n",
       "}\n",
       "\n",
       "mpl.figure.prototype._key_event_extra = function(event, name) {\n",
       "    var manager = IPython.notebook.keyboard_manager;\n",
       "    if (!manager)\n",
       "        manager = IPython.keyboard_manager;\n",
       "\n",
       "    // Check for shift+enter\n",
       "    if (event.shiftKey && event.which == 13) {\n",
       "        this.canvas_div.blur();\n",
       "        // select the cell after this one\n",
       "        var index = IPython.notebook.find_cell_index(this.cell_info[0]);\n",
       "        IPython.notebook.select(index + 1);\n",
       "    }\n",
       "}\n",
       "\n",
       "mpl.figure.prototype.handle_save = function(fig, msg) {\n",
       "    fig.ondownload(fig, null);\n",
       "}\n",
       "\n",
       "\n",
       "mpl.find_output_cell = function(html_output) {\n",
       "    // Return the cell and output element which can be found *uniquely* in the notebook.\n",
       "    // Note - this is a bit hacky, but it is done because the \"notebook_saving.Notebook\"\n",
       "    // IPython event is triggered only after the cells have been serialised, which for\n",
       "    // our purposes (turning an active figure into a static one), is too late.\n",
       "    var cells = IPython.notebook.get_cells();\n",
       "    var ncells = cells.length;\n",
       "    for (var i=0; i<ncells; i++) {\n",
       "        var cell = cells[i];\n",
       "        if (cell.cell_type === 'code'){\n",
       "            for (var j=0; j<cell.output_area.outputs.length; j++) {\n",
       "                var data = cell.output_area.outputs[j];\n",
       "                if (data.data) {\n",
       "                    // IPython >= 3 moved mimebundle to data attribute of output\n",
       "                    data = data.data;\n",
       "                }\n",
       "                if (data['text/html'] == html_output) {\n",
       "                    return [cell, data, j];\n",
       "                }\n",
       "            }\n",
       "        }\n",
       "    }\n",
       "}\n",
       "\n",
       "// Register the function which deals with the matplotlib target/channel.\n",
       "// The kernel may be null if the page has been refreshed.\n",
       "if (IPython.notebook.kernel != null) {\n",
       "    IPython.notebook.kernel.comm_manager.register_target('matplotlib', mpl.mpl_figure_comm);\n",
       "}\n"
      ],
      "text/plain": [
       "<IPython.core.display.Javascript object>"
      ]
     },
     "metadata": {},
     "output_type": "display_data"
    },
    {
     "data": {
      "text/html": [
       "<img src=\"data:image/png;base64,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\">"
      ],
      "text/plain": [
       "<IPython.core.display.HTML object>"
      ]
     },
     "metadata": {},
     "output_type": "display_data"
    }
   ],
   "source": [
    "x_grid = np.linspace(0.1,2,201)\n",
    "figure = plt.figure()\n",
    "plt.plot(x_grid,demand(x_grid,1,-1),label = \"Demand\")\n",
    "plt.plot(x_grid,indirectDemand(x_grid,1,-1), linestyle = \"--\",label = \"Inderect Demand\")\n",
    "plt.ylim(0,2)\n",
    "plt.legend();"
   ]
  },
  {
   "cell_type": "code",
   "execution_count": 116,
   "metadata": {},
   "outputs": [
    {
     "data": {
      "application/javascript": [
       "/* Put everything inside the global mpl namespace */\n",
       "window.mpl = {};\n",
       "\n",
       "mpl.get_websocket_type = function() {\n",
       "    if (typeof(WebSocket) !== 'undefined') {\n",
       "        return WebSocket;\n",
       "    } else if (typeof(MozWebSocket) !== 'undefined') {\n",
       "        return MozWebSocket;\n",
       "    } else {\n",
       "        alert('Your browser does not have WebSocket support.' +\n",
       "              'Please try Chrome, Safari or Firefox ≥ 6. ' +\n",
       "              'Firefox 4 and 5 are also supported but you ' +\n",
       "              'have to enable WebSockets in about:config.');\n",
       "    };\n",
       "}\n",
       "\n",
       "mpl.figure = function(figure_id, websocket, ondownload, parent_element) {\n",
       "    this.id = figure_id;\n",
       "\n",
       "    this.ws = websocket;\n",
       "\n",
       "    this.supports_binary = (this.ws.binaryType != undefined);\n",
       "\n",
       "    if (!this.supports_binary) {\n",
       "        var warnings = document.getElementById(\"mpl-warnings\");\n",
       "        if (warnings) {\n",
       "            warnings.style.display = 'block';\n",
       "            warnings.textContent = (\n",
       "                \"This browser does not support binary websocket messages. \" +\n",
       "                    \"Performance may be slow.\");\n",
       "        }\n",
       "    }\n",
       "\n",
       "    this.imageObj = new Image();\n",
       "\n",
       "    this.context = undefined;\n",
       "    this.message = undefined;\n",
       "    this.canvas = undefined;\n",
       "    this.rubberband_canvas = undefined;\n",
       "    this.rubberband_context = undefined;\n",
       "    this.format_dropdown = undefined;\n",
       "\n",
       "    this.image_mode = 'full';\n",
       "\n",
       "    this.root = $('<div/>');\n",
       "    this._root_extra_style(this.root)\n",
       "    this.root.attr('style', 'display: inline-block');\n",
       "\n",
       "    $(parent_element).append(this.root);\n",
       "\n",
       "    this._init_header(this);\n",
       "    this._init_canvas(this);\n",
       "    this._init_toolbar(this);\n",
       "\n",
       "    var fig = this;\n",
       "\n",
       "    this.waiting = false;\n",
       "\n",
       "    this.ws.onopen =  function () {\n",
       "            fig.send_message(\"supports_binary\", {value: fig.supports_binary});\n",
       "            fig.send_message(\"send_image_mode\", {});\n",
       "            fig.send_message(\"refresh\", {});\n",
       "        }\n",
       "\n",
       "    this.imageObj.onload = function() {\n",
       "            if (fig.image_mode == 'full') {\n",
       "                // Full images could contain transparency (where diff images\n",
       "                // almost always do), so we need to clear the canvas so that\n",
       "                // there is no ghosting.\n",
       "                fig.context.clearRect(0, 0, fig.canvas.width, fig.canvas.height);\n",
       "            }\n",
       "            fig.context.drawImage(fig.imageObj, 0, 0);\n",
       "        };\n",
       "\n",
       "    this.imageObj.onunload = function() {\n",
       "        this.ws.close();\n",
       "    }\n",
       "\n",
       "    this.ws.onmessage = this._make_on_message_function(this);\n",
       "\n",
       "    this.ondownload = ondownload;\n",
       "}\n",
       "\n",
       "mpl.figure.prototype._init_header = function() {\n",
       "    var titlebar = $(\n",
       "        '<div class=\"ui-dialog-titlebar ui-widget-header ui-corner-all ' +\n",
       "        'ui-helper-clearfix\"/>');\n",
       "    var titletext = $(\n",
       "        '<div class=\"ui-dialog-title\" style=\"width: 100%; ' +\n",
       "        'text-align: center; padding: 3px;\"/>');\n",
       "    titlebar.append(titletext)\n",
       "    this.root.append(titlebar);\n",
       "    this.header = titletext[0];\n",
       "}\n",
       "\n",
       "\n",
       "\n",
       "mpl.figure.prototype._canvas_extra_style = function(canvas_div) {\n",
       "\n",
       "}\n",
       "\n",
       "\n",
       "mpl.figure.prototype._root_extra_style = function(canvas_div) {\n",
       "\n",
       "}\n",
       "\n",
       "mpl.figure.prototype._init_canvas = function() {\n",
       "    var fig = this;\n",
       "\n",
       "    var canvas_div = $('<div/>');\n",
       "\n",
       "    canvas_div.attr('style', 'position: relative; clear: both; outline: 0');\n",
       "\n",
       "    function canvas_keyboard_event(event) {\n",
       "        return fig.key_event(event, event['data']);\n",
       "    }\n",
       "\n",
       "    canvas_div.keydown('key_press', canvas_keyboard_event);\n",
       "    canvas_div.keyup('key_release', canvas_keyboard_event);\n",
       "    this.canvas_div = canvas_div\n",
       "    this._canvas_extra_style(canvas_div)\n",
       "    this.root.append(canvas_div);\n",
       "\n",
       "    var canvas = $('<canvas/>');\n",
       "    canvas.addClass('mpl-canvas');\n",
       "    canvas.attr('style', \"left: 0; top: 0; z-index: 0; outline: 0\")\n",
       "\n",
       "    this.canvas = canvas[0];\n",
       "    this.context = canvas[0].getContext(\"2d\");\n",
       "\n",
       "    var rubberband = $('<canvas/>');\n",
       "    rubberband.attr('style', \"position: absolute; left: 0; top: 0; z-index: 1;\")\n",
       "\n",
       "    var pass_mouse_events = true;\n",
       "\n",
       "    canvas_div.resizable({\n",
       "        start: function(event, ui) {\n",
       "            pass_mouse_events = false;\n",
       "        },\n",
       "        resize: function(event, ui) {\n",
       "            fig.request_resize(ui.size.width, ui.size.height);\n",
       "        },\n",
       "        stop: function(event, ui) {\n",
       "            pass_mouse_events = true;\n",
       "            fig.request_resize(ui.size.width, ui.size.height);\n",
       "        },\n",
       "    });\n",
       "\n",
       "    function mouse_event_fn(event) {\n",
       "        if (pass_mouse_events)\n",
       "            return fig.mouse_event(event, event['data']);\n",
       "    }\n",
       "\n",
       "    rubberband.mousedown('button_press', mouse_event_fn);\n",
       "    rubberband.mouseup('button_release', mouse_event_fn);\n",
       "    // Throttle sequential mouse events to 1 every 20ms.\n",
       "    rubberband.mousemove('motion_notify', mouse_event_fn);\n",
       "\n",
       "    rubberband.mouseenter('figure_enter', mouse_event_fn);\n",
       "    rubberband.mouseleave('figure_leave', mouse_event_fn);\n",
       "\n",
       "    canvas_div.on(\"wheel\", function (event) {\n",
       "        event = event.originalEvent;\n",
       "        event['data'] = 'scroll'\n",
       "        if (event.deltaY < 0) {\n",
       "            event.step = 1;\n",
       "        } else {\n",
       "            event.step = -1;\n",
       "        }\n",
       "        mouse_event_fn(event);\n",
       "    });\n",
       "\n",
       "    canvas_div.append(canvas);\n",
       "    canvas_div.append(rubberband);\n",
       "\n",
       "    this.rubberband = rubberband;\n",
       "    this.rubberband_canvas = rubberband[0];\n",
       "    this.rubberband_context = rubberband[0].getContext(\"2d\");\n",
       "    this.rubberband_context.strokeStyle = \"#000000\";\n",
       "\n",
       "    this._resize_canvas = function(width, height) {\n",
       "        // Keep the size of the canvas, canvas container, and rubber band\n",
       "        // canvas in synch.\n",
       "        canvas_div.css('width', width)\n",
       "        canvas_div.css('height', height)\n",
       "\n",
       "        canvas.attr('width', width);\n",
       "        canvas.attr('height', height);\n",
       "\n",
       "        rubberband.attr('width', width);\n",
       "        rubberband.attr('height', height);\n",
       "    }\n",
       "\n",
       "    // Set the figure to an initial 600x600px, this will subsequently be updated\n",
       "    // upon first draw.\n",
       "    this._resize_canvas(600, 600);\n",
       "\n",
       "    // Disable right mouse context menu.\n",
       "    $(this.rubberband_canvas).bind(\"contextmenu\",function(e){\n",
       "        return false;\n",
       "    });\n",
       "\n",
       "    function set_focus () {\n",
       "        canvas.focus();\n",
       "        canvas_div.focus();\n",
       "    }\n",
       "\n",
       "    window.setTimeout(set_focus, 100);\n",
       "}\n",
       "\n",
       "mpl.figure.prototype._init_toolbar = function() {\n",
       "    var fig = this;\n",
       "\n",
       "    var nav_element = $('<div/>')\n",
       "    nav_element.attr('style', 'width: 100%');\n",
       "    this.root.append(nav_element);\n",
       "\n",
       "    // Define a callback function for later on.\n",
       "    function toolbar_event(event) {\n",
       "        return fig.toolbar_button_onclick(event['data']);\n",
       "    }\n",
       "    function toolbar_mouse_event(event) {\n",
       "        return fig.toolbar_button_onmouseover(event['data']);\n",
       "    }\n",
       "\n",
       "    for(var toolbar_ind in mpl.toolbar_items) {\n",
       "        var name = mpl.toolbar_items[toolbar_ind][0];\n",
       "        var tooltip = mpl.toolbar_items[toolbar_ind][1];\n",
       "        var image = mpl.toolbar_items[toolbar_ind][2];\n",
       "        var method_name = mpl.toolbar_items[toolbar_ind][3];\n",
       "\n",
       "        if (!name) {\n",
       "            // put a spacer in here.\n",
       "            continue;\n",
       "        }\n",
       "        var button = $('<button/>');\n",
       "        button.addClass('ui-button ui-widget ui-state-default ui-corner-all ' +\n",
       "                        'ui-button-icon-only');\n",
       "        button.attr('role', 'button');\n",
       "        button.attr('aria-disabled', 'false');\n",
       "        button.click(method_name, toolbar_event);\n",
       "        button.mouseover(tooltip, toolbar_mouse_event);\n",
       "\n",
       "        var icon_img = $('<span/>');\n",
       "        icon_img.addClass('ui-button-icon-primary ui-icon');\n",
       "        icon_img.addClass(image);\n",
       "        icon_img.addClass('ui-corner-all');\n",
       "\n",
       "        var tooltip_span = $('<span/>');\n",
       "        tooltip_span.addClass('ui-button-text');\n",
       "        tooltip_span.html(tooltip);\n",
       "\n",
       "        button.append(icon_img);\n",
       "        button.append(tooltip_span);\n",
       "\n",
       "        nav_element.append(button);\n",
       "    }\n",
       "\n",
       "    var fmt_picker_span = $('<span/>');\n",
       "\n",
       "    var fmt_picker = $('<select/>');\n",
       "    fmt_picker.addClass('mpl-toolbar-option ui-widget ui-widget-content');\n",
       "    fmt_picker_span.append(fmt_picker);\n",
       "    nav_element.append(fmt_picker_span);\n",
       "    this.format_dropdown = fmt_picker[0];\n",
       "\n",
       "    for (var ind in mpl.extensions) {\n",
       "        var fmt = mpl.extensions[ind];\n",
       "        var option = $(\n",
       "            '<option/>', {selected: fmt === mpl.default_extension}).html(fmt);\n",
       "        fmt_picker.append(option)\n",
       "    }\n",
       "\n",
       "    // Add hover states to the ui-buttons\n",
       "    $( \".ui-button\" ).hover(\n",
       "        function() { $(this).addClass(\"ui-state-hover\");},\n",
       "        function() { $(this).removeClass(\"ui-state-hover\");}\n",
       "    );\n",
       "\n",
       "    var status_bar = $('<span class=\"mpl-message\"/>');\n",
       "    nav_element.append(status_bar);\n",
       "    this.message = status_bar[0];\n",
       "}\n",
       "\n",
       "mpl.figure.prototype.request_resize = function(x_pixels, y_pixels) {\n",
       "    // Request matplotlib to resize the figure. Matplotlib will then trigger a resize in the client,\n",
       "    // which will in turn request a refresh of the image.\n",
       "    this.send_message('resize', {'width': x_pixels, 'height': y_pixels});\n",
       "}\n",
       "\n",
       "mpl.figure.prototype.send_message = function(type, properties) {\n",
       "    properties['type'] = type;\n",
       "    properties['figure_id'] = this.id;\n",
       "    this.ws.send(JSON.stringify(properties));\n",
       "}\n",
       "\n",
       "mpl.figure.prototype.send_draw_message = function() {\n",
       "    if (!this.waiting) {\n",
       "        this.waiting = true;\n",
       "        this.ws.send(JSON.stringify({type: \"draw\", figure_id: this.id}));\n",
       "    }\n",
       "}\n",
       "\n",
       "\n",
       "mpl.figure.prototype.handle_save = function(fig, msg) {\n",
       "    var format_dropdown = fig.format_dropdown;\n",
       "    var format = format_dropdown.options[format_dropdown.selectedIndex].value;\n",
       "    fig.ondownload(fig, format);\n",
       "}\n",
       "\n",
       "\n",
       "mpl.figure.prototype.handle_resize = function(fig, msg) {\n",
       "    var size = msg['size'];\n",
       "    if (size[0] != fig.canvas.width || size[1] != fig.canvas.height) {\n",
       "        fig._resize_canvas(size[0], size[1]);\n",
       "        fig.send_message(\"refresh\", {});\n",
       "    };\n",
       "}\n",
       "\n",
       "mpl.figure.prototype.handle_rubberband = function(fig, msg) {\n",
       "    var x0 = msg['x0'];\n",
       "    var y0 = fig.canvas.height - msg['y0'];\n",
       "    var x1 = msg['x1'];\n",
       "    var y1 = fig.canvas.height - msg['y1'];\n",
       "    x0 = Math.floor(x0) + 0.5;\n",
       "    y0 = Math.floor(y0) + 0.5;\n",
       "    x1 = Math.floor(x1) + 0.5;\n",
       "    y1 = Math.floor(y1) + 0.5;\n",
       "    var min_x = Math.min(x0, x1);\n",
       "    var min_y = Math.min(y0, y1);\n",
       "    var width = Math.abs(x1 - x0);\n",
       "    var height = Math.abs(y1 - y0);\n",
       "\n",
       "    fig.rubberband_context.clearRect(\n",
       "        0, 0, fig.canvas.width, fig.canvas.height);\n",
       "\n",
       "    fig.rubberband_context.strokeRect(min_x, min_y, width, height);\n",
       "}\n",
       "\n",
       "mpl.figure.prototype.handle_figure_label = function(fig, msg) {\n",
       "    // Updates the figure title.\n",
       "    fig.header.textContent = msg['label'];\n",
       "}\n",
       "\n",
       "mpl.figure.prototype.handle_cursor = function(fig, msg) {\n",
       "    var cursor = msg['cursor'];\n",
       "    switch(cursor)\n",
       "    {\n",
       "    case 0:\n",
       "        cursor = 'pointer';\n",
       "        break;\n",
       "    case 1:\n",
       "        cursor = 'default';\n",
       "        break;\n",
       "    case 2:\n",
       "        cursor = 'crosshair';\n",
       "        break;\n",
       "    case 3:\n",
       "        cursor = 'move';\n",
       "        break;\n",
       "    }\n",
       "    fig.rubberband_canvas.style.cursor = cursor;\n",
       "}\n",
       "\n",
       "mpl.figure.prototype.handle_message = function(fig, msg) {\n",
       "    fig.message.textContent = msg['message'];\n",
       "}\n",
       "\n",
       "mpl.figure.prototype.handle_draw = function(fig, msg) {\n",
       "    // Request the server to send over a new figure.\n",
       "    fig.send_draw_message();\n",
       "}\n",
       "\n",
       "mpl.figure.prototype.handle_image_mode = function(fig, msg) {\n",
       "    fig.image_mode = msg['mode'];\n",
       "}\n",
       "\n",
       "mpl.figure.prototype.updated_canvas_event = function() {\n",
       "    // Called whenever the canvas gets updated.\n",
       "    this.send_message(\"ack\", {});\n",
       "}\n",
       "\n",
       "// A function to construct a web socket function for onmessage handling.\n",
       "// Called in the figure constructor.\n",
       "mpl.figure.prototype._make_on_message_function = function(fig) {\n",
       "    return function socket_on_message(evt) {\n",
       "        if (evt.data instanceof Blob) {\n",
       "            /* FIXME: We get \"Resource interpreted as Image but\n",
       "             * transferred with MIME type text/plain:\" errors on\n",
       "             * Chrome.  But how to set the MIME type?  It doesn't seem\n",
       "             * to be part of the websocket stream */\n",
       "            evt.data.type = \"image/png\";\n",
       "\n",
       "            /* Free the memory for the previous frames */\n",
       "            if (fig.imageObj.src) {\n",
       "                (window.URL || window.webkitURL).revokeObjectURL(\n",
       "                    fig.imageObj.src);\n",
       "            }\n",
       "\n",
       "            fig.imageObj.src = (window.URL || window.webkitURL).createObjectURL(\n",
       "                evt.data);\n",
       "            fig.updated_canvas_event();\n",
       "            fig.waiting = false;\n",
       "            return;\n",
       "        }\n",
       "        else if (typeof evt.data === 'string' && evt.data.slice(0, 21) == \"data:image/png;base64\") {\n",
       "            fig.imageObj.src = evt.data;\n",
       "            fig.updated_canvas_event();\n",
       "            fig.waiting = false;\n",
       "            return;\n",
       "        }\n",
       "\n",
       "        var msg = JSON.parse(evt.data);\n",
       "        var msg_type = msg['type'];\n",
       "\n",
       "        // Call the  \"handle_{type}\" callback, which takes\n",
       "        // the figure and JSON message as its only arguments.\n",
       "        try {\n",
       "            var callback = fig[\"handle_\" + msg_type];\n",
       "        } catch (e) {\n",
       "            console.log(\"No handler for the '\" + msg_type + \"' message type: \", msg);\n",
       "            return;\n",
       "        }\n",
       "\n",
       "        if (callback) {\n",
       "            try {\n",
       "                // console.log(\"Handling '\" + msg_type + \"' message: \", msg);\n",
       "                callback(fig, msg);\n",
       "            } catch (e) {\n",
       "                console.log(\"Exception inside the 'handler_\" + msg_type + \"' callback:\", e, e.stack, msg);\n",
       "            }\n",
       "        }\n",
       "    };\n",
       "}\n",
       "\n",
       "// from http://stackoverflow.com/questions/1114465/getting-mouse-location-in-canvas\n",
       "mpl.findpos = function(e) {\n",
       "    //this section is from http://www.quirksmode.org/js/events_properties.html\n",
       "    var targ;\n",
       "    if (!e)\n",
       "        e = window.event;\n",
       "    if (e.target)\n",
       "        targ = e.target;\n",
       "    else if (e.srcElement)\n",
       "        targ = e.srcElement;\n",
       "    if (targ.nodeType == 3) // defeat Safari bug\n",
       "        targ = targ.parentNode;\n",
       "\n",
       "    // jQuery normalizes the pageX and pageY\n",
       "    // pageX,Y are the mouse positions relative to the document\n",
       "    // offset() returns the position of the element relative to the document\n",
       "    var x = e.pageX - $(targ).offset().left;\n",
       "    var y = e.pageY - $(targ).offset().top;\n",
       "\n",
       "    return {\"x\": x, \"y\": y};\n",
       "};\n",
       "\n",
       "/*\n",
       " * return a copy of an object with only non-object keys\n",
       " * we need this to avoid circular references\n",
       " * http://stackoverflow.com/a/24161582/3208463\n",
       " */\n",
       "function simpleKeys (original) {\n",
       "  return Object.keys(original).reduce(function (obj, key) {\n",
       "    if (typeof original[key] !== 'object')\n",
       "        obj[key] = original[key]\n",
       "    return obj;\n",
       "  }, {});\n",
       "}\n",
       "\n",
       "mpl.figure.prototype.mouse_event = function(event, name) {\n",
       "    var canvas_pos = mpl.findpos(event)\n",
       "\n",
       "    if (name === 'button_press')\n",
       "    {\n",
       "        this.canvas.focus();\n",
       "        this.canvas_div.focus();\n",
       "    }\n",
       "\n",
       "    var x = canvas_pos.x;\n",
       "    var y = canvas_pos.y;\n",
       "\n",
       "    this.send_message(name, {x: x, y: y, button: event.button,\n",
       "                             step: event.step,\n",
       "                             guiEvent: simpleKeys(event)});\n",
       "\n",
       "    /* This prevents the web browser from automatically changing to\n",
       "     * the text insertion cursor when the button is pressed.  We want\n",
       "     * to control all of the cursor setting manually through the\n",
       "     * 'cursor' event from matplotlib */\n",
       "    event.preventDefault();\n",
       "    return false;\n",
       "}\n",
       "\n",
       "mpl.figure.prototype._key_event_extra = function(event, name) {\n",
       "    // Handle any extra behaviour associated with a key event\n",
       "}\n",
       "\n",
       "mpl.figure.prototype.key_event = function(event, name) {\n",
       "\n",
       "    // Prevent repeat events\n",
       "    if (name == 'key_press')\n",
       "    {\n",
       "        if (event.which === this._key)\n",
       "            return;\n",
       "        else\n",
       "            this._key = event.which;\n",
       "    }\n",
       "    if (name == 'key_release')\n",
       "        this._key = null;\n",
       "\n",
       "    var value = '';\n",
       "    if (event.ctrlKey && event.which != 17)\n",
       "        value += \"ctrl+\";\n",
       "    if (event.altKey && event.which != 18)\n",
       "        value += \"alt+\";\n",
       "    if (event.shiftKey && event.which != 16)\n",
       "        value += \"shift+\";\n",
       "\n",
       "    value += 'k';\n",
       "    value += event.which.toString();\n",
       "\n",
       "    this._key_event_extra(event, name);\n",
       "\n",
       "    this.send_message(name, {key: value,\n",
       "                             guiEvent: simpleKeys(event)});\n",
       "    return false;\n",
       "}\n",
       "\n",
       "mpl.figure.prototype.toolbar_button_onclick = function(name) {\n",
       "    if (name == 'download') {\n",
       "        this.handle_save(this, null);\n",
       "    } else {\n",
       "        this.send_message(\"toolbar_button\", {name: name});\n",
       "    }\n",
       "};\n",
       "\n",
       "mpl.figure.prototype.toolbar_button_onmouseover = function(tooltip) {\n",
       "    this.message.textContent = tooltip;\n",
       "};\n",
       "mpl.toolbar_items = [[\"Home\", \"Reset original view\", \"fa fa-home icon-home\", \"home\"], [\"Back\", \"Back to  previous view\", \"fa fa-arrow-left icon-arrow-left\", \"back\"], [\"Forward\", \"Forward to next view\", \"fa fa-arrow-right icon-arrow-right\", \"forward\"], [\"\", \"\", \"\", \"\"], [\"Pan\", \"Pan axes with left mouse, zoom with right\", \"fa fa-arrows icon-move\", \"pan\"], [\"Zoom\", \"Zoom to rectangle\", \"fa fa-square-o icon-check-empty\", \"zoom\"], [\"\", \"\", \"\", \"\"], [\"Download\", \"Download plot\", \"fa fa-floppy-o icon-save\", \"download\"]];\n",
       "\n",
       "mpl.extensions = [\"eps\", \"jpeg\", \"pdf\", \"png\", \"ps\", \"raw\", \"svg\", \"tif\"];\n",
       "\n",
       "mpl.default_extension = \"png\";var comm_websocket_adapter = function(comm) {\n",
       "    // Create a \"websocket\"-like object which calls the given IPython comm\n",
       "    // object with the appropriate methods. Currently this is a non binary\n",
       "    // socket, so there is still some room for performance tuning.\n",
       "    var ws = {};\n",
       "\n",
       "    ws.close = function() {\n",
       "        comm.close()\n",
       "    };\n",
       "    ws.send = function(m) {\n",
       "        //console.log('sending', m);\n",
       "        comm.send(m);\n",
       "    };\n",
       "    // Register the callback with on_msg.\n",
       "    comm.on_msg(function(msg) {\n",
       "        //console.log('receiving', msg['content']['data'], msg);\n",
       "        // Pass the mpl event to the overriden (by mpl) onmessage function.\n",
       "        ws.onmessage(msg['content']['data'])\n",
       "    });\n",
       "    return ws;\n",
       "}\n",
       "\n",
       "mpl.mpl_figure_comm = function(comm, msg) {\n",
       "    // This is the function which gets called when the mpl process\n",
       "    // starts-up an IPython Comm through the \"matplotlib\" channel.\n",
       "\n",
       "    var id = msg.content.data.id;\n",
       "    // Get hold of the div created by the display call when the Comm\n",
       "    // socket was opened in Python.\n",
       "    var element = $(\"#\" + id);\n",
       "    var ws_proxy = comm_websocket_adapter(comm)\n",
       "\n",
       "    function ondownload(figure, format) {\n",
       "        window.open(figure.imageObj.src);\n",
       "    }\n",
       "\n",
       "    var fig = new mpl.figure(id, ws_proxy,\n",
       "                           ondownload,\n",
       "                           element.get(0));\n",
       "\n",
       "    // Call onopen now - mpl needs it, as it is assuming we've passed it a real\n",
       "    // web socket which is closed, not our websocket->open comm proxy.\n",
       "    ws_proxy.onopen();\n",
       "\n",
       "    fig.parent_element = element.get(0);\n",
       "    fig.cell_info = mpl.find_output_cell(\"<div id='\" + id + \"'></div>\");\n",
       "    if (!fig.cell_info) {\n",
       "        console.error(\"Failed to find cell for figure\", id, fig);\n",
       "        return;\n",
       "    }\n",
       "\n",
       "    var output_index = fig.cell_info[2]\n",
       "    var cell = fig.cell_info[0];\n",
       "\n",
       "};\n",
       "\n",
       "mpl.figure.prototype.handle_close = function(fig, msg) {\n",
       "    fig.root.unbind('remove')\n",
       "\n",
       "    // Update the output cell to use the data from the current canvas.\n",
       "    fig.push_to_output();\n",
       "    var dataURL = fig.canvas.toDataURL();\n",
       "    // Re-enable the keyboard manager in IPython - without this line, in FF,\n",
       "    // the notebook keyboard shortcuts fail.\n",
       "    IPython.keyboard_manager.enable()\n",
       "    $(fig.parent_element).html('<img src=\"' + dataURL + '\">');\n",
       "    fig.close_ws(fig, msg);\n",
       "}\n",
       "\n",
       "mpl.figure.prototype.close_ws = function(fig, msg){\n",
       "    fig.send_message('closing', msg);\n",
       "    // fig.ws.close()\n",
       "}\n",
       "\n",
       "mpl.figure.prototype.push_to_output = function(remove_interactive) {\n",
       "    // Turn the data on the canvas into data in the output cell.\n",
       "    var dataURL = this.canvas.toDataURL();\n",
       "    this.cell_info[1]['text/html'] = '<img src=\"' + dataURL + '\">';\n",
       "}\n",
       "\n",
       "mpl.figure.prototype.updated_canvas_event = function() {\n",
       "    // Tell IPython that the notebook contents must change.\n",
       "    IPython.notebook.set_dirty(true);\n",
       "    this.send_message(\"ack\", {});\n",
       "    var fig = this;\n",
       "    // Wait a second, then push the new image to the DOM so\n",
       "    // that it is saved nicely (might be nice to debounce this).\n",
       "    setTimeout(function () { fig.push_to_output() }, 1000);\n",
       "}\n",
       "\n",
       "mpl.figure.prototype._init_toolbar = function() {\n",
       "    var fig = this;\n",
       "\n",
       "    var nav_element = $('<div/>')\n",
       "    nav_element.attr('style', 'width: 100%');\n",
       "    this.root.append(nav_element);\n",
       "\n",
       "    // Define a callback function for later on.\n",
       "    function toolbar_event(event) {\n",
       "        return fig.toolbar_button_onclick(event['data']);\n",
       "    }\n",
       "    function toolbar_mouse_event(event) {\n",
       "        return fig.toolbar_button_onmouseover(event['data']);\n",
       "    }\n",
       "\n",
       "    for(var toolbar_ind in mpl.toolbar_items){\n",
       "        var name = mpl.toolbar_items[toolbar_ind][0];\n",
       "        var tooltip = mpl.toolbar_items[toolbar_ind][1];\n",
       "        var image = mpl.toolbar_items[toolbar_ind][2];\n",
       "        var method_name = mpl.toolbar_items[toolbar_ind][3];\n",
       "\n",
       "        if (!name) { continue; };\n",
       "\n",
       "        var button = $('<button class=\"btn btn-default\" href=\"#\" title=\"' + name + '\"><i class=\"fa ' + image + ' fa-lg\"></i></button>');\n",
       "        button.click(method_name, toolbar_event);\n",
       "        button.mouseover(tooltip, toolbar_mouse_event);\n",
       "        nav_element.append(button);\n",
       "    }\n",
       "\n",
       "    // Add the status bar.\n",
       "    var status_bar = $('<span class=\"mpl-message\" style=\"text-align:right; float: right;\"/>');\n",
       "    nav_element.append(status_bar);\n",
       "    this.message = status_bar[0];\n",
       "\n",
       "    // Add the close button to the window.\n",
       "    var buttongrp = $('<div class=\"btn-group inline pull-right\"></div>');\n",
       "    var button = $('<button class=\"btn btn-mini btn-primary\" href=\"#\" title=\"Stop Interaction\"><i class=\"fa fa-power-off icon-remove icon-large\"></i></button>');\n",
       "    button.click(function (evt) { fig.handle_close(fig, {}); } );\n",
       "    button.mouseover('Stop Interaction', toolbar_mouse_event);\n",
       "    buttongrp.append(button);\n",
       "    var titlebar = this.root.find($('.ui-dialog-titlebar'));\n",
       "    titlebar.prepend(buttongrp);\n",
       "}\n",
       "\n",
       "mpl.figure.prototype._root_extra_style = function(el){\n",
       "    var fig = this\n",
       "    el.on(\"remove\", function(){\n",
       "\tfig.close_ws(fig, {});\n",
       "    });\n",
       "}\n",
       "\n",
       "mpl.figure.prototype._canvas_extra_style = function(el){\n",
       "    // this is important to make the div 'focusable\n",
       "    el.attr('tabindex', 0)\n",
       "    // reach out to IPython and tell the keyboard manager to turn it's self\n",
       "    // off when our div gets focus\n",
       "\n",
       "    // location in version 3\n",
       "    if (IPython.notebook.keyboard_manager) {\n",
       "        IPython.notebook.keyboard_manager.register_events(el);\n",
       "    }\n",
       "    else {\n",
       "        // location in version 2\n",
       "        IPython.keyboard_manager.register_events(el);\n",
       "    }\n",
       "\n",
       "}\n",
       "\n",
       "mpl.figure.prototype._key_event_extra = function(event, name) {\n",
       "    var manager = IPython.notebook.keyboard_manager;\n",
       "    if (!manager)\n",
       "        manager = IPython.keyboard_manager;\n",
       "\n",
       "    // Check for shift+enter\n",
       "    if (event.shiftKey && event.which == 13) {\n",
       "        this.canvas_div.blur();\n",
       "        // select the cell after this one\n",
       "        var index = IPython.notebook.find_cell_index(this.cell_info[0]);\n",
       "        IPython.notebook.select(index + 1);\n",
       "    }\n",
       "}\n",
       "\n",
       "mpl.figure.prototype.handle_save = function(fig, msg) {\n",
       "    fig.ondownload(fig, null);\n",
       "}\n",
       "\n",
       "\n",
       "mpl.find_output_cell = function(html_output) {\n",
       "    // Return the cell and output element which can be found *uniquely* in the notebook.\n",
       "    // Note - this is a bit hacky, but it is done because the \"notebook_saving.Notebook\"\n",
       "    // IPython event is triggered only after the cells have been serialised, which for\n",
       "    // our purposes (turning an active figure into a static one), is too late.\n",
       "    var cells = IPython.notebook.get_cells();\n",
       "    var ncells = cells.length;\n",
       "    for (var i=0; i<ncells; i++) {\n",
       "        var cell = cells[i];\n",
       "        if (cell.cell_type === 'code'){\n",
       "            for (var j=0; j<cell.output_area.outputs.length; j++) {\n",
       "                var data = cell.output_area.outputs[j];\n",
       "                if (data.data) {\n",
       "                    // IPython >= 3 moved mimebundle to data attribute of output\n",
       "                    data = data.data;\n",
       "                }\n",
       "                if (data['text/html'] == html_output) {\n",
       "                    return [cell, data, j];\n",
       "                }\n",
       "            }\n",
       "        }\n",
       "    }\n",
       "}\n",
       "\n",
       "// Register the function which deals with the matplotlib target/channel.\n",
       "// The kernel may be null if the page has been refreshed.\n",
       "if (IPython.notebook.kernel != null) {\n",
       "    IPython.notebook.kernel.comm_manager.register_target('matplotlib', mpl.mpl_figure_comm);\n",
       "}\n"
      ],
      "text/plain": [
       "<IPython.core.display.Javascript object>"
      ]
     },
     "metadata": {},
     "output_type": "display_data"
    },
    {
     "data": {
      "text/html": [
       "<img src=\"data:image/png;base64,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\">"
      ],
      "text/plain": [
       "<IPython.core.display.HTML object>"
      ]
     },
     "metadata": {},
     "output_type": "display_data"
    }
   ],
   "source": [
    "def supply(p, eta):\n",
    "    return p**eta\n",
    "def indirectSupply(q,eta):\n",
    "    return (q)**(1/eta)\n",
    "x_grid = np.linspace(0,2,201)\n",
    "figure = plt.figure()\n",
    "plt.plot(x_grid,supply(x_grid,2),label = \"Supply\")\n",
    "plt.plot(x_grid,indirectSupply(x_grid,2), linestyle = \"--\",label = \"Indirect Supply\")\n",
    "plt.ylim(0,2)\n",
    "plt.legend(loc=0);"
   ]
  },
  {
   "cell_type": "markdown",
   "metadata": {},
   "source": [
    "####  (b)\n",
    "\n",
    "Write a **do-loop** where at each iteration the equilibrium price and quantity are computed and displayed (for all four combinations).  Report these four set of values in a **table** and **comment**."
   ]
  },
  {
   "cell_type": "code",
   "execution_count": 117,
   "metadata": {
    "collapsed": true
   },
   "outputs": [],
   "source": [
    "a =  2; e = -2; eta=1\n",
    "def fun(p):\n",
    "    return p**eta - a*p**e\n",
    "def fprime(p):\n",
    "    return eta*p**(eta-1)-a*e*p**(e-1)"
   ]
  },
  {
   "cell_type": "markdown",
   "metadata": {},
   "source": [
    "#### scipy.optimize.newton\n",
    "\n",
    "```python\n",
    "scipy.optimize.newton(func, x0, fprime=None, args=(), tol=1.48e-08, maxiter=50, fprime2=None)\n",
    "```\n",
    "Find a zero using the Newton-Raphson or secant method.\n",
    "\n",
    "Find a zero of the function func given a nearby starting point x0. \n",
    "\n",
    "\n",
    "\n",
    "The Newton-Raphson method is used if the derivative fprime of func is provided, otherwise the secant method is used. \n",
    "\n",
    "for example:\n",
    "\n",
    "```python\n",
    "def f(x):\n",
    "   return (x**3 - 1)  # only one real root at x = 1\n",
    "\n",
    "def fprime(x):\n",
    "   return 3 * x**2  # only one real root at x = 1\n",
    "```\n",
    "\n",
    "\n",
    "ref:\n",
    "\n",
    "\n",
    "https://docs.scipy.org/doc/scipy/reference/generated/scipy.optimize.newton.html\n",
    "\n",
    "https://www.youtube.com/watch?v=b2eULzgZuo8"
   ]
  },
  {
   "cell_type": "code",
   "execution_count": 118,
   "metadata": {},
   "outputs": [],
   "source": [
    "from scipy import optimize"
   ]
  },
  {
   "cell_type": "code",
   "execution_count": 119,
   "metadata": {},
   "outputs": [
    {
     "data": {
      "image/png": "[encoded data removed]",
      "text/latex": [
       "$$1.2599210498948732$$"
      ],
      "text/plain": [
       "1.2599210498948732"
      ]
     },
     "execution_count": 119,
     "metadata": {},
     "output_type": "execute_result"
    }
   ],
   "source": [
    "root = optimize.newton(fun, x0=1,fprime=fprime, tol=1.48e-08, maxiter=50) #Only fprime provided, use Newton Raphson method\n",
    "root"
   ]
  },
  {
   "cell_type": "code",
   "execution_count": 120,
   "metadata": {},
   "outputs": [
    {
     "data": {
      "image/png": "[encoded data removed]",
      "text/latex": [
       "$$1.259921049894854$$"
      ],
      "text/plain": [
       "1.259921049894854"
      ]
     },
     "execution_count": 120,
     "metadata": {},
     "output_type": "execute_result"
    }
   ],
   "source": [
    "root = optimize.newton(fun, x0=1, tol=1.48e-08, maxiter=150) #fprime and fprime2 not provided, use secant method\n",
    "root"
   ]
  },
  {
   "cell_type": "code",
   "execution_count": 121,
   "metadata": {},
   "outputs": [
    {
     "name": "stdout",
     "output_type": "stream",
     "text": [
      "when e is -2 and eta is 1, pstar is 1.260; qstar is 1.26\n",
      "when e is -2 and eta is 3, pstar is 1.149; qstar is 1.52\n",
      "when e is -0.5 and eta is 1, pstar is 1.587; qstar is 1.59\n",
      "when e is -0.5 and eta is 3, pstar is 1.219; qstar is 1.81\n"
     ]
    }
   ],
   "source": [
    "a =  2; e_list = [-2,-0.5]; eta_list=[1,3]\n",
    "for e in e_list:\n",
    "    for eta in eta_list:\n",
    "        root = optimize.newton(fun, x0=1, fprime=fprime,tol=1.48e-08, maxiter=1500) # careful for x0 initial value\n",
    "        pstar = root\n",
    "        qstar = pstar**eta\n",
    "        print(\"when e is {} and eta is {}, pstar is {:.3f}; qstar is {:.2f}\".\n",
    "              format(e,eta,pstar,qstar))"
   ]
  },
  {
   "cell_type": "markdown",
   "metadata": {},
   "source": [
    "####  scipy.optimize.root\n",
    "\n",
    "Find a root of a vector function.\n",
    "\n",
    "\n",
    "```python\n",
    "scipy.optimize.root(fun, x0, args=(), method='hybr', jac=None, tol=None, callback=None, options=None)[source]\n",
    "```\n",
    "The function could be a systemof equations of a vector of $\\mathbf x$:\n",
    "\n",
    "for example:\n",
    "\n",
    "```python\n",
    "def fun(x):\n",
    "    return [x[0]  + 0.5 * (x[0] - x[1])**3 - 1.0,\n",
    "              0.5 * (x[1] - x[0])**3 + x[1]]\n",
    "\n",
    "def jac(x):\n",
    "    return np.array([[1 + 1.5 * (x[0] - x[1])**2,\n",
    "                       -1.5 * (x[0] - x[1])**2],\n",
    "                     [-1.5 * (x[1] - x[0])**2,\n",
    "                       1 + 1.5 * (x[1] - x[0])**2]])\n",
    "```\n",
    "\n",
    "\n",
    "ref:\n",
    "\n",
    "https://docs.scipy.org/doc/scipy/reference/generated/scipy.optimize.root.html\n",
    "\n",
    "https://www.youtube.com/watch?v=VvCKnVklXng"
   ]
  },
  {
   "cell_type": "code",
   "execution_count": 161,
   "metadata": {
    "collapsed": true
   },
   "outputs": [],
   "source": [
    "a =  2; e = -0.5; eta=1\n",
    "def fun(pq):\n",
    "    p, q = pq\n",
    "    #q = a*p**e\n",
    "    #q = p**eta    \n",
    "    return np.array([q - a*p**e, q-p**eta])"
   ]
  },
  {
   "cell_type": "code",
   "execution_count": 163,
   "metadata": {},
   "outputs": [
    {
     "data": {
      "text/plain": [
       "array([ 1.58740105,  1.58740105])"
      ]
     },
     "execution_count": 163,
     "metadata": {},
     "output_type": "execute_result"
    }
   ],
   "source": [
    "root = optimize.root(fun , x0=[1,2]) # careful for x0 initial value\n",
    "root.x"
   ]
  },
  {
   "cell_type": "code",
   "execution_count": 164,
   "metadata": {},
   "outputs": [
    {
     "name": "stdout",
     "output_type": "stream",
     "text": [
      "when e is -2 and eta is 1, pstar is 1.26; qstar is 1.26\n",
      "when e is -2 and eta is 3, pstar is 1.15; qstar is 1.52\n",
      "when e is -0.5 and eta is 1, pstar is 1.59; qstar is 1.59\n",
      "when e is -0.5 and eta is 3, pstar is 1.22; qstar is 1.81\n"
     ]
    }
   ],
   "source": [
    "a =  2; e_list = [-2,-0.5]; eta_list=[1,3]\n",
    "for e in e_list:\n",
    "    for eta in eta_list:\n",
    "        root = optimize.root(fun , x0=[1,2.]) # careful for x0 initial value\n",
    "        pstar, qstar = root.x ## it returns an array        \n",
    "        print(\"when e is {} and eta is {}, pstar is {:.2f}; qstar is {:.2f}\".\n",
    "              format(e,eta,pstar,qstar))"
   ]
  },
  {
   "cell_type": "markdown",
   "metadata": {},
   "source": [
    "#### scipy.optimize.fsolve\n",
    "```python\n",
    "scipy.optimize.fsolve(func, x0, args=(), fprime=None, full_output=0, col_deriv=0, xtol=1.49012e-08, maxfev=0, band=None, epsfcn=None, factor=100, diag=None)[source]\n",
    "Find the roots of a function.\n",
    "```\n",
    "Return the roots of the (non-linear) equations defined by func(x) = 0 given a starting estimate.\n",
    "\n",
    "ref:\n",
    "\n",
    "https://docs.scipy.org/doc/scipy/reference/generated/scipy.optimize.fsolve.html#scipy.optimize.fsolve"
   ]
  },
  {
   "cell_type": "markdown",
   "metadata": {},
   "source": [
    "Find the points at which two given functions intersect\n",
    "Consider the example of finding the intersection of a polynomial and a line:\n",
    "\n",
    "$$y_1=x_1^2$$\n",
    "\n",
    "$$y_2=x_2+1$$"
   ]
  },
  {
   "cell_type": "code",
   "execution_count": 148,
   "metadata": {},
   "outputs": [
    {
     "data": {
      "text/plain": [
       "array([ 1.25992105,  1.25992105])"
      ]
     },
     "execution_count": 148,
     "metadata": {},
     "output_type": "execute_result"
    }
   ],
   "source": [
    "from scipy.optimize import fsolve\n",
    "\n",
    "import numpy as np\n",
    "\n",
    "a =  2; e = -2; eta=1\n",
    "def fun(pq):\n",
    "    p, q = pq\n",
    "    #q = a*p**e\n",
    "    #q = p**eta    \n",
    "    return np.array([q - a*p**e, q-p**eta])\n",
    "\n",
    "fsolve(fun, x0=[1.0, 2.0])"
   ]
  },
  {
   "cell_type": "code",
   "execution_count": 147,
   "metadata": {},
   "outputs": [
    {
     "name": "stdout",
     "output_type": "stream",
     "text": [
      "when e is -2 and eta is 1, pstar is 1.26; qstar is 1.26\n",
      "when e is -2 and eta is 3, pstar is 1.15; qstar is 1.52\n",
      "when e is -0.5 and eta is 1, pstar is 1.59; qstar is 1.59\n",
      "when e is -0.5 and eta is 3, pstar is 1.22; qstar is 1.81\n"
     ]
    }
   ],
   "source": [
    "a =  2; e_list = [-2,-0.5]; eta_list=[1,3]\n",
    "for e in e_list:\n",
    "    for eta in eta_list:\n",
    "        root = fsolve(fun ,x0=[1.0, 2.0]) # careful for x0 initial value\n",
    "        pstar, qstar = root ## it returns an array         \n",
    "        print(\"when e is {} and eta is {}, pstar is {:.2f}; qstar is {:.2f}\".\n",
    "              format(e,eta,pstar,qstar))"
   ]
  },
  {
   "cell_type": "code",
   "execution_count": null,
   "metadata": {
    "collapsed": true
   },
   "outputs": [],
   "source": []
  },
  {
   "cell_type": "markdown",
   "metadata": {},
   "source": [
    "#### Use Markdown for Easy Table\n",
    "\n",
    "https://www.tablesgenerator.com/markdown_tables\n",
    "\n",
    "| e\\eta  | 1 |  3 |\n",
    "|---|---|---|\n",
    "|  -2 | 1.26, 1.26  | 1.15, 1.51  |\n",
    "|  -0.5 |  1.59, 1.59 | 1.22, 1.81  |\n",
    "\n",
    "\n",
    "#### Don't forget comments!!!!!!!!!!!!!!!!!!!!!!!!!!!!!!!!!!!!!!!!!"
   ]
  },
  {
   "cell_type": "markdown",
   "metadata": {},
   "source": [
    "| a  |  1 |2   |\n",
    "|---|---|---|\n",
    "| 1  | 1.1 1.2  | 2.1 2.2  |\n",
    "| 2  | 3.2 2.2  | 2.1   2.2  |"
   ]
  },
  {
   "cell_type": "markdown",
   "metadata": {},
   "source": [
    "## Numerical Computation\n",
    "Exact arithmetic and computer arithmetic do not always give the same answers (even in programs without programming errors)."
   ]
  },
  {
   "cell_type": "code",
   "execution_count": 125,
   "metadata": {
    "ExecuteTime": {
     "end_time": "2018-01-23T04:17:57.936237Z",
     "start_time": "2018-01-23T04:17:57.920696Z"
    }
   },
   "outputs": [
    {
     "data": {
      "text/plain": [
       "False"
      ]
     },
     "execution_count": 125,
     "metadata": {},
     "output_type": "execute_result"
    }
   ],
   "source": [
    "1/3+1/2 == 5/6"
   ]
  },
  {
   "cell_type": "code",
   "execution_count": 126,
   "metadata": {
    "ExecuteTime": {
     "end_time": "2018-01-23T04:17:58.482065Z",
     "start_time": "2018-01-23T04:17:57.937741Z"
    }
   },
   "outputs": [
    {
     "data": {
      "image/png": "[encoded data removed]",
      "text/latex": [
       "$$0.8333333333333333$$"
      ],
      "text/plain": [
       "0.8333333333333333"
      ]
     },
     "execution_count": 126,
     "metadata": {},
     "output_type": "execute_result"
    }
   ],
   "source": [
    "1/3+1/2"
   ]
  },
  {
   "cell_type": "code",
   "execution_count": 127,
   "metadata": {
    "ExecuteTime": {
     "end_time": "2018-01-23T04:17:58.881144Z",
     "start_time": "2018-01-23T04:17:58.484055Z"
    }
   },
   "outputs": [
    {
     "data": {
      "image/png": "[encoded data removed]",
      "text/latex": [
       "$$0.8333333333333334$$"
      ],
      "text/plain": [
       "0.8333333333333334"
      ]
     },
     "execution_count": 127,
     "metadata": {},
     "output_type": "execute_result"
    }
   ],
   "source": [
    "5/6"
   ]
  },
  {
   "cell_type": "markdown",
   "metadata": {},
   "source": [
    "## Symbolic Computation\n",
    "Sympy provides symbolic computation like Maple."
   ]
  },
  {
   "cell_type": "code",
   "execution_count": 128,
   "metadata": {
    "ExecuteTime": {
     "end_time": "2018-01-23T04:17:59.279044Z",
     "start_time": "2018-01-23T04:17:58.882146Z"
    }
   },
   "outputs": [
    {
     "data": {
      "image/png": "[encoded data removed]",
      "text/latex": [
       "$$\\frac{5}{6}$$"
      ],
      "text/plain": [
       "5/6"
      ]
     },
     "execution_count": 128,
     "metadata": {},
     "output_type": "execute_result"
    }
   ],
   "source": [
    "sym.Rational(1,3) + sym.Rational(1,2)"
   ]
  },
  {
   "cell_type": "code",
   "execution_count": 153,
   "metadata": {
    "ExecuteTime": {
     "end_time": "2018-01-23T04:17:59.283556Z",
     "start_time": "2018-01-23T04:17:59.280048Z"
    }
   },
   "outputs": [
    {
     "data": {
      "text/plain": [
       "True"
      ]
     },
     "execution_count": 153,
     "metadata": {},
     "output_type": "execute_result"
    }
   ],
   "source": [
    "sym.Rational(1,3) + sym.Rational(1,2) == sym.Rational(5,6) "
   ]
  },
  {
   "cell_type": "markdown",
   "metadata": {},
   "source": [
    " ## the IS-LM Model\n",
    " \n",
    " $$A x = b$$"
   ]
  },
  {
   "cell_type": "code",
   "execution_count": 129,
   "metadata": {
    "ExecuteTime": {
     "end_time": "2018-01-23T04:17:59.309123Z",
     "start_time": "2018-01-23T04:17:59.285060Z"
    }
   },
   "outputs": [
    {
     "data": {
      "text/plain": [
       "matrix([[  1.00000000e+00,   5.00000000e-04],\n",
       "        [  1.00000000e+00,  -2.50000000e-04]])"
      ]
     },
     "execution_count": 129,
     "metadata": {},
     "output_type": "execute_result"
    }
   ],
   "source": [
    "A = np.matrix([[1, 0.0005], [1, -0.00025]])\n",
    "A"
   ]
  },
  {
   "cell_type": "markdown",
   "metadata": {},
   "source": [
    "```python\n",
    "np.matrix()\n",
    "```\n",
    "returns a matrix from an array-like object, or from a string of data. A [matrix](https://docs.scipy.org/doc/numpy-1.13.0/reference/generated/numpy.matrix.html) is a specialized 2-D array that retains its 2-D nature through operations. It has certain special operators, such as * (matrix multiplication) and ** (matrix power).\n",
    "\n",
    "Numpy [array](https://docs.scipy.org/doc/numpy-1.13.0/user/basics.creation.html) is more versatile and can be high dimension.\n"
   ]
  },
  {
   "cell_type": "markdown",
   "metadata": {},
   "source": [
    "Like a Numpy array, matrix has some **fields/attributes**: `shape, ndim, size`."
   ]
  },
  {
   "cell_type": "code",
   "execution_count": 131,
   "metadata": {
    "ExecuteTime": {
     "end_time": "2018-01-23T04:17:59.723761Z",
     "start_time": "2018-01-23T04:17:59.310128Z"
    }
   },
   "outputs": [
    {
     "data": {
      "image/png": "[encoded data removed]",
      "text/latex": [
       "$$\\left ( 2, \\quad 2\\right )$$"
      ],
      "text/plain": [
       "(2, 2)"
      ]
     },
     "execution_count": 131,
     "metadata": {},
     "output_type": "execute_result"
    }
   ],
   "source": [
    "A.shape"
   ]
  },
  {
   "cell_type": "code",
   "execution_count": 132,
   "metadata": {
    "ExecuteTime": {
     "end_time": "2018-01-23T04:18:00.136039Z",
     "start_time": "2018-01-23T04:17:59.725265Z"
    }
   },
   "outputs": [
    {
     "data": {
      "image/png": "[encoded data removed]",
      "text/latex": [
       "$$2$$"
      ],
      "text/plain": [
       "2"
      ]
     },
     "execution_count": 132,
     "metadata": {},
     "output_type": "execute_result"
    }
   ],
   "source": [
    "A.ndim"
   ]
  },
  {
   "cell_type": "code",
   "execution_count": 134,
   "metadata": {
    "ExecuteTime": {
     "end_time": "2018-01-23T04:18:00.140552Z",
     "start_time": "2018-01-23T04:18:00.137043Z"
    }
   },
   "outputs": [
    {
     "data": {
      "text/plain": [
       "dtype('float64')"
      ]
     },
     "execution_count": 134,
     "metadata": {},
     "output_type": "execute_result"
    }
   ],
   "source": [
    "A.dtype"
   ]
  },
  {
   "cell_type": "code",
   "execution_count": 135,
   "metadata": {
    "ExecuteTime": {
     "end_time": "2018-01-23T04:18:00.555290Z",
     "start_time": "2018-01-23T04:18:00.142056Z"
    }
   },
   "outputs": [
    {
     "data": {
      "image/png": "[encoded data removed]",
      "text/latex": [
       "$$4$$"
      ],
      "text/plain": [
       "4"
      ]
     },
     "execution_count": 135,
     "metadata": {},
     "output_type": "execute_result"
    }
   ],
   "source": [
    "A.size"
   ]
  },
  {
   "cell_type": "code",
   "execution_count": 137,
   "metadata": {
    "ExecuteTime": {
     "end_time": "2018-01-23T04:18:00.559334Z",
     "start_time": "2018-01-23T04:18:00.556293Z"
    }
   },
   "outputs": [
    {
     "data": {
      "text/plain": [
       "array([ 0.55, -0.2 ])"
      ]
     },
     "execution_count": 137,
     "metadata": {},
     "output_type": "execute_result"
    }
   ],
   "source": [
    "b = np.array([0.55, -0.2])\n",
    "b"
   ]
  },
  {
   "cell_type": "code",
   "execution_count": 138,
   "metadata": {
    "ExecuteTime": {
     "end_time": "2018-01-23T04:18:01.089112Z",
     "start_time": "2018-01-23T04:18:00.560304Z"
    }
   },
   "outputs": [
    {
     "data": {
      "image/png": "[encoded data removed]",
      "text/latex": [
       "$$\\left ( 2\\right )$$"
      ],
      "text/plain": [
       "(2,)"
      ]
     },
     "execution_count": 138,
     "metadata": {},
     "output_type": "execute_result"
    }
   ],
   "source": [
    "b.shape"
   ]
  },
  {
   "cell_type": "code",
   "execution_count": 139,
   "metadata": {
    "ExecuteTime": {
     "end_time": "2018-01-23T04:18:01.615512Z",
     "start_time": "2018-01-23T04:18:01.090616Z"
    }
   },
   "outputs": [
    {
     "data": {
      "image/png": "[encoded data removed]",
      "text/latex": [
       "$$1$$"
      ],
      "text/plain": [
       "1"
      ]
     },
     "execution_count": 139,
     "metadata": {},
     "output_type": "execute_result"
    }
   ],
   "source": [
    "b.ndim"
   ]
  },
  {
   "cell_type": "code",
   "execution_count": 140,
   "metadata": {
    "ExecuteTime": {
     "end_time": "2018-01-23T04:18:01.621528Z",
     "start_time": "2018-01-23T04:18:01.617014Z"
    }
   },
   "outputs": [
    {
     "data": {
      "text/plain": [
       "matrix([[ 0.55, -0.2 ]])"
      ]
     },
     "execution_count": 140,
     "metadata": {},
     "output_type": "execute_result"
    }
   ],
   "source": [
    "b = np.matrix([0.55, -0.2])\n",
    "b"
   ]
  },
  {
   "cell_type": "code",
   "execution_count": 141,
   "metadata": {
    "ExecuteTime": {
     "end_time": "2018-01-23T04:18:02.037293Z",
     "start_time": "2018-01-23T04:18:01.623531Z"
    }
   },
   "outputs": [
    {
     "data": {
      "image/png": "[encoded data removed]",
      "text/latex": [
       "$$\\left ( 1, \\quad 2\\right )$$"
      ],
      "text/plain": [
       "(1, 2)"
      ]
     },
     "execution_count": 141,
     "metadata": {},
     "output_type": "execute_result"
    }
   ],
   "source": [
    "b.shape"
   ]
  },
  {
   "cell_type": "code",
   "execution_count": 144,
   "metadata": {
    "ExecuteTime": {
     "end_time": "2018-01-23T04:18:02.042306Z",
     "start_time": "2018-01-23T04:18:02.038296Z"
    }
   },
   "outputs": [
    {
     "data": {
      "text/plain": [
       "matrix([[ 0.55],\n",
       "        [-0.2 ]])"
      ]
     },
     "execution_count": 144,
     "metadata": {},
     "output_type": "execute_result"
    }
   ],
   "source": [
    "b = np.matrix([[0.55], [-0.2]])\n",
    "b"
   ]
  },
  {
   "cell_type": "code",
   "execution_count": 145,
   "metadata": {
    "ExecuteTime": {
     "end_time": "2018-01-23T04:18:02.486988Z",
     "start_time": "2018-01-23T04:18:02.043309Z"
    }
   },
   "outputs": [
    {
     "data": {
      "image/png": "[encoded data removed]",
      "text/latex": [
       "$$\\left ( 2, \\quad 1\\right )$$"
      ],
      "text/plain": [
       "(2, 1)"
      ]
     },
     "execution_count": 145,
     "metadata": {},
     "output_type": "execute_result"
    }
   ],
   "source": [
    "b.shape"
   ]
  },
  {
   "cell_type": "code",
   "execution_count": 146,
   "metadata": {
    "ExecuteTime": {
     "end_time": "2018-01-23T04:18:02.904125Z",
     "start_time": "2018-01-23T04:18:02.488493Z"
    }
   },
   "outputs": [
    {
     "data": {
      "image/png": "[encoded data removed]",
      "text/latex": [
       "$$2$$"
      ],
      "text/plain": [
       "2"
      ]
     },
     "execution_count": 146,
     "metadata": {},
     "output_type": "execute_result"
    }
   ],
   "source": [
    "b.ndim"
   ]
  },
  {
   "cell_type": "markdown",
   "metadata": {
    "ExecuteTime": {
     "end_time": "2018-01-23T00:15:40.590206Z",
     "start_time": "2018-01-23T00:15:40.587210Z"
    }
   },
   "source": [
    "## Sovle equations by using Scipy\n",
    "\n",
    "Scipy has a set of tools to solve system of equations in its `linalg` subpackages. \n",
    "\n",
    "$$A x =b$$\n"
   ]
  },
  {
   "cell_type": "markdown",
   "metadata": {
    "ExecuteTime": {
     "end_time": "2018-01-23T00:16:10.150869Z",
     "start_time": "2018-01-23T00:16:10.147360Z"
    }
   },
   "source": [
    "### Mothed 1\n",
    "\n"
   ]
  },
  {
   "cell_type": "code",
   "execution_count": 167,
   "metadata": {
    "ExecuteTime": {
     "end_time": "2018-01-23T04:18:02.909123Z",
     "start_time": "2018-01-23T04:18:02.905613Z"
    }
   },
   "outputs": [
    {
     "data": {
      "text/plain": [
       "array([[  3.33333333e-01,   6.66666667e-01],\n",
       "       [  1.33333333e+03,  -1.33333333e+03]])"
      ]
     },
     "execution_count": 167,
     "metadata": {},
     "output_type": "execute_result"
    }
   ],
   "source": [
    "#Compute and display the inverse \n",
    "A_inv = la.inv(A) \n",
    "A_inv"
   ]
  },
  {
   "cell_type": "code",
   "execution_count": 168,
   "metadata": {
    "ExecuteTime": {
     "end_time": "2018-01-23T04:18:02.939203Z",
     "start_time": "2018-01-23T04:18:02.910127Z"
    }
   },
   "outputs": [
    {
     "data": {
      "text/plain": [
       "matrix([[  5.00000000e-02],\n",
       "        [  1.00000000e+03]])"
      ]
     },
     "execution_count": 168,
     "metadata": {},
     "output_type": "execute_result"
    }
   ],
   "source": [
    "x = np.dot(A_inv, b)\n",
    "x"
   ]
  },
  {
   "cell_type": "code",
   "execution_count": null,
   "metadata": {
    "collapsed": true
   },
   "outputs": [],
   "source": []
  },
  {
   "cell_type": "markdown",
   "metadata": {},
   "source": [
    "### Mothed 2\n",
    "\n",
    "LU decomposition:\n",
    "\n",
    "```python\n",
    "\"\"\"\n",
    "Solve a linear equation by LU-decomposition\n",
    "Comes from LU decomposition of a matrix A s.t. A = LU\n",
    "Then\n",
    "LUx = b => Ux = y => Ly = b\n",
    "\"\"\"\n",
    "p, l, u = la.lu(A)\n",
    "```\n",
    "\n",
    "Example from slide"
   ]
  },
  {
   "cell_type": "code",
   "execution_count": 33,
   "metadata": {
    "ExecuteTime": {
     "end_time": "2018-01-23T04:18:02.961763Z",
     "start_time": "2018-01-23T04:18:02.940205Z"
    }
   },
   "outputs": [
    {
     "data": {
      "text/plain": [
       "matrix([[-3,  2,  3],\n",
       "        [-3,  2,  1],\n",
       "        [ 3,  0,  0]])"
      ]
     },
     "execution_count": 33,
     "metadata": {},
     "output_type": "execute_result"
    }
   ],
   "source": [
    "A = np.matrix([[-3, 2, 3], \n",
    "               [-3 ,2 ,1], \n",
    "               [3, 0 ,0]])\n",
    "A"
   ]
  },
  {
   "cell_type": "code",
   "execution_count": 34,
   "metadata": {
    "ExecuteTime": {
     "end_time": "2018-01-23T04:18:02.984824Z",
     "start_time": "2018-01-23T04:18:02.962765Z"
    }
   },
   "outputs": [
    {
     "data": {
      "text/plain": [
       "matrix([[10],\n",
       "        [ 8],\n",
       "        [-3]])"
      ]
     },
     "execution_count": 34,
     "metadata": {},
     "output_type": "execute_result"
    }
   ],
   "source": [
    "b = np.matrix([[10], [8], [-3]])\n",
    "b"
   ]
  },
  {
   "cell_type": "code",
   "execution_count": 35,
   "metadata": {
    "ExecuteTime": {
     "end_time": "2018-01-23T04:18:03.010408Z",
     "start_time": "2018-01-23T04:18:02.985826Z"
    },
    "collapsed": true
   },
   "outputs": [],
   "source": [
    "p, l, u = la.lu(A)"
   ]
  },
  {
   "cell_type": "code",
   "execution_count": 36,
   "metadata": {
    "ExecuteTime": {
     "end_time": "2018-01-23T04:18:03.036461Z",
     "start_time": "2018-01-23T04:18:03.011395Z"
    }
   },
   "outputs": [
    {
     "data": {
      "text/plain": [
       "array([[ 1.,  0.,  0.],\n",
       "       [ 0.,  0.,  1.],\n",
       "       [ 0.,  1.,  0.]])"
      ]
     },
     "execution_count": 36,
     "metadata": {},
     "output_type": "execute_result"
    }
   ],
   "source": [
    "p"
   ]
  },
  {
   "cell_type": "code",
   "execution_count": 37,
   "metadata": {
    "ExecuteTime": {
     "end_time": "2018-01-23T04:18:03.059037Z",
     "start_time": "2018-01-23T04:18:03.037965Z"
    }
   },
   "outputs": [
    {
     "data": {
      "text/plain": [
       "array([[ 1.,  0.,  0.],\n",
       "       [-1.,  1.,  0.],\n",
       "       [ 1.,  0.,  1.]])"
      ]
     },
     "execution_count": 37,
     "metadata": {},
     "output_type": "execute_result"
    }
   ],
   "source": [
    "l"
   ]
  },
  {
   "cell_type": "code",
   "execution_count": 38,
   "metadata": {
    "ExecuteTime": {
     "end_time": "2018-01-23T04:18:03.087619Z",
     "start_time": "2018-01-23T04:18:03.060539Z"
    }
   },
   "outputs": [
    {
     "data": {
      "text/plain": [
       "array([[-3.,  2.,  3.],\n",
       "       [ 0.,  2.,  3.],\n",
       "       [ 0.,  0., -2.]])"
      ]
     },
     "execution_count": 38,
     "metadata": {},
     "output_type": "execute_result"
    }
   ],
   "source": [
    "u"
   ]
  },
  {
   "cell_type": "markdown",
   "metadata": {},
   "source": [
    "check"
   ]
  },
  {
   "cell_type": "code",
   "execution_count": 39,
   "metadata": {
    "ExecuteTime": {
     "end_time": "2018-01-23T04:18:03.109655Z",
     "start_time": "2018-01-23T04:18:03.089101Z"
    }
   },
   "outputs": [
    {
     "data": {
      "text/plain": [
       "array([[-3.,  2.,  3.],\n",
       "       [-3.,  2.,  1.],\n",
       "       [ 3.,  0.,  0.]])"
      ]
     },
     "execution_count": 39,
     "metadata": {},
     "output_type": "execute_result"
    }
   ],
   "source": [
    "p@l@u"
   ]
  },
  {
   "cell_type": "markdown",
   "metadata": {},
   "source": [
    "Forward solving using lower triangle matrix\n",
    "\n",
    "$$ply = b$$"
   ]
  },
  {
   "cell_type": "code",
   "execution_count": 40,
   "metadata": {
    "ExecuteTime": {
     "end_time": "2018-01-23T04:18:03.136239Z",
     "start_time": "2018-01-23T04:18:03.111160Z"
    }
   },
   "outputs": [
    {
     "data": {
      "text/plain": [
       "array([[ 10.],\n",
       "       [  7.],\n",
       "       [ -2.]])"
      ]
     },
     "execution_count": 40,
     "metadata": {},
     "output_type": "execute_result"
    }
   ],
   "source": [
    "y = la.solve(p@l, b)\n",
    "y   "
   ]
  },
  {
   "cell_type": "markdown",
   "metadata": {},
   "source": [
    "Backward solving using upper triangle matrix\n",
    "$$ux= y$$"
   ]
  },
  {
   "cell_type": "code",
   "execution_count": 41,
   "metadata": {
    "ExecuteTime": {
     "end_time": "2018-01-23T04:18:03.163311Z",
     "start_time": "2018-01-23T04:18:03.137229Z"
    }
   },
   "outputs": [
    {
     "data": {
      "text/plain": [
       "array([[-1.],\n",
       "       [ 2.],\n",
       "       [ 1.]])"
      ]
     },
     "execution_count": 41,
     "metadata": {},
     "output_type": "execute_result"
    }
   ],
   "source": [
    "x = la.solve(u, y)\n",
    "x   "
   ]
  },
  {
   "cell_type": "markdown",
   "metadata": {},
   "source": [
    "## Symbolic Compuation in Sympy"
   ]
  },
  {
   "cell_type": "code",
   "execution_count": 42,
   "metadata": {
    "ExecuteTime": {
     "end_time": "2018-01-23T04:18:03.718298Z",
     "start_time": "2018-01-23T04:18:03.164301Z"
    }
   },
   "outputs": [
    {
     "data": {
      "text/latex": [
       "$$\\left[\\begin{matrix}-3.0 & 2.0 & 3.0\\\\-3.0 & 2.0 & 1.0\\\\3.0 & 0.0 & 0.0\\end{matrix}\\right]$$"
      ],
      "text/plain": [
       "⎡-3.0  2.0  3.0⎤\n",
       "⎢              ⎥\n",
       "⎢-3.0  2.0  1.0⎥\n",
       "⎢              ⎥\n",
       "⎣3.0   0.0  0.0⎦"
      ]
     },
     "execution_count": 42,
     "metadata": {},
     "output_type": "execute_result"
    }
   ],
   "source": [
    "# rename A and b\n",
    "M = sym.Matrix(A)\n",
    "v = sym.Matrix(b)\n",
    "M"
   ]
  },
  {
   "cell_type": "code",
   "execution_count": 43,
   "metadata": {
    "ExecuteTime": {
     "end_time": "2018-01-23T04:18:04.220527Z",
     "start_time": "2018-01-23T04:18:03.719801Z"
    }
   },
   "outputs": [
    {
     "data": {
      "text/latex": [
       "$$\\left[\\begin{matrix}10.0\\\\8.0\\\\-3.0\\end{matrix}\\right]$$"
      ],
      "text/plain": [
       "⎡10.0⎤\n",
       "⎢    ⎥\n",
       "⎢8.0 ⎥\n",
       "⎢    ⎥\n",
       "⎣-3.0⎦"
      ]
     },
     "execution_count": 43,
     "metadata": {},
     "output_type": "execute_result"
    }
   ],
   "source": [
    "v"
   ]
  },
  {
   "cell_type": "markdown",
   "metadata": {},
   "source": [
    "## Method 1"
   ]
  },
  {
   "cell_type": "code",
   "execution_count": 44,
   "metadata": {
    "ExecuteTime": {
     "end_time": "2018-01-23T04:18:04.835925Z",
     "start_time": "2018-01-23T04:18:04.221530Z"
    }
   },
   "outputs": [
    {
     "data": {
      "text/latex": [
       "$$\\left[\\begin{matrix}0 & 0 & 0.333333333333333\\\\-0.25 & 0.75 & 0.5\\\\0.5 & -0.5 & 0\\end{matrix}\\right]$$"
      ],
      "text/plain": [
       "⎡  0     0    0.333333333333333⎤\n",
       "⎢                              ⎥\n",
       "⎢-0.25  0.75         0.5       ⎥\n",
       "⎢                              ⎥\n",
       "⎣ 0.5   -0.5          0        ⎦"
      ]
     },
     "execution_count": 44,
     "metadata": {},
     "output_type": "execute_result"
    }
   ],
   "source": [
    "M.inv(\"LU\") # using LU Method to solve inverse, more efficient"
   ]
  },
  {
   "cell_type": "code",
   "execution_count": 45,
   "metadata": {
    "ExecuteTime": {
     "end_time": "2018-01-23T04:18:05.226464Z",
     "start_time": "2018-01-23T04:18:04.837430Z"
    }
   },
   "outputs": [
    {
     "data": {
      "text/latex": [
       "$$\\left[\\begin{matrix}0 & 0 & 0.333333333333333\\\\-0.25 & 0.75 & 0.5\\\\0.5 & -0.5 & 0\\end{matrix}\\right]$$"
      ],
      "text/plain": [
       "⎡  0     0    0.333333333333333⎤\n",
       "⎢                              ⎥\n",
       "⎢-0.25  0.75         0.5       ⎥\n",
       "⎢                              ⎥\n",
       "⎣ 0.5   -0.5          0        ⎦"
      ]
     },
     "execution_count": 45,
     "metadata": {},
     "output_type": "execute_result"
    }
   ],
   "source": [
    "M.inv() # the same. \n",
    "# In SymPy the inverse is computed by Gaussian elimination by default"
   ]
  },
  {
   "cell_type": "code",
   "execution_count": 46,
   "metadata": {
    "ExecuteTime": {
     "end_time": "2018-01-23T04:18:05.725243Z",
     "start_time": "2018-01-23T04:18:05.227467Z"
    }
   },
   "outputs": [
    {
     "data": {
      "text/latex": [
       "$$\\left[\\begin{matrix}-1.0\\\\2.0\\\\1.0\\end{matrix}\\right]$$"
      ],
      "text/plain": [
       "⎡-1.0⎤\n",
       "⎢    ⎥\n",
       "⎢2.0 ⎥\n",
       "⎢    ⎥\n",
       "⎣1.0 ⎦"
      ]
     },
     "execution_count": 46,
     "metadata": {},
     "output_type": "execute_result"
    }
   ],
   "source": [
    "M.inv(\"LU\")*v"
   ]
  },
  {
   "cell_type": "markdown",
   "metadata": {},
   "source": [
    "## Method 2"
   ]
  },
  {
   "cell_type": "code",
   "execution_count": 47,
   "metadata": {},
   "outputs": [
    {
     "data": {
      "text/latex": [
       "$$\\left[\\begin{matrix}-3.0 & 2.0 & 3.0\\\\-3.0 & 2.0 & 1.0\\\\3.0 & 0.0 & 0.0\\end{matrix}\\right]$$"
      ],
      "text/plain": [
       "⎡-3.0  2.0  3.0⎤\n",
       "⎢              ⎥\n",
       "⎢-3.0  2.0  1.0⎥\n",
       "⎢              ⎥\n",
       "⎣3.0   0.0  0.0⎦"
      ]
     },
     "execution_count": 47,
     "metadata": {},
     "output_type": "execute_result"
    }
   ],
   "source": [
    "M"
   ]
  },
  {
   "cell_type": "code",
   "execution_count": 48,
   "metadata": {
    "ExecuteTime": {
     "end_time": "2018-01-23T04:18:06.221977Z",
     "start_time": "2018-01-23T04:18:05.726230Z"
    }
   },
   "outputs": [
    {
     "data": {
      "text/latex": [
       "$$\\left ( \\left[\\begin{matrix}1.0 & 0 & 0\\\\0 & 1.0 & 0\\\\0 & 0 & 1.0\\end{matrix}\\right], \\quad \\left [ 0, \\quad 1, \\quad 2\\right ]\\right )$$"
      ],
      "text/plain": [
       "⎛⎡1.0   0    0 ⎤, [0, 1, 2]⎞\n",
       "⎜⎢             ⎥           ⎟\n",
       "⎜⎢ 0   1.0   0 ⎥           ⎟\n",
       "⎜⎢             ⎥           ⎟\n",
       "⎝⎣ 0    0   1.0⎦           ⎠"
      ]
     },
     "execution_count": 48,
     "metadata": {},
     "output_type": "execute_result"
    }
   ],
   "source": [
    "M.rref()"
   ]
  },
  {
   "cell_type": "markdown",
   "metadata": {},
   "source": [
    "#### RREF\n",
    "To put a matrix into reduced row echelon form, use `rref`. \n",
    "\n",
    "`rref` returns a tuple of two elements. The first is the reduced row echelon form, and the second is a tuple of indices of the pivot columns.\n",
    "\n"
   ]
  },
  {
   "cell_type": "code",
   "execution_count": 184,
   "metadata": {
    "ExecuteTime": {
     "end_time": "2018-01-23T04:18:06.615536Z",
     "start_time": "2018-01-23T04:18:06.223465Z"
    }
   },
   "outputs": [
    {
     "data": {
      "image/png": "[encoded data removed]",
      "text/latex": [
       "$$\\left ( \\left[\\begin{matrix}1 & 0 & 0\\\\-1 & 1 & 0\\\\1 & 0 & 1\\end{matrix}\\right], \\quad \\left[\\begin{matrix}-3 & 2 & 3\\\\0 & 2 & 3\\\\0 & 0 & -2\\end{matrix}\\right], \\quad \\left [ \\left [ 1, \\quad 2\\right ]\\right ]\\right )$$"
      ],
      "text/plain": [
       "⎛⎡1   0  0⎤  ⎡-3  2  3 ⎤          ⎞\n",
       "⎜⎢        ⎥  ⎢         ⎥          ⎟\n",
       "⎜⎢-1  1  0⎥, ⎢0   2  3 ⎥, [[1, 2]]⎟\n",
       "⎜⎢        ⎥  ⎢         ⎥          ⎟\n",
       "⎝⎣1   0  1⎦  ⎣0   0  -2⎦          ⎠"
      ]
     },
     "execution_count": 184,
     "metadata": {},
     "output_type": "execute_result"
    }
   ],
   "source": [
    "M.LUdecomposition()"
   ]
  },
  {
   "cell_type": "markdown",
   "metadata": {},
   "source": [
    "\n",
    "Returns (L, U, perm) where L is a lower triangular matrix with unit diagonal, U is an upper triangular matrix, and perm is a list of row swap index pairs. If A is the original matrix, then A = (L*U).permuteBkwd(perm), and the row permutation matrix P such that P*A = L*U can be computed by P=eye(A.row).permuteFwd(perm).\n",
    "\n",
    "$$P*A = L*U$$\n",
    "\n",
    "See documentation for LUCombined for details about the keyword argument rankcheck, iszerofunc, and simpfunc.\n",
    "\n",
    "http://docs.sympy.org/latest/modules/matrices/matrices.html"
   ]
  },
  {
   "cell_type": "code",
   "execution_count": 185,
   "metadata": {
    "ExecuteTime": {
     "end_time": "2018-01-23T04:18:07.023132Z",
     "start_time": "2018-01-23T04:18:06.617042Z"
    }
   },
   "outputs": [
    {
     "data": {
      "image/png": "[encoded data removed]",
      "text/latex": [
       "$$\\left[\\begin{matrix}1 & 0 & 0\\\\-1 & 1 & 0\\\\1 & 0 & 1\\end{matrix}\\right]$$"
      ],
      "text/plain": [
       "⎡1   0  0⎤\n",
       "⎢        ⎥\n",
       "⎢-1  1  0⎥\n",
       "⎢        ⎥\n",
       "⎣1   0  1⎦"
      ]
     },
     "execution_count": 185,
     "metadata": {},
     "output_type": "execute_result"
    }
   ],
   "source": [
    "L,U,perm = M.LUdecomposition()\n",
    "L"
   ]
  },
  {
   "cell_type": "code",
   "execution_count": 186,
   "metadata": {
    "ExecuteTime": {
     "end_time": "2018-01-23T04:18:07.513851Z",
     "start_time": "2018-01-23T04:18:07.024135Z"
    }
   },
   "outputs": [
    {
     "data": {
      "image/png": "[encoded data removed]",
      "text/latex": [
       "$$\\left[\\begin{matrix}-3 & 2 & 3\\\\0 & 2 & 3\\\\0 & 0 & -2\\end{matrix}\\right]$$"
      ],
      "text/plain": [
       "⎡-3  2  3 ⎤\n",
       "⎢         ⎥\n",
       "⎢0   2  3 ⎥\n",
       "⎢         ⎥\n",
       "⎣0   0  -2⎦"
      ]
     },
     "execution_count": 186,
     "metadata": {},
     "output_type": "execute_result"
    }
   ],
   "source": [
    "U"
   ]
  },
  {
   "cell_type": "code",
   "execution_count": 187,
   "metadata": {
    "ExecuteTime": {
     "end_time": "2018-01-23T04:18:08.012166Z",
     "start_time": "2018-01-23T04:18:07.514854Z"
    }
   },
   "outputs": [
    {
     "data": {
      "image/png": "[encoded data removed]",
      "text/latex": [
       "$$\\left[\\begin{matrix}10\\\\-3\\\\8\\end{matrix}\\right]$$"
      ],
      "text/plain": [
       "⎡10⎤\n",
       "⎢  ⎥\n",
       "⎢-3⎥\n",
       "⎢  ⎥\n",
       "⎣8 ⎦"
      ]
     },
     "execution_count": 187,
     "metadata": {},
     "output_type": "execute_result"
    }
   ],
   "source": [
    "# If LHS A is multiplied by perm, RHS v should be done once.\n",
    "v = v.permuteBkwd(perm)\n",
    "v"
   ]
  },
  {
   "cell_type": "markdown",
   "metadata": {},
   "source": [
    "the elements of x can be computed recursively using forward-substitution"
   ]
  },
  {
   "cell_type": "code",
   "execution_count": 188,
   "metadata": {
    "ExecuteTime": {
     "end_time": "2018-01-23T04:18:08.611202Z",
     "start_time": "2018-01-23T04:18:08.013156Z"
    }
   },
   "outputs": [
    {
     "data": {
      "image/png": "[encoded data removed]",
      "text/latex": [
       "$$\\left[\\begin{matrix}10\\\\7\\\\-2\\end{matrix}\\right]$$"
      ],
      "text/plain": [
       "⎡10⎤\n",
       "⎢  ⎥\n",
       "⎢7 ⎥\n",
       "⎢  ⎥\n",
       "⎣-2⎦"
      ]
     },
     "execution_count": 188,
     "metadata": {},
     "output_type": "execute_result"
    }
   ],
   "source": [
    "L.LUsolve(v)"
   ]
  },
  {
   "cell_type": "markdown",
   "metadata": {},
   "source": [
    "Continue with a backward substitution. U is an upper triangular matrix, then the elements of x can be computed recursively using backward-substitution."
   ]
  },
  {
   "cell_type": "code",
   "execution_count": 189,
   "metadata": {
    "ExecuteTime": {
     "end_time": "2018-01-23T04:18:09.103006Z",
     "start_time": "2018-01-23T04:18:08.612690Z"
    }
   },
   "outputs": [
    {
     "data": {
      "image/png": "[encoded data removed]",
      "text/latex": [
       "$$\\left[\\begin{matrix}-1\\\\2\\\\1\\end{matrix}\\right]$$"
      ],
      "text/plain": [
       "⎡-1⎤\n",
       "⎢  ⎥\n",
       "⎢2 ⎥\n",
       "⎢  ⎥\n",
       "⎣1 ⎦"
      ]
     },
     "execution_count": 189,
     "metadata": {},
     "output_type": "execute_result"
    }
   ],
   "source": [
    "U.LUsolve(L.LUsolve(v))"
   ]
  },
  {
   "cell_type": "markdown",
   "metadata": {},
   "source": [
    "## More Sympy\n",
    "\n",
    "ref:\n",
    "\n",
    "http://nbviewer.jupyter.org/github/jrjohansson/scientific-python-lectures/blob/master/Lecture-5-Sympy.ipynb"
   ]
  },
  {
   "cell_type": "code",
   "execution_count": null,
   "metadata": {
    "collapsed": true
   },
   "outputs": [],
   "source": []
  }
 ],
 "metadata": {
  "kernelspec": {
   "display_name": "bayesian",
   "language": "python",
   "name": "python3"
  },
  "language_info": {
   "codemirror_mode": {
    "name": "ipython",
    "version": 3
   },
   "file_extension": ".py",
   "mimetype": "text/x-python",
   "name": "python",
   "nbconvert_exporter": "python",
   "pygments_lexer": "ipython3",
   "version": "3.6.1"
  }
 },
 "nbformat": 4,
 "nbformat_minor": 2
}
