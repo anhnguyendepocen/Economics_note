{
 "cells": [
  {
   "cell_type": "markdown",
   "metadata": {},
   "source": [
    "# System of Equation in Scipy and Sympy"
   ]
  },
  {
   "cell_type": "code",
   "execution_count": 2,
   "metadata": {
    "ExecuteTime": {
     "end_time": "2018-01-23T04:42:37.166588Z",
     "start_time": "2018-01-23T04:42:37.161591Z"
    },
    "collapsed": true
   },
   "outputs": [],
   "source": [
    "# convention\n",
    "import numpy as np\n",
    "import scipy as sp\n",
    "import scipy.linalg as la \n",
    "# The top-level components of scipy (such as linalg, optimize, etc.) are so-called subpackages and not modules (i.e., they're directories, not source code). \n",
    "# Scipy is set up such that subpackages must be imported separately.sp.linalg won't work\n",
    "import sympy as sym\n",
    "sym.init_printing() # for printing latex/mathjax format output"
   ]
  },
  {
   "cell_type": "code",
   "execution_count": 3,
   "metadata": {
    "ExecuteTime": {
     "end_time": "2018-01-23T04:42:37.358179Z",
     "start_time": "2018-01-23T04:42:37.344156Z"
    },
    "collapsed": true
   },
   "outputs": [],
   "source": [
    "# plotting\n",
    "import matplotlib as mpl\n",
    "# matplotlib for ploting\n",
    "from matplotlib import pyplot as plt\n",
    "plt.style.use('fivethirtyeight')\n",
    "from mpl_toolkits.mplot3d import Axes3D     # 3d\n",
    "# for inline interactive plotting\n",
    "%matplotlib notebook\n",
    "%config InlineBackend.figure_format = 'retina'"
   ]
  },
  {
   "cell_type": "markdown",
   "metadata": {},
   "source": [
    "## Review Ass1\n",
    "### Question 1 (d)"
   ]
  },
  {
   "cell_type": "code",
   "execution_count": 7,
   "metadata": {
    "collapsed": false
   },
   "outputs": [
    {
     "data": {
      "application/javascript": [
       "/* Put everything inside the global mpl namespace */\n",
       "window.mpl = {};\n",
       "\n",
       "mpl.get_websocket_type = function() {\n",
       "    if (typeof(WebSocket) !== 'undefined') {\n",
       "        return WebSocket;\n",
       "    } else if (typeof(MozWebSocket) !== 'undefined') {\n",
       "        return MozWebSocket;\n",
       "    } else {\n",
       "        alert('Your browser does not have WebSocket support.' +\n",
       "              'Please try Chrome, Safari or Firefox ≥ 6. ' +\n",
       "              'Firefox 4 and 5 are also supported but you ' +\n",
       "              'have to enable WebSockets in about:config.');\n",
       "    };\n",
       "}\n",
       "\n",
       "mpl.figure = function(figure_id, websocket, ondownload, parent_element) {\n",
       "    this.id = figure_id;\n",
       "\n",
       "    this.ws = websocket;\n",
       "\n",
       "    this.supports_binary = (this.ws.binaryType != undefined);\n",
       "\n",
       "    if (!this.supports_binary) {\n",
       "        var warnings = document.getElementById(\"mpl-warnings\");\n",
       "        if (warnings) {\n",
       "            warnings.style.display = 'block';\n",
       "            warnings.textContent = (\n",
       "                \"This browser does not support binary websocket messages. \" +\n",
       "                    \"Performance may be slow.\");\n",
       "        }\n",
       "    }\n",
       "\n",
       "    this.imageObj = new Image();\n",
       "\n",
       "    this.context = undefined;\n",
       "    this.message = undefined;\n",
       "    this.canvas = undefined;\n",
       "    this.rubberband_canvas = undefined;\n",
       "    this.rubberband_context = undefined;\n",
       "    this.format_dropdown = undefined;\n",
       "\n",
       "    this.image_mode = 'full';\n",
       "\n",
       "    this.root = $('<div/>');\n",
       "    this._root_extra_style(this.root)\n",
       "    this.root.attr('style', 'display: inline-block');\n",
       "\n",
       "    $(parent_element).append(this.root);\n",
       "\n",
       "    this._init_header(this);\n",
       "    this._init_canvas(this);\n",
       "    this._init_toolbar(this);\n",
       "\n",
       "    var fig = this;\n",
       "\n",
       "    this.waiting = false;\n",
       "\n",
       "    this.ws.onopen =  function () {\n",
       "            fig.send_message(\"supports_binary\", {value: fig.supports_binary});\n",
       "            fig.send_message(\"send_image_mode\", {});\n",
       "            fig.send_message(\"refresh\", {});\n",
       "        }\n",
       "\n",
       "    this.imageObj.onload = function() {\n",
       "            if (fig.image_mode == 'full') {\n",
       "                // Full images could contain transparency (where diff images\n",
       "                // almost always do), so we need to clear the canvas so that\n",
       "                // there is no ghosting.\n",
       "                fig.context.clearRect(0, 0, fig.canvas.width, fig.canvas.height);\n",
       "            }\n",
       "            fig.context.drawImage(fig.imageObj, 0, 0);\n",
       "        };\n",
       "\n",
       "    this.imageObj.onunload = function() {\n",
       "        this.ws.close();\n",
       "    }\n",
       "\n",
       "    this.ws.onmessage = this._make_on_message_function(this);\n",
       "\n",
       "    this.ondownload = ondownload;\n",
       "}\n",
       "\n",
       "mpl.figure.prototype._init_header = function() {\n",
       "    var titlebar = $(\n",
       "        '<div class=\"ui-dialog-titlebar ui-widget-header ui-corner-all ' +\n",
       "        'ui-helper-clearfix\"/>');\n",
       "    var titletext = $(\n",
       "        '<div class=\"ui-dialog-title\" style=\"width: 100%; ' +\n",
       "        'text-align: center; padding: 3px;\"/>');\n",
       "    titlebar.append(titletext)\n",
       "    this.root.append(titlebar);\n",
       "    this.header = titletext[0];\n",
       "}\n",
       "\n",
       "\n",
       "\n",
       "mpl.figure.prototype._canvas_extra_style = function(canvas_div) {\n",
       "\n",
       "}\n",
       "\n",
       "\n",
       "mpl.figure.prototype._root_extra_style = function(canvas_div) {\n",
       "\n",
       "}\n",
       "\n",
       "mpl.figure.prototype._init_canvas = function() {\n",
       "    var fig = this;\n",
       "\n",
       "    var canvas_div = $('<div/>');\n",
       "\n",
       "    canvas_div.attr('style', 'position: relative; clear: both; outline: 0');\n",
       "\n",
       "    function canvas_keyboard_event(event) {\n",
       "        return fig.key_event(event, event['data']);\n",
       "    }\n",
       "\n",
       "    canvas_div.keydown('key_press', canvas_keyboard_event);\n",
       "    canvas_div.keyup('key_release', canvas_keyboard_event);\n",
       "    this.canvas_div = canvas_div\n",
       "    this._canvas_extra_style(canvas_div)\n",
       "    this.root.append(canvas_div);\n",
       "\n",
       "    var canvas = $('<canvas/>');\n",
       "    canvas.addClass('mpl-canvas');\n",
       "    canvas.attr('style', \"left: 0; top: 0; z-index: 0; outline: 0\")\n",
       "\n",
       "    this.canvas = canvas[0];\n",
       "    this.context = canvas[0].getContext(\"2d\");\n",
       "\n",
       "    var rubberband = $('<canvas/>');\n",
       "    rubberband.attr('style', \"position: absolute; left: 0; top: 0; z-index: 1;\")\n",
       "\n",
       "    var pass_mouse_events = true;\n",
       "\n",
       "    canvas_div.resizable({\n",
       "        start: function(event, ui) {\n",
       "            pass_mouse_events = false;\n",
       "        },\n",
       "        resize: function(event, ui) {\n",
       "            fig.request_resize(ui.size.width, ui.size.height);\n",
       "        },\n",
       "        stop: function(event, ui) {\n",
       "            pass_mouse_events = true;\n",
       "            fig.request_resize(ui.size.width, ui.size.height);\n",
       "        },\n",
       "    });\n",
       "\n",
       "    function mouse_event_fn(event) {\n",
       "        if (pass_mouse_events)\n",
       "            return fig.mouse_event(event, event['data']);\n",
       "    }\n",
       "\n",
       "    rubberband.mousedown('button_press', mouse_event_fn);\n",
       "    rubberband.mouseup('button_release', mouse_event_fn);\n",
       "    // Throttle sequential mouse events to 1 every 20ms.\n",
       "    rubberband.mousemove('motion_notify', mouse_event_fn);\n",
       "\n",
       "    rubberband.mouseenter('figure_enter', mouse_event_fn);\n",
       "    rubberband.mouseleave('figure_leave', mouse_event_fn);\n",
       "\n",
       "    canvas_div.on(\"wheel\", function (event) {\n",
       "        event = event.originalEvent;\n",
       "        event['data'] = 'scroll'\n",
       "        if (event.deltaY < 0) {\n",
       "            event.step = 1;\n",
       "        } else {\n",
       "            event.step = -1;\n",
       "        }\n",
       "        mouse_event_fn(event);\n",
       "    });\n",
       "\n",
       "    canvas_div.append(canvas);\n",
       "    canvas_div.append(rubberband);\n",
       "\n",
       "    this.rubberband = rubberband;\n",
       "    this.rubberband_canvas = rubberband[0];\n",
       "    this.rubberband_context = rubberband[0].getContext(\"2d\");\n",
       "    this.rubberband_context.strokeStyle = \"#000000\";\n",
       "\n",
       "    this._resize_canvas = function(width, height) {\n",
       "        // Keep the size of the canvas, canvas container, and rubber band\n",
       "        // canvas in synch.\n",
       "        canvas_div.css('width', width)\n",
       "        canvas_div.css('height', height)\n",
       "\n",
       "        canvas.attr('width', width);\n",
       "        canvas.attr('height', height);\n",
       "\n",
       "        rubberband.attr('width', width);\n",
       "        rubberband.attr('height', height);\n",
       "    }\n",
       "\n",
       "    // Set the figure to an initial 600x600px, this will subsequently be updated\n",
       "    // upon first draw.\n",
       "    this._resize_canvas(600, 600);\n",
       "\n",
       "    // Disable right mouse context menu.\n",
       "    $(this.rubberband_canvas).bind(\"contextmenu\",function(e){\n",
       "        return false;\n",
       "    });\n",
       "\n",
       "    function set_focus () {\n",
       "        canvas.focus();\n",
       "        canvas_div.focus();\n",
       "    }\n",
       "\n",
       "    window.setTimeout(set_focus, 100);\n",
       "}\n",
       "\n",
       "mpl.figure.prototype._init_toolbar = function() {\n",
       "    var fig = this;\n",
       "\n",
       "    var nav_element = $('<div/>')\n",
       "    nav_element.attr('style', 'width: 100%');\n",
       "    this.root.append(nav_element);\n",
       "\n",
       "    // Define a callback function for later on.\n",
       "    function toolbar_event(event) {\n",
       "        return fig.toolbar_button_onclick(event['data']);\n",
       "    }\n",
       "    function toolbar_mouse_event(event) {\n",
       "        return fig.toolbar_button_onmouseover(event['data']);\n",
       "    }\n",
       "\n",
       "    for(var toolbar_ind in mpl.toolbar_items) {\n",
       "        var name = mpl.toolbar_items[toolbar_ind][0];\n",
       "        var tooltip = mpl.toolbar_items[toolbar_ind][1];\n",
       "        var image = mpl.toolbar_items[toolbar_ind][2];\n",
       "        var method_name = mpl.toolbar_items[toolbar_ind][3];\n",
       "\n",
       "        if (!name) {\n",
       "            // put a spacer in here.\n",
       "            continue;\n",
       "        }\n",
       "        var button = $('<button/>');\n",
       "        button.addClass('ui-button ui-widget ui-state-default ui-corner-all ' +\n",
       "                        'ui-button-icon-only');\n",
       "        button.attr('role', 'button');\n",
       "        button.attr('aria-disabled', 'false');\n",
       "        button.click(method_name, toolbar_event);\n",
       "        button.mouseover(tooltip, toolbar_mouse_event);\n",
       "\n",
       "        var icon_img = $('<span/>');\n",
       "        icon_img.addClass('ui-button-icon-primary ui-icon');\n",
       "        icon_img.addClass(image);\n",
       "        icon_img.addClass('ui-corner-all');\n",
       "\n",
       "        var tooltip_span = $('<span/>');\n",
       "        tooltip_span.addClass('ui-button-text');\n",
       "        tooltip_span.html(tooltip);\n",
       "\n",
       "        button.append(icon_img);\n",
       "        button.append(tooltip_span);\n",
       "\n",
       "        nav_element.append(button);\n",
       "    }\n",
       "\n",
       "    var fmt_picker_span = $('<span/>');\n",
       "\n",
       "    var fmt_picker = $('<select/>');\n",
       "    fmt_picker.addClass('mpl-toolbar-option ui-widget ui-widget-content');\n",
       "    fmt_picker_span.append(fmt_picker);\n",
       "    nav_element.append(fmt_picker_span);\n",
       "    this.format_dropdown = fmt_picker[0];\n",
       "\n",
       "    for (var ind in mpl.extensions) {\n",
       "        var fmt = mpl.extensions[ind];\n",
       "        var option = $(\n",
       "            '<option/>', {selected: fmt === mpl.default_extension}).html(fmt);\n",
       "        fmt_picker.append(option)\n",
       "    }\n",
       "\n",
       "    // Add hover states to the ui-buttons\n",
       "    $( \".ui-button\" ).hover(\n",
       "        function() { $(this).addClass(\"ui-state-hover\");},\n",
       "        function() { $(this).removeClass(\"ui-state-hover\");}\n",
       "    );\n",
       "\n",
       "    var status_bar = $('<span class=\"mpl-message\"/>');\n",
       "    nav_element.append(status_bar);\n",
       "    this.message = status_bar[0];\n",
       "}\n",
       "\n",
       "mpl.figure.prototype.request_resize = function(x_pixels, y_pixels) {\n",
       "    // Request matplotlib to resize the figure. Matplotlib will then trigger a resize in the client,\n",
       "    // which will in turn request a refresh of the image.\n",
       "    this.send_message('resize', {'width': x_pixels, 'height': y_pixels});\n",
       "}\n",
       "\n",
       "mpl.figure.prototype.send_message = function(type, properties) {\n",
       "    properties['type'] = type;\n",
       "    properties['figure_id'] = this.id;\n",
       "    this.ws.send(JSON.stringify(properties));\n",
       "}\n",
       "\n",
       "mpl.figure.prototype.send_draw_message = function() {\n",
       "    if (!this.waiting) {\n",
       "        this.waiting = true;\n",
       "        this.ws.send(JSON.stringify({type: \"draw\", figure_id: this.id}));\n",
       "    }\n",
       "}\n",
       "\n",
       "\n",
       "mpl.figure.prototype.handle_save = function(fig, msg) {\n",
       "    var format_dropdown = fig.format_dropdown;\n",
       "    var format = format_dropdown.options[format_dropdown.selectedIndex].value;\n",
       "    fig.ondownload(fig, format);\n",
       "}\n",
       "\n",
       "\n",
       "mpl.figure.prototype.handle_resize = function(fig, msg) {\n",
       "    var size = msg['size'];\n",
       "    if (size[0] != fig.canvas.width || size[1] != fig.canvas.height) {\n",
       "        fig._resize_canvas(size[0], size[1]);\n",
       "        fig.send_message(\"refresh\", {});\n",
       "    };\n",
       "}\n",
       "\n",
       "mpl.figure.prototype.handle_rubberband = function(fig, msg) {\n",
       "    var x0 = msg['x0'];\n",
       "    var y0 = fig.canvas.height - msg['y0'];\n",
       "    var x1 = msg['x1'];\n",
       "    var y1 = fig.canvas.height - msg['y1'];\n",
       "    x0 = Math.floor(x0) + 0.5;\n",
       "    y0 = Math.floor(y0) + 0.5;\n",
       "    x1 = Math.floor(x1) + 0.5;\n",
       "    y1 = Math.floor(y1) + 0.5;\n",
       "    var min_x = Math.min(x0, x1);\n",
       "    var min_y = Math.min(y0, y1);\n",
       "    var width = Math.abs(x1 - x0);\n",
       "    var height = Math.abs(y1 - y0);\n",
       "\n",
       "    fig.rubberband_context.clearRect(\n",
       "        0, 0, fig.canvas.width, fig.canvas.height);\n",
       "\n",
       "    fig.rubberband_context.strokeRect(min_x, min_y, width, height);\n",
       "}\n",
       "\n",
       "mpl.figure.prototype.handle_figure_label = function(fig, msg) {\n",
       "    // Updates the figure title.\n",
       "    fig.header.textContent = msg['label'];\n",
       "}\n",
       "\n",
       "mpl.figure.prototype.handle_cursor = function(fig, msg) {\n",
       "    var cursor = msg['cursor'];\n",
       "    switch(cursor)\n",
       "    {\n",
       "    case 0:\n",
       "        cursor = 'pointer';\n",
       "        break;\n",
       "    case 1:\n",
       "        cursor = 'default';\n",
       "        break;\n",
       "    case 2:\n",
       "        cursor = 'crosshair';\n",
       "        break;\n",
       "    case 3:\n",
       "        cursor = 'move';\n",
       "        break;\n",
       "    }\n",
       "    fig.rubberband_canvas.style.cursor = cursor;\n",
       "}\n",
       "\n",
       "mpl.figure.prototype.handle_message = function(fig, msg) {\n",
       "    fig.message.textContent = msg['message'];\n",
       "}\n",
       "\n",
       "mpl.figure.prototype.handle_draw = function(fig, msg) {\n",
       "    // Request the server to send over a new figure.\n",
       "    fig.send_draw_message();\n",
       "}\n",
       "\n",
       "mpl.figure.prototype.handle_image_mode = function(fig, msg) {\n",
       "    fig.image_mode = msg['mode'];\n",
       "}\n",
       "\n",
       "mpl.figure.prototype.updated_canvas_event = function() {\n",
       "    // Called whenever the canvas gets updated.\n",
       "    this.send_message(\"ack\", {});\n",
       "}\n",
       "\n",
       "// A function to construct a web socket function for onmessage handling.\n",
       "// Called in the figure constructor.\n",
       "mpl.figure.prototype._make_on_message_function = function(fig) {\n",
       "    return function socket_on_message(evt) {\n",
       "        if (evt.data instanceof Blob) {\n",
       "            /* FIXME: We get \"Resource interpreted as Image but\n",
       "             * transferred with MIME type text/plain:\" errors on\n",
       "             * Chrome.  But how to set the MIME type?  It doesn't seem\n",
       "             * to be part of the websocket stream */\n",
       "            evt.data.type = \"image/png\";\n",
       "\n",
       "            /* Free the memory for the previous frames */\n",
       "            if (fig.imageObj.src) {\n",
       "                (window.URL || window.webkitURL).revokeObjectURL(\n",
       "                    fig.imageObj.src);\n",
       "            }\n",
       "\n",
       "            fig.imageObj.src = (window.URL || window.webkitURL).createObjectURL(\n",
       "                evt.data);\n",
       "            fig.updated_canvas_event();\n",
       "            fig.waiting = false;\n",
       "            return;\n",
       "        }\n",
       "        else if (typeof evt.data === 'string' && evt.data.slice(0, 21) == \"data:image/png;base64\") {\n",
       "            fig.imageObj.src = evt.data;\n",
       "            fig.updated_canvas_event();\n",
       "            fig.waiting = false;\n",
       "            return;\n",
       "        }\n",
       "\n",
       "        var msg = JSON.parse(evt.data);\n",
       "        var msg_type = msg['type'];\n",
       "\n",
       "        // Call the  \"handle_{type}\" callback, which takes\n",
       "        // the figure and JSON message as its only arguments.\n",
       "        try {\n",
       "            var callback = fig[\"handle_\" + msg_type];\n",
       "        } catch (e) {\n",
       "            console.log(\"No handler for the '\" + msg_type + \"' message type: \", msg);\n",
       "            return;\n",
       "        }\n",
       "\n",
       "        if (callback) {\n",
       "            try {\n",
       "                // console.log(\"Handling '\" + msg_type + \"' message: \", msg);\n",
       "                callback(fig, msg);\n",
       "            } catch (e) {\n",
       "                console.log(\"Exception inside the 'handler_\" + msg_type + \"' callback:\", e, e.stack, msg);\n",
       "            }\n",
       "        }\n",
       "    };\n",
       "}\n",
       "\n",
       "// from http://stackoverflow.com/questions/1114465/getting-mouse-location-in-canvas\n",
       "mpl.findpos = function(e) {\n",
       "    //this section is from http://www.quirksmode.org/js/events_properties.html\n",
       "    var targ;\n",
       "    if (!e)\n",
       "        e = window.event;\n",
       "    if (e.target)\n",
       "        targ = e.target;\n",
       "    else if (e.srcElement)\n",
       "        targ = e.srcElement;\n",
       "    if (targ.nodeType == 3) // defeat Safari bug\n",
       "        targ = targ.parentNode;\n",
       "\n",
       "    // jQuery normalizes the pageX and pageY\n",
       "    // pageX,Y are the mouse positions relative to the document\n",
       "    // offset() returns the position of the element relative to the document\n",
       "    var x = e.pageX - $(targ).offset().left;\n",
       "    var y = e.pageY - $(targ).offset().top;\n",
       "\n",
       "    return {\"x\": x, \"y\": y};\n",
       "};\n",
       "\n",
       "/*\n",
       " * return a copy of an object with only non-object keys\n",
       " * we need this to avoid circular references\n",
       " * http://stackoverflow.com/a/24161582/3208463\n",
       " */\n",
       "function simpleKeys (original) {\n",
       "  return Object.keys(original).reduce(function (obj, key) {\n",
       "    if (typeof original[key] !== 'object')\n",
       "        obj[key] = original[key]\n",
       "    return obj;\n",
       "  }, {});\n",
       "}\n",
       "\n",
       "mpl.figure.prototype.mouse_event = function(event, name) {\n",
       "    var canvas_pos = mpl.findpos(event)\n",
       "\n",
       "    if (name === 'button_press')\n",
       "    {\n",
       "        this.canvas.focus();\n",
       "        this.canvas_div.focus();\n",
       "    }\n",
       "\n",
       "    var x = canvas_pos.x;\n",
       "    var y = canvas_pos.y;\n",
       "\n",
       "    this.send_message(name, {x: x, y: y, button: event.button,\n",
       "                             step: event.step,\n",
       "                             guiEvent: simpleKeys(event)});\n",
       "\n",
       "    /* This prevents the web browser from automatically changing to\n",
       "     * the text insertion cursor when the button is pressed.  We want\n",
       "     * to control all of the cursor setting manually through the\n",
       "     * 'cursor' event from matplotlib */\n",
       "    event.preventDefault();\n",
       "    return false;\n",
       "}\n",
       "\n",
       "mpl.figure.prototype._key_event_extra = function(event, name) {\n",
       "    // Handle any extra behaviour associated with a key event\n",
       "}\n",
       "\n",
       "mpl.figure.prototype.key_event = function(event, name) {\n",
       "\n",
       "    // Prevent repeat events\n",
       "    if (name == 'key_press')\n",
       "    {\n",
       "        if (event.which === this._key)\n",
       "            return;\n",
       "        else\n",
       "            this._key = event.which;\n",
       "    }\n",
       "    if (name == 'key_release')\n",
       "        this._key = null;\n",
       "\n",
       "    var value = '';\n",
       "    if (event.ctrlKey && event.which != 17)\n",
       "        value += \"ctrl+\";\n",
       "    if (event.altKey && event.which != 18)\n",
       "        value += \"alt+\";\n",
       "    if (event.shiftKey && event.which != 16)\n",
       "        value += \"shift+\";\n",
       "\n",
       "    value += 'k';\n",
       "    value += event.which.toString();\n",
       "\n",
       "    this._key_event_extra(event, name);\n",
       "\n",
       "    this.send_message(name, {key: value,\n",
       "                             guiEvent: simpleKeys(event)});\n",
       "    return false;\n",
       "}\n",
       "\n",
       "mpl.figure.prototype.toolbar_button_onclick = function(name) {\n",
       "    if (name == 'download') {\n",
       "        this.handle_save(this, null);\n",
       "    } else {\n",
       "        this.send_message(\"toolbar_button\", {name: name});\n",
       "    }\n",
       "};\n",
       "\n",
       "mpl.figure.prototype.toolbar_button_onmouseover = function(tooltip) {\n",
       "    this.message.textContent = tooltip;\n",
       "};\n",
       "mpl.toolbar_items = [[\"Home\", \"Reset original view\", \"fa fa-home icon-home\", \"home\"], [\"Back\", \"Back to  previous view\", \"fa fa-arrow-left icon-arrow-left\", \"back\"], [\"Forward\", \"Forward to next view\", \"fa fa-arrow-right icon-arrow-right\", \"forward\"], [\"\", \"\", \"\", \"\"], [\"Pan\", \"Pan axes with left mouse, zoom with right\", \"fa fa-arrows icon-move\", \"pan\"], [\"Zoom\", \"Zoom to rectangle\", \"fa fa-square-o icon-check-empty\", \"zoom\"], [\"\", \"\", \"\", \"\"], [\"Download\", \"Download plot\", \"fa fa-floppy-o icon-save\", \"download\"]];\n",
       "\n",
       "mpl.extensions = [\"eps\", \"jpeg\", \"pdf\", \"png\", \"ps\", \"raw\", \"svg\", \"tif\"];\n",
       "\n",
       "mpl.default_extension = \"png\";var comm_websocket_adapter = function(comm) {\n",
       "    // Create a \"websocket\"-like object which calls the given IPython comm\n",
       "    // object with the appropriate methods. Currently this is a non binary\n",
       "    // socket, so there is still some room for performance tuning.\n",
       "    var ws = {};\n",
       "\n",
       "    ws.close = function() {\n",
       "        comm.close()\n",
       "    };\n",
       "    ws.send = function(m) {\n",
       "        //console.log('sending', m);\n",
       "        comm.send(m);\n",
       "    };\n",
       "    // Register the callback with on_msg.\n",
       "    comm.on_msg(function(msg) {\n",
       "        //console.log('receiving', msg['content']['data'], msg);\n",
       "        // Pass the mpl event to the overriden (by mpl) onmessage function.\n",
       "        ws.onmessage(msg['content']['data'])\n",
       "    });\n",
       "    return ws;\n",
       "}\n",
       "\n",
       "mpl.mpl_figure_comm = function(comm, msg) {\n",
       "    // This is the function which gets called when the mpl process\n",
       "    // starts-up an IPython Comm through the \"matplotlib\" channel.\n",
       "\n",
       "    var id = msg.content.data.id;\n",
       "    // Get hold of the div created by the display call when the Comm\n",
       "    // socket was opened in Python.\n",
       "    var element = $(\"#\" + id);\n",
       "    var ws_proxy = comm_websocket_adapter(comm)\n",
       "\n",
       "    function ondownload(figure, format) {\n",
       "        window.open(figure.imageObj.src);\n",
       "    }\n",
       "\n",
       "    var fig = new mpl.figure(id, ws_proxy,\n",
       "                           ondownload,\n",
       "                           element.get(0));\n",
       "\n",
       "    // Call onopen now - mpl needs it, as it is assuming we've passed it a real\n",
       "    // web socket which is closed, not our websocket->open comm proxy.\n",
       "    ws_proxy.onopen();\n",
       "\n",
       "    fig.parent_element = element.get(0);\n",
       "    fig.cell_info = mpl.find_output_cell(\"<div id='\" + id + \"'></div>\");\n",
       "    if (!fig.cell_info) {\n",
       "        console.error(\"Failed to find cell for figure\", id, fig);\n",
       "        return;\n",
       "    }\n",
       "\n",
       "    var output_index = fig.cell_info[2]\n",
       "    var cell = fig.cell_info[0];\n",
       "\n",
       "};\n",
       "\n",
       "mpl.figure.prototype.handle_close = function(fig, msg) {\n",
       "    fig.root.unbind('remove')\n",
       "\n",
       "    // Update the output cell to use the data from the current canvas.\n",
       "    fig.push_to_output();\n",
       "    var dataURL = fig.canvas.toDataURL();\n",
       "    // Re-enable the keyboard manager in IPython - without this line, in FF,\n",
       "    // the notebook keyboard shortcuts fail.\n",
       "    IPython.keyboard_manager.enable()\n",
       "    $(fig.parent_element).html('<img src=\"' + dataURL + '\">');\n",
       "    fig.close_ws(fig, msg);\n",
       "}\n",
       "\n",
       "mpl.figure.prototype.close_ws = function(fig, msg){\n",
       "    fig.send_message('closing', msg);\n",
       "    // fig.ws.close()\n",
       "}\n",
       "\n",
       "mpl.figure.prototype.push_to_output = function(remove_interactive) {\n",
       "    // Turn the data on the canvas into data in the output cell.\n",
       "    var dataURL = this.canvas.toDataURL();\n",
       "    this.cell_info[1]['text/html'] = '<img src=\"' + dataURL + '\">';\n",
       "}\n",
       "\n",
       "mpl.figure.prototype.updated_canvas_event = function() {\n",
       "    // Tell IPython that the notebook contents must change.\n",
       "    IPython.notebook.set_dirty(true);\n",
       "    this.send_message(\"ack\", {});\n",
       "    var fig = this;\n",
       "    // Wait a second, then push the new image to the DOM so\n",
       "    // that it is saved nicely (might be nice to debounce this).\n",
       "    setTimeout(function () { fig.push_to_output() }, 1000);\n",
       "}\n",
       "\n",
       "mpl.figure.prototype._init_toolbar = function() {\n",
       "    var fig = this;\n",
       "\n",
       "    var nav_element = $('<div/>')\n",
       "    nav_element.attr('style', 'width: 100%');\n",
       "    this.root.append(nav_element);\n",
       "\n",
       "    // Define a callback function for later on.\n",
       "    function toolbar_event(event) {\n",
       "        return fig.toolbar_button_onclick(event['data']);\n",
       "    }\n",
       "    function toolbar_mouse_event(event) {\n",
       "        return fig.toolbar_button_onmouseover(event['data']);\n",
       "    }\n",
       "\n",
       "    for(var toolbar_ind in mpl.toolbar_items){\n",
       "        var name = mpl.toolbar_items[toolbar_ind][0];\n",
       "        var tooltip = mpl.toolbar_items[toolbar_ind][1];\n",
       "        var image = mpl.toolbar_items[toolbar_ind][2];\n",
       "        var method_name = mpl.toolbar_items[toolbar_ind][3];\n",
       "\n",
       "        if (!name) { continue; };\n",
       "\n",
       "        var button = $('<button class=\"btn btn-default\" href=\"#\" title=\"' + name + '\"><i class=\"fa ' + image + ' fa-lg\"></i></button>');\n",
       "        button.click(method_name, toolbar_event);\n",
       "        button.mouseover(tooltip, toolbar_mouse_event);\n",
       "        nav_element.append(button);\n",
       "    }\n",
       "\n",
       "    // Add the status bar.\n",
       "    var status_bar = $('<span class=\"mpl-message\" style=\"text-align:right; float: right;\"/>');\n",
       "    nav_element.append(status_bar);\n",
       "    this.message = status_bar[0];\n",
       "\n",
       "    // Add the close button to the window.\n",
       "    var buttongrp = $('<div class=\"btn-group inline pull-right\"></div>');\n",
       "    var button = $('<button class=\"btn btn-mini btn-primary\" href=\"#\" title=\"Stop Interaction\"><i class=\"fa fa-power-off icon-remove icon-large\"></i></button>');\n",
       "    button.click(function (evt) { fig.handle_close(fig, {}); } );\n",
       "    button.mouseover('Stop Interaction', toolbar_mouse_event);\n",
       "    buttongrp.append(button);\n",
       "    var titlebar = this.root.find($('.ui-dialog-titlebar'));\n",
       "    titlebar.prepend(buttongrp);\n",
       "}\n",
       "\n",
       "mpl.figure.prototype._root_extra_style = function(el){\n",
       "    var fig = this\n",
       "    el.on(\"remove\", function(){\n",
       "\tfig.close_ws(fig, {});\n",
       "    });\n",
       "}\n",
       "\n",
       "mpl.figure.prototype._canvas_extra_style = function(el){\n",
       "    // this is important to make the div 'focusable\n",
       "    el.attr('tabindex', 0)\n",
       "    // reach out to IPython and tell the keyboard manager to turn it's self\n",
       "    // off when our div gets focus\n",
       "\n",
       "    // location in version 3\n",
       "    if (IPython.notebook.keyboard_manager) {\n",
       "        IPython.notebook.keyboard_manager.register_events(el);\n",
       "    }\n",
       "    else {\n",
       "        // location in version 2\n",
       "        IPython.keyboard_manager.register_events(el);\n",
       "    }\n",
       "\n",
       "}\n",
       "\n",
       "mpl.figure.prototype._key_event_extra = function(event, name) {\n",
       "    var manager = IPython.notebook.keyboard_manager;\n",
       "    if (!manager)\n",
       "        manager = IPython.keyboard_manager;\n",
       "\n",
       "    // Check for shift+enter\n",
       "    if (event.shiftKey && event.which == 13) {\n",
       "        this.canvas_div.blur();\n",
       "        // select the cell after this one\n",
       "        var index = IPython.notebook.find_cell_index(this.cell_info[0]);\n",
       "        IPython.notebook.select(index + 1);\n",
       "    }\n",
       "}\n",
       "\n",
       "mpl.figure.prototype.handle_save = function(fig, msg) {\n",
       "    fig.ondownload(fig, null);\n",
       "}\n",
       "\n",
       "\n",
       "mpl.find_output_cell = function(html_output) {\n",
       "    // Return the cell and output element which can be found *uniquely* in the notebook.\n",
       "    // Note - this is a bit hacky, but it is done because the \"notebook_saving.Notebook\"\n",
       "    // IPython event is triggered only after the cells have been serialised, which for\n",
       "    // our purposes (turning an active figure into a static one), is too late.\n",
       "    var cells = IPython.notebook.get_cells();\n",
       "    var ncells = cells.length;\n",
       "    for (var i=0; i<ncells; i++) {\n",
       "        var cell = cells[i];\n",
       "        if (cell.cell_type === 'code'){\n",
       "            for (var j=0; j<cell.output_area.outputs.length; j++) {\n",
       "                var data = cell.output_area.outputs[j];\n",
       "                if (data.data) {\n",
       "                    // IPython >= 3 moved mimebundle to data attribute of output\n",
       "                    data = data.data;\n",
       "                }\n",
       "                if (data['text/html'] == html_output) {\n",
       "                    return [cell, data, j];\n",
       "                }\n",
       "            }\n",
       "        }\n",
       "    }\n",
       "}\n",
       "\n",
       "// Register the function which deals with the matplotlib target/channel.\n",
       "// The kernel may be null if the page has been refreshed.\n",
       "if (IPython.notebook.kernel != null) {\n",
       "    IPython.notebook.kernel.comm_manager.register_target('matplotlib', mpl.mpl_figure_comm);\n",
       "}\n"
      ],
      "text/plain": [
       "<IPython.core.display.Javascript object>"
      ]
     },
     "metadata": {},
     "output_type": "display_data"
    },
    {
     "data": {
      "text/html": [
       "<img src=\"data:image/png;base64,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\">"
      ],
      "text/plain": [
       "<IPython.core.display.HTML object>"
      ]
     },
     "metadata": {},
     "output_type": "display_data"
    }
   ],
   "source": [
    "fig, (ax1, ax2)  = plt.subplots(1,2, sharey= True,figsize = (10,5)) # you can set the for fig\n",
    "#ax1.plot\n",
    "#ax2.plot"
   ]
  },
  {
   "cell_type": "code",
   "execution_count": 32,
   "metadata": {
    "collapsed": false
   },
   "outputs": [
    {
     "data": {
      "application/javascript": [
       "/* Put everything inside the global mpl namespace */\n",
       "window.mpl = {};\n",
       "\n",
       "mpl.get_websocket_type = function() {\n",
       "    if (typeof(WebSocket) !== 'undefined') {\n",
       "        return WebSocket;\n",
       "    } else if (typeof(MozWebSocket) !== 'undefined') {\n",
       "        return MozWebSocket;\n",
       "    } else {\n",
       "        alert('Your browser does not have WebSocket support.' +\n",
       "              'Please try Chrome, Safari or Firefox ≥ 6. ' +\n",
       "              'Firefox 4 and 5 are also supported but you ' +\n",
       "              'have to enable WebSockets in about:config.');\n",
       "    };\n",
       "}\n",
       "\n",
       "mpl.figure = function(figure_id, websocket, ondownload, parent_element) {\n",
       "    this.id = figure_id;\n",
       "\n",
       "    this.ws = websocket;\n",
       "\n",
       "    this.supports_binary = (this.ws.binaryType != undefined);\n",
       "\n",
       "    if (!this.supports_binary) {\n",
       "        var warnings = document.getElementById(\"mpl-warnings\");\n",
       "        if (warnings) {\n",
       "            warnings.style.display = 'block';\n",
       "            warnings.textContent = (\n",
       "                \"This browser does not support binary websocket messages. \" +\n",
       "                    \"Performance may be slow.\");\n",
       "        }\n",
       "    }\n",
       "\n",
       "    this.imageObj = new Image();\n",
       "\n",
       "    this.context = undefined;\n",
       "    this.message = undefined;\n",
       "    this.canvas = undefined;\n",
       "    this.rubberband_canvas = undefined;\n",
       "    this.rubberband_context = undefined;\n",
       "    this.format_dropdown = undefined;\n",
       "\n",
       "    this.image_mode = 'full';\n",
       "\n",
       "    this.root = $('<div/>');\n",
       "    this._root_extra_style(this.root)\n",
       "    this.root.attr('style', 'display: inline-block');\n",
       "\n",
       "    $(parent_element).append(this.root);\n",
       "\n",
       "    this._init_header(this);\n",
       "    this._init_canvas(this);\n",
       "    this._init_toolbar(this);\n",
       "\n",
       "    var fig = this;\n",
       "\n",
       "    this.waiting = false;\n",
       "\n",
       "    this.ws.onopen =  function () {\n",
       "            fig.send_message(\"supports_binary\", {value: fig.supports_binary});\n",
       "            fig.send_message(\"send_image_mode\", {});\n",
       "            fig.send_message(\"refresh\", {});\n",
       "        }\n",
       "\n",
       "    this.imageObj.onload = function() {\n",
       "            if (fig.image_mode == 'full') {\n",
       "                // Full images could contain transparency (where diff images\n",
       "                // almost always do), so we need to clear the canvas so that\n",
       "                // there is no ghosting.\n",
       "                fig.context.clearRect(0, 0, fig.canvas.width, fig.canvas.height);\n",
       "            }\n",
       "            fig.context.drawImage(fig.imageObj, 0, 0);\n",
       "        };\n",
       "\n",
       "    this.imageObj.onunload = function() {\n",
       "        this.ws.close();\n",
       "    }\n",
       "\n",
       "    this.ws.onmessage = this._make_on_message_function(this);\n",
       "\n",
       "    this.ondownload = ondownload;\n",
       "}\n",
       "\n",
       "mpl.figure.prototype._init_header = function() {\n",
       "    var titlebar = $(\n",
       "        '<div class=\"ui-dialog-titlebar ui-widget-header ui-corner-all ' +\n",
       "        'ui-helper-clearfix\"/>');\n",
       "    var titletext = $(\n",
       "        '<div class=\"ui-dialog-title\" style=\"width: 100%; ' +\n",
       "        'text-align: center; padding: 3px;\"/>');\n",
       "    titlebar.append(titletext)\n",
       "    this.root.append(titlebar);\n",
       "    this.header = titletext[0];\n",
       "}\n",
       "\n",
       "\n",
       "\n",
       "mpl.figure.prototype._canvas_extra_style = function(canvas_div) {\n",
       "\n",
       "}\n",
       "\n",
       "\n",
       "mpl.figure.prototype._root_extra_style = function(canvas_div) {\n",
       "\n",
       "}\n",
       "\n",
       "mpl.figure.prototype._init_canvas = function() {\n",
       "    var fig = this;\n",
       "\n",
       "    var canvas_div = $('<div/>');\n",
       "\n",
       "    canvas_div.attr('style', 'position: relative; clear: both; outline: 0');\n",
       "\n",
       "    function canvas_keyboard_event(event) {\n",
       "        return fig.key_event(event, event['data']);\n",
       "    }\n",
       "\n",
       "    canvas_div.keydown('key_press', canvas_keyboard_event);\n",
       "    canvas_div.keyup('key_release', canvas_keyboard_event);\n",
       "    this.canvas_div = canvas_div\n",
       "    this._canvas_extra_style(canvas_div)\n",
       "    this.root.append(canvas_div);\n",
       "\n",
       "    var canvas = $('<canvas/>');\n",
       "    canvas.addClass('mpl-canvas');\n",
       "    canvas.attr('style', \"left: 0; top: 0; z-index: 0; outline: 0\")\n",
       "\n",
       "    this.canvas = canvas[0];\n",
       "    this.context = canvas[0].getContext(\"2d\");\n",
       "\n",
       "    var rubberband = $('<canvas/>');\n",
       "    rubberband.attr('style', \"position: absolute; left: 0; top: 0; z-index: 1;\")\n",
       "\n",
       "    var pass_mouse_events = true;\n",
       "\n",
       "    canvas_div.resizable({\n",
       "        start: function(event, ui) {\n",
       "            pass_mouse_events = false;\n",
       "        },\n",
       "        resize: function(event, ui) {\n",
       "            fig.request_resize(ui.size.width, ui.size.height);\n",
       "        },\n",
       "        stop: function(event, ui) {\n",
       "            pass_mouse_events = true;\n",
       "            fig.request_resize(ui.size.width, ui.size.height);\n",
       "        },\n",
       "    });\n",
       "\n",
       "    function mouse_event_fn(event) {\n",
       "        if (pass_mouse_events)\n",
       "            return fig.mouse_event(event, event['data']);\n",
       "    }\n",
       "\n",
       "    rubberband.mousedown('button_press', mouse_event_fn);\n",
       "    rubberband.mouseup('button_release', mouse_event_fn);\n",
       "    // Throttle sequential mouse events to 1 every 20ms.\n",
       "    rubberband.mousemove('motion_notify', mouse_event_fn);\n",
       "\n",
       "    rubberband.mouseenter('figure_enter', mouse_event_fn);\n",
       "    rubberband.mouseleave('figure_leave', mouse_event_fn);\n",
       "\n",
       "    canvas_div.on(\"wheel\", function (event) {\n",
       "        event = event.originalEvent;\n",
       "        event['data'] = 'scroll'\n",
       "        if (event.deltaY < 0) {\n",
       "            event.step = 1;\n",
       "        } else {\n",
       "            event.step = -1;\n",
       "        }\n",
       "        mouse_event_fn(event);\n",
       "    });\n",
       "\n",
       "    canvas_div.append(canvas);\n",
       "    canvas_div.append(rubberband);\n",
       "\n",
       "    this.rubberband = rubberband;\n",
       "    this.rubberband_canvas = rubberband[0];\n",
       "    this.rubberband_context = rubberband[0].getContext(\"2d\");\n",
       "    this.rubberband_context.strokeStyle = \"#000000\";\n",
       "\n",
       "    this._resize_canvas = function(width, height) {\n",
       "        // Keep the size of the canvas, canvas container, and rubber band\n",
       "        // canvas in synch.\n",
       "        canvas_div.css('width', width)\n",
       "        canvas_div.css('height', height)\n",
       "\n",
       "        canvas.attr('width', width);\n",
       "        canvas.attr('height', height);\n",
       "\n",
       "        rubberband.attr('width', width);\n",
       "        rubberband.attr('height', height);\n",
       "    }\n",
       "\n",
       "    // Set the figure to an initial 600x600px, this will subsequently be updated\n",
       "    // upon first draw.\n",
       "    this._resize_canvas(600, 600);\n",
       "\n",
       "    // Disable right mouse context menu.\n",
       "    $(this.rubberband_canvas).bind(\"contextmenu\",function(e){\n",
       "        return false;\n",
       "    });\n",
       "\n",
       "    function set_focus () {\n",
       "        canvas.focus();\n",
       "        canvas_div.focus();\n",
       "    }\n",
       "\n",
       "    window.setTimeout(set_focus, 100);\n",
       "}\n",
       "\n",
       "mpl.figure.prototype._init_toolbar = function() {\n",
       "    var fig = this;\n",
       "\n",
       "    var nav_element = $('<div/>')\n",
       "    nav_element.attr('style', 'width: 100%');\n",
       "    this.root.append(nav_element);\n",
       "\n",
       "    // Define a callback function for later on.\n",
       "    function toolbar_event(event) {\n",
       "        return fig.toolbar_button_onclick(event['data']);\n",
       "    }\n",
       "    function toolbar_mouse_event(event) {\n",
       "        return fig.toolbar_button_onmouseover(event['data']);\n",
       "    }\n",
       "\n",
       "    for(var toolbar_ind in mpl.toolbar_items) {\n",
       "        var name = mpl.toolbar_items[toolbar_ind][0];\n",
       "        var tooltip = mpl.toolbar_items[toolbar_ind][1];\n",
       "        var image = mpl.toolbar_items[toolbar_ind][2];\n",
       "        var method_name = mpl.toolbar_items[toolbar_ind][3];\n",
       "\n",
       "        if (!name) {\n",
       "            // put a spacer in here.\n",
       "            continue;\n",
       "        }\n",
       "        var button = $('<button/>');\n",
       "        button.addClass('ui-button ui-widget ui-state-default ui-corner-all ' +\n",
       "                        'ui-button-icon-only');\n",
       "        button.attr('role', 'button');\n",
       "        button.attr('aria-disabled', 'false');\n",
       "        button.click(method_name, toolbar_event);\n",
       "        button.mouseover(tooltip, toolbar_mouse_event);\n",
       "\n",
       "        var icon_img = $('<span/>');\n",
       "        icon_img.addClass('ui-button-icon-primary ui-icon');\n",
       "        icon_img.addClass(image);\n",
       "        icon_img.addClass('ui-corner-all');\n",
       "\n",
       "        var tooltip_span = $('<span/>');\n",
       "        tooltip_span.addClass('ui-button-text');\n",
       "        tooltip_span.html(tooltip);\n",
       "\n",
       "        button.append(icon_img);\n",
       "        button.append(tooltip_span);\n",
       "\n",
       "        nav_element.append(button);\n",
       "    }\n",
       "\n",
       "    var fmt_picker_span = $('<span/>');\n",
       "\n",
       "    var fmt_picker = $('<select/>');\n",
       "    fmt_picker.addClass('mpl-toolbar-option ui-widget ui-widget-content');\n",
       "    fmt_picker_span.append(fmt_picker);\n",
       "    nav_element.append(fmt_picker_span);\n",
       "    this.format_dropdown = fmt_picker[0];\n",
       "\n",
       "    for (var ind in mpl.extensions) {\n",
       "        var fmt = mpl.extensions[ind];\n",
       "        var option = $(\n",
       "            '<option/>', {selected: fmt === mpl.default_extension}).html(fmt);\n",
       "        fmt_picker.append(option)\n",
       "    }\n",
       "\n",
       "    // Add hover states to the ui-buttons\n",
       "    $( \".ui-button\" ).hover(\n",
       "        function() { $(this).addClass(\"ui-state-hover\");},\n",
       "        function() { $(this).removeClass(\"ui-state-hover\");}\n",
       "    );\n",
       "\n",
       "    var status_bar = $('<span class=\"mpl-message\"/>');\n",
       "    nav_element.append(status_bar);\n",
       "    this.message = status_bar[0];\n",
       "}\n",
       "\n",
       "mpl.figure.prototype.request_resize = function(x_pixels, y_pixels) {\n",
       "    // Request matplotlib to resize the figure. Matplotlib will then trigger a resize in the client,\n",
       "    // which will in turn request a refresh of the image.\n",
       "    this.send_message('resize', {'width': x_pixels, 'height': y_pixels});\n",
       "}\n",
       "\n",
       "mpl.figure.prototype.send_message = function(type, properties) {\n",
       "    properties['type'] = type;\n",
       "    properties['figure_id'] = this.id;\n",
       "    this.ws.send(JSON.stringify(properties));\n",
       "}\n",
       "\n",
       "mpl.figure.prototype.send_draw_message = function() {\n",
       "    if (!this.waiting) {\n",
       "        this.waiting = true;\n",
       "        this.ws.send(JSON.stringify({type: \"draw\", figure_id: this.id}));\n",
       "    }\n",
       "}\n",
       "\n",
       "\n",
       "mpl.figure.prototype.handle_save = function(fig, msg) {\n",
       "    var format_dropdown = fig.format_dropdown;\n",
       "    var format = format_dropdown.options[format_dropdown.selectedIndex].value;\n",
       "    fig.ondownload(fig, format);\n",
       "}\n",
       "\n",
       "\n",
       "mpl.figure.prototype.handle_resize = function(fig, msg) {\n",
       "    var size = msg['size'];\n",
       "    if (size[0] != fig.canvas.width || size[1] != fig.canvas.height) {\n",
       "        fig._resize_canvas(size[0], size[1]);\n",
       "        fig.send_message(\"refresh\", {});\n",
       "    };\n",
       "}\n",
       "\n",
       "mpl.figure.prototype.handle_rubberband = function(fig, msg) {\n",
       "    var x0 = msg['x0'];\n",
       "    var y0 = fig.canvas.height - msg['y0'];\n",
       "    var x1 = msg['x1'];\n",
       "    var y1 = fig.canvas.height - msg['y1'];\n",
       "    x0 = Math.floor(x0) + 0.5;\n",
       "    y0 = Math.floor(y0) + 0.5;\n",
       "    x1 = Math.floor(x1) + 0.5;\n",
       "    y1 = Math.floor(y1) + 0.5;\n",
       "    var min_x = Math.min(x0, x1);\n",
       "    var min_y = Math.min(y0, y1);\n",
       "    var width = Math.abs(x1 - x0);\n",
       "    var height = Math.abs(y1 - y0);\n",
       "\n",
       "    fig.rubberband_context.clearRect(\n",
       "        0, 0, fig.canvas.width, fig.canvas.height);\n",
       "\n",
       "    fig.rubberband_context.strokeRect(min_x, min_y, width, height);\n",
       "}\n",
       "\n",
       "mpl.figure.prototype.handle_figure_label = function(fig, msg) {\n",
       "    // Updates the figure title.\n",
       "    fig.header.textContent = msg['label'];\n",
       "}\n",
       "\n",
       "mpl.figure.prototype.handle_cursor = function(fig, msg) {\n",
       "    var cursor = msg['cursor'];\n",
       "    switch(cursor)\n",
       "    {\n",
       "    case 0:\n",
       "        cursor = 'pointer';\n",
       "        break;\n",
       "    case 1:\n",
       "        cursor = 'default';\n",
       "        break;\n",
       "    case 2:\n",
       "        cursor = 'crosshair';\n",
       "        break;\n",
       "    case 3:\n",
       "        cursor = 'move';\n",
       "        break;\n",
       "    }\n",
       "    fig.rubberband_canvas.style.cursor = cursor;\n",
       "}\n",
       "\n",
       "mpl.figure.prototype.handle_message = function(fig, msg) {\n",
       "    fig.message.textContent = msg['message'];\n",
       "}\n",
       "\n",
       "mpl.figure.prototype.handle_draw = function(fig, msg) {\n",
       "    // Request the server to send over a new figure.\n",
       "    fig.send_draw_message();\n",
       "}\n",
       "\n",
       "mpl.figure.prototype.handle_image_mode = function(fig, msg) {\n",
       "    fig.image_mode = msg['mode'];\n",
       "}\n",
       "\n",
       "mpl.figure.prototype.updated_canvas_event = function() {\n",
       "    // Called whenever the canvas gets updated.\n",
       "    this.send_message(\"ack\", {});\n",
       "}\n",
       "\n",
       "// A function to construct a web socket function for onmessage handling.\n",
       "// Called in the figure constructor.\n",
       "mpl.figure.prototype._make_on_message_function = function(fig) {\n",
       "    return function socket_on_message(evt) {\n",
       "        if (evt.data instanceof Blob) {\n",
       "            /* FIXME: We get \"Resource interpreted as Image but\n",
       "             * transferred with MIME type text/plain:\" errors on\n",
       "             * Chrome.  But how to set the MIME type?  It doesn't seem\n",
       "             * to be part of the websocket stream */\n",
       "            evt.data.type = \"image/png\";\n",
       "\n",
       "            /* Free the memory for the previous frames */\n",
       "            if (fig.imageObj.src) {\n",
       "                (window.URL || window.webkitURL).revokeObjectURL(\n",
       "                    fig.imageObj.src);\n",
       "            }\n",
       "\n",
       "            fig.imageObj.src = (window.URL || window.webkitURL).createObjectURL(\n",
       "                evt.data);\n",
       "            fig.updated_canvas_event();\n",
       "            fig.waiting = false;\n",
       "            return;\n",
       "        }\n",
       "        else if (typeof evt.data === 'string' && evt.data.slice(0, 21) == \"data:image/png;base64\") {\n",
       "            fig.imageObj.src = evt.data;\n",
       "            fig.updated_canvas_event();\n",
       "            fig.waiting = false;\n",
       "            return;\n",
       "        }\n",
       "\n",
       "        var msg = JSON.parse(evt.data);\n",
       "        var msg_type = msg['type'];\n",
       "\n",
       "        // Call the  \"handle_{type}\" callback, which takes\n",
       "        // the figure and JSON message as its only arguments.\n",
       "        try {\n",
       "            var callback = fig[\"handle_\" + msg_type];\n",
       "        } catch (e) {\n",
       "            console.log(\"No handler for the '\" + msg_type + \"' message type: \", msg);\n",
       "            return;\n",
       "        }\n",
       "\n",
       "        if (callback) {\n",
       "            try {\n",
       "                // console.log(\"Handling '\" + msg_type + \"' message: \", msg);\n",
       "                callback(fig, msg);\n",
       "            } catch (e) {\n",
       "                console.log(\"Exception inside the 'handler_\" + msg_type + \"' callback:\", e, e.stack, msg);\n",
       "            }\n",
       "        }\n",
       "    };\n",
       "}\n",
       "\n",
       "// from http://stackoverflow.com/questions/1114465/getting-mouse-location-in-canvas\n",
       "mpl.findpos = function(e) {\n",
       "    //this section is from http://www.quirksmode.org/js/events_properties.html\n",
       "    var targ;\n",
       "    if (!e)\n",
       "        e = window.event;\n",
       "    if (e.target)\n",
       "        targ = e.target;\n",
       "    else if (e.srcElement)\n",
       "        targ = e.srcElement;\n",
       "    if (targ.nodeType == 3) // defeat Safari bug\n",
       "        targ = targ.parentNode;\n",
       "\n",
       "    // jQuery normalizes the pageX and pageY\n",
       "    // pageX,Y are the mouse positions relative to the document\n",
       "    // offset() returns the position of the element relative to the document\n",
       "    var x = e.pageX - $(targ).offset().left;\n",
       "    var y = e.pageY - $(targ).offset().top;\n",
       "\n",
       "    return {\"x\": x, \"y\": y};\n",
       "};\n",
       "\n",
       "/*\n",
       " * return a copy of an object with only non-object keys\n",
       " * we need this to avoid circular references\n",
       " * http://stackoverflow.com/a/24161582/3208463\n",
       " */\n",
       "function simpleKeys (original) {\n",
       "  return Object.keys(original).reduce(function (obj, key) {\n",
       "    if (typeof original[key] !== 'object')\n",
       "        obj[key] = original[key]\n",
       "    return obj;\n",
       "  }, {});\n",
       "}\n",
       "\n",
       "mpl.figure.prototype.mouse_event = function(event, name) {\n",
       "    var canvas_pos = mpl.findpos(event)\n",
       "\n",
       "    if (name === 'button_press')\n",
       "    {\n",
       "        this.canvas.focus();\n",
       "        this.canvas_div.focus();\n",
       "    }\n",
       "\n",
       "    var x = canvas_pos.x;\n",
       "    var y = canvas_pos.y;\n",
       "\n",
       "    this.send_message(name, {x: x, y: y, button: event.button,\n",
       "                             step: event.step,\n",
       "                             guiEvent: simpleKeys(event)});\n",
       "\n",
       "    /* This prevents the web browser from automatically changing to\n",
       "     * the text insertion cursor when the button is pressed.  We want\n",
       "     * to control all of the cursor setting manually through the\n",
       "     * 'cursor' event from matplotlib */\n",
       "    event.preventDefault();\n",
       "    return false;\n",
       "}\n",
       "\n",
       "mpl.figure.prototype._key_event_extra = function(event, name) {\n",
       "    // Handle any extra behaviour associated with a key event\n",
       "}\n",
       "\n",
       "mpl.figure.prototype.key_event = function(event, name) {\n",
       "\n",
       "    // Prevent repeat events\n",
       "    if (name == 'key_press')\n",
       "    {\n",
       "        if (event.which === this._key)\n",
       "            return;\n",
       "        else\n",
       "            this._key = event.which;\n",
       "    }\n",
       "    if (name == 'key_release')\n",
       "        this._key = null;\n",
       "\n",
       "    var value = '';\n",
       "    if (event.ctrlKey && event.which != 17)\n",
       "        value += \"ctrl+\";\n",
       "    if (event.altKey && event.which != 18)\n",
       "        value += \"alt+\";\n",
       "    if (event.shiftKey && event.which != 16)\n",
       "        value += \"shift+\";\n",
       "\n",
       "    value += 'k';\n",
       "    value += event.which.toString();\n",
       "\n",
       "    this._key_event_extra(event, name);\n",
       "\n",
       "    this.send_message(name, {key: value,\n",
       "                             guiEvent: simpleKeys(event)});\n",
       "    return false;\n",
       "}\n",
       "\n",
       "mpl.figure.prototype.toolbar_button_onclick = function(name) {\n",
       "    if (name == 'download') {\n",
       "        this.handle_save(this, null);\n",
       "    } else {\n",
       "        this.send_message(\"toolbar_button\", {name: name});\n",
       "    }\n",
       "};\n",
       "\n",
       "mpl.figure.prototype.toolbar_button_onmouseover = function(tooltip) {\n",
       "    this.message.textContent = tooltip;\n",
       "};\n",
       "mpl.toolbar_items = [[\"Home\", \"Reset original view\", \"fa fa-home icon-home\", \"home\"], [\"Back\", \"Back to  previous view\", \"fa fa-arrow-left icon-arrow-left\", \"back\"], [\"Forward\", \"Forward to next view\", \"fa fa-arrow-right icon-arrow-right\", \"forward\"], [\"\", \"\", \"\", \"\"], [\"Pan\", \"Pan axes with left mouse, zoom with right\", \"fa fa-arrows icon-move\", \"pan\"], [\"Zoom\", \"Zoom to rectangle\", \"fa fa-square-o icon-check-empty\", \"zoom\"], [\"\", \"\", \"\", \"\"], [\"Download\", \"Download plot\", \"fa fa-floppy-o icon-save\", \"download\"]];\n",
       "\n",
       "mpl.extensions = [\"eps\", \"jpeg\", \"pdf\", \"png\", \"ps\", \"raw\", \"svg\", \"tif\"];\n",
       "\n",
       "mpl.default_extension = \"png\";var comm_websocket_adapter = function(comm) {\n",
       "    // Create a \"websocket\"-like object which calls the given IPython comm\n",
       "    // object with the appropriate methods. Currently this is a non binary\n",
       "    // socket, so there is still some room for performance tuning.\n",
       "    var ws = {};\n",
       "\n",
       "    ws.close = function() {\n",
       "        comm.close()\n",
       "    };\n",
       "    ws.send = function(m) {\n",
       "        //console.log('sending', m);\n",
       "        comm.send(m);\n",
       "    };\n",
       "    // Register the callback with on_msg.\n",
       "    comm.on_msg(function(msg) {\n",
       "        //console.log('receiving', msg['content']['data'], msg);\n",
       "        // Pass the mpl event to the overriden (by mpl) onmessage function.\n",
       "        ws.onmessage(msg['content']['data'])\n",
       "    });\n",
       "    return ws;\n",
       "}\n",
       "\n",
       "mpl.mpl_figure_comm = function(comm, msg) {\n",
       "    // This is the function which gets called when the mpl process\n",
       "    // starts-up an IPython Comm through the \"matplotlib\" channel.\n",
       "\n",
       "    var id = msg.content.data.id;\n",
       "    // Get hold of the div created by the display call when the Comm\n",
       "    // socket was opened in Python.\n",
       "    var element = $(\"#\" + id);\n",
       "    var ws_proxy = comm_websocket_adapter(comm)\n",
       "\n",
       "    function ondownload(figure, format) {\n",
       "        window.open(figure.imageObj.src);\n",
       "    }\n",
       "\n",
       "    var fig = new mpl.figure(id, ws_proxy,\n",
       "                           ondownload,\n",
       "                           element.get(0));\n",
       "\n",
       "    // Call onopen now - mpl needs it, as it is assuming we've passed it a real\n",
       "    // web socket which is closed, not our websocket->open comm proxy.\n",
       "    ws_proxy.onopen();\n",
       "\n",
       "    fig.parent_element = element.get(0);\n",
       "    fig.cell_info = mpl.find_output_cell(\"<div id='\" + id + \"'></div>\");\n",
       "    if (!fig.cell_info) {\n",
       "        console.error(\"Failed to find cell for figure\", id, fig);\n",
       "        return;\n",
       "    }\n",
       "\n",
       "    var output_index = fig.cell_info[2]\n",
       "    var cell = fig.cell_info[0];\n",
       "\n",
       "};\n",
       "\n",
       "mpl.figure.prototype.handle_close = function(fig, msg) {\n",
       "    fig.root.unbind('remove')\n",
       "\n",
       "    // Update the output cell to use the data from the current canvas.\n",
       "    fig.push_to_output();\n",
       "    var dataURL = fig.canvas.toDataURL();\n",
       "    // Re-enable the keyboard manager in IPython - without this line, in FF,\n",
       "    // the notebook keyboard shortcuts fail.\n",
       "    IPython.keyboard_manager.enable()\n",
       "    $(fig.parent_element).html('<img src=\"' + dataURL + '\">');\n",
       "    fig.close_ws(fig, msg);\n",
       "}\n",
       "\n",
       "mpl.figure.prototype.close_ws = function(fig, msg){\n",
       "    fig.send_message('closing', msg);\n",
       "    // fig.ws.close()\n",
       "}\n",
       "\n",
       "mpl.figure.prototype.push_to_output = function(remove_interactive) {\n",
       "    // Turn the data on the canvas into data in the output cell.\n",
       "    var dataURL = this.canvas.toDataURL();\n",
       "    this.cell_info[1]['text/html'] = '<img src=\"' + dataURL + '\">';\n",
       "}\n",
       "\n",
       "mpl.figure.prototype.updated_canvas_event = function() {\n",
       "    // Tell IPython that the notebook contents must change.\n",
       "    IPython.notebook.set_dirty(true);\n",
       "    this.send_message(\"ack\", {});\n",
       "    var fig = this;\n",
       "    // Wait a second, then push the new image to the DOM so\n",
       "    // that it is saved nicely (might be nice to debounce this).\n",
       "    setTimeout(function () { fig.push_to_output() }, 1000);\n",
       "}\n",
       "\n",
       "mpl.figure.prototype._init_toolbar = function() {\n",
       "    var fig = this;\n",
       "\n",
       "    var nav_element = $('<div/>')\n",
       "    nav_element.attr('style', 'width: 100%');\n",
       "    this.root.append(nav_element);\n",
       "\n",
       "    // Define a callback function for later on.\n",
       "    function toolbar_event(event) {\n",
       "        return fig.toolbar_button_onclick(event['data']);\n",
       "    }\n",
       "    function toolbar_mouse_event(event) {\n",
       "        return fig.toolbar_button_onmouseover(event['data']);\n",
       "    }\n",
       "\n",
       "    for(var toolbar_ind in mpl.toolbar_items){\n",
       "        var name = mpl.toolbar_items[toolbar_ind][0];\n",
       "        var tooltip = mpl.toolbar_items[toolbar_ind][1];\n",
       "        var image = mpl.toolbar_items[toolbar_ind][2];\n",
       "        var method_name = mpl.toolbar_items[toolbar_ind][3];\n",
       "\n",
       "        if (!name) { continue; };\n",
       "\n",
       "        var button = $('<button class=\"btn btn-default\" href=\"#\" title=\"' + name + '\"><i class=\"fa ' + image + ' fa-lg\"></i></button>');\n",
       "        button.click(method_name, toolbar_event);\n",
       "        button.mouseover(tooltip, toolbar_mouse_event);\n",
       "        nav_element.append(button);\n",
       "    }\n",
       "\n",
       "    // Add the status bar.\n",
       "    var status_bar = $('<span class=\"mpl-message\" style=\"text-align:right; float: right;\"/>');\n",
       "    nav_element.append(status_bar);\n",
       "    this.message = status_bar[0];\n",
       "\n",
       "    // Add the close button to the window.\n",
       "    var buttongrp = $('<div class=\"btn-group inline pull-right\"></div>');\n",
       "    var button = $('<button class=\"btn btn-mini btn-primary\" href=\"#\" title=\"Stop Interaction\"><i class=\"fa fa-power-off icon-remove icon-large\"></i></button>');\n",
       "    button.click(function (evt) { fig.handle_close(fig, {}); } );\n",
       "    button.mouseover('Stop Interaction', toolbar_mouse_event);\n",
       "    buttongrp.append(button);\n",
       "    var titlebar = this.root.find($('.ui-dialog-titlebar'));\n",
       "    titlebar.prepend(buttongrp);\n",
       "}\n",
       "\n",
       "mpl.figure.prototype._root_extra_style = function(el){\n",
       "    var fig = this\n",
       "    el.on(\"remove\", function(){\n",
       "\tfig.close_ws(fig, {});\n",
       "    });\n",
       "}\n",
       "\n",
       "mpl.figure.prototype._canvas_extra_style = function(el){\n",
       "    // this is important to make the div 'focusable\n",
       "    el.attr('tabindex', 0)\n",
       "    // reach out to IPython and tell the keyboard manager to turn it's self\n",
       "    // off when our div gets focus\n",
       "\n",
       "    // location in version 3\n",
       "    if (IPython.notebook.keyboard_manager) {\n",
       "        IPython.notebook.keyboard_manager.register_events(el);\n",
       "    }\n",
       "    else {\n",
       "        // location in version 2\n",
       "        IPython.keyboard_manager.register_events(el);\n",
       "    }\n",
       "\n",
       "}\n",
       "\n",
       "mpl.figure.prototype._key_event_extra = function(event, name) {\n",
       "    var manager = IPython.notebook.keyboard_manager;\n",
       "    if (!manager)\n",
       "        manager = IPython.keyboard_manager;\n",
       "\n",
       "    // Check for shift+enter\n",
       "    if (event.shiftKey && event.which == 13) {\n",
       "        this.canvas_div.blur();\n",
       "        // select the cell after this one\n",
       "        var index = IPython.notebook.find_cell_index(this.cell_info[0]);\n",
       "        IPython.notebook.select(index + 1);\n",
       "    }\n",
       "}\n",
       "\n",
       "mpl.figure.prototype.handle_save = function(fig, msg) {\n",
       "    fig.ondownload(fig, null);\n",
       "}\n",
       "\n",
       "\n",
       "mpl.find_output_cell = function(html_output) {\n",
       "    // Return the cell and output element which can be found *uniquely* in the notebook.\n",
       "    // Note - this is a bit hacky, but it is done because the \"notebook_saving.Notebook\"\n",
       "    // IPython event is triggered only after the cells have been serialised, which for\n",
       "    // our purposes (turning an active figure into a static one), is too late.\n",
       "    var cells = IPython.notebook.get_cells();\n",
       "    var ncells = cells.length;\n",
       "    for (var i=0; i<ncells; i++) {\n",
       "        var cell = cells[i];\n",
       "        if (cell.cell_type === 'code'){\n",
       "            for (var j=0; j<cell.output_area.outputs.length; j++) {\n",
       "                var data = cell.output_area.outputs[j];\n",
       "                if (data.data) {\n",
       "                    // IPython >= 3 moved mimebundle to data attribute of output\n",
       "                    data = data.data;\n",
       "                }\n",
       "                if (data['text/html'] == html_output) {\n",
       "                    return [cell, data, j];\n",
       "                }\n",
       "            }\n",
       "        }\n",
       "    }\n",
       "}\n",
       "\n",
       "// Register the function which deals with the matplotlib target/channel.\n",
       "// The kernel may be null if the page has been refreshed.\n",
       "if (IPython.notebook.kernel != null) {\n",
       "    IPython.notebook.kernel.comm_manager.register_target('matplotlib', mpl.mpl_figure_comm);\n",
       "}\n"
      ],
      "text/plain": [
       "<IPython.core.display.Javascript object>"
      ]
     },
     "metadata": {},
     "output_type": "display_data"
    },
    {
     "data": {
      "text/html": [
       "<img src=\"data:image/png;base64,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\">"
      ],
      "text/plain": [
       "<IPython.core.display.HTML object>"
      ]
     },
     "metadata": {},
     "output_type": "display_data"
    }
   ],
   "source": [
    "fig, ax  = plt.subplots(2,1, sharex= True,figsize = (10,20)) # you can set the for fig\n",
    "#ax[0].plot\n",
    "#ax[1].plot"
   ]
  },
  {
   "cell_type": "markdown",
   "metadata": {},
   "source": [
    "### Question 2 \n",
    "#### (a)\n",
    "\n",
    "Plot the two **indirect functions** (note:  the **price has to be on the y-axis**)."
   ]
  },
  {
   "cell_type": "code",
   "execution_count": 24,
   "metadata": {
    "collapsed": true
   },
   "outputs": [],
   "source": [
    "def demand(p, a, e):\n",
    "    return a*p**e\n",
    "def indirectDemand(q,a,e):\n",
    "    return (q/a)**(1/e)    "
   ]
  },
  {
   "cell_type": "code",
   "execution_count": 31,
   "metadata": {
    "collapsed": false
   },
   "outputs": [
    {
     "data": {
      "application/javascript": [
       "/* Put everything inside the global mpl namespace */\n",
       "window.mpl = {};\n",
       "\n",
       "mpl.get_websocket_type = function() {\n",
       "    if (typeof(WebSocket) !== 'undefined') {\n",
       "        return WebSocket;\n",
       "    } else if (typeof(MozWebSocket) !== 'undefined') {\n",
       "        return MozWebSocket;\n",
       "    } else {\n",
       "        alert('Your browser does not have WebSocket support.' +\n",
       "              'Please try Chrome, Safari or Firefox ≥ 6. ' +\n",
       "              'Firefox 4 and 5 are also supported but you ' +\n",
       "              'have to enable WebSockets in about:config.');\n",
       "    };\n",
       "}\n",
       "\n",
       "mpl.figure = function(figure_id, websocket, ondownload, parent_element) {\n",
       "    this.id = figure_id;\n",
       "\n",
       "    this.ws = websocket;\n",
       "\n",
       "    this.supports_binary = (this.ws.binaryType != undefined);\n",
       "\n",
       "    if (!this.supports_binary) {\n",
       "        var warnings = document.getElementById(\"mpl-warnings\");\n",
       "        if (warnings) {\n",
       "            warnings.style.display = 'block';\n",
       "            warnings.textContent = (\n",
       "                \"This browser does not support binary websocket messages. \" +\n",
       "                    \"Performance may be slow.\");\n",
       "        }\n",
       "    }\n",
       "\n",
       "    this.imageObj = new Image();\n",
       "\n",
       "    this.context = undefined;\n",
       "    this.message = undefined;\n",
       "    this.canvas = undefined;\n",
       "    this.rubberband_canvas = undefined;\n",
       "    this.rubberband_context = undefined;\n",
       "    this.format_dropdown = undefined;\n",
       "\n",
       "    this.image_mode = 'full';\n",
       "\n",
       "    this.root = $('<div/>');\n",
       "    this._root_extra_style(this.root)\n",
       "    this.root.attr('style', 'display: inline-block');\n",
       "\n",
       "    $(parent_element).append(this.root);\n",
       "\n",
       "    this._init_header(this);\n",
       "    this._init_canvas(this);\n",
       "    this._init_toolbar(this);\n",
       "\n",
       "    var fig = this;\n",
       "\n",
       "    this.waiting = false;\n",
       "\n",
       "    this.ws.onopen =  function () {\n",
       "            fig.send_message(\"supports_binary\", {value: fig.supports_binary});\n",
       "            fig.send_message(\"send_image_mode\", {});\n",
       "            fig.send_message(\"refresh\", {});\n",
       "        }\n",
       "\n",
       "    this.imageObj.onload = function() {\n",
       "            if (fig.image_mode == 'full') {\n",
       "                // Full images could contain transparency (where diff images\n",
       "                // almost always do), so we need to clear the canvas so that\n",
       "                // there is no ghosting.\n",
       "                fig.context.clearRect(0, 0, fig.canvas.width, fig.canvas.height);\n",
       "            }\n",
       "            fig.context.drawImage(fig.imageObj, 0, 0);\n",
       "        };\n",
       "\n",
       "    this.imageObj.onunload = function() {\n",
       "        this.ws.close();\n",
       "    }\n",
       "\n",
       "    this.ws.onmessage = this._make_on_message_function(this);\n",
       "\n",
       "    this.ondownload = ondownload;\n",
       "}\n",
       "\n",
       "mpl.figure.prototype._init_header = function() {\n",
       "    var titlebar = $(\n",
       "        '<div class=\"ui-dialog-titlebar ui-widget-header ui-corner-all ' +\n",
       "        'ui-helper-clearfix\"/>');\n",
       "    var titletext = $(\n",
       "        '<div class=\"ui-dialog-title\" style=\"width: 100%; ' +\n",
       "        'text-align: center; padding: 3px;\"/>');\n",
       "    titlebar.append(titletext)\n",
       "    this.root.append(titlebar);\n",
       "    this.header = titletext[0];\n",
       "}\n",
       "\n",
       "\n",
       "\n",
       "mpl.figure.prototype._canvas_extra_style = function(canvas_div) {\n",
       "\n",
       "}\n",
       "\n",
       "\n",
       "mpl.figure.prototype._root_extra_style = function(canvas_div) {\n",
       "\n",
       "}\n",
       "\n",
       "mpl.figure.prototype._init_canvas = function() {\n",
       "    var fig = this;\n",
       "\n",
       "    var canvas_div = $('<div/>');\n",
       "\n",
       "    canvas_div.attr('style', 'position: relative; clear: both; outline: 0');\n",
       "\n",
       "    function canvas_keyboard_event(event) {\n",
       "        return fig.key_event(event, event['data']);\n",
       "    }\n",
       "\n",
       "    canvas_div.keydown('key_press', canvas_keyboard_event);\n",
       "    canvas_div.keyup('key_release', canvas_keyboard_event);\n",
       "    this.canvas_div = canvas_div\n",
       "    this._canvas_extra_style(canvas_div)\n",
       "    this.root.append(canvas_div);\n",
       "\n",
       "    var canvas = $('<canvas/>');\n",
       "    canvas.addClass('mpl-canvas');\n",
       "    canvas.attr('style', \"left: 0; top: 0; z-index: 0; outline: 0\")\n",
       "\n",
       "    this.canvas = canvas[0];\n",
       "    this.context = canvas[0].getContext(\"2d\");\n",
       "\n",
       "    var rubberband = $('<canvas/>');\n",
       "    rubberband.attr('style', \"position: absolute; left: 0; top: 0; z-index: 1;\")\n",
       "\n",
       "    var pass_mouse_events = true;\n",
       "\n",
       "    canvas_div.resizable({\n",
       "        start: function(event, ui) {\n",
       "            pass_mouse_events = false;\n",
       "        },\n",
       "        resize: function(event, ui) {\n",
       "            fig.request_resize(ui.size.width, ui.size.height);\n",
       "        },\n",
       "        stop: function(event, ui) {\n",
       "            pass_mouse_events = true;\n",
       "            fig.request_resize(ui.size.width, ui.size.height);\n",
       "        },\n",
       "    });\n",
       "\n",
       "    function mouse_event_fn(event) {\n",
       "        if (pass_mouse_events)\n",
       "            return fig.mouse_event(event, event['data']);\n",
       "    }\n",
       "\n",
       "    rubberband.mousedown('button_press', mouse_event_fn);\n",
       "    rubberband.mouseup('button_release', mouse_event_fn);\n",
       "    // Throttle sequential mouse events to 1 every 20ms.\n",
       "    rubberband.mousemove('motion_notify', mouse_event_fn);\n",
       "\n",
       "    rubberband.mouseenter('figure_enter', mouse_event_fn);\n",
       "    rubberband.mouseleave('figure_leave', mouse_event_fn);\n",
       "\n",
       "    canvas_div.on(\"wheel\", function (event) {\n",
       "        event = event.originalEvent;\n",
       "        event['data'] = 'scroll'\n",
       "        if (event.deltaY < 0) {\n",
       "            event.step = 1;\n",
       "        } else {\n",
       "            event.step = -1;\n",
       "        }\n",
       "        mouse_event_fn(event);\n",
       "    });\n",
       "\n",
       "    canvas_div.append(canvas);\n",
       "    canvas_div.append(rubberband);\n",
       "\n",
       "    this.rubberband = rubberband;\n",
       "    this.rubberband_canvas = rubberband[0];\n",
       "    this.rubberband_context = rubberband[0].getContext(\"2d\");\n",
       "    this.rubberband_context.strokeStyle = \"#000000\";\n",
       "\n",
       "    this._resize_canvas = function(width, height) {\n",
       "        // Keep the size of the canvas, canvas container, and rubber band\n",
       "        // canvas in synch.\n",
       "        canvas_div.css('width', width)\n",
       "        canvas_div.css('height', height)\n",
       "\n",
       "        canvas.attr('width', width);\n",
       "        canvas.attr('height', height);\n",
       "\n",
       "        rubberband.attr('width', width);\n",
       "        rubberband.attr('height', height);\n",
       "    }\n",
       "\n",
       "    // Set the figure to an initial 600x600px, this will subsequently be updated\n",
       "    // upon first draw.\n",
       "    this._resize_canvas(600, 600);\n",
       "\n",
       "    // Disable right mouse context menu.\n",
       "    $(this.rubberband_canvas).bind(\"contextmenu\",function(e){\n",
       "        return false;\n",
       "    });\n",
       "\n",
       "    function set_focus () {\n",
       "        canvas.focus();\n",
       "        canvas_div.focus();\n",
       "    }\n",
       "\n",
       "    window.setTimeout(set_focus, 100);\n",
       "}\n",
       "\n",
       "mpl.figure.prototype._init_toolbar = function() {\n",
       "    var fig = this;\n",
       "\n",
       "    var nav_element = $('<div/>')\n",
       "    nav_element.attr('style', 'width: 100%');\n",
       "    this.root.append(nav_element);\n",
       "\n",
       "    // Define a callback function for later on.\n",
       "    function toolbar_event(event) {\n",
       "        return fig.toolbar_button_onclick(event['data']);\n",
       "    }\n",
       "    function toolbar_mouse_event(event) {\n",
       "        return fig.toolbar_button_onmouseover(event['data']);\n",
       "    }\n",
       "\n",
       "    for(var toolbar_ind in mpl.toolbar_items) {\n",
       "        var name = mpl.toolbar_items[toolbar_ind][0];\n",
       "        var tooltip = mpl.toolbar_items[toolbar_ind][1];\n",
       "        var image = mpl.toolbar_items[toolbar_ind][2];\n",
       "        var method_name = mpl.toolbar_items[toolbar_ind][3];\n",
       "\n",
       "        if (!name) {\n",
       "            // put a spacer in here.\n",
       "            continue;\n",
       "        }\n",
       "        var button = $('<button/>');\n",
       "        button.addClass('ui-button ui-widget ui-state-default ui-corner-all ' +\n",
       "                        'ui-button-icon-only');\n",
       "        button.attr('role', 'button');\n",
       "        button.attr('aria-disabled', 'false');\n",
       "        button.click(method_name, toolbar_event);\n",
       "        button.mouseover(tooltip, toolbar_mouse_event);\n",
       "\n",
       "        var icon_img = $('<span/>');\n",
       "        icon_img.addClass('ui-button-icon-primary ui-icon');\n",
       "        icon_img.addClass(image);\n",
       "        icon_img.addClass('ui-corner-all');\n",
       "\n",
       "        var tooltip_span = $('<span/>');\n",
       "        tooltip_span.addClass('ui-button-text');\n",
       "        tooltip_span.html(tooltip);\n",
       "\n",
       "        button.append(icon_img);\n",
       "        button.append(tooltip_span);\n",
       "\n",
       "        nav_element.append(button);\n",
       "    }\n",
       "\n",
       "    var fmt_picker_span = $('<span/>');\n",
       "\n",
       "    var fmt_picker = $('<select/>');\n",
       "    fmt_picker.addClass('mpl-toolbar-option ui-widget ui-widget-content');\n",
       "    fmt_picker_span.append(fmt_picker);\n",
       "    nav_element.append(fmt_picker_span);\n",
       "    this.format_dropdown = fmt_picker[0];\n",
       "\n",
       "    for (var ind in mpl.extensions) {\n",
       "        var fmt = mpl.extensions[ind];\n",
       "        var option = $(\n",
       "            '<option/>', {selected: fmt === mpl.default_extension}).html(fmt);\n",
       "        fmt_picker.append(option)\n",
       "    }\n",
       "\n",
       "    // Add hover states to the ui-buttons\n",
       "    $( \".ui-button\" ).hover(\n",
       "        function() { $(this).addClass(\"ui-state-hover\");},\n",
       "        function() { $(this).removeClass(\"ui-state-hover\");}\n",
       "    );\n",
       "\n",
       "    var status_bar = $('<span class=\"mpl-message\"/>');\n",
       "    nav_element.append(status_bar);\n",
       "    this.message = status_bar[0];\n",
       "}\n",
       "\n",
       "mpl.figure.prototype.request_resize = function(x_pixels, y_pixels) {\n",
       "    // Request matplotlib to resize the figure. Matplotlib will then trigger a resize in the client,\n",
       "    // which will in turn request a refresh of the image.\n",
       "    this.send_message('resize', {'width': x_pixels, 'height': y_pixels});\n",
       "}\n",
       "\n",
       "mpl.figure.prototype.send_message = function(type, properties) {\n",
       "    properties['type'] = type;\n",
       "    properties['figure_id'] = this.id;\n",
       "    this.ws.send(JSON.stringify(properties));\n",
       "}\n",
       "\n",
       "mpl.figure.prototype.send_draw_message = function() {\n",
       "    if (!this.waiting) {\n",
       "        this.waiting = true;\n",
       "        this.ws.send(JSON.stringify({type: \"draw\", figure_id: this.id}));\n",
       "    }\n",
       "}\n",
       "\n",
       "\n",
       "mpl.figure.prototype.handle_save = function(fig, msg) {\n",
       "    var format_dropdown = fig.format_dropdown;\n",
       "    var format = format_dropdown.options[format_dropdown.selectedIndex].value;\n",
       "    fig.ondownload(fig, format);\n",
       "}\n",
       "\n",
       "\n",
       "mpl.figure.prototype.handle_resize = function(fig, msg) {\n",
       "    var size = msg['size'];\n",
       "    if (size[0] != fig.canvas.width || size[1] != fig.canvas.height) {\n",
       "        fig._resize_canvas(size[0], size[1]);\n",
       "        fig.send_message(\"refresh\", {});\n",
       "    };\n",
       "}\n",
       "\n",
       "mpl.figure.prototype.handle_rubberband = function(fig, msg) {\n",
       "    var x0 = msg['x0'];\n",
       "    var y0 = fig.canvas.height - msg['y0'];\n",
       "    var x1 = msg['x1'];\n",
       "    var y1 = fig.canvas.height - msg['y1'];\n",
       "    x0 = Math.floor(x0) + 0.5;\n",
       "    y0 = Math.floor(y0) + 0.5;\n",
       "    x1 = Math.floor(x1) + 0.5;\n",
       "    y1 = Math.floor(y1) + 0.5;\n",
       "    var min_x = Math.min(x0, x1);\n",
       "    var min_y = Math.min(y0, y1);\n",
       "    var width = Math.abs(x1 - x0);\n",
       "    var height = Math.abs(y1 - y0);\n",
       "\n",
       "    fig.rubberband_context.clearRect(\n",
       "        0, 0, fig.canvas.width, fig.canvas.height);\n",
       "\n",
       "    fig.rubberband_context.strokeRect(min_x, min_y, width, height);\n",
       "}\n",
       "\n",
       "mpl.figure.prototype.handle_figure_label = function(fig, msg) {\n",
       "    // Updates the figure title.\n",
       "    fig.header.textContent = msg['label'];\n",
       "}\n",
       "\n",
       "mpl.figure.prototype.handle_cursor = function(fig, msg) {\n",
       "    var cursor = msg['cursor'];\n",
       "    switch(cursor)\n",
       "    {\n",
       "    case 0:\n",
       "        cursor = 'pointer';\n",
       "        break;\n",
       "    case 1:\n",
       "        cursor = 'default';\n",
       "        break;\n",
       "    case 2:\n",
       "        cursor = 'crosshair';\n",
       "        break;\n",
       "    case 3:\n",
       "        cursor = 'move';\n",
       "        break;\n",
       "    }\n",
       "    fig.rubberband_canvas.style.cursor = cursor;\n",
       "}\n",
       "\n",
       "mpl.figure.prototype.handle_message = function(fig, msg) {\n",
       "    fig.message.textContent = msg['message'];\n",
       "}\n",
       "\n",
       "mpl.figure.prototype.handle_draw = function(fig, msg) {\n",
       "    // Request the server to send over a new figure.\n",
       "    fig.send_draw_message();\n",
       "}\n",
       "\n",
       "mpl.figure.prototype.handle_image_mode = function(fig, msg) {\n",
       "    fig.image_mode = msg['mode'];\n",
       "}\n",
       "\n",
       "mpl.figure.prototype.updated_canvas_event = function() {\n",
       "    // Called whenever the canvas gets updated.\n",
       "    this.send_message(\"ack\", {});\n",
       "}\n",
       "\n",
       "// A function to construct a web socket function for onmessage handling.\n",
       "// Called in the figure constructor.\n",
       "mpl.figure.prototype._make_on_message_function = function(fig) {\n",
       "    return function socket_on_message(evt) {\n",
       "        if (evt.data instanceof Blob) {\n",
       "            /* FIXME: We get \"Resource interpreted as Image but\n",
       "             * transferred with MIME type text/plain:\" errors on\n",
       "             * Chrome.  But how to set the MIME type?  It doesn't seem\n",
       "             * to be part of the websocket stream */\n",
       "            evt.data.type = \"image/png\";\n",
       "\n",
       "            /* Free the memory for the previous frames */\n",
       "            if (fig.imageObj.src) {\n",
       "                (window.URL || window.webkitURL).revokeObjectURL(\n",
       "                    fig.imageObj.src);\n",
       "            }\n",
       "\n",
       "            fig.imageObj.src = (window.URL || window.webkitURL).createObjectURL(\n",
       "                evt.data);\n",
       "            fig.updated_canvas_event();\n",
       "            fig.waiting = false;\n",
       "            return;\n",
       "        }\n",
       "        else if (typeof evt.data === 'string' && evt.data.slice(0, 21) == \"data:image/png;base64\") {\n",
       "            fig.imageObj.src = evt.data;\n",
       "            fig.updated_canvas_event();\n",
       "            fig.waiting = false;\n",
       "            return;\n",
       "        }\n",
       "\n",
       "        var msg = JSON.parse(evt.data);\n",
       "        var msg_type = msg['type'];\n",
       "\n",
       "        // Call the  \"handle_{type}\" callback, which takes\n",
       "        // the figure and JSON message as its only arguments.\n",
       "        try {\n",
       "            var callback = fig[\"handle_\" + msg_type];\n",
       "        } catch (e) {\n",
       "            console.log(\"No handler for the '\" + msg_type + \"' message type: \", msg);\n",
       "            return;\n",
       "        }\n",
       "\n",
       "        if (callback) {\n",
       "            try {\n",
       "                // console.log(\"Handling '\" + msg_type + \"' message: \", msg);\n",
       "                callback(fig, msg);\n",
       "            } catch (e) {\n",
       "                console.log(\"Exception inside the 'handler_\" + msg_type + \"' callback:\", e, e.stack, msg);\n",
       "            }\n",
       "        }\n",
       "    };\n",
       "}\n",
       "\n",
       "// from http://stackoverflow.com/questions/1114465/getting-mouse-location-in-canvas\n",
       "mpl.findpos = function(e) {\n",
       "    //this section is from http://www.quirksmode.org/js/events_properties.html\n",
       "    var targ;\n",
       "    if (!e)\n",
       "        e = window.event;\n",
       "    if (e.target)\n",
       "        targ = e.target;\n",
       "    else if (e.srcElement)\n",
       "        targ = e.srcElement;\n",
       "    if (targ.nodeType == 3) // defeat Safari bug\n",
       "        targ = targ.parentNode;\n",
       "\n",
       "    // jQuery normalizes the pageX and pageY\n",
       "    // pageX,Y are the mouse positions relative to the document\n",
       "    // offset() returns the position of the element relative to the document\n",
       "    var x = e.pageX - $(targ).offset().left;\n",
       "    var y = e.pageY - $(targ).offset().top;\n",
       "\n",
       "    return {\"x\": x, \"y\": y};\n",
       "};\n",
       "\n",
       "/*\n",
       " * return a copy of an object with only non-object keys\n",
       " * we need this to avoid circular references\n",
       " * http://stackoverflow.com/a/24161582/3208463\n",
       " */\n",
       "function simpleKeys (original) {\n",
       "  return Object.keys(original).reduce(function (obj, key) {\n",
       "    if (typeof original[key] !== 'object')\n",
       "        obj[key] = original[key]\n",
       "    return obj;\n",
       "  }, {});\n",
       "}\n",
       "\n",
       "mpl.figure.prototype.mouse_event = function(event, name) {\n",
       "    var canvas_pos = mpl.findpos(event)\n",
       "\n",
       "    if (name === 'button_press')\n",
       "    {\n",
       "        this.canvas.focus();\n",
       "        this.canvas_div.focus();\n",
       "    }\n",
       "\n",
       "    var x = canvas_pos.x;\n",
       "    var y = canvas_pos.y;\n",
       "\n",
       "    this.send_message(name, {x: x, y: y, button: event.button,\n",
       "                             step: event.step,\n",
       "                             guiEvent: simpleKeys(event)});\n",
       "\n",
       "    /* This prevents the web browser from automatically changing to\n",
       "     * the text insertion cursor when the button is pressed.  We want\n",
       "     * to control all of the cursor setting manually through the\n",
       "     * 'cursor' event from matplotlib */\n",
       "    event.preventDefault();\n",
       "    return false;\n",
       "}\n",
       "\n",
       "mpl.figure.prototype._key_event_extra = function(event, name) {\n",
       "    // Handle any extra behaviour associated with a key event\n",
       "}\n",
       "\n",
       "mpl.figure.prototype.key_event = function(event, name) {\n",
       "\n",
       "    // Prevent repeat events\n",
       "    if (name == 'key_press')\n",
       "    {\n",
       "        if (event.which === this._key)\n",
       "            return;\n",
       "        else\n",
       "            this._key = event.which;\n",
       "    }\n",
       "    if (name == 'key_release')\n",
       "        this._key = null;\n",
       "\n",
       "    var value = '';\n",
       "    if (event.ctrlKey && event.which != 17)\n",
       "        value += \"ctrl+\";\n",
       "    if (event.altKey && event.which != 18)\n",
       "        value += \"alt+\";\n",
       "    if (event.shiftKey && event.which != 16)\n",
       "        value += \"shift+\";\n",
       "\n",
       "    value += 'k';\n",
       "    value += event.which.toString();\n",
       "\n",
       "    this._key_event_extra(event, name);\n",
       "\n",
       "    this.send_message(name, {key: value,\n",
       "                             guiEvent: simpleKeys(event)});\n",
       "    return false;\n",
       "}\n",
       "\n",
       "mpl.figure.prototype.toolbar_button_onclick = function(name) {\n",
       "    if (name == 'download') {\n",
       "        this.handle_save(this, null);\n",
       "    } else {\n",
       "        this.send_message(\"toolbar_button\", {name: name});\n",
       "    }\n",
       "};\n",
       "\n",
       "mpl.figure.prototype.toolbar_button_onmouseover = function(tooltip) {\n",
       "    this.message.textContent = tooltip;\n",
       "};\n",
       "mpl.toolbar_items = [[\"Home\", \"Reset original view\", \"fa fa-home icon-home\", \"home\"], [\"Back\", \"Back to  previous view\", \"fa fa-arrow-left icon-arrow-left\", \"back\"], [\"Forward\", \"Forward to next view\", \"fa fa-arrow-right icon-arrow-right\", \"forward\"], [\"\", \"\", \"\", \"\"], [\"Pan\", \"Pan axes with left mouse, zoom with right\", \"fa fa-arrows icon-move\", \"pan\"], [\"Zoom\", \"Zoom to rectangle\", \"fa fa-square-o icon-check-empty\", \"zoom\"], [\"\", \"\", \"\", \"\"], [\"Download\", \"Download plot\", \"fa fa-floppy-o icon-save\", \"download\"]];\n",
       "\n",
       "mpl.extensions = [\"eps\", \"jpeg\", \"pdf\", \"png\", \"ps\", \"raw\", \"svg\", \"tif\"];\n",
       "\n",
       "mpl.default_extension = \"png\";var comm_websocket_adapter = function(comm) {\n",
       "    // Create a \"websocket\"-like object which calls the given IPython comm\n",
       "    // object with the appropriate methods. Currently this is a non binary\n",
       "    // socket, so there is still some room for performance tuning.\n",
       "    var ws = {};\n",
       "\n",
       "    ws.close = function() {\n",
       "        comm.close()\n",
       "    };\n",
       "    ws.send = function(m) {\n",
       "        //console.log('sending', m);\n",
       "        comm.send(m);\n",
       "    };\n",
       "    // Register the callback with on_msg.\n",
       "    comm.on_msg(function(msg) {\n",
       "        //console.log('receiving', msg['content']['data'], msg);\n",
       "        // Pass the mpl event to the overriden (by mpl) onmessage function.\n",
       "        ws.onmessage(msg['content']['data'])\n",
       "    });\n",
       "    return ws;\n",
       "}\n",
       "\n",
       "mpl.mpl_figure_comm = function(comm, msg) {\n",
       "    // This is the function which gets called when the mpl process\n",
       "    // starts-up an IPython Comm through the \"matplotlib\" channel.\n",
       "\n",
       "    var id = msg.content.data.id;\n",
       "    // Get hold of the div created by the display call when the Comm\n",
       "    // socket was opened in Python.\n",
       "    var element = $(\"#\" + id);\n",
       "    var ws_proxy = comm_websocket_adapter(comm)\n",
       "\n",
       "    function ondownload(figure, format) {\n",
       "        window.open(figure.imageObj.src);\n",
       "    }\n",
       "\n",
       "    var fig = new mpl.figure(id, ws_proxy,\n",
       "                           ondownload,\n",
       "                           element.get(0));\n",
       "\n",
       "    // Call onopen now - mpl needs it, as it is assuming we've passed it a real\n",
       "    // web socket which is closed, not our websocket->open comm proxy.\n",
       "    ws_proxy.onopen();\n",
       "\n",
       "    fig.parent_element = element.get(0);\n",
       "    fig.cell_info = mpl.find_output_cell(\"<div id='\" + id + \"'></div>\");\n",
       "    if (!fig.cell_info) {\n",
       "        console.error(\"Failed to find cell for figure\", id, fig);\n",
       "        return;\n",
       "    }\n",
       "\n",
       "    var output_index = fig.cell_info[2]\n",
       "    var cell = fig.cell_info[0];\n",
       "\n",
       "};\n",
       "\n",
       "mpl.figure.prototype.handle_close = function(fig, msg) {\n",
       "    fig.root.unbind('remove')\n",
       "\n",
       "    // Update the output cell to use the data from the current canvas.\n",
       "    fig.push_to_output();\n",
       "    var dataURL = fig.canvas.toDataURL();\n",
       "    // Re-enable the keyboard manager in IPython - without this line, in FF,\n",
       "    // the notebook keyboard shortcuts fail.\n",
       "    IPython.keyboard_manager.enable()\n",
       "    $(fig.parent_element).html('<img src=\"' + dataURL + '\">');\n",
       "    fig.close_ws(fig, msg);\n",
       "}\n",
       "\n",
       "mpl.figure.prototype.close_ws = function(fig, msg){\n",
       "    fig.send_message('closing', msg);\n",
       "    // fig.ws.close()\n",
       "}\n",
       "\n",
       "mpl.figure.prototype.push_to_output = function(remove_interactive) {\n",
       "    // Turn the data on the canvas into data in the output cell.\n",
       "    var dataURL = this.canvas.toDataURL();\n",
       "    this.cell_info[1]['text/html'] = '<img src=\"' + dataURL + '\">';\n",
       "}\n",
       "\n",
       "mpl.figure.prototype.updated_canvas_event = function() {\n",
       "    // Tell IPython that the notebook contents must change.\n",
       "    IPython.notebook.set_dirty(true);\n",
       "    this.send_message(\"ack\", {});\n",
       "    var fig = this;\n",
       "    // Wait a second, then push the new image to the DOM so\n",
       "    // that it is saved nicely (might be nice to debounce this).\n",
       "    setTimeout(function () { fig.push_to_output() }, 1000);\n",
       "}\n",
       "\n",
       "mpl.figure.prototype._init_toolbar = function() {\n",
       "    var fig = this;\n",
       "\n",
       "    var nav_element = $('<div/>')\n",
       "    nav_element.attr('style', 'width: 100%');\n",
       "    this.root.append(nav_element);\n",
       "\n",
       "    // Define a callback function for later on.\n",
       "    function toolbar_event(event) {\n",
       "        return fig.toolbar_button_onclick(event['data']);\n",
       "    }\n",
       "    function toolbar_mouse_event(event) {\n",
       "        return fig.toolbar_button_onmouseover(event['data']);\n",
       "    }\n",
       "\n",
       "    for(var toolbar_ind in mpl.toolbar_items){\n",
       "        var name = mpl.toolbar_items[toolbar_ind][0];\n",
       "        var tooltip = mpl.toolbar_items[toolbar_ind][1];\n",
       "        var image = mpl.toolbar_items[toolbar_ind][2];\n",
       "        var method_name = mpl.toolbar_items[toolbar_ind][3];\n",
       "\n",
       "        if (!name) { continue; };\n",
       "\n",
       "        var button = $('<button class=\"btn btn-default\" href=\"#\" title=\"' + name + '\"><i class=\"fa ' + image + ' fa-lg\"></i></button>');\n",
       "        button.click(method_name, toolbar_event);\n",
       "        button.mouseover(tooltip, toolbar_mouse_event);\n",
       "        nav_element.append(button);\n",
       "    }\n",
       "\n",
       "    // Add the status bar.\n",
       "    var status_bar = $('<span class=\"mpl-message\" style=\"text-align:right; float: right;\"/>');\n",
       "    nav_element.append(status_bar);\n",
       "    this.message = status_bar[0];\n",
       "\n",
       "    // Add the close button to the window.\n",
       "    var buttongrp = $('<div class=\"btn-group inline pull-right\"></div>');\n",
       "    var button = $('<button class=\"btn btn-mini btn-primary\" href=\"#\" title=\"Stop Interaction\"><i class=\"fa fa-power-off icon-remove icon-large\"></i></button>');\n",
       "    button.click(function (evt) { fig.handle_close(fig, {}); } );\n",
       "    button.mouseover('Stop Interaction', toolbar_mouse_event);\n",
       "    buttongrp.append(button);\n",
       "    var titlebar = this.root.find($('.ui-dialog-titlebar'));\n",
       "    titlebar.prepend(buttongrp);\n",
       "}\n",
       "\n",
       "mpl.figure.prototype._root_extra_style = function(el){\n",
       "    var fig = this\n",
       "    el.on(\"remove\", function(){\n",
       "\tfig.close_ws(fig, {});\n",
       "    });\n",
       "}\n",
       "\n",
       "mpl.figure.prototype._canvas_extra_style = function(el){\n",
       "    // this is important to make the div 'focusable\n",
       "    el.attr('tabindex', 0)\n",
       "    // reach out to IPython and tell the keyboard manager to turn it's self\n",
       "    // off when our div gets focus\n",
       "\n",
       "    // location in version 3\n",
       "    if (IPython.notebook.keyboard_manager) {\n",
       "        IPython.notebook.keyboard_manager.register_events(el);\n",
       "    }\n",
       "    else {\n",
       "        // location in version 2\n",
       "        IPython.keyboard_manager.register_events(el);\n",
       "    }\n",
       "\n",
       "}\n",
       "\n",
       "mpl.figure.prototype._key_event_extra = function(event, name) {\n",
       "    var manager = IPython.notebook.keyboard_manager;\n",
       "    if (!manager)\n",
       "        manager = IPython.keyboard_manager;\n",
       "\n",
       "    // Check for shift+enter\n",
       "    if (event.shiftKey && event.which == 13) {\n",
       "        this.canvas_div.blur();\n",
       "        // select the cell after this one\n",
       "        var index = IPython.notebook.find_cell_index(this.cell_info[0]);\n",
       "        IPython.notebook.select(index + 1);\n",
       "    }\n",
       "}\n",
       "\n",
       "mpl.figure.prototype.handle_save = function(fig, msg) {\n",
       "    fig.ondownload(fig, null);\n",
       "}\n",
       "\n",
       "\n",
       "mpl.find_output_cell = function(html_output) {\n",
       "    // Return the cell and output element which can be found *uniquely* in the notebook.\n",
       "    // Note - this is a bit hacky, but it is done because the \"notebook_saving.Notebook\"\n",
       "    // IPython event is triggered only after the cells have been serialised, which for\n",
       "    // our purposes (turning an active figure into a static one), is too late.\n",
       "    var cells = IPython.notebook.get_cells();\n",
       "    var ncells = cells.length;\n",
       "    for (var i=0; i<ncells; i++) {\n",
       "        var cell = cells[i];\n",
       "        if (cell.cell_type === 'code'){\n",
       "            for (var j=0; j<cell.output_area.outputs.length; j++) {\n",
       "                var data = cell.output_area.outputs[j];\n",
       "                if (data.data) {\n",
       "                    // IPython >= 3 moved mimebundle to data attribute of output\n",
       "                    data = data.data;\n",
       "                }\n",
       "                if (data['text/html'] == html_output) {\n",
       "                    return [cell, data, j];\n",
       "                }\n",
       "            }\n",
       "        }\n",
       "    }\n",
       "}\n",
       "\n",
       "// Register the function which deals with the matplotlib target/channel.\n",
       "// The kernel may be null if the page has been refreshed.\n",
       "if (IPython.notebook.kernel != null) {\n",
       "    IPython.notebook.kernel.comm_manager.register_target('matplotlib', mpl.mpl_figure_comm);\n",
       "}\n"
      ],
      "text/plain": [
       "<IPython.core.display.Javascript object>"
      ]
     },
     "metadata": {},
     "output_type": "display_data"
    },
    {
     "data": {
      "text/html": [
       "<img src=\"data:image/png;base64,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\">"
      ],
      "text/plain": [
       "<IPython.core.display.HTML object>"
      ]
     },
     "metadata": {},
     "output_type": "display_data"
    }
   ],
   "source": [
    "x_grid = np.linspace(0.1,2,201)\n",
    "figure = plt.figure()\n",
    "plt.plot(x_grid,demand(x_grid,1,-1),label = \"Demand\")\n",
    "plt.plot(x_grid,indirectDemand(x_grid,1,-1), linestyle = \"--\",label = \"Inderect Demand\")\n",
    "plt.ylim(0,2)\n",
    "plt.legend();"
   ]
  },
  {
   "cell_type": "code",
   "execution_count": 30,
   "metadata": {
    "collapsed": false
   },
   "outputs": [
    {
     "data": {
      "application/javascript": [
       "/* Put everything inside the global mpl namespace */\n",
       "window.mpl = {};\n",
       "\n",
       "mpl.get_websocket_type = function() {\n",
       "    if (typeof(WebSocket) !== 'undefined') {\n",
       "        return WebSocket;\n",
       "    } else if (typeof(MozWebSocket) !== 'undefined') {\n",
       "        return MozWebSocket;\n",
       "    } else {\n",
       "        alert('Your browser does not have WebSocket support.' +\n",
       "              'Please try Chrome, Safari or Firefox ≥ 6. ' +\n",
       "              'Firefox 4 and 5 are also supported but you ' +\n",
       "              'have to enable WebSockets in about:config.');\n",
       "    };\n",
       "}\n",
       "\n",
       "mpl.figure = function(figure_id, websocket, ondownload, parent_element) {\n",
       "    this.id = figure_id;\n",
       "\n",
       "    this.ws = websocket;\n",
       "\n",
       "    this.supports_binary = (this.ws.binaryType != undefined);\n",
       "\n",
       "    if (!this.supports_binary) {\n",
       "        var warnings = document.getElementById(\"mpl-warnings\");\n",
       "        if (warnings) {\n",
       "            warnings.style.display = 'block';\n",
       "            warnings.textContent = (\n",
       "                \"This browser does not support binary websocket messages. \" +\n",
       "                    \"Performance may be slow.\");\n",
       "        }\n",
       "    }\n",
       "\n",
       "    this.imageObj = new Image();\n",
       "\n",
       "    this.context = undefined;\n",
       "    this.message = undefined;\n",
       "    this.canvas = undefined;\n",
       "    this.rubberband_canvas = undefined;\n",
       "    this.rubberband_context = undefined;\n",
       "    this.format_dropdown = undefined;\n",
       "\n",
       "    this.image_mode = 'full';\n",
       "\n",
       "    this.root = $('<div/>');\n",
       "    this._root_extra_style(this.root)\n",
       "    this.root.attr('style', 'display: inline-block');\n",
       "\n",
       "    $(parent_element).append(this.root);\n",
       "\n",
       "    this._init_header(this);\n",
       "    this._init_canvas(this);\n",
       "    this._init_toolbar(this);\n",
       "\n",
       "    var fig = this;\n",
       "\n",
       "    this.waiting = false;\n",
       "\n",
       "    this.ws.onopen =  function () {\n",
       "            fig.send_message(\"supports_binary\", {value: fig.supports_binary});\n",
       "            fig.send_message(\"send_image_mode\", {});\n",
       "            fig.send_message(\"refresh\", {});\n",
       "        }\n",
       "\n",
       "    this.imageObj.onload = function() {\n",
       "            if (fig.image_mode == 'full') {\n",
       "                // Full images could contain transparency (where diff images\n",
       "                // almost always do), so we need to clear the canvas so that\n",
       "                // there is no ghosting.\n",
       "                fig.context.clearRect(0, 0, fig.canvas.width, fig.canvas.height);\n",
       "            }\n",
       "            fig.context.drawImage(fig.imageObj, 0, 0);\n",
       "        };\n",
       "\n",
       "    this.imageObj.onunload = function() {\n",
       "        this.ws.close();\n",
       "    }\n",
       "\n",
       "    this.ws.onmessage = this._make_on_message_function(this);\n",
       "\n",
       "    this.ondownload = ondownload;\n",
       "}\n",
       "\n",
       "mpl.figure.prototype._init_header = function() {\n",
       "    var titlebar = $(\n",
       "        '<div class=\"ui-dialog-titlebar ui-widget-header ui-corner-all ' +\n",
       "        'ui-helper-clearfix\"/>');\n",
       "    var titletext = $(\n",
       "        '<div class=\"ui-dialog-title\" style=\"width: 100%; ' +\n",
       "        'text-align: center; padding: 3px;\"/>');\n",
       "    titlebar.append(titletext)\n",
       "    this.root.append(titlebar);\n",
       "    this.header = titletext[0];\n",
       "}\n",
       "\n",
       "\n",
       "\n",
       "mpl.figure.prototype._canvas_extra_style = function(canvas_div) {\n",
       "\n",
       "}\n",
       "\n",
       "\n",
       "mpl.figure.prototype._root_extra_style = function(canvas_div) {\n",
       "\n",
       "}\n",
       "\n",
       "mpl.figure.prototype._init_canvas = function() {\n",
       "    var fig = this;\n",
       "\n",
       "    var canvas_div = $('<div/>');\n",
       "\n",
       "    canvas_div.attr('style', 'position: relative; clear: both; outline: 0');\n",
       "\n",
       "    function canvas_keyboard_event(event) {\n",
       "        return fig.key_event(event, event['data']);\n",
       "    }\n",
       "\n",
       "    canvas_div.keydown('key_press', canvas_keyboard_event);\n",
       "    canvas_div.keyup('key_release', canvas_keyboard_event);\n",
       "    this.canvas_div = canvas_div\n",
       "    this._canvas_extra_style(canvas_div)\n",
       "    this.root.append(canvas_div);\n",
       "\n",
       "    var canvas = $('<canvas/>');\n",
       "    canvas.addClass('mpl-canvas');\n",
       "    canvas.attr('style', \"left: 0; top: 0; z-index: 0; outline: 0\")\n",
       "\n",
       "    this.canvas = canvas[0];\n",
       "    this.context = canvas[0].getContext(\"2d\");\n",
       "\n",
       "    var rubberband = $('<canvas/>');\n",
       "    rubberband.attr('style', \"position: absolute; left: 0; top: 0; z-index: 1;\")\n",
       "\n",
       "    var pass_mouse_events = true;\n",
       "\n",
       "    canvas_div.resizable({\n",
       "        start: function(event, ui) {\n",
       "            pass_mouse_events = false;\n",
       "        },\n",
       "        resize: function(event, ui) {\n",
       "            fig.request_resize(ui.size.width, ui.size.height);\n",
       "        },\n",
       "        stop: function(event, ui) {\n",
       "            pass_mouse_events = true;\n",
       "            fig.request_resize(ui.size.width, ui.size.height);\n",
       "        },\n",
       "    });\n",
       "\n",
       "    function mouse_event_fn(event) {\n",
       "        if (pass_mouse_events)\n",
       "            return fig.mouse_event(event, event['data']);\n",
       "    }\n",
       "\n",
       "    rubberband.mousedown('button_press', mouse_event_fn);\n",
       "    rubberband.mouseup('button_release', mouse_event_fn);\n",
       "    // Throttle sequential mouse events to 1 every 20ms.\n",
       "    rubberband.mousemove('motion_notify', mouse_event_fn);\n",
       "\n",
       "    rubberband.mouseenter('figure_enter', mouse_event_fn);\n",
       "    rubberband.mouseleave('figure_leave', mouse_event_fn);\n",
       "\n",
       "    canvas_div.on(\"wheel\", function (event) {\n",
       "        event = event.originalEvent;\n",
       "        event['data'] = 'scroll'\n",
       "        if (event.deltaY < 0) {\n",
       "            event.step = 1;\n",
       "        } else {\n",
       "            event.step = -1;\n",
       "        }\n",
       "        mouse_event_fn(event);\n",
       "    });\n",
       "\n",
       "    canvas_div.append(canvas);\n",
       "    canvas_div.append(rubberband);\n",
       "\n",
       "    this.rubberband = rubberband;\n",
       "    this.rubberband_canvas = rubberband[0];\n",
       "    this.rubberband_context = rubberband[0].getContext(\"2d\");\n",
       "    this.rubberband_context.strokeStyle = \"#000000\";\n",
       "\n",
       "    this._resize_canvas = function(width, height) {\n",
       "        // Keep the size of the canvas, canvas container, and rubber band\n",
       "        // canvas in synch.\n",
       "        canvas_div.css('width', width)\n",
       "        canvas_div.css('height', height)\n",
       "\n",
       "        canvas.attr('width', width);\n",
       "        canvas.attr('height', height);\n",
       "\n",
       "        rubberband.attr('width', width);\n",
       "        rubberband.attr('height', height);\n",
       "    }\n",
       "\n",
       "    // Set the figure to an initial 600x600px, this will subsequently be updated\n",
       "    // upon first draw.\n",
       "    this._resize_canvas(600, 600);\n",
       "\n",
       "    // Disable right mouse context menu.\n",
       "    $(this.rubberband_canvas).bind(\"contextmenu\",function(e){\n",
       "        return false;\n",
       "    });\n",
       "\n",
       "    function set_focus () {\n",
       "        canvas.focus();\n",
       "        canvas_div.focus();\n",
       "    }\n",
       "\n",
       "    window.setTimeout(set_focus, 100);\n",
       "}\n",
       "\n",
       "mpl.figure.prototype._init_toolbar = function() {\n",
       "    var fig = this;\n",
       "\n",
       "    var nav_element = $('<div/>')\n",
       "    nav_element.attr('style', 'width: 100%');\n",
       "    this.root.append(nav_element);\n",
       "\n",
       "    // Define a callback function for later on.\n",
       "    function toolbar_event(event) {\n",
       "        return fig.toolbar_button_onclick(event['data']);\n",
       "    }\n",
       "    function toolbar_mouse_event(event) {\n",
       "        return fig.toolbar_button_onmouseover(event['data']);\n",
       "    }\n",
       "\n",
       "    for(var toolbar_ind in mpl.toolbar_items) {\n",
       "        var name = mpl.toolbar_items[toolbar_ind][0];\n",
       "        var tooltip = mpl.toolbar_items[toolbar_ind][1];\n",
       "        var image = mpl.toolbar_items[toolbar_ind][2];\n",
       "        var method_name = mpl.toolbar_items[toolbar_ind][3];\n",
       "\n",
       "        if (!name) {\n",
       "            // put a spacer in here.\n",
       "            continue;\n",
       "        }\n",
       "        var button = $('<button/>');\n",
       "        button.addClass('ui-button ui-widget ui-state-default ui-corner-all ' +\n",
       "                        'ui-button-icon-only');\n",
       "        button.attr('role', 'button');\n",
       "        button.attr('aria-disabled', 'false');\n",
       "        button.click(method_name, toolbar_event);\n",
       "        button.mouseover(tooltip, toolbar_mouse_event);\n",
       "\n",
       "        var icon_img = $('<span/>');\n",
       "        icon_img.addClass('ui-button-icon-primary ui-icon');\n",
       "        icon_img.addClass(image);\n",
       "        icon_img.addClass('ui-corner-all');\n",
       "\n",
       "        var tooltip_span = $('<span/>');\n",
       "        tooltip_span.addClass('ui-button-text');\n",
       "        tooltip_span.html(tooltip);\n",
       "\n",
       "        button.append(icon_img);\n",
       "        button.append(tooltip_span);\n",
       "\n",
       "        nav_element.append(button);\n",
       "    }\n",
       "\n",
       "    var fmt_picker_span = $('<span/>');\n",
       "\n",
       "    var fmt_picker = $('<select/>');\n",
       "    fmt_picker.addClass('mpl-toolbar-option ui-widget ui-widget-content');\n",
       "    fmt_picker_span.append(fmt_picker);\n",
       "    nav_element.append(fmt_picker_span);\n",
       "    this.format_dropdown = fmt_picker[0];\n",
       "\n",
       "    for (var ind in mpl.extensions) {\n",
       "        var fmt = mpl.extensions[ind];\n",
       "        var option = $(\n",
       "            '<option/>', {selected: fmt === mpl.default_extension}).html(fmt);\n",
       "        fmt_picker.append(option)\n",
       "    }\n",
       "\n",
       "    // Add hover states to the ui-buttons\n",
       "    $( \".ui-button\" ).hover(\n",
       "        function() { $(this).addClass(\"ui-state-hover\");},\n",
       "        function() { $(this).removeClass(\"ui-state-hover\");}\n",
       "    );\n",
       "\n",
       "    var status_bar = $('<span class=\"mpl-message\"/>');\n",
       "    nav_element.append(status_bar);\n",
       "    this.message = status_bar[0];\n",
       "}\n",
       "\n",
       "mpl.figure.prototype.request_resize = function(x_pixels, y_pixels) {\n",
       "    // Request matplotlib to resize the figure. Matplotlib will then trigger a resize in the client,\n",
       "    // which will in turn request a refresh of the image.\n",
       "    this.send_message('resize', {'width': x_pixels, 'height': y_pixels});\n",
       "}\n",
       "\n",
       "mpl.figure.prototype.send_message = function(type, properties) {\n",
       "    properties['type'] = type;\n",
       "    properties['figure_id'] = this.id;\n",
       "    this.ws.send(JSON.stringify(properties));\n",
       "}\n",
       "\n",
       "mpl.figure.prototype.send_draw_message = function() {\n",
       "    if (!this.waiting) {\n",
       "        this.waiting = true;\n",
       "        this.ws.send(JSON.stringify({type: \"draw\", figure_id: this.id}));\n",
       "    }\n",
       "}\n",
       "\n",
       "\n",
       "mpl.figure.prototype.handle_save = function(fig, msg) {\n",
       "    var format_dropdown = fig.format_dropdown;\n",
       "    var format = format_dropdown.options[format_dropdown.selectedIndex].value;\n",
       "    fig.ondownload(fig, format);\n",
       "}\n",
       "\n",
       "\n",
       "mpl.figure.prototype.handle_resize = function(fig, msg) {\n",
       "    var size = msg['size'];\n",
       "    if (size[0] != fig.canvas.width || size[1] != fig.canvas.height) {\n",
       "        fig._resize_canvas(size[0], size[1]);\n",
       "        fig.send_message(\"refresh\", {});\n",
       "    };\n",
       "}\n",
       "\n",
       "mpl.figure.prototype.handle_rubberband = function(fig, msg) {\n",
       "    var x0 = msg['x0'];\n",
       "    var y0 = fig.canvas.height - msg['y0'];\n",
       "    var x1 = msg['x1'];\n",
       "    var y1 = fig.canvas.height - msg['y1'];\n",
       "    x0 = Math.floor(x0) + 0.5;\n",
       "    y0 = Math.floor(y0) + 0.5;\n",
       "    x1 = Math.floor(x1) + 0.5;\n",
       "    y1 = Math.floor(y1) + 0.5;\n",
       "    var min_x = Math.min(x0, x1);\n",
       "    var min_y = Math.min(y0, y1);\n",
       "    var width = Math.abs(x1 - x0);\n",
       "    var height = Math.abs(y1 - y0);\n",
       "\n",
       "    fig.rubberband_context.clearRect(\n",
       "        0, 0, fig.canvas.width, fig.canvas.height);\n",
       "\n",
       "    fig.rubberband_context.strokeRect(min_x, min_y, width, height);\n",
       "}\n",
       "\n",
       "mpl.figure.prototype.handle_figure_label = function(fig, msg) {\n",
       "    // Updates the figure title.\n",
       "    fig.header.textContent = msg['label'];\n",
       "}\n",
       "\n",
       "mpl.figure.prototype.handle_cursor = function(fig, msg) {\n",
       "    var cursor = msg['cursor'];\n",
       "    switch(cursor)\n",
       "    {\n",
       "    case 0:\n",
       "        cursor = 'pointer';\n",
       "        break;\n",
       "    case 1:\n",
       "        cursor = 'default';\n",
       "        break;\n",
       "    case 2:\n",
       "        cursor = 'crosshair';\n",
       "        break;\n",
       "    case 3:\n",
       "        cursor = 'move';\n",
       "        break;\n",
       "    }\n",
       "    fig.rubberband_canvas.style.cursor = cursor;\n",
       "}\n",
       "\n",
       "mpl.figure.prototype.handle_message = function(fig, msg) {\n",
       "    fig.message.textContent = msg['message'];\n",
       "}\n",
       "\n",
       "mpl.figure.prototype.handle_draw = function(fig, msg) {\n",
       "    // Request the server to send over a new figure.\n",
       "    fig.send_draw_message();\n",
       "}\n",
       "\n",
       "mpl.figure.prototype.handle_image_mode = function(fig, msg) {\n",
       "    fig.image_mode = msg['mode'];\n",
       "}\n",
       "\n",
       "mpl.figure.prototype.updated_canvas_event = function() {\n",
       "    // Called whenever the canvas gets updated.\n",
       "    this.send_message(\"ack\", {});\n",
       "}\n",
       "\n",
       "// A function to construct a web socket function for onmessage handling.\n",
       "// Called in the figure constructor.\n",
       "mpl.figure.prototype._make_on_message_function = function(fig) {\n",
       "    return function socket_on_message(evt) {\n",
       "        if (evt.data instanceof Blob) {\n",
       "            /* FIXME: We get \"Resource interpreted as Image but\n",
       "             * transferred with MIME type text/plain:\" errors on\n",
       "             * Chrome.  But how to set the MIME type?  It doesn't seem\n",
       "             * to be part of the websocket stream */\n",
       "            evt.data.type = \"image/png\";\n",
       "\n",
       "            /* Free the memory for the previous frames */\n",
       "            if (fig.imageObj.src) {\n",
       "                (window.URL || window.webkitURL).revokeObjectURL(\n",
       "                    fig.imageObj.src);\n",
       "            }\n",
       "\n",
       "            fig.imageObj.src = (window.URL || window.webkitURL).createObjectURL(\n",
       "                evt.data);\n",
       "            fig.updated_canvas_event();\n",
       "            fig.waiting = false;\n",
       "            return;\n",
       "        }\n",
       "        else if (typeof evt.data === 'string' && evt.data.slice(0, 21) == \"data:image/png;base64\") {\n",
       "            fig.imageObj.src = evt.data;\n",
       "            fig.updated_canvas_event();\n",
       "            fig.waiting = false;\n",
       "            return;\n",
       "        }\n",
       "\n",
       "        var msg = JSON.parse(evt.data);\n",
       "        var msg_type = msg['type'];\n",
       "\n",
       "        // Call the  \"handle_{type}\" callback, which takes\n",
       "        // the figure and JSON message as its only arguments.\n",
       "        try {\n",
       "            var callback = fig[\"handle_\" + msg_type];\n",
       "        } catch (e) {\n",
       "            console.log(\"No handler for the '\" + msg_type + \"' message type: \", msg);\n",
       "            return;\n",
       "        }\n",
       "\n",
       "        if (callback) {\n",
       "            try {\n",
       "                // console.log(\"Handling '\" + msg_type + \"' message: \", msg);\n",
       "                callback(fig, msg);\n",
       "            } catch (e) {\n",
       "                console.log(\"Exception inside the 'handler_\" + msg_type + \"' callback:\", e, e.stack, msg);\n",
       "            }\n",
       "        }\n",
       "    };\n",
       "}\n",
       "\n",
       "// from http://stackoverflow.com/questions/1114465/getting-mouse-location-in-canvas\n",
       "mpl.findpos = function(e) {\n",
       "    //this section is from http://www.quirksmode.org/js/events_properties.html\n",
       "    var targ;\n",
       "    if (!e)\n",
       "        e = window.event;\n",
       "    if (e.target)\n",
       "        targ = e.target;\n",
       "    else if (e.srcElement)\n",
       "        targ = e.srcElement;\n",
       "    if (targ.nodeType == 3) // defeat Safari bug\n",
       "        targ = targ.parentNode;\n",
       "\n",
       "    // jQuery normalizes the pageX and pageY\n",
       "    // pageX,Y are the mouse positions relative to the document\n",
       "    // offset() returns the position of the element relative to the document\n",
       "    var x = e.pageX - $(targ).offset().left;\n",
       "    var y = e.pageY - $(targ).offset().top;\n",
       "\n",
       "    return {\"x\": x, \"y\": y};\n",
       "};\n",
       "\n",
       "/*\n",
       " * return a copy of an object with only non-object keys\n",
       " * we need this to avoid circular references\n",
       " * http://stackoverflow.com/a/24161582/3208463\n",
       " */\n",
       "function simpleKeys (original) {\n",
       "  return Object.keys(original).reduce(function (obj, key) {\n",
       "    if (typeof original[key] !== 'object')\n",
       "        obj[key] = original[key]\n",
       "    return obj;\n",
       "  }, {});\n",
       "}\n",
       "\n",
       "mpl.figure.prototype.mouse_event = function(event, name) {\n",
       "    var canvas_pos = mpl.findpos(event)\n",
       "\n",
       "    if (name === 'button_press')\n",
       "    {\n",
       "        this.canvas.focus();\n",
       "        this.canvas_div.focus();\n",
       "    }\n",
       "\n",
       "    var x = canvas_pos.x;\n",
       "    var y = canvas_pos.y;\n",
       "\n",
       "    this.send_message(name, {x: x, y: y, button: event.button,\n",
       "                             step: event.step,\n",
       "                             guiEvent: simpleKeys(event)});\n",
       "\n",
       "    /* This prevents the web browser from automatically changing to\n",
       "     * the text insertion cursor when the button is pressed.  We want\n",
       "     * to control all of the cursor setting manually through the\n",
       "     * 'cursor' event from matplotlib */\n",
       "    event.preventDefault();\n",
       "    return false;\n",
       "}\n",
       "\n",
       "mpl.figure.prototype._key_event_extra = function(event, name) {\n",
       "    // Handle any extra behaviour associated with a key event\n",
       "}\n",
       "\n",
       "mpl.figure.prototype.key_event = function(event, name) {\n",
       "\n",
       "    // Prevent repeat events\n",
       "    if (name == 'key_press')\n",
       "    {\n",
       "        if (event.which === this._key)\n",
       "            return;\n",
       "        else\n",
       "            this._key = event.which;\n",
       "    }\n",
       "    if (name == 'key_release')\n",
       "        this._key = null;\n",
       "\n",
       "    var value = '';\n",
       "    if (event.ctrlKey && event.which != 17)\n",
       "        value += \"ctrl+\";\n",
       "    if (event.altKey && event.which != 18)\n",
       "        value += \"alt+\";\n",
       "    if (event.shiftKey && event.which != 16)\n",
       "        value += \"shift+\";\n",
       "\n",
       "    value += 'k';\n",
       "    value += event.which.toString();\n",
       "\n",
       "    this._key_event_extra(event, name);\n",
       "\n",
       "    this.send_message(name, {key: value,\n",
       "                             guiEvent: simpleKeys(event)});\n",
       "    return false;\n",
       "}\n",
       "\n",
       "mpl.figure.prototype.toolbar_button_onclick = function(name) {\n",
       "    if (name == 'download') {\n",
       "        this.handle_save(this, null);\n",
       "    } else {\n",
       "        this.send_message(\"toolbar_button\", {name: name});\n",
       "    }\n",
       "};\n",
       "\n",
       "mpl.figure.prototype.toolbar_button_onmouseover = function(tooltip) {\n",
       "    this.message.textContent = tooltip;\n",
       "};\n",
       "mpl.toolbar_items = [[\"Home\", \"Reset original view\", \"fa fa-home icon-home\", \"home\"], [\"Back\", \"Back to  previous view\", \"fa fa-arrow-left icon-arrow-left\", \"back\"], [\"Forward\", \"Forward to next view\", \"fa fa-arrow-right icon-arrow-right\", \"forward\"], [\"\", \"\", \"\", \"\"], [\"Pan\", \"Pan axes with left mouse, zoom with right\", \"fa fa-arrows icon-move\", \"pan\"], [\"Zoom\", \"Zoom to rectangle\", \"fa fa-square-o icon-check-empty\", \"zoom\"], [\"\", \"\", \"\", \"\"], [\"Download\", \"Download plot\", \"fa fa-floppy-o icon-save\", \"download\"]];\n",
       "\n",
       "mpl.extensions = [\"eps\", \"jpeg\", \"pdf\", \"png\", \"ps\", \"raw\", \"svg\", \"tif\"];\n",
       "\n",
       "mpl.default_extension = \"png\";var comm_websocket_adapter = function(comm) {\n",
       "    // Create a \"websocket\"-like object which calls the given IPython comm\n",
       "    // object with the appropriate methods. Currently this is a non binary\n",
       "    // socket, so there is still some room for performance tuning.\n",
       "    var ws = {};\n",
       "\n",
       "    ws.close = function() {\n",
       "        comm.close()\n",
       "    };\n",
       "    ws.send = function(m) {\n",
       "        //console.log('sending', m);\n",
       "        comm.send(m);\n",
       "    };\n",
       "    // Register the callback with on_msg.\n",
       "    comm.on_msg(function(msg) {\n",
       "        //console.log('receiving', msg['content']['data'], msg);\n",
       "        // Pass the mpl event to the overriden (by mpl) onmessage function.\n",
       "        ws.onmessage(msg['content']['data'])\n",
       "    });\n",
       "    return ws;\n",
       "}\n",
       "\n",
       "mpl.mpl_figure_comm = function(comm, msg) {\n",
       "    // This is the function which gets called when the mpl process\n",
       "    // starts-up an IPython Comm through the \"matplotlib\" channel.\n",
       "\n",
       "    var id = msg.content.data.id;\n",
       "    // Get hold of the div created by the display call when the Comm\n",
       "    // socket was opened in Python.\n",
       "    var element = $(\"#\" + id);\n",
       "    var ws_proxy = comm_websocket_adapter(comm)\n",
       "\n",
       "    function ondownload(figure, format) {\n",
       "        window.open(figure.imageObj.src);\n",
       "    }\n",
       "\n",
       "    var fig = new mpl.figure(id, ws_proxy,\n",
       "                           ondownload,\n",
       "                           element.get(0));\n",
       "\n",
       "    // Call onopen now - mpl needs it, as it is assuming we've passed it a real\n",
       "    // web socket which is closed, not our websocket->open comm proxy.\n",
       "    ws_proxy.onopen();\n",
       "\n",
       "    fig.parent_element = element.get(0);\n",
       "    fig.cell_info = mpl.find_output_cell(\"<div id='\" + id + \"'></div>\");\n",
       "    if (!fig.cell_info) {\n",
       "        console.error(\"Failed to find cell for figure\", id, fig);\n",
       "        return;\n",
       "    }\n",
       "\n",
       "    var output_index = fig.cell_info[2]\n",
       "    var cell = fig.cell_info[0];\n",
       "\n",
       "};\n",
       "\n",
       "mpl.figure.prototype.handle_close = function(fig, msg) {\n",
       "    fig.root.unbind('remove')\n",
       "\n",
       "    // Update the output cell to use the data from the current canvas.\n",
       "    fig.push_to_output();\n",
       "    var dataURL = fig.canvas.toDataURL();\n",
       "    // Re-enable the keyboard manager in IPython - without this line, in FF,\n",
       "    // the notebook keyboard shortcuts fail.\n",
       "    IPython.keyboard_manager.enable()\n",
       "    $(fig.parent_element).html('<img src=\"' + dataURL + '\">');\n",
       "    fig.close_ws(fig, msg);\n",
       "}\n",
       "\n",
       "mpl.figure.prototype.close_ws = function(fig, msg){\n",
       "    fig.send_message('closing', msg);\n",
       "    // fig.ws.close()\n",
       "}\n",
       "\n",
       "mpl.figure.prototype.push_to_output = function(remove_interactive) {\n",
       "    // Turn the data on the canvas into data in the output cell.\n",
       "    var dataURL = this.canvas.toDataURL();\n",
       "    this.cell_info[1]['text/html'] = '<img src=\"' + dataURL + '\">';\n",
       "}\n",
       "\n",
       "mpl.figure.prototype.updated_canvas_event = function() {\n",
       "    // Tell IPython that the notebook contents must change.\n",
       "    IPython.notebook.set_dirty(true);\n",
       "    this.send_message(\"ack\", {});\n",
       "    var fig = this;\n",
       "    // Wait a second, then push the new image to the DOM so\n",
       "    // that it is saved nicely (might be nice to debounce this).\n",
       "    setTimeout(function () { fig.push_to_output() }, 1000);\n",
       "}\n",
       "\n",
       "mpl.figure.prototype._init_toolbar = function() {\n",
       "    var fig = this;\n",
       "\n",
       "    var nav_element = $('<div/>')\n",
       "    nav_element.attr('style', 'width: 100%');\n",
       "    this.root.append(nav_element);\n",
       "\n",
       "    // Define a callback function for later on.\n",
       "    function toolbar_event(event) {\n",
       "        return fig.toolbar_button_onclick(event['data']);\n",
       "    }\n",
       "    function toolbar_mouse_event(event) {\n",
       "        return fig.toolbar_button_onmouseover(event['data']);\n",
       "    }\n",
       "\n",
       "    for(var toolbar_ind in mpl.toolbar_items){\n",
       "        var name = mpl.toolbar_items[toolbar_ind][0];\n",
       "        var tooltip = mpl.toolbar_items[toolbar_ind][1];\n",
       "        var image = mpl.toolbar_items[toolbar_ind][2];\n",
       "        var method_name = mpl.toolbar_items[toolbar_ind][3];\n",
       "\n",
       "        if (!name) { continue; };\n",
       "\n",
       "        var button = $('<button class=\"btn btn-default\" href=\"#\" title=\"' + name + '\"><i class=\"fa ' + image + ' fa-lg\"></i></button>');\n",
       "        button.click(method_name, toolbar_event);\n",
       "        button.mouseover(tooltip, toolbar_mouse_event);\n",
       "        nav_element.append(button);\n",
       "    }\n",
       "\n",
       "    // Add the status bar.\n",
       "    var status_bar = $('<span class=\"mpl-message\" style=\"text-align:right; float: right;\"/>');\n",
       "    nav_element.append(status_bar);\n",
       "    this.message = status_bar[0];\n",
       "\n",
       "    // Add the close button to the window.\n",
       "    var buttongrp = $('<div class=\"btn-group inline pull-right\"></div>');\n",
       "    var button = $('<button class=\"btn btn-mini btn-primary\" href=\"#\" title=\"Stop Interaction\"><i class=\"fa fa-power-off icon-remove icon-large\"></i></button>');\n",
       "    button.click(function (evt) { fig.handle_close(fig, {}); } );\n",
       "    button.mouseover('Stop Interaction', toolbar_mouse_event);\n",
       "    buttongrp.append(button);\n",
       "    var titlebar = this.root.find($('.ui-dialog-titlebar'));\n",
       "    titlebar.prepend(buttongrp);\n",
       "}\n",
       "\n",
       "mpl.figure.prototype._root_extra_style = function(el){\n",
       "    var fig = this\n",
       "    el.on(\"remove\", function(){\n",
       "\tfig.close_ws(fig, {});\n",
       "    });\n",
       "}\n",
       "\n",
       "mpl.figure.prototype._canvas_extra_style = function(el){\n",
       "    // this is important to make the div 'focusable\n",
       "    el.attr('tabindex', 0)\n",
       "    // reach out to IPython and tell the keyboard manager to turn it's self\n",
       "    // off when our div gets focus\n",
       "\n",
       "    // location in version 3\n",
       "    if (IPython.notebook.keyboard_manager) {\n",
       "        IPython.notebook.keyboard_manager.register_events(el);\n",
       "    }\n",
       "    else {\n",
       "        // location in version 2\n",
       "        IPython.keyboard_manager.register_events(el);\n",
       "    }\n",
       "\n",
       "}\n",
       "\n",
       "mpl.figure.prototype._key_event_extra = function(event, name) {\n",
       "    var manager = IPython.notebook.keyboard_manager;\n",
       "    if (!manager)\n",
       "        manager = IPython.keyboard_manager;\n",
       "\n",
       "    // Check for shift+enter\n",
       "    if (event.shiftKey && event.which == 13) {\n",
       "        this.canvas_div.blur();\n",
       "        // select the cell after this one\n",
       "        var index = IPython.notebook.find_cell_index(this.cell_info[0]);\n",
       "        IPython.notebook.select(index + 1);\n",
       "    }\n",
       "}\n",
       "\n",
       "mpl.figure.prototype.handle_save = function(fig, msg) {\n",
       "    fig.ondownload(fig, null);\n",
       "}\n",
       "\n",
       "\n",
       "mpl.find_output_cell = function(html_output) {\n",
       "    // Return the cell and output element which can be found *uniquely* in the notebook.\n",
       "    // Note - this is a bit hacky, but it is done because the \"notebook_saving.Notebook\"\n",
       "    // IPython event is triggered only after the cells have been serialised, which for\n",
       "    // our purposes (turning an active figure into a static one), is too late.\n",
       "    var cells = IPython.notebook.get_cells();\n",
       "    var ncells = cells.length;\n",
       "    for (var i=0; i<ncells; i++) {\n",
       "        var cell = cells[i];\n",
       "        if (cell.cell_type === 'code'){\n",
       "            for (var j=0; j<cell.output_area.outputs.length; j++) {\n",
       "                var data = cell.output_area.outputs[j];\n",
       "                if (data.data) {\n",
       "                    // IPython >= 3 moved mimebundle to data attribute of output\n",
       "                    data = data.data;\n",
       "                }\n",
       "                if (data['text/html'] == html_output) {\n",
       "                    return [cell, data, j];\n",
       "                }\n",
       "            }\n",
       "        }\n",
       "    }\n",
       "}\n",
       "\n",
       "// Register the function which deals with the matplotlib target/channel.\n",
       "// The kernel may be null if the page has been refreshed.\n",
       "if (IPython.notebook.kernel != null) {\n",
       "    IPython.notebook.kernel.comm_manager.register_target('matplotlib', mpl.mpl_figure_comm);\n",
       "}\n"
      ],
      "text/plain": [
       "<IPython.core.display.Javascript object>"
      ]
     },
     "metadata": {},
     "output_type": "display_data"
    },
    {
     "data": {
      "text/html": [
       "<img src=\"data:image/png;base64,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\">"
      ],
      "text/plain": [
       "<IPython.core.display.HTML object>"
      ]
     },
     "metadata": {},
     "output_type": "display_data"
    }
   ],
   "source": [
    "def supply(p, eta):\n",
    "    return p**eta\n",
    "def indirectSupply(q,eta):\n",
    "    return (q)**(1/eta)\n",
    "x_grid = np.linspace(0,2,201)\n",
    "figure = plt.figure()\n",
    "plt.plot(x_grid,supply(x_grid,2),label = \"Supply\")\n",
    "plt.plot(x_grid,indirectSupply(x_grid,2), linestyle = \"--\",label = \"Indirect Supply\")\n",
    "plt.ylim(0,2)\n",
    "plt.legend(loc=0);"
   ]
  },
  {
   "cell_type": "markdown",
   "metadata": {},
   "source": [
    "####  (b)\n",
    "\n",
    "Write a **do-loop** where at each iteration the equilibrium price and quantity are computed and displayed (for all four combinations).  Report these four set of values in a **table** and **comment**."
   ]
  },
  {
   "cell_type": "code",
   "execution_count": 84,
   "metadata": {
    "collapsed": true
   },
   "outputs": [],
   "source": [
    "a =  2; e = -2; eta=1\n",
    "def fun(p):\n",
    "    return p**eta - a*p**e\n",
    "def fprime(p):\n",
    "    return eta*p**(eta-1)-a*e*p**(e-1)"
   ]
  },
  {
   "cell_type": "markdown",
   "metadata": {},
   "source": [
    "#### scipy.optimize.newton\n",
    "\n",
    "```python\n",
    "scipy.optimize.newton(func, x0, fprime=None, args=(), tol=1.48e-08, maxiter=50, fprime2=None)\n",
    "```\n",
    "Find a zero using the Newton-Raphson or secant method.\n",
    "\n",
    "Find a zero of the function func given a nearby starting point x0. \n",
    "\n",
    "\n",
    "\n",
    "The Newton-Raphson method is used if the derivative fprime of func is provided, otherwise the secant method is used. \n",
    "\n",
    "for example:\n",
    "\n",
    "```python\n",
    "def f(x):\n",
    "   return (x**3 - 1)  # only one real root at x = 1\n",
    "\n",
    "def fprime(x):\n",
    "   return 3 * x**2  # only one real root at x = 1\n",
    "```\n",
    "\n",
    "\n",
    "ref:\n",
    "\n",
    "\n",
    "https://docs.scipy.org/doc/scipy/reference/generated/scipy.optimize.newton.html\n",
    "\n",
    "https://www.youtube.com/watch?v=b2eULzgZuo8"
   ]
  },
  {
   "cell_type": "code",
   "execution_count": 85,
   "metadata": {
    "collapsed": false
   },
   "outputs": [],
   "source": [
    "from scipy import optimize"
   ]
  },
  {
   "cell_type": "code",
   "execution_count": 86,
   "metadata": {
    "collapsed": false
   },
   "outputs": [
    {
     "data": {
      "image/png": "[encoded data removed]",
      "text/latex": [
       "$$1.2599210498948732$$"
      ],
      "text/plain": [
       "1.2599210498948732"
      ]
     },
     "execution_count": 86,
     "metadata": {},
     "output_type": "execute_result"
    }
   ],
   "source": [
    "root = optimize.newton(fun, x0=1,fprime=fprime, tol=1.48e-08, maxiter=50) #Only fprime provided, use Newton Raphson method\n",
    "root"
   ]
  },
  {
   "cell_type": "code",
   "execution_count": 87,
   "metadata": {
    "collapsed": false
   },
   "outputs": [
    {
     "data": {
      "image/png": "[encoded data removed]",
      "text/latex": [
       "$$1.259921049894854$$"
      ],
      "text/plain": [
       "1.259921049894854"
      ]
     },
     "execution_count": 87,
     "metadata": {},
     "output_type": "execute_result"
    }
   ],
   "source": [
    "root = optimize.newton(fun, x0=1, tol=1.48e-08, maxiter=150) #fprime and fprime2 not provided, use secant method\n",
    "root"
   ]
  },
  {
   "cell_type": "code",
   "execution_count": 95,
   "metadata": {
    "collapsed": false
   },
   "outputs": [
    {
     "name": "stdout",
     "output_type": "stream",
     "text": [
      "when e is -2 and eta is 1, pstar is 1.26; qstar is 1.26\n",
      "when e is -2 and eta is 3, pstar is 1.15; qstar is 1.52\n",
      "when e is -0.5 and eta is 1, pstar is 1.59; qstar is 1.59\n",
      "when e is -0.5 and eta is 3, pstar is 1.22; qstar is 1.81\n"
     ]
    }
   ],
   "source": [
    "a =  2; e_list = [-2,-0.5]; eta_list=[1,3]\n",
    "for e in e_list:\n",
    "    for eta in eta_list:\n",
    "        root = optimize.newton(fun, x0=1, fprime=fprime,tol=1.48e-08, maxiter=1500) # careful for x0 initial value\n",
    "        pstar = root\n",
    "        qstar = pstar**eta\n",
    "        print(\"when e is {} and eta is {}, pstar is {:.2f}; qstar is {:.2f}\".\n",
    "              format(e,eta,pstar,qstar))"
   ]
  },
  {
   "cell_type": "markdown",
   "metadata": {},
   "source": [
    "####  scipy.optimize.root\n",
    "\n",
    "Find a root of a vector function.\n",
    "\n",
    "\n",
    "```python\n",
    "scipy.optimize.root(fun, x0, args=(), method='hybr', jac=None, tol=None, callback=None, options=None)[source]\n",
    "```\n",
    "The function could be a systemof equations of a vector of $\\mathbf x$:\n",
    "\n",
    "for example:\n",
    "\n",
    "```python\n",
    "def fun(x):\n",
    "    return [x[0]  + 0.5 * (x[0] - x[1])**3 - 1.0,\n",
    "              0.5 * (x[1] - x[0])**3 + x[1]]\n",
    "\n",
    "def jac(x):\n",
    "    return np.array([[1 + 1.5 * (x[0] - x[1])**2,\n",
    "                       -1.5 * (x[0] - x[1])**2],\n",
    "                     [-1.5 * (x[1] - x[0])**2,\n",
    "                       1 + 1.5 * (x[1] - x[0])**2]])\n",
    "```\n",
    "\n",
    "\n",
    "ref:\n",
    "\n",
    "https://docs.scipy.org/doc/scipy/reference/generated/scipy.optimize.root.html\n",
    "\n",
    "https://www.youtube.com/watch?v=VvCKnVklXng"
   ]
  },
  {
   "cell_type": "code",
   "execution_count": 96,
   "metadata": {
    "collapsed": false
   },
   "outputs": [
    {
     "data": {
      "text/plain": [
       "array([ 1.21901363])"
      ]
     },
     "execution_count": 96,
     "metadata": {},
     "output_type": "execute_result"
    }
   ],
   "source": [
    "sol = optimize.root(fun , x0=[1],  method='broyden1') # careful for x0 initial value\n",
    "sol.x"
   ]
  },
  {
   "cell_type": "code",
   "execution_count": 97,
   "metadata": {
    "collapsed": false
   },
   "outputs": [
    {
     "name": "stdout",
     "output_type": "stream",
     "text": [
      "when e is -2 and eta is 1, pstar is 1.26; qstar is 1.26\n",
      "when e is -2 and eta is 3, pstar is 1.15; qstar is 1.52\n",
      "when e is -0.5 and eta is 1, pstar is 1.59; qstar is 1.59\n",
      "when e is -0.5 and eta is 3, pstar is 1.22; qstar is 1.81\n"
     ]
    }
   ],
   "source": [
    "a =  2; e_list = [-2,-0.5]; eta_list=[1,3]\n",
    "for e in e_list:\n",
    "    for eta in eta_list:\n",
    "        root = optimize.root(fun , x0=[1],  method='broyden1') # careful for x0 initial value\n",
    "        pstar = root.x[0] ## it returns an array \n",
    "        qstar = pstar**eta\n",
    "        print(\"when e is {} and eta is {}, pstar is {:.2f}; qstar is {:.2f}\".\n",
    "              format(e,eta,pstar,qstar))"
   ]
  },
  {
   "cell_type": "markdown",
   "metadata": {},
   "source": [
    "#### scipy.optimize.fsolve\n",
    "```python\n",
    "scipy.optimize.fsolve(func, x0, args=(), fprime=None, full_output=0, col_deriv=0, xtol=1.49012e-08, maxfev=0, band=None, epsfcn=None, factor=100, diag=None)[source]\n",
    "Find the roots of a function.\n",
    "```\n",
    "Return the roots of the (non-linear) equations defined by func(x) = 0 given a starting estimate.\n",
    "\n",
    "ref:\n",
    "\n",
    "https://docs.scipy.org/doc/scipy/reference/generated/scipy.optimize.fsolve.html#scipy.optimize.fsolve"
   ]
  },
  {
   "cell_type": "markdown",
   "metadata": {},
   "source": [
    "Find the points at which two given functions intersect\n",
    "Consider the example of finding the intersection of a polynomial and a line:\n",
    "\n",
    "$$y_1=x_1^2$$\n",
    "\n",
    "$$y_2=x_2+1$$"
   ]
  },
  {
   "cell_type": "code",
   "execution_count": 98,
   "metadata": {
    "collapsed": false
   },
   "outputs": [
    {
     "data": {
      "text/plain": [
       "array([ 1.61803399,  2.61803399])"
      ]
     },
     "execution_count": 98,
     "metadata": {},
     "output_type": "execute_result"
    }
   ],
   "source": [
    "from scipy.optimize import fsolve\n",
    "\n",
    "import numpy as np\n",
    "\n",
    "def f(xy):\n",
    "   x, y = xy\n",
    "   z = np.array([y - x**2, y - x - 1.0])\n",
    "   return z\n",
    "\n",
    "fsolve(f, [1.0, 2.0])"
   ]
  },
  {
   "cell_type": "code",
   "execution_count": null,
   "metadata": {
    "collapsed": true
   },
   "outputs": [],
   "source": []
  },
  {
   "cell_type": "code",
   "execution_count": null,
   "metadata": {
    "collapsed": true
   },
   "outputs": [],
   "source": []
  },
  {
   "cell_type": "markdown",
   "metadata": {},
   "source": [
    "#### Use Markdown for Easy Table\n",
    "\n",
    "https://www.tablesgenerator.com/markdown_tables\n",
    "\n",
    "| e\\eta  | 1 |  3 |\n",
    "|---|---|---|\n",
    "|  -2 | 1.26, 1.26  | 1.15, 1.51  |\n",
    "|  -0.5 |  1.59, 1.59 | 1.22, 1.81  |\n",
    "\n",
    "\n",
    "#### Don't forget comments!!!!!!!!!!!!!!!!!!!!!!!!!!!!!!!!!!!!!!!!!"
   ]
  },
  {
   "cell_type": "markdown",
   "metadata": {},
   "source": [
    "## Numerical Computation\n",
    "Exact arithmetic and computer arithmetic do not always give the same answers (even in programs without programming errors)."
   ]
  },
  {
   "cell_type": "code",
   "execution_count": 149,
   "metadata": {
    "ExecuteTime": {
     "end_time": "2018-01-23T04:17:57.936237Z",
     "start_time": "2018-01-23T04:17:57.920696Z"
    },
    "collapsed": false
   },
   "outputs": [
    {
     "data": {
      "text/plain": [
       "False"
      ]
     },
     "execution_count": 149,
     "metadata": {},
     "output_type": "execute_result"
    }
   ],
   "source": [
    "1/3+1/2 == 5/6"
   ]
  },
  {
   "cell_type": "code",
   "execution_count": 150,
   "metadata": {
    "ExecuteTime": {
     "end_time": "2018-01-23T04:17:58.482065Z",
     "start_time": "2018-01-23T04:17:57.937741Z"
    },
    "collapsed": false
   },
   "outputs": [
    {
     "data": {
      "image/png": "[encoded data removed]",
      "text/latex": [
       "$$0.8333333333333333$$"
      ],
      "text/plain": [
       "0.8333333333333333"
      ]
     },
     "execution_count": 150,
     "metadata": {},
     "output_type": "execute_result"
    }
   ],
   "source": [
    "1/3+1/2"
   ]
  },
  {
   "cell_type": "code",
   "execution_count": 151,
   "metadata": {
    "ExecuteTime": {
     "end_time": "2018-01-23T04:17:58.881144Z",
     "start_time": "2018-01-23T04:17:58.484055Z"
    },
    "collapsed": false
   },
   "outputs": [
    {
     "data": {
      "image/png": "[encoded data removed]",
      "text/latex": [
       "$$0.8333333333333334$$"
      ],
      "text/plain": [
       "0.8333333333333334"
      ]
     },
     "execution_count": 151,
     "metadata": {},
     "output_type": "execute_result"
    }
   ],
   "source": [
    "5/6"
   ]
  },
  {
   "cell_type": "markdown",
   "metadata": {},
   "source": [
    "## Symbolic Computation\n",
    "Sympy provides symbolic computation like Maple."
   ]
  },
  {
   "cell_type": "code",
   "execution_count": 152,
   "metadata": {
    "ExecuteTime": {
     "end_time": "2018-01-23T04:17:59.279044Z",
     "start_time": "2018-01-23T04:17:58.882146Z"
    },
    "collapsed": false
   },
   "outputs": [
    {
     "data": {
      "image/png": "[encoded data removed]",
      "text/latex": [
       "$$\\frac{5}{6}$$"
      ],
      "text/plain": [
       "5/6"
      ]
     },
     "execution_count": 152,
     "metadata": {},
     "output_type": "execute_result"
    }
   ],
   "source": [
    "sym.Rational(1,3) + sym.Rational(1,2)"
   ]
  },
  {
   "cell_type": "code",
   "execution_count": 153,
   "metadata": {
    "ExecuteTime": {
     "end_time": "2018-01-23T04:17:59.283556Z",
     "start_time": "2018-01-23T04:17:59.280048Z"
    },
    "collapsed": false
   },
   "outputs": [
    {
     "data": {
      "text/plain": [
       "True"
      ]
     },
     "execution_count": 153,
     "metadata": {},
     "output_type": "execute_result"
    }
   ],
   "source": [
    "sym.Rational(1,3) + sym.Rational(1,2) == sym.Rational(5,6) "
   ]
  },
  {
   "cell_type": "markdown",
   "metadata": {},
   "source": [
    " ## the IS-LM Model\n",
    " \n",
    " $$A x = b$$"
   ]
  },
  {
   "cell_type": "code",
   "execution_count": 154,
   "metadata": {
    "ExecuteTime": {
     "end_time": "2018-01-23T04:17:59.309123Z",
     "start_time": "2018-01-23T04:17:59.285060Z"
    },
    "collapsed": false
   },
   "outputs": [
    {
     "data": {
      "text/plain": [
       "matrix([[  1.00000000e+00,   5.00000000e-04],\n",
       "        [  1.00000000e+00,  -2.50000000e-04]])"
      ]
     },
     "execution_count": 154,
     "metadata": {},
     "output_type": "execute_result"
    }
   ],
   "source": [
    "A = np.matrix([[1, 0.0005], [1, -0.00025]])\n",
    "A"
   ]
  },
  {
   "cell_type": "markdown",
   "metadata": {},
   "source": [
    "```python\n",
    "np.matrix()\n",
    "```\n",
    "returns a matrix from an array-like object, or from a string of data. A [matrix](https://docs.scipy.org/doc/numpy-1.13.0/reference/generated/numpy.matrix.html) is a specialized 2-D array that retains its 2-D nature through operations. It has certain special operators, such as * (matrix multiplication) and ** (matrix power).\n",
    "\n",
    "Numpy [array](https://docs.scipy.org/doc/numpy-1.13.0/user/basics.creation.html) is more versatile and can be high dimension.\n"
   ]
  },
  {
   "cell_type": "markdown",
   "metadata": {},
   "source": [
    "Like a Numpy array, matrix has some fields/attributes: `shape, ndim, size`."
   ]
  },
  {
   "cell_type": "code",
   "execution_count": 155,
   "metadata": {
    "ExecuteTime": {
     "end_time": "2018-01-23T04:17:59.723761Z",
     "start_time": "2018-01-23T04:17:59.310128Z"
    },
    "collapsed": false
   },
   "outputs": [
    {
     "data": {
      "image/png": "[encoded data removed]",
      "text/latex": [
       "$$\\left ( 2, \\quad 2\\right )$$"
      ],
      "text/plain": [
       "(2, 2)"
      ]
     },
     "execution_count": 155,
     "metadata": {},
     "output_type": "execute_result"
    }
   ],
   "source": [
    "A.shape"
   ]
  },
  {
   "cell_type": "code",
   "execution_count": 156,
   "metadata": {
    "ExecuteTime": {
     "end_time": "2018-01-23T04:18:00.136039Z",
     "start_time": "2018-01-23T04:17:59.725265Z"
    },
    "collapsed": false
   },
   "outputs": [
    {
     "data": {
      "image/png": "[encoded data removed]",
      "text/latex": [
       "$$2$$"
      ],
      "text/plain": [
       "2"
      ]
     },
     "execution_count": 156,
     "metadata": {},
     "output_type": "execute_result"
    }
   ],
   "source": [
    "A.ndim"
   ]
  },
  {
   "cell_type": "code",
   "execution_count": 157,
   "metadata": {
    "ExecuteTime": {
     "end_time": "2018-01-23T04:18:00.140552Z",
     "start_time": "2018-01-23T04:18:00.137043Z"
    },
    "collapsed": false
   },
   "outputs": [
    {
     "data": {
      "text/plain": [
       "dtype('float64')"
      ]
     },
     "execution_count": 157,
     "metadata": {},
     "output_type": "execute_result"
    }
   ],
   "source": [
    "A.dtype"
   ]
  },
  {
   "cell_type": "code",
   "execution_count": 158,
   "metadata": {
    "ExecuteTime": {
     "end_time": "2018-01-23T04:18:00.555290Z",
     "start_time": "2018-01-23T04:18:00.142056Z"
    },
    "collapsed": false
   },
   "outputs": [
    {
     "data": {
      "image/png": "[encoded data removed]",
      "text/latex": [
       "$$4$$"
      ],
      "text/plain": [
       "4"
      ]
     },
     "execution_count": 158,
     "metadata": {},
     "output_type": "execute_result"
    }
   ],
   "source": [
    "A.size"
   ]
  },
  {
   "cell_type": "code",
   "execution_count": 159,
   "metadata": {
    "ExecuteTime": {
     "end_time": "2018-01-23T04:18:00.559334Z",
     "start_time": "2018-01-23T04:18:00.556293Z"
    },
    "collapsed": false
   },
   "outputs": [
    {
     "data": {
      "text/plain": [
       "array([ 0.55, -0.2 ])"
      ]
     },
     "execution_count": 159,
     "metadata": {},
     "output_type": "execute_result"
    }
   ],
   "source": [
    "b = np.array([0.55, -0.2])\n",
    "b"
   ]
  },
  {
   "cell_type": "code",
   "execution_count": 160,
   "metadata": {
    "ExecuteTime": {
     "end_time": "2018-01-23T04:18:01.089112Z",
     "start_time": "2018-01-23T04:18:00.560304Z"
    },
    "collapsed": false
   },
   "outputs": [
    {
     "data": {
      "image/png": "[encoded data removed]",
      "text/latex": [
       "$$\\left ( 2\\right )$$"
      ],
      "text/plain": [
       "(2,)"
      ]
     },
     "execution_count": 160,
     "metadata": {},
     "output_type": "execute_result"
    }
   ],
   "source": [
    "b.shape"
   ]
  },
  {
   "cell_type": "code",
   "execution_count": 161,
   "metadata": {
    "ExecuteTime": {
     "end_time": "2018-01-23T04:18:01.615512Z",
     "start_time": "2018-01-23T04:18:01.090616Z"
    },
    "collapsed": false
   },
   "outputs": [
    {
     "data": {
      "image/png": "[encoded data removed]",
      "text/latex": [
       "$$1$$"
      ],
      "text/plain": [
       "1"
      ]
     },
     "execution_count": 161,
     "metadata": {},
     "output_type": "execute_result"
    }
   ],
   "source": [
    "b.ndim"
   ]
  },
  {
   "cell_type": "code",
   "execution_count": 162,
   "metadata": {
    "ExecuteTime": {
     "end_time": "2018-01-23T04:18:01.621528Z",
     "start_time": "2018-01-23T04:18:01.617014Z"
    },
    "collapsed": false
   },
   "outputs": [
    {
     "data": {
      "text/plain": [
       "matrix([[ 0.55, -0.2 ]])"
      ]
     },
     "execution_count": 162,
     "metadata": {},
     "output_type": "execute_result"
    }
   ],
   "source": [
    "b = np.matrix([0.55, -0.2])\n",
    "b"
   ]
  },
  {
   "cell_type": "code",
   "execution_count": 163,
   "metadata": {
    "ExecuteTime": {
     "end_time": "2018-01-23T04:18:02.037293Z",
     "start_time": "2018-01-23T04:18:01.623531Z"
    },
    "collapsed": false
   },
   "outputs": [
    {
     "data": {
      "image/png": "[encoded data removed]",
      "text/latex": [
       "$$\\left ( 1, \\quad 2\\right )$$"
      ],
      "text/plain": [
       "(1, 2)"
      ]
     },
     "execution_count": 163,
     "metadata": {},
     "output_type": "execute_result"
    }
   ],
   "source": [
    "b.shape"
   ]
  },
  {
   "cell_type": "code",
   "execution_count": 164,
   "metadata": {
    "ExecuteTime": {
     "end_time": "2018-01-23T04:18:02.042306Z",
     "start_time": "2018-01-23T04:18:02.038296Z"
    },
    "collapsed": false
   },
   "outputs": [
    {
     "data": {
      "text/plain": [
       "matrix([[ 0.55],\n",
       "        [-0.2 ]])"
      ]
     },
     "execution_count": 164,
     "metadata": {},
     "output_type": "execute_result"
    }
   ],
   "source": [
    "b = np.matrix([[0.55], [-0.2]])\n",
    "b"
   ]
  },
  {
   "cell_type": "code",
   "execution_count": 165,
   "metadata": {
    "ExecuteTime": {
     "end_time": "2018-01-23T04:18:02.486988Z",
     "start_time": "2018-01-23T04:18:02.043309Z"
    },
    "collapsed": false
   },
   "outputs": [
    {
     "data": {
      "image/png": "[encoded data removed]",
      "text/latex": [
       "$$\\left ( 2, \\quad 1\\right )$$"
      ],
      "text/plain": [
       "(2, 1)"
      ]
     },
     "execution_count": 165,
     "metadata": {},
     "output_type": "execute_result"
    }
   ],
   "source": [
    "b.shape"
   ]
  },
  {
   "cell_type": "code",
   "execution_count": 166,
   "metadata": {
    "ExecuteTime": {
     "end_time": "2018-01-23T04:18:02.904125Z",
     "start_time": "2018-01-23T04:18:02.488493Z"
    },
    "collapsed": false
   },
   "outputs": [
    {
     "data": {
      "image/png": "[encoded data removed]",
      "text/latex": [
       "$$2$$"
      ],
      "text/plain": [
       "2"
      ]
     },
     "execution_count": 166,
     "metadata": {},
     "output_type": "execute_result"
    }
   ],
   "source": [
    "b.ndim"
   ]
  },
  {
   "cell_type": "markdown",
   "metadata": {
    "ExecuteTime": {
     "end_time": "2018-01-23T00:15:40.590206Z",
     "start_time": "2018-01-23T00:15:40.587210Z"
    }
   },
   "source": [
    "## Sovle equations by using Scipy\n",
    "\n",
    "Scipy has a set of tools to solve system of equations in its `linalg` subpackages. \n",
    "\n",
    "$$A x =b$$\n"
   ]
  },
  {
   "cell_type": "markdown",
   "metadata": {
    "ExecuteTime": {
     "end_time": "2018-01-23T00:16:10.150869Z",
     "start_time": "2018-01-23T00:16:10.147360Z"
    }
   },
   "source": [
    "### Mothed 1\n",
    "\n"
   ]
  },
  {
   "cell_type": "code",
   "execution_count": 167,
   "metadata": {
    "ExecuteTime": {
     "end_time": "2018-01-23T04:18:02.909123Z",
     "start_time": "2018-01-23T04:18:02.905613Z"
    },
    "collapsed": false
   },
   "outputs": [
    {
     "data": {
      "text/plain": [
       "array([[  3.33333333e-01,   6.66666667e-01],\n",
       "       [  1.33333333e+03,  -1.33333333e+03]])"
      ]
     },
     "execution_count": 167,
     "metadata": {},
     "output_type": "execute_result"
    }
   ],
   "source": [
    "#Compute and display the inverse \n",
    "A_inv = la.inv(A) \n",
    "A_inv"
   ]
  },
  {
   "cell_type": "code",
   "execution_count": 168,
   "metadata": {
    "ExecuteTime": {
     "end_time": "2018-01-23T04:18:02.939203Z",
     "start_time": "2018-01-23T04:18:02.910127Z"
    },
    "collapsed": false
   },
   "outputs": [
    {
     "data": {
      "text/plain": [
       "matrix([[  5.00000000e-02],\n",
       "        [  1.00000000e+03]])"
      ]
     },
     "execution_count": 168,
     "metadata": {},
     "output_type": "execute_result"
    }
   ],
   "source": [
    "x = np.dot(A_inv, b)\n",
    "x"
   ]
  },
  {
   "cell_type": "code",
   "execution_count": null,
   "metadata": {
    "collapsed": true
   },
   "outputs": [],
   "source": []
  },
  {
   "cell_type": "markdown",
   "metadata": {},
   "source": [
    "### Mothed 2\n",
    "\n",
    "LU decomposition:\n",
    "\n",
    "```python\n",
    "\"\"\"\n",
    "Solve a linear equation by LU-decomposition\n",
    "Comes from LU decomposition of a matrix A s.t. A = LU\n",
    "Then\n",
    "LUx = b => Ux = y => Ly = b\n",
    "\"\"\"\n",
    "p, l, u = la.lu(A)\n",
    "```\n",
    "\n",
    "Example from slide"
   ]
  },
  {
   "cell_type": "code",
   "execution_count": 33,
   "metadata": {
    "ExecuteTime": {
     "end_time": "2018-01-23T04:18:02.961763Z",
     "start_time": "2018-01-23T04:18:02.940205Z"
    },
    "collapsed": false
   },
   "outputs": [
    {
     "data": {
      "text/plain": [
       "matrix([[-3,  2,  3],\n",
       "        [-3,  2,  1],\n",
       "        [ 3,  0,  0]])"
      ]
     },
     "execution_count": 33,
     "metadata": {},
     "output_type": "execute_result"
    }
   ],
   "source": [
    "A = np.matrix([[-3, 2, 3], \n",
    "               [-3 ,2 ,1], \n",
    "               [3, 0 ,0]])\n",
    "A"
   ]
  },
  {
   "cell_type": "code",
   "execution_count": 34,
   "metadata": {
    "ExecuteTime": {
     "end_time": "2018-01-23T04:18:02.984824Z",
     "start_time": "2018-01-23T04:18:02.962765Z"
    },
    "collapsed": false
   },
   "outputs": [
    {
     "data": {
      "text/plain": [
       "matrix([[10],\n",
       "        [ 8],\n",
       "        [-3]])"
      ]
     },
     "execution_count": 34,
     "metadata": {},
     "output_type": "execute_result"
    }
   ],
   "source": [
    "b = np.matrix([[10], [8], [-3]])\n",
    "b"
   ]
  },
  {
   "cell_type": "code",
   "execution_count": 35,
   "metadata": {
    "ExecuteTime": {
     "end_time": "2018-01-23T04:18:03.010408Z",
     "start_time": "2018-01-23T04:18:02.985826Z"
    },
    "collapsed": true
   },
   "outputs": [],
   "source": [
    "p, l, u = la.lu(A)"
   ]
  },
  {
   "cell_type": "code",
   "execution_count": 36,
   "metadata": {
    "ExecuteTime": {
     "end_time": "2018-01-23T04:18:03.036461Z",
     "start_time": "2018-01-23T04:18:03.011395Z"
    },
    "collapsed": false
   },
   "outputs": [
    {
     "data": {
      "text/plain": [
       "array([[ 1.,  0.,  0.],\n",
       "       [ 0.,  0.,  1.],\n",
       "       [ 0.,  1.,  0.]])"
      ]
     },
     "execution_count": 36,
     "metadata": {},
     "output_type": "execute_result"
    }
   ],
   "source": [
    "p"
   ]
  },
  {
   "cell_type": "code",
   "execution_count": 37,
   "metadata": {
    "ExecuteTime": {
     "end_time": "2018-01-23T04:18:03.059037Z",
     "start_time": "2018-01-23T04:18:03.037965Z"
    },
    "collapsed": false
   },
   "outputs": [
    {
     "data": {
      "text/plain": [
       "array([[ 1.,  0.,  0.],\n",
       "       [-1.,  1.,  0.],\n",
       "       [ 1.,  0.,  1.]])"
      ]
     },
     "execution_count": 37,
     "metadata": {},
     "output_type": "execute_result"
    }
   ],
   "source": [
    "l"
   ]
  },
  {
   "cell_type": "code",
   "execution_count": 38,
   "metadata": {
    "ExecuteTime": {
     "end_time": "2018-01-23T04:18:03.087619Z",
     "start_time": "2018-01-23T04:18:03.060539Z"
    },
    "collapsed": false
   },
   "outputs": [
    {
     "data": {
      "text/plain": [
       "array([[-3.,  2.,  3.],\n",
       "       [ 0.,  2.,  3.],\n",
       "       [ 0.,  0., -2.]])"
      ]
     },
     "execution_count": 38,
     "metadata": {},
     "output_type": "execute_result"
    }
   ],
   "source": [
    "u"
   ]
  },
  {
   "cell_type": "markdown",
   "metadata": {},
   "source": [
    "check"
   ]
  },
  {
   "cell_type": "code",
   "execution_count": 39,
   "metadata": {
    "ExecuteTime": {
     "end_time": "2018-01-23T04:18:03.109655Z",
     "start_time": "2018-01-23T04:18:03.089101Z"
    },
    "collapsed": false
   },
   "outputs": [
    {
     "data": {
      "text/plain": [
       "array([[-3.,  2.,  3.],\n",
       "       [-3.,  2.,  1.],\n",
       "       [ 3.,  0.,  0.]])"
      ]
     },
     "execution_count": 39,
     "metadata": {},
     "output_type": "execute_result"
    }
   ],
   "source": [
    "p@l@u"
   ]
  },
  {
   "cell_type": "markdown",
   "metadata": {},
   "source": [
    "Forward solving using lower triangle matrix\n",
    "\n",
    "$$ply = b$$"
   ]
  },
  {
   "cell_type": "code",
   "execution_count": 40,
   "metadata": {
    "ExecuteTime": {
     "end_time": "2018-01-23T04:18:03.136239Z",
     "start_time": "2018-01-23T04:18:03.111160Z"
    },
    "collapsed": false
   },
   "outputs": [
    {
     "data": {
      "text/plain": [
       "array([[ 10.],\n",
       "       [  7.],\n",
       "       [ -2.]])"
      ]
     },
     "execution_count": 40,
     "metadata": {},
     "output_type": "execute_result"
    }
   ],
   "source": [
    "y = la.solve(p@l, b)\n",
    "y   "
   ]
  },
  {
   "cell_type": "markdown",
   "metadata": {},
   "source": [
    "Backward solving using upper triangle matrix\n",
    "$$ux= y$$"
   ]
  },
  {
   "cell_type": "code",
   "execution_count": 41,
   "metadata": {
    "ExecuteTime": {
     "end_time": "2018-01-23T04:18:03.163311Z",
     "start_time": "2018-01-23T04:18:03.137229Z"
    },
    "collapsed": false
   },
   "outputs": [
    {
     "data": {
      "text/plain": [
       "array([[-1.],\n",
       "       [ 2.],\n",
       "       [ 1.]])"
      ]
     },
     "execution_count": 41,
     "metadata": {},
     "output_type": "execute_result"
    }
   ],
   "source": [
    "x = la.solve(u, y)\n",
    "x   "
   ]
  },
  {
   "cell_type": "markdown",
   "metadata": {},
   "source": [
    "## Symbolic Compuation in Sympy"
   ]
  },
  {
   "cell_type": "code",
   "execution_count": 42,
   "metadata": {
    "ExecuteTime": {
     "end_time": "2018-01-23T04:18:03.718298Z",
     "start_time": "2018-01-23T04:18:03.164301Z"
    },
    "collapsed": false
   },
   "outputs": [
    {
     "data": {
      "text/latex": [
       "$$\\left[\\begin{matrix}-3.0 & 2.0 & 3.0\\\\-3.0 & 2.0 & 1.0\\\\3.0 & 0.0 & 0.0\\end{matrix}\\right]$$"
      ],
      "text/plain": [
       "⎡-3.0  2.0  3.0⎤\n",
       "⎢              ⎥\n",
       "⎢-3.0  2.0  1.0⎥\n",
       "⎢              ⎥\n",
       "⎣3.0   0.0  0.0⎦"
      ]
     },
     "execution_count": 42,
     "metadata": {},
     "output_type": "execute_result"
    }
   ],
   "source": [
    "# rename A and b\n",
    "M = sym.Matrix(A)\n",
    "v = sym.Matrix(b)\n",
    "M"
   ]
  },
  {
   "cell_type": "code",
   "execution_count": 43,
   "metadata": {
    "ExecuteTime": {
     "end_time": "2018-01-23T04:18:04.220527Z",
     "start_time": "2018-01-23T04:18:03.719801Z"
    },
    "collapsed": false
   },
   "outputs": [
    {
     "data": {
      "text/latex": [
       "$$\\left[\\begin{matrix}10.0\\\\8.0\\\\-3.0\\end{matrix}\\right]$$"
      ],
      "text/plain": [
       "⎡10.0⎤\n",
       "⎢    ⎥\n",
       "⎢8.0 ⎥\n",
       "⎢    ⎥\n",
       "⎣-3.0⎦"
      ]
     },
     "execution_count": 43,
     "metadata": {},
     "output_type": "execute_result"
    }
   ],
   "source": [
    "v"
   ]
  },
  {
   "cell_type": "markdown",
   "metadata": {},
   "source": [
    "## Method 1"
   ]
  },
  {
   "cell_type": "code",
   "execution_count": 44,
   "metadata": {
    "ExecuteTime": {
     "end_time": "2018-01-23T04:18:04.835925Z",
     "start_time": "2018-01-23T04:18:04.221530Z"
    },
    "collapsed": false
   },
   "outputs": [
    {
     "data": {
      "text/latex": [
       "$$\\left[\\begin{matrix}0 & 0 & 0.333333333333333\\\\-0.25 & 0.75 & 0.5\\\\0.5 & -0.5 & 0\\end{matrix}\\right]$$"
      ],
      "text/plain": [
       "⎡  0     0    0.333333333333333⎤\n",
       "⎢                              ⎥\n",
       "⎢-0.25  0.75         0.5       ⎥\n",
       "⎢                              ⎥\n",
       "⎣ 0.5   -0.5          0        ⎦"
      ]
     },
     "execution_count": 44,
     "metadata": {},
     "output_type": "execute_result"
    }
   ],
   "source": [
    "M.inv(\"LU\") # using LU Method to solve inverse, more efficient"
   ]
  },
  {
   "cell_type": "code",
   "execution_count": 45,
   "metadata": {
    "ExecuteTime": {
     "end_time": "2018-01-23T04:18:05.226464Z",
     "start_time": "2018-01-23T04:18:04.837430Z"
    },
    "collapsed": false
   },
   "outputs": [
    {
     "data": {
      "text/latex": [
       "$$\\left[\\begin{matrix}0 & 0 & 0.333333333333333\\\\-0.25 & 0.75 & 0.5\\\\0.5 & -0.5 & 0\\end{matrix}\\right]$$"
      ],
      "text/plain": [
       "⎡  0     0    0.333333333333333⎤\n",
       "⎢                              ⎥\n",
       "⎢-0.25  0.75         0.5       ⎥\n",
       "⎢                              ⎥\n",
       "⎣ 0.5   -0.5          0        ⎦"
      ]
     },
     "execution_count": 45,
     "metadata": {},
     "output_type": "execute_result"
    }
   ],
   "source": [
    "M.inv() # the same. \n",
    "# In SymPy the inverse is computed by Gaussian elimination by default"
   ]
  },
  {
   "cell_type": "code",
   "execution_count": 46,
   "metadata": {
    "ExecuteTime": {
     "end_time": "2018-01-23T04:18:05.725243Z",
     "start_time": "2018-01-23T04:18:05.227467Z"
    },
    "collapsed": false
   },
   "outputs": [
    {
     "data": {
      "text/latex": [
       "$$\\left[\\begin{matrix}-1.0\\\\2.0\\\\1.0\\end{matrix}\\right]$$"
      ],
      "text/plain": [
       "⎡-1.0⎤\n",
       "⎢    ⎥\n",
       "⎢2.0 ⎥\n",
       "⎢    ⎥\n",
       "⎣1.0 ⎦"
      ]
     },
     "execution_count": 46,
     "metadata": {},
     "output_type": "execute_result"
    }
   ],
   "source": [
    "M.inv(\"LU\")*v"
   ]
  },
  {
   "cell_type": "markdown",
   "metadata": {},
   "source": [
    "## Method 2"
   ]
  },
  {
   "cell_type": "code",
   "execution_count": 47,
   "metadata": {
    "collapsed": false
   },
   "outputs": [
    {
     "data": {
      "text/latex": [
       "$$\\left[\\begin{matrix}-3.0 & 2.0 & 3.0\\\\-3.0 & 2.0 & 1.0\\\\3.0 & 0.0 & 0.0\\end{matrix}\\right]$$"
      ],
      "text/plain": [
       "⎡-3.0  2.0  3.0⎤\n",
       "⎢              ⎥\n",
       "⎢-3.0  2.0  1.0⎥\n",
       "⎢              ⎥\n",
       "⎣3.0   0.0  0.0⎦"
      ]
     },
     "execution_count": 47,
     "metadata": {},
     "output_type": "execute_result"
    }
   ],
   "source": [
    "M"
   ]
  },
  {
   "cell_type": "code",
   "execution_count": 48,
   "metadata": {
    "ExecuteTime": {
     "end_time": "2018-01-23T04:18:06.221977Z",
     "start_time": "2018-01-23T04:18:05.726230Z"
    },
    "collapsed": false
   },
   "outputs": [
    {
     "data": {
      "text/latex": [
       "$$\\left ( \\left[\\begin{matrix}1.0 & 0 & 0\\\\0 & 1.0 & 0\\\\0 & 0 & 1.0\\end{matrix}\\right], \\quad \\left [ 0, \\quad 1, \\quad 2\\right ]\\right )$$"
      ],
      "text/plain": [
       "⎛⎡1.0   0    0 ⎤, [0, 1, 2]⎞\n",
       "⎜⎢             ⎥           ⎟\n",
       "⎜⎢ 0   1.0   0 ⎥           ⎟\n",
       "⎜⎢             ⎥           ⎟\n",
       "⎝⎣ 0    0   1.0⎦           ⎠"
      ]
     },
     "execution_count": 48,
     "metadata": {},
     "output_type": "execute_result"
    }
   ],
   "source": [
    "M.rref()"
   ]
  },
  {
   "cell_type": "markdown",
   "metadata": {},
   "source": [
    "#### RREF\n",
    "To put a matrix into reduced row echelon form, use `rref`. \n",
    "\n",
    "`rref` returns a tuple of two elements. The first is the reduced row echelon form, and the second is a tuple of indices of the pivot columns.\n",
    "\n"
   ]
  },
  {
   "cell_type": "code",
   "execution_count": 184,
   "metadata": {
    "ExecuteTime": {
     "end_time": "2018-01-23T04:18:06.615536Z",
     "start_time": "2018-01-23T04:18:06.223465Z"
    },
    "collapsed": false
   },
   "outputs": [
    {
     "data": {
      "image/png": "[encoded data removed]",
      "text/latex": [
       "$$\\left ( \\left[\\begin{matrix}1 & 0 & 0\\\\-1 & 1 & 0\\\\1 & 0 & 1\\end{matrix}\\right], \\quad \\left[\\begin{matrix}-3 & 2 & 3\\\\0 & 2 & 3\\\\0 & 0 & -2\\end{matrix}\\right], \\quad \\left [ \\left [ 1, \\quad 2\\right ]\\right ]\\right )$$"
      ],
      "text/plain": [
       "⎛⎡1   0  0⎤  ⎡-3  2  3 ⎤          ⎞\n",
       "⎜⎢        ⎥  ⎢         ⎥          ⎟\n",
       "⎜⎢-1  1  0⎥, ⎢0   2  3 ⎥, [[1, 2]]⎟\n",
       "⎜⎢        ⎥  ⎢         ⎥          ⎟\n",
       "⎝⎣1   0  1⎦  ⎣0   0  -2⎦          ⎠"
      ]
     },
     "execution_count": 184,
     "metadata": {},
     "output_type": "execute_result"
    }
   ],
   "source": [
    "M.LUdecomposition()"
   ]
  },
  {
   "cell_type": "markdown",
   "metadata": {},
   "source": [
    "\n",
    "Returns (L, U, perm) where L is a lower triangular matrix with unit diagonal, U is an upper triangular matrix, and perm is a list of row swap index pairs. If A is the original matrix, then A = (L*U).permuteBkwd(perm), and the row permutation matrix P such that P*A = L*U can be computed by P=eye(A.row).permuteFwd(perm).\n",
    "\n",
    "$$P*A = L*U$$\n",
    "\n",
    "See documentation for LUCombined for details about the keyword argument rankcheck, iszerofunc, and simpfunc.\n",
    "\n",
    "http://docs.sympy.org/latest/modules/matrices/matrices.html"
   ]
  },
  {
   "cell_type": "code",
   "execution_count": 185,
   "metadata": {
    "ExecuteTime": {
     "end_time": "2018-01-23T04:18:07.023132Z",
     "start_time": "2018-01-23T04:18:06.617042Z"
    },
    "collapsed": false
   },
   "outputs": [
    {
     "data": {
      "image/png": "[encoded data removed]",
      "text/latex": [
       "$$\\left[\\begin{matrix}1 & 0 & 0\\\\-1 & 1 & 0\\\\1 & 0 & 1\\end{matrix}\\right]$$"
      ],
      "text/plain": [
       "⎡1   0  0⎤\n",
       "⎢        ⎥\n",
       "⎢-1  1  0⎥\n",
       "⎢        ⎥\n",
       "⎣1   0  1⎦"
      ]
     },
     "execution_count": 185,
     "metadata": {},
     "output_type": "execute_result"
    }
   ],
   "source": [
    "L,U,perm = M.LUdecomposition()\n",
    "L"
   ]
  },
  {
   "cell_type": "code",
   "execution_count": 186,
   "metadata": {
    "ExecuteTime": {
     "end_time": "2018-01-23T04:18:07.513851Z",
     "start_time": "2018-01-23T04:18:07.024135Z"
    },
    "collapsed": false
   },
   "outputs": [
    {
     "data": {
      "image/png": "[encoded data removed]",
      "text/latex": [
       "$$\\left[\\begin{matrix}-3 & 2 & 3\\\\0 & 2 & 3\\\\0 & 0 & -2\\end{matrix}\\right]$$"
      ],
      "text/plain": [
       "⎡-3  2  3 ⎤\n",
       "⎢         ⎥\n",
       "⎢0   2  3 ⎥\n",
       "⎢         ⎥\n",
       "⎣0   0  -2⎦"
      ]
     },
     "execution_count": 186,
     "metadata": {},
     "output_type": "execute_result"
    }
   ],
   "source": [
    "U"
   ]
  },
  {
   "cell_type": "code",
   "execution_count": 187,
   "metadata": {
    "ExecuteTime": {
     "end_time": "2018-01-23T04:18:08.012166Z",
     "start_time": "2018-01-23T04:18:07.514854Z"
    },
    "collapsed": false
   },
   "outputs": [
    {
     "data": {
      "image/png": "[encoded data removed]",
      "text/latex": [
       "$$\\left[\\begin{matrix}10\\\\-3\\\\8\\end{matrix}\\right]$$"
      ],
      "text/plain": [
       "⎡10⎤\n",
       "⎢  ⎥\n",
       "⎢-3⎥\n",
       "⎢  ⎥\n",
       "⎣8 ⎦"
      ]
     },
     "execution_count": 187,
     "metadata": {},
     "output_type": "execute_result"
    }
   ],
   "source": [
    "# If LHS A is multiplied by perm, RHS v should be done once.\n",
    "v = v.permuteBkwd(perm)\n",
    "v"
   ]
  },
  {
   "cell_type": "markdown",
   "metadata": {},
   "source": [
    "the elements of x can be computed recursively using forward-substitution"
   ]
  },
  {
   "cell_type": "code",
   "execution_count": 188,
   "metadata": {
    "ExecuteTime": {
     "end_time": "2018-01-23T04:18:08.611202Z",
     "start_time": "2018-01-23T04:18:08.013156Z"
    },
    "collapsed": false
   },
   "outputs": [
    {
     "data": {
      "image/png": "[encoded data removed]",
      "text/latex": [
       "$$\\left[\\begin{matrix}10\\\\7\\\\-2\\end{matrix}\\right]$$"
      ],
      "text/plain": [
       "⎡10⎤\n",
       "⎢  ⎥\n",
       "⎢7 ⎥\n",
       "⎢  ⎥\n",
       "⎣-2⎦"
      ]
     },
     "execution_count": 188,
     "metadata": {},
     "output_type": "execute_result"
    }
   ],
   "source": [
    "L.LUsolve(v)"
   ]
  },
  {
   "cell_type": "markdown",
   "metadata": {},
   "source": [
    "Continue with a backward substitution. U is an upper triangular matrix, then the elements of x can be computed recursively using backward-substitution."
   ]
  },
  {
   "cell_type": "code",
   "execution_count": 189,
   "metadata": {
    "ExecuteTime": {
     "end_time": "2018-01-23T04:18:09.103006Z",
     "start_time": "2018-01-23T04:18:08.612690Z"
    },
    "collapsed": false
   },
   "outputs": [
    {
     "data": {
      "image/png": "[encoded data removed]",
      "text/latex": [
       "$$\\left[\\begin{matrix}-1\\\\2\\\\1\\end{matrix}\\right]$$"
      ],
      "text/plain": [
       "⎡-1⎤\n",
       "⎢  ⎥\n",
       "⎢2 ⎥\n",
       "⎢  ⎥\n",
       "⎣1 ⎦"
      ]
     },
     "execution_count": 189,
     "metadata": {},
     "output_type": "execute_result"
    }
   ],
   "source": [
    "U.LUsolve(L.LUsolve(v))"
   ]
  },
  {
   "cell_type": "markdown",
   "metadata": {},
   "source": [
    "## More Sympy\n",
    "\n",
    "ref:\n",
    "\n",
    "http://nbviewer.jupyter.org/github/jrjohansson/scientific-python-lectures/blob/master/Lecture-5-Sympy.ipynb"
   ]
  },
  {
   "cell_type": "code",
   "execution_count": null,
   "metadata": {
    "collapsed": true
   },
   "outputs": [],
   "source": []
  }
 ],
 "metadata": {
  "kernelspec": {
   "display_name": "Python 3",
   "language": "python",
   "name": "python3"
  },
  "language_info": {
   "codemirror_mode": {
    "name": "ipython",
    "version": 3
   },
   "file_extension": ".py",
   "mimetype": "text/x-python",
   "name": "python",
   "nbconvert_exporter": "python",
   "pygments_lexer": "ipython3",
   "version": "3.5.2"
  }
 },
 "nbformat": 4,
 "nbformat_minor": 2
}
