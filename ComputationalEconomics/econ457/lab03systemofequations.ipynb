{
 "cells": [
  {
   "cell_type": "markdown",
   "metadata": {},
   "source": [
    "# System of Equation in Scipy and Sympy"
   ]
  },
  {
   "cell_type": "code",
   "execution_count": null,
   "metadata": {
    "ExecuteTime": {
     "end_time": "2018-01-23T04:42:37.166588Z",
     "start_time": "2018-01-23T04:42:37.161591Z"
    },
    "collapsed": true
   },
   "outputs": [],
   "source": [
    "# convention\n",
    "import numpy as np\n",
    "import scipy as sp\n",
    "import scipy.linalg as la \n",
    "# The top-level components of scipy (such as linalg, optimize, etc.) are so-called subpackages and not modules (i.e., they're directories, not source code). \n",
    "# Scipy is set up such that subpackages must be imported separately.sp.linalg won't work\n",
    "import sympy as sym\n",
    "sym.init_printing() # for printing latex/mathjax format output"
   ]
  },
  {
   "cell_type": "code",
   "execution_count": null,
   "metadata": {
    "ExecuteTime": {
     "end_time": "2018-01-23T04:42:37.358179Z",
     "start_time": "2018-01-23T04:42:37.344156Z"
    },
    "collapsed": true
   },
   "outputs": [],
   "source": [
    "# plotting\n",
    "import matplotlib as mpl\n",
    "# matplotlib for ploting\n",
    "from matplotlib import pyplot as plt\n",
    "plt.style.use('fivethirtyeight')\n",
    "from mpl_toolkits.mplot3d import Axes3D     # 3d\n",
    "# for inline interactive plotting\n",
    "%matplotlib notebook\n",
    "%config InlineBackend.figure_format = 'retina'"
   ]
  },
  {
   "cell_type": "markdown",
   "metadata": {},
   "source": [
    "## Review Ass1\n",
    "### Question 1 (d)\n",
    "Plot two panels."
   ]
  },
  {
   "cell_type": "code",
   "execution_count": null,
   "metadata": {},
   "outputs": [],
   "source": [
    "fig, (ax1, ax2)  = plt.subplots(1,2, sharey= True,figsize = (10,5)) # you can set the for fig\n",
    "#ax1.plot\n",
    "#ax2.plot"
   ]
  },
  {
   "cell_type": "code",
   "execution_count": null,
   "metadata": {},
   "outputs": [],
   "source": [
    "fig, ax  = plt.subplots(2,1, sharex= True,figsize = (10,20)) # you can set the for fig\n",
    "#ax[0].plot\n",
    "#ax[1].plot"
   ]
  },
  {
   "cell_type": "markdown",
   "metadata": {},
   "source": [
    "### Question 2 \n",
    "#### (a)\n",
    "\n",
    "Plot the two **indirect functions** (note:  the **price has to be on the y-axis**)."
   ]
  },
  {
   "cell_type": "code",
   "execution_count": null,
   "metadata": {
    "collapsed": true
   },
   "outputs": [],
   "source": [
    "def demand(p, a, e):\n",
    "    return a*p**e\n",
    "def indirectDemand(q,a,e):\n",
    "    return (q/a)**(1/e)    "
   ]
  },
  {
   "cell_type": "code",
   "execution_count": null,
   "metadata": {},
   "outputs": [],
   "source": [
    "x_grid = np.linspace(0.1,2,201)\n",
    "figure = plt.figure()\n",
    "plt.plot(x_grid,demand(x_grid,1,-1),label = \"Demand\")\n",
    "plt.plot(x_grid,indirectDemand(x_grid,1,-1), linestyle = \"--\",label = \"Inderect Demand\")\n",
    "plt.ylim(0,2)\n",
    "plt.legend();"
   ]
  },
  {
   "cell_type": "code",
   "execution_count": null,
   "metadata": {},
   "outputs": [],
   "source": [
    "def supply(p, eta):\n",
    "    return p**eta\n",
    "def indirectSupply(q,eta):\n",
    "    return (q)**(1/eta)\n",
    "x_grid = np.linspace(0,2,201)\n",
    "figure = plt.figure()\n",
    "plt.plot(x_grid,supply(x_grid,2),label = \"Supply\")\n",
    "plt.plot(x_grid,indirectSupply(x_grid,2), linestyle = \"--\",label = \"Indirect Supply\")\n",
    "plt.ylim(0,2)\n",
    "plt.legend(loc=0);"
   ]
  },
  {
   "cell_type": "markdown",
   "metadata": {},
   "source": [
    "####  (b)\n",
    "\n",
    "Write a **do-loop** where at each iteration the equilibrium price and quantity are computed and displayed (for all four combinations).  Report these four set of values in a **table** and **comment**."
   ]
  },
  {
   "cell_type": "code",
   "execution_count": null,
   "metadata": {
    "collapsed": true
   },
   "outputs": [],
   "source": [
    "a =  2; e = -2; eta=1\n",
    "def fun(p):\n",
    "    return p**eta - a*p**e\n",
    "def fprime(p):\n",
    "    return eta*p**(eta-1)-a*e*p**(e-1)"
   ]
  },
  {
   "cell_type": "markdown",
   "metadata": {},
   "source": [
    "#### scipy.optimize.newton\n",
    "\n",
    "```python\n",
    "scipy.optimize.newton(func, x0, fprime=None, args=(), tol=1.48e-08, maxiter=50, fprime2=None)\n",
    "```\n",
    "Find a zero using the Newton-Raphson or secant method.\n",
    "\n",
    "Find a zero of the function func given a nearby starting point x0. \n",
    "\n",
    "\n",
    "\n",
    "The Newton-Raphson method is used if the derivative fprime of func is provided, otherwise the secant method is used. \n",
    "\n",
    "for example:\n",
    "\n",
    "```python\n",
    "def f(x):\n",
    "   return (x**3 - 1)  # only one real root at x = 1\n",
    "\n",
    "def fprime(x):\n",
    "   return 3 * x**2  # only one real root at x = 1\n",
    "```\n",
    "\n",
    "\n",
    "ref:\n",
    "\n",
    "\n",
    "https://docs.scipy.org/doc/scipy/reference/generated/scipy.optimize.newton.html\n",
    "\n",
    "https://www.youtube.com/watch?v=b2eULzgZuo8"
   ]
  },
  {
   "cell_type": "code",
   "execution_count": null,
   "metadata": {
    "collapsed": true
   },
   "outputs": [],
   "source": [
    "from scipy import optimize"
   ]
  },
  {
   "cell_type": "code",
   "execution_count": null,
   "metadata": {},
   "outputs": [],
   "source": [
    "root = optimize.newton(fun, x0=1,fprime=fprime, tol=1.48e-08, maxiter=50) #Only fprime provided, use Newton Raphson method\n",
    "root"
   ]
  },
  {
   "cell_type": "code",
   "execution_count": null,
   "metadata": {},
   "outputs": [],
   "source": [
    "root = optimize.newton(fun, x0=1, tol=1.48e-08, maxiter=150) #fprime and fprime2 not provided, use secant method\n",
    "root"
   ]
  },
  {
   "cell_type": "code",
   "execution_count": null,
   "metadata": {},
   "outputs": [],
   "source": [
    "a =  2; e_list = [-2,-0.5]; eta_list=[1,3]\n",
    "for e in e_list:\n",
    "    for eta in eta_list:\n",
    "        root = optimize.newton(fun, x0=1, fprime=fprime,tol=1.48e-08, maxiter=1500) # careful for x0 initial value\n",
    "        pstar = root\n",
    "        qstar = pstar**eta\n",
    "        print(\"when e is {} and eta is {}, pstar is {:.3f}; qstar is {:.2f}\".\n",
    "              format(e,eta,pstar,qstar))"
   ]
  },
  {
   "cell_type": "markdown",
   "metadata": {},
   "source": [
    "####  scipy.optimize.root\n",
    "\n",
    "Find a root of a vector function.\n",
    "\n",
    "\n",
    "```python\n",
    "scipy.optimize.root(fun, x0, args=(), method='hybr', jac=None, tol=None, callback=None, options=None)[source]\n",
    "```\n",
    "The function could be a systemof equations of a vector of $\\mathbf x$:\n",
    "\n",
    "for example:\n",
    "\n",
    "```python\n",
    "def fun(x):\n",
    "    return [x[0]  + 0.5 * (x[0] - x[1])**3 - 1.0,\n",
    "              0.5 * (x[1] - x[0])**3 + x[1]]\n",
    "\n",
    "def jac(x):\n",
    "    return np.array([[1 + 1.5 * (x[0] - x[1])**2,\n",
    "                       -1.5 * (x[0] - x[1])**2],\n",
    "                     [-1.5 * (x[1] - x[0])**2,\n",
    "                       1 + 1.5 * (x[1] - x[0])**2]])\n",
    "```\n",
    "\n",
    "\n",
    "ref:\n",
    "\n",
    "https://docs.scipy.org/doc/scipy/reference/generated/scipy.optimize.root.html\n",
    "\n",
    "https://www.youtube.com/watch?v=VvCKnVklXng"
   ]
  },
  {
   "cell_type": "code",
   "execution_count": null,
   "metadata": {
    "collapsed": true
   },
   "outputs": [],
   "source": [
    "a =  2; e = -0.5; eta=1\n",
    "def fun(pq):\n",
    "    p, q = pq\n",
    "    #q = a*p**e\n",
    "    #q = p**eta    \n",
    "    return np.array([q - a*p**e, q-p**eta])"
   ]
  },
  {
   "cell_type": "code",
   "execution_count": null,
   "metadata": {},
   "outputs": [],
   "source": [
    "root = optimize.root(fun , x0=[1,2]) # careful for x0 initial value\n",
    "root.x"
   ]
  },
  {
   "cell_type": "code",
   "execution_count": null,
   "metadata": {},
   "outputs": [],
   "source": [
    "a =  2; e_list = [-2,-0.5]; eta_list=[1,3]\n",
    "for e in e_list:\n",
    "    for eta in eta_list:\n",
    "        root = optimize.root(fun , x0=[1,2.]) # careful for x0 initial value\n",
    "        pstar, qstar = root.x ## it returns an array        \n",
    "        print(\"when e is {} and eta is {}, pstar is {:.2f}; qstar is {:.2f}\".\n",
    "              format(e,eta,pstar,qstar))"
   ]
  },
  {
   "cell_type": "markdown",
   "metadata": {},
   "source": [
    "#### scipy.optimize.fsolve\n",
    "```python\n",
    "scipy.optimize.fsolve(func, x0, args=(), fprime=None, full_output=0, col_deriv=0, xtol=1.49012e-08, maxfev=0, band=None, epsfcn=None, factor=100, diag=None)[source]\n",
    "Find the roots of a function.\n",
    "```\n",
    "Return the roots of the (non-linear) equations defined by func(x) = 0 given a starting estimate.\n",
    "\n",
    "ref:\n",
    "\n",
    "https://docs.scipy.org/doc/scipy/reference/generated/scipy.optimize.fsolve.html#scipy.optimize.fsolve"
   ]
  },
  {
   "cell_type": "markdown",
   "metadata": {},
   "source": [
    "Find the points at which two given functions intersect\n",
    "Consider the example of finding the intersection of a polynomial and a line:\n",
    "\n",
    "$$y_1=x_1^2$$\n",
    "\n",
    "$$y_2=x_2+1$$"
   ]
  },
  {
   "cell_type": "code",
   "execution_count": null,
   "metadata": {},
   "outputs": [],
   "source": [
    "from scipy.optimize import fsolve\n",
    "\n",
    "import numpy as np\n",
    "\n",
    "a =  2; e = -2; eta=1\n",
    "def fun(pq):\n",
    "    p, q = pq\n",
    "    #q = a*p**e\n",
    "    #q = p**eta    \n",
    "    return np.array([q - a*p**e, q-p**eta])\n",
    "\n",
    "fsolve(fun, x0=[1.0, 2.0])"
   ]
  },
  {
   "cell_type": "code",
   "execution_count": null,
   "metadata": {},
   "outputs": [],
   "source": [
    "a =  2; e_list = [-2,-0.5]; eta_list=[1,3]\n",
    "for e in e_list:\n",
    "    for eta in eta_list:\n",
    "        root = fsolve(fun ,x0=[1.0, 2.0]) # careful for x0 initial value\n",
    "        pstar, qstar = root ## it returns an array         \n",
    "        print(\"when e is {} and eta is {}, pstar is {:.2f}; qstar is {:.2f}\".\n",
    "              format(e,eta,pstar,qstar))"
   ]
  },
  {
   "cell_type": "code",
   "execution_count": null,
   "metadata": {
    "collapsed": true
   },
   "outputs": [],
   "source": []
  },
  {
   "cell_type": "markdown",
   "metadata": {},
   "source": [
    "#### Use Markdown for Easy Table\n",
    "\n",
    "https://www.tablesgenerator.com/markdown_tables\n",
    "\n",
    "| e\\eta  | 1 |  3 |\n",
    "|---|---|---|\n",
    "|  -2 | 1.26, 1.26  | 1.15, 1.51  |\n",
    "|  -0.5 |  1.59, 1.59 | 1.22, 1.81  |\n",
    "\n",
    "\n",
    "#### Don't forget comments!!!!!!!!!!!!!!!!!!!!!!!!!!!!!!!!!!!!!!!!!"
   ]
  },
  {
   "cell_type": "markdown",
   "metadata": {},
   "source": [
    "| a  |  1 |2   |\n",
    "|---|---|---|\n",
    "| 1  | 1.1 1.2  | 2.1 2.2  |\n",
    "| 2  | 3.2 2.2  | 2.1   2.2  |"
   ]
  },
  {
   "cell_type": "markdown",
   "metadata": {},
   "source": [
    "## Numerical Computation\n",
    "Exact arithmetic and computer arithmetic do not always give the same answers (even in programs without programming errors)."
   ]
  },
  {
   "cell_type": "code",
   "execution_count": null,
   "metadata": {
    "ExecuteTime": {
     "end_time": "2018-01-23T04:17:57.936237Z",
     "start_time": "2018-01-23T04:17:57.920696Z"
    }
   },
   "outputs": [],
   "source": [
    "1/3+1/2 == 5/6"
   ]
  },
  {
   "cell_type": "code",
   "execution_count": null,
   "metadata": {
    "ExecuteTime": {
     "end_time": "2018-01-23T04:17:58.482065Z",
     "start_time": "2018-01-23T04:17:57.937741Z"
    }
   },
   "outputs": [],
   "source": [
    "1/3+1/2"
   ]
  },
  {
   "cell_type": "code",
   "execution_count": null,
   "metadata": {
    "ExecuteTime": {
     "end_time": "2018-01-23T04:17:58.881144Z",
     "start_time": "2018-01-23T04:17:58.484055Z"
    }
   },
   "outputs": [],
   "source": [
    "5/6"
   ]
  },
  {
   "cell_type": "markdown",
   "metadata": {},
   "source": [
    "## Symbolic Computation\n",
    "Sympy provides symbolic computation like Maple."
   ]
  },
  {
   "cell_type": "code",
   "execution_count": null,
   "metadata": {
    "ExecuteTime": {
     "end_time": "2018-01-23T04:17:59.279044Z",
     "start_time": "2018-01-23T04:17:58.882146Z"
    }
   },
   "outputs": [],
   "source": [
    "sym.Rational(1,3) + sym.Rational(1,2)"
   ]
  },
  {
   "cell_type": "code",
   "execution_count": null,
   "metadata": {
    "ExecuteTime": {
     "end_time": "2018-01-23T04:17:59.283556Z",
     "start_time": "2018-01-23T04:17:59.280048Z"
    }
   },
   "outputs": [],
   "source": [
    "sym.Rational(1,3) + sym.Rational(1,2) == sym.Rational(5,6) "
   ]
  },
  {
   "cell_type": "markdown",
   "metadata": {},
   "source": [
    " ## the IS-LM Model\n",
    " \n",
    " $$A x = b$$"
   ]
  },
  {
   "cell_type": "code",
   "execution_count": null,
   "metadata": {
    "ExecuteTime": {
     "end_time": "2018-01-23T04:17:59.309123Z",
     "start_time": "2018-01-23T04:17:59.285060Z"
    }
   },
   "outputs": [],
   "source": [
    "A = np.matrix([[1, 0.0005], [1, -0.00025]])\n",
    "A"
   ]
  },
  {
   "cell_type": "markdown",
   "metadata": {},
   "source": [
    "```python\n",
    "np.matrix()\n",
    "```\n",
    "returns a matrix from an array-like object, or from a string of data. A [matrix](https://docs.scipy.org/doc/numpy-1.13.0/reference/generated/numpy.matrix.html) is a specialized 2-D array that retains its 2-D nature through operations. It has certain special operators, such as * (matrix multiplication) and ** (matrix power).\n",
    "\n",
    "Numpy [array](https://docs.scipy.org/doc/numpy-1.13.0/user/basics.creation.html) is more versatile and can be high dimension.\n"
   ]
  },
  {
   "cell_type": "markdown",
   "metadata": {},
   "source": [
    "Like a Numpy array, matrix has some **fields/attributes**: `shape, ndim, size`."
   ]
  },
  {
   "cell_type": "code",
   "execution_count": null,
   "metadata": {
    "ExecuteTime": {
     "end_time": "2018-01-23T04:17:59.723761Z",
     "start_time": "2018-01-23T04:17:59.310128Z"
    }
   },
   "outputs": [],
   "source": [
    "A.shape"
   ]
  },
  {
   "cell_type": "code",
   "execution_count": null,
   "metadata": {
    "ExecuteTime": {
     "end_time": "2018-01-23T04:18:00.136039Z",
     "start_time": "2018-01-23T04:17:59.725265Z"
    }
   },
   "outputs": [],
   "source": [
    "A.ndim"
   ]
  },
  {
   "cell_type": "code",
   "execution_count": null,
   "metadata": {
    "ExecuteTime": {
     "end_time": "2018-01-23T04:18:00.140552Z",
     "start_time": "2018-01-23T04:18:00.137043Z"
    }
   },
   "outputs": [],
   "source": [
    "A.dtype"
   ]
  },
  {
   "cell_type": "code",
   "execution_count": null,
   "metadata": {
    "ExecuteTime": {
     "end_time": "2018-01-23T04:18:00.555290Z",
     "start_time": "2018-01-23T04:18:00.142056Z"
    }
   },
   "outputs": [],
   "source": [
    "A.size"
   ]
  },
  {
   "cell_type": "code",
   "execution_count": null,
   "metadata": {
    "ExecuteTime": {
     "end_time": "2018-01-23T04:18:00.559334Z",
     "start_time": "2018-01-23T04:18:00.556293Z"
    }
   },
   "outputs": [],
   "source": [
    "b = np.array([0.55, -0.2])\n",
    "b"
   ]
  },
  {
   "cell_type": "code",
   "execution_count": null,
   "metadata": {
    "ExecuteTime": {
     "end_time": "2018-01-23T04:18:01.089112Z",
     "start_time": "2018-01-23T04:18:00.560304Z"
    }
   },
   "outputs": [],
   "source": [
    "b.shape"
   ]
  },
  {
   "cell_type": "code",
   "execution_count": null,
   "metadata": {
    "ExecuteTime": {
     "end_time": "2018-01-23T04:18:01.615512Z",
     "start_time": "2018-01-23T04:18:01.090616Z"
    }
   },
   "outputs": [],
   "source": [
    "b.ndim"
   ]
  },
  {
   "cell_type": "code",
   "execution_count": null,
   "metadata": {
    "ExecuteTime": {
     "end_time": "2018-01-23T04:18:01.621528Z",
     "start_time": "2018-01-23T04:18:01.617014Z"
    }
   },
   "outputs": [],
   "source": [
    "b = np.matrix([0.55, -0.2])\n",
    "b"
   ]
  },
  {
   "cell_type": "code",
   "execution_count": null,
   "metadata": {
    "ExecuteTime": {
     "end_time": "2018-01-23T04:18:02.037293Z",
     "start_time": "2018-01-23T04:18:01.623531Z"
    }
   },
   "outputs": [],
   "source": [
    "b.shape"
   ]
  },
  {
   "cell_type": "code",
   "execution_count": null,
   "metadata": {
    "ExecuteTime": {
     "end_time": "2018-01-23T04:18:02.042306Z",
     "start_time": "2018-01-23T04:18:02.038296Z"
    }
   },
   "outputs": [],
   "source": [
    "b = np.matrix([[0.55], [-0.2]])\n",
    "b"
   ]
  },
  {
   "cell_type": "code",
   "execution_count": null,
   "metadata": {
    "ExecuteTime": {
     "end_time": "2018-01-23T04:18:02.486988Z",
     "start_time": "2018-01-23T04:18:02.043309Z"
    }
   },
   "outputs": [],
   "source": [
    "b.shape"
   ]
  },
  {
   "cell_type": "code",
   "execution_count": null,
   "metadata": {
    "ExecuteTime": {
     "end_time": "2018-01-23T04:18:02.904125Z",
     "start_time": "2018-01-23T04:18:02.488493Z"
    }
   },
   "outputs": [],
   "source": [
    "b.ndim"
   ]
  },
  {
   "cell_type": "markdown",
   "metadata": {
    "ExecuteTime": {
     "end_time": "2018-01-23T00:15:40.590206Z",
     "start_time": "2018-01-23T00:15:40.587210Z"
    }
   },
   "source": [
    "## Sovle equations by using Scipy\n",
    "\n",
    "Scipy has a set of tools to solve system of equations in its `linalg` subpackages. \n",
    "\n",
    "$$A x =b$$\n"
   ]
  },
  {
   "cell_type": "markdown",
   "metadata": {
    "ExecuteTime": {
     "end_time": "2018-01-23T00:16:10.150869Z",
     "start_time": "2018-01-23T00:16:10.147360Z"
    }
   },
   "source": [
    "### Mothed 1\n",
    "\n"
   ]
  },
  {
   "cell_type": "code",
   "execution_count": null,
   "metadata": {
    "ExecuteTime": {
     "end_time": "2018-01-23T04:18:02.909123Z",
     "start_time": "2018-01-23T04:18:02.905613Z"
    }
   },
   "outputs": [],
   "source": [
    "#Compute and display the inverse \n",
    "A_inv = la.inv(A) \n",
    "A_inv"
   ]
  },
  {
   "cell_type": "code",
   "execution_count": null,
   "metadata": {
    "ExecuteTime": {
     "end_time": "2018-01-23T04:18:02.939203Z",
     "start_time": "2018-01-23T04:18:02.910127Z"
    }
   },
   "outputs": [],
   "source": [
    "x = np.dot(A_inv, b)\n",
    "x"
   ]
  },
  {
   "cell_type": "code",
   "execution_count": null,
   "metadata": {
    "collapsed": true
   },
   "outputs": [],
   "source": []
  },
  {
   "cell_type": "markdown",
   "metadata": {},
   "source": [
    "### Mothed 2\n",
    "\n",
    "LU decomposition:\n",
    "\n",
    "```python\n",
    "\"\"\"\n",
    "Solve a linear equation by LU-decomposition\n",
    "Comes from LU decomposition of a matrix A s.t. A = LU\n",
    "Then\n",
    "LUx = b => Ux = y => Ly = b\n",
    "\"\"\"\n",
    "p, l, u = la.lu(A)\n",
    "```\n",
    "\n",
    "Example from slide"
   ]
  },
  {
   "cell_type": "code",
   "execution_count": null,
   "metadata": {
    "ExecuteTime": {
     "end_time": "2018-01-23T04:18:02.961763Z",
     "start_time": "2018-01-23T04:18:02.940205Z"
    }
   },
   "outputs": [],
   "source": [
    "A = np.matrix([[-3, 2, 3], \n",
    "               [-3 ,2 ,1], \n",
    "               [3, 0 ,0]])\n",
    "A"
   ]
  },
  {
   "cell_type": "code",
   "execution_count": null,
   "metadata": {
    "ExecuteTime": {
     "end_time": "2018-01-23T04:18:02.984824Z",
     "start_time": "2018-01-23T04:18:02.962765Z"
    }
   },
   "outputs": [],
   "source": [
    "b = np.matrix([[10], [8], [-3]])\n",
    "b"
   ]
  },
  {
   "cell_type": "code",
   "execution_count": null,
   "metadata": {
    "ExecuteTime": {
     "end_time": "2018-01-23T04:18:03.010408Z",
     "start_time": "2018-01-23T04:18:02.985826Z"
    },
    "collapsed": true
   },
   "outputs": [],
   "source": [
    "p, l, u = la.lu(A)"
   ]
  },
  {
   "cell_type": "code",
   "execution_count": null,
   "metadata": {
    "ExecuteTime": {
     "end_time": "2018-01-23T04:18:03.036461Z",
     "start_time": "2018-01-23T04:18:03.011395Z"
    }
   },
   "outputs": [],
   "source": [
    "p"
   ]
  },
  {
   "cell_type": "code",
   "execution_count": null,
   "metadata": {
    "ExecuteTime": {
     "end_time": "2018-01-23T04:18:03.059037Z",
     "start_time": "2018-01-23T04:18:03.037965Z"
    }
   },
   "outputs": [],
   "source": [
    "l"
   ]
  },
  {
   "cell_type": "code",
   "execution_count": null,
   "metadata": {
    "ExecuteTime": {
     "end_time": "2018-01-23T04:18:03.087619Z",
     "start_time": "2018-01-23T04:18:03.060539Z"
    }
   },
   "outputs": [],
   "source": [
    "u"
   ]
  },
  {
   "cell_type": "markdown",
   "metadata": {},
   "source": [
    "check"
   ]
  },
  {
   "cell_type": "code",
   "execution_count": null,
   "metadata": {
    "ExecuteTime": {
     "end_time": "2018-01-23T04:18:03.109655Z",
     "start_time": "2018-01-23T04:18:03.089101Z"
    }
   },
   "outputs": [],
   "source": [
    "p@l@u"
   ]
  },
  {
   "cell_type": "code",
   "execution_count": null,
   "metadata": {
    "collapsed": true
   },
   "outputs": [],
   "source": []
  },
  {
   "cell_type": "markdown",
   "metadata": {},
   "source": [
    "Forward solving using lower triangle matrix\n",
    "\n",
    "$$ply = b$$"
   ]
  },
  {
   "cell_type": "code",
   "execution_count": null,
   "metadata": {
    "ExecuteTime": {
     "end_time": "2018-01-23T04:18:03.136239Z",
     "start_time": "2018-01-23T04:18:03.111160Z"
    }
   },
   "outputs": [],
   "source": [
    "y = la.solve(p@l, b)\n",
    "y   "
   ]
  },
  {
   "cell_type": "markdown",
   "metadata": {},
   "source": [
    "Backward solving using upper triangle matrix\n",
    "$$ux= y$$"
   ]
  },
  {
   "cell_type": "code",
   "execution_count": null,
   "metadata": {
    "ExecuteTime": {
     "end_time": "2018-01-23T04:18:03.163311Z",
     "start_time": "2018-01-23T04:18:03.137229Z"
    }
   },
   "outputs": [],
   "source": [
    "x = la.solve(u, y)\n",
    "x   "
   ]
  },
  {
   "cell_type": "markdown",
   "metadata": {},
   "source": [
    "## Symbolic Compuation in Sympy"
   ]
  },
  {
   "cell_type": "code",
   "execution_count": null,
   "metadata": {
    "ExecuteTime": {
     "end_time": "2018-01-23T04:18:03.718298Z",
     "start_time": "2018-01-23T04:18:03.164301Z"
    }
   },
   "outputs": [],
   "source": [
    "# rename A and b\n",
    "M = sym.Matrix(A)\n",
    "v = sym.Matrix(b)\n",
    "M"
   ]
  },
  {
   "cell_type": "code",
   "execution_count": null,
   "metadata": {
    "ExecuteTime": {
     "end_time": "2018-01-23T04:18:04.220527Z",
     "start_time": "2018-01-23T04:18:03.719801Z"
    }
   },
   "outputs": [],
   "source": [
    "v"
   ]
  },
  {
   "cell_type": "markdown",
   "metadata": {},
   "source": [
    "## Method 1"
   ]
  },
  {
   "cell_type": "code",
   "execution_count": null,
   "metadata": {
    "ExecuteTime": {
     "end_time": "2018-01-23T04:18:04.835925Z",
     "start_time": "2018-01-23T04:18:04.221530Z"
    }
   },
   "outputs": [],
   "source": [
    "M.inv(\"LU\") # using LU Method to solve inverse, more efficient"
   ]
  },
  {
   "cell_type": "code",
   "execution_count": null,
   "metadata": {
    "ExecuteTime": {
     "end_time": "2018-01-23T04:18:05.226464Z",
     "start_time": "2018-01-23T04:18:04.837430Z"
    }
   },
   "outputs": [],
   "source": [
    "M.inv() # the same. \n",
    "# In SymPy the inverse is computed by Gaussian elimination by default"
   ]
  },
  {
   "cell_type": "code",
   "execution_count": null,
   "metadata": {
    "ExecuteTime": {
     "end_time": "2018-01-23T04:18:05.725243Z",
     "start_time": "2018-01-23T04:18:05.227467Z"
    }
   },
   "outputs": [],
   "source": [
    "M.inv(\"LU\")*v"
   ]
  },
  {
   "cell_type": "markdown",
   "metadata": {},
   "source": [
    "## Method 2"
   ]
  },
  {
   "cell_type": "code",
   "execution_count": null,
   "metadata": {},
   "outputs": [],
   "source": [
    "M"
   ]
  },
  {
   "cell_type": "code",
   "execution_count": null,
   "metadata": {
    "ExecuteTime": {
     "end_time": "2018-01-23T04:18:06.221977Z",
     "start_time": "2018-01-23T04:18:05.726230Z"
    }
   },
   "outputs": [],
   "source": [
    "M.rref()"
   ]
  },
  {
   "cell_type": "markdown",
   "metadata": {},
   "source": [
    "#### RREF\n",
    "To put a matrix into reduced row echelon form, use `rref`. \n",
    "\n",
    "`rref` returns a tuple of two elements. The first is the reduced row echelon form, and the second is a tuple of indices of the pivot columns.\n",
    "\n"
   ]
  },
  {
   "cell_type": "code",
   "execution_count": null,
   "metadata": {
    "ExecuteTime": {
     "end_time": "2018-01-23T04:18:06.615536Z",
     "start_time": "2018-01-23T04:18:06.223465Z"
    }
   },
   "outputs": [],
   "source": [
    "M.LUdecomposition()"
   ]
  },
  {
   "cell_type": "markdown",
   "metadata": {},
   "source": [
    "\n",
    "Returns (L, U, perm) where L is a lower triangular matrix with unit diagonal, U is an upper triangular matrix, and perm is a list of row swap index pairs. If A is the original matrix, then A = (L*U).permuteBkwd(perm), and the row permutation matrix P such that P*A = L*U can be computed by P=eye(A.row).permuteFwd(perm).\n",
    "\n",
    "$$P*A = L*U$$\n",
    "\n",
    "See documentation for LUCombined for details about the keyword argument rankcheck, iszerofunc, and simpfunc.\n",
    "\n",
    "http://docs.sympy.org/latest/modules/matrices/matrices.html"
   ]
  },
  {
   "cell_type": "code",
   "execution_count": null,
   "metadata": {
    "ExecuteTime": {
     "end_time": "2018-01-23T04:18:07.023132Z",
     "start_time": "2018-01-23T04:18:06.617042Z"
    }
   },
   "outputs": [],
   "source": [
    "L,U,perm = M.LUdecomposition()\n",
    "L"
   ]
  },
  {
   "cell_type": "code",
   "execution_count": null,
   "metadata": {
    "ExecuteTime": {
     "end_time": "2018-01-23T04:18:07.513851Z",
     "start_time": "2018-01-23T04:18:07.024135Z"
    }
   },
   "outputs": [],
   "source": [
    "U"
   ]
  },
  {
   "cell_type": "code",
   "execution_count": null,
   "metadata": {
    "ExecuteTime": {
     "end_time": "2018-01-23T04:18:08.012166Z",
     "start_time": "2018-01-23T04:18:07.514854Z"
    }
   },
   "outputs": [],
   "source": [
    "# If LHS A is multiplied by perm, RHS v should be done once.\n",
    "v = v.permuteBkwd(perm)\n",
    "v"
   ]
  },
  {
   "cell_type": "markdown",
   "metadata": {},
   "source": [
    "the elements of x can be computed recursively using forward-substitution"
   ]
  },
  {
   "cell_type": "code",
   "execution_count": null,
   "metadata": {
    "ExecuteTime": {
     "end_time": "2018-01-23T04:18:08.611202Z",
     "start_time": "2018-01-23T04:18:08.013156Z"
    }
   },
   "outputs": [],
   "source": [
    "L.LUsolve(v)"
   ]
  },
  {
   "cell_type": "markdown",
   "metadata": {},
   "source": [
    "Continue with a backward substitution. U is an upper triangular matrix, then the elements of x can be computed recursively using backward-substitution."
   ]
  },
  {
   "cell_type": "code",
   "execution_count": null,
   "metadata": {
    "ExecuteTime": {
     "end_time": "2018-01-23T04:18:09.103006Z",
     "start_time": "2018-01-23T04:18:08.612690Z"
    }
   },
   "outputs": [],
   "source": [
    "U.LUsolve(L.LUsolve(v))"
   ]
  },
  {
   "cell_type": "markdown",
   "metadata": {},
   "source": [
    "## More Sympy\n",
    "\n",
    "ref:\n",
    "\n",
    "http://nbviewer.jupyter.org/github/jrjohansson/scientific-python-lectures/blob/master/Lecture-5-Sympy.ipynb"
   ]
  },
  {
   "cell_type": "code",
   "execution_count": 1,
   "metadata": {
    "ExecuteTime": {
     "end_time": "2018-02-22T19:36:40.279178Z",
     "start_time": "2018-02-22T19:36:40.268650Z"
    }
   },
   "outputs": [
    {
     "data": {
      "text/html": [
       "<style>\n",
       "    @font-face {\n",
       "        font-family: \"Computer Modern\";\n",
       "        src: url('http://mirrors.ctan.org/fonts/cm-unicode/fonts/otf/cmunss.otf');\n",
       "    }\n",
       "    div.cell{\n",
       "        width: 90%;\n",
       "/*        margin-left:auto;*/\n",
       "/*        margin-right:auto;*/\n",
       "    }\n",
       "    ul {\n",
       "        line-height: 145%;\n",
       "        font-size: 90%;\n",
       "    }\n",
       "    li {\n",
       "        margin-bottom: 1em;\n",
       "    }\n",
       "    h1 {\n",
       "        font-family: Helvetica, serif;\n",
       "        color: rgb(0, 80, 120);\n",
       "    }\n",
       "    h2 {\n",
       "        color: rgb(0,100,110);\n",
       "    }\n",
       "    h3 {\n",
       "        color: rgb(94,127,192);\n",
       "    }\n",
       "    div.text_cell_render{\n",
       "        font-family: Computer Modern, \"Helvetica Neue\", Arial, Helvetica, Geneva, sans-serif;\n",
       "        line-height: 145%;\n",
       "        font-size: 130%;\n",
       "        width: 90%;\n",
       "        margin-left:auto;\n",
       "        margin-right:auto;\n",
       "    }\n",
       "    .CodeMirror{\n",
       "            font-family: \"Source Code Pro\", source-code-pro,Consolas, monospace;\n",
       "    }\n",
       "/*    .prompt{\n",
       "        display: None;\n",
       "    }*/\n",
       "    .text_cell_render h5 {\n",
       "        font-weight: 300;\n",
       "        font-size: 16pt;\n",
       "        color: #4057A1;\n",
       "        font-style: italic;\n",
       "        margin-bottom: 0.5em;\n",
       "        margin-top: 0.5em;\n",
       "        display: block;\n",
       "    }\n",
       "\n",
       "    .warning{\n",
       "        color: rgb( 240, 20, 20 )\n",
       "        }\n",
       "</style>"
      ],
      "text/plain": [
       "<IPython.core.display.HTML object>"
      ]
     },
     "execution_count": 1,
     "metadata": {},
     "output_type": "execute_result"
    }
   ],
   "source": [
    "from IPython.core.display import HTML, Image\n",
    "css_file = '../../custom.css'\n",
    "HTML(open(css_file, 'r').read())"
   ]
  },
  {
   "cell_type": "code",
   "execution_count": null,
   "metadata": {},
   "outputs": [],
   "source": []
  }
 ],
 "metadata": {
  "kernelspec": {
   "display_name": "Python 3",
   "language": "python",
   "name": "python3"
  },
  "language_info": {
   "codemirror_mode": {
    "name": "ipython",
    "version": 3
   },
   "file_extension": ".py",
   "mimetype": "text/x-python",
   "name": "python",
   "nbconvert_exporter": "python",
   "pygments_lexer": "ipython3",
   "version": "3.6.4"
  }
 },
 "nbformat": 4,
 "nbformat_minor": 2
}
