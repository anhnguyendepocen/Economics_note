{
 "cells": [
  {
   "cell_type": "code",
   "execution_count": null,
   "metadata": {
    "collapsed": true
   },
   "outputs": [],
   "source": [
    "import numpy as np\n",
    "import scipy.linalg as la\n",
    "import sympy as sym\n",
    "sym.init_printing(use_unicode=False, wrap_line=False, no_global=True)\n",
    "\n",
    "\n",
    "%matplotlib inline\n",
    "import matplotlib.pyplot as plt\n",
    "import matplotlib as mpl\n",
    "#mpl.rcParams['savefig.dpi'] = 80\n",
    "mpl.rcParams['figure.dpi'] = 80\n",
    "# from IPython.display import set_matplotlib_formats\n",
    "# set_matplotlib_formats('png', 'pdf')\n",
    "%config InlineBackend.figure_format = 'retina'\n",
    "#https://www.dataquest.io/blog/jupyter-notebook-tips-tricks-shortcuts/\n",
    "\n",
    "\n",
    "\n",
    "import seaborn as sns\n",
    "sns.set()\n",
    "#sns.set_style(style= \"whitegrid\")\n",
    "#plt.style.available\n",
    "plt.style.use('fivethirtyeight')\n",
    "\n"
   ]
  },
  {
   "cell_type": "code",
   "execution_count": null,
   "metadata": {
    "collapsed": true
   },
   "outputs": [],
   "source": []
  },
  {
   "cell_type": "markdown",
   "metadata": {},
   "source": [
    "## 1. Sympy Differential Function\n",
    "\n",
    "http://docs.sympy.org/latest/tutorial/calculus.html\n",
    "\n",
    "http://docs.sympy.org/latest/special_topics/finite_diff_derivatives.html"
   ]
  },
  {
   "cell_type": "code",
   "execution_count": null,
   "metadata": {
    "collapsed": true
   },
   "outputs": [],
   "source": []
  },
  {
   "cell_type": "code",
   "execution_count": null,
   "metadata": {
    "collapsed": true
   },
   "outputs": [],
   "source": [
    "x = sym.Symbol(\"x\")"
   ]
  },
  {
   "cell_type": "code",
   "execution_count": null,
   "metadata": {},
   "outputs": [],
   "source": [
    "3*x**2 +1"
   ]
  },
  {
   "cell_type": "code",
   "execution_count": null,
   "metadata": {},
   "outputs": [],
   "source": [
    "sym.diff(3*x**2 +1, x)"
   ]
  },
  {
   "cell_type": "code",
   "execution_count": null,
   "metadata": {},
   "outputs": [],
   "source": [
    "# evaluate at x = 2.0\n",
    "sym.diff(3*x**2 +1, x).subs(x,2.)"
   ]
  },
  {
   "cell_type": "code",
   "execution_count": null,
   "metadata": {
    "collapsed": true
   },
   "outputs": [],
   "source": []
  },
  {
   "cell_type": "markdown",
   "metadata": {},
   "source": [
    "## 2. Scipy Derivative Function\n",
    "\n",
    "https://docs.scipy.org/doc/scipy/reference/generated/scipy.misc.derivative.html\n",
    "\n",
    "`scipy.misc.derivative(func, x0, dx=1.0, n=1, args=(), order=3)`\n",
    "\n",
    "\n",
    "\n",
    "Find the n-th derivative of a function at a point.\n",
    "\n",
    "Given a function, use a **central difference** formula with spacing dx to compute the n-th derivative at x0.\n",
    "\n",
    "**Parameters:**\t\n",
    "\n",
    "\n",
    "    func : function\n",
    "\n",
    "        Input function.\n",
    "\n",
    "    x0 : float\n",
    "\n",
    "        The point at which n-th derivative is found.\n",
    "\n",
    "    dx : float, optional\n",
    "\n",
    "        Spacing.\n",
    "\n",
    "    n : int, optional\n",
    "\n",
    "        Order of the derivative. Default is 1.\n",
    "\n",
    "    args : tuple, optional\n",
    "\n",
    "        Arguments\n",
    "\n",
    "    order : int, optional\n",
    "\n",
    "        Number of points to use, must be odd.\n",
    "        \n",
    "    Notes：\n",
    "\n",
    "        Decreasing the step size too small can result in round-off error."
   ]
  },
  {
   "cell_type": "code",
   "execution_count": null,
   "metadata": {
    "collapsed": true
   },
   "outputs": [],
   "source": [
    "from scipy.misc import derivative"
   ]
  },
  {
   "cell_type": "code",
   "execution_count": null,
   "metadata": {},
   "outputs": [],
   "source": [
    "def f(x):\n",
    "    return 3*x**2 +1\n",
    "\n",
    "derivative(f, 2.0) # evaluate at x = 2.0"
   ]
  },
  {
   "cell_type": "code",
   "execution_count": null,
   "metadata": {
    "collapsed": true
   },
   "outputs": [],
   "source": []
  },
  {
   "cell_type": "markdown",
   "metadata": {},
   "source": [
    "## 3. Sympy Integration Function\n",
    "\n",
    "\n",
    "http://docs.sympy.org/latest/modules/integrals/integrals.html"
   ]
  },
  {
   "cell_type": "code",
   "execution_count": null,
   "metadata": {
    "collapsed": true
   },
   "outputs": [],
   "source": [
    "#Function\n",
    "def f(x):\n",
    "    return 1+np.cos(x)**2+x"
   ]
  },
  {
   "cell_type": "code",
   "execution_count": null,
   "metadata": {},
   "outputs": [],
   "source": [
    "x_array = np.linspace(0,2)\n",
    "plt.plot(x_array, f(x_array))\n",
    "plt.ylim((0,3.5));"
   ]
  },
  {
   "cell_type": "code",
   "execution_count": null,
   "metadata": {},
   "outputs": [],
   "source": [
    "sym.integrate(1+sym.cos(x)**2+x, x)"
   ]
  },
  {
   "cell_type": "code",
   "execution_count": null,
   "metadata": {},
   "outputs": [],
   "source": [
    "sym.integrate(1+sym.cos(x)**2+x, (x,0,2)).evalf()"
   ]
  },
  {
   "cell_type": "markdown",
   "metadata": {},
   "source": [
    "## 3. Scipy Integration Function\n",
    "\n",
    "https://docs.scipy.org/doc/scipy/reference/generated/scipy.integrate.quad.html#scipy.integrate.quad\n",
    "\n",
    "### General integration (quad)\n",
    "\n",
    "\n",
    "The function quad is provided to integrate a function of one variable between two points."
   ]
  },
  {
   "cell_type": "code",
   "execution_count": null,
   "metadata": {
    "collapsed": true
   },
   "outputs": [],
   "source": [
    "from scipy.integrate import quad"
   ]
  },
  {
   "cell_type": "code",
   "execution_count": null,
   "metadata": {},
   "outputs": [],
   "source": [
    "quad(f,0,2)"
   ]
  },
  {
   "cell_type": "markdown",
   "metadata": {
    "collapsed": true
   },
   "source": [
    "**Returns:\t**\n",
    "\n",
    "    y : float\n",
    "\n",
    "        The integral of func from a to b.\n",
    "\n",
    "    abserr : float\n",
    "\n",
    "        An estimate of the absolute error in the result."
   ]
  },
  {
   "cell_type": "code",
   "execution_count": null,
   "metadata": {},
   "outputs": [],
   "source": [
    "def f1(x):\n",
    "    return np.exp(-x)*np.sin(3.0*x)\n",
    "\n",
    "quad(f1,0., 2*np.pi)"
   ]
  },
  {
   "cell_type": "code",
   "execution_count": null,
   "metadata": {
    "collapsed": true
   },
   "outputs": [],
   "source": []
  },
  {
   "cell_type": "markdown",
   "metadata": {
    "collapsed": true
   },
   "source": [
    "## Scipy Integrate\n",
    "\n",
    "https://docs.scipy.org/doc/scipy/reference/tutorial/integrate.html\n",
    "\n",
    "https://docs.scipy.org/doc/scipy/reference/generated/scipy.integrate.quad.html#scipy.integrate.quad\n",
    "\n",
    "\n",
    "## scipy.integrate.quad\n",
    "\n",
    "\n",
    "`scipy.integrate.quad(func, a, b, args=(), full_output=0, epsabs=1.49e-08, epsrel=1.49e-08, limit=50, points=None, weight=None, wvar=None, wopts=None, maxp1=50, limlst=50)`\n",
    "\n",
    "\n",
    "\n",
    "Compute a definite integral.\n",
    "\n",
    "Integrate func from a to b (possibly infinite interval) using a technique from the Fortran library QUADPACK.\n",
    "\n"
   ]
  },
  {
   "cell_type": "code",
   "execution_count": null,
   "metadata": {
    "collapsed": true
   },
   "outputs": [],
   "source": [
    "\n",
    "\n"
   ]
  },
  {
   "cell_type": "markdown",
   "metadata": {
    "collapsed": true
   },
   "source": [
    "### 3.1 Newton-Cotes Methods: the Trapezoid Rule\n",
    "\n",
    "\n",
    "#### 3.1.1 numpy.trapz\n",
    "\n",
    "https://docs.scipy.org/doc/numpy/reference/generated/numpy.trapz.html\n",
    "\n",
    "\n",
    "`numpy.trapz(y, x=None, dx=1.0, axis=-1)`\n",
    "\n",
    "\n",
    "\n",
    "Integrate along the given axis using the composite trapezoidal rule.\n",
    "\n",
    "Integrate y (x) along given axis.\n",
    "\n",
    "**Parameters:**\n",
    "\n",
    "    y : array_like\n",
    "\n",
    "    Input array to integrate.\n",
    "\n",
    "    x : array_like, optional\n",
    "\n",
    "    The sample points corresponding to the y values. If x is None, the sample points are assumed to be evenly spaced dx apart. The default is None.\n",
    "\n",
    "    dx : scalar, optional\n",
    "\n",
    "    The spacing between sample points when x is None. The default is 1.\n",
    "\n",
    "    axis : int, optional\n",
    "\n",
    "    The axis along which to integrate.\n",
    "\n",
    "**Returns:**\n",
    "\n",
    "    trapz : float\n",
    "\n",
    "    Definite integral as approximated by trapezoidal rule.\n",
    "    \n",
    "    \n",
    "    \n",
    "![](https://upload.wikimedia.org/wikipedia/commons/thumb/d/d1/Integration_num_trapezes_notation.svg/330px-Integration_num_trapezes_notation.svg.png)\n",
    "\n",
    "\n",
    "\n"
   ]
  },
  {
   "cell_type": "code",
   "execution_count": null,
   "metadata": {},
   "outputs": [],
   "source": [
    "x_int_array = np.linspace(0,2, num = 5)\n",
    "\n",
    "x_int_array "
   ]
  },
  {
   "cell_type": "code",
   "execution_count": null,
   "metadata": {},
   "outputs": [],
   "source": [
    "y_int_array = f(x_int_array)\n",
    "y_int_array"
   ]
  },
  {
   "cell_type": "code",
   "execution_count": null,
   "metadata": {
    "scrolled": false
   },
   "outputs": [],
   "source": [
    "x_array = np.linspace(0,2, num = 50)\n",
    "plt.plot(x_int_array,y_int_array,'ro')#  , x_array, f(x_array),'b-')\n",
    "plt.ylim((0,3.5));"
   ]
  },
  {
   "cell_type": "code",
   "execution_count": null,
   "metadata": {},
   "outputs": [],
   "source": [
    "np.trapz(y_int_array, x=x_int_array)"
   ]
  },
  {
   "cell_type": "code",
   "execution_count": null,
   "metadata": {
    "collapsed": true
   },
   "outputs": [],
   "source": []
  },
  {
   "cell_type": "markdown",
   "metadata": {},
   "source": [
    "#### If we use different nodes or we forgot to specify the x  properly"
   ]
  },
  {
   "cell_type": "code",
   "execution_count": null,
   "metadata": {},
   "outputs": [],
   "source": [
    "\n",
    "plt.plot(x_int_array*2,y_int_array,'ro')#  , x_array, f(x_array),'b-')\n",
    "plt.ylim((0,3.5));"
   ]
  },
  {
   "cell_type": "code",
   "execution_count": null,
   "metadata": {
    "collapsed": true
   },
   "outputs": [],
   "source": [
    "np.trapz(y_int_array, x=x_int_array*2)\n"
   ]
  },
  {
   "cell_type": "code",
   "execution_count": null,
   "metadata": {
    "collapsed": true
   },
   "outputs": [],
   "source": []
  },
  {
   "cell_type": "code",
   "execution_count": null,
   "metadata": {
    "collapsed": true
   },
   "outputs": [],
   "source": [
    "np.trapz(y_int_array)\n"
   ]
  },
  {
   "cell_type": "markdown",
   "metadata": {},
   "source": [
    "#### If we use different nodes or we forgot to specify the x  properly"
   ]
  },
  {
   "cell_type": "code",
   "execution_count": null,
   "metadata": {},
   "outputs": [],
   "source": [
    "\n",
    "plt.plot(x_int_array*4,y_int_array,'ro')#  , x_array, f(x_array),'b-')\n",
    "plt.ylim((0,3.5));"
   ]
  },
  {
   "cell_type": "code",
   "execution_count": null,
   "metadata": {},
   "outputs": [],
   "source": [
    "np.trapz(y_int_array, x=x_int_array*4)\n"
   ]
  },
  {
   "cell_type": "code",
   "execution_count": null,
   "metadata": {},
   "outputs": [],
   "source": [
    "np.trapz(y_int_array, dx=2)\n"
   ]
  },
  {
   "cell_type": "code",
   "execution_count": null,
   "metadata": {
    "collapsed": true
   },
   "outputs": [],
   "source": []
  },
  {
   "cell_type": "markdown",
   "metadata": {},
   "source": [
    "\n",
    "#### 3.1.2 scipy.integrate.cumtrapz\n",
    "\n",
    "https://docs.scipy.org/doc/scipy/reference/generated/scipy.integrate.cumtrapz.html#scipy.integrate.cumtrapz\n",
    "\n",
    "`scipy.integrate.cumtrapz(y, x=None, dx=1.0, axis=-1, initial=None)`\n",
    "\n",
    "\n",
    "**Cumulatively** integrate y(x) using the composite trapezoidal rule.\n",
    "\n",
    "**Parameters:**\n",
    "\n",
    "\n",
    "    y : array_like\n",
    "\n",
    "        Values to integrate.\n",
    "\n",
    "    x : array_like, optional\n",
    "\n",
    "        The coordinate to integrate along. If None (default), use spacing dx between consecutive elements in y.\n",
    "\n",
    "    dx : float, optional\n",
    "\n",
    "        Spacing between elements of y. Only used if x is None.\n",
    "\n",
    "    axis : int, optional\n",
    "\n",
    "        Specifies the axis to cumulate. Default is -1 (last axis).\n",
    "\n",
    "    initial : scalar, optional\n",
    "\n",
    "        If given, uses this value as the first value in the returned result. Typically this value should be 0. Default is None, which means no value at x[0] is returned and res has one element less than y along the axis of integration.\n",
    "\n",
    "**Returns:**\n",
    "\n",
    "    res : ndarray\n",
    "\n",
    "        The result of cumulative integration of y along axis. If initial is None, the shape is such that the axis of integration has one less value than y. If initial is given, the shape is equal to that of y."
   ]
  },
  {
   "cell_type": "code",
   "execution_count": null,
   "metadata": {
    "collapsed": true
   },
   "outputs": [],
   "source": [
    "from scipy.integrate import cumtrapz"
   ]
  },
  {
   "cell_type": "code",
   "execution_count": null,
   "metadata": {},
   "outputs": [],
   "source": [
    "cumtrapz(y_int_array, x=x_int_array, initial=0) # cumulative integration of y along axis"
   ]
  },
  {
   "cell_type": "code",
   "execution_count": null,
   "metadata": {
    "collapsed": true
   },
   "outputs": [],
   "source": []
  },
  {
   "cell_type": "markdown",
   "metadata": {},
   "source": [
    "#### If we use different nodes or we forgot to specify the x  properly"
   ]
  },
  {
   "cell_type": "code",
   "execution_count": null,
   "metadata": {},
   "outputs": [],
   "source": [
    "cumtrapz(y_int_array) # cumulative integration of y along axis"
   ]
  },
  {
   "cell_type": "code",
   "execution_count": null,
   "metadata": {},
   "outputs": [],
   "source": [
    "cumtrapz(y_int_array, initial=0) # cumulative integration of y along axis"
   ]
  },
  {
   "cell_type": "code",
   "execution_count": null,
   "metadata": {},
   "outputs": [],
   "source": [
    "cumtrapz(y_int_array, x=x_int_array*2, initial=0) # cumulative integration of y along axis"
   ]
  },
  {
   "cell_type": "code",
   "execution_count": null,
   "metadata": {
    "collapsed": true
   },
   "outputs": [],
   "source": []
  },
  {
   "cell_type": "code",
   "execution_count": null,
   "metadata": {
    "collapsed": true
   },
   "outputs": [],
   "source": []
  },
  {
   "cell_type": "markdown",
   "metadata": {},
   "source": [
    "### 3.2 Newton-Cotes Methods: Simpson’s Rule\n",
    "\n",
    "`scipy.integrate.simps(y, x=None, dx=1, axis=-1, even='avg')`\n",
    "\n",
    "\n",
    "Integrate y(x) using samples along the given axis and the composite Simpson’s rule. If x is None, spacing of dx is assumed.\n",
    "\n",
    "If there are an even number of samples, N, then there are an odd number of intervals (N-1), but Simpson’s rule requires an even number of intervals. The parameter ‘even’ controls how this is handled.\n",
    "\n",
    "**Parameters:**\t\n",
    "\n",
    "    y : array_like\n",
    "\n",
    "        Array to be integrated.\n",
    "\n",
    "    x : array_like, optional\n",
    "\n",
    "        If given, the points at which y is sampled.\n",
    "\n",
    "    dx : int, optional\n",
    "\n",
    "        Spacing of integration points along axis of y. Only used when x is None. Default is 1.\n",
    "\n",
    "    axis : int, optional\n",
    "\n",
    "        Axis along which to integrate. Default is the last axis.\n",
    "\n",
    "    even : str {‘avg’, ‘first’, ‘last’}, optional\n",
    "\n",
    "        ‘avg’ : Average two results:1) use the first N-2 intervals with\n",
    "        a trapezoidal rule on the last interval and 2) use the last N-2 intervals with a trapezoidal rule on the first interval.\n",
    "\n",
    "        ‘first’ : Use Simpson’s rule for the first N-2 intervals with\n",
    "        a trapezoidal rule on the last interval.\n",
    "\n",
    "        ‘last’ : Use Simpson’s rule for the last N-2 intervals with a\n",
    "        trapezoidal rule on the first interval.\n",
    "        \n",
    "        \n",
    "        \n",
    "![](https://upload.wikimedia.org/wikipedia/en/6/67/Simpsonsrule2.gif)        \n",
    "\n",
    "\n",
    "An animation showing how Simpson's rule approximation improves with more strips."
   ]
  },
  {
   "cell_type": "code",
   "execution_count": null,
   "metadata": {
    "collapsed": true
   },
   "outputs": [],
   "source": []
  },
  {
   "cell_type": "code",
   "execution_count": null,
   "metadata": {
    "collapsed": true
   },
   "outputs": [],
   "source": [
    "from scipy.integrate import simps"
   ]
  },
  {
   "cell_type": "code",
   "execution_count": null,
   "metadata": {
    "collapsed": true
   },
   "outputs": [],
   "source": []
  },
  {
   "cell_type": "code",
   "execution_count": null,
   "metadata": {
    "collapsed": true
   },
   "outputs": [],
   "source": []
  },
  {
   "cell_type": "code",
   "execution_count": null,
   "metadata": {
    "collapsed": true
   },
   "outputs": [],
   "source": [
    "\n",
    "sym.integrate(1+sym.cos(x)**2+x, (x,0,2)).evalf()"
   ]
  },
  {
   "cell_type": "code",
   "execution_count": null,
   "metadata": {
    "collapsed": true
   },
   "outputs": [],
   "source": []
  },
  {
   "cell_type": "code",
   "execution_count": null,
   "metadata": {
    "collapsed": true
   },
   "outputs": [],
   "source": []
  },
  {
   "cell_type": "code",
   "execution_count": null,
   "metadata": {
    "collapsed": true
   },
   "outputs": [],
   "source": []
  },
  {
   "cell_type": "code",
   "execution_count": null,
   "metadata": {},
   "outputs": [],
   "source": [
    "# many nodes\n",
    "x1 = np.linspace(0,2.,num=50)\n",
    "x1"
   ]
  },
  {
   "cell_type": "code",
   "execution_count": null,
   "metadata": {},
   "outputs": [],
   "source": [
    "y1 = f(x1)\n",
    "y1"
   ]
  },
  {
   "cell_type": "code",
   "execution_count": null,
   "metadata": {},
   "outputs": [],
   "source": [
    "plt.plot(x1,y1,'ro')#  , x_array, f(x_array),'b-')\n",
    "plt.ylim((0,3.5));"
   ]
  },
  {
   "cell_type": "code",
   "execution_count": null,
   "metadata": {},
   "outputs": [],
   "source": [
    "I1 = simps(y1, x1)\n",
    "I1"
   ]
  },
  {
   "cell_type": "code",
   "execution_count": null,
   "metadata": {
    "collapsed": true
   },
   "outputs": [],
   "source": []
  },
  {
   "cell_type": "code",
   "execution_count": null,
   "metadata": {
    "collapsed": true
   },
   "outputs": [],
   "source": []
  },
  {
   "cell_type": "code",
   "execution_count": null,
   "metadata": {},
   "outputs": [],
   "source": [
    "# fewer nodes\n",
    "x2 = np.linspace(0,2.,num=5)\n",
    "x2"
   ]
  },
  {
   "cell_type": "code",
   "execution_count": null,
   "metadata": {},
   "outputs": [],
   "source": [
    "y2 = f(x2)\n",
    "y2"
   ]
  },
  {
   "cell_type": "code",
   "execution_count": null,
   "metadata": {},
   "outputs": [],
   "source": [
    "plt.plot(x2,y2,'ro')#  , x_array, f(x_array),'b-')\n",
    "plt.ylim((0,3.5));"
   ]
  },
  {
   "cell_type": "code",
   "execution_count": null,
   "metadata": {},
   "outputs": [],
   "source": [
    "I2 = simps(y2, x2)\n",
    "I2"
   ]
  },
  {
   "cell_type": "code",
   "execution_count": null,
   "metadata": {
    "collapsed": true
   },
   "outputs": [],
   "source": []
  },
  {
   "cell_type": "markdown",
   "metadata": {},
   "source": [
    "## 3.3 Gauss-Legendre methods.\n",
    "\n",
    "https://docs.scipy.org/doc/scipy/reference/generated/scipy.integrate.quadrature.html#scipy.integrate.quadrature\n",
    "\n",
    "quadrature    -- Integrate with given tolerance using Gaussian quadrature.\n",
    "\n",
    "\n",
    "`scipy.integrate.quadrature(func, a, b, args=(), tol=1.49e-08, rtol=1.49e-08, maxiter=50, vec_func=True, miniter=1)`\n",
    "\n",
    "\n",
    "Compute a definite integral using fixed-tolerance Gaussian quadrature.\n",
    "\n",
    "Integrate func from a to b using Gaussian quadrature with absolute tolerance tol.\n",
    "\n",
    "**Parameters:**\t\n",
    "\n",
    "\n",
    "    func : function\n",
    "\n",
    "        A Python function or method to integrate.\n",
    "\n",
    "    a : float\n",
    "\n",
    "        Lower limit of integration.\n",
    "\n",
    "    b : float\n",
    "\n",
    "        Upper limit of integration.\n",
    "\n",
    "    args : tuple, optional\n",
    "\n",
    "        Extra arguments to pass to function.\n",
    "\n",
    "    tol, rtol : float, optional\n",
    "\n",
    "        Iteration stops when error between last two iterates is less than tol OR the relative change is less than rtol.\n",
    "\n",
    "    maxiter : int, optional\n",
    "\n",
    "        Maximum order of Gaussian quadrature.\n",
    "\n",
    "    vec_func : bool, optional\n",
    "\n",
    "        True or False if func handles arrays as arguments (is a “vector” function). Default is True.\n",
    "\n",
    "    miniter : int, optional\n",
    "\n",
    "        Minimum order of Gaussian quadrature.\n",
    "\n",
    "**Returns:**\n",
    "\n",
    "    val : float\n",
    "\n",
    "        Gaussian quadrature approximation (within tolerance) to integral.\n",
    "\n",
    "    err : float\n",
    "\n",
    "        Difference between last two estimates of the integral.\n",
    "        \n",
    "        \n",
    "https://docs.scipy.org/doc/scipy/reference/generated/scipy.integrate.fixed_quad.html#scipy.integrate.fixed_quad\n",
    "\n",
    "\n",
    "\n",
    "![](https://upload.wikimedia.org/wikipedia/commons/thumb/9/93/Comparison_Gaussquad_trapezoidal.svg/880px-Comparison_Gaussquad_trapezoidal.svg.png)"
   ]
  },
  {
   "cell_type": "code",
   "execution_count": null,
   "metadata": {
    "collapsed": true
   },
   "outputs": [],
   "source": [
    "from scipy.integrate import quadrature"
   ]
  },
  {
   "cell_type": "code",
   "execution_count": null,
   "metadata": {},
   "outputs": [],
   "source": [
    "quadrature(f, 0,2.)"
   ]
  },
  {
   "cell_type": "code",
   "execution_count": null,
   "metadata": {
    "collapsed": true
   },
   "outputs": [],
   "source": []
  },
  {
   "cell_type": "code",
   "execution_count": null,
   "metadata": {
    "collapsed": true
   },
   "outputs": [],
   "source": []
  },
  {
   "cell_type": "code",
   "execution_count": null,
   "metadata": {
    "collapsed": true
   },
   "outputs": [],
   "source": []
  },
  {
   "cell_type": "markdown",
   "metadata": {
    "collapsed": true
   },
   "source": [
    "## 4. Python PDF parser and analyzer"
   ]
  },
  {
   "cell_type": "code",
   "execution_count": null,
   "metadata": {},
   "outputs": [],
   "source": [
    "# Install a pip package in the current Jupyter kernel\n",
    "import sys\n",
    "!{sys.executable} -m pip install --user pdfminer.six \n",
    "#pdfminer\n",
    "#https://github.com/pdfminer/pdfminer.six"
   ]
  },
  {
   "cell_type": "markdown",
   "metadata": {},
   "source": [
    "#### PDFMiner\n",
    "\n",
    "\n",
    "Python PDF parser and analyzer\n",
    "\n",
    "\n",
    "https://cdn.rawgit.com/pdfminer/pdfminer.six/eddf861f/docs/programming.html\n",
    "\n",
    "https://cdn.rawgit.com/pdfminer/pdfminer.six/eddf861f/docs/index.html\n",
    "\n"
   ]
  },
  {
   "cell_type": "code",
   "execution_count": null,
   "metadata": {
    "collapsed": true
   },
   "outputs": [],
   "source": []
  },
  {
   "cell_type": "code",
   "execution_count": null,
   "metadata": {
    "collapsed": true
   },
   "outputs": [],
   "source": [
    "from pdfminer.pdfinterp import PDFResourceManager, PDFPageInterpreter\n",
    "from pdfminer.converter import TextConverter\n",
    "from pdfminer.layout import LAParams\n",
    "from pdfminer.pdfpage import PDFPage\n",
    "from io import StringIO\n",
    "\n",
    "def extract_pdf_content(pdf):\n",
    "    rsrcmgr = PDFResourceManager() ## Create a PDF resource manager object that stores shared resources.\n",
    "    codec = 'utf-8'\n",
    "    outfp = StringIO()\n",
    "    laparams = LAParams()  # Set parameters for analysis.\n",
    "    device = TextConverter(rsrcmgr=rsrcmgr, outfp=outfp, codec=codec, laparams=laparams) # Create a PDF device object.\n",
    "    with open(pdf, 'rb') as fp: # Open a PDF file.\n",
    "        interpreter = PDFPageInterpreter(rsrcmgr, device) # Create a PDF interpreter object.\n",
    "        password = \"\"\n",
    "        maxpages = 0\n",
    "        caching = True\n",
    "        pagenos=set()\n",
    "        # Process each page contained in the document.\n",
    "        for page in PDFPage.get_pages(fp, pagenos, maxpages=maxpages, password=password,caching=caching, check_extractable=True):\n",
    "            interpreter.process_page(page) \n",
    "            # # Create a PDF parser object associated with the file object.\n",
    "    # Performing Layout Analysis        \n",
    "    mystr = outfp.getvalue() # receive the LTPage object for the page.\n",
    "    device.close()\n",
    "    outfp.close()\n",
    "    return mystr"
   ]
  },
  {
   "cell_type": "code",
   "execution_count": null,
   "metadata": {
    "collapsed": true
   },
   "outputs": [],
   "source": [
    "pdf = \"Econ_457_Lecture_20.pdf\""
   ]
  },
  {
   "cell_type": "code",
   "execution_count": null,
   "metadata": {
    "collapsed": true
   },
   "outputs": [],
   "source": [
    "content = extract_pdf_content(pdf)"
   ]
  },
  {
   "cell_type": "code",
   "execution_count": null,
   "metadata": {},
   "outputs": [],
   "source": [
    "content"
   ]
  },
  {
   "cell_type": "code",
   "execution_count": null,
   "metadata": {
    "collapsed": true
   },
   "outputs": [],
   "source": []
  },
  {
   "cell_type": "code",
   "execution_count": null,
   "metadata": {
    "collapsed": true
   },
   "outputs": [],
   "source": []
  }
 ],
 "metadata": {
  "kernelspec": {
   "display_name": "Python 3",
   "language": "python",
   "name": "python3"
  },
  "language_info": {
   "codemirror_mode": {
    "name": "ipython",
    "version": 3
   },
   "file_extension": ".py",
   "mimetype": "text/x-python",
   "name": "python",
   "nbconvert_exporter": "python",
   "pygments_lexer": "ipython3",
   "version": "3.6.2"
  }
 },
 "nbformat": 4,
 "nbformat_minor": 2
}
