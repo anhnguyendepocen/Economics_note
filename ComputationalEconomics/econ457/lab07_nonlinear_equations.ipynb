{
 "cells": [
  {
   "cell_type": "code",
   "execution_count": 51,
   "metadata": {
    "ExecuteTime": {
     "end_time": "2018-02-22T19:48:17.678185Z",
     "start_time": "2018-02-22T19:48:17.645098Z"
    },
    "collapsed": true
   },
   "outputs": [],
   "source": [
    "import numpy as np\n",
    "import scipy as sp\n",
    "\n",
    "from numpy import append, array, diagonal, tril, triu\n",
    "from numpy.linalg import inv\n",
    "from scipy.linalg import lu\n",
    "#from scipy.linalg import solve\n",
    "from pprint import pprint\n",
    "from numpy import array, zeros, diag, diagflat, dot\n",
    "\n",
    "#from sympy import *\n",
    "import sympy as sym\n",
    "sym.init_printing()\n",
    "\n",
    "import matplotlib as mpl\n",
    "# matplotlib for ploting\n",
    "from matplotlib import pyplot as plt\n",
    "from mpl_toolkits.mplot3d import Axes3D     # 3d\n",
    "# for inline interactive plotting\n",
    "%matplotlib inline\n",
    "\n",
    "#mpl.rcParams['savefig.dpi'] = 80\n",
    "mpl.rcParams['figure.dpi'] = 80\n",
    "# from IPython.display import set_matplotlib_formats\n",
    "# set_matplotlib_formats('png', 'pdf')\n",
    "# for better picture quality\n",
    "%config InlineBackend.figure_format = 'retina'\n",
    "#https://www.dataquest.io/blog/jupyter-notebook-tips-tricks-shortcuts/\n",
    "\n",
    "import seaborn as sns\n",
    "sns.set()\n",
    "#sns.set_style(style= \"whitegrid\")\n",
    "#plt.style.available\n",
    "# bold graph style\n",
    "plt.style.use('fivethirtyeight')"
   ]
  },
  {
   "cell_type": "code",
   "execution_count": null,
   "metadata": {},
   "outputs": [],
   "source": []
  },
  {
   "cell_type": "markdown",
   "metadata": {},
   "source": [
    "# Nonlinear Equations"
   ]
  },
  {
   "cell_type": "markdown",
   "metadata": {},
   "source": [
    "One of the most basic numerical operations encountered in computational economics\n",
    "is to find the solution of a system of nonlinear equations. Nonlinear equations generally\n",
    "arise in one of two forms. In the nonlinear *rootfinding problem*, a function f\n",
    "mapping $R^n$ to $R^n$ is given and one must compute an n-vector $x$, called a *root* of $f$,\n",
    "that satisfies\n",
    "\n",
    "$$f(x) = 0$$\n",
    "\n",
    "\n",
    "In the nonlinear fixed-point problem, a function $g$ from $R^n$ to $R^n$ is given and one\n",
    "must compute an n-vector x called a fixed-point of $g$, that satisfies\n",
    "\n",
    "$$x = g(x)$$\n",
    "\n",
    "\n",
    "http://nbviewer.jupyter.org/github/sbustamante/ComputationalMethods/blob/master/material/one-variable-equations.ipynb"
   ]
  },
  {
   "cell_type": "code",
   "execution_count": null,
   "metadata": {
    "collapsed": true
   },
   "outputs": [],
   "source": []
  },
  {
   "cell_type": "code",
   "execution_count": null,
   "metadata": {
    "collapsed": true
   },
   "outputs": [],
   "source": []
  },
  {
   "cell_type": "markdown",
   "metadata": {},
   "source": [
    "### Example: Cournot Duopoly\n",
    "\n"
   ]
  },
  {
   "cell_type": "code",
   "execution_count": null,
   "metadata": {},
   "outputs": [],
   "source": []
  },
  {
   "cell_type": "markdown",
   "metadata": {},
   "source": [
    "To illustrate the use of this function, consider a simple Cournot duopoly model, in which the inverse demand for a good is \t$P(q_{1},q_{2})=\\left( \\dfrac{1}{q_{1}+q_{2}} \\right)^{\\epsilon}$\n",
    "\n",
    "\n",
    "\n"
   ]
  },
  {
   "cell_type": "code",
   "execution_count": 5,
   "metadata": {
    "collapsed": true
   },
   "outputs": [],
   "source": [
    "# Example from the textbook\n",
    "q = np.array([1, 1]) # initial point/guess quantity\n",
    "c = np.array([0.6, 0.8]) # cost vector\n",
    "eta = 1.6 # elasticity \n",
    "e = -1/eta\n"
   ]
  },
  {
   "cell_type": "markdown",
   "metadata": {},
   "source": [
    "#### Formula on slide Econ_457_Lecture_14 page 17 "
   ]
  },
  {
   "cell_type": "code",
   "execution_count": null,
   "metadata": {},
   "outputs": [],
   "source": [
    "fval = np.sum(q)**e + e * np.sum(q)**(e-1)*(q) - np.diag(c).dot(q) # function value\n"
   ]
  },
  {
   "cell_type": "markdown",
   "metadata": {},
   "source": [
    "$e$ is the $-\\epsilon$ and $q = q_1 + q_2$ in slide page 17 \n",
    "\n",
    "it turns out the `fval` function is :\n",
    "\n",
    "$$q^e + e* q^{e-1}*q_i - c_i *q_i=0$$\n",
    "\n",
    "we need to put it in matrix form.\n",
    "\n",
    "$$q^e \\begin{bmatrix} 1 \\\\ 1 \\end{bmatrix} + e* q^{e-1}* \\begin{bmatrix} q_{1}  \\\\ q_{2}\\end{bmatrix}- \\begin{bmatrix} c_{1} & 0 \\\\ 0 & c_{2} \\end{bmatrix} *\\begin{bmatrix} q_{1}  \\\\ q_{2}\\end{bmatrix}=0$$\n",
    "\n",
    "#### [broadcasting](https://jakevdp.github.io/PythonDataScienceHandbook/02.05-computation-on-arrays-broadcasting.html)"
   ]
  },
  {
   "cell_type": "code",
   "execution_count": 15,
   "metadata": {},
   "outputs": [
    {
     "data": {
      "text/plain": [
       "array([5, 6, 7])"
      ]
     },
     "execution_count": 15,
     "metadata": {},
     "output_type": "execute_result"
    }
   ],
   "source": [
    "a = np.array([0, 1, 2])\n",
    "b = np.array([5, 5, 5])\n",
    "a + b"
   ]
  },
  {
   "cell_type": "markdown",
   "metadata": {},
   "source": [
    "Broadcasting allows these types of binary operations to be performed on arrays of different sizes–for example, we can just as easily add a scalar (think of it as a zero-dimensional array) to an array:"
   ]
  },
  {
   "cell_type": "code",
   "execution_count": 16,
   "metadata": {},
   "outputs": [
    {
     "data": {
      "text/plain": [
       "array([5, 6, 7])"
      ]
     },
     "execution_count": 16,
     "metadata": {},
     "output_type": "execute_result"
    }
   ],
   "source": [
    "a + 5"
   ]
  },
  {
   "cell_type": "markdown",
   "metadata": {},
   "source": [
    "![](https://jakevdp.github.io/PythonDataScienceHandbook/figures/02.05-broadcasting.png)"
   ]
  },
  {
   "cell_type": "code",
   "execution_count": 90,
   "metadata": {
    "ExecuteTime": {
     "end_time": "2018-03-01T21:00:41.929597Z",
     "start_time": "2018-03-01T21:00:41.925084Z"
    }
   },
   "outputs": [
    {
     "data": {
      "text/plain": [
       "array([[1., 2., 3.],\n",
       "       [1., 2., 3.],\n",
       "       [1., 2., 3.]])"
      ]
     },
     "execution_count": 90,
     "metadata": {},
     "output_type": "execute_result"
    }
   ],
   "source": [
    "np.ones((3,3)) + a "
   ]
  },
  {
   "cell_type": "code",
   "execution_count": 92,
   "metadata": {
    "ExecuteTime": {
     "end_time": "2018-03-01T21:01:38.056258Z",
     "start_time": "2018-03-01T21:01:38.052760Z"
    }
   },
   "outputs": [
    {
     "data": {
      "text/plain": [
       "array([[0],\n",
       "       [1],\n",
       "       [2]])"
      ]
     },
     "execution_count": 92,
     "metadata": {},
     "output_type": "execute_result"
    }
   ],
   "source": [
    "a[:, np.newaxis] "
   ]
  },
  {
   "cell_type": "code",
   "execution_count": 91,
   "metadata": {
    "ExecuteTime": {
     "end_time": "2018-03-01T21:01:30.031997Z",
     "start_time": "2018-03-01T21:01:30.028989Z"
    }
   },
   "outputs": [
    {
     "data": {
      "text/plain": [
       "array([[1., 1., 1.],\n",
       "       [2., 2., 2.],\n",
       "       [3., 3., 3.]])"
      ]
     },
     "execution_count": 91,
     "metadata": {},
     "output_type": "execute_result"
    }
   ],
   "source": [
    "np.ones((3,3)) + a[:, np.newaxis] "
   ]
  },
  {
   "cell_type": "code",
   "execution_count": null,
   "metadata": {},
   "outputs": [],
   "source": []
  },
  {
   "cell_type": "markdown",
   "metadata": {},
   "source": [
    "That is why `fval` function input includes scalar and vector, and the final output is a vector. Broadcasting works here."
   ]
  },
  {
   "cell_type": "code",
   "execution_count": 18,
   "metadata": {},
   "outputs": [],
   "source": [
    "fval = np.sum(q)**e + e * np.sum(q)**(e-1)*(q) - np.diag(c).dot(q) # function value\n"
   ]
  },
  {
   "cell_type": "code",
   "execution_count": 19,
   "metadata": {},
   "outputs": [
    {
     "data": {
      "image/png": "[encoded data removed]",
      "text/latex": [
       "$$0.6484197773255048$$"
      ],
      "text/plain": [
       "0.6484197773255048"
      ]
     },
     "execution_count": 19,
     "metadata": {},
     "output_type": "execute_result"
    }
   ],
   "source": [
    "np.sum(q)**e"
   ]
  },
  {
   "cell_type": "code",
   "execution_count": 20,
   "metadata": {},
   "outputs": [
    {
     "data": {
      "text/plain": [
       "array([1, 1])"
      ]
     },
     "execution_count": 20,
     "metadata": {},
     "output_type": "execute_result"
    }
   ],
   "source": [
    "q"
   ]
  },
  {
   "cell_type": "code",
   "execution_count": 21,
   "metadata": {},
   "outputs": [
    {
     "data": {
      "text/plain": [
       "array([-0.20263118, -0.20263118])"
      ]
     },
     "execution_count": 21,
     "metadata": {},
     "output_type": "execute_result"
    }
   ],
   "source": [
    "e * np.sum(q)**(e-1)*(q) "
   ]
  },
  {
   "cell_type": "code",
   "execution_count": 22,
   "metadata": {},
   "outputs": [
    {
     "data": {
      "text/plain": [
       "array([[0.6, 0. ],\n",
       "       [0. , 0.8]])"
      ]
     },
     "execution_count": 22,
     "metadata": {},
     "output_type": "execute_result"
    }
   ],
   "source": [
    "np.diag(c)"
   ]
  },
  {
   "cell_type": "code",
   "execution_count": 23,
   "metadata": {},
   "outputs": [
    {
     "data": {
      "text/plain": [
       "array([0.6, 0.8])"
      ]
     },
     "execution_count": 23,
     "metadata": {},
     "output_type": "execute_result"
    }
   ],
   "source": [
    "np.diag(c).dot(q)"
   ]
  },
  {
   "cell_type": "code",
   "execution_count": null,
   "metadata": {},
   "outputs": [],
   "source": []
  },
  {
   "cell_type": "code",
   "execution_count": 24,
   "metadata": {},
   "outputs": [
    {
     "data": {
      "text/plain": [
       "array([-0.1542114, -0.3542114])"
      ]
     },
     "execution_count": 24,
     "metadata": {},
     "output_type": "execute_result"
    }
   ],
   "source": [
    "# first step result of objective value, and it should go to zero gradually\n",
    "fval"
   ]
  },
  {
   "cell_type": "markdown",
   "metadata": {},
   "source": [
    "### Now let's look at `fjac` Jacobian function. Is it's output a vector or matrix function?"
   ]
  },
  {
   "cell_type": "markdown",
   "metadata": {},
   "source": [
    "$e$ is the $-\\epsilon$ and $q = q_1 + q_2$ in slide page 17- 20 \n",
    "\n",
    "We need a jacobin for the fval function:\n",
    "$$q^e + e* q^{e-1}*q_i - c_i *q_i=0$$\n",
    "\n",
    "$$\\begin{bmatrix} f_{11} & f_{12} \\\\ f_{21} & f_{22} \\end{bmatrix}$$\n",
    "\n",
    "we need to use chain rule to figure the $f_{i,j}$\n",
    "\n",
    "$$f_{11} = e*q^{e-1} + e*q^{e-1} + (e-1)*e*q^{e-2}*q_i - c_i$$\n",
    "\n",
    "$$f_{12} = e*q^{e-1} + (e-1)*e*q^{e-2}*q_i $$\n",
    "\n",
    "put all $f_{i,j}$ into matrix form:\n",
    "\n",
    "\n",
    "$$f_{jac} = e*q^{e-1}*\\begin{bmatrix} 1 & 1 \\\\ 1 & 1 \\end{bmatrix} + e*q^{e-1} *\\begin{bmatrix} 1 & 0 \\\\ 0 & 1 \\end{bmatrix} + (e-1)*e*q^{e-2}*\\begin{bmatrix} q_1 & q_1 \\\\ q_2 & q_2\\end{bmatrix} -  \\begin{bmatrix} c_1 & 0 \\\\ 0 & c_2 \\end{bmatrix}$$"
   ]
  },
  {
   "cell_type": "markdown",
   "metadata": {},
   "source": [
    "### [Reshaping of Arrays](https://jakevdp.github.io/PythonDataScienceHandbook/02.02-the-basics-of-numpy-arrays.html)\n",
    "\n",
    "Another useful type of operation is reshaping of arrays. The most flexible way of doing this is with the `reshape` method. \n",
    "\n",
    "Note that for this to work, the size of the initial array must match the size of the reshaped array. Where possible, the `reshape method` will use a no-copy view of the initial array, but with non-contiguous memory buffers this is not always the case.\n",
    "\n",
    "Another common reshaping pattern is the conversion of a one-dimensional array into a two-dimensional row or column matrix. This can be done with the reshape method, or more easily done by making use of the `newaxis` keyword within a slice operation:"
   ]
  },
  {
   "cell_type": "code",
   "execution_count": 41,
   "metadata": {},
   "outputs": [],
   "source": [
    "fjac = e*np.sum(q)**(e-1)*(np.ones([2,2]))+e*np.sum(q)**(e-1)*(np.eye(2))+\\\n",
    "(e-1)*e*np.sum(q)**(e-2)*(q[:, np.newaxis])-np.diag(c) # function jacbian"
   ]
  },
  {
   "cell_type": "markdown",
   "metadata": {},
   "source": [
    "or `reshape()`"
   ]
  },
  {
   "cell_type": "code",
   "execution_count": 42,
   "metadata": {},
   "outputs": [],
   "source": [
    "fjac = e*np.sum(q)**(e-1)*(np.ones([2,2]))+e*np.sum(q)**(e-1)*(np.eye(2))+\\\n",
    "(e-1)*e*np.sum(q)**(e-2)*(q.reshape((2,1)))-np.diag(c) # function jacbian"
   ]
  },
  {
   "cell_type": "markdown",
   "metadata": {},
   "source": [
    "or force the dimestion to be matched using a way which is similar to textbook"
   ]
  },
  {
   "cell_type": "code",
   "execution_count": 48,
   "metadata": {},
   "outputs": [],
   "source": [
    "fjac = e*np.sum(q)**(e-1)*(np.ones([2,2]))+e*np.sum(q)**(e-1)*(np.eye(2))+\\\n",
    "(e-1)*e*np.sum(q)**(e-2)*np.outer(q,np.ones((2,1)))-np.diag(c) # function jacbian"
   ]
  },
  {
   "cell_type": "code",
   "execution_count": 47,
   "metadata": {},
   "outputs": [
    {
     "data": {
      "text/plain": [
       "array([[0.82887821, 0.82887821],\n",
       "       [0.67815161, 0.67815161]])"
      ]
     },
     "execution_count": 47,
     "metadata": {},
     "output_type": "execute_result"
    }
   ],
   "source": [
    "np.outer(q,np.ones((2,1)))"
   ]
  },
  {
   "cell_type": "code",
   "execution_count": 50,
   "metadata": {},
   "outputs": [
    {
     "data": {
      "text/plain": [
       "array([0.82887821, 0.67815161])"
      ]
     },
     "execution_count": 50,
     "metadata": {},
     "output_type": "execute_result"
    }
   ],
   "source": [
    "(q).dot(np.eye(2))"
   ]
  },
  {
   "cell_type": "code",
   "execution_count": 29,
   "metadata": {},
   "outputs": [
    {
     "data": {
      "text/plain": [
       "array([[1., 1.],\n",
       "       [1., 1.]])"
      ]
     },
     "execution_count": 29,
     "metadata": {},
     "output_type": "execute_result"
    }
   ],
   "source": [
    "np.ones([2,2])"
   ]
  },
  {
   "cell_type": "code",
   "execution_count": 30,
   "metadata": {},
   "outputs": [
    {
     "data": {
      "text/plain": [
       "array([[-0.20263118, -0.20263118],\n",
       "       [-0.20263118, -0.20263118]])"
      ]
     },
     "execution_count": 30,
     "metadata": {},
     "output_type": "execute_result"
    }
   ],
   "source": [
    "e*np.sum(q)**(e-1)*(np.ones([2,2]))"
   ]
  },
  {
   "cell_type": "code",
   "execution_count": 31,
   "metadata": {},
   "outputs": [
    {
     "data": {
      "text/plain": [
       "array([[-0.20263118, -0.        ],\n",
       "       [-0.        , -0.20263118]])"
      ]
     },
     "execution_count": 31,
     "metadata": {},
     "output_type": "execute_result"
    }
   ],
   "source": [
    "e*np.sum(q)**(e-1)*(np.eye(2))"
   ]
  },
  {
   "cell_type": "code",
   "execution_count": 14,
   "metadata": {},
   "outputs": [
    {
     "data": {
      "text/plain": [
       "array([[0.6, 0. ],\n",
       "       [0. , 0.8]])"
      ]
     },
     "execution_count": 14,
     "metadata": {},
     "output_type": "execute_result"
    }
   ],
   "source": [
    "np.diag(c)"
   ]
  },
  {
   "cell_type": "code",
   "execution_count": 43,
   "metadata": {},
   "outputs": [
    {
     "data": {
      "text/plain": [
       "array([[-0.95504247, -0.03409643],\n",
       "       [-0.08625833, -1.20720437]])"
      ]
     },
     "execution_count": 43,
     "metadata": {},
     "output_type": "execute_result"
    }
   ],
   "source": [
    "# first step result of jacobian\n",
    "fjac"
   ]
  },
  {
   "cell_type": "markdown",
   "metadata": {},
   "source": [
    "When we write our own implemtations, we start from one update, to many updates in loop, and finally to functions. "
   ]
  },
  {
   "cell_type": "code",
   "execution_count": null,
   "metadata": {},
   "outputs": [],
   "source": [
    "# Cournot example. One update (first step) of newton algorithm \n",
    "q = q - np.linalg.inv(fjac).dot(fval) # newton update for the quantity\n",
    "q"
   ]
  },
  {
   "cell_type": "code",
   "execution_count": 38,
   "metadata": {},
   "outputs": [
    {
     "data": {
      "text/plain": [
       "array([0.82887821, 0.67815161])"
      ]
     },
     "execution_count": 38,
     "metadata": {},
     "output_type": "execute_result"
    }
   ],
   "source": [
    "# Cournot example. Another update (second step) of newton algorithm \n",
    "fval = np.sum(q)**e + e * np.sum(q)**(e-1)*(q) - np.diag(c).dot(q) # function value\n",
    "fjac = e*np.sum(q)**(e-1)*(np.ones([2,2]))+e*np.sum(q)**(e-1)*(np.eye(2))+\\\n",
    "(e-1)*e*np.sum(q)**(e-2)*(q[:, np.newaxis])-np.diag(c) # function jacbian\n",
    "q = q - np.linalg.inv(fjac).dot(fval) # newton update for the quantity\n",
    "q"
   ]
  },
  {
   "cell_type": "code",
   "execution_count": 90,
   "metadata": {},
   "outputs": [
    {
     "data": {
      "text/plain": [
       "array([-0.1542114, -0.3542114])"
      ]
     },
     "execution_count": 90,
     "metadata": {},
     "output_type": "execute_result"
    }
   ],
   "source": []
  },
  {
   "cell_type": "code",
   "execution_count": 91,
   "metadata": {},
   "outputs": [
    {
     "data": {
      "text/plain": [
       "array([[-0.67598669,  0.12664449],\n",
       "       [ 0.12664449, -0.87598669]])"
      ]
     },
     "execution_count": 91,
     "metadata": {},
     "output_type": "execute_result"
    }
   ],
   "source": []
  },
  {
   "cell_type": "markdown",
   "metadata": {},
   "source": [
    "Now consider a general Multi-firm model, with $I>1$ symmetric firms, and in which the inverse demand for a good is $P(q)=\\left( \\dfrac{1}{q} \\right)^{\\epsilon}$ and the aggregate quantity is $q=q_{1}+q_{2}+...+q_{I}=\\sum_{i=1}^{I}q_{i}$"
   ]
  },
  {
   "cell_type": "code",
   "execution_count": 45,
   "metadata": {},
   "outputs": [
    {
     "name": "stdout",
     "output_type": "stream",
     "text": [
      "q1: 0.2\n",
      "c1: 0.7\n",
      "The final iteration is: 5\n",
      "The foc value is f: [1.07691633e-14 1.07691633e-14 1.07691633e-14 1.07691633e-14\n",
      " 1.07691633e-14]\n",
      "The computed quantity is q: [0.61773515 0.61773515 0.61773515 0.61773515 0.61773515]\n",
      "The price is p: 0.49418812002404333\n",
      "The total profits are pi: 0.1907983577913272\n",
      "The market size is: 3.08867575015027\n"
     ]
    }
   ],
   "source": [
    "# Let's extend the example from the textbook to a many firms set-up\n",
    "# This executes a finite numer of Newton iterations\n",
    "maxit = 1000 # maximum number of iterations\n",
    "tol = 10e-10 # tolerance level for convergence\n",
    "eta = 1.6\n",
    "e = -1/eta\n",
    "#nfirm=2 #this allows us to select the number of firms (used to solve the system of foc's)\n",
    "nfirm=5 #increased competition\n",
    "#nfirm=1000 #close to perfect competition\n",
    "\n",
    "#Initializations of the vectors of quantities and costs: we use lists and later convert them to arrays\n",
    "qlist = []\n",
    "clist = []\n",
    "\n",
    "#These alternative initializations don't work necessarily\n",
    "#qmf=np.array([])\n",
    "#cmf=np.array([])\n",
    "#qmf = ones(nfirm)\n",
    "\n",
    "#Let's assign the desired initial guesses and vector of costs\n",
    "for it in np.arange(nfirm):\n",
    "    qlist.append(1.0)\n",
    "    clist.append(0.7)\n",
    "\n",
    "#Create a vector of ones and convert the lists to arrays for matematical manipulation\n",
    "vecone=np.array(qlist)\n",
    "qmf=np.array(qlist)\n",
    "qmf=qmf*0.2\n",
    "cmf=np.array(clist)\n",
    "    \n",
    "print('q1:',qmf[0])\n",
    "#print('q2:',qmf[1])\n",
    "print('c1:',cmf[0])\n",
    "#print('c2:',cmf[1])\n",
    "\n",
    "it=0\n",
    "\n",
    "for it in np.arange(maxit):\n",
    "\n",
    "    fvalmf = np.sum(qmf)**e + e * np.sum(qmf)**(e-1)*(qmf) - np.diag(cmf).dot(qmf)\n",
    "    fjacmf = e*np.sum(qmf)**(e-1)*(np.ones([nfirm,nfirm]))+e*np.sum(qmf)**(e-1)*(np.eye(nfirm))+\\\n",
    "    (e-1)*e*np.sum(qmf)**(e-2)*(qmf[:, np.newaxis])-np.diag(cmf)\n",
    "    #(e-1)*e*np.sum(qmf)**(e-2)*(qmf).dot(vecone)-np.diag(cmf)\n",
    "    qmf = qmf - np.linalg.inv(fjacmf).dot(fvalmf)\n",
    "    if np.linalg.norm(fvalmf)<tol:\n",
    "        break\n",
    "        \n",
    "print('The final iteration is:',it)\n",
    "print('The foc value is f:',fvalmf)\n",
    "print('The computed quantity is q:',qmf)\n",
    "\n",
    "#Final computations\n",
    "pmf=np.sum(qmf)**e #price\n",
    "pimf=pmf*qmf[0]-cmf[0]*qmf[0]**2 #profits\n",
    "\n",
    "print('The price is p:',pmf)\n",
    "print('The total profits are pi:',pimf*nfirm)\n",
    "print('The market size is:',np.sum(qmf))"
   ]
  },
  {
   "cell_type": "code",
   "execution_count": 34,
   "metadata": {},
   "outputs": [
    {
     "data": {
      "text/plain": [
       "array([nan])"
      ]
     },
     "execution_count": 34,
     "metadata": {},
     "output_type": "execute_result"
    }
   ],
   "source": [
    "(qmf.dot(np.ones([nfirm,1])))"
   ]
  },
  {
   "cell_type": "code",
   "execution_count": 35,
   "metadata": {},
   "outputs": [
    {
     "data": {
      "text/plain": [
       "array([nan, nan, nan, nan, nan])"
      ]
     },
     "execution_count": 35,
     "metadata": {},
     "output_type": "execute_result"
    }
   ],
   "source": [
    "qmf"
   ]
  },
  {
   "cell_type": "markdown",
   "metadata": {},
   "source": [
    "If the matrix form is too much, we can do in scalar form as well."
   ]
  },
  {
   "cell_type": "markdown",
   "metadata": {},
   "source": [
    "<span style=\"color:red\">It is your turn to turn it into a function</span>\n",
    "### A Numerical Example with a Vector-valued Function\n",
    "#### Formula on slide Econ_457_Lecture_14 page 14 "
   ]
  },
  {
   "cell_type": "code",
   "execution_count": 4,
   "metadata": {},
   "outputs": [
    {
     "name": "stdout",
     "output_type": "stream",
     "text": [
      "The final iteration is: 6\n",
      "The computed root is q: [0.69314718 0.83255461]\n",
      "The function value is f: [ 3.88689081e-12 -5.94535532e-12]\n"
     ]
    }
   ],
   "source": [
    "# Example from the slide\n",
    "# This executes a finite numer of Newton iterations\n",
    "maxit = 1000 # maximum number of iterations\n",
    "tol = 10e-10 # tolerance level for convergence\n",
    "\n",
    "\n",
    "def nlfun(x):\n",
    "    f1 = < your code  >\n",
    "    f2 = < your code  >\n",
    "    return np.array([f1,f2])\n",
    "\n",
    "def nljac(x):\n",
    "    j11 = < your code  >\n",
    "    j12 = < your code  >\n",
    "    j21 = < your code  >\n",
    "    j22 = < your code  >\n",
    "    return np.array([[j11,j12],\n",
    "                    [j21,j22]])\n",
    "\n",
    "x = np.array([1.5,1.5])\n",
    "for it in np.arange(maxit):\n",
    "\n",
    "    fval = nlfun(x)\n",
    "    fjac = nljac(x)\n",
    "    x = x - np.linalg.inv(fjac).dot(fval)\n",
    "    if np.linalg.norm(fval)<tol:\n",
    "        break\n",
    "        \n",
    "print('The final iteration is:',it)\n",
    "print('The computed root is q:',x)\n",
    "print('The function value is f:',fval) # it should be close to zero when a root is found"
   ]
  },
  {
   "cell_type": "code",
   "execution_count": null,
   "metadata": {},
   "outputs": [],
   "source": []
  },
  {
   "cell_type": "code",
   "execution_count": null,
   "metadata": {},
   "outputs": [],
   "source": []
  },
  {
   "cell_type": "code",
   "execution_count": null,
   "metadata": {},
   "outputs": [],
   "source": []
  },
  {
   "cell_type": "markdown",
   "metadata": {},
   "source": [
    "my solution"
   ]
  },
  {
   "cell_type": "code",
   "execution_count": null,
   "metadata": {},
   "outputs": [],
   "source": [
    "# Example from the slide\n",
    "# This executes a finite numer of Newton iterations\n",
    "maxit = 1000 # maximum number of iterations\n",
    "tol = 10e-10 # tolerance level for convergence\n",
    "\n",
    "\n",
    "def nlfun(x):\n",
    "    f1 = np.exp(x[0])*x[1] -2*x[1]\n",
    "    f2 = (x[0]*x[1]- x[1]**3)\n",
    "    return np.array([f1,f2])\n",
    "\n",
    "def nljac(x):\n",
    "    j11 = x[1]*np.exp(x[0])\n",
    "    j12 = np.exp(x[0])-2\n",
    "    j21 = x[1]\n",
    "    j22 = x[0] -3*x[1]**2\n",
    "    return np.array([[j11,j12],\n",
    "                    [j21,j22]])\n",
    "\n",
    "x = np.array([1.5,1.5])\n",
    "for it in np.arange(maxit):\n",
    "\n",
    "    fval = nlfun(x)\n",
    "    fjac = nljac(x)\n",
    "    x = x - np.linalg.inv(fjac).dot(fval)\n",
    "    if np.linalg.norm(fval)<tol:\n",
    "        break\n",
    "        \n",
    "print('The final iteration is:',it)\n",
    "print('The computed root is q:',x)\n",
    "print('The function value is f:',fval) # it should be close to zero when a root is found"
   ]
  },
  {
   "cell_type": "markdown",
   "metadata": {},
   "source": [
    "###  How to get Jacobian matrix"
   ]
  },
  {
   "cell_type": "markdown",
   "metadata": {},
   "source": [
    "If the derivative is too hard to figure out, `sympy` may help in small dimention problem.\n",
    "\n",
    "Let's use the example from slide page 14"
   ]
  },
  {
   "cell_type": "code",
   "execution_count": 69,
   "metadata": {
    "collapsed": true
   },
   "outputs": [],
   "source": [
    "x = x1, x2 = sym.symbols(\"x1, x2\")"
   ]
  },
  {
   "cell_type": "code",
   "execution_count": 70,
   "metadata": {
    "collapsed": true
   },
   "outputs": [
    {
     "data": {
      "image/png": "[encoded data removed]",
      "text/latex": [
       "$$\\left ( x_{1}, \\quad x_{2}\\right )$$"
      ],
      "text/plain": [
       "(x₁, x₂)"
      ]
     },
     "execution_count": 70,
     "metadata": {},
     "output_type": "execute_result"
    }
   ],
   "source": [
    "x"
   ]
  },
  {
   "cell_type": "code",
   "execution_count": 71,
   "metadata": {
    "collapsed": true
   },
   "outputs": [
    {
     "data": {
      "image/png": "[encoded data removed]",
      "text/latex": [
       "$$x_{2} e^{x_{1}}$$"
      ],
      "text/plain": [
       "    x₁\n",
       "x₂⋅ℯ  "
      ]
     },
     "execution_count": 71,
     "metadata": {},
     "output_type": "execute_result"
    }
   ],
   "source": [
    "sym.diff(x2*sym.exp(x1)-2*x2,x1)"
   ]
  },
  {
   "cell_type": "code",
   "execution_count": 72,
   "metadata": {},
   "outputs": [
    {
     "data": {
      "image/png": "[encoded data removed]",
      "text/latex": [
       "$$e^{x_{1}} - 2$$"
      ],
      "text/plain": [
       " x₁    \n",
       "ℯ   - 2"
      ]
     },
     "execution_count": 72,
     "metadata": {},
     "output_type": "execute_result"
    }
   ],
   "source": [
    "sym.diff(x2*sym.exp(x1)-2*x2,x2)"
   ]
  },
  {
   "cell_type": "code",
   "execution_count": 73,
   "metadata": {},
   "outputs": [
    {
     "data": {
      "image/png": "[encoded data removed]",
      "text/latex": [
       "$$x_{1} - 3 x_{2}^{2}$$"
      ],
      "text/plain": [
       "         2\n",
       "x₁ - 3⋅x₂ "
      ]
     },
     "execution_count": 73,
     "metadata": {},
     "output_type": "execute_result"
    }
   ],
   "source": [
    "sym.diff( x1*x2-x2**3,x2)"
   ]
  },
  {
   "cell_type": "code",
   "execution_count": 74,
   "metadata": {},
   "outputs": [
    {
     "data": {
      "image/png": "[encoded data removed]",
      "text/latex": [
       "$$x_{2}$$"
      ],
      "text/plain": [
       "x₂"
      ]
     },
     "execution_count": 74,
     "metadata": {},
     "output_type": "execute_result"
    }
   ],
   "source": [
    "sym.diff( x1*x2-x2**3,x1)"
   ]
  },
  {
   "cell_type": "markdown",
   "metadata": {},
   "source": [
    "Or we can do it in matrix form"
   ]
  },
  {
   "cell_type": "code",
   "execution_count": 75,
   "metadata": {
    "collapsed": true
   },
   "outputs": [
    {
     "data": {
      "image/png": "[encoded data removed]",
      "text/latex": [
       "$$\\left[\\begin{matrix}x_{2} e^{x_{1}} - 2 x_{2}\\\\x_{1} x_{2} - x_{2}^{3}\\end{matrix}\\right]$$"
      ],
      "text/plain": [
       "⎡    x₁       ⎤\n",
       "⎢x₂⋅ℯ   - 2⋅x₂⎥\n",
       "⎢             ⎥\n",
       "⎢           3 ⎥\n",
       "⎣ x₁⋅x₂ - x₂  ⎦"
      ]
     },
     "execution_count": 75,
     "metadata": {},
     "output_type": "execute_result"
    }
   ],
   "source": [
    "F = sym.Matrix([x2*sym.exp(x1)-2*x2, x1*x2-x2**3 ])\n",
    "F"
   ]
  },
  {
   "cell_type": "code",
   "execution_count": 76,
   "metadata": {
    "collapsed": true
   },
   "outputs": [
    {
     "data": {
      "image/png": "[encoded data removed]",
      "text/latex": [
       "$$\\left[\\begin{matrix}x_{2} e^{x_{1}} & e^{x_{1}} - 2\\\\x_{2} & x_{1} - 3 x_{2}^{2}\\end{matrix}\\right]$$"
      ],
      "text/plain": [
       "⎡    x₁    x₁      ⎤\n",
       "⎢x₂⋅ℯ     ℯ   - 2  ⎥\n",
       "⎢                  ⎥\n",
       "⎢                 2⎥\n",
       "⎣  x₂    x₁ - 3⋅x₂ ⎦"
      ]
     },
     "execution_count": 76,
     "metadata": {},
     "output_type": "execute_result"
    }
   ],
   "source": [
    "F.jacobian(x)"
   ]
  },
  {
   "cell_type": "code",
   "execution_count": 77,
   "metadata": {
    "collapsed": true
   },
   "outputs": [
    {
     "data": {
      "image/png": "[encoded data removed]",
      "text/latex": [
       "$$\\left[\\begin{matrix}x_{1}\\\\x_{2}\\end{matrix}\\right]$$"
      ],
      "text/plain": [
       "⎡x₁⎤\n",
       "⎢  ⎥\n",
       "⎣x₂⎦"
      ]
     },
     "execution_count": 77,
     "metadata": {},
     "output_type": "execute_result"
    }
   ],
   "source": [
    "X = sym.Matrix(x)\n",
    "X"
   ]
  },
  {
   "cell_type": "code",
   "execution_count": 68,
   "metadata": {
    "collapsed": true
   },
   "outputs": [
    {
     "data": {
      "image/png": "[encoded data removed]",
      "text/latex": [
       "$$\\left[\\begin{matrix}x_{2} e^{x_{1}} & e^{x_{1}} - 2\\\\x_{2} & x_{1} - 3 x_{2}^{2}\\end{matrix}\\right]$$"
      ],
      "text/plain": [
       "⎡    x₁    x₁      ⎤\n",
       "⎢x₂⋅ℯ     ℯ   - 2  ⎥\n",
       "⎢                  ⎥\n",
       "⎢                 2⎥\n",
       "⎣  x₂    x₁ - 3⋅x₂ ⎦"
      ]
     },
     "execution_count": 68,
     "metadata": {},
     "output_type": "execute_result"
    }
   ],
   "source": [
    "F.jacobian(X)"
   ]
  },
  {
   "cell_type": "code",
   "execution_count": 80,
   "metadata": {},
   "outputs": [
    {
     "data": {
      "image/png": "[encoded data removed]",
      "text/latex": [
       "$$\\left[\\begin{matrix}0 & 1\\\\1 & - 6 x_{2}\\end{matrix}\\right]$$"
      ],
      "text/plain": [
       "⎡0    1  ⎤\n",
       "⎢        ⎥\n",
       "⎣1  -6⋅x₂⎦"
      ]
     },
     "execution_count": 80,
     "metadata": {},
     "output_type": "execute_result"
    }
   ],
   "source": [
    "sym.hessian(x1*x2-x2**3,X)"
   ]
  },
  {
   "cell_type": "markdown",
   "metadata": {
    "collapsed": true
   },
   "source": [
    "## jupyter-widgets-tutorial\n",
    "\n",
    "[Interact](http://ipywidgets.readthedocs.io/en/latest/examples/Using%20Interact.html)\n",
    "\n",
    "[Notebook](https://github.com/mwcraig/scipy2017-jupyter-widgets-tutorial/tree/master/notebooks)\n",
    "\n",
    "[Video](https://www.youtube.com/watch?time_continue=5&v=eWzY2nGfkXk)\n",
    "\n",
    "Jupyter widgets are powerful tools for building user interfaces with graphical controls such as sliders and text boxes inside a Jupyter notebook. Interactive widgets can also be rendered in Sphinx documentation, nbviewer, and static web pages. Jupyter widgets are more than a collection of controls, they also are a framework that makes it easy to build custom GUI controls. Examples of custom widget packages include libraries for interactive 2-D charting (bqplot), 3-D graphics (pythreejs, ipyvolume), mapping (ipyleaflet), and more."
   ]
  },
  {
   "cell_type": "code",
   "execution_count": 95,
   "metadata": {
    "ExecuteTime": {
     "end_time": "2018-03-01T22:03:37.044489Z",
     "start_time": "2018-03-01T22:03:37.041481Z"
    }
   },
   "outputs": [],
   "source": [
    "from ipywidgets import *\n",
    "from traitlets import dlink"
   ]
  },
  {
   "cell_type": "code",
   "execution_count": 96,
   "metadata": {
    "ExecuteTime": {
     "end_time": "2018-03-01T22:03:50.829178Z",
     "start_time": "2018-03-01T22:03:50.826673Z"
    }
   },
   "outputs": [],
   "source": [
    "def f(x):\n",
    "    print(x * x)"
   ]
  },
  {
   "cell_type": "code",
   "execution_count": 97,
   "metadata": {
    "ExecuteTime": {
     "end_time": "2018-03-01T22:03:55.197536Z",
     "start_time": "2018-03-01T22:03:55.177985Z"
    }
   },
   "outputs": [
    {
     "data": {
      "application/vnd.jupyter.widget-view+json": {
       "model_id": "ea14774a0e224154ac3de38d4f6de355",
       "version_major": 2,
       "version_minor": 0
      },
      "text/html": [
       "<p>Failed to display Jupyter Widget of type <code>interactive</code>.</p>\n",
       "<p>\n",
       "  If you're reading this message in the Jupyter Notebook or JupyterLab Notebook, it may mean\n",
       "  that the widgets JavaScript is still loading. If this message persists, it\n",
       "  likely means that the widgets JavaScript library is either not installed or\n",
       "  not enabled. See the <a href=\"https://ipywidgets.readthedocs.io/en/stable/user_install.html\">Jupyter\n",
       "  Widgets Documentation</a> for setup instructions.\n",
       "</p>\n",
       "<p>\n",
       "  If you're reading this message in another frontend (for example, a static\n",
       "  rendering on GitHub or <a href=\"https://nbviewer.jupyter.org/\">NBViewer</a>),\n",
       "  it may mean that your frontend doesn't currently support widgets.\n",
       "</p>\n"
      ],
      "text/plain": [
       "interactive(children=(IntSlider(value=50, description='x'), Output()), _dom_classes=('widget-interact',))"
      ]
     },
     "metadata": {},
     "output_type": "display_data"
    }
   ],
   "source": [
    "interact(f, x=(0, 100));"
   ]
  },
  {
   "cell_type": "code",
   "execution_count": 98,
   "metadata": {
    "ExecuteTime": {
     "end_time": "2018-03-01T22:04:10.200740Z",
     "start_time": "2018-03-01T22:04:10.190212Z"
    }
   },
   "outputs": [
    {
     "data": {
      "application/vnd.jupyter.widget-view+json": {
       "model_id": "93e22e6f52bf4c7e9a06b5f0b1c54b67",
       "version_major": 2,
       "version_minor": 0
      },
      "text/html": [
       "<p>Failed to display Jupyter Widget of type <code>FloatSlider</code>.</p>\n",
       "<p>\n",
       "  If you're reading this message in the Jupyter Notebook or JupyterLab Notebook, it may mean\n",
       "  that the widgets JavaScript is still loading. If this message persists, it\n",
       "  likely means that the widgets JavaScript library is either not installed or\n",
       "  not enabled. See the <a href=\"https://ipywidgets.readthedocs.io/en/stable/user_install.html\">Jupyter\n",
       "  Widgets Documentation</a> for setup instructions.\n",
       "</p>\n",
       "<p>\n",
       "  If you're reading this message in another frontend (for example, a static\n",
       "  rendering on GitHub or <a href=\"https://nbviewer.jupyter.org/\">NBViewer</a>),\n",
       "  it may mean that your frontend doesn't currently support widgets.\n",
       "</p>\n"
      ],
      "text/plain": [
       "FloatSlider(value=7.5, description='Input:', max=10.0, min=5.0)"
      ]
     },
     "metadata": {},
     "output_type": "display_data"
    }
   ],
   "source": [
    "slider = FloatSlider(\n",
    "    value=7.5,\n",
    "    min=5.0,\n",
    "    max=10.0,\n",
    "    step=0.1,\n",
    "    description='Input:',\n",
    ")\n",
    "\n",
    "slider"
   ]
  },
  {
   "cell_type": "code",
   "execution_count": 102,
   "metadata": {
    "ExecuteTime": {
     "end_time": "2018-03-01T22:04:42.741136Z",
     "start_time": "2018-03-01T22:04:42.333496Z"
    }
   },
   "outputs": [
    {
     "data": {
      "image/png": "[encoded data removed]",
      "text/latex": [
       "$$8.2$$"
      ],
      "text/plain": [
       "8.2"
      ]
     },
     "execution_count": 102,
     "metadata": {},
     "output_type": "execute_result"
    }
   ],
   "source": [
    "slider.value"
   ]
  },
  {
   "cell_type": "code",
   "execution_count": 101,
   "metadata": {
    "ExecuteTime": {
     "end_time": "2018-03-01T22:04:33.660979Z",
     "start_time": "2018-03-01T22:04:33.651956Z"
    }
   },
   "outputs": [
    {
     "data": {
      "application/vnd.jupyter.widget-view+json": {
       "model_id": "4d50f94c160840e8a2015382d9b1f3a3",
       "version_major": 2,
       "version_minor": 0
      },
      "text/html": [
       "<p>Failed to display Jupyter Widget of type <code>FloatText</code>.</p>\n",
       "<p>\n",
       "  If you're reading this message in the Jupyter Notebook or JupyterLab Notebook, it may mean\n",
       "  that the widgets JavaScript is still loading. If this message persists, it\n",
       "  likely means that the widgets JavaScript library is either not installed or\n",
       "  not enabled. See the <a href=\"https://ipywidgets.readthedocs.io/en/stable/user_install.html\">Jupyter\n",
       "  Widgets Documentation</a> for setup instructions.\n",
       "</p>\n",
       "<p>\n",
       "  If you're reading this message in another frontend (for example, a static\n",
       "  rendering on GitHub or <a href=\"https://nbviewer.jupyter.org/\">NBViewer</a>),\n",
       "  it may mean that your frontend doesn't currently support widgets.\n",
       "</p>\n"
      ],
      "text/plain": [
       "FloatText(value=8.2, description='Value')"
      ]
     },
     "metadata": {},
     "output_type": "display_data"
    }
   ],
   "source": [
    "\n",
    "text = FloatText(description='Value')\n",
    "dlink((slider, 'value'), (text, 'value'))\n",
    "text"
   ]
  },
  {
   "cell_type": "markdown",
   "metadata": {},
   "source": [
    "### Using Interact\n"
   ]
  },
  {
   "cell_type": "code",
   "execution_count": 104,
   "metadata": {
    "ExecuteTime": {
     "end_time": "2018-03-01T22:05:43.393754Z",
     "start_time": "2018-03-01T22:05:43.390745Z"
    }
   },
   "outputs": [],
   "source": [
    "\n",
    "from ipywidgets import interact, interactive, fixed, interact_manual\n",
    "import ipywidgets as widgets"
   ]
  },
  {
   "cell_type": "code",
   "execution_count": 105,
   "metadata": {
    "ExecuteTime": {
     "end_time": "2018-03-01T22:06:01.354657Z",
     "start_time": "2018-03-01T22:06:01.351147Z"
    }
   },
   "outputs": [],
   "source": [
    "def f(x):\n",
    "    return 3 * x\n"
   ]
  },
  {
   "cell_type": "code",
   "execution_count": 106,
   "metadata": {
    "ExecuteTime": {
     "end_time": "2018-03-01T22:06:10.949005Z",
     "start_time": "2018-03-01T22:06:10.378489Z"
    }
   },
   "outputs": [
    {
     "data": {
      "application/vnd.jupyter.widget-view+json": {
       "model_id": "6eb074e2b230459c88a09ceb31e5126d",
       "version_major": 2,
       "version_minor": 0
      },
      "text/html": [
       "<p>Failed to display Jupyter Widget of type <code>interactive</code>.</p>\n",
       "<p>\n",
       "  If you're reading this message in the Jupyter Notebook or JupyterLab Notebook, it may mean\n",
       "  that the widgets JavaScript is still loading. If this message persists, it\n",
       "  likely means that the widgets JavaScript library is either not installed or\n",
       "  not enabled. See the <a href=\"https://ipywidgets.readthedocs.io/en/stable/user_install.html\">Jupyter\n",
       "  Widgets Documentation</a> for setup instructions.\n",
       "</p>\n",
       "<p>\n",
       "  If you're reading this message in another frontend (for example, a static\n",
       "  rendering on GitHub or <a href=\"https://nbviewer.jupyter.org/\">NBViewer</a>),\n",
       "  it may mean that your frontend doesn't currently support widgets.\n",
       "</p>\n"
      ],
      "text/plain": [
       "interactive(children=(IntSlider(value=10, description='x', max=30, min=-10), Output()), _dom_classes=('widget-interact',))"
      ]
     },
     "metadata": {},
     "output_type": "display_data"
    }
   ],
   "source": [
    "interact(f, x=10);"
   ]
  },
  {
   "cell_type": "code",
   "execution_count": 107,
   "metadata": {
    "ExecuteTime": {
     "end_time": "2018-03-01T22:06:17.403374Z",
     "start_time": "2018-03-01T22:06:16.950170Z"
    }
   },
   "outputs": [
    {
     "data": {
      "application/vnd.jupyter.widget-view+json": {
       "model_id": "6492216afea541da92190886ee0d7729",
       "version_major": 2,
       "version_minor": 0
      },
      "text/html": [
       "<p>Failed to display Jupyter Widget of type <code>interactive</code>.</p>\n",
       "<p>\n",
       "  If you're reading this message in the Jupyter Notebook or JupyterLab Notebook, it may mean\n",
       "  that the widgets JavaScript is still loading. If this message persists, it\n",
       "  likely means that the widgets JavaScript library is either not installed or\n",
       "  not enabled. See the <a href=\"https://ipywidgets.readthedocs.io/en/stable/user_install.html\">Jupyter\n",
       "  Widgets Documentation</a> for setup instructions.\n",
       "</p>\n",
       "<p>\n",
       "  If you're reading this message in another frontend (for example, a static\n",
       "  rendering on GitHub or <a href=\"https://nbviewer.jupyter.org/\">NBViewer</a>),\n",
       "  it may mean that your frontend doesn't currently support widgets.\n",
       "</p>\n"
      ],
      "text/plain": [
       "interactive(children=(Checkbox(value=True, description='x'), Output()), _dom_classes=('widget-interact',))"
      ]
     },
     "metadata": {},
     "output_type": "display_data"
    }
   ],
   "source": [
    "interact(f, x=True);"
   ]
  },
  {
   "cell_type": "code",
   "execution_count": 108,
   "metadata": {
    "ExecuteTime": {
     "end_time": "2018-03-01T22:06:25.555406Z",
     "start_time": "2018-03-01T22:06:25.538846Z"
    }
   },
   "outputs": [
    {
     "data": {
      "application/vnd.jupyter.widget-view+json": {
       "model_id": "482158e2efd142298106053de660c2de",
       "version_major": 2,
       "version_minor": 0
      },
      "text/html": [
       "<p>Failed to display Jupyter Widget of type <code>interactive</code>.</p>\n",
       "<p>\n",
       "  If you're reading this message in the Jupyter Notebook or JupyterLab Notebook, it may mean\n",
       "  that the widgets JavaScript is still loading. If this message persists, it\n",
       "  likely means that the widgets JavaScript library is either not installed or\n",
       "  not enabled. See the <a href=\"https://ipywidgets.readthedocs.io/en/stable/user_install.html\">Jupyter\n",
       "  Widgets Documentation</a> for setup instructions.\n",
       "</p>\n",
       "<p>\n",
       "  If you're reading this message in another frontend (for example, a static\n",
       "  rendering on GitHub or <a href=\"https://nbviewer.jupyter.org/\">NBViewer</a>),\n",
       "  it may mean that your frontend doesn't currently support widgets.\n",
       "</p>\n"
      ],
      "text/plain": [
       "interactive(children=(Text(value='Hi there!', description='x'), Output()), _dom_classes=('widget-interact',))"
      ]
     },
     "metadata": {},
     "output_type": "display_data"
    }
   ],
   "source": [
    "interact(f, x='Hi there!');"
   ]
  },
  {
   "cell_type": "code",
   "execution_count": 109,
   "metadata": {
    "ExecuteTime": {
     "end_time": "2018-03-01T22:07:07.297773Z",
     "start_time": "2018-03-01T22:07:07.271217Z"
    }
   },
   "outputs": [
    {
     "data": {
      "application/vnd.jupyter.widget-view+json": {
       "model_id": "76c00c4178a04d72bd46d00171867dcb",
       "version_major": 2,
       "version_minor": 0
      },
      "text/html": [
       "<p>Failed to display Jupyter Widget of type <code>interactive</code>.</p>\n",
       "<p>\n",
       "  If you're reading this message in the Jupyter Notebook or JupyterLab Notebook, it may mean\n",
       "  that the widgets JavaScript is still loading. If this message persists, it\n",
       "  likely means that the widgets JavaScript library is either not installed or\n",
       "  not enabled. See the <a href=\"https://ipywidgets.readthedocs.io/en/stable/user_install.html\">Jupyter\n",
       "  Widgets Documentation</a> for setup instructions.\n",
       "</p>\n",
       "<p>\n",
       "  If you're reading this message in another frontend (for example, a static\n",
       "  rendering on GitHub or <a href=\"https://nbviewer.jupyter.org/\">NBViewer</a>),\n",
       "  it may mean that your frontend doesn't currently support widgets.\n",
       "</p>\n"
      ],
      "text/plain": [
       "interactive(children=(Checkbox(value=True, description='x'), FloatSlider(value=1.0, description='y', max=3.0, min=-1.0), Output()), _dom_classes=('widget-interact',))"
      ]
     },
     "metadata": {},
     "output_type": "display_data"
    }
   ],
   "source": []
  },
  {
   "cell_type": "markdown",
   "metadata": {},
   "source": [
    "#### Fixing arguments using fixed\n",
    "There are times when you may want to explore a function using interact, but fix one or more of its arguments to specific values. This can be accomplished by wrapping values with the fixed function."
   ]
  },
  {
   "cell_type": "code",
   "execution_count": 110,
   "metadata": {
    "ExecuteTime": {
     "end_time": "2018-03-01T22:07:56.561987Z",
     "start_time": "2018-03-01T22:07:56.558994Z"
    }
   },
   "outputs": [],
   "source": [
    "\n",
    "def h(p, q):\n",
    "    return (p, q)"
   ]
  },
  {
   "cell_type": "code",
   "execution_count": 111,
   "metadata": {
    "ExecuteTime": {
     "end_time": "2018-03-01T22:07:57.200683Z",
     "start_time": "2018-03-01T22:07:56.723432Z"
    }
   },
   "outputs": [
    {
     "data": {
      "application/vnd.jupyter.widget-view+json": {
       "model_id": "e2704568f7d746f18404f6dbff12db42",
       "version_major": 2,
       "version_minor": 0
      },
      "text/html": [
       "<p>Failed to display Jupyter Widget of type <code>interactive</code>.</p>\n",
       "<p>\n",
       "  If you're reading this message in the Jupyter Notebook or JupyterLab Notebook, it may mean\n",
       "  that the widgets JavaScript is still loading. If this message persists, it\n",
       "  likely means that the widgets JavaScript library is either not installed or\n",
       "  not enabled. See the <a href=\"https://ipywidgets.readthedocs.io/en/stable/user_install.html\">Jupyter\n",
       "  Widgets Documentation</a> for setup instructions.\n",
       "</p>\n",
       "<p>\n",
       "  If you're reading this message in another frontend (for example, a static\n",
       "  rendering on GitHub or <a href=\"https://nbviewer.jupyter.org/\">NBViewer</a>),\n",
       "  it may mean that your frontend doesn't currently support widgets.\n",
       "</p>\n"
      ],
      "text/plain": [
       "interactive(children=(IntSlider(value=5, description='p', max=15, min=-5), Output()), _dom_classes=('widget-interact',))"
      ]
     },
     "metadata": {},
     "output_type": "display_data"
    }
   ],
   "source": [
    "\n",
    "interact(h, p=5, q=fixed(20));"
   ]
  },
  {
   "cell_type": "code",
   "execution_count": null,
   "metadata": {},
   "outputs": [],
   "source": []
  },
  {
   "cell_type": "code",
   "execution_count": null,
   "metadata": {},
   "outputs": [],
   "source": []
  },
  {
   "cell_type": "code",
   "execution_count": 88,
   "metadata": {
    "ExecuteTime": {
     "end_time": "2018-03-01T20:32:58.319540Z",
     "start_time": "2018-03-01T20:32:58.046315Z"
    }
   },
   "outputs": [],
   "source": [
    "def ISLM(Yguess=534, new_G_bar = 200, new_T_bar = 110, new_M_bar = 180.00,newTitle =r'Expansion of money supply ($\\bar M$ increases by 20%)'):\n",
    "    \"\"\" A function plotting changes in the IS-LM Model\n",
    "    # parameters \n",
    "    c = 0.63  # marginal propensity to consume \n",
    "\n",
    "    b = 1500 #sensitivity of the investment to the interest rate \n",
    "\n",
    "    k = 0.6  #sensitivity of the money demand to income \n",
    "\n",
    "    h = 2700 #sensitivity of the money demand to the interest rate\n",
    "\n",
    "    \"\"\"\n",
    "    import pprint\n",
    "    import scipy\n",
    "    import scipy.linalg   # SciPy Linear Algebra Library\n",
    "    import matplotlib.pyplot as plt\n",
    "\n",
    "    %matplotlib notebook\n",
    "    \n",
    "    \n",
    "    # parameters \n",
    "    c = 0.63 #marginal propensity to consume \n",
    "\n",
    "    b = 1500 #sensitivity of the investment to the interest rate \n",
    "\n",
    "    k = 0.6  #sensitivity of the money demand to income \n",
    "\n",
    "    h = 2700 #sensitivity of the money demand to the interest rate\n",
    "    \n",
    "    \n",
    "    # policy exogenous variables \n",
    "    C_bar = 55 # autonomous consumption \n",
    "\n",
    "    I_bar = 75 # autonomous investment \n",
    "\n",
    "    G_bar = 200 #government spending \n",
    "\n",
    "    T_bar = 110 # tax on income \n",
    "\n",
    "    M_bar = 200 # money supply \n",
    "\n",
    "    P_bar = 1 #price level ( fixed in the short−run )\n",
    "    \n",
    "    A = np.matrix([ [1, -1, -1, 0], # Y=C+I+G \n",
    "     [-c, 1, 0, 0], # C=C_bar+c(Y−T) \n",
    "     [0, 0, 1, b], # I=I_bar−br \n",
    "     [k, 0, 0, -h] ]) # M/P=kY−hr\n",
    "    \n",
    "    d = np.array([ G_bar , C_bar - c*T_bar , I_bar , M_bar/P_bar ] )\n",
    "    \n",
    "        # compute the endogenous variables \n",
    "    P, L ,U = scipy.linalg.lu(A) # LU factorization \n",
    "\n",
    "    x = scipy.linalg.inv(U)@(scipy.linalg.inv(P@L)@ d) # solution of the linear system\n",
    "\n",
    "    print(\" IS-LM model: closed economy \\\n",
    "           \\nexogenous variables: \\nG = {}; T = {}; M = {}; P = {} \".format(G_bar,T_bar, M_bar, P_bar),\n",
    "          \"\\n-----------------------------------------------------------\\\n",
    "          \\nproduct, Y = {0:.2f}，\\\n",
    "          \\nconsumption, C = {1:.2f}, \\\n",
    "          \\ninvestment, I = {2:.2f}，\\\n",
    "          \\ninterest rate (%), r = {3:.2f}\".format(x[0],x[1],x[2],x[3]*100  ))\n",
    "    \n",
    "    # plot the solution : IS−LM diagram\n",
    "\n",
    "    # generate a grid on Y; \n",
    "    # in this case, since this is a line, only 2 points would have been enough\n",
    "\n",
    "    Y = np.linspace(0.95*x[0],1.05*x[0], num=100) \n",
    "\n",
    "    # IS : I=Y−C−G and I=I_bar−br expressed in terms of r\n",
    "\n",
    "    C = C_bar+c*(Y-T_bar ) \n",
    "\n",
    "    I =Y-C-G_bar \n",
    "\n",
    "    IS=( I_bar-I ) / b  \n",
    "\n",
    "    # LM: M_bar/P_bar=kY−hR expressed in terms of r\n",
    "\n",
    "    LM = 1/h*( k*Y-M_bar / P_bar ) \n",
    "    \n",
    "    # policy shock\n",
    "    G_bar = new_G_bar #government spending \n",
    "    T_bar = new_T_bar # tax on income \n",
    "    M_bar = new_M_bar # money supply \n",
    "\n",
    "    # x = [Y,C,I,r] , vector of the endogeneous variables \n",
    "    # d, vector of the exogeneous variables \n",
    "\n",
    "    d = np.array([ G_bar , C_bar - c*T_bar , I_bar , M_bar/P_bar ] )\n",
    "    \n",
    "    \n",
    "    # compute the endogenous variables \n",
    "    P, L ,U = scipy.linalg.lu(A) # LU factorization \n",
    "\n",
    "    new_x = scipy.linalg.inv(U)@(scipy.linalg.inv(P@L)@ d) # solution of the linear system\n",
    "\n",
    "    print(\"\\n New IS-LM model: closed economy \\\n",
    "          \\nshock: \\nexogenous variables: \\nG = {}; T = {}; M = {}; P = {} \".format(G_bar,T_bar, M_bar, P_bar),\n",
    "          \n",
    "          \"\\n-----------------------------------------------------------\\\n",
    "          \\nproduct, Y = {0:.2f}，\\\n",
    "          \\nconsumption, C = {1:.2f}, \\\n",
    "          \\ninvestment, I = {2:.2f}，\\\n",
    "          \\ninterest rate (%), r = {3:.2f}\".format(new_x[0],new_x[1],new_x[2],new_x[3]*100  ))\n",
    "    \n",
    "    # plot the solution : IS−LM diagram\n",
    "\n",
    "    # generate a grid on Y; in this case, since this is a line, only 2 points would have been enough\n",
    "\n",
    "    new_Y = np.linspace(0.95*new_x[0],1.05*new_x[0], num=100) \n",
    "\n",
    "    # IS : I=Y−C−G and I=I_bar−br expressed in terms of r\n",
    "\n",
    "    new_C = C_bar+c*(new_Y-T_bar ) \n",
    "\n",
    "    new_I =new_Y-new_C-G_bar \n",
    "\n",
    "    new_IS=( I_bar-new_I ) / b  \n",
    "\n",
    "    # LM: M_bar/P_bar=kY−hr expressed in terms of r\n",
    "\n",
    "    new_LM = 1/h*( k*new_Y-M_bar / P_bar ) \n",
    "\n",
    "    fig, ax = plt.subplots(figsize=(8,8));\n",
    "    ax.spines['right'].set_visible(False);\n",
    "    ax.spines['top'].set_visible(False);\n",
    "    ax.grid();\n",
    "    ax.plot(Y, IS , '--b', label='IS line');\n",
    "    ax.plot(Y, LM,  color='red', linewidth=2.0, linestyle='-', label='LM line');\n",
    "    ax.plot(new_Y, new_IS , '--b', linewidth=4.0, label='new IS line');\n",
    "    ax.plot(new_Y, new_LM,  color='red', linewidth=4.0, linestyle='-', label='new LM line');\n",
    "    ax.set_xlabel(r'$y$', fontsize=16);\n",
    "    ax.set_ylabel(r'$r$', fontsize=16);\n",
    "    #plt.xlim((500, 560)) too much, let python to choose the limits\n",
    "    #plt.ylim((0.036, 0.054))\n",
    "    plt.title(newTitle);\n",
    "    plt.legend();\n",
    "    \n",
    "    \n",
    "    \n",
    "    "
   ]
  },
  {
   "cell_type": "code",
   "execution_count": 83,
   "metadata": {
    "ExecuteTime": {
     "end_time": "2018-03-01T20:31:59.575270Z",
     "start_time": "2018-03-01T20:31:59.460967Z"
    }
   },
   "outputs": [
    {
     "name": "stdout",
     "output_type": "stream",
     "text": [
      " IS-LM model: closed economy            \n",
      "exogenous variables: \n",
      "G = 200; T = 110; M = 200; P = 1  \n",
      "-----------------------------------------------------------          \n",
      "product, Y = 528.64，          \n",
      "consumption, C = 318.74,           \n",
      "investment, I = 9.90，          \n",
      "interest rate (%), r = 4.34\n",
      "\n",
      " New IS-LM model: closed economy           \n",
      "shock: \n",
      "exogenous variables: \n",
      "G = 200; T = 110; M = 220.0; P = 1  \n",
      "-----------------------------------------------------------          \n",
      "product, Y = 544.44，          \n",
      "consumption, C = 328.70,           \n",
      "investment, I = 15.74，          \n",
      "interest rate (%), r = 3.95\n"
     ]
    },
    {
     "data": {
      "application/javascript": [
       "/* Put everything inside the global mpl namespace */\n",
       "window.mpl = {};\n",
       "\n",
       "\n",
       "mpl.get_websocket_type = function() {\n",
       "    if (typeof(WebSocket) !== 'undefined') {\n",
       "        return WebSocket;\n",
       "    } else if (typeof(MozWebSocket) !== 'undefined') {\n",
       "        return MozWebSocket;\n",
       "    } else {\n",
       "        alert('Your browser does not have WebSocket support.' +\n",
       "              'Please try Chrome, Safari or Firefox ≥ 6. ' +\n",
       "              'Firefox 4 and 5 are also supported but you ' +\n",
       "              'have to enable WebSockets in about:config.');\n",
       "    };\n",
       "}\n",
       "\n",
       "mpl.figure = function(figure_id, websocket, ondownload, parent_element) {\n",
       "    this.id = figure_id;\n",
       "\n",
       "    this.ws = websocket;\n",
       "\n",
       "    this.supports_binary = (this.ws.binaryType != undefined);\n",
       "\n",
       "    if (!this.supports_binary) {\n",
       "        var warnings = document.getElementById(\"mpl-warnings\");\n",
       "        if (warnings) {\n",
       "            warnings.style.display = 'block';\n",
       "            warnings.textContent = (\n",
       "                \"This browser does not support binary websocket messages. \" +\n",
       "                    \"Performance may be slow.\");\n",
       "        }\n",
       "    }\n",
       "\n",
       "    this.imageObj = new Image();\n",
       "\n",
       "    this.context = undefined;\n",
       "    this.message = undefined;\n",
       "    this.canvas = undefined;\n",
       "    this.rubberband_canvas = undefined;\n",
       "    this.rubberband_context = undefined;\n",
       "    this.format_dropdown = undefined;\n",
       "\n",
       "    this.image_mode = 'full';\n",
       "\n",
       "    this.root = $('<div/>');\n",
       "    this._root_extra_style(this.root)\n",
       "    this.root.attr('style', 'display: inline-block');\n",
       "\n",
       "    $(parent_element).append(this.root);\n",
       "\n",
       "    this._init_header(this);\n",
       "    this._init_canvas(this);\n",
       "    this._init_toolbar(this);\n",
       "\n",
       "    var fig = this;\n",
       "\n",
       "    this.waiting = false;\n",
       "\n",
       "    this.ws.onopen =  function () {\n",
       "            fig.send_message(\"supports_binary\", {value: fig.supports_binary});\n",
       "            fig.send_message(\"send_image_mode\", {});\n",
       "            if (mpl.ratio != 1) {\n",
       "                fig.send_message(\"set_dpi_ratio\", {'dpi_ratio': mpl.ratio});\n",
       "            }\n",
       "            fig.send_message(\"refresh\", {});\n",
       "        }\n",
       "\n",
       "    this.imageObj.onload = function() {\n",
       "            if (fig.image_mode == 'full') {\n",
       "                // Full images could contain transparency (where diff images\n",
       "                // almost always do), so we need to clear the canvas so that\n",
       "                // there is no ghosting.\n",
       "                fig.context.clearRect(0, 0, fig.canvas.width, fig.canvas.height);\n",
       "            }\n",
       "            fig.context.drawImage(fig.imageObj, 0, 0);\n",
       "        };\n",
       "\n",
       "    this.imageObj.onunload = function() {\n",
       "        fig.ws.close();\n",
       "    }\n",
       "\n",
       "    this.ws.onmessage = this._make_on_message_function(this);\n",
       "\n",
       "    this.ondownload = ondownload;\n",
       "}\n",
       "\n",
       "mpl.figure.prototype._init_header = function() {\n",
       "    var titlebar = $(\n",
       "        '<div class=\"ui-dialog-titlebar ui-widget-header ui-corner-all ' +\n",
       "        'ui-helper-clearfix\"/>');\n",
       "    var titletext = $(\n",
       "        '<div class=\"ui-dialog-title\" style=\"width: 100%; ' +\n",
       "        'text-align: center; padding: 3px;\"/>');\n",
       "    titlebar.append(titletext)\n",
       "    this.root.append(titlebar);\n",
       "    this.header = titletext[0];\n",
       "}\n",
       "\n",
       "\n",
       "\n",
       "mpl.figure.prototype._canvas_extra_style = function(canvas_div) {\n",
       "\n",
       "}\n",
       "\n",
       "\n",
       "mpl.figure.prototype._root_extra_style = function(canvas_div) {\n",
       "\n",
       "}\n",
       "\n",
       "mpl.figure.prototype._init_canvas = function() {\n",
       "    var fig = this;\n",
       "\n",
       "    var canvas_div = $('<div/>');\n",
       "\n",
       "    canvas_div.attr('style', 'position: relative; clear: both; outline: 0');\n",
       "\n",
       "    function canvas_keyboard_event(event) {\n",
       "        return fig.key_event(event, event['data']);\n",
       "    }\n",
       "\n",
       "    canvas_div.keydown('key_press', canvas_keyboard_event);\n",
       "    canvas_div.keyup('key_release', canvas_keyboard_event);\n",
       "    this.canvas_div = canvas_div\n",
       "    this._canvas_extra_style(canvas_div)\n",
       "    this.root.append(canvas_div);\n",
       "\n",
       "    var canvas = $('<canvas/>');\n",
       "    canvas.addClass('mpl-canvas');\n",
       "    canvas.attr('style', \"left: 0; top: 0; z-index: 0; outline: 0\")\n",
       "\n",
       "    this.canvas = canvas[0];\n",
       "    this.context = canvas[0].getContext(\"2d\");\n",
       "\n",
       "    var backingStore = this.context.backingStorePixelRatio ||\n",
       "\tthis.context.webkitBackingStorePixelRatio ||\n",
       "\tthis.context.mozBackingStorePixelRatio ||\n",
       "\tthis.context.msBackingStorePixelRatio ||\n",
       "\tthis.context.oBackingStorePixelRatio ||\n",
       "\tthis.context.backingStorePixelRatio || 1;\n",
       "\n",
       "    mpl.ratio = (window.devicePixelRatio || 1) / backingStore;\n",
       "\n",
       "    var rubberband = $('<canvas/>');\n",
       "    rubberband.attr('style', \"position: absolute; left: 0; top: 0; z-index: 1;\")\n",
       "\n",
       "    var pass_mouse_events = true;\n",
       "\n",
       "    canvas_div.resizable({\n",
       "        start: function(event, ui) {\n",
       "            pass_mouse_events = false;\n",
       "        },\n",
       "        resize: function(event, ui) {\n",
       "            fig.request_resize(ui.size.width, ui.size.height);\n",
       "        },\n",
       "        stop: function(event, ui) {\n",
       "            pass_mouse_events = true;\n",
       "            fig.request_resize(ui.size.width, ui.size.height);\n",
       "        },\n",
       "    });\n",
       "\n",
       "    function mouse_event_fn(event) {\n",
       "        if (pass_mouse_events)\n",
       "            return fig.mouse_event(event, event['data']);\n",
       "    }\n",
       "\n",
       "    rubberband.mousedown('button_press', mouse_event_fn);\n",
       "    rubberband.mouseup('button_release', mouse_event_fn);\n",
       "    // Throttle sequential mouse events to 1 every 20ms.\n",
       "    rubberband.mousemove('motion_notify', mouse_event_fn);\n",
       "\n",
       "    rubberband.mouseenter('figure_enter', mouse_event_fn);\n",
       "    rubberband.mouseleave('figure_leave', mouse_event_fn);\n",
       "\n",
       "    canvas_div.on(\"wheel\", function (event) {\n",
       "        event = event.originalEvent;\n",
       "        event['data'] = 'scroll'\n",
       "        if (event.deltaY < 0) {\n",
       "            event.step = 1;\n",
       "        } else {\n",
       "            event.step = -1;\n",
       "        }\n",
       "        mouse_event_fn(event);\n",
       "    });\n",
       "\n",
       "    canvas_div.append(canvas);\n",
       "    canvas_div.append(rubberband);\n",
       "\n",
       "    this.rubberband = rubberband;\n",
       "    this.rubberband_canvas = rubberband[0];\n",
       "    this.rubberband_context = rubberband[0].getContext(\"2d\");\n",
       "    this.rubberband_context.strokeStyle = \"#000000\";\n",
       "\n",
       "    this._resize_canvas = function(width, height) {\n",
       "        // Keep the size of the canvas, canvas container, and rubber band\n",
       "        // canvas in synch.\n",
       "        canvas_div.css('width', width)\n",
       "        canvas_div.css('height', height)\n",
       "\n",
       "        canvas.attr('width', width * mpl.ratio);\n",
       "        canvas.attr('height', height * mpl.ratio);\n",
       "        canvas.attr('style', 'width: ' + width + 'px; height: ' + height + 'px;');\n",
       "\n",
       "        rubberband.attr('width', width);\n",
       "        rubberband.attr('height', height);\n",
       "    }\n",
       "\n",
       "    // Set the figure to an initial 600x600px, this will subsequently be updated\n",
       "    // upon first draw.\n",
       "    this._resize_canvas(600, 600);\n",
       "\n",
       "    // Disable right mouse context menu.\n",
       "    $(this.rubberband_canvas).bind(\"contextmenu\",function(e){\n",
       "        return false;\n",
       "    });\n",
       "\n",
       "    function set_focus () {\n",
       "        canvas.focus();\n",
       "        canvas_div.focus();\n",
       "    }\n",
       "\n",
       "    window.setTimeout(set_focus, 100);\n",
       "}\n",
       "\n",
       "mpl.figure.prototype._init_toolbar = function() {\n",
       "    var fig = this;\n",
       "\n",
       "    var nav_element = $('<div/>')\n",
       "    nav_element.attr('style', 'width: 100%');\n",
       "    this.root.append(nav_element);\n",
       "\n",
       "    // Define a callback function for later on.\n",
       "    function toolbar_event(event) {\n",
       "        return fig.toolbar_button_onclick(event['data']);\n",
       "    }\n",
       "    function toolbar_mouse_event(event) {\n",
       "        return fig.toolbar_button_onmouseover(event['data']);\n",
       "    }\n",
       "\n",
       "    for(var toolbar_ind in mpl.toolbar_items) {\n",
       "        var name = mpl.toolbar_items[toolbar_ind][0];\n",
       "        var tooltip = mpl.toolbar_items[toolbar_ind][1];\n",
       "        var image = mpl.toolbar_items[toolbar_ind][2];\n",
       "        var method_name = mpl.toolbar_items[toolbar_ind][3];\n",
       "\n",
       "        if (!name) {\n",
       "            // put a spacer in here.\n",
       "            continue;\n",
       "        }\n",
       "        var button = $('<button/>');\n",
       "        button.addClass('ui-button ui-widget ui-state-default ui-corner-all ' +\n",
       "                        'ui-button-icon-only');\n",
       "        button.attr('role', 'button');\n",
       "        button.attr('aria-disabled', 'false');\n",
       "        button.click(method_name, toolbar_event);\n",
       "        button.mouseover(tooltip, toolbar_mouse_event);\n",
       "\n",
       "        var icon_img = $('<span/>');\n",
       "        icon_img.addClass('ui-button-icon-primary ui-icon');\n",
       "        icon_img.addClass(image);\n",
       "        icon_img.addClass('ui-corner-all');\n",
       "\n",
       "        var tooltip_span = $('<span/>');\n",
       "        tooltip_span.addClass('ui-button-text');\n",
       "        tooltip_span.html(tooltip);\n",
       "\n",
       "        button.append(icon_img);\n",
       "        button.append(tooltip_span);\n",
       "\n",
       "        nav_element.append(button);\n",
       "    }\n",
       "\n",
       "    var fmt_picker_span = $('<span/>');\n",
       "\n",
       "    var fmt_picker = $('<select/>');\n",
       "    fmt_picker.addClass('mpl-toolbar-option ui-widget ui-widget-content');\n",
       "    fmt_picker_span.append(fmt_picker);\n",
       "    nav_element.append(fmt_picker_span);\n",
       "    this.format_dropdown = fmt_picker[0];\n",
       "\n",
       "    for (var ind in mpl.extensions) {\n",
       "        var fmt = mpl.extensions[ind];\n",
       "        var option = $(\n",
       "            '<option/>', {selected: fmt === mpl.default_extension}).html(fmt);\n",
       "        fmt_picker.append(option)\n",
       "    }\n",
       "\n",
       "    // Add hover states to the ui-buttons\n",
       "    $( \".ui-button\" ).hover(\n",
       "        function() { $(this).addClass(\"ui-state-hover\");},\n",
       "        function() { $(this).removeClass(\"ui-state-hover\");}\n",
       "    );\n",
       "\n",
       "    var status_bar = $('<span class=\"mpl-message\"/>');\n",
       "    nav_element.append(status_bar);\n",
       "    this.message = status_bar[0];\n",
       "}\n",
       "\n",
       "mpl.figure.prototype.request_resize = function(x_pixels, y_pixels) {\n",
       "    // Request matplotlib to resize the figure. Matplotlib will then trigger a resize in the client,\n",
       "    // which will in turn request a refresh of the image.\n",
       "    this.send_message('resize', {'width': x_pixels, 'height': y_pixels});\n",
       "}\n",
       "\n",
       "mpl.figure.prototype.send_message = function(type, properties) {\n",
       "    properties['type'] = type;\n",
       "    properties['figure_id'] = this.id;\n",
       "    this.ws.send(JSON.stringify(properties));\n",
       "}\n",
       "\n",
       "mpl.figure.prototype.send_draw_message = function() {\n",
       "    if (!this.waiting) {\n",
       "        this.waiting = true;\n",
       "        this.ws.send(JSON.stringify({type: \"draw\", figure_id: this.id}));\n",
       "    }\n",
       "}\n",
       "\n",
       "\n",
       "mpl.figure.prototype.handle_save = function(fig, msg) {\n",
       "    var format_dropdown = fig.format_dropdown;\n",
       "    var format = format_dropdown.options[format_dropdown.selectedIndex].value;\n",
       "    fig.ondownload(fig, format);\n",
       "}\n",
       "\n",
       "\n",
       "mpl.figure.prototype.handle_resize = function(fig, msg) {\n",
       "    var size = msg['size'];\n",
       "    if (size[0] != fig.canvas.width || size[1] != fig.canvas.height) {\n",
       "        fig._resize_canvas(size[0], size[1]);\n",
       "        fig.send_message(\"refresh\", {});\n",
       "    };\n",
       "}\n",
       "\n",
       "mpl.figure.prototype.handle_rubberband = function(fig, msg) {\n",
       "    var x0 = msg['x0'] / mpl.ratio;\n",
       "    var y0 = (fig.canvas.height - msg['y0']) / mpl.ratio;\n",
       "    var x1 = msg['x1'] / mpl.ratio;\n",
       "    var y1 = (fig.canvas.height - msg['y1']) / mpl.ratio;\n",
       "    x0 = Math.floor(x0) + 0.5;\n",
       "    y0 = Math.floor(y0) + 0.5;\n",
       "    x1 = Math.floor(x1) + 0.5;\n",
       "    y1 = Math.floor(y1) + 0.5;\n",
       "    var min_x = Math.min(x0, x1);\n",
       "    var min_y = Math.min(y0, y1);\n",
       "    var width = Math.abs(x1 - x0);\n",
       "    var height = Math.abs(y1 - y0);\n",
       "\n",
       "    fig.rubberband_context.clearRect(\n",
       "        0, 0, fig.canvas.width, fig.canvas.height);\n",
       "\n",
       "    fig.rubberband_context.strokeRect(min_x, min_y, width, height);\n",
       "}\n",
       "\n",
       "mpl.figure.prototype.handle_figure_label = function(fig, msg) {\n",
       "    // Updates the figure title.\n",
       "    fig.header.textContent = msg['label'];\n",
       "}\n",
       "\n",
       "mpl.figure.prototype.handle_cursor = function(fig, msg) {\n",
       "    var cursor = msg['cursor'];\n",
       "    switch(cursor)\n",
       "    {\n",
       "    case 0:\n",
       "        cursor = 'pointer';\n",
       "        break;\n",
       "    case 1:\n",
       "        cursor = 'default';\n",
       "        break;\n",
       "    case 2:\n",
       "        cursor = 'crosshair';\n",
       "        break;\n",
       "    case 3:\n",
       "        cursor = 'move';\n",
       "        break;\n",
       "    }\n",
       "    fig.rubberband_canvas.style.cursor = cursor;\n",
       "}\n",
       "\n",
       "mpl.figure.prototype.handle_message = function(fig, msg) {\n",
       "    fig.message.textContent = msg['message'];\n",
       "}\n",
       "\n",
       "mpl.figure.prototype.handle_draw = function(fig, msg) {\n",
       "    // Request the server to send over a new figure.\n",
       "    fig.send_draw_message();\n",
       "}\n",
       "\n",
       "mpl.figure.prototype.handle_image_mode = function(fig, msg) {\n",
       "    fig.image_mode = msg['mode'];\n",
       "}\n",
       "\n",
       "mpl.figure.prototype.updated_canvas_event = function() {\n",
       "    // Called whenever the canvas gets updated.\n",
       "    this.send_message(\"ack\", {});\n",
       "}\n",
       "\n",
       "// A function to construct a web socket function for onmessage handling.\n",
       "// Called in the figure constructor.\n",
       "mpl.figure.prototype._make_on_message_function = function(fig) {\n",
       "    return function socket_on_message(evt) {\n",
       "        if (evt.data instanceof Blob) {\n",
       "            /* FIXME: We get \"Resource interpreted as Image but\n",
       "             * transferred with MIME type text/plain:\" errors on\n",
       "             * Chrome.  But how to set the MIME type?  It doesn't seem\n",
       "             * to be part of the websocket stream */\n",
       "            evt.data.type = \"image/png\";\n",
       "\n",
       "            /* Free the memory for the previous frames */\n",
       "            if (fig.imageObj.src) {\n",
       "                (window.URL || window.webkitURL).revokeObjectURL(\n",
       "                    fig.imageObj.src);\n",
       "            }\n",
       "\n",
       "            fig.imageObj.src = (window.URL || window.webkitURL).createObjectURL(\n",
       "                evt.data);\n",
       "            fig.updated_canvas_event();\n",
       "            fig.waiting = false;\n",
       "            return;\n",
       "        }\n",
       "        else if (typeof evt.data === 'string' && evt.data.slice(0, 21) == \"data:image/png;base64\") {\n",
       "            fig.imageObj.src = evt.data;\n",
       "            fig.updated_canvas_event();\n",
       "            fig.waiting = false;\n",
       "            return;\n",
       "        }\n",
       "\n",
       "        var msg = JSON.parse(evt.data);\n",
       "        var msg_type = msg['type'];\n",
       "\n",
       "        // Call the  \"handle_{type}\" callback, which takes\n",
       "        // the figure and JSON message as its only arguments.\n",
       "        try {\n",
       "            var callback = fig[\"handle_\" + msg_type];\n",
       "        } catch (e) {\n",
       "            console.log(\"No handler for the '\" + msg_type + \"' message type: \", msg);\n",
       "            return;\n",
       "        }\n",
       "\n",
       "        if (callback) {\n",
       "            try {\n",
       "                // console.log(\"Handling '\" + msg_type + \"' message: \", msg);\n",
       "                callback(fig, msg);\n",
       "            } catch (e) {\n",
       "                console.log(\"Exception inside the 'handler_\" + msg_type + \"' callback:\", e, e.stack, msg);\n",
       "            }\n",
       "        }\n",
       "    };\n",
       "}\n",
       "\n",
       "// from http://stackoverflow.com/questions/1114465/getting-mouse-location-in-canvas\n",
       "mpl.findpos = function(e) {\n",
       "    //this section is from http://www.quirksmode.org/js/events_properties.html\n",
       "    var targ;\n",
       "    if (!e)\n",
       "        e = window.event;\n",
       "    if (e.target)\n",
       "        targ = e.target;\n",
       "    else if (e.srcElement)\n",
       "        targ = e.srcElement;\n",
       "    if (targ.nodeType == 3) // defeat Safari bug\n",
       "        targ = targ.parentNode;\n",
       "\n",
       "    // jQuery normalizes the pageX and pageY\n",
       "    // pageX,Y are the mouse positions relative to the document\n",
       "    // offset() returns the position of the element relative to the document\n",
       "    var x = e.pageX - $(targ).offset().left;\n",
       "    var y = e.pageY - $(targ).offset().top;\n",
       "\n",
       "    return {\"x\": x, \"y\": y};\n",
       "};\n",
       "\n",
       "/*\n",
       " * return a copy of an object with only non-object keys\n",
       " * we need this to avoid circular references\n",
       " * http://stackoverflow.com/a/24161582/3208463\n",
       " */\n",
       "function simpleKeys (original) {\n",
       "  return Object.keys(original).reduce(function (obj, key) {\n",
       "    if (typeof original[key] !== 'object')\n",
       "        obj[key] = original[key]\n",
       "    return obj;\n",
       "  }, {});\n",
       "}\n",
       "\n",
       "mpl.figure.prototype.mouse_event = function(event, name) {\n",
       "    var canvas_pos = mpl.findpos(event)\n",
       "\n",
       "    if (name === 'button_press')\n",
       "    {\n",
       "        this.canvas.focus();\n",
       "        this.canvas_div.focus();\n",
       "    }\n",
       "\n",
       "    var x = canvas_pos.x * mpl.ratio;\n",
       "    var y = canvas_pos.y * mpl.ratio;\n",
       "\n",
       "    this.send_message(name, {x: x, y: y, button: event.button,\n",
       "                             step: event.step,\n",
       "                             guiEvent: simpleKeys(event)});\n",
       "\n",
       "    /* This prevents the web browser from automatically changing to\n",
       "     * the text insertion cursor when the button is pressed.  We want\n",
       "     * to control all of the cursor setting manually through the\n",
       "     * 'cursor' event from matplotlib */\n",
       "    event.preventDefault();\n",
       "    return false;\n",
       "}\n",
       "\n",
       "mpl.figure.prototype._key_event_extra = function(event, name) {\n",
       "    // Handle any extra behaviour associated with a key event\n",
       "}\n",
       "\n",
       "mpl.figure.prototype.key_event = function(event, name) {\n",
       "\n",
       "    // Prevent repeat events\n",
       "    if (name == 'key_press')\n",
       "    {\n",
       "        if (event.which === this._key)\n",
       "            return;\n",
       "        else\n",
       "            this._key = event.which;\n",
       "    }\n",
       "    if (name == 'key_release')\n",
       "        this._key = null;\n",
       "\n",
       "    var value = '';\n",
       "    if (event.ctrlKey && event.which != 17)\n",
       "        value += \"ctrl+\";\n",
       "    if (event.altKey && event.which != 18)\n",
       "        value += \"alt+\";\n",
       "    if (event.shiftKey && event.which != 16)\n",
       "        value += \"shift+\";\n",
       "\n",
       "    value += 'k';\n",
       "    value += event.which.toString();\n",
       "\n",
       "    this._key_event_extra(event, name);\n",
       "\n",
       "    this.send_message(name, {key: value,\n",
       "                             guiEvent: simpleKeys(event)});\n",
       "    return false;\n",
       "}\n",
       "\n",
       "mpl.figure.prototype.toolbar_button_onclick = function(name) {\n",
       "    if (name == 'download') {\n",
       "        this.handle_save(this, null);\n",
       "    } else {\n",
       "        this.send_message(\"toolbar_button\", {name: name});\n",
       "    }\n",
       "};\n",
       "\n",
       "mpl.figure.prototype.toolbar_button_onmouseover = function(tooltip) {\n",
       "    this.message.textContent = tooltip;\n",
       "};\n",
       "mpl.toolbar_items = [[\"Home\", \"Reset original view\", \"fa fa-home icon-home\", \"home\"], [\"Back\", \"Back to  previous view\", \"fa fa-arrow-left icon-arrow-left\", \"back\"], [\"Forward\", \"Forward to next view\", \"fa fa-arrow-right icon-arrow-right\", \"forward\"], [\"\", \"\", \"\", \"\"], [\"Pan\", \"Pan axes with left mouse, zoom with right\", \"fa fa-arrows icon-move\", \"pan\"], [\"Zoom\", \"Zoom to rectangle\", \"fa fa-square-o icon-check-empty\", \"zoom\"], [\"\", \"\", \"\", \"\"], [\"Download\", \"Download plot\", \"fa fa-floppy-o icon-save\", \"download\"]];\n",
       "\n",
       "mpl.extensions = [\"eps\", \"pdf\", \"png\", \"ps\", \"raw\", \"svg\"];\n",
       "\n",
       "mpl.default_extension = \"png\";var comm_websocket_adapter = function(comm) {\n",
       "    // Create a \"websocket\"-like object which calls the given IPython comm\n",
       "    // object with the appropriate methods. Currently this is a non binary\n",
       "    // socket, so there is still some room for performance tuning.\n",
       "    var ws = {};\n",
       "\n",
       "    ws.close = function() {\n",
       "        comm.close()\n",
       "    };\n",
       "    ws.send = function(m) {\n",
       "        //console.log('sending', m);\n",
       "        comm.send(m);\n",
       "    };\n",
       "    // Register the callback with on_msg.\n",
       "    comm.on_msg(function(msg) {\n",
       "        //console.log('receiving', msg['content']['data'], msg);\n",
       "        // Pass the mpl event to the overriden (by mpl) onmessage function.\n",
       "        ws.onmessage(msg['content']['data'])\n",
       "    });\n",
       "    return ws;\n",
       "}\n",
       "\n",
       "mpl.mpl_figure_comm = function(comm, msg) {\n",
       "    // This is the function which gets called when the mpl process\n",
       "    // starts-up an IPython Comm through the \"matplotlib\" channel.\n",
       "\n",
       "    var id = msg.content.data.id;\n",
       "    // Get hold of the div created by the display call when the Comm\n",
       "    // socket was opened in Python.\n",
       "    var element = $(\"#\" + id);\n",
       "    var ws_proxy = comm_websocket_adapter(comm)\n",
       "\n",
       "    function ondownload(figure, format) {\n",
       "        window.open(figure.imageObj.src);\n",
       "    }\n",
       "\n",
       "    var fig = new mpl.figure(id, ws_proxy,\n",
       "                           ondownload,\n",
       "                           element.get(0));\n",
       "\n",
       "    // Call onopen now - mpl needs it, as it is assuming we've passed it a real\n",
       "    // web socket which is closed, not our websocket->open comm proxy.\n",
       "    ws_proxy.onopen();\n",
       "\n",
       "    fig.parent_element = element.get(0);\n",
       "    fig.cell_info = mpl.find_output_cell(\"<div id='\" + id + \"'></div>\");\n",
       "    if (!fig.cell_info) {\n",
       "        console.error(\"Failed to find cell for figure\", id, fig);\n",
       "        return;\n",
       "    }\n",
       "\n",
       "    var output_index = fig.cell_info[2]\n",
       "    var cell = fig.cell_info[0];\n",
       "\n",
       "};\n",
       "\n",
       "mpl.figure.prototype.handle_close = function(fig, msg) {\n",
       "    var width = fig.canvas.width/mpl.ratio\n",
       "    fig.root.unbind('remove')\n",
       "\n",
       "    // Update the output cell to use the data from the current canvas.\n",
       "    fig.push_to_output();\n",
       "    var dataURL = fig.canvas.toDataURL();\n",
       "    // Re-enable the keyboard manager in IPython - without this line, in FF,\n",
       "    // the notebook keyboard shortcuts fail.\n",
       "    IPython.keyboard_manager.enable()\n",
       "    $(fig.parent_element).html('<img src=\"' + dataURL + '\" width=\"' + width + '\">');\n",
       "    fig.close_ws(fig, msg);\n",
       "}\n",
       "\n",
       "mpl.figure.prototype.close_ws = function(fig, msg){\n",
       "    fig.send_message('closing', msg);\n",
       "    // fig.ws.close()\n",
       "}\n",
       "\n",
       "mpl.figure.prototype.push_to_output = function(remove_interactive) {\n",
       "    // Turn the data on the canvas into data in the output cell.\n",
       "    var width = this.canvas.width/mpl.ratio\n",
       "    var dataURL = this.canvas.toDataURL();\n",
       "    this.cell_info[1]['text/html'] = '<img src=\"' + dataURL + '\" width=\"' + width + '\">';\n",
       "}\n",
       "\n",
       "mpl.figure.prototype.updated_canvas_event = function() {\n",
       "    // Tell IPython that the notebook contents must change.\n",
       "    IPython.notebook.set_dirty(true);\n",
       "    this.send_message(\"ack\", {});\n",
       "    var fig = this;\n",
       "    // Wait a second, then push the new image to the DOM so\n",
       "    // that it is saved nicely (might be nice to debounce this).\n",
       "    setTimeout(function () { fig.push_to_output() }, 1000);\n",
       "}\n",
       "\n",
       "mpl.figure.prototype._init_toolbar = function() {\n",
       "    var fig = this;\n",
       "\n",
       "    var nav_element = $('<div/>')\n",
       "    nav_element.attr('style', 'width: 100%');\n",
       "    this.root.append(nav_element);\n",
       "\n",
       "    // Define a callback function for later on.\n",
       "    function toolbar_event(event) {\n",
       "        return fig.toolbar_button_onclick(event['data']);\n",
       "    }\n",
       "    function toolbar_mouse_event(event) {\n",
       "        return fig.toolbar_button_onmouseover(event['data']);\n",
       "    }\n",
       "\n",
       "    for(var toolbar_ind in mpl.toolbar_items){\n",
       "        var name = mpl.toolbar_items[toolbar_ind][0];\n",
       "        var tooltip = mpl.toolbar_items[toolbar_ind][1];\n",
       "        var image = mpl.toolbar_items[toolbar_ind][2];\n",
       "        var method_name = mpl.toolbar_items[toolbar_ind][3];\n",
       "\n",
       "        if (!name) { continue; };\n",
       "\n",
       "        var button = $('<button class=\"btn btn-default\" href=\"#\" title=\"' + name + '\"><i class=\"fa ' + image + ' fa-lg\"></i></button>');\n",
       "        button.click(method_name, toolbar_event);\n",
       "        button.mouseover(tooltip, toolbar_mouse_event);\n",
       "        nav_element.append(button);\n",
       "    }\n",
       "\n",
       "    // Add the status bar.\n",
       "    var status_bar = $('<span class=\"mpl-message\" style=\"text-align:right; float: right;\"/>');\n",
       "    nav_element.append(status_bar);\n",
       "    this.message = status_bar[0];\n",
       "\n",
       "    // Add the close button to the window.\n",
       "    var buttongrp = $('<div class=\"btn-group inline pull-right\"></div>');\n",
       "    var button = $('<button class=\"btn btn-mini btn-primary\" href=\"#\" title=\"Stop Interaction\"><i class=\"fa fa-power-off icon-remove icon-large\"></i></button>');\n",
       "    button.click(function (evt) { fig.handle_close(fig, {}); } );\n",
       "    button.mouseover('Stop Interaction', toolbar_mouse_event);\n",
       "    buttongrp.append(button);\n",
       "    var titlebar = this.root.find($('.ui-dialog-titlebar'));\n",
       "    titlebar.prepend(buttongrp);\n",
       "}\n",
       "\n",
       "mpl.figure.prototype._root_extra_style = function(el){\n",
       "    var fig = this\n",
       "    el.on(\"remove\", function(){\n",
       "\tfig.close_ws(fig, {});\n",
       "    });\n",
       "}\n",
       "\n",
       "mpl.figure.prototype._canvas_extra_style = function(el){\n",
       "    // this is important to make the div 'focusable\n",
       "    el.attr('tabindex', 0)\n",
       "    // reach out to IPython and tell the keyboard manager to turn it's self\n",
       "    // off when our div gets focus\n",
       "\n",
       "    // location in version 3\n",
       "    if (IPython.notebook.keyboard_manager) {\n",
       "        IPython.notebook.keyboard_manager.register_events(el);\n",
       "    }\n",
       "    else {\n",
       "        // location in version 2\n",
       "        IPython.keyboard_manager.register_events(el);\n",
       "    }\n",
       "\n",
       "}\n",
       "\n",
       "mpl.figure.prototype._key_event_extra = function(event, name) {\n",
       "    var manager = IPython.notebook.keyboard_manager;\n",
       "    if (!manager)\n",
       "        manager = IPython.keyboard_manager;\n",
       "\n",
       "    // Check for shift+enter\n",
       "    if (event.shiftKey && event.which == 13) {\n",
       "        this.canvas_div.blur();\n",
       "        event.shiftKey = false;\n",
       "        // Send a \"J\" for go to next cell\n",
       "        event.which = 74;\n",
       "        event.keyCode = 74;\n",
       "        manager.command_mode();\n",
       "        manager.handle_keydown(event);\n",
       "    }\n",
       "}\n",
       "\n",
       "mpl.figure.prototype.handle_save = function(fig, msg) {\n",
       "    fig.ondownload(fig, null);\n",
       "}\n",
       "\n",
       "\n",
       "mpl.find_output_cell = function(html_output) {\n",
       "    // Return the cell and output element which can be found *uniquely* in the notebook.\n",
       "    // Note - this is a bit hacky, but it is done because the \"notebook_saving.Notebook\"\n",
       "    // IPython event is triggered only after the cells have been serialised, which for\n",
       "    // our purposes (turning an active figure into a static one), is too late.\n",
       "    var cells = IPython.notebook.get_cells();\n",
       "    var ncells = cells.length;\n",
       "    for (var i=0; i<ncells; i++) {\n",
       "        var cell = cells[i];\n",
       "        if (cell.cell_type === 'code'){\n",
       "            for (var j=0; j<cell.output_area.outputs.length; j++) {\n",
       "                var data = cell.output_area.outputs[j];\n",
       "                if (data.data) {\n",
       "                    // IPython >= 3 moved mimebundle to data attribute of output\n",
       "                    data = data.data;\n",
       "                }\n",
       "                if (data['text/html'] == html_output) {\n",
       "                    return [cell, data, j];\n",
       "                }\n",
       "            }\n",
       "        }\n",
       "    }\n",
       "}\n",
       "\n",
       "// Register the function which deals with the matplotlib target/channel.\n",
       "// The kernel may be null if the page has been refreshed.\n",
       "if (IPython.notebook.kernel != null) {\n",
       "    IPython.notebook.kernel.comm_manager.register_target('matplotlib', mpl.mpl_figure_comm);\n",
       "}\n"
      ],
      "text/plain": [
       "<IPython.core.display.Javascript object>"
      ]
     },
     "metadata": {},
     "output_type": "display_data"
    },
    {
     "data": {
      "text/html": [
       "<img src=\"data:image/png;base64,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\" width=\"576\">"
      ],
      "text/plain": [
       "<IPython.core.display.HTML object>"
      ]
     },
     "metadata": {},
     "output_type": "display_data"
    }
   ],
   "source": [
    "ISLM(new_G_bar = 200, new_T_bar = 110, new_M_bar = 220.00, \n",
    "     newTitle= r'Expansion of money supply ($\\bar M$ increases by 20%)')"
   ]
  },
  {
   "cell_type": "code",
   "execution_count": 84,
   "metadata": {
    "ExecuteTime": {
     "end_time": "2018-03-01T20:32:03.508318Z",
     "start_time": "2018-03-01T20:32:03.505810Z"
    }
   },
   "outputs": [],
   "source": [
    "from ipywidgets import interact, fixed"
   ]
  },
  {
   "cell_type": "code",
   "execution_count": 85,
   "metadata": {
    "ExecuteTime": {
     "end_time": "2018-03-01T20:32:04.581328Z",
     "start_time": "2018-03-01T20:32:04.577318Z"
    }
   },
   "outputs": [],
   "source": [
    "new_G_bar = 200\n",
    "new_T_bar = 110\n",
    "new_M_bar = 200\n",
    "\n",
    "\n",
    "Gmin, Gmax = 180, 220\n",
    "Tmin, Tmax = 100, 120\n",
    "Mmin, Mmax = 180,220"
   ]
  },
  {
   "cell_type": "code",
   "execution_count": null,
   "metadata": {},
   "outputs": [],
   "source": []
  },
  {
   "cell_type": "code",
   "execution_count": 86,
   "metadata": {
    "ExecuteTime": {
     "end_time": "2018-03-01T20:32:05.781481Z",
     "start_time": "2018-03-01T20:32:05.777972Z"
    }
   },
   "outputs": [],
   "source": [
    "def ISLM_interact_plot(new_G_bar = new_G_bar, new_T_bar = new_T_bar, new_M_bar = new_M_bar):\n",
    "    ISLM(new_G_bar = new_G_bar, new_T_bar = new_T_bar, new_M_bar = new_M_bar, \n",
    "     newTitle= r'The Impact of Policy Shock on IS-LM Model')"
   ]
  },
  {
   "cell_type": "code",
   "execution_count": null,
   "metadata": {},
   "outputs": [],
   "source": []
  },
  {
   "cell_type": "code",
   "execution_count": 87,
   "metadata": {
    "ExecuteTime": {
     "end_time": "2018-03-01T20:32:08.881481Z",
     "start_time": "2018-03-01T20:32:08.763166Z"
    }
   },
   "outputs": [
    {
     "data": {
      "application/vnd.jupyter.widget-view+json": {
       "model_id": "e79c52f4ee994045901975da45ec3f35",
       "version_major": 2,
       "version_minor": 0
      },
      "text/html": [
       "<p>Failed to display Jupyter Widget of type <code>interactive</code>.</p>\n",
       "<p>\n",
       "  If you're reading this message in the Jupyter Notebook or JupyterLab Notebook, it may mean\n",
       "  that the widgets JavaScript is still loading. If this message persists, it\n",
       "  likely means that the widgets JavaScript library is either not installed or\n",
       "  not enabled. See the <a href=\"https://ipywidgets.readthedocs.io/en/stable/user_install.html\">Jupyter\n",
       "  Widgets Documentation</a> for setup instructions.\n",
       "</p>\n",
       "<p>\n",
       "  If you're reading this message in another frontend (for example, a static\n",
       "  rendering on GitHub or <a href=\"https://nbviewer.jupyter.org/\">NBViewer</a>),\n",
       "  it may mean that your frontend doesn't currently support widgets.\n",
       "</p>\n"
      ],
      "text/plain": [
       "interactive(children=(IntSlider(value=200, description='new_G_bar', max=220, min=180), IntSlider(value=110, description='new_T_bar', max=120, min=100), IntSlider(value=200, description='new_M_bar', max=220, min=180), Output()), _dom_classes=('widget-interact',))"
      ]
     },
     "metadata": {},
     "output_type": "display_data"
    }
   ],
   "source": [
    "interact(ISLM_interact_plot,\n",
    "         new_G_bar=(Gmin,Gmax,1),\n",
    "         new_T_bar=(Tmin,Tmax,1), \n",
    "         new_M_bar=(Mmin,Mmax,1)\n",
    "        );"
   ]
  },
  {
   "cell_type": "markdown",
   "metadata": {},
   "source": [
    "### Fixing arguments using `fixed` "
   ]
  },
  {
   "cell_type": "code",
   "execution_count": null,
   "metadata": {},
   "outputs": [],
   "source": []
  },
  {
   "cell_type": "code",
   "execution_count": 89,
   "metadata": {
    "ExecuteTime": {
     "end_time": "2018-03-01T20:40:55.655556Z",
     "start_time": "2018-03-01T20:40:55.568325Z"
    }
   },
   "outputs": [
    {
     "data": {
      "application/vnd.jupyter.widget-view+json": {
       "model_id": "f96f596309de4e6fb8b1cbc468125785",
       "version_major": 2,
       "version_minor": 0
      },
      "text/html": [
       "<p>Failed to display Jupyter Widget of type <code>interactive</code>.</p>\n",
       "<p>\n",
       "  If you're reading this message in the Jupyter Notebook or JupyterLab Notebook, it may mean\n",
       "  that the widgets JavaScript is still loading. If this message persists, it\n",
       "  likely means that the widgets JavaScript library is either not installed or\n",
       "  not enabled. See the <a href=\"https://ipywidgets.readthedocs.io/en/stable/user_install.html\">Jupyter\n",
       "  Widgets Documentation</a> for setup instructions.\n",
       "</p>\n",
       "<p>\n",
       "  If you're reading this message in another frontend (for example, a static\n",
       "  rendering on GitHub or <a href=\"https://nbviewer.jupyter.org/\">NBViewer</a>),\n",
       "  it may mean that your frontend doesn't currently support widgets.\n",
       "</p>\n"
      ],
      "text/plain": [
       "interactive(children=(IntSlider(value=200, description='new_G_bar', max=220, min=180), IntSlider(value=110, description='new_T_bar', max=120, min=100), IntSlider(value=180, description='new_M_bar', max=220, min=180), Output()), _dom_classes=('widget-interact',))"
      ]
     },
     "metadata": {},
     "output_type": "display_data"
    }
   ],
   "source": [
    "interact(ISLM,\n",
    "         new_G_bar=(Gmin,Gmax,1),\n",
    "         new_T_bar=(Tmin,Tmax,1), \n",
    "         new_M_bar=(Mmin,Mmax,1),\n",
    "         Yguess=fixed(534),\n",
    "         newTitle= fixed(r'The Impact of Policy Shock on IS-LM Model')\n",
    "        );"
   ]
  },
  {
   "cell_type": "markdown",
   "metadata": {},
   "source": [
    "###  <span style=\"color:red\">It is your turn to turn it into a function</span>"
   ]
  },
  {
   "cell_type": "code",
   "execution_count": null,
   "metadata": {
    "collapsed": true
   },
   "outputs": [],
   "source": []
  },
  {
   "cell_type": "code",
   "execution_count": null,
   "metadata": {
    "collapsed": true
   },
   "outputs": [],
   "source": []
  },
  {
   "cell_type": "code",
   "execution_count": null,
   "metadata": {
    "collapsed": true
   },
   "outputs": [],
   "source": []
  },
  {
   "cell_type": "code",
   "execution_count": null,
   "metadata": {
    "collapsed": true
   },
   "outputs": [],
   "source": []
  },
  {
   "cell_type": "code",
   "execution_count": null,
   "metadata": {
    "collapsed": true
   },
   "outputs": [],
   "source": []
  },
  {
   "cell_type": "code",
   "execution_count": null,
   "metadata": {
    "collapsed": true
   },
   "outputs": [],
   "source": []
  },
  {
   "cell_type": "code",
   "execution_count": null,
   "metadata": {
    "collapsed": true
   },
   "outputs": [],
   "source": []
  },
  {
   "cell_type": "code",
   "execution_count": null,
   "metadata": {
    "collapsed": true
   },
   "outputs": [],
   "source": []
  },
  {
   "cell_type": "code",
   "execution_count": null,
   "metadata": {
    "collapsed": true
   },
   "outputs": [],
   "source": []
  },
  {
   "cell_type": "code",
   "execution_count": null,
   "metadata": {
    "collapsed": true
   },
   "outputs": [],
   "source": []
  },
  {
   "cell_type": "markdown",
   "metadata": {},
   "source": [
    "###  <span style=\"color:red\">It is your turn to turn it into a function</span>"
   ]
  },
  {
   "cell_type": "markdown",
   "metadata": {},
   "source": [
    "### Check with Scipy"
   ]
  },
  {
   "cell_type": "code",
   "execution_count": null,
   "metadata": {
    "collapsed": true
   },
   "outputs": [],
   "source": []
  },
  {
   "cell_type": "markdown",
   "metadata": {},
   "source": [
    "###  <span style=\"color:red\">It is your turn to turn it into a function</span>"
   ]
  },
  {
   "cell_type": "markdown",
   "metadata": {},
   "source": [
    "### Check with Scipy"
   ]
  },
  {
   "cell_type": "code",
   "execution_count": null,
   "metadata": {
    "collapsed": true
   },
   "outputs": [],
   "source": []
  },
  {
   "cell_type": "code",
   "execution_count": null,
   "metadata": {
    "collapsed": true
   },
   "outputs": [],
   "source": []
  },
  {
   "cell_type": "code",
   "execution_count": null,
   "metadata": {
    "collapsed": true
   },
   "outputs": [],
   "source": []
  },
  {
   "cell_type": "code",
   "execution_count": null,
   "metadata": {
    "collapsed": true
   },
   "outputs": [],
   "source": []
  },
  {
   "cell_type": "code",
   "execution_count": null,
   "metadata": {
    "collapsed": true
   },
   "outputs": [],
   "source": []
  },
  {
   "cell_type": "code",
   "execution_count": 1,
   "metadata": {
    "ExecuteTime": {
     "end_time": "2018-02-22T22:03:50.063042Z",
     "start_time": "2018-02-22T22:03:50.058028Z"
    }
   },
   "outputs": [
    {
     "data": {
      "text/html": [
       "<style>\n",
       "    @font-face {\n",
       "        font-family: \"Computer Modern\";\n",
       "        src: url('http://mirrors.ctan.org/fonts/cm-unicode/fonts/otf/cmunss.otf');\n",
       "    }\n",
       "    div.cell{\n",
       "        width: 90%;\n",
       "/*        margin-left:auto;*/\n",
       "/*        margin-right:auto;*/\n",
       "    }\n",
       "    ul {\n",
       "        line-height: 145%;\n",
       "        font-size: 90%;\n",
       "    }\n",
       "    li {\n",
       "        margin-bottom: 1em;\n",
       "    }\n",
       "    h1 {\n",
       "        font-family: Helvetica, serif;\n",
       "        color: rgb(0, 80, 120);\n",
       "    }\n",
       "    h2 {\n",
       "        color: rgb(0,100,110);\n",
       "    }\n",
       "    h3 {\n",
       "        color: rgb(94,127,192);\n",
       "    }\n",
       "    div.text_cell_render{\n",
       "        font-family: Computer Modern, \"Helvetica Neue\", Arial, Helvetica, Geneva, sans-serif;\n",
       "        line-height: 145%;\n",
       "        font-size: 130%;\n",
       "        width: 90%;\n",
       "        margin-left:auto;\n",
       "        margin-right:auto;\n",
       "    }\n",
       "    .CodeMirror{\n",
       "            font-family: \"Source Code Pro\", source-code-pro,Consolas, monospace;\n",
       "    }\n",
       "/*    .prompt{\n",
       "        display: None;\n",
       "    }*/\n",
       "    .text_cell_render h5 {\n",
       "        font-weight: 300;\n",
       "        font-size: 16pt;\n",
       "        color: #4057A1;\n",
       "        font-style: italic;\n",
       "        margin-bottom: 0.5em;\n",
       "        margin-top: 0.5em;\n",
       "        display: block;\n",
       "    }\n",
       "\n",
       "    .warning{\n",
       "        color: rgb( 240, 20, 20 )\n",
       "        }\n",
       "</style>"
      ],
      "text/plain": [
       "<IPython.core.display.HTML object>"
      ]
     },
     "execution_count": 1,
     "metadata": {},
     "output_type": "execute_result"
    }
   ],
   "source": [
    "from IPython.core.display import HTML, Image\n",
    "css_file = '../../custom.css'\n",
    "HTML(open(css_file, 'r').read())"
   ]
  },
  {
   "cell_type": "code",
   "execution_count": 94,
   "metadata": {
    "ExecuteTime": {
     "end_time": "2018-03-01T21:46:08.937820Z",
     "start_time": "2018-03-01T21:46:07.612062Z"
    }
   },
   "outputs": [],
   "source": [
    "import pandas as pd\n",
    "df = pd.read_csv(\n",
    "    'https://gist.githubusercontent.com/chriddyp/' +\n",
    "    '5d1ea79569ed194d432e56108a04d188/raw/' +\n",
    "    'a9f9e8076b837d541398e999dcbac2b2826a81f8/'+\n",
    "    'gdp-life-exp-2007.csv')"
   ]
  },
  {
   "cell_type": "code",
   "execution_count": null,
   "metadata": {},
   "outputs": [],
   "source": []
  }
 ],
 "metadata": {
  "kernelspec": {
   "display_name": "Python 3",
   "language": "python",
   "name": "python3"
  },
  "language_info": {
   "codemirror_mode": {
    "name": "ipython",
    "version": 3
   },
   "file_extension": ".py",
   "mimetype": "text/x-python",
   "name": "python",
   "nbconvert_exporter": "python",
   "pygments_lexer": "ipython3",
   "version": "3.6.4"
  }
 },
 "nbformat": 4,
 "nbformat_minor": 2
}
