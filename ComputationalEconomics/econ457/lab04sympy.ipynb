{
 "cells": [
  {
   "cell_type": "markdown",
   "metadata": {},
   "source": [
    "# Sympy: symbolic computing "
   ]
  },
  {
   "cell_type": "code",
   "execution_count": 1,
   "metadata": {
    "ExecuteTime": {
     "end_time": "2018-01-23T04:42:37.166588Z",
     "start_time": "2018-01-23T04:42:37.161591Z"
    },
    "collapsed": true
   },
   "outputs": [],
   "source": [
    "# convention\n",
    "import numpy as np\n",
    "import scipy as sp\n",
    "import scipy.linalg as la \n",
    "# The top-level components of scipy (such as linalg, optimize, etc.) are so-called subpackages and not modules (i.e., they're directories, not source code). \n",
    "# Scipy is set up such that subpackages must be imported separately.sp.linalg won't work\n",
    "import sympy as sym\n",
    "sym.init_printing() # for printing latex/mathjax format output"
   ]
  },
  {
   "cell_type": "code",
   "execution_count": 2,
   "metadata": {
    "ExecuteTime": {
     "end_time": "2018-01-23T04:42:37.358179Z",
     "start_time": "2018-01-23T04:42:37.344156Z"
    }
   },
   "outputs": [
    {
     "name": "stderr",
     "output_type": "stream",
     "text": [
      "/opt/conda/lib/python3.5/site-packages/matplotlib/font_manager.py:273: UserWarning: Matplotlib is building the font cache using fc-list. This may take a moment.\n",
      "  warnings.warn('Matplotlib is building the font cache using fc-list. This may take a moment.')\n",
      "/opt/conda/lib/python3.5/site-packages/matplotlib/font_manager.py:273: UserWarning: Matplotlib is building the font cache using fc-list. This may take a moment.\n",
      "  warnings.warn('Matplotlib is building the font cache using fc-list. This may take a moment.')\n"
     ]
    }
   ],
   "source": [
    "# plotting\n",
    "import matplotlib as mpl\n",
    "# matplotlib for ploting\n",
    "from matplotlib import pyplot as plt\n",
    "plt.style.use('fivethirtyeight')\n",
    "from mpl_toolkits.mplot3d import Axes3D     # 3d\n",
    "# for inline interactive plotting\n",
    "%matplotlib notebook\n",
    "%config InlineBackend.figure_format = 'retina'"
   ]
  },
  {
   "cell_type": "markdown",
   "metadata": {},
   "source": [
    "## The scientific python software stack\n",
    "\n",
    "![](http://nbviewer.jupyter.org/github/jrjohansson/scientific-python-lectures/blob/master/images/scientific-python-stack.png)\n",
    "\n",
    "\n",
    "\n",
    "http://nbviewer.jupyter.org/github/jrjohansson/scientific-python-lectures/blob/master/Lecture-5-Sympy.ipynb"
   ]
  },
  {
   "cell_type": "markdown",
   "metadata": {},
   "source": [
    "## Numerical Computation\n",
    "Exact arithmetic and computer arithmetic do not always give the same answers (even in programs without programming errors)."
   ]
  },
  {
   "cell_type": "code",
   "execution_count": null,
   "metadata": {
    "collapsed": true
   },
   "outputs": [],
   "source": []
  },
  {
   "cell_type": "code",
   "execution_count": 172,
   "metadata": {
    "ExecuteTime": {
     "end_time": "2018-01-23T04:17:57.936237Z",
     "start_time": "2018-01-23T04:17:57.920696Z"
    }
   },
   "outputs": [
    {
     "data": {
      "text/plain": [
       "False"
      ]
     },
     "execution_count": 172,
     "metadata": {},
     "output_type": "execute_result"
    }
   ],
   "source": [
    "1/3+1/2 == 5/6"
   ]
  },
  {
   "cell_type": "code",
   "execution_count": 173,
   "metadata": {
    "ExecuteTime": {
     "end_time": "2018-01-23T04:17:58.482065Z",
     "start_time": "2018-01-23T04:17:57.937741Z"
    }
   },
   "outputs": [
    {
     "data": {
      "image/png": "[encoded data removed]",
      "text/latex": [
       "$$0.8333333333333333$$"
      ],
      "text/plain": [
       "0.8333333333333333"
      ]
     },
     "execution_count": 173,
     "metadata": {},
     "output_type": "execute_result"
    }
   ],
   "source": [
    "1/3+1/2"
   ]
  },
  {
   "cell_type": "code",
   "execution_count": 174,
   "metadata": {
    "ExecuteTime": {
     "end_time": "2018-01-23T04:17:58.881144Z",
     "start_time": "2018-01-23T04:17:58.484055Z"
    }
   },
   "outputs": [
    {
     "data": {
      "image/png": "[encoded data removed]",
      "text/latex": [
       "$$0.8333333333333334$$"
      ],
      "text/plain": [
       "0.8333333333333334"
      ]
     },
     "execution_count": 174,
     "metadata": {},
     "output_type": "execute_result"
    }
   ],
   "source": [
    "5/6"
   ]
  },
  {
   "cell_type": "markdown",
   "metadata": {},
   "source": [
    "## Symbolic Computation\n",
    "Sympy provides symbolic computation like Maple."
   ]
  },
  {
   "cell_type": "code",
   "execution_count": 175,
   "metadata": {
    "ExecuteTime": {
     "end_time": "2018-01-23T04:17:59.279044Z",
     "start_time": "2018-01-23T04:17:58.882146Z"
    }
   },
   "outputs": [
    {
     "data": {
      "image/png": "[encoded data removed]",
      "text/latex": [
       "$$\\frac{5}{6}$$"
      ],
      "text/plain": [
       "5/6"
      ]
     },
     "execution_count": 175,
     "metadata": {},
     "output_type": "execute_result"
    }
   ],
   "source": [
    "sym.Rational(1,3) + sym.Rational(1,2)"
   ]
  },
  {
   "cell_type": "code",
   "execution_count": 176,
   "metadata": {
    "ExecuteTime": {
     "end_time": "2018-01-23T04:17:59.283556Z",
     "start_time": "2018-01-23T04:17:59.280048Z"
    }
   },
   "outputs": [
    {
     "data": {
      "text/plain": [
       "True"
      ]
     },
     "execution_count": 176,
     "metadata": {},
     "output_type": "execute_result"
    }
   ],
   "source": [
    "sym.Rational(1,3) + sym.Rational(1,2) == sym.Rational(5,6) "
   ]
  },
  {
   "cell_type": "markdown",
   "metadata": {},
   "source": [
    " ## the IS-LM Model\n",
    " \n",
    " $$A x = b$$"
   ]
  },
  {
   "cell_type": "code",
   "execution_count": 3,
   "metadata": {
    "ExecuteTime": {
     "end_time": "2018-01-23T04:17:59.309123Z",
     "start_time": "2018-01-23T04:17:59.285060Z"
    }
   },
   "outputs": [
    {
     "data": {
      "text/plain": [
       "matrix([[  1.00000000e+00,   5.00000000e-04],\n",
       "        [  1.00000000e+00,  -2.50000000e-04]])"
      ]
     },
     "execution_count": 3,
     "metadata": {},
     "output_type": "execute_result"
    }
   ],
   "source": [
    "A = np.matrix([[1, 0.0005], [1, -0.00025]])\n",
    "A"
   ]
  },
  {
   "cell_type": "markdown",
   "metadata": {},
   "source": [
    "```python\n",
    "np.matrix()\n",
    "```\n",
    "returns a matrix from an array-like object, or from a string of data. A [matrix](https://docs.scipy.org/doc/numpy-1.13.0/reference/generated/numpy.matrix.html) is a specialized 2-D array that retains its 2-D nature through operations. It has certain special operators, such as * (matrix multiplication) and ** (matrix power).\n",
    "\n",
    "Numpy [array](https://docs.scipy.org/doc/numpy-1.13.0/user/basics.creation.html) is more versatile and can be high dimension.\n"
   ]
  },
  {
   "cell_type": "markdown",
   "metadata": {},
   "source": [
    "Like a Numpy array, matrix has some fields/attributes: `shape, ndim, size`."
   ]
  },
  {
   "cell_type": "code",
   "execution_count": 4,
   "metadata": {},
   "outputs": [
    {
     "data": {
      "text/plain": [
       "matrix([[ 0.55],\n",
       "        [-0.2 ]])"
      ]
     },
     "execution_count": 4,
     "metadata": {},
     "output_type": "execute_result"
    }
   ],
   "source": [
    "b = np.matrix([[0.55], [-0.2]])\n",
    "b"
   ]
  },
  {
   "cell_type": "markdown",
   "metadata": {},
   "source": [
    "## Linear algebra in Sympy"
   ]
  },
  {
   "cell_type": "code",
   "execution_count": 5,
   "metadata": {
    "ExecuteTime": {
     "end_time": "2018-01-23T04:18:03.718298Z",
     "start_time": "2018-01-23T04:18:03.164301Z"
    }
   },
   "outputs": [
    {
     "data": {
      "text/latex": [
       "$$\\left[\\begin{matrix}1.0 & 0.0005\\\\1.0 & -0.00025\\end{matrix}\\right]$$"
      ],
      "text/plain": [
       "⎡1.0   0.0005 ⎤\n",
       "⎢             ⎥\n",
       "⎣1.0  -0.00025⎦"
      ]
     },
     "execution_count": 5,
     "metadata": {},
     "output_type": "execute_result"
    }
   ],
   "source": [
    "# rename A and b\n",
    "M = sym.Matrix(A)\n",
    "v = sym.Matrix(b)\n",
    "M"
   ]
  },
  {
   "cell_type": "code",
   "execution_count": 6,
   "metadata": {
    "ExecuteTime": {
     "end_time": "2018-01-23T04:18:04.220527Z",
     "start_time": "2018-01-23T04:18:03.719801Z"
    }
   },
   "outputs": [
    {
     "data": {
      "text/latex": [
       "$$\\left[\\begin{matrix}0.55\\\\-0.2\\end{matrix}\\right]$$"
      ],
      "text/plain": [
       "⎡0.55⎤\n",
       "⎢    ⎥\n",
       "⎣-0.2⎦"
      ]
     },
     "execution_count": 6,
     "metadata": {},
     "output_type": "execute_result"
    }
   ],
   "source": [
    "v"
   ]
  },
  {
   "cell_type": "markdown",
   "metadata": {},
   "source": [
    "## Method 1"
   ]
  },
  {
   "cell_type": "code",
   "execution_count": 7,
   "metadata": {
    "ExecuteTime": {
     "end_time": "2018-01-23T04:18:04.835925Z",
     "start_time": "2018-01-23T04:18:04.221530Z"
    }
   },
   "outputs": [
    {
     "data": {
      "text/latex": [
       "$$\\left[\\begin{matrix}0.333333333333333 & 0.666666666666667\\\\1333.33333333333 & -1333.33333333333\\end{matrix}\\right]$$"
      ],
      "text/plain": [
       "⎡0.333333333333333  0.666666666666667⎤\n",
       "⎢                                    ⎥\n",
       "⎣1333.33333333333   -1333.33333333333⎦"
      ]
     },
     "execution_count": 7,
     "metadata": {},
     "output_type": "execute_result"
    }
   ],
   "source": [
    "M.inv(\"LU\") # using LU Method to solve inverse, more efficient"
   ]
  },
  {
   "cell_type": "code",
   "execution_count": 8,
   "metadata": {
    "ExecuteTime": {
     "end_time": "2018-01-23T04:18:05.226464Z",
     "start_time": "2018-01-23T04:18:04.837430Z"
    }
   },
   "outputs": [
    {
     "data": {
      "text/latex": [
       "$$\\left[\\begin{matrix}0.333333333333333 & 0.666666666666667\\\\1333.33333333333 & -1333.33333333333\\end{matrix}\\right]$$"
      ],
      "text/plain": [
       "⎡0.333333333333333  0.666666666666667⎤\n",
       "⎢                                    ⎥\n",
       "⎣1333.33333333333   -1333.33333333333⎦"
      ]
     },
     "execution_count": 8,
     "metadata": {},
     "output_type": "execute_result"
    }
   ],
   "source": [
    "M.inv() # the same. \n",
    "# In SymPy the inverse is computed by Gaussian elimination by default"
   ]
  },
  {
   "cell_type": "code",
   "execution_count": 10,
   "metadata": {
    "ExecuteTime": {
     "end_time": "2018-01-23T04:18:05.725243Z",
     "start_time": "2018-01-23T04:18:05.227467Z"
    }
   },
   "outputs": [
    {
     "data": {
      "text/latex": [
       "$$\\left[\\begin{matrix}0.05\\\\1000.0\\end{matrix}\\right]$$"
      ],
      "text/plain": [
       "⎡ 0.05 ⎤\n",
       "⎢      ⎥\n",
       "⎣1000.0⎦"
      ]
     },
     "execution_count": 10,
     "metadata": {},
     "output_type": "execute_result"
    }
   ],
   "source": [
    "M.inv(\"LU\")*v "
   ]
  },
  {
   "cell_type": "markdown",
   "metadata": {},
   "source": [
    "## Method 2"
   ]
  },
  {
   "cell_type": "code",
   "execution_count": 184,
   "metadata": {
    "ExecuteTime": {
     "end_time": "2018-01-23T04:18:06.221977Z",
     "start_time": "2018-01-23T04:18:05.726230Z"
    }
   },
   "outputs": [
    {
     "data": {
      "image/png": "[encoded data removed]",
      "text/latex": [
       "$$\\left ( \\left[\\begin{matrix}1 & 0\\\\0 & 1\\end{matrix}\\right], \\quad \\left ( 0, \\quad 1\\right )\\right )$$"
      ],
      "text/plain": [
       "⎛⎡1  0⎤        ⎞\n",
       "⎜⎢    ⎥, (0, 1)⎟\n",
       "⎝⎣0  1⎦        ⎠"
      ]
     },
     "execution_count": 184,
     "metadata": {},
     "output_type": "execute_result"
    }
   ],
   "source": [
    "M.rref()"
   ]
  },
  {
   "cell_type": "markdown",
   "metadata": {},
   "source": [
    "#### RREF\n",
    "To put a matrix into reduced row echelon form, use `rref`. `rref` returns a tuple of two elements. The first is the reduced row echelon form, and the second is a tuple of indices of the pivot columns.\n",
    "\n",
    "pivot columns is corresponding to the perm matrix."
   ]
  },
  {
   "cell_type": "code",
   "execution_count": 11,
   "metadata": {
    "ExecuteTime": {
     "end_time": "2018-01-23T04:18:06.615536Z",
     "start_time": "2018-01-23T04:18:06.223465Z"
    }
   },
   "outputs": [
    {
     "data": {
      "text/latex": [
       "$$\\left ( \\left[\\begin{matrix}1 & 0\\\\1.0 & 1\\end{matrix}\\right], \\quad \\left[\\begin{matrix}1.0 & 0.0005\\\\0 & -0.00075\\end{matrix}\\right], \\quad \\left [ \\right ]\\right )$$"
      ],
      "text/plain": [
       "⎛⎡ 1   0⎤, ⎡1.0   0.0005 ⎤, []⎞\n",
       "⎜⎢      ⎥  ⎢             ⎥    ⎟\n",
       "⎝⎣1.0  1⎦  ⎣ 0   -0.00075⎦    ⎠"
      ]
     },
     "execution_count": 11,
     "metadata": {},
     "output_type": "execute_result"
    }
   ],
   "source": [
    "M.LUdecomposition()"
   ]
  },
  {
   "cell_type": "markdown",
   "metadata": {},
   "source": [
    "\n",
    "Returns (L, U, perm) where L is a lower triangular matrix with unit diagonal, U is an upper triangular matrix, and perm is a list of row swap index pairs. If A is the original matrix, then A = (L*U).permuteBkwd(perm), and the row permutation matrix P such that P*A = L*U can be computed by P=eye(A.row).permuteFwd(perm).\n",
    "\n",
    "$$P*A = L*U$$\n",
    "\n",
    "See documentation for LUCombined for details about the keyword argument rankcheck, iszerofunc, and simpfunc.\n",
    "\n",
    "http://docs.sympy.org/latest/modules/matrices/matrices.html"
   ]
  },
  {
   "cell_type": "code",
   "execution_count": 186,
   "metadata": {
    "ExecuteTime": {
     "end_time": "2018-01-23T04:18:07.023132Z",
     "start_time": "2018-01-23T04:18:06.617042Z"
    }
   },
   "outputs": [
    {
     "data": {
      "image/png": "[encoded data removed]",
      "text/latex": [
       "$$\\left[\\begin{matrix}1 & 0\\\\1.0 & 1\\end{matrix}\\right]$$"
      ],
      "text/plain": [
       "⎡ 1   0⎤\n",
       "⎢      ⎥\n",
       "⎣1.0  1⎦"
      ]
     },
     "execution_count": 186,
     "metadata": {},
     "output_type": "execute_result"
    }
   ],
   "source": [
    "L,U,perm = M.LUdecomposition()\n",
    "L"
   ]
  },
  {
   "cell_type": "code",
   "execution_count": 187,
   "metadata": {
    "ExecuteTime": {
     "end_time": "2018-01-23T04:18:07.513851Z",
     "start_time": "2018-01-23T04:18:07.024135Z"
    }
   },
   "outputs": [
    {
     "data": {
      "image/png": "[encoded data removed]",
      "text/latex": [
       "$$\\left[\\begin{matrix}1.0 & 0.0005\\\\0 & -0.00075\\end{matrix}\\right]$$"
      ],
      "text/plain": [
       "⎡1.0   0.0005 ⎤\n",
       "⎢             ⎥\n",
       "⎣ 0   -0.00075⎦"
      ]
     },
     "execution_count": 187,
     "metadata": {},
     "output_type": "execute_result"
    }
   ],
   "source": [
    "U"
   ]
  },
  {
   "cell_type": "code",
   "execution_count": 188,
   "metadata": {
    "ExecuteTime": {
     "end_time": "2018-01-23T04:18:08.012166Z",
     "start_time": "2018-01-23T04:18:07.514854Z"
    }
   },
   "outputs": [
    {
     "data": {
      "image/png": "[encoded data removed]",
      "text/latex": [
       "$$\\left[\\begin{matrix}0.55\\\\-0.2\\end{matrix}\\right]$$"
      ],
      "text/plain": [
       "⎡0.55⎤\n",
       "⎢    ⎥\n",
       "⎣-0.2⎦"
      ]
     },
     "execution_count": 188,
     "metadata": {},
     "output_type": "execute_result"
    }
   ],
   "source": [
    "# If LHS A is multiplied by perm, RHS v should be done once.\n",
    "v = v.permuteBkwd(perm)\n",
    "v"
   ]
  },
  {
   "cell_type": "markdown",
   "metadata": {},
   "source": [
    "the elements of x can be computed recursively using forward-substitution"
   ]
  },
  {
   "cell_type": "code",
   "execution_count": 189,
   "metadata": {
    "ExecuteTime": {
     "end_time": "2018-01-23T04:18:08.611202Z",
     "start_time": "2018-01-23T04:18:08.013156Z"
    }
   },
   "outputs": [
    {
     "data": {
      "image/png": "[encoded data removed]",
      "text/latex": [
       "$$\\left[\\begin{matrix}0.55\\\\-0.75\\end{matrix}\\right]$$"
      ],
      "text/plain": [
       "⎡0.55 ⎤\n",
       "⎢     ⎥\n",
       "⎣-0.75⎦"
      ]
     },
     "execution_count": 189,
     "metadata": {},
     "output_type": "execute_result"
    }
   ],
   "source": [
    "L.LUsolve(v)"
   ]
  },
  {
   "cell_type": "markdown",
   "metadata": {},
   "source": [
    "Continue with a backward substitution. U is an upper triangular matrix, then the elements of x can be computed recursively using backward-substitution."
   ]
  },
  {
   "cell_type": "code",
   "execution_count": 190,
   "metadata": {
    "ExecuteTime": {
     "end_time": "2018-01-23T04:18:09.103006Z",
     "start_time": "2018-01-23T04:18:08.612690Z"
    }
   },
   "outputs": [
    {
     "data": {
      "image/png": "[encoded data removed]",
      "text/latex": [
       "$$\\left[\\begin{matrix}0.05\\\\1000.0\\end{matrix}\\right]$$"
      ],
      "text/plain": [
       "⎡ 0.05 ⎤\n",
       "⎢      ⎥\n",
       "⎣1000.0⎦"
      ]
     },
     "execution_count": 190,
     "metadata": {},
     "output_type": "execute_result"
    }
   ],
   "source": [
    "U.LUsolve(L.LUsolve(v))"
   ]
  },
  {
   "cell_type": "code",
   "execution_count": 191,
   "metadata": {},
   "outputs": [
    {
     "data": {
      "image/png": "[encoded data removed]",
      "text/latex": [
       "$$\\left [ \\left [ m_{11}, \\quad m_{21}, \\quad m_{31}\\right ], \\quad \\left [ m_{12}, \\quad m_{22}, \\quad m_{32}\\right ], \\quad \\left [ m_{13}, \\quad m_{23}, \\quad m_{33}\\right ]\\right ]$$"
      ],
      "text/plain": [
       "[[m₁₁, m₂₁, m₃₁], [m₁₂, m₂₂, m₃₂], [m₁₃, m₂₃, m₃₃]]"
      ]
     },
     "execution_count": 191,
     "metadata": {},
     "output_type": "execute_result"
    }
   ],
   "source": [
    "A = [[sym.Symbol('m{0}{1}'.format(i,j)) \n",
    "      for i in range(1,4)] \n",
    "     for j in range(1,4) ]\n",
    "A"
   ]
  },
  {
   "cell_type": "code",
   "execution_count": 192,
   "metadata": {},
   "outputs": [
    {
     "data": {
      "image/png": "[encoded data removed]",
      "text/latex": [
       "$$\\left[\\begin{matrix}m_{11} & m_{21} & m_{31}\\\\m_{12} & m_{22} & m_{32}\\\\m_{13} & m_{23} & m_{33}\\end{matrix}\\right]$$"
      ],
      "text/plain": [
       "⎡m₁₁  m₂₁  m₃₁⎤\n",
       "⎢             ⎥\n",
       "⎢m₁₂  m₂₂  m₃₂⎥\n",
       "⎢             ⎥\n",
       "⎣m₁₃  m₂₃  m₃₃⎦"
      ]
     },
     "execution_count": 192,
     "metadata": {},
     "output_type": "execute_result"
    }
   ],
   "source": [
    "A=sym.Matrix(A)\n",
    "A"
   ]
  },
  {
   "cell_type": "code",
   "execution_count": 193,
   "metadata": {},
   "outputs": [
    {
     "data": {
      "image/png": "[encoded data removed]",
      "text/latex": [
       "$$\\left[\\begin{matrix}b_{1}\\\\b_{2}\\\\b_{3}\\end{matrix}\\right]$$"
      ],
      "text/plain": [
       "⎡b₁⎤\n",
       "⎢  ⎥\n",
       "⎢b₂⎥\n",
       "⎢  ⎥\n",
       "⎣b₃⎦"
      ]
     },
     "execution_count": 193,
     "metadata": {},
     "output_type": "execute_result"
    }
   ],
   "source": [
    "b = sym.Matrix([sym.Symbol('b{0}'.format(i)) \n",
    "      for i in range(1,4)])\n",
    "b"
   ]
  },
  {
   "cell_type": "code",
   "execution_count": 194,
   "metadata": {},
   "outputs": [
    {
     "data": {
      "image/png": "[encoded data removed]",
      "text/latex": [
       "$$\\left[\\begin{matrix}m_{11}^{2} + m_{12} m_{21} + m_{13} m_{31} & m_{11} m_{21} + m_{21} m_{22} + m_{23} m_{31} & m_{11} m_{31} + m_{21} m_{32} + m_{31} m_{33}\\\\m_{11} m_{12} + m_{12} m_{22} + m_{13} m_{32} & m_{12} m_{21} + m_{22}^{2} + m_{23} m_{32} & m_{12} m_{31} + m_{22} m_{32} + m_{32} m_{33}\\\\m_{11} m_{13} + m_{12} m_{23} + m_{13} m_{33} & m_{13} m_{21} + m_{22} m_{23} + m_{23} m_{33} & m_{13} m_{31} + m_{23} m_{32} + m_{33}^{2}\\end{matrix}\\right]$$"
      ],
      "text/plain": [
       "⎡    2                                                                        \n",
       "⎢ m₁₁  + m₁₂⋅m₂₁ + m₁₃⋅m₃₁    m₁₁⋅m₂₁ + m₂₁⋅m₂₂ + m₂₃⋅m₃₁  m₁₁⋅m₃₁ + m₂₁⋅m₃₂ +\n",
       "⎢                                                                             \n",
       "⎢                                           2                                 \n",
       "⎢m₁₁⋅m₁₂ + m₁₂⋅m₂₂ + m₁₃⋅m₃₂   m₁₂⋅m₂₁ + m₂₂  + m₂₃⋅m₃₂    m₁₂⋅m₃₁ + m₂₂⋅m₃₂ +\n",
       "⎢                                                                             \n",
       "⎢                                                                             \n",
       "⎣m₁₁⋅m₁₃ + m₁₂⋅m₂₃ + m₁₃⋅m₃₃  m₁₃⋅m₂₁ + m₂₂⋅m₂₃ + m₂₃⋅m₃₃   m₁₃⋅m₃₁ + m₂₃⋅m₃₂ \n",
       "\n",
       "        ⎤\n",
       " m₃₁⋅m₃₃⎥\n",
       "        ⎥\n",
       "        ⎥\n",
       " m₃₂⋅m₃₃⎥\n",
       "        ⎥\n",
       "     2  ⎥\n",
       "+ m₃₃   ⎦"
      ]
     },
     "execution_count": 194,
     "metadata": {},
     "output_type": "execute_result"
    }
   ],
   "source": [
    "A**2"
   ]
  },
  {
   "cell_type": "code",
   "execution_count": 195,
   "metadata": {},
   "outputs": [
    {
     "data": {
      "image/png": "[encoded data removed]",
      "text/latex": [
       "$$\\left[\\begin{matrix}b_{1} m_{11} + b_{2} m_{21} + b_{3} m_{31}\\\\b_{1} m_{12} + b_{2} m_{22} + b_{3} m_{32}\\\\b_{1} m_{13} + b_{2} m_{23} + b_{3} m_{33}\\end{matrix}\\right]$$"
      ],
      "text/plain": [
       "⎡b₁⋅m₁₁ + b₂⋅m₂₁ + b₃⋅m₃₁⎤\n",
       "⎢                        ⎥\n",
       "⎢b₁⋅m₁₂ + b₂⋅m₂₂ + b₃⋅m₃₂⎥\n",
       "⎢                        ⎥\n",
       "⎣b₁⋅m₁₃ + b₂⋅m₂₃ + b₃⋅m₃₃⎦"
      ]
     },
     "execution_count": 195,
     "metadata": {},
     "output_type": "execute_result"
    }
   ],
   "source": [
    "A * b # column space of A"
   ]
  },
  {
   "cell_type": "code",
   "execution_count": 196,
   "metadata": {},
   "outputs": [
    {
     "data": {
      "image/png": "[encoded data removed]",
      "text/latex": [
       "$$m_{11} m_{22} m_{33} - m_{11} m_{23} m_{32} - m_{12} m_{21} m_{33} + m_{12} m_{23} m_{31} + m_{13} m_{21} m_{32} - m_{13} m_{22} m_{31}$$"
      ],
      "text/plain": [
       "m₁₁⋅m₂₂⋅m₃₃ - m₁₁⋅m₂₃⋅m₃₂ - m₁₂⋅m₂₁⋅m₃₃ + m₁₂⋅m₂₃⋅m₃₁ + m₁₃⋅m₂₁⋅m₃₂ - m₁₃⋅m₂₂⋅\n",
       "m₃₁"
      ]
     },
     "execution_count": 196,
     "metadata": {},
     "output_type": "execute_result"
    }
   ],
   "source": [
    "A.det()"
   ]
  },
  {
   "cell_type": "code",
   "execution_count": 197,
   "metadata": {},
   "outputs": [
    {
     "data": {
      "image/png": "[encoded data removed]",
      "text/latex": [
       "$$\\left[\\begin{matrix}\\frac{m_{11} m_{22} \\left(\\left(m_{11} m_{22} - m_{12} m_{21}\\right) \\left(m_{11} m_{33} - m_{13} m_{31}\\right) - \\left(m_{11} m_{23} - m_{13} m_{21}\\right) \\left(m_{11} m_{32} - m_{12} m_{31}\\right)\\right) - \\left(m_{12} \\left(m_{11} m_{23} - m_{13} m_{21}\\right) - m_{13} \\left(m_{11} m_{22} - m_{12} m_{21}\\right)\\right) \\left(- m_{21} \\left(m_{11} m_{32} - m_{12} m_{31}\\right) + m_{31} \\left(m_{11} m_{22} - m_{12} m_{21}\\right)\\right)}{m_{11} \\left(m_{11} m_{22} - m_{12} m_{21}\\right) \\left(\\left(m_{11} m_{22} - m_{12} m_{21}\\right) \\left(m_{11} m_{33} - m_{13} m_{31}\\right) - \\left(m_{11} m_{23} - m_{13} m_{21}\\right) \\left(m_{11} m_{32} - m_{12} m_{31}\\right)\\right)} & \\frac{- m_{11} m_{21} \\left(\\left(m_{11} m_{22} - m_{12} m_{21}\\right) \\left(m_{11} m_{33} - m_{13} m_{31}\\right) - \\left(m_{11} m_{23} - m_{13} m_{21}\\right) \\left(m_{11} m_{32} - m_{12} m_{31}\\right)\\right) + m_{11} \\left(m_{11} m_{23} - m_{13} m_{21}\\right) \\left(- m_{21} \\left(m_{11} m_{32} - m_{12} m_{31}\\right) + m_{31} \\left(m_{11} m_{22} - m_{12} m_{21}\\right)\\right)}{m_{11} \\left(m_{11} m_{22} - m_{12} m_{21}\\right) \\left(\\left(m_{11} m_{22} - m_{12} m_{21}\\right) \\left(m_{11} m_{33} - m_{13} m_{31}\\right) - \\left(m_{11} m_{23} - m_{13} m_{21}\\right) \\left(m_{11} m_{32} - m_{12} m_{31}\\right)\\right)} & - \\frac{- m_{21} \\left(m_{11} m_{32} - m_{12} m_{31}\\right) + m_{31} \\left(m_{11} m_{22} - m_{12} m_{21}\\right)}{\\left(m_{11} m_{22} - m_{12} m_{21}\\right) \\left(m_{11} m_{33} - m_{13} m_{31}\\right) - \\left(m_{11} m_{23} - m_{13} m_{21}\\right) \\left(m_{11} m_{32} - m_{12} m_{31}\\right)}\\\\\\frac{- m_{12} \\left(\\left(m_{11} m_{22} - m_{12} m_{21}\\right) \\left(m_{11} m_{33} - m_{13} m_{31}\\right) - \\left(m_{11} m_{23} - m_{13} m_{21}\\right) \\left(m_{11} m_{32} - m_{12} m_{31}\\right)\\right) - \\left(m_{11} m_{32} - m_{12} m_{31}\\right) \\left(m_{12} \\left(m_{11} m_{23} - m_{13} m_{21}\\right) - m_{13} \\left(m_{11} m_{22} - m_{12} m_{21}\\right)\\right)}{\\left(m_{11} m_{22} - m_{12} m_{21}\\right) \\left(\\left(m_{11} m_{22} - m_{12} m_{21}\\right) \\left(m_{11} m_{33} - m_{13} m_{31}\\right) - \\left(m_{11} m_{23} - m_{13} m_{21}\\right) \\left(m_{11} m_{32} - m_{12} m_{31}\\right)\\right)} & \\frac{m_{11} \\left(m_{11} m_{23} - m_{13} m_{21}\\right) \\left(m_{11} m_{32} - m_{12} m_{31}\\right) + m_{11} \\left(\\left(m_{11} m_{22} - m_{12} m_{21}\\right) \\left(m_{11} m_{33} - m_{13} m_{31}\\right) - \\left(m_{11} m_{23} - m_{13} m_{21}\\right) \\left(m_{11} m_{32} - m_{12} m_{31}\\right)\\right)}{\\left(m_{11} m_{22} - m_{12} m_{21}\\right) \\left(\\left(m_{11} m_{22} - m_{12} m_{21}\\right) \\left(m_{11} m_{33} - m_{13} m_{31}\\right) - \\left(m_{11} m_{23} - m_{13} m_{21}\\right) \\left(m_{11} m_{32} - m_{12} m_{31}\\right)\\right)} & - \\frac{m_{11} \\left(m_{11} m_{32} - m_{12} m_{31}\\right)}{\\left(m_{11} m_{22} - m_{12} m_{21}\\right) \\left(m_{11} m_{33} - m_{13} m_{31}\\right) - \\left(m_{11} m_{23} - m_{13} m_{21}\\right) \\left(m_{11} m_{32} - m_{12} m_{31}\\right)}\\\\\\frac{m_{12} \\left(m_{11} m_{23} - m_{13} m_{21}\\right) - m_{13} \\left(m_{11} m_{22} - m_{12} m_{21}\\right)}{\\left(m_{11} m_{22} - m_{12} m_{21}\\right) \\left(m_{11} m_{33} - m_{13} m_{31}\\right) - \\left(m_{11} m_{23} - m_{13} m_{21}\\right) \\left(m_{11} m_{32} - m_{12} m_{31}\\right)} & - \\frac{m_{11} \\left(m_{11} m_{23} - m_{13} m_{21}\\right)}{\\left(m_{11} m_{22} - m_{12} m_{21}\\right) \\left(m_{11} m_{33} - m_{13} m_{31}\\right) - \\left(m_{11} m_{23} - m_{13} m_{21}\\right) \\left(m_{11} m_{32} - m_{12} m_{31}\\right)} & \\frac{m_{11} \\left(m_{11} m_{22} - m_{12} m_{21}\\right)}{\\left(m_{11} m_{22} - m_{12} m_{21}\\right) \\left(m_{11} m_{33} - m_{13} m_{31}\\right) - \\left(m_{11} m_{23} - m_{13} m_{21}\\right) \\left(m_{11} m_{32} - m_{12} m_{31}\\right)}\\end{matrix}\\right]$$"
      ],
      "text/plain": [
       "⎡m₁₁⋅m₂₂⋅((m₁₁⋅m₂₂ - m₁₂⋅m₂₁)⋅(m₁₁⋅m₃₃ - m₁₃⋅m₃₁) - (m₁₁⋅m₂₃ - m₁₃⋅m₂₁)⋅(m₁₁⋅m\n",
       "⎢─────────────────────────────────────────────────────────────────────────────\n",
       "⎢                                             m₁₁⋅(m₁₁⋅m₂₂ - m₁₂⋅m₂₁)⋅((m₁₁⋅m₂\n",
       "⎢                                                                             \n",
       "⎢                  -m₁₂⋅((m₁₁⋅m₂₂ - m₁₂⋅m₂₁)⋅(m₁₁⋅m₃₃ - m₁₃⋅m₃₁) - (m₁₁⋅m₂₃ - \n",
       "⎢                  ───────────────────────────────────────────────────────────\n",
       "⎢                                               (m₁₁⋅m₂₂ - m₁₂⋅m₂₁)⋅((m₁₁⋅m₂₂ \n",
       "⎢                                                                             \n",
       "⎢                                                                          m₁₂\n",
       "⎢                                                          ───────────────────\n",
       "⎣                                                          (m₁₁⋅m₂₂ - m₁₂⋅m₂₁)\n",
       "\n",
       "₃₂ - m₁₂⋅m₃₁)) - (m₁₂⋅(m₁₁⋅m₂₃ - m₁₃⋅m₂₁) - m₁₃⋅(m₁₁⋅m₂₂ - m₁₂⋅m₂₁))⋅(-m₂₁⋅(m₁\n",
       "──────────────────────────────────────────────────────────────────────────────\n",
       "₂ - m₁₂⋅m₂₁)⋅(m₁₁⋅m₃₃ - m₁₃⋅m₃₁) - (m₁₁⋅m₂₃ - m₁₃⋅m₂₁)⋅(m₁₁⋅m₃₂ - m₁₂⋅m₃₁))   \n",
       "                                                                              \n",
       "m₁₃⋅m₂₁)⋅(m₁₁⋅m₃₂ - m₁₂⋅m₃₁)) - (m₁₁⋅m₃₂ - m₁₂⋅m₃₁)⋅(m₁₂⋅(m₁₁⋅m₂₃ - m₁₃⋅m₂₁) -\n",
       "──────────────────────────────────────────────────────────────────────────────\n",
       "- m₁₂⋅m₂₁)⋅(m₁₁⋅m₃₃ - m₁₃⋅m₃₁) - (m₁₁⋅m₂₃ - m₁₃⋅m₂₁)⋅(m₁₁⋅m₃₂ - m₁₂⋅m₃₁))     \n",
       "                                                                              \n",
       "⋅(m₁₁⋅m₂₃ - m₁₃⋅m₂₁) - m₁₃⋅(m₁₁⋅m₂₂ - m₁₂⋅m₂₁)                                \n",
       "──────────────────────────────────────────────────────────────                \n",
       "⋅(m₁₁⋅m₃₃ - m₁₃⋅m₃₁) - (m₁₁⋅m₂₃ - m₁₃⋅m₂₁)⋅(m₁₁⋅m₃₂ - m₁₂⋅m₃₁)                \n",
       "\n",
       "₁⋅m₃₂ - m₁₂⋅m₃₁) + m₃₁⋅(m₁₁⋅m₂₂ - m₁₂⋅m₂₁))  -m₁₁⋅m₂₁⋅((m₁₁⋅m₂₂ - m₁₂⋅m₂₁)⋅(m₁\n",
       "───────────────────────────────────────────  ─────────────────────────────────\n",
       "                                                                             m\n",
       "                                                                              \n",
       " m₁₃⋅(m₁₁⋅m₂₂ - m₁₂⋅m₂₁))                                       m₁₁⋅(m₁₁⋅m₂₃ -\n",
       "─────────────────────────                                       ──────────────\n",
       "                                                                              \n",
       "                                                                              \n",
       "                                                                              \n",
       "                                                                              \n",
       "                                                                              \n",
       "\n",
       "₁⋅m₃₃ - m₁₃⋅m₃₁) - (m₁₁⋅m₂₃ - m₁₃⋅m₂₁)⋅(m₁₁⋅m₃₂ - m₁₂⋅m₃₁)) + m₁₁⋅(m₁₁⋅m₂₃ - m\n",
       "──────────────────────────────────────────────────────────────────────────────\n",
       "₁₁⋅(m₁₁⋅m₂₂ - m₁₂⋅m₂₁)⋅((m₁₁⋅m₂₂ - m₁₂⋅m₂₁)⋅(m₁₁⋅m₃₃ - m₁₃⋅m₃₁) - (m₁₁⋅m₂₃ - m\n",
       "                                                                              \n",
       " m₁₃⋅m₂₁)⋅(m₁₁⋅m₃₂ - m₁₂⋅m₃₁) + m₁₁⋅((m₁₁⋅m₂₂ - m₁₂⋅m₂₁)⋅(m₁₁⋅m₃₃ - m₁₃⋅m₃₁) -\n",
       "──────────────────────────────────────────────────────────────────────────────\n",
       " (m₁₁⋅m₂₂ - m₁₂⋅m₂₁)⋅((m₁₁⋅m₂₂ - m₁₂⋅m₂₁)⋅(m₁₁⋅m₃₃ - m₁₃⋅m₃₁) - (m₁₁⋅m₂₃ - m₁₃\n",
       "                                                                              \n",
       "                                        -m₁₁⋅(m₁₁⋅m₂₃ - m₁₃⋅m₂₁)              \n",
       "            ──────────────────────────────────────────────────────────────────\n",
       "            (m₁₁⋅m₂₂ - m₁₂⋅m₂₁)⋅(m₁₁⋅m₃₃ - m₁₃⋅m₃₁) - (m₁₁⋅m₂₃ - m₁₃⋅m₂₁)⋅(m₁₁\n",
       "\n",
       "₁₃⋅m₂₁)⋅(-m₂₁⋅(m₁₁⋅m₃₂ - m₁₂⋅m₃₁) + m₃₁⋅(m₁₁⋅m₂₂ - m₁₂⋅m₂₁))                -(\n",
       "────────────────────────────────────────────────────────────  ────────────────\n",
       "₁₃⋅m₂₁)⋅(m₁₁⋅m₃₂ - m₁₂⋅m₃₁))                                  (m₁₁⋅m₂₂ - m₁₂⋅m\n",
       "                                                                              \n",
       " (m₁₁⋅m₂₃ - m₁₃⋅m₂₁)⋅(m₁₁⋅m₃₂ - m₁₂⋅m₃₁))                                     \n",
       "─────────────────────────────────────────                     ────────────────\n",
       "⋅m₂₁)⋅(m₁₁⋅m₃₂ - m₁₂⋅m₃₁))                                    (m₁₁⋅m₂₂ - m₁₂⋅m\n",
       "                                                                              \n",
       "                                                                              \n",
       "───────────────                                               ────────────────\n",
       "⋅m₃₂ - m₁₂⋅m₃₁)                                               (m₁₁⋅m₂₂ - m₁₂⋅m\n",
       "\n",
       "-m₂₁⋅(m₁₁⋅m₃₂ - m₁₂⋅m₃₁) + m₃₁⋅(m₁₁⋅m₂₂ - m₁₂⋅m₂₁))              ⎤\n",
       "─────────────────────────────────────────────────────────────────⎥\n",
       "₂₁)⋅(m₁₁⋅m₃₃ - m₁₃⋅m₃₁) - (m₁₁⋅m₂₃ - m₁₃⋅m₂₁)⋅(m₁₁⋅m₃₂ - m₁₂⋅m₃₁)⎥\n",
       "                                                                 ⎥\n",
       "            -m₁₁⋅(m₁₁⋅m₃₂ - m₁₂⋅m₃₁)                             ⎥\n",
       "─────────────────────────────────────────────────────────────────⎥\n",
       "₂₁)⋅(m₁₁⋅m₃₃ - m₁₃⋅m₃₁) - (m₁₁⋅m₂₃ - m₁₃⋅m₂₁)⋅(m₁₁⋅m₃₂ - m₁₂⋅m₃₁)⎥\n",
       "                                                                 ⎥\n",
       "             m₁₁⋅(m₁₁⋅m₂₂ - m₁₂⋅m₂₁)                             ⎥\n",
       "─────────────────────────────────────────────────────────────────⎥\n",
       "₂₁)⋅(m₁₁⋅m₃₃ - m₁₃⋅m₃₁) - (m₁₁⋅m₂₃ - m₁₃⋅m₂₁)⋅(m₁₁⋅m₃₂ - m₁₂⋅m₃₁)⎦"
      ]
     },
     "execution_count": 197,
     "metadata": {},
     "output_type": "execute_result"
    }
   ],
   "source": [
    "A.inv()"
   ]
  },
  {
   "cell_type": "markdown",
   "metadata": {},
   "source": [
    "## More Sympy\n",
    "\n",
    "ref:\n",
    "\n",
    "http://nbviewer.jupyter.org/github/jrjohansson/scientific-python-lectures/blob/master/Lecture-5-Sympy.ipynb"
   ]
  },
  {
   "cell_type": "code",
   "execution_count": 16,
   "metadata": {
    "ExecuteTime": {
     "end_time": "2018-01-23T04:18:09.106516Z",
     "start_time": "2018-01-23T04:18:09.104010Z"
    },
    "collapsed": true
   },
   "outputs": [],
   "source": [
    "x = sym.Symbol('x', real=True)"
   ]
  },
  {
   "cell_type": "code",
   "execution_count": 17,
   "metadata": {
    "ExecuteTime": {
     "end_time": "2018-01-23T04:18:09.131608Z",
     "start_time": "2018-01-23T04:18:09.108018Z"
    },
    "collapsed": true
   },
   "outputs": [],
   "source": [
    "x = sym.Symbol('x', positive=True)"
   ]
  },
  {
   "cell_type": "markdown",
   "metadata": {},
   "source": [
    "## Numerical evaluation\n",
    "SymPy uses a library for artitrary precision as numerical backend, and has predefined SymPy expressions for a number of mathematical constants, such as: `pi`, `e`, `oo` for infinity.\n",
    "\n",
    "To evaluate an expression numerically we can use the `evalf` function (or `N`). It takes an argument `n` which specifies the number of significant digits."
   ]
  },
  {
   "cell_type": "code",
   "execution_count": 12,
   "metadata": {},
   "outputs": [
    {
     "data": {
      "image/png": "[encoded data removed]",
      "text/latex": [
       "$$\\pi$$"
      ],
      "text/plain": [
       "π"
      ]
     },
     "execution_count": 12,
     "metadata": {},
     "output_type": "execute_result"
    }
   ],
   "source": [
    "sym.pi"
   ]
  },
  {
   "cell_type": "code",
   "execution_count": 15,
   "metadata": {
    "ExecuteTime": {
     "end_time": "2018-01-23T04:18:09.541170Z",
     "start_time": "2018-01-23T04:18:09.132585Z"
    }
   },
   "outputs": [
    {
     "data": {
      "image/png": "[encoded data removed]",
      "text/latex": [
       "$$3.1416$$"
      ],
      "text/plain": [
       "3.1416"
      ]
     },
     "execution_count": 15,
     "metadata": {},
     "output_type": "execute_result"
    }
   ],
   "source": [
    "sym.pi.evalf(n=5)"
   ]
  },
  {
   "cell_type": "code",
   "execution_count": 20,
   "metadata": {
    "ExecuteTime": {
     "end_time": "2018-01-23T04:18:10.067016Z",
     "start_time": "2018-01-23T04:18:09.542690Z"
    }
   },
   "outputs": [
    {
     "data": {
      "image/png": "[encoded data removed]",
      "text/latex": [
       "$$\\left(x + 3.1416\\right)^{2}$$"
      ],
      "text/plain": [
       "            2\n",
       "(x + 3.1416) "
      ]
     },
     "execution_count": 20,
     "metadata": {},
     "output_type": "execute_result"
    }
   ],
   "source": [
    "y = (x + sym.pi)**2\n",
    "sym.N(y, 5) # same as evalf"
   ]
  },
  {
   "cell_type": "code",
   "execution_count": 21,
   "metadata": {},
   "outputs": [
    {
     "data": {
      "image/png": "[encoded data removed]",
      "text/latex": [
       "$$\\left(x + \\pi\\right)^{2}$$"
      ],
      "text/plain": [
       "       2\n",
       "(x + π) "
      ]
     },
     "execution_count": 21,
     "metadata": {},
     "output_type": "execute_result"
    }
   ],
   "source": [
    "y"
   ]
  },
  {
   "cell_type": "code",
   "execution_count": 22,
   "metadata": {
    "ExecuteTime": {
     "end_time": "2018-01-23T04:18:10.071012Z",
     "start_time": "2018-01-23T04:18:10.068004Z"
    }
   },
   "outputs": [
    {
     "data": {
      "text/plain": [
       "sympy.core.power.Pow"
      ]
     },
     "execution_count": 22,
     "metadata": {},
     "output_type": "execute_result"
    }
   ],
   "source": [
    "type(y)"
   ]
  },
  {
   "cell_type": "markdown",
   "metadata": {},
   "source": [
    "When we numerically evaluate algebraic expressions we often want to substitute a symbol with a numerical value. In SymPy we do that using the `subs` function:"
   ]
  },
  {
   "cell_type": "code",
   "execution_count": 23,
   "metadata": {
    "ExecuteTime": {
     "end_time": "2018-01-23T04:18:10.478616Z",
     "start_time": "2018-01-23T04:18:10.072515Z"
    }
   },
   "outputs": [
    {
     "data": {
      "image/png": "[encoded data removed]",
      "text/latex": [
       "$$\\left(1.5 + \\pi\\right)^{2}$$"
      ],
      "text/plain": [
       "         2\n",
       "(1.5 + π) "
      ]
     },
     "execution_count": 23,
     "metadata": {},
     "output_type": "execute_result"
    }
   ],
   "source": [
    "y.subs(x, 1.5)"
   ]
  },
  {
   "cell_type": "code",
   "execution_count": 24,
   "metadata": {},
   "outputs": [
    {
     "data": {
      "image/png": "[encoded data removed]",
      "text/latex": [
       "$$\\left(x + \\pi\\right)^{2}$$"
      ],
      "text/plain": [
       "       2\n",
       "(x + π) "
      ]
     },
     "execution_count": 24,
     "metadata": {},
     "output_type": "execute_result"
    }
   ],
   "source": [
    " (x + sym.pi)**2"
   ]
  },
  {
   "cell_type": "markdown",
   "metadata": {},
   "source": [
    "a much more efficient way to do it: Use the function `lambdify` to \"compile\" a Sympy expression into a function that is much more efficient to evaluate numerically:"
   ]
  },
  {
   "cell_type": "code",
   "execution_count": 25,
   "metadata": {
    "ExecuteTime": {
     "end_time": "2018-01-23T04:18:10.483629Z",
     "start_time": "2018-01-23T04:18:10.479620Z"
    },
    "collapsed": true
   },
   "outputs": [],
   "source": [
    "f_np = sym.lambdify([x], (x + sym.pi)**2, 'numpy')  # the first argument is a list of variables that\n",
    "                                         # f will be a function of: in this case only x -> f(x)"
   ]
  },
  {
   "cell_type": "code",
   "execution_count": 26,
   "metadata": {
    "ExecuteTime": {
     "end_time": "2018-01-23T04:18:10.508195Z",
     "start_time": "2018-01-23T04:18:10.485634Z"
    }
   },
   "outputs": [
    {
     "data": {
      "text/plain": [
       "<function numpy.<lambda>>"
      ]
     },
     "execution_count": 26,
     "metadata": {},
     "output_type": "execute_result"
    }
   ],
   "source": [
    "f_np"
   ]
  },
  {
   "cell_type": "code",
   "execution_count": 27,
   "metadata": {},
   "outputs": [
    {
     "data": {
      "image/png": "[encoded data removed]",
      "text/latex": [
       "$$37.71916032262811$$"
      ],
      "text/plain": [
       "37.71916032262811"
      ]
     },
     "execution_count": 27,
     "metadata": {},
     "output_type": "execute_result"
    }
   ],
   "source": [
    "f_np(3)"
   ]
  },
  {
   "cell_type": "markdown",
   "metadata": {},
   "source": [
    "## Solving equations"
   ]
  },
  {
   "cell_type": "code",
   "execution_count": 30,
   "metadata": {
    "ExecuteTime": {
     "end_time": "2018-01-23T04:18:10.529768Z",
     "start_time": "2018-01-23T04:18:10.509698Z"
    },
    "collapsed": true
   },
   "outputs": [],
   "source": [
    "# alternative way of defining symbols\n",
    "x,n,t,r, Y, C1, C2 = sym.symbols(\"x,n,t, r, Y, C1, C2\")"
   ]
  },
  {
   "cell_type": "code",
   "execution_count": 31,
   "metadata": {
    "ExecuteTime": {
     "end_time": "2018-01-23T04:18:10.552311Z",
     "start_time": "2018-01-23T04:18:10.530754Z"
    },
    "collapsed": true
   },
   "outputs": [],
   "source": [
    "f = sym.Function(\"f\")"
   ]
  },
  {
   "cell_type": "code",
   "execution_count": 33,
   "metadata": {},
   "outputs": [
    {
     "data": {
      "text/plain": [
       "sympy.core.function.UndefinedFunction"
      ]
     },
     "execution_count": 33,
     "metadata": {},
     "output_type": "execute_result"
    }
   ],
   "source": [
    "type(f)"
   ]
  },
  {
   "cell_type": "code",
   "execution_count": 34,
   "metadata": {},
   "outputs": [
    {
     "data": {
      "image/png": "[encoded data removed]",
      "text/latex": [
       "$$f{\\left (x \\right )}$$"
      ],
      "text/plain": [
       "f(x)"
      ]
     },
     "execution_count": 34,
     "metadata": {},
     "output_type": "execute_result"
    }
   ],
   "source": [
    "f(x)"
   ]
  },
  {
   "cell_type": "code",
   "execution_count": 35,
   "metadata": {},
   "outputs": [
    {
     "data": {
      "image/png": "[encoded data removed]",
      "text/latex": [
       "$$f{\\left (t \\right )}$$"
      ],
      "text/plain": [
       "f(t)"
      ]
     },
     "execution_count": 35,
     "metadata": {},
     "output_type": "execute_result"
    }
   ],
   "source": [
    "f(t)"
   ]
  },
  {
   "cell_type": "code",
   "execution_count": 209,
   "metadata": {
    "ExecuteTime": {
     "end_time": "2018-01-23T04:18:10.959444Z",
     "start_time": "2018-01-23T04:18:10.553815Z"
    }
   },
   "outputs": [
    {
     "data": {
      "image/png": "[encoded data removed]",
      "text/latex": [
       "$$\\left ( f{\\left (x \\right )}, \\quad f{\\left (t \\right )}\\right )$$"
      ],
      "text/plain": [
       "(f(x), f(t))"
      ]
     },
     "execution_count": 209,
     "metadata": {},
     "output_type": "execute_result"
    }
   ],
   "source": [
    "f(x),f(t)"
   ]
  },
  {
   "cell_type": "markdown",
   "metadata": {},
   "source": [
    "### IS-LM problem"
   ]
  },
  {
   "cell_type": "code",
   "execution_count": 39,
   "metadata": {
    "ExecuteTime": {
     "end_time": "2018-01-23T04:18:11.769833Z",
     "start_time": "2018-01-23T04:18:10.960430Z"
    }
   },
   "outputs": [
    {
     "data": {
      "image/png": "[encoded data removed]",
      "text/latex": [
       "$$0.0005 Y + r = 0.55$$"
      ],
      "text/plain": [
       "0.0005⋅Y + r = 0.55"
      ]
     },
     "execution_count": 39,
     "metadata": {},
     "output_type": "execute_result"
    }
   ],
   "source": [
    "eq1 = sym.Eq(1*r+ 0.0005*Y, 0.55 )\n",
    "eq1"
   ]
  },
  {
   "cell_type": "code",
   "execution_count": 40,
   "metadata": {},
   "outputs": [
    {
     "data": {
      "image/png": "[encoded data removed]",
      "text/latex": [
       "$$0.0005 Y + r - 0.55 = 0$$"
      ],
      "text/plain": [
       "0.0005⋅Y + r - 0.55 = 0"
      ]
     },
     "execution_count": 40,
     "metadata": {},
     "output_type": "execute_result"
    }
   ],
   "source": [
    "eq1 = sym.Eq(1*r+ 0.0005*Y-0.55)\n",
    "eq1"
   ]
  },
  {
   "cell_type": "code",
   "execution_count": 41,
   "metadata": {},
   "outputs": [
    {
     "data": {
      "image/png": "[encoded data removed]",
      "text/latex": [
       "$$- 0.00025 Y + r = -0.2$$"
      ],
      "text/plain": [
       "-0.00025⋅Y + r = -0.2"
      ]
     },
     "execution_count": 41,
     "metadata": {},
     "output_type": "execute_result"
    }
   ],
   "source": [
    "\n",
    "eq2 = sym.Eq(1*r- 0.00025*Y, -0.2 )\n",
    "eq2"
   ]
  },
  {
   "cell_type": "code",
   "execution_count": 42,
   "metadata": {
    "ExecuteTime": {
     "end_time": "2018-01-23T04:18:12.395201Z",
     "start_time": "2018-01-23T04:18:11.770823Z"
    }
   },
   "outputs": [
    {
     "data": {
      "image/png": "[encoded data removed]",
      "text/latex": [
       "$$\\left \\{ Y : 1000.0, \\quad r : 0.05\\right \\}$$"
      ],
      "text/plain": [
       "{Y: 1000.0, r: 0.05}"
      ]
     },
     "execution_count": 42,
     "metadata": {},
     "output_type": "execute_result"
    }
   ],
   "source": [
    "sym.solve([eq1, eq2], [r,Y])"
   ]
  },
  {
   "cell_type": "markdown",
   "metadata": {
    "collapsed": true
   },
   "source": [
    "It returns a dictionary. "
   ]
  },
  {
   "cell_type": "markdown",
   "metadata": {},
   "source": [
    "## Constrained Optimization with Lagrange multiplier"
   ]
  },
  {
   "cell_type": "code",
   "execution_count": 43,
   "metadata": {
    "ExecuteTime": {
     "end_time": "2018-01-23T04:42:48.223267Z",
     "start_time": "2018-01-23T04:42:48.220254Z"
    },
    "collapsed": true
   },
   "outputs": [],
   "source": [
    "x = x1, x2, x3, l = sym.symbols(\"x1, x2, x3, lambda\")"
   ]
  },
  {
   "cell_type": "markdown",
   "metadata": {},
   "source": [
    "### Nonlinear Objective function"
   ]
  },
  {
   "cell_type": "code",
   "execution_count": 44,
   "metadata": {
    "ExecuteTime": {
     "end_time": "2018-01-23T04:43:55.050338Z",
     "start_time": "2018-01-23T04:43:54.607916Z"
    }
   },
   "outputs": [
    {
     "data": {
      "image/png": "[encoded data removed]",
      "text/latex": [
       "$$x_{1} x_{2} x_{3}$$"
      ],
      "text/plain": [
       "x₁⋅x₂⋅x₃"
      ]
     },
     "execution_count": 44,
     "metadata": {},
     "output_type": "execute_result"
    }
   ],
   "source": [
    "f = x1 * x2 * x3\n",
    "f"
   ]
  },
  {
   "cell_type": "markdown",
   "metadata": {},
   "source": [
    "### Nonlinear Constraints"
   ]
  },
  {
   "cell_type": "code",
   "execution_count": 46,
   "metadata": {
    "ExecuteTime": {
     "end_time": "2018-01-23T04:43:37.829875Z",
     "start_time": "2018-01-23T04:43:37.328541Z"
    }
   },
   "outputs": [
    {
     "data": {
      "image/png": "[encoded data removed]",
      "text/latex": [
       "$$2 x_{1} x_{2} + 2 x_{1} x_{3} + 2 x_{2} x_{3}$$"
      ],
      "text/plain": [
       "2⋅x₁⋅x₂ + 2⋅x₁⋅x₃ + 2⋅x₂⋅x₃"
      ]
     },
     "execution_count": 46,
     "metadata": {},
     "output_type": "execute_result"
    }
   ],
   "source": [
    "g = 2 * (x1 * x2 + x2 * x3 + x3 * x1)\n",
    "g"
   ]
  },
  {
   "cell_type": "markdown",
   "metadata": {},
   "source": [
    "### Lagrange"
   ]
  },
  {
   "cell_type": "code",
   "execution_count": 47,
   "metadata": {
    "ExecuteTime": {
     "end_time": "2018-01-23T04:44:16.670397Z",
     "start_time": "2018-01-23T04:44:16.266230Z"
    }
   },
   "outputs": [
    {
     "data": {
      "image/png": "[encoded data removed]",
      "text/latex": [
       "$$\\lambda \\left(- 2 x_{1} x_{2} - 2 x_{1} x_{3} - 2 x_{2} x_{3} + 1\\right) + x_{1} x_{2} x_{3}$$"
      ],
      "text/plain": [
       "λ⋅(-2⋅x₁⋅x₂ - 2⋅x₁⋅x₃ - 2⋅x₂⋅x₃ + 1) + x₁⋅x₂⋅x₃"
      ]
     },
     "execution_count": 47,
     "metadata": {},
     "output_type": "execute_result"
    }
   ],
   "source": [
    "L = f + l *(1- g)\n",
    "L"
   ]
  },
  {
   "cell_type": "markdown",
   "metadata": {},
   "source": [
    "### FOC"
   ]
  },
  {
   "cell_type": "code",
   "execution_count": 48,
   "metadata": {},
   "outputs": [
    {
     "data": {
      "image/png": "[encoded data removed]",
      "text/latex": [
       "$$\\lambda \\left(- 2 x_{2} - 2 x_{3}\\right) + x_{2} x_{3}$$"
      ],
      "text/plain": [
       "λ⋅(-2⋅x₂ - 2⋅x₃) + x₂⋅x₃"
      ]
     },
     "execution_count": 48,
     "metadata": {},
     "output_type": "execute_result"
    }
   ],
   "source": [
    "sym.diff(L, x1)"
   ]
  },
  {
   "cell_type": "code",
   "execution_count": 49,
   "metadata": {},
   "outputs": [
    {
     "data": {
      "image/png": "[encoded data removed]",
      "text/latex": [
       "$$\\lambda \\left(- 2 x_{1} - 2 x_{3}\\right) + x_{1} x_{3}$$"
      ],
      "text/plain": [
       "λ⋅(-2⋅x₁ - 2⋅x₃) + x₁⋅x₃"
      ]
     },
     "execution_count": 49,
     "metadata": {},
     "output_type": "execute_result"
    }
   ],
   "source": [
    "sym.diff(L, x2)"
   ]
  },
  {
   "cell_type": "code",
   "execution_count": 52,
   "metadata": {},
   "outputs": [
    {
     "data": {
      "image/png": "[encoded data removed]",
      "text/latex": [
       "$$\\left [ \\lambda \\left(- 2 x_{2} - 2 x_{3}\\right) + x_{2} x_{3}, \\quad \\lambda \\left(- 2 x_{1} - 2 x_{3}\\right) + x_{1} x_{3}, \\quad \\lambda \\left(- 2 x_{1} - 2 x_{2}\\right) + x_{1} x_{2}, \\quad - 2 x_{1} x_{2} - 2 x_{1} x_{3} - 2 x_{2} x_{3} + 1\\right ]$$"
      ],
      "text/plain": [
       "[λ⋅(-2⋅x₂ - 2⋅x₃) + x₂⋅x₃, λ⋅(-2⋅x₁ - 2⋅x₃) + x₁⋅x₃, λ⋅(-2⋅x₁ - 2⋅x₂) + x₁⋅x₂,\n",
       " -2⋅x₁⋅x₂ - 2⋅x₁⋅x₃ - 2⋅x₂⋅x₃ + 1]"
      ]
     },
     "execution_count": 52,
     "metadata": {},
     "output_type": "execute_result"
    }
   ],
   "source": [
    "grad_L_test = []\n",
    "for x_ in x:\n",
    "    grad_L_test.append(sym.diff(L, x_)) \n",
    "grad_L_test  "
   ]
  },
  {
   "cell_type": "code",
   "execution_count": 54,
   "metadata": {
    "ExecuteTime": {
     "end_time": "2018-01-23T04:45:04.039487Z",
     "start_time": "2018-01-23T04:45:03.514467Z"
    }
   },
   "outputs": [
    {
     "data": {
      "image/png": "[encoded data removed]",
      "text/latex": [
       "$$\\left [ \\lambda \\left(- 2 x_{2} - 2 x_{3}\\right) + x_{2} x_{3}, \\quad \\lambda \\left(- 2 x_{1} - 2 x_{3}\\right) + x_{1} x_{3}, \\quad \\lambda \\left(- 2 x_{1} - 2 x_{2}\\right) + x_{1} x_{2}, \\quad - 2 x_{1} x_{2} - 2 x_{1} x_{3} - 2 x_{2} x_{3} + 1\\right ]$$"
      ],
      "text/plain": [
       "[λ⋅(-2⋅x₂ - 2⋅x₃) + x₂⋅x₃, λ⋅(-2⋅x₁ - 2⋅x₃) + x₁⋅x₃, λ⋅(-2⋅x₁ - 2⋅x₂) + x₁⋅x₂,\n",
       " -2⋅x₁⋅x₂ - 2⋅x₁⋅x₃ - 2⋅x₂⋅x₃ + 1]"
      ]
     },
     "execution_count": 54,
     "metadata": {},
     "output_type": "execute_result"
    }
   ],
   "source": [
    "grad_L = [sym.diff(L, x_) for x_ in x] # List of FOCs\n",
    "grad_L"
   ]
  },
  {
   "cell_type": "markdown",
   "metadata": {},
   "source": [
    "### Solve system of FOCs"
   ]
  },
  {
   "cell_type": "code",
   "execution_count": 55,
   "metadata": {
    "ExecuteTime": {
     "end_time": "2018-01-23T04:46:02.959094Z",
     "start_time": "2018-01-23T04:46:02.454502Z"
    }
   },
   "outputs": [
    {
     "data": {
      "image/png": "[encoded data removed]",
      "text/latex": [
       "$$\\left [ \\left \\{ \\lambda : - \\frac{\\sqrt{6}}{24}, \\quad x_{1} : - \\frac{\\sqrt{6}}{6}, \\quad x_{2} : - \\frac{\\sqrt{6}}{6}, \\quad x_{3} : - \\frac{\\sqrt{6}}{6}\\right \\}, \\quad \\left \\{ \\lambda : \\frac{\\sqrt{6}}{24}, \\quad x_{1} : \\frac{\\sqrt{6}}{6}, \\quad x_{2} : \\frac{\\sqrt{6}}{6}, \\quad x_{3} : \\frac{\\sqrt{6}}{6}\\right \\}\\right ]$$"
      ],
      "text/plain": [
       "⎡⎧   -√6       -√6       -√6       -√6 ⎫  ⎧   √6      √6      √6      √6⎫⎤\n",
       "⎢⎨λ: ────, x₁: ────, x₂: ────, x₃: ────⎬, ⎨λ: ──, x₁: ──, x₂: ──, x₃: ──⎬⎥\n",
       "⎣⎩    24        6         6         6  ⎭  ⎩   24      6       6       6 ⎭⎦"
      ]
     },
     "execution_count": 55,
     "metadata": {},
     "output_type": "execute_result"
    }
   ],
   "source": [
    "sols = sym.solve(grad_L)\n",
    "sols"
   ]
  },
  {
   "cell_type": "markdown",
   "metadata": {},
   "source": [
    "Two sets of solutions in which we need to check the SOCs."
   ]
  },
  {
   "cell_type": "markdown",
   "metadata": {},
   "source": [
    "### Check constraints"
   ]
  },
  {
   "cell_type": "code",
   "execution_count": 218,
   "metadata": {
    "ExecuteTime": {
     "end_time": "2018-01-23T04:46:54.198294Z",
     "start_time": "2018-01-23T04:46:53.706329Z"
    }
   },
   "outputs": [
    {
     "data": {
      "image/png": "[encoded data removed]",
      "text/latex": [
       "$$0$$"
      ],
      "text/plain": [
       "0"
      ]
     },
     "execution_count": 218,
     "metadata": {},
     "output_type": "execute_result"
    }
   ],
   "source": [
    "g.subs(sols[0])"
   ]
  },
  {
   "cell_type": "markdown",
   "metadata": {},
   "source": [
    "### Check objective function value"
   ]
  },
  {
   "cell_type": "code",
   "execution_count": 219,
   "metadata": {
    "ExecuteTime": {
     "end_time": "2018-01-23T04:47:18.131957Z",
     "start_time": "2018-01-23T04:47:17.725893Z"
    }
   },
   "outputs": [
    {
     "data": {
      "image/png": "[encoded data removed]",
      "text/latex": [
       "$$- \\frac{\\sqrt{6}}{36}$$"
      ],
      "text/plain": [
       "-√6 \n",
       "────\n",
       " 36 "
      ]
     },
     "execution_count": 219,
     "metadata": {},
     "output_type": "execute_result"
    }
   ],
   "source": [
    "f.subs(sols[0])"
   ]
  },
  {
   "cell_type": "code",
   "execution_count": 220,
   "metadata": {
    "ExecuteTime": {
     "end_time": "2018-01-23T04:48:02.743290Z",
     "start_time": "2018-01-23T04:48:02.326213Z"
    }
   },
   "outputs": [
    {
     "data": {
      "image/png": "[encoded data removed]",
      "text/latex": [
       "$$\\frac{\\sqrt{6}}{36}$$"
      ],
      "text/plain": [
       "√6\n",
       "──\n",
       "36"
      ]
     },
     "execution_count": 220,
     "metadata": {},
     "output_type": "execute_result"
    }
   ],
   "source": [
    "f.subs(sols[1])"
   ]
  },
  {
   "cell_type": "code",
   "execution_count": 221,
   "metadata": {
    "ExecuteTime": {
     "end_time": "2018-01-23T04:49:10.316408Z",
     "start_time": "2018-01-23T04:49:09.913425Z"
    }
   },
   "outputs": [
    {
     "data": {
      "image/png": "[encoded data removed]",
      "text/latex": [
       "$$\\left ( x_{1}, \\quad x_{2}, \\quad x_{3}\\right )$$"
      ],
      "text/plain": [
       "(x₁, x₂, x₃)"
      ]
     },
     "execution_count": 221,
     "metadata": {},
     "output_type": "execute_result"
    }
   ],
   "source": [
    "x[:3]"
   ]
  },
  {
   "cell_type": "markdown",
   "metadata": {},
   "source": [
    "### Check SOC"
   ]
  },
  {
   "cell_type": "code",
   "execution_count": 222,
   "metadata": {
    "ExecuteTime": {
     "end_time": "2018-01-23T04:56:41.342217Z",
     "start_time": "2018-01-23T04:56:41.339193Z"
    },
    "collapsed": true
   },
   "outputs": [],
   "source": [
    "from sympy.tensor.array import derive_by_array"
   ]
  },
  {
   "cell_type": "code",
   "execution_count": 223,
   "metadata": {},
   "outputs": [
    {
     "data": {
      "image/png": "[encoded data removed]",
      "text/latex": [
       "$$\\left[\\begin{matrix}x_{2} x_{3} & x_{1} x_{3} & x_{1} x_{2}\\end{matrix}\\right]$$"
      ],
      "text/plain": [
       "[x₂⋅x₃  x₁⋅x₃  x₁⋅x₂]"
      ]
     },
     "execution_count": 223,
     "metadata": {},
     "output_type": "execute_result"
    }
   ],
   "source": [
    "grad_f =derive_by_array(f, x[:3])\n",
    "grad_f "
   ]
  },
  {
   "cell_type": "code",
   "execution_count": 224,
   "metadata": {
    "ExecuteTime": {
     "end_time": "2018-01-23T05:14:05.152820Z",
     "start_time": "2018-01-23T05:14:04.650433Z"
    }
   },
   "outputs": [
    {
     "data": {
      "image/png": "[encoded data removed]",
      "text/latex": [
       "$$\\left[\\begin{matrix}0 & x_{3} & x_{2}\\\\x_{3} & 0 & x_{1}\\\\x_{2} & x_{1} & 0\\end{matrix}\\right]$$"
      ],
      "text/plain": [
       "⎡0   x₃  x₂⎤\n",
       "⎢          ⎥\n",
       "⎢x₃  0   x₁⎥\n",
       "⎢          ⎥\n",
       "⎣x₂  x₁  0 ⎦"
      ]
     },
     "execution_count": 224,
     "metadata": {},
     "output_type": "execute_result"
    }
   ],
   "source": [
    "hess_f =derive_by_array(grad_f ,x[:3])\n",
    "hess_f"
   ]
  },
  {
   "cell_type": "code",
   "execution_count": 225,
   "metadata": {},
   "outputs": [
    {
     "data": {
      "text/plain": [
       "sympy.tensor.array.dense_ndim_array.ImmutableDenseNDimArray"
      ]
     },
     "execution_count": 225,
     "metadata": {},
     "output_type": "execute_result"
    }
   ],
   "source": [
    "type(hess_f)"
   ]
  },
  {
   "cell_type": "code",
   "execution_count": 235,
   "metadata": {},
   "outputs": [
    {
     "data": {
      "image/png": "[encoded data removed]",
      "text/latex": [
       "$$\\left[\\begin{matrix}0 & x_{3} & x_{2} & 0\\\\x_{3} & 0 & x_{1} & 0\\\\x_{2} & x_{1} & 0 & 0\\\\0 & 0 & 0 & 0\\end{matrix}\\right]$$"
      ],
      "text/plain": [
       "⎡0   x₃  x₂  0⎤\n",
       "⎢             ⎥\n",
       "⎢x₃  0   x₁  0⎥\n",
       "⎢             ⎥\n",
       "⎢x₂  x₁  0   0⎥\n",
       "⎢             ⎥\n",
       "⎣0   0   0   0⎦"
      ]
     },
     "execution_count": 235,
     "metadata": {},
     "output_type": "execute_result"
    }
   ],
   "source": [
    "hess_f =sym.Matrix([[f.diff(x1_).diff(x2_) \n",
    "                     for x1_ in x] \n",
    "                    for x2_ in x])\n",
    "hess_f"
   ]
  },
  {
   "cell_type": "markdown",
   "metadata": {},
   "source": [
    "### Bordered Hessian Matrix"
   ]
  },
  {
   "cell_type": "code",
   "execution_count": 236,
   "metadata": {},
   "outputs": [
    {
     "data": {
      "image/png": "[encoded data removed]",
      "text/latex": [
       "$$\\left[\\begin{matrix}0 & - 2 \\lambda + x_{3} & - 2 \\lambda + x_{2} & - 2 x_{2} - 2 x_{3}\\\\- 2 \\lambda + x_{3} & 0 & - 2 \\lambda + x_{1} & - 2 x_{1} - 2 x_{3}\\\\- 2 \\lambda + x_{2} & - 2 \\lambda + x_{1} & 0 & - 2 x_{1} - 2 x_{2}\\\\- 2 x_{2} - 2 x_{3} & - 2 x_{1} - 2 x_{3} & - 2 x_{1} - 2 x_{2} & 0\\end{matrix}\\right]$$"
      ],
      "text/plain": [
       "⎡     0         -2⋅λ + x₃     -2⋅λ + x₂    -2⋅x₂ - 2⋅x₃⎤\n",
       "⎢                                                      ⎥\n",
       "⎢ -2⋅λ + x₃         0         -2⋅λ + x₁    -2⋅x₁ - 2⋅x₃⎥\n",
       "⎢                                                      ⎥\n",
       "⎢ -2⋅λ + x₂     -2⋅λ + x₁         0        -2⋅x₁ - 2⋅x₂⎥\n",
       "⎢                                                      ⎥\n",
       "⎣-2⋅x₂ - 2⋅x₃  -2⋅x₁ - 2⋅x₃  -2⋅x₁ - 2⋅x₂       0      ⎦"
      ]
     },
     "execution_count": 236,
     "metadata": {},
     "output_type": "execute_result"
    }
   ],
   "source": [
    "hess_L =derive_by_array(grad_L ,x)\n",
    "hess_L"
   ]
  },
  {
   "cell_type": "code",
   "execution_count": 237,
   "metadata": {
    "ExecuteTime": {
     "end_time": "2018-01-23T05:17:52.678483Z",
     "start_time": "2018-01-23T05:17:52.675990Z"
    }
   },
   "outputs": [
    {
     "data": {
      "image/png": "[encoded data removed]",
      "text/latex": [
       "$$\\left[\\begin{matrix}0 & - 2 \\lambda + x_{3} & - 2 \\lambda + x_{2} & - 2 x_{2} - 2 x_{3}\\\\- 2 \\lambda + x_{3} & 0 & - 2 \\lambda + x_{1} & - 2 x_{1} - 2 x_{3}\\\\- 2 \\lambda + x_{2} & - 2 \\lambda + x_{1} & 0 & - 2 x_{1} - 2 x_{2}\\\\- 2 x_{2} - 2 x_{3} & - 2 x_{1} - 2 x_{3} & - 2 x_{1} - 2 x_{2} & 0\\end{matrix}\\right]$$"
      ],
      "text/plain": [
       "⎡     0         -2⋅λ + x₃     -2⋅λ + x₂    -2⋅x₂ - 2⋅x₃⎤\n",
       "⎢                                                      ⎥\n",
       "⎢ -2⋅λ + x₃         0         -2⋅λ + x₁    -2⋅x₁ - 2⋅x₃⎥\n",
       "⎢                                                      ⎥\n",
       "⎢ -2⋅λ + x₂     -2⋅λ + x₁         0        -2⋅x₁ - 2⋅x₂⎥\n",
       "⎢                                                      ⎥\n",
       "⎣-2⋅x₂ - 2⋅x₃  -2⋅x₁ - 2⋅x₃  -2⋅x₁ - 2⋅x₂       0      ⎦"
      ]
     },
     "execution_count": 237,
     "metadata": {},
     "output_type": "execute_result"
    }
   ],
   "source": [
    "hess_L =sym.Matrix([[L.diff(x1_).diff(x2_) \n",
    "                     for x1_ in x] \n",
    "                    for x2_ in x])\n",
    "hess_L"
   ]
  },
  {
   "cell_type": "code",
   "execution_count": 238,
   "metadata": {},
   "outputs": [
    {
     "data": {
      "text/plain": [
       "sympy.matrices.dense.MutableDenseMatrix"
      ]
     },
     "execution_count": 238,
     "metadata": {},
     "output_type": "execute_result"
    }
   ],
   "source": [
    "type(hess_L)"
   ]
  },
  {
   "cell_type": "code",
   "execution_count": 239,
   "metadata": {
    "ExecuteTime": {
     "end_time": "2018-01-23T05:13:05.150625Z",
     "start_time": "2018-01-23T05:13:04.742040Z"
    }
   },
   "outputs": [
    {
     "data": {
      "image/png": "[encoded data removed]",
      "text/latex": [
       "$$\\left[\\begin{matrix}0 & - \\frac{\\sqrt{6}}{12} & - \\frac{\\sqrt{6}}{12} & \\frac{2 \\sqrt{6}}{3}\\\\- \\frac{\\sqrt{6}}{12} & 0 & - \\frac{\\sqrt{6}}{12} & \\frac{2 \\sqrt{6}}{3}\\\\- \\frac{\\sqrt{6}}{12} & - \\frac{\\sqrt{6}}{12} & 0 & \\frac{2 \\sqrt{6}}{3}\\\\\\frac{2 \\sqrt{6}}{3} & \\frac{2 \\sqrt{6}}{3} & \\frac{2 \\sqrt{6}}{3} & 0\\end{matrix}\\right]$$"
      ],
      "text/plain": [
       "⎡      -√6   -√6   2⋅√6⎤\n",
       "⎢ 0    ────  ────  ────⎥\n",
       "⎢       12    12    3  ⎥\n",
       "⎢                      ⎥\n",
       "⎢-√6         -√6   2⋅√6⎥\n",
       "⎢────   0    ────  ────⎥\n",
       "⎢ 12          12    3  ⎥\n",
       "⎢                      ⎥\n",
       "⎢-√6   -√6         2⋅√6⎥\n",
       "⎢────  ────   0    ────⎥\n",
       "⎢ 12    12          3  ⎥\n",
       "⎢                      ⎥\n",
       "⎢2⋅√6  2⋅√6  2⋅√6      ⎥\n",
       "⎢────  ────  ────   0  ⎥\n",
       "⎣ 3     3     3        ⎦"
      ]
     },
     "execution_count": 239,
     "metadata": {},
     "output_type": "execute_result"
    }
   ],
   "source": [
    "hess_L.subs(sols[0])"
   ]
  },
  {
   "cell_type": "code",
   "execution_count": 240,
   "metadata": {},
   "outputs": [
    {
     "data": {
      "image/png": "[encoded data removed]",
      "text/latex": [
       "$$\\left[\\begin{matrix}0 & \\frac{\\sqrt{6}}{12} & \\frac{\\sqrt{6}}{12} & - \\frac{2 \\sqrt{6}}{3}\\\\\\frac{\\sqrt{6}}{12} & 0 & \\frac{\\sqrt{6}}{12} & - \\frac{2 \\sqrt{6}}{3}\\\\\\frac{\\sqrt{6}}{12} & \\frac{\\sqrt{6}}{12} & 0 & - \\frac{2 \\sqrt{6}}{3}\\\\- \\frac{2 \\sqrt{6}}{3} & - \\frac{2 \\sqrt{6}}{3} & - \\frac{2 \\sqrt{6}}{3} & 0\\end{matrix}\\right]$$"
      ],
      "text/plain": [
       "⎡          √6      √6    -2⋅√6 ⎤\n",
       "⎢  0       ──      ──    ──────⎥\n",
       "⎢          12      12      3   ⎥\n",
       "⎢                              ⎥\n",
       "⎢  √6              √6    -2⋅√6 ⎥\n",
       "⎢  ──      0       ──    ──────⎥\n",
       "⎢  12              12      3   ⎥\n",
       "⎢                              ⎥\n",
       "⎢  √6      √6            -2⋅√6 ⎥\n",
       "⎢  ──      ──      0     ──────⎥\n",
       "⎢  12      12              3   ⎥\n",
       "⎢                              ⎥\n",
       "⎢-2⋅√6   -2⋅√6   -2⋅√6         ⎥\n",
       "⎢──────  ──────  ──────    0   ⎥\n",
       "⎣  3       3       3           ⎦"
      ]
     },
     "execution_count": 240,
     "metadata": {},
     "output_type": "execute_result"
    }
   ],
   "source": [
    "hess_L.subs(sols[1])"
   ]
  },
  {
   "cell_type": "code",
   "execution_count": null,
   "metadata": {
    "collapsed": true
   },
   "outputs": [],
   "source": []
  },
  {
   "cell_type": "markdown",
   "metadata": {},
   "source": [
    "### Eigenvalues"
   ]
  },
  {
   "cell_type": "code",
   "execution_count": 241,
   "metadata": {
    "ExecuteTime": {
     "end_time": "2018-01-23T05:23:13.382566Z",
     "start_time": "2018-01-23T05:23:12.963445Z"
    }
   },
   "outputs": [
    {
     "data": {
      "image/png": "[encoded data removed]",
      "text/latex": [
       "$$\\left \\{ 0 : 1, \\quad - \\frac{\\sqrt{6}}{3} : 1, \\quad \\frac{\\sqrt{6}}{6} : 2\\right \\}$$"
      ],
      "text/plain": [
       "⎧      -√6      √6   ⎫\n",
       "⎨0: 1, ────: 1, ──: 2⎬\n",
       "⎩       3       6    ⎭"
      ]
     },
     "execution_count": 241,
     "metadata": {},
     "output_type": "execute_result"
    }
   ],
   "source": [
    "hess_f.subs(sols[0]).eigenvals() #returns eigenvalues and their algebraic multiplicity \n",
    "# https://en.wikipedia.org/wiki/Eigenvalues_and_eigenvectors#Algebraic_multiplicity"
   ]
  },
  {
   "cell_type": "code",
   "execution_count": 242,
   "metadata": {
    "ExecuteTime": {
     "end_time": "2018-01-23T05:21:43.260002Z",
     "start_time": "2018-01-23T05:21:42.826793Z"
    }
   },
   "outputs": [
    {
     "data": {
      "image/png": "[encoded data removed]",
      "text/latex": [
       "$$\\left [ \\left ( 0, \\quad 1, \\quad \\left [ \\left[\\begin{matrix}0\\\\0\\\\0\\\\1\\end{matrix}\\right]\\right ]\\right ), \\quad \\left ( - \\frac{\\sqrt{6}}{3}, \\quad 1, \\quad \\left [ \\left[\\begin{matrix}1\\\\1\\\\1\\\\0\\end{matrix}\\right]\\right ]\\right ), \\quad \\left ( \\frac{\\sqrt{6}}{6}, \\quad 2, \\quad \\left [ \\left[\\begin{matrix}-1\\\\1\\\\0\\\\0\\end{matrix}\\right], \\quad \\left[\\begin{matrix}-1\\\\0\\\\1\\\\0\\end{matrix}\\right]\\right ]\\right )\\right ]$$"
      ],
      "text/plain": [
       "⎡⎛      ⎡⎡0⎤⎤⎞  ⎛         ⎡⎡1⎤⎤⎞  ⎛       ⎡⎡-1⎤  ⎡-1⎤⎤⎞⎤\n",
       "⎢⎜      ⎢⎢ ⎥⎥⎟  ⎜         ⎢⎢ ⎥⎥⎟  ⎜       ⎢⎢  ⎥  ⎢  ⎥⎥⎟⎥\n",
       "⎢⎜      ⎢⎢0⎥⎥⎟  ⎜-√6      ⎢⎢1⎥⎥⎟  ⎜√6     ⎢⎢1 ⎥  ⎢0 ⎥⎥⎟⎥\n",
       "⎢⎜0, 1, ⎢⎢ ⎥⎥⎟, ⎜────, 1, ⎢⎢ ⎥⎥⎟, ⎜──, 2, ⎢⎢  ⎥, ⎢  ⎥⎥⎟⎥\n",
       "⎢⎜      ⎢⎢0⎥⎥⎟  ⎜ 3       ⎢⎢1⎥⎥⎟  ⎜6      ⎢⎢0 ⎥  ⎢1 ⎥⎥⎟⎥\n",
       "⎢⎜      ⎢⎢ ⎥⎥⎟  ⎜         ⎢⎢ ⎥⎥⎟  ⎜       ⎢⎢  ⎥  ⎢  ⎥⎥⎟⎥\n",
       "⎣⎝      ⎣⎣1⎦⎦⎠  ⎝         ⎣⎣0⎦⎦⎠  ⎝       ⎣⎣0 ⎦  ⎣0 ⎦⎦⎠⎦"
      ]
     },
     "execution_count": 242,
     "metadata": {},
     "output_type": "execute_result"
    }
   ],
   "source": [
    "hess_f.subs(sols[0]).eigenvects()  #returns eigenvalues,algebraic multiplicity,and eigenvects"
   ]
  },
  {
   "cell_type": "code",
   "execution_count": 243,
   "metadata": {
    "ExecuteTime": {
     "end_time": "2018-01-23T05:19:08.374828Z",
     "start_time": "2018-01-23T05:19:07.821979Z"
    }
   },
   "outputs": [
    {
     "data": {
      "image/png": "[encoded data removed]",
      "text/latex": [
       "$$\\left \\{ 0 : 1, \\quad - \\frac{\\sqrt{6}}{6} : 2, \\quad \\frac{\\sqrt{6}}{3} : 1\\right \\}$$"
      ],
      "text/plain": [
       "⎧      -√6      √6   ⎫\n",
       "⎨0: 1, ────: 2, ──: 1⎬\n",
       "⎩       6       3    ⎭"
      ]
     },
     "execution_count": 243,
     "metadata": {},
     "output_type": "execute_result"
    }
   ],
   "source": [
    "hess_f.subs(sols[1]).eigenvals()"
   ]
  },
  {
   "cell_type": "code",
   "execution_count": null,
   "metadata": {
    "ExecuteTime": {
     "end_time": "2018-01-23T04:51:21.538233Z",
     "start_time": "2018-01-23T04:51:21.507150Z"
    },
    "collapsed": true
   },
   "outputs": [],
   "source": []
  },
  {
   "cell_type": "markdown",
   "metadata": {
    "ExecuteTime": {
     "end_time": "2018-01-23T03:52:25.542635Z",
     "start_time": "2018-01-23T03:52:25.030471Z"
    }
   },
   "source": [
    "## Difference equations"
   ]
  },
  {
   "cell_type": "code",
   "execution_count": 56,
   "metadata": {
    "ExecuteTime": {
     "end_time": "2018-01-23T04:18:12.399711Z",
     "start_time": "2018-01-23T04:18:12.396189Z"
    },
    "collapsed": true
   },
   "outputs": [],
   "source": [
    "b,c,d, n, y0 = sym.symbols(\"b c d n y0\")\n",
    "y = sym.Function(\"y\")"
   ]
  },
  {
   "cell_type": "code",
   "execution_count": 57,
   "metadata": {
    "ExecuteTime": {
     "end_time": "2018-01-23T04:18:13.028323Z",
     "start_time": "2018-01-23T04:18:12.401202Z"
    }
   },
   "outputs": [
    {
     "data": {
      "image/png": "[encoded data removed]",
      "text/latex": [
       "$$c y{\\left (n \\right )} + y{\\left (n + 1 \\right )} = d$$"
      ],
      "text/plain": [
       "c⋅y(n) + y(n + 1) = d"
      ]
     },
     "execution_count": 57,
     "metadata": {},
     "output_type": "execute_result"
    }
   ],
   "source": [
    "ode=sym.Eq(y(n+1) + c*y(n), d)\n",
    "ode"
   ]
  },
  {
   "cell_type": "code",
   "execution_count": 58,
   "metadata": {
    "ExecuteTime": {
     "end_time": "2018-01-23T04:18:13.476184Z",
     "start_time": "2018-01-23T04:18:13.029825Z"
    }
   },
   "outputs": [
    {
     "data": {
      "image/png": "[encoded data removed]",
      "text/latex": [
       "$$C_{0} \\left(- c\\right)^{n} + \\frac{d}{c + 1}$$"
      ],
      "text/plain": [
       "       n     d  \n",
       "C₀⋅(-c)  + ─────\n",
       "           c + 1"
      ]
     },
     "execution_count": 58,
     "metadata": {},
     "output_type": "execute_result"
    }
   ],
   "source": [
    "ode_sol=sym.rsolve(ode,y(n))\n",
    "ode_sol"
   ]
  },
  {
   "cell_type": "code",
   "execution_count": 59,
   "metadata": {
    "ExecuteTime": {
     "end_time": "2018-01-23T04:18:13.880420Z",
     "start_time": "2018-01-23T04:18:13.477690Z"
    }
   },
   "outputs": [
    {
     "data": {
      "image/png": "[encoded data removed]",
      "text/latex": [
       "$$\\left \\{ y{\\left (0 \\right )} : y_{0}\\right \\}$$"
      ],
      "text/plain": [
       "{y(0): y₀}"
      ]
     },
     "execution_count": 59,
     "metadata": {},
     "output_type": "execute_result"
    }
   ],
   "source": [
    "ics = {y(0): y0}\n",
    "ics #initial condition "
   ]
  },
  {
   "cell_type": "code",
   "execution_count": 60,
   "metadata": {
    "ExecuteTime": {
     "end_time": "2018-01-23T04:18:14.287043Z",
     "start_time": "2018-01-23T04:18:13.881422Z"
    }
   },
   "outputs": [
    {
     "data": {
      "image/png": "[encoded data removed]",
      "text/latex": [
       "$$y_{0} = C_{0} + \\frac{d}{c + 1}$$"
      ],
      "text/plain": [
       "            d  \n",
       "y₀ = C₀ + ─────\n",
       "          c + 1"
      ]
     },
     "execution_count": 60,
     "metadata": {},
     "output_type": "execute_result"
    }
   ],
   "source": [
    "C_eq = sym.Eq(y(n).subs(n, 0).subs(ics), ode_sol.subs(n, 0))\n",
    "C_eq"
   ]
  },
  {
   "cell_type": "code",
   "execution_count": 61,
   "metadata": {
    "ExecuteTime": {
     "end_time": "2018-01-23T04:18:14.879103Z",
     "start_time": "2018-01-23T04:18:14.288547Z"
    }
   },
   "outputs": [
    {
     "data": {
      "image/png": "[encoded data removed]",
      "text/latex": [
       "$$\\left [ \\left \\{ C_{0} : \\frac{c y_{0} - d + y_{0}}{c + 1}\\right \\}\\right ]$$"
      ],
      "text/plain": [
       "⎡⎧    c⋅y₀ - d + y₀⎫⎤\n",
       "⎢⎨C₀: ─────────────⎬⎥\n",
       "⎣⎩        c + 1    ⎭⎦"
      ]
     },
     "execution_count": 61,
     "metadata": {},
     "output_type": "execute_result"
    }
   ],
   "source": [
    "C_sol = sym.solve(C_eq)\n",
    "C_sol"
   ]
  },
  {
   "cell_type": "code",
   "execution_count": 250,
   "metadata": {
    "ExecuteTime": {
     "end_time": "2018-01-23T04:18:15.304687Z",
     "start_time": "2018-01-23T04:18:14.880091Z"
    }
   },
   "outputs": [
    {
     "data": {
      "image/png": "[encoded data removed]",
      "text/latex": [
       "$$\\frac{d}{c + 1} + \\frac{\\left(- c\\right)^{n}}{c + 1} \\left(c y_{0} - d + y_{0}\\right)$$"
      ],
      "text/plain": [
       "            n                \n",
       "  d     (-c) ⋅(c⋅y₀ - d + y₀)\n",
       "───── + ─────────────────────\n",
       "c + 1           c + 1        "
      ]
     },
     "execution_count": 250,
     "metadata": {},
     "output_type": "execute_result"
    }
   ],
   "source": [
    "ode_sol.subs(C_sol[0])"
   ]
  },
  {
   "cell_type": "code",
   "execution_count": null,
   "metadata": {
    "collapsed": true
   },
   "outputs": [],
   "source": []
  },
  {
   "cell_type": "markdown",
   "metadata": {},
   "source": [
    "## Differential equations"
   ]
  },
  {
   "cell_type": "code",
   "execution_count": 62,
   "metadata": {
    "ExecuteTime": {
     "end_time": "2018-01-23T04:18:15.308197Z",
     "start_time": "2018-01-23T04:18:15.305675Z"
    },
    "collapsed": true
   },
   "outputs": [],
   "source": [
    "a, t, y0 = sym.symbols(\"a t y0\")\n",
    "y = sym.Function(\"y\")"
   ]
  },
  {
   "cell_type": "code",
   "execution_count": 63,
   "metadata": {
    "ExecuteTime": {
     "end_time": "2018-01-23T04:18:15.827044Z",
     "start_time": "2018-01-23T04:18:15.309183Z"
    }
   },
   "outputs": [
    {
     "data": {
      "image/png": "[encoded data removed]",
      "text/latex": [
       "$$\\frac{d}{d t} y{\\left (t \\right )} = a y{\\left (t \\right )}$$"
      ],
      "text/plain": [
       "d                \n",
       "──(y(t)) = a⋅y(t)\n",
       "dt               "
      ]
     },
     "execution_count": 63,
     "metadata": {},
     "output_type": "execute_result"
    }
   ],
   "source": [
    "ode=sym.Eq(y(t).diff(t), a*y(t))\n",
    "ode"
   ]
  },
  {
   "cell_type": "markdown",
   "metadata": {},
   "source": [
    "- y: money in bank\n",
    "- a: interest rate, for example 6%\n",
    "- t: time year"
   ]
  },
  {
   "cell_type": "code",
   "execution_count": 66,
   "metadata": {
    "ExecuteTime": {
     "end_time": "2018-01-23T04:18:16.450396Z",
     "start_time": "2018-01-23T04:18:15.828549Z"
    }
   },
   "outputs": [
    {
     "data": {
      "image/png": "[encoded data removed]",
      "text/latex": [
       "$$y{\\left (t \\right )} = C_{1} e^{a t}$$"
      ],
      "text/plain": [
       "           a⋅t\n",
       "y(t) = C₁⋅ℯ   "
      ]
     },
     "execution_count": 66,
     "metadata": {},
     "output_type": "execute_result"
    }
   ],
   "source": [
    "ode_sol=sym.dsolve(ode, y(t), hint=\"separable\")\n",
    "ode_sol"
   ]
  },
  {
   "cell_type": "code",
   "execution_count": 67,
   "metadata": {
    "ExecuteTime": {
     "end_time": "2018-01-23T04:18:16.453906Z",
     "start_time": "2018-01-23T04:18:16.451400Z"
    },
    "collapsed": true
   },
   "outputs": [],
   "source": [
    "ics = {y(0): y0}"
   ]
  },
  {
   "cell_type": "code",
   "execution_count": 68,
   "metadata": {
    "ExecuteTime": {
     "end_time": "2018-01-23T04:18:16.477496Z",
     "start_time": "2018-01-23T04:18:16.455410Z"
    },
    "collapsed": true
   },
   "outputs": [],
   "source": [
    "def apply_ics(sol, ics, x, known_params):\n",
    "    \"\"\"\n",
    "    Apply the initial conditions (ics), given as a dictionary on\n",
    "    the form ics = {y(0): y0: y(x).diff(x).subs(x, 0): yp0, ...}\n",
    "    to the solution of the ODE with indepdendent variable x.\n",
    "    The undetermined integration constants C1, C2, ... are extracted\n",
    "    from the free symbols of the ODE solution, excluding symbols in\n",
    "    the known_params list.\n",
    "    \"\"\"\n",
    "    free_params = sol.free_symbols - set(known_params)\n",
    "    eqs = [(sol.lhs.diff(x, n) - sol.rhs.diff(x, n)).subs(x, 0).subs(ics)\n",
    "           for n in range(len(ics))]\n",
    "    sol_params = sym.solve(eqs, free_params)\n",
    "    return sol.subs(sol_params)"
   ]
  },
  {
   "cell_type": "code",
   "execution_count": 69,
   "metadata": {
    "ExecuteTime": {
     "end_time": "2018-01-23T04:18:16.989413Z",
     "start_time": "2018-01-23T04:18:16.478472Z"
    }
   },
   "outputs": [
    {
     "data": {
      "image/png": "[encoded data removed]",
      "text/latex": [
       "$$y{\\left (t \\right )} = y_{0} e^{a t}$$"
      ],
      "text/plain": [
       "           a⋅t\n",
       "y(t) = y₀⋅ℯ   "
      ]
     },
     "execution_count": 69,
     "metadata": {},
     "output_type": "execute_result"
    }
   ],
   "source": [
    "apply_ics(ode_sol, ics, t, [a])"
   ]
  },
  {
   "cell_type": "markdown",
   "metadata": {},
   "source": [
    "## Integration"
   ]
  },
  {
   "cell_type": "code",
   "execution_count": 71,
   "metadata": {
    "ExecuteTime": {
     "end_time": "2018-01-23T04:18:17.511081Z",
     "start_time": "2018-01-23T04:18:16.990418Z"
    }
   },
   "outputs": [
    {
     "data": {
      "image/png": "[encoded data removed]",
      "text/latex": [
       "$$\\sqrt{\\pi}$$"
      ],
      "text/plain": [
       "√π"
      ]
     },
     "execution_count": 71,
     "metadata": {},
     "output_type": "execute_result"
    }
   ],
   "source": [
    "from sympy import oo\n",
    "x = sym.symbols('x')\n",
    "sym.integrate(sym.exp(-x**2), (x, -oo, oo))"
   ]
  },
  {
   "cell_type": "code",
   "execution_count": 72,
   "metadata": {},
   "outputs": [
    {
     "data": {
      "image/png": "[encoded data removed]",
      "text/latex": [
       "$$e^{- x^{2}}$$"
      ],
      "text/plain": [
       "   2\n",
       " -x \n",
       "ℯ   "
      ]
     },
     "execution_count": 72,
     "metadata": {},
     "output_type": "execute_result"
    }
   ],
   "source": [
    "sym.exp(-x**2)"
   ]
  },
  {
   "cell_type": "markdown",
   "metadata": {},
   "source": [
    "`oo` is the SymPy notation for inifinity."
   ]
  },
  {
   "cell_type": "code",
   "execution_count": 73,
   "metadata": {
    "ExecuteTime": {
     "end_time": "2018-01-23T04:18:17.515091Z",
     "start_time": "2018-01-23T04:18:17.512084Z"
    },
    "collapsed": true
   },
   "outputs": [],
   "source": [
    "x, y, z = sym.symbols(\"x,y,z\")\n",
    "f = sym.sin(x*y) + sym.cos(y*x)\n"
   ]
  },
  {
   "cell_type": "code",
   "execution_count": 74,
   "metadata": {
    "ExecuteTime": {
     "end_time": "2018-01-23T04:18:17.984878Z",
     "start_time": "2018-01-23T04:18:17.516596Z"
    }
   },
   "outputs": [
    {
     "data": {
      "text/latex": [
       "$$- \\begin{cases} -1 & \\text{for}\\: y = 0 \\\\- \\frac{1}{y} \\sin{\\left (y \\right )} & \\text{otherwise} \\end{cases} + \\begin{cases} 1 & \\text{for}\\: y = 0 \\\\\\frac{1}{y} \\sin{\\left (y \\right )} & \\text{otherwise} \\end{cases}$$"
      ],
      "text/plain": [
       "  ⎛⎧   -1     for y = 0⎞   ⎛⎧  1     for y = 0⎞\n",
       "  ⎜⎪                   ⎟   ⎜⎪                 ⎟\n",
       "- ⎜⎨-sin(y)            ⎟ + ⎜⎨sin(y)           ⎟\n",
       "  ⎜⎪────────  otherwise⎟   ⎜⎪──────  otherwise⎟\n",
       "  ⎝⎩   y               ⎠   ⎝⎩  y              ⎠"
      ]
     },
     "execution_count": 74,
     "metadata": {},
     "output_type": "execute_result"
    }
   ],
   "source": [
    "sym.integrate(f, (x, -1, 1))"
   ]
  },
  {
   "cell_type": "markdown",
   "metadata": {},
   "source": [
    "### Sums and products\n",
    "We can evaluate sums and products using the functions: 'Sum'"
   ]
  },
  {
   "cell_type": "code",
   "execution_count": 75,
   "metadata": {
    "ExecuteTime": {
     "end_time": "2018-01-23T04:18:18.489268Z",
     "start_time": "2018-01-23T04:18:17.985881Z"
    }
   },
   "outputs": [
    {
     "data": {
      "image/png": "[encoded data removed]",
      "text/latex": [
       "$$\\sum_{n=1}^{10} \\frac{1}{n^{2}}$$"
      ],
      "text/plain": [
       "  10    \n",
       " ____   \n",
       " ╲      \n",
       "  ╲   1 \n",
       "   ╲  ──\n",
       "   ╱   2\n",
       "  ╱   n \n",
       " ╱      \n",
       " ‾‾‾‾   \n",
       "n = 1   "
      ]
     },
     "execution_count": 75,
     "metadata": {},
     "output_type": "execute_result"
    }
   ],
   "source": [
    "sym.Sum(1/n**2, (n, 1, 10))"
   ]
  },
  {
   "cell_type": "code",
   "execution_count": 76,
   "metadata": {
    "ExecuteTime": {
     "end_time": "2018-01-23T04:18:18.901364Z",
     "start_time": "2018-01-23T04:18:18.490270Z"
    }
   },
   "outputs": [
    {
     "data": {
      "image/png": "[encoded data removed]",
      "text/latex": [
       "$$\\prod_{n=1}^{10} n$$"
      ],
      "text/plain": [
       "  10   \n",
       "┬───┬  \n",
       "│   │ n\n",
       "│   │  \n",
       "n = 1  "
      ]
     },
     "execution_count": 76,
     "metadata": {},
     "output_type": "execute_result"
    }
   ],
   "source": [
    "sym.Product(n, (n, 1, 10)) # 10!"
   ]
  },
  {
   "cell_type": "code",
   "execution_count": null,
   "metadata": {
    "collapsed": true
   },
   "outputs": [],
   "source": []
  },
  {
   "cell_type": "markdown",
   "metadata": {
    "collapsed": true
   },
   "source": [
    "## Limits \n",
    "Limits can be evaluated using the `limit` function. For example, "
   ]
  },
  {
   "cell_type": "code",
   "execution_count": 77,
   "metadata": {},
   "outputs": [
    {
     "data": {
      "image/png": "[encoded data removed]",
      "text/latex": [
       "$$1$$"
      ],
      "text/plain": [
       "1"
      ]
     },
     "execution_count": 77,
     "metadata": {},
     "output_type": "execute_result"
    }
   ],
   "source": [
    "sym.limit(sym.sin(x)/x, x, 0)"
   ]
  },
  {
   "cell_type": "markdown",
   "metadata": {},
   "source": [
    "We can change the direction from which we approach the limiting point using the `dir` keywork argument:"
   ]
  },
  {
   "cell_type": "code",
   "execution_count": 78,
   "metadata": {},
   "outputs": [
    {
     "data": {
      "image/png": "[encoded data removed]",
      "text/latex": [
       "$$\\infty$$"
      ],
      "text/plain": [
       "∞"
      ]
     },
     "execution_count": 78,
     "metadata": {},
     "output_type": "execute_result"
    }
   ],
   "source": [
    "sym.limit(1/x, x, 0, dir=\"+\")"
   ]
  },
  {
   "cell_type": "code",
   "execution_count": 79,
   "metadata": {},
   "outputs": [
    {
     "data": {
      "image/png": "[encoded data removed]",
      "text/latex": [
       "$$-\\infty$$"
      ],
      "text/plain": [
       "-∞"
      ]
     },
     "execution_count": 79,
     "metadata": {},
     "output_type": "execute_result"
    }
   ],
   "source": [
    "sym.limit(1/x, x, 0, dir=\"-\")"
   ]
  },
  {
   "cell_type": "markdown",
   "metadata": {},
   "source": [
    "## Series expansion\n",
    "Series expansion is also one of the most useful features of a CAS. In SymPy we can perform a series expansion of an expression using the `series` function:\n",
    "\n",
    "https://en.wikipedia.org/wiki/Big_O_notation"
   ]
  },
  {
   "cell_type": "code",
   "execution_count": 80,
   "metadata": {},
   "outputs": [
    {
     "data": {
      "image/png": "[encoded data removed]",
      "text/latex": [
       "$$1 + x + \\frac{x^{2}}{2} + \\frac{x^{3}}{6} + \\frac{x^{4}}{24} + \\frac{x^{5}}{120} + \\mathcal{O}\\left(x^{6}\\right)$$"
      ],
      "text/plain": [
       "         2    3    4     5        \n",
       "        x    x    x     x     ⎛ 6⎞\n",
       "1 + x + ── + ── + ── + ─── + O⎝x ⎠\n",
       "        2    6    24   120        "
      ]
     },
     "execution_count": 80,
     "metadata": {},
     "output_type": "execute_result"
    }
   ],
   "source": [
    "sym.series(sym.exp(x), x)"
   ]
  },
  {
   "cell_type": "markdown",
   "metadata": {},
   "source": [
    "By default it expands the expression around $x=0$, but we can expand around any value of $x$ by explicitly include a value in the function call:"
   ]
  },
  {
   "cell_type": "code",
   "execution_count": 81,
   "metadata": {},
   "outputs": [
    {
     "data": {
      "image/png": "[encoded data removed]",
      "text/latex": [
       "$$e + e \\left(x - 1\\right) + \\frac{e}{2} \\left(x - 1\\right)^{2} + \\frac{e}{6} \\left(x - 1\\right)^{3} + \\frac{e}{24} \\left(x - 1\\right)^{4} + \\frac{e}{120} \\left(x - 1\\right)^{5} + \\mathcal{O}\\left(\\left(x - 1\\right)^{6}; x\\rightarrow1\\right)$$"
      ],
      "text/plain": [
       "                         2            3            4            5             \n",
       "                ℯ⋅(x - 1)    ℯ⋅(x - 1)    ℯ⋅(x - 1)    ℯ⋅(x - 1)     ⎛       6\n",
       "ℯ + ℯ⋅(x - 1) + ────────── + ────────── + ────────── + ────────── + O⎝(x - 1) \n",
       "                    2            6            24          120                 \n",
       "\n",
       "        \n",
       "       ⎞\n",
       "; x → 1⎠\n",
       "        "
      ]
     },
     "execution_count": 81,
     "metadata": {},
     "output_type": "execute_result"
    }
   ],
   "source": [
    "sym.series(sym.exp(x), x, 1)"
   ]
  },
  {
   "cell_type": "markdown",
   "metadata": {},
   "source": [
    "And we can explicitly define to which order the series expansion should be carried out:"
   ]
  },
  {
   "cell_type": "code",
   "execution_count": 82,
   "metadata": {},
   "outputs": [
    {
     "data": {
      "image/png": "[encoded data removed]",
      "text/latex": [
       "$$1 + x + \\frac{x^{2}}{2} + \\frac{x^{3}}{6} + \\frac{x^{4}}{24} + \\frac{x^{5}}{120} + \\frac{x^{6}}{720} + \\frac{x^{7}}{5040} + \\frac{x^{8}}{40320} + \\frac{x^{9}}{362880} + \\mathcal{O}\\left(x^{10}\\right)$$"
      ],
      "text/plain": [
       "         2    3    4     5     6     7       8       9           \n",
       "        x    x    x     x     x     x       x       x       ⎛ 10⎞\n",
       "1 + x + ── + ── + ── + ─── + ─── + ──── + ───── + ────── + O⎝x  ⎠\n",
       "        2    6    24   120   720   5040   40320   362880         "
      ]
     },
     "execution_count": 82,
     "metadata": {},
     "output_type": "execute_result"
    }
   ],
   "source": [
    "sym.series(sym.exp(x), x, 0,10)"
   ]
  },
  {
   "cell_type": "markdown",
   "metadata": {},
   "source": [
    "The series expansion includes the order of the approximation, which is very useful for keeping track of the order of validity when we do calculations with series expansions of different order:"
   ]
  },
  {
   "cell_type": "code",
   "execution_count": 273,
   "metadata": {},
   "outputs": [
    {
     "data": {
      "image/png": "[encoded data removed]",
      "text/latex": [
       "$$1 - \\frac{x^{2}}{2} + \\frac{x^{4}}{24} + \\mathcal{O}\\left(x^{5}\\right)$$"
      ],
      "text/plain": [
       "     2    4        \n",
       "    x    x     ⎛ 5⎞\n",
       "1 - ── + ── + O⎝x ⎠\n",
       "    2    24        "
      ]
     },
     "execution_count": 273,
     "metadata": {},
     "output_type": "execute_result"
    }
   ],
   "source": [
    "s1 = sym.cos(x).series(x, 0, 5)\n",
    "s1"
   ]
  },
  {
   "cell_type": "code",
   "execution_count": 274,
   "metadata": {},
   "outputs": [
    {
     "data": {
      "image/png": "[encoded data removed]",
      "text/latex": [
       "$$x + \\mathcal{O}\\left(x^{2}\\right)$$"
      ],
      "text/plain": [
       "     ⎛ 2⎞\n",
       "x + O⎝x ⎠"
      ]
     },
     "execution_count": 274,
     "metadata": {},
     "output_type": "execute_result"
    }
   ],
   "source": [
    "s2 = sym.sin(x).series(x, 0, 2)\n",
    "s2"
   ]
  },
  {
   "cell_type": "code",
   "execution_count": 275,
   "metadata": {},
   "outputs": [
    {
     "data": {
      "image/png": "[encoded data removed]",
      "text/latex": [
       "$$x + \\mathcal{O}\\left(x^{2}\\right)$$"
      ],
      "text/plain": [
       "     ⎛ 2⎞\n",
       "x + O⎝x ⎠"
      ]
     },
     "execution_count": 275,
     "metadata": {},
     "output_type": "execute_result"
    }
   ],
   "source": [
    "sym.expand(s1 * s2)"
   ]
  },
  {
   "cell_type": "markdown",
   "metadata": {},
   "source": [
    "If we want to get rid of the order information we can use the `removeO` method:"
   ]
  },
  {
   "cell_type": "code",
   "execution_count": 276,
   "metadata": {},
   "outputs": [
    {
     "data": {
      "image/png": "[encoded data removed]",
      "text/latex": [
       "$$\\frac{x^{5}}{24} - \\frac{x^{3}}{2} + x$$"
      ],
      "text/plain": [
       " 5    3    \n",
       "x    x     \n",
       "── - ── + x\n",
       "24   2     "
      ]
     },
     "execution_count": 276,
     "metadata": {},
     "output_type": "execute_result"
    }
   ],
   "source": [
    "sym.expand(s1.removeO() * s2.removeO())"
   ]
  },
  {
   "cell_type": "markdown",
   "metadata": {},
   "source": [
    "But note that this is not the correct expansion of $\\cos(x)\\sin(x)$ to $5$th order:"
   ]
  },
  {
   "cell_type": "code",
   "execution_count": 277,
   "metadata": {},
   "outputs": [
    {
     "data": {
      "image/png": "[encoded data removed]",
      "text/latex": [
       "$$x - \\frac{2 x^{3}}{3} + \\frac{2 x^{5}}{15} + \\mathcal{O}\\left(x^{6}\\right)$$"
      ],
      "text/plain": [
       "       3      5        \n",
       "    2⋅x    2⋅x     ⎛ 6⎞\n",
       "x - ──── + ──── + O⎝x ⎠\n",
       "     3      15         "
      ]
     },
     "execution_count": 277,
     "metadata": {},
     "output_type": "execute_result"
    }
   ],
   "source": [
    "(sym.cos(x)*sym.sin(x)).series(x, 0, 6)"
   ]
  },
  {
   "cell_type": "markdown",
   "metadata": {},
   "source": [
    "Check the order of a function"
   ]
  },
  {
   "cell_type": "code",
   "execution_count": 278,
   "metadata": {},
   "outputs": [
    {
     "data": {
      "image/png": "[encoded data removed]",
      "text/latex": [
       "$$\\mathcal{O}\\left(x\\right)$$"
      ],
      "text/plain": [
       "O(x)"
      ]
     },
     "execution_count": 278,
     "metadata": {},
     "output_type": "execute_result"
    }
   ],
   "source": [
    "sym.O(x+x**2)"
   ]
  },
  {
   "cell_type": "code",
   "execution_count": 1,
   "metadata": {
    "ExecuteTime": {
     "end_time": "2018-02-23T07:24:22.063759Z",
     "start_time": "2018-02-23T07:24:22.011120Z"
    }
   },
   "outputs": [
    {
     "data": {
      "text/html": [
       "<style>\n",
       "    @font-face {\n",
       "        font-family: \"Computer Modern\";\n",
       "        src: url('http://mirrors.ctan.org/fonts/cm-unicode/fonts/otf/cmunss.otf');\n",
       "    }\n",
       "    div.cell{\n",
       "        width: 90%;\n",
       "/*        margin-left:auto;*/\n",
       "/*        margin-right:auto;*/\n",
       "    }\n",
       "    ul {\n",
       "        line-height: 145%;\n",
       "        font-size: 90%;\n",
       "    }\n",
       "    li {\n",
       "        margin-bottom: 1em;\n",
       "    }\n",
       "    h1 {\n",
       "        font-family: Helvetica, serif;\n",
       "        color: rgb(0, 80, 120);\n",
       "    }\n",
       "    h2 {\n",
       "        color: rgb(0,100,110);\n",
       "    }\n",
       "    h3 {\n",
       "        color: rgb(94,127,192);\n",
       "    }\n",
       "    div.text_cell_render{\n",
       "        font-family: Computer Modern, \"Helvetica Neue\", Arial, Helvetica, Geneva, sans-serif;\n",
       "        line-height: 145%;\n",
       "        font-size: 130%;\n",
       "        width: 90%;\n",
       "        margin-left:auto;\n",
       "        margin-right:auto;\n",
       "    }\n",
       "    .CodeMirror{\n",
       "            font-family: \"Source Code Pro\", source-code-pro,Consolas, monospace;\n",
       "    }\n",
       "/*    .prompt{\n",
       "        display: None;\n",
       "    }*/\n",
       "    .text_cell_render h5 {\n",
       "        font-weight: 300;\n",
       "        font-size: 16pt;\n",
       "        color: #4057A1;\n",
       "        font-style: italic;\n",
       "        margin-bottom: 0.5em;\n",
       "        margin-top: 0.5em;\n",
       "        display: block;\n",
       "    }\n",
       "\n",
       "    .warning{\n",
       "        color: rgb( 240, 20, 20 )\n",
       "        }\n",
       "</style>"
      ],
      "text/plain": [
       "<IPython.core.display.HTML object>"
      ]
     },
     "execution_count": 1,
     "metadata": {},
     "output_type": "execute_result"
    }
   ],
   "source": [
    "from IPython.core.display import HTML, Image\n",
    "css_file = '../../custom.css'\n",
    "HTML(open(css_file, 'r').read())"
   ]
  },
  {
   "cell_type": "code",
   "execution_count": null,
   "metadata": {
    "collapsed": true
   },
   "outputs": [],
   "source": []
  }
 ],
 "metadata": {
  "kernelspec": {
   "display_name": "Python 3",
   "language": "python",
   "name": "python3"
  },
  "language_info": {
   "codemirror_mode": {
    "name": "ipython",
    "version": 3
   },
   "file_extension": ".py",
   "mimetype": "text/x-python",
   "name": "python",
   "nbconvert_exporter": "python",
   "pygments_lexer": "ipython3",
   "version": "3.6.4"
  }
 },
 "nbformat": 4,
 "nbformat_minor": 2
}
