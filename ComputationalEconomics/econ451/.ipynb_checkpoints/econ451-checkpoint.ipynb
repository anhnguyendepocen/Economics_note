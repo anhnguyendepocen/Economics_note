{
 "cells": [
  {
   "cell_type": "markdown",
   "metadata": {},
   "source": [
    "\n",
    "\n",
    "\n",
    "http://rri.wvu.edu/cgecourse/index.htm\n",
    "\n",
    "\n",
    "http://agecon2.tamu.edu/people/faculty/mccarl-bruce/685/topic6-trade.pdf"
   ]
  },
  {
   "cell_type": "code",
   "execution_count": null,
   "metadata": {
    "collapsed": true
   },
   "outputs": [],
   "source": [
    "from IPython.display import YouTubeVideo\n",
    "YouTubeVideo('erEChHAv6_c')"
   ]
  },
  {
   "cell_type": "code",
   "execution_count": null,
   "metadata": {
    "collapsed": true
   },
   "outputs": [],
   "source": [
    "from IPython.display import YouTubeVideo\n",
    "YouTubeVideo('3-9pGY6aKhg')\n",
    "\n",
    "#http://www.agrodep.org/model/gams-training-toolbox"
   ]
  },
  {
   "cell_type": "markdown",
   "metadata": {
    "collapsed": true
   },
   "source": [
    "# CGE in GAMS\n",
    "\n",
    "- calibration\n",
    " - data\n",
    " - benchmark values for variables C0, K0, Y0\n",
    " - exogenous variables\n",
    " - price, numeraire\n",
    " - parameters: alpha, A, \n",
    " - order matters: KS0,LS0->\n",
    " - equillibrium\n",
    " - it is necessary for us to verify the model by examining whether or not the SAM data are exactly produced as a base run equilibrium solution.\n",
    " - we confirm the reproduction of the SAM data by calibration, we can begin the simulations, where counterfactual values are assumed for some of the constants in the model to examine the impact of exogenous or policy shocks on the economy\n",
    "\n",
    "- model\n",
    " - definition of variables\n",
    " - definition of equations\n",
    " - extra variables to varify the satisfication of the Walras law\n",
    "\n",
    "- initialization\n",
    " - common practice in CGE modeling to initialize each variable at its benchmark value\n",
    " - .L suffix for endogenous variables\n",
    " - .FX suffix for exogenous variables\n",
    "\n",
    "- resolution\n",
    " - MODEL\n",
    " - SOLVE CES USING CNS; * constrained nonlinear system\n",
    " - Infeasibility : 0\n",
    " - Feasible solution to a square system\n",
    " - LEVEL replicate the benchmark values\n",
    " \n",
    "- simulation\n",
    " - increase of decrease the exogenous variables\n",
    " - Infeasibility is not 0 anymore\n",
    " - LEVEL is different from benchmark  value\n",
    " - extra value still varify the Walras law\n",
    " - the model encompasses the coefficients and exogenous variables calibrated to a given social accounting matrix (SAM) and is solved without any shocks, the solution of this model is called the base run equilibrium. which can be considered a reference equilibrium for the comparative statics.\n",
    " - In contrast to the base run equilibrium solution, the solutions of the same model with different shocks applied to certain coefficients or exogenous variables are called counterfactual equilibrium solutions\n",
    " \n",
    " \n",
    " \n",
    " \n",
    " \n",
    " \n",
    "- sensitivity analysis\n",
    " - Sensitivity analysis is used to demonstrate the robustness of simulation results by varying parameters that may significantly affect the results. As the CGE models encompass structures describing various economic activities in an economy, many parameters (coefficients and exogenous variables) are included.\n",
    " - we have to focus on certain parameters relevant to the objective of our CGE analysis and the key model features that are expected to affect the results most significantly. For example, if we conduct a trade analysis, it is well known that the Armington constant elasticity of substitution (CES) and constant elasticity of transformation (CET) structures should be of primary importance in conducting sensitivity analysis.\n",
    " - Suppose we are simulating the abolition of import tariffs and analysing its impact, particularly on sectoral output. In the case of trade analysis, it is widely known that the elasticity of substitution/transformation in the CES/CET functions is one of the key parameters that can significantly affect the simulation results. By increasing or decreasing the value of this parameter, we can examine the range over which output changes.\n",
    " \n",
    " - After specifying which parameter is to be examined, we have to establish criteria, based on which we can judge the robustness of our simulation results. To evaluate the robustness of the simulation results, we set, for example, the following two criteria:\n",
    "    - Criterion 1: whether the signs of the sectoral output changes are unchanged in all cases, \n",
    "    - Criterion 2: whether the ordering of the output changes among sectors is maintained in all cases.\n",
    "    - When the results of the sensitivity analysis satisfy both viewpoints, we may well conclude that simulation results are robust. \n",
    "    - If only one of the two is satisfied, robustness is less evident"
   ]
  },
  {
   "cell_type": "code",
   "execution_count": null,
   "metadata": {
    "collapsed": true
   },
   "outputs": [],
   "source": []
  }
 ],
 "metadata": {
  "kernelspec": {
   "display_name": "Python 3",
   "language": "python",
   "name": "python3"
  },
  "language_info": {
   "codemirror_mode": {
    "name": "ipython",
    "version": 3
   },
   "file_extension": ".py",
   "mimetype": "text/x-python",
   "name": "python",
   "nbconvert_exporter": "python",
   "pygments_lexer": "ipython3",
   "version": "3.6.2"
  }
 },
 "nbformat": 4,
 "nbformat_minor": 2
}
